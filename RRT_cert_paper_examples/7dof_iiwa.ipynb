{
 "cells": [
  {
   "cell_type": "code",
   "execution_count": 1,
   "metadata": {},
   "outputs": [],
   "source": [
    "%load_ext autoreload"
   ]
  },
  {
   "cell_type": "code",
   "execution_count": 2,
   "metadata": {},
   "outputs": [],
   "source": [
    "import numpy as np\n",
    "from functools import partial\n",
    "import visualization_utils as viz_utils\n",
    "from iris_plant_visualizer import IrisPlantVisualizer\n",
    "import ipywidgets as widgets\n",
    "from IPython.display import display\n",
    "from scipy.linalg import block_diag\n",
    "import matplotlib.pyplot as plt\n",
    "from pathlib import Path\n",
    "import os"
   ]
  },
  {
   "cell_type": "code",
   "execution_count": 3,
   "metadata": {},
   "outputs": [],
   "source": [
    "#pydrake imports\n",
    "from pydrake.common import FindResourceOrThrow\n",
    "from pydrake.multibody.parsing import Parser\n",
    "from pydrake.multibody.plant import AddMultibodyPlantSceneGraph\n",
    "from pydrake.systems.framework import DiagramBuilder\n",
    "from pydrake.geometry import Role, GeometrySet, CollisionFilterDeclaration\n",
    "from pydrake.all import RigidTransform, RollPitchYaw, RevoluteJoint\n",
    "from pydrake.all import RotationMatrix\n",
    "import pydrake.symbolic as sym\n",
    "from pydrake.solvers import MosekSolver, CommonSolverOption, SolverOptions, ScsSolver\n",
    "\n",
    "import time\n",
    "\n",
    "from pydrake.all import RationalForwardKinematics\n",
    "from pydrake.geometry.optimization import HPolyhedron, Hyperellipsoid\n",
    "from pydrake.geometry.optimization_dev import CspaceFreePath\n",
    "from pydrake.all import StartMeshcat\n"
   ]
  },
  {
   "cell_type": "code",
   "execution_count": 4,
   "metadata": {},
   "outputs": [],
   "source": [
    "from pydrake.geometry import (\n",
    "    AddContactMaterial, Box, CollisionFilterDeclaration, Cylinder, GeometrySet,\n",
    "    IllustrationProperties, MakePhongIllustrationProperties, Meshcat,\n",
    "    MeshcatVisualizer, MeshcatVisualizerParams, ProximityProperties, Role,\n",
    "    RoleAssign, SceneGraph, SceneGraphInspector)"
   ]
  },
  {
   "cell_type": "code",
   "execution_count": 5,
   "metadata": {},
   "outputs": [],
   "source": [
    "import logging\n",
    "drake_logger = logging.getLogger(\"drake\")\n",
    "# drake_logger.setLevel(logging.DEBUG)"
   ]
  },
  {
   "cell_type": "markdown",
   "metadata": {},
   "source": [
    "# Build and set up the visualization the plant and the visualization of the C-space obstacle\n",
    "\n",
    "Note that running this cell multiple times will establish multiple meshcat instances which can fill up your memory. It is a good idea to call \"pkill -f meshcat\" from the command line before re-running this cell\n"
   ]
  },
  {
   "cell_type": "code",
   "execution_count": 6,
   "metadata": {},
   "outputs": [
    {
     "name": "stderr",
     "output_type": "stream",
     "text": [
      "INFO:drake:Meshcat listening for connections at http://localhost:7002\n"
     ]
    },
    {
     "name": "stdout",
     "output_type": "stream",
     "text": [
      "Time to construct line certifier = 7.866169452667236s\n"
     ]
    }
   ],
   "source": [
    "builder = DiagramBuilder()\n",
    "meshcat = StartMeshcat()\n",
    "plant, scene_graph = AddMultibodyPlantSceneGraph(builder, time_step=0.001)\n",
    "model_file = FindResourceOrThrow(\"drake/manipulation/models/iiwa_description/iiwa7/iiwa7_with_box_collision.sdf\")\n",
    "box_file = FindResourceOrThrow(\"drake/RRT_cert_paper_examples/assets/shelves.sdf\")\n",
    "\n",
    "\n",
    "parser = Parser(plant)\n",
    "\n",
    "\n",
    "models = []\n",
    "models.append(Parser(plant, scene_graph).AddModelFromFile(model_file))\n",
    "models.append(Parser(plant, scene_graph).AddModelFromFile(box_file))\n",
    "\n",
    "sp = 0.0\n",
    "x_fac = 0.5\n",
    "locs = [ [0,0,0], \n",
    "        [x_fac, 1.4*sp,0.4], [x_fac,-1.4*sp,0.4], [-x_fac,-1.4*sp,0.4], [-x_fac,1.4,0.4], \n",
    "        [0.0 ,0 , 0.95], [0.0 ,0 , -0.05]] \n",
    "idx = 0\n",
    "for model in models:\n",
    "    plant.WeldFrames(plant.world_frame(), plant.get_body(plant.GetBodyIndices(model)[0]).body_frame(),\n",
    "                     RigidTransform(locs[idx]))\n",
    "    idx +=1\n",
    "\n",
    "\n",
    "plant.Finalize()\n",
    "\n",
    "        \n",
    "# construct the RationalForwardKinematics of this plant. This object handles the\n",
    "# computations for the forward kinematics in the tangent-configuration space\n",
    "Ratfk = RationalForwardKinematics(plant)\n",
    "\n",
    "# the point about which we will take the stereographic projections\n",
    "q_star = np.zeros(plant.num_positions())\n",
    "\n",
    "do_viz = True\n",
    "\n",
    "# The object we will use to perform our certification.\n",
    "t0 = time.time()\n",
    "cspace_free_path = CspaceFreePath(plant, scene_graph, q_star, maximum_path_degree = 1, plane_order = 1)\n",
    "t1 = time.time()\n",
    "print(f\"Time to construct line certifier = {t1-t0}s\")\n",
    "\n",
    "# This line builds the visualization. Change the viz_role to Role.kIllustration if you\n",
    "# want to see the plant with its illustrated geometry or to Role.kProximity if you want\n",
    "# to see the plant with the collision geometries.\n",
    "# meshcat_params = MeshcatVisualizerParams()\n",
    "# meshcat_params.role = Role.kIllustration\n",
    "visualizer = MeshcatVisualizer.AddToBuilder(\n",
    "    builder, scene_graph, meshcat)#, meshcat_params)\n",
    "meshcat.SetProperty(\"/Background\", \"top_color\", [0.8, 0.8, 0.6])\n",
    "meshcat.SetProperty(\"/Background\", \"bottom_color\",\n",
    "                         [0.9, 0.9, 0.9])\n",
    "diagram = builder.Build()"
   ]
  },
  {
   "cell_type": "code",
   "execution_count": null,
   "metadata": {},
   "outputs": [],
   "source": []
  },
  {
   "cell_type": "code",
   "execution_count": 7,
   "metadata": {},
   "outputs": [
    {
     "ename": "NameError",
     "evalue": "name 'q_low' is not defined",
     "output_type": "error",
     "traceback": [
      "\u001b[0;31m---------------------------------------------------------------------------\u001b[0m",
      "\u001b[0;31mNameError\u001b[0m                                 Traceback (most recent call last)",
      "\u001b[0;32m/tmp/ipykernel_46691/4286603236.py\u001b[0m in \u001b[0;36m<module>\u001b[0;34m\u001b[0m\n\u001b[1;32m      1\u001b[0m \u001b[0;31m#compute limits in s-space\u001b[0m\u001b[0;34m\u001b[0m\u001b[0;34m\u001b[0m\u001b[0m\n\u001b[1;32m      2\u001b[0m \u001b[0mlimits_s\u001b[0m \u001b[0;34m=\u001b[0m \u001b[0;34m[\u001b[0m\u001b[0;34m]\u001b[0m\u001b[0;34m\u001b[0m\u001b[0;34m\u001b[0m\u001b[0m\n\u001b[0;32m----> 3\u001b[0;31m \u001b[0;32mfor\u001b[0m \u001b[0mq\u001b[0m \u001b[0;32min\u001b[0m \u001b[0;34m[\u001b[0m\u001b[0mq_low\u001b[0m\u001b[0;34m,\u001b[0m \u001b[0mq_high\u001b[0m\u001b[0;34m]\u001b[0m\u001b[0;34m:\u001b[0m\u001b[0;34m\u001b[0m\u001b[0;34m\u001b[0m\u001b[0m\n\u001b[0m\u001b[1;32m      4\u001b[0m     \u001b[0mlimits_s\u001b[0m\u001b[0;34m.\u001b[0m\u001b[0mappend\u001b[0m\u001b[0;34m(\u001b[0m\u001b[0mRatfk\u001b[0m\u001b[0;34m.\u001b[0m\u001b[0mComputeSValue\u001b[0m\u001b[0;34m(\u001b[0m\u001b[0mnp\u001b[0m\u001b[0;34m.\u001b[0m\u001b[0marray\u001b[0m\u001b[0;34m(\u001b[0m\u001b[0mq\u001b[0m\u001b[0;34m)\u001b[0m\u001b[0;34m,\u001b[0m \u001b[0mq_star\u001b[0m\u001b[0;34m)\u001b[0m\u001b[0;34m)\u001b[0m\u001b[0;34m\u001b[0m\u001b[0;34m\u001b[0m\u001b[0m\n\u001b[1;32m      5\u001b[0m \u001b[0mlimits_s\u001b[0m \u001b[0;34m=\u001b[0m \u001b[0mnp\u001b[0m\u001b[0;34m.\u001b[0m\u001b[0marray\u001b[0m\u001b[0;34m(\u001b[0m\u001b[0mlimits_s\u001b[0m\u001b[0;34m)\u001b[0m\u001b[0;34m\u001b[0m\u001b[0;34m\u001b[0m\u001b[0m\n",
      "\u001b[0;31mNameError\u001b[0m: name 'q_low' is not defined"
     ]
    }
   ],
   "source": [
    "#compute limits in s-space\n",
    "limits_s = []\n",
    "for q in [q_low, q_high]:\n",
    "    limits_s.append(Ratfk.ComputeSValue(np.array(q), q_star))\n",
    "limits_s = np.array(limits_s)"
   ]
  },
  {
   "cell_type": "code",
   "execution_count": null,
   "metadata": {},
   "outputs": [],
   "source": []
  },
  {
   "cell_type": "code",
   "execution_count": null,
   "metadata": {},
   "outputs": [],
   "source": [
    "visualizer.meshcat_cspace.Delete(\"/prm\")"
   ]
  },
  {
   "cell_type": "code",
   "execution_count": null,
   "metadata": {},
   "outputs": [],
   "source": [
    "# draw prm\n",
    "import prm\n",
    "from pydrake.all import Rgba\n",
    "\n",
    "# limits = [np.array(t_low), np.array(q_high)]\n",
    "\n",
    "visualizer.meshcat_cspace.Delete(\"/prm\")\n",
    "\n",
    "def plot_prm(nodes, adjacency_list, width, color = Rgba(0.0, 0.0, 1, 1), prefix = \"\"):\n",
    "    plt_idx = 0\n",
    "    for node_idx in range(nodes.shape[0]):\n",
    "        pos1 = np.append(nodes[node_idx, :],0)\n",
    "        for edge_idx in range(len(adjacency_list[node_idx])): \n",
    "            pos2 = np.append(nodes[adjacency_list[node_idx][edge_idx], :],0)\n",
    "            name = f\"/{prefix}/prm/rm/line/{plt_idx}\"\n",
    "#             for c in map(int, sqtring):\n",
    "#                 name += f\"/{c}\"\n",
    "            visualizer.meshcat_cspace.SetLine(name,  np.hstack([pos1[:,np.newaxis], pos2[:, np.newaxis]]),\n",
    "                                 line_width = width, rgba = color)\n",
    "            plt_idx +=1\n",
    "            \n",
    "plotting_fn_handle_good = partial(plot_prm, width = 0.1, prefix = \"Good\", color = Rgba(0, 1.,0,1))\n",
    "plotting_fn_handle_bad = partial(plot_prm, width = 0.1, prefix = \"Bad\", color = Rgba(1., 0.,1,1))\n",
    "\n",
    "def collision(pos, col_func_handle):\n",
    "    return col_func_handle(pos)\n",
    "\n",
    "def collision_bad(pos, col_func_handle):\n",
    "    return 1-col_func_handle(pos)\n",
    "\n",
    "prm_col_fn_handle = partial(collision, col_func_handle = visualizer.check_collision_s_by_ik)\n",
    "prm_col_fn_handle_bad = partial(collision_bad, col_func_handle = visualizer.check_collision_s_by_ik)\n",
    "\n",
    "visualizer.check_collision_s_by_ik(np.array([0,0]))\n",
    "prm_col_fn_handle(np.array([0,0]))\n"
   ]
  },
  {
   "cell_type": "code",
   "execution_count": null,
   "metadata": {},
   "outputs": [],
   "source": [
    "num_points = 100\n",
    "\n",
    "PRM = prm.PRM( \n",
    "            limits_s,\n",
    "            num_points = num_points,\n",
    "            col_func_handle = prm_col_fn_handle,\n",
    "            num_neighbours = 5, \n",
    "            dist_thresh = .5,\n",
    "            num_col_checks = 10,\n",
    "            verbose = True,\n",
    "            plotcallback = plotting_fn_handle_good\n",
    "            )\n",
    "\n",
    "PRM_bad = prm.PRM( \n",
    "            limits_s,\n",
    "            num_points = num_points,\n",
    "            col_func_handle = prm_col_fn_handle_bad,\n",
    "            num_neighbours = 5, \n",
    "            dist_thresh = .5,\n",
    "            num_col_checks = 10,\n",
    "            verbose = True,\n",
    "            plotcallback = plotting_fn_handle_bad\n",
    "            )\n",
    "\n",
    "# PRM.add_start_end(start, target)\n",
    "if num_points < 100:\n",
    "    PRM.plot()\n",
    "    PRM_bad.plot()\n",
    "tot_num_edges = len(PRM.adjacency_list)* len(PRM.adjacency_list[0])\n",
    "# path, sp_length = PRM.find_shortest_path()\n",
    "\n",
    "# mat = meshcat.geometry.MeshLambertMaterial(color= 0xFFF812 , wireframe=True)\n",
    "# mat.wireframeLinewidth = 2.0\n",
    "# num_waypoints = len(path)\n",
    "# for idx in range(num_waypoints-1):\n",
    "#     vis2['prm']['path']['path' + str(idx)].set_object( meshcat_line(path[idx], path[idx+1],width = 0.01), mat)\n",
    "# traj= utils.PWLinTraj(path, 5.0)"
   ]
  },
  {
   "cell_type": "code",
   "execution_count": null,
   "metadata": {},
   "outputs": [],
   "source": []
  },
  {
   "cell_type": "code",
   "execution_count": null,
   "metadata": {},
   "outputs": [],
   "source": []
  },
  {
   "cell_type": "markdown",
   "metadata": {},
   "source": [
    "## Set up the sliders so we can move the plant around manually"
   ]
  },
  {
   "cell_type": "code",
   "execution_count": null,
   "metadata": {
    "scrolled": false
   },
   "outputs": [],
   "source": [
    "sliders = []\n",
    "sliders.append(widgets.FloatSlider(min=q_low[0], max=q_high[0], value=0, description='q0'))\n",
    "sliders.append(widgets.FloatSlider(min=q_low[1], max=q_high[1], value=0, description='q1'))\n",
    "\n",
    "q = q0.copy()\n",
    "def handle_slider_change(change, idx):\n",
    "    q[idx] = change['new']\n",
    "    visualizer.show_res_q(q)\n",
    "    \n",
    "idx = 0\n",
    "for slider in sliders:\n",
    "    slider.observe(partial(handle_slider_change, idx = idx), names='value')\n",
    "    idx+=1\n",
    "\n",
    "for slider in sliders:\n",
    "    display(slider)"
   ]
  },
  {
   "cell_type": "code",
   "execution_count": null,
   "metadata": {
    "scrolled": true
   },
   "outputs": [],
   "source": [
    "# This plane certifies that the two tips of the flippers don't intersect\n",
    "visualizer.add_plane_indices_of_interest(118)\n",
    "\n",
    "# re-display the sliders for convenience\n",
    "for slider in sliders:\n",
    "    display(slider)"
   ]
  },
  {
   "cell_type": "code",
   "execution_count": null,
   "metadata": {},
   "outputs": [],
   "source": [
    "from pydrake.polynomial import Polynomial as PolynomialCommon"
   ]
  },
  {
   "cell_type": "code",
   "execution_count": null,
   "metadata": {},
   "outputs": [],
   "source": [
    "\n",
    "def make_line_polys(PRM):\n",
    "    endpoint_index_set = set()\n",
    "    for neighbors in PRM.adjacency_list:\n",
    "        for n in neighbors[1:]:\n",
    "            endpoint_index_set.add((neighbors[0], n))\n",
    "    polys = np.empty(shape=(plant.num_positions(), len(endpoint_index_set)), dtype = object)\n",
    "    for i, (idx0, idx1) in enumerate(endpoint_index_set):\n",
    "        s0 = PRM.nodes[idx0]\n",
    "        s1 = PRM.nodes[idx1]\n",
    "        for j in range(plant.num_positions()):\n",
    "            polys[j,i] = PolynomialCommon(np.array([s0[j]-s1[j], s1[j]]))\n",
    "    return polys\n",
    "\n",
    "path_safe = make_line_polys(PRM)\n",
    "    "
   ]
  },
  {
   "cell_type": "code",
   "execution_count": null,
   "metadata": {},
   "outputs": [],
   "source": [
    "cert_options = CspaceFreePath.FindSeparationCertificateGivenPathOptions()\n",
    "cert_options.terminate_segment_certification_at_failure = False\n",
    "\n",
    "cert_options.num_threads = -1\n",
    "cert_options.verbose = False\n",
    "cert_options.solver_id = MosekSolver.id()\n",
    "cert_options.solver_options = SolverOptions()\n",
    "cert_options.terminate_path_certification_at_failure = False\n"
   ]
  },
  {
   "cell_type": "code",
   "execution_count": null,
   "metadata": {},
   "outputs": [],
   "source": [
    "t0 = time.time()\n",
    "ret = cspace_free_path.FindSeparationCertificateGivenPath(path_safe, set(), cert_options)\n",
    "t1 = time.time()\n",
    "print(f\"Certification of safe PRM in {t1-t0}s\")"
   ]
  },
  {
   "cell_type": "code",
   "execution_count": null,
   "metadata": {},
   "outputs": [],
   "source": [
    "def count_num_safe(safe_points_vect):\n",
    "    num_safe = 0\n",
    "    for val in safe_points_vect:\n",
    "        if(val):\n",
    "            num_safe += 1\n",
    "    return num_safe"
   ]
  },
  {
   "cell_type": "code",
   "execution_count": null,
   "metadata": {},
   "outputs": [],
   "source": [
    "ret[0]"
   ]
  },
  {
   "cell_type": "code",
   "execution_count": null,
   "metadata": {},
   "outputs": [],
   "source": []
  }
 ],
 "metadata": {
  "interpreter": {
   "hash": "31f2aee4e71d21fbe5cf8b01ff0e069b9275f58929596ceb00d14d90e3e16cd6"
  },
  "kernelspec": {
   "display_name": "Python 3 (ipykernel)",
   "language": "python",
   "name": "python3"
  },
  "language_info": {
   "codemirror_mode": {
    "name": "ipython",
    "version": 3
   },
   "file_extension": ".py",
   "mimetype": "text/x-python",
   "name": "python",
   "nbconvert_exporter": "python",
   "pygments_lexer": "ipython3",
   "version": "3.10.6"
  }
 },
 "nbformat": 4,
 "nbformat_minor": 2
}
