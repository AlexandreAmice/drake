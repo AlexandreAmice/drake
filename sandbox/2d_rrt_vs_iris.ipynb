{
 "cells": [
  {
   "cell_type": "code",
   "execution_count": 1,
   "metadata": {},
   "outputs": [],
   "source": [
    "%load_ext autoreload"
   ]
  },
  {
   "cell_type": "code",
   "execution_count": 2,
   "metadata": {},
   "outputs": [],
   "source": [
    "import numpy as np\n",
    "import os\n",
    "import mcubes\n",
    "import meshcat\n",
    "import pydrake\n",
    "from pydrake.geometry import SceneGraph\n",
    "from pydrake.systems.framework import DiagramBuilder\n",
    "from pydrake.common import FindResourceOrThrow\n",
    "from pydrake.multibody.plant import MultibodyPlant, AddMultibodyPlantSceneGraph\n",
    "from pydrake.multibody.parsing import Parser, LoadModelDirectives, ProcessModelDirectives\n",
    "from pydrake.multibody.tree import RevoluteJoint\n",
    "from pydrake.all import ConnectMeshcatVisualizer, InverseKinematics, RigidTransform, RotationMatrix\n",
    "from pydrake.all import BsplineTrajectoryThroughUnionOfHPolyhedra, IrisInConfigurationSpace, IrisOptions, Rgba\n",
    "import time\n",
    "from meshcat import Visualizer\n",
    "from functools import partial\n",
    "\n",
    "import ipywidgets as widgets\n",
    "from IPython.display import display\n",
    "\n",
    "from pydrake.all import MeshcatVisualizerCpp, MeshcatVisualizerParams, Role\n",
    "import rrt, prm, utils, rrtiris\n",
    "from pydrake.all import (MathematicalProgram, Variable, HPolyhedron, le, SnoptSolver, Solve) \n"
   ]
  },
  {
   "cell_type": "code",
   "execution_count": 3,
   "metadata": {},
   "outputs": [],
   "source": [
    "# Setup meshcat\n",
    "from meshcat.servers.zmqserver import start_zmq_server_as_subprocess\n",
    "proc, zmq_url, web_url = start_zmq_server_as_subprocess(server_args=[])\n",
    "proc2, zmq_url2, web_url2 = start_zmq_server_as_subprocess(server_args=[])"
   ]
  },
  {
   "cell_type": "code",
   "execution_count": 4,
   "metadata": {},
   "outputs": [],
   "source": [
    "def meshcat_line(x_start, x_end, width):\n",
    "    x_end_shift = x_end.copy()\n",
    "    x_end_shift[0:2] += width\n",
    "    x_start_shift = x_start.copy()\n",
    "    x_start_shift[1:2] += width\n",
    "    \n",
    "    points = np.array([[x_start, x_end, x_end_shift, x_start_shift]]).reshape(-1,3)\n",
    "    triangles = np.array([[0,1,2],[0,2,3]]).reshape(-1,3)\n",
    "    mc_geom = meshcat.geometry.TriangularMeshGeometry(points, triangles)\n",
    "    return mc_geom"
   ]
  },
  {
   "cell_type": "code",
   "execution_count": 5,
   "metadata": {},
   "outputs": [],
   "source": [
    "#settings\n",
    "q0 = [0.0, 0.0, 0.0]\n",
    "q_low = [-1.7,-1.7, -2.0]\n",
    "q_high = [1.7, 1.7, 2.0]\n",
    "\n",
    "#marching cubes\n",
    "q_low_mc = q_low.copy()\n",
    "q_high_mc =  q_high.copy()\n",
    "N = 50"
   ]
  },
  {
   "cell_type": "code",
   "execution_count": 6,
   "metadata": {
    "scrolled": false
   },
   "outputs": [
    {
     "name": "stdout",
     "output_type": "stream",
     "text": [
      "You can open the visualizer by visiting the following URL:\n",
      "http://127.0.0.1:7000/static/\n",
      "You can open the visualizer by visiting the following URL:\n",
      "http://127.0.0.1:7001/static/\n",
      "Connecting to meshcat-server at zmq_url=tcp://127.0.0.1:6000...\n",
      "You can open the visualizer by visiting the following URL:\n",
      "http://127.0.0.1:7000/static/\n",
      "Connected to meshcat-server.\n"
     ]
    }
   ],
   "source": [
    "vis = Visualizer(zmq_url=zmq_url)\n",
    "vis.delete()\n",
    "vis2 = Visualizer(zmq_url=zmq_url2)\n",
    "vis2.delete()\n",
    "\n",
    "builder = DiagramBuilder()\n",
    "plant, scene_graph = AddMultibodyPlantSceneGraph(builder, time_step=0.001)\n",
    "parser = Parser(plant)\n",
    "tworob_asset = FindResourceOrThrow(\"drake/sandbox/assets/doublerob.urdf\")\n",
    "#two_dof_asset = FindResourceOrThrow(\"drake/sandbox/assets/planar2dof.urdf\")\n",
    "box_asset = FindResourceOrThrow(\"drake/sandbox/assets/box.urdf\")\n",
    "\n",
    "models =[]\n",
    "models.append(parser.AddModelFromFile(tworob_asset))\n",
    "#models.append(parser.AddModelFromFile(one_dof_asset))\n",
    "models.append(parser.AddModelFromFile(box_asset))\n",
    "\n",
    "idx = 0\n",
    "for model in models:\n",
    "    for joint_index in plant.GetJointIndices(model):\n",
    "        joint = plant.get_mutable_joint(joint_index)\n",
    "        if isinstance(joint, RevoluteJoint):\n",
    "            joint.set_default_angle(q0[idx])\n",
    "            idx += 1\n",
    "            \n",
    "locs = [[0.,0.,0.],[0.,0.,0.]]\n",
    "idx = 0\n",
    "for model in models:\n",
    "    plant.WeldFrames(plant.world_frame(), plant.GetFrameByName(\"base\", model), RigidTransform(locs[idx]))\n",
    "    idx+=1\n",
    "\n",
    "plant.Finalize()\n",
    "\n",
    "visualizer = ConnectMeshcatVisualizer(builder, scene_graph, zmq_url=zmq_url, delete_prefix_on_load=False, )\n",
    "\n",
    "diagram = builder.Build()\n",
    "visualizer.load()\n",
    "context = diagram.CreateDefaultContext()\n",
    "plant_context = plant.GetMyContextFromRoot(context)\n",
    "diagram.Publish(context)\n",
    "\n",
    "joints = []\n",
    "idx = 0\n",
    "for model in models:\n",
    "    jointindx = plant.GetJointIndices(model)\n",
    "    for j in jointindx:\n",
    "        joint = plant.get_mutable_joint(j)\n",
    "        if isinstance(joint, RevoluteJoint):\n",
    "            joints.append(joint)\n",
    "            joints[-1].set_position_limits(lower_limits= np.array([q_low[idx]]), upper_limits= np.array([np.array([q_high[idx]])]))\n",
    "            idx +=1\n",
    "        \n",
    "    \n",
    "def set_joint_ang(val, idx):\n",
    "    joints[idx].set_angle(plant_context, val)\n",
    "    \n",
    "def set_joint_angles(vals):\n",
    "    joints[0].set_angle(plant_context, vals[0])\n",
    "    joints[1].set_angle(plant_context, vals[1])\n",
    "    joints[2].set_angle(plant_context, vals[2])\n",
    "    \n",
    "ik = InverseKinematics(plant, plant_context)\n",
    "collision_constraint = ik.AddMinimumDistanceConstraint(0.001, 0.01)\n",
    "\n",
    "def eval_cons(q0, q1, q2, c, tol):\n",
    "        return 1-1*float(c.evaluator().CheckSatisfied([q0, q1, q2], tol))\n",
    "    \n",
    "col_func_handle = partial(eval_cons, c=collision_constraint, tol=0.01)\n",
    "\n",
    "def showres(q):\n",
    "    set_joint_ang(q[0],0)\n",
    "    set_joint_ang(q[1],1)\n",
    "    set_joint_ang(q[2],2)\n",
    "    col = col_func_handle(*q)\n",
    "    if col:\n",
    "        vis2[\"q\"].set_object(\n",
    "                meshcat.geometry.Sphere(0.1), meshcat.geometry.MeshLambertMaterial(color=0xFFB900))\n",
    "        vis2[\"q\"].set_transform(\n",
    "                meshcat.transformations.translation_matrix(q))\n",
    "    else:\n",
    "        vis2[\"q\"].set_object(\n",
    "                meshcat.geometry.Sphere(0.1), meshcat.geometry.MeshLambertMaterial(color=0x3EFF00))\n",
    "        vis2[\"q\"].set_transform(\n",
    "                meshcat.transformations.translation_matrix(q))\n",
    "    diagram.Publish(context)\n",
    "    print(\"              \", end = \"\\r\")\n",
    "    print(col , end = \"\\r\")\n",
    "\n",
    "sliders = []\n",
    "sliders.append(widgets.FloatSlider(min=q_low[0], max=q_high[0], value=0, description='q0'))\n",
    "sliders.append(widgets.FloatSlider(min=q_low[1], max=q_high[1], value=0, description='q1'))\n",
    "sliders.append(widgets.FloatSlider(min=q_low[2], max=q_high[2], value=0, description='q2'))\n",
    "\n",
    "q = q0.copy()\n",
    "def handle_slider_change(change, idx):\n",
    "    q[idx] = change['new']\n",
    "    #print(q, end=\"\\r\")\n",
    "    showres(q)\n",
    "    \n",
    "idx = 0\n",
    "for slider in sliders:\n",
    "    slider.observe(partial(handle_slider_change, idx = idx), names='value')\n",
    "    idx+=1\n"
   ]
  },
  {
   "cell_type": "code",
   "execution_count": 7,
   "metadata": {},
   "outputs": [
    {
     "name": "stdout",
     "output_type": "stream",
     "text": [
      "              \r",
      "0.0\r"
     ]
    }
   ],
   "source": [
    "#marching cubes\n",
    "vertices, triangles = mcubes.marching_cubes_func(tuple(q_low), tuple(q_high), N, N, N, col_func_handle, 0.5)\n",
    "vis2[\"collision_constraint\"].set_object(\n",
    "            meshcat.geometry.TriangularMeshGeometry(vertices, triangles),\n",
    "            meshcat.geometry.MeshLambertMaterial(color=0xff0000, wireframe=True))\n",
    "q = q0.copy()\n",
    "showres(q)"
   ]
  },
  {
   "cell_type": "code",
   "execution_count": 8,
   "metadata": {
    "scrolled": false
   },
   "outputs": [
    {
     "data": {
      "application/vnd.jupyter.widget-view+json": {
       "model_id": "b6b71a0c4cd045febd1480ae1f4cd840",
       "version_major": 2,
       "version_minor": 0
      },
      "text/plain": [
       "FloatSlider(value=0.0, description='q0', max=1.7, min=-1.7)"
      ]
     },
     "metadata": {},
     "output_type": "display_data"
    },
    {
     "data": {
      "application/vnd.jupyter.widget-view+json": {
       "model_id": "c846215bf5134fcdbbee2b1d76c33075",
       "version_major": 2,
       "version_minor": 0
      },
      "text/plain": [
       "FloatSlider(value=0.0, description='q1', max=1.7, min=-1.7)"
      ]
     },
     "metadata": {},
     "output_type": "display_data"
    },
    {
     "data": {
      "application/vnd.jupyter.widget-view+json": {
       "model_id": "a4e3fcc99ae2414a9ddd6fb8211c2fa8",
       "version_major": 2,
       "version_minor": 0
      },
      "text/plain": [
       "FloatSlider(value=0.0, description='q2', max=2.0, min=-2.0)"
      ]
     },
     "metadata": {},
     "output_type": "display_data"
    },
    {
     "data": {
      "text/html": [
       "\n",
       "            <div style=\"height: 400px; width: 100%; overflow-x: auto; overflow-y: hidden; resize: both\">\n",
       "            <iframe src=\"http://127.0.0.1:7000/static/\" style=\"width: 100%; height: 100%; border: none\"></iframe>\n",
       "            </div>\n",
       "            "
      ],
      "text/plain": [
       "<IPython.core.display.HTML object>"
      ]
     },
     "metadata": {},
     "output_type": "display_data"
    },
    {
     "data": {
      "text/html": [
       "\n",
       "            <div style=\"height: 400px; width: 100%; overflow-x: auto; overflow-y: hidden; resize: both\">\n",
       "            <iframe src=\"http://127.0.0.1:7001/static/\" style=\"width: 100%; height: 100%; border: none\"></iframe>\n",
       "            </div>\n",
       "            "
      ],
      "text/plain": [
       "<IPython.core.display.HTML object>"
      ]
     },
     "metadata": {},
     "output_type": "display_data"
    }
   ],
   "source": [
    "for slider in sliders:\n",
    "    display(slider)\n",
    "\n",
    "display(vis.jupyter_cell())\n",
    "display(vis2.jupyter_cell())"
   ]
  },
  {
   "cell_type": "code",
   "execution_count": 9,
   "metadata": {},
   "outputs": [],
   "source": [
    "#SPP + IRIS CONFIG\n",
    "start = np.array([0.2, -1.6, 1.5])\n",
    "target = np.array([0.8,-0.9,1.5])\n",
    "#\n",
    "#plot start and target\n",
    "mat = meshcat.geometry.MeshLambertMaterial(color=0xFFDD36)\n",
    "mat.reflectivity = 1.0\n",
    "vis2['start'].set_object(\n",
    "                meshcat.geometry.Sphere(0.06), mat)\n",
    "vis2['start'].set_transform(\n",
    "                meshcat.transformations.translation_matrix(start.reshape(-1,)))\n",
    "\n",
    "mat = meshcat.geometry.MeshLambertMaterial(color=0x06D300)\n",
    "mat.reflectivity = 1.0\n",
    "vis2['target'].set_object(\n",
    "                meshcat.geometry.Sphere(0.06), mat)\n",
    "vis2['target'].set_transform(\n",
    "                meshcat.transformations.translation_matrix(target.reshape(-1,)))"
   ]
  },
  {
   "cell_type": "code",
   "execution_count": 10,
   "metadata": {},
   "outputs": [],
   "source": [
    "def Iris_fn(q_seed, iris_options, plant, plant_context, verbose):\n",
    "    start_time = time.time()\n",
    "    region = IrisInConfigurationSpace(plant, plant_context, q_seed, iris_options)\n",
    "    ellipse = region.MaximumVolumeInscribedEllipsoid()\n",
    "    if verbose:\n",
    "        print(\"Time: %6.2f \\tVolume: %6.2f \\tCenter:\" % (time.time() - start_time, ellipse.Volume()),\n",
    "          ellipse.center(), flush=True)\n",
    "  \n",
    "    return region, ellipse\n",
    "\n",
    "IRISOPTS = IrisOptions()\n",
    "IRISOPTS.require_sample_point_is_contained = True\n",
    "IRISOPTS.iteration_limit = 60\n",
    "IRISOPTS.enable_ibex = False\n",
    "\n",
    "iris_hand = partial(Iris_fn, \n",
    "                    iris_options = IRISOPTS, \n",
    "                    plant = plant, \n",
    "                    plant_context = plant_context, \n",
    "                    verbose = False)\n",
    "\n",
    "def plot_callback(region, seed_point, pos_samp, region_id, vis):\n",
    "    scale = np.clip(150 + region_id *105/5.0, a_min = 0, a_max = 255)\n",
    "    mat = meshcat.geometry.MeshLambertMaterial(color= utils.rgb_to_hex((int(0.2*scale), 155, int(scale))) , wireframe=True)\n",
    "    mat_seed = meshcat.geometry.MeshLambertMaterial(color= utils.rgb_to_hex((0, 0, 0)), wireframe=True)\n",
    "    mat_samp = meshcat.geometry.MeshLambertMaterial(color= utils.rgb_to_hex((155, 0, 155)), wireframe=True)\n",
    "    mat.opacity = 0.2\n",
    "    \n",
    "    #print('seed_point', seed_point)\n",
    "    #print('pos_samp', pos_samp)\n",
    "    utils.plot_3d_poly(region = region,\n",
    "                       resolution = 30,\n",
    "                       vis = vis['regions'],\n",
    "                       name = str(region_id),\n",
    "                       mat = mat)\n",
    "    utils.plot_point(seed_point,\n",
    "                     radius = 0.05, \n",
    "                     mat = mat_seed, \n",
    "                     vis = vis['seed'], \n",
    "                     marker_id = str(region_id))\n",
    "    \n",
    "    utils.plot_point(pos_samp,\n",
    "                     radius = 0.05, \n",
    "                     mat = mat_samp, \n",
    "                     vis = vis['samples'], \n",
    "                     marker_id = str(region_id))\n",
    "    \n",
    "plot_callback_handle = partial(plot_callback, vis = vis2['rrtiris']) \n",
    "\n",
    "def collision(pos, col_func_handle):\n",
    "    return col_func_handle(pos[0], pos[1], pos[2])\n",
    "    \n",
    "rrti_col_fn_handle = partial(collision, col_func_handle = col_func_handle)\n",
    "\n",
    "def get_closest_point_in_set(polys, sample, dim = 3):\n",
    "    num_regions = len(polys) \n",
    "    prog = MathematicalProgram()\n",
    "    x = prog.NewContinuousVariables(dim*num_regions, 'x')  \n",
    "    cost = x - np.tile(sample, (1, num_regions)).squeeze()\n",
    "    cost = cost@cost.T\n",
    "    prog.AddCost(cost)\n",
    "    for idx in range(num_regions):\n",
    "        A = polys[idx].A()\n",
    "        b = polys[idx].b()\n",
    "        prog.AddConstraint(le(A@x[idx*dim:(idx + 1)*dim], b))\n",
    "    solver = SnoptSolver()\n",
    "    result = solver.Solve(prog)\n",
    "    x_sol = result.GetSolution(x).reshape(num_regions,3)\n",
    "    dists = np.linalg.norm(x_sol-sample, axis = 1)\n",
    "    closest = np.argmin(dists)\n",
    "    min_dist = dists[closest]\n",
    "    min_point = x_sol[closest, :]\n",
    "    \n",
    "    return min_point, min_dist, x_sol, result"
   ]
  },
  {
   "cell_type": "code",
   "execution_count": 11,
   "metadata": {},
   "outputs": [],
   "source": [
    "RRTI = rrtiris.RRTIRIS(start = start, \n",
    "                       goal = target , \n",
    "                       limits = [np.array(q_low), np.array(q_high)], \n",
    "                       iris_handle = iris_hand,\n",
    "                       col_func_handle = rrti_col_fn_handle, \n",
    "                       init_goal_sample_rate = 0.05,\n",
    "                       goal_sample_rate_scaler = 0.6,\n",
    "                       verbose = True,\n",
    "                       plotcallback = plot_callback_handle,\n",
    "                       sample_collision_free = True\n",
    "                       )"
   ]
  },
  {
   "cell_type": "code",
   "execution_count": 12,
   "metadata": {},
   "outputs": [
    {
     "name": "stdout",
     "output_type": "stream",
     "text": [
      "0\n",
      "0.6133742174409513\n",
      "[RRT IRIS] it: 0 distance to target:  0.613 goalsample prob:  0.432\n",
      "1\n",
      "0.6133742174409513\n",
      "2\n",
      "0.6133742174409513\n",
      "3\n",
      "0.6133742174409512\n",
      "[RRT IRIS] it: 3 distance to target:  0.613 goalsample prob:  0.432\n",
      "4\n",
      "0.6133742174409516\n",
      "5\n",
      "[RRT IRIS] Region check failed\n",
      "6\n",
      "0.5944973601239494\n",
      "[RRT IRIS] it: 6 distance to target:  0.594 goalsample prob:  0.443\n",
      "7\n",
      "0.5944973601239493\n",
      "[RRT IRIS] it: 7 distance to target:  0.594 goalsample prob:  0.443\n",
      "8\n",
      "0.5944973601239495\n",
      "9\n",
      "0.5944973601239492\n",
      "[RRT IRIS] it: 9 distance to target:  0.594 goalsample prob:  0.443\n",
      "10\n",
      "0.5944973601239494\n",
      "11\n",
      "0.594497360123949\n",
      "[RRT IRIS] it: 11 distance to target:  0.594 goalsample prob:  0.443\n",
      "12\n",
      "[RRT IRIS] Region check failed\n",
      "13\n",
      "[RRT IRIS] Region check failed\n",
      "14\n",
      "[RRT IRIS] Region check failed\n",
      "15\n",
      "0.594497360123949\n",
      "16\n",
      "[RRT IRIS] Region check failed\n",
      "17\n",
      "0.5944973601239492\n",
      "18\n",
      "[RRT IRIS] Region check failed\n",
      "19\n",
      "[RRT IRIS] Region check failed\n",
      "20\n",
      "[RRT IRIS] Region check failed\n",
      "21\n",
      "0.5391682419938001\n",
      "[RRT IRIS] it: 21 distance to target:  0.539 goalsample prob:  0.476\n",
      "22\n",
      "0.4716090159859835\n",
      "[RRT IRIS] it: 22 distance to target:  0.472 goalsample prob:  0.517\n",
      "23\n",
      "0.4716090159859833\n",
      "[RRT IRIS] it: 23 distance to target:  0.472 goalsample prob:  0.517\n",
      "24\n",
      "0.23700655612514154\n",
      "[RRT IRIS] it: 24 distance to target:  0.237 goalsample prob:  0.658\n",
      "25\n",
      "0.23700655612514127\n",
      "[RRT IRIS] it: 25 distance to target:  0.237 goalsample prob:  0.658\n",
      "26\n",
      "4.002966042486721e-16\n",
      "[RRT IRIS] it: 26 distance to target:  0.000 goalsample prob:  0.800\n"
     ]
    },
    {
     "data": {
      "text/plain": [
       "(True,\n",
       " [<pydrake.geometry.optimization.HPolyhedron at 0x7f955c6881b0>,\n",
       "  <pydrake.geometry.optimization.HPolyhedron at 0x7f955d86dd30>,\n",
       "  <pydrake.geometry.optimization.HPolyhedron at 0x7f949366a9f0>,\n",
       "  <pydrake.geometry.optimization.HPolyhedron at 0x7f9493c5ff30>,\n",
       "  <pydrake.geometry.optimization.HPolyhedron at 0x7f9493c643f0>,\n",
       "  <pydrake.geometry.optimization.HPolyhedron at 0x7f9493701fb0>,\n",
       "  <pydrake.geometry.optimization.HPolyhedron at 0x7f94936f86b0>,\n",
       "  <pydrake.geometry.optimization.HPolyhedron at 0x7f9493669a30>,\n",
       "  <pydrake.geometry.optimization.HPolyhedron at 0x7f94936fc1f0>,\n",
       "  <pydrake.geometry.optimization.HPolyhedron at 0x7f949364a670>,\n",
       "  <pydrake.geometry.optimization.HPolyhedron at 0x7f94936ffa30>,\n",
       "  <pydrake.geometry.optimization.HPolyhedron at 0x7f94936fcf70>,\n",
       "  <pydrake.geometry.optimization.HPolyhedron at 0x7f9493649530>,\n",
       "  <pydrake.geometry.optimization.HPolyhedron at 0x7f9493649830>,\n",
       "  <pydrake.geometry.optimization.HPolyhedron at 0x7f94936ff470>,\n",
       "  <pydrake.geometry.optimization.HPolyhedron at 0x7f94936f8930>,\n",
       "  <pydrake.geometry.optimization.HPolyhedron at 0x7f949367efb0>,\n",
       "  <pydrake.geometry.optimization.HPolyhedron at 0x7f949367e4f0>,\n",
       "  <pydrake.geometry.optimization.HPolyhedron at 0x7f94936f98f0>,\n",
       "  <pydrake.geometry.optimization.HPolyhedron at 0x7f94936f7eb0>],\n",
       " [<pydrake.geometry.optimization.Hyperellipsoid at 0x7f94936e08f0>,\n",
       "  <pydrake.geometry.optimization.Hyperellipsoid at 0x7f94936692b0>,\n",
       "  <pydrake.geometry.optimization.Hyperellipsoid at 0x7f955c640bf0>,\n",
       "  <pydrake.geometry.optimization.Hyperellipsoid at 0x7f955c6408b0>,\n",
       "  <pydrake.geometry.optimization.Hyperellipsoid at 0x7f94936f5f70>,\n",
       "  <pydrake.geometry.optimization.Hyperellipsoid at 0x7f9493c61930>,\n",
       "  <pydrake.geometry.optimization.Hyperellipsoid at 0x7f94936fc0f0>,\n",
       "  <pydrake.geometry.optimization.Hyperellipsoid at 0x7f94936f5630>,\n",
       "  <pydrake.geometry.optimization.Hyperellipsoid at 0x7f94936fcbb0>,\n",
       "  <pydrake.geometry.optimization.Hyperellipsoid at 0x7f949364a2f0>,\n",
       "  <pydrake.geometry.optimization.Hyperellipsoid at 0x7f94936ffc30>,\n",
       "  <pydrake.geometry.optimization.Hyperellipsoid at 0x7f949364aeb0>,\n",
       "  <pydrake.geometry.optimization.Hyperellipsoid at 0x7f94936490f0>,\n",
       "  <pydrake.geometry.optimization.Hyperellipsoid at 0x7f9493c616f0>,\n",
       "  <pydrake.geometry.optimization.Hyperellipsoid at 0x7f94936ff9b0>,\n",
       "  <pydrake.geometry.optimization.Hyperellipsoid at 0x7f94936f8470>,\n",
       "  <pydrake.geometry.optimization.Hyperellipsoid at 0x7f9493649230>,\n",
       "  <pydrake.geometry.optimization.Hyperellipsoid at 0x7f949367e0b0>,\n",
       "  <pydrake.geometry.optimization.Hyperellipsoid at 0x7f94936f91f0>,\n",
       "  <pydrake.geometry.optimization.Hyperellipsoid at 0x7f94936f75f0>])"
      ]
     },
     "execution_count": 12,
     "metadata": {},
     "output_type": "execute_result"
    }
   ],
   "source": [
    "RRTI.run(40)"
   ]
  },
  {
   "cell_type": "code",
   "execution_count": 13,
   "metadata": {},
   "outputs": [],
   "source": [
    "regions = RRTI.node_regions"
   ]
  },
  {
   "cell_type": "code",
   "execution_count": null,
   "metadata": {},
   "outputs": [],
   "source": []
  },
  {
   "cell_type": "code",
   "execution_count": null,
   "metadata": {},
   "outputs": [],
   "source": []
  },
  {
   "cell_type": "code",
   "execution_count": null,
   "metadata": {},
   "outputs": [],
   "source": []
  },
  {
   "cell_type": "code",
   "execution_count": null,
   "metadata": {},
   "outputs": [],
   "source": []
  },
  {
   "cell_type": "code",
   "execution_count": null,
   "metadata": {},
   "outputs": [],
   "source": []
  },
  {
   "cell_type": "code",
   "execution_count": null,
   "metadata": {},
   "outputs": [],
   "source": []
  },
  {
   "cell_type": "code",
   "execution_count": null,
   "metadata": {},
   "outputs": [],
   "source": []
  },
  {
   "cell_type": "code",
   "execution_count": 14,
   "metadata": {},
   "outputs": [
    {
     "name": "stdout",
     "output_type": "stream",
     "text": [
      "Time:   0.23 \tVolume:   1.52 \tCenter: [ 0.19923851 -0.51555736 -0.16204047]\n",
      "Time:   0.10 \tVolume:   0.13 \tCenter: [ 0.67937981 -0.49625948  1.53735378]\n",
      "Time:   0.12 \tVolume:   1.05 \tCenter: [-0.06171664 -0.89319296  0.39752311]\n",
      "Time:   0.13 \tVolume:   0.33 \tCenter: [ 0.05710561 -0.34521333  1.65147502]\n",
      "Time:   0.08 \tVolume:   0.22 \tCenter: [-0.26468632 -0.33151343  1.54512999]\n"
     ]
    }
   ],
   "source": [
    "#using hand-crafted seed points\n",
    "\n",
    "seed_points = np.array([[0.0, 0, 0], # startpoint\n",
    "                        [0.8, -0.8, 1.3],  # blue low green up\n",
    "                        [0.1, -1.2, 0.9],     # green low other up\n",
    "                        [0.2, -0.6, 1.6],\n",
    "                        [-0.5, -1.0, 1.9]])    # passing\n",
    "\n",
    "\n",
    "iris_options = IrisOptions()\n",
    "iris_options.require_sample_point_is_contained = True\n",
    "iris_options.iteration_limit = 50\n",
    "iris_options.enable_ibex = False\n",
    "\n",
    "regions = []\n",
    "ellipses = []\n",
    "for i in range(seed_points.shape[0]):\n",
    "    start_time = time.time()\n",
    "    hpoly = IrisInConfigurationSpace(plant, plant_context, seed_points[i,:], iris_options)\n",
    "    ellipse = hpoly.MaximumVolumeInscribedEllipsoid()\n",
    "    print(\"Time: %6.2f \\tVolume: %6.2f \\tCenter:\" % (time.time() - start_time, ellipse.Volume()),\n",
    "          ellipse.center(), flush=True)\n",
    "    ellipses.append(ellipse)\n",
    "    regions.append(hpoly)"
   ]
  },
  {
   "cell_type": "code",
   "execution_count": 15,
   "metadata": {},
   "outputs": [
    {
     "name": "stdout",
     "output_type": "stream",
     "text": [
      "Time:   0.09 \tVolume:   0.69 \tCenter: [-0.1815499  -1.03678816  1.14742868]\n",
      "Time:   0.13 \tVolume:   0.13 \tCenter: [ 0.64658816 -0.49381788  1.57702836]\n",
      "point found:  [ 0.56185732 -0.29687506  1.72282346]\n",
      "Time:   0.13 \tVolume:   0.32 \tCenter: [ 0.07303933 -0.3723029   1.70172942]\n",
      "point found:  [ 0.20498994 -0.23540609 -0.290393  ]\n",
      "Time:   0.18 \tVolume:   1.52 \tCenter: [ 0.18773026 -0.53012093 -0.14695697]\n",
      "point found:  [-0.17658744 -1.23929285  0.11833452]\n",
      "Time:   0.20 \tVolume:   1.51 \tCenter: [-0.03588999 -0.81321198  0.3034567 ]\n",
      "point found:  [-0.18906537 -0.76045217  0.98812335]\n",
      "Time:   0.12 \tVolume:   1.39 \tCenter: [-0.05780387 -0.81321198  0.35600985]\n",
      "point found:  [ 0.49183134 -0.68300326  1.82863488]\n",
      "Time:   0.25 \tVolume:   0.36 \tCenter: [ 0.08197987 -0.32383194  1.6199919 ]\n",
      "point found:  [ 0.3567087  -0.46069955 -1.69960049]\n",
      "Time:   0.07 \tVolume:   0.52 \tCenter: [ 0.67293032 -0.37523685 -1.13973461]\n"
     ]
    }
   ],
   "source": [
    "def do_iris(q_seed, iris_options):\n",
    "    start_time = time.time()\n",
    "    hpoly = IrisInConfigurationSpace(plant, plant_context, q_seed, iris_options)\n",
    "    ellipse = hpoly.MaximumVolumeInscribedEllipsoid()\n",
    "    print(\"Time: %6.2f \\tVolume: %6.2f \\tCenter:\" % (time.time() - start_time, ellipse.Volume()),\n",
    "          ellipse.center(), flush=True)\n",
    "    return ellipse, hpoly\n",
    "\n",
    "q_low_np = np.array(q_low)\n",
    "q_high_np = np.array(q_high)\n",
    "\n",
    "iris_options = IrisOptions()\n",
    "iris_options.require_sample_point_is_contained = True\n",
    "iris_options.iteration_limit = 50\n",
    "iris_options.enable_ibex = False\n",
    "\n",
    "regions = []\n",
    "ellipses = []\n",
    "its = 6\n",
    "seed_points = [start, target]\n",
    "\n",
    "for point in seed_points:\n",
    "    ell, reg = do_iris(point, iris_options)\n",
    "    regions.append(reg)\n",
    "    ellipses.append(ell)\n",
    "    \n",
    "for _ in range(its):\n",
    "    #rejection sampling to get initial feasible point \n",
    "    found = False\n",
    "    while not found:\n",
    "        t = np.random.rand(3)\n",
    "        q_samp = (1-t)*q_low_np + t*q_high_np\n",
    "        found = (col_func_handle(*q_samp)==0.0)\n",
    "    print(\"point found: \", q_samp)\n",
    "    ell, reg = do_iris(q_samp, iris_options)\n",
    "    if ell.Volume() < 10.0:\n",
    "        regions.append(reg)\n",
    "        ellipses.append(ell)\n",
    "    "
   ]
  },
  {
   "cell_type": "code",
   "execution_count": 16,
   "metadata": {},
   "outputs": [],
   "source": [
    "def inpolycheck(q0,q1,q2, A, b):\n",
    "    q = np.array([q0, q1, q2])\n",
    "    res = np.min(1.0*(A@q-b<=0))\n",
    "    #print(res)\n",
    "    return res\n",
    "\n",
    "meshes = []\n",
    "col1 = 0x002BFF\n",
    "col2 = 0x3EFF00 \n",
    "idx = 0\n",
    "step = 1/(1.0*len(regions))\n",
    "\n",
    "for region in regions:\n",
    "    A = region.A()\n",
    "    b = region.b()\n",
    "    col_hand = partial(inpolycheck, A=A, b=b)\n",
    "    vertices, triangles = mcubes.marching_cubes_func(tuple(q_low), tuple(q_high), 50, 50, 50, col_hand, 0.5)\n",
    "    regstr = \"regions\" +str(idx)\n",
    "    ellstr = \"ellipse\" +str(idx)\n",
    "    mat = meshcat.geometry.MeshLambertMaterial(color= int((1-idx*step)*col1 + idx*step*col2), wireframe=True)\n",
    "    mat.opacity = 0.3\n",
    "    vis2['regions'][regstr].set_object(\n",
    "            meshcat.geometry.TriangularMeshGeometry(vertices, triangles),\n",
    "            mat)\n",
    "    \n",
    "    C = ellipses[idx].A()\n",
    "    d = ellipses[idx].center()\n",
    "    radii, R = np.linalg.eig(C.T@C)\n",
    "    R[:,0] = R[:,0]*np.linalg.det(R)\n",
    "    Rot = RotationMatrix(R)\n",
    " \n",
    "    transf = RigidTransform(Rot, d)\n",
    "    mat = meshcat.geometry.MeshLambertMaterial(color= int((1-idx*step)*col1 + idx*step*col2), wireframe=True)\n",
    "    mat.opacity = 0.15\n",
    "    vis2['ellipses'][ellstr].set_object(\n",
    "            meshcat.geometry.Ellipsoid(np.divide(1,np.sqrt(radii))),\n",
    "            meshcat.geometry.MeshLambertMaterial(color= int((1-idx*step)*col1 + idx*step*col2), wireframe=True))\n",
    "\n",
    "    vis2['ellipses'][ellstr].set_transform(transf.GetAsMatrix4())\n",
    "    \n",
    "    idx+=1"
   ]
  },
  {
   "cell_type": "code",
   "execution_count": 17,
   "metadata": {},
   "outputs": [
    {
     "name": "stdout",
     "output_type": "stream",
     "text": [
      "25.87475562095642\n",
      "0.0\n",
      "4.154868050954404\n"
     ]
    }
   ],
   "source": [
    "# Solve path planning\n",
    "\n",
    "start_time = time.time()\n",
    "spp = BsplineTrajectoryThroughUnionOfHPolyhedra(start, target, regions)\n",
    "spp.set_max_velocity([.8, .8, .8])\n",
    "spp.set_extra_control_points_per_region(3)\n",
    "\n",
    "# print(spp.num_regions())\n",
    "traj = spp.SolveVerbose()\n",
    "print(time.time() - start_time)\n",
    "print(traj.start_time())\n",
    "print(traj.end_time())\n",
    "#visualize\n",
    "maxit = 60\n",
    "pts = []\n",
    "for it in range(maxit):\n",
    "    pts.append(traj.value(it*traj.end_time()/maxit))\n",
    "    mat = meshcat.geometry.MeshLambertMaterial(color=0xFFF812)\n",
    "    mat.reflectivity = 1.0\n",
    "    vis2['traj']['points' + str(it)].set_object(\n",
    "                meshcat.geometry.Sphere(0.06), mat)\n",
    "    vis2['traj']['points' + str(it)].set_transform(\n",
    "                meshcat.transformations.translation_matrix(pts[-1].reshape(-1,)))\n",
    "    \n",
    "    set_joint_angles(pts[-1].reshape(-1,))\n",
    "    tf_l2 = plant.EvalBodyPoseInWorld(plant_context, plant.get_body(pydrake.multibody.tree.BodyIndex(3)))\n",
    "    R_l2 = tf_l2.rotation()\n",
    "    tl_l2 = R_l2@np.array([0,0,0.9]) + tf_l2.translation()\n",
    "    \n",
    "    tf_la = plant.EvalBodyPoseInWorld(plant_context, plant.get_body(pydrake.multibody.tree.BodyIndex(4)))\n",
    "    R_la = tf_la.rotation()\n",
    "    tl_la = R_la@np.array([0,0,1.2]) + tf_la.translation()\n",
    "     \n",
    "    \n",
    "    mat = meshcat.geometry.MeshLambertMaterial(color=0x0029F1)\n",
    "    mat.reflectivity = 1.0\n",
    "    vis['traj']['link2']['points' + str(it)].set_object(\n",
    "                meshcat.geometry.Sphere(0.02), mat)\n",
    "    vis['traj']['link2']['points' + str(it)].set_transform(\n",
    "                meshcat.transformations.translation_matrix(tl_l2))\n",
    "    mat = meshcat.geometry.MeshLambertMaterial(color=0x07F100)\n",
    "    mat.reflectivity = 1.0\n",
    "    vis['traj']['linka']['points' + str(it)].set_object(\n",
    "                meshcat.geometry.Sphere(0.02), mat)\n",
    "    vis['traj']['linka']['points' + str(it)].set_transform(\n",
    "                meshcat.transformations.translation_matrix(tl_la))\n",
    "    "
   ]
  },
  {
   "cell_type": "code",
   "execution_count": 18,
   "metadata": {},
   "outputs": [
    {
     "data": {
      "text/plain": [
       "<bound method PyCapsule.Solve of <pydrake.geometry.optimization.BsplineTrajectoryThroughUnionOfHPolyhedra object at 0x7f94936628b0>>"
      ]
     },
     "execution_count": 18,
     "metadata": {},
     "output_type": "execute_result"
    }
   ],
   "source": [
    "spp.Solve"
   ]
  },
  {
   "cell_type": "code",
   "execution_count": 14,
   "metadata": {},
   "outputs": [
    {
     "name": "stdout",
     "output_type": "stream",
     "text": [
      "0\n",
      "it: 0 distance to target:  0.824 goalsample prob:  0.100\n",
      "it: 1 distance to target:  0.746 goalsample prob:  0.129\n",
      "it: 2 distance to target:  0.678 goalsample prob:  0.190\n",
      "it: 3 distance to target:  0.606 goalsample prob:  0.254\n",
      "it: 5 distance to target:  0.576 goalsample prob:  0.281\n",
      "it: 28 distance to target:  0.574 goalsample prob:  0.283\n",
      "1000\n",
      "2000\n",
      "3000\n",
      "it: 3188 distance to target:  0.539 goalsample prob:  0.315\n",
      "it: 3192 distance to target:  0.441 goalsample prob:  0.403\n",
      "it: 3198 distance to target:  0.343 goalsample prob:  0.491\n",
      "it: 3199 distance to target:  0.245 goalsample prob:  0.579\n",
      "it: 3201 distance to target:  0.147 goalsample prob:  0.668\n",
      "it: 3202 distance to target:  0.049 goalsample prob:  0.756\n",
      "it: 3204 distance to target:  0.001 goalsample prob:  0.799\n",
      "[RRT] Collision free path found in  3204  steps\n"
     ]
    }
   ],
   "source": [
    "#rrt cfg\n",
    "limits = [np.array(q_low), np.array(q_high)]\n",
    "mat = meshcat.geometry.MeshLambertMaterial(color= 0x000000 , wireframe=True)\n",
    "\n",
    "def plotting_fn(parent, child, pos_samp, idx, mat, width):\n",
    "    vis2['rrt']['tree']['line' + str(idx)].set_object( meshcat_line(parent.pos, child.pos, width), mat)\n",
    "    \n",
    "plotting_fn_handle = partial(plotting_fn, mat = mat, width = 0.01)\n",
    "\n",
    "def collision(pos, col_func_handle):\n",
    "    return col_func_handle(pos[0], pos[1], pos[2])\n",
    "    \n",
    "rrt_col_fn_handle = partial(collision, col_func_handle = col_func_handle)\n",
    "    \n",
    "RRT = rrt.RRT(start = start,\n",
    "              goal = target,\n",
    "              limits = limits,\n",
    "              col_func_handle=rrt_col_fn_handle,\n",
    "              max_extend_length=0.1,\n",
    "              extend_steps=0.002,\n",
    "              init_goal_sample_rate=0.1,\n",
    "              goal_sample_rate_scaler=0.9,\n",
    "              verbose = True, \n",
    "              plotcallback = plotting_fn_handle,\n",
    "              sample_collision_free= False)\n",
    "\n",
    "success, path = RRT.run(8000)\n",
    "if success:\n",
    "    mat = meshcat.geometry.MeshLambertMaterial(color= 0xFFF812 , wireframe=True)\n",
    "    mat.wireframeLinewidth = 2.0\n",
    "    num_waypoints = len(path)\n",
    "    for idx in range(num_waypoints-1):\n",
    "        vis2['rrt']['path']['path' + str(idx)].set_object( meshcat_line(path[idx], path[idx+1],width = 0.01), mat)\n",
    "    traj= utils.PWLinTraj(path, 5.0)"
   ]
  },
  {
   "cell_type": "code",
   "execution_count": 19,
   "metadata": {
    "scrolled": true
   },
   "outputs": [
    {
     "name": "stdout",
     "output_type": "stream",
     "text": [
      "[PRM] Samples 0\n",
      "[PRM] Samples 30\n",
      "[PRM] Samples 60\n",
      "[PRM] Samples 90\n",
      "[PRM] Samples 120\n",
      "[PRM] Samples 150\n",
      "[PRM] Samples 180\n",
      "[PRM] Samples 210\n",
      "[PRM] Samples 240\n",
      "[PRM] Samples 270\n",
      "[PRM] Samples 300\n",
      "[PRM] Samples 330\n",
      "[PRM] Samples 360\n",
      "[PRM] Samples 390\n",
      "[PRM] Nodes connected: 0\n",
      "[PRM] Nodes connected: 20\n",
      "[PRM] Nodes connected: 40\n",
      "[PRM] Nodes connected: 60\n",
      "[PRM] Nodes connected: 80\n",
      "[PRM] Nodes connected: 100\n",
      "[PRM] Nodes connected: 120\n",
      "[PRM] Nodes connected: 140\n",
      "[PRM] Nodes connected: 160\n",
      "[PRM] Nodes connected: 180\n",
      "[PRM] Nodes connected: 200\n",
      "[PRM] Nodes connected: 220\n",
      "[PRM] Nodes connected: 240\n",
      "[PRM] Nodes connected: 260\n",
      "[PRM] Nodes connected: 280\n",
      "[PRM] Nodes connected: 300\n",
      "[PRM] Nodes connected: 320\n",
      "[PRM] Nodes connected: 340\n",
      "[PRM] Nodes connected: 360\n",
      "[PRM] Nodes connected: 380\n",
      "1 disconnected nodes [[400]]\n"
     ]
    }
   ],
   "source": [
    "#prm cfg\n",
    "limits = [np.array(q_low), np.array(q_high)]\n",
    "mat = meshcat.geometry.MeshLambertMaterial(color= 0x000000 , wireframe=True)\n",
    "\n",
    "def plotting_fn(nodes, adjacency_list, mat, width):\n",
    "    plt_idx = 0\n",
    "    for node_idx in range(nodes.shape[0]):\n",
    "        pos1 = nodes[node_idx, :]\n",
    "        for edge_idx in range(len(adjacency_list[node_idx])): \n",
    "            pos2 = nodes[adjacency_list[node_idx][edge_idx], :]\n",
    "            vis2['prm']['rm']['line' + str(plt_idx)].set_object( meshcat_line(pos1, pos2, width), mat)\n",
    "            plt_idx +=1\n",
    "            \n",
    "plotting_fn_handle = partial(plotting_fn, mat = mat, width = 0.01)\n",
    "\n",
    "def collision(pos, col_func_handle):\n",
    "    return col_func_handle(pos[0], pos[1], pos[2])\n",
    "\n",
    "prm_col_fn_handle = partial(collision, col_func_handle = col_func_handle)\n",
    "\n",
    "PRM = prm.PRM( \n",
    "            limits,\n",
    "            num_points = 400,\n",
    "            col_func_handle = prm_col_fn_handle,\n",
    "            num_neighbours = 5, \n",
    "            dist_thresh = .5,\n",
    "            num_col_checks = 10,\n",
    "            verbose = True,\n",
    "            plotcallback = plotting_fn_handle\n",
    "            )\n",
    "\n",
    "PRM.add_start_end(start, target)\n",
    "PRM.plot()\n",
    "path, sp_length = PRM.find_shortest_path()\n",
    "\n",
    "mat = meshcat.geometry.MeshLambertMaterial(color= 0xFFF812 , wireframe=True)\n",
    "mat.wireframeLinewidth = 2.0\n",
    "num_waypoints = len(path)\n",
    "for idx in range(num_waypoints-1):\n",
    "    vis2['prm']['path']['path' + str(idx)].set_object( meshcat_line(path[idx], path[idx+1],width = 0.01), mat)\n",
    "traj= utils.PWLinTraj(path, 5.0)"
   ]
  },
  {
   "cell_type": "code",
   "execution_count": 20,
   "metadata": {},
   "outputs": [
    {
     "name": "stdout",
     "output_type": "stream",
     "text": [
      "0.0           \r"
     ]
    }
   ],
   "source": [
    "#loop\n",
    "substeps = 1000\n",
    "utils.animate(traj, showres, substeps, 10*substeps)\n",
    "            "
   ]
  },
  {
   "cell_type": "code",
   "execution_count": 21,
   "metadata": {},
   "outputs": [],
   "source": [
    "def get_AABB_limits(hpoly):\n",
    "    #im using snopt, sue me\n",
    "    max_limits = []\n",
    "    min_limits = []\n",
    "    A = hpoly.A()\n",
    "    b = hpoly.b()\n",
    "\n",
    "    for idx in range(3):\n",
    "        aabbprog = MathematicalProgram()\n",
    "        x = aabbprog.NewContinuousVariables(3, 'x')\n",
    "        cost = x[idx]\n",
    "        aabbprog.AddCost(cost)\n",
    "        aabbprog.AddConstraint(le(A@x,b))\n",
    "        solver = SnoptSolver()\n",
    "        result = solver.Solve(aabbprog)\n",
    "        min_limits.append(result.get_optimal_cost()-0.01)\n",
    "        aabbprog = MathematicalProgram()\n",
    "        x = aabbprog.NewContinuousVariables(3, 'x')\n",
    "        cost = -x[idx]\n",
    "        aabbprog.AddCost(cost)\n",
    "        aabbprog.AddConstraint(le(A@x,b))\n",
    "        solver = SnoptSolver()\n",
    "        result = solver.Solve(aabbprog)\n",
    "        max_limits.append(-result.get_optimal_cost() + 0.01)\n",
    "    return max_limits, min_limits\n",
    "\n",
    "def plot_3d_poly(region, resolution, vis, name, mat = None):\n",
    "    \n",
    "    def inpolycheck(q0,q1,q2, A, b):\n",
    "        q = np.array([q0, q1, q2])\n",
    "        res = np.min(1.0*(A@q-b<=0))\n",
    "        #print(res)\n",
    "        return res\n",
    "    \n",
    "    aabb_max, aabb_min = get_AABB_limits(region)\n",
    "    print('AABB:', aabb_min, aabb_max)\n",
    "    col_hand = partial(inpolycheck, A=region.A(), b=region.b())\n",
    "    vertices, triangles = mcubes.marching_cubes_func(tuple(aabb_min), \n",
    "                                                     tuple(aabb_max),\n",
    "                                                     resolution, \n",
    "                                                     resolution, \n",
    "                                                     resolution, \n",
    "                                                     col_hand, \n",
    "                                                     0.5)\n",
    "    if mat is None:\n",
    "        mat = meshcat.geometry.MeshLambertMaterial(color=0x000000 , wireframe=True)\n",
    "        mat.opacity = 0.3\n",
    "    vis[name].set_object(\n",
    "            meshcat.geometry.TriangularMeshGeometry(vertices, triangles),\n",
    "            mat)\n",
    "\n",
    "def plot_point(loc, radius, mat, vis, marker_id):\n",
    "    vis['markers'][marker_id].set_object(\n",
    "                meshcat.geometry.Sphere(radius), mat)\n",
    "    vis['markers'][marker_id].set_transform(\n",
    "                meshcat.transformations.translation_matrix(loc))\n",
    "\n",
    "def Iris_fn(q_seed, iris_options, plant, plant_context, verbose):\n",
    "    start_time = time.time()\n",
    "    region = IrisInConfigurationSpace(plant, plant_context, q_seed, iris_options)\n",
    "    ellipse = region.MaximumVolumeInscribedEllipsoid()\n",
    "    if verbose:\n",
    "        print(\"Time: %6.2f \\tVolume: %6.2f \\tCenter:\" % (time.time() - start_time, ellipse.Volume()),\n",
    "          ellipse.center(), flush=True)\n",
    "  \n",
    "    return region, ellipse\n",
    "\n",
    "IRISOPTS = IrisOptions()\n",
    "IRISOPTS.require_sample_point_is_contained = True\n",
    "IRISOPTS.iteration_limit = 60\n",
    "IRISOPTS.enable_ibex = False\n",
    "\n",
    "iris_hand = partial(Iris_fn, \n",
    "                    iris_options = IRISOPTS, \n",
    "                    plant = plant, \n",
    "                    plant_context = plant_context, \n",
    "                    verbose = True)\n",
    "\n",
    "def get_closest_point_in_set(polys, sample, dim = 3):\n",
    "    num_regions = len(polys) \n",
    "    prog = MathematicalProgram()\n",
    "    x = prog.NewContinuousVariables(dim*num_regions, 'x')  \n",
    "    cost = x - np.tile(sample, (1, num_regions)).squeeze()\n",
    "    cost = cost@cost.T\n",
    "    prog.AddCost(cost)\n",
    "    for idx in range(num_regions):\n",
    "        A = polys[idx].A()\n",
    "        b = polys[idx].b()\n",
    "        prog.AddConstraint(le(A@x[idx*dim:(idx + 1)*dim], b))\n",
    "    solver = SnoptSolver()\n",
    "    result = solver.Solve(prog)\n",
    "    x_sol = result.GetSolution(x).reshape(num_regions,3)\n",
    "    dists = np.linalg.norm(x_sol-sample, axis = 1)\n",
    "    closest = np.argmin(dists)\n",
    "    min_dist = dists[closest]\n",
    "    min_point = x_sol[closest, :]\n",
    "    \n",
    "    return min_point, min_dist, x_sol, result"
   ]
  },
  {
   "cell_type": "code",
   "execution_count": 22,
   "metadata": {},
   "outputs": [
    {
     "name": "stdout",
     "output_type": "stream",
     "text": [
      "Time:   0.08 \tVolume:   0.69 \tCenter: [-0.1815499  -1.03678817  1.14742867]\n",
      "Time:   0.11 \tVolume:   0.13 \tCenter: [ 0.64658817 -0.49381788  1.57702835]\n",
      "AABB: [-0.6007769135705997, -1.71, -1.1951564470170775] [0.5450231335219549, 0.39394799941186576, 2.01]\n",
      "AABB: [0.08009349427926711, -1.1070183294894522, 1.0257798293517983] [1.0230006148347865, 0.08357587623857946, 2.01]\n"
     ]
    }
   ],
   "source": [
    "seed_points = []\n",
    "polys = []\n",
    "ells = []\n",
    "region, ell = iris_hand(start)\n",
    "polys.append(region)\n",
    "ells.append(ell)\n",
    "region, ell = iris_hand(target)\n",
    "polys.append(region)\n",
    "ells.append(ell)\n",
    "idx = 0\n",
    "marker_mat = meshcat.geometry.MeshLambertMaterial(color= utils.rgb_to_hex((255, 125, 125)) , wireframe=True)\n",
    "for poly in polys:\n",
    "    plot_3d_poly(poly, resolution= 20, vis = vis2['irisrrt'], name = 'poly_' + str(idx), mat = None )\n",
    "    #plot_point(, radius = 0.05, mat = marker_mat , vis =vis2['irisrrt'], marker_id = str(idx))\n",
    "    idx +=1"
   ]
  },
  {
   "cell_type": "code",
   "execution_count": 23,
   "metadata": {},
   "outputs": [
    {
     "ename": "NameError",
     "evalue": "name 'rgb_to_hex' is not defined",
     "output_type": "error",
     "traceback": [
      "\u001b[0;31m---------------------------------------------------------------------------\u001b[0m",
      "\u001b[0;31mNameError\u001b[0m                                 Traceback (most recent call last)",
      "\u001b[0;32m<ipython-input-23-040f4afe28ea>\u001b[0m in \u001b[0;36m<module>\u001b[0;34m\u001b[0m\n\u001b[1;32m      7\u001b[0m \u001b[0;34m\u001b[0m\u001b[0m\n\u001b[1;32m      8\u001b[0m \u001b[0;34m\u001b[0m\u001b[0m\n\u001b[0;32m----> 9\u001b[0;31m \u001b[0mmarker_mat\u001b[0m \u001b[0;34m=\u001b[0m \u001b[0mmeshcat\u001b[0m\u001b[0;34m.\u001b[0m\u001b[0mgeometry\u001b[0m\u001b[0;34m.\u001b[0m\u001b[0mMeshLambertMaterial\u001b[0m\u001b[0;34m(\u001b[0m\u001b[0mcolor\u001b[0m\u001b[0;34m=\u001b[0m \u001b[0mrgb_to_hex\u001b[0m\u001b[0;34m(\u001b[0m\u001b[0;34m(\u001b[0m\u001b[0;36m255\u001b[0m\u001b[0;34m,\u001b[0m \u001b[0;36m0\u001b[0m\u001b[0;34m,\u001b[0m \u001b[0;36m255\u001b[0m\u001b[0;34m)\u001b[0m\u001b[0;34m)\u001b[0m \u001b[0;34m,\u001b[0m \u001b[0mwireframe\u001b[0m\u001b[0;34m=\u001b[0m\u001b[0;32mTrue\u001b[0m\u001b[0;34m)\u001b[0m\u001b[0;34m\u001b[0m\u001b[0;34m\u001b[0m\u001b[0m\n\u001b[0m\u001b[1;32m     10\u001b[0m \u001b[0;32mfor\u001b[0m \u001b[0midx\u001b[0m \u001b[0;32min\u001b[0m \u001b[0mrange\u001b[0m\u001b[0;34m(\u001b[0m\u001b[0mx_sol\u001b[0m\u001b[0;34m.\u001b[0m\u001b[0mshape\u001b[0m\u001b[0;34m[\u001b[0m\u001b[0;36m0\u001b[0m\u001b[0;34m]\u001b[0m\u001b[0;34m)\u001b[0m\u001b[0;34m:\u001b[0m\u001b[0;34m\u001b[0m\u001b[0;34m\u001b[0m\u001b[0m\n\u001b[1;32m     11\u001b[0m     \u001b[0mplot_point\u001b[0m\u001b[0;34m(\u001b[0m\u001b[0mx_sol\u001b[0m\u001b[0;34m[\u001b[0m\u001b[0midx\u001b[0m\u001b[0;34m,\u001b[0m\u001b[0;34m:\u001b[0m\u001b[0;34m]\u001b[0m\u001b[0;34m,\u001b[0m \u001b[0mradius\u001b[0m \u001b[0;34m=\u001b[0m \u001b[0;36m0.05\u001b[0m\u001b[0;34m,\u001b[0m \u001b[0mmat\u001b[0m \u001b[0;34m=\u001b[0m \u001b[0mmarker_mat\u001b[0m \u001b[0;34m,\u001b[0m \u001b[0mvis\u001b[0m \u001b[0;34m=\u001b[0m \u001b[0mvis2\u001b[0m\u001b[0;34m[\u001b[0m\u001b[0;34m'irisrrt'\u001b[0m\u001b[0;34m]\u001b[0m\u001b[0;34m,\u001b[0m \u001b[0mmarker_id\u001b[0m \u001b[0;34m=\u001b[0m \u001b[0;34m'sol'\u001b[0m \u001b[0;34m+\u001b[0m \u001b[0mstr\u001b[0m\u001b[0;34m(\u001b[0m\u001b[0midx\u001b[0m\u001b[0;34m)\u001b[0m\u001b[0;34m)\u001b[0m\u001b[0;34m\u001b[0m\u001b[0;34m\u001b[0m\u001b[0m\n",
      "\u001b[0;31mNameError\u001b[0m: name 'rgb_to_hex' is not defined"
     ]
    }
   ],
   "source": [
    "sample = np.array([0.2, -0.2, 0.3])\n",
    "seed_points.append(sample)\n",
    "marker_mat = meshcat.geometry.MeshLambertMaterial(color= utils.rgb_to_hex((255, 10, 50)) , wireframe=True)\n",
    "\n",
    "plot_point(sample, radius = 0.05, mat = marker_mat , vis = vis2['irisrrt'], marker_id = 'sample')\n",
    "new_seed_point, dists, x_sol, result =  get_closest_point_in_set(polys, sample)\n",
    "\n",
    "\n",
    "marker_mat = meshcat.geometry.MeshLambertMaterial(color= rgb_to_hex((255, 0, 255)) , wireframe=True)\n",
    "for idx in range(x_sol.shape[0]): \n",
    "    plot_point(x_sol[idx,:], radius = 0.05, mat = marker_mat , vis = vis2['irisrrt'], marker_id = 'sol' + str(idx))\n",
    "\n",
    "region, ell = iris_hand(new_seed_point)\n",
    "polys.append(region)\n",
    "ells.append(ell)\n",
    "plot_3d_poly(polys[-1], resolution= 20, vis = vis2['irisrrt'], name = 'poly_' + str(len(polys)), mat = None )\n",
    "    "
   ]
  },
  {
   "cell_type": "code",
   "execution_count": null,
   "metadata": {},
   "outputs": [],
   "source": [
    "result.is_success()"
   ]
  },
  {
   "cell_type": "code",
   "execution_count": null,
   "metadata": {},
   "outputs": [],
   "source": [
    "def Iris_fn(q_seed, iris_options, plant, plant_context, verbose):\n",
    "    start_time = time.time()\n",
    "    region = IrisInConfigurationSpace(plant, plant_context, q_seed, iris_options)\n",
    "    ellipse = region.MaximumVolumeInscribedEllipsoid()\n",
    "    if verbose:\n",
    "        print(\"Time: %6.2f \\tVolume: %6.2f \\tCenter:\" % (time.time() - start_time, ellipse.Volume()),\n",
    "          ellipse.center(), flush=True)\n",
    "  \n",
    "    return region, ellipse\n",
    "\n",
    "IRISOPTS = IrisOptions()\n",
    "IRISOPTS.require_sample_point_is_contained = True\n",
    "IRISOPTS.iteration_limit = 60\n",
    "IRISOPTS.enable_ibex = False\n",
    "\n",
    "iris_hand = partial(Iris_fn, \n",
    "                    iris_options = IRISOPTS, \n",
    "                    plant = plant, \n",
    "                    plant_context = plant_context, \n",
    "                    verbose = True)\n",
    "\n",
    "def plot_callback(region, seed_point, pos_samp, region_id, vis):\n",
    "    scale = np.clip(150 + region_id *105/5.0, a_min = 0, a_max = 255)\n",
    "    mat = meshcat.geometry.MeshLambertMaterial(color= utils.rgb_to_hex((int(0.2*scale), 0, int(scale))) , wireframe=True)\n",
    "    mat_seed = meshcat.geometry.MeshLambertMaterial(color= utils.rgb_to_hex((0, 0, 0)), wireframe=True)\n",
    "    mat_samp = meshcat.geometry.MeshLambertMaterial(color= utils.rgb_to_hex((155, 0, 155)), wireframe=True)\n",
    "    \n",
    "    print('seed_point', seed_point)\n",
    "    print('pos_samp', pos_samp)\n",
    "    utils.plot_3d_poly(region = region,\n",
    "                       resolution = 30,\n",
    "                       vis = vis['regions'],\n",
    "                       name = str(region_id),\n",
    "                       mat = mat)\n",
    "    utils.plot_point(seed_point,\n",
    "                     radius = 0.05, \n",
    "                     mat = mat_seed, \n",
    "                     vis = vis['seed'], \n",
    "                     marker_id = str(region_id))\n",
    "    \n",
    "    utils.plot_point(pos_samp,\n",
    "                     radius = 0.05, \n",
    "                     mat = mat_samp, \n",
    "                     vis = vis['samples'], \n",
    "                     marker_id = str(region_id))\n",
    "    \n",
    "plot_callback_handle = partial(plot_callback, vis = vis2['rrtiris']) \n",
    "\n",
    "def collision(pos, col_func_handle):\n",
    "    return col_func_handle(pos[0], pos[1], pos[2])\n",
    "    \n",
    "rrti_col_fn_handle = partial(collision, col_func_handle = col_func_handle)"
   ]
  },
  {
   "cell_type": "code",
   "execution_count": null,
   "metadata": {},
   "outputs": [],
   "source": [
    "RRTI = rrtiris.RRTIRIS(start = start, \n",
    "                       goal = target , \n",
    "                       limits = [np.array(q_low), np.array(q_high)], \n",
    "                       iris_handle = iris_hand,\n",
    "                       col_func_handle = rrti_col_fn_handle, \n",
    "                       init_goal_sample_rate = 0.05,\n",
    "                       goal_sample_rate_scaler = 0.1,\n",
    "                       verbose = False,\n",
    "                       plotcallback = plot_callback_handle,\n",
    "                       sample_collision_free = True\n",
    "                       )"
   ]
  },
  {
   "cell_type": "code",
   "execution_count": null,
   "metadata": {},
   "outputs": [],
   "source": [
    "RRTI.run(12)"
   ]
  },
  {
   "cell_type": "code",
   "execution_count": 115,
   "metadata": {},
   "outputs": [
    {
     "data": {
      "text/plain": [
       "<Expression \"(pow((-0.69999999999999996 + x(2)), 2) + pow((-0.69999999999999996 + x(5)), 2) + pow((-0.20000000000000001 + x(0)), 2) + pow((-0.20000000000000001 + x(3)), 2) + pow((0.20000000000000001 + x(1)), 2) + pow((0.20000000000000001 + x(4)), 2))\">"
      ]
     },
     "execution_count": 115,
     "metadata": {},
     "output_type": "execute_result"
    }
   ],
   "source": [
    "cost."
   ]
  },
  {
   "cell_type": "code",
   "execution_count": null,
   "metadata": {},
   "outputs": [],
   "source": []
  }
 ],
 "metadata": {
  "interpreter": {
   "hash": "916dbcbb3f70747c44a77c7bcd40155683ae19c65e1c03b4aa3499c5328201f1"
  },
  "kernelspec": {
   "display_name": "Python 3",
   "language": "python",
   "name": "python3"
  },
  "language_info": {
   "codemirror_mode": {
    "name": "ipython",
    "version": 3
   },
   "file_extension": ".py",
   "mimetype": "text/x-python",
   "name": "python",
   "nbconvert_exporter": "python",
   "pygments_lexer": "ipython3",
   "version": "3.8.10"
  }
 },
 "nbformat": 4,
 "nbformat_minor": 2
}
