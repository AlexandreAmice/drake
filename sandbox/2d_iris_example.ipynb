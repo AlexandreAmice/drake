{
 "cells": [
  {
   "cell_type": "code",
   "execution_count": 1,
   "metadata": {},
   "outputs": [],
   "source": [
    "%load_ext autoreload"
   ]
  },
  {
   "cell_type": "code",
   "execution_count": 73,
   "metadata": {},
   "outputs": [],
   "source": [
    "import numpy as np\n",
    "import os\n",
    "import mcubes\n",
    "import meshcat\n",
    "import pydrake\n",
    "from pydrake.geometry import SceneGraph\n",
    "from pydrake.systems.framework import DiagramBuilder\n",
    "from pydrake.common import FindResourceOrThrow\n",
    "from pydrake.multibody.plant import MultibodyPlant, AddMultibodyPlantSceneGraph\n",
    "from pydrake.multibody.parsing import Parser, LoadModelDirectives, ProcessModelDirectives\n",
    "from pydrake.multibody.tree import RevoluteJoint\n",
    "from pydrake.all import ConnectMeshcatVisualizer, InverseKinematics, RigidTransform, RotationMatrix\n",
    "from pydrake.all import BsplineTrajectoryThroughUnionOfHPolyhedra, IrisInConfigurationSpace, IrisOptions, Rgba\n",
    "import time\n",
    "from meshcat import Visualizer\n",
    "from functools import partial\n",
    "\n",
    "import ipywidgets as widgets\n",
    "from IPython.display import display\n",
    "\n",
    "from meshcat_cpp_utils import StartMeshcat, MeshcatJointSliders\n",
    "from pydrake.all import MeshcatVisualizerCpp, MeshcatVisualizerParams, Role"
   ]
  },
  {
   "cell_type": "code",
   "execution_count": 74,
   "metadata": {},
   "outputs": [],
   "source": [
    "# Setup meshcat\n",
    "from meshcat.servers.zmqserver import start_zmq_server_as_subprocess\n",
    "proc, zmq_url, web_url = start_zmq_server_as_subprocess(server_args=[])\n",
    "proc2, zmq_url2, web_url2 = start_zmq_server_as_subprocess(server_args=[])"
   ]
  },
  {
   "cell_type": "code",
   "execution_count": 75,
   "metadata": {},
   "outputs": [],
   "source": [
    "#settings\n",
    "q0 = [0.0, 0.0, 0.0]\n",
    "q_low = [-1.7,-1.7, -2.0]\n",
    "q_high = [1.7, 1.7, 2.0]\n",
    "\n",
    "#marching cubes\n",
    "q_low_mc = q_low.copy()\n",
    "q_high_mc =  q_high.copy()\n",
    "N = 50"
   ]
  },
  {
   "cell_type": "code",
   "execution_count": 187,
   "metadata": {
    "scrolled": false
   },
   "outputs": [
    {
     "name": "stdout",
     "output_type": "stream",
     "text": [
      "You can open the visualizer by visiting the following URL:\n",
      "http://127.0.0.1:7003/static/\n",
      "You can open the visualizer by visiting the following URL:\n",
      "http://127.0.0.1:7004/static/\n",
      "Connecting to meshcat-server at zmq_url=tcp://127.0.0.1:6003...\n",
      "You can open the visualizer by visiting the following URL:\n",
      "http://127.0.0.1:7003/static/\n",
      "Connected to meshcat-server.\n"
     ]
    }
   ],
   "source": [
    "vis = Visualizer(zmq_url=zmq_url)\n",
    "vis.delete()\n",
    "vis2 = Visualizer(zmq_url=zmq_url2)\n",
    "vis2.delete()\n",
    "\n",
    "builder = DiagramBuilder()\n",
    "plant, scene_graph = AddMultibodyPlantSceneGraph(builder, time_step=0.001)\n",
    "parser = Parser(plant)\n",
    "tworob_asset = FindResourceOrThrow(\"drake/sandbox/assets/doublerob.urdf\")\n",
    "#two_dof_asset = FindResourceOrThrow(\"drake/sandbox/assets/planar2dof.urdf\")\n",
    "box_asset = FindResourceOrThrow(\"drake/sandbox/assets/box.urdf\")\n",
    "\n",
    "models =[]\n",
    "models.append(parser.AddModelFromFile(tworob_asset))\n",
    "#models.append(parser.AddModelFromFile(one_dof_asset))\n",
    "models.append(parser.AddModelFromFile(box_asset))\n",
    "\n",
    "idx = 0\n",
    "for model in models:\n",
    "    for joint_index in plant.GetJointIndices(model):\n",
    "        joint = plant.get_mutable_joint(joint_index)\n",
    "        if isinstance(joint, RevoluteJoint):\n",
    "            joint.set_default_angle(q0[idx])\n",
    "            idx += 1\n",
    "            \n",
    "locs = [[0.,0.,0.],[0.,0.,0.]]\n",
    "idx = 0\n",
    "for model in models:\n",
    "    plant.WeldFrames(plant.world_frame(), plant.GetFrameByName(\"base\", model), RigidTransform(locs[idx]))\n",
    "    idx+=1\n",
    "\n",
    "plant.Finalize()\n",
    "\n",
    "visualizer = ConnectMeshcatVisualizer(builder, scene_graph, zmq_url=zmq_url, delete_prefix_on_load=False, )\n",
    "\n",
    "diagram = builder.Build()\n",
    "visualizer.load()\n",
    "context = diagram.CreateDefaultContext()\n",
    "plant_context = plant.GetMyContextFromRoot(context)\n",
    "diagram.Publish(context)\n",
    "\n",
    "joints = []\n",
    "idx = 0\n",
    "for model in models:\n",
    "    jointindx = plant.GetJointIndices(model)\n",
    "    for j in jointindx:\n",
    "        joint = plant.get_mutable_joint(j)\n",
    "        if isinstance(joint, RevoluteJoint):\n",
    "            joints.append(joint)\n",
    "            joints[-1].set_position_limits(lower_limits= np.array([q_low[idx]]), upper_limits= np.array([np.array([q_high[idx]])]))\n",
    "            idx +=1\n",
    "        \n",
    "    \n",
    "def set_joint_ang(val, idx):\n",
    "    joints[idx].set_angle(plant_context, val)\n",
    "    \n",
    "def set_joint_angles(vals):\n",
    "    joints[0].set_angle(plant_context, vals[0])\n",
    "    joints[1].set_angle(plant_context, vals[1])\n",
    "    joints[2].set_angle(plant_context, vals[2])\n",
    "    \n",
    "ik = InverseKinematics(plant, plant_context)\n",
    "collision_constraint = ik.AddMinimumDistanceConstraint(0.001, 0.01)\n",
    "\n",
    "def eval_cons(q0, q1, q2, c, tol):\n",
    "        return 1-1*float(c.evaluator().CheckSatisfied([q0, q1, q2], tol))\n",
    "    \n",
    "col_func_handle = partial(eval_cons, c=collision_constraint, tol=0.01)\n",
    "\n",
    "def showres(q):\n",
    "    set_joint_ang(q[0],0)\n",
    "    set_joint_ang(q[1],1)\n",
    "    set_joint_ang(q[2],2)\n",
    "    col = col_func_handle(*q)\n",
    "    if col:\n",
    "        vis2[\"q\"].set_object(\n",
    "                meshcat.geometry.Sphere(0.1), meshcat.geometry.MeshLambertMaterial(color=0xFFB900))\n",
    "        vis2[\"q\"].set_transform(\n",
    "                meshcat.transformations.translation_matrix(q))\n",
    "    else:\n",
    "        vis2[\"q\"].set_object(\n",
    "                meshcat.geometry.Sphere(0.1), meshcat.geometry.MeshLambertMaterial(color=0x3EFF00))\n",
    "        vis2[\"q\"].set_transform(\n",
    "                meshcat.transformations.translation_matrix(q))\n",
    "    diagram.Publish(context)\n",
    "    print(\"              \", end = \"\\r\")\n",
    "    print(col , end = \"\\r\")\n",
    "\n",
    "sliders = []\n",
    "sliders.append(widgets.FloatSlider(min=q_low[0], max=q_high[0], value=0, description='q0'))\n",
    "sliders.append(widgets.FloatSlider(min=q_low[1], max=q_high[1], value=0, description='q1'))\n",
    "sliders.append(widgets.FloatSlider(min=q_low[2], max=q_high[2], value=0, description='q2'))\n",
    "\n",
    "q = q0.copy()\n",
    "def handle_slider_change(change, idx):\n",
    "    q[idx] = change['new']\n",
    "    #print(q, end=\"\\r\")\n",
    "    showres(q)\n",
    "    \n",
    "idx = 0\n",
    "for slider in sliders:\n",
    "    slider.observe(partial(handle_slider_change, idx = idx), names='value')\n",
    "    idx+=1\n"
   ]
  },
  {
   "cell_type": "code",
   "execution_count": 188,
   "metadata": {},
   "outputs": [
    {
     "name": "stdout",
     "output_type": "stream",
     "text": [
      "              \r",
      "0.0\r"
     ]
    }
   ],
   "source": [
    "#marching cubes\n",
    "vertices, triangles = mcubes.marching_cubes_func(tuple(q_low), tuple(q_high), N, N, N, col_func_handle, 0.5)\n",
    "vis2[\"collision_constraint\"].set_object(\n",
    "            meshcat.geometry.TriangularMeshGeometry(vertices, triangles),\n",
    "            meshcat.geometry.MeshLambertMaterial(color=0xff0000, wireframe=True))\n",
    "q = q0.copy()\n",
    "showres(q)"
   ]
  },
  {
   "cell_type": "code",
   "execution_count": 130,
   "metadata": {
    "scrolled": false
   },
   "outputs": [
    {
     "data": {
      "application/vnd.jupyter.widget-view+json": {
       "model_id": "6d8a96a6726d492ca67ce98808806fd2",
       "version_major": 2,
       "version_minor": 0
      },
      "text/plain": [
       "FloatSlider(value=0.0, description='q0', max=1.7, min=-1.7)"
      ]
     },
     "metadata": {},
     "output_type": "display_data"
    },
    {
     "data": {
      "application/vnd.jupyter.widget-view+json": {
       "model_id": "31b056f9a31148fa90e1d3ba1810c1fd",
       "version_major": 2,
       "version_minor": 0
      },
      "text/plain": [
       "FloatSlider(value=0.0, description='q1', max=1.7, min=-1.7)"
      ]
     },
     "metadata": {},
     "output_type": "display_data"
    },
    {
     "data": {
      "application/vnd.jupyter.widget-view+json": {
       "model_id": "ef9930daa9c14d20b20254a2bfbcb4fc",
       "version_major": 2,
       "version_minor": 0
      },
      "text/plain": [
       "FloatSlider(value=0.0, description='q2', max=2.0, min=-2.0)"
      ]
     },
     "metadata": {},
     "output_type": "display_data"
    },
    {
     "data": {
      "text/html": [
       "\n",
       "            <div style=\"height: 400px; width: 100%; overflow-x: auto; overflow-y: hidden; resize: both\">\n",
       "            <iframe src=\"http://127.0.0.1:7003/static/\" style=\"width: 100%; height: 100%; border: none\"></iframe>\n",
       "            </div>\n",
       "            "
      ],
      "text/plain": [
       "<IPython.core.display.HTML object>"
      ]
     },
     "metadata": {},
     "output_type": "display_data"
    },
    {
     "data": {
      "text/html": [
       "\n",
       "            <div style=\"height: 400px; width: 100%; overflow-x: auto; overflow-y: hidden; resize: both\">\n",
       "            <iframe src=\"http://127.0.0.1:7004/static/\" style=\"width: 100%; height: 100%; border: none\"></iframe>\n",
       "            </div>\n",
       "            "
      ],
      "text/plain": [
       "<IPython.core.display.HTML object>"
      ]
     },
     "metadata": {},
     "output_type": "display_data"
    },
    {
     "name": "stdout",
     "output_type": "stream",
     "text": [
      "0.0           \r"
     ]
    }
   ],
   "source": [
    "for slider in sliders:\n",
    "    display(slider)\n",
    "\n",
    "display(vis.jupyter_cell())\n",
    "display(vis2.jupyter_cell())"
   ]
  },
  {
   "cell_type": "code",
   "execution_count": 189,
   "metadata": {},
   "outputs": [
    {
     "name": "stdout",
     "output_type": "stream",
     "text": [
      "Time:   0.16 \tVolume:   1.52 \tCenter: [ 0.19923911 -0.51555715 -0.16204128]\n",
      "Time:   0.06 \tVolume:   0.13 \tCenter: [ 0.67937999 -0.49625952  1.53735375]\n",
      "Time:   0.06 \tVolume:   1.05 \tCenter: [-0.06171656 -0.89319338  0.39752367]\n",
      "Time:   0.09 \tVolume:   0.33 \tCenter: [ 0.05710662 -0.34521315  1.65147226]\n",
      "Time:   0.05 \tVolume:   0.22 \tCenter: [-0.26468704 -0.33151403  1.54513003]\n"
     ]
    }
   ],
   "source": [
    "seed_points = np.array([[0.0, 0, 0], # startpoint\n",
    "                        [0.8, -0.8, 1.3],  # blue low green up\n",
    "                        [0.1, -1.2, 0.9],     # green low other up\n",
    "                        [0.2, -0.6, 1.6],\n",
    "                        [-0.5, -1.0, 1.9]])    # passing\n",
    "\n",
    "\n",
    "#run iris here :)))\n",
    "iris_options = IrisOptions()\n",
    "iris_options.require_sample_point_is_contained = True\n",
    "iris_options.iteration_limit = 50\n",
    "iris_options.enable_ibex = False\n",
    "\n",
    "regions = []\n",
    "ellipses = []\n",
    "for i in range(seed_points.shape[0]):\n",
    "    start_time = time.time()\n",
    "    hpoly = IrisInConfigurationSpace(plant, plant_context, seed_points[i,:], iris_options)\n",
    "    ellipse = hpoly.MaximumVolumeInscribedEllipsoid()\n",
    "    print(\"Time: %6.2f \\tVolume: %6.2f \\tCenter:\" % (time.time() - start_time, ellipse.Volume()),\n",
    "          ellipse.center(), flush=True)\n",
    "    ellipses.append(ellipse)\n",
    "    regions.append(hpoly)"
   ]
  },
  {
   "cell_type": "code",
   "execution_count": 190,
   "metadata": {},
   "outputs": [],
   "source": [
    "def inpolycheck(q0,q1,q2, A, b):\n",
    "    q = np.array([q0, q1, q2])\n",
    "    res = np.min(1.0*(A@q-b<=0))\n",
    "    #print(res)\n",
    "    return res\n",
    "\n",
    "meshes = []\n",
    "col1 = 0x002BFF\n",
    "col2 = 0x3EFF00 \n",
    "idx = 0\n",
    "step = 1/(1.0*len(regions))\n",
    "\n",
    "for region in regions:\n",
    "    A = region.A()\n",
    "    b = region.b()\n",
    "    col_hand = partial(inpolycheck, A=A, b=b)\n",
    "    vertices, triangles = mcubes.marching_cubes_func(tuple(q_low), tuple(q_high), 50, 50, 50, col_hand, 0.5)\n",
    "    regstr = \"regions\" +str(idx)\n",
    "    ellstr = \"ellipse\" +str(idx)\n",
    "    mat = meshcat.geometry.MeshLambertMaterial(color= int((1-idx*step)*col1 + idx*step*col2), wireframe=True)\n",
    "    mat.opacity = 0.1\n",
    "    vis2['regions'][regstr].set_object(\n",
    "            meshcat.geometry.TriangularMeshGeometry(vertices, triangles),\n",
    "            mat)\n",
    "    \n",
    "    C = ellipses[idx].A()\n",
    "    d = ellipses[idx].center()\n",
    "    radii, R = np.linalg.eig(C.T@C)\n",
    "    R[:,0] = R[:,0]*np.linalg.det(R)\n",
    "    Rot = RotationMatrix(R)\n",
    " \n",
    "    transf = RigidTransform(Rot, d)\n",
    "    mat = meshcat.geometry.MeshLambertMaterial(color= int((1-idx*step)*col1 + idx*step*col2), wireframe=True)\n",
    "    mat.opacity = 0.15\n",
    "    vis2['ellipses'][ellstr].set_object(\n",
    "            meshcat.geometry.Ellipsoid(np.divide(1,np.sqrt(radii))),\n",
    "            meshcat.geometry.MeshLambertMaterial(color= int((1-idx*step)*col1 + idx*step*col2), wireframe=True))\n",
    "\n",
    "    vis2['ellipses'][ellstr].set_transform(transf.GetAsMatrix4())\n",
    "    \n",
    "    idx+=1"
   ]
  },
  {
   "cell_type": "code",
   "execution_count": 191,
   "metadata": {},
   "outputs": [
    {
     "name": "stdout",
     "output_type": "stream",
     "text": [
      "3.3430185317993164\n",
      "0.0\n",
      "8.988023067060103\n"
     ]
    }
   ],
   "source": [
    "# Solve path planning\n",
    "start = np.array([0.2, -1.6, 1.5])\n",
    "target = np.array([0.8,-0.9,1.5])\n",
    "start_time = time.time()\n",
    "spp = BsplineTrajectoryThroughUnionOfHPolyhedra(start, target, regions)\n",
    "spp.set_max_velocity([.4, .4, .4])\n",
    "spp.set_extra_control_points_per_region(5)\n",
    "# print(spp.num_regions())\n",
    "traj = spp.Solve()\n",
    "print(time.time() - start_time)\n",
    "print(traj.start_time())\n",
    "print(traj.end_time())\n",
    "#visualize\n",
    "maxit = 60\n",
    "pts = []\n",
    "for it in range(maxit):\n",
    "    pts.append(traj.value(it*traj.end_time()/maxit))\n",
    "    mat = meshcat.geometry.MeshLambertMaterial(color=0xFFF812)\n",
    "    mat.reflectivity = 1.0\n",
    "    vis2['traj']['points' + str(it)].set_object(\n",
    "                meshcat.geometry.Sphere(0.06), mat)\n",
    "    vis2['traj']['points' + str(it)].set_transform(\n",
    "                meshcat.transformations.translation_matrix(pts[-1].reshape(-1,)))\n",
    "    \n",
    "    set_joint_angles(pts[-1].reshape(-1,))\n",
    "    tf_l2 = plant.EvalBodyPoseInWorld(plant_context, plant.get_body(pydrake.multibody.tree.BodyIndex(3)))\n",
    "    R_l2 = tf_l2.rotation()\n",
    "    tl_l2 = R_l2@np.array([0,0,0.9]) + tf_l2.translation()\n",
    "    \n",
    "    tf_la = plant.EvalBodyPoseInWorld(plant_context, plant.get_body(pydrake.multibody.tree.BodyIndex(4)))\n",
    "    R_la = tf_la.rotation()\n",
    "    tl_la = R_la@np.array([0,0,1.2]) + tf_la.translation()\n",
    "     \n",
    "    \n",
    "    mat = meshcat.geometry.MeshLambertMaterial(color=0x0029F1)\n",
    "    mat.reflectivity = 1.0\n",
    "    vis['traj']['link2']['points' + str(it)].set_object(\n",
    "                meshcat.geometry.Sphere(0.02), mat)\n",
    "    vis['traj']['link2']['points' + str(it)].set_transform(\n",
    "                meshcat.transformations.translation_matrix(tl_l2))\n",
    "    mat = meshcat.geometry.MeshLambertMaterial(color=0x07F100)\n",
    "    mat.reflectivity = 1.0\n",
    "    vis['traj']['linka']['points' + str(it)].set_object(\n",
    "                meshcat.geometry.Sphere(0.02), mat)\n",
    "    vis['traj']['linka']['points' + str(it)].set_transform(\n",
    "                meshcat.transformations.translation_matrix(tl_la))\n",
    "    "
   ]
  },
  {
   "cell_type": "code",
   "execution_count": 192,
   "metadata": {},
   "outputs": [
    {
     "name": "stdout",
     "output_type": "stream",
     "text": [
      "0.0           \r"
     ]
    },
    {
     "ename": "KeyboardInterrupt",
     "evalue": "",
     "output_type": "error",
     "traceback": [
      "\u001b[0;31m---------------------------------------------------------------------------\u001b[0m",
      "\u001b[0;31mKeyboardInterrupt\u001b[0m                         Traceback (most recent call last)",
      "\u001b[0;32m<ipython-input-192-4331e09c57c3>\u001b[0m in \u001b[0;36m<module>\u001b[0;34m\u001b[0m\n\u001b[1;32m      7\u001b[0m \u001b[0;32mwhile\u001b[0m \u001b[0;32mTrue\u001b[0m\u001b[0;34m:\u001b[0m\u001b[0;34m\u001b[0m\u001b[0;34m\u001b[0m\u001b[0m\n\u001b[1;32m      8\u001b[0m     \u001b[0mq\u001b[0m \u001b[0;34m=\u001b[0m \u001b[0mtraj\u001b[0m\u001b[0;34m.\u001b[0m\u001b[0mvalue\u001b[0m\u001b[0;34m(\u001b[0m\u001b[0mtime_points\u001b[0m\u001b[0;34m[\u001b[0m\u001b[0midx\u001b[0m\u001b[0;34m]\u001b[0m\u001b[0;34m)\u001b[0m\u001b[0;34m\u001b[0m\u001b[0;34m\u001b[0m\u001b[0m\n\u001b[0;32m----> 9\u001b[0;31m     \u001b[0mshowres\u001b[0m\u001b[0;34m(\u001b[0m\u001b[0mq\u001b[0m\u001b[0;34m.\u001b[0m\u001b[0mreshape\u001b[0m\u001b[0;34m(\u001b[0m\u001b[0;34m-\u001b[0m\u001b[0;36m1\u001b[0m\u001b[0;34m,\u001b[0m\u001b[0;34m)\u001b[0m\u001b[0;34m)\u001b[0m\u001b[0;34m\u001b[0m\u001b[0;34m\u001b[0m\u001b[0m\n\u001b[0m\u001b[1;32m     10\u001b[0m     \u001b[0;32mif\u001b[0m \u001b[0mgoing_fwd\u001b[0m\u001b[0;34m:\u001b[0m\u001b[0;34m\u001b[0m\u001b[0;34m\u001b[0m\u001b[0m\n\u001b[1;32m     11\u001b[0m         \u001b[0;32mif\u001b[0m \u001b[0midx\u001b[0m \u001b[0;34m+\u001b[0m \u001b[0;36m1\u001b[0m \u001b[0;34m<\u001b[0m \u001b[0msteps\u001b[0m\u001b[0;34m:\u001b[0m\u001b[0;34m\u001b[0m\u001b[0;34m\u001b[0m\u001b[0m\n",
      "\u001b[0;32m<ipython-input-187-528b0af98a5a>\u001b[0m in \u001b[0;36mshowres\u001b[0;34m(q)\u001b[0m\n\u001b[1;32m     83\u001b[0m         vis2[\"q\"].set_transform(\n\u001b[1;32m     84\u001b[0m                 meshcat.transformations.translation_matrix(q))\n\u001b[0;32m---> 85\u001b[0;31m     \u001b[0mdiagram\u001b[0m\u001b[0;34m.\u001b[0m\u001b[0mPublish\u001b[0m\u001b[0;34m(\u001b[0m\u001b[0mcontext\u001b[0m\u001b[0;34m)\u001b[0m\u001b[0;34m\u001b[0m\u001b[0;34m\u001b[0m\u001b[0m\n\u001b[0m\u001b[1;32m     86\u001b[0m     \u001b[0mprint\u001b[0m\u001b[0;34m(\u001b[0m\u001b[0;34m\"              \"\u001b[0m\u001b[0;34m,\u001b[0m \u001b[0mend\u001b[0m \u001b[0;34m=\u001b[0m \u001b[0;34m\"\\r\"\u001b[0m\u001b[0;34m)\u001b[0m\u001b[0;34m\u001b[0m\u001b[0;34m\u001b[0m\u001b[0m\n\u001b[1;32m     87\u001b[0m     \u001b[0mprint\u001b[0m\u001b[0;34m(\u001b[0m\u001b[0mcol\u001b[0m \u001b[0;34m,\u001b[0m \u001b[0mend\u001b[0m \u001b[0;34m=\u001b[0m \u001b[0;34m\"\\r\"\u001b[0m\u001b[0;34m)\u001b[0m\u001b[0;34m\u001b[0m\u001b[0;34m\u001b[0m\u001b[0m\n",
      "\u001b[0;32m~/.cache/bazel/_bazel_peter/76bc0000d64a792547034bb2ef203b82/execroot/drake/bazel-out/k8-opt/bin/sandbox/2d_iris_example.runfiles/drake/bindings/pydrake/systems/meshcat_visualizer.py\u001b[0m in \u001b[0;36mDoPublish\u001b[0;34m(self, context, event)\u001b[0m\n\u001b[1;32m    596\u001b[0m             \u001b[0mframe_vis\u001b[0m \u001b[0;34m=\u001b[0m \u001b[0mvis\u001b[0m\u001b[0;34m[\u001b[0m\u001b[0mframe\u001b[0m\u001b[0;34m[\u001b[0m\u001b[0;34m'name'\u001b[0m\u001b[0;34m]\u001b[0m\u001b[0;34m]\u001b[0m\u001b[0;34m\u001b[0m\u001b[0;34m\u001b[0m\u001b[0m\n\u001b[1;32m    597\u001b[0m             \u001b[0mX_WF\u001b[0m \u001b[0;34m=\u001b[0m \u001b[0mquery_object\u001b[0m\u001b[0;34m.\u001b[0m\u001b[0mGetPoseInWorld\u001b[0m\u001b[0;34m(\u001b[0m\u001b[0mframe\u001b[0m\u001b[0;34m[\u001b[0m\u001b[0;34m'id'\u001b[0m\u001b[0;34m]\u001b[0m\u001b[0;34m)\u001b[0m\u001b[0;34m\u001b[0m\u001b[0;34m\u001b[0m\u001b[0m\n\u001b[0;32m--> 598\u001b[0;31m             \u001b[0mframe_vis\u001b[0m\u001b[0;34m.\u001b[0m\u001b[0mset_transform\u001b[0m\u001b[0;34m(\u001b[0m\u001b[0mX_WF\u001b[0m\u001b[0;34m.\u001b[0m\u001b[0mGetAsMatrix4\u001b[0m\u001b[0;34m(\u001b[0m\u001b[0;34m)\u001b[0m\u001b[0;34m)\u001b[0m\u001b[0;34m\u001b[0m\u001b[0;34m\u001b[0m\u001b[0m\n\u001b[0m\u001b[1;32m    599\u001b[0m             \u001b[0;32mif\u001b[0m \u001b[0mself\u001b[0m\u001b[0;34m.\u001b[0m\u001b[0m_is_recording\u001b[0m\u001b[0;34m:\u001b[0m\u001b[0;34m\u001b[0m\u001b[0;34m\u001b[0m\u001b[0m\n\u001b[1;32m    600\u001b[0m                 with self._animation.at_frame(\n",
      "\u001b[0;32m~/.cache/bazel/_bazel_peter/76bc0000d64a792547034bb2ef203b82/execroot/drake/bazel-out/k8-opt/bin/sandbox/2d_iris_example.runfiles/meshcat_python/src/meshcat/visualizer.py\u001b[0m in \u001b[0;36mset_transform\u001b[0;34m(self, matrix)\u001b[0m\n\u001b[1;32m    150\u001b[0m \u001b[0;34m\u001b[0m\u001b[0m\n\u001b[1;32m    151\u001b[0m     \u001b[0;32mdef\u001b[0m \u001b[0mset_transform\u001b[0m\u001b[0;34m(\u001b[0m\u001b[0mself\u001b[0m\u001b[0;34m,\u001b[0m \u001b[0mmatrix\u001b[0m\u001b[0;34m=\u001b[0m\u001b[0mnp\u001b[0m\u001b[0;34m.\u001b[0m\u001b[0meye\u001b[0m\u001b[0;34m(\u001b[0m\u001b[0;36m4\u001b[0m\u001b[0;34m)\u001b[0m\u001b[0;34m)\u001b[0m\u001b[0;34m:\u001b[0m\u001b[0;34m\u001b[0m\u001b[0;34m\u001b[0m\u001b[0m\n\u001b[0;32m--> 152\u001b[0;31m         \u001b[0;32mreturn\u001b[0m \u001b[0mself\u001b[0m\u001b[0;34m.\u001b[0m\u001b[0mwindow\u001b[0m\u001b[0;34m.\u001b[0m\u001b[0msend\u001b[0m\u001b[0;34m(\u001b[0m\u001b[0mSetTransform\u001b[0m\u001b[0;34m(\u001b[0m\u001b[0mmatrix\u001b[0m\u001b[0;34m,\u001b[0m \u001b[0mself\u001b[0m\u001b[0;34m.\u001b[0m\u001b[0mpath\u001b[0m\u001b[0;34m)\u001b[0m\u001b[0;34m)\u001b[0m\u001b[0;34m\u001b[0m\u001b[0;34m\u001b[0m\u001b[0m\n\u001b[0m\u001b[1;32m    153\u001b[0m \u001b[0;34m\u001b[0m\u001b[0m\n\u001b[1;32m    154\u001b[0m     \u001b[0;32mdef\u001b[0m \u001b[0mset_property\u001b[0m\u001b[0;34m(\u001b[0m\u001b[0mself\u001b[0m\u001b[0;34m,\u001b[0m \u001b[0mkey\u001b[0m\u001b[0;34m,\u001b[0m \u001b[0mvalue\u001b[0m\u001b[0;34m)\u001b[0m\u001b[0;34m:\u001b[0m\u001b[0;34m\u001b[0m\u001b[0;34m\u001b[0m\u001b[0m\n",
      "\u001b[0;32m~/.cache/bazel/_bazel_peter/76bc0000d64a792547034bb2ef203b82/execroot/drake/bazel-out/k8-opt/bin/sandbox/2d_iris_example.runfiles/meshcat_python/src/meshcat/visualizer.py\u001b[0m in \u001b[0;36msend\u001b[0;34m(self, command)\u001b[0m\n\u001b[1;32m     61\u001b[0m             \u001b[0mumsgpack\u001b[0m\u001b[0;34m.\u001b[0m\u001b[0mpackb\u001b[0m\u001b[0;34m(\u001b[0m\u001b[0mcmd_data\u001b[0m\u001b[0;34m)\u001b[0m\u001b[0;34m\u001b[0m\u001b[0;34m\u001b[0m\u001b[0m\n\u001b[1;32m     62\u001b[0m         ])\n\u001b[0;32m---> 63\u001b[0;31m         \u001b[0mself\u001b[0m\u001b[0;34m.\u001b[0m\u001b[0mzmq_socket\u001b[0m\u001b[0;34m.\u001b[0m\u001b[0mrecv\u001b[0m\u001b[0;34m(\u001b[0m\u001b[0;34m)\u001b[0m\u001b[0;34m\u001b[0m\u001b[0;34m\u001b[0m\u001b[0m\n\u001b[0m\u001b[1;32m     64\u001b[0m \u001b[0;34m\u001b[0m\u001b[0m\n\u001b[1;32m     65\u001b[0m     \u001b[0;32mdef\u001b[0m \u001b[0mget_scene\u001b[0m\u001b[0;34m(\u001b[0m\u001b[0mself\u001b[0m\u001b[0;34m)\u001b[0m\u001b[0;34m:\u001b[0m\u001b[0;34m\u001b[0m\u001b[0;34m\u001b[0m\u001b[0m\n",
      "\u001b[0;32mzmq/backend/cython/socket.pyx\u001b[0m in \u001b[0;36mzmq.backend.cython.socket.Socket.recv\u001b[0;34m()\u001b[0m\n",
      "\u001b[0;32mzmq/backend/cython/socket.pyx\u001b[0m in \u001b[0;36mzmq.backend.cython.socket.Socket.recv\u001b[0;34m()\u001b[0m\n",
      "\u001b[0;32mzmq/backend/cython/socket.pyx\u001b[0m in \u001b[0;36mzmq.backend.cython.socket._recv_copy\u001b[0;34m()\u001b[0m\n",
      "\u001b[0;32m/usr/lib/python3/dist-packages/zmq/backend/cython/checkrc.pxd\u001b[0m in \u001b[0;36mzmq.backend.cython.checkrc._check_rc\u001b[0;34m()\u001b[0m\n",
      "\u001b[0;31mKeyboardInterrupt\u001b[0m: "
     ]
    }
   ],
   "source": [
    "#loop\n",
    "idx = 0\n",
    "going_fwd = True\n",
    "steps = 1000\n",
    "time_points = np.linspace(0, traj.end_time(), steps) \n",
    "\n",
    "while True:\n",
    "    q = traj.value(time_points[idx])\n",
    "    showres(q.reshape(-1,))\n",
    "    if going_fwd:\n",
    "        if idx + 1 < steps:\n",
    "            idx += 1\n",
    "        else:\n",
    "            going_fwd = False\n",
    "            idx -=1\n",
    "    else:\n",
    "        if idx-1 >= 0:\n",
    "            idx -=1\n",
    "        else:\n",
    "            going_fwd = True\n",
    "            idx +=1\n",
    "            "
   ]
  },
  {
   "cell_type": "code",
   "execution_count": 170,
   "metadata": {},
   "outputs": [
    {
     "data": {
      "text/plain": [
       "array([ 0.        , -1.17251696,  0.75286448])"
      ]
     },
     "execution_count": 170,
     "metadata": {},
     "output_type": "execute_result"
    }
   ],
   "source": []
  },
  {
   "cell_type": "code",
   "execution_count": null,
   "metadata": {},
   "outputs": [],
   "source": []
  },
  {
   "cell_type": "code",
   "execution_count": null,
   "metadata": {},
   "outputs": [],
   "source": []
  }
 ],
 "metadata": {
  "interpreter": {
   "hash": "916dbcbb3f70747c44a77c7bcd40155683ae19c65e1c03b4aa3499c5328201f1"
  },
  "kernelspec": {
   "display_name": "Python 3",
   "language": "python",
   "name": "python3"
  },
  "language_info": {
   "codemirror_mode": {
    "name": "ipython",
    "version": 3
   },
   "file_extension": ".py",
   "mimetype": "text/x-python",
   "name": "python",
   "nbconvert_exporter": "python",
   "pygments_lexer": "ipython3",
   "version": "3.8.10"
  }
 },
 "nbformat": 4,
 "nbformat_minor": 2
}
