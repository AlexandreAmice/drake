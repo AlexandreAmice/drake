{
 "cells": [
  {
   "cell_type": "code",
   "execution_count": 1,
   "metadata": {},
   "outputs": [],
   "source": [
    "%load_ext autoreload"
   ]
  },
  {
   "cell_type": "code",
   "execution_count": 40,
   "metadata": {},
   "outputs": [],
   "source": [
    "import numpy as np\n",
    "import os\n",
    "import mcubes\n",
    "import meshcat\n",
    "import pydrake\n",
    "from pydrake.geometry import SceneGraph\n",
    "from pydrake.systems.framework import DiagramBuilder\n",
    "from pydrake.common import FindResourceOrThrow\n",
    "from pydrake.multibody.plant import MultibodyPlant, AddMultibodyPlantSceneGraph\n",
    "from pydrake.multibody.parsing import Parser, LoadModelDirectives, ProcessModelDirectives\n",
    "from pydrake.multibody.tree import RevoluteJoint\n",
    "from pydrake.all import ConnectMeshcatVisualizer, InverseKinematics, RigidTransform\n",
    "from pydrake.all import BsplineTrajectoryThroughUnionOfHPolyhedra, IrisInConfigurationSpace, IrisOptions\n",
    "import time\n",
    "from meshcat import Visualizer\n",
    "from functools import partial\n",
    "\n",
    "import ipywidgets as widgets\n",
    "from IPython.display import display\n",
    "\n",
    "from meshcat_cpp_utils import StartMeshcat, MeshcatJointSliders\n",
    "from pydrake.all import MeshcatVisualizerCpp, MeshcatVisualizerParams, Role"
   ]
  },
  {
   "cell_type": "code",
   "execution_count": 41,
   "metadata": {},
   "outputs": [],
   "source": [
    "# Setup meshcat\n",
    "from meshcat.servers.zmqserver import start_zmq_server_as_subprocess\n",
    "proc, zmq_url, web_url = start_zmq_server_as_subprocess(server_args=[])\n",
    "proc2, zmq_url2, web_url2 = start_zmq_server_as_subprocess(server_args=[])"
   ]
  },
  {
   "cell_type": "code",
   "execution_count": 64,
   "metadata": {},
   "outputs": [],
   "source": [
    "#settings\n",
    "q0 = [0.0, 0.0, 0.0]\n",
    "q_low = [-1.7,-1.7, -2.0]\n",
    "q_high = [1.7, 1.7, 2.0]\n",
    "\n",
    "#marching cubes\n",
    "q_low_mc = q_low.copy()\n",
    "q_high_mc =  q_high.copy()\n",
    "N = 20"
   ]
  },
  {
   "cell_type": "code",
   "execution_count": 65,
   "metadata": {
    "scrolled": false
   },
   "outputs": [
    {
     "name": "stdout",
     "output_type": "stream",
     "text": [
      "You can open the visualizer by visiting the following URL:\n",
      "http://127.0.0.1:7009/static/\n",
      "You can open the visualizer by visiting the following URL:\n",
      "http://127.0.0.1:7010/static/\n",
      "Connecting to meshcat-server at zmq_url=tcp://127.0.0.1:6009...\n",
      "You can open the visualizer by visiting the following URL:\n",
      "http://127.0.0.1:7009/static/\n",
      "Connected to meshcat-server.\n"
     ]
    }
   ],
   "source": [
    "vis = Visualizer(zmq_url=zmq_url)\n",
    "vis.delete()\n",
    "vis2 = Visualizer(zmq_url=zmq_url2)\n",
    "vis2.delete()\n",
    "#display(vis.jupyter_cell())\n",
    "\n",
    "builder = DiagramBuilder()\n",
    "plant, scene_graph = AddMultibodyPlantSceneGraph(builder, time_step=0.001)\n",
    "parser = Parser(plant)\n",
    "tworob_asset = FindResourceOrThrow(\"drake/sandbox/assets/doublerob.urdf\")\n",
    "#two_dof_asset = FindResourceOrThrow(\"drake/sandbox/assets/planar2dof.urdf\")\n",
    "box_asset = FindResourceOrThrow(\"drake/sandbox/assets/box.urdf\")\n",
    "\n",
    "models =[]\n",
    "models.append(parser.AddModelFromFile(tworob_asset))\n",
    "#models.append(parser.AddModelFromFile(one_dof_asset))\n",
    "models.append(parser.AddModelFromFile(box_asset))\n",
    "\n",
    "idx = 0\n",
    "for model in models:\n",
    "    for joint_index in plant.GetJointIndices(model):\n",
    "        joint = plant.get_mutable_joint(joint_index)\n",
    "        if isinstance(joint, RevoluteJoint):\n",
    "            joint.set_default_angle(q0[idx])\n",
    "            idx += 1\n",
    "            \n",
    "locs = [[0.,0.,0.],[0.,0.,0.]]\n",
    "idx = 0\n",
    "for model in models:\n",
    "    plant.WeldFrames(plant.world_frame(), plant.GetFrameByName(\"base\", model), RigidTransform(locs[idx]))\n",
    "    idx+=1\n",
    "\n",
    "plant.Finalize()\n",
    "\n",
    "visualizer = ConnectMeshcatVisualizer(builder, scene_graph, zmq_url=zmq_url, delete_prefix_on_load=False, )\n",
    "\n",
    "diagram = builder.Build()\n",
    "visualizer.load()\n",
    "context = diagram.CreateDefaultContext()\n",
    "plant_context = plant.GetMyContextFromRoot(context)\n",
    "diagram.Publish(context)\n",
    "\n",
    "joints = []\n",
    "idx = 0\n",
    "for model in models:\n",
    "    jointindx = plant.GetJointIndices(model)\n",
    "    for j in jointindx:\n",
    "        joint = plant.get_mutable_joint(j)\n",
    "        if isinstance(joint, RevoluteJoint):\n",
    "            joints.append(joint)\n",
    "            joints[-1].set_position_limits(lower_limits= np.array([q_low[idx]]), upper_limits= np.array([np.array([q_high[idx]])]))\n",
    "            idx +=1\n",
    "        \n",
    "    \n",
    "def set_joint_ang(val, idx):\n",
    "    joints[idx].set_angle(plant_context, val)\n",
    "    \n",
    "ik = InverseKinematics(plant, plant_context)\n",
    "collision_constraint = ik.AddMinimumDistanceConstraint(0.001, 0.01)\n",
    "\n",
    "def eval_cons(q0, q1, q2, c, tol):\n",
    "        return 1-1*float(c.evaluator().CheckSatisfied([q0, q1, q2], tol))\n",
    "    \n",
    "col_func_handle = partial(eval_cons, c=collision_constraint, tol=0.01)\n",
    "\n",
    "def showres(q):\n",
    "    set_joint_ang(q[0],0)\n",
    "    set_joint_ang(q[1],1)\n",
    "    set_joint_ang(q[2],2)\n",
    "    vis2[\"q\"].set_object(\n",
    "            meshcat.geometry.Sphere(0.2), meshcat.geometry.MeshLambertMaterial(color=0xFFB900))\n",
    "    vis2[\"q\"].set_transform(\n",
    "            meshcat.transformations.translation_matrix(q))\n",
    "    diagram.Publish(context)\n",
    "    print(\"              \", end = \"\\r\")\n",
    "    print(col_func_handle(*q) , end = \"\\r\")\n",
    "\n",
    "sliders = []\n",
    "sliders.append(widgets.FloatSlider(min=q_low[0], max=q_high[0], value=0, description='q0'))\n",
    "sliders.append(widgets.FloatSlider(min=q_low[1], max=q_high[1], value=0, description='q1'))\n",
    "sliders.append(widgets.FloatSlider(min=q_low[2], max=q_high[2], value=0, description='q2'))\n",
    "\n",
    "q = q0.copy()\n",
    "def handle_slider_change(change, idx):\n",
    "    q[idx] = change['new']\n",
    "    #print(q, end=\"\\r\")\n",
    "    showres(q)\n",
    "    \n",
    "idx = 0\n",
    "for slider in sliders:\n",
    "    slider.observe(partial(handle_slider_change, idx = idx), names='value')\n",
    "    idx+=1\n"
   ]
  },
  {
   "cell_type": "code",
   "execution_count": 66,
   "metadata": {},
   "outputs": [
    {
     "name": "stdout",
     "output_type": "stream",
     "text": [
      "              \r",
      "0.0\r"
     ]
    }
   ],
   "source": [
    "#marching cubes\n",
    "vertices, triangles = mcubes.marching_cubes_func(tuple(q_low), tuple(q_high), N, N, N, col_func_handle, 0.5)\n",
    "vis2[\"collision_constraint\"].set_object(\n",
    "            meshcat.geometry.TriangularMeshGeometry(vertices, triangles),\n",
    "            meshcat.geometry.MeshLambertMaterial(color=0xff0000, wireframe=False))\n",
    "q = q0.copy()\n",
    "showres(q)"
   ]
  },
  {
   "cell_type": "code",
   "execution_count": 67,
   "metadata": {
    "scrolled": false
   },
   "outputs": [
    {
     "name": "stderr",
     "output_type": "stream",
     "text": [
      "Widget Javascript not detected.  It may not be installed or enabled properly.\n"
     ]
    },
    {
     "data": {
      "application/vnd.jupyter.widget-view+json": {
       "model_id": "83198778bb4547d5a19fb5a9f67f4d7a"
      }
     },
     "metadata": {},
     "output_type": "display_data"
    },
    {
     "name": "stderr",
     "output_type": "stream",
     "text": [
      "Widget Javascript not detected.  It may not be installed or enabled properly.\n"
     ]
    },
    {
     "data": {
      "application/vnd.jupyter.widget-view+json": {
       "model_id": "33e395734eaf467ebb97f6722a1d7ac9"
      }
     },
     "metadata": {},
     "output_type": "display_data"
    },
    {
     "name": "stderr",
     "output_type": "stream",
     "text": [
      "Widget Javascript not detected.  It may not be installed or enabled properly.\n"
     ]
    },
    {
     "data": {
      "application/vnd.jupyter.widget-view+json": {
       "model_id": "c54b93514f5a41e38af28e54d7d4efe6"
      }
     },
     "metadata": {},
     "output_type": "display_data"
    },
    {
     "data": {
      "text/html": [
       "\n",
       "            <div style=\"height: 400px; width: 100%; overflow-x: auto; overflow-y: hidden; resize: both\">\n",
       "            <iframe src=\"http://127.0.0.1:7009/static/\" style=\"width: 100%; height: 100%; border: none\"></iframe>\n",
       "            </div>\n",
       "            "
      ],
      "text/plain": [
       "<IPython.core.display.HTML object>"
      ]
     },
     "metadata": {},
     "output_type": "display_data"
    },
    {
     "data": {
      "text/html": [
       "\n",
       "            <div style=\"height: 400px; width: 100%; overflow-x: auto; overflow-y: hidden; resize: both\">\n",
       "            <iframe src=\"http://127.0.0.1:7010/static/\" style=\"width: 100%; height: 100%; border: none\"></iframe>\n",
       "            </div>\n",
       "            "
      ],
      "text/plain": [
       "<IPython.core.display.HTML object>"
      ]
     },
     "metadata": {},
     "output_type": "display_data"
    }
   ],
   "source": [
    "for slider in sliders:\n",
    "    display(slider)\n",
    "\n",
    "display(vis.jupyter_cell())\n",
    "display(vis2.jupyter_cell())"
   ]
  },
  {
   "cell_type": "code",
   "execution_count": null,
   "metadata": {},
   "outputs": [],
   "source": [
    "plant.SetPo"
   ]
  },
  {
   "cell_type": "code",
   "execution_count": 63,
   "metadata": {},
   "outputs": [],
   "source": [
    "\n",
    "\n"
   ]
  },
  {
   "cell_type": "code",
   "execution_count": 68,
   "metadata": {},
   "outputs": [
    {
     "name": "stdout",
     "output_type": "stream",
     "text": [
      "Time:   0.16 \tVolume:   1.52 \tCenter: [ 0.19923802 -0.51555813 -0.16204011]\n",
      "Time:   0.06 \tVolume:   0.13 \tCenter: [ 0.67938601 -0.4962609   1.53735528]\n",
      "Time:   0.02 \tVolume:  24.21 \tCenter: [1.89511051e-09 1.88903337e-09 2.69925482e-09]\n",
      "Time:   0.05 \tVolume:   0.22 \tCenter: [-0.26468508 -0.33151235  1.54512993]\n"
     ]
    }
   ],
   "source": [
    "seed_points = np.array([[0.0, 0, 0], # startpoint\n",
    "                        [0.8, -0.8, 1.3],  # blue low green up\n",
    "                        [0.1, -1.7, 0.9],     # green low other up\n",
    "                        [-0.5, -1.0, 1.9]])    # passing\n",
    "\n",
    "\n",
    "#run iris here :)))\n",
    "iris_options = IrisOptions()\n",
    "iris_options.require_sample_point_is_contained = True\n",
    "iris_options.iteration_limit = 10\n",
    "iris_options.enable_ibex = False\n",
    "\n",
    "regions = []\n",
    "for i in range(seed_points.shape[0]):\n",
    "    start_time = time.time()\n",
    "    hpoly = IrisInConfigurationSpace(plant, plant_context, seed_points[i,:], iris_options)\n",
    "    ellipse = hpoly.MaximumVolumeInscribedEllipsoid()\n",
    "    print(\"Time: %6.2f \\tVolume: %6.2f \\tCenter:\" % (time.time() - start_time, ellipse.Volume()),\n",
    "          ellipse.center(), flush=True)\n",
    "    regions.append(hpoly)"
   ]
  },
  {
   "cell_type": "code",
   "execution_count": 107,
   "metadata": {},
   "outputs": [
    {
     "name": "stdout",
     "output_type": "stream",
     "text": [
      "0\n",
      "1000\n",
      "2000\n",
      "3000\n"
     ]
    }
   ],
   "source": [
    "def inpolycheck(q0,q1,q2, A, b):\n",
    "    q = np.array([q0, q1, q2])\n",
    "    res = np.min(1.0*(A@q-b<=0))\n",
    "    #print(res)\n",
    "    return res\n",
    "\n",
    "#create meshes for regions by sampling, sorry amice\n",
    "meshes = []\n",
    "col1 = 0x002BFF\n",
    "col2 = 0x3EFF00 \n",
    "idx = 0\n",
    "step = 1/(1.0*len(regions))\n",
    "\n",
    "for region in regions:\n",
    "    A = region.A()\n",
    "    b = region.b()\n",
    "    col_hand = partial(inpolycheck, A=A, b=b)\n",
    "    vertices, triangles = mcubes.marching_cubes_func(tuple(q_low), tuple(q_high), 90, 90, 90, col_hand, 0.5)\n",
    "    regstr = \"regions\" +str(idx)\n",
    "    col = + 1000*idx\n",
    "    print(col)\n",
    "    vis2[regstr].set_object(\n",
    "            meshcat.geometry.TriangularMeshGeometry(vertices, triangles),\n",
    "            meshcat.geometry.MeshLambertMaterial(color= int((1-idx*step)*col1 + idx*step*col2), wireframe=False))\n",
    "    idx+=1"
   ]
  },
  {
   "cell_type": "code",
   "execution_count": 82,
   "metadata": {},
   "outputs": [
    {
     "data": {
      "text/plain": [
       "0.0"
      ]
     },
     "execution_count": 82,
     "metadata": {},
     "output_type": "execute_result"
    }
   ],
   "source": [
    "q = seed_points[1,:]\n",
    "\n",
    "np.min(1.0*(A@q-b<=0))\n"
   ]
  },
  {
   "cell_type": "code",
   "execution_count": 98,
   "metadata": {},
   "outputs": [],
   "source": [
    "col1 = 0x002BFF\n",
    "col2 = 0x3EFF00 \n",
    "idx = 0"
   ]
  },
  {
   "cell_type": "code",
   "execution_count": 104,
   "metadata": {},
   "outputs": [
    {
     "data": {
      "text/plain": [
       "422987"
      ]
     },
     "execution_count": 104,
     "metadata": {},
     "output_type": "execute_result"
    }
   ],
   "source": [
    "t = 0.1\n",
    "col = \n",
    "col"
   ]
  },
  {
   "cell_type": "code",
   "execution_count": null,
   "metadata": {},
   "outputs": [],
   "source": []
  }
 ],
 "metadata": {
  "interpreter": {
   "hash": "916dbcbb3f70747c44a77c7bcd40155683ae19c65e1c03b4aa3499c5328201f1"
  },
  "kernelspec": {
   "display_name": "Python 3",
   "language": "python",
   "name": "python3"
  },
  "language_info": {
   "codemirror_mode": {
    "name": "ipython",
    "version": 3
   },
   "file_extension": ".py",
   "mimetype": "text/x-python",
   "name": "python",
   "nbconvert_exporter": "python",
   "pygments_lexer": "ipython3",
   "version": "3.8.10"
  }
 },
 "nbformat": 4,
 "nbformat_minor": 2
}
