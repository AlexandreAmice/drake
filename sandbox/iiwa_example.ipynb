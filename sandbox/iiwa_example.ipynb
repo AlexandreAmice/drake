{
 "cells": [
  {
   "cell_type": "code",
   "execution_count": 1,
   "metadata": {},
   "outputs": [],
   "source": [
    "%load_ext autoreload"
   ]
  },
  {
   "cell_type": "code",
   "execution_count": 9,
   "metadata": {},
   "outputs": [],
   "source": [
    "import numpy as np\n",
    "import os\n",
    "import mcubes\n",
    "import meshcat\n",
    "import pydrake\n",
    "from pydrake.geometry import SceneGraph\n",
    "from pydrake.systems.framework import DiagramBuilder\n",
    "from pydrake.common import FindResourceOrThrow\n",
    "from pydrake.multibody.plant import MultibodyPlant, AddMultibodyPlantSceneGraph\n",
    "from pydrake.multibody.parsing import Parser, LoadModelDirectives, ProcessModelDirectives\n",
    "from pydrake.multibody.tree import RevoluteJoint\n",
    "from pydrake.all import ConnectMeshcatVisualizer, InverseKinematics, RigidTransform, RotationMatrix\n",
    "from pydrake.all import BsplineTrajectoryThroughUnionOfHPolyhedra, IrisInConfigurationSpace, IrisOptions, Rgba\n",
    "import time\n",
    "from meshcat import Visualizer\n",
    "from functools import partial\n",
    "\n",
    "import ipywidgets as widgets\n",
    "from IPython.display import display\n",
    "\n",
    "#from meshcat_cpp_utils import StartMeshcat, MeshcatJointSliders\n",
    "from pydrake.all import MeshcatVisualizerCpp, MeshcatVisualizerParams, Role\n",
    "import rrt, utils# spp"
   ]
  },
  {
   "cell_type": "code",
   "execution_count": 4,
   "metadata": {},
   "outputs": [
    {
     "ename": "ImportError",
     "evalue": "cannot import name 'BsplineTrajectory_' from 'pydrake.trajectories' (/home/peter/.cache/bazel/_bazel_peter/76bc0000d64a792547034bb2ef203b82/execroot/drake/bazel-out/k8-opt/bin/sandbox/iiwa_example.runfiles/drake/bindings/pydrake/trajectories.cpython-38-x86_64-linux-gnu.so)",
     "output_type": "error",
     "traceback": [
      "\u001b[0;31m---------------------------------------------------------------------------\u001b[0m",
      "\u001b[0;31mImportError\u001b[0m                               Traceback (most recent call last)",
      "\u001b[0;32m<ipython-input-4-1015c5a1791f>\u001b[0m in \u001b[0;36m<module>\u001b[0;34m\u001b[0m\n\u001b[0;32m----> 1\u001b[0;31m \u001b[0;32mimport\u001b[0m \u001b[0mspp\u001b[0m\u001b[0;34m\u001b[0m\u001b[0;34m\u001b[0m\u001b[0m\n\u001b[0m",
      "\u001b[0;32m~/.cache/bazel/_bazel_peter/76bc0000d64a792547034bb2ef203b82/execroot/drake/bazel-out/k8-opt/bin/sandbox/iiwa_example.runfiles/drake/sandbox/spp.py\u001b[0m in \u001b[0;36m<module>\u001b[0;34m\u001b[0m\n\u001b[1;32m     22\u001b[0m     \u001b[0mVariables\u001b[0m\u001b[0;34m,\u001b[0m\u001b[0;34m\u001b[0m\u001b[0;34m\u001b[0m\u001b[0m\n\u001b[1;32m     23\u001b[0m )\n\u001b[0;32m---> 24\u001b[0;31m \u001b[0;32mfrom\u001b[0m \u001b[0mpydrake\u001b[0m\u001b[0;34m.\u001b[0m\u001b[0mtrajectories\u001b[0m \u001b[0;32mimport\u001b[0m \u001b[0mBsplineTrajectory\u001b[0m\u001b[0;34m,\u001b[0m \u001b[0mBsplineTrajectory_\u001b[0m\u001b[0;34m\u001b[0m\u001b[0;34m\u001b[0m\u001b[0m\n\u001b[0m\u001b[1;32m     25\u001b[0m \u001b[0;34m\u001b[0m\u001b[0m\n\u001b[1;32m     26\u001b[0m \"\"\"\n",
      "\u001b[0;31mImportError\u001b[0m: cannot import name 'BsplineTrajectory_' from 'pydrake.trajectories' (/home/peter/.cache/bazel/_bazel_peter/76bc0000d64a792547034bb2ef203b82/execroot/drake/bazel-out/k8-opt/bin/sandbox/iiwa_example.runfiles/drake/bindings/pydrake/trajectories.cpython-38-x86_64-linux-gnu.so)"
     ]
    }
   ],
   "source": [
    "import spp\n"
   ]
  },
  {
   "cell_type": "code",
   "execution_count": 8,
   "metadata": {},
   "outputs": [
    {
     "ename": "ImportError",
     "evalue": "cannot import name 'BsplineTrajectory_' from 'pydrake.trajectories' (/home/peter/.cache/bazel/_bazel_peter/76bc0000d64a792547034bb2ef203b82/execroot/drake/bazel-out/k8-opt/bin/sandbox/iiwa_example.runfiles/drake/bindings/pydrake/trajectories.cpython-38-x86_64-linux-gnu.so)",
     "output_type": "error",
     "traceback": [
      "\u001b[0;31m---------------------------------------------------------------------------\u001b[0m",
      "\u001b[0;31mImportError\u001b[0m                               Traceback (most recent call last)",
      "\u001b[0;32m<ipython-input-8-c545ac614a77>\u001b[0m in \u001b[0;36m<module>\u001b[0;34m\u001b[0m\n\u001b[0;32m----> 1\u001b[0;31m \u001b[0;32mfrom\u001b[0m \u001b[0mpydrake\u001b[0m\u001b[0;34m.\u001b[0m\u001b[0mtrajectories\u001b[0m \u001b[0;32mimport\u001b[0m \u001b[0mBsplineTrajectory\u001b[0m\u001b[0;34m,\u001b[0m \u001b[0mBsplineTrajectory_\u001b[0m\u001b[0;34m\u001b[0m\u001b[0;34m\u001b[0m\u001b[0m\n\u001b[0m",
      "\u001b[0;31mImportError\u001b[0m: cannot import name 'BsplineTrajectory_' from 'pydrake.trajectories' (/home/peter/.cache/bazel/_bazel_peter/76bc0000d64a792547034bb2ef203b82/execroot/drake/bazel-out/k8-opt/bin/sandbox/iiwa_example.runfiles/drake/bindings/pydrake/trajectories.cpython-38-x86_64-linux-gnu.so)"
     ]
    }
   ],
   "source": [
    "from pydrake.trajectories import BsplineTrajectory, BsplineTrajectory_"
   ]
  },
  {
   "cell_type": "code",
   "execution_count": 10,
   "metadata": {},
   "outputs": [],
   "source": [
    "# Setup meshcat\n",
    "from meshcat.servers.zmqserver import start_zmq_server_as_subprocess\n",
    "proc, zmq_url, web_url = start_zmq_server_as_subprocess(server_args=[])"
   ]
  },
  {
   "cell_type": "code",
   "execution_count": 11,
   "metadata": {},
   "outputs": [
    {
     "name": "stdout",
     "output_type": "stream",
     "text": [
      "You can open the visualizer by visiting the following URL:\n",
      "http://127.0.0.1:7005/static/\n",
      "Connecting to meshcat-server at zmq_url=tcp://127.0.0.1:6005...\n",
      "You can open the visualizer by visiting the following URL:\n",
      "http://127.0.0.1:7005/static/\n",
      "Connected to meshcat-server.\n"
     ]
    }
   ],
   "source": [
    "vis = Visualizer(zmq_url=zmq_url)\n",
    "vis.delete()\n",
    "\n",
    "#model_file = FindResourceOrThrow(\"drake/manipulation/models/iiwa_description/urdf/iiwa14_polytope_collision.urdf\")\n",
    "model_file = FindResourceOrThrow(\"drake/manipulation/models/iiwa_description/iiwa7/iiwa7_with_box_collision.sdf\")\n",
    "#model_file = FindResourceOrThrow(\"drake/manipulation/models/iiwa_description/iiwa7/iiwa7_no_collision.sdf\")\n",
    "#model_file = FindResourceOrThrow(\"drake/manipulation/models/iiwa_description/sdf/iiwa14_no_collision.sdf\")\n",
    "\n",
    "#box_file = FindResourceOrThrow(\"drake/sandbox/assets/box.urdf\")\n",
    "box_file_1 = FindResourceOrThrow(\"drake/sandbox/shelves.sdf\")\n",
    "box_file_2 = FindResourceOrThrow(\"drake/sandbox/shelves2.sdf\")\n",
    "box_file_3 = FindResourceOrThrow(\"drake/sandbox/shelves3.sdf\")\n",
    "box_file_4 = FindResourceOrThrow(\"drake/sandbox/shelves4.sdf\")\n",
    "\n",
    "models =[]\n",
    "\n",
    "builder = DiagramBuilder()\n",
    "\n",
    "plant, scene_graph = AddMultibodyPlantSceneGraph(builder, time_step=1e-4)\n",
    "models.append(Parser(plant, scene_graph).AddModelFromFile(model_file))\n",
    "\n",
    "models.append(Parser(plant, scene_graph).AddModelFromFile(box_file_1))\n",
    "models.append(Parser(plant, scene_graph).AddModelFromFile(box_file_2))\n",
    "models.append(Parser(plant, scene_graph).AddModelFromFile(box_file_3))\n",
    "models.append(Parser(plant, scene_graph).AddModelFromFile(box_file_4))\n",
    "\n",
    "sp = 0.4\n",
    "locs = [ [0,0,0], [sp, 1.4*sp,0.4], [sp,-1.4*sp,0.4], [-sp,-1.4*sp,0.4], [-sp,1.4*sp,0.4]] \n",
    "idx = 0\n",
    "for model in models:\n",
    "    plant.WeldFrames(plant.world_frame(), plant.get_body(plant.GetBodyIndices(model)[0]).body_frame(), RigidTransform(locs[idx]))\n",
    "    idx +=1\n",
    "# plant.WeldFrames(plant.world_frame(), plant.GetFrameByName(\"base\", model), RigidTransform(locs[idx]))\n",
    "\n",
    "plant.Finalize()\n",
    "\n",
    "visualizer = ConnectMeshcatVisualizer(builder, scene_graph, zmq_url=zmq_url, delete_prefix_on_load=False, )\n",
    "\n",
    "diagram = builder.Build()\n",
    "visualizer.load()\n",
    "context = diagram.CreateDefaultContext()\n",
    "plant_context = plant.GetMyContextFromRoot(context)\n",
    "diagram.Publish(context)\n",
    "\n"
   ]
  },
  {
   "cell_type": "code",
   "execution_count": 12,
   "metadata": {},
   "outputs": [],
   "source": [
    "sliders = []\n",
    "for joint_idx in range(1,8):\n",
    "    sliders.append(\n",
    "        widgets.FloatSlider(\n",
    "        min=plant.GetJointByName(f\"iiwa_joint_{joint_idx}\").position_lower_limit(), \n",
    "        max=plant.GetJointByName(f\"iiwa_joint_{joint_idx}\").position_upper_limit(), \n",
    "        value=0, \n",
    "        description=f'iiwa_joint_{joint_idx}'\n",
    "        )\n",
    "    )\n",
    "\n",
    "ik = InverseKinematics(plant, plant_context)\n",
    "collision_constraint = ik.AddMinimumDistanceConstraint(0.001, 0.001)\n",
    "\n",
    "def eval_cons(q, c, tol):\n",
    "    return 1-1*float(c.evaluator().CheckSatisfied(q, tol))\n",
    "    \n",
    "col_func_handle = partial(eval_cons, c=collision_constraint, tol=0.01)\n",
    "    \n",
    "def showres(q):\n",
    "    for joint_idx in range(1,8):\n",
    "        plant.GetJointByName(f\"iiwa_joint_{joint_idx}\").set_angle(plant_context, q[joint_idx-1])\n",
    "    col = col_func_handle(q)\n",
    "    if col:\n",
    "        vis[\"collision\"].set_object(\n",
    "                meshcat.geometry.Sphere(0.1), meshcat.geometry.MeshLambertMaterial(color=0xFF0000))\n",
    "        vis[\"collision\"].set_transform(\n",
    "                meshcat.transformations.translation_matrix([0, 1.0, 1.0]))\n",
    "    else:\n",
    "        vis[\"collision\"].set_object(\n",
    "                meshcat.geometry.Sphere(0.1), meshcat.geometry.MeshLambertMaterial(color=0x00FF00))\n",
    "        vis[\"collision\"].set_transform(\n",
    "                meshcat.transformations.translation_matrix([0, 1.0, 1.0]))\n",
    "    diagram.Publish(context)\n",
    "    print(\"              \", end = \"\\r\")\n",
    "    print(col , end = \"\\r\")\n",
    "\n",
    "    \n",
    "def set_joint_angles(vals):\n",
    "    for idx in range(1,8):\n",
    "        plant.GetJointByName(f\"iiwa_joint_{joint_idx}\").set_angle(plant_context, vals[joint_idx-1])\n",
    "    \n",
    "    \n",
    "    \n",
    "q_init = [0.0, 0.0, 0.0, 0.0, 0.0, 0.0, 0.0]\n",
    "# q_start = [-1.37, -1.39, -1.57, -1.19, -1.57, 0.00, 0.00]\n",
    "# q_end = [1.53, -1.19, 1.83, 0.91, -1.27, -0.59, 0.00]\n",
    "q = q_init.copy()\n",
    "def handle_slider_change(change, idx):\n",
    "    q[idx] = change['new']\n",
    "    #print(q, end=\"\\r\")\n",
    "    showres(q)\n",
    "    \n",
    "idx = 0\n",
    "for slider in sliders:\n",
    "    slider.observe(partial(handle_slider_change, idx = idx), names='value')\n",
    "    idx+=1\n"
   ]
  },
  {
   "cell_type": "code",
   "execution_count": 13,
   "metadata": {
    "scrolled": false
   },
   "outputs": [
    {
     "data": {
      "application/vnd.jupyter.widget-view+json": {
       "model_id": "8641d5fd08f041e0a1ccca9466dd76f0",
       "version_major": 2,
       "version_minor": 0
      },
      "text/plain": [
       "FloatSlider(value=0.0, description='iiwa_joint_1', max=2.96706, min=-2.96706)"
      ]
     },
     "metadata": {},
     "output_type": "display_data"
    },
    {
     "data": {
      "application/vnd.jupyter.widget-view+json": {
       "model_id": "2a87ed1e44c949dbaccc05859a6cb668",
       "version_major": 2,
       "version_minor": 0
      },
      "text/plain": [
       "FloatSlider(value=0.0, description='iiwa_joint_2', max=2.0944, min=-2.0944)"
      ]
     },
     "metadata": {},
     "output_type": "display_data"
    },
    {
     "data": {
      "application/vnd.jupyter.widget-view+json": {
       "model_id": "576f88831da54f04a361ba015debd837",
       "version_major": 2,
       "version_minor": 0
      },
      "text/plain": [
       "FloatSlider(value=0.0, description='iiwa_joint_3', max=2.96706, min=-2.96706)"
      ]
     },
     "metadata": {},
     "output_type": "display_data"
    },
    {
     "data": {
      "application/vnd.jupyter.widget-view+json": {
       "model_id": "8cdac28d8b4443d89883c0285f154004",
       "version_major": 2,
       "version_minor": 0
      },
      "text/plain": [
       "FloatSlider(value=0.0, description='iiwa_joint_4', max=2.0944, min=-2.0944)"
      ]
     },
     "metadata": {},
     "output_type": "display_data"
    },
    {
     "data": {
      "application/vnd.jupyter.widget-view+json": {
       "model_id": "8bb96dc46d3f43e78adef7488fbfbe1e",
       "version_major": 2,
       "version_minor": 0
      },
      "text/plain": [
       "FloatSlider(value=0.0, description='iiwa_joint_5', max=2.96706, min=-2.96706)"
      ]
     },
     "metadata": {},
     "output_type": "display_data"
    },
    {
     "data": {
      "application/vnd.jupyter.widget-view+json": {
       "model_id": "b74cbd36d85044faa9ccf153d7e08410",
       "version_major": 2,
       "version_minor": 0
      },
      "text/plain": [
       "FloatSlider(value=0.0, description='iiwa_joint_6', max=2.0944, min=-2.0944)"
      ]
     },
     "metadata": {},
     "output_type": "display_data"
    },
    {
     "data": {
      "application/vnd.jupyter.widget-view+json": {
       "model_id": "409705938ac74d559240f3db1f03e8e4",
       "version_major": 2,
       "version_minor": 0
      },
      "text/plain": [
       "FloatSlider(value=0.0, description='iiwa_joint_7', max=3.05433, min=-3.05433)"
      ]
     },
     "metadata": {},
     "output_type": "display_data"
    },
    {
     "data": {
      "text/html": [
       "\n",
       "            <div style=\"height: 400px; width: 100%; overflow-x: auto; overflow-y: hidden; resize: both\">\n",
       "            <iframe src=\"http://127.0.0.1:7005/static/\" style=\"width: 100%; height: 100%; border: none\"></iframe>\n",
       "            </div>\n",
       "            "
      ],
      "text/plain": [
       "<IPython.core.display.HTML object>"
      ]
     },
     "metadata": {},
     "output_type": "display_data"
    },
    {
     "name": "stdout",
     "output_type": "stream",
     "text": [
      "0.0           \r"
     ]
    }
   ],
   "source": [
    "for slider in sliders:\n",
    "    display(slider)\n",
    "display(vis.jupyter_cell())"
   ]
  },
  {
   "cell_type": "code",
   "execution_count": 15,
   "metadata": {},
   "outputs": [
    {
     "name": "stdout",
     "output_type": "stream",
     "text": [
      "              \r",
      "0.0\r"
     ]
    }
   ],
   "source": [
    "#problem config\n",
    "start = np.array([1.43, -0.69, 0.83, 1.01, -1.97, 1.11, 0.00])\n",
    "target = np.array([1.73, 1.41, 0.43, -1.19, -1.27, -1.19, 0.00])\n",
    "showres(target)\n",
    "limits =[plant.GetPositionLowerLimits(), plant.GetPositionUpperLimits()]"
   ]
  },
  {
   "cell_type": "code",
   "execution_count": 27,
   "metadata": {},
   "outputs": [
    {
     "name": "stdout",
     "output_type": "stream",
     "text": [
      "it: 0 distance to target:  3.868 goalsample prob:  0.030\n",
      "it: 2 distance to target:  3.863 goalsample prob:  0.030\n",
      "it: 3 distance to target:  3.831 goalsample prob:  0.030\n",
      "it: 11 distance to target:  3.824 goalsample prob:  0.030\n",
      "it: 12 distance to target:  3.821 goalsample prob:  0.030\n",
      "it: 13 distance to target:  3.767 goalsample prob:  0.030\n",
      "it: 16 distance to target:  3.716 goalsample prob:  0.030\n",
      "it: 17 distance to target:  3.671 goalsample prob:  0.030\n",
      "it: 18 distance to target:  3.609 goalsample prob:  0.030\n",
      "it: 19 distance to target:  3.566 goalsample prob:  0.030\n",
      "it: 22 distance to target:  3.536 goalsample prob:  0.030\n",
      "it: 23 distance to target:  3.508 goalsample prob:  0.030\n",
      "it: 24 distance to target:  3.465 goalsample prob:  0.030\n",
      "it: 25 distance to target:  3.456 goalsample prob:  0.030\n",
      "it: 26 distance to target:  3.425 goalsample prob:  0.030\n",
      "it: 27 distance to target:  3.378 goalsample prob:  0.030\n",
      "it: 31 distance to target:  3.375 goalsample prob:  0.030\n",
      "it: 36 distance to target:  3.341 goalsample prob:  0.030\n",
      "it: 38 distance to target:  3.339 goalsample prob:  0.030\n",
      "it: 39 distance to target:  3.336 goalsample prob:  0.030\n",
      "it: 40 distance to target:  3.318 goalsample prob:  0.030\n",
      "it: 42 distance to target:  3.311 goalsample prob:  0.030\n",
      "it: 58 distance to target:  3.290 goalsample prob:  0.030\n",
      "it: 62 distance to target:  3.195 goalsample prob:  0.030\n",
      "it: 63 distance to target:  3.172 goalsample prob:  0.030\n",
      "it: 64 distance to target:  3.136 goalsample prob:  0.030\n",
      "it: 67 distance to target:  3.133 goalsample prob:  0.030\n",
      "it: 71 distance to target:  3.132 goalsample prob:  0.030\n",
      "it: 83 distance to target:  3.059 goalsample prob:  0.030\n",
      "it: 114 distance to target:  3.021 goalsample prob:  0.030\n",
      "it: 133 distance to target:  2.980 goalsample prob:  0.030\n",
      "it: 138 distance to target:  2.965 goalsample prob:  0.030\n",
      "it: 143 distance to target:  2.934 goalsample prob:  0.030\n",
      "it: 147 distance to target:  2.868 goalsample prob:  0.030\n",
      "it: 148 distance to target:  2.813 goalsample prob:  0.030\n",
      "it: 151 distance to target:  2.718 goalsample prob:  0.030\n",
      "it: 155 distance to target:  2.673 goalsample prob:  0.030\n",
      "it: 156 distance to target:  2.613 goalsample prob:  0.030\n",
      "it: 158 distance to target:  2.599 goalsample prob:  0.030\n",
      "it: 191 distance to target:  2.547 goalsample prob:  0.030\n",
      "it: 193 distance to target:  2.514 goalsample prob:  0.030\n",
      "it: 209 distance to target:  2.419 goalsample prob:  0.030\n",
      "it: 213 distance to target:  2.324 goalsample prob:  0.030\n",
      "it: 222 distance to target:  2.305 goalsample prob:  0.030\n",
      "it: 233 distance to target:  2.298 goalsample prob:  0.030\n",
      "it: 259 distance to target:  2.203 goalsample prob:  0.030\n",
      "it: 275 distance to target:  2.194 goalsample prob:  0.030\n",
      "it: 319 distance to target:  2.099 goalsample prob:  0.030\n",
      "it: 326 distance to target:  2.082 goalsample prob:  0.030\n",
      "it: 332 distance to target:  1.987 goalsample prob:  0.030\n",
      "it: 333 distance to target:  1.892 goalsample prob:  0.030\n",
      "it: 335 distance to target:  1.797 goalsample prob:  0.030\n",
      "it: 352 distance to target:  1.702 goalsample prob:  0.030\n",
      "it: 356 distance to target:  1.607 goalsample prob:  0.030\n",
      "it: 360 distance to target:  1.512 goalsample prob:  0.030\n",
      "it: 362 distance to target:  1.417 goalsample prob:  0.030\n",
      "it: 399 distance to target:  1.322 goalsample prob:  0.030\n",
      "it: 402 distance to target:  1.272 goalsample prob:  0.037\n",
      "it: 407 distance to target:  1.263 goalsample prob:  0.042\n",
      "it: 418 distance to target:  1.211 goalsample prob:  0.073\n",
      "it: 439 distance to target:  1.116 goalsample prob:  0.130\n",
      "it: 442 distance to target:  1.021 goalsample prob:  0.187\n",
      "it: 447 distance to target:  0.926 goalsample prob:  0.244\n",
      "it: 449 distance to target:  0.831 goalsample prob:  0.301\n",
      "it: 454 distance to target:  0.736 goalsample prob:  0.358\n",
      "it: 455 distance to target:  0.641 goalsample prob:  0.415\n",
      "it: 459 distance to target:  0.546 goalsample prob:  0.472\n",
      "it: 461 distance to target:  0.514 goalsample prob:  0.492\n",
      "it: 464 distance to target:  0.459 goalsample prob:  0.525\n",
      "it: 516 distance to target:  0.454 goalsample prob:  0.527\n",
      "it: 1016 distance to target:  0.434 goalsample prob:  0.539\n",
      "it: 1018 distance to target:  0.389 goalsample prob:  0.566\n",
      "it: 4982 distance to target:  0.358 goalsample prob:  0.585\n",
      "it: 4984 distance to target:  0.263 goalsample prob:  0.642\n",
      "it: 4988 distance to target:  0.168 goalsample prob:  0.699\n",
      "it: 4989 distance to target:  0.073 goalsample prob:  0.756\n",
      "it: 4992 distance to target:  0.003 goalsample prob:  0.798\n",
      "[RRT] Collision free path found in  4992  steps\n"
     ]
    }
   ],
   "source": [
    "\n",
    "RRT = rrt.RRT(start = target,\n",
    "              goal = start,\n",
    "              limits = limits,\n",
    "              col_func_handle=col_func_handle,\n",
    "              max_extend_length=0.1,\n",
    "              extend_steps=0.005,\n",
    "              init_goal_sample_rate=0.03,\n",
    "              goal_sample_rate_scaler=0.6,\n",
    "              verbose = True, \n",
    "              plotcallback = None)\n",
    "\n",
    "success, path = RRT.run(30000)"
   ]
  },
  {
   "cell_type": "code",
   "execution_count": 20,
   "metadata": {},
   "outputs": [
    {
     "name": "stdout",
     "output_type": "stream",
     "text": [
      "Time:   0.67 \tVolume:   0.01 \tCenter: [ 1.43184158 -0.50808922  0.4229326   1.01137054 -2.36232228  0.63611534\n",
      "  0.30776537]\n",
      "Time:   1.19 \tVolume:   0.05 \tCenter: [ 1.47899999  1.54984221  0.32713031 -1.137123   -0.74530576  0.32189623\n",
      "  0.40647892]\n",
      "point found:  [-1.8560023  -1.40086694 -0.74719457 -0.46956014  2.02372517  0.25034465\n",
      " -0.34939844]\n",
      "Time:   0.70 \tVolume:   0.01 \tCenter: [-1.7118194  -1.34100778 -0.84694678 -0.40684103  2.18193001  0.23859492\n",
      " -0.38306089]\n",
      "point found:  [ 1.58321531  0.3975771   1.87030677 -0.70316487 -1.97431637 -1.0301817\n",
      " -2.18613521]\n",
      "Time:   3.36 \tVolume: 125.13 \tCenter: [ 1.58968813e+00 -5.39918073e-02 -2.49248275e-08 -5.16607129e-02\n",
      "  3.82397136e-09  4.73285722e-09 -2.30321540e-10]\n",
      "point found:  [-0.58206992 -0.35782525  0.55184253 -1.3021184  -2.48278352 -1.44646196\n",
      " -0.75032341]\n",
      "Time:   2.51 \tVolume:  15.99 \tCenter: [-3.44902269e-01  2.39413064e-01 -2.14034815e-01  6.53538461e-01\n",
      " -1.35597936e+00 -1.85847462e-01 -3.26370988e-08]\n",
      "point found:  [ 1.62912561 -0.54319621 -2.53676624  1.976029   -1.5149843  -0.36049446\n",
      " -1.21712284]\n",
      "Time:   4.11 \tVolume:   1.44 \tCenter: [ 1.97074976e+00 -4.61013728e-01 -2.35151892e+00  1.83057070e+00\n",
      " -7.13472074e-01  1.01769708e-01  2.98166469e-09]\n",
      "point found:  [ 2.28298418 -0.19739603 -1.09695847  1.48475851  2.26992519 -1.55103097\n",
      "  2.38809712]\n",
      "Time:   0.92 \tVolume:   0.02 \tCenter: [ 2.53272561 -0.18139542 -1.18806608  1.58133627  2.44311457 -1.27268568\n",
      "  1.25252973]\n",
      "point found:  [-2.22676028 -0.0104628   1.93993592 -0.22192221  1.58003305  1.03323057\n",
      " -2.50761344]\n",
      "Time:   7.43 \tVolume: 420.53 \tCenter: [ 3.15704130e-09 -3.92250954e-03 -6.22446756e-02  4.29872878e-02\n",
      "  5.40091083e-10 -1.71181532e-01  6.05950401e-10]\n",
      "point found:  [-2.95503675  0.4709493   2.46049146 -1.13101373 -1.65589327 -0.58338458\n",
      "  0.90788815]\n",
      "Time:   2.40 \tVolume:  11.32 \tCenter: [-2.35628272e+00  9.28046247e-03  2.18835426e+00 -1.66072590e-01\n",
      " -4.27333724e-11  7.46359419e-10  1.31880551e-09]\n",
      "point found:  [-2.74028607 -0.37381507  0.36970949 -1.09611624 -0.67746212  0.64850884\n",
      " -2.84062044]\n",
      "Time:   3.90 \tVolume:  84.19 \tCenter: [-2.21176160e+00  1.06735918e-01  1.23251894e-01  2.33032847e-01\n",
      "  4.69653205e-10  5.46354073e-11 -5.48903145e-11]\n",
      "point found:  [ 1.41541783 -1.5831508  -0.4973428  -0.88597497  2.50121759 -0.52066889\n",
      " -2.49895643]\n",
      "Time:   0.72 \tVolume:   0.01 \tCenter: [ 1.38761633 -1.51413064 -0.4203753  -0.94929406  2.28561947 -0.613081\n",
      " -2.0012104 ]\n",
      "point found:  [ 0.69611079  0.01530308 -2.72474261 -0.06772466  0.68280833  0.74804946\n",
      "  0.49957398]\n",
      "Time:   9.41 \tVolume: 468.40 \tCenter: [ 1.33189246e-08 -3.41528753e-02  6.12108709e-01  4.35616405e-02\n",
      "  1.09579203e-08  4.66574557e-09 -2.18194751e-09]\n",
      "point found:  [-1.60839748 -1.57483002  2.67375327 -1.36573167 -0.75880124  0.69113824\n",
      "  0.83028041]\n",
      "Time:   2.87 \tVolume:   2.76 \tCenter: [-1.50192051e+00 -1.64688888e+00  2.61367311e+00 -9.51132585e-01\n",
      "  1.05962039e-09 -1.78406621e-01  1.64324154e-09]\n",
      "point found:  [ 1.63037803 -1.10582972  2.67504957  1.79612374 -2.08884475 -0.26875925\n",
      "  1.44119956]\n",
      "Time:   2.55 \tVolume:   6.14 \tCenter: [ 9.19894883e-01 -3.79150576e-01  2.61161949e+00  1.18722243e+00\n",
      "  7.00369984e-10  1.73623493e-01  7.29546645e-10]\n",
      "point found:  [ 2.88262254  0.41486239 -2.62069163 -1.57323933  1.40158708 -0.79562641\n",
      " -0.32317142]\n",
      "Time:   1.92 \tVolume:   1.88 \tCenter: [ 2.62344206e+00  1.69235517e-01 -2.71458255e+00 -6.22590521e-01\n",
      "  5.43568918e-01 -1.42627288e-09 -2.28533326e-09]\n",
      "point found:  [-1.91670236 -0.11704045  0.49249862  1.19734778  1.0393482   0.6516086\n",
      " -2.81754184]\n",
      "Time:   3.64 \tVolume: 122.91 \tCenter: [-1.19042204e+00 -9.97306386e-02 -1.04799593e-01 -3.60626033e-01\n",
      "  3.85941945e-10 -1.74117042e-01 -1.38825529e-09]\n",
      "point found:  [-1.01825223 -0.33911004 -0.33307114 -0.75046914  2.12668871 -1.68056595\n",
      "  2.34469937]\n",
      "Time:   2.42 \tVolume:  79.29 \tCenter: [-1.11028696e+00  4.97704274e-02 -2.02087853e-01 -1.37393113e-02\n",
      "  1.46107926e+00  1.85052951e-09 -1.01941966e-09]\n",
      "point found:  [ 0.07679646  0.85520864 -0.6114263   0.16976693  2.92581968  0.82931991\n",
      "  0.60675617]\n",
      "Time:   4.09 \tVolume: 117.47 \tCenter: [-2.91457119e-03 -4.45848791e-02  4.63416842e-01 -1.88514653e-01\n",
      "  5.38651523e-09  8.26110735e-10  3.18086624e-09]\n",
      "point found:  [-0.37533231  0.0654114  -1.47709788  0.39122902 -0.08269054  0.54149305\n",
      " -0.57196578]\n",
      "Time:   5.49 \tVolume: 441.69 \tCenter: [ 7.55564233e-09 -2.57393605e-02  3.38810665e-01 -3.52089104e-01\n",
      "  3.16873727e-09 -1.71623435e-01  4.22907798e-09]\n",
      "point found:  [ 1.01849675  0.4010574  -2.58327893 -0.82417066  0.5922844   0.80908357\n",
      "  1.07726655]\n",
      "Time:   5.00 \tVolume: 331.87 \tCenter: [ 3.30835714e-09 -3.08626353e-02  8.19225221e-09  6.61193627e-02\n",
      " -3.58498564e-10 -1.78406599e-01  1.04871178e-09]\n",
      "point found:  [ 1.39268289  0.04396669  0.21060918  1.07377175 -0.67506778 -1.43737503\n",
      " -2.7107723 ]\n",
      "Time:   3.69 \tVolume: 216.57 \tCenter: [ 1.43976760e+00 -1.94312360e-02 -8.04955675e-02 -3.72810688e-01\n",
      "  1.70284586e-09  6.59611921e-10  5.55798874e-09]\n",
      "point found:  [-0.07405878  0.42843743  2.11567142 -0.32882407  2.63770208 -1.21116311\n",
      " -1.84495791]\n",
      "Time:   2.99 \tVolume:  79.31 \tCenter: [ 2.11192311e-01 -8.12669796e-02  1.39399651e+00  1.99116491e-02\n",
      "  4.91840479e-09  1.69894868e-01 -2.06762469e-08]\n",
      "point found:  [-0.34813076 -0.56016053 -0.50967711 -1.0035218   0.23064746 -0.38531803\n",
      " -2.85406733]\n",
      "Time:   5.29 \tVolume: 295.74 \tCenter: [3.50232086e-01 1.46614484e-01 4.22818227e-02 2.35847745e-01\n",
      " 1.99632266e-09 1.23154198e-09 1.61600955e-09]\n",
      "point found:  [-1.48492464 -0.616742    2.25598967  0.61012057 -2.51286759 -0.45280376\n",
      "  1.68979988]\n",
      "Time:   2.96 \tVolume:  16.08 \tCenter: [-1.67091484e+00  3.50873514e-02  1.52555168e+00 -2.01641386e-01\n",
      " -1.34590931e+00  5.70460568e-10  1.63515868e-10]\n",
      "point found:  [ 1.16258512 -0.1516857  -0.7141455   0.1650566  -0.67646165 -1.36183467\n",
      "  0.40872224]\n",
      "Time:   5.22 \tVolume: 280.71 \tCenter: [ 6.53693544e-10 -5.23516285e-02  1.54868611e-01 -1.27287563e-01\n",
      "  2.76695999e-10  1.33235900e-06 -1.80161219e-10]\n",
      "point found:  [-0.21812864  1.64581874 -0.13005727 -0.21900117 -2.54983373 -1.65489796\n",
      "  0.20556131]\n",
      "Time:   1.17 \tVolume:   0.33 \tCenter: [ 0.0120244   1.40745149 -0.20539088 -0.16350571 -2.19150834  0.17987095\n",
      "  0.4256601 ]\n",
      "point found:  [-0.7437057  -0.05998029  2.94289561 -0.41047152  0.98257521 -1.7131491\n",
      " -1.0605673 ]\n",
      "Time:   2.55 \tVolume:  58.06 \tCenter: [ 1.39504641e-03  4.56729279e-03  1.48615806e+00 -6.24152499e-02\n",
      "  1.65608514e-08 -1.72113174e-01 -1.27387572e-08]\n",
      "point found:  [-2.11753498 -0.63608462 -2.33496775 -0.70267218 -2.49545696  0.16773626\n",
      " -2.91908753]\n",
      "Time:   0.79 \tVolume:   0.01 \tCenter: [-1.92495017 -0.6352653  -2.37209055 -0.73217828 -2.57294927 -0.10518739\n",
      " -2.22651434]\n",
      "point found:  [ 2.93326866e+00  6.86221515e-02 -8.89586272e-01 -2.60071955e-03\n",
      " -1.87803454e+00  1.19584491e+00  2.27573663e+00]\n",
      "Time:   6.92 \tVolume: 271.73 \tCenter: [ 8.20172633e-01 -2.25738404e-02 -7.87060195e-10 -3.78717776e-02\n",
      "  2.35459652e-10  1.03086872e-10 -5.36564393e-09]\n",
      "point found:  [-1.35937776  1.60234296  2.28574713  0.74571235 -1.65880139 -1.51058638\n",
      "  2.12485291]\n",
      "Time:   4.02 \tVolume:   3.45 \tCenter: [-1.54218459e+00  1.65544604e+00  2.52763096e+00  7.44127879e-01\n",
      "  6.08769923e-09  1.71108643e-01  7.60618146e-09]\n",
      "point found:  [-1.16999151 -0.0438194  -1.47176539  0.49830041  2.00152785  1.44124332\n",
      " -1.48989053]\n",
      "Time:   8.60 \tVolume: 400.94 \tCenter: [ 1.84944504e-10 -9.19066067e-03  3.51234054e-01 -2.53843985e-02\n",
      "  9.56581481e-11 -1.71201474e-01 -6.78238399e-09]\n",
      "point found:  [ 2.02519546  1.97277719  1.78098175 -0.00344206  1.89756757  1.17005479\n",
      " -2.28145131]\n",
      "Time:   0.50 \tVolume:   0.02 \tCenter: [1.86432293e+00 2.00070845e+00 1.73479195e+00 2.49328526e-01\n",
      " 1.28911455e+00 2.13173954e-08 9.87537474e-09]\n",
      "point found:  [ 5.59042169e-01  1.21219786e-04 -4.37151974e-01  1.44840423e+00\n",
      "  7.09961854e-01  4.65006753e-01 -9.94858651e-01]\n",
      "Time:   6.93 \tVolume: 195.89 \tCenter: [-9.68677124e-02 -4.87707393e-02 -3.10649757e-01 -4.48558091e-01\n",
      "  2.01191019e-09 -1.71202623e-01 -4.78440163e-08]\n",
      "point found:  [ 0.87257972  0.62068647 -1.73616534 -1.50262288 -2.73059253  0.61461462\n",
      " -1.06780777]\n",
      "Time:   0.66 \tVolume:   0.01 \tCenter: [ 0.99861174  0.57616538 -1.59568775 -1.42355322 -2.43667436  0.97550634\n",
      " -1.37041321]\n"
     ]
    },
    {
     "name": "stdout",
     "output_type": "stream",
     "text": [
      "point found:  [ 2.17659831  0.88911191 -2.80942376 -1.22258985 -2.17872046  1.21598904\n",
      " -0.22606913]\n",
      "Time:   1.41 \tVolume:   0.07 \tCenter: [ 1.98285991  0.55693771 -2.78473688 -1.31688366 -2.12613513  0.95849163\n",
      " -0.74236811]\n",
      "point found:  [-1.36477692  0.46742046 -1.06222889  1.48023164  2.2175735   1.68351397\n",
      " -2.15463911]\n",
      "Time:   5.47 \tVolume:  31.37 \tCenter: [-1.75564007e+00  7.89439377e-02 -6.00612844e-01  4.99348295e-01\n",
      "  5.83325832e-10  2.02552197e-10  2.40834774e-09]\n",
      "point found:  [-1.96924541  0.87355607  0.64421223  1.56542789  0.73050499 -0.5488939\n",
      "  0.36518811]\n",
      "Time:   3.70 \tVolume:   2.02 \tCenter: [-2.01050549e+00  4.04885027e-01  2.89594409e-01  9.91952797e-01\n",
      " -7.18376831e-01 -2.29836173e-01 -3.04571479e-10]\n",
      "point found:  [-0.23655994  0.22010372 -1.73556636 -1.9594604  -1.05297733 -0.32647859\n",
      "  1.64638221]\n",
      "Time:   5.43 \tVolume:  10.98 \tCenter: [-2.09791982e-01 -7.85028033e-02 -1.28805946e+00 -1.74318503e+00\n",
      "  1.90405647e-09  1.77088607e-01  6.26347862e-11]\n",
      "point found:  [ 0.26810895  0.32138214 -2.61065975 -0.42996505 -1.3773061  -0.59395788\n",
      "  0.59530038]\n",
      "Time:   9.01 \tVolume: 451.56 \tCenter: [-8.62199512e-09 -2.19731287e-02  2.31762313e-01  2.08382020e-01\n",
      "  1.75141146e-09  1.72453694e-01  7.08157089e-10]\n",
      "point found:  [-2.02685248 -0.43962338 -1.4458165   1.2827173  -2.80736536  1.72325119\n",
      " -1.4772692 ]\n",
      "Time:   0.49 \tVolume:   0.00 \tCenter: [-2.07777678 -0.36901216 -1.41153352  1.42182    -2.70724477  1.41519537\n",
      " -0.99703574]\n",
      "point found:  [ 1.92979806 -0.15171543  2.90972339  0.88309907  0.17551097 -1.29274326\n",
      "  0.95736714]\n",
      "Time:   4.23 \tVolume: 280.99 \tCenter: [-5.42624345e-09  7.96072614e-03  9.09747625e-01 -7.77660919e-01\n",
      "  1.15618182e-09 -1.09886277e-06  1.00950492e-09]\n",
      "point found:  [-1.21064546 -1.1545604  -0.71339504  1.75228628  2.54420728 -0.72749037\n",
      " -0.59078753]\n",
      "Time:   0.39 \tVolume: 3463.01 \tCenter: [1.02664846e-08 5.71265435e-09 1.02678790e-08 5.71201664e-09\n",
      " 1.02654778e-08 5.71247050e-09 1.07206457e-08]\n"
     ]
    }
   ],
   "source": [
    "def do_iris(q_seed, iris_options):\n",
    "    start_time = time.time()\n",
    "    hpoly = IrisInConfigurationSpace(plant, plant_context, q_seed, iris_options)\n",
    "    ellipse = hpoly.MaximumVolumeInscribedEllipsoid()\n",
    "    print(\"Time: %6.2f \\tVolume: %6.2f \\tCenter:\" % (time.time() - start_time, ellipse.Volume()),\n",
    "          ellipse.center(), flush=True)\n",
    "    return ellipse, hpoly\n",
    "\n",
    "iris_options = IrisOptions()\n",
    "iris_options.require_sample_point_is_contained = True\n",
    "iris_options.iteration_limit = 50\n",
    "iris_options.enable_ibex = False\n",
    "\n",
    "regions = []\n",
    "ellipses = []\n",
    "its = 40\n",
    "seed_points = [start, target]\n",
    "\n",
    "for point in seed_points:\n",
    "    ell, reg = do_iris(point, iris_options)\n",
    "    regions.append(reg)\n",
    "    ellipses.append(ell)\n",
    "    \n",
    "for it in range(its):\n",
    "    #rejection sampling to get initial feasible point \n",
    "    found = False\n",
    "    while not found:\n",
    "        t = np.random.rand(len(limits[0]))\n",
    "        q_samp = (1-t)*limits[0] + t*limits[1]\n",
    "        found = (col_func_handle(q_samp)==0.0)\n",
    "    print(\"point found: \", q_samp)\n",
    "    ell, reg = do_iris(q_samp, iris_options)\n",
    "    if ell.Volume() < 1000.0:\n",
    "        regions.append(reg)\n",
    "        ellipses.append(ell)\n",
    "        \n",
    "        set_joint_angles(ell.center())\n",
    "        tf = plant.EvalBodyPoseInWorld(plant_context, plant.get_body(pydrake.multibody.tree.BodyIndex(6)))\n",
    "        mat = meshcat.geometry.MeshLambertMaterial(color=0x0029F1)\n",
    "        mat.reflectivity = 1.0\n",
    "        vis['centers']['points' + str(it)].set_object(\n",
    "                    meshcat.geometry.Sphere(0.02), mat)\n",
    "        vis['centers']['points' + str(it)].set_transform(tf.GetAsMatrix4())"
   ]
  },
  {
   "cell_type": "code",
   "execution_count": 21,
   "metadata": {},
   "outputs": [
    {
     "name": "stdout",
     "output_type": "stream",
     "text": [
      "13.329792976379395\n"
     ]
    },
    {
     "ename": "AttributeError",
     "evalue": "'NoneType' object has no attribute 'start_time'",
     "output_type": "error",
     "traceback": [
      "\u001b[0;31m---------------------------------------------------------------------------\u001b[0m",
      "\u001b[0;31mAttributeError\u001b[0m                            Traceback (most recent call last)",
      "\u001b[0;32m<ipython-input-21-a6e9e26a8ea3>\u001b[0m in \u001b[0;36m<module>\u001b[0;34m\u001b[0m\n\u001b[1;32m      7\u001b[0m \u001b[0mtraj\u001b[0m \u001b[0;34m=\u001b[0m \u001b[0mspp\u001b[0m\u001b[0;34m.\u001b[0m\u001b[0mSolve\u001b[0m\u001b[0;34m(\u001b[0m\u001b[0;34m)\u001b[0m\u001b[0;34m\u001b[0m\u001b[0;34m\u001b[0m\u001b[0m\n\u001b[1;32m      8\u001b[0m \u001b[0mprint\u001b[0m\u001b[0;34m(\u001b[0m\u001b[0mtime\u001b[0m\u001b[0;34m.\u001b[0m\u001b[0mtime\u001b[0m\u001b[0;34m(\u001b[0m\u001b[0;34m)\u001b[0m \u001b[0;34m-\u001b[0m \u001b[0mstart_time\u001b[0m\u001b[0;34m)\u001b[0m\u001b[0;34m\u001b[0m\u001b[0;34m\u001b[0m\u001b[0m\n\u001b[0;32m----> 9\u001b[0;31m \u001b[0mprint\u001b[0m\u001b[0;34m(\u001b[0m\u001b[0mtraj\u001b[0m\u001b[0;34m.\u001b[0m\u001b[0mstart_time\u001b[0m\u001b[0;34m(\u001b[0m\u001b[0;34m)\u001b[0m\u001b[0;34m)\u001b[0m\u001b[0;34m\u001b[0m\u001b[0;34m\u001b[0m\u001b[0m\n\u001b[0m\u001b[1;32m     10\u001b[0m \u001b[0mprint\u001b[0m\u001b[0;34m(\u001b[0m\u001b[0mtraj\u001b[0m\u001b[0;34m.\u001b[0m\u001b[0mend_time\u001b[0m\u001b[0;34m(\u001b[0m\u001b[0;34m)\u001b[0m\u001b[0;34m)\u001b[0m\u001b[0;34m\u001b[0m\u001b[0;34m\u001b[0m\u001b[0m\n\u001b[1;32m     11\u001b[0m \u001b[0;31m#visualize\u001b[0m\u001b[0;34m\u001b[0m\u001b[0;34m\u001b[0m\u001b[0;34m\u001b[0m\u001b[0m\n",
      "\u001b[0;31mAttributeError\u001b[0m: 'NoneType' object has no attribute 'start_time'"
     ]
    }
   ],
   "source": [
    "start_time = time.time()\n",
    "spp = BsplineTrajectoryThroughUnionOfHPolyhedra(start, target, regions)\n",
    "spp.set_max_velocity([.8, .8, .8,.8, .8, .8,.8])\n",
    "spp.set_extra_control_points_per_region(2)\n",
    "\n",
    "# print(spp.num_regions())\n",
    "traj = spp.Solve()\n",
    "print(time.time() - start_time)\n",
    "print(traj.start_time())\n",
    "print(traj.end_time())\n",
    "#visualize\n",
    "maxit = 60\n",
    "pts = []\n",
    "for it in range(maxit):\n",
    "    pts.append(traj.value(it*traj.end_time()/maxit))\n",
    "    mat = meshcat.geometry.MeshLambertMaterial(color=0xFFF812)\n",
    "    mat.reflectivity = 1.0\n",
    "    set_joint_angles(pts[-1].reshape(-1,))\n",
    "    tf= plant.EvalBodyPoseInWorld(plant_context, plant.get_body(pydrake.multibody.tree.BodyIndex(3)))\n",
    "   \n",
    "     \n",
    "    mat = meshcat.geometry.MeshLambertMaterial(color=0x0029F1)\n",
    "    mat.reflectivity = 1.0\n",
    "    vis['traj']['points' + str(it)].set_object(\n",
    "                meshcat.geometry.Sphere(0.02), mat)\n",
    "    vis['traj']['points' + str(it)].set_transform(\n",
    "                meshcat.transformations.translation_matrix(tf.tranlation()))\n",
    "    "
   ]
  },
  {
   "cell_type": "code",
   "execution_count": 24,
   "metadata": {},
   "outputs": [
    {
     "ename": "AttributeError",
     "evalue": "'NoneType' object has no attribute 'value'",
     "output_type": "error",
     "traceback": [
      "\u001b[0;31m---------------------------------------------------------------------------\u001b[0m",
      "\u001b[0;31mAttributeError\u001b[0m                            Traceback (most recent call last)",
      "\u001b[0;32m<ipython-input-24-d622bc4d6562>\u001b[0m in \u001b[0;36m<module>\u001b[0;34m\u001b[0m\n\u001b[1;32m      1\u001b[0m \u001b[0mpts\u001b[0m \u001b[0;34m=\u001b[0m \u001b[0;34m[\u001b[0m\u001b[0;34m]\u001b[0m\u001b[0;34m\u001b[0m\u001b[0;34m\u001b[0m\u001b[0m\n\u001b[1;32m      2\u001b[0m \u001b[0;32mfor\u001b[0m \u001b[0mit\u001b[0m \u001b[0;32min\u001b[0m \u001b[0mrange\u001b[0m\u001b[0;34m(\u001b[0m\u001b[0;36m100\u001b[0m\u001b[0;34m)\u001b[0m\u001b[0;34m:\u001b[0m\u001b[0;34m\u001b[0m\u001b[0;34m\u001b[0m\u001b[0m\n\u001b[0;32m----> 3\u001b[0;31m     \u001b[0mpts\u001b[0m\u001b[0;34m.\u001b[0m\u001b[0mappend\u001b[0m\u001b[0;34m(\u001b[0m\u001b[0mtraj\u001b[0m\u001b[0;34m.\u001b[0m\u001b[0mvalue\u001b[0m\u001b[0;34m(\u001b[0m\u001b[0mit\u001b[0m\u001b[0;34m*\u001b[0m\u001b[0mtraj\u001b[0m\u001b[0;34m.\u001b[0m\u001b[0mend_time\u001b[0m\u001b[0;34m(\u001b[0m\u001b[0;34m)\u001b[0m\u001b[0;34m/\u001b[0m\u001b[0mmaxit\u001b[0m\u001b[0;34m)\u001b[0m\u001b[0;34m)\u001b[0m\u001b[0;34m\u001b[0m\u001b[0;34m\u001b[0m\u001b[0m\n\u001b[0m\u001b[1;32m      4\u001b[0m     \u001b[0mmat\u001b[0m \u001b[0;34m=\u001b[0m \u001b[0mmeshcat\u001b[0m\u001b[0;34m.\u001b[0m\u001b[0mgeometry\u001b[0m\u001b[0;34m.\u001b[0m\u001b[0mMeshLambertMaterial\u001b[0m\u001b[0;34m(\u001b[0m\u001b[0mcolor\u001b[0m\u001b[0;34m=\u001b[0m\u001b[0;36m0xFFF812\u001b[0m\u001b[0;34m)\u001b[0m\u001b[0;34m\u001b[0m\u001b[0;34m\u001b[0m\u001b[0m\n\u001b[1;32m      5\u001b[0m     \u001b[0mmat\u001b[0m\u001b[0;34m.\u001b[0m\u001b[0mreflectivity\u001b[0m \u001b[0;34m=\u001b[0m \u001b[0;36m1.0\u001b[0m\u001b[0;34m\u001b[0m\u001b[0;34m\u001b[0m\u001b[0m\n",
      "\u001b[0;31mAttributeError\u001b[0m: 'NoneType' object has no attribute 'value'"
     ]
    }
   ],
   "source": [
    "pts = []\n",
    "for it in range(100):\n",
    "    pts.append(traj.value(it*traj.end_time()/maxit))\n",
    "    mat = meshcat.geometry.MeshLambertMaterial(color=0xFFF812)\n",
    "    mat.reflectivity = 1.0\n",
    "    set_joint_angles(pts[-1].reshape(-1,))\n",
    "    tf= plant.EvalBodyPoseInWorld(plant_context, plant.get_body(pydrake.multibody.tree.BodyIndex(3)))\n",
    "   \n",
    "     \n",
    "    mat = meshcat.geometry.MeshLambertMaterial(color=0x0029F1)\n",
    "    mat.reflectivity = 1.0\n",
    "    vis['traj']['points' + str(it)].set_object(\n",
    "                meshcat.geometry.Sphere(0.02), mat)\n",
    "    vis['traj']['points' + str(it)].set_transform(\n",
    "                meshcat.transformations.translation_matrix(tf.tranlation()))"
   ]
  },
  {
   "cell_type": "code",
   "execution_count": 26,
   "metadata": {},
   "outputs": [],
   "source": [
    "traj"
   ]
  },
  {
   "cell_type": "raw",
   "metadata": {},
   "source": []
  },
  {
   "cell_type": "code",
   "execution_count": 29,
   "metadata": {},
   "outputs": [
    {
     "name": "stdout",
     "output_type": "stream",
     "text": [
      "0.0           \r"
     ]
    }
   ],
   "source": [
    "traj= utils.PWLinTraj(path, 5.0)\n",
    "substeps = 1000\n",
    "utils.animate(traj, showres, substeps, 5*substeps)"
   ]
  },
  {
   "cell_type": "code",
   "execution_count": 34,
   "metadata": {},
   "outputs": [
    {
     "ename": "ImportError",
     "evalue": "cannot import name 'GraphOfConvexSets' from 'pydrake.geometry.optimization' (unknown location)",
     "output_type": "error",
     "traceback": [
      "\u001b[0;31m---------------------------------------------------------------------------\u001b[0m",
      "\u001b[0;31mImportError\u001b[0m                               Traceback (most recent call last)",
      "\u001b[0;32m<ipython-input-34-1015c5a1791f>\u001b[0m in \u001b[0;36m<module>\u001b[0;34m\u001b[0m\n\u001b[0;32m----> 1\u001b[0;31m \u001b[0;32mimport\u001b[0m \u001b[0mspp\u001b[0m\u001b[0;34m\u001b[0m\u001b[0;34m\u001b[0m\u001b[0m\n\u001b[0m",
      "\u001b[0;32m~/.cache/bazel/_bazel_peter/76bc0000d64a792547034bb2ef203b82/execroot/drake/bazel-out/k8-opt/bin/sandbox/iiwa_example.runfiles/drake/sandbox/spp.py\u001b[0m in \u001b[0;36m<module>\u001b[0;34m\u001b[0m\n\u001b[1;32m      1\u001b[0m \u001b[0;32mimport\u001b[0m \u001b[0mnumpy\u001b[0m \u001b[0;32mas\u001b[0m \u001b[0mnp\u001b[0m\u001b[0;34m\u001b[0m\u001b[0;34m\u001b[0m\u001b[0m\n\u001b[1;32m      2\u001b[0m \u001b[0;34m\u001b[0m\u001b[0m\n\u001b[0;32m----> 3\u001b[0;31m from pydrake.geometry.optimization import (\n\u001b[0m\u001b[1;32m      4\u001b[0m     \u001b[0mGraphOfConvexSets\u001b[0m\u001b[0;34m,\u001b[0m\u001b[0;34m\u001b[0m\u001b[0;34m\u001b[0m\u001b[0m\n\u001b[1;32m      5\u001b[0m     \u001b[0mHPolyhedron\u001b[0m\u001b[0;34m,\u001b[0m\u001b[0;34m\u001b[0m\u001b[0;34m\u001b[0m\u001b[0m\n",
      "\u001b[0;31mImportError\u001b[0m: cannot import name 'GraphOfConvexSets' from 'pydrake.geometry.optimization' (unknown location)"
     ]
    }
   ],
   "source": [
    "import spp\n"
   ]
  },
  {
   "cell_type": "code",
   "execution_count": 37,
   "metadata": {},
   "outputs": [],
   "source": [
    "from pydrake.geometry.optimization import \n"
   ]
  },
  {
   "cell_type": "code",
   "execution_count": null,
   "metadata": {},
   "outputs": [],
   "source": []
  }
 ],
 "metadata": {
  "interpreter": {
   "hash": "916dbcbb3f70747c44a77c7bcd40155683ae19c65e1c03b4aa3499c5328201f1"
  },
  "kernelspec": {
   "display_name": "Python 3",
   "language": "python",
   "name": "python3"
  },
  "language_info": {
   "codemirror_mode": {
    "name": "ipython",
    "version": 3
   },
   "file_extension": ".py",
   "mimetype": "text/x-python",
   "name": "python",
   "nbconvert_exporter": "python",
   "pygments_lexer": "ipython3",
   "version": "3.8.10"
  }
 },
 "nbformat": 4,
 "nbformat_minor": 2
}
