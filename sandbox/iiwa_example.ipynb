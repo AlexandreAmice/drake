{
 "cells": [
  {
   "cell_type": "code",
   "execution_count": 1,
   "metadata": {},
   "outputs": [],
   "source": [
    "%load_ext autoreload"
   ]
  },
  {
   "cell_type": "code",
   "execution_count": 3,
   "metadata": {},
   "outputs": [],
   "source": [
    "import numpy as np\n",
    "import os\n",
    "import mcubes\n",
    "import meshcat\n",
    "import pydrake\n",
    "from pydrake.geometry import SceneGraph\n",
    "from pydrake.systems.framework import DiagramBuilder\n",
    "from pydrake.common import FindResourceOrThrow\n",
    "from pydrake.multibody.plant import MultibodyPlant, AddMultibodyPlantSceneGraph\n",
    "from pydrake.multibody.parsing import Parser, LoadModelDirectives, ProcessModelDirectives\n",
    "from pydrake.multibody.tree import RevoluteJoint\n",
    "from pydrake.all import ConnectMeshcatVisualizer, InverseKinematics, RigidTransform, RotationMatrix\n",
    "from pydrake.all import BsplineTrajectoryThroughUnionOfHPolyhedra, IrisInConfigurationSpace, IrisOptions, Rgba\n",
    "import time\n",
    "from meshcat import Visualizer\n",
    "from functools import partial\n",
    "\n",
    "import ipywidgets as widgets\n",
    "from IPython.display import display\n",
    "\n",
    "#from meshcat_cpp_utils import StartMeshcat, MeshcatJointSliders\n",
    "from pydrake.all import MeshcatVisualizerCpp, MeshcatVisualizerParams, Role\n",
    "import rrt, utils# spp"
   ]
  },
  {
   "cell_type": "code",
   "execution_count": 4,
   "metadata": {},
   "outputs": [
    {
     "ename": "ImportError",
     "evalue": "cannot import name 'BsplineTrajectory_' from 'pydrake.trajectories' (/home/peter/.cache/bazel/_bazel_peter/76bc0000d64a792547034bb2ef203b82/execroot/drake/bazel-out/k8-opt/bin/sandbox/iiwa_example.runfiles/drake/bindings/pydrake/trajectories.cpython-38-x86_64-linux-gnu.so)",
     "output_type": "error",
     "traceback": [
      "\u001b[0;31m---------------------------------------------------------------------------\u001b[0m",
      "\u001b[0;31mImportError\u001b[0m                               Traceback (most recent call last)",
      "\u001b[0;32m<ipython-input-4-1015c5a1791f>\u001b[0m in \u001b[0;36m<module>\u001b[0;34m\u001b[0m\n\u001b[0;32m----> 1\u001b[0;31m \u001b[0;32mimport\u001b[0m \u001b[0mspp\u001b[0m\u001b[0;34m\u001b[0m\u001b[0;34m\u001b[0m\u001b[0m\n\u001b[0m",
      "\u001b[0;32m~/.cache/bazel/_bazel_peter/76bc0000d64a792547034bb2ef203b82/execroot/drake/bazel-out/k8-opt/bin/sandbox/iiwa_example.runfiles/drake/sandbox/spp.py\u001b[0m in \u001b[0;36m<module>\u001b[0;34m\u001b[0m\n\u001b[1;32m     22\u001b[0m     \u001b[0mVariables\u001b[0m\u001b[0;34m,\u001b[0m\u001b[0;34m\u001b[0m\u001b[0;34m\u001b[0m\u001b[0m\n\u001b[1;32m     23\u001b[0m )\n\u001b[0;32m---> 24\u001b[0;31m \u001b[0;32mfrom\u001b[0m \u001b[0mpydrake\u001b[0m\u001b[0;34m.\u001b[0m\u001b[0mtrajectories\u001b[0m \u001b[0;32mimport\u001b[0m \u001b[0mBsplineTrajectory\u001b[0m\u001b[0;34m,\u001b[0m \u001b[0mBsplineTrajectory_\u001b[0m\u001b[0;34m\u001b[0m\u001b[0;34m\u001b[0m\u001b[0m\n\u001b[0m\u001b[1;32m     25\u001b[0m \u001b[0;34m\u001b[0m\u001b[0m\n\u001b[1;32m     26\u001b[0m \"\"\"\n",
      "\u001b[0;31mImportError\u001b[0m: cannot import name 'BsplineTrajectory_' from 'pydrake.trajectories' (/home/peter/.cache/bazel/_bazel_peter/76bc0000d64a792547034bb2ef203b82/execroot/drake/bazel-out/k8-opt/bin/sandbox/iiwa_example.runfiles/drake/bindings/pydrake/trajectories.cpython-38-x86_64-linux-gnu.so)"
     ]
    }
   ],
   "source": [
    "import spp\n"
   ]
  },
  {
   "cell_type": "code",
   "execution_count": 6,
   "metadata": {},
   "outputs": [
    {
     "ename": "ImportError",
     "evalue": "cannot import name 'BsplineTrajectory_' from 'pydrake.trajectories' (/home/peter/.cache/bazel/_bazel_peter/76bc0000d64a792547034bb2ef203b82/execroot/drake/bazel-out/k8-opt/bin/sandbox/iiwa_example.runfiles/drake/bindings/pydrake/trajectories.cpython-38-x86_64-linux-gnu.so)",
     "output_type": "error",
     "traceback": [
      "\u001b[0;31m---------------------------------------------------------------------------\u001b[0m",
      "\u001b[0;31mImportError\u001b[0m                               Traceback (most recent call last)",
      "\u001b[0;32m<ipython-input-6-203799492e26>\u001b[0m in \u001b[0;36m<module>\u001b[0;34m\u001b[0m\n\u001b[0;32m----> 1\u001b[0;31m \u001b[0;32mfrom\u001b[0m \u001b[0mpydrake\u001b[0m\u001b[0;34m.\u001b[0m\u001b[0mtrajectories\u001b[0m \u001b[0;32mimport\u001b[0m \u001b[0mBsplineTrajectory_\u001b[0m\u001b[0;34m\u001b[0m\u001b[0;34m\u001b[0m\u001b[0m\n\u001b[0m",
      "\u001b[0;31mImportError\u001b[0m: cannot import name 'BsplineTrajectory_' from 'pydrake.trajectories' (/home/peter/.cache/bazel/_bazel_peter/76bc0000d64a792547034bb2ef203b82/execroot/drake/bazel-out/k8-opt/bin/sandbox/iiwa_example.runfiles/drake/bindings/pydrake/trajectories.cpython-38-x86_64-linux-gnu.so)"
     ]
    }
   ],
   "source": [
    "from pydr"
   ]
  },
  {
   "cell_type": "code",
   "execution_count": 4,
   "metadata": {},
   "outputs": [],
   "source": [
    "# Setup meshcat\n",
    "from meshcat.servers.zmqserver import start_zmq_server_as_subprocess\n",
    "proc, zmq_url, web_url = start_zmq_server_as_subprocess(server_args=[])"
   ]
  },
  {
   "cell_type": "code",
   "execution_count": 24,
   "metadata": {},
   "outputs": [
    {
     "name": "stdout",
     "output_type": "stream",
     "text": [
      "You can open the visualizer by visiting the following URL:\n",
      "http://127.0.0.1:7005/static/\n",
      "Connecting to meshcat-server at zmq_url=tcp://127.0.0.1:6005...\n",
      "You can open the visualizer by visiting the following URL:\n",
      "http://127.0.0.1:7005/static/\n",
      "Connected to meshcat-server.\n"
     ]
    }
   ],
   "source": [
    "vis = Visualizer(zmq_url=zmq_url)\n",
    "vis.delete()\n",
    "\n",
    "#model_file = FindResourceOrThrow(\"drake/manipulation/models/iiwa_description/urdf/iiwa14_polytope_collision.urdf\")\n",
    "model_file = FindResourceOrThrow(\"drake/manipulation/models/iiwa_description/iiwa7/iiwa7_with_box_collision.sdf\")\n",
    "#model_file = FindResourceOrThrow(\"drake/manipulation/models/iiwa_description/iiwa7/iiwa7_no_collision.sdf\")\n",
    "#model_file = FindResourceOrThrow(\"drake/manipulation/models/iiwa_description/sdf/iiwa14_no_collision.sdf\")\n",
    "\n",
    "#box_file = FindResourceOrThrow(\"drake/sandbox/assets/box.urdf\")\n",
    "box_file_1 = FindResourceOrThrow(\"drake/sandbox/shelves.sdf\")\n",
    "box_file_2 = FindResourceOrThrow(\"drake/sandbox/shelves2.sdf\")\n",
    "box_file_3 = FindResourceOrThrow(\"drake/sandbox/shelves3.sdf\")\n",
    "box_file_4 = FindResourceOrThrow(\"drake/sandbox/shelves4.sdf\")\n",
    "\n",
    "models =[]\n",
    "\n",
    "builder = DiagramBuilder()\n",
    "\n",
    "plant, scene_graph = AddMultibodyPlantSceneGraph(builder, time_step=1e-4)\n",
    "models.append(Parser(plant, scene_graph).AddModelFromFile(model_file))\n",
    "\n",
    "models.append(Parser(plant, scene_graph).AddModelFromFile(box_file_1))\n",
    "models.append(Parser(plant, scene_graph).AddModelFromFile(box_file_2))\n",
    "models.append(Parser(plant, scene_graph).AddModelFromFile(box_file_3))\n",
    "models.append(Parser(plant, scene_graph).AddModelFromFile(box_file_4))\n",
    "\n",
    "sp = 0.4\n",
    "locs = [ [0,0,0], [sp, 1.4*sp,0.4], [sp,-1.4*sp,0.4], [-sp,-1.4*sp,0.4], [-sp,1.4*sp,0.4]] \n",
    "idx = 0\n",
    "for model in models:\n",
    "    plant.WeldFrames(plant.world_frame(), plant.get_body(plant.GetBodyIndices(model)[0]).body_frame(), RigidTransform(locs[idx]))\n",
    "    idx +=1\n",
    "# plant.WeldFrames(plant.world_frame(), plant.GetFrameByName(\"base\", model), RigidTransform(locs[idx]))\n",
    "\n",
    "plant.Finalize()\n",
    "\n",
    "visualizer = ConnectMeshcatVisualizer(builder, scene_graph, zmq_url=zmq_url, delete_prefix_on_load=False, )\n",
    "\n",
    "diagram = builder.Build()\n",
    "visualizer.load()\n",
    "context = diagram.CreateDefaultContext()\n",
    "plant_context = plant.GetMyContextFromRoot(context)\n",
    "diagram.Publish(context)\n",
    "\n"
   ]
  },
  {
   "cell_type": "code",
   "execution_count": 6,
   "metadata": {},
   "outputs": [],
   "source": [
    "sliders = []\n",
    "for joint_idx in range(1,8):\n",
    "    sliders.append(\n",
    "        widgets.FloatSlider(\n",
    "        min=plant.GetJointByName(f\"iiwa_joint_{joint_idx}\").position_lower_limit(), \n",
    "        max=plant.GetJointByName(f\"iiwa_joint_{joint_idx}\").position_upper_limit(), \n",
    "        value=0, \n",
    "        description=f'iiwa_joint_{joint_idx}'\n",
    "        )\n",
    "    )\n",
    "\n",
    "ik = InverseKinematics(plant, plant_context)\n",
    "collision_constraint = ik.AddMinimumDistanceConstraint(0.001, 0.001)\n",
    "\n",
    "def eval_cons(q, c, tol):\n",
    "    return 1-1*float(c.evaluator().CheckSatisfied(q, tol))\n",
    "    \n",
    "col_func_handle = partial(eval_cons, c=collision_constraint, tol=0.01)\n",
    "    \n",
    "def showres(q):\n",
    "    for joint_idx in range(1,8):\n",
    "        plant.GetJointByName(f\"iiwa_joint_{joint_idx}\").set_angle(plant_context, q[joint_idx-1])\n",
    "    col = col_func_handle(q)\n",
    "    if col:\n",
    "        vis[\"collision\"].set_object(\n",
    "                meshcat.geometry.Sphere(0.1), meshcat.geometry.MeshLambertMaterial(color=0xFF0000))\n",
    "        vis[\"collision\"].set_transform(\n",
    "                meshcat.transformations.translation_matrix([0, 1.0, 1.0]))\n",
    "    else:\n",
    "        vis[\"collision\"].set_object(\n",
    "                meshcat.geometry.Sphere(0.1), meshcat.geometry.MeshLambertMaterial(color=0x00FF00))\n",
    "        vis[\"collision\"].set_transform(\n",
    "                meshcat.transformations.translation_matrix([0, 1.0, 1.0]))\n",
    "    diagram.Publish(context)\n",
    "    print(\"              \", end = \"\\r\")\n",
    "    print(col , end = \"\\r\")\n",
    "\n",
    "    \n",
    "def set_joint_angles(vals):\n",
    "    for idx in range(1,8):\n",
    "        plant.GetJointByName(f\"iiwa_joint_{joint_idx}\").set_angle(plant_context, vals[joint_idx-1])\n",
    "    \n",
    "    \n",
    "    \n",
    "q_init = [0.0, 0.0, 0.0, 0.0, 0.0, 0.0, 0.0]\n",
    "# q_start = [-1.37, -1.39, -1.57, -1.19, -1.57, 0.00, 0.00]\n",
    "# q_end = [1.53, -1.19, 1.83, 0.91, -1.27, -0.59, 0.00]\n",
    "q = q_init.copy()\n",
    "def handle_slider_change(change, idx):\n",
    "    q[idx] = change['new']\n",
    "    #print(q, end=\"\\r\")\n",
    "    showres(q)\n",
    "    \n",
    "idx = 0\n",
    "for slider in sliders:\n",
    "    slider.observe(partial(handle_slider_change, idx = idx), names='value')\n",
    "    idx+=1\n"
   ]
  },
  {
   "cell_type": "code",
   "execution_count": 7,
   "metadata": {
    "scrolled": false
   },
   "outputs": [
    {
     "data": {
      "application/vnd.jupyter.widget-view+json": {
       "model_id": "12867da589974505b4f356698744fbb1",
       "version_major": 2,
       "version_minor": 0
      },
      "text/plain": [
       "FloatSlider(value=0.0, description='iiwa_joint_1', max=2.96706, min=-2.96706)"
      ]
     },
     "metadata": {},
     "output_type": "display_data"
    },
    {
     "data": {
      "application/vnd.jupyter.widget-view+json": {
       "model_id": "0b808bba92c242088fee614ee56603e1",
       "version_major": 2,
       "version_minor": 0
      },
      "text/plain": [
       "FloatSlider(value=0.0, description='iiwa_joint_2', max=2.0944, min=-2.0944)"
      ]
     },
     "metadata": {},
     "output_type": "display_data"
    },
    {
     "data": {
      "application/vnd.jupyter.widget-view+json": {
       "model_id": "1f5e42b9bfbc48e0845d0ee5e92be7b0",
       "version_major": 2,
       "version_minor": 0
      },
      "text/plain": [
       "FloatSlider(value=0.0, description='iiwa_joint_3', max=2.96706, min=-2.96706)"
      ]
     },
     "metadata": {},
     "output_type": "display_data"
    },
    {
     "data": {
      "application/vnd.jupyter.widget-view+json": {
       "model_id": "1af9cadd68c544ef8cc5fe61b8e59db1",
       "version_major": 2,
       "version_minor": 0
      },
      "text/plain": [
       "FloatSlider(value=0.0, description='iiwa_joint_4', max=2.0944, min=-2.0944)"
      ]
     },
     "metadata": {},
     "output_type": "display_data"
    },
    {
     "data": {
      "application/vnd.jupyter.widget-view+json": {
       "model_id": "4567864271324430b776e47cfe60d16b",
       "version_major": 2,
       "version_minor": 0
      },
      "text/plain": [
       "FloatSlider(value=0.0, description='iiwa_joint_5', max=2.96706, min=-2.96706)"
      ]
     },
     "metadata": {},
     "output_type": "display_data"
    },
    {
     "data": {
      "application/vnd.jupyter.widget-view+json": {
       "model_id": "4674cbe2c50b4190917788ee0bb48bb0",
       "version_major": 2,
       "version_minor": 0
      },
      "text/plain": [
       "FloatSlider(value=0.0, description='iiwa_joint_6', max=2.0944, min=-2.0944)"
      ]
     },
     "metadata": {},
     "output_type": "display_data"
    },
    {
     "data": {
      "application/vnd.jupyter.widget-view+json": {
       "model_id": "5588b8bc18354669ac81f0e28cb24f00",
       "version_major": 2,
       "version_minor": 0
      },
      "text/plain": [
       "FloatSlider(value=0.0, description='iiwa_joint_7', max=3.05433, min=-3.05433)"
      ]
     },
     "metadata": {},
     "output_type": "display_data"
    },
    {
     "data": {
      "text/html": [
       "\n",
       "            <div style=\"height: 400px; width: 100%; overflow-x: auto; overflow-y: hidden; resize: both\">\n",
       "            <iframe src=\"http://127.0.0.1:7005/static/\" style=\"width: 100%; height: 100%; border: none\"></iframe>\n",
       "            </div>\n",
       "            "
      ],
      "text/plain": [
       "<IPython.core.display.HTML object>"
      ]
     },
     "metadata": {},
     "output_type": "display_data"
    },
    {
     "name": "stdout",
     "output_type": "stream",
     "text": [
      "0.0           \r"
     ]
    }
   ],
   "source": [
    "for slider in sliders:\n",
    "    display(slider)\n",
    "display(vis.jupyter_cell())"
   ]
  },
  {
   "cell_type": "code",
   "execution_count": 25,
   "metadata": {},
   "outputs": [
    {
     "name": "stdout",
     "output_type": "stream",
     "text": [
      "              \r",
      "0.0\r"
     ]
    }
   ],
   "source": [
    "#problem config\n",
    "start = np.array([1.43, -0.69, 0.83, 1.01, -1.97, 1.11, 0.00])\n",
    "target = np.array([1.73, 1.41, 0.43, -1.19, -1.27, -1.19, 0.00])\n",
    "showres(target)\n",
    "limits =[plant.GetPositionLowerLimits(), plant.GetPositionUpperLimits()]"
   ]
  },
  {
   "cell_type": "code",
   "execution_count": 27,
   "metadata": {},
   "outputs": [
    {
     "name": "stdout",
     "output_type": "stream",
     "text": [
      "it: 0 distance to target:  3.868 goalsample prob:  0.030\n",
      "it: 2 distance to target:  3.863 goalsample prob:  0.030\n",
      "it: 3 distance to target:  3.831 goalsample prob:  0.030\n",
      "it: 11 distance to target:  3.824 goalsample prob:  0.030\n",
      "it: 12 distance to target:  3.821 goalsample prob:  0.030\n",
      "it: 13 distance to target:  3.767 goalsample prob:  0.030\n",
      "it: 16 distance to target:  3.716 goalsample prob:  0.030\n",
      "it: 17 distance to target:  3.671 goalsample prob:  0.030\n",
      "it: 18 distance to target:  3.609 goalsample prob:  0.030\n",
      "it: 19 distance to target:  3.566 goalsample prob:  0.030\n",
      "it: 22 distance to target:  3.536 goalsample prob:  0.030\n",
      "it: 23 distance to target:  3.508 goalsample prob:  0.030\n",
      "it: 24 distance to target:  3.465 goalsample prob:  0.030\n",
      "it: 25 distance to target:  3.456 goalsample prob:  0.030\n",
      "it: 26 distance to target:  3.425 goalsample prob:  0.030\n",
      "it: 27 distance to target:  3.378 goalsample prob:  0.030\n",
      "it: 31 distance to target:  3.375 goalsample prob:  0.030\n",
      "it: 36 distance to target:  3.341 goalsample prob:  0.030\n",
      "it: 38 distance to target:  3.339 goalsample prob:  0.030\n",
      "it: 39 distance to target:  3.336 goalsample prob:  0.030\n",
      "it: 40 distance to target:  3.318 goalsample prob:  0.030\n",
      "it: 42 distance to target:  3.311 goalsample prob:  0.030\n",
      "it: 58 distance to target:  3.290 goalsample prob:  0.030\n",
      "it: 62 distance to target:  3.195 goalsample prob:  0.030\n",
      "it: 63 distance to target:  3.172 goalsample prob:  0.030\n",
      "it: 64 distance to target:  3.136 goalsample prob:  0.030\n",
      "it: 67 distance to target:  3.133 goalsample prob:  0.030\n",
      "it: 71 distance to target:  3.132 goalsample prob:  0.030\n",
      "it: 83 distance to target:  3.059 goalsample prob:  0.030\n",
      "it: 114 distance to target:  3.021 goalsample prob:  0.030\n",
      "it: 133 distance to target:  2.980 goalsample prob:  0.030\n",
      "it: 138 distance to target:  2.965 goalsample prob:  0.030\n",
      "it: 143 distance to target:  2.934 goalsample prob:  0.030\n",
      "it: 147 distance to target:  2.868 goalsample prob:  0.030\n",
      "it: 148 distance to target:  2.813 goalsample prob:  0.030\n",
      "it: 151 distance to target:  2.718 goalsample prob:  0.030\n",
      "it: 155 distance to target:  2.673 goalsample prob:  0.030\n",
      "it: 156 distance to target:  2.613 goalsample prob:  0.030\n",
      "it: 158 distance to target:  2.599 goalsample prob:  0.030\n",
      "it: 191 distance to target:  2.547 goalsample prob:  0.030\n",
      "it: 193 distance to target:  2.514 goalsample prob:  0.030\n",
      "it: 209 distance to target:  2.419 goalsample prob:  0.030\n",
      "it: 213 distance to target:  2.324 goalsample prob:  0.030\n",
      "it: 222 distance to target:  2.305 goalsample prob:  0.030\n",
      "it: 233 distance to target:  2.298 goalsample prob:  0.030\n",
      "it: 259 distance to target:  2.203 goalsample prob:  0.030\n",
      "it: 275 distance to target:  2.194 goalsample prob:  0.030\n",
      "it: 319 distance to target:  2.099 goalsample prob:  0.030\n",
      "it: 326 distance to target:  2.082 goalsample prob:  0.030\n",
      "it: 332 distance to target:  1.987 goalsample prob:  0.030\n",
      "it: 333 distance to target:  1.892 goalsample prob:  0.030\n",
      "it: 335 distance to target:  1.797 goalsample prob:  0.030\n",
      "it: 352 distance to target:  1.702 goalsample prob:  0.030\n",
      "it: 356 distance to target:  1.607 goalsample prob:  0.030\n",
      "it: 360 distance to target:  1.512 goalsample prob:  0.030\n",
      "it: 362 distance to target:  1.417 goalsample prob:  0.030\n",
      "it: 399 distance to target:  1.322 goalsample prob:  0.030\n",
      "it: 402 distance to target:  1.272 goalsample prob:  0.037\n",
      "it: 407 distance to target:  1.263 goalsample prob:  0.042\n",
      "it: 418 distance to target:  1.211 goalsample prob:  0.073\n",
      "it: 439 distance to target:  1.116 goalsample prob:  0.130\n",
      "it: 442 distance to target:  1.021 goalsample prob:  0.187\n",
      "it: 447 distance to target:  0.926 goalsample prob:  0.244\n",
      "it: 449 distance to target:  0.831 goalsample prob:  0.301\n",
      "it: 454 distance to target:  0.736 goalsample prob:  0.358\n",
      "it: 455 distance to target:  0.641 goalsample prob:  0.415\n",
      "it: 459 distance to target:  0.546 goalsample prob:  0.472\n",
      "it: 461 distance to target:  0.514 goalsample prob:  0.492\n",
      "it: 464 distance to target:  0.459 goalsample prob:  0.525\n",
      "it: 516 distance to target:  0.454 goalsample prob:  0.527\n",
      "it: 1016 distance to target:  0.434 goalsample prob:  0.539\n",
      "it: 1018 distance to target:  0.389 goalsample prob:  0.566\n",
      "it: 4982 distance to target:  0.358 goalsample prob:  0.585\n",
      "it: 4984 distance to target:  0.263 goalsample prob:  0.642\n",
      "it: 4988 distance to target:  0.168 goalsample prob:  0.699\n",
      "it: 4989 distance to target:  0.073 goalsample prob:  0.756\n",
      "it: 4992 distance to target:  0.003 goalsample prob:  0.798\n",
      "[RRT] Collision free path found in  4992  steps\n"
     ]
    }
   ],
   "source": [
    "\n",
    "RRT = rrt.RRT(start = target,\n",
    "              goal = start,\n",
    "              limits = limits,\n",
    "              col_func_handle=col_func_handle,\n",
    "              max_extend_length=0.1,\n",
    "              extend_steps=0.005,\n",
    "              init_goal_sample_rate=0.03,\n",
    "              goal_sample_rate_scaler=0.6,\n",
    "              verbose = True, \n",
    "              plotcallback = None)\n",
    "\n",
    "success, path = RRT.run(30000)"
   ]
  },
  {
   "cell_type": "code",
   "execution_count": 30,
   "metadata": {},
   "outputs": [
    {
     "name": "stdout",
     "output_type": "stream",
     "text": [
      "Time:   0.66 \tVolume:   0.01 \tCenter: [ 1.43184092 -0.50808767  0.42293069  1.01137272 -2.36231947  0.63611496\n",
      "  0.30776114]\n",
      "Time:   1.29 \tVolume:   0.05 \tCenter: [ 1.47900251  1.54984112  0.32712214 -1.13712335 -0.74533392  0.3218557\n",
      "  0.40648641]\n",
      "point found:  [-0.60908115  0.34745994 -1.44033049  0.07438593  1.72353013  1.34432023\n",
      " -0.95040098]\n",
      "Time:   3.96 \tVolume: 391.20 \tCenter: [-5.28126876e-10  3.88104489e-02  1.79341096e-01  8.26645097e-02\n",
      "  2.07433626e-10 -1.71721994e-01  2.03185335e-09]\n",
      "point found:  [-0.02358567  1.42342418 -0.01975274  1.93712919  2.19772281  0.12560346\n",
      "  2.08234149]\n",
      "Time:   6.74 \tVolume:  47.39 \tCenter: [ 9.30555725e-03 -1.19939584e-01 -3.07434233e-02 -2.59155428e-01\n",
      " -1.55916702e-09  1.70779645e-01  3.53397267e-09]\n",
      "point found:  [-1.20828391  0.05944922 -1.98940093  1.39826645  1.7921947   1.40621706\n",
      "  2.88911084]\n",
      "Time:   0.68 \tVolume:   0.01 \tCenter: [-1.38087987  0.07198577 -1.65770839  1.52870304  1.91479806  1.26236543\n",
      "  2.53507717]\n",
      "point found:  [ 0.65269379  0.14786752 -0.42114787 -2.04410325  0.5315682   1.55159298\n",
      "  2.11029099]\n",
      "Time:   3.84 \tVolume:   7.79 \tCenter: [ 4.76516178e-01  1.83230631e-01 -5.21486133e-01 -1.72453378e+00\n",
      " -3.34613309e-02  1.21681154e-09  1.13621113e-09]\n",
      "point found:  [-1.97826949 -0.16104932 -2.25434614 -0.81609202 -0.43320792 -0.26362341\n",
      " -0.51462965]\n",
      "Time:   5.10 \tVolume: 487.16 \tCenter: [-4.56948670e-08  1.68182555e-01  7.71510011e-08  6.44083699e-01\n",
      "  6.69222100e-09  1.05526177e-03 -1.72713230e-08]\n",
      "point found:  [ 1.86431939  1.71983679  1.96731957  1.62922073  0.76852302  1.049891\n",
      " -0.24953674]\n",
      "Time:   2.03 \tVolume:   0.79 \tCenter: [ 1.79862503e+00  1.94928268e+00  2.05947741e+00  1.31534791e+00\n",
      " -1.69840320e-09  6.47227605e-10 -6.23626040e-10]\n",
      "point found:  [-1.21596026 -1.24894087  1.00719366 -0.49063241  2.91641018  0.48022995\n",
      "  1.61487147]\n",
      "Time:   0.70 \tVolume:   0.00 \tCenter: [-1.35449116 -1.2903718   0.87166958 -0.68577909  2.54239982  0.49107747\n",
      "  2.06712165]\n",
      "point found:  [-1.39126891  1.87463373  1.03028796  1.43107405  0.2661443  -0.31235089\n",
      "  0.16758503]\n",
      "Time:   0.43 \tVolume: 3463.01 \tCenter: [1.02664846e-08 5.71265435e-09 1.02678790e-08 5.71201664e-09\n",
      " 1.02654778e-08 5.71247050e-09 1.07206457e-08]\n",
      "point found:  [ 1.63956922 -0.44144247  0.70039653  0.30397306 -2.22865427  0.19979008\n",
      " -2.02729455]\n",
      "Time:   3.34 \tVolume: 177.35 \tCenter: [ 1.68319189e+00 -7.46423365e-03 -5.01865063e-01 -4.02266263e-01\n",
      "  8.35581382e-09  3.02628900e-09 -5.84296931e-08]\n",
      "point found:  [ 1.26250943 -0.38714957  2.81698983  1.33751302  2.15097856 -1.66307531\n",
      " -2.50925052]\n",
      "Time:   3.20 \tVolume:  50.11 \tCenter: [ 1.31839202e+00 -4.09962993e-02  2.19451057e+00 -7.77428188e-02\n",
      "  1.25353816e-09  8.37935055e-10  3.25946381e-10]\n",
      "point found:  [ 2.38501169  0.29495412  2.5718681  -0.16394868 -2.61653297 -1.45914515\n",
      " -0.18631641]\n",
      "Time:   4.18 \tVolume: 535.91 \tCenter: [ 2.42099674e-10 -2.27805569e-01 -1.69126491e-08 -7.01926953e-02\n",
      "  1.39415102e-09  8.20726598e-10 -1.71064283e-08]\n",
      "point found:  [-2.92350652 -0.52497375  1.42036645 -1.9543297   0.37074715 -1.64656054\n",
      "  1.94993531]\n",
      "Time:   0.77 \tVolume:   0.00 \tCenter: [-2.7831775  -0.15743409  1.27002581 -2.00205438  0.63996853 -1.53667053\n",
      "  1.3617274 ]\n",
      "point found:  [ 1.92436295 -1.35864686 -1.6143135   0.69081394 -0.49253826 -1.42373667\n",
      " -2.06838482]\n",
      "Time:   0.60 \tVolume:   0.00 \tCenter: [ 1.84133648 -1.34797671 -1.72350039  0.57968384 -0.57505609 -1.1133567\n",
      " -1.89204134]\n",
      "point found:  [-1.03158518 -0.59675408  1.27027618  1.70089429  0.99977547  1.68511015\n",
      " -0.03666974]\n",
      "Time:   0.79 \tVolume:   0.01 \tCenter: [-1.05647372 -0.39773257  1.39180076  1.80261547  0.7975131   1.25808371\n",
      " -0.47912094]\n",
      "point found:  [-2.29165501 -0.67030644 -0.83097081 -1.06157659  2.57952538 -1.02535866\n",
      " -0.47875945]\n",
      "Time:   3.95 \tVolume: 197.19 \tCenter: [-1.15824556e+00  1.13467464e-01 -2.08825814e-01  4.57339863e-01\n",
      "  1.85917504e-10  1.71387549e-01  8.85743834e-09]\n",
      "point found:  [ 1.62588308  1.52464697 -1.59952428 -0.05286059  0.46946125  0.18728628\n",
      "  1.67793455]\n",
      "Time:   0.76 \tVolume:   0.00 \tCenter: [ 1.60921028  1.46662109 -1.63146477 -0.01621413  0.43277444  0.1601775\n",
      "  1.63919736]\n",
      "point found:  [ 1.19218739 -0.25056425 -2.8080994   1.3244357   0.81594645  0.89732744\n",
      "  1.59081853]\n",
      "Time:   2.84 \tVolume:  62.25 \tCenter: [ 1.13750684e+00  8.24470032e-02 -2.10379677e+00 -3.68834817e-01\n",
      "  3.46993545e-10 -1.70871453e-01 -4.88554974e-10]\n",
      "point found:  [-2.71336818 -1.55603109  1.00545292 -0.49708919 -0.54482515  0.03913042\n",
      "  0.41305548]\n",
      "Time:   0.59 \tVolume:   0.02 \tCenter: [-2.84596381e+00 -1.54607385e+00  1.05746407e+00 -6.20840511e-01\n",
      " -9.97949686e-01 -1.54849256e-01  9.86902959e-09]\n",
      "point found:  [ 0.92325754  0.05695124 -0.97780989 -1.78045098  0.07439124 -0.1179068\n",
      "  0.59030809]\n",
      "Time:   5.68 \tVolume:  12.54 \tCenter: [ 1.47665693e+00 -3.60083709e-02 -1.43699401e+00 -1.72167931e+00\n",
      "  2.16160423e-10  1.72461215e-01 -1.41708867e-11]\n",
      "point found:  [ 2.22082036 -0.50844344 -1.23627294  1.16436218 -2.13470826  1.34238715\n",
      " -2.68993464]\n",
      "Time:   0.79 \tVolume:   0.01 \tCenter: [ 2.28913292 -0.40423586 -1.13344281  1.19309153 -2.30213729  1.12489938\n",
      " -2.38760437]\n"
     ]
    }
   ],
   "source": [
    "def do_iris(q_seed, iris_options):\n",
    "    start_time = time.time()\n",
    "    hpoly = IrisInConfigurationSpace(plant, plant_context, q_seed, iris_options)\n",
    "    ellipse = hpoly.MaximumVolumeInscribedEllipsoid()\n",
    "    print(\"Time: %6.2f \\tVolume: %6.2f \\tCenter:\" % (time.time() - start_time, ellipse.Volume()),\n",
    "          ellipse.center(), flush=True)\n",
    "    return ellipse, hpoly\n",
    "\n",
    "iris_options = IrisOptions()\n",
    "iris_options.require_sample_point_is_contained = True\n",
    "iris_options.iteration_limit = 50\n",
    "iris_options.enable_ibex = False\n",
    "\n",
    "regions = []\n",
    "ellipses = []\n",
    "its = 20\n",
    "seed_points = [start, target]\n",
    "\n",
    "for point in seed_points:\n",
    "    ell, reg = do_iris(point, iris_options)\n",
    "    regions.append(reg)\n",
    "    ellipses.append(ell)\n",
    "    \n",
    "for it in range(its):\n",
    "    #rejection sampling to get initial feasible point \n",
    "    found = False\n",
    "    while not found:\n",
    "        t = np.random.rand(len(limits[0]))\n",
    "        q_samp = (1-t)*limits[0] + t*limits[1]\n",
    "        found = (col_func_handle(q_samp)==0.0)\n",
    "    print(\"point found: \", q_samp)\n",
    "    ell, reg = do_iris(q_samp, iris_options)\n",
    "    if ell.Volume() < 1000.0:\n",
    "        regions.append(reg)\n",
    "        ellipses.append(ell)\n",
    "        \n",
    "        set_joint_angles(ell.center())\n",
    "        tf = plant.EvalBodyPoseInWorld(plant_context, plant.get_body(pydrake.multibody.tree.BodyIndex(6)))\n",
    "        mat = meshcat.geometry.MeshLambertMaterial(color=0x0029F1)\n",
    "        mat.reflectivity = 1.0\n",
    "        vis['centers']['points' + str(it)].set_object(\n",
    "                    meshcat.geometry.Sphere(0.02), mat)\n",
    "        vis['centers']['points' + str(it)].set_transform(tf.GetAsMatrix4())"
   ]
  },
  {
   "cell_type": "code",
   "execution_count": null,
   "metadata": {},
   "outputs": [],
   "source": [
    "start_time = time.time()\n",
    "spp = BsplineTrajectoryThroughUnionOfHPolyhedra(start, target, regions)\n",
    "spp.set_max_velocity([.8, .8, .8,.8, .8, .8,.8])\n",
    "spp.set_extra_control_points_per_region(2)\n",
    "\n",
    "# print(spp.num_regions())\n",
    "traj = spp.Solve()\n",
    "print(time.time() - start_time)\n",
    "print(traj.start_time())\n",
    "print(traj.end_time())\n",
    "#visualize\n",
    "maxit = 60\n",
    "pts = []\n",
    "for it in range(maxit):\n",
    "    pts.append(traj.value(it*traj.end_time()/maxit))\n",
    "    mat = meshcat.geometry.MeshLambertMaterial(color=0xFFF812)\n",
    "    mat.reflectivity = 1.0\n",
    "    set_joint_angles(pts[-1].reshape(-1,))\n",
    "    tf= plant.EvalBodyPoseInWorld(plant_context, plant.get_body(pydrake.multibody.tree.BodyIndex(3)))\n",
    "   \n",
    "     \n",
    "    mat = meshcat.geometry.MeshLambertMaterial(color=0x0029F1)\n",
    "    mat.reflectivity = 1.0\n",
    "    vis['traj']['points' + str(it)].set_object(\n",
    "                meshcat.geometry.Sphere(0.02), mat)\n",
    "    vis['traj']['points' + str(it)].set_transform(\n",
    "                meshcat.transformations.translation_matrix(tf.tranlation()))\n",
    "    "
   ]
  },
  {
   "cell_type": "code",
   "execution_count": null,
   "metadata": {},
   "outputs": [],
   "source": []
  },
  {
   "cell_type": "code",
   "execution_count": 29,
   "metadata": {},
   "outputs": [
    {
     "name": "stdout",
     "output_type": "stream",
     "text": [
      "0.0           \r"
     ]
    }
   ],
   "source": [
    "traj= utils.PWLinTraj(path, 5.0)\n",
    "substeps = 1000\n",
    "utils.animate(traj, showres, substeps, 5*substeps)"
   ]
  },
  {
   "cell_type": "code",
   "execution_count": 34,
   "metadata": {},
   "outputs": [
    {
     "ename": "ImportError",
     "evalue": "cannot import name 'GraphOfConvexSets' from 'pydrake.geometry.optimization' (unknown location)",
     "output_type": "error",
     "traceback": [
      "\u001b[0;31m---------------------------------------------------------------------------\u001b[0m",
      "\u001b[0;31mImportError\u001b[0m                               Traceback (most recent call last)",
      "\u001b[0;32m<ipython-input-34-1015c5a1791f>\u001b[0m in \u001b[0;36m<module>\u001b[0;34m\u001b[0m\n\u001b[0;32m----> 1\u001b[0;31m \u001b[0;32mimport\u001b[0m \u001b[0mspp\u001b[0m\u001b[0;34m\u001b[0m\u001b[0;34m\u001b[0m\u001b[0m\n\u001b[0m",
      "\u001b[0;32m~/.cache/bazel/_bazel_peter/76bc0000d64a792547034bb2ef203b82/execroot/drake/bazel-out/k8-opt/bin/sandbox/iiwa_example.runfiles/drake/sandbox/spp.py\u001b[0m in \u001b[0;36m<module>\u001b[0;34m\u001b[0m\n\u001b[1;32m      1\u001b[0m \u001b[0;32mimport\u001b[0m \u001b[0mnumpy\u001b[0m \u001b[0;32mas\u001b[0m \u001b[0mnp\u001b[0m\u001b[0;34m\u001b[0m\u001b[0;34m\u001b[0m\u001b[0m\n\u001b[1;32m      2\u001b[0m \u001b[0;34m\u001b[0m\u001b[0m\n\u001b[0;32m----> 3\u001b[0;31m from pydrake.geometry.optimization import (\n\u001b[0m\u001b[1;32m      4\u001b[0m     \u001b[0mGraphOfConvexSets\u001b[0m\u001b[0;34m,\u001b[0m\u001b[0;34m\u001b[0m\u001b[0;34m\u001b[0m\u001b[0m\n\u001b[1;32m      5\u001b[0m     \u001b[0mHPolyhedron\u001b[0m\u001b[0;34m,\u001b[0m\u001b[0;34m\u001b[0m\u001b[0;34m\u001b[0m\u001b[0m\n",
      "\u001b[0;31mImportError\u001b[0m: cannot import name 'GraphOfConvexSets' from 'pydrake.geometry.optimization' (unknown location)"
     ]
    }
   ],
   "source": [
    "import spp\n"
   ]
  },
  {
   "cell_type": "code",
   "execution_count": 37,
   "metadata": {},
   "outputs": [],
   "source": [
    "from pydrake.geometry.optimization import \n"
   ]
  },
  {
   "cell_type": "code",
   "execution_count": null,
   "metadata": {},
   "outputs": [],
   "source": []
  }
 ],
 "metadata": {
  "interpreter": {
   "hash": "916dbcbb3f70747c44a77c7bcd40155683ae19c65e1c03b4aa3499c5328201f1"
  },
  "kernelspec": {
   "display_name": "Python 3",
   "language": "python",
   "name": "python3"
  },
  "language_info": {
   "codemirror_mode": {
    "name": "ipython",
    "version": 3
   },
   "file_extension": ".py",
   "mimetype": "text/x-python",
   "name": "python",
   "nbconvert_exporter": "python",
   "pygments_lexer": "ipython3",
   "version": "3.8.10"
  }
 },
 "nbformat": 4,
 "nbformat_minor": 2
}
