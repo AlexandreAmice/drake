{
 "cells": [
  {
   "cell_type": "code",
   "execution_count": 1,
   "metadata": {},
   "outputs": [],
   "source": [
    "%load_ext autoreload\n",
    "%autoreload 2"
   ]
  },
  {
   "cell_type": "code",
   "execution_count": 2,
   "metadata": {},
   "outputs": [],
   "source": [
    "import sys\n",
    "import os\n",
    "import time\n",
    "import numpy as np"
   ]
  },
  {
   "cell_type": "code",
   "execution_count": 1,
   "metadata": {},
   "outputs": [],
   "source": [
    "import pydrake\n",
    "from pydrake.all import BsplineTrajectoryThroughUnionOfHPolyhedra, IrisInConfigurationSpace, IrisOptions\n",
    "from pydrake.common import FindResourceOrThrow\n",
    "from pydrake.geometry import SceneGraph\n",
    "from pydrake.math import RigidTransform, RollPitchYaw\n",
    "from pydrake.multibody.optimization import CalcGridPointsOptions, Toppra\n",
    "from pydrake.multibody.parsing import LoadModelDirectives, Parser, ProcessModelDirectives\n",
    "from pydrake.multibody.plant import MultibodyPlant, AddMultibodyPlantSceneGraph\n",
    "from pydrake.multibody.tree import RevoluteJoint\n",
    "from pydrake.solvers.mathematicalprogram import MathematicalProgram, Solve\n",
    "from pydrake.solvers.mosek import MosekSolver\n",
    "from pydrake.systems.analysis import Simulator\n",
    "from pydrake.systems.framework import DiagramBuilder\n",
    "from pydrake.systems.primitives import TrajectorySource\n",
    "from pydrake.trajectories import PiecewisePolynomial\n",
    "from pydrake.all import Variable\n",
    "from pydrake.all import MultibodyPositionToGeometryPose, ConnectMeshcatVisualizer, Role, Sphere\n",
    "from pydrake.all import (\n",
    "    ConvexSet, HPolyhedron, Hyperellipsoid,\n",
    "    MathematicalProgram, Solve, le, IpoptSolver,\n",
    "    Role, Sphere,\n",
    "    Iris, IrisOptions, MakeIrisObstacles, Variable\n",
    ")\n",
    "from pydrake.all import (\n",
    "    eq, SnoptSolver,\n",
    "    Sphere, Ellipsoid, GeometrySet,\n",
    "    RigidBody_, AutoDiffXd, initializeAutoDiff,\n",
    ")\n",
    "\n",
    "import pydrake.symbolic as sym\n",
    "\n",
    "from meshcat import Visualizer\n",
    "\n",
    "# Setup meshcat\n",
    "from meshcat.servers.zmqserver import start_zmq_server_as_subprocess\n",
    "proc, zmq_url, web_url = start_zmq_server_as_subprocess(server_args=[])\n",
    "\n",
    "    \n",
    "from pydrake.symbolic import RationalFunction\n",
    "\n"
   ]
  },
  {
   "cell_type": "code",
   "execution_count": 2,
   "metadata": {},
   "outputs": [
    {
     "ename": "ImportError",
     "evalue": "cannot import name 'RationalForwardKinematics' from 'pydrake.all' (/home/amice/.cache/bazel/_bazel_amice/32fdbbecfa8a7ce8feece95e48c42006/execroot/drake/bazel-out/k8-opt/bin/sandbox/trial_notebook.runfiles/drake/bindings/pydrake/all.py)",
     "output_type": "error",
     "traceback": [
      "\u001b[0;31m---------------------------------------------------------------------------\u001b[0m",
      "\u001b[0;31mImportError\u001b[0m                               Traceback (most recent call last)",
      "\u001b[0;32m<ipython-input-2-e880f451ee0f>\u001b[0m in \u001b[0;36m<module>\u001b[0;34m\u001b[0m\n\u001b[0;32m----> 1\u001b[0;31m \u001b[0;32mfrom\u001b[0m \u001b[0mpydrake\u001b[0m\u001b[0;34m.\u001b[0m\u001b[0mall\u001b[0m \u001b[0;32mimport\u001b[0m \u001b[0mRationalForwardKinematics\u001b[0m\u001b[0;34m\u001b[0m\u001b[0;34m\u001b[0m\u001b[0m\n\u001b[0m",
      "\u001b[0;31mImportError\u001b[0m: cannot import name 'RationalForwardKinematics' from 'pydrake.all' (/home/amice/.cache/bazel/_bazel_amice/32fdbbecfa8a7ce8feece95e48c42006/execroot/drake/bazel-out/k8-opt/bin/sandbox/trial_notebook.runfiles/drake/bindings/pydrake/all.py)"
     ]
    }
   ],
   "source": [
    "from pydrake.all import RationalForwardKinematics\n"
   ]
  },
  {
   "cell_type": "code",
   "execution_count": null,
   "metadata": {},
   "outputs": [],
   "source": []
  }
 ],
 "metadata": {
  "kernelspec": {
   "display_name": "Python 3",
   "language": "python",
   "name": "python3"
  },
  "language_info": {
   "codemirror_mode": {
    "name": "ipython",
    "version": 3
   },
   "file_extension": ".py",
   "mimetype": "text/x-python",
   "name": "python",
   "nbconvert_exporter": "python",
   "pygments_lexer": "ipython3",
   "version": "3.8.10"
  }
 },
 "nbformat": 4,
 "nbformat_minor": 1
}
