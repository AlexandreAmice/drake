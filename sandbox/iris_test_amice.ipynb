{
 "cells": [
  {
   "cell_type": "code",
   "execution_count": 1,
   "metadata": {},
   "outputs": [],
   "source": [
    "%load_ext autoreload\n",
    "%autoreload 2"
   ]
  },
  {
   "cell_type": "code",
   "execution_count": 2,
   "metadata": {},
   "outputs": [],
   "source": [
    "import sys\n",
    "import os\n",
    "import time\n",
    "import numpy as np"
   ]
  },
  {
   "cell_type": "code",
   "execution_count": 3,
   "metadata": {},
   "outputs": [],
   "source": [
    "import pydrake\n",
    "from pydrake.all import BsplineTrajectoryThroughUnionOfHPolyhedra, IrisInConfigurationSpace, IrisOptions\n",
    "from pydrake.common import FindResourceOrThrow\n",
    "from pydrake.geometry import SceneGraph\n",
    "from pydrake.math import RigidTransform, RollPitchYaw\n",
    "from pydrake.multibody.optimization import CalcGridPointsOptions, Toppra\n",
    "from pydrake.multibody.parsing import LoadModelDirectives, Parser, ProcessModelDirectives\n",
    "from pydrake.multibody.plant import MultibodyPlant, AddMultibodyPlantSceneGraph\n",
    "from pydrake.multibody.tree import RevoluteJoint\n",
    "from pydrake.solvers.mathematicalprogram import MathematicalProgram, Solve\n",
    "from pydrake.solvers.mosek import MosekSolver\n",
    "from pydrake.systems.analysis import Simulator\n",
    "from pydrake.systems.framework import DiagramBuilder\n",
    "from pydrake.systems.primitives import TrajectorySource\n",
    "from pydrake.trajectories import PiecewisePolynomial\n",
    "from pydrake.all import Variable\n",
    "from pydrake.all import MultibodyPositionToGeometryPose, ConnectMeshcatVisualizer, Role, Sphere\n",
    "from pydrake.all import (\n",
    "    ConvexSet, HPolyhedron, Hyperellipsoid,\n",
    "    MathematicalProgram, Solve, le, IpoptSolver,\n",
    "    Role, Sphere,\n",
    "    Iris, IrisOptions, MakeIrisObstacles, Variable\n",
    ")\n",
    "from pydrake.all import (\n",
    "    eq, SnoptSolver,\n",
    "    Sphere, Ellipsoid, GeometrySet,\n",
    "    RigidBody_, AutoDiffXd, initializeAutoDiff,\n",
    ")\n",
    "\n",
    "import pydrake.symbolic as sym\n",
    "\n",
    "from meshcat import Visualizer\n",
    "\n",
    "# Setup meshcat\n",
    "from meshcat.servers.zmqserver import start_zmq_server_as_subprocess\n",
    "proc, zmq_url, web_url = start_zmq_server_as_subprocess(server_args=[])"
   ]
  },
  {
   "cell_type": "code",
   "execution_count": 4,
   "metadata": {},
   "outputs": [
    {
     "name": "stdout",
     "output_type": "stream",
     "text": [
      "You can open the visualizer by visiting the following URL:\n",
      "http://127.0.0.1:7000/static/\n"
     ]
    },
    {
     "data": {
      "text/html": [
       "\n",
       "            <div style=\"height: 400px; width: 100%; overflow-x: auto; overflow-y: hidden; resize: both\">\n",
       "            <iframe src=\"http://127.0.0.1:7000/static/\" style=\"width: 100%; height: 100%; border: none\"></iframe>\n",
       "            </div>\n",
       "            "
      ],
      "text/plain": [
       "<IPython.core.display.HTML object>"
      ]
     },
     "metadata": {},
     "output_type": "display_data"
    },
    {
     "name": "stdout",
     "output_type": "stream",
     "text": [
      "Connecting to meshcat-server at zmq_url=tcp://127.0.0.1:6000...\n",
      "You can open the visualizer by visiting the following URL:\n",
      "http://127.0.0.1:7000/static/\n",
      "Connected to meshcat-server.\n"
     ]
    }
   ],
   "source": [
    "simple_collision = True\n",
    "# gripper_welded = True\n",
    "\n",
    "vis = Visualizer(zmq_url=zmq_url)\n",
    "vis.delete()\n",
    "display(vis.jupyter_cell())\n",
    "\n",
    "builder = DiagramBuilder()\n",
    "plant, scene_graph = AddMultibodyPlantSceneGraph(builder, time_step=0.001)\n",
    "parser = Parser(plant)\n",
    "parser.package_map().Add( \"wsg_50_description\", os.path.dirname(FindResourceOrThrow(\n",
    "            \"drake/manipulation/models/wsg_50_description/package.xml\")))\n",
    "\n",
    "directives_file = FindResourceOrThrow(\"drake/sandbox/planar_iiwa_simple_collision_welded_gripper.yaml\") \\\n",
    "    if simple_collision else FindResourceOrThrow(\"drake/sandbox/planar_iiwa_dense_collision_welded_gripper.yaml\")\n",
    "directives = LoadModelDirectives(directives_file)\n",
    "models = ProcessModelDirectives(directives, plant, parser)\n",
    "\n",
    "q0 = [-0.2, -1.2, 1.6]\n",
    "index = 0\n",
    "for joint_index in plant.GetJointIndices(models[0].model_instance):\n",
    "    joint = plant.get_mutable_joint(joint_index)\n",
    "    if isinstance(joint, RevoluteJoint):\n",
    "        joint.set_default_angle(q0[index])\n",
    "        index += 1\n",
    "\n",
    "plant.Finalize()\n",
    "\n",
    "visualizer = ConnectMeshcatVisualizer(builder, scene_graph, zmq_url=zmq_url, delete_prefix_on_load=False)\n",
    "\n",
    "diagram = builder.Build()\n",
    "visualizer.load()\n",
    "context = diagram.CreateDefaultContext()\n",
    "plant_context = plant.GetMyContextFromRoot(context)\n",
    "diagram.Publish(context)"
   ]
  },
  {
   "cell_type": "code",
   "execution_count": 5,
   "metadata": {},
   "outputs": [
    {
     "name": "stdout",
     "output_type": "stream",
     "text": [
      "[ 0.    -2.016  1.975]\n",
      "[-1.  -2.   0.5]\n",
      "[ 0.3 -0.8  0.5]\n",
      "[ 0.25 -1.6  -0.25]\n",
      "[ 0.07 -1.8  -0.2 ]\n",
      "[-0.1 -2.  -0.3]\n",
      "[[ 8.55974367e-07  3.51284882e-06  8.23286705e-06]\n",
      " [-1.42225948e+00 -2.49953376e-07  1.22251762e-06]\n",
      " [ 1.78716687e-01 -1.96024646e+00  2.09439510e+00]\n",
      " [ 2.02760502e+00 -1.12246694e+00  1.36453888e+00]\n",
      " [-7.56258558e-01 -2.09439510e+00  2.05217654e+00]\n",
      " [-1.36432306e+00 -2.09439510e+00  2.05217079e+00]]\n"
     ]
    }
   ],
   "source": [
    "seed_points = np.array([[0.0, -2.016, 1.975], # in tight\n",
    "                        [-1, -2, 0.5],        # neutral pose\n",
    "                        [0.3, -0.8, 0.5],     # above shelf\n",
    "                        [0.25, -1.6, -0.25],  # in shelf 1\n",
    "                        [0.07, -1.8, -0.2],   # leaving shelf 1\n",
    "                        [-0.1, -2, -0.3]])    # out of shelf 1\n",
    "\n",
    "\n",
    "from pydrake.all import InverseKinematics\n",
    "cspace_seed_points = []\n",
    "hand_body = plant.GetBodyByName(\"iiwa_link_ee_kuka\")\n",
    "hand_frame = hand_body.body_frame()\n",
    "q0 = plant.GetPositions(plant_context)\n",
    "for i in range(seed_points.shape[0]):\n",
    "    ik = InverseKinematics(plant, plant_context)\n",
    "    ik.AddMinimumDistanceConstraint(0.001, 0.01)\n",
    "    ik.AddPositionConstraint(hand_frame, [0, 0, 0], plant.world_frame(), seed_points[i,:], seed_points[i,:])\n",
    "    ik.prog().SetInitialGuess(ik.q(), q0)\n",
    "    result = Solve(ik.prog())\n",
    "    if not result.is_success():\n",
    "        print(seed_points[i,:])\n",
    "#         assert result.is_success()\n",
    "    cspace_seed_points.append(result.GetSolution(ik.q()))\n",
    "cspace_seed_points = np.array(cspace_seed_points)\n",
    "print(cspace_seed_points)\n",
    "\n",
    "# seed_points = np.array([[0.0, 0.0, 0.0, 0.0,0.0, 0.0]])    # out of shelf 1\n",
    "\n",
    "# traj = PiecewisePolynomial.FirstOrderHold(np.array([0, 1]), np.array([seed_points[4], seed_points[1]]).T)\n",
    "# visualize_trajectory(traj)"
   ]
  },
  {
   "cell_type": "code",
   "execution_count": 6,
   "metadata": {},
   "outputs": [],
   "source": [
    "def MakeFromSceneGraph(query, geom, expressed_in=None):\n",
    "    shape = query.inspector().GetShape(geom)\n",
    "    if isinstance(shape, (Sphere, Ellipsoid)):\n",
    "        return Hyperellipsoid(query, geom, expressed_in)\n",
    "    return HPolyhedron(query, geom, expressed_in)"
   ]
  },
  {
   "cell_type": "code",
   "execution_count": 7,
   "metadata": {},
   "outputs": [],
   "source": [
    "def FindClosestCollision(sym_plant, sym_context, frameA, frameB, setA, setB, E, Gt, ht):\n",
    "    prog = MathematicalProgram()\n",
    "    #mismatch in shape of t and E.\n",
    "    t = prog.NewContinuousVariables(Gt.shape[1], \"t\")\n",
    "\n",
    "    p_AA = prog.NewContinuousVariables(3, \"p_AA\")\n",
    "    p_BB = prog.NewContinuousVariables(3, \"p_BB\")\n",
    "    setA.AddPointInSetConstraints(prog, p_AA)\n",
    "    setB.AddPointInSetConstraints(prog, p_BB)\n",
    "\n",
    "    prog.AddQuadraticErrorCost(E.A().T @ E.A(), E.center(), t)\n",
    "\n",
    "    sym_plant.SetPositions(sym_context, t)\n",
    "    X_WA = sym_plant.EvalBodyPoseInWorld(sym_context, frameA)\n",
    "    X_WB = sym_plant.EvalBodyPoseInWorld(sym_context, frameB)\n",
    "    print(X_WB)\n",
    "    # Add +0 pending https://github.com/RobotLocomotion/drake/issues/15216\n",
    "    p_WA = X_WA.multiply(p_AA+0)\n",
    "    p_WB = X_WB.multiply(p_BB+0)\n",
    "    prog.AddConstraint(eq(p_WA, p_WB))\n",
    "    result = snopt.Solve(prog)\n"
   ]
  },
  {
   "cell_type": "code",
   "execution_count": 8,
   "metadata": {},
   "outputs": [],
   "source": [
    "def IrisInConfigSpace(plant, plant_context, sample, iris_options):\n",
    "    #reimplement IrisInConfigurationSpace method in Python so I can tweak grow ellipse\n",
    "    nq = plant.num_positions()\n",
    "    P = HPolyhedron(plant.GetPositionLowerLimits(), plant.GetPositionUpperLimits())\n",
    "    kEpsilonEllipsoid = 1e-2\n",
    "    E = Hyperellipsoid.MakeHypersphere(kEpsilonEllipsoid, sample)\n",
    "    query_object = plant.get_geometry_query_input_port().Eval(plant_context)\n",
    "    inspector = query_object.inspector()\n",
    "\n",
    "    #Skipping IrisConvex set maker steps? Should be IrisConvexSetMaker\n",
    "    pairs = inspector.GetCollisionCandidates()\n",
    "    N = len(pairs)\n",
    "    geom_ids = inspector.GetGeometryIds(GeometrySet(inspector.GetAllGeometryIds()), Role.kProximity)\n",
    "    sets = {geom:MakeFromSceneGraph(query_object, geom, inspector.GetFrameId(geom)) for geom in geom_ids}\n",
    "\n",
    "    #Symbolic plants and bodies\n",
    "    sym_plant = plant.ToSymbolic()\n",
    "    sym_context = sym_plant.CreateDefaultContext()\n",
    "    sym_bodies = {geom:sym_plant.GetBodyFromFrameId(inspector.GetFrameId(geom)) for geom in geom_ids}\n",
    "\n",
    "    #preallocated\n",
    "    Gt = np.zeros((P.A().shape[0]+2*N, nq))\n",
    "    ht = np.zeros(P.A().shape[0]+2*N)\n",
    "\n",
    "    best_volume = E.Volume()\n",
    "    iteration = 0\n",
    "\n",
    "    #ignoring solver logic?\n",
    "    i = 0\n",
    "#     while True:\n",
    "    while i < 1:\n",
    "        num_constraints = 2*nq\n",
    "        # Find separating hyperplanes\n",
    "\n",
    "\n",
    "        for (geomA, geomB) in pairs:\n",
    "            print(f\"geomA={inspector.GetName(geomA)}, geomB={inspector.GetName(geomB)}\")\n",
    "            collision  = FindClosestCollision(sym_plant, sym_context, sym_bodies[geomA], sym_bodies[geomB],\n",
    "                                              sets[geomA], sets[geomB], E,\n",
    "                                              Gt[:num_constraints, :], ht[:num_constraints])\n",
    "            #only do one\n",
    "            break\n",
    "        i+=1\n"
   ]
  },
  {
   "cell_type": "code",
   "execution_count": 9,
   "metadata": {},
   "outputs": [
    {
     "name": "stdout",
     "output_type": "stream",
     "text": [
      "geomA=iiwa::link7, geomB=shelves::top\n",
      "RigidTransform_[Expression](\n",
      "  R=RotationMatrix_[Expression]([\n",
      "    [<Expression \"1\">, <Expression \"0\">, <Expression \"0\">],\n",
      "    [<Expression \"0\">, <Expression \"1\">, <Expression \"0\">],\n",
      "    [<Expression \"0\">, <Expression \"0\">, <Expression \"1\">],\n",
      "  ]),\n",
      "  p=[<Expression \"0.80000000000000004\">, <Expression \"0\">, <Expression \"0.40000000000000002\">],\n",
      ")\n"
     ]
    },
    {
     "ename": "NameError",
     "evalue": "name 'snopt' is not defined",
     "output_type": "error",
     "traceback": [
      "\u001B[0;31m---------------------------------------------------------------------------\u001B[0m",
      "\u001B[0;31mNameError\u001B[0m                                 Traceback (most recent call last)",
      "\u001B[0;32m<ipython-input-9-1eb3988cbb40>\u001B[0m in \u001B[0;36m<module>\u001B[0;34m\u001B[0m\n\u001B[1;32m      8\u001B[0m     \u001B[0mstart_time\u001B[0m \u001B[0;34m=\u001B[0m \u001B[0mtime\u001B[0m\u001B[0;34m.\u001B[0m\u001B[0mtime\u001B[0m\u001B[0;34m(\u001B[0m\u001B[0;34m)\u001B[0m\u001B[0;34m\u001B[0m\u001B[0;34m\u001B[0m\u001B[0m\n\u001B[1;32m      9\u001B[0m \u001B[0;31m#     hpoly = IrisInConfigurationSpace(plant, plant_context, seed_points[i,:], iris_options)\u001B[0m\u001B[0;34m\u001B[0m\u001B[0;34m\u001B[0m\u001B[0;34m\u001B[0m\u001B[0m\n\u001B[0;32m---> 10\u001B[0;31m     \u001B[0mhpoly\u001B[0m \u001B[0;34m=\u001B[0m \u001B[0mIrisInConfigSpace\u001B[0m\u001B[0;34m(\u001B[0m\u001B[0mplant\u001B[0m\u001B[0;34m,\u001B[0m \u001B[0mplant_context\u001B[0m\u001B[0;34m,\u001B[0m \u001B[0mseed_points\u001B[0m\u001B[0;34m[\u001B[0m\u001B[0mi\u001B[0m\u001B[0;34m,\u001B[0m\u001B[0;34m:\u001B[0m\u001B[0;34m]\u001B[0m\u001B[0;34m,\u001B[0m \u001B[0miris_options\u001B[0m\u001B[0;34m)\u001B[0m\u001B[0;34m\u001B[0m\u001B[0;34m\u001B[0m\u001B[0m\n\u001B[0m\u001B[1;32m     11\u001B[0m     \u001B[0mellipse\u001B[0m \u001B[0;34m=\u001B[0m \u001B[0mhpoly\u001B[0m\u001B[0;34m.\u001B[0m\u001B[0mMaximumVolumeInscribedEllipsoid\u001B[0m\u001B[0;34m(\u001B[0m\u001B[0;34m)\u001B[0m\u001B[0;34m\u001B[0m\u001B[0;34m\u001B[0m\u001B[0m\n\u001B[1;32m     12\u001B[0m     print(\"Time: %6.2f \\tVolume: %6.2f \\tCenter:\" % (time.time() - start_time, ellipse.Volume()),\n",
      "\u001B[0;32m<ipython-input-8-9edf084ec737>\u001B[0m in \u001B[0;36mIrisInConfigSpace\u001B[0;34m(plant, plant_context, sample, iris_options)\u001B[0m\n\u001B[1;32m     36\u001B[0m         \u001B[0;32mfor\u001B[0m \u001B[0;34m(\u001B[0m\u001B[0mgeomA\u001B[0m\u001B[0;34m,\u001B[0m \u001B[0mgeomB\u001B[0m\u001B[0;34m)\u001B[0m \u001B[0;32min\u001B[0m \u001B[0mpairs\u001B[0m\u001B[0;34m:\u001B[0m\u001B[0;34m\u001B[0m\u001B[0;34m\u001B[0m\u001B[0m\n\u001B[1;32m     37\u001B[0m             \u001B[0mprint\u001B[0m\u001B[0;34m(\u001B[0m\u001B[0;34mf\"geomA={inspector.GetName(geomA)}, geomB={inspector.GetName(geomB)}\"\u001B[0m\u001B[0;34m)\u001B[0m\u001B[0;34m\u001B[0m\u001B[0;34m\u001B[0m\u001B[0m\n\u001B[0;32m---> 38\u001B[0;31m             collision  = FindClosestCollision(sym_plant, sym_context, sym_bodies[geomA], sym_bodies[geomB],\n\u001B[0m\u001B[1;32m     39\u001B[0m                                               \u001B[0msets\u001B[0m\u001B[0;34m[\u001B[0m\u001B[0mgeomA\u001B[0m\u001B[0;34m]\u001B[0m\u001B[0;34m,\u001B[0m \u001B[0msets\u001B[0m\u001B[0;34m[\u001B[0m\u001B[0mgeomB\u001B[0m\u001B[0;34m]\u001B[0m\u001B[0;34m,\u001B[0m \u001B[0mE\u001B[0m\u001B[0;34m,\u001B[0m\u001B[0;34m\u001B[0m\u001B[0;34m\u001B[0m\u001B[0m\n\u001B[1;32m     40\u001B[0m                                               Gt[:num_constraints, :], ht[:num_constraints])\n",
      "\u001B[0;32m<ipython-input-7-db1f899b9194>\u001B[0m in \u001B[0;36mFindClosestCollision\u001B[0;34m(sym_plant, sym_context, frameA, frameB, setA, setB, E, Gt, ht)\u001B[0m\n\u001B[1;32m     19\u001B[0m     \u001B[0mp_WB\u001B[0m \u001B[0;34m=\u001B[0m \u001B[0mX_WB\u001B[0m\u001B[0;34m.\u001B[0m\u001B[0mmultiply\u001B[0m\u001B[0;34m(\u001B[0m\u001B[0mp_BB\u001B[0m\u001B[0;34m+\u001B[0m\u001B[0;36m0\u001B[0m\u001B[0;34m)\u001B[0m\u001B[0;34m\u001B[0m\u001B[0;34m\u001B[0m\u001B[0m\n\u001B[1;32m     20\u001B[0m     \u001B[0mprog\u001B[0m\u001B[0;34m.\u001B[0m\u001B[0mAddConstraint\u001B[0m\u001B[0;34m(\u001B[0m\u001B[0meq\u001B[0m\u001B[0;34m(\u001B[0m\u001B[0mp_WA\u001B[0m\u001B[0;34m,\u001B[0m \u001B[0mp_WB\u001B[0m\u001B[0;34m)\u001B[0m\u001B[0;34m)\u001B[0m\u001B[0;34m\u001B[0m\u001B[0;34m\u001B[0m\u001B[0m\n\u001B[0;32m---> 21\u001B[0;31m     \u001B[0mresult\u001B[0m \u001B[0;34m=\u001B[0m \u001B[0msnopt\u001B[0m\u001B[0;34m.\u001B[0m\u001B[0mSolve\u001B[0m\u001B[0;34m(\u001B[0m\u001B[0mprog\u001B[0m\u001B[0;34m)\u001B[0m\u001B[0;34m\u001B[0m\u001B[0;34m\u001B[0m\u001B[0m\n\u001B[0m",
      "\u001B[0;31mNameError\u001B[0m: name 'snopt' is not defined"
     ]
    }
   ],
   "source": [
    "iris_options = IrisOptions()\n",
    "iris_options.require_sample_point_is_contained = True\n",
    "iris_options.iteration_limit = 10\n",
    "iris_options.enable_ibex = False\n",
    "\n",
    "regions = []\n",
    "for i in range(seed_points.shape[0]):\n",
    "    start_time = time.time()\n",
    "#     hpoly = IrisInConfigurationSpace(plant, plant_context, seed_points[i,:], iris_options)\n",
    "    hpoly = IrisInConfigSpace(plant, plant_context, seed_points[i,:], iris_options)\n",
    "    ellipse = hpoly.MaximumVolumeInscribedEllipsoid()\n",
    "    print(\"Time: %6.2f \\tVolume: %6.2f \\tCenter:\" % (time.time() - start_time, ellipse.Volume()),\n",
    "          ellipse.center(), flush=True)\n",
    "    regions.append(hpoly)\n"
   ]
  },
  {
   "cell_type": "code",
   "execution_count": 10,
   "metadata": {},
   "outputs": [],
   "source": [
    "#unpack a symbolic geometry\n",
    "query_object = plant.get_geometry_query_input_port().Eval(plant_context)\n",
    "inspector = query_object.inspector()\n",
    "pairs = inspector.GetCollisionCandidates()\n",
    "sym_plant = plant.ToSymbolic()\n",
    "sym_context = sym_plant.CreateDefaultContext()\n",
    "geom_ids = inspector.GetGeometryIds(GeometrySet(inspector.GetAllGeometryIds()), Role.kProximity)\n",
    "sym_bodies = {geom:sym_plant.GetBodyFromFrameId(inspector.GetFrameId(geom)) for geom in geom_ids}\n",
    "geomA = iter(pairs).__next__()[0]\n",
    "frameA = sym_bodies[geomA]\n",
    "prog = MathematicalProgram()\n",
    "#dangerous since I am adding the q variable to the program\n",
    "q = prog.NewContinuousVariables(3, \"q\")\n",
    "sym_plant.SetPositions(sym_context, q)\n",
    "X_WA = sym_plant.EvalBodyPoseInWorld(sym_context, frameA)\n",
    "p_AA = prog.NewContinuousVariables(3, \"p_AA\")\n",
    "p_WA = X_WA.multiply(p_AA+0)\n",
    "for i in range(p_WA.shape[0]):\n",
    "    p_WA[i] = p_WA[i].Expand()"
   ]
  },
  {
   "cell_type": "code",
   "execution_count": 11,
   "metadata": {},
   "outputs": [
    {
     "ename": "TypeError",
     "evalue": "DecomposeAffineExpressions(): incompatible function arguments. The following argument types are supported:\n    1. (expressions: numpy.ndarray[object[m, 1]], vars: numpy.ndarray[object[m, 1]]) -> Tuple[numpy.ndarray[numpy.float64[m, n]], numpy.ndarray[numpy.float64[m, 1]]]\n    2. (v: numpy.ndarray[object[m, 1]]) -> Tuple[numpy.ndarray[numpy.float64[m, n]], numpy.ndarray[numpy.float64[m, 1]], numpy.ndarray[object[m, 1]]]\n\nInvoked with: <Expression \"(-2.0208057374588098e-32 + 1.2246467991473532e-16 * p_AA(0) - 5.9965918743193009e-28 * p_AA(1) - 2.2958363950258565e-43 * p_AA(2) + 7.6571373978538989e-16 * (p_AA(0) * sin(q(0))) + 1.2246467991473532e-16 * (p_AA(0) * sin(q(0)) * sin(q(1))) - 5.9965918743192982e-28 * (p_AA(0) * sin(q(0)) * sin(q(1)) * sin(q(2))) - 4.8965888601467475e-12 * (p_AA(0) * sin(q(0)) * sin(q(1)) * cos(q(2))) + 4.8965888601467475e-12 * (p_AA(0) * sin(q(0)) * sin(q(2)) * cos(q(1))) - 5.9965918743192982e-28 * (p_AA(0) * sin(q(0)) * cos(q(1)) * cos(q(2))) + 4.591672790051713e-43 * (p_AA(0) * sin(q(0)) * cos(q(2))) - 1.1483866719617346e-47 * (p_AA(0) * sin(q(1))) - 4.8965888601467475e-12 * (p_AA(0) * sin(q(1)) * sin(q(2)) * cos(q(0))) + 5.9965918743192982e-28 * (p_AA(0) * sin(q(1)) * cos(q(0)) * cos(q(2))) + 4.591672790051713e-43 * (p_AA(0) * sin(q(1)) * cos(q(2))) - 5.9965918743192982e-28 * (p_AA(0) * sin(q(2)) * cos(q(0)) * cos(q(1))) - 4.591672790051713e-43 * (p_AA(0) * sin(q(2)) * cos(q(1))) - 9.3772888049132665e-32 * (p_AA(0) * cos(q(0))) + 1.2246467991473532e-16 * (p_AA(0) * cos(q(0)) * cos(q(1))) - 4.8965888601467475e-12 * (p_AA(0) * cos(q(0)) * cos(q(1)) * cos(q(2))) - 5.6231773850688248e-59 * (p_AA(0) * cos(q(0)) * cos(q(2))) + 7.3437070446781587e-44 * (p_AA(0) * cos(q(2))) - 3.7493853682944455e-27 * (p_AA(1) * sin(q(0))) - 5.9965918743193009e-28 * (p_AA(1) * sin(q(0)) * sin(q(1))) - 5.0532154980743019e-16 * (p_AA(1) * sin(q(0)) * sin(q(1)) * sin(q(2))) - (p_AA(1) * sin(q(0)) * sin(q(1)) * cos(q(2))) + 4.3790577010150533e-47 * (p_AA(1) * sin(q(0)) * sin(q(2))) + (p_AA(1) * sin(q(0)) * sin(q(2)) * cos(q(1))) - 5.0532154980743019e-16 * (p_AA(1) * sin(q(0)) * cos(q(1)) * cos(q(2))) + 9.3772888049132708e-32 * (p_AA(1) * sin(q(0)) * cos(q(2))) + 5.6231773850688266e-59 * (p_AA(1) * sin(q(1))) + 3.5901594399289049e-47 * (p_AA(1) * sin(q(1)) * sin(q(2))) - (p_AA(1) * sin(q(1)) * sin(q(2)) * cos(q(0))) + 5.0532154980743019e-16 * (p_AA(1) * sin(q(1)) * cos(q(0)) * cos(q(2))) + 9.3772888049132708e-32 * (p_AA(1) * sin(q(1)) * cos(q(2))) + 5.4738221262688167e-48 * (p_AA(1) * sin(q(2))) - 4.861730685829017e-63 * (p_AA(1) * sin(q(2)) * cos(q(0))) - 5.0532154980743019e-16 * (p_AA(1) * sin(q(2)) * cos(q(0)) * cos(q(1))) - 9.3772888049132708e-32 * (p_AA(1) * sin(q(2)) * cos(q(1))) + 4.5916727900517106e-43 * (p_AA(1) * cos(q(0))) - 5.9965918743193009e-28 * (p_AA(1) * cos(q(0)) * cos(q(1))) - (p_AA(1) * cos(q(0)) * cos(q(1)) * cos(q(2))) - 1.1483866719617341e-47 * (p_AA(1) * cos(q(0)) * cos(q(2))) + 3.5901594399289049e-47 * (p_AA(1) * cos(q(1)) * cos(q(2))) + 1.4997597826618576e-32 * (p_AA(1) * cos(q(2))) - 1.4354779461266808e-42 * (p_AA(2) * sin(q(0))) - 2.2958363950258565e-43 * (p_AA(2) * sin(q(0)) * sin(q(1))) + (p_AA(2) * sin(q(0)) * sin(q(1)) * sin(q(2))) - 5.0532154980743019e-16 * (p_AA(2) * sin(q(0)) * sin(q(1)) * cos(q(2))) - 9.3772888049132708e-32 * (p_AA(2) * sin(q(0)) * sin(q(2))) + 5.0532154980743019e-16 * (p_AA(2) * sin(q(0)) * sin(q(2)) * cos(q(1))) + (p_AA(2) * sin(q(0)) * cos(q(1)) * cos(q(2))) + 4.3790577010150533e-47 * (p_AA(2) * sin(q(0)) * cos(q(2))) + 2.1528720924988403e-74 * (p_AA(2) * sin(q(1))) - 9.3772888049132708e-32 * (p_AA(2) * sin(q(1)) * sin(q(2))) - 5.0532154980743019e-16 * (p_AA(2) * sin(q(1)) * sin(q(2)) * cos(q(0))) - (p_AA(2) * sin(q(1)) * cos(q(0)) * cos(q(2))) + 3.5901594399289049e-47 * (p_AA(2) * sin(q(1)) * cos(q(2))) - 1.4997597826618576e-32 * (p_AA(2) * sin(q(2))) + 1.1483866719617341e-47 * (p_AA(2) * sin(q(2)) * cos(q(0))) + (p_AA(2) * sin(q(2)) * cos(q(0)) * cos(q(1))) - 3.5901594399289049e-47 * (p_AA(2) * sin(q(2)) * cos(q(1))) + 1.7579534719706556e-58 * (p_AA(2) * cos(q(0))) - 2.2958363950258565e-43 * (p_AA(2) * cos(q(0)) * cos(q(1))) - 5.0532154980743019e-16 * (p_AA(2) * cos(q(0)) * cos(q(1)) * cos(q(2))) - 4.861730685829017e-63 * (p_AA(2) * cos(q(0)) * cos(q(2))) - 9.3772888049132708e-32 * (p_AA(2) * cos(q(1)) * cos(q(2))) + 5.4738221262688167e-48 * (p_AA(2) * cos(q(2))) - 4.8985871965894118e-17 * (sin(q(0)) * sin(q(1))) + 0.081000000000000003 * (sin(q(0)) * sin(q(1)) * sin(q(2))) - 9.9196390730935575e-18 * (sin(q(0)) * sin(q(1)) * cos(q(2))) - 7.5956039319797495e-33 * (sin(q(0)) * sin(q(2))) + 9.9196390730935575e-18 * (sin(q(0)) * sin(q(2)) * cos(q(1))) + 0.40000000000000002 * (sin(q(0)) * cos(q(1))) + 0.081000000000000003 * (sin(q(0)) * cos(q(1)) * cos(q(2))) - 7.5956039319797495e-33 * (sin(q(1)) * sin(q(2))) - 9.9196390730935575e-18 * (sin(q(1)) * sin(q(2)) * cos(q(0))) - 0.40000000000000002 * (sin(q(1)) * cos(q(0))) - 0.081000000000000003 * (sin(q(1)) * cos(q(0)) * cos(q(2))) + 9.3019320428900464e-49 * (sin(q(2)) * cos(q(0))) + 0.081000000000000003 * (sin(q(2)) * cos(q(0)) * cos(q(1))) - 4.8985871965894118e-17 * (cos(q(0)) * cos(q(1))) - 9.9196390730935575e-18 * (cos(q(0)) * cos(q(1)) * cos(q(2))) - 7.5956039319797495e-33 * (cos(q(1)) * cos(q(2))) + 0.41999999999999998 * sin(q(0)) + 9.4748395093885023e-64 * sin(q(1)) - 1.2148054239561047e-33 * sin(q(2)) - 2.639113852162544e-17 * cos(q(0)) - 3.7509155219653086e-32 * cos(q(1)))\">",
     "output_type": "error",
     "traceback": [
      "\u001B[0;31m---------------------------------------------------------------------------\u001B[0m",
      "\u001B[0;31mTypeError\u001B[0m                                 Traceback (most recent call last)",
      "\u001B[0;32m<ipython-input-11-519257030484>\u001B[0m in \u001B[0;36m<module>\u001B[0;34m\u001B[0m\n\u001B[1;32m      1\u001B[0m \u001B[0;31m# print(p_WA[0])\u001B[0m\u001B[0;34m\u001B[0m\u001B[0;34m\u001B[0m\u001B[0;34m\u001B[0m\u001B[0m\n\u001B[1;32m      2\u001B[0m \u001B[0mtmp\u001B[0m \u001B[0;34m=\u001B[0m \u001B[0mp_WA\u001B[0m\u001B[0;34m[\u001B[0m\u001B[0;36m0\u001B[0m\u001B[0;34m]\u001B[0m\u001B[0;34m\u001B[0m\u001B[0;34m\u001B[0m\u001B[0m\n\u001B[0;32m----> 3\u001B[0;31m \u001B[0mprint\u001B[0m\u001B[0;34m(\u001B[0m\u001B[0msym\u001B[0m\u001B[0;34m.\u001B[0m\u001B[0mDecomposeAffineExpressions\u001B[0m\u001B[0;34m(\u001B[0m\u001B[0mtmp\u001B[0m\u001B[0;34m)\u001B[0m\u001B[0;34m,\u001B[0m \u001B[0mtmp\u001B[0m\u001B[0;34m.\u001B[0m\u001B[0mVariables\u001B[0m\u001B[0;34m(\u001B[0m\u001B[0;34m)\u001B[0m\u001B[0;34m)\u001B[0m\u001B[0;34m\u001B[0m\u001B[0;34m\u001B[0m\u001B[0m\n\u001B[0m",
      "\u001B[0;31mTypeError\u001B[0m: DecomposeAffineExpressions(): incompatible function arguments. The following argument types are supported:\n    1. (expressions: numpy.ndarray[object[m, 1]], vars: numpy.ndarray[object[m, 1]]) -> Tuple[numpy.ndarray[numpy.float64[m, n]], numpy.ndarray[numpy.float64[m, 1]]]\n    2. (v: numpy.ndarray[object[m, 1]]) -> Tuple[numpy.ndarray[numpy.float64[m, n]], numpy.ndarray[numpy.float64[m, 1]], numpy.ndarray[object[m, 1]]]\n\nInvoked with: <Expression \"(-2.0208057374588098e-32 + 1.2246467991473532e-16 * p_AA(0) - 5.9965918743193009e-28 * p_AA(1) - 2.2958363950258565e-43 * p_AA(2) + 7.6571373978538989e-16 * (p_AA(0) * sin(q(0))) + 1.2246467991473532e-16 * (p_AA(0) * sin(q(0)) * sin(q(1))) - 5.9965918743192982e-28 * (p_AA(0) * sin(q(0)) * sin(q(1)) * sin(q(2))) - 4.8965888601467475e-12 * (p_AA(0) * sin(q(0)) * sin(q(1)) * cos(q(2))) + 4.8965888601467475e-12 * (p_AA(0) * sin(q(0)) * sin(q(2)) * cos(q(1))) - 5.9965918743192982e-28 * (p_AA(0) * sin(q(0)) * cos(q(1)) * cos(q(2))) + 4.591672790051713e-43 * (p_AA(0) * sin(q(0)) * cos(q(2))) - 1.1483866719617346e-47 * (p_AA(0) * sin(q(1))) - 4.8965888601467475e-12 * (p_AA(0) * sin(q(1)) * sin(q(2)) * cos(q(0))) + 5.9965918743192982e-28 * (p_AA(0) * sin(q(1)) * cos(q(0)) * cos(q(2))) + 4.591672790051713e-43 * (p_AA(0) * sin(q(1)) * cos(q(2))) - 5.9965918743192982e-28 * (p_AA(0) * sin(q(2)) * cos(q(0)) * cos(q(1))) - 4.591672790051713e-43 * (p_AA(0) * sin(q(2)) * cos(q(1))) - 9.3772888049132665e-32 * (p_AA(0) * cos(q(0))) + 1.2246467991473532e-16 * (p_AA(0) * cos(q(0)) * cos(q(1))) - 4.8965888601467475e-12 * (p_AA(0) * cos(q(0)) * cos(q(1)) * cos(q(2))) - 5.6231773850688248e-59 * (p_AA(0) * cos(q(0)) * cos(q(2))) + 7.3437070446781587e-44 * (p_AA(0) * cos(q(2))) - 3.7493853682944455e-27 * (p_AA(1) * sin(q(0))) - 5.9965918743193009e-28 * (p_AA(1) * sin(q(0)) * sin(q(1))) - 5.0532154980743019e-16 * (p_AA(1) * sin(q(0)) * sin(q(1)) * sin(q(2))) - (p_AA(1) * sin(q(0)) * sin(q(1)) * cos(q(2))) + 4.3790577010150533e-47 * (p_AA(1) * sin(q(0)) * sin(q(2))) + (p_AA(1) * sin(q(0)) * sin(q(2)) * cos(q(1))) - 5.0532154980743019e-16 * (p_AA(1) * sin(q(0)) * cos(q(1)) * cos(q(2))) + 9.3772888049132708e-32 * (p_AA(1) * sin(q(0)) * cos(q(2))) + 5.6231773850688266e-59 * (p_AA(1) * sin(q(1))) + 3.5901594399289049e-47 * (p_AA(1) * sin(q(1)) * sin(q(2))) - (p_AA(1) * sin(q(1)) * sin(q(2)) * cos(q(0))) + 5.0532154980743019e-16 * (p_AA(1) * sin(q(1)) * cos(q(0)) * cos(q(2))) + 9.3772888049132708e-32 * (p_AA(1) * sin(q(1)) * cos(q(2))) + 5.4738221262688167e-48 * (p_AA(1) * sin(q(2))) - 4.861730685829017e-63 * (p_AA(1) * sin(q(2)) * cos(q(0))) - 5.0532154980743019e-16 * (p_AA(1) * sin(q(2)) * cos(q(0)) * cos(q(1))) - 9.3772888049132708e-32 * (p_AA(1) * sin(q(2)) * cos(q(1))) + 4.5916727900517106e-43 * (p_AA(1) * cos(q(0))) - 5.9965918743193009e-28 * (p_AA(1) * cos(q(0)) * cos(q(1))) - (p_AA(1) * cos(q(0)) * cos(q(1)) * cos(q(2))) - 1.1483866719617341e-47 * (p_AA(1) * cos(q(0)) * cos(q(2))) + 3.5901594399289049e-47 * (p_AA(1) * cos(q(1)) * cos(q(2))) + 1.4997597826618576e-32 * (p_AA(1) * cos(q(2))) - 1.4354779461266808e-42 * (p_AA(2) * sin(q(0))) - 2.2958363950258565e-43 * (p_AA(2) * sin(q(0)) * sin(q(1))) + (p_AA(2) * sin(q(0)) * sin(q(1)) * sin(q(2))) - 5.0532154980743019e-16 * (p_AA(2) * sin(q(0)) * sin(q(1)) * cos(q(2))) - 9.3772888049132708e-32 * (p_AA(2) * sin(q(0)) * sin(q(2))) + 5.0532154980743019e-16 * (p_AA(2) * sin(q(0)) * sin(q(2)) * cos(q(1))) + (p_AA(2) * sin(q(0)) * cos(q(1)) * cos(q(2))) + 4.3790577010150533e-47 * (p_AA(2) * sin(q(0)) * cos(q(2))) + 2.1528720924988403e-74 * (p_AA(2) * sin(q(1))) - 9.3772888049132708e-32 * (p_AA(2) * sin(q(1)) * sin(q(2))) - 5.0532154980743019e-16 * (p_AA(2) * sin(q(1)) * sin(q(2)) * cos(q(0))) - (p_AA(2) * sin(q(1)) * cos(q(0)) * cos(q(2))) + 3.5901594399289049e-47 * (p_AA(2) * sin(q(1)) * cos(q(2))) - 1.4997597826618576e-32 * (p_AA(2) * sin(q(2))) + 1.1483866719617341e-47 * (p_AA(2) * sin(q(2)) * cos(q(0))) + (p_AA(2) * sin(q(2)) * cos(q(0)) * cos(q(1))) - 3.5901594399289049e-47 * (p_AA(2) * sin(q(2)) * cos(q(1))) + 1.7579534719706556e-58 * (p_AA(2) * cos(q(0))) - 2.2958363950258565e-43 * (p_AA(2) * cos(q(0)) * cos(q(1))) - 5.0532154980743019e-16 * (p_AA(2) * cos(q(0)) * cos(q(1)) * cos(q(2))) - 4.861730685829017e-63 * (p_AA(2) * cos(q(0)) * cos(q(2))) - 9.3772888049132708e-32 * (p_AA(2) * cos(q(1)) * cos(q(2))) + 5.4738221262688167e-48 * (p_AA(2) * cos(q(2))) - 4.8985871965894118e-17 * (sin(q(0)) * sin(q(1))) + 0.081000000000000003 * (sin(q(0)) * sin(q(1)) * sin(q(2))) - 9.9196390730935575e-18 * (sin(q(0)) * sin(q(1)) * cos(q(2))) - 7.5956039319797495e-33 * (sin(q(0)) * sin(q(2))) + 9.9196390730935575e-18 * (sin(q(0)) * sin(q(2)) * cos(q(1))) + 0.40000000000000002 * (sin(q(0)) * cos(q(1))) + 0.081000000000000003 * (sin(q(0)) * cos(q(1)) * cos(q(2))) - 7.5956039319797495e-33 * (sin(q(1)) * sin(q(2))) - 9.9196390730935575e-18 * (sin(q(1)) * sin(q(2)) * cos(q(0))) - 0.40000000000000002 * (sin(q(1)) * cos(q(0))) - 0.081000000000000003 * (sin(q(1)) * cos(q(0)) * cos(q(2))) + 9.3019320428900464e-49 * (sin(q(2)) * cos(q(0))) + 0.081000000000000003 * (sin(q(2)) * cos(q(0)) * cos(q(1))) - 4.8985871965894118e-17 * (cos(q(0)) * cos(q(1))) - 9.9196390730935575e-18 * (cos(q(0)) * cos(q(1)) * cos(q(2))) - 7.5956039319797495e-33 * (cos(q(1)) * cos(q(2))) + 0.41999999999999998 * sin(q(0)) + 9.4748395093885023e-64 * sin(q(1)) - 1.2148054239561047e-33 * sin(q(2)) - 2.639113852162544e-17 * cos(q(0)) - 3.7509155219653086e-32 * cos(q(1)))\">"
     ]
    }
   ],
   "source": [
    "# print(p_WA[0])\n",
    "tmp = p_WA[0]\n",
    "print(sym.DecomposeAffineExpressions(tmp), tmp.Variables())"
   ]
  },
  {
   "cell_type": "code",
   "execution_count": 12,
   "metadata": {},
   "outputs": [],
   "source": [
    "t = prog.NewContinuousVariables(q.shape[0], \"t\")"
   ]
  },
  {
   "cell_type": "code",
   "execution_count": null,
   "metadata": {},
   "outputs": [],
   "source": [
    "import sympy\n",
    "sympy_expr = sympy.parse_expr(tmp.to_string())\n",
    "print(sympy_expr.variables)"
   ]
  },
  {
   "cell_type": "code",
   "execution_count": 13,
   "metadata": {},
   "outputs": [
    {
     "name": "stdout",
     "output_type": "stream",
     "text": [
      "(-2.0208057374588098e-32 + 1.2246467991473532e-16 * p_AA(0) - 5.9965918743193009e-28 * p_AA(1) - 2.2958363950258565e-43 * p_AA(2) + 7.6571373978538989e-16 * (p_AA(0) * (1-t(0)**2)/(1+t(0)**2)) + 1.2246467991473532e-16 * (p_AA(0) * (1-t(0)**2)/(1+t(0)**2) * sin(q(1))) - 5.9965918743192982e-28 * (p_AA(0) * (1-t(0)**2)/(1+t(0)**2) * sin(q(1)) * sin(q(2))) - 4.8965888601467475e-12 * (p_AA(0) * (1-t(0)**2)/(1+t(0)**2) * sin(q(1)) * cos(q(2))) + 4.8965888601467475e-12 * (p_AA(0) * (1-t(0)**2)/(1+t(0)**2) * sin(q(2)) * cos(q(1))) - 5.9965918743192982e-28 * (p_AA(0) * (1-t(0)**2)/(1+t(0)**2) * cos(q(1)) * cos(q(2))) + 4.591672790051713e-43 * (p_AA(0) * (1-t(0)**2)/(1+t(0)**2) * cos(q(2))) - 1.1483866719617346e-47 * (p_AA(0) * sin(q(1))) - 4.8965888601467475e-12 * (p_AA(0) * sin(q(1)) * sin(q(2)) * cos(q(0))) + 5.9965918743192982e-28 * (p_AA(0) * sin(q(1)) * cos(q(0)) * cos(q(2))) + 4.591672790051713e-43 * (p_AA(0) * sin(q(1)) * cos(q(2))) - 5.9965918743192982e-28 * (p_AA(0) * sin(q(2)) * cos(q(0)) * cos(q(1))) - 4.591672790051713e-43 * (p_AA(0) * sin(q(2)) * cos(q(1))) - 9.3772888049132665e-32 * (p_AA(0) * cos(q(0))) + 1.2246467991473532e-16 * (p_AA(0) * cos(q(0)) * cos(q(1))) - 4.8965888601467475e-12 * (p_AA(0) * cos(q(0)) * cos(q(1)) * cos(q(2))) - 5.6231773850688248e-59 * (p_AA(0) * cos(q(0)) * cos(q(2))) + 7.3437070446781587e-44 * (p_AA(0) * cos(q(2))) - 3.7493853682944455e-27 * (p_AA(1) * (1-t(0)**2)/(1+t(0)**2)) - 5.9965918743193009e-28 * (p_AA(1) * (1-t(0)**2)/(1+t(0)**2) * sin(q(1))) - 5.0532154980743019e-16 * (p_AA(1) * (1-t(0)**2)/(1+t(0)**2) * sin(q(1)) * sin(q(2))) - (p_AA(1) * (1-t(0)**2)/(1+t(0)**2) * sin(q(1)) * cos(q(2))) + 4.3790577010150533e-47 * (p_AA(1) * (1-t(0)**2)/(1+t(0)**2) * sin(q(2))) + (p_AA(1) * (1-t(0)**2)/(1+t(0)**2) * sin(q(2)) * cos(q(1))) - 5.0532154980743019e-16 * (p_AA(1) * (1-t(0)**2)/(1+t(0)**2) * cos(q(1)) * cos(q(2))) + 9.3772888049132708e-32 * (p_AA(1) * (1-t(0)**2)/(1+t(0)**2) * cos(q(2))) + 5.6231773850688266e-59 * (p_AA(1) * sin(q(1))) + 3.5901594399289049e-47 * (p_AA(1) * sin(q(1)) * sin(q(2))) - (p_AA(1) * sin(q(1)) * sin(q(2)) * cos(q(0))) + 5.0532154980743019e-16 * (p_AA(1) * sin(q(1)) * cos(q(0)) * cos(q(2))) + 9.3772888049132708e-32 * (p_AA(1) * sin(q(1)) * cos(q(2))) + 5.4738221262688167e-48 * (p_AA(1) * sin(q(2))) - 4.861730685829017e-63 * (p_AA(1) * sin(q(2)) * cos(q(0))) - 5.0532154980743019e-16 * (p_AA(1) * sin(q(2)) * cos(q(0)) * cos(q(1))) - 9.3772888049132708e-32 * (p_AA(1) * sin(q(2)) * cos(q(1))) + 4.5916727900517106e-43 * (p_AA(1) * cos(q(0))) - 5.9965918743193009e-28 * (p_AA(1) * cos(q(0)) * cos(q(1))) - (p_AA(1) * cos(q(0)) * cos(q(1)) * cos(q(2))) - 1.1483866719617341e-47 * (p_AA(1) * cos(q(0)) * cos(q(2))) + 3.5901594399289049e-47 * (p_AA(1) * cos(q(1)) * cos(q(2))) + 1.4997597826618576e-32 * (p_AA(1) * cos(q(2))) - 1.4354779461266808e-42 * (p_AA(2) * (1-t(0)**2)/(1+t(0)**2)) - 2.2958363950258565e-43 * (p_AA(2) * (1-t(0)**2)/(1+t(0)**2) * sin(q(1))) + (p_AA(2) * (1-t(0)**2)/(1+t(0)**2) * sin(q(1)) * sin(q(2))) - 5.0532154980743019e-16 * (p_AA(2) * (1-t(0)**2)/(1+t(0)**2) * sin(q(1)) * cos(q(2))) - 9.3772888049132708e-32 * (p_AA(2) * (1-t(0)**2)/(1+t(0)**2) * sin(q(2))) + 5.0532154980743019e-16 * (p_AA(2) * (1-t(0)**2)/(1+t(0)**2) * sin(q(2)) * cos(q(1))) + (p_AA(2) * (1-t(0)**2)/(1+t(0)**2) * cos(q(1)) * cos(q(2))) + 4.3790577010150533e-47 * (p_AA(2) * (1-t(0)**2)/(1+t(0)**2) * cos(q(2))) + 2.1528720924988403e-74 * (p_AA(2) * sin(q(1))) - 9.3772888049132708e-32 * (p_AA(2) * sin(q(1)) * sin(q(2))) - 5.0532154980743019e-16 * (p_AA(2) * sin(q(1)) * sin(q(2)) * cos(q(0))) - (p_AA(2) * sin(q(1)) * cos(q(0)) * cos(q(2))) + 3.5901594399289049e-47 * (p_AA(2) * sin(q(1)) * cos(q(2))) - 1.4997597826618576e-32 * (p_AA(2) * sin(q(2))) + 1.1483866719617341e-47 * (p_AA(2) * sin(q(2)) * cos(q(0))) + (p_AA(2) * sin(q(2)) * cos(q(0)) * cos(q(1))) - 3.5901594399289049e-47 * (p_AA(2) * sin(q(2)) * cos(q(1))) + 1.7579534719706556e-58 * (p_AA(2) * cos(q(0))) - 2.2958363950258565e-43 * (p_AA(2) * cos(q(0)) * cos(q(1))) - 5.0532154980743019e-16 * (p_AA(2) * cos(q(0)) * cos(q(1)) * cos(q(2))) - 4.861730685829017e-63 * (p_AA(2) * cos(q(0)) * cos(q(2))) - 9.3772888049132708e-32 * (p_AA(2) * cos(q(1)) * cos(q(2))) + 5.4738221262688167e-48 * (p_AA(2) * cos(q(2))) - 4.8985871965894118e-17 * ((1-t(0)**2)/(1+t(0)**2) * sin(q(1))) + 0.081000000000000003 * ((1-t(0)**2)/(1+t(0)**2) * sin(q(1)) * sin(q(2))) - 9.9196390730935575e-18 * ((1-t(0)**2)/(1+t(0)**2) * sin(q(1)) * cos(q(2))) - 7.5956039319797495e-33 * ((1-t(0)**2)/(1+t(0)**2) * sin(q(2))) + 9.9196390730935575e-18 * ((1-t(0)**2)/(1+t(0)**2) * sin(q(2)) * cos(q(1))) + 0.40000000000000002 * ((1-t(0)**2)/(1+t(0)**2) * cos(q(1))) + 0.081000000000000003 * ((1-t(0)**2)/(1+t(0)**2) * cos(q(1)) * cos(q(2))) - 7.5956039319797495e-33 * (sin(q(1)) * sin(q(2))) - 9.9196390730935575e-18 * (sin(q(1)) * sin(q(2)) * cos(q(0))) - 0.40000000000000002 * (sin(q(1)) * cos(q(0))) - 0.081000000000000003 * (sin(q(1)) * cos(q(0)) * cos(q(2))) + 9.3019320428900464e-49 * (sin(q(2)) * cos(q(0))) + 0.081000000000000003 * (sin(q(2)) * cos(q(0)) * cos(q(1))) - 4.8985871965894118e-17 * (cos(q(0)) * cos(q(1))) - 9.9196390730935575e-18 * (cos(q(0)) * cos(q(1)) * cos(q(2))) - 7.5956039319797495e-33 * (cos(q(1)) * cos(q(2))) + 0.41999999999999998 * (1-t(0)**2)/(1+t(0)**2) + 9.4748395093885023e-64 * sin(q(1)) - 1.2148054239561047e-33 * sin(q(2)) - 2.639113852162544e-17 * cos(q(0)) - 3.7509155219653086e-32 * cos(q(1)))\n"
     ]
    }
   ],
   "source": [
    "\n",
    "def extract_cos_tmp(expr):\n",
    "    expr_string = expr.to_string()\n",
    "    string2 = expr_string.replace(\"sin(q(0))\", \"(1-t(0)**2)/(1+t(0)**2)\")\n",
    "    return string2\n",
    "one_sub = extract_cos_tmp(tmp)\n",
    "print(one_sub)"
   ]
  },
  {
   "cell_type": "code",
   "execution_count": null,
   "metadata": {},
   "outputs": [],
   "source": []
  }
 ],
 "metadata": {
  "kernelspec": {
   "display_name": "Python 3",
   "language": "python",
   "name": "python3"
  },
  "language_info": {
   "codemirror_mode": {
    "name": "ipython",
    "version": 3
   },
   "file_extension": ".py",
   "mimetype": "text/x-python",
   "name": "python",
   "nbconvert_exporter": "python",
   "pygments_lexer": "ipython3",
   "version": "3.8.10"
  }
 },
 "nbformat": 4,
 "nbformat_minor": 1
}