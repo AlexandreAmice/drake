{
 "cells": [
  {
   "cell_type": "code",
   "execution_count": 1,
   "metadata": {},
   "outputs": [],
   "source": [
    "%load_ext autoreload\n",
    "%autoreload 2"
   ]
  },
  {
   "cell_type": "code",
   "execution_count": 2,
   "metadata": {},
   "outputs": [],
   "source": [
    "import sys\n",
    "import os\n",
    "import time\n",
    "import numpy as np"
   ]
  },
  {
   "cell_type": "code",
   "execution_count": 40,
   "metadata": {},
   "outputs": [],
   "source": [
    "import pydrake\n",
    "from pydrake.all import BsplineTrajectoryThroughUnionOfHPolyhedra, IrisInConfigurationSpace, IrisOptions\n",
    "from pydrake.common import FindResourceOrThrow\n",
    "from pydrake.geometry import SceneGraph\n",
    "from pydrake.math import RigidTransform, RollPitchYaw\n",
    "from pydrake.multibody.optimization import CalcGridPointsOptions, Toppra\n",
    "from pydrake.multibody.parsing import LoadModelDirectives, Parser, ProcessModelDirectives\n",
    "from pydrake.multibody.plant import MultibodyPlant, AddMultibodyPlantSceneGraph\n",
    "from pydrake.multibody.tree import RevoluteJoint\n",
    "from pydrake.solvers.mathematicalprogram import MathematicalProgram, Solve\n",
    "from pydrake.solvers.mosek import MosekSolver\n",
    "from pydrake.systems.analysis import Simulator\n",
    "from pydrake.systems.framework import DiagramBuilder\n",
    "from pydrake.systems.primitives import TrajectorySource\n",
    "from pydrake.trajectories import PiecewisePolynomial\n",
    "from pydrake.all import Variable\n",
    "from pydrake.all import MultibodyPositionToGeometryPose, ConnectMeshcatVisualizer, Role, Sphere\n",
    "from pydrake.all import (\n",
    "    ConvexSet, HPolyhedron, Hyperellipsoid,\n",
    "    MathematicalProgram, Solve, le, IpoptSolver,\n",
    "    Role, Sphere,\n",
    "    Iris, IrisOptions, MakeIrisObstacles, Variable\n",
    ")\n",
    "from pydrake.all import (\n",
    "    eq, SnoptSolver,\n",
    "    Sphere, Ellipsoid, GeometrySet,\n",
    "    RigidBody_, AutoDiffXd, initializeAutoDiff,\n",
    ")\n",
    "\n",
    "import pydrake.symbolic as sym\n",
    "\n",
    "from meshcat import Visualizer\n",
    "\n",
    "# Setup meshcat\n",
    "from meshcat.servers.zmqserver import start_zmq_server_as_subprocess\n",
    "proc, zmq_url, web_url = start_zmq_server_as_subprocess(server_args=[])\n",
    "\n",
    "def xreplace(expr, rules):\n",
    "        if isinstance(expr, float) or isinstance(expr, sym.Variable):\n",
    "            return expr\n",
    "        assert isinstance(expr, sym.Expression), expr\n",
    "        for old, new in rules:\n",
    "            if expr.EqualTo(old):\n",
    "                return new\n",
    "        ctor, old_args = expr.Deconstruct()\n",
    "        new_args = [_xreplace(e, rules) for e in old_args]\n",
    "        return ctor(*new_args)"
   ]
  },
  {
   "cell_type": "code",
   "execution_count": 12,
   "metadata": {},
   "outputs": [
    {
     "name": "stdout",
     "output_type": "stream",
     "text": [
      "You can open the visualizer by visiting the following URL:\n",
      "http://127.0.0.1:7000/static/\n"
     ]
    },
    {
     "data": {
      "text/html": [
       "\n",
       "            <div style=\"height: 400px; width: 100%; overflow-x: auto; overflow-y: hidden; resize: both\">\n",
       "            <iframe src=\"http://127.0.0.1:7000/static/\" style=\"width: 100%; height: 100%; border: none\"></iframe>\n",
       "            </div>\n",
       "            "
      ],
      "text/plain": [
       "<IPython.core.display.HTML object>"
      ]
     },
     "metadata": {},
     "output_type": "display_data"
    },
    {
     "name": "stdout",
     "output_type": "stream",
     "text": [
      "Connecting to meshcat-server at zmq_url=tcp://127.0.0.1:6000...\n",
      "You can open the visualizer by visiting the following URL:\n",
      "http://127.0.0.1:7000/static/\n",
      "Connected to meshcat-server.\n"
     ]
    }
   ],
   "source": [
    "simple_collision = True\n",
    "# gripper_welded = True\n",
    "\n",
    "vis = Visualizer(zmq_url=zmq_url)\n",
    "vis.delete()\n",
    "display(vis.jupyter_cell())\n",
    "\n",
    "builder = DiagramBuilder()\n",
    "plant, scene_graph = AddMultibodyPlantSceneGraph(builder, time_step=0.001)\n",
    "parser = Parser(plant)\n",
    "parser.package_map().Add( \"wsg_50_description\", os.path.dirname(FindResourceOrThrow(\n",
    "            \"drake/manipulation/models/wsg_50_description/package.xml\")))\n",
    "\n",
    "directives_file = FindResourceOrThrow(\"drake/sandbox/planar_iiwa_simple_collision_welded_gripper.yaml\") \\\n",
    "    if simple_collision else FindResourceOrThrow(\"drake/sandbox/planar_iiwa_dense_collision_welded_gripper.yaml\")\n",
    "directives = LoadModelDirectives(directives_file)\n",
    "models = ProcessModelDirectives(directives, plant, parser)\n",
    "\n",
    "q0 = [-0.2, -1.2, 1.6]\n",
    "index = 0\n",
    "for joint_index in plant.GetJointIndices(models[0].model_instance):\n",
    "    joint = plant.get_mutable_joint(joint_index)\n",
    "    if isinstance(joint, RevoluteJoint):\n",
    "        joint.set_default_angle(q0[index])\n",
    "        index += 1\n",
    "\n",
    "plant.Finalize()\n",
    "\n",
    "visualizer = ConnectMeshcatVisualizer(builder, scene_graph, zmq_url=zmq_url, delete_prefix_on_load=False)\n",
    "\n",
    "diagram = builder.Build()\n",
    "visualizer.load()\n",
    "context = diagram.CreateDefaultContext()\n",
    "plant_context = plant.GetMyContextFromRoot(context)\n",
    "diagram.Publish(context)"
   ]
  },
  {
   "cell_type": "code",
   "execution_count": 13,
   "metadata": {},
   "outputs": [
    {
     "name": "stdout",
     "output_type": "stream",
     "text": [
      "[ 0.    -2.016  1.975]\n",
      "[-1.  -2.   0.5]\n",
      "[ 0.3 -0.8  0.5]\n",
      "[ 0.25 -1.6  -0.25]\n",
      "[ 0.07 -1.8  -0.2 ]\n",
      "[-0.1 -2.  -0.3]\n",
      "[[ 8.55974367e-07  3.51284882e-06  8.23286705e-06]\n",
      " [-1.42225948e+00 -2.49953376e-07  1.22251762e-06]\n",
      " [ 1.78716687e-01 -1.96024646e+00  2.09439510e+00]\n",
      " [ 2.02760502e+00 -1.12246694e+00  1.36453888e+00]\n",
      " [-7.56258558e-01 -2.09439510e+00  2.05217654e+00]\n",
      " [-1.36432306e+00 -2.09439510e+00  2.05217079e+00]]\n"
     ]
    }
   ],
   "source": [
    "seed_points = np.array([[0.0, -2.016, 1.975], # in tight\n",
    "                        [-1, -2, 0.5],        # neutral pose\n",
    "                        [0.3, -0.8, 0.5],     # above shelf\n",
    "                        [0.25, -1.6, -0.25],  # in shelf 1\n",
    "                        [0.07, -1.8, -0.2],   # leaving shelf 1\n",
    "                        [-0.1, -2, -0.3]])    # out of shelf 1\n",
    "\n",
    "\n",
    "from pydrake.all import InverseKinematics\n",
    "cspace_seed_points = []\n",
    "hand_body = plant.GetBodyByName(\"iiwa_link_ee_kuka\")\n",
    "hand_frame = hand_body.body_frame()\n",
    "q0 = plant.GetPositions(plant_context)\n",
    "for i in range(seed_points.shape[0]):\n",
    "    ik = InverseKinematics(plant, plant_context)\n",
    "    ik.AddMinimumDistanceConstraint(0.001, 0.01)\n",
    "    ik.AddPositionConstraint(hand_frame, [0, 0, 0], plant.world_frame(), seed_points[i,:], seed_points[i,:])\n",
    "    ik.prog().SetInitialGuess(ik.q(), q0)\n",
    "    result = Solve(ik.prog())\n",
    "    if not result.is_success():\n",
    "        print(seed_points[i,:])\n",
    "#         assert result.is_success()\n",
    "    cspace_seed_points.append(result.GetSolution(ik.q()))\n",
    "cspace_seed_points = np.array(cspace_seed_points)\n",
    "print(cspace_seed_points)\n",
    "\n",
    "# seed_points = np.array([[0.0, 0.0, 0.0, 0.0,0.0, 0.0]])    # out of shelf 1\n",
    "\n",
    "# traj = PiecewisePolynomial.FirstOrderHold(np.array([0, 1]), np.array([seed_points[4], seed_points[1]]).T)\n",
    "# visualize_trajectory(traj)"
   ]
  },
  {
   "cell_type": "code",
   "execution_count": 14,
   "metadata": {},
   "outputs": [],
   "source": [
    "def MakeFromSceneGraph(query, geom, expressed_in=None):\n",
    "    shape = query.inspector().GetShape(geom)\n",
    "    if isinstance(shape, (Sphere, Ellipsoid)):\n",
    "        return Hyperellipsoid(query, geom, expressed_in)\n",
    "    return HPolyhedron(query, geom, expressed_in)"
   ]
  },
  {
   "cell_type": "code",
   "execution_count": null,
   "metadata": {},
   "outputs": [],
   "source": [
    "def generate_rationalize_trig_expr_rules(q_var, t_var):\n",
    "    rules = []\n",
    "    denom = 1\n",
    "    for i in range(t.shape[0]):\n",
    "        sin_rule = (sym.sin(q[i]), (2*t[i])/(1+t[i]**2))\n",
    "        cos_rule = (sym.cos(q[i]), (1-t[i]**2)/(1+t[i]**2))\n",
    "        rules += [sin_rule, cos_rule]\n",
    "        denom *= (1+t[i]**2)\n",
    "    return rules, denom\n",
    "\n",
    "    \n",
    "def rationalize_trig_expr(expr, rules):\n",
    "    return xreplace(expr, rules)"
   ]
  },
  {
   "cell_type": "code",
   "execution_count": 50,
   "metadata": {},
   "outputs": [],
   "source": [
    "def rationalize_iris_equality_constraint(p_WA, p_WB, trig_rules, trig_denom):\n",
    "    lhs_WA = [None for i in range(p_WA.shape[0])]\n",
    "    rhs_WB = [None for i in range(p_WA.shape[0])]\n",
    "    for i in range(p_WA.shape[0]):\n",
    "        lhs_WA[i] = xreplace(p_WA[i], rules)*trig_denom\n",
    "        rhs_WB[i] = xreplace(p_WB[i], rules)*trig_denom\n",
    "    return lhs_WA, rhs_WB\n",
    "        \n",
    "    "
   ]
  },
  {
   "cell_type": "code",
   "execution_count": 15,
   "metadata": {},
   "outputs": [],
   "source": [
    "def FindClosestCollision(sym_plant, sym_context, frameA, frameB, setA, setB, E, Gt, ht):\n",
    "    prog = MathematicalProgram()\n",
    "    #mismatch in shape of t and E.\n",
    "    q = sym.MakeVectorContinuousVariable(3,\"q\")\n",
    "    t = prog.NewContinuousVariables(Gt.shape[1], \"t\")\n",
    "    trig_rationalize_rules, trig_denoms = generate_rationalize_trig_expr_rules(q,t)\n",
    "\n",
    "    p_AA = prog.NewContinuousVariables(3, \"p_AA\")\n",
    "    p_BB = prog.NewContinuousVariables(3, \"p_BB\")\n",
    "    setA.AddPointInSetConstraints(prog, p_AA)\n",
    "    setB.AddPointInSetConstraints(prog, p_BB)\n",
    "\n",
    "    prog.AddQuadraticErrorCost(E.A().T @ E.A(), E.center(), t)\n",
    "\n",
    "    sym_plant.SetPositions(sym_context, q)\n",
    "    X_WA = sym_plant.EvalBodyPoseInWorld(sym_context, frameA)\n",
    "    X_WB = sym_plant.EvalBodyPoseInWorld(sym_context, frameB)\n",
    "    print(X_WB)\n",
    "    # Add +0 pending https://github.com/RobotLocomotion/drake/issues/15216\n",
    "    p_WA = X_WA.multiply(p_AA+0)\n",
    "    p_WB = X_WB.multiply(p_BB+0)\n",
    "    prog.AddConstraint(eq(p_WA, p_WB))\n",
    "#     result = snopt.Solve(prog)\n"
   ]
  },
  {
   "cell_type": "code",
   "execution_count": 16,
   "metadata": {},
   "outputs": [],
   "source": [
    "def IrisInConfigSpace(plant, plant_context, sample, iris_options):\n",
    "    #reimplement IrisInConfigurationSpace method in Python so I can tweak grow ellipse\n",
    "    nq = plant.num_positions()\n",
    "    P = HPolyhedron(plant.GetPositionLowerLimits(), plant.GetPositionUpperLimits())\n",
    "    kEpsilonEllipsoid = 1e-2\n",
    "    E = Hyperellipsoid.MakeHypersphere(kEpsilonEllipsoid, sample)\n",
    "    query_object = plant.get_geometry_query_input_port().Eval(plant_context)\n",
    "    inspector = query_object.inspector()\n",
    "\n",
    "    #Skipping IrisConvex set maker steps? Should be IrisConvexSetMaker\n",
    "    pairs = inspector.GetCollisionCandidates()\n",
    "    N = len(pairs)\n",
    "    geom_ids = inspector.GetGeometryIds(GeometrySet(inspector.GetAllGeometryIds()), Role.kProximity)\n",
    "    sets = {geom:MakeFromSceneGraph(query_object, geom, inspector.GetFrameId(geom)) for geom in geom_ids}\n",
    "\n",
    "    #Symbolic plants and bodies\n",
    "    sym_plant = plant.ToSymbolic()\n",
    "    sym_context = sym_plant.CreateDefaultContext()\n",
    "    sym_bodies = {geom:sym_plant.GetBodyFromFrameId(inspector.GetFrameId(geom)) for geom in geom_ids}\n",
    "\n",
    "    #preallocated\n",
    "    Gt = np.zeros((P.A().shape[0]+2*N, nq))\n",
    "    ht = np.zeros(P.A().shape[0]+2*N)\n",
    "\n",
    "    best_volume = E.Volume()\n",
    "    iteration = 0\n",
    "\n",
    "    #ignoring solver logic?\n",
    "    i = 0\n",
    "#     while True:\n",
    "    while i < 1:\n",
    "        num_constraints = 2*nq\n",
    "        # Find separating hyperplanes\n",
    "\n",
    "\n",
    "        for (geomA, geomB) in pairs:\n",
    "            print(f\"geomA={inspector.GetName(geomA)}, geomB={inspector.GetName(geomB)}\")\n",
    "            collision  = FindClosestCollision(sym_plant, sym_context, sym_bodies[geomA], sym_bodies[geomB],\n",
    "                                              sets[geomA], sets[geomB], E,\n",
    "                                              Gt[:num_constraints, :], ht[:num_constraints])\n",
    "            #only do one\n",
    "            break\n",
    "        i+=1\n"
   ]
  },
  {
   "cell_type": "code",
   "execution_count": 17,
   "metadata": {},
   "outputs": [
    {
     "name": "stdout",
     "output_type": "stream",
     "text": [
      "geomA=iiwa::link7, geomB=shelves::top\n",
      "RigidTransform_[Expression](\n",
      "  R=RotationMatrix_[Expression]([\n",
      "    [<Expression \"1\">, <Expression \"0\">, <Expression \"0\">],\n",
      "    [<Expression \"0\">, <Expression \"1\">, <Expression \"0\">],\n",
      "    [<Expression \"0\">, <Expression \"0\">, <Expression \"1\">],\n",
      "  ]),\n",
      "  p=[<Expression \"0.80000000000000004\">, <Expression \"0\">, <Expression \"0.40000000000000002\">],\n",
      ")\n"
     ]
    },
    {
     "ename": "AttributeError",
     "evalue": "'NoneType' object has no attribute 'MaximumVolumeInscribedEllipsoid'",
     "output_type": "error",
     "traceback": [
      "\u001b[0;31m---------------------------------------------------------------------------\u001b[0m",
      "\u001b[0;31mAttributeError\u001b[0m                            Traceback (most recent call last)",
      "\u001b[0;32m<ipython-input-17-1eb3988cbb40>\u001b[0m in \u001b[0;36m<module>\u001b[0;34m\u001b[0m\n\u001b[1;32m      9\u001b[0m \u001b[0;31m#     hpoly = IrisInConfigurationSpace(plant, plant_context, seed_points[i,:], iris_options)\u001b[0m\u001b[0;34m\u001b[0m\u001b[0;34m\u001b[0m\u001b[0;34m\u001b[0m\u001b[0m\n\u001b[1;32m     10\u001b[0m     \u001b[0mhpoly\u001b[0m \u001b[0;34m=\u001b[0m \u001b[0mIrisInConfigSpace\u001b[0m\u001b[0;34m(\u001b[0m\u001b[0mplant\u001b[0m\u001b[0;34m,\u001b[0m \u001b[0mplant_context\u001b[0m\u001b[0;34m,\u001b[0m \u001b[0mseed_points\u001b[0m\u001b[0;34m[\u001b[0m\u001b[0mi\u001b[0m\u001b[0;34m,\u001b[0m\u001b[0;34m:\u001b[0m\u001b[0;34m]\u001b[0m\u001b[0;34m,\u001b[0m \u001b[0miris_options\u001b[0m\u001b[0;34m)\u001b[0m\u001b[0;34m\u001b[0m\u001b[0;34m\u001b[0m\u001b[0m\n\u001b[0;32m---> 11\u001b[0;31m     \u001b[0mellipse\u001b[0m \u001b[0;34m=\u001b[0m \u001b[0mhpoly\u001b[0m\u001b[0;34m.\u001b[0m\u001b[0mMaximumVolumeInscribedEllipsoid\u001b[0m\u001b[0;34m(\u001b[0m\u001b[0;34m)\u001b[0m\u001b[0;34m\u001b[0m\u001b[0;34m\u001b[0m\u001b[0m\n\u001b[0m\u001b[1;32m     12\u001b[0m     print(\"Time: %6.2f \\tVolume: %6.2f \\tCenter:\" % (time.time() - start_time, ellipse.Volume()),\n\u001b[1;32m     13\u001b[0m           ellipse.center(), flush=True)\n",
      "\u001b[0;31mAttributeError\u001b[0m: 'NoneType' object has no attribute 'MaximumVolumeInscribedEllipsoid'"
     ]
    }
   ],
   "source": [
    "iris_options = IrisOptions()\n",
    "iris_options.require_sample_point_is_contained = True\n",
    "iris_options.iteration_limit = 10\n",
    "iris_options.enable_ibex = False\n",
    "\n",
    "regions = []\n",
    "for i in range(seed_points.shape[0]):\n",
    "    start_time = time.time()\n",
    "#     hpoly = IrisInConfigurationSpace(plant, plant_context, seed_points[i,:], iris_options)\n",
    "    hpoly = IrisInConfigSpace(plant, plant_context, seed_points[i,:], iris_options)\n",
    "    ellipse = hpoly.MaximumVolumeInscribedEllipsoid()\n",
    "    print(\"Time: %6.2f \\tVolume: %6.2f \\tCenter:\" % (time.time() - start_time, ellipse.Volume()),\n",
    "          ellipse.center(), flush=True)\n",
    "    regions.append(hpoly)\n"
   ]
  },
  {
   "cell_type": "code",
   "execution_count": 49,
   "metadata": {},
   "outputs": [
    {
     "ename": "AttributeError",
     "evalue": "'numpy.ndarray' object has no attribute 'type'",
     "output_type": "error",
     "traceback": [
      "\u001b[0;31m---------------------------------------------------------------------------\u001b[0m",
      "\u001b[0;31mAttributeError\u001b[0m                            Traceback (most recent call last)",
      "\u001b[0;32m<ipython-input-49-8081f60f0b08>\u001b[0m in \u001b[0;36m<module>\u001b[0;34m\u001b[0m\n\u001b[1;32m     21\u001b[0m \u001b[0;32mfor\u001b[0m \u001b[0mi\u001b[0m \u001b[0;32min\u001b[0m \u001b[0mrange\u001b[0m\u001b[0;34m(\u001b[0m\u001b[0mp_WA\u001b[0m\u001b[0;34m.\u001b[0m\u001b[0mshape\u001b[0m\u001b[0;34m[\u001b[0m\u001b[0;36m0\u001b[0m\u001b[0;34m]\u001b[0m\u001b[0;34m)\u001b[0m\u001b[0;34m:\u001b[0m\u001b[0;34m\u001b[0m\u001b[0;34m\u001b[0m\u001b[0m\n\u001b[1;32m     22\u001b[0m     \u001b[0mp_WA\u001b[0m\u001b[0;34m[\u001b[0m\u001b[0mi\u001b[0m\u001b[0;34m]\u001b[0m \u001b[0;34m=\u001b[0m \u001b[0mp_WA\u001b[0m\u001b[0;34m[\u001b[0m\u001b[0mi\u001b[0m\u001b[0;34m]\u001b[0m\u001b[0;34m.\u001b[0m\u001b[0mExpand\u001b[0m\u001b[0;34m(\u001b[0m\u001b[0;34m)\u001b[0m\u001b[0;34m\u001b[0m\u001b[0;34m\u001b[0m\u001b[0m\n\u001b[0;32m---> 23\u001b[0;31m \u001b[0mprint\u001b[0m\u001b[0;34m(\u001b[0m\u001b[0mtype\u001b[0m\u001b[0;34m(\u001b[0m\u001b[0mp_WA\u001b[0m\u001b[0;34m.\u001b[0m\u001b[0mtype\u001b[0m\u001b[0;34m)\u001b[0m\u001b[0;34m)\u001b[0m\u001b[0;34m\u001b[0m\u001b[0;34m\u001b[0m\u001b[0m\n\u001b[0m",
      "\u001b[0;31mAttributeError\u001b[0m: 'numpy.ndarray' object has no attribute 'type'"
     ]
    }
   ],
   "source": [
    "#unpack a symbolic geometry\n",
    "query_object = plant.get_geometry_query_input_port().Eval(plant_context)\n",
    "inspector = query_object.inspector()\n",
    "pairs = inspector.GetCollisionCandidates()\n",
    "sym_plant = plant.ToSymbolic()\n",
    "sym_context = sym_plant.CreateDefaultContext()\n",
    "geom_ids = inspector.GetGeometryIds(GeometrySet(inspector.GetAllGeometryIds()), Role.kProximity)\n",
    "sym_bodies = {geom:sym_plant.GetBodyFromFrameId(inspector.GetFrameId(geom)) for geom in geom_ids}\n",
    "geomA = iter(pairs).__next__()[0]\n",
    "frameA = sym_bodies[geomA]\n",
    "prog = MathematicalProgram()\n",
    "\n",
    "q = sym.MakeVectorContinuousVariable(3,\"q\")\n",
    "t = prog.NewContinuousVariables(q.shape[0], \"t\")\n",
    "\n",
    "sym_plant.SetPositions(sym_context, q)\n",
    "X_WA = sym_plant.EvalBodyPoseInWorld(sym_context, frameA)\n",
    "p_AA = prog.NewContinuousVariables(3, \"p_AA\")\n",
    "p_WA = X_WA.multiply(p_AA+0)\n",
    "\n",
    "for i in range(p_WA.shape[0]):\n",
    "    p_WA[i] = p_WA[i].Expand()\n",
    "print(type(p_WA))"
   ]
  },
  {
   "cell_type": "code",
   "execution_count": 38,
   "metadata": {},
   "outputs": [
    {
     "name": "stdout",
     "output_type": "stream",
     "text": [
      "(-2.0208057374588098e-32 + 1.2246467991473532e-16 * p_AA(0) - 5.9965918743193009e-28 * p_AA(1) - 2.2958363950258565e-43 * p_AA(2) + 7.6571373978538989e-16 * (p_AA(0) * sin(q(0))) + 1.2246467991473532e-16 * (p_AA(0) * sin(q(0)) * sin(q(1))) - 5.9965918743192982e-28 * (p_AA(0) * sin(q(0)) * sin(q(1)) * sin(q(2))) - 4.8965888601467475e-12 * (p_AA(0) * sin(q(0)) * sin(q(1)) * cos(q(2))) + 4.8965888601467475e-12 * (p_AA(0) * sin(q(0)) * sin(q(2)) * cos(q(1))) - 5.9965918743192982e-28 * (p_AA(0) * sin(q(0)) * cos(q(1)) * cos(q(2))) + 4.591672790051713e-43 * (p_AA(0) * sin(q(0)) * cos(q(2))) - 1.1483866719617346e-47 * (p_AA(0) * sin(q(1))) - 4.8965888601467475e-12 * (p_AA(0) * sin(q(1)) * sin(q(2)) * cos(q(0))) + 5.9965918743192982e-28 * (p_AA(0) * sin(q(1)) * cos(q(0)) * cos(q(2))) + 4.591672790051713e-43 * (p_AA(0) * sin(q(1)) * cos(q(2))) - 5.9965918743192982e-28 * (p_AA(0) * sin(q(2)) * cos(q(0)) * cos(q(1))) - 4.591672790051713e-43 * (p_AA(0) * sin(q(2)) * cos(q(1))) - 9.3772888049132665e-32 * (p_AA(0) * cos(q(0))) + 1.2246467991473532e-16 * (p_AA(0) * cos(q(0)) * cos(q(1))) - 4.8965888601467475e-12 * (p_AA(0) * cos(q(0)) * cos(q(1)) * cos(q(2))) - 5.6231773850688248e-59 * (p_AA(0) * cos(q(0)) * cos(q(2))) + 7.3437070446781587e-44 * (p_AA(0) * cos(q(2))) - 3.7493853682944455e-27 * (p_AA(1) * sin(q(0))) - 5.9965918743193009e-28 * (p_AA(1) * sin(q(0)) * sin(q(1))) - 5.0532154980743019e-16 * (p_AA(1) * sin(q(0)) * sin(q(1)) * sin(q(2))) - (p_AA(1) * sin(q(0)) * sin(q(1)) * cos(q(2))) + 4.3790577010150533e-47 * (p_AA(1) * sin(q(0)) * sin(q(2))) + (p_AA(1) * sin(q(0)) * sin(q(2)) * cos(q(1))) - 5.0532154980743019e-16 * (p_AA(1) * sin(q(0)) * cos(q(1)) * cos(q(2))) + 9.3772888049132708e-32 * (p_AA(1) * sin(q(0)) * cos(q(2))) + 5.6231773850688266e-59 * (p_AA(1) * sin(q(1))) + 3.5901594399289049e-47 * (p_AA(1) * sin(q(1)) * sin(q(2))) - (p_AA(1) * sin(q(1)) * sin(q(2)) * cos(q(0))) + 5.0532154980743019e-16 * (p_AA(1) * sin(q(1)) * cos(q(0)) * cos(q(2))) + 9.3772888049132708e-32 * (p_AA(1) * sin(q(1)) * cos(q(2))) + 5.4738221262688167e-48 * (p_AA(1) * sin(q(2))) - 4.861730685829017e-63 * (p_AA(1) * sin(q(2)) * cos(q(0))) - 5.0532154980743019e-16 * (p_AA(1) * sin(q(2)) * cos(q(0)) * cos(q(1))) - 9.3772888049132708e-32 * (p_AA(1) * sin(q(2)) * cos(q(1))) + 4.5916727900517106e-43 * (p_AA(1) * cos(q(0))) - 5.9965918743193009e-28 * (p_AA(1) * cos(q(0)) * cos(q(1))) - (p_AA(1) * cos(q(0)) * cos(q(1)) * cos(q(2))) - 1.1483866719617341e-47 * (p_AA(1) * cos(q(0)) * cos(q(2))) + 3.5901594399289049e-47 * (p_AA(1) * cos(q(1)) * cos(q(2))) + 1.4997597826618576e-32 * (p_AA(1) * cos(q(2))) - 1.4354779461266808e-42 * (p_AA(2) * sin(q(0))) - 2.2958363950258565e-43 * (p_AA(2) * sin(q(0)) * sin(q(1))) + (p_AA(2) * sin(q(0)) * sin(q(1)) * sin(q(2))) - 5.0532154980743019e-16 * (p_AA(2) * sin(q(0)) * sin(q(1)) * cos(q(2))) - 9.3772888049132708e-32 * (p_AA(2) * sin(q(0)) * sin(q(2))) + 5.0532154980743019e-16 * (p_AA(2) * sin(q(0)) * sin(q(2)) * cos(q(1))) + (p_AA(2) * sin(q(0)) * cos(q(1)) * cos(q(2))) + 4.3790577010150533e-47 * (p_AA(2) * sin(q(0)) * cos(q(2))) + 2.1528720924988403e-74 * (p_AA(2) * sin(q(1))) - 9.3772888049132708e-32 * (p_AA(2) * sin(q(1)) * sin(q(2))) - 5.0532154980743019e-16 * (p_AA(2) * sin(q(1)) * sin(q(2)) * cos(q(0))) - (p_AA(2) * sin(q(1)) * cos(q(0)) * cos(q(2))) + 3.5901594399289049e-47 * (p_AA(2) * sin(q(1)) * cos(q(2))) - 1.4997597826618576e-32 * (p_AA(2) * sin(q(2))) + 1.1483866719617341e-47 * (p_AA(2) * sin(q(2)) * cos(q(0))) + (p_AA(2) * sin(q(2)) * cos(q(0)) * cos(q(1))) - 3.5901594399289049e-47 * (p_AA(2) * sin(q(2)) * cos(q(1))) + 1.7579534719706556e-58 * (p_AA(2) * cos(q(0))) - 2.2958363950258565e-43 * (p_AA(2) * cos(q(0)) * cos(q(1))) - 5.0532154980743019e-16 * (p_AA(2) * cos(q(0)) * cos(q(1)) * cos(q(2))) - 4.861730685829017e-63 * (p_AA(2) * cos(q(0)) * cos(q(2))) - 9.3772888049132708e-32 * (p_AA(2) * cos(q(1)) * cos(q(2))) + 5.4738221262688167e-48 * (p_AA(2) * cos(q(2))) - 4.8985871965894118e-17 * (sin(q(0)) * sin(q(1))) + 0.081000000000000003 * (sin(q(0)) * sin(q(1)) * sin(q(2))) - 9.9196390730935575e-18 * (sin(q(0)) * sin(q(1)) * cos(q(2))) - 7.5956039319797495e-33 * (sin(q(0)) * sin(q(2))) + 9.9196390730935575e-18 * (sin(q(0)) * sin(q(2)) * cos(q(1))) + 0.40000000000000002 * (sin(q(0)) * cos(q(1))) + 0.081000000000000003 * (sin(q(0)) * cos(q(1)) * cos(q(2))) - 7.5956039319797495e-33 * (sin(q(1)) * sin(q(2))) - 9.9196390730935575e-18 * (sin(q(1)) * sin(q(2)) * cos(q(0))) - 0.40000000000000002 * (sin(q(1)) * cos(q(0))) - 0.081000000000000003 * (sin(q(1)) * cos(q(0)) * cos(q(2))) + 9.3019320428900464e-49 * (sin(q(2)) * cos(q(0))) + 0.081000000000000003 * (sin(q(2)) * cos(q(0)) * cos(q(1))) - 4.8985871965894118e-17 * (cos(q(0)) * cos(q(1))) - 9.9196390730935575e-18 * (cos(q(0)) * cos(q(1)) * cos(q(2))) - 7.5956039319797495e-33 * (cos(q(1)) * cos(q(2))) + 0.41999999999999998 * sin(q(0)) + 9.4748395093885023e-64 * sin(q(1)) - 1.2148054239561047e-33 * sin(q(2)) - 2.639113852162544e-17 * cos(q(0)) - 3.7509155219653086e-32 * cos(q(1)))\n"
     ]
    }
   ],
   "source": [
    "# print(p_WA[0])\n",
    "tmp = p_WA[0]\n",
    "# print(X_WA.rotation()[0,0].GetVariables())\n",
    "print(tmp)"
   ]
  },
  {
   "cell_type": "code",
   "execution_count": 51,
   "metadata": {},
   "outputs": [
    {
     "name": "stdout",
     "output_type": "stream",
     "text": [
      "(-2.0208057374588098e-32 + 1.2246467991473532e-16 * p_AA(0) - 5.9965918743193009e-28 * p_AA(1) - 2.2958363950258565e-43 * p_AA(2) + 7.6571373978538989e-16 * (p_AA(0) * sin(q(0))) + 1.2246467991473532e-16 * (p_AA(0) * sin(q(0)) * sin(q(1))) - 5.9965918743192982e-28 * (p_AA(0) * sin(q(0)) * sin(q(1)) * sin(q(2))) - 4.8965888601467475e-12 * (p_AA(0) * sin(q(0)) * sin(q(1)) * cos(q(2))) + 4.8965888601467475e-12 * (p_AA(0) * sin(q(0)) * sin(q(2)) * cos(q(1))) - 5.9965918743192982e-28 * (p_AA(0) * sin(q(0)) * cos(q(1)) * cos(q(2))) + 4.591672790051713e-43 * (p_AA(0) * sin(q(0)) * cos(q(2))) - 1.1483866719617346e-47 * (p_AA(0) * sin(q(1))) - 4.8965888601467475e-12 * (p_AA(0) * sin(q(1)) * sin(q(2)) * cos(q(0))) + 5.9965918743192982e-28 * (p_AA(0) * sin(q(1)) * cos(q(0)) * cos(q(2))) + 4.591672790051713e-43 * (p_AA(0) * sin(q(1)) * cos(q(2))) - 5.9965918743192982e-28 * (p_AA(0) * sin(q(2)) * cos(q(0)) * cos(q(1))) - 4.591672790051713e-43 * (p_AA(0) * sin(q(2)) * cos(q(1))) - 9.3772888049132665e-32 * (p_AA(0) * cos(q(0))) + 1.2246467991473532e-16 * (p_AA(0) * cos(q(0)) * cos(q(1))) - 4.8965888601467475e-12 * (p_AA(0) * cos(q(0)) * cos(q(1)) * cos(q(2))) - 5.6231773850688248e-59 * (p_AA(0) * cos(q(0)) * cos(q(2))) + 7.3437070446781587e-44 * (p_AA(0) * cos(q(2))) - 3.7493853682944455e-27 * (p_AA(1) * sin(q(0))) - 5.9965918743193009e-28 * (p_AA(1) * sin(q(0)) * sin(q(1))) - 5.0532154980743019e-16 * (p_AA(1) * sin(q(0)) * sin(q(1)) * sin(q(2))) - (p_AA(1) * sin(q(0)) * sin(q(1)) * cos(q(2))) + 4.3790577010150533e-47 * (p_AA(1) * sin(q(0)) * sin(q(2))) + (p_AA(1) * sin(q(0)) * sin(q(2)) * cos(q(1))) - 5.0532154980743019e-16 * (p_AA(1) * sin(q(0)) * cos(q(1)) * cos(q(2))) + 9.3772888049132708e-32 * (p_AA(1) * sin(q(0)) * cos(q(2))) + 5.6231773850688266e-59 * (p_AA(1) * sin(q(1))) + 3.5901594399289049e-47 * (p_AA(1) * sin(q(1)) * sin(q(2))) - (p_AA(1) * sin(q(1)) * sin(q(2)) * cos(q(0))) + 5.0532154980743019e-16 * (p_AA(1) * sin(q(1)) * cos(q(0)) * cos(q(2))) + 9.3772888049132708e-32 * (p_AA(1) * sin(q(1)) * cos(q(2))) + 5.4738221262688167e-48 * (p_AA(1) * sin(q(2))) - 4.861730685829017e-63 * (p_AA(1) * sin(q(2)) * cos(q(0))) - 5.0532154980743019e-16 * (p_AA(1) * sin(q(2)) * cos(q(0)) * cos(q(1))) - 9.3772888049132708e-32 * (p_AA(1) * sin(q(2)) * cos(q(1))) + 4.5916727900517106e-43 * (p_AA(1) * cos(q(0))) - 5.9965918743193009e-28 * (p_AA(1) * cos(q(0)) * cos(q(1))) - (p_AA(1) * cos(q(0)) * cos(q(1)) * cos(q(2))) - 1.1483866719617341e-47 * (p_AA(1) * cos(q(0)) * cos(q(2))) + 3.5901594399289049e-47 * (p_AA(1) * cos(q(1)) * cos(q(2))) + 1.4997597826618576e-32 * (p_AA(1) * cos(q(2))) - 1.4354779461266808e-42 * (p_AA(2) * sin(q(0))) - 2.2958363950258565e-43 * (p_AA(2) * sin(q(0)) * sin(q(1))) + (p_AA(2) * sin(q(0)) * sin(q(1)) * sin(q(2))) - 5.0532154980743019e-16 * (p_AA(2) * sin(q(0)) * sin(q(1)) * cos(q(2))) - 9.3772888049132708e-32 * (p_AA(2) * sin(q(0)) * sin(q(2))) + 5.0532154980743019e-16 * (p_AA(2) * sin(q(0)) * sin(q(2)) * cos(q(1))) + (p_AA(2) * sin(q(0)) * cos(q(1)) * cos(q(2))) + 4.3790577010150533e-47 * (p_AA(2) * sin(q(0)) * cos(q(2))) + 2.1528720924988403e-74 * (p_AA(2) * sin(q(1))) - 9.3772888049132708e-32 * (p_AA(2) * sin(q(1)) * sin(q(2))) - 5.0532154980743019e-16 * (p_AA(2) * sin(q(1)) * sin(q(2)) * cos(q(0))) - (p_AA(2) * sin(q(1)) * cos(q(0)) * cos(q(2))) + 3.5901594399289049e-47 * (p_AA(2) * sin(q(1)) * cos(q(2))) - 1.4997597826618576e-32 * (p_AA(2) * sin(q(2))) + 1.1483866719617341e-47 * (p_AA(2) * sin(q(2)) * cos(q(0))) + (p_AA(2) * sin(q(2)) * cos(q(0)) * cos(q(1))) - 3.5901594399289049e-47 * (p_AA(2) * sin(q(2)) * cos(q(1))) + 1.7579534719706556e-58 * (p_AA(2) * cos(q(0))) - 2.2958363950258565e-43 * (p_AA(2) * cos(q(0)) * cos(q(1))) - 5.0532154980743019e-16 * (p_AA(2) * cos(q(0)) * cos(q(1)) * cos(q(2))) - 4.861730685829017e-63 * (p_AA(2) * cos(q(0)) * cos(q(2))) - 9.3772888049132708e-32 * (p_AA(2) * cos(q(1)) * cos(q(2))) + 5.4738221262688167e-48 * (p_AA(2) * cos(q(2))) - 4.8985871965894118e-17 * (sin(q(0)) * sin(q(1))) + 0.081000000000000003 * (sin(q(0)) * sin(q(1)) * sin(q(2))) - 9.9196390730935575e-18 * (sin(q(0)) * sin(q(1)) * cos(q(2))) - 7.5956039319797495e-33 * (sin(q(0)) * sin(q(2))) + 9.9196390730935575e-18 * (sin(q(0)) * sin(q(2)) * cos(q(1))) + 0.40000000000000002 * (sin(q(0)) * cos(q(1))) + 0.081000000000000003 * (sin(q(0)) * cos(q(1)) * cos(q(2))) - 7.5956039319797495e-33 * (sin(q(1)) * sin(q(2))) - 9.9196390730935575e-18 * (sin(q(1)) * sin(q(2)) * cos(q(0))) - 0.40000000000000002 * (sin(q(1)) * cos(q(0))) - 0.081000000000000003 * (sin(q(1)) * cos(q(0)) * cos(q(2))) + 9.3019320428900464e-49 * (sin(q(2)) * cos(q(0))) + 0.081000000000000003 * (sin(q(2)) * cos(q(0)) * cos(q(1))) - 4.8985871965894118e-17 * (cos(q(0)) * cos(q(1))) - 9.9196390730935575e-18 * (cos(q(0)) * cos(q(1)) * cos(q(2))) - 7.5956039319797495e-33 * (cos(q(1)) * cos(q(2))) + 0.41999999999999998 * sin(q(0)) + 9.4748395093885023e-64 * sin(q(1)) - 1.2148054239561047e-33 * sin(q(2)) - 2.639113852162544e-17 * cos(q(0)) - 3.7509155219653086e-32 * cos(q(1)))\n",
      "\n",
      "(-2.0208057374588098e-32 + 1.2246467991473532e-16 * p_AA(0) - 5.9965918743193009e-28 * p_AA(1) - 2.2958363950258565e-43 * p_AA(2) - 9.3772888049132665e-32 * (p_AA(0) * ((1 - pow(t(0), 2)) / (1 + pow(t(0), 2)))) + 1.2246467991473532e-16 * (p_AA(0) * ((1 - pow(t(0), 2)) / (1 + pow(t(0), 2))) * ((1 - pow(t(1), 2)) / (1 + pow(t(1), 2)))) - 4.8965888601467475e-12 * (p_AA(0) * ((1 - pow(t(0), 2)) / (1 + pow(t(0), 2))) * ((1 - pow(t(1), 2)) / (1 + pow(t(1), 2))) * ((1 - pow(t(2), 2)) / (1 + pow(t(2), 2)))) - 5.9965918743192982e-28 * (p_AA(0) * ((1 - pow(t(0), 2)) / (1 + pow(t(0), 2))) * ((1 - pow(t(1), 2)) / (1 + pow(t(1), 2))) * ((2 * t(2)) / (1 + pow(t(2), 2)))) - 5.6231773850688248e-59 * (p_AA(0) * ((1 - pow(t(0), 2)) / (1 + pow(t(0), 2))) * ((1 - pow(t(2), 2)) / (1 + pow(t(2), 2)))) + 5.9965918743192982e-28 * (p_AA(0) * ((1 - pow(t(0), 2)) / (1 + pow(t(0), 2))) * ((1 - pow(t(2), 2)) / (1 + pow(t(2), 2))) * ((2 * t(1)) / (1 + pow(t(1), 2)))) - 4.8965888601467475e-12 * (p_AA(0) * ((1 - pow(t(0), 2)) / (1 + pow(t(0), 2))) * ((2 * t(1)) / (1 + pow(t(1), 2))) * ((2 * t(2)) / (1 + pow(t(2), 2)))) - 5.9965918743192982e-28 * (p_AA(0) * ((1 - pow(t(1), 2)) / (1 + pow(t(1), 2))) * ((1 - pow(t(2), 2)) / (1 + pow(t(2), 2))) * ((2 * t(0)) / (1 + pow(t(0), 2)))) + 4.8965888601467475e-12 * (p_AA(0) * ((1 - pow(t(1), 2)) / (1 + pow(t(1), 2))) * ((2 * t(0)) / (1 + pow(t(0), 2))) * ((2 * t(2)) / (1 + pow(t(2), 2)))) - 4.591672790051713e-43 * (p_AA(0) * ((1 - pow(t(1), 2)) / (1 + pow(t(1), 2))) * ((2 * t(2)) / (1 + pow(t(2), 2)))) + 7.3437070446781587e-44 * (p_AA(0) * ((1 - pow(t(2), 2)) / (1 + pow(t(2), 2)))) + 4.591672790051713e-43 * (p_AA(0) * ((1 - pow(t(2), 2)) / (1 + pow(t(2), 2))) * ((2 * t(0)) / (1 + pow(t(0), 2)))) - 4.8965888601467475e-12 * (p_AA(0) * ((1 - pow(t(2), 2)) / (1 + pow(t(2), 2))) * ((2 * t(0)) / (1 + pow(t(0), 2))) * ((2 * t(1)) / (1 + pow(t(1), 2)))) + 4.591672790051713e-43 * (p_AA(0) * ((1 - pow(t(2), 2)) / (1 + pow(t(2), 2))) * ((2 * t(1)) / (1 + pow(t(1), 2)))) + 7.6571373978538989e-16 * (p_AA(0) * ((2 * t(0)) / (1 + pow(t(0), 2)))) + 1.2246467991473532e-16 * (p_AA(0) * ((2 * t(0)) / (1 + pow(t(0), 2))) * ((2 * t(1)) / (1 + pow(t(1), 2)))) - 5.9965918743192982e-28 * (p_AA(0) * ((2 * t(0)) / (1 + pow(t(0), 2))) * ((2 * t(1)) / (1 + pow(t(1), 2))) * ((2 * t(2)) / (1 + pow(t(2), 2)))) - 1.1483866719617346e-47 * (p_AA(0) * ((2 * t(1)) / (1 + pow(t(1), 2)))) + 4.5916727900517106e-43 * (p_AA(1) * ((1 - pow(t(0), 2)) / (1 + pow(t(0), 2)))) - 5.9965918743193009e-28 * (p_AA(1) * ((1 - pow(t(0), 2)) / (1 + pow(t(0), 2))) * ((1 - pow(t(1), 2)) / (1 + pow(t(1), 2)))) - (p_AA(1) * ((1 - pow(t(0), 2)) / (1 + pow(t(0), 2))) * ((1 - pow(t(1), 2)) / (1 + pow(t(1), 2))) * ((1 - pow(t(2), 2)) / (1 + pow(t(2), 2)))) - 5.0532154980743019e-16 * (p_AA(1) * ((1 - pow(t(0), 2)) / (1 + pow(t(0), 2))) * ((1 - pow(t(1), 2)) / (1 + pow(t(1), 2))) * ((2 * t(2)) / (1 + pow(t(2), 2)))) - 1.1483866719617341e-47 * (p_AA(1) * ((1 - pow(t(0), 2)) / (1 + pow(t(0), 2))) * ((1 - pow(t(2), 2)) / (1 + pow(t(2), 2)))) + 5.0532154980743019e-16 * (p_AA(1) * ((1 - pow(t(0), 2)) / (1 + pow(t(0), 2))) * ((1 - pow(t(2), 2)) / (1 + pow(t(2), 2))) * ((2 * t(1)) / (1 + pow(t(1), 2)))) - (p_AA(1) * ((1 - pow(t(0), 2)) / (1 + pow(t(0), 2))) * ((2 * t(1)) / (1 + pow(t(1), 2))) * ((2 * t(2)) / (1 + pow(t(2), 2)))) - 4.861730685829017e-63 * (p_AA(1) * ((1 - pow(t(0), 2)) / (1 + pow(t(0), 2))) * ((2 * t(2)) / (1 + pow(t(2), 2)))) + 3.5901594399289049e-47 * (p_AA(1) * ((1 - pow(t(1), 2)) / (1 + pow(t(1), 2))) * ((1 - pow(t(2), 2)) / (1 + pow(t(2), 2)))) - 5.0532154980743019e-16 * (p_AA(1) * ((1 - pow(t(1), 2)) / (1 + pow(t(1), 2))) * ((1 - pow(t(2), 2)) / (1 + pow(t(2), 2))) * ((2 * t(0)) / (1 + pow(t(0), 2)))) + (p_AA(1) * ((1 - pow(t(1), 2)) / (1 + pow(t(1), 2))) * ((2 * t(0)) / (1 + pow(t(0), 2))) * ((2 * t(2)) / (1 + pow(t(2), 2)))) - 9.3772888049132708e-32 * (p_AA(1) * ((1 - pow(t(1), 2)) / (1 + pow(t(1), 2))) * ((2 * t(2)) / (1 + pow(t(2), 2)))) + 1.4997597826618576e-32 * (p_AA(1) * ((1 - pow(t(2), 2)) / (1 + pow(t(2), 2)))) + 9.3772888049132708e-32 * (p_AA(1) * ((1 - pow(t(2), 2)) / (1 + pow(t(2), 2))) * ((2 * t(0)) / (1 + pow(t(0), 2)))) - (p_AA(1) * ((1 - pow(t(2), 2)) / (1 + pow(t(2), 2))) * ((2 * t(0)) / (1 + pow(t(0), 2))) * ((2 * t(1)) / (1 + pow(t(1), 2)))) + 9.3772888049132708e-32 * (p_AA(1) * ((1 - pow(t(2), 2)) / (1 + pow(t(2), 2))) * ((2 * t(1)) / (1 + pow(t(1), 2)))) - 3.7493853682944455e-27 * (p_AA(1) * ((2 * t(0)) / (1 + pow(t(0), 2)))) - 5.9965918743193009e-28 * (p_AA(1) * ((2 * t(0)) / (1 + pow(t(0), 2))) * ((2 * t(1)) / (1 + pow(t(1), 2)))) - 5.0532154980743019e-16 * (p_AA(1) * ((2 * t(0)) / (1 + pow(t(0), 2))) * ((2 * t(1)) / (1 + pow(t(1), 2))) * ((2 * t(2)) / (1 + pow(t(2), 2)))) + 4.3790577010150533e-47 * (p_AA(1) * ((2 * t(0)) / (1 + pow(t(0), 2))) * ((2 * t(2)) / (1 + pow(t(2), 2)))) + 5.6231773850688266e-59 * (p_AA(1) * ((2 * t(1)) / (1 + pow(t(1), 2)))) + 3.5901594399289049e-47 * (p_AA(1) * ((2 * t(1)) / (1 + pow(t(1), 2))) * ((2 * t(2)) / (1 + pow(t(2), 2)))) + 5.4738221262688167e-48 * (p_AA(1) * ((2 * t(2)) / (1 + pow(t(2), 2)))) + 1.7579534719706556e-58 * (p_AA(2) * ((1 - pow(t(0), 2)) / (1 + pow(t(0), 2)))) - 2.2958363950258565e-43 * (p_AA(2) * ((1 - pow(t(0), 2)) / (1 + pow(t(0), 2))) * ((1 - pow(t(1), 2)) / (1 + pow(t(1), 2)))) - 5.0532154980743019e-16 * (p_AA(2) * ((1 - pow(t(0), 2)) / (1 + pow(t(0), 2))) * ((1 - pow(t(1), 2)) / (1 + pow(t(1), 2))) * ((1 - pow(t(2), 2)) / (1 + pow(t(2), 2)))) + (p_AA(2) * ((1 - pow(t(0), 2)) / (1 + pow(t(0), 2))) * ((1 - pow(t(1), 2)) / (1 + pow(t(1), 2))) * ((2 * t(2)) / (1 + pow(t(2), 2)))) - 4.861730685829017e-63 * (p_AA(2) * ((1 - pow(t(0), 2)) / (1 + pow(t(0), 2))) * ((1 - pow(t(2), 2)) / (1 + pow(t(2), 2)))) - (p_AA(2) * ((1 - pow(t(0), 2)) / (1 + pow(t(0), 2))) * ((1 - pow(t(2), 2)) / (1 + pow(t(2), 2))) * ((2 * t(1)) / (1 + pow(t(1), 2)))) - 5.0532154980743019e-16 * (p_AA(2) * ((1 - pow(t(0), 2)) / (1 + pow(t(0), 2))) * ((2 * t(1)) / (1 + pow(t(1), 2))) * ((2 * t(2)) / (1 + pow(t(2), 2)))) + 1.1483866719617341e-47 * (p_AA(2) * ((1 - pow(t(0), 2)) / (1 + pow(t(0), 2))) * ((2 * t(2)) / (1 + pow(t(2), 2)))) - 9.3772888049132708e-32 * (p_AA(2) * ((1 - pow(t(1), 2)) / (1 + pow(t(1), 2))) * ((1 - pow(t(2), 2)) / (1 + pow(t(2), 2)))) + (p_AA(2) * ((1 - pow(t(1), 2)) / (1 + pow(t(1), 2))) * ((1 - pow(t(2), 2)) / (1 + pow(t(2), 2))) * ((2 * t(0)) / (1 + pow(t(0), 2)))) + 5.0532154980743019e-16 * (p_AA(2) * ((1 - pow(t(1), 2)) / (1 + pow(t(1), 2))) * ((2 * t(0)) / (1 + pow(t(0), 2))) * ((2 * t(2)) / (1 + pow(t(2), 2)))) - 3.5901594399289049e-47 * (p_AA(2) * ((1 - pow(t(1), 2)) / (1 + pow(t(1), 2))) * ((2 * t(2)) / (1 + pow(t(2), 2)))) + 5.4738221262688167e-48 * (p_AA(2) * ((1 - pow(t(2), 2)) / (1 + pow(t(2), 2)))) + 4.3790577010150533e-47 * (p_AA(2) * ((1 - pow(t(2), 2)) / (1 + pow(t(2), 2))) * ((2 * t(0)) / (1 + pow(t(0), 2)))) - 5.0532154980743019e-16 * (p_AA(2) * ((1 - pow(t(2), 2)) / (1 + pow(t(2), 2))) * ((2 * t(0)) / (1 + pow(t(0), 2))) * ((2 * t(1)) / (1 + pow(t(1), 2)))) + 3.5901594399289049e-47 * (p_AA(2) * ((1 - pow(t(2), 2)) / (1 + pow(t(2), 2))) * ((2 * t(1)) / (1 + pow(t(1), 2)))) - 1.4354779461266808e-42 * (p_AA(2) * ((2 * t(0)) / (1 + pow(t(0), 2)))) - 2.2958363950258565e-43 * (p_AA(2) * ((2 * t(0)) / (1 + pow(t(0), 2))) * ((2 * t(1)) / (1 + pow(t(1), 2)))) + (p_AA(2) * ((2 * t(0)) / (1 + pow(t(0), 2))) * ((2 * t(1)) / (1 + pow(t(1), 2))) * ((2 * t(2)) / (1 + pow(t(2), 2)))) - 9.3772888049132708e-32 * (p_AA(2) * ((2 * t(0)) / (1 + pow(t(0), 2))) * ((2 * t(2)) / (1 + pow(t(2), 2)))) + 2.1528720924988403e-74 * (p_AA(2) * ((2 * t(1)) / (1 + pow(t(1), 2)))) - 9.3772888049132708e-32 * (p_AA(2) * ((2 * t(1)) / (1 + pow(t(1), 2))) * ((2 * t(2)) / (1 + pow(t(2), 2)))) - 1.4997597826618576e-32 * (p_AA(2) * ((2 * t(2)) / (1 + pow(t(2), 2)))) - 4.8985871965894118e-17 * (((1 - pow(t(0), 2)) / (1 + pow(t(0), 2))) * ((1 - pow(t(1), 2)) / (1 + pow(t(1), 2)))) - 9.9196390730935575e-18 * (((1 - pow(t(0), 2)) / (1 + pow(t(0), 2))) * ((1 - pow(t(1), 2)) / (1 + pow(t(1), 2))) * ((1 - pow(t(2), 2)) / (1 + pow(t(2), 2)))) + 0.081000000000000003 * (((1 - pow(t(0), 2)) / (1 + pow(t(0), 2))) * ((1 - pow(t(1), 2)) / (1 + pow(t(1), 2))) * ((2 * t(2)) / (1 + pow(t(2), 2)))) - 0.081000000000000003 * (((1 - pow(t(0), 2)) / (1 + pow(t(0), 2))) * ((1 - pow(t(2), 2)) / (1 + pow(t(2), 2))) * ((2 * t(1)) / (1 + pow(t(1), 2)))) - 0.40000000000000002 * (((1 - pow(t(0), 2)) / (1 + pow(t(0), 2))) * ((2 * t(1)) / (1 + pow(t(1), 2)))) - 9.9196390730935575e-18 * (((1 - pow(t(0), 2)) / (1 + pow(t(0), 2))) * ((2 * t(1)) / (1 + pow(t(1), 2))) * ((2 * t(2)) / (1 + pow(t(2), 2)))) + 9.3019320428900464e-49 * (((1 - pow(t(0), 2)) / (1 + pow(t(0), 2))) * ((2 * t(2)) / (1 + pow(t(2), 2)))) - 7.5956039319797495e-33 * (((1 - pow(t(1), 2)) / (1 + pow(t(1), 2))) * ((1 - pow(t(2), 2)) / (1 + pow(t(2), 2)))) + 0.081000000000000003 * (((1 - pow(t(1), 2)) / (1 + pow(t(1), 2))) * ((1 - pow(t(2), 2)) / (1 + pow(t(2), 2))) * ((2 * t(0)) / (1 + pow(t(0), 2)))) + 0.40000000000000002 * (((1 - pow(t(1), 2)) / (1 + pow(t(1), 2))) * ((2 * t(0)) / (1 + pow(t(0), 2)))) + 9.9196390730935575e-18 * (((1 - pow(t(1), 2)) / (1 + pow(t(1), 2))) * ((2 * t(0)) / (1 + pow(t(0), 2))) * ((2 * t(2)) / (1 + pow(t(2), 2)))) - 9.9196390730935575e-18 * (((1 - pow(t(2), 2)) / (1 + pow(t(2), 2))) * ((2 * t(0)) / (1 + pow(t(0), 2))) * ((2 * t(1)) / (1 + pow(t(1), 2)))) - 4.8985871965894118e-17 * (((2 * t(0)) / (1 + pow(t(0), 2))) * ((2 * t(1)) / (1 + pow(t(1), 2)))) + 0.081000000000000003 * (((2 * t(0)) / (1 + pow(t(0), 2))) * ((2 * t(1)) / (1 + pow(t(1), 2))) * ((2 * t(2)) / (1 + pow(t(2), 2)))) - 7.5956039319797495e-33 * (((2 * t(0)) / (1 + pow(t(0), 2))) * ((2 * t(2)) / (1 + pow(t(2), 2)))) - 7.5956039319797495e-33 * (((2 * t(1)) / (1 + pow(t(1), 2))) * ((2 * t(2)) / (1 + pow(t(2), 2)))) - 2.639113852162544e-17 * ((1 - pow(t(0), 2)) / (1 + pow(t(0), 2))) - 3.7509155219653086e-32 * ((1 - pow(t(1), 2)) / (1 + pow(t(1), 2))) + 0.41999999999999998 * ((2 * t(0)) / (1 + pow(t(0), 2))) + 9.4748395093885023e-64 * ((2 * t(1)) / (1 + pow(t(1), 2))) - 1.2148054239561047e-33 * ((2 * t(2)) / (1 + pow(t(2), 2))))\n"
     ]
    }
   ],
   "source": [
    "def generate_rationalize_trig_expr_rules(q_var, t_var):\n",
    "    rules = []\n",
    "    for i in range(t.shape[0]):\n",
    "        sin_rule = (sym.sin(q[i]), (2*t[i])/(1+t[i]**2))\n",
    "        cos_rule = (sym.cos(q[i]), (1-t[i]**2)/(1+t[i]**2))\n",
    "        rules += [sin_rule, cos_rule]\n",
    "    return rules\n",
    "\n",
    "rules = generate_rationalize_trig_expr_rules(q, t)\n",
    "rules_denoms = 1\n",
    "for i in range(t.shape[0]):\n",
    "    rules_denoms *= (1+t[i]**2)\n",
    "    \n",
    "def rationalize_trig_expr(expr):\n",
    "    return xreplace(expr, rules)\n",
    "\n",
    "expr_in_q = p_WA[0]\n",
    "print(expr_in_q)\n",
    "print()\n",
    "expr_in_t = rationalize_trig_expr(expr_in_q)\n",
    "print(expr_in_t)"
   ]
  },
  {
   "cell_type": "code",
   "execution_count": 63,
   "metadata": {},
   "outputs": [
    {
     "name": "stdout",
     "output_type": "stream",
     "text": [
      "(-2.0208057374588098e-32 + 1.2246467991473532e-16 * p_AA(0) - 5.9965918743193009e-28 * p_AA(1) - 2.2958363950258565e-43 * p_AA(2) + ((-4.8985871965894118e-17 - 4.8985871965894118e-17 * (pow(t(0), 2) * pow(t(1), 2)) + 4.8985871965894118e-17 * pow(t(0), 2) + 4.8985871965894118e-17 * pow(t(1), 2)) / (1 + (pow(t(0), 2) * pow(t(1), 2)) + pow(t(0), 2) + pow(t(1), 2))) + ((-2.639113852162544e-17 + 2.639113852162544e-17 * pow(t(0), 2)) / (1 + pow(t(0), 2))) + ((-9.9196390730935575e-18 - 9.9196390730935575e-18 * (pow(t(0), 2) * pow(t(1), 2)) + 9.9196390730935575e-18 * (pow(t(0), 2) * pow(t(1), 2) * pow(t(2), 2)) - 9.9196390730935575e-18 * (pow(t(0), 2) * pow(t(2), 2)) - 9.9196390730935575e-18 * (pow(t(1), 2) * pow(t(2), 2)) + 9.9196390730935575e-18 * pow(t(0), 2) + 9.9196390730935575e-18 * pow(t(1), 2) + 9.9196390730935575e-18 * pow(t(2), 2)) / (1 + (pow(t(0), 2) * pow(t(1), 2)) + (pow(t(0), 2) * pow(t(1), 2) * pow(t(2), 2)) + (pow(t(0), 2) * pow(t(2), 2)) + (pow(t(1), 2) * pow(t(2), 2)) + pow(t(0), 2) + pow(t(1), 2) + pow(t(2), 2))) + ((-3.7509155219653086e-32 + 3.7509155219653086e-32 * pow(t(1), 2)) / (1 + pow(t(1), 2))) + ((-7.5956039319797495e-33 - 7.5956039319797495e-33 * (pow(t(1), 2) * pow(t(2), 2)) + 7.5956039319797495e-33 * pow(t(1), 2) + 7.5956039319797495e-33 * pow(t(2), 2)) / (1 + (pow(t(1), 2) * pow(t(2), 2)) + pow(t(1), 2) + pow(t(2), 2))) + ((0.16200000000000001 * t(0) - 0.16200000000000001 * (t(0) * pow(t(1), 2)) + 0.16200000000000001 * (t(0) * pow(t(1), 2) * pow(t(2), 2)) - 0.16200000000000001 * (t(0) * pow(t(2), 2))) / (1 + (pow(t(0), 2) * pow(t(1), 2)) + (pow(t(0), 2) * pow(t(1), 2) * pow(t(2), 2)) + (pow(t(0), 2) * pow(t(2), 2)) + (pow(t(1), 2) * pow(t(2), 2)) + pow(t(0), 2) + pow(t(1), 2) + pow(t(2), 2))) + ((0.80000000000000004 * t(0) - 0.80000000000000004 * (t(0) * pow(t(1), 2))) / (1 + (pow(t(0), 2) * pow(t(1), 2)) + pow(t(0), 2) + pow(t(1), 2))) + (( - 0.80000000000000004 * t(1) + 0.80000000000000004 * (pow(t(0), 2) * t(1))) / (1 + (pow(t(0), 2) * pow(t(1), 2)) + pow(t(0), 2) + pow(t(1), 2))) + (( - 0.16200000000000001 * t(1) + 0.16200000000000001 * (pow(t(0), 2) * t(1)) - 0.16200000000000001 * (pow(t(0), 2) * t(1) * pow(t(2), 2)) + 0.16200000000000001 * (t(1) * pow(t(2), 2))) / (1 + (pow(t(0), 2) * pow(t(1), 2)) + (pow(t(0), 2) * pow(t(1), 2) * pow(t(2), 2)) + (pow(t(0), 2) * pow(t(2), 2)) + (pow(t(1), 2) * pow(t(2), 2)) + pow(t(0), 2) + pow(t(1), 2) + pow(t(2), 2))) + ((1.8603864085780093e-48 * t(2) - 1.8603864085780093e-48 * (pow(t(0), 2) * t(2))) / (1 + (pow(t(0), 2) * pow(t(2), 2)) + pow(t(0), 2) + pow(t(2), 2))) + ((0.16200000000000001 * t(2) + 0.16200000000000001 * (pow(t(0), 2) * pow(t(1), 2) * t(2)) - 0.16200000000000001 * (pow(t(0), 2) * t(2)) - 0.16200000000000001 * (pow(t(1), 2) * t(2))) / (1 + (pow(t(0), 2) * pow(t(1), 2)) + (pow(t(0), 2) * pow(t(1), 2) * pow(t(2), 2)) + (pow(t(0), 2) * pow(t(2), 2)) + (pow(t(1), 2) * pow(t(2), 2)) + pow(t(0), 2) + pow(t(1), 2) + pow(t(2), 2))) + (( - 4.8965888601467475e-12 * p_AA(0) + 4.8965888601467475e-12 * (pow(t(0), 2) * pow(t(1), 2) * pow(t(2), 2) * p_AA(0)) - 4.8965888601467475e-12 * (pow(t(0), 2) * pow(t(1), 2) * p_AA(0)) - 4.8965888601467475e-12 * (pow(t(0), 2) * pow(t(2), 2) * p_AA(0)) + 4.8965888601467475e-12 * (pow(t(0), 2) * p_AA(0)) - 4.8965888601467475e-12 * (pow(t(1), 2) * pow(t(2), 2) * p_AA(0)) + 4.8965888601467475e-12 * (pow(t(1), 2) * p_AA(0)) + 4.8965888601467475e-12 * (pow(t(2), 2) * p_AA(0))) / (1 + (pow(t(0), 2) * pow(t(1), 2)) + (pow(t(0), 2) * pow(t(1), 2) * pow(t(2), 2)) + (pow(t(0), 2) * pow(t(2), 2)) + (pow(t(1), 2) * pow(t(2), 2)) + pow(t(0), 2) + pow(t(1), 2) + pow(t(2), 2))) + (( - 9.3772888049132665e-32 * p_AA(0) + 9.3772888049132665e-32 * (pow(t(0), 2) * p_AA(0))) / (1 + pow(t(0), 2))) + (( - 5.6231773850688248e-59 * p_AA(0) - 5.6231773850688248e-59 * (pow(t(0), 2) * pow(t(2), 2) * p_AA(0)) + 5.6231773850688248e-59 * (pow(t(0), 2) * p_AA(0)) + 5.6231773850688248e-59 * (pow(t(2), 2) * p_AA(0))) / (1 + (pow(t(0), 2) * pow(t(2), 2)) + pow(t(0), 2) + pow(t(2), 2))) + ((7.3437070446781587e-44 * p_AA(0) - 7.3437070446781587e-44 * (pow(t(2), 2) * p_AA(0))) / (1 + pow(t(2), 2))) + ((1.2246467991473532e-16 * p_AA(0) + 1.2246467991473532e-16 * (pow(t(0), 2) * pow(t(1), 2) * p_AA(0)) - 1.2246467991473532e-16 * (pow(t(0), 2) * p_AA(0)) - 1.2246467991473532e-16 * (pow(t(1), 2) * p_AA(0))) / (1 + (pow(t(0), 2) * pow(t(1), 2)) + pow(t(0), 2) + pow(t(1), 2))) + (( - p_AA(1) + (pow(t(0), 2) * pow(t(1), 2) * pow(t(2), 2) * p_AA(1)) - (pow(t(0), 2) * pow(t(1), 2) * p_AA(1)) - (pow(t(0), 2) * pow(t(2), 2) * p_AA(1)) + (pow(t(0), 2) * p_AA(1)) - (pow(t(1), 2) * pow(t(2), 2) * p_AA(1)) + (pow(t(1), 2) * p_AA(1)) + (pow(t(2), 2) * p_AA(1))) / (1 + (pow(t(0), 2) * pow(t(1), 2)) + (pow(t(0), 2) * pow(t(1), 2) * pow(t(2), 2)) + (pow(t(0), 2) * pow(t(2), 2)) + (pow(t(1), 2) * pow(t(2), 2)) + pow(t(0), 2) + pow(t(1), 2) + pow(t(2), 2))) + (( - 5.9965918743193009e-28 * p_AA(1) - 5.9965918743193009e-28 * (pow(t(0), 2) * pow(t(1), 2) * p_AA(1)) + 5.9965918743193009e-28 * (pow(t(0), 2) * p_AA(1)) + 5.9965918743193009e-28 * (pow(t(1), 2) * p_AA(1))) / (1 + (pow(t(0), 2) * pow(t(1), 2)) + pow(t(0), 2) + pow(t(1), 2))) + (( - 1.1483866719617341e-47 * p_AA(1) - 1.1483866719617341e-47 * (pow(t(0), 2) * pow(t(2), 2) * p_AA(1)) + 1.1483866719617341e-47 * (pow(t(0), 2) * p_AA(1)) + 1.1483866719617341e-47 * (pow(t(2), 2) * p_AA(1))) / (1 + (pow(t(0), 2) * pow(t(2), 2)) + pow(t(0), 2) + pow(t(2), 2))) + ((3.5901594399289049e-47 * p_AA(1) + 3.5901594399289049e-47 * (pow(t(1), 2) * pow(t(2), 2) * p_AA(1)) - 3.5901594399289049e-47 * (pow(t(1), 2) * p_AA(1)) - 3.5901594399289049e-47 * (pow(t(2), 2) * p_AA(1))) / (1 + (pow(t(1), 2) * pow(t(2), 2)) + pow(t(1), 2) + pow(t(2), 2))) + ((4.5916727900517106e-43 * p_AA(1) - 4.5916727900517106e-43 * (pow(t(0), 2) * p_AA(1))) / (1 + pow(t(0), 2))) + ((1.4997597826618576e-32 * p_AA(1) - 1.4997597826618576e-32 * (pow(t(2), 2) * p_AA(1))) / (1 + pow(t(2), 2))) + (( - 5.0532154980743019e-16 * p_AA(2) + 5.0532154980743019e-16 * (pow(t(0), 2) * pow(t(1), 2) * pow(t(2), 2) * p_AA(2)) - 5.0532154980743019e-16 * (pow(t(0), 2) * pow(t(1), 2) * p_AA(2)) - 5.0532154980743019e-16 * (pow(t(0), 2) * pow(t(2), 2) * p_AA(2)) + 5.0532154980743019e-16 * (pow(t(0), 2) * p_AA(2)) - 5.0532154980743019e-16 * (pow(t(1), 2) * pow(t(2), 2) * p_AA(2)) + 5.0532154980743019e-16 * (pow(t(1), 2) * p_AA(2)) + 5.0532154980743019e-16 * (pow(t(2), 2) * p_AA(2))) / (1 + (pow(t(0), 2) * pow(t(1), 2)) + (pow(t(0), 2) * pow(t(1), 2) * pow(t(2), 2)) + (pow(t(0), 2) * pow(t(2), 2)) + (pow(t(1), 2) * pow(t(2), 2)) + pow(t(0), 2) + pow(t(1), 2) + pow(t(2), 2))) + (( - 9.3772888049132708e-32 * p_AA(2) - 9.3772888049132708e-32 * (pow(t(1), 2) * pow(t(2), 2) * p_AA(2)) + 9.3772888049132708e-32 * (pow(t(1), 2) * p_AA(2)) + 9.3772888049132708e-32 * (pow(t(2), 2) * p_AA(2))) / (1 + (pow(t(1), 2) * pow(t(2), 2)) + pow(t(1), 2) + pow(t(2), 2))) + (( - 2.2958363950258565e-43 * p_AA(2) - 2.2958363950258565e-43 * (pow(t(0), 2) * pow(t(1), 2) * p_AA(2)) + 2.2958363950258565e-43 * (pow(t(0), 2) * p_AA(2)) + 2.2958363950258565e-43 * (pow(t(1), 2) * p_AA(2))) / (1 + (pow(t(0), 2) * pow(t(1), 2)) + pow(t(0), 2) + pow(t(1), 2))) + (( - 4.861730685829017e-63 * p_AA(2) - 4.861730685829017e-63 * (pow(t(0), 2) * pow(t(2), 2) * p_AA(2)) + 4.861730685829017e-63 * (pow(t(0), 2) * p_AA(2)) + 4.861730685829017e-63 * (pow(t(2), 2) * p_AA(2))) / (1 + (pow(t(0), 2) * pow(t(2), 2)) + pow(t(0), 2) + pow(t(2), 2))) + ((1.7579534719706556e-58 * p_AA(2) - 1.7579534719706556e-58 * (pow(t(0), 2) * p_AA(2))) / (1 + pow(t(0), 2))) + ((5.4738221262688167e-48 * p_AA(2) - 5.4738221262688167e-48 * (pow(t(2), 2) * p_AA(2))) / (1 + pow(t(2), 2))) + (( - 3.967855629237423e-17 * (t(0) * t(1)) + 3.967855629237423e-17 * (t(0) * t(1) * pow(t(2), 2))) / (1 + (pow(t(0), 2) * pow(t(1), 2)) + (pow(t(0), 2) * pow(t(1), 2) * pow(t(2), 2)) + (pow(t(0), 2) * pow(t(2), 2)) + (pow(t(1), 2) * pow(t(2), 2)) + pow(t(0), 2) + pow(t(1), 2) + pow(t(2), 2))) + ((1.958635544058699e-11 * (t(0) * t(1) * pow(t(2), 2) * p_AA(0)) - 1.958635544058699e-11 * (t(0) * t(1) * p_AA(0))) / (1 + (pow(t(0), 2) * pow(t(1), 2)) + (pow(t(0), 2) * pow(t(1), 2) * pow(t(2), 2)) + (pow(t(0), 2) * pow(t(2), 2)) + (pow(t(1), 2) * pow(t(2), 2)) + pow(t(0), 2) + pow(t(1), 2) + pow(t(2), 2))) + ((4 * (t(0) * t(1) * pow(t(2), 2) * p_AA(1)) - 4 * (t(0) * t(1) * p_AA(1))) / (1 + (pow(t(0), 2) * pow(t(1), 2)) + (pow(t(0), 2) * pow(t(1), 2) * pow(t(2), 2)) + (pow(t(0), 2) * pow(t(2), 2)) + (pow(t(1), 2) * pow(t(2), 2)) + pow(t(0), 2) + pow(t(1), 2) + pow(t(2), 2))) + ((2.0212861992297208e-15 * (t(0) * t(1) * pow(t(2), 2) * p_AA(2)) - 2.0212861992297208e-15 * (t(0) * t(1) * p_AA(2))) / (1 + (pow(t(0), 2) * pow(t(1), 2)) + (pow(t(0), 2) * pow(t(1), 2) * pow(t(2), 2)) + (pow(t(0), 2) * pow(t(2), 2)) + (pow(t(1), 2) * pow(t(2), 2)) + pow(t(0), 2) + pow(t(1), 2) + pow(t(2), 2))) + (( - 3.967855629237423e-17 * (t(0) * pow(t(1), 2) * t(2)) + 3.967855629237423e-17 * (t(0) * t(2))) / (1 + (pow(t(0), 2) * pow(t(1), 2)) + (pow(t(0), 2) * pow(t(1), 2) * pow(t(2), 2)) + (pow(t(0), 2) * pow(t(2), 2)) + (pow(t(1), 2) * pow(t(2), 2)) + pow(t(0), 2) + pow(t(1), 2) + pow(t(2), 2))) + (( - 1.958635544058699e-11 * (t(0) * pow(t(1), 2) * t(2) * p_AA(0)) + 1.958635544058699e-11 * (t(0) * t(2) * p_AA(0))) / (1 + (pow(t(0), 2) * pow(t(1), 2)) + (pow(t(0), 2) * pow(t(1), 2) * pow(t(2), 2)) + (pow(t(0), 2) * pow(t(2), 2)) + (pow(t(1), 2) * pow(t(2), 2)) + pow(t(0), 2) + pow(t(1), 2) + pow(t(2), 2))) + (( - 4 * (t(0) * pow(t(1), 2) * t(2) * p_AA(1)) + 4 * (t(0) * t(2) * p_AA(1))) / (1 + (pow(t(0), 2) * pow(t(1), 2)) + (pow(t(0), 2) * pow(t(1), 2) * pow(t(2), 2)) + (pow(t(0), 2) * pow(t(2), 2)) + (pow(t(1), 2) * pow(t(2), 2)) + pow(t(0), 2) + pow(t(1), 2) + pow(t(2), 2))) + (( - 2.0212861992297208e-15 * (t(0) * pow(t(1), 2) * t(2) * p_AA(2)) + 2.0212861992297208e-15 * (t(0) * t(2) * p_AA(2))) / (1 + (pow(t(0), 2) * pow(t(1), 2)) + (pow(t(0), 2) * pow(t(1), 2) * pow(t(2), 2)) + (pow(t(0), 2) * pow(t(2), 2)) + (pow(t(1), 2) * pow(t(2), 2)) + pow(t(0), 2) + pow(t(1), 2) + pow(t(2), 2))) + (( - 1.1993183748638596e-27 * (t(0) * pow(t(1), 2) * pow(t(2), 2) * p_AA(0)) + 1.1993183748638596e-27 * (t(0) * pow(t(1), 2) * p_AA(0)) + 1.1993183748638596e-27 * (t(0) * pow(t(2), 2) * p_AA(0)) - 1.1993183748638596e-27 * (t(0) * p_AA(0))) / (1 + (pow(t(0), 2) * pow(t(1), 2)) + (pow(t(0), 2) * pow(t(1), 2) * pow(t(2), 2)) + (pow(t(0), 2) * pow(t(2), 2)) + (pow(t(1), 2) * pow(t(2), 2)) + pow(t(0), 2) + pow(t(1), 2) + pow(t(2), 2))) + (( - 1.0106430996148604e-15 * (t(0) * pow(t(1), 2) * pow(t(2), 2) * p_AA(1)) + 1.0106430996148604e-15 * (t(0) * pow(t(1), 2) * p_AA(1)) + 1.0106430996148604e-15 * (t(0) * pow(t(2), 2) * p_AA(1)) - 1.0106430996148604e-15 * (t(0) * p_AA(1))) / (1 + (pow(t(0), 2) * pow(t(1), 2)) + (pow(t(0), 2) * pow(t(1), 2) * pow(t(2), 2)) + (pow(t(0), 2) * pow(t(2), 2)) + (pow(t(1), 2) * pow(t(2), 2)) + pow(t(0), 2) + pow(t(1), 2) + pow(t(2), 2))) + ((2 * (t(0) * pow(t(1), 2) * pow(t(2), 2) * p_AA(2)) - 2 * (t(0) * pow(t(1), 2) * p_AA(2)) - 2 * (t(0) * pow(t(2), 2) * p_AA(2)) + 2 * (t(0) * p_AA(2))) / (1 + (pow(t(0), 2) * pow(t(1), 2)) + (pow(t(0), 2) * pow(t(1), 2) * pow(t(2), 2)) + (pow(t(0), 2) * pow(t(2), 2)) + (pow(t(1), 2) * pow(t(2), 2)) + pow(t(0), 2) + pow(t(1), 2) + pow(t(2), 2))) + (( - 9.183345580103426e-43 * (t(0) * pow(t(2), 2) * p_AA(0)) + 9.183345580103426e-43 * (t(0) * p_AA(0))) / (1 + (pow(t(0), 2) * pow(t(2), 2)) + pow(t(0), 2) + pow(t(2), 2))) + (( - 1.8754577609826542e-31 * (t(0) * pow(t(2), 2) * p_AA(1)) + 1.8754577609826542e-31 * (t(0) * p_AA(1))) / (1 + (pow(t(0), 2) * pow(t(2), 2)) + pow(t(0), 2) + pow(t(2), 2))) + (( - 8.7581154020301067e-47 * (t(0) * pow(t(2), 2) * p_AA(2)) + 8.7581154020301067e-47 * (t(0) * p_AA(2))) / (1 + (pow(t(0), 2) * pow(t(2), 2)) + pow(t(0), 2) + pow(t(2), 2))) + ((3.967855629237423e-17 * (pow(t(0), 2) * t(1) * t(2)) - 3.967855629237423e-17 * (t(1) * t(2))) / (1 + (pow(t(0), 2) * pow(t(1), 2)) + (pow(t(0), 2) * pow(t(1), 2) * pow(t(2), 2)) + (pow(t(0), 2) * pow(t(2), 2)) + (pow(t(1), 2) * pow(t(2), 2)) + pow(t(0), 2) + pow(t(1), 2) + pow(t(2), 2))) + ((1.958635544058699e-11 * (pow(t(0), 2) * t(1) * t(2) * p_AA(0)) - 1.958635544058699e-11 * (t(1) * t(2) * p_AA(0))) / (1 + (pow(t(0), 2) * pow(t(1), 2)) + (pow(t(0), 2) * pow(t(1), 2) * pow(t(2), 2)) + (pow(t(0), 2) * pow(t(2), 2)) + (pow(t(1), 2) * pow(t(2), 2)) + pow(t(0), 2) + pow(t(1), 2) + pow(t(2), 2))) + ((4 * (pow(t(0), 2) * t(1) * t(2) * p_AA(1)) - 4 * (t(1) * t(2) * p_AA(1))) / (1 + (pow(t(0), 2) * pow(t(1), 2)) + (pow(t(0), 2) * pow(t(1), 2) * pow(t(2), 2)) + (pow(t(0), 2) * pow(t(2), 2)) + (pow(t(1), 2) * pow(t(2), 2)) + pow(t(0), 2) + pow(t(1), 2) + pow(t(2), 2))) + ((2.0212861992297208e-15 * (pow(t(0), 2) * t(1) * t(2) * p_AA(2)) - 2.0212861992297208e-15 * (t(1) * t(2) * p_AA(2))) / (1 + (pow(t(0), 2) * pow(t(1), 2)) + (pow(t(0), 2) * pow(t(1), 2) * pow(t(2), 2)) + (pow(t(0), 2) * pow(t(2), 2)) + (pow(t(1), 2) * pow(t(2), 2)) + pow(t(0), 2) + pow(t(1), 2) + pow(t(2), 2))) + ((1.1993183748638596e-27 * (pow(t(0), 2) * t(1) * pow(t(2), 2) * p_AA(0)) - 1.1993183748638596e-27 * (pow(t(0), 2) * t(1) * p_AA(0)) - 1.1993183748638596e-27 * (t(1) * pow(t(2), 2) * p_AA(0)) + 1.1993183748638596e-27 * (t(1) * p_AA(0))) / (1 + (pow(t(0), 2) * pow(t(1), 2)) + (pow(t(0), 2) * pow(t(1), 2) * pow(t(2), 2)) + (pow(t(0), 2) * pow(t(2), 2)) + (pow(t(1), 2) * pow(t(2), 2)) + pow(t(0), 2) + pow(t(1), 2) + pow(t(2), 2))) + ((1.0106430996148604e-15 * (pow(t(0), 2) * t(1) * pow(t(2), 2) * p_AA(1)) - 1.0106430996148604e-15 * (pow(t(0), 2) * t(1) * p_AA(1)) - 1.0106430996148604e-15 * (t(1) * pow(t(2), 2) * p_AA(1)) + 1.0106430996148604e-15 * (t(1) * p_AA(1))) / (1 + (pow(t(0), 2) * pow(t(1), 2)) + (pow(t(0), 2) * pow(t(1), 2) * pow(t(2), 2)) + (pow(t(0), 2) * pow(t(2), 2)) + (pow(t(1), 2) * pow(t(2), 2)) + pow(t(0), 2) + pow(t(1), 2) + pow(t(2), 2))) + (( - 2 * (pow(t(0), 2) * t(1) * pow(t(2), 2) * p_AA(2)) + 2 * (pow(t(0), 2) * t(1) * p_AA(2)) + 2 * (t(1) * pow(t(2), 2) * p_AA(2)) - 2 * (t(1) * p_AA(2))) / (1 + (pow(t(0), 2) * pow(t(1), 2)) + (pow(t(0), 2) * pow(t(1), 2) * pow(t(2), 2)) + (pow(t(0), 2) * pow(t(2), 2)) + (pow(t(1), 2) * pow(t(2), 2)) + pow(t(0), 2) + pow(t(1), 2) + pow(t(2), 2))) + (( - 1.1993183748638596e-27 * (pow(t(0), 2) * pow(t(1), 2) * t(2) * p_AA(0)) + 1.1993183748638596e-27 * (pow(t(0), 2) * t(2) * p_AA(0)) + 1.1993183748638596e-27 * (pow(t(1), 2) * t(2) * p_AA(0)) - 1.1993183748638596e-27 * (t(2) * p_AA(0))) / (1 + (pow(t(0), 2) * pow(t(1), 2)) + (pow(t(0), 2) * pow(t(1), 2) * pow(t(2), 2)) + (pow(t(0), 2) * pow(t(2), 2)) + (pow(t(1), 2) * pow(t(2), 2)) + pow(t(0), 2) + pow(t(1), 2) + pow(t(2), 2))) + (( - 1.0106430996148604e-15 * (pow(t(0), 2) * pow(t(1), 2) * t(2) * p_AA(1)) + 1.0106430996148604e-15 * (pow(t(0), 2) * t(2) * p_AA(1)) + 1.0106430996148604e-15 * (pow(t(1), 2) * t(2) * p_AA(1)) - 1.0106430996148604e-15 * (t(2) * p_AA(1))) / (1 + (pow(t(0), 2) * pow(t(1), 2)) + (pow(t(0), 2) * pow(t(1), 2) * pow(t(2), 2)) + (pow(t(0), 2) * pow(t(2), 2)) + (pow(t(1), 2) * pow(t(2), 2)) + pow(t(0), 2) + pow(t(1), 2) + pow(t(2), 2))) + ((2 * (pow(t(0), 2) * pow(t(1), 2) * t(2) * p_AA(2)) - 2 * (pow(t(0), 2) * t(2) * p_AA(2)) - 2 * (pow(t(1), 2) * t(2) * p_AA(2)) + 2 * (t(2) * p_AA(2))) / (1 + (pow(t(0), 2) * pow(t(1), 2)) + (pow(t(0), 2) * pow(t(1), 2) * pow(t(2), 2)) + (pow(t(0), 2) * pow(t(2), 2)) + (pow(t(1), 2) * pow(t(2), 2)) + pow(t(0), 2) + pow(t(1), 2) + pow(t(2), 2))) + ((9.7234613716580339e-63 * (pow(t(0), 2) * t(2) * p_AA(1)) - 9.7234613716580339e-63 * (t(2) * p_AA(1))) / (1 + (pow(t(0), 2) * pow(t(2), 2)) + pow(t(0), 2) + pow(t(2), 2))) + (( - 2.2967733439234683e-47 * (pow(t(0), 2) * t(2) * p_AA(2)) + 2.2967733439234683e-47 * (t(2) * p_AA(2))) / (1 + (pow(t(0), 2) * pow(t(2), 2)) + pow(t(0), 2) + pow(t(2), 2))) + (( - 9.183345580103426e-43 * (t(1) * pow(t(2), 2) * p_AA(0)) + 9.183345580103426e-43 * (t(1) * p_AA(0))) / (1 + (pow(t(1), 2) * pow(t(2), 2)) + pow(t(1), 2) + pow(t(2), 2))) + (( - 1.8754577609826542e-31 * (t(1) * pow(t(2), 2) * p_AA(1)) + 1.8754577609826542e-31 * (t(1) * p_AA(1))) / (1 + (pow(t(1), 2) * pow(t(2), 2)) + pow(t(1), 2) + pow(t(2), 2))) + (( - 7.1803188798578097e-47 * (t(1) * pow(t(2), 2) * p_AA(2)) + 7.1803188798578097e-47 * (t(1) * p_AA(2))) / (1 + (pow(t(1), 2) * pow(t(2), 2)) + pow(t(1), 2) + pow(t(2), 2))) + ((9.183345580103426e-43 * (pow(t(1), 2) * t(2) * p_AA(0)) - 9.183345580103426e-43 * (t(2) * p_AA(0))) / (1 + (pow(t(1), 2) * pow(t(2), 2)) + pow(t(1), 2) + pow(t(2), 2))) + ((1.8754577609826542e-31 * (pow(t(1), 2) * t(2) * p_AA(1)) - 1.8754577609826542e-31 * (t(2) * p_AA(1))) / (1 + (pow(t(1), 2) * pow(t(2), 2)) + pow(t(1), 2) + pow(t(2), 2))) + ((7.1803188798578097e-47 * (pow(t(1), 2) * t(2) * p_AA(2)) - 7.1803188798578097e-47 * (t(2) * p_AA(2))) / (1 + (pow(t(1), 2) * pow(t(2), 2)) + pow(t(1), 2) + pow(t(2), 2))) + ((-4.0425723984594415e-15 * t(0) * t(1) * t(2) * p_AA(1)) / (1 + (pow(t(0), 2) * pow(t(1), 2)) + (pow(t(0), 2) * pow(t(1), 2) * pow(t(2), 2)) + (pow(t(0), 2) * pow(t(2), 2)) + (pow(t(1), 2) * pow(t(2), 2)) + pow(t(0), 2) + pow(t(1), 2) + pow(t(2), 2))) + ((-1.9594348786357647e-16 * t(0) * t(1)) / (1 + (pow(t(0), 2) * pow(t(1), 2)) + pow(t(0), 2) + pow(t(1), 2))) + ((-7.498770736588891e-27 * t(0) * p_AA(1)) / (1 + pow(t(0), 2))) + ((-4.7972734994554386e-27 * t(0) * t(1) * t(2) * p_AA(0)) / (1 + (pow(t(0), 2) * pow(t(1), 2)) + (pow(t(0), 2) * pow(t(1), 2) * pow(t(2), 2)) + (pow(t(0), 2) * pow(t(2), 2)) + (pow(t(1), 2) * pow(t(2), 2)) + pow(t(0), 2) + pow(t(1), 2) + pow(t(2), 2))) + ((-2.3986367497277204e-27 * t(0) * t(1) * p_AA(1)) / (1 + (pow(t(0), 2) * pow(t(1), 2)) + pow(t(0), 2) + pow(t(1), 2))) + ((-3.7509155219653083e-31 * t(0) * t(2) * p_AA(2)) / (1 + (pow(t(0), 2) * pow(t(2), 2)) + pow(t(0), 2) + pow(t(2), 2))) + ((-3.7509155219653083e-31 * t(1) * t(2) * p_AA(2)) / (1 + (pow(t(1), 2) * pow(t(2), 2)) + pow(t(1), 2) + pow(t(2), 2))) + ((-3.0382415727918998e-32 * t(0) * t(2)) / (1 + (pow(t(0), 2) * pow(t(2), 2)) + pow(t(0), 2) + pow(t(2), 2))) + ((-3.0382415727918998e-32 * t(1) * t(2)) / (1 + (pow(t(1), 2) * pow(t(2), 2)) + pow(t(1), 2) + pow(t(2), 2))) + ((-2.9995195653237152e-32 * t(2) * p_AA(2)) / (1 + pow(t(2), 2))) + ((-2.4296108479122095e-33 * t(2)) / (1 + pow(t(2), 2))) + ((-2.8709558922533615e-42 * t(0) * p_AA(2)) / (1 + pow(t(0), 2))) + ((-9.183345580103426e-43 * t(0) * t(1) * p_AA(2)) / (1 + (pow(t(0), 2) * pow(t(1), 2)) + pow(t(0), 2) + pow(t(1), 2))) + ((-2.2967733439234693e-47 * t(1) * p_AA(0)) / (1 + pow(t(1), 2))) + ((4.3057441849976806e-74 * t(1) * p_AA(2)) / (1 + pow(t(1), 2))) + ((1.8949679018777005e-63 * t(1)) / (1 + pow(t(1), 2))) + ((1.1246354770137653e-58 * t(1) * p_AA(1)) / (1 + pow(t(1), 2))) + ((1.0947644252537633e-47 * t(2) * p_AA(1)) / (1 + pow(t(2), 2))) + ((1.4360637759715619e-46 * t(1) * t(2) * p_AA(1)) / (1 + (pow(t(1), 2) * pow(t(2), 2)) + pow(t(1), 2) + pow(t(2), 2))) + ((1.7516230804060213e-46 * t(0) * t(2) * p_AA(1)) / (1 + (pow(t(0), 2) * pow(t(2), 2)) + pow(t(0), 2) + pow(t(2), 2))) + ((4.8985871965894128e-16 * t(0) * t(1) * p_AA(0)) / (1 + (pow(t(0), 2) * pow(t(1), 2)) + pow(t(0), 2) + pow(t(1), 2))) + ((1.5314274795707798e-15 * t(0) * p_AA(0)) / (1 + pow(t(0), 2))) + ((0.64800000000000002 * t(0) * t(1) * t(2)) / (1 + (pow(t(0), 2) * pow(t(1), 2)) + (pow(t(0), 2) * pow(t(1), 2) * pow(t(2), 2)) + (pow(t(0), 2) * pow(t(2), 2)) + (pow(t(1), 2) * pow(t(2), 2)) + pow(t(0), 2) + pow(t(1), 2) + pow(t(2), 2))) + ((0.83999999999999997 * t(0)) / (1 + pow(t(0), 2))) + ((8 * t(0) * t(1) * t(2) * p_AA(2)) / (1 + (pow(t(0), 2) * pow(t(1), 2)) + (pow(t(0), 2) * pow(t(1), 2) * pow(t(2), 2)) + (pow(t(0), 2) * pow(t(2), 2)) + (pow(t(1), 2) * pow(t(2), 2)) + pow(t(0), 2) + pow(t(1), 2) + pow(t(2), 2))))\n"
     ]
    }
   ],
   "source": []
  },
  {
   "cell_type": "code",
   "execution_count": 80,
   "metadata": {},
   "outputs": [
    {
     "name": "stdout",
     "output_type": "stream",
     "text": [
      "(<function _reduce_mul at 0x7fa885ba6e50>, [1.2246467991473532e-16, <Expression \"p_AA(0)\">, <Expression \"((1 - pow(t(0), 2)) / (1 + pow(t(0), 2)))\">, <Expression \"((1 - pow(t(1), 2)) / (1 + pow(t(1), 2)))\">])\n"
     ]
    }
   ],
   "source": [
    "import operator\n",
    "def clear_common_denominator(expr, denominator):\n",
    "    \"function makes no check that you have passed a valid common denominator actually\"\n",
    "    ctor, old_args = expr.Deconstruct()\n",
    "    if ctor == sym._reduce_add:\n",
    "        ret = 0\n",
    "        for e in old_args:\n",
    "            ret += clear_common_denominator(e)\n",
    "        #call on each subexpression\n",
    "        return ret\n",
    "    if ctor == operator.truediv:\n",
    "        #there is a denominator here\n",
    "        ret = 1\n",
    "    if ctor == sym._reduce_mul:\n",
    "        ret = 1\n",
    "        for e in old_args:\n",
    "            #TODO traverse this tree\n",
    "            pass\n",
    "            \n",
    "        \n",
    "    assert isinstance(expr, sym.Expression), expr\n",
    "    for old, new in rules:\n",
    "        if expr.EqualTo(old):\n",
    "            return new\n",
    "    \n",
    "    new_args = [_xreplace(e, rules) for e in old_args]\n",
    "    return ctor(*new_args)\n",
    "ctor, old_args = expr_in_t.Deconstruct()\n",
    "print(old_args[5].Deconstruct())\n",
    "# print(old_args[4].Deconstruct()[1][2].Deconstruct())"
   ]
  },
  {
   "cell_type": "code",
   "execution_count": null,
   "metadata": {},
   "outputs": [],
   "source": []
  },
  {
   "cell_type": "code",
   "execution_count": 8,
   "metadata": {},
   "outputs": [],
   "source": [
    "\n",
    "\n",
    "def test_xreplace():\n",
    "        x, y, z, q, t = [sym.Variable(ch) for ch in \"xyzqt\"]\n",
    "        expr = 2*x*y*z*sym.sin(q)\n",
    "        print(expr)\n",
    "        rules = [(sym.sin(q), (2*t) / (1+t**2))]\n",
    "        new_expr = _xreplace(expr, rules)\n",
    "        print(new_expr)\n",
    "        sym.assertEqual(\n",
    "            str(new_expr),\n",
    "            \"(2 * x * y * z * ((2 * t) / (1 + pow(t, 2))))\")"
   ]
  },
  {
   "cell_type": "code",
   "execution_count": 9,
   "metadata": {},
   "outputs": [
    {
     "name": "stdout",
     "output_type": "stream",
     "text": [
      "(2 * x * y * z * sin(q))\n"
     ]
    },
    {
     "ename": "AttributeError",
     "evalue": "module 'pydrake.symbolic' has no attribute '_xreplace'",
     "output_type": "error",
     "traceback": [
      "\u001b[0;31m---------------------------------------------------------------------------\u001b[0m",
      "\u001b[0;31mAttributeError\u001b[0m                            Traceback (most recent call last)",
      "\u001b[0;32m<ipython-input-9-3ec790b88e09>\u001b[0m in \u001b[0;36m<module>\u001b[0;34m\u001b[0m\n\u001b[0;32m----> 1\u001b[0;31m \u001b[0mtest_xreplace\u001b[0m\u001b[0;34m(\u001b[0m\u001b[0;34m)\u001b[0m\u001b[0;34m\u001b[0m\u001b[0;34m\u001b[0m\u001b[0m\n\u001b[0m",
      "\u001b[0;32m<ipython-input-8-0bfc9d29fac6>\u001b[0m in \u001b[0;36mtest_xreplace\u001b[0;34m()\u001b[0m\n\u001b[1;32m     15\u001b[0m         \u001b[0mprint\u001b[0m\u001b[0;34m(\u001b[0m\u001b[0mexpr\u001b[0m\u001b[0;34m)\u001b[0m\u001b[0;34m\u001b[0m\u001b[0;34m\u001b[0m\u001b[0m\n\u001b[1;32m     16\u001b[0m         \u001b[0mrules\u001b[0m \u001b[0;34m=\u001b[0m \u001b[0;34m[\u001b[0m\u001b[0;34m(\u001b[0m\u001b[0msym\u001b[0m\u001b[0;34m.\u001b[0m\u001b[0msin\u001b[0m\u001b[0;34m(\u001b[0m\u001b[0mq\u001b[0m\u001b[0;34m)\u001b[0m\u001b[0;34m,\u001b[0m \u001b[0;34m(\u001b[0m\u001b[0;36m2\u001b[0m\u001b[0;34m*\u001b[0m\u001b[0mt\u001b[0m\u001b[0;34m)\u001b[0m \u001b[0;34m/\u001b[0m \u001b[0;34m(\u001b[0m\u001b[0;36m1\u001b[0m\u001b[0;34m+\u001b[0m\u001b[0mt\u001b[0m\u001b[0;34m**\u001b[0m\u001b[0;36m2\u001b[0m\u001b[0;34m)\u001b[0m\u001b[0;34m)\u001b[0m\u001b[0;34m]\u001b[0m\u001b[0;34m\u001b[0m\u001b[0;34m\u001b[0m\u001b[0m\n\u001b[0;32m---> 17\u001b[0;31m         \u001b[0mnew_expr\u001b[0m \u001b[0;34m=\u001b[0m \u001b[0msym\u001b[0m\u001b[0;34m.\u001b[0m\u001b[0m_xreplace\u001b[0m\u001b[0;34m(\u001b[0m\u001b[0mexpr\u001b[0m\u001b[0;34m,\u001b[0m \u001b[0mrules\u001b[0m\u001b[0;34m)\u001b[0m\u001b[0;34m\u001b[0m\u001b[0;34m\u001b[0m\u001b[0m\n\u001b[0m\u001b[1;32m     18\u001b[0m         \u001b[0mprint\u001b[0m\u001b[0;34m(\u001b[0m\u001b[0mnew_expr\u001b[0m\u001b[0;34m)\u001b[0m\u001b[0;34m\u001b[0m\u001b[0;34m\u001b[0m\u001b[0m\n\u001b[1;32m     19\u001b[0m         sym.assertEqual(\n",
      "\u001b[0;31mAttributeError\u001b[0m: module 'pydrake.symbolic' has no attribute '_xreplace'"
     ]
    }
   ],
   "source": [
    "test_xreplace()"
   ]
  },
  {
   "cell_type": "code",
   "execution_count": null,
   "metadata": {},
   "outputs": [],
   "source": []
  }
 ],
 "metadata": {
  "kernelspec": {
   "display_name": "Python 3",
   "language": "python",
   "name": "python3"
  },
  "language_info": {
   "codemirror_mode": {
    "name": "ipython",
    "version": 3
   },
   "file_extension": ".py",
   "mimetype": "text/x-python",
   "name": "python",
   "nbconvert_exporter": "python",
   "pygments_lexer": "ipython3",
   "version": "3.8.10"
  }
 },
 "nbformat": 4,
 "nbformat_minor": 1
}
