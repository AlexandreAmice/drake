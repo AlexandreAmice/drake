{
 "cells": [
  {
   "cell_type": "code",
   "execution_count": 86,
   "metadata": {},
   "outputs": [],
   "source": [
    "%load_ext autoreload"
   ]
  },
  {
   "cell_type": "code",
   "execution_count": 1,
   "metadata": {},
   "outputs": [],
   "source": [
    "import numpy as np\n",
    "import os\n",
    "import mcubes\n",
    "import meshcat\n",
    "import pydrake\n",
    "from pydrake.geometry import SceneGraph\n",
    "from pydrake.systems.framework import DiagramBuilder\n",
    "from pydrake.common import FindResourceOrThrow\n",
    "from pydrake.multibody.plant import MultibodyPlant, AddMultibodyPlantSceneGraph\n",
    "from pydrake.multibody.parsing import Parser, LoadModelDirectives, ProcessModelDirectives\n",
    "from pydrake.multibody.tree import RevoluteJoint\n",
    "from pydrake.all import ConnectMeshcatVisualizer, InverseKinematics, RigidTransform, RotationMatrix\n",
    "from pydrake.all import BsplineTrajectoryThroughUnionOfHPolyhedra, IrisInConfigurationSpace, IrisOptions, Rgba\n",
    "import time\n",
    "from meshcat import Visualizer\n",
    "from functools import partial\n",
    "\n",
    "import ipywidgets as widgets\n",
    "from IPython.display import display\n",
    "\n",
    "from pydrake.all import MeshcatVisualizerCpp, MeshcatVisualizerParams, Role\n",
    "\n",
    "from symbolic_parsing_helpers import generate_rationalize_trig_expr_rules\n",
    "from symbolic_parsing_helpers import xreplace\n",
    "from symbolic_parsing_helpers import NotRationalFunctionException\n",
    "# from symbolic_parsing_helpers import rationalize_trig_expr\n",
    "from pydrake.all import RationalFunction\n",
    "\n",
    "\n",
    "from pydrake.all import (\n",
    "    ConvexSet, HPolyhedron, Hyperellipsoid,\n",
    "    MathematicalProgram, Solve, le, IpoptSolver,\n",
    "    Role, Sphere,\n",
    "    Iris, IrisOptions, MakeIrisObstacles, Variable\n",
    ")\n",
    "from pydrake.all import (\n",
    "    eq, SnoptSolver,\n",
    "    Sphere, Ellipsoid, GeometrySet,\n",
    "    RigidBody_, AutoDiffXd, initializeAutoDiff,\n",
    ")\n",
    "\n",
    "import pydrake.symbolic as sym\n",
    "\n",
    "from meshcat import Visualizer\n",
    "\n",
    "# Setup meshcat\n",
    "from meshcat.servers.zmqserver import start_zmq_server_as_subprocess\n",
    "proc, zmq_url, web_url = start_zmq_server_as_subprocess(server_args=[])\n",
    "\n",
    "# Sporadically need to run `pkill -f meshcat`\n",
    "\n",
    "from symbolic_parsing_helpers import generate_rationalize_trig_expr_rules\n",
    "from symbolic_parsing_helpers import xreplace\n",
    "from symbolic_parsing_helpers import NotRationalFunctionException\n",
    "# from symbolic_parsing_helpers import rationalize_trig_expr\n",
    "from pydrake.all import RationalFunction"
   ]
  },
  {
   "cell_type": "code",
   "execution_count": 2,
   "metadata": {},
   "outputs": [],
   "source": [
    "# Setup meshcat\n",
    "from meshcat.servers.zmqserver import start_zmq_server_as_subprocess\n",
    "proc, zmq_url, web_url = start_zmq_server_as_subprocess(server_args=[])\n",
    "proc2, zmq_url2, web_url2 = start_zmq_server_as_subprocess(server_args=[])"
   ]
  },
  {
   "cell_type": "markdown",
   "metadata": {},
   "source": [
    "# Construct Rational Kinematics"
   ]
  },
  {
   "cell_type": "code",
   "execution_count": 3,
   "metadata": {},
   "outputs": [
    {
     "ename": "NameError",
     "evalue": "name 'plant' is not defined",
     "output_type": "error",
     "traceback": [
      "\u001b[0;31m---------------------------------------------------------------------------\u001b[0m",
      "\u001b[0;31mNameError\u001b[0m                                 Traceback (most recent call last)",
      "\u001b[0;32m<ipython-input-3-c118c9bd1944>\u001b[0m in \u001b[0;36m<module>\u001b[0;34m\u001b[0m\n\u001b[1;32m      1\u001b[0m \u001b[0;32mfrom\u001b[0m \u001b[0mpydrake\u001b[0m\u001b[0;34m.\u001b[0m\u001b[0mall\u001b[0m \u001b[0;32mimport\u001b[0m \u001b[0mRationalForwardKinematics\u001b[0m\u001b[0;34m\u001b[0m\u001b[0;34m\u001b[0m\u001b[0m\n\u001b[0;32m----> 2\u001b[0;31m \u001b[0mforward_kin\u001b[0m \u001b[0;34m=\u001b[0m \u001b[0mRationalForwardKinematics\u001b[0m\u001b[0;34m(\u001b[0m\u001b[0mplant\u001b[0m\u001b[0;34m)\u001b[0m\u001b[0;34m\u001b[0m\u001b[0;34m\u001b[0m\u001b[0m\n\u001b[0m\u001b[1;32m      3\u001b[0m \u001b[0mt\u001b[0m \u001b[0;34m=\u001b[0m \u001b[0mforward_kin\u001b[0m\u001b[0;34m.\u001b[0m\u001b[0mt\u001b[0m\u001b[0;34m(\u001b[0m\u001b[0;34m)\u001b[0m\u001b[0;34m\u001b[0m\u001b[0;34m\u001b[0m\u001b[0m\n\u001b[1;32m      4\u001b[0m \u001b[0mq_star\u001b[0m \u001b[0;34m=\u001b[0m \u001b[0mnp\u001b[0m\u001b[0;34m.\u001b[0m\u001b[0mzeros\u001b[0m\u001b[0;34m(\u001b[0m\u001b[0mforward_kin\u001b[0m\u001b[0;34m.\u001b[0m\u001b[0mt\u001b[0m\u001b[0;34m(\u001b[0m\u001b[0;34m)\u001b[0m\u001b[0;34m.\u001b[0m\u001b[0mshape\u001b[0m\u001b[0;34m[\u001b[0m\u001b[0;36m0\u001b[0m\u001b[0;34m]\u001b[0m\u001b[0;34m)\u001b[0m\u001b[0;34m\u001b[0m\u001b[0;34m\u001b[0m\u001b[0m\n\u001b[1;32m      5\u001b[0m \u001b[0;32mdef\u001b[0m \u001b[0mconvert_RationalForwardPoseList_to_TransformExpressionList\u001b[0m\u001b[0;34m(\u001b[0m\u001b[0mpose_list\u001b[0m\u001b[0;34m)\u001b[0m\u001b[0;34m:\u001b[0m\u001b[0;34m\u001b[0m\u001b[0;34m\u001b[0m\u001b[0m\n",
      "\u001b[0;31mNameError\u001b[0m: name 'plant' is not defined"
     ]
    }
   ],
   "source": [
    "from pydrake.all import RationalForwardKinematics\n",
    "forward_kin = RationalForwardKinematics(plant)\n",
    "t = forward_kin.t()\n",
    "q_star = np.zeros(forward_kin.t().shape[0])\n",
    "def convert_RationalForwardPoseList_to_TransformExpressionList(pose_list):\n",
    "    ret = []\n",
    "    for p in pose_list:\n",
    "        ret.append(p.asRigidTransformExpr())\n",
    "    return ret\n"
   ]
  },
  {
   "cell_type": "code",
   "execution_count": 6,
   "metadata": {},
   "outputs": [],
   "source": [
    "#settings\n",
    "q0 = [0.0, 0.0, 0.0]\n",
    "q_low = [-1.7,-1.7, -2.0]\n",
    "q_high = [1.7, 1.7, 2.0]\n",
    "\n",
    "def convert_t_to_q(t):\n",
    "    q =np.arctan2(2*t/(1+t**2), (1-t**2)/(1+t**2))\n",
    "    return q\n",
    "\n",
    "\n",
    "def convert_q_to_t(q):\n",
    "    t = np.sin(q)/(1+np.cos(q))\n",
    "    return t\n",
    "\n",
    "t_low = convert_q_to_t(q_low)\n",
    "t_high = convert_q_to_t(q_high)\n",
    "\n",
    "#marching cubes\n",
    "q_low_mc = q_low.copy()\n",
    "q_high_mc =  q_high.copy()\n",
    "N = 70"
   ]
  },
  {
   "cell_type": "code",
   "execution_count": 7,
   "metadata": {
    "scrolled": false
   },
   "outputs": [
    {
     "name": "stdout",
     "output_type": "stream",
     "text": [
      "You can open the visualizer by visiting the following URL:\n",
      "http://127.0.0.1:7010/static/\n",
      "You can open the visualizer by visiting the following URL:\n",
      "http://127.0.0.1:7011/static/\n",
      "Connecting to meshcat-server at zmq_url=tcp://127.0.0.1:6011...\n",
      "You can open the visualizer by visiting the following URL:\n",
      "http://127.0.0.1:7010/static/\n",
      "Connected to meshcat-server.\n"
     ]
    }
   ],
   "source": [
    "vis = Visualizer(zmq_url=zmq_url)\n",
    "vis.delete()\n",
    "vis2 = Visualizer(zmq_url=zmq_url2)\n",
    "vis2.delete()\n",
    "\n",
    "builder = DiagramBuilder()\n",
    "plant, scene_graph = AddMultibodyPlantSceneGraph(builder, time_step=0.001)\n",
    "parser = Parser(plant)\n",
    "tworob_asset = FindResourceOrThrow(\"drake/sandbox/assets/doublerob.urdf\")\n",
    "#two_dof_asset = FindResourceOrThrow(\"drake/sandbox/assets/planar2dof.urdf\")\n",
    "box_asset = FindResourceOrThrow(\"drake/sandbox/assets/box.urdf\")\n",
    "\n",
    "models =[]\n",
    "models.append(parser.AddModelFromFile(tworob_asset))\n",
    "#models.append(parser.AddModelFromFile(one_dof_asset))\n",
    "models.append(parser.AddModelFromFile(box_asset))\n",
    "\n",
    "idx = 0\n",
    "for model in models:\n",
    "    for joint_index in plant.GetJointIndices(model):\n",
    "        joint = plant.get_mutable_joint(joint_index)\n",
    "        if isinstance(joint, RevoluteJoint):\n",
    "            joint.set_default_angle(q0[idx])\n",
    "            idx += 1\n",
    "            \n",
    "locs = [[0.,0.,0.],[0.,0.,0.]]\n",
    "idx = 0\n",
    "for model in models:\n",
    "    plant.WeldFrames(plant.world_frame(), plant.GetFrameByName(\"base\", model), RigidTransform(locs[idx]))\n",
    "    idx+=1\n",
    "\n",
    "plant.Finalize()\n",
    "\n",
    "visualizer = ConnectMeshcatVisualizer(builder, scene_graph, zmq_url=zmq_url, delete_prefix_on_load=False, )\n",
    "\n",
    "diagram = builder.Build()\n",
    "visualizer.load()\n",
    "context = diagram.CreateDefaultContext()\n",
    "plant_context = plant.GetMyContextFromRoot(context)\n",
    "diagram.Publish(context)\n",
    "\n",
    "joints = []\n",
    "idx = 0\n",
    "for model in models:\n",
    "    jointindx = plant.GetJointIndices(model)\n",
    "    for j in jointindx:\n",
    "        joint = plant.get_mutable_joint(j)\n",
    "        if isinstance(joint, RevoluteJoint):\n",
    "            joints.append(joint)\n",
    "            joints[-1].set_position_limits(lower_limits= np.array([q_low[idx]]), upper_limits= np.array([np.array([q_high[idx]])]))\n",
    "            idx +=1\n",
    "        \n",
    "    \n",
    "def set_joint_ang(val, idx):\n",
    "    joints[idx].set_angle(plant_context, val)\n",
    "    \n",
    "def set_joint_angles(vals):\n",
    "    joints[0].set_angle(plant_context, vals[0])\n",
    "    joints[1].set_angle(plant_context, vals[1])\n",
    "    joints[2].set_angle(plant_context, vals[2])\n",
    "    \n",
    "ik = InverseKinematics(plant, plant_context)\n",
    "collision_constraint = ik.AddMinimumDistanceConstraint(0.001, 0.01)\n",
    "\n",
    "\n",
    "def eval_cons(q0, q1, q2, c, tol):\n",
    "        return 1-1*float(c.evaluator().CheckSatisfied([q0, q1, q2], tol))\n",
    "    \n",
    "col_func_handle = partial(eval_cons, c=collision_constraint, tol=0.01)\n",
    "\n",
    "\n",
    "def eval_cons_rational(t0, t1, t2, c, tol):\n",
    "        q = convert_t_to_q(np.array([t0, t1, t2])) \n",
    "        return 1-1*float(c.evaluator().CheckSatisfied(q, tol))\n",
    "\n",
    "col_func_handle_rational = partial(eval_cons_rational, c=collision_constraint, tol=0.01)\n",
    "\n",
    "\n",
    "def showres(q):\n",
    "    set_joint_ang(q[0],0)\n",
    "    set_joint_ang(q[1],1)\n",
    "    set_joint_ang(q[2],2)\n",
    "    col = col_func_handle(*q)\n",
    "    t = convert_q_to_t(q)\n",
    "    if col:\n",
    "        vis2[\"q\"].set_object(\n",
    "                meshcat.geometry.Sphere(0.1), meshcat.geometry.MeshLambertMaterial(color=0xFFB900))\n",
    "        vis2[\"q\"].set_transform(\n",
    "                meshcat.transformations.translation_matrix(t))\n",
    "    else:\n",
    "        vis2[\"q\"].set_object(\n",
    "                meshcat.geometry.Sphere(0.1), meshcat.geometry.MeshLambertMaterial(color=0x3EFF00))\n",
    "        vis2[\"q\"].set_transform(\n",
    "                meshcat.transformations.translation_matrix(t))\n",
    "    diagram.Publish(context)\n",
    "    print(\"              \", end = \"\\r\")\n",
    "    print(t , end = \"\\r\")\n",
    "\n",
    "sliders = []\n",
    "sliders.append(widgets.FloatSlider(min=q_low[0], max=q_high[0], value=0, description='q0'))\n",
    "sliders.append(widgets.FloatSlider(min=q_low[1], max=q_high[1], value=0, description='q1'))\n",
    "sliders.append(widgets.FloatSlider(min=q_low[2], max=q_high[2], value=0, description='q2'))\n",
    "\n",
    "q = q0.copy()\n",
    "def handle_slider_change(change, idx):\n",
    "    q[idx] = change['new']\n",
    "    #print(q, end=\"\\r\")\n",
    "    showres(q)\n",
    "    \n",
    "idx = 0\n",
    "for slider in sliders:\n",
    "    slider.observe(partial(handle_slider_change, idx = idx), names='value')\n",
    "    idx+=1\n"
   ]
  },
  {
   "cell_type": "code",
   "execution_count": 8,
   "metadata": {},
   "outputs": [
    {
     "name": "stdout",
     "output_type": "stream",
     "text": [
      "              \r",
      "[0. 0. 0.]\r"
     ]
    }
   ],
   "source": [
    "#marching cubes\n",
    "\n",
    "vertices, triangles = mcubes.marching_cubes_func(tuple(t_low), tuple(t_high), N, N, N, col_func_handle_rational, 0.5)\n",
    "vis2[\"collision_constraint\"].set_object(\n",
    "            meshcat.geometry.TriangularMeshGeometry(vertices, triangles),\n",
    "            meshcat.geometry.MeshLambertMaterial(color=0xff0000, wireframe=True))\n",
    "q = q0.copy()\n",
    "showres(q)"
   ]
  },
  {
   "cell_type": "code",
   "execution_count": 9,
   "metadata": {
    "scrolled": false
   },
   "outputs": [
    {
     "data": {
      "application/vnd.jupyter.widget-view+json": {
       "model_id": "b045319d34c04db08d4f5957117bf503",
       "version_major": 2,
       "version_minor": 0
      },
      "text/plain": [
       "FloatSlider(value=0.0, description='q0', max=1.7, min=-1.7)"
      ]
     },
     "metadata": {},
     "output_type": "display_data"
    },
    {
     "data": {
      "application/vnd.jupyter.widget-view+json": {
       "model_id": "55e20811f34c47ff9ca5982197f3b44a",
       "version_major": 2,
       "version_minor": 0
      },
      "text/plain": [
       "FloatSlider(value=0.0, description='q1', max=1.7, min=-1.7)"
      ]
     },
     "metadata": {},
     "output_type": "display_data"
    },
    {
     "data": {
      "application/vnd.jupyter.widget-view+json": {
       "model_id": "09c91ec684bc4659b92d7c8bf05f4eff",
       "version_major": 2,
       "version_minor": 0
      },
      "text/plain": [
       "FloatSlider(value=0.0, description='q2', max=2.0, min=-2.0)"
      ]
     },
     "metadata": {},
     "output_type": "display_data"
    },
    {
     "data": {
      "text/html": [
       "\n",
       "            <div style=\"height: 400px; width: 100%; overflow-x: auto; overflow-y: hidden; resize: both\">\n",
       "            <iframe src=\"http://127.0.0.1:7010/static/\" style=\"width: 100%; height: 100%; border: none\"></iframe>\n",
       "            </div>\n",
       "            "
      ],
      "text/plain": [
       "<IPython.core.display.HTML object>"
      ]
     },
     "metadata": {},
     "output_type": "display_data"
    },
    {
     "data": {
      "text/html": [
       "\n",
       "            <div style=\"height: 400px; width: 100%; overflow-x: auto; overflow-y: hidden; resize: both\">\n",
       "            <iframe src=\"http://127.0.0.1:7011/static/\" style=\"width: 100%; height: 100%; border: none\"></iframe>\n",
       "            </div>\n",
       "            "
      ],
      "text/plain": [
       "<IPython.core.display.HTML object>"
      ]
     },
     "metadata": {},
     "output_type": "display_data"
    },
    {
     "name": "stdout",
     "output_type": "stream",
     "text": [
      "[0.         0.         1.13833271]\r"
     ]
    }
   ],
   "source": [
    "for slider in sliders:\n",
    "    display(slider)\n",
    "\n",
    "display(vis.jupyter_cell())\n",
    "display(vis2.jupyter_cell())"
   ]
  },
  {
   "cell_type": "markdown",
   "metadata": {},
   "source": [
    "# IRIS IN T-SPACE CODE"
   ]
  },
  {
   "cell_type": "code",
   "execution_count": 10,
   "metadata": {},
   "outputs": [],
   "source": [
    "#  Now IRIS in configuration space, using dReal to solve for the growth volume\n",
    "# through the nonconvex kinematics.\n",
    "\n",
    "from pydrake.all import (\n",
    "    eq, SnoptSolver,\n",
    "    Sphere, Ellipsoid, GeometrySet,\n",
    "    RigidBody_, AutoDiffXd, initializeAutoDiff,\n",
    ")\n",
    "\n",
    "\n",
    "def TangentPlane(self, point):\n",
    "    a = 2 * self.A().T @ self.A() @ (point - self.center())\n",
    "    a = a / np.linalg.norm(a)\n",
    "    b = a.dot(point)\n",
    "    return a, b\n",
    "\n",
    "Hyperellipsoid.TangentPlane = TangentPlane\n",
    "\n",
    "\n",
    "query = scene_graph.get_query_output_port().Eval(scene_graph.GetMyContextFromRoot(context))\n",
    "\n",
    "sym_plant = plant.ToSymbolic()\n",
    "sym_context = sym_plant.CreateDefaultContext()\n",
    "\n",
    "# For SNOPT test.\n",
    "snopt = SnoptSolver()\n",
    "\n",
    "def MakeFromSceneGraph(query, geom, expressed_in=None):\n",
    "    shape = query.inspector().GetShape(geom)\n",
    "    if isinstance(shape, (Sphere, Ellipsoid)):\n",
    "        return Hyperellipsoid(query, geom, expressed_in)\n",
    "    return HPolyhedron(query, geom, expressed_in)\n",
    "\n",
    "dReal_polytope_tol = .1\n",
    "\n",
    "def CheckVolume(E, bodyA, bodyB, setA, setB, A, b, volume):\n",
    "    prog = MathematicalProgram()\n",
    "    q = prog.NewContinuousVariables(plant.num_positions(), \"q\")\n",
    "    prog.AddBoundingBoxConstraint(lb, ub, q)\n",
    "    prog.AddLinearConstraint(A, b-np.inf, b, q)\n",
    "    p_AA =  prog.NewContinuousVariables(3, \"p_AA\")\n",
    "    p_BB = prog.NewContinuousVariables(3, \"p_BB\")\n",
    "    if volume < np.inf:\n",
    "        prog.AddConstraint((q-E.center()).T @ E.A().T @ E.A() @ (q-E.center()) <= volume)\n",
    "    setA.AddPointInSetConstraints(prog, p_AA)\n",
    "    setB.AddPointInSetConstraints(prog, p_BB)\n",
    "\n",
    "    sym_plant.SetPositions(sym_context, q)\n",
    "    X_WA = sym_plant.EvalBodyPoseInWorld(sym_context, bodyA)\n",
    "    X_WB = sym_plant.EvalBodyPoseInWorld(sym_context, bodyB)\n",
    "    # Add +0 pending https://github.com/RobotLocomotion/drake/issues/15216\n",
    "    print(type(X_WA))\n",
    "    p_WA = X_WA.multiply(p_AA+0)\n",
    "    p_WB = X_WB.multiply(p_BB+0)\n",
    "    prog.AddConstraint(eq(p_WA, p_WB))\n",
    "    prog.SetSolverOption(dReal.id(), \"precision\", .9*dReal_polytope_tol)\n",
    "    result = dReal.Solve(prog)\n",
    "def GrowthVolumeRational(E, X_WA, X_WB, setA, setB, A, b, guess=None):\n",
    "    snopt = SnoptSolver()\n",
    "    prog = MathematicalProgram()\n",
    "    t = forward_kin.t()\n",
    "    prog.AddDecisionVariables(t)\n",
    "    \n",
    "    if guess is not None:\n",
    "        prog.SetInitialGuess(t, guess)\n",
    "\n",
    "    prog.AddLinearConstraint(A, b-np.inf, b, t)\n",
    "    p_AA = prog.NewContinuousVariables(3, \"p_AA\")\n",
    "    p_BB = prog.NewContinuousVariables(3, \"p_BB\")\n",
    "    setA.AddPointInSetConstraints(prog, p_AA)\n",
    "    setB.AddPointInSetConstraints(prog, p_BB)\n",
    "    prog.AddQuadraticErrorCost(E.A().T @ E.A(), E.center(), t)\n",
    "\n",
    "    p_WA = X_WA.multiply(p_AA+0)\n",
    "\n",
    "    p_WB = X_WB.multiply(p_BB+0)\n",
    "\n",
    "    prog.AddConstraint(eq(p_WA, p_WB))\n",
    "    result = snopt.Solve(prog)\n",
    "    return result.is_success(), result.get_optimal_cost(), result.GetSolution(t)\n"
   ]
  },
  {
   "cell_type": "code",
   "execution_count": 11,
   "metadata": {},
   "outputs": [],
   "source": [
    "def iris_rational_space(query, point, require_containment_points=[], termination_threshold=2e-2, iteration_limit=100):\n",
    "    dReal_polytope_tol = .1\n",
    "    ellipsoid_epsilon = 1e-1\n",
    "    dim = plant.num_positions()\n",
    "    lb = plant.GetPositionLowerLimits()\n",
    "    rational_lb = forward_kin.ComputeTValue(lb, q_star)\n",
    "    ub = plant.GetPositionUpperLimits()\n",
    "    rational_ub = forward_kin.ComputeTValue(ub, q_star)\n",
    "    volume_of_unit_sphere = 4.0*np.pi/3.0\n",
    "    E = Hyperellipsoid(np.eye(3)/ellipsoid_epsilon, point)\n",
    "    best_volume = ellipsoid_epsilon**dim * volume_of_unit_sphere\n",
    "    \n",
    "    link_poses_by_body_index_rat_pose = forward_kin.CalcLinkPoses(q_star, \n",
    "                                                         plant.world_body().index())\n",
    "    X_WA_list = convert_RationalForwardPoseList_to_TransformExpressionList(link_poses_by_body_index_rat_pose)\n",
    "    X_WB_list = convert_RationalForwardPoseList_to_TransformExpressionList(link_poses_by_body_index_rat_pose)\n",
    "\n",
    "    inspector = query.inspector()\n",
    "    pairs = inspector.GetCollisionCandidates()\n",
    "\n",
    "    P = HPolyhedron.MakeBox(rational_lb, rational_ub)\n",
    "    A = np.vstack((P.A(), np.zeros((10*len(pairs),3))))  # allow up to 10 faces per pair.\n",
    "    b = np.concatenate((P.b(), np.zeros(10*len(pairs))))\n",
    "\n",
    "    geom_ids = inspector.GetGeometryIds(GeometrySet(inspector.GetAllGeometryIds()), Role.kProximity)\n",
    "    sets = {geom:MakeFromSceneGraph(query, geom, inspector.GetFrameId(geom)) for geom in geom_ids}\n",
    "    body_indexes_by_geom_id = {geom:\n",
    "                               plant.GetBodyFromFrameId(inspector.GetFrameId(geom)).index() for geom in geom_ids} \n",
    "    \n",
    "    #Turn onto true to certify regions using SOS at each iteration.\n",
    "    certify = False\n",
    "    # refine polytopes if not certified collision free\n",
    "    refine = False and certify\n",
    "        \n",
    "    iteration = 0\n",
    "    num_faces = 2*len(lb)\n",
    "    while True:\n",
    "        ## Find separating hyperplanes\n",
    "\n",
    "        for geomA, geomB in pairs:\n",
    "            print(f\"geomA={inspector.GetName(geomA)}, geomB={inspector.GetName(geomB)}\")\n",
    "            # Run snopt at the beginning\n",
    "            while True:\n",
    "                X_WA = X_WA_list[int(body_indexes_by_geom_id[geomA])]\n",
    "                X_WB = X_WB_list[int(body_indexes_by_geom_id[geomB])]\n",
    "                success, growth, qstar = GrowthVolumeRational(E,\n",
    "                    X_WA, X_WB,\n",
    "                    sets[geomA], sets[geomB], A[:num_faces,:], b[:num_faces] - dReal_polytope_tol, point)\n",
    "                if success:\n",
    "                    print(f\"snopt_example={qstar}, growth = {growth}\")\n",
    "                    # Add a face to the polytope\n",
    "                    A[num_faces,:], b[num_faces] = E.TangentPlane(qstar)\n",
    "                    num_faces += 1\n",
    "                else:\n",
    "                    break\n",
    "\n",
    "            if certify:\n",
    "                pass\n",
    "            \n",
    "\n",
    "        if any([np.any(A[:num_faces,:] @ t > b[:num_faces]) for t in require_containment_points]):\n",
    "            print(\"terminating because a required containment point would have not been contained\")\n",
    "            break\n",
    "\n",
    "        P = HPolyhedron(A[:num_faces,:],b[:num_faces])\n",
    "\n",
    "        E = P.MaximumVolumeInscribedEllipsoid()\n",
    "        print(iteration)\n",
    "\n",
    "        iteration += 1\n",
    "        if iteration >= iteration_limit:\n",
    "            break\n",
    "\n",
    "        volume = volume_of_unit_sphere / np.linalg.det(E.A())\n",
    "        if volume - best_volume <= termination_threshold:\n",
    "            break\n",
    "        best_volume = volume\n",
    "\n",
    "    return P"
   ]
  },
  {
   "cell_type": "code",
   "execution_count": 13,
   "metadata": {},
   "outputs": [
    {
     "ename": "NameError",
     "evalue": "name 'forward_kin' is not defined",
     "output_type": "error",
     "traceback": [
      "\u001b[0;31m---------------------------------------------------------------------------\u001b[0m",
      "\u001b[0;31mNameError\u001b[0m                                 Traceback (most recent call last)",
      "\u001b[0;32m<ipython-input-13-af1e6475b84a>\u001b[0m in \u001b[0;36m<module>\u001b[0;34m\u001b[0m\n\u001b[1;32m     18\u001b[0m     \u001b[0mstart_time\u001b[0m \u001b[0;34m=\u001b[0m \u001b[0mtime\u001b[0m\u001b[0;34m.\u001b[0m\u001b[0mtime\u001b[0m\u001b[0;34m(\u001b[0m\u001b[0;34m)\u001b[0m\u001b[0;34m\u001b[0m\u001b[0;34m\u001b[0m\u001b[0m\n\u001b[1;32m     19\u001b[0m \u001b[0;31m#     hpoly = IrisInConfigurationSpace(plant, plant_context, seed_points[i,:], iris_options)\u001b[0m\u001b[0;34m\u001b[0m\u001b[0;34m\u001b[0m\u001b[0;34m\u001b[0m\u001b[0m\n\u001b[0;32m---> 20\u001b[0;31m     \u001b[0mhpoly\u001b[0m \u001b[0;34m=\u001b[0m \u001b[0miris_rational_space\u001b[0m\u001b[0;34m(\u001b[0m\u001b[0mquery\u001b[0m\u001b[0;34m,\u001b[0m \u001b[0mseed_points\u001b[0m\u001b[0;34m[\u001b[0m\u001b[0mi\u001b[0m\u001b[0;34m,\u001b[0m\u001b[0;34m:\u001b[0m\u001b[0;34m]\u001b[0m\u001b[0;34m,\u001b[0m \u001b[0mrequire_containment_points\u001b[0m\u001b[0;34m=\u001b[0m\u001b[0;34m[\u001b[0m\u001b[0mseed_points\u001b[0m\u001b[0;34m[\u001b[0m\u001b[0mi\u001b[0m\u001b[0;34m,\u001b[0m\u001b[0;34m:\u001b[0m\u001b[0;34m]\u001b[0m\u001b[0;34m]\u001b[0m\u001b[0;34m,\u001b[0m \u001b[0miteration_limit\u001b[0m\u001b[0;34m=\u001b[0m\u001b[0;36m100\u001b[0m\u001b[0;34m)\u001b[0m\u001b[0;34m\u001b[0m\u001b[0;34m\u001b[0m\u001b[0m\n\u001b[0m\u001b[1;32m     21\u001b[0m \u001b[0;34m\u001b[0m\u001b[0m\n\u001b[1;32m     22\u001b[0m     \u001b[0mellipse\u001b[0m \u001b[0;34m=\u001b[0m \u001b[0mhpoly\u001b[0m\u001b[0;34m.\u001b[0m\u001b[0mMaximumVolumeInscribedEllipsoid\u001b[0m\u001b[0;34m(\u001b[0m\u001b[0;34m)\u001b[0m\u001b[0;34m\u001b[0m\u001b[0;34m\u001b[0m\u001b[0m\n",
      "\u001b[0;32m<ipython-input-11-355320e5193e>\u001b[0m in \u001b[0;36miris_rational_space\u001b[0;34m(query, point, require_containment_points, termination_threshold, iteration_limit)\u001b[0m\n\u001b[1;32m      4\u001b[0m     \u001b[0mdim\u001b[0m \u001b[0;34m=\u001b[0m \u001b[0mplant\u001b[0m\u001b[0;34m.\u001b[0m\u001b[0mnum_positions\u001b[0m\u001b[0;34m(\u001b[0m\u001b[0;34m)\u001b[0m\u001b[0;34m\u001b[0m\u001b[0;34m\u001b[0m\u001b[0m\n\u001b[1;32m      5\u001b[0m     \u001b[0mlb\u001b[0m \u001b[0;34m=\u001b[0m \u001b[0mplant\u001b[0m\u001b[0;34m.\u001b[0m\u001b[0mGetPositionLowerLimits\u001b[0m\u001b[0;34m(\u001b[0m\u001b[0;34m)\u001b[0m\u001b[0;34m\u001b[0m\u001b[0;34m\u001b[0m\u001b[0m\n\u001b[0;32m----> 6\u001b[0;31m     \u001b[0mrational_lb\u001b[0m \u001b[0;34m=\u001b[0m \u001b[0mforward_kin\u001b[0m\u001b[0;34m.\u001b[0m\u001b[0mComputeTValue\u001b[0m\u001b[0;34m(\u001b[0m\u001b[0mlb\u001b[0m\u001b[0;34m,\u001b[0m \u001b[0mq_star\u001b[0m\u001b[0;34m)\u001b[0m\u001b[0;34m\u001b[0m\u001b[0;34m\u001b[0m\u001b[0m\n\u001b[0m\u001b[1;32m      7\u001b[0m     \u001b[0mub\u001b[0m \u001b[0;34m=\u001b[0m \u001b[0mplant\u001b[0m\u001b[0;34m.\u001b[0m\u001b[0mGetPositionUpperLimits\u001b[0m\u001b[0;34m(\u001b[0m\u001b[0;34m)\u001b[0m\u001b[0;34m\u001b[0m\u001b[0;34m\u001b[0m\u001b[0m\n\u001b[1;32m      8\u001b[0m     \u001b[0mrational_ub\u001b[0m \u001b[0;34m=\u001b[0m \u001b[0mforward_kin\u001b[0m\u001b[0;34m.\u001b[0m\u001b[0mComputeTValue\u001b[0m\u001b[0;34m(\u001b[0m\u001b[0mub\u001b[0m\u001b[0;34m,\u001b[0m \u001b[0mq_star\u001b[0m\u001b[0;34m)\u001b[0m\u001b[0;34m\u001b[0m\u001b[0;34m\u001b[0m\u001b[0m\n",
      "\u001b[0;31mNameError\u001b[0m: name 'forward_kin' is not defined"
     ]
    }
   ],
   "source": [
    "#using hand-crafted seed points\n",
    "\n",
    "seed_points = convert_q_to_t(np.array([[0.0, 0, 0], # startpoint\n",
    "                        [0.8, -0.8, 1.3],  # blue low green up\n",
    "                        [0.1, -1.2, 0.9],     # green low other up\n",
    "                        [0.2, -0.6, 1.6],\n",
    "                        [-0.5, -1.0, 1.9]]) ) # passing\n",
    "\n",
    "\n",
    "iris_options = IrisOptions()\n",
    "iris_options.require_sample_point_is_contained = True\n",
    "iris_options.iteration_limit = 50\n",
    "iris_options.enable_ibex = False\n",
    "\n",
    "regions = []\n",
    "ellipses = []\n",
    "for i in range(seed_points.shape[0]):\n",
    "    start_time = time.time()\n",
    "#     hpoly = IrisInConfigurationSpace(plant, plant_context, seed_points[i,:], iris_options)\n",
    "    hpoly = iris_rational_space(query, seed_points[i,:], require_containment_points=[seed_points[i,:]], iteration_limit=100)\n",
    "\n",
    "    ellipse = hpoly.MaximumVolumeInscribedEllipsoid()\n",
    "    print(\"Time: %6.2f \\tVolume: %6.2f \\tCenter:\" % (time.time() - start_time, ellipse.Volume()),\n",
    "          ellipse.center(), flush=True)\n",
    "    ellipses.append(ellipse)\n",
    "    regions.append(hpoly)\n"
   ]
  },
  {
   "cell_type": "code",
   "execution_count": 14,
   "metadata": {},
   "outputs": [
    {
     "ename": "NameError",
     "evalue": "name 'forward_kin' is not defined",
     "output_type": "error",
     "traceback": [
      "\u001b[0;31m---------------------------------------------------------------------------\u001b[0m",
      "\u001b[0;31mNameError\u001b[0m                                 Traceback (most recent call last)",
      "\u001b[0;32m<ipython-input-14-8b663539e48f>\u001b[0m in \u001b[0;36m<module>\u001b[0;34m\u001b[0m\n\u001b[1;32m     26\u001b[0m \u001b[0;34m\u001b[0m\u001b[0m\n\u001b[1;32m     27\u001b[0m \u001b[0;32mfor\u001b[0m \u001b[0mpoint\u001b[0m \u001b[0;32min\u001b[0m \u001b[0mseed_points\u001b[0m\u001b[0;34m:\u001b[0m\u001b[0;34m\u001b[0m\u001b[0;34m\u001b[0m\u001b[0m\n\u001b[0;32m---> 28\u001b[0;31m     \u001b[0mell\u001b[0m\u001b[0;34m,\u001b[0m \u001b[0mreg\u001b[0m \u001b[0;34m=\u001b[0m \u001b[0mdo_iris\u001b[0m\u001b[0;34m(\u001b[0m\u001b[0mpoint\u001b[0m\u001b[0;34m,\u001b[0m \u001b[0miris_options\u001b[0m\u001b[0;34m)\u001b[0m\u001b[0;34m\u001b[0m\u001b[0;34m\u001b[0m\u001b[0m\n\u001b[0m\u001b[1;32m     29\u001b[0m     \u001b[0mregions\u001b[0m\u001b[0;34m.\u001b[0m\u001b[0mappend\u001b[0m\u001b[0;34m(\u001b[0m\u001b[0mreg\u001b[0m\u001b[0;34m)\u001b[0m\u001b[0;34m\u001b[0m\u001b[0;34m\u001b[0m\u001b[0m\n\u001b[1;32m     30\u001b[0m     \u001b[0mellipses\u001b[0m\u001b[0;34m.\u001b[0m\u001b[0mappend\u001b[0m\u001b[0;34m(\u001b[0m\u001b[0mell\u001b[0m\u001b[0;34m)\u001b[0m\u001b[0;34m\u001b[0m\u001b[0;34m\u001b[0m\u001b[0m\n",
      "\u001b[0;32m<ipython-input-14-8b663539e48f>\u001b[0m in \u001b[0;36mdo_iris\u001b[0;34m(q_seed, iris_options)\u001b[0m\n\u001b[1;32m      2\u001b[0m     \u001b[0mstart_time\u001b[0m \u001b[0;34m=\u001b[0m \u001b[0mtime\u001b[0m\u001b[0;34m.\u001b[0m\u001b[0mtime\u001b[0m\u001b[0;34m(\u001b[0m\u001b[0;34m)\u001b[0m\u001b[0;34m\u001b[0m\u001b[0;34m\u001b[0m\u001b[0m\n\u001b[1;32m      3\u001b[0m \u001b[0;31m#     hpoly = IrisInConfigurationSpace(plant, plant_context, q_seed, iris_options)\u001b[0m\u001b[0;34m\u001b[0m\u001b[0;34m\u001b[0m\u001b[0;34m\u001b[0m\u001b[0m\n\u001b[0;32m----> 4\u001b[0;31m     \u001b[0mhpoly\u001b[0m \u001b[0;34m=\u001b[0m \u001b[0miris_rational_space\u001b[0m\u001b[0;34m(\u001b[0m\u001b[0mquery\u001b[0m\u001b[0;34m,\u001b[0m \u001b[0mq_seed\u001b[0m\u001b[0;34m,\u001b[0m \u001b[0mrequire_containment_points\u001b[0m\u001b[0;34m=\u001b[0m\u001b[0;34m[\u001b[0m\u001b[0mq_seed\u001b[0m\u001b[0;34m]\u001b[0m\u001b[0;34m,\u001b[0m \u001b[0miteration_limit\u001b[0m\u001b[0;34m=\u001b[0m\u001b[0;36m100\u001b[0m\u001b[0;34m)\u001b[0m\u001b[0;34m\u001b[0m\u001b[0;34m\u001b[0m\u001b[0m\n\u001b[0m\u001b[1;32m      5\u001b[0m \u001b[0;34m\u001b[0m\u001b[0m\n\u001b[1;32m      6\u001b[0m     \u001b[0mellipse\u001b[0m \u001b[0;34m=\u001b[0m \u001b[0mhpoly\u001b[0m\u001b[0;34m.\u001b[0m\u001b[0mMaximumVolumeInscribedEllipsoid\u001b[0m\u001b[0;34m(\u001b[0m\u001b[0;34m)\u001b[0m\u001b[0;34m\u001b[0m\u001b[0;34m\u001b[0m\u001b[0m\n",
      "\u001b[0;32m<ipython-input-11-355320e5193e>\u001b[0m in \u001b[0;36miris_rational_space\u001b[0;34m(query, point, require_containment_points, termination_threshold, iteration_limit)\u001b[0m\n\u001b[1;32m      4\u001b[0m     \u001b[0mdim\u001b[0m \u001b[0;34m=\u001b[0m \u001b[0mplant\u001b[0m\u001b[0;34m.\u001b[0m\u001b[0mnum_positions\u001b[0m\u001b[0;34m(\u001b[0m\u001b[0;34m)\u001b[0m\u001b[0;34m\u001b[0m\u001b[0;34m\u001b[0m\u001b[0m\n\u001b[1;32m      5\u001b[0m     \u001b[0mlb\u001b[0m \u001b[0;34m=\u001b[0m \u001b[0mplant\u001b[0m\u001b[0;34m.\u001b[0m\u001b[0mGetPositionLowerLimits\u001b[0m\u001b[0;34m(\u001b[0m\u001b[0;34m)\u001b[0m\u001b[0;34m\u001b[0m\u001b[0;34m\u001b[0m\u001b[0m\n\u001b[0;32m----> 6\u001b[0;31m     \u001b[0mrational_lb\u001b[0m \u001b[0;34m=\u001b[0m \u001b[0mforward_kin\u001b[0m\u001b[0;34m.\u001b[0m\u001b[0mComputeTValue\u001b[0m\u001b[0;34m(\u001b[0m\u001b[0mlb\u001b[0m\u001b[0;34m,\u001b[0m \u001b[0mq_star\u001b[0m\u001b[0;34m)\u001b[0m\u001b[0;34m\u001b[0m\u001b[0;34m\u001b[0m\u001b[0m\n\u001b[0m\u001b[1;32m      7\u001b[0m     \u001b[0mub\u001b[0m \u001b[0;34m=\u001b[0m \u001b[0mplant\u001b[0m\u001b[0;34m.\u001b[0m\u001b[0mGetPositionUpperLimits\u001b[0m\u001b[0;34m(\u001b[0m\u001b[0;34m)\u001b[0m\u001b[0;34m\u001b[0m\u001b[0;34m\u001b[0m\u001b[0m\n\u001b[1;32m      8\u001b[0m     \u001b[0mrational_ub\u001b[0m \u001b[0;34m=\u001b[0m \u001b[0mforward_kin\u001b[0m\u001b[0;34m.\u001b[0m\u001b[0mComputeTValue\u001b[0m\u001b[0;34m(\u001b[0m\u001b[0mub\u001b[0m\u001b[0;34m,\u001b[0m \u001b[0mq_star\u001b[0m\u001b[0;34m)\u001b[0m\u001b[0;34m\u001b[0m\u001b[0;34m\u001b[0m\u001b[0m\n",
      "\u001b[0;31mNameError\u001b[0m: name 'forward_kin' is not defined"
     ]
    }
   ],
   "source": [
    "def do_iris(q_seed, iris_options):\n",
    "    start_time = time.time()\n",
    "#     hpoly = IrisInConfigurationSpace(plant, plant_context, q_seed, iris_options)\n",
    "    hpoly = iris_rational_space(query, q_seed, require_containment_points=[q_seed], iteration_limit=100)\n",
    "  \n",
    "    ellipse = hpoly.MaximumVolumeInscribedEllipsoid()\n",
    "    print(\"Time: %6.2f \\tVolume: %6.2f \\tCenter:\" % (time.time() - start_time, ellipse.Volume()),\n",
    "          ellipse.center(), flush=True)\n",
    "    return ellipse, hpoly\n",
    "\n",
    "q_low_np = np.array(q_low)\n",
    "q_high_np = np.array(q_high)\n",
    "\n",
    "start = np.array([0.2, -1.6, 1.5])\n",
    "target = np.array([0.8,-0.9,1.5])\n",
    "\n",
    "iris_options = IrisOptions()\n",
    "iris_options.require_sample_point_is_contained = True\n",
    "iris_options.iteration_limit = 50\n",
    "iris_options.enable_ibex = False\n",
    "\n",
    "regions = []\n",
    "ellipses = []\n",
    "its = 6\n",
    "seed_points = [start, target]\n",
    "\n",
    "for point in seed_points:\n",
    "    ell, reg = do_iris(point, iris_options)\n",
    "    regions.append(reg)\n",
    "    ellipses.append(ell)\n",
    "    \n",
    "for _ in range(its):\n",
    "    #rejection sampling to get initial feasible point \n",
    "    found = False\n",
    "    while not found:\n",
    "        t = np.random.rand(3)\n",
    "        q_samp = (1-t)*q_low_np + t*q_high_np\n",
    "        found = (col_func_handle(*q_samp)==0.0)\n",
    "    print(\"point found: \", q_samp)\n",
    "    ell, reg = do_iris(q_samp, iris_options)\n",
    "    if ell.Volume() < 10.0:\n",
    "        regions.append(reg)\n",
    "        ellipses.append(ell)\n",
    "    "
   ]
  },
  {
   "cell_type": "code",
   "execution_count": 136,
   "metadata": {},
   "outputs": [],
   "source": [
    "def inpolycheck(q0,q1,q2, A, b):\n",
    "    q = np.array([q0, q1, q2])\n",
    "    res = np.min(1.0*(A@q-b<=0))\n",
    "    #print(res)\n",
    "    return res\n",
    "\n",
    "meshes = []\n",
    "col1 = 0x002BFF\n",
    "col2 = 0x3EFF00 \n",
    "idx = 0\n",
    "step = 1/(1.0*len(regions))\n",
    "R = np.array([[1, 0, 0],[0, 0, 1],[0,1, 0]])\n",
    "\n",
    "for region in regions:\n",
    "    A = region.A()\n",
    "    b = region.b()\n",
    "    col_hand = partial(inpolycheck, A=A, b=b)\n",
    "    vertices, triangles = mcubes.marching_cubes_func(tuple(q_low), tuple(q_high), 50, 50, 50, col_hand, 0.5)\n",
    "    regstr = \"regions\" +str(idx)\n",
    "    ellstr = \"ellipse\" +str(idx)\n",
    "    mat = meshcat.geometry.MeshLambertMaterial(color= int((1-idx*step)*col1 + idx*step*col2), wireframe=True)\n",
    "    mat.opacity = 0.3\n",
    "    vis2['regions'][regstr].set_object(\n",
    "            meshcat.geometry.TriangularMeshGeometry((R@vertices.T).T, triangles),\n",
    "            mat)\n",
    "    \n",
    "    C = ellipses[idx].A()\n",
    "    d = ellipses[idx].center()\n",
    "    radii, R = np.linalg.eig(C.T@C)\n",
    "    R[:,0] = R[:,0]*np.linalg.det(R)\n",
    "    Rot = RotationMatrix(R)\n",
    " \n",
    "    transf = RigidTransform(Rot, d)\n",
    "    mat = meshcat.geometry.MeshLambertMaterial(color= int((1-idx*step)*col1 + idx*step*col2), wireframe=True)\n",
    "    mat.opacity = 0.15\n",
    "    vis2['ellipses'][ellstr].set_object(\n",
    "            meshcat.geometry.Ellipsoid(np.divide(1,np.sqrt(radii))),\n",
    "            meshcat.geometry.MeshLambertMaterial(color= int((1-idx*step)*col1 + idx*step*col2), wireframe=True))\n",
    "\n",
    "    vis2['ellipses'][ellstr].set_transform(transf.GetAsMatrix4())\n",
    "    \n",
    "    idx+=1"
   ]
  },
  {
   "cell_type": "code",
   "execution_count": 134,
   "metadata": {},
   "outputs": [
    {
     "data": {
      "text/plain": [
       "array([[-1.11020408,  1.10204082,  1.49183673],\n",
       "       [-1.0755102 ,  1.10204082,  1.52653061],\n",
       "       [-1.0755102 ,  1.14285714,  1.49183673],\n",
       "       ...,\n",
       "       [ 1.11020408, -0.93877551, -1.49183673],\n",
       "       [ 1.11020408, -1.02040816, -1.49183673],\n",
       "       [ 1.11020408, -1.10204082, -1.49183673]])"
      ]
     },
     "execution_count": 134,
     "metadata": {},
     "output_type": "execute_result"
    }
   ],
   "source": [
    "\n",
    "\n"
   ]
  },
  {
   "cell_type": "code",
   "execution_count": 12,
   "metadata": {},
   "outputs": [
    {
     "name": "stdout",
     "output_type": "stream",
     "text": [
      "0.5835540294647217\n",
      "0.0\n",
      "5.270248258669378\n"
     ]
    }
   ],
   "source": [
    "# Solve path planning\n",
    "start = np.array([0.2, -1.6, 1.5])\n",
    "target = np.array([0.8,-0.9,1.5])\n",
    "start_time = time.time()\n",
    "spp = BsplineTrajectoryThroughUnionOfHPolyhedra(start, target, regions)\n",
    "spp.set_max_velocity([.8, .8, .8])\n",
    "spp.set_extra_control_points_per_region(3)\n",
    "\n",
    "# print(spp.num_regions())\n",
    "traj = spp.Solve()\n",
    "print(time.time() - start_time)\n",
    "print(traj.start_time())\n",
    "print(traj.end_time())\n",
    "#visualize\n",
    "maxit = 60\n",
    "pts = []\n",
    "for it in range(maxit):\n",
    "    pts.append(traj.value(it*traj.end_time()/maxit))\n",
    "    mat = meshcat.geometry.MeshLambertMaterial(color=0xFFF812)\n",
    "    mat.reflectivity = 1.0\n",
    "    vis2['traj']['points' + str(it)].set_object(\n",
    "                meshcat.geometry.Sphere(0.06), mat)\n",
    "    vis2['traj']['points' + str(it)].set_transform(\n",
    "                meshcat.transformations.translation_matrix(pts[-1].reshape(-1,)))\n",
    "    \n",
    "    set_joint_angles(pts[-1].reshape(-1,))\n",
    "    tf_l2 = plant.EvalBodyPoseInWorld(plant_context, plant.get_body(pydrake.multibody.tree.BodyIndex(3)))\n",
    "    R_l2 = tf_l2.rotation()\n",
    "    tl_l2 = R_l2@np.array([0,0,0.9]) + tf_l2.translation()\n",
    "    \n",
    "    tf_la = plant.EvalBodyPoseInWorld(plant_context, plant.get_body(pydrake.multibody.tree.BodyIndex(4)))\n",
    "    R_la = tf_la.rotation()\n",
    "    tl_la = R_la@np.array([0,0,1.2]) + tf_la.translation()\n",
    "     \n",
    "    \n",
    "    mat = meshcat.geometry.MeshLambertMaterial(color=0x0029F1)\n",
    "    mat.reflectivity = 1.0\n",
    "    vis['traj']['link2']['points' + str(it)].set_object(\n",
    "                meshcat.geometry.Sphere(0.02), mat)\n",
    "    vis['traj']['link2']['points' + str(it)].set_transform(\n",
    "                meshcat.transformations.translation_matrix(tl_l2))\n",
    "    mat = meshcat.geometry.MeshLambertMaterial(color=0x07F100)\n",
    "    mat.reflectivity = 1.0\n",
    "    vis['traj']['linka']['points' + str(it)].set_object(\n",
    "                meshcat.geometry.Sphere(0.02), mat)\n",
    "    vis['traj']['linka']['points' + str(it)].set_transform(\n",
    "                meshcat.transformations.translation_matrix(tl_la))\n",
    "    "
   ]
  },
  {
   "cell_type": "code",
   "execution_count": 44,
   "metadata": {},
   "outputs": [
    {
     "name": "stdout",
     "output_type": "stream",
     "text": [
      "None\n"
     ]
    }
   ],
   "source": [
    "print(traj)"
   ]
  },
  {
   "cell_type": "code",
   "execution_count": 11,
   "metadata": {},
   "outputs": [
    {
     "name": "stdout",
     "output_type": "stream",
     "text": [
      "0.0           \r"
     ]
    },
    {
     "ename": "KeyboardInterrupt",
     "evalue": "",
     "output_type": "error",
     "traceback": [
      "\u001b[0;31m---------------------------------------------------------------------------\u001b[0m",
      "\u001b[0;31mKeyboardInterrupt\u001b[0m                         Traceback (most recent call last)",
      "\u001b[0;32m<ipython-input-11-4331e09c57c3>\u001b[0m in \u001b[0;36m<module>\u001b[0;34m\u001b[0m\n\u001b[1;32m      7\u001b[0m \u001b[0;32mwhile\u001b[0m \u001b[0;32mTrue\u001b[0m\u001b[0;34m:\u001b[0m\u001b[0;34m\u001b[0m\u001b[0;34m\u001b[0m\u001b[0m\n\u001b[1;32m      8\u001b[0m     \u001b[0mq\u001b[0m \u001b[0;34m=\u001b[0m \u001b[0mtraj\u001b[0m\u001b[0;34m.\u001b[0m\u001b[0mvalue\u001b[0m\u001b[0;34m(\u001b[0m\u001b[0mtime_points\u001b[0m\u001b[0;34m[\u001b[0m\u001b[0midx\u001b[0m\u001b[0;34m]\u001b[0m\u001b[0;34m)\u001b[0m\u001b[0;34m\u001b[0m\u001b[0;34m\u001b[0m\u001b[0m\n\u001b[0;32m----> 9\u001b[0;31m     \u001b[0mshowres\u001b[0m\u001b[0;34m(\u001b[0m\u001b[0mq\u001b[0m\u001b[0;34m.\u001b[0m\u001b[0mreshape\u001b[0m\u001b[0;34m(\u001b[0m\u001b[0;34m-\u001b[0m\u001b[0;36m1\u001b[0m\u001b[0;34m,\u001b[0m\u001b[0;34m)\u001b[0m\u001b[0;34m)\u001b[0m\u001b[0;34m\u001b[0m\u001b[0;34m\u001b[0m\u001b[0m\n\u001b[0m\u001b[1;32m     10\u001b[0m     \u001b[0;32mif\u001b[0m \u001b[0mgoing_fwd\u001b[0m\u001b[0;34m:\u001b[0m\u001b[0;34m\u001b[0m\u001b[0;34m\u001b[0m\u001b[0m\n\u001b[1;32m     11\u001b[0m         \u001b[0;32mif\u001b[0m \u001b[0midx\u001b[0m \u001b[0;34m+\u001b[0m \u001b[0;36m1\u001b[0m \u001b[0;34m<\u001b[0m \u001b[0msteps\u001b[0m\u001b[0;34m:\u001b[0m\u001b[0;34m\u001b[0m\u001b[0;34m\u001b[0m\u001b[0m\n",
      "\u001b[0;32m<ipython-input-4-528b0af98a5a>\u001b[0m in \u001b[0;36mshowres\u001b[0;34m(q)\u001b[0m\n\u001b[1;32m     79\u001b[0m                 meshcat.transformations.translation_matrix(q))\n\u001b[1;32m     80\u001b[0m     \u001b[0;32melse\u001b[0m\u001b[0;34m:\u001b[0m\u001b[0;34m\u001b[0m\u001b[0;34m\u001b[0m\u001b[0m\n\u001b[0;32m---> 81\u001b[0;31m         vis2[\"q\"].set_object(\n\u001b[0m\u001b[1;32m     82\u001b[0m                 meshcat.geometry.Sphere(0.1), meshcat.geometry.MeshLambertMaterial(color=0x3EFF00))\n\u001b[1;32m     83\u001b[0m         vis2[\"q\"].set_transform(\n",
      "\u001b[0;32m~/.cache/bazel/_bazel_peter/76bc0000d64a792547034bb2ef203b82/execroot/drake/bazel-out/k8-opt/bin/sandbox/2d_iris_example.runfiles/meshcat_python/src/meshcat/visualizer.py\u001b[0m in \u001b[0;36mset_object\u001b[0;34m(self, geometry, material)\u001b[0m\n\u001b[1;32m    147\u001b[0m \u001b[0;34m\u001b[0m\u001b[0m\n\u001b[1;32m    148\u001b[0m     \u001b[0;32mdef\u001b[0m \u001b[0mset_object\u001b[0m\u001b[0;34m(\u001b[0m\u001b[0mself\u001b[0m\u001b[0;34m,\u001b[0m \u001b[0mgeometry\u001b[0m\u001b[0;34m,\u001b[0m \u001b[0mmaterial\u001b[0m\u001b[0;34m=\u001b[0m\u001b[0;32mNone\u001b[0m\u001b[0;34m)\u001b[0m\u001b[0;34m:\u001b[0m\u001b[0;34m\u001b[0m\u001b[0;34m\u001b[0m\u001b[0m\n\u001b[0;32m--> 149\u001b[0;31m         \u001b[0;32mreturn\u001b[0m \u001b[0mself\u001b[0m\u001b[0;34m.\u001b[0m\u001b[0mwindow\u001b[0m\u001b[0;34m.\u001b[0m\u001b[0msend\u001b[0m\u001b[0;34m(\u001b[0m\u001b[0mSetObject\u001b[0m\u001b[0;34m(\u001b[0m\u001b[0mgeometry\u001b[0m\u001b[0;34m,\u001b[0m \u001b[0mmaterial\u001b[0m\u001b[0;34m,\u001b[0m \u001b[0mself\u001b[0m\u001b[0;34m.\u001b[0m\u001b[0mpath\u001b[0m\u001b[0;34m)\u001b[0m\u001b[0;34m)\u001b[0m\u001b[0;34m\u001b[0m\u001b[0;34m\u001b[0m\u001b[0m\n\u001b[0m\u001b[1;32m    150\u001b[0m \u001b[0;34m\u001b[0m\u001b[0m\n\u001b[1;32m    151\u001b[0m     \u001b[0;32mdef\u001b[0m \u001b[0mset_transform\u001b[0m\u001b[0;34m(\u001b[0m\u001b[0mself\u001b[0m\u001b[0;34m,\u001b[0m \u001b[0mmatrix\u001b[0m\u001b[0;34m=\u001b[0m\u001b[0mnp\u001b[0m\u001b[0;34m.\u001b[0m\u001b[0meye\u001b[0m\u001b[0;34m(\u001b[0m\u001b[0;36m4\u001b[0m\u001b[0;34m)\u001b[0m\u001b[0;34m)\u001b[0m\u001b[0;34m:\u001b[0m\u001b[0;34m\u001b[0m\u001b[0;34m\u001b[0m\u001b[0m\n",
      "\u001b[0;32m~/.cache/bazel/_bazel_peter/76bc0000d64a792547034bb2ef203b82/execroot/drake/bazel-out/k8-opt/bin/sandbox/2d_iris_example.runfiles/meshcat_python/src/meshcat/visualizer.py\u001b[0m in \u001b[0;36msend\u001b[0;34m(self, command)\u001b[0m\n\u001b[1;32m     56\u001b[0m     \u001b[0;32mdef\u001b[0m \u001b[0msend\u001b[0m\u001b[0;34m(\u001b[0m\u001b[0mself\u001b[0m\u001b[0;34m,\u001b[0m \u001b[0mcommand\u001b[0m\u001b[0;34m)\u001b[0m\u001b[0;34m:\u001b[0m\u001b[0;34m\u001b[0m\u001b[0;34m\u001b[0m\u001b[0m\n\u001b[1;32m     57\u001b[0m         \u001b[0mcmd_data\u001b[0m \u001b[0;34m=\u001b[0m \u001b[0mcommand\u001b[0m\u001b[0;34m.\u001b[0m\u001b[0mlower\u001b[0m\u001b[0;34m(\u001b[0m\u001b[0;34m)\u001b[0m\u001b[0;34m\u001b[0m\u001b[0;34m\u001b[0m\u001b[0m\n\u001b[0;32m---> 58\u001b[0;31m         self.zmq_socket.send_multipart([\n\u001b[0m\u001b[1;32m     59\u001b[0m             \u001b[0mcmd_data\u001b[0m\u001b[0;34m[\u001b[0m\u001b[0;34m\"type\"\u001b[0m\u001b[0;34m]\u001b[0m\u001b[0;34m.\u001b[0m\u001b[0mencode\u001b[0m\u001b[0;34m(\u001b[0m\u001b[0;34m\"utf-8\"\u001b[0m\u001b[0;34m)\u001b[0m\u001b[0;34m,\u001b[0m\u001b[0;34m\u001b[0m\u001b[0;34m\u001b[0m\u001b[0m\n\u001b[1;32m     60\u001b[0m             \u001b[0mcmd_data\u001b[0m\u001b[0;34m[\u001b[0m\u001b[0;34m\"path\"\u001b[0m\u001b[0;34m]\u001b[0m\u001b[0;34m.\u001b[0m\u001b[0mencode\u001b[0m\u001b[0;34m(\u001b[0m\u001b[0;34m\"utf-8\"\u001b[0m\u001b[0;34m)\u001b[0m\u001b[0;34m,\u001b[0m\u001b[0;34m\u001b[0m\u001b[0;34m\u001b[0m\u001b[0m\n",
      "\u001b[0;32m/usr/lib/python3/dist-packages/zmq/sugar/socket.py\u001b[0m in \u001b[0;36msend_multipart\u001b[0;34m(self, msg_parts, flags, copy, track, **kwargs)\u001b[0m\n\u001b[1;32m    443\u001b[0m                 ))\n\u001b[1;32m    444\u001b[0m         \u001b[0;32mfor\u001b[0m \u001b[0mmsg\u001b[0m \u001b[0;32min\u001b[0m \u001b[0mmsg_parts\u001b[0m\u001b[0;34m[\u001b[0m\u001b[0;34m:\u001b[0m\u001b[0;34m-\u001b[0m\u001b[0;36m1\u001b[0m\u001b[0;34m]\u001b[0m\u001b[0;34m:\u001b[0m\u001b[0;34m\u001b[0m\u001b[0;34m\u001b[0m\u001b[0m\n\u001b[0;32m--> 445\u001b[0;31m             \u001b[0mself\u001b[0m\u001b[0;34m.\u001b[0m\u001b[0msend\u001b[0m\u001b[0;34m(\u001b[0m\u001b[0mmsg\u001b[0m\u001b[0;34m,\u001b[0m \u001b[0mSNDMORE\u001b[0m\u001b[0;34m|\u001b[0m\u001b[0mflags\u001b[0m\u001b[0;34m,\u001b[0m \u001b[0mcopy\u001b[0m\u001b[0;34m=\u001b[0m\u001b[0mcopy\u001b[0m\u001b[0;34m,\u001b[0m \u001b[0mtrack\u001b[0m\u001b[0;34m=\u001b[0m\u001b[0mtrack\u001b[0m\u001b[0;34m)\u001b[0m\u001b[0;34m\u001b[0m\u001b[0;34m\u001b[0m\u001b[0m\n\u001b[0m\u001b[1;32m    446\u001b[0m         \u001b[0;31m# Send the last part without the extra SNDMORE flag.\u001b[0m\u001b[0;34m\u001b[0m\u001b[0;34m\u001b[0m\u001b[0;34m\u001b[0m\u001b[0m\n\u001b[1;32m    447\u001b[0m         \u001b[0;32mreturn\u001b[0m \u001b[0mself\u001b[0m\u001b[0;34m.\u001b[0m\u001b[0msend\u001b[0m\u001b[0;34m(\u001b[0m\u001b[0mmsg_parts\u001b[0m\u001b[0;34m[\u001b[0m\u001b[0;34m-\u001b[0m\u001b[0;36m1\u001b[0m\u001b[0;34m]\u001b[0m\u001b[0;34m,\u001b[0m \u001b[0mflags\u001b[0m\u001b[0;34m,\u001b[0m \u001b[0mcopy\u001b[0m\u001b[0;34m=\u001b[0m\u001b[0mcopy\u001b[0m\u001b[0;34m,\u001b[0m \u001b[0mtrack\u001b[0m\u001b[0;34m=\u001b[0m\u001b[0mtrack\u001b[0m\u001b[0;34m)\u001b[0m\u001b[0;34m\u001b[0m\u001b[0;34m\u001b[0m\u001b[0m\n",
      "\u001b[0;32m/usr/lib/python3/dist-packages/zmq/sugar/socket.py\u001b[0m in \u001b[0;36msend\u001b[0;34m(self, data, flags, copy, track, routing_id, group)\u001b[0m\n\u001b[1;32m    398\u001b[0m                                  copy_threshold=self.copy_threshold)\n\u001b[1;32m    399\u001b[0m             \u001b[0mdata\u001b[0m\u001b[0;34m.\u001b[0m\u001b[0mgroup\u001b[0m \u001b[0;34m=\u001b[0m \u001b[0mgroup\u001b[0m\u001b[0;34m\u001b[0m\u001b[0;34m\u001b[0m\u001b[0m\n\u001b[0;32m--> 400\u001b[0;31m         \u001b[0;32mreturn\u001b[0m \u001b[0msuper\u001b[0m\u001b[0;34m(\u001b[0m\u001b[0mSocket\u001b[0m\u001b[0;34m,\u001b[0m \u001b[0mself\u001b[0m\u001b[0;34m)\u001b[0m\u001b[0;34m.\u001b[0m\u001b[0msend\u001b[0m\u001b[0;34m(\u001b[0m\u001b[0mdata\u001b[0m\u001b[0;34m,\u001b[0m \u001b[0mflags\u001b[0m\u001b[0;34m=\u001b[0m\u001b[0mflags\u001b[0m\u001b[0;34m,\u001b[0m \u001b[0mcopy\u001b[0m\u001b[0;34m=\u001b[0m\u001b[0mcopy\u001b[0m\u001b[0;34m,\u001b[0m \u001b[0mtrack\u001b[0m\u001b[0;34m=\u001b[0m\u001b[0mtrack\u001b[0m\u001b[0;34m)\u001b[0m\u001b[0;34m\u001b[0m\u001b[0;34m\u001b[0m\u001b[0m\n\u001b[0m\u001b[1;32m    401\u001b[0m \u001b[0;34m\u001b[0m\u001b[0m\n\u001b[1;32m    402\u001b[0m     \u001b[0;32mdef\u001b[0m \u001b[0msend_multipart\u001b[0m\u001b[0;34m(\u001b[0m\u001b[0mself\u001b[0m\u001b[0;34m,\u001b[0m \u001b[0mmsg_parts\u001b[0m\u001b[0;34m,\u001b[0m \u001b[0mflags\u001b[0m\u001b[0;34m=\u001b[0m\u001b[0;36m0\u001b[0m\u001b[0;34m,\u001b[0m \u001b[0mcopy\u001b[0m\u001b[0;34m=\u001b[0m\u001b[0;32mTrue\u001b[0m\u001b[0;34m,\u001b[0m \u001b[0mtrack\u001b[0m\u001b[0;34m=\u001b[0m\u001b[0;32mFalse\u001b[0m\u001b[0;34m,\u001b[0m \u001b[0;34m**\u001b[0m\u001b[0mkwargs\u001b[0m\u001b[0;34m)\u001b[0m\u001b[0;34m:\u001b[0m\u001b[0;34m\u001b[0m\u001b[0;34m\u001b[0m\u001b[0m\n",
      "\u001b[0;32mzmq/backend/cython/socket.pyx\u001b[0m in \u001b[0;36mzmq.backend.cython.socket.Socket.send\u001b[0;34m()\u001b[0m\n",
      "\u001b[0;32mzmq/backend/cython/socket.pyx\u001b[0m in \u001b[0;36mzmq.backend.cython.socket.Socket.send\u001b[0;34m()\u001b[0m\n",
      "\u001b[0;32mzmq/backend/cython/socket.pyx\u001b[0m in \u001b[0;36mzmq.backend.cython.socket._send_copy\u001b[0;34m()\u001b[0m\n",
      "\u001b[0;32m/usr/lib/python3/dist-packages/zmq/backend/cython/checkrc.pxd\u001b[0m in \u001b[0;36mzmq.backend.cython.checkrc._check_rc\u001b[0;34m()\u001b[0m\n",
      "\u001b[0;31mKeyboardInterrupt\u001b[0m: "
     ]
    }
   ],
   "source": [
    "#loop\n",
    "idx = 0\n",
    "going_fwd = True\n",
    "steps = 1000\n",
    "time_points = np.linspace(0, traj.end_time(), steps) \n",
    "\n",
    "while True:\n",
    "    q = traj.value(time_points[idx])\n",
    "    showres(q.reshape(-1,))\n",
    "    if going_fwd:\n",
    "        if idx + 1 < steps:\n",
    "            idx += 1\n",
    "        else:\n",
    "            going_fwd = False\n",
    "            idx -=1\n",
    "    else:\n",
    "        if idx-1 >= 0:\n",
    "            idx -=1\n",
    "        else:\n",
    "            going_fwd = True\n",
    "            idx +=1\n",
    "            "
   ]
  },
  {
   "cell_type": "code",
   "execution_count": 170,
   "metadata": {},
   "outputs": [
    {
     "data": {
      "text/plain": [
       "array([ 0.        , -1.17251696,  0.75286448])"
      ]
     },
     "execution_count": 170,
     "metadata": {},
     "output_type": "execute_result"
    }
   ],
   "source": []
  },
  {
   "cell_type": "code",
   "execution_count": 34,
   "metadata": {},
   "outputs": [],
   "source": []
  },
  {
   "cell_type": "code",
   "execution_count": 35,
   "metadata": {},
   "outputs": [],
   "source": [
    "t = np.array([1,2,3])\n",
    "q = convert_t_to_q(t)\n",
    "\n"
   ]
  },
  {
   "cell_type": "code",
   "execution_count": 36,
   "metadata": {},
   "outputs": [
    {
     "data": {
      "text/plain": [
       "array([1.57079633, 2.50404386, 2.70325609])"
      ]
     },
     "execution_count": 36,
     "metadata": {},
     "output_type": "execute_result"
    }
   ],
   "source": [
    "q"
   ]
  },
  {
   "cell_type": "code",
   "execution_count": null,
   "metadata": {},
   "outputs": [],
   "source": []
  }
 ],
 "metadata": {
  "interpreter": {
   "hash": "916dbcbb3f70747c44a77c7bcd40155683ae19c65e1c03b4aa3499c5328201f1"
  },
  "kernelspec": {
   "display_name": "Python 3",
   "language": "python",
   "name": "python3"
  },
  "language_info": {
   "codemirror_mode": {
    "name": "ipython",
    "version": 3
   },
   "file_extension": ".py",
   "mimetype": "text/x-python",
   "name": "python",
   "nbconvert_exporter": "python",
   "pygments_lexer": "ipython3",
   "version": "3.8.10"
  }
 },
 "nbformat": 4,
 "nbformat_minor": 2
}
