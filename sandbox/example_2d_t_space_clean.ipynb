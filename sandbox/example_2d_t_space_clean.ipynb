{
 "cells": [
  {
   "cell_type": "code",
   "execution_count": 1,
   "metadata": {},
   "outputs": [],
   "source": [
    "%load_ext autoreload"
   ]
  },
  {
   "cell_type": "code",
   "execution_count": 2,
   "metadata": {},
   "outputs": [],
   "source": [
    "import numpy as np\n",
    "import os\n",
    "import mcubes\n",
    "import meshcat\n",
    "import pydrake\n",
    "from pydrake.geometry import SceneGraph\n",
    "from pydrake.systems.framework import DiagramBuilder\n",
    "from pydrake.common import FindResourceOrThrow\n",
    "from pydrake.multibody.plant import MultibodyPlant, AddMultibodyPlantSceneGraph\n",
    "from pydrake.multibody.parsing import Parser, LoadModelDirectives, ProcessModelDirectives\n",
    "from pydrake.multibody.tree import RevoluteJoint\n",
    "from pydrake.all import ConnectMeshcatVisualizer, InverseKinematics, RigidTransform, RotationMatrix\n",
    "from pydrake.all import BsplineTrajectoryThroughUnionOfHPolyhedra\n",
    "import time\n",
    "from meshcat import Visualizer\n",
    "from functools import partial\n",
    "\n",
    "import ipywidgets as widgets\n",
    "from IPython.display import display\n",
    "\n",
    "from pydrake.all import MeshcatVisualizerCpp, MeshcatVisualizerParams, Role\n",
    "import rrt, prm, utils\n",
    "from sandbox.t_space_utils import (convert_t_to_q, \n",
    "                                   convert_q_to_t)\n",
    "\n",
    "from utils import meshcat_line\n",
    "from iris_t_space import set_up_iris_t_space"
   ]
  },
  {
   "cell_type": "code",
   "execution_count": 3,
   "metadata": {},
   "outputs": [],
   "source": [
    "# Setup meshcat\n",
    "from meshcat.servers.zmqserver import start_zmq_server_as_subprocess\n",
    "proc, zmq_url, web_url = start_zmq_server_as_subprocess(server_args=[])\n",
    "proc2, zmq_url2, web_url2 = start_zmq_server_as_subprocess(server_args=[])"
   ]
  },
  {
   "cell_type": "markdown",
   "metadata": {},
   "source": [
    "# Build plant and simulation"
   ]
  },
  {
   "cell_type": "code",
   "execution_count": 4,
   "metadata": {},
   "outputs": [],
   "source": [
    "# Build plant and simulation#settings\n",
    "q0 = [0.0, 0.0, 0.0]\n",
    "q_low = [-1.7,-1.7, -2.0]\n",
    "q_high = [1.7, 1.7, 2.0]\n",
    "t_low = convert_q_to_t(np.array(q_low).reshape(1,-1)).squeeze()\n",
    "t_high = convert_q_to_t(np.array(q_high).reshape(1,-1)).squeeze()\n",
    "\n",
    "#marching cubes\n",
    "q_low_mc = q_low.copy()\n",
    "q_high_mc =  q_high.copy()\n",
    "N = 50"
   ]
  },
  {
   "cell_type": "code",
   "execution_count": 5,
   "metadata": {
    "scrolled": false
   },
   "outputs": [
    {
     "name": "stdout",
     "output_type": "stream",
     "text": [
      "You can open the visualizer by visiting the following URL:\n",
      "http://127.0.0.1:7006/static/\n",
      "You can open the visualizer by visiting the following URL:\n",
      "http://127.0.0.1:7007/static/\n",
      "Connecting to meshcat-server at zmq_url=tcp://127.0.0.1:6006...\n",
      "You can open the visualizer by visiting the following URL:\n",
      "http://127.0.0.1:7006/static/\n",
      "Connected to meshcat-server.\n"
     ]
    }
   ],
   "source": [
    "vis = Visualizer(zmq_url=zmq_url)\n",
    "vis.delete()\n",
    "vis2 = Visualizer(zmq_url=zmq_url2)\n",
    "vis2.delete()\n",
    "\n",
    "builder = DiagramBuilder()\n",
    "plant, scene_graph = AddMultibodyPlantSceneGraph(builder, time_step=0.001)\n",
    "parser = Parser(plant)\n",
    "tworob_asset = FindResourceOrThrow(\"drake/sandbox/assets/doublerob.urdf\")\n",
    "#two_dof_asset = FindResourceOrThrow(\"drake/sandbox/assets/planar2dof.urdf\")\n",
    "box_asset = FindResourceOrThrow(\"drake/sandbox/assets/box.urdf\")\n",
    "\n",
    "models =[]\n",
    "models.append(parser.AddModelFromFile(tworob_asset))\n",
    "#models.append(parser.AddModelFromFile(one_dof_asset))\n",
    "models.append(parser.AddModelFromFile(box_asset))\n",
    "\n",
    "idx = 0\n",
    "for model in models:\n",
    "    for joint_index in plant.GetJointIndices(model):\n",
    "        joint = plant.get_mutable_joint(joint_index)\n",
    "        if isinstance(joint, RevoluteJoint):\n",
    "            joint.set_default_angle(q0[idx])\n",
    "            idx += 1\n",
    "            \n",
    "locs = [[0.,0.,0.],[0.,0.,0.]]\n",
    "idx = 0\n",
    "for model in models:\n",
    "    plant.WeldFrames(plant.world_frame(), plant.GetFrameByName(\"base\", model), RigidTransform(locs[idx]))\n",
    "    idx+=1\n",
    "\n",
    "plant.Finalize()\n",
    "\n",
    "visualizer = ConnectMeshcatVisualizer(builder, scene_graph, zmq_url=zmq_url, delete_prefix_on_load=False, )\n",
    "\n",
    "diagram = builder.Build()\n",
    "visualizer.load()\n",
    "context = diagram.CreateDefaultContext()\n",
    "plant_context = plant.GetMyContextFromRoot(context)\n",
    "diagram.Publish(context)\n",
    "\n",
    "joints = []\n",
    "idx = 0\n",
    "for model in models:\n",
    "    jointindx = plant.GetJointIndices(model)\n",
    "    for j in jointindx:\n",
    "        joint = plant.get_mutable_joint(j)\n",
    "        if isinstance(joint, RevoluteJoint):\n",
    "            joints.append(joint)\n",
    "            joints[-1].set_position_limits(lower_limits= np.array([q_low[idx]]), upper_limits= np.array([np.array([q_high[idx]])]))\n",
    "            idx +=1\n",
    "        \n",
    "    \n",
    "def set_joint_ang(val, idx):\n",
    "    joints[idx].set_angle(plant_context, val)\n",
    "    \n",
    "def set_joint_angles(vals):\n",
    "    joints[0].set_angle(plant_context, vals[0])\n",
    "    joints[1].set_angle(plant_context, vals[1])\n",
    "    joints[2].set_angle(plant_context, vals[2])\n",
    "    \n",
    "ik = InverseKinematics(plant, plant_context)\n",
    "collision_constraint = ik.AddMinimumDistanceConstraint(0.001, 0.01)\n",
    "\n",
    "def eval_cons(q0, q1, q2, c, tol):\n",
    "        return 1-1*float(c.evaluator().CheckSatisfied([q0, q1, q2], tol))\n",
    "\n",
    "col_func_handle = partial(eval_cons, c=collision_constraint, tol=0.01)\n",
    "\n",
    "def eval_cons_rational(t0, t1, t2, c, tol):\n",
    "    q = convert_t_to_q(np.array([t0, t1, t2]).reshape(1,-1)).squeeze() \n",
    "    return col_func_handle(*q)\n",
    "   \n",
    "col_func_handle_rational = partial(eval_cons_rational, c=collision_constraint, tol=0.01)\n",
    "\n",
    "def showres(q):\n",
    "    set_joint_ang(q[0],0)\n",
    "    set_joint_ang(q[1],1)\n",
    "    set_joint_ang(q[2],2)\n",
    "    col = col_func_handle(*q)\n",
    "    t = convert_q_to_t(np.array(q).reshape(1,-1)).squeeze()\n",
    "    if col:\n",
    "        vis2[\"q\"].set_object(\n",
    "                meshcat.geometry.Sphere(0.1), meshcat.geometry.MeshLambertMaterial(color=0xFFB900))\n",
    "        vis2[\"q\"].set_transform(\n",
    "                meshcat.transformations.translation_matrix(t))\n",
    "    else:\n",
    "        vis2[\"q\"].set_object(\n",
    "                meshcat.geometry.Sphere(0.1), meshcat.geometry.MeshLambertMaterial(color=0x3EFF00))\n",
    "        vis2[\"q\"].set_transform(\n",
    "                meshcat.transformations.translation_matrix(t))\n",
    "    diagram.Publish(context)\n",
    "    print(\"              \", end = \"\\r\")\n",
    "    print(col , end = \"\\r\")\n",
    "\n",
    "sliders = []\n",
    "sliders.append(widgets.FloatSlider(min=q_low[0], max=q_high[0], value=0, description='q0'))\n",
    "sliders.append(widgets.FloatSlider(min=q_low[1], max=q_high[1], value=0, description='q1'))\n",
    "sliders.append(widgets.FloatSlider(min=q_low[2], max=q_high[2], value=0, description='q2'))\n",
    "\n",
    "q = q0.copy()\n",
    "def handle_slider_change(change, idx):\n",
    "    q[idx] = change['new']\n",
    "    #print(q, end=\"\\r\")\n",
    "    showres(q)\n",
    "    \n",
    "idx = 0\n",
    "for slider in sliders:\n",
    "    slider.observe(partial(handle_slider_change, idx = idx), names='value')\n",
    "    idx+=1\n"
   ]
  },
  {
   "cell_type": "code",
   "execution_count": 6,
   "metadata": {},
   "outputs": [],
   "source": [
    "iris_rational_space, query, forward_kin = set_up_iris_t_space(plant, scene_graph, context, settings = None)"
   ]
  },
  {
   "cell_type": "code",
   "execution_count": 7,
   "metadata": {},
   "outputs": [
    {
     "name": "stdout",
     "output_type": "stream",
     "text": [
      "              \r",
      "0.0\r"
     ]
    }
   ],
   "source": [
    "#marching cubes\n",
    "N = 50\n",
    "vertices, triangles = mcubes.marching_cubes_func(tuple(t_low), tuple(t_high), N, N, N, col_func_handle_rational, 0.5)\n",
    "vis2[\"collision_constraint\"].set_object(\n",
    "            meshcat.geometry.TriangularMeshGeometry(vertices, triangles),\n",
    "            meshcat.geometry.MeshLambertMaterial(color=0xff0000, wireframe=True))\n",
    "q = q0.copy()\n",
    "showres(q)"
   ]
  },
  {
   "cell_type": "code",
   "execution_count": 8,
   "metadata": {
    "scrolled": false
   },
   "outputs": [
    {
     "data": {
      "application/vnd.jupyter.widget-view+json": {
       "model_id": "183583436acd451fa9e0e12b1ab7bbd4",
       "version_major": 2,
       "version_minor": 0
      },
      "text/plain": [
       "FloatSlider(value=0.0, description='q0', max=1.7, min=-1.7)"
      ]
     },
     "metadata": {},
     "output_type": "display_data"
    },
    {
     "data": {
      "application/vnd.jupyter.widget-view+json": {
       "model_id": "9cef954b3043451b91624b77620207e2",
       "version_major": 2,
       "version_minor": 0
      },
      "text/plain": [
       "FloatSlider(value=0.0, description='q1', max=1.7, min=-1.7)"
      ]
     },
     "metadata": {},
     "output_type": "display_data"
    },
    {
     "data": {
      "application/vnd.jupyter.widget-view+json": {
       "model_id": "2c64f5098ca7456692e7c47c9412c958",
       "version_major": 2,
       "version_minor": 0
      },
      "text/plain": [
       "FloatSlider(value=0.0, description='q2', max=2.0, min=-2.0)"
      ]
     },
     "metadata": {},
     "output_type": "display_data"
    },
    {
     "data": {
      "text/html": [
       "\n",
       "            <div style=\"height: 400px; width: 100%; overflow-x: auto; overflow-y: hidden; resize: both\">\n",
       "            <iframe src=\"http://127.0.0.1:7006/static/\" style=\"width: 100%; height: 100%; border: none\"></iframe>\n",
       "            </div>\n",
       "            "
      ],
      "text/plain": [
       "<IPython.core.display.HTML object>"
      ]
     },
     "metadata": {},
     "output_type": "display_data"
    },
    {
     "data": {
      "text/html": [
       "\n",
       "            <div style=\"height: 400px; width: 100%; overflow-x: auto; overflow-y: hidden; resize: both\">\n",
       "            <iframe src=\"http://127.0.0.1:7007/static/\" style=\"width: 100%; height: 100%; border: none\"></iframe>\n",
       "            </div>\n",
       "            "
      ],
      "text/plain": [
       "<IPython.core.display.HTML object>"
      ]
     },
     "metadata": {},
     "output_type": "display_data"
    }
   ],
   "source": [
    "for slider in sliders:\n",
    "    display(slider)\n",
    "\n",
    "display(vis.jupyter_cell())\n",
    "display(vis2.jupyter_cell())"
   ]
  },
  {
   "cell_type": "code",
   "execution_count": null,
   "metadata": {},
   "outputs": [],
   "source": [
    "#SPP + IRIS CONFIG\n",
    "start_q = np.array([0.2, -1.6, 1.5])\n",
    "target_q = np.array([0.8,-0.9,1.5])\n",
    "start = convert_q_to_t(start_q.reshape(1,-1))\n",
    "target = convert_q_to_t(target_q.reshape(1,-1))\n",
    "\n",
    "#\n",
    "#plot start and target\n",
    "mat = meshcat.geometry.MeshLambertMaterial(color=0xFFDD36)\n",
    "mat.reflectivity = 1.0\n",
    "vis2['start'].set_object(\n",
    "                meshcat.geometry.Sphere(0.03), mat)\n",
    "vis2['start'].set_transform(\n",
    "                meshcat.transformations.translation_matrix(start.reshape(-1,)))\n",
    "\n",
    "mat = meshcat.geometry.MeshLambertMaterial(color=0x06D300)\n",
    "mat.reflectivity = 1.0\n",
    "vis2['target'].set_object(\n",
    "                meshcat.geometry.Sphere(0.03), mat)\n",
    "vis2['target'].set_transform(\n",
    "                meshcat.transformations.translation_matrix(target.reshape(-1,)))"
   ]
  },
  {
   "cell_type": "markdown",
   "metadata": {},
   "source": [
    "CONSTRUCT T_SPACE IRIS"
   ]
  },
  {
   "cell_type": "code",
   "execution_count": null,
   "metadata": {},
   "outputs": [],
   "source": []
  },
  {
   "cell_type": "code",
   "execution_count": null,
   "metadata": {},
   "outputs": [],
   "source": [
    "seed_points_q = np.array([[0.0, 0, 0], # startpoint\n",
    "                        [0.8, -0.8, 1.3],  # blue low green up\n",
    "                        [0.1, -1.2, 0.9],     # green low other up\n",
    "                        [0.2, -0.6, 1.6],\n",
    "                        [-0.5, -1.0, 1.9]])[::-1, :]    # passing\n",
    "\n",
    "seed_points = convert_q_to_t(seed_points_q)\n",
    "\n",
    "\n",
    "regions = []\n",
    "ellipses = []\n",
    "for i in range(seed_points.shape[0]):\n",
    "    \n",
    "    start_time = time.time()\n",
    "    hpoly = iris_rational_space(query, seed_points[i,:], require_containment_points=[seed_points[i,:]], iteration_limit=100)\n",
    "#     hpoly = iris_cspace(query, seed_points[i,:], require_containment_points=[seed_points[i,:]], iteration_limit=100)\n",
    "    ellipse = hpoly.MaximumVolumeInscribedEllipsoid()\n",
    "    print(\"Time: %6.2f \\tVolume: %6.2f \\tCenter:\" % (time.time() - start_time, ellipse.Volume()),\n",
    "          ellipse.center(), flush=True)\n",
    "    regions.append(hpoly)\n",
    "    ellipses.append(ellipse)\n",
    "print(\"SUCCESS\")\n",
    "\n",
    "for i in range(seed_points.shape[0]):\n",
    "    vis2['seedpoints'][\"seedpoint\"+str(i)].set_object(\n",
    "                meshcat.geometry.Sphere(0.1), meshcat.geometry.MeshLambertMaterial(color=0xFFB900))\n",
    "    vis2['seedpoints'][\"seedpoint\"+str(i)].set_transform(\n",
    "                meshcat.transformations.translation_matrix(seed_points[i,:]))"
   ]
  },
  {
   "cell_type": "code",
   "execution_count": 29,
   "metadata": {},
   "outputs": [],
   "source": [
    "def inpolycheck(t0,t1,t2, A, b):\n",
    "    t = np.array([t0, t1, t2])\n",
    "    res = np.min(1.0*(A@t-b<=0))\n",
    "    #print(res)\n",
    "    return res\n",
    "\n",
    "meshes = []\n",
    "col1 = 0x002BFF\n",
    "col2 = 0x3EFF00 \n",
    "idx = 0\n",
    "step = 1/(1.0*len(regions))\n",
    "\n",
    "for region in regions:\n",
    "    A = region.A()#[:, (0,2,1)]\n",
    "    b = region.b()\n",
    "    col_hand = partial(inpolycheck, A=A, b=b)\n",
    "    vertices, triangles = mcubes.marching_cubes_func(tuple(t_low), tuple(t_high), 50, 50, 50, col_hand, 0.5)\n",
    "    regstr = \"regions\" +str(idx)\n",
    "    ellstr = \"ellipse\" +str(idx)\n",
    "    mat = meshcat.geometry.MeshLambertMaterial(color= int((1-idx*step)*col1 + idx*step*col2), wireframe=True)\n",
    "    mat.opacity = 0.3\n",
    "    vis2['regions'][regstr].set_object(\n",
    "            meshcat.geometry.TriangularMeshGeometry(vertices, triangles),\n",
    "            mat)\n",
    "    \n",
    "    C = ellipses[idx].A()#[:, (0,2,1)]\n",
    "    d = ellipses[idx].center()#[[0,2,1]]\n",
    "    radii, R = np.linalg.eig(C.T@C)\n",
    "    R[:,0] = R[:,0]*np.linalg.det(R)\n",
    "    Rot = RotationMatrix(R)\n",
    " \n",
    "    transf = RigidTransform(Rot, d)\n",
    "    mat = meshcat.geometry.MeshLambertMaterial(color= int((1-idx*step)*col1 + idx*step*col2), wireframe=True)\n",
    "    mat.opacity = 0.15\n",
    "    vis2['ellipses'][ellstr].set_object(\n",
    "            meshcat.geometry.Ellipsoid(np.divide(1,np.sqrt(radii))),\n",
    "            meshcat.geometry.MeshLambertMaterial(color= int((1-idx*step)*col1 + idx*step*col2), wireframe=True))\n",
    "\n",
    "    vis2['ellipses'][ellstr].set_transform(transf.GetAsMatrix4())\n",
    "    \n",
    "    idx+=1"
   ]
  },
  {
   "cell_type": "code",
   "execution_count": 32,
   "metadata": {},
   "outputs": [
    {
     "name": "stdout",
     "output_type": "stream",
     "text": [
      "0.6774489879608154\n",
      "0.0\n",
      "11.30834580665258\n"
     ]
    }
   ],
   "source": [
    "# Solve path planning\n",
    "start_time = time.time()\n",
    "spp = BsplineTrajectoryThroughUnionOfHPolyhedra(start.squeeze(), target.squeeze(), regions)\n",
    "spp.set_max_velocity([.3, .3, .3])\n",
    "spp.set_extra_control_points_per_region(3)\n",
    "\n",
    "# print(spp.num_regions())\n",
    "traj = spp.SolveVerbose()\n",
    "print(time.time() - start_time)\n",
    "print(traj.start_time())\n",
    "print(traj.end_time())\n",
    "#visualize\n",
    "maxit = 60\n",
    "pts = []\n",
    "for it in range(maxit):\n",
    "    pt = traj.value(it*traj.end_time()/maxit)\n",
    "    pt_q = convert_t_to_q(pt.reshape(1,-1)).squeeze()\n",
    "    \n",
    "    mat = meshcat.geometry.MeshLambertMaterial(color=0xFFF812)\n",
    "    mat.reflectivity = 1.0\n",
    "    vis2['traj']['points' + str(it)].set_object(\n",
    "                meshcat.geometry.Sphere(0.06), mat)\n",
    "    vis2['traj']['points' + str(it)].set_transform(\n",
    "                meshcat.transformations.translation_matrix(pt.reshape(-1,)))\n",
    "    \n",
    "    set_joint_angles(pt_q.reshape(-1,))\n",
    "    tf_l2 = plant.EvalBodyPoseInWorld(plant_context, plant.get_body(pydrake.multibody.tree.BodyIndex(3)))\n",
    "    R_l2 = tf_l2.rotation()\n",
    "    tl_l2 = R_l2@np.array([0,0,0.9]) + tf_l2.translation()\n",
    "    \n",
    "    tf_la = plant.EvalBodyPoseInWorld(plant_context, plant.get_body(pydrake.multibody.tree.BodyIndex(4)))\n",
    "    R_la = tf_la.rotation()\n",
    "    tl_la = R_la@np.array([0,0,1.2]) + tf_la.translation()\n",
    "     \n",
    "    \n",
    "    mat = meshcat.geometry.MeshLambertMaterial(color=0x0029F1)\n",
    "    mat.reflectivity = 1.0\n",
    "    vis['traj']['link2']['points' + str(it)].set_object(\n",
    "                meshcat.geometry.Sphere(0.02), mat)\n",
    "    vis['traj']['link2']['points' + str(it)].set_transform(\n",
    "                meshcat.transformations.translation_matrix(tl_l2))\n",
    "    mat = meshcat.geometry.MeshLambertMaterial(color=0x07F100)\n",
    "    mat.reflectivity = 1.0\n",
    "    vis['traj']['linka']['points' + str(it)].set_object(\n",
    "                meshcat.geometry.Sphere(0.02), mat)\n",
    "    vis['traj']['linka']['points' + str(it)].set_transform(\n",
    "                meshcat.transformations.translation_matrix(tl_la))\n",
    "    "
   ]
  },
  {
   "cell_type": "code",
   "execution_count": null,
   "metadata": {},
   "outputs": [],
   "source": [
    "start\n",
    "\n"
   ]
  },
  {
   "cell_type": "code",
   "execution_count": null,
   "metadata": {},
   "outputs": [],
   "source": [
    "#rrt cfg\n",
    "limits = [np.array(t_low), np.array(t_high)]\n",
    "mat = meshcat.geometry.MeshLambertMaterial(color= 0x000000 , wireframe=True)\n",
    "\n",
    "def plotting_fn(parent, child, pos_samp, idx, mat, width):\n",
    "    vis2['rrt']['tree']['line' + str(idx)].set_object( meshcat_line(parent.pos, child.pos, width), mat)\n",
    "    \n",
    "plotting_fn_handle = partial(plotting_fn, mat = mat, width = 0.01)\n",
    "\n",
    "def collision(pos, col_func_handle):\n",
    "    return col_func_handle(pos[0], pos[1], pos[2])\n",
    "    \n",
    "rrt_col_fn_handle = partial(collision, col_func_handle = col_func_handle_rational)\n",
    "    \n",
    "RRT = rrt.RRT(start = start,\n",
    "              goal = target,\n",
    "              limits = limits,\n",
    "              col_func_handle=rrt_col_fn_handle,\n",
    "              max_extend_length=0.1,\n",
    "              extend_steps=0.002,\n",
    "              init_goal_sample_rate=0.1,\n",
    "              goal_sample_rate_scaler=0.9,\n",
    "              verbose = True, \n",
    "              plotcallback = plotting_fn_handle,\n",
    "              sample_collision_free= False)\n",
    "\n",
    "success, path = RRT.run(8000)\n",
    "if success:\n",
    "    mat = meshcat.geometry.MeshLambertMaterial(color= 0xFFF812 , wireframe=True)\n",
    "    mat.wireframeLinewidth = 2.0\n",
    "    num_waypoints = len(path)\n",
    "    for idx in range(num_waypoints-1):\n",
    "        vis2['rrt']['path']['path' + str(idx)].set_object( meshcat_line(path[idx], path[idx+1],width = 0.01), mat)\n",
    "    traj= utils.PWLinTraj(path, 5.0)"
   ]
  },
  {
   "cell_type": "code",
   "execution_count": null,
   "metadata": {
    "scrolled": true
   },
   "outputs": [],
   "source": [
    "convert_t_to_q,#prm cfg\n",
    "limits = [np.array(q_low), np.array(q_high)]\n",
    "mat = meshcat.geometry.MeshLambertMaterial(color= 0x000000 , wireframe=True)\n",
    "\n",
    "def plotting_fn(nodes, adjacency_list, mat, width):\n",
    "    plt_idx = 0\n",
    "    for node_idx in range(nodes.shape[0]):\n",
    "        pos1 = nodes[node_idx, :]\n",
    "        for edge_idx in range(len(adjacency_list[node_idx])): \n",
    "            pos2 = nodes[adjacency_list[node_idx][edge_idx], :]\n",
    "            vis2['prm']['rm']['line' + str(plt_idx)].set_object( meshcat_line(pos1, pos2, width), mat)\n",
    "            plt_idx +=1\n",
    "            \n",
    "plotting_fn_handle = partial(plotting_fn, mat = mat, width = 0.01)\n",
    "\n",
    "def collision(pos, col_func_handle):\n",
    "    return col_func_handle(pos[0], pos[1], pos[2])\n",
    "\n",
    "prm_col_fn_handle = partial(collision, col_func_handle = col_func_handle)\n",
    "\n",
    "PRM = prm.PRM( \n",
    "            limits,\n",
    "            num_points = 400,\n",
    "            col_func_handle = prm_col_fn_handle,\n",
    "            num_neighbours = 5, \n",
    "            dist_thresh = .5,\n",
    "            num_col_checks = 10,\n",
    "            verbose = True,\n",
    "            plotcallback = plotting_fn_handle\n",
    "            )\n",
    "\n",
    "PRM.add_start_end(start, target)\n",
    "PRM.plot()\n",
    "path, sp_length = PRM.find_shortest_path()\n",
    "\n",
    "mat = meshcat.geometry.MeshLambertMaterial(color= 0xFFF812 , wireframe=True)\n",
    "mat.wireframeLinewidth = 2.0\n",
    "num_waypoints = len(path)\n",
    "for idx in range(num_waypoints-1):\n",
    "    vis2['prm']['path']['path' + str(idx)].set_object( meshcat_line(path[idx], path[idx+1],width = 0.01), mat)\n",
    "traj= utils.PWLinTraj(path, 5.0)"
   ]
  },
  {
   "cell_type": "code",
   "execution_count": 34,
   "metadata": {},
   "outputs": [
    {
     "name": "stdout",
     "output_type": "stream",
     "text": [
      "0.0           \r"
     ]
    }
   ],
   "source": [
    "#loop\n",
    "substeps = 1000\n",
    "utils.animate_t(traj, showres, substeps, convert_t_to_q, 20*substeps)\n",
    "            "
   ]
  },
  {
   "cell_type": "code",
   "execution_count": null,
   "metadata": {},
   "outputs": [],
   "source": [
    "traj.control_points() =traj.control_points()[:, [0,2,1]] \n"
   ]
  },
  {
   "cell_type": "code",
   "execution_count": null,
   "metadata": {},
   "outputs": [],
   "source": []
  },
  {
   "cell_type": "code",
   "execution_count": null,
   "metadata": {},
   "outputs": [],
   "source": [
    "\n"
   ]
  },
  {
   "cell_type": "code",
   "execution_count": null,
   "metadata": {},
   "outputs": [],
   "source": [
    "def do_iris(q_seed, iris_options):\n",
    "    start_time = time.time()\n",
    "    hpoly = IrisInConfigurationSpace(plant, plant_context, q_seed, iris_options)\n",
    "    ellipse = hpoly.MaximumVolumeInscribedEllipsoid()\n",
    "    print(\"Time: %6.2f \\tVolume: %6.2f \\tCenter:\" % (time.time() - start_time, ellipse.Volume()),\n",
    "          ellipse.center(), flush=True)\n",
    "    return ellipse, hpoly\n",
    "\n",
    "q_low_np = np.array(q_low)\n",
    "q_high_np = np.array(q_high)\n",
    "\n",
    "iris_options = IrisOptions()\n",
    "iris_options.require_sample_point_is_contained = True\n",
    "iris_options.iteration_limit = 50\n",
    "iris_options.enable_ibex = False\n",
    "\n",
    "regions = []\n",
    "ellipses = []\n",
    "its = 6\n",
    "seed_points = [start, target]\n",
    "\n",
    "for point in seed_points:\n",
    "    ell, reg = do_iris(point, iris_options)\n",
    "    regions.append(reg)\n",
    "    ellipses.append(ell)\n",
    "    \n",
    "for _ in range(its):\n",
    "    #rejection sampling to get initial feasible point \n",
    "    found = False\n",
    "    while not found:\n",
    "        t = np.random.rand(3)\n",
    "        q_samp = (1-t)*q_low_np + t*q_high_np\n",
    "        found = (col_func_handle(*q_samp)==0.0)\n",
    "    print(\"point found: \", q_samp)\n",
    "    ell, reg = do_iris(q_samp, iris_options)\n",
    "    if ell.Volume() < 10.0:\n",
    "        regions.append(reg)\n",
    "        ellipses.append(ell)\n",
    "    "
   ]
  }
 ],
 "metadata": {
  "interpreter": {
   "hash": "916dbcbb3f70747c44a77c7bcd40155683ae19c65e1c03b4aa3499c5328201f1"
  },
  "kernelspec": {
   "display_name": "Python 3",
   "language": "python",
   "name": "python3"
  },
  "language_info": {
   "codemirror_mode": {
    "name": "ipython",
    "version": 3
   },
   "file_extension": ".py",
   "mimetype": "text/x-python",
   "name": "python",
   "nbconvert_exporter": "python",
   "pygments_lexer": "ipython3",
   "version": "3.8.10"
  }
 },
 "nbformat": 4,
 "nbformat_minor": 2
}
