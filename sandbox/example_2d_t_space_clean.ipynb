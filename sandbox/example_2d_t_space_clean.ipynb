{
 "cells": [
  {
   "cell_type": "code",
   "execution_count": 18,
   "metadata": {},
   "outputs": [
    {
     "name": "stdout",
     "output_type": "stream",
     "text": [
      "The autoreload extension is already loaded. To reload it, use:\n",
      "  %reload_ext autoreload\n"
     ]
    }
   ],
   "source": [
    "%load_ext autoreload"
   ]
  },
  {
   "cell_type": "code",
   "execution_count": 19,
   "metadata": {},
   "outputs": [],
   "source": [
    "import numpy as np\n",
    "import os\n",
    "import mcubes\n",
    "import meshcat\n",
    "import pydrake\n",
    "from pydrake.geometry import SceneGraph\n",
    "from pydrake.systems.framework import DiagramBuilder\n",
    "from pydrake.common import FindResourceOrThrow\n",
    "from pydrake.multibody.plant import MultibodyPlant, AddMultibodyPlantSceneGraph\n",
    "from pydrake.multibody.parsing import Parser, LoadModelDirectives, ProcessModelDirectives\n",
    "from pydrake.multibody.tree import RevoluteJoint\n",
    "from pydrake.all import ConnectMeshcatVisualizer, InverseKinematics, RigidTransform, RotationMatrix\n",
    "from pydrake.all import BsplineTrajectoryThroughUnionOfHPolyhedra\n",
    "import time\n",
    "from meshcat import Visualizer\n",
    "from functools import partial\n",
    "\n",
    "import ipywidgets as widgets\n",
    "from IPython.display import display\n",
    "\n",
    "from pydrake.all import MeshcatVisualizerCpp, MeshcatVisualizerParams, Role\n",
    "import rrt, prm, utils, rrtiris\n",
    "from sandbox.t_space_utils import (convert_t_to_q, \n",
    "                                   convert_q_to_t)\n",
    "\n",
    "from utils import meshcat_line\n",
    "from iris_t_space import set_up_iris_t_space"
   ]
  },
  {
   "cell_type": "code",
   "execution_count": 20,
   "metadata": {},
   "outputs": [],
   "source": [
    "# Setup meshcat\n",
    "from meshcat.servers.zmqserver import start_zmq_server_as_subprocess\n",
    "proc, zmq_url, web_url = start_zmq_server_as_subprocess(server_args=[])\n",
    "proc2, zmq_url2, web_url2 = start_zmq_server_as_subprocess(server_args=[])"
   ]
  },
  {
   "cell_type": "markdown",
   "metadata": {},
   "source": [
    "# Build plant and simulation"
   ]
  },
  {
   "cell_type": "code",
   "execution_count": 21,
   "metadata": {},
   "outputs": [],
   "source": [
    "# Build plant and simulation#settings\n",
    "q0 = [0.0, 0.0, 0.0]\n",
    "q_low = [-1.7,-1.7, -2.0]\n",
    "q_high = [1.7, 1.7, 2.0]\n",
    "t_low = convert_q_to_t(np.array(q_low).reshape(1,-1)).squeeze()\n",
    "t_high = convert_q_to_t(np.array(q_high).reshape(1,-1)).squeeze()\n",
    "\n",
    "#marching cubes\n",
    "q_low_mc = q_low.copy()\n",
    "q_high_mc =  q_high.copy()\n",
    "N = 50"
   ]
  },
  {
   "cell_type": "code",
   "execution_count": 22,
   "metadata": {
    "scrolled": false
   },
   "outputs": [
    {
     "name": "stdout",
     "output_type": "stream",
     "text": [
      "You can open the visualizer by visiting the following URL:\n",
      "http://127.0.0.1:7008/static/\n",
      "You can open the visualizer by visiting the following URL:\n",
      "http://127.0.0.1:7009/static/\n",
      "Connecting to meshcat-server at zmq_url=tcp://127.0.0.1:6008...\n",
      "You can open the visualizer by visiting the following URL:\n",
      "http://127.0.0.1:7008/static/\n",
      "Connected to meshcat-server.\n"
     ]
    }
   ],
   "source": [
    "vis = Visualizer(zmq_url=zmq_url)\n",
    "vis.delete()\n",
    "vis2 = Visualizer(zmq_url=zmq_url2)\n",
    "vis2.delete()\n",
    "\n",
    "builder = DiagramBuilder()\n",
    "plant, scene_graph = AddMultibodyPlantSceneGraph(builder, time_step=0.001)\n",
    "parser = Parser(plant)\n",
    "tworob_asset = FindResourceOrThrow(\"drake/sandbox/assets/doublerob.urdf\")\n",
    "#two_dof_asset = FindResourceOrThrow(\"drake/sandbox/assets/planar2dof.urdf\")\n",
    "box_asset = FindResourceOrThrow(\"drake/sandbox/assets/box.urdf\")\n",
    "\n",
    "models =[]\n",
    "models.append(parser.AddModelFromFile(tworob_asset))\n",
    "#models.append(parser.AddModelFromFile(one_dof_asset))\n",
    "models.append(parser.AddModelFromFile(box_asset))\n",
    "\n",
    "idx = 0\n",
    "for model in models:\n",
    "    for joint_index in plant.GetJointIndices(model):\n",
    "        joint = plant.get_mutable_joint(joint_index)\n",
    "        if isinstance(joint, RevoluteJoint):\n",
    "            joint.set_default_angle(q0[idx])\n",
    "            idx += 1\n",
    "            \n",
    "locs = [[0.,0.,0.],[0.,0.,0.]]\n",
    "idx = 0\n",
    "for model in models:\n",
    "    plant.WeldFrames(plant.world_frame(), plant.GetFrameByName(\"base\", model), RigidTransform(locs[idx]))\n",
    "    idx+=1\n",
    "\n",
    "plant.Finalize()\n",
    "\n",
    "visualizer = ConnectMeshcatVisualizer(builder, scene_graph, zmq_url=zmq_url, delete_prefix_on_load=False, )\n",
    "\n",
    "diagram = builder.Build()\n",
    "visualizer.load()\n",
    "context = diagram.CreateDefaultContext()\n",
    "plant_context = plant.GetMyContextFromRoot(context)\n",
    "diagram.Publish(context)\n",
    "\n",
    "joints = []\n",
    "idx = 0\n",
    "for model in models:\n",
    "    jointindx = plant.GetJointIndices(model)\n",
    "    for j in jointindx:\n",
    "        joint = plant.get_mutable_joint(j)\n",
    "        if isinstance(joint, RevoluteJoint):\n",
    "            joints.append(joint)\n",
    "            joints[-1].set_position_limits(lower_limits= np.array([q_low[idx]]), upper_limits= np.array([np.array([q_high[idx]])]))\n",
    "            idx +=1\n",
    "        \n",
    "    \n",
    "def set_joint_ang(val, idx):\n",
    "    joints[idx].set_angle(plant_context, val)\n",
    "    \n",
    "def set_joint_angles(vals):\n",
    "    joints[0].set_angle(plant_context, vals[0])\n",
    "    joints[1].set_angle(plant_context, vals[1])\n",
    "    joints[2].set_angle(plant_context, vals[2])\n",
    "    \n",
    "ik = InverseKinematics(plant, plant_context)\n",
    "collision_constraint = ik.AddMinimumDistanceConstraint(0.001, 0.01)\n",
    "\n",
    "def eval_cons(q0, q1, q2, c, tol):\n",
    "        return 1-1*float(c.evaluator().CheckSatisfied([q0, q1, q2], tol))\n",
    "\n",
    "col_func_handle = partial(eval_cons, c=collision_constraint, tol=0.01)\n",
    "\n",
    "def eval_cons_rational(t0, t1, t2, c, tol):\n",
    "    q = convert_t_to_q(np.array([t0, t1, t2]).reshape(1,-1)).squeeze() \n",
    "    return col_func_handle(*q)\n",
    "   \n",
    "col_func_handle_rational = partial(eval_cons_rational, c=collision_constraint, tol=0.01)\n",
    "\n",
    "def showres(q):\n",
    "    set_joint_ang(q[0],0)\n",
    "    set_joint_ang(q[1],1)\n",
    "    set_joint_ang(q[2],2)\n",
    "    col = col_func_handle(*q)\n",
    "    t = convert_q_to_t(np.array(q).reshape(1,-1)).squeeze()\n",
    "    if col:\n",
    "        vis2[\"q\"].set_object(\n",
    "                meshcat.geometry.Sphere(0.1), meshcat.geometry.MeshLambertMaterial(color=0xFFB900))\n",
    "        vis2[\"q\"].set_transform(\n",
    "                meshcat.transformations.translation_matrix(t))\n",
    "    else:\n",
    "        vis2[\"q\"].set_object(\n",
    "                meshcat.geometry.Sphere(0.1), meshcat.geometry.MeshLambertMaterial(color=0x3EFF00))\n",
    "        vis2[\"q\"].set_transform(\n",
    "                meshcat.transformations.translation_matrix(t))\n",
    "    diagram.Publish(context)\n",
    "    print(\"              \", end = \"\\r\")\n",
    "    print(col , end = \"\\r\")\n",
    "\n",
    "sliders = []\n",
    "sliders.append(widgets.FloatSlider(min=q_low[0], max=q_high[0], value=0, description='q0'))\n",
    "sliders.append(widgets.FloatSlider(min=q_low[1], max=q_high[1], value=0, description='q1'))\n",
    "sliders.append(widgets.FloatSlider(min=q_low[2], max=q_high[2], value=0, description='q2'))\n",
    "\n",
    "q = q0.copy()\n",
    "def handle_slider_change(change, idx):\n",
    "    q[idx] = change['new']\n",
    "    #print(q, end=\"\\r\")\n",
    "    showres(q)\n",
    "    \n",
    "idx = 0\n",
    "for slider in sliders:\n",
    "    slider.observe(partial(handle_slider_change, idx = idx), names='value')\n",
    "    idx+=1\n"
   ]
  },
  {
   "cell_type": "code",
   "execution_count": 23,
   "metadata": {},
   "outputs": [
    {
     "name": "stdout",
     "output_type": "stream",
     "text": [
      "              \r",
      "0.0\r"
     ]
    }
   ],
   "source": [
    "#marching cubes\n",
    "N = 50\n",
    "vertices, triangles = mcubes.marching_cubes_func(tuple(t_low), tuple(t_high), N, N, N, col_func_handle_rational, 0.5)\n",
    "vis2[\"collision_constraint\"].set_object(\n",
    "            meshcat.geometry.TriangularMeshGeometry(vertices, triangles),\n",
    "            meshcat.geometry.MeshLambertMaterial(color=0xff0000, wireframe=True))\n",
    "q = q0.copy()\n",
    "showres(q)"
   ]
  },
  {
   "cell_type": "code",
   "execution_count": 24,
   "metadata": {
    "scrolled": false
   },
   "outputs": [
    {
     "data": {
      "application/vnd.jupyter.widget-view+json": {
       "model_id": "51ff44e910824eb7bad9859df5654643",
       "version_major": 2,
       "version_minor": 0
      },
      "text/plain": [
       "FloatSlider(value=0.0, description='q0', max=1.7, min=-1.7)"
      ]
     },
     "metadata": {},
     "output_type": "display_data"
    },
    {
     "data": {
      "application/vnd.jupyter.widget-view+json": {
       "model_id": "f805bb871bb64eae8bc4c5dc68b340f3",
       "version_major": 2,
       "version_minor": 0
      },
      "text/plain": [
       "FloatSlider(value=0.0, description='q1', max=1.7, min=-1.7)"
      ]
     },
     "metadata": {},
     "output_type": "display_data"
    },
    {
     "data": {
      "application/vnd.jupyter.widget-view+json": {
       "model_id": "ee2cec6be88045edbf3e291d3df37bd1",
       "version_major": 2,
       "version_minor": 0
      },
      "text/plain": [
       "FloatSlider(value=0.0, description='q2', max=2.0, min=-2.0)"
      ]
     },
     "metadata": {},
     "output_type": "display_data"
    },
    {
     "data": {
      "text/html": [
       "\n",
       "            <div style=\"height: 400px; width: 100%; overflow-x: auto; overflow-y: hidden; resize: both\">\n",
       "            <iframe src=\"http://127.0.0.1:7008/static/\" style=\"width: 100%; height: 100%; border: none\"></iframe>\n",
       "            </div>\n",
       "            "
      ],
      "text/plain": [
       "<IPython.core.display.HTML object>"
      ]
     },
     "metadata": {},
     "output_type": "display_data"
    },
    {
     "data": {
      "text/html": [
       "\n",
       "            <div style=\"height: 400px; width: 100%; overflow-x: auto; overflow-y: hidden; resize: both\">\n",
       "            <iframe src=\"http://127.0.0.1:7009/static/\" style=\"width: 100%; height: 100%; border: none\"></iframe>\n",
       "            </div>\n",
       "            "
      ],
      "text/plain": [
       "<IPython.core.display.HTML object>"
      ]
     },
     "metadata": {},
     "output_type": "display_data"
    }
   ],
   "source": [
    "for slider in sliders:\n",
    "    display(slider)\n",
    "\n",
    "display(vis.jupyter_cell())\n",
    "display(vis2.jupyter_cell())"
   ]
  },
  {
   "cell_type": "code",
   "execution_count": 25,
   "metadata": {},
   "outputs": [],
   "source": [
    "#SPP + IRIS / RRT / PRM  CONFIG + viz\n",
    "start_q = np.array([0.2, -1.6, 1.5])\n",
    "target_q = np.array([0.8,-0.9,1.5])\n",
    "start = convert_q_to_t(start_q.reshape(1,-1))\n",
    "target = convert_q_to_t(target_q.reshape(1,-1))\n",
    "\n",
    "#\n",
    "#plot start and target\n",
    "mat = meshcat.geometry.MeshLambertMaterial(color=0xFFDD36)\n",
    "mat.reflectivity = 1.0\n",
    "vis2['start'].set_object(\n",
    "                meshcat.geometry.Sphere(0.03), mat)\n",
    "vis2['start'].set_transform(\n",
    "                meshcat.transformations.translation_matrix(start.reshape(-1,)))\n",
    "\n",
    "mat = meshcat.geometry.MeshLambertMaterial(color=0x06D300)\n",
    "mat.reflectivity = 1.0\n",
    "vis2['target'].set_object(\n",
    "                meshcat.geometry.Sphere(0.03), mat)\n",
    "vis2['target'].set_transform(\n",
    "                meshcat.transformations.translation_matrix(target.reshape(-1,)))\n",
    "\n",
    "def draw_traj_tspace(traj, maxit, name):\n",
    "    #evals end twice fix later\n",
    "    for it in range(maxit):\n",
    "        pt = traj.value(it*traj.end_time()/maxit)\n",
    "        pt_nxt = traj.value((it+1)*traj.end_time()/maxit)\n",
    "        \n",
    "        pt_q = convert_t_to_q(pt.reshape(1,-1)).squeeze()\n",
    "\n",
    "        mat = meshcat.geometry.MeshLambertMaterial(color=0xFFF812)\n",
    "        mat.reflectivity = 1.0\n",
    "        vis2[name]['traj']['points' + str(it)].set_object( meshcat_line(pt.squeeze(), pt_nxt.squeeze(),width = 0.03), mat)\n",
    "        \n",
    "        set_joint_angles(pt_q.reshape(-1,))\n",
    "        tf_l2 = plant.EvalBodyPoseInWorld(plant_context, plant.get_body(pydrake.multibody.tree.BodyIndex(3)))\n",
    "        R_l2 = tf_l2.rotation()\n",
    "        tl_l2 = R_l2@np.array([0,0,0.9]) + tf_l2.translation()\n",
    "\n",
    "        tf_la = plant.EvalBodyPoseInWorld(plant_context, plant.get_body(pydrake.multibody.tree.BodyIndex(4)))\n",
    "        R_la = tf_la.rotation()\n",
    "        tl_la = R_la@np.array([0,0,1.2]) + tf_la.translation()\n",
    "\n",
    "\n",
    "        mat = meshcat.geometry.MeshLambertMaterial(color=0x0029F1)\n",
    "        mat.reflectivity = 1.0\n",
    "        vis[name]['traj']['link2']['points' + str(it)].set_object(\n",
    "                    meshcat.geometry.Sphere(0.02), mat)\n",
    "        vis[name]['traj']['link2']['points' + str(it)].set_transform(\n",
    "                    meshcat.transformations.translation_matrix(tl_l2))\n",
    "        mat = meshcat.geometry.MeshLambertMaterial(color=0x07F100)\n",
    "        mat.reflectivity = 1.0\n",
    "        vis[name]['traj']['linka']['points' + str(it)].set_object(\n",
    "                    meshcat.geometry.Sphere(0.02), mat)\n",
    "        vis[name]['traj']['linka']['points' + str(it)].set_transform(\n",
    "                    meshcat.transformations.translation_matrix(tl_la))"
   ]
  },
  {
   "cell_type": "markdown",
   "metadata": {},
   "source": [
    "## CONSTRUCT T SPACE IRIS ##\n"
   ]
  },
  {
   "cell_type": "code",
   "execution_count": 26,
   "metadata": {},
   "outputs": [],
   "source": [
    "iris_rational_space, query, forward_kin = set_up_iris_t_space(plant, scene_graph, context, settings = None)\n",
    "\n",
    "def do_iris(t_seed, verbose = False):\n",
    "        start_time = time.time()\n",
    "        hpoly = iris_rational_space(query, t_seed, require_containment_points=[t_seed], iteration_limit=100)\n",
    "        ellipse = hpoly.MaximumVolumeInscribedEllipsoid()\n",
    "        if verbose:\n",
    "            print(\"Time: %6.2f \\tVolume: %6.2f \\tCenter:\" % (time.time() - start_time, ellipse.Volume()),\n",
    "              ellipse.center(), flush=True)\n",
    "        return hpoly, ellipse"
   ]
  },
  {
   "cell_type": "code",
   "execution_count": 27,
   "metadata": {
    "scrolled": true
   },
   "outputs": [
    {
     "name": "stdout",
     "output_type": "stream",
     "text": [
      "0\n",
      "terminating because a required containment point would have not been contained\n",
      "0\n",
      "1\n",
      "0\n",
      "1\n",
      "0\n",
      "1\n",
      "0\n",
      "1\n",
      "SUCCESS\n"
     ]
    }
   ],
   "source": [
    "USE_HAND_CRAFTED = True\n",
    "\n",
    "seed_points_q = np.array([[0.0, 0, 0], # startpoint\n",
    "                        [0.8, -0.8, 1.3],  # blue low green up\n",
    "                        [0.1, -1.2, 0.9],     # green low other up\n",
    "                        [0.2, -0.6, 1.6],\n",
    "                        [-0.5, -1.0, 1.9]])[::-1, :]    # passing\n",
    "\n",
    "seed_points = convert_q_to_t(seed_points_q)\n",
    "\n",
    "def rejection_sampling_iris(its):\n",
    "    regions = []\n",
    "    ellipses = []\n",
    "    samples = []\n",
    "    seed_points = [start.squeeze(), target.squeeze()]\n",
    "    reg, ell = do_iris(seed_points[0])\n",
    "    regions.append(reg)\n",
    "    ellipses.append(ell)\n",
    "    reg, ell = do_iris(seed_points[1])\n",
    "    regions.append(reg)\n",
    "    ellipses.append(ell)\n",
    "    \n",
    "    for _ in range(its):\n",
    "        #rejection sampling to get initial feasible point \n",
    "        found = False\n",
    "        while not found:\n",
    "            t = np.random.rand(3)\n",
    "            t_samp = (1-t)*t_low + t*t_high\n",
    "            found = (col_func_handle_rational(*t_samp)==0.0)\n",
    "        print(\"point found: \", t_samp)\n",
    "        seed_points.append(t_samp)\n",
    "        reg, ell = do_iris(t_samp)\n",
    "    \n",
    "        regions.append(reg)\n",
    "        ellipses.append(ell)\n",
    "    return regions, ellipses, seed_points\n",
    "\n",
    "def hand_crafted_seedpoint_iris(seed_points):\n",
    "    regions = []\n",
    "    ellipses = []\n",
    "    for i in range(seed_points.shape[0]):\n",
    "        reg, ell = do_iris(seed_points[i, :])\n",
    "        regions.append(reg)\n",
    "        ellipses.append(ell)\n",
    "    print(\"SUCCESS\")\n",
    "    return regions, ellipses, seed_points \n",
    "\n",
    "if USE_HAND_CRAFTED:\n",
    "    regions, ellipses, region_seeds = hand_crafted_seedpoint_iris(seed_points)\n",
    "else:\n",
    "    regions, ellipses, region_seeds = rejection_sampling_iris(15)\n",
    "\n",
    "region_seeds = np.array(region_seeds)\n",
    "for i in range(region_seeds.shape[0]):\n",
    "    vis2['iris']['seedpoints'][\"seedpoint\"+str(i)].set_object(\n",
    "                meshcat.geometry.Sphere(0.05), meshcat.geometry.MeshLambertMaterial(color=0x0FB900))\n",
    "    vis2['iris']['seedpoints'][\"seedpoint\"+str(i)].set_transform(\n",
    "                meshcat.transformations.translation_matrix(region_seeds[i,:]))"
   ]
  },
  {
   "cell_type": "code",
   "execution_count": 30,
   "metadata": {},
   "outputs": [
    {
     "name": "stdout",
     "output_type": "stream",
     "text": [
      "0\n",
      "1\n",
      "0\n",
      "0\n",
      "1\n",
      "0.37930179421595867\n",
      "[RRT IRIS] it: 0 distance to target:  0.379 goalsample prob:  0.497\n",
      "1\n",
      "0\n",
      "1\n",
      "0.346036366205027\n",
      "[RRT IRIS] it: 1 distance to target:  0.346 goalsample prob:  0.523\n",
      "2\n",
      "0\n",
      "terminating because a required containment point would have not been contained\n",
      "0.23710459733728406\n",
      "[RRT IRIS] it: 2 distance to target:  0.237 goalsample prob:  0.610\n",
      "3\n",
      "0\n",
      "1\n",
      "0.23710459733728412\n",
      "4\n",
      "0\n",
      "1\n",
      "0.2371045973372841\n",
      "5\n",
      "0\n",
      "terminating because a required containment point would have not been contained\n",
      "5.551115123125783e-17\n",
      "[RRT IRIS] it: 5 distance to target:  0.000 goalsample prob:  0.800\n"
     ]
    }
   ],
   "source": [
    "iris_hand = partial(do_iris, verbose = False)\n",
    "\n",
    "def plot_callback(region, seed_point, pos_samp, region_id, vis):\n",
    "    scale = np.clip(150 + region_id *105/5.0, a_min = 0, a_max = 255)\n",
    "    mat = meshcat.geometry.MeshLambertMaterial(color= utils.rgb_to_hex((int(0.2*scale), 155, int(scale))) , wireframe=True)\n",
    "    mat_seed = meshcat.geometry.MeshLambertMaterial(color= utils.rgb_to_hex((0, 0, 0)), wireframe=True)\n",
    "    mat_samp = meshcat.geometry.MeshLambertMaterial(color= utils.rgb_to_hex((155, 0, 155)), wireframe=True)\n",
    "    mat.opacity = 0.2\n",
    "    \n",
    "    utils.plot_3d_poly(region = region,\n",
    "                       resolution = 30,\n",
    "                       vis = vis['regions'],\n",
    "                       name = str(region_id),\n",
    "                       mat = mat)\n",
    "    \n",
    "    utils.plot_point(seed_point,\n",
    "                     radius = 0.05, \n",
    "                     mat = mat_seed, \n",
    "                     vis = vis['seed'], \n",
    "                     marker_id = str(region_id))\n",
    "    \n",
    "    utils.plot_point(pos_samp,\n",
    "                     radius = 0.05, \n",
    "                     mat = mat_samp, \n",
    "                     vis = vis['samples'], \n",
    "                     marker_id = str(region_id))\n",
    "    \n",
    "plot_callback_handle = partial(plot_callback, vis = vis2['rrtiris']) \n",
    "\n",
    "def collision(pos, col_func_handle):\n",
    "    return col_func_handle(pos[0], pos[1], pos[2])\n",
    "    \n",
    "rrti_col_fn_handle = partial(collision, col_func_handle = col_func_handle_rational)\n",
    "\n",
    "RRTI = rrtiris.RRTIRIS(start = start.squeeze(), \n",
    "                       goal = target.squeeze(), \n",
    "                       limits = [np.array(t_low), np.array(t_high)], \n",
    "                       iris_handle = iris_hand,\n",
    "                       col_func_handle = rrti_col_fn_handle, \n",
    "                       init_goal_sample_rate = 0.05,\n",
    "                       goal_sample_rate_scaler = 0.8,\n",
    "                       verbose = True,\n",
    "                       plotcallback = plot_callback_handle,\n",
    "                       sample_collision_free = True\n",
    "                       )\n",
    "success, regions, ellipses = RRTI.run(20)"
   ]
  },
  {
   "cell_type": "markdown",
   "metadata": {},
   "source": [
    "## Plotting Resulting Regions ##\n"
   ]
  },
  {
   "cell_type": "code",
   "execution_count": 31,
   "metadata": {},
   "outputs": [],
   "source": [
    "idx = 0\n",
    "\n",
    "for region in regions:\n",
    "    c1 = int(np.clip(255*np.random.rand(), a_min = 0, a_max = 255))\n",
    "    c2 = int(np.clip(255*np.random.rand(), a_min = 0, a_max = 255))\n",
    "    c3 = int(np.clip(255*np.random.rand(), a_min = 0, a_max = 255))\n",
    "    mat = meshcat.geometry.MeshLambertMaterial(color= utils.rgb_to_hex((c1, c2,c3)), wireframe=True)\n",
    "    mat.opacity = 0.3\n",
    "    utils.plot_3d_poly(region = region,\n",
    "                       resolution = 30,\n",
    "                       vis = vis2['iris']['regions'],\n",
    "                       name = str(idx),\n",
    "                       mat = mat)\n",
    "    \n",
    "    C = ellipses[idx].A()#[:, (0,2,1)]\n",
    "    d = ellipses[idx].center()#[[0,2,1]]\n",
    "    radii, R = np.linalg.eig(C.T@C)\n",
    "    R[:,0] = R[:,0]*np.linalg.det(R)\n",
    "    Rot = RotationMatrix(R)\n",
    " \n",
    "    transf = RigidTransform(Rot, d)\n",
    "    mat = meshcat.geometry.MeshLambertMaterial(color= utils.rgb_to_hex((c1, c2,c3)), wireframe=True)\n",
    "    mat.opacity = 0.15\n",
    "    vis2['iris']['ellipses'][str(idx)].set_object(\n",
    "            meshcat.geometry.Ellipsoid(np.divide(1,np.sqrt(radii))),\n",
    "            mat)\n",
    "\n",
    "    vis2['iris']['ellipses'][str(idx)].set_transform(transf.GetAsMatrix4())\n",
    "    \n",
    "    idx+=1"
   ]
  },
  {
   "cell_type": "code",
   "execution_count": 32,
   "metadata": {},
   "outputs": [
    {
     "name": "stdout",
     "output_type": "stream",
     "text": [
      "44.95453214645386\n",
      "0.0\n",
      "6.8245431563950945\n"
     ]
    }
   ],
   "source": [
    "# Solve path planning\n",
    "start_time = time.time()\n",
    "spp = BsplineTrajectoryThroughUnionOfHPolyhedra(start.squeeze(), target.squeeze(), regions)\n",
    "spp.set_max_velocity([.3, .3, .3])\n",
    "spp.set_extra_control_points_per_region(3)\n",
    "\n",
    "# print(spp.num_regions())\n",
    "traj_iris = spp.SolveVerbose()\n",
    "print(time.time() - start_time)\n",
    "print(traj_iris.start_time())\n",
    "print(traj_iris.end_time())\n",
    "draw_traj_tspace(traj_iris, 100, 'iris')"
   ]
  },
  {
   "cell_type": "code",
   "execution_count": 33,
   "metadata": {},
   "outputs": [
    {
     "name": "stdout",
     "output_type": "stream",
     "text": [
      "0\n",
      "it: 0 distance to target:  0.689 goalsample prob:  0.180\n",
      "it: 2 distance to target:  0.625 goalsample prob:  0.237\n",
      "it: 4 distance to target:  0.560 goalsample prob:  0.296\n",
      "it: 6 distance to target:  0.530 goalsample prob:  0.323\n",
      "it: 7 distance to target:  0.491 goalsample prob:  0.358\n",
      "it: 8 distance to target:  0.481 goalsample prob:  0.367\n",
      "it: 9 distance to target:  0.447 goalsample prob:  0.398\n",
      "it: 13 distance to target:  0.395 goalsample prob:  0.445\n",
      "it: 987 distance to target:  0.374 goalsample prob:  0.464\n",
      "1000\n",
      "2000\n",
      "it: 2248 distance to target:  0.353 goalsample prob:  0.482\n",
      "it: 2249 distance to target:  0.255 goalsample prob:  0.571\n",
      "it: 2250 distance to target:  0.157 goalsample prob:  0.659\n",
      "it: 2251 distance to target:  0.059 goalsample prob:  0.747\n",
      "it: 2254 distance to target:  0.001 goalsample prob:  0.799\n",
      "[RRT] Collision free path found in  2254  steps\n"
     ]
    }
   ],
   "source": [
    "#rrt cfg\n",
    "limits = [np.array(t_low), np.array(t_high)]\n",
    "mat = meshcat.geometry.MeshLambertMaterial(color= 0x000000 , wireframe=True)\n",
    "\n",
    "def plotting_fn(parent, child, pos_samp, idx, mat, width):\n",
    "    vis2['rrt']['tree']['line' + str(idx)].set_object( meshcat_line(parent.pos, child.pos, width), mat)\n",
    "    \n",
    "plotting_fn_handle = partial(plotting_fn, mat = mat, width = 0.01)\n",
    "\n",
    "def collision(pos, col_func_handle):\n",
    "    return col_func_handle(pos[0], pos[1], pos[2])\n",
    "    \n",
    "rrt_col_fn_handle = partial(collision, col_func_handle = col_func_handle_rational)\n",
    "    \n",
    "RRT = rrt.RRT(start = start.squeeze(),\n",
    "              goal = target.squeeze(),\n",
    "              limits = limits,\n",
    "              col_func_handle=rrt_col_fn_handle,\n",
    "              max_extend_length=0.1,\n",
    "              extend_steps=0.002,\n",
    "              init_goal_sample_rate=0.1,\n",
    "              goal_sample_rate_scaler=0.9,\n",
    "              verbose = True, \n",
    "              plotcallback = plotting_fn_handle,\n",
    "              sample_collision_free= False)\n",
    "\n",
    "success, path = RRT.run(8000)\n",
    "if success:\n",
    "    mat = meshcat.geometry.MeshLambertMaterial(color= 0xFFF812 , wireframe=True)\n",
    "    mat.wireframeLinewidth = 2.0\n",
    "    num_waypoints = len(path)\n",
    "    #for idx in range(num_waypoints-1):\n",
    "    #    vis2['rrt']['path']['path' + str(idx)].set_object( meshcat_line(path[idx], path[idx+1],width = 0.01), mat)\n",
    "    traj_rrt= utils.PWLinTraj(path, 5.0)\n",
    "    draw_traj_tspace(traj_rrt, 60, 'rrt')"
   ]
  },
  {
   "cell_type": "code",
   "execution_count": 34,
   "metadata": {
    "scrolled": true
   },
   "outputs": [
    {
     "name": "stdout",
     "output_type": "stream",
     "text": [
      "[PRM] Samples 0\n",
      "[PRM] Samples 30\n",
      "[PRM] Samples 60\n",
      "[PRM] Samples 90\n",
      "[PRM] Samples 120\n",
      "[PRM] Samples 150\n",
      "[PRM] Samples 180\n",
      "[PRM] Samples 210\n",
      "[PRM] Samples 240\n",
      "[PRM] Samples 270\n",
      "[PRM] Samples 300\n",
      "[PRM] Samples 330\n",
      "[PRM] Samples 360\n",
      "[PRM] Samples 390\n",
      "[PRM] Nodes connected: 0\n",
      "[PRM] Nodes connected: 20\n",
      "[PRM] Nodes connected: 40\n",
      "[PRM] Nodes connected: 60\n",
      "[PRM] Nodes connected: 80\n",
      "[PRM] Nodes connected: 100\n",
      "[PRM] Nodes connected: 120\n",
      "[PRM] Nodes connected: 140\n",
      "[PRM] Nodes connected: 160\n",
      "[PRM] Nodes connected: 180\n",
      "[PRM] Nodes connected: 200\n",
      "[PRM] Nodes connected: 220\n",
      "[PRM] Nodes connected: 240\n",
      "[PRM] Nodes connected: 260\n",
      "[PRM] Nodes connected: 280\n",
      "[PRM] Nodes connected: 300\n",
      "[PRM] Nodes connected: 320\n",
      "[PRM] Nodes connected: 340\n",
      "[PRM] Nodes connected: 360\n",
      "[PRM] Nodes connected: 380\n",
      "17 disconnected nodes [[  3]\n",
      " [  9]\n",
      " [ 23]\n",
      " [ 25]\n",
      " [ 36]\n",
      " [ 75]\n",
      " [ 76]\n",
      " [ 81]\n",
      " [ 87]\n",
      " [ 99]\n",
      " [100]\n",
      " [140]\n",
      " [144]\n",
      " [303]\n",
      " [309]\n",
      " [358]\n",
      " [400]]\n"
     ]
    }
   ],
   "source": [
    "#prm cfg\n",
    "limits = [np.array(t_low), np.array(t_high)]\n",
    "mat = meshcat.geometry.MeshLambertMaterial(color= 0x000000 , wireframe=True)\n",
    "\n",
    "def plotting_fn(nodes, adjacency_list, mat, width):\n",
    "    plt_idx = 0\n",
    "    for node_idx in range(nodes.shape[0]):\n",
    "        pos1 = nodes[node_idx, :]\n",
    "        for edge_idx in range(len(adjacency_list[node_idx])): \n",
    "            pos2 = nodes[adjacency_list[node_idx][edge_idx], :]\n",
    "            vis2['prm']['roadmap']['line' + str(plt_idx)].set_object( meshcat_line(pos1, pos2, width), mat)\n",
    "            plt_idx +=1\n",
    "            \n",
    "plotting_fn_handle = partial(plotting_fn, mat = mat, width = 0.01)\n",
    "\n",
    "def collision(pos, col_func_handle):\n",
    "    return col_func_handle(pos[0], pos[1], pos[2])\n",
    "\n",
    "prm_col_fn_handle = partial(collision, col_func_handle = col_func_handle_rational)\n",
    "\n",
    "PRM = prm.PRM( \n",
    "            limits,\n",
    "            num_points = 400,\n",
    "            col_func_handle = prm_col_fn_handle,\n",
    "            num_neighbours = 5, \n",
    "            dist_thresh = .5,\n",
    "            num_col_checks = 10,\n",
    "            verbose = True,\n",
    "            plotcallback = plotting_fn_handle\n",
    "            )\n",
    "\n",
    "PRM.add_start_end(start.squeeze(), target.squeeze())\n",
    "PRM.plot()\n",
    "path, sp_length = PRM.find_shortest_path()\n",
    "\n",
    "mat = meshcat.geometry.MeshLambertMaterial(color= 0xFFF812 , wireframe=True)\n",
    "mat.wireframeLinewidth = 2.0\n",
    "num_waypoints = len(path)\n",
    "#for idx in range(num_waypoints-1):\n",
    "#    vis2['prm']['path']['path' + str(idx)].set_object( meshcat_line(path[idx], path[idx+1],width = 0.01), mat)\n",
    "traj_prm = utils.PWLinTraj(path, 5.0)\n",
    "draw_traj_tspace(traj_prm, 60, 'prm')"
   ]
  },
  {
   "cell_type": "code",
   "execution_count": 23,
   "metadata": {},
   "outputs": [
    {
     "name": "stdout",
     "output_type": "stream",
     "text": [
      "0.0           \r"
     ]
    }
   ],
   "source": [
    "#animate Iris + spp sol\n",
    "substeps = 1000\n",
    "its = 5\n",
    "utils.animate_t(traj_iris, showres, substeps, convert_t_to_q, its*substeps)\n",
    "            "
   ]
  },
  {
   "cell_type": "code",
   "execution_count": null,
   "metadata": {},
   "outputs": [],
   "source": [
    "#animate RRT sol\n",
    "substeps = 1000\n",
    "its = 5\n",
    "utils.animate_t(traj_rrt, showres, substeps, convert_t_to_q, its*substeps)\n",
    "            "
   ]
  },
  {
   "cell_type": "code",
   "execution_count": null,
   "metadata": {},
   "outputs": [],
   "source": [
    "#animate PRM\n",
    "substeps = 1000\n",
    "its = 5\n",
    "#utils.plot(traj_prm, substeps, its*substeps)\n",
    "utils.animate_t(traj_prm, showres, substeps, convert_t_to_q, its*substeps)\n",
    "            \n"
   ]
  },
  {
   "cell_type": "code",
   "execution_count": null,
   "metadata": {},
   "outputs": [],
   "source": []
  }
 ],
 "metadata": {
  "interpreter": {
   "hash": "916dbcbb3f70747c44a77c7bcd40155683ae19c65e1c03b4aa3499c5328201f1"
  },
  "kernelspec": {
   "display_name": "Python 3",
   "language": "python",
   "name": "python3"
  },
  "language_info": {
   "codemirror_mode": {
    "name": "ipython",
    "version": 3
   },
   "file_extension": ".py",
   "mimetype": "text/x-python",
   "name": "python",
   "nbconvert_exporter": "python",
   "pygments_lexer": "ipython3",
   "version": "3.8.10"
  }
 },
 "nbformat": 4,
 "nbformat_minor": 2
}
