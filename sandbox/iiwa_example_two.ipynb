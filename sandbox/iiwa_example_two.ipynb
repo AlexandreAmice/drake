{
 "cells": [
  {
   "cell_type": "code",
   "execution_count": null,
   "metadata": {},
   "outputs": [],
   "source": [
    "%load_ext autoreload"
   ]
  },
  {
   "cell_type": "code",
   "execution_count": null,
   "metadata": {},
   "outputs": [],
   "source": [
    "import numpy as np\n",
    "import os\n",
    "import mcubes\n",
    "import meshcat\n",
    "import pydrake\n",
    "from pydrake.geometry import SceneGraph\n",
    "from pydrake.systems.framework import DiagramBuilder\n",
    "from pydrake.common import FindResourceOrThrow\n",
    "from pydrake.multibody.plant import MultibodyPlant, AddMultibodyPlantSceneGraph\n",
    "from pydrake.multibody.parsing import Parser, LoadModelDirectives, ProcessModelDirectives\n",
    "from pydrake.multibody.tree import RevoluteJoint\n",
    "from pydrake.all import ConnectMeshcatVisualizer, InverseKinematics, RigidTransform, RotationMatrix\n",
    "from pydrake.all import BsplineTrajectoryThroughUnionOfHPolyhedra, IrisInConfigurationSpace, IrisOptions, Rgba\n",
    "import time\n",
    "from meshcat import Visualizer\n",
    "from functools import partial\n",
    "\n",
    "import ipywidgets as widgets\n",
    "from IPython.display import display\n",
    "\n",
    "#from meshcat_cpp_utils import StartMeshcat, MeshcatJointSliders\n",
    "from pydrake.all import MeshcatVisualizerCpp, MeshcatVisualizerParams, Role\n",
    "import rrt, utils, prm# spp"
   ]
  },
  {
   "cell_type": "code",
   "execution_count": null,
   "metadata": {},
   "outputs": [],
   "source": [
    "# Setup meshcat\n",
    "from meshcat.servers.zmqserver import start_zmq_server_as_subprocess\n",
    "proc, zmq_url, web_url = start_zmq_server_as_subprocess(server_args=[])"
   ]
  },
  {
   "cell_type": "code",
   "execution_count": null,
   "metadata": {},
   "outputs": [],
   "source": [
    "vis = Visualizer(zmq_url=zmq_url)\n",
    "vis.delete()\n",
    "\n",
    "#model_file = FindResourceOrThrow(\"drake/manipulation/models/iiwa_description/urdf/iiwa14_polytope_collision.urdf\")\n",
    "model_file = FindResourceOrThrow(\"drake/manipulation/models/iiwa_description/iiwa7/iiwa7_with_box_collision.sdf\")\n",
    "model_file_2 = FindResourceOrThrow(\"drake/manipulation/models/iiwa_description/iiwa7_2/iiwa7_with_box_collision.sdf\")\n",
    "#model_file = FindResourceOrThrow(\"drake/manipulation/models/iiwa_description/iiwa7/iiwa7_no_collision.sdf\")\n",
    "#model_file = FindResourceOrThrow(\"drake/manipulation/models/iiwa_description/sdf/iiwa14_no_collision.sdf\")\n",
    "\n",
    "#box_file = FindResourceOrThrow(\"drake/sandbox/assets/box.urdf\")\n",
    "box_file_1 = FindResourceOrThrow(\"drake/sandbox/assets/shelves.sdf\")\n",
    "box_file_2 = FindResourceOrThrow(\"drake/sandbox/assets/shelves2.sdf\")\n",
    "\n",
    "models =[]\n",
    "\n",
    "builder = DiagramBuilder()\n",
    "\n",
    "plant, scene_graph = AddMultibodyPlantSceneGraph(builder, time_step=1e-4)\n",
    "models.append(Parser(plant, scene_graph).AddModelFromFile(model_file))\n",
    "models.append(Parser(plant, scene_graph).AddModelFromFile(model_file_2))\n",
    "\n",
    "models.append(Parser(plant, scene_graph).AddModelFromFile(box_file_1))\n",
    "models.append(Parser(plant, scene_graph).AddModelFromFile(box_file_2))\n",
    "\n",
    "# locs = [ [0,.2,0], [0,-.2,0], [.6, 0, .4],[-.6, 0, .4]] \n",
    "locs = [ [0,.2,0], [0,-.2,0], [.6, .3, .4],[.6, -.3, .4]] \n",
    "idx = 0\n",
    "for model in models:\n",
    "    plant.WeldFrames(plant.world_frame(), plant.get_body(plant.GetBodyIndices(model)[0]).body_frame(), RigidTransform(locs[idx]))\n",
    "    idx +=1\n",
    "# plant.WeldFrames(plant.world_frame(), plant.GetFrameByName(\"base\", model), RigidTransform(locs[idx]))\n",
    "\n",
    "plant.Finalize()\n",
    "\n",
    "visualizer = ConnectMeshcatVisualizer(builder, scene_graph, zmq_url=zmq_url, delete_prefix_on_load=False, )\n",
    "\n",
    "diagram = builder.Build()\n",
    "visualizer.load()\n",
    "context = diagram.CreateDefaultContext()\n",
    "plant_context = plant.GetMyContextFromRoot(context)\n",
    "diagram.Publish(context)\n",
    "\n"
   ]
  },
  {
   "cell_type": "code",
   "execution_count": null,
   "metadata": {},
   "outputs": [],
   "source": [
    "sliders = []\n",
    "for joint_idx in range(1,8):\n",
    "    for iiwa_idx in [0,1]:\n",
    "        sliders.append(\n",
    "            widgets.FloatSlider(\n",
    "            min=plant.GetJointByName(f\"iiwa_joint_{joint_idx}\",models[iiwa_idx]).position_lower_limit(), \n",
    "            max=plant.GetJointByName(f\"iiwa_joint_{joint_idx}\",models[iiwa_idx]).position_upper_limit(), \n",
    "            value=0, \n",
    "            description=f'model{iiwa_idx}_iiwa_joint_{joint_idx}'\n",
    "            )\n",
    "        )\n",
    "\n",
    "ik = InverseKinematics(plant, plant_context)\n",
    "collision_constraint = ik.AddMinimumDistanceConstraint(0.001, 0.001)\n",
    "\n",
    "def eval_cons(q, c, tol):\n",
    "    return 1-1*float(c.evaluator().CheckSatisfied(q, tol))\n",
    "    \n",
    "col_func_handle = partial(eval_cons, c=collision_constraint, tol=0.01)\n",
    "    \n",
    "def showres(q):\n",
    "    col = col_func_handle(q)\n",
    "    if col:\n",
    "        vis[\"collision\"].set_object(\n",
    "                meshcat.geometry.Sphere(0.1), meshcat.geometry.MeshLambertMaterial(color=0xFF0000))\n",
    "        vis[\"collision\"].set_transform(\n",
    "                meshcat.transformations.translation_matrix([0, 1.0, 1.0]))\n",
    "    else:\n",
    "        vis[\"collision\"].set_object(\n",
    "                meshcat.geometry.Sphere(0.1), meshcat.geometry.MeshLambertMaterial(color=0x00FF00))\n",
    "        vis[\"collision\"].set_transform(\n",
    "                meshcat.transformations.translation_matrix([0, 1.0, 1.0]))\n",
    "    diagram.Publish(context)\n",
    "    print(\"              \", end = \"\\r\")\n",
    "    print(col , end = \"\\r\")\n",
    "\n",
    "    \n",
    "def set_joint_angles(vals):\n",
    "    for joint_idx in range(1,8):\n",
    "        for iiwa_idx in [0,1]:\n",
    "            plant.GetJointByName(f\"iiwa_joint_{joint_idx}\",models[iiwa_idx]).set_angle(plant_context, vals[joint_idx-1])\n",
    "    \n",
    "    \n",
    "    \n",
    "q_init = [0.0, 0.0, 0.0, 0.0, 0.0, 0.0, 0.0, 0.0, 0.0, 0.0, 0.0, 0.0, 0.0, 0.0]\n",
    "q = q_init.copy()\n",
    "def handle_slider_change(change, idx):\n",
    "    q[idx] = change['new']\n",
    "    #print(q, end=\"\\r\")\n",
    "    showres(q)\n",
    "    \n",
    "idx = 0\n",
    "for slider in sliders:\n",
    "    slider.observe(partial(handle_slider_change, idx = idx), names='value')\n",
    "    idx+=1\n"
   ]
  },
  {
   "cell_type": "code",
   "execution_count": null,
   "metadata": {
    "scrolled": false
   },
   "outputs": [],
   "source": [
    "for slider in sliders:\n",
    "    display(slider)\n",
    "display(vis.jupyter_cell())"
   ]
  },
  {
   "cell_type": "code",
   "execution_count": null,
   "metadata": {},
   "outputs": [],
   "source": [
    "#problem config\n",
    "start = np.array([-0.87, 0.83, 1.21, 0.21, 0., 0., -1.59, -1.49, 0., 0., -1.19, 0., 0., 0.])\n",
    "target = np.array([-0.83, 0.87, 0.21, 1.21, 0., 0., -1.49, -1.59, 0., 0., 0., -1.19, 0., 0.])\n",
    "showres(start)\n",
    "limits =[plant.GetPositionLowerLimits(), plant.GetPositionUpperLimits()]"
   ]
  },
  {
   "cell_type": "code",
   "execution_count": null,
   "metadata": {},
   "outputs": [],
   "source": [
    "showres(target)"
   ]
  },
  {
   "cell_type": "code",
   "execution_count": null,
   "metadata": {},
   "outputs": [],
   "source": [
    "showres(np.zeros(14))"
   ]
  },
  {
   "cell_type": "code",
   "execution_count": null,
   "metadata": {},
   "outputs": [],
   "source": [
    "PRM = prm.PRM( \n",
    "            limits,\n",
    "            num_points = 100000,\n",
    "            col_func_handle = col_func_handle,\n",
    "            num_neighbours = 20, \n",
    "            dist_thresh = 5.0,\n",
    "            num_col_checks = 10,\n",
    "            verbose = True,\n",
    "            plotcallback = None\n",
    "            )\n",
    "\n",
    "PRM.add_start_end(start, target)\n",
    "prm_path, _ = PRM.find_shortest_path()\n",
    "print(f'PRM path length: {len(prm_path)}')"
   ]
  },
  {
   "cell_type": "code",
   "execution_count": null,
   "metadata": {},
   "outputs": [],
   "source": [
    "prm_traj= utils.PWLinTraj(prm_path, 5.0)\n",
    "substeps = 1000\n",
    "utils.animate(prm_traj, showres, substeps, 1*substeps)\n",
    "utils.plot(prm_traj, substeps, 1*substeps)"
   ]
  },
  {
   "cell_type": "code",
   "execution_count": null,
   "metadata": {},
   "outputs": [],
   "source": [
    "print(f'PRM path shape: {np.array(prm_path).shape}')\n",
    "subsampled_prm_path = prm_path[1:-1]\n",
    "print(f'PRM path shape subsampled for IRIS seed points: {np.array(subsampled_prm_path).shape}')"
   ]
  },
  {
   "cell_type": "code",
   "execution_count": null,
   "metadata": {
    "scrolled": true
   },
   "outputs": [],
   "source": [
    "# DOESN'T CONVERGE YET\n",
    "\n",
    "RRT = rrt.RRT(start = target,\n",
    "              goal = start,\n",
    "              limits = limits,\n",
    "              col_func_handle=col_func_handle,\n",
    "              max_extend_length=.001,\n",
    "              extend_steps=0.0005,\n",
    "              init_goal_sample_rate=0.00,\n",
    "              goal_sample_rate_scaler=0.35,\n",
    "              verbose = True, \n",
    "              plotcallback = None)\n",
    "\n",
    "_, path = RRT.run(30000)\n",
    "print(f'RRT path length: {len(rrt_path)}')"
   ]
  },
  {
   "cell_type": "code",
   "execution_count": null,
   "metadata": {},
   "outputs": [],
   "source": [
    "rrt_traj= utils.PWLinTraj(rrt_path, 5.0)\n",
    "substeps = 1000\n",
    "utils.animate(rrt_traj, showres, substeps, 1*substeps)\n",
    "utils.plot(rrt_traj, substeps, 1*substeps)"
   ]
  },
  {
   "cell_type": "code",
   "execution_count": null,
   "metadata": {},
   "outputs": [],
   "source": [
    "print(f'RRT path shape: {np.array(rrt_path).shape}')\n",
    "subsampled_rrt_path = rrt_path[1:-1:10]\n",
    "print(f'RRT path shape subsampled for IRIS seed points: {np.array(subsampled_rrt_path).shape}')"
   ]
  },
  {
   "cell_type": "code",
   "execution_count": null,
   "metadata": {},
   "outputs": [],
   "source": [
    "def do_iris(q_seed, iris_options):\n",
    "    start_time = time.time()\n",
    "    hpoly = IrisInConfigurationSpace(plant, plant_context, q_seed, iris_options)\n",
    "    ellipse = hpoly.MaximumVolumeInscribedEllipsoid()\n",
    "    print(\"Time: %6.2f \\tVolume: %6.2f \\tCenter:\" % (time.time() - start_time, ellipse.Volume()),\n",
    "          ellipse.center(), flush=True)\n",
    "    return ellipse, hpoly\n",
    "\n",
    "iris_options = IrisOptions()\n",
    "iris_options.require_sample_point_is_contained = True\n",
    "iris_options.iteration_limit = 50\n",
    "iris_options.enable_ibex = False\n",
    "\n",
    "regions = []\n",
    "ellipses = []\n",
    "its = 40\n",
    "# seed_points = rrt_path\n",
    "# seed_points = [start] + subsampled_rrt_path + [target]\n",
    "seed_points = [start] + subsampled_prm_path + [target]\n",
    "# seed_points = [start, target]\n",
    "\n",
    "it = 0\n",
    "for point in seed_points:\n",
    "    ell, reg = do_iris(point, iris_options)\n",
    "    \n",
    "    if ell.Volume() < 1000.0:\n",
    "        regions.append(reg)\n",
    "        ellipses.append(ell)\n",
    "        \n",
    "        set_joint_angles(ell.center())\n",
    "        tf = plant.EvalBodyPoseInWorld(plant_context, plant.get_body(pydrake.multibody.tree.BodyIndex(6)))\n",
    "        mat = meshcat.geometry.MeshLambertMaterial(color=0x0029F1)\n",
    "        mat.reflectivity = 1.0\n",
    "        vis['centers']['points' + str(it)].set_object(\n",
    "                    meshcat.geometry.Sphere(0.02), mat)\n",
    "        vis['centers']['points' + str(it)].set_transform(tf.GetAsMatrix4())\n",
    "    it += 1"
   ]
  },
  {
   "cell_type": "code",
   "execution_count": null,
   "metadata": {},
   "outputs": [],
   "source": [
    "start_time = time.time()\n",
    "spp = BsplineTrajectoryThroughUnionOfHPolyhedra(start, target, regions)\n",
    "spp.set_max_velocity(.8 * np.ones(7))\n",
    "spp.set_extra_control_points_per_region(2)\n",
    "\n",
    "print(spp.num_regions())\n",
    "traj = spp.Solve()\n",
    "print(time.time() - start_time)\n",
    "print(traj)\n",
    "\n",
    "print(traj.start_time())\n",
    "print(traj.end_time())\n",
    "#visualize\n",
    "maxit = 60\n",
    "pts = []\n",
    "for it in range(maxit):\n",
    "    print(f'Iteration {it}/{maxit-1}')\n",
    "    pts.append(traj.value(it*traj.end_time()/maxit))\n",
    "    mat = meshcat.geometry.MeshLambertMaterial(color=0xFFF812)\n",
    "    mat.reflectivity = 1.0\n",
    "    set_joint_angles(pts[-1].reshape(-1,))\n",
    "    tf= plant.EvalBodyPoseInWorld(plant_context, plant.get_body(pydrake.multibody.tree.BodyIndex(3)))\n",
    "   \n",
    "     \n",
    "    mat = meshcat.geometry.MeshLambertMaterial(color=0x0029F1)\n",
    "    mat.reflectivity = 1.0\n",
    "    vis['traj']['points' + str(it)].set_object(\n",
    "                meshcat.geometry.Sphere(0.02), mat)\n",
    "    vis['traj']['points' + str(it)].set_transform(\n",
    "                meshcat.transformations.translation_matrix(tf.translation()))\n",
    "    "
   ]
  },
  {
   "cell_type": "code",
   "execution_count": null,
   "metadata": {},
   "outputs": [],
   "source": [
    "pts = []\n",
    "for it in range(100):\n",
    "    pts.append(traj.value(it*traj.end_time()/maxit))\n",
    "    mat = meshcat.geometry.MeshLambertMaterial(color=0xFFF812)\n",
    "    mat.reflectivity = 1.0\n",
    "    set_joint_angles(pts[-1].reshape(-1,))\n",
    "    tf= plant.EvalBodyPoseInWorld(plant_context, plant.get_body(pydrake.multibody.tree.BodyIndex(3)))\n",
    "   \n",
    "     \n",
    "    mat = meshcat.geometry.MeshLambertMaterial(color=0x0029F1)\n",
    "    mat.reflectivity = 1.0\n",
    "    vis['traj']['points' + str(it)].set_object(\n",
    "                meshcat.geometry.Sphere(0.02), mat)\n",
    "    vis['traj']['points' + str(it)].set_transform(\n",
    "                meshcat.transformations.translation_matrix(tf.tranlation()))"
   ]
  },
  {
   "cell_type": "code",
   "execution_count": null,
   "metadata": {},
   "outputs": [],
   "source": [
    "# traj\n",
    "substeps = 1000\n",
    "utils.animate(traj, showres, substeps, 1*substeps)\n",
    "utils.plot(traj, substeps, 1*substeps)"
   ]
  },
  {
   "cell_type": "code",
   "execution_count": null,
   "metadata": {},
   "outputs": [],
   "source": [
    "# Manual reversal of IRIS trajectory\n",
    "\n",
    "import matplotlib.pyplot as plt\n",
    "\n",
    "#loop\n",
    "idx = 0\n",
    "going_fwd = True\n",
    "time_points = np.linspace(0, traj.end_time(), substeps) \n",
    "\n",
    "for _ in range(substeps):\n",
    "    #print(idx)\n",
    "    q = traj.value(time_points[substeps-idx-1])\n",
    "    showres(q.reshape(-1,))\n",
    "    if going_fwd:\n",
    "        if idx + 1 < substeps:\n",
    "            idx += 1\n",
    "        else:\n",
    "            going_fwd = False\n",
    "            idx -=1\n",
    "    else:\n",
    "        if idx-1 >= 0:\n",
    "            idx -=1\n",
    "        else:\n",
    "            going_fwd = True\n",
    "            idx +=1\n",
    "\n",
    "\n",
    "#loop\n",
    "idx = 0\n",
    "going_fwd = True\n",
    "time_points = np.linspace(0, traj.end_time(), substeps) \n",
    "traj_list = []\n",
    "\n",
    "for _ in range(substeps):\n",
    "    #print(idx)\n",
    "    traj_list.append(traj.value(time_points[substeps-idx-1]).reshape(-1,))\n",
    "    if going_fwd:\n",
    "        if idx + 1 < substeps:\n",
    "            idx += 1\n",
    "        else:\n",
    "            going_fwd = False\n",
    "            idx -=1\n",
    "    else:\n",
    "        if idx-1 >= 0:\n",
    "            idx -=1\n",
    "        else:\n",
    "            going_fwd = True\n",
    "            idx +=1\n",
    "\n",
    "traj_arr = np.array(traj_list)\n",
    "\n",
    "fig, ax = plt.subplots(1,1, figsize=(10,6), dpi=72*3)\n",
    "data_dims = traj_arr.shape[1]\n",
    "for joint_idx in range(data_dims):\n",
    "    ax.plot(np.arange(len(traj_arr[:,joint_idx])),traj_arr[:,joint_idx], label=f'Joint {joint_idx+1}')\n",
    "ax.legend(loc='upper center', ncol=data_dims)\n",
    "ax.set_ylim([-np.pi, np.pi])\n",
    "plt.show()"
   ]
  },
  {
   "cell_type": "raw",
   "metadata": {},
   "source": []
  },
  {
   "cell_type": "code",
   "execution_count": null,
   "metadata": {},
   "outputs": [],
   "source": [
    "traj= utils.PWLinTraj(path, 5.0)\n",
    "substeps = 1000\n",
    "utils.animate(traj, showres, substeps, 1*substeps)"
   ]
  },
  {
   "cell_type": "code",
   "execution_count": null,
   "metadata": {},
   "outputs": [],
   "source": [
    "import spp\n"
   ]
  },
  {
   "cell_type": "code",
   "execution_count": null,
   "metadata": {},
   "outputs": [],
   "source": [
    "from pydrake.geometry.optimization import \n"
   ]
  },
  {
   "cell_type": "code",
   "execution_count": null,
   "metadata": {},
   "outputs": [],
   "source": []
  }
 ],
 "metadata": {
  "interpreter": {
   "hash": "916dbcbb3f70747c44a77c7bcd40155683ae19c65e1c03b4aa3499c5328201f1"
  },
  "kernelspec": {
   "display_name": "Python 3",
   "language": "python",
   "name": "python3"
  },
  "language_info": {
   "codemirror_mode": {
    "name": "ipython",
    "version": 3
   },
   "file_extension": ".py",
   "mimetype": "text/x-python",
   "name": "python",
   "nbconvert_exporter": "python",
   "pygments_lexer": "ipython3",
   "version": "3.8.10"
  }
 },
 "nbformat": 4,
 "nbformat_minor": 2
}
