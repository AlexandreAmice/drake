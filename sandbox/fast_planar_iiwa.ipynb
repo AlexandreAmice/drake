{
 "cells": [
  {
   "cell_type": "markdown",
   "metadata": {},
   "source": [
    "Based off of https://github.com/RussTedrake/manipulation/blob/iris/iris.ipynb"
   ]
  },
  {
   "cell_type": "code",
   "execution_count": 1,
   "metadata": {},
   "outputs": [],
   "source": [
    "%load_ext autoreload\n",
    "%autoreload 2\n",
    "\n",
    "import sys\n",
    "import os\n",
    "import time\n",
    "import numpy as np\n",
    "\n",
    "import pydrake\n",
    "\n",
    "from pydrake.all import BsplineTrajectoryThroughUnionOfHPolyhedra, IrisInConfigurationSpace, IrisOptions\n",
    "from pydrake.common import FindResourceOrThrow\n",
    "from pydrake.geometry import SceneGraph\n",
    "from pydrake.math import RigidTransform, RollPitchYaw\n",
    "from pydrake.multibody.optimization import CalcGridPointsOptions, Toppra\n",
    "from pydrake.multibody.parsing import LoadModelDirectives, Parser, ProcessModelDirectives\n",
    "from pydrake.multibody.plant import MultibodyPlant, AddMultibodyPlantSceneGraph\n",
    "from pydrake.multibody.tree import RevoluteJoint\n",
    "from pydrake.solvers.mathematicalprogram import MathematicalProgram, Solve\n",
    "from pydrake.solvers.mosek import MosekSolver\n",
    "from pydrake.systems.analysis import Simulator\n",
    "from pydrake.systems.framework import DiagramBuilder\n",
    "from pydrake.systems.primitives import TrajectorySource\n",
    "from pydrake.trajectories import PiecewisePolynomial\n",
    "\n",
    "from pydrake.all import MultibodyPositionToGeometryPose, ConnectMeshcatVisualizer, Role, Sphere\n",
    "\n",
    "from meshcat import Visualizer"
   ]
  },
  {
   "cell_type": "code",
   "execution_count": 2,
   "metadata": {},
   "outputs": [],
   "source": [
    "# Setup meshcat\n",
    "from meshcat.servers.zmqserver import start_zmq_server_as_subprocess\n",
    "proc, zmq_url, web_url = start_zmq_server_as_subprocess(server_args=[])\n",
    "\n",
    "# Sporadically need to run `pkill -f meshcat`"
   ]
  },
  {
   "cell_type": "code",
   "execution_count": 3,
   "metadata": {},
   "outputs": [
    {
     "name": "stdout",
     "output_type": "stream",
     "text": [
      "You can open the visualizer by visiting the following URL:\n",
      "http://127.0.0.1:7006/static/\n"
     ]
    },
    {
     "data": {
      "text/html": [
       "\n",
       "            <div style=\"height: 400px; width: 100%; overflow-x: auto; overflow-y: hidden; resize: both\">\n",
       "            <iframe src=\"http://127.0.0.1:7006/static/\" style=\"width: 100%; height: 100%; border: none\"></iframe>\n",
       "            </div>\n",
       "            "
      ],
      "text/plain": [
       "<IPython.core.display.HTML object>"
      ]
     },
     "metadata": {},
     "output_type": "display_data"
    },
    {
     "name": "stdout",
     "output_type": "stream",
     "text": [
      "Connecting to meshcat-server at zmq_url=tcp://127.0.0.1:6006...\n",
      "You can open the visualizer by visiting the following URL:\n",
      "http://127.0.0.1:7006/static/\n",
      "Connected to meshcat-server.\n"
     ]
    }
   ],
   "source": [
    "simple_collision = True\n",
    "# gripper_welded = True\n",
    "\n",
    "vis = Visualizer(zmq_url=zmq_url)\n",
    "vis.delete()\n",
    "display(vis.jupyter_cell())\n",
    "\n",
    "builder = DiagramBuilder()\n",
    "plant, scene_graph = AddMultibodyPlantSceneGraph(builder, time_step=0.001)\n",
    "parser = Parser(plant)\n",
    "parser.package_map().Add( \"wsg_50_description\", os.path.dirname(FindResourceOrThrow(\n",
    "            \"drake/manipulation/models/wsg_50_description/package.xml\")))\n",
    "\n",
    "directives_file = FindResourceOrThrow(\"drake/sandbox/planar_iiwa_simple_collision_welded_gripper.yaml\") \\\n",
    "    if simple_collision else FindResourceOrThrow(\"drake/sandbox/planar_iiwa_dense_collision_welded_gripper.yaml\")\n",
    "directives = LoadModelDirectives(directives_file)\n",
    "models = ProcessModelDirectives(directives, plant, parser)\n",
    "\n",
    "q0 = [-0.2, -1.2, 1.6]\n",
    "index = 0\n",
    "for joint_index in plant.GetJointIndices(models[0].model_instance):\n",
    "    joint = plant.get_mutable_joint(joint_index)\n",
    "    if isinstance(joint, RevoluteJoint):\n",
    "        joint.set_default_angle(q0[index])\n",
    "        index += 1\n",
    "\n",
    "plant.Finalize()\n",
    "\n",
    "visualizer = ConnectMeshcatVisualizer(builder, scene_graph, zmq_url=zmq_url, delete_prefix_on_load=False)\n",
    "\n",
    "diagram = builder.Build()\n",
    "visualizer.load()\n",
    "context = diagram.CreateDefaultContext()\n",
    "plant_context = plant.GetMyContextFromRoot(context)\n",
    "diagram.Publish(context)"
   ]
  },
  {
   "cell_type": "code",
   "execution_count": 5,
   "metadata": {},
   "outputs": [],
   "source": [
    "def visualize_trajectory(traj):\n",
    "    builder = DiagramBuilder()\n",
    "    \n",
    "    scene_graph = builder.AddSystem(SceneGraph())\n",
    "    plant = MultibodyPlant(time_step=0.0)\n",
    "    plant.RegisterAsSourceForSceneGraph(scene_graph)\n",
    "    parser = Parser(plant)\n",
    "    parser.package_map().Add( \"wsg_50_description\", os.path.dirname(FindResourceOrThrow(\n",
    "                \"drake/manipulation/models/wsg_50_description/package.xml\")))\n",
    "\n",
    "    directives_file = FindResourceOrThrow(\"drake/sandbox/planar_iiwa_simple_collision_welded_gripper.yaml\") \\\n",
    "        if simple_collision else FindResourceOrThrow(\"drake/sandbox/planar_iiwa_dense_collision_welded_gripper.yaml\")\n",
    "    directives = LoadModelDirectives(directives_file)\n",
    "    models = ProcessModelDirectives(directives, plant, parser)\n",
    "\n",
    "    q0 = [-0.2, -1.2, 1.6]\n",
    "    index = 0\n",
    "    for joint_index in plant.GetJointIndices(models[0].model_instance):\n",
    "        joint = plant.get_mutable_joint(joint_index)\n",
    "        if isinstance(joint, RevoluteJoint):\n",
    "            joint.set_default_angle(q0[index])\n",
    "            index += 1\n",
    "\n",
    "    plant.Finalize()\n",
    "\n",
    "    to_pose = builder.AddSystem(MultibodyPositionToGeometryPose(plant))\n",
    "    builder.Connect(to_pose.get_output_port(), scene_graph.get_source_pose_port(plant.get_source_id()))\n",
    "\n",
    "    traj_system = builder.AddSystem(TrajectorySource(traj))\n",
    "    builder.Connect(traj_system.get_output_port(), to_pose.get_input_port())\n",
    "    \n",
    "    meshcat = ConnectMeshcatVisualizer(builder, scene_graph, zmq_url=zmq_url)\n",
    "\n",
    "    vis_diagram = builder.Build()\n",
    "\n",
    "    simulator = Simulator(vis_diagram)\n",
    "    meshcat.start_recording()\n",
    "    simulator.AdvanceTo(traj.end_time())\n",
    "    meshcat.publish_recording()\n",
    "    with open(\"/tmp/spp_shelves.html\", \"w\") as f:\n",
    "        f.write(meshcat.vis.static_html())\n"
   ]
  },
  {
   "cell_type": "code",
   "execution_count": 6,
   "metadata": {},
   "outputs": [],
   "source": [
    "seed_points = np.array([[0.0, -2.016, 1.975], # in tight\n",
    "                        [-1, -2, 0.5],        # neutral pose\n",
    "                        [0.3, -0.8, 0.5],     # above shelf\n",
    "                        [0.25, -1.6, -0.25],  # in shelf 1\n",
    "                        [0.07, -1.8, -0.2],   # leaving shelf 1\n",
    "                        [-0.1, -2, -0.3]])    # out of shelf 1\n",
    "\n",
    "# traj = PiecewisePolynomial.FirstOrderHold(np.array([0, 1]), np.array([seed_points[4], seed_points[1]]).T)\n",
    "# visualize_trajectory(traj)"
   ]
  },
  {
   "cell_type": "code",
   "execution_count": 7,
   "metadata": {},
   "outputs": [
    {
     "name": "stdout",
     "output_type": "stream",
     "text": [
      "Time:   0.17 \tVolume:  18.61 \tCenter: [-1.06528430e+00  2.85260038e-09  2.96746849e-09]\n",
      "Time:   0.18 \tVolume:  25.21 \tCenter: [-5.38845741e-01  1.72051663e-06 -9.35439726e-10]\n",
      "Time:   0.05 \tVolume:   6.23 \tCenter: [-1.17648763 -0.0925522  -0.15420513]\n",
      "Time:   0.04 \tVolume:   0.02 \tCenter: [ 0.19158528 -1.6465786  -0.25551033]\n",
      "Time:   0.09 \tVolume:   0.40 \tCenter: [-0.32134118 -1.63984588  0.90201244]\n",
      "Time:   0.06 \tVolume:   0.82 \tCenter: [-1.17889953 -1.7948373   1.0475825 ]\n"
     ]
    }
   ],
   "source": [
    "iris_options = IrisOptions()\n",
    "iris_options.require_sample_point_is_contained = True\n",
    "iris_options.iteration_limit = 10\n",
    "iris_options.enable_ibex = False\n",
    "\n",
    "regions = []\n",
    "for i in range(seed_points.shape[0]):\n",
    "    start_time = time.time()\n",
    "    hpoly = IrisInConfigurationSpace(plant, plant_context, seed_points[i,:], iris_options)\n",
    "    ellipse = hpoly.MaximumVolumeInscribedEllipsoid()\n",
    "    print(\"Time: %6.2f \\tVolume: %6.2f \\tCenter:\" % (time.time() - start_time, ellipse.Volume()),\n",
    "          ellipse.center(), flush=True)\n",
    "    regions.append(hpoly)"
   ]
  },
  {
   "cell_type": "code",
   "execution_count": 9,
   "metadata": {},
   "outputs": [
    {
     "name": "stdout",
     "output_type": "stream",
     "text": [
      "11.844375371932983\n",
      "0.0\n",
      "5.164544627810132\n",
      "Connecting to meshcat-server at zmq_url=tcp://127.0.0.1:6006...\n",
      "You can open the visualizer by visiting the following URL:\n",
      "http://127.0.0.1:7006/static/\n",
      "Connected to meshcat-server.\n"
     ]
    }
   ],
   "source": [
    "# Solve path planning\n",
    "start_time = time.time()\n",
    "spp = BsplineTrajectoryThroughUnionOfHPolyhedra(seed_points[2,:], seed_points[3,:], regions)\n",
    "spp.set_max_velocity([.4, .4, .4])\n",
    "spp.set_extra_control_points_per_region(5)\n",
    "# print(spp.num_regions())\n",
    "traj = spp.Solve()\n",
    "print(time.time() - start_time)\n",
    "print(traj.start_time())\n",
    "print(traj.end_time())\n",
    "\n",
    "for q in traj.control_points():\n",
    "    if not any([r.PointInSet(q) for r in regions]):\n",
    "        print(f\"control point {q} in not in any region\")\n",
    "        \n",
    "\n",
    "vis.delete()\n",
    "visualize_trajectory(traj)"
   ]
  },
  {
   "cell_type": "code",
   "execution_count": 9,
   "metadata": {},
   "outputs": [
    {
     "name": "stderr",
     "output_type": "stream",
     "text": [
      "[2021-11-08 17:12:49.053] [console] [error] Toppra failed to find upper bound of controllable set at knot 149/150.\n"
     ]
    },
    {
     "name": "stdout",
     "output_type": "stream",
     "text": [
      "0.07597827911376953\n"
     ]
    },
    {
     "ename": "AttributeError",
     "evalue": "'NoneType' object has no attribute 'end_time'",
     "output_type": "error",
     "traceback": [
      "\u001b[0;31m---------------------------------------------------------------------------\u001b[0m",
      "\u001b[0;31mAttributeError\u001b[0m                            Traceback (most recent call last)",
      "\u001b[0;32m<ipython-input-9-44caf4e874a5>\u001b[0m in \u001b[0;36m<module>\u001b[0;34m\u001b[0m\n\u001b[1;32m     32\u001b[0m \u001b[0;31m# q(s) & s(t) -> q(t)\u001b[0m\u001b[0;34m\u001b[0m\u001b[0;34m\u001b[0m\u001b[0;34m\u001b[0m\u001b[0m\n\u001b[1;32m     33\u001b[0m \u001b[0mprint\u001b[0m\u001b[0;34m(\u001b[0m\u001b[0mtime\u001b[0m\u001b[0;34m.\u001b[0m\u001b[0mtime\u001b[0m\u001b[0;34m(\u001b[0m\u001b[0;34m)\u001b[0m \u001b[0;34m-\u001b[0m \u001b[0mstart_time\u001b[0m\u001b[0;34m)\u001b[0m\u001b[0;34m\u001b[0m\u001b[0;34m\u001b[0m\u001b[0m\n\u001b[0;32m---> 34\u001b[0;31m \u001b[0mprint\u001b[0m\u001b[0;34m(\u001b[0m\u001b[0ms_traj\u001b[0m\u001b[0;34m.\u001b[0m\u001b[0mend_time\u001b[0m\u001b[0;34m(\u001b[0m\u001b[0;34m)\u001b[0m\u001b[0;34m)\u001b[0m\u001b[0;34m\u001b[0m\u001b[0;34m\u001b[0m\u001b[0m\n\u001b[0m\u001b[1;32m     35\u001b[0m \u001b[0;34m\u001b[0m\u001b[0m\n\u001b[1;32m     36\u001b[0m opt_traj = PiecewisePolynomial.CubicWithContinuousSecondDerivatives(\n",
      "\u001b[0;31mAttributeError\u001b[0m: 'NoneType' object has no attribute 'end_time'"
     ]
    }
   ],
   "source": [
    "def get_ctrl_plant():\n",
    "    plant = MultibodyPlant(time_step=0.0)\n",
    "    parser = Parser(plant)\n",
    "    parser.package_map().Add( \"wsg_50_description\", os.path.dirname(FindResourceOrThrow(\n",
    "                \"drake/manipulation/models/wsg_50_description/package.xml\")))\n",
    "\n",
    "    directives_file = FindResourceOrThrow(\"drake/sandbox/planar_iiwa_simple_collision_welded_gripper.yaml\") \\\n",
    "        if simple_collision else FindResourceOrThrow(\"drake/sandbox/planar_iiwa_dense_collision_welded_gripper.yaml\")\n",
    "    directives = LoadModelDirectives(directives_file)\n",
    "    models = ProcessModelDirectives(directives, plant, parser)\n",
    "\n",
    "    q0 = [-0.2, -1.2, 1.6]\n",
    "    index = 0\n",
    "    for joint_index in plant.GetJointIndices(models[0].model_instance):\n",
    "        joint = plant.get_mutable_joint(joint_index)\n",
    "        if isinstance(joint, RevoluteJoint):\n",
    "            joint.set_default_angle(q0[index])\n",
    "            index += 1\n",
    "\n",
    "    plant.Finalize()\n",
    "    \n",
    "    return plant\n",
    "\n",
    "start_time = time.time()\n",
    "toppra_options = CalcGridPointsOptions()\n",
    "gridpoints = Toppra.CalcGridPoints(traj, toppra_options)\n",
    "toppra = Toppra(traj, get_ctrl_plant(), gridpoints)\n",
    "vel_con = toppra.AddJointVelocityLimit([-0.6, -0.6, -0.6], [0.6, 0.6, 0.6])\n",
    "acc_con = toppra.AddJointAccelerationLimit([-2, -2, -2], [2, 2, 2])\n",
    "s_traj = toppra.SolvePathParameterization()\n",
    "\n",
    "# q(s) & s(t) -> q(t)\n",
    "print(time.time() - start_time)\n",
    "print(s_traj.end_time())\n",
    "\n",
    "opt_traj = PiecewisePolynomial.CubicWithContinuousSecondDerivatives(\n",
    "    s_traj.get_segment_times(), traj.vector_values(gridpoints), np.zeros(3), np.zeros(3))\n",
    "visualize_trajectory(opt_traj)"
   ]
  },
  {
   "cell_type": "code",
   "execution_count": 11,
   "metadata": {},
   "outputs": [
    {
     "name": "stdout",
     "output_type": "stream",
     "text": [
      "Connecting to meshcat-server at zmq_url=tcp://127.0.0.1:6006...\n",
      "You can open the visualizer by visiting the following URL:\n",
      "http://127.0.0.1:7006/static/\n",
      "Connected to meshcat-server.\n"
     ]
    }
   ],
   "source": [
    "visualize_trajectory(traj)"
   ]
  },
  {
   "cell_type": "code",
   "execution_count": null,
   "metadata": {},
   "outputs": [],
   "source": []
  }
 ],
 "metadata": {
  "kernelspec": {
   "display_name": "Python 3",
   "language": "python",
   "name": "python3"
  },
  "language_info": {
   "codemirror_mode": {
    "name": "ipython",
    "version": 3
   },
   "file_extension": ".py",
   "mimetype": "text/x-python",
   "name": "python",
   "nbconvert_exporter": "python",
   "pygments_lexer": "ipython3",
   "version": "3.8.10"
  }
 },
 "nbformat": 4,
 "nbformat_minor": 2
}
