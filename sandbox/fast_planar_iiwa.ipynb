{
 "cells": [
  {
   "cell_type": "markdown",
   "metadata": {},
   "source": [
    "Based off of https://github.com/RussTedrake/manipulation/blob/iris/iris.ipynb"
   ]
  },
  {
   "cell_type": "code",
   "execution_count": 1,
   "metadata": {},
   "outputs": [],
   "source": [
    "%load_ext autoreload\n",
    "%autoreload 2"
   ]
  },
  {
   "cell_type": "code",
   "execution_count": 2,
   "metadata": {
    "pycharm": {
     "name": "#%%\n"
    }
   },
   "outputs": [],
   "source": [
    "import sys\n",
    "import os\n",
    "import time\n",
    "import numpy as np"
   ]
  },
  {
   "cell_type": "code",
   "execution_count": 3,
   "metadata": {
    "pycharm": {
     "name": "#%%\n"
    }
   },
   "outputs": [
    {
     "name": "stdout",
     "output_type": "stream",
     "text": [
      "Done did\n"
     ]
    }
   ],
   "source": [
    "import pydrake\n",
    "print(\"Done did\")"
   ]
  },
  {
   "cell_type": "code",
   "execution_count": 4,
   "metadata": {
    "pycharm": {
     "name": "#%%\n"
    }
   },
   "outputs": [],
   "source": [
    "from pydrake.all import BsplineTrajectoryThroughUnionOfHPolyhedra, IrisInConfigurationSpace, IrisOptions\n",
    "from pydrake.common import FindResourceOrThrow\n",
    "from pydrake.geometry import SceneGraph\n",
    "from pydrake.math import RigidTransform, RollPitchYaw\n",
    "from pydrake.multibody.optimization import CalcGridPointsOptions, Toppra\n",
    "from pydrake.multibody.parsing import LoadModelDirectives, Parser, ProcessModelDirectives\n",
    "from pydrake.multibody.plant import MultibodyPlant, AddMultibodyPlantSceneGraph\n",
    "from pydrake.multibody.tree import RevoluteJoint\n",
    "from pydrake.solvers.mathematicalprogram import MathematicalProgram, Solve\n",
    "from pydrake.solvers.mosek import MosekSolver\n",
    "from pydrake.systems.analysis import Simulator\n",
    "from pydrake.systems.framework import DiagramBuilder\n",
    "from pydrake.systems.primitives import TrajectorySource\n",
    "from pydrake.trajectories import PiecewisePolynomial\n",
    "from pydrake.all import Variable\n",
    "from pydrake.all import MultibodyPositionToGeometryPose, ConnectMeshcatVisualizer, Role, Sphere\n",
    "from pydrake.all import (\n",
    "    ConvexSet, HPolyhedron, Hyperellipsoid,\n",
    "    MathematicalProgram, Solve, le, IpoptSolver,\n",
    ")\n",
    "\n",
    "from meshcat import Visualizer"
   ]
  },
  {
   "cell_type": "code",
   "execution_count": 5,
   "metadata": {},
   "outputs": [],
   "source": [
    "# Setup meshcat\n",
    "from meshcat.servers.zmqserver import start_zmq_server_as_subprocess\n",
    "proc, zmq_url, web_url = start_zmq_server_as_subprocess(server_args=[])\n",
    "\n",
    "# Sporadically need to run `pkill -f meshcat`"
   ]
  },
  {
   "cell_type": "code",
   "execution_count": 6,
   "metadata": {},
   "outputs": [
    {
     "name": "stdout",
     "output_type": "stream",
     "text": [
      "You can open the visualizer by visiting the following URL:\n",
      "http://127.0.0.1:7000/static/\n"
     ]
    },
    {
     "data": {
      "text/html": [
       "\n",
       "            <div style=\"height: 400px; width: 100%; overflow-x: auto; overflow-y: hidden; resize: both\">\n",
       "            <iframe src=\"http://127.0.0.1:7000/static/\" style=\"width: 100%; height: 100%; border: none\"></iframe>\n",
       "            </div>\n",
       "            "
      ],
      "text/plain": [
       "<IPython.core.display.HTML object>"
      ]
     },
     "metadata": {},
     "output_type": "display_data"
    },
    {
     "ename": "RuntimeError",
     "evalue": "Could not find Drake resource_path 'drake/sandbox/planar_iiwa_simple_collision_welded_gripper.yaml' because Drake CMake install marker specified a resource root of '/home/amice/Documents/coding_projects/drake/install/lib/python3.8/site-packages/pydrake/../../../../share' but that root did not contain the expected file '/home/amice/Documents/coding_projects/drake/install/lib/python3.8/site-packages/pydrake/../../../../share/drake/sandbox/planar_iiwa_simple_collision_welded_gripper.yaml'.",
     "output_type": "error",
     "traceback": [
      "\u001B[0;31m---------------------------------------------------------------------------\u001B[0m",
      "\u001B[0;31mRuntimeError\u001B[0m                              Traceback (most recent call last)",
      "\u001B[0;32m<ipython-input-6-9723874347c9>\u001B[0m in \u001B[0;36m<module>\u001B[0;34m\u001B[0m\n\u001B[1;32m     12\u001B[0m             \"drake/manipulation/models/wsg_50_description/package.xml\")))\n\u001B[1;32m     13\u001B[0m \u001B[0;34m\u001B[0m\u001B[0m\n\u001B[0;32m---> 14\u001B[0;31m \u001B[0mdirectives_file\u001B[0m \u001B[0;34m=\u001B[0m \u001B[0mFindResourceOrThrow\u001B[0m\u001B[0;34m(\u001B[0m\u001B[0;34m\"drake/sandbox/planar_iiwa_simple_collision_welded_gripper.yaml\"\u001B[0m\u001B[0;34m)\u001B[0m\u001B[0;31m \u001B[0m\u001B[0;31m\\\u001B[0m\u001B[0;34m\u001B[0m\u001B[0;34m\u001B[0m\u001B[0m\n\u001B[0m\u001B[1;32m     15\u001B[0m     \u001B[0;32mif\u001B[0m \u001B[0msimple_collision\u001B[0m \u001B[0;32melse\u001B[0m \u001B[0mFindResourceOrThrow\u001B[0m\u001B[0;34m(\u001B[0m\u001B[0;34m\"drake/sandbox/planar_iiwa_dense_collision_welded_gripper.yaml\"\u001B[0m\u001B[0;34m)\u001B[0m\u001B[0;34m\u001B[0m\u001B[0;34m\u001B[0m\u001B[0m\n\u001B[1;32m     16\u001B[0m \u001B[0mdirectives\u001B[0m \u001B[0;34m=\u001B[0m \u001B[0mLoadModelDirectives\u001B[0m\u001B[0;34m(\u001B[0m\u001B[0mdirectives_file\u001B[0m\u001B[0;34m)\u001B[0m\u001B[0;34m\u001B[0m\u001B[0;34m\u001B[0m\u001B[0m\n",
      "\u001B[0;31mRuntimeError\u001B[0m: Could not find Drake resource_path 'drake/sandbox/planar_iiwa_simple_collision_welded_gripper.yaml' because Drake CMake install marker specified a resource root of '/home/amice/Documents/coding_projects/drake/install/lib/python3.8/site-packages/pydrake/../../../../share' but that root did not contain the expected file '/home/amice/Documents/coding_projects/drake/install/lib/python3.8/site-packages/pydrake/../../../../share/drake/sandbox/planar_iiwa_simple_collision_welded_gripper.yaml'."
     ]
    }
   ],
   "source": [
    "simple_collision = True\n",
    "# gripper_welded = True\n",
    "\n",
    "vis = Visualizer(zmq_url=zmq_url)\n",
    "vis.delete()\n",
    "display(vis.jupyter_cell())\n",
    "\n",
    "builder = DiagramBuilder()\n",
    "plant, scene_graph = AddMultibodyPlantSceneGraph(builder, time_step=0.001)\n",
    "parser = Parser(plant)\n",
    "parser.package_map().Add( \"wsg_50_description\", os.path.dirname(FindResourceOrThrow(\n",
    "            \"drake/manipulation/models/wsg_50_description/package.xml\")))\n",
    "\n",
    "directives_file = FindResourceOrThrow(\"drake/sandbox/planar_iiwa_simple_collision_welded_gripper.yaml\") \\\n",
    "    if simple_collision else FindResourceOrThrow(\"drake/sandbox/planar_iiwa_dense_collision_welded_gripper.yaml\")\n",
    "directives = LoadModelDirectives(directives_file)\n",
    "models = ProcessModelDirectives(directives, plant, parser)\n",
    "\n",
    "q0 = [-0.2, -1.2, 1.6]\n",
    "index = 0\n",
    "for joint_index in plant.GetJointIndices(models[0].model_instance):\n",
    "    joint = plant.get_mutable_joint(joint_index)\n",
    "    if isinstance(joint, RevoluteJoint):\n",
    "        joint.set_default_angle(q0[index])\n",
    "        index += 1\n",
    "\n",
    "plant.Finalize()\n",
    "\n",
    "visualizer = ConnectMeshcatVisualizer(builder, scene_graph, zmq_url=zmq_url, delete_prefix_on_load=False)\n",
    "\n",
    "diagram = builder.Build()\n",
    "visualizer.load()\n",
    "context = diagram.CreateDefaultContext()\n",
    "plant_context = plant.GetMyContextFromRoot(context)\n",
    "diagram.Publish(context)"
   ]
  },
  {
   "cell_type": "code",
   "execution_count": 7,
   "metadata": {},
   "outputs": [],
   "source": [
    "def visualize_trajectory(traj):\n",
    "    builder = DiagramBuilder()\n",
    "    \n",
    "    scene_graph = builder.AddSystem(SceneGraph())\n",
    "    plant = MultibodyPlant(time_step=0.0)\n",
    "    plant.RegisterAsSourceForSceneGraph(scene_graph)\n",
    "    parser = Parser(plant)\n",
    "    parser.package_map().Add( \"wsg_50_description\", os.path.dirname(FindResourceOrThrow(\n",
    "                \"drake/manipulation/models/wsg_50_description/package.xml\")))\n",
    "\n",
    "    directives_file = FindResourceOrThrow(\"drake/sandbox/planar_iiwa_simple_collision_welded_gripper.yaml\") \\\n",
    "        if simple_collision else FindResourceOrThrow(\"drake/sandbox/planar_iiwa_dense_collision_welded_gripper.yaml\")\n",
    "    directives = LoadModelDirectives(directives_file)\n",
    "    models = ProcessModelDirectives(directives, plant, parser)\n",
    "\n",
    "    q0 = [-0.2, -1.2, 1.6]\n",
    "    index = 0\n",
    "    for joint_index in plant.GetJointIndices(models[0].model_instance):\n",
    "        joint = plant.get_mutable_joint(joint_index)\n",
    "        if isinstance(joint, RevoluteJoint):\n",
    "            joint.set_default_angle(q0[index])\n",
    "            index += 1\n",
    "\n",
    "    plant.Finalize()\n",
    "\n",
    "    to_pose = builder.AddSystem(MultibodyPositionToGeometryPose(plant))\n",
    "    builder.Connect(to_pose.get_output_port(), scene_graph.get_source_pose_port(plant.get_source_id()))\n",
    "\n",
    "    traj_system = builder.AddSystem(TrajectorySource(traj))\n",
    "    builder.Connect(traj_system.get_output_port(), to_pose.get_input_port())\n",
    "    \n",
    "    meshcat = ConnectMeshcatVisualizer(builder, scene_graph, zmq_url=zmq_url)\n",
    "\n",
    "    vis_diagram = builder.Build()\n",
    "\n",
    "    simulator = Simulator(vis_diagram)\n",
    "    meshcat.start_recording()\n",
    "    simulator.AdvanceTo(traj.end_time())\n",
    "    meshcat.publish_recording()\n",
    "    with open(\"/tmp/spp_shelves.html\", \"w\") as f:\n",
    "        f.write(meshcat.vis.static_html())\n"
   ]
  },
  {
   "cell_type": "code",
   "execution_count": 6,
   "metadata": {},
   "outputs": [],
   "source": [
    "seed_points = np.array([[0.0, -2.016, 1.975], # in tight\n",
    "                        [-1, -2, 0.5],        # neutral pose\n",
    "                        [0.3, -0.8, 0.5],     # above shelf\n",
    "                        [0.25, -1.6, -0.25],  # in shelf 1\n",
    "                        [0.07, -1.8, -0.2],   # leaving shelf 1\n",
    "                        [-0.1, -2, -0.3]])    # out of shelf 1\n",
    "\n",
    "# traj = PiecewisePolynomial.FirstOrderHold(np.array([0, 1]), np.array([seed_points[4], seed_points[1]]).T)\n",
    "# visualize_trajectory(traj)"
   ]
  },
  {
   "cell_type": "code",
   "execution_count": 7,
   "metadata": {},
   "outputs": [
    {
     "name": "stdout",
     "output_type": "stream",
     "text": [
      "Time:   0.20 \tVolume:  18.61 \tCenter: [-1.06528430e+00  2.85260038e-09  2.96746849e-09]\n",
      "Time:   0.18 \tVolume:  25.21 \tCenter: [-5.38845741e-01  1.72051663e-06 -9.35439726e-10]\n",
      "Time:   0.05 \tVolume:   6.23 \tCenter: [-1.17648763 -0.0925522  -0.15420513]\n",
      "Time:   0.04 \tVolume:   0.02 \tCenter: [ 0.19158528 -1.6465786  -0.25551033]\n",
      "Time:   0.09 \tVolume:   0.40 \tCenter: [-0.32134118 -1.63984588  0.90201244]\n",
      "Time:   0.06 \tVolume:   0.82 \tCenter: [-1.17889953 -1.7948373   1.0475825 ]\n"
     ]
    }
   ],
   "source": [
    "#  Now IRIS in configuration space, using dReal to solve for the growth volume\n",
    "# through the nonconvex kinematics.\n",
    "\n",
    "from pydrake.all import (\n",
    "    DrealSolver, eq, SnoptSolver,\n",
    "    Sphere, Ellipsoid, GeometrySet,\n",
    "    RigidBody_, AutoDiffXd, initializeAutoDiff,\n",
    ")\n",
    "\n",
    "# Maybe this one doesn't actually deserve to be part of the main class,\n",
    "# or it needs to be renamed.\n",
    "# It's really the gradient of solution to the GrowthVolume optimization.\n",
    "def TangentPlane(self, point):\n",
    "    a = 2 * self.A().T @ self.A() @ (point - self.center())\n",
    "    a = a / np.linalg.norm(a)\n",
    "    b = a.dot(point)\n",
    "    return a, b\n",
    "\n",
    "Hyperellipsoid.TangentPlane = TangentPlane\n",
    "\n",
    "# diagram, plant, scene_graph = make_environment(robot=True, gripper=False)\n",
    "# lb = np.array([0, -.5, 0])\n",
    "# ub = np.array([1, .5, 1])\n",
    "# context = diagram.CreateDefaultContext()\n",
    "# query = scene_graph.get_query_output_port().Eval(scene_graph.GetMyContextFromRoot(context))\n",
    "\n",
    "sym_plant = plant.ToSymbolic()\n",
    "sym_context = sym_plant.CreateDefaultContext()\n",
    "dReal = DrealSolver()\n",
    "\n",
    "# For SNOPT test.\n",
    "autodiff_plant = plant.ToAutoDiffXd()\n",
    "autodiff_context = autodiff_plant.CreateDefaultContext()\n",
    "snopt = SnoptSolver()\n",
    "\n",
    "vis.delete()\n",
    "\n",
    "def MakeFromSceneGraph(query, geom, expressed_in=None):\n",
    "    shape = query.inspector().GetShape(geom)\n",
    "    if isinstance(shape, (Sphere, Ellipsoid)):\n",
    "        return Hyperellipsoid(query, geom, expressed_in)\n",
    "    return HPolyhedron(query, geom, expressed_in)\n",
    "\n",
    "dReal_polytope_tol = .1\n",
    "\n",
    "def CheckVolume(E, bodyA, bodyB, setA, setB, A, b, volume):\n",
    "    prog = MathematicalProgram()\n",
    "    q = prog.NewContinuousVariables(plant.num_positions(), \"q\")\n",
    "    prog.AddBoundingBoxConstraint(lb, ub, q)\n",
    "    prog.AddLinearConstraint(A, b-np.inf, b, q)\n",
    "    p_AA =  prog.NewContinuousVariables(3, \"p_AA\")\n",
    "    p_BB = prog.NewContinuousVariables(3, \"p_BB\")\n",
    "    if volume < np.inf:\n",
    "        prog.AddConstraint((q-E.center()).T @ E.A().T @ E.A() @ (q-E.center()) <= volume)\n",
    "    setA.AddPointInSetConstraints(prog, p_AA)\n",
    "    setB.AddPointInSetConstraints(prog, p_BB)\n",
    "\n",
    "    sym_plant.SetPositions(sym_context, q)\n",
    "    X_WA = sym_plant.EvalBodyPoseInWorld(sym_context, bodyA)\n",
    "    X_WB = sym_plant.EvalBodyPoseInWorld(sym_context, bodyB)\n",
    "    # Add +0 pending https://github.com/RobotLocomotion/drake/issues/15216\n",
    "    p_WA = X_WA.multiply(p_AA+0)\n",
    "    p_WB = X_WB.multiply(p_BB+0)\n",
    "    prog.AddConstraint(eq(p_WA, p_WB))\n",
    "    prog.SetSolverOption(dReal.id(), \"precision\", .9*dReal_polytope_tol)\n",
    "    result = dReal.Solve(prog)\n",
    "    return result.is_success(), result.GetSolution(q)\n",
    "\n",
    "\n",
    "def GrowthVolume(E, bodyA, bodyB, setA, setB, A, b, guess=None):\n",
    "    prog = MathematicalProgram()\n",
    "    q = prog.NewContinuousVariables(plant.num_positions(), \"q\")\n",
    "\n",
    "    if guess is not None:\n",
    "        prog.SetInitialGuess(q, guess)\n",
    "\n",
    "    prog.AddLinearConstraint(A, b-np.inf, b, q)\n",
    "    p_AA = prog.NewContinuousVariables(3, \"p_AA\")\n",
    "    p_BB = prog.NewContinuousVariables(3, \"p_BB\")\n",
    "    setA.AddPointInSetConstraints(prog, p_AA)\n",
    "    setB.AddPointInSetConstraints(prog, p_BB)\n",
    "    prog.AddQuadraticErrorCost(E.A().T @ E.A(), E.center(), q)\n",
    "\n",
    "    # TODO: Remove these.  They're for debugging only.\n",
    "    #set_meshcat_object(vis['setA'],setA)\n",
    "    #set_meshcat_object(vis['setB'],setB)\n",
    "\n",
    "    if isinstance(bodyA, RigidBody_[AutoDiffXd]):\n",
    "        # TODO: Update this to use MBP<double> and Jacobians if I'm going to keep it.\n",
    "        def kinematics_constraint(vars):\n",
    "            p_AA, p_BB, q = np.split(vars,[3,6])\n",
    "            autodiff_plant.SetPositions(autodiff_context, q)\n",
    "            X_WA = autodiff_plant.EvalBodyPoseInWorld(autodiff_context, bodyA)\n",
    "            X_WB = autodiff_plant.EvalBodyPoseInWorld(autodiff_context, bodyB)\n",
    "            p_WA = X_WA.multiply(p_AA)\n",
    "            p_WB = X_WB.multiply(p_BB)\n",
    "            return p_WA - p_WB\n",
    "        prog.AddConstraint(kinematics_constraint, lb=[0,0,0], ub=[0,0,0],\n",
    "                           vars=np.concatenate((p_AA,p_BB,q)))\n",
    "        result = snopt.Solve(prog)\n",
    "\n",
    "    else:\n",
    "        # TODO: Construct these symbolic expressions once per body outside this method.\n",
    "        # But I would have to substitute in the new q each time.\n",
    "        # Better is to construct the prog once for each pair, and just update the cost?\n",
    "        sym_plant.SetPositions(sym_context, q)\n",
    "        X_WA = sym_plant.EvalBodyPoseInWorld(sym_context, bodyA)\n",
    "        X_WB = sym_plant.EvalBodyPoseInWorld(sym_context, bodyB)\n",
    "        # Add +0 pending https://github.com/RobotLocomotion/drake/issues/15216\n",
    "        p_WA = X_WA.multiply(p_AA+0)\n",
    "        p_WB = X_WB.multiply(p_BB+0)\n",
    "        prog.AddConstraint(eq(p_WA, p_WB))\n",
    "        result = snopt.Solve(prog)\n",
    "        #result = dReal.Solve(prog)\n",
    "\n",
    "    return result.is_success(), result.get_optimal_cost(), result.GetSolution(q)\n",
    "\n",
    "def iris_cspace(query, point, require_containment_points=[], termination_threshold=2e-2, iteration_limit=100):\n",
    "    vis = Visualizer(zmq_url=zmq_url)\n",
    "    set_meshcat_object(vis['sample'], point, color=0x99dd99)\n",
    "\n",
    "    ellipsoid_epsilon = 1e-1\n",
    "    dim = plant.num_positions()\n",
    "    lb = plant.GetPositionLowerLimits()\n",
    "    ub = plant.GetPositionUpperLimits()\n",
    "    assert dim == 3 # need to update the volume once this changes\n",
    "    volume_of_unit_sphere = 4.0*np.pi/3.0\n",
    "    E = Hyperellipsoid(np.eye(3)/ellipsoid_epsilon, point)\n",
    "    set_meshcat_object(vis['ellipse'], E)\n",
    "    best_volume = ellipsoid_epsilon**dim * volume_of_unit_sphere\n",
    "\n",
    "    inspector = query.inspector()\n",
    "    pairs = inspector.GetCollisionCandidates()\n",
    "\n",
    "    P = HPolyhedron.MakeBox(lb, ub)\n",
    "    A = np.vstack((P.A(), np.zeros((10*len(pairs),3))))  # allow up to 10 faces per pair.\n",
    "    b = np.concatenate((P.b(), np.zeros(10*len(pairs))))\n",
    "\n",
    "    geom_ids = inspector.GetGeometryIds(GeometrySet(inspector.GetAllGeometryIds()), Role.kProximity)\n",
    "    sets = {geom:MakeFromSceneGraph(query, geom, inspector.GetFrameId(geom)) for geom in geom_ids}\n",
    "\n",
    "    use_autodiff = True\n",
    "    use_dReal = True\n",
    "    ad_bodies = {geom:autodiff_plant.GetBodyFromFrameId(inspector.GetFrameId(geom)) for geom in geom_ids}\n",
    "    sym_bodies = {geom:sym_plant.GetBodyFromFrameId(inspector.GetFrameId(geom)) for geom in geom_ids}\n",
    "    if use_autodiff:\n",
    "        bodies = ad_bodies\n",
    "\n",
    "    iteration = 0\n",
    "    num_faces = 2*len(lb)\n",
    "    while True:\n",
    "        ## Find separating hyperplanes\n",
    "\n",
    "        for geomA, geomB in pairs:\n",
    "            print(f\"geomA={inspector.GetName(geomA)}, geomB={inspector.GetName(geomB)}\")\n",
    "            # Run snopt at the beginning\n",
    "            while True:\n",
    "                success, growth, qstar = GrowthVolume(E,\n",
    "                    bodies[geomA], bodies[geomB],\n",
    "                    sets[geomA], sets[geomB], A[:num_faces,:], b[:num_faces] - dReal_polytope_tol, point)\n",
    "                if success:\n",
    "                    print(f\"snopt_example={qstar}, growth = {growth}\")\n",
    "                    # Add a face to the polytope\n",
    "                    A[num_faces,:], b[num_faces] = E.TangentPlane(qstar)\n",
    "                    num_faces += 1\n",
    "                else:\n",
    "                    break\n",
    "\n",
    "            if use_dReal:\n",
    "                tries = 0\n",
    "                while True:\n",
    "                    reachable, counter_example = CheckVolume(\n",
    "                        E, sym_bodies[geomA], sym_bodies[geomB], sets[geomA], sets[geomB],\n",
    "                        A[:num_faces,:], b[:num_faces] - dReal_polytope_tol, np.inf)\n",
    "                    if not reachable:\n",
    "                        print(\"unreachable\")\n",
    "                        break\n",
    "                    else:\n",
    "                        z = E.A() @ (counter_example - E.center())\n",
    "                        dreal_growth = z.dot(z)\n",
    "                        print(f\"counter_example = {counter_example}, growth = {dreal_growth}\")\n",
    "                        success, growth, qstar = GrowthVolume(E,\n",
    "                            bodies[geomA], bodies[geomB],\n",
    "                            sets[geomA], sets[geomB], A[:num_faces,:], b[:num_faces] - dReal_polytope_tol, counter_example)\n",
    "                        if success:\n",
    "                            print(f\"snopt_example={qstar}, growth = {growth}\")\n",
    "                            # Add a face to the polytope\n",
    "                            A[num_faces,:], b[num_faces] = E.TangentPlane(qstar)\n",
    "                            num_faces += 1\n",
    "                        if np.all(A[:num_faces,:] @ counter_example <= b[:num_faces] - dReal_polytope_tol):\n",
    "                            # Then also add the counter-example\n",
    "                            A[num_faces,:], b[num_faces] = E.TangentPlane(counter_example)\n",
    "                            num_faces += 1\n",
    "                    tries += 1\n",
    "\n",
    "        if any([np.any(A[:num_faces,:] @ q > b[:num_faces]) for q in require_containment_points]):\n",
    "            print(\"terminating because a required containment point would have not been contained\")\n",
    "            break\n",
    "\n",
    "        P = HPolyhedron(A[:num_faces,:],b[:num_faces])\n",
    "        set_meshcat_object(vis[f'polytope'], P, wireframe=True)\n",
    "\n",
    "        E = P.MaximumVolumeInscribedEllipsoid()\n",
    "        set_meshcat_object(vis[f'ellipse'], E)\n",
    "        print(iteration)\n",
    "\n",
    "        iteration += 1\n",
    "        if iteration >= iteration_limit:\n",
    "            break\n",
    "\n",
    "        volume = volume_of_unit_sphere / np.linalg.det(E.A())\n",
    "        if volume - best_volume <= termination_threshold:\n",
    "            break\n",
    "        best_volume = volume\n",
    "\n",
    "    return P\n",
    "\n",
    "\n",
    "# q = np.array([0.55, 0, 0.65])\n",
    "#q0 = plant.GetPositions(plant.GetMyContextFromRoot(context))\n",
    "# iris_cspace(query, q, require_containment_points=[q], iteration_limit=100);"
   ]
  },
  {
   "cell_type": "code",
   "execution_count": null,
   "metadata": {},
   "outputs": [],
   "source": []
  },
  {
   "cell_type": "code",
   "execution_count": null,
   "metadata": {},
   "outputs": [],
   "source": [
    "# Cpp\n",
    "iris_options = IrisOptions()\n",
    "iris_options.require_sample_point_is_contained = True\n",
    "iris_options.iteration_limit = 10\n",
    "iris_options.enable_ibex = False\n",
    "\n",
    "regions = []\n",
    "for i in range(seed_points.shape[0]):\n",
    "    start_time = time.time()\n",
    "    hpoly = IrisInConfigurationSpace(plant, plant_context, seed_points[i,:], iris_options)\n",
    "#     hpoly = iris_cspace(query, seed_points[i,:], require_containment_points=[seed_points[i,:]], iteration_limit=100)\n",
    "    ellipse = hpoly.MaximumVolumeInscribedEllipsoid()\n",
    "    print(\"Time: %6.2f \\tVolume: %6.2f \\tCenter:\" % (time.time() - start_time, ellipse.Volume()),\n",
    "          ellipse.center(), flush=True)\n",
    "    regions.append(hpoly)"
   ]
  },
  {
   "cell_type": "code",
   "execution_count": 8,
   "metadata": {},
   "outputs": [
    {
     "name": "stdout",
     "output_type": "stream",
     "text": [
      "10.001083135604858\n",
      "0.0\n",
      "5.16454462566856\n",
      "Connecting to meshcat-server at zmq_url=tcp://127.0.0.1:6010...\n",
      "You can open the visualizer by visiting the following URL:\n",
      "http://127.0.0.1:7009/static/\n",
      "Connected to meshcat-server.\n"
     ]
    }
   ],
   "source": [
    "# Solve path planning\n",
    "start_time = time.time()\n",
    "spp = BsplineTrajectoryThroughUnionOfHPolyhedra(seed_points[2,:], seed_points[3,:], regions)\n",
    "spp.set_max_velocity([.4, .4, .4])\n",
    "spp.set_extra_control_points_per_region(5)\n",
    "# print(spp.num_regions())\n",
    "traj = spp.Solve()\n",
    "print(time.time() - start_time)\n",
    "print(traj.start_time())\n",
    "print(traj.end_time())\n",
    "\n",
    "for q in traj.control_points():\n",
    "    if not any([r.PointInSet(q) for r in regions]):\n",
    "        print(f\"control point {q} in not in any region\")\n",
    "        \n",
    "\n",
    "vis.delete()\n",
    "visualize_trajectory(traj)"
   ]
  },
  {
   "cell_type": "code",
   "execution_count": 9,
   "metadata": {},
   "outputs": [
    {
     "name": "stderr",
     "output_type": "stream",
     "text": [
      "[2021-11-08 17:12:49.053] [console] [error] Toppra failed to find upper bound of controllable set at knot 149/150.\n"
     ]
    },
    {
     "name": "stdout",
     "output_type": "stream",
     "text": [
      "0.07597827911376953\n"
     ]
    },
    {
     "ename": "AttributeError",
     "evalue": "'NoneType' object has no attribute 'end_time'",
     "output_type": "error",
     "traceback": [
      "\u001b[0;31m---------------------------------------------------------------------------\u001b[0m",
      "\u001b[0;31mAttributeError\u001b[0m                            Traceback (most recent call last)",
      "\u001b[0;32m<ipython-input-9-44caf4e874a5>\u001b[0m in \u001b[0;36m<module>\u001b[0;34m\u001b[0m\n\u001b[1;32m     32\u001b[0m \u001b[0;31m# q(s) & s(t) -> q(t)\u001b[0m\u001b[0;34m\u001b[0m\u001b[0;34m\u001b[0m\u001b[0;34m\u001b[0m\u001b[0m\n\u001b[1;32m     33\u001b[0m \u001b[0mprint\u001b[0m\u001b[0;34m(\u001b[0m\u001b[0mtime\u001b[0m\u001b[0;34m.\u001b[0m\u001b[0mtime\u001b[0m\u001b[0;34m(\u001b[0m\u001b[0;34m)\u001b[0m \u001b[0;34m-\u001b[0m \u001b[0mstart_time\u001b[0m\u001b[0;34m)\u001b[0m\u001b[0;34m\u001b[0m\u001b[0;34m\u001b[0m\u001b[0m\n\u001b[0;32m---> 34\u001b[0;31m \u001b[0mprint\u001b[0m\u001b[0;34m(\u001b[0m\u001b[0ms_traj\u001b[0m\u001b[0;34m.\u001b[0m\u001b[0mend_time\u001b[0m\u001b[0;34m(\u001b[0m\u001b[0;34m)\u001b[0m\u001b[0;34m)\u001b[0m\u001b[0;34m\u001b[0m\u001b[0;34m\u001b[0m\u001b[0m\n\u001b[0m\u001b[1;32m     35\u001b[0m \u001b[0;34m\u001b[0m\u001b[0m\n\u001b[1;32m     36\u001b[0m opt_traj = PiecewisePolynomial.CubicWithContinuousSecondDerivatives(\n",
      "\u001b[0;31mAttributeError\u001b[0m: 'NoneType' object has no attribute 'end_time'"
     ]
    }
   ],
   "source": [
    "def get_ctrl_plant():\n",
    "    plant = MultibodyPlant(time_step=0.0)\n",
    "    parser = Parser(plant)\n",
    "    parser.package_map().Add( \"wsg_50_description\", os.path.dirname(FindResourceOrThrow(\n",
    "                \"drake/manipulation/models/wsg_50_description/package.xml\")))\n",
    "\n",
    "    directives_file = FindResourceOrThrow(\"drake/sandbox/planar_iiwa_simple_collision_welded_gripper.yaml\") \\\n",
    "        if simple_collision else FindResourceOrThrow(\"drake/sandbox/planar_iiwa_dense_collision_welded_gripper.yaml\")\n",
    "    directives = LoadModelDirectives(directives_file)\n",
    "    models = ProcessModelDirectives(directives, plant, parser)\n",
    "\n",
    "    q0 = [-0.2, -1.2, 1.6]\n",
    "    index = 0\n",
    "    for joint_index in plant.GetJointIndices(models[0].model_instance):\n",
    "        joint = plant.get_mutable_joint(joint_index)\n",
    "        if isinstance(joint, RevoluteJoint):\n",
    "            joint.set_default_angle(q0[index])\n",
    "            index += 1\n",
    "\n",
    "    plant.Finalize()\n",
    "    \n",
    "    return plant\n",
    "\n",
    "start_time = time.time()\n",
    "toppra_options = CalcGridPointsOptions()\n",
    "gridpoints = Toppra.CalcGridPoints(traj, toppra_options)\n",
    "toppra = Toppra(traj, get_ctrl_plant(), gridpoints)\n",
    "vel_con = toppra.AddJointVelocityLimit([-0.6, -0.6, -0.6], [0.6, 0.6, 0.6])\n",
    "acc_con = toppra.AddJointAccelerationLimit([-2, -2, -2], [2, 2, 2])\n",
    "s_traj = toppra.SolvePathParameterization()\n",
    "\n",
    "# q(s) & s(t) -> q(t)\n",
    "print(time.time() - start_time)\n",
    "print(s_traj.end_time())\n",
    "\n",
    "opt_traj = PiecewisePolynomial.CubicWithContinuousSecondDerivatives(\n",
    "    s_traj.get_segment_times(), traj.vector_values(gridpoints), np.zeros(3), np.zeros(3))\n",
    "visualize_trajectory(opt_traj)"
   ]
  },
  {
   "cell_type": "code",
   "execution_count": 10,
   "metadata": {},
   "outputs": [
    {
     "name": "stdout",
     "output_type": "stream",
     "text": [
      "Connecting to meshcat-server at zmq_url=tcp://127.0.0.1:6010...\n",
      "You can open the visualizer by visiting the following URL:\n",
      "http://127.0.0.1:7009/static/\n",
      "Connected to meshcat-server.\n"
     ]
    }
   ],
   "source": [
    "visualize_trajectory(traj)"
   ]
  },
  {
   "cell_type": "code",
   "execution_count": null,
   "metadata": {},
   "outputs": [],
   "source": []
  }
 ],
 "metadata": {
  "kernelspec": {
   "display_name": "Python 3",
   "language": "python",
   "name": "python3"
  },
  "language_info": {
   "codemirror_mode": {
    "name": "ipython",
    "version": 3
   },
   "file_extension": ".py",
   "mimetype": "text/x-python",
   "name": "python",
   "nbconvert_exporter": "python",
   "pygments_lexer": "ipython3",
   "version": "3.8.10"
  }
 },
 "nbformat": 4,
 "nbformat_minor": 2
}
