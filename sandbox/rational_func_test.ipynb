{
 "cells": [
  {
   "cell_type": "code",
   "execution_count": 1,
   "metadata": {},
   "outputs": [],
   "source": [
    "import sys\n",
    "import os\n",
    "import time\n",
    "import numpy as np"
   ]
  },
  {
   "cell_type": "code",
   "execution_count": 2,
   "metadata": {},
   "outputs": [],
   "source": [
    "import sys\n",
    "import os\n",
    "import time\n",
    "import numpy as np"
   ]
  },
  {
   "cell_type": "code",
   "execution_count": 13,
   "metadata": {},
   "outputs": [],
   "source": [
    "import pydrake\n",
    "from pydrake.all import BsplineTrajectoryThroughUnionOfHPolyhedra, IrisInConfigurationSpace, IrisOptions\n",
    "from pydrake.common import FindResourceOrThrow\n",
    "from pydrake.geometry import SceneGraph\n",
    "from pydrake.math import RigidTransform, RollPitchYaw\n",
    "from pydrake.multibody.optimization import CalcGridPointsOptions, Toppra\n",
    "from pydrake.multibody.parsing import LoadModelDirectives, Parser, ProcessModelDirectives\n",
    "from pydrake.multibody.plant import MultibodyPlant, AddMultibodyPlantSceneGraph\n",
    "from pydrake.multibody.tree import RevoluteJoint\n",
    "from pydrake.solvers.mathematicalprogram import MathematicalProgram, Solve\n",
    "from pydrake.solvers.mosek import MosekSolver\n",
    "from pydrake.systems.analysis import Simulator\n",
    "from pydrake.systems.framework import DiagramBuilder\n",
    "from pydrake.systems.primitives import TrajectorySource\n",
    "from pydrake.trajectories import PiecewisePolynomial\n",
    "from pydrake.all import Variable\n",
    "from pydrake.all import MultibodyPositionToGeometryPose, ConnectMeshcatVisualizer, Role, Sphere\n",
    "from pydrake.all import (\n",
    "    ConvexSet, HPolyhedron, Hyperellipsoid,\n",
    "    MathematicalProgram, Solve, le, IpoptSolver,\n",
    "    Role, Sphere,\n",
    "    Iris, IrisOptions, MakeIrisObstacles, Variable\n",
    ")\n",
    "from pydrake.all import (\n",
    "    eq, SnoptSolver,\n",
    "    Sphere, Ellipsoid, GeometrySet,\n",
    "    RigidBody_, AutoDiffXd, initializeAutoDiff,\n",
    ")\n",
    "\n",
    "import pydrake.symbolic as sym\n",
    "\n",
    "from meshcat import Visualizer\n",
    "\n",
    "# Setup meshcat\n",
    "from meshcat.servers.zmqserver import start_zmq_server_as_subprocess\n",
    "proc, zmq_url, web_url = start_zmq_server_as_subprocess(server_args=[])\n",
    "\n",
    "def xreplace(expr, rules):\n",
    "        if isinstance(expr, float) or isinstance(expr, sym.Variable):\n",
    "            return expr\n",
    "        assert isinstance(expr, sym.Expression), expr\n",
    "        for old, new in rules:\n",
    "            if expr.EqualTo(old):\n",
    "                return new\n",
    "        ctor, old_args = expr.Deconstruct()\n",
    "        new_args = [xreplace(e, rules) for e in old_args]\n",
    "        return ctor(*new_args)\n",
    "    \n",
    "from pydrake.symbolic import RationalFunction\n",
    "\n",
    "def generate_rationalize_trig_expr_rules(q_var, t_var):\n",
    "    rules = []\n",
    "    denom = 1\n",
    "    for i in range(t.shape[0]):\n",
    "        sin_rule = (sym.sin(q[i]), (2*t[i])/(1+t[i]**2))\n",
    "        cos_rule = (sym.cos(q[i]), (1-t[i]**2)/(1+t[i]**2))\n",
    "        rules += [sin_rule, cos_rule]\n",
    "#         denom *= (1+t[i]**2)\n",
    "    return rules\n",
    "\n",
    "\n",
    "def rationalize_trig_expr(expr, rules):\n",
    "    return xreplace(expr, rules)"
   ]
  },
  {
   "cell_type": "code",
   "execution_count": 14,
   "metadata": {},
   "outputs": [],
   "source": [
    "q = sym.MakeVectorContinuousVariable(3,\"q\")\n",
    "prog = MathematicalProgram()\n",
    "t = prog.NewContinuousVariables(q.shape[0], \"t\")\n",
    "\n",
    "x1 = sym.sin(q[0])\n",
    "y1 = -sym.cos(q[1])\n",
    "x2 = sym.sin(q[0])+ 1/2*sym.sin(q[1])\n",
    "y2 = sym.cos(q[0]) + sym.cos(q[1])"
   ]
  },
  {
   "cell_type": "code",
   "execution_count": 15,
   "metadata": {},
   "outputs": [],
   "source": [
    "sub_rules = generate_rationalize_trig_expr_rules(q,t)\n",
    "u1 = rationalize_trig_expr(x1, sub_rules)\n",
    "v1 = rationalize_trig_expr(y1, sub_rules)\n",
    "u2 = rationalize_trig_expr(x2, sub_rules)\n",
    "v2 = rationalize_trig_expr(y2, sub_rules)"
   ]
  },
  {
   "cell_type": "code",
   "execution_count": 17,
   "metadata": {},
   "outputs": [
    {
     "name": "stdout",
     "output_type": "stream",
     "text": [
      "<class 'pydrake.symbolic.Expression'>\n"
     ]
    }
   ],
   "source": [
    "print(type(v2))"
   ]
  },
  {
   "cell_type": "code",
   "execution_count": null,
   "metadata": {},
   "outputs": [],
   "source": []
  }
 ],
 "metadata": {
  "kernelspec": {
   "display_name": "Python 3",
   "language": "python",
   "name": "python3"
  },
  "language_info": {
   "codemirror_mode": {
    "name": "ipython",
    "version": 3
   },
   "file_extension": ".py",
   "mimetype": "text/x-python",
   "name": "python",
   "nbconvert_exporter": "python",
   "pygments_lexer": "ipython3",
   "version": "3.8.10"
  }
 },
 "nbformat": 4,
 "nbformat_minor": 1
}
