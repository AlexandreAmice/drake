{
 "cells": [
  {
   "cell_type": "code",
   "execution_count": null,
   "metadata": {},
   "outputs": [],
   "source": [
    "%load_ext autoreload"
   ]
  },
  {
   "cell_type": "code",
   "execution_count": null,
   "metadata": {},
   "outputs": [],
   "source": [
    "from certified_iris_generator import CertifiedIrisRegionGenerator\n",
    "import sys\n",
    "import os\n",
    "import time\n",
    "import numpy as np\n",
    "from functools import partial\n",
    "import itertools\n",
    "import mcubes\n",
    "import sos_iris_certifier.visualizations_utils as viz_utils\n",
    "from sos_iris_certifier.iris_plant_visualizer import IrisPlantVisualizer"
   ]
  },
  {
   "cell_type": "code",
   "execution_count": null,
   "metadata": {},
   "outputs": [],
   "source": [
    "#pydrake imports\n",
    "from pydrake.common import FindResourceOrThrow\n",
    "from pydrake.multibody.parsing import LoadModelDirectives, Parser, ProcessModelDirectives\n",
    "from pydrake.multibody.plant import MultibodyPlant, AddMultibodyPlantSceneGraph\n",
    "from pydrake.systems.framework import DiagramBuilder\n",
    "from pydrake.all import InverseKinematics, RevoluteJoint\n",
    "import pydrake.symbolic as sym\n",
    "from pydrake.all import MathematicalProgram\n",
    "import meshcat"
   ]
  },
  {
   "cell_type": "markdown",
   "metadata": {},
   "source": [
    "# Build plant"
   ]
  },
  {
   "cell_type": "code",
   "execution_count": null,
   "metadata": {},
   "outputs": [],
   "source": [
    "\n",
    "builder = DiagramBuilder()\n",
    "plant, scene_graph = AddMultibodyPlantSceneGraph(builder, time_step=0.001)\n",
    "parser = Parser(plant)\n",
    "parser.package_map().Add( \"wsg_50_description\", os.path.dirname(FindResourceOrThrow(\n",
    "            \"drake/manipulation/models/wsg_50_description/package.xml\")))\n",
    "\n",
    "simple_collision = True\n",
    "directives_file = FindResourceOrThrow(\"drake/sos_iris_certifier/planar_iiwa_simple_collision_welded_gripper.yaml\") \\\n",
    "    if simple_collision else FindResourceOrThrow(\"drake/sos_iris_certifier/planar_iiwa_dense_collision_welded_gripper.yaml\")\n",
    "directives = LoadModelDirectives(directives_file)\n",
    "models = ProcessModelDirectives(directives, plant, parser)\n",
    "\n",
    "q0 = [-0.2, -1.2, 1.6]\n",
    "index = 0\n",
    "for joint_index in plant.GetJointIndices(models[0].model_instance):\n",
    "    joint = plant.get_mutable_joint(joint_index)\n",
    "    if isinstance(joint, RevoluteJoint):\n",
    "        joint.set_default_angle(q0[index])\n",
    "        index += 1\n",
    "\n",
    "plant.Finalize()\n"
   ]
  },
  {
   "cell_type": "markdown",
   "metadata": {},
   "source": [
    "# Setup meshcat visualization"
   ]
  },
  {
   "cell_type": "code",
   "execution_count": null,
   "metadata": {},
   "outputs": [],
   "source": [
    "do_viz = True\n",
    "visualizer = IrisPlantVisualizer(plant, builder, scene_graph)"
   ]
  },
  {
   "cell_type": "markdown",
   "metadata": {},
   "source": [
    "# Build Certified Iris Region Object"
   ]
  },
  {
   "cell_type": "code",
   "execution_count": null,
   "metadata": {},
   "outputs": [],
   "source": [
    "# options for running non-linear optimizer to obtain good initial starting regions\n",
    "iris_kwargs = {\n",
    "    'iris_starting_ellipse_vol': 1e-5,\n",
    "    'iris_plane_pullback': 1e-4,\n",
    "    'iris_max_ineqs': -1 # don't constrain the maximum number of inequalities. Let SNOPT figure it out\n",
    "}"
   ]
  },
  {
   "cell_type": "code",
   "execution_count": null,
   "metadata": {},
   "outputs": [],
   "source": [
    "q_star = np.zeros(3) # point around which we take the stereographic projection\n",
    "iris_generator = CertifiedIrisRegionGenerator(visualizer.diagram, plant, scene_graph, q_star = q_star, **iris_kwargs)"
   ]
  },
  {
   "cell_type": "code",
   "execution_count": null,
   "metadata": {
    "scrolled": true
   },
   "outputs": [],
   "source": [
    "seed_points_q = np.array([\n",
    "                        [0.0, -2.016, 1.975], # in tight\n",
    "                        [-1, -2, 0.5],        # neutral pose\n",
    "                        [0.3, -0.8, 0.5],     # above shelf\n",
    "                        [0.25, -1.6, -0.25],  # in shelf 1\n",
    "                        [0.07, -1.8, -0.2],   # leaving shelf 1\n",
    "                        [-0.1, -2, -0.3]      # out of shelf 1\n",
    "                        ])\n",
    "seed_points_t = np.tan(seed_points_q/2)\n",
    "\n",
    "#\n",
    "regions, ellipses = iris_generator.generate_initial_regions(seed_points_t)\n"
   ]
  },
  {
   "cell_type": "code",
   "execution_count": null,
   "metadata": {},
   "outputs": [],
   "source": [
    "trajectory_start = seed_points_t[0,:]\n",
    "trajectory_end = seed_points_t[3,:]"
   ]
  },
  {
   "cell_type": "code",
   "execution_count": null,
   "metadata": {},
   "outputs": [],
   "source": [
    "# plot regions and collision constraint\n",
    "if do_viz:\n",
    "    visualizer.plot_regions(regions, ellipses)\n",
    "    visualizer.plot_seedpoints(seed_points_t)\n",
    "    visualizer.visualize_collision_constraint(N = 30)\n",
    "    "
   ]
  },
  {
   "cell_type": "markdown",
   "metadata": {},
   "source": [
    "## Certify the regions"
   ]
  },
  {
   "cell_type": "code",
   "execution_count": null,
   "metadata": {},
   "outputs": [],
   "source": [
    "iris_generator.initalize_certifier(plane_order = 1, strict_pos_tol = 1e-4)"
   ]
  },
  {
   "cell_type": "code",
   "execution_count": null,
   "metadata": {},
   "outputs": [],
   "source": [
    "do_linesearch_cert = True\n",
    "if do_linesearch_cert:\n",
    "    iris_generator.certify_and_adjust_regions_by_linesearch(1e-5)"
   ]
  },
  {
   "cell_type": "code",
   "execution_count": null,
   "metadata": {},
   "outputs": [],
   "source": [
    "# uncomment to visualize planes (TODO)\n",
    "# visualizer.region_to_collision_pair_to_plane_dictionary = iris_generator.linesearch_regions_to_certificates_by_collision_pair_map"
   ]
  },
  {
   "cell_type": "code",
   "execution_count": null,
   "metadata": {},
   "outputs": [],
   "source": [
    "do_alt_cert = False\n",
    "if do_alt_cert:\n",
    "    iris_generator.certify_and_adjust_regions_by_bilinear_alternation(max_iter = 100, \n",
    "                                                                 stopped_improving_count_threshold = 5,\n",
    "                                                                 not_improving_threshold = 1e-4)"
   ]
  },
  {
   "cell_type": "code",
   "execution_count": null,
   "metadata": {},
   "outputs": [],
   "source": [
    "# plot new regions\n",
    "if do_viz:\n",
    "    if do_alt_cert:\n",
    "        visualizer.plot_regions(iris_generator.alternation_search_regions, region_suffix = '_new_by_alternation')\n",
    "    if do_linesearch_cert:\n",
    "        visualizer.plot_regions(iris_generator.linesearch_regions, region_suffix = '_new_by_linesearch')\n",
    "    "
   ]
  },
  {
   "cell_type": "code",
   "execution_count": null,
   "metadata": {},
   "outputs": [],
   "source": [
    "from sos_iris_certifier.spp import solveBsplineTrajectory\n",
    "# Solve path planning\n",
    "start_time = time.time()\n",
    "# trajectory through linesearch_regions\n",
    "\n",
    "traj, result, spp, hard_result = solveBsplineTrajectory(trajectory_start, trajectory_end, \n",
    "                                                        iris_generator.linesearch_regions,\n",
    "                                                        max_velocity=0.3*np.ones(plant.num_positions()))\n",
    "\n"
   ]
  },
  {
   "cell_type": "code",
   "execution_count": null,
   "metadata": {},
   "outputs": [],
   "source": [
    "visualizer.draw_traj_s_space(traj, 100, 'iris')"
   ]
  },
  {
   "cell_type": "code",
   "execution_count": null,
   "metadata": {},
   "outputs": [],
   "source": [
    "substeps = 1000\n",
    "its = 10\n",
    "visualizer.animate_s(traj, substeps, its*substeps)"
   ]
  },
  {
   "cell_type": "code",
   "execution_count": null,
   "metadata": {},
   "outputs": [],
   "source": [
    "# TODO(Alex.Amice) fix the plane plotting\n",
    "# visualizer.region_to_collision_pair_to_plane_dictionary = iris_generator.linesearch_regions_to_certificates_by_collision_pair_map"
   ]
  }
 ],
 "metadata": {
  "interpreter": {
   "hash": "916dbcbb3f70747c44a77c7bcd40155683ae19c65e1c03b4aa3499c5328201f1"
  },
  "kernelspec": {
   "display_name": "Python 3",
   "language": "python",
   "name": "python3"
  },
  "language_info": {
   "codemirror_mode": {
    "name": "ipython",
    "version": 3
   },
   "file_extension": ".py",
   "mimetype": "text/x-python",
   "name": "python",
   "nbconvert_exporter": "python",
   "pygments_lexer": "ipython3",
   "version": "3.8.10"
  }
 },
 "nbformat": 4,
 "nbformat_minor": 2
}
