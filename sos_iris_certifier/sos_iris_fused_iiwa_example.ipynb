{
 "cells": [
  {
   "cell_type": "code",
   "execution_count": null,
   "metadata": {},
   "outputs": [],
   "source": [
    "%load_ext autoreload"
   ]
  },
  {
   "cell_type": "code",
   "execution_count": null,
   "metadata": {},
   "outputs": [],
   "source": [
    "import sys\n",
    "import os\n",
    "import time\n",
    "import numpy as np\n",
    "from functools import partial\n",
    "import itertools\n",
    "import mcubes\n",
    "import visualizations_utils as viz_utils\n",
    "import iris_utils #TODO remove\n",
    "from iris_plant_visualizer import IrisPlantVisualizer"
   ]
  },
  {
   "cell_type": "code",
   "execution_count": null,
   "metadata": {},
   "outputs": [],
   "source": [
    "#pydrake imports\n",
    "from pydrake.common import FindResourceOrThrow\n",
    "from pydrake.multibody.parsing import LoadModelDirectives, Parser, ProcessModelDirectives\n",
    "from pydrake.multibody.plant import MultibodyPlant, AddMultibodyPlantSceneGraph\n",
    "from pydrake.systems.framework import DiagramBuilder\n",
    "from pydrake.all import InverseKinematics, RevoluteJoint\n",
    "import pydrake.symbolic as sym\n",
    "from pydrake.all import MathematicalProgram, RationalForwardKinematics\n",
    "from pydrake.geometry.optimization import IrisOptionsRationalSpace, IrisInRationalConfigurationSpace, HPolyhedron, Hyperellipsoid\n",
    "\n",
    "import meshcat"
   ]
  },
  {
   "cell_type": "markdown",
   "metadata": {},
   "source": [
    "# Build plant"
   ]
  },
  {
   "cell_type": "code",
   "execution_count": null,
   "metadata": {},
   "outputs": [],
   "source": [
    "\n",
    "builder = DiagramBuilder()\n",
    "plant, scene_graph = AddMultibodyPlantSceneGraph(builder, time_step=0.001)\n",
    "parser = Parser(plant)\n",
    "parser.package_map().Add( \"wsg_50_description\", os.path.dirname(FindResourceOrThrow(\n",
    "            \"drake/manipulation/models/wsg_50_description/package.xml\")))\n",
    "\n",
    "simple_collision = True\n",
    "use_gripper = False\n",
    "if simple_collision and use_gripper:\n",
    "    directives_file = FindResourceOrThrow(\"drake/sos_iris_certifier/planar_iiwa_simple_collision_welded_gripper.yaml\")\n",
    "elif not simple_collision and use_gripper:\n",
    "    directives_file = FindResourceOrThrow(\"drake/sos_iris_certifier/planar_iiwa_dense_collision_welded_gripper.yaml\") \n",
    "elif simple_collision and not use_gripper:\n",
    "    directives_file = FindResourceOrThrow(\"drake/sos_iris_certifier/planar_iiwa_simple_collision_no_gripper.yaml\")\n",
    "elif not simple_collision and not use_gripper:\n",
    "    directives_file = FindResourceOrThrow(\"drake/sos_iris_certifier/planar_iiwa_dense_collision_no_gripper.yaml\") \n",
    "directives = LoadModelDirectives(directives_file)\n",
    "models = ProcessModelDirectives(directives, plant, parser)\n",
    "\n",
    "q0 = [-0.2, -1.2, 1.6]\n",
    "index = 0\n",
    "for joint_index in plant.GetJointIndices(models[0].model_instance):\n",
    "    joint = plant.get_mutable_joint(joint_index)\n",
    "    if isinstance(joint, RevoluteJoint):\n",
    "        joint.set_default_angle(q0[index])\n",
    "        index += 1\n",
    "\n",
    "plant.Finalize()\n",
    "# visualizer = ConnectMeshcatVisualizer(builder, scene_graph, zmq_url=zmq_url, \n",
    "#                                       delete_prefix_on_load=False)\n",
    "\n",
    "# diagram = builder.Build()\n",
    "# visualizer.load()\n"
   ]
  },
  {
   "cell_type": "markdown",
   "metadata": {},
   "source": [
    "# Setup meshcat visualization"
   ]
  },
  {
   "cell_type": "code",
   "execution_count": null,
   "metadata": {},
   "outputs": [],
   "source": [
    "do_viz = True\n",
    "visualizer = IrisPlantVisualizer(plant, builder, scene_graph)\n",
    "diagram = visualizer.diagram"
   ]
  },
  {
   "cell_type": "markdown",
   "metadata": {},
   "source": [
    "# Run SNOPT IRIS in rational space"
   ]
  },
  {
   "cell_type": "code",
   "execution_count": null,
   "metadata": {},
   "outputs": [],
   "source": [
    "iris_options = IrisOptionsRationalSpace()\n",
    "iris_options.require_sample_point_is_contained = True\n",
    "iris_options.iteration_limit = 5\n",
    "iris_options.configuration_space_margin = 1e-5\n",
    "iris_options.termination_threshold = -1\n",
    "iris_options.relative_termination_threshold = 0.05\n",
    "iris_options.enable_ibex = False\n",
    "iris_options.certify_region_with_sos_during_generation = False\n",
    "iris_options.certify_region_with_sos_after_generation = False\n",
    "# uncomment to test if non-default is working\n",
    "# currently throwing std::bad_alloc if we try to set q_star\n",
    "iris_options.q_star = 0.5 * np.zeros(3)\n",
    "rational_forward_kinematics = RationalForwardKinematics(plant)\n",
    "\n",
    "\n",
    "#seed points specified in q space\n",
    "seed_points_q = np.array([\n",
    "                        [0.0, -2.016, 1.975], # in tight\n",
    "                        [-1, -2, 0.5],        # neutral pose\n",
    "                        [0.3, -0.8, 0.5],     # above shelf\n",
    "                        [0.25, -1.6, -0.25],  # in shelf 1\n",
    "                        [0.07, -1.8, -0.2],   # leaving shelf 1\n",
    "                        [-0.1, -2, -0.3]      # out of shelf 1\n",
    "                        ]) \n",
    "seed_points_t = np.array([rational_forward_kinematics.ComputeTValue(s, iris_options.q_star) for s in seed_points_q])\n"
   ]
  },
  {
   "cell_type": "code",
   "execution_count": null,
   "metadata": {},
   "outputs": [],
   "source": [
    "regions = []\n",
    "context = diagram.CreateDefaultContext()\n",
    "for i, s in enumerate(seed_points_q):\n",
    "    plant.SetPositions(plant.GetMyMutableContextFromRoot(context), s)\n",
    "    if i > 0:\n",
    "        starting_hpolyhedron = regions[i-1]\n",
    "        r = IrisInRationalConfigurationSpace (plant, plant.GetMyContextFromRoot(context),\n",
    "                                              iris_options, starting_hpolyhedron)\n",
    "    else:\n",
    "        r = IrisInRationalConfigurationSpace(plant, plant.GetMyContextFromRoot(context), iris_options)\n",
    "    regions.append(r)\n",
    "    print(f'Completed region: {i+1}/{len(seed_points_q)}')"
   ]
  },
  {
   "cell_type": "code",
   "execution_count": null,
   "metadata": {},
   "outputs": [],
   "source": [
    "# plot regions and collision constraint\n",
    "if do_viz:\n",
    "    visualizer.plot_regions(regions)\n",
    "    visualizer.plot_seedpoints(seed_points_t)\n",
    "    visualizer.visualize_collision_constraint(N = 50)"
   ]
  },
  {
   "cell_type": "markdown",
   "metadata": {},
   "source": [
    "# Begin Certification"
   ]
  },
  {
   "cell_type": "code",
   "execution_count": null,
   "metadata": {},
   "outputs": [],
   "source": [
    "import pydrake.multibody.rational_forward_kinematics as rational_forward_kinematics\n",
    "from pydrake.solvers import mathematicalprogram as mp\n",
    "cspace_free_region = rational_forward_kinematics.CspaceFreeRegion(diagram, plant, scene_graph,\n",
    "                                   rational_forward_kinematics.SeparatingPlaneOrder.kAffine,\n",
    "                                   rational_forward_kinematics.CspaceRegionType.kGenericPolytope)"
   ]
  },
  {
   "cell_type": "code",
   "execution_count": null,
   "metadata": {},
   "outputs": [],
   "source": [
    "editted_regions = []\n",
    "filtered_collision_pairs = set()\n",
    "bilinear_alternation_option = rational_forward_kinematics.BilinearAlternationOption()\n",
    "bilinear_alternation_option.max_iters = 2\n",
    "bilinear_alternation_option.lagrangian_backoff_scale = 1e-3\n",
    "bilinear_alternation_option.polytope_backoff_scale = 1e-5\n",
    "solver_options = mp.SolverOptions()\n",
    "for r in regions: \n",
    "    try:\n",
    "        C_final, d_final, P_final, q_final = \\\n",
    "            cspace_free_region.CspacePolytopeBilinearAlternation(\n",
    "                iris_options.q_star, filtered_collision_pairs, r.A(), r.b(),\n",
    "                bilinear_alternation_option, solver_options)\n",
    "        editted_regions.append(HPolyhedron(C_final, d_final))\n",
    "    except Exception as e:\n",
    "        print(e)\n",
    "print(len(editted_regions))"
   ]
  },
  {
   "cell_type": "code",
   "execution_count": null,
   "metadata": {},
   "outputs": [],
   "source": [
    "if do_viz:\n",
    "    visualizer.plot_regions(editted_regions)"
   ]
  },
  {
   "cell_type": "code",
   "execution_count": null,
   "metadata": {},
   "outputs": [],
   "source": [
    "editted_regions[0].A()"
   ]
  },
  {
   "cell_type": "code",
   "execution_count": null,
   "metadata": {},
   "outputs": [],
   "source": [
    "editted_regions[0].b()"
   ]
  },
  {
   "cell_type": "code",
   "execution_count": null,
   "metadata": {},
   "outputs": [],
   "source": []
  }
 ],
 "metadata": {
  "interpreter": {
   "hash": "916dbcbb3f70747c44a77c7bcd40155683ae19c65e1c03b4aa3499c5328201f1"
  },
  "kernelspec": {
   "display_name": "Python 3",
   "language": "python",
   "name": "python3"
  },
  "language_info": {
   "codemirror_mode": {
    "name": "ipython",
    "version": 3
   },
   "file_extension": ".py",
   "mimetype": "text/x-python",
   "name": "python",
   "nbconvert_exporter": "python",
   "pygments_lexer": "ipython3",
   "version": "3.8.10"
  }
 },
 "nbformat": 4,
 "nbformat_minor": 2
}
