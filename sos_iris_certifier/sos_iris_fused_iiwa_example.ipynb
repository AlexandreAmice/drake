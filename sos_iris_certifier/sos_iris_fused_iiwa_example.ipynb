{
 "cells": [
  {
   "cell_type": "code",
   "execution_count": 1,
   "metadata": {},
   "outputs": [],
   "source": [
    "%load_ext autoreload"
   ]
  },
  {
   "cell_type": "code",
   "execution_count": 2,
   "metadata": {},
   "outputs": [],
   "source": [
    "import sys\n",
    "import os\n",
    "import time\n",
    "import numpy as np\n",
    "from functools import partial\n",
    "import itertools\n",
    "import mcubes\n",
    "import visualizations_utils as viz_utils\n",
    "import iris_utils #TODO remove\n",
    "from iris_plant_visualizer import IrisPlantVisualizer"
   ]
  },
  {
   "cell_type": "code",
   "execution_count": 7,
   "metadata": {},
   "outputs": [],
   "source": [
    "#pydrake imports\n",
    "from pydrake.common import FindResourceOrThrow\n",
    "from pydrake.multibody.parsing import LoadModelDirectives, Parser, ProcessModelDirectives\n",
    "from pydrake.multibody.plant import MultibodyPlant, AddMultibodyPlantSceneGraph\n",
    "from pydrake.systems.framework import DiagramBuilder\n",
    "from pydrake.all import InverseKinematics, RevoluteJoint\n",
    "import pydrake.symbolic as sym\n",
    "from pydrake.all import MathematicalProgram, RationalForwardKinematics\n",
    "from pydrake.geometry.optimization import IrisOptionsRationalSpace, IrisInRationalConfigurationSpace, HPolyhedron, Hyperellipsoid\n",
    "\n",
    "import meshcat"
   ]
  },
  {
   "cell_type": "markdown",
   "metadata": {},
   "source": [
    "# Build plant"
   ]
  },
  {
   "cell_type": "code",
   "execution_count": 4,
   "metadata": {},
   "outputs": [],
   "source": [
    "\n",
    "builder = DiagramBuilder()\n",
    "plant, scene_graph = AddMultibodyPlantSceneGraph(builder, time_step=0.001)\n",
    "parser = Parser(plant)\n",
    "parser.package_map().Add( \"wsg_50_description\", os.path.dirname(FindResourceOrThrow(\n",
    "            \"drake/manipulation/models/wsg_50_description/package.xml\")))\n",
    "\n",
    "simple_collision = True\n",
    "directives_file = FindResourceOrThrow(\"drake/sos_iris_certifier/planar_iiwa_simple_collision_welded_gripper.yaml\") \\\n",
    "    if simple_collision else FindResourceOrThrow(\"drake/sos_iris_certifier/planar_iiwa_dense_collision_welded_gripper.yaml\")\n",
    "directives = LoadModelDirectives(directives_file)\n",
    "models = ProcessModelDirectives(directives, plant, parser)\n",
    "\n",
    "q0 = [-0.2, -1.2, 1.6]\n",
    "index = 0\n",
    "for joint_index in plant.GetJointIndices(models[0].model_instance):\n",
    "    joint = plant.get_mutable_joint(joint_index)\n",
    "    if isinstance(joint, RevoluteJoint):\n",
    "        joint.set_default_angle(q0[index])\n",
    "        index += 1\n",
    "\n",
    "plant.Finalize()\n",
    "# visualizer = ConnectMeshcatVisualizer(builder, scene_graph, zmq_url=zmq_url, \n",
    "#                                       delete_prefix_on_load=False)\n",
    "\n",
    "# diagram = builder.Build()\n",
    "# visualizer.load()\n"
   ]
  },
  {
   "cell_type": "markdown",
   "metadata": {},
   "source": [
    "# Setup meshcat visualization"
   ]
  },
  {
   "cell_type": "code",
   "execution_count": 5,
   "metadata": {},
   "outputs": [
    {
     "name": "stdout",
     "output_type": "stream",
     "text": [
      "You can open the visualizer by visiting the following URL:\n",
      "http://127.0.0.1:7000/static/\n",
      "You can open the visualizer by visiting the following URL:\n",
      "http://127.0.0.1:7001/static/\n",
      "Connecting to meshcat-server at zmq_url=tcp://127.0.0.1:6000...\n",
      "You can open the visualizer by visiting the following URL:\n",
      "http://127.0.0.1:7000/static/\n",
      "Connected to meshcat-server.\n"
     ]
    }
   ],
   "source": [
    "do_viz = True\n",
    "visualizer = IrisPlantVisualizer(plant, builder, scene_graph)\n",
    "diagram = visualizer.diagram"
   ]
  },
  {
   "cell_type": "markdown",
   "metadata": {},
   "source": [
    "# Run SNOPT IRIS in rational space"
   ]
  },
  {
   "cell_type": "code",
   "execution_count": 20,
   "metadata": {},
   "outputs": [],
   "source": [
    "iris_options = IrisOptionsRationalSpace()\n",
    "iris_options.require_sample_point_is_contained = True\n",
    "iris_options.iteration_limit = 5\n",
    "iris_options.configuration_space_margin = 1e-5\n",
    "iris_options.termination_threshold = -1\n",
    "iris_options.relative_termination_threshold = 0.05\n",
    "iris_options.enable_ibex = False\n",
    "iris_options.certify_region_with_sos_during_generation = False\n",
    "iris_options.certify_region_with_sos_after_generation = False\n",
    "# uncomment to test if non-default is working\n",
    "# currently throwing std::bad_alloc if we try to set q_star\n",
    "iris_options.q_star = 0.5 * np.zeros(3)\n",
    "rational_forward_kinematics = RationalForwardKinematics(plant)\n",
    "\n",
    "\n",
    "#seed points specified in q space\n",
    "seed_points_q = np.array([\n",
    "                        [0.0, -2.016, 1.975], # in tight\n",
    "                        [-1, -2, 0.5],        # neutral pose\n",
    "                        [0.3, -0.8, 0.5],     # above shelf\n",
    "                        [0.25, -1.6, -0.25],  # in shelf 1\n",
    "                        [0.07, -1.8, -0.2],   # leaving shelf 1\n",
    "                        [-0.1, -2, -0.3]      # out of shelf 1\n",
    "                        ]) \n",
    "seed_points_t = np.array([rational_forward_kinematics.ComputeTValue(s, iris_options.q_star) for s in seed_points_q])\n"
   ]
  },
  {
   "cell_type": "code",
   "execution_count": 21,
   "metadata": {},
   "outputs": [
    {
     "name": "stdout",
     "output_type": "stream",
     "text": [
      "Completed region: 1/6\n",
      "Completed region: 2/6\n",
      "Completed region: 3/6\n",
      "Completed region: 4/6\n",
      "Completed region: 5/6\n",
      "Completed region: 6/6\n"
     ]
    }
   ],
   "source": [
    "regions = []\n",
    "context = diagram.CreateDefaultContext()\n",
    "for i, s in enumerate(seed_points_q):\n",
    "    plant.SetPositions(plant.GetMyMutableContextFromRoot(context), s)\n",
    "    if i > 0:\n",
    "        starting_hpolyhedron = regions[i-1]\n",
    "        r = IrisInRationalConfigurationSpace (plant, plant.GetMyContextFromRoot(context),\n",
    "                                              iris_options, starting_hpolyhedron)\n",
    "    else:\n",
    "        r = IrisInRationalConfigurationSpace(plant, plant.GetMyContextFromRoot(context), iris_options)\n",
    "    regions.append(r)\n",
    "    print(f'Completed region: {i+1}/{len(seed_points)}')"
   ]
  },
  {
   "cell_type": "code",
   "execution_count": 22,
   "metadata": {},
   "outputs": [],
   "source": [
    "# plot regions and collision constraint\n",
    "if do_viz:\n",
    "    visualizer.plot_regions(regions)\n",
    "    visualizer.plot_seedpoints(seed_points_t)\n",
    "    visualizer.visualize_collision_constraint(N = 50)"
   ]
  },
  {
   "cell_type": "markdown",
   "metadata": {},
   "source": [
    "# Begin Certification"
   ]
  },
  {
   "cell_type": "code",
   "execution_count": 28,
   "metadata": {},
   "outputs": [
    {
     "ename": "TypeError",
     "evalue": "GenerateTuplesForBilinearAlternation(): incompatible function arguments. The following argument types are supported:\n    1. (self: pydrake.multibody.rational_forward_kinematics.CspaceFreeRegion, q_star: numpy.ndarray[numpy.float64[m, 1]], filtered_collision_pairs: Set[drake::SortedPair<drake::geometry::GeometryId>], C_rows: int) -> Tuple[List[pydrake.multibody.rational_forward_kinematics.CspaceFreeRegion.CspacePolytopeTuple], numpy.ndarray[object[m, 1]], numpy.ndarray[numpy.float64[m, 1]], numpy.ndarray[numpy.float64[m, 1]], numpy.ndarray[object[m, 1]], numpy.ndarray[object[m, 1]], numpy.ndarray[object[m, n]], numpy.ndarray[object[m, 1]], numpy.ndarray[object[m, 1]], numpy.ndarray[object[m, 1]], numpy.ndarray[object[m, 1]]]\n\nInvoked with: <pydrake.multibody.rational_forward_kinematics.CspaceFreeRegion object at 0x7fc9ab0a00f0>, array([0., 0., 0.]), {(<GeometryId value=71>, <GeometryId value=113>), (<GeometryId value=71>, <GeometryId value=91>), (<GeometryId value=85>, <GeometryId value=91>), (<GeometryId value=91>, <GeometryId value=117>), (<GeometryId value=79>, <GeometryId value=113>), (<GeometryId value=79>, <GeometryId value=117>), (<GeometryId value=85>, <GeometryId value=113>), (<GeometryId value=91>, <GeometryId value=113>), (<GeometryId value=71>, <GeometryId value=115>), (<GeometryId value=79>, <GeometryId value=115>), (<GeometryId value=85>, <GeometryId value=115>), (<GeometryId value=91>, <GeometryId value=115>), (<GeometryId value=71>, <GeometryId value=85>), (<GeometryId value=71>, <GeometryId value=117>), (<GeometryId value=85>, <GeometryId value=117>)}, 36",
     "output_type": "error",
     "traceback": [
      "\u001b[0;31m---------------------------------------------------------------------------\u001b[0m",
      "\u001b[0;31mTypeError\u001b[0m                                 Traceback (most recent call last)",
      "\u001b[0;32m<ipython-input-28-4d75c9eb0516>\u001b[0m in \u001b[0;36m<module>\u001b[0;34m\u001b[0m\n\u001b[1;32m      9\u001b[0m \u001b[0;34m\u001b[0m\u001b[0m\n\u001b[1;32m     10\u001b[0m \u001b[0;34m\u001b[0m\u001b[0m\n\u001b[0;32m---> 11\u001b[0;31m alternation_tuples_list = [cspace_free_region.GenerateTuplesForBilinearAlternation(iris_options.q_star,\n\u001b[0m\u001b[1;32m     12\u001b[0m                                                                             pairs,r.A().shape[0]) for r in regions]\n",
      "\u001b[0;32m<ipython-input-28-4d75c9eb0516>\u001b[0m in \u001b[0;36m<listcomp>\u001b[0;34m(.0)\u001b[0m\n\u001b[1;32m      9\u001b[0m \u001b[0;34m\u001b[0m\u001b[0m\n\u001b[1;32m     10\u001b[0m \u001b[0;34m\u001b[0m\u001b[0m\n\u001b[0;32m---> 11\u001b[0;31m alternation_tuples_list = [cspace_free_region.GenerateTuplesForBilinearAlternation(iris_options.q_star,\n\u001b[0m\u001b[1;32m     12\u001b[0m                                                                             pairs,r.A().shape[0]) for r in regions]\n",
      "\u001b[0;31mTypeError\u001b[0m: GenerateTuplesForBilinearAlternation(): incompatible function arguments. The following argument types are supported:\n    1. (self: pydrake.multibody.rational_forward_kinematics.CspaceFreeRegion, q_star: numpy.ndarray[numpy.float64[m, 1]], filtered_collision_pairs: Set[drake::SortedPair<drake::geometry::GeometryId>], C_rows: int) -> Tuple[List[pydrake.multibody.rational_forward_kinematics.CspaceFreeRegion.CspacePolytopeTuple], numpy.ndarray[object[m, 1]], numpy.ndarray[numpy.float64[m, 1]], numpy.ndarray[numpy.float64[m, 1]], numpy.ndarray[object[m, 1]], numpy.ndarray[object[m, 1]], numpy.ndarray[object[m, n]], numpy.ndarray[object[m, 1]], numpy.ndarray[object[m, 1]], numpy.ndarray[object[m, 1]], numpy.ndarray[object[m, 1]]]\n\nInvoked with: <pydrake.multibody.rational_forward_kinematics.CspaceFreeRegion object at 0x7fc9ab0a00f0>, array([0., 0., 0.]), {(<GeometryId value=71>, <GeometryId value=113>), (<GeometryId value=71>, <GeometryId value=91>), (<GeometryId value=85>, <GeometryId value=91>), (<GeometryId value=91>, <GeometryId value=117>), (<GeometryId value=79>, <GeometryId value=113>), (<GeometryId value=79>, <GeometryId value=117>), (<GeometryId value=85>, <GeometryId value=113>), (<GeometryId value=91>, <GeometryId value=113>), (<GeometryId value=71>, <GeometryId value=115>), (<GeometryId value=79>, <GeometryId value=115>), (<GeometryId value=85>, <GeometryId value=115>), (<GeometryId value=91>, <GeometryId value=115>), (<GeometryId value=71>, <GeometryId value=85>), (<GeometryId value=71>, <GeometryId value=117>), (<GeometryId value=85>, <GeometryId value=117>)}, 36"
     ]
    }
   ],
   "source": [
    "from pydrake.all import CspaceFreeRegion, SeparatingPlaneOrder, CspaceRegionType\n",
    "cspace_free_region = CspaceFreeRegion(diagram, plant, scene_graph, \n",
    "                                      SeparatingPlaneOrder.kAffine, \n",
    "                                      CspaceRegionType.kGenericPolytope)\n",
    "\n",
    "query = scene_graph.get_query_output_port().Eval(scene_graph.GetMyContextFromRoot(diagram.CreateDefaultContext()))\n",
    "inspector = query.inspector()\n",
    "pairs = inspector.GetCollisionCandidates()"
   ]
  },
  {
   "cell_type": "code",
   "execution_count": 31,
   "metadata": {},
   "outputs": [
    {
     "ename": "TypeError",
     "evalue": "CspacePolytopeBilinearAlternation(): incompatible function arguments. The following argument types are supported:\n    1. (self: pydrake.multibody.rational_forward_kinematics.CspaceFreeRegion, q_star: numpy.ndarray[numpy.float64[m, 1]], filtered_collision_pairs: Set[drake::SortedPair<drake::geometry::GeometryId>], C_init: numpy.ndarray[numpy.float64[m, n], flags.f_contiguous], d_init: numpy.ndarray[numpy.float64[m, 1]], bilinear_alternation_option: pydrake.multibody.rational_forward_kinematics.BilinearAlternationOption, solver_options: pydrake.solvers.mathematicalprogram.SolverOptions) -> Tuple[numpy.ndarray[numpy.float64[m, n]], numpy.ndarray[numpy.float64[m, 1]], numpy.ndarray[numpy.float64[m, n]], numpy.ndarray[numpy.float64[m, 1]]]\n\nInvoked with: <pydrake.multibody.rational_forward_kinematics.CspaceFreeRegion object at 0x7fc9ab0a00f0>, array([0., 0., 0.]), {(<GeometryId value=71>, <GeometryId value=113>), (<GeometryId value=71>, <GeometryId value=91>), (<GeometryId value=85>, <GeometryId value=91>), (<GeometryId value=91>, <GeometryId value=117>), (<GeometryId value=79>, <GeometryId value=113>), (<GeometryId value=79>, <GeometryId value=117>), (<GeometryId value=85>, <GeometryId value=113>), (<GeometryId value=91>, <GeometryId value=113>), (<GeometryId value=71>, <GeometryId value=115>), (<GeometryId value=79>, <GeometryId value=115>), (<GeometryId value=85>, <GeometryId value=115>), (<GeometryId value=91>, <GeometryId value=115>), (<GeometryId value=71>, <GeometryId value=85>), (<GeometryId value=71>, <GeometryId value=117>), (<GeometryId value=85>, <GeometryId value=117>)}, array([[ 1.        ,  0.        ,  0.        ],\n       [ 0.        ,  1.        ,  0.        ],\n       [ 0.        ,  0.        ,  1.        ],\n       [-1.        , -0.        , -0.        ],\n       [-0.        , -1.        , -0.        ],\n       [-0.        , -0.        , -1.        ],\n       [ 0.14569377,  0.97734161, -0.15354705],\n       [ 0.14507821,  0.97918599, -0.14194054],\n       [ 0.13324741,  0.99019755,  0.04187999],\n       [ 0.13325049,  0.99019886,  0.0418393 ],\n       [ 0.13325357,  0.99020016,  0.0417986 ],\n       [ 0.13325665,  0.99020147,  0.04175789],\n       [ 0.13325973,  0.99020277,  0.04171717],\n       [ 0.17673294,  0.97152064, -0.15783889],\n       [ 0.17723733,  0.96946316, -0.16949369],\n       [ 0.17721183,  0.96957292, -0.16889145],\n       [ 0.17718487,  0.9696883 , -0.1682561 ],\n       [ 0.17715619,  0.96981032, -0.16758167],\n       [ 0.13834252,  0.69751068, -0.70309331],\n       [ 0.13851255,  0.71147702, -0.68892287],\n       [ 0.13751017,  0.85533306, -0.49949606],\n       [ 0.13751053,  0.85531603, -0.49952512],\n       [ 0.16696735,  0.67944639, -0.71447499],\n       [ 0.16685434,  0.69267701, -0.7016824 ],\n       [ 0.16228808,  0.83192935, -0.53061864],\n       [ 0.16228944,  0.83190782, -0.53065197],\n       [ 0.12214756,  0.58253193, -0.80357733],\n       [ 0.1228507 ,  0.59772306, -0.79223409],\n       [ 0.12840434,  0.76631789, -0.62949918],\n       [ 0.12840368,  0.76628412, -0.62954042],\n       [ 0.12840302,  0.76625034, -0.62958167],\n       [ 0.15616761,  0.5642631 , -0.81069034],\n       [ 0.15653994,  0.57980132, -0.79957843],\n       [ 0.1571008 ,  0.75279325, -0.63923522],\n       [ 0.15710151,  0.75275753, -0.63927711],\n       [ 0.15710222,  0.75272179, -0.63931901]]), array([ 1.73205081,  1.73205081,  1.73205081,  1.73205081,  1.73205081,\n        1.73205081, -0.90505503, -0.89488313, -0.67312999, -0.67319184,\n       -0.67325369, -0.67331556, -0.67337743, -0.90233114, -0.91194952,\n       -0.91146518, -0.91095276, -0.9104072 , -0.91818143, -0.92969365,\n       -0.97994542, -0.9799523 , -0.89818648, -0.90957952, -0.97451322,\n       -0.97451584, -0.8897345 , -0.90448817, -1.02214108, -1.0221306 ,\n       -1.02212011, -0.86783947, -0.88323654, -1.00963666, -1.00962362,\n       -1.00961056])",
     "output_type": "error",
     "traceback": [
      "\u001b[0;31m---------------------------------------------------------------------------\u001b[0m",
      "\u001b[0;31mTypeError\u001b[0m                                 Traceback (most recent call last)",
      "\u001b[0;32m<ipython-input-31-c22126e752d6>\u001b[0m in \u001b[0;36m<module>\u001b[0;34m\u001b[0m\n\u001b[1;32m      1\u001b[0m \u001b[0mr\u001b[0m \u001b[0;34m=\u001b[0m \u001b[0mregions\u001b[0m\u001b[0;34m[\u001b[0m\u001b[0;36m0\u001b[0m\u001b[0;34m]\u001b[0m\u001b[0;34m\u001b[0m\u001b[0;34m\u001b[0m\u001b[0m\n\u001b[1;32m      2\u001b[0m \u001b[0mpair_set\u001b[0m \u001b[0;34m=\u001b[0m \u001b[0mset\u001b[0m\u001b[0;34m(\u001b[0m\u001b[0;34m[\u001b[0m\u001b[0;34m*\u001b[0m\u001b[0mpairs\u001b[0m\u001b[0;34m]\u001b[0m\u001b[0;34m)\u001b[0m\u001b[0;34m\u001b[0m\u001b[0;34m\u001b[0m\u001b[0m\n\u001b[0;32m----> 3\u001b[0;31m r2 = cspace_free_region.CspacePolytopeBilinearAlternation(iris_options.q_star,\n\u001b[0m\u001b[1;32m      4\u001b[0m                                                     pairs,r.A(), r.b())\n",
      "\u001b[0;31mTypeError\u001b[0m: CspacePolytopeBilinearAlternation(): incompatible function arguments. The following argument types are supported:\n    1. (self: pydrake.multibody.rational_forward_kinematics.CspaceFreeRegion, q_star: numpy.ndarray[numpy.float64[m, 1]], filtered_collision_pairs: Set[drake::SortedPair<drake::geometry::GeometryId>], C_init: numpy.ndarray[numpy.float64[m, n], flags.f_contiguous], d_init: numpy.ndarray[numpy.float64[m, 1]], bilinear_alternation_option: pydrake.multibody.rational_forward_kinematics.BilinearAlternationOption, solver_options: pydrake.solvers.mathematicalprogram.SolverOptions) -> Tuple[numpy.ndarray[numpy.float64[m, n]], numpy.ndarray[numpy.float64[m, 1]], numpy.ndarray[numpy.float64[m, n]], numpy.ndarray[numpy.float64[m, 1]]]\n\nInvoked with: <pydrake.multibody.rational_forward_kinematics.CspaceFreeRegion object at 0x7fc9ab0a00f0>, array([0., 0., 0.]), {(<GeometryId value=71>, <GeometryId value=113>), (<GeometryId value=71>, <GeometryId value=91>), (<GeometryId value=85>, <GeometryId value=91>), (<GeometryId value=91>, <GeometryId value=117>), (<GeometryId value=79>, <GeometryId value=113>), (<GeometryId value=79>, <GeometryId value=117>), (<GeometryId value=85>, <GeometryId value=113>), (<GeometryId value=91>, <GeometryId value=113>), (<GeometryId value=71>, <GeometryId value=115>), (<GeometryId value=79>, <GeometryId value=115>), (<GeometryId value=85>, <GeometryId value=115>), (<GeometryId value=91>, <GeometryId value=115>), (<GeometryId value=71>, <GeometryId value=85>), (<GeometryId value=71>, <GeometryId value=117>), (<GeometryId value=85>, <GeometryId value=117>)}, array([[ 1.        ,  0.        ,  0.        ],\n       [ 0.        ,  1.        ,  0.        ],\n       [ 0.        ,  0.        ,  1.        ],\n       [-1.        , -0.        , -0.        ],\n       [-0.        , -1.        , -0.        ],\n       [-0.        , -0.        , -1.        ],\n       [ 0.14569377,  0.97734161, -0.15354705],\n       [ 0.14507821,  0.97918599, -0.14194054],\n       [ 0.13324741,  0.99019755,  0.04187999],\n       [ 0.13325049,  0.99019886,  0.0418393 ],\n       [ 0.13325357,  0.99020016,  0.0417986 ],\n       [ 0.13325665,  0.99020147,  0.04175789],\n       [ 0.13325973,  0.99020277,  0.04171717],\n       [ 0.17673294,  0.97152064, -0.15783889],\n       [ 0.17723733,  0.96946316, -0.16949369],\n       [ 0.17721183,  0.96957292, -0.16889145],\n       [ 0.17718487,  0.9696883 , -0.1682561 ],\n       [ 0.17715619,  0.96981032, -0.16758167],\n       [ 0.13834252,  0.69751068, -0.70309331],\n       [ 0.13851255,  0.71147702, -0.68892287],\n       [ 0.13751017,  0.85533306, -0.49949606],\n       [ 0.13751053,  0.85531603, -0.49952512],\n       [ 0.16696735,  0.67944639, -0.71447499],\n       [ 0.16685434,  0.69267701, -0.7016824 ],\n       [ 0.16228808,  0.83192935, -0.53061864],\n       [ 0.16228944,  0.83190782, -0.53065197],\n       [ 0.12214756,  0.58253193, -0.80357733],\n       [ 0.1228507 ,  0.59772306, -0.79223409],\n       [ 0.12840434,  0.76631789, -0.62949918],\n       [ 0.12840368,  0.76628412, -0.62954042],\n       [ 0.12840302,  0.76625034, -0.62958167],\n       [ 0.15616761,  0.5642631 , -0.81069034],\n       [ 0.15653994,  0.57980132, -0.79957843],\n       [ 0.1571008 ,  0.75279325, -0.63923522],\n       [ 0.15710151,  0.75275753, -0.63927711],\n       [ 0.15710222,  0.75272179, -0.63931901]]), array([ 1.73205081,  1.73205081,  1.73205081,  1.73205081,  1.73205081,\n        1.73205081, -0.90505503, -0.89488313, -0.67312999, -0.67319184,\n       -0.67325369, -0.67331556, -0.67337743, -0.90233114, -0.91194952,\n       -0.91146518, -0.91095276, -0.9104072 , -0.91818143, -0.92969365,\n       -0.97994542, -0.9799523 , -0.89818648, -0.90957952, -0.97451322,\n       -0.97451584, -0.8897345 , -0.90448817, -1.02214108, -1.0221306 ,\n       -1.02212011, -0.86783947, -0.88323654, -1.00963666, -1.00962362,\n       -1.00961056])"
     ]
    }
   ],
   "source": [
    "r = regions[0]\n",
    "pair_set = set([*pairs])\n",
    "r2 = cspace_free_region.CspacePolytopeBilinearAlternation(iris_options.q_star,\n",
    "                                                    pairs,r.A(), r.b())"
   ]
  },
  {
   "cell_type": "code",
   "execution_count": 33,
   "metadata": {},
   "outputs": [
    {
     "data": {
      "text/plain": [
       "{(<GeometryId value=71>, <GeometryId value=85>),\n",
       " (<GeometryId value=71>, <GeometryId value=91>),\n",
       " (<GeometryId value=71>, <GeometryId value=113>),\n",
       " (<GeometryId value=71>, <GeometryId value=115>),\n",
       " (<GeometryId value=71>, <GeometryId value=117>),\n",
       " (<GeometryId value=79>, <GeometryId value=113>),\n",
       " (<GeometryId value=79>, <GeometryId value=115>),\n",
       " (<GeometryId value=79>, <GeometryId value=117>),\n",
       " (<GeometryId value=85>, <GeometryId value=91>),\n",
       " (<GeometryId value=85>, <GeometryId value=113>),\n",
       " (<GeometryId value=85>, <GeometryId value=115>),\n",
       " (<GeometryId value=85>, <GeometryId value=117>),\n",
       " (<GeometryId value=91>, <GeometryId value=113>),\n",
       " (<GeometryId value=91>, <GeometryId value=115>),\n",
       " (<GeometryId value=91>, <GeometryId value=117>)}"
      ]
     },
     "execution_count": 33,
     "metadata": {},
     "output_type": "execute_result"
    }
   ],
   "source": [
    "pairs"
   ]
  },
  {
   "cell_type": "code",
   "execution_count": null,
   "metadata": {},
   "outputs": [],
   "source": []
  }
 ],
 "metadata": {
  "interpreter": {
   "hash": "916dbcbb3f70747c44a77c7bcd40155683ae19c65e1c03b4aa3499c5328201f1"
  },
  "kernelspec": {
   "display_name": "Python 3",
   "language": "python",
   "name": "python3"
  },
  "language_info": {
   "codemirror_mode": {
    "name": "ipython",
    "version": 3
   },
   "file_extension": ".py",
   "mimetype": "text/x-python",
   "name": "python",
   "nbconvert_exporter": "python",
   "pygments_lexer": "ipython3",
   "version": "3.8.10"
  }
 },
 "nbformat": 4,
 "nbformat_minor": 2
}
