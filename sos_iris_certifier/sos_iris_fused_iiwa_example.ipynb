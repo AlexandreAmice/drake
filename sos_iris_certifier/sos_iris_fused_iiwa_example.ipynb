{
 "cells": [
  {
   "cell_type": "code",
   "execution_count": 1,
   "metadata": {},
   "outputs": [],
   "source": [
    "%load_ext autoreload"
   ]
  },
  {
   "cell_type": "code",
   "execution_count": 2,
   "metadata": {},
   "outputs": [],
   "source": [
    "import sys\n",
    "import os\n",
    "import time\n",
    "import numpy as np\n",
    "from functools import partial\n",
    "import itertools\n",
    "import mcubes\n",
    "import visualizations_utils as viz_utils\n",
    "import iris_utils #TODO remove\n",
    "from iris_plant_visualizer import IrisPlantVisualizer"
   ]
  },
  {
   "cell_type": "code",
   "execution_count": 3,
   "metadata": {},
   "outputs": [],
   "source": [
    "#pydrake imports\n",
    "from pydrake.common import FindResourceOrThrow\n",
    "from pydrake.multibody.parsing import LoadModelDirectives, Parser, ProcessModelDirectives\n",
    "from pydrake.multibody.plant import MultibodyPlant, AddMultibodyPlantSceneGraph\n",
    "from pydrake.systems.framework import DiagramBuilder\n",
    "from pydrake.all import InverseKinematics, RevoluteJoint\n",
    "import pydrake.symbolic as sym\n",
    "from pydrake.all import MathematicalProgram, RationalForwardKinematics\n",
    "from pydrake.geometry.optimization import IrisOptionsRationalSpace, IrisInRationalConfigurationSpace, HPolyhedron, Hyperellipsoid\n",
    "\n",
    "import meshcat"
   ]
  },
  {
   "cell_type": "markdown",
   "metadata": {},
   "source": [
    "# Build plant"
   ]
  },
  {
   "cell_type": "code",
   "execution_count": 4,
   "metadata": {},
   "outputs": [],
   "source": [
    "\n",
    "builder = DiagramBuilder()\n",
    "plant, scene_graph = AddMultibodyPlantSceneGraph(builder, time_step=0.001)\n",
    "parser = Parser(plant)\n",
    "parser.package_map().Add( \"wsg_50_description\", os.path.dirname(FindResourceOrThrow(\n",
    "            \"drake/manipulation/models/wsg_50_description/package.xml\")))\n",
    "\n",
    "simple_collision = True\n",
    "use_gripper = False\n",
    "if simple_collision and use_gripper:\n",
    "    directives_file = FindResourceOrThrow(\"drake/sos_iris_certifier/planar_iiwa_simple_collision_welded_gripper.yaml\")\n",
    "elif not simple_collision and use_gripper:\n",
    "    directives_file = FindResourceOrThrow(\"drake/sos_iris_certifier/planar_iiwa_dense_collision_welded_gripper.yaml\") \n",
    "elif simple_collision and not use_gripper:\n",
    "    directives_file = FindResourceOrThrow(\"drake/sos_iris_certifier/planar_iiwa_simple_collision_no_gripper.yaml\")\n",
    "elif not simple_collision and not use_gripper:\n",
    "    directives_file = FindResourceOrThrow(\"drake/sos_iris_certifier/planar_iiwa_dense_collision_no_gripper.yaml\") \n",
    "directives = LoadModelDirectives(directives_file)\n",
    "models = ProcessModelDirectives(directives, plant, parser)\n",
    "\n",
    "q0 = [-0.2, -1.2, 1.6]\n",
    "index = 0\n",
    "for joint_index in plant.GetJointIndices(models[0].model_instance):\n",
    "    joint = plant.get_mutable_joint(joint_index)\n",
    "    if isinstance(joint, RevoluteJoint):\n",
    "        joint.set_default_angle(q0[index])\n",
    "        index += 1\n",
    "\n",
    "plant.Finalize()\n",
    "# visualizer = ConnectMeshcatVisualizer(builder, scene_graph, zmq_url=zmq_url, \n",
    "#                                       delete_prefix_on_load=False)\n",
    "\n",
    "# diagram = builder.Build()\n",
    "# visualizer.load()\n"
   ]
  },
  {
   "cell_type": "markdown",
   "metadata": {},
   "source": [
    "# Setup meshcat visualization"
   ]
  },
  {
   "cell_type": "code",
   "execution_count": 5,
   "metadata": {},
   "outputs": [
    {
     "name": "stdout",
     "output_type": "stream",
     "text": [
      "You can open the visualizer by visiting the following URL:\n",
      "http://127.0.0.1:7004/static/\n",
      "You can open the visualizer by visiting the following URL:\n",
      "http://127.0.0.1:7005/static/\n",
      "Connecting to meshcat-server at zmq_url=tcp://127.0.0.1:6004...\n",
      "You can open the visualizer by visiting the following URL:\n",
      "http://127.0.0.1:7004/static/\n",
      "Connected to meshcat-server.\n"
     ]
    }
   ],
   "source": [
    "do_viz = True\n",
    "visualizer = IrisPlantVisualizer(plant, builder, scene_graph)\n",
    "diagram = visualizer.diagram"
   ]
  },
  {
   "cell_type": "markdown",
   "metadata": {},
   "source": [
    "# Run SNOPT IRIS in rational space"
   ]
  },
  {
   "cell_type": "code",
   "execution_count": 6,
   "metadata": {},
   "outputs": [],
   "source": [
    "iris_options = IrisOptionsRationalSpace()\n",
    "iris_options.require_sample_point_is_contained = True\n",
    "iris_options.iteration_limit = 5\n",
    "iris_options.configuration_space_margin = 1e-4\n",
    "iris_options.termination_threshold = -1\n",
    "iris_options.relative_termination_threshold = 0.05\n",
    "iris_options.enable_ibex = False\n",
    "iris_options.certify_region_with_sos_during_generation = False\n",
    "iris_options.certify_region_with_sos_after_generation = False\n",
    "# uncomment to test if non-default is working\n",
    "# currently throwing std::bad_alloc if we try to set q_star\n",
    "iris_options.q_star = 0.5 * np.zeros(3)\n",
    "rational_forward_kinematics = RationalForwardKinematics(plant)\n",
    "\n",
    "\n",
    "#seed points specified in q space\n",
    "seed_points_q = np.array([\n",
    "                        [0.0, -2.016, 1.975], # in tight\n",
    "                        [-1, -2, 0.5],        # neutral pose\n",
    "                        [0.3, -0.8, 0.5],     # above shelf\n",
    "                        [0.25, -1.6, -0.25],  # in shelf 1\n",
    "                        [0.07, -1.8, -0.2],   # leaving shelf 1\n",
    "                        [-0.1, -2, -0.3]      # out of shelf 1\n",
    "                        ]) \n",
    "seed_points_t = np.array([rational_forward_kinematics.ComputeTValue(s, iris_options.q_star) for s in seed_points_q])\n",
    "\n",
    "t_lower = rational_forward_kinematics.ComputeTValue(plant.GetPositionLowerLimits(),iris_options.q_star)\n",
    "t_upper = rational_forward_kinematics.ComputeTValue(plant.GetPositionUpperLimits(),iris_options.q_star)\n",
    "P_joint_limits = HPolyhedron.MakeBox(t_lower, t_upper)"
   ]
  },
  {
   "cell_type": "code",
   "execution_count": 7,
   "metadata": {},
   "outputs": [
    {
     "name": "stdout",
     "output_type": "stream",
     "text": [
      "Completed region: 1/6\n",
      "Completed region: 2/6\n",
      "Completed region: 3/6\n",
      "Completed region: 4/6\n",
      "Completed region: 5/6\n",
      "Completed region: 6/6\n"
     ]
    }
   ],
   "source": [
    "regions = []\n",
    "context = diagram.CreateDefaultContext()\n",
    "for i, s in enumerate(seed_points_q):\n",
    "    plant.SetPositions(plant.GetMyMutableContextFromRoot(context), s)\n",
    "    if i > 0:\n",
    "        starting_hpolyhedron = regions[i-1]\n",
    "        r = IrisInRationalConfigurationSpace (plant, plant.GetMyContextFromRoot(context),\n",
    "                                              iris_options, starting_hpolyhedron)\n",
    "    else:\n",
    "        r = IrisInRationalConfigurationSpace(plant, plant.GetMyContextFromRoot(context), iris_options)\n",
    "    regions.append(r)\n",
    "    print(f'Completed region: {i+1}/{len(seed_points_q)}')"
   ]
  },
  {
   "cell_type": "code",
   "execution_count": 8,
   "metadata": {},
   "outputs": [],
   "source": [
    "# plot regions and collision constraint\n",
    "if do_viz:\n",
    "    visualizer.plot_regions(regions)\n",
    "    visualizer.plot_seedpoints(seed_points_t)\n",
    "    visualizer.visualize_collision_constraint(N = 50)"
   ]
  },
  {
   "cell_type": "markdown",
   "metadata": {},
   "source": [
    "# Begin Certification"
   ]
  },
  {
   "cell_type": "code",
   "execution_count": 9,
   "metadata": {},
   "outputs": [],
   "source": [
    "import pydrake.multibody.rational_forward_kinematics as rational_forward_kinematics\n",
    "from pydrake.solvers import mathematicalprogram as mp\n",
    "cspace_free_region = rational_forward_kinematics.CspaceFreeRegion(diagram, plant, scene_graph,\n",
    "                                   rational_forward_kinematics.SeparatingPlaneOrder.kAffine,\n",
    "                                   rational_forward_kinematics.CspaceRegionType.kGenericPolytope)"
   ]
  },
  {
   "cell_type": "code",
   "execution_count": 11,
   "metadata": {},
   "outputs": [
    {
     "name": "stderr",
     "output_type": "stream",
     "text": [
      "[2022-01-20 21:06:46.192] [console] [info] Solver time 0.034253835678100586\n",
      "[2022-01-20 21:06:46.390] [console] [info] Solver time 0.08045315742492676\n",
      "[2022-01-20 21:06:46.531] [console] [info] Solver time 0.03246903419494629\n",
      "[2022-01-20 21:06:46.532] [console] [info] epsilon=5.0 is infeasible\n",
      "[2022-01-20 21:06:46.701] [console] [info] Solver time 0.048013925552368164\n",
      "[2022-01-20 21:06:46.703] [console] [info] epsilon=2.5 is infeasible\n",
      "[2022-01-20 21:06:46.870] [console] [info] Solver time 0.04705691337585449\n",
      "[2022-01-20 21:06:46.871] [console] [info] epsilon=1.25 is infeasible\n",
      "[2022-01-20 21:06:47.043] [console] [info] Solver time 0.05081892013549805\n",
      "[2022-01-20 21:06:47.044] [console] [info] epsilon=0.625 is infeasible\n",
      "[2022-01-20 21:06:47.222] [console] [info] Solver time 0.05555891990661621\n",
      "[2022-01-20 21:06:47.223] [console] [info] epsilon=0.3125 is infeasible\n",
      "[2022-01-20 21:06:47.565] [console] [info] Iter: 0, max(log(det(P)))=0.5891707686996777, solver_time 0.24892687797546387\n",
      "[2022-01-20 21:06:47.729] [console] [info] backoff with log(det(P)) 0.5886355219481393, solver time 0.15057992935180664\n",
      "[2022-01-20 21:06:47.730] [console] [info] cost improvement inf\n",
      "[2022-01-20 21:06:47.833] [console] [info] Iter: 0, polytope step cost -0.5222991216848878, solver time 0.041123151779174805\n",
      "[2022-01-20 21:06:48.049] [console] [info] Solver time 0.03314495086669922\n",
      "[2022-01-20 21:06:48.225] [console] [info] Solver time 0.06805109977722168\n"
     ]
    },
    {
     "name": "stdout",
     "output_type": "stream",
     "text": [
      "Backoff fails.\n"
     ]
    },
    {
     "name": "stderr",
     "output_type": "stream",
     "text": [
      "[2022-01-20 21:06:48.366] [console] [info] Solver time 0.03340911865234375\n",
      "[2022-01-20 21:06:48.367] [console] [info] epsilon=5.0 is infeasible\n",
      "[2022-01-20 21:06:48.512] [console] [info] Solver time 0.03960704803466797\n",
      "[2022-01-20 21:06:48.513] [console] [info] epsilon=2.5 is infeasible\n",
      "[2022-01-20 21:06:48.683] [console] [info] Solver time 0.05614280700683594\n",
      "[2022-01-20 21:06:48.685] [console] [info] epsilon=1.25 is infeasible\n",
      "[2022-01-20 21:06:48.831] [console] [info] Solver time 0.03965401649475098\n",
      "[2022-01-20 21:06:48.832] [console] [info] epsilon=0.625 is infeasible\n",
      "[2022-01-20 21:06:48.992] [console] [info] Solver time 0.051867008209228516\n",
      "[2022-01-20 21:06:48.993] [console] [info] epsilon=0.3125 is infeasible\n",
      "[2022-01-20 21:06:49.226] [console] [info] Iter: 0, max(log(det(P)))=1.0831367496630486, solver_time 0.1461019515991211\n",
      "[2022-01-20 21:06:49.344] [console] [info] backoff with log(det(P)) 1.0820972346529034, solver time 0.1046450138092041\n",
      "[2022-01-20 21:06:49.345] [console] [info] cost improvement inf\n",
      "[2022-01-20 21:06:49.445] [console] [info] Iter: 0, polytope step cost -0.2237424574757456, solver time 0.042198896408081055\n",
      "[2022-01-20 21:06:49.507] [console] [info] back off, cost: -0.22374027380815453, solver time 0.05143284797668457\n",
      "[2022-01-20 21:06:49.748] [console] [info] Iter: 1, max(log(det(P)))=1.083371157430105, solver_time 0.15326189994812012\n",
      "[2022-01-20 21:06:49.867] [console] [info] backoff with log(det(P)) 1.0823916908841265, solver time 0.1042170524597168\n",
      "[2022-01-20 21:06:49.867] [console] [info] cost improvement 0.000524888840611526\n",
      "[2022-01-20 21:06:49.973] [console] [info] Iter: 1, polytope step cost -0.20935998322896057, solver time 0.050369977951049805\n",
      "[2022-01-20 21:06:50.081] [console] [info] back off, cost: -0.20935789480060507, solver time 0.0979928970336914\n",
      "[2022-01-20 21:06:50.263] [console] [info] Solver time 0.03320598602294922\n",
      "[2022-01-20 21:06:50.421] [console] [info] Solver time 0.04645204544067383\n",
      "[2022-01-20 21:06:50.616] [console] [info] Solver time 0.034342050552368164\n",
      "[2022-01-20 21:06:50.825] [console] [info] Solver time 0.07580089569091797\n",
      "[2022-01-20 21:06:50.998] [console] [info] Solver time 0.03393197059631348\n"
     ]
    },
    {
     "name": "stdout",
     "output_type": "stream",
     "text": [
      "binary search: the initial epsilon 0.0 is infeasible\n",
      "binary search: the initial epsilon 0.0 is infeasible\n"
     ]
    },
    {
     "name": "stderr",
     "output_type": "stream",
     "text": [
      "[2022-01-20 21:06:51.217] [console] [info] Solver time 0.09026384353637695\n",
      "[2022-01-20 21:06:51.396] [console] [info] Solver time 0.03409099578857422\n",
      "[2022-01-20 21:06:51.591] [console] [info] Solver time 0.08016109466552734\n"
     ]
    },
    {
     "name": "stdout",
     "output_type": "stream",
     "text": [
      "binary search: the initial epsilon 0.0 is infeasible\n",
      "binary search: the initial epsilon 0.0 is infeasible\n",
      "1\n"
     ]
    }
   ],
   "source": [
    "editted_regions = []\n",
    "filtered_collision_pairs = set()\n",
    "\n",
    "binary_search_options = rational_forward_kinematics.BinarySearchOption()\n",
    "binary_search_options.epsilon_max = 10\n",
    "binary_search_options.epsilon_min = 0\n",
    "binary_search_options.max_iters = 5\n",
    "binary_search_options.search_d = False\n",
    "\n",
    "bilinear_alternation_option = rational_forward_kinematics.BilinearAlternationOption()\n",
    "bilinear_alternation_option.max_iters = 2\n",
    "bilinear_alternation_option.lagrangian_backoff_scale = 1e-3\n",
    "bilinear_alternation_option.polytope_backoff_scale = 1e-5\n",
    "\n",
    "solver_options = mp.SolverOptions()\n",
    "for r in regions: \n",
    "    try:\n",
    "        d_feasible = \\\n",
    "            cspace_free_region.CspacePolytopeBinarySearch(\n",
    "                iris_options.q_star, filtered_collision_pairs, r.A(), r.b(),\n",
    "                binary_search_options, solver_options)\n",
    "        C_final, d_final, P_final, q_final = \\\n",
    "            cspace_free_region.CspacePolytopeBilinearAlternation(\n",
    "                iris_options.q_star, filtered_collision_pairs, r.A(), d_feasible,\n",
    "                bilinear_alternation_option, solver_options)\n",
    "        C_final = np.vstack([C_final, P_joint_limits.A()])\n",
    "        d_final = np.concatenate([d_final, P_joint_limits.b()])\n",
    "        editted_regions.append(HPolyhedron(C_final, d_final))\n",
    "    except Exception as e:\n",
    "        print(e)\n",
    "print(len(editted_regions))"
   ]
  },
  {
   "cell_type": "code",
   "execution_count": 12,
   "metadata": {},
   "outputs": [],
   "source": [
    "if do_viz:\n",
    "    visualizer.plot_regions(editted_regions, region_suffix = 'editted')"
   ]
  },
  {
   "cell_type": "code",
   "execution_count": 13,
   "metadata": {},
   "outputs": [
    {
     "data": {
      "text/plain": [
       "array([[ 9.50832304e-01,  1.98057519e-07, -2.87680174e-08],\n",
       "       [-1.27476529e-08,  1.00000000e+00,  1.26723372e-08],\n",
       "       [ 3.70189840e-08, -3.63289952e-08,  6.23159874e-09],\n",
       "       [-9.50832394e-01, -9.20429921e-09, -7.19887532e-08],\n",
       "       [-1.04015361e-07, -1.00000000e+00,  7.26697881e-08],\n",
       "       [ 8.18179956e-08, -5.49746351e-08,  2.61331400e-09],\n",
       "       [ 9.47849330e-01, -2.36037111e-01,  1.65937522e-03],\n",
       "       [ 1.00000000e+00,  0.00000000e+00,  0.00000000e+00],\n",
       "       [ 0.00000000e+00,  1.00000000e+00,  0.00000000e+00],\n",
       "       [ 0.00000000e+00,  0.00000000e+00,  1.00000000e+00],\n",
       "       [-1.00000000e+00, -0.00000000e+00, -0.00000000e+00],\n",
       "       [-0.00000000e+00, -1.00000000e+00, -0.00000000e+00],\n",
       "       [-0.00000000e+00, -0.00000000e+00, -1.00000000e+00]])"
      ]
     },
     "execution_count": 13,
     "metadata": {},
     "output_type": "execute_result"
    }
   ],
   "source": [
    "editted_regions[0].A()"
   ]
  },
  {
   "cell_type": "code",
   "execution_count": 14,
   "metadata": {},
   "outputs": [
    {
     "data": {
      "text/plain": [
       "array([0.92168414, 2.12004113, 0.54831819, 2.16132594, 2.68725155,\n",
       "       0.67460231, 0.26956007, 1.73205081, 1.73205081, 1.73205081,\n",
       "       1.73205081, 1.73205081, 1.73205081])"
      ]
     },
     "execution_count": 14,
     "metadata": {},
     "output_type": "execute_result"
    }
   ],
   "source": [
    "editted_regions[0].b()"
   ]
  },
  {
   "cell_type": "code",
   "execution_count": null,
   "metadata": {},
   "outputs": [],
   "source": []
  }
 ],
 "metadata": {
  "interpreter": {
   "hash": "916dbcbb3f70747c44a77c7bcd40155683ae19c65e1c03b4aa3499c5328201f1"
  },
  "kernelspec": {
   "display_name": "Python 3",
   "language": "python",
   "name": "python3"
  },
  "language_info": {
   "codemirror_mode": {
    "name": "ipython",
    "version": 3
   },
   "file_extension": ".py",
   "mimetype": "text/x-python",
   "name": "python",
   "nbconvert_exporter": "python",
   "pygments_lexer": "ipython3",
   "version": "3.8.10"
  }
 },
 "nbformat": 4,
 "nbformat_minor": 2
}
