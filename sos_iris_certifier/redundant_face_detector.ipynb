{
 "cells": [
  {
   "cell_type": "code",
   "execution_count": 1,
   "metadata": {},
   "outputs": [],
   "source": [
    "%load_ext autoreload"
   ]
  },
  {
   "cell_type": "code",
   "execution_count": null,
   "metadata": {},
   "outputs": [],
   "source": [
    "from certified_iris_generator import CertifiedIrisRegionGenerator\n",
    "import sys\n",
    "import os\n",
    "import time\n",
    "import numpy as np\n",
    "from functools import partialnew_region2\n",
    "import itertools\n",
    "import mcubes\n",
    "import visualizations_utils as viz_utils\n",
    "import iris_utils #TODO remove\n",
    "from iris_plant_visualizer import IrisPlantVisualizer\n",
    "from pydrake.all import ClpSolver"
   ]
  },
  {
   "cell_type": "code",
   "execution_count": 5,
   "metadata": {},
   "outputs": [],
   "source": [
    "#pydrake imports\n",
    "from pydrake.common import FindResourceOrThrow\n",
    "from pydrake.multibody.parsing import LoadModelDirectives, Parser, ProcessModelDirectives\n",
    "from pydrake.multibody.plant import MultibodyPlant, AddMultibodyPlantSceneGraph\n",
    "from pydrake.systems.framework import DiagramBuilder\n",
    "from pydrake.all import InverseKinematics, RevoluteJoint, HPolyhedron\n",
    "import pydrake.symbolic as sym\n",
    "from pydrake.all import MathematicalProgram\n",
    "import meshcat\n",
    "from pydrake.all import MosekSolver\n",
    "from pydrake.all import SolutionResult\n"
   ]
  },
  {
   "cell_type": "markdown",
   "metadata": {},
   "source": [
    "# Build plant"
   ]
  },
  {
   "cell_type": "code",
   "execution_count": 4,
   "metadata": {},
   "outputs": [],
   "source": [
    "\n",
    "builder = DiagramBuilder()\n",
    "plant, scene_graph = AddMultibodyPlantSceneGraph(builder, time_step=0.001)\n",
    "parser = Parser(plant)\n",
    "parser.package_map().Add( \"wsg_50_description\", os.path.dirname(FindResourceOrThrow(\n",
    "            \"drake/manipulation/models/wsg_50_description/package.xml\")))\n",
    "\n",
    "simple_collision = True\n",
    "directives_file = FindResourceOrThrow(\"drake/sos_iris_certifier/planar_iiwa_simple_collision_welded_gripper.yaml\") \\\n",
    "    if simple_collision else FindResourceOrThrow(\"drake/sos_iris_certifier/planar_iiwa_dense_collision_welded_gripper.yaml\")\n",
    "directives = LoadModelDirectives(directives_file)\n",
    "models = ProcessModelDirectives(directives, plant, parser)\n",
    "\n",
    "q0 = [-0.2, -1.2, 1.6]\n",
    "index = 0\n",
    "for joint_index in plant.GetJointIndices(models[0].model_instance):\n",
    "    joint = plant.get_mutable_joint(joint_index)\n",
    "    if isinstance(joint, RevoluteJoint):\n",
    "        joint.set_default_angle(q0[index])\n",
    "        index += 1\n",
    "\n",
    "plant.Finalize()\n",
    "# visualizer = ConnectMeshcatVisualizer(builder, scene_graph, zmq_url=zmq_url, \n",
    "#                                       delete_prefix_on_load=False)\n",
    "\n",
    "# diagram = builder.Build()\n",
    "# visualizer.load()\n"
   ]
  },
  {
   "cell_type": "markdown",
   "metadata": {},
   "source": [
    "# Setup meshcat visualization"
   ]
  },
  {
   "cell_type": "code",
   "execution_count": 5,
   "metadata": {},
   "outputs": [
    {
     "name": "stdout",
     "output_type": "stream",
     "text": [
      "You can open the visualizer by visiting the following URL:\n",
      "http://127.0.0.1:7000/static/\n",
      "You can open the visualizer by visiting the following URL:\n",
      "http://127.0.0.1:7001/static/\n",
      "Connecting to meshcat-server at zmq_url=tcp://127.0.0.1:6000...\n",
      "You can open the visualizer by visiting the following URL:\n",
      "http://127.0.0.1:7000/static/\n",
      "Connected to meshcat-server.\n"
     ]
    }
   ],
   "source": [
    "do_viz = True\n",
    "visualizer = IrisPlantVisualizer(plant, builder, scene_graph)"
   ]
  },
  {
   "cell_type": "markdown",
   "metadata": {},
   "source": [
    "# Build Certified Iris Region Object"
   ]
  },
  {
   "cell_type": "code",
   "execution_count": 6,
   "metadata": {},
   "outputs": [],
   "source": [
    "iris_kwargs = {\n",
    "    'iris_starting_ellipse_vol': 1e-5,\n",
    "    'iris_plane_pullback': 1e-4,\n",
    "    'iris_max_faces': -1\n",
    "}"
   ]
  },
  {
   "cell_type": "code",
   "execution_count": 7,
   "metadata": {},
   "outputs": [],
   "source": [
    "iris_generator = CertifiedIrisRegionGenerator(visualizer.diagram, plant, scene_graph, **iris_kwargs)"
   ]
  },
  {
   "cell_type": "code",
   "execution_count": 8,
   "metadata": {
    "scrolled": true
   },
   "outputs": [
    {
     "name": "stdout",
     "output_type": "stream",
     "text": [
      "0\n",
      "snopt_example=[ 0.35529068 -0.22984731  0.02559963], growth = 0.05990553085918943\n",
      "snopt_example=[ 0.28673366 -0.30128467  0.33402563], growth = 0.09485392272232375\n",
      "snopt_example=[ 0.28776043 -0.30045108  0.32725976], growth = 0.09339195802962706\n",
      "terminating because a required containment point would have not been contained\n",
      "Time:   1.43 \tVolume:  21.77 \tCenter: [1.44312073e-09 1.44280166e-09 1.44440504e-09]\n",
      "0\n",
      "snopt_example=[ 0.35529266 -0.22984424  0.02559962], growth = 0.05990553077553568\n",
      "snopt_example=[ 0.30804713 -0.27858144  0.24207296], growth = 0.07703332293708175\n",
      "terminating because a required containment point would have not been contained\n",
      "Time:   0.94 \tVolume:  21.77 \tCenter: [1.44312073e-09 1.44280166e-09 1.44440504e-09]\n",
      "snopt_example=[ 0.30547805 -0.52068241  0.30020753], growth = 354169277.01944494\n",
      "snopt_example=[ 0.19754042 -0.45436384  0.26846797], growth = 33224401.49490118\n",
      "snopt_example=[ 0.19598983 -0.45413506  0.27106354], growth = 32414169.41665411\n",
      "0\n",
      "snopt_example=[ 0.25288847 -0.44449967 -0.37464989], growth = 0.912138483568273\n",
      "snopt_example=[ 0.18157379 -0.53600489  0.00189671], growth = 0.9684646251985066\n",
      "1\n",
      "Time:   1.10 \tVolume:  12.19 \tCenter: [-5.93192095e-01  1.95007389e-03 -8.55497895e-10]\n",
      "snopt_example=[ 0.14656408 -0.84562199 -0.13081511], growth = 343259046.2922268\n",
      "snopt_example=[ 0.17280708 -1.04877622 -0.10765289], growth = 29136367.0897274\n",
      "snopt_example=[ 0.06137677 -0.99983866 -0.14668241], growth = 54618887.631809235\n",
      "snopt_example=[ 0.17352108 -1.04860175 -0.1108319 ], growth = 28704798.86587906\n",
      "snopt_example=[ 0.06466578 -1.00097992 -0.15800253], growth = 55873730.15094948\n",
      "snopt_example=[ 0.1728816  -1.02194198 -0.13221416], growth = 23325971.551347733\n",
      "0\n",
      "snopt_example=[ 0.00207098 -1.14285276  0.2377722 ], growth = 2.272280574017884\n",
      "snopt_example=[ 0.03282351 -1.05114402 -0.13175643], growth = 2.560665207447258\n",
      "snopt_example=[-0.01769206 -1.41938734 -0.37318404], growth = 1.4671353843082784\n",
      "1\n",
      "Time:   1.25 \tVolume:   0.10 \tCenter: [-0.23884111 -1.26392734  0.57306953]\n",
      "snopt_example=[ 0.0778842  -1.27513263 -0.08274095], growth = 23716006.20109558\n",
      "snopt_example=[ 0.03898985 -1.07021074 -0.17559715], growth = 417602916.3468838\n",
      "snopt_example=[ 0.09564873 -1.27442261 -0.12569953], growth = 45233827.539676666\n",
      "0\n",
      "snopt_example=[-0.01859393 -1.31935946  0.11015956], growth = 1.3385684718502784\n",
      "snopt_example=[-0.06601946 -1.27711933 -0.13507732], growth = 1.2801487183572036\n",
      "terminating because a required containment point would have not been contained\n",
      "Time:   1.00 \tVolume:   1.59 \tCenter: [-0.93707086 -1.24517522  0.44866111]\n",
      "snopt_example=[ 0.00289142 -1.57259365 -0.12735192], growth = 35981742.57167435\n",
      "snopt_example=[-0.04454859 -1.36744184 -0.26173144], growth = 483487364.33952713\n",
      "0\n",
      "snopt_example=[-0.02534964 -1.54159187 -0.0449546 ], growth = 2.4022505649777557\n",
      "terminating because a required containment point would have not been contained\n",
      "Time:   1.08 \tVolume:   1.14 \tCenter: [-1.02436376 -1.20636765  0.79325703]\n"
     ]
    }
   ],
   "source": [
    "seed_points = np.tan(np.array([\n",
    "                        [0.0, -2.016, 1.975], # in tight\n",
    "                        [-1, -2, 0.5],        # neutral pose\n",
    "                        [0.3, -0.8, 0.5],     # above shelf\n",
    "                        [0.25, -1.6, -0.25],  # in shelf 1\n",
    "                        [0.07, -1.8, -0.2],   # leaving shelf 1\n",
    "                        [-0.1, -2, -0.3]      # out of shelf 1\n",
    "                        ])    \n",
    "                        /2)\n",
    "\n",
    "regions, ellipses = iris_generator.iris_in_rational_space(seed_points)\n"
   ]
  },
  {
   "cell_type": "code",
   "execution_count": 9,
   "metadata": {},
   "outputs": [],
   "source": [
    "trajectory_start = np.tan(np.array([-1, -2, 0.5])/2) # seed_points[1,:]\n",
    "trajectory_end = np.tan(np.array([0.25, -1.6, -0.25])/2)  #seed_points[3,:]"
   ]
  },
  {
   "cell_type": "code",
   "execution_count": 1,
   "metadata": {},
   "outputs": [
    {
     "ename": "NameError",
     "evalue": "name 'regions' is not defined",
     "output_type": "error",
     "traceback": [
      "\u001b[0;31m---------------------------------------------------------------------------\u001b[0m",
      "\u001b[0;31mNameError\u001b[0m                                 Traceback (most recent call last)",
      "\u001b[0;32m<ipython-input-1-af6a5341cf10>\u001b[0m in \u001b[0;36m<module>\u001b[0;34m\u001b[0m\n\u001b[1;32m      1\u001b[0m \u001b[0mregion_num\u001b[0m \u001b[0;34m=\u001b[0m \u001b[0;36m0\u001b[0m\u001b[0;34m\u001b[0m\u001b[0;34m\u001b[0m\u001b[0m\n\u001b[0;32m----> 2\u001b[0;31m \u001b[0mnum_var\u001b[0m \u001b[0;34m=\u001b[0m \u001b[0mregions\u001b[0m\u001b[0;34m[\u001b[0m\u001b[0mregion_num\u001b[0m\u001b[0;34m]\u001b[0m\u001b[0;34m.\u001b[0m\u001b[0mA\u001b[0m\u001b[0;34m(\u001b[0m\u001b[0;34m)\u001b[0m\u001b[0;34m.\u001b[0m\u001b[0mshape\u001b[0m\u001b[0;34m[\u001b[0m\u001b[0;36m1\u001b[0m\u001b[0;34m]\u001b[0m\u001b[0;34m\u001b[0m\u001b[0;34m\u001b[0m\u001b[0m\n\u001b[0m\u001b[1;32m      3\u001b[0m \u001b[0;34m\u001b[0m\u001b[0m\n\u001b[1;32m      4\u001b[0m \u001b[0mA_red\u001b[0m \u001b[0;34m=\u001b[0m \u001b[0mnp\u001b[0m\u001b[0;34m.\u001b[0m\u001b[0mvstack\u001b[0m\u001b[0;34m(\u001b[0m\u001b[0;34m[\u001b[0m\u001b[0mnp\u001b[0m\u001b[0;34m.\u001b[0m\u001b[0meye\u001b[0m\u001b[0;34m(\u001b[0m\u001b[0mnum_var\u001b[0m\u001b[0;34m)\u001b[0m\u001b[0;34m,\u001b[0m \u001b[0;34m-\u001b[0m\u001b[0mnp\u001b[0m\u001b[0;34m.\u001b[0m\u001b[0meye\u001b[0m\u001b[0;34m(\u001b[0m\u001b[0mnum_var\u001b[0m\u001b[0;34m)\u001b[0m\u001b[0;34m]\u001b[0m\u001b[0;34m)\u001b[0m\u001b[0;34m\u001b[0m\u001b[0;34m\u001b[0m\u001b[0m\n\u001b[1;32m      5\u001b[0m \u001b[0mfact\u001b[0m \u001b[0;34m=\u001b[0m \u001b[0;36m0.25\u001b[0m\u001b[0;34m\u001b[0m\u001b[0;34m\u001b[0m\u001b[0m\n",
      "\u001b[0;31mNameError\u001b[0m: name 'regions' is not defined"
     ]
    }
   ],
   "source": [
    "region_num = 0\n",
    "num_var = regions[region_num].A().shape[1]\n",
    "\n",
    "A_red = np.vstack([np.eye(num_var), -np.eye(num_var)])\n",
    "fact = 0.25\n",
    "b_red = np.hstack([fact*np.ones(num_var), fact*np.ones(num_var)])\n",
    "\n",
    "region = HPolyhedron(np.vstack([regions[region_num].A(), A_red]), \n",
    "                     np.concatenate([regions[region_num].b(), b_red]))\n",
    "# region = HPolyhedron(A_red, b_red)\n",
    "\n",
    "num_faces = region.A().shape[0]\n",
    "solver = MosekSolver()"
   ]
  },
  {
   "cell_type": "code",
   "execution_count": 6,
   "metadata": {},
   "outputs": [],
   "source": [
    "def prune_region(region):\n",
    "    num_faces = region.A().shape[0]\n",
    "    solver = MosekSolver()\n",
    "    kept_indices = np.arange(num_faces).tolist()\n",
    "    excluded_indices = []\n",
    "    \n",
    "    for excluded_index in range(num_faces):\n",
    "        prog = MathematicalProgram()\n",
    "        x = prog.NewContinuousVariables(region.A().shape[1], 'x')\n",
    "        cur_kept_indices = kept_indices.copy()\n",
    "        cur_kept_indices.remove(excluded_index)\n",
    "\n",
    "        c_to_check_redundant = region.A()[excluded_index,:][np.newaxis, :]\n",
    "        d_to_check_redundant = np.atleast_2d(region.b()).T[excluded_index,:][np.newaxis, :]\n",
    "\n",
    "        A_to_check_against = region.A()[cur_kept_indices,:]\n",
    "        b_to_check_against = region.b()[cur_kept_indices]\n",
    "\n",
    "        prog.AddLinearCost(-c_to_check_redundant.T, 0., x)\n",
    "        prog.AddLinearConstraint(A_to_check_against, -np.inf*np.ones_like(b_to_check_against),\n",
    "                                 b_to_check_against, x)\n",
    "        prog.AddLinearConstraint(c_to_check_redundant, -np.inf*np.ones_like(d_to_check_redundant), \n",
    "                                 d_to_check_redundant+1, x)\n",
    "\n",
    "        solution = solver.Solve(prog)\n",
    "        if solution.get_solution_result() != SolutionResult.kSolutionFound:\n",
    "            raise ValueError(f\"Solution not found status is {solution.get_solution_result()}. Polytope might be empty\")\n",
    "        opt_val = -solution.get_optimal_cost()\n",
    "        if opt_val <= d_to_check_redundant:\n",
    "            excluded_indices.append(excluded_index)\n",
    "            kept_indices.remove(excluded_index)\n",
    "    new_region = HPolyhedron(region.A()[kept_indices, :], region.b()[kept_indices])\n",
    "    return new_region, kept_indices, excluded_indices\n",
    "    \n",
    "    "
   ]
  },
  {
   "cell_type": "code",
   "execution_count": 8,
   "metadata": {},
   "outputs": [
    {
     "name": "stdout",
     "output_type": "stream",
     "text": [
      "kept_indices = [6, 7, 8, 9, 10, 11]\n",
      "excluded_indices = [0, 1, 2, 3, 4, 5]\n"
     ]
    }
   ],
   "source": [
    "A = np.vstack([np.eye(3), -np.eye(3), np.eye(3), -np.eye(3)])\n",
    "b = np.concatenate([np.ones(6), 0.25*np.ones(6)])\n",
    "new_region, kept_indices, excluded_indices = prune_region(HPolyhedron(A,b))\n",
    "print(f\"kept_indices = {kept_indices}\")\n",
    "print(f\"excluded_indices = {excluded_indices}\")"
   ]
  },
  {
   "cell_type": "code",
   "execution_count": 33,
   "metadata": {},
   "outputs": [
    {
     "name": "stdout",
     "output_type": "stream",
     "text": [
      "[]\n",
      "\n",
      "[]\n",
      "\n",
      "[0, 6]\n",
      "\n",
      "[0, 1, 3, 5, 9]\n",
      "\n",
      "[0, 1]\n",
      "\n",
      "[0, 1, 5]\n",
      "\n"
     ]
    }
   ],
   "source": [
    "for region in regions:\n",
    "    new_region, kept_indices, excluded_indices = prune_region(region)\n",
    "#     print(np.hstack([region.A(), region.b()[:, np.newaxis]]))\n",
    "#     print()\n",
    "#     print(np.hstack([new_region.A(), new_region.b()[:, np.newaxis]]))\n",
    "    print(excluded_indices)\n",
    "    print()"
   ]
  },
  {
   "cell_type": "code",
   "execution_count": 35,
   "metadata": {},
   "outputs": [],
   "source": [
    "new_region, kept_indices, excluded_indices = prune_region(region)\n"
   ]
  },
  {
   "cell_type": "code",
   "execution_count": 36,
   "metadata": {},
   "outputs": [
    {
     "name": "stdout",
     "output_type": "stream",
     "text": [
      "[[ 1.          0.          0.        ]\n",
      " [ 0.          1.          0.        ]\n",
      " [ 0.          0.          1.        ]\n",
      " [-1.         -0.         -0.        ]\n",
      " [-0.         -1.         -0.        ]\n",
      " [-0.         -0.         -1.        ]\n",
      " [ 0.88244267 -0.25316296  0.39648891]\n",
      " [ 0.02498194  0.86393895 -0.50297653]]\n",
      "\n",
      "[[ 0.          0.          1.        ]\n",
      " [-1.         -0.         -0.        ]\n",
      " [-0.         -1.         -0.        ]\n",
      " [ 0.88244267 -0.25316296  0.39648891]\n",
      " [ 0.02498194  0.86393895 -0.50297653]]\n"
     ]
    }
   ],
   "source": [
    "print(region.A())\n",
    "print()\n",
    "print(new_region.A())"
   ]
  },
  {
   "cell_type": "code",
   "execution_count": 15,
   "metadata": {},
   "outputs": [
    {
     "name": "stdout",
     "output_type": "stream",
     "text": [
      "[0, 1, 2, 3, 4, 5]\n"
     ]
    }
   ],
   "source": [
    "print(excluded_indices)"
   ]
  }
 ],
 "metadata": {
  "interpreter": {
   "hash": "916dbcbb3f70747c44a77c7bcd40155683ae19c65e1c03b4aa3499c5328201f1"
  },
  "kernelspec": {
   "display_name": "Python 3",
   "language": "python",
   "name": "python3"
  },
  "language_info": {
   "codemirror_mode": {
    "name": "ipython",
    "version": 3
   },
   "file_extension": ".py",
   "mimetype": "text/x-python",
   "name": "python",
   "nbconvert_exporter": "python",
   "pygments_lexer": "ipython3",
   "version": "3.8.10"
  }
 },
 "nbformat": 4,
 "nbformat_minor": 2
}
