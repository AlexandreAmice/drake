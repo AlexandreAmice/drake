{
 "cells": [
  {
   "cell_type": "code",
   "execution_count": null,
   "metadata": {},
   "outputs": [],
   "source": [
    "%load_ext autoreload"
   ]
  },
  {
   "cell_type": "code",
   "execution_count": null,
   "metadata": {},
   "outputs": [],
   "source": [
    "from certified_iris_generator import CertifiedIrisRegionGenerator\n",
    "import sys\n",
    "import os\n",
    "import time\n",
    "import numpy as np\n",
    "from functools import partialnew_region2\n",
    "import itertools\n",
    "import mcubes\n",
    "import visualizations_utils as viz_utils\n",
    "import iris_utils #TODO remove\n",
    "from iris_plant_visualizer import IrisPlantVisualizer\n",
    "from pydrake.all import ClpSolver"
   ]
  },
  {
   "cell_type": "code",
   "execution_count": null,
   "metadata": {},
   "outputs": [],
   "source": [
    "#pydrake imports\n",
    "from pydrake.common import FindResourceOrThrow\n",
    "from pydrake.multibody.parsing import LoadModelDirectives, Parser, ProcessModelDirectives\n",
    "from pydrake.multibody.plant import MultibodyPlant, AddMultibodyPlantSceneGraph\n",
    "from pydrake.systems.framework import DiagramBuilder\n",
    "from pydrake.all import InverseKinematics, RevoluteJoint, HPolyhedron\n",
    "import pydrake.symbolic as sym\n",
    "from pydrake.all import MathematicalProgram\n",
    "import meshcat\n",
    "from pydrake.all import MosekSolver\n",
    "from pydrake.all import SolutionResult\n"
   ]
  },
  {
   "cell_type": "markdown",
   "metadata": {},
   "source": [
    "# Build plant"
   ]
  },
  {
   "cell_type": "code",
   "execution_count": null,
   "metadata": {},
   "outputs": [],
   "source": [
    "\n",
    "builder = DiagramBuilder()\n",
    "plant, scene_graph = AddMultibodyPlantSceneGraph(builder, time_step=0.001)\n",
    "parser = Parser(plant)\n",
    "parser.package_map().Add( \"wsg_50_description\", os.path.dirname(FindResourceOrThrow(\n",
    "            \"drake/manipulation/models/wsg_50_description/package.xml\")))\n",
    "\n",
    "simple_collision = True\n",
    "directives_file = FindResourceOrThrow(\"drake/sos_iris_certifier/planar_iiwa_simple_collision_welded_gripper.yaml\") \\\n",
    "    if simple_collision else FindResourceOrThrow(\"drake/sos_iris_certifier/planar_iiwa_dense_collision_welded_gripper.yaml\")\n",
    "directives = LoadModelDirectives(directives_file)\n",
    "models = ProcessModelDirectives(directives, plant, parser)\n",
    "\n",
    "q0 = [-0.2, -1.2, 1.6]\n",
    "index = 0\n",
    "for joint_index in plant.GetJointIndices(models[0].model_instance):\n",
    "    joint = plant.get_mutable_joint(joint_index)\n",
    "    if isinstance(joint, RevoluteJoint):\n",
    "        joint.set_default_angle(q0[index])\n",
    "        index += 1\n",
    "\n",
    "plant.Finalize()\n",
    "# visualizer = ConnectMeshcatVisualizer(builder, scene_graph, zmq_url=zmq_url, \n",
    "#                                       delete_prefix_on_load=False)\n",
    "\n",
    "# diagram = builder.Build()\n",
    "# visualizer.load()\n"
   ]
  },
  {
   "cell_type": "markdown",
   "metadata": {},
   "source": [
    "# Setup meshcat visualization"
   ]
  },
  {
   "cell_type": "code",
   "execution_count": null,
   "metadata": {},
   "outputs": [],
   "source": [
    "do_viz = True\n",
    "visualizer = IrisPlantVisualizer(plant, builder, scene_graph)"
   ]
  },
  {
   "cell_type": "markdown",
   "metadata": {},
   "source": [
    "# Build Certified Iris Region Object"
   ]
  },
  {
   "cell_type": "code",
   "execution_count": null,
   "metadata": {},
   "outputs": [],
   "source": [
    "iris_kwargs = {\n",
    "    'iris_starting_ellipse_vol': 1e-5,\n",
    "    'iris_plane_pullback': 1e-4,\n",
    "    'iris_max_faces': -1\n",
    "}"
   ]
  },
  {
   "cell_type": "code",
   "execution_count": null,
   "metadata": {},
   "outputs": [],
   "source": [
    "iris_generator = CertifiedIrisRegionGenerator(visualizer.diagram, plant, scene_graph, **iris_kwargs)"
   ]
  },
  {
   "cell_type": "code",
   "execution_count": null,
   "metadata": {
    "scrolled": true
   },
   "outputs": [],
   "source": [
    "seed_points = np.tan(np.array([\n",
    "                        [0.0, -2.016, 1.975], # in tight\n",
    "                        [-1, -2, 0.5],        # neutral pose\n",
    "                        [0.3, -0.8, 0.5],     # above shelf\n",
    "                        [0.25, -1.6, -0.25],  # in shelf 1\n",
    "                        [0.07, -1.8, -0.2],   # leaving shelf 1\n",
    "                        [-0.1, -2, -0.3]      # out of shelf 1\n",
    "                        ])    \n",
    "                        /2)\n",
    "\n",
    "regions, ellipses = iris_generator.iris_in_rational_space(seed_points)\n"
   ]
  },
  {
   "cell_type": "code",
   "execution_count": null,
   "metadata": {},
   "outputs": [],
   "source": [
    "trajectory_start = np.tan(np.array([-1, -2, 0.5])/2) # seed_points[1,:]\n",
    "trajectory_end = np.tan(np.array([0.25, -1.6, -0.25])/2)  #seed_points[3,:]"
   ]
  },
  {
   "cell_type": "code",
   "execution_count": null,
   "metadata": {},
   "outputs": [],
   "source": [
    "region_num = 0\n",
    "num_var = regions[region_num].A().shape[1]\n",
    "\n",
    "A_red = np.vstack([np.eye(num_var), -np.eye(num_var)])\n",
    "fact = 0.25\n",
    "b_red = np.hstack([fact*np.ones(num_var), fact*np.ones(num_var)])\n",
    "\n",
    "region = HPolyhedron(np.vstack([regions[region_num].A(), A_red]), \n",
    "                     np.concatenate([regions[region_num].b(), b_red]))\n",
    "# region = HPolyhedron(A_red, b_red)\n",
    "\n",
    "num_faces = region.A().shape[0]\n",
    "solver = MosekSolver()"
   ]
  },
  {
   "cell_type": "code",
   "execution_count": null,
   "metadata": {},
   "outputs": [],
   "source": [
    "def prune_region(region):\n",
    "    num_faces = region.A().shape[0]\n",
    "    solver = MosekSolver()\n",
    "    kept_indices = np.arange(num_faces).tolist()\n",
    "    excluded_indices = []\n",
    "    \n",
    "    for excluded_index in range(num_faces):\n",
    "        prog = MathematicalProgram()\n",
    "        x = prog.NewContinuousVariables(region.A().shape[1], 'x')\n",
    "        cur_kept_indices = kept_indices.copy()\n",
    "        cur_kept_indices.remove(excluded_index)\n",
    "\n",
    "        c_to_check_redundant = region.A()[excluded_index,:][np.newaxis, :]\n",
    "        d_to_check_redundant = np.atleast_2d(region.b()).T[excluded_index,:][np.newaxis, :]\n",
    "\n",
    "        A_to_check_against = region.A()[cur_kept_indices,:]\n",
    "        b_to_check_against = region.b()[cur_kept_indices]\n",
    "\n",
    "        prog.AddLinearCost(-c_to_check_redundant.T, 0., x)\n",
    "        prog.AddLinearConstraint(A_to_check_against, -np.inf*np.ones_like(b_to_check_against),\n",
    "                                 b_to_check_against, x)\n",
    "        prog.AddLinearConstraint(c_to_check_redundant, -np.inf*np.ones_like(d_to_check_redundant), \n",
    "                                 d_to_check_redundant+1, x)\n",
    "\n",
    "        solution = solver.Solve(prog)\n",
    "        if solution.get_solution_result() != SolutionResult.kSolutionFound:\n",
    "            raise ValueError(f\"Solution not found status is {solution.get_solution_result()}. Polytope might be empty\")\n",
    "        opt_val = -solution.get_optimal_cost()\n",
    "        if opt_val <= d_to_check_redundant:\n",
    "            excluded_indices.append(excluded_index)\n",
    "            kept_indices.remove(excluded_index)\n",
    "    new_region = HPolyhedron(region.A()[kept_indices, :], region.b()[kept_indices])\n",
    "    return new_region, kept_indices, excluded_indices\n",
    "    \n",
    "    "
   ]
  },
  {
   "cell_type": "code",
   "execution_count": null,
   "metadata": {},
   "outputs": [],
   "source": [
    "A = np.vstack([np.eye(3), -np.eye(3), np.eye(3), -np.eye(3)])\n",
    "b = np.concatenate([np.ones(6), 0.25*np.ones(6)])\n",
    "new_region, kept_indices, excluded_indices = prune_region(HPolyhedron(A,b))\n",
    "print(f\"kept_indices = {kept_indices}\")\n",
    "print(f\"excluded_indices = {excluded_indices}\")"
   ]
  },
  {
   "cell_type": "code",
   "execution_count": null,
   "metadata": {},
   "outputs": [],
   "source": [
    "for region in regions:\n",
    "    new_region, kept_indices, excluded_indices = prune_region(region)\n",
    "#     print(np.hstack([region.A(), region.b()[:, np.newaxis]]))\n",
    "#     print()\n",
    "#     print(np.hstack([new_region.A(), new_region.b()[:, np.newaxis]]))\n",
    "    print(excluded_indices)\n",
    "    print()"
   ]
  },
  {
   "cell_type": "code",
   "execution_count": null,
   "metadata": {},
   "outputs": [],
   "source": [
    "new_region, kept_indices, excluded_indices = prune_region(region)\n"
   ]
  },
  {
   "cell_type": "code",
   "execution_count": null,
   "metadata": {},
   "outputs": [],
   "source": [
    "print(region.A())\n",
    "print()\n",
    "print(new_region.A())"
   ]
  },
  {
   "cell_type": "code",
   "execution_count": null,
   "metadata": {},
   "outputs": [],
   "source": [
    "print(excluded_indices)"
   ]
  }
 ],
 "metadata": {
  "interpreter": {
   "hash": "916dbcbb3f70747c44a77c7bcd40155683ae19c65e1c03b4aa3499c5328201f1"
  },
  "kernelspec": {
   "display_name": "Python 3",
   "language": "python",
   "name": "python3"
  },
  "language_info": {
   "codemirror_mode": {
    "name": "ipython",
    "version": 3
   },
   "file_extension": ".py",
   "mimetype": "text/x-python",
   "name": "python",
   "nbconvert_exporter": "python",
   "pygments_lexer": "ipython3",
   "version": "3.8.10"
  }
 },
 "nbformat": 4,
 "nbformat_minor": 2
}
