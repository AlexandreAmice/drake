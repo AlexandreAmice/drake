{
 "cells": [
  {
   "cell_type": "code",
   "execution_count": null,
   "metadata": {},
   "outputs": [],
   "source": [
    "%load_ext autoreload"
   ]
  },
  {
   "cell_type": "code",
   "execution_count": null,
   "metadata": {},
   "outputs": [],
   "source": [
    "from certified_iris_generator import CertifiedIrisRegionGenerator\n",
    "import sys\n",
    "import os\n",
    "import time\n",
    "import numpy as np\n",
    "from functools import partial\n",
    "import itertools\n",
    "import iris_utils #TODO remove\n",
    "import ipywidgets as widgets\n",
    "from IPython.display import display\n",
    "from meshcat import Visualizer"
   ]
  },
  {
   "cell_type": "code",
   "execution_count": null,
   "metadata": {},
   "outputs": [],
   "source": [
    "#pydrake imports\n",
    "from pydrake.common import FindResourceOrThrow\n",
    "from pydrake.multibody.parsing import LoadModelDirectives, Parser, ProcessModelDirectives\n",
    "from pydrake.multibody.plant import MultibodyPlant, AddMultibodyPlantSceneGraph\n",
    "from pydrake.systems.framework import DiagramBuilder\n",
    "from pydrake.all import InverseKinematics, RevoluteJoint, RationalForwardKinematics\n",
    "from pydrake.geometry.optimization import IrisOptionsRationalSpace, IrisInRationalConfigurationSpace, HPolyhedron, Hyperellipsoid\n",
    "from pydrake.geometry import Role, GeometrySet, CollisionFilterDeclaration\n",
    "import pydrake.symbolic as sym\n",
    "from pydrake.all import MathematicalProgram, RigidTransform, RollPitchYaw\n",
    "from pydrake.systems.meshcat_visualizer import ConnectMeshcatVisualizer\n",
    "from sandbox import rrtiris"
   ]
  },
  {
   "cell_type": "code",
   "execution_count": null,
   "metadata": {},
   "outputs": [],
   "source": [
    "from pydrake.all import GenerateSeedingPolytope, GenerateRandomSeedingPolytope\n",
    "import pydrake.multibody.rational_forward_kinematics as rational_forward_kinematics\n",
    "from pydrake.multibody.rational_forward_kinematics import FindEpsilonLower, FindEpsilonLowerVector, FindEpsilonUpperVector\n",
    "from pydrake.solvers import mathematicalprogram as mp\n",
    "from pydrake.all import MosekSolver, MosekSolverDetails, FindEpsTilCollisionOrRedundantForAllIneqs\n",
    "from time import time"
   ]
  },
  {
   "cell_type": "code",
   "execution_count": null,
   "metadata": {},
   "outputs": [],
   "source": [
    "from meshcat.servers.zmqserver import start_zmq_server_as_subprocess\n",
    "proc, zmq_url, web_url = start_zmq_server_as_subprocess(server_args=[])\n",
    "vis = Visualizer(zmq_url=zmq_url)\n",
    "vis.delete()"
   ]
  },
  {
   "cell_type": "code",
   "execution_count": null,
   "metadata": {},
   "outputs": [],
   "source": [
    "\n",
    "def load_model():\n",
    "#     model_file = FindResourceOrThrow(\"drake/manipulation/models/iiwa_description/iiwa7/iiwa7_with_box_collision.sdf\")\n",
    "    model_file = FindResourceOrThrow(\"drake/manipulation/models/iiwa_description/sdf/iiwa14_coarse_collision.sdf\")\n",
    "    schunk = FindResourceOrThrow(\"drake/sos_iris_certifier/schunk_wsg_50_block.sdf\")\n",
    "    box_file_1 = FindResourceOrThrow(\"drake/sos_iris_certifier/assets/shelves.sdf\")\n",
    "\n",
    "    models =[]\n",
    "\n",
    "    builder = DiagramBuilder()\n",
    "\n",
    "    plant, scene_graph = AddMultibodyPlantSceneGraph(builder, time_step=1e-4)\n",
    "\n",
    "    parser = Parser(plant, scene_graph)\n",
    "    parser.package_map().Add( \"wsg_50_description\", os.path.dirname(FindResourceOrThrow(\n",
    "           \"drake/manipulation/models/wsg_50_description/package.xml\")))\n",
    "    models.append(parser.AddModelFromFile(model_file))\n",
    "    models.append(parser.AddModelFromFile(box_file_1))\n",
    "    models.append(parser.AddModelFromFile(schunk))\n",
    "\n",
    "    locs = [ [0,0,0], [0.70, 0, 0.4], [0,0,0]]\n",
    "    \n",
    "    idx = 0\n",
    "    for model in models[:-1]: # WITH S_C_H_U_N_K\n",
    "#     for model in models:  # WITHOUT S_C_H_U_N_K\n",
    "        plant.WeldFrames(plant.world_frame(), plant.get_body(plant.GetBodyIndices(model)[0]).body_frame(), RigidTransform(locs[idx]))\n",
    "        idx +=1\n",
    "    \n",
    "    #fuse S_C_H_U_N_K\n",
    "    plant.WeldFrames(plant.get_body(plant.GetBodyIndices(models[0])[-1]).body_frame(),\n",
    "                    plant.get_body(plant.GetBodyIndices(models[-1])[0]).body_frame(),\n",
    "                    RigidTransform(RollPitchYaw([np.pi/2,0, np.pi/2]).ToRotationMatrix(),[0,0,0.114]))\n",
    "\n",
    "    plant.Finalize()\n",
    "    return plant, builder, scene_graph, models\n",
    "\n",
    "def load_vis(plant, builder, scene_graph, zmq_url, col_geom = 0):\n",
    "    vis = Visualizer(zmq_url=zmq_url)\n",
    "    vis.delete()\n",
    "    if col_geom == 0:\n",
    "        viz_role = Role.kIllustration\n",
    "    else:\n",
    "        viz_role = Role.kProximity\n",
    "    visualizer = ConnectMeshcatVisualizer(builder, scene_graph, zmq_url=zmq_url, delete_prefix_on_load=False, role=viz_role )\n",
    "\n",
    "    diagram = builder.Build()\n",
    "    visualizer.load()\n",
    "    return vis, diagram\n",
    "plant, builder, scene_graph, models = load_model()\n",
    "vis, diagram = load_vis(plant, builder, scene_graph, zmq_url, col_geom = 0)\n",
    "context = diagram.CreateDefaultContext()\n",
    "plant_context = plant.GetMyContextFromRoot(context)\n",
    "sg_context = scene_graph.GetMyContextFromRoot(context)\n",
    "diagram.Publish(context)\n"
   ]
  },
  {
   "cell_type": "code",
   "execution_count": null,
   "metadata": {},
   "outputs": [],
   "source": [
    "#filter_manager = scene_graph.collision_filter_manager(sg_context)\n",
    "inspector = scene_graph.model_inspector()\n",
    "\n",
    "# #pairs = scene_graph.get_query_output_port().Eval(sg_context).inspector().GetCollisionCandidates()\n",
    "# #print(len(inspector.GetCollisionCandidates()), \"->\", len(pairs))\n",
    "\n",
    "# all_gids = []\n",
    "# for gid in inspector.GetGeometryIds(GeometrySet(inspector.GetAllGeometryIds()), Role.kProximity):\n",
    "#     #print(gid)\n",
    "#     name = inspector.GetName(gid)\n",
    "#     if \"iiwa7::iiwa_link_1\" in name:\n",
    "#         print(name)\n",
    "#         link_1 = gid\n",
    "#     if \"iiwa7::iiwa_link_0\" in name:\n",
    "#         print(name)\n",
    "#         link_0 = gid    \n",
    "#     all_gids.append(gid)\n",
    "#     #gid_name = inspector.GetName(gid)\n",
    "    \n",
    "# one_zero_var_links = GeometrySet([link_0, link_1])\n",
    "# all_gid_set = GeometrySet(all_gids)\n",
    "# scene_graph.collision_filter_manager().Apply(CollisionFilterDeclaration().ExcludeBetween(one_zero_var_links, all_gid_set))\n",
    "# pairs = scene_graph.get_query_output_port().Eval(sg_context).inspector().GetCollisionCandidates()\n",
    "# print(len(inspector.GetCollisionCandidates()), \"->\", len(pairs))"
   ]
  },
  {
   "cell_type": "code",
   "execution_count": null,
   "metadata": {
    "scrolled": true
   },
   "outputs": [],
   "source": [
    "import ipywidgets as widgets\n",
    "from IPython.display import display\n",
    "q_slider = np.zeros((7,))\n",
    "sliders = []\n",
    "for low, up, joint_idx in zip(plant.GetPositionLowerLimits()[:7], plant.GetPositionUpperLimits()[:7], range(7)):\n",
    "    sliders.append(\n",
    "        widgets.FloatSlider(\n",
    "        min=low, \n",
    "        max=up, \n",
    "        value=0, \n",
    "        description=f'iiwa_joint_{joint_idx}'\n",
    "        )\n",
    "    )\n",
    "\n",
    "ik = InverseKinematics(plant, plant_context)\n",
    "collision_constraint = ik.AddMinimumDistanceConstraint(1e-4, 0.01)\n",
    "    \n",
    "def eval_cons(q, c=collision_constraint, tol=0.01):\n",
    "    return 1 - 1 * float(c.evaluator().CheckSatisfied(q, tol))\n",
    "\n",
    "\n",
    "def handle_slider_change(change, idx):\n",
    "    q_slider[idx] = change['new']\n",
    "    #print(q, end=\"\\r\")\n",
    "#     print(f'In collision: {eval_cons(q_slider)}')\n",
    "    plant.SetPositions(plant_context, q_slider)\n",
    "    diagram.Publish(context)\n",
    "    \n",
    "\n",
    "for idx, slider in enumerate(sliders):\n",
    "    slider.observe(partial(handle_slider_change, idx = idx), names='value')\n",
    "for slider in sliders:\n",
    "    display(slider)"
   ]
  },
  {
   "cell_type": "code",
   "execution_count": null,
   "metadata": {},
   "outputs": [],
   "source": [
    "display(vis.jupyter_cell())"
   ]
  },
  {
   "cell_type": "code",
   "execution_count": null,
   "metadata": {},
   "outputs": [],
   "source": [
    "q_low = plant.GetPositionLowerLimits().tolist()\n",
    "q_high = plant.GetPositionUpperLimits().tolist()\n",
    "Ratfk = RationalForwardKinematics(plant)"
   ]
  },
  {
   "cell_type": "code",
   "execution_count": null,
   "metadata": {},
   "outputs": [],
   "source": [
    "seed_points_q = np.array([\n",
    "#     [0.0, 0.0, 0.0, 0.0, 0.0, 0.0, 0.0],  # initial config\n",
    "#     [0.0, -0.8, 0.0, -2.0, 0.0, 0.3, 0.0],  # arm outside\n",
    "    [0.0, 0.5, 0.0, -1.9, 0.0, -0.8, 0.0], # arm in middle of shelf\n",
    "#     [0.0, 0.11, 0.0, -1.69, 0.0, -0.29, 0.0], # arm in upper part of shelf"
   ]
  },
  {
   "cell_type": "code",
   "execution_count": null,
   "metadata": {},
   "outputs": [],
   "source": [
    "seed_points = np.array([Ratfk.ComputeTValue(seed_points_q[idx], np.zeros((3,)))\\\n",
    "                        for idx in range(seed_points_q.shape[0])])"
   ]
  },
  {
   "cell_type": "code",
   "execution_count": null,
   "metadata": {},
   "outputs": [],
   "source": []
  },
  {
   "cell_type": "code",
   "execution_count": null,
   "metadata": {},
   "outputs": [],
   "source": [
    "# #RUN THIS CELL IF YOU WANT TO DO SNOPT IRIS\n",
    "# regions_iris = []\n",
    "# iris_options = IrisOptionsRationalSpace()\n",
    "# iris_options.require_sample_point_is_contained = True\n",
    "# iris_options.iteration_limit = 20  # 22\n",
    "# iris_options.configuration_space_margin = 1e-5 # 1e-6\n",
    "# iris_options.max_faces_per_collision_pair = 60\n",
    "# iris_options.termination_threshold = -1\n",
    "# iris_options.q_star = np.zeros(7)\n",
    "# iris_options.relative_termination_threshold = 0.05  # 0.001\n",
    "# iris_options.enable_ibex = False\n",
    "# #deprecated\n",
    "# iris_options.certify_region_with_sos_during_generation = False\n",
    "# iris_options.certify_region_with_sos_after_generation = False\n",
    "# for i, s in enumerate(seed_points_q):\n",
    "#     plant.SetPositions(plant.GetMyMutableContextFromRoot(context), s)\n",
    "#     if False:\n",
    "#         #starting_hpolyhedron = regions[i-1]\n",
    "#         r = IrisInRationalConfigurationSpace (plant, plant.GetMyContextFromRoot(context),\n",
    "#                                               iris_options, starting_hpolyhedron)\n",
    "#     else:\n",
    "#         r = IrisInRationalConfigurationSpace(plant, plant.GetMyContextFromRoot(context), iris_options)\n",
    "#     regions_iris.append(r)\n",
    "#     print(f'Completed region: {i+1}/{len(seed_points)}')\n",
    "#     print(f\"Sample point contained = {np.all(r.A()@seed_points[i] <= r.b())}\")\n",
    "#     print(f\"Sample point contained componentwise = {r.A()@seed_points[i] <= r.b()}\")\n",
    "#     print(f\"Region volume: {r.MaximumVolumeInscribedEllipsoid().Volume()}\")\n",
    "#     print()\n",
    "\n",
    "# starting_region = regions_iris[0]"
   ]
  },
  {
   "cell_type": "code",
   "execution_count": null,
   "metadata": {},
   "outputs": [],
   "source": [
    "# RUN THIS CELL IF YOU WANT TO GENERATE A DEFAULT REGION \n",
    "\n",
    "#compute limits in t-space\n",
    "limits_t = []\n",
    "for q in [q_low, q_high]:\n",
    "    limits_t.append(Ratfk.ComputeTValue(np.array(q), np.zeros((7,)) ))\n",
    "\n",
    "regions_default = []\n",
    "max_vects = []\n",
    "min_vects = []\n",
    "vector_bisection_options_list = []\n",
    "bilinear_alteration_options_list = []\n",
    "interleaved_options_list = []\n",
    "\n",
    "#parameters for creating a default region. Currently set to create a box\n",
    "# num_perm_dim = 0\n",
    "# num_rot = 1\n",
    "\n",
    "num_unit_box_copies = 2\n",
    "initial_box_scale = 0.025\n",
    "gaussian_variance = 0.1\n",
    "\n",
    "for i, s in enumerate(seed_points):\n",
    "#   r = GenerateSeedingPolytope(s, num_perm_dim, num_rot)\n",
    "    r = GenerateRandomSeedingPolytope(s,\n",
    "                                     num_unit_box_copies,\n",
    "                                     initial_box_scale,\n",
    "                                     gaussian_variance)\n",
    "    regions_default.append(r)\n",
    "    eps_min_vect = FindEpsilonLowerVector(regions_default[i].A(), \n",
    "                                      regions_default[i].b(), \n",
    "                                      limits_t[0], limits_t[1], s)\n",
    "    \n",
    "#     eps_max_vect = 10*regions_default[i].b()\n",
    "\n",
    "    print(f\"Sample point contained = {np.all(r.A()@s <= r.b())}\")\n",
    "    print(f\"Sample point contained componentwise = {r.A()@s <= r.b()}\")\n",
    "    print(f\"Region volume: {r.MaximumVolumeInscribedEllipsoid().Volume()}\")\n",
    "    print(f\"epsilon min: {eps_min_vect}\")\n",
    "    print()\n",
    "    \n",
    "starting_region = regions_default[0]"
   ]
  },
  {
   "cell_type": "code",
   "execution_count": null,
   "metadata": {},
   "outputs": [],
   "source": [
    "#bilinear alt one step on iris reg\n",
    "bilinear_alternation_options = rational_forward_kinematics.BilinearAlternationOption()\n",
    "bilinear_alternation_options.max_iters = 1\n",
    "bilinear_alternation_options.lagrangian_backoff_scale = 0\n",
    "bilinear_alternation_options.polytope_backoff_scale = 0\n",
    "bilinear_alternation_options.num_threads = 12\n",
    "#bilinear_alteration_options_list.append(bilinear_alternation_options)"
   ]
  },
  {
   "cell_type": "code",
   "execution_count": null,
   "metadata": {},
   "outputs": [],
   "source": [
    "cspace_free_region = rational_forward_kinematics.CspaceFreeRegion(diagram, plant, scene_graph,\n",
    "                                   rational_forward_kinematics.SeparatingPlaneOrder.kAffine,\n",
    "                                   rational_forward_kinematics.CspaceRegionType.kGenericPolytope)\n",
    "filtered_collision_pairs = set()\n",
    "solver_options = mp.SolverOptions()\n",
    "solver_options.SetOption(mp.CommonSolverOption.kPrintToConsole, 1)"
   ]
  },
  {
   "cell_type": "code",
   "execution_count": null,
   "metadata": {},
   "outputs": [],
   "source": [
    "q_star = np.zeros(7)"
   ]
  },
  {
   "cell_type": "code",
   "execution_count": null,
   "metadata": {},
   "outputs": [],
   "source": [
    "t0 = time()\n",
    "sol_iris_bil = cspace_free_region.CspacePolytopeBilinearAlternation(q_star,\n",
    "                                                                    filtered_collision_pairs,\n",
    "                                                                    starting_region.A(),\n",
    "                                                                    starting_region.b()-1e-2,\n",
    "#                                                                     starting_region.b()+eps_min_vect,\n",
    "                                                                    bilinear_alternation_options,\n",
    "                                                                    solver_options)\n",
    "t1 = time()\n",
    "print(f\"Completed points in {t1-t0}s\")\n",
    "print(f\"Region volume: {HPolyhedron(sol_iris_bil.C, sol_iris_bil.d).MaximumVolumeInscribedEllipsoid().Volume()}\")"
   ]
  },
  {
   "cell_type": "code",
   "execution_count": null,
   "metadata": {
    "scrolled": true
   },
   "outputs": [],
   "source": []
  },
  {
   "cell_type": "code",
   "execution_count": null,
   "metadata": {},
   "outputs": [],
   "source": [
    "#find interesting pair sideways + up and down rotation of solution plane\n",
    "#look for extreme points within the region? (cdd lib?)\n",
    "#show plane: fix juspyter cell, copy showres code from sliders above\n",
    "\n",
    "\n"
   ]
  },
  {
   "cell_type": "code",
   "execution_count": null,
   "metadata": {},
   "outputs": [],
   "source": []
  },
  {
   "cell_type": "code",
   "execution_count": null,
   "metadata": {},
   "outputs": [],
   "source": []
  },
  {
   "cell_type": "code",
   "execution_count": null,
   "metadata": {
    "scrolled": true
   },
   "outputs": [],
   "source": [
    "gids = inspector.GetAllGeometryIds()\n",
    "get_gid_val = lambda gid : gid.get_value()\n",
    "gids.sort(key = get_gid_val)\n",
    "\n",
    "for gid in gids:\n",
    "    print(gid, inspector.GetName(gid))"
   ]
  },
  {
   "cell_type": "code",
   "execution_count": null,
   "metadata": {
    "scrolled": true
   },
   "outputs": [],
   "source": [
    "for idx, plane in enumerate(sol_iris_bil.separating_planes):\n",
    "    #print(idx)\n",
    "    A = plane.positive_side_polytope.get_id().get_value() if plane.positive_side_polytope is not None else None\n",
    "    B = plane.negative_side_polytope.get_id().get_value() if plane.negative_side_polytope is not None else None\n",
    "    print(idx, (A, B))"
   ]
  },
  {
   "cell_type": "code",
   "execution_count": null,
   "metadata": {},
   "outputs": [],
   "source": []
  },
  {
   "cell_type": "code",
   "execution_count": null,
   "metadata": {},
   "outputs": [],
   "source": [
    "# # geomids_of_interest = [72, 74, 89, 91, 93, 95]  # Shelf all collision geometry ids (BOX COLLISION)\n",
    "# geomids_of_interest = [72, 74, 93, 95]  # Shelf mid collision geometry ids (BOX COLLISION)\n",
    "# # geomids_of_interest = [57, 63, 101]  # Link 6, link 7, Schunk (BOX COLLISION)\n",
    "\n",
    "# geomids_of_interest = [97, 99, 114, 116, 118, 120]  # Shelf all collision geometry ids (POLYTOPE COLLISION)\n",
    "# geomids_of_interest = [97, 99, 118, 120]  # Shelf mid collision geometry ids (POLYTOPE COLLISION)\n",
    "geomids_of_interest = [73, 75, 84, 126]  # Link 5, Link 6, Schunk (POLYTOPE COLLISION)\n",
    "geomids_of_interest = [126]  # Link 5, Link 6, Schunk (POLYTOPE COLLISION)\n",
    "\n",
    "for geomid_of_interest in geomids_of_interest:\n",
    "    for idx, plane in enumerate(sol_iris_bil.separating_planes):\n",
    "        #print(idx)\n",
    "        A = plane.positive_side_polytope.get_id().get_value() if plane.positive_side_polytope is not None else None\n",
    "        B = plane.negative_side_polytope.get_id().get_value() if plane.negative_side_polytope is not None else None\n",
    "    #     print(idx, (A, B))\n",
    "        if A == geomid_of_interest or B == geomid_of_interest:  # 101\n",
    "            print(idx, (A, B))"
   ]
  },
  {
   "cell_type": "code",
   "execution_count": null,
   "metadata": {},
   "outputs": [],
   "source": [
    "# planes_viz = [sol_iris_bil.separating_planes[47]]  # Link 4 and upper shelf (BOX COLLISION)\n",
    "# planes_viz = [sol_iris_bil.separating_planes[97]]  # Schunk and lower shelf (POLYTOPE COLLISION)\n",
    "# planes_viz = [sol_iris_bil.separating_planes[98]]  # Schunk and upper shelf (POLYTOPE COLLISION)\n",
    "# planes_viz = [sol_iris_bil.separating_planes[93]]  # Schunk and right shelf (POLYTOPE COLLISION)\n",
    "# planes_viz = [sol_iris_bil.separating_planes[94]]  # Schunk and left shelf (POLYTOPE COLLISION)\n",
    "# planes_viz = [sol_iris_bil.separating_planes[95]]  # Schunk and bottom shelf (POLYTOPE COLLISION)\n",
    "# planes_viz = [sol_iris_bil.separating_planes[96]]  # Schunk and top shelf (POLYTOPE COLLISION)\n",
    "planes_viz = sol_iris_bil.separating_planes[93:99]"
   ]
  },
  {
   "cell_type": "code",
   "execution_count": null,
   "metadata": {},
   "outputs": [],
   "source": [
    "def showres(q):\n",
    "    plant.SetPositions(plant_context, q)\n",
    "    diagram.Publish(context)\n",
    "\n",
    "    \n",
    "import scipy\n",
    "import visualizations_utils as viz_utils\n",
    "import meshcat\n",
    "    \n",
    "#plotting planes setup\n",
    "x = np.linspace(-.5, .5, 3)\n",
    "y = np.linspace(-.5, .5, 3)\n",
    "verts = []\n",
    "\n",
    "for idxx in range(len(x)):\n",
    "    for idxy in range(len(y)):\n",
    "        verts.append(np.array([x[idxx], y[idxy]]))\n",
    "tri = scipy.spatial.Delaunay(verts)\n",
    "plane_triangles = tri.simplices\n",
    "plane_verts = tri.points[:, :]\n",
    "plane_verts = np.concatenate((plane_verts, 0 * plane_verts[:, 0].reshape(-1, 1)), axis=1)\n",
    "\n",
    "\n",
    "def transform(a, b, p1, p2, plane_verts):\n",
    "    alpha = (-b - a.T @ p1) / (a.T @ (p2 - p1))\n",
    "    offset = alpha * (p2 - p1) + p1\n",
    "    z = np.array([0, 0, 1])\n",
    "    crossprod = np.cross(viz_utils.normalize(a), z)\n",
    "    if np.linalg.norm(crossprod) <= 1e-4:\n",
    "        R = np.eye(3)\n",
    "    else:\n",
    "        ang = np.arcsin(np.linalg.norm(crossprod))\n",
    "        axis = viz_utils.normalize(crossprod)\n",
    "        R = viz_utils.get_rotation_matrix(axis, -ang)\n",
    "\n",
    "    verts_tf = (R @ plane_verts.T).T + offset\n",
    "    return verts_tf"
   ]
  },
  {
   "cell_type": "code",
   "execution_count": null,
   "metadata": {},
   "outputs": [],
   "source": [
    "cube_tri = np.array([[0,2,1],[0,3,2],\n",
    "                     [4,6,5],[4,7,6],\n",
    "                     [4,3,7],[3,0,7],\n",
    "                     [0,6,7],[0,1,6],\n",
    "                     [1,5,6],[1,2,5],\n",
    "                     [2,4,5],[2,3,4]])\n",
    "\n",
    "\n",
    "def showres_verts(q):\n",
    "    showres(q)\n",
    "    t = Ratfk.ComputeTValue(q, q_star)\n",
    "    p_colors = [(0,255,0)]*len(planes_viz)\n",
    "    v_colors = [(255,0,0)]*len(planes_viz)\n",
    "    for plane_test, col_plane, col_vertex in zip(planes_viz, p_colors, v_colors):\n",
    "        vert_A = plane_test.positive_side_polytope.p_BV()[:, :]\n",
    "        vert_B = plane_test.negative_side_polytope.p_BV()[:, :]\n",
    "        geomA = plane_test.positive_side_polytope.get_id()\n",
    "        geomB = plane_test.negative_side_polytope.get_id()\n",
    "        \n",
    "        b = plane_test.b\n",
    "        a = plane_test.a\n",
    "        b_eval_frame = b.Evaluate(dict(zip(b.GetVariables(), t)))\n",
    "        a_eval_frame = np.array([a_idx.Evaluate(dict(zip(a_idx.GetVariables(), t))) for a_idx in a])\n",
    "        X_EW = plant.GetBodyFromFrameId(plant.GetBodyFrameIdIfExists(plane_test.expressed_link))\\\n",
    "                    .body_frame().CalcPoseInWorld(plant_context).inverse()\n",
    "        X_WE = X_EW.inverse()\n",
    "        R_EW = X_EW.rotation().matrix()\n",
    "        V_EW = X_EW.translation()\n",
    "        a_eval = a_eval_frame\n",
    "        b_eval = b_eval_frame\n",
    "        X_WA = plant.GetBodyFromFrameId(plant.GetBodyFrameIdIfExists(plane_test.positive_side_polytope.body_index()))\\\n",
    "                    .body_frame().CalcPoseInWorld(plant_context)\n",
    "        vert_A = X_WA@vert_A\n",
    "        X_WB = plant.GetBodyFromFrameId(plant.GetBodyFrameIdIfExists(plane_test.negative_side_polytope.body_index()))\\\n",
    "                    .body_frame().CalcPoseInWorld(plant_context)\n",
    "        vert_B = X_WB@vert_B\n",
    "        verts_tf_E = transform(a_eval, b_eval, X_EW@vert_A[:,0], X_EW@vert_B[:,0], plane_verts)\n",
    "        verts_tf = (X_WE@verts_tf_E.T).T\n",
    "        p_expr = X_EW.inverse()@np.zeros((3,))\n",
    "        \n",
    "        mat = meshcat.geometry.MeshLambertMaterial(color=viz_utils.rgb_to_hex(col_vertex), wireframe=False)\n",
    "        mat.opacity = 1.\n",
    "        vis[\"bodyvert\"][f\"{geomA.get_value()}\"].set_object(\n",
    "                                 meshcat.geometry.TriangularMeshGeometry(vert_A.T, cube_tri),\n",
    "                                 mat)\n",
    "        mat = meshcat.geometry.MeshLambertMaterial(color=viz_utils.rgb_to_hex((0,50,255)), wireframe=False)\n",
    "        mat.opacity = 1.\n",
    "        vis[\"bodyvert\"][f\"{geomB.get_value()}\"].set_object(\n",
    "                                 meshcat.geometry.TriangularMeshGeometry(vert_B.T, cube_tri),\n",
    "                                 mat)\n",
    "        \n",
    "        mat = meshcat.geometry.MeshLambertMaterial(color=viz_utils.rgb_to_hex((255,255,0)), wireframe=False)\n",
    "        mat.opacity = 0.6\n",
    "\n",
    "        if starting_region.PointInSet(t):\n",
    "            mat = meshcat.geometry.MeshLambertMaterial(color=viz_utils.rgb_to_hex(col_plane), wireframe=False)\n",
    "        else:\n",
    "            mat = meshcat.geometry.MeshLambertMaterial(color=viz_utils.rgb_to_hex((255,0,0)), wireframe=False)\n",
    "        mat.opacity = 0.5\n",
    "        vis['bodyvert'][\"plane\"][f\"{geomA.get_value()}, {geomB.get_value()}\"].set_object(\n",
    "                meshcat.geometry.TriangularMeshGeometry(verts_tf, plane_triangles),\n",
    "                mat)\n",
    "\n",
    "q = np.zeros((7,))\n",
    "def handle_slider_change(change, idx):\n",
    "    q[idx] = change['new']\n",
    "    #print(q, end=\"\\r\")\n",
    "    showres_verts(q)\n",
    "idx = 0\n",
    "for slider in sliders:\n",
    "    slider.observe(partial(handle_slider_change, idx = idx), names='value')\n",
    "    idx+=1\n",
    "for slider in sliders:\n",
    "    display(slider)\n",
    "display(vis.jupyter_cell())\n"
   ]
  },
  {
   "cell_type": "code",
   "execution_count": null,
   "metadata": {
    "scrolled": true
   },
   "outputs": [],
   "source": [
    "#     [0.0, 0.0, 0.0, 0.0, 0.0, 0.0, 0.0],  # initial config\n",
    "#     [0.0, -0.8, 0.0, -2.0, 0.0, 0.3, 0.0],  # arm outsidestarting_poly\n",
    "#     [0.0, 0.5, 0.0, -1.9, 0.0, -0.8, 0.0], # arm in middle of shelf\n",
    "#     [0.0, 0.11, 0.0, -1.69, 0.0, -0.29, 0.0], # arm in upper part of shelf"
   ]
  },
  {
   "cell_type": "code",
   "execution_count": null,
   "metadata": {},
   "outputs": [],
   "source": [
    "q1 = np.array([0.0, 0.0, 0.0, 0.0, 0.0, 0.0, 0.0])\n",
    "showres_verts(q1)"
   ]
  },
  {
   "cell_type": "code",
   "execution_count": null,
   "metadata": {},
   "outputs": [],
   "source": [
    "q2 = np.array([0.0, -0.8, 0.0, -2.0, 0.0, 0.3, 0.0])\n",
    "showres_verts(q2)"
   ]
  },
  {
   "cell_type": "code",
   "execution_count": null,
   "metadata": {},
   "outputs": [],
   "source": [
    "q3 = np.array([0.0, 0.5, 0.0, -1.9, 0.0, -0.8, 0.0])\n",
    "showres_verts(q3)"
   ]
  },
  {
   "cell_type": "code",
   "execution_count": null,
   "metadata": {},
   "outputs": [],
   "source": [
    "q4 = np.array([0.0, 0.11, 0.0, -1.69, 0.0, -0.29, 0.0])\n",
    "showres_verts(q4)"
   ]
  },
  {
   "cell_type": "code",
   "execution_count": null,
   "metadata": {},
   "outputs": [],
   "source": []
  },
  {
   "cell_type": "code",
   "execution_count": null,
   "metadata": {},
   "outputs": [],
   "source": []
  },
  {
   "cell_type": "code",
   "execution_count": null,
   "metadata": {},
   "outputs": [],
   "source": []
  },
  {
   "cell_type": "code",
   "execution_count": null,
   "metadata": {},
   "outputs": [],
   "source": []
  },
  {
   "cell_type": "code",
   "execution_count": null,
   "metadata": {},
   "outputs": [],
   "source": []
  },
  {
   "cell_type": "code",
   "execution_count": null,
   "metadata": {},
   "outputs": [],
   "source": []
  },
  {
   "cell_type": "code",
   "execution_count": null,
   "metadata": {},
   "outputs": [],
   "source": [
    "\n",
    "\n",
    "\n",
    "#compute limits in t-space\n",
    "limits_t = []\n",
    "for q in [q_low, q_high]:\n",
    "    limits_t.append(Ratfk.ComputeTValue(np.array(q), np.zeros((7,)) ))\n",
    "    \n",
    "starting_poly = HPolyhedron.MakeBox(limits_t[0], limits_t[1])\n",
    "context = diagram.CreateDefaultContext()\n",
    "\n",
    "def check_empty_polytope(C, d):\n",
    "    prog = MathematicalProgram()\n",
    "    t = prog.NewContinuousVariables(C.shape[1], \"t\")\n",
    "\n",
    "    prog.AddLinearConstraint(C,-np.inf*np.ones(C.shape[0]), d, t)\n",
    "    prog.AddBoundingBoxConstraint(limits_t[0], limits_t[1], t)\n",
    "    result = MosekSolver().Solve(prog)\n",
    "    return result.is_success(), result.get_solution_result()"
   ]
  },
  {
   "cell_type": "markdown",
   "metadata": {},
   "source": [
    "## Create default region"
   ]
  },
  {
   "cell_type": "code",
   "execution_count": null,
   "metadata": {},
   "outputs": [],
   "source": [
    "regions_default = []\n",
    "max_vects = []\n",
    "min_vects = []\n",
    "vector_bisection_options_list = []\n",
    "bilinear_alteration_options_list = []\n",
    "interleaved_options_list = []\n",
    "\n",
    "#parameters for creating a default region. Currently set to create a box\n",
    "# num_perm_dim = 0\n",
    "# num_rot = 1\n",
    "\n",
    "num_unit_box_copies = 2\n",
    "initial_box_scale = 0.25\n",
    "gaussian_variance = 0.1\n",
    "\n",
    "for i, s in enumerate(seed_points):\n",
    "#     regions_default.append(GenerateSeedingPolytope(s, num_perm_dim, num_rot))\n",
    "    regions_default.append(GenerateRandomSeedingPolytope(s,\n",
    "                                     num_unit_box_copies,\n",
    "                                     initial_box_scale,\n",
    "                                     gaussian_variance))\n",
    "    eps_min_vect = FindEpsilonLowerVector(regions_default[i].A(), \n",
    "                                      regions_default[i].b(), \n",
    "                                      limits_t[0], limits_t[1], s)\n",
    "    \n",
    "    min_vects.append(eps_min_vect)\n",
    "    \n",
    "#     eps_max_vect = FindEpsTilCollisionOrRedundantForAllIneqs(plant,\n",
    "# #                                                              context,\n",
    "#                                                              plant.GetMyMutableContextFromRoot(context), \n",
    "#                                 q_star, regions_default[i].A(), regions_default[i].b(), \n",
    "# #                                          eps_min_vect, \n",
    "#                                                              limits_t[0], limits_t[1], s)\n",
    "    eps_max_vect = 10*regions_default[i].b()\n",
    "    max_vects.append(eps_max_vect)\n",
    "    \n",
    "    vector_bisection_search_options = rational_forward_kinematics.VectorBisectionSearchOption()\n",
    "    vector_bisection_search_options.max_iters = 10\n",
    "    vector_bisection_search_options.max_feasible_iters = 5\n",
    "    vector_bisection_search_options.search_d = True\n",
    "    vector_bisection_search_options.epsilon_min = np.zeros_like(regions_default[i].b())\n",
    "    vector_bisection_search_options.epsilon_max = eps_max_vect\n",
    "    vector_bisection_search_options.num_threads = 4\n",
    "    vector_bisection_options_list.append(vector_bisection_search_options)\n",
    "    \n",
    "    bilinear_alternation_options = rational_forward_kinematics.BilinearAlternationOption()\n",
    "    bilinear_alternation_options.max_iters = 20\n",
    "    bilinear_alternation_options.lagrangian_backoff_scale = 0\n",
    "    bilinear_alternation_options.polytope_backoff_scale = 0\n",
    "    bilinear_alternation_options.num_threads = 4\n",
    "    bilinear_alteration_options_list.append(bilinear_alternation_options)\n",
    "    \n",
    "    binary_search_option = rational_forward_kinematics.BinarySearchOption()\n",
    "    binary_search_option.epsilon_max = 5\n",
    "    binary_search_option.epsilon_min = FindEpsilonLower(regions_default[i].A(), \n",
    "                                                        regions_default[i].b()+eps_min_vect, \n",
    "                                                        limits_t[0], limits_t[1], s)\n",
    "    binary_search_option.max_iters = 10\n",
    "    binary_search_option.search_d = True\n",
    "    binary_search_option.num_threads = 4\n",
    "    \n",
    "    interleaved_options = rational_forward_kinematics.InterleavedRegionSearchOptions()\n",
    "    interleaved_options.scalar_binary_search_options = binary_search_option\n",
    "    interleaved_options.vector_bisection_search_options = vector_bisection_search_options\n",
    "    interleaved_options.bilinear_alternation_options = bilinear_alternation_options\n",
    "    #actually does round robin\n",
    "    interleaved_options.max_method_switch = 3\n",
    "    interleaved_options_list.append(interleaved_options)\n",
    "    \n",
    "    \n",
    "num_round_robin_rounds = 1\n",
    "\n"
   ]
  },
  {
   "cell_type": "markdown",
   "metadata": {},
   "source": [
    "## Run Cspace Free Region"
   ]
  },
  {
   "cell_type": "code",
   "execution_count": null,
   "metadata": {},
   "outputs": [],
   "source": [
    "cspace_free_region = rational_forward_kinematics.CspaceFreeRegion(diagram, plant, scene_graph,\n",
    "                                   rational_forward_kinematics.SeparatingPlaneOrder.kAffine,\n",
    "                                   rational_forward_kinematics.CspaceRegionType.kGenericPolytope)\n",
    "filtered_collision_pairs = set()\n",
    "solver_options = mp.SolverOptions()\n",
    "# solver_options.SetOption(mp.CommonSolverOption.kPrintToConsole, 1)"
   ]
  },
  {
   "cell_type": "code",
   "execution_count": null,
   "metadata": {},
   "outputs": [],
   "source": []
  },
  {
   "cell_type": "code",
   "execution_count": null,
   "metadata": {},
   "outputs": [],
   "source": [
    "seed_point_list = [s for s in seed_points] \n",
    "print(len(seed_point_list))\n",
    "C_mats = [r.A() for r in regions_default]\n",
    "d_vects = [r.b() for r in regions_default]\n",
    "t0 = time()\n",
    "cspace_free_region_solution_interleaved_vect = cspace_free_region.InterleavedCSpacePolytopeSearchForSeedPoints(\n",
    "                                                                    q_star,\n",
    "                                                                     filtered_collision_pairs,\n",
    "                                                                     C_mats, d_vects, num_round_robin_rounds, \n",
    "                                                                     interleaved_options_list,\n",
    "                                                                     solver_options, seed_point_list, \n",
    "    context = plant.GetMyMutableContextFromRoot(context))\n",
    "# cspace_free_region_solution_round_robin_vect = cspace_free_region.CspacePolytopeRoundRobinBisectionSearchForSeedPoints(\n",
    "#                                                                     q_star,\n",
    "#                                                                      filtered_collision_pairs,\n",
    "#                                                                      C_mats, d_vects, num_round_robin_rounds, \n",
    "#                                                                      vector_bisection_options_list,\n",
    "#                                                                      solver_options, seed_point_list)\n",
    "t1 = time()\n"
   ]
  },
  {
   "cell_type": "code",
   "execution_count": null,
   "metadata": {},
   "outputs": [],
   "source": [
    "print(seed_points)"
   ]
  },
  {
   "cell_type": "code",
   "execution_count": null,
   "metadata": {},
   "outputs": [],
   "source": [
    "print(f\"Completed points in {t1-t0}s\")\n",
    "regions_round_robin = []\n",
    "ellipses_round_robin = []\n",
    "for sol in cspace_free_region_solution_interleaved_vect:\n",
    "    r = HPolyhedron(np.vstack([starting_poly.A(),sol.C]),\n",
    "                np.hstack([starting_poly.b(), sol.d])\n",
    "                )\n",
    "    e = Hyperellipsoid(np.linalg.inv(sol.P), sol.q)\n",
    "\n",
    "    regions_round_robin.append(r)\n",
    "    ellipses_round_robin.append(e)"
   ]
  },
  {
   "cell_type": "code",
   "execution_count": null,
   "metadata": {},
   "outputs": [],
   "source": [
    "print(f\"Completed points in {t1-t0}s\")\n",
    "regions_round_robin = []\n",
    "ellipses_round_robin = []\n",
    "for i, sol in enumerate(cspace_free_region_solution_interleaved_vect):\n",
    "    dtmp = sol.d+sol.C@seed_points[i,:]\n",
    "    \n",
    "    r = HPolyhedron(np.vstack([starting_poly.A(),sol.C*2]),\n",
    "                np.hstack([starting_poly.b(), dtmp])\n",
    "                )\n",
    "    e = Hyperellipsoid(np.linalg.inv(sol.P), sol.q)\n",
    "\n",
    "    regions_round_robin.append(r)\n",
    "    ellipses_round_robin.append(e)"
   ]
  },
  {
   "cell_type": "code",
   "execution_count": null,
   "metadata": {},
   "outputs": [],
   "source": [
    "from datetime import datetime\n",
    "\n",
    "# datetime object containing current date and time\n",
    "now = datetime.now()\n",
    " \n",
    "print(\"now =\", now)\n",
    "\n",
    "# dd/mm/YY H:M:S\n",
    "dt_string = now.strftime(\"%d/%m/%Y %H:%M:%S\")\n",
    "print(\"finished running at =\", dt_string)\t"
   ]
  },
  {
   "cell_type": "code",
   "execution_count": null,
   "metadata": {},
   "outputs": [],
   "source": []
  },
  {
   "cell_type": "code",
   "execution_count": null,
   "metadata": {},
   "outputs": [],
   "source": []
  },
  {
   "cell_type": "code",
   "execution_count": null,
   "metadata": {},
   "outputs": [],
   "source": []
  },
  {
   "cell_type": "code",
   "execution_count": null,
   "metadata": {},
   "outputs": [],
   "source": []
  },
  {
   "cell_type": "code",
   "execution_count": null,
   "metadata": {},
   "outputs": [],
   "source": []
  },
  {
   "cell_type": "code",
   "execution_count": null,
   "metadata": {},
   "outputs": [],
   "source": [
    "iris_options = IrisOptionsRationalSpace()\n",
    "iris_options.require_sample_point_is_contained = True\n",
    "iris_options.iteration_limit = 20\n",
    "iris_options.configuration_space_margin = 1e-5\n",
    "iris_options.max_faces_per_collision_pair = 50\n",
    "iris_options.termination_threshold = -1\n",
    "iris_options.relative_termination_threshold = 0.01\n",
    "iris_options.enable_ibex = False\n",
    "iris_options.q_star = np.zeros(7)\n",
    "iris_options.certify_region_with_sos_during_generation = False\n",
    "iris_options.certify_region_with_sos_after_generation = False\n",
    "rational_fk = RationalForwardKinematics(plant)\n",
    "poi = []\n",
    "for pt in [start, target]:\n",
    "    poi.append(rational_fk.ComputeTValue(pt, np.zeros((7,)) ))\n",
    "\n",
    "#compute limits in t-space\n",
    "limits_t = []\n",
    "for q in [plant.GetPositionLowerLimits(), plant.GetPositionUpperLimits()]:\n",
    "    limits_t.append(rational_fk.ComputeTValue(np.array(q), np.zeros((7,)) ))\n",
    "    \n",
    "starting_poly = HPolyhedron.MakeBox(limits_t[0], limits_t[1])\n",
    "\n",
    "def iris_handle(seed, domain):\n",
    "    seed_q = rational_fk.ComputeQValue(np.array(seed), np.zeros((7,)) )\n",
    "    plant.SetPositions(plant.GetMyMutableContextFromRoot(context), seed_q)\n",
    "    return IrisInRationalConfigurationSpace(plant, plant.GetMyContextFromRoot(context),\n",
    "                                              iris_options, domain)"
   ]
  },
  {
   "cell_type": "code",
   "execution_count": null,
   "metadata": {},
   "outputs": [],
   "source": [
    "region = iris_handle(poi[0], starting_poly)\n",
    "#pull back all faces of poly\n",
    "b_region_small = region.A()@poi[0] + 1e-5\n",
    "region_small = HPolyhedron(region.A(), b_region_small)\n",
    "regions = [region_small]"
   ]
  },
  {
   "cell_type": "code",
   "execution_count": null,
   "metadata": {},
   "outputs": [],
   "source": [
    "import pydrake.multibody.rational_forward_kinematics as rational_forward_kinematics\n",
    "from pydrake.multibody.rational_forward_kinematics import FindEpsilonLower\n",
    "from pydrake.solvers import mathematicalprogram as mp\n",
    "cspace_free_region = rational_forward_kinematics.CspaceFreeRegion(diagram, plant, scene_graph,\n",
    "                                   rational_forward_kinematics.SeparatingPlaneOrder.kAffine,\n",
    "                                   rational_forward_kinematics.CspaceRegionType.kGenericPolytope)"
   ]
  },
  {
   "cell_type": "code",
   "execution_count": null,
   "metadata": {},
   "outputs": [],
   "source": [
    "FindEpsilonLower(limits_t[0], limits_t[1], regions[0].A(), regions[0].b())"
   ]
  },
  {
   "cell_type": "code",
   "execution_count": null,
   "metadata": {},
   "outputs": [],
   "source": [
    "edited_regions = []\n",
    "filtered_collision_pairs = set()\n",
    "\n",
    "binary_search_options = rational_forward_kinematics.BinarySearchOption()\n",
    "binary_search_options.epsilon_max = 10\n",
    "binary_search_options.epsilon_min = 1e-8\n",
    "binary_search_options.max_iters = 5\n",
    "binary_search_options.search_d = True\n",
    "bilinear_alternation_option = rational_forward_kinematics.BilinearAlternationOption()\n",
    "bilinear_alternation_option.max_iters = 20\n",
    "bilinear_alternation_option.lagrangian_backoff_scale = 1e-3\n",
    "bilinear_alternation_option.polytope_backoff_scale = 1e-5\n",
    "\n",
    "solver_options = mp.SolverOptions()\n",
    "solver_options.SetOption(mp.CommonSolverOption.kPrintToConsole, 1)\n",
    "for r in regions: \n",
    "    try:\n",
    "        d_feasible = \\\n",
    "            cspace_free_region.CspacePolytopeBinarySearch(\n",
    "                iris_options.q_star, filtered_collision_pairs, r.A(), r.b(),\n",
    "                binary_search_options, solver_options)\n",
    "        \n",
    "        #C_final, d_final, P_final, q_final = \\\n",
    "        #    cspace_free_region.CspacePolytopeBilinearAlternation(\n",
    "        #        iris_options.q_star, filtered_collision_pairs, r.A(), d_feasible,\n",
    "        #       bilinear_alternation_option, solver_options)\n",
    "        #C_final = np.vstack([C_final, P_joint_limits.A()])\n",
    "        #d_final = np.concatenate([d_final, P_joint_limits.b()])\n",
    "        #editted_regions.append(HPolyhedron(C_final, d_final))\n",
    "    except Exception as e:\n",
    "        print(e)\n",
    "print(len(edited_regions))"
   ]
  },
  {
   "cell_type": "code",
   "execution_count": null,
   "metadata": {},
   "outputs": [],
   "source": [
    "C = regions[0].MaximumVolumeInscribedEllipsoid().A()\n",
    "radii2, R  =  np.linalg.eig(C.T @ C)\n",
    "radii = np.sqrt(radii2)"
   ]
  },
  {
   "cell_type": "code",
   "execution_count": null,
   "metadata": {},
   "outputs": [],
   "source": [
    "region.ReduceInequalities\n"
   ]
  },
  {
   "cell_type": "markdown",
   "metadata": {},
   "source": [
    "# RRTIRIS SEEDING"
   ]
  },
  {
   "cell_type": "code",
   "execution_count": null,
   "metadata": {},
   "outputs": [],
   "source": [
    "plant.SetPositions(plant_context, start)\n",
    "diagram.Publish(context)"
   ]
  },
  {
   "cell_type": "code",
   "execution_count": null,
   "metadata": {},
   "outputs": [],
   "source": [
    "ik = InverseKinematics(plant, plant_context)\n",
    "collision_constraint = ik.AddMinimumDistanceConstraint(0.001, 0.001)\n",
    "\n",
    "def eval_cons(q, c, tol):\n",
    "    return 1-1*float(c.evaluator().CheckSatisfied(q, tol))\n",
    "    \n",
    "col_func_handle = partial(eval_cons, c=collision_constraint, tol=0.01)"
   ]
  },
  {
   "cell_type": "code",
   "execution_count": null,
   "metadata": {},
   "outputs": [],
   "source": [
    "RRTIRIS = rrtiris.RRTIRIS(poi[0],\n",
    "                          poi[1],\n",
    "                          limits = limits_t,\n",
    "                          default_iris_domain = starting_poly,\n",
    "                          iris_handle = iris_handle,\n",
    "                          offset_scaler = 0.8,\n",
    "                          init_goal_sample_rate = 0.05,\n",
    "                          goal_sample_rate_scaler = 0.1,\n",
    "                          verbose = True,\n",
    "                          plotcallback = None,\n",
    "                          )\n",
    "RRTIRIS.run(1)"
   ]
  },
  {
   "cell_type": "code",
   "execution_count": null,
   "metadata": {},
   "outputs": [],
   "source": [
    "regions = RRTIRIS.node_regions"
   ]
  },
  {
   "cell_type": "code",
   "execution_count": null,
   "metadata": {},
   "outputs": [],
   "source": [
    "import pydrake.multibody.rational_forward_kinematics as rational_forward_kinematics\n",
    "from pydrake.solvers import mathematicalprogram as mp\n",
    "cspace_free_region = rational_forward_kinematics.CspaceFreeRegion(diagram, plant, scene_graph,\n",
    "                                   rational_forward_kinematics.SeparatingPlaneOrder.kAffine,\n",
    "                                   rational_forward_kinematics.CspaceRegionType.kGenericPolytope)"
   ]
  },
  {
   "cell_type": "code",
   "execution_count": null,
   "metadata": {},
   "outputs": [],
   "source": [
    "editted_regions = []\n",
    "filtered_collision_pairs = set()\n",
    "\n",
    "binary_search_options = rational_forward_kinematics.BinarySearchOption()\n",
    "binary_search_options.epsilon_max = 10\n",
    "binary_search_options.epsilon_min = -.2\n",
    "binary_search_options.max_iters = 5\n",
    "binary_search_options.search_d = True\n",
    "\n",
    "bilinear_alternation_option = rational_forward_kinematics.BilinearAlternationOption()\n",
    "bilinear_alternation_option.max_iters = 20\n",
    "bilinear_alternation_option.lagrangian_backoff_scale = 1e-3\n",
    "bilinear_alternation_option.polytope_backoff_scale = 1e-5\n",
    "\n",
    "solver_options = mp.SolverOptions()\n",
    "for r in regions: \n",
    "    try:\n",
    "        d_feasible = \\\n",
    "            cspace_free_region.CspacePolytopeBinarySearch(\n",
    "                iris_options.q_star, filtered_collision_pairs, r.A(), r.b(),\n",
    "                binary_search_options, solver_options)\n",
    "        C_final, d_final, P_final, q_final = \\\n",
    "            cspace_free_region.CspacePolytopeBilinearAlternation(\n",
    "                iris_options.q_star, filtered_collision_pairs, r.A(), d_feasible,\n",
    "                bilinear_alternation_option, solver_options)\n",
    "        C_final = np.vstack([C_final, P_joint_limits.A()])\n",
    "        d_final = np.concatenate([d_final, P_joint_limits.b()])\n",
    "        editted_regions.append(HPolyhedron(C_final, d_final))\n",
    "    except Exception as e:\n",
    "        print(e)\n",
    "print(len(editted_regions))"
   ]
  }
 ],
 "metadata": {
  "interpreter": {
   "hash": "916dbcbb3f70747c44a77c7bcd40155683ae19c65e1c03b4aa3499c5328201f1"
  },
  "kernelspec": {
   "display_name": "Python 3",
   "language": "python",
   "name": "python3"
  },
  "language_info": {
   "codemirror_mode": {
    "name": "ipython",
    "version": 3
   },
   "file_extension": ".py",
   "mimetype": "text/x-python",
   "name": "python",
   "nbconvert_exporter": "python",
   "pygments_lexer": "ipython3",
   "version": "3.8.10"
  }
 },
 "nbformat": 4,
 "nbformat_minor": 2
}
