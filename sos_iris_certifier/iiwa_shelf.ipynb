{
 "cells": [
  {
   "cell_type": "code",
   "execution_count": 1,
   "metadata": {},
   "outputs": [],
   "source": [
    "%load_ext autoreload"
   ]
  },
  {
   "cell_type": "code",
   "execution_count": 2,
   "metadata": {},
   "outputs": [],
   "source": [
    "from certified_iris_generator import CertifiedIrisRegionGenerator\n",
    "import sys\n",
    "import os\n",
    "import time\n",
    "import numpy as np\n",
    "from functools import partial\n",
    "import itertools\n",
    "import iris_utils #TODO remove\n",
    "import ipywidgets as widgets\n",
    "from IPython.display import display\n",
    "from meshcat import Visualizer"
   ]
  },
  {
   "cell_type": "code",
   "execution_count": 3,
   "metadata": {},
   "outputs": [],
   "source": [
    "#pydrake imports\n",
    "from pydrake.common import FindResourceOrThrow\n",
    "from pydrake.multibody.parsing import LoadModelDirectives, Parser, ProcessModelDirectives\n",
    "from pydrake.multibody.plant import MultibodyPlant, AddMultibodyPlantSceneGraph\n",
    "from pydrake.systems.framework import DiagramBuilder\n",
    "from pydrake.all import InverseKinematics, RevoluteJoint, RationalForwardKinematics\n",
    "from pydrake.geometry.optimization import IrisOptionsRationalSpace, IrisInRationalConfigurationSpace, HPolyhedron, Hyperellipsoid\n",
    "from pydrake.geometry import Role, GeometrySet, CollisionFilterDeclaration\n",
    "import pydrake.symbolic as sym\n",
    "from pydrake.all import MathematicalProgram, RigidTransform, RollPitchYaw\n",
    "from pydrake.systems.meshcat_visualizer import ConnectMeshcatVisualizer\n",
    "from sandbox import rrtiris"
   ]
  },
  {
   "cell_type": "code",
   "execution_count": 4,
   "metadata": {},
   "outputs": [],
   "source": [
    "from pydrake.all import GenerateSeedingPolytope, GenerateRandomSeedingPolytope\n",
    "import pydrake.multibody.rational_forward_kinematics as rational_forward_kinematics\n",
    "from pydrake.multibody.rational_forward_kinematics import FindEpsilonLower, FindEpsilonLowerVector, FindEpsilonUpperVector\n",
    "from pydrake.solvers import mathematicalprogram as mp\n",
    "from pydrake.all import MosekSolver, MosekSolverDetails, FindEpsTilCollisionOrRedundantForAllIneqs\n",
    "from time import time"
   ]
  },
  {
   "cell_type": "code",
   "execution_count": 5,
   "metadata": {},
   "outputs": [
    {
     "name": "stdout",
     "output_type": "stream",
     "text": [
      "You can open the visualizer by visiting the following URL:\n",
      "http://127.0.0.1:7000/static/\n"
     ]
    }
   ],
   "source": [
    "from meshcat.servers.zmqserver import start_zmq_server_as_subprocess\n",
    "proc, zmq_url, web_url = start_zmq_server_as_subprocess(server_args=[])\n",
    "vis = Visualizer(zmq_url=zmq_url)\n",
    "vis.delete()"
   ]
  },
  {
   "cell_type": "code",
   "execution_count": 6,
   "metadata": {},
   "outputs": [
    {
     "name": "stdout",
     "output_type": "stream",
     "text": [
      "You can open the visualizer by visiting the following URL:\n",
      "http://127.0.0.1:7000/static/\n",
      "Connecting to meshcat-server at zmq_url=tcp://127.0.0.1:6000...\n",
      "You can open the visualizer by visiting the following URL:\n",
      "http://127.0.0.1:7000/static/\n",
      "Connected to meshcat-server.\n"
     ]
    }
   ],
   "source": [
    "\n",
    "def load_model():\n",
    "    model_file = FindResourceOrThrow(\"drake/manipulation/models/iiwa_description/iiwa7/iiwa7_with_box_collision.sdf\")\n",
    "    schunk = FindResourceOrThrow(\"drake/sos_iris_certifier/schunk_wsg_50_block.sdf\")\n",
    "    box_file_1 = FindResourceOrThrow(\"drake/sos_iris_certifier/assets/shelves.sdf\")\n",
    "\n",
    "    models =[]\n",
    "\n",
    "    builder = DiagramBuilder()\n",
    "\n",
    "    plant, scene_graph = AddMultibodyPlantSceneGraph(builder, time_step=1e-4)\n",
    "\n",
    "    parser = Parser(plant, scene_graph)\n",
    "    parser.package_map().Add( \"wsg_50_description\", os.path.dirname(FindResourceOrThrow(\n",
    "           \"drake/manipulation/models/wsg_50_description/package.xml\")))\n",
    "    models.append(parser.AddModelFromFile(model_file))\n",
    "    models.append(parser.AddModelFromFile(box_file_1))\n",
    "    models.append(parser.AddModelFromFile(schunk))\n",
    "\n",
    "    locs = [ [0,0,0], [0.70, 0, 0.4], [0,0,0]]\n",
    "    \n",
    "    idx = 0\n",
    "    for model in models[:-1]: # WITH S_C_H_U_N_K\n",
    "#     for model in models:  # WITHOUT S_C_H_U_N_K\n",
    "        plant.WeldFrames(plant.world_frame(), plant.get_body(plant.GetBodyIndices(model)[0]).body_frame(), RigidTransform(locs[idx]))\n",
    "        idx +=1\n",
    "    \n",
    "    #fuse S_C_H_U_N_K\n",
    "    plant.WeldFrames(plant.get_body(plant.GetBodyIndices(models[0])[-1]).body_frame(),\n",
    "                    plant.get_body(plant.GetBodyIndices(models[-1])[0]).body_frame(),\n",
    "                    RigidTransform(RollPitchYaw([np.pi/2,0, np.pi/2]).ToRotationMatrix(),[0,0,0.114]))\n",
    "\n",
    "    plant.Finalize()\n",
    "    return plant, builder, scene_graph, models\n",
    "\n",
    "def load_vis(plant, builder, scene_graph, zmq_url, col_geom = 0):\n",
    "    vis = Visualizer(zmq_url=zmq_url)\n",
    "    vis.delete()\n",
    "    if col_geom == 0:\n",
    "        viz_role = Role.kIllustration\n",
    "    else:\n",
    "        viz_role = Role.kProximity\n",
    "    visualizer = ConnectMeshcatVisualizer(builder, scene_graph, zmq_url=zmq_url, delete_prefix_on_load=False, role=viz_role )\n",
    "\n",
    "    diagram = builder.Build()\n",
    "    visualizer.load()\n",
    "    return vis, diagram\n",
    "plant, builder, scene_graph, models = load_model()\n",
    "vis, diagram = load_vis(plant, builder, scene_graph, zmq_url, col_geom = 0)\n",
    "context = diagram.CreateDefaultContext()\n",
    "plant_context = plant.GetMyContextFromRoot(context)\n",
    "sg_context = scene_graph.GetMyContextFromRoot(context)\n",
    "diagram.Publish(context)\n"
   ]
  },
  {
   "cell_type": "code",
   "execution_count": 7,
   "metadata": {},
   "outputs": [
    {
     "name": "stdout",
     "output_type": "stream",
     "text": [
      "iiwa7::iiwa_link_1_collision\n",
      "iiwa7::iiwa_link_0_collision\n",
      "57 -> 76\n"
     ]
    }
   ],
   "source": [
    "#filter_manager = scene_graph.collision_filter_manager(sg_context)\n",
    "inspector = scene_graph.model_inspector()\n",
    "\n",
    "#pairs = scene_graph.get_query_output_port().Eval(sg_context).inspector().GetCollisionCandidates()\n",
    "#print(len(inspector.GetCollisionCandidates()), \"->\", len(pairs))\n",
    "\n",
    "all_gids = []\n",
    "for gid in inspector.GetGeometryIds(GeometrySet(inspector.GetAllGeometryIds()), Role.kProximity):\n",
    "    #print(gid)\n",
    "    name = inspector.GetName(gid)\n",
    "    if \"iiwa7::iiwa_link_1\" in name:\n",
    "        print(name)\n",
    "        link_1 = gid\n",
    "    if \"iiwa7::iiwa_link_0\" in name:\n",
    "        print(name)\n",
    "        link_0 = gid    \n",
    "    all_gids.append(gid)\n",
    "    #gid_name = inspector.GetName(gid)\n",
    "    \n",
    "one_zero_var_links = GeometrySet([link_0, link_1])\n",
    "all_gid_set = GeometrySet(all_gids)\n",
    "scene_graph.collision_filter_manager().Apply(CollisionFilterDeclaration().ExcludeBetween(one_zero_var_links, all_gid_set))\n",
    "pairs = scene_graph.get_query_output_port().Eval(sg_context).inspector().GetCollisionCandidates()\n",
    "print(len(inspector.GetCollisionCandidates()), \"->\", len(pairs))"
   ]
  },
  {
   "cell_type": "code",
   "execution_count": 8,
   "metadata": {
    "scrolled": true
   },
   "outputs": [
    {
     "name": "stderr",
     "output_type": "stream",
     "text": [
      "Widget Javascript not detected.  It may not be installed or enabled properly.\n"
     ]
    },
    {
     "data": {
      "application/vnd.jupyter.widget-view+json": {
       "model_id": "b789c8c20c0c4287b0840d4ade00ff51"
      }
     },
     "metadata": {},
     "output_type": "display_data"
    },
    {
     "name": "stderr",
     "output_type": "stream",
     "text": [
      "Widget Javascript not detected.  It may not be installed or enabled properly.\n"
     ]
    },
    {
     "data": {
      "application/vnd.jupyter.widget-view+json": {
       "model_id": "c67a08d4c5e0448bae9cc6e843a6d847"
      }
     },
     "metadata": {},
     "output_type": "display_data"
    },
    {
     "name": "stderr",
     "output_type": "stream",
     "text": [
      "Widget Javascript not detected.  It may not be installed or enabled properly.\n"
     ]
    },
    {
     "data": {
      "application/vnd.jupyter.widget-view+json": {
       "model_id": "d144aac86b9749498b03075f365d7ac8"
      }
     },
     "metadata": {},
     "output_type": "display_data"
    },
    {
     "name": "stderr",
     "output_type": "stream",
     "text": [
      "Widget Javascript not detected.  It may not be installed or enabled properly.\n"
     ]
    },
    {
     "data": {
      "application/vnd.jupyter.widget-view+json": {
       "model_id": "c10cf529676a457bbb750bacb26145aa"
      }
     },
     "metadata": {},
     "output_type": "display_data"
    },
    {
     "name": "stderr",
     "output_type": "stream",
     "text": [
      "Widget Javascript not detected.  It may not be installed or enabled properly.\n"
     ]
    },
    {
     "data": {
      "application/vnd.jupyter.widget-view+json": {
       "model_id": "6efa568bbb9d49558335ba49debb34c3"
      }
     },
     "metadata": {},
     "output_type": "display_data"
    },
    {
     "name": "stderr",
     "output_type": "stream",
     "text": [
      "Widget Javascript not detected.  It may not be installed or enabled properly.\n"
     ]
    },
    {
     "data": {
      "application/vnd.jupyter.widget-view+json": {
       "model_id": "e3183b6e69804ac498e1732fddb1a373"
      }
     },
     "metadata": {},
     "output_type": "display_data"
    },
    {
     "name": "stderr",
     "output_type": "stream",
     "text": [
      "Widget Javascript not detected.  It may not be installed or enabled properly.\n"
     ]
    },
    {
     "data": {
      "application/vnd.jupyter.widget-view+json": {
       "model_id": "69920bbed47743f69e09b494cb5e2e88"
      }
     },
     "metadata": {},
     "output_type": "display_data"
    }
   ],
   "source": [
    "import ipywidgets as widgets\n",
    "from IPython.display import display\n",
    "q_slider = np.zeros((7,))\n",
    "sliders = []\n",
    "for low, up, joint_idx in zip(plant.GetPositionLowerLimits()[:7], plant.GetPositionUpperLimits()[:7], range(7)):\n",
    "    sliders.append(\n",
    "        widgets.FloatSlider(\n",
    "        min=low, \n",
    "        max=up, \n",
    "        value=0, \n",
    "        description=f'iiwa_joint_{joint_idx}'\n",
    "        )\n",
    "    )\n",
    "\n",
    "ik = InverseKinematics(plant, plant_context)\n",
    "collision_constraint = ik.AddMinimumDistanceConstraint(1e-4, 0.01)\n",
    "    \n",
    "def eval_cons(q, c=collision_constraint, tol=0.01):\n",
    "    return 1 - 1 * float(c.evaluator().CheckSatisfied(q, tol))\n",
    "\n",
    "\n",
    "def handle_slider_change(change, idx):\n",
    "    q_slider[idx] = change['new']\n",
    "    #print(q, end=\"\\r\")\n",
    "#     print(f'In collision: {eval_cons(q_slider)}')\n",
    "    plant.SetPositions(plant_context, q_slider)\n",
    "    diagram.Publish(context)\n",
    "    \n",
    "\n",
    "for idx, slider in enumerate(sliders):\n",
    "    slider.observe(partial(handle_slider_change, idx = idx), names='value')\n",
    "for slider in sliders:\n",
    "    display(slider)"
   ]
  },
  {
   "cell_type": "code",
   "execution_count": 9,
   "metadata": {},
   "outputs": [
    {
     "data": {
      "text/html": [
       "\n",
       "            <div style=\"height: 400px; width: 100%; overflow-x: auto; overflow-y: hidden; resize: both\">\n",
       "            <iframe src=\"http://127.0.0.1:7000/static/\" style=\"width: 100%; height: 100%; border: none\"></iframe>\n",
       "            </div>\n",
       "            "
      ],
      "text/plain": [
       "<IPython.core.display.HTML object>"
      ]
     },
     "metadata": {},
     "output_type": "display_data"
    }
   ],
   "source": [
    "display(vis.jupyter_cell())"
   ]
  },
  {
   "cell_type": "code",
   "execution_count": 10,
   "metadata": {},
   "outputs": [],
   "source": [
    "q_low = plant.GetPositionLowerLimits().tolist()\n",
    "q_high = plant.GetPositionUpperLimits().tolist()\n",
    "Ratfk = RationalForwardKinematics(plant)"
   ]
  },
  {
   "cell_type": "code",
   "execution_count": 11,
   "metadata": {},
   "outputs": [],
   "source": [
    "seed_points_q = np.array([\n",
    "    [0.0, 0.0, 0.0, 0.0, 0.0, 0.0, 0.0],  # initial config\n",
    "    [0.0, 0.5, 0.0, -1.9, 0.0, -0.8, 0.0], # arm in shelf\n",
    "                       ])\n",
    "# s = seed_points[1]\n",
    "# print(eval_cons(s))\n",
    "# plant.SetPositions(plant_context, s)\n",
    "# diagram.Publish(context)"
   ]
  },
  {
   "cell_type": "code",
   "execution_count": 12,
   "metadata": {},
   "outputs": [],
   "source": [
    "seed_points = np.array([Ratfk.ComputeTValue(seed_points_q[idx], np.zeros((3,)))\\\n",
    "                        for idx in range(seed_points_q.shape[0])])\n",
    "\n",
    "\n",
    "#compute limits in t-space\n",
    "limits_t = []\n",
    "for q in [q_low, q_high]:\n",
    "    limits_t.append(Ratfk.ComputeTValue(np.array(q), np.zeros((7,)) ))\n",
    "    \n",
    "starting_poly = HPolyhedron.MakeBox(limits_t[0], limits_t[1])\n",
    "context = diagram.CreateDefaultContext()\n",
    "q_star = np.zeros(7)\n",
    "def check_empty_polytope(C, d):\n",
    "    prog = MathematicalProgram()\n",
    "    t = prog.NewContinuousVariables(C.shape[1], \"t\")\n",
    "\n",
    "    prog.AddLinearConstraint(C,-np.inf*np.ones(C.shape[0]), d, t)\n",
    "    prog.AddBoundingBoxConstraint(limits_t[0], limits_t[1], t)\n",
    "    result = MosekSolver().Solve(prog)\n",
    "    return result.is_success(), result.get_solution_result()"
   ]
  },
  {
   "cell_type": "markdown",
   "metadata": {},
   "source": [
    "## Create default region"
   ]
  },
  {
   "cell_type": "code",
   "execution_count": 14,
   "metadata": {},
   "outputs": [],
   "source": [
    "regions_default = []\n",
    "max_vects = []\n",
    "min_vects = []\n",
    "vector_bisection_options_list = []\n",
    "bilinear_alteration_options_list = []\n",
    "interleaved_options_list = []\n",
    "\n",
    "#parameters for creating a default region. Currently set to create a box\n",
    "# num_perm_dim = 0\n",
    "# num_rot = 1\n",
    "\n",
    "num_unit_box_copies = 2\n",
    "initial_box_scale = 0.25\n",
    "gaussian_variance = 0.1\n",
    "\n",
    "for i, s in enumerate(seed_points):\n",
    "#     regions_default.append(GenerateSeedingPolytope(s, num_perm_dim, num_rot))\n",
    "    regions_default.append(GenerateRandomSeedingPolytope(s,\n",
    "                                     num_unit_box_copies,\n",
    "                                     initial_box_scale,\n",
    "                                     gaussian_variance))\n",
    "    eps_min_vect = FindEpsilonLowerVector(regions_default[i].A(), \n",
    "                                      regions_default[i].b(), \n",
    "                                      limits_t[0], limits_t[1], s)\n",
    "    \n",
    "    min_vects.append(eps_min_vect)\n",
    "    \n",
    "#     eps_max_vect = FindEpsTilCollisionOrRedundantForAllIneqs(plant,\n",
    "# #                                                              context,\n",
    "#                                                              plant.GetMyMutableContextFromRoot(context), \n",
    "#                                 q_star, regions_default[i].A(), regions_default[i].b(), \n",
    "# #                                          eps_min_vect, \n",
    "#                                                              limits_t[0], limits_t[1], s)\n",
    "    eps_max_vect = 10*regions_default[i].b()\n",
    "    max_vects.append(eps_max_vect)\n",
    "    \n",
    "    vector_bisection_search_options = rational_forward_kinematics.VectorBisectionSearchOption()\n",
    "    vector_bisection_search_options.max_iters = 10\n",
    "    vector_bisection_search_options.max_feasible_iters = 5\n",
    "    vector_bisection_search_options.search_d = True\n",
    "    vector_bisection_search_options.epsilon_min = np.zeros_like(regions_default[i].b())\n",
    "    vector_bisection_search_options.epsilon_max = eps_max_vect\n",
    "    vector_bisection_search_options.num_threads = -1\n",
    "    vector_bisection_options_list.append(vector_bisection_search_options)\n",
    "    \n",
    "    bilinear_alternation_options = rational_forward_kinematics.BilinearAlternationOption()\n",
    "    bilinear_alternation_options.max_iters = 20\n",
    "    bilinear_alternation_options.lagrangian_backoff_scale = 0\n",
    "    bilinear_alternation_options.polytope_backoff_scale = 0\n",
    "    bilinear_alternation_options.num_threads = -1\n",
    "    bilinear_alteration_options_list.append(bilinear_alternation_options)\n",
    "    \n",
    "    binary_search_option = rational_forward_kinematics.BinarySearchOption()\n",
    "    binary_search_option.epsilon_max = 5\n",
    "    binary_search_option.epsilon_min = FindEpsilonLower(regions_default[i].A(), \n",
    "                                                        regions_default[i].b()+eps_min_vect, \n",
    "                                                        limits_t[0], limits_t[1], s)\n",
    "    binary_search_option.max_iters = 10\n",
    "    binary_search_option.search_d = True\n",
    "    binary_search_option.num_threads = 4\n",
    "    \n",
    "    interleaved_options = rational_forward_kinematics.InterleavedRegionSearchOptions()\n",
    "    interleaved_options.scalar_binary_search_options = binary_search_option\n",
    "    interleaved_options.vector_bisection_search_options = vector_bisection_search_options\n",
    "    interleaved_options.bilinear_alternation_options = bilinear_alternation_options\n",
    "    #actually does round robin\n",
    "    interleaved_options.max_method_switch = 3\n",
    "    interleaved_options_list.append(interleaved_options)\n",
    "    \n",
    "    \n",
    "num_round_robin_rounds = 1\n",
    "\n"
   ]
  },
  {
   "cell_type": "markdown",
   "metadata": {},
   "source": [
    "## Run Cspace Free Region"
   ]
  },
  {
   "cell_type": "code",
   "execution_count": 15,
   "metadata": {},
   "outputs": [],
   "source": [
    "cspace_free_region = rational_forward_kinematics.CspaceFreeRegion(diagram, plant, scene_graph,\n",
    "                                   rational_forward_kinematics.SeparatingPlaneOrder.kAffine,\n",
    "                                   rational_forward_kinematics.CspaceRegionType.kGenericPolytope)\n",
    "filtered_collision_pairs = set()\n",
    "solver_options = mp.SolverOptions()\n",
    "# solver_options.SetOption(mp.CommonSolverOption.kPrintToConsole, 1)"
   ]
  },
  {
   "cell_type": "code",
   "execution_count": null,
   "metadata": {
    "scrolled": true
   },
   "outputs": [
    {
     "name": "stderr",
     "output_type": "stream",
     "text": [
      "[2022-02-10 00:02:59.140] [console] [info] starting binary search\n",
      "[2022-02-10 00:02:59.140] [console] [info] starting binary search\n"
     ]
    },
    {
     "name": "stdout",
     "output_type": "stream",
     "text": [
      "2\n"
     ]
    },
    {
     "name": "stderr",
     "output_type": "stream",
     "text": [
      "[2022-02-10 00:03:06.932] [console] [warning] Cannot find Lagrangian multiplier and separating planes for \n",
      "(iiwa7::iiwa_link_2_collision, iiwa7::iiwa_link_5_collision)\n",
      "(iiwa7::iiwa_link_2_collision, iiwa7::iiwa_link_7_collision)\n",
      "(iiwa7::iiwa_link_2_collision, shelves::right_wall)\n",
      "\n",
      "[2022-02-10 00:03:07.019] [console] [warning] Cannot find Lagrangian multiplier and separating planes for \n",
      "(iiwa7::iiwa_link_2_collision, iiwa7::iiwa_link_5_collision)\n",
      "(iiwa7::iiwa_link_2_collision, iiwa7::iiwa_link_7_collision)\n",
      "(iiwa7::iiwa_link_2_collision, shelves::right_wall)\n",
      "\n",
      "[2022-02-10 00:03:52.372] [console] [info] Found Lagrangian multiplier and separating planes\n",
      "[2022-02-10 00:03:52.432] [console] [info] max(power(det(P), 1/8))=2.9446432577914074e-07, solver_time 0.0413668155670166\n",
      "[2022-02-10 00:03:55.682] [console] [info] Found Lagrangian multiplier and separating planes\n",
      "[2022-02-10 00:03:55.748] [console] [info] max(power(det(P), 1/8))=2.666441303783655e-07, solver_time 0.05015707015991211\n",
      "[2022-02-10 00:04:18.500] [console] [info] search d is successful = true\n",
      "[2022-02-10 00:04:18.557] [console] [info] max(power(det(P), 1/8))=2.9181579265371166e-07, solver_time 0.035017967224121094\n",
      "[2022-02-10 00:04:22.671] [console] [warning] Cannot find Lagrangian multiplier and separating planes for \n",
      "(iiwa7::iiwa_link_2_collision, iiwa7::iiwa_link_5_collision)\n",
      "(iiwa7::iiwa_link_2_collision, iiwa7::iiwa_link_7_collision)\n",
      "\n",
      "[2022-02-10 00:04:22.672] [console] [info] epsilon=2.500000005 is infeasible\n",
      "[2022-02-10 00:04:27.296] [console] [info] search d is successful = true\n",
      "[2022-02-10 00:04:27.381] [console] [info] max(power(det(P), 1/8))=1.9564936978812807e-06, solver_time 0.04693484306335449\n",
      "[2022-02-10 00:04:33.193] [console] [warning] Cannot find Lagrangian multiplier and separating planes for \n",
      "(iiwa7::iiwa_link_3_collision, shelves::shelf_lower)\n",
      "(iiwa7::iiwa_link_3_collision, shelves::shelf_upper)\n",
      "\n",
      "[2022-02-10 00:04:33.195] [console] [info] epsilon=1.2500000075 is infeasible\n",
      "[2022-02-10 00:04:36.381] [console] [warning] Cannot find Lagrangian multiplier and separating planes for \n",
      "(iiwa7::iiwa_link_2_collision, iiwa7::iiwa_link_7_collision)\n",
      "(iiwa7::iiwa_link_2_collision, shelves::shelf_lower)\n",
      "(iiwa7::iiwa_link_2_collision, shelves::shelf_upper)\n",
      "(iiwa7::iiwa_link_2_collision, Schunk_Gripper::body_collision)\n",
      "\n",
      "[2022-02-10 00:04:36.382] [console] [info] epsilon=2.500000005 is infeasible\n",
      "[2022-02-10 00:04:47.124] [console] [warning] Cannot find Lagrangian multiplier and separating planes for \n",
      "(iiwa7::iiwa_link_4_collision, shelves::right_wall)\n",
      "(iiwa7::iiwa_link_4_collision, shelves::left_wall)\n",
      "(iiwa7::iiwa_link_4_collision, shelves::top)\n",
      "\n",
      "[2022-02-10 00:04:47.125] [console] [info] epsilon=0.62500000875 is infeasible\n",
      "[2022-02-10 00:04:49.011] [console] [warning] Cannot find Lagrangian multiplier and separating planes for \n",
      "(iiwa7::iiwa_link_3_collision, shelves::shelf_lower)\n",
      "(iiwa7::iiwa_link_3_collision, shelves::shelf_upper)\n",
      "\n",
      "[2022-02-10 00:04:49.012] [console] [info] epsilon=1.2500000075 is infeasible\n",
      "[2022-02-10 00:05:01.832] [console] [warning] Cannot find Lagrangian multiplier and separating planes for \n",
      "(iiwa7::iiwa_link_3_collision, shelves::shelf_lower)\n",
      "\n",
      "[2022-02-10 00:05:01.833] [console] [info] epsilon=0.62500000875 is infeasible\n",
      "[2022-02-10 00:05:11.363] [console] [warning] Cannot find Lagrangian multiplier and separating planes for \n",
      "(iiwa7::iiwa_link_5_collision, shelves::right_wall)\n",
      "(iiwa7::iiwa_link_5_collision, shelves::left_wall)\n",
      "(iiwa7::iiwa_link_5_collision, shelves::top)\n",
      "\n",
      "[2022-02-10 00:05:11.364] [console] [info] epsilon=0.312500009375 is infeasible\n",
      "[2022-02-10 00:05:27.576] [console] [warning] Cannot find Lagrangian multiplier and separating planes for \n",
      "(iiwa7::iiwa_link_5_collision, shelves::right_wall)\n",
      "(iiwa7::iiwa_link_5_collision, shelves::left_wall)\n",
      "(iiwa7::iiwa_link_5_collision, shelves::shelf_lower)\n",
      "(iiwa7::iiwa_link_5_collision, shelves::shelf_upper)\n",
      "\n",
      "[2022-02-10 00:05:27.577] [console] [info] epsilon=0.312500009375 is infeasible\n",
      "[2022-02-10 00:05:52.471] [console] [warning] Cannot find Lagrangian multiplier and separating planes for \n",
      "(iiwa7::iiwa_link_5_collision, shelves::shelf_lower)\n",
      "(iiwa7::iiwa_link_5_collision, shelves::shelf_upper)\n",
      "(iiwa7::iiwa_link_6_collision, shelves::right_wall)\n",
      "(iiwa7::iiwa_link_6_collision, shelves::left_wall)\n",
      "\n",
      "[2022-02-10 00:05:52.472] [console] [info] epsilon=0.1562500096875 is infeasible\n",
      "[2022-02-10 00:06:09.906] [console] [info] Found Lagrangian multiplier and separating planes\n",
      "[2022-02-10 00:06:09.958] [console] [info] max(power(det(P), 1/8))=0.1826212607006854, solver_time 0.03489089012145996\n",
      "[2022-02-10 00:06:24.940] [console] [warning] Cannot find Lagrangian multiplier and separating planes for \n",
      "(iiwa7::iiwa_link_6_collision, shelves::shelf_lower)\n",
      "(iiwa7::iiwa_link_6_collision, shelves::shelf_upper)\n",
      "\n",
      "[2022-02-10 00:06:24.941] [console] [info] epsilon=0.07812500984375001 is infeasible\n",
      "[2022-02-10 00:06:53.269] [console] [warning] Cannot find Lagrangian multiplier and separating planes for \n",
      "(iiwa7::iiwa_link_6_collision, shelves::shelf_lower)\n",
      "\n",
      "[2022-02-10 00:06:53.270] [console] [info] epsilon=0.03906250992187501 is infeasible\n",
      "[2022-02-10 00:07:04.686] [console] [info] search d is successful = true\n",
      "[2022-02-10 00:07:04.773] [console] [info] max(power(det(P), 1/8))=0.1864239929554693, solver_time 0.06529402732849121\n",
      "[2022-02-10 00:07:04.942] [console] [info] epsilon=0.1562500096875 is feasible\n",
      "[2022-02-10 00:07:04.942] [console] [info] reset eps_min=0.0, eps_max=0.15624999744324258\n",
      "[2022-02-10 00:07:29.076] [console] [warning] Cannot find Lagrangian multiplier and separating planes for \n",
      "(iiwa7::iiwa_link_5_collision, shelves::left_wall)\n",
      "(iiwa7::iiwa_link_5_collision, shelves::top)\n",
      "\n",
      "[2022-02-10 00:07:29.078] [console] [info] epsilon=0.07812499872162129 is infeasible\n",
      "[2022-02-10 00:07:55.835] [console] [info] Found Lagrangian multiplier and separating planes\n",
      "[2022-02-10 00:07:55.898] [console] [info] max(power(det(P), 1/8))=0.03041120131976684, solver_time 0.03939485549926758\n",
      "[2022-02-10 00:08:27.334] [console] [info] Found Lagrangian multiplier and separating planes\n",
      "[2022-02-10 00:08:27.405] [console] [info] max(power(det(P), 1/8))=0.22584910950757597, solver_time 0.05166792869567871\n",
      "[2022-02-10 00:08:47.741] [console] [info] search d is successful = true\n",
      "[2022-02-10 00:08:47.818] [console] [info] max(power(det(P), 1/8))=0.030583756178910952, solver_time 0.05471014976501465\n",
      "[2022-02-10 00:08:47.983] [console] [info] epsilon=0.01953125996093751 is feasible\n",
      "[2022-02-10 00:08:47.983] [console] [info] reset eps_min=0.0, eps_max=0.01953124809046905\n",
      "[2022-02-10 00:09:21.777] [console] [info] search d is successful = true\n",
      "[2022-02-10 00:09:21.833] [console] [info] max(power(det(P), 1/8))=0.22627269911619613, solver_time 0.031327009201049805\n",
      "[2022-02-10 00:09:22.033] [console] [info] epsilon=0.039062499360810646 is feasible\n",
      "[2022-02-10 00:09:22.034] [console] [info] reset eps_min=0.0, eps_max=0.03906249917502497\n",
      "[2022-02-10 00:09:37.659] [console] [info] Found Lagrangian multiplier and separating planes\n",
      "[2022-02-10 00:09:37.714] [console] [info] max(power(det(P), 1/8))=0.04360827300331552, solver_time 0.03237795829772949\n",
      "[2022-02-10 00:09:43.303] [console] [warning] Cannot find Lagrangian multiplier and separating planes for \n",
      "(iiwa7::iiwa_link_5_collision, shelves::top)\n",
      "\n",
      "[2022-02-10 00:09:43.304] [console] [info] epsilon=0.019531249587512484 is infeasible\n",
      "[2022-02-10 00:10:27.437] [console] [info] search d is successful = true\n",
      "[2022-02-10 00:10:27.491] [console] [info] max(power(det(P), 1/8))=0.04360830664352522, solver_time 0.02788400650024414\n",
      "[2022-02-10 00:10:27.637] [console] [info] epsilon=0.009765624045234525 is feasible\n",
      "[2022-02-10 00:10:27.638] [console] [info] reset eps_min=0.0, eps_max=0.009765622976101729\n",
      "[2022-02-10 00:10:27.802] [console] [info] Found Lagrangian multiplier and separating planes\n",
      "[2022-02-10 00:10:27.843] [console] [info] max(power(det(P), 1/8))=0.23598548154078391, solver_time 0.027598857879638672\n",
      "[2022-02-10 00:11:13.727] [console] [info] search d is successful = true\n",
      "[2022-02-10 00:11:13.782] [console] [info] max(power(det(P), 1/8))=0.24023724942124777, solver_time 0.030987024307250977\n"
     ]
    },
    {
     "name": "stderr",
     "output_type": "stream",
     "text": [
      "[2022-02-10 00:11:13.942] [console] [info] epsilon=0.009765624793756242 is feasible\n",
      "[2022-02-10 00:11:13.943] [console] [info] reset eps_min=0.0, eps_max=0.009765618355479233\n",
      "[2022-02-10 00:11:21.931] [console] [warning] Cannot find Lagrangian multiplier and separating planes for \n",
      "(iiwa7::iiwa_link_7_collision, shelves::shelf_lower)\n",
      "(shelves::shelf_lower, Schunk_Gripper::body_collision)\n",
      "\n",
      "[2022-02-10 00:11:21.933] [console] [info] epsilon=0.004882811488050864 is infeasible\n",
      "[2022-02-10 00:11:21.984] [console] [info] max(power(det(P), 1/8))=0.04360830664352522, solver_time 0.03203392028808594\n",
      "[2022-02-10 00:11:22.215] [console] [info] Starting bisections\n",
      "[2022-02-10 00:11:42.751] [console] [warning] Cannot find Lagrangian multiplier and separating planes for \n",
      "(iiwa7::iiwa_link_5_collision, shelves::top)\n",
      "\n",
      "[2022-02-10 00:11:42.754] [console] [info] epsilon=0.0048828091777396165 is infeasible\n",
      "[2022-02-10 00:11:42.804] [console] [info] max(power(det(P), 1/8))=0.24023724942124777, solver_time 0.028474092483520508\n",
      "[2022-02-10 00:11:43.259] [console] [info] Starting bisections\n",
      "[2022-02-10 00:12:29.000] [console] [info] Found Lagrangian multiplier and separating planes\n",
      "[2022-02-10 00:12:41.635] [console] [info] Found Lagrangian multiplier and separating planes\n",
      "[2022-02-10 00:13:18.289] [console] [info] bilinear alt on d succeeded\n",
      "[2022-02-10 00:13:18.440] [console] [info] Ineq 1/28 in round 1\n",
      "[2022-02-10 00:13:24.408] [console] [info] current gap is epsilon_gap=0.01897682645876686\n",
      "[2022-02-10 00:13:24.408] [console] [info] current gap is epsilon_gap=0.01897682645876686\n",
      "[2022-02-10 00:13:33.863] [console] [info] bilinear alt on d succeeded\n",
      "[2022-02-10 00:13:35.665] [console] [info] Ineq 1/28 in round 1\n",
      "[2022-02-10 00:13:35.676] [console] [info] current gap is epsilon_gap=2.4999999761959097\n",
      "[2022-02-10 00:13:35.689] [console] [info] current gap is epsilon_gap=2.4999999761959097\n",
      "[2022-02-10 00:14:35.130] [console] [info] Found Lagrangian multiplier and separating planes\n",
      "[2022-02-10 00:14:35.242] [console] [info] Found Lagrangian multiplier and separating planes\n",
      "[2022-02-10 00:15:14.504] [console] [info] bilinear alt on d failed\n",
      "[2022-02-10 00:15:14.572] [console] [info] epsilon=0.00948822807501648 is feasible\n",
      "[2022-02-10 00:15:14.572] [console] [info] reset eps_min=0.00948822807501637, eps_max=0.01897664130439991\n",
      "[2022-02-10 00:15:14.573] [console] [info] current gap is epsilon_gap=0.009488413229383541\n",
      "[2022-02-10 00:15:38.615] [console] [info] bilinear alt on d succeeded\n",
      "[2022-02-10 00:15:39.309] [console] [info] epsilon=1.2500000119020451 is feasible\n",
      "[2022-02-10 00:15:49.611] [console] [info] reset eps_min=1.2500016740069209, eps_max=1.2500016740069209\n",
      "[2022-02-10 00:15:49.611] [console] [info] Ineq 2/28 in round 1\n",
      "[2022-02-10 00:15:52.328] [console] [info] Found Lagrangian multiplier and separating planes\n",
      "[2022-02-10 00:16:02.604] [console] [info] current gap is epsilon_gap=0.0\n",
      "[2022-02-10 00:16:02.605] [console] [info] Ineq 3/28 in round 1\n",
      "[2022-02-10 00:16:27.116] [console] [info] current gap is epsilon_gap=0.3155076596471912\n",
      "[2022-02-10 00:16:27.116] [console] [info] current gap is epsilon_gap=0.3155076596471912\n",
      "[2022-02-10 00:17:03.420] [console] [info] Found Lagrangian multiplier and separating planes\n",
      "[2022-02-10 00:17:04.847] [console] [info] bilinear alt on d succeeded\n",
      "[2022-02-10 00:17:04.983] [console] [info] epsilon=0.01423243468970814 is feasible\n",
      "[2022-02-10 00:17:27.688] [console] [info] reset eps_min=0.014232519251652143, eps_max=0.01931686870319904\n",
      "[2022-02-10 00:17:27.689] [console] [info] current gap is epsilon_gap=0.005084349451546899\n",
      "[2022-02-10 00:18:04.873] [console] [info] Found Lagrangian multiplier and separating planes\n",
      "[2022-02-10 00:18:14.962] [console] [info] bilinear alt on d succeeded\n",
      "[2022-02-10 00:18:15.138] [console] [info] epsilon=0.15775515719690364 is feasible\n",
      "[2022-02-10 00:18:40.071] [console] [info] reset eps_min=0.15775525266050291, eps_max=0.31550923139752307\n",
      "[2022-02-10 00:18:40.072] [console] [info] current gap is epsilon_gap=0.15775397873702016\n",
      "[2022-02-10 00:19:16.489] [console] [info] Found Lagrangian multiplier and separating planes\n",
      "[2022-02-10 00:19:17.815] [console] [info] bilinear alt on d succeeded\n",
      "[2022-02-10 00:19:17.973] [console] [info] epsilon=0.016774693977425592 is feasible\n",
      "[2022-02-10 00:19:40.172] [console] [info] reset eps_min=0.01677519483790002, eps_max=0.019317064336886514\n",
      "[2022-02-10 00:19:40.173] [console] [info] current gap is epsilon_gap=0.002541869498986493\n",
      "[2022-02-10 00:20:17.548] [console] [info] Found Lagrangian multiplier and separating planes\n",
      "[2022-02-10 00:20:27.783] [console] [info] bilinear alt on d succeeded\n",
      "[2022-02-10 00:20:27.928] [console] [info] epsilon=0.236632242029013 is feasible\n",
      "[2022-02-10 00:20:52.296] [console] [info] reset eps_min=0.2366322425011361, eps_max=0.315509232776783\n",
      "[2022-02-10 00:20:52.296] [console] [info] current gap is epsilon_gap=0.0788769902756469\n",
      "[2022-02-10 00:21:28.227] [console] [info] Found Lagrangian multiplier and separating planes\n",
      "[2022-02-10 00:21:30.867] [console] [info] bilinear alt on d succeeded\n",
      "[2022-02-10 00:21:31.007] [console] [info] epsilon=0.018046129587393267 is feasible\n",
      "[2022-02-10 00:21:54.819] [console] [info] reset eps_min=0.018048068878440793, eps_max=0.019317990795657103\n",
      "[2022-02-10 00:21:54.820] [console] [info] current gap is epsilon_gap=0.00126992191721631\n",
      "[2022-02-10 00:22:32.896] [console] [info] Found Lagrangian multiplier and separating planes\n",
      "[2022-02-10 00:22:40.955] [console] [info] bilinear alt on d succeeded\n",
      "[2022-02-10 00:22:41.113] [console] [info] epsilon=0.27607073763895956 is feasible\n",
      "[2022-02-10 00:23:06.295] [console] [info] reset eps_min=0.2760707563301281, eps_max=0.3155092929629647\n",
      "[2022-02-10 00:23:06.296] [console] [info] current gap is epsilon_gap=0.039438536632836585\n",
      "[2022-02-10 00:23:43.017] [console] [info] Found Lagrangian multiplier and separating planes\n",
      "[2022-02-10 00:23:45.530] [console] [info] bilinear alt on d succeeded\n",
      "[2022-02-10 00:23:45.678] [console] [info] epsilon=0.018683029837048948 is feasible\n",
      "[2022-02-10 00:24:08.423] [console] [info] reset eps_min=0.018683542386866314, eps_max=0.019318468282900403\n"
     ]
    }
   ],
   "source": [
    "seed_point_list = [s for s in seed_points] \n",
    "print(len(seed_point_list))\n",
    "C_mats = [r.A() for r in regions_default]\n",
    "d_vects = [r.b() for r in regions_default]\n",
    "t0 = time()\n",
    "cspace_free_region_solution_interleaved_vect = cspace_free_region.InterleavedCSpacePolytopeSearchForSeedPoints(\n",
    "                                                                    q_star,\n",
    "                                                                     filtered_collision_pairs,\n",
    "                                                                     C_mats, d_vects, num_round_robin_rounds, \n",
    "                                                                     interleaved_options_list,\n",
    "                                                                     solver_options, seed_point_list, \n",
    "    context = plant.GetMyMutableContextFromRoot(context))\n",
    "# cspace_free_region_solution_round_robin_vect = cspace_free_region.CspacePolytopeRoundRobinBisectionSearchForSeedPoints(\n",
    "#                                                                     q_star,\n",
    "#                                                                      filtered_collision_pairs,\n",
    "#                                                                      C_mats, d_vects, num_round_robin_rounds, \n",
    "#                                                                      vector_bisection_options_list,\n",
    "#                                                                      solver_options, seed_point_list)\n",
    "t1 = time()\n"
   ]
  },
  {
   "cell_type": "code",
   "execution_count": null,
   "metadata": {},
   "outputs": [],
   "source": [
    "print(seed_points)"
   ]
  },
  {
   "cell_type": "code",
   "execution_count": null,
   "metadata": {},
   "outputs": [],
   "source": [
    "print(f\"Completed points in {t1-t0}s\")\n",
    "regions_round_robin = []\n",
    "ellipses_round_robin = []\n",
    "for sol in cspace_free_region_solution_interleaved_vect:\n",
    "    r = HPolyhedron(np.vstack([starting_poly.A(),sol.C]),\n",
    "                np.hstack([starting_poly.b(), sol.d])\n",
    "                )\n",
    "    e = Hyperellipsoid(np.linalg.inv(sol.P), sol.q)\n",
    "\n",
    "    regions_round_robin.append(r)\n",
    "    ellipses_round_robin.append(e)"
   ]
  },
  {
   "cell_type": "code",
   "execution_count": null,
   "metadata": {},
   "outputs": [],
   "source": [
    "print(f\"Completed points in {t1-t0}s\")\n",
    "regions_round_robin = []\n",
    "ellipses_round_robin = []\n",
    "for i, sol in enumerate(cspace_free_region_solution_interleaved_vect):\n",
    "    dtmp = sol.d+sol.C@seed_points[i,:]\n",
    "    \n",
    "    r = HPolyhedron(np.vstack([starting_poly.A(),sol.C*2]),\n",
    "                np.hstack([starting_poly.b(), dtmp])\n",
    "                )\n",
    "    e = Hyperellipsoid(np.linalg.inv(sol.P), sol.q)\n",
    "\n",
    "    regions_round_robin.append(r)\n",
    "    ellipses_round_robin.append(e)"
   ]
  },
  {
   "cell_type": "code",
   "execution_count": null,
   "metadata": {},
   "outputs": [],
   "source": [
    "from datetime import datetime\n",
    "\n",
    "# datetime object containing current date and time\n",
    "now = datetime.now()\n",
    " \n",
    "print(\"now =\", now)\n",
    "\n",
    "# dd/mm/YY H:M:S\n",
    "dt_string = now.strftime(\"%d/%m/%Y %H:%M:%S\")\n",
    "print(\"finished running at =\", dt_string)\t"
   ]
  },
  {
   "cell_type": "code",
   "execution_count": null,
   "metadata": {},
   "outputs": [],
   "source": []
  },
  {
   "cell_type": "code",
   "execution_count": null,
   "metadata": {},
   "outputs": [],
   "source": []
  },
  {
   "cell_type": "code",
   "execution_count": null,
   "metadata": {},
   "outputs": [],
   "source": []
  },
  {
   "cell_type": "code",
   "execution_count": null,
   "metadata": {},
   "outputs": [],
   "source": []
  },
  {
   "cell_type": "code",
   "execution_count": null,
   "metadata": {},
   "outputs": [],
   "source": []
  },
  {
   "cell_type": "code",
   "execution_count": null,
   "metadata": {},
   "outputs": [],
   "source": [
    "iris_options = IrisOptionsRationalSpace()\n",
    "iris_options.require_sample_point_is_contained = True\n",
    "iris_options.iteration_limit = 20\n",
    "iris_options.configuration_space_margin = 1e-5\n",
    "iris_options.max_faces_per_collision_pair = 50\n",
    "iris_options.termination_threshold = -1\n",
    "iris_options.relative_termination_threshold = 0.01\n",
    "iris_options.enable_ibex = False\n",
    "iris_options.q_star = np.zeros(7)\n",
    "iris_options.certify_region_with_sos_during_generation = False\n",
    "iris_options.certify_region_with_sos_after_generation = False\n",
    "rational_fk = RationalForwardKinematics(plant)\n",
    "poi = []\n",
    "for pt in [start, target]:\n",
    "    poi.append(rational_fk.ComputeTValue(pt, np.zeros((7,)) ))\n",
    "\n",
    "#compute limits in t-space\n",
    "limits_t = []\n",
    "for q in [plant.GetPositionLowerLimits(), plant.GetPositionUpperLimits()]:\n",
    "    limits_t.append(rational_fk.ComputeTValue(np.array(q), np.zeros((7,)) ))\n",
    "    \n",
    "starting_poly = HPolyhedron.MakeBox(limits_t[0], limits_t[1])\n",
    "\n",
    "def iris_handle(seed, domain):\n",
    "    seed_q = rational_fk.ComputeQValue(np.array(seed), np.zeros((7,)) )\n",
    "    plant.SetPositions(plant.GetMyMutableContextFromRoot(context), seed_q)\n",
    "    return IrisInRationalConfigurationSpace(plant, plant.GetMyContextFromRoot(context),\n",
    "                                              iris_options, domain)"
   ]
  },
  {
   "cell_type": "code",
   "execution_count": null,
   "metadata": {},
   "outputs": [],
   "source": [
    "region = iris_handle(poi[0], starting_poly)\n",
    "#pull back all faces of poly\n",
    "b_region_small = region.A()@poi[0] + 1e-5\n",
    "region_small = HPolyhedron(region.A(), b_region_small)\n",
    "regions = [region_small]"
   ]
  },
  {
   "cell_type": "code",
   "execution_count": null,
   "metadata": {},
   "outputs": [],
   "source": [
    "import pydrake.multibody.rational_forward_kinematics as rational_forward_kinematics\n",
    "from pydrake.multibody.rational_forward_kinematics import FindEpsilonLower\n",
    "from pydrake.solvers import mathematicalprogram as mp\n",
    "cspace_free_region = rational_forward_kinematics.CspaceFreeRegion(diagram, plant, scene_graph,\n",
    "                                   rational_forward_kinematics.SeparatingPlaneOrder.kAffine,\n",
    "                                   rational_forward_kinematics.CspaceRegionType.kGenericPolytope)"
   ]
  },
  {
   "cell_type": "code",
   "execution_count": null,
   "metadata": {},
   "outputs": [],
   "source": [
    "FindEpsilonLower(limits_t[0], limits_t[1], regions[0].A(), regions[0].b())"
   ]
  },
  {
   "cell_type": "code",
   "execution_count": null,
   "metadata": {},
   "outputs": [],
   "source": [
    "edited_regions = []\n",
    "filtered_collision_pairs = set()\n",
    "\n",
    "binary_search_options = rational_forward_kinematics.BinarySearchOption()\n",
    "binary_search_options.epsilon_max = 10\n",
    "binary_search_options.epsilon_min = 1e-8\n",
    "binary_search_options.max_iters = 5\n",
    "binary_search_options.search_d = True\n",
    "bilinear_alternation_option = rational_forward_kinematics.BilinearAlternationOption()\n",
    "bilinear_alternation_option.max_iters = 20\n",
    "bilinear_alternation_option.lagrangian_backoff_scale = 1e-3\n",
    "bilinear_alternation_option.polytope_backoff_scale = 1e-5\n",
    "\n",
    "solver_options = mp.SolverOptions()\n",
    "solver_options.SetOption(mp.CommonSolverOption.kPrintToConsole, 1)\n",
    "for r in regions: \n",
    "    try:\n",
    "        d_feasible = \\\n",
    "            cspace_free_region.CspacePolytopeBinarySearch(\n",
    "                iris_options.q_star, filtered_collision_pairs, r.A(), r.b(),\n",
    "                binary_search_options, solver_options)\n",
    "        \n",
    "        #C_final, d_final, P_final, q_final = \\\n",
    "        #    cspace_free_region.CspacePolytopeBilinearAlternation(\n",
    "        #        iris_options.q_star, filtered_collision_pairs, r.A(), d_feasible,\n",
    "        #       bilinear_alternation_option, solver_options)\n",
    "        #C_final = np.vstack([C_final, P_joint_limits.A()])\n",
    "        #d_final = np.concatenate([d_final, P_joint_limits.b()])\n",
    "        #editted_regions.append(HPolyhedron(C_final, d_final))\n",
    "    except Exception as e:\n",
    "        print(e)\n",
    "print(len(edited_regions))"
   ]
  },
  {
   "cell_type": "code",
   "execution_count": null,
   "metadata": {},
   "outputs": [],
   "source": [
    "C = regions[0].MaximumVolumeInscribedEllipsoid().A()\n",
    "radii2, R  =  np.linalg.eig(C.T @ C)\n",
    "radii = np.sqrt(radii2)"
   ]
  },
  {
   "cell_type": "code",
   "execution_count": null,
   "metadata": {},
   "outputs": [],
   "source": [
    "region.ReduceInequalities\n"
   ]
  },
  {
   "cell_type": "markdown",
   "metadata": {},
   "source": [
    "# RRTIRIS SEEDING"
   ]
  },
  {
   "cell_type": "code",
   "execution_count": null,
   "metadata": {},
   "outputs": [],
   "source": [
    "plant.SetPositions(plant_context, start)\n",
    "diagram.Publish(context)"
   ]
  },
  {
   "cell_type": "code",
   "execution_count": null,
   "metadata": {},
   "outputs": [],
   "source": [
    "ik = InverseKinematics(plant, plant_context)\n",
    "collision_constraint = ik.AddMinimumDistanceConstraint(0.001, 0.001)\n",
    "\n",
    "def eval_cons(q, c, tol):\n",
    "    return 1-1*float(c.evaluator().CheckSatisfied(q, tol))\n",
    "    \n",
    "col_func_handle = partial(eval_cons, c=collision_constraint, tol=0.01)"
   ]
  },
  {
   "cell_type": "code",
   "execution_count": null,
   "metadata": {},
   "outputs": [],
   "source": [
    "RRTIRIS = rrtiris.RRTIRIS(poi[0],\n",
    "                          poi[1],\n",
    "                          limits = limits_t,\n",
    "                          default_iris_domain = starting_poly,\n",
    "                          iris_handle = iris_handle,\n",
    "                          offset_scaler = 0.8,\n",
    "                          init_goal_sample_rate = 0.05,\n",
    "                          goal_sample_rate_scaler = 0.1,\n",
    "                          verbose = True,\n",
    "                          plotcallback = None,\n",
    "                          )\n",
    "RRTIRIS.run(1)"
   ]
  },
  {
   "cell_type": "code",
   "execution_count": null,
   "metadata": {},
   "outputs": [],
   "source": [
    "regions = RRTIRIS.node_regions"
   ]
  },
  {
   "cell_type": "code",
   "execution_count": null,
   "metadata": {},
   "outputs": [],
   "source": [
    "import pydrake.multibody.rational_forward_kinematics as rational_forward_kinematics\n",
    "from pydrake.solvers import mathematicalprogram as mp\n",
    "cspace_free_region = rational_forward_kinematics.CspaceFreeRegion(diagram, plant, scene_graph,\n",
    "                                   rational_forward_kinematics.SeparatingPlaneOrder.kAffine,\n",
    "                                   rational_forward_kinematics.CspaceRegionType.kGenericPolytope)"
   ]
  },
  {
   "cell_type": "code",
   "execution_count": null,
   "metadata": {},
   "outputs": [],
   "source": [
    "editted_regions = []\n",
    "filtered_collision_pairs = set()\n",
    "\n",
    "binary_search_options = rational_forward_kinematics.BinarySearchOption()\n",
    "binary_search_options.epsilon_max = 10\n",
    "binary_search_options.epsilon_min = -.2\n",
    "binary_search_options.max_iters = 5\n",
    "binary_search_options.search_d = True\n",
    "\n",
    "bilinear_alternation_option = rational_forward_kinematics.BilinearAlternationOption()\n",
    "bilinear_alternation_option.max_iters = 20\n",
    "bilinear_alternation_option.lagrangian_backoff_scale = 1e-3\n",
    "bilinear_alternation_option.polytope_backoff_scale = 1e-5\n",
    "\n",
    "solver_options = mp.SolverOptions()\n",
    "for r in regions: \n",
    "    try:\n",
    "        d_feasible = \\\n",
    "            cspace_free_region.CspacePolytopeBinarySearch(\n",
    "                iris_options.q_star, filtered_collision_pairs, r.A(), r.b(),\n",
    "                binary_search_options, solver_options)\n",
    "        C_final, d_final, P_final, q_final = \\\n",
    "            cspace_free_region.CspacePolytopeBilinearAlternation(\n",
    "                iris_options.q_star, filtered_collision_pairs, r.A(), d_feasible,\n",
    "                bilinear_alternation_option, solver_options)\n",
    "        C_final = np.vstack([C_final, P_joint_limits.A()])\n",
    "        d_final = np.concatenate([d_final, P_joint_limits.b()])\n",
    "        editted_regions.append(HPolyhedron(C_final, d_final))\n",
    "    except Exception as e:\n",
    "        print(e)\n",
    "print(len(editted_regions))"
   ]
  }
 ],
 "metadata": {
  "interpreter": {
   "hash": "916dbcbb3f70747c44a77c7bcd40155683ae19c65e1c03b4aa3499c5328201f1"
  },
  "kernelspec": {
   "display_name": "Python 3",
   "language": "python",
   "name": "python3"
  },
  "language_info": {
   "codemirror_mode": {
    "name": "ipython",
    "version": 3
   },
   "file_extension": ".py",
   "mimetype": "text/x-python",
   "name": "python",
   "nbconvert_exporter": "python",
   "pygments_lexer": "ipython3",
   "version": "3.8.10"
  }
 },
 "nbformat": 4,
 "nbformat_minor": 2
}
