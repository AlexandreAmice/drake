{
 "cells": [
  {
   "cell_type": "code",
   "execution_count": 18,
   "metadata": {},
   "outputs": [
    {
     "name": "stdout",
     "output_type": "stream",
     "text": [
      "The autoreload extension is already loaded. To reload it, use:\n",
      "  %reload_ext autoreload\n"
     ]
    }
   ],
   "source": [
    "%load_ext autoreload"
   ]
  },
  {
   "cell_type": "code",
   "execution_count": 19,
   "metadata": {},
   "outputs": [],
   "source": [
    "from certified_iris_generator import CertifiedIrisRegionGenerator\n",
    "import sys\n",
    "import os\n",
    "import time\n",
    "import numpy as np\n",
    "from functools import partial\n",
    "import itertools\n",
    "import mcubes\n",
    "import visualizations_utils as viz_utils\n",
    "import iris_utils #TODO remove\n",
    "from iris_plant_visualizer import IrisPlantVisualizer\n",
    "import ipywidgets as widgets\n",
    "from IPython.display import display\n",
    "from sandbox import rrtiris"
   ]
  },
  {
   "cell_type": "code",
   "execution_count": 20,
   "metadata": {},
   "outputs": [],
   "source": [
    "#pydrake imports\n",
    "from pydrake.common import FindResourceOrThrow\n",
    "from pydrake.multibody.parsing import LoadModelDirectives, Parser, ProcessModelDirectives\n",
    "from pydrake.multibody.plant import MultibodyPlant, AddMultibodyPlantSceneGraph\n",
    "from pydrake.systems.framework import DiagramBuilder\n",
    "from pydrake.all import InverseKinematics, RevoluteJoint, RationalForwardKinematics\n",
    "from pydrake.geometry.optimization import IrisOptionsRationalSpace, IrisInRationalConfigurationSpace, HPolyhedron, Hyperellipsoid\n",
    "from pydrake.geometry import Role, GeometrySet, CollisionFilterDeclaration\n",
    "import pydrake.symbolic as sym\n",
    "from pydrake.all import MathematicalProgram, RigidTransform, RollPitchYaw\n",
    "import meshcat\n",
    "from pydrake.all import GenerateSeedingPolytope\n",
    "import pydrake.multibody.rational_forward_kinematics as rational_forward_kinematics\n",
    "from pydrake.multibody.rational_forward_kinematics import FindEpsilonLower, FindEpsilonLowerVector, FindEpsilonUpperVector\n",
    "from pydrake.solvers import mathematicalprogram as mp"
   ]
  },
  {
   "cell_type": "markdown",
   "metadata": {},
   "source": [
    "# Build Plant\n"
   ]
  },
  {
   "cell_type": "code",
   "execution_count": 21,
   "metadata": {},
   "outputs": [],
   "source": [
    "q0 = [0.0, 0.0, 0.0]\n",
    "q_low  = [-1.7, -2., -1.7]\n",
    "q_high = [ 1.7,  2.,  1.7]\n"
   ]
  },
  {
   "cell_type": "code",
   "execution_count": 22,
   "metadata": {},
   "outputs": [],
   "source": [
    "builder = DiagramBuilder()\n",
    "plant, scene_graph = AddMultibodyPlantSceneGraph(builder, time_step=0.001)\n",
    "parser = Parser(plant)\n",
    "oneDOF_iiwa_asset = FindResourceOrThrow(\"drake/sos_iris_certifier/assets/oneDOF_iiwa7_with_box_collision.sdf\")\n",
    "twoDOF_iiwa_asset = FindResourceOrThrow(\"drake/sos_iris_certifier/assets/twoDOF_iiwa7_with_box_collision.sdf\")"
   ]
  },
  {
   "cell_type": "code",
   "execution_count": 23,
   "metadata": {},
   "outputs": [],
   "source": [
    "box_asset = FindResourceOrThrow(\"drake/sos_iris_certifier/assets/box_small.urdf\")\n",
    "\n",
    "models = []\n",
    "models.append(parser.AddModelFromFile(box_asset))\n",
    "models.append(parser.AddModelFromFile(twoDOF_iiwa_asset))\n",
    "models.append(parser.AddModelFromFile(oneDOF_iiwa_asset))\n",
    "\n",
    "\n",
    "\n",
    "locs = [[0.,0.,0.],[0.,.5,0.],[0.,-.5,0.]]\n",
    "plant.WeldFrames(plant.world_frame(), plant.GetFrameByName(\"base\", models[0]), RigidTransform(locs[0]))\n",
    "plant.WeldFrames(plant.world_frame(), plant.GetFrameByName(\"iiwa_twoDOF_link_0\", models[1]), RigidTransform(RollPitchYaw([0,0, -np.pi/2]).ToRotationMatrix(), locs[1]))\n",
    "plant.WeldFrames(plant.world_frame(), plant.GetFrameByName(\"iiwa_oneDOF_link_0\", models[2]), RigidTransform(RollPitchYaw([0,0, -np.pi/2]).ToRotationMatrix(), locs[2]))\n",
    "\n",
    "\n",
    "plant.Finalize()\n",
    "\n",
    "idx = 0\n",
    "for model in models:\n",
    "    for joint_index in plant.GetJointIndices(model):\n",
    "        joint = plant.get_mutable_joint(joint_index)\n",
    "        if isinstance(joint, RevoluteJoint):\n",
    "            joint.set_default_angle(q0[idx])\n",
    "            joint.set_position_limits(lower_limits= np.array([q_low[idx]]), upper_limits= np.array([q_high[idx]]))\n",
    "            idx += 1\n",
    "        \n",
    "            \n",
    "#q_low = plant.GetPositionLowerLimits().tolist()\n",
    "#q_high = plant.GetPositionUpperLimits().tolist()\n",
    "\n",
    "Ratfk = RationalForwardKinematics(plant)\n"
   ]
  },
  {
   "cell_type": "code",
   "execution_count": 24,
   "metadata": {},
   "outputs": [
    {
     "name": "stdout",
     "output_type": "stream",
     "text": [
      "You can open the visualizer by visiting the following URL:\n",
      "http://127.0.0.1:7002/static/\n",
      "You can open the visualizer by visiting the following URL:\n",
      "http://127.0.0.1:7003/static/\n",
      "Connecting to meshcat-server at zmq_url=tcp://127.0.0.1:6002...\n",
      "You can open the visualizer by visiting the following URL:\n",
      "http://127.0.0.1:7002/static/\n",
      "Connected to meshcat-server.\n"
     ]
    }
   ],
   "source": [
    "do_viz = True\n",
    "visualizer = IrisPlantVisualizer(plant, builder, scene_graph, viz_role=Role.kIllustration)\n",
    "diagram = visualizer.diagram\n",
    "visualizer.visualize_collision_constraint(N = 30)"
   ]
  },
  {
   "cell_type": "code",
   "execution_count": 25,
   "metadata": {
    "scrolled": false
   },
   "outputs": [
    {
     "data": {
      "application/vnd.jupyter.widget-view+json": {
       "model_id": "d8ce2251db054122a5c19d5d2e960c71",
       "version_major": 2,
       "version_minor": 0
      },
      "text/plain": [
       "FloatSlider(value=0.0, description='q0', max=1.7, min=-1.7)"
      ]
     },
     "metadata": {},
     "output_type": "display_data"
    },
    {
     "data": {
      "application/vnd.jupyter.widget-view+json": {
       "model_id": "c484847d494241c4b2f589b0824fc13e",
       "version_major": 2,
       "version_minor": 0
      },
      "text/plain": [
       "FloatSlider(value=0.0, description='q1', max=2.0, min=-2.0)"
      ]
     },
     "metadata": {},
     "output_type": "display_data"
    },
    {
     "data": {
      "application/vnd.jupyter.widget-view+json": {
       "model_id": "307a56871fb1468fbbb009272760e96b",
       "version_major": 2,
       "version_minor": 0
      },
      "text/plain": [
       "FloatSlider(value=0.0, description='q2', max=1.7, min=-1.7)"
      ]
     },
     "metadata": {},
     "output_type": "display_data"
    },
    {
     "data": {
      "text/html": [
       "\n",
       "            <div style=\"height: 400px; width: 100%; overflow-x: auto; overflow-y: hidden; resize: both\">\n",
       "            <iframe src=\"http://127.0.0.1:7002/static/\" style=\"width: 100%; height: 100%; border: none\"></iframe>\n",
       "            </div>\n",
       "            "
      ],
      "text/plain": [
       "<IPython.core.display.HTML object>"
      ]
     },
     "metadata": {},
     "output_type": "display_data"
    },
    {
     "data": {
      "text/html": [
       "\n",
       "            <div style=\"height: 400px; width: 100%; overflow-x: auto; overflow-y: hidden; resize: both\">\n",
       "            <iframe src=\"http://127.0.0.1:7003/static/\" style=\"width: 100%; height: 100%; border: none\"></iframe>\n",
       "            </div>\n",
       "            "
      ],
      "text/plain": [
       "<IPython.core.display.HTML object>"
      ]
     },
     "metadata": {},
     "output_type": "display_data"
    }
   ],
   "source": [
    "sliders = []\n",
    "sliders.append(widgets.FloatSlider(min=q_low[0], max=q_high[0], value=0, description='q0'))\n",
    "sliders.append(widgets.FloatSlider(min=q_low[1], max=q_high[1], value=0, description='q1'))\n",
    "sliders.append(widgets.FloatSlider(min=q_low[2], max=q_high[2], value=0, description='q2'))\n",
    "\n",
    "q = q0.copy()\n",
    "def handle_slider_change(change, idx):\n",
    "    q[idx] = change['new']\n",
    "    #print(q, end=\"\\r\")\n",
    "    visualizer.showres(q)\n",
    "    \n",
    "idx = 0\n",
    "for slider in sliders:\n",
    "    slider.observe(partial(handle_slider_change, idx = idx), names='value')\n",
    "    idx+=1\n",
    "\n",
    "for slider in sliders:\n",
    "    display(slider)\n",
    "\n",
    "visualizer.jupyter_cell()"
   ]
  },
  {
   "cell_type": "code",
   "execution_count": 26,
   "metadata": {
    "scrolled": true
   },
   "outputs": [
    {
     "name": "stdout",
     "output_type": "stream",
     "text": [
      "150 -> 150\n",
      "137 -> 150\n"
     ]
    }
   ],
   "source": [
    "#filter fused joints self collisions \n",
    "digaram = visualizer.diagram\n",
    "context = visualizer.diagram_context\n",
    "plant_context = visualizer.plant_context\n",
    "sg_context = scene_graph.GetMyContextFromRoot(context)\n",
    "inspector = scene_graph.model_inspector()\n",
    "\n",
    "pairs = scene_graph.get_query_output_port().Eval(sg_context).inspector().GetCollisionCandidates()\n",
    "print(len(inspector.GetCollisionCandidates()), \"->\", len(pairs))\n",
    "\n",
    "gids = [gid for gid in inspector.GetGeometryIds(GeometrySet(inspector.GetAllGeometryIds()), Role.kProximity)]\n",
    "get_name_of_gid = lambda gid : inspector.GetName(gid)\n",
    "gids.sort(key=get_name_of_gid)\n",
    "iiwa_oneDOF_gids = [gid for gid in gids if \"iiwa7_oneDOF::\" in get_name_of_gid(gid)]\n",
    "iiwa_twoDOF_gids = [gid for gid in gids if \"iiwa7_twoDOF::\" in get_name_of_gid(gid)]\n",
    "\n",
    "oneDOF_fused_col_geom = iiwa_oneDOF_gids[2:]\n",
    "iiwa_oneDOF_fused_set = GeometrySet(oneDOF_fused_col_geom)\n",
    "twoDOF_fused_col_geom = iiwa_twoDOF_gids[4:]\n",
    "iiwa_twoDOF_fused_set = GeometrySet(twoDOF_fused_col_geom)\n",
    "# print([get_name_of_gid(gid) for gid in oneDOF_fused_col_geom])\n",
    "# print([get_name_of_gid(gid) for gid in twoDOF_fused_col_geom])\n",
    "scene_graph.collision_filter_manager()\\\n",
    "            .Apply(CollisionFilterDeclaration().ExcludeWithin(iiwa_oneDOF_fused_set))\n",
    "scene_graph.collision_filter_manager()\\\n",
    "            .Apply(CollisionFilterDeclaration().ExcludeWithin(iiwa_twoDOF_fused_set))\n",
    "pairs = scene_graph.get_query_output_port().Eval(sg_context).inspector().GetCollisionCandidates()\n",
    "print(len(inspector.GetCollisionCandidates()), \"->\", len(pairs))"
   ]
  },
  {
   "cell_type": "markdown",
   "metadata": {},
   "source": [
    "# Setup IRIS Options and Generate Regions"
   ]
  },
  {
   "cell_type": "code",
   "execution_count": 27,
   "metadata": {},
   "outputs": [],
   "source": [
    "# seed_points_q = np.array([[0.0, 0, 0], # zero config\n",
    "#                         [0.0, -1.3, -1.3],  # start\n",
    "#                         [0.9, -1.5, -0.8]     # goal\n",
    "#                          ])\n",
    "seed_points_q = np.array([[0.0, 0, 0], # zero config\n",
    "                        [0.8, 1.3, -0.8],  # START: blue low green up\n",
    "                        [0.1, 0.9, -1.2],     # GOAL: green low other up\n",
    "                        [0.2, 1.6, -0.6],\n",
    "                        [0.5, -1.9, -0.9]\n",
    "                         ])[:,(0,1,2)]   # passing\n",
    "\n",
    "\n",
    "seed_points = np.array([Ratfk.ComputeTValue(seed_points_q[idx], np.zeros((3,)))\\\n",
    "                        for idx in range(seed_points_q.shape[0])])\n",
    "if do_viz:\n",
    "    visualizer.plot_seedpoints(seed_points)\n",
    "\n",
    "start = seed_points[1,:]\n",
    "goal = seed_points[2,:]\n",
    "\n",
    "#compute limits in t-space\n",
    "limits_t = []\n",
    "for q in [q_low, q_high]:\n",
    "    limits_t.append(Ratfk.ComputeTValue(np.array(q), np.zeros((3,)) ))\n",
    "    \n",
    "starting_poly = HPolyhedron.MakeBox(limits_t[0], limits_t[1])\n",
    "context = diagram.CreateDefaultContext()\n",
    "q_star = np.zeros(3)"
   ]
  },
  {
   "cell_type": "code",
   "execution_count": 28,
   "metadata": {},
   "outputs": [],
   "source": [
    "# regions = []\n",
    "\n",
    "# iris_options = IrisOptionsRationalSpace()\n",
    "# iris_options.require_sample_point_is_contained = True\n",
    "# iris_options.iteration_limit = 20\n",
    "# iris_options.configuration_space_margin = 1e-5\n",
    "# iris_options.max_faces_per_collision_pair = 60\n",
    "# iris_options.termination_threshold = -1\n",
    "# iris_options.q_star = np.zeros(3)\n",
    "# iris_options.relative_termination_threshold = 0.05\n",
    "# iris_options.enable_ibex = False\n",
    "# #deprecated\n",
    "# iris_options.certify_region_with_sos_during_generation = False\n",
    "# iris_options.certify_region_with_sos_after_generation = False\n",
    "\n",
    "# for i, s in enumerate(seed_points):\n",
    "#     plant.SetPositions(plant.GetMyMutableContextFromRoot(context), s)\n",
    "#     if False:\n",
    "#         #starting_hpolyhedron = regions[i-1]\n",
    "#         r = IrisInRationalConfigurationSpace (plant, plant.GetMyContextFromRoot(context),\n",
    "#                                               iris_options, starting_hpolyhedron)\n",
    "#     else:\n",
    "#         r = IrisInRationalConfigurationSpace(plant, plant.GetMyContextFromRoot(context), iris_options)\n",
    "#     regions.append(r)\n",
    "#     print(f'Completed region: {i+1}/{len(seed_points)}')\n",
    "#     print(f\"Sample point contained = {np.all(r.A()@s <= r.b())}\")\n",
    "#     print(f\"Sample point contained componentwise = {r.A()@s <= r.b()}\")\n",
    "#     print()"
   ]
  },
  {
   "cell_type": "code",
   "execution_count": 29,
   "metadata": {},
   "outputs": [],
   "source": [
    "# if do_viz:\n",
    "#     visualizer.plot_regions(regions, ellipses=None, region_suffix='original')"
   ]
  },
  {
   "cell_type": "code",
   "execution_count": 30,
   "metadata": {},
   "outputs": [],
   "source": [
    "regions_default = []\n",
    "max_vects = []\n",
    "min_vects = []\n",
    "num_perm_dim = 2\n",
    "num_rot = 2\n",
    "\n",
    "for i, s in enumerate(seed_points):\n",
    "    regions_default.append(GenerateSeedingPolytope(s, num_perm_dim, num_rot))\n",
    "    eps_min_vect = FindEpsilonLowerVector(regions_default[i].A(), \n",
    "                                      regions_default[i].b(), \n",
    "                                      limits_t[0], limits_t[1], s)\n",
    "    min_vects.append(eps_min_vect)\n",
    "    eps_max_vect = FindEpsilonUpperVector(regions_default[i].A(), \n",
    "                                      regions_default[i].b(), \n",
    "                                      limits_t[0], limits_t[1])\n",
    "    max_vects.append(eps_max_vect)\n",
    "    \n",
    "    "
   ]
  },
  {
   "cell_type": "code",
   "execution_count": 31,
   "metadata": {},
   "outputs": [],
   "source": [
    "regions_default_small = []\n",
    "regions_default_big = []\n",
    "for i, r in enumerate(regions_default):\n",
    "    regions_default_small.append(HPolyhedron(regions_default[i].A(), regions_default[i].b() + 0.75*min_vects[i]))\n",
    "    regions_default_big.append(HPolyhedron(regions_default[i].A(), regions_default[i].b() + max_vects[i]))\n",
    "    \n",
    "if do_viz:\n",
    "    visualizer.plot_regions(regions_default, ellipses=None, region_suffix='_default')\n",
    "    visualizer.plot_regions(regions_default_small, ellipses=None, region_suffix='_small')\n",
    "    visualizer.plot_regions(regions_default_big, ellipses=None, region_suffix='_big')"
   ]
  },
  {
   "cell_type": "code",
   "execution_count": 32,
   "metadata": {},
   "outputs": [],
   "source": [
    "cspace_free_region = rational_forward_kinematics.CspaceFreeRegion(diagram, plant, scene_graph,\n",
    "                                   rational_forward_kinematics.SeparatingPlaneOrder.kAffine,\n",
    "                                   rational_forward_kinematics.CspaceRegionType.kGenericPolytope)\n"
   ]
  },
  {
   "cell_type": "code",
   "execution_count": 33,
   "metadata": {},
   "outputs": [
    {
     "ename": "NameError",
     "evalue": "name 'iris_options' is not defined",
     "output_type": "error",
     "traceback": [
      "\u001b[0;31m---------------------------------------------------------------------------\u001b[0m",
      "\u001b[0;31mNameError\u001b[0m                                 Traceback (most recent call last)",
      "\u001b[0;32m<ipython-input-33-1e6b6dab6ef6>\u001b[0m in \u001b[0;36m<module>\u001b[0;34m\u001b[0m\n\u001b[1;32m     14\u001b[0m \u001b[0;34m\u001b[0m\u001b[0m\n\u001b[1;32m     15\u001b[0m b_feasible = cspace_free_region.CspacePolytopeBisectionSearchVector(\n\u001b[0;32m---> 16\u001b[0;31m                  \u001b[0miris_options\u001b[0m\u001b[0;34m.\u001b[0m\u001b[0mq_star\u001b[0m\u001b[0;34m,\u001b[0m \u001b[0mfiltered_collision_pairs\u001b[0m\u001b[0;34m,\u001b[0m \u001b[0mr0\u001b[0m\u001b[0;34m.\u001b[0m\u001b[0mA\u001b[0m\u001b[0;34m(\u001b[0m\u001b[0;34m)\u001b[0m\u001b[0;34m,\u001b[0m \u001b[0mr0\u001b[0m\u001b[0;34m.\u001b[0m\u001b[0mb\u001b[0m\u001b[0;34m(\u001b[0m\u001b[0;34m)\u001b[0m\u001b[0;34m,\u001b[0m\u001b[0;34m\u001b[0m\u001b[0;34m\u001b[0m\u001b[0m\n\u001b[0m\u001b[1;32m     17\u001b[0m                  vector_bisection_search_options, solver_options)\n\u001b[1;32m     18\u001b[0m \u001b[0mr0_grown_vector\u001b[0m \u001b[0;34m=\u001b[0m \u001b[0mHPolyhedron\u001b[0m\u001b[0;34m(\u001b[0m\u001b[0mr0\u001b[0m\u001b[0;34m.\u001b[0m\u001b[0mA\u001b[0m\u001b[0;34m(\u001b[0m\u001b[0;34m)\u001b[0m\u001b[0;34m,\u001b[0m \u001b[0mb_feasible\u001b[0m\u001b[0;34m)\u001b[0m\u001b[0;34m\u001b[0m\u001b[0;34m\u001b[0m\u001b[0m\n",
      "\u001b[0;31mNameError\u001b[0m: name 'iris_options' is not defined"
     ]
    }
   ],
   "source": [
    "i = 0\n",
    "r0 = regions_default[i]\n",
    "s = seed_points[i]\n",
    "\n",
    "vector_bisection_search_options = rational_forward_kinematics.VectorBisectionSearchOption()\n",
    "vector_bisection_search_options.max_iters = 20\n",
    "vector_bisection_search_options.max_feasible_iters = 5\n",
    "vector_bisection_search_options.search_d = True\n",
    "vector_bisection_search_options.epsilon_min = FindEpsilonLowerVector(r0.A(), r0.b(),\n",
    "                                                         limits_t[0], limits_t[1], s)\n",
    "vector_bisection_search_options.epsilon_max = 0.25*FindEpsilonUpperVector(r0.A(), \n",
    "                                      r0.b(), \n",
    "                                      limits_t[0], limits_t[1],)\n",
    "\n",
    "b_feasible = cspace_free_region.CspacePolytopeBisectionSearchVector(\n",
    "                 q_star, filtered_collision_pairs, r0.A(), r0.b(),\n",
    "                 vector_bisection_search_options, solver_options)\n",
    "r0_grown_vector = HPolyhedron(r0.A(), b_feasible) "
   ]
  },
  {
   "cell_type": "code",
   "execution_count": 45,
   "metadata": {},
   "outputs": [],
   "source": [
    "\n",
    "scalar_edited_regions = []\n",
    "vector_edited_regions = []\n",
    "filtered_collision_pairs = set()\n",
    "\n",
    "bilinear_alternation_option = rational_forward_kinematics.BilinearAlternationOption()\n",
    "bilinear_alternation_option.max_iters = 20\n",
    "bilinear_alternation_option.lagrangian_backoff_scale = 1e-6\n",
    "bilinear_alternation_option.polytope_backoff_scale = 1e-6\n",
    "\n",
    "iris_options = IrisOptionsRationalSpace()\n",
    "iris_options.require_sample_point_is_contained = True\n",
    "iris_options.iteration_limit = 20\n",
    "iris_options.configuration_space_margin = 1e-5\n",
    "iris_options.max_faces_per_collision_pair = 60\n",
    "iris_options.termination_threshold = -1\n",
    "iris_options.q_star = np.zeros(3)\n",
    "iris_options.relative_termination_threshold = 0.05\n",
    "iris_options.enable_ibex = False\n",
    "#deprecated\n",
    "iris_options.certify_region_with_sos_during_generation = False\n",
    "iris_options.certify_region_with_sos_after_generation = False\n",
    "\n",
    "solver_options = mp.SolverOptions()\n",
    "solver_options.SetOption(mp.CommonSolverOption.kPrintToConsole, 1)\n",
    "\n",
    "def iris_scalar_handle(seed, domain):\n",
    "    seed_q = Ratfk.ComputeQValue(seed, np.zeros((3,))) \n",
    "    plant.SetPositions(plant.GetMyMutableContextFromRoot(context), seed_q)\n",
    "    region = IrisInRationalConfigurationSpace(plant, plant.GetMyContextFromRoot(context),\n",
    "                                              iris_options, domain)\n",
    "    ellipse = region.MaximumVolumeInscribedEllipsoid()\n",
    "    C = ellipse.A()\n",
    "    radii2, R  =  np.linalg.eig(C.T @ C)\n",
    "    radii = np.sqrt(radii2)\n",
    "\n",
    "    binary_search_options.epsilon_min = FindEpsilonLower(region.A(), region.b(),\n",
    "                                                         limits_t[0], limits_t[1])\n",
    "    print(\"[IRIS +  CERT]: Eps min\", binary_search_options.epsilon_min)\n",
    "    print(\"[IRIS +  CERT]: Region found, vol = \", ellipse.Volume(), \", halfaxis: \", radii)\n",
    "    b_feasible = cspace_free_region.CspacePolytopeBinarySearch(\n",
    "                 iris_options.q_star, filtered_collision_pairs, region.A(), region.b(),\n",
    "                 binary_search_options, solver_options)\n",
    "    \n",
    "#     C_final, d_final, P_final, q_final = \\\n",
    "#         cspace_free_region.CspacePolytopeBilinearAlternation(\n",
    "#             iris_options.q_star, filtered_collision_pairs, region.A(), b_feasible,\n",
    "#            bilinear_alternation_option, solver_options)\n",
    "    #C_final = np.vstack([C_final, P_joint_limits.A()])\n",
    "    #d_final = np.concatenate([d_final, P_joint_limits.b()])\n",
    "    #editted_regions.append(HPolyhedron(C_final, d_final))\n",
    "    return region, HPolyhedron(region.A(), b_feasible) \n",
    "\n",
    "def iris_vector_handle(seed, domain):\n",
    "    seed_q = Ratfk.ComputeQValue(seed, np.zeros((3,))) \n",
    "    plant.SetPositions(plant.GetMyMutableContextFromRoot(context), seed_q)\n",
    "    region = IrisInRationalConfigurationSpace(plant, plant.GetMyContextFromRoot(context),\n",
    "                                              iris_options, domain)\n",
    "    ellipse = region.MaximumVolumeInscribedEllipsoid()\n",
    "    C = ellipse.A()\n",
    "    radii2, R  =  np.linalg.eig(C.T @ C)\n",
    "    radii = np.sqrt(radii2)\n",
    "    vector_bisection_search_options.epsilon_min = FindEpsilonLowerVector(region.A(), region.b(),\n",
    "                                                         limits_t[0], limits_t[1])\n",
    "    print(\"[IRIS +  CERT]: Eps min\", vector_bisection_search_options.epsilon_min)\n",
    "    print(\"[IRIS +  CERT]: Region found, vol = \", ellipse.Volume(), \", halfaxis: \", radii)\n",
    "    b_feasible = cspace_free_region.CspacePolytopeBisectionSearchVector(\n",
    "                 iris_options.q_star, filtered_collision_pairs, region.A(), region.b(),\n",
    "                 vector_bisection_search_options, solver_options)\n",
    "    \n",
    "#     C_final, d_final, P_final, q_final = \\\n",
    "#         cspace_free_region.CspacePolytopeBilinearAlternation(\n",
    "#             iris_options.q_star, filtered_collision_pairs, region.A(), b_feasible,\n",
    "#            bilinear_alternation_option, solver_options)\n",
    "    #C_final = np.vstack([C_final, P_joint_limits.A()])\n",
    "    #d_final = np.concatenate([d_final, P_joint_limits.b()])\n",
    "    #editted_regions.append(HPolyhedron(C_final, d_final))\n",
    "    return region, HPolyhedron(region.A(), b_feasible) "
   ]
  },
  {
   "cell_type": "code",
   "execution_count": 48,
   "metadata": {},
   "outputs": [
    {
     "name": "stderr",
     "output_type": "stream",
     "text": [
      "[2022-02-02 17:03:38.783] [console] [info] Solver time 5.108773946762085\n",
      "[2022-02-02 17:03:47.760] [console] [info] Solver time 2.9524049758911133\n",
      "[2022-02-02 17:03:59.007] [console] [info] Solver time 5.5753560066223145\n",
      "[2022-02-02 17:03:59.067] [console] [info] total iter=1, feasible iter = 0\n",
      "[2022-02-02 17:04:10.883] [console] [info] Solver time 6.24891996383667\n",
      "[2022-02-02 17:04:10.943] [console] [info] total iter=2, feasible iter = 0\n",
      "[2022-02-02 17:04:26.941] [console] [info] bilinear alt on d succeeded\n",
      "[2022-02-02 17:04:26.986] [console] [info] Solver time 3.0679070949554443\n",
      "[2022-02-02 17:04:27.083] [console] [info] total iter=3, feasible iter = 1\n",
      "[2022-02-02 17:04:38.245] [console] [info] Solver time 5.807451963424683\n",
      "[2022-02-02 17:04:38.304] [console] [info] total iter=4, feasible iter = 1\n",
      "[2022-02-02 17:04:49.114] [console] [info] Solver time 5.285367965698242\n",
      "[2022-02-02 17:04:49.173] [console] [info] total iter=5, feasible iter = 1\n",
      "[2022-02-02 17:04:59.930] [console] [info] Solver time 5.228838920593262\n",
      "[2022-02-02 17:04:59.988] [console] [info] total iter=6, feasible iter = 1\n",
      "[2022-02-02 17:05:16.800] [console] [info] bilinear alt on d succeeded\n",
      "[2022-02-02 17:05:16.836] [console] [info] Solver time 3.69557785987854\n",
      "[2022-02-02 17:05:16.931] [console] [info] total iter=7, feasible iter = 2\n",
      "[2022-02-02 17:05:27.554] [console] [info] Solver time 5.240532875061035\n",
      "[2022-02-02 17:05:27.613] [console] [info] total iter=8, feasible iter = 2\n",
      "[2022-02-02 17:05:39.382] [console] [info] Solver time 6.349361896514893\n",
      "[2022-02-02 17:05:39.441] [console] [info] total iter=9, feasible iter = 2\n",
      "[2022-02-02 17:05:51.755] [console] [info] Solver time 6.837748050689697\n",
      "[2022-02-02 17:05:51.818] [console] [info] total iter=10, feasible iter = 2\n",
      "[2022-02-02 17:06:03.310] [console] [info] Solver time 5.767700910568237\n",
      "[2022-02-02 17:06:03.369] [console] [info] total iter=11, feasible iter = 2\n",
      "[2022-02-02 17:06:13.671] [console] [info] Solver time 4.697332859039307\n",
      "[2022-02-02 17:06:13.733] [console] [info] total iter=12, feasible iter = 2\n",
      "[2022-02-02 17:06:24.626] [console] [info] Solver time 5.271593809127808\n",
      "[2022-02-02 17:06:24.685] [console] [info] total iter=13, feasible iter = 2\n",
      "[2022-02-02 17:06:41.998] [console] [info] bilinear alt on d succeeded\n",
      "[2022-02-02 17:06:42.036] [console] [info] Solver time 4.015480995178223\n",
      "[2022-02-02 17:06:42.126] [console] [info] total iter=14, feasible iter = 3\n",
      "[2022-02-02 17:06:52.506] [console] [info] Solver time 4.895644903182983\n",
      "[2022-02-02 17:06:52.565] [console] [info] total iter=15, feasible iter = 3\n",
      "[2022-02-02 17:07:03.853] [console] [info] Solver time 5.856773138046265\n",
      "[2022-02-02 17:07:03.912] [console] [info] total iter=16, feasible iter = 3\n",
      "[2022-02-02 17:07:15.069] [console] [info] Solver time 5.720093011856079\n",
      "[2022-02-02 17:07:15.127] [console] [info] total iter=17, feasible iter = 3\n",
      "[2022-02-02 17:07:25.556] [console] [info] Solver time 5.014779806137085\n",
      "[2022-02-02 17:07:25.615] [console] [info] total iter=18, feasible iter = 3\n",
      "[2022-02-02 17:07:35.857] [console] [info] Solver time 4.779848098754883\n",
      "[2022-02-02 17:07:35.916] [console] [info] total iter=19, feasible iter = 3\n",
      "[2022-02-02 17:07:46.360] [console] [info] Solver time 5.032386064529419\n",
      "[2022-02-02 17:07:46.435] [console] [info] total iter=20, feasible iter = 3\n",
      "[2022-02-02 17:07:56.166] [console] [info] Solver time 4.303828954696655\n",
      "[2022-02-02 17:07:56.225] [console] [info] total iter=21, feasible iter = 3\n",
      "[2022-02-02 17:08:14.420] [console] [info] bilinear alt on d succeeded\n",
      "[2022-02-02 17:08:14.457] [console] [info] Solver time 5.1419689655303955\n",
      "[2022-02-02 17:08:14.544] [console] [info] total iter=22, feasible iter = 4\n",
      "[2022-02-02 17:08:24.840] [console] [info] Solver time 4.860249996185303\n",
      "[2022-02-02 17:08:24.899] [console] [info] total iter=23, feasible iter = 4\n",
      "[2022-02-02 17:08:36.309] [console] [info] Solver time 5.970712900161743\n",
      "[2022-02-02 17:08:36.368] [console] [info] total iter=24, feasible iter = 4\n",
      "[2022-02-02 17:08:47.872] [console] [info] Solver time 6.048486948013306\n",
      "[2022-02-02 17:08:47.949] [console] [info] total iter=25, feasible iter = 4\n",
      "[2022-02-02 17:08:58.909] [console] [info] Solver time 5.349701881408691\n",
      "[2022-02-02 17:08:58.976] [console] [info] total iter=26, feasible iter = 4\n",
      "[2022-02-02 17:09:10.182] [console] [info] Solver time 5.557343006134033\n",
      "[2022-02-02 17:09:10.244] [console] [info] total iter=27, feasible iter = 4\n",
      "[2022-02-02 17:09:20.760] [console] [info] Solver time 4.9605348110198975\n",
      "[2022-02-02 17:09:20.837] [console] [info] total iter=28, feasible iter = 4\n",
      "[2022-02-02 17:09:31.769] [console] [info] Solver time 5.318728923797607\n",
      "[2022-02-02 17:09:31.829] [console] [info] total iter=29, feasible iter = 4\n",
      "[2022-02-02 17:09:41.756] [console] [info] Solver time 4.4019999504089355\n",
      "[2022-02-02 17:09:41.830] [console] [info] total iter=30, feasible iter = 4\n",
      "[2022-02-02 17:09:52.151] [console] [info] Solver time 4.709654092788696\n",
      "[2022-02-02 17:09:52.212] [console] [info] total iter=31, feasible iter = 4\n",
      "[2022-02-02 17:10:03.773] [console] [info] Solver time 6.015053987503052\n",
      "[2022-02-02 17:10:03.832] [console] [info] total iter=32, feasible iter = 4\n",
      "[2022-02-02 17:10:15.475] [console] [info] Solver time 6.064781188964844\n",
      "[2022-02-02 17:10:15.549] [console] [info] total iter=33, feasible iter = 4\n",
      "[2022-02-02 17:10:33.554] [console] [info] bilinear alt on d succeeded\n",
      "[2022-02-02 17:10:33.594] [console] [info] Solver time 4.831622838973999\n",
      "[2022-02-02 17:10:33.687] [console] [info] total iter=34, feasible iter = 5\n",
      "[2022-02-02 17:10:44.240] [console] [info] Solver time 4.973543167114258\n",
      "[2022-02-02 17:10:44.301] [console] [info] total iter=35, feasible iter = 5\n",
      "[2022-02-02 17:10:56.086] [console] [info] Solver time 6.235352993011475\n",
      "[2022-02-02 17:10:56.145] [console] [info] total iter=36, feasible iter = 5\n",
      "[2022-02-02 17:11:07.916] [console] [info] Solver time 6.2461018562316895\n",
      "[2022-02-02 17:11:07.995] [console] [info] total iter=37, feasible iter = 5\n",
      "[2022-02-02 17:11:18.513] [console] [info] Solver time 4.916949033737183\n",
      "[2022-02-02 17:11:18.573] [console] [info] total iter=38, feasible iter = 5\n",
      "[2022-02-02 17:11:29.278] [console] [info] Solver time 5.230974912643433\n",
      "[2022-02-02 17:11:29.338] [console] [info] total iter=39, feasible iter = 5\n",
      "[2022-02-02 17:11:39.661] [console] [info] Solver time 4.85318398475647\n",
      "[2022-02-02 17:11:39.743] [console] [info] total iter=40, feasible iter = 5\n",
      "[2022-02-02 17:11:50.320] [console] [info] Solver time 5.070103168487549\n",
      "[2022-02-02 17:11:50.380] [console] [info] total iter=41, feasible iter = 5\n",
      "[2022-02-02 17:12:01.190] [console] [info] Solver time 4.622101783752441\n",
      "[2022-02-02 17:12:01.257] [console] [info] total iter=42, feasible iter = 5\n",
      "[2022-02-02 17:12:12.609] [console] [info] Solver time 5.613222122192383\n",
      "[2022-02-02 17:12:12.670] [console] [info] total iter=43, feasible iter = 5\n",
      "[2022-02-02 17:12:23.421] [console] [info] Solver time 5.178187847137451\n",
      "[2022-02-02 17:12:23.480] [console] [info] total iter=44, feasible iter = 5\n",
      "[2022-02-02 17:12:34.435] [console] [info] Solver time 5.521467208862305\n",
      "[2022-02-02 17:12:34.494] [console] [info] total iter=45, feasible iter = 5\n",
      "[2022-02-02 17:12:45.336] [console] [info] Solver time 5.426589012145996\n",
      "[2022-02-02 17:12:45.409] [console] [info] total iter=46, feasible iter = 5\n",
      "[2022-02-02 17:13:04.404] [console] [info] bilinear alt on d succeeded\n",
      "[2022-02-02 17:13:04.440] [console] [info] Solver time 5.090065956115723\n",
      "[2022-02-02 17:13:04.545] [console] [info] total iter=47, feasible iter = 6\n"
     ]
    }
   ],
   "source": []
  },
  {
   "cell_type": "code",
   "execution_count": 50,
   "metadata": {},
   "outputs": [],
   "source": [
    "if do_viz:\n",
    "    visualizer.plot_regions([r0_grown_vector], ellipses=None, region_suffix='_grown_vector')"
   ]
  },
  {
   "cell_type": "code",
   "execution_count": 17,
   "metadata": {},
   "outputs": [
    {
     "name": "stderr",
     "output_type": "stream",
     "text": [
      "[2022-02-01 23:34:08.205] [console] [info] Solver time 2.2550008296966553\n",
      "[2022-02-01 23:34:10.168] [console] [info] Solver time 0.5598189830780029\n",
      "[2022-02-01 23:34:15.249] [console] [info] Solver time 2.1895270347595215\n",
      "[2022-02-01 23:34:15.296] [console] [info] epsilon=0.4500000000001479 is infeasible\n",
      "[2022-02-01 23:34:21.192] [console] [info] Solver time 3.123392105102539\n",
      "[2022-02-01 23:34:21.240] [console] [info] epsilon=0.17500000000022187 is infeasible\n",
      "[2022-02-01 23:34:28.644] [console] [info] bilinear alt on d is successful false\n",
      "[2022-02-01 23:34:28.656] [console] [info] Solver time 1.3092918395996094\n",
      "[2022-02-01 23:34:28.724] [console] [info] epsilon=0.03750000000025885 is feasible\n",
      "[2022-02-01 23:34:28.725] [console] [info] reset eps_min=0.0, eps_max=0.137499999999963\n",
      "[2022-02-01 23:34:33.337] [console] [info] Solver time 1.8340308666229248\n",
      "[2022-02-01 23:34:33.387] [console] [info] epsilon=0.0687499999999815 is infeasible\n",
      "[2022-02-01 23:34:40.949] [console] [info] bilinear alt on d is successful false\n",
      "[2022-02-01 23:34:40.961] [console] [info] Solver time 1.4059960842132568\n",
      "[2022-02-01 23:34:41.030] [console] [info] epsilon=0.03437499999999075 is feasible\n",
      "[2022-02-01 23:34:41.031] [console] [info] reset eps_min=0.0, eps_max=0.034374999999990774\n",
      "[2022-02-01 23:34:48.620] [console] [info] bilinear alt on d is successful false\n",
      "[2022-02-01 23:34:48.631] [console] [info] Solver time 1.499107837677002\n",
      "[2022-02-01 23:34:48.700] [console] [info] epsilon=0.017187499999995387 is feasible\n",
      "[2022-02-01 23:34:48.701] [console] [info] reset eps_min=0.0, eps_max=0.017187499999995387\n",
      "[2022-02-01 23:34:53.861] [console] [info] Solver time 2.36730694770813\n",
      "[2022-02-01 23:34:53.909] [console] [info] epsilon=0.008593749999997694 is infeasible\n",
      "[2022-02-01 23:35:01.996] [console] [info] bilinear alt on d is successful false\n",
      "[2022-02-01 23:35:02.008] [console] [info] Solver time 2.0486409664154053\n",
      "[2022-02-01 23:35:02.077] [console] [info] epsilon=0.004296874999998847 is feasible\n",
      "[2022-02-01 23:35:02.077] [console] [info] reset eps_min=0.0, eps_max=0.004296874999998868\n",
      "[2022-02-01 23:35:06.832] [console] [info] Solver time 1.9776740074157715\n",
      "[2022-02-01 23:35:06.880] [console] [info] epsilon=0.002148437499999434 is infeasible\n",
      "[2022-02-01 23:35:11.437] [console] [info] Solver time 1.7654778957366943\n",
      "[2022-02-01 23:35:11.486] [console] [info] epsilon=0.001074218749999717 is infeasible\n",
      "[2022-02-01 23:35:16.452] [console] [info] Solver time 2.1945078372955322\n",
      "[2022-02-01 23:35:16.499] [console] [info] epsilon=0.0005371093749998584 is infeasible\n",
      "[2022-02-01 23:35:21.511] [console] [info] Solver time 2.1988131999969482\n",
      "[2022-02-01 23:35:21.560] [console] [info] epsilon=0.0002685546874999292 is infeasible\n",
      "[2022-02-01 23:35:26.542] [console] [info] Solver time 2.212489128112793\n",
      "[2022-02-01 23:35:26.588] [console] [info] epsilon=0.0001342773437499646 is infeasible\n",
      "[2022-02-01 23:35:34.671] [console] [info] bilinear alt on d is successful false\n",
      "[2022-02-01 23:35:34.683] [console] [info] Solver time 2.0420949459075928\n",
      "[2022-02-01 23:35:34.751] [console] [info] epsilon=6.71386718749823e-05 is feasible\n",
      "[2022-02-01 23:35:34.752] [console] [info] reset eps_min=0.0, eps_max=6.71386718749667e-05\n",
      "[2022-02-01 23:35:39.686] [console] [info] Solver time 2.1657180786132812\n",
      "[2022-02-01 23:35:39.733] [console] [info] epsilon=3.356933593748335e-05 is infeasible\n"
     ]
    }
   ],
   "source": [
    "binary_search_options = rational_forward_kinematics.BinarySearchOption()\n",
    "binary_search_options.epsilon_max = 1\n",
    "binary_search_options.epsilon_min = -.12\n",
    "binary_search_options.max_iters = 15\n",
    "binary_search_options.search_d = True\n",
    "binary_search_options.epsilon_min = FindEpsilonLower(r0.A(), r0.b(),\n",
    "                                                         limits_t[0], limits_t[1])\n",
    "b_feasible = cspace_free_region.CspacePolytopeBinarySearch(\n",
    "                 iris_options.q_star, filtered_collision_pairs, r0.A(), r0.b(),\n",
    "                 binary_search_options, solver_options)\n",
    "r0_grown_scalar = HPolyhedron(r0.A(), b_feasible) \n"
   ]
  },
  {
   "cell_type": "code",
   "execution_count": 20,
   "metadata": {},
   "outputs": [],
   "source": [
    "if do_viz:\n",
    "#     visualizer.plot_regions([r0_grown_scalar], ellipses=None, region_suffix='_grown_scalar')\n",
    "    visualizer.plot_regions([r0_grown_vector], ellipses=None, region_suffix='_grown_vector')"
   ]
  },
  {
   "cell_type": "code",
   "execution_count": 15,
   "metadata": {},
   "outputs": [
    {
     "name": "stdout",
     "output_type": "stream",
     "text": [
      "[IRIS +  CERT]: Eps min -0.12\n",
      "[IRIS +  CERT]: Region found, vol =  0.6819787390374958 , halfaxis:  [4.86595118 2.17555524 0.58020292]\n",
      "CspacePolytopeBisectionSearchVector(): incompatible function arguments. The following argument types are supported:\n",
      "    1. (self: pydrake.multibody.rational_forward_kinematics.CspaceFreeRegion, q_star: numpy.ndarray[numpy.float64[m, 1]], filtered_collision_pairs: Set[drake::SortedPair<drake::geometry::GeometryId>], C: numpy.ndarray[numpy.float64[m, n], flags.f_contiguous], d_init: numpy.ndarray[numpy.float64[m, 1]], vector_bisection_search_option: pydrake.multibody.rational_forward_kinematics.VectorBisectionSearchOption, solver_options: pydrake.solvers.mathematicalprogram.SolverOptions, q_inner_pts: Optional[numpy.ndarray[numpy.float64[m, n]]] = None, inner_polytope: Optional[Tuple[numpy.ndarray[numpy.float64[m, n]], numpy.ndarray[numpy.float64[m, 1]]]] = None) -> numpy.ndarray[numpy.float64[m, 1]]\n",
      "\n",
      "Invoked with: <pydrake.multibody.rational_forward_kinematics.CspaceFreeRegion object at 0x7f15bf115bf0>, array([0., 0., 0.]), set(), array([[ 1.00000000e+00,  0.00000000e+00,  0.00000000e+00],\n",
      "       [ 0.00000000e+00,  1.00000000e+00,  0.00000000e+00],\n",
      "       [ 0.00000000e+00,  0.00000000e+00,  1.00000000e+00],\n",
      "       [-1.00000000e+00, -0.00000000e+00, -0.00000000e+00],\n",
      "       [-0.00000000e+00, -1.00000000e+00, -0.00000000e+00],\n",
      "       [-0.00000000e+00, -0.00000000e+00, -1.00000000e+00],\n",
      "       [ 1.55625494e-08,  4.95489590e-08,  1.00000000e+00],\n",
      "       [-9.01101183e-01,  4.33608877e-01,  4.99181102e-07],\n",
      "       [-9.99938968e-01, -1.10480652e-02,  2.23596261e-06],\n",
      "       [ 7.57688004e-08,  8.90282532e-08,  1.00000000e+00],\n",
      "       [-8.96784915e-01,  4.42466740e-01, -6.35603468e-07],\n",
      "       [ 1.08627953e-06, -4.68463205e-08,  1.00000000e+00],\n",
      "       [-8.94101373e-01,  4.47864638e-01,  1.04631744e-06],\n",
      "       [ 3.31132200e-01, -1.66418629e-01, -9.28792929e-01],\n",
      "       [ 2.73720612e-01, -1.38721523e-01, -9.51752786e-01],\n",
      "       [ 3.26714414e-01, -1.65897897e-01, -9.30449128e-01],\n",
      "       [ 3.67521492e-01, -1.87778998e-01, -9.10860582e-01],\n",
      "       [ 8.41197495e-01, -4.03003561e-01,  3.60520325e-01]]), array([1.13833271, 1.55740772, 1.13833271, 1.13833271, 1.55740772,\n",
      "       1.13833271, 0.25155042, 0.22498897, 0.61955785, 0.23181126,\n",
      "       0.20341078, 0.22973583, 0.19854174, 0.37987854, 0.35556008,\n",
      "       0.3280036 , 0.32021011, 0.83744141]), <pydrake.multibody.rational_forward_kinematics.BinarySearchOption object at 0x7f15bf117b30>, <pydrake.solvers.mathematicalprogram.SolverOptions object at 0x7f167bb38d70>\n",
      "Completed 1/5\n"
     ]
    }
   ],
   "source": [
    "#refine with CPP code:\n",
    "cpp_editted_vector_regions = []\n",
    "# for i in range(seed_points.shape[0]):\n",
    "for i in range(1):\n",
    "    s = seed_points[i,:]\n",
    "    region_init = regions[i]\n",
    "    try:\n",
    "        region_init, region = iris_vector_handle(s, region_init)\n",
    "        cpp_editted_vector_regions.append(region)\n",
    "    except Exception as e:\n",
    "        print(e)\n",
    "    print(f\"Completed {i+1}/{seed_points.shape[0]}\")"
   ]
  },
  {
   "cell_type": "code",
   "execution_count": 16,
   "metadata": {},
   "outputs": [
    {
     "name": "stdout",
     "output_type": "stream",
     "text": [
      "[-0.198919   -0.19892    -0.198919   -0.198919   -0.19892    -0.198919\n",
      " -0.1989211  -0.1989215  -0.198922   -0.1989212  -0.19892172 -0.1989217\n",
      " -0.19892176 -0.198922   -0.198921   -0.198922   -0.198921   -0.198921  ]\n"
     ]
    }
   ],
   "source": [
    "d_final = np.array([0.939411,\n",
    "     1.35849,\n",
    "    0.939411,\n",
    "    0.939411,\n",
    "     1.35849,\n",
    "    0.939411,\n",
    "   0.0526289,\n",
    "   0.0260675,\n",
    "    0.420636,\n",
    "   0.0328898,\n",
    "  0.00448928,\n",
    "   0.0308143,\n",
    "-0.000379762,\n",
    "    0.180957,\n",
    "    0.156639,\n",
    "    0.129082,\n",
    "    0.121289,\n",
    "     0.63852])\n",
    "d_without_epsilon= np.array([1.13833,\n",
    " 1.55741,\n",
    " 1.13833,\n",
    " 1.13833,\n",
    " 1.55741,\n",
    " 1.13833,\n",
    " 0.25155,\n",
    "0.224989,\n",
    "0.619558,\n",
    "0.231811,\n",
    "0.203411,\n",
    "0.229736,\n",
    "0.198542,\n",
    "0.379879,\n",
    " 0.35556,\n",
    "0.328004,\n",
    " 0.32021,\n",
    "0.837441])\n",
    "eps_min = np.array(d_final-d_without_epsilon)\n",
    "print(eps_min)"
   ]
  },
  {
   "cell_type": "code",
   "execution_count": 16,
   "metadata": {},
   "outputs": [
    {
     "name": "stderr",
     "output_type": "stream",
     "text": [
      "[2022-01-31 15:40:42.251] [console] [info] Solver time 2.6619720458984375\n",
      "[2022-01-31 15:40:44.826] [console] [info] Solver time 1.0261502265930176\n"
     ]
    },
    {
     "name": "stdout",
     "output_type": "stream",
     "text": [
      "[IRIS +  CERT]: Eps min -0.2652286679481278\n",
      "[IRIS +  CERT]: Region found, vol =  0.6819787390374958 , halfaxis:  [4.86595118 2.17555524 0.58020292]\n"
     ]
    },
    {
     "name": "stderr",
     "output_type": "stream",
     "text": [
      "[2022-01-31 15:40:48.683] [console] [info] Solver time 1.619724988937378\n",
      "[2022-01-31 15:40:48.733] [console] [info] epsilon=-0.1326143339740639 is infeasible\n",
      "[2022-01-31 15:40:53.321] [console] [info] Solver time 1.117055892944336\n",
      "[2022-01-31 15:40:53.401] [console] [info] epsilon=-0.19892150096109587 is feasible\n",
      "[2022-01-31 15:40:53.402] [console] [info] reset eps_min=0.0, eps_max=0.06630716698703196\n"
     ]
    },
    {
     "name": "stdout",
     "output_type": "stream",
     "text": [
      "Completed 1/5\n",
      "[IRIS +  CERT]: Eps min -0.29420562277149487\n",
      "[IRIS +  CERT]: Region found, vol =  0.5535987103063078 , halfaxis:  [4.69487125 2.58579857 0.62326848]\n"
     ]
    },
    {
     "name": "stderr",
     "output_type": "stream",
     "text": [
      "[2022-01-31 15:41:02.811] [console] [info] Solver time 3.412208080291748\n",
      "[2022-01-31 15:41:05.195] [console] [info] Solver time 0.7390580177307129\n",
      "[2022-01-31 15:41:10.948] [console] [info] Solver time 1.3550069332122803\n",
      "[2022-01-31 15:41:11.041] [console] [info] epsilon=-0.14710281138574743 is feasible\n",
      "[2022-01-31 15:41:11.042] [console] [info] reset eps_min=0.0, eps_max=0.14710281138574743\n",
      "[2022-01-31 15:41:16.878] [console] [info] Solver time 2.747184991836548\n",
      "[2022-01-31 15:41:16.951] [console] [info] epsilon=0.07355140569287372 is infeasible\n",
      "[2022-01-31 15:41:24.801] [console] [info] Solver time 3.2756950855255127\n"
     ]
    },
    {
     "name": "stdout",
     "output_type": "stream",
     "text": [
      "Completed 2/5\n",
      "[IRIS +  CERT]: Eps min -0.18879697349162416\n",
      "[IRIS +  CERT]: Region found, vol =  0.2809376750763851 , halfaxis:  [6.30904723 1.28918146 1.83316179]\n"
     ]
    },
    {
     "name": "stderr",
     "output_type": "stream",
     "text": [
      "[2022-01-31 15:41:27.377] [console] [info] Solver time 0.8014249801635742\n",
      "[2022-01-31 15:41:35.025] [console] [info] Solver time 1.7665431499481201\n",
      "[2022-01-31 15:41:35.122] [console] [info] epsilon=-0.09439848674581208 is feasible\n",
      "[2022-01-31 15:41:35.123] [console] [info] reset eps_min=0.0, eps_max=0.09439848674581208\n",
      "[2022-01-31 15:41:40.916] [console] [info] Solver time 2.644279956817627\n",
      "[2022-01-31 15:41:40.986] [console] [info] epsilon=0.04719924337290604 is infeasible\n"
     ]
    },
    {
     "name": "stdout",
     "output_type": "stream",
     "text": [
      "Completed 3/5\n",
      "[IRIS +  CERT]: Eps min -0.3723186551818972\n",
      "[IRIS +  CERT]: Region found, vol =  0.43219436206092116 , halfaxis:  [3.9707394  1.96475249 1.24231085]\n"
     ]
    },
    {
     "name": "stderr",
     "output_type": "stream",
     "text": [
      "[2022-01-31 15:41:52.723] [console] [info] Solver time 5.3282060623168945\n",
      "[2022-01-31 15:41:55.406] [console] [info] Solver time 0.7601940631866455\n",
      "[2022-01-31 15:42:07.151] [console] [info] Solver time 2.5368189811706543\n",
      "[2022-01-31 15:42:07.268] [console] [info] epsilon=-0.1861593275909486 is feasible\n",
      "[2022-01-31 15:42:07.269] [console] [info] reset eps_min=0.0, eps_max=0.1861593275909486\n",
      "[2022-01-31 15:42:19.733] [console] [info] Solver time 2.952458143234253\n",
      "[2022-01-31 15:42:19.850] [console] [info] epsilon=0.0930796637954743 is feasible\n",
      "[2022-01-31 15:42:19.851] [console] [info] reset eps_min=0.0, eps_max=0.09307966379547433\n"
     ]
    },
    {
     "name": "stdout",
     "output_type": "stream",
     "text": [
      "Completed 4/5\n"
     ]
    },
    {
     "name": "stderr",
     "output_type": "stream",
     "text": [
      "[2022-01-31 15:42:31.487] [console] [info] Solver time 4.768555164337158\n"
     ]
    },
    {
     "name": "stdout",
     "output_type": "stream",
     "text": [
      "[IRIS +  CERT]: Eps min -0.33868521538628993\n",
      "[IRIS +  CERT]: Region found, vol =  0.43617411313252785 , halfaxis:  [3.98248604 1.65632853 1.45588804]\n"
     ]
    },
    {
     "name": "stderr",
     "output_type": "stream",
     "text": [
      "[2022-01-31 15:42:34.253] [console] [info] Solver time 0.7434499263763428\n",
      "[2022-01-31 15:42:42.592] [console] [info] Solver time 1.8796329498291016\n",
      "[2022-01-31 15:42:42.727] [console] [info] epsilon=-0.16934260769314496 is feasible\n",
      "[2022-01-31 15:42:42.728] [console] [info] reset eps_min=0.0, eps_max=0.16934260769314502\n",
      "[2022-01-31 15:42:52.439] [console] [info] Solver time 2.5359718799591064\n",
      "[2022-01-31 15:42:52.575] [console] [info] epsilon=0.08467130384657251 is feasible\n",
      "[2022-01-31 15:42:52.576] [console] [info] reset eps_min=0.0, eps_max=0.08467130384657251\n"
     ]
    },
    {
     "name": "stdout",
     "output_type": "stream",
     "text": [
      "Completed 5/5\n"
     ]
    }
   ],
   "source": [
    "#refine with CPP code:\n",
    "cpp_editted_scalar_regions = []\n",
    "for i in range(seed_points.shape[0]):\n",
    "    s = seed_points[i,:]\n",
    "    region_init = regions[i]\n",
    "    region_init, region = iris_scalar_handle(s, region_init)\n",
    "    cpp_editted_scalar_regions.append(region)\n",
    "    print(f\"Completed {i+1}/{seed_points.shape[0]}\")"
   ]
  },
  {
   "cell_type": "code",
   "execution_count": 40,
   "metadata": {},
   "outputs": [],
   "source": [
    "if do_viz:\n",
    "    visualizer.plot_regions(cpp_editted_regions, ellipses=None, region_suffix='cpp_editted_regions')"
   ]
  },
  {
   "cell_type": "code",
   "execution_count": 44,
   "metadata": {},
   "outputs": [
    {
     "name": "stdout",
     "output_type": "stream",
     "text": [
      "snopt_example=[ 0.35244668 -0.19250022 -0.17979872], growth = 1936025801.4851828\n",
      "snopt_example=[ 0.23144445 -0.04062289 -0.46224621], growth = 2688883094.3830557\n",
      "snopt_example=[ 0.2001245  -0.10137361 -0.26895992], growth = 1226658660.3889592\n",
      "snopt_example=[0.         0.         0.22974536], growth = 527829310.38532484\n",
      "snopt_example=[-0.18114806  0.0938193   0.        ], growth = 416166830.35149866\n",
      "snopt_example=[-0.1760171   0.09533373  0.        ], growth = 400705370.23392135\n",
      "snopt_example=[ 0.2157998  -0.11140991 -0.25108731], growth = 1220265554.750688\n",
      "0\n",
      "snopt_example=[ 0.16305709  0.71849721 -0.56308786], growth = 2.899642778747243\n",
      "snopt_example=[-0.60852286 -1.18066191 -0.12769203], growth = 0.6628366692873271\n",
      "1\n",
      "Time:   1.61 \tVolume:   0.56 \tCenter: [ 0.18683057  0.06844461 -0.0630242 ]\n",
      "snopt_example=[ 0.81716573  0.47417491 -0.38295522], growth = 2389296154.6526375\n",
      "snopt_example=[ 0.77694698  0.54947603 -0.40266231], growth = 1702365874.8724155\n",
      "snopt_example=[ 0.44441592  0.7602044  -0.78073607], growth = 1285906239.3917656\n",
      "snopt_example=[ 0.41410039  0.7602044  -0.56906486], growth = 214709572.55277252\n",
      "snopt_example=[ 0.60655129  0.67676032 -0.4359737 ], growth = 409036687.78442574\n",
      "snopt_example=[ 0.4292922   0.75066198 -0.49899708], growth = 59403238.813360214\n",
      "snopt_example=[ 0.45036589  0.74522026 -0.4793169 ], growth = 41797033.76976776\n",
      "snopt_example=[ 0.4583283   0.73809994 -0.47343084], growth = 43155180.078891754\n",
      "snopt_example=[0.42279322 0.7602044  0.22974538], growth = 4258066173.5135317\n",
      "snopt_example=[ 0.04418868  0.80094751 -0.42279322], growth = 1450013985.2998877\n",
      "snopt_example=[ 0.07526752  0.81341769 -0.42279322], growth = 1236057679.9172459\n",
      "snopt_example=[ 0.42320112  0.76969809 -0.49894265], growth = 58890321.493450165\n",
      "0\n",
      "snopt_example=[ 0.31018965  0.0762127  -0.26265028], growth = 1.1207930995534758\n",
      "snopt_example=[ 0.37700391  0.21897156 -0.29813635], growth = 1.1652669677068974\n",
      "snopt_example=[ 0.39765255  0.71659707 -0.49732862], growth = 1.2149974263614307\n",
      "1\n",
      "Time:   1.72 \tVolume:   0.33 \tCenter: [ 0.34225528  0.67800264 -0.12655032]\n",
      "snopt_example=[ 0.57214868  0.13871282 -0.32330624], growth = 5213659746.559234\n",
      "snopt_example=[ 0.20131297  0.48115727 -0.70073369], growth = 231620542.54919243\n",
      "snopt_example=[ 0.06432049  0.48305507 -0.78073597], growth = 95352814.3111782\n",
      "snopt_example=[ 0.14621078  0.48305507 -0.68510279], growth = 92494234.34327507\n",
      "snopt_example=[ 0.12348498  0.47996184 -0.69208816], growth = 54667056.94020939\n",
      "snopt_example=[-0.01507452  0.50183858 -0.68413681], growth = 45929442.59309292\n",
      "snopt_example=[ 3.14672463e-04  4.99248578e-01 -6.84136808e-01], growth = 27350079.544599533\n",
      "snopt_example=[ 0.08534484  0.48305507 -0.69412167], growth = 13460087.211598396\n",
      "snopt_example=[ 0.08111042  0.48027033 -0.67883533], growth = 10011252.220129013\n",
      "0\n",
      "snopt_example=[-0.2879703  -1.02400543 -0.52971261], growth = 0.20980204134292446\n",
      "snopt_example=[-0.16604239 -0.12900286  0.39746036], growth = 5.813067002826035\n",
      "snopt_example=[-0.18327003 -0.24900593  0.22974538], growth = 3.7855377388504112\n",
      "snopt_example=[-0.60757714 -1.55730772 -0.47778695], growth = 2.616982971987138\n",
      "1\n",
      "Time:   1.85 \tVolume:   0.11 \tCenter: [-0.25663607 -0.62805204 -0.41042866]\n",
      "snopt_example=[ 0.06432051  1.02963856 -0.78073598], growth = 2235147260.924505\n",
      "snopt_example=[ 0.16158037  1.02963856 -0.56817958], growth = 707509060.8787098\n",
      "snopt_example=[ 0.652683    0.78517588 -0.39246014], growth = 3717602610.9842243\n",
      "snopt_example=[ 0.52314759  0.87757515 -0.48252531], growth = 2318884981.0217857\n",
      "snopt_example=[0.10033469 1.02963856 0.22974538], growth = 2906089988.5406227\n",
      "snopt_example=[ 0.0525228   1.02785854 -0.30933625], growth = 22891438.837615967\n",
      "snopt_example=[ 0.09599945  1.02980509 -0.30933625], growth = 188218.456035614\n",
      "snopt_example=[ 0.13097458  1.03653497 -0.5611107 ], growth = 643767363.2220688\n",
      "0\n",
      "snopt_example=[ 0.24838318  0.98746185 -0.54753815], growth = 1.129469493202003\n",
      "snopt_example=[ 0.31263626  0.73191533 -0.53233503], growth = 1.1160943707446709\n",
      "snopt_example=[ 0.22020854  0.83088735 -0.55420463], growth = 1.17301055891582\n",
      "snopt_example=[ 0.35796776  0.66527924 -0.50488582], growth = 1.1740083017462517\n",
      "snopt_example=[ 0.35145785  0.18165598 -0.28784105], growth = 1.2111337190542075\n",
      "snopt_example=[ 0.35688346  0.25482246 -0.34136495], growth = 1.2357427886371153\n",
      "snopt_example=[ 0.36595794  0.331826   -0.38185648], growth = 1.2535928219506838\n",
      "snopt_example=[ 0.36259176  0.36789832 -0.40547917], growth = 1.2583630537920723\n",
      "snopt_example=[ 0.37121506  0.40233144 -0.41420061], growth = 1.2602001128717424\n",
      "1\n",
      "Time:   1.77 \tVolume:   0.28 \tCenter: [ 0.34972025  0.78697502 -0.15155169]\n",
      "snopt_example=[ 0.13626802 -1.3452957  -0.59436998], growth = 293878218.1430321\n",
      "snopt_example=[ 0.26826053 -1.39758863 -0.55669217], growth = 55899436.936489105\n",
      "snopt_example=[ 0.27883672 -1.4011881  -0.554774  ], growth = 57034819.58374405\n",
      "snopt_example=[ 0.14874666 -1.3493499  -0.57703757], growth = 225994669.10144043\n",
      "snopt_example=[ 0.20603303 -1.40112381 -0.56754571], growth = 95775496.11170197\n",
      "snopt_example=[ 0.27097483 -1.3999943  -0.54275875], growth = 38115155.70933151\n",
      "snopt_example=[ 0.28198615 -1.40392951 -0.53966589], growth = 39454687.80155945\n",
      "snopt_example=[ 0.25534155 -1.39838262  0.22974538], growth = 5080844692.83519\n",
      "0\n",
      "snopt_example=[ 0.64233116 -0.12387116 -0.09677259], growth = 0.10950383111374462\n",
      "snopt_example=[ 0.23710038 -1.22573052 -0.55622937], growth = 3.1927414908516374\n",
      "snopt_example=[ 0.67875759 -0.2283246  -0.09927144], growth = 0.041228655951794924\n",
      "snopt_example=[ 0.78437597 -0.67737852 -0.12314608], growth = 0.3206581963893447\n",
      "snopt_example=[ 0.27001981 -1.30436898 -0.54548684], growth = 2.965609023443794\n",
      "snopt_example=[ 0.7539088  -0.6877461  -0.11958059], growth = 0.26143190659655424\n",
      "snopt_example=[-0.60757713 -1.55730772  0.17245119], growth = 6.244735717467123\n",
      "snopt_example=[ 0.95949334 -0.16696129 -0.08886147], growth = 0.4525194657209024\n",
      "1\n",
      "Time:   1.84 \tVolume:   0.25 \tCenter: [ 0.29261494 -0.84622812 -0.0410194 ]\n",
      "Time to initialize region program: 3.8189\n",
      "time to create Region Certification Problem: : 3.251\n",
      "Time to initialize region program: 4.2388\n",
      "time to create Region Certification Problem: : 5.5309\n",
      "Time to initialize region program: 4.0676\n",
      "time to create Region Certification Problem: : 4.6758\n",
      "Time to initialize region program: 4.5364\n",
      "time to create Region Certification Problem: : 6.3721\n",
      "Time to initialize region program: 4.5654\n",
      "time to create Region Certification Problem: : 5.9584\n"
     ]
    },
    {
     "data": {
      "text/plain": [
       "{<pydrake.geometry.optimization.HPolyhedron at 0x7f9f7db27530>: <certified_iris_generator.RegionCertificationProblem at 0x7f9f7f87f3d0>,\n",
       " <pydrake.geometry.optimization.HPolyhedron at 0x7f9f7f379e70>: <certified_iris_generator.RegionCertificationProblem at 0x7f9f7f87f730>,\n",
       " <pydrake.geometry.optimization.HPolyhedron at 0x7f9f7da92e70>: <certified_iris_generator.RegionCertificationProblem at 0x7f9f7f87fdf0>,\n",
       " <pydrake.geometry.optimization.HPolyhedron at 0x7f9f7f6fc530>: <certified_iris_generator.RegionCertificationProblem at 0x7f9f7f87fd90>,\n",
       " <pydrake.geometry.optimization.HPolyhedron at 0x7f9f7dc17570>: <certified_iris_generator.RegionCertificationProblem at 0x7f9f7f87c550>}"
      ]
     },
     "execution_count": 44,
     "metadata": {},
     "output_type": "execute_result"
    }
   ],
   "source": [
    "#setup refine with python\n",
    "iris_kwargs = {\n",
    "    'iris_starting_ellipse_vol': 1e-5,\n",
    "    'iris_plane_pullback': 1e-4,\n",
    "    'iris_max_faces': -1\n",
    "}\n",
    "iris_generator = CertifiedIrisRegionGenerator(visualizer.diagram, plant, scene_graph, **iris_kwargs)\n",
    "regions, ellipses = iris_generator.iris_in_rational_space(seed_points)\n",
    "iris_generator.initalize_certifier(plane_order = 1, strict_pos_tol = 1e-4)"
   ]
  },
  {
   "cell_type": "code",
   "execution_count": 45,
   "metadata": {},
   "outputs": [],
   "source": [
    "if do_viz:\n",
    "    visualizer.plot_regions(iris_generator.regions, region_suffix = '_python_snopt')"
   ]
  },
  {
   "cell_type": "code",
   "execution_count": null,
   "metadata": {},
   "outputs": [
    {
     "name": "stdout",
     "output_type": "stream",
     "text": [
      "Starting Region 1/5\n",
      "min_eps = [0. 0. 0. 0. 0. 0. 0. 0. 0. 0. 0. 0. 0. 0. 0.]\n",
      "cur_eps = [0.56916636 0.77870386 0.56916636 0.56916636 0.77870386 0.56916636\n",
      " 0.22000147 0.25927221 0.17511844 0.11487268 0.10200084 0.10008813\n",
      " 0.1746615  0.31397342 0.33108215]\n",
      "max_eps = [1.13833271 1.55740772 1.13833271 1.13833271 1.55740772 1.13833271\n",
      " 0.44000293 0.51854441 0.35023687 0.22974536 0.20400167 0.20017626\n",
      " 0.349323   0.62794684 0.66216431]\n",
      "Biggest difference: 1.5574077246549023\n",
      "Smallest difference: 0.20017626488520598\n",
      "Fixed eps is success\n",
      "\n",
      "min_eps = [0. 0. 0. 0. 0. 0. 0. 0. 0. 0. 0. 0. 0. 0. 0.]\n",
      "cur_eps = [0.28458318 0.38935193 0.28458318 0.28458318 0.38935193 0.28458318\n",
      " 0.11000073 0.1296361  0.08755922 0.05743634 0.05100042 0.05004407\n",
      " 0.08733075 0.15698671 0.16554108]\n",
      "max_eps = [0.56916636 0.77870386 0.56916636 0.56916636 0.77870386 0.56916636\n",
      " 0.22000147 0.25927221 0.17511844 0.11487268 0.10200084 0.10008813\n",
      " 0.1746615  0.31397342 0.33108215]\n",
      "Biggest difference: 0.7787038623274511\n",
      "Smallest difference: 0.10008813244260299\n",
      "Fixed eps is success\n",
      "\n",
      "min_eps = [0. 0. 0. 0. 0. 0. 0. 0. 0. 0. 0. 0. 0. 0. 0.]\n",
      "cur_eps = [0.14229159 0.19467597 0.14229159 0.14229159 0.19467597 0.14229159\n",
      " 0.05500037 0.06481805 0.04377961 0.02871817 0.02550021 0.02502203\n",
      " 0.04366537 0.07849335 0.08277054]\n",
      "max_eps = [0.28458318 0.38935193 0.28458318 0.28458318 0.38935193 0.28458318\n",
      " 0.11000073 0.1296361  0.08755922 0.05743634 0.05100042 0.05004407\n",
      " 0.08733075 0.15698671 0.16554108]\n",
      "Biggest difference: 0.3893519311637256\n",
      "Smallest difference: 0.050044066221301496\n",
      "Fixed eps is success\n",
      "\n",
      "min_eps = [0. 0. 0. 0. 0. 0. 0. 0. 0. 0. 0. 0. 0. 0. 0.]\n",
      "cur_eps = [0.07114579 0.09733798 0.07114579 0.07114579 0.09733798 0.07114579\n",
      " 0.02750018 0.03240903 0.0218898  0.01435909 0.0127501  0.01251102\n",
      " 0.02183269 0.03924668 0.04138527]\n",
      "max_eps = [0.14229159 0.19467597 0.14229159 0.14229159 0.19467597 0.14229159\n",
      " 0.05500037 0.06481805 0.04377961 0.02871817 0.02550021 0.02502203\n",
      " 0.04366537 0.07849335 0.08277054]\n",
      "Biggest difference: 0.1946759655818628\n",
      "Smallest difference: 0.025022033110650748\n",
      "Fixed eps is success\n",
      "\n",
      "min_eps = [0. 0. 0. 0. 0. 0. 0. 0. 0. 0. 0. 0. 0. 0. 0.]\n",
      "cur_eps = [0.0355729  0.04866899 0.0355729  0.0355729  0.04866899 0.0355729\n",
      " 0.01375009 0.01620451 0.0109449  0.00717954 0.00637505 0.00625551\n",
      " 0.01091634 0.01962334 0.02069263]\n",
      "max_eps = [0.07114579 0.09733798 0.07114579 0.07114579 0.09733798 0.07114579\n",
      " 0.02750018 0.03240903 0.0218898  0.01435909 0.0127501  0.01251102\n",
      " 0.02183269 0.03924668 0.04138527]\n",
      "Biggest difference: 0.0973379827909314\n",
      "Smallest difference: 0.012511016555325374\n"
     ]
    }
   ],
   "source": [
    "# refine with python\n",
    "do_linesearch_cert = True\n",
    "if do_linesearch_cert:\n",
    "    iris_generator.certify_and_adjust_regions_by_linesearch(1e-5)"
   ]
  },
  {
   "cell_type": "code",
   "execution_count": null,
   "metadata": {},
   "outputs": [],
   "source": [
    "if do_viz:\n",
    "    visualizer.plot_regions(iris_generator.linesearch_regions, region_suffix = '_new_by_linesearch')"
   ]
  },
  {
   "cell_type": "code",
   "execution_count": null,
   "metadata": {},
   "outputs": [],
   "source": [
    "\n"
   ]
  },
  {
   "cell_type": "code",
   "execution_count": null,
   "metadata": {},
   "outputs": [],
   "source": []
  }
 ],
 "metadata": {
  "interpreter": {
   "hash": "916dbcbb3f70747c44a77c7bcd40155683ae19c65e1c03b4aa3499c5328201f1"
  },
  "kernelspec": {
   "display_name": "Python 3",
   "language": "python",
   "name": "python3"
  },
  "language_info": {
   "codemirror_mode": {
    "name": "ipython",
    "version": 3
   },
   "file_extension": ".py",
   "mimetype": "text/x-python",
   "name": "python",
   "nbconvert_exporter": "python",
   "pygments_lexer": "ipython3",
   "version": "3.8.10"
  }
 },
 "nbformat": 4,
 "nbformat_minor": 2
}
