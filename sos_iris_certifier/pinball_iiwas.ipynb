{
 "cells": [
  {
   "cell_type": "code",
   "execution_count": 1,
   "metadata": {},
   "outputs": [],
   "source": [
    "%load_ext autoreload"
   ]
  },
  {
   "cell_type": "code",
   "execution_count": 2,
   "metadata": {},
   "outputs": [],
   "source": [
    "from certified_iris_generator import CertifiedIrisRegionGenerator\n",
    "import sys\n",
    "import os\n",
    "import time\n",
    "import numpy as np\n",
    "from functools import partial\n",
    "import itertools\n",
    "import mcubes\n",
    "import visualizations_utils as viz_utils\n",
    "import iris_utils #TODO remove\n",
    "from iris_plant_visualizer import IrisPlantVisualizer\n",
    "import ipywidgets as widgets\n",
    "from IPython.display import display\n",
    "from sandbox import rrtiris"
   ]
  },
  {
   "cell_type": "code",
   "execution_count": 3,
   "metadata": {},
   "outputs": [],
   "source": [
    "#pydrake imports\n",
    "from pydrake.common import FindResourceOrThrow\n",
    "from pydrake.multibody.parsing import LoadModelDirectives, Parser, ProcessModelDirectives\n",
    "from pydrake.multibody.plant import MultibodyPlant, AddMultibodyPlantSceneGraph\n",
    "from pydrake.systems.framework import DiagramBuilder\n",
    "from pydrake.all import InverseKinematics, RevoluteJoint, RationalForwardKinematics\n",
    "from pydrake.geometry.optimization import IrisOptionsRationalSpace, IrisInRationalConfigurationSpace, HPolyhedron, Hyperellipsoid\n",
    "from pydrake.geometry import Role, GeometrySet, CollisionFilterDeclaration\n",
    "import pydrake.symbolic as sym\n",
    "from pydrake.all import MathematicalProgram, RigidTransform, RollPitchYaw\n",
    "import meshcat\n",
    "from pydrake.all import GenerateSeedingPolytope, GenerateRandomSeedingPolytope\n",
    "import pydrake.multibody.rational_forward_kinematics as rational_forward_kinematics\n",
    "from pydrake.multibody.rational_forward_kinematics import FindEpsilonLower, FindEpsilonLowerVector, FindEpsilonUpperVector\n",
    "from pydrake.solvers import mathematicalprogram as mp\n",
    "from pydrake.all import MosekSolver, MosekSolverDetails, FindEpsTilCollisionOrRedundantForAllIneqs\n",
    "from time import time"
   ]
  },
  {
   "cell_type": "markdown",
   "metadata": {},
   "source": [
    "# Build Plant\n"
   ]
  },
  {
   "cell_type": "code",
   "execution_count": 4,
   "metadata": {},
   "outputs": [],
   "source": [
    "q0 = [0.0, 0.0, 0.0]\n",
    "q_low  = [-1.7, -2., -1.7]\n",
    "q_high = [ 1.7,  2.,  1.7]\n"
   ]
  },
  {
   "cell_type": "code",
   "execution_count": 5,
   "metadata": {},
   "outputs": [],
   "source": [
    "builder = DiagramBuilder()\n",
    "plant, scene_graph = AddMultibodyPlantSceneGraph(builder, time_step=0.001)\n",
    "parser = Parser(plant)\n",
    "oneDOF_iiwa_asset = FindResourceOrThrow(\"drake/sos_iris_certifier/assets/oneDOF_iiwa7_with_box_collision.sdf\")\n",
    "twoDOF_iiwa_asset = FindResourceOrThrow(\"drake/sos_iris_certifier/assets/twoDOF_iiwa7_with_box_collision.sdf\")"
   ]
  },
  {
   "cell_type": "code",
   "execution_count": 6,
   "metadata": {},
   "outputs": [],
   "source": [
    "box_asset = FindResourceOrThrow(\"drake/sos_iris_certifier/assets/box_small.urdf\")\n",
    "\n",
    "models = []\n",
    "models.append(parser.AddModelFromFile(box_asset))\n",
    "models.append(parser.AddModelFromFile(twoDOF_iiwa_asset))\n",
    "models.append(parser.AddModelFromFile(oneDOF_iiwa_asset))\n",
    "\n",
    "\n",
    "\n",
    "locs = [[0.,0.,0.],[0.,.5,0.],[0.,-.5,0.]]\n",
    "plant.WeldFrames(plant.world_frame(), plant.GetFrameByName(\"base\", models[0]), RigidTransform(locs[0]))\n",
    "plant.WeldFrames(plant.world_frame(), plant.GetFrameByName(\"iiwa_twoDOF_link_0\", models[1]), RigidTransform(RollPitchYaw([0,0, -np.pi/2]).ToRotationMatrix(), locs[1]))\n",
    "plant.WeldFrames(plant.world_frame(), plant.GetFrameByName(\"iiwa_oneDOF_link_0\", models[2]), RigidTransform(RollPitchYaw([0,0, -np.pi/2]).ToRotationMatrix(), locs[2]))\n",
    "\n",
    "\n",
    "plant.Finalize()\n",
    "\n",
    "idx = 0\n",
    "for model in models:\n",
    "    for joint_index in plant.GetJointIndices(model):\n",
    "        joint = plant.get_mutable_joint(joint_index)\n",
    "        if isinstance(joint, RevoluteJoint):\n",
    "            joint.set_default_angle(q0[idx])\n",
    "            joint.set_position_limits(lower_limits= np.array([q_low[idx]]), upper_limits= np.array([q_high[idx]]))\n",
    "            idx += 1\n",
    "        \n",
    "            \n",
    "#q_low = plant.GetPositionLowerLimits().tolist()\n",
    "#q_high = plant.GetPositionUpperLimits().tolist()\n",
    "\n",
    "Ratfk = RationalForwardKinematics(plant)\n"
   ]
  },
  {
   "cell_type": "code",
   "execution_count": 7,
   "metadata": {},
   "outputs": [
    {
     "name": "stdout",
     "output_type": "stream",
     "text": [
      "You can open the visualizer by visiting the following URL:\n",
      "http://127.0.0.1:7023/static/\n",
      "You can open the visualizer by visiting the following URL:\n",
      "http://127.0.0.1:7024/static/\n",
      "Connecting to meshcat-server at zmq_url=tcp://127.0.0.1:6023...\n",
      "You can open the visualizer by visiting the following URL:\n",
      "http://127.0.0.1:7023/static/\n",
      "Connected to meshcat-server.\n"
     ]
    }
   ],
   "source": [
    "do_viz = True\n",
    "visualizer = IrisPlantVisualizer(plant, builder, scene_graph, viz_role=Role.kIllustration)\n",
    "diagram = visualizer.diagram\n",
    "visualizer.visualize_collision_constraint(N = 30)"
   ]
  },
  {
   "cell_type": "code",
   "execution_count": 8,
   "metadata": {
    "scrolled": false
   },
   "outputs": [
    {
     "data": {
      "application/vnd.jupyter.widget-view+json": {
       "model_id": "c2fb7fbc04c84d338f8b55cd33d2b87f",
       "version_major": 2,
       "version_minor": 0
      },
      "text/plain": [
       "FloatSlider(value=0.0, description='q0', max=1.7, min=-1.7)"
      ]
     },
     "metadata": {},
     "output_type": "display_data"
    },
    {
     "data": {
      "application/vnd.jupyter.widget-view+json": {
       "model_id": "154b3ce0725042af80442816e181be96",
       "version_major": 2,
       "version_minor": 0
      },
      "text/plain": [
       "FloatSlider(value=0.0, description='q1', max=2.0, min=-2.0)"
      ]
     },
     "metadata": {},
     "output_type": "display_data"
    },
    {
     "data": {
      "application/vnd.jupyter.widget-view+json": {
       "model_id": "1379a22d176d4b28a90044a83865cdbb",
       "version_major": 2,
       "version_minor": 0
      },
      "text/plain": [
       "FloatSlider(value=0.0, description='q2', max=1.7, min=-1.7)"
      ]
     },
     "metadata": {},
     "output_type": "display_data"
    },
    {
     "data": {
      "text/html": [
       "\n",
       "            <div style=\"height: 400px; width: 100%; overflow-x: auto; overflow-y: hidden; resize: both\">\n",
       "            <iframe src=\"http://127.0.0.1:7023/static/\" style=\"width: 100%; height: 100%; border: none\"></iframe>\n",
       "            </div>\n",
       "            "
      ],
      "text/plain": [
       "<IPython.core.display.HTML object>"
      ]
     },
     "metadata": {},
     "output_type": "display_data"
    },
    {
     "data": {
      "text/html": [
       "\n",
       "            <div style=\"height: 400px; width: 100%; overflow-x: auto; overflow-y: hidden; resize: both\">\n",
       "            <iframe src=\"http://127.0.0.1:7024/static/\" style=\"width: 100%; height: 100%; border: none\"></iframe>\n",
       "            </div>\n",
       "            "
      ],
      "text/plain": [
       "<IPython.core.display.HTML object>"
      ]
     },
     "metadata": {},
     "output_type": "display_data"
    }
   ],
   "source": [
    "sliders = []\n",
    "sliders.append(widgets.FloatSlider(min=q_low[0], max=q_high[0], value=0, description='q0'))\n",
    "sliders.append(widgets.FloatSlider(min=q_low[1], max=q_high[1], value=0, description='q1'))\n",
    "sliders.append(widgets.FloatSlider(min=q_low[2], max=q_high[2], value=0, description='q2'))\n",
    "\n",
    "q = q0.copy()\n",
    "def handle_slider_change(change, idx):\n",
    "    q[idx] = change['new']\n",
    "    #print(q, end=\"\\r\")\n",
    "    visualizer.showres(q)\n",
    "    \n",
    "idx = 0\n",
    "for slider in sliders:\n",
    "    slider.observe(partial(handle_slider_change, idx = idx), names='value')\n",
    "    idx+=1\n",
    "\n",
    "for slider in sliders:\n",
    "    display(slider)\n",
    "\n",
    "visualizer.jupyter_cell()"
   ]
  },
  {
   "cell_type": "code",
   "execution_count": 9,
   "metadata": {
    "scrolled": true
   },
   "outputs": [
    {
     "name": "stdout",
     "output_type": "stream",
     "text": [
      "150 -> 150\n",
      "137 -> 150\n"
     ]
    }
   ],
   "source": [
    "#filter fused joints self collisions \n",
    "digaram = visualizer.diagram\n",
    "context = visualizer.diagram_context\n",
    "plant_context = visualizer.plant_context\n",
    "sg_context = scene_graph.GetMyContextFromRoot(context)\n",
    "inspector = scene_graph.model_inspector()\n",
    "\n",
    "pairs = scene_graph.get_query_output_port().Eval(sg_context).inspector().GetCollisionCandidates()\n",
    "print(len(inspector.GetCollisionCandidates()), \"->\", len(pairs))\n",
    "\n",
    "gids = [gid for gid in inspector.GetGeometryIds(GeometrySet(inspector.GetAllGeometryIds()), Role.kProximity)]\n",
    "get_name_of_gid = lambda gid : inspector.GetName(gid)\n",
    "gids.sort(key=get_name_of_gid)\n",
    "iiwa_oneDOF_gids = [gid for gid in gids if \"iiwa7_oneDOF::\" in get_name_of_gid(gid)]\n",
    "iiwa_twoDOF_gids = [gid for gid in gids if \"iiwa7_twoDOF::\" in get_name_of_gid(gid)]\n",
    "\n",
    "oneDOF_fused_col_geom = iiwa_oneDOF_gids[2:]\n",
    "iiwa_oneDOF_fused_set = GeometrySet(oneDOF_fused_col_geom)\n",
    "twoDOF_fused_col_geom = iiwa_twoDOF_gids[4:]\n",
    "iiwa_twoDOF_fused_set = GeometrySet(twoDOF_fused_col_geom)\n",
    "# print([get_name_of_gid(gid) for gid in oneDOF_fused_col_geom])\n",
    "# print([get_name_of_gid(gid) for gid in twoDOF_fused_col_geom])\n",
    "scene_graph.collision_filter_manager()\\\n",
    "            .Apply(CollisionFilterDeclaration().ExcludeWithin(iiwa_oneDOF_fused_set))\n",
    "scene_graph.collision_filter_manager()\\\n",
    "            .Apply(CollisionFilterDeclaration().ExcludeWithin(iiwa_twoDOF_fused_set))\n",
    "pairs = scene_graph.get_query_output_port().Eval(sg_context).inspector().GetCollisionCandidates()\n",
    "print(len(inspector.GetCollisionCandidates()), \"->\", len(pairs))"
   ]
  },
  {
   "cell_type": "code",
   "execution_count": null,
   "metadata": {},
   "outputs": [],
   "source": []
  },
  {
   "cell_type": "markdown",
   "metadata": {},
   "source": [
    "# Setup IRIS Options and Generate Regions"
   ]
  },
  {
   "cell_type": "code",
   "execution_count": 10,
   "metadata": {},
   "outputs": [],
   "source": [
    "# seed_points_q = np.array([[0.0, 0, 0], # zero config\n",
    "#                         [0.0, -1.3, -1.3],  # start\n",
    "#                         [0.9, -1.5, -0.8]     # goal\n",
    "#                          ])\n",
    "seed_points_q = np.array([#[0.0, 0, 0], # zero config\n",
    "                        #[0.8, 1.3, -0.8],  # START: blue low green up\n",
    "                        #[0.1, 0.9, -1.2],     # GOAL: green low other up\n",
    "                        #[0.2, 1.6, -0.6],\n",
    "                        [0.5, -1.9, -0.9],\n",
    "                          #[-0.6,-1.3,-0.3],\n",
    "                          [-0.9,-1.7,-1.3],\n",
    "                          #[1.30, 1.50, -0.1],\n",
    "                         ])[:,(0,1,2)]   # passing\n",
    "\n",
    "\n",
    "seed_points = np.array([Ratfk.ComputeTValue(seed_points_q[idx], np.zeros((3,)))\\\n",
    "                        for idx in range(seed_points_q.shape[0])])\n",
    "if do_viz:\n",
    "    visualizer.plot_seedpoints(seed_points)\n",
    "\n",
    "start = seed_points[1,:]\n",
    "goal = seed_points[0,:]#seed_points[2,:]\n",
    "\n",
    "#compute limits in t-space\n",
    "limits_t = []\n",
    "for q in [q_low, q_high]:\n",
    "    limits_t.append(Ratfk.ComputeTValue(np.array(q), np.zeros((3,)) ))\n",
    "    \n",
    "starting_poly = HPolyhedron.MakeBox(limits_t[0], limits_t[1])\n",
    "context = diagram.CreateDefaultContext()\n",
    "q_star = np.zeros(3)\n",
    "def check_empty_polytope(C, d):\n",
    "    prog = MathematicalProgram()\n",
    "    t = prog.NewContinuousVariables(C.shape[1], \"t\")\n",
    "\n",
    "    prog.AddLinearConstraint(C,-np.inf*np.ones(C.shape[0]), d, t)\n",
    "    prog.AddBoundingBoxConstraint(limits_t[0], limits_t[1], t)\n",
    "    result = MosekSolver().Solve(prog)\n",
    "    return result.is_success(), result.get_solution_result()"
   ]
  },
  {
   "cell_type": "code",
   "execution_count": 11,
   "metadata": {},
   "outputs": [
    {
     "data": {
      "text/plain": [
       "(2, 3)"
      ]
     },
     "execution_count": 11,
     "metadata": {},
     "output_type": "execute_result"
    }
   ],
   "source": [
    "seed_points.shape\n"
   ]
  },
  {
   "cell_type": "code",
   "execution_count": 12,
   "metadata": {},
   "outputs": [],
   "source": [
    "# RUN THIS CELL IF YOU WANT TO DO SNOPT IRIS\n",
    "\n",
    "# regions = []\n",
    "\n",
    "# iris_options = IrisOptionsRationalSpace()\n",
    "# iris_options.require_sample_point_is_contained = True\n",
    "# iris_options.iteration_limit = 20\n",
    "# iris_options.configuration_space_margin = 1e-5\n",
    "# iris_options.max_faces_per_collision_pair = 60\n",
    "# iris_options.termination_threshold = -1\n",
    "# iris_options.q_star = np.zeros(3)\n",
    "# iris_options.relative_termination_threshold = 0.05\n",
    "# iris_options.enable_ibex = False\n",
    "# #deprecated\n",
    "# iris_options.certify_region_with_sos_during_generation = False\n",
    "# iris_options.certify_region_with_sos_after_generation = False\n",
    "\n",
    "# for i, s in enumerate(seed_points):\n",
    "#     plant.SetPositions(plant.GetMyMutableContextFromRoot(context), s)\n",
    "#     if False:\n",
    "#         #starting_hpolyhedron = regions[i-1]\n",
    "#         r = IrisInRationalConfigurationSpace (plant, plant.GetMyContextFromRoot(context),\n",
    "#                                               iris_options, starting_hpolyhedron)\n",
    "#     else:\n",
    "#         r = IrisInRationalConfigurationSpace(plant, plant.GetMyContextFromRoot(context), iris_options)\n",
    "#     regions.append(r)\n",
    "#     print(f'Completed region: {i+1}/{len(seed_points)}')\n",
    "#     print(f\"Sample point contained = {np.all(r.A()@s <= r.b())}\")\n",
    "#     print(f\"Sample point contained componentwise = {r.A()@s <= r.b()}\")\n",
    "#     print()"
   ]
  },
  {
   "cell_type": "code",
   "execution_count": 13,
   "metadata": {},
   "outputs": [],
   "source": [
    "# if do_viz:\n",
    "#     visualizer.plot_regions(regions, ellipses=None, region_suffix='original')"
   ]
  },
  {
   "cell_type": "markdown",
   "metadata": {},
   "source": [
    "## Create default region"
   ]
  },
  {
   "cell_type": "code",
   "execution_count": 14,
   "metadata": {},
   "outputs": [],
   "source": [
    "regions_default = []\n",
    "max_vects = []\n",
    "min_vects = []\n",
    "vector_bisection_options_list = []\n",
    "bilinear_alteration_options_list = []\n",
    "interleaved_options_list = []\n",
    "\n",
    "#parameters for creating a default region. Currently set to create a box\n",
    "# num_perm_dim = 0\n",
    "# num_rot = 1\n",
    "\n",
    "num_unit_box_copies = 2\n",
    "initial_box_scale = 0.25\n",
    "gaussian_variance = 0.1\n",
    "\n",
    "for i, s in enumerate(seed_points):\n",
    "#     regions_default.append(GenerateSeedingPolytope(s, num_perm_dim, num_rot))\n",
    "    regions_default.append(GenerateRandomSeedingPolytope(s,\n",
    "                                     num_unit_box_copies,\n",
    "                                     initial_box_scale,\n",
    "                                     gaussian_variance))\n",
    "    eps_min_vect = FindEpsilonLowerVector(regions_default[i].A(), \n",
    "                                      regions_default[i].b(), \n",
    "                                      limits_t[0], limits_t[1], s)\n",
    "    \n",
    "    min_vects.append(eps_min_vect)\n",
    "    \n",
    "#     eps_max_vect = FindEpsTilCollisionOrRedundantForAllIneqs(plant,\n",
    "# #                                                              context,\n",
    "#                                                              plant.GetMyMutableContextFromRoot(context), \n",
    "#                                 q_star, regions_default[i].A(), regions_default[i].b(), \n",
    "# #                                          eps_min_vect, \n",
    "#                                                              limits_t[0], limits_t[1], s)\n",
    "    eps_max_vect = 10*regions_default[i].b()\n",
    "    max_vects.append(eps_max_vect)\n",
    "    \n",
    "    vector_bisection_search_options = rational_forward_kinematics.VectorBisectionSearchOption()\n",
    "    vector_bisection_search_options.max_iters = 10\n",
    "    vector_bisection_search_options.max_feasible_iters = 5\n",
    "    vector_bisection_search_options.search_d = True\n",
    "    vector_bisection_search_options.epsilon_min = np.zeros_like(regions_default[i].b())\n",
    "    vector_bisection_search_options.epsilon_max = eps_max_vect\n",
    "    vector_bisection_search_options.num_threads = -1\n",
    "    vector_bisection_options_list.append(vector_bisection_search_options)\n",
    "    \n",
    "    bilinear_alternation_options = rational_forward_kinematics.BilinearAlternationOption()\n",
    "    bilinear_alternation_options.max_iters = 20\n",
    "    bilinear_alternation_options.lagrangian_backoff_scale = 0\n",
    "    bilinear_alternation_options.polytope_backoff_scale = 0\n",
    "    bilinear_alternation_options.num_threads = -1\n",
    "    bilinear_alteration_options_list.append(bilinear_alternation_options)\n",
    "    \n",
    "    binary_search_option = rational_forward_kinematics.BinarySearchOption()\n",
    "    binary_search_option.epsilon_max = 5\n",
    "    binary_search_option.epsilon_min = FindEpsilonLower(regions_default[i].A(), \n",
    "                                                        regions_default[i].b()+eps_min_vect, \n",
    "                                                        limits_t[0], limits_t[1], s)\n",
    "    binary_search_option.max_iters = 10\n",
    "    binary_search_option.search_d = True\n",
    "    binary_search_option.num_threads = 4\n",
    "    \n",
    "    interleaved_options = rational_forward_kinematics.InterleavedRegionSearchOptions()\n",
    "    interleaved_options.scalar_binary_search_options = binary_search_option\n",
    "    interleaved_options.vector_bisection_search_options = vector_bisection_search_options\n",
    "    interleaved_options.bilinear_alternation_options = bilinear_alternation_options\n",
    "    #actually does round robin\n",
    "    interleaved_options.max_method_switch = 3\n",
    "    interleaved_options_list.append(interleaved_options)\n",
    "    \n",
    "    \n",
    "num_round_robin_rounds = 1\n",
    "\n",
    "if do_viz:\n",
    "    visualizer.plot_regions(regions_default, ellipses=None, region_suffix='_default')\n",
    "    "
   ]
  },
  {
   "cell_type": "code",
   "execution_count": 15,
   "metadata": {},
   "outputs": [
    {
     "data": {
      "text/plain": [
       "(2, 3)"
      ]
     },
     "execution_count": 15,
     "metadata": {},
     "output_type": "execute_result"
    }
   ],
   "source": [
    "seed_points.shape\n"
   ]
  },
  {
   "cell_type": "code",
   "execution_count": 16,
   "metadata": {},
   "outputs": [],
   "source": [
    "# i = 1\n",
    "# s = seed_points[i,:]\n",
    "# C, d = regions_default[i].A(), regions_default[i].b()\n",
    "\n",
    "# eps_min_vect = FindEpsilonLowerVector(regions_default[i].A(), \n",
    "#                                       regions_default[i].b(), \n",
    "#                                       limits_t[0], limits_t[1], s)\n",
    "# # eps_max_vect = FindEpsTilCollisionOrRedundantForAllIneqs(plant,plant.GetMyMutableContextFromRoot(context), \n",
    "# #                                 q_star, regions_default[i].A(), regions_default[i].b()+eps_min_vect, \n",
    "# #                                                     limits_t[0], limits_t[1], s)\n",
    "\n",
    "\n",
    "# binary_search_option = rational_forward_kinematics.BinarySearchOption()\n",
    "# binary_search_option.epsilon_max = 5\n",
    "# binary_search_option.epsilon_min = FindEpsilonLower(C, d+eps_min_vect, limits_t[0], limits_t[1], s)\n",
    "# binary_search_option.max_iters = 10\n",
    "# binary_search_option.search_d = True\n",
    "# binary_search_option.num_threads = -1\n",
    "\n",
    "# vector_bisection_search_options = rational_forward_kinematics.VectorBisectionSearchOption()\n",
    "# vector_bisection_search_options.max_iters = 10\n",
    "# vector_bisection_search_options.max_feasible_iters = 5\n",
    "# vector_bisection_search_options.search_d = True\n",
    "# vector_bisection_search_options.epsilon_min = np.zeros_like(d)\n",
    "# vector_bisection_search_options.epsilon_max = 5*np.abs(eps_min_vect)\n",
    "# vector_bisection_search_options.num_threads = -1\n",
    "# vector_bisection_options_list.append(vector_bisection_search_options)\n",
    "\n",
    "# bilinear_alternation_options = rational_forward_kinematics.BilinearAlternationOption()\n",
    "# bilinear_alternation_options.max_iters = 5\n",
    "# bilinear_alternation_options.lagrangian_backoff_scale = 0\n",
    "# bilinear_alternation_options.polytope_backoff_scale = 0\n",
    "# bilinear_alternation_options.num_threads = -1\n",
    "# bilinear_alteration_options_list.append(bilinear_alternation_options)\n",
    "\n",
    "# interleaved_options = rational_forward_kinematics.InterleavedRegionSearchOptions()\n",
    "# interleaved_options.scalar_binary_search_options = binary_search_option\n",
    "# interleaved_options.vector_bisection_search_options = vector_bisection_search_options\n",
    "# interleaved_options.bilinear_alternation_options = bilinear_alternation_options\n",
    "# #actually does round robin\n",
    "# interleaved_options.max_method_switch = 1\n",
    "\n",
    "# # vector_bisection_search_options = vector_bisection_options_list[i]\n",
    "# # interleaved_options = interleaved_options_list[i]\n",
    "# # r_moved_list = []\n",
    "# # for j in range(len(d)):\n",
    "# #     d_new = d.copy()\n",
    "# #     d_new[j] += eps_max_vect[j]\n",
    "# #     r_moved_list.append(HPolyhedron(C, d_new))\n",
    "# # if do_viz:\n",
    "# #     visualizer.plot_regions(r_moved_list, ellipses=None, region_suffix=f'_default_{i}_maxed')\n",
    "# # if do_viz:\n",
    "# #     visualizer.plot_regions([HPolyhedron(C, d+0.99*eps_max_vect)], ellipses=None, region_suffix=f'_all_{i}_maxed')"
   ]
  },
  {
   "cell_type": "code",
   "execution_count": 17,
   "metadata": {},
   "outputs": [],
   "source": [
    "# #plot the new polytopes which each individual face moved\n",
    "# if do_viz:\n",
    "#     for i, r in enumerate(regions_default):\n",
    "#         C, d = r.A(), r.b()\n",
    "#         eps_max = vector_bisection_options_list[i].epsilon_max\n",
    "#         r_moved_list = []\n",
    "#         for j in range(len(d)):\n",
    "#             d_new = d.copy()\n",
    "#             d_new[j] += eps_max[j]\n",
    "#             r_moved_list.append(HPolyhedron(C, d_new))\n",
    "#         if do_viz:\n",
    "#             visualizer.plot_regions(r_moved_list, ellipses=None, region_suffix=f'_default_{i}_maxed')\n",
    "#         if do_viz:\n",
    "#             visualizer.plot_regions([HPolyhedron(C, d+0.99*eps_max)], ellipses=None, region_suffix=f'_all_{i}_maxed')"
   ]
  },
  {
   "cell_type": "markdown",
   "metadata": {},
   "source": [
    "## Run Cspace Free Region"
   ]
  },
  {
   "cell_type": "code",
   "execution_count": 18,
   "metadata": {},
   "outputs": [],
   "source": [
    "cspace_free_region = rational_forward_kinematics.CspaceFreeRegion(diagram, plant, scene_graph,\n",
    "                                   rational_forward_kinematics.SeparatingPlaneOrder.kAffine,\n",
    "                                   rational_forward_kinematics.CspaceRegionType.kGenericPolytope)\n",
    "filtered_collision_pairs = set()\n",
    "solver_options = mp.SolverOptions()\n",
    "# solver_options.SetOption(mp.CommonSolverOption.kPrintToConsole, 1)"
   ]
  },
  {
   "cell_type": "code",
   "execution_count": null,
   "metadata": {},
   "outputs": [],
   "source": []
  },
  {
   "cell_type": "code",
   "execution_count": 19,
   "metadata": {},
   "outputs": [],
   "source": [
    "# cspace_free_region_solution_binary_search = cspace_free_region.CspacePolytopeBinarySearch(q_star,\n",
    "#                                                                      filtered_collision_pairs,\n",
    "#                                                                      C, d+eps_min_vect, binary_search_option, \n",
    "#                                                                      solver_options, s)"
   ]
  },
  {
   "cell_type": "code",
   "execution_count": 20,
   "metadata": {},
   "outputs": [],
   "source": [
    "# C, d = cspace_free_region_solution_binary_search.C, cspace_free_region_solution_binary_search.d\n",
    "# interleaved_options.vector_bisection_search_options.epsilon_min = np.zeros(d.shape)\n",
    "# r = HPolyhedron(np.vstack([starting_poly.A(),cspace_free_region_solution_binary_search.C]),\n",
    "#                 np.hstack([starting_poly.b(), cspace_free_region_solution_binary_search.d])\n",
    "#                 )\n",
    "# e = Hyperellipsoid(np.linalg.inv(cspace_free_region_solution_binary_search.P), \n",
    "#                    cspace_free_region_solution_binary_search.q)\n",
    "# if do_viz:\n",
    "#     visualizer.plot_regions([r], \n",
    "#                             ellipses=[e], region_suffix='_binary_search_single')"
   ]
  },
  {
   "cell_type": "code",
   "execution_count": 21,
   "metadata": {},
   "outputs": [],
   "source": [
    "# t0 = time()\n",
    "# cspace_free_region_solution_interleaved = cspace_free_region.InterleavedCSpacePolytopeSearch(q_star,\n",
    "#                                                                      filtered_collision_pairs,\n",
    "#                                                                      C, d, num_round_robin_rounds, \n",
    "#                                                                      interleaved_options,\n",
    "#                                                                      solver_options, s, \n",
    "#                                                                      context = plant.GetMyMutableContextFromRoot(context))\n",
    "# t1 = time()\n"
   ]
  },
  {
   "cell_type": "code",
   "execution_count": 22,
   "metadata": {},
   "outputs": [],
   "source": [
    "# print(f\"Completed points in {t1-t0}s\")"
   ]
  },
  {
   "cell_type": "code",
   "execution_count": 23,
   "metadata": {},
   "outputs": [],
   "source": [
    "# r = HPolyhedron(np.vstack([starting_poly.A(),cspace_free_region_solution_interleaved.C]),\n",
    "#                 np.hstack([starting_poly.b(), cspace_free_region_solution_interleaved.d])\n",
    "#                 )\n",
    "# # e = Hyperellipsoid(np.linalg.inv(cspace_free_region_solution_interleaved.P), \n",
    "# #                    cspace_free_region_solution_interleaved.q)\n",
    "\n",
    "# if do_viz:\n",
    "#     visualizer.plot_regions([r], \n",
    "#                             ellipses=None, region_suffix='_interleaved_single')"
   ]
  },
  {
   "cell_type": "code",
   "execution_count": 24,
   "metadata": {},
   "outputs": [],
   "source": [
    "# check_empty_polytope(r.A(), r.b())"
   ]
  },
  {
   "cell_type": "code",
   "execution_count": 25,
   "metadata": {},
   "outputs": [],
   "source": [
    "# r = HPolyhedron(np.vstack([starting_poly.A(),cspace_free_region_solution_round_robin.C]),\n",
    "#                 np.hstack([starting_poly.b(), cspace_free_region_solution_round_robin.d])\n",
    "#                 )\n",
    "# e = Hyperellipsoid(np.linalg.inv(cspace_free_region_solution_round_robin.P), \n",
    "#                    cspace_free_region_solution_round_robin.q)\n",
    "# if do_viz:\n",
    "#     visualizer.plot_regions([r], \n",
    "#                             ellipses=[e], region_suffix='_round_robin_single')"
   ]
  },
  {
   "cell_type": "code",
   "execution_count": null,
   "metadata": {
    "scrolled": true
   },
   "outputs": [
    {
     "name": "stderr",
     "output_type": "stream",
     "text": [
      "[2022-02-13 19:17:51.566] [console] [info] starting binary search\n",
      "[2022-02-13 19:17:51.566] [console] [info] starting binary search\n",
      "[2022-02-13 19:17:52.385] [console] [warning] Cannot find Lagrangian multiplier and separating planes for \n",
      "(box_scene::box1_Collision@000000000306a5d8, iiwa7_twoDOF::iiwa_twoDOF_link_2_collision)\n",
      "(box_scene::box1_Collision@000000000306a5d8, iiwa7_twoDOF::iiwa_twoDOF_link_4_collision)\n",
      "(box_scene::box1_Collision@000000000306a5d8, iiwa7_twoDOF::iiwa_twoDOF_link_5_collision)\n",
      "\n"
     ]
    },
    {
     "name": "stdout",
     "output_type": "stream",
     "text": [
      "2\n"
     ]
    },
    {
     "name": "stderr",
     "output_type": "stream",
     "text": [
      "[2022-02-13 19:17:52.534] [console] [warning] Cannot find Lagrangian multiplier and separating planes for \n",
      "(box_scene::box1_Collision@000000000306a5d8, iiwa7_twoDOF::iiwa_twoDOF_link_2_collision)\n",
      "(box_scene::box1_Collision@000000000306a5d8, iiwa7_twoDOF::iiwa_twoDOF_link_4_collision)\n",
      "(box_scene::box1_Collision@000000000306a5d8, iiwa7_twoDOF::iiwa_twoDOF_link_5_collision)\n",
      "(box_scene::box1_Collision@000000000306a5d8, iiwa7_twoDOF::iiwa_twoDOF_link_6_collision)\n",
      "\n"
     ]
    }
   ],
   "source": [
    "seed_point_list = [s for s in seed_points_q] \n",
    "print(len(seed_point_list))\n",
    "C_mats = [r.A() for r in regions_default]\n",
    "d_vects = [r.b() for r in regions_default]\n",
    "t0 = time()\n",
    "cspace_free_region_solution_interleaved_vect = cspace_free_region.InterleavedCSpacePolytopeSearchForSeedPoints(\n",
    "                                                                    q_star,\n",
    "                                                                     filtered_collision_pairs,\n",
    "                                                                     C_mats, d_vects, num_round_robin_rounds, \n",
    "                                                                     interleaved_options_list,\n",
    "                                                                     solver_options, seed_point_list, \n",
    "                                        context = None)#plant.GetMyMutableContextFromRoot(context))\n",
    "# cspace_free_region_solution_round_robin_vect = cspace_free_region.CspacePolytopeRoundRobinBisectionSearchForSeedPoints(\n",
    "#                                                                     q_star,\n",
    "#                                                                      filtered_collision_pairs,\n",
    "#                                                                      C_mats, d_vects, num_round_robin_rounds, \n",
    "#                                                                      vector_bisection_options_list,\n",
    "#                                                                      solver_options, seed_point_list)\n",
    "t1 = time()\n"
   ]
  },
  {
   "cell_type": "code",
   "execution_count": 24,
   "metadata": {},
   "outputs": [
    {
     "name": "stdout",
     "output_type": "stream",
     "text": [
      "[[ 0.          0.          0.        ]\n",
      " [ 0.42279322  0.7602044  -0.42279322]\n",
      " [ 0.05004171  0.48305507 -0.68413681]\n",
      " [ 0.10033467  1.02963856 -0.30933625]\n",
      " [ 0.25534192 -1.39838259 -0.48305507]\n",
      " [-0.30933625 -0.7602044  -0.15113522]\n",
      " [-0.48305507 -1.13833271 -0.7602044 ]\n",
      " [ 0.7602044   0.93159646 -0.05004171]]\n"
     ]
    }
   ],
   "source": [
    "print(seed_points)"
   ]
  },
  {
   "cell_type": "code",
   "execution_count": 25,
   "metadata": {},
   "outputs": [
    {
     "name": "stdout",
     "output_type": "stream",
     "text": [
      "Completed points in 5785.018831014633s\n"
     ]
    }
   ],
   "source": [
    "print(f\"Completed points in {t1-t0}s\")\n",
    "regions_round_robin = []\n",
    "ellipses_round_robin = []\n",
    "for sol in cspace_free_region_solution_interleaved_vect:\n",
    "    r = HPolyhedron(np.vstack([starting_poly.A(),sol.C]),\n",
    "                np.hstack([starting_poly.b(), sol.d])\n",
    "                )\n",
    "    e = Hyperellipsoid(np.linalg.inv(sol.P), sol.q)\n",
    "\n",
    "    regions_round_robin.append(r)\n",
    "    ellipses_round_robin.append(e)\n",
    "if do_viz:\n",
    "    visualizer.plot_regions(regions_round_robin, \n",
    "                            ellipses=None, region_suffix='_interleaved2')"
   ]
  },
  {
   "cell_type": "code",
   "execution_count": 64,
   "metadata": {},
   "outputs": [],
   "source": [
    "import visualizations_utils as vis_utils\n",
    "import cdd\n",
    "from scipy.spatial import Delaunay\n",
    "#def plot_regions2(regions):\n",
    "def plot_3d_poly2(region, vis, name, mat = None, verbose = False):\n",
    "    # First, prune region\n",
    "    #region = region.ReduceInequalities()\n",
    "\n",
    "    #region = region.ReduceInequalities()\n",
    "\n",
    "    def project_and_triangulate(pts):\n",
    "        n = np.cross(pts[0,:]-pts[1,:],pts[0,:]-pts[2,:])\n",
    "        n = n / np.linalg.norm(n)\n",
    "        if not np.abs(n[2]) < 1e-3:  # normal vector not in the XY-plane\n",
    "            pts_prj = pts[:,:2]\n",
    "        else:\n",
    "            if np.abs(n[0]) < 1e-3:  # normal vector not in the Y-direction\n",
    "                pts_prj = pts[:,[0,2]]\n",
    "            else:\n",
    "                pts_prj = pts[:,1:3]\n",
    "        tri = Delaunay(pts_prj)\n",
    "        return tri.simplices\n",
    "\n",
    "    # Find feasible point in region\n",
    "    # prog = MathematicalProgram()\n",
    "    # x = prog.NewContinuousVariables(3)\n",
    "    # prog.AddConstraint(le(region.A()@x, region.b()))\n",
    "    # result = Solve(prog)\n",
    "    # if result.is_success():\n",
    "    #    x0 = result.GetSolution()\n",
    "    # else:\n",
    "    #    print(\"Solve failed. No feasible point found in region.\")\n",
    "    x0 = region.MaximumVolumeInscribedEllipsoid().center()\n",
    "    A = region.A()\n",
    "    b = region.b() - A@x0\n",
    "\n",
    "    # Ax <= b must be in form [b -A]\n",
    "    b_minusA = np.concatenate((b.reshape(-1,1),-A),axis=1)\n",
    "\n",
    "    matrix = cdd.Matrix(b_minusA)\n",
    "    matrix.rep_type = cdd.RepType.INEQUALITY\n",
    "    poly = cdd.Polyhedron(matrix)\n",
    "    # Get vrep\n",
    "    gen = poly.get_generators()\n",
    "\n",
    "    # [t vertices]\n",
    "    t_v = np.array(gen)\n",
    "    vertices = t_v[:,1:] + x0  # vertices need to be moved back\n",
    "\n",
    "    # only keep nonempty facets\n",
    "    facets_with_duplicates = [np.array(list(facet)) for facet in poly.get_input_incidence() if len(list(facet))>2]\n",
    "\n",
    "    # if facet is subset of any other facet, remove\n",
    "    remove_idxs = []\n",
    "    for idx, facet in enumerate(facets_with_duplicates):\n",
    "        for other_idx, other_facet in enumerate(facets_with_duplicates):\n",
    "            if (not (idx == other_idx)) and set(facet).issubset(set(other_facet)):\n",
    "                remove_idxs.append(idx)\n",
    "    if remove_idxs:  # if list not empty \n",
    "        facets = list(np.delete(np.array(facets_with_duplicates), np.array(remove_idxs)))\n",
    "    else:\n",
    "        facets = facets_with_duplicates\n",
    "\n",
    "    mesh_vertices = []\n",
    "    mesh_triangles = []\n",
    "    \n",
    "    count = 0\n",
    "    for idx, facet in enumerate(facets):\n",
    "        tri = project_and_triangulate(vertices[facet])\n",
    "        verts = vertices[facet]\n",
    "        idxs = tri+count\n",
    "    #    print('it:', idx)\n",
    "    #   print(len(verts))\n",
    "    #    print(len(idxs))\n",
    "        mesh_vertices.append(verts)\n",
    "        mesh_triangles.append(idxs)\n",
    "\n",
    "        count += vertices[facet].shape[0]\n",
    "\n",
    "    # print('end')\n",
    "    mesh_vertices = np.concatenate(mesh_vertices, 0)\n",
    "    mesh_triangles = np.concatenate(mesh_triangles, 0)\n",
    "\n",
    "    if mat is None:\n",
    "        mat = meshcat.geometry.MeshLambertMaterial(color=0x000000 , wireframe=False)\n",
    "        mat.opacity = 0.3\n",
    "    \n",
    "    vis[name].set_object(\n",
    "                meshcat.geometry.TriangularMeshGeometry(mesh_vertices, mesh_triangles),\n",
    "                mat)"
   ]
  },
  {
   "cell_type": "code",
   "execution_count": 65,
   "metadata": {},
   "outputs": [],
   "source": [
    "def plot_regions2(vis, regions, ellipses = None, opacity = 0.8, region_suffix=''):\n",
    "    colors = vis_utils.n_colors(len(regions))\n",
    "    for i, region in enumerate(regions):\n",
    "        print(i)\n",
    "        c = colors[i]\n",
    "        mat = meshcat.geometry.MeshLambertMaterial(color=vis_utils.rgb_to_hex(c), wireframe=False)\n",
    "        mat.opacity = opacity\n",
    "        plot_3d_poly2(region=region,\n",
    "                           vis=vis['iris']['regions'+region_suffix],\n",
    "                           name=str(i),\n",
    "                           mat=mat)\n",
    "        #plot_3d_poly_marchingcubes(region=region,\n",
    "        #                    resolution=30,\n",
    "         #                   vis=vis['iris']['regions'+region_suffix],\n",
    "         #                   name=str(i),\n",
    "          #                  mat=mat)\n",
    "        if ellipses is not None:\n",
    "            C = ellipses[i].A()  # [:, (0,2,1)]\n",
    "            d = ellipses[i].center()  # [[0,2,1]]\n",
    "            radii, R = np.linalg.eig(C.T @ C)\n",
    "            R[:, 0] = R[:, 0] * np.linalg.det(R)\n",
    "            Rot = RotationMatrix(R)\n",
    "\n",
    "            transf = RigidTransform(Rot, d)\n",
    "            mat = meshcat.geometry.MeshLambertMaterial(color=vis_utils.rgb_to_hex(c), wireframe=True)\n",
    "            mat.opacity = 0.15\n",
    "            vis['iris']['ellipses'+region_suffix][str(i)].set_object(\n",
    "                meshcat.geometry.Ellipsoid(np.divide(1, np.sqrt(radii))),\n",
    "                mat)\n",
    "\n",
    "            vis['iris']['ellipses'+region_suffix][str(i)].set_transform(transf.GetAsMatrix4())"
   ]
  },
  {
   "cell_type": "code",
   "execution_count": 66,
   "metadata": {},
   "outputs": [
    {
     "name": "stdout",
     "output_type": "stream",
     "text": [
      "Completed points in 5785.018831014633s\n",
      "0\n",
      "1\n",
      "2\n",
      "3\n",
      "4\n",
      "5\n",
      "6\n",
      "7\n"
     ]
    },
    {
     "name": "stderr",
     "output_type": "stream",
     "text": [
      "<ipython-input-64-007bdb9700d7>:60: VisibleDeprecationWarning: Creating an ndarray from ragged nested sequences (which is a list-or-tuple of lists-or-tuples-or ndarrays with different lengths or shapes) is deprecated. If you meant to do this, you must specify 'dtype=object' when creating the ndarray.\n",
      "  facets = list(np.delete(np.array(facets_with_duplicates), np.array(remove_idxs)))\n"
     ]
    }
   ],
   "source": [
    "print(f\"Completed points in {t1-t0}s\")\n",
    "regions_round_robin = []\n",
    "ellipses_round_robin = []\n",
    "for sol in cspace_free_region_solution_interleaved_vect:\n",
    "    r = HPolyhedron(np.vstack([starting_poly.A(),sol.C]),\n",
    "                np.hstack([starting_poly.b(), sol.d])\n",
    "                )\n",
    "    e = Hyperellipsoid(np.linalg.inv(sol.P), sol.q)\n",
    "\n",
    "    regions_round_robin.append(r)\n",
    "    ellipses_round_robin.append(e)\n",
    "if do_viz:\n",
    "    plot_regions2(visualizer.vis2, regions_round_robin, \n",
    "                            ellipses=None, region_suffix='_interleaved3')"
   ]
  },
  {
   "cell_type": "code",
   "execution_count": 77,
   "metadata": {},
   "outputs": [],
   "source": [
    "visualizer.plot_seedpoints(seed_points_TT)"
   ]
  },
  {
   "cell_type": "code",
   "execution_count": 76,
   "metadata": {},
   "outputs": [],
   "source": [
    "seed_points_TT = np.array([Ratfk.ComputeTValue(seed_points_[idx], np.zeros((3,)))\\\n",
    "                        for idx in range(seed_points_q.shape[0])])"
   ]
  },
  {
   "cell_type": "code",
   "execution_count": null,
   "metadata": {},
   "outputs": [],
   "source": []
  },
  {
   "cell_type": "code",
   "execution_count": null,
   "metadata": {},
   "outputs": [],
   "source": []
  },
  {
   "cell_type": "code",
   "execution_count": 54,
   "metadata": {},
   "outputs": [
    {
     "name": "stdout",
     "output_type": "stream",
     "text": [
      "[ 0.01687129 -0.01288147 -0.02802416]\n",
      "[ 0.26241809  0.98004433 -0.12550275]\n",
      "[ 4.88210523e-04  4.30476013e-02 -5.06340370e-01]\n",
      "[ 0.07314422  0.75060654 -0.22550694]\n",
      "[-0.04887298 -1.19159415 -0.09069353]\n",
      "[-0.2409991  -0.98683032 -0.12701035]\n",
      "[-0.35778394 -0.72233889 -0.55402954]\n",
      "[ 0.6943619   1.04165496 -0.05417009]\n"
     ]
    }
   ],
   "source": [
    "for r in regions_round_robin:\n",
    "    print(r.MaximumVolumeInscribedEllipsoid().center())"
   ]
  },
  {
   "cell_type": "code",
   "execution_count": null,
   "metadata": {},
   "outputs": [],
   "source": []
  },
  {
   "cell_type": "code",
   "execution_count": 26,
   "metadata": {},
   "outputs": [
    {
     "name": "stdout",
     "output_type": "stream",
     "text": [
      "Completed points in 5785.018831014633s\n"
     ]
    }
   ],
   "source": [
    "print(f\"Completed points in {t1-t0}s\")\n",
    "regions_round_robin = []\n",
    "ellipses_round_robin = []\n",
    "for i, sol in enumerate(cspace_free_region_solution_interleaved_vect):\n",
    "    dtmp = sol.d+sol.C@seed_points[i,:]\n",
    "    \n",
    "    r = HPolyhedron(np.vstack([starting_poly.A(),sol.C*2]),\n",
    "                np.hstack([starting_poly.b(), dtmp])\n",
    "                )\n",
    "    e = Hyperellipsoid(np.linalg.inv(sol.P), sol.q)\n",
    "\n",
    "    regions_round_robin.append(r)\n",
    "    ellipses_round_robin.append(e)\n",
    "if do_viz:\n",
    "    visualizer.plot_regions(regions_round_robin, \n",
    "                            ellipses=None, region_suffix='_interleaved_small')"
   ]
  },
  {
   "cell_type": "code",
   "execution_count": 27,
   "metadata": {},
   "outputs": [
    {
     "name": "stdout",
     "output_type": "stream",
     "text": [
      "now = 2022-02-13 17:35:10.574604\n",
      "finished running at = 13/02/2022 17:35:10\n"
     ]
    }
   ],
   "source": [
    "from datetime import datetime\n",
    "\n",
    "# datetime object containing current date and time\n",
    "now = datetime.now()\n",
    " \n",
    "print(\"now =\", now)\n",
    "\n",
    "# dd/mm/YY H:M:S\n",
    "dt_string = now.strftime(\"%d/%m/%Y %H:%M:%S\")\n",
    "print(\"finished running at =\", dt_string)\t"
   ]
  },
  {
   "cell_type": "code",
   "execution_count": 28,
   "metadata": {},
   "outputs": [
    {
     "data": {
      "text/plain": [
       "<Visualizer using: <meshcat.visualizer.ViewerWindow object at 0x7fe2748d6eb0> at path: <meshcat.path.Path object at 0x7fe257e406d0>>"
      ]
     },
     "execution_count": 28,
     "metadata": {},
     "output_type": "execute_result"
    }
   ],
   "source": [
    "visualizer.vis2[\"regions_interleaved\"]"
   ]
  },
  {
   "cell_type": "code",
   "execution_count": 30,
   "metadata": {},
   "outputs": [
    {
     "name": "stdout",
     "output_type": "stream",
     "text": [
      "0\n",
      "400\n",
      "800\n",
      "1200\n",
      "1600\n",
      "2000\n",
      "2400\n",
      "2800\n",
      "3200\n",
      "3600\n",
      "4000\n",
      "4400\n",
      "4800\n",
      "5200\n",
      "5600\n",
      "6000\n",
      "6400\n",
      "6800\n",
      "7200\n",
      "7600\n",
      "8000\n",
      "8400\n",
      "8800\n",
      "9200\n",
      "9600\n",
      "10000\n",
      "10400\n",
      "10800\n",
      "11200\n",
      "11600\n",
      "12000\n",
      "12400\n",
      "12800\n",
      "13200\n",
      "13600\n",
      "14000\n",
      "14400\n",
      "14800\n",
      "15200\n",
      "15600\n",
      "16000\n",
      "16400\n",
      "16800\n",
      "17200\n",
      "17600\n",
      "18000\n",
      "18400\n",
      "18800\n",
      "19200\n",
      "19600\n",
      "20000\n",
      "20400\n",
      "20800\n",
      "21200\n",
      "21600\n",
      "22000\n",
      "22400\n",
      "22800\n",
      "23200\n",
      "23600\n",
      "24000\n",
      "24400\n",
      "24800\n",
      "25200\n",
      "25600\n",
      "26000\n",
      "26400\n",
      "26800\n",
      "27200\n",
      "27600\n",
      "28000\n",
      "28400\n",
      "28800\n",
      "29200\n",
      "29600\n",
      "30000\n",
      "30400\n",
      "30800\n",
      "31200\n",
      "31600\n",
      "32000\n",
      "32400\n",
      "32800\n",
      "33200\n",
      "33600\n",
      "34000\n",
      "34400\n",
      "34800\n",
      "35200\n",
      "35600\n",
      "36000\n",
      "36400\n",
      "36800\n",
      "37200\n",
      "37600\n",
      "38000\n",
      "38400\n",
      "38800\n",
      "39200\n",
      "39600\n",
      "40000\n",
      "40400\n",
      "40800\n",
      "41200\n",
      "41600\n",
      "42000\n",
      "42400\n",
      "42800\n",
      "43200\n",
      "43600\n",
      "44000\n",
      "44400\n",
      "44800\n",
      "45200\n",
      "45600\n",
      "46000\n",
      "46400\n",
      "46800\n",
      "47200\n",
      "47600\n",
      "48000\n",
      "48400\n",
      "48800\n",
      "49200\n",
      "49600\n",
      "Num col free points:  50000 Num contained in round robin regions:  872\n"
     ]
    }
   ],
   "source": [
    "N = 50000\n",
    "collision_free_points_t = np.zeros((N,3))\n",
    "col_func_handle_t = partial(visualizer.eval_cons, c=visualizer.collision_constraint, tol=0.01)\n",
    "#col_func_handle_t(Ratfk.ComputeTValue(t, np.array([0,0,0])))\n",
    "\n",
    "#sample N collision free points\n",
    "for idx in range(N):\n",
    "        if idx%400 ==0:\n",
    "            print(idx)\n",
    "        rand = np.random.rand(3)\n",
    "        t = limits_t[0] + rand*(limits_t[1]-limits_t[0])\n",
    "        while col_func_handle_t(t):\n",
    "            rand = np.random.rand(3)\n",
    "            t = limits_t[0] + rand*(limits_t[1]-limits_t[0])\n",
    "        collision_free_points_t[idx, :] = t\n",
    "\n",
    "#check containment\n",
    "num_contained_in_regions = 0\n",
    "for pt in collision_free_points_t:\n",
    "    for region in regions_round_robin:\n",
    "        if region.PointInSet(pt):\n",
    "            num_contained_in_regions +=1\n",
    "            break\n",
    "        \n",
    "print(\"Num col free points: \", N, \"Num contained in round robin regions: \", num_contained_in_regions)"
   ]
  },
  {
   "cell_type": "code",
   "execution_count": null,
   "metadata": {},
   "outputs": [],
   "source": []
  },
  {
   "cell_type": "code",
   "execution_count": 42,
   "metadata": {},
   "outputs": [
    {
     "name": "stdout",
     "output_type": "stream",
     "text": [
      "0.0\n",
      "0.0\n",
      "0.0\n",
      "0.0\n",
      "0.0\n",
      "0.0\n",
      "0.0\n",
      "0.0\n",
      "0.0\n",
      "0.0\n"
     ]
    }
   ],
   "source": []
  },
  {
   "cell_type": "code",
   "execution_count": 33,
   "metadata": {},
   "outputs": [
    {
     "name": "stdout",
     "output_type": "stream",
     "text": [
      "float64\n",
      "float64\n"
     ]
    },
    {
     "ename": "TypeError",
     "evalue": "ComputeQValue(): incompatible function arguments. The following argument types are supported:\n    1. (self: pydrake.multibody.rational_forward_kinematics.RationalForwardKinematics, t_val: numpy.ndarray[numpy.float64[m, 1]], q_star_val: numpy.ndarray[numpy.float64[m, 1]]) -> numpy.ndarray[numpy.float64[m, 1]]\n\nInvoked with: <pydrake.multibody.rational_forward_kinematics.RationalForwardKinematics object at 0x7f3a726ae230>, array([[[ 0.43109738],\n        [-0.84842998],\n        [ 0.96040215]]]), array([[0.],\n       [0.],\n       [0.]])",
     "output_type": "error",
     "traceback": [
      "\u001b[0;31m---------------------------------------------------------------------------\u001b[0m",
      "\u001b[0;31mTypeError\u001b[0m                                 Traceback (most recent call last)",
      "\u001b[0;32m<ipython-input-33-edbfb0488ef1>\u001b[0m in \u001b[0;36m<module>\u001b[0;34m\u001b[0m\n\u001b[1;32m      2\u001b[0m \u001b[0mprint\u001b[0m\u001b[0;34m(\u001b[0m\u001b[0mvisualizer\u001b[0m\u001b[0;34m.\u001b[0m\u001b[0mq_star\u001b[0m\u001b[0;34m.\u001b[0m\u001b[0mdtype\u001b[0m\u001b[0;34m)\u001b[0m\u001b[0;34m\u001b[0m\u001b[0;34m\u001b[0m\u001b[0m\n\u001b[1;32m      3\u001b[0m \u001b[0mprint\u001b[0m\u001b[0;34m(\u001b[0m\u001b[0mt\u001b[0m\u001b[0;34m.\u001b[0m\u001b[0mdtype\u001b[0m\u001b[0;34m)\u001b[0m\u001b[0;34m\u001b[0m\u001b[0;34m\u001b[0m\u001b[0m\n\u001b[0;32m----> 4\u001b[0;31m \u001b[0mvisualizer\u001b[0m\u001b[0;34m.\u001b[0m\u001b[0mcol_func_handle_rational\u001b[0m\u001b[0;34m(\u001b[0m\u001b[0mt\u001b[0m\u001b[0;34m.\u001b[0m\u001b[0mreshape\u001b[0m\u001b[0;34m(\u001b[0m\u001b[0;34m-\u001b[0m\u001b[0;36m1\u001b[0m\u001b[0;34m,\u001b[0m\u001b[0;36m1\u001b[0m\u001b[0;34m)\u001b[0m\u001b[0;34m)\u001b[0m\u001b[0;34m\u001b[0m\u001b[0;34m\u001b[0m\u001b[0m\n\u001b[0m",
      "\u001b[0;32m~/.cache/bazel/_bazel_annan/82ab2262941d29085f6110a39fd69289/execroot/drake/bazel-out/k8-opt/bin/sos_iris_certifier/pinball_iiwas.runfiles/drake/sos_iris_certifier/iris_plant_visualizer.py\u001b[0m in \u001b[0;36meval_cons_rational\u001b[0;34m(self, *t)\u001b[0m\n\u001b[1;32m    119\u001b[0m     \u001b[0;32mdef\u001b[0m \u001b[0meval_cons_rational\u001b[0m\u001b[0;34m(\u001b[0m\u001b[0mself\u001b[0m\u001b[0;34m,\u001b[0m \u001b[0;34m*\u001b[0m\u001b[0mt\u001b[0m\u001b[0;34m)\u001b[0m\u001b[0;34m:\u001b[0m\u001b[0;34m\u001b[0m\u001b[0;34m\u001b[0m\u001b[0m\n\u001b[1;32m    120\u001b[0m         \u001b[0mt\u001b[0m \u001b[0;34m=\u001b[0m \u001b[0mnp\u001b[0m\u001b[0;34m.\u001b[0m\u001b[0marray\u001b[0m\u001b[0;34m(\u001b[0m\u001b[0mt\u001b[0m\u001b[0;34m)\u001b[0m\u001b[0;34m\u001b[0m\u001b[0;34m\u001b[0m\u001b[0m\n\u001b[0;32m--> 121\u001b[0;31m         \u001b[0mq\u001b[0m \u001b[0;34m=\u001b[0m \u001b[0mself\u001b[0m\u001b[0;34m.\u001b[0m\u001b[0mforward_kin\u001b[0m\u001b[0;34m.\u001b[0m\u001b[0mComputeQValue\u001b[0m\u001b[0;34m(\u001b[0m\u001b[0mt\u001b[0m\u001b[0;34m,\u001b[0m \u001b[0mself\u001b[0m\u001b[0;34m.\u001b[0m\u001b[0mq_star\u001b[0m\u001b[0;34m)\u001b[0m\u001b[0;34m.\u001b[0m\u001b[0msqueeze\u001b[0m\u001b[0;34m(\u001b[0m\u001b[0;34m)\u001b[0m\u001b[0;34m\u001b[0m\u001b[0;34m\u001b[0m\u001b[0m\n\u001b[0m\u001b[1;32m    122\u001b[0m         \u001b[0;32mreturn\u001b[0m \u001b[0mself\u001b[0m\u001b[0;34m.\u001b[0m\u001b[0mcol_func_handle\u001b[0m\u001b[0;34m(\u001b[0m\u001b[0mq\u001b[0m\u001b[0;34m)\u001b[0m\u001b[0;34m\u001b[0m\u001b[0;34m\u001b[0m\u001b[0m\n\u001b[1;32m    123\u001b[0m \u001b[0;34m\u001b[0m\u001b[0m\n",
      "\u001b[0;31mTypeError\u001b[0m: ComputeQValue(): incompatible function arguments. The following argument types are supported:\n    1. (self: pydrake.multibody.rational_forward_kinematics.RationalForwardKinematics, t_val: numpy.ndarray[numpy.float64[m, 1]], q_star_val: numpy.ndarray[numpy.float64[m, 1]]) -> numpy.ndarray[numpy.float64[m, 1]]\n\nInvoked with: <pydrake.multibody.rational_forward_kinematics.RationalForwardKinematics object at 0x7f3a726ae230>, array([[[ 0.43109738],\n        [-0.84842998],\n        [ 0.96040215]]]), array([[0.],\n       [0.],\n       [0.]])"
     ]
    }
   ],
   "source": [
    "visualizer.q_star = 0.0*np.zeros((3,1))\n",
    "print(visualizer.q_star.dtype)\n",
    "print(t.dtype)\n",
    "visualizer.col_func_handle_rational(t.reshape(-1,1))"
   ]
  },
  {
   "cell_type": "code",
   "execution_count": 11,
   "metadata": {},
   "outputs": [],
   "source": [
    "rand = np.random.rand(3)\n",
    "pos_samp = limits_t[0] + rand*(limits_t[1]-limits_t[0])\n"
   ]
  },
  {
   "cell_type": "code",
   "execution_count": 36,
   "metadata": {},
   "outputs": [],
   "source": []
  },
  {
   "cell_type": "code",
   "execution_count": 38,
   "metadata": {},
   "outputs": [
    {
     "data": {
      "text/plain": [
       "1.0"
      ]
     },
     "execution_count": 38,
     "metadata": {},
     "output_type": "execute_result"
    }
   ],
   "source": []
  },
  {
   "cell_type": "markdown",
   "metadata": {},
   "source": [
    "# Don't run after here"
   ]
  },
  {
   "cell_type": "code",
   "execution_count": 36,
   "metadata": {},
   "outputs": [
    {
     "name": "stderr",
     "output_type": "stream",
     "text": [
      "[2022-02-09 11:46:31.589] [console] [info] Found Lagrangian multiplier and separating planes\n",
      "[2022-02-09 11:46:34.425] [console] [info] bilinear alt on d succeeded\n",
      "[2022-02-09 11:46:34.475] [console] [info] Ineq 1/12 in round 1\n",
      "[2022-02-09 11:46:34.476] [console] [info] epsilon exceeds components of epsilon max in some components, increasing epsilon max\n",
      "[2022-02-09 11:46:34.491] [console] [info] output of eps_redundant_max is -3.436515294552578e-09\n",
      "[2022-02-09 11:46:34.492] [console] [warning] round robin bisection search failed: epsilon max is less than epsilon min.\n",
      " difference is = \n",
      "     -0.25\n",
      "-0.238571\n",
      "-0.225191\n",
      " -0.20519\n",
      "    -0.25\n",
      "    -0.25\n",
      "-0.239698\n",
      "    -0.25\n",
      "    -0.25\n",
      "    -0.25\n",
      "    -0.25\n",
      "    -0.25\n",
      "[2022-02-09 11:46:34.493] [console] [info] Ineq 2/12 in round 1\n",
      "[2022-02-09 11:46:34.511] [console] [info] output of eps_redundant_max is 6.756142090225126e-09\n",
      "[2022-02-09 11:46:34.512] [console] [info] Ineq 3/12 in round 1\n",
      "[2022-02-09 11:46:34.529] [console] [info] output of eps_redundant_max is -0.0248085652359986\n",
      "[2022-02-09 11:46:34.530] [console] [warning] round robin bisection search failed: epsilon max is less than epsilon min.\n",
      " difference is = \n",
      "     -0.25\n",
      "-0.238571\n",
      "    -0.25\n",
      " -0.20519\n",
      "    -0.25\n",
      "    -0.25\n",
      "-0.239698\n",
      "    -0.25\n",
      "    -0.25\n",
      "    -0.25\n",
      "    -0.25\n",
      "    -0.25\n",
      "[2022-02-09 11:46:34.531] [console] [info] Ineq 4/12 in round 1\n",
      "[2022-02-09 11:46:34.554] [console] [info] output of eps_redundant_max is -0.044810455277054184\n",
      "[2022-02-09 11:46:34.555] [console] [warning] round robin bisection search failed: epsilon max is less than epsilon min.\n",
      " difference is = \n",
      "     -0.25\n",
      "-0.238571\n",
      "-0.225191\n",
      "    -0.25\n",
      "    -0.25\n",
      "    -0.25\n",
      "-0.239698\n",
      "    -0.25\n",
      "    -0.25\n",
      "    -0.25\n",
      "    -0.25\n",
      "    -0.25\n",
      "[2022-02-09 11:46:34.556] [console] [info] Ineq 5/12 in round 1\n",
      "[2022-02-09 11:46:34.579] [console] [info] output of eps_redundant_max is -9.544105408765269e-09\n",
      "[2022-02-09 11:46:34.580] [console] [warning] round robin bisection search failed: epsilon max is less than epsilon min.\n",
      " difference is = \n",
      "     -0.25\n",
      "-0.238571\n",
      "-0.225191\n",
      " -0.20519\n",
      "    -0.25\n",
      "    -0.25\n",
      "-0.239698\n",
      "    -0.25\n",
      "    -0.25\n",
      "    -0.25\n",
      "    -0.25\n",
      "    -0.25\n",
      "[2022-02-09 11:46:34.581] [console] [info] Ineq 6/12 in round 1\n",
      "[2022-02-09 11:46:34.599] [console] [info] output of eps_redundant_max is 7.981767254083838e-09\n",
      "[2022-02-09 11:46:34.600] [console] [info] Ineq 7/12 in round 1\n",
      "[2022-02-09 11:46:34.613] [console] [info] output of eps_redundant_max is 1.8074722529792808e-07\n",
      "[2022-02-09 11:46:34.615] [console] [info] Ineq 8/12 in round 1\n",
      "[2022-02-09 11:46:34.627] [console] [info] output of eps_redundant_max is 5.046350518012055e-09\n",
      "[2022-02-09 11:46:34.628] [console] [info] Ineq 9/12 in round 1\n",
      "[2022-02-09 11:46:34.645] [console] [info] output of eps_redundant_max is 0.008802791608611082\n",
      "[2022-02-09 11:46:34.647] [console] [info] current gap is epsilon_gap=0.008802791608611082\n",
      "[2022-02-09 11:46:39.479] [console] [info] Found Lagrangian multiplier and separating planes\n",
      "[2022-02-09 11:46:42.731] [console] [info] bilinear alt on d succeeded\n",
      "[2022-02-09 11:46:42.763] [console] [info] epsilon=-0.2455985978863755 is feasible\n",
      "[2022-02-09 11:46:42.765] [console] [info] epsilon exceeds components of epsilon max in some components, increasing epsilon max\n",
      "[2022-02-09 11:46:42.777] [console] [info] output of eps_redundant_max is 0.02755842213032289\n",
      "[2022-02-09 11:46:42.779] [console] [info] reset eps_min=-0.2455984288898273, eps_max=-0.2180400067595044\n",
      "[2022-02-09 11:46:42.780] [console] [info] current gap is epsilon_gap=0.02755842213032289\n",
      "[2022-02-09 11:46:47.943] [console] [info] Found Lagrangian multiplier and separating planes\n",
      "[2022-02-09 11:46:50.872] [console] [info] bilinear alt on d succeeded\n",
      "[2022-02-09 11:46:50.917] [console] [info] epsilon=-0.23181921782466586 is feasible\n",
      "[2022-02-09 11:46:50.918] [console] [info] epsilon exceeds components of epsilon max in some components, increasing epsilon max\n",
      "[2022-02-09 11:46:50.940] [console] [info] output of eps_redundant_max is 0.0502557580963936\n",
      "[2022-02-09 11:46:50.941] [console] [info] reset eps_min=-0.23181921702896946, eps_max=-0.18156345893257586\n",
      "[2022-02-09 11:46:50.941] [console] [info] current gap is epsilon_gap=0.0502557580963936\n",
      "[2022-02-09 11:46:55.826] [console] [info] Found Lagrangian multiplier and separating planes\n",
      "[2022-02-09 11:46:58.734] [console] [info] bilinear alt on d succeeded\n",
      "[2022-02-09 11:46:58.765] [console] [info] epsilon=-0.20669133798077266 is feasible\n",
      "[2022-02-09 11:46:58.766] [console] [info] epsilon exceeds components of epsilon max in some components, increasing epsilon max\n",
      "[2022-02-09 11:46:58.779] [console] [info] output of eps_redundant_max is 0.0505299819753785\n",
      "[2022-02-09 11:46:58.780] [console] [info] reset eps_min=-0.20669132795651468, eps_max=-0.15616134598113618\n",
      "[2022-02-09 11:46:58.780] [console] [info] current gap is epsilon_gap=0.0505299819753785\n",
      "[2022-02-09 11:47:03.685] [console] [info] Found Lagrangian multiplier and separating planes\n",
      "[2022-02-09 11:47:06.615] [console] [info] bilinear alt on d succeeded\n",
      "[2022-02-09 11:47:06.647] [console] [info] epsilon=-0.18142633696882543 is feasible\n",
      "[2022-02-09 11:47:06.648] [console] [info] epsilon exceeds components of epsilon max in some components, increasing epsilon max\n",
      "[2022-02-09 11:47:06.668] [console] [info] output of eps_redundant_max is 0.025265001656651465\n",
      "[2022-02-09 11:47:06.669] [console] [info] reset eps_min=-0.18142633665975627, eps_max=-0.1561613350031048\n",
      "[2022-02-09 11:47:06.670] [console] [info] current gap is epsilon_gap=0.025265001656651465\n",
      "[2022-02-09 11:47:11.545] [console] [info] Found Lagrangian multiplier and separating planes\n",
      "[2022-02-09 11:47:14.407] [console] [info] bilinear alt on d succeeded\n",
      "[2022-02-09 11:47:14.441] [console] [info] epsilon=-0.16879383583143054 is feasible\n",
      "[2022-02-09 11:47:14.442] [console] [info] epsilon exceeds components of epsilon max in some components, increasing epsilon max\n",
      "[2022-02-09 11:47:14.455] [console] [info] output of eps_redundant_max is 0.012639912960582533\n",
      "[2022-02-09 11:47:14.456] [console] [info] reset eps_min=-0.16879382765108097, eps_max=-0.15615391469049844\n",
      "[2022-02-09 11:47:14.457] [console] [info] current gap is epsilon_gap=0.012639912960582533\n",
      "[2022-02-09 11:47:19.653] [console] [info] Found Lagrangian multiplier and separating planes\n",
      "[2022-02-09 11:47:22.477] [console] [info] bilinear alt on d succeeded\n",
      "[2022-02-09 11:47:22.509] [console] [info] epsilon=-0.1624738711707897 is feasible\n",
      "[2022-02-09 11:47:22.510] [console] [info] epsilon exceeds components of epsilon max in some components, increasing epsilon max\n",
      "[2022-02-09 11:47:22.523] [console] [info] output of eps_redundant_max is 0.006320600746404614\n",
      "[2022-02-09 11:47:22.525] [console] [info] reset eps_min=-0.16247385707256456, eps_max=-0.15615325632615995\n",
      "[2022-02-09 11:47:22.525] [console] [info] current gap is epsilon_gap=0.006320600746404614\n",
      "[2022-02-09 11:47:27.507] [console] [info] Found Lagrangian multiplier and separating planes\n",
      "[2022-02-09 11:47:30.453] [console] [info] bilinear alt on d succeeded\n",
      "[2022-02-09 11:47:30.486] [console] [info] epsilon=-0.15931355669936226 is feasible\n",
      "[2022-02-09 11:47:30.487] [console] [info] epsilon exceeds components of epsilon max in some components, increasing epsilon max\n",
      "[2022-02-09 11:47:30.505] [console] [info] output of eps_redundant_max is 0.003160423970687498\n",
      "[2022-02-09 11:47:30.506] [console] [info] reset eps_min=-0.15931355416799609, eps_max=-0.1561531301973086\n",
      "[2022-02-09 11:47:30.507] [console] [info] current gap is epsilon_gap=0.003160423970687498\n",
      "[2022-02-09 11:47:36.518] [console] [info] Found Lagrangian multiplier and separating planes\n",
      "[2022-02-09 11:47:39.421] [console] [info] bilinear alt on d succeeded\n",
      "[2022-02-09 11:47:39.453] [console] [info] epsilon=-0.15773334218265234 is feasible\n",
      "[2022-02-09 11:47:39.454] [console] [info] epsilon exceeds components of epsilon max in some components, increasing epsilon max\n",
      "[2022-02-09 11:47:39.473] [console] [info] output of eps_redundant_max is 0.0015805109446836996\n",
      "[2022-02-09 11:47:39.476] [console] [info] reset eps_min=-0.15773334238323744, eps_max=-0.15615283143855374\n",
      "[2022-02-09 11:47:39.477] [console] [info] current gap is epsilon_gap=0.0015805109446836996\n"
     ]
    },
    {
     "name": "stderr",
     "output_type": "stream",
     "text": [
      "[2022-02-09 11:47:44.971] [console] [info] Found Lagrangian multiplier and separating planes\n",
      "[2022-02-09 11:47:47.809] [console] [info] bilinear alt on d succeeded\n",
      "[2022-02-09 11:47:47.841] [console] [info] epsilon=-0.1569430869108956 is feasible\n",
      "[2022-02-09 11:47:47.842] [console] [info] epsilon exceeds components of epsilon max in some components, increasing epsilon max\n",
      "[2022-02-09 11:47:47.851] [console] [info] output of eps_redundant_max is 0.0007903398544878426\n",
      "[2022-02-09 11:47:47.852] [console] [info] reset eps_min=-0.15694308925800982, eps_max=-0.15615274940352197\n",
      "[2022-02-09 11:47:47.853] [console] [info] current gap is epsilon_gap=0.0007903398544878426\n",
      "[2022-02-09 11:47:53.058] [console] [info] Found Lagrangian multiplier and separating planes\n",
      "[2022-02-09 11:47:55.860] [console] [info] bilinear alt on d succeeded\n",
      "[2022-02-09 11:47:55.892] [console] [info] epsilon=-0.1565479193307659 is feasible\n",
      "[2022-02-09 11:47:55.893] [console] [info] epsilon exceeds components of epsilon max in some components, increasing epsilon max\n",
      "[2022-02-09 11:47:55.903] [console] [info] output of eps_redundant_max is 0.0003961278167280424\n",
      "[2022-02-09 11:47:55.904] [console] [info] reset eps_min=-0.15654792013186336, eps_max=-0.15615179231513532\n",
      "[2022-02-09 11:47:55.904] [console] [info] Ineq 10/12 in round 1\n",
      "[2022-02-09 11:47:55.917] [console] [info] output of eps_redundant_max is -0.6196213504762669\n",
      "[2022-02-09 11:47:55.918] [console] [warning] round robin bisection search failed: epsilon max is less than epsilon min.\n",
      " difference is = \n",
      " -0.156548\n",
      "-0.238566\n",
      "  1.31464\n",
      " 0.280319\n",
      "    -0.25\n",
      "-0.249998\n",
      "-0.139573\n",
      "-0.249999\n",
      "    -0.25\n",
      "    -0.25\n",
      "-0.249999\n",
      "-0.249996\n",
      "[2022-02-09 11:47:55.918] [console] [info] Ineq 11/12 in round 1\n",
      "[2022-02-09 11:47:55.934] [console] [info] output of eps_redundant_max is 0.0007986963576471773\n",
      "[2022-02-09 11:47:55.940] [console] [info] Ineq 12/12 in round 1\n",
      "[2022-02-09 11:47:55.954] [console] [info] output of eps_redundant_max is 0.011180881177291213\n",
      "[2022-02-09 11:47:55.977] [console] [info] max(power(det(P), 1/4))=0.006816078950350171, solver_time 0.014055013656616211\n"
     ]
    }
   ],
   "source": [
    "cspace_free_region_solution_round_robin = cspace_free_region.CspacePolytopeRoundRobinBisectionSearch(q_star,\n",
    "                                                                     filtered_collision_pairs,\n",
    "                                                                     C, d, 1, \n",
    "                                                                     vector_bisection_search_options,\n",
    "                                                                     solver_options, s)"
   ]
  },
  {
   "cell_type": "code",
   "execution_count": 29,
   "metadata": {},
   "outputs": [
    {
     "name": "stderr",
     "output_type": "stream",
     "text": [
      "[2022-02-08 19:34:36.721] [console] [info] Found Lagrangian multiplier and separating planes\n",
      "[2022-02-08 19:34:36.723] [console] [info] Lagrangian step time 3.045 s\n",
      "[2022-02-08 19:34:36.751] [console] [info] max(power(det(P), 1/4))=0.2071381570004865, solver_time 0.018611907958984375\n",
      "[2022-02-08 19:34:36.753] [console] [info] cost improvement inf\n",
      "[2022-02-08 19:34:38.615] [console] [info] Iter: 0, polytope step cost -0.008828768121858371, solver time 0.48531293869018555\n",
      "[2022-02-08 19:34:41.859] [console] [info] Found Lagrangian multiplier and separating planes\n",
      "[2022-02-08 19:34:41.860] [console] [info] Lagrangian step time 3.218 s\n",
      "[2022-02-08 19:34:41.881] [console] [info] max(power(det(P), 1/4))=0.2105033555416147, solver_time 0.013540029525756836\n",
      "[2022-02-08 19:34:41.882] [console] [info] cost improvement 0.0033651985411282115\n",
      "[2022-02-08 19:34:43.780] [console] [info] Iter: 1, polytope step cost -0.008522369595631428, solver time 0.532606840133667\n",
      "[2022-02-08 19:34:46.920] [console] [info] Found Lagrangian multiplier and separating planes\n",
      "[2022-02-08 19:34:46.921] [console] [info] Lagrangian step time 3.106 s\n",
      "[2022-02-08 19:34:46.948] [console] [info] max(power(det(P), 1/4))=0.213630477205936, solver_time 0.015511035919189453\n",
      "[2022-02-08 19:34:46.950] [console] [info] cost improvement 0.003127121664321303\n",
      "[2022-02-08 19:34:48.915] [console] [info] Iter: 2, polytope step cost -0.0082295035087613, solver time 0.5746550559997559\n",
      "[2022-02-08 19:34:52.192] [console] [info] Found Lagrangian multiplier and separating planes\n",
      "[2022-02-08 19:34:52.194] [console] [info] Lagrangian step time 3.235 s\n",
      "[2022-02-08 19:34:52.241] [console] [info] max(power(det(P), 1/4))=0.21654422423724604, solver_time 0.025848865509033203\n",
      "[2022-02-08 19:34:52.242] [console] [info] cost improvement 0.002913747031310032\n",
      "[2022-02-08 19:34:54.516] [console] [info] Iter: 3, polytope step cost -0.007743490529621534, solver time 0.9039871692657471\n",
      "[2022-02-08 19:34:57.754] [console] [info] Found Lagrangian multiplier and separating planes\n",
      "[2022-02-08 19:34:57.756] [console] [info] Lagrangian step time 3.211 s\n",
      "[2022-02-08 19:34:57.776] [console] [info] max(power(det(P), 1/4))=0.21919136909005704, solver_time 0.012666940689086914\n",
      "[2022-02-08 19:34:57.777] [console] [info] cost improvement 0.0026471448528110064\n",
      "[2022-02-08 19:34:59.530] [console] [info] Iter: 4, polytope step cost -0.0076923475319676075, solver time 0.385469913482666\n",
      "[2022-02-08 19:35:02.754] [console] [info] Found Lagrangian multiplier and separating planes\n",
      "[2022-02-08 19:35:02.755] [console] [info] Lagrangian step time 3.198 s\n",
      "[2022-02-08 19:35:02.787] [console] [info] max(power(det(P), 1/4))=0.22174087419204977, solver_time 0.020121097564697266\n",
      "[2022-02-08 19:35:02.788] [console] [info] cost improvement 0.0025495051019927273\n",
      "[2022-02-08 19:35:04.593] [console] [info] Iter: 5, polytope step cost -0.007435436269238516, solver time 0.42448997497558594\n",
      "[2022-02-08 19:35:07.777] [console] [info] Found Lagrangian multiplier and separating planes\n",
      "[2022-02-08 19:35:07.779] [console] [info] Lagrangian step time 3.157 s\n",
      "[2022-02-08 19:35:07.805] [console] [info] max(power(det(P), 1/4))=0.22413009315201646, solver_time 0.017606019973754883\n",
      "[2022-02-08 19:35:07.806] [console] [info] cost improvement 0.002389218959966688\n",
      "[2022-02-08 19:35:09.714] [console] [info] Iter: 6, polytope step cost -0.007206637629176548, solver time 0.5358548164367676\n",
      "[2022-02-08 19:35:12.901] [console] [info] Found Lagrangian multiplier and separating planes\n",
      "[2022-02-08 19:35:12.902] [console] [info] Lagrangian step time 3.142 s\n",
      "[2022-02-08 19:35:12.928] [console] [info] max(power(det(P), 1/4))=0.2263789435678011, solver_time 0.016692161560058594\n",
      "[2022-02-08 19:35:12.930] [console] [info] cost improvement 0.0022488504157846534\n",
      "[2022-02-08 19:35:14.962] [console] [info] Iter: 7, polytope step cost -0.006992940105884309, solver time 0.6659531593322754\n",
      "[2022-02-08 19:35:18.144] [console] [info] Found Lagrangian multiplier and separating planes\n",
      "[2022-02-08 19:35:18.146] [console] [info] Lagrangian step time 3.156 s\n",
      "[2022-02-08 19:35:18.191] [console] [info] max(power(det(P), 1/4))=0.22850024056147256, solver_time 0.02731180191040039\n",
      "[2022-02-08 19:35:18.192] [console] [info] cost improvement 0.0021212969936714454\n",
      "[2022-02-08 19:35:20.017] [console] [info] Iter: 8, polytope step cost -0.006789440891041216, solver time 0.3952658176422119\n",
      "[2022-02-08 19:35:23.190] [console] [info] Found Lagrangian multiplier and separating planes\n",
      "[2022-02-08 19:35:23.192] [console] [info] Lagrangian step time 3.143 s\n",
      "[2022-02-08 19:35:23.214] [console] [info] max(power(det(P), 1/4))=0.23050452173386715, solver_time 0.009459972381591797\n",
      "[2022-02-08 19:35:23.215] [console] [info] cost improvement 0.0020042811723945952\n",
      "[2022-02-08 19:35:25.025] [console] [info] Iter: 9, polytope step cost -0.006596850442441138, solver time 0.43755483627319336\n",
      "[2022-02-08 19:35:28.118] [console] [info] Found Lagrangian multiplier and separating planes\n",
      "[2022-02-08 19:35:28.120] [console] [info] Lagrangian step time 3.066 s\n",
      "[2022-02-08 19:35:28.137] [console] [info] max(power(det(P), 1/4))=0.2324023424178627, solver_time 0.00842905044555664\n",
      "[2022-02-08 19:35:28.139] [console] [info] cost improvement 0.0018978206839955492\n",
      "[2022-02-08 19:35:29.949] [console] [info] Iter: 10, polytope step cost -0.006415773378314219, solver time 0.44013309478759766\n",
      "[2022-02-08 19:35:33.322] [console] [info] Found Lagrangian multiplier and separating planes\n",
      "[2022-02-08 19:35:33.323] [console] [info] Lagrangian step time 3.346 s\n",
      "[2022-02-08 19:35:33.351] [console] [info] max(power(det(P), 1/4))=0.2342056713283076, solver_time 0.013981819152832031\n",
      "[2022-02-08 19:35:33.352] [console] [info] cost improvement 0.0018033289104449068\n",
      "[2022-02-08 19:35:35.114] [console] [info] Iter: 11, polytope step cost -0.006248227960411493, solver time 0.396834135055542\n",
      "[2022-02-08 19:35:38.386] [console] [info] Found Lagrangian multiplier and separating planes\n",
      "[2022-02-08 19:35:38.387] [console] [info] Lagrangian step time 3.246 s\n",
      "[2022-02-08 19:35:38.408] [console] [info] max(power(det(P), 1/4))=0.23592216399768626, solver_time 0.011979103088378906\n",
      "[2022-02-08 19:35:38.409] [console] [info] cost improvement 0.0017164926693786497\n",
      "[2022-02-08 19:35:40.187] [console] [info] Iter: 12, polytope step cost -0.006096361794292019, solver time 0.39899206161499023\n",
      "[2022-02-08 19:35:43.523] [console] [info] Found Lagrangian multiplier and separating planes\n",
      "[2022-02-08 19:35:43.525] [console] [info] Lagrangian step time 3.31 s\n",
      "[2022-02-08 19:35:43.555] [console] [info] max(power(det(P), 1/4))=0.23756327213314654, solver_time 0.0071070194244384766\n",
      "[2022-02-08 19:35:43.556] [console] [info] cost improvement 0.0016411081354602841\n",
      "[2022-02-08 19:35:45.406] [console] [info] Iter: 13, polytope step cost -0.0059541459419407, solver time 0.4410898685455322\n",
      "[2022-02-08 19:35:48.682] [console] [info] Found Lagrangian multiplier and separating planes\n",
      "[2022-02-08 19:35:48.684] [console] [info] Lagrangian step time 3.249 s\n",
      "[2022-02-08 19:35:48.708] [console] [info] max(power(det(P), 1/4))=0.2391374934943481, solver_time 0.007546901702880859\n",
      "[2022-02-08 19:35:48.710] [console] [info] cost improvement 0.0015742213612015554\n",
      "[2022-02-08 19:35:50.536] [console] [info] Iter: 14, polytope step cost -0.00581821817714921, solver time 0.42616796493530273\n",
      "[2022-02-08 19:35:53.665] [console] [info] Found Lagrangian multiplier and separating planes\n",
      "[2022-02-08 19:35:53.666] [console] [info] Lagrangian step time 3.087 s\n",
      "[2022-02-08 19:35:53.693] [console] [info] max(power(det(P), 1/4))=0.2406468775826048, solver_time 0.010143041610717773\n",
      "[2022-02-08 19:35:53.694] [console] [info] cost improvement 0.00150938408825671\n",
      "[2022-02-08 19:35:55.483] [console] [info] Iter: 15, polytope step cost -0.005698543956336767, solver time 0.40169310569763184\n",
      "[2022-02-08 19:35:58.832] [console] [info] Found Lagrangian multiplier and separating planes\n",
      "[2022-02-08 19:35:58.833] [console] [info] Lagrangian step time 3.304 s\n",
      "[2022-02-08 19:35:58.847] [console] [info] max(power(det(P), 1/4))=0.24210056813122363, solver_time 0.007154941558837891\n",
      "[2022-02-08 19:35:58.848] [console] [info] cost improvement 0.0014536905486188245\n"
     ]
    },
    {
     "name": "stderr",
     "output_type": "stream",
     "text": [
      "[2022-02-08 19:36:00.640] [console] [info] Iter: 16, polytope step cost -0.00557567747292513, solver time 0.38878607749938965\n",
      "[2022-02-08 19:36:04.137] [console] [info] Found Lagrangian multiplier and separating planes\n",
      "[2022-02-08 19:36:04.141] [console] [info] Lagrangian step time 3.472 s\n",
      "[2022-02-08 19:36:04.172] [console] [info] max(power(det(P), 1/4))=0.24350116763464993, solver_time 0.01593494415283203\n",
      "[2022-02-08 19:36:04.174] [console] [info] cost improvement 0.001400599503426303\n",
      "[2022-02-08 19:36:05.966] [console] [info] Iter: 17, polytope step cost -0.005466929346269455, solver time 0.3860509395599365\n",
      "[2022-02-08 19:36:09.113] [console] [info] Found Lagrangian multiplier and separating planes\n",
      "[2022-02-08 19:36:09.114] [console] [info] Lagrangian step time 3.119 s\n",
      "[2022-02-08 19:36:09.142] [console] [info] max(power(det(P), 1/4))=0.24485582644352566, solver_time 0.00913095474243164\n",
      "[2022-02-08 19:36:09.145] [console] [info] cost improvement 0.001354658808875725\n",
      "[2022-02-08 19:36:11.057] [console] [info] Iter: 18, polytope step cost -0.005356327696965763, solver time 0.5384860038757324\n",
      "[2022-02-08 19:36:14.304] [console] [info] Found Lagrangian multiplier and separating planes\n",
      "[2022-02-08 19:36:14.306] [console] [info] Lagrangian step time 3.22 s\n",
      "[2022-02-08 19:36:14.338] [console] [info] max(power(det(P), 1/4))=0.24616343340136163, solver_time 0.01399087905883789\n",
      "[2022-02-08 19:36:14.339] [console] [info] cost improvement 0.0013076069578359661\n",
      "[2022-02-08 19:36:16.131] [console] [info] Iter: 19, polytope step cost -0.005097579397886594, solver time 0.4153859615325928\n",
      "[2022-02-08 19:36:16.175] [console] [info] max(power(det(P), 1/4))=0.2474017952965421, solver_time 0.010061979293823242\n"
     ]
    }
   ],
   "source": [
    "cspace_free_region_solution_bilinear = cspace_free_region.CspacePolytopeBilinearAlternation(q_star,\n",
    "                                                                     filtered_collision_pairs,\n",
    "                                                                     cspace_free_region_solution_round_robin.C,\n",
    "                                                                    0.75*cspace_free_region_solution_round_robin.d,\n",
    "                                                                     bilinear_alternation_options,\n",
    "                                                                     solver_options, s)"
   ]
  },
  {
   "cell_type": "code",
   "execution_count": 31,
   "metadata": {},
   "outputs": [],
   "source": [
    "if do_viz:\n",
    "    visualizer.plot_regions([HPolyhedron(cspace_free_region_solution_bilinear.C,\n",
    "                                         cspace_free_region_solution_bilinear.d)], \n",
    "                            ellipses=None, region_suffix='_bilinear')"
   ]
  },
  {
   "cell_type": "code",
   "execution_count": 15,
   "metadata": {},
   "outputs": [],
   "source": [
    "regions_round_robin = []\n",
    "ellipses_round_robin = []\n",
    "for sol in cspace_free_region_solution_round_robin_vect:\n",
    "    r = HPolyhedron(np.vstack([starting_poly.A(),sol.C]),\n",
    "                np.hstack([starting_poly.b(), sol.d])\n",
    "                )\n",
    "    e = Hyperellipsoid(np.linalg.inv(sol.P), sol.q)\n",
    "\n",
    "    regions_round_robin.append(r)\n",
    "    ellipses_round_robin.append(e)\n",
    "if do_viz:\n",
    "    visualizer.plot_regions(regions_round_robin, \n",
    "                            ellipses=ellipses_round_robin, region_suffix='_round_robin')"
   ]
  },
  {
   "cell_type": "code",
   "execution_count": 22,
   "metadata": {},
   "outputs": [],
   "source": [
    "if do_viz:\n",
    "    visualizer.plot_regions([HPolyhedron(cspace_free_region_solution.C, 0.5*cspace_free_region_solution.d)], \n",
    "                            ellipses=None, region_suffix='_round_robin')"
   ]
  },
  {
   "cell_type": "code",
   "execution_count": 26,
   "metadata": {},
   "outputs": [
    {
     "name": "stderr",
     "output_type": "stream",
     "text": [
      "[2022-02-07 15:27:37.125] [console] [info] Found Lagrangian multiplier and separating planes\n",
      "[2022-02-07 15:27:37.194] [console] [info] max(power(det(P), 1/4))=-nan, solver_time 0.05913114547729492\n",
      "[2022-02-07 15:27:40.385] [console] [info] bilinear alt on d succeeded\n",
      "[2022-02-07 15:27:40.411] [console] [info] max(power(det(P), 1/4))=1.195363453968912e-06, solver_time 0.014796972274780273\n",
      "[2022-02-07 15:27:45.796] [console] [warning] Cannot find Lagrangian multiplier and separating planes for \n",
      "(iiwa7_twoDOF::iiwa_twoDOF_link_3_collision, iiwa7_oneDOF::iiwa_oneDOF_link_7_collision)\n",
      "(iiwa7_twoDOF::iiwa_twoDOF_link_4_collision, iiwa7_oneDOF::iiwa_oneDOF_link_6_collision)\n",
      "(iiwa7_twoDOF::iiwa_twoDOF_link_4_collision, iiwa7_oneDOF::iiwa_oneDOF_link_7_collision)\n",
      "\n",
      "[2022-02-07 15:27:45.797] [console] [info] total iter=1, feasible iter = 0\n",
      "[2022-02-07 15:27:51.001] [console] [warning] Cannot find Lagrangian multiplier and separating planes for \n",
      "(iiwa7_twoDOF::iiwa_twoDOF_link_4_collision, iiwa7_oneDOF::iiwa_oneDOF_link_7_collision)\n",
      "\n",
      "[2022-02-07 15:27:51.002] [console] [info] total iter=2, feasible iter = 0\n",
      "[2022-02-07 15:27:56.016] [console] [info] Found Lagrangian multiplier and separating planes\n",
      "[2022-02-07 15:27:56.053] [console] [info] max(power(det(P), 1/4))=0.07773677992446408, solver_time 0.026539087295532227\n",
      "[2022-02-07 15:27:58.953] [console] [info] bilinear alt on d succeeded\n",
      "[2022-02-07 15:27:58.992] [console] [info] max(power(det(P), 1/4))=0.07773681296730837, solver_time 0.008252143859863281\n",
      "[2022-02-07 15:27:59.041] [console] [info] total iter=3, feasible iter = 1\n",
      "[2022-02-07 15:28:04.026] [console] [warning] Cannot find Lagrangian multiplier and separating planes for \n",
      "(iiwa7_twoDOF::iiwa_twoDOF_link_4_collision, iiwa7_oneDOF::iiwa_oneDOF_link_7_collision)\n",
      "\n",
      "[2022-02-07 15:28:04.029] [console] [info] total iter=4, feasible iter = 1\n",
      "[2022-02-07 15:28:09.672] [console] [warning] Cannot find Lagrangian multiplier and separating planes for \n",
      "(iiwa7_twoDOF::iiwa_twoDOF_link_4_collision, iiwa7_oneDOF::iiwa_oneDOF_link_7_collision)\n",
      "\n",
      "[2022-02-07 15:28:09.673] [console] [info] total iter=5, feasible iter = 1\n",
      "[2022-02-07 15:28:15.029] [console] [info] Found Lagrangian multiplier and separating planes\n",
      "[2022-02-07 15:28:15.082] [console] [info] max(power(det(P), 1/4))=0.08714346844118614, solver_time 0.030977964401245117\n",
      "[2022-02-07 15:28:18.155] [console] [info] bilinear alt on d succeeded\n",
      "[2022-02-07 15:28:18.181] [console] [info] max(power(det(P), 1/4))=0.08714346602165132, solver_time 0.011662960052490234\n",
      "[2022-02-07 15:28:18.237] [console] [info] total iter=6, feasible iter = 2\n",
      "[2022-02-07 15:28:18.259] [console] [info] max(power(det(P), 1/4))=0.08714346602165132, solver_time 0.014672994613647461\n"
     ]
    }
   ],
   "source": [
    "cspace_free_region_solution_vector_bisection = cspace_free_region.CspacePolytopeBisectionSearchVector(q_star,\n",
    "                                                                     filtered_collision_pairs,\n",
    "                                                                     C, d, \n",
    "                                                                     vector_bisection_search_options,\n",
    "                                                                     solver_options, s)"
   ]
  },
  {
   "cell_type": "code",
   "execution_count": 29,
   "metadata": {},
   "outputs": [],
   "source": [
    "if do_viz:\n",
    "    visualizer.plot_regions([HPolyhedron(cspace_free_region_solution_vector_bisection.C, \n",
    "                                         cspace_free_region_solution_vector_bisection.d)], \n",
    "                            ellipses=None, region_suffix='_vector_bisection')"
   ]
  },
  {
   "cell_type": "code",
   "execution_count": 105,
   "metadata": {},
   "outputs": [
    {
     "name": "stdout",
     "output_type": "stream",
     "text": [
      "(True, <SolutionResult.kSolutionFound: 0>)\n"
     ]
    }
   ],
   "source": []
  },
  {
   "cell_type": "code",
   "execution_count": 96,
   "metadata": {},
   "outputs": [
    {
     "data": {
      "text/plain": [
       "2"
      ]
     },
     "execution_count": 96,
     "metadata": {},
     "output_type": "execute_result"
    }
   ],
   "source": [
    "i"
   ]
  }
 ],
 "metadata": {
  "interpreter": {
   "hash": "916dbcbb3f70747c44a77c7bcd40155683ae19c65e1c03b4aa3499c5328201f1"
  },
  "kernelspec": {
   "display_name": "Python 3",
   "language": "python",
   "name": "python3"
  },
  "language_info": {
   "codemirror_mode": {
    "name": "ipython",
    "version": 3
   },
   "file_extension": ".py",
   "mimetype": "text/x-python",
   "name": "python",
   "nbconvert_exporter": "python",
   "pygments_lexer": "ipython3",
   "version": "3.8.10"
  }
 },
 "nbformat": 4,
 "nbformat_minor": 2
}
