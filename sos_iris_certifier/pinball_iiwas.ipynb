{
 "cells": [
  {
   "cell_type": "code",
   "execution_count": 20,
   "metadata": {},
   "outputs": [
    {
     "name": "stdout",
     "output_type": "stream",
     "text": [
      "The autoreload extension is already loaded. To reload it, use:\n",
      "  %reload_ext autoreload\n"
     ]
    }
   ],
   "source": [
    "%load_ext autoreload"
   ]
  },
  {
   "cell_type": "code",
   "execution_count": 21,
   "metadata": {},
   "outputs": [],
   "source": [
    "from certified_iris_generator import CertifiedIrisRegionGenerator\n",
    "import sys\n",
    "import os\n",
    "import time\n",
    "import numpy as np\n",
    "from functools import partial\n",
    "import itertools\n",
    "import mcubes\n",
    "import visualizations_utils as viz_utils\n",
    "import iris_utils #TODO remove\n",
    "from iris_plant_visualizer import IrisPlantVisualizer\n",
    "import ipywidgets as widgets\n",
    "from IPython.display import display\n",
    "from sandbox import rrtiris"
   ]
  },
  {
   "cell_type": "code",
   "execution_count": 22,
   "metadata": {},
   "outputs": [],
   "source": [
    "#pydrake imports\n",
    "from pydrake.common import FindResourceOrThrow\n",
    "from pydrake.multibody.parsing import LoadModelDirectives, Parser, ProcessModelDirectives\n",
    "from pydrake.multibody.plant import MultibodyPlant, AddMultibodyPlantSceneGraph\n",
    "from pydrake.systems.framework import DiagramBuilder\n",
    "from pydrake.all import InverseKinematics, RevoluteJoint, RationalForwardKinematics\n",
    "from pydrake.geometry.optimization import IrisOptionsRationalSpace, IrisInRationalConfigurationSpace, HPolyhedron, Hyperellipsoid\n",
    "from pydrake.geometry import Role, GeometrySet, CollisionFilterDeclaration\n",
    "import pydrake.symbolic as sym\n",
    "from pydrake.all import MathematicalProgram, RigidTransform, RollPitchYaw\n",
    "import meshcat\n",
    "from pydrake.all import GenerateSeedingPolytope\n",
    "import pydrake.multibody.rational_forward_kinematics as rational_forward_kinematics\n",
    "from pydrake.multibody.rational_forward_kinematics import FindEpsilonLower, FindEpsilonLowerVector, FindEpsilonUpperVector\n",
    "from pydrake.solvers import mathematicalprogram as mp\n",
    "from pydrake.all import FindMaxEpsForAllIneqs, MosekSolver, MosekSolverDetails\n"
   ]
  },
  {
   "cell_type": "markdown",
   "metadata": {},
   "source": [
    "# Build Plant\n"
   ]
  },
  {
   "cell_type": "code",
   "execution_count": 23,
   "metadata": {},
   "outputs": [],
   "source": [
    "q0 = [0.0, 0.0, 0.0]\n",
    "q_low  = [-1.7, -2., -1.7]\n",
    "q_high = [ 1.7,  2.,  1.7]\n"
   ]
  },
  {
   "cell_type": "code",
   "execution_count": 24,
   "metadata": {},
   "outputs": [],
   "source": [
    "builder = DiagramBuilder()\n",
    "plant, scene_graph = AddMultibodyPlantSceneGraph(builder, time_step=0.001)\n",
    "parser = Parser(plant)\n",
    "oneDOF_iiwa_asset = FindResourceOrThrow(\"drake/sos_iris_certifier/assets/oneDOF_iiwa7_with_box_collision.sdf\")\n",
    "twoDOF_iiwa_asset = FindResourceOrThrow(\"drake/sos_iris_certifier/assets/twoDOF_iiwa7_with_box_collision.sdf\")"
   ]
  },
  {
   "cell_type": "code",
   "execution_count": 25,
   "metadata": {},
   "outputs": [],
   "source": [
    "box_asset = FindResourceOrThrow(\"drake/sos_iris_certifier/assets/box_small.urdf\")\n",
    "\n",
    "models = []\n",
    "models.append(parser.AddModelFromFile(box_asset))\n",
    "models.append(parser.AddModelFromFile(twoDOF_iiwa_asset))\n",
    "models.append(parser.AddModelFromFile(oneDOF_iiwa_asset))\n",
    "\n",
    "\n",
    "\n",
    "locs = [[0.,0.,0.],[0.,.5,0.],[0.,-.5,0.]]\n",
    "plant.WeldFrames(plant.world_frame(), plant.GetFrameByName(\"base\", models[0]), RigidTransform(locs[0]))\n",
    "plant.WeldFrames(plant.world_frame(), plant.GetFrameByName(\"iiwa_twoDOF_link_0\", models[1]), RigidTransform(RollPitchYaw([0,0, -np.pi/2]).ToRotationMatrix(), locs[1]))\n",
    "plant.WeldFrames(plant.world_frame(), plant.GetFrameByName(\"iiwa_oneDOF_link_0\", models[2]), RigidTransform(RollPitchYaw([0,0, -np.pi/2]).ToRotationMatrix(), locs[2]))\n",
    "\n",
    "\n",
    "plant.Finalize()\n",
    "\n",
    "idx = 0\n",
    "for model in models:\n",
    "    for joint_index in plant.GetJointIndices(model):\n",
    "        joint = plant.get_mutable_joint(joint_index)\n",
    "        if isinstance(joint, RevoluteJoint):\n",
    "            joint.set_default_angle(q0[idx])\n",
    "            joint.set_position_limits(lower_limits= np.array([q_low[idx]]), upper_limits= np.array([q_high[idx]]))\n",
    "            idx += 1\n",
    "        \n",
    "            \n",
    "#q_low = plant.GetPositionLowerLimits().tolist()\n",
    "#q_high = plant.GetPositionUpperLimits().tolist()\n",
    "\n",
    "Ratfk = RationalForwardKinematics(plant)\n"
   ]
  },
  {
   "cell_type": "code",
   "execution_count": 26,
   "metadata": {},
   "outputs": [
    {
     "name": "stdout",
     "output_type": "stream",
     "text": [
      "You can open the visualizer by visiting the following URL:\n",
      "http://127.0.0.1:7006/static/\n",
      "You can open the visualizer by visiting the following URL:\n",
      "http://127.0.0.1:7007/static/\n",
      "Connecting to meshcat-server at zmq_url=tcp://127.0.0.1:6006...\n",
      "You can open the visualizer by visiting the following URL:\n",
      "http://127.0.0.1:7006/static/\n",
      "Connected to meshcat-server.\n"
     ]
    }
   ],
   "source": [
    "do_viz = True\n",
    "visualizer = IrisPlantVisualizer(plant, builder, scene_graph, viz_role=Role.kIllustration)\n",
    "diagram = visualizer.diagram\n",
    "visualizer.visualize_collision_constraint(N = 30)"
   ]
  },
  {
   "cell_type": "code",
   "execution_count": 27,
   "metadata": {
    "scrolled": false
   },
   "outputs": [
    {
     "data": {
      "application/vnd.jupyter.widget-view+json": {
       "model_id": "aa3510e134104b45a13c849af7c738c1",
       "version_major": 2,
       "version_minor": 0
      },
      "text/plain": [
       "FloatSlider(value=0.0, description='q0', max=1.7, min=-1.7)"
      ]
     },
     "metadata": {},
     "output_type": "display_data"
    },
    {
     "data": {
      "application/vnd.jupyter.widget-view+json": {
       "model_id": "9607e04641864235b57c3569a2127800",
       "version_major": 2,
       "version_minor": 0
      },
      "text/plain": [
       "FloatSlider(value=0.0, description='q1', max=2.0, min=-2.0)"
      ]
     },
     "metadata": {},
     "output_type": "display_data"
    },
    {
     "data": {
      "application/vnd.jupyter.widget-view+json": {
       "model_id": "68bf9816bcf643cda8bb0b219999d9e2",
       "version_major": 2,
       "version_minor": 0
      },
      "text/plain": [
       "FloatSlider(value=0.0, description='q2', max=1.7, min=-1.7)"
      ]
     },
     "metadata": {},
     "output_type": "display_data"
    },
    {
     "data": {
      "text/html": [
       "\n",
       "            <div style=\"height: 400px; width: 100%; overflow-x: auto; overflow-y: hidden; resize: both\">\n",
       "            <iframe src=\"http://127.0.0.1:7006/static/\" style=\"width: 100%; height: 100%; border: none\"></iframe>\n",
       "            </div>\n",
       "            "
      ],
      "text/plain": [
       "<IPython.core.display.HTML object>"
      ]
     },
     "metadata": {},
     "output_type": "display_data"
    },
    {
     "data": {
      "text/html": [
       "\n",
       "            <div style=\"height: 400px; width: 100%; overflow-x: auto; overflow-y: hidden; resize: both\">\n",
       "            <iframe src=\"http://127.0.0.1:7007/static/\" style=\"width: 100%; height: 100%; border: none\"></iframe>\n",
       "            </div>\n",
       "            "
      ],
      "text/plain": [
       "<IPython.core.display.HTML object>"
      ]
     },
     "metadata": {},
     "output_type": "display_data"
    }
   ],
   "source": [
    "sliders = []\n",
    "sliders.append(widgets.FloatSlider(min=q_low[0], max=q_high[0], value=0, description='q0'))\n",
    "sliders.append(widgets.FloatSlider(min=q_low[1], max=q_high[1], value=0, description='q1'))\n",
    "sliders.append(widgets.FloatSlider(min=q_low[2], max=q_high[2], value=0, description='q2'))\n",
    "\n",
    "q = q0.copy()\n",
    "def handle_slider_change(change, idx):\n",
    "    q[idx] = change['new']\n",
    "    #print(q, end=\"\\r\")\n",
    "    visualizer.showres(q)\n",
    "    \n",
    "idx = 0\n",
    "for slider in sliders:\n",
    "    slider.observe(partial(handle_slider_change, idx = idx), names='value')\n",
    "    idx+=1\n",
    "\n",
    "for slider in sliders:\n",
    "    display(slider)\n",
    "\n",
    "visualizer.jupyter_cell()"
   ]
  },
  {
   "cell_type": "code",
   "execution_count": 28,
   "metadata": {
    "scrolled": true
   },
   "outputs": [
    {
     "name": "stdout",
     "output_type": "stream",
     "text": [
      "150 -> 150\n",
      "137 -> 150\n"
     ]
    }
   ],
   "source": [
    "#filter fused joints self collisions \n",
    "digaram = visualizer.diagram\n",
    "context = visualizer.diagram_context\n",
    "plant_context = visualizer.plant_context\n",
    "sg_context = scene_graph.GetMyContextFromRoot(context)\n",
    "inspector = scene_graph.model_inspector()\n",
    "\n",
    "pairs = scene_graph.get_query_output_port().Eval(sg_context).inspector().GetCollisionCandidates()\n",
    "print(len(inspector.GetCollisionCandidates()), \"->\", len(pairs))\n",
    "\n",
    "gids = [gid for gid in inspector.GetGeometryIds(GeometrySet(inspector.GetAllGeometryIds()), Role.kProximity)]\n",
    "get_name_of_gid = lambda gid : inspector.GetName(gid)\n",
    "gids.sort(key=get_name_of_gid)\n",
    "iiwa_oneDOF_gids = [gid for gid in gids if \"iiwa7_oneDOF::\" in get_name_of_gid(gid)]\n",
    "iiwa_twoDOF_gids = [gid for gid in gids if \"iiwa7_twoDOF::\" in get_name_of_gid(gid)]\n",
    "\n",
    "oneDOF_fused_col_geom = iiwa_oneDOF_gids[2:]\n",
    "iiwa_oneDOF_fused_set = GeometrySet(oneDOF_fused_col_geom)\n",
    "twoDOF_fused_col_geom = iiwa_twoDOF_gids[4:]\n",
    "iiwa_twoDOF_fused_set = GeometrySet(twoDOF_fused_col_geom)\n",
    "# print([get_name_of_gid(gid) for gid in oneDOF_fused_col_geom])\n",
    "# print([get_name_of_gid(gid) for gid in twoDOF_fused_col_geom])\n",
    "scene_graph.collision_filter_manager()\\\n",
    "            .Apply(CollisionFilterDeclaration().ExcludeWithin(iiwa_oneDOF_fused_set))\n",
    "scene_graph.collision_filter_manager()\\\n",
    "            .Apply(CollisionFilterDeclaration().ExcludeWithin(iiwa_twoDOF_fused_set))\n",
    "pairs = scene_graph.get_query_output_port().Eval(sg_context).inspector().GetCollisionCandidates()\n",
    "print(len(inspector.GetCollisionCandidates()), \"->\", len(pairs))"
   ]
  },
  {
   "cell_type": "markdown",
   "metadata": {},
   "source": [
    "# Setup IRIS Options and Generate Regions"
   ]
  },
  {
   "cell_type": "code",
   "execution_count": 36,
   "metadata": {},
   "outputs": [],
   "source": [
    "# seed_points_q = np.array([[0.0, 0, 0], # zero config\n",
    "#                         [0.0, -1.3, -1.3],  # start\n",
    "#                         [0.9, -1.5, -0.8]     # goal\n",
    "#                          ])\n",
    "seed_points_q = np.array([[0.0, 0, 0], # zero config\n",
    "                        [0.8, 1.3, -0.8],  # START: blue low green up\n",
    "                        [0.1, 0.9, -1.2],     # GOAL: green low other up\n",
    "                        [0.2, 1.6, -0.6],\n",
    "                        [0.5, -1.9, -0.9]\n",
    "                         ])[:,(0,1,2)]   # passing\n",
    "\n",
    "\n",
    "seed_points = np.array([Ratfk.ComputeTValue(seed_points_q[idx], np.zeros((3,)))\\\n",
    "                        for idx in range(seed_points_q.shape[0])])\n",
    "if do_viz:\n",
    "    visualizer.plot_seedpoints(seed_points)\n",
    "\n",
    "start = seed_points[1,:]\n",
    "goal = seed_points[2,:]\n",
    "\n",
    "#compute limits in t-space\n",
    "limits_t = []\n",
    "for q in [q_low, q_high]:\n",
    "    limits_t.append(Ratfk.ComputeTValue(np.array(q), np.zeros((3,)) ))\n",
    "    \n",
    "starting_poly = HPolyhedron.MakeBox(limits_t[0], limits_t[1])\n",
    "context = diagram.CreateDefaultContext()\n",
    "q_star = np.zeros(3)\n",
    "def check_empty_polytope(C, d):\n",
    "    prog = MathematicalProgram()\n",
    "    t = prog.NewContinuousVariables(C.shape[1], \"t\")\n",
    "\n",
    "    prog.AddLinearConstraint(C,-np.inf*np.ones(C.shape[0]), d, t)\n",
    "    prog.AddBoundingBoxConstraint(limits_t[0], limits_t[1], t)\n",
    "    result = MosekSolver().Solve(prog)\n",
    "    return result.is_success(), result.get_solution_result()"
   ]
  },
  {
   "cell_type": "code",
   "execution_count": 30,
   "metadata": {},
   "outputs": [],
   "source": [
    "# RUN THIS CELL IF YOU WANT TO DO SNOPT IRIS\n",
    "\n",
    "# regions = []\n",
    "\n",
    "# iris_options = IrisOptionsRationalSpace()\n",
    "# iris_options.require_sample_point_is_contained = True\n",
    "# iris_options.iteration_limit = 20\n",
    "# iris_options.configuration_space_margin = 1e-5\n",
    "# iris_options.max_faces_per_collision_pair = 60\n",
    "# iris_options.termination_threshold = -1\n",
    "# iris_options.q_star = np.zeros(3)\n",
    "# iris_options.relative_termination_threshold = 0.05\n",
    "# iris_options.enable_ibex = False\n",
    "# #deprecated\n",
    "# iris_options.certify_region_with_sos_during_generation = False\n",
    "# iris_options.certify_region_with_sos_after_generation = False\n",
    "\n",
    "# for i, s in enumerate(seed_points):\n",
    "#     plant.SetPositions(plant.GetMyMutableContextFromRoot(context), s)\n",
    "#     if False:\n",
    "#         #starting_hpolyhedron = regions[i-1]\n",
    "#         r = IrisInRationalConfigurationSpace (plant, plant.GetMyContextFromRoot(context),\n",
    "#                                               iris_options, starting_hpolyhedron)\n",
    "#     else:\n",
    "#         r = IrisInRationalConfigurationSpace(plant, plant.GetMyContextFromRoot(context), iris_options)\n",
    "#     regions.append(r)\n",
    "#     print(f'Completed region: {i+1}/{len(seed_points)}')\n",
    "#     print(f\"Sample point contained = {np.all(r.A()@s <= r.b())}\")\n",
    "#     print(f\"Sample point contained componentwise = {r.A()@s <= r.b()}\")\n",
    "#     print()"
   ]
  },
  {
   "cell_type": "code",
   "execution_count": 31,
   "metadata": {},
   "outputs": [],
   "source": [
    "# if do_viz:\n",
    "#     visualizer.plot_regions(regions, ellipses=None, region_suffix='original')"
   ]
  },
  {
   "cell_type": "markdown",
   "metadata": {},
   "source": [
    "## Create default region"
   ]
  },
  {
   "cell_type": "code",
   "execution_count": 32,
   "metadata": {},
   "outputs": [],
   "source": [
    "regions_default = []\n",
    "max_vects = []\n",
    "min_vects = []\n",
    "#parameters for creating a default region. Currently set to create a box\n",
    "num_perm_dim = 0\n",
    "num_rot = 1\n",
    "\n",
    "for i, s in enumerate(seed_points):\n",
    "    regions_default.append(GenerateSeedingPolytope(s, num_perm_dim, num_rot))\n",
    "    \n",
    "    eps_min_vect = FindEpsilonLowerVector(regions_default[i].A(), \n",
    "                                      regions_default[i].b(), \n",
    "                                      limits_t[0], limits_t[1], s)\n",
    "    \n",
    "    min_vects.append(eps_min_vect)\n",
    "\n",
    "if do_viz:\n",
    "    visualizer.plot_regions(regions_default, ellipses=None, region_suffix='_default')\n",
    "    "
   ]
  },
  {
   "cell_type": "code",
   "execution_count": 33,
   "metadata": {},
   "outputs": [],
   "source": [
    "i = 2\n",
    "s = seed_points[i,:]\n",
    "\n",
    "eps_min = FindEpsilonLowerVector(regions_default[i].A(), \n",
    "                                      regions_default[i].b(), \n",
    "                                      limits_t[0], limits_t[1], s)\n",
    "\n",
    "C, d = regions_default[i].A(), regions_default[i].b()\n",
    "eps_max = FindMaxEpsForAllIneqs(plant, plant.GetMyMutableContextFromRoot(context), \n",
    "                                q_star, C, d, eps_min, limits_t[0], limits_t[1],s)\n"
   ]
  },
  {
   "cell_type": "code",
   "execution_count": 37,
   "metadata": {},
   "outputs": [
    {
     "name": "stdout",
     "output_type": "stream",
     "text": [
      "(True, <SolutionResult.kSolutionFound: 0>)\n",
      "(True, <SolutionResult.kSolutionFound: 0>)\n",
      "(True, <SolutionResult.kSolutionFound: 0>)\n",
      "(True, <SolutionResult.kSolutionFound: 0>)\n",
      "(True, <SolutionResult.kSolutionFound: 0>)\n",
      "(True, <SolutionResult.kSolutionFound: 0>)\n",
      "(True, <SolutionResult.kSolutionFound: 0>)\n"
     ]
    }
   ],
   "source": [
    "print(check_empty_polytope(C, d+eps_max))\n",
    "#plot the new polytopes which each individual face moved\n",
    "r_moved_list = []\n",
    "for j in range(len(d)):\n",
    "    d_new = d.copy()\n",
    "    d_new[j] += eps_max[j]\n",
    "    r_moved_list.append(HPolyhedron(C, d_new))\n",
    "    print(check_empty_polytope(C, d_new))\n",
    "if do_viz:\n",
    "    visualizer.plot_regions(r_moved_list, ellipses=None, region_suffix='_maxed')\n",
    "if do_viz:\n",
    "    visualizer.plot_regions([HPolyhedron(C, d+0.99*eps_max)], ellipses=None, region_suffix='_all')"
   ]
  },
  {
   "cell_type": "markdown",
   "metadata": {},
   "source": [
    "## Run Cspace Free Region"
   ]
  },
  {
   "cell_type": "code",
   "execution_count": 38,
   "metadata": {},
   "outputs": [],
   "source": [
    "cspace_free_region = rational_forward_kinematics.CspaceFreeRegion(diagram, plant, scene_graph,\n",
    "                                   rational_forward_kinematics.SeparatingPlaneOrder.kAffine,\n",
    "                                   rational_forward_kinematics.CspaceRegionType.kGenericPolytope)\n",
    "filtered_collision_pairs = set()\n",
    "solver_options = mp.SolverOptions()\n",
    "solver_options.SetOption(mp.CommonSolverOption.kPrintToConsole, 1)"
   ]
  },
  {
   "cell_type": "code",
   "execution_count": 45,
   "metadata": {},
   "outputs": [],
   "source": [
    "vector_bisection_search_options = rational_forward_kinematics.VectorBisectionSearchOption()\n",
    "vector_bisection_search_options.max_iters = 10\n",
    "vector_bisection_search_options.max_feasible_iters = 5\n",
    "vector_bisection_search_options.search_d = True\n",
    "vector_bisection_search_options.epsilon_min = eps_min\n",
    "vector_bisection_search_options.epsilon_max = eps_max\n",
    "vector_bisection_search_options.multi_thread = True\n",
    "num_rounds = 1\n",
    "\n",
    "bilinear_alternation_options = rational_forward_kinematics.BilinearAlternationOption()\n",
    "bilinear_alternation_options.max_iters = 20\n",
    "bilinear_alternation_options.lagrangian_backoff_scale = 0\n",
    "bilinear_alternation_options.polytope_backoff_scale = 0\n",
    "bilinear_alternation_options.multi_thread = True\n"
   ]
  },
  {
   "cell_type": "code",
   "execution_count": 46,
   "metadata": {},
   "outputs": [
    {
     "name": "stderr",
     "output_type": "stream",
     "text": [
      "[2022-02-08 08:37:57.853] [console] [info] Found Lagrangian multiplier and separating planes\n",
      "[2022-02-08 08:37:57.854] [console] [info] Lagrangian step time 3.11 s\n",
      "[2022-02-08 08:37:57.887] [console] [info] max(power(det(P), 1/4))=4.723128380619069e-08, solver_time 0.0248868465423584\n",
      "[2022-02-08 08:37:57.888] [console] [info] cost improvement inf\n",
      "[2022-02-08 08:37:59.779] [console] [info] mosek info 5, InfeasibleConstraints\n",
      "[2022-02-08 08:37:59.780] [console] [warning] Failed to find the polytope at iteration 0\n"
     ]
    }
   ],
   "source": [
    "cspace_free_region_solution_bilinear = cspace_free_region.CspacePolytopeBilinearAlternation(q_star,\n",
    "                                                                     filtered_collision_pairs,\n",
    "                                                                     C, d+eps_min,\n",
    "                                                                     bilinear_alternation_options,\n",
    "                                                                     solver_options, s)"
   ]
  },
  {
   "cell_type": "code",
   "execution_count": 42,
   "metadata": {},
   "outputs": [],
   "source": [
    "if do_viz:\n",
    "    visualizer.plot_regions([HPolyhedron(cspace_free_region_solution_bilinear.C,\n",
    "                                         cspace_free_region_solution_bilinear.d)], \n",
    "                            ellipses=None, region_suffix='_bilinear')"
   ]
  },
  {
   "cell_type": "code",
   "execution_count": null,
   "metadata": {},
   "outputs": [],
   "source": [
    "cspace_free_region_solution_vector_bisection = cspace_free_region.CspacePolytopeBisectionSearchVector(q_star,\n",
    "                                                                     filtered_collision_pairs,\n",
    "                                                                     C, d, \n",
    "                                                                     vector_bisection_search_options,\n",
    "                                                                     solver_options, s)"
   ]
  },
  {
   "cell_type": "code",
   "execution_count": null,
   "metadata": {},
   "outputs": [],
   "source": [
    "if do_viz:\n",
    "    visualizer.plot_regions([HPolyhedron(cspace_free_region_solution_vector_bisection.C,\n",
    "                                         cspace_free_region_solution_vector_bisection.d)], \n",
    "                            ellipses=None, region_suffix='_vector_bisection')"
   ]
  },
  {
   "cell_type": "code",
   "execution_count": 19,
   "metadata": {},
   "outputs": [
    {
     "name": "stderr",
     "output_type": "stream",
     "text": [
      "[2022-02-07 19:45:24.017] [console] [info] Found Lagrangian multiplier and separating planes\n",
      "[2022-02-07 19:45:26.838] [console] [info] bilinear alt on d succeeded\n",
      "[2022-02-07 19:45:26.869] [console] [info] Ineq 3/12 in round 1\n",
      "[2022-02-07 19:45:26.871] [console] [info] current gap is epsilon_gap=0.8341785067172311\n",
      "[2022-02-07 19:45:31.783] [console] [warning] Cannot find Lagrangian multiplier and separating planes for \n",
      "(box_scene::box2_Collision@000055f90b5d5308, iiwa7_twoDOF::iiwa_twoDOF_link_6_collision)\n",
      "(box_scene::box2_Collision@000055f90b5d5308, iiwa7_twoDOF::iiwa_twoDOF_link_7_collision)\n",
      "(iiwa7_twoDOF::iiwa_twoDOF_link_2_collision, iiwa7_oneDOF::iiwa_oneDOF_link_7_collision)\n",
      "(iiwa7_twoDOF::iiwa_twoDOF_link_3_collision, iiwa7_oneDOF::iiwa_oneDOF_link_6_collision)\n",
      "(iiwa7_twoDOF::iiwa_twoDOF_link_3_collision, iiwa7_oneDOF::iiwa_oneDOF_link_7_collision)\n",
      "(iiwa7_twoDOF::iiwa_twoDOF_link_4_collision, iiwa7_oneDOF::iiwa_oneDOF_link_6_collision)\n",
      "(iiwa7_twoDOF::iiwa_twoDOF_link_4_collision, iiwa7_oneDOF::iiwa_oneDOF_link_7_collision)\n",
      "\n",
      "[2022-02-07 19:45:31.785] [console] [info] epsilon=0.31708926335861554 is infeasible\n",
      "[2022-02-07 19:45:31.786] [console] [info] current gap is epsilon_gap=0.41708925335861563\n",
      "[2022-02-07 19:45:36.780] [console] [warning] Cannot find Lagrangian multiplier and separating planes for \n",
      "(box_scene::box2_Collision@000055f90b5d5308, iiwa7_twoDOF::iiwa_twoDOF_link_6_collision)\n",
      "(box_scene::box2_Collision@000055f90b5d5308, iiwa7_twoDOF::iiwa_twoDOF_link_7_collision)\n",
      "(iiwa7_twoDOF::iiwa_twoDOF_link_2_collision, iiwa7_oneDOF::iiwa_oneDOF_link_7_collision)\n",
      "(iiwa7_twoDOF::iiwa_twoDOF_link_3_collision, iiwa7_oneDOF::iiwa_oneDOF_link_6_collision)\n",
      "(iiwa7_twoDOF::iiwa_twoDOF_link_3_collision, iiwa7_oneDOF::iiwa_oneDOF_link_7_collision)\n",
      "(iiwa7_twoDOF::iiwa_twoDOF_link_4_collision, iiwa7_oneDOF::iiwa_oneDOF_link_6_collision)\n",
      "(iiwa7_twoDOF::iiwa_twoDOF_link_4_collision, iiwa7_oneDOF::iiwa_oneDOF_link_7_collision)\n",
      "\n",
      "[2022-02-07 19:45:36.781] [console] [info] epsilon=0.10854463667930772 is infeasible\n",
      "[2022-02-07 19:45:36.782] [console] [info] current gap is epsilon_gap=0.20854462667930782\n",
      "[2022-02-07 19:45:41.723] [console] [warning] Cannot find Lagrangian multiplier and separating planes for \n",
      "(box_scene::box2_Collision@000055f90b5d5308, iiwa7_twoDOF::iiwa_twoDOF_link_6_collision)\n",
      "(box_scene::box2_Collision@000055f90b5d5308, iiwa7_twoDOF::iiwa_twoDOF_link_7_collision)\n",
      "(iiwa7_twoDOF::iiwa_twoDOF_link_2_collision, iiwa7_oneDOF::iiwa_oneDOF_link_7_collision)\n",
      "(iiwa7_twoDOF::iiwa_twoDOF_link_3_collision, iiwa7_oneDOF::iiwa_oneDOF_link_6_collision)\n",
      "(iiwa7_twoDOF::iiwa_twoDOF_link_3_collision, iiwa7_oneDOF::iiwa_oneDOF_link_7_collision)\n",
      "(iiwa7_twoDOF::iiwa_twoDOF_link_4_collision, iiwa7_oneDOF::iiwa_oneDOF_link_6_collision)\n",
      "(iiwa7_twoDOF::iiwa_twoDOF_link_4_collision, iiwa7_oneDOF::iiwa_oneDOF_link_7_collision)\n",
      "\n",
      "[2022-02-07 19:45:41.725] [console] [info] epsilon=0.0042723233396538135 is infeasible\n",
      "[2022-02-07 19:45:41.726] [console] [info] current gap is epsilon_gap=0.10427231333965391\n",
      "[2022-02-07 19:45:46.901] [console] [warning] Cannot find Lagrangian multiplier and separating planes for \n",
      "(box_scene::box2_Collision@000055f90b5d5308, iiwa7_twoDOF::iiwa_twoDOF_link_6_collision)\n",
      "(box_scene::box2_Collision@000055f90b5d5308, iiwa7_twoDOF::iiwa_twoDOF_link_7_collision)\n",
      "(iiwa7_twoDOF::iiwa_twoDOF_link_2_collision, iiwa7_oneDOF::iiwa_oneDOF_link_7_collision)\n",
      "(iiwa7_twoDOF::iiwa_twoDOF_link_3_collision, iiwa7_oneDOF::iiwa_oneDOF_link_6_collision)\n",
      "(iiwa7_twoDOF::iiwa_twoDOF_link_3_collision, iiwa7_oneDOF::iiwa_oneDOF_link_7_collision)\n",
      "(iiwa7_twoDOF::iiwa_twoDOF_link_4_collision, iiwa7_oneDOF::iiwa_oneDOF_link_6_collision)\n",
      "(iiwa7_twoDOF::iiwa_twoDOF_link_4_collision, iiwa7_oneDOF::iiwa_oneDOF_link_7_collision)\n",
      "\n",
      "[2022-02-07 19:45:46.902] [console] [info] epsilon=-0.04786383333017314 is infeasible\n",
      "[2022-02-07 19:45:46.903] [console] [info] current gap is epsilon_gap=0.052136156669826954\n",
      "[2022-02-07 19:45:52.139] [console] [warning] Cannot find Lagrangian multiplier and separating planes for \n",
      "(box_scene::box2_Collision@000055f90b5d5308, iiwa7_twoDOF::iiwa_twoDOF_link_6_collision)\n",
      "(box_scene::box2_Collision@000055f90b5d5308, iiwa7_twoDOF::iiwa_twoDOF_link_7_collision)\n",
      "(iiwa7_twoDOF::iiwa_twoDOF_link_2_collision, iiwa7_oneDOF::iiwa_oneDOF_link_7_collision)\n",
      "(iiwa7_twoDOF::iiwa_twoDOF_link_3_collision, iiwa7_oneDOF::iiwa_oneDOF_link_6_collision)\n",
      "(iiwa7_twoDOF::iiwa_twoDOF_link_3_collision, iiwa7_oneDOF::iiwa_oneDOF_link_7_collision)\n",
      "(iiwa7_twoDOF::iiwa_twoDOF_link_4_collision, iiwa7_oneDOF::iiwa_oneDOF_link_6_collision)\n",
      "(iiwa7_twoDOF::iiwa_twoDOF_link_4_collision, iiwa7_oneDOF::iiwa_oneDOF_link_7_collision)\n",
      "\n",
      "[2022-02-07 19:45:52.140] [console] [info] epsilon=-0.07393191166508661 is infeasible\n",
      "[2022-02-07 19:45:52.140] [console] [info] current gap is epsilon_gap=0.02606807833491348\n",
      "[2022-02-07 19:45:56.982] [console] [warning] Cannot find Lagrangian multiplier and separating planes for \n",
      "(box_scene::box2_Collision@000055f90b5d5308, iiwa7_twoDOF::iiwa_twoDOF_link_6_collision)\n",
      "(box_scene::box2_Collision@000055f90b5d5308, iiwa7_twoDOF::iiwa_twoDOF_link_7_collision)\n",
      "(iiwa7_twoDOF::iiwa_twoDOF_link_2_collision, iiwa7_oneDOF::iiwa_oneDOF_link_7_collision)\n",
      "(iiwa7_twoDOF::iiwa_twoDOF_link_3_collision, iiwa7_oneDOF::iiwa_oneDOF_link_6_collision)\n",
      "(iiwa7_twoDOF::iiwa_twoDOF_link_3_collision, iiwa7_oneDOF::iiwa_oneDOF_link_7_collision)\n",
      "(iiwa7_twoDOF::iiwa_twoDOF_link_4_collision, iiwa7_oneDOF::iiwa_oneDOF_link_6_collision)\n",
      "(iiwa7_twoDOF::iiwa_twoDOF_link_4_collision, iiwa7_oneDOF::iiwa_oneDOF_link_7_collision)\n",
      "\n",
      "[2022-02-07 19:45:56.983] [console] [info] epsilon=-0.08696595083254335 is infeasible\n",
      "[2022-02-07 19:45:56.985] [console] [info] current gap is epsilon_gap=0.01303403916745674\n",
      "[2022-02-07 19:46:01.922] [console] [warning] Cannot find Lagrangian multiplier and separating planes for \n",
      "(box_scene::box2_Collision@000055f90b5d5308, iiwa7_twoDOF::iiwa_twoDOF_link_6_collision)\n",
      "(box_scene::box2_Collision@000055f90b5d5308, iiwa7_twoDOF::iiwa_twoDOF_link_7_collision)\n",
      "(iiwa7_twoDOF::iiwa_twoDOF_link_2_collision, iiwa7_oneDOF::iiwa_oneDOF_link_7_collision)\n",
      "(iiwa7_twoDOF::iiwa_twoDOF_link_3_collision, iiwa7_oneDOF::iiwa_oneDOF_link_6_collision)\n",
      "(iiwa7_twoDOF::iiwa_twoDOF_link_3_collision, iiwa7_oneDOF::iiwa_oneDOF_link_7_collision)\n",
      "(iiwa7_twoDOF::iiwa_twoDOF_link_4_collision, iiwa7_oneDOF::iiwa_oneDOF_link_6_collision)\n",
      "(iiwa7_twoDOF::iiwa_twoDOF_link_4_collision, iiwa7_oneDOF::iiwa_oneDOF_link_7_collision)\n",
      "\n",
      "[2022-02-07 19:46:01.923] [console] [info] epsilon=-0.09348297041627172 is infeasible\n",
      "[2022-02-07 19:46:01.924] [console] [info] current gap is epsilon_gap=0.00651701958372837\n",
      "[2022-02-07 19:46:07.437] [console] [warning] Cannot find Lagrangian multiplier and separating planes for \n",
      "(box_scene::box2_Collision@000055f90b5d5308, iiwa7_twoDOF::iiwa_twoDOF_link_6_collision)\n",
      "(box_scene::box2_Collision@000055f90b5d5308, iiwa7_twoDOF::iiwa_twoDOF_link_7_collision)\n",
      "(iiwa7_twoDOF::iiwa_twoDOF_link_2_collision, iiwa7_oneDOF::iiwa_oneDOF_link_7_collision)\n",
      "(iiwa7_twoDOF::iiwa_twoDOF_link_3_collision, iiwa7_oneDOF::iiwa_oneDOF_link_6_collision)\n",
      "(iiwa7_twoDOF::iiwa_twoDOF_link_3_collision, iiwa7_oneDOF::iiwa_oneDOF_link_7_collision)\n",
      "(iiwa7_twoDOF::iiwa_twoDOF_link_4_collision, iiwa7_oneDOF::iiwa_oneDOF_link_6_collision)\n",
      "(iiwa7_twoDOF::iiwa_twoDOF_link_4_collision, iiwa7_oneDOF::iiwa_oneDOF_link_7_collision)\n",
      "\n",
      "[2022-02-07 19:46:07.438] [console] [info] epsilon=-0.09674148020813592 is infeasible\n",
      "[2022-02-07 19:46:07.439] [console] [info] current gap is epsilon_gap=0.003258509791864178\n",
      "[2022-02-07 19:46:12.557] [console] [warning] Cannot find Lagrangian multiplier and separating planes for \n",
      "(box_scene::box2_Collision@000055f90b5d5308, iiwa7_twoDOF::iiwa_twoDOF_link_6_collision)\n",
      "(box_scene::box2_Collision@000055f90b5d5308, iiwa7_twoDOF::iiwa_twoDOF_link_7_collision)\n",
      "(iiwa7_twoDOF::iiwa_twoDOF_link_2_collision, iiwa7_oneDOF::iiwa_oneDOF_link_7_collision)\n",
      "(iiwa7_twoDOF::iiwa_twoDOF_link_3_collision, iiwa7_oneDOF::iiwa_oneDOF_link_6_collision)\n",
      "(iiwa7_twoDOF::iiwa_twoDOF_link_3_collision, iiwa7_oneDOF::iiwa_oneDOF_link_7_collision)\n",
      "(iiwa7_twoDOF::iiwa_twoDOF_link_4_collision, iiwa7_oneDOF::iiwa_oneDOF_link_6_collision)\n",
      "(iiwa7_twoDOF::iiwa_twoDOF_link_4_collision, iiwa7_oneDOF::iiwa_oneDOF_link_7_collision)\n",
      "\n"
     ]
    },
    {
     "name": "stderr",
     "output_type": "stream",
     "text": [
      "[2022-02-07 19:46:12.558] [console] [info] epsilon=-0.098370735104068 is infeasible\n",
      "[2022-02-07 19:46:12.559] [console] [info] current gap is epsilon_gap=0.001629254895932089\n",
      "[2022-02-07 19:46:17.500] [console] [warning] Cannot find Lagrangian multiplier and separating planes for \n",
      "(box_scene::box2_Collision@000055f90b5d5308, iiwa7_twoDOF::iiwa_twoDOF_link_6_collision)\n",
      "(box_scene::box2_Collision@000055f90b5d5308, iiwa7_twoDOF::iiwa_twoDOF_link_7_collision)\n",
      "(iiwa7_twoDOF::iiwa_twoDOF_link_2_collision, iiwa7_oneDOF::iiwa_oneDOF_link_7_collision)\n",
      "(iiwa7_twoDOF::iiwa_twoDOF_link_3_collision, iiwa7_oneDOF::iiwa_oneDOF_link_6_collision)\n",
      "(iiwa7_twoDOF::iiwa_twoDOF_link_3_collision, iiwa7_oneDOF::iiwa_oneDOF_link_7_collision)\n",
      "(iiwa7_twoDOF::iiwa_twoDOF_link_4_collision, iiwa7_oneDOF::iiwa_oneDOF_link_6_collision)\n",
      "(iiwa7_twoDOF::iiwa_twoDOF_link_4_collision, iiwa7_oneDOF::iiwa_oneDOF_link_7_collision)\n",
      "\n",
      "[2022-02-07 19:46:17.502] [console] [info] epsilon=-0.09918536255203406 is infeasible\n",
      "[2022-02-07 19:46:17.502] [console] [info] Ineq 9/12 in round 1\n",
      "[2022-02-07 19:46:17.503] [console] [info] current gap is epsilon_gap=0.8341785067172311\n",
      "[2022-02-07 19:46:22.519] [console] [warning] Cannot find Lagrangian multiplier and separating planes for \n",
      "(box_scene::box2_Collision@000055f90b5d5308, iiwa7_twoDOF::iiwa_twoDOF_link_6_collision)\n",
      "(box_scene::box2_Collision@000055f90b5d5308, iiwa7_twoDOF::iiwa_twoDOF_link_7_collision)\n",
      "(iiwa7_twoDOF::iiwa_twoDOF_link_2_collision, iiwa7_oneDOF::iiwa_oneDOF_link_7_collision)\n",
      "(iiwa7_twoDOF::iiwa_twoDOF_link_3_collision, iiwa7_oneDOF::iiwa_oneDOF_link_6_collision)\n",
      "(iiwa7_twoDOF::iiwa_twoDOF_link_3_collision, iiwa7_oneDOF::iiwa_oneDOF_link_7_collision)\n",
      "(iiwa7_twoDOF::iiwa_twoDOF_link_4_collision, iiwa7_oneDOF::iiwa_oneDOF_link_6_collision)\n",
      "(iiwa7_twoDOF::iiwa_twoDOF_link_4_collision, iiwa7_oneDOF::iiwa_oneDOF_link_7_collision)\n",
      "\n",
      "[2022-02-07 19:46:22.520] [console] [info] epsilon=0.31708926335861554 is infeasible\n",
      "[2022-02-07 19:46:22.521] [console] [info] current gap is epsilon_gap=0.41708925335861563\n",
      "[2022-02-07 19:46:27.443] [console] [warning] Cannot find Lagrangian multiplier and separating planes for \n",
      "(box_scene::box2_Collision@000055f90b5d5308, iiwa7_twoDOF::iiwa_twoDOF_link_6_collision)\n",
      "(box_scene::box2_Collision@000055f90b5d5308, iiwa7_twoDOF::iiwa_twoDOF_link_7_collision)\n",
      "(iiwa7_twoDOF::iiwa_twoDOF_link_2_collision, iiwa7_oneDOF::iiwa_oneDOF_link_7_collision)\n",
      "(iiwa7_twoDOF::iiwa_twoDOF_link_3_collision, iiwa7_oneDOF::iiwa_oneDOF_link_6_collision)\n",
      "(iiwa7_twoDOF::iiwa_twoDOF_link_3_collision, iiwa7_oneDOF::iiwa_oneDOF_link_7_collision)\n",
      "(iiwa7_twoDOF::iiwa_twoDOF_link_4_collision, iiwa7_oneDOF::iiwa_oneDOF_link_6_collision)\n",
      "(iiwa7_twoDOF::iiwa_twoDOF_link_4_collision, iiwa7_oneDOF::iiwa_oneDOF_link_7_collision)\n",
      "\n",
      "[2022-02-07 19:46:27.444] [console] [info] epsilon=0.10854463667930772 is infeasible\n",
      "[2022-02-07 19:46:27.445] [console] [info] current gap is epsilon_gap=0.20854462667930782\n",
      "[2022-02-07 19:46:33.206] [console] [warning] Cannot find Lagrangian multiplier and separating planes for \n",
      "(box_scene::box2_Collision@000055f90b5d5308, iiwa7_twoDOF::iiwa_twoDOF_link_6_collision)\n",
      "(box_scene::box2_Collision@000055f90b5d5308, iiwa7_twoDOF::iiwa_twoDOF_link_7_collision)\n",
      "(iiwa7_twoDOF::iiwa_twoDOF_link_2_collision, iiwa7_oneDOF::iiwa_oneDOF_link_7_collision)\n",
      "(iiwa7_twoDOF::iiwa_twoDOF_link_3_collision, iiwa7_oneDOF::iiwa_oneDOF_link_6_collision)\n",
      "(iiwa7_twoDOF::iiwa_twoDOF_link_3_collision, iiwa7_oneDOF::iiwa_oneDOF_link_7_collision)\n",
      "(iiwa7_twoDOF::iiwa_twoDOF_link_4_collision, iiwa7_oneDOF::iiwa_oneDOF_link_6_collision)\n",
      "(iiwa7_twoDOF::iiwa_twoDOF_link_4_collision, iiwa7_oneDOF::iiwa_oneDOF_link_7_collision)\n",
      "\n",
      "[2022-02-07 19:46:33.208] [console] [info] epsilon=0.0042723233396538135 is infeasible\n",
      "[2022-02-07 19:46:33.209] [console] [info] current gap is epsilon_gap=0.10427231333965391\n",
      "[2022-02-07 19:46:38.299] [console] [warning] Cannot find Lagrangian multiplier and separating planes for \n",
      "(box_scene::box2_Collision@000055f90b5d5308, iiwa7_twoDOF::iiwa_twoDOF_link_6_collision)\n",
      "(box_scene::box2_Collision@000055f90b5d5308, iiwa7_twoDOF::iiwa_twoDOF_link_7_collision)\n",
      "(iiwa7_twoDOF::iiwa_twoDOF_link_2_collision, iiwa7_oneDOF::iiwa_oneDOF_link_7_collision)\n",
      "(iiwa7_twoDOF::iiwa_twoDOF_link_3_collision, iiwa7_oneDOF::iiwa_oneDOF_link_6_collision)\n",
      "(iiwa7_twoDOF::iiwa_twoDOF_link_3_collision, iiwa7_oneDOF::iiwa_oneDOF_link_7_collision)\n",
      "(iiwa7_twoDOF::iiwa_twoDOF_link_4_collision, iiwa7_oneDOF::iiwa_oneDOF_link_6_collision)\n",
      "(iiwa7_twoDOF::iiwa_twoDOF_link_4_collision, iiwa7_oneDOF::iiwa_oneDOF_link_7_collision)\n",
      "\n",
      "[2022-02-07 19:46:38.301] [console] [info] epsilon=-0.04786383333017314 is infeasible\n",
      "[2022-02-07 19:46:38.302] [console] [info] current gap is epsilon_gap=0.052136156669826954\n",
      "[2022-02-07 19:46:43.073] [console] [warning] Cannot find Lagrangian multiplier and separating planes for \n",
      "(box_scene::box2_Collision@000055f90b5d5308, iiwa7_twoDOF::iiwa_twoDOF_link_6_collision)\n",
      "(box_scene::box2_Collision@000055f90b5d5308, iiwa7_twoDOF::iiwa_twoDOF_link_7_collision)\n",
      "(iiwa7_twoDOF::iiwa_twoDOF_link_2_collision, iiwa7_oneDOF::iiwa_oneDOF_link_7_collision)\n",
      "(iiwa7_twoDOF::iiwa_twoDOF_link_3_collision, iiwa7_oneDOF::iiwa_oneDOF_link_6_collision)\n",
      "(iiwa7_twoDOF::iiwa_twoDOF_link_3_collision, iiwa7_oneDOF::iiwa_oneDOF_link_7_collision)\n",
      "(iiwa7_twoDOF::iiwa_twoDOF_link_4_collision, iiwa7_oneDOF::iiwa_oneDOF_link_6_collision)\n",
      "(iiwa7_twoDOF::iiwa_twoDOF_link_4_collision, iiwa7_oneDOF::iiwa_oneDOF_link_7_collision)\n",
      "\n",
      "[2022-02-07 19:46:43.075] [console] [info] epsilon=-0.07393191166508661 is infeasible\n",
      "[2022-02-07 19:46:43.075] [console] [info] current gap is epsilon_gap=0.02606807833491348\n",
      "[2022-02-07 19:46:48.009] [console] [warning] Cannot find Lagrangian multiplier and separating planes for \n",
      "(box_scene::box2_Collision@000055f90b5d5308, iiwa7_twoDOF::iiwa_twoDOF_link_6_collision)\n",
      "(box_scene::box2_Collision@000055f90b5d5308, iiwa7_twoDOF::iiwa_twoDOF_link_7_collision)\n",
      "(iiwa7_twoDOF::iiwa_twoDOF_link_2_collision, iiwa7_oneDOF::iiwa_oneDOF_link_7_collision)\n",
      "(iiwa7_twoDOF::iiwa_twoDOF_link_3_collision, iiwa7_oneDOF::iiwa_oneDOF_link_6_collision)\n",
      "(iiwa7_twoDOF::iiwa_twoDOF_link_3_collision, iiwa7_oneDOF::iiwa_oneDOF_link_7_collision)\n",
      "(iiwa7_twoDOF::iiwa_twoDOF_link_4_collision, iiwa7_oneDOF::iiwa_oneDOF_link_6_collision)\n",
      "(iiwa7_twoDOF::iiwa_twoDOF_link_4_collision, iiwa7_oneDOF::iiwa_oneDOF_link_7_collision)\n",
      "\n",
      "[2022-02-07 19:46:48.011] [console] [info] epsilon=-0.08696595083254335 is infeasible\n",
      "[2022-02-07 19:46:48.012] [console] [info] current gap is epsilon_gap=0.01303403916745674\n",
      "[2022-02-07 19:46:53.093] [console] [warning] Cannot find Lagrangian multiplier and separating planes for \n",
      "(box_scene::box2_Collision@000055f90b5d5308, iiwa7_twoDOF::iiwa_twoDOF_link_6_collision)\n",
      "(box_scene::box2_Collision@000055f90b5d5308, iiwa7_twoDOF::iiwa_twoDOF_link_7_collision)\n",
      "(iiwa7_twoDOF::iiwa_twoDOF_link_2_collision, iiwa7_oneDOF::iiwa_oneDOF_link_7_collision)\n",
      "(iiwa7_twoDOF::iiwa_twoDOF_link_3_collision, iiwa7_oneDOF::iiwa_oneDOF_link_6_collision)\n",
      "(iiwa7_twoDOF::iiwa_twoDOF_link_3_collision, iiwa7_oneDOF::iiwa_oneDOF_link_7_collision)\n",
      "(iiwa7_twoDOF::iiwa_twoDOF_link_4_collision, iiwa7_oneDOF::iiwa_oneDOF_link_6_collision)\n",
      "(iiwa7_twoDOF::iiwa_twoDOF_link_4_collision, iiwa7_oneDOF::iiwa_oneDOF_link_7_collision)\n",
      "\n",
      "[2022-02-07 19:46:53.095] [console] [info] epsilon=-0.09348297041627172 is infeasible\n",
      "[2022-02-07 19:46:53.095] [console] [info] current gap is epsilon_gap=0.00651701958372837\n",
      "[2022-02-07 19:46:58.226] [console] [warning] Cannot find Lagrangian multiplier and separating planes for \n",
      "(box_scene::box2_Collision@000055f90b5d5308, iiwa7_twoDOF::iiwa_twoDOF_link_6_collision)\n",
      "(box_scene::box2_Collision@000055f90b5d5308, iiwa7_twoDOF::iiwa_twoDOF_link_7_collision)\n",
      "(iiwa7_twoDOF::iiwa_twoDOF_link_2_collision, iiwa7_oneDOF::iiwa_oneDOF_link_7_collision)\n",
      "(iiwa7_twoDOF::iiwa_twoDOF_link_3_collision, iiwa7_oneDOF::iiwa_oneDOF_link_6_collision)\n",
      "(iiwa7_twoDOF::iiwa_twoDOF_link_3_collision, iiwa7_oneDOF::iiwa_oneDOF_link_7_collision)\n",
      "(iiwa7_twoDOF::iiwa_twoDOF_link_4_collision, iiwa7_oneDOF::iiwa_oneDOF_link_6_collision)\n",
      "(iiwa7_twoDOF::iiwa_twoDOF_link_4_collision, iiwa7_oneDOF::iiwa_oneDOF_link_7_collision)\n",
      "\n"
     ]
    },
    {
     "name": "stderr",
     "output_type": "stream",
     "text": [
      "[2022-02-07 19:46:58.227] [console] [info] epsilon=-0.09674148020813592 is infeasible\n",
      "[2022-02-07 19:46:58.228] [console] [info] current gap is epsilon_gap=0.003258509791864178\n",
      "[2022-02-07 19:47:03.437] [console] [warning] Cannot find Lagrangian multiplier and separating planes for \n",
      "(box_scene::box2_Collision@000055f90b5d5308, iiwa7_twoDOF::iiwa_twoDOF_link_6_collision)\n",
      "(box_scene::box2_Collision@000055f90b5d5308, iiwa7_twoDOF::iiwa_twoDOF_link_7_collision)\n",
      "(iiwa7_twoDOF::iiwa_twoDOF_link_2_collision, iiwa7_oneDOF::iiwa_oneDOF_link_7_collision)\n",
      "(iiwa7_twoDOF::iiwa_twoDOF_link_3_collision, iiwa7_oneDOF::iiwa_oneDOF_link_6_collision)\n",
      "(iiwa7_twoDOF::iiwa_twoDOF_link_3_collision, iiwa7_oneDOF::iiwa_oneDOF_link_7_collision)\n",
      "(iiwa7_twoDOF::iiwa_twoDOF_link_4_collision, iiwa7_oneDOF::iiwa_oneDOF_link_6_collision)\n",
      "(iiwa7_twoDOF::iiwa_twoDOF_link_4_collision, iiwa7_oneDOF::iiwa_oneDOF_link_7_collision)\n",
      "\n",
      "[2022-02-07 19:47:03.439] [console] [info] epsilon=-0.098370735104068 is infeasible\n",
      "[2022-02-07 19:47:03.440] [console] [info] current gap is epsilon_gap=0.001629254895932089\n",
      "[2022-02-07 19:47:08.351] [console] [warning] Cannot find Lagrangian multiplier and separating planes for \n",
      "(box_scene::box2_Collision@000055f90b5d5308, iiwa7_twoDOF::iiwa_twoDOF_link_6_collision)\n",
      "(box_scene::box2_Collision@000055f90b5d5308, iiwa7_twoDOF::iiwa_twoDOF_link_7_collision)\n",
      "(iiwa7_twoDOF::iiwa_twoDOF_link_2_collision, iiwa7_oneDOF::iiwa_oneDOF_link_7_collision)\n",
      "(iiwa7_twoDOF::iiwa_twoDOF_link_3_collision, iiwa7_oneDOF::iiwa_oneDOF_link_6_collision)\n",
      "(iiwa7_twoDOF::iiwa_twoDOF_link_3_collision, iiwa7_oneDOF::iiwa_oneDOF_link_7_collision)\n",
      "(iiwa7_twoDOF::iiwa_twoDOF_link_4_collision, iiwa7_oneDOF::iiwa_oneDOF_link_6_collision)\n",
      "(iiwa7_twoDOF::iiwa_twoDOF_link_4_collision, iiwa7_oneDOF::iiwa_oneDOF_link_7_collision)\n",
      "\n",
      "[2022-02-07 19:47:08.353] [console] [info] epsilon=-0.09918536255203406 is infeasible\n",
      "[2022-02-07 19:47:08.353] [console] [info] Ineq 5/12 in round 1\n",
      "[2022-02-07 19:47:08.353] [console] [info] current gap is epsilon_gap=0.6330967939068639\n",
      "[2022-02-07 19:47:13.314] [console] [warning] Cannot find Lagrangian multiplier and separating planes for \n",
      "(box_scene::box2_Collision@000055f90b5d5308, iiwa7_twoDOF::iiwa_twoDOF_link_6_collision)\n",
      "(box_scene::box2_Collision@000055f90b5d5308, iiwa7_twoDOF::iiwa_twoDOF_link_7_collision)\n",
      "(iiwa7_twoDOF::iiwa_twoDOF_link_2_collision, iiwa7_oneDOF::iiwa_oneDOF_link_7_collision)\n",
      "(iiwa7_twoDOF::iiwa_twoDOF_link_3_collision, iiwa7_oneDOF::iiwa_oneDOF_link_6_collision)\n",
      "(iiwa7_twoDOF::iiwa_twoDOF_link_3_collision, iiwa7_oneDOF::iiwa_oneDOF_link_7_collision)\n",
      "(iiwa7_twoDOF::iiwa_twoDOF_link_4_collision, iiwa7_oneDOF::iiwa_oneDOF_link_6_collision)\n",
      "(iiwa7_twoDOF::iiwa_twoDOF_link_4_collision, iiwa7_oneDOF::iiwa_oneDOF_link_7_collision)\n",
      "\n",
      "[2022-02-07 19:47:13.316] [console] [info] epsilon=0.21654837703868515 is infeasible\n",
      "[2022-02-07 19:47:13.317] [console] [info] current gap is epsilon_gap=0.31654839695343195\n",
      "[2022-02-07 19:47:18.340] [console] [warning] Cannot find Lagrangian multiplier and separating planes for \n",
      "(box_scene::box2_Collision@000055f90b5d5308, iiwa7_twoDOF::iiwa_twoDOF_link_6_collision)\n",
      "(box_scene::box2_Collision@000055f90b5d5308, iiwa7_twoDOF::iiwa_twoDOF_link_7_collision)\n",
      "(iiwa7_twoDOF::iiwa_twoDOF_link_2_collision, iiwa7_oneDOF::iiwa_oneDOF_link_7_collision)\n",
      "(iiwa7_twoDOF::iiwa_twoDOF_link_3_collision, iiwa7_oneDOF::iiwa_oneDOF_link_6_collision)\n",
      "(iiwa7_twoDOF::iiwa_twoDOF_link_3_collision, iiwa7_oneDOF::iiwa_oneDOF_link_7_collision)\n",
      "(iiwa7_twoDOF::iiwa_twoDOF_link_4_collision, iiwa7_oneDOF::iiwa_oneDOF_link_6_collision)\n",
      "(iiwa7_twoDOF::iiwa_twoDOF_link_4_collision, iiwa7_oneDOF::iiwa_oneDOF_link_7_collision)\n",
      "\n",
      "[2022-02-07 19:47:18.341] [console] [info] epsilon=0.05827417856196919 is infeasible\n",
      "[2022-02-07 19:47:18.342] [console] [info] current gap is epsilon_gap=0.15827419847671598\n",
      "[2022-02-07 19:47:23.593] [console] [warning] Cannot find Lagrangian multiplier and separating planes for \n",
      "(box_scene::box2_Collision@000055f90b5d5308, iiwa7_twoDOF::iiwa_twoDOF_link_6_collision)\n",
      "(box_scene::box2_Collision@000055f90b5d5308, iiwa7_twoDOF::iiwa_twoDOF_link_7_collision)\n",
      "(iiwa7_twoDOF::iiwa_twoDOF_link_2_collision, iiwa7_oneDOF::iiwa_oneDOF_link_7_collision)\n",
      "(iiwa7_twoDOF::iiwa_twoDOF_link_3_collision, iiwa7_oneDOF::iiwa_oneDOF_link_6_collision)\n",
      "(iiwa7_twoDOF::iiwa_twoDOF_link_3_collision, iiwa7_oneDOF::iiwa_oneDOF_link_7_collision)\n",
      "(iiwa7_twoDOF::iiwa_twoDOF_link_4_collision, iiwa7_oneDOF::iiwa_oneDOF_link_6_collision)\n",
      "(iiwa7_twoDOF::iiwa_twoDOF_link_4_collision, iiwa7_oneDOF::iiwa_oneDOF_link_7_collision)\n",
      "\n",
      "[2022-02-07 19:47:23.594] [console] [info] epsilon=-0.020862920676388792 is infeasible\n",
      "[2022-02-07 19:47:23.595] [console] [info] current gap is epsilon_gap=0.07913709923835799\n",
      "[2022-02-07 19:47:28.979] [console] [warning] Cannot find Lagrangian multiplier and separating planes for \n",
      "(box_scene::box2_Collision@000055f90b5d5308, iiwa7_twoDOF::iiwa_twoDOF_link_6_collision)\n",
      "(box_scene::box2_Collision@000055f90b5d5308, iiwa7_twoDOF::iiwa_twoDOF_link_7_collision)\n",
      "(iiwa7_twoDOF::iiwa_twoDOF_link_2_collision, iiwa7_oneDOF::iiwa_oneDOF_link_7_collision)\n",
      "(iiwa7_twoDOF::iiwa_twoDOF_link_3_collision, iiwa7_oneDOF::iiwa_oneDOF_link_6_collision)\n",
      "(iiwa7_twoDOF::iiwa_twoDOF_link_3_collision, iiwa7_oneDOF::iiwa_oneDOF_link_7_collision)\n",
      "(iiwa7_twoDOF::iiwa_twoDOF_link_4_collision, iiwa7_oneDOF::iiwa_oneDOF_link_6_collision)\n",
      "(iiwa7_twoDOF::iiwa_twoDOF_link_4_collision, iiwa7_oneDOF::iiwa_oneDOF_link_7_collision)\n",
      "\n",
      "[2022-02-07 19:47:28.981] [console] [info] epsilon=-0.06043147029556778 is infeasible\n",
      "[2022-02-07 19:47:28.982] [console] [info] current gap is epsilon_gap=0.039568549619178994\n",
      "[2022-02-07 19:47:34.388] [console] [warning] Cannot find Lagrangian multiplier and separating planes for \n",
      "(box_scene::box2_Collision@000055f90b5d5308, iiwa7_twoDOF::iiwa_twoDOF_link_6_collision)\n",
      "(box_scene::box2_Collision@000055f90b5d5308, iiwa7_twoDOF::iiwa_twoDOF_link_7_collision)\n",
      "(iiwa7_twoDOF::iiwa_twoDOF_link_2_collision, iiwa7_oneDOF::iiwa_oneDOF_link_7_collision)\n",
      "(iiwa7_twoDOF::iiwa_twoDOF_link_3_collision, iiwa7_oneDOF::iiwa_oneDOF_link_6_collision)\n",
      "(iiwa7_twoDOF::iiwa_twoDOF_link_3_collision, iiwa7_oneDOF::iiwa_oneDOF_link_7_collision)\n",
      "(iiwa7_twoDOF::iiwa_twoDOF_link_4_collision, iiwa7_oneDOF::iiwa_oneDOF_link_6_collision)\n",
      "(iiwa7_twoDOF::iiwa_twoDOF_link_4_collision, iiwa7_oneDOF::iiwa_oneDOF_link_7_collision)\n",
      "\n",
      "[2022-02-07 19:47:34.390] [console] [info] epsilon=-0.08021574510515728 is infeasible\n",
      "[2022-02-07 19:47:34.390] [console] [info] current gap is epsilon_gap=0.019784274809589497\n",
      "[2022-02-07 19:47:39.353] [console] [warning] Cannot find Lagrangian multiplier and separating planes for \n",
      "(box_scene::box2_Collision@000055f90b5d5308, iiwa7_twoDOF::iiwa_twoDOF_link_6_collision)\n",
      "(box_scene::box2_Collision@000055f90b5d5308, iiwa7_twoDOF::iiwa_twoDOF_link_7_collision)\n",
      "(iiwa7_twoDOF::iiwa_twoDOF_link_2_collision, iiwa7_oneDOF::iiwa_oneDOF_link_7_collision)\n",
      "(iiwa7_twoDOF::iiwa_twoDOF_link_3_collision, iiwa7_oneDOF::iiwa_oneDOF_link_6_collision)\n",
      "(iiwa7_twoDOF::iiwa_twoDOF_link_3_collision, iiwa7_oneDOF::iiwa_oneDOF_link_7_collision)\n",
      "(iiwa7_twoDOF::iiwa_twoDOF_link_4_collision, iiwa7_oneDOF::iiwa_oneDOF_link_6_collision)\n",
      "(iiwa7_twoDOF::iiwa_twoDOF_link_4_collision, iiwa7_oneDOF::iiwa_oneDOF_link_7_collision)\n",
      "\n",
      "[2022-02-07 19:47:39.355] [console] [info] epsilon=-0.09010788250995203 is infeasible\n",
      "[2022-02-07 19:47:39.356] [console] [info] current gap is epsilon_gap=0.009892137404794749\n",
      "[2022-02-07 19:47:44.390] [console] [warning] Cannot find Lagrangian multiplier and separating planes for \n",
      "(box_scene::box2_Collision@000055f90b5d5308, iiwa7_twoDOF::iiwa_twoDOF_link_6_collision)\n",
      "(box_scene::box2_Collision@000055f90b5d5308, iiwa7_twoDOF::iiwa_twoDOF_link_7_collision)\n",
      "(iiwa7_twoDOF::iiwa_twoDOF_link_2_collision, iiwa7_oneDOF::iiwa_oneDOF_link_7_collision)\n",
      "(iiwa7_twoDOF::iiwa_twoDOF_link_3_collision, iiwa7_oneDOF::iiwa_oneDOF_link_6_collision)\n",
      "(iiwa7_twoDOF::iiwa_twoDOF_link_3_collision, iiwa7_oneDOF::iiwa_oneDOF_link_7_collision)\n",
      "(iiwa7_twoDOF::iiwa_twoDOF_link_4_collision, iiwa7_oneDOF::iiwa_oneDOF_link_6_collision)\n",
      "(iiwa7_twoDOF::iiwa_twoDOF_link_4_collision, iiwa7_oneDOF::iiwa_oneDOF_link_7_collision)\n",
      "\n"
     ]
    },
    {
     "name": "stderr",
     "output_type": "stream",
     "text": [
      "[2022-02-07 19:47:44.392] [console] [info] epsilon=-0.0950539512123494 is infeasible\n",
      "[2022-02-07 19:47:44.393] [console] [info] current gap is epsilon_gap=0.004946068702397374\n",
      "[2022-02-07 19:47:49.684] [console] [warning] Cannot find Lagrangian multiplier and separating planes for \n",
      "(box_scene::box2_Collision@000055f90b5d5308, iiwa7_twoDOF::iiwa_twoDOF_link_6_collision)\n",
      "(box_scene::box2_Collision@000055f90b5d5308, iiwa7_twoDOF::iiwa_twoDOF_link_7_collision)\n",
      "(iiwa7_twoDOF::iiwa_twoDOF_link_2_collision, iiwa7_oneDOF::iiwa_oneDOF_link_7_collision)\n",
      "(iiwa7_twoDOF::iiwa_twoDOF_link_3_collision, iiwa7_oneDOF::iiwa_oneDOF_link_6_collision)\n",
      "(iiwa7_twoDOF::iiwa_twoDOF_link_3_collision, iiwa7_oneDOF::iiwa_oneDOF_link_7_collision)\n",
      "(iiwa7_twoDOF::iiwa_twoDOF_link_4_collision, iiwa7_oneDOF::iiwa_oneDOF_link_6_collision)\n",
      "(iiwa7_twoDOF::iiwa_twoDOF_link_4_collision, iiwa7_oneDOF::iiwa_oneDOF_link_7_collision)\n",
      "\n",
      "[2022-02-07 19:47:49.685] [console] [info] epsilon=-0.09752698556354808 is infeasible\n",
      "[2022-02-07 19:47:49.685] [console] [info] current gap is epsilon_gap=0.002473034351198694\n",
      "[2022-02-07 19:47:54.655] [console] [warning] Cannot find Lagrangian multiplier and separating planes for \n",
      "(box_scene::box2_Collision@000055f90b5d5308, iiwa7_twoDOF::iiwa_twoDOF_link_6_collision)\n",
      "(box_scene::box2_Collision@000055f90b5d5308, iiwa7_twoDOF::iiwa_twoDOF_link_7_collision)\n",
      "(iiwa7_twoDOF::iiwa_twoDOF_link_2_collision, iiwa7_oneDOF::iiwa_oneDOF_link_7_collision)\n",
      "(iiwa7_twoDOF::iiwa_twoDOF_link_3_collision, iiwa7_oneDOF::iiwa_oneDOF_link_6_collision)\n",
      "(iiwa7_twoDOF::iiwa_twoDOF_link_3_collision, iiwa7_oneDOF::iiwa_oneDOF_link_7_collision)\n",
      "(iiwa7_twoDOF::iiwa_twoDOF_link_4_collision, iiwa7_oneDOF::iiwa_oneDOF_link_6_collision)\n",
      "(iiwa7_twoDOF::iiwa_twoDOF_link_4_collision, iiwa7_oneDOF::iiwa_oneDOF_link_7_collision)\n",
      "\n",
      "[2022-02-07 19:47:54.656] [console] [info] epsilon=-0.09876350273914743 is infeasible\n",
      "[2022-02-07 19:47:54.657] [console] [info] current gap is epsilon_gap=0.001236517175599347\n",
      "[2022-02-07 19:47:59.626] [console] [warning] Cannot find Lagrangian multiplier and separating planes for \n",
      "(box_scene::box2_Collision@000055f90b5d5308, iiwa7_twoDOF::iiwa_twoDOF_link_6_collision)\n",
      "(box_scene::box2_Collision@000055f90b5d5308, iiwa7_twoDOF::iiwa_twoDOF_link_7_collision)\n",
      "(iiwa7_twoDOF::iiwa_twoDOF_link_2_collision, iiwa7_oneDOF::iiwa_oneDOF_link_7_collision)\n",
      "(iiwa7_twoDOF::iiwa_twoDOF_link_3_collision, iiwa7_oneDOF::iiwa_oneDOF_link_6_collision)\n",
      "(iiwa7_twoDOF::iiwa_twoDOF_link_3_collision, iiwa7_oneDOF::iiwa_oneDOF_link_7_collision)\n",
      "(iiwa7_twoDOF::iiwa_twoDOF_link_4_collision, iiwa7_oneDOF::iiwa_oneDOF_link_6_collision)\n",
      "(iiwa7_twoDOF::iiwa_twoDOF_link_4_collision, iiwa7_oneDOF::iiwa_oneDOF_link_7_collision)\n",
      "\n",
      "[2022-02-07 19:47:59.628] [console] [info] epsilon=-0.0993817613269471 is infeasible\n",
      "[2022-02-07 19:47:59.629] [console] [info] Ineq 10/12 in round 1\n",
      "[2022-02-07 19:47:59.630] [console] [info] current gap is epsilon_gap=0.491613230959534\n",
      "[2022-02-07 19:48:04.428] [console] [warning] Cannot find Lagrangian multiplier and separating planes for \n",
      "(box_scene::box2_Collision@000055f90b5d5308, iiwa7_twoDOF::iiwa_twoDOF_link_6_collision)\n",
      "(box_scene::box2_Collision@000055f90b5d5308, iiwa7_twoDOF::iiwa_twoDOF_link_7_collision)\n",
      "(iiwa7_twoDOF::iiwa_twoDOF_link_2_collision, iiwa7_oneDOF::iiwa_oneDOF_link_7_collision)\n",
      "(iiwa7_twoDOF::iiwa_twoDOF_link_3_collision, iiwa7_oneDOF::iiwa_oneDOF_link_6_collision)\n",
      "(iiwa7_twoDOF::iiwa_twoDOF_link_3_collision, iiwa7_oneDOF::iiwa_oneDOF_link_7_collision)\n",
      "(iiwa7_twoDOF::iiwa_twoDOF_link_4_collision, iiwa7_oneDOF::iiwa_oneDOF_link_6_collision)\n",
      "(iiwa7_twoDOF::iiwa_twoDOF_link_4_collision, iiwa7_oneDOF::iiwa_oneDOF_link_7_collision)\n",
      "\n",
      "[2022-02-07 19:48:04.430] [console] [info] epsilon=0.14580660547976698 is infeasible\n",
      "[2022-02-07 19:48:04.431] [console] [info] current gap is epsilon_gap=0.245806615479767\n",
      "[2022-02-07 19:48:09.141] [console] [warning] Cannot find Lagrangian multiplier and separating planes for \n",
      "(box_scene::box2_Collision@000055f90b5d5308, iiwa7_twoDOF::iiwa_twoDOF_link_6_collision)\n",
      "(box_scene::box2_Collision@000055f90b5d5308, iiwa7_twoDOF::iiwa_twoDOF_link_7_collision)\n",
      "(iiwa7_twoDOF::iiwa_twoDOF_link_2_collision, iiwa7_oneDOF::iiwa_oneDOF_link_7_collision)\n",
      "(iiwa7_twoDOF::iiwa_twoDOF_link_3_collision, iiwa7_oneDOF::iiwa_oneDOF_link_6_collision)\n",
      "(iiwa7_twoDOF::iiwa_twoDOF_link_3_collision, iiwa7_oneDOF::iiwa_oneDOF_link_7_collision)\n",
      "(iiwa7_twoDOF::iiwa_twoDOF_link_4_collision, iiwa7_oneDOF::iiwa_oneDOF_link_6_collision)\n",
      "(iiwa7_twoDOF::iiwa_twoDOF_link_4_collision, iiwa7_oneDOF::iiwa_oneDOF_link_7_collision)\n",
      "\n",
      "[2022-02-07 19:48:09.144] [console] [info] epsilon=0.022903297739883477 is infeasible\n",
      "[2022-02-07 19:48:09.145] [console] [info] current gap is epsilon_gap=0.1229033077398835\n",
      "[2022-02-07 19:48:14.254] [console] [warning] Cannot find Lagrangian multiplier and separating planes for \n",
      "(box_scene::box2_Collision@000055f90b5d5308, iiwa7_twoDOF::iiwa_twoDOF_link_6_collision)\n",
      "(box_scene::box2_Collision@000055f90b5d5308, iiwa7_twoDOF::iiwa_twoDOF_link_7_collision)\n",
      "(iiwa7_twoDOF::iiwa_twoDOF_link_2_collision, iiwa7_oneDOF::iiwa_oneDOF_link_7_collision)\n",
      "(iiwa7_twoDOF::iiwa_twoDOF_link_3_collision, iiwa7_oneDOF::iiwa_oneDOF_link_6_collision)\n",
      "(iiwa7_twoDOF::iiwa_twoDOF_link_3_collision, iiwa7_oneDOF::iiwa_oneDOF_link_7_collision)\n",
      "(iiwa7_twoDOF::iiwa_twoDOF_link_4_collision, iiwa7_oneDOF::iiwa_oneDOF_link_6_collision)\n",
      "(iiwa7_twoDOF::iiwa_twoDOF_link_4_collision, iiwa7_oneDOF::iiwa_oneDOF_link_7_collision)\n",
      "\n",
      "[2022-02-07 19:48:14.255] [console] [info] epsilon=-0.038548356130058276 is infeasible\n",
      "[2022-02-07 19:48:14.256] [console] [info] current gap is epsilon_gap=0.06145165386994175\n",
      "[2022-02-07 19:48:19.289] [console] [warning] Cannot find Lagrangian multiplier and separating planes for \n",
      "(box_scene::box2_Collision@000055f90b5d5308, iiwa7_twoDOF::iiwa_twoDOF_link_6_collision)\n",
      "(box_scene::box2_Collision@000055f90b5d5308, iiwa7_twoDOF::iiwa_twoDOF_link_7_collision)\n",
      "(iiwa7_twoDOF::iiwa_twoDOF_link_2_collision, iiwa7_oneDOF::iiwa_oneDOF_link_7_collision)\n",
      "(iiwa7_twoDOF::iiwa_twoDOF_link_3_collision, iiwa7_oneDOF::iiwa_oneDOF_link_6_collision)\n",
      "(iiwa7_twoDOF::iiwa_twoDOF_link_3_collision, iiwa7_oneDOF::iiwa_oneDOF_link_7_collision)\n",
      "(iiwa7_twoDOF::iiwa_twoDOF_link_4_collision, iiwa7_oneDOF::iiwa_oneDOF_link_6_collision)\n",
      "(iiwa7_twoDOF::iiwa_twoDOF_link_4_collision, iiwa7_oneDOF::iiwa_oneDOF_link_7_collision)\n",
      "\n",
      "[2022-02-07 19:48:19.290] [console] [info] epsilon=-0.06927418306502915 is infeasible\n",
      "[2022-02-07 19:48:19.291] [console] [info] current gap is epsilon_gap=0.030725826934970876\n",
      "[2022-02-07 19:48:24.253] [console] [warning] Cannot find Lagrangian multiplier and separating planes for \n",
      "(box_scene::box2_Collision@000055f90b5d5308, iiwa7_twoDOF::iiwa_twoDOF_link_6_collision)\n",
      "(box_scene::box2_Collision@000055f90b5d5308, iiwa7_twoDOF::iiwa_twoDOF_link_7_collision)\n",
      "(iiwa7_twoDOF::iiwa_twoDOF_link_2_collision, iiwa7_oneDOF::iiwa_oneDOF_link_7_collision)\n",
      "(iiwa7_twoDOF::iiwa_twoDOF_link_3_collision, iiwa7_oneDOF::iiwa_oneDOF_link_6_collision)\n",
      "(iiwa7_twoDOF::iiwa_twoDOF_link_3_collision, iiwa7_oneDOF::iiwa_oneDOF_link_7_collision)\n",
      "(iiwa7_twoDOF::iiwa_twoDOF_link_4_collision, iiwa7_oneDOF::iiwa_oneDOF_link_6_collision)\n",
      "(iiwa7_twoDOF::iiwa_twoDOF_link_4_collision, iiwa7_oneDOF::iiwa_oneDOF_link_7_collision)\n",
      "\n",
      "[2022-02-07 19:48:24.256] [console] [info] epsilon=-0.08463709653251458 is infeasible\n",
      "[2022-02-07 19:48:24.257] [console] [info] current gap is epsilon_gap=0.015362913467485445\n",
      "[2022-02-07 19:48:29.706] [console] [warning] Cannot find Lagrangian multiplier and separating planes for \n",
      "(box_scene::box2_Collision@000055f90b5d5308, iiwa7_twoDOF::iiwa_twoDOF_link_6_collision)\n",
      "(box_scene::box2_Collision@000055f90b5d5308, iiwa7_twoDOF::iiwa_twoDOF_link_7_collision)\n",
      "(iiwa7_twoDOF::iiwa_twoDOF_link_2_collision, iiwa7_oneDOF::iiwa_oneDOF_link_7_collision)\n",
      "(iiwa7_twoDOF::iiwa_twoDOF_link_3_collision, iiwa7_oneDOF::iiwa_oneDOF_link_6_collision)\n",
      "(iiwa7_twoDOF::iiwa_twoDOF_link_3_collision, iiwa7_oneDOF::iiwa_oneDOF_link_7_collision)\n",
      "(iiwa7_twoDOF::iiwa_twoDOF_link_4_collision, iiwa7_oneDOF::iiwa_oneDOF_link_6_collision)\n",
      "(iiwa7_twoDOF::iiwa_twoDOF_link_4_collision, iiwa7_oneDOF::iiwa_oneDOF_link_7_collision)\n",
      "\n"
     ]
    },
    {
     "name": "stderr",
     "output_type": "stream",
     "text": [
      "[2022-02-07 19:48:29.708] [console] [info] epsilon=-0.0923185532662573 is infeasible\n",
      "[2022-02-07 19:48:29.708] [console] [info] current gap is epsilon_gap=0.0076814567337427225\n",
      "[2022-02-07 19:48:34.707] [console] [warning] Cannot find Lagrangian multiplier and separating planes for \n",
      "(box_scene::box2_Collision@000055f90b5d5308, iiwa7_twoDOF::iiwa_twoDOF_link_6_collision)\n",
      "(box_scene::box2_Collision@000055f90b5d5308, iiwa7_twoDOF::iiwa_twoDOF_link_7_collision)\n",
      "(iiwa7_twoDOF::iiwa_twoDOF_link_2_collision, iiwa7_oneDOF::iiwa_oneDOF_link_7_collision)\n",
      "(iiwa7_twoDOF::iiwa_twoDOF_link_3_collision, iiwa7_oneDOF::iiwa_oneDOF_link_6_collision)\n",
      "(iiwa7_twoDOF::iiwa_twoDOF_link_3_collision, iiwa7_oneDOF::iiwa_oneDOF_link_7_collision)\n",
      "(iiwa7_twoDOF::iiwa_twoDOF_link_4_collision, iiwa7_oneDOF::iiwa_oneDOF_link_6_collision)\n",
      "(iiwa7_twoDOF::iiwa_twoDOF_link_4_collision, iiwa7_oneDOF::iiwa_oneDOF_link_7_collision)\n",
      "\n",
      "[2022-02-07 19:48:34.709] [console] [info] epsilon=-0.09615928163312867 is infeasible\n",
      "[2022-02-07 19:48:34.709] [console] [info] current gap is epsilon_gap=0.0038407283668713543\n",
      "[2022-02-07 19:48:40.269] [console] [warning] Cannot find Lagrangian multiplier and separating planes for \n",
      "(box_scene::box2_Collision@000055f90b5d5308, iiwa7_twoDOF::iiwa_twoDOF_link_6_collision)\n",
      "(box_scene::box2_Collision@000055f90b5d5308, iiwa7_twoDOF::iiwa_twoDOF_link_7_collision)\n",
      "(iiwa7_twoDOF::iiwa_twoDOF_link_2_collision, iiwa7_oneDOF::iiwa_oneDOF_link_7_collision)\n",
      "(iiwa7_twoDOF::iiwa_twoDOF_link_3_collision, iiwa7_oneDOF::iiwa_oneDOF_link_6_collision)\n",
      "(iiwa7_twoDOF::iiwa_twoDOF_link_3_collision, iiwa7_oneDOF::iiwa_oneDOF_link_7_collision)\n",
      "(iiwa7_twoDOF::iiwa_twoDOF_link_4_collision, iiwa7_oneDOF::iiwa_oneDOF_link_6_collision)\n",
      "(iiwa7_twoDOF::iiwa_twoDOF_link_4_collision, iiwa7_oneDOF::iiwa_oneDOF_link_7_collision)\n",
      "\n",
      "[2022-02-07 19:48:40.273] [console] [info] epsilon=-0.09807964581656435 is infeasible\n",
      "[2022-02-07 19:48:40.273] [console] [info] current gap is epsilon_gap=0.0019203641834356772\n",
      "[2022-02-07 19:48:45.972] [console] [warning] Cannot find Lagrangian multiplier and separating planes for \n",
      "(box_scene::box2_Collision@000055f90b5d5308, iiwa7_twoDOF::iiwa_twoDOF_link_6_collision)\n",
      "(box_scene::box2_Collision@000055f90b5d5308, iiwa7_twoDOF::iiwa_twoDOF_link_7_collision)\n",
      "(iiwa7_twoDOF::iiwa_twoDOF_link_2_collision, iiwa7_oneDOF::iiwa_oneDOF_link_7_collision)\n",
      "(iiwa7_twoDOF::iiwa_twoDOF_link_3_collision, iiwa7_oneDOF::iiwa_oneDOF_link_6_collision)\n",
      "(iiwa7_twoDOF::iiwa_twoDOF_link_3_collision, iiwa7_oneDOF::iiwa_oneDOF_link_7_collision)\n",
      "(iiwa7_twoDOF::iiwa_twoDOF_link_4_collision, iiwa7_oneDOF::iiwa_oneDOF_link_6_collision)\n",
      "(iiwa7_twoDOF::iiwa_twoDOF_link_4_collision, iiwa7_oneDOF::iiwa_oneDOF_link_7_collision)\n",
      "\n",
      "[2022-02-07 19:48:45.974] [console] [info] epsilon=-0.0990398279082822 is infeasible\n",
      "[2022-02-07 19:48:45.974] [console] [info] current gap is epsilon_gap=0.0009601820917178316\n",
      "[2022-02-07 19:48:51.444] [console] [warning] Cannot find Lagrangian multiplier and separating planes for \n",
      "(box_scene::box2_Collision@000055f90b5d5308, iiwa7_twoDOF::iiwa_twoDOF_link_6_collision)\n",
      "(box_scene::box2_Collision@000055f90b5d5308, iiwa7_twoDOF::iiwa_twoDOF_link_7_collision)\n",
      "(iiwa7_twoDOF::iiwa_twoDOF_link_2_collision, iiwa7_oneDOF::iiwa_oneDOF_link_7_collision)\n",
      "(iiwa7_twoDOF::iiwa_twoDOF_link_3_collision, iiwa7_oneDOF::iiwa_oneDOF_link_6_collision)\n",
      "(iiwa7_twoDOF::iiwa_twoDOF_link_3_collision, iiwa7_oneDOF::iiwa_oneDOF_link_7_collision)\n",
      "(iiwa7_twoDOF::iiwa_twoDOF_link_4_collision, iiwa7_oneDOF::iiwa_oneDOF_link_6_collision)\n",
      "(iiwa7_twoDOF::iiwa_twoDOF_link_4_collision, iiwa7_oneDOF::iiwa_oneDOF_link_7_collision)\n",
      "\n",
      "[2022-02-07 19:48:51.445] [console] [info] epsilon=-0.09951991895414111 is infeasible\n",
      "[2022-02-07 19:48:51.446] [console] [info] Ineq 11/12 in round 1\n",
      "[2022-02-07 19:48:51.447] [console] [info] current gap is epsilon_gap=0.491613230959534\n",
      "[2022-02-07 19:48:56.277] [console] [warning] Cannot find Lagrangian multiplier and separating planes for \n",
      "(box_scene::box2_Collision@000055f90b5d5308, iiwa7_twoDOF::iiwa_twoDOF_link_6_collision)\n",
      "(box_scene::box2_Collision@000055f90b5d5308, iiwa7_twoDOF::iiwa_twoDOF_link_7_collision)\n",
      "(iiwa7_twoDOF::iiwa_twoDOF_link_2_collision, iiwa7_oneDOF::iiwa_oneDOF_link_7_collision)\n",
      "(iiwa7_twoDOF::iiwa_twoDOF_link_3_collision, iiwa7_oneDOF::iiwa_oneDOF_link_6_collision)\n",
      "(iiwa7_twoDOF::iiwa_twoDOF_link_3_collision, iiwa7_oneDOF::iiwa_oneDOF_link_7_collision)\n",
      "(iiwa7_twoDOF::iiwa_twoDOF_link_4_collision, iiwa7_oneDOF::iiwa_oneDOF_link_6_collision)\n",
      "(iiwa7_twoDOF::iiwa_twoDOF_link_4_collision, iiwa7_oneDOF::iiwa_oneDOF_link_7_collision)\n",
      "\n",
      "[2022-02-07 19:48:56.278] [console] [info] epsilon=0.14580660547976704 is infeasible\n",
      "[2022-02-07 19:48:56.279] [console] [info] current gap is epsilon_gap=0.245806615479767\n",
      "[2022-02-07 19:49:01.346] [console] [warning] Cannot find Lagrangian multiplier and separating planes for \n",
      "(box_scene::box2_Collision@000055f90b5d5308, iiwa7_twoDOF::iiwa_twoDOF_link_6_collision)\n",
      "(box_scene::box2_Collision@000055f90b5d5308, iiwa7_twoDOF::iiwa_twoDOF_link_7_collision)\n",
      "(iiwa7_twoDOF::iiwa_twoDOF_link_2_collision, iiwa7_oneDOF::iiwa_oneDOF_link_7_collision)\n",
      "(iiwa7_twoDOF::iiwa_twoDOF_link_3_collision, iiwa7_oneDOF::iiwa_oneDOF_link_6_collision)\n",
      "(iiwa7_twoDOF::iiwa_twoDOF_link_3_collision, iiwa7_oneDOF::iiwa_oneDOF_link_7_collision)\n",
      "(iiwa7_twoDOF::iiwa_twoDOF_link_4_collision, iiwa7_oneDOF::iiwa_oneDOF_link_6_collision)\n",
      "(iiwa7_twoDOF::iiwa_twoDOF_link_4_collision, iiwa7_oneDOF::iiwa_oneDOF_link_7_collision)\n",
      "\n",
      "[2022-02-07 19:49:01.347] [console] [info] epsilon=0.022903297739883532 is infeasible\n",
      "[2022-02-07 19:49:01.350] [console] [info] current gap is epsilon_gap=0.1229033077398835\n",
      "[2022-02-07 19:49:06.697] [console] [warning] Cannot find Lagrangian multiplier and separating planes for \n",
      "(box_scene::box2_Collision@000055f90b5d5308, iiwa7_twoDOF::iiwa_twoDOF_link_6_collision)\n",
      "(box_scene::box2_Collision@000055f90b5d5308, iiwa7_twoDOF::iiwa_twoDOF_link_7_collision)\n",
      "(iiwa7_twoDOF::iiwa_twoDOF_link_0_collision, iiwa7_oneDOF::iiwa_oneDOF_link_2_collision)\n",
      "(iiwa7_twoDOF::iiwa_twoDOF_link_2_collision, iiwa7_oneDOF::iiwa_oneDOF_link_7_collision)\n",
      "(iiwa7_twoDOF::iiwa_twoDOF_link_3_collision, iiwa7_oneDOF::iiwa_oneDOF_link_6_collision)\n",
      "(iiwa7_twoDOF::iiwa_twoDOF_link_3_collision, iiwa7_oneDOF::iiwa_oneDOF_link_7_collision)\n",
      "(iiwa7_twoDOF::iiwa_twoDOF_link_4_collision, iiwa7_oneDOF::iiwa_oneDOF_link_6_collision)\n",
      "(iiwa7_twoDOF::iiwa_twoDOF_link_4_collision, iiwa7_oneDOF::iiwa_oneDOF_link_7_collision)\n",
      "\n",
      "[2022-02-07 19:49:06.699] [console] [info] epsilon=-0.03854835613005822 is infeasible\n",
      "[2022-02-07 19:49:06.700] [console] [info] current gap is epsilon_gap=0.06145165386994175\n",
      "[2022-02-07 19:49:11.932] [console] [warning] Cannot find Lagrangian multiplier and separating planes for \n",
      "(box_scene::box2_Collision@000055f90b5d5308, iiwa7_twoDOF::iiwa_twoDOF_link_6_collision)\n",
      "(box_scene::box2_Collision@000055f90b5d5308, iiwa7_twoDOF::iiwa_twoDOF_link_7_collision)\n",
      "(iiwa7_twoDOF::iiwa_twoDOF_link_2_collision, iiwa7_oneDOF::iiwa_oneDOF_link_7_collision)\n",
      "(iiwa7_twoDOF::iiwa_twoDOF_link_3_collision, iiwa7_oneDOF::iiwa_oneDOF_link_7_collision)\n",
      "(iiwa7_twoDOF::iiwa_twoDOF_link_4_collision, iiwa7_oneDOF::iiwa_oneDOF_link_6_collision)\n",
      "(iiwa7_twoDOF::iiwa_twoDOF_link_4_collision, iiwa7_oneDOF::iiwa_oneDOF_link_7_collision)\n",
      "\n",
      "[2022-02-07 19:49:11.934] [console] [info] epsilon=-0.0692741830650291 is infeasible\n",
      "[2022-02-07 19:49:11.934] [console] [info] current gap is epsilon_gap=0.030725826934970876\n",
      "[2022-02-07 19:49:16.932] [console] [warning] Cannot find Lagrangian multiplier and separating planes for \n",
      "(box_scene::box2_Collision@000055f90b5d5308, iiwa7_twoDOF::iiwa_twoDOF_link_6_collision)\n",
      "(box_scene::box2_Collision@000055f90b5d5308, iiwa7_twoDOF::iiwa_twoDOF_link_7_collision)\n",
      "(iiwa7_twoDOF::iiwa_twoDOF_link_2_collision, iiwa7_oneDOF::iiwa_oneDOF_link_7_collision)\n",
      "(iiwa7_twoDOF::iiwa_twoDOF_link_3_collision, iiwa7_oneDOF::iiwa_oneDOF_link_7_collision)\n",
      "(iiwa7_twoDOF::iiwa_twoDOF_link_4_collision, iiwa7_oneDOF::iiwa_oneDOF_link_6_collision)\n",
      "(iiwa7_twoDOF::iiwa_twoDOF_link_4_collision, iiwa7_oneDOF::iiwa_oneDOF_link_7_collision)\n",
      "\n",
      "[2022-02-07 19:49:16.934] [console] [info] epsilon=-0.08463709653251453 is infeasible\n"
     ]
    },
    {
     "name": "stderr",
     "output_type": "stream",
     "text": [
      "[2022-02-07 19:49:16.935] [console] [info] current gap is epsilon_gap=0.015362913467485445\n",
      "[2022-02-07 19:49:22.249] [console] [warning] Cannot find Lagrangian multiplier and separating planes for \n",
      "(box_scene::box1_Collision@000055f90b5d4e58, iiwa7_twoDOF::iiwa_twoDOF_link_6_collision)\n",
      "(box_scene::box2_Collision@000055f90b5d5308, iiwa7_twoDOF::iiwa_twoDOF_link_6_collision)\n",
      "(box_scene::box2_Collision@000055f90b5d5308, iiwa7_twoDOF::iiwa_twoDOF_link_7_collision)\n",
      "(iiwa7_twoDOF::iiwa_twoDOF_link_2_collision, iiwa7_oneDOF::iiwa_oneDOF_link_7_collision)\n",
      "(iiwa7_twoDOF::iiwa_twoDOF_link_3_collision, iiwa7_oneDOF::iiwa_oneDOF_link_7_collision)\n",
      "(iiwa7_twoDOF::iiwa_twoDOF_link_4_collision, iiwa7_oneDOF::iiwa_oneDOF_link_7_collision)\n",
      "\n",
      "[2022-02-07 19:49:22.251] [console] [info] epsilon=-0.09231855326625725 is infeasible\n",
      "[2022-02-07 19:49:22.251] [console] [info] current gap is epsilon_gap=0.0076814567337427225\n",
      "[2022-02-07 19:49:27.367] [console] [warning] Cannot find Lagrangian multiplier and separating planes for \n",
      "(box_scene::box2_Collision@000055f90b5d5308, iiwa7_twoDOF::iiwa_twoDOF_link_6_collision)\n",
      "(box_scene::box2_Collision@000055f90b5d5308, iiwa7_twoDOF::iiwa_twoDOF_link_7_collision)\n",
      "(iiwa7_twoDOF::iiwa_twoDOF_link_2_collision, iiwa7_oneDOF::iiwa_oneDOF_link_7_collision)\n",
      "(iiwa7_twoDOF::iiwa_twoDOF_link_3_collision, iiwa7_oneDOF::iiwa_oneDOF_link_7_collision)\n",
      "(iiwa7_twoDOF::iiwa_twoDOF_link_4_collision, iiwa7_oneDOF::iiwa_oneDOF_link_7_collision)\n",
      "\n",
      "[2022-02-07 19:49:27.369] [console] [info] epsilon=-0.09615928163312862 is infeasible\n",
      "[2022-02-07 19:49:27.369] [console] [info] current gap is epsilon_gap=0.0038407283668713543\n",
      "[2022-02-07 19:49:32.705] [console] [warning] Cannot find Lagrangian multiplier and separating planes for \n",
      "(box_scene::box2_Collision@000055f90b5d5308, iiwa7_twoDOF::iiwa_twoDOF_link_6_collision)\n",
      "(box_scene::box2_Collision@000055f90b5d5308, iiwa7_twoDOF::iiwa_twoDOF_link_7_collision)\n",
      "(iiwa7_twoDOF::iiwa_twoDOF_link_2_collision, iiwa7_oneDOF::iiwa_oneDOF_link_7_collision)\n",
      "(iiwa7_twoDOF::iiwa_twoDOF_link_3_collision, iiwa7_oneDOF::iiwa_oneDOF_link_7_collision)\n",
      "(iiwa7_twoDOF::iiwa_twoDOF_link_4_collision, iiwa7_oneDOF::iiwa_oneDOF_link_7_collision)\n",
      "\n",
      "[2022-02-07 19:49:32.707] [console] [info] epsilon=-0.0980796458165643 is infeasible\n",
      "[2022-02-07 19:49:32.708] [console] [info] current gap is epsilon_gap=0.0019203641834356772\n",
      "[2022-02-07 19:49:37.876] [console] [warning] Cannot find Lagrangian multiplier and separating planes for \n",
      "(box_scene::box2_Collision@000055f90b5d5308, iiwa7_twoDOF::iiwa_twoDOF_link_6_collision)\n",
      "(box_scene::box2_Collision@000055f90b5d5308, iiwa7_twoDOF::iiwa_twoDOF_link_7_collision)\n",
      "(iiwa7_twoDOF::iiwa_twoDOF_link_2_collision, iiwa7_oneDOF::iiwa_oneDOF_link_7_collision)\n",
      "(iiwa7_twoDOF::iiwa_twoDOF_link_3_collision, iiwa7_oneDOF::iiwa_oneDOF_link_7_collision)\n",
      "(iiwa7_twoDOF::iiwa_twoDOF_link_4_collision, iiwa7_oneDOF::iiwa_oneDOF_link_7_collision)\n",
      "\n",
      "[2022-02-07 19:49:37.877] [console] [info] epsilon=-0.09903982790828214 is infeasible\n",
      "[2022-02-07 19:49:37.878] [console] [info] current gap is epsilon_gap=0.0009601820917178316\n",
      "[2022-02-07 19:49:43.001] [console] [warning] Cannot find Lagrangian multiplier and separating planes for \n",
      "(box_scene::box2_Collision@000055f90b5d5308, iiwa7_twoDOF::iiwa_twoDOF_link_6_collision)\n",
      "(box_scene::box2_Collision@000055f90b5d5308, iiwa7_twoDOF::iiwa_twoDOF_link_7_collision)\n",
      "(iiwa7_twoDOF::iiwa_twoDOF_link_2_collision, iiwa7_oneDOF::iiwa_oneDOF_link_7_collision)\n",
      "(iiwa7_twoDOF::iiwa_twoDOF_link_3_collision, iiwa7_oneDOF::iiwa_oneDOF_link_7_collision)\n",
      "(iiwa7_twoDOF::iiwa_twoDOF_link_4_collision, iiwa7_oneDOF::iiwa_oneDOF_link_7_collision)\n",
      "\n",
      "[2022-02-07 19:49:43.002] [console] [info] epsilon=-0.09951991895414106 is infeasible\n",
      "[2022-02-07 19:49:43.002] [console] [info] Ineq 4/12 in round 1\n",
      "[2022-02-07 19:49:43.002] [console] [info] current gap is epsilon_gap=0.150041718375539\n",
      "[2022-02-07 19:49:48.296] [console] [warning] Cannot find Lagrangian multiplier and separating planes for \n",
      "(box_scene::box2_Collision@000055f90b5d5308, iiwa7_twoDOF::iiwa_twoDOF_link_6_collision)\n",
      "(box_scene::box2_Collision@000055f90b5d5308, iiwa7_twoDOF::iiwa_twoDOF_link_7_collision)\n",
      "(iiwa7_twoDOF::iiwa_twoDOF_link_2_collision, iiwa7_oneDOF::iiwa_oneDOF_link_7_collision)\n",
      "(iiwa7_twoDOF::iiwa_twoDOF_link_3_collision, iiwa7_oneDOF::iiwa_oneDOF_link_6_collision)\n",
      "(iiwa7_twoDOF::iiwa_twoDOF_link_3_collision, iiwa7_oneDOF::iiwa_oneDOF_link_7_collision)\n",
      "(iiwa7_twoDOF::iiwa_twoDOF_link_4_collision, iiwa7_oneDOF::iiwa_oneDOF_link_6_collision)\n",
      "(iiwa7_twoDOF::iiwa_twoDOF_link_4_collision, iiwa7_oneDOF::iiwa_oneDOF_link_7_collision)\n",
      "\n",
      "[2022-02-07 19:49:48.298] [console] [info] epsilon=-0.024979150812230715 is infeasible\n",
      "[2022-02-07 19:49:48.299] [console] [info] current gap is epsilon_gap=0.0750208591877695\n",
      "[2022-02-07 19:49:53.232] [console] [warning] Cannot find Lagrangian multiplier and separating planes for \n",
      "(box_scene::box2_Collision@000055f90b5d5308, iiwa7_twoDOF::iiwa_twoDOF_link_7_collision)\n",
      "(iiwa7_twoDOF::iiwa_twoDOF_link_2_collision, iiwa7_oneDOF::iiwa_oneDOF_link_7_collision)\n",
      "(iiwa7_twoDOF::iiwa_twoDOF_link_3_collision, iiwa7_oneDOF::iiwa_oneDOF_link_6_collision)\n",
      "(iiwa7_twoDOF::iiwa_twoDOF_link_3_collision, iiwa7_oneDOF::iiwa_oneDOF_link_7_collision)\n",
      "(iiwa7_twoDOF::iiwa_twoDOF_link_4_collision, iiwa7_oneDOF::iiwa_oneDOF_link_6_collision)\n",
      "(iiwa7_twoDOF::iiwa_twoDOF_link_4_collision, iiwa7_oneDOF::iiwa_oneDOF_link_7_collision)\n",
      "\n",
      "[2022-02-07 19:49:53.235] [console] [info] epsilon=-0.06248958040611547 is infeasible\n",
      "[2022-02-07 19:49:53.235] [console] [info] current gap is epsilon_gap=0.03751042959388475\n",
      "[2022-02-07 19:49:57.927] [console] [warning] Cannot find Lagrangian multiplier and separating planes for \n",
      "(iiwa7_twoDOF::iiwa_twoDOF_link_2_collision, iiwa7_oneDOF::iiwa_oneDOF_link_7_collision)\n",
      "(iiwa7_twoDOF::iiwa_twoDOF_link_3_collision, iiwa7_oneDOF::iiwa_oneDOF_link_6_collision)\n",
      "(iiwa7_twoDOF::iiwa_twoDOF_link_3_collision, iiwa7_oneDOF::iiwa_oneDOF_link_7_collision)\n",
      "(iiwa7_twoDOF::iiwa_twoDOF_link_4_collision, iiwa7_oneDOF::iiwa_oneDOF_link_6_collision)\n",
      "(iiwa7_twoDOF::iiwa_twoDOF_link_4_collision, iiwa7_oneDOF::iiwa_oneDOF_link_7_collision)\n",
      "\n",
      "[2022-02-07 19:49:57.930] [console] [info] epsilon=-0.08124479520305784 is infeasible\n",
      "[2022-02-07 19:49:57.930] [console] [info] current gap is epsilon_gap=0.01875521479694238\n",
      "[2022-02-07 19:50:03.186] [console] [warning] Cannot find Lagrangian multiplier and separating planes for \n",
      "(iiwa7_twoDOF::iiwa_twoDOF_link_2_collision, iiwa7_oneDOF::iiwa_oneDOF_link_7_collision)\n",
      "(iiwa7_twoDOF::iiwa_twoDOF_link_3_collision, iiwa7_oneDOF::iiwa_oneDOF_link_6_collision)\n",
      "(iiwa7_twoDOF::iiwa_twoDOF_link_3_collision, iiwa7_oneDOF::iiwa_oneDOF_link_7_collision)\n",
      "(iiwa7_twoDOF::iiwa_twoDOF_link_4_collision, iiwa7_oneDOF::iiwa_oneDOF_link_6_collision)\n",
      "(iiwa7_twoDOF::iiwa_twoDOF_link_4_collision, iiwa7_oneDOF::iiwa_oneDOF_link_7_collision)\n",
      "\n",
      "[2022-02-07 19:50:03.187] [console] [info] epsilon=-0.09062240260152904 is infeasible\n",
      "[2022-02-07 19:50:03.187] [console] [info] current gap is epsilon_gap=0.009377607398471183\n",
      "[2022-02-07 19:50:08.195] [console] [warning] Cannot find Lagrangian multiplier and separating planes for \n",
      "(iiwa7_twoDOF::iiwa_twoDOF_link_2_collision, iiwa7_oneDOF::iiwa_oneDOF_link_7_collision)\n",
      "(iiwa7_twoDOF::iiwa_twoDOF_link_3_collision, iiwa7_oneDOF::iiwa_oneDOF_link_6_collision)\n",
      "(iiwa7_twoDOF::iiwa_twoDOF_link_3_collision, iiwa7_oneDOF::iiwa_oneDOF_link_7_collision)\n",
      "(iiwa7_twoDOF::iiwa_twoDOF_link_4_collision, iiwa7_oneDOF::iiwa_oneDOF_link_6_collision)\n",
      "(iiwa7_twoDOF::iiwa_twoDOF_link_4_collision, iiwa7_oneDOF::iiwa_oneDOF_link_7_collision)\n",
      "\n",
      "[2022-02-07 19:50:08.196] [console] [info] epsilon=-0.09531120630076463 is infeasible\n",
      "[2022-02-07 19:50:08.197] [console] [info] current gap is epsilon_gap=0.004688803699235591\n",
      "[2022-02-07 19:50:13.171] [console] [warning] Cannot find Lagrangian multiplier and separating planes for \n",
      "(iiwa7_twoDOF::iiwa_twoDOF_link_2_collision, iiwa7_oneDOF::iiwa_oneDOF_link_7_collision)\n",
      "(iiwa7_twoDOF::iiwa_twoDOF_link_3_collision, iiwa7_oneDOF::iiwa_oneDOF_link_6_collision)\n",
      "(iiwa7_twoDOF::iiwa_twoDOF_link_3_collision, iiwa7_oneDOF::iiwa_oneDOF_link_7_collision)\n",
      "(iiwa7_twoDOF::iiwa_twoDOF_link_4_collision, iiwa7_oneDOF::iiwa_oneDOF_link_6_collision)\n",
      "(iiwa7_twoDOF::iiwa_twoDOF_link_4_collision, iiwa7_oneDOF::iiwa_oneDOF_link_7_collision)\n",
      "\n"
     ]
    },
    {
     "name": "stderr",
     "output_type": "stream",
     "text": [
      "[2022-02-07 19:50:13.173] [console] [info] epsilon=-0.09765560815038243 is infeasible\n",
      "[2022-02-07 19:50:13.174] [console] [info] current gap is epsilon_gap=0.0023444018496177887\n",
      "[2022-02-07 19:50:18.479] [console] [warning] Cannot find Lagrangian multiplier and separating planes for \n",
      "(iiwa7_twoDOF::iiwa_twoDOF_link_2_collision, iiwa7_oneDOF::iiwa_oneDOF_link_7_collision)\n",
      "(iiwa7_twoDOF::iiwa_twoDOF_link_3_collision, iiwa7_oneDOF::iiwa_oneDOF_link_6_collision)\n",
      "(iiwa7_twoDOF::iiwa_twoDOF_link_3_collision, iiwa7_oneDOF::iiwa_oneDOF_link_7_collision)\n",
      "(iiwa7_twoDOF::iiwa_twoDOF_link_4_collision, iiwa7_oneDOF::iiwa_oneDOF_link_6_collision)\n",
      "(iiwa7_twoDOF::iiwa_twoDOF_link_4_collision, iiwa7_oneDOF::iiwa_oneDOF_link_7_collision)\n",
      "\n",
      "[2022-02-07 19:50:18.481] [console] [info] epsilon=-0.09882780907519133 is infeasible\n",
      "[2022-02-07 19:50:18.482] [console] [info] current gap is epsilon_gap=0.0011722009248088944\n",
      "[2022-02-07 19:50:23.298] [console] [warning] Cannot find Lagrangian multiplier and separating planes for \n",
      "(iiwa7_twoDOF::iiwa_twoDOF_link_2_collision, iiwa7_oneDOF::iiwa_oneDOF_link_7_collision)\n",
      "(iiwa7_twoDOF::iiwa_twoDOF_link_3_collision, iiwa7_oneDOF::iiwa_oneDOF_link_6_collision)\n",
      "(iiwa7_twoDOF::iiwa_twoDOF_link_3_collision, iiwa7_oneDOF::iiwa_oneDOF_link_7_collision)\n",
      "(iiwa7_twoDOF::iiwa_twoDOF_link_4_collision, iiwa7_oneDOF::iiwa_oneDOF_link_6_collision)\n",
      "(iiwa7_twoDOF::iiwa_twoDOF_link_4_collision, iiwa7_oneDOF::iiwa_oneDOF_link_7_collision)\n",
      "\n",
      "[2022-02-07 19:50:23.300] [console] [info] epsilon=-0.09941390953759577 is infeasible\n",
      "[2022-02-07 19:50:23.300] [console] [info] current gap is epsilon_gap=0.0005861004624044541\n",
      "[2022-02-07 19:50:28.337] [console] [warning] Cannot find Lagrangian multiplier and separating planes for \n",
      "(iiwa7_twoDOF::iiwa_twoDOF_link_2_collision, iiwa7_oneDOF::iiwa_oneDOF_link_7_collision)\n",
      "(iiwa7_twoDOF::iiwa_twoDOF_link_3_collision, iiwa7_oneDOF::iiwa_oneDOF_link_6_collision)\n",
      "(iiwa7_twoDOF::iiwa_twoDOF_link_3_collision, iiwa7_oneDOF::iiwa_oneDOF_link_7_collision)\n",
      "(iiwa7_twoDOF::iiwa_twoDOF_link_4_collision, iiwa7_oneDOF::iiwa_oneDOF_link_6_collision)\n",
      "(iiwa7_twoDOF::iiwa_twoDOF_link_4_collision, iiwa7_oneDOF::iiwa_oneDOF_link_7_collision)\n",
      "\n",
      "[2022-02-07 19:50:28.338] [console] [info] epsilon=-0.099706959768798 is infeasible\n",
      "[2022-02-07 19:50:28.339] [console] [info] current gap is epsilon_gap=0.00029305023120222706\n",
      "[2022-02-07 19:50:33.878] [console] [warning] Cannot find Lagrangian multiplier and separating planes for \n",
      "(iiwa7_twoDOF::iiwa_twoDOF_link_2_collision, iiwa7_oneDOF::iiwa_oneDOF_link_7_collision)\n",
      "(iiwa7_twoDOF::iiwa_twoDOF_link_3_collision, iiwa7_oneDOF::iiwa_oneDOF_link_6_collision)\n",
      "(iiwa7_twoDOF::iiwa_twoDOF_link_3_collision, iiwa7_oneDOF::iiwa_oneDOF_link_7_collision)\n",
      "(iiwa7_twoDOF::iiwa_twoDOF_link_4_collision, iiwa7_oneDOF::iiwa_oneDOF_link_6_collision)\n",
      "(iiwa7_twoDOF::iiwa_twoDOF_link_4_collision, iiwa7_oneDOF::iiwa_oneDOF_link_7_collision)\n",
      "\n",
      "[2022-02-07 19:50:33.882] [console] [info] epsilon=-0.0998534848843991 is infeasible\n",
      "[2022-02-07 19:50:33.883] [console] [info] Ineq 1/12 in round 1\n",
      "[2022-02-07 19:50:33.883] [console] [info] current gap is epsilon_gap=0.15004169837553838\n",
      "[2022-02-07 19:50:39.099] [console] [warning] Cannot find Lagrangian multiplier and separating planes for \n",
      "(box_scene::box2_Collision@000055f90b5d5308, iiwa7_twoDOF::iiwa_twoDOF_link_6_collision)\n",
      "(box_scene::box2_Collision@000055f90b5d5308, iiwa7_twoDOF::iiwa_twoDOF_link_7_collision)\n",
      "(iiwa7_twoDOF::iiwa_twoDOF_link_2_collision, iiwa7_oneDOF::iiwa_oneDOF_link_7_collision)\n",
      "(iiwa7_twoDOF::iiwa_twoDOF_link_3_collision, iiwa7_oneDOF::iiwa_oneDOF_link_7_collision)\n",
      "(iiwa7_twoDOF::iiwa_twoDOF_link_4_collision, iiwa7_oneDOF::iiwa_oneDOF_link_6_collision)\n",
      "(iiwa7_twoDOF::iiwa_twoDOF_link_4_collision, iiwa7_oneDOF::iiwa_oneDOF_link_7_collision)\n",
      "\n",
      "[2022-02-07 19:50:39.101] [console] [info] epsilon=-0.024979140812230488 is infeasible\n",
      "[2022-02-07 19:50:39.102] [console] [info] current gap is epsilon_gap=0.07502084918776919\n",
      "[2022-02-07 19:50:44.033] [console] [warning] Cannot find Lagrangian multiplier and separating planes for \n",
      "(box_scene::box2_Collision@000055f90b5d5308, iiwa7_twoDOF::iiwa_twoDOF_link_6_collision)\n",
      "(box_scene::box2_Collision@000055f90b5d5308, iiwa7_twoDOF::iiwa_twoDOF_link_7_collision)\n",
      "(iiwa7_twoDOF::iiwa_twoDOF_link_2_collision, iiwa7_oneDOF::iiwa_oneDOF_link_7_collision)\n",
      "(iiwa7_twoDOF::iiwa_twoDOF_link_3_collision, iiwa7_oneDOF::iiwa_oneDOF_link_7_collision)\n",
      "(iiwa7_twoDOF::iiwa_twoDOF_link_4_collision, iiwa7_oneDOF::iiwa_oneDOF_link_7_collision)\n",
      "\n",
      "[2022-02-07 19:50:44.034] [console] [info] epsilon=-0.06248956540611508 is infeasible\n",
      "[2022-02-07 19:50:44.035] [console] [info] current gap is epsilon_gap=0.037510424593884595\n",
      "[2022-02-07 19:50:48.872] [console] [warning] Cannot find Lagrangian multiplier and separating planes for \n",
      "(box_scene::box2_Collision@000055f90b5d5308, iiwa7_twoDOF::iiwa_twoDOF_link_6_collision)\n",
      "(box_scene::box2_Collision@000055f90b5d5308, iiwa7_twoDOF::iiwa_twoDOF_link_7_collision)\n",
      "(iiwa7_twoDOF::iiwa_twoDOF_link_2_collision, iiwa7_oneDOF::iiwa_oneDOF_link_7_collision)\n",
      "(iiwa7_twoDOF::iiwa_twoDOF_link_3_collision, iiwa7_oneDOF::iiwa_oneDOF_link_7_collision)\n",
      "\n",
      "[2022-02-07 19:50:48.874] [console] [info] epsilon=-0.08124477770305738 is infeasible\n",
      "[2022-02-07 19:50:48.874] [console] [info] current gap is epsilon_gap=0.018755212296942297\n",
      "[2022-02-07 19:50:53.924] [console] [warning] Cannot find Lagrangian multiplier and separating planes for \n",
      "(box_scene::box2_Collision@000055f90b5d5308, iiwa7_twoDOF::iiwa_twoDOF_link_6_collision)\n",
      "(box_scene::box2_Collision@000055f90b5d5308, iiwa7_twoDOF::iiwa_twoDOF_link_7_collision)\n",
      "\n",
      "[2022-02-07 19:50:53.925] [console] [info] epsilon=-0.09062238385152853 is infeasible\n",
      "[2022-02-07 19:50:53.926] [console] [info] current gap is epsilon_gap=0.009377606148471149\n",
      "[2022-02-07 19:50:58.905] [console] [warning] Cannot find Lagrangian multiplier and separating planes for \n",
      "(box_scene::box2_Collision@000055f90b5d5308, iiwa7_twoDOF::iiwa_twoDOF_link_6_collision)\n",
      "(box_scene::box2_Collision@000055f90b5d5308, iiwa7_twoDOF::iiwa_twoDOF_link_7_collision)\n",
      "\n",
      "[2022-02-07 19:50:58.907] [console] [info] epsilon=-0.0953111869257641 is infeasible\n",
      "[2022-02-07 19:50:58.907] [console] [info] current gap is epsilon_gap=0.004688803074235581\n",
      "[2022-02-07 19:51:03.861] [console] [warning] Cannot find Lagrangian multiplier and separating planes for \n",
      "(box_scene::box2_Collision@000055f90b5d5308, iiwa7_twoDOF::iiwa_twoDOF_link_6_collision)\n",
      "(box_scene::box2_Collision@000055f90b5d5308, iiwa7_twoDOF::iiwa_twoDOF_link_7_collision)\n",
      "\n",
      "[2022-02-07 19:51:03.863] [console] [info] epsilon=-0.09765558846288189 is infeasible\n",
      "[2022-02-07 19:51:03.864] [console] [info] current gap is epsilon_gap=0.0023444015371177906\n",
      "[2022-02-07 19:51:09.172] [console] [warning] Cannot find Lagrangian multiplier and separating planes for \n",
      "(box_scene::box2_Collision@000055f90b5d5308, iiwa7_twoDOF::iiwa_twoDOF_link_6_collision)\n",
      "(box_scene::box2_Collision@000055f90b5d5308, iiwa7_twoDOF::iiwa_twoDOF_link_7_collision)\n",
      "\n",
      "[2022-02-07 19:51:09.174] [console] [info] epsilon=-0.09882778923144078 is infeasible\n",
      "[2022-02-07 19:51:09.175] [console] [info] current gap is epsilon_gap=0.0011722007685588953\n",
      "[2022-02-07 19:51:14.332] [console] [warning] Cannot find Lagrangian multiplier and separating planes for \n",
      "(box_scene::box2_Collision@000055f90b5d5308, iiwa7_twoDOF::iiwa_twoDOF_link_6_collision)\n",
      "(box_scene::box2_Collision@000055f90b5d5308, iiwa7_twoDOF::iiwa_twoDOF_link_7_collision)\n",
      "\n",
      "[2022-02-07 19:51:14.333] [console] [info] epsilon=-0.09941388961572023 is infeasible\n",
      "[2022-02-07 19:51:14.334] [console] [info] current gap is epsilon_gap=0.0005861003842794477\n",
      "[2022-02-07 19:51:19.523] [console] [warning] Cannot find Lagrangian multiplier and separating planes for \n",
      "(box_scene::box2_Collision@000055f90b5d5308, iiwa7_twoDOF::iiwa_twoDOF_link_6_collision)\n",
      "(box_scene::box2_Collision@000055f90b5d5308, iiwa7_twoDOF::iiwa_twoDOF_link_7_collision)\n",
      "\n",
      "[2022-02-07 19:51:19.525] [console] [info] epsilon=-0.09970693980785995 is infeasible\n",
      "[2022-02-07 19:51:19.525] [console] [info] current gap is epsilon_gap=0.00029305019213972383\n",
      "[2022-02-07 19:51:24.654] [console] [warning] Cannot find Lagrangian multiplier and separating planes for \n",
      "(box_scene::box2_Collision@000055f90b5d5308, iiwa7_twoDOF::iiwa_twoDOF_link_6_collision)\n",
      "(box_scene::box2_Collision@000055f90b5d5308, iiwa7_twoDOF::iiwa_twoDOF_link_7_collision)\n",
      "\n"
     ]
    },
    {
     "name": "stderr",
     "output_type": "stream",
     "text": [
      "[2022-02-07 19:51:24.655] [console] [info] epsilon=-0.09985346490392982 is infeasible\n",
      "[2022-02-07 19:51:24.655] [console] [info] Ineq 6/12 in round 1\n",
      "[2022-02-07 19:51:24.656] [console] [info] Ineq 12/12 in round 1\n",
      "[2022-02-07 19:51:24.656] [console] [info] Ineq 7/12 in round 1\n"
     ]
    },
    {
     "ename": "RuntimeError",
     "evalue": "round robin bisection search failed: epsilon max is less than epsilon min with -0.09999997884707934 <= -0.09999997884707928",
     "output_type": "error",
     "traceback": [
      "\u001b[0;31m---------------------------------------------------------------------------\u001b[0m",
      "\u001b[0;31mRuntimeError\u001b[0m                              Traceback (most recent call last)",
      "\u001b[0;32m<ipython-input-19-b4330d6b6629>\u001b[0m in \u001b[0;36m<module>\u001b[0;34m\u001b[0m\n\u001b[0;32m----> 1\u001b[0;31m cspace_free_region_solution_round_robin = cspace_free_region.CspacePolytopeRoundRobinBisectionSearch(q_star,\n\u001b[0m\u001b[1;32m      2\u001b[0m                                                                      \u001b[0mfiltered_collision_pairs\u001b[0m\u001b[0;34m,\u001b[0m\u001b[0;34m\u001b[0m\u001b[0;34m\u001b[0m\u001b[0m\n\u001b[1;32m      3\u001b[0m                                                                      \u001b[0mC\u001b[0m\u001b[0;34m,\u001b[0m \u001b[0md\u001b[0m\u001b[0;34m,\u001b[0m \u001b[0mnum_rounds\u001b[0m\u001b[0;34m,\u001b[0m\u001b[0;34m\u001b[0m\u001b[0;34m\u001b[0m\u001b[0m\n\u001b[1;32m      4\u001b[0m                                                                      \u001b[0mvector_bisection_search_options\u001b[0m\u001b[0;34m,\u001b[0m\u001b[0;34m\u001b[0m\u001b[0;34m\u001b[0m\u001b[0m\n\u001b[1;32m      5\u001b[0m                                                                      solver_options, s)\n",
      "\u001b[0;31mRuntimeError\u001b[0m: round robin bisection search failed: epsilon max is less than epsilon min with -0.09999997884707934 <= -0.09999997884707928"
     ]
    }
   ],
   "source": [
    "cspace_free_region_solution_round_robin = cspace_free_region.CspacePolytopeRoundRobinBisectionSearch(q_star,\n",
    "                                                                     filtered_collision_pairs,\n",
    "                                                                     C, d, num_rounds, \n",
    "                                                                     vector_bisection_search_options,\n",
    "                                                                     solver_options, s)"
   ]
  },
  {
   "cell_type": "code",
   "execution_count": null,
   "metadata": {},
   "outputs": [],
   "source": [
    "if do_viz:\n",
    "    visualizer.plot_regions([HPolyhedron(cspace_free_region_solution_vector_bisection.C,\n",
    "                                         cspace_free_region_solution_vector_bisection.d)], \n",
    "                            ellipses=None, region_suffix='_round_robin')"
   ]
  },
  {
   "cell_type": "code",
   "execution_count": 52,
   "metadata": {
    "scrolled": true
   },
   "outputs": [
    {
     "name": "stdout",
     "output_type": "stream",
     "text": [
      "[[ 1.          0.          0.        ]\n",
      " [ 0.          1.          0.        ]\n",
      " [ 0.          0.          1.        ]\n",
      " [-1.         -0.         -0.        ]\n",
      " [-0.         -1.         -0.        ]\n",
      " [-0.         -0.         -1.        ]\n",
      " [ 0.70710678  0.70710678  0.        ]\n",
      " [-0.70710678  0.70710678  0.        ]\n",
      " [ 0.          0.          1.        ]\n",
      " [-0.70710678 -0.70710678  0.        ]\n",
      " [ 0.70710678 -0.70710678  0.        ]\n",
      " [ 0.          0.         -1.        ]\n",
      " [ 0.25881905  0.96592583  0.        ]\n",
      " [-0.96592583  0.25881905  0.        ]\n",
      " [-0.          0.          1.        ]\n",
      " [-0.25881905 -0.96592583  0.        ]\n",
      " [ 0.96592583 -0.25881905  0.        ]\n",
      " [-0.          0.         -1.        ]]\n",
      "[0.2        0.20000008 0.19999999 0.15435239 0.20803115 0.20000005\n",
      " 0.22958566 0.2        0.19999999 0.20000101 0.2        0.20000001\n",
      " 0.28202965 0.20000002 0.20141856 0.29268351 0.20000001 0.20000005]\n",
      "(True, <SolutionResult.kSolutionFound: 0>)\n"
     ]
    }
   ],
   "source": [
    "print(cspace_free_region_solution_round_robin.C)\n",
    "print(cspace_free_region_solution_round_robin.d)\n",
    "print(check_empty_polytope(cspace_free_region_solution_round_robin.C, cspace_free_region_solution_round_robin.d))"
   ]
  },
  {
   "cell_type": "code",
   "execution_count": 53,
   "metadata": {},
   "outputs": [
    {
     "data": {
      "text/plain": [
       "array([ 0.85949185,  0.57576755,  0.29746   ,  0.69571068,  0.12807645,\n",
       "        0.73068559,  0.46040485,  1.02242376,  0.29746   , -0.67982183,\n",
       "        0.866197  ,  0.73068559,  0.30501666,  0.90276311,  0.29746   ,\n",
       "       -0.17431767,  0.90260481,  0.73068559])"
      ]
     },
     "execution_count": 53,
     "metadata": {},
     "output_type": "execute_result"
    }
   ],
   "source": [
    "eps_max-eps_min"
   ]
  },
  {
   "cell_type": "code",
   "execution_count": 22,
   "metadata": {},
   "outputs": [],
   "source": [
    "if do_viz:\n",
    "    visualizer.plot_regions([HPolyhedron(cspace_free_region_solution.C, 0.5*cspace_free_region_solution.d)], \n",
    "                            ellipses=None, region_suffix='_round_robin')"
   ]
  },
  {
   "cell_type": "code",
   "execution_count": 26,
   "metadata": {},
   "outputs": [
    {
     "name": "stderr",
     "output_type": "stream",
     "text": [
      "[2022-02-07 15:27:37.125] [console] [info] Found Lagrangian multiplier and separating planes\n",
      "[2022-02-07 15:27:37.194] [console] [info] max(power(det(P), 1/4))=-nan, solver_time 0.05913114547729492\n",
      "[2022-02-07 15:27:40.385] [console] [info] bilinear alt on d succeeded\n",
      "[2022-02-07 15:27:40.411] [console] [info] max(power(det(P), 1/4))=1.195363453968912e-06, solver_time 0.014796972274780273\n",
      "[2022-02-07 15:27:45.796] [console] [warning] Cannot find Lagrangian multiplier and separating planes for \n",
      "(iiwa7_twoDOF::iiwa_twoDOF_link_3_collision, iiwa7_oneDOF::iiwa_oneDOF_link_7_collision)\n",
      "(iiwa7_twoDOF::iiwa_twoDOF_link_4_collision, iiwa7_oneDOF::iiwa_oneDOF_link_6_collision)\n",
      "(iiwa7_twoDOF::iiwa_twoDOF_link_4_collision, iiwa7_oneDOF::iiwa_oneDOF_link_7_collision)\n",
      "\n",
      "[2022-02-07 15:27:45.797] [console] [info] total iter=1, feasible iter = 0\n",
      "[2022-02-07 15:27:51.001] [console] [warning] Cannot find Lagrangian multiplier and separating planes for \n",
      "(iiwa7_twoDOF::iiwa_twoDOF_link_4_collision, iiwa7_oneDOF::iiwa_oneDOF_link_7_collision)\n",
      "\n",
      "[2022-02-07 15:27:51.002] [console] [info] total iter=2, feasible iter = 0\n",
      "[2022-02-07 15:27:56.016] [console] [info] Found Lagrangian multiplier and separating planes\n",
      "[2022-02-07 15:27:56.053] [console] [info] max(power(det(P), 1/4))=0.07773677992446408, solver_time 0.026539087295532227\n",
      "[2022-02-07 15:27:58.953] [console] [info] bilinear alt on d succeeded\n",
      "[2022-02-07 15:27:58.992] [console] [info] max(power(det(P), 1/4))=0.07773681296730837, solver_time 0.008252143859863281\n",
      "[2022-02-07 15:27:59.041] [console] [info] total iter=3, feasible iter = 1\n",
      "[2022-02-07 15:28:04.026] [console] [warning] Cannot find Lagrangian multiplier and separating planes for \n",
      "(iiwa7_twoDOF::iiwa_twoDOF_link_4_collision, iiwa7_oneDOF::iiwa_oneDOF_link_7_collision)\n",
      "\n",
      "[2022-02-07 15:28:04.029] [console] [info] total iter=4, feasible iter = 1\n",
      "[2022-02-07 15:28:09.672] [console] [warning] Cannot find Lagrangian multiplier and separating planes for \n",
      "(iiwa7_twoDOF::iiwa_twoDOF_link_4_collision, iiwa7_oneDOF::iiwa_oneDOF_link_7_collision)\n",
      "\n",
      "[2022-02-07 15:28:09.673] [console] [info] total iter=5, feasible iter = 1\n",
      "[2022-02-07 15:28:15.029] [console] [info] Found Lagrangian multiplier and separating planes\n",
      "[2022-02-07 15:28:15.082] [console] [info] max(power(det(P), 1/4))=0.08714346844118614, solver_time 0.030977964401245117\n",
      "[2022-02-07 15:28:18.155] [console] [info] bilinear alt on d succeeded\n",
      "[2022-02-07 15:28:18.181] [console] [info] max(power(det(P), 1/4))=0.08714346602165132, solver_time 0.011662960052490234\n",
      "[2022-02-07 15:28:18.237] [console] [info] total iter=6, feasible iter = 2\n",
      "[2022-02-07 15:28:18.259] [console] [info] max(power(det(P), 1/4))=0.08714346602165132, solver_time 0.014672994613647461\n"
     ]
    }
   ],
   "source": [
    "cspace_free_region_solution_vector_bisection = cspace_free_region.CspacePolytopeBisectionSearchVector(q_star,\n",
    "                                                                     filtered_collision_pairs,\n",
    "                                                                     C, d, \n",
    "                                                                     vector_bisection_search_options,\n",
    "                                                                     solver_options, s)"
   ]
  },
  {
   "cell_type": "code",
   "execution_count": 29,
   "metadata": {},
   "outputs": [],
   "source": [
    "if do_viz:\n",
    "    visualizer.plot_regions([HPolyhedron(cspace_free_region_solution_vector_bisection.C, \n",
    "                                         cspace_free_region_solution_vector_bisection.d)], \n",
    "                            ellipses=None, region_suffix='_vector_bisection')"
   ]
  },
  {
   "cell_type": "code",
   "execution_count": 105,
   "metadata": {},
   "outputs": [
    {
     "name": "stdout",
     "output_type": "stream",
     "text": [
      "(True, <SolutionResult.kSolutionFound: 0>)\n"
     ]
    }
   ],
   "source": []
  },
  {
   "cell_type": "code",
   "execution_count": 96,
   "metadata": {},
   "outputs": [
    {
     "data": {
      "text/plain": [
       "2"
      ]
     },
     "execution_count": 96,
     "metadata": {},
     "output_type": "execute_result"
    }
   ],
   "source": [
    "i"
   ]
  },
  {
   "cell_type": "code",
   "execution_count": 84,
   "metadata": {},
   "outputs": [
    {
     "ename": "AttributeError",
     "evalue": "module 'pydrake.multibody.rational_forward_kinematics' has no attribute 'IntegratedRegionSearchOptions'",
     "output_type": "error",
     "traceback": [
      "\u001b[0;31m---------------------------------------------------------------------------\u001b[0m",
      "\u001b[0;31mAttributeError\u001b[0m                            Traceback (most recent call last)",
      "\u001b[0;32m<ipython-input-84-0730b1b01b3e>\u001b[0m in \u001b[0;36m<module>\u001b[0;34m\u001b[0m\n\u001b[1;32m     35\u001b[0m     \u001b[0mbilinear_alternation_options_list\u001b[0m\u001b[0;34m.\u001b[0m\u001b[0mappend\u001b[0m\u001b[0;34m(\u001b[0m\u001b[0mbilinear_alternation_options\u001b[0m\u001b[0;34m)\u001b[0m\u001b[0;34m\u001b[0m\u001b[0;34m\u001b[0m\u001b[0m\n\u001b[1;32m     36\u001b[0m \u001b[0;34m\u001b[0m\u001b[0m\n\u001b[0;32m---> 37\u001b[0;31m     \u001b[0mintegrated_search_options\u001b[0m \u001b[0;34m=\u001b[0m \u001b[0mrational_forward_kinematics\u001b[0m\u001b[0;34m.\u001b[0m\u001b[0mIntegratedRegionSearchOptions\u001b[0m\u001b[0;34m(\u001b[0m\u001b[0;34m)\u001b[0m\u001b[0;34m\u001b[0m\u001b[0;34m\u001b[0m\u001b[0m\n\u001b[0m\u001b[1;32m     38\u001b[0m     \u001b[0mintegrated_search_options\u001b[0m\u001b[0;34m.\u001b[0m\u001b[0mvector_bisection_search_options\u001b[0m \u001b[0;34m=\u001b[0m \u001b[0mvector_bisection_search_options\u001b[0m\u001b[0;34m\u001b[0m\u001b[0;34m\u001b[0m\u001b[0m\n\u001b[1;32m     39\u001b[0m     \u001b[0mintegrated_search_options\u001b[0m\u001b[0;34m.\u001b[0m\u001b[0mscalar_binary_search_options\u001b[0m \u001b[0;34m=\u001b[0m \u001b[0mscalar_bisection_search_options\u001b[0m\u001b[0;34m\u001b[0m\u001b[0;34m\u001b[0m\u001b[0m\n",
      "\u001b[0;31mAttributeError\u001b[0m: module 'pydrake.multibody.rational_forward_kinematics' has no attribute 'IntegratedRegionSearchOptions'"
     ]
    }
   ],
   "source": [
    "vector_bisection_search_options_list = []\n",
    "scalar_bisection_search_options_list = []\n",
    "bilinear_alternation_options_list = []\n",
    "integrated_search_options_list = []\n",
    "\n",
    "\n",
    "search_tuples = []\n",
    "\n",
    "for i, r in enumerate(regions_default):\n",
    "    vector_bisection_search_options = rational_forward_kinematics.VectorBisectionSearchOption()\n",
    "    vector_bisection_search_options.max_iters = 20\n",
    "    vector_bisection_search_options.max_feasible_iters = 5\n",
    "    vector_bisection_search_options.search_d = True\n",
    "    vector_bisection_search_options.epsilon_min = FindEpsilonLowerVector(r.A(), r.b(),\n",
    "                                                             limits_t[0], limits_t[1], seed_points[i,:])\n",
    "    vector_bisection_search_options.epsilon_max = 0.25*FindEpsilonUpperVector(r.A(), \n",
    "                                      r.b(), \n",
    "                                      limits_t[0], limits_t[1])\n",
    "    vector_bisection_search_options_list.append(vector_bisection_search_options)\n",
    "    \n",
    "    scalar_bisection_search_options = rational_forward_kinematics.BinarySearchOption()\n",
    "    scalar_bisection_search_options.epsilon_max = 1\n",
    "    scalar_bisection_search_options.max_iters = 15\n",
    "    scalar_bisection_search_options.search_d = True\n",
    "    scalar_bisection_search_options.epsilon_min = FindEpsilonLower(r.A(), r.b(),\n",
    "                                                         limits_t[0], limits_t[1],\n",
    "                                                         seed_points[i,:])\n",
    "    scalar_bisection_search_options_list.append(scalar_bisection_search_options)\n",
    "    \n",
    "    \n",
    "    bilinear_alternation_options = rational_forward_kinematics.BilinearAlternationOption()\n",
    "    bilinear_alternation_options.max_iters = 20\n",
    "    bilinear_alternation_options.lagrangian_backoff_scale = 1e-6\n",
    "    bilinear_alternation_options.polytope_backoff_scale = 1e-6\n",
    "    bilinear_alternation_options_list.append(bilinear_alternation_options)\n",
    "    \n",
    "    integrated_search_options = rational_forward_kinematics.IntegratedRegionSearchOptions()\n",
    "    integrated_search_options.vector_bisection_search_options = vector_bisection_search_options\n",
    "    integrated_search_options.scalar_binary_search_options = scalar_bisection_search_options\n",
    "    integrated_search_options.bilinear_alternation_options = bilinear_alternation_options\n",
    "    integrated_search_options.max_method_switch = 2\n",
    "    integrated_search_options.use_vector_bisection_search = True\n",
    "    integrated_search_options_list.append(integrated_search_options)\n",
    "    \n",
    "    search_tuples.append((r, integrated_search_options, seed_points[i,:]))"
   ]
  },
  {
   "cell_type": "code",
   "execution_count": null,
   "metadata": {},
   "outputs": [],
   "source": []
  },
  {
   "cell_type": "code",
   "execution_count": 26,
   "metadata": {},
   "outputs": [],
   "source": [
    "def launch_integrated_search(region, integrated_search_options, seed_point):\n",
    "    return cspace_free_region.IntegratedCSpacePolytopeSearch(q_star,filtered_collision_pairs,\n",
    "                                                      region.A(), region.b(),\n",
    "                                                     integrated_search_options, \n",
    "                                                      solver_options, seed_point\n",
    "                                                     )\n",
    "def launch_vector_bisection_search(region, integrated_search_options, seed_point):\n",
    "    return cspace_free_region.IntegratedCSpacePolytopeSearch(q_star,filtered_collision_pairs,\n",
    "                                                      region.A(), region.b(),\n",
    "                                                     integrated_search_options, \n",
    "                                                      solver_options, seed_point\n",
    "                                                     )"
   ]
  },
  {
   "cell_type": "code",
   "execution_count": 16,
   "metadata": {},
   "outputs": [
    {
     "ename": "NameError",
     "evalue": "name 'search_tuples' is not defined",
     "output_type": "error",
     "traceback": [
      "\u001b[0;31m---------------------------------------------------------------------------\u001b[0m",
      "\u001b[0;31mNameError\u001b[0m                                 Traceback (most recent call last)",
      "\u001b[0;32m<ipython-input-16-cba222107917>\u001b[0m in \u001b[0;36m<module>\u001b[0;34m\u001b[0m\n\u001b[1;32m      1\u001b[0m \u001b[0mret_vals\u001b[0m \u001b[0;34m=\u001b[0m \u001b[0;34m[\u001b[0m\u001b[0;34m]\u001b[0m\u001b[0;34m\u001b[0m\u001b[0;34m\u001b[0m\u001b[0m\n\u001b[0;32m----> 2\u001b[0;31m \u001b[0;32mfor\u001b[0m \u001b[0mtup\u001b[0m \u001b[0;32min\u001b[0m \u001b[0msearch_tuples\u001b[0m\u001b[0;34m:\u001b[0m\u001b[0;34m\u001b[0m\u001b[0;34m\u001b[0m\u001b[0m\n\u001b[0m\u001b[1;32m      3\u001b[0m     \u001b[0mret_vals\u001b[0m\u001b[0;34m.\u001b[0m\u001b[0mappend\u001b[0m\u001b[0;34m(\u001b[0m\u001b[0mlaunch_integrated_search\u001b[0m\u001b[0;34m(\u001b[0m\u001b[0;34m*\u001b[0m\u001b[0mtup\u001b[0m\u001b[0;34m)\u001b[0m\u001b[0;34m)\u001b[0m\u001b[0;34m\u001b[0m\u001b[0;34m\u001b[0m\u001b[0m\n",
      "\u001b[0;31mNameError\u001b[0m: name 'search_tuples' is not defined"
     ]
    }
   ],
   "source": [
    "ret_vals = []\n",
    "for tup in search_tuples:\n",
    "    ret_vals.append(launch_integrated_search(*tup))"
   ]
  },
  {
   "cell_type": "code",
   "execution_count": 17,
   "metadata": {},
   "outputs": [],
   "source": [
    "i = 1\n",
    "r = regions[i]\n",
    "s = seed_points_q[i]\n",
    "vector_bisection_search_options = rational_forward_kinematics.VectorBisectionSearchOption()\n",
    "vector_bisection_search_options.max_iters = 1\n",
    "vector_bisection_search_options.max_feasible_iters = 20\n",
    "vector_bisection_search_options.search_d = True\n",
    "vector_bisection_search_options.epsilon_min = FindEpsilonLowerVector(r.A(), r.b(),\n",
    "                                                         limits_t[0], limits_t[1], seed_points[i,:])\n",
    "vector_bisection_search_options.epsilon_max = 0.98*vector_bisection_search_options.epsilon_min #np.zeros(r.b().shape[0])"
   ]
  },
  {
   "cell_type": "code",
   "execution_count": 18,
   "metadata": {},
   "outputs": [
    {
     "name": "stderr",
     "output_type": "stream",
     "text": [
      "[2022-02-05 15:10:26.860] [console] [info] bilinear alt on d succeeded\n",
      "[2022-02-05 15:10:26.892] [console] [info] Solver time 2.400635004043579\n"
     ]
    }
   ],
   "source": [
    "d_final, _ = cspace_free_region.CspacePolytopeBisectionSearchVector(q_star,set(),\n",
    "                                                      r.A(), r.b(),\n",
    "                                                     vector_bisection_search_options, \n",
    "                                                      solver_options, seed_points_q)"
   ]
  },
  {
   "cell_type": "code",
   "execution_count": 20,
   "metadata": {},
   "outputs": [],
   "source": [
    "r_new = HPolyhedron(r.A(), d_final)\n",
    "if do_viz:\n",
    "    visualizer.plot_regions([r_new], ellipses=None, region_suffix='_new')"
   ]
  },
  {
   "cell_type": "code",
   "execution_count": 17,
   "metadata": {},
   "outputs": [],
   "source": [
    "planes = cspace_free_region.separating_planes()"
   ]
  },
  {
   "cell_type": "code",
   "execution_count": 22,
   "metadata": {},
   "outputs": [
    {
     "data": {
      "text/plain": [
       "<Expression \"(b_constant0 + (t[0] * b_coeff0(0)) + (t[1] * b_coeff0(1)) + (t[2] * b_coeff0(2)))\">"
      ]
     },
     "execution_count": 22,
     "metadata": {},
     "output_type": "execute_result"
    }
   ],
   "source": []
  },
  {
   "cell_type": "code",
   "execution_count": 16,
   "metadata": {},
   "outputs": [
    {
     "name": "stderr",
     "output_type": "stream",
     "text": [
      "[2022-01-31 15:40:42.251] [console] [info] Solver time 2.6619720458984375\n",
      "[2022-01-31 15:40:44.826] [console] [info] Solver time 1.0261502265930176\n"
     ]
    },
    {
     "name": "stdout",
     "output_type": "stream",
     "text": [
      "[IRIS +  CERT]: Eps min -0.2652286679481278\n",
      "[IRIS +  CERT]: Region found, vol =  0.6819787390374958 , halfaxis:  [4.86595118 2.17555524 0.58020292]\n"
     ]
    },
    {
     "name": "stderr",
     "output_type": "stream",
     "text": [
      "[2022-01-31 15:40:48.683] [console] [info] Solver time 1.619724988937378\n",
      "[2022-01-31 15:40:48.733] [console] [info] epsilon=-0.1326143339740639 is infeasible\n",
      "[2022-01-31 15:40:53.321] [console] [info] Solver time 1.117055892944336\n",
      "[2022-01-31 15:40:53.401] [console] [info] epsilon=-0.19892150096109587 is feasible\n",
      "[2022-01-31 15:40:53.402] [console] [info] reset eps_min=0.0, eps_max=0.06630716698703196\n"
     ]
    },
    {
     "name": "stdout",
     "output_type": "stream",
     "text": [
      "Completed 1/5\n",
      "[IRIS +  CERT]: Eps min -0.29420562277149487\n",
      "[IRIS +  CERT]: Region found, vol =  0.5535987103063078 , halfaxis:  [4.69487125 2.58579857 0.62326848]\n"
     ]
    },
    {
     "name": "stderr",
     "output_type": "stream",
     "text": [
      "[2022-01-31 15:41:02.811] [console] [info] Solver time 3.412208080291748\n",
      "[2022-01-31 15:41:05.195] [console] [info] Solver time 0.7390580177307129\n",
      "[2022-01-31 15:41:10.948] [console] [info] Solver time 1.3550069332122803\n",
      "[2022-01-31 15:41:11.041] [console] [info] epsilon=-0.14710281138574743 is feasible\n",
      "[2022-01-31 15:41:11.042] [console] [info] reset eps_min=0.0, eps_max=0.14710281138574743\n",
      "[2022-01-31 15:41:16.878] [console] [info] Solver time 2.747184991836548\n",
      "[2022-01-31 15:41:16.951] [console] [info] epsilon=0.07355140569287372 is infeasible\n",
      "[2022-01-31 15:41:24.801] [console] [info] Solver time 3.2756950855255127\n"
     ]
    },
    {
     "name": "stdout",
     "output_type": "stream",
     "text": [
      "Completed 2/5\n",
      "[IRIS +  CERT]: Eps min -0.18879697349162416\n",
      "[IRIS +  CERT]: Region found, vol =  0.2809376750763851 , halfaxis:  [6.30904723 1.28918146 1.83316179]\n"
     ]
    },
    {
     "name": "stderr",
     "output_type": "stream",
     "text": [
      "[2022-01-31 15:41:27.377] [console] [info] Solver time 0.8014249801635742\n",
      "[2022-01-31 15:41:35.025] [console] [info] Solver time 1.7665431499481201\n",
      "[2022-01-31 15:41:35.122] [console] [info] epsilon=-0.09439848674581208 is feasible\n",
      "[2022-01-31 15:41:35.123] [console] [info] reset eps_min=0.0, eps_max=0.09439848674581208\n",
      "[2022-01-31 15:41:40.916] [console] [info] Solver time 2.644279956817627\n",
      "[2022-01-31 15:41:40.986] [console] [info] epsilon=0.04719924337290604 is infeasible\n"
     ]
    },
    {
     "name": "stdout",
     "output_type": "stream",
     "text": [
      "Completed 3/5\n",
      "[IRIS +  CERT]: Eps min -0.3723186551818972\n",
      "[IRIS +  CERT]: Region found, vol =  0.43219436206092116 , halfaxis:  [3.9707394  1.96475249 1.24231085]\n"
     ]
    },
    {
     "name": "stderr",
     "output_type": "stream",
     "text": [
      "[2022-01-31 15:41:52.723] [console] [info] Solver time 5.3282060623168945\n",
      "[2022-01-31 15:41:55.406] [console] [info] Solver time 0.7601940631866455\n",
      "[2022-01-31 15:42:07.151] [console] [info] Solver time 2.5368189811706543\n",
      "[2022-01-31 15:42:07.268] [console] [info] epsilon=-0.1861593275909486 is feasible\n",
      "[2022-01-31 15:42:07.269] [console] [info] reset eps_min=0.0, eps_max=0.1861593275909486\n",
      "[2022-01-31 15:42:19.733] [console] [info] Solver time 2.952458143234253\n",
      "[2022-01-31 15:42:19.850] [console] [info] epsilon=0.0930796637954743 is feasible\n",
      "[2022-01-31 15:42:19.851] [console] [info] reset eps_min=0.0, eps_max=0.09307966379547433\n"
     ]
    },
    {
     "name": "stdout",
     "output_type": "stream",
     "text": [
      "Completed 4/5\n"
     ]
    },
    {
     "name": "stderr",
     "output_type": "stream",
     "text": [
      "[2022-01-31 15:42:31.487] [console] [info] Solver time 4.768555164337158\n"
     ]
    },
    {
     "name": "stdout",
     "output_type": "stream",
     "text": [
      "[IRIS +  CERT]: Eps min -0.33868521538628993\n",
      "[IRIS +  CERT]: Region found, vol =  0.43617411313252785 , halfaxis:  [3.98248604 1.65632853 1.45588804]\n"
     ]
    },
    {
     "name": "stderr",
     "output_type": "stream",
     "text": [
      "[2022-01-31 15:42:34.253] [console] [info] Solver time 0.7434499263763428\n",
      "[2022-01-31 15:42:42.592] [console] [info] Solver time 1.8796329498291016\n",
      "[2022-01-31 15:42:42.727] [console] [info] epsilon=-0.16934260769314496 is feasible\n",
      "[2022-01-31 15:42:42.728] [console] [info] reset eps_min=0.0, eps_max=0.16934260769314502\n",
      "[2022-01-31 15:42:52.439] [console] [info] Solver time 2.5359718799591064\n",
      "[2022-01-31 15:42:52.575] [console] [info] epsilon=0.08467130384657251 is feasible\n",
      "[2022-01-31 15:42:52.576] [console] [info] reset eps_min=0.0, eps_max=0.08467130384657251\n"
     ]
    },
    {
     "name": "stdout",
     "output_type": "stream",
     "text": [
      "Completed 5/5\n"
     ]
    }
   ],
   "source": [
    "#refine with CPP code:\n",
    "cpp_editted_scalar_regions = []\n",
    "for i in range(seed_points.shape[0]):\n",
    "    s = seed_points[i,:]\n",
    "    region_init = regions[i]\n",
    "    region_init, region = iris_scalar_handle(s, region_init)\n",
    "    cpp_editted_scalar_regions.append(region)\n",
    "    print(f\"Completed {i+1}/{seed_points.shape[0]}\")"
   ]
  },
  {
   "cell_type": "code",
   "execution_count": 40,
   "metadata": {},
   "outputs": [],
   "source": [
    "if do_viz:\n",
    "    visualizer.plot_regions(cpp_editted_regions, ellipses=None, region_suffix='cpp_editted_regions')"
   ]
  },
  {
   "cell_type": "code",
   "execution_count": 44,
   "metadata": {},
   "outputs": [
    {
     "name": "stdout",
     "output_type": "stream",
     "text": [
      "snopt_example=[ 0.35244668 -0.19250022 -0.17979872], growth = 1936025801.4851828\n",
      "snopt_example=[ 0.23144445 -0.04062289 -0.46224621], growth = 2688883094.3830557\n",
      "snopt_example=[ 0.2001245  -0.10137361 -0.26895992], growth = 1226658660.3889592\n",
      "snopt_example=[0.         0.         0.22974536], growth = 527829310.38532484\n",
      "snopt_example=[-0.18114806  0.0938193   0.        ], growth = 416166830.35149866\n",
      "snopt_example=[-0.1760171   0.09533373  0.        ], growth = 400705370.23392135\n",
      "snopt_example=[ 0.2157998  -0.11140991 -0.25108731], growth = 1220265554.750688\n",
      "0\n",
      "snopt_example=[ 0.16305709  0.71849721 -0.56308786], growth = 2.899642778747243\n",
      "snopt_example=[-0.60852286 -1.18066191 -0.12769203], growth = 0.6628366692873271\n",
      "1\n",
      "Time:   1.61 \tVolume:   0.56 \tCenter: [ 0.18683057  0.06844461 -0.0630242 ]\n",
      "snopt_example=[ 0.81716573  0.47417491 -0.38295522], growth = 2389296154.6526375\n",
      "snopt_example=[ 0.77694698  0.54947603 -0.40266231], growth = 1702365874.8724155\n",
      "snopt_example=[ 0.44441592  0.7602044  -0.78073607], growth = 1285906239.3917656\n",
      "snopt_example=[ 0.41410039  0.7602044  -0.56906486], growth = 214709572.55277252\n",
      "snopt_example=[ 0.60655129  0.67676032 -0.4359737 ], growth = 409036687.78442574\n",
      "snopt_example=[ 0.4292922   0.75066198 -0.49899708], growth = 59403238.813360214\n",
      "snopt_example=[ 0.45036589  0.74522026 -0.4793169 ], growth = 41797033.76976776\n",
      "snopt_example=[ 0.4583283   0.73809994 -0.47343084], growth = 43155180.078891754\n",
      "snopt_example=[0.42279322 0.7602044  0.22974538], growth = 4258066173.5135317\n",
      "snopt_example=[ 0.04418868  0.80094751 -0.42279322], growth = 1450013985.2998877\n",
      "snopt_example=[ 0.07526752  0.81341769 -0.42279322], growth = 1236057679.9172459\n",
      "snopt_example=[ 0.42320112  0.76969809 -0.49894265], growth = 58890321.493450165\n",
      "0\n",
      "snopt_example=[ 0.31018965  0.0762127  -0.26265028], growth = 1.1207930995534758\n",
      "snopt_example=[ 0.37700391  0.21897156 -0.29813635], growth = 1.1652669677068974\n",
      "snopt_example=[ 0.39765255  0.71659707 -0.49732862], growth = 1.2149974263614307\n",
      "1\n",
      "Time:   1.72 \tVolume:   0.33 \tCenter: [ 0.34225528  0.67800264 -0.12655032]\n",
      "snopt_example=[ 0.57214868  0.13871282 -0.32330624], growth = 5213659746.559234\n",
      "snopt_example=[ 0.20131297  0.48115727 -0.70073369], growth = 231620542.54919243\n",
      "snopt_example=[ 0.06432049  0.48305507 -0.78073597], growth = 95352814.3111782\n",
      "snopt_example=[ 0.14621078  0.48305507 -0.68510279], growth = 92494234.34327507\n",
      "snopt_example=[ 0.12348498  0.47996184 -0.69208816], growth = 54667056.94020939\n",
      "snopt_example=[-0.01507452  0.50183858 -0.68413681], growth = 45929442.59309292\n",
      "snopt_example=[ 3.14672463e-04  4.99248578e-01 -6.84136808e-01], growth = 27350079.544599533\n",
      "snopt_example=[ 0.08534484  0.48305507 -0.69412167], growth = 13460087.211598396\n",
      "snopt_example=[ 0.08111042  0.48027033 -0.67883533], growth = 10011252.220129013\n",
      "0\n",
      "snopt_example=[-0.2879703  -1.02400543 -0.52971261], growth = 0.20980204134292446\n",
      "snopt_example=[-0.16604239 -0.12900286  0.39746036], growth = 5.813067002826035\n",
      "snopt_example=[-0.18327003 -0.24900593  0.22974538], growth = 3.7855377388504112\n",
      "snopt_example=[-0.60757714 -1.55730772 -0.47778695], growth = 2.616982971987138\n",
      "1\n",
      "Time:   1.85 \tVolume:   0.11 \tCenter: [-0.25663607 -0.62805204 -0.41042866]\n",
      "snopt_example=[ 0.06432051  1.02963856 -0.78073598], growth = 2235147260.924505\n",
      "snopt_example=[ 0.16158037  1.02963856 -0.56817958], growth = 707509060.8787098\n",
      "snopt_example=[ 0.652683    0.78517588 -0.39246014], growth = 3717602610.9842243\n",
      "snopt_example=[ 0.52314759  0.87757515 -0.48252531], growth = 2318884981.0217857\n",
      "snopt_example=[0.10033469 1.02963856 0.22974538], growth = 2906089988.5406227\n",
      "snopt_example=[ 0.0525228   1.02785854 -0.30933625], growth = 22891438.837615967\n",
      "snopt_example=[ 0.09599945  1.02980509 -0.30933625], growth = 188218.456035614\n",
      "snopt_example=[ 0.13097458  1.03653497 -0.5611107 ], growth = 643767363.2220688\n",
      "0\n",
      "snopt_example=[ 0.24838318  0.98746185 -0.54753815], growth = 1.129469493202003\n",
      "snopt_example=[ 0.31263626  0.73191533 -0.53233503], growth = 1.1160943707446709\n",
      "snopt_example=[ 0.22020854  0.83088735 -0.55420463], growth = 1.17301055891582\n",
      "snopt_example=[ 0.35796776  0.66527924 -0.50488582], growth = 1.1740083017462517\n",
      "snopt_example=[ 0.35145785  0.18165598 -0.28784105], growth = 1.2111337190542075\n",
      "snopt_example=[ 0.35688346  0.25482246 -0.34136495], growth = 1.2357427886371153\n",
      "snopt_example=[ 0.36595794  0.331826   -0.38185648], growth = 1.2535928219506838\n",
      "snopt_example=[ 0.36259176  0.36789832 -0.40547917], growth = 1.2583630537920723\n",
      "snopt_example=[ 0.37121506  0.40233144 -0.41420061], growth = 1.2602001128717424\n",
      "1\n",
      "Time:   1.77 \tVolume:   0.28 \tCenter: [ 0.34972025  0.78697502 -0.15155169]\n",
      "snopt_example=[ 0.13626802 -1.3452957  -0.59436998], growth = 293878218.1430321\n",
      "snopt_example=[ 0.26826053 -1.39758863 -0.55669217], growth = 55899436.936489105\n",
      "snopt_example=[ 0.27883672 -1.4011881  -0.554774  ], growth = 57034819.58374405\n",
      "snopt_example=[ 0.14874666 -1.3493499  -0.57703757], growth = 225994669.10144043\n",
      "snopt_example=[ 0.20603303 -1.40112381 -0.56754571], growth = 95775496.11170197\n",
      "snopt_example=[ 0.27097483 -1.3999943  -0.54275875], growth = 38115155.70933151\n",
      "snopt_example=[ 0.28198615 -1.40392951 -0.53966589], growth = 39454687.80155945\n",
      "snopt_example=[ 0.25534155 -1.39838262  0.22974538], growth = 5080844692.83519\n",
      "0\n",
      "snopt_example=[ 0.64233116 -0.12387116 -0.09677259], growth = 0.10950383111374462\n",
      "snopt_example=[ 0.23710038 -1.22573052 -0.55622937], growth = 3.1927414908516374\n",
      "snopt_example=[ 0.67875759 -0.2283246  -0.09927144], growth = 0.041228655951794924\n",
      "snopt_example=[ 0.78437597 -0.67737852 -0.12314608], growth = 0.3206581963893447\n",
      "snopt_example=[ 0.27001981 -1.30436898 -0.54548684], growth = 2.965609023443794\n",
      "snopt_example=[ 0.7539088  -0.6877461  -0.11958059], growth = 0.26143190659655424\n",
      "snopt_example=[-0.60757713 -1.55730772  0.17245119], growth = 6.244735717467123\n",
      "snopt_example=[ 0.95949334 -0.16696129 -0.08886147], growth = 0.4525194657209024\n",
      "1\n",
      "Time:   1.84 \tVolume:   0.25 \tCenter: [ 0.29261494 -0.84622812 -0.0410194 ]\n",
      "Time to initialize region program: 3.8189\n",
      "time to create Region Certification Problem: : 3.251\n",
      "Time to initialize region program: 4.2388\n",
      "time to create Region Certification Problem: : 5.5309\n",
      "Time to initialize region program: 4.0676\n",
      "time to create Region Certification Problem: : 4.6758\n",
      "Time to initialize region program: 4.5364\n",
      "time to create Region Certification Problem: : 6.3721\n",
      "Time to initialize region program: 4.5654\n",
      "time to create Region Certification Problem: : 5.9584\n"
     ]
    },
    {
     "data": {
      "text/plain": [
       "{<pydrake.geometry.optimization.HPolyhedron at 0x7f9f7db27530>: <certified_iris_generator.RegionCertificationProblem at 0x7f9f7f87f3d0>,\n",
       " <pydrake.geometry.optimization.HPolyhedron at 0x7f9f7f379e70>: <certified_iris_generator.RegionCertificationProblem at 0x7f9f7f87f730>,\n",
       " <pydrake.geometry.optimization.HPolyhedron at 0x7f9f7da92e70>: <certified_iris_generator.RegionCertificationProblem at 0x7f9f7f87fdf0>,\n",
       " <pydrake.geometry.optimization.HPolyhedron at 0x7f9f7f6fc530>: <certified_iris_generator.RegionCertificationProblem at 0x7f9f7f87fd90>,\n",
       " <pydrake.geometry.optimization.HPolyhedron at 0x7f9f7dc17570>: <certified_iris_generator.RegionCertificationProblem at 0x7f9f7f87c550>}"
      ]
     },
     "execution_count": 44,
     "metadata": {},
     "output_type": "execute_result"
    }
   ],
   "source": [
    "#setup refine with python\n",
    "iris_kwargs = {\n",
    "    'iris_starting_ellipse_vol': 1e-5,\n",
    "    'iris_plane_pullback': 1e-4,\n",
    "    'iris_max_faces': -1\n",
    "}\n",
    "iris_generator = CertifiedIrisRegionGenerator(visualizer.diagram, plant, scene_graph, **iris_kwargs)\n",
    "regions, ellipses = iris_generator.iris_in_rational_space(seed_points)\n",
    "iris_generator.initalize_certifier(plane_order = 1, strict_pos_tol = 1e-4)"
   ]
  },
  {
   "cell_type": "code",
   "execution_count": 45,
   "metadata": {},
   "outputs": [],
   "source": [
    "if do_viz:\n",
    "    visualizer.plot_regions(iris_generator.regions, region_suffix = '_python_snopt')"
   ]
  },
  {
   "cell_type": "code",
   "execution_count": null,
   "metadata": {},
   "outputs": [
    {
     "name": "stdout",
     "output_type": "stream",
     "text": [
      "Starting Region 1/5\n",
      "min_eps = [0. 0. 0. 0. 0. 0. 0. 0. 0. 0. 0. 0. 0. 0. 0.]\n",
      "cur_eps = [0.56916636 0.77870386 0.56916636 0.56916636 0.77870386 0.56916636\n",
      " 0.22000147 0.25927221 0.17511844 0.11487268 0.10200084 0.10008813\n",
      " 0.1746615  0.31397342 0.33108215]\n",
      "max_eps = [1.13833271 1.55740772 1.13833271 1.13833271 1.55740772 1.13833271\n",
      " 0.44000293 0.51854441 0.35023687 0.22974536 0.20400167 0.20017626\n",
      " 0.349323   0.62794684 0.66216431]\n",
      "Biggest difference: 1.5574077246549023\n",
      "Smallest difference: 0.20017626488520598\n",
      "Fixed eps is success\n",
      "\n",
      "min_eps = [0. 0. 0. 0. 0. 0. 0. 0. 0. 0. 0. 0. 0. 0. 0.]\n",
      "cur_eps = [0.28458318 0.38935193 0.28458318 0.28458318 0.38935193 0.28458318\n",
      " 0.11000073 0.1296361  0.08755922 0.05743634 0.05100042 0.05004407\n",
      " 0.08733075 0.15698671 0.16554108]\n",
      "max_eps = [0.56916636 0.77870386 0.56916636 0.56916636 0.77870386 0.56916636\n",
      " 0.22000147 0.25927221 0.17511844 0.11487268 0.10200084 0.10008813\n",
      " 0.1746615  0.31397342 0.33108215]\n",
      "Biggest difference: 0.7787038623274511\n",
      "Smallest difference: 0.10008813244260299\n",
      "Fixed eps is success\n",
      "\n",
      "min_eps = [0. 0. 0. 0. 0. 0. 0. 0. 0. 0. 0. 0. 0. 0. 0.]\n",
      "cur_eps = [0.14229159 0.19467597 0.14229159 0.14229159 0.19467597 0.14229159\n",
      " 0.05500037 0.06481805 0.04377961 0.02871817 0.02550021 0.02502203\n",
      " 0.04366537 0.07849335 0.08277054]\n",
      "max_eps = [0.28458318 0.38935193 0.28458318 0.28458318 0.38935193 0.28458318\n",
      " 0.11000073 0.1296361  0.08755922 0.05743634 0.05100042 0.05004407\n",
      " 0.08733075 0.15698671 0.16554108]\n",
      "Biggest difference: 0.3893519311637256\n",
      "Smallest difference: 0.050044066221301496\n",
      "Fixed eps is success\n",
      "\n",
      "min_eps = [0. 0. 0. 0. 0. 0. 0. 0. 0. 0. 0. 0. 0. 0. 0.]\n",
      "cur_eps = [0.07114579 0.09733798 0.07114579 0.07114579 0.09733798 0.07114579\n",
      " 0.02750018 0.03240903 0.0218898  0.01435909 0.0127501  0.01251102\n",
      " 0.02183269 0.03924668 0.04138527]\n",
      "max_eps = [0.14229159 0.19467597 0.14229159 0.14229159 0.19467597 0.14229159\n",
      " 0.05500037 0.06481805 0.04377961 0.02871817 0.02550021 0.02502203\n",
      " 0.04366537 0.07849335 0.08277054]\n",
      "Biggest difference: 0.1946759655818628\n",
      "Smallest difference: 0.025022033110650748\n",
      "Fixed eps is success\n",
      "\n",
      "min_eps = [0. 0. 0. 0. 0. 0. 0. 0. 0. 0. 0. 0. 0. 0. 0.]\n",
      "cur_eps = [0.0355729  0.04866899 0.0355729  0.0355729  0.04866899 0.0355729\n",
      " 0.01375009 0.01620451 0.0109449  0.00717954 0.00637505 0.00625551\n",
      " 0.01091634 0.01962334 0.02069263]\n",
      "max_eps = [0.07114579 0.09733798 0.07114579 0.07114579 0.09733798 0.07114579\n",
      " 0.02750018 0.03240903 0.0218898  0.01435909 0.0127501  0.01251102\n",
      " 0.02183269 0.03924668 0.04138527]\n",
      "Biggest difference: 0.0973379827909314\n",
      "Smallest difference: 0.012511016555325374\n"
     ]
    }
   ],
   "source": [
    "# refine with python\n",
    "do_linesearch_cert = True\n",
    "if do_linesearch_cert:\n",
    "    iris_generator.certify_and_adjust_regions_by_linesearch(1e-5)"
   ]
  },
  {
   "cell_type": "code",
   "execution_count": null,
   "metadata": {},
   "outputs": [],
   "source": [
    "if do_viz:\n",
    "    visualizer.plot_regions(iris_generator.linesearch_regions, region_suffix = '_new_by_linesearch')"
   ]
  },
  {
   "cell_type": "code",
   "execution_count": null,
   "metadata": {},
   "outputs": [],
   "source": [
    "\n"
   ]
  },
  {
   "cell_type": "code",
   "execution_count": null,
   "metadata": {},
   "outputs": [],
   "source": []
  }
 ],
 "metadata": {
  "interpreter": {
   "hash": "916dbcbb3f70747c44a77c7bcd40155683ae19c65e1c03b4aa3499c5328201f1"
  },
  "kernelspec": {
   "display_name": "Python 3",
   "language": "python",
   "name": "python3"
  },
  "language_info": {
   "codemirror_mode": {
    "name": "ipython",
    "version": 3
   },
   "file_extension": ".py",
   "mimetype": "text/x-python",
   "name": "python",
   "nbconvert_exporter": "python",
   "pygments_lexer": "ipython3",
   "version": "3.8.10"
  }
 },
 "nbformat": 4,
 "nbformat_minor": 2
}
