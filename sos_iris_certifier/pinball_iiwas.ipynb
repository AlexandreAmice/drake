{
 "cells": [
  {
   "cell_type": "code",
   "execution_count": 1,
   "metadata": {},
   "outputs": [],
   "source": [
    "%load_ext autoreload"
   ]
  },
  {
   "cell_type": "code",
   "execution_count": 2,
   "metadata": {},
   "outputs": [],
   "source": [
    "from certified_iris_generator import CertifiedIrisRegionGenerator\n",
    "import sys\n",
    "import os\n",
    "import time\n",
    "import numpy as np\n",
    "from functools import partial\n",
    "import itertools\n",
    "import mcubes\n",
    "import visualizations_utils as viz_utils\n",
    "import iris_utils #TODO remove\n",
    "from iris_plant_visualizer import IrisPlantVisualizer\n",
    "import ipywidgets as widgets\n",
    "from IPython.display import display\n",
    "from sandbox import rrtiris"
   ]
  },
  {
   "cell_type": "code",
   "execution_count": 3,
   "metadata": {},
   "outputs": [],
   "source": [
    "#pydrake imports\n",
    "from pydrake.common import FindResourceOrThrow\n",
    "from pydrake.multibody.parsing import LoadModelDirectives, Parser, ProcessModelDirectives\n",
    "from pydrake.multibody.plant import MultibodyPlant, AddMultibodyPlantSceneGraph\n",
    "from pydrake.systems.framework import DiagramBuilder\n",
    "from pydrake.all import InverseKinematics, RevoluteJoint, RationalForwardKinematics\n",
    "from pydrake.geometry.optimization import IrisOptionsRationalSpace, IrisInRationalConfigurationSpace, HPolyhedron, Hyperellipsoid\n",
    "from pydrake.geometry import Role, GeometrySet, CollisionFilterDeclaration\n",
    "import pydrake.symbolic as sym\n",
    "from pydrake.all import MathematicalProgram, RigidTransform, RollPitchYaw\n",
    "import meshcat\n",
    "from pydrake.all import GenerateSeedingPolytope\n",
    "import pydrake.multibody.rational_forward_kinematics as rational_forward_kinematics\n",
    "from pydrake.multibody.rational_forward_kinematics import FindEpsilonLower, FindEpsilonLowerVector, FindEpsilonUpperVector\n",
    "from pydrake.solvers import mathematicalprogram as mp"
   ]
  },
  {
   "cell_type": "markdown",
   "metadata": {},
   "source": [
    "# Build Plant\n"
   ]
  },
  {
   "cell_type": "code",
   "execution_count": 4,
   "metadata": {},
   "outputs": [],
   "source": [
    "q0 = [0.0, 0.0, 0.0]\n",
    "q_low  = [-1.7, -2., -1.7]\n",
    "q_high = [ 1.7,  2.,  1.7]\n"
   ]
  },
  {
   "cell_type": "code",
   "execution_count": 5,
   "metadata": {},
   "outputs": [],
   "source": [
    "builder = DiagramBuilder()\n",
    "plant, scene_graph = AddMultibodyPlantSceneGraph(builder, time_step=0.001)\n",
    "parser = Parser(plant)\n",
    "oneDOF_iiwa_asset = FindResourceOrThrow(\"drake/sos_iris_certifier/assets/oneDOF_iiwa7_with_box_collision.sdf\")\n",
    "twoDOF_iiwa_asset = FindResourceOrThrow(\"drake/sos_iris_certifier/assets/twoDOF_iiwa7_with_box_collision.sdf\")"
   ]
  },
  {
   "cell_type": "code",
   "execution_count": 6,
   "metadata": {},
   "outputs": [],
   "source": [
    "box_asset = FindResourceOrThrow(\"drake/sos_iris_certifier/assets/box_small.urdf\")\n",
    "\n",
    "models = []\n",
    "models.append(parser.AddModelFromFile(box_asset))\n",
    "models.append(parser.AddModelFromFile(twoDOF_iiwa_asset))\n",
    "models.append(parser.AddModelFromFile(oneDOF_iiwa_asset))\n",
    "\n",
    "\n",
    "\n",
    "locs = [[0.,0.,0.],[0.,.5,0.],[0.,-.5,0.]]\n",
    "plant.WeldFrames(plant.world_frame(), plant.GetFrameByName(\"base\", models[0]), RigidTransform(locs[0]))\n",
    "plant.WeldFrames(plant.world_frame(), plant.GetFrameByName(\"iiwa_twoDOF_link_0\", models[1]), RigidTransform(RollPitchYaw([0,0, -np.pi/2]).ToRotationMatrix(), locs[1]))\n",
    "plant.WeldFrames(plant.world_frame(), plant.GetFrameByName(\"iiwa_oneDOF_link_0\", models[2]), RigidTransform(RollPitchYaw([0,0, -np.pi/2]).ToRotationMatrix(), locs[2]))\n",
    "\n",
    "\n",
    "plant.Finalize()\n",
    "\n",
    "idx = 0\n",
    "for model in models:\n",
    "    for joint_index in plant.GetJointIndices(model):\n",
    "        joint = plant.get_mutable_joint(joint_index)\n",
    "        if isinstance(joint, RevoluteJoint):\n",
    "            joint.set_default_angle(q0[idx])\n",
    "            joint.set_position_limits(lower_limits= np.array([q_low[idx]]), upper_limits= np.array([q_high[idx]]))\n",
    "            idx += 1\n",
    "        \n",
    "            \n",
    "#q_low = plant.GetPositionLowerLimits().tolist()\n",
    "#q_high = plant.GetPositionUpperLimits().tolist()\n",
    "\n",
    "Ratfk = RationalForwardKinematics(plant)\n"
   ]
  },
  {
   "cell_type": "code",
   "execution_count": 7,
   "metadata": {},
   "outputs": [
    {
     "name": "stdout",
     "output_type": "stream",
     "text": [
      "You can open the visualizer by visiting the following URL:\n",
      "http://127.0.0.1:7000/static/\n",
      "You can open the visualizer by visiting the following URL:\n",
      "http://127.0.0.1:7001/static/\n",
      "Connecting to meshcat-server at zmq_url=tcp://127.0.0.1:6000...\n",
      "You can open the visualizer by visiting the following URL:\n",
      "http://127.0.0.1:7000/static/\n",
      "Connected to meshcat-server.\n"
     ]
    }
   ],
   "source": [
    "do_viz = True\n",
    "visualizer = IrisPlantVisualizer(plant, builder, scene_graph, viz_role=Role.kIllustration)\n",
    "diagram = visualizer.diagram\n",
    "visualizer.visualize_collision_constraint(N = 30)"
   ]
  },
  {
   "cell_type": "code",
   "execution_count": 8,
   "metadata": {
    "scrolled": false
   },
   "outputs": [
    {
     "data": {
      "application/vnd.jupyter.widget-view+json": {
       "model_id": "241273a9bed44e36a556baa4e051e343",
       "version_major": 2,
       "version_minor": 0
      },
      "text/plain": [
       "FloatSlider(value=0.0, description='q0', max=1.7, min=-1.7)"
      ]
     },
     "metadata": {},
     "output_type": "display_data"
    },
    {
     "data": {
      "application/vnd.jupyter.widget-view+json": {
       "model_id": "f2a2ea5c1fb1462093990b7e9da56706",
       "version_major": 2,
       "version_minor": 0
      },
      "text/plain": [
       "FloatSlider(value=0.0, description='q1', max=2.0, min=-2.0)"
      ]
     },
     "metadata": {},
     "output_type": "display_data"
    },
    {
     "data": {
      "application/vnd.jupyter.widget-view+json": {
       "model_id": "e0951c8d24e042bc8805c363db415685",
       "version_major": 2,
       "version_minor": 0
      },
      "text/plain": [
       "FloatSlider(value=0.0, description='q2', max=1.7, min=-1.7)"
      ]
     },
     "metadata": {},
     "output_type": "display_data"
    },
    {
     "data": {
      "text/html": [
       "\n",
       "            <div style=\"height: 400px; width: 100%; overflow-x: auto; overflow-y: hidden; resize: both\">\n",
       "            <iframe src=\"http://127.0.0.1:7000/static/\" style=\"width: 100%; height: 100%; border: none\"></iframe>\n",
       "            </div>\n",
       "            "
      ],
      "text/plain": [
       "<IPython.core.display.HTML object>"
      ]
     },
     "metadata": {},
     "output_type": "display_data"
    },
    {
     "data": {
      "text/html": [
       "\n",
       "            <div style=\"height: 400px; width: 100%; overflow-x: auto; overflow-y: hidden; resize: both\">\n",
       "            <iframe src=\"http://127.0.0.1:7001/static/\" style=\"width: 100%; height: 100%; border: none\"></iframe>\n",
       "            </div>\n",
       "            "
      ],
      "text/plain": [
       "<IPython.core.display.HTML object>"
      ]
     },
     "metadata": {},
     "output_type": "display_data"
    }
   ],
   "source": [
    "sliders = []\n",
    "sliders.append(widgets.FloatSlider(min=q_low[0], max=q_high[0], value=0, description='q0'))\n",
    "sliders.append(widgets.FloatSlider(min=q_low[1], max=q_high[1], value=0, description='q1'))\n",
    "sliders.append(widgets.FloatSlider(min=q_low[2], max=q_high[2], value=0, description='q2'))\n",
    "\n",
    "q = q0.copy()\n",
    "def handle_slider_change(change, idx):\n",
    "    q[idx] = change['new']\n",
    "    #print(q, end=\"\\r\")\n",
    "    visualizer.showres(q)\n",
    "    \n",
    "idx = 0\n",
    "for slider in sliders:\n",
    "    slider.observe(partial(handle_slider_change, idx = idx), names='value')\n",
    "    idx+=1\n",
    "\n",
    "for slider in sliders:\n",
    "    display(slider)\n",
    "\n",
    "visualizer.jupyter_cell()"
   ]
  },
  {
   "cell_type": "code",
   "execution_count": 9,
   "metadata": {
    "scrolled": true
   },
   "outputs": [
    {
     "name": "stdout",
     "output_type": "stream",
     "text": [
      "150 -> 150\n",
      "137 -> 150\n"
     ]
    }
   ],
   "source": [
    "#filter fused joints self collisions \n",
    "digaram = visualizer.diagram\n",
    "context = visualizer.diagram_context\n",
    "plant_context = visualizer.plant_context\n",
    "sg_context = scene_graph.GetMyContextFromRoot(context)\n",
    "inspector = scene_graph.model_inspector()\n",
    "\n",
    "pairs = scene_graph.get_query_output_port().Eval(sg_context).inspector().GetCollisionCandidates()\n",
    "print(len(inspector.GetCollisionCandidates()), \"->\", len(pairs))\n",
    "\n",
    "gids = [gid for gid in inspector.GetGeometryIds(GeometrySet(inspector.GetAllGeometryIds()), Role.kProximity)]\n",
    "get_name_of_gid = lambda gid : inspector.GetName(gid)\n",
    "gids.sort(key=get_name_of_gid)\n",
    "iiwa_oneDOF_gids = [gid for gid in gids if \"iiwa7_oneDOF::\" in get_name_of_gid(gid)]\n",
    "iiwa_twoDOF_gids = [gid for gid in gids if \"iiwa7_twoDOF::\" in get_name_of_gid(gid)]\n",
    "\n",
    "oneDOF_fused_col_geom = iiwa_oneDOF_gids[2:]\n",
    "iiwa_oneDOF_fused_set = GeometrySet(oneDOF_fused_col_geom)\n",
    "twoDOF_fused_col_geom = iiwa_twoDOF_gids[4:]\n",
    "iiwa_twoDOF_fused_set = GeometrySet(twoDOF_fused_col_geom)\n",
    "# print([get_name_of_gid(gid) for gid in oneDOF_fused_col_geom])\n",
    "# print([get_name_of_gid(gid) for gid in twoDOF_fused_col_geom])\n",
    "scene_graph.collision_filter_manager()\\\n",
    "            .Apply(CollisionFilterDeclaration().ExcludeWithin(iiwa_oneDOF_fused_set))\n",
    "scene_graph.collision_filter_manager()\\\n",
    "            .Apply(CollisionFilterDeclaration().ExcludeWithin(iiwa_twoDOF_fused_set))\n",
    "pairs = scene_graph.get_query_output_port().Eval(sg_context).inspector().GetCollisionCandidates()\n",
    "print(len(inspector.GetCollisionCandidates()), \"->\", len(pairs))"
   ]
  },
  {
   "cell_type": "code",
   "execution_count": 10,
   "metadata": {},
   "outputs": [
    {
     "name": "stdout",
     "output_type": "stream",
     "text": [
      "<GeometryId value=140>\n",
      "<GeometryId value=92>\n"
     ]
    }
   ],
   "source": [
    "print(iiwa_oneDOF_gids[-1])\n",
    "print(iiwa_twoDOF_gids[-1])"
   ]
  },
  {
   "cell_type": "markdown",
   "metadata": {},
   "source": [
    "# Setup IRIS Options and Generate Regions"
   ]
  },
  {
   "cell_type": "code",
   "execution_count": 11,
   "metadata": {},
   "outputs": [],
   "source": [
    "# seed_points_q = np.array([[0.0, 0, 0], # zero config\n",
    "#                         [0.0, -1.3, -1.3],  # start\n",
    "#                         [0.9, -1.5, -0.8]     # goal\n",
    "#                          ])\n",
    "# # More interesting seed points\n",
    "seed_points_q = np.array([[0.0, 0, 0], # zero config\n",
    "                        [ 1.3,  2.0, -1.7],  # start: right over left\n",
    "                        [ 0.9, -1.3, -1.0],  # goal: left over right\n",
    "                        [-0.6, -0.9, -1.3],\n",
    "                        [-0.3, -0.5, -1.7]   # passing\n",
    "                         ])\n",
    "# seed_points_q = np.array([[0.0, 0, 0], # zero config\n",
    "#                         [0.8, 1.3, -0.8],  # START: blue low green up\n",
    "#                         [0.1, 0.9, -1.2],     # GOAL: green low other up\n",
    "#                         [0.2, 1.6, -0.6],\n",
    "#                         [0.5, -1.9, -0.9]\n",
    "#                          ])[:,(0,1,2)]   # passing\n",
    "\n",
    "\n",
    "seed_points = np.array([Ratfk.ComputeTValue(seed_points_q[idx], np.zeros((3,)))\\\n",
    "                        for idx in range(seed_points_q.shape[0])])\n",
    "if do_viz:\n",
    "    visualizer.plot_seedpoints(seed_points)\n",
    "\n",
    "start = seed_points[1,:]\n",
    "goal = seed_points[2,:]\n",
    "\n",
    "#compute limits in t-space\n",
    "limits_t = []\n",
    "for q in [q_low, q_high]:\n",
    "    limits_t.append(Ratfk.ComputeTValue(np.array(q), np.zeros((3,)) ))\n",
    "    \n",
    "starting_poly = HPolyhedron.MakeBox(limits_t[0], limits_t[1])\n",
    "context = diagram.CreateDefaultContext()\n",
    "q_star = np.zeros(3)"
   ]
  },
  {
   "cell_type": "code",
   "execution_count": 12,
   "metadata": {},
   "outputs": [],
   "source": [
    "# regions = []\n",
    "\n",
    "# iris_options = IrisOptionsRationalSpace()\n",
    "# iris_options.require_sample_point_is_contained = True\n",
    "# iris_options.iteration_limit = 20\n",
    "# iris_options.configuration_space_margin = 1e-5\n",
    "# iris_options.max_faces_per_collision_pair = 60\n",
    "# iris_options.termination_threshold = -1\n",
    "# iris_options.q_star = np.zeros(3)\n",
    "# iris_options.relative_termination_threshold = 0.05\n",
    "# iris_options.enable_ibex = False\n",
    "# #deprecated\n",
    "# iris_options.certify_region_with_sos_during_generation = False\n",
    "# iris_options.certify_region_with_sos_after_generation = False\n",
    "\n",
    "# for i, s in enumerate(seed_points):\n",
    "#     plant.SetPositions(plant.GetMyMutableContextFromRoot(context), s)\n",
    "#     if False:\n",
    "#         #starting_hpolyhedron = regions[i-1]\n",
    "#         r = IrisInRationalConfigurationSpace (plant, plant.GetMyContextFromRoot(context),\n",
    "#                                               iris_options, starting_hpolyhedron)\n",
    "#     else:\n",
    "#         r = IrisInRationalConfigurationSpace(plant, plant.GetMyContextFromRoot(context), iris_options)\n",
    "#     regions.append(r)\n",
    "#     print(f'Completed region: {i+1}/{len(seed_points)}')\n",
    "#     print(f\"Sample point contained = {np.all(r.A()@s <= r.b())}\")\n",
    "#     print(f\"Sample point contained componentwise = {r.A()@s <= r.b()}\")\n",
    "#     print()"
   ]
  },
  {
   "cell_type": "code",
   "execution_count": 13,
   "metadata": {},
   "outputs": [],
   "source": [
    "# if do_viz:\n",
    "#     visualizer.plot_regions(regions, ellipses=None, region_suffix='original')"
   ]
  },
  {
   "cell_type": "code",
   "execution_count": 14,
   "metadata": {},
   "outputs": [],
   "source": [
    "# regions_default = []\n",
    "# max_vects = []\n",
    "# min_vects = []\n",
    "# num_perm_dim = 2\n",
    "# num_rot = 2\n",
    "\n",
    "# for i, s in enumerate(seed_points):\n",
    "#     regions_default.append(GenerateSeedingPolytope(s, num_perm_dim, num_rot))\n",
    "# #     eps_min_vect = FindEpsilonLowerVector(regions_default[i].A(), \n",
    "# #                                       regions_default[i].b(), \n",
    "# #                                       limits_t[0], limits_t[1], s)\n",
    "# #     min_vects.append(eps_min_vect)\n",
    "# #     eps_max_vect = FindEpsilonUpperVector(regions_default[i].A(), \n",
    "# #                                       regions_default[i].b(), \n",
    "# #                                       limits_t[0], limits_t[1])\n",
    "# #     max_vects.append(eps_max_vect)\n",
    "    \n",
    "    "
   ]
  },
  {
   "cell_type": "code",
   "execution_count": 15,
   "metadata": {},
   "outputs": [],
   "source": [
    "# regions_default_small = []\n",
    "# regions_default_big = []\n",
    "# # for i, r in enumerate(regions_default):\n",
    "# #     regions_default_small.append(HPolyhedron(regions_default[i].A(), regions_default[i].b() + 0.75*min_vects[i]))\n",
    "# #     regions_default_big.append(HPolyhedron(regions_default[i].A(), regions_default[i].b() + max_vects[i]))\n",
    "    \n",
    "# if do_viz:\n",
    "#     visualizer.plot_regions(regions_default, ellipses=None, region_suffix='_default')\n",
    "# #     visualizer.plot_regions(regions_default_small, ellipses=None, region_suffix='_small')\n",
    "# #     visualizer.plot_regions(regions_default_big, ellipses=None, region_suffix='_big')"
   ]
  },
  {
   "cell_type": "code",
   "execution_count": 16,
   "metadata": {},
   "outputs": [],
   "source": [
    "# cspace_free_region = rational_forward_kinematics.CspaceFreeRegion(diagram, plant, scene_graph,\n",
    "#                                    rational_forward_kinematics.SeparatingPlaneOrder.kAffine,\n",
    "#                                    rational_forward_kinematics.CspaceRegionType.kGenericPolytope)\n",
    "# filtered_collision_pairs = set()\n",
    "# solver_options = mp.SolverOptions()\n",
    "# solver_options.SetOption(mp.CommonSolverOption.kPrintToConsole, 1)"
   ]
  },
  {
   "cell_type": "code",
   "execution_count": 17,
   "metadata": {},
   "outputs": [],
   "source": [
    "# vector_bisection_search_options_list = []\n",
    "# scalar_bisection_search_options_list = []\n",
    "# bilinear_alternation_options_list = []\n",
    "# integrated_search_options_list = []\n",
    "\n",
    "\n",
    "# search_tuples = []\n",
    "\n",
    "# for i, r in enumerate(regions_default):\n",
    "#     vector_bisection_search_options = rational_forward_kinematics.VectorBisectionSearchOption()\n",
    "#     vector_bisection_search_options.max_iters = 20\n",
    "#     vector_bisection_search_options.max_feasible_iters = 5\n",
    "#     vector_bisection_search_options.search_d = True\n",
    "#     vector_bisection_search_options.epsilon_min = FindEpsilonLowerVector(r.A(), r.b(),\n",
    "#                                                              limits_t[0], limits_t[1], seed_points[i,:])\n",
    "#     vector_bisection_search_options.epsilon_max = 0.25*FindEpsilonUpperVector(r.A(), \n",
    "#                                       r.b(), \n",
    "#                                       limits_t[0], limits_t[1])\n",
    "#     vector_bisection_search_options_list.append(vector_bisection_search_options)\n",
    "    \n",
    "#     scalar_bisection_search_options = rational_forward_kinematics.BinarySearchOption()\n",
    "#     scalar_bisection_search_options.epsilon_max = 1\n",
    "#     scalar_bisection_search_options.max_iters = 15\n",
    "#     scalar_bisection_search_options.search_d = True\n",
    "#     scalar_bisection_search_options.epsilon_min = FindEpsilonLower(r.A(), r.b(),\n",
    "#                                                          limits_t[0], limits_t[1],\n",
    "#                                                          seed_points[i,:])\n",
    "#     scalar_bisection_search_options_list.append(scalar_bisection_search_options)\n",
    "    \n",
    "    \n",
    "#     bilinear_alternation_options = rational_forward_kinematics.BilinearAlternationOption()\n",
    "#     bilinear_alternation_options.max_iters = 20\n",
    "#     bilinear_alternation_options.lagrangian_backoff_scale = 1e-6\n",
    "#     bilinear_alternation_options.polytope_backoff_scale = 1e-6\n",
    "#     bilinear_alternation_options_list.append(bilinear_alternation_options)\n",
    "    \n",
    "#     integrated_search_options = rational_forward_kinematics.IntegratedRegionSearchOptions()\n",
    "#     integrated_search_options.vector_bisection_search_options = vector_bisection_search_options\n",
    "#     integrated_search_options.scalar_binary_search_options = scalar_bisection_search_options\n",
    "#     integrated_search_options.bilinear_alternation_options = bilinear_alternation_options\n",
    "#     integrated_search_options.max_method_switch = 2\n",
    "#     integrated_search_options.use_vector_bisection_search = True\n",
    "#     integrated_search_options_list.append(integrated_search_options)\n",
    "    \n",
    "#     search_tuples.append((r, integrated_search_options, seed_points[i,:]))"
   ]
  },
  {
   "cell_type": "code",
   "execution_count": 18,
   "metadata": {},
   "outputs": [],
   "source": [
    "# def launch_integrated_search(region, integrated_search_options, seed_point):\n",
    "#     return cspace_free_region.IntegratedCSpacePolytopeSearch(q_star,filtered_collision_pairs,\n",
    "#                                                       region.A(), region.b(),\n",
    "#                                                      integrated_search_options, \n",
    "#                                                       solver_options, seed_point\n",
    "#                                                      )\n",
    "# def launch_vector_bisection_search(region, integrated_search_options, seed_point):\n",
    "#     return cspace_free_region.IntegratedCSpacePolytopeSearch(q_star,filtered_collision_pairs,\n",
    "#                                                       region.A(), region.b(),\n",
    "#                                                      integrated_search_options, \n",
    "#                                                       solver_options, seed_point\n",
    "#                                                      )"
   ]
  },
  {
   "cell_type": "code",
   "execution_count": 19,
   "metadata": {},
   "outputs": [],
   "source": [
    "# ret_vals = []\n",
    "# for tup in search_tuples:\n",
    "#     ret_vals.append(launch_integrated_search(*tup))"
   ]
  },
  {
   "cell_type": "code",
   "execution_count": 20,
   "metadata": {},
   "outputs": [],
   "source": [
    "# i = 1\n",
    "# r = regions[i]\n",
    "# s = seed_points_q[i]\n",
    "# vector_bisection_search_options = rational_forward_kinematics.VectorBisectionSearchOption()\n",
    "# vector_bisection_search_options.max_iters = 1\n",
    "# vector_bisection_search_options.max_feasible_iters = 20\n",
    "# vector_bisection_search_options.search_d = True\n",
    "# vector_bisection_search_options.epsilon_min = FindEpsilonLowerVector(r.A(), r.b(),\n",
    "#                                                          limits_t[0], limits_t[1], seed_points[i,:])\n",
    "# vector_bisection_search_options.epsilon_max = 0.98*vector_bisection_search_options.epsilon_min #np.zeros(r.b().shape[0])"
   ]
  },
  {
   "cell_type": "code",
   "execution_count": 21,
   "metadata": {},
   "outputs": [],
   "source": [
    "# d_final = cspace_free_region.CspacePolytopeBisectionSearchVector(q_star,set(),\n",
    "#                                                       r.A(), r.b(),\n",
    "#                                                      vector_bisection_search_options, \n",
    "#                                                       solver_options, seed_points_q)"
   ]
  },
  {
   "cell_type": "code",
   "execution_count": 22,
   "metadata": {},
   "outputs": [],
   "source": [
    "# r_new = HPolyhedron(r.A(), d_final)\n",
    "# if do_viz:\n",
    "#     visualizer.plot_regions([r_new], ellipses=None, region_suffix='_new')"
   ]
  },
  {
   "cell_type": "code",
   "execution_count": 23,
   "metadata": {},
   "outputs": [],
   "source": [
    "# planes = cspace_free_region.separating_planes()"
   ]
  },
  {
   "cell_type": "code",
   "execution_count": 24,
   "metadata": {},
   "outputs": [],
   "source": [
    "# planes[0].b"
   ]
  },
  {
   "cell_type": "code",
   "execution_count": 25,
   "metadata": {},
   "outputs": [],
   "source": [
    "# #refine with CPP code:\n",
    "# cpp_editted_scalar_regions = []\n",
    "# for i in range(seed_points.shape[0]):\n",
    "#     s = seed_points[i,:]\n",
    "#     region_init = regions[i]\n",
    "#     region_init, region = iris_scalar_handle(s, region_init)\n",
    "#     cpp_editted_scalar_regions.append(region)\n",
    "#     print(f\"Completed {i+1}/{seed_points.shape[0]}\")"
   ]
  },
  {
   "cell_type": "code",
   "execution_count": 26,
   "metadata": {},
   "outputs": [],
   "source": [
    "# if do_viz:\n",
    "#     visualizer.plot_regions(cpp_editted_regions, ellipses=None, region_suffix='cpp_editted_regions')"
   ]
  },
  {
   "cell_type": "code",
   "execution_count": 27,
   "metadata": {},
   "outputs": [],
   "source": [
    "# #setup refine with python\n",
    "# iris_kwargs = {\n",
    "#     'iris_starting_ellipse_vol': 1e-5,\n",
    "#     'iris_plane_pullback': 1e-4,\n",
    "#     'iris_max_faces': -1\n",
    "# }\n",
    "# iris_generator = CertifiedIrisRegionGenerator(visualizer.diagram, plant, scene_graph, **iris_kwargs)\n",
    "# regions, ellipses = iris_generator.iris_in_rational_space(seed_points)\n",
    "# iris_generator.initalize_certifier(plane_order = 1, strict_pos_tol = 1e-4)"
   ]
  },
  {
   "cell_type": "code",
   "execution_count": 28,
   "metadata": {},
   "outputs": [],
   "source": [
    "# if do_viz:\n",
    "#     visualizer.plot_regions(iris_generator.regions, region_suffix = '_python_snopt')"
   ]
  },
  {
   "cell_type": "code",
   "execution_count": 29,
   "metadata": {},
   "outputs": [],
   "source": [
    "# refine with python\n",
    "#do_linesearch_cert = True\n",
    "#if do_linesearch_cert:\n",
    "#    iris_generator.certify_and_adjust_regions_by_linesearch(1e-5)"
   ]
  },
  {
   "cell_type": "code",
   "execution_count": 30,
   "metadata": {},
   "outputs": [],
   "source": [
    "#if do_viz:\n",
    "#    visualizer.plot_regions(iris_generator.linesearch_regions, region_suffix = '_new_by_linesearch')"
   ]
  },
  {
   "cell_type": "code",
   "execution_count": 31,
   "metadata": {},
   "outputs": [],
   "source": [
    "from pydrake.all import Solve, eq, le, ge\n",
    "\n",
    "#lam*(binner_new - pullback) - bouter<= -1e-10\n",
    "def solve_pullback(b_outer, b_inner_new, lam, tol = 1e-9):\n",
    "    prog = MathematicalProgram()\n",
    "    pullback = prog.NewContinuousVariables(len(b_inner_new), 'pullback')\n",
    "    prog.AddLinearConstraint(-lam, -np.inf*np.ones(len(b_outer)).reshape(-1,1) ,b_outer - tol - lam@b_inner_new, pullback)\n",
    "    prog.AddBoundingBoxConstraint(0, np.inf, pullback)\n",
    "    res = Solve(prog)\n",
    "    pullback_sol = res.GetSolution(pullback)\n",
    "    return res.is_success(), pullback_sol\n",
    "    \n",
    "def solve_hpoly_containment_problem(r_outer, r_inner):\n",
    "    A_outer = r_outer.A()\n",
    "    A_inner = r_inner.A()\n",
    "    b_outer = r_outer.b()\n",
    "    b_inner = r_inner.b()\n",
    "    prog = MathematicalProgram()\n",
    "    lam = prog.NewContinuousVariables(len(b_outer), len(b_inner), 'lam')\n",
    "    prog.AddBoundingBoxConstraint(0.0, np.inf, lam)\n",
    "    for col in range(A_outer.T.shape[1]):\n",
    "        prog.AddLinearEqualityConstraint(A_inner.T, A_outer.T[:,col], lam.T[:,col])\n",
    "        \n",
    "    \n",
    "    for r in range(lam.shape[0]):\n",
    "        prog.AddLinearConstraint(b_inner[:,np.newaxis].T, np.array([-np.inf]), np.array([b_outer[r]- 1e-10]), lam[r, :])\n",
    "\n",
    "    res =  Solve(prog)\n",
    "    lam_sol = res.GetSolution(lam)\n",
    "    return res.is_success(), lam_sol\n",
    "\n",
    "def solve_volume_maximization_step(r_outer, r_inner, lam_sol, seed_point):\n",
    "    A_inner = r_inner.A()\n",
    "    b_inner = r_inner.b()\n",
    "    b_outer = r_outer.b()\n",
    "    dim = A_inner.shape[1]\n",
    "    prog = MathematicalProgram()\n",
    "    d = prog.NewContinuousVariables(dim, 'd')\n",
    "    C = prog.NewSymmetricContinuousVariables(dim, 'C')\n",
    "    eps = prog.NewContinuousVariables(A_inner.shape[0], 'eps')\n",
    "    prog.AddMaximizeLogDeterminantCost(C)\n",
    "    for idx in range(len(b_inner)):\n",
    "        z = prog.NewContinuousVariables(dim + 1)\n",
    "        z[0] = b_inner[idx] + eps[idx] - A_inner[idx, :]@d\n",
    "        z[1:] = C @ A_inner[idx, :].T\n",
    "        prog.AddLorentzConeConstraint(z)  \n",
    "    prog.AddLinearConstraint(lam_sol, -np.inf*np.ones_like(b_outer), b_outer - lam_sol@b_inner, eps)\n",
    "    prog.AddLinearConstraint(np.eye(len(eps)), A_inner@seed_point - b_inner, np.inf*np.ones_like(eps), eps)\n",
    "    #prog.AddConstraint(le(lam_sol@(b_inner + eps) - b_outer, 0))\n",
    "    #prog.AddConstraint(le(A_inner@seed_point , b_inner + eps))\n",
    "    prog.AddBoundingBoxConstraint(0.0, 4.0, eps)\n",
    "    res = Solve(prog)\n",
    "    \n",
    "    eps_sol = res.GetSolution(eps)\n",
    "    new_reg = HPolyhedron(A_inner, b_inner + eps_sol)\n",
    "    return res.is_success(), eps_sol, res.get_optimal_cost()\n",
    "\n",
    "\n",
    "def inner_approx_HPoly_bilinear_alternation(r_outer, r_inner_seed, seed_point, maxit = 10):\n",
    "    #check if contained at start\n",
    "    if r_inner_seed.ContainedInOtherHPolyhedron(r_outer):\n",
    "        r_inner = r_inner_seed\n",
    "        past_regions = []\n",
    "        for it in range(maxit):\n",
    "            print('step', it)\n",
    "            #get certificate of containment\n",
    "            success, lam_sol = solve_hpoly_containment_problem(r_outer, r_inner)\n",
    "            print('containment step: ', success, 'lambda min', np.min(lam_sol))\n",
    "            if not success:\n",
    "                print('terminated early, containment lost')\n",
    "                return past_regions[-2]\n",
    "            #use certificate to push out faces of inner polytope\n",
    "            success, eps, vol_surrogate = solve_volume_maximization_step(r_outer, r_inner_seed, lam_sol, seed_point)\n",
    "            print('growth step: ', success, 'volume surrogate: ', vol_surrogate)\n",
    "            print('eps', eps)\n",
    "            #update polytope\n",
    "            #success, pullback = solve_pullback(r_outer.b(), r_inner_seed.b() + eps, lam_sol)\n",
    "            #|print('pullback: ', success, 'pullback ineq', np.max(lam_sol@(r_inner_seed.b() + eps - pullback)-r_outer.b()))\n",
    "            \n",
    "            r_inner = HPolyhedron(r_inner.A(), r_inner_seed.b() + eps - 1e-10) #-pullback\n",
    "            print(f'max inscribed ellipse volume: {r_inner.MaximumVolumeInscribedEllipsoid().Volume()}')\n",
    "            past_regions.append(r_inner)\n",
    "        return r_inner\n",
    "    else:\n",
    "        raise ValueError(\"Seed HPolytope not contained in outer Hpolytope\")"
   ]
  },
  {
   "cell_type": "code",
   "execution_count": 32,
   "metadata": {},
   "outputs": [],
   "source": [
    "iris_options = IrisOptionsRationalSpace()\n",
    "iris_options.require_sample_point_is_contained = True\n",
    "iris_options.iteration_limit = 20\n",
    "iris_options.configuration_space_margin = 1e-6\n",
    "iris_options.max_faces_per_collision_pair = 60\n",
    "iris_options.termination_threshold = -1\n",
    "iris_options.q_star = np.zeros(3)\n",
    "iris_options.relative_termination_threshold = 0.05\n",
    "iris_options.enable_ibex = False\n",
    "def iris_handle(seed, domain):\n",
    "    seed_q = Ratfk.ComputeQValue(seed, np.zeros((3,)))\n",
    "    plant.SetPositions(plant.GetMyMutableContextFromRoot(context), seed_q)\n",
    "    region = IrisInRationalConfigurationSpace(plant, plant.GetMyContextFromRoot(context),\n",
    "                                              iris_options, domain)\n",
    "    return region\n",
    "starting_poly = HPolyhedron.MakeBox(limits_t[0], limits_t[1])"
   ]
  },
  {
   "cell_type": "code",
   "execution_count": 33,
   "metadata": {},
   "outputs": [],
   "source": [
    "compare_seed = seed_points[3]\n",
    "iris_reg = iris_handle(compare_seed, starting_poly)\n",
    "sym_poly = GenerateSeedingPolytope(compare_seed, 2, 2)\n",
    "eps_min_vect = FindEpsilonLowerVector(sym_poly.A(),\n",
    "                                      sym_poly.b(),\n",
    "                                      limits_t[0], limits_t[1], compare_seed)\n",
    "\n",
    "visualizer.plot_regions([iris_reg], region_suffix = 'bil_iris')\n",
    "visualizer.plot_regions([sym_poly], region_suffix = 'bil_sym')"
   ]
  },
  {
   "cell_type": "code",
   "execution_count": 34,
   "metadata": {},
   "outputs": [],
   "source": [
    "small_sym_poly = HPolyhedron(sym_poly.A(), sym_poly.b() + .9 * eps_min_vect)\n",
    "visualizer.plot_regions([small_sym_poly], region_suffix = 'bil_small_sym')"
   ]
  },
  {
   "cell_type": "code",
   "execution_count": 35,
   "metadata": {},
   "outputs": [
    {
     "name": "stdout",
     "output_type": "stream",
     "text": [
      "[-0.09999999 -0.09999999 -0.09999999 -0.10000001 -0.10000001 -0.10000001\n",
      " -0.09999999 -0.1        -0.09999999 -0.10000001 -0.1        -0.10000001\n",
      " -0.09999999 -0.09999999 -0.1        -0.10000001 -0.10000001 -0.1\n",
      " -0.09999999 -0.10000001 -0.09999999 -0.10000001 -0.09999999 -0.10000001\n",
      " -0.09999999 -0.09999999 -0.10000001 -0.10000001 -0.10000001 -0.09999999]\n",
      "4.188788207091165e-06\n",
      "True\n",
      "True\n",
      "True\n"
     ]
    }
   ],
   "source": [
    "print(eps_min_vect)\n",
    "print(small_sym_poly.MaximumVolumeInscribedEllipsoid().Volume())\n",
    "print(small_sym_poly.PointInSet(compare_seed))\n",
    "print(small_sym_poly.ContainedInOtherHPolyhedron(iris_reg))\n",
    "print(iris_reg.PointInSet(compare_seed))"
   ]
  },
  {
   "cell_type": "code",
   "execution_count": 36,
   "metadata": {
    "scrolled": true
   },
   "outputs": [
    {
     "name": "stdout",
     "output_type": "stream",
     "text": [
      "step 0\n",
      "containment step:  True lambda min -2.2359333162746964e-08\n",
      "growth step:  True volume surrogate:  6.014665555202648\n",
      "eps [ 1.75605824e+00  1.73904387e+00  1.75043132e+00  1.66991999e+00\n",
      "  5.91242724e-01  1.65465839e+00  3.23319745e-01  5.76472672e-02\n",
      "  1.75043132e+00  7.91031487e-02  7.83315007e-01 -6.83796869e-10\n",
      "  1.75605824e+00  3.13392227e-01  1.53222682e-01  1.66991999e+00\n",
      "  1.65170443e+00  3.80474792e-01  1.75256116e+00  1.67532328e+00\n",
      "  1.75043132e+00  1.68190770e+00  1.95418850e-01  1.65465839e+00\n",
      "  1.75605824e+00  2.89977810e-01  1.70476320e+00  1.66991999e+00\n",
      "  1.64826399e+00  1.73186282e-01]\n",
      "max inscribed ellipse volume: 0.010231806828778509\n",
      "step 1\n",
      "containment step:  True lambda min -7.84674826104818e-07\n",
      "growth step:  True volume surrogate:  4.930793484442157\n",
      "eps [1.17691858e+00 1.15355396e+00 1.38901098e+00 1.24158308e+00\n",
      " 1.28104303e+00 1.12100511e+00 5.48441329e-01 5.76898339e-02\n",
      " 1.38893294e+00 3.60204050e-01 1.22524004e+00 7.96190226e-02\n",
      " 1.17691858e+00 4.14560192e-01 5.19918950e-01 1.24158308e+00\n",
      " 1.19493078e+00 1.35381975e-06 7.05459229e-02 7.57491500e-01\n",
      " 1.38893294e+00 1.29203617e+00 5.88520573e-02 1.12100511e+00\n",
      " 1.17691858e+00 5.79166933e-01 3.75500713e-01 1.24158308e+00\n",
      " 1.14247231e+00 3.11929521e-02]\n",
      "max inscribed ellipse volume: 0.03024629547299218\n",
      "step 2\n",
      "containment step:  True lambda min -2.7755575615628914e-17\n",
      "growth step:  True volume surrogate:  4.37424364303144\n",
      "eps [1.04849536e+00 9.98098530e-01 1.29761105e+00 1.08144774e+00\n",
      " 1.16323712e+00 4.42077197e-09 9.01965891e-02 5.95170152e-02\n",
      " 1.28068787e+00 3.75986248e-01 2.45270631e-01 2.52273245e-09\n",
      " 1.04849536e+00 4.05163758e-01 7.10209440e-01 1.08144774e+00\n",
      " 1.02478107e+00 5.07301029e-03 9.99017629e-01 4.47445721e-01\n",
      " 1.29761105e+00 4.09331260e-01 1.39227678e-01 9.46681419e-01\n",
      " 1.04849536e+00 6.27729315e-01 4.97656090e-01 1.08144774e+00\n",
      " 9.65370110e-01 9.68234676e-01]\n",
      "max inscribed ellipse volume: 0.05276898217628308\n",
      "step 3\n",
      "containment step:  True lambda min -2.7755575615628914e-17\n",
      "growth step:  True volume surrogate:  3.954118251678268\n",
      "eps [0.95942011 0.92520269 1.22833987 0.94986793 1.01796636 0.86592179\n",
      " 0.27642204 0.06178053 1.22833987 0.37525433 0.20440077 0.12297257\n",
      " 0.95942011 0.52008063 0.81607901 0.94986793 0.18535582 0.10836709\n",
      " 0.28217371 0.12583473 1.22833987 0.39104498 0.19993133 0.86592179\n",
      " 0.95942011 0.65935461 0.71889417 0.94986793 0.13820206 0.39034282]\n",
      "max inscribed ellipse volume: 0.08032242284369401\n",
      "step 4\n",
      "containment step:  True lambda min -2.7755575615628914e-17\n",
      "growth step:  True volume surrogate:  3.7300825263303854\n",
      "eps [0.92858892 0.90244866 0.80824961 0.4994631  0.95302821 0.11184722\n",
      " 0.31688163 0.13993363 0.67758412 0.36482274 0.24211494 0.11345004\n",
      " 0.92858892 1.03145326 0.58064554 0.88423049 0.21334342 0.11223365\n",
      " 0.91522581 0.12576531 1.14411187 0.3903672  0.19697212 0.81099086\n",
      " 0.92858892 0.65889346 0.4508475  0.88423049 0.13746073 0.23031182]\n",
      "max inscribed ellipse volume: 0.10049263343287941\n",
      "step 5\n",
      "containment step:  True lambda min -5.551115123125783e-17\n",
      "growth step:  True volume surrogate:  3.621729794959945\n",
      "eps [0.93768619 0.9174736  1.14033253 0.6501623  0.99079852 0.81485677\n",
      " 0.43997938 0.16163168 0.71667688 0.40420742 0.26986139 0.11472333\n",
      " 0.93768619 0.5575485  0.6225192  0.88729819 0.24319461 0.13860833\n",
      " 0.35090811 0.1204534  0.86001468 0.45813393 0.18351944 0.11472341\n",
      " 0.93768619 0.65805696 0.51089549 0.88729819 0.14386317 0.88036158]\n",
      "max inscribed ellipse volume: 0.11199308908027586\n",
      "step 6\n",
      "containment step:  True lambda min -2.7755575615628914e-17\n",
      "growth step:  True volume surrogate:  3.583568412900001\n",
      "eps [0.9514498  0.94619097 0.84199331 0.92371134 1.01580906 0.85001713\n",
      " 0.96740519 0.16148175 0.73364253 0.4283263  0.27326052 0.12679601\n",
      " 0.9514498  1.07964739 0.63313348 0.46263776 0.24899383 0.14284565\n",
      " 0.95859935 0.11951535 1.17010701 0.45723145 0.18539935 0.85001713\n",
      " 0.9514498  0.674567   0.5218419  0.92371134 0.15517833 0.24679305]\n",
      "max inscribed ellipse volume: 0.11634952630394262\n",
      "step 7\n",
      "containment step:  True lambda min -4.158797615117077e-08\n",
      "growth step:  True volume surrogate:  3.5142313880149385\n",
      "eps [0.92010271 0.92396854 0.71237121 0.89540366 0.99544662 0.17629843\n",
      " 0.36502617 0.17068907 1.09427054 0.42936675 0.27690836 0.1316968\n",
      " 0.92010271 0.57192362 0.70277091 0.89540366 0.2611665  0.16163985\n",
      " 0.43986604 0.12491708 0.87628005 0.48407748 0.18473542 0.8173997\n",
      " 0.92010271 0.66985669 0.53465302 0.89540366 0.16007473 0.34517144]\n",
      "max inscribed ellipse volume: 0.12470307692377874\n",
      "step 8\n",
      "containment step:  True lambda min -7.29193342664436e-08\n",
      "growth step:  True volume surrogate:  3.499925765478676\n",
      "eps [0.91967722 0.94484601 0.69038898 0.90410157 1.00330539 0.83315143\n",
      " 0.36797832 0.18420209 1.16315414 0.41654245 0.27692964 0.13170549\n",
      " 0.91967722 0.58153469 0.63454411 0.90410157 0.26642813 0.16329168\n",
      " 0.95539091 0.12981281 1.16315414 0.47199728 0.18471118 0.83315143\n",
      " 0.91967722 0.67190397 0.52190636 0.90410157 0.16046425 0.9053199 ]\n",
      "max inscribed ellipse volume: 0.12649988054218753\n",
      "step 9\n",
      "containment step:  True lambda min -9.682124224508618e-10\n",
      "growth step:  True volume surrogate:  3.44698563734316\n",
      "eps [0.97621698 0.98708945 0.68857869 0.96416054 1.06220435 0.87816753\n",
      " 1.00383031 0.178933   1.1885282  0.46123825 0.28037144 0.13261602\n",
      " 0.97621698 1.10338902 1.17651309 0.96416054 0.25698207 0.18944854\n",
      " 0.39517116 0.13492927 1.1885282  0.51344345 0.18377576 0.87816753\n",
      " 0.97621698 0.65786169 0.5724471  0.96416054 0.15738348 0.29997623]\n",
      "max inscribed ellipse volume: 0.13337724635295295\n",
      "step 10\n",
      "containment step:  True lambda min -9.682124224508618e-10\n",
      "growth step:  True volume surrogate:  3.3565932903300766\n",
      "eps [0.94541584 0.94968859 0.72995071 0.91048533 1.03042359 0.75356761\n",
      " 0.4247875  0.18071195 1.17355505 0.4979978  0.28124653 0.13303818\n",
      " 0.94541584 0.61301599 0.70201221 0.91048533 0.27780707 0.19305865\n",
      " 0.96790386 0.13320186 0.84202825 0.54874366 0.18366221 0.82910681\n",
      " 0.94541584 0.70537177 0.59818499 0.91048533 0.16137154 0.34984653]\n",
      "max inscribed ellipse volume: 0.14599518453783095\n",
      "step 11\n",
      "containment step:  True lambda min -9.682124224508618e-10\n",
      "growth step:  True volume surrogate:  3.325889228215138\n",
      "eps [0.93513589 0.95540042 0.75389073 0.92190261 1.03551209 0.79251074\n",
      " 0.41891171 0.17102759 1.19339859 0.50153618 0.27272239 0.13354958\n",
      " 0.93513589 0.65439241 0.70677366 0.92190261 0.27985565 0.17596659\n",
      " 0.42290025 0.14195034 1.20184151 0.54530254 0.18870838 0.18902249\n",
      " 0.93513589 0.7298755  0.59134998 0.92190261 0.16440473 0.91115633]\n",
      "max inscribed ellipse volume: 0.1505474019565865\n",
      "step 12\n",
      "containment step:  True lambda min -2.7755575615628914e-17\n",
      "growth step:  True volume surrogate:  3.288189091497066\n",
      "eps [0.94557206 0.95986816 0.76890157 0.92026045 1.05600523 0.83552513\n",
      " 0.43425682 0.17421967 1.21256435 0.53327656 0.28340508 0.13896677\n",
      " 0.94557206 0.64465176 0.76062824 0.92026045 0.30516077 0.17816004\n",
      " 0.98065696 0.13925398 1.21256435 0.58121893 0.18246349 0.83552513\n",
      " 0.94557206 0.7455458  1.1058331  0.92026045 0.17585242 0.31437823]\n",
      "max inscribed ellipse volume: 0.15633136095369268\n",
      "step 13\n",
      "containment step:  True lambda min -2.3929162553775325e-07\n",
      "growth step:  True volume surrogate:  3.2424219808934387\n",
      "eps [0.99324499 3.99765595 0.80969757 0.95842729 1.09953721 0.85571871\n",
      " 0.46031272 0.18436795 1.26519104 0.54722001 0.29039491 0.14165686\n",
      " 0.99324499 0.73118332 0.75666482 0.95842729 0.38106077 0.18782178\n",
      " 0.47209069 0.12948287 1.268123   0.60579348 0.17785126 0.44412853\n",
      " 0.99324499 0.79041969 0.64360611 0.95842729 0.18045117 0.95725284]\n",
      "max inscribed ellipse volume: 0.1636524872338497\n",
      "step 14\n",
      "containment step:  True lambda min -2.7755575615628914e-17\n",
      "growth step:  True volume surrogate:  3.2214120612773107\n",
      "eps [0.97327106 0.99480293 0.82347504 0.94731085 1.09331907 0.85639742\n",
      " 0.46131804 0.18237975 1.26976524 0.5600818  0.29218778 0.14283243\n",
      " 0.97327106 0.69953116 0.77291539 0.94731085 0.32032039 0.18734257\n",
      " 1.01657374 0.13142231 1.26976524 0.61274838 0.17713698 0.85639742\n",
      " 0.97327106 0.80161413 1.14728058 0.94731085 0.1823351  0.33805843]\n",
      "max inscribed ellipse volume: 0.16712719571178014\n",
      "step 15\n",
      "containment step:  True lambda min -4.158797614373368e-08\n",
      "growth step:  True volume surrogate:  3.207946380226251\n",
      "eps [0.98279135 0.46180288 0.83863607 0.70298713 1.0865045  0.85124012\n",
      " 0.50951477 0.18985345 1.2751034  0.54957237 0.28757242 0.1447376\n",
      " 0.98279135 0.73437134 0.77630963 0.94004599 0.82391829 0.20832622\n",
      " 0.50360439 0.12421971 1.27696432 0.60215804 0.18038311 0.85411109\n",
      " 0.98279135 0.82175473 0.65074113 0.94004599 0.17795259 0.41994917]\n"
     ]
    },
    {
     "name": "stdout",
     "output_type": "stream",
     "text": [
      "max inscribed ellipse volume: 0.16939285127943796\n",
      "step 16\n",
      "containment step:  True lambda min -1.3877787807814457e-17\n",
      "growth step:  True volume surrogate:  3.20525551724008\n",
      "eps [0.96758046 0.99616017 0.84016062 0.94140705 1.08042139 0.85048987\n",
      " 1.02221543 0.18394258 1.27860411 0.53681288 0.28390976 0.14448501\n",
      " 0.96758046 0.70278509 0.7780485  0.94140705 0.29499369 0.20200627\n",
      " 0.48437204 0.12999648 0.9528881  0.58742679 0.18242928 0.85048987\n",
      " 0.96758046 0.81542034 1.13858728 0.94140705 0.17424114 0.37427284]\n",
      "max inscribed ellipse volume: 0.16984932126331326\n",
      "step 17\n",
      "containment step:  True lambda min -8.781683728153066e-07\n",
      "growth step:  True volume surrogate:  3.2021813026240045\n",
      "eps [0.95232348 0.43228436 0.84262978 0.91281448 1.05229239 0.44330539\n",
      " 0.46365907 0.18098334 1.25806831 0.53147784 0.2801627  0.14447053\n",
      " 0.95232348 0.70214686 0.77432791 0.91281448 0.29197277 0.19715561\n",
      " 0.99155374 0.13289618 0.85866013 0.57986466 0.18487854 0.82406326\n",
      " 0.95232348 0.81798176 0.63413797 0.91281448 0.17417453 0.3827962 ]\n",
      "max inscribed ellipse volume: 0.1703722494623508\n",
      "step 18\n",
      "containment step:  True lambda min -5.013843729177789e-07\n",
      "growth step:  True volume surrogate:  3.2002209610750434\n",
      "eps [0.9555852  0.99138404 0.8430373  0.93956287 1.06856573 0.80551051\n",
      " 0.4627745  0.17930079 1.28096168 0.53596884 0.28001541 0.14442756\n",
      " 0.9555852  0.76172794 0.77700947 0.93956287 0.30480612 0.19606336\n",
      " 0.46988627 0.13435139 0.84429286 0.5836313  0.1849757  0.29007979\n",
      " 0.9555852  0.81756208 0.63733537 0.93956287 0.17458432 0.93988767]\n",
      "max inscribed ellipse volume: 0.17070655711663127\n",
      "step 19\n",
      "containment step:  True lambda min -1.1102230246251565e-16\n",
      "growth step:  True volume surrogate:  3.195868232555407\n",
      "eps [0.93210241 0.97170312 0.84521055 0.91981949 1.060207   0.82512885\n",
      " 0.47415699 0.17951595 1.26948492 0.55175556 0.28181601 0.14386548\n",
      " 0.93210241 0.71913371 0.77469173 0.91981949 0.31125455 0.18913633\n",
      " 0.99838667 0.13411572 0.84567903 0.59909619 0.18410738 0.82512885\n",
      " 0.93210241 0.82524922 1.11786961 0.91981949 0.18065294 0.34099272]\n",
      "max inscribed ellipse volume: 0.17145123761195988\n",
      "step 20\n",
      "containment step:  True lambda min -5.551115123125783e-17\n",
      "growth step:  True volume surrogate:  3.1924022888342503\n",
      "eps [0.97127897 0.46821704 0.85409712 0.9178439  1.06189583 0.63691771\n",
      " 0.51742296 0.19017745 1.27778349 0.5391293  0.28136309 0.14555617\n",
      " 0.97127897 0.79714013 0.7748469  0.9178439  0.90745365 0.20997611\n",
      " 0.5117516  0.12384468 0.85512676 0.59854311 0.18454986 0.83453021\n",
      " 0.97127897 0.84093195 0.63995956 0.9178439  0.17689662 0.94018061]\n",
      "max inscribed ellipse volume: 0.17204649327636215\n",
      "step 21\n",
      "containment step:  True lambda min -5.551115123125783e-17\n",
      "growth step:  True volume surrogate:  3.19153905696909\n",
      "eps [0.98014663 1.01491744 0.85487753 0.88053531 1.07332842 0.85222759\n",
      " 0.50593976 0.19068565 0.97540349 0.53716746 0.2816382  0.14564397\n",
      " 0.98014663 1.20108482 0.77505162 0.94058299 0.30044383 0.21037217\n",
      " 1.03920994 0.12341257 0.8559878  0.58944752 0.18448046 0.85222759\n",
      " 0.98014663 0.83880073 1.13163639 0.94058299 0.17685206 0.36990697]\n",
      "max inscribed ellipse volume: 0.17219509276855466\n",
      "step 22\n",
      "containment step:  True lambda min -5.551115123125783e-17\n",
      "growth step:  True volume surrogate:  3.1906689871518443\n",
      "eps [0.97957557 0.48174451 0.85857204 0.93509355 1.06761252 0.85019269\n",
      " 0.5359038  0.19576329 1.28494061 0.56248806 0.28096256 0.14663839\n",
      " 0.97957557 0.74517898 0.77705844 0.93509355 0.91565424 0.22370119\n",
      " 0.52640755 0.11851795 0.86720344 0.58294769 0.18495804 0.47343433\n",
      " 0.97957557 0.84365278 0.63713905 0.93509355 0.17338196 0.96494107]\n",
      "max inscribed ellipse volume: 0.17234496759987508\n",
      "step 23\n",
      "containment step:  True lambda min -5.551115123125783e-17\n",
      "growth step:  True volume surrogate:  3.190362616163635\n",
      "eps [0.98070691 1.02632895 0.85870307 0.93807638 1.07068516 0.85322225\n",
      " 0.64548553 0.19580313 1.29886488 0.55926613 0.28106918 0.14664732\n",
      " 0.98070691 0.81695839 0.77729549 0.93807638 0.29176737 0.22374424\n",
      " 1.05157666 0.11850502 0.85981003 0.58281796 0.18492864 0.85322225\n",
      " 0.98070691 0.84288192 1.1300523  0.93807638 0.17338938 0.38469184]\n",
      "max inscribed ellipse volume: 0.17239776191005704\n",
      "step 24\n",
      "containment step:  True lambda min -8.309381566929565e-07\n",
      "growth step:  True volume surrogate:  3.190175600362575\n",
      "eps [1.00415544 3.99672627 0.85964915 0.95866227 1.08919291 0.8692538\n",
      " 0.77233565 0.19701219 1.31111001 0.52763734 0.28091055 0.14687781\n",
      " 1.00415544 0.80706144 0.77762922 0.95866227 0.93804716 0.22678976\n",
      " 0.52966958 0.11734502 0.87439637 0.58044844 0.18504973 0.5054861\n",
      " 1.00415544 0.844679   0.63660872 0.95866227 0.17261276 0.98806675]\n",
      "max inscribed ellipse volume: 0.17243000905138275\n",
      "step 25\n",
      "containment step:  True lambda min 0.0\n",
      "growth step:  True volume surrogate:  3.19009296262196\n",
      "eps [0.9980548  1.03741648 0.85967056 0.95304235 1.0842084  0.86733053\n",
      " 0.58244155 0.19698966 1.30412779 0.52870783 0.28096548 0.146876\n",
      " 0.9980548  0.77486952 0.77774258 0.95304235 0.29669734 0.22736189\n",
      " 1.0619691  0.1173669  0.86033737 0.58147448 0.18502677 0.14688034\n",
      " 0.9980548  0.85187021 1.14192781 0.95304235 0.17263911 0.38797257]\n",
      "max inscribed ellipse volume: 0.17244429872357114\n",
      "step 26\n",
      "containment step:  True lambda min -4.613078664784583e-07\n",
      "growth step:  True volume surrogate:  3.190023108960056\n",
      "eps [0.96266252 1.01093817 0.85968684 3.99910936 1.06121838 0.8078781\n",
      " 0.55224095 0.19699162 1.28188135 0.52740817 0.28098809 0.14687402\n",
      " 0.96266252 0.75620868 0.77779242 0.92252707 0.32026013 0.22667369\n",
      " 0.52958277 0.11737794 1.27989525 0.58679101 0.18501762 0.83812076\n",
      " 0.96266252 0.87463285 0.63680746 0.92252707 0.17264488 0.95508333]\n",
      "max inscribed ellipse volume: 0.17245631345017304\n",
      "step 27\n",
      "containment step:  True lambda min -4.1586270492057185e-07\n",
      "growth step:  True volume surrogate:  3.189992146975471\n",
      "eps [1.0098789  3.99964455 0.85969015 0.49831866 1.100584   0.88696746\n",
      " 0.52876527 0.19698246 1.31190853 0.56169904 0.2810098  0.14687213\n",
      " 1.0098789  0.74740346 0.77784174 0.97643462 0.28989388 0.22666894\n",
      " 1.07405457 0.11738764 1.31190853 0.58122179 0.18500886 0.88696746\n",
      " 1.0098789  0.84392388 1.157576   2.20858427 0.17265134 0.38794084]\n",
      "max inscribed ellipse volume: 0.17246167931649803\n",
      "step 28\n",
      "containment step:  True lambda min -1.7357995407714198e-07\n",
      "growth step:  True volume surrogate:  3.1899662398845896\n",
      "eps [0.98918149 1.02901634 0.85970662 0.94427257 1.07717935 0.84525328\n",
      " 1.05888565 0.1969944  1.2872286  0.53779501 0.28101385 0.14687307\n",
      " 0.98918149 0.74697791 0.7778504  0.94427257 0.40403289 0.22685159\n",
      " 0.52962158 0.11738159 1.29007246 0.5805295  0.18500737 0.46925222\n",
      " 0.98918149 0.84466564 0.63690998 0.94427257 0.17264934 0.41299437]\n",
      "max inscribed ellipse volume: 0.1724661224691434\n",
      "step 29\n",
      "containment step:  True lambda min -9.404506973637765e-08\n",
      "growth step:  True volume surrogate:  3.189956692199322\n",
      "eps [0.9620521  0.5128113  0.85967981 0.70618973 0.55715469 0.79470292\n",
      " 0.51703568 0.1969501  1.28808689 0.52905285 0.28102688 0.14686406\n",
      " 0.9620521  1.19701753 0.77785003 0.92708454 0.29004239 0.22654044\n",
      " 1.04013422 0.11742558 0.96970039 0.58104884 0.18499966 0.84060167\n",
      " 0.9620521  0.8439921  0.63694172 0.92708454 0.17268202 0.39597696]\n",
      "max inscribed ellipse volume: 0.17246774980096652\n",
      "step 30\n",
      "containment step:  True lambda min -9.632879518214631e-07\n",
      "growth step:  True volume surrogate:  3.1899461528431714\n",
      "eps [0.97478188 0.48628754 0.85964249 0.93622449 0.55880109 0.80131519\n",
      " 0.51696137 0.19691538 1.28708072 0.5625453  0.28102488 0.14686098\n",
      " 0.97478188 0.74670141 0.77790593 0.93622449 0.29001878 0.22696229\n",
      " 0.5295622  0.11746186 1.29018686 0.58146606 0.18500125 0.8478808\n",
      " 0.97478188 0.84386574 1.12722048 0.93622449 0.17267194 0.96449263]\n",
      "max inscribed ellipse volume: 0.17246957881665378\n",
      "step 31\n",
      "containment step:  True lambda min -9.621449109906335e-07\n",
      "growth step:  True volume surrogate:  3.1899390960683247\n",
      "eps [0.97196357 0.48420439 0.85971171 0.9303687  0.56120453 0.84158326\n",
      " 0.73587898 0.1969915  1.28431894 0.53336963 0.28102094 0.14687172\n",
      " 0.97196357 1.05484539 0.77787106 0.9303687  0.9098445  0.22694699\n",
      " 1.03732708 0.11738959 1.28431894 0.58144084 0.18500412 0.84158326\n",
      " 0.97196357 0.85202755 0.63694935 0.9303687  0.17265281 0.38803284]\n",
      "max inscribed ellipse volume: 0.17247082625132348\n",
      "step 32\n",
      "containment step:  True lambda min -1.8707778230824414e-06\n",
      "growth step:  True volume surrogate:  3.1899314027307075\n",
      "eps [0.94719288 0.48488612 0.85971476 0.90410001 0.5557731  0.82045178\n",
      " 0.57811534 0.19699526 1.26593045 0.55524815 0.28102059 0.14687204\n",
      " 0.94719288 0.7483821  0.77787165 0.90410001 0.29006038 0.22699589\n",
      " 0.54379644 0.11738848 1.26593045 0.58185712 0.18500441 0.82045178\n",
      " 0.94719288 0.84532706 1.10480647 0.90410001 0.17265121 0.93800154]\n",
      "max inscribed ellipse volume: 0.17247214394623214\n",
      "step 33\n"
     ]
    },
    {
     "name": "stdout",
     "output_type": "stream",
     "text": [
      "containment step:  True lambda min -9.830529665800221e-07\n",
      "growth step:  True volume surrogate:  3.189929265596696\n",
      "eps [1.00912897 0.48591891 0.85971482 0.97002902 0.56061744 0.88078767\n",
      " 0.74805565 0.1969949  1.31733587 0.53106327 0.28102089 0.14687184\n",
      " 1.00912897 1.06432216 0.77787222 0.97002901 0.94769779 0.2268845\n",
      " 1.07412139 0.1173893  1.31733587 0.58137665 0.18500433 0.88078767\n",
      " 1.00912897 0.85194302 0.63728762 0.97002902 0.1726521  0.38840267]\n",
      "max inscribed ellipse volume: 0.172472503214158\n",
      "step 34\n",
      "containment step:  True lambda min -1.9163641411590993e-06\n",
      "growth step:  True volume surrogate:  3.1899272591960486\n",
      "eps [0.98662676 0.50584808 0.85971874 0.94935591 0.55769889 0.86057426\n",
      " 0.77786663 0.19699919 1.29509111 0.55520671 0.28102038 0.14687245\n",
      " 0.98662676 0.75006916 0.77787036 0.94935591 0.29055247 0.22701187\n",
      " 0.54419374 0.11738577 1.29509111 0.58157501 0.18500465 0.86057426\n",
      " 0.98662676 0.84600875 1.13783622 0.94935591 0.17265045 0.97596533]\n",
      "max inscribed ellipse volume: 0.17247283722743906\n",
      "step 35\n",
      "containment step:  True lambda min -1.7965038236176866e-06\n",
      "growth step:  True volume surrogate:  3.1899271194770145\n",
      "eps [1.03820802 3.67496798 0.85971745 0.99914191 0.56121367 0.9068629\n",
      " 1.101183   0.19699836 1.33837846 0.64942474 0.28102165 0.14687229\n",
      " 1.03820802 1.08406846 0.77787419 0.99914191 0.9729541  0.22704921\n",
      " 1.09608581 0.11738658 1.33837846 0.58143002 0.18500398 0.9068629\n",
      " 1.03820802 0.85858849 0.63999839 0.99914191 0.17265098 0.39078658]\n",
      "max inscribed ellipse volume: 0.1724728919776352\n",
      "step 36\n",
      "containment step:  True lambda min -1.9477547217375613e-06\n",
      "growth step:  True volume surrogate:  3.1899113780496036\n",
      "eps [3.99907693 1.06932466 0.85971683 0.992929   0.55814678 0.90219231\n",
      " 0.68455966 0.19700135 1.32674017 0.57560416 0.28101919 0.14687199\n",
      " 1.02854546 0.74940028 0.77787098 0.992929   0.29012024 0.22703227\n",
      " 0.54627491 0.11739002 1.32674017 0.58144154 0.18500558 0.90219231\n",
      " 1.02854546 0.85294495 1.1760054  3.99912622 0.17265014 1.01569797]\n",
      "max inscribed ellipse volume: 0.17247559318841388\n",
      "step 37\n",
      "containment step:  False lambda min nan\n",
      "terminated early, containment lost\n",
      "0.1724728919776352\n",
      "True\n",
      "True\n"
     ]
    }
   ],
   "source": [
    "r_new = inner_approx_HPoly_bilinear_alternation(iris_reg, small_sym_poly, compare_seed, maxit = 40)\n",
    "visualizer.plot_regions([r_new], region_suffix = 'bil_new')\n",
    "print(r_new.MaximumVolumeInscribedEllipsoid().Volume())\n",
    "print(r_new.PointInSet(compare_seed))\n",
    "print(r_new.ContainedInOtherHPolyhedron(iris_reg))"
   ]
  },
  {
   "cell_type": "code",
   "execution_count": 37,
   "metadata": {},
   "outputs": [
    {
     "name": "stderr",
     "output_type": "stream",
     "text": [
      "[2022-02-07 08:22:46.892] [console] [info] Solver time 4.127651929855347\n",
      "[2022-02-07 08:22:53.594] [console] [info] Solver time 1.8271429538726807\n",
      "[2022-02-07 08:23:03.619] [console] [info] Solver time 5.335149049758911\n",
      "[2022-02-07 08:23:03.665] [console] [info] total iter=1, feasible iter = 0\n",
      "[2022-02-07 08:23:16.944] [console] [info] bilinear alt on d succeeded\n",
      "[2022-02-07 08:23:16.971] [console] [info] Solver time 2.018103837966919\n",
      "[2022-02-07 08:23:17.029] [console] [info] total iter=2, feasible iter = 1\n",
      "[2022-02-07 08:23:30.493] [console] [info] bilinear alt on d succeeded\n",
      "[2022-02-07 08:23:30.519] [console] [info] Solver time 2.215338945388794\n",
      "[2022-02-07 08:23:30.579] [console] [info] total iter=3, feasible iter = 2\n",
      "[2022-02-07 08:23:38.122] [console] [info] Solver time 2.890758991241455\n",
      "[2022-02-07 08:23:38.170] [console] [info] total iter=4, feasible iter = 2\n",
      "[2022-02-07 08:23:52.079] [console] [info] bilinear alt on d succeeded\n",
      "[2022-02-07 08:23:52.105] [console] [info] Solver time 2.676208972930908\n",
      "[2022-02-07 08:23:52.165] [console] [info] total iter=5, feasible iter = 3\n",
      "[2022-02-07 08:23:59.508] [console] [info] Solver time 2.829284906387329\n",
      "[2022-02-07 08:23:59.557] [console] [info] total iter=6, feasible iter = 3\n",
      "[2022-02-07 08:24:13.822] [console] [info] bilinear alt on d succeeded\n",
      "[2022-02-07 08:24:13.848] [console] [info] Solver time 3.1441380977630615\n",
      "[2022-02-07 08:24:13.908] [console] [info] total iter=7, feasible iter = 4\n",
      "[2022-02-07 08:24:21.323] [console] [info] Solver time 2.8978238105773926\n",
      "[2022-02-07 08:24:21.371] [console] [info] total iter=8, feasible iter = 4\n",
      "[2022-02-07 08:24:29.732] [console] [info] Solver time 3.753633975982666\n",
      "[2022-02-07 08:24:29.783] [console] [info] total iter=9, feasible iter = 4\n",
      "[2022-02-07 08:24:37.942] [console] [info] Solver time 3.2146430015563965\n",
      "[2022-02-07 08:24:37.994] [console] [info] total iter=10, feasible iter = 4\n",
      "[2022-02-07 08:24:53.088] [console] [info] bilinear alt on d succeeded\n",
      "[2022-02-07 08:24:53.118] [console] [info] Solver time 3.2583110332489014\n",
      "[2022-02-07 08:24:53.185] [console] [info] total iter=11, feasible iter = 5\n"
     ]
    }
   ],
   "source": [
    "#certify found region\n",
    "cspace_free_region = rational_forward_kinematics.CspaceFreeRegion(diagram, plant, scene_graph,\n",
    "                                   rational_forward_kinematics.SeparatingPlaneOrder.kAffine,\n",
    "                                   rational_forward_kinematics.CspaceRegionType.kGenericPolytope)\n",
    "\n",
    "vector_bisection_search_options = rational_forward_kinematics.VectorBisectionSearchOption()\n",
    "vector_bisection_search_options.max_iters = 10\n",
    "vector_bisection_search_options.max_feasible_iters = 5\n",
    "vector_bisection_search_options.search_d = True\n",
    "filtered_collision_pairs = set()\n",
    "vector_bisection_search_options.epsilon_min = FindEpsilonLowerVector(r_new.A(), r_new.b(),\n",
    "                                                         limits_t[0], limits_t[1], compare_seed)\n",
    "\n",
    "vector_bisection_search_options.epsilon_max = 0.25*FindEpsilonUpperVector(r_new.A(), \n",
    "                                      r_new.b(), \n",
    "                                      limits_t[0], limits_t[1],)\n",
    "solver_options = mp.SolverOptions()\n",
    "solver_options.SetOption(mp. CommonSolverOption.kPrintToConsole, 1)\n",
    "\n",
    "b_feasible, separating_planes = cspace_free_region.CspacePolytopeBisectionSearchVector(\n",
    "                 q_star, filtered_collision_pairs, r_new.A(), r_new.b(),\n",
    "                 vector_bisection_search_options, solver_options)\n",
    "r0_grown_vector = HPolyhedron(r_new.A(), b_feasible) "
   ]
  },
  {
   "cell_type": "code",
   "execution_count": 41,
   "metadata": {},
   "outputs": [],
   "source": [
    "visualizer.plot_regions([r0_grown_vector], region_suffix = 'bil_cert', opacity=0.8)"
   ]
  },
  {
   "cell_type": "code",
   "execution_count": 69,
   "metadata": {
    "scrolled": false
   },
   "outputs": [
    {
     "name": "stdout",
     "output_type": "stream",
     "text": [
      "92\n",
      "140\n"
     ]
    },
    {
     "data": {
      "application/vnd.jupyter.widget-view+json": {
       "model_id": "4eee8659bf9f409bafdbd95c7989e0aa",
       "version_major": 2,
       "version_minor": 0
      },
      "text/plain": [
       "FloatSlider(value=0.0, description='q0', max=1.7, min=-1.7)"
      ]
     },
     "metadata": {},
     "output_type": "display_data"
    },
    {
     "data": {
      "application/vnd.jupyter.widget-view+json": {
       "model_id": "7ed53a0cdb6645b3baa5ea8e88a88824",
       "version_major": 2,
       "version_minor": 0
      },
      "text/plain": [
       "FloatSlider(value=0.0, description='q1', max=2.0, min=-2.0)"
      ]
     },
     "metadata": {},
     "output_type": "display_data"
    },
    {
     "data": {
      "application/vnd.jupyter.widget-view+json": {
       "model_id": "30c9fd53ec644822921633b48a69b94d",
       "version_major": 2,
       "version_minor": 0
      },
      "text/plain": [
       "FloatSlider(value=0.0, description='q2', max=1.7, min=-1.7)"
      ]
     },
     "metadata": {},
     "output_type": "display_data"
    },
    {
     "data": {
      "text/html": [
       "\n",
       "            <div style=\"height: 400px; width: 100%; overflow-x: auto; overflow-y: hidden; resize: both\">\n",
       "            <iframe src=\"http://127.0.0.1:7000/static/\" style=\"width: 100%; height: 100%; border: none\"></iframe>\n",
       "            </div>\n",
       "            "
      ],
      "text/plain": [
       "<IPython.core.display.HTML object>"
      ]
     },
     "metadata": {},
     "output_type": "display_data"
    },
    {
     "data": {
      "text/html": [
       "\n",
       "            <div style=\"height: 400px; width: 100%; overflow-x: auto; overflow-y: hidden; resize: both\">\n",
       "            <iframe src=\"http://127.0.0.1:7001/static/\" style=\"width: 100%; height: 100%; border: none\"></iframe>\n",
       "            </div>\n",
       "            "
      ],
      "text/plain": [
       "<IPython.core.display.HTML object>"
      ]
     },
     "metadata": {},
     "output_type": "display_data"
    }
   ],
   "source": [
    "import visualizations_utils\n",
    "visualizer.region_to_separating_planes_dict = {r0_grown_vector: separating_planes}\n",
    "sliders = []\n",
    "sliders.append(widgets.FloatSlider(min=q_low[0], max=q_high[0], value=0, description='q0'))\n",
    "sliders.append(widgets.FloatSlider(min=q_low[1], max=q_high[1], value=0, description='q1'))\n",
    "sliders.append(widgets.FloatSlider(min=q_low[2], max=q_high[2], value=0, description='q2'))\n",
    "\n",
    "plane_test = separating_planes[125]\n",
    "print(plane_test.geometryA.get_value())\n",
    "print(plane_test.geometryB.get_value())\n",
    "\n",
    "def showres_verts(q):\n",
    "    visualizer.showres(q)\n",
    "   \n",
    "    t = Ratfk.ComputeTValue(q, visualizer.q_star)\n",
    "    vert_A = plane_test.positive_side_polytope.p_BV()[:, :]\n",
    "    vert_B = plane_test.negative_side_polytope.p_BV()[:, :]\n",
    "    geomA = plane_test.positive_side_polytope.get_id()\n",
    "    geomB = plane_test.negative_side_polytope.get_id()\n",
    "    #Ratfk.CalcLinkPoses(visualizer.q_star, plant.world_body().index())\n",
    "    \n",
    "    #print('A: ', plane_test.positive_side_polytope.body_index())\n",
    "    #print('B: ', plane_test.negative_side_polytope.body_index())\n",
    "    \n",
    "    b = plane_test.b\n",
    "    a = plane_test.a()\n",
    "    b_eval_frame = b.Evaluate(dict(zip(b.GetVariables(), t)))\n",
    "    a_eval_frame = np.array([a_idx.Evaluate(dict(zip(a_idx.GetVariables(), t))) for a_idx in a])\n",
    "    \n",
    "    X_EW = plant.GetBodyFromFrameId(plant.GetBodyFrameIdIfExists(plane_test.expressed_link))\\\n",
    "                .body_frame().CalcPoseInWorld(plant_context).inverse()\n",
    "    X_WE = X_EW.inverse()\n",
    "    \n",
    "    R_EW = X_EW.rotation().matrix()\n",
    "    V_EW = X_EW.translation()\n",
    "    \n",
    "    a_eval = a_eval_frame #a_eval_frame@R_EW\n",
    "    b_eval = b_eval_frame #b_eval_frame - a_eval_frame@V_EW\n",
    "    \n",
    "    X_WA = plant.GetBodyFromFrameId(plant.GetBodyFrameIdIfExists(plane_test.positive_side_polytope.body_index()))\\\n",
    "                .body_frame().CalcPoseInWorld(plant_context)\n",
    "    vert_A = X_WA@vert_A\n",
    "    \n",
    "    X_WB = plant.GetBodyFromFrameId(plant.GetBodyFrameIdIfExists(plane_test.negative_side_polytope.body_index()))\\\n",
    "                .body_frame().CalcPoseInWorld(plant_context)\n",
    "    vert_B = X_WB@vert_B\n",
    "    \n",
    "    verts_tf_E = visualizer.transform(a_eval, b_eval, X_EW@vert_A[:,0], X_EW@vert_B[:,0], visualizer.plane_verts)\n",
    "    verts_tf = (X_WE@verts_tf_E.T).T\n",
    "    \n",
    "    \n",
    "    p_expr = X_EW.inverse()@np.zeros((3,))\n",
    "    \n",
    "    \n",
    "    mat = meshcat.geometry.MeshLambertMaterial(color=visualizations_utils.rgb_to_hex((255,0,0)), wireframe=False)\n",
    "    mat.opacity = 0.6\n",
    "    for idx in range(vert_A.shape[1]):\n",
    "        #print(X_WA.translation())\n",
    "        viz_utils.plot_point(loc=vert_A[:,idx], radius=0.01, mat=mat, \n",
    "                             vis=visualizer.vis[\"bodyvert\"][f\"{geomA.get_value()}{'_'}{idx}\"],\n",
    "                             marker_id='p1')\n",
    "    \n",
    "    mat = meshcat.geometry.MeshLambertMaterial(color=visualizations_utils.rgb_to_hex((0,0,255)), wireframe=False)\n",
    "    mat.opacity = 0.6\n",
    "    for idx in range(vert_B.shape[1]):\n",
    "        #print(X_WA.translation())\n",
    "        viz_utils.plot_point(loc=vert_B[:,idx], radius=0.01, mat=mat, \n",
    "                             vis=visualizer.vis[\"bodyvert\"][f\"{geomB.get_value()}{'_'}{idx}\"],\n",
    "                             marker_id='p2')\n",
    " \n",
    "    mat = meshcat.geometry.MeshLambertMaterial(color=visualizations_utils.rgb_to_hex((255,255,0)), wireframe=False)\n",
    "    mat.opacity = 0.6\n",
    "    viz_utils.plot_point(loc=p_expr, radius=0.15, mat=mat, \n",
    "                         vis=visualizer.vis[\"bodyvert\"][\"expressed\"],\n",
    "                         marker_id='expressed')\n",
    "    if r0_grown_vector.PointInSet(t):\n",
    "        mat = meshcat.geometry.MeshLambertMaterial(color=visualizations_utils.rgb_to_hex((0,255,0)), wireframe=False)\n",
    "    else:\n",
    "        mat = meshcat.geometry.MeshLambertMaterial(color=visualizations_utils.rgb_to_hex((255,0,0)), wireframe=False)\n",
    "    mat.opacity = 0.5\n",
    "    visualizer.vis['bodyvert'][\"plane\"][f\"{geomA.get_value()}, {geomB.get_value()}\"].set_object(\n",
    "            meshcat.geometry.TriangularMeshGeometry(verts_tf, visualizer.plane_triangles),\n",
    "            mat)\n",
    "    \n",
    "q = q0.copy()\n",
    "def handle_slider_change(change, idx):\n",
    "    q[idx] = change['new']\n",
    "    #print(q, end=\"\\r\")\n",
    "    showres_verts(q)\n",
    "    \n",
    "    \n",
    "idx = 0\n",
    "for slider in sliders:\n",
    "    slider.observe(partial(handle_slider_change, idx = idx), names='value')\n",
    "    idx+=1\n",
    "\n",
    "for slider in sliders:\n",
    "    display(slider)\n",
    "\n",
    "visualizer.jupyter_cell()"
   ]
  },
  {
   "cell_type": "code",
   "execution_count": 73,
   "metadata": {},
   "outputs": [],
   "source": [
    "showres_verts(np.array([-.1,-.2,-.7]))"
   ]
  },
  {
   "cell_type": "code",
   "execution_count": 74,
   "metadata": {},
   "outputs": [],
   "source": [
    "showres_verts(np.array([-.8,-0.7,-1.4]))"
   ]
  },
  {
   "cell_type": "code",
   "execution_count": 40,
   "metadata": {},
   "outputs": [
    {
     "name": "stdout",
     "output_type": "stream",
     "text": [
      "1 (<GeometryId value=92>, <GeometryId value=122>)\n",
      "32 (<GeometryId value=92>, <GeometryId value=110>)\n",
      "41 (<GeometryId value=92>, <GeometryId value=140>)\n",
      "71 (<GeometryId value=92>, <GeometryId value=128>)\n",
      "100 (<GeometryId value=92>, <GeometryId value=98>)\n",
      "104 (<GeometryId value=92>, <GeometryId value=116>)\n",
      "108 (<GeometryId value=92>, <GeometryId value=134>)\n",
      "135 (<GeometryId value=92>, <GeometryId value=104>)\n"
     ]
    }
   ],
   "source": [
    "#for finding planes\n",
    "geom_pairs_inspector = []\n",
    "for idx, (geomA, geomB) in enumerate(inspector.GetCollisionCandidates()):\n",
    "    geom_pairs_inspector.append((geomA, geomB))\n",
    "    if geomA.get_value() == 92:\n",
    "        print(idx, (geomA, geomB))"
   ]
  },
  {
   "cell_type": "code",
   "execution_count": null,
   "metadata": {},
   "outputs": [],
   "source": []
  }
 ],
 "metadata": {
  "interpreter": {
   "hash": "916dbcbb3f70747c44a77c7bcd40155683ae19c65e1c03b4aa3499c5328201f1"
  },
  "kernelspec": {
   "display_name": "Python 3",
   "language": "python",
   "name": "python3"
  },
  "language_info": {
   "codemirror_mode": {
    "name": "ipython",
    "version": 3
   },
   "file_extension": ".py",
   "mimetype": "text/x-python",
   "name": "python",
   "nbconvert_exporter": "python",
   "pygments_lexer": "ipython3",
   "version": "3.8.10"
  }
 },
 "nbformat": 4,
 "nbformat_minor": 2
}
