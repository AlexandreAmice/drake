{
 "cells": [
  {
   "cell_type": "code",
   "execution_count": null,
   "metadata": {},
   "outputs": [],
   "source": [
    "%load_ext autoreload"
   ]
  },
  {
   "cell_type": "code",
   "execution_count": null,
   "metadata": {},
   "outputs": [],
   "source": [
    "from certified_iris_generator import CertifiedIrisRegionGenerator\n",
    "import sys\n",
    "import os\n",
    "import time\n",
    "import numpy as np\n",
    "from functools import partial\n",
    "import itertools\n",
    "import mcubes\n",
    "import visualizations_utils as viz_utils\n",
    "import iris_utils #TODO remove\n",
    "from iris_plant_visualizer import IrisPlantVisualizer\n",
    "import ipywidgets as widgets\n",
    "from IPython.display import display\n",
    "from sandbox import rrtiris"
   ]
  },
  {
   "cell_type": "code",
   "execution_count": null,
   "metadata": {},
   "outputs": [],
   "source": [
    "#pydrake imports\n",
    "from pydrake.common import FindResourceOrThrow\n",
    "from pydrake.multibody.parsing import LoadModelDirectives, Parser, ProcessModelDirectives\n",
    "from pydrake.multibody.plant import MultibodyPlant, AddMultibodyPlantSceneGraph\n",
    "from pydrake.systems.framework import DiagramBuilder\n",
    "from pydrake.all import InverseKinematics, RevoluteJoint, RationalForwardKinematics\n",
    "from pydrake.geometry.optimization import IrisOptionsRationalSpace, IrisInRationalConfigurationSpace, HPolyhedron, Hyperellipsoid\n",
    "from pydrake.geometry import Role, GeometrySet, CollisionFilterDeclaration\n",
    "import pydrake.symbolic as sym\n",
    "from pydrake.all import MathematicalProgram, RigidTransform, RollPitchYaw\n",
    "import meshcat\n",
    "from pydrake.all import GenerateSeedingPolytope\n",
    "import pydrake.multibody.rational_forward_kinematics as rational_forward_kinematics\n",
    "from pydrake.multibody.rational_forward_kinematics import FindEpsilonLower, FindEpsilonLowerVector, FindEpsilonUpperVector\n",
    "from pydrake.solvers import mathematicalprogram as mp"
   ]
  },
  {
   "cell_type": "markdown",
   "metadata": {},
   "source": [
    "# Build Plant\n"
   ]
  },
  {
   "cell_type": "code",
   "execution_count": null,
   "metadata": {},
   "outputs": [],
   "source": [
    "q0 = [0.0, 0.0, 0.0]\n",
    "q_low  = [-1.7, -2., -1.7]\n",
    "q_high = [ 1.7,  2.,  1.7]\n"
   ]
  },
  {
   "cell_type": "code",
   "execution_count": null,
   "metadata": {},
   "outputs": [],
   "source": [
    "builder = DiagramBuilder()\n",
    "plant, scene_graph = AddMultibodyPlantSceneGraph(builder, time_step=0.001)\n",
    "parser = Parser(plant)\n",
    "oneDOF_iiwa_asset = FindResourceOrThrow(\"drake/sos_iris_certifier/assets/oneDOF_iiwa7_with_box_collision.sdf\")\n",
    "twoDOF_iiwa_asset = FindResourceOrThrow(\"drake/sos_iris_certifier/assets/twoDOF_iiwa7_with_box_collision.sdf\")"
   ]
  },
  {
   "cell_type": "code",
   "execution_count": null,
   "metadata": {},
   "outputs": [],
   "source": [
    "box_asset = FindResourceOrThrow(\"drake/sos_iris_certifier/assets/box_small.urdf\")\n",
    "\n",
    "models = []\n",
    "models.append(parser.AddModelFromFile(box_asset))\n",
    "models.append(parser.AddModelFromFile(twoDOF_iiwa_asset))\n",
    "models.append(parser.AddModelFromFile(oneDOF_iiwa_asset))\n",
    "\n",
    "\n",
    "\n",
    "locs = [[0.,0.,0.],[0.,.5,0.],[0.,-.5,0.]]\n",
    "plant.WeldFrames(plant.world_frame(), plant.GetFrameByName(\"base\", models[0]), RigidTransform(locs[0]))\n",
    "plant.WeldFrames(plant.world_frame(), plant.GetFrameByName(\"iiwa_twoDOF_link_0\", models[1]), RigidTransform(RollPitchYaw([0,0, -np.pi/2]).ToRotationMatrix(), locs[1]))\n",
    "plant.WeldFrames(plant.world_frame(), plant.GetFrameByName(\"iiwa_oneDOF_link_0\", models[2]), RigidTransform(RollPitchYaw([0,0, -np.pi/2]).ToRotationMatrix(), locs[2]))\n",
    "\n",
    "\n",
    "plant.Finalize()\n",
    "\n",
    "idx = 0\n",
    "for model in models:\n",
    "    for joint_index in plant.GetJointIndices(model):\n",
    "        joint = plant.get_mutable_joint(joint_index)\n",
    "        if isinstance(joint, RevoluteJoint):\n",
    "            joint.set_default_angle(q0[idx])\n",
    "            joint.set_position_limits(lower_limits= np.array([q_low[idx]]), upper_limits= np.array([q_high[idx]]))\n",
    "            idx += 1\n",
    "        \n",
    "            \n",
    "#q_low = plant.GetPositionLowerLimits().tolist()\n",
    "#q_high = plant.GetPositionUpperLimits().tolist()\n",
    "\n",
    "Ratfk = RationalForwardKinematics(plant)\n"
   ]
  },
  {
   "cell_type": "code",
   "execution_count": null,
   "metadata": {},
   "outputs": [],
   "source": [
    "do_viz = True\n",
    "visualizer = IrisPlantVisualizer(plant, builder, scene_graph, viz_role=Role.kIllustration)\n",
    "diagram = visualizer.diagram\n",
    "visualizer.visualize_collision_constraint(N = 30)"
   ]
  },
  {
   "cell_type": "code",
   "execution_count": null,
   "metadata": {
    "scrolled": false
   },
   "outputs": [],
   "source": [
    "sliders = []\n",
    "sliders.append(widgets.FloatSlider(min=q_low[0], max=q_high[0], value=0, description='q0'))\n",
    "sliders.append(widgets.FloatSlider(min=q_low[1], max=q_high[1], value=0, description='q1'))\n",
    "sliders.append(widgets.FloatSlider(min=q_low[2], max=q_high[2], value=0, description='q2'))\n",
    "\n",
    "q = q0.copy()\n",
    "def handle_slider_change(change, idx):\n",
    "    q[idx] = change['new']\n",
    "    #print(q, end=\"\\r\")\n",
    "    visualizer.showres(q)\n",
    "    \n",
    "idx = 0\n",
    "for slider in sliders:\n",
    "    slider.observe(partial(handle_slider_change, idx = idx), names='value')\n",
    "    idx+=1\n",
    "\n",
    "for slider in sliders:\n",
    "    display(slider)\n",
    "\n",
    "visualizer.jupyter_cell()"
   ]
  },
  {
   "cell_type": "code",
   "execution_count": null,
   "metadata": {
    "scrolled": true
   },
   "outputs": [],
   "source": [
    "#filter fused joints self collisions \n",
    "digaram = visualizer.diagram\n",
    "context = visualizer.diagram_context\n",
    "plant_context = visualizer.plant_context\n",
    "sg_context = scene_graph.GetMyContextFromRoot(context)\n",
    "inspector = scene_graph.model_inspector()\n",
    "\n",
    "pairs = scene_graph.get_query_output_port().Eval(sg_context).inspector().GetCollisionCandidates()\n",
    "print(len(inspector.GetCollisionCandidates()), \"->\", len(pairs))\n",
    "\n",
    "gids = [gid for gid in inspector.GetGeometryIds(GeometrySet(inspector.GetAllGeometryIds()), Role.kProximity)]\n",
    "get_name_of_gid = lambda gid : inspector.GetName(gid)\n",
    "gids.sort(key=get_name_of_gid)\n",
    "iiwa_oneDOF_gids = [gid for gid in gids if \"iiwa7_oneDOF::\" in get_name_of_gid(gid)]\n",
    "iiwa_twoDOF_gids = [gid for gid in gids if \"iiwa7_twoDOF::\" in get_name_of_gid(gid)]\n",
    "\n",
    "oneDOF_fused_col_geom = iiwa_oneDOF_gids[2:]\n",
    "iiwa_oneDOF_fused_set = GeometrySet(oneDOF_fused_col_geom)\n",
    "twoDOF_fused_col_geom = iiwa_twoDOF_gids[4:]\n",
    "iiwa_twoDOF_fused_set = GeometrySet(twoDOF_fused_col_geom)\n",
    "# print([get_name_of_gid(gid) for gid in oneDOF_fused_col_geom])\n",
    "# print([get_name_of_gid(gid) for gid in twoDOF_fused_col_geom])\n",
    "scene_graph.collision_filter_manager()\\\n",
    "            .Apply(CollisionFilterDeclaration().ExcludeWithin(iiwa_oneDOF_fused_set))\n",
    "scene_graph.collision_filter_manager()\\\n",
    "            .Apply(CollisionFilterDeclaration().ExcludeWithin(iiwa_twoDOF_fused_set))\n",
    "pairs = scene_graph.get_query_output_port().Eval(sg_context).inspector().GetCollisionCandidates()\n",
    "print(len(inspector.GetCollisionCandidates()), \"->\", len(pairs))"
   ]
  },
  {
   "cell_type": "markdown",
   "metadata": {},
   "source": [
    "# Setup IRIS Options and Generate Regions"
   ]
  },
  {
   "cell_type": "code",
   "execution_count": null,
   "metadata": {},
   "outputs": [],
   "source": [
    "# seed_points_q = np.array([[0.0, 0, 0], # zero config\n",
    "#                         [0.0, -1.3, -1.3],  # start\n",
    "#                         [0.9, -1.5, -0.8]     # goal\n",
    "#                          ])\n",
    "# # More interesting seed points\n",
    "# seed_points_q = np.array([[0.0, 0, 0], # zero config\n",
    "#                         [ 1.3,  2.0, -1.7],  # start: right over left\n",
    "#                         [ 0.9, -1.3, -1.0],  # goal: left over right\n",
    "#                         [-0.3, -0.5, -1.7]   # passing\n",
    "#                          ])\n",
    "seed_points_q = np.array([[0.0, 0, 0], # zero config\n",
    "                        [0.8, 1.3, -0.8],  # START: blue low green up\n",
    "                        [0.1, 0.9, -1.2],     # GOAL: green low other up\n",
    "                        [0.2, 1.6, -0.6],\n",
    "                        [0.5, -1.9, -0.9]\n",
    "                         ])[:,(0,1,2)]   # passing\n",
    "\n",
    "\n",
    "seed_points = np.array([Ratfk.ComputeTValue(seed_points_q[idx], np.zeros((3,)))\\\n",
    "                        for idx in range(seed_points_q.shape[0])])\n",
    "if do_viz:\n",
    "    visualizer.plot_seedpoints(seed_points)\n",
    "\n",
    "start = seed_points[1,:]\n",
    "goal = seed_points[2,:]\n",
    "\n",
    "#compute limits in t-space\n",
    "limits_t = []\n",
    "for q in [q_low, q_high]:\n",
    "    limits_t.append(Ratfk.ComputeTValue(np.array(q), np.zeros((3,)) ))\n",
    "    \n",
    "starting_poly = HPolyhedron.MakeBox(limits_t[0], limits_t[1])\n",
    "context = diagram.CreateDefaultContext()\n",
    "q_star = np.zeros(3)"
   ]
  },
  {
   "cell_type": "code",
   "execution_count": null,
   "metadata": {},
   "outputs": [],
   "source": [
    "# regions = []\n",
    "\n",
    "# iris_options = IrisOptionsRationalSpace()\n",
    "# iris_options.require_sample_point_is_contained = True\n",
    "# iris_options.iteration_limit = 20\n",
    "# iris_options.configuration_space_margin = 1e-5\n",
    "# iris_options.max_faces_per_collision_pair = 60\n",
    "# iris_options.termination_threshold = -1\n",
    "# iris_options.q_star = np.zeros(3)\n",
    "# iris_options.relative_termination_threshold = 0.05\n",
    "# iris_options.enable_ibex = False\n",
    "# #deprecated\n",
    "# iris_options.certify_region_with_sos_during_generation = False\n",
    "# iris_options.certify_region_with_sos_after_generation = False\n",
    "\n",
    "# for i, s in enumerate(seed_points):\n",
    "#     plant.SetPositions(plant.GetMyMutableContextFromRoot(context), s)\n",
    "#     if False:\n",
    "#         #starting_hpolyhedron = regions[i-1]\n",
    "#         r = IrisInRationalConfigurationSpace (plant, plant.GetMyContextFromRoot(context),\n",
    "#                                               iris_options, starting_hpolyhedron)\n",
    "#     else:\n",
    "#         r = IrisInRationalConfigurationSpace(plant, plant.GetMyContextFromRoot(context), iris_options)\n",
    "#     regions.append(r)\n",
    "#     print(f'Completed region: {i+1}/{len(seed_points)}')\n",
    "#     print(f\"Sample point contained = {np.all(r.A()@s <= r.b())}\")\n",
    "#     print(f\"Sample point contained componentwise = {r.A()@s <= r.b()}\")\n",
    "#     print()"
   ]
  },
  {
   "cell_type": "code",
   "execution_count": null,
   "metadata": {},
   "outputs": [],
   "source": [
    "# if do_viz:\n",
    "#     visualizer.plot_regions(regions, ellipses=None, region_suffix='original')"
   ]
  },
  {
   "cell_type": "code",
   "execution_count": null,
   "metadata": {},
   "outputs": [],
   "source": [
    "regions_default = []\n",
    "max_vects = []\n",
    "min_vects = []\n",
    "num_perm_dim = 2\n",
    "num_rot = 2\n",
    "\n",
    "for i, s in enumerate(seed_points):\n",
    "    regions_default.append(GenerateSeedingPolytope(s, num_perm_dim, num_rot))\n",
    "    eps_min_vect = FindEpsilonLowerVector(regions_default[i].A(), \n",
    "                                      regions_default[i].b(), \n",
    "                                      limits_t[0], limits_t[1], s)\n",
    "    min_vects.append(eps_min_vect)\n",
    "    eps_max_vect = FindEpsilonUpperVector(regions_default[i].A(), \n",
    "                                      regions_default[i].b(), \n",
    "                                      limits_t[0], limits_t[1])\n",
    "    max_vects.append(eps_max_vect)\n",
    "    \n",
    "    "
   ]
  },
  {
   "cell_type": "code",
   "execution_count": null,
   "metadata": {},
   "outputs": [],
   "source": [
    "regions_default_small = []\n",
    "regions_default_big = []\n",
    "for i, r in enumerate(regions_default):\n",
    "    regions_default_small.append(HPolyhedron(regions_default[i].A(), regions_default[i].b() + 0.75*min_vects[i]))\n",
    "    regions_default_big.append(HPolyhedron(regions_default[i].A(), regions_default[i].b() + max_vects[i]))\n",
    "    \n",
    "if do_viz:\n",
    "    visualizer.plot_regions(regions_default, ellipses=None, region_suffix='_default')\n",
    "    visualizer.plot_regions(regions_default_small, ellipses=None, region_suffix='_small')\n",
    "    visualizer.plot_regions(regions_default_big, ellipses=None, region_suffix='_big')"
   ]
  },
  {
   "cell_type": "code",
   "execution_count": null,
   "metadata": {},
   "outputs": [],
   "source": [
    "cspace_free_region = rational_forward_kinematics.CspaceFreeRegion(diagram, plant, scene_graph,\n",
    "                                   rational_forward_kinematics.SeparatingPlaneOrder.kAffine,\n",
    "                                   rational_forward_kinematics.CspaceRegionType.kGenericPolytope)\n"
   ]
  },
  {
   "cell_type": "code",
   "execution_count": null,
   "metadata": {},
   "outputs": [],
   "source": [
    "i = 3\n",
    "r0 = regions_default[i]\n",
    "s = seed_points[i]\n",
    "filtered_collision_pairs = set()\n",
    "\n",
    "vector_bisection_search_options = rational_forward_kinematics.VectorBisectionSearchOption()\n",
    "vector_bisection_search_options.max_iters = 40\n",
    "vector_bisection_search_options.max_feasible_iters = 5\n",
    "vector_bisection_search_options.search_d = True\n",
    "vector_bisection_search_options.epsilon_min = FindEpsilonLowerVector(r0.A(), r0.b(),\n",
    "                                                         limits_t[0], limits_t[1], s)\n",
    "\n",
    "vector_bisection_search_options.epsilon_max = 0.25*FindEpsilonUpperVector(r0.A(), \n",
    "                                      r0.b(), \n",
    "                                      limits_t[0], limits_t[1],)\n",
    "solver_options = mp.SolverOptions()\n",
    "solver_options.SetOption(mp.CommonSolverOption.kPrintToConsole, 1)\n",
    "\n",
    "b_feasible = cspace_free_region.CspacePolytopeBisectionSearchVector(\n",
    "                 q_star, filtered_collision_pairs, r0.A(), r0.b(),\n",
    "                 vector_bisection_search_options, solver_options)\n",
    "r0_grown_vector = HPolyhedron(r0.A(), b_feasible) "
   ]
  },
  {
   "cell_type": "code",
   "execution_count": null,
   "metadata": {},
   "outputs": [],
   "source": [
    "\n",
    "scalar_edited_regions = []\n",
    "vector_edited_regions = []\n",
    "filtered_collision_pairs = set()\n",
    "\n",
    "bilinear_alternation_option = rational_forward_kinematics.BilinearAlternationOption()\n",
    "bilinear_alternation_option.max_iters = 20\n",
    "bilinear_alternation_option.lagrangian_backoff_scale = 1e-6\n",
    "bilinear_alternation_option.polytope_backoff_scale = 1e-6\n",
    "\n",
    "iris_options = IrisOptionsRationalSpace()\n",
    "iris_options.require_sample_point_is_contained = True\n",
    "iris_options.iteration_limit = 20\n",
    "iris_options.configuration_space_margin = 1e-5\n",
    "iris_options.max_faces_per_collision_pair = 60\n",
    "iris_options.termination_threshold = -1\n",
    "iris_options.q_star = np.zeros(3)\n",
    "iris_options.relative_termination_threshold = 0.05\n",
    "iris_options.enable_ibex = False\n",
    "#deprecated\n",
    "iris_options.certify_region_with_sos_during_generation = False\n",
    "iris_options.certify_region_with_sos_after_generation = False\n",
    "\n",
    "solver_options = mp.SolverOptions()\n",
    "solver_options.SetOption(mp.CommonSolverOption.kPrintToConsole, 1)\n",
    "\n",
    "def iris_scalar_handle(seed, domain):\n",
    "    seed_q = Ratfk.ComputeQValue(seed, np.zeros((3,))) \n",
    "    plant.SetPositions(plant.GetMyMutableContextFromRoot(context), seed_q)\n",
    "    region = IrisInRationalConfigurationSpace(plant, plant.GetMyContextFromRoot(context),\n",
    "                                              iris_options, domain)\n",
    "    ellipse = region.MaximumVolumeInscribedEllipsoid()\n",
    "    C = ellipse.A()\n",
    "    radii2, R  =  np.linalg.eig(C.T @ C)\n",
    "    radii = np.sqrt(radii2)\n",
    "\n",
    "    binary_search_options.epsilon_min = FindEpsilonLower(region.A(), region.b(),\n",
    "                                                         limits_t[0], limits_t[1])\n",
    "    print(\"[IRIS +  CERT]: Eps min\", binary_search_options.epsilon_min)\n",
    "    print(\"[IRIS +  CERT]: Region found, vol = \", ellipse.Volume(), \", halfaxis: \", radii)\n",
    "    b_feasible = cspace_free_region.CspacePolytopeBinarySearch(\n",
    "                 iris_options.q_star, filtered_collision_pairs, region.A(), region.b(),\n",
    "                 binary_search_options, solver_options)\n",
    "    \n",
    "#     C_final, d_final, P_final, q_final = \\\n",
    "#         cspace_free_region.CspacePolytopeBilinearAlternation(\n",
    "#             iris_options.q_star, filtered_collision_pairs, region.A(), b_feasible,\n",
    "#            bilinear_alternation_option, solver_options)\n",
    "    #C_final = np.vstack([C_final, P_joint_limits.A()])\n",
    "    #d_final = np.concatenate([d_final, P_joint_limits.b()])\n",
    "    #editted_regions.append(HPolyhedron(C_final, d_final))\n",
    "    return region, HPolyhedron(region.A(), b_feasible) \n",
    "\n",
    "def iris_vector_handle(seed, domain):\n",
    "    seed_q = Ratfk.ComputeQValue(seed, np.zeros((3,))) \n",
    "    plant.SetPositions(plant.GetMyMutableContextFromRoot(context), seed_q)\n",
    "    region = IrisInRationalConfigurationSpace(plant, plant.GetMyContextFromRoot(context),\n",
    "                                              iris_options, domain)\n",
    "    ellipse = region.MaximumVolumeInscribedEllipsoid()\n",
    "    C = ellipse.A()\n",
    "    radii2, R  =  np.linalg.eig(C.T @ C)\n",
    "    radii = np.sqrt(radii2)\n",
    "    vector_bisection_search_options.epsilon_min = FindEpsilonLowerVector(region.A(), region.b(),\n",
    "                                                         limits_t[0], limits_t[1])\n",
    "    print(\"[IRIS +  CERT]: Eps min\", vector_bisection_search_options.epsilon_min)\n",
    "    print(\"[IRIS +  CERT]: Region found, vol = \", ellipse.Volume(), \", halfaxis: \", radii)\n",
    "    b_feasible = cspace_free_region.CspacePolytopeBisectionSearchVector(\n",
    "                 iris_options.q_star, filtered_collision_pairs, region.A(), region.b(),\n",
    "                 vector_bisection_search_options, solver_options)\n",
    "    \n",
    "#     C_final, d_final, P_final, q_final = \\\n",
    "#         cspace_free_region.CspacePolytopeBilinearAlternation(\n",
    "#             iris_options.q_star, filtered_collision_pairs, region.A(), b_feasible,\n",
    "#            bilinear_alternation_option, solver_options)\n",
    "    #C_final = np.vstack([C_final, P_joint_limits.A()])\n",
    "    #d_final = np.concatenate([d_final, P_joint_limits.b()])\n",
    "    #editted_regions.append(HPolyhedron(C_final, d_final))\n",
    "    return region, HPolyhedron(region.A(), b_feasible) "
   ]
  },
  {
   "cell_type": "code",
   "execution_count": null,
   "metadata": {},
   "outputs": [],
   "source": []
  },
  {
   "cell_type": "code",
   "execution_count": null,
   "metadata": {},
   "outputs": [],
   "source": [
    "if do_viz:\n",
    "    visualizer.plot_regions([r0_grown_vector], ellipses=None, region_suffix='_grown_vector')"
   ]
  },
  {
   "cell_type": "code",
   "execution_count": null,
   "metadata": {},
   "outputs": [],
   "source": [
    "binary_search_options = rational_forward_kinematics.BinarySearchOption()\n",
    "binary_search_options.epsilon_max = 1\n",
    "binary_search_options.epsilon_min = -.12\n",
    "binary_search_options.max_iters = 15\n",
    "binary_search_options.search_d = True\n",
    "binary_search_options.epsilon_min = FindEpsilonLower(r0.A(), r0.b(),\n",
    "                                                         limits_t[0], limits_t[1])\n",
    "b_feasible = cspace_free_region.CspacePolytopeBinarySearch(\n",
    "                 iris_options.q_star, filtered_collision_pairs, r0.A(), r0.b(),\n",
    "                 binary_search_options, solver_options)\n",
    "r0_grown_scalar = HPolyhedron(r0.A(), b_feasible) \n"
   ]
  },
  {
   "cell_type": "code",
   "execution_count": null,
   "metadata": {},
   "outputs": [],
   "source": [
    "if do_viz:\n",
    "#     visualizer.plot_regions([r0_grown_scalar], ellipses=None, region_suffix='_grown_scalar')\n",
    "    visualizer.plot_regions([r0_grown_vector], ellipses=None, region_suffix='_grown_vector')"
   ]
  },
  {
   "cell_type": "code",
   "execution_count": null,
   "metadata": {},
   "outputs": [],
   "source": [
    "#refine with CPP code:\n",
    "cpp_editted_vector_regions = []\n",
    "# for i in range(seed_points.shape[0]):\n",
    "for i in range(1):\n",
    "    s = seed_points[i,:]\n",
    "    region_init = regions[i]\n",
    "    try:\n",
    "        region_init, region = iris_vector_handle(s, region_init)\n",
    "        cpp_editted_vector_regions.append(region)\n",
    "    except Exception as e:\n",
    "        print(e)\n",
    "    print(f\"Completed {i+1}/{seed_points.shape[0]}\")"
   ]
  },
  {
   "cell_type": "code",
   "execution_count": null,
   "metadata": {},
   "outputs": [],
   "source": [
    "d_final = np.array([0.939411,\n",
    "     1.35849,\n",
    "    0.939411,\n",
    "    0.939411,\n",
    "     1.35849,\n",
    "    0.939411,\n",
    "   0.0526289,\n",
    "   0.0260675,\n",
    "    0.420636,\n",
    "   0.0328898,\n",
    "  0.00448928,\n",
    "   0.0308143,\n",
    "-0.000379762,\n",
    "    0.180957,\n",
    "    0.156639,\n",
    "    0.129082,\n",
    "    0.121289,\n",
    "     0.63852])\n",
    "d_without_epsilon= np.array([1.13833,\n",
    " 1.55741,\n",
    " 1.13833,\n",
    " 1.13833,\n",
    " 1.55741,\n",
    " 1.13833,\n",
    " 0.25155,\n",
    "0.224989,\n",
    "0.619558,\n",
    "0.231811,\n",
    "0.203411,\n",
    "0.229736,\n",
    "0.198542,\n",
    "0.379879,\n",
    " 0.35556,\n",
    "0.328004,\n",
    " 0.32021,\n",
    "0.837441])\n",
    "eps_min = np.array(d_final-d_without_epsilon)\n",
    "print(eps_min)"
   ]
  },
  {
   "cell_type": "code",
   "execution_count": null,
   "metadata": {},
   "outputs": [],
   "source": [
    "#refine with CPP code:\n",
    "cpp_editted_scalar_regions = []\n",
    "for i in range(seed_points.shape[0]):\n",
    "    s = seed_points[i,:]\n",
    "    region_init = regions[i]\n",
    "    region_init, region = iris_scalar_handle(s, region_init)\n",
    "    cpp_editted_scalar_regions.append(region)\n",
    "    print(f\"Completed {i+1}/{seed_points.shape[0]}\")"
   ]
  },
  {
   "cell_type": "code",
   "execution_count": null,
   "metadata": {},
   "outputs": [],
   "source": [
    "if do_viz:\n",
    "    visualizer.plot_regions(cpp_editted_regions, ellipses=None, region_suffix='cpp_editted_regions')"
   ]
  },
  {
   "cell_type": "code",
   "execution_count": null,
   "metadata": {},
   "outputs": [],
   "source": [
    "#setup refine with python\n",
    "iris_kwargs = {\n",
    "    'iris_starting_ellipse_vol': 1e-5,\n",
    "    'iris_plane_pullback': 1e-4,\n",
    "    'iris_max_faces': -1\n",
    "}\n",
    "iris_generator = CertifiedIrisRegionGenerator(visualizer.diagram, plant, scene_graph, **iris_kwargs)\n",
    "regions, ellipses = iris_generator.iris_in_rational_space(seed_points)\n",
    "iris_generator.initalize_certifier(plane_order = 1, strict_pos_tol = 1e-4)"
   ]
  },
  {
   "cell_type": "code",
   "execution_count": null,
   "metadata": {},
   "outputs": [],
   "source": [
    "if do_viz:\n",
    "    visualizer.plot_regions(iris_generator.regions, region_suffix = '_python_snopt')"
   ]
  },
  {
   "cell_type": "code",
   "execution_count": null,
   "metadata": {},
   "outputs": [],
   "source": [
    "# refine with python\n",
    "do_linesearch_cert = True\n",
    "if do_linesearch_cert:\n",
    "    iris_generator.certify_and_adjust_regions_by_linesearch(1e-5)"
   ]
  },
  {
   "cell_type": "code",
   "execution_count": null,
   "metadata": {},
   "outputs": [],
   "source": [
    "if do_viz:\n",
    "    visualizer.plot_regions(iris_generator.linesearch_regions, region_suffix = '_new_by_linesearch')"
   ]
  },
  {
   "cell_type": "code",
   "execution_count": null,
   "metadata": {},
   "outputs": [],
   "source": [
    "\n"
   ]
  },
  {
   "cell_type": "code",
   "execution_count": null,
   "metadata": {},
   "outputs": [],
   "source": []
  },
  {
   "cell_type": "code",
   "execution_count": null,
   "metadata": {},
   "outputs": [],
   "source": [
    "from pydrake.all import Solve, eq, le, ge\n",
    "\n",
    "#lam*(binner_new - pullback) - bouter<= -1e-10\n",
    "def solve_pullback(b_outer, b_inner_new, lam, tol = 1e-9):\n",
    "    prog = MathematicalProgram()\n",
    "    pullback = prog.NewContinuousVariables(len(b_inner_new), 'pullback')\n",
    "    prog.AddLinearConstraint(-lam, -np.inf*np.ones(len(b_outer)).reshape(-1,1) ,b_outer - tol - lam@b_inner_new, pullback)\n",
    "    prog.AddBoundingBoxConstraint(0, np.inf, pullback)\n",
    "    res = Solve(prog)\n",
    "    pullback_sol = res.GetSolution(pullback)\n",
    "    return res.is_success(), pullback_sol\n",
    "    \n",
    "def solve_hpoly_containment_problem(r_outer, r_inner):\n",
    "    A_outer = r_outer.A()\n",
    "    A_inner = r_inner.A()\n",
    "    b_outer = r_outer.b()\n",
    "    b_inner = r_inner.b()\n",
    "    prog = MathematicalProgram()\n",
    "    lam = prog.NewContinuousVariables(len(b_outer), len(b_inner), 'lam')\n",
    "    prog.AddBoundingBoxConstraint(0.0, np.inf, lam)\n",
    "    for col in range(A_outer.T.shape[1]):\n",
    "        prog.AddLinearEqualityConstraint(A_inner.T, A_outer.T[:,col], lam.T[:,col])\n",
    "        \n",
    "    \n",
    "    for r in range(lam.shape[0]):\n",
    "        prog.AddLinearConstraint(b_inner[:,np.newaxis].T, np.array([-np.inf]), np.array([b_outer[r]- 1e-10]), lam[r, :])\n",
    "\n",
    "    res =  Solve(prog)\n",
    "    lam_sol = res.GetSolution(lam)\n",
    "    return res.is_success(), lam_sol\n",
    "\n",
    "def solve_volume_maximization_step(r_outer, r_inner, lam_sol, seed_point):\n",
    "    A_inner = r_inner.A()\n",
    "    b_inner = r_inner.b()\n",
    "    b_outer = r_outer.b()\n",
    "    dim = A_inner.shape[1]\n",
    "    print('here')\n",
    "    prog = MathematicalProgram()\n",
    "    d = prog.NewContinuousVariables(dim, 'd')\n",
    "    C = prog.NewSymmetricContinuousVariables(dim, 'C')\n",
    "    eps = prog.NewContinuousVariables(A_inner.shape[0], 'eps')\n",
    "    prog.AddMaximizeLogDeterminantCost(C)\n",
    "    for idx in range(len(b_inner)):\n",
    "        z = prog.NewContinuousVariables(dim + 1)\n",
    "        z[0] = b_inner[idx] + eps[idx] - A_inner[idx, :]@d\n",
    "        z[1:] = C @ A_inner[idx, :].T\n",
    "        prog.AddLorentzConeConstraint(z)  \n",
    "    prog.AddLinearConstraint(lam_sol, -np.inf*np.ones_like(b_outer), b_outer - lam_sol@b_inner, eps)\n",
    "    prog.AddLinearConstraint(np.eye(len(eps)), A_inner@seed_point - b_inner, np.inf*np.ones_like(eps), eps)\n",
    "    #prog.AddConstraint(le(lam_sol@(b_inner + eps) - b_outer, 0))\n",
    "    #prog.AddConstraint(le(A_inner@seed_point , b_inner + eps))\n",
    "    prog.AddBoundingBoxConstraint(0.0, 10.0, eps)\n",
    "    res = Solve(prog)\n",
    "    \n",
    "    eps_sol = res.GetSolution(eps)\n",
    "    print('here2')\n",
    "    print(eps_sol)\n",
    "    new_reg = HPolyhedron(A_inner, b_inner + eps_sol)\n",
    "    return res.is_success(), eps_sol, res.get_optimal_cost()\n",
    "\n",
    "\n",
    "def inner_approx_HPoly_bilinear_alternation(r_outer, r_inner_seed, seed_point, maxit = 10):\n",
    "    #check if contained at start\n",
    "    if r_inner_seed.ContainedInOtherHPolyhedron(r_outer):\n",
    "        r_inner = r_inner_seed\n",
    "        past_regions = []\n",
    "        for it in range(maxit):\n",
    "            print('step', it)\n",
    "            #get certificate of containment\n",
    "            success, lam_sol = solve_hpoly_containment_problem(r_outer, r_inner)\n",
    "            print('containment step: ', success, 'lambda min', np.min(lam_sol))\n",
    "            if not success:\n",
    "                print('terminated early, containment lost')\n",
    "                return past_regions[-1]\n",
    "            #use certificate to push out faces of inner polytope\n",
    "            success, eps, vol_surrogate = solve_volume_maximization_step(r_outer, r_inner_seed, lam_sol, seed_point)\n",
    "            print('growth step: ', success, 'volume surrogate: ', vol_surrogate)\n",
    "            print('eps', eps)\n",
    "            #update polytope\n",
    "            #success, pullback = solve_pullback(r_outer.b(), r_inner_seed.b() + eps, lam_sol)\n",
    "            #|print('pullback: ', success, 'pullback ineq', np.max(lam_sol@(r_inner_seed.b() + eps - pullback)-r_outer.b()))\n",
    "            \n",
    "            r_inner = HPolyhedron(r_inner.A(), r_inner_seed.b() + eps - 1e-10) #-pullback\n",
    "            print(f'max inscribed ellipse volume: {r_inner.MaximumVolumeInscribedEllipsoid().Volume()}')\n",
    "            past_regions.append(r_inner)\n",
    "        return r_inner\n",
    "    else:\n",
    "        raise ValueError(\"Seed HPolytope not contained in outer Hpolytope\")"
   ]
  },
  {
   "cell_type": "code",
   "execution_count": null,
   "metadata": {},
   "outputs": [],
   "source": [
    "iris_options = IrisOptionsRationalSpace()\n",
    "iris_options.require_sample_point_is_contained = True\n",
    "iris_options.iteration_limit = 20\n",
    "iris_options.configuration_space_margin = 1e-6\n",
    "iris_options.max_faces_per_collision_pair = 60\n",
    "iris_options.termination_threshold = -1\n",
    "iris_options.q_star = np.zeros(3)\n",
    "iris_options.relative_termination_threshold = 0.05\n",
    "iris_options.enable_ibex = False\n",
    "def iris_handle(seed, domain):\n",
    "    seed_q = Ratfk.ComputeQValue(seed, np.zeros((3,)))\n",
    "    plant.SetPositions(plant.GetMyMutableContextFromRoot(context), seed_q)\n",
    "    region = IrisInRationalConfigurationSpace(plant, plant.GetMyContextFromRoot(context),\n",
    "                                              iris_options, domain)\n",
    "    return region\n",
    "starting_poly = HPolyhedron.MakeBox(limits_t[0], limits_t[1])"
   ]
  },
  {
   "cell_type": "code",
   "execution_count": null,
   "metadata": {},
   "outputs": [],
   "source": [
    "compare_seed = seed_points[4]\n",
    "iris_reg = iris_handle(compare_seed, starting_poly)\n",
    "sym_poly = GenerateSeedingPolytope(compare_seed, 2, 2)\n",
    "eps_min_vect = FindEpsilonLowerVector(sym_poly.A(),\n",
    "                                      sym_poly.b(),\n",
    "                                      limits_t[0], limits_t[1], compare_seed)\n",
    "\n",
    "visualizer.plot_regions([iris_reg], region_suffix = 'bil_iris')\n",
    "visualizer.plot_regions([sym_poly], region_suffix = 'bil_sym')"
   ]
  },
  {
   "cell_type": "code",
   "execution_count": null,
   "metadata": {},
   "outputs": [],
   "source": [
    "small_sym_poly = HPolyhedron(sym_poly.A(), sym_poly.b() + .99 * eps_min_vect)\n",
    "visualizer.plot_regions([small_sym_poly], region_suffix = 'bil_small_sym')"
   ]
  },
  {
   "cell_type": "code",
   "execution_count": null,
   "metadata": {},
   "outputs": [],
   "source": [
    "print(eps_min_vect)\n",
    "print(small_sym_poly.MaximumVolumeInscribedEllipsoid().Volume())\n",
    "print(small_sym_poly.PointInSet(compare_seed))\n",
    "print(small_sym_poly.ContainedInOtherHPolyhedron(iris_reg))\n",
    "print(iris_reg.PointInSet(compare_seed))"
   ]
  },
  {
   "cell_type": "code",
   "execution_count": null,
   "metadata": {
    "scrolled": true
   },
   "outputs": [],
   "source": [
    "r_new = inner_approx_HPoly_bilinear_alternation(iris_reg, small_sym_poly, compare_seed, maxit = 40)\n",
    "visualizer.plot_regions([r_new], region_suffix = 'bil_new')\n",
    "print(r_new.MaximumVolumeInscribedEllipsoid().Volume())\n",
    "print(r_new.PointInSet(compare_seed))\n",
    "print(r_new.ContainedInOtherHPolyhedron(iris_reg))"
   ]
  },
  {
   "cell_type": "code",
   "execution_count": null,
   "metadata": {},
   "outputs": [],
   "source": [
    "for r_new in regions_new:\n",
    "    print(f'max inscribed ellipse volume: {r_new.MaximumVolumeInscribedEllipsoid().Volume()}')\n",
    "    print(r_new.PointInSet(compare_seed))\n",
    "    print('contained', r_new.ContainedInOtherHPolyhedron(iris_reg))\n",
    "visualizer.plot_regions(regions_new, region_suffix = 'bil_regions_new4')\n"
   ]
  },
  {
   "cell_type": "code",
   "execution_count": null,
   "metadata": {},
   "outputs": [],
   "source": [
    "visualizer.plot_regions([regions_new[-1]], region_suffix = 'end')"
   ]
  },
  {
   "cell_type": "code",
   "execution_count": null,
   "metadata": {},
   "outputs": [],
   "source": [
    "iris_reg.A().shape"
   ]
  },
  {
   "cell_type": "code",
   "execution_count": null,
   "metadata": {},
   "outputs": [],
   "source": []
  }
 ],
 "metadata": {
  "interpreter": {
   "hash": "916dbcbb3f70747c44a77c7bcd40155683ae19c65e1c03b4aa3499c5328201f1"
  },
  "kernelspec": {
   "display_name": "Python 3",
   "language": "python",
   "name": "python3"
  },
  "language_info": {
   "codemirror_mode": {
    "name": "ipython",
    "version": 3
   },
   "file_extension": ".py",
   "mimetype": "text/x-python",
   "name": "python",
   "nbconvert_exporter": "python",
   "pygments_lexer": "ipython3",
   "version": "3.8.10"
  }
 },
 "nbformat": 4,
 "nbformat_minor": 2
}
