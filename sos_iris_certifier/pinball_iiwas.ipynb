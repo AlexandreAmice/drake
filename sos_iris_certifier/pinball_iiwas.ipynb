{
 "cells": [
  {
   "cell_type": "code",
   "execution_count": 1,
   "metadata": {},
   "outputs": [],
   "source": [
    "%load_ext autoreload"
   ]
  },
  {
   "cell_type": "code",
   "execution_count": 2,
   "metadata": {},
   "outputs": [],
   "source": [
    "from certified_iris_generator import CertifiedIrisRegionGenerator\n",
    "import sys\n",
    "import os\n",
    "import time\n",
    "import numpy as np\n",
    "from functools import partial\n",
    "import itertools\n",
    "import mcubes\n",
    "import visualizations_utils as viz_utils\n",
    "import iris_utils #TODO remove\n",
    "from iris_plant_visualizer import IrisPlantVisualizer\n",
    "import ipywidgets as widgets\n",
    "from IPython.display import display\n",
    "from sandbox import rrtiris"
   ]
  },
  {
   "cell_type": "code",
   "execution_count": 3,
   "metadata": {},
   "outputs": [],
   "source": [
    "#pydrake imports\n",
    "from pydrake.common import FindResourceOrThrow\n",
    "from pydrake.multibody.parsing import LoadModelDirectives, Parser, ProcessModelDirectives\n",
    "from pydrake.multibody.plant import MultibodyPlant, AddMultibodyPlantSceneGraph\n",
    "from pydrake.systems.framework import DiagramBuilder\n",
    "from pydrake.all import InverseKinematics, RevoluteJoint, RationalForwardKinematics\n",
    "from pydrake.geometry.optimization import IrisOptionsRationalSpace, IrisInRationalConfigurationSpace, HPolyhedron, Hyperellipsoid\n",
    "from pydrake.geometry import Role, GeometrySet, CollisionFilterDeclaration\n",
    "import pydrake.symbolic as sym\n",
    "from pydrake.all import MathematicalProgram, RigidTransform, RollPitchYaw\n",
    "import meshcat"
   ]
  },
  {
   "cell_type": "markdown",
   "metadata": {},
   "source": [
    "# Build Plant\n"
   ]
  },
  {
   "cell_type": "code",
   "execution_count": 4,
   "metadata": {},
   "outputs": [],
   "source": [
    "q0 = [0.0, 0.0, 0.0]\n",
    "q_low  = [-1.7, -2., -1.7]\n",
    "q_high = [ 1.7,  2.,  1.7]\n"
   ]
  },
  {
   "cell_type": "code",
   "execution_count": 5,
   "metadata": {},
   "outputs": [],
   "source": [
    "builder = DiagramBuilder()\n",
    "plant, scene_graph = AddMultibodyPlantSceneGraph(builder, time_step=0.001)\n",
    "parser = Parser(plant)\n",
    "oneDOF_iiwa_asset = FindResourceOrThrow(\"drake/sos_iris_certifier/assets/oneDOF_iiwa7_with_box_collision.sdf\")\n",
    "twoDOF_iiwa_asset = FindResourceOrThrow(\"drake/sos_iris_certifier/assets/twoDOF_iiwa7_with_box_collision.sdf\")"
   ]
  },
  {
   "cell_type": "code",
   "execution_count": 6,
   "metadata": {},
   "outputs": [],
   "source": [
    "box_asset = FindResourceOrThrow(\"drake/sos_iris_certifier/assets/box_small.urdf\")\n",
    "\n",
    "models = []\n",
    "models.append(parser.AddModelFromFile(box_asset))\n",
    "models.append(parser.AddModelFromFile(twoDOF_iiwa_asset))\n",
    "models.append(parser.AddModelFromFile(oneDOF_iiwa_asset))\n",
    "\n",
    "\n",
    "\n",
    "locs = [[0.,0.,0.],[0.,.5,0.],[0.,-.5,0.]]\n",
    "plant.WeldFrames(plant.world_frame(), plant.GetFrameByName(\"base\", models[0]), RigidTransform(locs[0]))\n",
    "plant.WeldFrames(plant.world_frame(), plant.GetFrameByName(\"iiwa_twoDOF_link_0\", models[1]), RigidTransform(RollPitchYaw([0,0, -np.pi/2]).ToRotationMatrix(), locs[1]))\n",
    "plant.WeldFrames(plant.world_frame(), plant.GetFrameByName(\"iiwa_oneDOF_link_0\", models[2]), RigidTransform(RollPitchYaw([0,0, -np.pi/2]).ToRotationMatrix(), locs[2]))\n",
    "\n",
    "\n",
    "plant.Finalize()\n",
    "\n",
    "idx = 0\n",
    "for model in models:\n",
    "    for joint_index in plant.GetJointIndices(model):\n",
    "        joint = plant.get_mutable_joint(joint_index)\n",
    "        if isinstance(joint, RevoluteJoint):\n",
    "            joint.set_default_angle(q0[idx])\n",
    "            joint.set_position_limits(lower_limits= np.array([q_low[idx]]), upper_limits= np.array([q_high[idx]]))\n",
    "            idx += 1\n",
    "        \n",
    "            \n",
    "#q_low = plant.GetPositionLowerLimits().tolist()\n",
    "#q_high = plant.GetPositionUpperLimits().tolist()\n",
    "\n",
    "Ratfk = RationalForwardKinematics(plant)\n"
   ]
  },
  {
   "cell_type": "code",
   "execution_count": 7,
   "metadata": {},
   "outputs": [
    {
     "name": "stdout",
     "output_type": "stream",
     "text": [
      "You can open the visualizer by visiting the following URL:\n",
      "http://127.0.0.1:7006/static/\n",
      "You can open the visualizer by visiting the following URL:\n",
      "http://127.0.0.1:7007/static/\n",
      "Connecting to meshcat-server at zmq_url=tcp://127.0.0.1:6006...\n",
      "You can open the visualizer by visiting the following URL:\n",
      "http://127.0.0.1:7006/static/\n",
      "Connected to meshcat-server.\n"
     ]
    }
   ],
   "source": [
    "do_viz = True\n",
    "visualizer = IrisPlantVisualizer(plant, builder, scene_graph, viz_role=Role.kProximity)\n",
    "diagram = visualizer.diagram\n",
    "visualizer.visualize_collision_constraint(N = 30)"
   ]
  },
  {
   "cell_type": "code",
   "execution_count": 8,
   "metadata": {
    "scrolled": false
   },
   "outputs": [
    {
     "data": {
      "application/vnd.jupyter.widget-view+json": {
       "model_id": "6f4b3048ff0b49c4a2ed0d322f5f0bc0",
       "version_major": 2,
       "version_minor": 0
      },
      "text/plain": [
       "FloatSlider(value=0.0, description='q0', max=1.7, min=-1.7)"
      ]
     },
     "metadata": {},
     "output_type": "display_data"
    },
    {
     "data": {
      "application/vnd.jupyter.widget-view+json": {
       "model_id": "010d8932aef24434afa25455df36cb47",
       "version_major": 2,
       "version_minor": 0
      },
      "text/plain": [
       "FloatSlider(value=0.0, description='q1', max=2.0, min=-2.0)"
      ]
     },
     "metadata": {},
     "output_type": "display_data"
    },
    {
     "data": {
      "application/vnd.jupyter.widget-view+json": {
       "model_id": "e7591227dd114cb690031afa7c091f15",
       "version_major": 2,
       "version_minor": 0
      },
      "text/plain": [
       "FloatSlider(value=0.0, description='q2', max=1.7, min=-1.7)"
      ]
     },
     "metadata": {},
     "output_type": "display_data"
    },
    {
     "data": {
      "text/html": [
       "\n",
       "            <div style=\"height: 400px; width: 100%; overflow-x: auto; overflow-y: hidden; resize: both\">\n",
       "            <iframe src=\"http://127.0.0.1:7006/static/\" style=\"width: 100%; height: 100%; border: none\"></iframe>\n",
       "            </div>\n",
       "            "
      ],
      "text/plain": [
       "<IPython.core.display.HTML object>"
      ]
     },
     "metadata": {},
     "output_type": "display_data"
    },
    {
     "data": {
      "text/html": [
       "\n",
       "            <div style=\"height: 400px; width: 100%; overflow-x: auto; overflow-y: hidden; resize: both\">\n",
       "            <iframe src=\"http://127.0.0.1:7007/static/\" style=\"width: 100%; height: 100%; border: none\"></iframe>\n",
       "            </div>\n",
       "            "
      ],
      "text/plain": [
       "<IPython.core.display.HTML object>"
      ]
     },
     "metadata": {},
     "output_type": "display_data"
    }
   ],
   "source": [
    "sliders = []\n",
    "sliders.append(widgets.FloatSlider(min=q_low[0], max=q_high[0], value=0, description='q0'))\n",
    "sliders.append(widgets.FloatSlider(min=q_low[1], max=q_high[1], value=0, description='q1'))\n",
    "sliders.append(widgets.FloatSlider(min=q_low[2], max=q_high[2], value=0, description='q2'))\n",
    "\n",
    "q = q0.copy()\n",
    "def handle_slider_change(change, idx):\n",
    "    q[idx] = change['new']\n",
    "    #print(q, end=\"\\r\")\n",
    "    visualizer.showres(q)\n",
    "    \n",
    "idx = 0\n",
    "for slider in sliders:\n",
    "    slider.observe(partial(handle_slider_change, idx = idx), names='value')\n",
    "    idx+=1\n",
    "\n",
    "for slider in sliders:\n",
    "    display(slider)\n",
    "\n",
    "visualizer.jupyter_cell()"
   ]
  },
  {
   "cell_type": "code",
   "execution_count": 9,
   "metadata": {
    "scrolled": true
   },
   "outputs": [
    {
     "name": "stdout",
     "output_type": "stream",
     "text": [
      "150 -> 150\n",
      "137 -> 150\n"
     ]
    }
   ],
   "source": [
    "#filter fused joints self collisions \n",
    "digaram = visualizer.diagram\n",
    "context = visualizer.diagram_context\n",
    "plant_context = visualizer.plant_context\n",
    "sg_context = scene_graph.GetMyContextFromRoot(context)\n",
    "inspector = scene_graph.model_inspector()\n",
    "\n",
    "pairs = scene_graph.get_query_output_port().Eval(sg_context).inspector().GetCollisionCandidates()\n",
    "print(len(inspector.GetCollisionCandidates()), \"->\", len(pairs))\n",
    "\n",
    "gids = [gid for gid in inspector.GetGeometryIds(GeometrySet(inspector.GetAllGeometryIds()), Role.kProximity)]\n",
    "get_name_of_gid = lambda gid : inspector.GetName(gid)\n",
    "gids.sort(key=get_name_of_gid)\n",
    "iiwa_oneDOF_gids = [gid for gid in gids if \"iiwa7_oneDOF::\" in get_name_of_gid(gid)]\n",
    "iiwa_twoDOF_gids = [gid for gid in gids if \"iiwa7_twoDOF::\" in get_name_of_gid(gid)]\n",
    "\n",
    "oneDOF_fused_col_geom = iiwa_oneDOF_gids[2:]\n",
    "iiwa_oneDOF_fused_set = GeometrySet(oneDOF_fused_col_geom)\n",
    "twoDOF_fused_col_geom = iiwa_twoDOF_gids[4:]\n",
    "iiwa_twoDOF_fused_set = GeometrySet(twoDOF_fused_col_geom)\n",
    "# print([get_name_of_gid(gid) for gid in oneDOF_fused_col_geom])\n",
    "# print([get_name_of_gid(gid) for gid in twoDOF_fused_col_geom])\n",
    "scene_graph.collision_filter_manager()\\\n",
    "            .Apply(CollisionFilterDeclaration().ExcludeWithin(iiwa_oneDOF_fused_set))\n",
    "scene_graph.collision_filter_manager()\\\n",
    "            .Apply(CollisionFilterDeclaration().ExcludeWithin(iiwa_twoDOF_fused_set))\n",
    "pairs = scene_graph.get_query_output_port().Eval(sg_context).inspector().GetCollisionCandidates()\n",
    "print(len(inspector.GetCollisionCandidates()), \"->\", len(pairs))"
   ]
  },
  {
   "cell_type": "markdown",
   "metadata": {},
   "source": [
    "# Setup IRIS Options and Generate Regions"
   ]
  },
  {
   "cell_type": "code",
   "execution_count": 35,
   "metadata": {},
   "outputs": [],
   "source": [
    "# seed_points_q = np.array([[0.0, 0, 0], # zero config\n",
    "#                         [0.0, -1.3, -1.3],  # start\n",
    "#                         [0.9, -1.5, -0.8]     # goal\n",
    "#                          ])\n",
    "seed_points_q = np.array([[0.0, 0, 0], # zero config\n",
    "                        [0.8, 1.3, -0.8],  # START: blue low green up\n",
    "                        [0.1, 0.9, -1.2],     # GOAL: green low other up\n",
    "                        [0.2, 1.6, -0.6],\n",
    "                        [0.5, -1.9, -0.9]\n",
    "                         ])[:,(0,1,2)]   # passing\n",
    "\n",
    "\n",
    "seed_points = np.array([Ratfk.ComputeTValue(seed_points_q[idx], np.zeros((3,)))\\\n",
    "                        for idx in range(seed_points_q.shape[0])])\n",
    "if do_viz:\n",
    "    visualizer.plot_seedpoints(seed_points)\n",
    "\n",
    "start = seed_points[1,:]\n",
    "goal = seed_points[2,:]\n",
    "\n",
    "#compute limits in t-space\n",
    "limits_t = []\n",
    "for q in [q_low, q_high]:\n",
    "    limits_t.append(Ratfk.ComputeTValue(np.array(q), np.zeros((3,)) ))\n",
    "    \n",
    "starting_poly = HPolyhedron.MakeBox(limits_t[0], limits_t[1])\n",
    "context = diagram.CreateDefaultContext()"
   ]
  },
  {
   "cell_type": "code",
   "execution_count": 36,
   "metadata": {},
   "outputs": [
    {
     "name": "stdout",
     "output_type": "stream",
     "text": [
      "[[ 1.00000000e+00  0.00000000e+00  0.00000000e+00]\n",
      " [ 0.00000000e+00  1.00000000e+00  0.00000000e+00]\n",
      " [ 0.00000000e+00  0.00000000e+00  1.00000000e+00]\n",
      " [-1.00000000e+00 -0.00000000e+00 -0.00000000e+00]\n",
      " [-0.00000000e+00 -1.00000000e+00 -0.00000000e+00]\n",
      " [-0.00000000e+00 -0.00000000e+00 -1.00000000e+00]\n",
      " [ 1.55625494e-08  4.95489590e-08  1.00000000e+00]\n",
      " [-9.01101183e-01  4.33608877e-01  4.99181102e-07]\n",
      " [-9.99938968e-01 -1.10480652e-02  2.23596261e-06]\n",
      " [ 7.57688004e-08  8.90282532e-08  1.00000000e+00]\n",
      " [-8.96784915e-01  4.42466740e-01 -6.35603468e-07]\n",
      " [ 1.08627953e-06 -4.68463205e-08  1.00000000e+00]\n",
      " [-8.94101373e-01  4.47864638e-01  1.04631744e-06]\n",
      " [ 3.31132200e-01 -1.66418629e-01 -9.28792929e-01]\n",
      " [ 2.73720612e-01 -1.38721523e-01 -9.51752786e-01]\n",
      " [ 3.26714414e-01 -1.65897897e-01 -9.30449128e-01]\n",
      " [ 3.67521492e-01 -1.87778998e-01 -9.10860582e-01]\n",
      " [ 8.41197495e-01 -4.03003561e-01  3.60520325e-01]]t <= [1.13833271 1.55740772 1.13833271 1.13833271 1.55740772 1.13833271\n",
      " 0.25155042 0.22498897 0.61955785 0.23181126 0.20341078 0.22973583\n",
      " 0.19854174 0.37987854 0.35556008 0.3280036  0.32021011 0.83744141]\n",
      "Completed region: 1/5\n",
      "[[ 1.00000000e+00  0.00000000e+00  0.00000000e+00]\n",
      " [ 0.00000000e+00  1.00000000e+00  0.00000000e+00]\n",
      " [ 0.00000000e+00  0.00000000e+00  1.00000000e+00]\n",
      " [-1.00000000e+00 -0.00000000e+00 -0.00000000e+00]\n",
      " [-0.00000000e+00 -1.00000000e+00 -0.00000000e+00]\n",
      " [-0.00000000e+00 -0.00000000e+00 -1.00000000e+00]\n",
      " [-8.96858864e-01  4.42316830e-01  4.38413959e-07]\n",
      " [-8.94176864e-01  4.47713900e-01 -1.99288103e-08]\n",
      " [ 2.64813404e-01 -1.57129402e-01 -9.51411694e-01]\n",
      " [ 2.65908719e-01 -1.57631996e-01 -9.51022979e-01]\n",
      " [ 2.85264426e-01 -1.67942223e-01 -9.43620484e-01]\n",
      " [ 3.18798366e-01 -1.84048206e-01 -9.29781619e-01]\n",
      " [-9.99940844e-01 -1.08769372e-02 -3.14458644e-07]\n",
      " [-1.89857827e-07 -3.24199862e-08  1.00000000e+00]\n",
      " [ 3.01591510e-01 -1.77266389e-01 -9.36813316e-01]\n",
      " [ 3.61117659e-01 -2.05943995e-01 -9.09494974e-01]\n",
      " [ 4.61044167e-08 -3.20904075e-08  1.00000000e+00]\n",
      " [ 8.71861194e-09 -4.46754708e-08  1.00000000e+00]\n",
      " [-2.65341733e-07  1.16590000e-07  1.00000000e+00]\n",
      " [ 8.40210459e-01 -3.91966304e-01  3.74711623e-01]]t <= [1.13833271 1.55740772 1.13833271 1.13833271 1.55740772 1.13833271\n",
      " 0.20340079 0.19852502 0.35090531 0.34990883 0.31624459 0.32426578\n",
      " 0.61933598 0.39744997 0.30145992 0.31762338 0.25155045 0.23181126\n",
      " 0.22973525 0.8378217 ]\n",
      "Completed region: 2/5\n",
      "[[ 1.00000000e+00  0.00000000e+00  0.00000000e+00]\n",
      " [ 0.00000000e+00  1.00000000e+00  0.00000000e+00]\n",
      " [ 0.00000000e+00  0.00000000e+00  1.00000000e+00]\n",
      " [-1.00000000e+00 -0.00000000e+00 -0.00000000e+00]\n",
      " [-0.00000000e+00 -1.00000000e+00 -0.00000000e+00]\n",
      " [-0.00000000e+00 -0.00000000e+00 -1.00000000e+00]\n",
      " [-9.04786223e-01  4.25866048e-01 -2.86155899e-07]\n",
      " [-9.99403820e-01 -3.45254067e-02 -4.16784151e-07]\n",
      " [-9.99370123e-01 -2.84439083e-02  2.12203200e-02]\n",
      " [ 1.81129050e-01  8.31814147e-17 -9.83459337e-01]\n",
      " [ 3.72945828e-01 -6.76743353e-02 -9.25381864e-01]\n",
      " [ 3.88974449e-01 -7.65433026e-02 -9.18063179e-01]\n",
      " [ 4.51765742e-01 -1.11881564e-01 -8.85093345e-01]\n",
      " [ 4.43152988e-01 -1.12932812e-01 -8.89304003e-01]\n",
      " [ 4.56198233e-01 -1.20368148e-01 -8.81699882e-01]\n",
      " [ 4.97903365e-01 -1.44459266e-01 -8.55116226e-01]\n",
      " [ 6.13511676e-01 -2.14416395e-01 -7.60019100e-01]\n",
      " [ 7.54275530e-01 -3.11755358e-01 -5.77820925e-01]\n",
      " [-5.71883934e-01  3.94893693e-01 -7.19032501e-01]\n",
      " [ 8.30877948e-01 -4.15654741e-01 -3.69963474e-01]\n",
      " [-5.06580923e-07  2.41839511e-07  1.00000000e+00]\n",
      " [ 8.82297860e-07 -2.26770898e-07  1.00000000e+00]\n",
      " [ 5.42184643e-08  4.03289307e-08  1.00000000e+00]\n",
      " [-9.54151295e-07  8.22810025e-07  1.00000000e+00]]t <= [1.13833271 1.55740772 1.13833271 1.13833271 1.55740772 1.13833271\n",
      " 0.19524316 0.64872438 0.63584775 0.5880384  0.55560781 0.55075787\n",
      " 0.53018939 0.52627364 0.52161025 0.5059324  0.45604115 0.3808515\n",
      " 0.59310793 0.29721841 0.39744992 0.25155041 0.23181143 0.22973536]\n",
      "Completed region: 3/5\n",
      "[[ 1.00000000e+00  0.00000000e+00  0.00000000e+00]\n",
      " [ 0.00000000e+00  1.00000000e+00  0.00000000e+00]\n",
      " [ 0.00000000e+00  0.00000000e+00  1.00000000e+00]\n",
      " [-1.00000000e+00 -0.00000000e+00 -0.00000000e+00]\n",
      " [-0.00000000e+00 -1.00000000e+00 -0.00000000e+00]\n",
      " [-0.00000000e+00 -0.00000000e+00 -1.00000000e+00]\n",
      " [-9.18509424e-01  3.95399088e-01 -5.84163414e-07]\n",
      " [-9.95274660e-01 -9.70996960e-02  5.15593091e-07]\n",
      " [ 1.31289602e-07 -8.75505078e-08  1.00000000e+00]\n",
      " [-5.24412493e-08  3.79620313e-08  1.00000000e+00]\n",
      " [-9.70017304e-08  6.78864174e-08  1.00000000e+00]\n",
      " [ 2.20294255e-01 -1.01100481e-01 -9.70179949e-01]\n",
      " [ 2.31843509e-01 -1.07640365e-01 -9.66779261e-01]\n",
      " [ 2.65925086e-01 -1.27040259e-01 -9.55586009e-01]\n",
      " [ 3.64613723e-01 -1.84248955e-01 -9.12748134e-01]\n",
      " [ 2.08547161e-01 -9.44636625e-02 -9.73439622e-01]\n",
      " [ 2.10998406e-01 -9.58465368e-02 -9.72775984e-01]\n",
      " [ 2.98471254e-01 -1.57407501e-01 -9.41348920e-01]\n",
      " [ 3.13339262e-01 -1.69805824e-01 -9.34336389e-01]\n",
      " [-5.12995466e-01  3.72455111e-01 -7.73377555e-01]\n",
      " [-3.81019590e-01  1.69047258e-01 -9.08981351e-01]\n",
      " [-5.51206257e-07  3.84969436e-07  1.00000000e+00]\n",
      " [-1.39239767e-02  2.97621917e-02 -9.99460022e-01]\n",
      " [-1.38100366e-02  2.97007270e-02 -9.99463431e-01]\n",
      " [-1.36972566e-02  2.96384939e-02 -9.99466830e-01]\n",
      " [-1.35843510e-02  2.95763027e-02 -9.99470214e-01]\n",
      " [-1.34715965e-02  2.95139793e-02 -9.99473582e-01]\n",
      " [ 3.49319141e-01 -1.79952465e-01 -9.19561443e-01]\n",
      " [ 3.57554333e-01 -1.84899517e-01 -9.15405412e-01]\n",
      " [ 3.74946539e-01 -1.95406733e-01 -9.06218131e-01]\n",
      " [ 4.13755453e-01 -2.19180001e-01 -8.83609955e-01]\n",
      " [ 4.82596094e-01 -2.62814545e-01 -8.35481612e-01]\n",
      " [ 5.58191063e-01 -3.14241708e-01 -7.67902914e-01]\n",
      " [ 4.16280768e-01 -2.24837230e-01 -8.80998605e-01]\n",
      " [ 4.22526537e-01 -2.28776192e-01 -8.77002155e-01]\n",
      " [ 4.32456380e-01 -2.35073372e-01 -8.70472279e-01]\n",
      " [ 4.49121882e-01 -2.45741782e-01 -8.59011357e-01]\n",
      " [ 4.75260255e-01 -2.62763162e-01 -8.39692331e-01]\n",
      " [ 5.09380317e-01 -2.85625789e-01 -8.11757107e-01]\n",
      " [ 6.90797759e-01 -4.47257390e-01 -5.68119075e-01]\n",
      " [ 6.73710409e-01 -4.37771904e-01 -5.95373869e-01]]t <= [1.13833271 1.55740772 1.13833271 1.13833271 1.55740772 1.13833271\n",
      " 0.18808859 0.71726263 0.39745004 0.25155041 0.23181122 0.52108294\n",
      " 0.51846796 0.51051006 0.48563561 0.52370019 0.52315466 0.47558794\n",
      " 0.46849386 0.67492273 0.56621526 0.22973524 0.55831392 0.55829315\n",
      " 0.55827124 0.55824941 0.55822739 0.46791315 0.46550153 0.46034392\n",
      " 0.44853405 0.42663595 0.40103642 0.44226074 0.44016376 0.43680492\n",
      " 0.43110211 0.42198762 0.40975815 0.33441288 0.33149365]\n",
      "Completed region: 4/5\n",
      "[[ 1.00000000e+00  0.00000000e+00  0.00000000e+00]\n",
      " [ 0.00000000e+00  1.00000000e+00  0.00000000e+00]\n",
      " [ 0.00000000e+00  0.00000000e+00  1.00000000e+00]\n",
      " [-1.00000000e+00 -0.00000000e+00 -0.00000000e+00]\n",
      " [-0.00000000e+00 -1.00000000e+00 -0.00000000e+00]\n",
      " [-0.00000000e+00 -0.00000000e+00 -1.00000000e+00]\n",
      " [ 2.03533859e-01  1.69264418e-01 -9.64325425e-01]\n",
      " [ 4.57753145e-02 -1.58936782e-02 -9.98825316e-01]\n",
      " [ 2.96516534e-02 -2.51959334e-03 -9.99557117e-01]\n",
      " [ 5.88685246e-02  6.20856172e-02 -9.96333214e-01]\n",
      " [ 5.88776589e-02  6.20934367e-02 -9.96332187e-01]\n",
      " [ 7.45615912e-01  9.25064839e-02  6.59923830e-01]\n",
      " [-9.93899164e-01 -1.10292576e-01 -1.95738085e-06]\n",
      " [-6.59969230e-08 -5.84781761e-10  1.00000000e+00]\n",
      " [ 9.76152331e-01  1.18013424e-01 -1.82207187e-01]\n",
      " [ 9.76172252e-01  1.18003474e-01 -1.82106877e-01]\n",
      " [ 9.55150485e-01 -2.96120837e-01  1.33512186e-09]\n",
      " [ 9.47935351e-01 -3.18462823e-01 -4.91624276e-08]\n",
      " [ 4.87878507e-08 -5.81183254e-08  1.00000000e+00]\n",
      " [-8.40948792e-01  5.41114710e-01  9.22418608e-08]\n",
      " [ 9.24640182e-10  2.55671111e-09  1.00000000e+00]\n",
      " [-8.57275555e-07  2.76411111e-07  1.00000000e+00]\n",
      " [-8.31161403e-01  5.56031224e-01 -8.08489264e-07]]t <= [1.13833271 1.55740772 1.13833271 1.13833271 1.55740772 1.13833271\n",
      " 0.18012769 0.46510183 0.45021844 0.29553549 0.2955176  0.73879288\n",
      " 0.73042171 0.39744997 0.89132496 0.89134412 0.94416273 0.92719867\n",
      " 0.25155028 0.19722657 0.23181124 0.22973502 0.18040405]\n",
      "Completed region: 5/5\n"
     ]
    }
   ],
   "source": [
    "regions = []\n",
    "\n",
    "iris_options = IrisOptionsRationalSpace()\n",
    "iris_options.require_sample_point_is_contained = True\n",
    "iris_options.iteration_limit = 20\n",
    "iris_options.configuration_space_margin = 1e-5\n",
    "iris_options.max_faces_per_collision_pair = 60\n",
    "iris_options.termination_threshold = -1\n",
    "iris_options.q_star = np.zeros(3)\n",
    "iris_options.relative_termination_threshold = 0.05\n",
    "iris_options.enable_ibex = False\n",
    "#deprecated\n",
    "iris_options.certify_region_with_sos_during_generation = False\n",
    "iris_options.certify_region_with_sos_after_generation = False\n",
    "\n",
    "for i, s in enumerate(seed_points):\n",
    "    plant.SetPositions(plant.GetMyMutableContextFromRoot(context), s)\n",
    "    if False:\n",
    "        #starting_hpolyhedron = regions[i-1]\n",
    "        r = IrisInRationalConfigurationSpace (plant, plant.GetMyContextFromRoot(context),\n",
    "                                              iris_options, starting_hpolyhedron)\n",
    "    else:\n",
    "        r = IrisInRationalConfigurationSpace(plant, plant.GetMyContextFromRoot(context), iris_options)\n",
    "    print(f\"{r.A()}t <= {r.b()}\")\n",
    "    regions.append(r)\n",
    "    print(f'Completed region: {i+1}/{len(seed_points)}')"
   ]
  },
  {
   "cell_type": "code",
   "execution_count": 37,
   "metadata": {},
   "outputs": [],
   "source": [
    "if do_viz:\n",
    "    visualizer.plot_regions(regions, ellipses=None, region_suffix='original')"
   ]
  },
  {
   "cell_type": "code",
   "execution_count": 38,
   "metadata": {},
   "outputs": [],
   "source": [
    "import pydrake.multibody.rational_forward_kinematics as rational_forward_kinematics\n",
    "from pydrake.multibody.rational_forward_kinematics import FindEpsilonLower\n",
    "from pydrake.solvers import mathematicalprogram as mp\n",
    "cspace_free_region = rational_forward_kinematics.CspaceFreeRegion(diagram, plant, scene_graph,\n",
    "                                   rational_forward_kinematics.SeparatingPlaneOrder.kAffine,\n",
    "                                   rational_forward_kinematics.CspaceRegionType.kGenericPolytope)\n",
    "\n",
    "edited_regions = []\n",
    "filtered_collision_pairs = set()\n",
    "\n",
    "binary_search_options = rational_forward_kinematics.BinarySearchOption()\n",
    "binary_search_options.epsilon_max = 5.0\n",
    "binary_search_options.epsilon_min = -.12\n",
    "binary_search_options.max_iters = 5\n",
    "binary_search_options.search_d = True\n",
    "bilinear_alternation_option = rational_forward_kinematics.BilinearAlternationOption()\n",
    "bilinear_alternation_option.max_iters = 20\n",
    "bilinear_alternation_option.lagrangian_backoff_scale = 1e-6\n",
    "bilinear_alternation_option.polytope_backoff_scale = 1e-6\n",
    "\n",
    "\n",
    "solver_options = mp.SolverOptions()\n",
    "solver_options.SetOption(mp.CommonSolverOption.kPrintToConsole, 1)\n",
    "\n",
    "def iris_handle(seed, domain):\n",
    "    seed_q = Ratfk.ComputeQValue(seed, np.zeros((3,))) \n",
    "    plant.SetPositions(plant.GetMyMutableContextFromRoot(context), seed_q)\n",
    "    region = IrisInRationalConfigurationSpace(plant, plant.GetMyContextFromRoot(context),\n",
    "                                              iris_options, domain)\n",
    "    ellipse = region.MaximumVolumeInscribedEllipsoid()\n",
    "    C = ellipse.A()\n",
    "    radii2, R  =  np.linalg.eig(C.T @ C)\n",
    "    radii = np.sqrt(radii2)\n",
    "    binary_search_options.epsilon_min = FindEpsilonLower(limits_t[0], limits_t[1], region.A(), region.b())\n",
    "    print(\"[IRIS +  CERT]: Eps min\", binary_search_options.epsilon_min)\n",
    "    print(\"[IRIS +  CERT]: Region found, vol = \", ellipse.Volume(), \", halfaxis: \", radii)\n",
    "    b_feasible = cspace_free_region.CspacePolytopeBinarySearch(\n",
    "                 iris_options.q_star, filtered_collision_pairs, region.A(), region.b(),\n",
    "                 binary_search_options, solver_options)\n",
    "    \n",
    "#     C_final, d_final, P_final, q_final = \\\n",
    "#         cspace_free_region.CspacePolytopeBilinearAlternation(\n",
    "#             iris_options.q_star, filtered_collision_pairs, region.A(), b_feasible,\n",
    "#            bilinear_alternation_option, solver_options)\n",
    "#     C_final = np.vstack([C_final, P_joint_limits.A()])\n",
    "#     d_final = np.concatenate([d_final, P_joint_limits.b()])\n",
    "#     editted_regions.append(HPolyhedron(C_final, d_final))\n",
    "    return region, HPolyhedron(region.A(), b_feasible) "
   ]
  },
  {
   "cell_type": "code",
   "execution_count": 39,
   "metadata": {},
   "outputs": [
    {
     "name": "stderr",
     "output_type": "stream",
     "text": [
      "[2022-01-28 10:04:39.526] [console] [info] Solver time 1.2997000217437744\n",
      "[2022-01-28 10:04:42.106] [console] [info] Solver time 1.0446739196777344\n"
     ]
    },
    {
     "name": "stdout",
     "output_type": "stream",
     "text": [
      "[IRIS +  CERT]: Eps min -0.2652286679481278\n",
      "[IRIS +  CERT]: Region found, vol =  0.6819787390374958 , halfaxis:  [4.86595118 2.17555524 0.58020292]\n"
     ]
    },
    {
     "name": "stderr",
     "output_type": "stream",
     "text": [
      "[2022-01-28 10:04:44.651] [console] [info] Solver time 1.228912115097046\n",
      "[2022-01-28 10:04:44.692] [console] [info] epsilon=2.3673856660259363 is infeasible\n",
      "[2022-01-28 10:04:48.317] [console] [info] Solver time 1.863494873046875\n",
      "[2022-01-28 10:04:48.361] [console] [info] epsilon=1.0510784990389042 is infeasible\n",
      "[2022-01-28 10:04:53.483] [console] [info] Solver time 2.682873010635376\n",
      "[2022-01-28 10:04:53.530] [console] [info] epsilon=0.39292491554538816 is infeasible\n",
      "[2022-01-28 10:04:58.577] [console] [info] Solver time 2.477357864379883\n",
      "[2022-01-28 10:04:58.642] [console] [info] epsilon=0.06384812379863017 is infeasible\n",
      "[2022-01-28 10:05:02.844] [console] [info] Solver time 1.9119389057159424\n",
      "[2022-01-28 10:05:02.894] [console] [info] epsilon=-0.10069027207474883 is infeasible\n"
     ]
    },
    {
     "name": "stdout",
     "output_type": "stream",
     "text": [
      "[IRIS +  CERT]: Eps min -0.29420562277149487\n",
      "[IRIS +  CERT]: Region found, vol =  0.5535987103063078 , halfaxis:  [4.69487125 2.58579857 0.62326848]\n"
     ]
    },
    {
     "name": "stderr",
     "output_type": "stream",
     "text": [
      "[2022-01-28 10:05:08.510] [console] [info] Solver time 1.2431840896606445\n",
      "[2022-01-28 10:05:11.020] [console] [info] Solver time 0.7933089733123779\n",
      "[2022-01-28 10:05:14.021] [console] [info] Solver time 1.4338359832763672\n",
      "[2022-01-28 10:05:14.066] [console] [info] epsilon=2.3528971886142527 is infeasible\n",
      "[2022-01-28 10:05:18.228] [console] [info] Solver time 2.0333070755004883\n",
      "[2022-01-28 10:05:18.281] [console] [info] epsilon=1.029345782921379 is infeasible\n",
      "[2022-01-28 10:05:25.007] [console] [info] Solver time 3.162363052368164\n",
      "[2022-01-28 10:05:25.068] [console] [info] epsilon=0.3675700800749421 is infeasible\n",
      "[2022-01-28 10:05:31.054] [console] [info] Solver time 2.8076210021972656\n",
      "[2022-01-28 10:05:31.119] [console] [info] epsilon=0.0366822286517236 is infeasible\n",
      "[2022-01-28 10:05:38.635] [console] [info] Solver time 1.8688910007476807\n",
      "[2022-01-28 10:05:38.743] [console] [info] epsilon=-0.12876169705988563 is feasible\n",
      "[2022-01-28 10:05:38.745] [console] [info] reset eps_min=0.0, eps_max=0.16544392571160937\n"
     ]
    },
    {
     "name": "stdout",
     "output_type": "stream",
     "text": [
      "[IRIS +  CERT]: Eps min -0.18879697349162416\n",
      "[IRIS +  CERT]: Region found, vol =  0.2809376750763851 , halfaxis:  [6.30904723 1.28918146 1.83316179]\n"
     ]
    },
    {
     "name": "stderr",
     "output_type": "stream",
     "text": [
      "[2022-01-28 10:05:42.825] [console] [info] Solver time 1.212691068649292\n",
      "[2022-01-28 10:05:45.236] [console] [info] Solver time 0.7653758525848389\n",
      "[2022-01-28 10:05:48.017] [console] [info] Solver time 1.240004062652588\n",
      "[2022-01-28 10:05:48.079] [console] [info] epsilon=2.405601513254188 is infeasible\n",
      "[2022-01-28 10:05:52.281] [console] [info] Solver time 1.9871110916137695\n",
      "[2022-01-28 10:05:52.335] [console] [info] epsilon=1.1084022698812819 is infeasible\n",
      "[2022-01-28 10:05:59.424] [console] [info] Solver time 3.7420270442962646\n",
      "[2022-01-28 10:05:59.485] [console] [info] epsilon=0.45980264819482886 is infeasible\n",
      "[2022-01-28 10:06:06.328] [console] [info] Solver time 3.4925050735473633\n",
      "[2022-01-28 10:06:06.405] [console] [info] epsilon=0.13550283735160235 is infeasible\n",
      "[2022-01-28 10:06:11.982] [console] [info] Solver time 2.3900768756866455\n",
      "[2022-01-28 10:06:12.042] [console] [info] epsilon=-0.02664706807001091 is infeasible\n",
      "[2022-01-28 10:06:16.107] [console] [info] Solver time 1.2343249320983887\n"
     ]
    },
    {
     "name": "stdout",
     "output_type": "stream",
     "text": [
      "[IRIS +  CERT]: Eps min -0.3723186551818972\n",
      "[IRIS +  CERT]: Region found, vol =  0.43219436206092116 , halfaxis:  [3.9707394  1.96475249 1.24231085]\n"
     ]
    },
    {
     "name": "stderr",
     "output_type": "stream",
     "text": [
      "[2022-01-28 10:06:18.854] [console] [info] Solver time 0.821234941482544\n",
      "[2022-01-28 10:06:21.850] [console] [info] Solver time 1.261733055114746\n",
      "[2022-01-28 10:06:21.904] [console] [info] epsilon=2.3138406724090514 is infeasible\n",
      "[2022-01-28 10:06:27.076] [console] [info] Solver time 2.3649940490722656\n",
      "[2022-01-28 10:06:27.138] [console] [info] epsilon=0.9707610086135772 is infeasible\n",
      "[2022-01-28 10:06:37.594] [console] [info] Solver time 5.340476036071777\n",
      "[2022-01-28 10:06:37.666] [console] [info] epsilon=0.29922117671584 is infeasible\n",
      "[2022-01-28 10:06:50.545] [console] [info] Solver time 3.169828176498413\n",
      "[2022-01-28 10:06:50.665] [console] [info] epsilon=-0.03654873923302862 is feasible\n",
      "[2022-01-28 10:06:50.666] [console] [info] reset eps_min=0.0, eps_max=0.3357699159488686\n",
      "[2022-01-28 10:07:00.667] [console] [info] Solver time 4.772485017776489\n",
      "[2022-01-28 10:07:00.740] [console] [info] epsilon=0.1678849579744343 is infeasible\n",
      "[2022-01-28 10:07:06.647] [console] [info] Solver time 1.4075300693511963\n"
     ]
    },
    {
     "name": "stdout",
     "output_type": "stream",
     "text": [
      "[IRIS +  CERT]: Eps min -0.33868521538628993\n",
      "[IRIS +  CERT]: Region found, vol =  0.43617411313252785 , halfaxis:  [3.98248604 1.65632853 1.45588804]\n"
     ]
    },
    {
     "name": "stderr",
     "output_type": "stream",
     "text": [
      "[2022-01-28 10:07:09.547] [console] [info] Solver time 0.7495331764221191\n",
      "[2022-01-28 10:07:12.850] [console] [info] Solver time 1.3995280265808105\n",
      "[2022-01-28 10:07:12.908] [console] [info] epsilon=2.330657392306855 is infeasible\n",
      "[2022-01-28 10:07:19.008] [console] [info] Solver time 2.8988308906555176\n",
      "[2022-01-28 10:07:19.106] [console] [info] epsilon=0.9959860884602825 is infeasible\n",
      "[2022-01-28 10:07:28.942] [console] [info] Solver time 4.733088970184326\n",
      "[2022-01-28 10:07:29.023] [console] [info] epsilon=0.32865043653699627 is infeasible\n",
      "[2022-01-28 10:07:37.281] [console] [info] Solver time 4.008227109909058\n",
      "[2022-01-28 10:07:37.378] [console] [info] epsilon=-0.005017389424646829 is infeasible\n",
      "[2022-01-28 10:07:45.194] [console] [info] Solver time 1.7212021350860596\n",
      "[2022-01-28 10:07:45.330] [console] [info] epsilon=-0.17185130240546836 is feasible\n",
      "[2022-01-28 10:07:45.331] [console] [info] reset eps_min=0.0, eps_max=0.16683391298082162\n"
     ]
    }
   ],
   "source": [
    "#refine with CPP code:\n",
    "cpp_editted_regions = []\n",
    "for i in range(seed_points.shape[0]):\n",
    "    s = seed_points[i,:]\n",
    "    region_init = regions[i]\n",
    "    region_init, region = iris_handle(s, region_init)\n",
    "    cpp_editted_regions.append(region)"
   ]
  },
  {
   "cell_type": "code",
   "execution_count": null,
   "metadata": {},
   "outputs": [],
   "source": [
    "if do_viz:\n",
    "    visualizer.plot_regions(cpp_editted_regions, ellipses=None, region_suffix='cpp_editted_regions')"
   ]
  },
  {
   "cell_type": "code",
   "execution_count": null,
   "metadata": {},
   "outputs": [],
   "source": [
    "#setup refine with python\n",
    "iris_generator = CertifiedIrisRegionGenerator(visualizer.diagram, plant, scene_graph, **iris_kwargs)\n",
    "iris_generator.regions = regions\n",
    "iris_generator.initalize_certifier(plane_order = 1, strict_pos_tol = 1e-4)"
   ]
  },
  {
   "cell_type": "code",
   "execution_count": null,
   "metadata": {},
   "outputs": [],
   "source": [
    "# refine with python\n",
    "do_linesearch_cert = True\n",
    "if do_linesearch_cert:\n",
    "    iris_generator.certify_and_adjust_regions_by_linesearch(1e-5)"
   ]
  },
  {
   "cell_type": "code",
   "execution_count": null,
   "metadata": {},
   "outputs": [],
   "source": [
    "if do_viz:\n",
    "    visualizer.plot_regions(iris_generator.linesearch_regions, region_suffix = '_new_by_linesearch')"
   ]
  },
  {
   "cell_type": "code",
   "execution_count": null,
   "metadata": {},
   "outputs": [],
   "source": [
    "\n"
   ]
  },
  {
   "cell_type": "code",
   "execution_count": null,
   "metadata": {},
   "outputs": [],
   "source": []
  }
 ],
 "metadata": {
  "interpreter": {
   "hash": "916dbcbb3f70747c44a77c7bcd40155683ae19c65e1c03b4aa3499c5328201f1"
  },
  "kernelspec": {
   "display_name": "Python 3",
   "language": "python",
   "name": "python3"
  },
  "language_info": {
   "codemirror_mode": {
    "name": "ipython",
    "version": 3
   },
   "file_extension": ".py",
   "mimetype": "text/x-python",
   "name": "python",
   "nbconvert_exporter": "python",
   "pygments_lexer": "ipython3",
   "version": "3.8.10"
  }
 },
 "nbformat": 4,
 "nbformat_minor": 2
}
