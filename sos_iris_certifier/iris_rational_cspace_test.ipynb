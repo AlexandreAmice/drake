{
 "cells": [
  {
   "cell_type": "code",
   "execution_count": 1,
   "metadata": {},
   "outputs": [],
   "source": [
    "\n",
    "from certified_iris_generator import CertifiedIrisRegionGenerator\n",
    "import sys\n",
    "import os\n",
    "import time\n",
    "import numpy as np\n",
    "from functools import partial\n",
    "import itertools\n",
    "import mcubes\n",
    "import visualizations_utils as viz_utils\n",
    "import iris_utils #TODO remove\n",
    "from iris_plant_visualizer import IrisPlantVisualizer"
   ]
  },
  {
   "cell_type": "code",
   "execution_count": 2,
   "metadata": {},
   "outputs": [],
   "source": [
    "#pydrake imports\n",
    "from pydrake.common import FindResourceOrThrow\n",
    "from pydrake.multibody.parsing import LoadModelDirectives, Parser, ProcessModelDirectives\n",
    "from pydrake.multibody.plant import MultibodyPlant, AddMultibodyPlantSceneGraph\n",
    "from pydrake.systems.framework import DiagramBuilder\n",
    "from pydrake.all import InverseKinematics, RevoluteJoint, RationalForwardKinematics\n",
    "from pydrake.geometry.optimization import IrisOptionsRationalSpace, IrisInRationalConfigurationSpace, HPolyhedron, Hyperellipsoid\n",
    "import pydrake.symbolic as sym\n",
    "from pydrake.all import MathematicalProgram, le, Solve\n",
    "import meshcat"
   ]
  },
  {
   "cell_type": "markdown",
   "metadata": {},
   "source": [
    "# Build plant"
   ]
  },
  {
   "cell_type": "code",
   "execution_count": 3,
   "metadata": {},
   "outputs": [],
   "source": [
    "builder = DiagramBuilder()\n",
    "plant, scene_graph = AddMultibodyPlantSceneGraph(builder, time_step=0.001)\n",
    "parser = Parser(plant)\n",
    "parser.package_map().Add( \"wsg_50_description\", os.path.dirname(FindResourceOrThrow(\n",
    "            \"drake/manipulation/models/wsg_50_description/package.xml\")))\n",
    "\n",
    "simple_collision = True\n",
    "directives_file = FindResourceOrThrow(\"drake/sos_iris_certifier/planar_iiwa_simple_collision_welded_gripper.yaml\") \\\n",
    "    if simple_collision else FindResourceOrThrow(\"drake/sos_iris_certifier/planar_iiwa_dense_collision_welded_gripper.yaml\")\n",
    "directives = LoadModelDirectives(directives_file)\n",
    "models = ProcessModelDirectives(directives, plant, parser)\n",
    "\n",
    "q0 = [-0.2, -1.2, 1.6]\n",
    "index = 0\n",
    "for joint_index in plant.GetJointIndices(models[0].model_instance):\n",
    "    joint = plant.get_mutable_joint(joint_index)\n",
    "    if isinstance(joint, RevoluteJoint):\n",
    "        joint.set_default_angle(q0[index])\n",
    "        index += 1\n",
    "\n",
    "plant.Finalize()\n"
   ]
  },
  {
   "cell_type": "markdown",
   "metadata": {},
   "source": [
    "# Setup meshcat visualization"
   ]
  },
  {
   "cell_type": "code",
   "execution_count": 4,
   "metadata": {},
   "outputs": [
    {
     "name": "stdout",
     "output_type": "stream",
     "text": [
      "You can open the visualizer by visiting the following URL:\n",
      "http://127.0.0.1:7006/static/\n",
      "You can open the visualizer by visiting the following URL:\n",
      "http://127.0.0.1:7007/static/\n",
      "Connecting to meshcat-server at zmq_url=tcp://127.0.0.1:6006...\n",
      "You can open the visualizer by visiting the following URL:\n",
      "http://127.0.0.1:7006/static/\n",
      "Connected to meshcat-server.\n"
     ]
    }
   ],
   "source": [
    "do_viz = True\n",
    "visualizer = IrisPlantVisualizer(plant, builder, scene_graph)\n",
    "diagram = visualizer.diagram"
   ]
  },
  {
   "cell_type": "markdown",
   "metadata": {},
   "source": [
    "# Set up IRIS options"
   ]
  },
  {
   "cell_type": "code",
   "execution_count": 5,
   "metadata": {},
   "outputs": [],
   "source": [
    "iris_options = IrisOptionsRationalSpace()\n",
    "iris_options.require_sample_point_is_contained = True\n",
    "iris_options.iteration_limit = 5\n",
    "iris_options.configuration_space_margin = 1e-5\n",
    "iris_options.termination_threshold = -1\n",
    "iris_options.relative_termination_threshold = 0.05\n",
    "iris_options.enable_ibex = False\n",
    "iris_options.certify_region_with_sos_during_generation = False\n",
    "iris_options.certify_region_with_sos_after_generation = False\n",
    "# uncomment to test if non-default is working\n",
    "# currently throwing std::bad_alloc if we try to set q_star\n",
    "# iris_options.q_star = 0.5 * np.ones(3)\n",
    "\n",
    "\n",
    "#seed points specified in q space\n",
    "seed_points = np.array([\n",
    "                        [0.0, -2.016, 1.975], # in tight\n",
    "                        [-1, -2, 0.5],        # neutral pose\n",
    "                        [0.3, -0.8, 0.5],     # above shelf\n",
    "                        [0.25, -1.6, -0.25],  # in shelf 1\n",
    "                        [0.07, -1.8, -0.2],   # leaving shelf 1\n",
    "                        [-0.1, -2, -0.3]      # out of shelf 1\n",
    "                        ])\n"
   ]
  },
  {
   "cell_type": "code",
   "execution_count": 6,
   "metadata": {
    "scrolled": false
   },
   "outputs": [
    {
     "name": "stdout",
     "output_type": "stream",
     "text": [
      "Completed region: 1/6\n",
      "Completed region: 2/6\n",
      "Completed region: 3/6\n",
      "Completed region: 4/6\n",
      "Completed region: 5/6\n",
      "Completed region: 6/6\n"
     ]
    }
   ],
   "source": [
    "regions = []\n",
    "context = diagram.CreateDefaultContext()\n",
    "for i, s in enumerate(seed_points):\n",
    "    plant.SetPositions(plant.GetMyMutableContextFromRoot(context), s)\n",
    "    if i > 0:\n",
    "        starting_hpolyhedron = regions[i-1]\n",
    "        r = IrisInRationalConfigurationSpace (plant, plant.GetMyContextFromRoot(context),\n",
    "                                              iris_options, starting_hpolyhedron)\n",
    "    else:\n",
    "        r = IrisInRationalConfigurationSpace(plant, plant.GetMyContextFromRoot(context), iris_options)\n",
    "#     print(f\"{r.A()}t <= {r.b()}\")\n",
    "    regions.append(r)\n",
    "    print(f'Completed region: {i+1}/{len(seed_points)}')"
   ]
  },
  {
   "cell_type": "code",
   "execution_count": 7,
   "metadata": {},
   "outputs": [
    {
     "name": "stderr",
     "output_type": "stream",
     "text": [
      "/home/amice/.cache/bazel/_bazel_amice/32fdbbecfa8a7ce8feece95e48c42006/execroot/drake/bazel-out/k8-opt/bin/sos_iris_certifier/iris_rational_cspace_test.runfiles/drake/sos_iris_certifier/visualizations_utils.py:298: VisibleDeprecationWarning: Creating an ndarray from ragged nested sequences (which is a list-or-tuple of lists-or-tuples-or ndarrays with different lengths or shapes) is deprecated. If you meant to do this, you must specify 'dtype=object' when creating the ndarray.\n",
      "  facets = list(np.delete(np.array(facets_with_duplicates), np.array(remove_idxs)))\n"
     ]
    }
   ],
   "source": [
    "# plot regions and collision constraint\n",
    "if do_viz:\n",
    "    visualizer.plot_regions(regions)\n",
    "    visualizer.plot_seedpoints(np.tan(seed_points/2))\n",
    "    visualizer.visualize_collision_constraint(N = 50)"
   ]
  },
  {
   "cell_type": "code",
   "execution_count": 8,
   "metadata": {},
   "outputs": [],
   "source": [
    "rational_forward_kinematics = RationalForwardKinematics(plant)\n",
    "q_star = iris_options.q_star if iris_options.q_star is not None else np.zeros(plant.num_positions())"
   ]
  },
  {
   "cell_type": "code",
   "execution_count": 9,
   "metadata": {},
   "outputs": [
    {
     "ename": "NameError",
     "evalue": "name 'r_org' is not defined",
     "output_type": "error",
     "traceback": [
      "\u001b[0;31m---------------------------------------------------------------------------\u001b[0m",
      "\u001b[0;31mNameError\u001b[0m                                 Traceback (most recent call last)",
      "\u001b[0;32m<ipython-input-9-b60e0a241146>\u001b[0m in \u001b[0;36m<module>\u001b[0;34m\u001b[0m\n\u001b[1;32m      9\u001b[0m \u001b[0;34m\u001b[0m\u001b[0m\n\u001b[1;32m     10\u001b[0m \u001b[0;31m# starting_hpolyhedron_viz = starting_hpolyhedron.IrredundantIntersection(joint_limits)\u001b[0m\u001b[0;34m\u001b[0m\u001b[0;34m\u001b[0m\u001b[0;34m\u001b[0m\u001b[0m\n\u001b[0;32m---> 11\u001b[0;31m \u001b[0mregions2\u001b[0m \u001b[0;34m=\u001b[0m \u001b[0;34m[\u001b[0m\u001b[0mr_org\u001b[0m\u001b[0;34m,\u001b[0m \u001b[0mr_new\u001b[0m\u001b[0;34m,\u001b[0m \u001b[0mregions\u001b[0m\u001b[0;34m[\u001b[0m\u001b[0;36m1\u001b[0m\u001b[0;34m]\u001b[0m\u001b[0;34m]\u001b[0m\u001b[0;34m\u001b[0m\u001b[0;34m\u001b[0m\u001b[0m\n\u001b[0m\u001b[1;32m     12\u001b[0m \u001b[0;32mif\u001b[0m \u001b[0mdo_viz\u001b[0m\u001b[0;34m:\u001b[0m\u001b[0;34m\u001b[0m\u001b[0;34m\u001b[0m\u001b[0m\n\u001b[1;32m     13\u001b[0m     \u001b[0mvisualizer\u001b[0m\u001b[0;34m.\u001b[0m\u001b[0mplot_regions\u001b[0m\u001b[0;34m(\u001b[0m\u001b[0mregions2\u001b[0m\u001b[0;34m,\u001b[0m \u001b[0mregion_suffix\u001b[0m \u001b[0;34m=\u001b[0m \u001b[0;34m'2'\u001b[0m\u001b[0;34m)\u001b[0m\u001b[0;34m\u001b[0m\u001b[0;34m\u001b[0m\u001b[0m\n",
      "\u001b[0;31mNameError\u001b[0m: name 'r_org' is not defined"
     ]
    }
   ],
   "source": [
    "# starting_hpolyhedron = HPolyhedron(np.array([[0,1,0]]), np.array([-0.3]))\n",
    "# t_lower_limits = rational_forward_kinematics.ComputeTValue(plant.GetPositionLowerLimits(), q_star)\n",
    "# t_upper_limits = rational_forward_kinematics.ComputeTValue(plant.GetPositionUpperLimits(), q_star)\n",
    "# joint_limits = HPolyhedron.MakeBox(t_lower_limits, t_upper_limits)\n",
    "\n",
    "# plant.SetPositions(plant.GetMyMutableContextFromRoot(context), seed_points[2])\n",
    "# r = IrisInRationalConfigurationSpace(plant, plant.GetMyContextFromRoot(context),\n",
    "#                                               iris_options, starting_hpolyhedron)\n",
    "\n",
    "# starting_hpolyhedron_viz = starting_hpolyhedron.IrredundantIntersection(joint_limits)\n",
    "regions2 = [r_org, r_new, regions[1]]\n",
    "if do_viz:\n",
    "    visualizer.plot_regions(regions2, region_suffix = '2')"
   ]
  },
  {
   "cell_type": "code",
   "execution_count": null,
   "metadata": {},
   "outputs": [],
   "source": []
  }
 ],
 "metadata": {
  "kernelspec": {
   "display_name": "Python 3",
   "language": "python",
   "name": "python3"
  },
  "language_info": {
   "codemirror_mode": {
    "name": "ipython",
    "version": 3
   },
   "file_extension": ".py",
   "mimetype": "text/x-python",
   "name": "python",
   "nbconvert_exporter": "python",
   "pygments_lexer": "ipython3",
   "version": "3.8.10"
  }
 },
 "nbformat": 4,
 "nbformat_minor": 2
}
