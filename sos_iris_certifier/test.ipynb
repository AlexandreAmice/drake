{
 "cells": [
  {
   "cell_type": "code",
   "execution_count": 1,
   "metadata": {},
   "outputs": [],
   "source": [
    "%load_ext autoreload"
   ]
  },
  {
   "cell_type": "code",
   "execution_count": 2,
   "metadata": {},
   "outputs": [],
   "source": [
    "from certified_iris_generator import CertifiedIrisRegionGenerator\n",
    "import sys\n",
    "import os\n",
    "import time\n",
    "import numpy as np\n",
    "from functools import partial\n",
    "import itertools\n",
    "import mcubes\n",
    "import visualizations_utils as viz_utils\n",
    "import iris_utils #TODO remove"
   ]
  },
  {
   "cell_type": "code",
   "execution_count": 3,
   "metadata": {},
   "outputs": [],
   "source": [
    "#pydrake imports\n",
    "from pydrake.common import FindResourceOrThrow\n",
    "from pydrake.multibody.parsing import LoadModelDirectives, Parser, ProcessModelDirectives\n",
    "from pydrake.multibody.plant import MultibodyPlant, AddMultibodyPlantSceneGraph\n",
    "from pydrake.systems.framework import DiagramBuilder\n",
    "from pydrake.all import InverseKinematics, RevoluteJoint\n",
    "import pydrake.symbolic as sym\n",
    "import meshcat"
   ]
  },
  {
   "cell_type": "markdown",
   "metadata": {},
   "source": [
    "# Setup meshcat"
   ]
  },
  {
   "cell_type": "code",
   "execution_count": 4,
   "metadata": {},
   "outputs": [
    {
     "name": "stdout",
     "output_type": "stream",
     "text": [
      "You can open the visualizer by visiting the following URL:\n",
      "http://127.0.0.1:7006/static/\n",
      "You can open the visualizer by visiting the following URL:\n",
      "http://127.0.0.1:7007/static/\n"
     ]
    }
   ],
   "source": [
    "from meshcat.servers.zmqserver import start_zmq_server_as_subprocess\n",
    "from meshcat import Visualizer\n",
    "from pydrake.all import ConnectMeshcatVisualizer\n",
    "\n",
    "proc, zmq_url, web_url = start_zmq_server_as_subprocess(server_args=[])\n",
    "proc2, zmq_url2, web_url2 = start_zmq_server_as_subprocess(server_args=[])\n",
    "vis = Visualizer(zmq_url=zmq_url)\n",
    "vis.delete()\n",
    "vis2 = Visualizer(zmq_url=zmq_url2)\n",
    "vis2.delete()\n",
    "\n",
    "do_viz = False"
   ]
  },
  {
   "cell_type": "markdown",
   "metadata": {},
   "source": [
    "# Build plant"
   ]
  },
  {
   "cell_type": "code",
   "execution_count": 5,
   "metadata": {},
   "outputs": [
    {
     "name": "stdout",
     "output_type": "stream",
     "text": [
      "Connecting to meshcat-server at zmq_url=tcp://127.0.0.1:6006...\n",
      "You can open the visualizer by visiting the following URL:\n",
      "http://127.0.0.1:7006/static/\n",
      "Connected to meshcat-server.\n"
     ]
    }
   ],
   "source": [
    "\n",
    "builder = DiagramBuilder()\n",
    "plant, scene_graph = AddMultibodyPlantSceneGraph(builder, time_step=0.001)\n",
    "parser = Parser(plant)\n",
    "parser.package_map().Add( \"wsg_50_description\", os.path.dirname(FindResourceOrThrow(\n",
    "            \"drake/manipulation/models/wsg_50_description/package.xml\")))\n",
    "\n",
    "simple_collision = True\n",
    "directives_file = FindResourceOrThrow(\"drake/sos_iris_certifier/planar_iiwa_simple_collision_welded_gripper.yaml\") \\\n",
    "    if simple_collision else FindResourceOrThrow(\"drake/sos_iris_certifier/planar_iiwa_dense_collision_welded_gripper.yaml\")\n",
    "directives = LoadModelDirectives(directives_file)\n",
    "models = ProcessModelDirectives(directives, plant, parser)\n",
    "\n",
    "q0 = [-0.2, -1.2, 1.6]\n",
    "index = 0\n",
    "for joint_index in plant.GetJointIndices(models[0].model_instance):\n",
    "    joint = plant.get_mutable_joint(joint_index)\n",
    "    if isinstance(joint, RevoluteJoint):\n",
    "        joint.set_default_angle(q0[index])\n",
    "        index += 1\n",
    "\n",
    "plant.Finalize()\n",
    "visualizer = ConnectMeshcatVisualizer(builder, scene_graph, zmq_url=zmq_url, \n",
    "                                      delete_prefix_on_load=False)\n",
    "\n",
    "diagram = builder.Build()\n",
    "visualizer.load()\n",
    "context = diagram.CreateDefaultContext()\n",
    "plant_context = plant.GetMyContextFromRoot(context)"
   ]
  },
  {
   "cell_type": "markdown",
   "metadata": {},
   "source": [
    "# Build Certified Iris Region Object"
   ]
  },
  {
   "cell_type": "code",
   "execution_count": 23,
   "metadata": {},
   "outputs": [],
   "source": [
    "iris_kwargs = {\n",
    "    'iris_starting_ellipse_vol': 1e-4,\n",
    "    'iris_plane_pullback': 1e-6,\n",
    "    'iris_max_faces': -1\n",
    "}"
   ]
  },
  {
   "cell_type": "code",
   "execution_count": 24,
   "metadata": {},
   "outputs": [],
   "source": [
    "iris_generator = CertifiedIrisRegionGenerator(diagram, plant, scene_graph, **iris_kwargs)"
   ]
  },
  {
   "cell_type": "code",
   "execution_count": null,
   "metadata": {
    "scrolled": true
   },
   "outputs": [
    {
     "name": "stdout",
     "output_type": "stream",
     "text": [
      "geomA=iiwa::link7, geomB=shelves::top\n",
      "geomA=iiwa::link7, geomB=wsg::right_collision\n",
      "geomA=wsg::left_collision, geomB=wsg::right_collision\n",
      "geomA=wsg::right_collision, geomB=shelves::shelf_upper\n",
      "snopt_example=[ 0.14471316 -0.66482345  0.73909617], growth = 147061223.6237918\n",
      "snopt_example=[ 0.14526163 -0.66347859  0.74079434], growth = 147061480.4126292\n",
      "snopt_example=[ 0.14664268 -0.66010327  0.74507106], growth = 147064396.912189\n",
      "snopt_example=[ 0.1441652  -0.66616957  0.73739972], growth = 147061480.1075334\n",
      "snopt_example=[ 0.1427902  -0.6695586   0.73314332], growth = 147064386.88576454\n",
      "snopt_example=[ 0.14284248 -0.66942796  0.73330732], growth = 147064149.01532334\n",
      "snopt_example=[ 0.14289679 -0.66929207  0.7334779 ], growth = 147063911.5266152\n",
      "snopt_example=[ 0.14295514 -0.66915071  0.7336557 ], growth = 147063674.48673064\n",
      "snopt_example=[ 0.14301522 -0.66900236  0.73384206], growth = 147063437.98193246\n",
      "snopt_example=[ 0.14307842 -0.66884624  0.73403819], growth = 147063202.12595516\n",
      "snopt_example=[ 0.14314532 -0.66868101  0.73424575], growth = 147062967.072546\n",
      "geomA=wsg::body_collision, geomB=shelves::top\n",
      "snopt_example=[ 0.35411406 -0.11016632  1.44495945], growth = 230596033.18587676\n",
      "snopt_example=[ 0.35411349 -0.11016727  1.4449582 ], growth = 230595729.47838092\n",
      "snopt_example=[ 0.35411291 -0.11016822  1.44495695], growth = 230595425.77108508\n",
      "snopt_example=[ 0.35411233 -0.11016918  1.4449557 ], growth = 230595122.0639893\n",
      "snopt_example=[ 0.35411176 -0.11017013  1.44495444], growth = 230594818.35709345\n",
      "snopt_example=[ 0.35411118 -0.11017108  1.44495319], growth = 230594514.65039775\n",
      "snopt_example=[ 0.3541106  -0.11017203  1.44495194], growth = 230594210.943902\n",
      "snopt_example=[ 0.35411003 -0.11017298  1.44495069], growth = 230593907.23760614\n",
      "geomA=wsg::body_collision, geomB=shelves::shelf_upper\n",
      "snopt_example=[ 0.3255189  -0.53379588  1.10297262], growth = 138142517.22182494\n",
      "snopt_example=[ 0.32594874 -0.53297982  1.105395  ], growth = 138142954.020931\n",
      "snopt_example=[ 0.3276719  -0.52972009  1.11513298], growth = 138153561.27939808\n",
      "snopt_example=[ 0.33583236 -0.5145314   1.1618659 ], growth = 138401451.7688176\n",
      "snopt_example=[ 0.37665911 -0.44388765  1.41458307], growth = 145453549.35180426\n",
      "geomA=wsg::left_collision, geomB=shelves::top\n",
      "geomA=wsg::right_collision, geomB=shelves::top\n",
      "geomA=iiwa::link7, geomB=shelves::shelf_lower\n",
      "geomA=wsg::body_collision, geomB=shelves::shelf_lower\n",
      "geomA=wsg::left_collision, geomB=shelves::shelf_lower\n",
      "snopt_example=[ 0.30701424 -0.74268776  0.68138535], growth = 149960177.10888195\n",
      "snopt_example=[ 0.30759902 -0.74124986  0.68305454], growth = 149960451.7642275\n",
      "snopt_example=[ 0.3091682  -0.73740793  0.6875312 ], growth = 149963933.17226094\n",
      "snopt_example=[ 0.31420261 -0.72524004  0.70187282], growth = 150001596.74016923\n",
      "snopt_example=[ 0.33091539 -0.68645044  0.74933047], growth = 150404969.6609028\n",
      "snopt_example=[ 0.33091022 -0.6864622   0.74931606], growth = 150404724.41876006\n",
      "snopt_example=[ 0.330905   -0.68647393  0.74930164], growth = 150404479.1768412\n",
      "snopt_example=[ 0.33089979 -0.68648567  0.74928721], growth = 150404233.93514496\n",
      "snopt_example=[ 0.33089457 -0.68649742  0.74927278], growth = 150403988.69367135\n",
      "snopt_example=[ 0.33088934 -0.68650916  0.74925835], growth = 150403743.45242035\n",
      "snopt_example=[ 0.33088412 -0.68652091  0.74924391], growth = 150403498.2113921\n",
      "snopt_example=[ 0.3308789  -0.68653267  0.74922947], growth = 150403252.97058648\n",
      "geomA=wsg::right_collision, geomB=shelves::shelf_lower\n",
      "geomA=iiwa::link7, geomB=wsg::left_collision\n",
      "geomA=iiwa::link7, geomB=shelves::shelf_upper\n",
      "snopt_example=[ 0.31014591 -0.75798227  1.41002777], growth = 79151473.08699024\n",
      "snopt_example=[ 0.30999243 -0.75853716  1.4052288 ], growth = 79153631.31532699\n",
      "snopt_example=[ 0.30999823 -0.75851605  1.40541156], growth = 79153456.7668643\n",
      "snopt_example=[ 0.31000428 -0.75849411  1.40560156], growth = 79153282.49218321\n",
      "snopt_example=[ 0.31001058 -0.75847123  1.40579971], growth = 79153108.53879923\n",
      "snopt_example=[ 0.31001718 -0.75844728  1.40600716], growth = 79152934.96766824\n",
      "snopt_example=[ 0.31002412 -0.75842209  1.4062253 ], growth = 79152761.85874134\n",
      "snopt_example=[ 0.31003146 -0.75839546  1.40645596], growth = 79152589.31970054\n",
      "snopt_example=[ 0.31003927 -0.75836711  1.40670151], growth = 79152417.5003227\n",
      "snopt_example=[ 0.31004766 -0.75833667  1.40696519], growth = 79152246.61743277\n",
      "snopt_example=[ 0.31005678 -0.7583036   1.40725157], growth = 79152077.00132656\n",
      "snopt_example=[ 0.31006683 -0.75826712  1.40756749], growth = 79151909.1901316\n",
      "snopt_example=[ 0.31007817 -0.75822596  1.40792398], growth = 79151744.14582264\n",
      "snopt_example=[ 0.31009144 -0.75817783  1.40834086], growth = 79151583.84001881\n",
      "snopt_example=[ 0.31010798 -0.7581178   1.40886077], growth = 79151433.32344031\n",
      "snopt_example=[ 0.31013189 -0.75803103  1.40961227], growth = 79151312.67456973\n",
      "snopt_example=[ 0.31019904 -0.75778736  1.41172259], growth = 79151586.47399616\n",
      "snopt_example=[ 0.31018574 -0.75783553  1.41130699], growth = 79151426.06139016\n",
      "snopt_example=[ 0.31016917 -0.75789551  1.41078947], growth = 79151275.29706925\n",
      "snopt_example=[ 0.31014532 -0.75798186  1.41004442], growth = 79151153.67586774\n",
      "snopt_example=[ 0.31007822 -0.7582248   1.40794804], growth = 79151421.57471329\n",
      "snopt_example=[ 0.31009153 -0.75817651  1.4083664 ], growth = 79151261.39416248\n",
      "snopt_example=[ 0.31010816 -0.75811617  1.40888906], growth = 79151111.16914916\n",
      "geomA=wsg::left_collision, geomB=shelves::shelf_upper\n",
      "snopt_example=[ 0.09908349 -0.78714164  0.5972054 ], growth = 148973713.10629052\n",
      "snopt_example=[ 0.09908333 -0.78714138  0.59720695], growth = 148973468.99696106\n",
      "0\n",
      "geomA=iiwa::link7, geomB=shelves::top\n",
      "geomA=iiwa::link7, geomB=wsg::right_collision\n",
      "geomA=wsg::left_collision, geomB=wsg::right_collision\n",
      "geomA=wsg::right_collision, geomB=shelves::shelf_upper\n",
      "snopt_example=[ 0.09908322 -0.78714113  0.59720848], growth = 1.7270015980562476\n",
      "snopt_example=[ 0.09908263 -0.78714267  0.59720708], growth = 1.7269955923713116\n",
      "snopt_example=[ 0.09908206 -0.78714421  0.59720568], growth = 1.7269895866987994\n",
      "geomA=wsg::body_collision, geomB=shelves::top\n",
      "geomA=wsg::body_collision, geomB=shelves::shelf_upper\n",
      "geomA=wsg::left_collision, geomB=shelves::top\n",
      "geomA=wsg::right_collision, geomB=shelves::top\n",
      "geomA=iiwa::link7, geomB=shelves::shelf_lower\n",
      "geomA=wsg::body_collision, geomB=shelves::shelf_lower\n",
      "geomA=wsg::left_collision, geomB=shelves::shelf_lower\n",
      "snopt_example=[ 0.17889078 -1.22218519  0.25435432], growth = 1.0218466161324624\n",
      "snopt_example=[ 0.17929239 -1.2194422   0.25632144], growth = 1.0218785909873933\n",
      "snopt_example=[ 0.1876565  -1.16680671  0.29471741], growth = 1.0354937779897355\n",
      "geomA=wsg::right_collision, geomB=shelves::shelf_lower\n",
      "geomA=iiwa::link7, geomB=wsg::left_collision\n",
      "geomA=iiwa::link7, geomB=shelves::shelf_upper\n",
      "snopt_example=[ 0.31155402 -0.75298244  1.45412796], growth = 1.5074271847135439\n",
      "geomA=wsg::left_collision, geomB=shelves::shelf_upper\n",
      "1\n",
      "Time:   3.85 \tVolume:   2.27 \tCenter: [-0.16599206 -1.22800933  0.94955369]\n",
      "geomA=iiwa::link7, geomB=shelves::top\n",
      "snopt_example=[ 0.12087619 -0.80793073  0.0705116 ], growth = 104100540.0869345\n",
      "snopt_example=[ 0.12087498 -0.80792886  0.07052061], growth = 104100326.41389865\n",
      "snopt_example=[ 0.1208748  -0.80793098  0.07051689], growth = 104100122.01616606\n",
      "snopt_example=[ 0.12087435 -0.80793311  0.07051395], growth = 104099850.87986323\n",
      "snopt_example=[ 0.12087332 -0.80793222  0.07052021], growth = 104099615.80928797\n",
      "snopt_example=[ 0.12087365 -0.80793729  0.07050742], growth = 104099372.56599092\n",
      "snopt_example=[ 0.12087334 -0.8079402   0.07050219], growth = 104099088.45795292\n",
      "snopt_example=[ 0.12087279 -0.80794107  0.07050254], growth = 104098871.8406958\n",
      "snopt_example=[ 0.12087126 -0.80793755  0.07051682], growth = 104098667.54157943\n",
      "snopt_example=[ 0.12087051 -0.80793779  0.0705194 ], growth = 104098435.39171243\n",
      "geomA=iiwa::link7, geomB=wsg::right_collision\n",
      "geomA=wsg::left_collision, geomB=wsg::right_collision\n",
      "geomA=wsg::right_collision, geomB=shelves::shelf_upper\n",
      "snopt_example=[-0.02482824 -1.43640764  0.06063797], growth = 32448604.465514064\n",
      "snopt_example=[-0.02482805 -1.43637757  0.06066015], growth = 32448488.257679462\n",
      "snopt_example=[-0.02483338 -1.43652797  0.0605553 ], growth = 32448377.694488257\n"
     ]
    },
    {
     "name": "stdout",
     "output_type": "stream",
     "text": [
      "snopt_example=[-0.02481362 -1.43580533  0.06105959], growth = 32448341.457889497\n",
      "geomA=wsg::body_collision, geomB=shelves::top\n",
      "geomA=wsg::body_collision, geomB=shelves::shelf_upper"
     ]
    }
   ],
   "source": [
    "seed_points = np.tan(np.array([[0.0, -2.016, 1.975], # in tight\n",
    "                        [-1, -2, 0.5],        # neutral pose\n",
    "                        [0.3, -0.8, 0.5],     # above shelf\n",
    "                        [0.25, -1.6, -0.25],  # in shelf 1\n",
    "                        [0.07, -1.8, -0.2],   # leaving shelf 1\n",
    "                        [-0.1, -2, -0.3]])    # out of shelf 1\n",
    "                        /2)\n",
    "regions, ellipses = iris_generator.iris_in_rational_space(seed_points)\n"
   ]
  },
  {
   "cell_type": "code",
   "execution_count": null,
   "metadata": {},
   "outputs": [],
   "source": [
    "# plot regions\n",
    "if do_viz:\n",
    "    viz_utils.plot_regions(vis2, regions, ellipses)\n",
    "\n",
    "    # plot seedpoints\n",
    "    for i in range(seed_points.shape[0]):\n",
    "        vis2['iris']['seedpoints'][\"seedpoint\"+str(i)].set_object(\n",
    "                    meshcat.geometry.Sphere(0.05), meshcat.geometry.MeshLambertMaterial(color=0x0FB900))\n",
    "        vis2['iris']['seedpoints'][\"seedpoint\"+str(i)].set_transform(\n",
    "                    meshcat.transformations.translation_matrix(seed_points[i,:]))\n",
    "    "
   ]
  },
  {
   "cell_type": "markdown",
   "metadata": {},
   "source": [
    "## Marching cubes in t space"
   ]
  },
  {
   "cell_type": "code",
   "execution_count": null,
   "metadata": {},
   "outputs": [],
   "source": [
    "#evaluate constraints\n",
    "def convert_t_to_q(t):\n",
    "    q =np.arctan2(2*t/(1+t**2), (1-t**2)/(1+t**2))\n",
    "    return q\n",
    "\n",
    "def convert_q_to_t(q):\n",
    "    return np.tan(np.divide(q,2))\n",
    "\n",
    "ik = InverseKinematics(plant, plant_context)\n",
    "collision_constraint = ik.AddMinimumDistanceConstraint(0.001, 0.01)\n",
    "def eval_cons(q0, q1, q2, c, tol):\n",
    "        return 1-1*float(c.evaluator().CheckSatisfied([q0, q1, q2], tol))\n",
    "\n",
    "col_func_handle = partial(eval_cons, c=collision_constraint, tol=0.01)\n",
    "\n",
    "def eval_cons_rational(t0, t1, t2, c, tol):\n",
    "    q = convert_t_to_q(np.array([t0, t1, t2]).reshape(1,-1)).squeeze() \n",
    "    return col_func_handle(*q)\n",
    "   \n",
    "col_func_handle_rational = partial(eval_cons_rational, c=collision_constraint, tol=0.01)\n"
   ]
  },
  {
   "cell_type": "code",
   "execution_count": null,
   "metadata": {},
   "outputs": [],
   "source": [
    "#marching cubes\n",
    "if do_viz:\n",
    "    N = 50\n",
    "    vertices, triangles = mcubes.marching_cubes_func(tuple(iris_generator.t_lower_limits), \n",
    "                                                     tuple(iris_generator.t_upper_limits),\n",
    "                                                     N, N, N, col_func_handle_rational, 0.5)\n",
    "\n",
    "    vis2[\"collision_constraint\"].set_object(\n",
    "                meshcat.geometry.TriangularMeshGeometry(vertices, triangles),\n",
    "                meshcat.geometry.MeshLambertMaterial(color=0xff0000, wireframe=True))"
   ]
  },
  {
   "cell_type": "code",
   "execution_count": null,
   "metadata": {},
   "outputs": [],
   "source": [
    "from pydrake.all import MathematicalProgram\n",
    "(geomA, geomB)  = next(iter(iris_generator.pairs))\n",
    "\n",
    "region_to_prog_map, collision_pair_to_plane_map,\\\n",
    "collision_pair_to_positive_constraint_map, pos_poly_to_lagrange_mult_map\\\n",
    "=iris_generator._initialize_certifier(1)\n",
    "\n"
   ]
  },
  {
   "cell_type": "code",
   "execution_count": 13,
   "metadata": {},
   "outputs": [
    {
     "name": "stdout",
     "output_type": "stream",
     "text": [
      "Region added in 45.22947716712952 seconds\n",
      "Region 0/6. Problem built in 45.22955584526062secs\n",
      "Region added in 42.5150580406189 seconds\n",
      "Region 1/6. Problem built in 42.515132665634155secs\n",
      "Region added in 42.216522216796875 seconds\n",
      "Region 2/6. Problem built in 42.21659731864929secs\n",
      "Region added in 42.00492310523987 seconds\n",
      "Region 3/6. Problem built in 42.005008697509766secs\n",
      "Region added in 41.98865723609924 seconds\n",
      "Region 4/6. Problem built in 41.98873209953308secs\n",
      "Region added in 41.571446895599365 seconds\n",
      "Region 5/6. Problem built in 41.57152223587036secs\n"
     ]
    }
   ],
   "source": [
    "region_to_prog_map = iris_generator._build_certification_problems_from_maps(region_to_prog_map, \n",
    "                                                                            pos_poly_to_lagrange_mult_map,\n",
    "                                               strict_pos_tol = 1e-5)\n"
   ]
  },
  {
   "cell_type": "code",
   "execution_count": 22,
   "metadata": {},
   "outputs": [
    {
     "name": "stderr",
     "output_type": "stream",
     "text": [
      "IOPub data rate exceeded.\n",
      "The notebook server will temporarily stop sending output\n",
      "to the client in order to avoid crashing it.\n",
      "To change this limit, set the config variable\n",
      "`--NotebookApp.iopub_data_rate_limit`.\n",
      "\n",
      "Current values:\n",
      "NotebookApp.iopub_data_rate_limit=1000000.0 (bytes/sec)\n",
      "NotebookApp.rate_limit_window=3.0 (secs)\n",
      "\n"
     ]
    },
    {
     "ename": "KeyboardInterrupt",
     "evalue": "",
     "output_type": "error",
     "traceback": [
      "\u001b[0;31m---------------------------------------------------------------------------\u001b[0m",
      "\u001b[0;31mKeyboardInterrupt\u001b[0m                         Traceback (most recent call last)",
      "\u001b[0;32m<ipython-input-22-8008900ac348>\u001b[0m in \u001b[0;36m<module>\u001b[0;34m\u001b[0m\n\u001b[1;32m      1\u001b[0m \u001b[0;32mfor\u001b[0m \u001b[0mprog\u001b[0m \u001b[0;32min\u001b[0m \u001b[0mregion_to_prog_map\u001b[0m\u001b[0;34m.\u001b[0m\u001b[0mvalues\u001b[0m\u001b[0;34m(\u001b[0m\u001b[0;34m)\u001b[0m\u001b[0;34m:\u001b[0m\u001b[0;34m\u001b[0m\u001b[0;34m\u001b[0m\u001b[0m\n\u001b[0;32m----> 2\u001b[0;31m     \u001b[0mprint\u001b[0m\u001b[0;34m(\u001b[0m\u001b[0mprog\u001b[0m\u001b[0;34m)\u001b[0m\u001b[0;34m\u001b[0m\u001b[0;34m\u001b[0m\u001b[0m\n\u001b[0m",
      "\u001b[0;32m~/miniconda3/lib/python3.8/site-packages/ipykernel/iostream.py\u001b[0m in \u001b[0;36mwrite\u001b[0;34m(self, string)\u001b[0m\n\u001b[1;32m    384\u001b[0m                 parent=self.parent_header, ident=self.topic)\n\u001b[1;32m    385\u001b[0m \u001b[0;34m\u001b[0m\u001b[0m\n\u001b[0;32m--> 386\u001b[0;31m     \u001b[0;32mdef\u001b[0m \u001b[0mwrite\u001b[0m\u001b[0;34m(\u001b[0m\u001b[0mself\u001b[0m\u001b[0;34m,\u001b[0m \u001b[0mstring\u001b[0m\u001b[0;34m)\u001b[0m\u001b[0;34m:\u001b[0m\u001b[0;34m\u001b[0m\u001b[0;34m\u001b[0m\u001b[0m\n\u001b[0m\u001b[1;32m    387\u001b[0m         \u001b[0;32mif\u001b[0m \u001b[0mself\u001b[0m\u001b[0;34m.\u001b[0m\u001b[0mecho\u001b[0m \u001b[0;32mis\u001b[0m \u001b[0;32mnot\u001b[0m \u001b[0;32mNone\u001b[0m\u001b[0;34m:\u001b[0m\u001b[0;34m\u001b[0m\u001b[0;34m\u001b[0m\u001b[0m\n\u001b[1;32m    388\u001b[0m             \u001b[0;32mtry\u001b[0m\u001b[0;34m:\u001b[0m\u001b[0;34m\u001b[0m\u001b[0;34m\u001b[0m\u001b[0m\n",
      "\u001b[0;31mKeyboardInterrupt\u001b[0m: "
     ]
    }
   ],
   "source": [
    "for prog in region_to_prog_map.values():\n",
    "    print(prog.De)"
   ]
  },
  {
   "cell_type": "code",
   "execution_count": 17,
   "metadata": {},
   "outputs": [
    {
     "name": "stdout",
     "output_type": "stream",
     "text": [
      "dict_keys([<GeometryId value=71>, <GeometryId value=79>, <GeometryId value=113>, <GeometryId value=115>, <GeometryId value=117>, <GeometryId value=85>, <GeometryId value=91>])\n"
     ]
    }
   ],
   "source": [
    "print(iris_generator.vpoly_sets_in_self_frame_by_geom_id.v())"
   ]
  },
  {
   "cell_type": "markdown",
   "metadata": {},
   "source": [
    "Notes:\n",
    "Currently have build certifiaction problems from maps done. Now can solve. Current design strategy means we should not solve the programs in parallel since all the programs point\n",
    "to the same variables. This saves a lot of memory and (hopefully) speeds up the construction substantially"
   ]
  },
  {
   "cell_type": "code",
   "execution_count": null,
   "metadata": {},
   "outputs": [],
   "source": []
  }
 ],
 "metadata": {
  "interpreter": {
   "hash": "916dbcbb3f70747c44a77c7bcd40155683ae19c65e1c03b4aa3499c5328201f1"
  },
  "kernelspec": {
   "display_name": "Python 3",
   "language": "python",
   "name": "python3"
  },
  "language_info": {
   "codemirror_mode": {
    "name": "ipython",
    "version": 3
   },
   "file_extension": ".py",
   "mimetype": "text/x-python",
   "name": "python",
   "nbconvert_exporter": "python",
   "pygments_lexer": "ipython3",
   "version": "3.8.10"
  }
 },
 "nbformat": 4,
 "nbformat_minor": 2
}
