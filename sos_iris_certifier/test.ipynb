{
 "cells": [
  {
   "cell_type": "code",
   "execution_count": 1,
   "metadata": {},
   "outputs": [],
   "source": [
    "%load_ext autoreload"
   ]
  },
  {
   "cell_type": "code",
   "execution_count": 2,
   "metadata": {},
   "outputs": [],
   "source": [
    "import sys\n",
    "import os\n",
    "import time\n",
    "import numpy as np\n",
    "from functools import partial\n",
    "import itertools\n",
    "import mcubes\n",
    "import visualizations_utils as viz_utils\n",
    "import iris_utils #TODO remove\n",
    "from iris_plant_visualizer import IrisPlantVisualizer\n",
    "import ipywidgets as widgets\n",
    "from IPython.display import display\n"
   ]
  },
  {
   "cell_type": "code",
   "execution_count": 3,
   "metadata": {},
   "outputs": [],
   "source": [
    "#pydrake imports\n",
    "from pydrake.common import FindResourceOrThrow\n",
    "from pydrake.multibody.parsing import LoadModelDirectives, Parser, ProcessModelDirectives\n",
    "from pydrake.multibody.plant import MultibodyPlant, AddMultibodyPlantSceneGraph\n",
    "from pydrake.systems.framework import DiagramBuilder\n",
    "from pydrake.all import InverseKinematics, RevoluteJoint, RationalForwardKinematics\n",
    "from pydrake.geometry.optimization import IrisOptionsRationalSpace, IrisInRationalConfigurationSpace, HPolyhedron, Hyperellipsoid\n",
    "from pydrake.geometry import Role, GeometrySet, CollisionFilterDeclaration\n",
    "import pydrake.symbolic as sym\n",
    "from pydrake.all import MathematicalProgram, RigidTransform, RollPitchYaw\n",
    "import meshcat\n",
    "from pydrake.all import GenerateSeedingPolytope, GenerateRandomSeedingPolytope\n",
    "import pydrake.multibody.rational_forward_kinematics as rational_forward_kinematics\n",
    "from pydrake.multibody.rational_forward_kinematics import FindEpsilonLower, FindEpsilonLowerVector, FindEpsilonUpperVector\n",
    "from pydrake.solvers import mathematicalprogram as mp\n",
    "from pydrake.all import FindMaxEpsForAllIneqs, MosekSolver, MosekSolverDetails,FindMaxEpsTilRedundant\n",
    "from meshcat.servers.zmqserver import start_zmq_server_as_subprocess\n"
   ]
  },
  {
   "cell_type": "markdown",
   "metadata": {},
   "source": [
    "# Build Plant\n"
   ]
  },
  {
   "cell_type": "code",
   "execution_count": 4,
   "metadata": {},
   "outputs": [
    {
     "name": "stdout",
     "output_type": "stream",
     "text": [
      "You can open the visualizer by visiting the following URL:\n",
      "http://127.0.0.1:7008/static/\n",
      "You can open the visualizer by visiting the following URL:\n",
      "http://127.0.0.1:7009/static/\n",
      "Connecting to meshcat-server at zmq_url=tcp://127.0.0.1:6008...\n",
      "You can open the visualizer by visiting the following URL:\n",
      "http://127.0.0.1:7008/static/\n",
      "Connected to meshcat-server.\n"
     ]
    }
   ],
   "source": [
    "builder = DiagramBuilder()\n",
    "plant, scene_graph = AddMultibodyPlantSceneGraph(builder, time_step=0.001)\n",
    "parser = Parser(plant)\n",
    "plant.Finalize()\n",
    "visualizer = IrisPlantVisualizer(plant, builder, scene_graph, viz_role=Role.kIllustration)\n",
    "diagram = visualizer.diagram"
   ]
  },
  {
   "cell_type": "code",
   "execution_count": 5,
   "metadata": {},
   "outputs": [],
   "source": [
    "# upper = np.array([0.5,0.25, 0.75]) # 0.25*np.ones(3) #\n",
    "# lower = -upper#np.array([-0.5,-0.75, 0.25]) #-0.25*np.ones(3) #\n",
    "# inner_box = HPolyhedron.MakeBox(lower, upper)\n",
    "# trans_list = [inner_box]\n",
    "# A_list = []\n",
    "# b_list = []\n",
    "# num_rot = 2\n",
    "# num_perm = 2\n",
    "# seed_point = np.zeros(3)\n",
    "# seed_poly = GenerateSeedingPolytope(seed_point, num_perm, num_rot)\n",
    "\n",
    "# # for i in range(num_rot):\n",
    "\n",
    "# #     theta = 2*np.pi/num_rot *(i)\n",
    "# #     rot = np.array([\n",
    "# #         [np.cos(theta), -np.sin(theta), 0],\n",
    "# #         [np.sin(theta), np.cos(theta), 0],\n",
    "# #         [0,0,1]])\n",
    "# #     for j in range(num_perm):\n",
    "# #         perm = np.eye(3)\n",
    "# #         perm[:,[0,j]] = perm[:,[j,0]]\n",
    "# #         P = np.linalg.solve(perm,rot@perm)\n",
    "# #         print(P)\n",
    "        \n",
    "# #         A_list.append(inner_box.A()@P)\n",
    "# #         b_list.append(inner_box.b())\n",
    "# #         trans_list.append(HPolyhedron(A_list[-1], b_list[-1]))\n",
    "# # A = np.vstack(A_list)\n",
    "# # b = np.hstack(b_list)\n",
    "# inner = seed_poly.ReduceInequalities()#HPolyhedron(A,b).ReduceInequalities()\n",
    "# print(inner.A().shape[0]-seed_poly.A().shape[0])\n",
    "\n",
    "# # visualizer.plot_regions(trans_list, region_suffix = '_all')\n",
    "# visualizer.plot_regions([seed_poly], region_suffix = '_seed_poly')\n",
    "# visualizer.plot_regions([inner], region_suffix = '_inner')"
   ]
  },
  {
   "cell_type": "code",
   "execution_count": 6,
   "metadata": {},
   "outputs": [],
   "source": [
    "# upper = 0.25*np.ones(3) # np.array([0.5,0.25, 0.75]) # \n",
    "# lower = -upper#np.array([-0.5,-0.75, 0.25]) #-0.25*np.ones(3) #\n",
    "# inner_box = HPolyhedron.MakeBox(lower, upper)\n",
    "# n = 2\n",
    "# inner_box2 = HPolyhedron(np.vstack([inner_box.A()]*n), np.hstack([inner_box.b()]*n))\n",
    "# visualizer.plot_regions([inner_box], region_suffix = '_inner_box')\n",
    "\n",
    "# noise_A = 0.1*np.random.randn(*(inner_box2.A().shape))\n",
    "# noise_b = 0.1*np.random.randn(*(inner_box2.b().shape))\n",
    "# inner = HPolyhedron(inner_box2.A() + noise_A, inner_box2.b()+noise_b)\n",
    "# inner_red = inner.ReduceInequalities()\n",
    "# visualizer.plot_regions([inner], region_suffix = '_inner')\n"
   ]
  },
  {
   "cell_type": "code",
   "execution_count": 15,
   "metadata": {},
   "outputs": [],
   "source": [
    "seed_point = 0.5*np.ones(3)\n",
    "num_unit_box_copies = 2\n",
    "initial_box_scale = 0.25\n",
    "gaussian_variance = 0.1\n",
    "inner = GenerateRandomSeedingPolytope(seed_point,\n",
    "                                     num_unit_box_copies,\n",
    "                                     initial_box_scale,\n",
    "                                     gaussian_variance)\n",
    "inner_red = inner.ReduceInequalities()\n",
    "visualizer.plot_regions([inner], region_suffix = '_inner')\n",
    "outer = HPolyhedron.MakeUnitBox(3)\n",
    "visualizer.plot_regions([outer], region_suffix = '_outer', opacity = 0.25)"
   ]
  },
  {
   "cell_type": "code",
   "execution_count": 16,
   "metadata": {},
   "outputs": [
    {
     "name": "stdout",
     "output_type": "stream",
     "text": [
      "1\n"
     ]
    }
   ],
   "source": [
    "print(inner.A().shape[0] - inner_red.A().shape[0])\n"
   ]
  },
  {
   "cell_type": "code",
   "execution_count": null,
   "metadata": {},
   "outputs": [],
   "source": []
  },
  {
   "cell_type": "code",
   "execution_count": null,
   "metadata": {},
   "outputs": [
    {
     "name": "stdout",
     "output_type": "stream",
     "text": [
      "0.11035239106491512\n",
      "0.22168532589241197\n",
      "0.02193508583010051\n",
      "0.014980099191228419\n",
      "0.05996383509095249\n",
      "0.09543259633479051\n",
      "0.02781058847262108\n",
      "0.025009670914938664\n",
      "0.07572288419608009\n",
      "0.1752494793847913\n",
      "0.08896301585524441\n",
      "-0.017551260842670363\n"
     ]
    }
   ],
   "source": [
    "shifted = []\n",
    "d_all = inner.b()\n",
    "polys = []\n",
    "for i in range(inner.A().shape[0]):\n",
    "    C, d = inner.A(), inner.b()\n",
    "    prog = MathematicalProgram()\n",
    "    solver = MosekSolver()\n",
    "    t = prog.NewContinuousVariables(3, 't')\n",
    "    c_cost = C[i,:]\n",
    "    d_cost = d[i]\n",
    "    C_constraint = np.vstack([C[:i, :], C[(i+1):, :]])\n",
    "    d_constraint = np.hstack([d[:i], d[(i+1):]])\n",
    "\n",
    "    t_lower = -np.ones(3)\n",
    "    t_upper = np.ones(3)\n",
    "\n",
    "    prog.AddLinearConstraint(C_constraint, -np.inf*np.ones(d_constraint.shape), d_constraint, t)\n",
    "    prog.AddBoundingBoxConstraint(t_lower, t_upper, t)\n",
    "    prog.AddLinearCost(-c_cost, d_cost, t)\n",
    "    result = solver.Solve(prog)\n",
    "    eps_man = -result.get_optimal_cost()\n",
    "    eps = FindMaxEpsTilRedundant(c_cost, d_cost, C_constraint, d_constraint, t_lower, t_upper)\n",
    "    print(eps)\n",
    "    dtmp = d.copy()\n",
    "    dtmp[i] += eps\n",
    "    d_all[i] += eps\n",
    "    polys.append(HPolyhedron(C,dtmp))\n",
    "    shifted.append(polys[-1])\n",
    "shifted.append(HPolyhedron(C,d_all))\n",
    "visualizer.plot_regions(shifted, region_suffix = '_shifted')"
   ]
  },
  {
   "cell_type": "code",
   "execution_count": 9,
   "metadata": {},
   "outputs": [
    {
     "name": "stdout",
     "output_type": "stream",
     "text": [
      "[[ 0.          0.96592583 -0.25881905]\n",
      " [ 0.70710678 -0.70710678  0.        ]\n",
      " [-0.70710678 -0.70710678  0.        ]\n",
      " [-0.70710678  0.70710678  0.        ]\n",
      " [ 0.70710678  0.70710678  0.        ]\n",
      " [-0.         -1.         -0.        ]\n",
      " [ 0.          1.          0.        ]\n",
      " [ 0.          0.70710678  0.70710678]\n",
      " [ 0.         -0.70710678  0.70710678]\n",
      " [ 0.         -0.70710678 -0.70710678]\n",
      " [ 0.          0.70710678 -0.70710678]\n",
      " [ 0.25881905  0.96592583  0.        ]\n",
      " [-0.96592583  0.25881905  0.        ]\n",
      " [-0.          0.          1.        ]\n",
      " [-0.25881905 -0.96592583  0.        ]\n",
      " [ 0.96592583 -0.25881905  0.        ]\n",
      " [-0.          0.         -1.        ]\n",
      " [ 1.         -0.          0.        ]\n",
      " [ 0.          0.25881905  0.96592583]\n",
      " [ 0.         -0.96592583  0.25881905]\n",
      " [-1.         -0.          0.        ]\n",
      " [ 0.         -0.25881905 -0.96592583]]\n",
      "[0.10731322 0.1        0.1        0.1        0.1        0.1\n",
      " 0.1        0.1        0.1        0.1        0.1        0.1\n",
      " 0.1        0.1        0.1        0.1        0.1        0.1\n",
      " 0.1        0.1        0.1        0.1       ]\n"
     ]
    }
   ],
   "source": [
    "print(polys[0].A())\n",
    "print(polys[0].b())"
   ]
  },
  {
   "cell_type": "code",
   "execution_count": 10,
   "metadata": {},
   "outputs": [
    {
     "name": "stdout",
     "output_type": "stream",
     "text": [
      "0.1\n",
      "[0.1 0.1 0.1 0.1 0.1 0.1 0.1 0.1 0.1 0.1 0.1 0.1 0.1 0.1 0.1 0.1 0.1 0.1\n",
      " 0.1 0.1 0.1]\n"
     ]
    }
   ],
   "source": [
    "print(d_cost)\n",
    "print(d_constraint)"
   ]
  },
  {
   "cell_type": "code",
   "execution_count": 11,
   "metadata": {},
   "outputs": [
    {
     "name": "stdout",
     "output_type": "stream",
     "text": [
      "[[ 0.          0.96592583 -0.25881905]\n",
      " [ 0.70710678 -0.70710678  0.        ]\n",
      " [-0.70710678 -0.70710678  0.        ]\n",
      " [-0.70710678  0.70710678  0.        ]\n",
      " [ 0.70710678  0.70710678  0.        ]\n",
      " [-0.         -1.         -0.        ]\n",
      " [ 0.          1.          0.        ]\n",
      " [ 0.          0.70710678  0.70710678]\n",
      " [ 0.         -0.70710678  0.70710678]\n",
      " [ 0.         -0.70710678 -0.70710678]\n",
      " [ 0.          0.70710678 -0.70710678]\n",
      " [ 0.25881905  0.96592583  0.        ]\n",
      " [-0.96592583  0.25881905  0.        ]\n",
      " [-0.          0.          1.        ]\n",
      " [-0.25881905 -0.96592583  0.        ]\n",
      " [ 0.96592583 -0.25881905  0.        ]\n",
      " [-0.          0.         -1.        ]\n",
      " [ 1.         -0.          0.        ]\n",
      " [ 0.          0.25881905  0.96592583]\n",
      " [ 0.         -0.96592583  0.25881905]\n",
      " [-1.         -0.          0.        ]\n",
      " [ 0.         -0.25881905 -0.96592583]]\n",
      "[0.1 0.1 0.1 0.1 0.1 0.1 0.1 0.1 0.1 0.1 0.1 0.1 0.1 0.1 0.1 0.1 0.1 0.1\n",
      " 0.1 0.1 0.1 0.1]\n"
     ]
    }
   ],
   "source": [
    "print(C)\n",
    "print(d)"
   ]
  },
  {
   "cell_type": "code",
   "execution_count": 12,
   "metadata": {},
   "outputs": [
    {
     "name": "stdout",
     "output_type": "stream",
     "text": [
      "[[ 1.  0.  0.]\n",
      " [ 0.  1.  0.]\n",
      " [ 0.  0.  1.]\n",
      " [-1. -0. -0.]\n",
      " [-0. -1. -0.]\n",
      " [-0. -0. -1.]]\n",
      "[1. 1. 1. 1. 1. 1.]\n"
     ]
    }
   ],
   "source": [
    "print(outer.A())\n",
    "print(outer.b())"
   ]
  },
  {
   "cell_type": "code",
   "execution_count": null,
   "metadata": {},
   "outputs": [],
   "source": []
  }
 ],
 "metadata": {
  "interpreter": {
   "hash": "916dbcbb3f70747c44a77c7bcd40155683ae19c65e1c03b4aa3499c5328201f1"
  },
  "kernelspec": {
   "display_name": "Python 3",
   "language": "python",
   "name": "python3"
  },
  "language_info": {
   "codemirror_mode": {
    "name": "ipython",
    "version": 3
   },
   "file_extension": ".py",
   "mimetype": "text/x-python",
   "name": "python",
   "nbconvert_exporter": "python",
   "pygments_lexer": "ipython3",
   "version": "3.8.10"
  }
 },
 "nbformat": 4,
 "nbformat_minor": 2
}
