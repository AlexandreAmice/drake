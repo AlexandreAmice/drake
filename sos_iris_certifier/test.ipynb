{
 "cells": [
  {
   "cell_type": "code",
   "execution_count": 1,
   "metadata": {},
   "outputs": [],
   "source": [
    "%load_ext autoreload"
   ]
  },
  {
   "cell_type": "code",
   "execution_count": 2,
   "metadata": {},
   "outputs": [],
   "source": [
    "from certified_iris_generator import CertifiedIrisRegionGenerator\n",
    "import sys\n",
    "import os\n",
    "import time\n",
    "import numpy as np\n",
    "from functools import partial\n",
    "import itertools\n",
    "import mcubes\n",
    "import visualizations_utils as viz_utils\n",
    "import iris_utils #TODO remove"
   ]
  },
  {
   "cell_type": "code",
   "execution_count": 3,
   "metadata": {},
   "outputs": [],
   "source": [
    "#pydrake imports\n",
    "from pydrake.common import FindResourceOrThrow\n",
    "from pydrake.multibody.parsing import LoadModelDirectives, Parser, ProcessModelDirectives\n",
    "from pydrake.multibody.plant import MultibodyPlant, AddMultibodyPlantSceneGraph\n",
    "from pydrake.systems.framework import DiagramBuilder\n",
    "from pydrake.all import InverseKinematics, RevoluteJoint\n",
    "import pydrake.symbolic as sym\n",
    "from pydrake.all import MathematicalProgram\n",
    "import meshcat"
   ]
  },
  {
   "cell_type": "markdown",
   "metadata": {},
   "source": [
    "# Setup meshcat"
   ]
  },
  {
   "cell_type": "code",
   "execution_count": 4,
   "metadata": {},
   "outputs": [
    {
     "name": "stdout",
     "output_type": "stream",
     "text": [
      "You can open the visualizer by visiting the following URL:\n",
      "http://127.0.0.1:7002/static/\n",
      "You can open the visualizer by visiting the following URL:\n",
      "http://127.0.0.1:7003/static/\n"
     ]
    }
   ],
   "source": [
    "from meshcat.servers.zmqserver import start_zmq_server_as_subprocess\n",
    "from meshcat import Visualizer\n",
    "from pydrake.all import ConnectMeshcatVisualizer\n",
    "\n",
    "proc, zmq_url, web_url = start_zmq_server_as_subprocess(server_args=[])\n",
    "proc2, zmq_url2, web_url2 = start_zmq_server_as_subprocess(server_args=[])\n",
    "vis = Visualizer(zmq_url=zmq_url)\n",
    "vis.delete()\n",
    "vis2 = Visualizer(zmq_url=zmq_url2)\n",
    "vis2.delete()\n",
    "\n",
    "do_viz = True"
   ]
  },
  {
   "cell_type": "markdown",
   "metadata": {},
   "source": [
    "# Build plant"
   ]
  },
  {
   "cell_type": "code",
   "execution_count": 5,
   "metadata": {},
   "outputs": [
    {
     "name": "stdout",
     "output_type": "stream",
     "text": [
      "Connecting to meshcat-server at zmq_url=tcp://127.0.0.1:6002...\n",
      "You can open the visualizer by visiting the following URL:\n",
      "http://127.0.0.1:7002/static/\n",
      "Connected to meshcat-server.\n"
     ]
    }
   ],
   "source": [
    "\n",
    "builder = DiagramBuilder()\n",
    "plant, scene_graph = AddMultibodyPlantSceneGraph(builder, time_step=0.001)\n",
    "parser = Parser(plant)\n",
    "parser.package_map().Add( \"wsg_50_description\", os.path.dirname(FindResourceOrThrow(\n",
    "            \"drake/manipulation/models/wsg_50_description/package.xml\")))\n",
    "\n",
    "simple_collision = True\n",
    "directives_file = FindResourceOrThrow(\"drake/sos_iris_certifier/planar_iiwa_simple_collision_welded_gripper.yaml\") \\\n",
    "    if simple_collision else FindResourceOrThrow(\"drake/sos_iris_certifier/planar_iiwa_dense_collision_welded_gripper.yaml\")\n",
    "directives = LoadModelDirectives(directives_file)\n",
    "models = ProcessModelDirectives(directives, plant, parser)\n",
    "\n",
    "q0 = [-0.2, -1.2, 1.6]\n",
    "index = 0\n",
    "for joint_index in plant.GetJointIndices(models[0].model_instance):\n",
    "    joint = plant.get_mutable_joint(joint_index)\n",
    "    if isinstance(joint, RevoluteJoint):\n",
    "        joint.set_default_angle(q0[index])\n",
    "        index += 1\n",
    "\n",
    "plant.Finalize()\n",
    "visualizer = ConnectMeshcatVisualizer(builder, scene_graph, zmq_url=zmq_url, \n",
    "                                      delete_prefix_on_load=False)\n",
    "\n",
    "diagram = builder.Build()\n",
    "visualizer.load()\n",
    "context = diagram.CreateDefaultContext()\n",
    "plant_context = plant.GetMyContextFromRoot(context)"
   ]
  },
  {
   "cell_type": "markdown",
   "metadata": {},
   "source": [
    "# Build Certified Iris Region Object"
   ]
  },
  {
   "cell_type": "code",
   "execution_count": 6,
   "metadata": {},
   "outputs": [],
   "source": [
    "iris_kwargs = {\n",
    "    'iris_starting_ellipse_vol': 1e-4,\n",
    "    'iris_plane_pullback': 1e-6,\n",
    "    'iris_max_faces': -1\n",
    "}"
   ]
  },
  {
   "cell_type": "code",
   "execution_count": 7,
   "metadata": {},
   "outputs": [],
   "source": [
    "iris_generator = CertifiedIrisRegionGenerator(diagram, plant, scene_graph, **iris_kwargs)"
   ]
  },
  {
   "cell_type": "code",
   "execution_count": 8,
   "metadata": {
    "scrolled": true
   },
   "outputs": [
    {
     "name": "stdout",
     "output_type": "stream",
     "text": [
      "geomA=iiwa::link7, geomB=shelves::top\n",
      "snopt_example=[ 0.14340093 -0.84451312 -0.11291406], growth = 18466675.42165807\n",
      "snopt_example=[ 0.1434027  -0.844515   -0.11292629], growth = 18466588.036849737\n",
      "snopt_example=[ 0.14340064 -0.84451527 -0.11291633], growth = 18466495.49572742\n",
      "snopt_example=[ 0.14340047 -0.84451629 -0.11291726], growth = 18466409.550599813\n",
      "snopt_example=[ 0.14339703 -0.84451609 -0.11289956], growth = 18466306.71825567\n",
      "snopt_example=[ 0.14339643 -0.84451724 -0.11289857], growth = 18466196.37808174\n",
      "snopt_example=[ 0.14340288 -0.84452124 -0.11293993], growth = 18466107.56588906\n",
      "geomA=iiwa::link7, geomB=wsg::right_collision\n",
      "geomA=wsg::left_collision, geomB=wsg::right_collision\n",
      "geomA=wsg::right_collision, geomB=shelves::shelf_upper\n",
      "geomA=wsg::body_collision, geomB=shelves::top\n",
      "snopt_example=[ 0.03898985 -1.07021074 -0.17559715], growth = 4176029.163530588\n",
      "snopt_example=[ 0.03898936 -1.07021175 -0.17559703], growth = 4175988.29298985\n",
      "snopt_example=[ 0.03898898 -1.07021304 -0.17559757], growth = 4175947.384550929\n",
      "geomA=wsg::body_collision, geomB=shelves::shelf_upper\n",
      "snopt_example=[ 0.08143865 -1.27609279 -0.08481127], growth = 265010.6765077412\n",
      "geomA=wsg::left_collision, geomB=shelves::top\n",
      "snopt_example=[-0.0443481  -1.22664268 -0.13630199], growth = 871532.9837440252\n",
      "geomA=wsg::right_collision, geomB=shelves::top\n",
      "geomA=iiwa::link7, geomB=shelves::shelf_lower\n",
      "geomA=wsg::body_collision, geomB=shelves::shelf_lower\n",
      "geomA=wsg::left_collision, geomB=shelves::shelf_lower\n",
      "geomA=wsg::right_collision, geomB=shelves::shelf_lower\n",
      "geomA=iiwa::link7, geomB=wsg::left_collision\n",
      "geomA=iiwa::link7, geomB=shelves::shelf_upper\n",
      "geomA=wsg::left_collision, geomB=shelves::shelf_upper\n",
      "0\n",
      "geomA=iiwa::link7, geomB=shelves::top\n",
      "geomA=iiwa::link7, geomB=wsg::right_collision\n",
      "geomA=wsg::left_collision, geomB=wsg::right_collision\n",
      "geomA=wsg::right_collision, geomB=shelves::shelf_upper\n",
      "snopt_example=[-0.00896816 -1.22257586  0.17902003], growth = 0.844991027369197\n",
      "snopt_example=[-0.0089679  -1.22256606  0.17902651], growth = 0.8449800178967877\n",
      "snopt_example=[-0.00897162 -1.22258921  0.17900916], growth = 0.8449690104965022\n",
      "snopt_example=[-0.00896782 -1.22255043  0.17903646], growth = 0.8449580069608658\n",
      "geomA=wsg::body_collision, geomB=shelves::top\n",
      "geomA=wsg::body_collision, geomB=shelves::shelf_upper\n",
      "geomA=wsg::left_collision, geomB=shelves::top\n",
      "snopt_example=[-0.06988657 -1.01606863  0.13247435], growth = 1.293543938070659\n",
      "snopt_example=[-0.06969964 -1.01402887  0.1344049 ], growth = 1.293549490058357\n",
      "snopt_example=[-0.06942034 -1.01103779  0.13723512], growth = 1.2935774419260326\n",
      "snopt_example=[-0.06895671 -1.00621158  0.14180018], growth = 1.2936729590801654\n",
      "snopt_example=[-0.06812522 -0.9979421   0.14961875], growth = 1.2939834893467896\n",
      "snopt_example=[-0.06814533 -0.99811478  0.14946035], growth = 1.293970050605676\n",
      "snopt_example=[-0.06816325 -0.99829172  0.14929333], growth = 1.2939566160643743\n",
      "geomA=wsg::right_collision, geomB=shelves::top\n",
      "geomA=iiwa::link7, geomB=shelves::shelf_lower\n",
      "geomA=wsg::body_collision, geomB=shelves::shelf_lower\n",
      "geomA=wsg::left_collision, geomB=shelves::shelf_lower\n",
      "geomA=wsg::right_collision, geomB=shelves::shelf_lower\n",
      "geomA=iiwa::link7, geomB=wsg::left_collision\n",
      "geomA=iiwa::link7, geomB=shelves::shelf_upper\n",
      "geomA=wsg::left_collision, geomB=shelves::shelf_upper\n",
      "1\n",
      "Time:   1.14 \tVolume:   0.23 \tCenter: [-0.34929851 -1.22955493  0.85162308]\n",
      "geomA=iiwa::link7, geomB=shelves::top\n",
      "snopt_example=[ 0.1481748  -0.84599123 -0.13959759], growth = 54553632.81732556\n",
      "snopt_example=[ 0.14817447 -0.84599217 -0.13959783], growth = 54553485.09656903\n",
      "snopt_example=[ 0.14817166 -0.84599307 -0.13958615], growth = 54553272.447778255\n",
      "geomA=iiwa::link7, geomB=wsg::right_collision\n",
      "geomA=wsg::left_collision, geomB=wsg::right_collision\n",
      "geomA=wsg::right_collision, geomB=shelves::shelf_upper\n",
      "snopt_example=[ 0.00289142 -1.57259364 -0.12735191], growth = 359817.42571640015\n",
      "geomA=wsg::body_collision, geomB=shelves::top\n",
      "geomA=wsg::body_collision, geomB=shelves::shelf_upper\n",
      "snopt_example=[ 0.09134432 -1.43285368 -0.23499335], growth = 4253590.355834603\n",
      "snopt_example=[ 0.09134014 -1.43283731 -0.2349736 ], growth = 4253549.174912304\n",
      "snopt_example=[ 0.09135907 -1.43292786 -0.23507354], growth = 4253505.6983172\n",
      "snopt_example=[ 0.09128469 -1.43258525 -0.23468924], growth = 4253507.762912124\n",
      "snopt_example=[ 0.09131873 -1.43274398 -0.23486635], growth = 4253472.286980867\n",
      "geomA=wsg::left_collision, geomB=shelves::top\n",
      "geomA=wsg::right_collision, geomB=shelves::top\n",
      "geomA=iiwa::link7, geomB=shelves::shelf_lower\n",
      "geomA=wsg::body_collision, geomB=shelves::shelf_lower\n",
      "geomA=wsg::left_collision, geomB=shelves::shelf_lower\n",
      "geomA=wsg::right_collision, geomB=shelves::shelf_lower\n",
      "geomA=iiwa::link7, geomB=wsg::left_collision\n",
      "geomA=iiwa::link7, geomB=shelves::shelf_upper\n",
      "geomA=wsg::left_collision, geomB=shelves::shelf_upper\n",
      "0\n",
      "geomA=iiwa::link7, geomB=shelves::top\n",
      "geomA=iiwa::link7, geomB=wsg::right_collision\n",
      "geomA=wsg::left_collision, geomB=wsg::right_collision\n",
      "geomA=wsg::right_collision, geomB=shelves::shelf_upper\n",
      "snopt_example=[-0.02548158 -1.5337237  -0.03938737], growth = 2.5213470181228317\n",
      "snopt_example=[-0.02548166 -1.53372124 -0.03938562], growth = 2.5213436543681844\n",
      "snopt_example=[-0.02548174 -1.53371778 -0.03938322], growth = 2.5213390668874585\n",
      "snopt_example=[-0.02548183 -1.53371431 -0.03938082], growth = 2.5213344794078036\n",
      "snopt_example=[-0.02548191 -1.53371084 -0.03937843], growth = 2.5213298919291818\n",
      "snopt_example=[-0.02548199 -1.53370737 -0.03937603], growth = 2.521325304451592\n",
      "snopt_example=[-0.02548207 -1.5337039  -0.03937363], growth = 2.5213207169750422\n",
      "snopt_example=[-0.02548215 -1.53370043 -0.03937123], growth = 2.521316129499528\n",
      "snopt_example=[-0.02548223 -1.53369696 -0.03936884], growth = 2.5213115420250505\n",
      "snopt_example=[-0.02548232 -1.53369349 -0.03936644], growth = 2.521306954551603\n",
      "snopt_example=[-0.0254824  -1.53369002 -0.03936404], growth = 2.521302367079194\n",
      "snopt_example=[-0.02548248 -1.53368655 -0.03936164], growth = 2.5212977796078206\n",
      "snopt_example=[-0.02548256 -1.53368308 -0.03935925], growth = 2.521293192137483\n",
      "snopt_example=[-0.02548264 -1.53367961 -0.03935685], growth = 2.521288604668177\n",
      "snopt_example=[-0.02548273 -1.53367615 -0.03935445], growth = 2.521284017199905\n",
      "snopt_example=[-0.02548281 -1.53367268 -0.03935205], growth = 2.521279429732674\n",
      "geomA=wsg::body_collision, geomB=shelves::top\n",
      "geomA=wsg::body_collision, geomB=shelves::shelf_upper\n",
      "geomA=wsg::left_collision, geomB=shelves::top\n",
      "snopt_example=[-0.07274934 -1.21599204 -0.06552721], growth = 2.2969509024176284\n",
      "snopt_example=[-0.07275366 -1.21595068 -0.06547918], growth = 2.296943310815637\n",
      "geomA=wsg::right_collision, geomB=shelves::top\n",
      "geomA=iiwa::link7, geomB=shelves::shelf_lower\n",
      "geomA=wsg::body_collision, geomB=shelves::shelf_lower\n",
      "geomA=wsg::left_collision, geomB=shelves::shelf_lower\n",
      "geomA=wsg::right_collision, geomB=shelves::shelf_lower\n",
      "geomA=iiwa::link7, geomB=wsg::left_collision\n",
      "geomA=iiwa::link7, geomB=shelves::shelf_upper\n",
      "geomA=wsg::left_collision, geomB=shelves::shelf_upper\n",
      "1\n",
      "Time:   2.68 \tVolume:   2.67 \tCenter: [-1.05610255 -1.1227453   0.04770918]\n"
     ]
    }
   ],
   "source": [
    "seed_points = np.tan(np.array([\n",
    "#                         [0.0, -2.016, 1.975], # in tight\n",
    "#                         [-1, -2, 0.5],        # neutral pose\n",
    "#                         [0.3, -0.8, 0.5],     # above shelf\n",
    "#                         [0.25, -1.6, -0.25],  # in shelf 1\n",
    "                        [0.07, -1.8, -0.2],   # leaving shelf 1\n",
    "                        [-0.1, -2, -0.3]])    # out of shelf 1\n",
    "                        /2)\n",
    "regions, ellipses = iris_generator.iris_in_rational_space(seed_points)\n"
   ]
  },
  {
   "cell_type": "code",
   "execution_count": 9,
   "metadata": {},
   "outputs": [],
   "source": [
    "# plot regions\n",
    "if do_viz:\n",
    "    viz_utils.plot_regions(vis2, regions, ellipses)\n",
    "\n",
    "    # plot seedpoints\n",
    "    for i in range(seed_points.shape[0]):\n",
    "        vis2['iris']['seedpoints'][\"seedpoint\"+str(i)].set_object(\n",
    "                    meshcat.geometry.Sphere(0.05), meshcat.geometry.MeshLambertMaterial(color=0x0FB900))\n",
    "        vis2['iris']['seedpoints'][\"seedpoint\"+str(i)].set_transform(\n",
    "                    meshcat.transformations.translation_matrix(seed_points[i,:]))\n",
    "    "
   ]
  },
  {
   "cell_type": "markdown",
   "metadata": {},
   "source": [
    "## Marching cubes in t space"
   ]
  },
  {
   "cell_type": "code",
   "execution_count": 10,
   "metadata": {},
   "outputs": [],
   "source": [
    "#evaluate constraints\n",
    "def convert_t_to_q(t):\n",
    "    q =np.arctan2(2*t/(1+t**2), (1-t**2)/(1+t**2))\n",
    "    return q\n",
    "\n",
    "def convert_q_to_t(q):\n",
    "    return np.tan(np.divide(q,2))\n",
    "\n",
    "ik = InverseKinematics(plant, plant_context)\n",
    "collision_constraint = ik.AddMinimumDistanceConstraint(0.001, 0.01)\n",
    "def eval_cons(q0, q1, q2, c, tol):\n",
    "        return 1-1*float(c.evaluator().CheckSatisfied([q0, q1, q2], tol))\n",
    "\n",
    "col_func_handle = partial(eval_cons, c=collision_constraint, tol=0.01)\n",
    "\n",
    "def eval_cons_rational(t0, t1, t2, c, tol):\n",
    "    q = convert_t_to_q(np.array([t0, t1, t2]).reshape(1,-1)).squeeze() \n",
    "    return col_func_handle(*q)\n",
    "   \n",
    "col_func_handle_rational = partial(eval_cons_rational, c=collision_constraint, tol=0.01)\n"
   ]
  },
  {
   "cell_type": "code",
   "execution_count": 11,
   "metadata": {},
   "outputs": [],
   "source": [
    "#marching cubes\n",
    "if do_viz:\n",
    "    N = 50\n",
    "    vertices, triangles = mcubes.marching_cubes_func(tuple(iris_generator.t_lower_limits), \n",
    "                                                     tuple(iris_generator.t_upper_limits),\n",
    "                                                     N, N, N, col_func_handle_rational, 0.5)\n",
    "\n",
    "    vis2[\"collision_constraint\"].set_object(\n",
    "                meshcat.geometry.TriangularMeshGeometry(vertices, triangles),\n",
    "                meshcat.geometry.MeshLambertMaterial(color=0xff0000, wireframe=True))"
   ]
  },
  {
   "cell_type": "code",
   "execution_count": 17,
   "metadata": {},
   "outputs": [
    {
     "name": "stdout",
     "output_type": "stream",
     "text": [
      "time to create maps: : 1.2638\n",
      "Time to initialize region program: 1.2641\n",
      "time to create Region Certification Problem: : 5.7525\n",
      "time to create maps: : 1.4068\n",
      "Time to initialize region program: 1.4069\n",
      "time to create Region Certification Problem: : 7.8572\n"
     ]
    }
   ],
   "source": [
    "certification_problems = iris_generator._initalize_certifier( plane_order = 1)\n",
    "\n"
   ]
  },
  {
   "cell_type": "markdown",
   "metadata": {},
   "source": [
    "Notes:\n",
    "Currently have build certifiaction problems from maps done. Now can solve. Current design strategy means we should not solve the programs in parallel since all the programs point\n",
    "to the same variables. This saves a lot of memory and (hopefully) speeds up the construction substantially"
   ]
  },
  {
   "cell_type": "code",
   "execution_count": null,
   "metadata": {},
   "outputs": [],
   "source": []
  }
 ],
 "metadata": {
  "interpreter": {
   "hash": "916dbcbb3f70747c44a77c7bcd40155683ae19c65e1c03b4aa3499c5328201f1"
  },
  "kernelspec": {
   "display_name": "Python 3",
   "language": "python",
   "name": "python3"
  },
  "language_info": {
   "codemirror_mode": {
    "name": "ipython",
    "version": 3
   },
   "file_extension": ".py",
   "mimetype": "text/x-python",
   "name": "python",
   "nbconvert_exporter": "python",
   "pygments_lexer": "ipython3",
   "version": "3.8.10"
  }
 },
 "nbformat": 4,
 "nbformat_minor": 2
}
