{
 "cells": [
  {
   "cell_type": "code",
   "execution_count": 32,
   "metadata": {},
   "outputs": [
    {
     "name": "stdout",
     "output_type": "stream",
     "text": [
      "The autoreload extension is already loaded. To reload it, use:\n",
      "  %reload_ext autoreload\n"
     ]
    }
   ],
   "source": [
    "%load_ext autoreload"
   ]
  },
  {
   "cell_type": "code",
   "execution_count": 33,
   "metadata": {},
   "outputs": [],
   "source": [
    "from certified_iris_generator import CertifiedIrisRegionGenerator\n",
    "import sys\n",
    "import os\n",
    "import time\n",
    "import numpy as np\n",
    "from functools import partial\n",
    "import itertools\n",
    "import iris_utils #TODO remove\n",
    "import ipywidgets as widgets\n",
    "from IPython.display import display\n",
    "from meshcat import Visualizer"
   ]
  },
  {
   "cell_type": "code",
   "execution_count": 34,
   "metadata": {},
   "outputs": [],
   "source": [
    "#pydrake imports\n",
    "from pydrake.common import FindResourceOrThrow\n",
    "from pydrake.multibody.parsing import LoadModelDirectives, Parser, ProcessModelDirectives\n",
    "from pydrake.multibody.plant import MultibodyPlant, AddMultibodyPlantSceneGraph\n",
    "from pydrake.systems.framework import DiagramBuilder\n",
    "from pydrake.all import InverseKinematics, RevoluteJoint, RationalForwardKinematics\n",
    "from pydrake.geometry.optimization import IrisOptionsRationalSpace, IrisInRationalConfigurationSpace, HPolyhedron, Hyperellipsoid\n",
    "from pydrake.geometry import Role, GeometrySet, CollisionFilterDeclaration\n",
    "import pydrake.symbolic as sym\n",
    "from pydrake.all import MathematicalProgram, RigidTransform, RollPitchYaw\n",
    "from pydrake.systems.meshcat_visualizer import ConnectMeshcatVisualizer\n",
    "from sandbox import rrtiris"
   ]
  },
  {
   "cell_type": "code",
   "execution_count": 35,
   "metadata": {},
   "outputs": [
    {
     "name": "stdout",
     "output_type": "stream",
     "text": [
      "You can open the visualizer by visiting the following URL:\n",
      "http://127.0.0.1:7054/static/\n"
     ]
    }
   ],
   "source": [
    "from meshcat.servers.zmqserver import start_zmq_server_as_subprocess\n",
    "proc, zmq_url, web_url = start_zmq_server_as_subprocess(server_args=[])\n",
    "vis = Visualizer(zmq_url=zmq_url)\n",
    "vis.delete()"
   ]
  },
  {
   "cell_type": "code",
   "execution_count": 36,
   "metadata": {},
   "outputs": [
    {
     "name": "stdout",
     "output_type": "stream",
     "text": [
      "You can open the visualizer by visiting the following URL:\n",
      "http://127.0.0.1:7054/static/\n",
      "Connecting to meshcat-server at zmq_url=tcp://127.0.0.1:6054...\n",
      "You can open the visualizer by visiting the following URL:\n",
      "http://127.0.0.1:7054/static/\n",
      "Connected to meshcat-server.\n"
     ]
    }
   ],
   "source": [
    "\n",
    "def load_model():\n",
    "    model_file = FindResourceOrThrow(\"drake/manipulation/models/iiwa_description/iiwa7/iiwa7_with_box_collision.sdf\")\n",
    "    #schunk = FindResourceOrThrow(\"drake/sos_iris_certifier/schunk_wsg_50_block.sdf\")\n",
    "    box_file_1 = FindResourceOrThrow(\"drake/sos_iris_certifier/assets/shelves.sdf\")\n",
    "    #box_file_2 = FindResourceOrThrow(\"drake/sos_iris_certifier/assets/shelves2.sdf\")\n",
    "    #box_file_3 = FindResourceOrThrow(\"drake/sos_iris_certifier/assets/shelves3.sdf\")\n",
    "    #box_file_4 = FindResourceOrThrow(\"drake/sos_iris_certifier/assets/shelves4.sdf\")\n",
    "    lid_file = FindResourceOrThrow(\"drake/sos_iris_certifier/assets/lid.urdf\")\n",
    "    ground_file = FindResourceOrThrow(\"drake/sos_iris_certifier/assets/ground.urdf\")\n",
    "\n",
    "    models =[]\n",
    "\n",
    "    builder = DiagramBuilder()\n",
    "\n",
    "    plant, scene_graph = AddMultibodyPlantSceneGraph(builder, time_step=1e-4)\n",
    "\n",
    "    parser = Parser(plant, scene_graph)\n",
    "    #parser.package_map().Add( \"wsg_50_description\", os.path.dirname(FindResourceOrThrow(\n",
    "    #        \"drake/manipulation/models/wsg_50_description/package.xml\")))\n",
    "    models.append(parser.AddModelFromFile(model_file))\n",
    "    models.append(parser.AddModelFromFile(box_file_1))\n",
    "    #models.append(parser.AddModelFromFile(box_file_2))\n",
    "    #models.append(parser.AddModelFromFile(box_file_3))\n",
    "    #models.append(parser.AddModelFromFile(box_file_4))\n",
    "    models.append(parser.AddModelFromFile(lid_file))\n",
    "    models.append(parser.AddModelFromFile(ground_file))\n",
    "    #models.append(parser.AddModelFromFile(schunk))\n",
    "\n",
    "    sp = 0.4\n",
    "    x_fac = 1.2\n",
    "    locs = [ [0,0,0], \n",
    "            [x_fac*sp, 1.4*sp,0.4], [x_fac*sp,-1.4*sp,0.4], [-x_fac*sp,-1.4*sp,0.4], [-x_fac*sp,1.4*sp,0.4], \n",
    "            [0.0 ,0 , 0.95], [0.0 ,0 , -0.05]] \n",
    "    \n",
    "    locs = [locs[idx] for idx in [0,1,5,6]]\n",
    "    \n",
    "    idx = 0\n",
    "    #for model in models[-1]:\n",
    "    for model in models:\n",
    "        plant.WeldFrames(plant.world_frame(), plant.get_body(plant.GetBodyIndices(model)[0]).body_frame(), RigidTransform(locs[idx]))\n",
    "        idx +=1\n",
    "    \n",
    "    #fuse S_C_H_U_N_K\n",
    "    #plant.WeldFrames(plant.get_body(plant.GetBodyIndices(models[0])[-1]).body_frame(),\n",
    "    #                 plant.get_body(plant.GetBodyIndices(models[-1])[0]).body_frame(),\n",
    "    #                 RigidTransform(RollPitchYaw([np.pi/2,0, np.pi/2]).ToRotationMatrix(),[0,0,0.114]))\n",
    "\n",
    "    plant.Finalize()\n",
    "    return plant, builder, scene_graph, models\n",
    "\n",
    "def load_vis(plant, builder, scene_graph, zmq_url, col_geom = 0):\n",
    "    vis = Visualizer(zmq_url=zmq_url)\n",
    "    vis.delete()\n",
    "    if col_geom == 0:\n",
    "        viz_role = Role.kIllustration\n",
    "    else:\n",
    "        viz_role = Role.kProximity\n",
    "    visualizer = ConnectMeshcatVisualizer(builder, scene_graph, zmq_url=zmq_url, delete_prefix_on_load=False, role=viz_role )\n",
    "\n",
    "    diagram = builder.Build()\n",
    "    visualizer.load()\n",
    "    return vis, diagram\n",
    "plant, builder, scene_graph, models = load_model()\n",
    "vis, diagram = load_vis(plant, builder, scene_graph, zmq_url, col_geom = 1)\n",
    "context = diagram.CreateDefaultContext()\n",
    "plant_context = plant.GetMyContextFromRoot(context)\n",
    "sg_context = scene_graph.GetMyContextFromRoot(context)\n",
    "diagram.Publish(context)\n"
   ]
  },
  {
   "cell_type": "code",
   "execution_count": 37,
   "metadata": {},
   "outputs": [
    {
     "name": "stdout",
     "output_type": "stream",
     "text": [
      "iiwa7::iiwa_link_1_collision\n",
      "iiwa7::iiwa_link_0_collision\n",
      "58 -> 77\n"
     ]
    }
   ],
   "source": [
    "#filter_manager = scene_graph.collision_filter_manager(sg_context)\n",
    "inspector = scene_graph.model_inspector()\n",
    "\n",
    "#pairs = scene_graph.get_query_output_port().Eval(sg_context).inspector().GetCollisionCandidates()\n",
    "#print(len(inspector.GetCollisionCandidates()), \"->\", len(pairs))\n",
    "\n",
    "all_gids = []\n",
    "for gid in inspector.GetGeometryIds(GeometrySet(inspector.GetAllGeometryIds()), Role.kProximity):\n",
    "    #print(gid)\n",
    "    name = inspector.GetName(gid)\n",
    "    if \"iiwa7::iiwa_link_1\" in name:\n",
    "        print(name)\n",
    "        link_1 = gid\n",
    "    if \"iiwa7::iiwa_link_0\" in name:\n",
    "        print(name)\n",
    "        link_0 = gid    \n",
    "    all_gids.append(gid)\n",
    "    #gid_name = inspector.GetName(gid)\n",
    "    \n",
    "one_zero_var_links = GeometrySet([link_0, link_1])\n",
    "all_gid_set = GeometrySet(all_gids)\n",
    "scene_graph.collision_filter_manager().Apply(CollisionFilterDeclaration().ExcludeBetween(one_zero_var_links, all_gid_set))\n",
    "pairs = scene_graph.get_query_output_port().Eval(sg_context).inspector().GetCollisionCandidates()\n",
    "print(len(inspector.GetCollisionCandidates()), \"->\", len(pairs))"
   ]
  },
  {
   "cell_type": "code",
   "execution_count": 38,
   "metadata": {},
   "outputs": [
    {
     "data": {
      "application/vnd.jupyter.widget-view+json": {
       "model_id": "59edbe62a3c046a6b464cc6fd9759518",
       "version_major": 2,
       "version_minor": 0
      },
      "text/plain": [
       "FloatSlider(value=0.0, description='iiwa_joint_0', max=2.96706, min=-2.96706)"
      ]
     },
     "metadata": {},
     "output_type": "display_data"
    },
    {
     "data": {
      "application/vnd.jupyter.widget-view+json": {
       "model_id": "839d6948c36c4ff5ad7d3cfdaac211be",
       "version_major": 2,
       "version_minor": 0
      },
      "text/plain": [
       "FloatSlider(value=0.0, description='iiwa_joint_1', max=2.0944, min=-2.0944)"
      ]
     },
     "metadata": {},
     "output_type": "display_data"
    },
    {
     "data": {
      "application/vnd.jupyter.widget-view+json": {
       "model_id": "5c93f3ab70614b059696dae714f7dcaf",
       "version_major": 2,
       "version_minor": 0
      },
      "text/plain": [
       "FloatSlider(value=0.0, description='iiwa_joint_2', max=2.96706, min=-2.96706)"
      ]
     },
     "metadata": {},
     "output_type": "display_data"
    },
    {
     "data": {
      "application/vnd.jupyter.widget-view+json": {
       "model_id": "7796bdcc20af4219a04f5cb696d76523",
       "version_major": 2,
       "version_minor": 0
      },
      "text/plain": [
       "FloatSlider(value=0.0, description='iiwa_joint_3', max=2.0944, min=-2.0944)"
      ]
     },
     "metadata": {},
     "output_type": "display_data"
    },
    {
     "data": {
      "application/vnd.jupyter.widget-view+json": {
       "model_id": "d1088ca120674eb180b9b38bbf6a6684",
       "version_major": 2,
       "version_minor": 0
      },
      "text/plain": [
       "FloatSlider(value=0.0, description='iiwa_joint_4', max=2.96706, min=-2.96706)"
      ]
     },
     "metadata": {},
     "output_type": "display_data"
    },
    {
     "data": {
      "application/vnd.jupyter.widget-view+json": {
       "model_id": "aca7be66450944498d8f583b8bc71818",
       "version_major": 2,
       "version_minor": 0
      },
      "text/plain": [
       "FloatSlider(value=0.0, description='iiwa_joint_5', max=2.0944, min=-2.0944)"
      ]
     },
     "metadata": {},
     "output_type": "display_data"
    },
    {
     "data": {
      "application/vnd.jupyter.widget-view+json": {
       "model_id": "3dfcfb6d36984f6bb480124fea3d0db4",
       "version_major": 2,
       "version_minor": 0
      },
      "text/plain": [
       "FloatSlider(value=0.0, description='iiwa_joint_6', max=3.05433, min=-3.05433)"
      ]
     },
     "metadata": {},
     "output_type": "display_data"
    }
   ],
   "source": [
    "import ipywidgets as widgets\n",
    "from IPython.display import display\n",
    "q_slider = np.zeros((7,))\n",
    "sliders = []\n",
    "for low, up, joint_idx in zip(plant.GetPositionLowerLimits()[:7], plant.GetPositionUpperLimits()[:7], range(7)):\n",
    "    sliders.append(\n",
    "        widgets.FloatSlider(\n",
    "        min=low, \n",
    "        max=up, \n",
    "        value=0, \n",
    "        description=f'iiwa_joint_{joint_idx}'\n",
    "        )\n",
    "    )\n",
    "\n",
    "\n",
    "def handle_slider_change(change, idx):\n",
    "    q_slider[idx] = change['new']\n",
    "    #print(q, end=\"\\r\")\n",
    "    plant.SetPositions(plant_context, q_slider)\n",
    "    diagram.Publish(context)\n",
    "    \n",
    "\n",
    "for idx, slider in enumerate(sliders):\n",
    "    slider.observe(partial(handle_slider_change, idx = idx), names='value')\n",
    "for slider in sliders:\n",
    "    display(slider)"
   ]
  },
  {
   "cell_type": "code",
   "execution_count": 39,
   "metadata": {},
   "outputs": [
    {
     "data": {
      "text/html": [
       "\n",
       "            <div style=\"height: 400px; width: 100%; overflow-x: auto; overflow-y: hidden; resize: both\">\n",
       "            <iframe src=\"http://127.0.0.1:7054/static/\" style=\"width: 100%; height: 100%; border: none\"></iframe>\n",
       "            </div>\n",
       "            "
      ],
      "text/plain": [
       "<IPython.core.display.HTML object>"
      ]
     },
     "metadata": {},
     "output_type": "display_data"
    }
   ],
   "source": [
    "display(vis.jupyter_cell())"
   ]
  },
  {
   "cell_type": "code",
   "execution_count": 40,
   "metadata": {},
   "outputs": [],
   "source": [
    "start = np.array([1.43, -0.69, 0.83, 1.01, -1.97, 1.11, np.pi/2])\n",
    "target = np.array([ 1.63294,  1.3056 ,  0.43   , -1.19   , -1.76706, -1.0944 ,\n",
    "       -2.45433])\n",
    "plant.SetPositions(plant_context, start)\n",
    "diagram.Publish(context)"
   ]
  },
  {
   "cell_type": "code",
   "execution_count": 41,
   "metadata": {},
   "outputs": [],
   "source": [
    "iris_options = IrisOptionsRationalSpace()\n",
    "iris_options.require_sample_point_is_contained = True\n",
    "iris_options.iteration_limit = 20\n",
    "iris_options.configuration_space_margin = 0.8e-5\n",
    "iris_options.max_faces_per_collision_pair = 10\n",
    "iris_options.termination_threshold = -1\n",
    "iris_options.relative_termination_threshold = 0.01\n",
    "iris_options.enable_ibex = False\n",
    "iris_options.q_star = np.zeros(7)\n",
    "iris_options.certify_region_with_sos_during_generation = False\n",
    "iris_options.certify_region_with_sos_after_generation = False\n",
    "rational_fk = RationalForwardKinematics(plant)\n",
    "poi = []\n",
    "for pt in [start, target]:\n",
    "    poi.append(rational_fk.ComputeTValue(pt, np.zeros((7,)) ))\n",
    "\n",
    "#compute limits in t-space\n",
    "limits_t = []\n",
    "for q in [plant.GetPositionLowerLimits(), plant.GetPositionUpperLimits()]:\n",
    "    limits_t.append(rational_fk.ComputeTValue(np.array(q), np.zeros((7,)) ))\n",
    "    \n",
    "starting_poly = HPolyhedron.MakeBox(limits_t[0], limits_t[1])\n",
    "\n",
    "def iris_handle(seed, domain):\n",
    "    seed_q = rational_fk.ComputeQValue(np.array(seed), np.zeros((7,)) )\n",
    "    plant.SetPositions(plant.GetMyMutableContextFromRoot(context), seed_q)\n",
    "    return IrisInRationalConfigurationSpace(plant, plant.GetMyContextFromRoot(context),\n",
    "                                              iris_options, domain)"
   ]
  },
  {
   "cell_type": "code",
   "execution_count": 44,
   "metadata": {},
   "outputs": [],
   "source": [
    "region = iris_handle(poi[0], starting_poly)"
   ]
  },
  {
   "cell_type": "code",
   "execution_count": 45,
   "metadata": {},
   "outputs": [],
   "source": [
    "regions = [region.ReduceInequalities()]"
   ]
  },
  {
   "cell_type": "code",
   "execution_count": 46,
   "metadata": {},
   "outputs": [],
   "source": [
    "import pydrake.multibody.rational_forward_kinematics as rational_forward_kinematics\n",
    "from pydrake.multibody.rational_forward_kinematics import FindEpsilonLower\n",
    "from pydrake.solvers import mathematicalprogram as mp\n",
    "cspace_free_region = rational_forward_kinematics.CspaceFreeRegion(diagram, plant, scene_graph,\n",
    "                                   rational_forward_kinematics.SeparatingPlaneOrder.kAffine,\n",
    "                                   rational_forward_kinematics.CspaceRegionType.kGenericPolytope)"
   ]
  },
  {
   "cell_type": "code",
   "execution_count": 47,
   "metadata": {},
   "outputs": [
    {
     "ename": "SystemExit",
     "evalue": "Failure at bazel-out/k8-opt/bin/solvers/_virtual_includes/constraint/drake/solvers/constraint.h:564 in LinearConstraint(): condition 'A_.array().isFinite().all()' failed.",
     "output_type": "error",
     "traceback": [
      "An exception has occurred, use %tb to see the full traceback.\n",
      "\u001b[0;31mSystemExit\u001b[0m\u001b[0;31m:\u001b[0m Failure at bazel-out/k8-opt/bin/solvers/_virtual_includes/constraint/drake/solvers/constraint.h:564 in LinearConstraint(): condition 'A_.array().isFinite().all()' failed.\n"
     ]
    },
    {
     "name": "stderr",
     "output_type": "stream",
     "text": [
      "/usr/lib/python3/dist-packages/IPython/core/interactiveshell.py:3339: UserWarning: To exit: use 'exit', 'quit', or Ctrl-D.\n",
      "  warn(\"To exit: use 'exit', 'quit', or Ctrl-D.\", stacklevel=1)\n"
     ]
    }
   ],
   "source": [
    "FindEpsilonLower(-0.3*np.ones((regions[0].A().shape[0],1)), 10.0*np.ones((regions[0].A().shape[0],1)), region.A(), region.b())"
   ]
  },
  {
   "cell_type": "code",
   "execution_count": 31,
   "metadata": {},
   "outputs": [
    {
     "ename": "SystemExit",
     "evalue": "Failure at bazel-out/k8-opt/bin/solvers/_virtual_includes/constraint/drake/solvers/constraint.h:564 in LinearConstraint(): condition 'A_.array().isFinite().all()' failed.",
     "output_type": "error",
     "traceback": [
      "\u001b[0;31m---------------------------------------------------------------------------\u001b[0m",
      "\u001b[0;31mSystemExit\u001b[0m                                Traceback (most recent call last)",
      "\u001b[0;32m<ipython-input-30-6233e852c024>\u001b[0m in \u001b[0;36m<module>\u001b[0;34m\u001b[0m\n\u001b[0;32m----> 1\u001b[0;31m \u001b[0mFindEpsilonLower\u001b[0m\u001b[0;34m(\u001b[0m\u001b[0;34m-\u001b[0m\u001b[0;36m0.3\u001b[0m\u001b[0;34m*\u001b[0m\u001b[0mnp\u001b[0m\u001b[0;34m.\u001b[0m\u001b[0mones\u001b[0m\u001b[0;34m(\u001b[0m\u001b[0;34m(\u001b[0m\u001b[0mregion\u001b[0m\u001b[0;34m.\u001b[0m\u001b[0mA\u001b[0m\u001b[0;34m(\u001b[0m\u001b[0;34m)\u001b[0m\u001b[0;34m.\u001b[0m\u001b[0mshape\u001b[0m\u001b[0;34m[\u001b[0m\u001b[0;36m0\u001b[0m\u001b[0;34m]\u001b[0m\u001b[0;34m,\u001b[0m\u001b[0;36m1\u001b[0m\u001b[0;34m)\u001b[0m\u001b[0;34m)\u001b[0m\u001b[0;34m,\u001b[0m \u001b[0;36m10.0\u001b[0m\u001b[0;34m*\u001b[0m\u001b[0mnp\u001b[0m\u001b[0;34m.\u001b[0m\u001b[0mones\u001b[0m\u001b[0;34m(\u001b[0m\u001b[0;34m(\u001b[0m\u001b[0mregion\u001b[0m\u001b[0;34m.\u001b[0m\u001b[0mA\u001b[0m\u001b[0;34m(\u001b[0m\u001b[0;34m)\u001b[0m\u001b[0;34m.\u001b[0m\u001b[0mshape\u001b[0m\u001b[0;34m[\u001b[0m\u001b[0;36m0\u001b[0m\u001b[0;34m]\u001b[0m\u001b[0;34m,\u001b[0m\u001b[0;36m1\u001b[0m\u001b[0;34m)\u001b[0m\u001b[0;34m)\u001b[0m\u001b[0;34m,\u001b[0m \u001b[0mregion\u001b[0m\u001b[0;34m.\u001b[0m\u001b[0mA\u001b[0m\u001b[0;34m(\u001b[0m\u001b[0;34m)\u001b[0m\u001b[0;34m,\u001b[0m \u001b[0mregion\u001b[0m\u001b[0;34m.\u001b[0m\u001b[0mb\u001b[0m\u001b[0;34m(\u001b[0m\u001b[0;34m)\u001b[0m\u001b[0;34m)\u001b[0m\u001b[0;34m\u001b[0m\u001b[0;34m\u001b[0m\u001b[0m\n\u001b[0m",
      "\u001b[0;31mSystemExit\u001b[0m: Failure at bazel-out/k8-opt/bin/solvers/_virtual_includes/constraint/drake/solvers/constraint.h:564 in LinearConstraint(): condition 'A_.array().isFinite().all()' failed."
     ]
    }
   ],
   "source": [
    "%tb "
   ]
  },
  {
   "cell_type": "code",
   "execution_count": 31,
   "metadata": {},
   "outputs": [
    {
     "name": "stderr",
     "output_type": "stream",
     "text": [
      "[2022-01-23 17:19:06.140] [console] [info] Solver time 67.12762308120728\n",
      "[2022-01-23 17:30:29.969] [console] [info] Solver time 282.63026118278503\n"
     ]
    },
    {
     "name": "stdout",
     "output_type": "stream",
     "text": [
      "binary search: the initial epsilon -0.0644 is infeasible\n",
      "0\n"
     ]
    }
   ],
   "source": [
    "edited_regions = []\n",
    "filtered_collision_pairs = set()\n",
    "\n",
    "binary_search_options = rational_forward_kinematics.BinarySearchOption()\n",
    "binary_search_options.epsilon_max = 10\n",
    "binary_search_options.epsilon_min = -0.0644\n",
    "binary_search_options.max_iters = 5\n",
    "binary_search_options.search_d = True\n",
    "bilinear_alternation_option = rational_forward_kinematics.BilinearAlternationOption()\n",
    "bilinear_alternation_option.max_iters = 20\n",
    "bilinear_alternation_option.lagrangian_backoff_scale = 1e-3\n",
    "bilinear_alternation_option.polytope_backoff_scale = 1e-5\n",
    "\n",
    "solver_options = mp.SolverOptions()\n",
    "solver_options.SetOption(mp.CommonSolverOption.kPrintToConsole, 1)\n",
    "for r in regions: \n",
    "    try:\n",
    "        d_feasible = \\\n",
    "            cspace_free_region.CspacePolytopeBinarySearch(\n",
    "                iris_options.q_star, filtered_collision_pairs, r.A(), r.b(),\n",
    "                binary_search_options, solver_options)\n",
    "        \n",
    "        #C_final, d_final, P_final, q_final = \\\n",
    "        #    cspace_free_region.CspacePolytopeBilinearAlternation(\n",
    "        #        iris_options.q_star, filtered_collision_pairs, r.A(), d_feasible,\n",
    "        #       bilinear_alternation_option, solver_options)\n",
    "        #C_final = np.vstack([C_final, P_joint_limits.A()])\n",
    "        #d_final = np.concatenate([d_final, P_joint_limits.b()])\n",
    "        #editted_regions.append(HPolyhedron(C_final, d_final))\n",
    "    except Exception as e:\n",
    "        print(e)\n",
    "print(len(edited_regions))"
   ]
  },
  {
   "cell_type": "code",
   "execution_count": 27,
   "metadata": {},
   "outputs": [],
   "source": [
    "C = regions[0].MaximumVolumeInscribedEllipsoid().A()\n",
    "radii2, R  =  np.linalg.eig(C.T @ C)\n",
    "radii = np.sqrt(radii2)"
   ]
  },
  {
   "cell_type": "code",
   "execution_count": 33,
   "metadata": {},
   "outputs": [
    {
     "ename": "TypeError",
     "evalue": "'pydrake.geometry.optimization.HPolyhedron' object is not subscriptable",
     "output_type": "error",
     "traceback": [
      "\u001b[0;31m---------------------------------------------------------------------------\u001b[0m",
      "\u001b[0;31mTypeError\u001b[0m                                 Traceback (most recent call last)",
      "\u001b[0;32m<ipython-input-33-d82f22904f80>\u001b[0m in \u001b[0;36m<module>\u001b[0;34m\u001b[0m\n\u001b[0;32m----> 1\u001b[0;31m \u001b[0mregion\u001b[0m\u001b[0;34m[\u001b[0m\u001b[0;36m0\u001b[0m\u001b[0;34m]\u001b[0m\u001b[0;34m\u001b[0m\u001b[0;34m\u001b[0m\u001b[0m\n\u001b[0m",
      "\u001b[0;31mTypeError\u001b[0m: 'pydrake.geometry.optimization.HPolyhedron' object is not subscriptable"
     ]
    }
   ],
   "source": [
    "region.ReduceInequalities\n"
   ]
  },
  {
   "cell_type": "markdown",
   "metadata": {},
   "source": [
    "# RRTIRIS SEEDING"
   ]
  },
  {
   "cell_type": "code",
   "execution_count": 20,
   "metadata": {},
   "outputs": [],
   "source": [
    "plant.SetPositions(plant_context, start)\n",
    "diagram.Publish(context)"
   ]
  },
  {
   "cell_type": "code",
   "execution_count": 21,
   "metadata": {},
   "outputs": [],
   "source": [
    "ik = InverseKinematics(plant, plant_context)\n",
    "collision_constraint = ik.AddMinimumDistanceConstraint(0.001, 0.001)\n",
    "\n",
    "def eval_cons(q, c, tol):\n",
    "    return 1-1*float(c.evaluator().CheckSatisfied(q, tol))\n",
    "    \n",
    "col_func_handle = partial(eval_cons, c=collision_constraint, tol=0.01)"
   ]
  },
  {
   "cell_type": "code",
   "execution_count": 22,
   "metadata": {},
   "outputs": [
    {
     "name": "stdout",
     "output_type": "stream",
     "text": [
      "0\n",
      "[RRT IRIS] Pos_samp [  4.95822984   0.89264185  -2.46051905   0.93647177   0.90372506\n",
      "  -0.64562155 -13.96607497]  seed  [ 0.07178442 -0.1183294   0.84153307  1.39983734 -0.71316456  0.57561463\n",
      " -2.35743324]  dist  13.224370692880166\n",
      "1.952428675231686\n",
      "[RRT IRIS] it: 0 distance to target:  1.952 goalsample prob:  0.305\n"
     ]
    },
    {
     "data": {
      "text/plain": [
       "(False,\n",
       " [<pydrake.geometry.optimization.HPolyhedron at 0x7fee273dc2f0>,\n",
       "  <pydrake.geometry.optimization.HPolyhedron at 0x7fee3c8151b0>],\n",
       " [<pydrake.geometry.optimization.Hyperellipsoid at 0x7fee3c815370>,\n",
       "  <pydrake.geometry.optimization.Hyperellipsoid at 0x7fee2777a9b0>])"
      ]
     },
     "execution_count": 22,
     "metadata": {},
     "output_type": "execute_result"
    }
   ],
   "source": [
    "RRTIRIS = rrtiris.RRTIRIS(poi[0],\n",
    "                          poi[1],\n",
    "                          limits = limits_t,\n",
    "                          default_iris_domain = starting_poly,\n",
    "                          iris_handle = iris_handle,\n",
    "                          offset_scaler = 0.8,\n",
    "                          init_goal_sample_rate = 0.05,\n",
    "                          goal_sample_rate_scaler = 0.1,\n",
    "                          verbose = True,\n",
    "                          plotcallback = None,\n",
    "                          )\n",
    "RRTIRIS.run(1)"
   ]
  },
  {
   "cell_type": "code",
   "execution_count": 13,
   "metadata": {},
   "outputs": [],
   "source": [
    "regions = RRTIRIS.node_regions"
   ]
  },
  {
   "cell_type": "code",
   "execution_count": 23,
   "metadata": {},
   "outputs": [],
   "source": [
    "import pydrake.multibody.rational_forward_kinematics as rational_forward_kinematics\n",
    "from pydrake.solvers import mathematicalprogram as mp\n",
    "cspace_free_region = rational_forward_kinematics.CspaceFreeRegion(diagram, plant, scene_graph,\n",
    "                                   rational_forward_kinematics.SeparatingPlaneOrder.kAffine,\n",
    "                                   rational_forward_kinematics.CspaceRegionType.kGenericPolytope)"
   ]
  },
  {
   "cell_type": "code",
   "execution_count": 24,
   "metadata": {},
   "outputs": [
    {
     "name": "stdout",
     "output_type": "stream",
     "text": [
      "GenerateMonomialBasisWithOrderUpToOneHelper: Shouldn't have an empty input t_angles.\n",
      "GenerateMonomialBasisWithOrderUpToOneHelper: Shouldn't have an empty input t_angles.\n",
      "0\n"
     ]
    }
   ],
   "source": [
    "editted_regions = []\n",
    "filtered_collision_pairs = set()\n",
    "\n",
    "binary_search_options = rational_forward_kinematics.BinarySearchOption()\n",
    "binary_search_options.epsilon_max = 10\n",
    "binary_search_options.epsilon_min = -.2\n",
    "binary_search_options.max_iters = 5\n",
    "binary_search_options.search_d = True\n",
    "\n",
    "bilinear_alternation_option = rational_forward_kinematics.BilinearAlternationOption()\n",
    "bilinear_alternation_option.max_iters = 20\n",
    "bilinear_alternation_option.lagrangian_backoff_scale = 1e-3\n",
    "bilinear_alternation_option.polytope_backoff_scale = 1e-5\n",
    "\n",
    "solver_options = mp.SolverOptions()\n",
    "for r in regions: \n",
    "    try:\n",
    "        d_feasible = \\\n",
    "            cspace_free_region.CspacePolytopeBinarySearch(\n",
    "                iris_options.q_star, filtered_collision_pairs, r.A(), r.b(),\n",
    "                binary_search_options, solver_options)\n",
    "        C_final, d_final, P_final, q_final = \\\n",
    "            cspace_free_region.CspacePolytopeBilinearAlternation(\n",
    "                iris_options.q_star, filtered_collision_pairs, r.A(), d_feasible,\n",
    "                bilinear_alternation_option, solver_options)\n",
    "        C_final = np.vstack([C_final, P_joint_limits.A()])\n",
    "        d_final = np.concatenate([d_final, P_joint_limits.b()])\n",
    "        editted_regions.append(HPolyhedron(C_final, d_final))\n",
    "    except Exception as e:\n",
    "        print(e)\n",
    "print(len(editted_regions))"
   ]
  }
 ],
 "metadata": {
  "interpreter": {
   "hash": "916dbcbb3f70747c44a77c7bcd40155683ae19c65e1c03b4aa3499c5328201f1"
  },
  "kernelspec": {
   "display_name": "Python 3",
   "language": "python",
   "name": "python3"
  },
  "language_info": {
   "codemirror_mode": {
    "name": "ipython",
    "version": 3
   },
   "file_extension": ".py",
   "mimetype": "text/x-python",
   "name": "python",
   "nbconvert_exporter": "python",
   "pygments_lexer": "ipython3",
   "version": "3.8.10"
  }
 },
 "nbformat": 4,
 "nbformat_minor": 2
}
