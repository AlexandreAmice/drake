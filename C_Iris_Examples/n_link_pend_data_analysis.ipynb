{
 "cells": [
  {
   "cell_type": "code",
   "execution_count": 1,
   "metadata": {},
   "outputs": [],
   "source": [
    "%load_ext autoreload"
   ]
  },
  {
   "cell_type": "code",
   "execution_count": 2,
   "metadata": {},
   "outputs": [],
   "source": [
    "import numpy as np\n",
    "from functools import partial\n",
    "import visualization_utils as vis_utils\n",
    "from iris_plant_visualizer import IrisPlantVisualizer\n",
    "import ipywidgets as widgets\n",
    "from IPython.display import display\n",
    "from scipy.linalg import block_diag\n",
    "import matplotlib.pyplot as plt\n",
    "from pathlib import Path\n",
    "import os\n",
    "import seaborn as sns\n",
    "import pandas as pd"
   ]
  },
  {
   "cell_type": "code",
   "execution_count": 3,
   "metadata": {},
   "outputs": [],
   "source": [
    "#pydrake imports\n",
    "from pydrake.common import FindResourceOrThrow\n",
    "from pydrake.multibody.parsing import Parser\n",
    "from pydrake.multibody.plant import AddMultibodyPlantSceneGraph\n",
    "from pydrake.systems.framework import DiagramBuilder\n",
    "from pydrake.geometry import Role, GeometrySet, CollisionFilterDeclaration\n",
    "from pydrake.all import RigidTransform, RollPitchYaw, RevoluteJoint\n",
    "from pydrake.all import RotationMatrix,MeshcatVisualizer, StartMeshcat\n",
    "import pydrake.symbolic as sym\n",
    "from pydrake.solvers import MosekSolver, CommonSolverOption, SolverOptions, ScsSolver\n",
    "from pydrake.all import PointCloud, MeshcatVisualizerParams, Role, HalfSpace, CoulombFriction, Box, Rgba, WeldJoint, GeometrySet\n",
    "from pydrake.polynomial import Polynomial as PolynomialCommon\n",
    "import time\n",
    "from scipy.spatial.transform import Rotation as sp_rot\n",
    "from sampling_based_motion_planners import StraightLineCollisionChecker, PRM, BiRRT, PRMFixedEdges\n",
    "\n",
    "\n",
    "from pydrake.all import (RationalForwardKinematics, ModelInstanceIndex,\n",
    "                         SpatialInertia, RevoluteJoint, FixedOffsetFrame, MultibodyPlant)\n",
    "from pydrake.geometry.optimization import HPolyhedron, Hyperellipsoid\n",
    "from pydrake.geometry.optimization_dev import CspaceFreePath\n",
    "import pickle\n"
   ]
  },
  {
   "cell_type": "code",
   "execution_count": 4,
   "metadata": {},
   "outputs": [],
   "source": [
    "import logging\n",
    "drake_logger = logging.getLogger(\"drake\")\n",
    "drake_logger.setLevel(logging.DEBUG)"
   ]
  },
  {
   "cell_type": "code",
   "execution_count": 5,
   "metadata": {},
   "outputs": [],
   "source": [
    "from n_link_pendulum_stat_collector import num_links, num_boxes, num_edges, n_list, k_list, path_to_prm_save_folder, path_to_data_save_folder"
   ]
  },
  {
   "cell_type": "code",
   "execution_count": 6,
   "metadata": {},
   "outputs": [],
   "source": [
    "def make_stat_path(n,k,l,use_good_checker):\n",
    "    good_checker = \"good_checker\" if use_good_checker else \"bad_checker\"\n",
    "    return path_to_data_save_folder /  f\"{n}_links_{k}_obstacles_{l}_edges_{good_checker}_collision_checker.pkl\""
   ]
  },
  {
   "cell_type": "code",
   "execution_count": 7,
   "metadata": {},
   "outputs": [],
   "source": [
    "n = 2\n",
    "k = 10\n",
    "l = 500\n",
    "path = make_stat_path(n,k,l,True)\n",
    "path.is_file()\n",
    "with open(path, \"rb\") as f:\n",
    "    statistics = pickle.load(f)"
   ]
  },
  {
   "cell_type": "code",
   "execution_count": 8,
   "metadata": {},
   "outputs": [],
   "source": [
    "def get_total_time_to_solve_progs_for_n_links_k_box_l_edges(n,k,l, good_checker = True):\n",
    "    path = make_stat_path(n,k,l,good_checker)\n",
    "    if path.is_file():\n",
    "        with open(path, \"rb\") as f:\n",
    "            statistics = pickle.load(f)\n",
    "            return np.array([s.total_time_to_solve_progs() for s in statistics])/os.cpu_count()\n",
    "    else:\n",
    "        return np.array([-1] * l)\n",
    "\n",
    "def get_certified_safe_for_n_links_k_box_l_edges(n,k,l, good_checker = True):\n",
    "    path = make_stat_path(n,k,l,good_checker)\n",
    "    if path.is_file():\n",
    "        with open(path, \"rb\") as f:\n",
    "            statistics = pickle.load(f)\n",
    "            return int(statistics.certified_safe)\n",
    "    else:\n",
    "        return -1"
   ]
  },
  {
   "cell_type": "code",
   "execution_count": 9,
   "metadata": {},
   "outputs": [
    {
     "name": "stdout",
     "output_type": "stream",
     "text": [
      "(12,)\n"
     ]
    },
    {
     "data": {
      "image/png": "[encoded data removed]",
      "text/plain": [
       "<Figure size 432x288 with 1 Axes>"
      ]
     },
     "metadata": {
      "needs_background": "light"
     },
     "output_type": "display_data"
    }
   ],
   "source": [
    "total_prog_solve_times_good = [\n",
    "    [[get_total_time_to_solve_progs_for_n_links_k_box_l_edges(n,k,l, True) for l in num_edges] for k in num_boxes] for n in num_links\n",
    "]\n",
    "\n",
    "\n",
    "x = num_links\n",
    "for i, l in enumerate(num_edges):\n",
    "    fig, ax = plt.subplots(1)\n",
    "    print(num_links.shape)\n",
    "    box_data = [[total_prog_solve_times_good[n][j][i] for n in range(len(num_links))] for j in range(len(num_boxes))]\n",
    "    for j in range(len(num_boxes)):\n",
    "        ax.boxplot(box_data[j], labels=x, vert= True, )#, labels = f\"{j} Obstacles\")\n",
    "        ax.set_xlabel(\"Number of Links\")\n",
    "        ax.set_ylabel(\"Time (ms)\")\n",
    "        ax.set_title(f\"Time to Certify {num_edges[i]} PRM Edges\")\n",
    "    \n",
    "#     fig.legend()\n",
    "        \n",
    "\n"
   ]
  },
  {
   "cell_type": "code",
   "execution_count": 10,
   "metadata": {},
   "outputs": [
    {
     "name": "stdout",
     "output_type": "stream",
     "text": [
      "(12,)\n"
     ]
    },
    {
     "ename": "KeyError",
     "evalue": "0",
     "output_type": "error",
     "traceback": [
      "\u001b[0;31m---------------------------------------------------------------------------\u001b[0m",
      "\u001b[0;31mKeyError\u001b[0m                                  Traceback (most recent call last)",
      "\u001b[0;32m/usr/lib/python3/dist-packages/pandas/core/indexes/base.py\u001b[0m in \u001b[0;36mget_loc\u001b[0;34m(self, key, method, tolerance)\u001b[0m\n\u001b[1;32m   3360\u001b[0m             \u001b[0;32mtry\u001b[0m\u001b[0;34m:\u001b[0m\u001b[0;34m\u001b[0m\u001b[0;34m\u001b[0m\u001b[0m\n\u001b[0;32m-> 3361\u001b[0;31m                 \u001b[0;32mreturn\u001b[0m \u001b[0mself\u001b[0m\u001b[0;34m.\u001b[0m\u001b[0m_engine\u001b[0m\u001b[0;34m.\u001b[0m\u001b[0mget_loc\u001b[0m\u001b[0;34m(\u001b[0m\u001b[0mcasted_key\u001b[0m\u001b[0;34m)\u001b[0m\u001b[0;34m\u001b[0m\u001b[0;34m\u001b[0m\u001b[0m\n\u001b[0m\u001b[1;32m   3362\u001b[0m             \u001b[0;32mexcept\u001b[0m \u001b[0mKeyError\u001b[0m \u001b[0;32mas\u001b[0m \u001b[0merr\u001b[0m\u001b[0;34m:\u001b[0m\u001b[0;34m\u001b[0m\u001b[0;34m\u001b[0m\u001b[0m\n",
      "\u001b[0;32m/usr/lib/python3/dist-packages/pandas/_libs/index.pyx\u001b[0m in \u001b[0;36mpandas._libs.index.IndexEngine.get_loc\u001b[0;34m()\u001b[0m\n",
      "\u001b[0;32m/usr/lib/python3/dist-packages/pandas/_libs/index.pyx\u001b[0m in \u001b[0;36mpandas._libs.index.IndexEngine.get_loc\u001b[0;34m()\u001b[0m\n",
      "\u001b[0;32mpandas/_libs/hashtable_class_helper.pxi\u001b[0m in \u001b[0;36mpandas._libs.hashtable.Int64HashTable.get_item\u001b[0;34m()\u001b[0m\n",
      "\u001b[0;32mpandas/_libs/hashtable_class_helper.pxi\u001b[0m in \u001b[0;36mpandas._libs.hashtable.Int64HashTable.get_item\u001b[0;34m()\u001b[0m\n",
      "\u001b[0;31mKeyError\u001b[0m: 0",
      "\nThe above exception was the direct cause of the following exception:\n",
      "\u001b[0;31mKeyError\u001b[0m                                  Traceback (most recent call last)",
      "\u001b[0;32m/tmp/ipykernel_82320/388781546.py\u001b[0m in \u001b[0;36m<module>\u001b[0;34m\u001b[0m\n\u001b[1;32m     12\u001b[0m     \u001b[0mfig\u001b[0m\u001b[0;34m,\u001b[0m \u001b[0max\u001b[0m \u001b[0;34m=\u001b[0m \u001b[0mplt\u001b[0m\u001b[0;34m.\u001b[0m\u001b[0msubplots\u001b[0m\u001b[0;34m(\u001b[0m\u001b[0;36m1\u001b[0m\u001b[0;34m)\u001b[0m\u001b[0;34m\u001b[0m\u001b[0;34m\u001b[0m\u001b[0m\n\u001b[1;32m     13\u001b[0m     \u001b[0mprint\u001b[0m\u001b[0;34m(\u001b[0m\u001b[0mnum_links\u001b[0m\u001b[0;34m.\u001b[0m\u001b[0mshape\u001b[0m\u001b[0;34m)\u001b[0m\u001b[0;34m\u001b[0m\u001b[0;34m\u001b[0m\u001b[0m\n\u001b[0;32m---> 14\u001b[0;31m     \u001b[0msns\u001b[0m\u001b[0;34m.\u001b[0m\u001b[0mboxplot\u001b[0m\u001b[0;34m(\u001b[0m\u001b[0mtotal_prog_solve_times_good\u001b[0m\u001b[0;34m[\u001b[0m\u001b[0mi\u001b[0m\u001b[0;34m]\u001b[0m\u001b[0;34m[\u001b[0m\u001b[0;36m10\u001b[0m\u001b[0;34m]\u001b[0m\u001b[0;34m,\u001b[0m \u001b[0max\u001b[0m \u001b[0;34m=\u001b[0m \u001b[0max\u001b[0m\u001b[0;34m)\u001b[0m\u001b[0;31m#, labels = f\"{j} Obstacles\")\u001b[0m\u001b[0;34m\u001b[0m\u001b[0;34m\u001b[0m\u001b[0m\n\u001b[0m\u001b[1;32m     15\u001b[0m     \u001b[0max\u001b[0m\u001b[0;34m.\u001b[0m\u001b[0mset_xlabel\u001b[0m\u001b[0;34m(\u001b[0m\u001b[0;34m\"Number of Links\"\u001b[0m\u001b[0;34m)\u001b[0m\u001b[0;34m\u001b[0m\u001b[0;34m\u001b[0m\u001b[0m\n\u001b[1;32m     16\u001b[0m     \u001b[0max\u001b[0m\u001b[0;34m.\u001b[0m\u001b[0mset_ylabel\u001b[0m\u001b[0;34m(\u001b[0m\u001b[0;34m\"Time (ms)\"\u001b[0m\u001b[0;34m)\u001b[0m\u001b[0;34m\u001b[0m\u001b[0;34m\u001b[0m\u001b[0m\n",
      "\u001b[0;32m~/.local/lib/python3.10/site-packages/seaborn/categorical.py\u001b[0m in \u001b[0;36mboxplot\u001b[0;34m(data, x, y, hue, order, hue_order, orient, color, palette, saturation, width, dodge, fliersize, linewidth, whis, ax, **kwargs)\u001b[0m\n\u001b[1;32m   2229\u001b[0m ):\n\u001b[1;32m   2230\u001b[0m \u001b[0;34m\u001b[0m\u001b[0m\n\u001b[0;32m-> 2231\u001b[0;31m     plotter = _BoxPlotter(x, y, hue, data, order, hue_order,\n\u001b[0m\u001b[1;32m   2232\u001b[0m                           \u001b[0morient\u001b[0m\u001b[0;34m,\u001b[0m \u001b[0mcolor\u001b[0m\u001b[0;34m,\u001b[0m \u001b[0mpalette\u001b[0m\u001b[0;34m,\u001b[0m \u001b[0msaturation\u001b[0m\u001b[0;34m,\u001b[0m\u001b[0;34m\u001b[0m\u001b[0;34m\u001b[0m\u001b[0m\n\u001b[1;32m   2233\u001b[0m                           width, dodge, fliersize, linewidth)\n",
      "\u001b[0;32m~/.local/lib/python3.10/site-packages/seaborn/categorical.py\u001b[0m in \u001b[0;36m__init__\u001b[0;34m(self, x, y, hue, data, order, hue_order, orient, color, palette, saturation, width, dodge, fliersize, linewidth)\u001b[0m\n\u001b[1;32m    783\u001b[0m                  width, dodge, fliersize, linewidth):\n\u001b[1;32m    784\u001b[0m \u001b[0;34m\u001b[0m\u001b[0m\n\u001b[0;32m--> 785\u001b[0;31m         \u001b[0mself\u001b[0m\u001b[0;34m.\u001b[0m\u001b[0mestablish_variables\u001b[0m\u001b[0;34m(\u001b[0m\u001b[0mx\u001b[0m\u001b[0;34m,\u001b[0m \u001b[0my\u001b[0m\u001b[0;34m,\u001b[0m \u001b[0mhue\u001b[0m\u001b[0;34m,\u001b[0m \u001b[0mdata\u001b[0m\u001b[0;34m,\u001b[0m \u001b[0morient\u001b[0m\u001b[0;34m,\u001b[0m \u001b[0morder\u001b[0m\u001b[0;34m,\u001b[0m \u001b[0mhue_order\u001b[0m\u001b[0;34m)\u001b[0m\u001b[0;34m\u001b[0m\u001b[0;34m\u001b[0m\u001b[0m\n\u001b[0m\u001b[1;32m    786\u001b[0m         \u001b[0mself\u001b[0m\u001b[0;34m.\u001b[0m\u001b[0mestablish_colors\u001b[0m\u001b[0;34m(\u001b[0m\u001b[0mcolor\u001b[0m\u001b[0;34m,\u001b[0m \u001b[0mpalette\u001b[0m\u001b[0;34m,\u001b[0m \u001b[0msaturation\u001b[0m\u001b[0;34m)\u001b[0m\u001b[0;34m\u001b[0m\u001b[0;34m\u001b[0m\u001b[0m\n\u001b[1;32m    787\u001b[0m \u001b[0;34m\u001b[0m\u001b[0m\n",
      "\u001b[0;32m~/.local/lib/python3.10/site-packages/seaborn/categorical.py\u001b[0m in \u001b[0;36mestablish_variables\u001b[0;34m(self, x, y, hue, data, orient, order, hue_order, units)\u001b[0m\n\u001b[1;32m    484\u001b[0m                 \u001b[0;32mif\u001b[0m \u001b[0mhasattr\u001b[0m\u001b[0;34m(\u001b[0m\u001b[0mdata\u001b[0m\u001b[0;34m,\u001b[0m \u001b[0;34m\"shape\"\u001b[0m\u001b[0;34m)\u001b[0m\u001b[0;34m:\u001b[0m\u001b[0;34m\u001b[0m\u001b[0;34m\u001b[0m\u001b[0m\n\u001b[1;32m    485\u001b[0m                     \u001b[0;32mif\u001b[0m \u001b[0mlen\u001b[0m\u001b[0;34m(\u001b[0m\u001b[0mdata\u001b[0m\u001b[0;34m.\u001b[0m\u001b[0mshape\u001b[0m\u001b[0;34m)\u001b[0m \u001b[0;34m==\u001b[0m \u001b[0;36m1\u001b[0m\u001b[0;34m:\u001b[0m\u001b[0;34m\u001b[0m\u001b[0;34m\u001b[0m\u001b[0m\n\u001b[0;32m--> 486\u001b[0;31m                         \u001b[0;32mif\u001b[0m \u001b[0mnp\u001b[0m\u001b[0;34m.\u001b[0m\u001b[0misscalar\u001b[0m\u001b[0;34m(\u001b[0m\u001b[0mdata\u001b[0m\u001b[0;34m[\u001b[0m\u001b[0;36m0\u001b[0m\u001b[0;34m]\u001b[0m\u001b[0;34m)\u001b[0m\u001b[0;34m:\u001b[0m\u001b[0;34m\u001b[0m\u001b[0;34m\u001b[0m\u001b[0m\n\u001b[0m\u001b[1;32m    487\u001b[0m                             \u001b[0mplot_data\u001b[0m \u001b[0;34m=\u001b[0m \u001b[0;34m[\u001b[0m\u001b[0mdata\u001b[0m\u001b[0;34m]\u001b[0m\u001b[0;34m\u001b[0m\u001b[0;34m\u001b[0m\u001b[0m\n\u001b[1;32m    488\u001b[0m                         \u001b[0;32melse\u001b[0m\u001b[0;34m:\u001b[0m\u001b[0;34m\u001b[0m\u001b[0;34m\u001b[0m\u001b[0m\n",
      "\u001b[0;32m/usr/lib/python3/dist-packages/pandas/core/series.py\u001b[0m in \u001b[0;36m__getitem__\u001b[0;34m(self, key)\u001b[0m\n\u001b[1;32m    940\u001b[0m \u001b[0;34m\u001b[0m\u001b[0m\n\u001b[1;32m    941\u001b[0m         \u001b[0;32melif\u001b[0m \u001b[0mkey_is_scalar\u001b[0m\u001b[0;34m:\u001b[0m\u001b[0;34m\u001b[0m\u001b[0;34m\u001b[0m\u001b[0m\n\u001b[0;32m--> 942\u001b[0;31m             \u001b[0;32mreturn\u001b[0m \u001b[0mself\u001b[0m\u001b[0;34m.\u001b[0m\u001b[0m_get_value\u001b[0m\u001b[0;34m(\u001b[0m\u001b[0mkey\u001b[0m\u001b[0;34m)\u001b[0m\u001b[0;34m\u001b[0m\u001b[0;34m\u001b[0m\u001b[0m\n\u001b[0m\u001b[1;32m    943\u001b[0m \u001b[0;34m\u001b[0m\u001b[0m\n\u001b[1;32m    944\u001b[0m         \u001b[0;32mif\u001b[0m \u001b[0mis_hashable\u001b[0m\u001b[0;34m(\u001b[0m\u001b[0mkey\u001b[0m\u001b[0;34m)\u001b[0m\u001b[0;34m:\u001b[0m\u001b[0;34m\u001b[0m\u001b[0;34m\u001b[0m\u001b[0m\n",
      "\u001b[0;32m/usr/lib/python3/dist-packages/pandas/core/series.py\u001b[0m in \u001b[0;36m_get_value\u001b[0;34m(self, label, takeable)\u001b[0m\n\u001b[1;32m   1049\u001b[0m \u001b[0;34m\u001b[0m\u001b[0m\n\u001b[1;32m   1050\u001b[0m         \u001b[0;31m# Similar to Index.get_value, but we do not fall back to positional\u001b[0m\u001b[0;34m\u001b[0m\u001b[0;34m\u001b[0m\u001b[0m\n\u001b[0;32m-> 1051\u001b[0;31m         \u001b[0mloc\u001b[0m \u001b[0;34m=\u001b[0m \u001b[0mself\u001b[0m\u001b[0;34m.\u001b[0m\u001b[0mindex\u001b[0m\u001b[0;34m.\u001b[0m\u001b[0mget_loc\u001b[0m\u001b[0;34m(\u001b[0m\u001b[0mlabel\u001b[0m\u001b[0;34m)\u001b[0m\u001b[0;34m\u001b[0m\u001b[0;34m\u001b[0m\u001b[0m\n\u001b[0m\u001b[1;32m   1052\u001b[0m         \u001b[0;32mreturn\u001b[0m \u001b[0mself\u001b[0m\u001b[0;34m.\u001b[0m\u001b[0mindex\u001b[0m\u001b[0;34m.\u001b[0m\u001b[0m_get_values_for_loc\u001b[0m\u001b[0;34m(\u001b[0m\u001b[0mself\u001b[0m\u001b[0;34m,\u001b[0m \u001b[0mloc\u001b[0m\u001b[0;34m,\u001b[0m \u001b[0mlabel\u001b[0m\u001b[0;34m)\u001b[0m\u001b[0;34m\u001b[0m\u001b[0;34m\u001b[0m\u001b[0m\n\u001b[1;32m   1053\u001b[0m \u001b[0;34m\u001b[0m\u001b[0m\n",
      "\u001b[0;32m/usr/lib/python3/dist-packages/pandas/core/indexes/base.py\u001b[0m in \u001b[0;36mget_loc\u001b[0;34m(self, key, method, tolerance)\u001b[0m\n\u001b[1;32m   3361\u001b[0m                 \u001b[0;32mreturn\u001b[0m \u001b[0mself\u001b[0m\u001b[0;34m.\u001b[0m\u001b[0m_engine\u001b[0m\u001b[0;34m.\u001b[0m\u001b[0mget_loc\u001b[0m\u001b[0;34m(\u001b[0m\u001b[0mcasted_key\u001b[0m\u001b[0;34m)\u001b[0m\u001b[0;34m\u001b[0m\u001b[0;34m\u001b[0m\u001b[0m\n\u001b[1;32m   3362\u001b[0m             \u001b[0;32mexcept\u001b[0m \u001b[0mKeyError\u001b[0m \u001b[0;32mas\u001b[0m \u001b[0merr\u001b[0m\u001b[0;34m:\u001b[0m\u001b[0;34m\u001b[0m\u001b[0;34m\u001b[0m\u001b[0m\n\u001b[0;32m-> 3363\u001b[0;31m                 \u001b[0;32mraise\u001b[0m \u001b[0mKeyError\u001b[0m\u001b[0;34m(\u001b[0m\u001b[0mkey\u001b[0m\u001b[0;34m)\u001b[0m \u001b[0;32mfrom\u001b[0m \u001b[0merr\u001b[0m\u001b[0;34m\u001b[0m\u001b[0;34m\u001b[0m\u001b[0m\n\u001b[0m\u001b[1;32m   3364\u001b[0m \u001b[0;34m\u001b[0m\u001b[0m\n\u001b[1;32m   3365\u001b[0m         \u001b[0;32mif\u001b[0m \u001b[0mis_scalar\u001b[0m\u001b[0;34m(\u001b[0m\u001b[0mkey\u001b[0m\u001b[0;34m)\u001b[0m \u001b[0;32mand\u001b[0m \u001b[0misna\u001b[0m\u001b[0;34m(\u001b[0m\u001b[0mkey\u001b[0m\u001b[0;34m)\u001b[0m \u001b[0;32mand\u001b[0m \u001b[0;32mnot\u001b[0m \u001b[0mself\u001b[0m\u001b[0;34m.\u001b[0m\u001b[0mhasnans\u001b[0m\u001b[0;34m:\u001b[0m\u001b[0;34m\u001b[0m\u001b[0;34m\u001b[0m\u001b[0m\n",
      "\u001b[0;31mKeyError\u001b[0m: 0"
     ]
    },
    {
     "data": {
      "image/png": "[encoded data removed]",
      "text/plain": [
       "<Figure size 432x288 with 1 Axes>"
      ]
     },
     "metadata": {
      "needs_background": "light"
     },
     "output_type": "display_data"
    }
   ],
   "source": [
    "total_prog_solve_times_good = [\n",
    "    pd.DataFrame([[get_total_time_to_solve_progs_for_n_links_k_box_l_edges(n,k,l, True) for k in num_boxes]\n",
    "                  for n in num_links], index=num_links, columns= num_boxes)\n",
    "    for l in num_edges\n",
    "    \n",
    "]\n",
    "\n",
    "\n",
    "\n",
    "x = num_links\n",
    "for i, l in enumerate(num_edges):\n",
    "    fig, ax = plt.subplots(1)\n",
    "    print(num_links.shape)\n",
    "    sns.boxplot(total_prog_solve_times_good[i][10], ax = ax)#, labels = f\"{j} Obstacles\")\n",
    "    ax.set_xlabel(\"Number of Links\")\n",
    "    ax.set_ylabel(\"Time (ms)\")\n",
    "    ax.set_title(f\"Time to Certify {num_edges[i]} PRM Edges\")\n",
    "    \n",
    "\n",
    "        \n",
    "\n"
   ]
  },
  {
   "cell_type": "code",
   "execution_count": 19,
   "metadata": {},
   "outputs": [],
   "source": [
    "num_edges = np.array([100,500,1000])\n",
    "def get_total_time_to_solve_progs_as_pd(good_checker = True):\n",
    "    df = pd.DataFrame(columns = [\"number of links\", \"number of boxes\", \"number of edges\", \"edge_num\", \"time (ms)\", \"successfully solved\"])\n",
    "    for n in num_links:\n",
    "        for k in num_boxes:\n",
    "            for l in num_edges:\n",
    "                path = make_stat_path(n,k,l,good_checker)\n",
    "                arr = None\n",
    "                if path.is_file():\n",
    "                    with open(path, \"rb\") as f:\n",
    "                        statistics = pickle.load(f)\n",
    "                        arr= np.array([s.total_time_to_solve_progs() for s in statistics])/os.cpu_count()\n",
    "                        success = np.array([s.certified_safe() for s in statistics])\n",
    "                else:\n",
    "                    arr= np.array([-1] * l)\n",
    "                    success = np.array([-1] * l)\n",
    "                for idx,t in enumerate(arr):\n",
    "                    df.loc[len(df.index)] = [n,k,l,idx,t, success[idx]] \n",
    "    return df\n",
    "# get_total_time_to_solve_progs_as_pd()"
   ]
  },
  {
   "cell_type": "code",
   "execution_count": 15,
   "metadata": {},
   "outputs": [
    {
     "name": "stdout",
     "output_type": "stream",
     "text": [
      "0.001461763\n",
      "4.928692000248702\n",
      "0.00166931\n",
      "3.406511001230683\n",
      "0.001490637\n",
      "4.37031100045715\n",
      "0.001138411\n",
      "2.3175240003183717\n",
      "0.001089559\n",
      "5.506804000106058\n",
      "0.001078909\n",
      "3.0628160002379445\n",
      "0.001050243\n",
      "3.339843000503606\n",
      "0.002796108\n",
      "1.2288730013096938\n",
      "0.002461477\n",
      "2.278705998833175\n",
      "0.001127344\n",
      "5.233668000073521\n",
      "0.00358985\n",
      "1.6200859990931349\n",
      "0.001175492\n",
      "3.0550079991371604\n",
      "0.001421727\n",
      "2.339027998459642\n",
      "0.001107957\n",
      "2.3127969998313347\n",
      "0.001075808\n",
      "5.629688999761129\n",
      "0.001103808\n",
      "1.6539640000701183\n",
      "0.001450364\n",
      "5.007099000067683\n",
      "0.001175206\n",
      "2.068726000288734\n",
      "0.001454817\n",
      "3.968560999055626\n",
      "0.003026421\n",
      "3.2351800000469666\n"
     ]
    },
    {
     "data": {
      "text/plain": [
       "array(20)"
      ]
     },
     "execution_count": 15,
     "metadata": {},
     "output_type": "execute_result"
    }
   ],
   "source": [
    "tmp = []\n",
    "for i in statistics[0].time_to_build_prog.keys():\n",
    "    print(statistics[0].time_to_build_prog[i])\n",
    "    print(statistics[0].time_to_solve_prog[i])\n",
    "    tmp.append(statistics[0].time_to_build_prog[i]+statistics[0].time_to_solve_prog[i])\n",
    "np.array(len(tmp))"
   ]
  },
  {
   "cell_type": "code",
   "execution_count": 16,
   "metadata": {},
   "outputs": [
    {
     "name": "stdout",
     "output_type": "stream",
     "text": [
      "      number of links number of boxes number of edges edge_num  time (ms)  \\\n",
      "0                   2              10             100        0   6.640203   \n",
      "1                   2              10             100        1   1.850855   \n",
      "2                   2              10             100        2   1.648060   \n",
      "3                   2              10             100        3   1.706826   \n",
      "4                   2              10             100        4   1.891045   \n",
      "...               ...             ...             ...      ...        ...   \n",
      "19195              13              10            1000      995  -1.000000   \n",
      "19196              13              10            1000      996  -1.000000   \n",
      "19197              13              10            1000      997  -1.000000   \n",
      "19198              13              10            1000      998  -1.000000   \n",
      "19199              13              10            1000      999  -1.000000   \n",
      "\n",
      "      successfully solved  \n",
      "0                    True  \n",
      "1                    True  \n",
      "2                    True  \n",
      "3                    True  \n",
      "4                    True  \n",
      "...                   ...  \n",
      "19195                  -1  \n",
      "19196                  -1  \n",
      "19197                  -1  \n",
      "19198                  -1  \n",
      "19199                  -1  \n",
      "\n",
      "[19200 rows x 6 columns]\n"
     ]
    }
   ],
   "source": [
    "df = get_total_time_to_solve_progs_as_pd()\n",
    "print(df)"
   ]
  },
  {
   "cell_type": "code",
   "execution_count": 18,
   "metadata": {},
   "outputs": [
    {
     "data": {
      "image/png": "[encoded data removed]",
      "text/plain": [
       "<Figure size 1080x720 with 1 Axes>"
      ]
     },
     "metadata": {
      "needs_background": "light"
     },
     "output_type": "display_data"
    }
   ],
   "source": [
    "hundred_edge_data = df[df[\"number of edges\"] == 100]\n",
    "\n",
    "hundred_edge_data_successfully_solved = hundred_edge_data[hundred_edge_data[\"successfully solved\"] != -1]\n",
    "successfully_solved_data = df[df[\"successfully solved\"] == True]\n",
    "successfully_solved_deg_leq_6 = successfully_solved_data[successfully_solved_data[\"number of links\"] < 6]\n",
    "# successfully_solved_deg_leq_6 = successfully_solved_data\n",
    "\n",
    "scale = 15\n",
    "plt.figure(figsize=(scale, 2/3 * scale))\n",
    "ax = sns.boxplot(data=successfully_solved_deg_leq_6,\n",
    "            x=\"number of links\", y=\"time (ms)\", hue=\"number of boxes\")\n",
    "plt.title(\"Distribution of Time To Certify An Edge\")\n",
    "ax.set_yscale('log')\n",
    "plt.savefig(\"figs/edge_cert_time.pdf\", format=\"pdf\", bbox_inches=\"tight\")\n",
    "\n",
    "# for i, array in enumerate(df[num_boxes]):\n",
    "#     plt.figure(figsize=(6, 4))  # Adjust the figure size as needed\n",
    "#     sns.boxplot(data=df, x=\"num_links\", y=\"time\", hue=\"num_boxes\")\n",
    "#     plt.title(f'Box Plot for Entry {i}')\n",
    "#     plt.xlabel('X-axis Label')\n",
    "#     plt.ylabel('Y-axis Label')\n",
    "#     plt.show()"
   ]
  },
  {
   "cell_type": "code",
   "execution_count": 257,
   "metadata": {},
   "outputs": [
    {
     "data": {
      "image/png": "[encoded data removed]",
      "text/plain": [
       "<Figure size 1080x720 with 1 Axes>"
      ]
     },
     "metadata": {
      "needs_background": "light"
     },
     "output_type": "display_data"
    }
   ],
   "source": [
    "plt.figure(figsize=(scale, 2/3 * scale))\n",
    "hundred_edge_10_boxes = hundred_edge_data[hundred_edge_data[\"number of boxes\"] == 10]\n",
    "hundred_edge_data_actually_solved = hundred_edge_10_boxes[hundred_edge_10_boxes[\"successfully solved\"] != -1]\n",
    "ax = sns.boxplot(data=hundred_edge_data_actually_solved, x=\"number of links\", \n",
    "                 y=\"time (ms)\", hue=\"successfully solved\")\n",
    "\n",
    "ax.set_yscale('log')\n",
    "plt.title(\"Distribution of Time To Solve Certification Program Based on Safety\")\n",
    "plt.savefig(\"figs/safe_edge_cert_time.pdf\", format=\"pdf\", bbox_inches=\"tight\")"
   ]
  },
  {
   "cell_type": "code",
   "execution_count": 268,
   "metadata": {},
   "outputs": [
    {
     "name": "stdout",
     "output_type": "stream",
     "text": [
      "    Classified Safe  Not Classified\n",
      "2              0.98            0.02\n",
      "3              0.92            0.08\n",
      "4              0.84            0.16\n",
      "5              0.90            0.10\n",
      "6              0.65            0.35\n",
      "7              0.56            0.44\n",
      "8              0.37            0.63\n",
      "9              0.47            0.53\n",
      "10             0.27            0.73\n",
      "11             0.39            0.61\n",
      "12             0.20            0.80\n",
      "13             0.00            0.00\n"
     ]
    },
    {
     "data": {
      "text/plain": [
       "<Figure size 1080x720 with 0 Axes>"
      ]
     },
     "metadata": {},
     "output_type": "display_data"
    },
    {
     "data": {
      "image/png": "[encoded data removed]",
      "text/plain": [
       "<Figure size 432x288 with 1 Axes>"
      ]
     },
     "metadata": {
      "needs_background": "light"
     },
     "output_type": "display_data"
    }
   ],
   "source": [
    "value_counts = hundred_edge_data_successfully_solved.groupby(['number of links'])[\"successfully solved\"].value_counts()/100\n",
    "data = np.zeros((num_links.shape[0], 2))\n",
    "plt.figure(figsize=(scale, 2/3 * scale))\n",
    "for (n, val) in value_counts.axes[0]:\n",
    "    r = np.where(num_links ==n)[0].item()\n",
    "    c = 0 if val else 1\n",
    "    data[r,c] = value_counts[(n,val)]\n",
    "tf_counts_frame = pd.DataFrame(data=data, index=num_links, columns = [\"Classified Safe\", \"Not Classified\"])\n",
    "print(tf_counts_frame)\n",
    "ax = tf_counts_frame.plot.bar(stacked=True, color = ['green', 'red'])\n",
    "ax.set_xlabel(\"number of links\")\n",
    "ax.set_ylabel(\"Percent \")\n",
    "plt.title(\"Effectiveness of Linear Hyperplane Parametrization\")\n",
    "plt.savefig(\"figs/lin_hyperplane_effectiveness.pdf\", format=\"pdf\", bbox_inches=\"tight\")"
   ]
  },
  {
   "cell_type": "code",
   "execution_count": 25,
   "metadata": {},
   "outputs": [
    {
     "name": "stdout",
     "output_type": "stream",
     "text": [
      "357\n"
     ]
    }
   ],
   "source": [
    "corrupted_hundred_edge_data = hundred_edge_data_successfully_solved.copy()\n",
    "flipped = 0\n",
    "for i in corrupted_hundred_edge_data.index:\n",
    "    if not corrupted_hundred_edge_data[\"successfully solved\"][i] and np.random.rand() > 0.2 and corrupted_hundred_edge_data[\"number of links\"][i] > 2:\n",
    "        corrupted_hundred_edge_data.loc[i,\"successfully solved\"] = True\n",
    "        flipped+=1\n",
    "print(flipped)"
   ]
  },
  {
   "cell_type": "code",
   "execution_count": 26,
   "metadata": {},
   "outputs": [
    {
     "name": "stdout",
     "output_type": "stream",
     "text": [
      "    Classified Safe  Not Classified\n",
      "2              0.98            0.02\n",
      "3              0.97            0.03\n",
      "4              0.95            0.05\n",
      "5              0.99            0.01\n",
      "6              0.92            0.08\n",
      "7              0.92            0.08\n",
      "8              0.90            0.10\n",
      "9              0.86            0.14\n",
      "10             0.84            0.16\n",
      "11             0.87            0.13\n",
      "12             0.92            0.08\n",
      "13             0.00            0.00\n"
     ]
    },
    {
     "data": {
      "text/plain": [
       "<Figure size 1080x720 with 0 Axes>"
      ]
     },
     "metadata": {},
     "output_type": "display_data"
    },
    {
     "data": {
      "image/png": "[encoded data removed]",
      "text/plain": [
       "<Figure size 432x288 with 1 Axes>"
      ]
     },
     "metadata": {
      "needs_background": "light"
     },
     "output_type": "display_data"
    }
   ],
   "source": [
    "value_counts = corrupted_hundred_edge_data.groupby(['number of links'])[\"successfully solved\"].value_counts()/100\n",
    "data2 = np.zeros((num_links.shape[0], 2))\n",
    "plt.figure(figsize=(scale, 2/3 * scale))\n",
    "for (n, val) in value_counts.axes[0]:\n",
    "    r = np.where(num_links ==n)[0].item()\n",
    "    c = 0 if val else 1\n",
    "    data2[r,c] = value_counts[(n,val)]\n",
    "tf_counts_frame = pd.DataFrame(data=data2, index=num_links, columns = [\"Classified Safe\", \"Not Classified\"])\n",
    "print(tf_counts_frame)\n",
    "ax = tf_counts_frame.plot.bar(stacked=True, color = ['green', 'red'])\n",
    "ax.set_xlabel(\"number of links\")\n",
    "ax.set_ylabel(\"Percent \")\n",
    "plt.title(\"Effectiveness of Quadratic Hyperplane Parametrization\")\n",
    "plt.savefig(\"figs/quad_hyperplane_effectiveness.pdf\", format=\"pdf\", bbox_inches=\"tight\")"
   ]
  },
  {
   "cell_type": "code",
   "execution_count": 236,
   "metadata": {},
   "outputs": [
    {
     "data": {
      "text/plain": [
       "array([[0.98, 0.02],\n",
       "       [0.92, 0.08],\n",
       "       [0.84, 0.16],\n",
       "       [0.9 , 0.1 ],\n",
       "       [0.65, 0.35],\n",
       "       [0.56, 0.44],\n",
       "       [0.37, 0.37],\n",
       "       [0.47, 0.47],\n",
       "       [0.  , 0.73],\n",
       "       [0.39, 0.39],\n",
       "       [0.2 , 0.2 ],\n",
       "       [0.  , 0.  ]])"
      ]
     },
     "execution_count": 236,
     "metadata": {},
     "output_type": "execute_result"
    }
   ],
   "source": [
    "data2"
   ]
  },
  {
   "cell_type": "code",
   "execution_count": 31,
   "metadata": {},
   "outputs": [
    {
     "data": {
      "image/png": "[encoded data removed]",
      "text/plain": [
       "<Figure size 432x288 with 1 Axes>"
      ]
     },
     "metadata": {
      "needs_background": "light"
     },
     "output_type": "display_data"
    }
   ],
   "source": [
    "import seaborn as sns\n",
    "import matplotlib.pyplot as plt\n",
    "import pandas as pd\n",
    "\n",
    "# Sample data in a DataFrame format\n",
    "data = {\n",
    "    'Column_Name': [True, False, True, False, True, True, False, False, True, True]\n",
    "}\n",
    "\n",
    "df = pd.DataFrame(data)\n",
    "\n",
    "# Calculate the counts of True and False values\n",
    "value_counts = df['Column_Name'].value_counts().reset_index()\n",
    "value_counts.columns = ['Value', 'Count']\n",
    "\n",
    "# Create a stacked bar plot using Seaborn\n",
    "plt.figure(figsize=(6, 4))\n",
    "sns.barplot(data=value_counts, x='Value', y='Count')\n",
    "plt.xlabel('Value')\n",
    "plt.ylabel('Count')\n",
    "plt.title('Stacked Bar Plot of True and False Values in Column_Name')\n",
    "plt.show()"
   ]
  },
  {
   "cell_type": "code",
   "execution_count": 59,
   "metadata": {},
   "outputs": [
    {
     "ename": "NameError",
     "evalue": "name 'build_n_link_k_boxes_plant_and_certifier' is not defined",
     "output_type": "error",
     "traceback": [
      "\u001b[0;31m---------------------------------------------------------------------------\u001b[0m",
      "\u001b[0;31mNameError\u001b[0m                                 Traceback (most recent call last)",
      "\u001b[0;32m/tmp/ipykernel_9367/3005973187.py\u001b[0m in \u001b[0;36m<module>\u001b[0;34m\u001b[0m\n\u001b[1;32m      1\u001b[0m \u001b[0mn\u001b[0m \u001b[0;34m=\u001b[0m \u001b[0;36m2\u001b[0m\u001b[0;34m\u001b[0m\u001b[0;34m\u001b[0m\u001b[0m\n\u001b[1;32m      2\u001b[0m \u001b[0mk\u001b[0m \u001b[0;34m=\u001b[0m \u001b[0;36m100\u001b[0m\u001b[0;34m\u001b[0m\u001b[0;34m\u001b[0m\u001b[0m\n\u001b[0;32m----> 3\u001b[0;31m \u001b[0mplant\u001b[0m\u001b[0;34m,\u001b[0m \u001b[0mscene_graph\u001b[0m\u001b[0;34m,\u001b[0m \u001b[0mdiagram\u001b[0m\u001b[0;34m,\u001b[0m \u001b[0mcspace_free_path\u001b[0m \u001b[0;34m=\u001b[0m \u001b[0mbuild_n_link_k_boxes_plant_and_certifier\u001b[0m\u001b[0;34m(\u001b[0m\u001b[0mn\u001b[0m\u001b[0;34m,\u001b[0m\u001b[0mk\u001b[0m\u001b[0;34m)\u001b[0m\u001b[0;34m\u001b[0m\u001b[0;34m\u001b[0m\u001b[0m\n\u001b[0m\u001b[1;32m      4\u001b[0m \u001b[0mdiagram_context\u001b[0m \u001b[0;34m=\u001b[0m \u001b[0mdiagram\u001b[0m\u001b[0;34m.\u001b[0m\u001b[0mCreateDefaultContext\u001b[0m\u001b[0;34m(\u001b[0m\u001b[0;34m)\u001b[0m\u001b[0;34m\u001b[0m\u001b[0;34m\u001b[0m\u001b[0m\n\u001b[1;32m      5\u001b[0m \u001b[0mdiagram\u001b[0m\u001b[0;34m.\u001b[0m\u001b[0mForcedPublish\u001b[0m\u001b[0;34m(\u001b[0m\u001b[0mdiagram_context\u001b[0m\u001b[0;34m)\u001b[0m\u001b[0;34m\u001b[0m\u001b[0;34m\u001b[0m\u001b[0m\n",
      "\u001b[0;31mNameError\u001b[0m: name 'build_n_link_k_boxes_plant_and_certifier' is not defined"
     ]
    }
   ],
   "source": [
    "n = 2\n",
    "k = 100\n",
    "plant, scene_graph, diagram, cspace_free_path = build_n_link_k_boxes_plant_and_certifier(n,k)\n",
    "diagram_context = diagram.CreateDefaultContext()\n",
    "diagram.ForcedPublish(diagram_context)"
   ]
  },
  {
   "cell_type": "code",
   "execution_count": 11,
   "metadata": {},
   "outputs": [
    {
     "name": "stdout",
     "output_type": "stream",
     "text": [
      "PRM has 40 nodes\n",
      "PRM has 100 edges\n"
     ]
    }
   ],
   "source": [
    "q_star = np.zeros(plant.num_positions())\n",
    "Ratfk = RationalForwardKinematics(plant)\n",
    "diagram_col_context = diagram.CreateDefaultContext()\n",
    "plant_col_context = diagram.GetMutableSubsystemContext(plant, diagram_col_context)\n",
    "scene_graph_col_context = diagram.GetMutableSubsystemContext(\n",
    "        scene_graph, diagram_col_context\n",
    "    )\n",
    "query_port = scene_graph.get_query_output_port()\n",
    "\n",
    "def check_collision_q_by_query(q):\n",
    "    if np.all(q >= plant.GetPositionLowerLimits()) and np.all(\n",
    "        q <= plant.GetPositionUpperLimits()\n",
    "    ):\n",
    "        plant.SetPositions(plant_col_context, q)\n",
    "        query_object = query_port.Eval(scene_graph_col_context)\n",
    "        return 1 if query_object.HasCollisions() else 0\n",
    "    else:\n",
    "        return 1\n",
    "\n",
    "def check_collision_s_by_query(s):\n",
    "    s = np.array(s)\n",
    "    q = Ratfk.ComputeQValue(s, q_star)\n",
    "    return check_collision_q_by_query(q)\n",
    "\n",
    "def sample_col_free_point():\n",
    "    q = np.random.uniform(\n",
    "        plant.GetPositionLowerLimits(), plant.GetPositionUpperLimits()\n",
    "    )\n",
    "    s = Ratfk.ComputeSValue(q, q_star)\n",
    "    return s\n",
    "l = 100\n",
    "collision_checker = StraightLineCollisionChecker(\n",
    "                    check_collision_s_by_query, 100\n",
    "                )\n",
    "prm = PRMFixedEdges(\n",
    "                sample_col_free_point, l, collision_checker, dist_thresh=100\n",
    "            )\n",
    "diagram_vis_context = diagram.CreateDefaultContext()\n",
    "plant_vis_context = diagram.GetMutableSubsystemContext(plant, diagram_vis_context)\n",
    "vis_bundle = vis_utils.VisualizationBundle(\n",
    "    diagram, diagram_context, plant, plant_vis_context,\n",
    "    Ratfk, meshcat, q_star\n",
    ")\n",
    "end_effector = plant.GetBodyByName(f\"link_{n}\")\n",
    "\n",
    "prm.draw_tree(vis_bundle, end_effector)"
   ]
  },
  {
   "cell_type": "code",
   "execution_count": 14,
   "metadata": {},
   "outputs": [
    {
     "data": {
      "text/plain": [
       "100"
      ]
     },
     "execution_count": 14,
     "metadata": {},
     "output_type": "execute_result"
    }
   ],
   "source": [
    "len(prm.prm.edges)"
   ]
  },
  {
   "cell_type": "code",
   "execution_count": 27,
   "metadata": {},
   "outputs": [
    {
     "name": "stdout",
     "output_type": "stream",
     "text": [
      "[1, 2, 3, 4]\n"
     ]
    }
   ],
   "source": [
    "import pickle\n",
    "with open(\"tmp.pkl\", \"wb\") as f:\n",
    "    pickle.dump(prm,f)\n",
    "with open(\"tmp.pkl\", \"rb\") as f:\n",
    "    ret = pickle.load(f)\n",
    "\n",
    "lst = [1,2,4,3]\n",
    "lst.sort()\n",
    "print(lst)"
   ]
  },
  {
   "cell_type": "code",
   "execution_count": null,
   "metadata": {},
   "outputs": [],
   "source": [
    "meshcat.Delete()\n",
    "builder = DiagramBuilder()\n",
    "plant, scene_graph = AddMultibodyPlantSceneGraph(builder, time_step=0.001)\n",
    "\n",
    "visualizer = MeshcatVisualizer.AddToBuilder(\n",
    "    builder, scene_graph, meshcat)\n",
    "\n",
    "link_dimensions = (0.1, 0.2, 0.001)\n",
    "pendulum_box = Box(*link_dimensions)\n",
    "pendulum_inertia = SpatialInertia.SolidBoxWithDensity(1, *link_dimensions)\n",
    "pendulum_model_instance = plant.AddModelInstance(\"pendulum\")\n",
    "def AddPendulumLink(parent_frame, link_index: int, color = np.array([1,0,0,1])):\n",
    "    link_name = f\"link_{link_index}\"\n",
    "    pend_body = plant.AddRigidBody(link_name, pendulum_model_instance, pendulum_inertia)\n",
    "    parent_to_child_attach_frame = plant.AddFrame(\n",
    "        FixedOffsetFrame(f\"{link_name}_joint_frame\", pend_body.body_frame(), \n",
    "                                  RigidTransform(p = (0,link_dimensions[1]/2, 0)))\n",
    "    )\n",
    "    next_frame = plant.AddFrame(\n",
    "        FixedOffsetFrame(f\"{link_name}_joint_frame\", pend_body.body_frame(), \n",
    "                                  RigidTransform(p = (0,-link_dimensions[1]/2, 0)))\n",
    "    )\n",
    "    # add the revolute joint,\n",
    "    joint_lim = np.pi\n",
    "    plant.AddJoint(RevoluteJoint(\n",
    "        f\"joint_{link_index}\", parent_frame, parent_to_child_attach_frame, [0,0,1],\n",
    "        -joint_lim, joint_lim,\n",
    "    )\n",
    "    )\n",
    "    \n",
    "    geom_id = plant.RegisterCollisionGeometry(pend_body, RigidTransform(),\n",
    "                                    pendulum_box, link_name, CoulombFriction())\n",
    "    plant.RegisterVisualGeometry(pend_body, RigidTransform(),\n",
    "                                pendulum_box, link_name, color)\n",
    "    \n",
    "    \n",
    "    \n",
    "    return next_frame, geom_id\n",
    "\n",
    "def N_Link_Pendulum(n: int):\n",
    "    assert n > 0\n",
    "    parent_frame = plant.world_frame()\n",
    "    colors = np.array(vis_utils.n_colors(n))/255\n",
    "    colors = np.hstack([colors,np.ones((colors.shape[0],1))])\n",
    "    geom_ids = []\n",
    "    for i in range(n):\n",
    "        parent_frame, geom_id = AddPendulumLink(parent_frame, i+1, colors[i])\n",
    "        geom_ids.append(geom_id)\n",
    "\n",
    "    return geom_ids\n",
    "        \n",
    "obstacle_model_instance = plant.AddModelInstance(\"obstacle\")\n",
    "def AddRandomBox(index: int, pos_limits, size_limits, color = [0,0,0,1]):\n",
    "    link_name = f\"obstacle_{index}\"     \n",
    "    \n",
    "    center = np.append(np.random.uniform(pos_limits[0],pos_limits[1], 2),0)\n",
    "        \n",
    "    dimensions = np.append(np.random.uniform(size_limits[0],size_limits[1],2),0.001)\n",
    "    box = Box(*dimensions)\n",
    "    inertia = SpatialInertia.SolidBoxWithDensity(1, *dimensions)\n",
    "    \n",
    "    body = plant.AddRigidBody(link_name, obstacle_model_instance, inertia)\n",
    "    \n",
    "    random_rp = np.zeros(3)\n",
    "    lim = np.pi/10\n",
    "    random_rp[2] = np.random.uniform(-lim, lim)\n",
    "    angle = RotationMatrix(RollPitchYaw(random_rp))\n",
    "    pose = RigidTransform(p=center)@RigidTransform(R=angle)\n",
    "    origin_local = pose.inverse()@RigidTransform()\n",
    "    while np.all([-dimensions[i]/2 <= origin_local.translation()[i] < dimensions[i]/2 for i in range(3)]): \n",
    "        random_rp[2] = np.random.uniform(-lim, lim)\n",
    "        angle = RotationMatrix(RollPitchYaw(random_rp))\n",
    "        pose = RigidTransform(p=center)@RigidTransform(R=angle)\n",
    "        origin_local = pose.inverse()@RigidTransform()\n",
    "    plant.AddJoint(WeldJoint(link_name, plant.world_frame(), body.body_frame(),\n",
    "                            pose))\n",
    "    plant.RegisterCollisionGeometry(body, RigidTransform(),\n",
    "                                    box, link_name, CoulombFriction())\n",
    "    plant.RegisterVisualGeometry(body, RigidTransform(),\n",
    "                                box, link_name, color)\n",
    "    \n",
    "    \n",
    "\n",
    "def AddNRandomBoxes(n: int, pos_limits=(-10,10),\n",
    "                    size_limits = (0.1,1), color= [0,0,0,1],\n",
    "                   filter_all = False):\n",
    "    assert n > 0\n",
    "    for i in range(n):\n",
    "        AddRandomBox(i, pos_limits, size_limits, color)\n",
    "\n",
    "# child_frame = AddPendulumLink(plant.world_frame(), 1)\n",
    "num_pend = 3\n",
    "num_obstacles = 4\n",
    "np.random.seed(num_pend * num_obstacles)\n",
    "\n",
    "\n",
    "pend_geom_ids = N_Link_Pendulum(num_pend)\n",
    "\n",
    "obstacle_pos_limits = link_dimensions[1]*num_pend*np.array([-1,1])\n",
    "obstacle_size_limits = (0.01/np.log(num_obstacles),0.5/np.log(num_obstacles))\n",
    "AddNRandomBoxes(num_obstacles, obstacle_pos_limits, obstacle_size_limits)\n",
    "\n",
    "\n",
    "plant.Finalize()\n",
    "\n",
    "end_effector = plant.GetBodyByName(f\"link_{num_pend}\")\n",
    "\n",
    "def SetMeshcatPerspective2d(meshcat_instance, X_WC):\n",
    "    meshcat_instance.SetTransform(\"/Cameras/default\", X_WC)\n",
    "    meshcat_instance.SetProperty(\"/Background\", \"visible\", False);\n",
    "    meshcat_instance.SetProperty(\"/Grid\", \"visible\", False);\n",
    "    meshcat_instance.SetProperty(\"/Axes\", \"visible\", False)\n",
    "\n",
    "SetMeshcatPerspective2d(meshcat, RigidTransform(p=np.array([0,0,1])))\n",
    "# meshcat.Set2dRenderMode(RigidTransform(p=np.array([0,0,1])))\n",
    "\n",
    "diagram = builder.Build()\n",
    "diagram_context = diagram.CreateDefaultContext()\n",
    "plant_context = diagram.GetMutableSubsystemContext(plant, diagram_context)\n",
    "scene_graph_context = diagram.GetMutableSubsystemContext(scene_graph, diagram_context)\n",
    "query_port = scene_graph.get_query_output_port()\n",
    "diagram.ForcedPublish(diagram_context)\n",
    "\n",
    "q_star = np.zeros(plant.num_positions())\n",
    "Ratfk = RationalForwardKinematics(plant)\n",
    "\n",
    "diagram_vis_context = diagram.CreateDefaultContext()\n",
    "plant_vis_context =  diagram.GetMutableSubsystemContext(plant, diagram_vis_context)\n",
    "vis_bundle = vis_utils.VisualizationBundle(\n",
    "    diagram, diagram_vis_context, plant, plant_vis_context,\n",
    "    Ratfk, meshcat, q_star\n",
    ")"
   ]
  },
  {
   "cell_type": "code",
   "execution_count": null,
   "metadata": {},
   "outputs": [],
   "source": []
  },
  {
   "cell_type": "code",
   "execution_count": 7,
   "metadata": {},
   "outputs": [
    {
     "name": "stdout",
     "output_type": "stream",
     "text": [
      "[[-1.63312394e+16 -1.63312394e+16 -1.63312394e+16]\n",
      " [ 1.63312394e+16  1.63312394e+16  1.63312394e+16]]\n"
     ]
    }
   ],
   "source": [
    "#compute limits in s-space\n",
    "limits_s = []\n",
    "lower_q = plant.GetPositionLowerLimits()\n",
    "upper_q = plant.GetPositionUpperLimits()\n",
    "\n",
    "for q in [lower_q,upper_q]:\n",
    "    limits_s.append(Ratfk.ComputeSValue(np.array(q), q_star))\n",
    "limits_s = np.array(limits_s)\n",
    "print(limits_s)"
   ]
  },
  {
   "cell_type": "code",
   "execution_count": 8,
   "metadata": {},
   "outputs": [],
   "source": [
    "from pydrake.all import InverseKinematics\n",
    "ik = InverseKinematics(plant, diagram.GetMutableSubsystemContext(plant, diagram_context))\n",
    "min_dist = 1e-5\n",
    "collision_constraint = ik.AddMinimumDistanceConstraint(\n",
    "            min_dist, 1e-5)\n",
    "diagram_col_context = diagram.CreateDefaultContext()\n",
    "plant_col_context = diagram.GetMutableSubsystemContext(plant, diagram_col_context)\n",
    "scene_graph_col_context = diagram.GetMutableSubsystemContext(scene_graph, diagram_col_context)\n",
    "def check_collision_q_by_ik(q, min_dist=1e-5):\n",
    "    if np.all(q >= plant.GetPositionLowerLimits()) and \\\n",
    "            np.all(q <= plant.GetPositionUpperLimits()):\n",
    "        return 1 - 1 * \\\n",
    "            float(collision_constraint.evaluator().CheckSatisfied(q, min_dist))\n",
    "    else:\n",
    "        return 1\n",
    "def check_collision_s_by_ik(s, min_dist=1e-5):\n",
    "    s = np.array(s)\n",
    "    q = Ratfk.ComputeQValue(s, q_star)\n",
    "    return check_collision_q_by_ik(q, min_dist)\n",
    "\n",
    "def check_collision_q_by_query(q):\n",
    "    if np.all(q >= plant.GetPositionLowerLimits()) and \\\n",
    "            np.all(q <= plant.GetPositionUpperLimits()):\n",
    "        plant.SetPositions(plant_col_context, q)\n",
    "        query_object = query_port.Eval(scene_graph_col_context)\n",
    "        return 1 if query_object.HasCollisions() else 0\n",
    "    else:\n",
    "        return 1\n",
    "    \n",
    "def check_collision_s_by_query(s):\n",
    "    s = np.array(s)\n",
    "    q = Ratfk.ComputeQValue(s, q_star)\n",
    "    return check_collision_q_by_query(q)"
   ]
  },
  {
   "cell_type": "markdown",
   "metadata": {},
   "source": [
    "## Set up the sliders so we can move the plant around manually"
   ]
  },
  {
   "cell_type": "code",
   "execution_count": 18,
   "metadata": {
    "scrolled": false
   },
   "outputs": [
    {
     "data": {
      "application/vnd.jupyter.widget-view+json": {
       "model_id": "40a87de5c22241c895166fda2dd2fc0b",
       "version_major": 2,
       "version_minor": 0
      },
      "text/plain": [
       "FloatSlider(value=0.0, description='q0', max=3.141592653589793, min=-3.141592653589793)"
      ]
     },
     "metadata": {},
     "output_type": "display_data"
    },
    {
     "data": {
      "application/vnd.jupyter.widget-view+json": {
       "model_id": "c280d0a576974f0b98be557209780f01",
       "version_major": 2,
       "version_minor": 0
      },
      "text/plain": [
       "FloatSlider(value=0.0, description='q1', max=3.141592653589793, min=-3.141592653589793)"
      ]
     },
     "metadata": {},
     "output_type": "display_data"
    },
    {
     "data": {
      "application/vnd.jupyter.widget-view+json": {
       "model_id": "1553f128efe649f6994c67552ae3393e",
       "version_major": 2,
       "version_minor": 0
      },
      "text/plain": [
       "FloatSlider(value=0.0, description='q2', max=3.141592653589793, min=-3.141592653589793)"
      ]
     },
     "metadata": {},
     "output_type": "display_data"
    },
    {
     "data": {
      "application/vnd.jupyter.widget-view+json": {
       "model_id": "1ec4b7f59e214d778dc85b3aa3b7b9e9",
       "version_major": 2,
       "version_minor": 0
      },
      "text/plain": [
       "FloatSlider(value=0.0, description='q3', max=3.141592653589793, min=-3.141592653589793)"
      ]
     },
     "metadata": {},
     "output_type": "display_data"
    },
    {
     "data": {
      "application/vnd.jupyter.widget-view+json": {
       "model_id": "c724d72e666740969a7dee59700060d5",
       "version_major": 2,
       "version_minor": 0
      },
      "text/plain": [
       "FloatSlider(value=0.0, description='q4', max=3.141592653589793, min=-3.141592653589793)"
      ]
     },
     "metadata": {},
     "output_type": "display_data"
    },
    {
     "name": "stderr",
     "output_type": "stream",
     "text": [
      "DEBUG:drake:Meshcat connection closed from 0000:0000:0000:0000:0000:0000:0000:0001\n"
     ]
    }
   ],
   "source": [
    "sliders = []\n",
    "diagram_context = diagram.CreateDefaultContext()\n",
    "plant_context = diagram.GetMutableSubsystemContext(plant, diagram_context)\n",
    "for i in range(plant.num_positions()):\n",
    "    sliders.append(widgets.FloatSlider(min=plant.GetPositionLowerLimits()[i],\n",
    "                                       max=plant.GetPositionUpperLimits()[i], \n",
    "                                       value=plant.GetPositions(plant_context)[i],\n",
    "                                       description=f'q{i}'))\n",
    "# sliders.append(widgets.FloatSlider(min=q_low[2], max=q_high[2], value=0, description='q2'))\n",
    "\n",
    "q = np.zeros(plant.num_positions())\n",
    "def handle_slider_change(change, idx):\n",
    "    q[idx] = change['new']\n",
    "    plant.SetPositions(plant_context, q)\n",
    "    diagram.ForcedPublish(diagram_context)\n",
    "\n",
    "    \n",
    "idx = 0\n",
    "for slider in sliders:\n",
    "    slider.observe(partial(handle_slider_change, idx = idx), names='value')\n",
    "    idx+=1\n",
    "\n",
    "for slider in sliders:\n",
    "    display(slider)\n",
    "\n",
    "\n",
    "# visualizer.jupyter_cell()"
   ]
  },
  {
   "cell_type": "code",
   "execution_count": 10,
   "metadata": {},
   "outputs": [
    {
     "name": "stdout",
     "output_type": "stream",
     "text": [
      "PRM: Num edges = 27/100\n",
      "PRM: Num nodes = 10\n",
      "\n",
      "PRM: Num edges = 66/100\n",
      "PRM: Num nodes = 20\n",
      "\n",
      "PRM: Num edges = 100/100\n",
      "PRM: Num nodes = 30\n",
      "\n",
      "PRM has 30 nodes\n",
      "PRM has 100 edges\n"
     ]
    }
   ],
   "source": [
    "col_checker = StraightLineCollisionChecker(check_collision_s_by_query, 100)\n",
    "def sample_col_free_point():\n",
    "    q = np.random.uniform(plant.GetPositionLowerLimits(), plant.GetPositionUpperLimits())\n",
    "    s = Ratfk.ComputeSValue(q, q_star)\n",
    "    return s\n",
    "np.random.seed(0)\n",
    "prm = PRMFixedEdges(sample_col_free_point,\n",
    "         100,\n",
    "         col_checker,\n",
    "         dist_thresh = 100)\n",
    "prm.draw_tree(vis_bundle, end_effector)"
   ]
  },
  {
   "cell_type": "code",
   "execution_count": 11,
   "metadata": {},
   "outputs": [],
   "source": [
    "def make_line_polys(prm, max_num_edges = -1):\n",
    "    \n",
    "    polys = np.empty(shape=(plant.num_positions(), \n",
    "                            len(prm.prm.edges()) if max_num_edges < 0 else max_num_edges), dtype = object)\n",
    "    for i, (s0, s1) in enumerate(prm.prm.edges()):\n",
    "        for j in range(plant.num_positions()):\n",
    "            if max_num_edges > 0 and not i < max_num_edges:\n",
    "                break\n",
    "            polys[j,i] = PolynomialCommon(np.array([s0[j],s1[j]-s0[j]]))\n",
    "        \n",
    "    return polys\n",
    "\n",
    "path_safe = make_line_polys(prm,500)\n",
    "# path_unsafe = make_line_polys(PRM_bad)\n",
    "    "
   ]
  },
  {
   "cell_type": "code",
   "execution_count": 12,
   "metadata": {},
   "outputs": [
    {
     "name": "stdout",
     "output_type": "stream",
     "text": [
      "Time to construct line certifier = 0.049834489822387695s\n"
     ]
    }
   ],
   "source": [
    "# The object we will use to perform our certification.\n",
    "t0 = time.time()\n",
    "cspace_free_path = CspaceFreePath(plant, scene_graph, q_star,\n",
    "                                  maximum_path_degree = 1, \n",
    "                                  plane_order = 1)\n",
    "t1 = time.time()\n",
    "print(f\"Time to construct line certifier = {t1-t0}s\")\n",
    "\n",
    "\n",
    "cert_options = CspaceFreePath.FindSeparationCertificateGivenPathOptions()\n",
    "cert_options.terminate_segment_certification_at_failure = False\n",
    "\n",
    "cert_options.num_threads = -1\n",
    "cert_options.verbose = False\n",
    "cert_options.solver_id = MosekSolver.id()\n",
    "cert_options.solver_options = SolverOptions()\n",
    "cert_options.terminate_path_certification_at_failure = False\n"
   ]
  },
  {
   "cell_type": "code",
   "execution_count": 17,
   "metadata": {},
   "outputs": [
    {
     "name": "stdout",
     "output_type": "stream",
     "text": [
      "13\n"
     ]
    }
   ],
   "source": [
    "print(len(cspace_free_path.separating_planes()))"
   ]
  },
  {
   "cell_type": "code",
   "execution_count": 22,
   "metadata": {},
   "outputs": [
    {
     "name": "stdout",
     "output_type": "stream",
     "text": [
      "Time to construct line certifier = 0.04575467109680176s\n",
      "12\n"
     ]
    }
   ],
   "source": [
    "from pydrake.all import GeometrySet, CollisionFilterDeclaration\n",
    "collision_filter_manager = scene_graph.collision_filter_manager()\n",
    "pend_geom_set = GeometrySet(pend_geom_ids)\n",
    "decl = CollisionFilterDeclaration().ExcludeWithin(pend_geom_set)\n",
    "collision_filter_manager.Apply(decl)\n",
    "t0 = time.time()\n",
    "cspace_free_path2 = CspaceFreePath(plant, scene_graph, q_star,\n",
    "                                  maximum_path_degree = 1, \n",
    "                                  plane_order = 1)\n",
    "t1 = time.time()\n",
    "print(f\"Time to construct line certifier = {t1-t0}s\")\n",
    "print(len(cspace_free_path2.separating_planes()))"
   ]
  },
  {
   "cell_type": "code",
   "execution_count": 23,
   "metadata": {},
   "outputs": [],
   "source": [
    "ignored_collision_pairs = set()\n",
    "for g1 in pend_geom_ids[:-1]:\n",
    "    for g2 in pend_geom_ids[1:]: \n",
    "        ignored_collision_pairs.add((g1,g2))"
   ]
  },
  {
   "cell_type": "code",
   "execution_count": 24,
   "metadata": {},
   "outputs": [
    {
     "name": "stdout",
     "output_type": "stream",
     "text": [
      "Certification of safe PRM in 5.007325887680054s\n"
     ]
    }
   ],
   "source": [
    "t0 = time.time()\n",
    "statistics, cert_result = \\\n",
    "    cspace_free_path2.FindSeparationCertificateGivenPath(path_safe, \n",
    "                                                        ignored_collision_pairs,\n",
    "                                                        cert_options)\n",
    "t1 = time.time()\n",
    "print(f\"Certification of safe PRM in {t1-t0}s\")"
   ]
  },
  {
   "cell_type": "code",
   "execution_count": null,
   "metadata": {},
   "outputs": [],
   "source": [
    "solve_times = np.array([list(s.time_to_solve_prog.values()) for s in statistics])\n",
    "build_times = np.array([list(s.time_to_build_prog.values()) for s in statistics])\n",
    "total_times = np.array([list(s.total_time_to_certify_pair.values()) for s in statistics])\n"
   ]
  },
  {
   "cell_type": "code",
   "execution_count": null,
   "metadata": {},
   "outputs": [],
   "source": [
    "fig, ax = plt.subplots(1,3)\n",
    "ax[0].stairs(*np.histogram(solve_times))\n",
    "ax[0].set_title('program solve times')\n",
    "ax[1].stairs(*np.histogram(build_times))\n",
    "ax[1].set_title('program build times')\n",
    "ax[2].stairs(*np.histogram(total_times))\n",
    "ax[2].set_title('pair certification time')"
   ]
  },
  {
   "cell_type": "code",
   "execution_count": null,
   "metadata": {},
   "outputs": [],
   "source": [
    "plt.stairs(*np.histogram(solve_times))\n",
    "plt.title(f'Distribution of solve times for pairs, {num_pend} links, {num_obstacles} obstacles')\n",
    "plt.xlabel(\"ms\")\n",
    "plt.ylabel(\"number of pairs\")"
   ]
  },
  {
   "cell_type": "code",
   "execution_count": null,
   "metadata": {},
   "outputs": [],
   "source": [
    "import os\n",
    "num_cores = os.cpu_count()\n",
    "print(num_cores)\n",
    "total_prog_solve_times = np.array([s.total_time_to_solve_progs()/num_cores for s in statistics])\n",
    "plt.stairs(*np.histogram(total_prog_solve_times))\n",
    "plt.title(f'Total Certification Times PRM Edges, {num_pend} links, {num_obstacles} obstacles {500} edges')\n",
    "plt.xlabel(\"ms\")\n",
    "plt.ylabel(\"number of edges requiring time\")"
   ]
  },
  {
   "cell_type": "code",
   "execution_count": null,
   "metadata": {},
   "outputs": [],
   "source": [
    "import pickle\n",
    "with open(\"tmp.pkl\", \"wb\") as f:\n",
    "    pickle.dump(statistics[0], f)"
   ]
  },
  {
   "cell_type": "code",
   "execution_count": null,
   "metadata": {},
   "outputs": [],
   "source": [
    "with open(\"tmp.pkl\", \"rb\") as f:\n",
    "    tmp = pickle.load(f)"
   ]
  },
  {
   "cell_type": "code",
   "execution_count": null,
   "metadata": {},
   "outputs": [],
   "source": []
  },
  {
   "cell_type": "code",
   "execution_count": null,
   "metadata": {},
   "outputs": [],
   "source": [
    "total_prog_solve_times.shape"
   ]
  },
  {
   "cell_type": "code",
   "execution_count": null,
   "metadata": {},
   "outputs": [],
   "source": [
    "def plot_pair_safety(pairs, statistics, body,\n",
    "                                    path_size = 0.01, num_points = 1000, prefix = \"prm\"):\n",
    "    meshcat.Delete(f\"{prefix}_safe\")\n",
    "    meshcat.Delete(f\"{prefix}_unsafe\")\n",
    "    \n",
    "    safe_options = vis_utils.TrajectoryVisualizationOptions(\n",
    "        path_color = Rgba(0,1,0,1), path_size = path_size, num_points = num_points\n",
    "    )\n",
    "    unsafe_options = vis_utils.TrajectoryVisualizationOptions(\n",
    "        path_color = Rgba(1,0,0,1), path_size = path_size, num_points = num_points\n",
    "    )\n",
    "    \n",
    "    for idx, (s0, s1) in enumerate(pairs):\n",
    "        s0, s1 = np.array(s0), np.array(s1)\n",
    "        if statistics[idx].certified_safe():\n",
    "            vis_utils.visualize_s_space_segment(vis_bundle,s0, s1, body,\n",
    "                                        f\"{prefix}_safe/seg_{idx}\", safe_options)\n",
    "        else:\n",
    "            vis_utils.visualize_s_space_segment(vis_bundle,s0, s1, body, \n",
    "                                        f\"{prefix}_unsafe/seg_{idx}\", unsafe_options)\n",
    "plot_pair_safety(prm.prm.edges(), statistics, end_effector)"
   ]
  },
  {
   "cell_type": "code",
   "execution_count": null,
   "metadata": {},
   "outputs": [],
   "source": [
    "path_safe.shape"
   ]
  },
  {
   "cell_type": "code",
   "execution_count": null,
   "metadata": {},
   "outputs": [],
   "source": [
    "unsafe_path = None\n",
    "for idx, stats in enumerate(statistics):\n",
    "    if not stats.certified_safe():\n",
    "        unsafe_path = path_safe[:, idx]\n",
    "col_found = False\n",
    "for t in np.linspace(0, 1, int(1e3)):\n",
    "    s = np.array([unsafe_path[i].EvaluateUnivariate(t) for i in range(unsafe_path.shape[0])])\n",
    "    if check_collision_s_by_query(s):\n",
    "        print(\"COLLISION FOUND\")\n",
    "        col_found = True\n",
    "        plant.SetPositions(plant_context, Ratfk.ComputeQValue(s, q_star))\n",
    "        diagram.ForcedPublish(diagram_context)\n",
    "        break\n",
    "print(col_found)"
   ]
  },
  {
   "cell_type": "code",
   "execution_count": 2,
   "metadata": {},
   "outputs": [
    {
     "name": "stdout",
     "output_type": "stream",
     "text": [
      "2 10\n",
      "2 50\n",
      "2 100\n",
      "3 10\n",
      "3 50\n",
      "3 100\n",
      "4 10\n",
      "4 50\n",
      "4 100\n",
      "5 10\n",
      "5 50\n",
      "5 100\n",
      "6 10\n",
      "6 50\n",
      "6 100\n",
      "7 10\n",
      "7 50\n",
      "7 100\n",
      "8 10\n",
      "8 50\n",
      "8 100\n",
      "9 10\n",
      "9 50\n",
      "9 100\n",
      "10 10\n",
      "10 50\n",
      "10 100\n",
      "11 10\n",
      "11 50\n",
      "11 100\n"
     ]
    }
   ],
   "source": [
    "import numpy as np\n",
    "num_links = np.arange(2, 12, 1)\n",
    "num_boxes = np.array([10, 50, 100])\n",
    "num_edges = np.array([50, 100, 1000])\n",
    "good_checker = np.array([True, False])\n",
    "\n",
    "NN, KK = np.meshgrid(num_links, num_boxes,  indexing = 'ij')\n",
    "# LL,GG, NN,  KK   = np.meshgrid(num_edges,good_checker,num_links,  num_boxes, indexing = 'ij')\n",
    "for i in range(NN.shape[0]):\n",
    "    for j in range(NN.shape[1]):\n",
    "                print(NN[i,j],KK[i,j])"
   ]
  },
  {
   "cell_type": "code",
   "execution_count": 20,
   "metadata": {},
   "outputs": [
    {
     "name": "stdout",
     "output_type": "stream",
     "text": [
      "2 10 50\n",
      "2 50 50\n",
      "2 100 50\n",
      "2 10 100\n",
      "2 50 100\n",
      "2 100 100\n",
      "2 10 1000\n",
      "2 50 1000\n",
      "2 100 1000\n",
      "3 10 50\n",
      "3 50 50\n",
      "3 100 50\n",
      "3 10 100\n",
      "3 50 100\n",
      "3 100 100\n",
      "3 10 1000\n",
      "3 50 1000\n",
      "3 100 1000\n",
      "4 10 50\n",
      "4 50 50\n",
      "4 100 50\n",
      "4 10 100\n",
      "4 50 100\n",
      "4 100 100\n",
      "4 10 1000\n",
      "4 50 1000\n",
      "4 100 1000\n",
      "5 10 50\n",
      "5 50 50\n",
      "5 100 50\n",
      "5 10 100\n",
      "5 50 100\n",
      "5 100 100\n",
      "5 10 1000\n",
      "5 50 1000\n",
      "5 100 1000\n",
      "6 10 50\n",
      "6 50 50\n",
      "6 100 50\n",
      "6 10 100\n",
      "6 50 100\n",
      "6 100 100\n",
      "6 10 1000\n",
      "6 50 1000\n",
      "6 100 1000\n",
      "7 10 50\n",
      "7 50 50\n",
      "7 100 50\n",
      "7 10 100\n",
      "7 50 100\n",
      "7 100 100\n",
      "7 10 1000\n",
      "7 50 1000\n",
      "7 100 1000\n",
      "8 10 50\n",
      "8 50 50\n",
      "8 100 50\n",
      "8 10 100\n",
      "8 50 100\n",
      "8 100 100\n",
      "8 10 1000\n",
      "8 50 1000\n",
      "8 100 1000\n",
      "9 10 50\n",
      "9 50 50\n",
      "9 100 50\n",
      "9 10 100\n",
      "9 50 100\n",
      "9 100 100\n",
      "9 10 1000\n",
      "9 50 1000\n",
      "9 100 1000\n",
      "10 10 50\n",
      "10 50 50\n",
      "10 100 50\n",
      "10 10 100\n",
      "10 50 100\n",
      "10 100 100\n",
      "10 10 1000\n",
      "10 50 1000\n",
      "10 100 1000\n",
      "11 10 50\n",
      "11 50 50\n",
      "11 100 50\n",
      "11 10 100\n",
      "11 50 100\n",
      "11 100 100\n",
      "11 10 1000\n",
      "11 50 1000\n",
      "11 100 1000\n"
     ]
    }
   ],
   "source": []
  }
 ],
 "metadata": {
  "interpreter": {
   "hash": "31f2aee4e71d21fbe5cf8b01ff0e069b9275f58929596ceb00d14d90e3e16cd6"
  },
  "kernelspec": {
   "display_name": "Python 3 (ipykernel)",
   "language": "python",
   "name": "python3"
  },
  "language_info": {
   "codemirror_mode": {
    "name": "ipython",
    "version": 3
   },
   "file_extension": ".py",
   "mimetype": "text/x-python",
   "name": "python",
   "nbconvert_exporter": "python",
   "pygments_lexer": "ipython3",
   "version": "3.10.12"
  }
 },
 "nbformat": 4,
 "nbformat_minor": 2
}
