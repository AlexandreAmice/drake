{
 "cells": [
  {
   "cell_type": "markdown",
   "metadata": {},
   "source": [
    "# Automated Region Seeding Using Visibility  "
   ]
  },
  {
   "cell_type": "code",
   "execution_count": 2,
   "metadata": {},
   "outputs": [],
   "source": [
    "%load_ext autoreload\n",
    "%autoreload 2"
   ]
  },
  {
   "cell_type": "code",
   "execution_count": 3,
   "metadata": {},
   "outputs": [],
   "source": [
    "import numpy as np\n",
    "from functools import partial\n",
    "import visualizations_utils as viz_utils\n",
    "from iris_plant_visualizer import IrisPlantVisualizer\n",
    "import ipywidgets as widgets\n",
    "from IPython.display import display"
   ]
  },
  {
   "cell_type": "code",
   "execution_count": 4,
   "metadata": {},
   "outputs": [],
   "source": [
    "#pydrake imports\n",
    "import pydrake\n",
    "from pydrake.common import FindResourceOrThrow\n",
    "from pydrake.multibody.parsing import Parser\n",
    "from pydrake.multibody.plant import AddMultibodyPlantSceneGraph\n",
    "from pydrake.multibody.parsing import LoadModelDirectives, Parser, ProcessModelDirectives\n",
    "from pydrake.systems.framework import DiagramBuilder\n",
    "from pydrake.geometry import Role, GeometrySet, CollisionFilterDeclaration\n",
    "from pydrake.solvers import mathematicalprogram as mp\n",
    "from pydrake.all import RigidTransform, RollPitchYaw, RevoluteJoint, Role\n",
    "\n",
    "import pydrake.multibody.rational_forward_kinematics as rational_forward_kinematics\n",
    "from pydrake.multibody.tree import JacobianWrtVariable\n",
    "from pydrake.all import RationalForwardKinematics\n",
    "from pydrake.geometry.optimization import (IrisOptionsRationalSpace, \n",
    "                                           IrisInRationalConfigurationSpace, \n",
    "                                           HPolyhedron, \n",
    "                                           Hyperellipsoid,\n",
    "                                           Iris, IrisOptions)\n",
    "from pydrake.common import FindResourceOrThrow\n",
    "#from pydrake.all import ConnectMeshcatVisualizer\n",
    "from pydrake.all import MeshcatVisualizerCpp, MeshcatVisualizerParams, Role, StartMeshcat,InverseKinematics, RotationMatrix\n",
    "from meshcat import Visualizer\n",
    "from visprm import VPRMSeeding, RandSeeding\n",
    "from dijkstraspp import DijkstraSPPsolver\n",
    "from pydrake.all import Rgba, Sphere"
   ]
  },
  {
   "cell_type": "code",
   "execution_count": 5,
   "metadata": {},
   "outputs": [
    {
     "name": "stderr",
     "output_type": "stream",
     "text": [
      "INFO:drake:Meshcat listening for connections at http://localhost:7001\n"
     ]
    }
   ],
   "source": [
    "meshcat1 = StartMeshcat()\n",
    "meshcat1.Delete()"
   ]
  },
  {
   "cell_type": "code",
   "execution_count": 6,
   "metadata": {},
   "outputs": [
    {
     "name": "stderr",
     "output_type": "stream",
     "text": [
      "<ipython-input-6-10f4518a046a>:4: DrakeDeprecationWarning: MeshcatVisualizerCpp has been renamed to MeshcatVisualizer. The deprecated code will be removed from Drake on or after 2022-11-01.\n",
      "  visualizer = MeshcatVisualizerCpp.AddToBuilder(builder, scene_graph, meshcat1)\n"
     ]
    }
   ],
   "source": [
    "builder = DiagramBuilder()\n",
    "plant, scene_graph = AddMultibodyPlantSceneGraph(builder, time_step=1e-4)\n",
    "parser = Parser(plant)\n",
    "visualizer = MeshcatVisualizerCpp.AddToBuilder(builder, scene_graph, meshcat1)\n",
    "directives_file = FindResourceOrThrow(\"drake/C_Iris_Examples/7_dof_directives.yaml\") \n",
    "directives = LoadModelDirectives(directives_file)\n",
    "models = ProcessModelDirectives(directives, plant, parser)\n",
    "plant.Finalize()\n",
    "diagram = builder.Build()\n",
    "context = diagram.CreateDefaultContext()\n",
    "plant_context = plant.GetMyContextFromRoot(context)\n",
    "diagram.Publish(context)\n",
    "Ratfk = RationalForwardKinematics(plant)"
   ]
  },
  {
   "cell_type": "code",
   "execution_count": 7,
   "metadata": {},
   "outputs": [],
   "source": [
    "sliders = []\n",
    "for joint_idx in range(1,8):\n",
    "    sliders.append(\n",
    "        widgets.FloatSlider(\n",
    "        min=plant.GetJointByName(f\"iiwa_joint_{joint_idx}\").position_lower_limit(), \n",
    "        max=plant.GetJointByName(f\"iiwa_joint_{joint_idx}\").position_upper_limit(), \n",
    "        value=0, \n",
    "        description=f'iiwa_joint_{joint_idx}'\n",
    "        )\n",
    "    )\n",
    "\n",
    "ik = InverseKinematics(plant, plant_context)\n",
    "collision_constraint = ik.AddMinimumDistanceConstraint(0.001, 0.001)\n",
    "\n",
    "def eval_cons(q, c, tol):\n",
    "    return 1-1*float(c.evaluator().CheckSatisfied(q, tol))\n",
    "    \n",
    "col_func_handle = partial(eval_cons, c=collision_constraint, tol=0.01)\n",
    "col_shunk_col =  Rgba(0.8, 0.0, 0, 1)    \n",
    "col_shunk_free =  Rgba(0.0, 0.8, 0.5, 1)    \n",
    "\n",
    "def showres(q):\n",
    "    for joint_idx in range(1,8):\n",
    "        plant.GetJointByName(f\"iiwa_joint_{joint_idx}\").set_angle(plant_context, q[joint_idx-1])\n",
    "    col = col_func_handle(q)\n",
    "    shunk = plant.get_body(pydrake.multibody.tree.BodyIndex(9))\n",
    "    tf_tot = shunk.EvalPoseInWorld(plant_context)\n",
    "    tf = tf_tot.translation()\n",
    "    \n",
    "   # tf_tot= plant.EvalBodyPoseInWorld(plant_context, plant.get_body(pydrake.multibody.tree.BodyIndex(7)))\n",
    "    #tf = tf_tot.translation() - tf_tot.GetAsMatrix4()[:3,:3][:,1] *0.15\n",
    "    if col:\n",
    "        meshcat1.SetObject(f\"/drake/visualizer/shunk\",\n",
    "                                   Sphere(0.05),\n",
    "                                   col_shunk_col)\n",
    "    else:\n",
    "        meshcat1.SetObject(f\"/drake/visualizer/shunk\",\n",
    "                                   Sphere(0.05),\n",
    "                                   col_shunk_free)\n",
    "    meshcat1.SetTransform(f\"/drake/visualizer/shunk\",\n",
    "                                   RigidTransform(RotationMatrix(),\n",
    "                                                  tf))\n",
    "    diagram.Publish(context)\n",
    "    print(\"              \", end = \"\\r\")\n",
    "    print(col , end = \"\\r\")\n",
    "\n",
    "    \n",
    "def set_joint_angles(vals):\n",
    "    for idx in range(1,8):\n",
    "        plant.GetJointByName(f\"iiwa_joint_{idx}\").set_angle(plant_context, vals[idx-1])\n",
    "    \n",
    "    \n",
    "    \n",
    "q_init = [0.0, 0.0, 0.0, 0.0, 0.0, 0.0, 0.0]\n",
    "# q_start = [-1.37, -1.39, -1.57, -1.19, -1.57, 0.00, 0.00]\n",
    "# q_end = [1.53, -1.19, 1.83, 0.91, -1.27, -0.59, 0.00]\n",
    "q = q_init.copy()\n",
    "def handle_slider_change(change, idx):\n",
    "    q[idx] = change['new']\n",
    "    #print(q, end=\"\\r\")\n",
    "    showres(q)\n",
    "    \n",
    "idx = 0\n",
    "for slider in sliders:\n",
    "    slider.observe(partial(handle_slider_change, idx = idx), names='value')\n",
    "    idx+=1"
   ]
  },
  {
   "cell_type": "code",
   "execution_count": 8,
   "metadata": {},
   "outputs": [],
   "source": [
    "from fractions import Fraction\n",
    "import itertools\n",
    "import colorsys\n",
    "import random\n",
    "def infinite_hues():\n",
    "    yield Fraction(0)\n",
    "    for k in itertools.count():\n",
    "        i = 2**k # zenos_dichotomy\n",
    "        for j in range(1,i,2):\n",
    "            yield Fraction(j,i)\n",
    "\n",
    "def hue_to_hsvs(h: Fraction):\n",
    "    # tweak values to adjust scheme\n",
    "    for s in [Fraction(6,10)]:\n",
    "        for v in [Fraction(6,10), Fraction(9,10)]:\n",
    "            yield (h, s, v)\n",
    "\n",
    "def rgb_to_css(rgb) -> str:\n",
    "    uint8tuple = map(lambda y: int(y*255), rgb)\n",
    "    return tuple(uint8tuple)\n",
    "\n",
    "def n_colors(n=33, rgbs_ret = False):\n",
    "    hues = infinite_hues()\n",
    "    hsvs = itertools.chain.from_iterable(hue_to_hsvs(hue) for hue in hues)\n",
    "    rgbs = (colorsys.hsv_to_rgb(*hsv) for hsv in hsvs)\n",
    "    csss = (rgb_to_css(rgb) for rgb in rgbs)\n",
    "    to_ret = list(itertools.islice(csss, n)) if rgbs_ret else list(itertools.islice(csss, n))\n",
    "    return to_ret\n",
    "\n",
    "def n_colors_random(n=33, rgbs_ret = True):\n",
    "    colors = n_colors(100 * n, rgbs_ret)\n",
    "    return random.sample(colors, n)\n",
    "\n",
    "def plot_points(points, \n",
    "                size = 0.02, \n",
    "                color = Rgba(0.06, 0.0, 0, 1), \n",
    "                start_idx = 0, \n",
    "                prefix = 'point'):\n",
    "       \n",
    "        \n",
    "        for i in range(points.shape[0]):\n",
    "            pt = points[i]\n",
    "            set_joint_angles(pt)\n",
    "            tf_tot= plant.EvalBodyPoseInWorld(plant_context, plant.get_body(pydrake.multibody.tree.BodyIndex(7)))\n",
    "            tf = tf_tot.translation() + tf_tot.GetAsMatrix4()[:3,:3][:,1] *0.15\n",
    "            \n",
    "            meshcat1.SetObject(f\"/iris/points/{prefix}/{i+start_idx}\",\n",
    "                                   Sphere(size),\n",
    "                                   color)\n",
    "            \n",
    "            meshcat1.SetTransform(f\"/iris/points/{prefix}/{i+start_idx}\",\n",
    "                                       RigidTransform(RotationMatrix(),\n",
    "                                                      tf))"
   ]
  },
  {
   "cell_type": "code",
   "execution_count": 9,
   "metadata": {},
   "outputs": [
    {
     "data": {
      "application/vnd.jupyter.widget-view+json": {
       "model_id": "8ade38c0051c492bbd7731f645e58696",
       "version_major": 2,
       "version_minor": 0
      },
      "text/plain": [
       "FloatSlider(value=0.0, description='iiwa_joint_1', max=2.96706, min=-2.96706)"
      ]
     },
     "metadata": {},
     "output_type": "display_data"
    },
    {
     "data": {
      "application/vnd.jupyter.widget-view+json": {
       "model_id": "20014ff54dc043afb9106d3c4bfdbaf2",
       "version_major": 2,
       "version_minor": 0
      },
      "text/plain": [
       "FloatSlider(value=0.0, description='iiwa_joint_2', max=2.0944, min=-2.0944)"
      ]
     },
     "metadata": {},
     "output_type": "display_data"
    },
    {
     "data": {
      "application/vnd.jupyter.widget-view+json": {
       "model_id": "fff48d026bc14ecb9a79c172e31b85af",
       "version_major": 2,
       "version_minor": 0
      },
      "text/plain": [
       "FloatSlider(value=0.0, description='iiwa_joint_3', max=2.96706, min=-2.96706)"
      ]
     },
     "metadata": {},
     "output_type": "display_data"
    },
    {
     "data": {
      "application/vnd.jupyter.widget-view+json": {
       "model_id": "433a452f989140b99b291c2cea8b0669",
       "version_major": 2,
       "version_minor": 0
      },
      "text/plain": [
       "FloatSlider(value=0.0, description='iiwa_joint_4', max=2.0944, min=-2.0944)"
      ]
     },
     "metadata": {},
     "output_type": "display_data"
    },
    {
     "data": {
      "application/vnd.jupyter.widget-view+json": {
       "model_id": "53437ac2215141619d4e47ff283f6f1e",
       "version_major": 2,
       "version_minor": 0
      },
      "text/plain": [
       "FloatSlider(value=0.0, description='iiwa_joint_5', max=2.96706, min=-2.96706)"
      ]
     },
     "metadata": {},
     "output_type": "display_data"
    },
    {
     "data": {
      "application/vnd.jupyter.widget-view+json": {
       "model_id": "6004ac24027147e4b9f544de6d7eb0a4",
       "version_major": 2,
       "version_minor": 0
      },
      "text/plain": [
       "FloatSlider(value=0.0, description='iiwa_joint_6', max=2.0944, min=-2.0944)"
      ]
     },
     "metadata": {},
     "output_type": "display_data"
    },
    {
     "data": {
      "application/vnd.jupyter.widget-view+json": {
       "model_id": "a73782bd09404b9c9adc601848276d25",
       "version_major": 2,
       "version_minor": 0
      },
      "text/plain": [
       "FloatSlider(value=0.0, description='iiwa_joint_7', max=3.05433, min=-3.05433)"
      ]
     },
     "metadata": {},
     "output_type": "display_data"
    }
   ],
   "source": [
    "for slider in sliders:\n",
    "    display(slider)"
   ]
  },
  {
   "cell_type": "code",
   "execution_count": 10,
   "metadata": {},
   "outputs": [],
   "source": [
    "# import time\n",
    "# for idx in range(100):\n",
    "#     q = vs.sample_node_pos(outside_regions=True)\n",
    "#     showres(q)\n",
    "#     time.sleep(0.01)"
   ]
  },
  {
   "cell_type": "code",
   "execution_count": 11,
   "metadata": {},
   "outputs": [
    {
     "name": "stdout",
     "output_type": "stream",
     "text": [
      "{'body': <GeometryId value=73>, 'left_finger': <GeometryId value=79>, 'right_finger': <GeometryId value=85>}\n"
     ]
    }
   ],
   "source": [
    "from pydrake.all import Box, GetVertices\n",
    "query = scene_graph.get_query_output_port().Eval(scene_graph.GetMyContextFromRoot(context))\n",
    "inspector = query.inspector()\n",
    "a = inspector.GetCollisionCandidates()\n",
    "geomids= []\n",
    "for b, c in a:\n",
    "    geomids.append(b)\n",
    "    geomids.append(c)\n",
    "ids = list(set(geomids))\n",
    "frame_id_dict = {}\n",
    "for idx in range(len(ids)):\n",
    "    #print(idx, plant.GetBodyFromFrameId(inspector.GetFrameId(ids[idx])))\n",
    "    if plant.GetBodyFromFrameId(inspector.GetFrameId(ids[idx])).name() =='body':\n",
    "        frame_id_dict['body'] = ids[idx]\n",
    "    if plant.GetBodyFromFrameId(inspector.GetFrameId(ids[idx])).name() =='left_finger':\n",
    "        frame_id_dict['left_finger'] = ids[idx]\n",
    "    if plant.GetBodyFromFrameId(inspector.GetFrameId(ids[idx])).name() =='right_finger':\n",
    "        frame_id_dict['right_finger'] = ids[idx]\n",
    "print(frame_id_dict)\n",
    "geom_ids = [inspector.GetGeometries(inspector.GetFrameId(frame_id_dict[k]))[0] for k in frame_id_dict.keys()]\n",
    "\n",
    "sh_frames = [9,10,11]\n",
    "sh_geom = [inspector.GetShape(id) for id in geom_ids] \n",
    "sh_names = ['box', 'l','r']\n",
    "def plot_endeff_pose(q, name = '', color = Rgba(1,1,0.1,0.8)):\n",
    "    set_joint_angles(q)\n",
    "    tfs = [plant.EvalBodyPoseInWorld(plant_context, plant.get_body(pydrake.multibody.tree.BodyIndex(f))) for f in sh_frames]\n",
    "    for n, f, geom in zip(sh_names, tfs, sh_geom):\n",
    "        meshcat1.SetObject(\"/iris/shunk/\"+name+\"/\"+n,\n",
    "                                geom,\n",
    "                                color)\n",
    "        meshcat1.SetTransform(\"/iris/shunk/\"+name+\"/\"+n, f)"
   ]
  },
  {
   "cell_type": "code",
   "execution_count": 12,
   "metadata": {},
   "outputs": [
    {
     "name": "stdout",
     "output_type": "stream",
     "text": [
      "              \r",
      "0.0\r",
      "True\n",
      "True\n",
      "True\n",
      "True\n",
      "True\n",
      "True\n",
      "True\n",
      "True\n",
      "True\n",
      "True\n",
      "True\n",
      "True\n",
      "True\n",
      "True\n",
      "True\n",
      "True\n",
      "True\n",
      "True\n",
      "True\n",
      "True\n",
      "True\n",
      "True\n",
      "True\n",
      "True\n"
     ]
    }
   ],
   "source": [
    "#problem config\n",
    " \n",
    "start = np.array([1.13294, 1.3056, 0.03294, -1.2944, -1.76706, 1.5056, 0.0])\n",
    "target = np.array([-1.86706, 0.5056, -0.26706, -1.0944, -1.36706, 1.1056, 0.04567])\n",
    "\n",
    "poi = np.array([[1.13294, 1.3056, 0.03294, -1.2944, -1.76706, 1.5056, 0.0],\n",
    "                [-1.96706,  1.3056 ,  0.03294, -1.2944 , -1.76706,  1.5056 ,\n",
    "        0.     ],\n",
    "                [-1.86706, 0.5056, -0.26706, -1.0944, -1.36706, 1.1056, 0.04567],\n",
    "         [-1.26706,  0.9056 ,  0.13294, -1.0944 , -1.66706, -1.1944 ,\n",
    "        0.04567],\n",
    "         [-1.26706,  1.3056 ,  0.13294, -1.0944 , -1.46706, -1.1944 ,\n",
    "        0.04567],\n",
    "         [-1.26706,  1.2056 , -0.16706,  0.1056 , -1.46706, -1.1944 ,\n",
    "        0.04567],\n",
    "         [ 1.13294,  0.8056 ,  0.03294, -1.2944 , -1.76706,  1.5056 ,\n",
    "        0.     ],\n",
    "        [ 1.03294,  0.1056 , -0.06706, -1.5944 , -1.46706,  1.0056 ,\n",
    "       -1.55433],\n",
    "        [-1.76706,  0.9056 , -0.26706, -1.0944 , -1.36706,  1.1056 ,\n",
    "        1.94567],\n",
    "        [ 2.03294,  0.9056 , -0.26706, -1.0944 , -1.16706, -1.2944 ,\n",
    "        -0.45433],\n",
    "        [ 2.23294,  0.6056 , -0.26706, -1.0944 , -1.46706, -1.2944 ,\n",
    "        -0.05433],\n",
    "        [ 1.83294,  1.9056 , -0.16706,  0.2056 , -1.36706, -1.2944 ,\n",
    "        2.71],])\n",
    "       \n",
    "def pull_back_point(pt):\n",
    "    set_joint_angles(pt)\n",
    "    shunk = plant.get_body(pydrake.multibody.tree.BodyIndex(9))\n",
    "    shunk_frame = shunk.body_frame()\n",
    "    world_frame = plant.world_frame() \n",
    "    J = plant.CalcJacobianSpatialVelocity(plant_context, \n",
    "                                          JacobianWrtVariable.kQDot,\n",
    "                                            shunk_frame,\n",
    "                                            [0,0,0],\n",
    "                                            world_frame,\n",
    "                                         world_frame)\n",
    "\n",
    "\n",
    "    #shunk = plant.get_body(pydrake.multibody.tree.BodyIndex(9))\n",
    "    tf_tot = shunk.EvalPoseInWorld(plant_context)\n",
    "    tf = tf_tot.translation()\n",
    "\n",
    "    # tf_tot= plant.EvalBodyPoseInWorld(plant_context, plant.get_body(pydrake.multibody.tree.BodyIndex(7)))\n",
    "    v_pullback = -tf_tot.GetAsMatrix4()[:3,:3][:,1] *0.15\n",
    "    pos_pullback = tf + v_pullback\n",
    "    pt_new = pt + np.linalg.pinv(J[3:,:])@v_pullback\n",
    "    return pt_new\n",
    "\n",
    "helpers = []\n",
    "for p in poi:\n",
    "    ph = pull_back_point(p)\n",
    "    helpers.append(ph)\n",
    "helpers = np.array(helpers)\n",
    "        \n",
    "for i, p in enumerate(poi[:12]):\n",
    "    plot_endeff_pose(p, str(i))\n",
    "    \n",
    "poi = np.concatenate((poi, helpers), axis = 0)\n",
    "\n",
    "showres(target)\n",
    "limits_q =[plant.GetPositionLowerLimits(), plant.GetPositionUpperLimits()]\n",
    "crit_idx = [-1, 0, 2, 4]\n",
    "for idx in crit_idx:\n",
    "    limits_q[0][idx] *=0.90\n",
    "    limits_q[1][idx] *=0.90\n",
    "\n",
    "limits_t = [Ratfk.ComputeTValue(l, np.zeros(len(l))) for l in limits_q]\n",
    "domain = HPolyhedron.MakeBox(limits_t[0], limits_t[1])\n",
    "#poi = [start, target]\n",
    "plot_points(np.array(poi))\n",
    "plot_points(np.array(poi[12:]), color = Rgba(0, 1, 0, 1.0), prefix='helper')\n",
    "for p in poi:\n",
    "    print(domain.PointInSet(Ratfk.ComputeTValue(p, np.zeros(7))))"
   ]
  },
  {
   "cell_type": "code",
   "execution_count": 13,
   "metadata": {},
   "outputs": [
    {
     "name": "stdout",
     "output_type": "stream",
     "text": [
      "              \r",
      "0.0\r"
     ]
    }
   ],
   "source": [
    "pt = poi[0]\n",
    "showres(pt)\n",
    "q = pt"
   ]
  },
  {
   "cell_type": "markdown",
   "metadata": {},
   "source": [
    "# Setup SNOPT IRIS"
   ]
  },
  {
   "cell_type": "code",
   "execution_count": 14,
   "metadata": {},
   "outputs": [],
   "source": [
    "\n",
    "snopt_iris_options = IrisOptionsRationalSpace()\n",
    "snopt_iris_options.require_sample_point_is_contained = True\n",
    "snopt_iris_options.iteration_limit = 15\n",
    "snopt_iris_options.configuration_space_margin = 2e-3\n",
    "snopt_iris_options.max_faces_per_collision_pair = 60\n",
    "snopt_iris_options.termination_threshold = -1\n",
    "snopt_iris_options.q_star = np.zeros(7)\n",
    "snopt_iris_options.relative_termination_threshold = 0.1\n",
    "\n",
    "\n",
    "\n",
    "def SNOPT_IRIS(q_seed,  regions, plant, context, snoptiris_options, default_domain):\n",
    "    #print('snopt iris call')\n",
    "    snoptiris_options.configuration_obstacles = []\n",
    "    if regions is not None:\n",
    "        obstacles = []\n",
    "        for r in regions:\n",
    "            offset = 0.25*np.min(1/np.linalg.eig(r.MaximumVolumeInscribedEllipsoid().A())[0])\n",
    "            rnew = HPolyhedron(r.A(), r.b()-offset)\n",
    "            obstacles.append(rnew)\n",
    "        snopt_iris_options.configuration_obstacles = obstacles\n",
    "    plant.SetPositions(plant.GetMyMutableContextFromRoot(context), q_seed.reshape(-1,1))\n",
    "    t_seed = Ratfk.ComputeTValue(q_seed, np.zeros(7))\n",
    "    r = IrisInRationalConfigurationSpace(plant, plant.GetMyContextFromRoot(context), snoptiris_options, domain)\n",
    "    return r\n",
    "\n",
    "SNOPT_IRIS_Handle = partial(SNOPT_IRIS,\n",
    "                            plant = plant,\n",
    "                            context = context,\n",
    "                            snoptiris_options = snopt_iris_options,\n",
    "                            default_domain = domain)"
   ]
  },
  {
   "cell_type": "markdown",
   "metadata": {},
   "source": [
    "# Construct vis checker (here still sample based)"
   ]
  },
  {
   "cell_type": "code",
   "execution_count": 15,
   "metadata": {},
   "outputs": [],
   "source": [
    "def vis(t1, t2, num_checks, visualizer):\n",
    "    t1flat = t1.reshape(-1)\n",
    "    t2flat = t2.reshape(-1)\n",
    "    if np.linalg.norm(t1-t2) < 1e-6:\n",
    "        return [(1-col_func_handle(Ratfk.ComputeQValue(t1flat, np.zeros(7))))>0,\n",
    "                None]\n",
    "    tvec = np.linspace(0,1, num_checks)\n",
    "    for t in tvec:\n",
    "        tinterp = t1flat*t + (1-t)*t2flat\n",
    "        if col_func_handle(Ratfk.ComputeQValue(tinterp, np.zeros(7))):\n",
    "            return [False, None]\n",
    "    else:\n",
    "        return [True, None]\n",
    "is_LOS = partial(vis, num_checks = 40, visualizer = visualizer)"
   ]
  },
  {
   "cell_type": "markdown",
   "metadata": {},
   "source": [
    "# Fully Decompose Csapce with Visprm"
   ]
  },
  {
   "cell_type": "code",
   "execution_count": null,
   "metadata": {},
   "outputs": [
    {
     "name": "stdout",
     "output_type": "stream",
     "text": [
      "[15:25:46] [VPRMSeeding] Expecting points of interest in q\n",
      "[15:25:46] [VPRMSeeding] GuardInsertion attempts M: 4\n",
      "[15:25:46] [VPRMSeeding] 0.19999999999999996 probability that unseen region is less than 5.0 \"%\" of Cfree \n"
     ]
    }
   ],
   "source": [
    "from visprm import VPRMSeeding\n",
    "import pickle\n",
    "import time \n",
    "\n",
    "np.random.seed(12)\n",
    "t1 = time.time()\n",
    "\n",
    "vs = VPRMSeeding(poi,\n",
    "                 alpha = 0.8,\n",
    "                 limits = limits_q,\n",
    "                 collision_handle = col_func_handle,\n",
    "                 is_in_line_of_sight = is_LOS, \n",
    "                 iris_handle=partial(SNOPT_IRIS_Handle, regions = None),\n",
    "                 iris_handle_with_obstacles = SNOPT_IRIS_Handle,\n",
    "                 point_to_region_conversion = partial(Ratfk.ComputeTValue, q_star_val = np.zeros(7)),\n",
    "                 #ranking_samples_handle = sample_ranking_connected_components_weight\n",
    "                 )\n",
    "vs.set_guard_regions()\n",
    "vs.guard_phase()\n",
    "vs.refine_guards()\n",
    "t2 = time.time()\n",
    "\n",
    "runtime = t2-t1\n",
    "#save checkpoint\n",
    "seed_points = vs.seed_points\n",
    "regions_A = [r.A() for r in vs.regions]\n",
    "regions_b = [r.b() for r in vs.regions]\n",
    "sample_set_points = [s[0] for s in vs.samples_outside_regions.values()]\n",
    "sample_set_vis_regions = [[vs.regions.index(rs) for rs in s[1]] for s in vs.samples_outside_regions.values()]\n",
    "\n",
    "data_checkpoint = {'seedpoints': seed_points, \n",
    "                   'regionsA': regions_A,\n",
    "                   'regionsB': regions_b,\n",
    "                   'sample_set_points': sample_set_points,\n",
    "                   'sample_set_vis_regions':sample_set_vis_regions,\n",
    "                   'guard_regions': vs.guard_regions,\n",
    "                   'runtime': runtime}\n",
    "\n",
    "with open(\"7DOF_VPRMSeeding_total_decomp_guard_phase.pickle\", \"wb\") as f:\n",
    "    pickle.dump(data_checkpoint,f)\n",
    "\n",
    "vs.fill_remaining_space_phase()\n",
    "\n",
    "t3 = time.time()\n",
    "\n",
    "runtime = t3-t1\n",
    "#save checkpoint\n",
    "seed_points = vs.seed_points\n",
    "regions_A = [r.A() for r in vs.regions]\n",
    "regions_b = [r.b() for r in vs.regions]\n",
    "sample_set_points = [s[0] for s in vs.samples_outside_regions.values()]\n",
    "sample_set_vis_regions = [[vs.regions.index(rs) for rs in s[1]] for s in vs.samples_outside_regions.values()]\n",
    "\n",
    "data_checkpoint = {'seedpoints': seed_points, \n",
    "                   'regionsA': regions_A,\n",
    "                   'regionsB': regions_b,\n",
    "                   'sample_set_points': sample_set_points,\n",
    "                   'sample_set_vis_regions':sample_set_vis_regions,\n",
    "                   'guard_regions': vs.guard_regions,\n",
    "                   'runtime': runtime}\n",
    "\n",
    "with open(\"7DOF_VPRMSeeding_total_decomp_final.pickle\", \"wb\") as f:\n",
    "    pickle.dump(data_checkpoint,f)"
   ]
  },
  {
   "cell_type": "markdown",
   "metadata": {},
   "source": [
    "# Fully Decompose Csapce with Randseeding"
   ]
  },
  {
   "cell_type": "code",
   "execution_count": 1,
   "metadata": {},
   "outputs": [
    {
     "ename": "NameError",
     "evalue": "name 'np' is not defined",
     "output_type": "error",
     "traceback": [
      "\u001b[0;31m---------------------------------------------------------------------------\u001b[0m",
      "\u001b[0;31mNameError\u001b[0m                                 Traceback (most recent call last)",
      "\u001b[0;32m<ipython-input-1-d3751f0f62f5>\u001b[0m in \u001b[0;36m<module>\u001b[0;34m\u001b[0m\n\u001b[1;32m      3\u001b[0m \u001b[0;32mimport\u001b[0m \u001b[0mtime\u001b[0m\u001b[0;34m\u001b[0m\u001b[0;34m\u001b[0m\u001b[0m\n\u001b[1;32m      4\u001b[0m \u001b[0;34m\u001b[0m\u001b[0m\n\u001b[0;32m----> 5\u001b[0;31m \u001b[0mnp\u001b[0m\u001b[0;34m.\u001b[0m\u001b[0mrandom\u001b[0m\u001b[0;34m.\u001b[0m\u001b[0mseed\u001b[0m\u001b[0;34m(\u001b[0m\u001b[0;36m12\u001b[0m\u001b[0;34m)\u001b[0m\u001b[0;34m\u001b[0m\u001b[0;34m\u001b[0m\u001b[0m\n\u001b[0m\u001b[1;32m      6\u001b[0m \u001b[0mt1\u001b[0m \u001b[0;34m=\u001b[0m \u001b[0mtime\u001b[0m\u001b[0;34m.\u001b[0m\u001b[0mtime\u001b[0m\u001b[0;34m(\u001b[0m\u001b[0;34m)\u001b[0m\u001b[0;34m\u001b[0m\u001b[0;34m\u001b[0m\u001b[0m\n\u001b[1;32m      7\u001b[0m \u001b[0;34m\u001b[0m\u001b[0m\n",
      "\u001b[0;31mNameError\u001b[0m: name 'np' is not defined"
     ]
    }
   ],
   "source": [
    "from visprm import RandSeeding\n",
    "import pickle\n",
    "import time \n",
    "\n",
    "np.random.seed(12)\n",
    "t1 = time.time()\n",
    "\n",
    "rs = RandSeeding(poi,\n",
    "              alpha = 0.8,\n",
    "              limits = limits_q,\n",
    "              collision_handle = col_func_handle,\n",
    "              iris_handle=partial(SNOPT_IRIS_Handle, regions = None),\n",
    "              iris_handle_with_obstacles = SNOPT_IRIS_Handle,\n",
    "              point_to_region_conversion = partial(Ratfk.ComputeTValue, q_star_val = np.zeros(7))\n",
    "                 )\n",
    "rs.set_init_regions()\n",
    "success = rs.sample_regions_phase()\n",
    "t2 = time.time()\n",
    "\n",
    "runtime = t2-t1\n",
    "#save checkpoint\n",
    "seed_points = rs.seed_points\n",
    "regions_A = [r.A() for r in rs.regions]\n",
    "regions_b = [r.b() for r in rs.regions]\n",
    "\n",
    "data_checkpoint = {'seedpoints': seed_points, \n",
    "                   'regionsA': regions_A,\n",
    "                   'regionsB': regions_b,\n",
    "                   'runtime': runtime}\n",
    "\n",
    "with open(\"7DOF_VPRMSeeding_total_decomp_randseeding.pickle\", \"wb\") as f:\n",
    "    pickle.dump(data_checkpoint,f)"
   ]
  },
  {
   "cell_type": "markdown",
   "metadata": {},
   "source": [
    "# Run Seeding Setup and Guard Phase"
   ]
  },
  {
   "cell_type": "code",
   "execution_count": 15,
   "metadata": {},
   "outputs": [
    {
     "name": "stdout",
     "output_type": "stream",
     "text": [
      "[15:14:27] [VPRMSeeding] Expecting points of interest in q\n",
      "[15:14:27] [VPRMSeeding] GuardInsertion attempts M: 58\n",
      "[15:14:27] [VPRMSeeding] 0.95 probability that unseen region is less than 5.0 \"%\" of Cfree \n",
      "[15:15:10] [VPRMSeeding] Checkpoint loaded successfully, current state is at end of guard phase\n"
     ]
    }
   ],
   "source": [
    "from visprm import sample_ranking_connected_components_weight\n",
    "LOAD_CHECKPOINT = True\n",
    "np.random.seed(12)\n",
    "vs = VPRMSeeding(poi,\n",
    "                 alpha = 0.05,\n",
    "                 limits = limits_q,\n",
    "                 collision_handle = col_func_handle,\n",
    "                 is_in_line_of_sight = is_LOS, \n",
    "                 iris_handle=partial(SNOPT_IRIS_Handle, regions = None),\n",
    "                 iris_handle_with_obstacles = SNOPT_IRIS_Handle,\n",
    "                 point_to_region_conversion = partial(Ratfk.ComputeTValue, q_star_val = np.zeros(7)),\n",
    "                 #ranking_samples_handle = sample_ranking_connected_components_weight\n",
    "                 )\n",
    "if not LOAD_CHECKPOINT:\n",
    "    vs.set_guard_regions()\n",
    "else:\n",
    "    import pickle\n",
    "    path = 'seedingcheckpoints/7DOF_VPRMSeeding_state7.pickle'\n",
    "    with open(path, 'rb') as f:\n",
    "        checkpoint = pickle.load(f)\n",
    "    vs.load_checkpoint(checkpoint)"
   ]
  },
  {
   "cell_type": "code",
   "execution_count": 17,
   "metadata": {},
   "outputs": [
    {
     "name": "stdout",
     "output_type": "stream",
     "text": [
      "done\n"
     ]
    }
   ],
   "source": [
    "if not LOAD_CHECKPOINT:\n",
    "    vs.guard_phase()\n",
    "    vs.refine_guards()\n",
    "    seed_points = vs.seed_points\n",
    "    regions_A = [r.A() for r in vs.regions]\n",
    "    regions_b = [r.b() for r in vs.regions]\n",
    "    sample_set_points = [s[0] for s in vs.samples_outside_regions.values()]\n",
    "    sample_set_vis_regions = [[vs.regions.index(rs) for rs in s[1]] for s in vs.samples_outside_regions.values()]\n",
    "\n",
    "    data_checkpoint = {'seedpoints': seed_points, \n",
    "                       'regionsA': regions_A,\n",
    "                       'regionsB': regions_b,\n",
    "                       'sample_set_points': sample_set_points,\n",
    "                       'sample_set_vis_regions':sample_set_vis_regions}\n",
    "\n",
    "    import pickle\n",
    "    with open(\"7DOF_VPRMSeeding_state8.pickle\", \"wb\") as f:\n",
    "        pickle.dump(data_checkpoint,f)\n",
    "else: \n",
    "    print('done')"
   ]
  },
  {
   "cell_type": "code",
   "execution_count": 18,
   "metadata": {},
   "outputs": [],
   "source": [
    "b = [vs.compute_kernel_of_guard(a) for a in vs.guard_regions]"
   ]
  },
  {
   "cell_type": "code",
   "execution_count": 18,
   "metadata": {},
   "outputs": [],
   "source": [
    "# def point_in_regions(pt, regions): \n",
    "#     for r in regions:\n",
    "#         if r.PointInSet(pt):\n",
    "#             return True\n",
    "#     return False \n",
    "\n",
    "# pir = partial(point_in_regions, regions = vs.regions)\n",
    "\n",
    "# def get_cover_est(N = 1000):\n",
    "#     ntot = 0\n",
    "#     for idx in range(N):\n",
    "#         pt= vs.sample_node_pos(outside_regions=False)\n",
    "#         if pir(pt):\n",
    "#             ntot +=1\n",
    "#     return ntot*1.0/N"
   ]
  },
  {
   "cell_type": "code",
   "execution_count": 19,
   "metadata": {},
   "outputs": [],
   "source": [
    "#get_cover_est()"
   ]
  },
  {
   "cell_type": "code",
   "execution_count": 20,
   "metadata": {},
   "outputs": [],
   "source": [
    "#vs.fill_remaining_space_phase()"
   ]
  },
  {
   "cell_type": "code",
   "execution_count": 21,
   "metadata": {},
   "outputs": [],
   "source": [
    "#np.mean([a.A().shape[0]for a in vs.regions])"
   ]
  },
  {
   "cell_type": "markdown",
   "metadata": {},
   "source": [
    "# Plot Results after Guard Phase"
   ]
  },
  {
   "cell_type": "code",
   "execution_count": 19,
   "metadata": {},
   "outputs": [
    {
     "data": {
      "image/png": "[encoded data removed]",
      "text/plain": [
       "<Figure size 432x288 with 1 Axes>"
      ]
     },
     "metadata": {},
     "output_type": "display_data"
    }
   ],
   "source": [
    "vs.draw_connectivity_graph()\n",
    "sampleset = [v[0] for v in vs.samples_outside_regions.values()]\n",
    "plot_points(np.array(vs.seed_points), prefix = 'guard', color = Rgba(0.06, 0.0, 0.8, 1))\n",
    "plot_points(np.array(sampleset), size=0.01, prefix = 'sampleset', color = Rgba(0.06, 0.8, 0.8, 1))"
   ]
  },
  {
   "cell_type": "markdown",
   "metadata": {},
   "source": [
    "# Connectivity Phase"
   ]
  },
  {
   "cell_type": "code",
   "execution_count": 20,
   "metadata": {},
   "outputs": [
    {
     "name": "stdout",
     "output_type": "stream",
     "text": [
      "[01:29:44] [VPRMSeeding] Num connected Components Vis: 6\n",
      "[01:30:22] [VPRMSeeding] New region added [ 1.1919349  -2.00040104 -0.46439786 -0.71680219  0.45410612  0.69760319\n",
      "  0.12497188]\n",
      "[01:30:22] [VPRMSeeding] Sample set size 492 num keys to del  2\n",
      "[01:30:23] [VPRMSeeding] Num connected Components Vis: 5\n",
      "[01:31:03] [VPRMSeeding] New region added [ 1.46821728 -1.72214101  0.02556264 -0.26787573  1.12944453  0.29856002\n",
      " -0.28047243]\n",
      "[01:31:03] [VPRMSeeding] Sample set size 489 num keys to del  3\n",
      "[01:31:04] [VPRMSeeding] Num connected Components Vis: 4\n",
      "[01:31:41] [VPRMSeeding] New region added [ 1.04227987  0.71035848 -2.5035436  -1.88081817  0.03021535  1.71326287\n",
      "  2.71840218]\n",
      "[01:31:41] [VPRMSeeding] Sample set size 488 num keys to del  1\n",
      "[01:31:42] [VPRMSeeding] Num connected Components Vis: 4\n",
      "[01:32:37] [VPRMSeeding] New region added [ 1.73124841 -1.51898603 -1.38717024  0.03847282  1.94423769  0.98457611\n",
      "  2.30531462]\n",
      "[01:32:37] [VPRMSeeding] Sample set size 487 num keys to del  1\n",
      "[01:32:38] [VPRMSeeding] Num connected Components Vis: 4\n",
      "[01:33:10] [VPRMSeeding] New region added [-1.00792185 -0.37578766  1.21563008  1.8955702   0.12630304 -0.43778857\n",
      " -1.49703293]\n",
      "[01:33:10] [VPRMSeeding] Sample set size 485 num keys to del  2\n",
      "[01:33:11] [VPRMSeeding] Num connected Components Vis: 3\n",
      "[01:33:52] [VPRMSeeding] New region added [ 1.17235143  1.18864873  0.93811807 -0.55813994 -2.06373783  0.11835715\n",
      " -2.31876025]\n",
      "[01:33:52] [VPRMSeeding] Sample set size 482 num keys to del  3\n"
     ]
    },
    {
     "data": {
      "text/plain": [
       "True"
      ]
     },
     "execution_count": 20,
     "metadata": {},
     "output_type": "execute_result"
    }
   ],
   "source": [
    "vs.connectivity_phase() "
   ]
  },
  {
   "cell_type": "code",
   "execution_count": 21,
   "metadata": {},
   "outputs": [
    {
     "data": {
      "image/png": "[encoded data removed]",
      "text/plain": [
       "<Figure size 432x288 with 1 Axes>"
      ]
     },
     "metadata": {},
     "output_type": "display_data"
    }
   ],
   "source": [
    "vs.draw_connectivity_graph()"
   ]
  },
  {
   "cell_type": "code",
   "execution_count": 22,
   "metadata": {},
   "outputs": [],
   "source": [
    "# samps_cnt = 10000\n",
    "# samp_in_regions = 0\n",
    "# for _ in range(samps_cnt):\n",
    "#     q_samp = vs.sample_node_pos(outside_regions=False)\n",
    "#     if vs.point_in_regions(q_samp):\n",
    "#         samp_in_regions += 1\n",
    "# print(samp_in_regions/samps_cnt)"
   ]
  },
  {
   "cell_type": "code",
   "execution_count": 23,
   "metadata": {},
   "outputs": [
    {
     "name": "stdout",
     "output_type": "stream",
     "text": [
      "[DijkstraSPP] Pre-Building adjacency matrix  0 / 122\n",
      "[DijkstraSPP] Pre-Building adjacency matrix  10 / 122\n",
      "[DijkstraSPP] Pre-Building adjacency matrix  20 / 122\n",
      "[DijkstraSPP] Pre-Building adjacency matrix  30 / 122\n",
      "[DijkstraSPP] Pre-Building adjacency matrix  40 / 122\n",
      "[DijkstraSPP] Pre-Building adjacency matrix  50 / 122\n",
      "[DijkstraSPP] Pre-Building adjacency matrix  60 / 122\n",
      "[DijkstraSPP] Pre-Building adjacency matrix  70 / 122\n",
      "[DijkstraSPP] Pre-Building adjacency matrix  80 / 122\n",
      "[DijkstraSPP] Pre-Building adjacency matrix  90 / 122\n",
      "[DijkstraSPP] Pre-Building adjacency matrix  100 / 122\n",
      "[DijkstraSPP] Pre-Building adjacency matrix  110 / 122\n",
      "[DijkstraSPP] Pre-Building adjacency matrix  120 / 122\n",
      "1.3870927270687583\n"
     ]
    }
   ],
   "source": [
    "import dijkstraspp\n",
    "dspp = dijkstraspp.DijkstraSPPsolver(vs.regions, partial(Ratfk.ComputeTValue, q_star_val = np.zeros(7)))\n",
    "path_length_ratio = []\n",
    "dspp.verbose = False\n",
    "for i,pt1 in enumerate(poi[:11]):\n",
    "    for pt2 in poi[i+1:12]:\n",
    "        wp, dist = dspp.solve(pt1, pt2, refine_path = True)\n",
    "        dist_lower = np.linalg.norm( pt1 - pt2)\n",
    "        path_length_ratio.append(dist/dist_lower)\n",
    "print(np.mean(path_length_ratio))"
   ]
  },
  {
   "cell_type": "code",
   "execution_count": 31,
   "metadata": {},
   "outputs": [
    {
     "name": "stdout",
     "output_type": "stream",
     "text": [
      "1.2592774402460198\n"
     ]
    }
   ],
   "source": []
  },
  {
   "cell_type": "code",
   "execution_count": 31,
   "metadata": {},
   "outputs": [
    {
     "data": {
      "text/plain": [
       "4.4544711577995235"
      ]
     },
     "execution_count": 31,
     "metadata": {},
     "output_type": "execute_result"
    }
   ],
   "source": [
    "np.mean(path_lengths)"
   ]
  },
  {
   "cell_type": "code",
   "execution_count": 34,
   "metadata": {},
   "outputs": [
    {
     "name": "stdout",
     "output_type": "stream",
     "text": [
      "0.006727414846420288\n"
     ]
    }
   ],
   "source": [
    "t1 = time.time()\n",
    "for idx in range(1000):\n",
    "    vs.regions[0].ChebyshevCenter()\n",
    "t2 = time.time()\n",
    "print((t2 - t1) / 1000)"
   ]
  },
  {
   "cell_type": "code",
   "execution_count": 35,
   "metadata": {},
   "outputs": [
    {
     "name": "stdout",
     "output_type": "stream",
     "text": [
      "0.08371805047988892\n"
     ]
    }
   ],
   "source": [
    "t1 = time.time()\n",
    "for idx in range(1000):\n",
    "    vs.regions[0].MaximumVolumeInscribedEllipsoid().center()\n",
    "t2 = time.time()\n",
    "print((t2 - t1) / 1000)"
   ]
  },
  {
   "cell_type": "code",
   "execution_count": 15,
   "metadata": {},
   "outputs": [],
   "source": [
    "from pydrake.all import VPolytope\n",
    "cols = n_colors_random(1)\n",
    "colors = []\n",
    "for col in cols:\n",
    "    colors.append(Rgba(*[ci/255 for ci in col], 0.4))\n",
    "for idx_reg, (color,r) in enumerate(zip(colors,vs.regions[-1:])):\n",
    "    verts = VPolytope(r).vertices()\n",
    "    idx_plot = np.random.choice(verts.shape[1], 120)\n",
    "    vert_plot = verts[:, idx_plot]\n",
    "    for idx_vert, v in enumerate(vert_plot.T):\n",
    "        q = Ratfk.ComputeQValue(v, np.zeros(7))\n",
    "        plot_endeff_pose(q, 'r_'+str(idx_reg)+'/'+str(idx_vert), color)"
   ]
  },
  {
   "cell_type": "code",
   "execution_count": 26,
   "metadata": {},
   "outputs": [
    {
     "data": {
      "text/plain": [
       "6"
      ]
     },
     "execution_count": 26,
     "metadata": {},
     "output_type": "execute_result"
    }
   ],
   "source": [
    "len(vs.regions[vs.guard_regions[-1]+1:])\n"
   ]
  },
  {
   "cell_type": "code",
   "execution_count": 14,
   "metadata": {},
   "outputs": [],
   "source": [
    "from pydrake.all import CspaceFreeRegion\n",
    "import pydrake.multibody.rational_forward_kinematics as rational_forward_kinematics"
   ]
  },
  {
   "cell_type": "code",
   "execution_count": 15,
   "metadata": {},
   "outputs": [],
   "source": [
    "region_to_certify = vs.regions[-1]\n",
    "seed_point_cert = vs.seed_points[-1]"
   ]
  },
  {
   "cell_type": "code",
   "execution_count": 16,
   "metadata": {},
   "outputs": [],
   "source": [
    "cfree_cert = CspaceFreeRegion(diagram, \n",
    "                         plant, \n",
    "                         scene_graph, \n",
    "                         rational_forward_kinematics.SeparatingPlaneOrder.kAffine, \n",
    "                         rational_forward_kinematics.CspaceRegionType.kGenericPolytope)\n",
    "\n",
    "filtered_collision_pairs = set()\n",
    "solver_options = mp.SolverOptions()\n",
    "# make the solver verbose\n",
    "solver_options.SetOption(mp.CommonSolverOption.kPrintToConsole, 1)"
   ]
  },
  {
   "cell_type": "code",
   "execution_count": 17,
   "metadata": {},
   "outputs": [],
   "source": [
    "sg_context = scene_graph.GetMyContextFromRoot(context)\n",
    "inspector = scene_graph.model_inspector()\n",
    "\n",
    "pairs = scene_graph.get_query_output_port().Eval(sg_context).inspector().GetCollisionCandidates()\n",
    "\n",
    "gids = [gid for gid in inspector.GetGeometryIds(GeometrySet(inspector.GetAllGeometryIds()), Role.kProximity)]\n",
    "get_name_of_gid = lambda gid : inspector.GetName(gid)\n",
    "gids.sort(key=get_name_of_gid)\n",
    "static_geometry_set =  GeometrySet([gid for gid in gids if \"shelves\" in get_name_of_gid(gid)] + [gid for gid in gids if \"ground\" in get_name_of_gid(gid)] + [gid for gid in gids if \"lid\" in get_name_of_gid(gid)])\n",
    "scene_graph.collision_filter_manager()\\\n",
    "            .Apply(CollisionFilterDeclaration().ExcludeWithin(static_geometry_set))\n",
    "# for i, gid1 in enumerate(gids):\n",
    "#     for gid2 in gids[i+1:]:\n",
    "        \n",
    "# id_pairs_of_interest = [(gid1, gid2) for i, gid1 in enumerate(gids) for gid2 in gids[i+1:]]\n",
    "# #print(id_pairs_of_interest)\n",
    "# len(id_pairs_of_interest)\n",
    "# for i in static_ids:\n",
    "#     print(get_name_of_gid(i))\n",
    "pairs_new = scene_graph.get_query_output_port().Eval(sg_context).inspector().GetCollisionCandidates()"
   ]
  },
  {
   "cell_type": "code",
   "execution_count": 19,
   "metadata": {},
   "outputs": [],
   "source": [
    "binary_search_options = rational_forward_kinematics.BinarySearchOption()\n",
    "binary_search_options.epsilon_max = 1e-3 # it is very unlikely that we can find a uniform expansion of the current region\n",
    "binary_search_options.max_iters = 1\n",
    "# speed up the bisection search by taking non-uniform steps when possible\n",
    "binary_search_options.search_d = True\n",
    "# find the smallest e such that At <= b + e1 still contains our seed point.\n",
    "binary_search_options.epsilon_min = 0#rational_forward_kinematics.FindEpsilonLower(region_to_certify.A(), region_to_certify.b(),\n",
    "#                                                                                  limits_t[0], limits_t[1],\n",
    "#                                                                                  seed_point_cert)\n",
    "binary_search_options.num_threads = 5"
   ]
  },
  {
   "cell_type": "code",
   "execution_count": 20,
   "metadata": {},
   "outputs": [
    {
     "ename": "SystemExit",
     "evalue": "Failure at multibody/rational_forward_kinematics/cspace_free_region.cc:1795 in CspacePolytopeBinarySearch(): condition 'binary_search_option.epsilon_min >= FindEpsilonLower(C, d_init, t_lower, t_upper, t_inner_pts, inner_polytope)' failed.",
     "output_type": "error",
     "traceback": [
      "An exception has occurred, use %tb to see the full traceback.\n",
      "\u001b[0;31mSystemExit\u001b[0m\u001b[0;31m:\u001b[0m Failure at multibody/rational_forward_kinematics/cspace_free_region.cc:1795 in CspacePolytopeBinarySearch(): condition 'binary_search_option.epsilon_min >= FindEpsilonLower(C, d_init, t_lower, t_upper, t_inner_pts, inner_polytope)' failed.\n"
     ]
    },
    {
     "name": "stderr",
     "output_type": "stream",
     "text": [
      "/usr/lib/python3/dist-packages/IPython/core/interactiveshell.py:3339: UserWarning: To exit: use 'exit', 'quit', or Ctrl-D.\n",
      "  warn(\"To exit: use 'exit', 'quit', or Ctrl-D.\", stacklevel=1)\n"
     ]
    }
   ],
   "source": [
    "certified_region_contraction_solution = cfree_cert.CspacePolytopeBinarySearch(np.zeros(7),\n",
    "                                                                 set(),\n",
    "                                                                 region_to_certify.A(),\n",
    "                                                                 region_to_certify.b(),\n",
    "                                                                 binary_search_options, \n",
    "                                                                 solver_options,\n",
    "                                                                 seed_point_cert)\n",
    "certified_region_contraction = HPolyhedron(certified_region_contraction_solution.C,\n",
    "                                           certified_region_contraction_solution.d)"
   ]
  },
  {
   "cell_type": "code",
   "execution_count": 53,
   "metadata": {},
   "outputs": [
    {
     "data": {
      "text/plain": [
       "302"
      ]
     },
     "execution_count": 53,
     "metadata": {},
     "output_type": "execute_result"
    }
   ],
   "source": [
    "len(pairs_new)"
   ]
  },
  {
   "cell_type": "markdown",
   "metadata": {},
   "source": [
    "# Build Configuartion Graph for SPP"
   ]
  },
  {
   "cell_type": "code",
   "execution_count": 45,
   "metadata": {},
   "outputs": [
    {
     "name": "stdout",
     "output_type": "stream",
     "text": [
      "[DijkstraSPP] Pre-Building adjacency matrix  0 / 122\n",
      "[DijkstraSPP] Pre-Building adjacency matrix  10 / 122\n",
      "[DijkstraSPP] Pre-Building adjacency matrix  20 / 122\n",
      "[DijkstraSPP] Pre-Building adjacency matrix  30 / 122\n",
      "[DijkstraSPP] Pre-Building adjacency matrix  40 / 122\n",
      "[DijkstraSPP] Pre-Building adjacency matrix  50 / 122\n",
      "[DijkstraSPP] Pre-Building adjacency matrix  60 / 122\n",
      "[DijkstraSPP] Pre-Building adjacency matrix  70 / 122\n",
      "[DijkstraSPP] Pre-Building adjacency matrix  80 / 122\n",
      "[DijkstraSPP] Pre-Building adjacency matrix  90 / 122\n",
      "[DijkstraSPP] Pre-Building adjacency matrix  100 / 122\n",
      "[DijkstraSPP] Pre-Building adjacency matrix  110 / 122\n",
      "[DijkstraSPP] Pre-Building adjacency matrix  120 / 122\n"
     ]
    }
   ],
   "source": [
    "dspp = DijkstraSPPsolver(vs.regions, partial(Ratfk.ComputeTValue, q_star_val = np.zeros(7)))"
   ]
  },
  {
   "cell_type": "code",
   "execution_count": 1,
   "metadata": {},
   "outputs": [
    {
     "ename": "NameError",
     "evalue": "name 'vs' is not defined",
     "output_type": "error",
     "traceback": [
      "\u001b[0;31m---------------------------------------------------------------------------\u001b[0m",
      "\u001b[0;31mNameError\u001b[0m                                 Traceback (most recent call last)",
      "\u001b[0;32m<ipython-input-1-0bb285544b29>\u001b[0m in \u001b[0;36m<module>\u001b[0;34m\u001b[0m\n\u001b[0;32m----> 1\u001b[0;31m \u001b[0mvs\u001b[0m\u001b[0;34m.\u001b[0m\u001b[0mregions\u001b[0m\u001b[0;34m\u001b[0m\u001b[0;34m\u001b[0m\u001b[0m\n\u001b[0m",
      "\u001b[0;31mNameError\u001b[0m: name 'vs' is not defined"
     ]
    }
   ],
   "source": [
    "vs.regions"
   ]
  },
  {
   "cell_type": "markdown",
   "metadata": {},
   "source": [
    "## Helper functions for animations"
   ]
  },
  {
   "cell_type": "code",
   "execution_count": 24,
   "metadata": {},
   "outputs": [],
   "source": [
    "def densify_waypoints(waypoints_t):\n",
    "    densify = 200\n",
    "    dists = []\n",
    "    dense_waypoints = []\n",
    "    for idx in range(len(waypoints_t[:-1])):\n",
    "        a = waypoints_t[idx]\n",
    "        b = waypoints_t[idx+1]\n",
    "        t = np.linspace(1,0, 10)\n",
    "        locs_endeff = []\n",
    "        dists_endeff = []\n",
    "        for tval in t:\n",
    "            ta = a*tval + b*(1-tval)\n",
    "            qa = Ratfk.ComputeQValue(ta, np.zeros(7))\n",
    "            #showres(qa)\n",
    "            #time.sleep(0.1)            \n",
    "            set_joint_angles(qa)\n",
    "            tf_tot= plant.EvalBodyPoseInWorld(plant_context, plant.get_body(pydrake.multibody.tree.BodyIndex(7)))\n",
    "            tf = tf_tot.translation() + tf_tot.GetAsMatrix4()[:3,:3][:,1] *0.15\n",
    "            locs_endeff.append(tf)\n",
    "        for i in range(len(locs_endeff)-1):\n",
    "            dists_endeff.append(np.linalg.norm(locs_endeff[i]- locs_endeff[i+1]))\n",
    "        d = np.sum(dists_endeff)\n",
    "        #print(d * densify)\n",
    "        t = np.linspace(1,0,int(densify*d))\n",
    "        for tval in t:\n",
    "            dense_waypoints.append(waypoints_t[idx]*tval + waypoints_t[idx+1]*(1-tval))\n",
    "    return dense_waypoints\n",
    "\n",
    "def plot_endeff_traj(dense_waypoints):\n",
    "    color = Rgba(1,0,0,1.0)\n",
    "    start_idx = 0\n",
    "    for i, ta in enumerate(dense_waypoints):\n",
    "        qa = Ratfk.ComputeQValue(ta, np.zeros(7))\n",
    "        #showres(qa)\n",
    "        #time.sleep(0.1)            \n",
    "        set_joint_angles(qa)\n",
    "        tf_tot= plant.EvalBodyPoseInWorld(plant_context, plant.get_body(pydrake.multibody.tree.BodyIndex(7)))\n",
    "        tf = tf_tot.translation() + tf_tot.GetAsMatrix4()[:3,:3][:,1] *0.15\n",
    "\n",
    "        meshcat1.SetObject(f\"/iris/points/traj/{i+start_idx}\",\n",
    "                               Sphere(0.005),\n",
    "                               color)\n",
    "\n",
    "        meshcat1.SetTransform(f\"/iris/points/traj/{i+start_idx}\",\n",
    "                                   RigidTransform(RotationMatrix(),\n",
    "                                                  tf))"
   ]
  },
  {
   "cell_type": "markdown",
   "metadata": {},
   "source": [
    "# Prebuild Adjacency Matrix "
   ]
  },
  {
   "cell_type": "code",
   "execution_count": 42,
   "metadata": {},
   "outputs": [],
   "source": [
    "# base_ad_mat, node_intersections = build_base_adjacency_matrix(vs.regions)\n",
    "# point_conversion = partial(Ratfk.ComputeTValue, q_star_val = np.zeros(7))"
   ]
  },
  {
   "cell_type": "code",
   "execution_count": 26,
   "metadata": {},
   "outputs": [
    {
     "name": "stdout",
     "output_type": "stream",
     "text": [
      "0.0           \r"
     ]
    },
    {
     "ename": "KeyboardInterrupt",
     "evalue": "",
     "output_type": "error",
     "traceback": [
      "\u001b[0;31m---------------------------------------------------------------------------\u001b[0m",
      "\u001b[0;31mKeyboardInterrupt\u001b[0m                         Traceback (most recent call last)",
      "\u001b[0;32m<ipython-input-26-8d3a5b7111c0>\u001b[0m in \u001b[0;36m<module>\u001b[0;34m\u001b[0m\n\u001b[1;32m     34\u001b[0m \u001b[0;34m\u001b[0m\u001b[0m\n\u001b[1;32m     35\u001b[0m                 \u001b[0;31m#break\u001b[0m\u001b[0;34m\u001b[0m\u001b[0;34m\u001b[0m\u001b[0;34m\u001b[0m\u001b[0m\n\u001b[0;32m---> 36\u001b[0;31m             \u001b[0mtime\u001b[0m\u001b[0;34m.\u001b[0m\u001b[0msleep\u001b[0m\u001b[0;34m(\u001b[0m\u001b[0;36m0.012\u001b[0m\u001b[0;34m)\u001b[0m\u001b[0;34m\u001b[0m\u001b[0;34m\u001b[0m\u001b[0m\n\u001b[0m\u001b[1;32m     37\u001b[0m         \u001b[0;31m#if terminate:\u001b[0m\u001b[0;34m\u001b[0m\u001b[0;34m\u001b[0m\u001b[0;34m\u001b[0m\u001b[0m\n\u001b[1;32m     38\u001b[0m         \u001b[0;31m#    break\u001b[0m\u001b[0;34m\u001b[0m\u001b[0;34m\u001b[0m\u001b[0;34m\u001b[0m\u001b[0m\n",
      "\u001b[0;31mKeyboardInterrupt\u001b[0m: "
     ]
    }
   ],
   "source": [
    "import time\n",
    "start = poi[np.random.choice(12,1)[0]]\n",
    "meshcat1.Delete(\"/iris/points/traj/\") \n",
    "terminate = False\n",
    "for _ in range(90):\n",
    "    #vs.sample_in_regions() #\n",
    "    while True:\n",
    "        nxt = poi[np.random.choice(12,1)[0]]\n",
    "        if nxt[0] != start[0]:\n",
    "            break\n",
    "    wp, dist = dspp.solve(start, nxt, refine_path = True)#dijkstra_spp(start, nxt, node_intersections, base_ad_mat, vs.regions, point_conversion)\n",
    "    #print(dist)\n",
    "    if dist >0:\n",
    "        dense_waypoints = densify_waypoints(wp)\n",
    "        plot_endeff_traj(dense_waypoints)\n",
    "        for ta in dense_waypoints:\n",
    "            qa = Ratfk.ComputeQValue(ta, np.zeros(7))\n",
    "            showres(qa)\n",
    "            if col_func_handle(qa):\n",
    "                terminate = True\n",
    "                color = Rgba(1,0,0.1,0.4)\n",
    "   \n",
    "                tf_tot= plant.EvalBodyPoseInWorld(plant_context, plant.get_body(pydrake.multibody.tree.BodyIndex(7)))\n",
    "                tf = tf_tot.translation() + tf_tot.GetAsMatrix4()[:3,:3][:,1] *0.15\n",
    "\n",
    "                meshcat1.SetObject(f\"/iris/points/traj/coll\",\n",
    "                               Sphere(0.1),\n",
    "                               color)\n",
    "\n",
    "                meshcat1.SetTransform(f\"/iris/points/traj/coll\",\n",
    "                                   RigidTransform(RotationMatrix(),\n",
    "                                                  tf))\n",
    "                \n",
    "                \n",
    "                #break\n",
    "            time.sleep(0.012)\n",
    "        #if terminate:\n",
    "        #    break\n",
    "        start = nxt\n",
    "        #time.sleep(0.1)\n",
    "        meshcat1.Delete(\"/iris/points/traj/\")     \n",
    "    else:\n",
    "        nxt = vs.sample_in_regions()"
   ]
  },
  {
   "cell_type": "markdown",
   "metadata": {},
   "source": [
    "# Evaluation"
   ]
  },
  {
   "cell_type": "code",
   "execution_count": 60,
   "metadata": {},
   "outputs": [
    {
     "name": "stdout",
     "output_type": "stream",
     "text": [
      "[16:45:37] [VPRMSeeding] Expecting points of interest in q\n",
      "[16:45:37] [VPRMSeeding] GuardInsertion attempts M: 44\n",
      "[16:45:37] [VPRMSeeding] 0.9 probability that unseen region is less than 5.0 \"%\" of Cfree \n",
      "[16:48:20] [VPRMSeeding] New guard placed N =  24 it =  0\n",
      "[16:48:22] [VPRMSeeding] Sample set size 0\n",
      "[16:48:22] [VPRMSeeding] New guard placed N =  25 it =  1\n",
      "[16:48:23] [VPRMSeeding] Sample set size 0\n",
      "[16:48:23] [VPRMSeeding] New guard placed N =  26 it =  1\n",
      "[16:48:28] [VPRMSeeding] Sample set size 0\n",
      "[16:48:28] [VPRMSeeding] New guard placed N =  27 it =  4\n",
      "[16:48:33] [VPRMSeeding] Sample set size 3\n",
      "[16:48:33] [VPRMSeeding] New guard placed N =  28 it =  1\n",
      "[16:49:00] [VPRMSeeding] Sample set size 3\n",
      "[16:49:00] [VPRMSeeding] New guard placed N =  29 it =  1\n",
      "[16:49:05] [VPRMSeeding] Sample set size 3\n",
      "[16:49:05] [VPRMSeeding] New guard placed N =  30 it =  1\n",
      "[16:49:12] [VPRMSeeding] Sample set size 3\n",
      "[16:49:12] [VPRMSeeding] New guard placed N =  31 it =  2\n",
      "[16:49:33] [VPRMSeeding] Sample set size 4\n",
      "[16:49:34] [VPRMSeeding] New guard placed N =  32 it =  5\n",
      "[16:49:53] [VPRMSeeding] Sample set size 8\n",
      "[16:49:53] [VPRMSeeding] New guard placed N =  33 it =  1\n",
      "[16:50:16] [VPRMSeeding] Sample set size 8\n",
      "[16:50:16] [VPRMSeeding] New guard placed N =  34 it =  2\n",
      "[16:50:43] [VPRMSeeding] Sample set size 9\n",
      "[16:50:43] [VPRMSeeding] New guard placed N =  35 it =  2\n",
      "[16:50:49] [VPRMSeeding] Sample set size 10\n",
      "[16:50:49] [VPRMSeeding] New guard placed N =  36 it =  4\n",
      "[16:50:58] [VPRMSeeding] Sample set size 13\n",
      "[16:50:58] [VPRMSeeding] New guard placed N =  37 it =  2\n",
      "[16:51:04] [VPRMSeeding] Sample set size 14\n",
      "[16:51:04] [VPRMSeeding] New guard placed N =  38 it =  2\n",
      "[16:51:05] [VPRMSeeding] Sample set size 15\n",
      "[16:51:05] [VPRMSeeding] New guard placed N =  39 it =  2\n",
      "[16:51:08] [VPRMSeeding] Sample set size 16\n",
      "[16:51:08] [VPRMSeeding] New guard placed N =  40 it =  1\n",
      "[16:51:29] [VPRMSeeding] Sample set size 16\n",
      "[16:51:29] [VPRMSeeding] New guard placed N =  41 it =  2\n",
      "[16:51:41] [VPRMSeeding] Sample set size 17\n",
      "[16:51:41] [VPRMSeeding] New guard placed N =  42 it =  1\n",
      "[16:52:08] [VPRMSeeding] Sample set size 17\n",
      "[16:52:08] [VPRMSeeding] New guard placed N =  43 it =  3\n",
      "[16:52:18] [VPRMSeeding] Sample set size 19\n",
      "[16:52:18] [VPRMSeeding] New guard placed N =  44 it =  3\n",
      "[16:52:41] [VPRMSeeding] Sample set size 21\n",
      "[16:52:41] [VPRMSeeding] New guard placed N =  45 it =  1\n",
      "[16:53:03] [VPRMSeeding] Sample set size 21\n",
      "[16:53:03] [VPRMSeeding] New guard placed N =  46 it =  2\n",
      "[16:53:10] [VPRMSeeding] Sample set size 22\n",
      "[16:53:10] [VPRMSeeding] New guard placed N =  47 it =  1\n",
      "[16:53:13] [VPRMSeeding] Sample set size 22\n",
      "[16:53:13] [VPRMSeeding] New guard placed N =  48 it =  1\n",
      "[16:53:13] [VPRMSeeding] Sample set size 22\n",
      "[16:53:13] [VPRMSeeding] New guard placed N =  49 it =  1\n",
      "[16:53:24] [VPRMSeeding] Sample set size 22\n",
      "[16:53:25] [VPRMSeeding] New guard placed N =  50 it =  1\n",
      "[16:53:30] [VPRMSeeding] Sample set size 22\n",
      "[16:53:30] [VPRMSeeding] New guard placed N =  51 it =  1\n",
      "[16:53:48] [VPRMSeeding] Sample set size 22\n",
      "[16:53:49] [VPRMSeeding] New guard placed N =  52 it =  3\n",
      "[16:54:06] [VPRMSeeding] Sample set size 24\n",
      "[16:54:06] [VPRMSeeding] New guard placed N =  53 it =  3\n",
      "[16:54:30] [VPRMSeeding] Sample set size 26\n",
      "[16:54:30] [VPRMSeeding] New guard placed N =  54 it =  1\n",
      "[16:54:32] [VPRMSeeding] Sample set size 26\n",
      "[16:54:32] [VPRMSeeding] New guard placed N =  55 it =  3\n",
      "[16:54:38] [VPRMSeeding] Sample set size 28\n",
      "[16:54:39] [VPRMSeeding] New guard placed N =  56 it =  14\n",
      "[16:54:47] [VPRMSeeding] Sample set size 41\n",
      "[16:54:47] [VPRMSeeding] New guard placed N =  57 it =  3\n",
      "[16:54:57] [VPRMSeeding] Sample set size 43\n",
      "[16:54:57] [VPRMSeeding] New guard placed N =  58 it =  4\n",
      "[16:55:03] [VPRMSeeding] Sample set size 46\n",
      "[16:55:04] [VPRMSeeding] New guard placed N =  59 it =  14\n",
      "[16:55:15] [VPRMSeeding] Sample set size 59\n",
      "[16:55:15] [VPRMSeeding] New guard placed N =  60 it =  3\n",
      "[16:55:19] [VPRMSeeding] Sample set size 61\n",
      "[16:55:19] [VPRMSeeding] New guard placed N =  61 it =  5\n",
      "[16:55:21] [VPRMSeeding] Sample set size 65\n",
      "[16:55:21] [VPRMSeeding] New guard placed N =  62 it =  3\n",
      "[16:55:31] [VPRMSeeding] Sample set size 67\n",
      "[16:55:32] [VPRMSeeding] New guard placed N =  63 it =  24\n",
      "[16:55:33] [VPRMSeeding] Sample set size 90\n",
      "[16:55:33] [VPRMSeeding] New guard placed N =  64 it =  2\n",
      "[16:55:41] [VPRMSeeding] Sample set size 91\n",
      "[16:55:41] [VPRMSeeding] New guard placed N =  65 it =  1\n",
      "[16:55:43] [VPRMSeeding] Sample set size 91\n",
      "[16:55:43] [VPRMSeeding] New guard placed N =  66 it =  1\n",
      "[16:55:46] [VPRMSeeding] Sample set size 91\n",
      "[16:55:46] [VPRMSeeding] New guard placed N =  67 it =  16\n",
      "[16:56:14] [VPRMSeeding] Sample set size 106\n",
      "[16:56:14] [VPRMSeeding] New guard placed N =  68 it =  2\n",
      "[16:56:27] [VPRMSeeding] Sample set size 107\n",
      "[16:56:27] [VPRMSeeding] New guard placed N =  69 it =  5\n",
      "[16:56:30] [VPRMSeeding] Sample set size 111\n",
      "[16:56:30] [VPRMSeeding] New guard placed N =  70 it =  8\n",
      "[16:56:47] [VPRMSeeding] Sample set size 118\n",
      "[16:56:48] [VPRMSeeding] New guard placed N =  71 it =  7\n",
      "[16:57:13] [VPRMSeeding] Sample set size 124\n",
      "[16:57:14] [VPRMSeeding] New guard placed N =  72 it =  9\n",
      "[16:57:29] [VPRMSeeding] Sample set size 132\n",
      "[16:57:29] [VPRMSeeding] New guard placed N =  73 it =  2\n",
      "[16:57:33] [VPRMSeeding] Mosek failed, deleting point\n",
      "[16:57:33] [VPRMSeeding] New guard placed N =  73 it =  6\n",
      "[16:57:53] [VPRMSeeding] Sample set size 136\n",
      "[16:57:53] [VPRMSeeding] New guard placed N =  74 it =  1\n",
      "[16:58:14] [VPRMSeeding] Sample set size 136\n",
      "[16:58:14] [VPRMSeeding] New guard placed N =  75 it =  3\n",
      "[16:58:25] [VPRMSeeding] Sample set size 138\n",
      "[16:58:26] [VPRMSeeding] New guard placed N =  76 it =  1\n",
      "[16:58:30] [VPRMSeeding] Sample set size 138\n",
      "[16:58:30] [VPRMSeeding] New guard placed N =  77 it =  5\n",
      "[16:58:40] [VPRMSeeding] Sample set size 142\n",
      "[16:58:40] [VPRMSeeding] New guard placed N =  78 it =  2\n",
      "[16:58:50] [VPRMSeeding] Sample set size 143\n",
      "[16:58:51] [VPRMSeeding] New guard placed N =  79 it =  6\n",
      "[16:59:02] [VPRMSeeding] Sample set size 148\n",
      "[16:59:03] [VPRMSeeding] New guard placed N =  80 it =  18\n",
      "[16:59:20] [VPRMSeeding] Sample set size 165\n",
      "[16:59:21] [VPRMSeeding] New guard placed N =  81 it =  7\n",
      "[16:59:29] [VPRMSeeding] Sample set size 171\n",
      "[16:59:30] [VPRMSeeding] New guard placed N =  82 it =  1\n",
      "[16:59:34] [VPRMSeeding] Sample set size 171\n",
      "[16:59:34] [VPRMSeeding] New guard placed N =  83 it =  3\n",
      "[16:59:37] [VPRMSeeding] Sample set size 173\n",
      "[16:59:37] [VPRMSeeding] New guard placed N =  84 it =  1\n",
      "[16:59:45] [VPRMSeeding] Sample set size 173\n",
      "[16:59:45] [VPRMSeeding] New guard placed N =  85 it =  6\n",
      "[16:59:52] [VPRMSeeding] Sample set size 178\n",
      "[16:59:52] [VPRMSeeding] New guard placed N =  86 it =  2\n",
      "[17:00:03] [VPRMSeeding] Sample set size 179\n",
      "[17:00:03] [VPRMSeeding] New guard placed N =  87 it =  3\n",
      "[17:00:06] [VPRMSeeding] Sample set size 181\n",
      "[17:00:08] [VPRMSeeding] New guard placed N =  88 it =  25\n",
      "[17:00:19] [VPRMSeeding] Sample set size 205\n",
      "[17:00:20] [VPRMSeeding] New guard placed N =  89 it =  15\n",
      "[17:00:22] [VPRMSeeding] Sample set size 219\n",
      "[17:00:23] [VPRMSeeding] New guard placed N =  90 it =  23\n",
      "[17:00:29] [VPRMSeeding] Sample set size 241\n",
      "[17:00:30] [VPRMSeeding] New guard placed N =  91 it =  10\n",
      "[17:00:31] [VPRMSeeding] Sample set size 250\n",
      "[17:01:01] [VPRMSeeding] No guard to split\n",
      "[17:01:28] [VPRMSeeding] Num connected Components Vis: 5\n",
      "[17:01:49] [VPRMSeeding] New region added [-1.64162472  1.38709316 -0.85415677  0.08404906 -1.04959721  1.02974628\n",
      " -1.37188869]\n",
      "[17:01:49] [VPRMSeeding] Sample set size 263 num keys to del  1\n",
      "[17:01:50] [VPRMSeeding] Num connected Components Vis: 4\n",
      "[17:02:04] [VPRMSeeding] New region added [-1.73248782  0.92721367 -2.57909861  1.30246195  1.56966447 -0.01599236\n",
      "  1.95013872]\n",
      "[17:02:04] [VPRMSeeding] Sample set size 262 num keys to del  1\n",
      "[17:02:05] [VPRMSeeding] Num connected Components Vis: 3\n",
      "[17:02:20] [VPRMSeeding] New region added [ 1.41144752 -1.57516369  2.42139461 -0.05307807  1.16233006  1.52223171\n",
      "  1.73288026]\n",
      "[17:02:20] [VPRMSeeding] Sample set size 261 num keys to del  1\n",
      "[17:02:21] [VPRMSeeding] Num connected Components Vis: 3\n",
      "[17:02:35] [VPRMSeeding] New region added [ 2.26079832 -0.10770787 -1.1903303   1.94372002  2.54620135 -0.22442797\n",
      "  2.66605715]\n",
      "[17:02:35] [VPRMSeeding] Sample set size 260 num keys to del  1\n"
     ]
    },
    {
     "name": "stdout",
     "output_type": "stream",
     "text": [
      "[17:02:35] [VPRMSeeding] Num connected Components Vis: 3\n",
      "[17:02:50] [VPRMSeeding] New region added [-1.52071349 -1.1737263   0.46436616  0.83557042  1.68273318  0.55546677\n",
      "  2.40476187]\n",
      "[17:02:50] [VPRMSeeding] Sample set size 259 num keys to del  1\n",
      "[17:02:50] [VPRMSeeding] Num connected Components Vis: 3\n",
      "[17:03:24] [VPRMSeeding] New region added [-0.66878959  0.03136411  2.16890224  1.7094609  -1.83464572  1.13182595\n",
      "  0.35248861]\n",
      "[17:03:24] [VPRMSeeding] Sample set size 257 num keys to del  2\n",
      "[17:03:25] [VPRMSeeding] Num connected Components Vis: 3\n",
      "[17:03:49] [VPRMSeeding] New region added [ 1.10893219 -1.72608083 -2.10715087 -0.42423306 -2.30611518 -0.6616647\n",
      " -0.43637357]\n",
      "[17:03:49] [VPRMSeeding] Sample set size 256 num keys to del  1\n",
      "[17:03:50] [VPRMSeeding] Num connected Components Vis: 3\n",
      "[17:04:34] [VPRMSeeding] New region added [ 1.56555257 -1.02512401 -0.51047667  0.662672    0.52267701 -1.25926478\n",
      "  1.17349781]\n",
      "[17:04:34] [VPRMSeeding] Sample set size 255 num keys to del  1\n",
      "[17:04:35] [VPRMSeeding] Num connected Components Vis: 3\n",
      "[17:05:22] [VPRMSeeding] New region added [-1.62399161  1.42633162 -0.01460537  0.28451455 -1.63643472  0.44828051\n",
      "  2.29918356]\n",
      "[17:05:22] [VPRMSeeding] Sample set size 254 num keys to del  1\n",
      "[17:05:22] [VPRMSeeding] Num connected Components Vis: 3\n",
      "[17:05:59] [VPRMSeeding] New region added [ 2.48282877 -0.05528182  2.13987156 -1.98749709 -0.23530139 -1.13565474\n",
      " -1.6333651 ]\n",
      "[17:05:59] [VPRMSeeding] Sample set size 253 num keys to del  1\n",
      "[17:06:00] [VPRMSeeding] Num connected Components Vis: 3\n",
      "[17:06:25] [VPRMSeeding] New region added [-1.4992302   1.47490439 -1.31143009 -0.31109871  1.77737551 -1.49857547\n",
      " -0.49313238]\n",
      "[17:06:25] [VPRMSeeding] Sample set size 252 num keys to del  1\n",
      "[17:06:25] [VPRMSeeding] Num connected Components Vis: 3\n",
      "[17:06:44] [VPRMSeeding] New region added [-1.39936991 -2.03537729 -0.22354972 -1.07786242  1.12133883  0.59582736\n",
      " -2.36442626]\n",
      "[17:06:44] [VPRMSeeding] Sample set size 250 num keys to del  2\n",
      "[17:06:45] [VPRMSeeding] Num connected Components Vis: 3\n",
      "[17:07:26] [VPRMSeeding] New region added [-1.97773886  1.54040024 -2.09434826  0.56838356 -0.15550725 -0.29076441\n",
      "  1.81961616]\n",
      "[17:07:26] [VPRMSeeding] Sample set size 249 num keys to del  1\n",
      "[17:07:27] [VPRMSeeding] Num connected Components Vis: 2\n",
      "[17:08:01] [VPRMSeeding] New region added [ 0.69062338 -0.15005339 -2.3260039   1.74300479 -2.2278471  -0.45807874\n",
      " -2.05347355]\n",
      "[17:08:01] [VPRMSeeding] Sample set size 247 num keys to del  2\n",
      "[17:08:02] [VPRMSeeding] Num connected Components Vis: 2\n",
      "[17:08:17] [VPRMSeeding] New region added [ 0.30920801  0.08068056  0.76894333 -1.63044979 -0.85399482 -0.49581641\n",
      " -1.39276921]\n",
      "[17:08:17] [VPRMSeeding] Sample set size 246 num keys to del  1\n",
      "[17:08:18] [VPRMSeeding] Num connected Components Vis: 2\n",
      "[17:08:40] [VPRMSeeding] New region added [-0.82021165  0.45141118 -2.30191319  1.50391353 -1.83322645 -0.37099951\n",
      " -1.44076015]\n",
      "[17:08:40] [VPRMSeeding] Sample set size 245 num keys to del  1\n",
      "[17:08:41] [VPRMSeeding] Num connected Components Vis: 2\n",
      "[17:09:20] [VPRMSeeding] New region added [ 0.68104269 -0.55136823 -2.07746302  1.93115399 -0.55169278 -1.45880659\n",
      " -1.71899212]\n",
      "[17:09:20] [VPRMSeeding] Sample set size 244 num keys to del  1\n",
      "[17:09:21] [VPRMSeeding] Num connected Components Vis: 2\n",
      "[17:09:32] [VPRMSeeding] New region added [-1.12142082 -0.03144941  0.13659523  1.95675389  0.51792002  1.58076799\n",
      "  1.7092481 ]\n",
      "[17:09:32] [VPRMSeeding] Sample set size 243 num keys to del  1\n",
      "[17:09:33] [VPRMSeeding] Num connected Components Vis: 2\n",
      "[17:10:10] [VPRMSeeding] New region added [-1.00689587 -0.27334515  2.24224586 -1.74763328 -1.4587335  -0.19007731\n",
      "  0.31308105]\n",
      "[17:10:10] [VPRMSeeding] Sample set size 242 num keys to del  1\n",
      "[DijkstraSPP] Pre-Building adjacency matrix  0 / 111\n",
      "[DijkstraSPP] Pre-Building adjacency matrix  10 / 111\n",
      "[DijkstraSPP] Pre-Building adjacency matrix  20 / 111\n",
      "[DijkstraSPP] Pre-Building adjacency matrix  30 / 111\n",
      "[DijkstraSPP] Pre-Building adjacency matrix  40 / 111\n",
      "[DijkstraSPP] Pre-Building adjacency matrix  50 / 111\n",
      "[DijkstraSPP] Pre-Building adjacency matrix  60 / 111\n",
      "[DijkstraSPP] Pre-Building adjacency matrix  70 / 111\n",
      "[DijkstraSPP] Pre-Building adjacency matrix  80 / 111\n",
      "[DijkstraSPP] Pre-Building adjacency matrix  90 / 111\n",
      "[DijkstraSPP] Pre-Building adjacency matrix  100 / 111\n",
      "2.1768911249688485\n",
      "switch to random seeding\n",
      "[17:12:28] [RandSeeding] Expecting points of interest in q\n",
      "[17:12:28] [RandSeeding] GuardInsertion attempts M: 44\n",
      "[17:12:28] [RandSeeding] 0.9 probability that unseen region is less than 5.0 \"%\" of Cfree \n",
      "[17:15:12] [RandSeeding] New Region placed N =  24 , it =  0\n",
      "[17:15:39] [RandSeeding] New Region placed N =  25 , it =  0\n",
      "[17:16:17] [RandSeeding] New Region placed N =  26 , it =  0\n",
      "[17:16:43] [RandSeeding] New Region placed N =  27 , it =  0\n",
      "[17:17:07] [RandSeeding] New Region placed N =  28 , it =  0\n",
      "[17:17:30] [RandSeeding] New Region placed N =  29 , it =  0\n",
      "[17:17:47] [RandSeeding] New Region placed N =  30 , it =  0\n",
      "[17:18:00] [RandSeeding] New Region placed N =  31 , it =  0\n",
      "[17:18:12] [RandSeeding] New Region placed N =  32 , it =  0\n",
      "[17:18:21] [RandSeeding] New Region placed N =  33 , it =  0\n",
      "[17:18:29] [RandSeeding] New Region placed N =  34 , it =  0\n",
      "[17:18:35] [RandSeeding] New Region placed N =  35 , it =  0\n",
      "[17:19:00] [RandSeeding] New Region placed N =  36 , it =  0\n",
      "[17:19:38] [RandSeeding] New Region placed N =  37 , it =  0\n",
      "[17:19:58] [RandSeeding] New Region placed N =  38 , it =  0\n",
      "[17:20:27] [RandSeeding] New Region placed N =  39 , it =  0\n",
      "[17:20:51] [RandSeeding] New Region placed N =  40 , it =  0\n",
      "[17:21:45] [RandSeeding] New Region placed N =  41 , it =  0\n",
      "[17:22:19] [RandSeeding] New Region placed N =  42 , it =  0\n",
      "[17:22:46] [RandSeeding] New Region placed N =  43 , it =  0\n",
      "[17:23:22] [RandSeeding] New Region placed N =  44 , it =  0\n",
      "[17:23:51] [RandSeeding] New Region placed N =  45 , it =  0\n",
      "[17:24:01] [RandSeeding] New Region placed N =  46 , it =  0\n",
      "[17:24:17] [RandSeeding] New Region placed N =  47 , it =  1\n",
      "[17:24:44] [RandSeeding] New Region placed N =  48 , it =  0\n",
      "[17:24:53] [RandSeeding] New Region placed N =  49 , it =  0\n",
      "[17:25:10] [RandSeeding] New Region placed N =  50 , it =  0\n",
      "[17:25:30] [RandSeeding] New Region placed N =  51 , it =  0\n",
      "[17:25:59] [RandSeeding] New Region placed N =  52 , it =  0\n",
      "[17:26:10] [RandSeeding] New Region placed N =  53 , it =  0\n",
      "[17:26:42] [RandSeeding] New Region placed N =  54 , it =  0\n",
      "[17:27:05] [RandSeeding] New Region placed N =  55 , it =  0\n",
      "[17:27:21] [RandSeeding] New Region placed N =  56 , it =  0\n",
      "[17:27:30] [RandSeeding] New Region placed N =  57 , it =  0\n",
      "[17:27:40] [RandSeeding] New Region placed N =  58 , it =  1\n",
      "[17:28:03] [RandSeeding] New Region placed N =  59 , it =  0\n",
      "[17:28:10] [RandSeeding] New Region placed N =  60 , it =  1\n",
      "[17:28:41] [RandSeeding] New Region placed N =  61 , it =  0\n",
      "[17:28:50] [RandSeeding] New Region placed N =  62 , it =  0\n",
      "[17:29:21] [RandSeeding] New Region placed N =  63 , it =  0\n",
      "[17:29:51] [RandSeeding] New Region placed N =  64 , it =  0\n",
      "[17:30:06] [RandSeeding] New Region placed N =  65 , it =  0\n",
      "[17:30:39] [RandSeeding] New Region placed N =  66 , it =  0\n",
      "[17:30:49] [RandSeeding] New Region placed N =  67 , it =  0\n",
      "[17:31:13] [RandSeeding] New Region placed N =  68 , it =  1\n",
      "[17:31:34] [RandSeeding] New Region placed N =  69 , it =  0\n",
      "[17:31:49] [RandSeeding] New Region placed N =  70 , it =  0\n",
      "[17:32:13] [RandSeeding] New Region placed N =  71 , it =  1\n",
      "[17:32:32] [RandSeeding] New Region placed N =  72 , it =  0\n",
      "[17:32:47] [RandSeeding] New Region placed N =  73 , it =  0\n",
      "[17:33:12] [RandSeeding] New Region placed N =  74 , it =  1\n",
      "[17:33:23] [RandSeeding] New Region placed N =  75 , it =  0\n",
      "[17:33:31] [RandSeeding] New Region placed N =  76 , it =  0\n",
      "[17:33:59] [RandSeeding] New Region placed N =  77 , it =  0\n",
      "[17:34:26] [RandSeeding] New Region placed N =  78 , it =  0\n",
      "[17:35:00] [RandSeeding] New Region placed N =  79 , it =  3\n",
      "[17:35:11] [RandSeeding] Mosek failed, deleting point\n",
      "[17:35:11] [RandSeeding] New Region placed N =  79 , it =  3\n",
      "[17:35:51] [RandSeeding] New Region placed N =  80 , it =  0\n",
      "[17:36:22] [RandSeeding] New Region placed N =  81 , it =  0\n"
     ]
    },
    {
     "name": "stdout",
     "output_type": "stream",
     "text": [
      "[17:36:58] [RandSeeding] New Region placed N =  82 , it =  0\n",
      "[17:37:17] [RandSeeding] New Region placed N =  83 , it =  0\n",
      "[17:37:57] [RandSeeding] New Region placed N =  84 , it =  0\n",
      "[17:38:15] [RandSeeding] New Region placed N =  85 , it =  0\n",
      "[17:38:37] [RandSeeding] New Region placed N =  86 , it =  0\n",
      "[17:39:19] [RandSeeding] New Region placed N =  87 , it =  0\n",
      "[17:39:32] [RandSeeding] New Region placed N =  88 , it =  0\n",
      "[17:40:10] [RandSeeding] New Region placed N =  89 , it =  0\n",
      "[17:40:20] [RandSeeding] New Region placed N =  90 , it =  0\n",
      "[17:40:36] [RandSeeding] New Region placed N =  91 , it =  0\n",
      "[17:40:50] [RandSeeding] New Region placed N =  92 , it =  0\n",
      "[17:41:14] [RandSeeding] New Region placed N =  93 , it =  0\n",
      "[17:41:36] [RandSeeding] New Region placed N =  94 , it =  0\n",
      "[17:41:47] [RandSeeding] New Region placed N =  95 , it =  1\n",
      "[17:42:20] [RandSeeding] New Region placed N =  96 , it =  0\n",
      "[17:42:42] [RandSeeding] New Region placed N =  97 , it =  0\n",
      "[17:43:11] [RandSeeding] New Region placed N =  98 , it =  0\n",
      "[17:43:30] [RandSeeding] New Region placed N =  99 , it =  0\n",
      "[17:43:41] [RandSeeding] New Region placed N =  100 , it =  0\n",
      "[17:44:02] [RandSeeding] New Region placed N =  101 , it =  0\n",
      "[17:44:36] [RandSeeding] New Region placed N =  102 , it =  0\n",
      "[17:45:08] [RandSeeding] New Region placed N =  103 , it =  0\n",
      "[17:45:23] [RandSeeding] New Region placed N =  104 , it =  0\n",
      "[17:45:46] [RandSeeding] New Region placed N =  105 , it =  0\n",
      "[17:46:29] [RandSeeding] New Region placed N =  106 , it =  0\n",
      "[17:46:54] [RandSeeding] New Region placed N =  107 , it =  0\n",
      "[17:47:08] [RandSeeding] New Region placed N =  108 , it =  0\n",
      "[17:47:33] [RandSeeding] New Region placed N =  109 , it =  0\n",
      "[17:48:06] [RandSeeding] New Region placed N =  110 , it =  0\n",
      "[17:48:18] [RandSeeding] New Region placed N =  111 , it =  0\n",
      "[17:48:57] [RandSeeding] New Region placed N =  112 , it =  0\n",
      "[17:49:14] [RandSeeding] New Region placed N =  113 , it =  1\n",
      "[17:49:31] [RandSeeding] New Region placed N =  114 , it =  0\n",
      "[17:50:01] [RandSeeding] New Region placed N =  115 , it =  0\n",
      "[17:50:33] [RandSeeding] New Region placed N =  116 , it =  0\n",
      "[17:50:56] [RandSeeding] New Region placed N =  117 , it =  0\n",
      "[17:51:27] [RandSeeding] New Region placed N =  118 , it =  0\n",
      "[17:51:58] [RandSeeding] New Region placed N =  119 , it =  0\n",
      "[17:52:32] [RandSeeding] New Region placed N =  120 , it =  1\n",
      "[17:52:45] [RandSeeding] New Region placed N =  121 , it =  1\n",
      "[17:53:10] [RandSeeding] New Region placed N =  122 , it =  0\n",
      "[17:53:31] [RandSeeding] New Region placed N =  123 , it =  0\n",
      "[17:54:12] [RandSeeding] New Region placed N =  124 , it =  0\n",
      "[17:54:42] [RandSeeding] New Region placed N =  125 , it =  1\n",
      "[17:55:15] [RandSeeding] New Region placed N =  126 , it =  0\n",
      "[17:55:33] [RandSeeding] New Region placed N =  127 , it =  0\n",
      "[17:56:00] [RandSeeding] New Region placed N =  128 , it =  0\n",
      "[17:56:18] [RandSeeding] New Region placed N =  129 , it =  3\n",
      "[17:56:55] [RandSeeding] New Region placed N =  130 , it =  0\n",
      "[17:57:21] [RandSeeding] New Region placed N =  131 , it =  0\n",
      "[17:57:39] [RandSeeding] New Region placed N =  132 , it =  0\n",
      "[17:58:14] [RandSeeding] New Region placed N =  133 , it =  0\n",
      "[17:58:52] [RandSeeding] New Region placed N =  134 , it =  0\n",
      "[17:59:28] [RandSeeding] New Region placed N =  135 , it =  0\n",
      "[17:59:55] [RandSeeding] New Region placed N =  136 , it =  1\n",
      "[18:00:13] [RandSeeding] Mosek failed, deleting point\n",
      "[18:00:13] [RandSeeding] New Region placed N =  136 , it =  1\n",
      "[18:00:40] [RandSeeding] New Region placed N =  137 , it =  0\n",
      "[18:01:12] [RandSeeding] New Region placed N =  138 , it =  0\n",
      "[18:01:49] [RandSeeding] New Region placed N =  139 , it =  0\n",
      "[18:02:05] [RandSeeding] New Region placed N =  140 , it =  0\n",
      "[18:02:41] [RandSeeding] New Region placed N =  141 , it =  1\n",
      "[18:03:17] [RandSeeding] New Region placed N =  142 , it =  0\n",
      "[18:03:41] [RandSeeding] New Region placed N =  143 , it =  1\n",
      "[18:03:57] [RandSeeding] New Region placed N =  144 , it =  0\n",
      "[18:04:12] [RandSeeding] New Region placed N =  145 , it =  0\n",
      "[18:04:33] [RandSeeding] New Region placed N =  146 , it =  0\n",
      "[18:05:00] [RandSeeding] New Region placed N =  147 , it =  0\n",
      "[18:05:20] [RandSeeding] New Region placed N =  148 , it =  0\n",
      "[18:05:37] [RandSeeding] New Region placed N =  149 , it =  0\n",
      "[18:06:01] [RandSeeding] New Region placed N =  150 , it =  0\n",
      "[18:06:17] [RandSeeding] New Region placed N =  151 , it =  1\n",
      "[18:06:47] [RandSeeding] New Region placed N =  152 , it =  0\n",
      "[18:07:26] [RandSeeding] New Region placed N =  153 , it =  0\n",
      "[18:07:47] [RandSeeding] New Region placed N =  154 , it =  0\n",
      "[18:08:08] [RandSeeding] New Region placed N =  155 , it =  0\n",
      "[18:08:54] [RandSeeding] New Region placed N =  156 , it =  0\n",
      "[18:09:19] [RandSeeding] New Region placed N =  157 , it =  0\n",
      "[18:09:49] [RandSeeding] New Region placed N =  158 , it =  1\n",
      "[18:10:22] [RandSeeding] New Region placed N =  159 , it =  0\n",
      "[18:10:50] [RandSeeding] New Region placed N =  160 , it =  0\n",
      "[18:11:28] [RandSeeding] New Region placed N =  161 , it =  0\n",
      "[18:12:01] [RandSeeding] New Region placed N =  162 , it =  0\n",
      "[18:12:51] [RandSeeding] New Region placed N =  163 , it =  0\n",
      "[18:13:42] [RandSeeding] New Region placed N =  164 , it =  0\n",
      "[18:14:28] [RandSeeding] New Region placed N =  165 , it =  0\n",
      "[18:15:08] [RandSeeding] New Region placed N =  166 , it =  1\n",
      "[18:15:35] [RandSeeding] New Region placed N =  167 , it =  0\n",
      "[18:15:55] [RandSeeding] New Region placed N =  168 , it =  0\n",
      "[18:16:13] [RandSeeding] New Region placed N =  169 , it =  0\n",
      "[18:17:28] [RandSeeding] New Region placed N =  170 , it =  0\n",
      "[18:17:59] [RandSeeding] New Region placed N =  171 , it =  0\n",
      "[18:18:20] [RandSeeding] New Region placed N =  172 , it =  0\n",
      "[18:18:56] [RandSeeding] New Region placed N =  173 , it =  0\n",
      "[18:19:50] [RandSeeding] New Region placed N =  174 , it =  0\n",
      "[18:20:25] [RandSeeding] New Region placed N =  175 , it =  0\n",
      "[18:21:01] [RandSeeding] New Region placed N =  176 , it =  0\n",
      "[18:21:20] [RandSeeding] New Region placed N =  177 , it =  0\n",
      "[18:22:05] [RandSeeding] New Region placed N =  178 , it =  0\n",
      "[18:22:24] [RandSeeding] New Region placed N =  179 , it =  0\n",
      "[18:23:19] [RandSeeding] New Region placed N =  180 , it =  0\n",
      "[18:23:46] [RandSeeding] New Region placed N =  181 , it =  0\n",
      "[18:24:25] [RandSeeding] New Region placed N =  182 , it =  1\n",
      "[18:25:13] [RandSeeding] New Region placed N =  183 , it =  0\n",
      "[18:26:03] [RandSeeding] New Region placed N =  184 , it =  0\n",
      "[18:26:38] [RandSeeding] New Region placed N =  185 , it =  0\n",
      "[18:27:17] [RandSeeding] New Region placed N =  186 , it =  0\n",
      "[18:27:51] [RandSeeding] New Region placed N =  187 , it =  0\n",
      "[18:28:29] [RandSeeding] New Region placed N =  188 , it =  0\n",
      "[18:28:53] [RandSeeding] New Region placed N =  189 , it =  1\n",
      "[18:29:27] [RandSeeding] New Region placed N =  190 , it =  0\n",
      "[18:29:52] [RandSeeding] New Region placed N =  191 , it =  0\n",
      "[18:30:24] [RandSeeding] New Region placed N =  192 , it =  0\n",
      "[18:30:53] [RandSeeding] New Region placed N =  193 , it =  0\n",
      "[18:31:40] [RandSeeding] New Region placed N =  194 , it =  0\n",
      "[18:32:01] [RandSeeding] New Region placed N =  195 , it =  0\n",
      "[18:32:53] [RandSeeding] New Region placed N =  196 , it =  1\n",
      "[18:33:42] [RandSeeding] New Region placed N =  197 , it =  0\n",
      "[18:35:08] [RandSeeding] New Region placed N =  198 , it =  0\n",
      "[18:35:48] [RandSeeding] New Region placed N =  199 , it =  1\n",
      "[18:36:23] [RandSeeding] New Region placed N =  200 , it =  0\n",
      "[18:36:45] [RandSeeding] New Region placed N =  201 , it =  0\n",
      "[18:37:21] [RandSeeding] New Region placed N =  202 , it =  1\n",
      "[18:38:11] [RandSeeding] New Region placed N =  203 , it =  0\n",
      "[18:38:56] [RandSeeding] New Region placed N =  204 , it =  0\n",
      "[18:39:38] [RandSeeding] New Region placed N =  205 , it =  0\n",
      "[18:40:09] [RandSeeding] New Region placed N =  206 , it =  1\n",
      "[18:40:41] [RandSeeding] New Region placed N =  207 , it =  0\n",
      "[18:41:23] [RandSeeding] New Region placed N =  208 , it =  0\n",
      "[18:41:55] [RandSeeding] New Region placed N =  209 , it =  0\n",
      "[18:42:39] [RandSeeding] New Region placed N =  210 , it =  1\n",
      "[18:43:12] [RandSeeding] New Region placed N =  211 , it =  0\n",
      "[18:43:57] [RandSeeding] New Region placed N =  212 , it =  0\n"
     ]
    },
    {
     "name": "stdout",
     "output_type": "stream",
     "text": [
      "[18:44:37] [RandSeeding] New Region placed N =  213 , it =  0\n",
      "[18:45:28] [RandSeeding] New Region placed N =  214 , it =  0\n",
      "[18:45:50] [RandSeeding] Mosek failed, deleting point\n",
      "[18:45:50] [RandSeeding] New Region placed N =  214 , it =  0\n",
      "[18:46:50] [RandSeeding] New Region placed N =  215 , it =  0\n",
      "[18:47:14] [RandSeeding] New Region placed N =  216 , it =  0\n",
      "[18:47:53] [RandSeeding] New Region placed N =  217 , it =  0\n",
      "[18:48:21] [RandSeeding] New Region placed N =  218 , it =  0\n",
      "[18:48:49] [RandSeeding] New Region placed N =  219 , it =  0\n",
      "[18:49:23] [RandSeeding] New Region placed N =  220 , it =  1\n",
      "[18:50:08] [RandSeeding] New Region placed N =  221 , it =  0\n",
      "[18:50:37] [RandSeeding] New Region placed N =  222 , it =  0\n",
      "[18:51:37] [RandSeeding] New Region placed N =  223 , it =  1\n",
      "[18:52:02] [RandSeeding] New Region placed N =  224 , it =  0\n",
      "[18:52:33] [RandSeeding] Mosek failed, deleting point\n",
      "[18:52:33] [RandSeeding] New Region placed N =  224 , it =  0\n",
      "[18:53:03] [RandSeeding] New Region placed N =  225 , it =  1\n",
      "[18:54:06] [RandSeeding] New Region placed N =  226 , it =  0\n",
      "[18:54:56] [RandSeeding] New Region placed N =  227 , it =  0\n",
      "[18:55:38] [RandSeeding] New Region placed N =  228 , it =  0\n",
      "[18:56:22] [RandSeeding] New Region placed N =  229 , it =  0\n",
      "[18:56:51] [RandSeeding] New Region placed N =  230 , it =  0\n",
      "[18:57:59] [RandSeeding] New Region placed N =  231 , it =  0\n",
      "[18:58:49] [RandSeeding] New Region placed N =  232 , it =  0\n",
      "[18:59:14] [RandSeeding] New Region placed N =  233 , it =  0\n",
      "[18:59:47] [RandSeeding] New Region placed N =  234 , it =  0\n",
      "[19:00:30] [RandSeeding] New Region placed N =  235 , it =  0\n",
      "[19:01:13] [RandSeeding] New Region placed N =  236 , it =  1\n",
      "[19:02:21] [RandSeeding] New Region placed N =  237 , it =  0\n",
      "[19:03:10] [RandSeeding] New Region placed N =  238 , it =  1\n",
      "[19:04:12] [RandSeeding] New Region placed N =  239 , it =  0\n",
      "[19:04:55] [RandSeeding] New Region placed N =  240 , it =  1\n",
      "[19:05:25] [RandSeeding] New Region placed N =  241 , it =  0\n",
      "[19:05:52] [RandSeeding] New Region placed N =  242 , it =  0\n",
      "[19:06:54] [RandSeeding] New Region placed N =  243 , it =  0\n",
      "[19:07:43] [RandSeeding] New Region placed N =  244 , it =  0\n",
      "[19:08:31] [RandSeeding] New Region placed N =  245 , it =  0\n",
      "[19:09:11] [RandSeeding] New Region placed N =  246 , it =  1\n",
      "[19:10:25] [RandSeeding] New Region placed N =  247 , it =  0\n",
      "[19:11:38] [RandSeeding] New Region placed N =  248 , it =  0\n",
      "[19:12:17] [RandSeeding] New Region placed N =  249 , it =  0\n",
      "[19:13:05] [RandSeeding] New Region placed N =  250 , it =  1\n",
      "[19:13:31] [RandSeeding] New Region placed N =  251 , it =  0\n",
      "[19:14:32] [RandSeeding] New Region placed N =  252 , it =  0\n",
      "[19:15:20] [RandSeeding] New Region placed N =  253 , it =  0\n",
      "[19:15:47] [RandSeeding] New Region placed N =  254 , it =  0\n",
      "[19:16:18] [RandSeeding] New Region placed N =  255 , it =  0\n",
      "[19:16:55] [RandSeeding] New Region placed N =  256 , it =  0\n",
      "[19:17:20] [RandSeeding] Mosek failed, deleting point\n",
      "[19:17:20] [RandSeeding] New Region placed N =  256 , it =  0\n",
      "[19:18:32] [RandSeeding] New Region placed N =  257 , it =  1\n",
      "[19:19:38] [RandSeeding] New Region placed N =  258 , it =  0\n",
      "[19:20:23] [RandSeeding] New Region placed N =  259 , it =  0\n",
      "[19:21:23] [RandSeeding] New Region placed N =  260 , it =  0\n",
      "[19:22:02] [RandSeeding] New Region placed N =  261 , it =  0\n",
      "[19:22:45] [RandSeeding] New Region placed N =  262 , it =  0\n",
      "[19:23:18] [RandSeeding] New Region placed N =  263 , it =  1\n",
      "[19:24:08] [RandSeeding] New Region placed N =  264 , it =  0\n",
      "[19:24:47] [RandSeeding] New Region placed N =  265 , it =  0\n",
      "[19:25:53] [RandSeeding] New Region placed N =  266 , it =  0\n",
      "[19:26:21] [RandSeeding] New Region placed N =  267 , it =  0\n",
      "[19:27:42] [RandSeeding] New Region placed N =  268 , it =  0\n",
      "[19:28:22] [RandSeeding] New Region placed N =  269 , it =  1\n",
      "[19:29:14] [RandSeeding] New Region placed N =  270 , it =  0\n",
      "[19:30:07] [RandSeeding] New Region placed N =  271 , it =  0\n",
      "[19:30:35] [RandSeeding] New Region placed N =  272 , it =  0\n",
      "[DijkstraSPP] Pre-Building adjacency matrix  0 / 273\n",
      "[DijkstraSPP] Pre-Building adjacency matrix  10 / 273\n",
      "[DijkstraSPP] Pre-Building adjacency matrix  20 / 273\n",
      "[DijkstraSPP] Pre-Building adjacency matrix  30 / 273\n",
      "[DijkstraSPP] Pre-Building adjacency matrix  40 / 273\n",
      "[DijkstraSPP] Pre-Building adjacency matrix  50 / 273\n",
      "[DijkstraSPP] Pre-Building adjacency matrix  60 / 273\n",
      "[DijkstraSPP] Pre-Building adjacency matrix  70 / 273\n",
      "[DijkstraSPP] Pre-Building adjacency matrix  80 / 273\n",
      "[DijkstraSPP] Pre-Building adjacency matrix  90 / 273\n",
      "[DijkstraSPP] Pre-Building adjacency matrix  100 / 273\n",
      "[DijkstraSPP] Pre-Building adjacency matrix  110 / 273\n",
      "[DijkstraSPP] Pre-Building adjacency matrix  120 / 273\n",
      "[DijkstraSPP] Pre-Building adjacency matrix  130 / 273\n",
      "[DijkstraSPP] Pre-Building adjacency matrix  140 / 273\n",
      "[DijkstraSPP] Pre-Building adjacency matrix  150 / 273\n",
      "[DijkstraSPP] Pre-Building adjacency matrix  160 / 273\n",
      "[DijkstraSPP] Pre-Building adjacency matrix  170 / 273\n",
      "[DijkstraSPP] Pre-Building adjacency matrix  180 / 273\n",
      "[DijkstraSPP] Pre-Building adjacency matrix  190 / 273\n",
      "[DijkstraSPP] Pre-Building adjacency matrix  200 / 273\n",
      "[DijkstraSPP] Pre-Building adjacency matrix  210 / 273\n",
      "[DijkstraSPP] Pre-Building adjacency matrix  220 / 273\n",
      "[DijkstraSPP] Pre-Building adjacency matrix  230 / 273\n",
      "[DijkstraSPP] Pre-Building adjacency matrix  240 / 273\n",
      "[DijkstraSPP] Pre-Building adjacency matrix  250 / 273\n",
      "[DijkstraSPP] Pre-Building adjacency matrix  260 / 273\n",
      "[DijkstraSPP] Pre-Building adjacency matrix  270 / 273\n",
      "[19:37:20] [VPRMSeeding] Expecting points of interest in q\n",
      "[19:37:20] [VPRMSeeding] GuardInsertion attempts M: 44\n",
      "[19:37:20] [VPRMSeeding] 0.9 probability that unseen region is less than 5.0 \"%\" of Cfree \n"
     ]
    },
    {
     "ename": "KeyboardInterrupt",
     "evalue": "",
     "output_type": "error",
     "traceback": [
      "\u001b[0;31m---------------------------------------------------------------------------\u001b[0m",
      "\u001b[0;31mKeyboardInterrupt\u001b[0m                         Traceback (most recent call last)",
      "\u001b[0;32m<ipython-input-60-e739f96ac25c>\u001b[0m in \u001b[0;36m<module>\u001b[0;34m\u001b[0m\n\u001b[1;32m     18\u001b[0m                      \u001b[0mpoint_to_region_conversion\u001b[0m \u001b[0;34m=\u001b[0m \u001b[0mpartial\u001b[0m\u001b[0;34m(\u001b[0m\u001b[0mRatfk\u001b[0m\u001b[0;34m.\u001b[0m\u001b[0mComputeTValue\u001b[0m\u001b[0;34m,\u001b[0m \u001b[0mq_star_val\u001b[0m \u001b[0;34m=\u001b[0m \u001b[0mnp\u001b[0m\u001b[0;34m.\u001b[0m\u001b[0mzeros\u001b[0m\u001b[0;34m(\u001b[0m\u001b[0;36m7\u001b[0m\u001b[0;34m)\u001b[0m\u001b[0;34m)\u001b[0m\u001b[0;34m\u001b[0m\u001b[0;34m\u001b[0m\u001b[0m\n\u001b[1;32m     19\u001b[0m                      )\n\u001b[0;32m---> 20\u001b[0;31m         \u001b[0mvs2\u001b[0m\u001b[0;34m.\u001b[0m\u001b[0mset_guard_regions\u001b[0m\u001b[0;34m(\u001b[0m\u001b[0;34m)\u001b[0m\u001b[0;34m\u001b[0m\u001b[0;34m\u001b[0m\u001b[0m\n\u001b[0m\u001b[1;32m     21\u001b[0m         \u001b[0mvs2\u001b[0m\u001b[0;34m.\u001b[0m\u001b[0mguard_phase\u001b[0m\u001b[0;34m(\u001b[0m\u001b[0;34m)\u001b[0m\u001b[0;34m\u001b[0m\u001b[0;34m\u001b[0m\u001b[0m\n\u001b[1;32m     22\u001b[0m         \u001b[0mvs2\u001b[0m\u001b[0;34m.\u001b[0m\u001b[0mrefine_guards\u001b[0m\u001b[0;34m(\u001b[0m\u001b[0;34m)\u001b[0m\u001b[0;34m\u001b[0m\u001b[0;34m\u001b[0m\u001b[0m\n",
      "\u001b[0;32m~/git/vprmintegration/drake/C_Iris_Examples/visprm.py\u001b[0m in \u001b[0;36mset_guard_regions\u001b[0;34m(self, regions)\u001b[0m\n\u001b[1;32m    365\u001b[0m         \u001b[0;32mif\u001b[0m \u001b[0mregions\u001b[0m \u001b[0;32mis\u001b[0m \u001b[0;32mNone\u001b[0m\u001b[0;34m:\u001b[0m\u001b[0;34m\u001b[0m\u001b[0;34m\u001b[0m\u001b[0m\n\u001b[1;32m    366\u001b[0m             \u001b[0;32mif\u001b[0m \u001b[0mlen\u001b[0m\u001b[0;34m(\u001b[0m\u001b[0mself\u001b[0m\u001b[0;34m.\u001b[0m\u001b[0mguard_regions\u001b[0m\u001b[0;34m)\u001b[0m\u001b[0;34m==\u001b[0m\u001b[0;36m0\u001b[0m\u001b[0;34m:\u001b[0m\u001b[0;34m\u001b[0m\u001b[0;34m\u001b[0m\u001b[0m\n\u001b[0;32m--> 367\u001b[0;31m                 \u001b[0mself\u001b[0m\u001b[0;34m.\u001b[0m\u001b[0mregions\u001b[0m \u001b[0;34m=\u001b[0m \u001b[0;34m[\u001b[0m\u001b[0mself\u001b[0m\u001b[0;34m.\u001b[0m\u001b[0mgrow_region_at\u001b[0m\u001b[0;34m(\u001b[0m\u001b[0mr\u001b[0m\u001b[0;34m)\u001b[0m \u001b[0;32mfor\u001b[0m \u001b[0mr\u001b[0m \u001b[0;32min\u001b[0m \u001b[0mself\u001b[0m\u001b[0;34m.\u001b[0m\u001b[0msamples_to_connect\u001b[0m\u001b[0;34m]\u001b[0m\u001b[0;34m\u001b[0m\u001b[0;34m\u001b[0m\u001b[0m\n\u001b[0m\u001b[1;32m    368\u001b[0m                 \u001b[0mself\u001b[0m\u001b[0;34m.\u001b[0m\u001b[0mseed_points\u001b[0m \u001b[0;34m=\u001b[0m \u001b[0;34m[\u001b[0m\u001b[0ms\u001b[0m \u001b[0;32mfor\u001b[0m \u001b[0ms\u001b[0m \u001b[0;32min\u001b[0m \u001b[0mself\u001b[0m\u001b[0;34m.\u001b[0m\u001b[0msamples_to_connect\u001b[0m\u001b[0;34m]\u001b[0m\u001b[0;34m\u001b[0m\u001b[0;34m\u001b[0m\u001b[0m\n\u001b[1;32m    369\u001b[0m                 \u001b[0;32mfor\u001b[0m \u001b[0midx\u001b[0m \u001b[0;32min\u001b[0m \u001b[0mrange\u001b[0m\u001b[0;34m(\u001b[0m\u001b[0mlen\u001b[0m\u001b[0;34m(\u001b[0m\u001b[0mself\u001b[0m\u001b[0;34m.\u001b[0m\u001b[0mregions\u001b[0m\u001b[0;34m)\u001b[0m\u001b[0;34m)\u001b[0m\u001b[0;34m:\u001b[0m \u001b[0mself\u001b[0m\u001b[0;34m.\u001b[0m\u001b[0mguard_regions\u001b[0m\u001b[0;34m.\u001b[0m\u001b[0mappend\u001b[0m\u001b[0;34m(\u001b[0m\u001b[0midx\u001b[0m\u001b[0;34m)\u001b[0m\u001b[0;34m\u001b[0m\u001b[0;34m\u001b[0m\u001b[0m\n",
      "\u001b[0;32m~/git/vprmintegration/drake/C_Iris_Examples/visprm.py\u001b[0m in \u001b[0;36m<listcomp>\u001b[0;34m(.0)\u001b[0m\n\u001b[1;32m    365\u001b[0m         \u001b[0;32mif\u001b[0m \u001b[0mregions\u001b[0m \u001b[0;32mis\u001b[0m \u001b[0;32mNone\u001b[0m\u001b[0;34m:\u001b[0m\u001b[0;34m\u001b[0m\u001b[0;34m\u001b[0m\u001b[0m\n\u001b[1;32m    366\u001b[0m             \u001b[0;32mif\u001b[0m \u001b[0mlen\u001b[0m\u001b[0;34m(\u001b[0m\u001b[0mself\u001b[0m\u001b[0;34m.\u001b[0m\u001b[0mguard_regions\u001b[0m\u001b[0;34m)\u001b[0m\u001b[0;34m==\u001b[0m\u001b[0;36m0\u001b[0m\u001b[0;34m:\u001b[0m\u001b[0;34m\u001b[0m\u001b[0;34m\u001b[0m\u001b[0m\n\u001b[0;32m--> 367\u001b[0;31m                 \u001b[0mself\u001b[0m\u001b[0;34m.\u001b[0m\u001b[0mregions\u001b[0m \u001b[0;34m=\u001b[0m \u001b[0;34m[\u001b[0m\u001b[0mself\u001b[0m\u001b[0;34m.\u001b[0m\u001b[0mgrow_region_at\u001b[0m\u001b[0;34m(\u001b[0m\u001b[0mr\u001b[0m\u001b[0;34m)\u001b[0m \u001b[0;32mfor\u001b[0m \u001b[0mr\u001b[0m \u001b[0;32min\u001b[0m \u001b[0mself\u001b[0m\u001b[0;34m.\u001b[0m\u001b[0msamples_to_connect\u001b[0m\u001b[0;34m]\u001b[0m\u001b[0;34m\u001b[0m\u001b[0;34m\u001b[0m\u001b[0m\n\u001b[0m\u001b[1;32m    368\u001b[0m                 \u001b[0mself\u001b[0m\u001b[0;34m.\u001b[0m\u001b[0mseed_points\u001b[0m \u001b[0;34m=\u001b[0m \u001b[0;34m[\u001b[0m\u001b[0ms\u001b[0m \u001b[0;32mfor\u001b[0m \u001b[0ms\u001b[0m \u001b[0;32min\u001b[0m \u001b[0mself\u001b[0m\u001b[0;34m.\u001b[0m\u001b[0msamples_to_connect\u001b[0m\u001b[0;34m]\u001b[0m\u001b[0;34m\u001b[0m\u001b[0;34m\u001b[0m\u001b[0m\n\u001b[1;32m    369\u001b[0m                 \u001b[0;32mfor\u001b[0m \u001b[0midx\u001b[0m \u001b[0;32min\u001b[0m \u001b[0mrange\u001b[0m\u001b[0;34m(\u001b[0m\u001b[0mlen\u001b[0m\u001b[0;34m(\u001b[0m\u001b[0mself\u001b[0m\u001b[0;34m.\u001b[0m\u001b[0mregions\u001b[0m\u001b[0;34m)\u001b[0m\u001b[0;34m)\u001b[0m\u001b[0;34m:\u001b[0m \u001b[0mself\u001b[0m\u001b[0;34m.\u001b[0m\u001b[0mguard_regions\u001b[0m\u001b[0;34m.\u001b[0m\u001b[0mappend\u001b[0m\u001b[0;34m(\u001b[0m\u001b[0midx\u001b[0m\u001b[0;34m)\u001b[0m\u001b[0;34m\u001b[0m\u001b[0;34m\u001b[0m\u001b[0m\n",
      "\u001b[0;32m<ipython-input-14-3168c14b565d>\u001b[0m in \u001b[0;36mSNOPT_IRIS\u001b[0;34m(q_seed, regions, plant, context, snoptiris_options, default_domain)\u001b[0m\n\u001b[1;32m     22\u001b[0m     \u001b[0mplant\u001b[0m\u001b[0;34m.\u001b[0m\u001b[0mSetPositions\u001b[0m\u001b[0;34m(\u001b[0m\u001b[0mplant\u001b[0m\u001b[0;34m.\u001b[0m\u001b[0mGetMyMutableContextFromRoot\u001b[0m\u001b[0;34m(\u001b[0m\u001b[0mcontext\u001b[0m\u001b[0;34m)\u001b[0m\u001b[0;34m,\u001b[0m \u001b[0mq_seed\u001b[0m\u001b[0;34m.\u001b[0m\u001b[0mreshape\u001b[0m\u001b[0;34m(\u001b[0m\u001b[0;34m-\u001b[0m\u001b[0;36m1\u001b[0m\u001b[0;34m,\u001b[0m\u001b[0;36m1\u001b[0m\u001b[0;34m)\u001b[0m\u001b[0;34m)\u001b[0m\u001b[0;34m\u001b[0m\u001b[0;34m\u001b[0m\u001b[0m\n\u001b[1;32m     23\u001b[0m     \u001b[0mt_seed\u001b[0m \u001b[0;34m=\u001b[0m \u001b[0mRatfk\u001b[0m\u001b[0;34m.\u001b[0m\u001b[0mComputeTValue\u001b[0m\u001b[0;34m(\u001b[0m\u001b[0mq_seed\u001b[0m\u001b[0;34m,\u001b[0m \u001b[0mnp\u001b[0m\u001b[0;34m.\u001b[0m\u001b[0mzeros\u001b[0m\u001b[0;34m(\u001b[0m\u001b[0;36m7\u001b[0m\u001b[0;34m)\u001b[0m\u001b[0;34m)\u001b[0m\u001b[0;34m\u001b[0m\u001b[0;34m\u001b[0m\u001b[0m\n\u001b[0;32m---> 24\u001b[0;31m     \u001b[0mr\u001b[0m \u001b[0;34m=\u001b[0m \u001b[0mIrisInRationalConfigurationSpace\u001b[0m\u001b[0;34m(\u001b[0m\u001b[0mplant\u001b[0m\u001b[0;34m,\u001b[0m \u001b[0mplant\u001b[0m\u001b[0;34m.\u001b[0m\u001b[0mGetMyContextFromRoot\u001b[0m\u001b[0;34m(\u001b[0m\u001b[0mcontext\u001b[0m\u001b[0;34m)\u001b[0m\u001b[0;34m,\u001b[0m \u001b[0msnoptiris_options\u001b[0m\u001b[0;34m,\u001b[0m \u001b[0mdomain\u001b[0m\u001b[0;34m)\u001b[0m\u001b[0;34m\u001b[0m\u001b[0;34m\u001b[0m\u001b[0m\n\u001b[0m\u001b[1;32m     25\u001b[0m     \u001b[0;32mreturn\u001b[0m \u001b[0mr\u001b[0m\u001b[0;34m\u001b[0m\u001b[0;34m\u001b[0m\u001b[0m\n\u001b[1;32m     26\u001b[0m \u001b[0;34m\u001b[0m\u001b[0m\n",
      "\u001b[0;31mKeyboardInterrupt\u001b[0m: "
     ]
    }
   ],
   "source": [
    "from datetime import date, datetime\n",
    "import time\n",
    "from visprm import RandSeeding\n",
    "now = datetime.now()\n",
    "timestamp = now.strftime(\"%y_%m_%d_%H_%M_%S\")\n",
    "filename = timestamp+'_eval.log'\n",
    "with open(filename, 'w+') as file:  \n",
    "    for i_seed in range(8,20):\n",
    "        t1 = time.time()\n",
    "        np.random.seed(i_seed)\n",
    "        vs2 = VPRMSeeding(poi,\n",
    "                     alpha = 0.1,\n",
    "                     limits = limits_q,\n",
    "                     collision_handle = col_func_handle,\n",
    "                     is_in_line_of_sight = is_LOS, \n",
    "                     iris_handle=partial(SNOPT_IRIS_Handle, regions = None),\n",
    "                     iris_handle_with_obstacles = SNOPT_IRIS_Handle,\n",
    "                     point_to_region_conversion = partial(Ratfk.ComputeTValue, q_star_val = np.zeros(7))\n",
    "                     )\n",
    "        vs2.set_guard_regions()\n",
    "        vs2.guard_phase()\n",
    "        vs2.refine_guards()\n",
    "        success = vs2.connectivity_phase()\n",
    "        t2 = time.time()\n",
    "        number_guards = len(vs2.guard_regions)\n",
    "        number_regions = len(vs2.regions)\n",
    "        number_samples = len(vs2.samples_outside_regions)\n",
    "        dspp = dijkstraspp.DijkstraSPPsolver(vs2.regions, partial(Ratfk.ComputeTValue, q_star_val = np.zeros(7)))\n",
    "        path_length_ratio = []\n",
    "        dspp.verbose = False\n",
    "        for i,pt1 in enumerate(poi[:11]):\n",
    "            for pt2 in poi[i+1:12]:\n",
    "                wp, dist = dspp.solve(pt1, pt2, refine_path = True)\n",
    "                dist_lower = np.linalg.norm( pt1 - pt2)\n",
    "                path_length_ratio.append(dist/dist_lower)\n",
    "        print(np.mean(path_length_ratio))\n",
    "        #determine coverage\n",
    "        samps_cnt = 10000\n",
    "        samp_in_regions = 0\n",
    "        for _ in range(samps_cnt):\n",
    "            q_samp = vs2.sample_node_pos(outside_regions=False)\n",
    "            if vs2.point_in_regions(q_samp):\n",
    "                samp_in_regions += 1\n",
    "        coverage = samp_in_regions/samps_cnt\n",
    "        run_string = [(f\"\"\"{'--visprm'},\\n\"\"\"),\n",
    "                      (f\"\"\"{'seed:'}{i_seed},\\n\"\"\"),\n",
    "                     (f\"\"\"{'success: '+str(success)},\\n\"\"\"),\n",
    "                     (f\"\"\"{'nr: '}{number_regions},\\n\"\"\"),\n",
    "                     (f\"\"\"{'ng: '}{number_guards},\\n\"\"\"),\n",
    "                     (f\"\"\"{'ns: '}{number_samples},\\n\"\"\"),\n",
    "                     (f\"\"\"{'coverage: '}{coverage:.4f},\\n\"\"\"),\n",
    "                     (f\"\"\"{'pathlen: '}{np.mean(path_length_ratio):.4f},\\n\"\"\"),\n",
    "                     (f\"\"\"{'runtime: '}{t2-t1:.4f},\\n\"\"\"),\n",
    "                     ]\n",
    "        file.writelines(run_string)\n",
    "        print('switch to random seeding')\n",
    "        t1 = time.time()\n",
    "        np.random.seed(i_seed)\n",
    "        rs2 = RandSeeding(poi,\n",
    "              alpha = 0.1,\n",
    "              limits = limits_q,\n",
    "              collision_handle = col_func_handle,\n",
    "              iris_handle=partial(SNOPT_IRIS_Handle, regions = None),\n",
    "              iris_handle_with_obstacles = SNOPT_IRIS_Handle,\n",
    "              point_to_region_conversion = partial(Ratfk.ComputeTValue, q_star_val = np.zeros(7))\n",
    "                 )\n",
    "        rs2.set_init_regions()\n",
    "        success = rs2.sample_regions_phase()\n",
    "        t2 = time.time()\n",
    "        number_regions = len(rs2.regions)\n",
    "        #number_samples = len(rs.samples_outside_regions)\n",
    "        dspp = DijkstraSPPsolver(rs2.regions, partial(Ratfk.ComputeTValue, q_star_val = np.zeros(7)))\n",
    "        path_length_ratio = []\n",
    "        dspp.verbose = False\n",
    "        for i,pt1 in enumerate(poi[:11]):\n",
    "            for pt2 in poi[i+1:12]:\n",
    "                wp, dist = dspp.solve(pt1, pt2, refine_path = True)\n",
    "                dist_lower = np.linalg.norm( pt1 - pt2)\n",
    "                path_length_ratio.append(dist/dist_lower)\n",
    "        #print(np.mean(path_length_ratio))\n",
    "        #determine coverage\n",
    "        samps_cnt = 10000\n",
    "        samp_in_regions = 0\n",
    "        for _ in range(samps_cnt):\n",
    "            q_samp = rs2.sample_node_pos()\n",
    "            if rs2.point_in_regions(q_samp):\n",
    "                samp_in_regions += 1\n",
    "        coverage = samp_in_regions/samps_cnt\n",
    "        run_string = [(f\"\"\"{'--rand'},\\n\"\"\"),\n",
    "                      (f\"\"\"{'seed: '}{i_seed},\\n\"\"\"),\n",
    "                     (f\"\"\"{'success: '+str(success)},\\n\"\"\"),\n",
    "                     (f\"\"\"{'nr: '}{number_regions},\\n\"\"\"),\n",
    "                     (f\"\"\"{'coverage: '}{coverage:.4f},\\n\"\"\"),\n",
    "                     (f\"\"\"{'pathlen: '}{np.mean(path_length_ratio):.4f},\\n\"\"\"),\n",
    "                     (f\"\"\"{'runtime: '}{t2-t1:.4f},\\n\"\"\"),\n",
    "                      \n",
    "                     ]\n",
    "        file.writelines(run_string)"
   ]
  },
  {
   "cell_type": "code",
   "execution_count": 59,
   "metadata": {},
   "outputs": [
    {
     "name": "stdout",
     "output_type": "stream",
     "text": [
      "8\n",
      "9\n",
      "10\n",
      "11\n",
      "12\n",
      "13\n",
      "14\n",
      "15\n",
      "16\n",
      "17\n",
      "18\n",
      "19\n"
     ]
    }
   ],
   "source": [
    "for i in range(8, 20):\n",
    "    print(i)"
   ]
  },
  {
   "cell_type": "code",
   "execution_count": 48,
   "metadata": {},
   "outputs": [],
   "source": [
    "f = open(\"22_12_13_21_02_08_eval.log\", \"r\")\n",
    "lines = f.readlines()\n",
    "vprmseed = {}\n",
    "vprmseed['succ'] = []\n",
    "vprmseed['nr'] = []\n",
    "vprmseed['ng'] = []\n",
    "vprmseed['ns'] = []\n",
    "vprmseed['seed'] = []\n",
    "vprmseed['coverage'] = []\n",
    "vprmseed['pathlenratio'] = []\n",
    "vprmseed['runtime'] = []\n",
    "\n",
    "randseed = {}\n",
    "randseed['succ'] = []\n",
    "randseed['nr'] = []\n",
    "randseed['seed'] = []\n",
    "randseed['coverage'] = []\n",
    "randseed['pathlenratio'] = []\n",
    "randseed['runtime'] = []\n",
    "\n",
    "joint_keys = ['succ', 'nr', 'runtime', 'coverage', 'pathlenratio']\n",
    "idx = 0\n",
    "while idx< len(lines):\n",
    "   \n",
    "    if '--visprm' in lines[idx]:\n",
    "        #print(lines[idx:idx+9])\n",
    "        line_run = lines[idx:idx+9]\n",
    "        #print(line_run[1][5:-2])\n",
    "        vprmseed['seed'].append(int(line_run[1][5:-2]))\n",
    "        vprmseed['succ'].append(True if line_run[2][9:-2] =='True' else False)\n",
    "        vprmseed['nr'].append(int(line_run[3][3:-2]))  \n",
    "        vprmseed['ng'].append(int(line_run[4][3:-2]))  \n",
    "        vprmseed['ns'].append(int(line_run[5][3:-2]))  \n",
    "        vprmseed['coverage'].append(float(line_run[6][9:-2])) \n",
    "        vprmseed['pathlenratio'].append(float(line_run[7][8:-2]))\n",
    "        vprmseed['runtime'].append(float(line_run[8][8:-2]))  \n",
    "        idx+=9\n",
    "    elif '--rand' in lines[idx]:\n",
    "        #print(lines[idx:idx+7])\n",
    "        line_run = lines[idx:idx+7]\n",
    "        randseed['seed'].append(int(line_run[1][5:-2]))\n",
    "        randseed['succ'].append(True if line_run[2][9:-2] =='True' else False)\n",
    "        randseed['nr'].append(int(line_run[3][3:-2]))\n",
    "        randseed['coverage'].append(float(line_run[4][9:-2]))\n",
    "        randseed['pathlenratio'].append(float(line_run[5][8:-2]))\n",
    "        randseed['runtime'].append(float(line_run[6][8:-2]))\n",
    "        idx +=7\n",
    "    \n",
    "    #idx+=1\n",
    "f.close()"
   ]
  },
  {
   "cell_type": "code",
   "execution_count": 57,
   "metadata": {},
   "outputs": [
    {
     "data": {
      "text/plain": [
       "Text(0.5, 0.98, 'Eval 7Dof 24 PoI, N =8')"
      ]
     },
     "execution_count": 57,
     "metadata": {},
     "output_type": "execute_result"
    },
    {
     "data": {
      "image/png": "[encoded data removed]",
      "text/plain": [
       "<Figure size 1800x504 with 5 Axes>"
      ]
     },
     "metadata": {
      "needs_background": "light"
     },
     "output_type": "display_data"
    }
   ],
   "source": [
    "import matplotlib.pyplot as plt\n",
    "\n",
    "fig, axs = plt.subplots(nrows = 1, ncols = len(joint_keys), figsize = (25, 7))\n",
    "for ax, key in zip(axs, joint_keys):\n",
    "    nfields = 2\n",
    "    xpos = np.arange(nfields)\n",
    "    labels = [key+'_vis', key+'_rand']\n",
    "    data_mean = [np.mean(np.array(vprmseed[key])*1.0), np.mean(np.array(randseed[key])*1.0)]\n",
    "    data_std = [np.std(np.array(vprmseed[key])*1.0), np.std(np.array(randseed[key])*1.0)]\n",
    "    ax.set_xticks(xpos)\n",
    "    ax.set_xticklabels(labels)\n",
    "    if key == 'runtime':\n",
    "        data_mean = [np.mean(np.array(vprmseed[key])*1.0)/60.0, np.mean(np.array(randseed[key])*1.0)/60.0]\n",
    "        data_std = [np.std(np.array(vprmseed[key])*1.0)/60.0, np.std(np.array(randseed[key])*1.0)/60.0,]\n",
    "        ax.set_xticks(xpos)\n",
    "        ax.set_xticklabels(['runtime_vis_minutes', 'runtime_rand_minutes'])\n",
    "    ax.bar(xpos, data_mean, yerr = data_std,color=['#1f77b4','#ff7f0e'], ecolor='black', capsize=20)\n",
    "    \n",
    "fig.suptitle('Eval 7Dof 24 PoI, N ='+str(len(vprmseed['seed'])), fontsize=16)"
   ]
  },
  {
   "cell_type": "code",
   "execution_count": null,
   "metadata": {},
   "outputs": [],
   "source": []
  },
  {
   "cell_type": "code",
   "execution_count": null,
   "metadata": {},
   "outputs": [],
   "source": []
  },
  {
   "cell_type": "code",
   "execution_count": null,
   "metadata": {},
   "outputs": [],
   "source": []
  },
  {
   "cell_type": "code",
   "execution_count": 145,
   "metadata": {},
   "outputs": [
    {
     "name": "stdout",
     "output_type": "stream",
     "text": [
      "['--rand seed:0,\\n', 'success: True,\\n', 'nr: 69,\\n', 'coverage: 0.1687,\\n', 'runtime: 819.3097,\\n']\n",
      "['--rand seed:1,\\n', 'success: True,\\n', 'nr: 39,\\n', 'coverage: 0.1284,\\n', 'runtime: 407.6527,\\n']\n",
      "['--rand seed:2,\\n', 'success: True,\\n', 'nr: 64,\\n', 'coverage: 0.1712,\\n', 'runtime: 855.7786,\\n']\n",
      "['--rand seed:3,\\n', 'success: True,\\n', 'nr: 47,\\n', 'coverage: 0.1131,\\n', 'runtime: 488.1396,\\n']\n",
      "['--rand seed:4,\\n', 'success: True,\\n', 'nr: 52,\\n', 'coverage: 0.1476,\\n', 'runtime: 554.5485,\\n']\n",
      "['--rand seed:5,\\n', 'success: True,\\n', 'nr: 82,\\n', 'coverage: 0.1614,\\n', 'runtime: 935.1843,\\n']\n",
      "['--rand seed:6,\\n', 'success: True,\\n', 'nr: 57,\\n', 'coverage: 0.1580,\\n', 'runtime: 719.9720,\\n']\n",
      "['--rand seed:7,\\n', 'success: True,\\n', 'nr: 32,\\n', 'coverage: 0.0579,\\n', 'runtime: 224.4085,\\n']\n",
      "['--rand seed:8,\\n', 'success: True,\\n', 'nr: 19,\\n', 'coverage: 0.0503,\\n', 'runtime: 141.7112,\\n']\n",
      "['--rand seed:9,\\n', 'success: True,\\n', 'nr: 56,\\n', 'coverage: 0.1065,\\n', 'runtime: 520.5647,\\n']\n",
      "['--rand seed:10,\\n', 'success: True,\\n', 'nr: 64,\\n', 'coverage: 0.1459,\\n', 'runtime: 705.0995,\\n']\n",
      "['--rand seed:11,\\n', 'success: True,\\n', 'nr: 59,\\n', 'coverage: 0.1043,\\n', 'runtime: 545.1641,\\n']\n",
      "['--rand seed:12,\\n', 'success: True,\\n', 'nr: 64,\\n', 'coverage: 0.1582,\\n', 'runtime: 744.6876,\\n']\n",
      "['--rand seed:13,\\n', 'success: True,\\n', 'nr: 54,\\n', 'coverage: 0.1184,\\n', 'runtime: 601.0360,\\n']\n",
      "['--rand seed:14,\\n', 'success: True,\\n', 'nr: 52,\\n', 'coverage: 0.1330,\\n', 'runtime: 540.1368,\\n']\n",
      "['--rand seed:15,\\n', 'success: True,\\n', 'nr: 91,\\n', 'coverage: 0.1912,\\n', 'runtime: 1302.7771,\\n']\n",
      "['--rand seed:16,\\n', 'success: True,\\n', 'nr: 51,\\n', 'coverage: 0.1393,\\n', 'runtime: 608.4237,\\n']\n",
      "['--rand seed:17,\\n', 'success: True,\\n', 'nr: 57,\\n', 'coverage: 0.1249,\\n', 'runtime: 579.9911,\\n']\n",
      "['--rand seed:18,\\n', 'success: True,\\n', 'nr: 68,\\n', 'coverage: 0.1543,\\n', 'runtime: 822.2889,\\n']\n",
      "['--rand seed:19,\\n', 'success: True,\\n', 'nr: 98,\\n', 'coverage: 0.2108,\\n', 'runtime: 1426.3869,\\n']\n"
     ]
    }
   ],
   "source": [
    "f = open(\"22_11_29_21_48_44eval_log.log\", \"r\")\n",
    "lines = f.readlines()\n",
    "vprmseed = {}\n",
    "vprmseed['succ'] = []\n",
    "vprmseed['nr'] = []\n",
    "vprmseed['ng'] = []\n",
    "vprmseed['ns'] = []\n",
    "vprmseed['seed'] = []\n",
    "vprmseed['coverage'] = []\n",
    "vprmseed['runtime'] = []\n",
    "\n",
    "randseed = {}\n",
    "randseed['succ'] = []\n",
    "randseed['nr'] = []\n",
    "randseed['seed'] = []\n",
    "randseed['coverage'] = []\n",
    "randseed['runtime'] = []\n",
    "\n",
    "joint_keys = ['succ', 'nr', 'runtime', 'coverage']\n",
    "idx = 0\n",
    "while idx< len(lines):\n",
    "    if '--visprm' in lines[idx]:\n",
    "        #print(lines[idx:idx+7])\n",
    "        line_run = lines[idx:idx+7]\n",
    "        vprmseed['seed'].append(int(line_run[0][14:-2]))\n",
    "        vprmseed['succ'].append(True if line_run[1][9:-2] =='True' else False)\n",
    "        vprmseed['nr'].append(int(line_run[2][3:-2]))  \n",
    "        vprmseed['ng'].append(int(line_run[3][3:-2]))  \n",
    "        vprmseed['ns'].append(int(line_run[4][3:-2]))  \n",
    "        vprmseed['coverage'].append(float(line_run[5][9:-2]))  \n",
    "        vprmseed['runtime'].append(float(line_run[6][8:-2]))  \n",
    "        idx+=7\n",
    "    elif '--rand seed' in lines[idx]:\n",
    "        print(lines[idx:idx+5])\n",
    "        line_run = lines[idx:idx+7]\n",
    "        randseed['seed'].append(int(line_run[0][12:-2]))\n",
    "        randseed['succ'].append(True if line_run[1][9:-2] =='True' else False)\n",
    "        randseed['nr'].append(int(line_run[2][3:-2]))\n",
    "        randseed['coverage'].append(float(line_run[3][9:-2]))\n",
    "        randseed['runtime'].append(float(line_run[4][8:-2]))\n",
    "        idx +=5\n",
    "f.close()"
   ]
  },
  {
   "cell_type": "code",
   "execution_count": 162,
   "metadata": {},
   "outputs": [
    {
     "data": {
      "text/plain": [
       "Text(0.5, 0.98, 'Eval 7Dof 12 PoI, N =20')"
      ]
     },
     "execution_count": 162,
     "metadata": {},
     "output_type": "execute_result"
    },
    {
     "data": {
      "image/png": "[encoded data removed]",
      "text/plain": [
       "<Figure size 1440x360 with 4 Axes>"
      ]
     },
     "metadata": {
      "needs_background": "light"
     },
     "output_type": "display_data"
    }
   ],
   "source": [
    "import matplotlib.pyplot as plt\n",
    "\n",
    "fig, axs = plt.subplots(nrows = 1, ncols = len(joint_keys), figsize = (20, 5))\n",
    "for ax, key in zip(axs, joint_keys):\n",
    "    nfields = 2\n",
    "    xpos = np.arange(nfields)\n",
    "    labels = [key+'_vis', key+'_rand']\n",
    "    data_mean = [np.mean(np.array(vprmseed[key])*1.0), np.mean(np.array(randseed[key])*1.0)]\n",
    "    data_std = [np.std(np.array(vprmseed[key])*1.0), np.std(np.array(randseed[key])*1.0)]\n",
    "    ax.bar(xpos, data_mean, yerr = data_std,color=['#1f77b4','#ff7f0e'], ecolor='black', capsize=20)\n",
    "    ax.set_xticks(xpos)\n",
    "    ax.set_xticklabels(labels)\n",
    "fig.suptitle('Eval 7Dof 12 PoI, N ='+str(len(vprmseed['seed'])), fontsize=16)"
   ]
  },
  {
   "cell_type": "markdown",
   "metadata": {},
   "source": [
    "# Random Seeding"
   ]
  },
  {
   "cell_type": "code",
   "execution_count": 90,
   "metadata": {},
   "outputs": [
    {
     "name": "stdout",
     "output_type": "stream",
     "text": [
      "[02:23:47] [RandSeeding] Expecting points of interest in q\n",
      "[02:23:47] [RandSeeding] GuardInsertion attempts M: 44\n",
      "[02:23:47] [RandSeeding] 0.9 probability that unseen region is less than 5.0 \"%\" of Cfree \n"
     ]
    }
   ],
   "source": [
    "rs = RandSeeding(poi,\n",
    "              alpha = 0.1,\n",
    "              limits = limits_q,\n",
    "              collision_handle = col_func_handle,\n",
    "              iris_handle=partial(SNOPT_IRIS_Handle, regions = None),\n",
    "              iris_handle_with_obstacles = SNOPT_IRIS_Handle,\n",
    "              point_to_region_conversion = partial(Ratfk.ComputeTValue, q_star_val = np.zeros(7))\n",
    "                 )\n",
    "rs.set_init_regions()"
   ]
  },
  {
   "cell_type": "code",
   "execution_count": null,
   "metadata": {},
   "outputs": [],
   "source": [
    "rs.sample_regions_phase()"
   ]
  },
  {
   "cell_type": "code",
   "execution_count": null,
   "metadata": {},
   "outputs": [],
   "source": [
    "rs.draw_connectivity_graph()"
   ]
  },
  {
   "cell_type": "markdown",
   "metadata": {},
   "source": [
    "# RRT"
   ]
  },
  {
   "cell_type": "code",
   "execution_count": null,
   "metadata": {},
   "outputs": [],
   "source": [
    "from rrt import RRT\n",
    "RRT = RRT(start = poi[0],\n",
    "          goal = poi[-1],\n",
    "          limits = limits_q,\n",
    "          col_func_handle=col_func_handle,\n",
    "          max_extend_length=0.1,\n",
    "          extend_steps=0.002,\n",
    "          init_goal_sample_rate=0.1,\n",
    "          goal_sample_rate_scaler=0.9,\n",
    "          verbose = True, \n",
    "          plotcallback = None,\n",
    "          sample_collision_free= False)\n",
    "\n",
    "success, path = RRT.run(100000)"
   ]
  }
 ],
 "metadata": {
  "kernelspec": {
   "display_name": "Python 3",
   "language": "python",
   "name": "python3"
  },
  "language_info": {
   "codemirror_mode": {
    "name": "ipython",
    "version": 3
   },
   "file_extension": ".py",
   "mimetype": "text/x-python",
   "name": "python",
   "nbconvert_exporter": "python",
   "pygments_lexer": "ipython3",
   "version": "3.8.10"
  },
  "vscode": {
   "interpreter": {
    "hash": "82cb315f25884f6c3630a939a9e3f6fadbbb663bc25feb1745738a94b8acc172"
   }
  }
 },
 "nbformat": 4,
 "nbformat_minor": 2
}
