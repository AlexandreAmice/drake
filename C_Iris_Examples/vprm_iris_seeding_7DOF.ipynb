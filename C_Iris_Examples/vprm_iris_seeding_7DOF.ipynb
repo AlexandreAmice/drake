{
 "cells": [
  {
   "cell_type": "code",
   "execution_count": 1,
   "metadata": {},
   "outputs": [],
   "source": [
    "%load_ext autoreload"
   ]
  },
  {
   "cell_type": "code",
   "execution_count": 46,
   "metadata": {},
   "outputs": [],
   "source": [
    "import numpy as np\n",
    "from functools import partial\n",
    "import visualizations_utils as viz_utils\n",
    "from iris_plant_visualizer import IrisPlantVisualizer\n",
    "import ipywidgets as widgets\n",
    "from IPython.display import display"
   ]
  },
  {
   "cell_type": "code",
   "execution_count": 47,
   "metadata": {},
   "outputs": [],
   "source": [
    "#pydrake imports\n",
    "import pydrake\n",
    "from pydrake.common import FindResourceOrThrow\n",
    "from pydrake.multibody.parsing import Parser\n",
    "from pydrake.multibody.plant import AddMultibodyPlantSceneGraph\n",
    "from pydrake.systems.framework import DiagramBuilder\n",
    "from pydrake.geometry import Role, GeometrySet, CollisionFilterDeclaration\n",
    "from pydrake.solvers import mathematicalprogram as mp\n",
    "from pydrake.all import RigidTransform, RollPitchYaw, RevoluteJoint, Role\n",
    "\n",
    "import pydrake.multibody.rational_forward_kinematics as rational_forward_kinematics\n",
    "from pydrake.all import RationalForwardKinematics\n",
    "from pydrake.geometry.optimization import (IrisOptionsRationalSpace, \n",
    "                                           IrisInRationalConfigurationSpace, \n",
    "                                           HPolyhedron, \n",
    "                                           Hyperellipsoid,\n",
    "                                           Iris, IrisOptions)\n",
    "from pydrake.common import FindResourceOrThrow\n",
    "#from pydrake.all import ConnectMeshcatVisualizer\n",
    "from pydrake.all import MeshcatVisualizerCpp, MeshcatVisualizerParams, Role, StartMeshcat,InverseKinematics, RotationMatrix\n",
    "from meshcat import Visualizer\n",
    "from visprm import VPRMSeeding"
   ]
  },
  {
   "cell_type": "code",
   "execution_count": 48,
   "metadata": {},
   "outputs": [
    {
     "name": "stderr",
     "output_type": "stream",
     "text": [
      "INFO:drake:Meshcat listening for connections at http://localhost:7001\n"
     ]
    }
   ],
   "source": [
    "meshcat1 = StartMeshcat()\n",
    "meshcat1.Delete()"
   ]
  },
  {
   "cell_type": "code",
   "execution_count": 50,
   "metadata": {},
   "outputs": [
    {
     "name": "stderr",
     "output_type": "stream",
     "text": [
      "<ipython-input-50-f3400fdd0b71>:21: DrakeDeprecationWarning: MeshcatVisualizerCpp has been renamed to MeshcatVisualizer. The deprecated code will be removed from Drake on or after 2022-11-01.\n",
      "  visualizer = MeshcatVisualizerCpp.AddToBuilder(builder, scene_graph, meshcat1)\n"
     ]
    }
   ],
   "source": [
    "\n",
    "#model_file = FindResourceOrThrow(\"drake/manipulation/models/iiwa_description/urdf/iiwa14_polytope_collision.urdf\")\n",
    "model_file = FindResourceOrThrow(\"drake/manipulation/models/iiwa_description/iiwa7/iiwa7_with_box_collision.sdf\")\n",
    "\n",
    "#model_file = FindResourceOrThrow(\"drake/manipulation/models/iiwa_description/iiwa7/iiwa7_no_collision.sdf\")\n",
    "#model_file = FindResourceOrThrow(\"drake/manipulation/models/iiwa_description/sdf/iiwa14_no_collision.sdf\")\n",
    "\n",
    "#box_file = FindResourceOrThrow(\"drake/sandbox/assets/box.urdf\")\n",
    "box_file_1 = FindResourceOrThrow(\"drake/C_Iris_Examples/assets/shelves1.sdf\")\n",
    "box_file_2 = FindResourceOrThrow(\"drake/C_Iris_Examples/assets/shelves2.sdf\")\n",
    "box_file_3 = FindResourceOrThrow(\"drake/C_Iris_Examples/assets/shelves3.sdf\")\n",
    "box_file_4 = FindResourceOrThrow(\"drake/C_Iris_Examples/assets/shelves4.sdf\")\n",
    "lid_file = FindResourceOrThrow(\"drake/C_Iris_Examples/assets/lid.urdf\")\n",
    "ground_file = FindResourceOrThrow(\"drake/C_Iris_Examples/assets/ground.urdf\")\n",
    "\n",
    "models =[]\n",
    "\n",
    "builder = DiagramBuilder()\n",
    "\n",
    "\n",
    "plant, scene_graph = AddMultibodyPlantSceneGraph(builder, time_step=1e-4)\n",
    "visualizer = MeshcatVisualizerCpp.AddToBuilder(builder, scene_graph, meshcat1)\n",
    "models.append(Parser(plant, scene_graph).AddModelFromFile(model_file))\n",
    "\n",
    "models.append(Parser(plant, scene_graph).AddModelFromFile(box_file_1))\n",
    "models.append(Parser(plant, scene_graph).AddModelFromFile(box_file_2))\n",
    "models.append(Parser(plant, scene_graph).AddModelFromFile(box_file_3))\n",
    "models.append(Parser(plant, scene_graph).AddModelFromFile(box_file_4))\n",
    "models.append(Parser(plant, scene_graph).AddModelFromFile(lid_file))\n",
    "models.append(Parser(plant, scene_graph).AddModelFromFile(ground_file))\n",
    "\n",
    "sp = 0.4\n",
    "x_fac = 1.2\n",
    "locs = [ [0,0,0], \n",
    "        [x_fac*sp, 1.4*sp,0.4], [x_fac*sp,-1.4*sp,0.4], [-x_fac*sp,-1.4*sp,0.4], [-x_fac*sp,1.4*sp,0.4], \n",
    "        [0.0 ,0 , 0.95], [0.0 ,0 , -0.05]] \n",
    "idx = 0\n",
    "for model in models:\n",
    "    plant.WeldFrames(plant.world_frame(), plant.get_body(plant.GetBodyIndices(model)[0]).body_frame(), RigidTransform(locs[idx]))\n",
    "    idx +=1\n",
    "    \n",
    "    \n",
    "plant.Finalize()\n",
    "#visualizer = ConnectMeshcatVisualizer(builder, scene_graph, zmq_url=zmq_url, delete_prefix_on_load=False, )\n",
    "\n",
    "diagram = builder.Build()\n",
    "context = diagram.CreateDefaultContext()\n",
    "plant_context = plant.GetMyContextFromRoot(context)\n",
    "diagram.Publish(context)\n",
    "Ratfk = RationalForwardKinematics(plant)"
   ]
  },
  {
   "cell_type": "code",
   "execution_count": 51,
   "metadata": {},
   "outputs": [],
   "source": [
    "sliders = []\n",
    "for joint_idx in range(1,8):\n",
    "    sliders.append(\n",
    "        widgets.FloatSlider(\n",
    "        min=plant.GetJointByName(f\"iiwa_joint_{joint_idx}\").position_lower_limit(), \n",
    "        max=plant.GetJointByName(f\"iiwa_joint_{joint_idx}\").position_upper_limit(), \n",
    "        value=0, \n",
    "        description=f'iiwa_joint_{joint_idx}'\n",
    "        )\n",
    "    )\n",
    "\n",
    "ik = InverseKinematics(plant, plant_context)\n",
    "collision_constraint = ik.AddMinimumDistanceConstraint(0.001, 0.001)\n",
    "\n",
    "def eval_cons(q, c, tol):\n",
    "    return 1-1*float(c.evaluator().CheckSatisfied(q, tol))\n",
    "    \n",
    "col_func_handle = partial(eval_cons, c=collision_constraint, tol=0.01)\n",
    "    \n",
    "def showres(q):\n",
    "    for joint_idx in range(1,8):\n",
    "        plant.GetJointByName(f\"iiwa_joint_{joint_idx}\").set_angle(plant_context, q[joint_idx-1])\n",
    "    col = col_func_handle(q)\n",
    "#     if col:\n",
    "#         vis[\"collision\"].set_object(\n",
    "#                 meshcat.geometry.Sphere(0.1), meshcat.geometry.MeshLambertMaterial(color=0xFF0000))\n",
    "#         vis[\"collision\"].set_transform(\n",
    "#                 meshcat.transformations.translation_matrix([0, 1.0, 1.0]))\n",
    "#     else:\n",
    "#         vis[\"collision\"].set_object(\n",
    "#                 meshcat.geometry.Sphere(0.1), meshcat.geometry.MeshLambertMaterial(color=0x00FF00))\n",
    "#         vis[\"collision\"].set_transform(\n",
    "#                 meshcat.transformations.translation_matrix([0, 1.0, 1.0]))\n",
    "    diagram.Publish(context)\n",
    "    print(\"              \", end = \"\\r\")\n",
    "    print(col , end = \"\\r\")\n",
    "\n",
    "    \n",
    "def set_joint_angles(vals):\n",
    "    for idx in range(1,8):\n",
    "        plant.GetJointByName(f\"iiwa_joint_{idx}\").set_angle(plant_context, vals[idx-1])\n",
    "    \n",
    "    \n",
    "    \n",
    "q_init = [0.0, 0.0, 0.0, 0.0, 0.0, 0.0, 0.0]\n",
    "# q_start = [-1.37, -1.39, -1.57, -1.19, -1.57, 0.00, 0.00]\n",
    "# q_end = [1.53, -1.19, 1.83, 0.91, -1.27, -0.59, 0.00]\n",
    "q = q_init.copy()\n",
    "def handle_slider_change(change, idx):\n",
    "    q[idx] = change['new']\n",
    "    #print(q, end=\"\\r\")\n",
    "    showres(q)\n",
    "    \n",
    "idx = 0\n",
    "for slider in sliders:\n",
    "    slider.observe(partial(handle_slider_change, idx = idx), names='value')\n",
    "    idx+=1"
   ]
  },
  {
   "cell_type": "code",
   "execution_count": 52,
   "metadata": {},
   "outputs": [],
   "source": [
    "from pydrake.all import Rgba, Sphere\n",
    "\n",
    "def plot_points(points, \n",
    "                size = 0.02, \n",
    "                color = Rgba(0.06, 0.0, 0, 1), \n",
    "                start_idx = 0, \n",
    "                prefix = 'point'):\n",
    "       \n",
    "        \n",
    "        for i in range(points.shape[0]):\n",
    "            pt = points[i]\n",
    "            set_joint_angles(pt)\n",
    "            tf_tot= plant.EvalBodyPoseInWorld(plant_context, plant.get_body(pydrake.multibody.tree.BodyIndex(7)))\n",
    "            tf = tf_tot.translation() + tf_tot.GetAsMatrix4()[:3,:3][:,1] *0.15\n",
    "            \n",
    "            meshcat1.SetObject(f\"/iris/points/{prefix}/{i+start_idx}\",\n",
    "                                   Sphere(size),\n",
    "                                   color)\n",
    "            \n",
    "            meshcat1.SetTransform(f\"/iris/points/{prefix}/{i+start_idx}\",\n",
    "                                       RigidTransform(RotationMatrix(),\n",
    "                                                      tf))"
   ]
  },
  {
   "cell_type": "code",
   "execution_count": 53,
   "metadata": {},
   "outputs": [
    {
     "data": {
      "application/vnd.jupyter.widget-view+json": {
       "model_id": "cc69814572ce43b3a9a92f405c65d967",
       "version_major": 2,
       "version_minor": 0
      },
      "text/plain": [
       "FloatSlider(value=0.0, description='iiwa_joint_1', max=2.96706, min=-2.96706)"
      ]
     },
     "metadata": {},
     "output_type": "display_data"
    },
    {
     "data": {
      "application/vnd.jupyter.widget-view+json": {
       "model_id": "82361bd9c65d486cbbce2fdb7a82e867",
       "version_major": 2,
       "version_minor": 0
      },
      "text/plain": [
       "FloatSlider(value=0.0, description='iiwa_joint_2', max=2.0944, min=-2.0944)"
      ]
     },
     "metadata": {},
     "output_type": "display_data"
    },
    {
     "data": {
      "application/vnd.jupyter.widget-view+json": {
       "model_id": "408382997d0f4f479286d5bb5e892094",
       "version_major": 2,
       "version_minor": 0
      },
      "text/plain": [
       "FloatSlider(value=0.0, description='iiwa_joint_3', max=2.96706, min=-2.96706)"
      ]
     },
     "metadata": {},
     "output_type": "display_data"
    },
    {
     "data": {
      "application/vnd.jupyter.widget-view+json": {
       "model_id": "4bbde1dc260e4f0989aa345c2c497cad",
       "version_major": 2,
       "version_minor": 0
      },
      "text/plain": [
       "FloatSlider(value=0.0, description='iiwa_joint_4', max=2.0944, min=-2.0944)"
      ]
     },
     "metadata": {},
     "output_type": "display_data"
    },
    {
     "data": {
      "application/vnd.jupyter.widget-view+json": {
       "model_id": "56449aed137246abb58afe8996b4b3ab",
       "version_major": 2,
       "version_minor": 0
      },
      "text/plain": [
       "FloatSlider(value=0.0, description='iiwa_joint_5', max=2.96706, min=-2.96706)"
      ]
     },
     "metadata": {},
     "output_type": "display_data"
    },
    {
     "data": {
      "application/vnd.jupyter.widget-view+json": {
       "model_id": "13020a4c38f54ceea5732fa7582460ba",
       "version_major": 2,
       "version_minor": 0
      },
      "text/plain": [
       "FloatSlider(value=0.0, description='iiwa_joint_6', max=2.0944, min=-2.0944)"
      ]
     },
     "metadata": {},
     "output_type": "display_data"
    },
    {
     "data": {
      "application/vnd.jupyter.widget-view+json": {
       "model_id": "c8ef8a0126eb4f68952f62442426eef4",
       "version_major": 2,
       "version_minor": 0
      },
      "text/plain": [
       "FloatSlider(value=0.0, description='iiwa_joint_7', max=3.05433, min=-3.05433)"
      ]
     },
     "metadata": {},
     "output_type": "display_data"
    },
    {
     "name": "stdout",
     "output_type": "stream",
     "text": [
      "1.0           \r"
     ]
    }
   ],
   "source": [
    "for slider in sliders:\n",
    "    display(slider)"
   ]
  },
  {
   "cell_type": "code",
   "execution_count": 12,
   "metadata": {},
   "outputs": [
    {
     "name": "stdout",
     "output_type": "stream",
     "text": [
      "              \r",
      "0.0\r"
     ]
    }
   ],
   "source": [
    "#problem config\n",
    "start = np.array([1.13294, 1.3056, 0.03294, -1.2944, -1.76706, 1.5056, 0.0])\n",
    "target = np.array([-1.86706, 0.5056, -0.26706, -1.0944, -1.36706, 1.1056, 0.04567])\n",
    "showres(start)\n",
    "limits_q =[plant.GetPositionLowerLimits(), plant.GetPositionUpperLimits()]\n",
    "limits_t = [Ratfk.ComputeTValue(l, np.zeros(len(l))) for l in limits_q]\n",
    "poi = [start, target]\n",
    "plot_points(np.array(poi))"
   ]
  },
  {
   "cell_type": "markdown",
   "metadata": {},
   "source": [
    "# Setup SNOPT IRIS"
   ]
  },
  {
   "cell_type": "code",
   "execution_count": 13,
   "metadata": {},
   "outputs": [],
   "source": [
    "domain = HPolyhedron.MakeBox(limits_t[0], limits_t[1])\n",
    "snopt_iris_options = IrisOptionsRationalSpace()\n",
    "snopt_iris_options.require_sample_point_is_contained = True\n",
    "snopt_iris_options.iteration_limit = 20\n",
    "snopt_iris_options.configuration_space_margin = 1e-3\n",
    "snopt_iris_options.max_faces_per_collision_pair = 60\n",
    "snopt_iris_options.termination_threshold = -1\n",
    "snopt_iris_options.q_star = np.zeros(7)\n",
    "snopt_iris_options.relative_termination_threshold = 0.05\n",
    "\n",
    "\n",
    "\n",
    "def SNOPT_IRIS(q_seed,  regions, plant, context, snoptiris_options, default_domain):\n",
    "    #print('snopt iris call')\n",
    "    snoptiris_options.configuration_obstacles = []\n",
    "    if regions is not None:\n",
    "        obstacles = []\n",
    "        for r in regions:\n",
    "            offset = 0.25*np.min(1/np.linalg.eig(r.MaximumVolumeInscribedEllipsoid().A())[0])\n",
    "            rnew = HPolyhedron(r.A(), r.b()-offset)\n",
    "            obstacles.append(rnew)\n",
    "        snopt_iris_options.configuration_obstacles = obstacles\n",
    "    plant.SetPositions(plant.GetMyMutableContextFromRoot(context), q_seed.reshape(-1,1))\n",
    "    r = IrisInRationalConfigurationSpace(plant, plant.GetMyContextFromRoot(context), snoptiris_options, domain)\n",
    "    return r\n",
    "\n",
    "SNOPT_IRIS_Handle = partial(SNOPT_IRIS,\n",
    "                            plant = plant,\n",
    "                            context = context,\n",
    "                            snoptiris_options = snopt_iris_options,\n",
    "                            default_domain = domain)"
   ]
  },
  {
   "cell_type": "markdown",
   "metadata": {},
   "source": [
    "# Construct vis checker (here still sample based)"
   ]
  },
  {
   "cell_type": "code",
   "execution_count": 14,
   "metadata": {},
   "outputs": [],
   "source": [
    "def vis(q1, q2, num_checks, col_func_handle):\n",
    "    q1flat = q1.reshape(-1)\n",
    "    q2flat = q2.reshape(-1)\n",
    "    if np.linalg.norm(q1-q2) < 1e-6:\n",
    "        return [(1-col_func_handle(q1))>0, None]\n",
    "    tvec = np.linspace(0,1, num_checks)\n",
    "    for t in tvec:\n",
    "        q = q1flat*t + (1-t)*q2flat\n",
    "        if col_func_handle(q):\n",
    "            return [False, None]\n",
    "    else:\n",
    "        return [True, None]\n",
    "is_LOS = partial(vis, num_checks = 40, col_func_handle = col_func_handle)"
   ]
  },
  {
   "cell_type": "markdown",
   "metadata": {},
   "source": [
    "# Run Seeding Setup and Guard Phase"
   ]
  },
  {
   "cell_type": "code",
   "execution_count": 15,
   "metadata": {},
   "outputs": [
    {
     "name": "stdout",
     "output_type": "stream",
     "text": [
      "[VPRMSeeding] GuardInsertion attempts M: 44\n",
      "[VPRMSeeding] 0.9 probability that unseen region is less than 5.0 \"%\" of Cfree \n",
      "[VPRMSeeding] Checkpoint loaded successfully, current state is at end of guard phase\n"
     ]
    }
   ],
   "source": [
    "LOAD_CHECKPOINT = True\n",
    "np.random.seed(11)\n",
    "vs = VPRMSeeding(poi,\n",
    "                 alpha = 0.1,\n",
    "                 limits = limits_q,\n",
    "                 collision_handle = col_func_handle,\n",
    "                 is_in_line_of_sight = is_LOS, \n",
    "                 iris_handle=partial(SNOPT_IRIS_Handle, regions = None),\n",
    "                 iris_handle_with_obstacles = SNOPT_IRIS_Handle,\n",
    "                 point_to_region_conversion = partial(Ratfk.ComputeTValue, q_star_val = np.zeros(7))\n",
    "                 )\n",
    "if not LOAD_CHECKPOINT:\n",
    "    vs.set_guard_regions()\n",
    "else:\n",
    "    import pickle\n",
    "    path = 'seedingcheckpoints/7DOF_VPRMSeeding_state2.pickle'\n",
    "    with open(path, 'rb') as f:\n",
    "        checkpoint = pickle.load(f)\n",
    "    vs.load_checkpoint(checkpoint)"
   ]
  },
  {
   "cell_type": "code",
   "execution_count": 16,
   "metadata": {},
   "outputs": [
    {
     "name": "stdout",
     "output_type": "stream",
     "text": [
      "done\n"
     ]
    }
   ],
   "source": [
    "if not LOAD_CHECKPOINT:\n",
    "    vs.guard_phase()\n",
    "    seed_points = vs.seed_points\n",
    "    regions_A = [r.A() for r in vs.regions]\n",
    "    regions_b = [r.b() for r in vs.regions]\n",
    "    sample_set_points = [s[0] for s in vs.samples_outside_regions.values()]\n",
    "    sample_set_vis_regions = [[vs.regions.index(rs) for rs in s[1]] for s in vs.samples_outside_regions.values()]\n",
    "\n",
    "    data_checkpoint = {'seedpoints': seed_points, \n",
    "                       'regionsA': regions_A,\n",
    "                       'regionsB': regions_b,\n",
    "                       'sample_set_points': sample_set_points,\n",
    "                       'sample_set_vis_regions':sample_set_vis_regions}\n",
    "\n",
    "    import pickle\n",
    "    with open(\"7DOF_VPRMSeeding_state.pickle\", \"wb\") as f:\n",
    "        pickle.dump(data_checkpoint,f)\n",
    "else: \n",
    "    print('done')"
   ]
  },
  {
   "cell_type": "markdown",
   "metadata": {},
   "source": [
    "# Plot Results after Guard Phase"
   ]
  },
  {
   "cell_type": "code",
   "execution_count": 54,
   "metadata": {},
   "outputs": [
    {
     "data": {
      "image/png": "[encoded data removed]",
      "text/plain": [
       "<Figure size 432x288 with 1 Axes>"
      ]
     },
     "metadata": {},
     "output_type": "display_data"
    }
   ],
   "source": [
    "vs.draw_connectivity_graph()\n",
    "sampleset = [v[0] for v in vs.samples_outside_regions.values()]\n",
    "plot_points(np.array(vs.seed_points), prefix = 'guard', color = Rgba(0.06, 0.0, 0.8, 1))\n",
    "plot_points(np.array(sampleset), size=0.01, prefix = 'sampleset', color = Rgba(0.06, 0.8, 0.8, 1))"
   ]
  },
  {
   "cell_type": "markdown",
   "metadata": {},
   "source": [
    "# Connectivity Phase"
   ]
  },
  {
   "cell_type": "code",
   "execution_count": 18,
   "metadata": {},
   "outputs": [
    {
     "name": "stdout",
     "output_type": "stream",
     "text": [
      "[VPRMSeeding] Num connected Components Vis: 5\n",
      "[VPRMSeeding] New region added [ 0.93672079 -1.21871607 -1.2153516  -1.42016427  0.31611672 -0.54494284\n",
      "  1.00129588]\n",
      "[VPRMSeeding] Sample set size 548 num keys to del  1\n",
      "[VPRMSeeding] Num connected Components Vis: 4\n",
      "[VPRMSeeding] New region added [-2.2850641   0.17976622  2.64734464 -2.08165463  1.09805841 -0.27441865\n",
      " -2.69080429]\n",
      "[VPRMSeeding] Sample set size 547 num keys to del  1\n",
      "[VPRMSeeding] Num connected Components Vis: 4\n",
      "[VPRMSeeding] New region added [ 0.20014839  1.06096254 -0.01457832 -1.97067106  0.0906173  -0.28838434\n",
      " -1.46935113]\n",
      "[VPRMSeeding] Sample set size 546 num keys to del  1\n",
      "[VPRMSeeding] Num connected Components Vis: 4\n",
      "[VPRMSeeding] Failed, deleting point\n",
      "[VPRMSeeding] Num connected Components Vis: 4\n",
      "[VPRMSeeding] New region added [ 1.06678249e+00  6.55247948e-04 -2.95486585e+00 -1.93070437e+00\n",
      "  8.38226241e-01 -1.53531015e+00 -2.55899003e+00]\n",
      "[VPRMSeeding] Sample set size 544 num keys to del  1\n",
      "[VPRMSeeding] Num connected Components Vis: 4\n",
      "[VPRMSeeding] New region added [ 1.44534996 -1.85049979  2.43612492  0.664371   -1.38680466 -0.84707506\n",
      "  0.22458401]\n",
      "[VPRMSeeding] Sample set size 539 num keys to del  5\n",
      "[VPRMSeeding] Num connected Components Vis: 4\n",
      "[VPRMSeeding] New region added [ 0.14485614 -0.64378675 -0.23224519 -2.0487365   0.93840752 -1.49935219\n",
      " -1.15192691]\n",
      "[VPRMSeeding] Sample set size 538 num keys to del  1\n"
     ]
    },
    {
     "data": {
      "text/plain": [
       "True"
      ]
     },
     "execution_count": 18,
     "metadata": {},
     "output_type": "execute_result"
    }
   ],
   "source": [
    "vs.connectivity_phase()"
   ]
  },
  {
   "cell_type": "code",
   "execution_count": 55,
   "metadata": {},
   "outputs": [
    {
     "data": {
      "image/png": "[encoded data removed]",
      "text/plain": [
       "<Figure size 432x288 with 1 Axes>"
      ]
     },
     "metadata": {},
     "output_type": "display_data"
    }
   ],
   "source": [
    "vs.draw_connectivity_graph()"
   ]
  },
  {
   "cell_type": "code",
   "execution_count": 63,
   "metadata": {},
   "outputs": [],
   "source": [
    "#build configuration graph\n",
    "class node:\n",
    "    def __init__(self, loc, regs = None):\n",
    "        self.loc = loc\n",
    "        if regs is None:\n",
    "            self.regions = []\n",
    "        else:\n",
    "            self.regions = regs\n",
    "\n",
    "nodes = [node(Ratfk.ComputeTValue(poi[0], np.zeros(7)), [vs.regions[0]]), node(Ratfk.ComputeTValue(poi[1], np.zeros(7)), [vs.regions[1]])]# + [node(r.MaximumVolumeInscribedEllipsoid().center(), [r]) for r in vs.regions[2:]]\n",
    "\n"
   ]
  },
  {
   "cell_type": "code",
   "execution_count": 64,
   "metadata": {},
   "outputs": [
    {
     "name": "stdout",
     "output_type": "stream",
     "text": [
      "failed  4\n"
     ]
    }
   ],
   "source": [
    "for idx, r in enumerate(vs.regions[:-1]):\n",
    "    for r2 in vs.regions[idx+1:]:\n",
    "        if r.IntersectsWith(r2):\n",
    "            try:\n",
    "                loc = r.Intersection(r2).MaximumVolumeInscribedEllipsoid().center()\n",
    "                nodes.append(node(loc, [r, r2]))\n",
    "            except:\n",
    "                print('failed ', idx)\n",
    "            "
   ]
  },
  {
   "cell_type": "code",
   "execution_count": 65,
   "metadata": {},
   "outputs": [],
   "source": [
    "node_locations = [node.loc for node in nodes]\n",
    "adjacency_list = []\n",
    "adjacency_dist = []\n",
    "for n in nodes:\n",
    "    edges = []\n",
    "    edge_dist = []\n",
    "    for n2 in nodes:\n",
    "        if nodes.index(n) != nodes.index(n2):\n",
    "            n_regs = set([str(r) for r in n.regions])\n",
    "            n2_regs = set([str(r) for r in n2.regions])\n",
    "            if len(list(n_regs&n2_regs)):\n",
    "                edges.append(nodes.index(n2))\n",
    "                edge_dist.append(np.linalg.norm(n.loc-n2.loc))\n",
    "    adjacency_list.append(edges)\n",
    "    adjacency_dist.append(edge_dist)"
   ]
  },
  {
   "cell_type": "code",
   "execution_count": 66,
   "metadata": {},
   "outputs": [],
   "source": [
    "from scipy.sparse.csgraph import dijkstra, csgraph_from_dense\n",
    "from scipy.sparse import coo_matrix\n",
    "\n",
    "def build_adjacency_mat(nodes, adjacency_list, adjacency_dist):\n",
    "        N = len(nodes)\n",
    "        data = []\n",
    "        rows = []\n",
    "        cols = []\n",
    "\n",
    "        ad_mat = coo_matrix((N, N), np.float32)\n",
    "\n",
    "        for idx in range(N):\n",
    "            nei_idx = 0\n",
    "            for nei in adjacency_list[idx]:\n",
    "                if not nei == idx:\n",
    "                    data.append(adjacency_dist[idx][nei_idx])\n",
    "                    rows.append(idx)\n",
    "                    cols.append(nei)\n",
    "                    data.append(adjacency_dist[idx][nei_idx])\n",
    "                    rows.append(nei)\n",
    "                    cols.append(idx)\n",
    "                    # ad_mat[idx, nei] = self.dist_adj[idx][nei_idx]\n",
    "                    # ad_mat[nei, idx] = self.dist_adj[idx][nei_idx]\n",
    "                nei_idx += 1\n",
    "\n",
    "        ad_mat = coo_matrix((data, (rows, cols)), shape=(N, N))\n",
    "        return ad_mat\n",
    "ad_mat = build_adjacency_mat(nodes, adjacency_list, adjacency_dist)"
   ]
  },
  {
   "cell_type": "code",
   "execution_count": 67,
   "metadata": {},
   "outputs": [
    {
     "name": "stdout",
     "output_type": "stream",
     "text": [
      "9 disconnected nodes\n",
      "[1, 8, 42, 41, 79, 54, 28, 2, 0]\n"
     ]
    }
   ],
   "source": [
    "#ad_mat = self.build_adjacency_mat()\n",
    "dist, pred = dijkstra(ad_mat, directed=False, indices=0, return_predecessors=True)\n",
    "print(f'{len(np.argwhere(pred == -9999))} disconnected nodes'), #np.argwhere(pred == -9999))\n",
    "pred[pred == -9999] = -100000000\n",
    "\n",
    "sp_list = []\n",
    "sp_length = dist[1]\n",
    "current_idx = 1\n",
    "sp_list.append(current_idx)\n",
    "while not current_idx == ad_mat.shape[0] - 2:\n",
    "    current_idx = pred[current_idx]\n",
    "    sp_list.append(current_idx)\n",
    "    if current_idx == 0:\n",
    "        break\n",
    "print(sp_list)\n",
    "waypoints = [nodes[idx].loc for idx in sp_list]"
   ]
  },
  {
   "cell_type": "code",
   "execution_count": 79,
   "metadata": {},
   "outputs": [],
   "source": [
    "dense_waypoints = []\n",
    "densify = 100\n",
    "for idx in range(len(waypoints)-1):\n",
    "    t = np.linspace(1,0,densify)\n",
    "    for tval in t:\n",
    "        dense_waypoints.append(waypoints[idx]*tval + waypoints[idx+1]*(1-tval))\n",
    "\n"
   ]
  },
  {
   "cell_type": "code",
   "execution_count": 89,
   "metadata": {},
   "outputs": [
    {
     "name": "stdout",
     "output_type": "stream",
     "text": [
      "0.0           \r"
     ]
    }
   ],
   "source": [
    "import time\n",
    "for ta in dense_waypoints:\n",
    "    qa = Ratfk.ComputeQValue(ta, np.zeros(7))\n",
    "    showres(qa)\n",
    "    time.sleep(0.01)"
   ]
  },
  {
   "cell_type": "code",
   "execution_count": 84,
   "metadata": {},
   "outputs": [],
   "source": [
    "color = Rgba(1,0,0,1.0)\n",
    "start_idx = 0\n",
    "for i, ta in enumerate(dense_waypoints):\n",
    "    qa = Ratfk.ComputeQValue(ta, np.zeros(7))\n",
    "    #showres(qa)\n",
    "    #time.sleep(0.1)            \n",
    "    set_joint_angles(qa)\n",
    "    tf_tot= plant.EvalBodyPoseInWorld(plant_context, plant.get_body(pydrake.multibody.tree.BodyIndex(7)))\n",
    "    tf = tf_tot.translation() + tf_tot.GetAsMatrix4()[:3,:3][:,1] *0.15\n",
    "\n",
    "    meshcat1.SetObject(f\"/iris/points/traj/{i+start_idx}\",\n",
    "                           Sphere(0.005),\n",
    "                           color)\n",
    "\n",
    "    meshcat1.SetTransform(f\"/iris/points/traj/{i+start_idx}\",\n",
    "                               RigidTransform(RotationMatrix(),\n",
    "                                              tf))"
   ]
  }
 ],
 "metadata": {
  "kernelspec": {
   "display_name": "Python 3",
   "language": "python",
   "name": "python3"
  },
  "language_info": {
   "codemirror_mode": {
    "name": "ipython",
    "version": 3
   },
   "file_extension": ".py",
   "mimetype": "text/x-python",
   "name": "python",
   "nbconvert_exporter": "python",
   "pygments_lexer": "ipython3",
   "version": "3.8.10"
  },
  "vscode": {
   "interpreter": {
    "hash": "82cb315f25884f6c3630a939a9e3f6fadbbb663bc25feb1745738a94b8acc172"
   }
  }
 },
 "nbformat": 4,
 "nbformat_minor": 2
}
