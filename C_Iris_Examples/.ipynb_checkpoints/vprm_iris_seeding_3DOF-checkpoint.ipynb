{
 "cells": [
  {
   "cell_type": "code",
   "execution_count": 1,
   "metadata": {},
   "outputs": [],
   "source": [
    "%load_ext autoreload"
   ]
  },
  {
   "cell_type": "code",
   "execution_count": 2,
   "metadata": {},
   "outputs": [],
   "source": [
    "import numpy as np\n",
    "from functools import partial\n",
    "import visualizations_utils as viz_utils\n",
    "from iris_plant_visualizer import IrisPlantVisualizer\n",
    "import ipywidgets as widgets\n",
    "from IPython.display import display"
   ]
  },
  {
   "cell_type": "code",
   "execution_count": 3,
   "metadata": {},
   "outputs": [],
   "source": [
    "#pydrake imports\n",
    "from pydrake.common import FindResourceOrThrow\n",
    "from pydrake.multibody.parsing import Parser\n",
    "from pydrake.multibody.plant import AddMultibodyPlantSceneGraph\n",
    "from pydrake.systems.framework import DiagramBuilder\n",
    "from pydrake.geometry import Role, GeometrySet, CollisionFilterDeclaration\n",
    "from pydrake.solvers import mathematicalprogram as mp\n",
    "from pydrake.all import RigidTransform, RollPitchYaw, RevoluteJoint\n",
    "\n",
    "import pydrake.multibody.rational_forward_kinematics as rational_forward_kinematics\n",
    "from pydrake.all import RationalForwardKinematics\n",
    "from pydrake.geometry.optimization import (IrisOptionsRationalSpace, \n",
    "                                           IrisInRationalConfigurationSpace, \n",
    "                                           HPolyhedron, \n",
    "                                           Hyperellipsoid,\n",
    "                                           Iris, IrisOptions)\n",
    "from visprm import VPRMSeeding"
   ]
  },
  {
   "cell_type": "markdown",
   "metadata": {},
   "source": [
    "# Build and set up the visualization the plant and the visualization of the C-space obstacle"
   ]
  },
  {
   "cell_type": "markdown",
   "metadata": {},
   "source": [
    "Note that running this cell multiple times will establish multiple meshcat instances which can fill up your memory. It is a good idea to call \"pkill -f meshcat\" from the command line before re-running this cell"
   ]
  },
  {
   "cell_type": "code",
   "execution_count": 4,
   "metadata": {
    "scrolled": true
   },
   "outputs": [
    {
     "name": "stderr",
     "output_type": "stream",
     "text": [
      "WARNING:drake:/home/peter/.cache/bazel/_bazel_peter/5aa5b6833d4da59efa7835f6457b4fa1/execroot/drake/bazel-out/k8-opt/bin/C_Iris_Examples/vprm_iris_seeding_3DOF.runfiles/drake/C_Iris_Examples/assets/twoDOF_iiwa7_with_box_collision.sdf:433: warning: Unsupported SDFormat element in model: plugin\n",
      "WARNING:drake:/home/peter/.cache/bazel/_bazel_peter/5aa5b6833d4da59efa7835f6457b4fa1/execroot/drake/bazel-out/k8-opt/bin/C_Iris_Examples/vprm_iris_seeding_3DOF.runfiles/drake/C_Iris_Examples/assets/twoDOF_iiwa7_with_box_collision.sdf:37: warning: Unsupported SDFormat element in link: velocity_decay\n",
      "WARNING:drake:/home/peter/.cache/bazel/_bazel_peter/5aa5b6833d4da59efa7835f6457b4fa1/execroot/drake/bazel-out/k8-opt/bin/C_Iris_Examples/vprm_iris_seeding_3DOF.runfiles/drake/C_Iris_Examples/assets/twoDOF_iiwa7_with_box_collision.sdf:38: warning: Unsupported SDFormat element in link: self_collide\n",
      "WARNING:drake:/home/peter/.cache/bazel/_bazel_peter/5aa5b6833d4da59efa7835f6457b4fa1/execroot/drake/bazel-out/k8-opt/bin/C_Iris_Examples/vprm_iris_seeding_3DOF.runfiles/drake/C_Iris_Examples/assets/twoDOF_iiwa7_with_box_collision.sdf:74: warning: Unsupported SDFormat element in link: velocity_decay\n",
      "WARNING:drake:/home/peter/.cache/bazel/_bazel_peter/5aa5b6833d4da59efa7835f6457b4fa1/execroot/drake/bazel-out/k8-opt/bin/C_Iris_Examples/vprm_iris_seeding_3DOF.runfiles/drake/C_Iris_Examples/assets/twoDOF_iiwa7_with_box_collision.sdf:75: warning: Unsupported SDFormat element in link: self_collide\n",
      "WARNING:drake:/home/peter/.cache/bazel/_bazel_peter/5aa5b6833d4da59efa7835f6457b4fa1/execroot/drake/bazel-out/k8-opt/bin/C_Iris_Examples/vprm_iris_seeding_3DOF.runfiles/drake/C_Iris_Examples/assets/twoDOF_iiwa7_with_box_collision.sdf:130: warning: Unsupported SDFormat element in link: velocity_decay\n",
      "WARNING:drake:/home/peter/.cache/bazel/_bazel_peter/5aa5b6833d4da59efa7835f6457b4fa1/execroot/drake/bazel-out/k8-opt/bin/C_Iris_Examples/vprm_iris_seeding_3DOF.runfiles/drake/C_Iris_Examples/assets/twoDOF_iiwa7_with_box_collision.sdf:131: warning: Unsupported SDFormat element in link: self_collide\n",
      "WARNING:drake:/home/peter/.cache/bazel/_bazel_peter/5aa5b6833d4da59efa7835f6457b4fa1/execroot/drake/bazel-out/k8-opt/bin/C_Iris_Examples/vprm_iris_seeding_3DOF.runfiles/drake/C_Iris_Examples/assets/twoDOF_iiwa7_with_box_collision.sdf:186: warning: Unsupported SDFormat element in link: velocity_decay\n",
      "WARNING:drake:/home/peter/.cache/bazel/_bazel_peter/5aa5b6833d4da59efa7835f6457b4fa1/execroot/drake/bazel-out/k8-opt/bin/C_Iris_Examples/vprm_iris_seeding_3DOF.runfiles/drake/C_Iris_Examples/assets/twoDOF_iiwa7_with_box_collision.sdf:187: warning: Unsupported SDFormat element in link: self_collide\n",
      "WARNING:drake:/home/peter/.cache/bazel/_bazel_peter/5aa5b6833d4da59efa7835f6457b4fa1/execroot/drake/bazel-out/k8-opt/bin/C_Iris_Examples/vprm_iris_seeding_3DOF.runfiles/drake/C_Iris_Examples/assets/twoDOF_iiwa7_with_box_collision.sdf:242: warning: Unsupported SDFormat element in link: velocity_decay\n",
      "WARNING:drake:/home/peter/.cache/bazel/_bazel_peter/5aa5b6833d4da59efa7835f6457b4fa1/execroot/drake/bazel-out/k8-opt/bin/C_Iris_Examples/vprm_iris_seeding_3DOF.runfiles/drake/C_Iris_Examples/assets/twoDOF_iiwa7_with_box_collision.sdf:243: warning: Unsupported SDFormat element in link: self_collide\n",
      "WARNING:drake:/home/peter/.cache/bazel/_bazel_peter/5aa5b6833d4da59efa7835f6457b4fa1/execroot/drake/bazel-out/k8-opt/bin/C_Iris_Examples/vprm_iris_seeding_3DOF.runfiles/drake/C_Iris_Examples/assets/twoDOF_iiwa7_with_box_collision.sdf:298: warning: Unsupported SDFormat element in link: velocity_decay\n",
      "WARNING:drake:/home/peter/.cache/bazel/_bazel_peter/5aa5b6833d4da59efa7835f6457b4fa1/execroot/drake/bazel-out/k8-opt/bin/C_Iris_Examples/vprm_iris_seeding_3DOF.runfiles/drake/C_Iris_Examples/assets/twoDOF_iiwa7_with_box_collision.sdf:299: warning: Unsupported SDFormat element in link: self_collide\n",
      "WARNING:drake:/home/peter/.cache/bazel/_bazel_peter/5aa5b6833d4da59efa7835f6457b4fa1/execroot/drake/bazel-out/k8-opt/bin/C_Iris_Examples/vprm_iris_seeding_3DOF.runfiles/drake/C_Iris_Examples/assets/twoDOF_iiwa7_with_box_collision.sdf:354: warning: Unsupported SDFormat element in link: velocity_decay\n",
      "WARNING:drake:/home/peter/.cache/bazel/_bazel_peter/5aa5b6833d4da59efa7835f6457b4fa1/execroot/drake/bazel-out/k8-opt/bin/C_Iris_Examples/vprm_iris_seeding_3DOF.runfiles/drake/C_Iris_Examples/assets/twoDOF_iiwa7_with_box_collision.sdf:355: warning: Unsupported SDFormat element in link: self_collide\n",
      "WARNING:drake:/home/peter/.cache/bazel/_bazel_peter/5aa5b6833d4da59efa7835f6457b4fa1/execroot/drake/bazel-out/k8-opt/bin/C_Iris_Examples/vprm_iris_seeding_3DOF.runfiles/drake/C_Iris_Examples/assets/twoDOF_iiwa7_with_box_collision.sdf:410: warning: Unsupported SDFormat element in link: velocity_decay\n",
      "WARNING:drake:/home/peter/.cache/bazel/_bazel_peter/5aa5b6833d4da59efa7835f6457b4fa1/execroot/drake/bazel-out/k8-opt/bin/C_Iris_Examples/vprm_iris_seeding_3DOF.runfiles/drake/C_Iris_Examples/assets/twoDOF_iiwa7_with_box_collision.sdf:411: warning: Unsupported SDFormat element in link: self_collide\n",
      "WARNING:drake:/home/peter/.cache/bazel/_bazel_peter/5aa5b6833d4da59efa7835f6457b4fa1/execroot/drake/bazel-out/k8-opt/bin/C_Iris_Examples/vprm_iris_seeding_3DOF.runfiles/drake/C_Iris_Examples/assets/oneDOF_iiwa7_with_box_collision.sdf:433: warning: Unsupported SDFormat element in model: plugin\n",
      "WARNING:drake:/home/peter/.cache/bazel/_bazel_peter/5aa5b6833d4da59efa7835f6457b4fa1/execroot/drake/bazel-out/k8-opt/bin/C_Iris_Examples/vprm_iris_seeding_3DOF.runfiles/drake/C_Iris_Examples/assets/oneDOF_iiwa7_with_box_collision.sdf:37: warning: Unsupported SDFormat element in link: velocity_decay\n",
      "WARNING:drake:/home/peter/.cache/bazel/_bazel_peter/5aa5b6833d4da59efa7835f6457b4fa1/execroot/drake/bazel-out/k8-opt/bin/C_Iris_Examples/vprm_iris_seeding_3DOF.runfiles/drake/C_Iris_Examples/assets/oneDOF_iiwa7_with_box_collision.sdf:38: warning: Unsupported SDFormat element in link: self_collide\n",
      "WARNING:drake:/home/peter/.cache/bazel/_bazel_peter/5aa5b6833d4da59efa7835f6457b4fa1/execroot/drake/bazel-out/k8-opt/bin/C_Iris_Examples/vprm_iris_seeding_3DOF.runfiles/drake/C_Iris_Examples/assets/oneDOF_iiwa7_with_box_collision.sdf:74: warning: Unsupported SDFormat element in link: velocity_decay\n",
      "WARNING:drake:/home/peter/.cache/bazel/_bazel_peter/5aa5b6833d4da59efa7835f6457b4fa1/execroot/drake/bazel-out/k8-opt/bin/C_Iris_Examples/vprm_iris_seeding_3DOF.runfiles/drake/C_Iris_Examples/assets/oneDOF_iiwa7_with_box_collision.sdf:75: warning: Unsupported SDFormat element in link: self_collide\n",
      "WARNING:drake:/home/peter/.cache/bazel/_bazel_peter/5aa5b6833d4da59efa7835f6457b4fa1/execroot/drake/bazel-out/k8-opt/bin/C_Iris_Examples/vprm_iris_seeding_3DOF.runfiles/drake/C_Iris_Examples/assets/oneDOF_iiwa7_with_box_collision.sdf:130: warning: Unsupported SDFormat element in link: velocity_decay\n",
      "WARNING:drake:/home/peter/.cache/bazel/_bazel_peter/5aa5b6833d4da59efa7835f6457b4fa1/execroot/drake/bazel-out/k8-opt/bin/C_Iris_Examples/vprm_iris_seeding_3DOF.runfiles/drake/C_Iris_Examples/assets/oneDOF_iiwa7_with_box_collision.sdf:131: warning: Unsupported SDFormat element in link: self_collide\n",
      "WARNING:drake:/home/peter/.cache/bazel/_bazel_peter/5aa5b6833d4da59efa7835f6457b4fa1/execroot/drake/bazel-out/k8-opt/bin/C_Iris_Examples/vprm_iris_seeding_3DOF.runfiles/drake/C_Iris_Examples/assets/oneDOF_iiwa7_with_box_collision.sdf:186: warning: Unsupported SDFormat element in link: velocity_decay\n",
      "WARNING:drake:/home/peter/.cache/bazel/_bazel_peter/5aa5b6833d4da59efa7835f6457b4fa1/execroot/drake/bazel-out/k8-opt/bin/C_Iris_Examples/vprm_iris_seeding_3DOF.runfiles/drake/C_Iris_Examples/assets/oneDOF_iiwa7_with_box_collision.sdf:187: warning: Unsupported SDFormat element in link: self_collide\n",
      "WARNING:drake:/home/peter/.cache/bazel/_bazel_peter/5aa5b6833d4da59efa7835f6457b4fa1/execroot/drake/bazel-out/k8-opt/bin/C_Iris_Examples/vprm_iris_seeding_3DOF.runfiles/drake/C_Iris_Examples/assets/oneDOF_iiwa7_with_box_collision.sdf:242: warning: Unsupported SDFormat element in link: velocity_decay\n",
      "WARNING:drake:/home/peter/.cache/bazel/_bazel_peter/5aa5b6833d4da59efa7835f6457b4fa1/execroot/drake/bazel-out/k8-opt/bin/C_Iris_Examples/vprm_iris_seeding_3DOF.runfiles/drake/C_Iris_Examples/assets/oneDOF_iiwa7_with_box_collision.sdf:243: warning: Unsupported SDFormat element in link: self_collide\n"
     ]
    },
    {
     "name": "stderr",
     "output_type": "stream",
     "text": [
      "WARNING:drake:/home/peter/.cache/bazel/_bazel_peter/5aa5b6833d4da59efa7835f6457b4fa1/execroot/drake/bazel-out/k8-opt/bin/C_Iris_Examples/vprm_iris_seeding_3DOF.runfiles/drake/C_Iris_Examples/assets/oneDOF_iiwa7_with_box_collision.sdf:298: warning: Unsupported SDFormat element in link: velocity_decay\n",
      "WARNING:drake:/home/peter/.cache/bazel/_bazel_peter/5aa5b6833d4da59efa7835f6457b4fa1/execroot/drake/bazel-out/k8-opt/bin/C_Iris_Examples/vprm_iris_seeding_3DOF.runfiles/drake/C_Iris_Examples/assets/oneDOF_iiwa7_with_box_collision.sdf:299: warning: Unsupported SDFormat element in link: self_collide\n",
      "WARNING:drake:/home/peter/.cache/bazel/_bazel_peter/5aa5b6833d4da59efa7835f6457b4fa1/execroot/drake/bazel-out/k8-opt/bin/C_Iris_Examples/vprm_iris_seeding_3DOF.runfiles/drake/C_Iris_Examples/assets/oneDOF_iiwa7_with_box_collision.sdf:354: warning: Unsupported SDFormat element in link: velocity_decay\n",
      "WARNING:drake:/home/peter/.cache/bazel/_bazel_peter/5aa5b6833d4da59efa7835f6457b4fa1/execroot/drake/bazel-out/k8-opt/bin/C_Iris_Examples/vprm_iris_seeding_3DOF.runfiles/drake/C_Iris_Examples/assets/oneDOF_iiwa7_with_box_collision.sdf:355: warning: Unsupported SDFormat element in link: self_collide\n",
      "WARNING:drake:/home/peter/.cache/bazel/_bazel_peter/5aa5b6833d4da59efa7835f6457b4fa1/execroot/drake/bazel-out/k8-opt/bin/C_Iris_Examples/vprm_iris_seeding_3DOF.runfiles/drake/C_Iris_Examples/assets/oneDOF_iiwa7_with_box_collision.sdf:410: warning: Unsupported SDFormat element in link: velocity_decay\n",
      "WARNING:drake:/home/peter/.cache/bazel/_bazel_peter/5aa5b6833d4da59efa7835f6457b4fa1/execroot/drake/bazel-out/k8-opt/bin/C_Iris_Examples/vprm_iris_seeding_3DOF.runfiles/drake/C_Iris_Examples/assets/oneDOF_iiwa7_with_box_collision.sdf:411: warning: Unsupported SDFormat element in link: self_collide\n",
      "INFO:drake:Meshcat listening for connections at http://localhost:7000\n",
      "INFO:drake:Meshcat listening for connections at http://localhost:7001\n",
      "/home/peter/git/vprmintegration/drake/C_Iris_Examples/iris_plant_visualizer.py:31: DrakeDeprecationWarning: MeshcatVisualizerCpp has been renamed to MeshcatVisualizer. The deprecated code will be removed from Drake on or after 2022-11-01.\n",
      "  self.vis = MeshcatVisualizerCpp.AddToBuilder(builder, scene_graph, self.meshcat1)\n"
     ]
    }
   ],
   "source": [
    "builder = DiagramBuilder()\n",
    "plant, scene_graph = AddMultibodyPlantSceneGraph(builder, time_step=0.001)\n",
    "parser = Parser(plant)\n",
    "oneDOF_iiwa_asset = FindResourceOrThrow(\"drake/C_Iris_Examples/assets/oneDOF_iiwa7_with_box_collision.sdf\")\n",
    "twoDOF_iiwa_asset = FindResourceOrThrow(\"drake/C_Iris_Examples/assets/twoDOF_iiwa7_with_box_collision.sdf\")\n",
    "\n",
    "box_asset = FindResourceOrThrow(\"drake/C_Iris_Examples/assets/box_small.urdf\")\n",
    "\n",
    "models = []\n",
    "models.append(parser.AddModelFromFile(box_asset))\n",
    "models.append(parser.AddModelFromFile(twoDOF_iiwa_asset))\n",
    "models.append(parser.AddModelFromFile(oneDOF_iiwa_asset))\n",
    "\n",
    "\n",
    "\n",
    "locs = [[0.,0.,0.],\n",
    "        [0.,.55,0.],\n",
    "        [0.,-.55,0.]]\n",
    "plant.WeldFrames(plant.world_frame(), \n",
    "                 plant.GetFrameByName(\"base\", models[0]),\n",
    "                 RigidTransform(locs[0]))\n",
    "plant.WeldFrames(plant.world_frame(), \n",
    "                 plant.GetFrameByName(\"iiwa_twoDOF_link_0\", models[1]), \n",
    "                 RigidTransform(RollPitchYaw([0,0, -np.pi/2]).ToRotationMatrix(), locs[1]))\n",
    "plant.WeldFrames(plant.world_frame(), \n",
    "                 plant.GetFrameByName(\"iiwa_oneDOF_link_0\", models[2]), \n",
    "                 RigidTransform(RollPitchYaw([0,0, -np.pi/2]).ToRotationMatrix(), locs[2]))\n",
    "\n",
    "\n",
    "plant.Finalize()\n",
    "\n",
    "idx = 0\n",
    "q0 = [0.0, 0.0, 0.0]\n",
    "q_low  = [-1.7, -2., -1.7]\n",
    "q_high = [ 1.7,  2.,  1.7]\n",
    "# set the joint limits of the plant\n",
    "for model in models:\n",
    "    for joint_index in plant.GetJointIndices(model):\n",
    "        joint = plant.get_mutable_joint(joint_index)\n",
    "        if isinstance(joint, RevoluteJoint):\n",
    "            joint.set_default_angle(q0[idx])\n",
    "            joint.set_position_limits(lower_limits= np.array([q_low[idx]]), upper_limits= np.array([q_high[idx]]))\n",
    "            idx += 1\n",
    "        \n",
    "# construct the RationalForwardKinematics of this plant. This object handles the\n",
    "# computations for the forward kinematics in the tangent-configuration space\n",
    "Ratfk = RationalForwardKinematics(plant)\n",
    "\n",
    "# the point about which we will take the stereographic projections\n",
    "q_star = np.zeros(3)\n",
    "\n",
    "#compute limits in t-space\n",
    "limits_t = []\n",
    "for q in [q_low, q_high]:\n",
    "    limits_t.append(Ratfk.ComputeTValue(np.array(q), q_star))\n",
    "\n",
    "do_viz = True\n",
    "\n",
    "# This line builds the visualization. Change the viz_role to Role.kIllustration if you\n",
    "# want to see the plant with its illustrated geometry or to Role.kProximity\n",
    "visualizer = IrisPlantVisualizer(plant, builder, scene_graph, viz_role=Role.kIllustration)\n",
    "diagram = visualizer.diagram\n",
    "\n",
    "# This line will run marching cubes to generate a mesh of the C-space obstacle\n",
    "# Increase N to increase the resolution of the C-space obstacle.\n",
    "visualizer.visualize_collision_constraint(N = 60)"
   ]
  },
  {
   "cell_type": "markdown",
   "metadata": {},
   "source": [
    "# Set up the sliders so we can move the plant around manually\n"
   ]
  },
  {
   "cell_type": "code",
   "execution_count": 5,
   "metadata": {},
   "outputs": [
    {
     "data": {
      "application/vnd.jupyter.widget-view+json": {
       "model_id": "1e4ec1d30a8145b1b73a5ae0716ac107",
       "version_major": 2,
       "version_minor": 0
      },
      "text/plain": [
       "FloatSlider(value=0.0, description='q0', max=1.7, min=-1.7)"
      ]
     },
     "metadata": {},
     "output_type": "display_data"
    },
    {
     "data": {
      "application/vnd.jupyter.widget-view+json": {
       "model_id": "410dce91185b451e9bac0d4103764a0a",
       "version_major": 2,
       "version_minor": 0
      },
      "text/plain": [
       "FloatSlider(value=0.0, description='q1', max=2.0, min=-2.0)"
      ]
     },
     "metadata": {},
     "output_type": "display_data"
    },
    {
     "data": {
      "application/vnd.jupyter.widget-view+json": {
       "model_id": "5c113d42b7cc40aa8dac49349a18f4c5",
       "version_major": 2,
       "version_minor": 0
      },
      "text/plain": [
       "FloatSlider(value=0.0, description='q2', max=1.7, min=-1.7)"
      ]
     },
     "metadata": {},
     "output_type": "display_data"
    }
   ],
   "source": [
    "sliders = []\n",
    "sliders.append(widgets.FloatSlider(min=q_low[0], max=q_high[0], value=0, description='q0'))\n",
    "sliders.append(widgets.FloatSlider(min=q_low[1], max=q_high[1], value=0, description='q1'))\n",
    "sliders.append(widgets.FloatSlider(min=q_low[2], max=q_high[2], value=0, description='q2'))\n",
    "\n",
    "q = q0.copy()\n",
    "def handle_slider_change(change, idx):\n",
    "    q[idx] = change['new']\n",
    "    visualizer.showres(q)\n",
    "    visualizer.visualize_planes()\n",
    "    \n",
    "idx = 0\n",
    "for slider in sliders:\n",
    "    slider.observe(partial(handle_slider_change, idx = idx), names='value')\n",
    "    idx+=1\n",
    "\n",
    "for slider in sliders:\n",
    "    display(slider)"
   ]
  },
  {
   "cell_type": "code",
   "execution_count": 6,
   "metadata": {},
   "outputs": [],
   "source": [
    "# filter fused joints self collisions so they don't interfere with collision engine\n",
    "digaram = visualizer.diagram\n",
    "context = visualizer.diagram_context\n",
    "sg_context = scene_graph.GetMyContextFromRoot(context)\n",
    "inspector = scene_graph.model_inspector()\n",
    "\n",
    "pairs = scene_graph.get_query_output_port().Eval(sg_context).inspector().GetCollisionCandidates()\n",
    "\n",
    "gids = [gid for gid in inspector.GetGeometryIds(GeometrySet(inspector.GetAllGeometryIds()), Role.kProximity)]\n",
    "get_name_of_gid = lambda gid : inspector.GetName(gid)\n",
    "gids.sort(key=get_name_of_gid)\n",
    "iiwa_oneDOF_gids = [gid for gid in gids if \"iiwa7_oneDOF::\" in get_name_of_gid(gid)]\n",
    "iiwa_twoDOF_gids = [gid for gid in gids if \"iiwa7_twoDOF::\" in get_name_of_gid(gid)]\n",
    "\n",
    "oneDOF_fused_col_geom = iiwa_oneDOF_gids[2:]\n",
    "iiwa_oneDOF_fused_set = GeometrySet(oneDOF_fused_col_geom)\n",
    "twoDOF_fused_col_geom = iiwa_twoDOF_gids[4:]\n",
    "iiwa_twoDOF_fused_set = GeometrySet(twoDOF_fused_col_geom)\n",
    "scene_graph.collision_filter_manager()\\\n",
    "            .Apply(CollisionFilterDeclaration().ExcludeWithin(iiwa_oneDOF_fused_set))\n",
    "scene_graph.collision_filter_manager()\\\n",
    "            .Apply(CollisionFilterDeclaration().ExcludeWithin(iiwa_twoDOF_fused_set))"
   ]
  },
  {
   "cell_type": "code",
   "execution_count": 7,
   "metadata": {},
   "outputs": [],
   "source": [
    "# Some examples of some seed points which give large regions using the\n",
    "# non-linear programming approach to IRIS described in Algorithm 3\n",
    "seed1 = np.array([ 1.6, -0.4, -1.3])\n",
    "seed2 = np.array([ 0.9, -0.9, -1.7])\n",
    "poi = np.array([seed1, seed2])\n",
    "poi_t = np.array([Ratfk.ComputeTValue(poi[idx], np.zeros((3,)))\\\n",
    "                        for idx in range(poi.shape[0])])\n",
    "if do_viz:\n",
    "    visualizer.plot_seedpoints(poi_t)"
   ]
  },
  {
   "cell_type": "markdown",
   "metadata": {},
   "source": [
    "# Setup SNOPT IRIS"
   ]
  },
  {
   "cell_type": "code",
   "execution_count": 8,
   "metadata": {},
   "outputs": [
    {
     "ename": "NameError",
     "evalue": "name 'iris_options' is not defined",
     "output_type": "error",
     "traceback": [
      "\u001b[0;31m---------------------------------------------------------------------------\u001b[0m",
      "\u001b[0;31mNameError\u001b[0m                                 Traceback (most recent call last)",
      "\u001b[0;32m<ipython-input-8-9a911cb05fe9>\u001b[0m in \u001b[0;36m<module>\u001b[0;34m\u001b[0m\n\u001b[1;32m     44\u001b[0m                             \u001b[0mcontext\u001b[0m \u001b[0;34m=\u001b[0m \u001b[0mcontext\u001b[0m\u001b[0;34m,\u001b[0m\u001b[0;34m\u001b[0m\u001b[0;34m\u001b[0m\u001b[0m\n\u001b[1;32m     45\u001b[0m                             \u001b[0msnoptiris_options\u001b[0m \u001b[0;34m=\u001b[0m \u001b[0msnopt_iris_options\u001b[0m\u001b[0;34m,\u001b[0m\u001b[0;34m\u001b[0m\u001b[0;34m\u001b[0m\u001b[0m\n\u001b[0;32m---> 46\u001b[0;31m                             \u001b[0miris_options\u001b[0m \u001b[0;34m=\u001b[0m \u001b[0miris_options\u001b[0m\u001b[0;34m,\u001b[0m\u001b[0;34m\u001b[0m\u001b[0;34m\u001b[0m\u001b[0m\n\u001b[0m\u001b[1;32m     47\u001b[0m                             default_domain = domain)\n",
      "\u001b[0;31mNameError\u001b[0m: name 'iris_options' is not defined"
     ]
    }
   ],
   "source": [
    "#regions = []\n",
    "#ellipses = []\n",
    "\n",
    "domain = HPolyhedron.MakeBox( Ratfk.ComputeTValue(q_low, np.zeros((3,))), Ratfk.ComputeTValue(q_high, np.zeros((3,))))\n",
    "snopt_iris_options = IrisOptionsRationalSpace()\n",
    "snopt_iris_options.require_sample_point_is_contained = True\n",
    "snopt_iris_options.iteration_limit = 20\n",
    "snopt_iris_options.configuration_space_margin = 1e-5\n",
    "snopt_iris_options.max_faces_per_collision_pair = 60\n",
    "snopt_iris_options.termination_threshold = -1\n",
    "snopt_iris_options.q_star = np.zeros(3)\n",
    "snopt_iris_options.relative_termination_threshold = 0.05\n",
    "#snopt_iris_options.enable_ibex = False\n",
    "\n",
    "# iris_options = IrisOptions()\n",
    "# iris_options.require_sample_point_is_contained = True\n",
    "# iris_options.iteration_limit = 5\n",
    "# iris_options.termination_threshold = -1\n",
    "# iris_options.relative_termination_threshold = 0.05\n",
    "\n",
    "def SNOPT_IRIS(q_seed,  regions, plant, context, snoptiris_options, default_domain):\n",
    "    #print('snopt iris call')\n",
    "    snoptiris_options.configuration_obstacles = []\n",
    "    if regions is not None:\n",
    "        obstacles = []\n",
    "        for r in regions:\n",
    "            offset = 0.25*np.min(1/np.linalg.eig(r.MaximumVolumeInscribedEllipsoid().A())[0])\n",
    "            rnew = HPolyhedron(r.A(), r.b()-offset)\n",
    "            obstacles.append(rnew)\n",
    "        snopt_iris_options.configuration_obstacles = obstacles\n",
    "    plant.SetPositions(plant.GetMyMutableContextFromRoot(context), q_seed.reshape(-1,1))\n",
    "    r = IrisInRationalConfigurationSpace(plant, plant.GetMyContextFromRoot(context), snoptiris_options, domain)\n",
    "    return r\n",
    "\n",
    "SNOPT_IRIS_Handle = partial(SNOPT_IRIS,\n",
    "                            plant = plant,\n",
    "                            context = context,\n",
    "                            snoptiris_options = snopt_iris_options,\n",
    "                            iris_options = iris_options,\n",
    "                            default_domain = domain)"
   ]
  },
  {
   "cell_type": "code",
   "execution_count": 9,
   "metadata": {},
   "outputs": [
    {
     "data": {
      "text/plain": [
       "[]"
      ]
     },
     "execution_count": 9,
     "metadata": {},
     "output_type": "execute_result"
    }
   ],
   "source": []
  },
  {
   "cell_type": "markdown",
   "metadata": {},
   "source": [
    "# Construct vis checker (here still sample based)"
   ]
  },
  {
   "cell_type": "code",
   "execution_count": 9,
   "metadata": {},
   "outputs": [],
   "source": [
    "def vis(q1, q2, num_checks, visualizer):\n",
    "    q1flat = q1.reshape(-1)\n",
    "    q2flat = q2.reshape(-1)\n",
    "    if np.linalg.norm(q1-q2) < 1e-6:\n",
    "        return [(1-visualizer.col_func_handle(q1))>0, None]\n",
    "    tvec = np.linspace(0,1, num_checks)\n",
    "    for t in tvec:\n",
    "        q = q1flat*t + (1-t)*q2flat\n",
    "        if visualizer.col_func_handle(q):\n",
    "            return [False, None]\n",
    "    else:\n",
    "        return [True, None]\n",
    "is_LOS = partial(vis, num_checks = 40, visualizer = visualizer)"
   ]
  },
  {
   "cell_type": "markdown",
   "metadata": {},
   "source": [
    "# Run Seeding Setup and Guard Phase\n"
   ]
  },
  {
   "cell_type": "code",
   "execution_count": 10,
   "metadata": {},
   "outputs": [
    {
     "name": "stdout",
     "output_type": "stream",
     "text": [
      "[VPRMSeeding] GuardInsertion attempts M: 44\n",
      "[VPRMSeeding] 0.9 probability that unseen region is less than 5.0 \"%\" of Cfree \n"
     ]
    }
   ],
   "source": [
    "np.random.seed(10)\n",
    "vs = VPRMSeeding(poi,\n",
    "                 alpha = 0.1,\n",
    "                 limits = [np.array(q_low), np.array(q_high)],\n",
    "                 collision_handle = visualizer.col_func_handle,\n",
    "                 is_in_line_of_sight = is_LOS, \n",
    "                 iris_handle=partial(SNOPT_IRIS_Handle, regions = None),\n",
    "                 iris_handle_with_obstacles = SNOPT_IRIS_Handle,\n",
    "                 point_to_region_conversion = partial(Ratfk.ComputeTValue, q_star_val = np.zeros(3))\n",
    "                 )\n",
    "\n",
    "vs.set_guard_regions()"
   ]
  },
  {
   "cell_type": "code",
   "execution_count": 11,
   "metadata": {},
   "outputs": [
    {
     "name": "stdout",
     "output_type": "stream",
     "text": [
      "1\n",
      "[VPRMSeeding] New guard placed N =  2\n",
      "[VPRMSeeding] Sample set size 1\n"
     ]
    }
   ],
   "source": [
    "vs.guard_phase()"
   ]
  },
  {
   "cell_type": "markdown",
   "metadata": {},
   "source": [
    "# Plot Results after Guard Phase"
   ]
  },
  {
   "cell_type": "code",
   "execution_count": 12,
   "metadata": {},
   "outputs": [
    {
     "data": {
      "image/png": "[encoded data removed]",
      "text/plain": [
       "<Figure size 432x288 with 1 Axes>"
      ]
     },
     "metadata": {},
     "output_type": "display_data"
    }
   ],
   "source": [
    "vs.draw_connectivity_graph()\n",
    "from pydrake.all import Rgba\n",
    "samples_t = np.array([Ratfk.ComputeTValue( vs.samples_outside_regions[q_s][0], np.zeros(3)) for q_s in vs.samples_outside_regions.keys()])\n",
    "seeds_t = np.array([Ratfk.ComputeTValue( p, np.zeros(3)) for p in vs.seed_points])\n",
    "\n",
    "vis_seed = [[seeds_t[vs.regions.index(k)] for k in vis2[1]] for vis2 in vs.samples_outside_regions.values()]\n",
    "visualizer.plot_points(seeds_t, size = 0.06, color = Rgba(1., 0.0, 1.0, 0.6), start_idx = 0, prefix = 'seed')\n",
    "visualizer.plot_points(samples_t, size = 0.02, color = Rgba(0., 0.1, 0.0, 0.3), start_idx = len(seeds_t), prefix = 'sample')\n",
    "visualizer.plot_regions(vs.regions,\n",
    "                        ellipses= None,#[r.MaximumVolumeInscribedEllipsoid() for r in vs.regions],\n",
    "                        region_suffix='_guard')"
   ]
  },
  {
   "cell_type": "markdown",
   "metadata": {},
   "source": [
    "# Connectivity Phase\n"
   ]
  },
  {
   "cell_type": "code",
   "execution_count": 13,
   "metadata": {},
   "outputs": [
    {
     "name": "stdout",
     "output_type": "stream",
     "text": [
      "[VPRMSeeding] Num connected Components Vis: 2\n",
      "[VPRMSeeding] New region added\n",
      "[VPRMSeeding] Sample set size 31 num keys to del  13\n"
     ]
    },
    {
     "data": {
      "text/plain": [
       "True"
      ]
     },
     "execution_count": 13,
     "metadata": {},
     "output_type": "execute_result"
    }
   ],
   "source": [
    "vs.connectivity_phase()"
   ]
  },
  {
   "cell_type": "code",
   "execution_count": 14,
   "metadata": {},
   "outputs": [
    {
     "data": {
      "image/png": "[encoded data removed]",
      "text/plain": [
       "<Figure size 432x288 with 1 Axes>"
      ]
     },
     "metadata": {},
     "output_type": "display_data"
    }
   ],
   "source": [
    "visualizer.plot_regions(vs.regions[len(vs.guard_regions):],\n",
    "                        ellipses=None, #[r.MaximumVolumeInscribedEllipsoid() for r in vs.regions[len(vs.guard_regions):]],\n",
    "                        region_suffix='_connectivity', colors=[(255,0,255) for i in range(len(vs.guard_regions))])\n",
    "vs.draw_connectivity_graph()"
   ]
  },
  {
   "cell_type": "markdown",
   "metadata": {},
   "source": [
    "# Experiments with default iris"
   ]
  },
  {
   "cell_type": "code",
   "execution_count": 23,
   "metadata": {},
   "outputs": [
    {
     "name": "stdout",
     "output_type": "stream",
     "text": [
      "[SNOPTIRIS] Domain succefully restricted\n"
     ]
    }
   ],
   "source": [
    "regions = vs.regions[:-1]\n",
    "obstacles = []\n",
    "q_seed = np.array([-0.51034035, -0.25427137, -0.65290974])\n",
    "for r in regions:\n",
    "    offset = 0.25*np.min(1/np.linalg.eig(r.MaximumVolumeInscribedEllipsoid().A())[0])\n",
    "    rnew = HPolyhedron(r.A(), r.b()-offset)\n",
    "    obstacles.append(rnew)\n",
    "try:\n",
    "    t_seed = Ratfk.ComputeTValue(q_seed, np.zeros((3,)))\n",
    "    domain_new = Iris(obstacles, t_seed, domain, iris_options)\n",
    "    print(\"[SNOPTIRIS] Domain succefully restricted\")\n",
    "except:\n",
    "    print(\"[SNOPTIRIS] Domain restriction failed\")\n",
    "    domain = default_domain"
   ]
  },
  {
   "cell_type": "code",
   "execution_count": 24,
   "metadata": {},
   "outputs": [
    {
     "data": {
      "text/plain": [
       "<pydrake.geometry.optimization.HPolyhedron at 0x7f227c3b1d70>"
      ]
     },
     "execution_count": 24,
     "metadata": {},
     "output_type": "execute_result"
    }
   ],
   "source": [
    "domain_new"
   ]
  },
  {
   "cell_type": "code",
   "execution_count": 28,
   "metadata": {},
   "outputs": [],
   "source": [
    "visualizer.plot_regions([domain_new],\n",
    "                        ellipses=None,\n",
    "                        region_suffix='_IRISstand', colors=[(255,255,0)])\n",
    "\n",
    "visualizer.plot_regions([domain],\n",
    "                        ellipses=None,\n",
    "                        region_suffix='_IRISstand2', colors=[(255,0,255)])\n",
    "visualizer.plot_regions(obstacles,\n",
    "                        ellipses=None,\n",
    "                        region_suffix='_obstacles', colors=[(0,255,0)]*len(obstacles))"
   ]
  },
  {
   "cell_type": "code",
   "execution_count": 35,
   "metadata": {},
   "outputs": [
    {
     "name": "stdout",
     "output_type": "stream",
     "text": [
      "[ 1.6 -0.4 -1.3]\n"
     ]
    }
   ],
   "source": [
    "print(poi[0])\n",
    "a = partial(Ratfk.ComputeTValue, q_star_val = np.zeros(3))"
   ]
  },
  {
   "cell_type": "code",
   "execution_count": 36,
   "metadata": {},
   "outputs": [
    {
     "name": "stdout",
     "output_type": "stream",
     "text": [
      "[ 1.02963856 -0.20271004 -0.7602044 ]\n",
      "[ 1.6 -0.4 -1.3]\n"
     ]
    }
   ],
   "source": [
    "print(a(poi[0]))\n",
    "print(poi[0])"
   ]
  },
  {
   "cell_type": "code",
   "execution_count": 37,
   "metadata": {},
   "outputs": [
    {
     "name": "stdout",
     "output_type": "stream",
     "text": [
      "[ 1.02963856 -0.20271004 -0.7602044 ]\n",
      "[ 1.6 -0.4 -1.3]\n"
     ]
    }
   ],
   "source": [
    "print(Ratfk.ComputeTValue(poi[0], np.zeros(3)))\n",
    "print(poi[0])"
   ]
  },
  {
   "cell_type": "code",
   "execution_count": null,
   "metadata": {},
   "outputs": [],
   "source": []
  }
 ],
 "metadata": {
  "kernelspec": {
   "display_name": "Python 3",
   "language": "python",
   "name": "python3"
  },
  "language_info": {
   "codemirror_mode": {
    "name": "ipython",
    "version": 3
   },
   "file_extension": ".py",
   "mimetype": "text/x-python",
   "name": "python",
   "nbconvert_exporter": "python",
   "pygments_lexer": "ipython3",
   "version": "3.8.10"
  },
  "vscode": {
   "interpreter": {
    "hash": "82cb315f25884f6c3630a939a9e3f6fadbbb663bc25feb1745738a94b8acc172"
   }
  }
 },
 "nbformat": 4,
 "nbformat_minor": 2
}
