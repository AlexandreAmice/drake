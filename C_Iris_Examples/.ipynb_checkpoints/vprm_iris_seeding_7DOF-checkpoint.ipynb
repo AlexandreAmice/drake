{
 "cells": [
  {
   "cell_type": "code",
   "execution_count": 1,
   "metadata": {},
   "outputs": [],
   "source": [
    "%load_ext autoreload"
   ]
  },
  {
   "cell_type": "code",
   "execution_count": 2,
   "metadata": {},
   "outputs": [],
   "source": [
    "import numpy as np\n",
    "from functools import partial\n",
    "import visualizations_utils as viz_utils\n",
    "from iris_plant_visualizer import IrisPlantVisualizer\n",
    "import ipywidgets as widgets\n",
    "from IPython.display import display"
   ]
  },
  {
   "cell_type": "code",
   "execution_count": 3,
   "metadata": {},
   "outputs": [],
   "source": [
    "#pydrake imports\n",
    "import pydrake\n",
    "from pydrake.common import FindResourceOrThrow\n",
    "from pydrake.multibody.parsing import Parser\n",
    "from pydrake.multibody.plant import AddMultibodyPlantSceneGraph\n",
    "from pydrake.systems.framework import DiagramBuilder\n",
    "from pydrake.geometry import Role, GeometrySet, CollisionFilterDeclaration\n",
    "from pydrake.solvers import mathematicalprogram as mp\n",
    "from pydrake.all import RigidTransform, RollPitchYaw, RevoluteJoint, Role\n",
    "\n",
    "import pydrake.multibody.rational_forward_kinematics as rational_forward_kinematics\n",
    "from pydrake.all import RationalForwardKinematics\n",
    "from pydrake.geometry.optimization import (IrisOptionsRationalSpace, \n",
    "                                           IrisInRationalConfigurationSpace, \n",
    "                                           HPolyhedron, \n",
    "                                           Hyperellipsoid,\n",
    "                                           Iris, IrisOptions)\n",
    "from pydrake.common import FindResourceOrThrow\n",
    "#from pydrake.all import ConnectMeshcatVisualizer\n",
    "from pydrake.all import MeshcatVisualizerCpp, MeshcatVisualizerParams, Role, StartMeshcat,InverseKinematics, RotationMatrix\n",
    "from meshcat import Visualizer\n",
    "from visprm import VPRMSeeding, RandSeeding"
   ]
  },
  {
   "cell_type": "code",
   "execution_count": 4,
   "metadata": {},
   "outputs": [
    {
     "name": "stderr",
     "output_type": "stream",
     "text": [
      "INFO:drake:Meshcat listening for connections at http://localhost:7001\n"
     ]
    }
   ],
   "source": [
    "meshcat1 = StartMeshcat()\n",
    "meshcat1.Delete()"
   ]
  },
  {
   "cell_type": "code",
   "execution_count": 5,
   "metadata": {},
   "outputs": [
    {
     "name": "stderr",
     "output_type": "stream",
     "text": [
      "<ipython-input-5-f3400fdd0b71>:21: DrakeDeprecationWarning: MeshcatVisualizerCpp has been renamed to MeshcatVisualizer. The deprecated code will be removed from Drake on or after 2022-11-01.\n",
      "  visualizer = MeshcatVisualizerCpp.AddToBuilder(builder, scene_graph, meshcat1)\n"
     ]
    }
   ],
   "source": [
    "\n",
    "#model_file = FindResourceOrThrow(\"drake/manipulation/models/iiwa_description/urdf/iiwa14_polytope_collision.urdf\")\n",
    "model_file = FindResourceOrThrow(\"drake/manipulation/models/iiwa_description/iiwa7/iiwa7_with_box_collision.sdf\")\n",
    "\n",
    "#model_file = FindResourceOrThrow(\"drake/manipulation/models/iiwa_description/iiwa7/iiwa7_no_collision.sdf\")\n",
    "#model_file = FindResourceOrThrow(\"drake/manipulation/models/iiwa_description/sdf/iiwa14_no_collision.sdf\")\n",
    "\n",
    "#box_file = FindResourceOrThrow(\"drake/sandbox/assets/box.urdf\")\n",
    "box_file_1 = FindResourceOrThrow(\"drake/C_Iris_Examples/assets/shelves1.sdf\")\n",
    "box_file_2 = FindResourceOrThrow(\"drake/C_Iris_Examples/assets/shelves2.sdf\")\n",
    "box_file_3 = FindResourceOrThrow(\"drake/C_Iris_Examples/assets/shelves3.sdf\")\n",
    "box_file_4 = FindResourceOrThrow(\"drake/C_Iris_Examples/assets/shelves4.sdf\")\n",
    "lid_file = FindResourceOrThrow(\"drake/C_Iris_Examples/assets/lid.urdf\")\n",
    "ground_file = FindResourceOrThrow(\"drake/C_Iris_Examples/assets/ground.urdf\")\n",
    "\n",
    "models =[]\n",
    "\n",
    "builder = DiagramBuilder()\n",
    "\n",
    "\n",
    "plant, scene_graph = AddMultibodyPlantSceneGraph(builder, time_step=1e-4)\n",
    "visualizer = MeshcatVisualizerCpp.AddToBuilder(builder, scene_graph, meshcat1)\n",
    "models.append(Parser(plant, scene_graph).AddModelFromFile(model_file))\n",
    "\n",
    "models.append(Parser(plant, scene_graph).AddModelFromFile(box_file_1))\n",
    "models.append(Parser(plant, scene_graph).AddModelFromFile(box_file_2))\n",
    "models.append(Parser(plant, scene_graph).AddModelFromFile(box_file_3))\n",
    "models.append(Parser(plant, scene_graph).AddModelFromFile(box_file_4))\n",
    "models.append(Parser(plant, scene_graph).AddModelFromFile(lid_file))\n",
    "models.append(Parser(plant, scene_graph).AddModelFromFile(ground_file))\n",
    "\n",
    "sp = 0.4\n",
    "x_fac = 1.2\n",
    "locs = [ [0,0,0], \n",
    "        [x_fac*sp, 1.4*sp,0.4], [x_fac*sp,-1.4*sp,0.4], [-x_fac*sp,-1.4*sp,0.4], [-x_fac*sp,1.4*sp,0.4], \n",
    "        [0.0 ,0 , 0.95], [0.0 ,0 , -0.05]] \n",
    "idx = 0\n",
    "for model in models:\n",
    "    plant.WeldFrames(plant.world_frame(), plant.get_body(plant.GetBodyIndices(model)[0]).body_frame(), RigidTransform(locs[idx]))\n",
    "    idx +=1\n",
    "    \n",
    "    \n",
    "plant.Finalize()\n",
    "#visualizer = ConnectMeshcatVisualizer(builder, scene_graph, zmq_url=zmq_url, delete_prefix_on_load=False, )\n",
    "\n",
    "diagram = builder.Build()\n",
    "context = diagram.CreateDefaultContext()\n",
    "plant_context = plant.GetMyContextFromRoot(context)\n",
    "diagram.Publish(context)\n",
    "Ratfk = RationalForwardKinematics(plant)"
   ]
  },
  {
   "cell_type": "code",
   "execution_count": 6,
   "metadata": {},
   "outputs": [],
   "source": [
    "sliders = []\n",
    "for joint_idx in range(1,8):\n",
    "    sliders.append(\n",
    "        widgets.FloatSlider(\n",
    "        min=plant.GetJointByName(f\"iiwa_joint_{joint_idx}\").position_lower_limit(), \n",
    "        max=plant.GetJointByName(f\"iiwa_joint_{joint_idx}\").position_upper_limit(), \n",
    "        value=0, \n",
    "        description=f'iiwa_joint_{joint_idx}'\n",
    "        )\n",
    "    )\n",
    "\n",
    "ik = InverseKinematics(plant, plant_context)\n",
    "collision_constraint = ik.AddMinimumDistanceConstraint(0.001, 0.001)\n",
    "\n",
    "def eval_cons(q, c, tol):\n",
    "    return 1-1*float(c.evaluator().CheckSatisfied(q, tol))\n",
    "    \n",
    "col_func_handle = partial(eval_cons, c=collision_constraint, tol=0.01)\n",
    "    \n",
    "def showres(q):\n",
    "    for joint_idx in range(1,8):\n",
    "        plant.GetJointByName(f\"iiwa_joint_{joint_idx}\").set_angle(plant_context, q[joint_idx-1])\n",
    "    col = col_func_handle(q)\n",
    "#     if col:\n",
    "#         vis[\"collision\"].set_object(\n",
    "#                 meshcat.geometry.Sphere(0.1), meshcat.geometry.MeshLambertMaterial(color=0xFF0000))\n",
    "#         vis[\"collision\"].set_transform(\n",
    "#                 meshcat.transformations.translation_matrix([0, 1.0, 1.0]))\n",
    "#     else:\n",
    "#         vis[\"collision\"].set_object(\n",
    "#                 meshcat.geometry.Sphere(0.1), meshcat.geometry.MeshLambertMaterial(color=0x00FF00))\n",
    "#         vis[\"collision\"].set_transform(\n",
    "#                 meshcat.transformations.translation_matrix([0, 1.0, 1.0]))\n",
    "    diagram.Publish(context)\n",
    "    print(\"              \", end = \"\\r\")\n",
    "    print(col , end = \"\\r\")\n",
    "\n",
    "    \n",
    "def set_joint_angles(vals):\n",
    "    for idx in range(1,8):\n",
    "        plant.GetJointByName(f\"iiwa_joint_{idx}\").set_angle(plant_context, vals[idx-1])\n",
    "    \n",
    "    \n",
    "    \n",
    "q_init = [0.0, 0.0, 0.0, 0.0, 0.0, 0.0, 0.0]\n",
    "# q_start = [-1.37, -1.39, -1.57, -1.19, -1.57, 0.00, 0.00]\n",
    "# q_end = [1.53, -1.19, 1.83, 0.91, -1.27, -0.59, 0.00]\n",
    "q = q_init.copy()\n",
    "def handle_slider_change(change, idx):\n",
    "    q[idx] = change['new']\n",
    "    #print(q, end=\"\\r\")\n",
    "    showres(q)\n",
    "    \n",
    "idx = 0\n",
    "for slider in sliders:\n",
    "    slider.observe(partial(handle_slider_change, idx = idx), names='value')\n",
    "    idx+=1"
   ]
  },
  {
   "cell_type": "code",
   "execution_count": 7,
   "metadata": {},
   "outputs": [],
   "source": [
    "from pydrake.all import Rgba, Sphere\n",
    "\n",
    "def plot_points(points, \n",
    "                size = 0.02, \n",
    "                color = Rgba(0.06, 0.0, 0, 1), \n",
    "                start_idx = 0, \n",
    "                prefix = 'point'):\n",
    "       \n",
    "        \n",
    "        for i in range(points.shape[0]):\n",
    "            pt = points[i]\n",
    "            set_joint_angles(pt)\n",
    "            tf_tot= plant.EvalBodyPoseInWorld(plant_context, plant.get_body(pydrake.multibody.tree.BodyIndex(7)))\n",
    "            tf = tf_tot.translation() + tf_tot.GetAsMatrix4()[:3,:3][:,1] *0.15\n",
    "            \n",
    "            meshcat1.SetObject(f\"/iris/points/{prefix}/{i+start_idx}\",\n",
    "                                   Sphere(size),\n",
    "                                   color)\n",
    "            \n",
    "            meshcat1.SetTransform(f\"/iris/points/{prefix}/{i+start_idx}\",\n",
    "                                       RigidTransform(RotationMatrix(),\n",
    "                                                      tf))"
   ]
  },
  {
   "cell_type": "code",
   "execution_count": 8,
   "metadata": {},
   "outputs": [
    {
     "data": {
      "application/vnd.jupyter.widget-view+json": {
       "model_id": "81b6a98f70d44fec9b49ea52f116070f",
       "version_major": 2,
       "version_minor": 0
      },
      "text/plain": [
       "FloatSlider(value=0.0, description='iiwa_joint_1', max=2.96706, min=-2.96706)"
      ]
     },
     "metadata": {},
     "output_type": "display_data"
    },
    {
     "data": {
      "application/vnd.jupyter.widget-view+json": {
       "model_id": "faf01f3416b94f8891115ac038706805",
       "version_major": 2,
       "version_minor": 0
      },
      "text/plain": [
       "FloatSlider(value=0.0, description='iiwa_joint_2', max=2.0944, min=-2.0944)"
      ]
     },
     "metadata": {},
     "output_type": "display_data"
    },
    {
     "data": {
      "application/vnd.jupyter.widget-view+json": {
       "model_id": "1283efa4ef054257b2f6df71f6ffb8ee",
       "version_major": 2,
       "version_minor": 0
      },
      "text/plain": [
       "FloatSlider(value=0.0, description='iiwa_joint_3', max=2.96706, min=-2.96706)"
      ]
     },
     "metadata": {},
     "output_type": "display_data"
    },
    {
     "data": {
      "application/vnd.jupyter.widget-view+json": {
       "model_id": "02fc47d947a3440e819ad6256973ada9",
       "version_major": 2,
       "version_minor": 0
      },
      "text/plain": [
       "FloatSlider(value=0.0, description='iiwa_joint_4', max=2.0944, min=-2.0944)"
      ]
     },
     "metadata": {},
     "output_type": "display_data"
    },
    {
     "data": {
      "application/vnd.jupyter.widget-view+json": {
       "model_id": "debfd3078ef64aecaad28a7dca298210",
       "version_major": 2,
       "version_minor": 0
      },
      "text/plain": [
       "FloatSlider(value=0.0, description='iiwa_joint_5', max=2.96706, min=-2.96706)"
      ]
     },
     "metadata": {},
     "output_type": "display_data"
    },
    {
     "data": {
      "application/vnd.jupyter.widget-view+json": {
       "model_id": "60839a5e4a124952a0788d5ce260d1c5",
       "version_major": 2,
       "version_minor": 0
      },
      "text/plain": [
       "FloatSlider(value=0.0, description='iiwa_joint_6', max=2.0944, min=-2.0944)"
      ]
     },
     "metadata": {},
     "output_type": "display_data"
    },
    {
     "data": {
      "application/vnd.jupyter.widget-view+json": {
       "model_id": "786fd0f4b37f4b42af7ebca05753c97f",
       "version_major": 2,
       "version_minor": 0
      },
      "text/plain": [
       "FloatSlider(value=0.0, description='iiwa_joint_7', max=3.05433, min=-3.05433)"
      ]
     },
     "metadata": {},
     "output_type": "display_data"
    }
   ],
   "source": [
    "for slider in sliders:\n",
    "    display(slider)"
   ]
  },
  {
   "cell_type": "code",
   "execution_count": 9,
   "metadata": {},
   "outputs": [
    {
     "name": "stdout",
     "output_type": "stream",
     "text": [
      "              \r",
      "0.0\r"
     ]
    }
   ],
   "source": [
    "#problem config\n",
    "start = np.array([1.13294, 1.3056, 0.03294, -1.2944, -1.76706, 1.5056, 0.0])\n",
    "target = np.array([-1.86706, 0.5056, -0.26706, -1.0944, -1.36706, 1.1056, 0.04567])\n",
    "\n",
    "poi = np.array([[1.13294, 1.3056, 0.03294, -1.2944, -1.76706, 1.5056, 0.0],\n",
    "                [-1.96706,  1.3056 ,  0.03294, -1.2944 , -1.76706,  1.5056 ,\n",
    "        0.     ],\n",
    "                [-1.86706, 0.5056, -0.26706, -1.0944, -1.36706, 1.1056, 0.04567],\n",
    "         [-1.26706,  0.9056 ,  0.13294, -1.0944 , -1.66706, -1.1944 ,\n",
    "        0.04567],\n",
    "         [-1.26706,  1.3056 ,  0.13294, -1.0944 , -1.46706, -1.1944 ,\n",
    "        0.04567],\n",
    "         [-1.26706,  1.2056 , -0.16706,  0.1056 , -1.46706, -1.1944 ,\n",
    "        0.04567],\n",
    "         [ 1.13294,  0.8056 ,  0.03294, -1.2944 , -1.76706,  1.5056 ,\n",
    "        0.     ],\n",
    "         [ 1.03294,  0.1056 , -0.06706, -1.5944 , -1.46706,  1.0056 ,\n",
    "        0.     ],\n",
    "        [-1.76706,  0.9056 , -0.26706, -1.0944 , -1.36706,  1.1056 ,\n",
    "        0.04567],\n",
    "        [ 2.03294,  0.9056 , -0.26706, -1.0944 , -1.16706, -1.2944 ,\n",
    "        0.04567],\n",
    "         [ 2.23294,  0.6056 , -0.26706, -1.0944 , -1.46706, -1.2944 ,\n",
    "        0.04567],\n",
    "          [ 1.83294,  1.9056 , -0.16706,  0.2056 , -1.36706, -1.1944 ,\n",
    "        0.04567],])\n",
    "         # [0.03294, 1.7056, -1.26706, -0.5944, 0.0, 1.2056, -0.05433]\n",
    "\n",
    "\n",
    "\n",
    "showres(target)\n",
    "limits_q =[plant.GetPositionLowerLimits(), plant.GetPositionUpperLimits()]\n",
    "limits_t = [Ratfk.ComputeTValue(l, np.zeros(len(l))) for l in limits_q]\n",
    "#poi = [start, target]\n",
    "plot_points(np.array(poi))"
   ]
  },
  {
   "cell_type": "code",
   "execution_count": 10,
   "metadata": {},
   "outputs": [
    {
     "data": {
      "text/plain": [
       "[0.0, 0.0, 0.0, 0.0, 0.0, 0.0, 0.0]"
      ]
     },
     "execution_count": 10,
     "metadata": {},
     "output_type": "execute_result"
    }
   ],
   "source": [
    "q"
   ]
  },
  {
   "cell_type": "markdown",
   "metadata": {},
   "source": [
    "# Setup SNOPT IRIS"
   ]
  },
  {
   "cell_type": "code",
   "execution_count": 11,
   "metadata": {},
   "outputs": [],
   "source": [
    "domain = HPolyhedron.MakeBox(limits_t[0], limits_t[1])\n",
    "snopt_iris_options = IrisOptionsRationalSpace()\n",
    "snopt_iris_options.require_sample_point_is_contained = True\n",
    "snopt_iris_options.iteration_limit = 20\n",
    "snopt_iris_options.configuration_space_margin = 1e-3\n",
    "snopt_iris_options.max_faces_per_collision_pair = 60\n",
    "snopt_iris_options.termination_threshold = -1\n",
    "snopt_iris_options.q_star = np.zeros(7)\n",
    "snopt_iris_options.relative_termination_threshold = 0.05\n",
    "\n",
    "\n",
    "\n",
    "def SNOPT_IRIS(q_seed,  regions, plant, context, snoptiris_options, default_domain):\n",
    "    #print('snopt iris call')\n",
    "    snoptiris_options.configuration_obstacles = []\n",
    "    if regions is not None:\n",
    "        obstacles = []\n",
    "        for r in regions:\n",
    "            offset = 0.25*np.min(1/np.linalg.eig(r.MaximumVolumeInscribedEllipsoid().A())[0])\n",
    "            rnew = HPolyhedron(r.A(), r.b()-offset)\n",
    "            obstacles.append(rnew)\n",
    "        snopt_iris_options.configuration_obstacles = obstacles\n",
    "    plant.SetPositions(plant.GetMyMutableContextFromRoot(context), q_seed.reshape(-1,1))\n",
    "    r = IrisInRationalConfigurationSpace(plant, plant.GetMyContextFromRoot(context), snoptiris_options, domain)\n",
    "    return r\n",
    "\n",
    "SNOPT_IRIS_Handle = partial(SNOPT_IRIS,\n",
    "                            plant = plant,\n",
    "                            context = context,\n",
    "                            snoptiris_options = snopt_iris_options,\n",
    "                            default_domain = domain)"
   ]
  },
  {
   "cell_type": "markdown",
   "metadata": {},
   "source": [
    "# Construct vis checker (here still sample based)"
   ]
  },
  {
   "cell_type": "code",
   "execution_count": 12,
   "metadata": {},
   "outputs": [],
   "source": [
    "def vis(q1, q2, num_checks, col_func_handle):\n",
    "    q1flat = q1.reshape(-1)\n",
    "    q2flat = q2.reshape(-1)\n",
    "    if np.linalg.norm(q1-q2) < 1e-6:\n",
    "        return [(1-col_func_handle(q1))>0, None]\n",
    "    tvec = np.linspace(0,1, num_checks)\n",
    "    for t in tvec:\n",
    "        q = q1flat*t + (1-t)*q2flat\n",
    "        if col_func_handle(q):\n",
    "            return [False, None]\n",
    "    else:\n",
    "        return [True, None]\n",
    "is_LOS = partial(vis, num_checks = 40, col_func_handle = col_func_handle)"
   ]
  },
  {
   "cell_type": "markdown",
   "metadata": {},
   "source": [
    "# Run Seeding Setup and Guard Phase"
   ]
  },
  {
   "cell_type": "code",
   "execution_count": 13,
   "metadata": {},
   "outputs": [
    {
     "name": "stdout",
     "output_type": "stream",
     "text": [
      "[18:37:46] [VPRMSeeding] Expecting points of interest in q\n",
      "[18:37:46] [VPRMSeeding] GuardInsertion attempts M: 44\n",
      "[18:37:46] [VPRMSeeding] 0.9 probability that unseen region is less than 5.0 \"%\" of Cfree \n",
      "[18:38:09] [VPRMSeeding] Checkpoint loaded successfully, current state is at end of guard phase\n"
     ]
    }
   ],
   "source": [
    "LOAD_CHECKPOINT = True\n",
    "np.random.seed(11)\n",
    "vs = VPRMSeeding(poi,\n",
    "                 alpha = 0.1,\n",
    "                 limits = limits_q,\n",
    "                 collision_handle = col_func_handle,\n",
    "                 is_in_line_of_sight = is_LOS, \n",
    "                 iris_handle=partial(SNOPT_IRIS_Handle, regions = None),\n",
    "                 iris_handle_with_obstacles = SNOPT_IRIS_Handle,\n",
    "                 point_to_region_conversion = partial(Ratfk.ComputeTValue, q_star_val = np.zeros(7))\n",
    "                 )\n",
    "if not LOAD_CHECKPOINT:\n",
    "    vs.set_guard_regions()\n",
    "else:\n",
    "    import pickle\n",
    "    path = 'seedingcheckpoints/7DOF_VPRMSeeding_state4.pickle'\n",
    "    with open(path, 'rb') as f:\n",
    "        checkpoint = pickle.load(f)\n",
    "    vs.load_checkpoint(checkpoint)"
   ]
  },
  {
   "cell_type": "code",
   "execution_count": 14,
   "metadata": {},
   "outputs": [
    {
     "name": "stdout",
     "output_type": "stream",
     "text": [
      "done\n"
     ]
    }
   ],
   "source": [
    "if not LOAD_CHECKPOINT:\n",
    "    vs.guard_phase()\n",
    "    seed_points = vs.seed_points\n",
    "    regions_A = [r.A() for r in vs.regions]\n",
    "    regions_b = [r.b() for r in vs.regions]\n",
    "    sample_set_points = [s[0] for s in vs.samples_outside_regions.values()]\n",
    "    sample_set_vis_regions = [[vs.regions.index(rs) for rs in s[1]] for s in vs.samples_outside_regions.values()]\n",
    "\n",
    "    data_checkpoint = {'seedpoints': seed_points, \n",
    "                       'regionsA': regions_A,\n",
    "                       'regionsB': regions_b,\n",
    "                       'sample_set_points': sample_set_points,\n",
    "                       'sample_set_vis_regions':sample_set_vis_regions}\n",
    "\n",
    "    import pickle\n",
    "    with open(\"7DOF_VPRMSeeding_state4.pickle\", \"wb\") as f:\n",
    "        pickle.dump(data_checkpoint,f)\n",
    "else: \n",
    "    print('done')"
   ]
  },
  {
   "cell_type": "markdown",
   "metadata": {},
   "source": [
    "# Plot Results after Guard Phase"
   ]
  },
  {
   "cell_type": "code",
   "execution_count": 15,
   "metadata": {},
   "outputs": [
    {
     "data": {
      "image/png": "[encoded data removed]",
      "text/plain": [
       "<Figure size 432x288 with 1 Axes>"
      ]
     },
     "metadata": {},
     "output_type": "display_data"
    }
   ],
   "source": [
    "vs.draw_connectivity_graph()\n",
    "sampleset = [v[0] for v in vs.samples_outside_regions.values()]\n",
    "plot_points(np.array(vs.seed_points), prefix = 'guard', color = Rgba(0.06, 0.0, 0.8, 1))\n",
    "plot_points(np.array(sampleset), size=0.01, prefix = 'sampleset', color = Rgba(0.06, 0.8, 0.8, 1))"
   ]
  },
  {
   "cell_type": "markdown",
   "metadata": {},
   "source": [
    "# Connectivity Phase"
   ]
  },
  {
   "cell_type": "code",
   "execution_count": 16,
   "metadata": {},
   "outputs": [
    {
     "name": "stdout",
     "output_type": "stream",
     "text": [
      "[18:38:09] [VPRMSeeding] Num connected Components Vis: 7\n",
      "[18:38:34] [VPRMSeeding] New region added [ 0.14485614 -0.64378675 -0.23224519 -2.0487365   0.93840752 -1.49935219\n",
      " -1.15192691]\n",
      "[18:38:34] [VPRMSeeding] Sample set size 563 num keys to del  1\n",
      "[18:38:34] [VPRMSeeding] Num connected Components Vis: 5\n",
      "[18:39:13] [VPRMSeeding] New region added [-0.5264382  -0.72069377 -0.1104446  -1.99281799 -0.63715655  0.09968943\n",
      "  1.14766959]\n",
      "[18:39:13] [VPRMSeeding] Sample set size 561 num keys to del  2\n"
     ]
    },
    {
     "data": {
      "text/plain": [
       "True"
      ]
     },
     "execution_count": 16,
     "metadata": {},
     "output_type": "execute_result"
    }
   ],
   "source": [
    "vs.connectivity_phase() "
   ]
  },
  {
   "cell_type": "code",
   "execution_count": 17,
   "metadata": {},
   "outputs": [
    {
     "data": {
      "image/png": "[encoded data removed]",
      "text/plain": [
       "<Figure size 432x288 with 1 Axes>"
      ]
     },
     "metadata": {},
     "output_type": "display_data"
    }
   ],
   "source": [
    "vs.draw_connectivity_graph()"
   ]
  },
  {
   "cell_type": "markdown",
   "metadata": {},
   "source": [
    "# Build Configuartion Graph for SPP"
   ]
  },
  {
   "cell_type": "code",
   "execution_count": 18,
   "metadata": {},
   "outputs": [],
   "source": [
    "# from scipy.sparse.csgraph import dijkstra, csgraph_from_dense\n",
    "# from scipy.sparse import coo_matrix\n",
    "# #build configuration graph\n",
    "# class node:\n",
    "#     def __init__(self, loc, regs = None):\n",
    "#         self.loc = loc\n",
    "#         if regs is None:\n",
    "#             self.regions = []\n",
    "#         else:\n",
    "#             self.regions = regs\n",
    "\n",
    "# nodes = [node(Ratfk.ComputeTValue(poi[idx], np.zeros(7)), [vs.regions[idx]]) for idx in range(len(poi))] \n",
    "#          #node(Ratfk.ComputeTValue(poi[1], np.zeros(7)), [vs.regions[1]])]# + [node(r.MaximumVolumeInscribedEllipsoid().center(), [r]) for r in vs.regions[2:]]\n",
    "# for idx, r in enumerate(vs.regions[:-1]):\n",
    "#     for r2 in vs.regions[idx+1:]:\n",
    "#         if r.IntersectsWith(r2):\n",
    "#             try:\n",
    "#                 loc = r.Intersection(r2).MaximumVolumeInscribedEllipsoid().center()\n",
    "#                 nodes.append(node(loc, [r, r2]))\n",
    "#             except:\n",
    "#                 print('failed ', idx)\n",
    "            \n",
    "# node_locations = [node.loc for node in nodes]\n",
    "# adjacency_list = []\n",
    "# adjacency_dist = []\n",
    "# for n in nodes:\n",
    "#     edges = []\n",
    "#     edge_dist = []\n",
    "#     for n2 in nodes:\n",
    "#         if nodes.index(n) != nodes.index(n2):\n",
    "#             n_regs = set([str(r) for r in n.regions])\n",
    "#             n2_regs = set([str(r) for r in n2.regions])\n",
    "#             if len(list(n_regs&n2_regs)):\n",
    "#                 edges.append(nodes.index(n2))\n",
    "#                 edge_dist.append(np.linalg.norm(n.loc-n2.loc))\n",
    "#     adjacency_list.append(edges)\n",
    "#     adjacency_dist.append(edge_dist)\n",
    "\n",
    "# def build_adjacency_mat(nodes, adjacency_list, adjacency_dist):\n",
    "#         N = len(nodes)\n",
    "#         data = []\n",
    "#         rows = []\n",
    "#         cols = []\n",
    "\n",
    "#         ad_mat = coo_matrix((N, N), np.float32)\n",
    "\n",
    "#         for idx in range(N):\n",
    "#             nei_idx = 0\n",
    "#             for nei in adjacency_list[idx]:\n",
    "#                 if not nei == idx:\n",
    "#                     data.append(adjacency_dist[idx][nei_idx])\n",
    "#                     rows.append(idx)\n",
    "#                     cols.append(nei)\n",
    "#                     data.append(adjacency_dist[idx][nei_idx])\n",
    "#                     rows.append(nei)\n",
    "#                     cols.append(idx)\n",
    "#                     # ad_mat[idx, nei] = self.dist_adj[idx][nei_idx]\n",
    "#                     # ad_mat[nei, idx] = self.dist_adj[idx][nei_idx]\n",
    "#                 nei_idx += 1\n",
    "\n",
    "#         ad_mat = coo_matrix((data, (rows, cols)), shape=(N, N))\n",
    "#         return ad_mat\n",
    "# ad_mat = build_adjacency_mat(nodes, adjacency_list, adjacency_dist)\n",
    "\n",
    "# def dijkstra_in_configspace2(src, target, adj_mat = ad_mat):\n",
    "#     dist, pred = dijkstra(adj_mat, directed=False, indices=src, return_predecessors=True)\n",
    "#     #print(f'{len(np.argwhere(pred == -9999))} disconnected nodes'), #np.argwhere(pred == -9999))\n",
    "#     pred[pred == -9999] = -100000000\n",
    "\n",
    "#     sp_list = []\n",
    "#     sp_length = dist[1]\n",
    "#     current_idx = target\n",
    "#     sp_list.append(current_idx)\n",
    "#     while not current_idx == ad_mat.shape[0] - 2:\n",
    "#         current_idx = pred[current_idx]\n",
    "#         sp_list.append(current_idx)\n",
    "#         if current_idx==src: break\n",
    "#     #print(sp_list)\n",
    "#     return [idx for idx in sp_list[::-1]]"
   ]
  },
  {
   "cell_type": "code",
   "execution_count": 50,
   "metadata": {},
   "outputs": [],
   "source": [
    "from scipy.sparse.csgraph import dijkstra, csgraph_from_dense\n",
    "from scipy.sparse import coo_matrix\n",
    "from pydrake.all import (MathematicalProgram, Variable, HPolyhedron, le, SnoptSolver, Solve) \n",
    "\n",
    "class node:\n",
    "    def __init__(self, loc, regs = None):\n",
    "        self.loc = loc\n",
    "        if regs is None:\n",
    "            self.regions = []\n",
    "        else:\n",
    "            self.regions = regs\n",
    "\n",
    "def dijkstra_in_configspace(adj_mat):\n",
    "    # convention for start and target\n",
    "    src = ad_mat.shape[0] -2\n",
    "    target = ad_mat.shape[0] -1\n",
    "    dist, pred = dijkstra(adj_mat, directed=False, indices=src, return_predecessors=True)\n",
    "    #print(f'{len(np.argwhere(pred == -9999))} disconnected nodes'), #np.argwhere(pred == -9999))\n",
    "    pred[pred == -9999] = -100000000\n",
    "\n",
    "    sp_list = []\n",
    "    sp_length = dist[target]\n",
    "    if sp_length<0:\n",
    "        return [], sp_length\n",
    "    current_idx = target\n",
    "    sp_list.append(current_idx)\n",
    "    while not current_idx == ad_mat.shape[0] - 2:\n",
    "        current_idx = pred[current_idx]\n",
    "        sp_list.append(current_idx)\n",
    "        if current_idx==src: break\n",
    "    #print(sp_list)\n",
    "    return [idx for idx in sp_list[::-1]], sp_length\n",
    "\n",
    "def build_base_adjacency_matrix(regions_list):    \n",
    "    nodes_intersections = []\n",
    "    for idx, r in enumerate(regions_list[:-1]):\n",
    "        for r2 in regions_list[idx+1:]:\n",
    "            if r.IntersectsWith(r2):\n",
    "                try:\n",
    "                    loc = r.Intersection(r2).MaximumVolumeInscribedEllipsoid().center()\n",
    "                    nodes_intersections.append(node(loc, [r, r2]))\n",
    "                except:\n",
    "                    print('failed ', idx)\n",
    "\n",
    "    node_locations = [node.loc for node in nodes_intersections]\n",
    "    adjacency_list = []\n",
    "    adjacency_dist = []\n",
    "    for n in nodes_intersections:\n",
    "        edges = []\n",
    "        edge_dist = []\n",
    "        for n2 in nodes_intersections:\n",
    "            if nodes_intersections.index(n) != nodes_intersections.index(n2):\n",
    "                n_regs = set([str(r) for r in n.regions])\n",
    "                n2_regs = set([str(r) for r in n2.regions])\n",
    "                if len(list(n_regs&n2_regs)):\n",
    "                    edges.append(nodes_intersections.index(n2))\n",
    "                    edge_dist.append(np.linalg.norm(n.loc-n2.loc))\n",
    "        adjacency_list.append(edges)\n",
    "        adjacency_dist.append(edge_dist)\n",
    "    \n",
    "    N = len(node_locations)\n",
    "    data = []\n",
    "    rows = []\n",
    "    cols = []\n",
    "\n",
    "    ad_mat = coo_matrix((N, N), np.float32)\n",
    "\n",
    "    for idx in range(N):\n",
    "        nei_idx = 0\n",
    "        for nei in adjacency_list[idx]:\n",
    "            if not nei == idx:\n",
    "                data.append(adjacency_dist[idx][nei_idx])\n",
    "                rows.append(idx)\n",
    "                cols.append(nei)\n",
    "#                 data.append(adjacency_dist[idx][nei_idx])\n",
    "#                 rows.append(nei)\n",
    "#                 cols.append(idx)\n",
    "                # ad_mat[idx, nei] = self.dist_adj[idx][nei_idx]\n",
    "                # ad_mat[nei, idx] = self.dist_adj[idx][nei_idx]\n",
    "            nei_idx += 1\n",
    "\n",
    "    ad_mat = coo_matrix((data, (rows, cols)), shape=(N, N))\n",
    "    return ad_mat, nodes_intersections\n",
    "\n",
    "def extend_adjacency_mat(start_q, target_q, base_ad_mat, node_intersections, region_list, point_conversion):\n",
    "    #first check point memberships\n",
    "    start_idx = -1\n",
    "    target_idx = -1\n",
    "    start_conv = point_conversion(start_q)\n",
    "    target_conv = point_conversion(target_q)\n",
    "    for idx, r in enumerate(region_list):\n",
    "        if start_idx<0 and r.PointInSet(start_conv):\n",
    "            start_idx = idx\n",
    "        if target_idx<0 and r.PointInSet(target_conv):\n",
    "            target_idx = idx\n",
    "        if start_idx >=0 and target_idx >=0:\n",
    "            break\n",
    "    if start_idx <0 or target_idx <0:\n",
    "        print('points not in set, idxs', start_idx,', ', target_idx)\n",
    "        return None\n",
    "    N = len(node_intersections) + 2\n",
    "    data = list(base_ad_mat.data)\n",
    "    rows = list(base_ad_mat.row)\n",
    "    cols = list(base_ad_mat.col)\n",
    "    #get idstances of all nodes  \n",
    "    start_region = region_list[start_idx]\n",
    "    target_region = region_list[target_idx]\n",
    "    start_adj_idx = N-2\n",
    "    target_adj_idx = N-1\n",
    "    for node_idx, node in enumerate(node_intersections):\n",
    "        if start_region in node.regions:\n",
    "            dist = np.linalg.norm(start_conv-node.loc)\n",
    "            data.append(dist)\n",
    "            rows.append(start_adj_idx)\n",
    "            cols.append(node_idx)\n",
    "            data.append(dist)\n",
    "            rows.append(node_idx)\n",
    "            cols.append(start_adj_idx)\n",
    "        if target_region in node.regions:\n",
    "            dist = np.linalg.norm(target_conv-node.loc)\n",
    "            data.append(dist)\n",
    "            rows.append(target_adj_idx)\n",
    "            cols.append(node_idx)\n",
    "            data.append(dist)\n",
    "            rows.append(node_idx)\n",
    "            cols.append(target_adj_idx)\n",
    "    \n",
    "    ad_mat_extend = coo_matrix((data, (rows, cols)), shape=(N, N))\n",
    "    return ad_mat_extend\n",
    "\n",
    "def refine_path_QP(wps, start_t, target_t, intersection_nodes):\n",
    "    intermediate_nodes = [intersection_nodes[idx] for idx in wps[1:-1]]\n",
    "    dim = len(intersection_nodes[0].loc)\n",
    "    prog = MathematicalProgram()\n",
    "    intermediates = []\n",
    "    for idx, wpnode in enumerate(intermediate_nodes):\n",
    "        x = prog.NewContinuousVariables(dim, 'x'+str(idx))\n",
    "        intermediates.append(x)\n",
    "        prog.SetInitialGuess(x, wpnode.loc)\n",
    "        for r in wpnode.regions:\n",
    "            prog.AddConstraint(le(r.A()@x, r.b())) \n",
    "\n",
    "    cost = 0\n",
    "    prev = start_t\n",
    "    for pt in intermediates + [target_t]:\n",
    "        a = (prev-pt) #* np.array([4.0,3.5,3,2.5,2,2.5,1]) \n",
    "        cost += a.T@a\n",
    "        prev = pt\n",
    "    prog.AddCost(cost)\n",
    "\n",
    "    res = Solve(prog)\n",
    "    if res.is_success():\n",
    "        path = [start_t]\n",
    "        for i in intermediates:\n",
    "            path.append(res.GetSolution(i))\n",
    "        path.append(target_t)\n",
    "        wps_start = [intersection_nodes[idx].loc for idx in wps[1:-1]]\n",
    "        dist_start = 0\n",
    "        prev = start_t\n",
    "        for wp in wps_start + [target_t]:\n",
    "            #dist_start += np.linalg.norm()#* np.array([4.0,3.5,3,2.5,2,2.5,1])\n",
    "            a = prev-wp\n",
    "            dist_start += a.T@a\n",
    "            prev = wp\n",
    "        print('[DijkstraSPP] optimized distance/start distance = ', res.get_optimal_cost(), ' / ', dist_start, ' = ', res.get_optimal_cost()/dist_start)\n",
    "    return path, res.get_optimal_cost()\n",
    "\n",
    "def dijkstra_spp(start_q,\n",
    "                 target_q,\n",
    "                 intersection_nodes, \n",
    "                 base_ad_mat, \n",
    "                 region_list, \n",
    "                 point_conversion):\n",
    "    #N = len(intersection_nodes)\n",
    "    ad_mat = extend_adjacency_mat(start_q, target_q, base_ad_mat, intersection_nodes, region_list, point_conversion)\n",
    "    if ad_mat is not None:\n",
    "        wps, dist = dijkstra_in_configspace(adj_mat=ad_mat)\n",
    "        if dist<0:\n",
    "            print('[DijkstraSPP] Points not reachable')\n",
    "            return [], -1\n",
    "        location_wps_optimized_t, dist_optimized = refine_path_QP(wps, \n",
    "                                                                  point_conversion(start_q), \n",
    "                                                                  point_conversion(target_q), \n",
    "                                                                  intersection_nodes)\n",
    "        return location_wps_optimized_t, dist_optimized\n",
    "    else:\n",
    "        print('[DijkstraSPP] Points not in regions')\n",
    "        return [], -1"
   ]
  },
  {
   "cell_type": "code",
   "execution_count": 44,
   "metadata": {},
   "outputs": [],
   "source": [
    "def densify_waypoints(waypoints_t):\n",
    "    densify = 200\n",
    "    dists = []\n",
    "    dense_waypoints = []\n",
    "    for idx in range(len(waypoints_t[:-1])):\n",
    "        a = waypoints_t[idx]\n",
    "        b = waypoints_t[idx+1]\n",
    "        t = np.linspace(1,0, 10)\n",
    "        locs_endeff = []\n",
    "        dists_endeff = []\n",
    "        for tval in t:\n",
    "            ta = a*tval + b*(1-tval)\n",
    "            qa = Ratfk.ComputeQValue(ta, np.zeros(7))\n",
    "            #showres(qa)\n",
    "            #time.sleep(0.1)            \n",
    "            set_joint_angles(qa)\n",
    "            tf_tot= plant.EvalBodyPoseInWorld(plant_context, plant.get_body(pydrake.multibody.tree.BodyIndex(7)))\n",
    "            tf = tf_tot.translation() + tf_tot.GetAsMatrix4()[:3,:3][:,1] *0.15\n",
    "            locs_endeff.append(tf)\n",
    "        for i in range(len(locs_endeff)-1):\n",
    "            dists_endeff.append(np.linalg.norm(locs_endeff[i]- locs_endeff[i+1]))\n",
    "        d = np.sum(dists_endeff)\n",
    "        #print(d * densify)\n",
    "        t = np.linspace(1,0,int(densify*d))\n",
    "        for tval in t:\n",
    "            dense_waypoints.append(waypoints_t[idx]*tval + waypoints_t[idx+1]*(1-tval))\n",
    "    return dense_waypoints\n",
    "\n",
    "def plot_endeff_traj(dense_waypoints):\n",
    "    color = Rgba(1,0,0,1.0)\n",
    "    start_idx = 0\n",
    "    for i, ta in enumerate(dense_waypoints):\n",
    "        qa = Ratfk.ComputeQValue(ta, np.zeros(7))\n",
    "        #showres(qa)\n",
    "        #time.sleep(0.1)            \n",
    "        set_joint_angles(qa)\n",
    "        tf_tot= plant.EvalBodyPoseInWorld(plant_context, plant.get_body(pydrake.multibody.tree.BodyIndex(7)))\n",
    "        tf = tf_tot.translation() + tf_tot.GetAsMatrix4()[:3,:3][:,1] *0.15\n",
    "\n",
    "        meshcat1.SetObject(f\"/iris/points/traj/{i+start_idx}\",\n",
    "                               Sphere(0.005),\n",
    "                               color)\n",
    "\n",
    "        meshcat1.SetTransform(f\"/iris/points/traj/{i+start_idx}\",\n",
    "                                   RigidTransform(RotationMatrix(),\n",
    "                                                  tf))"
   ]
  },
  {
   "cell_type": "code",
   "execution_count": null,
   "metadata": {},
   "outputs": [],
   "source": [
    "base_ad_mat, node_intersections = build_base_adjacency_matrix(vs.regions)\n",
    "point_conversion = partial(Ratfk.ComputeTValue, q_star_val = np.zeros(7))"
   ]
  },
  {
   "cell_type": "code",
   "execution_count": 53,
   "metadata": {},
   "outputs": [
    {
     "ename": "KeyboardInterrupt",
     "evalue": "",
     "output_type": "error",
     "traceback": [
      "\u001b[0;31m---------------------------------------------------------------------------\u001b[0m",
      "\u001b[0;31mKeyboardInterrupt\u001b[0m                         Traceback (most recent call last)",
      "\u001b[0;32m<ipython-input-53-cf7fe6cabae1>\u001b[0m in \u001b[0;36m<module>\u001b[0;34m\u001b[0m\n\u001b[1;32m      3\u001b[0m \u001b[0;32mfor\u001b[0m \u001b[0m_\u001b[0m \u001b[0;32min\u001b[0m \u001b[0mrange\u001b[0m\u001b[0;34m(\u001b[0m\u001b[0;36m20\u001b[0m\u001b[0;34m)\u001b[0m\u001b[0;34m:\u001b[0m\u001b[0;34m\u001b[0m\u001b[0;34m\u001b[0m\u001b[0m\n\u001b[1;32m      4\u001b[0m     \u001b[0;32mwhile\u001b[0m \u001b[0;32mTrue\u001b[0m\u001b[0;34m:\u001b[0m\u001b[0;34m\u001b[0m\u001b[0;34m\u001b[0m\u001b[0m\n\u001b[0;32m----> 5\u001b[0;31m         \u001b[0mnxt\u001b[0m \u001b[0;34m=\u001b[0m \u001b[0mvs\u001b[0m\u001b[0;34m.\u001b[0m\u001b[0msample_node_pos\u001b[0m\u001b[0;34m(\u001b[0m\u001b[0moutside_regions\u001b[0m\u001b[0;34m=\u001b[0m\u001b[0;32mFalse\u001b[0m\u001b[0;34m)\u001b[0m \u001b[0;31m#np.random.choice(len(poi),1)[0]\u001b[0m\u001b[0;34m\u001b[0m\u001b[0;34m\u001b[0m\u001b[0m\n\u001b[0m\u001b[1;32m      6\u001b[0m         \u001b[0;31m#if nxt != start:\u001b[0m\u001b[0;34m\u001b[0m\u001b[0;34m\u001b[0m\u001b[0;34m\u001b[0m\u001b[0m\n\u001b[1;32m      7\u001b[0m         \u001b[0;31m#    break\u001b[0m\u001b[0;34m\u001b[0m\u001b[0;34m\u001b[0m\u001b[0;34m\u001b[0m\u001b[0m\n",
      "\u001b[0;32m~/git/vprmintegration/drake/C_Iris_Examples/visprm.py\u001b[0m in \u001b[0;36msample_node_pos\u001b[0;34m(self, outside_regions, MAXIT)\u001b[0m\n\u001b[1;32m    375\u001b[0m             \u001b[0;32mfor\u001b[0m \u001b[0m_\u001b[0m \u001b[0;32min\u001b[0m \u001b[0mrange\u001b[0m\u001b[0;34m(\u001b[0m\u001b[0;36m10\u001b[0m\u001b[0;34m)\u001b[0m\u001b[0;34m:\u001b[0m\u001b[0;34m\u001b[0m\u001b[0;34m\u001b[0m\u001b[0m\n\u001b[1;32m    376\u001b[0m                 \u001b[0mr\u001b[0m  \u001b[0;34m=\u001b[0m \u001b[0;36m0.01\u001b[0m\u001b[0;34m*\u001b[0m\u001b[0;34m(\u001b[0m\u001b[0mnp\u001b[0m\u001b[0;34m.\u001b[0m\u001b[0mrandom\u001b[0m\u001b[0;34m.\u001b[0m\u001b[0mrand\u001b[0m\u001b[0;34m(\u001b[0m\u001b[0mself\u001b[0m\u001b[0;34m.\u001b[0m\u001b[0mdim\u001b[0m\u001b[0;34m)\u001b[0m\u001b[0;34m-\u001b[0m\u001b[0;36m0.5\u001b[0m\u001b[0;34m)\u001b[0m\u001b[0;34m\u001b[0m\u001b[0;34m\u001b[0m\u001b[0m\n\u001b[0;32m--> 377\u001b[0;31m                 \u001b[0mcol\u001b[0m \u001b[0;34m|=\u001b[0m \u001b[0;34m(\u001b[0m\u001b[0mself\u001b[0m\u001b[0;34m.\u001b[0m\u001b[0mcol_handle\u001b[0m\u001b[0;34m(\u001b[0m\u001b[0mpos_samp\u001b[0m\u001b[0;34m+\u001b[0m\u001b[0mr\u001b[0m\u001b[0;34m)\u001b[0m \u001b[0;34m>\u001b[0m \u001b[0;36m0\u001b[0m\u001b[0;34m)\u001b[0m\u001b[0;34m\u001b[0m\u001b[0;34m\u001b[0m\u001b[0m\n\u001b[0m\u001b[1;32m    378\u001b[0m             \u001b[0;32mif\u001b[0m \u001b[0moutside_regions\u001b[0m\u001b[0;34m:\u001b[0m\u001b[0;34m\u001b[0m\u001b[0;34m\u001b[0m\u001b[0m\n\u001b[1;32m    379\u001b[0m                 \u001b[0mgood_sample\u001b[0m \u001b[0;34m=\u001b[0m \u001b[0;34m(\u001b[0m\u001b[0;32mnot\u001b[0m \u001b[0mcol\u001b[0m\u001b[0;34m)\u001b[0m \u001b[0;32mand\u001b[0m \u001b[0;34m(\u001b[0m\u001b[0;32mnot\u001b[0m \u001b[0mself\u001b[0m\u001b[0;34m.\u001b[0m\u001b[0mpoint_in_guard_regions\u001b[0m\u001b[0;34m(\u001b[0m\u001b[0mpos_samp\u001b[0m\u001b[0;34m)\u001b[0m\u001b[0;34m)\u001b[0m\u001b[0;34m\u001b[0m\u001b[0;34m\u001b[0m\u001b[0m\n",
      "\u001b[0;32m<ipython-input-6-d9c752881361>\u001b[0m in \u001b[0;36meval_cons\u001b[0;34m(q, c, tol)\u001b[0m\n\u001b[1;32m     14\u001b[0m \u001b[0;34m\u001b[0m\u001b[0m\n\u001b[1;32m     15\u001b[0m \u001b[0;32mdef\u001b[0m \u001b[0meval_cons\u001b[0m\u001b[0;34m(\u001b[0m\u001b[0mq\u001b[0m\u001b[0;34m,\u001b[0m \u001b[0mc\u001b[0m\u001b[0;34m,\u001b[0m \u001b[0mtol\u001b[0m\u001b[0;34m)\u001b[0m\u001b[0;34m:\u001b[0m\u001b[0;34m\u001b[0m\u001b[0;34m\u001b[0m\u001b[0m\n\u001b[0;32m---> 16\u001b[0;31m     \u001b[0;32mreturn\u001b[0m \u001b[0;36m1\u001b[0m\u001b[0;34m-\u001b[0m\u001b[0;36m1\u001b[0m\u001b[0;34m*\u001b[0m\u001b[0mfloat\u001b[0m\u001b[0;34m(\u001b[0m\u001b[0mc\u001b[0m\u001b[0;34m.\u001b[0m\u001b[0mevaluator\u001b[0m\u001b[0;34m(\u001b[0m\u001b[0;34m)\u001b[0m\u001b[0;34m.\u001b[0m\u001b[0mCheckSatisfied\u001b[0m\u001b[0;34m(\u001b[0m\u001b[0mq\u001b[0m\u001b[0;34m,\u001b[0m \u001b[0mtol\u001b[0m\u001b[0;34m)\u001b[0m\u001b[0;34m)\u001b[0m\u001b[0;34m\u001b[0m\u001b[0;34m\u001b[0m\u001b[0m\n\u001b[0m\u001b[1;32m     17\u001b[0m \u001b[0;34m\u001b[0m\u001b[0m\n\u001b[1;32m     18\u001b[0m \u001b[0mcol_func_handle\u001b[0m \u001b[0;34m=\u001b[0m \u001b[0mpartial\u001b[0m\u001b[0;34m(\u001b[0m\u001b[0meval_cons\u001b[0m\u001b[0;34m,\u001b[0m \u001b[0mc\u001b[0m\u001b[0;34m=\u001b[0m\u001b[0mcollision_constraint\u001b[0m\u001b[0;34m,\u001b[0m \u001b[0mtol\u001b[0m\u001b[0;34m=\u001b[0m\u001b[0;36m0.01\u001b[0m\u001b[0;34m)\u001b[0m\u001b[0;34m\u001b[0m\u001b[0;34m\u001b[0m\u001b[0m\n",
      "\u001b[0;31mKeyboardInterrupt\u001b[0m: "
     ]
    }
   ],
   "source": [
    "import time\n",
    "start = poi[np.random.choice(len(poi),1)[0]]\n",
    "for _ in range(20):\n",
    "    while True:\n",
    "        nxt = vs.sample_in_regions() #np.random.choice(len(poi),1)[0]\n",
    "        #if nxt != start:\n",
    "        #    break\n",
    "    wp, dist = dijkstra_spp(start, nx, node_intersections, base_ad_mat, vs.regions, point_conversion)\n",
    "    if dist >0:\n",
    "        dense_waypoints = densify_waypoints(wp)\n",
    "        plot_endeff_traj(dense_waypoints)\n",
    "        for ta in dense_waypoints:\n",
    "            qa = Ratfk.ComputeQValue(ta, np.zeros(7))\n",
    "            showres(qa)\n",
    "            time.sleep(0.007)\n",
    "        start = nxt\n",
    "        #time.sleep(0.1)\n",
    "        meshcat1.Delete(\"/iris/points/traj/\")\n",
    "    else:\n",
    "        pass"
   ]
  },
  {
   "cell_type": "code",
   "execution_count": null,
   "metadata": {},
   "outputs": [],
   "source": [
    "vs.sample_node_pos(outside_regions=False)"
   ]
  },
  {
   "cell_type": "code",
   "execution_count": 25,
   "metadata": {},
   "outputs": [],
   "source": [
    "\n",
    "ad_mat = extend_adjacency_mat(poi[7], poi[1], base_ad_mat, node_intersections, vs.regions, point_conversion)\n",
    "wps, dist = dijkstra_in_configspace(ad_mat)"
   ]
  },
  {
   "cell_type": "code",
   "execution_count": 29,
   "metadata": {},
   "outputs": [
    {
     "data": {
      "text/plain": [
       "4.734445213722455"
      ]
     },
     "execution_count": 29,
     "metadata": {},
     "output_type": "execute_result"
    }
   ],
   "source": [
    "ad_mat.tocsr()[26,11]"
   ]
  },
  {
   "cell_type": "code",
   "execution_count": 30,
   "metadata": {},
   "outputs": [
    {
     "data": {
      "text/plain": [
       "4.734445213722455"
      ]
     },
     "execution_count": 30,
     "metadata": {},
     "output_type": "execute_result"
    }
   ],
   "source": [
    "ad_mat.tocsr()[11,26]"
   ]
  },
  {
   "cell_type": "code",
   "execution_count": 28,
   "metadata": {},
   "outputs": [
    {
     "data": {
      "text/plain": [
       "[93, 26, 11, 7, 4, 94]"
      ]
     },
     "execution_count": 28,
     "metadata": {},
     "output_type": "execute_result"
    }
   ],
   "source": [
    "wps"
   ]
  },
  {
   "cell_type": "code",
   "execution_count": 43,
   "metadata": {},
   "outputs": [
    {
     "name": "stdout",
     "output_type": "stream",
     "text": [
      "optimal/start =  7.7331663086451385  /  42.954420463346345  =  0.18003190882866096\n"
     ]
    }
   ],
   "source": []
  },
  {
   "cell_type": "code",
   "execution_count": 27,
   "metadata": {},
   "outputs": [
    {
     "name": "stdout",
     "output_type": "stream",
     "text": [
      "[1.493520611308177, 4.734445213722455, 3.973681959186942, 0.7567703864961726, 1.3949894030275596]\n",
      "12.353407573741308\n",
      "[1.493520611308177, 4.734445213722455, 3.973681959186942, 0.7567703864961726, 1.3949894030275596]\n",
      "12.353407573741308\n"
     ]
    }
   ],
   "source": [
    "point_conversion = partial(Ratfk.ComputeTValue, q_star_val = np.zeros(7))\n",
    "ad_mat = extend_adjacency_mat(poi[7], poi[1], base_ad_mat, node_intersections, vs.regions, point_conversion)\n",
    "wps, d = dijkstra_in_configspace(ad_mat)\n",
    "\n",
    "idx_prev = wps[0]\n",
    "dist = []\n",
    "for idxnext in wps[1:]:\n",
    "    dist.append( ad_mat.tocsr()[idx_prev, idxnext])\n",
    "    idx_prev = idxnext\n",
    "print(dist)\n",
    "print(np.sum(dist))\n",
    "start_t = point_conversion(poi[7])\n",
    "target_t = point_conversion(poi[1])\n",
    "node_locs = [start_t]+[node_intersections[idx].loc for idx in wps[1:-1]] + [target_t]\n",
    "prev = node_locs[0]\n",
    "dists = []\n",
    "for n in node_locs[1:]:\n",
    "    dists += [np.linalg.norm(prev-n)]\n",
    "    prev = n\n",
    "print(dists)\n",
    "print(np.sum(dists))"
   ]
  },
  {
   "cell_type": "code",
   "execution_count": 129,
   "metadata": {},
   "outputs": [
    {
     "data": {
      "text/plain": [
       "1.7592772831506658"
      ]
     },
     "execution_count": 129,
     "metadata": {},
     "output_type": "execute_result"
    }
   ],
   "source": [
    "ad_mat.tocsr()[36, 152]"
   ]
  },
  {
   "cell_type": "code",
   "execution_count": null,
   "metadata": {},
   "outputs": [],
   "source": []
  },
  {
   "cell_type": "code",
   "execution_count": 133,
   "metadata": {},
   "outputs": [
    {
     "data": {
      "text/plain": [
       "1.7592772831506658"
      ]
     },
     "execution_count": 133,
     "metadata": {},
     "output_type": "execute_result"
    }
   ],
   "source": [
    "2*0.8796386415753329"
   ]
  },
  {
   "cell_type": "code",
   "execution_count": null,
   "metadata": {},
   "outputs": [],
   "source": []
  },
  {
   "cell_type": "code",
   "execution_count": 19,
   "metadata": {},
   "outputs": [],
   "source": [
    "from pydrake.all import (MathematicalProgram, Variable, HPolyhedron, le, SnoptSolver, Solve) \n",
    "def dijkstra_spp(start, target):\n",
    "    wps = dijkstra_in_configspace2(start, target)\n",
    "\n",
    "    start_loc = nodes[wps[0]]\n",
    "    end_loc = nodes[wps[-1]]\n",
    "    intermediate_nodes = [nodes[idx] for idx in wps[1:-1]]\n",
    "    dim = len(nodes[0].loc)\n",
    "    prog = MathematicalProgram()\n",
    "    intermediates = []\n",
    "    for idx, wpnode in enumerate(intermediate_nodes):\n",
    "        x = prog.NewContinuousVariables(dim, 'x'+str(idx))\n",
    "        intermediates.append(x)\n",
    "        prog.SetInitialGuess(x, wpnode.loc)\n",
    "        for r in wpnode.regions:\n",
    "            prog.AddConstraint(le(r.A()@x, r.b())) \n",
    "\n",
    "    cost = 0\n",
    "    prev = start_loc.loc\n",
    "    for pt in intermediates + [end_loc.loc]:\n",
    "        a = (prev-pt) * np.array([4.0,3.5,3,2.5,2,2.5,1]) \n",
    "        cost += a.T@a\n",
    "        prev = pt\n",
    "    prog.AddCost(cost)\n",
    "\n",
    "    res = Solve(prog)\n",
    "    if res.is_success():\n",
    "        path = [start_loc.loc]\n",
    "        for i in intermediates:\n",
    "            path.append(res.GetSolution(i))\n",
    "        path.append(end_loc.loc)\n",
    "        wps_start = [nodes[idx].loc for idx in wps]\n",
    "        dist_start = 0\n",
    "        prev = wps_start[0]\n",
    "        for wp in wps_start[1:]:\n",
    "            a = (prev-wp)* np.array([4.0,3.5,3,2.5,2,2.5,1])\n",
    "            dist_start += a.T@a\n",
    "            prev = wp\n",
    "        #print('optimal/start: ', res.get_optimal_cost()/dist_start)\n",
    "    return path, res.get_optimal_cost()"
   ]
  },
  {
   "cell_type": "code",
   "execution_count": 20,
   "metadata": {},
   "outputs": [],
   "source": []
  },
  {
   "cell_type": "code",
   "execution_count": 21,
   "metadata": {},
   "outputs": [],
   "source": []
  },
  {
   "cell_type": "code",
   "execution_count": 23,
   "metadata": {},
   "outputs": [
    {
     "name": "stdout",
     "output_type": "stream",
     "text": [
      "0.0           \r"
     ]
    }
   ],
   "source": [
    "\n"
   ]
  },
  {
   "cell_type": "code",
   "execution_count": 112,
   "metadata": {},
   "outputs": [
    {
     "data": {
      "text/plain": [
       "43.18224846612298"
      ]
     },
     "execution_count": 112,
     "metadata": {},
     "output_type": "execute_result"
    }
   ],
   "source": []
  },
  {
   "cell_type": "code",
   "execution_count": 26,
   "metadata": {},
   "outputs": [],
   "source": []
  },
  {
   "cell_type": "code",
   "execution_count": 27,
   "metadata": {},
   "outputs": [],
   "source": []
  },
  {
   "cell_type": "code",
   "execution_count": 28,
   "metadata": {},
   "outputs": [],
   "source": [
    "for idx, r in enumerate(vs.regions[:-1]):\n",
    "    for r2 in vs.regions[idx+1:]:\n",
    "        if r.IntersectsWith(r2):\n",
    "            try:\n",
    "                loc = r.Intersection(r2).MaximumVolumeInscribedEllipsoid().center()\n",
    "                nodes.append(node(loc, [r, r2]))\n",
    "            except:\n",
    "                print('failed ', idx)\n",
    "            for idx, r in enumerate(vs.regions[:-1]):\n",
    "    for r2 in vs.regions[idx+1:]:\n",
    "        if r.IntersectsWith(r2):\n",
    "            try:\n",
    "                loc = r.Intersection(r2).MaximumVolumeInscribedEllipsoid().center()\n",
    "                nodes.append(node(loc, [r, r2]))\n",
    "            except:\n",
    "                print('failed ', idx)\n",
    "            import time\n",
    "#poi_idx = np.arange(len(poi))\n",
    "start = np.random.choice(len(poi),1)[0]\n",
    "# start = 8 #np.random.choice(len(poi),1)[0]\n",
    "# nxt = 10\n"
   ]
  },
  {
   "cell_type": "code",
   "execution_count": 13,
   "metadata": {},
   "outputs": [
    {
     "name": "stdout",
     "output_type": "stream",
     "text": [
      "[19:30:19] [RandSeeding] Expecting points of interest in q\n",
      "[19:30:19] [RandSeeding] GuardInsertion attempts M: 44\n",
      "[19:30:19] [RandSeeding] 0.9 probability that unseen region is less than 5.0 \"%\" of Cfree \n"
     ]
    }
   ],
   "source": [
    "from visprm import RandSeeding\n",
    "rs = RandSeeding(poi,\n",
    "              alpha = 0.1,\n",
    "              limits = limits_q,\n",
    "              collision_handle = col_func_handle,\n",
    "              iris_handle=partial(SNOPT_IRIS_Handle, regions = None),\n",
    "              iris_handle_with_obstacles = SNOPT_IRIS_Handle,def dijkstra_in_configspace(src, target):\n",
    "    dist, pred = dijkstra(ad_mat, directed=False, indices=src, return_predecessors=True)\n",
    "    #print(f'{len(np.argwhere(pred == -9999))} disconnected nodes'), #np.argwhere(pred == -9999))\n",
    "    pred[pred == -9999] = -100000000\n",
    "\n",
    "    sp_list = []\n",
    "    sp_length = dist[1]\n",
    "    current_idx = target\n",
    "    sp_list.append(current_idx)\n",
    "    while not current_idx == ad_mat.shape[0] - 2:\n",
    "        current_idx = pred[current_idx]\n",
    "        sp_list.append(current_idx)\n",
    "        if current_idx==src: break\n",
    "    #print(sp_list)\n",
    "    return [nodes[idx].loc for idx in sp_list]\n",
    "              point_to_region_conversion = partial(Ratfk.ComputeTValue, q_star_val = np.zeros(7))\n",
    "                 )\n",
    "rs.set_init_regions()"
   ]
  },
  {
   "cell_type": "code",
   "execution_count": 14,
   "metadata": {},
   "outputs": [
    {
     "name": "stdout",
     "output_type": "stream",
     "text": [
      "[19:30:48] [RandSeeding] New Region placed N =  12 , it =  0\n",
      "[19:30:54] [RandSeeding] New Region placed N =  13 , it =  0\n",
      "[19:30:58] [RandSeeding] New Region placed N =  14 , it =  0\n",
      "[19:31:01] [RandSeeding] New Region placed N =  15 , it =  0\n",
      "[19:31:07] [RandSeeding] New Region placed N =  16 , it =  0\n",
      "[19:31:20] [RandSeeding] New Region placed N =  17 , it =  0\n",
      "[19:31:32] [RandSeeding] New Region placed N =  18 , it =  0\n",
      "[19:31:53] [RandSeeding] New Region placed N =  19 , it =  0\n",
      "[19:31:59] [RandSeeding] New Region placed N =  20 , it =  0\n",
      "[19:32:03] [RandSeeding] New Region placed N =  21 , it =  0\n",
      "[19:32:21] [RandSeeding] New Region placed N =  22 , it =  0\n",
      "[19:32:48] [RandSeeding] New Region placed N =  23 , it =  0\n",
      "[19:32:53] [RandSeeding] New Region placed N =  24 , it =  0\n",
      "[19:32:56] [RandSeeding] New Region placed N =  25 , it =  0\n",
      "[19:33:13] [RandSeeding] New Region placed N =  26 , it =  0\n",
      "[19:33:27] [RandSeeding] New Region placed N =  27 , it =  0\n",
      "[19:33:42] [RandSeeding] New Region placed N =  28 , it =  0\n",
      "[19:33:54] [RandSeeding] New Region placed N =  29 , it =  0\n",
      "[19:34:18] [RandSeeding] New Region placed N =  30 , it =  0\n",
      "[19:34:24] [RandSeeding] New Region placed N =  31 , it =  0\n",
      "[19:34:55] [RandSeeding] New Region placed N =  32 , it =  0\n",
      "[19:35:00] [RandSeeding] New Region placed N =  33 , it =  1\n",
      "[19:35:15] [RandSeeding] New Region placed N =  34 , it =  0\n",
      "[19:35:27] [RandSeeding] New Region placed N =  35 , it =  0\n",
      "[19:35:42] [RandSeeding] New Region placed N =  36 , it =  0\n",
      "[19:36:02] [RandSeeding] New Region placed N =  37 , it =  0\n",
      "[19:36:13] [RandSeeding] New Region placed N =  38 , it =  1\n",
      "[19:36:25] [RandSeeding] New Region placed N =  39 , it =  0\n",
      "[19:36:48] [RandSeeding] New Region placed N =  40 , it =  0\n",
      "[19:36:53] [RandSeeding] New Region placed N =  41 , it =  0\n",
      "[19:37:10] [RandSeeding] New Region placed N =  42 , it =  0\n",
      "[19:37:27] [RandSeeding] New Region placed N =  43 , it =  0\n",
      "[19:37:45] [RandSeeding] New Region placed N =  44 , it =  0\n",
      "[19:38:05] [RandSeeding] New Region placed N =  45 , it =  0\n",
      "[19:38:13] [RandSeeding] New Region placed N =  46 , it =  0\n",
      "[19:38:22] [RandSeeding] New Region placed N =  47 , it =  0\n",
      "[19:38:45] [RandSeeding] New Region placed N =  48 , it =  0\n",
      "[19:38:57] [RandSeeding] New Region placed N =  49 , it =  2\n"
     ]
    },
    {
     "data": {
      "text/plain": [
       "True"
      ]
     },
     "execution_count": 14,
     "metadata": {},
     "output_type": "execute_result"
    }
   ],
   "source": [
    "rs.sample_regions_phase()"
   ]
  },
  {
   "cell_type": "code",
   "execution_count": 15,
   "metadata": {},
   "outputs": [
    {
     "data": {
      "image/png": "[encoded data removed]",
      "text/plain": [
       "<Figure size 432x288 with 1 Axes>"
      ]
     },
     "metadata": {},
     "output_type": "display_data"
    }
   ],
   "source": [
    "rs.draw_connectivity_graph()"
   ]
  },
  {
   "cell_type": "code",
   "execution_count": 32,
   "metadata": {},
   "outputs": [],
   "source": [
    "from scipy.sparse.csgraph import dijkstra, csgraph_from_dense\n",
    "from scipy.sparse import coo_matrix\n",
    "#build configuration graph\n",
    "class node:\n",
    "    def __init__(self, loc, regs = None):\n",
    "        self.loc = loc\n",
    "        if regs is None:\n",
    "            self.regions = []\n",
    "        else:\n",
    "            self.regions = regs\n",
    "\n",
    "nodes = [node(Ratfk.ComputeTValue(poi[idx], np.zeros(7)), [rs.regions[idx]]) for idx in range(len(poi))] \n",
    "         #node(Ratfk.ComputeTValue(poi[1], np.zeros(7)), [vs.regions[1]])]# + [node(r.MaximumVolumeInscribedEllipsoid().center(), [r]) for r in vs.regions[2:]]\n",
    "for idx, r in enumerate(rs.regions[:-1]):\n",
    "    for r2 in rs.regions[idx+1:]:\n",
    "        if r.IntersectsWith(r2):\n",
    "            try:\n",
    "                loc = r.Intersection(r2).MaximumVolumeInscribedEllipsoid().center()\n",
    "                nodes.append(node(loc, [r, r2]))\n",
    "            except:\n",
    "                print('failed ', idx)\n",
    "                \n",
    "node_locations = [node.loc for node in nodes]\n",
    "adjacency_list = []\n",
    "adjacency_dist = []\n",
    "for n in nodes:\n",
    "    edges = []\n",
    "    edge_dist = []\n",
    "    for n2 in nodes:\n",
    "        if nodes.index(n) != nodes.index(n2):\n",
    "            n_regs = set([str(r) for r in n.regions])\n",
    "            n2_regs = set([str(r) for r in n2.regions])\n",
    "            if len(list(n_regs&n2_regs)):\n",
    "                edges.append(nodes.index(n2))\n",
    "                edge_dist.append(np.linalg.norm(n.loc-n2.loc))\n",
    "    adjacency_list.append(edges)\n",
    "    adjacency_dist.append(edge_dist)  \n"
   ]
  },
  {
   "cell_type": "code",
   "execution_count": 33,
   "metadata": {},
   "outputs": [],
   "source": [
    "def build_adjacency_mat(nodes, adjacency_list, adjacency_dist):\n",
    "        N = len(nodes)\n",
    "        data = []\n",
    "        rows = []\n",
    "        cols = []\n",
    "\n",
    "        ad_mat = coo_matrix((N, N), np.float32)\n",
    "\n",
    "        for idx in range(N):\n",
    "            nei_idx = 0\n",
    "            for nei in adjacency_list[idx]:\n",
    "                if not nei == idx:\n",
    "                    data.append(adjacency_dist[idx][nei_idx])\n",
    "                    rows.append(idx)\n",
    "                    cols.append(nei)\n",
    "                    data.append(adjacency_dist[idx][nei_idx])\n",
    "                    rows.append(nei)\n",
    "                    cols.append(idx)\n",
    "                    # ad_mat[idx, nei] = self.dist_adj[idx][nei_idx]\n",
    "                    # ad_mat[nei, idx] = self.dist_adj[idx][nei_idx]\n",
    "                nei_idx += 1\n",
    "\n",
    "        ad_mat = coo_matrix((data, (rows, cols)), shape=(N, N))\n",
    "        return ad_mat\n",
    "ad_mat = build_adjacency_mat(nodes, adjacency_list, adjacency_dist)"
   ]
  },
  {
   "cell_type": "code",
   "execution_count": 34,
   "metadata": {},
   "outputs": [],
   "source": [
    "def dijkstra_in_configspace(src, target):\n",
    "    dist, pred = dijkstra(ad_mat, directed=False, indices=src, return_predecessors=True)\n",
    "    #print(f'{len(np.argwhere(pred == -9999))} disconnected nodes'), #np.argwhere(pred == -9999))\n",
    "    pred[pred == -9999] = -100000000\n",
    "\n",
    "    sp_list = []\n",
    "    sp_length = dist[1]\n",
    "    current_idx = target\n",
    "    sp_list.append(current_idx)\n",
    "    while not current_idx == ad_mat.shape[0] - 2:\n",
    "        current_idx = pred[current_idx]\n",
    "        sp_list.append(current_idx)\n",
    "        if current_idx==src: break\n",
    "    #print(sp_list)\n",
    "    return [nodes[idx].loc for idx in sp_list]"
   ]
  },
  {
   "cell_type": "code",
   "execution_count": 35,
   "metadata": {},
   "outputs": [],
   "source": [
    "def densify_waypoints(waypoints):\n",
    "    densify = 200\n",
    "    dists = []\n",
    "    dense_waypoints = []\n",
    "    for idx in range(len(waypoints[:-1])):\n",
    "        a = waypoints[idx]\n",
    "        b = waypoints[idx+1]\n",
    "        t = np.linspace(1,0, 10)\n",
    "        locs_endeff = []\n",
    "        dists_endeff = []\n",
    "        for tval in t:\n",
    "            ta = a*tval + b*(1-tval)\n",
    "            qa = Ratfk.ComputeQValue(ta, np.zeros(7))\n",
    "            #showres(qa)\n",
    "            #time.sleep(0.1)            \n",
    "            set_joint_angles(qa)\n",
    "            tf_tot= plant.EvalBodyPoseInWorld(plant_context, plant.get_body(pydrake.multibody.tree.BodyIndex(7)))\n",
    "            tf = tf_tot.translation() + tf_tot.GetAsMatrix4()[:3,:3][:,1] *0.15\n",
    "            locs_endeff.append(tf)\n",
    "        for i in range(len(locs_endeff)-1):\n",
    "            dists_endeff.append(np.linalg.norm(locs_endeff[i]- locs_endeff[i+1]))\n",
    "        d = np.sum(dists_endeff)\n",
    "        #print(d * densify)\n",
    "        t = np.linspace(1,0,int(densify*d))\n",
    "        for tval in t:\n",
    "            dense_waypoints.append(waypoints[idx]*tval + waypoints[idx+1]*(1-tval))\n",
    "    return dense_waypoints"
   ]
  },
  {
   "cell_type": "code",
   "execution_count": 39,
   "metadata": {},
   "outputs": [],
   "source": [
    "def plot_endeff_traj(dense_waypoints):\n",
    "    color = Rgba(1,0,0,1.0)\n",
    "    start_idx = 0\n",
    "    for i, ta in enumerate(dense_waypoints):\n",
    "        qa = Ratfk.ComputeQValue(ta, np.zeros(7))\n",
    "        #showres(qa)\n",
    "        #time.sleep(0.1)            \n",
    "        set_joint_angles(qa)\n",
    "        tf_tot= plant.EvalBodyPoseInWorld(plant_context, plant.get_body(pydrake.multibody.tree.BodyIndex(7)))\n",
    "        tf = tf_tot.translation() + tf_tot.GetAsMatrix4()[:3,:3][:,1] *0.15\n",
    "\n",
    "        meshcat1.SetObject(f\"/iris/points/randtraj/{i+start_idx}\",\n",
    "                               Sphere(0.005),\n",
    "                               color)\n",
    "\n",
    "        meshcat1.SetTransform(f\"/iris/points/randtraj/{i+start_idx}\",\n",
    "                                   RigidTransform(RotationMatrix(),\n",
    "                                                  tf))"
   ]
  },
  {
   "cell_type": "code",
   "execution_count": 48,
   "metadata": {},
   "outputs": [
    {
     "ename": "TypeError",
     "evalue": "dijkstra_in_configspace() takes 1 positional argument but 2 were given",
     "output_type": "error",
     "traceback": [
      "\u001b[0;31m---------------------------------------------------------------------------\u001b[0m",
      "\u001b[0;31mTypeError\u001b[0m                                 Traceback (most recent call last)",
      "\u001b[0;32m<ipython-input-48-1506353542fc>\u001b[0m in \u001b[0;36m<module>\u001b[0;34m\u001b[0m\n\u001b[1;32m      1\u001b[0m \u001b[0mstart\u001b[0m \u001b[0;34m=\u001b[0m \u001b[0;36m8\u001b[0m \u001b[0;31m#np.random.choice(len(poi),1)[0]\u001b[0m\u001b[0;34m\u001b[0m\u001b[0;34m\u001b[0m\u001b[0m\n\u001b[1;32m      2\u001b[0m \u001b[0mnxt\u001b[0m \u001b[0;34m=\u001b[0m \u001b[0;36m10\u001b[0m\u001b[0;34m\u001b[0m\u001b[0;34m\u001b[0m\u001b[0m\n\u001b[0;32m----> 3\u001b[0;31m \u001b[0mwp\u001b[0m \u001b[0;34m=\u001b[0m \u001b[0mdijkstra_in_configspace\u001b[0m\u001b[0;34m(\u001b[0m\u001b[0mstart\u001b[0m\u001b[0;34m,\u001b[0m \u001b[0mnxt\u001b[0m\u001b[0;34m)\u001b[0m\u001b[0;34m\u001b[0m\u001b[0;34m\u001b[0m\u001b[0m\n\u001b[0m\u001b[1;32m      4\u001b[0m \u001b[0mdense_waypoints\u001b[0m \u001b[0;34m=\u001b[0m \u001b[0mdensify_waypoints\u001b[0m\u001b[0;34m(\u001b[0m\u001b[0mwp\u001b[0m\u001b[0;34m)\u001b[0m\u001b[0;34m\u001b[0m\u001b[0;34m\u001b[0m\u001b[0m\n\u001b[1;32m      5\u001b[0m \u001b[0mplot_endeff_traj\u001b[0m\u001b[0;34m(\u001b[0m\u001b[0mdense_waypoints\u001b[0m\u001b[0;34m)\u001b[0m\u001b[0;34m\u001b[0m\u001b[0;34m\u001b[0m\u001b[0m\n",
      "\u001b[0;31mTypeError\u001b[0m: dijkstra_in_configspace() takes 1 positional argument but 2 were given"
     ]
    }
   ],
   "source": [
    "start = 8 #np.random.choice(len(poi),1)[0]\n",
    "nxt = 10\n",
    "wp = dijkstra_in_configspace(start, nxt)\n",
    "dense_waypoints = densify_waypoints(wp)\n",
    "plot_endeff_traj(dense_waypoints)\n",
    "\n",
    "import time\n",
    "\n",
    "for _ in range(80):\n",
    "    while True:\n",
    "        nxt = np.random.choice(len(poi),1)[0]\n",
    "        if nxt != start:\n",
    "            break\n",
    "    wp = dijkstra_in_configspace(nxt, start)\n",
    "    dense_waypoints = densify_waypoints(wp)\n",
    "    plot_endeff_traj(dense_waypoints)\n",
    "    for ta in dense_waypoints:\n",
    "        qa = Ratfk.ComputeQValue(ta, np.zeros(7))\n",
    "        showres(qa)\n",
    "        time.sleep(0.007)\n",
    "    start = nxt\n",
    "    #time.sleep(0.1)\n",
    "    meshcat1.Delete(\"/iris/points/randtraj/\")"
   ]
  },
  {
   "cell_type": "code",
   "execution_count": 99,
   "metadata": {},
   "outputs": [],
   "source": [
    "def dijkstra_in_configspace2(src, target):\n",
    "    dist, pred = dijkstra(ad_mat, directed=False, indices=src, return_predecessors=True)\n",
    "    #print(f'{len(np.argwhere(pred == -9999))} disconnected nodes'), #np.argwhere(pred == -9999))\n",
    "    pred[pred == -9999] = -100000000\n",
    "\n",
    "    sp_list = []\n",
    "    sp_length = dist[1]\n",
    "    current_idx = target\n",
    "    sp_list.append(current_idx)\n",
    "    while not current_idx == ad_mat.shape[0] - 2:\n",
    "        current_idx = pred[current_idx]\n",
    "        sp_list.append(current_idx)\n",
    "        if current_idx==src: break\n",
    "    #print(sp_list)\n",
    "    return [idx for idx in sp_list[::-1]]"
   ]
  },
  {
   "cell_type": "code",
   "execution_count": 100,
   "metadata": {},
   "outputs": [],
   "source": [
    "from pydrake.all import (MathematicalProgram, Variable, HPolyhedron, le, SnoptSolver, Solve) \n",
    "def dijkstra_spp(start, target):\n",
    "    wps = dijkstra_in_configspace2(start, target)\n",
    "\n",
    "    start_loc = nodes[wps[0]]\n",
    "    end_loc = nodes[wps[-1]]\n",
    "    intermediate_nodes = [nodes[idx] for idx in wps[1:-1]]\n",
    "    dim = len(nodes[0].loc)\n",
    "    prog = MathematicalProgram()\n",
    "    intermediates = []\n",
    "    for idx, wpnode in enumerate(intermediate_nodes):\n",
    "        x = prog.NewContinuousVariables(dim, 'x'+str(idx))\n",
    "        intermediates.append(x)\n",
    "        prog.SetInitialGuess(x, wpnode.loc)\n",
    "        for r in wpnode.regions:\n",
    "            prog.AddConstraint(le(r.A()@x, r.b())) \n",
    "\n",
    "    cost = 0\n",
    "    prev = start_loc.loc\n",
    "    for pt in intermediates + [end_loc.loc]:\n",
    "        cost += (prev-pt).T@(prev-pt)\n",
    "        prev = pt\n",
    "    prog.AddCost(cost)\n",
    "\n",
    "    res = Solve(prog)\n",
    "    if res.is_success():\n",
    "        path = [start_loc.loc]\n",
    "        for i in intermediates:\n",
    "            path.append(res.GetSolution(i))\n",
    "        path.append(end_loc.loc)\n",
    "    return path"
   ]
  },
  {
   "cell_type": "code",
   "execution_count": 47,
   "metadata": {},
   "outputs": [
    {
     "ename": "TypeError",
     "evalue": "dijkstra_spp() missing 4 required positional arguments: 'intersection_nodes', 'base_ad_mat', 'region_list', and 'point_conversion'",
     "output_type": "error",
     "traceback": [
      "\u001b[0;31m---------------------------------------------------------------------------\u001b[0m",
      "\u001b[0;31mTypeError\u001b[0m                                 Traceback (most recent call last)",
      "\u001b[0;32m<ipython-input-47-48d562c1c789>\u001b[0m in \u001b[0;36m<module>\u001b[0;34m\u001b[0m\n\u001b[1;32m      6\u001b[0m         \u001b[0;32mif\u001b[0m \u001b[0mnxt\u001b[0m \u001b[0;34m!=\u001b[0m \u001b[0mstart\u001b[0m\u001b[0;34m:\u001b[0m\u001b[0;34m\u001b[0m\u001b[0;34m\u001b[0m\u001b[0m\n\u001b[1;32m      7\u001b[0m             \u001b[0;32mbreak\u001b[0m\u001b[0;34m\u001b[0m\u001b[0;34m\u001b[0m\u001b[0m\n\u001b[0;32m----> 8\u001b[0;31m     \u001b[0mwp\u001b[0m \u001b[0;34m=\u001b[0m \u001b[0mdijkstra_spp\u001b[0m\u001b[0;34m(\u001b[0m\u001b[0mstart\u001b[0m\u001b[0;34m,\u001b[0m \u001b[0mnxt\u001b[0m\u001b[0;34m)\u001b[0m\u001b[0;34m\u001b[0m\u001b[0;34m\u001b[0m\u001b[0m\n\u001b[0m\u001b[1;32m      9\u001b[0m     \u001b[0mdense_waypoints\u001b[0m \u001b[0;34m=\u001b[0m \u001b[0mdensify_waypoints\u001b[0m\u001b[0;34m(\u001b[0m\u001b[0mwp\u001b[0m\u001b[0;34m)\u001b[0m\u001b[0;34m\u001b[0m\u001b[0;34m\u001b[0m\u001b[0m\n\u001b[1;32m     10\u001b[0m     \u001b[0mplot_endeff_traj\u001b[0m\u001b[0;34m(\u001b[0m\u001b[0mdense_waypoints\u001b[0m\u001b[0;34m)\u001b[0m\u001b[0;34m\u001b[0m\u001b[0;34m\u001b[0m\u001b[0m\n",
      "\u001b[0;31mTypeError\u001b[0m: dijkstra_spp() missing 4 required positional arguments: 'intersection_nodes', 'base_ad_mat', 'region_list', and 'point_conversion'"
     ]
    }
   ],
   "source": [
    "import time\n",
    "\n",
    "for _ in range(80):\n",
    "    while True:\n",
    "        nxt = np.random.choice(len(poi),1)[0]\n",
    "        if nxt != start:\n",
    "            break\n",
    "    wp = dijkstra_spp(start, nxt)\n",
    "    dense_waypoints = densify_waypoints(wp)\n",
    "    plot_endeff_traj(dense_waypoints)\n",
    "    for ta in dense_waypoints:\n",
    "        qa = Ratfk.ComputeQValue(ta, np.zeros(7))\n",
    "        showres(qa)\n",
    "        time.sleep(0.007)\n",
    "    start = nxt\n",
    "    #time.sleep(0.1)\n",
    "    meshcat1.Delete(\"/iris/points/randtraj/\")"
   ]
  },
  {
   "cell_type": "code",
   "execution_count": 86,
   "metadata": {},
   "outputs": [
    {
     "data": {
      "text/plain": [
       "<ProgramType.kQP: 1>"
      ]
     },
     "execution_count": 86,
     "metadata": {},
     "output_type": "execute_result"
    }
   ],
   "source": [
    "from pydrake.all import GetProgramType\n",
    "GetProgramType(prog)"
   ]
  },
  {
   "cell_type": "code",
   "execution_count": 84,
   "metadata": {},
   "outputs": [
    {
     "data": {
      "text/plain": [
       "<Expression \"(pow((-0.9012947990715936 - x0(4)), 2) + pow((-0.75579562197338956 - x0(5)), 2) + pow((-0.61696436276160682 + x8(5)), 2) + pow((-0.60925929110411725 - x0(3)), 2) + pow((-0.48651310999596853 + x8(1)), 2) + pow((-0.13432932627549626 - x0(2)), 2) + pow((-0.022838969834354114 + x8(6)), 2) + pow((x0(0) - x1(0)), 2) + pow((x0(1) - x1(1)), 2) + pow((x0(2) - x1(2)), 2) + pow((x0(3) - x1(3)), 2) + pow((x0(4) - x1(4)), 2) + pow((x0(5) - x1(5)), 2) + pow((x0(6) - x1(6)), 2) + pow((x1(0) - x2(0)), 2) + pow((x1(1) - x2(1)), 2) + pow((x1(2) - x2(2)), 2) + pow((x1(3) - x2(3)), 2) + pow((x1(4) - x2(4)), 2) + pow((x1(5) - x2(5)), 2) + pow((x1(6) - x2(6)), 2) + pow((x2(0) - x3(0)), 2) + pow((x2(1) - x3(1)), 2) + pow((x2(2) - x3(2)), 2) + pow((x2(3) - x3(3)), 2) + pow((x2(4) - x3(4)), 2) + pow((x2(5) - x3(5)), 2) + pow((x2(6) - x3(6)), 2) + pow((x3(0) - x4(0)), 2) + pow((x3(1) - x4(1)), 2) + pow((x3(2) - x4(2)), 2) + pow((x3(3) - x4(3)), 2) + pow((x3(4) - x4(4)), 2) + pow((x3(5) - x4(5)), 2) + pow((x3(6) - x4(6)), 2) + pow((x4(0) - x5(0)), 2) + pow((x4(1) - x5(1)), 2) + pow((x4(2) - x5(2)), 2) + pow((x4(3) - x5(3)), 2) + pow((x4(4) - x5(4)), 2) + pow((x4(5) - x5(5)), 2) + pow((x4(6) - x5(6)), 2) + pow((x5(0) - x6(0)), 2) + pow((x5(1) - x6(1)), 2) + pow((x5(2) - x6(2)), 2) + pow((x5(3) - x6(3)), 2) + pow((x5(4) - x6(4)), 2) + pow((x5(5) - x6(5)), 2) + pow((x5(6) - x6(6)), 2) + pow((x6(0) - x7(0)), 2) + pow((x6(1) - x7(1)), 2) + pow((x6(2) - x7(2)), 2) + pow((x6(3) - x7(3)), 2) + pow((x6(4) - x7(4)), 2) + pow((x6(5) - x7(5)), 2) + pow((x6(6) - x7(6)), 2) + pow((x7(0) - x8(0)), 2) + pow((x7(1) - x8(1)), 2) + pow((x7(2) - x8(2)), 2) + pow((x7(3) - x8(3)), 2) + pow((x7(4) - x8(4)), 2) + pow((x7(5) - x8(5)), 2) + pow((x7(6) - x8(6)), 2) + pow((0.022838969834354114 - x0(6)), 2) + pow((0.13432932627549626 + x8(2)), 2) + pow((0.31240684616812864 - x0(1)), 2) + pow((0.60925929110411725 + x8(3)), 2) + pow((0.81451649761217215 + x8(4)), 2) + pow((1.2183968513178962 + x8(0)), 2) + pow((2.0474931812300134 - x0(0)), 2))\">"
      ]
     },
     "execution_count": 84,
     "metadata": {},
     "output_type": "execute_result"
    }
   ],
   "source": [
    "cost"
   ]
  },
  {
   "cell_type": "code",
   "execution_count": 132,
   "metadata": {},
   "outputs": [
    {
     "name": "stdout",
     "output_type": "stream",
     "text": [
      "[-1.33334128  0.55627447  0.23377853 -0.76090425 -0.99057595  0.42082855\n",
      "  1.10663027]\n",
      "[-1.30322327  0.55744077  0.23200154 -0.74665967 -0.99641489  0.40637714\n",
      "  1.09713411]\n",
      "[-1.27310526  0.55860708  0.23022455 -0.73241508 -1.00225383  0.39192574\n",
      "  1.08763796]\n",
      "[-1.24298726  0.55977338  0.22844756 -0.71817049 -1.00809276  0.37747434\n",
      "  1.0781418 ]\n",
      "[-1.21286925  0.56093969  0.22667057 -0.70392591 -1.0139317   0.36302293\n",
      "  1.06864564]\n",
      "[-1.18275125  0.56210599  0.22489358 -0.68968132 -1.01977063  0.34857153\n",
      "  1.05914949]\n",
      "[-1.15263324  0.5632723   0.22311659 -0.67543673 -1.02560957  0.33412013\n",
      "  1.04965333]\n",
      "[-1.12251523  0.5644386   0.2213396  -0.66119215 -1.03144851  0.31966872\n",
      "  1.04015717]\n",
      "[-1.09239723  0.5656049   0.21956261 -0.64694756 -1.03728744  0.30521732\n",
      "  1.03066102]\n",
      "[-1.06227922  0.56677121  0.21778562 -0.63270297 -1.04312638  0.29076592\n",
      "  1.02116486]\n",
      "[-1.03216122  0.56793751  0.21600863 -0.61845838 -1.04896531  0.27631451\n",
      "  1.0116687 ]\n",
      "[-1.00204321  0.56910382  0.21423164 -0.6042138  -1.05480425  0.26186311\n",
      "  1.00217255]\n",
      "[-0.9719252   0.57027012  0.21245465 -0.58996921 -1.06064319  0.24741171\n",
      "  0.99267639]\n",
      "[-0.9418072   0.57143643  0.21067766 -0.57572462 -1.06648212  0.2329603\n",
      "  0.98318023]\n",
      "[-0.91168919  0.57260273  0.20890067 -0.56148004 -1.07232106  0.2185089\n",
      "  0.97368408]\n"
     ]
    }
   ],
   "source": [
    "for ta in dense_waypoints:\n",
    "    print(ta)"
   ]
  },
  {
   "cell_type": "code",
   "execution_count": 165,
   "metadata": {},
   "outputs": [
    {
     "data": {
      "text/plain": [
       "71.60919540229885"
      ]
     },
     "execution_count": 165,
     "metadata": {},
     "output_type": "execute_result"
    }
   ],
   "source": [
    "hs = []\n",
    "\n",
    "for r in vs.regions:\n",
    "    hs.append(r.A().shape[0])\n",
    "np.mean(hs)"
   ]
  },
  {
   "cell_type": "code",
   "execution_count": 107,
   "metadata": {},
   "outputs": [
    {
     "name": "stdout",
     "output_type": "stream",
     "text": [
      "[[32]\n",
      " [45]\n",
      " [64]\n",
      " [69]\n",
      " [70]\n",
      " [71]\n",
      " [74]] disconnected nodes\n"
     ]
    },
    {
     "data": {
      "text/plain": [
       "(None,)"
      ]
     },
     "execution_count": 107,
     "metadata": {},
     "output_type": "execute_result"
    }
   ],
   "source": [
    "dist, pred = dijkstra(ad_mat, directed=False, indices=10, return_predecessors=True)\n",
    "print(f'{np.argwhere(dist == np.inf)} disconnected nodes'), #np.argwhere(pred == -9999))"
   ]
  },
  {
   "cell_type": "code",
   "execution_count": 105,
   "metadata": {},
   "outputs": [
    {
     "data": {
      "text/plain": [
       "array([ 29.94903904,   6.84408582,  28.14556355,  25.74365554,\n",
       "        26.91696334,   5.11944492,   4.05410702,   6.09102121,\n",
       "         5.27431335,   2.54056624,   0.        ,   8.12657567,\n",
       "         7.73436503,  10.21819863,   6.6985045 ,   4.85028035,\n",
       "         9.94016202,   4.64799687,  14.26327589,   8.95062303,\n",
       "         3.51636938,  11.29602561,   4.79078662,  23.69303501,\n",
       "        25.22362929,  23.40115606,  23.21897144,  22.44986197,\n",
       "        19.68708906,   2.45628974,  25.10766265,  28.52925012,\n",
       "                inf,  70.46954116,  81.7158397 ,  60.00518463,\n",
       "       103.64636859,  52.48091945,  75.89499381,  78.39243952,\n",
       "        80.94988483,  53.90720828,  43.9084998 ,  49.69789446,\n",
       "        26.93013639,          inf,  75.40405792,  73.44345549,\n",
       "       106.98671996, 107.67152555,  93.85786938, 108.1335536 ,\n",
       "        38.81935516, 124.28556881, 110.55226726, 124.9518669 ,\n",
       "        84.5550137 ,  81.93976515,  66.87657871,  90.75496007,\n",
       "        10.37945091,  17.39206999,  69.59489141, 124.90458817,\n",
       "                inf,  77.79948638, 101.17115334,  84.6591594 ,\n",
       "        94.56589422,          inf,          inf,          inf,\n",
       "        23.32672773,  15.68223847,          inf,  45.69392765,\n",
       "        39.74612859,  34.43629275,  24.10672063,  67.61953191,\n",
       "        91.7894298 ,  97.49244307,  11.00395803,   4.69113945,\n",
       "        91.01327567,  94.41617113,  35.04934322,  77.73701826,\n",
       "        91.55317847,  49.39497135,  37.82212222,  29.44627102,\n",
       "        18.08923046,  39.00460156,  44.91747219])"
      ]
     },
     "execution_count": 105,
     "metadata": {},
     "output_type": "execute_result"
    }
   ],
   "source": [
    "dist"
   ]
  },
  {
   "cell_type": "code",
   "execution_count": 53,
   "metadata": {},
   "outputs": [],
   "source": [
    "import networkx as nx\n",
    "c = []\n",
    "for comp in nx.connected_components(vs.connectivity_graph):\n",
    "    c.append(list(comp))"
   ]
  },
  {
   "cell_type": "code",
   "execution_count": 27,
   "metadata": {},
   "outputs": [
    {
     "data": {
      "text/plain": [
       "83"
      ]
     },
     "execution_count": 27,
     "metadata": {},
     "output_type": "execute_result"
    }
   ],
   "source": [
    "len(vs.regions)"
   ]
  },
  {
   "cell_type": "code",
   "execution_count": 57,
   "metadata": {},
   "outputs": [],
   "source": [
    "locs_connected_comps = [Ratfk.ComputeQValue(vs.regions[i].MaximumVolumeInscribedEllipsoid().center(), np.zeros(7)) for i in c[0]]"
   ]
  },
  {
   "cell_type": "code",
   "execution_count": 59,
   "metadata": {},
   "outputs": [],
   "source": [
    "color = Rgba(0,0,1,1.0)\n",
    "for i, qa in enumerate(locs_connected_comps):\n",
    "    #showres(qa)\n",
    "    #time.sleep(0.1)            \n",
    "    set_joint_angles(qa)\n",
    "    tf_tot= plant.EvalBodyPoseInWorld(plant_context, plant.get_body(pydrake.multibody.tree.BodyIndex(7)))\n",
    "    tf = tf_tot.translation() + tf_tot.GetAsMatrix4()[:3,:3][:,1] *0.15\n",
    "\n",
    "    meshcat1.SetObject(f\"/iris/points/reg_center_conn_comp/{i+start_idx}\",\n",
    "                           Sphere(0.03),\n",
    "                           color)\n",
    "\n",
    "    meshcat1.SetTransform(f\"/iris/points/reg_center_conn_comp/{i+start_idx}\",\n",
    "                               RigidTransform(RotationMatrix(),\n",
    "                                              tf))"
   ]
  },
  {
   "cell_type": "code",
   "execution_count": 71,
   "metadata": {},
   "outputs": [
    {
     "name": "stdout",
     "output_type": "stream",
     "text": [
      "0\n",
      "it: 0 distance to target:  3.199 goalsample prob:  0.100\n",
      "it: 1 distance to target:  3.167 goalsample prob:  0.100\n",
      "it: 2 distance to target:  3.153 goalsample prob:  0.100\n",
      "it: 5 distance to target:  3.134 goalsample prob:  0.100\n",
      "it: 50 distance to target:  3.115 goalsample prob:  0.100\n",
      "it: 53 distance to target:  3.108 goalsample prob:  0.100\n",
      "it: 134 distance to target:  3.105 goalsample prob:  0.100\n",
      "it: 138 distance to target:  3.103 goalsample prob:  0.100\n",
      "it: 140 distance to target:  3.091 goalsample prob:  0.100\n",
      "it: 143 distance to target:  3.090 goalsample prob:  0.100\n",
      "it: 329 distance to target:  3.076 goalsample prob:  0.100\n",
      "it: 362 distance to target:  3.075 goalsample prob:  0.100\n",
      "it: 517 distance to target:  3.068 goalsample prob:  0.100\n",
      "it: 531 distance to target:  3.064 goalsample prob:  0.100\n",
      "it: 741 distance to target:  3.026 goalsample prob:  0.100\n",
      "it: 880 distance to target:  3.025 goalsample prob:  0.100\n",
      "1000\n",
      "2000\n",
      "it: 2944 distance to target:  3.000 goalsample prob:  0.100\n",
      "3000\n",
      "4000\n",
      "it: 4016 distance to target:  2.998 goalsample prob:  0.100\n",
      "it: 4563 distance to target:  2.998 goalsample prob:  0.100\n",
      "5000\n",
      "it: 5334 distance to target:  2.991 goalsample prob:  0.100\n",
      "it: 5348 distance to target:  2.975 goalsample prob:  0.100\n",
      "6000\n",
      "it: 6448 distance to target:  2.950 goalsample prob:  0.100\n",
      "it: 6451 distance to target:  2.944 goalsample prob:  0.100\n",
      "it: 6500 distance to target:  2.942 goalsample prob:  0.100\n",
      "it: 6573 distance to target:  2.942 goalsample prob:  0.100\n",
      "7000\n",
      "it: 7203 distance to target:  2.913 goalsample prob:  0.100\n",
      "it: 7852 distance to target:  2.913 goalsample prob:  0.100\n",
      "it: 7993 distance to target:  2.899 goalsample prob:  0.100\n",
      "8000\n",
      "it: 8343 distance to target:  2.899 goalsample prob:  0.100\n",
      "it: 8344 distance to target:  2.869 goalsample prob:  0.100\n",
      "it: 8371 distance to target:  2.863 goalsample prob:  0.100\n",
      "it: 8485 distance to target:  2.862 goalsample prob:  0.100\n",
      "9000\n",
      "10000\n",
      "11000\n",
      "12000\n",
      "13000\n",
      "14000\n",
      "15000\n",
      "16000\n",
      "17000\n",
      "18000\n",
      "19000\n",
      "20000\n",
      "21000\n",
      "22000\n",
      "23000\n",
      "24000\n",
      "25000\n",
      "26000\n",
      "it: 26433 distance to target:  2.855 goalsample prob:  0.100\n",
      "it: 26437 distance to target:  2.835 goalsample prob:  0.100\n",
      "it: 26580 distance to target:  2.834 goalsample prob:  0.100\n",
      "it: 26592 distance to target:  2.736 goalsample prob:  0.100\n",
      "it: 26595 distance to target:  2.662 goalsample prob:  0.100\n",
      "it: 26677 distance to target:  2.660 goalsample prob:  0.100\n",
      "it: 26740 distance to target:  2.642 goalsample prob:  0.100\n",
      "it: 26749 distance to target:  2.634 goalsample prob:  0.100\n",
      "27000\n",
      "it: 27295 distance to target:  2.607 goalsample prob:  0.100\n",
      "it: 27310 distance to target:  2.581 goalsample prob:  0.100\n",
      "it: 27557 distance to target:  2.571 goalsample prob:  0.100\n",
      "it: 27577 distance to target:  2.529 goalsample prob:  0.100\n",
      "it: 27904 distance to target:  2.525 goalsample prob:  0.100\n",
      "it: 27924 distance to target:  2.427 goalsample prob:  0.100\n",
      "it: 27925 distance to target:  2.419 goalsample prob:  0.100\n",
      "28000\n",
      "it: 28181 distance to target:  2.409 goalsample prob:  0.100\n",
      "it: 28346 distance to target:  2.387 goalsample prob:  0.100\n",
      "it: 28352 distance to target:  2.341 goalsample prob:  0.100\n",
      "29000\n",
      "30000\n",
      "31000\n",
      "32000\n",
      "it: 32980 distance to target:  2.323 goalsample prob:  0.100\n",
      "33000\n",
      "it: 33126 distance to target:  2.311 goalsample prob:  0.100\n",
      "34000\n",
      "it: 34405 distance to target:  2.309 goalsample prob:  0.100\n",
      "35000\n",
      "it: 35189 distance to target:  2.300 goalsample prob:  0.100\n",
      "it: 35193 distance to target:  2.264 goalsample prob:  0.100\n",
      "36000\n",
      "37000\n",
      "38000\n",
      "39000\n",
      "it: 39228 distance to target:  2.242 goalsample prob:  0.100\n",
      "it: 39235 distance to target:  2.224 goalsample prob:  0.100\n",
      "it: 39310 distance to target:  2.223 goalsample prob:  0.100\n",
      "it: 39698 distance to target:  2.219 goalsample prob:  0.100\n",
      "it: 39700 distance to target:  2.193 goalsample prob:  0.100\n",
      "it: 39875 distance to target:  2.190 goalsample prob:  0.100\n",
      "40000\n",
      "it: 40380 distance to target:  2.190 goalsample prob:  0.100\n",
      "it: 40879 distance to target:  2.172 goalsample prob:  0.100\n",
      "it: 40882 distance to target:  2.170 goalsample prob:  0.100\n",
      "41000\n",
      "it: 41273 distance to target:  2.150 goalsample prob:  0.100\n",
      "it: 41373 distance to target:  2.144 goalsample prob:  0.100\n",
      "42000\n",
      "43000\n",
      "44000\n",
      "45000\n",
      "46000\n",
      "47000\n",
      "it: 47376 distance to target:  2.137 goalsample prob:  0.100\n",
      "it: 47607 distance to target:  2.136 goalsample prob:  0.100\n",
      "48000\n",
      "49000\n",
      "it: 49265 distance to target:  2.116 goalsample prob:  0.100\n",
      "it: 49269 distance to target:  2.100 goalsample prob:  0.100\n",
      "50000\n",
      "51000\n",
      "52000\n",
      "it: 52825 distance to target:  2.071 goalsample prob:  0.100\n",
      "it: 52826 distance to target:  2.033 goalsample prob:  0.100\n",
      "53000\n",
      "54000\n",
      "it: 54256 distance to target:  2.032 goalsample prob:  0.100\n",
      "55000\n",
      "56000\n",
      "57000\n",
      "58000\n",
      "59000\n",
      "60000\n",
      "61000\n",
      "62000\n",
      "63000\n",
      "it: 63348 distance to target:  2.032 goalsample prob:  0.100\n",
      "64000\n",
      "it: 64902 distance to target:  2.007 goalsample prob:  0.100\n",
      "it: 64903 distance to target:  1.909 goalsample prob:  0.100\n",
      "it: 64916 distance to target:  1.811 goalsample prob:  0.100\n",
      "65000\n",
      "it: 65557 distance to target:  1.810 goalsample prob:  0.100\n",
      "it: 65575 distance to target:  1.808 goalsample prob:  0.100\n",
      "it: 65838 distance to target:  1.801 goalsample prob:  0.100\n",
      "66000\n",
      "67000\n",
      "68000\n",
      "69000\n",
      "it: 69567 distance to target:  1.801 goalsample prob:  0.100\n",
      "70000\n",
      "it: 70425 distance to target:  1.787 goalsample prob:  0.100\n",
      "71000\n",
      "it: 71973 distance to target:  1.786 goalsample prob:  0.100\n",
      "72000\n",
      "73000\n",
      "it: 73050 distance to target:  1.786 goalsample prob:  0.100\n",
      "74000\n",
      "75000\n",
      "76000\n",
      "77000\n",
      "78000\n",
      "79000\n",
      "80000\n",
      "81000\n",
      "82000\n",
      "83000\n",
      "84000\n",
      "85000\n",
      "86000\n",
      "87000\n",
      "88000\n",
      "89000\n",
      "90000\n",
      "it: 90548 distance to target:  1.737 goalsample prob:  0.100\n",
      "91000\n",
      "92000\n",
      "93000\n",
      "94000\n",
      "95000\n",
      "96000\n",
      "97000\n",
      "98000\n",
      "99000\n",
      "[RRT] Could not find path in  99999  steps\n"
     ]
    }
   ],
   "source": [
    "from rrt import RRT\n",
    "RRT = RRT(start = start,\n",
    "              goal = target,\n",
    "              limits = limits_q,\n",
    "              col_func_handle=col_func_handle,\n",
    "              max_extend_length=0.1,\n",
    "              extend_steps=0.002,\n",
    "              init_goal_sample_rate=0.1,\n",
    "              goal_sample_rate_scaler=0.9,\n",
    "              verbose = True, \n",
    "              plotcallback = None,\n",
    "              sample_collision_free= False)\n",
    "\n",
    "success, path = RRT.run(100000)"
   ]
  },
  {
   "cell_type": "code",
   "execution_count": null,
   "metadata": {},
   "outputs": [],
   "source": []
  },
  {
   "cell_type": "code",
   "execution_count": null,
   "metadata": {},
   "outputs": [],
   "source": []
  }
 ],
 "metadata": {
  "kernelspec": {
   "display_name": "Python 3",
   "language": "python",
   "name": "python3"
  },
  "language_info": {
   "codemirror_mode": {
    "name": "ipython",
    "version": 3
   },
   "file_extension": ".py",
   "mimetype": "text/x-python",
   "name": "python",
   "nbconvert_exporter": "python",
   "pygments_lexer": "ipython3",
   "version": "3.8.10"
  },
  "vscode": {
   "interpreter": {
    "hash": "82cb315f25884f6c3630a939a9e3f6fadbbb663bc25feb1745738a94b8acc172"
   }
  }
 },
 "nbformat": 4,
 "nbformat_minor": 2
}
