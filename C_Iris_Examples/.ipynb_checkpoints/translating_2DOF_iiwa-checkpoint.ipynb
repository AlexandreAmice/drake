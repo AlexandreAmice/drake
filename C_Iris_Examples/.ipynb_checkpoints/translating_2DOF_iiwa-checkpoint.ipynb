{
 "cells": [
  {
   "cell_type": "code",
   "execution_count": 50,
   "metadata": {},
   "outputs": [
    {
     "name": "stdout",
     "output_type": "stream",
     "text": [
      "The autoreload extension is already loaded. To reload it, use:\n",
      "  %reload_ext autoreload\n"
     ]
    }
   ],
   "source": [
    "%load_ext autoreload"
   ]
  },
  {
   "cell_type": "code",
   "execution_count": 51,
   "metadata": {},
   "outputs": [],
   "source": [
    "import numpy as np\n",
    "from functools import partial\n",
    "import visualizations_utils as viz_utils\n",
    "from iris_plant_visualizer import IrisPlantVisualizer\n",
    "import ipywidgets as widgets\n",
    "from IPython.display import display"
   ]
  },
  {
   "cell_type": "code",
   "execution_count": 52,
   "metadata": {},
   "outputs": [],
   "source": [
    "#pydrake imports\n",
    "import pydrake\n",
    "from pydrake.common import FindResourceOrThrow\n",
    "from pydrake.multibody.parsing import Parser\n",
    "from pydrake.multibody.plant import AddMultibodyPlantSceneGraph\n",
    "from pydrake.multibody.parsing import LoadModelDirectives, Parser, ProcessModelDirectives\n",
    "from pydrake.systems.framework import DiagramBuilder\n",
    "from pydrake.geometry import Role, GeometrySet, CollisionFilterDeclaration\n",
    "from pydrake.solvers import mathematicalprogram as mp\n",
    "from pydrake.all import RigidTransform, RollPitchYaw, RevoluteJoint, Role\n",
    "\n",
    "import pydrake.multibody.rational_forward_kinematics as rational_forward_kinematics\n",
    "from pydrake.multibody.tree import JacobianWrtVariable\n",
    "from pydrake.all import RationalForwardKinematics\n",
    "from pydrake.geometry.optimization import (IrisOptionsRationalSpace, \n",
    "                                           IrisInRationalConfigurationSpace, \n",
    "                                           HPolyhedron, \n",
    "                                           Hyperellipsoid,\n",
    "                                           Iris, IrisOptions)\n",
    "from pydrake.common import FindResourceOrThrow\n",
    "#from pydrake.all import ConnectMeshcatVisualizer\n",
    "from pydrake.all import MeshcatVisualizerCpp, MeshcatVisualizerParams, Role, StartMeshcat,InverseKinematics, RotationMatrix\n",
    "from meshcat import Visualizer\n",
    "from visprm import VPRMSeeding, RandSeeding\n",
    "from dijkstraspp import DijkstraSPPsolver\n",
    "from pydrake.all import Rgba, Sphere"
   ]
  },
  {
   "cell_type": "code",
   "execution_count": 53,
   "metadata": {},
   "outputs": [
    {
     "name": "stderr",
     "output_type": "stream",
     "text": [
      "INFO:drake:Meshcat listening for connections at http://localhost:7003\n"
     ]
    }
   ],
   "source": [
    "meshcat1 = StartMeshcat()\n",
    "meshcat1.Delete()"
   ]
  },
  {
   "cell_type": "code",
   "execution_count": 54,
   "metadata": {},
   "outputs": [
    {
     "name": "stderr",
     "output_type": "stream",
     "text": [
      "<ipython-input-54-ea6489880d70>:4: DrakeDeprecationWarning: MeshcatVisualizerCpp has been renamed to MeshcatVisualizer. The deprecated code will be removed from Drake on or after 2022-11-01.\n",
      "  visualizer = MeshcatVisualizerCpp.AddToBuilder(builder, scene_graph, meshcat1)\n",
      "WARNING:drake:/home/peter/.cache/bazel/_bazel_peter/5aa5b6833d4da59efa7835f6457b4fa1/execroot/drake/bazel-out/k8-opt/bin/C_Iris_Examples/translating_2DOF_iiwa.runfiles/drake/C_Iris_Examples/assets/2dof_iiwa_translating_base.sdf:470: warning: Unsupported SDFormat element in model: plugin\n",
      "WARNING:drake:/home/peter/.cache/bazel/_bazel_peter/5aa5b6833d4da59efa7835f6457b4fa1/execroot/drake/bazel-out/k8-opt/bin/C_Iris_Examples/translating_2DOF_iiwa.runfiles/drake/C_Iris_Examples/assets/2dof_iiwa_translating_base.sdf:55: warning: Unsupported SDFormat element in link: velocity_decay\n",
      "WARNING:drake:/home/peter/.cache/bazel/_bazel_peter/5aa5b6833d4da59efa7835f6457b4fa1/execroot/drake/bazel-out/k8-opt/bin/C_Iris_Examples/translating_2DOF_iiwa.runfiles/drake/C_Iris_Examples/assets/2dof_iiwa_translating_base.sdf:56: warning: Unsupported SDFormat element in link: self_collide\n",
      "WARNING:drake:/home/peter/.cache/bazel/_bazel_peter/5aa5b6833d4da59efa7835f6457b4fa1/execroot/drake/bazel-out/k8-opt/bin/C_Iris_Examples/translating_2DOF_iiwa.runfiles/drake/C_Iris_Examples/assets/2dof_iiwa_translating_base.sdf:111: warning: Unsupported SDFormat element in link: velocity_decay\n",
      "WARNING:drake:/home/peter/.cache/bazel/_bazel_peter/5aa5b6833d4da59efa7835f6457b4fa1/execroot/drake/bazel-out/k8-opt/bin/C_Iris_Examples/translating_2DOF_iiwa.runfiles/drake/C_Iris_Examples/assets/2dof_iiwa_translating_base.sdf:112: warning: Unsupported SDFormat element in link: self_collide\n",
      "WARNING:drake:/home/peter/.cache/bazel/_bazel_peter/5aa5b6833d4da59efa7835f6457b4fa1/execroot/drake/bazel-out/k8-opt/bin/C_Iris_Examples/translating_2DOF_iiwa.runfiles/drake/C_Iris_Examples/assets/2dof_iiwa_translating_base.sdf:167: warning: Unsupported SDFormat element in link: velocity_decay\n",
      "WARNING:drake:/home/peter/.cache/bazel/_bazel_peter/5aa5b6833d4da59efa7835f6457b4fa1/execroot/drake/bazel-out/k8-opt/bin/C_Iris_Examples/translating_2DOF_iiwa.runfiles/drake/C_Iris_Examples/assets/2dof_iiwa_translating_base.sdf:168: warning: Unsupported SDFormat element in link: self_collide\n",
      "WARNING:drake:/home/peter/.cache/bazel/_bazel_peter/5aa5b6833d4da59efa7835f6457b4fa1/execroot/drake/bazel-out/k8-opt/bin/C_Iris_Examples/translating_2DOF_iiwa.runfiles/drake/C_Iris_Examples/assets/2dof_iiwa_translating_base.sdf:223: warning: Unsupported SDFormat element in link: velocity_decay\n",
      "WARNING:drake:/home/peter/.cache/bazel/_bazel_peter/5aa5b6833d4da59efa7835f6457b4fa1/execroot/drake/bazel-out/k8-opt/bin/C_Iris_Examples/translating_2DOF_iiwa.runfiles/drake/C_Iris_Examples/assets/2dof_iiwa_translating_base.sdf:224: warning: Unsupported SDFormat element in link: self_collide\n",
      "WARNING:drake:/home/peter/.cache/bazel/_bazel_peter/5aa5b6833d4da59efa7835f6457b4fa1/execroot/drake/bazel-out/k8-opt/bin/C_Iris_Examples/translating_2DOF_iiwa.runfiles/drake/C_Iris_Examples/assets/2dof_iiwa_translating_base.sdf:279: warning: Unsupported SDFormat element in link: velocity_decay\n",
      "WARNING:drake:/home/peter/.cache/bazel/_bazel_peter/5aa5b6833d4da59efa7835f6457b4fa1/execroot/drake/bazel-out/k8-opt/bin/C_Iris_Examples/translating_2DOF_iiwa.runfiles/drake/C_Iris_Examples/assets/2dof_iiwa_translating_base.sdf:280: warning: Unsupported SDFormat element in link: self_collide\n",
      "WARNING:drake:/home/peter/.cache/bazel/_bazel_peter/5aa5b6833d4da59efa7835f6457b4fa1/execroot/drake/bazel-out/k8-opt/bin/C_Iris_Examples/translating_2DOF_iiwa.runfiles/drake/C_Iris_Examples/assets/2dof_iiwa_translating_base.sdf:335: warning: Unsupported SDFormat element in link: velocity_decay\n",
      "WARNING:drake:/home/peter/.cache/bazel/_bazel_peter/5aa5b6833d4da59efa7835f6457b4fa1/execroot/drake/bazel-out/k8-opt/bin/C_Iris_Examples/translating_2DOF_iiwa.runfiles/drake/C_Iris_Examples/assets/2dof_iiwa_translating_base.sdf:336: warning: Unsupported SDFormat element in link: self_collide\n",
      "WARNING:drake:/home/peter/.cache/bazel/_bazel_peter/5aa5b6833d4da59efa7835f6457b4fa1/execroot/drake/bazel-out/k8-opt/bin/C_Iris_Examples/translating_2DOF_iiwa.runfiles/drake/C_Iris_Examples/assets/2dof_iiwa_translating_base.sdf:391: warning: Unsupported SDFormat element in link: velocity_decay\n",
      "WARNING:drake:/home/peter/.cache/bazel/_bazel_peter/5aa5b6833d4da59efa7835f6457b4fa1/execroot/drake/bazel-out/k8-opt/bin/C_Iris_Examples/translating_2DOF_iiwa.runfiles/drake/C_Iris_Examples/assets/2dof_iiwa_translating_base.sdf:392: warning: Unsupported SDFormat element in link: self_collide\n",
      "WARNING:drake:/home/peter/.cache/bazel/_bazel_peter/5aa5b6833d4da59efa7835f6457b4fa1/execroot/drake/bazel-out/k8-opt/bin/C_Iris_Examples/translating_2DOF_iiwa.runfiles/drake/C_Iris_Examples/assets/2dof_iiwa_translating_base.sdf:447: warning: Unsupported SDFormat element in link: velocity_decay\n",
      "WARNING:drake:/home/peter/.cache/bazel/_bazel_peter/5aa5b6833d4da59efa7835f6457b4fa1/execroot/drake/bazel-out/k8-opt/bin/C_Iris_Examples/translating_2DOF_iiwa.runfiles/drake/C_Iris_Examples/assets/2dof_iiwa_translating_base.sdf:448: warning: Unsupported SDFormat element in link: self_collide\n"
     ]
    }
   ],
   "source": [
    "builder = DiagramBuilder()\n",
    "plant, scene_graph = AddMultibodyPlantSceneGraph(builder, time_step=1e-4)\n",
    "parser = Parser(plant)\n",
    "visualizer = MeshcatVisualizerCpp.AddToBuilder(builder, scene_graph, meshcat1)\n",
    "directives_file = FindResourceOrThrow(\"drake/C_Iris_Examples/trans2dof_directives.yaml\") \n",
    "directives = LoadModelDirectives(directives_file)\n",
    "models = ProcessModelDirectives(directives, plant, parser)\n",
    "plant.Finalize()\n",
    "diagram = builder.Build()\n",
    "context = diagram.CreateDefaultContext()\n",
    "plant_context = plant.GetMyContextFromRoot(context)\n",
    "diagram.Publish(context)\n",
    "#Ratfk = RationalForwardKinematics(plant)"
   ]
  },
  {
   "cell_type": "code",
   "execution_count": 55,
   "metadata": {},
   "outputs": [],
   "source": [
    "sliders = []\n",
    "for joint_idx in [0,2]:\n",
    "    sliders.append(\n",
    "        widgets.FloatSlider(\n",
    "        min=plant.GetJointByName(f\"iiwa_joint_{joint_idx}\").position_lower_limit(), \n",
    "        max=plant.GetJointByName(f\"iiwa_joint_{joint_idx}\").position_upper_limit(), \n",
    "        value=0, \n",
    "        description=f'iiwa_joint_{joint_idx}'\n",
    "        )\n",
    "    )\n",
    "    \n",
    "def showres(q):\n",
    "    for q_idx, joint_idx in zip([1],[2]):\n",
    "        plant.GetJointByName(f\"iiwa_joint_{joint_idx}\").set_angle(plant_context, q[q_idx])\n",
    "    plant.GetJointByName(f\"iiwa_joint_{0}\").set_translation(plant_context, q[0])\n",
    "    diagram.Publish(context)\n",
    "    \n",
    "def handle_slider_change(change, idx):\n",
    "    q[idx] = change['new']\n",
    "    #print(q, end=\"\\r\")\n",
    "    showres(q)\n",
    "\n",
    "q_init = [0.0, 0.0]\n",
    "# q_start = [-1.37, -1.39, -1.57, -1.19, -1.57, 0.00, 0.00]\n",
    "# q_end = [1.53, -1.19, 1.83, 0.91, -1.27, -0.59, 0.00]\n",
    "q = q_init.copy()\n",
    "def handle_slider_change(change, idx):\n",
    "    q[idx] = change['new']\n",
    "    #print(q, end=\"\\r\")\n",
    "    showres(q)\n",
    "idx = 0\n",
    "for slider in sliders:\n",
    "    slider.observe(partial(handle_slider_change, idx = idx), names='value')\n",
    "    idx+=1"
   ]
  },
  {
   "cell_type": "code",
   "execution_count": 56,
   "metadata": {},
   "outputs": [
    {
     "data": {
      "application/vnd.jupyter.widget-view+json": {
       "model_id": "f749f88905af434ab4e7a63c6e0171c0",
       "version_major": 2,
       "version_minor": 0
      },
      "text/plain": [
       "FloatSlider(value=0.0, description='iiwa_joint_0', max=0.96706, min=-0.96706)"
      ]
     },
     "metadata": {},
     "output_type": "display_data"
    },
    {
     "data": {
      "application/vnd.jupyter.widget-view+json": {
       "model_id": "c3d8f1c07aad476f83e69fdca8bbef6b",
       "version_major": 2,
       "version_minor": 0
      },
      "text/plain": [
       "FloatSlider(value=0.0, description='iiwa_joint_2', max=2.0944, min=-2.0944)"
      ]
     },
     "metadata": {},
     "output_type": "display_data"
    }
   ],
   "source": [
    "for slider in sliders:\n",
    "    display(slider)"
   ]
  },
  {
   "cell_type": "code",
   "execution_count": 57,
   "metadata": {},
   "outputs": [
    {
     "ename": "TypeError",
     "evalue": "set_translation(): incompatible function arguments. The following argument types are supported:\n    1. (self: pydrake.multibody.tree.PrismaticJoint_[float], context: pydrake.systems.framework.Context_[float], translation: float) -> pydrake.multibody.tree.PrismaticJoint_[float]\n\nInvoked with: <PrismaticJoint_[float] name='iiwa_joint_0' index=0 model_instance=2>",
     "output_type": "error",
     "traceback": [
      "\u001b[0;31m---------------------------------------------------------------------------\u001b[0m",
      "\u001b[0;31mTypeError\u001b[0m                                 Traceback (most recent call last)",
      "\u001b[0;32m<ipython-input-57-8117234c92c6>\u001b[0m in \u001b[0;36m<module>\u001b[0;34m\u001b[0m\n\u001b[0;32m----> 1\u001b[0;31m \u001b[0mplant\u001b[0m\u001b[0;34m.\u001b[0m\u001b[0mGetJointByName\u001b[0m\u001b[0;34m(\u001b[0m\u001b[0;34mf\"iiwa_joint_{0}\"\u001b[0m\u001b[0;34m)\u001b[0m\u001b[0;34m.\u001b[0m\u001b[0mset_translation\u001b[0m\u001b[0;34m(\u001b[0m\u001b[0;34m)\u001b[0m\u001b[0;34m\u001b[0m\u001b[0;34m\u001b[0m\u001b[0m\n\u001b[0m",
      "\u001b[0;31mTypeError\u001b[0m: set_translation(): incompatible function arguments. The following argument types are supported:\n    1. (self: pydrake.multibody.tree.PrismaticJoint_[float], context: pydrake.systems.framework.Context_[float], translation: float) -> pydrake.multibody.tree.PrismaticJoint_[float]\n\nInvoked with: <PrismaticJoint_[float] name='iiwa_joint_0' index=0 model_instance=2>"
     ]
    }
   ],
   "source": [
    "plant.GetJointByName(f\"iiwa_joint_{0}\").set_translation()"
   ]
  },
  {
   "cell_type": "code",
   "execution_count": null,
   "metadata": {},
   "outputs": [],
   "source": []
  },
  {
   "cell_type": "code",
   "execution_count": null,
   "metadata": {},
   "outputs": [],
   "source": []
  },
  {
   "cell_type": "code",
   "execution_count": null,
   "metadata": {},
   "outputs": [],
   "source": []
  },
  {
   "cell_type": "code",
   "execution_count": null,
   "metadata": {},
   "outputs": [],
   "source": []
  },
  {
   "cell_type": "code",
   "execution_count": 2,
   "metadata": {},
   "outputs": [],
   "source": [
    "import numpy as np\n",
    "from functools import partial\n",
    "import visualizations_utils as viz_utils\n",
    "from iris_plant_visualizer import IrisPlantVisualizer\n",
    "import ipywidgets as widgets\n",
    "from IPython.display import display"
   ]
  },
  {
   "cell_type": "code",
   "execution_count": 3,
   "metadata": {},
   "outputs": [],
   "source": [
    "#pydrake imports\n",
    "import pydrake\n",
    "from pydrake.common import FindResourceOrThrow\n",
    "from pydrake.multibody.parsing import Parser\n",
    "from pydrake.multibody.plant import AddMultibodyPlantSceneGraph\n",
    "from pydrake.systems.framework import DiagramBuilder\n",
    "from pydrake.geometry import Role, GeometrySet, CollisionFilterDeclaration\n",
    "from pydrake.solvers import mathematicalprogram as mp\n",
    "from pydrake.all import RigidTransform, RollPitchYaw, RevoluteJoint\n",
    "\n",
    "import pydrake.multibody.rational_forward_kinematics as rational_forward_kinematics\n",
    "from pydrake.all import RationalForwardKinematics\n",
    "from pydrake.geometry.optimization import (IrisOptionsRationalSpace, \n",
    "                                           IrisInRationalConfigurationSpace, \n",
    "                                           HPolyhedron, \n",
    "                                           Hyperellipsoid,\n",
    "                                           Iris, IrisOptions)\n",
    "from visprm import VPRMSeeding\n",
    "from dijkstraspp import DijkstraSPPsolver                                          "
   ]
  },
  {
   "cell_type": "markdown",
   "metadata": {},
   "source": [
    "# Build and set up the visualization the plant and the visualization of the C-space obstacle"
   ]
  },
  {
   "cell_type": "markdown",
   "metadata": {},
   "source": [
    "Note that running this cell multiple times will establish multiple meshcat instances which can fill up your memory. It is a good idea to call \"pkill -f meshcat\" from the command line before re-running this cell"
   ]
  },
  {
   "cell_type": "code",
   "execution_count": 4,
   "metadata": {
    "scrolled": true
   },
   "outputs": [
    {
     "name": "stderr",
     "output_type": "stream",
     "text": [
      "WARNING:drake:/home/peter/.cache/bazel/_bazel_peter/5aa5b6833d4da59efa7835f6457b4fa1/execroot/drake/bazel-out/k8-opt/bin/C_Iris_Examples/vprm_iris_seeding_3DOF.runfiles/drake/C_Iris_Examples/assets/twoDOF_iiwa7_with_box_collision.sdf:433: warning: Unsupported SDFormat element in model: plugin\n",
      "WARNING:drake:/home/peter/.cache/bazel/_bazel_peter/5aa5b6833d4da59efa7835f6457b4fa1/execroot/drake/bazel-out/k8-opt/bin/C_Iris_Examples/vprm_iris_seeding_3DOF.runfiles/drake/C_Iris_Examples/assets/twoDOF_iiwa7_with_box_collision.sdf:37: warning: Unsupported SDFormat element in link: velocity_decay\n",
      "WARNING:drake:/home/peter/.cache/bazel/_bazel_peter/5aa5b6833d4da59efa7835f6457b4fa1/execroot/drake/bazel-out/k8-opt/bin/C_Iris_Examples/vprm_iris_seeding_3DOF.runfiles/drake/C_Iris_Examples/assets/twoDOF_iiwa7_with_box_collision.sdf:38: warning: Unsupported SDFormat element in link: self_collide\n",
      "WARNING:drake:/home/peter/.cache/bazel/_bazel_peter/5aa5b6833d4da59efa7835f6457b4fa1/execroot/drake/bazel-out/k8-opt/bin/C_Iris_Examples/vprm_iris_seeding_3DOF.runfiles/drake/C_Iris_Examples/assets/twoDOF_iiwa7_with_box_collision.sdf:74: warning: Unsupported SDFormat element in link: velocity_decay\n",
      "WARNING:drake:/home/peter/.cache/bazel/_bazel_peter/5aa5b6833d4da59efa7835f6457b4fa1/execroot/drake/bazel-out/k8-opt/bin/C_Iris_Examples/vprm_iris_seeding_3DOF.runfiles/drake/C_Iris_Examples/assets/twoDOF_iiwa7_with_box_collision.sdf:75: warning: Unsupported SDFormat element in link: self_collide\n",
      "WARNING:drake:/home/peter/.cache/bazel/_bazel_peter/5aa5b6833d4da59efa7835f6457b4fa1/execroot/drake/bazel-out/k8-opt/bin/C_Iris_Examples/vprm_iris_seeding_3DOF.runfiles/drake/C_Iris_Examples/assets/twoDOF_iiwa7_with_box_collision.sdf:130: warning: Unsupported SDFormat element in link: velocity_decay\n",
      "WARNING:drake:/home/peter/.cache/bazel/_bazel_peter/5aa5b6833d4da59efa7835f6457b4fa1/execroot/drake/bazel-out/k8-opt/bin/C_Iris_Examples/vprm_iris_seeding_3DOF.runfiles/drake/C_Iris_Examples/assets/twoDOF_iiwa7_with_box_collision.sdf:131: warning: Unsupported SDFormat element in link: self_collide\n",
      "WARNING:drake:/home/peter/.cache/bazel/_bazel_peter/5aa5b6833d4da59efa7835f6457b4fa1/execroot/drake/bazel-out/k8-opt/bin/C_Iris_Examples/vprm_iris_seeding_3DOF.runfiles/drake/C_Iris_Examples/assets/twoDOF_iiwa7_with_box_collision.sdf:186: warning: Unsupported SDFormat element in link: velocity_decay\n",
      "WARNING:drake:/home/peter/.cache/bazel/_bazel_peter/5aa5b6833d4da59efa7835f6457b4fa1/execroot/drake/bazel-out/k8-opt/bin/C_Iris_Examples/vprm_iris_seeding_3DOF.runfiles/drake/C_Iris_Examples/assets/twoDOF_iiwa7_with_box_collision.sdf:187: warning: Unsupported SDFormat element in link: self_collide\n",
      "WARNING:drake:/home/peter/.cache/bazel/_bazel_peter/5aa5b6833d4da59efa7835f6457b4fa1/execroot/drake/bazel-out/k8-opt/bin/C_Iris_Examples/vprm_iris_seeding_3DOF.runfiles/drake/C_Iris_Examples/assets/twoDOF_iiwa7_with_box_collision.sdf:242: warning: Unsupported SDFormat element in link: velocity_decay\n",
      "WARNING:drake:/home/peter/.cache/bazel/_bazel_peter/5aa5b6833d4da59efa7835f6457b4fa1/execroot/drake/bazel-out/k8-opt/bin/C_Iris_Examples/vprm_iris_seeding_3DOF.runfiles/drake/C_Iris_Examples/assets/twoDOF_iiwa7_with_box_collision.sdf:243: warning: Unsupported SDFormat element in link: self_collide\n",
      "WARNING:drake:/home/peter/.cache/bazel/_bazel_peter/5aa5b6833d4da59efa7835f6457b4fa1/execroot/drake/bazel-out/k8-opt/bin/C_Iris_Examples/vprm_iris_seeding_3DOF.runfiles/drake/C_Iris_Examples/assets/twoDOF_iiwa7_with_box_collision.sdf:298: warning: Unsupported SDFormat element in link: velocity_decay\n",
      "WARNING:drake:/home/peter/.cache/bazel/_bazel_peter/5aa5b6833d4da59efa7835f6457b4fa1/execroot/drake/bazel-out/k8-opt/bin/C_Iris_Examples/vprm_iris_seeding_3DOF.runfiles/drake/C_Iris_Examples/assets/twoDOF_iiwa7_with_box_collision.sdf:299: warning: Unsupported SDFormat element in link: self_collide\n",
      "WARNING:drake:/home/peter/.cache/bazel/_bazel_peter/5aa5b6833d4da59efa7835f6457b4fa1/execroot/drake/bazel-out/k8-opt/bin/C_Iris_Examples/vprm_iris_seeding_3DOF.runfiles/drake/C_Iris_Examples/assets/twoDOF_iiwa7_with_box_collision.sdf:354: warning: Unsupported SDFormat element in link: velocity_decay\n",
      "WARNING:drake:/home/peter/.cache/bazel/_bazel_peter/5aa5b6833d4da59efa7835f6457b4fa1/execroot/drake/bazel-out/k8-opt/bin/C_Iris_Examples/vprm_iris_seeding_3DOF.runfiles/drake/C_Iris_Examples/assets/twoDOF_iiwa7_with_box_collision.sdf:355: warning: Unsupported SDFormat element in link: self_collide\n",
      "WARNING:drake:/home/peter/.cache/bazel/_bazel_peter/5aa5b6833d4da59efa7835f6457b4fa1/execroot/drake/bazel-out/k8-opt/bin/C_Iris_Examples/vprm_iris_seeding_3DOF.runfiles/drake/C_Iris_Examples/assets/twoDOF_iiwa7_with_box_collision.sdf:410: warning: Unsupported SDFormat element in link: velocity_decay\n",
      "WARNING:drake:/home/peter/.cache/bazel/_bazel_peter/5aa5b6833d4da59efa7835f6457b4fa1/execroot/drake/bazel-out/k8-opt/bin/C_Iris_Examples/vprm_iris_seeding_3DOF.runfiles/drake/C_Iris_Examples/assets/twoDOF_iiwa7_with_box_collision.sdf:411: warning: Unsupported SDFormat element in link: self_collide\n",
      "WARNING:drake:/home/peter/.cache/bazel/_bazel_peter/5aa5b6833d4da59efa7835f6457b4fa1/execroot/drake/bazel-out/k8-opt/bin/C_Iris_Examples/vprm_iris_seeding_3DOF.runfiles/drake/C_Iris_Examples/assets/oneDOF_iiwa7_with_box_collision.sdf:433: warning: Unsupported SDFormat element in model: plugin\n",
      "WARNING:drake:/home/peter/.cache/bazel/_bazel_peter/5aa5b6833d4da59efa7835f6457b4fa1/execroot/drake/bazel-out/k8-opt/bin/C_Iris_Examples/vprm_iris_seeding_3DOF.runfiles/drake/C_Iris_Examples/assets/oneDOF_iiwa7_with_box_collision.sdf:37: warning: Unsupported SDFormat element in link: velocity_decay\n",
      "WARNING:drake:/home/peter/.cache/bazel/_bazel_peter/5aa5b6833d4da59efa7835f6457b4fa1/execroot/drake/bazel-out/k8-opt/bin/C_Iris_Examples/vprm_iris_seeding_3DOF.runfiles/drake/C_Iris_Examples/assets/oneDOF_iiwa7_with_box_collision.sdf:38: warning: Unsupported SDFormat element in link: self_collide\n",
      "WARNING:drake:/home/peter/.cache/bazel/_bazel_peter/5aa5b6833d4da59efa7835f6457b4fa1/execroot/drake/bazel-out/k8-opt/bin/C_Iris_Examples/vprm_iris_seeding_3DOF.runfiles/drake/C_Iris_Examples/assets/oneDOF_iiwa7_with_box_collision.sdf:74: warning: Unsupported SDFormat element in link: velocity_decay\n",
      "WARNING:drake:/home/peter/.cache/bazel/_bazel_peter/5aa5b6833d4da59efa7835f6457b4fa1/execroot/drake/bazel-out/k8-opt/bin/C_Iris_Examples/vprm_iris_seeding_3DOF.runfiles/drake/C_Iris_Examples/assets/oneDOF_iiwa7_with_box_collision.sdf:75: warning: Unsupported SDFormat element in link: self_collide\n",
      "WARNING:drake:/home/peter/.cache/bazel/_bazel_peter/5aa5b6833d4da59efa7835f6457b4fa1/execroot/drake/bazel-out/k8-opt/bin/C_Iris_Examples/vprm_iris_seeding_3DOF.runfiles/drake/C_Iris_Examples/assets/oneDOF_iiwa7_with_box_collision.sdf:130: warning: Unsupported SDFormat element in link: velocity_decay\n",
      "WARNING:drake:/home/peter/.cache/bazel/_bazel_peter/5aa5b6833d4da59efa7835f6457b4fa1/execroot/drake/bazel-out/k8-opt/bin/C_Iris_Examples/vprm_iris_seeding_3DOF.runfiles/drake/C_Iris_Examples/assets/oneDOF_iiwa7_with_box_collision.sdf:131: warning: Unsupported SDFormat element in link: self_collide\n",
      "WARNING:drake:/home/peter/.cache/bazel/_bazel_peter/5aa5b6833d4da59efa7835f6457b4fa1/execroot/drake/bazel-out/k8-opt/bin/C_Iris_Examples/vprm_iris_seeding_3DOF.runfiles/drake/C_Iris_Examples/assets/oneDOF_iiwa7_with_box_collision.sdf:186: warning: Unsupported SDFormat element in link: velocity_decay\n",
      "WARNING:drake:/home/peter/.cache/bazel/_bazel_peter/5aa5b6833d4da59efa7835f6457b4fa1/execroot/drake/bazel-out/k8-opt/bin/C_Iris_Examples/vprm_iris_seeding_3DOF.runfiles/drake/C_Iris_Examples/assets/oneDOF_iiwa7_with_box_collision.sdf:187: warning: Unsupported SDFormat element in link: self_collide\n",
      "WARNING:drake:/home/peter/.cache/bazel/_bazel_peter/5aa5b6833d4da59efa7835f6457b4fa1/execroot/drake/bazel-out/k8-opt/bin/C_Iris_Examples/vprm_iris_seeding_3DOF.runfiles/drake/C_Iris_Examples/assets/oneDOF_iiwa7_with_box_collision.sdf:242: warning: Unsupported SDFormat element in link: velocity_decay\n",
      "WARNING:drake:/home/peter/.cache/bazel/_bazel_peter/5aa5b6833d4da59efa7835f6457b4fa1/execroot/drake/bazel-out/k8-opt/bin/C_Iris_Examples/vprm_iris_seeding_3DOF.runfiles/drake/C_Iris_Examples/assets/oneDOF_iiwa7_with_box_collision.sdf:243: warning: Unsupported SDFormat element in link: self_collide\n"
     ]
    },
    {
     "name": "stderr",
     "output_type": "stream",
     "text": [
      "WARNING:drake:/home/peter/.cache/bazel/_bazel_peter/5aa5b6833d4da59efa7835f6457b4fa1/execroot/drake/bazel-out/k8-opt/bin/C_Iris_Examples/vprm_iris_seeding_3DOF.runfiles/drake/C_Iris_Examples/assets/oneDOF_iiwa7_with_box_collision.sdf:298: warning: Unsupported SDFormat element in link: velocity_decay\n",
      "WARNING:drake:/home/peter/.cache/bazel/_bazel_peter/5aa5b6833d4da59efa7835f6457b4fa1/execroot/drake/bazel-out/k8-opt/bin/C_Iris_Examples/vprm_iris_seeding_3DOF.runfiles/drake/C_Iris_Examples/assets/oneDOF_iiwa7_with_box_collision.sdf:299: warning: Unsupported SDFormat element in link: self_collide\n",
      "WARNING:drake:/home/peter/.cache/bazel/_bazel_peter/5aa5b6833d4da59efa7835f6457b4fa1/execroot/drake/bazel-out/k8-opt/bin/C_Iris_Examples/vprm_iris_seeding_3DOF.runfiles/drake/C_Iris_Examples/assets/oneDOF_iiwa7_with_box_collision.sdf:354: warning: Unsupported SDFormat element in link: velocity_decay\n",
      "WARNING:drake:/home/peter/.cache/bazel/_bazel_peter/5aa5b6833d4da59efa7835f6457b4fa1/execroot/drake/bazel-out/k8-opt/bin/C_Iris_Examples/vprm_iris_seeding_3DOF.runfiles/drake/C_Iris_Examples/assets/oneDOF_iiwa7_with_box_collision.sdf:355: warning: Unsupported SDFormat element in link: self_collide\n",
      "WARNING:drake:/home/peter/.cache/bazel/_bazel_peter/5aa5b6833d4da59efa7835f6457b4fa1/execroot/drake/bazel-out/k8-opt/bin/C_Iris_Examples/vprm_iris_seeding_3DOF.runfiles/drake/C_Iris_Examples/assets/oneDOF_iiwa7_with_box_collision.sdf:410: warning: Unsupported SDFormat element in link: velocity_decay\n",
      "WARNING:drake:/home/peter/.cache/bazel/_bazel_peter/5aa5b6833d4da59efa7835f6457b4fa1/execroot/drake/bazel-out/k8-opt/bin/C_Iris_Examples/vprm_iris_seeding_3DOF.runfiles/drake/C_Iris_Examples/assets/oneDOF_iiwa7_with_box_collision.sdf:411: warning: Unsupported SDFormat element in link: self_collide\n",
      "INFO:drake:Meshcat listening for connections at http://localhost:7001\n",
      "INFO:drake:Meshcat listening for connections at http://localhost:7002\n",
      "/home/peter/git/vprmintegration/drake/C_Iris_Examples/iris_plant_visualizer.py:31: DrakeDeprecationWarning: MeshcatVisualizerCpp has been renamed to MeshcatVisualizer. The deprecated code will be removed from Drake on or after 2022-11-01.\n",
      "  self.vis = MeshcatVisualizerCpp.AddToBuilder(builder, scene_graph, self.meshcat1)\n"
     ]
    }
   ],
   "source": [
    "builder = DiagramBuilder()\n",
    "plant, scene_graph = AddMultibodyPlantSceneGraph(builder, time_step=0.001)\n",
    "parser = Parser(plant)\n",
    "oneDOF_iiwa_asset = FindResourceOrThrow(\"drake/C_Iris_Examples/assets/oneDOF_iiwa7_with_box_collision.sdf\")\n",
    "twoDOF_iiwa_asset = FindResourceOrThrow(\"drake/C_Iris_Examples/assets/twoDOF_iiwa7_with_box_collision.sdf\")\n",
    "\n",
    "box_asset = FindResourceOrThrow(\"drake/C_Iris_Examples/assets/box_small.urdf\")\n",
    "\n",
    "models = []\n",
    "models.append(parser.AddModelFromFile(box_asset))\n",
    "models.append(parser.AddModelFromFile(twoDOF_iiwa_asset))\n",
    "models.append(parser.AddModelFromFile(oneDOF_iiwa_asset))\n",
    "\n",
    "\n",
    "\n",
    "locs = [[0.,0.,0.],\n",
    "        [0.,.55,0.],\n",
    "        [0.,-.55,0.]]\n",
    "plant.WeldFrames(plant.world_frame(), \n",
    "                 plant.GetFrameByName(\"base\", models[0]),\n",
    "                 RigidTransform(locs[0]))\n",
    "plant.WeldFrames(plant.world_frame(), \n",
    "                 plant.GetFrameByName(\"iiwa_twoDOF_link_0\", models[1]), \n",
    "                 RigidTransform(RollPitchYaw([0,0, -np.pi/2]).ToRotationMatrix(), locs[1]))\n",
    "plant.WeldFrames(plant.world_frame(), \n",
    "                 plant.GetFrameByName(\"iiwa_oneDOF_link_0\", models[2]), \n",
    "                 RigidTransform(RollPitchYaw([0,0, -np.pi/2]).ToRotationMatrix(), locs[2]))\n",
    "\n",
    "\n",
    "plant.Finalize()\n",
    "\n",
    "idx = 0\n",
    "q0 = [0.0, 0.0, 0.0]\n",
    "q_low  = [-1.7, -2., -1.7]\n",
    "q_high = [ 1.7,  2.,  1.7]\n",
    "# set the joint limits of the plant\n",
    "for model in models:\n",
    "    for joint_index in plant.GetJointIndices(model):\n",
    "        joint = plant.get_mutable_joint(joint_index)\n",
    "        if isinstance(joint, RevoluteJoint):\n",
    "            joint.set_default_angle(q0[idx])\n",
    "            joint.set_position_limits(lower_limits= np.array([q_low[idx]]), upper_limits= np.array([q_high[idx]]))\n",
    "            idx += 1\n",
    "        \n",
    "# construct the RationalForwardKinematics of this plant. This object handles the\n",
    "# computations for the forward kinematics in the tangent-configuration space\n",
    "Ratfk = RationalForwardKinematics(plant)\n",
    "\n",
    "# the point about which we will take the stereographic projections\n",
    "q_star = np.zeros(3)\n",
    "\n",
    "#compute limits in t-space\n",
    "limits_t = []\n",
    "for q in [q_low, q_high]:\n",
    "    limits_t.append(Ratfk.ComputeTValue(np.array(q), q_star))\n",
    "\n",
    "do_viz = True\n",
    "\n",
    "# This line builds the visualization. Change the viz_role to Role.kIllustration if you\n",
    "# want to see the plant with its illustrated geometry or to Role.kProximity\n",
    "visualizer = IrisPlantVisualizer(plant, builder, scene_graph, viz_role=Role.kIllustration)\n",
    "diagram = visualizer.diagram\n",
    "\n",
    "# This line will run marching cubes to generate a mesh of the C-space obstacle\n",
    "# Increase N to increase the resolution of the C-space obstacle.\n",
    "visualizer.visualize_collision_constraint(N = 60)"
   ]
  },
  {
   "cell_type": "markdown",
   "metadata": {},
   "source": [
    "# Set up the sliders so we can move the plant around manually\n"
   ]
  },
  {
   "cell_type": "code",
   "execution_count": 5,
   "metadata": {},
   "outputs": [
    {
     "data": {
      "application/vnd.jupyter.widget-view+json": {
       "model_id": "c28e7a1e26064f00abf5e05d82eeb0d2",
       "version_major": 2,
       "version_minor": 0
      },
      "text/plain": [
       "FloatSlider(value=0.0, description='q0', max=1.7, min=-1.7)"
      ]
     },
     "metadata": {},
     "output_type": "display_data"
    },
    {
     "data": {
      "application/vnd.jupyter.widget-view+json": {
       "model_id": "6e78b07b363d4ac885a59132eac22856",
       "version_major": 2,
       "version_minor": 0
      },
      "text/plain": [
       "FloatSlider(value=0.0, description='q1', max=2.0, min=-2.0)"
      ]
     },
     "metadata": {},
     "output_type": "display_data"
    },
    {
     "data": {
      "application/vnd.jupyter.widget-view+json": {
       "model_id": "65eba3d473cf4e82a80c87b2cc941e08",
       "version_major": 2,
       "version_minor": 0
      },
      "text/plain": [
       "FloatSlider(value=0.0, description='q2', max=1.7, min=-1.7)"
      ]
     },
     "metadata": {},
     "output_type": "display_data"
    }
   ],
   "source": [
    "sliders = []\n",
    "sliders.append(widgets.FloatSlider(min=q_low[0], max=q_high[0], value=0, description='q0'))\n",
    "sliders.append(widgets.FloatSlider(min=q_low[1], max=q_high[1], value=0, description='q1'))\n",
    "sliders.append(widgets.FloatSlider(min=q_low[2], max=q_high[2], value=0, description='q2'))\n",
    "\n",
    "q = q0.copy()\n",
    "def handle_slider_change(change, idx):\n",
    "    q[idx] = change['new']\n",
    "    visualizer.showres(q)\n",
    "    visualizer.visualize_planes()\n",
    "    \n",
    "idx = 0\n",
    "for slider in sliders:\n",
    "    slider.observe(partial(handle_slider_change, idx = idx), names='value')\n",
    "    idx+=1\n",
    "\n",
    "for slider in sliders:\n",
    "    display(slider)"
   ]
  },
  {
   "cell_type": "code",
   "execution_count": 6,
   "metadata": {},
   "outputs": [],
   "source": [
    "# filter fused joints self collisions so they don't interfere with collision engine\n",
    "digaram = visualizer.diagram\n",
    "context = visualizer.diagram_context\n",
    "sg_context = scene_graph.GetMyContextFromRoot(context)\n",
    "inspector = scene_graph.model_inspector()\n",
    "\n",
    "pairs = scene_graph.get_query_output_port().Eval(sg_context).inspector().GetCollisionCandidates()\n",
    "\n",
    "gids = [gid for gid in inspector.GetGeometryIds(GeometrySet(inspector.GetAllGeometryIds()), Role.kProximity)]\n",
    "get_name_of_gid = lambda gid : inspector.GetName(gid)\n",
    "gids.sort(key=get_name_of_gid)\n",
    "iiwa_oneDOF_gids = [gid for gid in gids if \"iiwa7_oneDOF::\" in get_name_of_gid(gid)]\n",
    "iiwa_twoDOF_gids = [gid for gid in gids if \"iiwa7_twoDOF::\" in get_name_of_gid(gid)]\n",
    "\n",
    "oneDOF_fused_col_geom = iiwa_oneDOF_gids[2:]\n",
    "iiwa_oneDOF_fused_set = GeometrySet(oneDOF_fused_col_geom)\n",
    "twoDOF_fused_col_geom = iiwa_twoDOF_gids[4:]\n",
    "iiwa_twoDOF_fused_set = GeometrySet(twoDOF_fused_col_geom)\n",
    "scene_graph.collision_filter_manager()\\\n",
    "            .Apply(CollisionFilterDeclaration().ExcludeWithin(iiwa_oneDOF_fused_set))\n",
    "scene_graph.collision_filter_manager()\\\n",
    "            .Apply(CollisionFilterDeclaration().ExcludeWithin(iiwa_twoDOF_fused_set))"
   ]
  },
  {
   "cell_type": "code",
   "execution_count": 7,
   "metadata": {},
   "outputs": [],
   "source": [
    "# Some examples of some seed points which give large regions using the\n",
    "# non-linear programming approach to IRIS described in Algorithm 3\n",
    "seed1 = np.array([ 1.6, -0.4, -1.3])\n",
    "seed2 = np.array([ 0.9, -0.9, -1.7])\n",
    "poi = np.array([seed1, seed2])\n",
    "poi_t = np.array([Ratfk.ComputeTValue(poi[idx], np.zeros((3,)))\\\n",
    "                        for idx in range(poi.shape[0])])\n",
    "if do_viz:\n",
    "    visualizer.plot_seedpoints(poi_t)"
   ]
  },
  {
   "cell_type": "markdown",
   "metadata": {},
   "source": [
    "# Setup SNOPT IRIS"
   ]
  },
  {
   "cell_type": "code",
   "execution_count": 8,
   "metadata": {},
   "outputs": [],
   "source": [
    "domain = HPolyhedron.MakeBox( Ratfk.ComputeTValue(q_low, np.zeros((3,))), Ratfk.ComputeTValue(q_high, np.zeros((3,))))\n",
    "snopt_iris_options = IrisOptionsRationalSpace()\n",
    "snopt_iris_options.require_sample_point_is_contained = True\n",
    "snopt_iris_options.iteration_limit = 20\n",
    "snopt_iris_options.configuration_space_margin = 1e-5\n",
    "snopt_iris_options.max_faces_per_collision_pair = 60\n",
    "snopt_iris_options.termination_threshold = -1\n",
    "snopt_iris_options.q_star = np.zeros(3)\n",
    "snopt_iris_options.relative_termination_threshold = 0.05\n",
    "\n",
    "\n",
    "def SNOPT_IRIS(q_seed,  regions, plant, context, snoptiris_options, default_domain):\n",
    "    #print('snopt iris call')\n",
    "    snoptiris_options.configuration_obstacles = []\n",
    "    if regions is not None:\n",
    "        obstacles = []\n",
    "        for r in regions:\n",
    "            offset = 0.25*np.min(1/np.linalg.eig(r.MaximumVolumeInscribedEllipsoid().A())[0])\n",
    "            rnew = HPolyhedron(r.A(), r.b()-offset)\n",
    "            obstacles.append(rnew)\n",
    "        snopt_iris_options.configuration_obstacles = obstacles\n",
    "    plant.SetPositions(plant.GetMyMutableContextFromRoot(context), q_seed.reshape(-1,1))\n",
    "    r = IrisInRationalConfigurationSpace(plant, plant.GetMyContextFromRoot(context), snoptiris_options, domain)\n",
    "    return r\n",
    "\n",
    "SNOPT_IRIS_Handle = partial(SNOPT_IRIS,\n",
    "                            plant = plant,\n",
    "                            context = context,\n",
    "                            snoptiris_options = snopt_iris_options,\n",
    "                            default_domain = domain)"
   ]
  },
  {
   "cell_type": "markdown",
   "metadata": {},
   "source": [
    "# Construct vis checker (here still sample based)"
   ]
  },
  {
   "cell_type": "code",
   "execution_count": 9,
   "metadata": {},
   "outputs": [],
   "source": [
    "def vis(t1, t2, num_checks, visualizer):\n",
    "    t1flat = t1.reshape(-1)\n",
    "    t2flat = t2.reshape(-1)\n",
    "    if np.linalg.norm(t1-t2) < 1e-6:\n",
    "        return [(1-visualizer.col_func_handle(Ratfk.ComputeQValue(t1flat, np.zeros(3))))>0,\n",
    "                None]\n",
    "    tvec = np.linspace(0,1, num_checks)\n",
    "    for t in tvec:\n",
    "        tinterp = t1flat*t + (1-t)*t2flat\n",
    "        if visualizer.col_func_handle(Ratfk.ComputeQValue(tinterp, np.zeros(3))):\n",
    "            return [False, None]\n",
    "    else:\n",
    "        return [True, None]\n",
    "is_LOS = partial(vis, num_checks = 40, visualizer = visualizer)"
   ]
  },
  {
   "cell_type": "markdown",
   "metadata": {},
   "source": [
    "# Run Seeding Setup and Guard Phase\n"
   ]
  },
  {
   "cell_type": "code",
   "execution_count": 10,
   "metadata": {},
   "outputs": [
    {
     "name": "stdout",
     "output_type": "stream",
     "text": [
      "[21:08:51] [VPRMSeeding] Expecting points of interest in q\n",
      "[21:08:51] [VPRMSeeding] GuardInsertion attempts M: 44\n",
      "[21:08:51] [VPRMSeeding] 0.9 probability that unseen region is less than 5.0 \"%\" of Cfree \n"
     ]
    }
   ],
   "source": [
    "visualizer.meshcat2.Delete('/iris')\n",
    "np.random.seed(10)\n",
    "vs = VPRMSeeding(poi,\n",
    "                 alpha = 0.1,\n",
    "                 limits = [np.array(q_low), np.array(q_high)],\n",
    "                 collision_handle = visualizer.col_func_handle,\n",
    "                 is_in_line_of_sight = is_LOS, \n",
    "                 iris_handle=partial(SNOPT_IRIS_Handle, regions = None),\n",
    "                 iris_handle_with_obstacles = SNOPT_IRIS_Handle,\n",
    "                 point_to_region_conversion = partial(Ratfk.ComputeTValue, q_star_val = np.zeros(3))\n",
    "                 )\n",
    "\n",
    "vs.set_guard_regions()"
   ]
  },
  {
   "cell_type": "code",
   "execution_count": 11,
   "metadata": {},
   "outputs": [
    {
     "name": "stdout",
     "output_type": "stream",
     "text": [
      "[21:08:53] [VPRMSeeding] New guard placed N =  2 it =  0\n",
      "[21:08:54] [VPRMSeeding] Sample set size 0\n",
      "[21:08:54] [VPRMSeeding] New guard placed N =  3 it =  17\n",
      "[21:08:55] [VPRMSeeding] Sample set size 16\n"
     ]
    }
   ],
   "source": [
    "vs.guard_phase()\n",
    "vs.guard_phase()"
   ]
  },
  {
   "cell_type": "code",
   "execution_count": 12,
   "metadata": {},
   "outputs": [
    {
     "name": "stdout",
     "output_type": "stream",
     "text": [
      "[21:08:56] [VPRMSeeding] No guard to split\n"
     ]
    }
   ],
   "source": [
    "vs.refine_guards()"
   ]
  },
  {
   "cell_type": "markdown",
   "metadata": {},
   "source": [
    "# Plot Results after Guard Phase"
   ]
  },
  {
   "cell_type": "code",
   "execution_count": 13,
   "metadata": {},
   "outputs": [
    {
     "data": {
      "image/png": "[encoded data removed]",
      "text/plain": [
       "<Figure size 432x288 with 1 Axes>"
      ]
     },
     "metadata": {},
     "output_type": "display_data"
    }
   ],
   "source": [
    "vs.draw_connectivity_graph()\n",
    "from pydrake.all import Rgba\n",
    "samples_t = np.array([Ratfk.ComputeTValue( vs.samples_outside_regions[q_s][0], np.zeros(3)) for q_s in vs.samples_outside_regions.keys()])\n",
    "seeds_t = np.array([Ratfk.ComputeTValue( p, np.zeros(3)) for p in vs.seed_points])\n",
    "\n",
    "vis_seed = [[seeds_t[vs.regions.index(k)] for k in vis2[1]] for vis2 in vs.samples_outside_regions.values()]\n",
    "visualizer.plot_points(seeds_t, size = 0.06, color = Rgba(1., 0.0, 1.0, 0.6), start_idx = 0, prefix = 'seed')\n",
    "visualizer.plot_points(samples_t, size = 0.02, color = Rgba(0., 0.1, 0.0, 0.3), start_idx = len(seeds_t), prefix = 'sample')\n",
    "visualizer.plot_regions(vs.regions,\n",
    "                        ellipses= None,#[r.MaximumVolumeInscribedEllipsoid() for r in vs.regions],\n",
    "                        region_suffix='_guard')"
   ]
  },
  {
   "cell_type": "markdown",
   "metadata": {},
   "source": [
    "# Connectivity Phase\n"
   ]
  },
  {
   "cell_type": "code",
   "execution_count": 14,
   "metadata": {},
   "outputs": [
    {
     "name": "stdout",
     "output_type": "stream",
     "text": [
      "[21:09:17] [VPRMSeeding] Num connected Components Vis: 2\n",
      "[21:09:18] [VPRMSeeding] New region added [ 0.19480438 -0.4595456  -1.12855249]\n",
      "[21:09:18] [VPRMSeeding] Sample set size 14 num keys to del  12\n"
     ]
    },
    {
     "data": {
      "text/plain": [
       "True"
      ]
     },
     "execution_count": 14,
     "metadata": {},
     "output_type": "execute_result"
    }
   ],
   "source": [
    "vs.connectivity_phase()"
   ]
  },
  {
   "cell_type": "code",
   "execution_count": 15,
   "metadata": {},
   "outputs": [],
   "source": [
    "#vs.fill_remaining_space_phase()"
   ]
  },
  {
   "cell_type": "code",
   "execution_count": 16,
   "metadata": {},
   "outputs": [
    {
     "data": {
      "image/png": "[encoded data removed]",
      "text/plain": [
       "<Figure size 432x288 with 1 Axes>"
      ]
     },
     "metadata": {},
     "output_type": "display_data"
    }
   ],
   "source": [
    "visualizer.plot_regions(vs.regions[len(vs.guard_regions):],\n",
    "                        ellipses=None, #[r.MaximumVolumeInscribedEllipsoid() for r in vs.regions[len(vs.guard_regions):]],\n",
    "                        region_suffix='_connectivity', colors=[(255,0,255) for i in range(len(vs.guard_regions))])\n",
    "vs.draw_connectivity_graph()"
   ]
  },
  {
   "cell_type": "code",
   "execution_count": 17,
   "metadata": {},
   "outputs": [
    {
     "name": "stdout",
     "output_type": "stream",
     "text": [
      "[DijkstraSPP] Pre-Building adjacency matrix  0 / 5\n"
     ]
    }
   ],
   "source": [
    "dspp = DijkstraSPPsolver(vs.regions,\n",
    "                         partial(Ratfk.ComputeTValue, q_star_val = np.zeros(3)))"
   ]
  },
  {
   "cell_type": "code",
   "execution_count": null,
   "metadata": {},
   "outputs": [],
   "source": []
  },
  {
   "cell_type": "code",
   "execution_count": 18,
   "metadata": {},
   "outputs": [],
   "source": [
    "# from scipy.sparse.csgraph import dijkstra, csgraph_from_dense\n",
    "# from scipy.sparse import coo_matrix\n",
    "# from pydrake.all import (MathematicalProgram, Variable, HPolyhedron, le, SnoptSolver, Solve) \n",
    "\n",
    "# class node:\n",
    "#     def __init__(self, loc, regs = None):\n",
    "#         self.loc = loc\n",
    "#         if regs is None:\n",
    "#             self.regions = []\n",
    "#         else:\n",
    "#             self.regions = regs\n",
    "\n",
    "# def dijkstra_in_configspace(adj_mat):\n",
    "#     # convention for start and target\n",
    "#     src = adj_mat.shape[0] -2\n",
    "#     target = adj_mat.shape[0] -1\n",
    "#     dist, pred = dijkstra(adj_mat, directed=False, indices=src, return_predecessors=True)\n",
    "#     #print(f'{len(np.argwhere(pred == -9999))} disconnected nodes'), #np.argwhere(pred == -9999))\n",
    "#     idxs = (pred == -9999)\n",
    "#     pred[idxs] = -100000000\n",
    "#     dist[idxs] = -1000000\n",
    "#     sp_list = []\n",
    "#     sp_length = dist[target]\n",
    "#     #print(sp_length)\n",
    "#     if sp_length<0:\n",
    "#         return [], sp_length\n",
    "#     current_idx = target\n",
    "#     sp_list.append(current_idx)\n",
    "#     while not current_idx == adj_mat.shape[0] - 2:\n",
    "#         current_idx = pred[current_idx]\n",
    "#         sp_list.append(current_idx)\n",
    "#         if current_idx==src: break\n",
    "#     return [idx for idx in sp_list[::-1]], sp_length\n",
    "\n",
    "# def build_base_adjacency_matrix(regions_list):    \n",
    "#     nodes_intersections = []\n",
    "#     for idx, r in enumerate(regions_list[:-1]):\n",
    "#         for r2 in regions_list[idx+1:]:\n",
    "#             if r.IntersectsWith(r2):\n",
    "#                 try:\n",
    "#                     loc = r.Intersection(r2).MaximumVolumeInscribedEllipsoid().center()\n",
    "#                     nodes_intersections.append(node(loc, [r, r2]))\n",
    "#                 except:\n",
    "#                     print('failed ', idx)\n",
    "\n",
    "#     node_locations = [node.loc for node in nodes_intersections]\n",
    "#     adjacency_list = []\n",
    "#     adjacency_dist = []\n",
    "#     for n in nodes_intersections:\n",
    "#         edges = []\n",
    "#         edge_dist = []\n",
    "#         for n2 in nodes_intersections:\n",
    "#             if nodes_intersections.index(n) != nodes_intersections.index(n2):\n",
    "#                 n_regs = set([str(r) for r in n.regions])\n",
    "#                 n2_regs = set([str(r) for r in n2.regions])\n",
    "#                 if len(list(n_regs&n2_regs)):\n",
    "#                     edges.append(nodes_intersections.index(n2))\n",
    "#                     edge_dist.append(np.linalg.norm(n.loc-n2.loc))\n",
    "#         adjacency_list.append(edges)\n",
    "#         adjacency_dist.append(edge_dist)\n",
    "    \n",
    "#     N = len(node_locations)\n",
    "#     data = []\n",
    "#     rows = []\n",
    "#     cols = []\n",
    "\n",
    "#     ad_mat = coo_matrix((N, N), np.float32)\n",
    "\n",
    "#     for idx in range(N):\n",
    "#         nei_idx = 0\n",
    "#         for nei in adjacency_list[idx]:\n",
    "#             if not nei == idx:\n",
    "#                 data.append(adjacency_dist[idx][nei_idx])\n",
    "#                 rows.append(idx)\n",
    "#                 cols.append(nei)\n",
    "#             nei_idx += 1\n",
    "\n",
    "#     ad_mat = coo_matrix((data, (rows, cols)), shape=(N, N))\n",
    "#     return ad_mat, nodes_intersections\n",
    "\n",
    "# def extend_adjacency_mat(start_q, target_q, base_ad_mat, node_intersections, region_list, point_conversion):\n",
    "#     #first check point memberships\n",
    "#     start_idx = -1\n",
    "#     target_idx = -1\n",
    "#     start_conv = point_conversion(start_q)\n",
    "#     target_conv = point_conversion(target_q)\n",
    "#     for idx, r in enumerate(region_list):\n",
    "#         if start_idx<0 and r.PointInSet(start_conv):\n",
    "#             start_idx = idx\n",
    "#         if target_idx<0 and r.PointInSet(target_conv):\n",
    "#             target_idx = idx\n",
    "#         if start_idx >=0 and target_idx >=0:\n",
    "#             break\n",
    "#     if start_idx <0 or target_idx <0:\n",
    "#         print('points not in set, idxs', start_idx,', ', target_idx)\n",
    "#         return None\n",
    "#     N = len(node_intersections) + 2\n",
    "#     data = list(base_ad_mat.data)\n",
    "#     rows = list(base_ad_mat.row)\n",
    "#     cols = list(base_ad_mat.col)\n",
    "#     #get idstances of all nodes  \n",
    "#     start_region = region_list[start_idx]\n",
    "#     target_region = region_list[target_idx]\n",
    "#     start_adj_idx = N-2\n",
    "#     target_adj_idx = N-1\n",
    "#     for node_idx, node in enumerate(node_intersections):\n",
    "#         if start_region in node.regions:\n",
    "#             dist = np.linalg.norm(start_conv-node.loc)\n",
    "#             data.append(dist)\n",
    "#             rows.append(start_adj_idx)\n",
    "#             cols.append(node_idx)\n",
    "#             data.append(dist)\n",
    "#             rows.append(node_idx)\n",
    "#             cols.append(start_adj_idx)\n",
    "#         if target_region in node.regions:\n",
    "#             dist = np.linalg.norm(target_conv-node.loc)\n",
    "#             data.append(dist)\n",
    "#             rows.append(target_adj_idx)\n",
    "#             cols.append(node_idx)\n",
    "#             data.append(dist)\n",
    "#             rows.append(node_idx)\n",
    "#             cols.append(target_adj_idx)\n",
    "    \n",
    "#     ad_mat_extend = coo_matrix((data, (rows, cols)), shape=(N, N))\n",
    "#     return ad_mat_extend\n",
    "\n",
    "# def refine_path_QP(wps, start_t, target_t, intersection_nodes):\n",
    "#     intermediate_nodes = [intersection_nodes[idx] for idx in wps[1:-1]]\n",
    "#     dim = len(intersection_nodes[0].loc)\n",
    "#     prog = MathematicalProgram()\n",
    "#     intermediates = []\n",
    "#     for idx, wpnode in enumerate(intermediate_nodes):\n",
    "#         x = prog.NewContinuousVariables(dim, 'x'+str(idx))\n",
    "#         intermediates.append(x)\n",
    "#         prog.SetInitialGuess(x, wpnode.loc)\n",
    "#         for r in wpnode.regions:\n",
    "#             prog.AddConstraint(le(r.A()@x, r.b())) \n",
    "\n",
    "#     cost = 0\n",
    "#     prev = start_t\n",
    "#     for pt in intermediates + [target_t]:\n",
    "#         a = (prev-pt) #* np.array([4.0,3.5,3,2.5,2,2.5,1]) \n",
    "#         cost += a.T@a\n",
    "#         prev = pt\n",
    "#     prog.AddCost(cost)\n",
    "\n",
    "#     res = Solve(prog)\n",
    "#     if res.is_success():\n",
    "#         path = [start_t]\n",
    "#         for i in intermediates:\n",
    "#             path.append(res.GetSolution(i))\n",
    "#         path.append(target_t)\n",
    "#         wps_start = [intersection_nodes[idx].loc for idx in wps[1:-1]]\n",
    "#         dist_start = 0\n",
    "#         prev = start_t\n",
    "#         for wp in wps_start + [target_t]:\n",
    "#             #dist_start += np.linalg.norm()#* np.array([4.0,3.5,3,2.5,2,2.5,1])\n",
    "#             a = prev-wp\n",
    "#             dist_start += a.T@a\n",
    "#             prev = wp\n",
    "#         print(\"[DijkstraSPP] optimized distance/start distance = {opt:.2f} / {start:.2f} = {res:.2f}\".format(opt = res.get_optimal_cost(), start = dist_start, res = res.get_optimal_cost()/dist_start))\n",
    "#     return path, res.get_optimal_cost()\n",
    "\n",
    "# def dijkstra_spp(start_q,\n",
    "#                  target_q,\n",
    "#                  intersection_nodes, \n",
    "#                  base_ad_mat, \n",
    "#                  region_list, \n",
    "#                  point_conversion,\n",
    "#                  optimize = True):\n",
    "#     #N = len(intersection_nodes)\n",
    "#     ad_mat = extend_adjacency_mat(start_q, target_q, base_ad_mat, intersection_nodes, region_list, point_conversion)\n",
    "#     if ad_mat is not None:\n",
    "#         wps, dist = dijkstra_in_configspace(adj_mat=ad_mat)\n",
    "#         if dist<0:\n",
    "#             print('[DijkstraSPP] Points not reachable')\n",
    "#             return [], -1\n",
    "#         if optimize:\n",
    "#             location_wps_optimized_t, dist_optimized = refine_path_QP(wps, \n",
    "#                                                                       point_conversion(start_q), \n",
    "#                                                                       point_conversion(target_q), \n",
    "#                                                                     intersection_nodes)\n",
    "\n",
    "#             return location_wps_optimized_t, dist_optimized\n",
    "#         else:\n",
    "#             intermediate_nodes = [intersection_nodes[idx].loc for idx in wps[1:-1]]\n",
    "#             waypoints = [point_conversion(start_q)] + intermediate_nodes + [point_conversion(target_q)]\n",
    "#             return waypoints, dist\n",
    "#     else:\n",
    "#         print('[DijkstraSPP] Points not in regions')\n",
    "#         return [], -1"
   ]
  },
  {
   "cell_type": "code",
   "execution_count": 18,
   "metadata": {},
   "outputs": [],
   "source": [
    "from pydrake.all import Rgba, Sphere, RotationMatrix\n",
    "def densify_waypoints(waypoints_t):\n",
    "    densify = 150\n",
    "    dists = []\n",
    "    dense_waypoints = []\n",
    "    for idx in range(len(waypoints_t[:-1])):\n",
    "        a = waypoints_t[idx]\n",
    "        b = waypoints_t[idx+1]\n",
    "        t = np.linspace(1,0, 10)\n",
    "        locs_endeff = []\n",
    "        dists_endeff = []\n",
    "        for tval in t:\n",
    "            ta = a*tval + b*(1-tval)\n",
    "            qa = Ratfk.ComputeQValue(ta, np.zeros(7))\n",
    "            #showres(qa)\n",
    "            #time.sleep(0.1)            \n",
    "            visualizer.plant.SetPositions(visualizer.plant_context,qa)\n",
    "            #visualizer.set_joint_angles(qa)\n",
    "            tf_tot= plant.EvalBodyPoseInWorld(visualizer.plant_context, visualizer.plant.get_body(pydrake.multibody.tree.BodyIndex(11)))\n",
    "            tf = tf_tot.translation() + tf_tot.GetAsMatrix4()[:3,:3][:,1] *0.45\n",
    "            locs_endeff.append(tf)\n",
    "        for i in range(len(locs_endeff)-1):\n",
    "            dists_endeff.append(0.1)#)np.linalg.norm(locs_endeff[i]- locs_endeff[i+1]))\n",
    "        d = np.sum(dists_endeff)\n",
    "        #print(d * densify)\n",
    "        t = np.linspace(1,0,int(densify*d))\n",
    "        for tval in t:\n",
    "            dense_waypoints.append(waypoints_t[idx]*tval + waypoints_t[idx+1]*(1-tval))\n",
    "    return dense_waypoints\n",
    "\n",
    "def plot_endeff_traj(dense_waypoints, opt = True):\n",
    "    color = Rgba(1,0,0,1.0)\n",
    "    color2 = Rgba(0,0,1,1.0)\n",
    "    color3 = Rgba(0,1,1,1.0)\n",
    "    start_idx = 0\n",
    "    for i, ta in enumerate(dense_waypoints[::2]):\n",
    "        qa = Ratfk.ComputeQValue(ta, np.zeros(7))\n",
    "        #showres(qa)\n",
    "        #time.sleep(0.1)            \n",
    "        visualizer.plant.SetPositions(visualizer.plant_context,qa)\n",
    "        tf_tot= visualizer.plant.EvalBodyPoseInWorld(visualizer.plant_context, plant.get_body(pydrake.multibody.tree.BodyIndex(12)))\n",
    "        tf = tf_tot.translation() + tf_tot.GetAsMatrix4()[:3,:3][:,1] *0.15\n",
    "\n",
    "        visualizer.meshcat1.SetObject(f\"/iris/points/traj/{i+start_idx}\",\n",
    "                               Sphere(0.005),\n",
    "                               color)\n",
    "\n",
    "        visualizer.meshcat1.SetTransform(f\"/iris/points/traj/{i+start_idx}\",\n",
    "                                   RigidTransform(RotationMatrix(),\n",
    "                                                  tf))\n",
    "        \n",
    "        tf_tot= visualizer.plant.EvalBodyPoseInWorld(visualizer.plant_context, plant.get_body(pydrake.multibody.tree.BodyIndex(20)))\n",
    "        tf = tf_tot.translation() + tf_tot.GetAsMatrix4()[:3,:3][:,1] *0.15\n",
    "\n",
    "        visualizer.meshcat1.SetObject(f\"/iris/points/traj2/{i+start_idx}\",\n",
    "                               Sphere(0.005),\n",
    "                               color2)\n",
    "\n",
    "        visualizer.meshcat1.SetTransform(f\"/iris/points/traj2/{i+start_idx}\",\n",
    "                                   RigidTransform(RotationMatrix(),\n",
    "                                                  tf))\n",
    "        \n",
    "        visualizer.meshcat2.SetObject(f\"/iris/points/traj2/{i+start_idx}\",\n",
    "                               Sphere(0.02),\n",
    "                               color3)\n",
    "\n",
    "        visualizer.meshcat2.SetTransform(f\"/iris/points/traj2/{i+start_idx}\",\n",
    "                                   RigidTransform(RotationMatrix(),\n",
    "                                                  ta))\n",
    "        "
   ]
  },
  {
   "cell_type": "code",
   "execution_count": 19,
   "metadata": {},
   "outputs": [],
   "source": [
    "# base_ad_mat, node_intersections = build_base_adjacency_matrix(vs.regions)\n",
    "# point_conversion = partial(Ratfk.ComputeTValue, q_star_val = np.zeros(3))"
   ]
  },
  {
   "cell_type": "code",
   "execution_count": null,
   "metadata": {},
   "outputs": [],
   "source": [
    "import time\n",
    "\n",
    "start = poi[np.random.choice(len(poi),1)[0]]\n",
    "for _ in range(20):\n",
    "    #nxt = vs.sample_in_regions() #\n",
    "    while True:\n",
    "        nxt = poi[np.random.choice(len(poi),1)[0]]\n",
    "        if nxt[0] != start[0]:\n",
    "            break\n",
    "    wp, dist = dspp.solve(start, nxt, refine_path=True)#dijkstra_spp(start, nxt, node_intersections, base_ad_mat, vs.regions, point_conversion, optimize= True)\n",
    "    print(dist)\n",
    "    if dist >0:\n",
    "        dense_waypoints = densify_waypoints(wp)\n",
    "        plot_endeff_traj(dense_waypoints)\n",
    "        for ta in dense_waypoints:\n",
    "            qa = Ratfk.ComputeQValue(ta, np.zeros(3))\n",
    "            visualizer.showres(qa)\n",
    "            if visualizer.col_func_handle(qa):\n",
    "                print(col)\n",
    "                break\n",
    "            time.sleep(0.002)\n",
    "        start = nxt\n",
    "        time.sleep(0.1)\n",
    "        visualizer.meshcat1.Delete(\"/iris/points/traj/\")\n",
    "        visualizer.meshcat1.Delete(\"/iris/points/traj2/\")\n",
    "        visualizer.meshcat2.Delete(\"/iris/points/traj2/\")\n",
    "    else:\n",
    "        nxt = vs.sample_in_regions()"
   ]
  },
  {
   "cell_type": "markdown",
   "metadata": {},
   "source": [
    "# Experiments with default iris"
   ]
  },
  {
   "cell_type": "code",
   "execution_count": 23,
   "metadata": {},
   "outputs": [
    {
     "name": "stdout",
     "output_type": "stream",
     "text": [
      "[SNOPTIRIS] Domain succefully restricted\n"
     ]
    }
   ],
   "source": [
    "regions = vs.regions[:-1]\n",
    "obstacles = []\n",
    "q_seed = np.array([-0.51034035, -0.25427137, -0.65290974])\n",
    "for r in regions:\n",
    "    offset = 0.25*np.min(1/np.linalg.eig(r.MaximumVolumeInscribedEllipsoid().A())[0])\n",
    "    rnew = HPolyhedron(r.A(), r.b()-offset)\n",
    "    obstacles.append(rnew)\n",
    "try:\n",
    "    t_seed = Ratfk.ComputeTValue(q_seed, np.zeros((3,)))\n",
    "    domain_new = Iris(obstacles, t_seed, domain, iris_options)\n",
    "    print(\"[SNOPTIRIS] Domain succefully restricted\")\n",
    "except:\n",
    "    print(\"[SNOPTIRIS] Domain restriction failed\")\n",
    "    domain = default_domain"
   ]
  },
  {
   "cell_type": "code",
   "execution_count": 24,
   "metadata": {},
   "outputs": [
    {
     "data": {
      "text/plain": [
       "<pydrake.geometry.optimization.HPolyhedron at 0x7f227c3b1d70>"
      ]
     },
     "execution_count": 24,
     "metadata": {},
     "output_type": "execute_result"
    }
   ],
   "source": [
    "domain_new"
   ]
  },
  {
   "cell_type": "code",
   "execution_count": 28,
   "metadata": {},
   "outputs": [],
   "source": [
    "visualizer.plot_regions([domain_new],\n",
    "                        ellipses=None,\n",
    "                        region_suffix='_IRISstand', colors=[(255,255,0)])\n",
    "\n",
    "visualizer.plot_regions([domain],\n",
    "                        ellipses=None,\n",
    "                        region_suffix='_IRISstand2', colors=[(255,0,255)])\n",
    "visualizer.plot_regions(obstacles,\n",
    "                        ellipses=None,\n",
    "                        region_suffix='_obstacles', colors=[(0,255,0)]*len(obstacles))"
   ]
  },
  {
   "cell_type": "code",
   "execution_count": 35,
   "metadata": {},
   "outputs": [
    {
     "name": "stdout",
     "output_type": "stream",
     "text": [
      "[ 1.6 -0.4 -1.3]\n"
     ]
    }
   ],
   "source": [
    "print(poi[0])\n",
    "a = partial(Ratfk.ComputeTValue, q_star_val = np.zeros(3))"
   ]
  },
  {
   "cell_type": "code",
   "execution_count": 36,
   "metadata": {},
   "outputs": [
    {
     "name": "stdout",
     "output_type": "stream",
     "text": [
      "[ 1.02963856 -0.20271004 -0.7602044 ]\n",
      "[ 1.6 -0.4 -1.3]\n"
     ]
    }
   ],
   "source": [
    "print(a(poi[0]))\n",
    "print(poi[0])"
   ]
  },
  {
   "cell_type": "code",
   "execution_count": 37,
   "metadata": {},
   "outputs": [
    {
     "name": "stdout",
     "output_type": "stream",
     "text": [
      "[ 1.02963856 -0.20271004 -0.7602044 ]\n",
      "[ 1.6 -0.4 -1.3]\n"
     ]
    }
   ],
   "source": [
    "print(Ratfk.ComputeTValue(poi[0], np.zeros(3)))\n",
    "print(poi[0])"
   ]
  },
  {
   "cell_type": "code",
   "execution_count": null,
   "metadata": {},
   "outputs": [],
   "source": []
  }
 ],
 "metadata": {
  "kernelspec": {
   "display_name": "Python 3",
   "language": "python",
   "name": "python3"
  },
  "language_info": {
   "codemirror_mode": {
    "name": "ipython",
    "version": 3
   },
   "file_extension": ".py",
   "mimetype": "text/x-python",
   "name": "python",
   "nbconvert_exporter": "python",
   "pygments_lexer": "ipython3",
   "version": "3.8.10"
  },
  "vscode": {
   "interpreter": {
    "hash": "82cb315f25884f6c3630a939a9e3f6fadbbb663bc25feb1745738a94b8acc172"
   }
  }
 },
 "nbformat": 4,
 "nbformat_minor": 2
}
