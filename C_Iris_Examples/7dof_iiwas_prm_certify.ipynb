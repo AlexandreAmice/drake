{
 "cells": [
  {
   "cell_type": "code",
   "execution_count": 1,
   "metadata": {},
   "outputs": [],
   "source": [
    "%load_ext autoreload"
   ]
  },
  {
   "cell_type": "code",
   "execution_count": 2,
   "metadata": {},
   "outputs": [],
   "source": [
    "import numpy as np\n",
    "from functools import partial\n",
    "import visualization_utils as viz_utils\n",
    "from iris_plant_visualizer import IrisPlantVisualizer\n",
    "import ipywidgets as widgets\n",
    "from IPython.display import display\n",
    "from scipy.linalg import block_diag\n",
    "import matplotlib.pyplot as plt\n",
    "from pathlib import Path\n",
    "import os"
   ]
  },
  {
   "cell_type": "code",
   "execution_count": 127,
   "metadata": {},
   "outputs": [],
   "source": [
    "#pydrake imports\n",
    "from pydrake.common import FindResourceOrThrow\n",
    "from pydrake.multibody.parsing import Parser\n",
    "from pydrake.multibody.plant import AddMultibodyPlantSceneGraph\n",
    "from pydrake.systems.framework import DiagramBuilder\n",
    "from pydrake.geometry import Role, GeometrySet, CollisionFilterDeclaration\n",
    "from pydrake.all import RigidTransform, RollPitchYaw, RevoluteJoint\n",
    "from pydrake.all import RotationMatrix,MeshcatVisualizer, StartMeshcat\n",
    "import pydrake.symbolic as sym\n",
    "from pydrake.solvers import MosekSolver, CommonSolverOption, SolverOptions, ScsSolver\n",
    "from pydrake.all import PointCloud, MeshcatVisualizerParams, Role, HalfSpace, CoulombFriction\n",
    "from pydrake.polynomial import Polynomial as PolynomialCommon\n",
    "import time\n",
    "\n",
    "from pydrake.all import RationalForwardKinematics\n",
    "from pydrake.geometry.optimization import HPolyhedron, Hyperellipsoid\n",
    "from pydrake.geometry.optimization_dev import CspaceFreePath\n"
   ]
  },
  {
   "cell_type": "code",
   "execution_count": 4,
   "metadata": {},
   "outputs": [],
   "source": [
    "import logging\n",
    "drake_logger = logging.getLogger(\"drake\")\n",
    "drake_logger.setLevel(logging.DEBUG)"
   ]
  },
  {
   "cell_type": "markdown",
   "metadata": {},
   "source": [
    "# Build and set up the visualization the plant and the visualization of the C-space obstacle\n",
    "\n",
    "Note that running this cell multiple times will establish multiple meshcat instances which can fill up your memory. It is a good idea to call \"pkill -f meshcat\" from the command line before re-running this cell\n"
   ]
  },
  {
   "cell_type": "code",
   "execution_count": null,
   "metadata": {},
   "outputs": [],
   "source": [
    "builder = DiagramBuilder()\n",
    "plant, scene_graph = AddMultibodyPlantSceneGraph(builder, time_step=0.001)\n",
    "model_file = FindResourceOrThrow(\"drake/manipulation/models/iiwa_description/iiwa7/iiwa7_with_box_collision.sdf\")\n",
    "box_file = FindResourceOrThrow(\"drake/C_Iris_Examples/assets/shelves.sdf\")\n",
    "\n",
    "\n",
    "parser = Parser(plant)\n",
    "\n",
    "friction = CoulombFriction(1,1)\n",
    "ground = plant.RegisterCollisionGeometry(\n",
    "    plant.world_body(), HalfSpace.MakePose(np.array([0,0,1.]), np.array([0,0,0])),\n",
    "    HalfSpace(), \"collision\", friction)\n",
    "\n",
    "models = []\n",
    "models.append(Parser(plant, scene_graph).AddModelFromFile(model_file))\n",
    "models.append(Parser(plant, scene_graph).AddModelFromFile(box_file))\n",
    "\n",
    "sp = 0.0\n",
    "x_fac = 0.5\n",
    "locs = [ [0,0,0], \n",
    "        [x_fac, 1.4*sp,0.4], [x_fac,-1.4*sp,0.4], [-x_fac,-1.4*sp,0.4], [-x_fac,1.4,0.4], \n",
    "        [0.0 ,0 , 0.95], [0.0 ,0 , -0.05]] \n",
    "idx = 0\n",
    "for model in models:\n",
    "    plant.WeldFrames(ground.body_frame(), plant.get_body(plant.GetBodyIndices(model)[0]).body_frame(),\n",
    "                     RigidTransform(locs[idx]))\n",
    "    idx +=1\n",
    "\n",
    "\n",
    "    \n",
    "plant.Finalize()\n",
    "\n",
    "\n",
    "        \n",
    "# construct the RationalForwardKinematics of this plant. This object handles the\n",
    "# computations for the forward kinematics in the tangent-configuration space\n",
    "Ratfk = RationalForwardKinematics(plant)\n",
    "\n",
    "# the point about which we will take the stereographic projections\n",
    "q_star = np.zeros(plant.num_positions())\n",
    "\n",
    "do_viz = True\n",
    "\n",
    "meshcat = StartMeshcat()\n",
    "meshcat.Delete()\n",
    "\n",
    "visualizer_params = MeshcatVisualizerParams()\n",
    "visualizer_params.role = Role.kProximity\n",
    "visualizer = MeshcatVisualizer.AddToBuilder(\n",
    "    builder, scene_graph, meshcat)\n",
    "diagram = builder.Build()\n",
    "diagram_context = diagram.CreateDefaultContext()\n",
    "diagram.ForcedPublish(diagram_context)"
   ]
  },
  {
   "cell_type": "code",
   "execution_count": 6,
   "metadata": {},
   "outputs": [],
   "source": [
    "#compute limits in s-space\n",
    "limits_s = []\n",
    "for q in [plant.GetPositionLowerLimits(), plant.GetPositionUpperLimits()]:\n",
    "    limits_s.append(Ratfk.ComputeSValue(np.array(q), q_star))\n",
    "limits_s = np.array(limits_s)"
   ]
  },
  {
   "cell_type": "code",
   "execution_count": 7,
   "metadata": {},
   "outputs": [
    {
     "name": "stdout",
     "output_type": "stream",
     "text": [
      "Time to construct line certifier = 7.623325347900391s\n"
     ]
    },
    {
     "name": "stderr",
     "output_type": "stream",
     "text": [
      "DEBUG:drake:Meshcat connection opened from 0000:0000:0000:0000:0000:0000:0000:0001\n"
     ]
    }
   ],
   "source": []
  },
  {
   "cell_type": "code",
   "execution_count": 8,
   "metadata": {},
   "outputs": [],
   "source": [
    "from pydrake.all import InverseKinematics\n",
    "ik = InverseKinematics(plant, diagram.GetMutableSubsystemContext(plant, diagram_context))\n",
    "min_dist = 1e-5\n",
    "collision_constraint = ik.AddMinimumDistanceConstraint(\n",
    "            min_dist, 1e-5)\n",
    "\n",
    "def check_collision_q_by_ik(q, min_dist=1e-5):\n",
    "    if np.all(q >= plant.GetPositionLowerLimits()) and \\\n",
    "            np.all(q <= plant.GetPositionUpperLimits()):\n",
    "        return 1 - 1 * \\\n",
    "            float(collision_constraint.evaluator().CheckSatisfied(q, min_dist))\n",
    "    else:\n",
    "        return 1\n",
    "def check_collision_s_by_ik(s, min_dist=1e-5):\n",
    "    s = np.array(s)\n",
    "    q = Ratfk.ComputeQValue(s, q_star)\n",
    "    return check_collision_q_by_ik(q, min_dist)"
   ]
  },
  {
   "cell_type": "code",
   "execution_count": 9,
   "metadata": {},
   "outputs": [],
   "source": [
    "prm_important_samples_q = np.array([\n",
    "    [-0.47, -0.19, 0.34, -1.89, 0.68, 0.18, 0],\n",
    "    [-2.13, -1.44,  1.53, -1.9 , -2.97,  0.6 ,  0.22],\n",
    "    [2.22, -2.09, -1.61, -1.61, -2.87,  0.64,  3.05]\n",
    "]) \n",
    "\n",
    "prm_import_samples_s = [ Ratfk.ComputeSValue(x, q_star) for x in prm_important_samples_q]"
   ]
  },
  {
   "cell_type": "code",
   "execution_count": 10,
   "metadata": {},
   "outputs": [
    {
     "name": "stdout",
     "output_type": "stream",
     "text": [
      "[PRM] Samples 0\n",
      "[PRM] Samples 30\n",
      "[PRM] Samples 60\n",
      "[PRM] Samples 90\n",
      "[PRM] Nodes connected: 0\n",
      "[PRM] Nodes connected: 20\n",
      "[PRM] Nodes connected: 40\n",
      "[PRM] Nodes connected: 60\n",
      "[PRM] Nodes connected: 80\n",
      "300\n"
     ]
    }
   ],
   "source": [
    "# draw prm\n",
    "import prm\n",
    "from pydrake.all import Rgba\n",
    "\n",
    "# limits = [np.array(t_low), np.array(q_high)]\n",
    "\n",
    "\n",
    "\n",
    "def collision(pos, col_func_handle):\n",
    "    return col_func_handle(pos)\n",
    "\n",
    "def collision_bad(pos, col_func_handle):\n",
    "    return 1-col_func_handle(pos)\n",
    "\n",
    "prm_col_fn_handle = partial(collision, col_func_handle = check_collision_s_by_ik)\n",
    "prm_col_fn_handle_bad = partial(collision_bad, col_func_handle = check_collision_s_by_ik)\n",
    "\n",
    "PRM = prm.PRM( \n",
    "            limits_s,\n",
    "            num_points = 100,\n",
    "            col_func_handle = prm_col_fn_handle,\n",
    "            num_neighbours = 3, \n",
    "            dist_thresh = 10,\n",
    "            num_col_checks = 10,\n",
    "            max_it = 1e3,\n",
    "            initial_points = prm_import_samples_s,\n",
    "            verbose = True,\n",
    "            plotcallback = None\n",
    "            )\n",
    "\n",
    "# PRM_bad = prm.PRM( \n",
    "#             limits_t,\n",
    "#             num_points = 2000,\n",
    "#             col_func_handle = prm_col_fn_handle_bad,\n",
    "#             num_neighbours = 5, \n",
    "#             dist_thresh = .5,\n",
    "#             num_col_checks = 10,\n",
    "#             verbose = True,\n",
    "#             plotcallback = None\n",
    "#             )\n",
    "\n",
    "# PRM.add_start_end(start, target)\n",
    "# PRM.plot()\n",
    "tot_num_edges = len(PRM.adjacency_list)* len(PRM.adjacency_list[0])\n",
    "print(tot_num_edges)"
   ]
  },
  {
   "cell_type": "code",
   "execution_count": 11,
   "metadata": {},
   "outputs": [],
   "source": [
    "body = plant.GetBodyByName(\"iiwa_link_7\")\n",
    "plant_context = diagram.GetMutableSubsystemContext(plant, diagram_context)\n",
    "def visualize_task_space_trajectory(segment_start, segment_end,\n",
    "                                    body, color = Rgba(0,1,0,0.5),\n",
    "                                    path_size = 0.01, num_points = 100, path = \"prm/seg\"):\n",
    "    s_waypoints = np.linspace(segment_start, segment_end, num_points)\n",
    "    points = []\n",
    "    for s in s_waypoints:\n",
    "        q = Ratfk.ComputeQValue(s, q_star)\n",
    "        plant.SetPositions(plant_context, q)\n",
    "        points.append(plant.EvalBodyPoseInWorld(plant_context, body).translation())\n",
    "    points = np.array(points)\n",
    "    pc = PointCloud(len(points))\n",
    "    pc.mutable_xyzs()[:] = points.T\n",
    "    meshcat.SetObject(path, pc, point_size = path_size, rgba=color)\n",
    "\n",
    "\n",
    "def plot_prm(PRM, body, color = Rgba(0,1,0,0.5),\n",
    "                                    path_size = 0.01, num_points = 1000, prefix = \"prm\"):\n",
    "    meshcat.Delete(prefix)\n",
    "    for idx, (s0, s1) in enumerate(PRM.prm_pairs):\n",
    "        visualize_task_space_trajectory(s0, s1, body, color,\n",
    "                                        path_size, num_points, \n",
    "                                        f\"{prefix}/seg_{idx}\")\n",
    "def plot_prm_nodes(PRM, body, color = Rgba(0,0,1,1),\n",
    "                                    point_size = 0.05, prefix = \"prm_nodes\"):\n",
    "    meshcat.Delete(prefix)\n",
    "    points = []\n",
    "    for idx, s in enumerate(PRM.nodes):\n",
    "        q = Ratfk.ComputeQValue(s, q_star)\n",
    "        plant.SetPositions(plant_context, q)\n",
    "        points.append(plant.EvalBodyPoseInWorld(plant_context, body).translation())\n",
    "    points = np.array(points)\n",
    "    pc = PointCloud(len(points))\n",
    "    pc.mutable_xyzs()[:] = points.T\n",
    "    meshcat.SetObject(prefix, pc, point_size = point_size, rgba=color)\n",
    "    \n",
    "plot_prm(PRM, body)\n",
    "plot_prm_nodes(PRM, body)"
   ]
  },
  {
   "cell_type": "markdown",
   "metadata": {},
   "source": [
    "## Set up the sliders so we can move the plant around manually"
   ]
  },
  {
   "cell_type": "code",
   "execution_count": 12,
   "metadata": {
    "scrolled": false
   },
   "outputs": [
    {
     "name": "stderr",
     "output_type": "stream",
     "text": [
      "Widget Javascript not detected.  It may not be installed or enabled properly. Reconnecting the current kernel may help.\n"
     ]
    },
    {
     "data": {
      "application/vnd.jupyter.widget-view+json": {
       "model_id": "7165e47f1fa946e78df181c01136fa55"
      }
     },
     "metadata": {},
     "output_type": "display_data"
    },
    {
     "name": "stderr",
     "output_type": "stream",
     "text": [
      "Widget Javascript not detected.  It may not be installed or enabled properly. Reconnecting the current kernel may help.\n"
     ]
    },
    {
     "data": {
      "application/vnd.jupyter.widget-view+json": {
       "model_id": "8daf2ced7a1246489a0fe26ecbe619e9"
      }
     },
     "metadata": {},
     "output_type": "display_data"
    },
    {
     "name": "stderr",
     "output_type": "stream",
     "text": [
      "Widget Javascript not detected.  It may not be installed or enabled properly. Reconnecting the current kernel may help.\n"
     ]
    },
    {
     "data": {
      "application/vnd.jupyter.widget-view+json": {
       "model_id": "e1ef6f64a6654b36828e3a68d7084561"
      }
     },
     "metadata": {},
     "output_type": "display_data"
    },
    {
     "name": "stderr",
     "output_type": "stream",
     "text": [
      "Widget Javascript not detected.  It may not be installed or enabled properly. Reconnecting the current kernel may help.\n"
     ]
    },
    {
     "data": {
      "application/vnd.jupyter.widget-view+json": {
       "model_id": "856a1935f67a445cac21cfb6087f97e1"
      }
     },
     "metadata": {},
     "output_type": "display_data"
    },
    {
     "name": "stderr",
     "output_type": "stream",
     "text": [
      "Widget Javascript not detected.  It may not be installed or enabled properly. Reconnecting the current kernel may help.\n"
     ]
    },
    {
     "data": {
      "application/vnd.jupyter.widget-view+json": {
       "model_id": "8dc6dd2eac954d9ca142b87766d76cb9"
      }
     },
     "metadata": {},
     "output_type": "display_data"
    },
    {
     "name": "stderr",
     "output_type": "stream",
     "text": [
      "Widget Javascript not detected.  It may not be installed or enabled properly. Reconnecting the current kernel may help.\n"
     ]
    },
    {
     "data": {
      "application/vnd.jupyter.widget-view+json": {
       "model_id": "ebe6dc5e29cd40bb8b3f9f97df40a6d3"
      }
     },
     "metadata": {},
     "output_type": "display_data"
    },
    {
     "name": "stderr",
     "output_type": "stream",
     "text": [
      "Widget Javascript not detected.  It may not be installed or enabled properly. Reconnecting the current kernel may help.\n"
     ]
    },
    {
     "data": {
      "application/vnd.jupyter.widget-view+json": {
       "model_id": "4a94bfb9ea0b4180a5e1352f26bbd263"
      }
     },
     "metadata": {},
     "output_type": "display_data"
    }
   ],
   "source": [
    "sliders = []\n",
    "for i in range(plant.num_positions()):\n",
    "    sliders.append(widgets.FloatSlider(min=plant.GetPositionLowerLimits()[i],\n",
    "                                       max=plant.GetPositionUpperLimits()[i], \n",
    "                                       value=0, description=f'q{i}'))\n",
    "# sliders.append(widgets.FloatSlider(min=q_low[2], max=q_high[2], value=0, description='q2'))\n",
    "\n",
    "q = np.zeros(plant.num_positions())\n",
    "def handle_slider_change(change, idx):\n",
    "    q[idx] = change['new']\n",
    "    plant.SetPositions(plant_context, q)\n",
    "    diagram.ForcedPublish(diagram_context)\n",
    "    \n",
    "idx = 0\n",
    "for slider in sliders:\n",
    "    slider.observe(partial(handle_slider_change, idx = idx), names='value')\n",
    "    idx+=1\n",
    "\n",
    "for slider in sliders:\n",
    "    display(slider)\n",
    "\n",
    "\n",
    "# visualizer.jupyter_cell()"
   ]
  },
  {
   "cell_type": "code",
   "execution_count": 14,
   "metadata": {},
   "outputs": [
    {
     "name": "stdout",
     "output_type": "stream",
     "text": [
      "-3.658497391327363\n",
      "-3.658497391327363\n",
      "\n",
      "-2.5392052873571522\n",
      "-2.5392052873571522\n",
      "\n"
     ]
    }
   ],
   "source": [
    "def make_line_polys(PRM):\n",
    "    polys = np.empty(shape=(plant.num_positions(), len(PRM.prm_pairs)), dtype = object)\n",
    "    for i, (s0, s1) in enumerate(PRM.prm_pairs):\n",
    "        for j in range(plant.num_positions()):\n",
    "            polys[j,i] = PolynomialCommon(np.array([s0[j],s1[j]-s0[j]]))# PolynomialCommon(np.array([s1[j],s0[j]-s1[j]]))\n",
    "            if i == 0 and j == 0:\n",
    "                print(polys[j,i].EvaluateUnivariate(0))\n",
    "                print(s0[j])\n",
    "                print()\n",
    "                print(polys[j,i].EvaluateUnivariate(1))\n",
    "                print(s1[j])\n",
    "                print()\n",
    "    return polys\n",
    "\n",
    "path_safe = make_line_polys(PRM)\n",
    "# path_unsafe = make_line_polys(PRM_bad)\n",
    "    "
   ]
  },
  {
   "cell_type": "code",
   "execution_count": 21,
   "metadata": {},
   "outputs": [
    {
     "name": "stdout",
     "output_type": "stream",
     "text": [
      "Time to construct line certifier = 23.502044916152954s\n"
     ]
    }
   ],
   "source": [
    "# The object we will use to perform our certification.\n",
    "t0 = time.time()\n",
    "cspace_free_path = CspaceFreePath(plant, scene_graph, q_star, maximum_path_degree = 1, plane_order = 4)\n",
    "t1 = time.time()\n",
    "print(f\"Time to construct line certifier = {t1-t0}s\")\n",
    "\n",
    "\n",
    "cert_options = CspaceFreePath.FindSeparationCertificateGivenPathOptions()\n",
    "cert_options.terminate_segment_certification_at_failure = False\n",
    "\n",
    "cert_options.num_threads = -1\n",
    "cert_options.verbose = False\n",
    "cert_options.solver_id = MosekSolver.id()\n",
    "cert_options.solver_options = SolverOptions()\n",
    "cert_options.terminate_path_certification_at_failure = False\n"
   ]
  },
  {
   "cell_type": "code",
   "execution_count": 22,
   "metadata": {},
   "outputs": [
    {
     "name": "stdout",
     "output_type": "stream",
     "text": [
      "Certification of safe PRM in 140.31892371177673s\n"
     ]
    }
   ],
   "source": [
    "t0 = time.time()\n",
    "ret = cspace_free_path.FindSeparationCertificateGivenPath(path_safe, set(), cert_options)\n",
    "t1 = time.time()\n",
    "print(f\"Certification of safe PRM in {t1-t0}s\")"
   ]
  },
  {
   "cell_type": "code",
   "execution_count": 26,
   "metadata": {},
   "outputs": [],
   "source": [
    "def plot_pair_safety(pairs, is_safe_vec, body,\n",
    "                                    path_size = 0.01, num_points = 1000, prefix = \"prm\"):\n",
    "    meshcat.Delete(f\"{prefix}_safe\")\n",
    "    meshcat.Delete(f\"{prefix}_unsafe\")\n",
    "    for idx, (s0, s1) in enumerate(pairs):\n",
    "        if is_safe_vec[idx]:\n",
    "            visualize_task_space_trajectory(s0, s1, body, Rgba(0,1,0,0.5),\n",
    "                                            path_size, num_points, \n",
    "                                            f\"{prefix}_safe/seg_{idx}\")\n",
    "        else:\n",
    "            visualize_task_space_trajectory(s0, s1, body, Rgba(1,0,0,0.5),\n",
    "                                            path_size, num_points, \n",
    "                                            f\"{prefix}_unsafe/seg_{idx}\")\n",
    "plot_pair_safety(PRM.prm_pairs, ret[0], body)"
   ]
  },
  {
   "cell_type": "code",
   "execution_count": 53,
   "metadata": {},
   "outputs": [],
   "source": [
    "unsafe_inds = np.where(np.logical_not(ret))[1]"
   ]
  },
  {
   "cell_type": "code",
   "execution_count": 55,
   "metadata": {},
   "outputs": [],
   "source": [
    "unsafe_traj = path_safe[:,unsafe_inds]"
   ]
  },
  {
   "cell_type": "code",
   "execution_count": 57,
   "metadata": {},
   "outputs": [
    {
     "data": {
      "text/plain": [
       "array([<pydrake.polynomial.Polynomial object at 0x7f38c77dab70>,\n",
       "       <pydrake.polynomial.Polynomial object at 0x7f38c77d80f0>,\n",
       "       <pydrake.polynomial.Polynomial object at 0x7f38c776a1b0>,\n",
       "       <pydrake.polynomial.Polynomial object at 0x7f38c77dbe30>,\n",
       "       <pydrake.polynomial.Polynomial object at 0x7f38c77db8b0>,\n",
       "       <pydrake.polynomial.Polynomial object at 0x7f38c77db5f0>,\n",
       "       <pydrake.polynomial.Polynomial object at 0x7f38c77dba70>],\n",
       "      dtype=object)"
      ]
     },
     "execution_count": 57,
     "metadata": {},
     "output_type": "execute_result"
    }
   ],
   "source": [
    "unsafe_traj[:,0]"
   ]
  },
  {
   "cell_type": "code",
   "execution_count": 119,
   "metadata": {},
   "outputs": [],
   "source": [
    "def animate_traj_s(traj, steps, sleep_time = 0.1):\n",
    "    # loop\n",
    "    idx = 0\n",
    "    going_fwd = True\n",
    "    time_points = np.linspace(0, traj.end_time(), steps)\n",
    "    frame_count = 0\n",
    "    meshcat.StartRecording()\n",
    "    for frame_count, t in enumerate(time_points):\n",
    "        t0 = time.time()\n",
    "        s = traj.value(t)\n",
    "        q = Ratfk.ComputeQValue(s, q_star)\n",
    "        plant.SetPositions(plant_context, q)\n",
    "        diagram_context.SetTime(frame_count *sleep_time)\n",
    "        diagram.ForcedPublish(diagram_context)\n",
    "        \n",
    "        in_collision = check_collision_q_by_ik(q)\n",
    "        if in_collision:\n",
    "            print(\"COLLISION DETECTED\")\n",
    "        t1 = time.time()\n",
    "        pause = sleep_time - (t1 - t0)\n",
    "        if pause > 0:\n",
    "            time.sleep(pause)\n",
    "    meshcat.StopRecording()\n",
    "    meshcat.PublishRecording()"
   ]
  },
  {
   "cell_type": "code",
   "execution_count": 120,
   "metadata": {},
   "outputs": [
    {
     "name": "stdout",
     "output_type": "stream",
     "text": [
      "7\n",
      "1\n"
     ]
    }
   ],
   "source": [
    "from pydrake.all import PiecewisePolynomial\n",
    "traj = PiecewisePolynomial(list(unsafe_traj[:,0][np.newaxis,:]), [0,1])\n",
    "print(traj.rows())\n",
    "print(traj.cols())"
   ]
  },
  {
   "cell_type": "code",
   "execution_count": 122,
   "metadata": {},
   "outputs": [
    {
     "name": "stdout",
     "output_type": "stream",
     "text": [
      "COLLISION DETECTED\n",
      "COLLISION DETECTED\n",
      "COLLISION DETECTED\n",
      "COLLISION DETECTED\n",
      "COLLISION DETECTED\n",
      "COLLISION DETECTED\n",
      "COLLISION DETECTED\n",
      "COLLISION DETECTED\n",
      "COLLISION DETECTED\n",
      "COLLISION DETECTED\n",
      "COLLISION DETECTED\n",
      "COLLISION DETECTED\n"
     ]
    }
   ],
   "source": [
    "i = 0\n",
    "animate_traj_s(traj, 1000, 0.1)"
   ]
  },
  {
   "cell_type": "code",
   "execution_count": null,
   "metadata": {},
   "outputs": [],
   "source": []
  }
 ],
 "metadata": {
  "interpreter": {
   "hash": "31f2aee4e71d21fbe5cf8b01ff0e069b9275f58929596ceb00d14d90e3e16cd6"
  },
  "kernelspec": {
   "display_name": "Python 3 (ipykernel)",
   "language": "python",
   "name": "python3"
  },
  "language_info": {
   "codemirror_mode": {
    "name": "ipython",
    "version": 3
   },
   "file_extension": ".py",
   "mimetype": "text/x-python",
   "name": "python",
   "nbconvert_exporter": "python",
   "pygments_lexer": "ipython3",
   "version": "3.10.12"
  }
 },
 "nbformat": 4,
 "nbformat_minor": 2
}
