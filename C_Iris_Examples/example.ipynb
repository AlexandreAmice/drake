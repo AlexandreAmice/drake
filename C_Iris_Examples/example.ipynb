{
 "cells": [
  {
   "cell_type": "code",
   "execution_count": 1,
   "metadata": {},
   "outputs": [],
   "source": [
    "%load_ext autoreload"
   ]
  },
  {
   "cell_type": "code",
   "execution_count": 2,
   "metadata": {},
   "outputs": [],
   "source": [
    "import numpy as np\n",
    "from functools import partial\n",
    "import visualization_utils as viz_utils\n",
    "from iris_plant_visualizer import IrisPlantVisualizer\n",
    "import ipywidgets as widgets\n",
    "from IPython.display import display\n",
    "from scipy.linalg import block_diag\n",
    "import matplotlib.pyplot as plt\n",
    "from pathlib import Path\n",
    "import os"
   ]
  },
  {
   "cell_type": "code",
   "execution_count": 3,
   "metadata": {},
   "outputs": [],
   "source": [
    "#pydrake imports\n",
    "from pydrake.common import FindResourceOrThrow\n",
    "from pydrake.multibody.parsing import Parser\n",
    "from pydrake.multibody.plant import AddMultibodyPlantSceneGraph\n",
    "from pydrake.systems.framework import DiagramBuilder\n",
    "from pydrake.geometry import Role, GeometrySet, CollisionFilterDeclaration\n",
    "from pydrake.all import RigidTransform, RollPitchYaw, RevoluteJoint\n",
    "from pydrake.all import RotationMatrix\n",
    "import pydrake.symbolic as sym\n",
    "from pydrake.solvers import MosekSolver, CommonSolverOption, SolverOptions, ScsSolver\n",
    "\n",
    "import time\n",
    "\n",
    "from pydrake.all import RationalForwardKinematics\n",
    "from pydrake.geometry.optimization import HPolyhedron, Hyperellipsoid\n",
    "from pydrake.geometry.optimization_dev import CspaceFreePath\n",
    "\n",
    "from pydrake.polynomial import Polynomial as PolynomialCommon"
   ]
  },
  {
   "cell_type": "code",
   "execution_count": 4,
   "metadata": {},
   "outputs": [],
   "source": [
    "import logging\n",
    "drake_logger = logging.getLogger(\"drake\")\n",
    "# drake_logger.setLevel(logging.DEBUG)"
   ]
  },
  {
   "cell_type": "markdown",
   "metadata": {},
   "source": [
    "# Build and set up the visualization the plant and the visualization of the C-space obstacle\n",
    "\n",
    "Note that running this cell multiple times will establish multiple meshcat instances which can fill up your memory. It is a good idea to call \"pkill -f meshcat\" from the command line before re-running this cell\n"
   ]
  },
  {
   "cell_type": "code",
   "execution_count": 5,
   "metadata": {},
   "outputs": [
    {
     "name": "stderr",
     "output_type": "stream",
     "text": [
      "WARNING:drake:/home/amice/Documents/coding_projects/drake/C_Iris_Examples/assets/oneDOF_iiwa7_with_box_collision.sdf:441: warning: Ignoring unsupported SDFormat element in model: plugin\n",
      "WARNING:drake:/home/amice/Documents/coding_projects/drake/C_Iris_Examples/assets/oneDOF_iiwa7_with_box_collision.sdf:441: warning: Ignoring unsupported SDFormat element in model: plugin\n",
      "INFO:drake:Meshcat listening for connections at http://localhost:7000\n",
      "INFO:drake:Meshcat listening for connections at http://localhost:7001\n"
     ]
    }
   ],
   "source": [
    "#construct our robot\n",
    "builder = DiagramBuilder()\n",
    "plant, scene_graph = AddMultibodyPlantSceneGraph(builder, time_step=0.001)\n",
    "parser = Parser(plant)\n",
    "oneDOF_iiwa_file = \"assets/oneDOF_iiwa7_with_box_collision.sdf\"\n",
    "with open(oneDOF_iiwa_file, 'r') as f:\n",
    "    oneDOF_iiwa_string = f.read()\n",
    "box_asset_file = \"assets/box_small.urdf\"\n",
    "with open(box_asset_file, 'r') as f:\n",
    "    box_asset_string = f.read()\n",
    "\n",
    "models = []\n",
    "models.append(parser.AddModelFromFile(box_asset_file))\n",
    "models.append(parser.AddModelFromFile(oneDOF_iiwa_file, 'right_sweeper'))\n",
    "models.append(parser.AddModelFromFile(oneDOF_iiwa_file,  'left_sweeper'))\n",
    "\n",
    "# models = []\n",
    "# models.append(parser.AddModelFromFile(box_asset))\n",
    "# models.append(parser.AddModelFromFile(oneDOF_iiwa_asset, 'right_sweeper'))\n",
    "# models.append(parser.AddModelFromFile(oneDOF_iiwa_asset, 'left_sweeper'))\n",
    "oneDOF_iiwa_file = \"assets/b\"\n",
    "\n",
    "\n",
    "locs = [[0.,0.,0.],\n",
    "        [0,1,0.85],\n",
    "        [0,-1,0.55]]\n",
    "plant.WeldFrames(plant.world_frame(), \n",
    "                 plant.GetFrameByName(\"base\", models[0]),\n",
    "                 RigidTransform(locs[0]))\n",
    "\n",
    "t1 = RigidTransform(RollPitchYaw([np.pi/2, 0, 0]).ToRotationMatrix(), locs[1])@RigidTransform(RollPitchYaw([0, 0, np.pi/2]), np.zeros(3))\n",
    "t2 = RigidTransform(RollPitchYaw([-np.pi/2, 0, 0]).ToRotationMatrix(), locs[2])@RigidTransform(RollPitchYaw([0, 0, np.pi/2]), np.zeros(3))\n",
    "plant.WeldFrames(plant.world_frame(), \n",
    "                 plant.GetFrameByName(\"iiwa_oneDOF_link_0\", models[1]), \n",
    "                 t1)\n",
    "plant.WeldFrames(plant.world_frame(), \n",
    "                 plant.GetFrameByName(\"iiwa_oneDOF_link_0\", models[2]), \n",
    "                 t2)\n",
    "\n",
    "\n",
    "plant.Finalize()\n",
    "idx = 0\n",
    "q0 = [0.0, 0.0]\n",
    "val = 1.7\n",
    "q_low  = np.array([-val, -val])\n",
    "q_high = np.array([val, val])\n",
    "# set the joint limits of the plant\n",
    "for model in models:\n",
    "    for joint_index in plant.GetJointIndices(model):\n",
    "        joint = plant.get_mutable_joint(joint_index)\n",
    "        if isinstance(joint, RevoluteJoint):\n",
    "            joint.set_default_angle(q0[idx])\n",
    "            joint.set_position_limits(lower_limits= np.array([q_low[idx]]), upper_limits= np.array([q_high[idx]]))\n",
    "            idx += 1\n",
    "        \n",
    "# construct the RationalForwardKinematics of this plant. This object handles the\n",
    "# computations for the forward kinematics in the tangent-configuration space\n",
    "Ratfk = RationalForwardKinematics(plant)\n",
    "\n",
    "# the point about which we will take the stereographic projections\n",
    "q_star = np.zeros(plant.num_positions())\n",
    "\n",
    "do_viz = True\n",
    "\n",
    "# The object we will use to perform our certification.\n",
    "cspace_free_path = CspaceFreePath(plant, scene_graph, q_star, maximum_path_degree = 1, plane_order = 3)\n",
    "\n",
    "# This line builds the visualization. Change the viz_role to Role.kIllustration if you\n",
    "# want to see the plant with its illustrated geometry or to Role.kProximity if you want\n",
    "# to see the plant with the collision geometries.\n",
    "visualizer = IrisPlantVisualizer(plant, builder, scene_graph, cspace_free_path, viz_role=Role.kIllustration)\n",
    "visualizer.visualize_collision_constraint(factor = 1.2, num_points = 100)\n",
    "visualizer.meshcat_cspace.Set2dRenderMode(RigidTransform(RotationMatrix.MakeZRotation(0), np.array([0,0,1])))\n",
    "visualizer.meshcat_task_space.Set2dRenderMode(RigidTransform(RotationMatrix.MakeZRotation(0), np.array([1,0,0])))"
   ]
  },
  {
   "cell_type": "code",
   "execution_count": 6,
   "metadata": {},
   "outputs": [],
   "source": [
    "#compute limits in s-space\n",
    "limits_s = []\n",
    "for q in [q_low, q_high]:\n",
    "    limits_s.append(Ratfk.ComputeSValue(np.array(q), q_star))\n",
    "limits_s = np.array(limits_s)"
   ]
  },
  {
   "cell_type": "code",
   "execution_count": 7,
   "metadata": {},
   "outputs": [
    {
     "data": {
      "text/plain": [
       "0.0"
      ]
     },
     "execution_count": 7,
     "metadata": {},
     "output_type": "execute_result"
    }
   ],
   "source": [
    "# draw prm\n",
    "import prm\n",
    "\n",
    "def collision(pos, col_func_handle):\n",
    "    return col_func_handle(pos)\n",
    "\n",
    "def collision_bad(pos, col_func_handle):\n",
    "    return 1-col_func_handle(pos)\n",
    "\n",
    "prm_col_fn_handle = partial(collision, col_func_handle = visualizer.check_collision_s_by_ik)\n",
    "prm_col_fn_handle_bad = partial(collision_bad, col_func_handle = visualizer.check_collision_s_by_ik)\n",
    "\n",
    "visualizer.check_collision_s_by_ik(np.array([0,0]))\n",
    "prm_col_fn_handle(np.array([0,0]))\n"
   ]
  },
  {
   "cell_type": "code",
   "execution_count": 8,
   "metadata": {},
   "outputs": [
    {
     "name": "stdout",
     "output_type": "stream",
     "text": [
      "[PRM] Samples 0\n",
      "[PRM] Samples 30\n",
      "[PRM] Samples 60\n",
      "[PRM] Samples 90\n",
      "[PRM] Nodes connected: 0\n",
      "[PRM] Nodes connected: 20\n",
      "[PRM] Nodes connected: 40\n",
      "[PRM] Nodes connected: 60\n",
      "[PRM] Nodes connected: 80\n"
     ]
    }
   ],
   "source": [
    "num_points = 100\n",
    "\n",
    "PRM = prm.PRM( \n",
    "            limits_s,\n",
    "            num_points = num_points,\n",
    "            col_func_handle = prm_col_fn_handle,\n",
    "            num_neighbours = 5, \n",
    "            dist_thresh = .5,\n",
    "            num_col_checks = 10,\n",
    "            verbose = True,\n",
    "            )"
   ]
  },
  {
   "cell_type": "code",
   "execution_count": 9,
   "metadata": {},
   "outputs": [],
   "source": [
    "def make_line_polys(PRM):\n",
    "    endpoint_index_set = set()\n",
    "    for neighbors in PRM.adjacency_list:\n",
    "        for n in neighbors[1:]:\n",
    "            endpoint_index_set.add((neighbors[0], n))\n",
    "    polys = np.empty(shape=(plant.num_positions(), len(endpoint_index_set)), dtype = object)\n",
    "    for i, (idx0, idx1) in enumerate(endpoint_index_set):\n",
    "        s0 = PRM.nodes[idx0]\n",
    "        s1 = PRM.nodes[idx1]\n",
    "        for j in range(plant.num_positions()):\n",
    "            polys[j,i] = PolynomialCommon(np.array([s0[j]-s1[j], s1[j]]))\n",
    "    return polys\n",
    "\n",
    "path_safe = make_line_polys(PRM)\n",
    "    "
   ]
  },
  {
   "cell_type": "markdown",
   "metadata": {},
   "source": [
    "## END OF SETUP CODE"
   ]
  },
  {
   "cell_type": "markdown",
   "metadata": {},
   "source": [
    "# BEGIN MINIMUM WORKING EXAMPLE"
   ]
  },
  {
   "cell_type": "code",
   "execution_count": 10,
   "metadata": {},
   "outputs": [],
   "source": [
    "cert_options = CspaceFreePath.FindSeparationCertificateGivenPathOptions()\n",
    "cert_options.terminate_segment_certification_at_failure = False\n",
    "\n",
    "cert_options.num_threads = 1\n",
    "cert_options.verbose = True\n",
    "cert_options.solver_id = MosekSolver.id()\n",
    "cert_options.solver_options = SolverOptions()\n",
    "cert_options.terminate_path_certification_at_failure = False\n"
   ]
  },
  {
   "cell_type": "code",
   "execution_count": 11,
   "metadata": {},
   "outputs": [
    {
     "name": "stdout",
     "output_type": "stream",
     "text": [
      "Certification of safe PRM edge in 0.038259267807006836s\n"
     ]
    }
   ],
   "source": [
    "segment = path_safe[:,0]\n",
    "geom_pair = next(iter(cspace_free_path.map_geometries_to_separating_planes().keys()))\n",
    "prog = cspace_free_path.MakeIsGeometrySeparableOnPathProgram(geom_pair, segment)\n",
    "t0 = time.time()\n",
    "result = cspace_free_path.SolveSeparationCertificateProgram(prog, cert_options)\n",
    "t1 = time.time()\n",
    "print(f\"Certification of safe PRM edge in {t1-t0}s\")"
   ]
  },
  {
   "cell_type": "markdown",
   "metadata": {},
   "source": [
    "# This cell below will run forever."
   ]
  },
  {
   "cell_type": "code",
   "execution_count": null,
   "metadata": {},
   "outputs": [],
   "source": [
    "t0 = time.time()\n",
    "ret = cspace_free_path.FindSeparationCertificateGivenPath(path_safe[:, :1], set(), cert_options)\n",
    "t1 = time.time()\n",
    "print(f\"Certification of safe PRM in {t1-t0}s\")"
   ]
  }
 ],
 "metadata": {
  "interpreter": {
   "hash": "31f2aee4e71d21fbe5cf8b01ff0e069b9275f58929596ceb00d14d90e3e16cd6"
  },
  "kernelspec": {
   "display_name": "Python 3 (ipykernel)",
   "language": "python",
   "name": "python3"
  },
  "language_info": {
   "codemirror_mode": {
    "name": "ipython",
    "version": 3
   },
   "file_extension": ".py",
   "mimetype": "text/x-python",
   "name": "python",
   "nbconvert_exporter": "python",
   "pygments_lexer": "ipython3",
   "version": "3.10.6"
  }
 },
 "nbformat": 4,
 "nbformat_minor": 2
}
