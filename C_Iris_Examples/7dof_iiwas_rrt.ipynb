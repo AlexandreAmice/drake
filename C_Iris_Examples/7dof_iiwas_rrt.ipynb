{
 "cells": [
  {
   "cell_type": "code",
   "execution_count": 1,
   "metadata": {},
   "outputs": [],
   "source": [
    "%load_ext autoreload"
   ]
  },
  {
   "cell_type": "code",
   "execution_count": 2,
   "metadata": {},
   "outputs": [],
   "source": [
    "import numpy as np\n",
    "from functools import partial\n",
    "import visualization_utils as viz_utils\n",
    "from iris_plant_visualizer import IrisPlantVisualizer\n",
    "import ipywidgets as widgets\n",
    "from IPython.display import display\n",
    "from scipy.linalg import block_diag\n",
    "import matplotlib.pyplot as plt\n",
    "from pathlib import Path\n",
    "import os"
   ]
  },
  {
   "cell_type": "code",
   "execution_count": 3,
   "metadata": {},
   "outputs": [],
   "source": [
    "#pydrake imports\n",
    "from pydrake.common import FindResourceOrThrow\n",
    "from pydrake.multibody.parsing import Parser\n",
    "from pydrake.multibody.plant import AddMultibodyPlantSceneGraph\n",
    "from pydrake.systems.framework import DiagramBuilder\n",
    "from pydrake.geometry import Role, GeometrySet, CollisionFilterDeclaration\n",
    "from pydrake.all import RigidTransform, RollPitchYaw, RevoluteJoint\n",
    "from pydrake.all import RotationMatrix,MeshcatVisualizer, StartMeshcat\n",
    "import pydrake.symbolic as sym\n",
    "from pydrake.solvers import MosekSolver, CommonSolverOption, SolverOptions, ScsSolver\n",
    "from pydrake.all import PointCloud, MeshcatVisualizerParams, Role, HalfSpace, CoulombFriction, Box, Rgba\n",
    "from pydrake.polynomial import Polynomial as PolynomialCommon\n",
    "import time\n",
    "from pydrake.all import AddFrameTriadIllustration\n",
    "\n",
    "\n",
    "from pydrake.all import RationalForwardKinematics\n",
    "from pydrake.geometry.optimization import HPolyhedron, Hyperellipsoid\n",
    "from pydrake.geometry.optimization_dev import CspaceFreePath\n",
    "from tqdm import tqdm\n"
   ]
  },
  {
   "cell_type": "code",
   "execution_count": 4,
   "metadata": {},
   "outputs": [],
   "source": [
    "import logging\n",
    "drake_logger = logging.getLogger(\"drake\")\n",
    "drake_logger.setLevel(logging.DEBUG)"
   ]
  },
  {
   "cell_type": "code",
   "execution_count": 5,
   "metadata": {},
   "outputs": [
    {
     "name": "stderr",
     "output_type": "stream",
     "text": [
      "DEBUG:drake:FindResource ignoring DRAKE_RESOURCE_ROOT because it is not set.\n",
      "DEBUG:drake:FindRunfile mechanism = RUNFILES_{MANIFEST_FILE,DIR}\n",
      "DEBUG:drake:cwd = \"/home/amice/Documents/coding_projects/drake/C_Iris_Examples\"\n",
      "DEBUG:drake:FindRunfile found by-manifest '/home/amice/Documents/coding_projects/drake/.drake-find_resource-sentinel' (good) and by-directory '/home/amice/.cache/bazel/_bazel_amice/32fdbbecfa8a7ce8feece95e48c42006/execroot/drake/bazel-out/k8-opt/bin/C_Iris_Examples/7dof_iiwas_rrt.runfiles/drake/.drake-find_resource-sentinel' (good)\n",
      "DEBUG:drake:FindRunfile found by-manifest '/home/amice/.cache/bazel/_bazel_amice/32fdbbecfa8a7ce8feece95e48c42006/execroot/drake/bazel-out/k8-opt/bin/geometry/meshcat.js' (good) and by-directory '/home/amice/.cache/bazel/_bazel_amice/32fdbbecfa8a7ce8feece95e48c42006/execroot/drake/bazel-out/k8-opt/bin/C_Iris_Examples/7dof_iiwas_rrt.runfiles/drake/geometry/meshcat.js' (good)\n",
      "DEBUG:drake:FindResource ignoring DRAKE_RESOURCE_ROOT because it is not set.\n",
      "DEBUG:drake:FindRunfile found by-manifest '/home/amice/Documents/coding_projects/drake/.drake-find_resource-sentinel' (good) and by-directory '/home/amice/.cache/bazel/_bazel_amice/32fdbbecfa8a7ce8feece95e48c42006/execroot/drake/bazel-out/k8-opt/bin/C_Iris_Examples/7dof_iiwas_rrt.runfiles/drake/.drake-find_resource-sentinel' (good)\n",
      "DEBUG:drake:FindRunfile found by-manifest '/home/amice/.cache/bazel/_bazel_amice/32fdbbecfa8a7ce8feece95e48c42006/execroot/drake/bazel-out/k8-opt/bin/geometry/stats.min.js' (good) and by-directory '/home/amice/.cache/bazel/_bazel_amice/32fdbbecfa8a7ce8feece95e48c42006/execroot/drake/bazel-out/k8-opt/bin/C_Iris_Examples/7dof_iiwas_rrt.runfiles/drake/geometry/stats.min.js' (good)\n",
      "DEBUG:drake:FindResource ignoring DRAKE_RESOURCE_ROOT because it is not set.\n",
      "DEBUG:drake:FindRunfile found by-manifest '/home/amice/Documents/coding_projects/drake/.drake-find_resource-sentinel' (good) and by-directory '/home/amice/.cache/bazel/_bazel_amice/32fdbbecfa8a7ce8feece95e48c42006/execroot/drake/bazel-out/k8-opt/bin/C_Iris_Examples/7dof_iiwas_rrt.runfiles/drake/.drake-find_resource-sentinel' (good)\n",
      "DEBUG:drake:FindRunfile found by-manifest '/home/amice/.cache/bazel/_bazel_amice/32fdbbecfa8a7ce8feece95e48c42006/execroot/drake/bazel-out/k8-opt/bin/geometry/meshcat.ico' (good) and by-directory '/home/amice/.cache/bazel/_bazel_amice/32fdbbecfa8a7ce8feece95e48c42006/execroot/drake/bazel-out/k8-opt/bin/C_Iris_Examples/7dof_iiwas_rrt.runfiles/drake/geometry/meshcat.ico' (good)\n",
      "DEBUG:drake:FindResource ignoring DRAKE_RESOURCE_ROOT because it is not set.\n",
      "DEBUG:drake:FindRunfile found by-manifest '/home/amice/Documents/coding_projects/drake/.drake-find_resource-sentinel' (good) and by-directory '/home/amice/.cache/bazel/_bazel_amice/32fdbbecfa8a7ce8feece95e48c42006/execroot/drake/bazel-out/k8-opt/bin/C_Iris_Examples/7dof_iiwas_rrt.runfiles/drake/.drake-find_resource-sentinel' (good)\n",
      "DEBUG:drake:FindRunfile found by-manifest '/home/amice/Documents/coding_projects/drake/geometry/meshcat.html' (good) and by-directory '/home/amice/.cache/bazel/_bazel_amice/32fdbbecfa8a7ce8feece95e48c42006/execroot/drake/bazel-out/k8-opt/bin/C_Iris_Examples/7dof_iiwas_rrt.runfiles/drake/geometry/meshcat.html' (good)\n",
      "INFO:drake:Meshcat listening for connections at http://localhost:7000\n"
     ]
    }
   ],
   "source": [
    "meshcat = StartMeshcat()"
   ]
  },
  {
   "cell_type": "markdown",
   "metadata": {},
   "source": [
    "# Build and set up the visualization the plant and the visualization of the C-space obstacle\n",
    "\n",
    "Note that running this cell multiple times will establish multiple meshcat instances which can fill up your memory. It is a good idea to call \"pkill -f meshcat\" from the command line before re-running this cell\n"
   ]
  },
  {
   "cell_type": "code",
   "execution_count": 6,
   "metadata": {},
   "outputs": [
    {
     "name": "stderr",
     "output_type": "stream",
     "text": [
      "DEBUG:drake:FindResource ignoring DRAKE_RESOURCE_ROOT because it is not set.\n",
      "DEBUG:drake:FindRunfile found by-manifest '/home/amice/Documents/coding_projects/drake/.drake-find_resource-sentinel' (good) and by-directory '/home/amice/.cache/bazel/_bazel_amice/32fdbbecfa8a7ce8feece95e48c42006/execroot/drake/bazel-out/k8-opt/bin/C_Iris_Examples/7dof_iiwas_rrt.runfiles/drake/.drake-find_resource-sentinel' (good)\n",
      "DEBUG:drake:FindRunfile found by-manifest '/home/amice/Documents/coding_projects/drake/C_Iris_Examples/assets/iiwa6/iiwa6_with_box_collision.sdf' (good) and by-directory '/home/amice/.cache/bazel/_bazel_amice/32fdbbecfa8a7ce8feece95e48c42006/execroot/drake/bazel-out/k8-opt/bin/C_Iris_Examples/7dof_iiwas_rrt.runfiles/drake/C_Iris_Examples/assets/iiwa6/iiwa6_with_box_collision.sdf' (good)\n",
      "DEBUG:drake:FindResource ignoring DRAKE_RESOURCE_ROOT because it is not set.\n",
      "DEBUG:drake:FindRunfile found by-manifest '/home/amice/Documents/coding_projects/drake/.drake-find_resource-sentinel' (good) and by-directory '/home/amice/.cache/bazel/_bazel_amice/32fdbbecfa8a7ce8feece95e48c42006/execroot/drake/bazel-out/k8-opt/bin/C_Iris_Examples/7dof_iiwas_rrt.runfiles/drake/.drake-find_resource-sentinel' (good)\n",
      "DEBUG:drake:FindRunfile found by-manifest '/home/amice/Documents/coding_projects/drake/C_Iris_Examples/assets/shelves.sdf' (good) and by-directory '/home/amice/.cache/bazel/_bazel_amice/32fdbbecfa8a7ce8feece95e48c42006/execroot/drake/bazel-out/k8-opt/bin/C_Iris_Examples/7dof_iiwas_rrt.runfiles/drake/C_Iris_Examples/assets/shelves.sdf' (good)\n",
      "DEBUG:drake:FindResource ignoring DRAKE_RESOURCE_ROOT because it is not set.\n",
      "DEBUG:drake:FindRunfile found by-manifest '/home/amice/Documents/coding_projects/drake/.drake-find_resource-sentinel' (good) and by-directory '/home/amice/.cache/bazel/_bazel_amice/32fdbbecfa8a7ce8feece95e48c42006/execroot/drake/bazel-out/k8-opt/bin/C_Iris_Examples/7dof_iiwas_rrt.runfiles/drake/.drake-find_resource-sentinel' (good)\n",
      "DEBUG:drake:FindRunfile found by-manifest '/home/amice/Documents/coding_projects/drake/package.xml' (good) and by-directory '/home/amice/.cache/bazel/_bazel_amice/32fdbbecfa8a7ce8feece95e48c42006/execroot/drake/bazel-out/k8-opt/bin/C_Iris_Examples/7dof_iiwas_rrt.runfiles/drake/package.xml' (good)\n",
      "DEBUG:drake:FindResource ignoring DRAKE_RESOURCE_ROOT because it is not set.\n",
      "DEBUG:drake:FindRunfile found by-manifest '/home/amice/Documents/coding_projects/drake/.drake-find_resource-sentinel' (good) and by-directory '/home/amice/.cache/bazel/_bazel_amice/32fdbbecfa8a7ce8feece95e48c42006/execroot/drake/bazel-out/k8-opt/bin/C_Iris_Examples/7dof_iiwas_rrt.runfiles/drake/.drake-find_resource-sentinel' (good)\n",
      "DEBUG:drake:FindRunfile found by-manifest '/home/amice/.cache/bazel/_bazel_amice/32fdbbecfa8a7ce8feece95e48c42006/execroot/drake/bazel-out/k8-opt/bin/multibody/parsing/drake_models.json' (good) and by-directory '/home/amice/.cache/bazel/_bazel_amice/32fdbbecfa8a7ce8feece95e48c42006/execroot/drake/bazel-out/k8-opt/bin/C_Iris_Examples/7dof_iiwas_rrt.runfiles/drake/multibody/parsing/drake_models.json' (good)\n",
      "DEBUG:drake:FindRunfile found by-manifest '/home/amice/.cache/bazel/_bazel_amice/32fdbbecfa8a7ce8feece95e48c42006/external/drake_models/package.xml' (good) and by-directory '/home/amice/.cache/bazel/_bazel_amice/32fdbbecfa8a7ce8feece95e48c42006/execroot/drake/bazel-out/k8-opt/bin/C_Iris_Examples/7dof_iiwas_rrt.runfiles/drake_models/package.xml' (good)\n",
      "DEBUG:drake:FindResource ignoring DRAKE_RESOURCE_ROOT because it is not set.\n",
      "DEBUG:drake:FindRunfile found by-manifest '/home/amice/Documents/coding_projects/drake/.drake-find_resource-sentinel' (good) and by-directory '/home/amice/.cache/bazel/_bazel_amice/32fdbbecfa8a7ce8feece95e48c42006/execroot/drake/bazel-out/k8-opt/bin/C_Iris_Examples/7dof_iiwas_rrt.runfiles/drake/.drake-find_resource-sentinel' (good)\n",
      "DEBUG:drake:FindRunfile found by-manifest '/home/amice/Documents/coding_projects/drake/package.xml' (good) and by-directory '/home/amice/.cache/bazel/_bazel_amice/32fdbbecfa8a7ce8feece95e48c42006/execroot/drake/bazel-out/k8-opt/bin/C_Iris_Examples/7dof_iiwas_rrt.runfiles/drake/package.xml' (good)\n",
      "DEBUG:drake:FindRunfile found by-manifest '/home/amice/.cache/bazel/_bazel_amice/32fdbbecfa8a7ce8feece95e48c42006/external/drake_models/package.xml' (good) and by-directory '/home/amice/.cache/bazel/_bazel_amice/32fdbbecfa8a7ce8feece95e48c42006/execroot/drake/bazel-out/k8-opt/bin/C_Iris_Examples/7dof_iiwas_rrt.runfiles/drake_models/package.xml' (good)\n",
      "DEBUG:drake:SDFormat Dbg [parser.cc:983] Converting a deprecated source[/home/amice/.cache/bazel/_bazel_amice/32fdbbecfa8a7ce8feece95e48c42006/execroot/drake/bazel-out/k8-opt/bin/C_Iris_Examples/7dof_iiwas_rrt.runfiles/drake/C_Iris_Examples/assets/iiwa6/iiwa6_with_box_collision.sdf].\n",
      "DEBUG:drake:SDFormat Dbg [Converter.cc:117] Version[1.7] to Version[1.10]\n",
      "  Please use the gz sdf tool to update your SDF files.\n",
      "    $ gz sdf -c [sdf_file]\n",
      "DEBUG:drake:FindResource ignoring DRAKE_RESOURCE_ROOT because it is not set.\n",
      "DEBUG:drake:FindRunfile found by-manifest '/home/amice/Documents/coding_projects/drake/.drake-find_resource-sentinel' (good) and by-directory '/home/amice/.cache/bazel/_bazel_amice/32fdbbecfa8a7ce8feece95e48c42006/execroot/drake/bazel-out/k8-opt/bin/C_Iris_Examples/7dof_iiwas_rrt.runfiles/drake/.drake-find_resource-sentinel' (good)\n",
      "DEBUG:drake:FindRunfile found by-manifest '/home/amice/Documents/coding_projects/drake/package.xml' (good) and by-directory '/home/amice/.cache/bazel/_bazel_amice/32fdbbecfa8a7ce8feece95e48c42006/execroot/drake/bazel-out/k8-opt/bin/C_Iris_Examples/7dof_iiwas_rrt.runfiles/drake/package.xml' (good)\n",
      "DEBUG:drake:FindRunfile found by-manifest '/home/amice/.cache/bazel/_bazel_amice/32fdbbecfa8a7ce8feece95e48c42006/external/drake_models/package.xml' (good) and by-directory '/home/amice/.cache/bazel/_bazel_amice/32fdbbecfa8a7ce8feece95e48c42006/execroot/drake/bazel-out/k8-opt/bin/C_Iris_Examples/7dof_iiwas_rrt.runfiles/drake_models/package.xml' (good)\n",
      "DEBUG:drake:SDFormat Dbg [parser.cc:983] Converting a deprecated source[/home/amice/.cache/bazel/_bazel_amice/32fdbbecfa8a7ce8feece95e48c42006/execroot/drake/bazel-out/k8-opt/bin/C_Iris_Examples/7dof_iiwas_rrt.runfiles/drake/C_Iris_Examples/assets/shelves.sdf].\n",
      "DEBUG:drake:SDFormat Dbg [Converter.cc:117] Version[1.7] to Version[1.10]\n",
      "  Please use the gz sdf tool to update your SDF files.\n",
      "    $ gz sdf -c [sdf_file]\n"
     ]
    }
   ],
   "source": [
    "builder = DiagramBuilder()\n",
    "plant, scene_graph = AddMultibodyPlantSceneGraph(builder, time_step=0.001)\n",
    "model_file = FindResourceOrThrow(\"drake/C_Iris_Examples/assets/iiwa6/iiwa6_with_box_collision.sdf\")\n",
    "box_file = FindResourceOrThrow(\"drake/C_Iris_Examples/assets/shelves.sdf\")\n",
    "\n",
    "\n",
    "parser = Parser(plant)\n",
    "\n",
    "height = 0.1\n",
    "ground_box = Box(10,10,0.1)\n",
    "ground_offset = RigidTransform(p=[0,0,-height/2])\n",
    "friction = CoulombFriction(1,1)\n",
    "ground_collision = plant.RegisterCollisionGeometry(\n",
    "    plant.world_body(), ground_offset, ground_box, \"ground_col\", friction\n",
    ")\n",
    "# ground_visual = plant.RegisterVisualGeometry(\n",
    "#     plant.world_body(), ground_offset, ground_box, \"ground\", [1,0,0,0]\n",
    "# )\n",
    "\n",
    "\n",
    "models = []\n",
    "models.append(Parser(plant, scene_graph).AddModelFromFile(model_file))\n",
    "models.append(Parser(plant, scene_graph).AddModelFromFile(box_file))\n",
    "\n",
    "sp = 0\n",
    "x_fac = 0.7\n",
    "z_offset = 0.0\n",
    "locs = [ [0,0,0], \n",
    "        [x_fac, 1.4*sp,z_offset],\n",
    "        [x_fac,-1.4*sp,z_offset],\n",
    "        [-x_fac,-1.4*sp,z_offset],\n",
    "        [-x_fac,1.4,z_offset], \n",
    "        [0.0 ,0 , z_offset],\n",
    "        [0.0 ,0 , z_offset]] \n",
    "idx = 0\n",
    "for model in models:\n",
    "    plant.WeldFrames(plant.world_frame(), plant.get_body(plant.GetBodyIndices(model)[0]).body_frame(),\n",
    "                     RigidTransform(locs[idx]))\n",
    "    idx +=1\n",
    "    \n",
    "# plant.WeldFrames(plant.GetBodyByName(\"iiwa_link_7\").body_frame(), \n",
    "#                  plant.GetBodyByName(\"iiwa_link_6\").body_frame(), \n",
    "#                  RigidTransform())\n",
    "\n",
    "\n",
    "plant.Finalize()\n",
    "\n",
    "\n",
    "        \n",
    "# construct the RationalForwardKinematics of this plant. This object handles the\n",
    "# computations for the forward kinematics in the tangent-configuration space\n",
    "Ratfk = RationalForwardKinematics(plant)\n",
    "\n",
    "# the point about which we will take the stereographic projections\n",
    "q_star = np.zeros(plant.num_positions())\n",
    "\n",
    "do_viz = True\n",
    "\n",
    "meshcat.Delete()\n",
    "visualizer_params = MeshcatVisualizerParams()\n",
    "visualizer_params.role = Role.kIllustration #Role.kProximity\n",
    "visualizer = MeshcatVisualizer.AddToBuilder(\n",
    "    builder, scene_graph, meshcat, visualizer_params)\n",
    "diagram = builder.Build()\n",
    "\n",
    "AddFrameTriadIllustration(scene_graph = scene_graph,\n",
    "                        body = plant.get_body(plant.GetBodyIndices(models[-1])[0]))\n",
    "\n",
    "\n",
    "diagram_context = diagram.CreateDefaultContext()\n",
    "plant_context = diagram.GetMutableSubsystemContext(plant, diagram_context)\n",
    "scene_graph_context = diagram.GetMutableSubsystemContext(scene_graph, diagram_context)\n",
    "query_port = scene_graph.get_query_output_port()\n",
    "diagram.ForcedPublish(diagram_context)"
   ]
  },
  {
   "cell_type": "code",
   "execution_count": 7,
   "metadata": {},
   "outputs": [
    {
     "data": {
      "text/plain": [
       "6"
      ]
     },
     "execution_count": 7,
     "metadata": {},
     "output_type": "execute_result"
    }
   ],
   "source": [
    "plant.num_positions()"
   ]
  },
  {
   "cell_type": "code",
   "execution_count": 8,
   "metadata": {},
   "outputs": [
    {
     "name": "stdout",
     "output_type": "stream",
     "text": [
      "[[ -1.          -1.7320606    0.          -1.7320606  -11.43007018\n",
      "    0.        ]\n",
      " [  1.           1.7320606   11.43007018   1.7320606   11.43007018\n",
      "    0.        ]]\n"
     ]
    }
   ],
   "source": [
    "#compute limits in s-space\n",
    "limits_s = []\n",
    "lower_q = plant.GetPositionLowerLimits()\n",
    "upper_q = plant.GetPositionUpperLimits()\n",
    "\n",
    "lower_q[0] = -np.pi/2\n",
    "upper_q[0] = np.pi/2\n",
    "\n",
    "lower_q[-1] = 0\n",
    "upper_q[-1] = 0\n",
    "\n",
    "lower_q[2] = 0\n",
    "\n",
    "for q in [lower_q,upper_q]:\n",
    "    limits_s.append(Ratfk.ComputeSValue(np.array(q), q_star))\n",
    "limits_s = np.array(limits_s)\n",
    "print(limits_s)"
   ]
  },
  {
   "cell_type": "code",
   "execution_count": 9,
   "metadata": {},
   "outputs": [],
   "source": [
    "from pydrake.all import InverseKinematics\n",
    "ik = InverseKinematics(plant, diagram.GetMutableSubsystemContext(plant, diagram_context))\n",
    "min_dist = 1e-5\n",
    "collision_constraint = ik.AddMinimumDistanceConstraint(\n",
    "            min_dist, 1e-5)\n",
    "diagram_col_context = diagram.CreateDefaultContext()\n",
    "plant_col_context = diagram.GetMutableSubsystemContext(plant, diagram_col_context)\n",
    "scene_graph_col_context = diagram.GetMutableSubsystemContext(scene_graph, diagram_col_context)\n",
    "def check_collision_q_by_ik(q, min_dist=1e-5):\n",
    "    if np.all(q >= plant.GetPositionLowerLimits()) and \\\n",
    "            np.all(q <= plant.GetPositionUpperLimits()):\n",
    "        return 1 - 1 * \\\n",
    "            float(collision_constraint.evaluator().CheckSatisfied(q, min_dist))\n",
    "    else:\n",
    "        return 1\n",
    "def check_collision_s_by_ik(s, min_dist=1e-5):\n",
    "    s = np.array(s)\n",
    "    q = Ratfk.ComputeQValue(s, q_star)\n",
    "    return check_collision_q_by_ik(q, min_dist)\n",
    "\n",
    "def check_collision_q_by_query(q):\n",
    "    if np.all(q >= plant.GetPositionLowerLimits()) and \\\n",
    "            np.all(q <= plant.GetPositionUpperLimits()):\n",
    "        plant.SetPositions(plant_col_context, q)\n",
    "        query_object = query_port.Eval(scene_graph_col_context)\n",
    "        return 1 if query_object.HasCollisions() else 0\n",
    "    else:\n",
    "        return 1\n",
    "    \n",
    "def check_collision_s_by_query(s):\n",
    "    s = np.array(s)\n",
    "    q = Ratfk.ComputeQValue(s, q_star)\n",
    "    return check_collision_q_by_query(q)"
   ]
  },
  {
   "cell_type": "code",
   "execution_count": 10,
   "metadata": {},
   "outputs": [
    {
     "name": "stdout",
     "output_type": "stream",
     "text": [
      "0\n",
      "0\n",
      "0\n",
      "0\n",
      "0\n",
      "0\n"
     ]
    }
   ],
   "source": [
    "# prm_important_samples_q = np.array([\n",
    "# #     np.zeros(plant.num_positions()),\n",
    "#     [-0.47, -0.19, 0.34, -1.89, 0.68, 0.18, 0],\n",
    "#     [-2.1, -1.4,  1.53, -1.9 , -2.77,  0.6 ,  0],\n",
    "#     [2.22, -2.09, -1.61, -1.61, -2.87,  0.64,  0],\n",
    "#     [0.39,  0.41, -0.17, -1.79,  1.13, -0.49,  0]\n",
    "# ]) \n",
    "\n",
    "\n",
    "prm_important_samples_q = np.array([\n",
    "    np.zeros(plant.num_positions()),\n",
    "    [ 0.033,  0.306, -0.067, -0.894,  0.033,  0.006],\n",
    "    [ 0.033,  0.706, -0.367, -0.894,  0.033,  0.506],\n",
    "    [-0.267,  1.106,  1.633, -0.894,  0.433, -0.894],\n",
    "    [-0.467,  1.806,  1.833, -0.694,  0.433, -0.894],\n",
    "    [-1.367,  1.606, -1.667,  2.094, -0.867, -0.094]\n",
    "]) \n",
    "\n",
    "\n",
    "prm_important_samples_s = [ Ratfk.ComputeSValue(x, q_star) for x in prm_important_samples_q]\n",
    "\n",
    "for s in prm_important_samples_s:\n",
    "    print(check_collision_s_by_query(s))"
   ]
  },
  {
   "cell_type": "code",
   "execution_count": 11,
   "metadata": {},
   "outputs": [],
   "source": [
    "def visualize_task_space_trajectory(segment_start, segment_end,\n",
    "                                    body, color = Rgba(0,1,0,0.5),\n",
    "                                    path_size = 0.01, num_points = 100, path = \"prm/seg\"):\n",
    "    s_waypoints = np.linspace(segment_start, segment_end, num_points)\n",
    "    points = []\n",
    "    for s in s_waypoints:\n",
    "        q = Ratfk.ComputeQValue(s, q_star)\n",
    "        plant.SetPositions(plant_context, q)\n",
    "        points.append(plant.EvalBodyPoseInWorld(plant_context, body).translation())\n",
    "    points = np.array(points)\n",
    "    pc = PointCloud(len(points))\n",
    "    pc.mutable_xyzs()[:] = points.T\n",
    "    meshcat.SetObject(path, pc, point_size = path_size, rgba=color)"
   ]
  },
  {
   "cell_type": "code",
   "execution_count": 12,
   "metadata": {},
   "outputs": [],
   "source": [
    "from scipy.spatial import KDTree\n",
    "import networkx as nx\n",
    "from pydrake.all import Sphere, Rgba \n",
    "from tqdm import tqdm\n",
    "\n",
    "class Node:\n",
    "    def __init__(self, pos, parent=None, children = None):\n",
    "        self.pos = pos\n",
    "        self.parent = parent\n",
    "        self.children = [] if children is None else children\n",
    "         \n",
    "class StraightLineCollisionChecker:\n",
    "    def __init__(self, in_collision_handle, query_density = 100):\n",
    "        self.in_collision_handle = in_collision_handle\n",
    "        self.query_density = query_density\n",
    "\n",
    "    def straight_line_has_collision(self, start, end):\n",
    "        for pos in np.linspace(start, end, self.query_density):\n",
    "            if self.in_collision_handle(pos):\n",
    "                return True\n",
    "        return False\n",
    "\n",
    "class RRT:\n",
    "    def __init__(self, start_pos, end_pos, lower_limits, \n",
    "                 upper_limits, straight_line_col_checker: StraightLineCollisionChecker,\n",
    "                do_build_max_iter = -1):\n",
    "        \"\"\"\n",
    "        start_pos: start of the rrt\n",
    "        end_pos: end of the rrt\n",
    "        lower_limits]upper limits: search in the box [lower_limits, upper_limits]\n",
    "        collision_check_handle: return True if the configuration is in collision, false otherwise.\n",
    "        \"\"\"\n",
    "        self.tree = nx.Graph()\n",
    "        self.start_pos = start_pos\n",
    "        self.end_pos = end_pos\n",
    "        self.start_node = self.tree.add_node(start_pos)\n",
    "#         self.end_node = self.tree.add_node(end_pos)\n",
    "        \n",
    "\n",
    "        self.lower_limits = lower_limits\n",
    "        self.upper_limits = upper_limits\n",
    "\n",
    "\n",
    "        self.straight_line_col_checker = straight_line_col_checker\n",
    "        if do_build_max_iter > 0:\n",
    "            self.build_tree(do_build_max_iter)\n",
    "\n",
    "    def get_nearest_node(self, pos):\n",
    "        nearest_node = None\n",
    "        nearest_distance = np.inf\n",
    "        for node in self.tree.nodes():\n",
    "            if (dist := np.linalg.norm(node - pos)) < nearest_distance:\n",
    "                nearest_node = node\n",
    "                nearest_distance = dist\n",
    "        return nearest_node, nearest_distance\n",
    "    \n",
    "\n",
    "    def get_random_node(self, bisection_tol = 1e-5):\n",
    "        if np.random.rand() > 0.1:\n",
    "            pos = np.random.uniform(self.lower_limits, self.upper_limits)\n",
    "            while self.straight_line_col_checker.in_collision_handle(pos):\n",
    "                pos = np.random.uniform(self.lower_limits, self.upper_limits)\n",
    "        else:\n",
    "            pos = np.array(self.end_pos)\n",
    "        return pos\n",
    "                \n",
    "    def add_node(self, pos, bisection_tol = 1e-5):\n",
    "        nearest_node, nearest_neighbor_dist = self.get_nearest_node(pos)\n",
    "        nearest_nod_arr = np.array(nearest_node)\n",
    "        # run bisection search to extend as far as possible in this direction\n",
    "        v = pos-nearest_node\n",
    "        t_upper_bound = 1\n",
    "        t_lower_bound = 0\n",
    "        max_extend = False\n",
    "        if self.straight_line_col_checker.straight_line_has_collision(pos, nearest_nod_arr):\n",
    "            while t_upper_bound - t_lower_bound > bisection_tol:\n",
    "                t = (t_upper_bound + t_lower_bound)/2\n",
    "                cur_end = (1-t)*nearest_nod_arr + t * pos \n",
    "                if self.straight_line_col_checker.straight_line_has_collision(cur_end, nearest_nod_arr):\n",
    "                    t_upper_bound = t\n",
    "                else:\n",
    "                    t_lower_bound = t\n",
    "        else:\n",
    "            cur_end = pos\n",
    "            max_extend = True\n",
    "        new_node = tuple(cur_end)\n",
    "        self.tree.add_node(new_node)\n",
    "        self.tree.add_edge(nearest_node, new_node, weight = np.linalg.norm(nearest_nod_arr-cur_end))\n",
    "        return max_extend\n",
    "        \n",
    "    def add_new_random_node(self, bisection_tol = 1e-5):\n",
    "        pos = self.get_random_node(bisection_tol)\n",
    "        return add_node(pos, bisection_tol)\n",
    "        \n",
    "\n",
    "    def build_tree(self, max_iter = int(1e4), bisection_tol = 1e-5, verbose = True):\n",
    "        for i in tqdm(range(max_iter)):\n",
    "            self.add_new_random_node(bisection_tol)\n",
    "            if self.end_pos in self.tree.nodes():\n",
    "#             if nx.has_path(self.tree, self.start_pos, self.end_pos):\n",
    "                return True#nx.has_path(self.tree, self.start_node, self.end_node)\n",
    "        return False\n",
    "\n",
    "    def draw_tree(self, meshcat_instance, body, prefix = \"rrt\", edge_color = Rgba(0,0,1,0.5), \n",
    "                  start_color = Rgba(0,1,0,0.5), end_color = Rgba(1,0,0,0.5), \n",
    "                  path_size = 0.01, num_points = 100, start_end_radius = 0.05 ):\n",
    "        meshcat.Delete(prefix)\n",
    "        for idx, (s0, s1) in enumerate(self.tree.edges()):\n",
    "            visualize_task_space_trajectory(s0, s1, body, edge_color,\n",
    "                                            path_size=path_size, num_points=num_points, \n",
    "                                            path=f\"{prefix}/seg_{idx}\")\n",
    "        start_name = f\"{prefix}/start\"\n",
    "        s = self.start_pos\n",
    "        q = Ratfk.ComputeQValue(s, q_star)\n",
    "        plant.SetPositions(plant_context, q)\n",
    "        start_task_space = plant.EvalBodyPoseInWorld(plant_context, body).translation()\n",
    "        meshcat_instance.SetObject(start_name,\n",
    "                               Sphere(start_end_radius),\n",
    "                               start_color)\n",
    "        meshcat_instance.SetTransform(start_name, RigidTransform(p=start_task_space))\n",
    "        \n",
    "        end_name = f\"{prefix}/end\"\n",
    "        s = self.end_pos\n",
    "        q = Ratfk.ComputeQValue(s, q_star)\n",
    "        plant.SetPositions(plant_context, q)\n",
    "        end_task_space = plant.EvalBodyPoseInWorld(plant_context, body).translation()\n",
    "        meshcat_instance.SetObject(end_name,\n",
    "                               Sphere(start_end_radius),\n",
    "                               end_color)\n",
    "        meshcat_instance.SetTransform(end_name, RigidTransform(p=end_task_space))\n"
   ]
  },
  {
   "cell_type": "code",
   "execution_count": 13,
   "metadata": {},
   "outputs": [],
   "source": [
    "class BiRRT:\n",
    "    def __init__(self, start_pos, end_pos, lower_limits, \n",
    "                 upper_limits, straight_line_col_checker: StraightLineCollisionChecker):\n",
    "        \"\"\"\n",
    "        start_pos: start of the rrt\n",
    "        end_pos: end of the rrt\n",
    "        lower_limits]upper limits: search in the box [lower_limits, upper_limits]\n",
    "        collision_check_handle: return True if the configuration is in collision, false otherwise.\n",
    "        \"\"\"\n",
    "        self.tree_to_start = RRT(start_pos, end_pos, lower_limits, \n",
    "                 upper_limits, straight_line_col_checker)\n",
    "        self.tree_to_end = RRT(end_pos, start_pos, lower_limits, \n",
    "                 upper_limits, straight_line_col_checker)\n",
    "        self.start_pos = start_pos\n",
    "        self.end_pos = end_pos\n",
    "#         self.start_node = self.tree.add_node(start_pos)\n",
    "#         self.end_node = self.tree.add_node(end_pos)\n",
    "        \n",
    "\n",
    "        self.lower_limits = lower_limits\n",
    "        self.upper_limits = upper_limits\n",
    "\n",
    "\n",
    "        self.straight_line_col_checker = straight_line_col_checker\n",
    "        \n",
    "        self.connected_tree = None\n",
    "        \n",
    "    def add_node(self, pos, bisection_tol = 1e-5):\n",
    "        if np.random.rand() > 0.1:\n",
    "            return (self.tree_to_start.add_node(pos, bisection_tol) and \n",
    "                    self.tree_to_end.add_node(pos, bisection_tol))\n",
    "        else:\n",
    "            return (self.tree_to_start.add_node(np.array(self.end_pos), bisection_tol) or\n",
    "            self.tree_to_end.add_node(np.array(self.start_pos), bisection_tol))\n",
    "    \n",
    "    def get_random_node(self):\n",
    "        pos = np.random.uniform(self.lower_limits, self.upper_limits)\n",
    "        while self.straight_line_col_checker.in_collision_handle(pos):\n",
    "            pos = np.random.uniform(self.lower_limits, self.upper_limits)\n",
    "        return pos\n",
    "    \n",
    "    def build_tree(self, max_iter = int(1e4), bisection_tol = 1e-5, verbose = True):\n",
    "        for i in tqdm(range(max_iter)):\n",
    "            pos = self.get_random_node()\n",
    "            trees_connected = self.add_node(pos, bisection_tol)\n",
    "            if trees_connected:\n",
    "                return True\n",
    "        return False\n",
    "    \n",
    "    def draw_tree(self, meshcat_instance, body, prefix = \"bi_rrt\",\n",
    "                  start_tree_edge_color = Rgba(0,1,0,0.5), \n",
    "                  start_color = Rgba(0,1,0,0.5), \n",
    "                  end_tree_edge_color = Rgba(1,0,0,0.5), \n",
    "                  end_color = Rgba(1,0,0,0.5), \n",
    "                  path_size = 0.01, num_points = 100, start_end_radius = 0.05 ):\n",
    "        self.tree_to_start.draw_tree(meshcat_instance, body,\n",
    "                                    prefix+\"/start_tree\",\n",
    "                                    edge_color = start_tree_edge_color,\n",
    "                                    path_size=path_size, num_points=num_points, \n",
    "                                    start_end_radius=start_end_radius)\n",
    "        self.tree_to_end.draw_tree(meshcat_instance, body,\n",
    "                                    prefix+\"/end_tree\",\n",
    "                                    edge_color = end_tree_edge_color,\n",
    "                                    path_size=path_size, num_points=num_points, \n",
    "                                    start_end_radius=start_end_radius)\n",
    "        \n",
    "        start_name = f\"{prefix}/start\"\n",
    "        meshcat_instance.SetObject(start_name,\n",
    "                               Sphere(start_end_radius),\n",
    "                               start_color)\n",
    "        \n",
    "        end_name = f\"{prefix}/end\"\n",
    "        meshcat_instance.SetObject(end_name,\n",
    "                               Sphere(start_end_radius),\n",
    "                               end_color)\n",
    "    "
   ]
  },
  {
   "cell_type": "code",
   "execution_count": 14,
   "metadata": {},
   "outputs": [],
   "source": [
    "# col_checker = StraightLineCollisionChecker(check_collision_s_by_ik, 100)\n",
    "# bi_rrt = BiRRT(tuple(prm_important_samples_s[0]), \n",
    "#               tuple(prm_important_samples_s[1]),\n",
    "#               limits_s[0], limits_s[1], col_checker)\n",
    "# connected = bi_rrt.build_tree(1000)\n",
    "# print(connected)\n",
    "# bi_rrt.draw_tree(meshcat, plant.GetBodyByName(\"iiwa_link_7\"))"
   ]
  },
  {
   "cell_type": "code",
   "execution_count": null,
   "metadata": {},
   "outputs": [],
   "source": []
  },
  {
   "cell_type": "code",
   "execution_count": 25,
   "metadata": {},
   "outputs": [
    {
     "name": "stderr",
     "output_type": "stream",
     "text": [
      " 11%|████▌                                     | 11/100 [00:00<00:03, 22.53it/s]\n"
     ]
    },
    {
     "name": "stdout",
     "output_type": "stream",
     "text": [
      "True\n"
     ]
    },
    {
     "name": "stderr",
     "output_type": "stream",
     "text": [
      "100%|█████████████████████████████████████████| 100/100 [00:02<00:00, 43.84it/s]\n"
     ]
    },
    {
     "name": "stdout",
     "output_type": "stream",
     "text": [
      "False\n"
     ]
    },
    {
     "name": "stderr",
     "output_type": "stream",
     "text": [
      "100%|█████████████████████████████████████████| 100/100 [00:02<00:00, 34.32it/s]\n"
     ]
    },
    {
     "name": "stdout",
     "output_type": "stream",
     "text": [
      "False\n"
     ]
    },
    {
     "name": "stderr",
     "output_type": "stream",
     "text": [
      "100%|█████████████████████████████████████████| 100/100 [00:01<00:00, 58.08it/s]\n"
     ]
    },
    {
     "name": "stdout",
     "output_type": "stream",
     "text": [
      "False\n"
     ]
    },
    {
     "name": "stderr",
     "output_type": "stream",
     "text": [
      " 16%|██████▋                                   | 16/100 [00:00<00:02, 35.84it/s]\n"
     ]
    },
    {
     "name": "stdout",
     "output_type": "stream",
     "text": [
      "True\n"
     ]
    },
    {
     "name": "stderr",
     "output_type": "stream",
     "text": [
      "100%|█████████████████████████████████████████| 100/100 [00:02<00:00, 47.34it/s]\n"
     ]
    },
    {
     "name": "stdout",
     "output_type": "stream",
     "text": [
      "False\n"
     ]
    },
    {
     "name": "stderr",
     "output_type": "stream",
     "text": [
      "100%|█████████████████████████████████████████| 100/100 [00:02<00:00, 42.58it/s]\n"
     ]
    },
    {
     "name": "stdout",
     "output_type": "stream",
     "text": [
      "False\n"
     ]
    },
    {
     "name": "stderr",
     "output_type": "stream",
     "text": [
      "100%|█████████████████████████████████████████| 100/100 [00:01<00:00, 50.58it/s]\n"
     ]
    },
    {
     "name": "stdout",
     "output_type": "stream",
     "text": [
      "False\n"
     ]
    },
    {
     "name": "stderr",
     "output_type": "stream",
     "text": [
      "  4%|█▋                                         | 4/100 [00:00<00:04, 23.73it/s]\n"
     ]
    },
    {
     "name": "stdout",
     "output_type": "stream",
     "text": [
      "True\n"
     ]
    },
    {
     "name": "stderr",
     "output_type": "stream",
     "text": [
      "  7%|███                                        | 7/100 [00:00<00:03, 23.47it/s]\n"
     ]
    },
    {
     "name": "stdout",
     "output_type": "stream",
     "text": [
      "True\n"
     ]
    },
    {
     "name": "stderr",
     "output_type": "stream",
     "text": [
      "100%|█████████████████████████████████████████| 100/100 [00:01<00:00, 53.93it/s]\n"
     ]
    },
    {
     "name": "stdout",
     "output_type": "stream",
     "text": [
      "False\n"
     ]
    },
    {
     "name": "stderr",
     "output_type": "stream",
     "text": [
      "  4%|█▋                                         | 4/100 [00:00<00:06, 15.22it/s]\n"
     ]
    },
    {
     "name": "stdout",
     "output_type": "stream",
     "text": [
      "True\n"
     ]
    },
    {
     "name": "stderr",
     "output_type": "stream",
     "text": [
      "100%|█████████████████████████████████████████| 100/100 [00:01<00:00, 70.74it/s]\n"
     ]
    },
    {
     "name": "stdout",
     "output_type": "stream",
     "text": [
      "False\n"
     ]
    },
    {
     "name": "stderr",
     "output_type": "stream",
     "text": [
      "  0%|                                                   | 0/100 [00:00<?, ?it/s]\n"
     ]
    },
    {
     "name": "stdout",
     "output_type": "stream",
     "text": [
      "True\n"
     ]
    },
    {
     "name": "stderr",
     "output_type": "stream",
     "text": [
      " 11%|████▌                                     | 11/100 [00:00<00:02, 35.36it/s]\n"
     ]
    },
    {
     "name": "stdout",
     "output_type": "stream",
     "text": [
      "True\n"
     ]
    }
   ],
   "source": [
    "from itertools import combinations, permutations\n",
    "from joblib import Parallel, delayed\n",
    "\n",
    "col_checker = StraightLineCollisionChecker(check_collision_s_by_ik, 100)\n",
    "# trees = Parallel(n_jobs=2)(delayed(RRT)((r1, r2, limits_s[0], limits_s[1], col_checker, 100))\n",
    "#                            for (r1, r2) in combinations(prm_important_samples_s,2))\n",
    "trees =[]\n",
    "for i, (r1, r2) in enumerate(combinations(prm_important_samples_s,2)):\n",
    "# for i, r2 in enumerate(prm_important_samples_s[1:]):\n",
    "    r1 = prm_important_samples_s[0]\n",
    "    trees.append(BiRRT(tuple(r1), tuple(r2), limits_s[0], limits_s[1], col_checker))\n",
    "    tree_connected = trees[-1].build_tree(max_iter = int(1e2))\n",
    "    print(tree_connected)\n",
    "    if True: #tree_connected:\n",
    "        trees[-1].draw_tree(meshcat, plant.GetBodyByName(\"iiwa_link_7\"), prefix = f\"rrt/{i}\")"
   ]
  },
  {
   "cell_type": "code",
   "execution_count": 30,
   "metadata": {},
   "outputs": [
    {
     "ename": "TypeError",
     "evalue": "unsupported operand type(s) for |: 'Graph' and 'Graph'",
     "output_type": "error",
     "traceback": [
      "\u001b[0;31m---------------------------------------------------------------------------\u001b[0m",
      "\u001b[0;31mTypeError\u001b[0m                                 Traceback (most recent call last)",
      "\u001b[0;32m/tmp/ipykernel_18387/2584802629.py\u001b[0m in \u001b[0;36m<module>\u001b[0;34m\u001b[0m\n\u001b[1;32m      3\u001b[0m \u001b[0mr2\u001b[0m \u001b[0;34m=\u001b[0m \u001b[0mtmp\u001b[0m\u001b[0;34m.\u001b[0m\u001b[0mtree_to_end\u001b[0m\u001b[0;34m\u001b[0m\u001b[0;34m\u001b[0m\u001b[0m\n\u001b[1;32m      4\u001b[0m \u001b[0;34m\u001b[0m\u001b[0m\n\u001b[0;32m----> 5\u001b[0;31m \u001b[0mtmp3\u001b[0m \u001b[0;34m=\u001b[0m \u001b[0mr1\u001b[0m\u001b[0;34m.\u001b[0m\u001b[0mtree\u001b[0m \u001b[0;34m|\u001b[0m \u001b[0mr2\u001b[0m\u001b[0;34m.\u001b[0m\u001b[0mtree\u001b[0m\u001b[0;34m\u001b[0m\u001b[0;34m\u001b[0m\u001b[0m\n\u001b[0m",
      "\u001b[0;31mTypeError\u001b[0m: unsupported operand type(s) for |: 'Graph' and 'Graph'"
     ]
    }
   ],
   "source": [
    "tmp = trees[0]\n",
    "r1 = tmp.tree_to_start\n",
    "r2 = tmp.tree_to_end\n",
    "\n",
    "tmp3 = r1.tree | r2.tree"
   ]
  },
  {
   "cell_type": "code",
   "execution_count": null,
   "metadata": {},
   "outputs": [],
   "source": [
    "tmp = nx.read_gpickle(\"rrt_1_1.gpickle\")\n",
    "print(tmp.nodes[\"start\"])"
   ]
  },
  {
   "cell_type": "code",
   "execution_count": null,
   "metadata": {},
   "outputs": [],
   "source": [
    "class IK_PRM:\n",
    "    def __init__(self, nominal_pos,\n",
    "                 lower_limits, \n",
    "                 upper_limits,\n",
    "                 straight_line_col_checker: StraightLineCollisionChecker,\n",
    "                 do_build_max_iter = -1):\n",
    "        \"\"\"\n",
    "        start_pos: start of the rrt\n",
    "        end_pos: end of the rrt\n",
    "        lower_limits]upper limits: search in the box [lower_limits, upper_limits]\n",
    "        collision_check_handle: return True if the configuration is in collision, false otherwise.\n",
    "        \"\"\"\n",
    "        self.tree = nx.Graph()\n",
    "        self.nominal_pos = nominal_pos\n",
    "        self.start_node = self.tree.add_node(nominal_pos)\n",
    "#         self.end_node = self.tree.add_node(end_pos)\n",
    "        \n",
    "\n",
    "        self.lower_limits = lower_limits\n",
    "        self.upper_limits = upper_limits\n",
    "\n",
    "\n",
    "        self.straight_line_col_checker = straight_line_col_checker\n",
    "        if do_build_max_iter > 0:\n",
    "            self.build_tree(do_build_max_iter)\n",
    "\n",
    "    def get_k_nearest_node(self, pos, k):\n",
    "        nearest_nodes = [None for _ in range(k)]\n",
    "        nearest_distances = [np.inf for _ in range(k)]\n",
    "        for node in self.tree.nodes():\n",
    "            if (dist := np.linalg.norm(node - pos)) < max(nearest_distance):\n",
    "                nearest_node[-1] = node\n",
    "                nearest_distance[-1] = dist\n",
    "                \n",
    "                sort(nearest_node, key = lambda x)\n",
    "                \n",
    "        return nearest_node, nearest_distance\n",
    "    \n",
    "\n",
    "    def get_random_node(self, bisection_tol = 1e-5):\n",
    "        if np.random.rand() > 0.1:\n",
    "            pos = np.random.uniform(self.lower_limits, self.upper_limits)\n",
    "            while self.straight_line_col_checker.in_collision_handle(pos):\n",
    "                pos = np.random.uniform(self.lower_limits, self.upper_limits)\n",
    "        else:\n",
    "            pos = np.array(self.end_pos)\n",
    "        return pos\n",
    "                \n",
    "    def add_node(self, pos, bisection_tol = 1e-5):\n",
    "        nearest_node, nearest_neighbor_dist = self.get_nearest_node(pos)\n",
    "        nearest_nod_arr = np.array(nearest_node)\n",
    "        # run bisection search to extend as far as possible in this direction\n",
    "        v = pos-nearest_node\n",
    "        t_upper_bound = 1\n",
    "        t_lower_bound = 0\n",
    "        max_extend = False\n",
    "        if self.straight_line_col_checker.straight_line_has_collision(pos, nearest_nod_arr):\n",
    "            while t_upper_bound - t_lower_bound > bisection_tol:\n",
    "                t = (t_upper_bound + t_lower_bound)/2\n",
    "                cur_end = (1-t)*nearest_nod_arr + t * pos \n",
    "                if self.straight_line_col_checker.straight_line_has_collision(cur_end, nearest_nod_arr):\n",
    "                    t_upper_bound = t\n",
    "                else:\n",
    "                    t_lower_bound = t\n",
    "        else:\n",
    "            cur_end = pos\n",
    "            max_extend = True\n",
    "        new_node = tuple(cur_end)\n",
    "        self.tree.add_node(new_node)\n",
    "        self.tree.add_edge(nearest_node, new_node, weight = np.linalg.norm(nearest_nod_arr-cur_end))\n",
    "        return max_extend\n",
    "        \n",
    "    def add_new_random_node(self, bisection_tol = 1e-5):\n",
    "        pos = self.get_random_node(bisection_tol)\n",
    "        return add_node(pos, bisection_tol)\n",
    "        \n",
    "\n",
    "    def build_tree(self, max_iter = int(1e4), bisection_tol = 1e-5, verbose = True):\n",
    "        for i in tqdm(range(max_iter)):\n",
    "            self.add_new_random_node(bisection_tol)\n",
    "            if self.end_pos in self.tree.nodes():\n",
    "#             if nx.has_path(self.tree, self.start_pos, self.end_pos):\n",
    "                return True#nx.has_path(self.tree, self.start_node, self.end_node)\n",
    "        return False\n",
    "\n",
    "    def draw_tree(self, meshcat_instance, body, prefix = \"rrt\", edge_color = Rgba(0,0,1,0.5), \n",
    "                  start_color = Rgba(0,1,0,0.5), end_color = Rgba(1,0,0,0.5), \n",
    "                  path_size = 0.01, num_points = 100, start_end_radius = 0.05 ):\n",
    "        meshcat.Delete(prefix)\n",
    "        for idx, (s0, s1) in enumerate(self.tree.edges()):\n",
    "            visualize_task_space_trajectory(s0, s1, body, edge_color,\n",
    "                                            path_size=path_size, num_points=num_points, \n",
    "                                            path=f\"{prefix}/seg_{idx}\")\n",
    "        start_name = f\"{prefix}/start\"\n",
    "        s = self.start_pos\n",
    "        q = Ratfk.ComputeQValue(s, q_star)\n",
    "        plant.SetPositions(plant_context, q)\n",
    "        start_task_space = plant.EvalBodyPoseInWorld(plant_context, body).translation()\n",
    "        meshcat_instance.SetObject(start_name,\n",
    "                               Sphere(start_end_radius),\n",
    "                               start_color)\n",
    "        meshcat_instance.SetTransform(start_name, RigidTransform(p=start_task_space))\n",
    "        \n",
    "        end_name = f\"{prefix}/end\"\n",
    "        s = self.end_pos\n",
    "        q = Ratfk.ComputeQValue(s, q_star)\n",
    "        plant.SetPositions(plant_context, q)\n",
    "        end_task_space = plant.EvalBodyPoseInWorld(plant_context, body).translation()\n",
    "        meshcat_instance.SetObject(end_name,\n",
    "                               Sphere(start_end_radius),\n",
    "                               end_color)\n",
    "        meshcat_instance.SetTransform(end_name, RigidTransform(p=end_task_space))\n"
   ]
  },
  {
   "cell_type": "code",
   "execution_count": 23,
   "metadata": {},
   "outputs": [
    {
     "ename": "TypeError",
     "evalue": "list indices must be integers or slices, not str",
     "output_type": "error",
     "traceback": [
      "\u001b[0;31m---------------------------------------------------------------------------\u001b[0m",
      "\u001b[0;31mTypeError\u001b[0m                                 Traceback (most recent call last)",
      "\u001b[0;32m/tmp/ipykernel_18387/3866801499.py\u001b[0m in \u001b[0;36m<module>\u001b[0;34m\u001b[0m\n\u001b[1;32m      2\u001b[0m \u001b[0ml2\u001b[0m \u001b[0;34m=\u001b[0m \u001b[0;34m[\u001b[0m\u001b[0;36m3\u001b[0m\u001b[0;34m,\u001b[0m\u001b[0;36m1\u001b[0m\u001b[0;34m,\u001b[0m\u001b[0;36m5\u001b[0m\u001b[0;34m,\u001b[0m\u001b[0;36m7\u001b[0m\u001b[0;34m,\u001b[0m\u001b[0;36m2\u001b[0m\u001b[0;34m]\u001b[0m\u001b[0;34m\u001b[0m\u001b[0;34m\u001b[0m\u001b[0m\n\u001b[1;32m      3\u001b[0m \u001b[0;34m\u001b[0m\u001b[0m\n\u001b[0;32m----> 4\u001b[0;31m \u001b[0mtmp\u001b[0m \u001b[0;34m=\u001b[0m \u001b[0ml1\u001b[0m\u001b[0;34m.\u001b[0m\u001b[0msort\u001b[0m\u001b[0;34m(\u001b[0m \u001b[0mkey\u001b[0m \u001b[0;34m=\u001b[0m \u001b[0;32mlambda\u001b[0m \u001b[0mx\u001b[0m\u001b[0;34m:\u001b[0m \u001b[0ml2\u001b[0m\u001b[0;34m[\u001b[0m\u001b[0mx\u001b[0m\u001b[0;34m]\u001b[0m\u001b[0;34m)\u001b[0m\u001b[0;34m\u001b[0m\u001b[0;34m\u001b[0m\u001b[0m\n\u001b[0m\u001b[1;32m      5\u001b[0m \u001b[0mprint\u001b[0m\u001b[0;34m(\u001b[0m\u001b[0ml1\u001b[0m\u001b[0;34m)\u001b[0m\u001b[0;34m\u001b[0m\u001b[0;34m\u001b[0m\u001b[0m\n",
      "\u001b[0;32m/tmp/ipykernel_18387/3866801499.py\u001b[0m in \u001b[0;36m<lambda>\u001b[0;34m(x)\u001b[0m\n\u001b[1;32m      2\u001b[0m \u001b[0ml2\u001b[0m \u001b[0;34m=\u001b[0m \u001b[0;34m[\u001b[0m\u001b[0;36m3\u001b[0m\u001b[0;34m,\u001b[0m\u001b[0;36m1\u001b[0m\u001b[0;34m,\u001b[0m\u001b[0;36m5\u001b[0m\u001b[0;34m,\u001b[0m\u001b[0;36m7\u001b[0m\u001b[0;34m,\u001b[0m\u001b[0;36m2\u001b[0m\u001b[0;34m]\u001b[0m\u001b[0;34m\u001b[0m\u001b[0;34m\u001b[0m\u001b[0m\n\u001b[1;32m      3\u001b[0m \u001b[0;34m\u001b[0m\u001b[0m\n\u001b[0;32m----> 4\u001b[0;31m \u001b[0mtmp\u001b[0m \u001b[0;34m=\u001b[0m \u001b[0ml1\u001b[0m\u001b[0;34m.\u001b[0m\u001b[0msort\u001b[0m\u001b[0;34m(\u001b[0m \u001b[0mkey\u001b[0m \u001b[0;34m=\u001b[0m \u001b[0;32mlambda\u001b[0m \u001b[0mx\u001b[0m\u001b[0;34m:\u001b[0m \u001b[0ml2\u001b[0m\u001b[0;34m[\u001b[0m\u001b[0mx\u001b[0m\u001b[0;34m]\u001b[0m\u001b[0;34m)\u001b[0m\u001b[0;34m\u001b[0m\u001b[0;34m\u001b[0m\u001b[0m\n\u001b[0m\u001b[1;32m      5\u001b[0m \u001b[0mprint\u001b[0m\u001b[0;34m(\u001b[0m\u001b[0ml1\u001b[0m\u001b[0;34m)\u001b[0m\u001b[0;34m\u001b[0m\u001b[0;34m\u001b[0m\u001b[0m\n",
      "\u001b[0;31mTypeError\u001b[0m: list indices must be integers or slices, not str"
     ]
    }
   ],
   "source": [
    "l1 = [\"1\", \"7\", \"6\", \"4\", \"2\"]\n",
    "l2 = [3,1,5,7,2]\n",
    "\n"
   ]
  },
  {
   "cell_type": "markdown",
   "metadata": {},
   "source": [
    "## Set up the sliders so we can move the plant around manually"
   ]
  },
  {
   "cell_type": "code",
   "execution_count": null,
   "metadata": {
    "scrolled": false
   },
   "outputs": [],
   "source": [
    "sliders = []\n",
    "q = np.zeros(plant.num_positions())#prm_important_samples_q[-1].copy()\n",
    "# print(check_collision_q_by_query(q))\n",
    "plant.SetPositions(plant_context, q)\n",
    "diagram.ForcedPublish(diagram_context)\n",
    "for i in range(plant.num_positions()):\n",
    "    sliders.append(widgets.FloatSlider(min=plant.GetPositionLowerLimits()[i],\n",
    "                                       max=plant.GetPositionUpperLimits()[i], \n",
    "                                       value=q[i], description=f'q{i}'))\n",
    "# sliders.append(widgets.FloatSlider(min=q_low[2], max=q_high[2], value=0, description='q2'))\n",
    "\n",
    "#np.zeros(plant.num_positions())\n",
    "def handle_slider_change(change, idx):\n",
    "    q[idx] = change['new']\n",
    "    plant.SetPositions(plant_context, q)\n",
    "    diagram.ForcedPublish(diagram_context)\n",
    "#     print(check_collision_q_by_query(q))\n",
    "    \n",
    "idx = 0\n",
    "for slider in sliders:\n",
    "    slider.observe(partial(handle_slider_change, idx = idx), names='value')\n",
    "    idx+=1\n",
    "\n",
    "for slider in sliders:\n",
    "    display(slider)\n",
    "\n",
    "\n",
    "# visualizer.jupyter_cell()"
   ]
  },
  {
   "cell_type": "code",
   "execution_count": null,
   "metadata": {},
   "outputs": [
    {
     "name": "stderr",
     "output_type": "stream",
     "text": [
      "DEBUG:drake:Meshcat connection opened from 0000:0000:0000:0000:0000:0000:0000:0001\n"
     ]
    }
   ],
   "source": [
    "print(repr(np.round(plant.GetPositions(plant_context),3)))"
   ]
  }
 ],
 "metadata": {
  "interpreter": {
   "hash": "31f2aee4e71d21fbe5cf8b01ff0e069b9275f58929596ceb00d14d90e3e16cd6"
  },
  "kernelspec": {
   "display_name": "Python 3 (ipykernel)",
   "language": "python",
   "name": "python3"
  },
  "language_info": {
   "codemirror_mode": {
    "name": "ipython",
    "version": 3
   },
   "file_extension": ".py",
   "mimetype": "text/x-python",
   "name": "python",
   "nbconvert_exporter": "python",
   "pygments_lexer": "ipython3",
   "version": "3.10.12"
  }
 },
 "nbformat": 4,
 "nbformat_minor": 2
}
