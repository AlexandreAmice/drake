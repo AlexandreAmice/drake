{
 "cells": [
  {
   "cell_type": "code",
   "execution_count": 1,
   "metadata": {},
   "outputs": [],
   "source": [
    "import numpy as np\n",
    "from functools import partial\n",
    "import old_vis_utils as viz_utils\n",
    "from iris_plant_visualizer_old import IrisPlantVisualizer\n",
    "import ipywidgets as widgets\n",
    "from IPython.display import display"
   ]
  },
  {
   "cell_type": "code",
   "execution_count": 2,
   "metadata": {},
   "outputs": [
    {
     "name": "stderr",
     "output_type": "stream",
     "text": [
      "<ipython-input-2-2d1a920db113>:8: DrakeDeprecationWarning: Please import from the pydrake.solvers module directly, instead of the deprecated pydrake.solvers.mathematicalprogram submodule. The deprecated code will be removed from Drake on or after 2023-05-01.\n",
      "  from pydrake.solvers import mathematicalprogram as mp\n"
     ]
    }
   ],
   "source": [
    "#pydrake imports\n",
    "import pydrake\n",
    "from pydrake.common import FindResourceOrThrow\n",
    "from pydrake.multibody.parsing import Parser\n",
    "from pydrake.multibody.plant import AddMultibodyPlantSceneGraph\n",
    "from pydrake.systems.framework import DiagramBuilder\n",
    "from pydrake.geometry import Role, GeometrySet, CollisionFilterDeclaration\n",
    "from pydrake.solvers import mathematicalprogram as mp\n",
    "from pydrake.all import RigidTransform, RollPitchYaw, RevoluteJoint\n",
    "\n",
    "import pydrake.multibody.rational as rational_forward_kinematics\n",
    "from pydrake.all import RationalForwardKinematics\n",
    "from pydrake.geometry.optimization import (#IrisOptionsRationalSpace, \n",
    "                                           IrisInRationalConfigurationSpace, \n",
    "                                           HPolyhedron, \n",
    "                                           Hyperellipsoid,\n",
    "                                           Iris, IrisOptions)\n",
    "from dijkstraspp import DijkstraSPPsolver  \n",
    "from visibility_utils import point_in_regions\n",
    "from pydrake.all import MosekSolver, SolverOptions, CommonSolverOption\n",
    "# The object we will use to perform our certification.\n",
    "from pydrake.geometry.optimization_dev import (CspaceFreePolytope,\n",
    "                                               CIrisSeparatingPlane,\n",
    "                                               SeparatingPlaneOrder)\n",
    "from pydrake.geometry.optimization import ComputeVisibilityGraph"
   ]
  },
  {
   "cell_type": "code",
   "execution_count": 3,
   "metadata": {},
   "outputs": [
    {
     "name": "stderr",
     "output_type": "stream",
     "text": [
      "WARNING:drake:/home/peter/git/drake_visiris_build/drake/C_Iris_Examples/../../drake/C_Iris_Examples/assets/twoDOF_iiwa7_with_box_collision.sdf:433: warning: Ignoring unsupported SDFormat element in model: plugin\n",
      "WARNING:drake:/home/peter/git/drake_visiris_build/drake/C_Iris_Examples/../../drake/C_Iris_Examples/assets/twoDOF_iiwa7_with_box_collision.sdf:37: warning: Ignoring unsupported SDFormat element in link: velocity_decay\n",
      "WARNING:drake:/home/peter/git/drake_visiris_build/drake/C_Iris_Examples/../../drake/C_Iris_Examples/assets/twoDOF_iiwa7_with_box_collision.sdf:38: warning: Ignoring unsupported SDFormat element in link: self_collide\n",
      "WARNING:drake:/home/peter/git/drake_visiris_build/drake/C_Iris_Examples/../../drake/C_Iris_Examples/assets/twoDOF_iiwa7_with_box_collision.sdf:74: warning: Ignoring unsupported SDFormat element in link: velocity_decay\n",
      "WARNING:drake:/home/peter/git/drake_visiris_build/drake/C_Iris_Examples/../../drake/C_Iris_Examples/assets/twoDOF_iiwa7_with_box_collision.sdf:75: warning: Ignoring unsupported SDFormat element in link: self_collide\n",
      "WARNING:drake:/home/peter/git/drake_visiris_build/drake/C_Iris_Examples/../../drake/C_Iris_Examples/assets/twoDOF_iiwa7_with_box_collision.sdf:130: warning: Ignoring unsupported SDFormat element in link: velocity_decay\n",
      "WARNING:drake:/home/peter/git/drake_visiris_build/drake/C_Iris_Examples/../../drake/C_Iris_Examples/assets/twoDOF_iiwa7_with_box_collision.sdf:131: warning: Ignoring unsupported SDFormat element in link: self_collide\n",
      "WARNING:drake:/home/peter/git/drake_visiris_build/drake/C_Iris_Examples/../../drake/C_Iris_Examples/assets/twoDOF_iiwa7_with_box_collision.sdf:186: warning: Ignoring unsupported SDFormat element in link: velocity_decay\n",
      "WARNING:drake:/home/peter/git/drake_visiris_build/drake/C_Iris_Examples/../../drake/C_Iris_Examples/assets/twoDOF_iiwa7_with_box_collision.sdf:187: warning: Ignoring unsupported SDFormat element in link: self_collide\n",
      "WARNING:drake:/home/peter/git/drake_visiris_build/drake/C_Iris_Examples/../../drake/C_Iris_Examples/assets/twoDOF_iiwa7_with_box_collision.sdf:242: warning: Ignoring unsupported SDFormat element in link: velocity_decay\n",
      "WARNING:drake:/home/peter/git/drake_visiris_build/drake/C_Iris_Examples/../../drake/C_Iris_Examples/assets/twoDOF_iiwa7_with_box_collision.sdf:243: warning: Ignoring unsupported SDFormat element in link: self_collide\n",
      "WARNING:drake:/home/peter/git/drake_visiris_build/drake/C_Iris_Examples/../../drake/C_Iris_Examples/assets/twoDOF_iiwa7_with_box_collision.sdf:298: warning: Ignoring unsupported SDFormat element in link: velocity_decay\n",
      "WARNING:drake:/home/peter/git/drake_visiris_build/drake/C_Iris_Examples/../../drake/C_Iris_Examples/assets/twoDOF_iiwa7_with_box_collision.sdf:299: warning: Ignoring unsupported SDFormat element in link: self_collide\n",
      "WARNING:drake:/home/peter/git/drake_visiris_build/drake/C_Iris_Examples/../../drake/C_Iris_Examples/assets/twoDOF_iiwa7_with_box_collision.sdf:354: warning: Ignoring unsupported SDFormat element in link: velocity_decay\n",
      "WARNING:drake:/home/peter/git/drake_visiris_build/drake/C_Iris_Examples/../../drake/C_Iris_Examples/assets/twoDOF_iiwa7_with_box_collision.sdf:355: warning: Ignoring unsupported SDFormat element in link: self_collide\n",
      "WARNING:drake:/home/peter/git/drake_visiris_build/drake/C_Iris_Examples/../../drake/C_Iris_Examples/assets/twoDOF_iiwa7_with_box_collision.sdf:410: warning: Ignoring unsupported SDFormat element in link: velocity_decay\n",
      "WARNING:drake:/home/peter/git/drake_visiris_build/drake/C_Iris_Examples/../../drake/C_Iris_Examples/assets/twoDOF_iiwa7_with_box_collision.sdf:411: warning: Ignoring unsupported SDFormat element in link: self_collide\n",
      "WARNING:drake:/home/peter/git/drake_visiris_build/drake/C_Iris_Examples/../../drake/C_Iris_Examples/assets/oneDOF_iiwa7_with_box_collision.sdf:425: warning: Ignoring unsupported SDFormat element in model: plugin\n",
      "WARNING:drake:/home/peter/git/drake_visiris_build/drake/C_Iris_Examples/../../drake/C_Iris_Examples/assets/oneDOF_iiwa7_with_box_collision.sdf:37: warning: Ignoring unsupported SDFormat element in link: self_collide\n",
      "WARNING:drake:/home/peter/git/drake_visiris_build/drake/C_Iris_Examples/../../drake/C_Iris_Examples/assets/oneDOF_iiwa7_with_box_collision.sdf:73: warning: Ignoring unsupported SDFormat element in link: self_collide\n",
      "WARNING:drake:/home/peter/git/drake_visiris_build/drake/C_Iris_Examples/../../drake/C_Iris_Examples/assets/oneDOF_iiwa7_with_box_collision.sdf:128: warning: Ignoring unsupported SDFormat element in link: self_collide\n",
      "WARNING:drake:/home/peter/git/drake_visiris_build/drake/C_Iris_Examples/../../drake/C_Iris_Examples/assets/oneDOF_iiwa7_with_box_collision.sdf:183: warning: Ignoring unsupported SDFormat element in link: self_collide\n",
      "WARNING:drake:/home/peter/git/drake_visiris_build/drake/C_Iris_Examples/../../drake/C_Iris_Examples/assets/oneDOF_iiwa7_with_box_collision.sdf:238: warning: Ignoring unsupported SDFormat element in link: self_collide\n",
      "WARNING:drake:/home/peter/git/drake_visiris_build/drake/C_Iris_Examples/../../drake/C_Iris_Examples/assets/oneDOF_iiwa7_with_box_collision.sdf:293: warning: Ignoring unsupported SDFormat element in link: self_collide\n",
      "WARNING:drake:/home/peter/git/drake_visiris_build/drake/C_Iris_Examples/../../drake/C_Iris_Examples/assets/oneDOF_iiwa7_with_box_collision.sdf:348: warning: Ignoring unsupported SDFormat element in link: self_collide\n",
      "WARNING:drake:/home/peter/git/drake_visiris_build/drake/C_Iris_Examples/../../drake/C_Iris_Examples/assets/oneDOF_iiwa7_with_box_collision.sdf:403: warning: Ignoring unsupported SDFormat element in link: self_collide\n",
      "INFO:drake:Meshcat listening for connections at http://localhost:7001\n",
      "INFO:drake:Meshcat listening for connections at http://localhost:7002\n"
     ]
    },
    {
     "name": "stderr",
     "output_type": "stream",
     "text": [
      "/home/peter/git/drake_visiris_build/drake/C_Iris_Examples/iris_plant_visualizer_old.py:71: DrakeDeprecationWarning: (Deprecated) See ForcedPublish() \n",
      "*/ (Deprecated.)\n",
      "\n",
      "Deprecated:\n",
      "    Use ForcedPublish() instead This will be removed from Drake on or\n",
      "    after 2023-03-01.\n",
      "  self.diagram.Publish(self.diagram_context)\n"
     ]
    },
    {
     "name": "stdout",
     "output_type": "stream",
     "text": [
      "<pydrake.multibody.plant.MultibodyPlant_𝓣float𝓤 object at 0x7f27ba889130>\n",
      "<pydrake.multibody.plant.MultibodyPlant_𝓣float𝓤 object at 0x7f27ba889130>\n"
     ]
    }
   ],
   "source": [
    "builder = DiagramBuilder()\n",
    "plant, scene_graph = AddMultibodyPlantSceneGraph(builder, time_step=0.001)\n",
    "parser = Parser(plant)\n",
    "oneDOF_iiwa_asset = \"../../drake/C_Iris_Examples/assets/oneDOF_iiwa7_with_box_collision.sdf\"#FindResourceOrThrow(\"drake/C_Iris_Examples/assets/oneDOF_iiwa7_with_box_collision.sdf\")\n",
    "twoDOF_iiwa_asset = \"../../drake/C_Iris_Examples/assets/twoDOF_iiwa7_with_box_collision.sdf\"#FindResourceOrThrow(\"drake/C_Iris_Examples/assets/twoDOF_iiwa7_with_box_collision.sdf\")\n",
    "\n",
    "box_asset = \"../../drake/C_Iris_Examples/assets/box_small.urdf\" #FindResourceOrThrow(\"drake/C_Iris_Examples/assets/box_small.urdf\")\n",
    "\n",
    "models = []\n",
    "models.append(parser.AddModelFromFile(box_asset))\n",
    "models.append(parser.AddModelFromFile(twoDOF_iiwa_asset))\n",
    "models.append(parser.AddModelFromFile(oneDOF_iiwa_asset))\n",
    "\n",
    "\n",
    "\n",
    "locs = [[0.,0.,0.],\n",
    "        [0.,.55,0.],\n",
    "        [0.,-.55,0.]]\n",
    "plant.WeldFrames(plant.world_frame(), \n",
    "                 plant.GetFrameByName(\"base\", models[0]),\n",
    "                 RigidTransform(locs[0]))\n",
    "plant.WeldFrames(plant.world_frame(), \n",
    "                 plant.GetFrameByName(\"iiwa_twoDOF_link_0\", models[1]), \n",
    "                 RigidTransform(RollPitchYaw([0,0, -np.pi/2]).ToRotationMatrix(), locs[1]))\n",
    "plant.WeldFrames(plant.world_frame(), \n",
    "                 plant.GetFrameByName(\"iiwa_oneDOF_link_0\", models[2]), \n",
    "                 RigidTransform(RollPitchYaw([0,0, -np.pi/2]).ToRotationMatrix(), locs[2]))\n",
    "\n",
    "\n",
    "plant.Finalize()\n",
    "\n",
    "idx = 0\n",
    "q0 = [0.0, 0.0, 0.0]\n",
    "q_low  = [-1.7, -2., -1.7]\n",
    "q_high = [ 1.7,  2.,  1.7]\n",
    "# set the joint limits of the plant\n",
    "for model in models:\n",
    "    for joint_index in plant.GetJointIndices(model):\n",
    "        joint = plant.get_mutable_joint(joint_index)\n",
    "        if isinstance(joint, RevoluteJoint):\n",
    "            joint.set_default_angle(q0[idx])\n",
    "            joint.set_position_limits(lower_limits= np.array([q_low[idx]]), upper_limits= np.array([q_high[idx]]))\n",
    "            idx += 1\n",
    "        \n",
    "# construct the RationalForwardKinematics of this plant. This object handles the\n",
    "# computations for the forward kinematics in the tangent-configuration space\n",
    "print(plant)\n",
    "Ratfk = RationalForwardKinematics(plant)\n",
    "print(plant)\n",
    "# the point about which we will take the stereographic projections\n",
    "q_star = np.zeros(3)\n",
    "\n",
    "#compute limits in t-space\n",
    "limits_t = []\n",
    "for q in [q_low, q_high]:\n",
    "    limits_t.append(Ratfk.ComputeSValue(np.array(q), q_star))\n",
    "\n",
    "do_viz = True\n",
    "\n",
    "# This line builds the visualization. Change the viz_role to Role.kIllustration if you\n",
    "# want to see the plant with its illustrated geometry or to Role.kProximity\n",
    "visualizer = IrisPlantVisualizer(plant, builder, scene_graph, viz_role=Role.kIllustration)\n",
    "diagram = visualizer.diagram\n",
    "\n",
    "# This line will run marching cubes to generate a mesh of the C-space obstacle\n",
    "# Increase N to increase the resolution of the C-space obstacle.\n",
    "visualizer.visualize_collision_constraint(N = 70)\n",
    "\n"
   ]
  },
  {
   "cell_type": "code",
   "execution_count": 4,
   "metadata": {},
   "outputs": [
    {
     "data": {
      "application/vnd.jupyter.widget-view+json": {
       "model_id": "82f286981a3c4b9181938f9ed2ca3b52",
       "version_major": 2,
       "version_minor": 0
      },
      "text/plain": [
       "FloatSlider(value=0.0, description='q0', max=1.7, min=-1.7)"
      ]
     },
     "metadata": {},
     "output_type": "display_data"
    },
    {
     "data": {
      "application/vnd.jupyter.widget-view+json": {
       "model_id": "82f286981a3c4b9181938f9ed2ca3b52",
       "version_major": 2,
       "version_minor": 0
      },
      "text/plain": [
       "FloatSlider(value=0.0, description='q0', max=1.7, min=-1.7)"
      ]
     },
     "metadata": {},
     "output_type": "display_data"
    },
    {
     "data": {
      "application/vnd.jupyter.widget-view+json": {
       "model_id": "dacf2eb09b9e4aba93730d2bc430d217",
       "version_major": 2,
       "version_minor": 0
      },
      "text/plain": [
       "FloatSlider(value=0.0, description='q1', max=2.0, min=-2.0)"
      ]
     },
     "metadata": {},
     "output_type": "display_data"
    },
    {
     "data": {
      "application/vnd.jupyter.widget-view+json": {
       "model_id": "ed7dd2c8c7e84101b63ff816274a24b2",
       "version_major": 2,
       "version_minor": 0
      },
      "text/plain": [
       "FloatSlider(value=0.0, description='q2', max=1.7, min=-1.7)"
      ]
     },
     "metadata": {},
     "output_type": "display_data"
    }
   ],
   "source": [
    "sliders = []\n",
    "sliders.append(widgets.FloatSlider(min=q_low[0], max=q_high[0], value=0, description='q0'))\n",
    "sliders.append(widgets.FloatSlider(min=q_low[1], max=q_high[1], value=0, description='q1'))\n",
    "sliders.append(widgets.FloatSlider(min=q_low[2], max=q_high[2], value=0, description='q2'))\n",
    "\n",
    "q = q0.copy()\n",
    "def handle_slider_change(change, idx):\n",
    "    q[idx] = change['new']\n",
    "    visualizer.showres(q)\n",
    "    #visualizer.visualize_planes()\n",
    "    \n",
    "idx = 0\n",
    "for slider in sliders:\n",
    "    slider.observe(partial(handle_slider_change, idx = idx), names='value')\n",
    "    idx+=1\n",
    "\n",
    "display(sliders[0])\n",
    "display(sliders[0])\n",
    "display(sliders[1])\n",
    "display(sliders[2])"
   ]
  },
  {
   "cell_type": "code",
   "execution_count": 5,
   "metadata": {},
   "outputs": [],
   "source": [
    "s1 = Ratfk.ComputeSValue(np.array([0.9, -0.9, 0.3]), q_star)\n",
    "s2 = Ratfk.ComputeSValue(np.array([0.9, -0.9, -1.7]), q_star)\n"
   ]
  },
  {
   "cell_type": "code",
   "execution_count": 6,
   "metadata": {},
   "outputs": [],
   "source": [
    "# filter fused joints self collisions so they don't interfere with collision engine\n",
    "digaram = visualizer.diagram\n",
    "context = visualizer.diagram_context\n",
    "plant_context = plant.GetMyMutableContextFromRoot(context)\n",
    "sg_context = scene_graph.GetMyContextFromRoot(context)\n",
    "inspector = scene_graph.model_inspector()\n",
    "\n",
    "pairs = scene_graph.get_query_output_port().Eval(sg_context).inspector().GetCollisionCandidates()\n",
    "\n",
    "gids = [gid for gid in inspector.GetGeometryIds(GeometrySet(inspector.GetAllGeometryIds()), Role.kProximity)]\n",
    "get_name_of_gid = lambda gid : inspector.GetName(gid)\n",
    "gids.sort(key=get_name_of_gid)\n",
    "iiwa_oneDOF_gids = [gid for gid in gids if \"iiwa7_oneDOF::\" in get_name_of_gid(gid)]\n",
    "iiwa_twoDOF_gids = [gid for gid in gids if \"iiwa7_twoDOF::\" in get_name_of_gid(gid)]\n",
    "\n",
    "oneDOF_fused_col_geom = iiwa_oneDOF_gids[2:]\n",
    "iiwa_oneDOF_fused_set = GeometrySet(oneDOF_fused_col_geom)\n",
    "twoDOF_fused_col_geom = iiwa_twoDOF_gids[4:]\n",
    "iiwa_twoDOF_fused_set = GeometrySet(twoDOF_fused_col_geom)\n",
    "scene_graph.collision_filter_manager()\\\n",
    "            .Apply(CollisionFilterDeclaration().ExcludeWithin(iiwa_oneDOF_fused_set))\n",
    "scene_graph.collision_filter_manager()\\\n",
    "            .Apply(CollisionFilterDeclaration().ExcludeWithin(iiwa_twoDOF_fused_set))"
   ]
  },
  {
   "attachments": {},
   "cell_type": "markdown",
   "metadata": {},
   "source": [
    "# Setup SNOPT IRIS"
   ]
  },
  {
   "cell_type": "code",
   "execution_count": 7,
   "metadata": {},
   "outputs": [],
   "source": [
    "domain = HPolyhedron.MakeBox( Ratfk.ComputeSValue(q_low, np.zeros((3,))), Ratfk.ComputeSValue(q_high, np.zeros((3,))))\n",
    "snopt_iris_options = IrisOptions()\n",
    "snopt_iris_options.require_sample_point_is_contained = True\n",
    "snopt_iris_options.iteration_limit = 20\n",
    "snopt_iris_options.configuration_space_margin = 1e-4\n",
    "#snopt_iris_options.max_faces_per_collision_pair = 60\n",
    "snopt_iris_options.termination_threshold = -1\n",
    "#snopt_iris_options.q_star = np.zeros(3)\n",
    "snopt_iris_options.relative_termination_threshold = 0.05"
   ]
  },
  {
   "cell_type": "code",
   "execution_count": 8,
   "metadata": {},
   "outputs": [],
   "source": [
    "\n",
    "cspace_free_polytope = CspaceFreePolytope(plant, scene_graph,\n",
    "                                          SeparatingPlaneOrder.kAffine, q_star)\n",
    "solver_id = MosekSolver.id()\n",
    "\n",
    "# set up the certifier and the options for different search techniques\n",
    "solver_options = SolverOptions()\n",
    "# set this to 1 if you would like to see the solver output in terminal.\n",
    "solver_options.SetOption(CommonSolverOption.kPrintToConsole, 0)\n",
    "\n",
    "# The options for when we search for new planes and positivity certificates given the polytopes\n",
    "find_separation_certificate_given_polytope_options = CspaceFreePolytope.FindSeparationCertificateGivenPolytopeOptions()\n",
    "find_separation_certificate_given_polytope_options.num_threads = -1\n",
    "find_separation_certificate_given_polytope_options.verbose = False\n",
    "find_separation_certificate_given_polytope_options.solver_options = solver_options\n",
    "find_separation_certificate_given_polytope_options.ignore_redundant_C = False\n",
    "find_separation_certificate_given_polytope_options.solver_id = solver_id\n",
    "\n",
    "# The options for when we search for a new polytope given positivity certificates.\n",
    "find_polytope_given_lagrangian_option = CspaceFreePolytope.FindPolytopeGivenLagrangianOptions()\n",
    "find_polytope_given_lagrangian_option.solver_options = solver_options\n",
    "find_polytope_given_lagrangian_option.ellipsoid_margin_cost = CspaceFreePolytope.EllipsoidMarginCost.kGeometricMean\n",
    "find_polytope_given_lagrangian_option.search_s_bounds_lagrangians = True\n",
    "find_polytope_given_lagrangian_option.ellipsoid_margin_epsilon = 1e-4\n",
    "find_polytope_given_lagrangian_option.solver_id = solver_id\n",
    "\n",
    "# bilinear_alternation_options = CspaceFreePolytope.BilinearAlternationOptions()\n",
    "# bilinear_alternation_options.max_iter = 10\n",
    "# bilinear_alternation_options.convergence_tol = 1e-3\n",
    "# bilinear_alternation_options.find_polytope_options = find_polytope_given_lagrangian_option\n",
    "# bilinear_alternation_options.find_lagrangian_options = find_separation_certificate_given_polytope_options\n",
    "\n",
    "binary_search_options = CspaceFreePolytope.BinarySearchOptions()\n",
    "binary_search_options.find_lagrangian_options = find_separation_certificate_given_polytope_options\n",
    "binary_search_options.scale_min = 1e-3\n",
    "binary_search_options.scale_max = 1.1\n",
    "binary_search_options.max_iter = 6\n"
   ]
  },
  {
   "cell_type": "code",
   "execution_count": 9,
   "metadata": {},
   "outputs": [],
   "source": [
    "from tqdm import tqdm\n",
    "from scipy.sparse import lil_matrix\n",
    "from visibility_seeding import VisSeeder\n",
    "from visibility_logging import Logger"
   ]
  },
  {
   "attachments": {},
   "cell_type": "markdown",
   "metadata": {},
   "source": [
    "# Run Seeding"
   ]
  },
  {
   "cell_type": "code",
   "execution_count": 13,
   "metadata": {},
   "outputs": [],
   "source": [
    "q_min = np.array(q_low)\n",
    "q_max = np.array(q_high)\n",
    "q_diff = q_max-q_min\n",
    "\n",
    "alpha = 0.05\n",
    "eps = 0.1\n",
    "N = 400\n",
    "seed = 1\n",
    "np.random.seed(seed)\n",
    "\n",
    "def estimate_coverage(regions, pts = 3000):\n",
    "\tpts_ = [sample_cfree_SPoint() for _ in range(pts)]\n",
    "\tinreg = 0\n",
    "\tfor pt in pts_:\n",
    "\t\tif point_in_regions(pt, regions): inreg+=1\n",
    "\treturn inreg/pts\n",
    "\n",
    "def sample_cfree_SPoint(MAXIT=100):\n",
    "\tit = 0\n",
    "\twhile it<1000:\n",
    "\t\trand = np.random.rand(3)\n",
    "\t\tq_s = q_min + rand*q_diff\n",
    "\t\tcol = False\n",
    "\t\tfor _ in range(10):\n",
    "\t\t\tr  = 0.05*(np.random.rand(3)-0.5)\n",
    "\t\t\tcol |= (visualizer.col_func_handle(q_s+r) > 0)\n",
    "\t\tif not col:\n",
    "\t\t\treturn Ratfk.ComputeSValue(q_s, q_star)\n",
    "\t\tit+=1\n",
    "\traise ValueError(\"no col free point found\")\n",
    "\n",
    "def sample_cfree_QPoint_in_regions(regions):\n",
    "\tfor _ in range(1000):\n",
    "\t\tpt = sample_cfree_SPoint()\n",
    "\t\tif point_in_regions(pt, regions): return Ratfk.ComputeQValue(pt, q_star)\n",
    "\treturn None\n",
    "\n",
    "def sample_cfree_handle(n, m, regions=None):\n",
    "\t\tpoints = np.zeros((n,3))\n",
    "\t\tif regions is None: regions = []\t\t\n",
    "\t\tfor i in range(n):\n",
    "\t\t\tbt_tries = 0\n",
    "\t\t\twhile bt_tries<m:\n",
    "\t\t\t\tpoint = sample_cfree_SPoint()\n",
    "\t\t\t\tcol = False\n",
    "\t\t\t\tfor _ in range(10):\n",
    "\t\t\t\t\tr  = 0.05*(np.random.rand(3)-0.5)\n",
    "\t\t\t\t\tcol |= point_in_regions(point+r, regions)\n",
    "\t\t\t\tif col:\n",
    "\t\t\t\t\tbt_tries += 1\n",
    "\t\t\t\t\tif bt_tries == m:\n",
    "\t\t\t\t\t\treturn points, True \n",
    "\t\t\t\telse:\n",
    "\t\t\t\t\tbreak\n",
    "\t\t\tpoints[i] = point\n",
    "\t\treturn points, False\n",
    "\n",
    "def vis(t1, t2, regions, num_checks, visualizer):\n",
    "\tt1flat = t1.reshape(-1)\n",
    "\tt2flat = t2.reshape(-1)\n",
    "\tif np.linalg.norm(t1-t2) < 1e-6:\n",
    "\t\treturn (1-visualizer.col_func_handle(Ratfk.ComputeQValue(t1flat, np.zeros(3))))>0\n",
    "\t\t\t\t\n",
    "\ttvec = np.linspace(0,1, num_checks)\n",
    "\tfor t in tvec:\n",
    "\t\ttinterp = t1flat*t + (1-t)*t2flat\n",
    "\t\tif visualizer.col_func_handle(Ratfk.ComputeQValue(tinterp, np.zeros(3))):\n",
    "\t\t\treturn False\n",
    "\t\telif point_in_regions(tinterp, regions):\n",
    "\t\t\treturn False\n",
    "\telse:\n",
    "\t\treturn True\n",
    "    \n",
    "visibility_checker = partial(vis, num_checks = 40, visualizer = visualizer)\n",
    "\n",
    "def vgraph_builder(points, regions):\n",
    "\tn = len(points)\n",
    "\tadj_mat = lil_matrix((n,n))\n",
    "\tfor i in tqdm(range(n)):\n",
    "\t\tpoint = points[i, :]\n",
    "\t\tfor j in range(len(points[:i])):\n",
    "\t\t\tother = points[j]\n",
    "\t\t\tresult = visibility_checker(point, other, regions)\n",
    "\t\t\t#print(result)\n",
    "\t\t\tif result:\n",
    "\t\t\t\tadj_mat[i,j] = adj_mat[j,i] = 1\n",
    "\treturn adj_mat.toarray()\n",
    "\n",
    "\n",
    "def SNOPT_IRIS(s_seeds,  region_obstacles, logger, plant, context, snoptiris_options, Ratforwardkin):\n",
    "\tregions = []\n",
    "\tfor s_seed in s_seeds:\n",
    "\t\tq_seed = Ratforwardkin.ComputeQValue(s_seed.reshape(-1,1), np.zeros((3,1)))\n",
    "\t\t#print('snopt iris call')\n",
    "\t\tsnoptiris_options.configuration_obstacles = []\n",
    "\t\tif len(region_obstacles):\n",
    "\t\t\tsnopt_iris_options.configuration_obstacles = region_obstacles\n",
    "\t\tplant.SetPositions(plant.GetMyMutableContextFromRoot(context), q_seed.reshape(-1,1))\n",
    "\t\ttry:\n",
    "\t\t\tr = IrisInRationalConfigurationSpace(plant, plant.GetMyContextFromRoot(context), q_star, snoptiris_options)\n",
    "\t\t\t#run the certifier\n",
    "\t\t\tcert = cspace_free_polytope.BinarySearch(set(),\n",
    "\t\t\t\t\t\t\t\t\t\t\tr.A(),\n",
    "\t\t\t\t\t\t\t\t\t\t\tr.b(), \n",
    "\t\t\t\t\t\t\t\t\t\t\tnp.array(s_seed),\n",
    "\t\t\t\t\t\t\t\t\t\t\tbinary_search_options)\n",
    "\t\t\tregions.append(cert.certified_polytope)\n",
    "\t\t\tif logger is not None: logger.log_region(cert.certified_polytope)\n",
    "\t\texcept:\n",
    "\t\t\tprint(\"error, SNOPT IRIS FAILED\")\n",
    "\treturn regions\n",
    "\n",
    "SNOPT_IRIS_Handle = partial(SNOPT_IRIS,\n",
    "                            plant = plant,\n",
    "                            context = visualizer.diagram_context,\n",
    "                            snoptiris_options = snopt_iris_options,\n",
    "                            Ratforwardkin = Ratfk,\n",
    "                            )\n",
    "\n",
    "vgraph_builder2 = partial(ComputeVisibilityGraph, plant = plant, plant_context = plant_context, num_samples = 30, tolerance = 0.001)"
   ]
  },
  {
   "cell_type": "code",
   "execution_count": 26,
   "metadata": {},
   "outputs": [],
   "source": [
    "pts, full = sample_cfree_handle(400, 50, [])"
   ]
  },
  {
   "cell_type": "code",
   "execution_count": 27,
   "metadata": {},
   "outputs": [
    {
     "name": "stderr",
     "output_type": "stream",
     "text": [
      "  0%|          | 0/400 [00:00<?, ?it/s]"
     ]
    },
    {
     "name": "stderr",
     "output_type": "stream",
     "text": [
      "100%|██████████| 400/400 [03:19<00:00,  2.00it/s]\n"
     ]
    },
    {
     "data": {
      "text/plain": [
       "array([[0., 1., 1., ..., 1., 1., 0.],\n",
       "       [1., 0., 0., ..., 1., 1., 0.],\n",
       "       [1., 0., 0., ..., 1., 1., 0.],\n",
       "       ...,\n",
       "       [1., 1., 1., ..., 0., 1., 0.],\n",
       "       [1., 1., 1., ..., 1., 0., 0.],\n",
       "       [0., 0., 0., ..., 0., 0., 0.]])"
      ]
     },
     "execution_count": 27,
     "metadata": {},
     "output_type": "execute_result"
    }
   ],
   "source": [
    "vgraph_builder(pts, [])"
   ]
  },
  {
   "cell_type": "code",
   "execution_count": 28,
   "metadata": {},
   "outputs": [
    {
     "name": "stderr",
     "output_type": "stream",
     "text": [
      "INFO:drake:Remaining Nodes to check 0/400\n",
      "INFO:drake:Remaining Nodes to check 50/400\n",
      "INFO:drake:Remaining Nodes to check 100/400\n",
      "INFO:drake:Remaining Nodes to check 150/400\n",
      "INFO:drake:Remaining Nodes to check 200/400\n",
      "INFO:drake:Remaining Nodes to check 250/400\n",
      "INFO:drake:Remaining Nodes to check 300/400\n",
      "INFO:drake:Remaining Nodes to check 350/400\n"
     ]
    },
    {
     "data": {
      "text/plain": [
       "<400x400 sparse matrix of type '<class 'numpy.int32'>'\n",
       "\twith 120286 stored elements in Compressed Sparse Row format>"
      ]
     },
     "execution_count": 28,
     "metadata": {},
     "output_type": "execute_result"
    }
   ],
   "source": [
    "vgraph_builder2(pts, [])"
   ]
  },
  {
   "cell_type": "code",
   "execution_count": 15,
   "metadata": {},
   "outputs": [
    {
     "name": "stdout",
     "output_type": "stream",
     "text": [
      "logdir created\n",
      "[19:13:35] [VisSeeder] Point Insertion attempts M: 85\n",
      "[19:13:35] [VisSeeder] 0.95 probability that unseen region is less than 10.0 '%' of Cfree \n"
     ]
    },
    {
     "name": "stderr",
     "output_type": "stream",
     "text": [
      "100%|██████████| 400/400 [03:17<00:00,  2.03it/s]\n"
     ]
    },
    {
     "name": "stdout",
     "output_type": "stream",
     "text": [
      "[19:16:55] [VisSeeder] Found  7  hidden points\n"
     ]
    },
    {
     "name": "stderr",
     "output_type": "stream",
     "text": [
      "INFO:drake:CspaceFreePolytope::BinarySearch(): scale=0.5505 is feasible\n",
      "INFO:drake:CspaceFreePolytope::BinarySearch(): scale=0.82525 is feasible\n",
      "INFO:drake:CspaceFreePolytope::BinarySearch(): scale=0.9626250000000001 is infeasible\n",
      "INFO:drake:CspaceFreePolytope::BinarySearch(): scale=0.8939375 is feasible\n",
      "INFO:drake:CspaceFreePolytope::BinarySearch(): scale=0.9282812500000001 is infeasible\n",
      "INFO:drake:CspaceFreePolytope::BinarySearch(): scale=0.9111093750000001 is feasible\n",
      "INFO:drake:CspaceFreePolytope::BinarySearch(): scale=0.5505 is feasible\n",
      "INFO:drake:CspaceFreePolytope::BinarySearch(): scale=0.82525 is feasible\n",
      "INFO:drake:CspaceFreePolytope::BinarySearch(): scale=0.9626250000000001 is feasible\n",
      "INFO:drake:CspaceFreePolytope::BinarySearch(): scale=1.0313125 is infeasible\n",
      "INFO:drake:CspaceFreePolytope::BinarySearch(): scale=0.9969687500000001 is feasible\n",
      "INFO:drake:CspaceFreePolytope::BinarySearch(): scale=1.014140625 is infeasible\n",
      "INFO:drake:CspaceFreePolytope::BinarySearch(): scale=0.5505 is feasible\n",
      "INFO:drake:CspaceFreePolytope::BinarySearch(): scale=0.82525 is feasible\n",
      "INFO:drake:CspaceFreePolytope::BinarySearch(): scale=0.9626250000000001 is infeasible\n",
      "INFO:drake:CspaceFreePolytope::BinarySearch(): scale=0.8939375 is feasible\n",
      "INFO:drake:CspaceFreePolytope::BinarySearch(): scale=0.9282812500000001 is infeasible\n",
      "INFO:drake:CspaceFreePolytope::BinarySearch(): scale=0.9111093750000001 is infeasible\n",
      "INFO:drake:CspaceFreePolytope::BinarySearch(): scale=0.5505 is feasible\n",
      "INFO:drake:CspaceFreePolytope::BinarySearch(): scale=0.82525 is feasible\n",
      "INFO:drake:CspaceFreePolytope::BinarySearch(): scale=0.9626250000000001 is feasible\n",
      "INFO:drake:CspaceFreePolytope::BinarySearch(): scale=1.0313125 is infeasible\n",
      "INFO:drake:CspaceFreePolytope::BinarySearch(): scale=0.9969687500000001 is infeasible\n",
      "INFO:drake:CspaceFreePolytope::BinarySearch(): scale=0.9797968750000001 is infeasible\n",
      "INFO:drake:CspaceFreePolytope::BinarySearch(): scale=0.5505 is feasible\n",
      "INFO:drake:CspaceFreePolytope::BinarySearch(): scale=0.82525 is infeasible\n",
      "INFO:drake:CspaceFreePolytope::BinarySearch(): scale=0.687875 is feasible\n",
      "INFO:drake:CspaceFreePolytope::BinarySearch(): scale=0.7565625 is feasible\n",
      "INFO:drake:CspaceFreePolytope::BinarySearch(): scale=0.79090625 is infeasible\n",
      "INFO:drake:CspaceFreePolytope::BinarySearch(): scale=0.7737343750000001 is feasible\n",
      "INFO:drake:CspaceFreePolytope::BinarySearch(): scale=0.5505 is feasible\n",
      "INFO:drake:CspaceFreePolytope::BinarySearch(): scale=0.82525 is feasible\n",
      "INFO:drake:CspaceFreePolytope::BinarySearch(): scale=0.9626250000000001 is infeasible\n",
      "INFO:drake:CspaceFreePolytope::BinarySearch(): scale=0.8939375 is feasible\n",
      "INFO:drake:CspaceFreePolytope::BinarySearch(): scale=0.9282812500000001 is infeasible\n",
      "INFO:drake:CspaceFreePolytope::BinarySearch(): scale=0.9111093750000001 is feasible\n",
      "INFO:drake:CspaceFreePolytope::BinarySearch(): scale=0.5505 is feasible\n",
      "INFO:drake:CspaceFreePolytope::BinarySearch(): scale=0.82525 is feasible\n",
      "INFO:drake:CspaceFreePolytope::BinarySearch(): scale=0.9626250000000001 is infeasible\n",
      "INFO:drake:CspaceFreePolytope::BinarySearch(): scale=0.8939375 is infeasible\n",
      "INFO:drake:CspaceFreePolytope::BinarySearch(): scale=0.85959375 is infeasible\n",
      "INFO:drake:CspaceFreePolytope::BinarySearch(): scale=0.8424218750000001 is feasible\n"
     ]
    },
    {
     "name": "stdout",
     "output_type": "stream",
     "text": [
      "[19:18:05] [VisSeeder] Bernoulli test failed\n"
     ]
    },
    {
     "data": {
      "image/png": "[encoded data removed]",
      "text/plain": [
       "<Figure size 720x720 with 1 Axes>"
      ]
     },
     "metadata": {},
     "output_type": "display_data"
    }
   ],
   "source": [
    "\n",
    "logger = Logger(\"3DOf_pinball\", seed, N, alpha, eps, estimate_coverage)\n",
    "VS = VisSeeder(N = N,\n",
    "            alpha = alpha,\n",
    "            eps = eps,\n",
    "            max_iterations = 10,\n",
    "            sample_cfree = sample_cfree_handle,\n",
    "            build_vgraph = vgraph_builder,\n",
    "            iris_w_obstacles = SNOPT_IRIS_Handle,\n",
    "            verbose = True,\n",
    "            logger = logger\n",
    "            )\n",
    "out = VS.run()"
   ]
  },
  {
   "cell_type": "code",
   "execution_count": 16,
   "metadata": {},
   "outputs": [],
   "source": [
    "from  pydrake.all import Rgba\n",
    "colors = viz_utils.n_colors_random(len(VS.region_groups))\n",
    "for i, g in enumerate(VS.region_groups):\n",
    "    visualizer.plot_regions(g, region_suffix=str(i), colors = [colors[i]]*len(g), wireframe=False)"
   ]
  },
  {
   "cell_type": "code",
   "execution_count": null,
   "metadata": {},
   "outputs": [
    {
     "data": {
      "text/plain": [
       "<pydrake.solvers.Binding𝓣Constraint𝓤 at 0x7f2bd1314cf0>"
      ]
     },
     "execution_count": 13,
     "metadata": {},
     "output_type": "execute_result"
    }
   ],
   "source": [
    "visualizer.collision_constraint"
   ]
  },
  {
   "attachments": {},
   "cell_type": "markdown",
   "metadata": {},
   "source": [
    "# Run Pathplanning"
   ]
  },
  {
   "cell_type": "code",
   "execution_count": 17,
   "metadata": {},
   "outputs": [
    {
     "name": "stdout",
     "output_type": "stream",
     "text": [
      "[DijkstraSPP] Pre-Building adjacency matrix  0 / 7\n"
     ]
    }
   ],
   "source": [
    "import dijkstraspp\n",
    "dspp = dijkstraspp.DijkstraSPPsolver(VS.regions, partial(Ratfk.ComputeSValue, q_star_val = np.zeros(3)))\n"
   ]
  },
  {
   "cell_type": "code",
   "execution_count": 18,
   "metadata": {},
   "outputs": [],
   "source": [
    "from pydrake.all import Rgba, Sphere, RotationMatrix\n",
    "def densify_waypoints(waypoints_t):\n",
    "    densify = 150\n",
    "    dists = []\n",
    "    dense_waypoints = []\n",
    "    for idx in range(len(waypoints_t[:-1])):\n",
    "        a = waypoints_t[idx]\n",
    "        b = waypoints_t[idx+1]\n",
    "        t = np.linspace(1,0, 10)\n",
    "        locs_endeff = []\n",
    "        locs_endeff2 = []\n",
    "        dists_endeff = []\n",
    "        for tval in t:\n",
    "            ta = a*tval + b*(1-tval)\n",
    "            qa = Ratfk.ComputeQValue(ta, np.zeros(7))\n",
    "            #showres(qa)\n",
    "            #time.sleep(0.1)            \n",
    "            visualizer.plant.SetPositions(visualizer.plant_context,qa)\n",
    "            #visualizer.set_joint_angles(qa)\n",
    "            tf_tot= plant.EvalBodyPoseInWorld(visualizer.plant_context, visualizer.plant.get_body(pydrake.multibody.tree.BodyIndex(12)))\n",
    "            tf = tf_tot.translation() + tf_tot.GetAsMatrix4()[:3,:3][:,1] *0.15\n",
    "            tf_tot= plant.EvalBodyPoseInWorld(visualizer.plant_context, visualizer.plant.get_body(pydrake.multibody.tree.BodyIndex(20)))\n",
    "            tf2 = tf_tot.translation() + tf_tot.GetAsMatrix4()[:3,:3][:,1] *0.15\n",
    "            locs_endeff.append(tf)\n",
    "            locs_endeff2.append(tf2)\n",
    "        for i in range(len(locs_endeff)-1):\n",
    "            dists_endeff.append(0.5*np.linalg.norm(locs_endeff[i]- locs_endeff[i+1]) + 0.5*np.linalg.norm(locs_endeff2[i]- locs_endeff2[i+1]))\n",
    "        d = np.sum(dists_endeff)\n",
    "        #print(d * densify)\n",
    "        t = np.linspace(1,0,int(densify*d))\n",
    "        for tval in t:\n",
    "            dense_waypoints.append(waypoints_t[idx]*tval + waypoints_t[idx+1]*(1-tval))\n",
    "    return dense_waypoints\n",
    "\n",
    "def plot_endeff_traj(dense_waypoints, opt = True):\n",
    "    color = Rgba(1,0,0,1.0)\n",
    "    color2 = Rgba(0,0,1,1.0)\n",
    "    color3 = Rgba(0,1,1,1.0)\n",
    "    start_idx = 0\n",
    "    for i, ta in enumerate(dense_waypoints[::2]):\n",
    "        qa = Ratfk.ComputeQValue(ta, np.zeros(7))\n",
    "        #showres(qa)\n",
    "        #time.sleep(0.1)            \n",
    "        visualizer.plant.SetPositions(visualizer.plant_context,qa)\n",
    "        tf_tot= visualizer.plant.EvalBodyPoseInWorld(visualizer.plant_context, plant.get_body(pydrake.multibody.tree.BodyIndex(12)))\n",
    "        tf = tf_tot.translation() + tf_tot.GetAsMatrix4()[:3,:3][:,1] *0.15\n",
    "\n",
    "        visualizer.meshcat1.SetObject(f\"/iris/points/traj/{i+start_idx}\",\n",
    "                               Sphere(0.005),\n",
    "                               color)\n",
    "\n",
    "        visualizer.meshcat1.SetTransform(f\"/iris/points/traj/{i+start_idx}\",\n",
    "                                   RigidTransform(RotationMatrix(),\n",
    "                                                  tf))\n",
    "        \n",
    "        tf_tot= visualizer.plant.EvalBodyPoseInWorld(visualizer.plant_context, plant.get_body(pydrake.multibody.tree.BodyIndex(20)))\n",
    "        tf = tf_tot.translation() + tf_tot.GetAsMatrix4()[:3,:3][:,1] *0.15\n",
    "\n",
    "        visualizer.meshcat1.SetObject(f\"/iris/points/traj2/{i+start_idx}\",\n",
    "                               Sphere(0.005),\n",
    "                               color2)\n",
    "\n",
    "        visualizer.meshcat1.SetTransform(f\"/iris/points/traj2/{i+start_idx}\",\n",
    "                                   RigidTransform(RotationMatrix(),\n",
    "                                                  tf))\n",
    "        \n",
    "        visualizer.meshcat2.SetObject(f\"/iris/points/traj2/{i+start_idx}\",\n",
    "                               Sphere(0.02),\n",
    "                               color3)\n",
    "\n",
    "        visualizer.meshcat2.SetTransform(f\"/iris/points/traj2/{i+start_idx}\",\n",
    "                                   RigidTransform(RotationMatrix(),\n",
    "                                                  ta))"
   ]
  },
  {
   "cell_type": "code",
   "execution_count": 20,
   "metadata": {},
   "outputs": [
    {
     "name": "stdout",
     "output_type": "stream",
     "text": [
      "[DijkstraSPP] optimized distance/ start-distance = 1.36 / 1.36 = 1.00\n",
      "1.3553738579038397\n",
      "[DijkstraSPP] optimized distance/ start-distance = 2.17 / 2.17 = 1.00\n",
      "2.1717478521098013\n",
      "[DijkstraSPP] optimized distance/ start-distance = 1.91 / 2.06 = 0.93\n",
      "1.9102831536570846\n",
      "[DijkstraSPP] optimized distance/ start-distance = 0.60 / 0.60 = 1.00\n",
      "0.6044844525411545\n",
      "[DijkstraSPP] optimized distance/ start-distance = 1.27 / 2.03 = 0.63\n",
      "1.2737785119588731\n",
      "[DijkstraSPP] optimized distance/ start-distance = 0.26 / 0.26 = 1.00\n",
      "0.26008749331650904\n",
      "[DijkstraSPP] optimized distance/ start-distance = 0.61 / 0.61 = 1.00\n",
      "0.6060621126630112\n",
      "[DijkstraSPP] optimized distance/ start-distance = 0.50 / 0.50 = 1.00\n",
      "0.4972044906525115\n",
      "[DijkstraSPP] optimized distance/ start-distance = 1.13 / 1.41 = 0.81\n",
      "1.134946220257539\n",
      "[DijkstraSPP] optimized distance/ start-distance = 0.61 / 0.61 = 1.00\n",
      "0.6095597738324383\n",
      "[DijkstraSPP] optimized distance/ start-distance = 1.15 / 1.71 = 0.67\n",
      "1.1498433834275745\n",
      "[DijkstraSPP] optimized distance/ start-distance = 1.86 / 2.21 = 0.84\n",
      "1.8582573752627398\n",
      "[DijkstraSPP] optimized distance/ start-distance = 1.76 / 2.13 = 0.83\n",
      "1.7620351491274597\n",
      "[DijkstraSPP] optimized distance/ start-distance = 2.12 / 2.46 = 0.87\n",
      "2.1249036436767654\n",
      "[DijkstraSPP] optimized distance/ start-distance = 1.70 / 1.70 = 1.00\n",
      "1.7013993072015656\n",
      "[DijkstraSPP] optimized distance/ start-distance = 0.32 / 0.32 = 1.00\n",
      "0.32131189647450825\n",
      "[DijkstraSPP] optimized distance/ start-distance = 0.74 / 0.74 = 1.00\n",
      "0.7445385972736988\n",
      "[DijkstraSPP] optimized distance/ start-distance = 0.94 / 0.94 = 1.00\n",
      "0.9360532284108359\n",
      "[DijkstraSPP] optimized distance/ start-distance = 1.02 / 1.02 = 1.00\n",
      "1.021303861492533\n",
      "[DijkstraSPP] optimized distance/ start-distance = 1.02 / 1.44 = 0.71\n",
      "1.0231487403308472\n"
     ]
    }
   ],
   "source": [
    "import time\n",
    "\n",
    "start = sample_cfree_QPoint_in_regions(VS.regions)\n",
    "for _ in range(20):\n",
    "    #nxt = vs.sample_in_regions() #\n",
    "    while True:\n",
    "        nxt = sample_cfree_QPoint_in_regions(VS.regions)\n",
    "        if nxt[0] != start[0]:\n",
    "            break\n",
    "    wp, dist = dspp.solve(start, nxt, refine_path=True)#dijkstra_spp(start, nxt, node_intersections, base_ad_mat, vs.regions, point_conversion, optimize= True)\n",
    "    print(dist)\n",
    "    if dist >0:\n",
    "        dense_waypoints = densify_waypoints(wp)\n",
    "        plot_endeff_traj(dense_waypoints)\n",
    "        for ta in dense_waypoints:\n",
    "            qa = Ratfk.ComputeQValue(ta, np.zeros(3))\n",
    "            visualizer.showres(qa)\n",
    "            if visualizer.col_func_handle(qa):\n",
    "                #print(col)\n",
    "                break\n",
    "            time.sleep(0.001)\n",
    "        start = nxt\n",
    "        time.sleep(0.01)\n",
    "        visualizer.meshcat1.Delete(\"/iris/points/traj/\")\n",
    "        visualizer.meshcat1.Delete(\"/iris/points/traj2/\")\n",
    "        visualizer.meshcat2.Delete(\"/iris/points/traj2/\")\n",
    "    else:\n",
    "        nxt = sample_cfree_QPoint_in_regions(VS.regions)"
   ]
  },
  {
   "cell_type": "code",
   "execution_count": null,
   "metadata": {},
   "outputs": [],
   "source": []
  }
 ],
 "metadata": {
  "kernelspec": {
   "display_name": "Python 3",
   "language": "python",
   "name": "python3"
  },
  "language_info": {
   "codemirror_mode": {
    "name": "ipython",
    "version": 3
   },
   "file_extension": ".py",
   "mimetype": "text/x-python",
   "name": "python",
   "nbconvert_exporter": "python",
   "pygments_lexer": "ipython3",
   "version": "3.8.10"
  },
  "orig_nbformat": 4
 },
 "nbformat": 4,
 "nbformat_minor": 2
}
