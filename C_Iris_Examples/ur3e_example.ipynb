{
 "cells": [
  {
   "cell_type": "code",
   "execution_count": 1,
   "metadata": {},
   "outputs": [],
   "source": [
    "%load_ext autoreload"
   ]
  },
  {
   "cell_type": "code",
   "execution_count": 2,
   "metadata": {},
   "outputs": [],
   "source": [
    "import numpy as np\n",
    "from functools import partial\n",
    "from iris_plant_visualizer import IrisPlantVisualizer\n",
    "import ipywidgets as widgets\n",
    "from IPython.display import display\n",
    "from scipy.linalg import block_diag\n",
    "from pydrake.all import InverseKinematics"
   ]
  },
  {
   "cell_type": "code",
   "execution_count": 3,
   "metadata": {},
   "outputs": [],
   "source": [
    "#pydrake imports\n",
    "from pydrake.common import FindResourceOrThrow\n",
    "from pydrake.multibody.parsing import Parser\n",
    "from pydrake.multibody.plant import AddMultibodyPlantSceneGraph\n",
    "from pydrake.systems.framework import DiagramBuilder\n",
    "from pydrake.geometry import Role, GeometrySet, CollisionFilterDeclaration\n",
    "from pydrake.all import RigidTransform, RollPitchYaw, RevoluteJoint\n",
    "from pydrake.all import RotationMatrix, Rgba, VPolytope, BodyIndex,JacobianWrtVariable\n",
    "import time\n",
    "import pydrake.multibody.rational as rational_forward_kinematics\n",
    "from pydrake.all import RationalForwardKinematics\n",
    "from pydrake.geometry.optimization import IrisOptions, IrisInRationalConfigurationSpace, HPolyhedron, Hyperellipsoid\n",
    "from pydrake.solvers import MosekSolver, CommonSolverOption, SolverOptions\n",
    "from visprm import VPRMSeeding"
   ]
  },
  {
   "cell_type": "code",
   "execution_count": 4,
   "metadata": {},
   "outputs": [],
   "source": [
    "from pydrake.geometry.optimization_dev import (CspaceFreePolytope,\n",
    "                                               SeparatingPlane,\n",
    "                                               SeparatingPlaneOrder)\n",
    "from pydrake.common import (\n",
    "    FindResourceOrThrow, )\n",
    "from pydrake.systems.framework import (Context, Diagram, DiagramBuilder)\n",
    "from pydrake.multibody.plant import (AddMultibodyPlantSceneGraph,\n",
    "                                     CoulombFriction, MultibodyPlant)\n",
    "from pydrake.multibody.rational import RationalForwardKinematics\n",
    "from pydrake.multibody.tree import (ModelInstanceIndex)\n",
    "from pydrake.multibody.parsing import Parser\n",
    "from pydrake.multibody.inverse_kinematics import InverseKinematics\n",
    "from pydrake.math import (RigidTransform, RollPitchYaw)\n",
    "from pydrake.solvers.mosek import MosekSolver\n",
    "from pydrake.solvers.osqp import OsqpSolver\n",
    "from pydrake.solvers import mathematicalprogram as mp"
   ]
  },
  {
   "cell_type": "code",
   "execution_count": 5,
   "metadata": {},
   "outputs": [],
   "source": [
    "from pydrake.geometry.optimization_dev import (CspaceFreePolytope, \n",
    "                                               SeparatingPlaneOrder)"
   ]
  },
  {
   "cell_type": "code",
   "execution_count": 6,
   "metadata": {},
   "outputs": [],
   "source": [
    "from ur3e_demo import UrDiagram\n",
    "import visualization_utils as viz_utils"
   ]
  },
  {
   "cell_type": "markdown",
   "metadata": {},
   "source": [
    "# Build and set up the visualization the plant\n",
    "\n"
   ]
  },
  {
   "cell_type": "code",
   "execution_count": 7,
   "metadata": {},
   "outputs": [
    {
     "name": "stderr",
     "output_type": "stream",
     "text": [
      "INFO:drake:Meshcat listening for connections at http://localhost:7000\n",
      "WARNING:drake:/home/amice/.cache/bazel/_bazel_amice/32fdbbecfa8a7ce8feece95e48c42006/execroot/drake/bazel-out/k8-opt/bin/C_Iris_Examples/ur3e_example.runfiles/drake/manipulation/models/ur3e/ur3e_cylinder_weld_wrist.urdf:305: warning: Skipping transmission since it's attached to a fixed joint \"ur_wrist_3_joint\".\n"
     ]
    },
    {
     "name": "stdout",
     "output_type": "stream",
     "text": [
      "http://localhost:7000\n"
     ]
    }
   ],
   "source": [
    "ur = UrDiagram(num_ur = 1, weld_wrist = True, add_shelf = True,\n",
    "                 add_gripper = True)\n",
    "diagram_context = ur.diagram.CreateDefaultContext()\n",
    "diagram = ur.diagram.ForcedPublish(diagram_context)\n",
    "\n",
    "plant_context = ur.plant.GetMyMutableContextFromRoot(\n",
    "        diagram_context)\n",
    "        \n",
    "# construct the RationalForwardKinematics of this plant. This object handles the\n",
    "# computations for the forward kinematics in the tangent-configuration space\n",
    "Ratfk = RationalForwardKinematics(ur.plant)\n",
    "\n",
    "# the point about which we will take the stereographic projections\n",
    "q_star = np.zeros(ur.plant.num_positions())\n",
    "\n",
    "# The object we will use to perform our certification.\n",
    "cspace_free_polytope = CspaceFreePolytope(ur.plant, ur.scene_graph,\n",
    "                                          SeparatingPlaneOrder.kAffine, q_star)\n"
   ]
  },
  {
   "cell_type": "markdown",
   "metadata": {},
   "source": [
    "## Set up the sliders so we can move the plant around manually\n",
    "\n",
    "You can use the sliders below to move the two degrees of freedom of the plant around. A green dot will appear in the TC-space visualization describing the current TC-space configuration."
   ]
  },
  {
   "cell_type": "code",
   "execution_count": 8,
   "metadata": {
    "scrolled": false
   },
   "outputs": [
    {
     "data": {
      "application/vnd.jupyter.widget-view+json": {
       "model_id": "420fb9e350784ba8a5daac0bf35fee14",
       "version_major": 2,
       "version_minor": 0
      },
      "text/plain": [
       "FloatSlider(value=0.0, description='q0', max=2.827433388230814, min=-2.827433388230814)"
      ]
     },
     "metadata": {},
     "output_type": "display_data"
    },
    {
     "data": {
      "application/vnd.jupyter.widget-view+json": {
       "model_id": "e3693eea8ef248a2bb181404cdd3ea70",
       "version_major": 2,
       "version_minor": 0
      },
      "text/plain": [
       "FloatSlider(value=0.0, description='q1', max=2.827433388230814, min=-2.827433388230814)"
      ]
     },
     "metadata": {},
     "output_type": "display_data"
    },
    {
     "data": {
      "application/vnd.jupyter.widget-view+json": {
       "model_id": "bdbad7e209b84127a85789f5402383b1",
       "version_major": 2,
       "version_minor": 0
      },
      "text/plain": [
       "FloatSlider(value=0.0, description='q2', max=2.827433388230814, min=-2.827433388230814)"
      ]
     },
     "metadata": {},
     "output_type": "display_data"
    },
    {
     "data": {
      "application/vnd.jupyter.widget-view+json": {
       "model_id": "311be8f0dc9f4e499803c8daf43a5dc8",
       "version_major": 2,
       "version_minor": 0
      },
      "text/plain": [
       "FloatSlider(value=0.0, description='q3', max=2.827433388230814, min=-2.827433388230814)"
      ]
     },
     "metadata": {},
     "output_type": "display_data"
    },
    {
     "data": {
      "application/vnd.jupyter.widget-view+json": {
       "model_id": "09ef4d47bb514c448a75e9e3a47a55c3",
       "version_major": 2,
       "version_minor": 0
      },
      "text/plain": [
       "FloatSlider(value=0.0, description='q4', max=2.827433388230814, min=-2.827433388230814)"
      ]
     },
     "metadata": {},
     "output_type": "display_data"
    }
   ],
   "source": [
    "sliders = []\n",
    "for i in range(ur.plant.num_positions()):\n",
    "    q_low = ur.plant.GetPositionLowerLimits()[i]\n",
    "    q_high = ur.plant.GetPositionUpperLimits()[i]\n",
    "    sliders.append(widgets.FloatSlider(min=q_low, max=q_high, value=0, description=f\"q{i}\"))\n",
    "\n",
    "q = np.zeros(ur.plant.num_positions())\n",
    "def handle_slider_change(change, idx):\n",
    "    q[idx] = change['new']\n",
    "    ur.plant.SetPositions(plant_context, q)\n",
    "    ur.diagram.ForcedPublish(diagram_context)\n",
    "    \n",
    "idx = 0\n",
    "for slider in sliders:\n",
    "    slider.observe(partial(handle_slider_change, idx = idx), names='value')\n",
    "    idx+=1\n",
    "\n",
    "for slider in sliders:\n",
    "    display(slider)\n"
   ]
  },
  {
   "cell_type": "code",
   "execution_count": 9,
   "metadata": {},
   "outputs": [
    {
     "data": {
      "application/vnd.jupyter.widget-view+json": {
       "model_id": "e6b5b86c73b747809927aa79e9d87325",
       "version_major": 2,
       "version_minor": 0
      },
      "text/plain": [
       "FloatSlider(value=0.0, description='x', max=10.0)"
      ]
     },
     "metadata": {},
     "output_type": "display_data"
    },
    {
     "data": {
      "application/vnd.jupyter.widget-view+json": {
       "model_id": "4718fcc6a1844c69ac6ca1b208baef13",
       "version_major": 2,
       "version_minor": 0
      },
      "text/plain": [
       "FloatSlider(value=0.0, description='y', max=10.0)"
      ]
     },
     "metadata": {},
     "output_type": "display_data"
    },
    {
     "data": {
      "application/vnd.jupyter.widget-view+json": {
       "model_id": "b2d0b26f42c04f908abc7e8f78f83670",
       "version_major": 2,
       "version_minor": 0
      },
      "text/plain": [
       "FloatSlider(value=0.0, description='z', max=10.0)"
      ]
     },
     "metadata": {},
     "output_type": "display_data"
    }
   ],
   "source": [
    "pos = np.zeros(3)\n",
    "xyz_sliders = []\n",
    "for i in [\"x\",\"y\",\"z\"]:\n",
    "    xyz_sliders.append(widgets.FloatSlider(min=0, max=10, value=0, description=i))\n",
    "xyz = np.zeros(3)\n",
    "def handle_slider_change_xyz(change, idx):\n",
    "    xyz[idx] = change['new']\n",
    "    viz_utils.plot_point(xyz, ur.meshcat, \"/xyz\", radius = 0.05)\n",
    "\n",
    "idx = 0\n",
    "for slider in xyz_sliders:\n",
    "    slider.observe(partial(handle_slider_change_xyz, idx = idx), names='value')\n",
    "    idx+=1\n",
    "\n",
    "for slider in xyz_sliders:\n",
    "    display(slider)"
   ]
  },
  {
   "cell_type": "code",
   "execution_count": 10,
   "metadata": {},
   "outputs": [],
   "source": [
    "points_in_shelves = np.array([\n",
    "    [0.55, 0, 0.10],\n",
    "    [0.55, 0, 0.40],\n",
    "    [0.55, 0, 0.65],\n",
    "])"
   ]
  },
  {
   "cell_type": "code",
   "execution_count": 11,
   "metadata": {},
   "outputs": [],
   "source": [
    "# def find_ur_posture_from_xyz(plant,\n",
    "#                           plant_context,\n",
    "#                           q_init = np.array([-0.4, 0.7, -0., 0.7, 0.5])):\n",
    "#     ik = InverseKinematics(plant, plant_context)\n",
    "#     ee_frame = plant.GetFrameByName(\"ur_ee_link\")\n",
    "#     gripper_frame = plant.GetBodyByName(\"body\", ur.gripper_instances[0]).body_frame()\n",
    "#     shelf_frame = plant.GetFrameByName(\"shelves_body\")\n",
    "#     ik.AddPositionConstraint(gripper_frame, np.zeros((3, )), shelf_frame,\n",
    "#                              np.array([-0.15, -0., -0.2]),\n",
    "#                              np.array([0.05, 0., 0.2]))\n",
    "#     ik.AddPositionConstraint(gripper_frame, np.array([0, 0.028, 0]),\n",
    "#                              shelf_frame, np.array([-0.05, -0.02, -0.15]),\n",
    "#                              np.array([0.05, 0.02, 0.08]))\n",
    "#     ik.AddAngleBetweenVectorsConstraint(gripper_frame, np.array([1, 0, 0.]),\n",
    "#                                         plant.world_frame(),\n",
    "#                                         np.array([0, 0, 1]), 0.3 * np.pi,\n",
    "#                                         0.7 * np.pi)\n",
    "#     #right_finger = plant.GetBodyByName(\"right_finger\", gripper_instance)\n",
    "#     #ik.AddPositionConstraint(right_finger.body_frame(), np.array([0., 0., 0.]),\n",
    "#     #                         shelf_frame, np.array([-0.15, 0.04, -0.15]),\n",
    "#     #                         np.array([0.15, 0.1, 0.2]))\n",
    "#     #left_finger = plant.GetBodyByName(\"left_finger\", gripper_instance)\n",
    "#     #ik.AddPositionConstraint(left_finger.body_frame(), np.array([0., 0., 0.]),\n",
    "#     #                         shelf_frame, np.array([-0.15, -0.1, -0.15]),\n",
    "#     #                         np.array([0.15, -0.01, 0.2]))\n",
    "#     ik.AddMinimumDistanceConstraint(0.015)\n",
    "\n",
    "#     ik.get_mutable_prog().SetInitialGuess(ik.q(), q_init)\n",
    "#     result = mp.Solve(ik.prog(), q_init, None)\n",
    "#     if not result.is_success():\n",
    "#         raise Warning(\"Cannot find the posture\")\n",
    "#     print(result.GetSolution(ik.q()))\n",
    "#     return result.GetSolution(ik.q())"
   ]
  },
  {
   "cell_type": "code",
   "execution_count": 12,
   "metadata": {},
   "outputs": [],
   "source": [
    "def find_ur_posture_from_xyz(plant,\n",
    "                          plant_context,\n",
    "                          target_z = 0,\n",
    "                          q_init = np.array([-0.4, 0.7, -0., 0.7, 0.5])):\n",
    "    ik = InverseKinematics(plant, plant_context)\n",
    "    ee_frame = plant.GetFrameByName(\"ur_ee_link\")\n",
    "    gripper_frame = plant.GetBodyByName(\"body\", ur.gripper_instances[0]).body_frame()\n",
    "    shelf_frame = plant.GetFrameByName(\"top_and_bottom\")\n",
    "    ik.AddPositionConstraint(gripper_frame, np.zeros((3, )), shelf_frame,\n",
    "                             np.array([-0.15, -0., target_z-0.2]),\n",
    "                             np.array([0.05, 0.,target_z+ 0.2]))\n",
    "    ik.AddPositionConstraint(gripper_frame, np.array([0, 0.028, 0]),\n",
    "                             shelf_frame, np.array([-0.05, -0.02, target_z-0.15]),\n",
    "                             np.array([0.05, 0.02, target_z+0.08]))\n",
    "    ik.AddAngleBetweenVectorsConstraint(gripper_frame, np.array([1, 0, 0.]),\n",
    "                                        plant.world_frame(),\n",
    "                                        np.array([0, 0, 1]), 0.3 * np.pi,\n",
    "                                        0.7 * np.pi)\n",
    "    ik.AddMinimumDistanceConstraint(0.015)\n",
    "\n",
    "    ik.get_mutable_prog().SetInitialGuess(ik.q(), q_init)\n",
    "    result = mp.Solve(ik.prog(), q_init, None)\n",
    "    if not result.is_success():\n",
    "        raise Warning(\"Cannot find the posture\")\n",
    "    print(result.GetSolution(ik.q()))\n",
    "    return result.GetSolution(ik.q())"
   ]
  },
  {
   "cell_type": "code",
   "execution_count": 13,
   "metadata": {},
   "outputs": [
    {
     "name": "stdout",
     "output_type": "stream",
     "text": [
      "[-0.40617389 -0.27540927 -0.78904839  0.93653257  1.05187696]\n"
     ]
    }
   ],
   "source": [
    "q_middle_initial = np.array([-1.03, -1.43, -0.03, 0.67, 0.57])\n",
    "q_middle_shelf = find_ur_posture_from_xyz(ur.plant, plant_context,\n",
    "                                          q_init=q_middle_initial)\n",
    "ur.plant.SetPositions(plant_context, q_middle_shelf)\n",
    "ur.diagram.ForcedPublish(diagram_context)"
   ]
  },
  {
   "cell_type": "code",
   "execution_count": 14,
   "metadata": {},
   "outputs": [
    {
     "data": {
      "application/vnd.jupyter.widget-view+json": {
       "model_id": "420fb9e350784ba8a5daac0bf35fee14",
       "version_major": 2,
       "version_minor": 0
      },
      "text/plain": [
       "FloatSlider(value=0.0, description='q0', max=2.827433388230814, min=-2.827433388230814)"
      ]
     },
     "metadata": {},
     "output_type": "display_data"
    },
    {
     "data": {
      "application/vnd.jupyter.widget-view+json": {
       "model_id": "e3693eea8ef248a2bb181404cdd3ea70",
       "version_major": 2,
       "version_minor": 0
      },
      "text/plain": [
       "FloatSlider(value=0.0, description='q1', max=2.827433388230814, min=-2.827433388230814)"
      ]
     },
     "metadata": {},
     "output_type": "display_data"
    },
    {
     "data": {
      "application/vnd.jupyter.widget-view+json": {
       "model_id": "bdbad7e209b84127a85789f5402383b1",
       "version_major": 2,
       "version_minor": 0
      },
      "text/plain": [
       "FloatSlider(value=0.0, description='q2', max=2.827433388230814, min=-2.827433388230814)"
      ]
     },
     "metadata": {},
     "output_type": "display_data"
    },
    {
     "data": {
      "application/vnd.jupyter.widget-view+json": {
       "model_id": "311be8f0dc9f4e499803c8daf43a5dc8",
       "version_major": 2,
       "version_minor": 0
      },
      "text/plain": [
       "FloatSlider(value=0.0, description='q3', max=2.827433388230814, min=-2.827433388230814)"
      ]
     },
     "metadata": {},
     "output_type": "display_data"
    },
    {
     "data": {
      "application/vnd.jupyter.widget-view+json": {
       "model_id": "09ef4d47bb514c448a75e9e3a47a55c3",
       "version_major": 2,
       "version_minor": 0
      },
      "text/plain": [
       "FloatSlider(value=0.0, description='q4', max=2.827433388230814, min=-2.827433388230814)"
      ]
     },
     "metadata": {},
     "output_type": "display_data"
    }
   ],
   "source": [
    "idx = 0\n",
    "q = np.zeros(ur.plant.num_positions())\n",
    "def handle_slider_change(change, idx):\n",
    "    q[idx] = change['new']\n",
    "    ur.plant.SetPositions(plant_context, q)\n",
    "    ur.diagram.ForcedPublish(diagram_context)\n",
    "\n",
    "idx = 0\n",
    "for slider in sliders:\n",
    "    slider.observe(partial(handle_slider_change, idx = idx), names='value')\n",
    "    idx+=1\n",
    "    \n",
    "for slider in sliders:\n",
    "    display(slider)"
   ]
  },
  {
   "cell_type": "code",
   "execution_count": 15,
   "metadata": {},
   "outputs": [],
   "source": [
    "# q_top_init = np.array([-0.33, -0.93, -0.53, -1.63, -1.13])\n",
    "q_top_shelf = np.array([-0.63, -1.03, 0.17, -2.33, -0.73])\n",
    "ur.plant.SetPositions(plant_context, q_top_shelf)\n",
    "ur.diagram.ForcedPublish(diagram_context)"
   ]
  },
  {
   "cell_type": "code",
   "execution_count": 16,
   "metadata": {},
   "outputs": [],
   "source": [
    "# q_bottom_init = np.array([0.0, 0.0, 0.0, 0.0, 0.0])\n",
    "# q_bottom_shelf = find_ur_posture_from_xyz(ur.plant, plant_context, \n",
    "#                                           q_init = q_bottom_init,\n",
    "#                                           target_z = -1)\n",
    "q_bottom_shelf = np.array([-0.13, -0.43, 0.87, -0.43, 1.57])\n",
    "ur.plant.SetPositions(plant_context, q_bottom_shelf)\n",
    "ur.diagram.ForcedPublish(diagram_context)"
   ]
  },
  {
   "cell_type": "code",
   "execution_count": 17,
   "metadata": {},
   "outputs": [],
   "source": [
    "seedpoints = [q_top_shelf, \n",
    "              q_middle_shelf, \n",
    "              q_bottom_shelf]"
   ]
  },
  {
   "cell_type": "code",
   "execution_count": 18,
   "metadata": {},
   "outputs": [
    {
     "name": "stdout",
     "output_type": "stream",
     "text": [
      "[-0.04886167 -0.01048494 -0.00161344]\n",
      "[-0.04935663 -0.00576551 -0.00553909]\n",
      "[-0.04958076  0.0064419   0.00049999]\n"
     ]
    }
   ],
   "source": [
    "def pull_back_point(pt):\n",
    "    ur.plant.SetPositions(plant_context, pt)\n",
    "    shunk = ur.plant.GetBodyByName(\"body\", ur.gripper_instances[0])\n",
    "    shunk_frame = shunk.body_frame()\n",
    "    world_frame = ur.plant.world_frame() \n",
    "    J = ur.plant.CalcJacobianSpatialVelocity(plant_context, \n",
    "                                          JacobianWrtVariable.kQDot,\n",
    "                                            shunk_frame,\n",
    "                                            [0,0,0],\n",
    "                                            world_frame,\n",
    "                                         world_frame)\n",
    "\n",
    "#     print(J)\n",
    "    #shunk = plant.get_body(pydrake.multibody.tree.BodyIndex(9))\n",
    "    tf_tot = shunk.EvalPoseInWorld(plant_context)\n",
    "    tf = tf_tot.translation()\n",
    "\n",
    "    # tf_tot= plant.EvalBodyPoseInWorld(plant_context, plant.get_body(pydrake.multibody.tree.BodyIndex(7)))\n",
    "    v_pullback = -tf_tot.GetAsMatrix4()[:3,:3][:,1] *0.05\n",
    "    print(v_pullback)\n",
    "    pos_pullback = tf + v_pullback\n",
    "    pt_new = pt + np.linalg.pinv(J[3:,:])@v_pullback\n",
    "    return pt_new\n",
    "\n",
    "helpers = []\n",
    "for p in seedpoints:\n",
    "    ph = pull_back_point(p)\n",
    "    helpers.append(ph)\n",
    "helpers = np.array(helpers)\n",
    "        \n",
    "# for i, p in enumerate(seedpoints):\n",
    "#     plot_endeff_pose(p, str(i))\n",
    "    \n",
    "seedpoints = np.concatenate((seedpoints, helpers), axis = 0)"
   ]
  },
  {
   "cell_type": "code",
   "execution_count": 19,
   "metadata": {},
   "outputs": [],
   "source": [
    "\n",
    "def plot_points(points, \n",
    "                size = 0.02, \n",
    "                color = Rgba(0.06, 0.0, 0, 1), \n",
    "                start_idx = 0, \n",
    "                prefix = 'point'):\n",
    "       \n",
    "        \n",
    "        for i in range(points.shape[0]):\n",
    "            pt = points[i]\n",
    "            ur.plant.SetPositions(plant_context, pt)\n",
    "            tf_tot= ur.plant.EvalBodyPoseInWorld(plant_context, ur.plant.get_body(BodyIndex(7)))\n",
    "            tf = tf_tot.translation() + tf_tot.GetAsMatrix4()[:3,:3][:,1] *0.25\n",
    "            viz_utils.plot_point(tf, ur.meshcat, f\"/seed_point{i}\", radius = 0.05)"
   ]
  },
  {
   "cell_type": "code",
   "execution_count": 20,
   "metadata": {},
   "outputs": [],
   "source": [
    "plot_points(np.array(seedpoints))"
   ]
  },
  {
   "cell_type": "code",
   "execution_count": null,
   "metadata": {},
   "outputs": [],
   "source": []
  },
  {
   "cell_type": "code",
   "execution_count": 21,
   "metadata": {},
   "outputs": [],
   "source": [
    "#generate function hanldes\n",
    "\n",
    "\n",
    "ik = InverseKinematics(ur.plant, plant_context)\n",
    "collision_constraint = ik.AddMinimumDistanceConstraint(0.001, 0.001)\n",
    "\n",
    "def eval_cons(q, c, tol):\n",
    "    return 1-1*float(c.evaluator().CheckSatisfied(q, tol))\n",
    "    \n",
    "col_func_handle = partial(eval_cons, c=collision_constraint, tol=0.01)\n",
    "\n",
    "\n",
    "#sample based LOS checker\n",
    "def vis(t1, t2, num_checks):\n",
    "    t1flat = t1.reshape(-1)\n",
    "    t2flat = t2.reshape(-1)\n",
    "    if np.linalg.norm(t1-t2) < 1e-6:\n",
    "        return [(1-col_func_handle(Ratfk.ComputeQValue(t1flat, np.zeros(7))))>0,\n",
    "                None]\n",
    "    tvec = np.linspace(0,1, num_checks)\n",
    "    for t in tvec:\n",
    "        tinterp = t1flat*t + (1-t)*t2flat\n",
    "        if col_func_handle(Ratfk.ComputeQValue(tinterp, np.zeros(7))):\n",
    "            return [False, None]\n",
    "    else:\n",
    "        return [True, None]\n",
    "is_LOS = partial(vis, num_checks = 40)\n"
   ]
  },
  {
   "cell_type": "code",
   "execution_count": 22,
   "metadata": {},
   "outputs": [],
   "source": [
    "col_func_handle(np.ones(5))\n",
    "ur.plant.SetPositions(plant_context, np.ones(5))\n",
    "ur.diagram.ForcedPublish(diagram_context)"
   ]
  },
  {
   "cell_type": "code",
   "execution_count": 23,
   "metadata": {},
   "outputs": [],
   "source": [
    "iris_regions = []\n",
    "iris_ellipses = []\n",
    "\n",
    "iris_options = IrisOptions()\n",
    "iris_options.require_sample_point_is_contained = True\n",
    "iris_options.configuration_space_margin = 1e-3\n",
    "iris_options.relative_termination_threshold = 0.001\n",
    "\n",
    "def IrisInRationalConfigurationSpaceV2(q,\n",
    "                                       plant, \n",
    "                                         plant_context,\n",
    "                                         q_star, iris_options,\n",
    "                                    ):\n",
    "    plant.SetPositions(plant_context, q)\n",
    "    return IrisInRationalConfigurationSpace(plant, \n",
    "                                         plant_context,\n",
    "                                         q_star, iris_options)\n",
    "\n",
    "\n",
    "def SNOPT_IRIS(q_seed,  regions, plant, context, snoptiris_options, qstar):\n",
    "    #print('snopt iris call')\n",
    "    snoptiris_options.configuration_obstacles = []\n",
    "    if regions is not None:\n",
    "        obstacles = []\n",
    "        for r in regions:\n",
    "            offset = 0.25*np.min(1/np.linalg.eig(r.MaximumVolumeInscribedEllipsoid().A())[0])\n",
    "            rnew = HPolyhedron(r.A(), r.b()-offset)\n",
    "            obstacles.append(rnew)\n",
    "        snoptiris_options.configuration_obstacles = obstacles\n",
    "    plant.SetPositions(plant.GetMyMutableContextFromRoot(context), q_seed.reshape(-1,1))\n",
    "    t_seed = Ratfk.ComputeSValue(q_seed, np.zeros(7))\n",
    "    r = IrisInRationalConfigurationSpace(plant, plant.GetMyContextFromRoot(context), qstar, snoptiris_options)\n",
    "    return r\n",
    "\n",
    "\n",
    "SNOPT_IRIS_Handle_old = partial(IrisInRationalConfigurationSpaceV2,\n",
    "                            plant = ur.plant,\n",
    "                            plant_context = plant_context,\n",
    "                            q_star = q_star,\n",
    "                            iris_options = iris_options)\n",
    "\n",
    "SNOPT_IRIS_Handle1 = partial(SNOPT_IRIS,\n",
    "                            plant = ur.plant,\n",
    "                            context = diagram_context,\n",
    "                            qstar = q_star,\n",
    "                            snoptiris_options = iris_options)\n",
    "\n",
    "# IrisInRationalConfigurationSpace(ur.plant, \n",
    "#                                  plant_context,\n",
    "#                                  q_star, iris_options)"
   ]
  },
  {
   "cell_type": "code",
   "execution_count": null,
   "metadata": {
    "scrolled": true
   },
   "outputs": [],
   "source": []
  },
  {
   "cell_type": "code",
   "execution_count": 24,
   "metadata": {},
   "outputs": [
    {
     "name": "stdout",
     "output_type": "stream",
     "text": [
      "[00:49:21] [VPRMSeeding] Expecting points of interest in q\n",
      "[00:49:21] [VPRMSeeding] GuardInsertion attempts M: 58\n",
      "[00:49:21] [VPRMSeeding] 0.95 probability that unseen region is less than 5.0 \"%\" of Cfree \n"
     ]
    }
   ],
   "source": [
    "\n",
    "vs = VPRMSeeding(seedpoints,\n",
    "                 alpha = 0.05,\n",
    "                 eps = 0.05,\n",
    "                 limits = [ur.plant.GetPositionLowerLimits(), \n",
    "                           ur.plant.GetPositionUpperLimits()],\n",
    "                 collision_handle = col_func_handle,\n",
    "                 is_in_line_of_sight = is_LOS, \n",
    "                 iris_handle=partial(SNOPT_IRIS_Handle1, regions = None),\n",
    "                 iris_handle_with_obstacles = SNOPT_IRIS_Handle1,\n",
    "                 point_to_region_conversion = partial(Ratfk.ComputeSValue, q_star_val = q_star),\n",
    "                 #ranking_samples_handle = sample_ranking_connected_components_weight\n",
    "                 )\n",
    "vs.set_guard_regions()"
   ]
  },
  {
   "cell_type": "code",
   "execution_count": 25,
   "metadata": {},
   "outputs": [
    {
     "name": "stdout",
     "output_type": "stream",
     "text": [
      "[00:49:51] [VPRMSeeding] New guard placed N =  6 it =  3\n",
      "[00:49:55] [VPRMSeeding] Sample set size 3\n",
      "[00:49:55] [VPRMSeeding] New guard placed N =  7 it =  9\n",
      "[00:50:01] [VPRMSeeding] Sample set size 11\n",
      "[00:50:01] [VPRMSeeding] New guard placed N =  8 it =  5\n",
      "[00:50:32] [VPRMSeeding] Sample set size 15\n",
      "[00:50:32] [VPRMSeeding] New guard placed N =  9 it =  7\n",
      "[00:50:39] [VPRMSeeding] Sample set size 21\n",
      "[00:50:40] [VPRMSeeding] New guard placed N =  10 it =  31\n",
      "[00:50:48] [VPRMSeeding] Sample set size 51\n",
      "[00:50:49] [VPRMSeeding] New guard placed N =  11 it =  12\n",
      "[00:51:03] [VPRMSeeding] Sample set size 62\n",
      "[00:51:03] [VPRMSeeding] New guard placed N =  12 it =  3\n",
      "[00:51:44] [VPRMSeeding] Sample set size 64\n",
      "[00:51:45] [VPRMSeeding] New guard placed N =  13 it =  54\n",
      "[00:51:49] [VPRMSeeding] Sample set size 117\n",
      "[00:51:49] [VPRMSeeding] New guard placed N =  14 it =  15\n",
      "[00:51:56] [VPRMSeeding] Sample set size 131\n",
      "1\n",
      "1\n",
      "1\n",
      "2\n",
      "1\n",
      "1\n",
      "1\n",
      "10\n",
      "11\n",
      "2\n",
      "3\n",
      "1\n",
      "1\n",
      "1\n",
      "1\n",
      "[00:52:00] [VPRMSeeding] Guard found to split into 4\n",
      "1\n",
      "1\n",
      "1\n",
      "2\n",
      "1\n",
      "1\n",
      "1\n",
      "11\n",
      "2\n",
      "3\n",
      "1\n",
      "1\n",
      "1\n",
      "1\n",
      "2\n",
      "2\n",
      "2\n",
      "2\n",
      "[00:53:34] [VPRMSeeding] Guard found to split into 2\n",
      "1\n",
      "1\n",
      "1\n",
      "1\n",
      "1\n",
      "1\n",
      "1\n",
      "2\n",
      "1\n",
      "1\n",
      "1\n",
      "1\n",
      "1\n",
      "2\n",
      "2\n",
      "2\n",
      "2\n",
      "5\n",
      "2\n",
      "[00:54:12] [VPRMSeeding] No guard to split\n"
     ]
    }
   ],
   "source": [
    "vs.guard_phase()\n",
    "vs.refine_guards_greedy()"
   ]
  },
  {
   "cell_type": "code",
   "execution_count": 26,
   "metadata": {},
   "outputs": [
    {
     "data": {
      "image/png": "[encoded data removed]",
      "text/plain": [
       "<Figure size 640x480 with 1 Axes>"
      ]
     },
     "metadata": {},
     "output_type": "display_data"
    }
   ],
   "source": [
    "import matplotlib.pyplot as plt\n",
    "vs.draw_connectivity_graph()\n",
    "plt.show()"
   ]
  },
  {
   "cell_type": "code",
   "execution_count": 27,
   "metadata": {},
   "outputs": [
    {
     "name": "stdout",
     "output_type": "stream",
     "text": [
      "[00:54:16] [VPRMSeeding] Num connected Components Vis: 4\n",
      "[00:54:18] [VPRMSeeding] Failed, deleting point\n",
      "[00:54:18] [VPRMSeeding] Num connected Components Vis: 3\n",
      "[00:54:53] [VPRMSeeding] New region added [ 0.54298704 -2.03085288  1.99110634  0.71747592  2.59407395]\n",
      "[00:54:53] [VPRMSeeding] Sample set size 138 num keys to del  3\n",
      "[00:54:53] [VPRMSeeding] Num connected Components Vis: 3\n",
      "[00:55:40] [VPRMSeeding] New region added [ 1.94056712 -2.61970891 -2.69128191  1.69956345  1.27995813]\n",
      "[00:55:40] [VPRMSeeding] Sample set size 137 num keys to del  1\n",
      "[00:55:41] [VPRMSeeding] Num connected Components Vis: 3\n",
      "[00:56:16] [VPRMSeeding] New region added [-1.65501328 -2.17057456  2.08012979 -0.94602893  0.16915638]\n",
      "[00:56:16] [VPRMSeeding] Sample set size 131 num keys to del  6\n",
      "[00:56:16] [VPRMSeeding] Num connected Components Vis: 3\n",
      "[00:56:49] [VPRMSeeding] New region added [-1.71817583 -0.08291432 -1.6017848   1.69450699 -1.76965399]\n",
      "[00:56:49] [VPRMSeeding] Sample set size 127 num keys to del  4\n",
      "[00:56:50] [VPRMSeeding] Num connected Components Vis: 2\n",
      "[00:56:52] [VPRMSeeding] Failed, deleting point\n",
      "[00:56:52] [VPRMSeeding] Num connected Components Vis: 2\n",
      "[00:57:44] [VPRMSeeding] New region added [-2.80876575 -0.48056241 -0.78814149 -0.59173854  2.2061418 ]\n",
      "[00:57:44] [VPRMSeeding] Sample set size 117 num keys to del  9\n",
      "[00:57:44] [VPRMSeeding] Num connected Components Vis: 2\n",
      "[00:58:38] [VPRMSeeding] New region added [-2.17765515 -2.77150465 -2.78607189  1.02387936 -0.679003  ]\n",
      "[00:58:38] [VPRMSeeding] Sample set size 116 num keys to del  1\n",
      "[00:58:39] [VPRMSeeding] Num connected Components Vis: 2\n",
      "[00:58:41] [VPRMSeeding] Failed, deleting point\n",
      "[00:58:41] [VPRMSeeding] Num connected Components Vis: 2\n",
      "[00:58:43] [VPRMSeeding] Failed, deleting point\n",
      "[00:58:43] [VPRMSeeding] Num connected Components Vis: 2\n",
      "[00:58:59] [VPRMSeeding] Failed, deleting point\n",
      "[00:58:59] [VPRMSeeding] Num connected Components Vis: 2\n",
      "[01:00:05] [VPRMSeeding] New region added [-1.54102072 -2.70149445  0.5175476  -2.82007605 -1.06943527]\n",
      "[01:00:05] [VPRMSeeding] Sample set size 110 num keys to del  3\n",
      "[01:00:06] [VPRMSeeding] Num connected Components Vis: 2\n",
      "[01:00:09] [VPRMSeeding] Failed, deleting point\n",
      "[01:00:09] [VPRMSeeding] Num connected Components Vis: 2\n",
      "[01:00:48] [VPRMSeeding] New region added [-1.56859161 -2.76674755  1.78280804  2.76685499 -0.17711291]\n",
      "[01:00:48] [VPRMSeeding] Sample set size 108 num keys to del  1\n",
      "[01:00:48] [VPRMSeeding] Num connected Components Vis: 2\n",
      "[01:01:40] [VPRMSeeding] New region added [ 0.53660986 -2.6575022  -2.44391371  0.33377945 -0.53755222]\n",
      "[01:01:40] [VPRMSeeding] Sample set size 105 num keys to del  3\n",
      "[01:01:41] [VPRMSeeding] Num connected Components Vis: 2\n",
      "[01:02:24] [VPRMSeeding] New region added [-1.53408771 -2.13754596  1.91899845 -0.1330158   0.43868375]\n",
      "[01:02:24] [VPRMSeeding] Sample set size 102 num keys to del  3\n",
      "[01:02:24] [VPRMSeeding] Num connected Components Vis: 1\n",
      "[01:03:09] [VPRMSeeding] New region added [ 1.07188451  0.55711402 -2.54254892  0.97396479  0.38964338]\n",
      "[01:03:09] [VPRMSeeding] Sample set size 99 num keys to del  3\n",
      "[01:03:10] [VPRMSeeding] Num connected Components Vis: 1\n",
      "[01:04:03] [VPRMSeeding] Failed, deleting point\n",
      "[01:04:03] [VPRMSeeding] Num connected Components Vis: 1\n",
      "[01:04:41] [VPRMSeeding] New region added [-0.95676834  0.69137639 -2.72799176  0.07171064 -2.3113372 ]\n",
      "[01:04:41] [VPRMSeeding] Sample set size 93 num keys to del  5\n",
      "[01:04:41] [VPRMSeeding] Num connected Components Vis: 1\n",
      "[01:05:57] [VPRMSeeding] New region added [-2.30186682  0.10525272 -1.86079023 -1.98382532  1.315481  ]\n",
      "[01:05:57] [VPRMSeeding] Sample set size 91 num keys to del  2\n",
      "[01:05:58] [VPRMSeeding] Num connected Components Vis: 1\n",
      "[01:06:01] [VPRMSeeding] Failed, deleting point\n",
      "[01:06:01] [VPRMSeeding] Num connected Components Vis: 1\n",
      "[01:07:09] [VPRMSeeding] New region added [-0.97402086 -1.68547723  0.58290655 -0.96790081 -2.2626504 ]\n",
      "[01:07:09] [VPRMSeeding] Sample set size 86 num keys to del  4\n",
      "[01:07:10] [VPRMSeeding] Num connected Components Vis: 1\n",
      "[01:07:13] [VPRMSeeding] Failed, deleting point\n",
      "[01:07:13] [VPRMSeeding] Num connected Components Vis: 1\n",
      "[01:07:16] [VPRMSeeding] Failed, deleting point\n",
      "[01:07:16] [VPRMSeeding] Num connected Components Vis: 1\n",
      "[01:07:19] [VPRMSeeding] Failed, deleting point\n",
      "[01:07:19] [VPRMSeeding] Num connected Components Vis: 1\n",
      "[01:07:37] [VPRMSeeding] New region added [-1.77155146 -0.21015562  0.90626338 -1.95975264  1.54781568]\n",
      "[01:07:37] [VPRMSeeding] Sample set size 82 num keys to del  1\n",
      "[01:07:37] [VPRMSeeding] Num connected Components Vis: 1\n",
      "[01:08:06] [VPRMSeeding] New region added [ 0.45414654 -2.58132894  0.56797488  0.12490948 -2.60605175]\n",
      "[01:08:06] [VPRMSeeding] Sample set size 81 num keys to del  1\n",
      "[01:08:07] [VPRMSeeding] Num connected Components Vis: 1\n",
      "[01:08:11] [VPRMSeeding] Failed, deleting point\n",
      "[01:08:11] [VPRMSeeding] Num connected Components Vis: 1\n",
      "[01:08:15] [VPRMSeeding] Failed, deleting point\n",
      "[01:08:15] [VPRMSeeding] Num connected Components Vis: 1\n",
      "[01:08:18] [VPRMSeeding] Failed, deleting point\n",
      "[01:08:18] [VPRMSeeding] Num connected Components Vis: 1\n",
      "[01:09:02] [VPRMSeeding] Failed, deleting point\n",
      "[01:09:02] [VPRMSeeding] Num connected Components Vis: 1\n",
      "[01:10:07] [VPRMSeeding] Failed, deleting point\n",
      "[01:10:07] [VPRMSeeding] Num connected Components Vis: 1\n",
      "[01:10:48] [VPRMSeeding] Failed, deleting point\n",
      "[01:10:48] [VPRMSeeding] Num connected Components Vis: 1\n",
      "[01:11:20] [VPRMSeeding] New region added [ 2.6221951  -1.19609112 -0.55012592  2.21664924  1.25407286]\n",
      "[01:11:20] [VPRMSeeding] Sample set size 73 num keys to del  2\n"
     ]
    },
    {
     "data": {
      "text/plain": [
       "True"
      ]
     },
     "execution_count": 27,
     "metadata": {},
     "output_type": "execute_result"
    }
   ],
   "source": [
    "vs.connectivity_phase()"
   ]
  },
  {
   "cell_type": "code",
   "execution_count": 28,
   "metadata": {},
   "outputs": [],
   "source": [
    "# vs.sample_rank_handle(vs)"
   ]
  },
  {
   "cell_type": "code",
   "execution_count": 29,
   "metadata": {},
   "outputs": [
    {
     "data": {
      "image/png": "[encoded data removed]",
      "text/plain": [
       "<Figure size 640x480 with 1 Axes>"
      ]
     },
     "metadata": {},
     "output_type": "display_data"
    }
   ],
   "source": [
    "vs.draw_connectivity_graph()\n",
    "plt.show()"
   ]
  },
  {
   "cell_type": "code",
   "execution_count": 30,
   "metadata": {},
   "outputs": [],
   "source": [
    "regions = vs.regions\n",
    "region = regions[0]"
   ]
  },
  {
   "cell_type": "markdown",
   "metadata": {},
   "source": [
    "# Generate and Certify Regions\n",
    "\n",
    "Around some nominal seed postures, we will grow certified regions by seeding our alternation algorithm using a small initial polytope."
   ]
  },
  {
   "cell_type": "code",
   "execution_count": 31,
   "metadata": {},
   "outputs": [],
   "source": [
    "# Some seedpoints\n",
    "# seed_points_q = np.array([   \n",
    "#                               q_top_shelf,\n",
    "#                               q_middle_shelf,\n",
    "#                               q_bottom_shelf\n",
    "#                               ])\n",
    "\n",
    "# seed_points = np.array([Ratfk.ComputeSValue(seed_points_q[idx], q_star)\\\n",
    "#                         for idx in range(seed_points_q.shape[0])])\n",
    "# start = seed_points[0]\n",
    "# end = seed_points[-1]\n",
    "\n",
    "    \n",
    "\n",
    "# visualizer.add_plane_indices_of_interest(118)"
   ]
  },
  {
   "cell_type": "markdown",
   "metadata": {},
   "source": [
    "## First we set up some options for our different certification modes"
   ]
  },
  {
   "cell_type": "code",
   "execution_count": 32,
   "metadata": {},
   "outputs": [],
   "source": [
    "# set up the certifier and the options for different search techniques\n",
    "solver_options = SolverOptions()\n",
    "# set this to 1 if you would like to see the solver output in terminal.\n",
    "solver_options.SetOption(CommonSolverOption.kPrintToConsole, 0)\n",
    "\n",
    "# The options for when we search for new planes and positivity certificates given the polytopes\n",
    "find_separation_certificate_given_polytope_options = CspaceFreePolytope.FindSeparationCertificateGivenPolytopeOptions()\n",
    "find_separation_certificate_given_polytope_options.num_threads = -1\n",
    "find_separation_certificate_given_polytope_options.verbose = False\n",
    "find_separation_certificate_given_polytope_options.solver_options = solver_options\n",
    "find_separation_certificate_given_polytope_options.ignore_redundant_C = False\n",
    "\n",
    "# The options for when we search for a new polytope given positivity certificates.\n",
    "find_polytope_given_lagrangian_option = CspaceFreePolytope.FindPolytopeGivenLagrangianOptions()\n",
    "find_polytope_given_lagrangian_option.solver_options = solver_options\n",
    "find_polytope_given_lagrangian_option.ellipsoid_margin_cost = CspaceFreePolytope.EllipsoidMarginCost.kGeometricMean\n",
    "find_polytope_given_lagrangian_option.search_s_bounds_lagrangians = True\n",
    "find_polytope_given_lagrangian_option.ellipsoid_margin_epsilon = 1e-8\n",
    "\n",
    "\n",
    "bilinear_alternation_options = CspaceFreePolytope.BilinearAlternationOptions()\n",
    "bilinear_alternation_options.max_iter = 100\n",
    "bilinear_alternation_options.convergence_tol = 1e-5\n",
    "bilinear_alternation_options.find_polytope_options = find_polytope_given_lagrangian_option\n",
    "bilinear_alternation_options.find_lagrangian_options = find_separation_certificate_given_polytope_options\n",
    "\n",
    "binary_search_options = CspaceFreePolytope.BinarySearchOptions()\n",
    "binary_search_options.find_lagrangian_options = find_separation_certificate_given_polytope_options\n",
    "binary_search_options.scale_min = 1\n",
    "binary_search_options.scale_max = 50\n",
    "binary_search_options.max_iter = 10\n"
   ]
  },
  {
   "cell_type": "code",
   "execution_count": 33,
   "metadata": {},
   "outputs": [],
   "source": [
    "progs = cspace_free_polytope.ConstructPlaneSearchProgramsForPairs(region.A(), region.b(), find_separation_certificate_given_polytope_options)"
   ]
  },
  {
   "cell_type": "code",
   "execution_count": 34,
   "metadata": {},
   "outputs": [
    {
     "data": {
      "text/plain": [
       "112"
      ]
     },
     "execution_count": 34,
     "metadata": {},
     "output_type": "execute_result"
    }
   ],
   "source": [
    "len(cspace_free_polytope.separating_planes())"
   ]
  },
  {
   "cell_type": "code",
   "execution_count": 35,
   "metadata": {},
   "outputs": [
    {
     "name": "stdout",
     "output_type": "stream",
     "text": [
      "24984\n",
      "1896\n"
     ]
    }
   ],
   "source": [
    "cert_prog = progs[0].prog()\n",
    "print(cert_prog.num_vars())\n",
    "print(len(cert_prog.GetAllConstraints()))"
   ]
  },
  {
   "cell_type": "markdown",
   "metadata": {},
   "source": [
    "## Seeding and Certifying with a Stronger Heuristic\n",
    "We have also implemented another, strong heuristic for proposing good initial regions based on non-linear optimization. See Appendix TODO of our paper TODO for details"
   ]
  },
  {
   "cell_type": "code",
   "execution_count": 36,
   "metadata": {},
   "outputs": [],
   "source": [
    "# iris_regions = []\n",
    "# iris_ellipses = []\n",
    "# seed_points = poi\n",
    "# iris_options = IrisOptions()\n",
    "# iris_options.require_sample_point_is_contained = True\n",
    "# iris_options.configuration_space_margin = 1e-3\n",
    "# iris_options.relative_termination_threshold = 0.001\n",
    "\n",
    "# for i, s in enumerate(seed_points):\n",
    "#     q = Ratfk.ComputeQValue(s, q_star)\n",
    "#     ur.plant.SetPositions(plant_context, q)\n",
    "#     r = IrisInRationalConfigurationSpace(ur.plant, \n",
    "#                                          plant_context,\n",
    "#                                          q_star, iris_options)\n",
    "#     iris_regions.append(r)\n",
    "#     iris_ellipses.append(r.MaximumVolumeInscribedEllipsoid())\n",
    "    \n"
   ]
  },
  {
   "cell_type": "code",
   "execution_count": 37,
   "metadata": {},
   "outputs": [],
   "source": [
    "# iris_regions[0].b().shape[0]"
   ]
  },
  {
   "cell_type": "code",
   "execution_count": 38,
   "metadata": {},
   "outputs": [
    {
     "name": "stdout",
     "output_type": "stream",
     "text": [
      "starting seedpoint 1/36\n"
     ]
    },
    {
     "name": "stderr",
     "output_type": "stream",
     "text": [
      "INFO:drake:CspaceFreePolytope::BinarySearch(): scale=0.5005 is feasible\n",
      "INFO:drake:CspaceFreePolytope::BinarySearch(): scale=0.75025 is infeasible\n",
      "INFO:drake:CspaceFreePolytope::BinarySearch(): scale=0.625375 is feasible\n",
      "INFO:drake:CspaceFreePolytope::BinarySearch(): scale=0.6878124999999999 is feasible\n",
      "INFO:drake:CspaceFreePolytope::BinarySearch(): scale=0.71903125 is infeasible\n"
     ]
    },
    {
     "name": "stdout",
     "output_type": "stream",
     "text": [
      "starting seedpoint 2/36\n"
     ]
    },
    {
     "name": "stderr",
     "output_type": "stream",
     "text": [
      "INFO:drake:CspaceFreePolytope::BinarySearch(): scale=0.5005 is infeasible\n",
      "INFO:drake:CspaceFreePolytope::BinarySearch(): scale=0.25075 is infeasible\n",
      "INFO:drake:CspaceFreePolytope::BinarySearch(): scale=0.125875 is infeasible\n",
      "INFO:drake:CspaceFreePolytope::BinarySearch(): scale=0.0634375 is feasible\n",
      "INFO:drake:CspaceFreePolytope::BinarySearch(): scale=0.09465625 is feasible\n"
     ]
    },
    {
     "name": "stdout",
     "output_type": "stream",
     "text": [
      "starting seedpoint 3/36\n"
     ]
    },
    {
     "name": "stderr",
     "output_type": "stream",
     "text": [
      "INFO:drake:CspaceFreePolytope::BinarySearch(): scale=0.5005 is feasible\n",
      "INFO:drake:CspaceFreePolytope::BinarySearch(): scale=0.75025 is infeasible\n",
      "INFO:drake:CspaceFreePolytope::BinarySearch(): scale=0.625375 is infeasible\n",
      "INFO:drake:CspaceFreePolytope::BinarySearch(): scale=0.5629375 is feasible\n",
      "INFO:drake:CspaceFreePolytope::BinarySearch(): scale=0.5941562499999999 is feasible\n"
     ]
    },
    {
     "name": "stdout",
     "output_type": "stream",
     "text": [
      "starting seedpoint 4/36\n"
     ]
    },
    {
     "name": "stderr",
     "output_type": "stream",
     "text": [
      "INFO:drake:CspaceFreePolytope::BinarySearch(): scale=0.5005 is feasible\n",
      "INFO:drake:CspaceFreePolytope::BinarySearch(): scale=0.75025 is infeasible\n",
      "INFO:drake:CspaceFreePolytope::BinarySearch(): scale=0.625375 is infeasible\n",
      "INFO:drake:CspaceFreePolytope::BinarySearch(): scale=0.5629375 is infeasible\n",
      "INFO:drake:CspaceFreePolytope::BinarySearch(): scale=0.53171875 is feasible\n"
     ]
    },
    {
     "name": "stdout",
     "output_type": "stream",
     "text": [
      "starting seedpoint 5/36\n"
     ]
    },
    {
     "name": "stderr",
     "output_type": "stream",
     "text": [
      "INFO:drake:CspaceFreePolytope::BinarySearch(): scale=0.5005 is feasible\n",
      "INFO:drake:CspaceFreePolytope::BinarySearch(): scale=0.75025 is infeasible\n",
      "INFO:drake:CspaceFreePolytope::BinarySearch(): scale=0.625375 is infeasible\n",
      "INFO:drake:CspaceFreePolytope::BinarySearch(): scale=0.5629375 is feasible\n",
      "INFO:drake:CspaceFreePolytope::BinarySearch(): scale=0.5941562499999999 is feasible\n"
     ]
    },
    {
     "name": "stdout",
     "output_type": "stream",
     "text": [
      "starting seedpoint 6/36\n"
     ]
    },
    {
     "name": "stderr",
     "output_type": "stream",
     "text": [
      "INFO:drake:CspaceFreePolytope::BinarySearch(): scale=0.5005 is feasible\n",
      "INFO:drake:CspaceFreePolytope::BinarySearch(): scale=0.75025 is feasible\n",
      "INFO:drake:CspaceFreePolytope::BinarySearch(): scale=0.8751249999999999 is infeasible\n",
      "INFO:drake:CspaceFreePolytope::BinarySearch(): scale=0.8126875 is feasible\n",
      "INFO:drake:CspaceFreePolytope::BinarySearch(): scale=0.84390625 is feasible\n"
     ]
    },
    {
     "name": "stdout",
     "output_type": "stream",
     "text": [
      "starting seedpoint 7/36\n"
     ]
    },
    {
     "name": "stderr",
     "output_type": "stream",
     "text": [
      "INFO:drake:CspaceFreePolytope::BinarySearch(): scale=0.5005 is infeasible\n",
      "INFO:drake:CspaceFreePolytope::BinarySearch(): scale=0.25075 is feasible\n",
      "INFO:drake:CspaceFreePolytope::BinarySearch(): scale=0.375625 is feasible\n",
      "INFO:drake:CspaceFreePolytope::BinarySearch(): scale=0.43806249999999997 is feasible\n",
      "INFO:drake:CspaceFreePolytope::BinarySearch(): scale=0.46928125 is infeasible\n"
     ]
    },
    {
     "name": "stdout",
     "output_type": "stream",
     "text": [
      "starting seedpoint 8/36\n"
     ]
    },
    {
     "name": "stderr",
     "output_type": "stream",
     "text": [
      "INFO:drake:CspaceFreePolytope::BinarySearch(): scale=0.5005 is feasible\n",
      "INFO:drake:CspaceFreePolytope::BinarySearch(): scale=0.75025 is infeasible\n",
      "INFO:drake:CspaceFreePolytope::BinarySearch(): scale=0.625375 is infeasible\n",
      "INFO:drake:CspaceFreePolytope::BinarySearch(): scale=0.5629375 is feasible\n",
      "INFO:drake:CspaceFreePolytope::BinarySearch(): scale=0.5941562499999999 is feasible\n"
     ]
    },
    {
     "name": "stdout",
     "output_type": "stream",
     "text": [
      "starting seedpoint 9/36\n"
     ]
    },
    {
     "name": "stderr",
     "output_type": "stream",
     "text": [
      "INFO:drake:CspaceFreePolytope::BinarySearch(): scale=0.5005 is infeasible\n",
      "INFO:drake:CspaceFreePolytope::BinarySearch(): scale=0.25075 is feasible\n",
      "INFO:drake:CspaceFreePolytope::BinarySearch(): scale=0.375625 is infeasible\n",
      "INFO:drake:CspaceFreePolytope::BinarySearch(): scale=0.31318749999999995 is infeasible\n",
      "INFO:drake:CspaceFreePolytope::BinarySearch(): scale=0.28196875 is infeasible\n"
     ]
    },
    {
     "name": "stdout",
     "output_type": "stream",
     "text": [
      "starting seedpoint 10/36\n"
     ]
    },
    {
     "name": "stderr",
     "output_type": "stream",
     "text": [
      "INFO:drake:CspaceFreePolytope::BinarySearch(): scale=0.5005 is infeasible\n",
      "INFO:drake:CspaceFreePolytope::BinarySearch(): scale=0.25075 is infeasible\n",
      "INFO:drake:CspaceFreePolytope::BinarySearch(): scale=0.125875 is feasible\n",
      "INFO:drake:CspaceFreePolytope::BinarySearch(): scale=0.1883125 is infeasible\n",
      "INFO:drake:CspaceFreePolytope::BinarySearch(): scale=0.15709374999999998 is feasible\n"
     ]
    },
    {
     "name": "stdout",
     "output_type": "stream",
     "text": [
      "starting seedpoint 11/36\n"
     ]
    },
    {
     "name": "stderr",
     "output_type": "stream",
     "text": [
      "INFO:drake:CspaceFreePolytope::BinarySearch(): scale=0.5005 is infeasible\n",
      "INFO:drake:CspaceFreePolytope::BinarySearch(): scale=0.25075 is feasible\n",
      "INFO:drake:CspaceFreePolytope::BinarySearch(): scale=0.375625 is infeasible\n",
      "INFO:drake:CspaceFreePolytope::BinarySearch(): scale=0.31318749999999995 is infeasible\n",
      "INFO:drake:CspaceFreePolytope::BinarySearch(): scale=0.28196875 is feasible\n"
     ]
    },
    {
     "name": "stdout",
     "output_type": "stream",
     "text": [
      "starting seedpoint 12/36\n"
     ]
    },
    {
     "name": "stderr",
     "output_type": "stream",
     "text": [
      "INFO:drake:CspaceFreePolytope::BinarySearch(): scale=0.5005 is feasible\n",
      "INFO:drake:CspaceFreePolytope::BinarySearch(): scale=0.75025 is infeasible\n",
      "INFO:drake:CspaceFreePolytope::BinarySearch(): scale=0.625375 is feasible\n",
      "INFO:drake:CspaceFreePolytope::BinarySearch(): scale=0.6878124999999999 is infeasible\n",
      "INFO:drake:CspaceFreePolytope::BinarySearch(): scale=0.65659375 is infeasible\n"
     ]
    },
    {
     "name": "stdout",
     "output_type": "stream",
     "text": [
      "starting seedpoint 13/36\n"
     ]
    },
    {
     "name": "stderr",
     "output_type": "stream",
     "text": [
      "INFO:drake:CspaceFreePolytope::BinarySearch(): scale=0.5005 is feasible\n",
      "INFO:drake:CspaceFreePolytope::BinarySearch(): scale=0.75025 is infeasible\n",
      "INFO:drake:CspaceFreePolytope::BinarySearch(): scale=0.625375 is feasible\n",
      "INFO:drake:CspaceFreePolytope::BinarySearch(): scale=0.6878124999999999 is feasible\n",
      "INFO:drake:CspaceFreePolytope::BinarySearch(): scale=0.71903125 is infeasible\n"
     ]
    },
    {
     "name": "stdout",
     "output_type": "stream",
     "text": [
      "starting seedpoint 14/36\n"
     ]
    },
    {
     "name": "stderr",
     "output_type": "stream",
     "text": [
      "INFO:drake:CspaceFreePolytope::BinarySearch(): scale=0.5005 is infeasible\n",
      "INFO:drake:CspaceFreePolytope::BinarySearch(): scale=0.25075 is feasible\n",
      "INFO:drake:CspaceFreePolytope::BinarySearch(): scale=0.375625 is infeasible\n",
      "INFO:drake:CspaceFreePolytope::BinarySearch(): scale=0.31318749999999995 is feasible\n",
      "INFO:drake:CspaceFreePolytope::BinarySearch(): scale=0.34440624999999997 is feasible\n"
     ]
    },
    {
     "name": "stdout",
     "output_type": "stream",
     "text": [
      "starting seedpoint 15/36\n"
     ]
    },
    {
     "name": "stderr",
     "output_type": "stream",
     "text": [
      "INFO:drake:CspaceFreePolytope::BinarySearch(): scale=0.5005 is infeasible\n",
      "INFO:drake:CspaceFreePolytope::BinarySearch(): scale=0.25075 is feasible\n",
      "INFO:drake:CspaceFreePolytope::BinarySearch(): scale=0.375625 is infeasible\n",
      "INFO:drake:CspaceFreePolytope::BinarySearch(): scale=0.31318749999999995 is feasible\n",
      "INFO:drake:CspaceFreePolytope::BinarySearch(): scale=0.34440624999999997 is infeasible\n"
     ]
    },
    {
     "name": "stdout",
     "output_type": "stream",
     "text": [
      "starting seedpoint 16/36\n"
     ]
    },
    {
     "name": "stderr",
     "output_type": "stream",
     "text": [
      "INFO:drake:CspaceFreePolytope::BinarySearch(): scale=0.5005 is infeasible\n",
      "INFO:drake:CspaceFreePolytope::BinarySearch(): scale=0.25075 is feasible\n",
      "INFO:drake:CspaceFreePolytope::BinarySearch(): scale=0.375625 is feasible\n",
      "INFO:drake:CspaceFreePolytope::BinarySearch(): scale=0.43806249999999997 is infeasible\n",
      "INFO:drake:CspaceFreePolytope::BinarySearch(): scale=0.40684374999999995 is infeasible\n"
     ]
    },
    {
     "name": "stdout",
     "output_type": "stream",
     "text": [
      "starting seedpoint 17/36\n"
     ]
    },
    {
     "name": "stderr",
     "output_type": "stream",
     "text": [
      "INFO:drake:CspaceFreePolytope::BinarySearch(): scale=0.5005 is infeasible\n",
      "INFO:drake:CspaceFreePolytope::BinarySearch(): scale=0.25075 is feasible\n",
      "INFO:drake:CspaceFreePolytope::BinarySearch(): scale=0.375625 is infeasible\n",
      "INFO:drake:CspaceFreePolytope::BinarySearch(): scale=0.31318749999999995 is feasible\n",
      "INFO:drake:CspaceFreePolytope::BinarySearch(): scale=0.34440624999999997 is feasible\n"
     ]
    },
    {
     "name": "stdout",
     "output_type": "stream",
     "text": [
      "starting seedpoint 18/36\n"
     ]
    },
    {
     "name": "stderr",
     "output_type": "stream",
     "text": [
      "INFO:drake:CspaceFreePolytope::BinarySearch(): scale=0.5005 is infeasible\n",
      "INFO:drake:CspaceFreePolytope::BinarySearch(): scale=0.25075 is feasible\n",
      "INFO:drake:CspaceFreePolytope::BinarySearch(): scale=0.375625 is feasible\n",
      "INFO:drake:CspaceFreePolytope::BinarySearch(): scale=0.43806249999999997 is feasible\n",
      "INFO:drake:CspaceFreePolytope::BinarySearch(): scale=0.46928125 is feasible\n"
     ]
    },
    {
     "name": "stdout",
     "output_type": "stream",
     "text": [
      "starting seedpoint 19/36\n"
     ]
    },
    {
     "name": "stderr",
     "output_type": "stream",
     "text": [
      "INFO:drake:CspaceFreePolytope::BinarySearch(): scale=0.5005 is infeasible\n",
      "INFO:drake:CspaceFreePolytope::BinarySearch(): scale=0.25075 is feasible\n",
      "INFO:drake:CspaceFreePolytope::BinarySearch(): scale=0.375625 is feasible\n",
      "INFO:drake:CspaceFreePolytope::BinarySearch(): scale=0.43806249999999997 is infeasible\n",
      "INFO:drake:CspaceFreePolytope::BinarySearch(): scale=0.40684374999999995 is infeasible\n"
     ]
    },
    {
     "name": "stdout",
     "output_type": "stream",
     "text": [
      "starting seedpoint 20/36\n"
     ]
    },
    {
     "name": "stderr",
     "output_type": "stream",
     "text": [
      "INFO:drake:CspaceFreePolytope::BinarySearch(): scale=0.5005 is infeasible\n",
      "INFO:drake:CspaceFreePolytope::BinarySearch(): scale=0.25075 is feasible\n",
      "INFO:drake:CspaceFreePolytope::BinarySearch(): scale=0.375625 is infeasible\n",
      "INFO:drake:CspaceFreePolytope::BinarySearch(): scale=0.31318749999999995 is feasible\n",
      "INFO:drake:CspaceFreePolytope::BinarySearch(): scale=0.34440624999999997 is infeasible\n"
     ]
    },
    {
     "name": "stdout",
     "output_type": "stream",
     "text": [
      "starting seedpoint 21/36\n"
     ]
    },
    {
     "name": "stderr",
     "output_type": "stream",
     "text": [
      "INFO:drake:CspaceFreePolytope::BinarySearch(): scale=0.5005 is infeasible\n",
      "INFO:drake:CspaceFreePolytope::BinarySearch(): scale=0.25075 is feasible\n",
      "INFO:drake:CspaceFreePolytope::BinarySearch(): scale=0.375625 is infeasible\n",
      "INFO:drake:CspaceFreePolytope::BinarySearch(): scale=0.31318749999999995 is infeasible\n",
      "INFO:drake:CspaceFreePolytope::BinarySearch(): scale=0.28196875 is infeasible\n"
     ]
    },
    {
     "name": "stdout",
     "output_type": "stream",
     "text": [
      "starting seedpoint 22/36\n"
     ]
    },
    {
     "name": "stderr",
     "output_type": "stream",
     "text": [
      "INFO:drake:CspaceFreePolytope::BinarySearch(): scale=0.5005 is infeasible\n",
      "INFO:drake:CspaceFreePolytope::BinarySearch(): scale=0.25075 is infeasible\n",
      "INFO:drake:CspaceFreePolytope::BinarySearch(): scale=0.125875 is feasible\n",
      "INFO:drake:CspaceFreePolytope::BinarySearch(): scale=0.1883125 is feasible\n",
      "INFO:drake:CspaceFreePolytope::BinarySearch(): scale=0.21953124999999998 is feasible\n"
     ]
    },
    {
     "name": "stdout",
     "output_type": "stream",
     "text": [
      "starting seedpoint 23/36\n"
     ]
    },
    {
     "name": "stderr",
     "output_type": "stream",
     "text": [
      "INFO:drake:CspaceFreePolytope::BinarySearch(): scale=0.5005 is feasible\n",
      "INFO:drake:CspaceFreePolytope::BinarySearch(): scale=0.75025 is infeasible\n",
      "INFO:drake:CspaceFreePolytope::BinarySearch(): scale=0.625375 is infeasible\n",
      "INFO:drake:CspaceFreePolytope::BinarySearch(): scale=0.5629375 is feasible\n",
      "INFO:drake:CspaceFreePolytope::BinarySearch(): scale=0.5941562499999999 is infeasible\n"
     ]
    },
    {
     "name": "stdout",
     "output_type": "stream",
     "text": [
      "starting seedpoint 24/36\n"
     ]
    },
    {
     "name": "stderr",
     "output_type": "stream",
     "text": [
      "INFO:drake:CspaceFreePolytope::BinarySearch(): scale=0.5005 is feasible\n",
      "INFO:drake:CspaceFreePolytope::BinarySearch(): scale=0.75025 is infeasible\n",
      "INFO:drake:CspaceFreePolytope::BinarySearch(): scale=0.625375 is infeasible\n",
      "INFO:drake:CspaceFreePolytope::BinarySearch(): scale=0.5629375 is infeasible\n",
      "INFO:drake:CspaceFreePolytope::BinarySearch(): scale=0.53171875 is feasible\n"
     ]
    },
    {
     "name": "stdout",
     "output_type": "stream",
     "text": [
      "starting seedpoint 25/36\n"
     ]
    },
    {
     "name": "stderr",
     "output_type": "stream",
     "text": [
      "INFO:drake:CspaceFreePolytope::BinarySearch(): scale=0.5005 is infeasible\n",
      "INFO:drake:CspaceFreePolytope::BinarySearch(): scale=0.25075 is infeasible\n",
      "INFO:drake:CspaceFreePolytope::BinarySearch(): scale=0.125875 is feasible\n",
      "INFO:drake:CspaceFreePolytope::BinarySearch(): scale=0.1883125 is feasible\n",
      "INFO:drake:CspaceFreePolytope::BinarySearch(): scale=0.21953124999999998 is infeasible\n"
     ]
    },
    {
     "name": "stdout",
     "output_type": "stream",
     "text": [
      "starting seedpoint 26/36\n"
     ]
    },
    {
     "name": "stderr",
     "output_type": "stream",
     "text": [
      "INFO:drake:CspaceFreePolytope::BinarySearch(): scale=0.5005 is infeasible\n",
      "INFO:drake:CspaceFreePolytope::BinarySearch(): scale=0.25075 is feasible\n",
      "INFO:drake:CspaceFreePolytope::BinarySearch(): scale=0.375625 is feasible\n",
      "INFO:drake:CspaceFreePolytope::BinarySearch(): scale=0.43806249999999997 is infeasible\n",
      "INFO:drake:CspaceFreePolytope::BinarySearch(): scale=0.40684374999999995 is feasible\n"
     ]
    },
    {
     "name": "stdout",
     "output_type": "stream",
     "text": [
      "starting seedpoint 27/36\n"
     ]
    },
    {
     "name": "stderr",
     "output_type": "stream",
     "text": [
      "INFO:drake:CspaceFreePolytope::BinarySearch(): scale=0.5005 is infeasible\n",
      "INFO:drake:CspaceFreePolytope::BinarySearch(): scale=0.25075 is feasible\n",
      "INFO:drake:CspaceFreePolytope::BinarySearch(): scale=0.375625 is feasible\n",
      "INFO:drake:CspaceFreePolytope::BinarySearch(): scale=0.43806249999999997 is infeasible\n",
      "INFO:drake:CspaceFreePolytope::BinarySearch(): scale=0.40684374999999995 is infeasible\n"
     ]
    },
    {
     "name": "stdout",
     "output_type": "stream",
     "text": [
      "starting seedpoint 28/36\n"
     ]
    },
    {
     "name": "stderr",
     "output_type": "stream",
     "text": [
      "INFO:drake:CspaceFreePolytope::BinarySearch(): scale=0.5005 is feasible\n",
      "INFO:drake:CspaceFreePolytope::BinarySearch(): scale=0.75025 is infeasible\n",
      "INFO:drake:CspaceFreePolytope::BinarySearch(): scale=0.625375 is infeasible\n",
      "INFO:drake:CspaceFreePolytope::BinarySearch(): scale=0.5629375 is feasible\n",
      "INFO:drake:CspaceFreePolytope::BinarySearch(): scale=0.5941562499999999 is infeasible\n"
     ]
    },
    {
     "name": "stdout",
     "output_type": "stream",
     "text": [
      "starting seedpoint 29/36\n"
     ]
    },
    {
     "name": "stderr",
     "output_type": "stream",
     "text": [
      "INFO:drake:CspaceFreePolytope::BinarySearch(): scale=0.5005 is infeasible\n",
      "INFO:drake:CspaceFreePolytope::BinarySearch(): scale=0.25075 is feasible\n",
      "INFO:drake:CspaceFreePolytope::BinarySearch(): scale=0.375625 is feasible\n",
      "INFO:drake:CspaceFreePolytope::BinarySearch(): scale=0.43806249999999997 is infeasible\n",
      "INFO:drake:CspaceFreePolytope::BinarySearch(): scale=0.40684374999999995 is infeasible\n"
     ]
    },
    {
     "name": "stdout",
     "output_type": "stream",
     "text": [
      "starting seedpoint 30/36\n"
     ]
    },
    {
     "name": "stderr",
     "output_type": "stream",
     "text": [
      "INFO:drake:CspaceFreePolytope::BinarySearch(): scale=0.5005 is feasible\n",
      "INFO:drake:CspaceFreePolytope::BinarySearch(): scale=0.75025 is infeasible\n",
      "INFO:drake:CspaceFreePolytope::BinarySearch(): scale=0.625375 is feasible\n",
      "INFO:drake:CspaceFreePolytope::BinarySearch(): scale=0.6878124999999999 is infeasible\n",
      "INFO:drake:CspaceFreePolytope::BinarySearch(): scale=0.65659375 is feasible\n"
     ]
    },
    {
     "name": "stdout",
     "output_type": "stream",
     "text": [
      "starting seedpoint 31/36\n"
     ]
    },
    {
     "name": "stderr",
     "output_type": "stream",
     "text": [
      "INFO:drake:CspaceFreePolytope::BinarySearch(): scale=0.5005 is infeasible\n",
      "INFO:drake:CspaceFreePolytope::BinarySearch(): scale=0.25075 is feasible\n",
      "INFO:drake:CspaceFreePolytope::BinarySearch(): scale=0.375625 is infeasible\n",
      "INFO:drake:CspaceFreePolytope::BinarySearch(): scale=0.31318749999999995 is feasible\n",
      "INFO:drake:CspaceFreePolytope::BinarySearch(): scale=0.34440624999999997 is infeasible\n"
     ]
    },
    {
     "name": "stdout",
     "output_type": "stream",
     "text": [
      "starting seedpoint 32/36\n"
     ]
    },
    {
     "name": "stderr",
     "output_type": "stream",
     "text": [
      "INFO:drake:CspaceFreePolytope::BinarySearch(): scale=0.5005 is feasible\n",
      "INFO:drake:CspaceFreePolytope::BinarySearch(): scale=0.75025 is infeasible\n",
      "INFO:drake:CspaceFreePolytope::BinarySearch(): scale=0.625375 is feasible\n",
      "INFO:drake:CspaceFreePolytope::BinarySearch(): scale=0.6878124999999999 is feasible\n",
      "INFO:drake:CspaceFreePolytope::BinarySearch(): scale=0.71903125 is feasible\n"
     ]
    },
    {
     "name": "stdout",
     "output_type": "stream",
     "text": [
      "starting seedpoint 33/36\n"
     ]
    },
    {
     "name": "stderr",
     "output_type": "stream",
     "text": [
      "INFO:drake:CspaceFreePolytope::BinarySearch(): scale=0.5005 is infeasible\n",
      "INFO:drake:CspaceFreePolytope::BinarySearch(): scale=0.25075 is feasible\n",
      "INFO:drake:CspaceFreePolytope::BinarySearch(): scale=0.375625 is infeasible\n",
      "INFO:drake:CspaceFreePolytope::BinarySearch(): scale=0.31318749999999995 is infeasible\n",
      "INFO:drake:CspaceFreePolytope::BinarySearch(): scale=0.28196875 is infeasible\n"
     ]
    },
    {
     "name": "stdout",
     "output_type": "stream",
     "text": [
      "starting seedpoint 34/36\n"
     ]
    },
    {
     "name": "stderr",
     "output_type": "stream",
     "text": [
      "INFO:drake:CspaceFreePolytope::BinarySearch(): scale=0.5005 is feasible\n",
      "INFO:drake:CspaceFreePolytope::BinarySearch(): scale=0.75025 is infeasible\n",
      "INFO:drake:CspaceFreePolytope::BinarySearch(): scale=0.625375 is feasible\n",
      "INFO:drake:CspaceFreePolytope::BinarySearch(): scale=0.6878124999999999 is feasible\n",
      "INFO:drake:CspaceFreePolytope::BinarySearch(): scale=0.71903125 is feasible\n"
     ]
    },
    {
     "name": "stdout",
     "output_type": "stream",
     "text": [
      "starting seedpoint 35/36\n"
     ]
    },
    {
     "name": "stderr",
     "output_type": "stream",
     "text": [
      "INFO:drake:CspaceFreePolytope::BinarySearch(): scale=0.5005 is infeasible\n",
      "INFO:drake:CspaceFreePolytope::BinarySearch(): scale=0.25075 is feasible\n",
      "INFO:drake:CspaceFreePolytope::BinarySearch(): scale=0.375625 is infeasible\n",
      "INFO:drake:CspaceFreePolytope::BinarySearch(): scale=0.31318749999999995 is feasible\n",
      "INFO:drake:CspaceFreePolytope::BinarySearch(): scale=0.34440624999999997 is infeasible\n"
     ]
    },
    {
     "name": "stdout",
     "output_type": "stream",
     "text": [
      "starting seedpoint 36/36\n"
     ]
    },
    {
     "name": "stderr",
     "output_type": "stream",
     "text": [
      "INFO:drake:CspaceFreePolytope::BinarySearch(): scale=0.5005 is feasible\n",
      "INFO:drake:CspaceFreePolytope::BinarySearch(): scale=0.75025 is infeasible\n",
      "INFO:drake:CspaceFreePolytope::BinarySearch(): scale=0.625375 is feasible\n",
      "INFO:drake:CspaceFreePolytope::BinarySearch(): scale=0.6878124999999999 is infeasible\n",
      "INFO:drake:CspaceFreePolytope::BinarySearch(): scale=0.65659375 is feasible\n"
     ]
    }
   ],
   "source": [
    "binary_search_options_for_iris = CspaceFreePolytope.BinarySearchOptions()\n",
    "binary_search_options_for_iris.scale_max = 1.0 # it is highly unlikely that the regions can grow\n",
    "binary_search_options_for_iris.scale_min = 1e-3\n",
    "# binary_search_options_for_iris.find_lagrangian_options = find_separation_certificate_given_polytope_options\n",
    "binary_search_options_for_iris.max_iter = 5\n",
    "binary_search_options_for_iris.find_lagrangian_options.verbose = False\n",
    "# binary_search_region_certificates_for_iris = dict.fromkeys([tuple(s) for s in seed_points])\n",
    "certified_regions = []\n",
    "certificates = []\n",
    "times_per_region = []\n",
    "\n",
    "for i, initial_region in enumerate(regions):\n",
    "    print(f\"starting seedpoint {i+1}/{len(regions)}\")\n",
    "    time.sleep(0.2)    \n",
    "    t_start = time.perf_counter()\n",
    "    cert = cspace_free_polytope.BinarySearch(set(),\n",
    "                                                    initial_region.A(),\n",
    "                                                    initial_region.b(), \n",
    "                                                    initial_region.MaximumVolumeInscribedEllipsoid().center(), \n",
    "                                                    binary_search_options_for_iris)\n",
    "    t_end = time.perf_counter()\n",
    "    times_per_region.append(t_end - t_start)\n",
    "    if cert is not None:\n",
    "        certified_regions.append(cert.certified_polytope)\n",
    "        certificates.append(cert)"
   ]
  },
  {
   "cell_type": "code",
   "execution_count": 39,
   "metadata": {},
   "outputs": [
    {
     "name": "stdout",
     "output_type": "stream",
     "text": [
      "36\n",
      "36\n"
     ]
    }
   ],
   "source": [
    "print(len(regions))\n",
    "print(len(certified_regions))"
   ]
  },
  {
   "cell_type": "code",
   "execution_count": 40,
   "metadata": {},
   "outputs": [
    {
     "name": "stdout",
     "output_type": "stream",
     "text": [
      "Time to generate region 0 =49.758683955005836\n",
      "Time to generate region 1 =59.57303836097708\n",
      "Time to generate region 2 =60.10006710502785\n",
      "Time to generate region 3 =70.00588364800205\n",
      "Time to generate region 4 =40.73014992696699\n",
      "Time to generate region 5 =94.1546504709986\n",
      "Time to generate region 6 =40.3055616110214\n",
      "Time to generate region 7 =41.6998064200161\n",
      "Time to generate region 8 =60.320954421011265\n",
      "Time to generate region 9 =80.77090778300771\n",
      "Time to generate region 10 =110.11396439798409\n",
      "Time to generate region 11 =44.90144319599494\n",
      "Time to generate region 12 =46.01291606295854\n",
      "Time to generate region 13 =107.84709162899526\n",
      "Time to generate region 14 =128.71690056298394\n",
      "Time to generate region 15 =113.63210335501935\n",
      "Time to generate region 16 =124.68484429398086\n",
      "Time to generate region 17 =53.13218654500088\n",
      "Time to generate region 18 =139.29582495300565\n",
      "Time to generate region 19 =150.88921903504524\n",
      "Time to generate region 20 =36.295805580040906\n",
      "Time to generate region 21 =89.94245247298386\n",
      "Time to generate region 22 =116.79730008699698\n",
      "Time to generate region 23 =115.39950044901343\n",
      "Time to generate region 24 =56.1270593960071\n",
      "Time to generate region 25 =90.87530467100441\n",
      "Time to generate region 26 =93.27326256700326\n",
      "Time to generate region 27 =50.54672710597515\n",
      "Time to generate region 28 =86.70976155402604\n",
      "Time to generate region 29 =35.40814166102791\n",
      "Time to generate region 30 =80.14167612302117\n",
      "Time to generate region 31 =91.87890478695044\n",
      "Time to generate region 32 =94.57948727399344\n",
      "Time to generate region 33 =55.91442120797001\n",
      "Time to generate region 34 =63.747483829036355\n",
      "Time to generate region 35 =101.64067778195022\n",
      "Total time = 2875.9241642800043\n"
     ]
    }
   ],
   "source": [
    "for i, t in enumerate(times_per_region):\n",
    "    print(f\"Time to generate region {i} ={times_per_region[i]}\")\n",
    "print(f\"Total time = {sum(times_per_region)}\")"
   ]
  },
  {
   "cell_type": "code",
   "execution_count": 41,
   "metadata": {
    "scrolled": true
   },
   "outputs": [
    {
     "data": {
      "text/plain": [
       "(5, 104)"
      ]
     },
     "execution_count": 41,
     "metadata": {},
     "output_type": "execute_result"
    }
   ],
   "source": [
    "v_region = VPolytope(region)\n",
    "v_region.vertices().shape"
   ]
  },
  {
   "cell_type": "code",
   "execution_count": 42,
   "metadata": {},
   "outputs": [],
   "source": [
    "from pydrake.all import PiecewisePolynomial\n",
    "def generate_walk_around_polytope(h_polytope, num_verts):\n",
    "    v_polytope = VPolytope(h_polytope)\n",
    "    verts_to_visit_index = np.random.randint(0, v_polytope.vertices().shape[1], num_verts)\n",
    "    verts_to_visit = v_polytope.vertices()[:, verts_to_visit_index]\n",
    "#     for i in range(len(verts_to_visit)-1):\n",
    "#         cur_v = verts_to_visit[i]\n",
    "#         next_v = verts_to_visit[i+1]\n",
    "    t_knots = np.linspace(0, 1,  verts_to_visit.shape[1])\n",
    "    lin_traj = PiecewisePolynomial.FirstOrderHold(t_knots, verts_to_visit)\n",
    "    return lin_traj\n",
    "lin_traj = generate_walk_around_polytope(region, 15)"
   ]
  },
  {
   "cell_type": "code",
   "execution_count": 43,
   "metadata": {},
   "outputs": [],
   "source": [
    "def animate_traj_s(traj, steps, runtime, idx_list = None, sleep_time = 0.1):\n",
    "    # loop\n",
    "    idx = 0\n",
    "    going_fwd = True\n",
    "    time_points = np.linspace(0, traj.end_time(), steps)\n",
    "    frame_count = 0\n",
    "    for _ in range(runtime):\n",
    "        # print(idx)\n",
    "        t0 = time.time()\n",
    "        s = traj.value(time_points[idx])\n",
    "        q = Ratfk.ComputeQValue(s, q_star)\n",
    "        ur.plant.SetPositions(plant_context, q)\n",
    "        diagram_context.SetTime(frame_count * 0.01)\n",
    "        ur.diagram.ForcedPublish(diagram_context)\n",
    "        frame_count += 1\n",
    "        if going_fwd:\n",
    "            if idx + 1 < steps:\n",
    "                idx += 1\n",
    "            else:\n",
    "                going_fwd = False\n",
    "                idx -= 1\n",
    "        else:\n",
    "            if idx - 1 >= 0:\n",
    "                idx -= 1\n",
    "            else:\n",
    "                going_fwd = True\n",
    "                idx += 1\n",
    "        t1 = time.time()\n",
    "        pause = sleep_time - (t1 - t0)\n",
    "        if pause > 0:\n",
    "            time.sleep(pause)"
   ]
  },
  {
   "cell_type": "code",
   "execution_count": null,
   "metadata": {},
   "outputs": [],
   "source": []
  },
  {
   "cell_type": "code",
   "execution_count": 47,
   "metadata": {},
   "outputs": [],
   "source": [
    "from random import choice\n",
    "r = choice(certified_regions)\n",
    "lin_traj = generate_walk_around_polytope(r, 15)\n",
    "substeps = 100\n",
    "runtime = substeps\n",
    "animate_traj_s(lin_traj, substeps, runtime)"
   ]
  },
  {
   "cell_type": "code",
   "execution_count": null,
   "metadata": {},
   "outputs": [],
   "source": [
    "# from gcs.bezier import BezierGCS\n",
    "# from gcs.linear import LinearGCS\n",
    "# from pydrake.solvers.mosek import MosekSolver\n",
    "# from pydrake.all import PiecewisePolynomial\n",
    "# from visualization_utils import draw_traj\n",
    "\n",
    "# start = seed_points[0]\n",
    "# end = seed_points[-1]\n",
    "# regions = [r for (r,_) in iris_regions]\n",
    "\n",
    "# l_gcs = LinearGCS(regions)\n",
    "# l_gcs.addSourceTarget(start, end)\n",
    "# l_gcs.setSolver(MosekSolver())\n",
    "# waypoints = l_gcs.SolvePath(True)[0]\n",
    "# t_knots = np.linspace(0, 1,  waypoints.shape[1])\n",
    "# lin_traj = PiecewisePolynomial.FirstOrderHold(t_knots, waypoints)\n",
    "\n",
    "# draw_traj(visualizer.meshcat_cspace, lin_traj, 100)\n"
   ]
  },
  {
   "cell_type": "code",
   "execution_count": null,
   "metadata": {},
   "outputs": [],
   "source": [
    "# substeps = 100\n",
    "# runtime = 2*substeps\n",
    "# # visualizer.animate_traj_s(lin_traj, substeps, runtime)\n",
    "# visualizer.visualizer_task_space.StartRecording()\n",
    "# visualizer.animate_traj_s(lin_traj, substeps, runtime)\n",
    "# visualizer.visualizer_task_space.PublishRecording()\n"
   ]
  },
  {
   "cell_type": "code",
   "execution_count": null,
   "metadata": {},
   "outputs": [],
   "source": [
    "# visualizer.save_meshcats(\"pinball_iiwas\")"
   ]
  },
  {
   "cell_type": "markdown",
   "metadata": {},
   "source": [
    "# Now it is time to play with the visualization! If you open the task space visualizer, we can highlight specific geometries and their separating planes in different regions.\n",
    "## Notice that when regions overlap, we get multiple planes certifying non-collision"
   ]
  },
  {
   "cell_type": "code",
   "execution_count": null,
   "metadata": {},
   "outputs": [],
   "source": [
    "# This plane certifies that the two tips of the flippers don't intersect\n",
    "visualizer.add_plane_indices_of_interest(118)\n",
    "\n",
    "# re-display the sliders for convenience\n",
    "for slider in sliders:\n",
    "    display(slider)"
   ]
  },
  {
   "cell_type": "code",
   "execution_count": null,
   "metadata": {},
   "outputs": [],
   "source": [
    "# Uncomment this cell for an interface for choosing good planes of interest\n",
    "# plane_indices = np.arange(0, len(cspace_free_polytope.separating_planes()))\n",
    "# last_plane_index = 0\n",
    "# cur_plane_index = 0\n",
    "# plane_indices_to_geometries = {v: k for k,v in cspace_free_polytope.map_geometries_to_separating_planes().items()}\n",
    "\n",
    "# while True:\n",
    "#     visualizer.meshcat_task_space.Delete(f\"/plane_{last_plane_index}\")\n",
    "#     geom1, geom2 = plane_indices_to_geometries[cur_plane_index]\n",
    "#     color = Rgba(0,0,1,1)\n",
    "    \n",
    "#     prefix = f\"/plane_{cur_plane_index}\"\n",
    "#     visualizer.highlight_geometry_id(geom1, color, prefix+f\"/{geom1}\")\n",
    "#     visualizer.highlight_geometry_id(geom2, color, prefix+f\"/{geom2}\")\n",
    "#     print(f\"current plane index = {cur_plane_index}\")\n",
    "    \n",
    "#     last_plane_index = cur_plane_index\n",
    "#     valid_key_pressed = False\n",
    "#     while not valid_key_pressed:\n",
    "#         key_press = input(\"Enter d to increase plane_count, a to decrease, and e to exit...\")\n",
    "#         if key_press in [\"a\", \"d\", \"e\"]:\n",
    "#             valid_key_pressed = True\n",
    "#     if key_press == \"a\":\n",
    "#         cur_plane_index = max(cur_plane_index - 1, min(plane_indices))\n",
    "#     elif key_press == \"d\":\n",
    "#         cur_plane_index = min(cur_plane_index + 1, max(plane_indices))\n",
    "#     elif key_press == \"e\":\n",
    "#         break\n",
    "#     print()"
   ]
  },
  {
   "cell_type": "code",
   "execution_count": null,
   "metadata": {},
   "outputs": [],
   "source": [
    "# Uncomment this cell for seeing all the planes associated to a particular geometry id\n",
    "# interesting_geometry = 92\n",
    "# plane_indices = np.arange(0, len(cspace_free_polytope.separating_planes()))\n",
    "# plane_indices_to_geometries = {v: k for k,v in cspace_free_polytope.map_geometries_to_separating_planes().items()}\n",
    "\n",
    "# associated_plane_indices = []\n",
    "# for plane_index, (geom1, geom2) in plane_indices_to_geometries.items():\n",
    "#     if interesting_geometry in (geom1.get_value(), geom2. get_value()):\n",
    "#         associated_plane_indices.append(plane_index)\n",
    "\n",
    "        \n",
    "# last_associated_index_index = 0\n",
    "# cur_associated_index_index = 0\n",
    "\n",
    "# visualizer.clear_plane_indices_of_interest()\n",
    "# while True:\n",
    "#     last_plane_index = associated_plane_indices[last_associated_index_index]\n",
    "#     cur_plane_index = associated_plane_indices[cur_associated_index_index]\n",
    "    \n",
    "#     print(f\"current plane index = {cur_plane_index}\")\n",
    "    \n",
    "#     visualizer.remove_plane_indices_of_interest(last_plane_index)\n",
    "#     visualizer.add_plane_indices_of_interest(cur_plane_index)\n",
    "    \n",
    "#     cur_q = visualizer.plant.GetPositions(visualizer.plant_context)\n",
    "#     visualizer.show_res_q(cur_q)\n",
    "    \n",
    "#     last_associated_index_index = cur_associated_index_index\n",
    "#     valid_key_pressed = False\n",
    "#     while not valid_key_pressed:\n",
    "#         key_press = input(\"Enter d to increase plane_count, a to decrease, and e to exit...\")\n",
    "#         if key_press in [\"a\", \"d\", \"e\"]:\n",
    "#             valid_key_pressed = True\n",
    "#     if key_press == \"a\":\n",
    "#         cur_associated_index_index = max(cur_associated_index_index - 1, min(associated_plane_indices))\n",
    "#     elif key_press == \"d\":\n",
    "#         cur_associated_index_index = min(cur_associated_index_index + 1, max(associated_plane_indices))\n",
    "#     elif key_press == \"e\":\n",
    "#         break\n",
    "#     print()"
   ]
  }
 ],
 "metadata": {
  "interpreter": {
   "hash": "31f2aee4e71d21fbe5cf8b01ff0e069b9275f58929596ceb00d14d90e3e16cd6"
  },
  "kernelspec": {
   "display_name": "Python 3",
   "language": "python",
   "name": "python3"
  },
  "language_info": {
   "codemirror_mode": {
    "name": "ipython",
    "version": 3
   },
   "file_extension": ".py",
   "mimetype": "text/x-python",
   "name": "python",
   "nbconvert_exporter": "python",
   "pygments_lexer": "ipython3",
   "version": "3.8.10"
  }
 },
 "nbformat": 4,
 "nbformat_minor": 2
}
