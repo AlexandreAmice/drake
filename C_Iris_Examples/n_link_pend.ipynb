{
 "cells": [
  {
   "cell_type": "code",
   "execution_count": 1,
   "metadata": {},
   "outputs": [],
   "source": [
    "%load_ext autoreload"
   ]
  },
  {
   "cell_type": "code",
   "execution_count": 2,
   "metadata": {},
   "outputs": [],
   "source": [
    "import numpy as np\n",
    "from functools import partial\n",
    "import visualization_utils as viz_utils\n",
    "from iris_plant_visualizer import IrisPlantVisualizer\n",
    "import ipywidgets as widgets\n",
    "from IPython.display import display\n",
    "from scipy.linalg import block_diag\n",
    "import matplotlib.pyplot as plt\n",
    "from pathlib import Path\n",
    "import os"
   ]
  },
  {
   "cell_type": "code",
   "execution_count": 3,
   "metadata": {},
   "outputs": [],
   "source": [
    "#pydrake imports\n",
    "from pydrake.common import FindResourceOrThrow\n",
    "from pydrake.multibody.parsing import Parser\n",
    "from pydrake.multibody.plant import AddMultibodyPlantSceneGraph\n",
    "from pydrake.systems.framework import DiagramBuilder\n",
    "from pydrake.geometry import Role, GeometrySet, CollisionFilterDeclaration\n",
    "from pydrake.all import RigidTransform, RollPitchYaw, RevoluteJoint\n",
    "from pydrake.all import RotationMatrix,MeshcatVisualizer, StartMeshcat\n",
    "import pydrake.symbolic as sym\n",
    "from pydrake.solvers import MosekSolver, CommonSolverOption, SolverOptions, ScsSolver\n",
    "from pydrake.all import PointCloud, MeshcatVisualizerParams, Role, HalfSpace, CoulombFriction, Box, Rgba, WeldJoint\n",
    "from pydrake.polynomial import Polynomial as PolynomialCommon\n",
    "import time\n",
    "from scipy.spatial.transform import Rotation as sp_rot\n",
    "\n",
    "from pydrake.all import RationalForwardKinematics, ModelInstanceIndex, SpatialInertia, RevoluteJoint, FixedOffsetFrame\n",
    "from pydrake.geometry.optimization import HPolyhedron, Hyperellipsoid\n",
    "from pydrake.geometry.optimization_dev import CspaceFreePath\n"
   ]
  },
  {
   "cell_type": "code",
   "execution_count": 4,
   "metadata": {},
   "outputs": [],
   "source": [
    "import logging\n",
    "drake_logger = logging.getLogger(\"drake\")\n",
    "drake_logger.setLevel(logging.DEBUG)"
   ]
  },
  {
   "cell_type": "markdown",
   "metadata": {},
   "source": [
    "# Build and set up the visualization the plant and the visualization of the C-space obstacle\n",
    "\n",
    "Note that running this cell multiple times will establish multiple meshcat instances which can fill up your memory. It is a good idea to call \"pkill -f meshcat\" from the command line before re-running this cell\n"
   ]
  },
  {
   "cell_type": "code",
   "execution_count": 5,
   "metadata": {},
   "outputs": [
    {
     "name": "stderr",
     "output_type": "stream",
     "text": [
      "DEBUG:drake:FindResource ignoring DRAKE_RESOURCE_ROOT because it is not set.\n",
      "DEBUG:drake:FindRunfile mechanism = RUNFILES_{MANIFEST_FILE,DIR}\n",
      "DEBUG:drake:cwd = \"/home/amice/Documents/coding_projects/drake/C_Iris_Examples\"\n",
      "DEBUG:drake:FindRunfile found by-manifest '/home/amice/Documents/coding_projects/drake/.drake-find_resource-sentinel' (good) and by-directory '/home/amice/.cache/bazel/_bazel_amice/32fdbbecfa8a7ce8feece95e48c42006/execroot/drake/bazel-out/k8-opt/bin/C_Iris_Examples/n_link_pend.runfiles/drake/.drake-find_resource-sentinel' (good)\n",
      "DEBUG:drake:FindRunfile found by-manifest '/home/amice/.cache/bazel/_bazel_amice/32fdbbecfa8a7ce8feece95e48c42006/execroot/drake/bazel-out/k8-opt/bin/geometry/meshcat.js' (good) and by-directory '/home/amice/.cache/bazel/_bazel_amice/32fdbbecfa8a7ce8feece95e48c42006/execroot/drake/bazel-out/k8-opt/bin/C_Iris_Examples/n_link_pend.runfiles/drake/geometry/meshcat.js' (good)\n",
      "DEBUG:drake:FindResource ignoring DRAKE_RESOURCE_ROOT because it is not set.\n",
      "DEBUG:drake:FindRunfile found by-manifest '/home/amice/Documents/coding_projects/drake/.drake-find_resource-sentinel' (good) and by-directory '/home/amice/.cache/bazel/_bazel_amice/32fdbbecfa8a7ce8feece95e48c42006/execroot/drake/bazel-out/k8-opt/bin/C_Iris_Examples/n_link_pend.runfiles/drake/.drake-find_resource-sentinel' (good)\n",
      "DEBUG:drake:FindRunfile found by-manifest '/home/amice/.cache/bazel/_bazel_amice/32fdbbecfa8a7ce8feece95e48c42006/execroot/drake/bazel-out/k8-opt/bin/geometry/stats.min.js' (good) and by-directory '/home/amice/.cache/bazel/_bazel_amice/32fdbbecfa8a7ce8feece95e48c42006/execroot/drake/bazel-out/k8-opt/bin/C_Iris_Examples/n_link_pend.runfiles/drake/geometry/stats.min.js' (good)\n",
      "DEBUG:drake:FindResource ignoring DRAKE_RESOURCE_ROOT because it is not set.\n",
      "DEBUG:drake:FindRunfile found by-manifest '/home/amice/Documents/coding_projects/drake/.drake-find_resource-sentinel' (good) and by-directory '/home/amice/.cache/bazel/_bazel_amice/32fdbbecfa8a7ce8feece95e48c42006/execroot/drake/bazel-out/k8-opt/bin/C_Iris_Examples/n_link_pend.runfiles/drake/.drake-find_resource-sentinel' (good)\n",
      "DEBUG:drake:FindRunfile found by-manifest '/home/amice/.cache/bazel/_bazel_amice/32fdbbecfa8a7ce8feece95e48c42006/execroot/drake/bazel-out/k8-opt/bin/geometry/meshcat.ico' (good) and by-directory '/home/amice/.cache/bazel/_bazel_amice/32fdbbecfa8a7ce8feece95e48c42006/execroot/drake/bazel-out/k8-opt/bin/C_Iris_Examples/n_link_pend.runfiles/drake/geometry/meshcat.ico' (good)\n",
      "DEBUG:drake:FindResource ignoring DRAKE_RESOURCE_ROOT because it is not set.\n",
      "DEBUG:drake:FindRunfile found by-manifest '/home/amice/Documents/coding_projects/drake/.drake-find_resource-sentinel' (good) and by-directory '/home/amice/.cache/bazel/_bazel_amice/32fdbbecfa8a7ce8feece95e48c42006/execroot/drake/bazel-out/k8-opt/bin/C_Iris_Examples/n_link_pend.runfiles/drake/.drake-find_resource-sentinel' (good)\n",
      "DEBUG:drake:FindRunfile found by-manifest '/home/amice/Documents/coding_projects/drake/geometry/meshcat.html' (good) and by-directory '/home/amice/.cache/bazel/_bazel_amice/32fdbbecfa8a7ce8feece95e48c42006/execroot/drake/bazel-out/k8-opt/bin/C_Iris_Examples/n_link_pend.runfiles/drake/geometry/meshcat.html' (good)\n",
      "INFO:drake:Meshcat listening for connections at http://localhost:7000\n"
     ]
    }
   ],
   "source": [
    "meshcat = StartMeshcat()\n",
    "meshcat.Delete()"
   ]
  },
  {
   "cell_type": "code",
   "execution_count": 8,
   "metadata": {},
   "outputs": [],
   "source": [
    "tmp = sp_rot.random().as_euler(\"xyz\")\n",
    "random_rp = np.array([tmp[0],0, tmp[1]])\n",
    "tmp = RotationMatrix(RollPitchYaw(random_rp))"
   ]
  },
  {
   "cell_type": "code",
   "execution_count": null,
   "metadata": {},
   "outputs": [],
   "source": []
  },
  {
   "cell_type": "code",
   "execution_count": 34,
   "metadata": {},
   "outputs": [],
   "source": [
    "meshcat.Delete()\n",
    "builder = DiagramBuilder()\n",
    "plant, scene_graph = AddMultibodyPlantSceneGraph(builder, time_step=0.001)\n",
    "\n",
    "visualizer = MeshcatVisualizer.AddToBuilder(\n",
    "    builder, scene_graph, meshcat)\n",
    "\n",
    "link_dimensions = (0.1, 0.2, 0.001)\n",
    "pendulum_box = Box(*link_dimensions)\n",
    "pendulum_inertia = SpatialInertia.SolidBoxWithDensity(1, *link_dimensions)\n",
    "pendulum_model_instance = plant.AddModelInstance(\"pendulum\")\n",
    "def AddPendulumLink(parent_frame, link_index: int, color = np.array([1,0,0,1])):\n",
    "    link_name = f\"link_{link_index}\"\n",
    "    pend_body = plant.AddRigidBody(link_name, pendulum_model_instance, pendulum_inertia)\n",
    "    parent_to_child_attach_frame = plant.AddFrame(\n",
    "        FixedOffsetFrame(f\"{link_name}_joint_frame\", pend_body.body_frame(), \n",
    "                                  RigidTransform(p = (0,link_dimensions[1]/2, 0)))\n",
    "    )\n",
    "    next_frame = plant.AddFrame(\n",
    "        FixedOffsetFrame(f\"{link_name}_joint_frame\", pend_body.body_frame(), \n",
    "                                  RigidTransform(p = (0,-link_dimensions[1]/2, 0)))\n",
    "    )\n",
    "    # add the revolute joint,\n",
    "    plant.AddJoint(RevoluteJoint(\n",
    "        f\"joint_{link_index}\", parent_frame, parent_to_child_attach_frame, [0,0,1],\n",
    "        -np.pi, np.pi,\n",
    "    )\n",
    "    )\n",
    "    \n",
    "    plant.RegisterCollisionGeometry(pend_body, RigidTransform(),\n",
    "                                    pendulum_box, link_name, CoulombFriction())\n",
    "    plant.RegisterVisualGeometry(pend_body, RigidTransform(),\n",
    "                                pendulum_box, link_name, color)\n",
    "    return next_frame\n",
    "\n",
    "def N_Link_Pendulum(n: int):\n",
    "    assert n > 1\n",
    "    parent_frame = plant.world_frame()\n",
    "    colors = np.array(viz_utils.n_colors(n))/255\n",
    "    colors = np.hstack([colors,np.ones((colors.shape[0],1))])\n",
    "    for i in range(n):\n",
    "        parent_frame = AddPendulumLink(parent_frame, i+1, colors[i])\n",
    "\n",
    "        \n",
    "obstacle_model_instance = plant.AddModelInstance(\"obstacle\")\n",
    "def AddRandomBox(index: int, pos_limits, size_limits, color = [0,0,0,1]):\n",
    "    link_name = f\"obstacle_{index}\"     \n",
    "    \n",
    "    center = np.append(np.random.uniform(pos_limits[0],pos_limits[1], 2),0)\n",
    "    \n",
    "    random_rp = np.zeros(3)\n",
    "    lim = np.pi/10\n",
    "    random_rp[2] = np.random.uniform(-lim, lim)\n",
    "    angle = RotationMatrix(RollPitchYaw(random_rp))\n",
    "    \n",
    "    pose = RigidTransform(p=center)@RigidTransform(R=angle)\n",
    "    \n",
    "    dimensions = np.append(np.random.uniform(size_limits[0],size_limits[1],2),0.001)\n",
    "    box = Box(*dimensions)\n",
    "    inertia = SpatialInertia.SolidBoxWithDensity(1, *dimensions)\n",
    "    \n",
    "    body = plant.AddRigidBody(link_name, obstacle_model_instance, inertia)\n",
    "    plant.AddJoint(WeldJoint(link_name, plant.world_frame(), body.body_frame(),\n",
    "                            pose))\n",
    "    plant.RegisterCollisionGeometry(body, RigidTransform(),\n",
    "                                    box, link_name, CoulombFriction())\n",
    "    plant.RegisterVisualGeometry(body, RigidTransform(),\n",
    "                                box, link_name, color)\n",
    "\n",
    "def AddNRandomBoxes(n: int, pos_limits=(-10,10), size_limits = (0.1,1), color= [0,0,0,1]):\n",
    "    assert n > 1\n",
    "    for i in range(n):\n",
    "        AddRandomBox(i, pos_limits, size_limits, color)\n",
    "\n",
    "# child_frame = AddPendulumLink(plant.world_frame(), 1)\n",
    "num_pend = 10\n",
    "N_Link_Pendulum(num_pend)\n",
    "\n",
    "num_obstacles = 10\n",
    "obstacle_pos_limits = link_dimensions[1]*num_pend*np.array([-1,1])\n",
    "obstacle_size_limits = (0.01,0.5)\n",
    "AddNRandomBoxes(num_obstacles, obstacle_pos_limits, obstacle_size_limits)\n",
    "\n",
    "plant.Finalize()\n",
    "\n",
    "meshcat.Set2dRenderMode(RigidTransform(p=np.array([0,0,1])))\n",
    "\n",
    "diagram = builder.Build()\n",
    "diagram_context = diagram.CreateDefaultContext()\n",
    "plant_context = diagram.GetMutableSubsystemContext(plant, diagram_context)\n",
    "scene_graph_context = diagram.GetMutableSubsystemContext(scene_graph, diagram_context)\n",
    "query_port = scene_graph.get_query_output_port()\n",
    "diagram.ForcedPublish(diagram_context)"
   ]
  },
  {
   "cell_type": "markdown",
   "metadata": {},
   "source": [
    "## Set up the sliders so we can move the plant around manually"
   ]
  },
  {
   "cell_type": "code",
   "execution_count": 21,
   "metadata": {
    "scrolled": false
   },
   "outputs": [
    {
     "data": {
      "application/vnd.jupyter.widget-view+json": {
       "model_id": "6c5e352f542e4d3dae7cadd51301a665",
       "version_major": 2,
       "version_minor": 0
      },
      "text/plain": [
       "FloatSlider(value=0.0, description='q0', max=3.141592653589793, min=-3.141592653589793)"
      ]
     },
     "metadata": {},
     "output_type": "display_data"
    },
    {
     "data": {
      "application/vnd.jupyter.widget-view+json": {
       "model_id": "1e189a6bd9dc4a5ca11fc607aede8c99",
       "version_major": 2,
       "version_minor": 0
      },
      "text/plain": [
       "FloatSlider(value=0.0, description='q1', max=3.141592653589793, min=-3.141592653589793)"
      ]
     },
     "metadata": {},
     "output_type": "display_data"
    },
    {
     "data": {
      "application/vnd.jupyter.widget-view+json": {
       "model_id": "d5c673c8d21e45eba33b10d0b351009d",
       "version_major": 2,
       "version_minor": 0
      },
      "text/plain": [
       "FloatSlider(value=0.0, description='q2', max=3.141592653589793, min=-3.141592653589793)"
      ]
     },
     "metadata": {},
     "output_type": "display_data"
    },
    {
     "data": {
      "application/vnd.jupyter.widget-view+json": {
       "model_id": "dbf3bac503eb4dd9872c9b463c6ec734",
       "version_major": 2,
       "version_minor": 0
      },
      "text/plain": [
       "FloatSlider(value=0.0, description='q3', max=3.141592653589793, min=-3.141592653589793)"
      ]
     },
     "metadata": {},
     "output_type": "display_data"
    },
    {
     "data": {
      "application/vnd.jupyter.widget-view+json": {
       "model_id": "d6e5419b61c94f4eba549982c2f17798",
       "version_major": 2,
       "version_minor": 0
      },
      "text/plain": [
       "FloatSlider(value=0.0, description='q4', max=3.141592653589793, min=-3.141592653589793)"
      ]
     },
     "metadata": {},
     "output_type": "display_data"
    },
    {
     "data": {
      "application/vnd.jupyter.widget-view+json": {
       "model_id": "9bf0c9733e17459f95f99cf61234c196",
       "version_major": 2,
       "version_minor": 0
      },
      "text/plain": [
       "FloatSlider(value=0.0, description='q5', max=3.141592653589793, min=-3.141592653589793)"
      ]
     },
     "metadata": {},
     "output_type": "display_data"
    },
    {
     "data": {
      "application/vnd.jupyter.widget-view+json": {
       "model_id": "9044e11314e74ff3a98dbef3f73ba911",
       "version_major": 2,
       "version_minor": 0
      },
      "text/plain": [
       "FloatSlider(value=0.0, description='q6', max=3.141592653589793, min=-3.141592653589793)"
      ]
     },
     "metadata": {},
     "output_type": "display_data"
    },
    {
     "data": {
      "application/vnd.jupyter.widget-view+json": {
       "model_id": "23eac0a3d6ce407189668cbce4b79ff3",
       "version_major": 2,
       "version_minor": 0
      },
      "text/plain": [
       "FloatSlider(value=0.0, description='q7', max=3.141592653589793, min=-3.141592653589793)"
      ]
     },
     "metadata": {},
     "output_type": "display_data"
    },
    {
     "data": {
      "application/vnd.jupyter.widget-view+json": {
       "model_id": "6128e147b90f439891ece62579e93d36",
       "version_major": 2,
       "version_minor": 0
      },
      "text/plain": [
       "FloatSlider(value=0.0, description='q8', max=3.141592653589793, min=-3.141592653589793)"
      ]
     },
     "metadata": {},
     "output_type": "display_data"
    },
    {
     "data": {
      "application/vnd.jupyter.widget-view+json": {
       "model_id": "465ca15ce6b14a2585b5c27e70468d94",
       "version_major": 2,
       "version_minor": 0
      },
      "text/plain": [
       "FloatSlider(value=0.0, description='q9', max=3.141592653589793, min=-3.141592653589793)"
      ]
     },
     "metadata": {},
     "output_type": "display_data"
    }
   ],
   "source": [
    "sliders = []\n",
    "for i in range(plant.num_positions()):\n",
    "    sliders.append(widgets.FloatSlider(min=plant.GetPositionLowerLimits()[i],\n",
    "                                       max=plant.GetPositionUpperLimits()[i], \n",
    "                                       value=0.0, description=f'q{i}'))\n",
    "# sliders.append(widgets.FloatSlider(min=q_low[2], max=q_high[2], value=0, description='q2'))\n",
    "\n",
    "q = np.zeros(plant.num_positions())\n",
    "def handle_slider_change(change, idx):\n",
    "    q[idx] = change['new']\n",
    "    plant.SetPositions(plant_context, q)\n",
    "    diagram.ForcedPublish(diagram_context)\n",
    "    \n",
    "idx = 0\n",
    "for slider in sliders:\n",
    "    slider.observe(partial(handle_slider_change, idx = idx), names='value')\n",
    "    idx+=1\n",
    "\n",
    "for slider in sliders:\n",
    "    display(slider)\n",
    "\n",
    "\n",
    "# visualizer.jupyter_cell()"
   ]
  },
  {
   "cell_type": "code",
   "execution_count": 5,
   "metadata": {},
   "outputs": [
    {
     "name": "stderr",
     "output_type": "stream",
     "text": [
      "DEBUG:drake:FindResource ignoring DRAKE_RESOURCE_ROOT because it is not set.\n",
      "DEBUG:drake:FindRunfile mechanism = RUNFILES_{MANIFEST_FILE,DIR}\n",
      "DEBUG:drake:cwd = \"/home/amice/Documents/coding_projects/drake/C_Iris_Examples\"\n",
      "DEBUG:drake:FindRunfile found by-manifest '/home/amice/Documents/coding_projects/drake/.drake-find_resource-sentinel' (good) and by-directory '/home/amice/.cache/bazel/_bazel_amice/32fdbbecfa8a7ce8feece95e48c42006/execroot/drake/bazel-out/k8-opt/bin/C_Iris_Examples/7dof_iiwas_prm_certify.runfiles/drake/.drake-find_resource-sentinel' (good)\n",
      "DEBUG:drake:FindRunfile found by-manifest '/home/amice/Documents/coding_projects/drake/manipulation/models/iiwa_description/iiwa7/iiwa7_with_box_collision.sdf' (good) and by-directory '/home/amice/.cache/bazel/_bazel_amice/32fdbbecfa8a7ce8feece95e48c42006/execroot/drake/bazel-out/k8-opt/bin/C_Iris_Examples/7dof_iiwas_prm_certify.runfiles/drake/manipulation/models/iiwa_description/iiwa7/iiwa7_with_box_collision.sdf' (good)\n",
      "DEBUG:drake:FindResource ignoring DRAKE_RESOURCE_ROOT because it is not set.\n",
      "DEBUG:drake:FindRunfile found by-manifest '/home/amice/Documents/coding_projects/drake/.drake-find_resource-sentinel' (good) and by-directory '/home/amice/.cache/bazel/_bazel_amice/32fdbbecfa8a7ce8feece95e48c42006/execroot/drake/bazel-out/k8-opt/bin/C_Iris_Examples/7dof_iiwas_prm_certify.runfiles/drake/.drake-find_resource-sentinel' (good)\n",
      "DEBUG:drake:FindRunfile found by-manifest '/home/amice/Documents/coding_projects/drake/C_Iris_Examples/assets/shelves.sdf' (good) and by-directory '/home/amice/.cache/bazel/_bazel_amice/32fdbbecfa8a7ce8feece95e48c42006/execroot/drake/bazel-out/k8-opt/bin/C_Iris_Examples/7dof_iiwas_prm_certify.runfiles/drake/C_Iris_Examples/assets/shelves.sdf' (good)\n",
      "DEBUG:drake:FindResource ignoring DRAKE_RESOURCE_ROOT because it is not set.\n",
      "DEBUG:drake:FindRunfile found by-manifest '/home/amice/Documents/coding_projects/drake/.drake-find_resource-sentinel' (good) and by-directory '/home/amice/.cache/bazel/_bazel_amice/32fdbbecfa8a7ce8feece95e48c42006/execroot/drake/bazel-out/k8-opt/bin/C_Iris_Examples/7dof_iiwas_prm_certify.runfiles/drake/.drake-find_resource-sentinel' (good)\n",
      "DEBUG:drake:FindRunfile found by-manifest '/home/amice/Documents/coding_projects/drake/package.xml' (good) and by-directory '/home/amice/.cache/bazel/_bazel_amice/32fdbbecfa8a7ce8feece95e48c42006/execroot/drake/bazel-out/k8-opt/bin/C_Iris_Examples/7dof_iiwas_prm_certify.runfiles/drake/package.xml' (good)\n",
      "DEBUG:drake:FindResource ignoring DRAKE_RESOURCE_ROOT because it is not set.\n",
      "DEBUG:drake:FindRunfile found by-manifest '/home/amice/Documents/coding_projects/drake/.drake-find_resource-sentinel' (good) and by-directory '/home/amice/.cache/bazel/_bazel_amice/32fdbbecfa8a7ce8feece95e48c42006/execroot/drake/bazel-out/k8-opt/bin/C_Iris_Examples/7dof_iiwas_prm_certify.runfiles/drake/.drake-find_resource-sentinel' (good)\n",
      "DEBUG:drake:FindRunfile found by-manifest '/home/amice/.cache/bazel/_bazel_amice/32fdbbecfa8a7ce8feece95e48c42006/execroot/drake/bazel-out/k8-opt/bin/multibody/parsing/drake_models.json' (good) and by-directory '/home/amice/.cache/bazel/_bazel_amice/32fdbbecfa8a7ce8feece95e48c42006/execroot/drake/bazel-out/k8-opt/bin/C_Iris_Examples/7dof_iiwas_prm_certify.runfiles/drake/multibody/parsing/drake_models.json' (good)\n",
      "DEBUG:drake:FindRunfile found by-manifest '/home/amice/.cache/bazel/_bazel_amice/32fdbbecfa8a7ce8feece95e48c42006/external/drake_models/package.xml' (good) and by-directory '/home/amice/.cache/bazel/_bazel_amice/32fdbbecfa8a7ce8feece95e48c42006/execroot/drake/bazel-out/k8-opt/bin/C_Iris_Examples/7dof_iiwas_prm_certify.runfiles/drake_models/package.xml' (good)\n",
      "DEBUG:drake:FindResource ignoring DRAKE_RESOURCE_ROOT because it is not set.\n",
      "DEBUG:drake:FindRunfile found by-manifest '/home/amice/Documents/coding_projects/drake/.drake-find_resource-sentinel' (good) and by-directory '/home/amice/.cache/bazel/_bazel_amice/32fdbbecfa8a7ce8feece95e48c42006/execroot/drake/bazel-out/k8-opt/bin/C_Iris_Examples/7dof_iiwas_prm_certify.runfiles/drake/.drake-find_resource-sentinel' (good)\n",
      "DEBUG:drake:FindRunfile found by-manifest '/home/amice/Documents/coding_projects/drake/package.xml' (good) and by-directory '/home/amice/.cache/bazel/_bazel_amice/32fdbbecfa8a7ce8feece95e48c42006/execroot/drake/bazel-out/k8-opt/bin/C_Iris_Examples/7dof_iiwas_prm_certify.runfiles/drake/package.xml' (good)\n",
      "DEBUG:drake:FindRunfile found by-manifest '/home/amice/.cache/bazel/_bazel_amice/32fdbbecfa8a7ce8feece95e48c42006/external/drake_models/package.xml' (good) and by-directory '/home/amice/.cache/bazel/_bazel_amice/32fdbbecfa8a7ce8feece95e48c42006/execroot/drake/bazel-out/k8-opt/bin/C_Iris_Examples/7dof_iiwas_prm_certify.runfiles/drake_models/package.xml' (good)\n",
      "DEBUG:drake:SDFormat Dbg [parser.cc:983] Converting a deprecated source[/home/amice/.cache/bazel/_bazel_amice/32fdbbecfa8a7ce8feece95e48c42006/execroot/drake/bazel-out/k8-opt/bin/C_Iris_Examples/7dof_iiwas_prm_certify.runfiles/drake/manipulation/models/iiwa_description/iiwa7/iiwa7_with_box_collision.sdf].\n",
      "DEBUG:drake:SDFormat Dbg [Converter.cc:117] Version[1.7] to Version[1.10]\n",
      "  Please use the gz sdf tool to update your SDF files.\n",
      "    $ gz sdf -c [sdf_file]\n",
      "DEBUG:drake:FindResource ignoring DRAKE_RESOURCE_ROOT because it is not set.\n",
      "DEBUG:drake:FindRunfile found by-manifest '/home/amice/Documents/coding_projects/drake/.drake-find_resource-sentinel' (good) and by-directory '/home/amice/.cache/bazel/_bazel_amice/32fdbbecfa8a7ce8feece95e48c42006/execroot/drake/bazel-out/k8-opt/bin/C_Iris_Examples/7dof_iiwas_prm_certify.runfiles/drake/.drake-find_resource-sentinel' (good)\n",
      "DEBUG:drake:FindRunfile found by-manifest '/home/amice/Documents/coding_projects/drake/package.xml' (good) and by-directory '/home/amice/.cache/bazel/_bazel_amice/32fdbbecfa8a7ce8feece95e48c42006/execroot/drake/bazel-out/k8-opt/bin/C_Iris_Examples/7dof_iiwas_prm_certify.runfiles/drake/package.xml' (good)\n",
      "DEBUG:drake:FindRunfile found by-manifest '/home/amice/.cache/bazel/_bazel_amice/32fdbbecfa8a7ce8feece95e48c42006/external/drake_models/package.xml' (good) and by-directory '/home/amice/.cache/bazel/_bazel_amice/32fdbbecfa8a7ce8feece95e48c42006/execroot/drake/bazel-out/k8-opt/bin/C_Iris_Examples/7dof_iiwas_prm_certify.runfiles/drake_models/package.xml' (good)\n",
      "DEBUG:drake:SDFormat Dbg [parser.cc:983] Converting a deprecated source[/home/amice/.cache/bazel/_bazel_amice/32fdbbecfa8a7ce8feece95e48c42006/execroot/drake/bazel-out/k8-opt/bin/C_Iris_Examples/7dof_iiwas_prm_certify.runfiles/drake/C_Iris_Examples/assets/shelves.sdf].\n",
      "DEBUG:drake:SDFormat Dbg [Converter.cc:117] Version[1.7] to Version[1.10]\n",
      "  Please use the gz sdf tool to update your SDF files.\n",
      "    $ gz sdf -c [sdf_file]\n",
      "DEBUG:drake:FindResource ignoring DRAKE_RESOURCE_ROOT because it is not set.\n",
      "DEBUG:drake:FindRunfile found by-manifest '/home/amice/Documents/coding_projects/drake/.drake-find_resource-sentinel' (good) and by-directory '/home/amice/.cache/bazel/_bazel_amice/32fdbbecfa8a7ce8feece95e48c42006/execroot/drake/bazel-out/k8-opt/bin/C_Iris_Examples/7dof_iiwas_prm_certify.runfiles/drake/.drake-find_resource-sentinel' (good)\n",
      "DEBUG:drake:FindRunfile found by-manifest '/home/amice/.cache/bazel/_bazel_amice/32fdbbecfa8a7ce8feece95e48c42006/execroot/drake/bazel-out/k8-opt/bin/geometry/meshcat.js' (good) and by-directory '/home/amice/.cache/bazel/_bazel_amice/32fdbbecfa8a7ce8feece95e48c42006/execroot/drake/bazel-out/k8-opt/bin/C_Iris_Examples/7dof_iiwas_prm_certify.runfiles/drake/geometry/meshcat.js' (good)\n",
      "DEBUG:drake:FindResource ignoring DRAKE_RESOURCE_ROOT because it is not set.\n",
      "DEBUG:drake:FindRunfile found by-manifest '/home/amice/Documents/coding_projects/drake/.drake-find_resource-sentinel' (good) and by-directory '/home/amice/.cache/bazel/_bazel_amice/32fdbbecfa8a7ce8feece95e48c42006/execroot/drake/bazel-out/k8-opt/bin/C_Iris_Examples/7dof_iiwas_prm_certify.runfiles/drake/.drake-find_resource-sentinel' (good)\n",
      "DEBUG:drake:FindRunfile found by-manifest '/home/amice/.cache/bazel/_bazel_amice/32fdbbecfa8a7ce8feece95e48c42006/execroot/drake/bazel-out/k8-opt/bin/geometry/stats.min.js' (good) and by-directory '/home/amice/.cache/bazel/_bazel_amice/32fdbbecfa8a7ce8feece95e48c42006/execroot/drake/bazel-out/k8-opt/bin/C_Iris_Examples/7dof_iiwas_prm_certify.runfiles/drake/geometry/stats.min.js' (good)\n"
     ]
    },
    {
     "name": "stderr",
     "output_type": "stream",
     "text": [
      "DEBUG:drake:FindResource ignoring DRAKE_RESOURCE_ROOT because it is not set.\n",
      "DEBUG:drake:FindRunfile found by-manifest '/home/amice/Documents/coding_projects/drake/.drake-find_resource-sentinel' (good) and by-directory '/home/amice/.cache/bazel/_bazel_amice/32fdbbecfa8a7ce8feece95e48c42006/execroot/drake/bazel-out/k8-opt/bin/C_Iris_Examples/7dof_iiwas_prm_certify.runfiles/drake/.drake-find_resource-sentinel' (good)\n",
      "DEBUG:drake:FindRunfile found by-manifest '/home/amice/.cache/bazel/_bazel_amice/32fdbbecfa8a7ce8feece95e48c42006/execroot/drake/bazel-out/k8-opt/bin/geometry/meshcat.ico' (good) and by-directory '/home/amice/.cache/bazel/_bazel_amice/32fdbbecfa8a7ce8feece95e48c42006/execroot/drake/bazel-out/k8-opt/bin/C_Iris_Examples/7dof_iiwas_prm_certify.runfiles/drake/geometry/meshcat.ico' (good)\n",
      "DEBUG:drake:FindResource ignoring DRAKE_RESOURCE_ROOT because it is not set.\n",
      "DEBUG:drake:FindRunfile found by-manifest '/home/amice/Documents/coding_projects/drake/.drake-find_resource-sentinel' (good) and by-directory '/home/amice/.cache/bazel/_bazel_amice/32fdbbecfa8a7ce8feece95e48c42006/execroot/drake/bazel-out/k8-opt/bin/C_Iris_Examples/7dof_iiwas_prm_certify.runfiles/drake/.drake-find_resource-sentinel' (good)\n",
      "DEBUG:drake:FindRunfile found by-manifest '/home/amice/Documents/coding_projects/drake/geometry/meshcat.html' (good) and by-directory '/home/amice/.cache/bazel/_bazel_amice/32fdbbecfa8a7ce8feece95e48c42006/execroot/drake/bazel-out/k8-opt/bin/C_Iris_Examples/7dof_iiwas_prm_certify.runfiles/drake/geometry/meshcat.html' (good)\n",
      "INFO:drake:Meshcat listening for connections at http://localhost:7001\n"
     ]
    }
   ],
   "source": [
    "builder = DiagramBuilder()\n",
    "plant, scene_graph = AddMultibodyPlantSceneGraph(builder, time_step=0.001)\n",
    "model_file = FindResourceOrThrow(\"drake/manipulation/models/iiwa_description/iiwa7/iiwa7_with_box_collision.sdf\")\n",
    "box_file = FindResourceOrThrow(\"drake/C_Iris_Examples/assets/shelves.sdf\")\n",
    "\n",
    "\n",
    "parser = Parser(plant)\n",
    "\n",
    "height = 0.1\n",
    "ground_box = Box(10,10,0.1)\n",
    "ground_offset = RigidTransform(p=[0,0,-height/2])\n",
    "friction = CoulombFriction(1,1)\n",
    "ground_collision = plant.RegisterCollisionGeometry(\n",
    "    plant.world_body(), ground_offset, ground_box, \"ground_col\", friction\n",
    ")\n",
    "ground_visual = plant.RegisterVisualGeometry(\n",
    "    plant.world_body(), ground_offset, ground_box, \"ground\", [1,0,0,0]\n",
    ")\n",
    "\n",
    "\n",
    "models = []\n",
    "models.append(Parser(plant, scene_graph).AddModelFromFile(model_file))\n",
    "models.append(Parser(plant, scene_graph).AddModelFromFile(box_file))\n",
    "\n",
    "sp = 0.0\n",
    "x_fac = 0.75\n",
    "locs = [ [0,0,0], \n",
    "        [x_fac, 1.4*sp,0.4], [x_fac,-1.4*sp,0.4], [-x_fac,-1.4*sp,0.4], [-x_fac,1.4,0.4], \n",
    "        [0.0 ,0 , 0.95], [0.0 ,0 , -0.05]] \n",
    "idx = 0\n",
    "for model in models:\n",
    "    plant.WeldFrames(plant.world_frame(), plant.get_body(plant.GetBodyIndices(model)[0]).body_frame(),\n",
    "                     RigidTransform(locs[idx]))\n",
    "    idx +=1\n",
    "\n",
    "\n",
    "plant.Finalize()\n",
    "\n",
    "\n",
    "        \n",
    "# construct the RationalForwardKinematics of this plant. This object handles the\n",
    "# computations for the forward kinematics in the tangent-configuration space\n",
    "Ratfk = RationalForwardKinematics(plant)\n",
    "\n",
    "# the point about which we will take the stereographic projections\n",
    "q_star = np.zeros(plant.num_positions())\n",
    "\n",
    "do_viz = True\n",
    "\n",
    "\n",
    "diagram = builder.Build()\n",
    "diagram_context = diagram.CreateDefaultContext()\n",
    "plant_context = diagram.GetMutableSubsystemContext(plant, diagram_context)\n",
    "scene_graph_context = diagram.GetMutableSubsystemContext(scene_graph, diagram_context)\n",
    "query_port = scene_graph.get_query_output_port()\n",
    "diagram.ForcedPublish(diagram_context)"
   ]
  },
  {
   "cell_type": "code",
   "execution_count": null,
   "metadata": {},
   "outputs": [],
   "source": []
  },
  {
   "cell_type": "code",
   "execution_count": null,
   "metadata": {},
   "outputs": [],
   "source": []
  },
  {
   "cell_type": "code",
   "execution_count": 6,
   "metadata": {},
   "outputs": [
    {
     "name": "stdout",
     "output_type": "stream",
     "text": [
      "[[ -1.          -1.7320606    0.          -1.7320606  -11.43007018\n",
      "   -1.7320606    0.        ]\n",
      " [  1.           1.7320606   11.43007018   1.7320606   11.43007018\n",
      "    1.7320606    0.        ]]\n"
     ]
    }
   ],
   "source": [
    "#compute limits in s-space\n",
    "limits_s = []\n",
    "lower_q = plant.GetPositionLowerLimits()\n",
    "upper_q = plant.GetPositionUpperLimits()\n",
    "\n",
    "lower_q[0] = -np.pi/2\n",
    "upper_q[0] = np.pi/2\n",
    "\n",
    "lower_q[-1] = 0\n",
    "upper_q[-1] = 0\n",
    "\n",
    "lower_q[2] = 0\n",
    "\n",
    "for q in [lower_q,upper_q]:\n",
    "    limits_s.append(Ratfk.ComputeSValue(np.array(q), q_star))\n",
    "limits_s = np.array(limits_s)\n",
    "print(limits_s)"
   ]
  },
  {
   "cell_type": "code",
   "execution_count": 7,
   "metadata": {},
   "outputs": [],
   "source": [
    "from pydrake.all import InverseKinematics\n",
    "ik = InverseKinematics(plant, diagram.GetMutableSubsystemContext(plant, diagram_context))\n",
    "min_dist = 1e-5\n",
    "collision_constraint = ik.AddMinimumDistanceConstraint(\n",
    "            min_dist, 1e-5)\n",
    "diagram_col_context = diagram.CreateDefaultContext()\n",
    "plant_col_context = diagram.GetMutableSubsystemContext(plant, diagram_col_context)\n",
    "scene_graph_col_context = diagram.GetMutableSubsystemContext(scene_graph, diagram_col_context)\n",
    "def check_collision_q_by_ik(q, min_dist=1e-5):\n",
    "    if np.all(q >= plant.GetPositionLowerLimits()) and \\\n",
    "            np.all(q <= plant.GetPositionUpperLimits()):\n",
    "        return 1 - 1 * \\\n",
    "            float(collision_constraint.evaluator().CheckSatisfied(q, min_dist))\n",
    "    else:\n",
    "        return 1\n",
    "def check_collision_s_by_ik(s, min_dist=1e-5):\n",
    "    s = np.array(s)\n",
    "    q = Ratfk.ComputeQValue(s, q_star)\n",
    "    return check_collision_q_by_ik(q, min_dist)\n",
    "\n",
    "def check_collision_q_by_query(q):\n",
    "    if np.all(q >= plant.GetPositionLowerLimits()) and \\\n",
    "            np.all(q <= plant.GetPositionUpperLimits()):\n",
    "        plant.SetPositions(plant_col_context, q)\n",
    "        query_object = query_port.Eval(scene_graph_col_context)\n",
    "        return 1 if query_object.HasCollisions() else 0\n",
    "    else:\n",
    "        return 1\n",
    "    \n",
    "def check_collision_s_by_query(s):\n",
    "    s = np.array(s)\n",
    "    q = Ratfk.ComputeQValue(s, q_star)\n",
    "    return check_collision_q_by_query(q)"
   ]
  },
  {
   "cell_type": "code",
   "execution_count": 8,
   "metadata": {},
   "outputs": [],
   "source": [
    "prm_important_samples_q = np.array([\n",
    "    [-0.47, -0.19, 0.34, -1.89, 0.68, 0.18, 0],\n",
    "    [-2.13, -1.44,  1.53, -1.9 , -2.97,  0.6 ,  0.22],\n",
    "    [2.22, -2.09, -1.61, -1.61, -2.87,  0.64,  3.05],\n",
    "    [0.33,  0.41, -0.17, -1.79,  1.13, -0.49,  3.05]\n",
    "]) \n",
    "\n",
    "prm_important_samples_s = [ Ratfk.ComputeSValue(x, q_star) for x in prm_important_samples_q]"
   ]
  },
  {
   "cell_type": "code",
   "execution_count": 9,
   "metadata": {},
   "outputs": [
    {
     "name": "stdout",
     "output_type": "stream",
     "text": [
      "3\n"
     ]
    }
   ],
   "source": [
    "print(len(prm_important_samples_s))"
   ]
  },
  {
   "cell_type": "code",
   "execution_count": 10,
   "metadata": {},
   "outputs": [],
   "source": [
    "tries = 15\n",
    "for q in prm_important_samples_q:\n",
    "    s = Ratfk.ComputeSValue(q, q_star)\n",
    "    for _ in range(tries):\n",
    "        new_s = s + 1e-2*np.random.randn(plant.num_positions()) \n",
    "        if not check_collision_s_by_query(s):\n",
    "            prm_important_samples_s.append(new_s)\n"
   ]
  },
  {
   "cell_type": "code",
   "execution_count": 11,
   "metadata": {},
   "outputs": [
    {
     "data": {
      "text/plain": [
       "33"
      ]
     },
     "execution_count": 11,
     "metadata": {},
     "output_type": "execute_result"
    }
   ],
   "source": [
    "len(prm_important_samples_s)"
   ]
  },
  {
   "cell_type": "code",
   "execution_count": 14,
   "metadata": {},
   "outputs": [
    {
     "name": "stdout",
     "output_type": "stream",
     "text": [
      "[PRM] Samples 0\n",
      "[PRM] Samples 30\n",
      "[PRM] Samples 60\n",
      "[PRM] Samples 90\n",
      "[PRM] Samples 120\n",
      "[PRM] Samples 150\n",
      "[PRM] Samples 180\n",
      "[PRM] Samples 210\n",
      "[PRM] Samples 240\n",
      "[PRM] Samples 270\n",
      "[PRM] Samples 300\n",
      "[PRM] Samples 330\n",
      "[PRM] Samples 360\n",
      "[PRM] Samples 390\n",
      "[PRM] Samples 420\n",
      "[PRM] Samples 450\n",
      "[PRM] Samples 480\n",
      "[PRM] Samples 510\n",
      "[PRM] Samples 540\n",
      "[PRM] Samples 570\n",
      "[PRM] Samples 600\n",
      "[PRM] Samples 630\n",
      "[PRM] Samples 660\n",
      "[PRM] Samples 690\n",
      "[PRM] Samples 720\n",
      "[PRM] Samples 750\n",
      "[PRM] Samples 780\n",
      "[PRM] Samples 810\n",
      "[PRM] Samples 840\n",
      "[PRM] Samples 870\n",
      "[PRM] Samples 900\n",
      "[PRM] Samples 930\n",
      "[PRM] Samples 960\n",
      "[PRM] Nodes connected: 0\n",
      "[PRM] Nodes connected: 20\n",
      "[PRM] Nodes connected: 40\n",
      "[PRM] Nodes connected: 60\n",
      "[PRM] Nodes connected: 80\n",
      "[PRM] Nodes connected: 100\n",
      "[PRM] Nodes connected: 120\n",
      "[PRM] Nodes connected: 140\n",
      "[PRM] Nodes connected: 160\n",
      "[PRM] Nodes connected: 180\n",
      "[PRM] Nodes connected: 200\n",
      "[PRM] Nodes connected: 220\n",
      "[PRM] Nodes connected: 240\n",
      "[PRM] Nodes connected: 260\n",
      "[PRM] Nodes connected: 280\n",
      "[PRM] Nodes connected: 300\n",
      "[PRM] Nodes connected: 320\n",
      "[PRM] Nodes connected: 340\n",
      "[PRM] Nodes connected: 360\n",
      "[PRM] Nodes connected: 380\n",
      "[PRM] Nodes connected: 400\n",
      "[PRM] Nodes connected: 420\n",
      "[PRM] Nodes connected: 440\n",
      "[PRM] Nodes connected: 460\n",
      "[PRM] Nodes connected: 480\n",
      "[PRM] Nodes connected: 500\n",
      "[PRM] Nodes connected: 520\n",
      "[PRM] Nodes connected: 540\n",
      "[PRM] Nodes connected: 560\n",
      "[PRM] Nodes connected: 580\n",
      "[PRM] Nodes connected: 600\n",
      "[PRM] Nodes connected: 620\n",
      "[PRM] Nodes connected: 640\n",
      "[PRM] Nodes connected: 660\n",
      "[PRM] Nodes connected: 680\n",
      "[PRM] Nodes connected: 700\n",
      "[PRM] Nodes connected: 720\n",
      "[PRM] Nodes connected: 740\n",
      "[PRM] Nodes connected: 760\n",
      "[PRM] Nodes connected: 780\n",
      "[PRM] Nodes connected: 800\n",
      "[PRM] Nodes connected: 820\n",
      "[PRM] Nodes connected: 840\n",
      "[PRM] Nodes connected: 860\n",
      "[PRM] Nodes connected: 880\n",
      "[PRM] Nodes connected: 900\n",
      "[PRM] Nodes connected: 920\n",
      "[PRM] Nodes connected: 940\n",
      "[PRM] Nodes connected: 960\n",
      "[PRM] Nodes connected: 980\n",
      "3000\n"
     ]
    }
   ],
   "source": [
    "# draw prm\n",
    "import prm\n",
    "from pydrake.all import Rgba\n",
    "\n",
    "# limits = [np.array(t_low), np.array(q_high)]\n",
    "\n",
    "\n",
    "\n",
    "def collision(pos, col_func_handle):\n",
    "    return col_func_handle(pos)\n",
    "\n",
    "def collision_bad(pos, col_func_handle):\n",
    "    return 1-col_func_handle(pos)\n",
    "\n",
    "prm_col_fn_handle = partial(collision, col_func_handle = check_collision_s_by_query)\n",
    "# prm_col_fn_handle_bad = partial(collision_bad, col_func_handle = check_collision_s_by_ik)\n",
    "\n",
    "PRM = prm.PRM( \n",
    "            limits_s,\n",
    "            num_points = 1000,\n",
    "            col_func_handle = prm_col_fn_handle,\n",
    "            num_neighbours = 3, \n",
    "            dist_thresh = 10,\n",
    "            num_col_checks = 10,\n",
    "            max_it = 1e3,\n",
    "            initial_points = prm_important_samples_s.copy(),\n",
    "            verbose = True,\n",
    "            plotcallback = None,\n",
    "    sample_via_gaussian = True,\n",
    "    gaussian_sample_var = 1e-1\n",
    "            )\n",
    "\n",
    "# PRM_bad = prm.PRM( \n",
    "#             limits_t,\n",
    "#             num_points = 2000,\n",
    "#             col_func_handle = prm_col_fn_handle_bad,\n",
    "#             num_neighbours = 5, \n",
    "#             dist_thresh = .5,\n",
    "#             num_col_checks = 10,\n",
    "#             verbose = True,\n",
    "#             plotcallback = None\n",
    "#             )\n",
    "\n",
    "# PRM.add_start_end(start, target)\n",
    "# PRM.plot()\n",
    "tot_num_edges = len(PRM.adjacency_list)* len(PRM.adjacency_list[0])\n",
    "print(tot_num_edges)\n",
    "\n",
    "body = plant.GetBodyByName(\"iiwa_link_7\")\n",
    "def visualize_task_space_trajectory(segment_start, segment_end,\n",
    "                                    body, color = Rgba(0,1,0,0.5),\n",
    "                                    path_size = 0.01, num_points = 100, path = \"prm/seg\"):\n",
    "    s_waypoints = np.linspace(segment_start, segment_end, num_points)\n",
    "    points = []\n",
    "    for s in s_waypoints:\n",
    "        q = Ratfk.ComputeQValue(s, q_star)\n",
    "        plant.SetPositions(plant_context, q)\n",
    "        points.append(plant.EvalBodyPoseInWorld(plant_context, body).translation())\n",
    "    points = np.array(points)\n",
    "    pc = PointCloud(len(points))\n",
    "    pc.mutable_xyzs()[:] = points.T\n",
    "    meshcat.SetObject(path, pc, point_size = path_size, rgba=color)\n",
    "\n",
    "\n",
    "def plot_prm(PRM, body, color = Rgba(0,1,0,0.5),\n",
    "                                    path_size = 0.01, num_points = 1000, prefix = \"prm\"):\n",
    "    meshcat.Delete(prefix)\n",
    "    for idx, (s0, s1) in enumerate(PRM.prm_pairs):\n",
    "        visualize_task_space_trajectory(s0, s1, body, color,\n",
    "                                        path_size, num_points, \n",
    "                                        f\"{prefix}/seg_{idx}\")\n",
    "def plot_prm_nodes(PRM, body, color = Rgba(0,0,1,1),\n",
    "                                    point_size = 0.05, prefix = \"prm_nodes\"):\n",
    "    meshcat.Delete(prefix)\n",
    "    points = []\n",
    "    for idx, s in enumerate(PRM.nodes):\n",
    "        q = Ratfk.ComputeQValue(s, q_star)\n",
    "        plant.SetPositions(plant_context, q)\n",
    "        points.append(plant.EvalBodyPoseInWorld(plant_context, body).translation())\n",
    "    points = np.array(points)\n",
    "    pc = PointCloud(len(points))\n",
    "    pc.mutable_xyzs()[:] = points.T\n",
    "    meshcat.SetObject(prefix, pc, point_size = point_size, rgba=color)\n",
    "    \n",
    "# plot_prm(PRM, body)\n",
    "plot_prm_nodes(PRM, body)"
   ]
  },
  {
   "cell_type": "code",
   "execution_count": null,
   "metadata": {},
   "outputs": [],
   "source": []
  },
  {
   "cell_type": "code",
   "execution_count": 14,
   "metadata": {},
   "outputs": [
    {
     "name": "stdout",
     "output_type": "stream",
     "text": [
      "-0.22750850506154593\n",
      "-0.22750850506154593\n",
      "\n",
      "-0.2394237037094491\n",
      "-0.2394237037094491\n",
      "\n"
     ]
    }
   ],
   "source": [
    "def make_line_polys(PRM):\n",
    "    polys = np.empty(shape=(plant.num_positions(), len(PRM.prm_pairs)), dtype = object)\n",
    "    for i, (s0, s1) in enumerate(PRM.prm_pairs):\n",
    "        for j in range(plant.num_positions()):\n",
    "            polys[j,i] = PolynomialCommon(np.array([s0[j],s1[j]-s0[j]]))# PolynomialCommon(np.array([s1[j],s0[j]-s1[j]]))\n",
    "            if i == 0 and j == 0:\n",
    "                print(polys[j,i].EvaluateUnivariate(0))\n",
    "                print(s0[j])\n",
    "                print()\n",
    "                print(polys[j,i].EvaluateUnivariate(1))\n",
    "                print(s1[j])\n",
    "                print()\n",
    "    return polys\n",
    "\n",
    "path_safe = make_line_polys(PRM)\n",
    "# path_unsafe = make_line_polys(PRM_bad)\n",
    "    "
   ]
  },
  {
   "cell_type": "code",
   "execution_count": null,
   "metadata": {},
   "outputs": [],
   "source": [
    "# The object we will use to perform our certification.\n",
    "t0 = time.time()\n",
    "cspace_free_path = CspaceFreePath(plant, scene_graph, q_star, maximum_path_degree = 1, plane_order = 4)\n",
    "t1 = time.time()\n",
    "print(f\"Time to construct line certifier = {t1-t0}s\")\n",
    "\n",
    "\n",
    "cert_options = CspaceFreePath.FindSeparationCertificateGivenPathOptions()\n",
    "cert_options.terminate_segment_certification_at_failure = False\n",
    "\n",
    "cert_options.num_threads = -1\n",
    "cert_options.verbose = False\n",
    "cert_options.solver_id = MosekSolver.id()\n",
    "cert_options.solver_options = SolverOptions()\n",
    "cert_options.terminate_path_certification_at_failure = False\n"
   ]
  },
  {
   "cell_type": "code",
   "execution_count": null,
   "metadata": {},
   "outputs": [],
   "source": [
    "t0 = time.time()\n",
    "ret = cspace_free_path.FindSeparationCertificateGivenPath(path_safe, set(), cert_options)\n",
    "t1 = time.time()\n",
    "print(f\"Certification of safe PRM in {t1-t0}s\")"
   ]
  },
  {
   "cell_type": "code",
   "execution_count": null,
   "metadata": {},
   "outputs": [],
   "source": [
    "def plot_pair_safety(pairs, is_safe_vec, body,\n",
    "                                    path_size = 0.01, num_points = 1000, prefix = \"prm\"):\n",
    "    meshcat.Delete(f\"{prefix}_safe\")\n",
    "    meshcat.Delete(f\"{prefix}_unsafe\")\n",
    "    for idx, (s0, s1) in enumerate(pairs):\n",
    "        if is_safe_vec[idx]:\n",
    "            visualize_task_space_trajectory(s0, s1, body, Rgba(0,1,0,0.5),\n",
    "                                            path_size, num_points, \n",
    "                                            f\"{prefix}_safe/seg_{idx}\")\n",
    "        else:\n",
    "            visualize_task_space_trajectory(s0, s1, body, Rgba(1,0,0,0.5),\n",
    "                                            path_size, num_points, \n",
    "                                            f\"{prefix}_unsafe/seg_{idx}\")\n",
    "plot_pair_safety(PRM.prm_pairs, ret[0], body)"
   ]
  },
  {
   "cell_type": "code",
   "execution_count": null,
   "metadata": {},
   "outputs": [],
   "source": [
    "unsafe_inds = np.where(np.logical_not(ret))[1]"
   ]
  },
  {
   "cell_type": "code",
   "execution_count": null,
   "metadata": {},
   "outputs": [],
   "source": [
    "unsafe_traj = path_safe[:,unsafe_inds]"
   ]
  },
  {
   "cell_type": "code",
   "execution_count": null,
   "metadata": {},
   "outputs": [],
   "source": [
    "unsafe_traj[:,0]"
   ]
  },
  {
   "cell_type": "code",
   "execution_count": null,
   "metadata": {},
   "outputs": [],
   "source": [
    "def animate_traj_s(traj, steps, total_time = 2):\n",
    "    sleep_time = total_time/steps\n",
    "    # loop\n",
    "    idx = 0\n",
    "    going_fwd = True\n",
    "    time_points = np.linspace(0, traj.end_time(), steps)\n",
    "    frame_count = 0\n",
    "    meshcat.StartRecording()\n",
    "    for frame_count, t in enumerate(time_points):\n",
    "        t0 = time.time()\n",
    "        s = traj.value(t)\n",
    "        q = Ratfk.ComputeQValue(s, q_star)\n",
    "        plant.SetPositions(plant_context, q)\n",
    "        diagram_context.SetTime(frame_count *sleep_time)\n",
    "        diagram.ForcedPublish(diagram_context)\n",
    "        \n",
    "        if scene_graph.HasCollisions():\n",
    "            print(\"COLLISION DETECTED\")\n",
    "        t1 = time.time()\n",
    "        pause = sleep_time - (t1 - t0)\n",
    "        if pause > 0:\n",
    "            time.sleep(pause)\n",
    "    meshcat.StopRecording()\n",
    "    meshcat.PublishRecording()"
   ]
  },
  {
   "cell_type": "code",
   "execution_count": null,
   "metadata": {},
   "outputs": [],
   "source": [
    "unsafe_traj.shape"
   ]
  },
  {
   "cell_type": "code",
   "execution_count": null,
   "metadata": {},
   "outputs": [],
   "source": [
    "from pydrake.all import PiecewisePolynomial\n",
    "traj = PiecewisePolynomial(unsafe_traj[:,:3].T, list(range(unsafe_traj[:,:3].shape[1])))\n",
    "print(traj.rows())\n",
    "print(traj.cols())"
   ]
  },
  {
   "cell_type": "code",
   "execution_count": null,
   "metadata": {},
   "outputs": [],
   "source": [
    "animate_traj_s(traj, 1000, 1)"
   ]
  },
  {
   "cell_type": "code",
   "execution_count": null,
   "metadata": {},
   "outputs": [],
   "source": [
    "unsafe_traj.shape"
   ]
  }
 ],
 "metadata": {
  "interpreter": {
   "hash": "31f2aee4e71d21fbe5cf8b01ff0e069b9275f58929596ceb00d14d90e3e16cd6"
  },
  "kernelspec": {
   "display_name": "Python 3 (ipykernel)",
   "language": "python",
   "name": "python3"
  },
  "language_info": {
   "codemirror_mode": {
    "name": "ipython",
    "version": 3
   },
   "file_extension": ".py",
   "mimetype": "text/x-python",
   "name": "python",
   "nbconvert_exporter": "python",
   "pygments_lexer": "ipython3",
   "version": "3.10.12"
  }
 },
 "nbformat": 4,
 "nbformat_minor": 2
}
