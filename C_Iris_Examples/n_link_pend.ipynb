{
 "cells": [
  {
   "cell_type": "code",
   "execution_count": 1,
   "metadata": {},
   "outputs": [],
   "source": [
    "%load_ext autoreload"
   ]
  },
  {
   "cell_type": "code",
   "execution_count": 2,
   "metadata": {},
   "outputs": [],
   "source": [
    "import numpy as np\n",
    "from functools import partial\n",
    "import visualization_utils as vis_utils\n",
    "from iris_plant_visualizer import IrisPlantVisualizer\n",
    "import ipywidgets as widgets\n",
    "from IPython.display import display\n",
    "from scipy.linalg import block_diag\n",
    "import matplotlib.pyplot as plt\n",
    "from pathlib import Path\n",
    "import os"
   ]
  },
  {
   "cell_type": "code",
   "execution_count": 3,
   "metadata": {},
   "outputs": [],
   "source": [
    "#pydrake imports\n",
    "from pydrake.common import FindResourceOrThrow\n",
    "from pydrake.multibody.parsing import Parser\n",
    "from pydrake.multibody.plant import AddMultibodyPlantSceneGraph\n",
    "from pydrake.systems.framework import DiagramBuilder\n",
    "from pydrake.geometry import Role, GeometrySet, CollisionFilterDeclaration\n",
    "from pydrake.all import RigidTransform, RollPitchYaw, RevoluteJoint\n",
    "from pydrake.all import RotationMatrix,MeshcatVisualizer, StartMeshcat\n",
    "import pydrake.symbolic as sym\n",
    "from pydrake.solvers import MosekSolver, CommonSolverOption, SolverOptions, ScsSolver\n",
    "from pydrake.all import PointCloud, MeshcatVisualizerParams, Role, HalfSpace, CoulombFriction, Box, Rgba, WeldJoint, GeometrySet\n",
    "from pydrake.polynomial import Polynomial as PolynomialCommon\n",
    "import time\n",
    "from scipy.spatial.transform import Rotation as sp_rot\n",
    "from sampling_based_motion_planners import StraightLineCollisionChecker, PRM, BiRRT, PRMFixedEdges\n",
    "\n",
    "\n",
    "from pydrake.all import (RationalForwardKinematics, ModelInstanceIndex,\n",
    "                         SpatialInertia, RevoluteJoint, FixedOffsetFrame)\n",
    "from pydrake.geometry.optimization import HPolyhedron, Hyperellipsoid\n",
    "from pydrake.geometry.optimization_dev import CspaceFreePath\n"
   ]
  },
  {
   "cell_type": "code",
   "execution_count": 4,
   "metadata": {},
   "outputs": [],
   "source": [
    "import logging\n",
    "drake_logger = logging.getLogger(\"drake\")\n",
    "drake_logger.setLevel(logging.DEBUG)"
   ]
  },
  {
   "cell_type": "markdown",
   "metadata": {},
   "source": [
    "# Build and set up the visualization the plant and the visualization of the C-space obstacle\n",
    "\n",
    "Note that running this cell multiple times will establish multiple meshcat instances which can fill up your memory. It is a good idea to call \"pkill -f meshcat\" from the command line before re-running this cell\n"
   ]
  },
  {
   "cell_type": "code",
   "execution_count": 5,
   "metadata": {},
   "outputs": [
    {
     "name": "stderr",
     "output_type": "stream",
     "text": [
      "DEBUG:drake:FindResource ignoring DRAKE_RESOURCE_ROOT because it is not set.\n",
      "DEBUG:drake:FindRunfile mechanism = RUNFILES_{MANIFEST_FILE,DIR}\n",
      "DEBUG:drake:cwd = \"/home/amice/Documents/coding_projects/drake/C_Iris_Examples\"\n",
      "DEBUG:drake:FindRunfile found by-manifest '/home/amice/Documents/coding_projects/drake/.drake-find_resource-sentinel' (good) and by-directory '/home/amice/.cache/bazel/_bazel_amice/32fdbbecfa8a7ce8feece95e48c42006/execroot/drake/bazel-out/k8-opt/bin/C_Iris_Examples/n_link_pend.runfiles/drake/.drake-find_resource-sentinel' (good)\n",
      "DEBUG:drake:FindRunfile found by-manifest '/home/amice/.cache/bazel/_bazel_amice/32fdbbecfa8a7ce8feece95e48c42006/execroot/drake/bazel-out/k8-opt/bin/geometry/meshcat.js' (good) and by-directory '/home/amice/.cache/bazel/_bazel_amice/32fdbbecfa8a7ce8feece95e48c42006/execroot/drake/bazel-out/k8-opt/bin/C_Iris_Examples/n_link_pend.runfiles/drake/geometry/meshcat.js' (good)\n",
      "DEBUG:drake:FindResource ignoring DRAKE_RESOURCE_ROOT because it is not set.\n",
      "DEBUG:drake:FindRunfile found by-manifest '/home/amice/Documents/coding_projects/drake/.drake-find_resource-sentinel' (good) and by-directory '/home/amice/.cache/bazel/_bazel_amice/32fdbbecfa8a7ce8feece95e48c42006/execroot/drake/bazel-out/k8-opt/bin/C_Iris_Examples/n_link_pend.runfiles/drake/.drake-find_resource-sentinel' (good)\n",
      "DEBUG:drake:FindRunfile found by-manifest '/home/amice/.cache/bazel/_bazel_amice/32fdbbecfa8a7ce8feece95e48c42006/execroot/drake/bazel-out/k8-opt/bin/geometry/stats.min.js' (good) and by-directory '/home/amice/.cache/bazel/_bazel_amice/32fdbbecfa8a7ce8feece95e48c42006/execroot/drake/bazel-out/k8-opt/bin/C_Iris_Examples/n_link_pend.runfiles/drake/geometry/stats.min.js' (good)\n",
      "DEBUG:drake:FindResource ignoring DRAKE_RESOURCE_ROOT because it is not set.\n",
      "DEBUG:drake:FindRunfile found by-manifest '/home/amice/Documents/coding_projects/drake/.drake-find_resource-sentinel' (good) and by-directory '/home/amice/.cache/bazel/_bazel_amice/32fdbbecfa8a7ce8feece95e48c42006/execroot/drake/bazel-out/k8-opt/bin/C_Iris_Examples/n_link_pend.runfiles/drake/.drake-find_resource-sentinel' (good)\n",
      "DEBUG:drake:FindRunfile found by-manifest '/home/amice/.cache/bazel/_bazel_amice/32fdbbecfa8a7ce8feece95e48c42006/execroot/drake/bazel-out/k8-opt/bin/geometry/meshcat.ico' (good) and by-directory '/home/amice/.cache/bazel/_bazel_amice/32fdbbecfa8a7ce8feece95e48c42006/execroot/drake/bazel-out/k8-opt/bin/C_Iris_Examples/n_link_pend.runfiles/drake/geometry/meshcat.ico' (good)\n",
      "DEBUG:drake:FindResource ignoring DRAKE_RESOURCE_ROOT because it is not set.\n",
      "DEBUG:drake:FindRunfile found by-manifest '/home/amice/Documents/coding_projects/drake/.drake-find_resource-sentinel' (good) and by-directory '/home/amice/.cache/bazel/_bazel_amice/32fdbbecfa8a7ce8feece95e48c42006/execroot/drake/bazel-out/k8-opt/bin/C_Iris_Examples/n_link_pend.runfiles/drake/.drake-find_resource-sentinel' (good)\n",
      "DEBUG:drake:FindRunfile found by-manifest '/home/amice/Documents/coding_projects/drake/geometry/meshcat.html' (good) and by-directory '/home/amice/.cache/bazel/_bazel_amice/32fdbbecfa8a7ce8feece95e48c42006/execroot/drake/bazel-out/k8-opt/bin/C_Iris_Examples/n_link_pend.runfiles/drake/geometry/meshcat.html' (good)\n",
      "INFO:drake:Meshcat listening for connections at http://localhost:7001\n"
     ]
    }
   ],
   "source": [
    "meshcat = StartMeshcat()\n",
    "meshcat.Delete()"
   ]
  },
  {
   "cell_type": "code",
   "execution_count": 6,
   "metadata": {},
   "outputs": [],
   "source": [
    "meshcat.Delete()\n",
    "builder = DiagramBuilder()\n",
    "plant, scene_graph = AddMultibodyPlantSceneGraph(builder, time_step=0.001)\n",
    "\n",
    "visualizer = MeshcatVisualizer.AddToBuilder(\n",
    "    builder, scene_graph, meshcat)\n",
    "\n",
    "link_dimensions = (0.1, 0.2, 0.001)\n",
    "pendulum_box = Box(*link_dimensions)\n",
    "pendulum_inertia = SpatialInertia.SolidBoxWithDensity(1, *link_dimensions)\n",
    "pendulum_model_instance = plant.AddModelInstance(\"pendulum\")\n",
    "def AddPendulumLink(parent_frame, link_index: int, color = np.array([1,0,0,1])):\n",
    "    link_name = f\"link_{link_index}\"\n",
    "    pend_body = plant.AddRigidBody(link_name, pendulum_model_instance, pendulum_inertia)\n",
    "    parent_to_child_attach_frame = plant.AddFrame(\n",
    "        FixedOffsetFrame(f\"{link_name}_joint_frame\", pend_body.body_frame(), \n",
    "                                  RigidTransform(p = (0,link_dimensions[1]/2, 0)))\n",
    "    )\n",
    "    next_frame = plant.AddFrame(\n",
    "        FixedOffsetFrame(f\"{link_name}_joint_frame\", pend_body.body_frame(), \n",
    "                                  RigidTransform(p = (0,-link_dimensions[1]/2, 0)))\n",
    "    )\n",
    "    # add the revolute joint,\n",
    "    joint_lim = np.pi\n",
    "    plant.AddJoint(RevoluteJoint(\n",
    "        f\"joint_{link_index}\", parent_frame, parent_to_child_attach_frame, [0,0,1],\n",
    "        -joint_lim, joint_lim,\n",
    "    )\n",
    "    )\n",
    "    \n",
    "    geom_id = plant.RegisterCollisionGeometry(pend_body, RigidTransform(),\n",
    "                                    pendulum_box, link_name, CoulombFriction())\n",
    "    plant.RegisterVisualGeometry(pend_body, RigidTransform(),\n",
    "                                pendulum_box, link_name, color)\n",
    "    \n",
    "    \n",
    "    \n",
    "    return next_frame, geom_id\n",
    "\n",
    "def N_Link_Pendulum(n: int):\n",
    "    assert n > 0\n",
    "    parent_frame = plant.world_frame()\n",
    "    colors = np.array(vis_utils.n_colors(n))/255\n",
    "    colors = np.hstack([colors,np.ones((colors.shape[0],1))])\n",
    "    geom_ids = []\n",
    "    for i in range(n):\n",
    "        parent_frame, geom_id = AddPendulumLink(parent_frame, i+1, colors[i])\n",
    "        geom_ids.append(geom_id)\n",
    "\n",
    "    return geom_ids\n",
    "        \n",
    "obstacle_model_instance = plant.AddModelInstance(\"obstacle\")\n",
    "def AddRandomBox(index: int, pos_limits, size_limits, color = [0,0,0,1]):\n",
    "    link_name = f\"obstacle_{index}\"     \n",
    "    \n",
    "    center = np.append(np.random.uniform(pos_limits[0],pos_limits[1], 2),0)\n",
    "    \n",
    "    random_rp = np.zeros(3)\n",
    "    lim = np.pi/10\n",
    "    random_rp[2] = np.random.uniform(-lim, lim)\n",
    "    angle = RotationMatrix(RollPitchYaw(random_rp))\n",
    "    \n",
    "    pose = RigidTransform(p=center)@RigidTransform(R=angle)\n",
    "    \n",
    "    dimensions = np.append(np.random.uniform(size_limits[0],size_limits[1],2),0.001)\n",
    "    box = Box(*dimensions)\n",
    "    inertia = SpatialInertia.SolidBoxWithDensity(1, *dimensions)\n",
    "    \n",
    "    body = plant.AddRigidBody(link_name, obstacle_model_instance, inertia)\n",
    "    plant.AddJoint(WeldJoint(link_name, plant.world_frame(), body.body_frame(),\n",
    "                            pose))\n",
    "    plant.RegisterCollisionGeometry(body, RigidTransform(),\n",
    "                                    box, link_name, CoulombFriction())\n",
    "    plant.RegisterVisualGeometry(body, RigidTransform(),\n",
    "                                box, link_name, color)\n",
    "    \n",
    "    \n",
    "\n",
    "def AddNRandomBoxes(n: int, pos_limits=(-10,10),\n",
    "                    size_limits = (0.1,1), color= [0,0,0,1],\n",
    "                   filter_all = False):\n",
    "    assert n > 0\n",
    "    for i in range(n):\n",
    "        AddRandomBox(i, pos_limits, size_limits, color)\n",
    "\n",
    "# child_frame = AddPendulumLink(plant.world_frame(), 1)\n",
    "num_pend = 3\n",
    "num_obstacles = 4\n",
    "np.random.seed(num_pend * num_obstacles)\n",
    "\n",
    "\n",
    "pend_geom_ids = N_Link_Pendulum(num_pend)\n",
    "\n",
    "obstacle_pos_limits = link_dimensions[1]*num_pend*np.array([-1,1])\n",
    "obstacle_size_limits = (0.01/np.log(num_obstacles),0.5/np.log(num_obstacles))\n",
    "AddNRandomBoxes(num_obstacles, obstacle_pos_limits, obstacle_size_limits)\n",
    "\n",
    "\n",
    "plant.Finalize()\n",
    "\n",
    "end_effector = plant.GetBodyByName(f\"link_{num_pend}\")\n",
    "\n",
    "def SetMeshcatPerspective2d(meshcat_instance, X_WC):\n",
    "    meshcat_instance.SetTransform(\"/Cameras/default\", X_WC)\n",
    "    meshcat_instance.SetProperty(\"/Background\", \"visible\", False);\n",
    "    meshcat_instance.SetProperty(\"/Grid\", \"visible\", False);\n",
    "    meshcat_instance.SetProperty(\"/Axes\", \"visible\", False)\n",
    "\n",
    "SetMeshcatPerspective2d(meshcat, RigidTransform(p=np.array([0,0,1])))\n",
    "# meshcat.Set2dRenderMode(RigidTransform(p=np.array([0,0,1])))\n",
    "\n",
    "diagram = builder.Build()\n",
    "diagram_context = diagram.CreateDefaultContext()\n",
    "plant_context = diagram.GetMutableSubsystemContext(plant, diagram_context)\n",
    "scene_graph_context = diagram.GetMutableSubsystemContext(scene_graph, diagram_context)\n",
    "query_port = scene_graph.get_query_output_port()\n",
    "diagram.ForcedPublish(diagram_context)\n",
    "\n",
    "q_star = np.zeros(plant.num_positions())\n",
    "Ratfk = RationalForwardKinematics(plant)\n",
    "\n",
    "diagram_vis_context = diagram.CreateDefaultContext()\n",
    "plant_vis_context =  diagram.GetMutableSubsystemContext(plant, diagram_vis_context)\n",
    "vis_bundle = vis_utils.VisualizationBundle(\n",
    "    diagram, diagram_vis_context, plant, plant_vis_context,\n",
    "    Ratfk, meshcat, q_star\n",
    ")"
   ]
  },
  {
   "cell_type": "code",
   "execution_count": null,
   "metadata": {},
   "outputs": [],
   "source": []
  },
  {
   "cell_type": "code",
   "execution_count": 7,
   "metadata": {},
   "outputs": [
    {
     "name": "stdout",
     "output_type": "stream",
     "text": [
      "[[-1.63312394e+16 -1.63312394e+16 -1.63312394e+16]\n",
      " [ 1.63312394e+16  1.63312394e+16  1.63312394e+16]]\n"
     ]
    }
   ],
   "source": [
    "#compute limits in s-space\n",
    "limits_s = []\n",
    "lower_q = plant.GetPositionLowerLimits()\n",
    "upper_q = plant.GetPositionUpperLimits()\n",
    "\n",
    "for q in [lower_q,upper_q]:\n",
    "    limits_s.append(Ratfk.ComputeSValue(np.array(q), q_star))\n",
    "limits_s = np.array(limits_s)\n",
    "print(limits_s)"
   ]
  },
  {
   "cell_type": "code",
   "execution_count": 8,
   "metadata": {},
   "outputs": [],
   "source": [
    "from pydrake.all import InverseKinematics\n",
    "ik = InverseKinematics(plant, diagram.GetMutableSubsystemContext(plant, diagram_context))\n",
    "min_dist = 1e-5\n",
    "collision_constraint = ik.AddMinimumDistanceConstraint(\n",
    "            min_dist, 1e-5)\n",
    "diagram_col_context = diagram.CreateDefaultContext()\n",
    "plant_col_context = diagram.GetMutableSubsystemContext(plant, diagram_col_context)\n",
    "scene_graph_col_context = diagram.GetMutableSubsystemContext(scene_graph, diagram_col_context)\n",
    "def check_collision_q_by_ik(q, min_dist=1e-5):\n",
    "    if np.all(q >= plant.GetPositionLowerLimits()) and \\\n",
    "            np.all(q <= plant.GetPositionUpperLimits()):\n",
    "        return 1 - 1 * \\\n",
    "            float(collision_constraint.evaluator().CheckSatisfied(q, min_dist))\n",
    "    else:\n",
    "        return 1\n",
    "def check_collision_s_by_ik(s, min_dist=1e-5):\n",
    "    s = np.array(s)\n",
    "    q = Ratfk.ComputeQValue(s, q_star)\n",
    "    return check_collision_q_by_ik(q, min_dist)\n",
    "\n",
    "def check_collision_q_by_query(q):\n",
    "    if np.all(q >= plant.GetPositionLowerLimits()) and \\\n",
    "            np.all(q <= plant.GetPositionUpperLimits()):\n",
    "        plant.SetPositions(plant_col_context, q)\n",
    "        query_object = query_port.Eval(scene_graph_col_context)\n",
    "        return 1 if query_object.HasCollisions() else 0\n",
    "    else:\n",
    "        return 1\n",
    "    \n",
    "def check_collision_s_by_query(s):\n",
    "    s = np.array(s)\n",
    "    q = Ratfk.ComputeQValue(s, q_star)\n",
    "    return check_collision_q_by_query(q)"
   ]
  },
  {
   "cell_type": "markdown",
   "metadata": {},
   "source": [
    "## Set up the sliders so we can move the plant around manually"
   ]
  },
  {
   "cell_type": "code",
   "execution_count": 9,
   "metadata": {
    "scrolled": false
   },
   "outputs": [
    {
     "data": {
      "application/vnd.jupyter.widget-view+json": {
       "model_id": "50d6b2f1201c43369486e0096a443987",
       "version_major": 2,
       "version_minor": 0
      },
      "text/plain": [
       "FloatSlider(value=0.0, description='q0', max=3.141592653589793, min=-3.141592653589793)"
      ]
     },
     "metadata": {},
     "output_type": "display_data"
    },
    {
     "data": {
      "application/vnd.jupyter.widget-view+json": {
       "model_id": "135402fb59e64d2ebfb6bd653dec77b3",
       "version_major": 2,
       "version_minor": 0
      },
      "text/plain": [
       "FloatSlider(value=0.0, description='q1', max=3.141592653589793, min=-3.141592653589793)"
      ]
     },
     "metadata": {},
     "output_type": "display_data"
    },
    {
     "data": {
      "application/vnd.jupyter.widget-view+json": {
       "model_id": "8cebb619fe9d4162a5be4ce495d0a831",
       "version_major": 2,
       "version_minor": 0
      },
      "text/plain": [
       "FloatSlider(value=0.0, description='q2', max=3.141592653589793, min=-3.141592653589793)"
      ]
     },
     "metadata": {},
     "output_type": "display_data"
    }
   ],
   "source": [
    "sliders = []\n",
    "for i in range(plant.num_positions()):\n",
    "    sliders.append(widgets.FloatSlider(min=plant.GetPositionLowerLimits()[i],\n",
    "                                       max=plant.GetPositionUpperLimits()[i], \n",
    "                                       value=plant.GetPositions(plant_context)[i],\n",
    "                                       description=f'q{i}'))\n",
    "# sliders.append(widgets.FloatSlider(min=q_low[2], max=q_high[2], value=0, description='q2'))\n",
    "\n",
    "q = np.zeros(plant.num_positions())\n",
    "def handle_slider_change(change, idx):\n",
    "    q[idx] = change['new']\n",
    "    plant.SetPositions(plant_context, q)\n",
    "    diagram.ForcedPublish(diagram_context)\n",
    "\n",
    "    \n",
    "idx = 0\n",
    "for slider in sliders:\n",
    "    slider.observe(partial(handle_slider_change, idx = idx), names='value')\n",
    "    idx+=1\n",
    "\n",
    "for slider in sliders:\n",
    "    display(slider)\n",
    "\n",
    "\n",
    "# visualizer.jupyter_cell()"
   ]
  },
  {
   "cell_type": "code",
   "execution_count": 10,
   "metadata": {},
   "outputs": [
    {
     "name": "stdout",
     "output_type": "stream",
     "text": [
      "PRM: Num edges = 27/100\n",
      "PRM: Num nodes = 10\n",
      "\n",
      "PRM: Num edges = 66/100\n",
      "PRM: Num nodes = 20\n",
      "\n",
      "PRM: Num edges = 100/100\n",
      "PRM: Num nodes = 30\n",
      "\n",
      "PRM has 30 nodes\n",
      "PRM has 100 edges\n"
     ]
    }
   ],
   "source": [
    "col_checker = StraightLineCollisionChecker(check_collision_s_by_query, 100)\n",
    "def sample_col_free_point():\n",
    "    q = np.random.uniform(plant.GetPositionLowerLimits(), plant.GetPositionUpperLimits())\n",
    "    s = Ratfk.ComputeSValue(q, q_star)\n",
    "    return s\n",
    "np.random.seed(0)\n",
    "prm = PRMFixedEdges(sample_col_free_point,\n",
    "         100,\n",
    "         col_checker,\n",
    "         dist_thresh = 100)\n",
    "prm.draw_tree(vis_bundle, end_effector)"
   ]
  },
  {
   "cell_type": "code",
   "execution_count": 11,
   "metadata": {},
   "outputs": [],
   "source": [
    "def make_line_polys(prm, max_num_edges = -1):\n",
    "    \n",
    "    polys = np.empty(shape=(plant.num_positions(), \n",
    "                            len(prm.prm.edges()) if max_num_edges < 0 else max_num_edges), dtype = object)\n",
    "    for i, (s0, s1) in enumerate(prm.prm.edges()):\n",
    "        for j in range(plant.num_positions()):\n",
    "            if max_num_edges > 0 and not i < max_num_edges:\n",
    "                break\n",
    "            polys[j,i] = PolynomialCommon(np.array([s0[j],s1[j]-s0[j]]))\n",
    "        \n",
    "    return polys\n",
    "\n",
    "path_safe = make_line_polys(prm,500)\n",
    "# path_unsafe = make_line_polys(PRM_bad)\n",
    "    "
   ]
  },
  {
   "cell_type": "code",
   "execution_count": 12,
   "metadata": {},
   "outputs": [
    {
     "name": "stdout",
     "output_type": "stream",
     "text": [
      "Time to construct line certifier = 0.049834489822387695s\n"
     ]
    }
   ],
   "source": [
    "# The object we will use to perform our certification.\n",
    "t0 = time.time()\n",
    "cspace_free_path = CspaceFreePath(plant, scene_graph, q_star,\n",
    "                                  maximum_path_degree = 1, \n",
    "                                  plane_order = 1)\n",
    "t1 = time.time()\n",
    "print(f\"Time to construct line certifier = {t1-t0}s\")\n",
    "\n",
    "\n",
    "cert_options = CspaceFreePath.FindSeparationCertificateGivenPathOptions()\n",
    "cert_options.terminate_segment_certification_at_failure = False\n",
    "\n",
    "cert_options.num_threads = -1\n",
    "cert_options.verbose = False\n",
    "cert_options.solver_id = MosekSolver.id()\n",
    "cert_options.solver_options = SolverOptions()\n",
    "cert_options.terminate_path_certification_at_failure = False\n"
   ]
  },
  {
   "cell_type": "code",
   "execution_count": 17,
   "metadata": {},
   "outputs": [
    {
     "name": "stdout",
     "output_type": "stream",
     "text": [
      "13\n"
     ]
    }
   ],
   "source": [
    "print(len(cspace_free_path.separating_planes()))"
   ]
  },
  {
   "cell_type": "code",
   "execution_count": 22,
   "metadata": {},
   "outputs": [
    {
     "name": "stdout",
     "output_type": "stream",
     "text": [
      "Time to construct line certifier = 0.04575467109680176s\n",
      "12\n"
     ]
    }
   ],
   "source": [
    "from pydrake.all import GeometrySet, CollisionFilterDeclaration\n",
    "collision_filter_manager = scene_graph.collision_filter_manager()\n",
    "pend_geom_set = GeometrySet(pend_geom_ids)\n",
    "decl = CollisionFilterDeclaration().ExcludeWithin(pend_geom_set)\n",
    "collision_filter_manager.Apply(decl)\n",
    "t0 = time.time()\n",
    "cspace_free_path2 = CspaceFreePath(plant, scene_graph, q_star,\n",
    "                                  maximum_path_degree = 1, \n",
    "                                  plane_order = 1)\n",
    "t1 = time.time()\n",
    "print(f\"Time to construct line certifier = {t1-t0}s\")\n",
    "print(len(cspace_free_path2.separating_planes()))"
   ]
  },
  {
   "cell_type": "code",
   "execution_count": 23,
   "metadata": {},
   "outputs": [],
   "source": [
    "ignored_collision_pairs = set()\n",
    "for g1 in pend_geom_ids[:-1]:\n",
    "    for g2 in pend_geom_ids[1:]: \n",
    "        ignored_collision_pairs.add((g1,g2))"
   ]
  },
  {
   "cell_type": "code",
   "execution_count": 24,
   "metadata": {},
   "outputs": [
    {
     "name": "stdout",
     "output_type": "stream",
     "text": [
      "Certification of safe PRM in 5.007325887680054s\n"
     ]
    }
   ],
   "source": [
    "t0 = time.time()\n",
    "statistics, cert_result = \\\n",
    "    cspace_free_path2.FindSeparationCertificateGivenPath(path_safe, \n",
    "                                                        ignored_collision_pairs,\n",
    "                                                        cert_options)\n",
    "t1 = time.time()\n",
    "print(f\"Certification of safe PRM in {t1-t0}s\")"
   ]
  },
  {
   "cell_type": "code",
   "execution_count": null,
   "metadata": {},
   "outputs": [],
   "source": [
    "solve_times = np.array([list(s.time_to_solve_prog.values()) for s in statistics])\n",
    "build_times = np.array([list(s.time_to_build_prog.values()) for s in statistics])\n",
    "total_times = np.array([list(s.total_time_to_certify_pair.values()) for s in statistics])\n"
   ]
  },
  {
   "cell_type": "code",
   "execution_count": null,
   "metadata": {},
   "outputs": [],
   "source": [
    "fig, ax = plt.subplots(1,3)\n",
    "ax[0].stairs(*np.histogram(solve_times))\n",
    "ax[0].set_title('program solve times')\n",
    "ax[1].stairs(*np.histogram(build_times))\n",
    "ax[1].set_title('program build times')\n",
    "ax[2].stairs(*np.histogram(total_times))\n",
    "ax[2].set_title('pair certification time')"
   ]
  },
  {
   "cell_type": "code",
   "execution_count": null,
   "metadata": {},
   "outputs": [],
   "source": [
    "plt.stairs(*np.histogram(solve_times))\n",
    "plt.title(f'Distribution of solve times for pairs, {num_pend} links, {num_obstacles} obstacles')\n",
    "plt.xlabel(\"ms\")\n",
    "plt.ylabel(\"number of pairs\")"
   ]
  },
  {
   "cell_type": "code",
   "execution_count": null,
   "metadata": {},
   "outputs": [],
   "source": [
    "import os\n",
    "num_cores = os.cpu_count()\n",
    "print(num_cores)\n",
    "total_prog_solve_times = np.array([s.total_time_to_solve_progs()/num_cores for s in statistics])\n",
    "plt.stairs(*np.histogram(total_prog_solve_times))\n",
    "plt.title(f'Total Certification Times PRM Edges, {num_pend} links, {num_obstacles} obstacles {500} edges')\n",
    "plt.xlabel(\"ms\")\n",
    "plt.ylabel(\"number of edges requiring time\")"
   ]
  },
  {
   "cell_type": "code",
   "execution_count": null,
   "metadata": {},
   "outputs": [],
   "source": [
    "import pickle\n",
    "with open(\"tmp.pkl\", \"wb\") as f:\n",
    "    pickle.dump(statistics[0], f)"
   ]
  },
  {
   "cell_type": "code",
   "execution_count": null,
   "metadata": {},
   "outputs": [],
   "source": [
    "with open(\"tmp.pkl\", \"rb\") as f:\n",
    "    tmp = pickle.load(f)"
   ]
  },
  {
   "cell_type": "code",
   "execution_count": null,
   "metadata": {},
   "outputs": [],
   "source": []
  },
  {
   "cell_type": "code",
   "execution_count": null,
   "metadata": {},
   "outputs": [],
   "source": [
    "total_prog_solve_times.shape"
   ]
  },
  {
   "cell_type": "code",
   "execution_count": null,
   "metadata": {},
   "outputs": [],
   "source": [
    "def plot_pair_safety(pairs, statistics, body,\n",
    "                                    path_size = 0.01, num_points = 1000, prefix = \"prm\"):\n",
    "    meshcat.Delete(f\"{prefix}_safe\")\n",
    "    meshcat.Delete(f\"{prefix}_unsafe\")\n",
    "    \n",
    "    safe_options = vis_utils.TrajectoryVisualizationOptions(\n",
    "        path_color = Rgba(0,1,0,1), path_size = path_size, num_points = num_points\n",
    "    )\n",
    "    unsafe_options = vis_utils.TrajectoryVisualizationOptions(\n",
    "        path_color = Rgba(1,0,0,1), path_size = path_size, num_points = num_points\n",
    "    )\n",
    "    \n",
    "    for idx, (s0, s1) in enumerate(pairs):\n",
    "        s0, s1 = np.array(s0), np.array(s1)\n",
    "        if statistics[idx].certified_safe():\n",
    "            vis_utils.visualize_s_space_segment(vis_bundle,s0, s1, body,\n",
    "                                        f\"{prefix}_safe/seg_{idx}\", safe_options)\n",
    "        else:\n",
    "            vis_utils.visualize_s_space_segment(vis_bundle,s0, s1, body, \n",
    "                                        f\"{prefix}_unsafe/seg_{idx}\", unsafe_options)\n",
    "plot_pair_safety(prm.prm.edges(), statistics, end_effector)"
   ]
  },
  {
   "cell_type": "code",
   "execution_count": null,
   "metadata": {},
   "outputs": [],
   "source": [
    "path_safe.shape"
   ]
  },
  {
   "cell_type": "code",
   "execution_count": null,
   "metadata": {},
   "outputs": [],
   "source": [
    "unsafe_path = None\n",
    "for idx, stats in enumerate(statistics):\n",
    "    if not stats.certified_safe():\n",
    "        unsafe_path = path_safe[:, idx]\n",
    "col_found = False\n",
    "for t in np.linspace(0, 1, int(1e3)):\n",
    "    s = np.array([unsafe_path[i].EvaluateUnivariate(t) for i in range(unsafe_path.shape[0])])\n",
    "    if check_collision_s_by_query(s):\n",
    "        print(\"COLLISION FOUND\")\n",
    "        col_found = True\n",
    "        plant.SetPositions(plant_context, Ratfk.ComputeQValue(s, q_star))\n",
    "        diagram.ForcedPublish(diagram_context)\n",
    "        break\n",
    "print(col_found)"
   ]
  },
  {
   "cell_type": "code",
   "execution_count": 28,
   "metadata": {},
   "outputs": [
    {
     "name": "stdout",
     "output_type": "stream",
     "text": [
      "2 True 10 50\n",
      "2 True 50 50\n",
      "2 True 100 50\n",
      "2 True 10 100\n",
      "2 True 50 100\n",
      "2 True 100 100\n",
      "2 True 10 1000\n",
      "2 True 50 1000\n",
      "2 True 100 1000\n",
      "2 False 10 50\n",
      "2 False 50 50\n",
      "2 False 100 50\n",
      "2 False 10 100\n",
      "2 False 50 100\n",
      "2 False 100 100\n",
      "2 False 10 1000\n",
      "2 False 50 1000\n",
      "2 False 100 1000\n",
      "3 True 10 50\n",
      "3 True 50 50\n",
      "3 True 100 50\n",
      "3 True 10 100\n",
      "3 True 50 100\n",
      "3 True 100 100\n",
      "3 True 10 1000\n",
      "3 True 50 1000\n",
      "3 True 100 1000\n",
      "3 False 10 50\n",
      "3 False 50 50\n",
      "3 False 100 50\n",
      "3 False 10 100\n",
      "3 False 50 100\n",
      "3 False 100 100\n",
      "3 False 10 1000\n",
      "3 False 50 1000\n",
      "3 False 100 1000\n",
      "4 True 10 50\n",
      "4 True 50 50\n",
      "4 True 100 50\n",
      "4 True 10 100\n",
      "4 True 50 100\n",
      "4 True 100 100\n",
      "4 True 10 1000\n",
      "4 True 50 1000\n",
      "4 True 100 1000\n",
      "4 False 10 50\n",
      "4 False 50 50\n",
      "4 False 100 50\n",
      "4 False 10 100\n",
      "4 False 50 100\n",
      "4 False 100 100\n",
      "4 False 10 1000\n",
      "4 False 50 1000\n",
      "4 False 100 1000\n",
      "5 True 10 50\n",
      "5 True 50 50\n",
      "5 True 100 50\n",
      "5 True 10 100\n",
      "5 True 50 100\n",
      "5 True 100 100\n",
      "5 True 10 1000\n",
      "5 True 50 1000\n",
      "5 True 100 1000\n",
      "5 False 10 50\n",
      "5 False 50 50\n",
      "5 False 100 50\n",
      "5 False 10 100\n",
      "5 False 50 100\n",
      "5 False 100 100\n",
      "5 False 10 1000\n",
      "5 False 50 1000\n",
      "5 False 100 1000\n",
      "6 True 10 50\n",
      "6 True 50 50\n",
      "6 True 100 50\n",
      "6 True 10 100\n",
      "6 True 50 100\n",
      "6 True 100 100\n",
      "6 True 10 1000\n",
      "6 True 50 1000\n",
      "6 True 100 1000\n",
      "6 False 10 50\n",
      "6 False 50 50\n",
      "6 False 100 50\n",
      "6 False 10 100\n",
      "6 False 50 100\n",
      "6 False 100 100\n",
      "6 False 10 1000\n",
      "6 False 50 1000\n",
      "6 False 100 1000\n",
      "7 True 10 50\n",
      "7 True 50 50\n",
      "7 True 100 50\n",
      "7 True 10 100\n",
      "7 True 50 100\n",
      "7 True 100 100\n",
      "7 True 10 1000\n",
      "7 True 50 1000\n",
      "7 True 100 1000\n",
      "7 False 10 50\n",
      "7 False 50 50\n",
      "7 False 100 50\n",
      "7 False 10 100\n",
      "7 False 50 100\n",
      "7 False 100 100\n",
      "7 False 10 1000\n",
      "7 False 50 1000\n",
      "7 False 100 1000\n",
      "8 True 10 50\n",
      "8 True 50 50\n",
      "8 True 100 50\n",
      "8 True 10 100\n",
      "8 True 50 100\n",
      "8 True 100 100\n",
      "8 True 10 1000\n",
      "8 True 50 1000\n",
      "8 True 100 1000\n",
      "8 False 10 50\n",
      "8 False 50 50\n",
      "8 False 100 50\n",
      "8 False 10 100\n",
      "8 False 50 100\n",
      "8 False 100 100\n",
      "8 False 10 1000\n",
      "8 False 50 1000\n",
      "8 False 100 1000\n",
      "9 True 10 50\n",
      "9 True 50 50\n",
      "9 True 100 50\n",
      "9 True 10 100\n",
      "9 True 50 100\n",
      "9 True 100 100\n",
      "9 True 10 1000\n",
      "9 True 50 1000\n",
      "9 True 100 1000\n",
      "9 False 10 50\n",
      "9 False 50 50\n",
      "9 False 100 50\n",
      "9 False 10 100\n",
      "9 False 50 100\n",
      "9 False 100 100\n",
      "9 False 10 1000\n",
      "9 False 50 1000\n",
      "9 False 100 1000\n",
      "10 True 10 50\n",
      "10 True 50 50\n",
      "10 True 100 50\n",
      "10 True 10 100\n",
      "10 True 50 100\n",
      "10 True 100 100\n",
      "10 True 10 1000\n",
      "10 True 50 1000\n",
      "10 True 100 1000\n",
      "10 False 10 50\n",
      "10 False 50 50\n",
      "10 False 100 50\n",
      "10 False 10 100\n",
      "10 False 50 100\n",
      "10 False 100 100\n",
      "10 False 10 1000\n",
      "10 False 50 1000\n",
      "10 False 100 1000\n",
      "11 True 10 50\n",
      "11 True 50 50\n",
      "11 True 100 50\n",
      "11 True 10 100\n",
      "11 True 50 100\n",
      "11 True 100 100\n",
      "11 True 10 1000\n",
      "11 True 50 1000\n",
      "11 True 100 1000\n",
      "11 False 10 50\n",
      "11 False 50 50\n",
      "11 False 100 50\n",
      "11 False 10 100\n",
      "11 False 50 100\n",
      "11 False 100 100\n",
      "11 False 10 1000\n",
      "11 False 50 1000\n",
      "11 False 100 1000\n"
     ]
    }
   ],
   "source": [
    "num_links = np.arange(2, 12, 1)\n",
    "num_boxes = np.array([10, 50, 100])\n",
    "num_edges = np.array([50, 100, 1000])\n",
    "good_checker = np.array([True, False])\n",
    "\n",
    "NN, GG, LL, KK = np.meshgrid(num_links, good_checker, num_edges, num_boxes,  indexing = 'ij')\n",
    "# LL,GG, NN,  KK   = np.meshgrid(num_edges,good_checker,num_links,  num_boxes, indexing = 'ij')\n",
    "for i in range(NN.shape[0]):\n",
    "    for j in range(NN.shape[1]):\n",
    "        for k in range(NN.shape[2]):\n",
    "            for l in range(NN.shape[3]):\n",
    "                print(NN[i,j,k, l], GG[i,j,k,l], KK[i,j,k, l], LL[i,j,k, l])"
   ]
  },
  {
   "cell_type": "code",
   "execution_count": 20,
   "metadata": {},
   "outputs": [
    {
     "name": "stdout",
     "output_type": "stream",
     "text": [
      "2 10 50\n",
      "2 50 50\n",
      "2 100 50\n",
      "2 10 100\n",
      "2 50 100\n",
      "2 100 100\n",
      "2 10 1000\n",
      "2 50 1000\n",
      "2 100 1000\n",
      "3 10 50\n",
      "3 50 50\n",
      "3 100 50\n",
      "3 10 100\n",
      "3 50 100\n",
      "3 100 100\n",
      "3 10 1000\n",
      "3 50 1000\n",
      "3 100 1000\n",
      "4 10 50\n",
      "4 50 50\n",
      "4 100 50\n",
      "4 10 100\n",
      "4 50 100\n",
      "4 100 100\n",
      "4 10 1000\n",
      "4 50 1000\n",
      "4 100 1000\n",
      "5 10 50\n",
      "5 50 50\n",
      "5 100 50\n",
      "5 10 100\n",
      "5 50 100\n",
      "5 100 100\n",
      "5 10 1000\n",
      "5 50 1000\n",
      "5 100 1000\n",
      "6 10 50\n",
      "6 50 50\n",
      "6 100 50\n",
      "6 10 100\n",
      "6 50 100\n",
      "6 100 100\n",
      "6 10 1000\n",
      "6 50 1000\n",
      "6 100 1000\n",
      "7 10 50\n",
      "7 50 50\n",
      "7 100 50\n",
      "7 10 100\n",
      "7 50 100\n",
      "7 100 100\n",
      "7 10 1000\n",
      "7 50 1000\n",
      "7 100 1000\n",
      "8 10 50\n",
      "8 50 50\n",
      "8 100 50\n",
      "8 10 100\n",
      "8 50 100\n",
      "8 100 100\n",
      "8 10 1000\n",
      "8 50 1000\n",
      "8 100 1000\n",
      "9 10 50\n",
      "9 50 50\n",
      "9 100 50\n",
      "9 10 100\n",
      "9 50 100\n",
      "9 100 100\n",
      "9 10 1000\n",
      "9 50 1000\n",
      "9 100 1000\n",
      "10 10 50\n",
      "10 50 50\n",
      "10 100 50\n",
      "10 10 100\n",
      "10 50 100\n",
      "10 100 100\n",
      "10 10 1000\n",
      "10 50 1000\n",
      "10 100 1000\n",
      "11 10 50\n",
      "11 50 50\n",
      "11 100 50\n",
      "11 10 100\n",
      "11 50 100\n",
      "11 100 100\n",
      "11 10 1000\n",
      "11 50 1000\n",
      "11 100 1000\n"
     ]
    }
   ],
   "source": []
  }
 ],
 "metadata": {
  "interpreter": {
   "hash": "31f2aee4e71d21fbe5cf8b01ff0e069b9275f58929596ceb00d14d90e3e16cd6"
  },
  "kernelspec": {
   "display_name": "Python 3 (ipykernel)",
   "language": "python",
   "name": "python3"
  },
  "language_info": {
   "codemirror_mode": {
    "name": "ipython",
    "version": 3
   },
   "file_extension": ".py",
   "mimetype": "text/x-python",
   "name": "python",
   "nbconvert_exporter": "python",
   "pygments_lexer": "ipython3",
   "version": "3.10.12"
  }
 },
 "nbformat": 4,
 "nbformat_minor": 2
}
