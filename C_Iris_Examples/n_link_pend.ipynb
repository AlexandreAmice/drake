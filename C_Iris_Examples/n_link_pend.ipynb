{
 "cells": [
  {
   "cell_type": "code",
   "execution_count": 1,
   "metadata": {},
   "outputs": [],
   "source": [
    "%load_ext autoreload"
   ]
  },
  {
   "cell_type": "code",
   "execution_count": 2,
   "metadata": {},
   "outputs": [],
   "source": [
    "import numpy as np\n",
    "from functools import partial\n",
    "import visualization_utils as vis_utils\n",
    "from iris_plant_visualizer import IrisPlantVisualizer\n",
    "import ipywidgets as widgets\n",
    "from IPython.display import display\n",
    "from scipy.linalg import block_diag\n",
    "import matplotlib.pyplot as plt\n",
    "from pathlib import Path\n",
    "import os"
   ]
  },
  {
   "cell_type": "code",
   "execution_count": 3,
   "metadata": {},
   "outputs": [],
   "source": [
    "#pydrake imports\n",
    "from pydrake.common import FindResourceOrThrow\n",
    "from pydrake.multibody.parsing import Parser\n",
    "from pydrake.multibody.plant import AddMultibodyPlantSceneGraph\n",
    "from pydrake.systems.framework import DiagramBuilder\n",
    "from pydrake.geometry import Role, GeometrySet, CollisionFilterDeclaration\n",
    "from pydrake.all import RigidTransform, RollPitchYaw, RevoluteJoint\n",
    "from pydrake.all import RotationMatrix,MeshcatVisualizer, StartMeshcat\n",
    "import pydrake.symbolic as sym\n",
    "from pydrake.solvers import MosekSolver, CommonSolverOption, SolverOptions, ScsSolver\n",
    "from pydrake.all import PointCloud, MeshcatVisualizerParams, Role, HalfSpace, CoulombFriction, Box, Rgba, WeldJoint, GeometrySet\n",
    "from pydrake.polynomial import Polynomial as PolynomialCommon\n",
    "import time\n",
    "from scipy.spatial.transform import Rotation as sp_rot\n",
    "\n",
    "from pydrake.all import RationalForwardKinematics, ModelInstanceIndex, SpatialInertia, RevoluteJoint, FixedOffsetFrame\n",
    "from pydrake.geometry.optimization import HPolyhedron, Hyperellipsoid\n",
    "from pydrake.geometry.optimization_dev import CspaceFreePath\n"
   ]
  },
  {
   "cell_type": "code",
   "execution_count": 4,
   "metadata": {},
   "outputs": [],
   "source": [
    "import logging\n",
    "drake_logger = logging.getLogger(\"drake\")\n",
    "drake_logger.setLevel(logging.DEBUG)"
   ]
  },
  {
   "cell_type": "markdown",
   "metadata": {},
   "source": [
    "# Build and set up the visualization the plant and the visualization of the C-space obstacle\n",
    "\n",
    "Note that running this cell multiple times will establish multiple meshcat instances which can fill up your memory. It is a good idea to call \"pkill -f meshcat\" from the command line before re-running this cell\n"
   ]
  },
  {
   "cell_type": "code",
   "execution_count": 5,
   "metadata": {},
   "outputs": [
    {
     "name": "stderr",
     "output_type": "stream",
     "text": [
      "DEBUG:drake:FindResource ignoring DRAKE_RESOURCE_ROOT because it is not set.\n",
      "DEBUG:drake:FindRunfile mechanism = RUNFILES_{MANIFEST_FILE,DIR}\n",
      "DEBUG:drake:cwd = \"/home/amice/Documents/coding_projects/drake/C_Iris_Examples\"\n",
      "DEBUG:drake:FindRunfile found by-manifest '/home/amice/Documents/coding_projects/drake/.drake-find_resource-sentinel' (good) and by-directory '/home/amice/.cache/bazel/_bazel_amice/32fdbbecfa8a7ce8feece95e48c42006/execroot/drake/bazel-out/k8-opt/bin/C_Iris_Examples/n_link_pend.runfiles/drake/.drake-find_resource-sentinel' (good)\n",
      "DEBUG:drake:FindRunfile found by-manifest '/home/amice/.cache/bazel/_bazel_amice/32fdbbecfa8a7ce8feece95e48c42006/execroot/drake/bazel-out/k8-opt/bin/geometry/meshcat.js' (good) and by-directory '/home/amice/.cache/bazel/_bazel_amice/32fdbbecfa8a7ce8feece95e48c42006/execroot/drake/bazel-out/k8-opt/bin/C_Iris_Examples/n_link_pend.runfiles/drake/geometry/meshcat.js' (good)\n",
      "DEBUG:drake:FindResource ignoring DRAKE_RESOURCE_ROOT because it is not set.\n",
      "DEBUG:drake:FindRunfile found by-manifest '/home/amice/Documents/coding_projects/drake/.drake-find_resource-sentinel' (good) and by-directory '/home/amice/.cache/bazel/_bazel_amice/32fdbbecfa8a7ce8feece95e48c42006/execroot/drake/bazel-out/k8-opt/bin/C_Iris_Examples/n_link_pend.runfiles/drake/.drake-find_resource-sentinel' (good)\n",
      "DEBUG:drake:FindRunfile found by-manifest '/home/amice/.cache/bazel/_bazel_amice/32fdbbecfa8a7ce8feece95e48c42006/execroot/drake/bazel-out/k8-opt/bin/geometry/stats.min.js' (good) and by-directory '/home/amice/.cache/bazel/_bazel_amice/32fdbbecfa8a7ce8feece95e48c42006/execroot/drake/bazel-out/k8-opt/bin/C_Iris_Examples/n_link_pend.runfiles/drake/geometry/stats.min.js' (good)\n",
      "DEBUG:drake:FindResource ignoring DRAKE_RESOURCE_ROOT because it is not set.\n",
      "DEBUG:drake:FindRunfile found by-manifest '/home/amice/Documents/coding_projects/drake/.drake-find_resource-sentinel' (good) and by-directory '/home/amice/.cache/bazel/_bazel_amice/32fdbbecfa8a7ce8feece95e48c42006/execroot/drake/bazel-out/k8-opt/bin/C_Iris_Examples/n_link_pend.runfiles/drake/.drake-find_resource-sentinel' (good)\n",
      "DEBUG:drake:FindRunfile found by-manifest '/home/amice/.cache/bazel/_bazel_amice/32fdbbecfa8a7ce8feece95e48c42006/execroot/drake/bazel-out/k8-opt/bin/geometry/meshcat.ico' (good) and by-directory '/home/amice/.cache/bazel/_bazel_amice/32fdbbecfa8a7ce8feece95e48c42006/execroot/drake/bazel-out/k8-opt/bin/C_Iris_Examples/n_link_pend.runfiles/drake/geometry/meshcat.ico' (good)\n",
      "DEBUG:drake:FindResource ignoring DRAKE_RESOURCE_ROOT because it is not set.\n",
      "DEBUG:drake:FindRunfile found by-manifest '/home/amice/Documents/coding_projects/drake/.drake-find_resource-sentinel' (good) and by-directory '/home/amice/.cache/bazel/_bazel_amice/32fdbbecfa8a7ce8feece95e48c42006/execroot/drake/bazel-out/k8-opt/bin/C_Iris_Examples/n_link_pend.runfiles/drake/.drake-find_resource-sentinel' (good)\n",
      "DEBUG:drake:FindRunfile found by-manifest '/home/amice/Documents/coding_projects/drake/geometry/meshcat.html' (good) and by-directory '/home/amice/.cache/bazel/_bazel_amice/32fdbbecfa8a7ce8feece95e48c42006/execroot/drake/bazel-out/k8-opt/bin/C_Iris_Examples/n_link_pend.runfiles/drake/geometry/meshcat.html' (good)\n",
      "INFO:drake:Meshcat listening for connections at http://localhost:7001\n"
     ]
    }
   ],
   "source": [
    "meshcat = StartMeshcat()\n",
    "meshcat.Delete()"
   ]
  },
  {
   "cell_type": "code",
   "execution_count": 51,
   "metadata": {},
   "outputs": [],
   "source": [
    "meshcat.Delete()\n",
    "builder = DiagramBuilder()\n",
    "plant, scene_graph = AddMultibodyPlantSceneGraph(builder, time_step=0.001)\n",
    "\n",
    "visualizer = MeshcatVisualizer.AddToBuilder(\n",
    "    builder, scene_graph, meshcat)\n",
    "\n",
    "link_dimensions = (0.1, 0.2, 0.001)\n",
    "pendulum_box = Box(*link_dimensions)\n",
    "pendulum_inertia = SpatialInertia.SolidBoxWithDensity(1, *link_dimensions)\n",
    "pendulum_model_instance = plant.AddModelInstance(\"pendulum\")\n",
    "def AddPendulumLink(parent_frame, link_index: int, color = np.array([1,0,0,1])):\n",
    "    link_name = f\"link_{link_index}\"\n",
    "    pend_body = plant.AddRigidBody(link_name, pendulum_model_instance, pendulum_inertia)\n",
    "    parent_to_child_attach_frame = plant.AddFrame(\n",
    "        FixedOffsetFrame(f\"{link_name}_joint_frame\", pend_body.body_frame(), \n",
    "                                  RigidTransform(p = (0,link_dimensions[1]/2, 0)))\n",
    "    )\n",
    "    next_frame = plant.AddFrame(\n",
    "        FixedOffsetFrame(f\"{link_name}_joint_frame\", pend_body.body_frame(), \n",
    "                                  RigidTransform(p = (0,-link_dimensions[1]/2, 0)))\n",
    "    )\n",
    "    # add the revolute joint,\n",
    "    joint_lim = np.pi\n",
    "    plant.AddJoint(RevoluteJoint(\n",
    "        f\"joint_{link_index}\", parent_frame, parent_to_child_attach_frame, [0,0,1],\n",
    "        -joint_lim, joint_lim,\n",
    "    )\n",
    "    )\n",
    "    \n",
    "    plant.RegisterCollisionGeometry(pend_body, RigidTransform(),\n",
    "                                    pendulum_box, link_name, CoulombFriction())\n",
    "    plant.RegisterVisualGeometry(pend_body, RigidTransform(),\n",
    "                                pendulum_box, link_name, color)\n",
    "    \n",
    "    \n",
    "    \n",
    "    return next_frame\n",
    "\n",
    "def N_Link_Pendulum(n: int):\n",
    "    assert n > 1\n",
    "    parent_frame = plant.world_frame()\n",
    "    colors = np.array(vis_utils.n_colors(n))/255\n",
    "    colors = np.hstack([colors,np.ones((colors.shape[0],1))])\n",
    "    for i in range(n):\n",
    "        parent_frame = AddPendulumLink(parent_frame, i+1, colors[i])\n",
    "    \n",
    "\n",
    "        \n",
    "obstacle_model_instance = plant.AddModelInstance(\"obstacle\")\n",
    "def AddRandomBox(index: int, pos_limits, size_limits, color = [0,0,0,1]):\n",
    "    link_name = f\"obstacle_{index}\"     \n",
    "    \n",
    "    center = np.append(np.random.uniform(pos_limits[0],pos_limits[1], 2),0)\n",
    "    \n",
    "    random_rp = np.zeros(3)\n",
    "    lim = np.pi/10\n",
    "    random_rp[2] = np.random.uniform(-lim, lim)\n",
    "    angle = RotationMatrix(RollPitchYaw(random_rp))\n",
    "    \n",
    "    pose = RigidTransform(p=center)@RigidTransform(R=angle)\n",
    "    \n",
    "    dimensions = np.append(np.random.uniform(size_limits[0],size_limits[1],2),0.001)\n",
    "    box = Box(*dimensions)\n",
    "    inertia = SpatialInertia.SolidBoxWithDensity(1, *dimensions)\n",
    "    \n",
    "    body = plant.AddRigidBody(link_name, obstacle_model_instance, inertia)\n",
    "    plant.AddJoint(WeldJoint(link_name, plant.world_frame(), body.body_frame(),\n",
    "                            pose))\n",
    "    plant.RegisterCollisionGeometry(body, RigidTransform(),\n",
    "                                    box, link_name, CoulombFriction())\n",
    "    plant.RegisterVisualGeometry(body, RigidTransform(),\n",
    "                                box, link_name, color)\n",
    "    \n",
    "    \n",
    "\n",
    "def AddNRandomBoxes(n: int, pos_limits=(-10,10),\n",
    "                    size_limits = (0.1,1), color= [0,0,0,1],\n",
    "                   filter_all = False):\n",
    "    assert n > 1\n",
    "    for i in range(n):\n",
    "        AddRandomBox(i, pos_limits, size_limits, color)\n",
    "\n",
    "# child_frame = AddPendulumLink(plant.world_frame(), 1)\n",
    "num_pend = 12\n",
    "N_Link_Pendulum(num_pend)\n",
    "\n",
    "num_obstacles = 10\n",
    "obstacle_pos_limits = link_dimensions[1]*num_pend*np.array([-1,1])\n",
    "obstacle_size_limits = (0.01,0.5)\n",
    "AddNRandomBoxes(num_obstacles, obstacle_pos_limits, obstacle_size_limits)\n",
    "\n",
    "plant.Finalize()\n",
    "\n",
    "# meshcat.Set2dRenderMode(RigidTransform(p=np.array([0,0,1])))\n",
    "\n",
    "diagram = builder.Build()\n",
    "diagram_context = diagram.CreateDefaultContext()\n",
    "plant_context = diagram.GetMutableSubsystemContext(plant, diagram_context)\n",
    "scene_graph_context = diagram.GetMutableSubsystemContext(scene_graph, diagram_context)\n",
    "query_port = scene_graph.get_query_output_port()\n",
    "diagram.ForcedPublish(diagram_context)\n",
    "\n",
    "q_star = np.zeros(plant.num_positions())\n",
    "Ratfk = RationalForwardKinematics(plant)\n",
    "\n",
    "\n",
    "vis_bundle = vis_utils.VisualizationBundle(\n",
    "    diagram, diagram_context, plant, plant_context,\n",
    "    Ratfk, meshcat, q_star\n",
    ")"
   ]
  },
  {
   "cell_type": "code",
   "execution_count": 52,
   "metadata": {},
   "outputs": [
    {
     "name": "stdout",
     "output_type": "stream",
     "text": [
      "[[-1.63312394e+16 -1.63312394e+16 -1.63312394e+16 -1.63312394e+16\n",
      "  -1.63312394e+16 -1.63312394e+16 -1.63312394e+16 -1.63312394e+16\n",
      "  -1.63312394e+16 -1.63312394e+16 -1.63312394e+16 -1.63312394e+16]\n",
      " [ 1.63312394e+16  1.63312394e+16  1.63312394e+16  1.63312394e+16\n",
      "   1.63312394e+16  1.63312394e+16  1.63312394e+16  1.63312394e+16\n",
      "   1.63312394e+16  1.63312394e+16  1.63312394e+16  1.63312394e+16]]\n"
     ]
    }
   ],
   "source": [
    "#compute limits in s-space\n",
    "limits_s = []\n",
    "lower_q = plant.GetPositionLowerLimits()\n",
    "upper_q = plant.GetPositionUpperLimits()\n",
    "\n",
    "\n",
    "# lower_q[0] = -np.pi/2\n",
    "# upper_q[0] = np.pi/2\n",
    "\n",
    "# lower_q[-1] = 0\n",
    "# upper_q[-1] = 0\n",
    "\n",
    "# lower_q[2] = 0\n",
    "\n",
    "for q in [lower_q,upper_q]:\n",
    "    limits_s.append(Ratfk.ComputeSValue(np.array(q), q_star))\n",
    "limits_s = np.array(limits_s)\n",
    "print(limits_s)"
   ]
  },
  {
   "cell_type": "code",
   "execution_count": 53,
   "metadata": {},
   "outputs": [],
   "source": [
    "from pydrake.all import InverseKinematics\n",
    "ik = InverseKinematics(plant, diagram.GetMutableSubsystemContext(plant, diagram_context))\n",
    "min_dist = 1e-5\n",
    "collision_constraint = ik.AddMinimumDistanceConstraint(\n",
    "            min_dist, 1e-5)\n",
    "diagram_col_context = diagram.CreateDefaultContext()\n",
    "plant_col_context = diagram.GetMutableSubsystemContext(plant, diagram_col_context)\n",
    "scene_graph_col_context = diagram.GetMutableSubsystemContext(scene_graph, diagram_col_context)\n",
    "def check_collision_q_by_ik(q, min_dist=1e-5):\n",
    "    if np.all(q >= plant.GetPositionLowerLimits()) and \\\n",
    "            np.all(q <= plant.GetPositionUpperLimits()):\n",
    "        return 1 - 1 * \\\n",
    "            float(collision_constraint.evaluator().CheckSatisfied(q, min_dist))\n",
    "    else:\n",
    "        return 1\n",
    "def check_collision_s_by_ik(s, min_dist=1e-5):\n",
    "    s = np.array(s)\n",
    "    q = Ratfk.ComputeQValue(s, q_star)\n",
    "    return check_collision_q_by_ik(q, min_dist)\n",
    "\n",
    "def check_collision_q_by_query(q):\n",
    "    if np.all(q >= plant.GetPositionLowerLimits()) and \\\n",
    "            np.all(q <= plant.GetPositionUpperLimits()):\n",
    "        plant.SetPositions(plant_col_context, q)\n",
    "        query_object = query_port.Eval(scene_graph_col_context)\n",
    "        return 1 if query_object.HasCollisions() else 0\n",
    "    else:\n",
    "        return 1\n",
    "    \n",
    "def check_collision_s_by_query(s):\n",
    "    s = np.array(s)\n",
    "    q = Ratfk.ComputeQValue(s, q_star)\n",
    "    return check_collision_q_by_query(q)"
   ]
  },
  {
   "cell_type": "markdown",
   "metadata": {},
   "source": [
    "## Set up the sliders so we can move the plant around manually"
   ]
  },
  {
   "cell_type": "code",
   "execution_count": 54,
   "metadata": {
    "scrolled": false
   },
   "outputs": [
    {
     "name": "stderr",
     "output_type": "stream",
     "text": [
      "Widget Javascript not detected.  It may not be installed or enabled properly. Reconnecting the current kernel may help.\n"
     ]
    },
    {
     "data": {
      "application/vnd.jupyter.widget-view+json": {
       "model_id": "3ebecbf001f345cd87c5a737f25cf268"
      }
     },
     "metadata": {},
     "output_type": "display_data"
    },
    {
     "name": "stderr",
     "output_type": "stream",
     "text": [
      "Widget Javascript not detected.  It may not be installed or enabled properly. Reconnecting the current kernel may help.\n"
     ]
    },
    {
     "data": {
      "application/vnd.jupyter.widget-view+json": {
       "model_id": "46eefe3d1beb43ceb0e78513dbf650a2"
      }
     },
     "metadata": {},
     "output_type": "display_data"
    },
    {
     "name": "stderr",
     "output_type": "stream",
     "text": [
      "Widget Javascript not detected.  It may not be installed or enabled properly. Reconnecting the current kernel may help.\n"
     ]
    },
    {
     "data": {
      "application/vnd.jupyter.widget-view+json": {
       "model_id": "4fb237bd69d942eb8b1e51ba4694d433"
      }
     },
     "metadata": {},
     "output_type": "display_data"
    },
    {
     "name": "stderr",
     "output_type": "stream",
     "text": [
      "Widget Javascript not detected.  It may not be installed or enabled properly. Reconnecting the current kernel may help.\n"
     ]
    },
    {
     "data": {
      "application/vnd.jupyter.widget-view+json": {
       "model_id": "0df104ec8d8e483f968f8c2948ff148b"
      }
     },
     "metadata": {},
     "output_type": "display_data"
    },
    {
     "name": "stderr",
     "output_type": "stream",
     "text": [
      "Widget Javascript not detected.  It may not be installed or enabled properly. Reconnecting the current kernel may help.\n"
     ]
    },
    {
     "data": {
      "application/vnd.jupyter.widget-view+json": {
       "model_id": "742cdaaf78f8460db140d7ca87694a31"
      }
     },
     "metadata": {},
     "output_type": "display_data"
    },
    {
     "name": "stderr",
     "output_type": "stream",
     "text": [
      "Widget Javascript not detected.  It may not be installed or enabled properly. Reconnecting the current kernel may help.\n"
     ]
    },
    {
     "data": {
      "application/vnd.jupyter.widget-view+json": {
       "model_id": "a349b107d85d4c23ab752601ed9627bb"
      }
     },
     "metadata": {},
     "output_type": "display_data"
    },
    {
     "name": "stderr",
     "output_type": "stream",
     "text": [
      "Widget Javascript not detected.  It may not be installed or enabled properly. Reconnecting the current kernel may help.\n"
     ]
    },
    {
     "data": {
      "application/vnd.jupyter.widget-view+json": {
       "model_id": "8e09b6641328465dbe65e7745122d98a"
      }
     },
     "metadata": {},
     "output_type": "display_data"
    },
    {
     "name": "stderr",
     "output_type": "stream",
     "text": [
      "Widget Javascript not detected.  It may not be installed or enabled properly. Reconnecting the current kernel may help.\n"
     ]
    },
    {
     "data": {
      "application/vnd.jupyter.widget-view+json": {
       "model_id": "cb7e1a47aba84a34998f94f8ea9f2ded"
      }
     },
     "metadata": {},
     "output_type": "display_data"
    },
    {
     "name": "stderr",
     "output_type": "stream",
     "text": [
      "Widget Javascript not detected.  It may not be installed or enabled properly. Reconnecting the current kernel may help.\n"
     ]
    },
    {
     "data": {
      "application/vnd.jupyter.widget-view+json": {
       "model_id": "419fcaf27f85483597c0aeabe3310caa"
      }
     },
     "metadata": {},
     "output_type": "display_data"
    },
    {
     "name": "stderr",
     "output_type": "stream",
     "text": [
      "Widget Javascript not detected.  It may not be installed or enabled properly. Reconnecting the current kernel may help.\n"
     ]
    },
    {
     "data": {
      "application/vnd.jupyter.widget-view+json": {
       "model_id": "6f8888e9eae745fba77711eec971088c"
      }
     },
     "metadata": {},
     "output_type": "display_data"
    },
    {
     "name": "stderr",
     "output_type": "stream",
     "text": [
      "Widget Javascript not detected.  It may not be installed or enabled properly. Reconnecting the current kernel may help.\n"
     ]
    },
    {
     "data": {
      "application/vnd.jupyter.widget-view+json": {
       "model_id": "1a49c0e6a56e4e5ab59dcd7962459aea"
      }
     },
     "metadata": {},
     "output_type": "display_data"
    },
    {
     "name": "stderr",
     "output_type": "stream",
     "text": [
      "Widget Javascript not detected.  It may not be installed or enabled properly. Reconnecting the current kernel may help.\n"
     ]
    },
    {
     "data": {
      "application/vnd.jupyter.widget-view+json": {
       "model_id": "be2fe06c8e164342bf2561ebc22fa022"
      }
     },
     "metadata": {},
     "output_type": "display_data"
    }
   ],
   "source": [
    "sliders = []\n",
    "for i in range(plant.num_positions()):\n",
    "    sliders.append(widgets.FloatSlider(min=plant.GetPositionLowerLimits()[i],\n",
    "                                       max=plant.GetPositionUpperLimits()[i], \n",
    "                                       value=plant.GetPositions(plant_context)[i],\n",
    "                                       description=f'q{i}'))\n",
    "# sliders.append(widgets.FloatSlider(min=q_low[2], max=q_high[2], value=0, description='q2'))\n",
    "\n",
    "q = np.zeros(plant.num_positions())\n",
    "def handle_slider_change(change, idx):\n",
    "    q[idx] = change['new']\n",
    "    plant.SetPositions(plant_context, q)\n",
    "    diagram.ForcedPublish(diagram_context)\n",
    "\n",
    "    \n",
    "idx = 0\n",
    "for slider in sliders:\n",
    "    slider.observe(partial(handle_slider_change, idx = idx), names='value')\n",
    "    idx+=1\n",
    "\n",
    "for slider in sliders:\n",
    "    display(slider)\n",
    "\n",
    "\n",
    "# visualizer.jupyter_cell()"
   ]
  },
  {
   "cell_type": "code",
   "execution_count": 55,
   "metadata": {},
   "outputs": [],
   "source": [
    "from rrt import StraightLineCollisionChecker, DrawTreeOptions\n",
    "import networkx as nx\n",
    "from scipy.spatial import cKDTree\n",
    "\n",
    "class PRM:\n",
    "    def __init__(self,\n",
    "                 node_sampling_fun, # generate a random sample. It does not need to be collision free.\n",
    "                 num_points,\n",
    "                 straight_line_col_checker,\n",
    "                 dist_thresh=0.1,\n",
    "                 num_neighbors = 5,\n",
    "                 max_it = int(1e4),\n",
    "                 initial_points = None\n",
    "                ):\n",
    "        self.straight_line_col_checker = straight_line_col_checker\n",
    "        self.max_it = max_it\n",
    "        \n",
    "        \n",
    "        self.prm = nx.Graph()\n",
    "        if initial_points is not None:\n",
    "            for p in initial_points:\n",
    "                self.prm.add_node(p)\n",
    "                \n",
    "        self._sample_nodes(node_sampling_fun, num_points, max_it)\n",
    "        \n",
    "        self.node_kd_tree = cKDTree(self.prm.nodes)\n",
    "        \n",
    "        self._connect_nodes(num_neighbors, dist_thresh)\n",
    "            \n",
    "        print(f\"PRM has {len(self.prm.nodes)} nodes\")\n",
    "        print(f\"PRM has {len(self.prm.edges)} edges\")\n",
    "        \n",
    "    def _sample_nodes(self, node_sampling_fun, num_points, max_it):\n",
    "        it = 0\n",
    "        while len(self.prm.nodes) < num_points:\n",
    "            x = node_sampling_fun()\n",
    "            if not self.straight_line_col_checker.in_collision_handle(x):\n",
    "                it = 0\n",
    "                self.prm.add_node(tuple(x))\n",
    "        \n",
    "            it += 1\n",
    "            if it > max_it:\n",
    "                import warnings\n",
    "                warngings.warn(f\"[PRM] failed to find a collision free point after {max_it}. Building PRM with {len(self.prm.nodes)}/{num_points}\")\n",
    "        \n",
    "        \n",
    "        \n",
    "    def _connect_nodes(self, num_neighbors, dist_thresh):\n",
    "        for n in self.prm.nodes:\n",
    "            dists, inds = self.node_kd_tree.query(n, k=num_neighbors, p=2,\n",
    "                                                distance_upper_bound = dist_thresh)\n",
    "                        \n",
    "            for i,neighbor_ind in enumerate(inds):\n",
    "                dist_is_inf = (dists[i] == np.inf)\n",
    "                if dists[i] != np.inf:\n",
    "                    has_collision = self.straight_line_col_checker.straight_line_has_collision(np.array(n), \n",
    "                                                        self.node_kd_tree.data[neighbor_ind])\n",
    "                    if not has_collision:\n",
    "                        self.prm.add_edge(n, tuple(self.node_kd_tree.data[neighbor_ind])) \n",
    "    def draw_tree(self, vis_bundle, body, prefix=\"prm\", options=DrawTreeOptions()):\n",
    "        vis_bundle.meshcat_instance.Delete(prefix)\n",
    "        for idx, (s0, s1) in enumerate(self.prm.edges()):\n",
    "            vis_utils.visualize_task_space_trajectory(vis_bundle, s0, s1, body, color=options.edge_color,\n",
    "                                            path_size=options.path_size, num_points=options.num_points,\n",
    "                                            path=f\"{prefix}/seg_{idx}\")\n"
   ]
  },
  {
   "cell_type": "code",
   "execution_count": 56,
   "metadata": {},
   "outputs": [
    {
     "name": "stdout",
     "output_type": "stream",
     "text": [
      "PRM has 100 nodes\n",
      "PRM has 258 edges\n"
     ]
    }
   ],
   "source": [
    "col_checker = StraightLineCollisionChecker(check_collision_s_by_query, 100)\n",
    "def sample_col_free_point():\n",
    "    q = np.random.uniform(plant.GetPositionLowerLimits(), plant.GetPositionUpperLimits())\n",
    "    s = Ratfk.ComputeSValue(q, q_star)\n",
    "    return s\n",
    "prm = PRM(sample_col_free_point,\n",
    "         100,\n",
    "         col_checker,\n",
    "         dist_thresh = 100)\n",
    "prm.draw_tree(vis_bundle, plant.GetBodyByName(f\"link_{num_pend}\"))"
   ]
  },
  {
   "cell_type": "code",
   "execution_count": 12,
   "metadata": {},
   "outputs": [
    {
     "name": "stdout",
     "output_type": "stream",
     "text": [
      "[PRM ERROR] Could not find collision free point in MAXIT\n"
     ]
    },
    {
     "ename": "NotImplementedError",
     "evalue": "",
     "output_type": "error",
     "traceback": [
      "\u001b[0;31m---------------------------------------------------------------------------\u001b[0m",
      "\u001b[0;31mNotImplementedError\u001b[0m                       Traceback (most recent call last)",
      "\u001b[0;32m/tmp/ipykernel_63795/4061426631.py\u001b[0m in \u001b[0;36m<module>\u001b[0;34m\u001b[0m\n\u001b[1;32m     18\u001b[0m \u001b[0;34m\u001b[0m\u001b[0m\n\u001b[1;32m     19\u001b[0m \u001b[0;34m\u001b[0m\u001b[0m\n\u001b[0;32m---> 20\u001b[0;31m PRM = prm.PRM( \n\u001b[0m\u001b[1;32m     21\u001b[0m             \u001b[0mlimits_s\u001b[0m\u001b[0;34m,\u001b[0m\u001b[0;34m\u001b[0m\u001b[0;34m\u001b[0m\u001b[0m\n\u001b[1;32m     22\u001b[0m             \u001b[0mnum_points\u001b[0m \u001b[0;34m=\u001b[0m \u001b[0;36m100\u001b[0m\u001b[0;34m,\u001b[0m\u001b[0;34m\u001b[0m\u001b[0;34m\u001b[0m\u001b[0m\n",
      "\u001b[0;32m~/Documents/coding_projects/drake/C_Iris_Examples/prm.py\u001b[0m in \u001b[0;36m__init__\u001b[0;34m(self, limits, num_points, col_func_handle, num_neighbours, dist_thresh, num_col_checks, max_it, initial_points, verbose, plotcallback, sample_via_gaussian, gaussian_sample_var, node_sampling_function)\u001b[0m\n\u001b[1;32m     53\u001b[0m                 \u001b[0mnodes\u001b[0m\u001b[0;34m.\u001b[0m\u001b[0mappend\u001b[0m\u001b[0;34m(\u001b[0m\u001b[0mself\u001b[0m\u001b[0;34m.\u001b[0m\u001b[0msample_via_gaussian\u001b[0m\u001b[0;34m(\u001b[0m\u001b[0mnodes\u001b[0m\u001b[0;34m,\u001b[0m \u001b[0mvar\u001b[0m \u001b[0;34m=\u001b[0m \u001b[0mgaussian_sample_var\u001b[0m\u001b[0;34m)\u001b[0m\u001b[0;34m)\u001b[0m\u001b[0;34m\u001b[0m\u001b[0;34m\u001b[0m\u001b[0m\n\u001b[1;32m     54\u001b[0m             \u001b[0;32melse\u001b[0m\u001b[0;34m:\u001b[0m\u001b[0;34m\u001b[0m\u001b[0;34m\u001b[0m\u001b[0m\n\u001b[0;32m---> 55\u001b[0;31m                 \u001b[0mnodes\u001b[0m\u001b[0;34m.\u001b[0m\u001b[0mappend\u001b[0m\u001b[0;34m(\u001b[0m\u001b[0mself\u001b[0m\u001b[0;34m.\u001b[0m\u001b[0mnode_sampling_function\u001b[0m\u001b[0;34m(\u001b[0m\u001b[0mMAXIT\u001b[0m\u001b[0;34m=\u001b[0m\u001b[0mmax_it\u001b[0m\u001b[0;34m)\u001b[0m\u001b[0;34m)\u001b[0m\u001b[0;34m\u001b[0m\u001b[0;34m\u001b[0m\u001b[0m\n\u001b[0m\u001b[1;32m     56\u001b[0m             \u001b[0;32mif\u001b[0m \u001b[0mself\u001b[0m\u001b[0;34m.\u001b[0m\u001b[0mverbose\u001b[0m \u001b[0;32mand\u001b[0m \u001b[0midx\u001b[0m \u001b[0;34m%\u001b[0m \u001b[0;36m30\u001b[0m \u001b[0;34m==\u001b[0m \u001b[0;36m0\u001b[0m\u001b[0;34m:\u001b[0m\u001b[0;34m\u001b[0m\u001b[0;34m\u001b[0m\u001b[0m\n\u001b[1;32m     57\u001b[0m                 \u001b[0mprint\u001b[0m\u001b[0;34m(\u001b[0m\u001b[0;34m'[PRM] Samples'\u001b[0m\u001b[0;34m,\u001b[0m \u001b[0midx\u001b[0m\u001b[0;34m)\u001b[0m\u001b[0;34m\u001b[0m\u001b[0;34m\u001b[0m\u001b[0m\n",
      "\u001b[0;32m~/Documents/coding_projects/drake/C_Iris_Examples/prm.py\u001b[0m in \u001b[0;36msample_node_pos\u001b[0;34m(self, collision_free, MAXIT)\u001b[0m\n\u001b[1;32m    105\u001b[0m         \u001b[0;32mif\u001b[0m \u001b[0;32mnot\u001b[0m \u001b[0mgood_sample\u001b[0m\u001b[0;34m:\u001b[0m\u001b[0;34m\u001b[0m\u001b[0;34m\u001b[0m\u001b[0m\n\u001b[1;32m    106\u001b[0m             \u001b[0mprint\u001b[0m\u001b[0;34m(\u001b[0m\u001b[0;34m\"[PRM ERROR] Could not find collision free point in MAXIT\"\u001b[0m\u001b[0;34m)\u001b[0m\u001b[0;34m\u001b[0m\u001b[0;34m\u001b[0m\u001b[0m\n\u001b[0;32m--> 107\u001b[0;31m             \u001b[0;32mraise\u001b[0m \u001b[0mNotImplementedError\u001b[0m\u001b[0;34m\u001b[0m\u001b[0;34m\u001b[0m\u001b[0m\n\u001b[0m\u001b[1;32m    108\u001b[0m         \u001b[0;32mreturn\u001b[0m \u001b[0mpos_samp\u001b[0m\u001b[0;34m\u001b[0m\u001b[0;34m\u001b[0m\u001b[0m\n\u001b[1;32m    109\u001b[0m \u001b[0;34m\u001b[0m\u001b[0m\n",
      "\u001b[0;31mNotImplementedError\u001b[0m: "
     ]
    }
   ],
   "source": [
    "# draw prm\n",
    "import prm\n",
    "from pydrake.all import Rgba\n",
    "\n",
    "# limits = [np.array(t_low), np.array(q_high)]\n",
    "\n",
    "\n",
    "\n",
    "def collision(pos, col_func_handle):\n",
    "    return col_func_handle(pos)\n",
    "\n",
    "def collision_bad(pos, col_func_handle):\n",
    "    return 1-col_func_handle(pos)\n",
    "\n",
    "prm_col_fn_handle = partial(collision, \n",
    "                            col_func_handle = check_collision_s_by_query)\n",
    "# prm_col_fn_handle_bad = partial(collision_bad, col_func_handle = check_collision_s_by_ik)\n",
    "    \n",
    "\n",
    "PRM = prm.PRM( \n",
    "            limits_s,\n",
    "            num_points = 100,\n",
    "            col_func_handle = prm_col_fn_handle,\n",
    "            num_neighbours = 3, \n",
    "            dist_thresh = 1e10,\n",
    "            num_col_checks = 10,\n",
    "            max_it = 1e4,\n",
    "            verbose = True,\n",
    "            plotcallback = None\n",
    "            )\n",
    "\n",
    "# PRM_bad = prm.PRM( \n",
    "#             limits_t,\n",
    "#             num_points = 2000,\n",
    "#             col_func_handle = prm_col_fn_handle_bad,\n",
    "#             num_neighbours = 5, \n",
    "#             dist_thresh = .5,\n",
    "#             num_col_checks = 10,\n",
    "#             verbose = True,\n",
    "#             plotcallback = None\n",
    "#             )\n",
    "\n",
    "# PRM.add_start_end(start, target)\n",
    "# PRM.plot()\n",
    "tot_num_edges = len(PRM.adjacency_list)* len(PRM.adjacency_list[0])\n",
    "print(tot_num_edges)\n",
    "\n",
    "body = plant.GetBodyByName(f\"link_{num_pend}\")\n",
    "def visualize_task_space_trajectory(segment_start, segment_end,\n",
    "                                    body, color = Rgba(0,1,0,0.5),\n",
    "                                    path_size = 0.01, num_points = 100, path = \"prm/seg\"):\n",
    "    s_waypoints = np.linspace(segment_start, segment_end, num_points)\n",
    "    points = []\n",
    "    for s in s_waypoints:\n",
    "        q = Ratfk.ComputeQValue(s, q_star)\n",
    "        plant.SetPositions(plant_context, q)\n",
    "        points.append(plant.EvalBodyPoseInWorld(plant_context, body).translation())\n",
    "    points = np.array(points)\n",
    "    pc = PointCloud(len(points))\n",
    "    pc.mutable_xyzs()[:] = points.T\n",
    "    meshcat.SetObject(path, pc, point_size = path_size, rgba=color)\n",
    "\n",
    "\n",
    "def plot_prm(PRM, body, color = Rgba(0,1,0,0.5),\n",
    "                                    path_size = 0.01, num_points = 1000, prefix = \"prm\"):\n",
    "    meshcat.Delete(prefix)\n",
    "    for idx, (s0, s1) in enumerate(PRM.prm_pairs):\n",
    "        visualize_task_space_trajectory(s0, s1, body, color,\n",
    "                                        path_size, num_points, \n",
    "                                        f\"{prefix}/seg_{idx}\")\n",
    "def plot_prm_nodes(PRM, body, color = Rgba(0,0,1,1),\n",
    "                                    point_size = 0.05, prefix = \"prm_nodes\"):\n",
    "    meshcat.Delete(prefix)\n",
    "    points = []\n",
    "    for idx, s in enumerate(PRM.nodes):\n",
    "        q = Ratfk.ComputeQValue(s, q_star)\n",
    "        plant.SetPositions(plant_context, q)\n",
    "        points.append(plant.EvalBodyPoseInWorld(plant_context, body).translation())\n",
    "    points = np.array(points)\n",
    "    pc = PointCloud(len(points))\n",
    "    pc.mutable_xyzs()[:] = points.T\n",
    "    meshcat.SetObject(prefix, pc, point_size = point_size, rgba=color)\n",
    "    \n",
    "# plot_prm(PRM, body)\n",
    "plot_prm_nodes(PRM, body, point_size = 1)"
   ]
  },
  {
   "cell_type": "code",
   "execution_count": null,
   "metadata": {},
   "outputs": [],
   "source": [
    "def make_line_polys(PRM):\n",
    "    polys = np.empty(shape=(plant.num_positions(), len(PRM.prm_pairs)), dtype = object)\n",
    "    for i, (s0, s1) in enumerate(PRM.prm_pairs):\n",
    "        for j in range(plant.num_positions()):\n",
    "            polys[j,i] = PolynomialCommon(np.array([s0[j],s1[j]-s0[j]]))# PolynomialCommon(np.array([s1[j],s0[j]-s1[j]]))\n",
    "            if i == 0 and j == 0:\n",
    "                print(polys[j,i].EvaluateUnivariate(0))\n",
    "                print(s0[j])\n",
    "                print()\n",
    "                print(polys[j,i].EvaluateUnivariate(1))\n",
    "                print(s1[j])\n",
    "                print()\n",
    "    return polys\n",
    "\n",
    "path_safe = make_line_polys(PRM)\n",
    "# path_unsafe = make_line_polys(PRM_bad)\n",
    "    "
   ]
  },
  {
   "cell_type": "code",
   "execution_count": null,
   "metadata": {},
   "outputs": [],
   "source": [
    "# The object we will use to perform our certification.\n",
    "t0 = time.time()\n",
    "cspace_free_path = CspaceFreePath(plant, scene_graph, q_star, maximum_path_degree = 1, plane_order = 4)\n",
    "t1 = time.time()\n",
    "print(f\"Time to construct line certifier = {t1-t0}s\")\n",
    "\n",
    "\n",
    "cert_options = CspaceFreePath.FindSeparationCertificateGivenPathOptions()\n",
    "cert_options.terminate_segment_certification_at_failure = False\n",
    "\n",
    "cert_options.num_threads = -1\n",
    "cert_options.verbose = False\n",
    "cert_options.solver_id = MosekSolver.id()\n",
    "cert_options.solver_options = SolverOptions()\n",
    "cert_options.terminate_path_certification_at_failure = False\n"
   ]
  },
  {
   "cell_type": "code",
   "execution_count": null,
   "metadata": {},
   "outputs": [],
   "source": [
    "t0 = time.time()\n",
    "ret = cspace_free_path.FindSeparationCertificateGivenPath(path_safe, set(), cert_options)\n",
    "t1 = time.time()\n",
    "print(f\"Certification of safe PRM in {t1-t0}s\")"
   ]
  },
  {
   "cell_type": "code",
   "execution_count": null,
   "metadata": {},
   "outputs": [],
   "source": [
    "def plot_pair_safety(pairs, is_safe_vec, body,\n",
    "                                    path_size = 0.01, num_points = 1000, prefix = \"prm\"):\n",
    "    meshcat.Delete(f\"{prefix}_safe\")\n",
    "    meshcat.Delete(f\"{prefix}_unsafe\")\n",
    "    for idx, (s0, s1) in enumerate(pairs):\n",
    "        if is_safe_vec[idx]:\n",
    "            visualize_task_space_trajectory(s0, s1, body, Rgba(0,1,0,0.5),\n",
    "                                            path_size, num_points, \n",
    "                                            f\"{prefix}_safe/seg_{idx}\")\n",
    "        else:\n",
    "            visualize_task_space_trajectory(s0, s1, body, Rgba(1,0,0,0.5),\n",
    "                                            path_size, num_points, \n",
    "                                            f\"{prefix}_unsafe/seg_{idx}\")\n",
    "plot_pair_safety(PRM.prm_pairs, ret[0], body)"
   ]
  },
  {
   "cell_type": "code",
   "execution_count": null,
   "metadata": {},
   "outputs": [],
   "source": [
    "unsafe_inds = np.where(np.logical_not(ret))[1]"
   ]
  },
  {
   "cell_type": "code",
   "execution_count": null,
   "metadata": {},
   "outputs": [],
   "source": [
    "unsafe_traj = path_safe[:,unsafe_inds]"
   ]
  },
  {
   "cell_type": "code",
   "execution_count": null,
   "metadata": {},
   "outputs": [],
   "source": [
    "unsafe_traj[:,0]"
   ]
  },
  {
   "cell_type": "code",
   "execution_count": null,
   "metadata": {},
   "outputs": [],
   "source": [
    "def animate_traj_s(traj, steps, total_time = 2):\n",
    "    sleep_time = total_time/steps\n",
    "    # loop\n",
    "    idx = 0\n",
    "    going_fwd = True\n",
    "    time_points = np.linspace(0, traj.end_time(), steps)\n",
    "    frame_count = 0\n",
    "    meshcat.StartRecording()\n",
    "    for frame_count, t in enumerate(time_points):\n",
    "        t0 = time.time()\n",
    "        s = traj.value(t)\n",
    "        q = Ratfk.ComputeQValue(s, q_star)\n",
    "        plant.SetPositions(plant_context, q)\n",
    "        diagram_context.SetTime(frame_count *sleep_time)\n",
    "        diagram.ForcedPublish(diagram_context)\n",
    "        \n",
    "        if scene_graph.HasCollisions():\n",
    "            print(\"COLLISION DETECTED\")\n",
    "        t1 = time.time()\n",
    "        pause = sleep_time - (t1 - t0)\n",
    "        if pause > 0:\n",
    "            time.sleep(pause)\n",
    "    meshcat.StopRecording()\n",
    "    meshcat.PublishRecording()"
   ]
  },
  {
   "cell_type": "code",
   "execution_count": null,
   "metadata": {},
   "outputs": [],
   "source": [
    "unsafe_traj.shape"
   ]
  },
  {
   "cell_type": "code",
   "execution_count": null,
   "metadata": {},
   "outputs": [],
   "source": [
    "from pydrake.all import PiecewisePolynomial\n",
    "traj = PiecewisePolynomial(unsafe_traj[:,:3].T, list(range(unsafe_traj[:,:3].shape[1])))\n",
    "print(traj.rows())\n",
    "print(traj.cols())"
   ]
  },
  {
   "cell_type": "code",
   "execution_count": null,
   "metadata": {},
   "outputs": [],
   "source": [
    "animate_traj_s(traj, 1000, 1)"
   ]
  },
  {
   "cell_type": "code",
   "execution_count": null,
   "metadata": {},
   "outputs": [
    {
     "name": "stderr",
     "output_type": "stream",
     "text": [
      "DEBUG:drake:Meshcat connection opened from 0000:0000:0000:0000:0000:0000:0000:0001\n"
     ]
    }
   ],
   "source": [
    "unsafe_traj.shape"
   ]
  }
 ],
 "metadata": {
  "interpreter": {
   "hash": "31f2aee4e71d21fbe5cf8b01ff0e069b9275f58929596ceb00d14d90e3e16cd6"
  },
  "kernelspec": {
   "display_name": "Python 3 (ipykernel)",
   "language": "python",
   "name": "python3"
  },
  "language_info": {
   "codemirror_mode": {
    "name": "ipython",
    "version": 3
   },
   "file_extension": ".py",
   "mimetype": "text/x-python",
   "name": "python",
   "nbconvert_exporter": "python",
   "pygments_lexer": "ipython3",
   "version": "3.10.12"
  }
 },
 "nbformat": 4,
 "nbformat_minor": 2
}
