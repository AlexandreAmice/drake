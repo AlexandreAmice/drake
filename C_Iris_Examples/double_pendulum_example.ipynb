{
 "cells": [
  {
   "cell_type": "code",
   "execution_count": 1,
   "metadata": {},
   "outputs": [],
   "source": [
    "%load_ext autoreload"
   ]
  },
  {
   "cell_type": "code",
   "execution_count": 2,
   "metadata": {},
   "outputs": [],
   "source": [
    "import numpy as np\n",
    "from functools import partial\n",
    "import visualization_utils as viz_utils\n",
    "from iris_plant_visualizer import IrisPlantVisualizer\n",
    "import ipywidgets as widgets\n",
    "from IPython.display import display\n",
    "from scipy.linalg import block_diag\n",
    "import matplotlib.pyplot as plt\n",
    "from pathlib import Path\n",
    "import os\n",
    "import random"
   ]
  },
  {
   "cell_type": "code",
   "execution_count": 3,
   "metadata": {},
   "outputs": [],
   "source": [
    "#pydrake imports\n",
    "from pydrake.common import FindResourceOrThrow\n",
    "from pydrake.multibody.parsing import Parser\n",
    "from pydrake.multibody.plant import AddMultibodyPlantSceneGraph\n",
    "from pydrake.systems.framework import DiagramBuilder\n",
    "from pydrake.geometry import Role, GeometrySet, CollisionFilterDeclaration\n",
    "from pydrake.all import RigidTransform, RollPitchYaw, RevoluteJoint\n",
    "from pydrake.all import RotationMatrix, Sphere, Rgba\n",
    "import pydrake.symbolic as sym\n",
    "import time\n",
    "from pydrake.solvers import MosekSolver, CommonSolverOption, SolverOptions\n",
    "from pydrake.all import RationalForwardKinematics\n",
    "from pydrake.geometry.optimization import HPolyhedron, Hyperellipsoid\n",
    "from pydrake.geometry.optimization_dev import CspaceFreePath\n",
    "from pydrake.polynomial import Polynomial as PolynomialCommon"
   ]
  },
  {
   "cell_type": "code",
   "execution_count": 4,
   "metadata": {},
   "outputs": [],
   "source": [
    "from pydrake.solvers import MosekSolver, CommonSolverOption, SolverOptions\n",
    "import logging\n",
    "drake_logger = logging.getLogger(\"drake\")\n",
    "# drake_logger.setLevel(logging.DEBUG)"
   ]
  },
  {
   "cell_type": "markdown",
   "metadata": {},
   "source": [
    "# Build and set up the visualization the plant and the visualization of the C-space obstacle\n",
    "\n",
    "Note that running this cell multiple times will establish multiple meshcat instances which can fill up your memory. It is a good idea to call \"pkill -f meshcat\" from the command line before re-running this cell\n"
   ]
  },
  {
   "cell_type": "code",
   "execution_count": 5,
   "metadata": {},
   "outputs": [
    {
     "name": "stderr",
     "output_type": "stream",
     "text": [
      "INFO:drake:Meshcat listening for connections at http://localhost:7000\n",
      "INFO:drake:Meshcat listening for connections at http://localhost:7001\n"
     ]
    },
    {
     "name": "stdout",
     "output_type": "stream",
     "text": [
      "Time to construct line certifier = 0.004857063293457031s\n"
     ]
    }
   ],
   "source": [
    "builder = DiagramBuilder()\n",
    "plant, scene_graph = AddMultibodyPlantSceneGraph(builder, time_step=0.001)\n",
    "parser = Parser(plant)\n",
    "\n",
    "\n",
    "\n",
    "\n",
    "pendulum_world = FindResourceOrThrow(\"drake/C_Iris_Examples/assets/double_pendulum_world.urdf\")\n",
    "\n",
    "models = []\n",
    "models.append(parser.AddModelFromFile(pendulum_world))\n",
    "\n",
    "plant.Finalize()\n",
    "Ratfk = RationalForwardKinematics(plant)\n",
    "\n",
    "# the point about which we will take the stereographic projections\n",
    "q_star = np.zeros(plant.num_positions())\n",
    "\n",
    "\n",
    "\n",
    "# The object we will use to perform our certification.\n",
    "t0 = time.time()\n",
    "cspace_free_path = CspaceFreePath(plant, scene_graph, q_star, maximum_path_degree = 1, plane_order = 1)\n",
    "t1 = time.time()\n",
    "print(f\"Time to construct line certifier = {t1-t0}s\")\n",
    "\n",
    "# This line builds the visualization. Change the viz_role to Role.kIllustration if you\n",
    "# want to see the plant with its illustrated geometry or to Role.kProximity if you want\n",
    "# to see the plant with the collision geometries.\n",
    "visualizer = IrisPlantVisualizer(plant, builder, scene_graph, cspace_free_path, viz_role=Role.kIllustration)\n",
    "visualizer.visualize_collision_constraint(factor = 1.2, num_points = 100)\n",
    "visualizer.meshcat_cspace.Set2dRenderMode(RigidTransform(RotationMatrix.MakeZRotation(0), np.array([0,0,1])))\n",
    "visualizer.meshcat_task_space.Set2dRenderMode(RigidTransform(RotationMatrix.MakeZRotation(0), np.array([1,0,0])))"
   ]
  },
  {
   "cell_type": "code",
   "execution_count": 6,
   "metadata": {},
   "outputs": [],
   "source": [
    "# compute limits in t-space\n",
    "limits_q = [plant.GetPositionLowerLimits(), plant.GetPositionUpperLimits()]\n",
    "do_viz = True\n",
    "# compute limits in s-space\n",
    "limits_s = []\n",
    "for q in [plant.GetPositionLowerLimits(), plant.GetPositionUpperLimits()]:\n",
    "    limits_s.append(Ratfk.ComputeSValue(np.array(q), q_star))\n",
    "limits_s = np.array(limits_s)"
   ]
  },
  {
   "cell_type": "code",
   "execution_count": 7,
   "metadata": {},
   "outputs": [],
   "source": [
    "visualizer.meshcat_cspace.Set2dRenderMode(RigidTransform(RotationMatrix.MakeZRotation(0), np.array([0,0,1])))\n",
    "visualizer.meshcat_task_space.Set2dRenderMode(RigidTransform(RotationMatrix.MakeZRotation(0), np.array([0,1,0])))"
   ]
  },
  {
   "cell_type": "code",
   "execution_count": 8,
   "metadata": {},
   "outputs": [],
   "source": [
    "# # filter fused joints self collisions so they don't interfere with collision engine\n",
    "# digaram = visualizer.diagram\n",
    "# context = visualizer.diagram_context\n",
    "# sg_context = scene_graph.GetMyContextFromRoot(context)\n",
    "# inspector = scene_graph.model_inspector()\n",
    "\n",
    "# pairs = scene_graph.get_query_output_port().Eval(sg_context).inspector().GetCollisionCandidates()\n",
    "\n",
    "# gids = [gid for gid in inspector.GetGeometryIds(GeometrySet(inspector.GetAllGeometryIds()), Role.kProximity)]\n",
    "# get_name_of_gid = lambda gid : inspector.GetName(gid)\n",
    "# gids.sort(key=get_name_of_gid)\n",
    "\n",
    "# id_pairs_of_interest = [(gid1, gid2) for i, gid1 in enumerate(gids) for gid2 in gids[i+1:] ]\n",
    "# print(id_pairs_of_interest)\n",
    "# visualizer.collision_pairs_of_interest = id_pairs_of_interest\n"
   ]
  },
  {
   "cell_type": "markdown",
   "metadata": {},
   "source": [
    "## Set up the sliders so we can move the plant around manually"
   ]
  },
  {
   "cell_type": "code",
   "execution_count": 9,
   "metadata": {
    "scrolled": false
   },
   "outputs": [
    {
     "name": "stderr",
     "output_type": "stream",
     "text": [
      "Widget Javascript not detected.  It may not be installed or enabled properly. Reconnecting the current kernel may help.\n"
     ]
    },
    {
     "data": {
      "application/vnd.jupyter.widget-view+json": {
       "model_id": "24ae6c3fc3b84007a6028cb69b5adf22"
      }
     },
     "metadata": {},
     "output_type": "display_data"
    },
    {
     "name": "stderr",
     "output_type": "stream",
     "text": [
      "Widget Javascript not detected.  It may not be installed or enabled properly. Reconnecting the current kernel may help.\n"
     ]
    },
    {
     "data": {
      "application/vnd.jupyter.widget-view+json": {
       "model_id": "28707a5343354a29aa49799063a99c17"
      }
     },
     "metadata": {},
     "output_type": "display_data"
    }
   ],
   "source": [
    "sliders = []\n",
    "\n",
    "for i, q in enumerate(plant.GetPositionLowerLimits()):\n",
    "    sliders.append(widgets.FloatSlider(min=q,\n",
    "                                       max=plant.GetPositionUpperLimits()[i], \n",
    "                                       value=0, description=f'q{i}'))\n",
    "# sliders.append(widgets.FloatSlider(min=q_low[2], max=q_high[2], value=0, description='q2'))\n",
    "\n",
    "q = np.array([0,0])\n",
    "def handle_slider_change(change, idx):\n",
    "    q[idx] = change['new']\n",
    "    visualizer.show_res_q(q)\n",
    "    \n",
    "idx = 0\n",
    "for slider in sliders:\n",
    "    slider.observe(partial(handle_slider_change, idx = idx), names='value')\n",
    "    idx+=1\n",
    "\n",
    "for slider in sliders:\n",
    "    display(slider)\n",
    "\n",
    "\n",
    "# visualizer.jupyter_cell()"
   ]
  },
  {
   "cell_type": "code",
   "execution_count": null,
   "metadata": {},
   "outputs": [],
   "source": []
  },
  {
   "cell_type": "code",
   "execution_count": 10,
   "metadata": {
    "scrolled": true
   },
   "outputs": [
    {
     "name": "stdout",
     "output_type": "stream",
     "text": [
      "[0 0 0]\n",
      "[-0.25  0.9   0.  ]\n",
      "[0 0 0]\n",
      "[1 1 0]\n",
      "[-0.99920399 -0.99920399  0.        ]\n",
      "[0.99920399 0.99920399 0.        ]\n"
     ]
    }
   ],
   "source": [
    "s0 = np.array([0,0])\n",
    "s1_safe = np.array([-0.25, 0.9])\n",
    "s1_unsafe = np.array([1,1])\n",
    "\n",
    "def plot_edge(s0, s1, s0_name = \"s0\", s1_name = \"s1\"):\n",
    "    visualizer.meshcat_cspace.SetObject(f\"/{s0_name}\",\n",
    "                                 Sphere(0.05),\n",
    "                                 Rgba(0.0, 1.0, 0, 1))\n",
    "    s0_3d = np.array([s0[0],s0[1],0])\n",
    "    s1_3d = np.array([s1[0],s1[1],0])\n",
    "    print(s0_3d)\n",
    "    print(s1_3d)\n",
    "    visualizer.meshcat_cspace.SetTransform(f\"/{s0_name}\",\n",
    "                                  RigidTransform(RotationMatrix(),\n",
    "                                                 s0_3d))\n",
    "    \n",
    "    visualizer.meshcat_cspace.SetObject(f\"/{s1_name}\",\n",
    "                                 Sphere(0.05),\n",
    "                                 Rgba(1.0, 0.0, 0, 1))\n",
    "    visualizer.meshcat_cspace.SetTransform(f\"/{s1_name}\",\n",
    "                                   RigidTransform(RotationMatrix(),\n",
    "                                                 s1_3d))\n",
    "    visualizer.meshcat_cspace.SetLine(f\"/edge_{s0_name}_{s1_name}\", \n",
    "                                np.hstack([s0_3d[:,np.newaxis], s1_3d[:, np.newaxis]]),\n",
    "                                line_width = 2, rgba = Rgba(0.0, 0.0, 0.0, 1))\n",
    "plot_edge(s0,s1_safe, s1_name = \"s1_safe\")\n",
    "plot_edge(s0,s1_unsafe, s1_name = \"s1_unsafe\")\n",
    "plot_edge(limits_s[0],limits_s[1], s0_name = \"joint limit low\", s1_name = \"joint limit high\")"
   ]
  },
  {
   "cell_type": "code",
   "execution_count": 11,
   "metadata": {},
   "outputs": [],
   "source": [
    "def make_line_poly(start_point, end_point):\n",
    "    polys = np.empty(shape=(plant.num_positions(), 1), dtype = object)\n",
    "    for j in range(plant.num_positions()):\n",
    "        polys[j] = PolynomialCommon(np.array([start_point[j]-end_point[j], end_point[j]]))\n",
    "    return polys\n",
    "safe_line = make_line_poly(s0, s1_safe)\n",
    "unsafe_line = make_line_poly(s0, s1_unsafe)"
   ]
  },
  {
   "cell_type": "code",
   "execution_count": 12,
   "metadata": {},
   "outputs": [],
   "source": [
    "cert_options = CspaceFreePath.FindSeparationCertificateGivenPathOptions()\n",
    "cert_options.terminate_segment_certification_at_failure = False\n",
    "\n",
    "cert_options.num_threads = -1\n",
    "cert_options.verbose = False\n",
    "cert_options.solver_id = MosekSolver.id()\n",
    "cert_options.solver_options = SolverOptions()\n",
    "cert_options.terminate_path_certification_at_failure = False\n"
   ]
  },
  {
   "cell_type": "code",
   "execution_count": 13,
   "metadata": {},
   "outputs": [
    {
     "name": "stdout",
     "output_type": "stream",
     "text": [
      "[True]\n",
      "[False]\n"
     ]
    }
   ],
   "source": [
    "\n",
    "is_safe_safe, safe_cert = cspace_free_path.FindSeparationCertificateGivenPath(safe_line, set(), cert_options)\n",
    "print(is_safe_safe)\n",
    "is_safe_unsafe, unsafe_cert = cspace_free_path.FindSeparationCertificateGivenPath(unsafe_line, set(), cert_options)\n",
    "print(is_safe_unsafe)\n"
   ]
  },
  {
   "cell_type": "code",
   "execution_count": 21,
   "metadata": {},
   "outputs": [
    {
     "data": {
      "text/plain": [
       "(<GeometryId value=28>, <GeometryId value=42>)"
      ]
     },
     "execution_count": 21,
     "metadata": {},
     "output_type": "execute_result"
    }
   ],
   "source": [
    "pair, plane_idx = next(iter(cspace_free_path.map_geometries_to_separating_planes().items()))\n",
    "pair"
   ]
  },
  {
   "cell_type": "code",
   "execution_count": 15,
   "metadata": {},
   "outputs": [],
   "source": [
    "sep_cert_prog = cspace_free_path.MakeIsGeometrySeparableOnPathProgram(pair, safe_line)"
   ]
  },
  {
   "cell_type": "code",
   "execution_count": 16,
   "metadata": {},
   "outputs": [
    {
     "name": "stdout",
     "output_type": "stream",
     "text": [
      "Decision variables: plane_var0 plane_var1 plane_var2 plane_var3 plane_var4 plane_var5 plane_var6 plane_var7    Sl(0,0)    Sl(1,0)    Sl(1,1)    Sv(0,0)    Sv(1,0)    Sv(1,1)    Sl(0,0)    Sl(1,0)    Sl(1,1)    Sv(0,0)    Sv(1,0)    Sv(1,1)    Sl(0,0)    Sl(1,0)    Sl(1,1)    Sv(0,0)    Sv(1,0)    Sv(1,1)    Sl(0,0)    Sl(1,0)    Sl(1,1)    Sv(0,0)    Sv(1,0)    Sv(1,1)    Sl(0,0)    Sl(1,0)    Sl(1,1)    Sv(0,0)    Sv(1,0)    Sv(1,1)    Sl(0,0)    Sl(1,0)    Sl(1,1)    Sv(0,0)    Sv(1,0)    Sv(1,1)    Sl(0,0)    Sl(1,0)    Sl(1,1)    Sv(0,0)    Sv(1,0)    Sv(1,1)    Sl(0,0)    Sl(1,0)    Sl(1,1)    Sv(0,0)    Sv(1,0)    Sv(1,1)    Sl(0,0)    Sl(1,0)    Sl(1,1)    Sv(0,0)    Sv(1,0)    Sv(1,1)    Sl(0,0)    Sl(1,0)    Sl(1,1)    Sv(0,0)    Sv(1,0)    Sv(1,1)    Sl(0,0)    Sl(1,0)    Sl(1,1)    Sv(0,0)    Sv(1,0)    Sv(1,1)    Sl(0,0)    Sl(1,0)    Sl(1,1)    Sv(0,0)    Sv(1,0)    Sv(1,1)    Sl(0,0)    Sl(1,0)    Sl(1,1)    Sv(0,0)    Sv(1,0)    Sv(1,1)    Sl(0,0)    Sl(1,0)    Sl(1,1)    Sv(0,0)    Sv(1,0)    Sv(1,1)    Sl(0,0)    Sl(1,0)    Sl(1,1)    Sv(0,0)    Sv(1,0)    Sv(1,1)    Sl(0,0)    Sl(1,0)    Sl(1,1)    Sv(0,0)    Sv(1,0)    Sv(1,1)\n",
      "\n",
      "Indeterminates: mu y0 y1 y2\n",
      "\n",
      "LinearEqualityConstraint\n",
      "( - 4.2156250000000002 * plane_var1 + 0.53125 * plane_var3 + 3.7725 * plane_var5 + 1.0625 * plane_var7 - Sv(1,1)) == 1.0625\n",
      "LinearEqualityConstraint\n",
      "( - 4.2156250000000002 * plane_var0 + 2.2712500000000002 * plane_var1 + 0.53125 * plane_var2 - 0.0625 * plane_var3 + 3.7725 * plane_var4 + 1.54 * plane_var5 + 1.0625 * plane_var6 - 0.125 * plane_var7 - Sl(1,1) - 2 * Sv(1,0) + Sv(1,1)) == -0.125\n",
      "LinearEqualityConstraint\n",
      "(2.2712500000000002 * plane_var0 + 0.114375 * plane_var1 - 0.0625 * plane_var2 + 0.03125 * plane_var3 + 1.54 * plane_var4 - 0.3125 * plane_var5 - 0.125 * plane_var6 + 0.0625 * plane_var7 - 2 * Sl(1,0) - Sv(0,0) + 2 * Sv(1,0)) == 0.0625\n",
      "LinearEqualityConstraint\n",
      "(0.114375 * plane_var0 + 0.03125 * plane_var2 - 0.3125 * plane_var4 + 0.0625 * plane_var6 - Sl(0,0) + Sv(0,0)) == 0\n",
      "LinearEqualityConstraint\n",
      "(0.78437499999999993 * plane_var1 + 0.53125 * plane_var3 - 5.6025 * plane_var5 + 1.0625 * plane_var7 - Sv(1,1)) == 1.0625\n",
      "LinearEqualityConstraint\n",
      "(0.78437499999999993 * plane_var0 - 2.7287499999999998 * plane_var1 + 0.53125 * plane_var2 - 0.0625 * plane_var3 - 5.6025 * plane_var4 + 0.29000000000000004 * plane_var5 + 1.0625 * plane_var6 - 0.125 * plane_var7 - Sl(1,1) - 2 * Sv(1,0) + Sv(1,1)) == -0.125\n",
      "LinearEqualityConstraint\n",
      "( - 2.7287499999999998 * plane_var0 + 0.114375 * plane_var1 - 0.0625 * plane_var2 + 0.03125 * plane_var3 + 0.29000000000000004 * plane_var4 + 0.3125 * plane_var5 - 0.125 * plane_var6 + 0.0625 * plane_var7 - 2 * Sl(1,0) - Sv(0,0) + 2 * Sv(1,0)) == 0.0625\n",
      "LinearEqualityConstraint\n",
      "(0.114375 * plane_var0 + 0.03125 * plane_var2 + 0.3125 * plane_var4 + 0.0625 * plane_var6 - Sl(0,0) + Sv(0,0)) == 0\n",
      "LinearEqualityConstraint\n",
      "( - 4.2156250000000002 * plane_var1 - 0.53125 * plane_var3 + 3.7725 * plane_var5 + 1.0625 * plane_var7 - Sv(1,1)) == 1.0625\n",
      "LinearEqualityConstraint\n",
      "( - 4.2156250000000002 * plane_var0 + 2.2712500000000002 * plane_var1 - 0.53125 * plane_var2 + 0.0625 * plane_var3 + 3.7725 * plane_var4 + 1.54 * plane_var5 + 1.0625 * plane_var6 - 0.125 * plane_var7 - Sl(1,1) - 2 * Sv(1,0) + Sv(1,1)) == -0.125\n",
      "LinearEqualityConstraint\n",
      "(2.2712500000000002 * plane_var0 + 0.114375 * plane_var1 + 0.0625 * plane_var2 - 0.03125 * plane_var3 + 1.54 * plane_var4 - 0.3125 * plane_var5 - 0.125 * plane_var6 + 0.0625 * plane_var7 - 2 * Sl(1,0) - Sv(0,0) + 2 * Sv(1,0)) == 0.0625\n",
      "LinearEqualityConstraint\n",
      "(0.114375 * plane_var0 - 0.03125 * plane_var2 - 0.3125 * plane_var4 + 0.0625 * plane_var6 - Sl(0,0) + Sv(0,0)) == 0\n",
      "LinearEqualityConstraint\n",
      "(0.78437499999999993 * plane_var1 - 0.53125 * plane_var3 - 5.6025 * plane_var5 + 1.0625 * plane_var7 - Sv(1,1)) == 1.0625\n",
      "LinearEqualityConstraint\n",
      "(0.78437499999999993 * plane_var0 - 2.7287499999999998 * plane_var1 - 0.53125 * plane_var2 + 0.0625 * plane_var3 - 5.6025 * plane_var4 + 0.29000000000000004 * plane_var5 + 1.0625 * plane_var6 - 0.125 * plane_var7 - Sl(1,1) - 2 * Sv(1,0) + Sv(1,1)) == -0.125\n",
      "LinearEqualityConstraint\n",
      "( - 2.7287499999999998 * plane_var0 + 0.114375 * plane_var1 + 0.0625 * plane_var2 - 0.03125 * plane_var3 + 0.29000000000000004 * plane_var4 + 0.3125 * plane_var5 - 0.125 * plane_var6 + 0.0625 * plane_var7 - 2 * Sl(1,0) - Sv(0,0) + 2 * Sv(1,0)) == 0.0625\n",
      "LinearEqualityConstraint\n",
      "(0.114375 * plane_var0 - 0.03125 * plane_var2 + 0.3125 * plane_var4 + 0.0625 * plane_var6 - Sl(0,0) + Sv(0,0)) == 0\n",
      "LinearEqualityConstraint\n",
      "( - 5.1531250000000002 * plane_var1 + 0.53125 * plane_var3 + 3.2725 * plane_var5 + 1.0625 * plane_var7 - Sv(1,1)) == 1.0625\n",
      "LinearEqualityConstraint\n",
      "( - 5.1531250000000002 * plane_var0 + 2.1462500000000002 * plane_var1 + 0.53125 * plane_var2 - 0.0625 * plane_var3 + 3.2725 * plane_var4 + 2.04 * plane_var5 + 1.0625 * plane_var6 - 0.125 * plane_var7 - Sl(1,1) - 2 * Sv(1,0) + Sv(1,1)) == -0.125\n",
      "LinearEqualityConstraint\n",
      "(2.1462500000000002 * plane_var0 + 0.176875 * plane_var1 - 0.0625 * plane_var2 + 0.03125 * plane_var3 + 2.04 * plane_var4 - 0.3125 * plane_var5 - 0.125 * plane_var6 + 0.0625 * plane_var7 - 2 * Sl(1,0) - Sv(0,0) + 2 * Sv(1,0)) == 0.0625\n",
      "LinearEqualityConstraint\n",
      "(0.176875 * plane_var0 + 0.03125 * plane_var2 - 0.3125 * plane_var4 + 0.0625 * plane_var6 - Sl(0,0) + Sv(0,0)) == 0\n",
      "LinearEqualityConstraint\n",
      "( - 0.15312500000000007 * plane_var1 + 0.53125 * plane_var3 - 6.1025 * plane_var5 + 1.0625 * plane_var7 - Sv(1,1)) == 1.0625\n",
      "LinearEqualityConstraint\n",
      "( - 0.15312500000000007 * plane_var0 - 2.8537499999999998 * plane_var1 + 0.53125 * plane_var2 - 0.0625 * plane_var3 - 6.1025 * plane_var4 + 0.79000000000000004 * plane_var5 + 1.0625 * plane_var6 - 0.125 * plane_var7 - Sl(1,1) - 2 * Sv(1,0) + Sv(1,1)) == -0.125\n",
      "LinearEqualityConstraint\n",
      "( - 2.8537499999999998 * plane_var0 + 0.176875 * plane_var1 - 0.0625 * plane_var2 + 0.03125 * plane_var3 + 0.79000000000000004 * plane_var4 + 0.3125 * plane_var5 - 0.125 * plane_var6 + 0.0625 * plane_var7 - 2 * Sl(1,0) - Sv(0,0) + 2 * Sv(1,0)) == 0.0625\n",
      "LinearEqualityConstraint\n",
      "(0.176875 * plane_var0 + 0.03125 * plane_var2 + 0.3125 * plane_var4 + 0.0625 * plane_var6 - Sl(0,0) + Sv(0,0)) == 0\n",
      "LinearEqualityConstraint\n",
      "( - 5.1531250000000002 * plane_var1 - 0.53125 * plane_var3 + 3.2725 * plane_var5 + 1.0625 * plane_var7 - Sv(1,1)) == 1.0625\n",
      "LinearEqualityConstraint\n",
      "( - 5.1531250000000002 * plane_var0 + 2.1462500000000002 * plane_var1 - 0.53125 * plane_var2 + 0.0625 * plane_var3 + 3.2725 * plane_var4 + 2.04 * plane_var5 + 1.0625 * plane_var6 - 0.125 * plane_var7 - Sl(1,1) - 2 * Sv(1,0) + Sv(1,1)) == -0.125\n",
      "LinearEqualityConstraint\n",
      "(2.1462500000000002 * plane_var0 + 0.176875 * plane_var1 + 0.0625 * plane_var2 - 0.03125 * plane_var3 + 2.04 * plane_var4 - 0.3125 * plane_var5 - 0.125 * plane_var6 + 0.0625 * plane_var7 - 2 * Sl(1,0) - Sv(0,0) + 2 * Sv(1,0)) == 0.0625\n",
      "LinearEqualityConstraint\n",
      "(0.176875 * plane_var0 - 0.03125 * plane_var2 - 0.3125 * plane_var4 + 0.0625 * plane_var6 - Sl(0,0) + Sv(0,0)) == 0\n",
      "LinearEqualityConstraint\n",
      "( - 0.15312500000000007 * plane_var1 - 0.53125 * plane_var3 - 6.1025 * plane_var5 + 1.0625 * plane_var7 - Sv(1,1)) == 1.0625\n",
      "LinearEqualityConstraint\n",
      "( - 0.15312500000000007 * plane_var0 - 2.8537499999999998 * plane_var1 - 0.53125 * plane_var2 + 0.0625 * plane_var3 - 6.1025 * plane_var4 + 0.79000000000000004 * plane_var5 + 1.0625 * plane_var6 - 0.125 * plane_var7 - Sl(1,1) - 2 * Sv(1,0) + Sv(1,1)) == -0.125\n",
      "LinearEqualityConstraint\n",
      "( - 2.8537499999999998 * plane_var0 + 0.176875 * plane_var1 + 0.0625 * plane_var2 - 0.03125 * plane_var3 + 0.79000000000000004 * plane_var4 + 0.3125 * plane_var5 - 0.125 * plane_var6 + 0.0625 * plane_var7 - 2 * Sl(1,0) - Sv(0,0) + 2 * Sv(1,0)) == 0.0625\n",
      "LinearEqualityConstraint\n",
      "(0.176875 * plane_var0 - 0.03125 * plane_var2 + 0.3125 * plane_var4 + 0.0625 * plane_var6 - Sl(0,0) + Sv(0,0)) == 0\n",
      "LinearEqualityConstraint\n",
      "( - 1.45868 * plane_var1 - 0.38372000000000001 * plane_var3 + 3.3881200000000002 * plane_var5 - 1.8100000000000001 * plane_var7 - Sv(1,1)) == 1.81\n",
      "LinearEqualityConstraint\n",
      "( - 1.45868 * plane_var0 + 1.0749600000000001 * plane_var1 - 0.38372000000000001 * plane_var2 + 0.34344000000000002 * plane_var3 + 3.3881200000000002 * plane_var4 - 1.5818400000000001 * plane_var5 - 1.8100000000000001 * plane_var6 + 1.6200000000000001 * plane_var7 - Sl(1,1) - 2 * Sv(1,0) + Sv(1,1)) == -1.62\n",
      "LinearEqualityConstraint\n",
      "(1.0749600000000001 * plane_var0 + 0.17172000000000001 * plane_var1 + 0.34344000000000002 * plane_var2 - 0.17172000000000001 * plane_var3 - 1.5818400000000001 * plane_var4 + 0.98172000000000004 * plane_var5 + 1.6200000000000001 * plane_var6 - 0.81000000000000005 * plane_var7 - 2 * Sl(1,0) - Sv(0,0) + 2 * Sv(1,0)) == 0.81\n",
      "LinearEqualityConstraint\n",
      "(0.17172000000000001 * plane_var0 - 0.17172000000000001 * plane_var2 + 0.98172000000000004 * plane_var4 - 0.81000000000000005 * plane_var6 - Sl(0,0) + Sv(0,0)) == 0\n",
      "LinearEqualityConstraint\n",
      "( - 2.2218800000000001 * plane_var1 - 0.38372000000000001 * plane_var3 + 3.4686799999999995 * plane_var5 - 1.8100000000000001 * plane_var7 - Sv(1,1)) == 1.81\n",
      "LinearEqualityConstraint\n",
      "( - 2.2218800000000001 * plane_var0 + 1.83816 * plane_var1 - 0.38372000000000001 * plane_var2 + 0.34344000000000002 * plane_var3 + 3.4686799999999995 * plane_var4 - 0.8949600000000002 * plane_var5 - 1.8100000000000001 * plane_var6 + 1.6200000000000001 * plane_var7 - Sl(1,1) - 2 * Sv(1,0) + Sv(1,1)) == -1.62\n",
      "LinearEqualityConstraint\n",
      "(1.83816 * plane_var0 + 0.17172000000000001 * plane_var1 + 0.34344000000000002 * plane_var2 - 0.17172000000000001 * plane_var3 - 0.8949600000000002 * plane_var4 + 0.63828000000000007 * plane_var5 + 1.6200000000000001 * plane_var6 - 0.81000000000000005 * plane_var7 - 2 * Sl(1,0) - Sv(0,0) + 2 * Sv(1,0)) == 0.81\n",
      "LinearEqualityConstraint\n",
      "(0.17172000000000001 * plane_var0 - 0.17172000000000001 * plane_var2 + 0.63828000000000007 * plane_var4 - 0.81000000000000005 * plane_var6 - Sl(0,0) + Sv(0,0)) == 0\n",
      "LinearEqualityConstraint\n",
      "( - 1.45868 * plane_var1 + 0.38372000000000001 * plane_var3 + 3.3881200000000002 * plane_var5 - 1.8100000000000001 * plane_var7 - Sv(1,1)) == 1.81\n",
      "LinearEqualityConstraint\n",
      "( - 1.45868 * plane_var0 + 1.0749600000000001 * plane_var1 + 0.38372000000000001 * plane_var2 - 0.34344000000000002 * plane_var3 + 3.3881200000000002 * plane_var4 - 1.5818400000000001 * plane_var5 - 1.8100000000000001 * plane_var6 + 1.6200000000000001 * plane_var7 - Sl(1,1) - 2 * Sv(1,0) + Sv(1,1)) == -1.62\n",
      "LinearEqualityConstraint\n",
      "(1.0749600000000001 * plane_var0 + 0.17172000000000001 * plane_var1 - 0.34344000000000002 * plane_var2 + 0.17172000000000001 * plane_var3 - 1.5818400000000001 * plane_var4 + 0.98172000000000004 * plane_var5 + 1.6200000000000001 * plane_var6 - 0.81000000000000005 * plane_var7 - 2 * Sl(1,0) - Sv(0,0) + 2 * Sv(1,0)) == 0.81\n",
      "LinearEqualityConstraint\n",
      "(0.17172000000000001 * plane_var0 + 0.17172000000000001 * plane_var2 + 0.98172000000000004 * plane_var4 - 0.81000000000000005 * plane_var6 - Sl(0,0) + Sv(0,0)) == 0\n",
      "LinearEqualityConstraint\n",
      "( - 2.2218800000000001 * plane_var1 + 0.38372000000000001 * plane_var3 + 3.4686799999999995 * plane_var5 - 1.8100000000000001 * plane_var7 - Sv(1,1)) == 1.81\n",
      "LinearEqualityConstraint\n",
      "( - 2.2218800000000001 * plane_var0 + 1.83816 * plane_var1 + 0.38372000000000001 * plane_var2 - 0.34344000000000002 * plane_var3 + 3.4686799999999995 * plane_var4 - 0.8949600000000002 * plane_var5 - 1.8100000000000001 * plane_var6 + 1.6200000000000001 * plane_var7 - Sl(1,1) - 2 * Sv(1,0) + Sv(1,1)) == -1.62\n",
      "LinearEqualityConstraint\n",
      "(1.83816 * plane_var0 + 0.17172000000000001 * plane_var1 - 0.34344000000000002 * plane_var2 + 0.17172000000000001 * plane_var3 - 0.8949600000000002 * plane_var4 + 0.63828000000000007 * plane_var5 + 1.6200000000000001 * plane_var6 - 0.81000000000000005 * plane_var7 - 2 * Sl(1,0) - Sv(0,0) + 2 * Sv(1,0)) == 0.81\n",
      "LinearEqualityConstraint\n",
      "(0.17172000000000001 * plane_var0 + 0.17172000000000001 * plane_var2 + 0.63828000000000007 * plane_var4 - 0.81000000000000005 * plane_var6 - Sl(0,0) + Sv(0,0)) == 0\n",
      "LinearEqualityConstraint\n",
      "( - 1.3781200000000002 * plane_var1 - 0.38372000000000001 * plane_var3 + 4.1513200000000001 * plane_var5 - 1.8100000000000001 * plane_var7 - Sv(1,1)) == 1.81\n",
      "LinearEqualityConstraint\n",
      "( - 1.3781200000000002 * plane_var0 + 1.7618400000000001 * plane_var1 - 0.38372000000000001 * plane_var2 + 0.34344000000000002 * plane_var3 + 4.1513200000000001 * plane_var4 - 2.34504 * plane_var5 - 1.8100000000000001 * plane_var6 + 1.6200000000000001 * plane_var7 - Sl(1,1) - 2 * Sv(1,0) + Sv(1,1)) == -1.62\n",
      "LinearEqualityConstraint\n",
      "(1.7618400000000001 * plane_var0 - 0.17172000000000001 * plane_var1 + 0.34344000000000002 * plane_var2 - 0.17172000000000001 * plane_var3 - 2.34504 * plane_var4 + 0.98172000000000004 * plane_var5 + 1.6200000000000001 * plane_var6 - 0.81000000000000005 * plane_var7 - 2 * Sl(1,0) - Sv(0,0) + 2 * Sv(1,0)) == 0.81\n",
      "LinearEqualityConstraint\n",
      "( - 0.17172000000000001 * plane_var0 - 0.17172000000000001 * plane_var2 + 0.98172000000000004 * plane_var4 - 0.81000000000000005 * plane_var6 - Sl(0,0) + Sv(0,0)) == 0\n",
      "LinearEqualityConstraint\n",
      "( - 2.1413199999999999 * plane_var1 - 0.38372000000000001 * plane_var3 + 4.2318800000000003 * plane_var5 - 1.8100000000000001 * plane_var7 - Sv(1,1)) == 1.81\n",
      "LinearEqualityConstraint\n",
      "( - 2.1413199999999999 * plane_var0 + 2.5250400000000002 * plane_var1 - 0.38372000000000001 * plane_var2 + 0.34344000000000002 * plane_var3 + 4.2318800000000003 * plane_var4 - 1.6581600000000001 * plane_var5 - 1.8100000000000001 * plane_var6 + 1.6200000000000001 * plane_var7 - Sl(1,1) - 2 * Sv(1,0) + Sv(1,1)) == -1.62\n",
      "LinearEqualityConstraint\n",
      "(2.5250400000000002 * plane_var0 - 0.17172000000000001 * plane_var1 + 0.34344000000000002 * plane_var2 - 0.17172000000000001 * plane_var3 - 1.6581600000000001 * plane_var4 + 0.63828000000000007 * plane_var5 + 1.6200000000000001 * plane_var6 - 0.81000000000000005 * plane_var7 - 2 * Sl(1,0) - Sv(0,0) + 2 * Sv(1,0)) == 0.81\n",
      "LinearEqualityConstraint\n",
      "( - 0.17172000000000001 * plane_var0 - 0.17172000000000001 * plane_var2 + 0.63828000000000007 * plane_var4 - 0.81000000000000005 * plane_var6 - Sl(0,0) + Sv(0,0)) == 0\n",
      "LinearEqualityConstraint\n",
      "( - 1.3781200000000002 * plane_var1 + 0.38372000000000001 * plane_var3 + 4.1513200000000001 * plane_var5 - 1.8100000000000001 * plane_var7 - Sv(1,1)) == 1.81\n",
      "LinearEqualityConstraint\n",
      "( - 1.3781200000000002 * plane_var0 + 1.7618400000000001 * plane_var1 + 0.38372000000000001 * plane_var2 - 0.34344000000000002 * plane_var3 + 4.1513200000000001 * plane_var4 - 2.34504 * plane_var5 - 1.8100000000000001 * plane_var6 + 1.6200000000000001 * plane_var7 - Sl(1,1) - 2 * Sv(1,0) + Sv(1,1)) == -1.62\n",
      "LinearEqualityConstraint\n",
      "(1.7618400000000001 * plane_var0 - 0.17172000000000001 * plane_var1 - 0.34344000000000002 * plane_var2 + 0.17172000000000001 * plane_var3 - 2.34504 * plane_var4 + 0.98172000000000004 * plane_var5 + 1.6200000000000001 * plane_var6 - 0.81000000000000005 * plane_var7 - 2 * Sl(1,0) - Sv(0,0) + 2 * Sv(1,0)) == 0.81\n",
      "LinearEqualityConstraint\n",
      "( - 0.17172000000000001 * plane_var0 + 0.17172000000000001 * plane_var2 + 0.98172000000000004 * plane_var4 - 0.81000000000000005 * plane_var6 - Sl(0,0) + Sv(0,0)) == 0\n",
      "LinearEqualityConstraint\n",
      "( - 2.1413199999999999 * plane_var1 + 0.38372000000000001 * plane_var3 + 4.2318800000000003 * plane_var5 - 1.8100000000000001 * plane_var7 - Sv(1,1)) == 1.81\n",
      "LinearEqualityConstraint\n",
      "( - 2.1413199999999999 * plane_var0 + 2.5250400000000002 * plane_var1 + 0.38372000000000001 * plane_var2 - 0.34344000000000002 * plane_var3 + 4.2318800000000003 * plane_var4 - 1.6581600000000001 * plane_var5 - 1.8100000000000001 * plane_var6 + 1.6200000000000001 * plane_var7 - Sl(1,1) - 2 * Sv(1,0) + Sv(1,1)) == -1.62\n",
      "LinearEqualityConstraint\n",
      "(2.5250400000000002 * plane_var0 - 0.17172000000000001 * plane_var1 - 0.34344000000000002 * plane_var2 + 0.17172000000000001 * plane_var3 - 1.6581600000000001 * plane_var4 + 0.63828000000000007 * plane_var5 + 1.6200000000000001 * plane_var6 - 0.81000000000000005 * plane_var7 - 2 * Sl(1,0) - Sv(0,0) + 2 * Sv(1,0)) == 0.81\n",
      "LinearEqualityConstraint\n",
      "( - 0.17172000000000001 * plane_var0 + 0.17172000000000001 * plane_var2 + 0.63828000000000007 * plane_var4 - 0.81000000000000005 * plane_var6 - Sl(0,0) + Sv(0,0)) == 0\n",
      "PositiveSemidefiniteConstraint with 4 decision variables Sl(0,0) Sl(1,0) Sl(1,0) Sl(1,1)\n",
      "PositiveSemidefiniteConstraint with 4 decision variables Sv(0,0) Sv(1,0) Sv(1,0) Sv(1,1)\n",
      "PositiveSemidefiniteConstraint with 4 decision variables Sl(0,0) Sl(1,0) Sl(1,0) Sl(1,1)\n",
      "PositiveSemidefiniteConstraint with 4 decision variables Sv(0,0) Sv(1,0) Sv(1,0) Sv(1,1)\n",
      "PositiveSemidefiniteConstraint with 4 decision variables Sl(0,0) Sl(1,0) Sl(1,0) Sl(1,1)\n",
      "PositiveSemidefiniteConstraint with 4 decision variables Sv(0,0) Sv(1,0) Sv(1,0) Sv(1,1)\n",
      "PositiveSemidefiniteConstraint with 4 decision variables Sl(0,0) Sl(1,0) Sl(1,0) Sl(1,1)\n",
      "PositiveSemidefiniteConstraint with 4 decision variables Sv(0,0) Sv(1,0) Sv(1,0) Sv(1,1)\n",
      "PositiveSemidefiniteConstraint with 4 decision variables Sl(0,0) Sl(1,0) Sl(1,0) Sl(1,1)\n",
      "PositiveSemidefiniteConstraint with 4 decision variables Sv(0,0) Sv(1,0) Sv(1,0) Sv(1,1)\n",
      "PositiveSemidefiniteConstraint with 4 decision variables Sl(0,0) Sl(1,0) Sl(1,0) Sl(1,1)\n",
      "PositiveSemidefiniteConstraint with 4 decision variables Sv(0,0) Sv(1,0) Sv(1,0) Sv(1,1)\n",
      "PositiveSemidefiniteConstraint with 4 decision variables Sl(0,0) Sl(1,0) Sl(1,0) Sl(1,1)\n",
      "PositiveSemidefiniteConstraint with 4 decision variables Sv(0,0) Sv(1,0) Sv(1,0) Sv(1,1)\n",
      "PositiveSemidefiniteConstraint with 4 decision variables Sl(0,0) Sl(1,0) Sl(1,0) Sl(1,1)\n",
      "PositiveSemidefiniteConstraint with 4 decision variables Sv(0,0) Sv(1,0) Sv(1,0) Sv(1,1)\n",
      "PositiveSemidefiniteConstraint with 4 decision variables Sl(0,0) Sl(1,0) Sl(1,0) Sl(1,1)\n",
      "PositiveSemidefiniteConstraint with 4 decision variables Sv(0,0) Sv(1,0) Sv(1,0) Sv(1,1)\n",
      "PositiveSemidefiniteConstraint with 4 decision variables Sl(0,0) Sl(1,0) Sl(1,0) Sl(1,1)\n",
      "PositiveSemidefiniteConstraint with 4 decision variables Sv(0,0) Sv(1,0) Sv(1,0) Sv(1,1)\n",
      "PositiveSemidefiniteConstraint with 4 decision variables Sl(0,0) Sl(1,0) Sl(1,0) Sl(1,1)\n",
      "PositiveSemidefiniteConstraint with 4 decision variables Sv(0,0) Sv(1,0) Sv(1,0) Sv(1,1)\n",
      "PositiveSemidefiniteConstraint with 4 decision variables Sl(0,0) Sl(1,0) Sl(1,0) Sl(1,1)\n",
      "PositiveSemidefiniteConstraint with 4 decision variables Sv(0,0) Sv(1,0) Sv(1,0) Sv(1,1)\n",
      "PositiveSemidefiniteConstraint with 4 decision variables Sl(0,0) Sl(1,0) Sl(1,0) Sl(1,1)\n",
      "PositiveSemidefiniteConstraint with 4 decision variables Sv(0,0) Sv(1,0) Sv(1,0) Sv(1,1)\n",
      "PositiveSemidefiniteConstraint with 4 decision variables Sl(0,0) Sl(1,0) Sl(1,0) Sl(1,1)\n",
      "PositiveSemidefiniteConstraint with 4 decision variables Sv(0,0) Sv(1,0) Sv(1,0) Sv(1,1)\n",
      "PositiveSemidefiniteConstraint with 4 decision variables Sl(0,0) Sl(1,0) Sl(1,0) Sl(1,1)\n",
      "PositiveSemidefiniteConstraint with 4 decision variables Sv(0,0) Sv(1,0) Sv(1,0) Sv(1,1)\n",
      "PositiveSemidefiniteConstraint with 4 decision variables Sl(0,0) Sl(1,0) Sl(1,0) Sl(1,1)\n",
      "PositiveSemidefiniteConstraint with 4 decision variables Sv(0,0) Sv(1,0) Sv(1,0) Sv(1,1)\n",
      "\n"
     ]
    }
   ],
   "source": [
    "print(sep_cert_prog.prog())"
   ]
  },
  {
   "cell_type": "code",
   "execution_count": 26,
   "metadata": {},
   "outputs": [
    {
     "ename": "AttributeError",
     "evalue": "'pydrake.geometry.optimization_dev.CspaceFreePath' object has no attribute 'plane_geometries_on_path'",
     "output_type": "error",
     "traceback": [
      "\u001b[0;31m---------------------------------------------------------------------------\u001b[0m",
      "\u001b[0;31mAttributeError\u001b[0m                            Traceback (most recent call last)",
      "\u001b[0;32m/tmp/ipykernel_20051/2325477505.py\u001b[0m in \u001b[0;36m<module>\u001b[0;34m\u001b[0m\n\u001b[0;32m----> 1\u001b[0;31m \u001b[0mplane\u001b[0m \u001b[0;34m=\u001b[0m \u001b[0mcspace_free_path\u001b[0m\u001b[0;34m.\u001b[0m\u001b[0mplane_geometries_on_path\u001b[0m\u001b[0;34m(\u001b[0m\u001b[0;34m)\u001b[0m\u001b[0;34m[\u001b[0m\u001b[0mplane_idx\u001b[0m\u001b[0;34m]\u001b[0m\u001b[0;34m\u001b[0m\u001b[0;34m\u001b[0m\u001b[0m\n\u001b[0m",
      "\u001b[0;31mAttributeError\u001b[0m: 'pydrake.geometry.optimization_dev.CspaceFreePath' object has no attribute 'plane_geometries_on_path'"
     ]
    }
   ],
   "source": [
    "plane = cspace_free_path.plane_geometries_on_path()[plane_idx]"
   ]
  },
  {
   "cell_type": "code",
   "execution_count": 25,
   "metadata": {},
   "outputs": [
    {
     "ename": "SyntaxError",
     "evalue": "invalid syntax (2264445898.py, line 1)",
     "output_type": "error",
     "traceback": [
      "\u001b[0;36m  File \u001b[0;32m\"/tmp/ipykernel_20051/2264445898.py\"\u001b[0;36m, line \u001b[0;32m1\u001b[0m\n\u001b[0;31m    plane.\u001b[0m\n\u001b[0m          ^\u001b[0m\n\u001b[0;31mSyntaxError\u001b[0m\u001b[0;31m:\u001b[0m invalid syntax\n"
     ]
    }
   ],
   "source": [
    "plane."
   ]
  },
  {
   "cell_type": "code",
   "execution_count": null,
   "metadata": {},
   "outputs": [],
   "source": []
  }
 ],
 "metadata": {
  "interpreter": {
   "hash": "31f2aee4e71d21fbe5cf8b01ff0e069b9275f58929596ceb00d14d90e3e16cd6"
  },
  "kernelspec": {
   "display_name": "Python 3 (ipykernel)",
   "language": "python",
   "name": "python3"
  },
  "language_info": {
   "codemirror_mode": {
    "name": "ipython",
    "version": 3
   },
   "file_extension": ".py",
   "mimetype": "text/x-python",
   "name": "python",
   "nbconvert_exporter": "python",
   "pygments_lexer": "ipython3",
   "version": "3.10.6"
  }
 },
 "nbformat": 4,
 "nbformat_minor": 2
}
