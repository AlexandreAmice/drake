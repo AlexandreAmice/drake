{
 "cells": [
  {
   "cell_type": "code",
   "execution_count": 1,
   "metadata": {},
   "outputs": [],
   "source": [
    "%load_ext autoreload"
   ]
  },
  {
   "cell_type": "code",
   "execution_count": 2,
   "metadata": {},
   "outputs": [],
   "source": [
    "import numpy as np\n",
    "from functools import partial\n",
    "import visualization_utils as viz_utils\n",
    "from iris_plant_visualizer import IrisPlantVisualizer\n",
    "import ipywidgets as widgets\n",
    "from IPython.display import display\n",
    "from scipy.linalg import block_diag\n",
    "import matplotlib.pyplot as plt\n",
    "from pathlib import Path\n",
    "import os\n",
    "import random"
   ]
  },
  {
   "cell_type": "code",
   "execution_count": 3,
   "metadata": {},
   "outputs": [],
   "source": [
    "#pydrake imports\n",
    "from pydrake.common import FindResourceOrThrow\n",
    "from pydrake.multibody.parsing import Parser\n",
    "from pydrake.multibody.plant import AddMultibodyPlantSceneGraph\n",
    "from pydrake.systems.framework import DiagramBuilder\n",
    "from pydrake.geometry import Role, GeometrySet, CollisionFilterDeclaration\n",
    "from pydrake.all import RigidTransform, RollPitchYaw, RevoluteJoint\n",
    "from pydrake.all import RotationMatrix, Sphere, Rgba\n",
    "import pydrake.symbolic as sym\n",
    "import time\n",
    "from pydrake.solvers import MosekSolver, CommonSolverOption, SolverOptions\n",
    "from pydrake.all import RationalForwardKinematics, CspaceFreeLine\n",
    "from pydrake.geometry.optimization import HPolyhedron, Hyperellipsoid\n",
    "from pydrake.geometry.optimization_dev import CspaceFreePath\n",
    "from pydrake.polynomial import Polynomial as PolynomialCommon"
   ]
  },
  {
   "cell_type": "code",
   "execution_count": 4,
   "metadata": {},
   "outputs": [],
   "source": [
    "from pydrake.solvers import MosekSolver, CommonSolverOption, SolverOptions\n",
    "import logging\n",
    "drake_logger = logging.getLogger(\"drake\")\n",
    "# drake_logger.setLevel(logging.DEBUG)"
   ]
  },
  {
   "cell_type": "markdown",
   "metadata": {},
   "source": [
    "# Build and set up the visualization the plant and the visualization of the C-space obstacle\n",
    "\n",
    "Note that running this cell multiple times will establish multiple meshcat instances which can fill up your memory. It is a good idea to call \"pkill -f meshcat\" from the command line before re-running this cell\n"
   ]
  },
  {
   "cell_type": "code",
   "execution_count": 5,
   "metadata": {},
   "outputs": [
    {
     "name": "stderr",
     "output_type": "stream",
     "text": [
      "INFO:drake:Meshcat listening for connections at http://localhost:7000\n",
      "INFO:drake:Meshcat listening for connections at http://localhost:7001\n"
     ]
    },
    {
     "name": "stdout",
     "output_type": "stream",
     "text": [
      "Time to construct line certifier = 0.004147529602050781s\n"
     ]
    }
   ],
   "source": [
    "builder = DiagramBuilder()\n",
    "plant, scene_graph = AddMultibodyPlantSceneGraph(builder, time_step=0.001)\n",
    "parser = Parser(plant)\n",
    "\n",
    "\n",
    "\n",
    "\n",
    "pendulum_world = FindResourceOrThrow(\"drake/C_Iris_Examples/assets/double_pendulum_world.urdf\")\n",
    "\n",
    "models = []\n",
    "models.append(parser.AddModelFromFile(pendulum_world))\n",
    "\n",
    "plant.Finalize()\n",
    "Ratfk = RationalForwardKinematics(plant)\n",
    "\n",
    "# the point about which we will take the stereographic projections\n",
    "q_star = np.zeros(plant.num_positions())\n",
    "\n",
    "\n",
    "\n",
    "# The object we will use to perform our certification.\n",
    "t0 = time.time()\n",
    "cspace_free_path = CspaceFreePath(plant, scene_graph, q_star, maximum_path_degree = 1, plane_order = 1)\n",
    "t1 = time.time()\n",
    "print(f\"Time to construct line certifier = {t1-t0}s\")\n",
    "\n",
    "# This line builds the visualization. Change the viz_role to Role.kIllustration if you\n",
    "# want to see the plant with its illustrated geometry or to Role.kProximity if you want\n",
    "# to see the plant with the collision geometries.\n",
    "visualizer = IrisPlantVisualizer(plant, builder, scene_graph, cspace_free_path, viz_role=Role.kIllustration)\n",
    "visualizer.visualize_collision_constraint(factor = 1.2, num_points = 100)\n",
    "visualizer.meshcat_cspace.Set2dRenderMode(RigidTransform(RotationMatrix.MakeZRotation(0), np.array([0,0,1])))\n",
    "visualizer.meshcat_task_space.Set2dRenderMode(RigidTransform(RotationMatrix.MakeZRotation(0), np.array([0,1,0])))"
   ]
  },
  {
   "cell_type": "code",
   "execution_count": 6,
   "metadata": {},
   "outputs": [],
   "source": [
    "# compute limits in t-space\n",
    "limits_q = [plant.GetPositionLowerLimits(), plant.GetPositionUpperLimits()]\n",
    "do_viz = True\n",
    "# compute limits in s-space\n",
    "limits_s = []\n",
    "for q in [plant.GetPositionLowerLimits(), plant.GetPositionUpperLimits()]:\n",
    "    limits_s.append(Ratfk.ComputeSValue(np.array(q), q_star))\n",
    "limits_s = np.array(limits_s)"
   ]
  },
  {
   "cell_type": "code",
   "execution_count": 7,
   "metadata": {},
   "outputs": [],
   "source": [
    "# visualizer.meshcat_cspace.Set2dRenderMode(RigidTransform(RotationMatrix.MakeZRotation(0), np.array([0,0,1])))\n",
    "# visualizer.meshcat_task_space.Set2dRenderMode(RigidTransform(RotationMatrix.MakeZRotation(0), np.array([0,1,0])))"
   ]
  },
  {
   "cell_type": "code",
   "execution_count": 8,
   "metadata": {},
   "outputs": [],
   "source": [
    "# # filter fused joints self collisions so they don't interfere with collision engine\n",
    "# digaram = visualizer.diagram\n",
    "# context = visualizer.diagram_context\n",
    "# sg_context = scene_graph.GetMyContextFromRoot(context)\n",
    "# inspector = scene_graph.model_inspector()\n",
    "\n",
    "# pairs = scene_graph.get_query_output_port().Eval(sg_context).inspector().GetCollisionCandidates()\n",
    "\n",
    "# gids = [gid for gid in inspector.GetGeometryIds(GeometrySet(inspector.GetAllGeometryIds()), Role.kProximity)]\n",
    "# get_name_of_gid = lambda gid : inspector.GetName(gid)\n",
    "# gids.sort(key=get_name_of_gid)\n",
    "\n",
    "# id_pairs_of_interest = [(gid1, gid2) for i, gid1 in enumerate(gids) for gid2 in gids[i+1:] ]\n",
    "# print(id_pairs_of_interest)\n",
    "# visualizer.collision_pairs_of_interest = id_pairs_of_interest\n"
   ]
  },
  {
   "cell_type": "markdown",
   "metadata": {},
   "source": [
    "## Set up the sliders so we can move the plant around manually"
   ]
  },
  {
   "cell_type": "code",
   "execution_count": 9,
   "metadata": {
    "scrolled": false
   },
   "outputs": [
    {
     "name": "stderr",
     "output_type": "stream",
     "text": [
      "Widget Javascript not detected.  It may not be installed or enabled properly. Reconnecting the current kernel may help.\n"
     ]
    },
    {
     "data": {
      "application/vnd.jupyter.widget-view+json": {
       "model_id": "dcd614c673ed425d869d843fca8cef61"
      }
     },
     "metadata": {},
     "output_type": "display_data"
    },
    {
     "name": "stderr",
     "output_type": "stream",
     "text": [
      "Widget Javascript not detected.  It may not be installed or enabled properly. Reconnecting the current kernel may help.\n"
     ]
    },
    {
     "data": {
      "application/vnd.jupyter.widget-view+json": {
       "model_id": "98ecd80d7d4e433bb77c71bd65c5528f"
      }
     },
     "metadata": {},
     "output_type": "display_data"
    }
   ],
   "source": [
    "sliders = []\n",
    "\n",
    "for i, q in enumerate(plant.GetPositionLowerLimits()):\n",
    "    sliders.append(widgets.FloatSlider(min=q,\n",
    "                                       max=plant.GetPositionUpperLimits()[i], \n",
    "                                       value=0, description=f'q{i}'))\n",
    "# sliders.append(widgets.FloatSlider(min=q_low[2], max=q_high[2], value=0, description='q2'))\n",
    "\n",
    "q = np.array([0,0])\n",
    "def handle_slider_change(change, idx):\n",
    "    q[idx] = change['new']\n",
    "    visualizer.show_res_q(q)\n",
    "    \n",
    "idx = 0\n",
    "for slider in sliders:\n",
    "    slider.observe(partial(handle_slider_change, idx = idx), names='value')\n",
    "    idx+=1\n",
    "\n",
    "for slider in sliders:\n",
    "    display(slider)\n",
    "\n",
    "\n",
    "# visualizer.jupyter_cell()"
   ]
  },
  {
   "cell_type": "code",
   "execution_count": null,
   "metadata": {},
   "outputs": [],
   "source": []
  },
  {
   "cell_type": "code",
   "execution_count": 10,
   "metadata": {
    "scrolled": true
   },
   "outputs": [
    {
     "name": "stdout",
     "output_type": "stream",
     "text": [
      "[0 0 0]\n",
      "[-0.25  0.9   0.  ]\n",
      "[0 0 0]\n",
      "[1 1 0]\n",
      "[-0.99920399 -0.99920399  0.        ]\n",
      "[0.99920399 0.99920399 0.        ]\n"
     ]
    }
   ],
   "source": [
    "s0 = np.array([0,0])\n",
    "s1_safe = np.array([-0.25, 0.9])\n",
    "s1_unsafe = np.array([1,1])\n",
    "\n",
    "def plot_edge(s0, s1, s0_name = \"s0\", s1_name = \"s1\"):\n",
    "    visualizer.meshcat_cspace.SetObject(f\"/{s0_name}\",\n",
    "                                 Sphere(0.05),\n",
    "                                 Rgba(0.0, 1.0, 0, 1))\n",
    "    s0_3d = np.array([s0[0],s0[1],0])\n",
    "    s1_3d = np.array([s1[0],s1[1],0])\n",
    "    print(s0_3d)\n",
    "    print(s1_3d)\n",
    "    visualizer.meshcat_cspace.SetTransform(f\"/{s0_name}\",\n",
    "                                  RigidTransform(RotationMatrix(),\n",
    "                                                 s0_3d))\n",
    "    \n",
    "    visualizer.meshcat_cspace.SetObject(f\"/{s1_name}\",\n",
    "                                 Sphere(0.05),\n",
    "                                 Rgba(1.0, 0.0, 0, 1))\n",
    "    visualizer.meshcat_cspace.SetTransform(f\"/{s1_name}\",\n",
    "                                   RigidTransform(RotationMatrix(),\n",
    "                                                 s1_3d))\n",
    "    visualizer.meshcat_cspace.SetLine(f\"/edge_{s0_name}_{s1_name}\", \n",
    "                                np.hstack([s0_3d[:,np.newaxis], s1_3d[:, np.newaxis]]),\n",
    "                                line_width = 2, rgba = Rgba(0.0, 0.0, 0.0, 1))\n",
    "plot_edge(s0,s1_safe, s1_name = \"s1_safe\")\n",
    "plot_edge(s0,s1_unsafe, s1_name = \"s1_unsafe\")\n",
    "plot_edge(limits_s[0],limits_s[1], s0_name = \"joint limit low\", s1_name = \"joint limit high\")"
   ]
  },
  {
   "cell_type": "code",
   "execution_count": 11,
   "metadata": {},
   "outputs": [],
   "source": [
    "def make_line_poly(start_point, end_point):\n",
    "    polys = np.empty(shape=(plant.num_positions(), 1), dtype = object)\n",
    "    for j in range(plant.num_positions()):\n",
    "        polys[j] = PolynomialCommon(np.array([start_point[j]-end_point[j], end_point[j]]))\n",
    "    return polys\n",
    "safe_line = make_line_poly(s0, s1_safe)\n",
    "unsafe_line = make_line_poly(s0, s1_unsafe)"
   ]
  },
  {
   "cell_type": "code",
   "execution_count": 12,
   "metadata": {},
   "outputs": [],
   "source": [
    "cert_options = CspaceFreePath.FindSeparationCertificateGivenPathOptions()\n",
    "cert_options.terminate_segment_certification_at_failure = False\n",
    "\n",
    "cert_options.num_threads = -1\n",
    "cert_options.verbose = False\n",
    "cert_options.solver_id = MosekSolver.id()\n",
    "cert_options.solver_options = SolverOptions()\n",
    "cert_options.terminate_path_certification_at_failure = False\n"
   ]
  },
  {
   "cell_type": "code",
   "execution_count": 13,
   "metadata": {},
   "outputs": [
    {
     "name": "stdout",
     "output_type": "stream",
     "text": [
      "[True]\n",
      "[False]\n"
     ]
    }
   ],
   "source": [
    "\n",
    "is_safe_safe, safe_cert = cspace_free_path.FindSeparationCertificateGivenPath(safe_line, set(), cert_options)\n",
    "print(is_safe_safe)\n",
    "is_safe_unsafe, unsafe_cert = cspace_free_path.FindSeparationCertificateGivenPath(unsafe_line, set(), cert_options)\n",
    "print(is_safe_unsafe)\n"
   ]
  },
  {
   "cell_type": "code",
   "execution_count": 14,
   "metadata": {},
   "outputs": [
    {
     "data": {
      "text/plain": [
       "(<GeometryId value=22>, <GeometryId value=36>)"
      ]
     },
     "execution_count": 14,
     "metadata": {},
     "output_type": "execute_result"
    }
   ],
   "source": [
    "pair, plane_idx = next(iter(cspace_free_path.map_geometries_to_separating_planes().items()))\n",
    "pair"
   ]
  },
  {
   "cell_type": "code",
   "execution_count": null,
   "metadata": {},
   "outputs": [],
   "source": []
  },
  {
   "cell_type": "code",
   "execution_count": 15,
   "metadata": {},
   "outputs": [
    {
     "name": "stdout",
     "output_type": "stream",
     "text": [
      "(<GeometryId value=22>, <GeometryId value=36>)\n"
     ]
    }
   ],
   "source": [
    "for pair, plane_idx in cspace_free_path.map_geometries_to_separating_planes().items():\n",
    "    print(pair)"
   ]
  },
  {
   "cell_type": "code",
   "execution_count": 16,
   "metadata": {},
   "outputs": [
    {
     "data": {
      "text/plain": [
       "0.0"
      ]
     },
     "execution_count": 16,
     "metadata": {},
     "output_type": "execute_result"
    }
   ],
   "source": [
    "# draw prm\n",
    "import prm\n",
    "from pydrake.all import Rgba\n",
    "\n",
    "# limits = [np.array(t_low), np.array(q_high)]\n",
    "\n",
    "visualizer.meshcat_cspace.Delete(\"/prm\")\n",
    "\n",
    "def plot_prm(nodes, adjacency_list, width, color = Rgba(0.0, 0.0, 1, 1), prefix = \"\"):\n",
    "    plt_idx = 0\n",
    "    for node_idx in range(nodes.shape[0]):\n",
    "        pos1 = np.append(nodes[node_idx, :],0)\n",
    "        for edge_idx in range(len(adjacency_list[node_idx])): \n",
    "            pos2 = np.append(nodes[adjacency_list[node_idx][edge_idx], :],0)\n",
    "            name = f\"/{prefix}/prm/rm/line/{plt_idx}\"\n",
    "#             for c in map(int, sqtring):\n",
    "#                 name += f\"/{c}\"\n",
    "            visualizer.meshcat_cspace.SetLine(name,  np.hstack([pos1[:,np.newaxis], pos2[:, np.newaxis]]),\n",
    "                                 line_width = width, rgba = color)\n",
    "            plt_idx +=1\n",
    "            \n",
    "plotting_fn_handle_good = partial(plot_prm, width = 0.1, prefix = \"Good\", color = Rgba(0, 0.,0,1))\n",
    "\n",
    "def collision(pos, col_func_handle):\n",
    "    return col_func_handle(pos)\n",
    "\n",
    "\n",
    "prm_col_fn_handle = partial(collision, col_func_handle = visualizer.check_collision_s_by_ik)\n",
    "\n",
    "visualizer.check_collision_s_by_ik(np.zeros_like(q_star))\n",
    "prm_col_fn_handle(np.zeros_like(q_star))\n"
   ]
  },
  {
   "cell_type": "code",
   "execution_count": 17,
   "metadata": {},
   "outputs": [
    {
     "name": "stdout",
     "output_type": "stream",
     "text": [
      "[PRM] Samples 0\n",
      "[PRM] Samples 30\n",
      "[PRM] Samples 60\n",
      "[PRM] Samples 90\n",
      "[PRM] Nodes connected: 0\n",
      "[PRM] Nodes connected: 20\n",
      "[PRM] Nodes connected: 40\n",
      "[PRM] Nodes connected: 60\n",
      "[PRM] Nodes connected: 80\n"
     ]
    }
   ],
   "source": [
    "num_points = 100\n",
    "\n",
    "PRM = prm.PRM( \n",
    "            limits_s,\n",
    "            num_points = num_points,\n",
    "            col_func_handle = prm_col_fn_handle,\n",
    "            num_neighbours = 5, \n",
    "            dist_thresh = .5,\n",
    "            num_col_checks = 10,\n",
    "            verbose = True,\n",
    "            plotcallback = plotting_fn_handle_good\n",
    "            )\n",
    "# if num_points < 100:\n",
    "PRM.plot()\n",
    "tot_num_edges = len(PRM.adjacency_list)* len(PRM.adjacency_list[0])"
   ]
  },
  {
   "cell_type": "code",
   "execution_count": 18,
   "metadata": {},
   "outputs": [],
   "source": [
    "def make_line_polys(PRM):\n",
    "    endpoint_index_set = set()\n",
    "    for neighbors in PRM.adjacency_list:\n",
    "        for n in neighbors[1:]:\n",
    "            endpoint_index_set.add((neighbors[0], n))\n",
    "    polys = np.empty(shape=(plant.num_positions(), len(endpoint_index_set)), dtype = object)\n",
    "    for i, (idx0, idx1) in enumerate(endpoint_index_set):\n",
    "        s0 = PRM.nodes[idx0]\n",
    "        s1 = PRM.nodes[idx1]\n",
    "        for j in range(plant.num_positions()):\n",
    "            polys[j,i] = PolynomialCommon(np.array([s0[j]-s1[j], s1[j]]))\n",
    "    return polys\n",
    "\n",
    "path_safe = make_line_polys(PRM)"
   ]
  },
  {
   "cell_type": "code",
   "execution_count": 19,
   "metadata": {},
   "outputs": [
    {
     "name": "stdout",
     "output_type": "stream",
     "text": [
      "Certification of safe PRM in 0.09583425521850586s\n"
     ]
    }
   ],
   "source": [
    "t0 = time.time()\n",
    "edge_safe, certs = cspace_free_path.FindSeparationCertificateGivenPath(path_safe[:,0], set(), cert_options)\n",
    "t1 = time.time()\n",
    "print(f\"Certification of safe PRM in {t1-t0}s\")"
   ]
  },
  {
   "cell_type": "code",
   "execution_count": 20,
   "metadata": {},
   "outputs": [
    {
     "data": {
      "text/plain": [
       "[True]"
      ]
     },
     "execution_count": 20,
     "metadata": {},
     "output_type": "execute_result"
    }
   ],
   "source": [
    "edge_safe"
   ]
  },
  {
   "cell_type": "code",
   "execution_count": null,
   "metadata": {},
   "outputs": [],
   "source": []
  },
  {
   "cell_type": "code",
   "execution_count": 21,
   "metadata": {},
   "outputs": [
    {
     "name": "stdout",
     "output_type": "stream",
     "text": [
      "Time to construct line certifier = 0.022484302520751953s\n"
     ]
    }
   ],
   "source": [
    "from pydrake.multibody.rational_forward_kinematics import SeparatingPlaneOrderOld, VerificationOptionOld\n",
    "diagram = visualizer.task_space_diagram\n",
    "# context = visualizer.diagram_context\n",
    "# sg_context = scene_graph.GetMyContextFromRoot(context)\n",
    "# inspector = scene_graph.model_inspector()\n",
    "\n",
    "# pairs = scene_graph.get_query_output_port().Eval(sg_context).inspector().GetCollisionCandidates()\n",
    "\n",
    "# gids = [gid for gid in inspector.GetGeometryIds(GeometrySet(inspector.GetAllGeometryIds()), Role.kProximity)]\n",
    "# get_name_of_gid = lambda gid : inspector.GetName(gid)\n",
    "# gids.sort(key=get_name_of_gid)\n",
    "\n",
    "# id_pairs_of_interest = [(gid1, gid2) for i, gid1 in enumerate(gids) for gid2 in gids[i+1:] ]\n",
    "# print(id_pairs_of_interest)\n",
    "# visualizer.collision_pairs_of_interest = id_pairs_of_interest\n",
    "t0 = time.time()\n",
    "line_certifier = CspaceFreeLine(diagram, plant, scene_graph,\n",
    "                                SeparatingPlaneOrderOld.kAffine, \n",
    "                                np.zeros(plant.num_positions()),\n",
    "                                set(), VerificationOptionOld()\n",
    "                               )\n",
    "t1 = time.time()\n",
    "print(f\"Time to construct line certifier = {t1-t0}s\")"
   ]
  },
  {
   "cell_type": "code",
   "execution_count": 22,
   "metadata": {},
   "outputs": [
    {
     "name": "stdout",
     "output_type": "stream",
     "text": [
      "Decision variables: plane_var0 plane_var1 plane_var2 plane_var3 plane_var4 plane_var5 plane_var6 plane_var7    Sl(0,0)    Sl(1,0)    Sl(1,1)    Sv(0,0)    Sv(1,0)    Sv(1,1)    Sl(0,0)    Sl(1,0)    Sl(1,1)    Sv(0,0)    Sv(1,0)    Sv(1,1)    Sl(0,0)    Sl(1,0)    Sl(1,1)    Sv(0,0)    Sv(1,0)    Sv(1,1)    Sl(0,0)    Sl(1,0)    Sl(1,1)    Sv(0,0)    Sv(1,0)    Sv(1,1)    Sl(0,0)    Sl(1,0)    Sl(1,1)    Sv(0,0)    Sv(1,0)    Sv(1,1)    Sl(0,0)    Sl(1,0)    Sl(1,1)    Sv(0,0)    Sv(1,0)    Sv(1,1)    Sl(0,0)    Sl(1,0)    Sl(1,1)    Sv(0,0)    Sv(1,0)    Sv(1,1)    Sl(0,0)    Sl(1,0)    Sl(1,1)    Sv(0,0)    Sv(1,0)    Sv(1,1)    Sl(0,0)    Sl(1,0)    Sl(1,1)    Sv(0,0)    Sv(1,0)    Sv(1,1)    Sl(0,0)    Sl(1,0)    Sl(1,1)    Sv(0,0)    Sv(1,0)    Sv(1,1)    Sl(0,0)    Sl(1,0)    Sl(1,1)    Sv(0,0)    Sv(1,0)    Sv(1,1)    Sl(0,0)    Sl(1,0)    Sl(1,1)    Sv(0,0)    Sv(1,0)    Sv(1,1)    Sl(0,0)    Sl(1,0)    Sl(1,1)    Sv(0,0)    Sv(1,0)    Sv(1,1)    Sl(0,0)    Sl(1,0)    Sl(1,1)    Sv(0,0)    Sv(1,0)    Sv(1,1)    Sl(0,0)    Sl(1,0)    Sl(1,1)    Sv(0,0)    Sv(1,0)    Sv(1,1)    Sl(0,0)    Sl(1,0)    Sl(1,1)    Sv(0,0)    Sv(1,0)    Sv(1,1)\n",
      "\n",
      "Indeterminates: mu y0 y1 y2\n",
      "\n",
      "LinearEqualityConstraint\n",
      "( - 0.15625 * plane_var1 + 0.53125 * plane_var3 + 5.9375 * plane_var5 + 1.0625 * plane_var7 - Sv(1,1)) == 1.0625\n",
      "LinearEqualityConstraint\n",
      "( - 0.15625 * plane_var0 + 2.8125 * plane_var1 + 0.53125 * plane_var2 - 0.0625 * plane_var3 + 5.9375 * plane_var4 - 0.625 * plane_var5 + 1.0625 * plane_var6 - 0.125 * plane_var7 - Sl(1,1) - 2 * Sv(1,0) + Sv(1,1)) == -0.125\n",
      "LinearEqualityConstraint\n",
      "(2.8125 * plane_var0 - 0.15625 * plane_var1 - 0.0625 * plane_var2 + 0.03125 * plane_var3 - 0.625 * plane_var4 - 0.3125 * plane_var5 - 0.125 * plane_var6 + 0.0625 * plane_var7 - 2 * Sl(1,0) - Sv(0,0) + 2 * Sv(1,0)) == 0.0625\n",
      "LinearEqualityConstraint\n",
      "( - 0.15625 * plane_var0 + 0.03125 * plane_var2 - 0.3125 * plane_var4 + 0.0625 * plane_var6 - Sl(0,0) + Sv(0,0)) == 0\n",
      "LinearEqualityConstraint\n",
      "(4.84375 * plane_var1 + 0.53125 * plane_var3 - 3.4375 * plane_var5 + 1.0625 * plane_var7 - Sv(1,1)) == 1.0625\n",
      "LinearEqualityConstraint\n",
      "(4.84375 * plane_var0 - 2.1875 * plane_var1 + 0.53125 * plane_var2 - 0.0625 * plane_var3 - 3.4375 * plane_var4 - 1.875 * plane_var5 + 1.0625 * plane_var6 - 0.125 * plane_var7 - Sl(1,1) - 2 * Sv(1,0) + Sv(1,1)) == -0.125\n",
      "LinearEqualityConstraint\n",
      "( - 2.1875 * plane_var0 - 0.15625 * plane_var1 - 0.0625 * plane_var2 + 0.03125 * plane_var3 - 1.875 * plane_var4 + 0.3125 * plane_var5 - 0.125 * plane_var6 + 0.0625 * plane_var7 - 2 * Sl(1,0) - Sv(0,0) + 2 * Sv(1,0)) == 0.0625\n",
      "LinearEqualityConstraint\n",
      "( - 0.15625 * plane_var0 + 0.03125 * plane_var2 + 0.3125 * plane_var4 + 0.0625 * plane_var6 - Sl(0,0) + Sv(0,0)) == 0\n",
      "LinearEqualityConstraint\n",
      "( - 0.15625 * plane_var1 - 0.53125 * plane_var3 + 5.9375 * plane_var5 + 1.0625 * plane_var7 - Sv(1,1)) == 1.0625\n",
      "LinearEqualityConstraint\n",
      "( - 0.15625 * plane_var0 + 2.8125 * plane_var1 - 0.53125 * plane_var2 + 0.0625 * plane_var3 + 5.9375 * plane_var4 - 0.625 * plane_var5 + 1.0625 * plane_var6 - 0.125 * plane_var7 - Sl(1,1) - 2 * Sv(1,0) + Sv(1,1)) == -0.125\n",
      "LinearEqualityConstraint\n",
      "(2.8125 * plane_var0 - 0.15625 * plane_var1 + 0.0625 * plane_var2 - 0.03125 * plane_var3 - 0.625 * plane_var4 - 0.3125 * plane_var5 - 0.125 * plane_var6 + 0.0625 * plane_var7 - 2 * Sl(1,0) - Sv(0,0) + 2 * Sv(1,0)) == 0.0625\n",
      "LinearEqualityConstraint\n",
      "( - 0.15625 * plane_var0 - 0.03125 * plane_var2 - 0.3125 * plane_var4 + 0.0625 * plane_var6 - Sl(0,0) + Sv(0,0)) == 0\n",
      "LinearEqualityConstraint\n",
      "(4.84375 * plane_var1 - 0.53125 * plane_var3 - 3.4375 * plane_var5 + 1.0625 * plane_var7 - Sv(1,1)) == 1.0625\n",
      "LinearEqualityConstraint\n",
      "(4.84375 * plane_var0 - 2.1875 * plane_var1 - 0.53125 * plane_var2 + 0.0625 * plane_var3 - 3.4375 * plane_var4 - 1.875 * plane_var5 + 1.0625 * plane_var6 - 0.125 * plane_var7 - Sl(1,1) - 2 * Sv(1,0) + Sv(1,1)) == -0.125\n",
      "LinearEqualityConstraint\n",
      "( - 2.1875 * plane_var0 - 0.15625 * plane_var1 + 0.0625 * plane_var2 - 0.03125 * plane_var3 - 1.875 * plane_var4 + 0.3125 * plane_var5 - 0.125 * plane_var6 + 0.0625 * plane_var7 - 2 * Sl(1,0) - Sv(0,0) + 2 * Sv(1,0)) == 0.0625\n",
      "LinearEqualityConstraint\n",
      "( - 0.15625 * plane_var0 - 0.03125 * plane_var2 + 0.3125 * plane_var4 + 0.0625 * plane_var6 - Sl(0,0) + Sv(0,0)) == 0\n",
      "LinearEqualityConstraint\n",
      "( - 1.09375 * plane_var1 + 0.53125 * plane_var3 + 5.4375 * plane_var5 + 1.0625 * plane_var7 - Sv(1,1)) == 1.0625\n",
      "LinearEqualityConstraint\n",
      "( - 1.09375 * plane_var0 + 2.6875 * plane_var1 + 0.53125 * plane_var2 - 0.0625 * plane_var3 + 5.4375 * plane_var4 - 0.125 * plane_var5 + 1.0625 * plane_var6 - 0.125 * plane_var7 - Sl(1,1) - 2 * Sv(1,0) + Sv(1,1)) == -0.125\n",
      "LinearEqualityConstraint\n",
      "(2.6875 * plane_var0 - 0.09375 * plane_var1 - 0.0625 * plane_var2 + 0.03125 * plane_var3 - 0.125 * plane_var4 - 0.3125 * plane_var5 - 0.125 * plane_var6 + 0.0625 * plane_var7 - 2 * Sl(1,0) - Sv(0,0) + 2 * Sv(1,0)) == 0.0625\n",
      "LinearEqualityConstraint\n",
      "( - 0.09375 * plane_var0 + 0.03125 * plane_var2 - 0.3125 * plane_var4 + 0.0625 * plane_var6 - Sl(0,0) + Sv(0,0)) == 0\n",
      "LinearEqualityConstraint\n",
      "(3.90625 * plane_var1 + 0.53125 * plane_var3 - 3.9375 * plane_var5 + 1.0625 * plane_var7 - Sv(1,1)) == 1.0625\n",
      "LinearEqualityConstraint\n",
      "(3.90625 * plane_var0 - 2.3125 * plane_var1 + 0.53125 * plane_var2 - 0.0625 * plane_var3 - 3.9375 * plane_var4 - 1.375 * plane_var5 + 1.0625 * plane_var6 - 0.125 * plane_var7 - Sl(1,1) - 2 * Sv(1,0) + Sv(1,1)) == -0.125\n",
      "LinearEqualityConstraint\n",
      "( - 2.3125 * plane_var0 - 0.09375 * plane_var1 - 0.0625 * plane_var2 + 0.03125 * plane_var3 - 1.375 * plane_var4 + 0.3125 * plane_var5 - 0.125 * plane_var6 + 0.0625 * plane_var7 - 2 * Sl(1,0) - Sv(0,0) + 2 * Sv(1,0)) == 0.0625\n",
      "LinearEqualityConstraint\n",
      "( - 0.09375 * plane_var0 + 0.03125 * plane_var2 + 0.3125 * plane_var4 + 0.0625 * plane_var6 - Sl(0,0) + Sv(0,0)) == 0\n",
      "LinearEqualityConstraint\n",
      "( - 1.09375 * plane_var1 - 0.53125 * plane_var3 + 5.4375 * plane_var5 + 1.0625 * plane_var7 - Sv(1,1)) == 1.0625\n",
      "LinearEqualityConstraint\n",
      "( - 1.09375 * plane_var0 + 2.6875 * plane_var1 - 0.53125 * plane_var2 + 0.0625 * plane_var3 + 5.4375 * plane_var4 - 0.125 * plane_var5 + 1.0625 * plane_var6 - 0.125 * plane_var7 - Sl(1,1) - 2 * Sv(1,0) + Sv(1,1)) == -0.125\n",
      "LinearEqualityConstraint\n",
      "(2.6875 * plane_var0 - 0.09375 * plane_var1 + 0.0625 * plane_var2 - 0.03125 * plane_var3 - 0.125 * plane_var4 - 0.3125 * plane_var5 - 0.125 * plane_var6 + 0.0625 * plane_var7 - 2 * Sl(1,0) - Sv(0,0) + 2 * Sv(1,0)) == 0.0625\n",
      "LinearEqualityConstraint\n",
      "( - 0.09375 * plane_var0 - 0.03125 * plane_var2 - 0.3125 * plane_var4 + 0.0625 * plane_var6 - Sl(0,0) + Sv(0,0)) == 0\n",
      "LinearEqualityConstraint\n",
      "(3.90625 * plane_var1 - 0.53125 * plane_var3 - 3.9375 * plane_var5 + 1.0625 * plane_var7 - Sv(1,1)) == 1.0625\n",
      "LinearEqualityConstraint\n",
      "(3.90625 * plane_var0 - 2.3125 * plane_var1 - 0.53125 * plane_var2 + 0.0625 * plane_var3 - 3.9375 * plane_var4 - 1.375 * plane_var5 + 1.0625 * plane_var6 - 0.125 * plane_var7 - Sl(1,1) - 2 * Sv(1,0) + Sv(1,1)) == -0.125\n",
      "LinearEqualityConstraint\n",
      "( - 2.3125 * plane_var0 - 0.09375 * plane_var1 + 0.0625 * plane_var2 - 0.03125 * plane_var3 - 1.375 * plane_var4 + 0.3125 * plane_var5 - 0.125 * plane_var6 + 0.0625 * plane_var7 - 2 * Sl(1,0) - Sv(0,0) + 2 * Sv(1,0)) == 0.0625\n",
      "LinearEqualityConstraint\n",
      "( - 0.09375 * plane_var0 - 0.03125 * plane_var2 + 0.3125 * plane_var4 + 0.0625 * plane_var6 - Sl(0,0) + Sv(0,0)) == 0\n",
      "LinearEqualityConstraint\n",
      "( - 0.49749999999999994 * plane_var1 - 0.45250000000000001 * plane_var3 + 3.2175000000000002 * plane_var5 - 1.8100000000000001 * plane_var7 - Sv(1,1)) == 1.81\n",
      "LinearEqualityConstraint\n",
      "( - 0.49749999999999994 * plane_var0 + 0.044999999999999984 * plane_var1 - 0.45250000000000001 * plane_var2 + 0.40500000000000003 * plane_var3 + 3.2175000000000002 * plane_var4 - 2.3849999999999998 * plane_var5 - 1.8100000000000001 * plane_var6 + 1.6200000000000001 * plane_var7 - Sl(1,1) - 2 * Sv(1,0) + Sv(1,1)) == -1.62\n",
      "LinearEqualityConstraint\n",
      "(0.044999999999999984 * plane_var0 + 0.20250000000000001 * plane_var1 + 0.40500000000000003 * plane_var2 - 0.20250000000000001 * plane_var3 - 2.3849999999999998 * plane_var4 + 1.4175 * plane_var5 + 1.6200000000000001 * plane_var6 - 0.81000000000000005 * plane_var7 - 2 * Sl(1,0) - Sv(0,0) + 2 * Sv(1,0)) == 0.81\n",
      "LinearEqualityConstraint\n",
      "(0.20250000000000001 * plane_var0 - 0.20250000000000001 * plane_var2 + 1.4175 * plane_var4 - 0.81000000000000005 * plane_var6 - Sl(0,0) + Sv(0,0)) == 0\n",
      "LinearEqualityConstraint\n",
      "( - 1.3975 * plane_var1 - 0.45250000000000001 * plane_var3 + 3.3125 * plane_var5 - 1.8100000000000001 * plane_var7 - Sv(1,1)) == 1.81\n",
      "LinearEqualityConstraint\n",
      "( - 1.3975 * plane_var0 + 0.94500000000000006 * plane_var1 - 0.45250000000000001 * plane_var2 + 0.40500000000000003 * plane_var3 + 3.3125 * plane_var4 - 1.5750000000000004 * plane_var5 - 1.8100000000000001 * plane_var6 + 1.6200000000000001 * plane_var7 - Sl(1,1) - 2 * Sv(1,0) + Sv(1,1)) == -1.62\n",
      "LinearEqualityConstraint\n",
      "(0.94500000000000006 * plane_var0 + 0.20250000000000001 * plane_var1 + 0.40500000000000003 * plane_var2 - 0.20250000000000001 * plane_var3 - 1.5750000000000004 * plane_var4 + 1.0125000000000002 * plane_var5 + 1.6200000000000001 * plane_var6 - 0.81000000000000005 * plane_var7 - 2 * Sl(1,0) - Sv(0,0) + 2 * Sv(1,0)) == 0.81\n",
      "LinearEqualityConstraint\n",
      "(0.20250000000000001 * plane_var0 - 0.20250000000000001 * plane_var2 + 1.0125000000000002 * plane_var4 - 0.81000000000000005 * plane_var6 - Sl(0,0) + Sv(0,0)) == 0\n",
      "LinearEqualityConstraint\n",
      "( - 0.49749999999999994 * plane_var1 + 0.45250000000000001 * plane_var3 + 3.2175000000000002 * plane_var5 - 1.8100000000000001 * plane_var7 - Sv(1,1)) == 1.81\n",
      "LinearEqualityConstraint\n",
      "( - 0.49749999999999994 * plane_var0 + 0.044999999999999984 * plane_var1 + 0.45250000000000001 * plane_var2 - 0.40500000000000003 * plane_var3 + 3.2175000000000002 * plane_var4 - 2.3849999999999998 * plane_var5 - 1.8100000000000001 * plane_var6 + 1.6200000000000001 * plane_var7 - Sl(1,1) - 2 * Sv(1,0) + Sv(1,1)) == -1.62\n",
      "LinearEqualityConstraint\n",
      "(0.044999999999999984 * plane_var0 + 0.20250000000000001 * plane_var1 - 0.40500000000000003 * plane_var2 + 0.20250000000000001 * plane_var3 - 2.3849999999999998 * plane_var4 + 1.4175 * plane_var5 + 1.6200000000000001 * plane_var6 - 0.81000000000000005 * plane_var7 - 2 * Sl(1,0) - Sv(0,0) + 2 * Sv(1,0)) == 0.81\n",
      "LinearEqualityConstraint\n",
      "(0.20250000000000001 * plane_var0 + 0.20250000000000001 * plane_var2 + 1.4175 * plane_var4 - 0.81000000000000005 * plane_var6 - Sl(0,0) + Sv(0,0)) == 0\n",
      "LinearEqualityConstraint\n",
      "( - 1.3975 * plane_var1 + 0.45250000000000001 * plane_var3 + 3.3125 * plane_var5 - 1.8100000000000001 * plane_var7 - Sv(1,1)) == 1.81\n",
      "LinearEqualityConstraint\n",
      "( - 1.3975 * plane_var0 + 0.94500000000000006 * plane_var1 + 0.45250000000000001 * plane_var2 - 0.40500000000000003 * plane_var3 + 3.3125 * plane_var4 - 1.5750000000000004 * plane_var5 - 1.8100000000000001 * plane_var6 + 1.6200000000000001 * plane_var7 - Sl(1,1) - 2 * Sv(1,0) + Sv(1,1)) == -1.62\n",
      "LinearEqualityConstraint\n",
      "(0.94500000000000006 * plane_var0 + 0.20250000000000001 * plane_var1 - 0.40500000000000003 * plane_var2 + 0.20250000000000001 * plane_var3 - 1.5750000000000004 * plane_var4 + 1.0125000000000002 * plane_var5 + 1.6200000000000001 * plane_var6 - 0.81000000000000005 * plane_var7 - 2 * Sl(1,0) - Sv(0,0) + 2 * Sv(1,0)) == 0.81\n",
      "LinearEqualityConstraint\n",
      "(0.20250000000000001 * plane_var0 + 0.20250000000000001 * plane_var2 + 1.0125000000000002 * plane_var4 - 0.81000000000000005 * plane_var6 - Sl(0,0) + Sv(0,0)) == 0\n",
      "LinearEqualityConstraint\n",
      "( - 0.40250000000000002 * plane_var1 - 0.45250000000000001 * plane_var3 + 4.1174999999999997 * plane_var5 - 1.8100000000000001 * plane_var7 - Sv(1,1)) == 1.81\n",
      "LinearEqualityConstraint\n",
      "( - 0.40250000000000002 * plane_var0 + 0.85499999999999998 * plane_var1 - 0.45250000000000001 * plane_var2 + 0.40500000000000003 * plane_var3 + 4.1174999999999997 * plane_var4 - 3.2850000000000001 * plane_var5 - 1.8100000000000001 * plane_var6 + 1.6200000000000001 * plane_var7 - Sl(1,1) - 2 * Sv(1,0) + Sv(1,1)) == -1.62\n",
      "LinearEqualityConstraint\n",
      "(0.85499999999999998 * plane_var0 - 0.20250000000000001 * plane_var1 + 0.40500000000000003 * plane_var2 - 0.20250000000000001 * plane_var3 - 3.2850000000000001 * plane_var4 + 1.4175 * plane_var5 + 1.6200000000000001 * plane_var6 - 0.81000000000000005 * plane_var7 - 2 * Sl(1,0) - Sv(0,0) + 2 * Sv(1,0)) == 0.81\n",
      "LinearEqualityConstraint\n",
      "( - 0.20250000000000001 * plane_var0 - 0.20250000000000001 * plane_var2 + 1.4175 * plane_var4 - 0.81000000000000005 * plane_var6 - Sl(0,0) + Sv(0,0)) == 0\n",
      "LinearEqualityConstraint\n",
      "( - 1.3025000000000002 * plane_var1 - 0.45250000000000001 * plane_var3 + 4.2125000000000004 * plane_var5 - 1.8100000000000001 * plane_var7 - Sv(1,1)) == 1.81\n",
      "LinearEqualityConstraint\n",
      "( - 1.3025000000000002 * plane_var0 + 1.7550000000000001 * plane_var1 - 0.45250000000000001 * plane_var2 + 0.40500000000000003 * plane_var3 + 4.2125000000000004 * plane_var4 - 2.4750000000000005 * plane_var5 - 1.8100000000000001 * plane_var6 + 1.6200000000000001 * plane_var7 - Sl(1,1) - 2 * Sv(1,0) + Sv(1,1)) == -1.62\n",
      "LinearEqualityConstraint\n",
      "(1.7550000000000001 * plane_var0 - 0.20250000000000001 * plane_var1 + 0.40500000000000003 * plane_var2 - 0.20250000000000001 * plane_var3 - 2.4750000000000005 * plane_var4 + 1.0125000000000002 * plane_var5 + 1.6200000000000001 * plane_var6 - 0.81000000000000005 * plane_var7 - 2 * Sl(1,0) - Sv(0,0) + 2 * Sv(1,0)) == 0.81\n",
      "LinearEqualityConstraint\n",
      "( - 0.20250000000000001 * plane_var0 - 0.20250000000000001 * plane_var2 + 1.0125000000000002 * plane_var4 - 0.81000000000000005 * plane_var6 - Sl(0,0) + Sv(0,0)) == 0\n",
      "LinearEqualityConstraint\n",
      "( - 0.40250000000000002 * plane_var1 + 0.45250000000000001 * plane_var3 + 4.1174999999999997 * plane_var5 - 1.8100000000000001 * plane_var7 - Sv(1,1)) == 1.81\n",
      "LinearEqualityConstraint\n",
      "( - 0.40250000000000002 * plane_var0 + 0.85499999999999998 * plane_var1 + 0.45250000000000001 * plane_var2 - 0.40500000000000003 * plane_var3 + 4.1174999999999997 * plane_var4 - 3.2850000000000001 * plane_var5 - 1.8100000000000001 * plane_var6 + 1.6200000000000001 * plane_var7 - Sl(1,1) - 2 * Sv(1,0) + Sv(1,1)) == -1.62\n",
      "LinearEqualityConstraint\n",
      "(0.85499999999999998 * plane_var0 - 0.20250000000000001 * plane_var1 - 0.40500000000000003 * plane_var2 + 0.20250000000000001 * plane_var3 - 3.2850000000000001 * plane_var4 + 1.4175 * plane_var5 + 1.6200000000000001 * plane_var6 - 0.81000000000000005 * plane_var7 - 2 * Sl(1,0) - Sv(0,0) + 2 * Sv(1,0)) == 0.81\n",
      "LinearEqualityConstraint\n",
      "( - 0.20250000000000001 * plane_var0 + 0.20250000000000001 * plane_var2 + 1.4175 * plane_var4 - 0.81000000000000005 * plane_var6 - Sl(0,0) + Sv(0,0)) == 0\n",
      "LinearEqualityConstraint\n",
      "( - 1.3025000000000002 * plane_var1 + 0.45250000000000001 * plane_var3 + 4.2125000000000004 * plane_var5 - 1.8100000000000001 * plane_var7 - Sv(1,1)) == 1.81\n",
      "LinearEqualityConstraint\n",
      "( - 1.3025000000000002 * plane_var0 + 1.7550000000000001 * plane_var1 + 0.45250000000000001 * plane_var2 - 0.40500000000000003 * plane_var3 + 4.2125000000000004 * plane_var4 - 2.4750000000000005 * plane_var5 - 1.8100000000000001 * plane_var6 + 1.6200000000000001 * plane_var7 - Sl(1,1) - 2 * Sv(1,0) + Sv(1,1)) == -1.62\n",
      "LinearEqualityConstraint\n",
      "(1.7550000000000001 * plane_var0 - 0.20250000000000001 * plane_var1 - 0.40500000000000003 * plane_var2 + 0.20250000000000001 * plane_var3 - 2.4750000000000005 * plane_var4 + 1.0125000000000002 * plane_var5 + 1.6200000000000001 * plane_var6 - 0.81000000000000005 * plane_var7 - 2 * Sl(1,0) - Sv(0,0) + 2 * Sv(1,0)) == 0.81\n",
      "LinearEqualityConstraint\n",
      "( - 0.20250000000000001 * plane_var0 + 0.20250000000000001 * plane_var2 + 1.0125000000000002 * plane_var4 - 0.81000000000000005 * plane_var6 - Sl(0,0) + Sv(0,0)) == 0\n",
      "PositiveSemidefiniteConstraint with 4 decision variables Sl(0,0) Sl(1,0) Sl(1,0) Sl(1,1)\n",
      "PositiveSemidefiniteConstraint with 4 decision variables Sv(0,0) Sv(1,0) Sv(1,0) Sv(1,1)\n",
      "PositiveSemidefiniteConstraint with 4 decision variables Sl(0,0) Sl(1,0) Sl(1,0) Sl(1,1)\n",
      "PositiveSemidefiniteConstraint with 4 decision variables Sv(0,0) Sv(1,0) Sv(1,0) Sv(1,1)\n",
      "PositiveSemidefiniteConstraint with 4 decision variables Sl(0,0) Sl(1,0) Sl(1,0) Sl(1,1)\n",
      "PositiveSemidefiniteConstraint with 4 decision variables Sv(0,0) Sv(1,0) Sv(1,0) Sv(1,1)\n",
      "PositiveSemidefiniteConstraint with 4 decision variables Sl(0,0) Sl(1,0) Sl(1,0) Sl(1,1)\n",
      "PositiveSemidefiniteConstraint with 4 decision variables Sv(0,0) Sv(1,0) Sv(1,0) Sv(1,1)\n",
      "PositiveSemidefiniteConstraint with 4 decision variables Sl(0,0) Sl(1,0) Sl(1,0) Sl(1,1)\n",
      "PositiveSemidefiniteConstraint with 4 decision variables Sv(0,0) Sv(1,0) Sv(1,0) Sv(1,1)\n",
      "PositiveSemidefiniteConstraint with 4 decision variables Sl(0,0) Sl(1,0) Sl(1,0) Sl(1,1)\n",
      "PositiveSemidefiniteConstraint with 4 decision variables Sv(0,0) Sv(1,0) Sv(1,0) Sv(1,1)\n",
      "PositiveSemidefiniteConstraint with 4 decision variables Sl(0,0) Sl(1,0) Sl(1,0) Sl(1,1)\n",
      "PositiveSemidefiniteConstraint with 4 decision variables Sv(0,0) Sv(1,0) Sv(1,0) Sv(1,1)\n",
      "PositiveSemidefiniteConstraint with 4 decision variables Sl(0,0) Sl(1,0) Sl(1,0) Sl(1,1)\n",
      "PositiveSemidefiniteConstraint with 4 decision variables Sv(0,0) Sv(1,0) Sv(1,0) Sv(1,1)\n",
      "PositiveSemidefiniteConstraint with 4 decision variables Sl(0,0) Sl(1,0) Sl(1,0) Sl(1,1)\n",
      "PositiveSemidefiniteConstraint with 4 decision variables Sv(0,0) Sv(1,0) Sv(1,0) Sv(1,1)\n",
      "PositiveSemidefiniteConstraint with 4 decision variables Sl(0,0) Sl(1,0) Sl(1,0) Sl(1,1)\n",
      "PositiveSemidefiniteConstraint with 4 decision variables Sv(0,0) Sv(1,0) Sv(1,0) Sv(1,1)\n",
      "PositiveSemidefiniteConstraint with 4 decision variables Sl(0,0) Sl(1,0) Sl(1,0) Sl(1,1)\n",
      "PositiveSemidefiniteConstraint with 4 decision variables Sv(0,0) Sv(1,0) Sv(1,0) Sv(1,1)\n",
      "PositiveSemidefiniteConstraint with 4 decision variables Sl(0,0) Sl(1,0) Sl(1,0) Sl(1,1)\n",
      "PositiveSemidefiniteConstraint with 4 decision variables Sv(0,0) Sv(1,0) Sv(1,0) Sv(1,1)\n",
      "PositiveSemidefiniteConstraint with 4 decision variables Sl(0,0) Sl(1,0) Sl(1,0) Sl(1,1)\n",
      "PositiveSemidefiniteConstraint with 4 decision variables Sv(0,0) Sv(1,0) Sv(1,0) Sv(1,1)\n",
      "PositiveSemidefiniteConstraint with 4 decision variables Sl(0,0) Sl(1,0) Sl(1,0) Sl(1,1)\n",
      "PositiveSemidefiniteConstraint with 4 decision variables Sv(0,0) Sv(1,0) Sv(1,0) Sv(1,1)\n",
      "PositiveSemidefiniteConstraint with 4 decision variables Sl(0,0) Sl(1,0) Sl(1,0) Sl(1,1)\n",
      "PositiveSemidefiniteConstraint with 4 decision variables Sv(0,0) Sv(1,0) Sv(1,0) Sv(1,1)\n",
      "PositiveSemidefiniteConstraint with 4 decision variables Sl(0,0) Sl(1,0) Sl(1,0) Sl(1,1)\n",
      "PositiveSemidefiniteConstraint with 4 decision variables Sv(0,0) Sv(1,0) Sv(1,0) Sv(1,1)\n",
      "\n"
     ]
    }
   ],
   "source": [
    "safe_line = make_line_poly(s0, s1_safe)\n",
    "sep_cert_prog = cspace_free_path.MakeIsGeometrySeparableOnPathProgram(pair, safe_line)\n",
    "print(sep_cert_prog.prog())"
   ]
  },
  {
   "cell_type": "code",
   "execution_count": 23,
   "metadata": {},
   "outputs": [
    {
     "name": "stdout",
     "output_type": "stream",
     "text": [
      "Decision variables:  plane_var0  plane_var1  plane_var2  plane_var3  plane_var4  plane_var5  plane_var6  plane_var7  plane_var8  plane_var9 plane_var10 plane_var11     Sl(0,0)     Sl(1,0)     Sl(1,1)     Sv(0,0)     Sv(1,0)     Sv(1,1)     Sl(0,0)     Sl(1,0)     Sl(1,1)     Sv(0,0)     Sv(1,0)     Sv(1,1)     Sl(0,0)     Sl(1,0)     Sl(1,1)     Sv(0,0)     Sv(1,0)     Sv(1,1)     Sl(0,0)     Sl(1,0)     Sl(1,1)     Sv(0,0)     Sv(1,0)     Sv(1,1)     Sl(0,0)     Sl(1,0)     Sl(1,1)     Sv(0,0)     Sv(1,0)     Sv(1,1)     Sl(0,0)     Sl(1,0)     Sl(1,1)     Sv(0,0)     Sv(1,0)     Sv(1,1)     Sl(0,0)     Sl(1,0)     Sl(1,1)     Sv(0,0)     Sv(1,0)     Sv(1,1)     Sl(0,0)     Sl(1,0)     Sl(1,1)     Sv(0,0)     Sv(1,0)     Sv(1,1)     Sl(0,0)     Sl(1,0)     Sl(1,1)     Sv(0,0)     Sv(1,0)     Sv(1,1)     Sl(0,0)     Sl(1,0)     Sl(1,1)     Sv(0,0)     Sv(1,0)     Sv(1,1)     Sl(0,0)     Sl(1,0)     Sl(1,1)     Sv(0,0)     Sv(1,0)     Sv(1,1)     Sl(0,0)     Sl(1,0)     Sl(1,1)     Sv(0,0)     Sv(1,0)     Sv(1,1)     Sl(0,0)     Sl(1,0)     Sl(1,1)     Sv(0,0)     Sv(1,0)     Sv(1,1)     Sl(0,0)     Sl(1,0)     Sl(1,1)     Sv(0,0)     Sv(1,0)     Sv(1,1)     Sl(0,0)     Sl(1,0)     Sl(1,1)     Sv(0,0)     Sv(1,0)     Sv(1,1)     Sl(0,0)     Sl(1,0)     Sl(1,1)     Sv(0,0)     Sv(1,0)     Sv(1,1)\n",
      "\n",
      "Indeterminates: mu\n",
      "\n",
      "LinearEqualityConstraint\n",
      "(0.2734375 * plane_var0 - 0.984375 * plane_var1 - 0.1328125 * plane_var2 + 0.47812500000000002 * plane_var3 + 1.359375 * plane_var4 - 4.8937499999999998 * plane_var5 - 1.09375 * plane_var6 + 0.53125 * plane_var7 - 5.4375 * plane_var8 - 0.265625 * plane_var9 + 0.95625000000000004 * plane_var10 + 1.0625 * plane_var11 - Sv(1,1)) == 1.0625\n",
      "LinearEqualityConstraint\n",
      "( - 0.9453125 * plane_var0 + 3.4031249999999997 * plane_var1 + 0.1484375 * plane_var2 - 0.53437500000000004 * plane_var3 - 1.390625 * plane_var4 + 5.0062499999999996 * plane_var5 + 2.6875 * plane_var6 - 0.0625 * plane_var7 + 0.125 * plane_var8 + 0.296875 * plane_var9 - 1.0687500000000001 * plane_var10 - 0.125 * plane_var11 - Sl(1,1) - 2 * Sv(1,0) + Sv(1,1)) == -0.125\n",
      "LinearEqualityConstraint\n",
      "(0.6953125 * plane_var0 - 2.5031249999999998 * plane_var1 - 0.0234375 * plane_var2 + 0.084375000000000006 * plane_var3 - 0.046875 * plane_var4 + 0.16874999999999996 * plane_var5 - 0.09375 * plane_var6 + 0.03125 * plane_var7 + 0.3125 * plane_var8 - 0.046875 * plane_var9 + 0.16875000000000001 * plane_var10 + 0.0625 * plane_var11 - 2 * Sl(1,0) - Sv(0,0) + 2 * Sv(1,0)) == 0.0625\n",
      "LinearEqualityConstraint\n",
      "( - 0.0234375 * plane_var0 + 0.084375000000000006 * plane_var1 + 0.0078125 * plane_var2 - 0.028125000000000001 * plane_var3 + 0.078125 * plane_var4 - 0.28125 * plane_var5 + 0.015625 * plane_var9 - 0.056250000000000001 * plane_var10 - Sl(0,0) + Sv(0,0)) == 0\n",
      "LinearEqualityConstraint\n",
      "(0.0390625 * plane_var0 - 0.140625 * plane_var1 - 0.1328125 * plane_var2 + 0.47812500000000002 * plane_var3 + 1.484375 * plane_var4 - 5.34375 * plane_var5 - 0.15625 * plane_var6 + 0.53125 * plane_var7 - 5.9375 * plane_var8 - 0.265625 * plane_var9 + 0.95625000000000004 * plane_var10 + 1.0625 * plane_var11 - Sv(1,1)) == 1.0625\n",
      "LinearEqualityConstraint\n",
      "( - 0.7421875 * plane_var0 + 2.671875 * plane_var1 + 0.1484375 * plane_var2 - 0.53437500000000004 * plane_var3 - 1.640625 * plane_var4 + 5.90625 * plane_var5 + 2.8125 * plane_var6 - 0.0625 * plane_var7 + 0.625 * plane_var8 + 0.296875 * plane_var9 - 1.0687500000000001 * plane_var10 - 0.125 * plane_var11 - Sl(1,1) - 2 * Sv(1,0) + Sv(1,1)) == -0.125\n",
      "LinearEqualityConstraint\n",
      "(0.7421875 * plane_var0 - 2.671875 * plane_var1 - 0.0234375 * plane_var2 + 0.084375000000000006 * plane_var3 + 0.078125 * plane_var4 - 0.28125 * plane_var5 - 0.15625 * plane_var6 + 0.03125 * plane_var7 + 0.3125 * plane_var8 - 0.046875 * plane_var9 + 0.16875000000000001 * plane_var10 + 0.0625 * plane_var11 - 2 * Sl(1,0) - Sv(0,0) + 2 * Sv(1,0)) == 0.0625\n",
      "LinearEqualityConstraint\n",
      "( - 0.0390625 * plane_var0 + 0.140625 * plane_var1 + 0.0078125 * plane_var2 - 0.028125000000000001 * plane_var3 + 0.078125 * plane_var4 - 0.28125 * plane_var5 + 0.015625 * plane_var9 - 0.056250000000000001 * plane_var10 - Sl(0,0) + Sv(0,0)) == 0\n",
      "LinearEqualityConstraint\n",
      "(0.0390625 * plane_var0 - 0.140625 * plane_var1 + 0.1328125 * plane_var2 - 0.47812500000000002 * plane_var3 + 1.484375 * plane_var4 - 5.34375 * plane_var5 - 0.15625 * plane_var6 - 0.53125 * plane_var7 - 5.9375 * plane_var8 - 0.265625 * plane_var9 + 0.95625000000000004 * plane_var10 + 1.0625 * plane_var11 - Sv(1,1)) == 1.0625\n",
      "LinearEqualityConstraint\n",
      "( - 0.7421875 * plane_var0 + 2.671875 * plane_var1 - 0.1484375 * plane_var2 + 0.53437500000000004 * plane_var3 - 1.640625 * plane_var4 + 5.90625 * plane_var5 + 2.8125 * plane_var6 + 0.0625 * plane_var7 + 0.625 * plane_var8 + 0.296875 * plane_var9 - 1.0687500000000001 * plane_var10 - 0.125 * plane_var11 - Sl(1,1) - 2 * Sv(1,0) + Sv(1,1)) == -0.125\n",
      "LinearEqualityConstraint\n",
      "(0.7421875 * plane_var0 - 2.671875 * plane_var1 + 0.0234375 * plane_var2 - 0.084375000000000006 * plane_var3 + 0.078125 * plane_var4 - 0.28125 * plane_var5 - 0.15625 * plane_var6 - 0.03125 * plane_var7 + 0.3125 * plane_var8 - 0.046875 * plane_var9 + 0.16875000000000001 * plane_var10 + 0.0625 * plane_var11 - 2 * Sl(1,0) - Sv(0,0) + 2 * Sv(1,0)) == 0.0625\n",
      "LinearEqualityConstraint\n",
      "( - 0.0390625 * plane_var0 + 0.140625 * plane_var1 - 0.0078125 * plane_var2 + 0.028125000000000001 * plane_var3 + 0.078125 * plane_var4 - 0.28125 * plane_var5 + 0.015625 * plane_var9 - 0.056250000000000001 * plane_var10 - Sl(0,0) + Sv(0,0)) == 0\n",
      "LinearEqualityConstraint\n",
      "(0.2734375 * plane_var0 - 0.984375 * plane_var1 + 0.1328125 * plane_var2 - 0.47812500000000002 * plane_var3 + 1.359375 * plane_var4 - 4.8937499999999998 * plane_var5 - 1.09375 * plane_var6 - 0.53125 * plane_var7 - 5.4375 * plane_var8 - 0.265625 * plane_var9 + 0.95625000000000004 * plane_var10 + 1.0625 * plane_var11 - Sv(1,1)) == 1.0625\n",
      "LinearEqualityConstraint\n",
      "( - 0.9453125 * plane_var0 + 3.4031249999999997 * plane_var1 - 0.1484375 * plane_var2 + 0.53437500000000004 * plane_var3 - 1.390625 * plane_var4 + 5.0062499999999996 * plane_var5 + 2.6875 * plane_var6 + 0.0625 * plane_var7 + 0.125 * plane_var8 + 0.296875 * plane_var9 - 1.0687500000000001 * plane_var10 - 0.125 * plane_var11 - Sl(1,1) - 2 * Sv(1,0) + Sv(1,1)) == -0.125\n",
      "LinearEqualityConstraint\n",
      "(0.6953125 * plane_var0 - 2.5031249999999998 * plane_var1 + 0.0234375 * plane_var2 - 0.084375000000000006 * plane_var3 - 0.046875 * plane_var4 + 0.16874999999999996 * plane_var5 - 0.09375 * plane_var6 - 0.03125 * plane_var7 + 0.3125 * plane_var8 - 0.046875 * plane_var9 + 0.16875000000000001 * plane_var10 + 0.0625 * plane_var11 - 2 * Sl(1,0) - Sv(0,0) + 2 * Sv(1,0)) == 0.0625\n",
      "LinearEqualityConstraint\n",
      "( - 0.0234375 * plane_var0 + 0.084375000000000006 * plane_var1 - 0.0078125 * plane_var2 + 0.028125000000000001 * plane_var3 + 0.078125 * plane_var4 - 0.28125 * plane_var5 + 0.015625 * plane_var9 - 0.056250000000000001 * plane_var10 - Sl(0,0) + Sv(0,0)) == 0\n",
      "LinearEqualityConstraint\n",
      "( - 0.9765625 * plane_var0 + 3.515625 * plane_var1 + 0.1328125 * plane_var2 - 0.47812500000000002 * plane_var3 - 0.984375 * plane_var4 + 3.5437500000000002 * plane_var5 + 3.90625 * plane_var6 - 0.53125 * plane_var7 + 3.9375 * plane_var8 - 0.265625 * plane_var9 + 0.95625000000000004 * plane_var10 + 1.0625 * plane_var11 - Sv(1,1)) == 1.0625\n",
      "LinearEqualityConstraint\n",
      "(1.5546875 * plane_var0 - 5.5968750000000007 * plane_var1 - 0.1484375 * plane_var2 + 0.53437500000000004 * plane_var3 + 0.640625 * plane_var4 - 2.3062499999999999 * plane_var5 - 2.3125 * plane_var6 + 0.0625 * plane_var7 + 1.375 * plane_var8 + 0.296875 * plane_var9 - 1.0687500000000001 * plane_var10 - 0.125 * plane_var11 - Sl(1,1) - 2 * Sv(1,0) + Sv(1,1)) == -0.125\n",
      "LinearEqualityConstraint\n",
      "( - 0.5546875 * plane_var0 + 1.996875 * plane_var1 + 0.0234375 * plane_var2 - 0.084375000000000006 * plane_var3 + 0.421875 * plane_var4 - 1.51875 * plane_var5 - 0.09375 * plane_var6 - 0.03125 * plane_var7 - 0.3125 * plane_var8 - 0.046875 * plane_var9 + 0.16875000000000001 * plane_var10 + 0.0625 * plane_var11 - 2 * Sl(1,0) - Sv(0,0) + 2 * Sv(1,0)) == 0.0625\n",
      "LinearEqualityConstraint\n",
      "( - 0.0234375 * plane_var0 + 0.084375000000000006 * plane_var1 - 0.0078125 * plane_var2 + 0.028125000000000001 * plane_var3 - 0.078125 * plane_var4 + 0.28125 * plane_var5 + 0.015625 * plane_var9 - 0.056250000000000001 * plane_var10 - Sl(0,0) + Sv(0,0)) == 0\n",
      "LinearEqualityConstraint\n",
      "( - 1.2109375 * plane_var0 + 4.359375 * plane_var1 + 0.1328125 * plane_var2 - 0.47812500000000002 * plane_var3 - 0.859375 * plane_var4 + 3.09375 * plane_var5 + 4.84375 * plane_var6 - 0.53125 * plane_var7 + 3.4375 * plane_var8 - 0.265625 * plane_var9 + 0.95625000000000004 * plane_var10 + 1.0625 * plane_var11 - Sv(1,1)) == 1.0625\n",
      "LinearEqualityConstraint\n",
      "(1.7578125 * plane_var0 - 6.328125 * plane_var1 - 0.1484375 * plane_var2 + 0.53437500000000004 * plane_var3 + 0.390625 * plane_var4 - 1.40625 * plane_var5 - 2.1875 * plane_var6 + 0.0625 * plane_var7 + 1.875 * plane_var8 + 0.296875 * plane_var9 - 1.0687500000000001 * plane_var10 - 0.125 * plane_var11 - Sl(1,1) - 2 * Sv(1,0) + Sv(1,1)) == -0.125\n",
      "LinearEqualityConstraint\n",
      "( - 0.5078125 * plane_var0 + 1.828125 * plane_var1 + 0.0234375 * plane_var2 - 0.084375000000000006 * plane_var3 + 0.546875 * plane_var4 - 1.96875 * plane_var5 - 0.15625 * plane_var6 - 0.03125 * plane_var7 - 0.3125 * plane_var8 - 0.046875 * plane_var9 + 0.16875000000000001 * plane_var10 + 0.0625 * plane_var11 - 2 * Sl(1,0) - Sv(0,0) + 2 * Sv(1,0)) == 0.0625\n",
      "LinearEqualityConstraint\n",
      "( - 0.0390625 * plane_var0 + 0.140625 * plane_var1 - 0.0078125 * plane_var2 + 0.028125000000000001 * plane_var3 - 0.078125 * plane_var4 + 0.28125 * plane_var5 + 0.015625 * plane_var9 - 0.056250000000000001 * plane_var10 - Sl(0,0) + Sv(0,0)) == 0\n",
      "LinearEqualityConstraint\n",
      "( - 1.2109375 * plane_var0 + 4.359375 * plane_var1 - 0.1328125 * plane_var2 + 0.47812500000000002 * plane_var3 - 0.859375 * plane_var4 + 3.09375 * plane_var5 + 4.84375 * plane_var6 + 0.53125 * plane_var7 + 3.4375 * plane_var8 - 0.265625 * plane_var9 + 0.95625000000000004 * plane_var10 + 1.0625 * plane_var11 - Sv(1,1)) == 1.0625\n",
      "LinearEqualityConstraint\n",
      "(1.7578125 * plane_var0 - 6.328125 * plane_var1 + 0.1484375 * plane_var2 - 0.53437500000000004 * plane_var3 + 0.390625 * plane_var4 - 1.40625 * plane_var5 - 2.1875 * plane_var6 - 0.0625 * plane_var7 + 1.875 * plane_var8 + 0.296875 * plane_var9 - 1.0687500000000001 * plane_var10 - 0.125 * plane_var11 - Sl(1,1) - 2 * Sv(1,0) + Sv(1,1)) == -0.125\n",
      "LinearEqualityConstraint\n",
      "( - 0.5078125 * plane_var0 + 1.828125 * plane_var1 - 0.0234375 * plane_var2 + 0.084375000000000006 * plane_var3 + 0.546875 * plane_var4 - 1.96875 * plane_var5 - 0.15625 * plane_var6 + 0.03125 * plane_var7 - 0.3125 * plane_var8 - 0.046875 * plane_var9 + 0.16875000000000001 * plane_var10 + 0.0625 * plane_var11 - 2 * Sl(1,0) - Sv(0,0) + 2 * Sv(1,0)) == 0.0625\n",
      "LinearEqualityConstraint\n",
      "( - 0.0390625 * plane_var0 + 0.140625 * plane_var1 + 0.0078125 * plane_var2 - 0.028125000000000001 * plane_var3 - 0.078125 * plane_var4 + 0.28125 * plane_var5 + 0.015625 * plane_var9 - 0.056250000000000001 * plane_var10 - Sl(0,0) + Sv(0,0)) == 0\n",
      "LinearEqualityConstraint\n",
      "( - 0.9765625 * plane_var0 + 3.515625 * plane_var1 - 0.1328125 * plane_var2 + 0.47812500000000002 * plane_var3 - 0.984375 * plane_var4 + 3.5437500000000002 * plane_var5 + 3.90625 * plane_var6 + 0.53125 * plane_var7 + 3.9375 * plane_var8 - 0.265625 * plane_var9 + 0.95625000000000004 * plane_var10 + 1.0625 * plane_var11 - Sv(1,1)) == 1.0625\n",
      "LinearEqualityConstraint\n",
      "(1.5546875 * plane_var0 - 5.5968750000000007 * plane_var1 + 0.1484375 * plane_var2 - 0.53437500000000004 * plane_var3 + 0.640625 * plane_var4 - 2.3062499999999999 * plane_var5 - 2.3125 * plane_var6 - 0.0625 * plane_var7 + 1.375 * plane_var8 + 0.296875 * plane_var9 - 1.0687500000000001 * plane_var10 - 0.125 * plane_var11 - Sl(1,1) - 2 * Sv(1,0) + Sv(1,1)) == -0.125\n",
      "LinearEqualityConstraint\n",
      "( - 0.5546875 * plane_var0 + 1.996875 * plane_var1 - 0.0234375 * plane_var2 + 0.084375000000000006 * plane_var3 + 0.421875 * plane_var4 - 1.51875 * plane_var5 - 0.09375 * plane_var6 + 0.03125 * plane_var7 - 0.3125 * plane_var8 - 0.046875 * plane_var9 + 0.16875000000000001 * plane_var10 + 0.0625 * plane_var11 - 2 * Sl(1,0) - Sv(0,0) + 2 * Sv(1,0)) == 0.0625\n",
      "LinearEqualityConstraint\n",
      "( - 0.0234375 * plane_var0 + 0.084375000000000006 * plane_var1 + 0.0078125 * plane_var2 - 0.028125000000000001 * plane_var3 - 0.078125 * plane_var4 + 0.28125 * plane_var5 + 0.015625 * plane_var9 - 0.056250000000000001 * plane_var10 - Sl(0,0) + Sv(0,0)) == 0\n",
      "LinearEqualityConstraint\n",
      "( - 0.34937499999999999 * plane_var0 + 1.2577500000000001 * plane_var1 + 0.113125 * plane_var2 - 0.40725 * plane_var3 - 0.828125 * plane_var4 + 2.9812500000000002 * plane_var5 + 1.3975 * plane_var6 - 0.45250000000000001 * plane_var7 + 3.3125 * plane_var8 + 0.45250000000000001 * plane_var9 - 1.629 * plane_var10 - 1.8100000000000001 * plane_var11 - Sv(1,1)) == 1.81\n",
      "LinearEqualityConstraint\n",
      "(0.58562500000000006 * plane_var0 - 2.10825 * plane_var1 - 0.21437500000000001 * plane_var2 + 0.77175000000000005 * plane_var3 + 1.221875 * plane_var4 - 4.3987500000000006 * plane_var5 - 0.94500000000000006 * plane_var6 + 0.40500000000000003 * plane_var7 - 1.5750000000000004 * plane_var8 - 0.85750000000000004 * plane_var9 + 3.0870000000000002 * plane_var10 + 1.6200000000000001 * plane_var11 - Sl(1,1) - 2 * Sv(1,0) + Sv(1,1)) == -1.62\n",
      "LinearEqualityConstraint\n",
      "( - 0.18562500000000001 * plane_var0 + 0.66825000000000001 * plane_var1 + 0.15187500000000001 * plane_var2 - 0.54675000000000007 * plane_var3 - 0.64687499999999998 * plane_var4 + 2.3287500000000003 * plane_var5 - 0.20250000000000001 * plane_var6 - 0.20250000000000001 * plane_var7 + 1.0125000000000002 * plane_var8 + 0.60750000000000004 * plane_var9 - 2.1870000000000003 * plane_var10 - 0.81000000000000005 * plane_var11 - 2 * Sl(1,0) - Sv(0,0) + 2 * Sv(1,0)) == 0.81\n",
      "LinearEqualityConstraint\n",
      "( - 0.050625000000000003 * plane_var0 + 0.18225000000000002 * plane_var1 - 0.050625000000000003 * plane_var2 + 0.18225000000000002 * plane_var3 + 0.25312500000000004 * plane_var4 - 0.91125000000000012 * plane_var5 - 0.20250000000000001 * plane_var9 + 0.72900000000000009 * plane_var10 - Sl(0,0) + Sv(0,0)) == 0\n",
      "LinearEqualityConstraint\n",
      "( - 0.32562500000000005 * plane_var0 + 1.17225 * plane_var1 + 0.113125 * plane_var2 - 0.40725 * plane_var3 - 1.0531250000000001 * plane_var4 + 3.7912499999999998 * plane_var5 + 1.3025000000000002 * plane_var6 - 0.45250000000000001 * plane_var7 + 4.2125000000000004 * plane_var8 + 0.45250000000000001 * plane_var9 - 1.629 * plane_var10 - 1.8100000000000001 * plane_var11 - Sv(1,1)) == 1.81\n",
      "LinearEqualityConstraint\n",
      "(0.76437500000000003 * plane_var0 - 2.7517500000000004 * plane_var1 - 0.21437500000000001 * plane_var2 + 0.77175000000000005 * plane_var3 + 1.671875 * plane_var4 - 6.0187500000000007 * plane_var5 - 1.7550000000000001 * plane_var6 + 0.40500000000000003 * plane_var7 - 2.4750000000000005 * plane_var8 - 0.85750000000000004 * plane_var9 + 3.0870000000000002 * plane_var10 + 1.6200000000000001 * plane_var11 - Sl(1,1) - 2 * Sv(1,0) + Sv(1,1)) == -1.62\n",
      "LinearEqualityConstraint\n",
      "( - 0.489375 * plane_var0 + 1.7617500000000001 * plane_var1 + 0.15187500000000001 * plane_var2 - 0.54675000000000007 * plane_var3 - 0.87187500000000007 * plane_var4 + 3.1387500000000008 * plane_var5 + 0.20250000000000001 * plane_var6 - 0.20250000000000001 * plane_var7 + 1.0125000000000002 * plane_var8 + 0.60750000000000004 * plane_var9 - 2.1870000000000003 * plane_var10 - 0.81000000000000005 * plane_var11 - 2 * Sl(1,0) - Sv(0,0) + 2 * Sv(1,0)) == 0.81\n",
      "LinearEqualityConstraint\n",
      "(0.050625000000000003 * plane_var0 - 0.18225000000000002 * plane_var1 - 0.050625000000000003 * plane_var2 + 0.18225000000000002 * plane_var3 + 0.25312500000000004 * plane_var4 - 0.91125000000000012 * plane_var5 - 0.20250000000000001 * plane_var9 + 0.72900000000000009 * plane_var10 - Sl(0,0) + Sv(0,0)) == 0\n",
      "LinearEqualityConstraint\n",
      "( - 0.32562500000000005 * plane_var0 + 1.17225 * plane_var1 - 0.113125 * plane_var2 + 0.40725 * plane_var3 - 1.0531250000000001 * plane_var4 + 3.7912499999999998 * plane_var5 + 1.3025000000000002 * plane_var6 + 0.45250000000000001 * plane_var7 + 4.2125000000000004 * plane_var8 + 0.45250000000000001 * plane_var9 - 1.629 * plane_var10 - 1.8100000000000001 * plane_var11 - Sv(1,1)) == 1.81\n",
      "LinearEqualityConstraint\n",
      "(0.76437500000000003 * plane_var0 - 2.7517500000000004 * plane_var1 + 0.21437500000000001 * plane_var2 - 0.77175000000000005 * plane_var3 + 1.671875 * plane_var4 - 6.0187500000000007 * plane_var5 - 1.7550000000000001 * plane_var6 - 0.40500000000000003 * plane_var7 - 2.4750000000000005 * plane_var8 - 0.85750000000000004 * plane_var9 + 3.0870000000000002 * plane_var10 + 1.6200000000000001 * plane_var11 - Sl(1,1) - 2 * Sv(1,0) + Sv(1,1)) == -1.62\n",
      "LinearEqualityConstraint\n",
      "( - 0.489375 * plane_var0 + 1.7617500000000001 * plane_var1 - 0.15187500000000001 * plane_var2 + 0.54675000000000007 * plane_var3 - 0.87187500000000007 * plane_var4 + 3.1387500000000008 * plane_var5 + 0.20250000000000001 * plane_var6 + 0.20250000000000001 * plane_var7 + 1.0125000000000002 * plane_var8 + 0.60750000000000004 * plane_var9 - 2.1870000000000003 * plane_var10 - 0.81000000000000005 * plane_var11 - 2 * Sl(1,0) - Sv(0,0) + 2 * Sv(1,0)) == 0.81\n",
      "LinearEqualityConstraint\n",
      "(0.050625000000000003 * plane_var0 - 0.18225000000000002 * plane_var1 + 0.050625000000000003 * plane_var2 - 0.18225000000000002 * plane_var3 + 0.25312500000000004 * plane_var4 - 0.91125000000000012 * plane_var5 - 0.20250000000000001 * plane_var9 + 0.72900000000000009 * plane_var10 - Sl(0,0) + Sv(0,0)) == 0\n",
      "LinearEqualityConstraint\n",
      "( - 0.34937499999999999 * plane_var0 + 1.2577500000000001 * plane_var1 - 0.113125 * plane_var2 + 0.40725 * plane_var3 - 0.828125 * plane_var4 + 2.9812500000000002 * plane_var5 + 1.3975 * plane_var6 + 0.45250000000000001 * plane_var7 + 3.3125 * plane_var8 + 0.45250000000000001 * plane_var9 - 1.629 * plane_var10 - 1.8100000000000001 * plane_var11 - Sv(1,1)) == 1.81\n",
      "LinearEqualityConstraint\n",
      "(0.58562500000000006 * plane_var0 - 2.10825 * plane_var1 + 0.21437500000000001 * plane_var2 - 0.77175000000000005 * plane_var3 + 1.221875 * plane_var4 - 4.3987500000000006 * plane_var5 - 0.94500000000000006 * plane_var6 - 0.40500000000000003 * plane_var7 - 1.5750000000000004 * plane_var8 - 0.85750000000000004 * plane_var9 + 3.0870000000000002 * plane_var10 + 1.6200000000000001 * plane_var11 - Sl(1,1) - 2 * Sv(1,0) + Sv(1,1)) == -1.62\n",
      "LinearEqualityConstraint\n",
      "( - 0.18562500000000001 * plane_var0 + 0.66825000000000001 * plane_var1 - 0.15187500000000001 * plane_var2 + 0.54675000000000007 * plane_var3 - 0.64687499999999998 * plane_var4 + 2.3287500000000003 * plane_var5 - 0.20250000000000001 * plane_var6 + 0.20250000000000001 * plane_var7 + 1.0125000000000002 * plane_var8 + 0.60750000000000004 * plane_var9 - 2.1870000000000003 * plane_var10 - 0.81000000000000005 * plane_var11 - 2 * Sl(1,0) - Sv(0,0) + 2 * Sv(1,0)) == 0.81\n",
      "LinearEqualityConstraint\n",
      "( - 0.050625000000000003 * plane_var0 + 0.18225000000000002 * plane_var1 + 0.050625000000000003 * plane_var2 - 0.18225000000000002 * plane_var3 + 0.25312500000000004 * plane_var4 - 0.91125000000000012 * plane_var5 - 0.20250000000000001 * plane_var9 + 0.72900000000000009 * plane_var10 - Sl(0,0) + Sv(0,0)) == 0\n",
      "LinearEqualityConstraint\n",
      "( - 0.12437499999999999 * plane_var0 + 0.44774999999999998 * plane_var1 - 0.113125 * plane_var2 + 0.40725 * plane_var3 - 0.80437500000000006 * plane_var4 + 2.89575 * plane_var5 + 0.49749999999999994 * plane_var6 + 0.45250000000000001 * plane_var7 + 3.2175000000000002 * plane_var8 + 0.45250000000000001 * plane_var9 - 1.629 * plane_var10 - 1.8100000000000001 * plane_var11 - Sv(1,1)) == 1.81\n",
      "LinearEqualityConstraint\n",
      "(0.13562499999999997 * plane_var0 - 0.48825000000000007 * plane_var1 + 0.21437500000000001 * plane_var2 - 0.77175000000000005 * plane_var3 + 1.4006250000000002 * plane_var4 - 5.0422500000000001 * plane_var5 - 0.044999999999999984 * plane_var6 - 0.40500000000000003 * plane_var7 - 2.3849999999999998 * plane_var8 - 0.85750000000000004 * plane_var9 + 3.0870000000000002 * plane_var10 + 1.6200000000000001 * plane_var11 - Sl(1,1) - 2 * Sv(1,0) + Sv(1,1)) == -1.62\n",
      "LinearEqualityConstraint\n",
      "(0.039375000000000007 * plane_var0 - 0.14175000000000004 * plane_var1 - 0.15187500000000001 * plane_var2 + 0.54675000000000007 * plane_var3 - 0.95062500000000005 * plane_var4 + 3.42225 * plane_var5 - 0.20250000000000001 * plane_var6 + 0.20250000000000001 * plane_var7 + 1.4175 * plane_var8 + 0.60750000000000004 * plane_var9 - 2.1870000000000003 * plane_var10 - 0.81000000000000005 * plane_var11 - 2 * Sl(1,0) - Sv(0,0) + 2 * Sv(1,0)) == 0.81\n",
      "LinearEqualityConstraint\n",
      "( - 0.050625000000000003 * plane_var0 + 0.18225000000000002 * plane_var1 + 0.050625000000000003 * plane_var2 - 0.18225000000000002 * plane_var3 + 0.354375 * plane_var4 - 1.2757500000000002 * plane_var5 - 0.20250000000000001 * plane_var9 + 0.72900000000000009 * plane_var10 - Sl(0,0) + Sv(0,0)) == 0\n",
      "LinearEqualityConstraint\n",
      "( - 0.10062500000000001 * plane_var0 + 0.36225000000000007 * plane_var1 - 0.113125 * plane_var2 + 0.40725 * plane_var3 - 1.0293749999999999 * plane_var4 + 3.7057500000000001 * plane_var5 + 0.40250000000000002 * plane_var6 + 0.45250000000000001 * plane_var7 + 4.1174999999999997 * plane_var8 + 0.45250000000000001 * plane_var9 - 1.629 * plane_var10 - 1.8100000000000001 * plane_var11 - Sv(1,1)) == 1.81\n",
      "LinearEqualityConstraint\n",
      "(0.31437500000000002 * plane_var0 - 1.1317500000000003 * plane_var1 + 0.21437500000000001 * plane_var2 - 0.77175000000000005 * plane_var3 + 1.850625 * plane_var4 - 6.6622500000000002 * plane_var5 - 0.85499999999999998 * plane_var6 - 0.40500000000000003 * plane_var7 - 3.2850000000000001 * plane_var8 - 0.85750000000000004 * plane_var9 + 3.0870000000000002 * plane_var10 + 1.6200000000000001 * plane_var11 - Sl(1,1) - 2 * Sv(1,0) + Sv(1,1)) == -1.62\n",
      "LinearEqualityConstraint\n",
      "( - 0.26437500000000003 * plane_var0 + 0.9517500000000001 * plane_var1 - 0.15187500000000001 * plane_var2 + 0.54675000000000007 * plane_var3 - 1.1756250000000001 * plane_var4 + 4.2322500000000005 * plane_var5 + 0.20250000000000001 * plane_var6 + 0.20250000000000001 * plane_var7 + 1.4175 * plane_var8 + 0.60750000000000004 * plane_var9 - 2.1870000000000003 * plane_var10 - 0.81000000000000005 * plane_var11 - 2 * Sl(1,0) - Sv(0,0) + 2 * Sv(1,0)) == 0.81\n",
      "LinearEqualityConstraint\n",
      "(0.050625000000000003 * plane_var0 - 0.18225000000000002 * plane_var1 + 0.050625000000000003 * plane_var2 - 0.18225000000000002 * plane_var3 + 0.354375 * plane_var4 - 1.2757500000000002 * plane_var5 - 0.20250000000000001 * plane_var9 + 0.72900000000000009 * plane_var10 - Sl(0,0) + Sv(0,0)) == 0\n",
      "LinearEqualityConstraint\n",
      "( - 0.10062500000000001 * plane_var0 + 0.36225000000000007 * plane_var1 + 0.113125 * plane_var2 - 0.40725 * plane_var3 - 1.0293749999999999 * plane_var4 + 3.7057500000000001 * plane_var5 + 0.40250000000000002 * plane_var6 - 0.45250000000000001 * plane_var7 + 4.1174999999999997 * plane_var8 + 0.45250000000000001 * plane_var9 - 1.629 * plane_var10 - 1.8100000000000001 * plane_var11 - Sv(1,1)) == 1.81\n",
      "LinearEqualityConstraint\n",
      "(0.31437500000000002 * plane_var0 - 1.1317500000000003 * plane_var1 - 0.21437500000000001 * plane_var2 + 0.77175000000000005 * plane_var3 + 1.850625 * plane_var4 - 6.6622500000000002 * plane_var5 - 0.85499999999999998 * plane_var6 + 0.40500000000000003 * plane_var7 - 3.2850000000000001 * plane_var8 - 0.85750000000000004 * plane_var9 + 3.0870000000000002 * plane_var10 + 1.6200000000000001 * plane_var11 - Sl(1,1) - 2 * Sv(1,0) + Sv(1,1)) == -1.62\n",
      "LinearEqualityConstraint\n",
      "( - 0.26437500000000003 * plane_var0 + 0.9517500000000001 * plane_var1 + 0.15187500000000001 * plane_var2 - 0.54675000000000007 * plane_var3 - 1.1756250000000001 * plane_var4 + 4.2322500000000005 * plane_var5 + 0.20250000000000001 * plane_var6 - 0.20250000000000001 * plane_var7 + 1.4175 * plane_var8 + 0.60750000000000004 * plane_var9 - 2.1870000000000003 * plane_var10 - 0.81000000000000005 * plane_var11 - 2 * Sl(1,0) - Sv(0,0) + 2 * Sv(1,0)) == 0.81\n",
      "LinearEqualityConstraint\n",
      "(0.050625000000000003 * plane_var0 - 0.18225000000000002 * plane_var1 - 0.050625000000000003 * plane_var2 + 0.18225000000000002 * plane_var3 + 0.354375 * plane_var4 - 1.2757500000000002 * plane_var5 - 0.20250000000000001 * plane_var9 + 0.72900000000000009 * plane_var10 - Sl(0,0) + Sv(0,0)) == 0\n",
      "LinearEqualityConstraint\n",
      "( - 0.12437499999999999 * plane_var0 + 0.44774999999999998 * plane_var1 + 0.113125 * plane_var2 - 0.40725 * plane_var3 - 0.80437500000000006 * plane_var4 + 2.89575 * plane_var5 + 0.49749999999999994 * plane_var6 - 0.45250000000000001 * plane_var7 + 3.2175000000000002 * plane_var8 + 0.45250000000000001 * plane_var9 - 1.629 * plane_var10 - 1.8100000000000001 * plane_var11 - Sv(1,1)) == 1.81\n",
      "LinearEqualityConstraint\n",
      "(0.13562499999999997 * plane_var0 - 0.48825000000000007 * plane_var1 - 0.21437500000000001 * plane_var2 + 0.77175000000000005 * plane_var3 + 1.4006250000000002 * plane_var4 - 5.0422500000000001 * plane_var5 - 0.044999999999999984 * plane_var6 + 0.40500000000000003 * plane_var7 - 2.3849999999999998 * plane_var8 - 0.85750000000000004 * plane_var9 + 3.0870000000000002 * plane_var10 + 1.6200000000000001 * plane_var11 - Sl(1,1) - 2 * Sv(1,0) + Sv(1,1)) == -1.62\n",
      "LinearEqualityConstraint\n",
      "(0.039375000000000007 * plane_var0 - 0.14175000000000004 * plane_var1 + 0.15187500000000001 * plane_var2 - 0.54675000000000007 * plane_var3 - 0.95062500000000005 * plane_var4 + 3.42225 * plane_var5 - 0.20250000000000001 * plane_var6 - 0.20250000000000001 * plane_var7 + 1.4175 * plane_var8 + 0.60750000000000004 * plane_var9 - 2.1870000000000003 * plane_var10 - 0.81000000000000005 * plane_var11 - 2 * Sl(1,0) - Sv(0,0) + 2 * Sv(1,0)) == 0.81\n",
      "LinearEqualityConstraint\n",
      "( - 0.050625000000000003 * plane_var0 + 0.18225000000000002 * plane_var1 - 0.050625000000000003 * plane_var2 + 0.18225000000000002 * plane_var3 + 0.354375 * plane_var4 - 1.2757500000000002 * plane_var5 - 0.20250000000000001 * plane_var9 + 0.72900000000000009 * plane_var10 - Sl(0,0) + Sv(0,0)) == 0\n",
      "PositiveSemidefiniteConstraint with 4 decision variables Sl(0,0) Sl(1,0) Sl(1,0) Sl(1,1)\n",
      "PositiveSemidefiniteConstraint with 4 decision variables Sv(0,0) Sv(1,0) Sv(1,0) Sv(1,1)\n",
      "PositiveSemidefiniteConstraint with 4 decision variables Sl(0,0) Sl(1,0) Sl(1,0) Sl(1,1)\n",
      "PositiveSemidefiniteConstraint with 4 decision variables Sv(0,0) Sv(1,0) Sv(1,0) Sv(1,1)\n",
      "PositiveSemidefiniteConstraint with 4 decision variables Sl(0,0) Sl(1,0) Sl(1,0) Sl(1,1)\n",
      "PositiveSemidefiniteConstraint with 4 decision variables Sv(0,0) Sv(1,0) Sv(1,0) Sv(1,1)\n",
      "PositiveSemidefiniteConstraint with 4 decision variables Sl(0,0) Sl(1,0) Sl(1,0) Sl(1,1)\n",
      "PositiveSemidefiniteConstraint with 4 decision variables Sv(0,0) Sv(1,0) Sv(1,0) Sv(1,1)\n",
      "PositiveSemidefiniteConstraint with 4 decision variables Sl(0,0) Sl(1,0) Sl(1,0) Sl(1,1)\n",
      "PositiveSemidefiniteConstraint with 4 decision variables Sv(0,0) Sv(1,0) Sv(1,0) Sv(1,1)\n",
      "PositiveSemidefiniteConstraint with 4 decision variables Sl(0,0) Sl(1,0) Sl(1,0) Sl(1,1)\n",
      "PositiveSemidefiniteConstraint with 4 decision variables Sv(0,0) Sv(1,0) Sv(1,0) Sv(1,1)\n",
      "PositiveSemidefiniteConstraint with 4 decision variables Sl(0,0) Sl(1,0) Sl(1,0) Sl(1,1)\n",
      "PositiveSemidefiniteConstraint with 4 decision variables Sv(0,0) Sv(1,0) Sv(1,0) Sv(1,1)\n",
      "PositiveSemidefiniteConstraint with 4 decision variables Sl(0,0) Sl(1,0) Sl(1,0) Sl(1,1)\n",
      "PositiveSemidefiniteConstraint with 4 decision variables Sv(0,0) Sv(1,0) Sv(1,0) Sv(1,1)\n",
      "PositiveSemidefiniteConstraint with 4 decision variables Sl(0,0) Sl(1,0) Sl(1,0) Sl(1,1)\n",
      "PositiveSemidefiniteConstraint with 4 decision variables Sv(0,0) Sv(1,0) Sv(1,0) Sv(1,1)\n",
      "PositiveSemidefiniteConstraint with 4 decision variables Sl(0,0) Sl(1,0) Sl(1,0) Sl(1,1)\n",
      "PositiveSemidefiniteConstraint with 4 decision variables Sv(0,0) Sv(1,0) Sv(1,0) Sv(1,1)\n",
      "PositiveSemidefiniteConstraint with 4 decision variables Sl(0,0) Sl(1,0) Sl(1,0) Sl(1,1)\n",
      "PositiveSemidefiniteConstraint with 4 decision variables Sv(0,0) Sv(1,0) Sv(1,0) Sv(1,1)\n",
      "PositiveSemidefiniteConstraint with 4 decision variables Sl(0,0) Sl(1,0) Sl(1,0) Sl(1,1)\n",
      "PositiveSemidefiniteConstraint with 4 decision variables Sv(0,0) Sv(1,0) Sv(1,0) Sv(1,1)\n",
      "PositiveSemidefiniteConstraint with 4 decision variables Sl(0,0) Sl(1,0) Sl(1,0) Sl(1,1)\n",
      "PositiveSemidefiniteConstraint with 4 decision variables Sv(0,0) Sv(1,0) Sv(1,0) Sv(1,1)\n",
      "PositiveSemidefiniteConstraint with 4 decision variables Sl(0,0) Sl(1,0) Sl(1,0) Sl(1,1)\n",
      "PositiveSemidefiniteConstraint with 4 decision variables Sv(0,0) Sv(1,0) Sv(1,0) Sv(1,1)\n",
      "PositiveSemidefiniteConstraint with 4 decision variables Sl(0,0) Sl(1,0) Sl(1,0) Sl(1,1)\n",
      "PositiveSemidefiniteConstraint with 4 decision variables Sv(0,0) Sv(1,0) Sv(1,0) Sv(1,1)\n",
      "PositiveSemidefiniteConstraint with 4 decision variables Sl(0,0) Sl(1,0) Sl(1,0) Sl(1,1)\n",
      "PositiveSemidefiniteConstraint with 4 decision variables Sv(0,0) Sv(1,0) Sv(1,0) Sv(1,1)\n",
      "\n"
     ]
    }
   ],
   "source": [
    "old_prog = line_certifier.MakeCertificationProgram(s0,s1_safe)\n",
    "print(old_prog)"
   ]
  },
  {
   "cell_type": "code",
   "execution_count": 43,
   "metadata": {},
   "outputs": [
    {
     "data": {
      "text/plain": [
       "<Polynomial \"(-1 + 1.5 * plane_var6 + 0.5 * plane_var7 - 5 * plane_var8 + plane_var11 - Sv(1,1) + 1.5 * (plane_var0 * s1(0)) + 10 * (plane_var0 * pow(s1(0), 2)) - 1.5 * (plane_var0 * pow(s1(0), 3)) + 10 * (plane_var1 * s1(0) * s1(1)) - 1.5 * (plane_var1 * pow(s1(0), 2) * s1(1)) + 1.5 * (plane_var1 * s1(1)) + 0.5 * (plane_var2 * s1(0)) + 0.5 * (plane_var2 * pow(s1(0), 3)) + 0.5 * (plane_var3 * pow(s1(0), 2) * s1(1)) + 0.5 * (plane_var3 * s1(1)) - 5 * (plane_var4 * s1(0)) + 3 * (plane_var4 * pow(s1(0), 2)) + 5 * (plane_var4 * pow(s1(0), 3)) + 3 * (plane_var5 * s1(0) * s1(1)) + 5 * (plane_var5 * pow(s1(0), 2) * s1(1)) - 5 * (plane_var5 * s1(1)) + 10 * (plane_var6 * s1(0)) - 1.5 * (plane_var6 * pow(s1(0), 2)) + 0.5 * (plane_var7 * pow(s1(0), 2)) + 3 * (plane_var8 * s1(0)) + 5 * (plane_var8 * pow(s1(0), 2)) + (plane_var9 * s1(0)) + (plane_var9 * pow(s1(0), 3)) + (plane_var10 * pow(s1(0), 2) * s1(1)) + (plane_var10 * s1(1)) + (plane_var11 * pow(s1(0), 2)) - pow(s1(0), 2))*1 + ( - Sl(1,1) - 2 * Sv(1,0) + Sv(1,1) + 1.5 * (plane_var0 * s0(0)) + 20 * (plane_var0 * s0(0) * s1(0)) - 4.5 * (plane_var0 * s0(0) * pow(s1(0), 2)) - 1.5 * (plane_var0 * s1(0)) - 20 * (plane_var0 * pow(s1(0), 2)) + 4.5 * (plane_var0 * pow(s1(0), 3)) - 3 * (plane_var1 * s0(0) * s1(0) * s1(1)) + 10 * (plane_var1 * s0(0) * s1(1)) + 1.5 * (plane_var1 * s0(1)) + 10 * (plane_var1 * s0(1) * s1(0)) - 1.5 * (plane_var1 * s0(1) * pow(s1(0), 2)) - 20 * (plane_var1 * s1(0) * s1(1)) + 4.5 * (plane_var1 * pow(s1(0), 2) * s1(1)) - 1.5 * (plane_var1 * s1(1)) + 0.5 * (plane_var2 * s0(0)) + 1.5 * (plane_var2 * s0(0) * pow(s1(0), 2)) - 0.5 * (plane_var2 * s1(0)) - 1.5 * (plane_var2 * pow(s1(0), 3)) + (plane_var3 * s0(0) * s1(0) * s1(1)) + 0.5 * (plane_var3 * s0(1)) + 0.5 * (plane_var3 * s0(1) * pow(s1(0), 2)) - 1.5 * (plane_var3 * pow(s1(0), 2) * s1(1)) - 0.5 * (plane_var3 * s1(1)) - 5 * (plane_var4 * s0(0)) + 6 * (plane_var4 * s0(0) * s1(0)) + 15 * (plane_var4 * s0(0) * pow(s1(0), 2)) + 5 * (plane_var4 * s1(0)) - 6 * (plane_var4 * pow(s1(0), 2)) - 15 * (plane_var4 * pow(s1(0), 3)) + 10 * (plane_var5 * s0(0) * s1(0) * s1(1)) + 3 * (plane_var5 * s0(0) * s1(1)) - 5 * (plane_var5 * s0(1)) + 3 * (plane_var5 * s0(1) * s1(0)) + 5 * (plane_var5 * s0(1) * pow(s1(0), 2)) - 6 * (plane_var5 * s1(0) * s1(1)) - 15 * (plane_var5 * pow(s1(0), 2) * s1(1)) + 5 * (plane_var5 * s1(1)) + 10 * (plane_var6 * s0(0)) - 3 * (plane_var6 * s0(0) * s1(0)) - 10 * (plane_var6 * s1(0)) + 3 * (plane_var6 * pow(s1(0), 2)) + (plane_var7 * s0(0) * s1(0)) - (plane_var7 * pow(s1(0), 2)) + 3 * (plane_var8 * s0(0)) + 10 * (plane_var8 * s0(0) * s1(0)) - 3 * (plane_var8 * s1(0)) - 10 * (plane_var8 * pow(s1(0), 2)) + (plane_var9 * s0(0)) + 3 * (plane_var9 * s0(0) * pow(s1(0), 2)) - (plane_var9 * s1(0)) - 3 * (plane_var9 * pow(s1(0), 3)) + 2 * (plane_var10 * s0(0) * s1(0) * s1(1)) + (plane_var10 * s0(1)) + (plane_var10 * s0(1) * pow(s1(0), 2)) - 3 * (plane_var10 * pow(s1(0), 2) * s1(1)) - (plane_var10 * s1(1)) + 2 * (plane_var11 * s0(0) * s1(0)) - 2 * (plane_var11 * pow(s1(0), 2)) - 2 * (s0(0) * s1(0)) + 2 * pow(s1(0), 2))*mu + ( - 2 * Sl(1,0) - Sv(0,0) + 2 * Sv(1,0) - 20 * (plane_var0 * s0(0) * s1(0)) + 9 * (plane_var0 * s0(0) * pow(s1(0), 2)) + 10 * (plane_var0 * pow(s0(0), 2)) - 4.5 * (plane_var0 * pow(s0(0), 2) * s1(0)) + 10 * (plane_var0 * pow(s1(0), 2)) - 4.5 * (plane_var0 * pow(s1(0), 3)) + 10 * (plane_var1 * s0(0) * s0(1)) - 3 * (plane_var1 * s0(0) * s0(1) * s1(0)) + 6 * (plane_var1 * s0(0) * s1(0) * s1(1)) - 10 * (plane_var1 * s0(0) * s1(1)) - 1.5 * (plane_var1 * pow(s0(0), 2) * s1(1)) - 10 * (plane_var1 * s0(1) * s1(0)) + 3 * (plane_var1 * s0(1) * pow(s1(0), 2)) + 10 * (plane_var1 * s1(0) * s1(1)) - 4.5 * (plane_var1 * pow(s1(0), 2) * s1(1)) - 3 * (plane_var2 * s0(0) * pow(s1(0), 2)) + 1.5 * (plane_var2 * pow(s0(0), 2) * s1(0)) + 1.5 * (plane_var2 * pow(s1(0), 3)) + (plane_var3 * s0(0) * s0(1) * s1(0)) - 2 * (plane_var3 * s0(0) * s1(0) * s1(1)) + 0.5 * (plane_var3 * pow(s0(0), 2) * s1(1)) - (plane_var3 * s0(1) * pow(s1(0), 2)) + 1.5 * (plane_var3 * pow(s1(0), 2) * s1(1)) - 6 * (plane_var4 * s0(0) * s1(0)) - 30 * (plane_var4 * s0(0) * pow(s1(0), 2)) + 3 * (plane_var4 * pow(s0(0), 2)) + 15 * (plane_var4 * pow(s0(0), 2) * s1(0)) + 3 * (plane_var4 * pow(s1(0), 2)) + 15 * (plane_var4 * pow(s1(0), 3)) + 3 * (plane_var5 * s0(0) * s0(1)) + 10 * (plane_var5 * s0(0) * s0(1) * s1(0)) - 20 * (plane_var5 * s0(0) * s1(0) * s1(1)) - 3 * (plane_var5 * s0(0) * s1(1)) + 5 * (plane_var5 * pow(s0(0), 2) * s1(1)) - 3 * (plane_var5 * s0(1) * s1(0)) - 10 * (plane_var5 * s0(1) * pow(s1(0), 2)) + 3 * (plane_var5 * s1(0) * s1(1)) + 15 * (plane_var5 * pow(s1(0), 2) * s1(1)) + 3 * (plane_var6 * s0(0) * s1(0)) - 1.5 * (plane_var6 * pow(s0(0), 2)) - 1.5 * (plane_var6 * pow(s1(0), 2)) - (plane_var7 * s0(0) * s1(0)) + 0.5 * (plane_var7 * pow(s0(0), 2)) + 0.5 * (plane_var7 * pow(s1(0), 2)) - 10 * (plane_var8 * s0(0) * s1(0)) + 5 * (plane_var8 * pow(s0(0), 2)) + 5 * (plane_var8 * pow(s1(0), 2)) - 6 * (plane_var9 * s0(0) * pow(s1(0), 2)) + 3 * (plane_var9 * pow(s0(0), 2) * s1(0)) + 3 * (plane_var9 * pow(s1(0), 3)) + 2 * (plane_var10 * s0(0) * s0(1) * s1(0)) - 4 * (plane_var10 * s0(0) * s1(0) * s1(1)) + (plane_var10 * pow(s0(0), 2) * s1(1)) - 2 * (plane_var10 * s0(1) * pow(s1(0), 2)) + 3 * (plane_var10 * pow(s1(0), 2) * s1(1)) - 2 * (plane_var11 * s0(0) * s1(0)) + (plane_var11 * pow(s0(0), 2)) + (plane_var11 * pow(s1(0), 2)) + 2 * (s0(0) * s1(0)) - pow(s0(0), 2) - pow(s1(0), 2))*mu^2 + ( - Sl(0,0) + Sv(0,0) - 4.5 * (plane_var0 * s0(0) * pow(s1(0), 2)) + 4.5 * (plane_var0 * pow(s0(0), 2) * s1(0)) - 1.5 * (plane_var0 * pow(s0(0), 3)) + 1.5 * (plane_var0 * pow(s1(0), 3)) + 3 * (plane_var1 * s0(0) * s0(1) * s1(0)) - 3 * (plane_var1 * s0(0) * s1(0) * s1(1)) - 1.5 * (plane_var1 * pow(s0(0), 2) * s0(1)) + 1.5 * (plane_var1 * pow(s0(0), 2) * s1(1)) - 1.5 * (plane_var1 * s0(1) * pow(s1(0), 2)) + 1.5 * (plane_var1 * pow(s1(0), 2) * s1(1)) + 1.5 * (plane_var2 * s0(0) * pow(s1(0), 2)) - 1.5 * (plane_var2 * pow(s0(0), 2) * s1(0)) + 0.5 * (plane_var2 * pow(s0(0), 3)) - 0.5 * (plane_var2 * pow(s1(0), 3)) - (plane_var3 * s0(0) * s0(1) * s1(0)) + (plane_var3 * s0(0) * s1(0) * s1(1)) + 0.5 * (plane_var3 * pow(s0(0), 2) * s0(1)) - 0.5 * (plane_var3 * pow(s0(0), 2) * s1(1)) + 0.5 * (plane_var3 * s0(1) * pow(s1(0), 2)) - 0.5 * (plane_var3 * pow(s1(0), 2) * s1(1)) + 15 * (plane_var4 * s0(0) * pow(s1(0), 2)) - 15 * (plane_var4 * pow(s0(0), 2) * s1(0)) + 5 * (plane_var4 * pow(s0(0), 3)) - 5 * (plane_var4 * pow(s1(0), 3)) - 10 * (plane_var5 * s0(0) * s0(1) * s1(0)) + 10 * (plane_var5 * s0(0) * s1(0) * s1(1)) + 5 * (plane_var5 * pow(s0(0), 2) * s0(1)) - 5 * (plane_var5 * pow(s0(0), 2) * s1(1)) + 5 * (plane_var5 * s0(1) * pow(s1(0), 2)) - 5 * (plane_var5 * pow(s1(0), 2) * s1(1)) + 3 * (plane_var9 * s0(0) * pow(s1(0), 2)) - 3 * (plane_var9 * pow(s0(0), 2) * s1(0)) + (plane_var9 * pow(s0(0), 3)) - (plane_var9 * pow(s1(0), 3)) - 2 * (plane_var10 * s0(0) * s0(1) * s1(0)) + 2 * (plane_var10 * s0(0) * s1(0) * s1(1)) + (plane_var10 * pow(s0(0), 2) * s0(1)) - (plane_var10 * pow(s0(0), 2) * s1(1)) + (plane_var10 * s0(1) * pow(s1(0), 2)) - (plane_var10 * pow(s1(0), 2) * s1(1)))*mu^3\">"
      ]
     },
     "execution_count": 43,
     "metadata": {},
     "output_type": "execute_result"
    }
   ],
   "source": [
    "line_certifier.get_tuples()[0].get_p()"
   ]
  },
  {
   "cell_type": "code",
   "execution_count": 41,
   "metadata": {},
   "outputs": [
    {
     "data": {
      "text/plain": [
       "<Polynomial \"(-1 + 2.5 * plane_var1 + 0.5 * plane_var3 + 5 * plane_var5 + plane_var7 - Sv(1,1) - 10 * (s_0(mu_1)_coeff * plane_var1) + 5 * (s_0(mu_1)_coeff * plane_var5) - 2.5 * (pow(s_0(mu_1)_coeff, 2) * plane_var1) + 0.5 * (pow(s_0(mu_1)_coeff, 2) * plane_var3) - 5 * (pow(s_0(mu_1)_coeff, 2) * plane_var5) + (pow(s_0(mu_1)_coeff, 2) * plane_var7) - pow(s_0(mu_1)_coeff, 2))*1 + (2.5 * plane_var0 + 0.5 * plane_var2 + 5 * plane_var4 + plane_var6 - Sl(1,1) - 2 * Sv(1,0) + Sv(1,1) - 2 * (s_0(mu_0)_coeff * s_0(mu_1)_coeff) - 5 * (s_0(mu_0)_coeff * s_0(mu_1)_coeff * plane_var1) + (s_0(mu_0)_coeff * s_0(mu_1)_coeff * plane_var3) - 10 * (s_0(mu_0)_coeff * s_0(mu_1)_coeff * plane_var5) + 2 * (s_0(mu_0)_coeff * s_0(mu_1)_coeff * plane_var7) - 10 * (s_0(mu_0)_coeff * plane_var1) + 5 * (s_0(mu_0)_coeff * plane_var5) - 10 * (s_0(mu_1)_coeff * plane_var0) + 5 * (s_0(mu_1)_coeff * plane_var4) - 2.5 * (pow(s_0(mu_1)_coeff, 2) * plane_var0) + 0.5 * (pow(s_0(mu_1)_coeff, 2) * plane_var2) - 5 * (pow(s_0(mu_1)_coeff, 2) * plane_var4) + (pow(s_0(mu_1)_coeff, 2) * plane_var6))*mu + ( - 2 * Sl(1,0) - Sv(0,0) + 2 * Sv(1,0) - 5 * (s_0(mu_0)_coeff * s_0(mu_1)_coeff * plane_var0) + (s_0(mu_0)_coeff * s_0(mu_1)_coeff * plane_var2) - 10 * (s_0(mu_0)_coeff * s_0(mu_1)_coeff * plane_var4) + 2 * (s_0(mu_0)_coeff * s_0(mu_1)_coeff * plane_var6) - 10 * (s_0(mu_0)_coeff * plane_var0) + 5 * (s_0(mu_0)_coeff * plane_var4) - 2.5 * (pow(s_0(mu_0)_coeff, 2) * plane_var1) + 0.5 * (pow(s_0(mu_0)_coeff, 2) * plane_var3) - 5 * (pow(s_0(mu_0)_coeff, 2) * plane_var5) + (pow(s_0(mu_0)_coeff, 2) * plane_var7) - pow(s_0(mu_0)_coeff, 2))*mu^2 + ( - Sl(0,0) + Sv(0,0) - 2.5 * (pow(s_0(mu_0)_coeff, 2) * plane_var0) + 0.5 * (pow(s_0(mu_0)_coeff, 2) * plane_var2) - 5 * (pow(s_0(mu_0)_coeff, 2) * plane_var4) + (pow(s_0(mu_0)_coeff, 2) * plane_var6))*mu^3\">"
      ]
     },
     "execution_count": 41,
     "metadata": {},
     "output_type": "execute_result"
    }
   ],
   "source": [
    "tmp = cspace_free_path.plane_geometries_on_path()[0].positive_side_conditions + \\\n",
    "    cspace_free_path.plane_geometries_on_path()[0].negative_side_conditions\n",
    "tmp[0].get_p()"
   ]
  }
 ],
 "metadata": {
  "interpreter": {
   "hash": "31f2aee4e71d21fbe5cf8b01ff0e069b9275f58929596ceb00d14d90e3e16cd6"
  },
  "kernelspec": {
   "display_name": "Python 3 (ipykernel)",
   "language": "python",
   "name": "python3"
  },
  "language_info": {
   "codemirror_mode": {
    "name": "ipython",
    "version": 3
   },
   "file_extension": ".py",
   "mimetype": "text/x-python",
   "name": "python",
   "nbconvert_exporter": "python",
   "pygments_lexer": "ipython3",
   "version": "3.10.6"
  }
 },
 "nbformat": 4,
 "nbformat_minor": 2
}
