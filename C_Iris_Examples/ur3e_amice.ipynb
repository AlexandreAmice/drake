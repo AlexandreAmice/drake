{
 "cells": [
  {
   "cell_type": "code",
   "execution_count": 1,
   "metadata": {},
   "outputs": [],
   "source": [
    "%load_ext autoreload"
   ]
  },
  {
   "cell_type": "code",
   "execution_count": 2,
   "metadata": {},
   "outputs": [],
   "source": [
    "import numpy as np\n",
    "from functools import partial\n",
    "from iris_plant_visualizer import IrisPlantVisualizer\n",
    "import ipywidgets as widgets\n",
    "from IPython.display import display\n",
    "from scipy.linalg import block_diag\n",
    "from pydrake.all import InverseKinematics"
   ]
  },
  {
   "cell_type": "code",
   "execution_count": 3,
   "metadata": {},
   "outputs": [],
   "source": [
    "#pydrake imports\n",
    "from pydrake.common import FindResourceOrThrow\n",
    "from pydrake.multibody.parsing import Parser\n",
    "from pydrake.multibody.plant import AddMultibodyPlantSceneGraph\n",
    "from pydrake.systems.framework import DiagramBuilder\n",
    "from pydrake.geometry import Role, GeometrySet, CollisionFilterDeclaration\n",
    "from pydrake.all import RigidTransform, RollPitchYaw, RevoluteJoint\n",
    "from pydrake.all import RotationMatrix, Rgba, VPolytope, BodyIndex,JacobianWrtVariable\n",
    "import time\n",
    "import pydrake.multibody.rational as rational_forward_kinematics\n",
    "from pydrake.all import RationalForwardKinematics\n",
    "from pydrake.geometry.optimization import IrisOptions, IrisInRationalConfigurationSpace, HPolyhedron, Hyperellipsoid\n",
    "from pydrake.solvers import MosekSolver, CommonSolverOption, SolverOptions\n",
    "from visprm import VPRMSeeding"
   ]
  },
  {
   "cell_type": "code",
   "execution_count": 4,
   "metadata": {},
   "outputs": [],
   "source": [
    "from pydrake.geometry.optimization_dev import (CspaceFreePolytope,\n",
    "                                               SeparatingPlane,\n",
    "                                               SeparatingPlaneOrder)\n",
    "from pydrake.common import (\n",
    "    FindResourceOrThrow, )\n",
    "from pydrake.systems.framework import (Context, Diagram, DiagramBuilder)\n",
    "from pydrake.multibody.plant import (AddMultibodyPlantSceneGraph,\n",
    "                                     CoulombFriction, MultibodyPlant)\n",
    "from pydrake.multibody.rational import RationalForwardKinematics\n",
    "from pydrake.multibody.tree import (ModelInstanceIndex)\n",
    "from pydrake.multibody.parsing import Parser\n",
    "from pydrake.multibody.inverse_kinematics import InverseKinematics\n",
    "from pydrake.math import (RigidTransform, RollPitchYaw)\n",
    "from pydrake.solvers.mosek import MosekSolver\n",
    "from pydrake.solvers.osqp import OsqpSolver\n",
    "from pydrake.solvers import mathematicalprogram as mp"
   ]
  },
  {
   "cell_type": "code",
   "execution_count": 5,
   "metadata": {},
   "outputs": [],
   "source": [
    "from pydrake.geometry.optimization_dev import (CspaceFreePolytope, \n",
    "                                               SeparatingPlaneOrder)"
   ]
  },
  {
   "cell_type": "code",
   "execution_count": 6,
   "metadata": {},
   "outputs": [],
   "source": [
    "from ur3e_demo import UrDiagram\n",
    "import visualization_utils as viz_utils\n",
    "import networkx as nx"
   ]
  },
  {
   "cell_type": "markdown",
   "metadata": {},
   "source": [
    "# Build and set up the visualization the plant\n",
    "\n"
   ]
  },
  {
   "cell_type": "code",
   "execution_count": 7,
   "metadata": {},
   "outputs": [
    {
     "name": "stderr",
     "output_type": "stream",
     "text": [
      "INFO:drake:Meshcat listening for connections at http://localhost:7000\n",
      "WARNING:drake:/home/amice/.cache/bazel/_bazel_amice/32fdbbecfa8a7ce8feece95e48c42006/execroot/drake/bazel-out/k8-opt/bin/C_Iris_Examples/ur3e_example.runfiles/drake/manipulation/models/ur3e/ur3e_cylinder_weld_wrist.urdf:287: warning: Skipping transmission since it's attached to a fixed joint \"ur_wrist_3_joint\".\n"
     ]
    },
    {
     "name": "stdout",
     "output_type": "stream",
     "text": [
      "http://localhost:7000\n"
     ]
    }
   ],
   "source": [
    "ur = UrDiagram(num_ur = 1, weld_wrist = True, add_shelf = True,\n",
    "                 add_gripper = True)\n",
    "diagram_context = ur.diagram.CreateDefaultContext()\n",
    "diagram = ur.diagram.ForcedPublish(diagram_context)\n",
    "\n",
    "plant_context = ur.plant.GetMyMutableContextFromRoot(\n",
    "        diagram_context)\n",
    "        \n",
    "# construct the RationalForwardKinematics of this plant. This object handles the\n",
    "# computations for the forward kinematics in the tangent-configuration space\n",
    "Ratfk = RationalForwardKinematics(ur.plant)\n",
    "\n",
    "# the point about which we will take the stereographic projections\n",
    "q_star = np.zeros(ur.plant.num_positions())\n",
    "\n",
    "# The object we will use to perform our certification.\n",
    "cspace_free_polytope = CspaceFreePolytope(ur.plant, ur.scene_graph,\n",
    "                                          SeparatingPlaneOrder.kAffine, q_star)\n"
   ]
  },
  {
   "cell_type": "markdown",
   "metadata": {},
   "source": [
    "## Set up the sliders so we can move the plant around manually\n",
    "\n",
    "You can use the sliders below to move the two degrees of freedom of the plant around. A green dot will appear in the TC-space visualization describing the current TC-space configuration."
   ]
  },
  {
   "cell_type": "code",
   "execution_count": 8,
   "metadata": {
    "scrolled": false
   },
   "outputs": [
    {
     "data": {
      "application/vnd.jupyter.widget-view+json": {
       "model_id": "af3cf99e913e4f52828de46592ab9484",
       "version_major": 2,
       "version_minor": 0
      },
      "text/plain": [
       "FloatSlider(value=0.0, description='q0', max=2.827433388230814, min=-2.827433388230814)"
      ]
     },
     "metadata": {},
     "output_type": "display_data"
    },
    {
     "data": {
      "application/vnd.jupyter.widget-view+json": {
       "model_id": "f7f45dbff11c46308e3db60e7ecd33cf",
       "version_major": 2,
       "version_minor": 0
      },
      "text/plain": [
       "FloatSlider(value=0.0, description='q1', max=2.827433388230814, min=-2.827433388230814)"
      ]
     },
     "metadata": {},
     "output_type": "display_data"
    },
    {
     "data": {
      "application/vnd.jupyter.widget-view+json": {
       "model_id": "d1ff688a38234ef7a1dcd09a6b53372b",
       "version_major": 2,
       "version_minor": 0
      },
      "text/plain": [
       "FloatSlider(value=0.0, description='q2', max=2.827433388230814, min=-2.827433388230814)"
      ]
     },
     "metadata": {},
     "output_type": "display_data"
    },
    {
     "data": {
      "application/vnd.jupyter.widget-view+json": {
       "model_id": "7835562381ae413c8abd04ed3493abf2",
       "version_major": 2,
       "version_minor": 0
      },
      "text/plain": [
       "FloatSlider(value=0.0, description='q3', max=2.827433388230814, min=-2.827433388230814)"
      ]
     },
     "metadata": {},
     "output_type": "display_data"
    },
    {
     "data": {
      "application/vnd.jupyter.widget-view+json": {
       "model_id": "eceab091d0324e1bb2f08df195259524",
       "version_major": 2,
       "version_minor": 0
      },
      "text/plain": [
       "FloatSlider(value=0.0, description='q4', max=2.827433388230814, min=-2.827433388230814)"
      ]
     },
     "metadata": {},
     "output_type": "display_data"
    }
   ],
   "source": [
    "sliders = []\n",
    "for i in range(ur.plant.num_positions()):\n",
    "    q_low = ur.plant.GetPositionLowerLimits()[i]\n",
    "    q_high = ur.plant.GetPositionUpperLimits()[i]\n",
    "    sliders.append(widgets.FloatSlider(min=q_low, max=q_high, value=0, description=f\"q{i}\"))\n",
    "\n",
    "q = np.zeros(ur.plant.num_positions())\n",
    "def handle_slider_change(change, idx):\n",
    "    q[idx] = change['new']\n",
    "    ur.plant.SetPositions(plant_context, q)\n",
    "    ur.diagram.ForcedPublish(diagram_context)\n",
    "    \n",
    "idx = 0\n",
    "for slider in sliders:\n",
    "    slider.observe(partial(handle_slider_change, idx = idx), names='value')\n",
    "    idx+=1\n",
    "\n",
    "for slider in sliders:\n",
    "    display(slider)\n"
   ]
  },
  {
   "cell_type": "code",
   "execution_count": 9,
   "metadata": {},
   "outputs": [
    {
     "data": {
      "application/vnd.jupyter.widget-view+json": {
       "model_id": "6a6f4cf152bd4e1eaa6d7aa241fc6467",
       "version_major": 2,
       "version_minor": 0
      },
      "text/plain": [
       "FloatSlider(value=0.0, description='x', max=10.0)"
      ]
     },
     "metadata": {},
     "output_type": "display_data"
    },
    {
     "data": {
      "application/vnd.jupyter.widget-view+json": {
       "model_id": "21381dabf5aa44d9bb1ac79cdc8df759",
       "version_major": 2,
       "version_minor": 0
      },
      "text/plain": [
       "FloatSlider(value=0.0, description='y', max=10.0)"
      ]
     },
     "metadata": {},
     "output_type": "display_data"
    },
    {
     "data": {
      "application/vnd.jupyter.widget-view+json": {
       "model_id": "7c515a2e88364a8286b0f58cdfc38a76",
       "version_major": 2,
       "version_minor": 0
      },
      "text/plain": [
       "FloatSlider(value=0.0, description='z', max=10.0)"
      ]
     },
     "metadata": {},
     "output_type": "display_data"
    }
   ],
   "source": [
    "pos = np.zeros(3)\n",
    "xyz_sliders = []\n",
    "for i in [\"x\",\"y\",\"z\"]:\n",
    "    xyz_sliders.append(widgets.FloatSlider(min=0, max=10, value=0, description=i))\n",
    "xyz = np.zeros(3)\n",
    "def handle_slider_change_xyz(change, idx):\n",
    "    xyz[idx] = change['new']\n",
    "    viz_utils.plot_point(xyz, ur.meshcat, \"/xyz\", radius = 0.05)\n",
    "\n",
    "idx = 0\n",
    "for slider in xyz_sliders:\n",
    "    slider.observe(partial(handle_slider_change_xyz, idx = idx), names='value')\n",
    "    idx+=1\n",
    "\n",
    "for slider in xyz_sliders:\n",
    "    display(slider)"
   ]
  },
  {
   "cell_type": "code",
   "execution_count": 10,
   "metadata": {},
   "outputs": [],
   "source": [
    "points_in_shelves = np.array([\n",
    "    [0.55, 0, 0.10],\n",
    "    [0.55, 0, 0.40],\n",
    "    [0.55, 0, 0.65],\n",
    "])"
   ]
  },
  {
   "cell_type": "code",
   "execution_count": 11,
   "metadata": {},
   "outputs": [],
   "source": [
    "# def find_ur_posture_from_xyz(plant,\n",
    "#                           plant_context,\n",
    "#                           q_init = np.array([-0.4, 0.7, -0., 0.7, 0.5])):\n",
    "#     ik = InverseKinematics(plant, plant_context)\n",
    "#     ee_frame = plant.GetFrameByName(\"ur_ee_link\")\n",
    "#     gripper_frame = plant.GetBodyByName(\"body\", ur.gripper_instances[0]).body_frame()\n",
    "#     shelf_frame = plant.GetFrameByName(\"shelves_body\")\n",
    "#     ik.AddPositionConstraint(gripper_frame, np.zeros((3, )), shelf_frame,\n",
    "#                              np.array([-0.15, -0., -0.2]),\n",
    "#                              np.array([0.05, 0., 0.2]))\n",
    "#     ik.AddPositionConstraint(gripper_frame, np.array([0, 0.028, 0]),\n",
    "#                              shelf_frame, np.array([-0.05, -0.02, -0.15]),\n",
    "#                              np.array([0.05, 0.02, 0.08]))\n",
    "#     ik.AddAngleBetweenVectorsConstraint(gripper_frame, np.array([1, 0, 0.]),\n",
    "#                                         plant.world_frame(),\n",
    "#                                         np.array([0, 0, 1]), 0.3 * np.pi,\n",
    "#                                         0.7 * np.pi)\n",
    "#     #right_finger = plant.GetBodyByName(\"right_finger\", gripper_instance)\n",
    "#     #ik.AddPositionConstraint(right_finger.body_frame(), np.array([0., 0., 0.]),\n",
    "#     #                         shelf_frame, np.array([-0.15, 0.04, -0.15]),\n",
    "#     #                         np.array([0.15, 0.1, 0.2]))\n",
    "#     #left_finger = plant.GetBodyByName(\"left_finger\", gripper_instance)\n",
    "#     #ik.AddPositionConstraint(left_finger.body_frame(), np.array([0., 0., 0.]),\n",
    "#     #                         shelf_frame, np.array([-0.15, -0.1, -0.15]),\n",
    "#     #                         np.array([0.15, -0.01, 0.2]))\n",
    "#     ik.AddMinimumDistanceConstraint(0.015)\n",
    "\n",
    "#     ik.get_mutable_prog().SetInitialGuess(ik.q(), q_init)\n",
    "#     result = mp.Solve(ik.prog(), q_init, None)\n",
    "#     if not result.is_success():\n",
    "#         raise Warning(\"Cannot find the posture\")\n",
    "#     print(result.GetSolution(ik.q()))\n",
    "#     return result.GetSolution(ik.q())"
   ]
  },
  {
   "cell_type": "code",
   "execution_count": 12,
   "metadata": {},
   "outputs": [],
   "source": [
    "def find_ur_posture_from_xyz(plant,\n",
    "                          plant_context,\n",
    "                          target_z = 0,\n",
    "                          q_init = np.array([-0.4, 0.7, -0., 0.7, 0.5])):\n",
    "    ik = InverseKinematics(plant, plant_context)\n",
    "    ee_frame = plant.GetFrameByName(\"ur_ee_link\")\n",
    "    gripper_frame = plant.GetBodyByName(\"body\", ur.gripper_instances[0]).body_frame()\n",
    "    shelf_frame = plant.GetFrameByName(\"top_and_bottom\")\n",
    "    ik.AddPositionConstraint(gripper_frame, np.zeros((3, )), shelf_frame,\n",
    "                             np.array([-0.15, -0., target_z-0.2]),\n",
    "                             np.array([0.05, 0.,target_z+ 0.2]))\n",
    "    ik.AddPositionConstraint(gripper_frame, np.array([0, 0.028, 0]),\n",
    "                             shelf_frame, np.array([-0.05, -0.02, target_z-0.15]),\n",
    "                             np.array([0.05, 0.02, target_z+0.08]))\n",
    "    ik.AddAngleBetweenVectorsConstraint(gripper_frame, np.array([1, 0, 0.]),\n",
    "                                        plant.world_frame(),\n",
    "                                        np.array([0, 0, 1]), 0.3 * np.pi,\n",
    "                                        0.7 * np.pi)\n",
    "    ik.AddMinimumDistanceConstraint(0.015)\n",
    "\n",
    "    ik.get_mutable_prog().SetInitialGuess(ik.q(), q_init)\n",
    "    result = mp.Solve(ik.prog(), q_init, None)\n",
    "    if not result.is_success():\n",
    "        raise Warning(\"Cannot find the posture\")\n",
    "    print(result.GetSolution(ik.q()))\n",
    "    return result.GetSolution(ik.q())"
   ]
  },
  {
   "cell_type": "code",
   "execution_count": 13,
   "metadata": {},
   "outputs": [
    {
     "name": "stdout",
     "output_type": "stream",
     "text": [
      "[-0.40617389 -0.27540927 -0.78904839  0.93653257  1.05187696]\n"
     ]
    }
   ],
   "source": [
    "q_middle_initial = np.array([-1.03, -1.43, -0.03, 0.67, 0.57])\n",
    "q_middle_shelf = find_ur_posture_from_xyz(ur.plant, plant_context,\n",
    "                                          q_init=q_middle_initial)\n",
    "ur.plant.SetPositions(plant_context, q_middle_shelf)\n",
    "ur.diagram.ForcedPublish(diagram_context)"
   ]
  },
  {
   "cell_type": "code",
   "execution_count": 14,
   "metadata": {},
   "outputs": [
    {
     "data": {
      "application/vnd.jupyter.widget-view+json": {
       "model_id": "af3cf99e913e4f52828de46592ab9484",
       "version_major": 2,
       "version_minor": 0
      },
      "text/plain": [
       "FloatSlider(value=0.0, description='q0', max=2.827433388230814, min=-2.827433388230814)"
      ]
     },
     "metadata": {},
     "output_type": "display_data"
    },
    {
     "data": {
      "application/vnd.jupyter.widget-view+json": {
       "model_id": "f7f45dbff11c46308e3db60e7ecd33cf",
       "version_major": 2,
       "version_minor": 0
      },
      "text/plain": [
       "FloatSlider(value=0.0, description='q1', max=2.827433388230814, min=-2.827433388230814)"
      ]
     },
     "metadata": {},
     "output_type": "display_data"
    },
    {
     "data": {
      "application/vnd.jupyter.widget-view+json": {
       "model_id": "d1ff688a38234ef7a1dcd09a6b53372b",
       "version_major": 2,
       "version_minor": 0
      },
      "text/plain": [
       "FloatSlider(value=0.0, description='q2', max=2.827433388230814, min=-2.827433388230814)"
      ]
     },
     "metadata": {},
     "output_type": "display_data"
    },
    {
     "data": {
      "application/vnd.jupyter.widget-view+json": {
       "model_id": "7835562381ae413c8abd04ed3493abf2",
       "version_major": 2,
       "version_minor": 0
      },
      "text/plain": [
       "FloatSlider(value=0.0, description='q3', max=2.827433388230814, min=-2.827433388230814)"
      ]
     },
     "metadata": {},
     "output_type": "display_data"
    },
    {
     "data": {
      "application/vnd.jupyter.widget-view+json": {
       "model_id": "eceab091d0324e1bb2f08df195259524",
       "version_major": 2,
       "version_minor": 0
      },
      "text/plain": [
       "FloatSlider(value=0.0, description='q4', max=2.827433388230814, min=-2.827433388230814)"
      ]
     },
     "metadata": {},
     "output_type": "display_data"
    }
   ],
   "source": [
    "idx = 0\n",
    "q = np.zeros(ur.plant.num_positions())\n",
    "def handle_slider_change(change, idx):\n",
    "    q[idx] = change['new']\n",
    "    ur.plant.SetPositions(plant_context, q)\n",
    "    ur.diagram.ForcedPublish(diagram_context)\n",
    "\n",
    "idx = 0\n",
    "for slider in sliders:\n",
    "    slider.observe(partial(handle_slider_change, idx = idx), names='value')\n",
    "    idx+=1\n",
    "    \n",
    "for slider in sliders:\n",
    "    display(slider)"
   ]
  },
  {
   "cell_type": "code",
   "execution_count": 15,
   "metadata": {},
   "outputs": [],
   "source": [
    "# q_top_init = np.array([-0.33, -0.93, -0.53, -1.63, -1.13])\n",
    "q_top_shelf = np.array([-0.63, -1.03, 0.17, -2.33, -0.73])\n",
    "ur.plant.SetPositions(plant_context, q_top_shelf)\n",
    "ur.diagram.ForcedPublish(diagram_context)"
   ]
  },
  {
   "cell_type": "code",
   "execution_count": 16,
   "metadata": {},
   "outputs": [],
   "source": [
    "# q_bottom_init = np.array([0.0, 0.0, 0.0, 0.0, 0.0])\n",
    "# q_bottom_shelf = find_ur_posture_from_xyz(ur.plant, plant_context, \n",
    "#                                           q_init = q_bottom_init,\n",
    "#                                           target_z = -1)\n",
    "q_bottom_shelf = np.array([-0.13, -0.43, 0.87, -0.43, 1.57])\n",
    "ur.plant.SetPositions(plant_context, q_bottom_shelf)\n",
    "ur.diagram.ForcedPublish(diagram_context)"
   ]
  },
  {
   "cell_type": "code",
   "execution_count": 17,
   "metadata": {},
   "outputs": [],
   "source": [
    "seedpoints = [q_top_shelf, \n",
    "              q_middle_shelf, \n",
    "              q_bottom_shelf]"
   ]
  },
  {
   "cell_type": "code",
   "execution_count": 18,
   "metadata": {},
   "outputs": [
    {
     "name": "stdout",
     "output_type": "stream",
     "text": [
      "[-0.04886167 -0.01048494 -0.00161344]\n",
      "[-0.04935663 -0.00576551 -0.00553909]\n",
      "[-0.04958076  0.0064419   0.00049999]\n"
     ]
    }
   ],
   "source": [
    "def pull_back_point(pt):\n",
    "    ur.plant.SetPositions(plant_context, pt)\n",
    "    shunk = ur.plant.GetBodyByName(\"body\", ur.gripper_instances[0])\n",
    "    shunk_frame = shunk.body_frame()\n",
    "    world_frame = ur.plant.world_frame() \n",
    "    J = ur.plant.CalcJacobianSpatialVelocity(plant_context, \n",
    "                                          JacobianWrtVariable.kQDot,\n",
    "                                            shunk_frame,\n",
    "                                            [0,0,0],\n",
    "                                            world_frame,\n",
    "                                         world_frame)\n",
    "\n",
    "#     print(J)\n",
    "    #shunk = plant.get_body(pydrake.multibody.tree.BodyIndex(9))\n",
    "    tf_tot = shunk.EvalPoseInWorld(plant_context)\n",
    "    tf = tf_tot.translation()\n",
    "\n",
    "    # tf_tot= plant.EvalBodyPoseInWorld(plant_context, plant.get_body(pydrake.multibody.tree.BodyIndex(7)))\n",
    "    v_pullback = -tf_tot.GetAsMatrix4()[:3,:3][:,1] *0.05\n",
    "    print(v_pullback)\n",
    "    pos_pullback = tf + v_pullback\n",
    "    pt_new = pt + np.linalg.pinv(J[3:,:])@v_pullback\n",
    "    return pt_new\n",
    "\n",
    "helpers = []\n",
    "for p in seedpoints:\n",
    "    ph = pull_back_point(p)\n",
    "    helpers.append(ph)\n",
    "helpers = np.array(helpers)\n",
    "        \n",
    "# for i, p in enumerate(seedpoints):\n",
    "#     plot_endeff_pose(p, str(i))\n",
    "    \n",
    "seedpoints = np.concatenate((seedpoints, helpers), axis = 0)"
   ]
  },
  {
   "cell_type": "code",
   "execution_count": 19,
   "metadata": {},
   "outputs": [],
   "source": [
    "\n",
    "def plot_points(points, \n",
    "                size = 0.02, \n",
    "                color = Rgba(0.06, 0.0, 0, 1), \n",
    "                start_idx = 0, \n",
    "                prefix = 'point'):\n",
    "       \n",
    "        \n",
    "        for i in range(points.shape[0]):\n",
    "            pt = points[i]\n",
    "            ur.plant.SetPositions(plant_context, pt)\n",
    "            tf_tot= ur.plant.EvalBodyPoseInWorld(plant_context, ur.plant.get_body(BodyIndex(7)))\n",
    "            tf = tf_tot.translation() + tf_tot.GetAsMatrix4()[:3,:3][:,1] *0.25\n",
    "            viz_utils.plot_point(tf, ur.meshcat, f\"/seed_point{i}\", radius = 0.05)"
   ]
  },
  {
   "cell_type": "code",
   "execution_count": 20,
   "metadata": {},
   "outputs": [],
   "source": [
    "plot_points(np.array(seedpoints))"
   ]
  },
  {
   "cell_type": "code",
   "execution_count": null,
   "metadata": {},
   "outputs": [],
   "source": []
  },
  {
   "cell_type": "code",
   "execution_count": 21,
   "metadata": {},
   "outputs": [],
   "source": [
    "#generate function hanldes\n",
    "\n",
    "\n",
    "ik = InverseKinematics(ur.plant, plant_context)\n",
    "collision_constraint = ik.AddMinimumDistanceConstraint(0.001, 0.001)\n",
    "\n",
    "def eval_cons(q, c, tol):\n",
    "    return 1-1*float(c.evaluator().CheckSatisfied(q, tol))\n",
    "    \n",
    "col_func_handle = partial(eval_cons, c=collision_constraint, tol=0.01)\n",
    "\n",
    "\n",
    "#sample based LOS checker\n",
    "def vis(t1, t2, num_checks):\n",
    "    t1flat = t1.reshape(-1)\n",
    "    t2flat = t2.reshape(-1)\n",
    "    if np.linalg.norm(t1-t2) < 1e-6:\n",
    "        return [(1-col_func_handle(Ratfk.ComputeQValue(t1flat, np.zeros(7))))>0,\n",
    "                None]\n",
    "    tvec = np.linspace(0,1, num_checks)\n",
    "    for t in tvec:\n",
    "        tinterp = t1flat*t + (1-t)*t2flat\n",
    "        if col_func_handle(Ratfk.ComputeQValue(tinterp, np.zeros(7))):\n",
    "            return [False, None]\n",
    "    else:\n",
    "        return [True, None]\n",
    "is_LOS = partial(vis, num_checks = 40)\n"
   ]
  },
  {
   "cell_type": "code",
   "execution_count": 22,
   "metadata": {},
   "outputs": [],
   "source": [
    "col_func_handle(np.ones(5))\n",
    "ur.plant.SetPositions(plant_context, np.ones(5))\n",
    "ur.diagram.ForcedPublish(diagram_context)"
   ]
  },
  {
   "cell_type": "code",
   "execution_count": 23,
   "metadata": {},
   "outputs": [],
   "source": [
    "# set up the certifier and the options for different search techniques\n",
    "solver_options = SolverOptions()\n",
    "# set this to 1 if you would like to see the solver output in terminal.\n",
    "solver_options.SetOption(CommonSolverOption.kPrintToConsole, 0)\n",
    "\n",
    "# The options for when we search for new planes and positivity certificates given the polytopes\n",
    "find_separation_certificate_given_polytope_options = CspaceFreePolytope.FindSeparationCertificateGivenPolytopeOptions()\n",
    "find_separation_certificate_given_polytope_options.num_threads = -1\n",
    "find_separation_certificate_given_polytope_options.verbose = False\n",
    "find_separation_certificate_given_polytope_options.solver_options = solver_options\n",
    "find_separation_certificate_given_polytope_options.ignore_redundant_C = False\n",
    "\n",
    "# The options for when we search for a new polytope given positivity certificates.\n",
    "find_polytope_given_lagrangian_option = CspaceFreePolytope.FindPolytopeGivenLagrangianOptions()\n",
    "find_polytope_given_lagrangian_option.solver_options = solver_options\n",
    "find_polytope_given_lagrangian_option.ellipsoid_margin_cost = CspaceFreePolytope.EllipsoidMarginCost.kGeometricMean\n",
    "find_polytope_given_lagrangian_option.search_s_bounds_lagrangians = True\n",
    "find_polytope_given_lagrangian_option.ellipsoid_margin_epsilon = 1e-4\n",
    "\n",
    "\n",
    "bilinear_alternation_options = CspaceFreePolytope.BilinearAlternationOptions()\n",
    "bilinear_alternation_options.max_iter = 10\n",
    "bilinear_alternation_options.convergence_tol = 1e-3\n",
    "bilinear_alternation_options.find_polytope_options = find_polytope_given_lagrangian_option\n",
    "bilinear_alternation_options.find_lagrangian_options = find_separation_certificate_given_polytope_options\n",
    "\n",
    "binary_search_options = CspaceFreePolytope.BinarySearchOptions()\n",
    "binary_search_options.find_lagrangian_options = find_separation_certificate_given_polytope_options\n",
    "binary_search_options.scale_min = 0.5\n",
    "binary_search_options.scale_max = 1.0\n",
    "binary_search_options.max_iter = 5\n"
   ]
  },
  {
   "cell_type": "code",
   "execution_count": 24,
   "metadata": {},
   "outputs": [],
   "source": [
    "iris_regions = []\n",
    "iris_ellipses = []\n",
    "\n",
    "iris_options = IrisOptions()\n",
    "iris_options.require_sample_point_is_contained = True\n",
    "iris_options.configuration_space_margin = 1e-3\n",
    "iris_options.relative_termination_threshold = 0.001\n",
    "\n",
    "# binary_search_options_for_iris = CspaceFreePolytope.BinarySearchOptions()\n",
    "# binary_search_options_for_iris.scale_max = 1.0 # it is highly unlikely that the regions can grow\n",
    "# binary_search_options_for_iris.scale_min = 1e-3\n",
    "# # binary_search_options_for_iris.find_lagrangian_options = find_separation_certificate_given_polytope_options\n",
    "# binary_search_options_for_iris.max_iter = 5\n",
    "# binary_search_options_for_iris.find_lagrangian_options.verbose = False\n",
    "\n",
    "def IrisInRationalConfigurationSpaceV2(q,\n",
    "                                       plant, \n",
    "                                         plant_context,\n",
    "                                         q_star, iris_options,\n",
    "                                    ):\n",
    "    plant.SetPositions(plant_context, q)\n",
    "    return IrisInRationalConfigurationSpace(plant, \n",
    "                                         plant_context,\n",
    "                                         q_star, iris_options)\n",
    "\n",
    "\n",
    "def SNOPT_IRIS(q_seed,  regions, plant, context, snoptiris_options, qstar):\n",
    "    #print('snopt iris call')\n",
    "    snoptiris_options.configuration_obstacles = []\n",
    "    if regions is not None:\n",
    "        obstacles = []\n",
    "        for r in regions:\n",
    "            offset = 0.25*np.min(1/np.linalg.eig(r.MaximumVolumeInscribedEllipsoid().A())[0])\n",
    "            rnew = HPolyhedron(r.A(), r.b()-offset)\n",
    "            obstacles.append(rnew)\n",
    "        snoptiris_options.configuration_obstacles = obstacles\n",
    "    plant.SetPositions(plant.GetMyMutableContextFromRoot(context), q_seed.reshape(-1,1))\n",
    "    t_seed = Ratfk.ComputeSValue(q_seed, q_star)\n",
    "    r = IrisInRationalConfigurationSpace(plant, plant.GetMyContextFromRoot(context), qstar, snoptiris_options)\n",
    "    return r\n",
    "\n",
    "def Ceritified_IRIS(q_seed, regions, plant, context, iris_options, q_star):\n",
    "    iris_options.configuration_obstacles = []\n",
    "    if regions is not None:\n",
    "        obstacles = []\n",
    "        for r in regions:\n",
    "            offset = 0.25*np.min(1/np.linalg.eig(r.MaximumVolumeInscribedEllipsoid().A())[0])\n",
    "            rnew = HPolyhedron(r.A(), r.b()-offset)\n",
    "            obstacles.append(rnew)\n",
    "        snoptiris_options.configuration_obstacles = obstacles\n",
    "        \n",
    "    plant.SetPositions(context, q_seed.reshape(-1,1))\n",
    "    initial_region = IrisInRationalConfigurationSpace(plant, \n",
    "                                         plant_context,\n",
    "                                         q_star, iris_options)\n",
    "    s = Ratfk.ComputeSValue(q_seed, q_star)\n",
    "    cert = cspace_free_polytope.BinarySearch(set(),\n",
    "                                                    initial_region.A(),\n",
    "                                                    initial_region.b(), \n",
    "                                                    s, \n",
    "                                                    binary_search_options)\n",
    "    if cert is not None:\n",
    "        cert_list = cspace_free_polytope.SearchWithBilinearAlternation(set(),\n",
    "                                                                      cert.certified_polytope.A(),\n",
    "                                                                      cert.certified_polytope.b(),\n",
    "                                                                      bilinear_alternation_options)\n",
    "        cert = cert_list[-1]\n",
    "    return cert.certified_polytope if cert is not None else None\n",
    "\n",
    "\n",
    "SNOPT_IRIS_Handle_old = partial(IrisInRationalConfigurationSpaceV2,\n",
    "                            plant = ur.plant,\n",
    "                            plant_context = plant_context,\n",
    "                            q_star = q_star,\n",
    "                            iris_options = iris_options)\n",
    "\n",
    "SNOPT_IRIS_Handle1 = partial(SNOPT_IRIS,\n",
    "                            plant = ur.plant,\n",
    "                            context = diagram_context,\n",
    "                            qstar = q_star,\n",
    "                            snoptiris_options = iris_options)\n",
    "\n",
    "Certified_IRIS_Handle1 = partial(Ceritified_IRIS,\n",
    "                            plant = ur.plant,\n",
    "                            context = plant_context,\n",
    "                            q_star = q_star,\n",
    "                            iris_options = iris_options)\n",
    "\n",
    "# IrisInRationalConfigurationSpace(ur.plant, \n",
    "#                                  plant_context,\n",
    "#                                  q_star, iris_options)"
   ]
  },
  {
   "cell_type": "code",
   "execution_count": null,
   "metadata": {
    "scrolled": true
   },
   "outputs": [],
   "source": []
  },
  {
   "cell_type": "code",
   "execution_count": 25,
   "metadata": {},
   "outputs": [
    {
     "name": "stderr",
     "output_type": "stream",
     "text": [
      "ERROR:drake:CspaceFreePolytope::BinarySearch(): scale_min=0.5 is infeasible.\n"
     ]
    },
    {
     "name": "stdout",
     "output_type": "stream",
     "text": [
      "[18:18:28] [VPRMSeeding] Expecting points of interest in q\n",
      "[18:18:28] [VPRMSeeding] GuardInsertion attempts M: 458\n",
      "[18:18:28] [VPRMSeeding] 0.99 probability that unseen region is less than 1.0 \"%\" of Cfree \n"
     ]
    },
    {
     "name": "stderr",
     "output_type": "stream",
     "text": [
      "ERROR:drake:CspaceFreePolytope::BinarySearch(): scale_min=0.5 is infeasible.\n",
      "INFO:drake:CspaceFreePolytope::BinarySearch(): scale=0.75 is infeasible\n",
      "INFO:drake:CspaceFreePolytope::BinarySearch(): scale=0.625 is infeasible\n",
      "INFO:drake:CspaceFreePolytope::BinarySearch(): scale=0.5625 is feasible\n",
      "INFO:drake:CspaceFreePolytope::BinarySearch(): scale=0.59375 is infeasible\n",
      "INFO:drake:CspaceFreePolytope::BinarySearch(): scale=0.578125 is infeasible\n",
      "INFO:drake:det(Q) at the beginning is 1.6892014034080935e-05\n",
      "INFO:drake:Iteration 0: det(Q)=1.9153378202123344e-05\n",
      "INFO:drake:Iteration 1: det(Q)=2.1816143619573414e-05\n",
      "INFO:drake:Iteration 2: det(Q)=2.4083175800180948e-05\n",
      "INFO:drake:Iteration 3: det(Q)=2.6069703569562013e-05\n",
      "INFO:drake:Iteration 4: det(Q)=2.799853331785444e-05\n",
      "INFO:drake:Iteration 5: det(Q)=2.981971930455745e-05\n",
      "INFO:drake:Iteration 6: det(Q)=3.15527752586941e-05\n",
      "INFO:drake:Iteration 7: det(Q)=3.3183780594746574e-05\n",
      "INFO:drake:Iteration 8: det(Q)=3.472248200414896e-05\n",
      "INFO:drake:Iteration 9: det(Q)=3.6226447371512165e-05\n",
      "ERROR:drake:CspaceFreePolytope::BinarySearch(): scale_min=0.5 is infeasible.\n",
      "ERROR:drake:CspaceFreePolytope::BinarySearch(): scale_min=0.5 is infeasible.\n",
      "INFO:drake:CspaceFreePolytope::BinarySearch(): scale=0.75 is infeasible\n",
      "INFO:drake:CspaceFreePolytope::BinarySearch(): scale=0.625 is feasible\n",
      "INFO:drake:CspaceFreePolytope::BinarySearch(): scale=0.6875 is infeasible\n",
      "INFO:drake:CspaceFreePolytope::BinarySearch(): scale=0.65625 is feasible\n",
      "INFO:drake:CspaceFreePolytope::BinarySearch(): scale=0.671875 is feasible\n",
      "INFO:drake:det(Q) at the beginning is 2.1067745826200702e-05\n",
      "INFO:drake:Iteration 0: det(Q)=2.3450040590896808e-05\n",
      "INFO:drake:Iteration 1: det(Q)=2.6103125715773123e-05\n",
      "INFO:drake:Iteration 2: det(Q)=2.8870772881566892e-05\n",
      "INFO:drake:Iteration 3: det(Q)=3.184069494021349e-05\n",
      "INFO:drake:Iteration 4: det(Q)=3.515759666722292e-05\n",
      "INFO:drake:Iteration 5: det(Q)=3.879491820828656e-05\n",
      "INFO:drake:Iteration 6: det(Q)=4.276551334205621e-05\n",
      "INFO:drake:Iteration 7: det(Q)=4.6855243547429604e-05\n",
      "INFO:drake:Iteration 8: det(Q)=5.1206543090145233e-05\n",
      "INFO:drake:Iteration 9: det(Q)=5.544611955318227e-05\n"
     ]
    }
   ],
   "source": [
    "\n",
    "vs = VPRMSeeding(seedpoints,\n",
    "                 alpha = 0.01,\n",
    "                 eps = 0.01,\n",
    "                 limits = [ur.plant.GetPositionLowerLimits(), \n",
    "                           ur.plant.GetPositionUpperLimits()],\n",
    "                 collision_handle = col_func_handle,\n",
    "                 is_in_line_of_sight = is_LOS, \n",
    "                 iris_handle=partial(Certified_IRIS_Handle1, regions = None),\n",
    "                 iris_handle_with_obstacles = Certified_IRIS_Handle1,\n",
    "                 point_to_region_conversion = partial(Ratfk.ComputeSValue, q_star_val = q_star),\n",
    "                 #ranking_samples_handle = sample_ranking_connected_components_weight\n",
    "                 )\n",
    "vs.set_guard_regions()"
   ]
  },
  {
   "cell_type": "code",
   "execution_count": 26,
   "metadata": {},
   "outputs": [
    {
     "name": "stderr",
     "output_type": "stream",
     "text": [
      "No traceback available to show.\n"
     ]
    }
   ],
   "source": [
    "%tb"
   ]
  },
  {
   "cell_type": "code",
   "execution_count": null,
   "metadata": {},
   "outputs": [
    {
     "name": "stderr",
     "output_type": "stream",
     "text": [
      "ERROR:drake:CspaceFreePolytope::BinarySearch(): scale_min=0.5 is infeasible.\n",
      "ERROR:drake:CspaceFreePolytope::BinarySearch(): scale_min=0.5 is infeasible.\n"
     ]
    },
    {
     "name": "stdout",
     "output_type": "stream",
     "text": [
      "[19:14:47] [VPRMSeeding] New guard placed N =  2 it =  0\n",
      "[19:16:04] [VPRMSeeding] New guard placed N =  2 it =  3\n"
     ]
    },
    {
     "name": "stderr",
     "output_type": "stream",
     "text": [
      "ERROR:drake:CspaceFreePolytope::BinarySearch(): scale_min=0.5 is infeasible.\n",
      "ERROR:drake:CspaceFreePolytope::BinarySearch(): scale_min=0.5 is infeasible.\n"
     ]
    },
    {
     "name": "stdout",
     "output_type": "stream",
     "text": [
      "[19:17:07] [VPRMSeeding] New guard placed N =  2 it =  4\n",
      "[19:18:40] [VPRMSeeding] New guard placed N =  2 it =  6\n",
      "[19:19:31] [VPRMSeeding] New guard placed N =  2 it =  8\n"
     ]
    },
    {
     "name": "stderr",
     "output_type": "stream",
     "text": [
      "ERROR:drake:CspaceFreePolytope::BinarySearch(): scale_min=0.5 is infeasible.\n",
      "INFO:drake:CspaceFreePolytope::BinarySearch(): scale=0.75 is infeasible\n",
      "INFO:drake:CspaceFreePolytope::BinarySearch(): scale=0.625 is infeasible\n"
     ]
    },
    {
     "name": "stdout",
     "output_type": "stream",
     "text": [
      "[19:19:59] [VPRMSeeding] New guard placed N =  2 it =  10\n"
     ]
    },
    {
     "name": "stderr",
     "output_type": "stream",
     "text": [
      "INFO:drake:CspaceFreePolytope::BinarySearch(): scale=0.5625 is infeasible\n",
      "INFO:drake:CspaceFreePolytope::BinarySearch(): scale=0.53125 is feasible\n",
      "INFO:drake:CspaceFreePolytope::BinarySearch(): scale=0.546875 is feasible\n",
      "INFO:drake:det(Q) at the beginning is 0.29496100738400394\n",
      "INFO:drake:Iteration 0: det(Q)=0.45260121841086537\n",
      "INFO:drake:Iteration 1: det(Q)=0.6788542570211615\n",
      "INFO:drake:Iteration 2: det(Q)=1.1847035387128346\n",
      "INFO:drake:Iteration 3: det(Q)=1.8953756850471977\n",
      "INFO:drake:Iteration 4: det(Q)=2.6241390780324396\n",
      "INFO:drake:Iteration 5: det(Q)=3.503302172572322\n",
      "INFO:drake:Iteration 6: det(Q)=4.733913590695419\n",
      "INFO:drake:Iteration 7: det(Q)=6.564549283545205\n",
      "INFO:drake:Iteration 8: det(Q)=7.78351680971316\n",
      "INFO:drake:Iteration 9: det(Q)=8.95832120168738\n",
      "ERROR:drake:CspaceFreePolytope::BinarySearch(): scale_min=0.5 is infeasible.\n",
      "ERROR:drake:CspaceFreePolytope::BinarySearch(): scale_min=0.5 is infeasible.\n"
     ]
    },
    {
     "name": "stdout",
     "output_type": "stream",
     "text": [
      "[19:41:57] [VPRMSeeding] Sample set size 5\n",
      "[19:41:57] [VPRMSeeding] New guard placed N =  3 it =  2\n",
      "[19:43:44] [VPRMSeeding] New guard placed N =  3 it =  5\n"
     ]
    },
    {
     "name": "stderr",
     "output_type": "stream",
     "text": [
      "ERROR:drake:CspaceFreePolytope::BinarySearch(): scale_min=0.5 is infeasible.\n",
      "ERROR:drake:CspaceFreePolytope::BinarySearch(): scale_min=0.5 is infeasible.\n"
     ]
    },
    {
     "name": "stdout",
     "output_type": "stream",
     "text": [
      "[19:45:07] [VPRMSeeding] New guard placed N =  3 it =  6\n",
      "[19:45:53] [VPRMSeeding] New guard placed N =  3 it =  7\n",
      "[19:46:54] [VPRMSeeding] New guard placed N =  3 it =  8\n"
     ]
    },
    {
     "name": "stderr",
     "output_type": "stream",
     "text": [
      "ERROR:drake:CspaceFreePolytope::BinarySearch(): scale_min=0.5 is infeasible.\n",
      "ERROR:drake:CspaceFreePolytope::BinarySearch(): scale_min=0.5 is infeasible.\n",
      "ERROR:drake:CspaceFreePolytope::BinarySearch(): scale_min=0.5 is infeasible.\n"
     ]
    },
    {
     "name": "stdout",
     "output_type": "stream",
     "text": [
      "[19:47:46] [VPRMSeeding] New guard placed N =  3 it =  10\n",
      "[19:48:48] [VPRMSeeding] New guard placed N =  3 it =  11\n"
     ]
    },
    {
     "name": "stderr",
     "output_type": "stream",
     "text": [
      "ERROR:drake:CspaceFreePolytope::BinarySearch(): scale_min=0.5 is infeasible.\n",
      "ERROR:drake:CspaceFreePolytope::BinarySearch(): scale_min=0.5 is infeasible.\n",
      "ERROR:drake:CspaceFreePolytope::BinarySearch(): scale_min=0.5 is infeasible.\n"
     ]
    },
    {
     "name": "stdout",
     "output_type": "stream",
     "text": [
      "[19:49:25] [VPRMSeeding] New guard placed N =  3 it =  13\n",
      "[19:49:39] [VPRMSeeding] New guard placed N =  3 it =  15\n",
      "[19:51:14] [VPRMSeeding] New guard placed N =  3 it =  22\n"
     ]
    },
    {
     "name": "stderr",
     "output_type": "stream",
     "text": [
      "ERROR:drake:CspaceFreePolytope::BinarySearch(): scale_min=0.5 is infeasible.\n",
      "ERROR:drake:CspaceFreePolytope::BinarySearch(): scale_min=0.5 is infeasible.\n",
      "ERROR:drake:CspaceFreePolytope::BinarySearch(): scale_min=0.5 is infeasible.\n"
     ]
    },
    {
     "name": "stdout",
     "output_type": "stream",
     "text": [
      "[19:51:59] [VPRMSeeding] New guard placed N =  3 it =  23\n",
      "[19:52:49] [VPRMSeeding] New guard placed N =  3 it =  24\n",
      "[19:54:10] [VPRMSeeding] New guard placed N =  3 it =  27\n"
     ]
    },
    {
     "name": "stderr",
     "output_type": "stream",
     "text": [
      "ERROR:drake:CspaceFreePolytope::BinarySearch(): scale_min=0.5 is infeasible.\n",
      "ERROR:drake:CspaceFreePolytope::BinarySearch(): scale_min=0.5 is infeasible.\n"
     ]
    },
    {
     "name": "stdout",
     "output_type": "stream",
     "text": [
      "[19:55:29] [VPRMSeeding] New guard placed N =  3 it =  29\n",
      "[19:56:23] [VPRMSeeding] New guard placed N =  3 it =  31\n",
      "[19:57:51] [VPRMSeeding] New guard placed N =  3 it =  32\n"
     ]
    },
    {
     "name": "stderr",
     "output_type": "stream",
     "text": [
      "ERROR:drake:CspaceFreePolytope::BinarySearch(): scale_min=0.5 is infeasible.\n",
      "ERROR:drake:CspaceFreePolytope::BinarySearch(): scale_min=0.5 is infeasible.\n",
      "ERROR:drake:CspaceFreePolytope::BinarySearch(): scale_min=0.5 is infeasible.\n"
     ]
    },
    {
     "name": "stdout",
     "output_type": "stream",
     "text": [
      "[19:58:37] [VPRMSeeding] New guard placed N =  3 it =  33\n",
      "[19:59:00] [VPRMSeeding] New guard placed N =  3 it =  34\n"
     ]
    },
    {
     "name": "stderr",
     "output_type": "stream",
     "text": [
      "ERROR:drake:CspaceFreePolytope::BinarySearch(): scale_min=0.5 is infeasible.\n",
      "ERROR:drake:CspaceFreePolytope::BinarySearch(): scale_min=0.5 is infeasible.\n"
     ]
    },
    {
     "name": "stdout",
     "output_type": "stream",
     "text": [
      "[19:59:37] [VPRMSeeding] New guard placed N =  3 it =  35\n",
      "[20:00:12] [VPRMSeeding] New guard placed N =  3 it =  37\n",
      "[20:01:44] [VPRMSeeding] New guard placed N =  3 it =  42\n"
     ]
    },
    {
     "name": "stderr",
     "output_type": "stream",
     "text": [
      "ERROR:drake:CspaceFreePolytope::BinarySearch(): scale_min=0.5 is infeasible.\n",
      "ERROR:drake:CspaceFreePolytope::BinarySearch(): scale_min=0.5 is infeasible.\n",
      "INFO:drake:CspaceFreePolytope::BinarySearch(): scale=0.75 is infeasible\n"
     ]
    },
    {
     "name": "stdout",
     "output_type": "stream",
     "text": [
      "[20:02:10] [VPRMSeeding] New guard placed N =  3 it =  45\n",
      "[20:02:25] [VPRMSeeding] New guard placed N =  3 it =  46\n"
     ]
    },
    {
     "name": "stderr",
     "output_type": "stream",
     "text": [
      "INFO:drake:CspaceFreePolytope::BinarySearch(): scale=0.625 is infeasible\n",
      "INFO:drake:CspaceFreePolytope::BinarySearch(): scale=0.5625 is infeasible\n",
      "INFO:drake:CspaceFreePolytope::BinarySearch(): scale=0.53125 is infeasible\n",
      "INFO:drake:CspaceFreePolytope::BinarySearch(): scale=0.515625 is feasible\n",
      "INFO:drake:det(Q) at the beginning is 0.5443140621257941\n",
      "INFO:drake:Iteration 0: det(Q)=0.6853618659655286\n",
      "INFO:drake:Iteration 1: det(Q)=0.8308167127848198\n",
      "INFO:drake:Iteration 2: det(Q)=0.963445281836708\n",
      "INFO:drake:Iteration 3: det(Q)=1.0999638767468112\n",
      "INFO:drake:Iteration 4: det(Q)=1.2422656834338288\n",
      "INFO:drake:Iteration 5: det(Q)=1.388960824053504\n",
      "INFO:drake:Iteration 6: det(Q)=1.5481463838673737\n",
      "INFO:drake:Iteration 7: det(Q)=1.7166503929457388\n",
      "INFO:drake:Iteration 8: det(Q)=1.886749411518134\n",
      "INFO:drake:Iteration 9: det(Q)=2.058964258808775\n",
      "ERROR:drake:CspaceFreePolytope::BinarySearch(): scale_min=0.5 is infeasible.\n",
      "ERROR:drake:CspaceFreePolytope::BinarySearch(): scale_min=0.5 is infeasible.\n"
     ]
    },
    {
     "name": "stdout",
     "output_type": "stream",
     "text": [
      "[20:36:11] [VPRMSeeding] Sample set size 28\n",
      "[20:36:11] [VPRMSeeding] New guard placed N =  4 it =  5\n",
      "[20:36:38] [VPRMSeeding] New guard placed N =  4 it =  6\n"
     ]
    },
    {
     "name": "stderr",
     "output_type": "stream",
     "text": [
      "ERROR:drake:CspaceFreePolytope::BinarySearch(): scale_min=0.5 is infeasible.\n",
      "ERROR:drake:CspaceFreePolytope::BinarySearch(): scale_min=0.5 is infeasible.\n",
      "ERROR:drake:CspaceFreePolytope::BinarySearch(): scale_min=0.5 is infeasible.\n"
     ]
    },
    {
     "name": "stdout",
     "output_type": "stream",
     "text": [
      "[20:37:15] [VPRMSeeding] New guard placed N =  4 it =  7\n",
      "[20:38:20] [VPRMSeeding] New guard placed N =  4 it =  22\n",
      "[20:39:22] [VPRMSeeding] New guard placed N =  4 it =  27\n"
     ]
    },
    {
     "name": "stderr",
     "output_type": "stream",
     "text": [
      "ERROR:drake:CspaceFreePolytope::BinarySearch(): scale_min=0.5 is infeasible.\n",
      "ERROR:drake:CspaceFreePolytope::BinarySearch(): scale_min=0.5 is infeasible.\n"
     ]
    },
    {
     "name": "stdout",
     "output_type": "stream",
     "text": [
      "[20:39:55] [VPRMSeeding] New guard placed N =  4 it =  28\n",
      "[20:41:07] [VPRMSeeding] New guard placed N =  4 it =  34\n",
      "[20:41:36] [VPRMSeeding] New guard placed N =  4 it =  39\n"
     ]
    },
    {
     "name": "stderr",
     "output_type": "stream",
     "text": [
      "ERROR:drake:CspaceFreePolytope::BinarySearch(): scale_min=0.5 is infeasible.\n",
      "ERROR:drake:CspaceFreePolytope::BinarySearch(): scale_min=0.5 is infeasible.\n"
     ]
    },
    {
     "name": "stdout",
     "output_type": "stream",
     "text": [
      "[20:42:10] [VPRMSeeding] New guard placed N =  4 it =  40\n",
      "[20:42:53] [VPRMSeeding] New guard placed N =  4 it =  41\n"
     ]
    },
    {
     "name": "stderr",
     "output_type": "stream",
     "text": [
      "ERROR:drake:CspaceFreePolytope::BinarySearch(): scale_min=0.5 is infeasible.\n",
      "ERROR:drake:CspaceFreePolytope::BinarySearch(): scale_min=0.5 is infeasible.\n",
      "ERROR:drake:CspaceFreePolytope::BinarySearch(): scale_min=0.5 is infeasible.\n"
     ]
    },
    {
     "name": "stdout",
     "output_type": "stream",
     "text": [
      "[20:43:26] [VPRMSeeding] New guard placed N =  4 it =  45\n",
      "[20:44:06] [VPRMSeeding] New guard placed N =  4 it =  47\n"
     ]
    },
    {
     "name": "stderr",
     "output_type": "stream",
     "text": [
      "ERROR:drake:CspaceFreePolytope::BinarySearch(): scale_min=0.5 is infeasible.\n"
     ]
    },
    {
     "name": "stdout",
     "output_type": "stream",
     "text": [
      "[20:44:57] [VPRMSeeding] New guard placed N =  4 it =  50\n",
      "[20:46:00] [VPRMSeeding] New guard placed N =  4 it =  56\n"
     ]
    },
    {
     "name": "stderr",
     "output_type": "stream",
     "text": [
      "ERROR:drake:CspaceFreePolytope::BinarySearch(): scale_min=0.5 is infeasible.\n",
      "ERROR:drake:CspaceFreePolytope::BinarySearch(): scale_min=0.5 is infeasible.\n"
     ]
    },
    {
     "name": "stdout",
     "output_type": "stream",
     "text": [
      "[20:47:23] [VPRMSeeding] New guard placed N =  4 it =  58\n",
      "[20:48:05] [VPRMSeeding] New guard placed N =  4 it =  59\n"
     ]
    },
    {
     "name": "stderr",
     "output_type": "stream",
     "text": [
      "ERROR:drake:CspaceFreePolytope::BinarySearch(): scale_min=0.5 is infeasible.\n",
      "ERROR:drake:CspaceFreePolytope::BinarySearch(): scale_min=0.5 is infeasible.\n",
      "INFO:drake:CspaceFreePolytope::BinarySearch(): scale=0.75 is feasible\n"
     ]
    },
    {
     "name": "stdout",
     "output_type": "stream",
     "text": [
      "[20:48:50] [VPRMSeeding] New guard placed N =  4 it =  63\n",
      "[20:50:46] [VPRMSeeding] New guard placed N =  4 it =  65\n"
     ]
    },
    {
     "name": "stderr",
     "output_type": "stream",
     "text": [
      "INFO:drake:CspaceFreePolytope::BinarySearch(): scale=0.875 is feasible\n",
      "INFO:drake:CspaceFreePolytope::BinarySearch(): scale=0.9375 is infeasible\n",
      "INFO:drake:CspaceFreePolytope::BinarySearch(): scale=0.90625 is infeasible\n",
      "INFO:drake:CspaceFreePolytope::BinarySearch(): scale=0.890625 is feasible\n",
      "INFO:drake:det(Q) at the beginning is 3.3566122103250386e-05\n",
      "INFO:drake:Iteration 0: det(Q)=3.571325385515143e-05\n",
      "INFO:drake:Iteration 1: det(Q)=3.683157456160819e-05\n",
      "INFO:drake:Iteration 2: det(Q)=3.8057010699426674e-05\n",
      "INFO:drake:Iteration 3: det(Q)=3.923473827515948e-05\n",
      "INFO:drake:Iteration 4: det(Q)=4.041201181219313e-05\n",
      "INFO:drake:Iteration 5: det(Q)=4.16124648775464e-05\n",
      "INFO:drake:Iteration 6: det(Q)=4.286944132821831e-05\n",
      "INFO:drake:Iteration 7: det(Q)=4.413304053013045e-05\n",
      "INFO:drake:Iteration 8: det(Q)=4.541323167199175e-05\n",
      "INFO:drake:Iteration 9: det(Q)=4.671063860996457e-05\n",
      "ERROR:drake:CspaceFreePolytope::BinarySearch(): scale_min=0.5 is infeasible.\n"
     ]
    },
    {
     "name": "stdout",
     "output_type": "stream",
     "text": [
      "[21:17:39] [VPRMSeeding] Sample set size 75\n",
      "[21:17:39] [VPRMSeeding] New guard placed N =  5 it =  10\n",
      "[21:18:48] [VPRMSeeding] New guard placed N =  5 it =  14\n"
     ]
    },
    {
     "name": "stderr",
     "output_type": "stream",
     "text": [
      "ERROR:drake:CspaceFreePolytope::BinarySearch(): scale_min=0.5 is infeasible.\n",
      "ERROR:drake:CspaceFreePolytope::BinarySearch(): scale_min=0.5 is infeasible.\n",
      "ERROR:drake:CspaceFreePolytope::BinarySearch(): scale_min=0.5 is infeasible.\n"
     ]
    },
    {
     "name": "stdout",
     "output_type": "stream",
     "text": [
      "[21:20:37] [VPRMSeeding] New guard placed N =  5 it =  15\n",
      "[21:21:02] [VPRMSeeding] New guard placed N =  5 it =  19\n"
     ]
    },
    {
     "name": "stderr",
     "output_type": "stream",
     "text": [
      "ERROR:drake:CspaceFreePolytope::BinarySearch(): scale_min=0.5 is infeasible.\n",
      "ERROR:drake:CspaceFreePolytope::BinarySearch(): scale_min=0.5 is infeasible.\n"
     ]
    },
    {
     "name": "stdout",
     "output_type": "stream",
     "text": [
      "[21:21:54] [VPRMSeeding] New guard placed N =  5 it =  25\n",
      "[21:23:06] [VPRMSeeding] New guard placed N =  5 it =  28\n"
     ]
    },
    {
     "name": "stderr",
     "output_type": "stream",
     "text": [
      "ERROR:drake:CspaceFreePolytope::BinarySearch(): scale_min=0.5 is infeasible.\n",
      "INFO:drake:CspaceFreePolytope::BinarySearch(): scale=0.75 is infeasible\n"
     ]
    },
    {
     "name": "stdout",
     "output_type": "stream",
     "text": [
      "[21:23:51] [VPRMSeeding] New guard placed N =  5 it =  31\n",
      "[21:24:12] [VPRMSeeding] New guard placed N =  5 it =  40\n"
     ]
    },
    {
     "name": "stderr",
     "output_type": "stream",
     "text": [
      "INFO:drake:CspaceFreePolytope::BinarySearch(): scale=0.625 is feasible\n",
      "INFO:drake:CspaceFreePolytope::BinarySearch(): scale=0.6875 is infeasible\n",
      "INFO:drake:CspaceFreePolytope::BinarySearch(): scale=0.65625 is infeasible\n",
      "INFO:drake:CspaceFreePolytope::BinarySearch(): scale=0.640625 is infeasible\n",
      "INFO:drake:det(Q) at the beginning is 1.2354036406310458\n",
      "INFO:drake:Iteration 0: det(Q)=1.8407320671759955\n",
      "INFO:drake:Iteration 1: det(Q)=2.752002019575749\n",
      "INFO:drake:Iteration 2: det(Q)=4.098986802198376\n",
      "INFO:drake:Iteration 3: det(Q)=6.0026672119411355\n",
      "INFO:drake:Iteration 4: det(Q)=8.81563281949008\n",
      "INFO:drake:Iteration 5: det(Q)=10.40693132411491\n",
      "INFO:drake:Iteration 6: det(Q)=12.483301334424514\n",
      "INFO:drake:Iteration 7: det(Q)=14.73001561637451\n",
      "INFO:drake:Iteration 8: det(Q)=17.57157606788876\n",
      "INFO:drake:Iteration 9: det(Q)=20.548217316464527\n",
      "ERROR:drake:CspaceFreePolytope::BinarySearch(): scale_min=0.5 is infeasible.\n",
      "ERROR:drake:CspaceFreePolytope::BinarySearch(): scale_min=0.5 is infeasible.\n"
     ]
    },
    {
     "name": "stdout",
     "output_type": "stream",
     "text": [
      "[21:45:58] [VPRMSeeding] Sample set size 107\n",
      "[21:45:58] [VPRMSeeding] New guard placed N =  6 it =  2\n",
      "[21:46:48] [VPRMSeeding] New guard placed N =  6 it =  3\n"
     ]
    },
    {
     "name": "stderr",
     "output_type": "stream",
     "text": [
      "ERROR:drake:CspaceFreePolytope::BinarySearch(): scale_min=0.5 is infeasible.\n",
      "ERROR:drake:CspaceFreePolytope::BinarySearch(): scale_min=0.5 is infeasible.\n"
     ]
    },
    {
     "name": "stdout",
     "output_type": "stream",
     "text": [
      "[21:47:37] [VPRMSeeding] New guard placed N =  6 it =  5\n",
      "[21:48:49] [VPRMSeeding] New guard placed N =  6 it =  12\n"
     ]
    },
    {
     "name": "stderr",
     "output_type": "stream",
     "text": [
      "INFO:drake:CspaceFreePolytope::BinarySearch(): scale=0.75 is infeasible\n",
      "INFO:drake:CspaceFreePolytope::BinarySearch(): scale=0.625 is feasible\n",
      "INFO:drake:CspaceFreePolytope::BinarySearch(): scale=0.6875 is infeasible\n",
      "INFO:drake:CspaceFreePolytope::BinarySearch(): scale=0.65625 is infeasible\n",
      "INFO:drake:CspaceFreePolytope::BinarySearch(): scale=0.640625 is feasible\n",
      "INFO:drake:det(Q) at the beginning is 0.279674240876364\n",
      "INFO:drake:Iteration 0: det(Q)=0.2873283582005134\n",
      "INFO:drake:Iteration 1: det(Q)=0.2972113152668152\n",
      "INFO:drake:Iteration 2: det(Q)=0.307590027784237\n",
      "INFO:drake:Iteration 3: det(Q)=0.3166560139545568\n",
      "INFO:drake:Iteration 4: det(Q)=0.3247790648902642\n",
      "INFO:drake:Iteration 5: det(Q)=0.33190165887520173\n",
      "INFO:drake:Iteration 6: det(Q)=0.34000314484130184\n",
      "INFO:drake:Iteration 7: det(Q)=0.34704631511951173\n",
      "INFO:drake:Iteration 8: det(Q)=0.35438627737932654\n",
      "INFO:drake:Iteration 9: det(Q)=0.360853808728553\n",
      "ERROR:drake:CspaceFreePolytope::BinarySearch(): scale_min=0.5 is infeasible.\n"
     ]
    },
    {
     "name": "stdout",
     "output_type": "stream",
     "text": [
      "[21:49:31] [VPRMSeeding] New guard placed N =  6 it =  13\n",
      "[22:22:29] [VPRMSeeding] Sample set size 115\n",
      "[22:22:29] [VPRMSeeding] New guard placed N =  7 it =  3\n",
      "[22:23:22] [VPRMSeeding] New guard placed N =  7 it =  4\n"
     ]
    },
    {
     "name": "stderr",
     "output_type": "stream",
     "text": [
      "ERROR:drake:CspaceFreePolytope::BinarySearch(): scale_min=0.5 is infeasible.\n",
      "INFO:drake:CspaceFreePolytope::BinarySearch(): scale=0.75 is infeasible\n",
      "INFO:drake:CspaceFreePolytope::BinarySearch(): scale=0.625 is infeasible\n"
     ]
    },
    {
     "name": "stdout",
     "output_type": "stream",
     "text": [
      "[22:23:45] [VPRMSeeding] New guard placed N =  7 it =  8\n"
     ]
    },
    {
     "name": "stderr",
     "output_type": "stream",
     "text": [
      "INFO:drake:CspaceFreePolytope::BinarySearch(): scale=0.5625 is infeasible\n",
      "INFO:drake:CspaceFreePolytope::BinarySearch(): scale=0.53125 is infeasible\n",
      "INFO:drake:CspaceFreePolytope::BinarySearch(): scale=0.515625 is infeasible\n",
      "INFO:drake:det(Q) at the beginning is 0.08430625904540287\n",
      "INFO:drake:Iteration 0: det(Q)=0.09829900648167608\n",
      "INFO:drake:Iteration 1: det(Q)=0.11453827774969695\n",
      "INFO:drake:Iteration 2: det(Q)=0.13287056886998935\n",
      "INFO:drake:Iteration 3: det(Q)=0.15359403941013425\n",
      "INFO:drake:Iteration 4: det(Q)=0.1758591005879688\n",
      "INFO:drake:Iteration 5: det(Q)=0.20034610567889158\n",
      "INFO:drake:Iteration 6: det(Q)=0.22728200376843685\n",
      "INFO:drake:Iteration 7: det(Q)=0.2565400957489689\n",
      "INFO:drake:Iteration 8: det(Q)=0.2873312795344287\n",
      "INFO:drake:Iteration 9: det(Q)=0.32013106559219096\n",
      "ERROR:drake:CspaceFreePolytope::BinarySearch(): scale_min=0.5 is infeasible.\n",
      "ERROR:drake:CspaceFreePolytope::BinarySearch(): scale_min=0.5 is infeasible.\n"
     ]
    },
    {
     "name": "stdout",
     "output_type": "stream",
     "text": [
      "[23:04:28] [VPRMSeeding] Sample set size 120\n",
      "[23:04:28] [VPRMSeeding] New guard placed N =  8 it =  7\n",
      "[23:05:04] [VPRMSeeding] New guard placed N =  8 it =  19\n"
     ]
    },
    {
     "name": "stderr",
     "output_type": "stream",
     "text": [
      "ERROR:drake:CspaceFreePolytope::BinarySearch(): scale_min=0.5 is infeasible.\n",
      "ERROR:drake:CspaceFreePolytope::BinarySearch(): scale_min=0.5 is infeasible.\n"
     ]
    },
    {
     "name": "stdout",
     "output_type": "stream",
     "text": [
      "[23:05:42] [VPRMSeeding] New guard placed N =  8 it =  27\n",
      "[23:06:27] [VPRMSeeding] New guard placed N =  8 it =  35\n"
     ]
    },
    {
     "name": "stderr",
     "output_type": "stream",
     "text": [
      "ERROR:drake:CspaceFreePolytope::BinarySearch(): scale_min=0.5 is infeasible.\n"
     ]
    },
    {
     "name": "stdout",
     "output_type": "stream",
     "text": [
      "[23:06:54] [VPRMSeeding] New guard placed N =  8 it =  42\n",
      "[23:07:24] [VPRMSeeding] New guard placed N =  8 it =  45\n"
     ]
    },
    {
     "name": "stderr",
     "output_type": "stream",
     "text": [
      "ERROR:drake:CspaceFreePolytope::BinarySearch(): scale_min=0.5 is infeasible.\n",
      "ERROR:drake:CspaceFreePolytope::BinarySearch(): scale_min=0.5 is infeasible.\n",
      "ERROR:drake:CspaceFreePolytope::BinarySearch(): scale_min=0.5 is infeasible.\n"
     ]
    },
    {
     "name": "stdout",
     "output_type": "stream",
     "text": [
      "[23:07:58] [VPRMSeeding] New guard placed N =  8 it =  54\n",
      "[23:08:45] [VPRMSeeding] New guard placed N =  8 it =  55\n"
     ]
    },
    {
     "name": "stderr",
     "output_type": "stream",
     "text": [
      "ERROR:drake:CspaceFreePolytope::BinarySearch(): scale_min=0.5 is infeasible.\n"
     ]
    },
    {
     "name": "stdout",
     "output_type": "stream",
     "text": [
      "[23:09:40] [VPRMSeeding] New guard placed N =  8 it =  64\n",
      "[23:10:36] [VPRMSeeding] New guard placed N =  8 it =  65\n"
     ]
    },
    {
     "name": "stderr",
     "output_type": "stream",
     "text": [
      "ERROR:drake:CspaceFreePolytope::BinarySearch(): scale_min=0.5 is infeasible.\n",
      "ERROR:drake:CspaceFreePolytope::BinarySearch(): scale_min=0.5 is infeasible.\n",
      "ERROR:drake:CspaceFreePolytope::BinarySearch(): scale_min=0.5 is infeasible.\n"
     ]
    },
    {
     "name": "stdout",
     "output_type": "stream",
     "text": [
      "[23:11:55] [VPRMSeeding] New guard placed N =  8 it =  70\n",
      "[23:13:23] [VPRMSeeding] New guard placed N =  8 it =  71\n"
     ]
    },
    {
     "name": "stderr",
     "output_type": "stream",
     "text": [
      "ERROR:drake:CspaceFreePolytope::BinarySearch(): scale_min=0.5 is infeasible.\n",
      "ERROR:drake:CspaceFreePolytope::BinarySearch(): scale_min=0.5 is infeasible.\n",
      "ERROR:drake:CspaceFreePolytope::BinarySearch(): scale_min=0.5 is infeasible.\n"
     ]
    },
    {
     "name": "stdout",
     "output_type": "stream",
     "text": [
      "[23:13:50] [VPRMSeeding] New guard placed N =  8 it =  72\n",
      "[23:14:13] [VPRMSeeding] New guard placed N =  8 it =  84\n",
      "[23:14:56] [VPRMSeeding] New guard placed N =  8 it =  86\n"
     ]
    },
    {
     "name": "stderr",
     "output_type": "stream",
     "text": [
      "ERROR:drake:CspaceFreePolytope::BinarySearch(): scale_min=0.5 is infeasible.\n",
      "ERROR:drake:CspaceFreePolytope::BinarySearch(): scale_min=0.5 is infeasible.\n"
     ]
    },
    {
     "name": "stdout",
     "output_type": "stream",
     "text": [
      "[23:15:39] [VPRMSeeding] New guard placed N =  8 it =  92\n",
      "[23:15:56] [VPRMSeeding] New guard placed N =  8 it =  95\n"
     ]
    },
    {
     "name": "stderr",
     "output_type": "stream",
     "text": [
      "ERROR:drake:CspaceFreePolytope::BinarySearch(): scale_min=0.5 is infeasible.\n",
      "ERROR:drake:CspaceFreePolytope::BinarySearch(): scale_min=0.5 is infeasible.\n"
     ]
    },
    {
     "name": "stdout",
     "output_type": "stream",
     "text": [
      "[23:16:53] [VPRMSeeding] New guard placed N =  8 it =  101\n",
      "[23:17:06] [VPRMSeeding] New guard placed N =  8 it =  115\n"
     ]
    },
    {
     "name": "stderr",
     "output_type": "stream",
     "text": [
      "ERROR:drake:CspaceFreePolytope::BinarySearch(): scale_min=0.5 is infeasible.\n"
     ]
    },
    {
     "name": "stdout",
     "output_type": "stream",
     "text": [
      "[23:18:24] [VPRMSeeding] New guard placed N =  8 it =  119\n",
      "[23:19:10] [VPRMSeeding] New guard placed N =  8 it =  120\n"
     ]
    },
    {
     "name": "stderr",
     "output_type": "stream",
     "text": [
      "ERROR:drake:CspaceFreePolytope::BinarySearch(): scale_min=0.5 is infeasible.\n",
      "INFO:drake:CspaceFreePolytope::BinarySearch(): scale=0.75 is infeasible\n",
      "INFO:drake:CspaceFreePolytope::BinarySearch(): scale=0.625 is feasible\n",
      "INFO:drake:CspaceFreePolytope::BinarySearch(): scale=0.6875 is infeasible\n"
     ]
    },
    {
     "name": "stdout",
     "output_type": "stream",
     "text": [
      "[23:19:36] [VPRMSeeding] New guard placed N =  8 it =  124\n"
     ]
    },
    {
     "name": "stderr",
     "output_type": "stream",
     "text": [
      "INFO:drake:CspaceFreePolytope::BinarySearch(): scale=0.65625 is infeasible\n",
      "INFO:drake:CspaceFreePolytope::BinarySearch(): scale=0.640625 is feasible\n",
      "INFO:drake:det(Q) at the beginning is 0.06091922847348831\n",
      "INFO:drake:Iteration 0: det(Q)=0.07284738751151912\n",
      "INFO:drake:Iteration 1: det(Q)=0.08967352486119243\n",
      "INFO:drake:Iteration 2: det(Q)=0.10715386824246953\n"
     ]
    }
   ],
   "source": [
    "t_guard_start = time.perf_counter()\n",
    "vs.guard_phase()\n",
    "vs.refine_guards_greedy()\n",
    "t_guard_end = time.perf_counter()\n",
    "T_guard = t_guard_end- t_guard_start"
   ]
  },
  {
   "cell_type": "code",
   "execution_count": null,
   "metadata": {},
   "outputs": [],
   "source": [
    "import matplotlib.pyplot as plt\n",
    "vs.draw_connectivity_graph()\n",
    "plt.show()"
   ]
  },
  {
   "cell_type": "code",
   "execution_count": null,
   "metadata": {},
   "outputs": [],
   "source": [
    "t_connect_start = time.perf_counter()\n",
    "vs.connectivity_phase()\n",
    "t_connect_end = time.perf_counter()\n",
    "T_connect = t_connect_end + t_connect_start"
   ]
  },
  {
   "cell_type": "code",
   "execution_count": null,
   "metadata": {},
   "outputs": [],
   "source": [
    "print(f\"Time for guard phase = {T_guard}s\")\n",
    "print(f\"Time for connect phase = {T_connect}s\")\n",
    "print(f\"Total time = {T_guard + T_connect}s\")"
   ]
  },
  {
   "cell_type": "code",
   "execution_count": null,
   "metadata": {},
   "outputs": [],
   "source": [
    "vs.draw_connectivity_graph()\n",
    "plt.show()"
   ]
  },
  {
   "cell_type": "code",
   "execution_count": null,
   "metadata": {},
   "outputs": [],
   "source": [
    "regions = vs.regions\n",
    "region = regions[0]"
   ]
  },
  {
   "cell_type": "markdown",
   "metadata": {},
   "source": [
    "# Generate and Certify Regions\n",
    "\n",
    "Around some nominal seed postures, we will grow certified regions by seeding our alternation algorithm using a small initial polytope."
   ]
  },
  {
   "cell_type": "code",
   "execution_count": null,
   "metadata": {},
   "outputs": [],
   "source": [
    "# Some seedpoints\n",
    "# seed_points_q = np.array([   \n",
    "#                               q_top_shelf,\n",
    "#                               q_middle_shelf,\n",
    "#                               q_bottom_shelf\n",
    "#                               ])\n",
    "\n",
    "# seed_points = np.array([Ratfk.ComputeSValue(seed_points_q[idx], q_star)\\\n",
    "#                         for idx in range(seed_points_q.shape[0])])\n",
    "# start = seed_points[0]\n",
    "# end = seed_points[-1]\n",
    "\n",
    "    \n",
    "\n",
    "# visualizer.add_plane_indices_of_interest(118)"
   ]
  },
  {
   "cell_type": "markdown",
   "metadata": {},
   "source": [
    "## First we set up some options for our different certification modes"
   ]
  },
  {
   "cell_type": "code",
   "execution_count": null,
   "metadata": {},
   "outputs": [],
   "source": [
    "progs = cspace_free_polytope.ConstructPlaneSearchProgramsForPairs(region.A(), region.b(), find_separation_certificate_given_polytope_options)"
   ]
  },
  {
   "cell_type": "code",
   "execution_count": null,
   "metadata": {},
   "outputs": [],
   "source": [
    "len(cspace_free_polytope.separating_planes())"
   ]
  },
  {
   "cell_type": "code",
   "execution_count": null,
   "metadata": {},
   "outputs": [],
   "source": [
    "cert_prog = progs[0].prog()\n",
    "print(cert_prog.num_vars())\n",
    "print(len(cert_prog.GetAllConstraints()))"
   ]
  },
  {
   "cell_type": "markdown",
   "metadata": {},
   "source": [
    "## Seeding and Certifying with a Stronger Heuristic\n",
    "We have also implemented another, strong heuristic for proposing good initial regions based on non-linear optimization. See Appendix TODO of our paper TODO for details"
   ]
  },
  {
   "cell_type": "code",
   "execution_count": null,
   "metadata": {},
   "outputs": [],
   "source": [
    "# iris_regions = []\n",
    "# iris_ellipses = []\n",
    "# seed_points = poi\n",
    "# iris_options = IrisOptions()\n",
    "# iris_options.require_sample_point_is_contained = True\n",
    "# iris_options.configuration_space_margin = 1e-3\n",
    "# iris_options.relative_termination_threshold = 0.001\n",
    "\n",
    "# for i, s in enumerate(seed_points):\n",
    "#     q = Ratfk.ComputeQValue(s, q_star)\n",
    "#     ur.plant.SetPositions(plant_context, q)\n",
    "#     r = IrisInRationalConfigurationSpace(ur.plant, \n",
    "#                                          plant_context,\n",
    "#                                          q_star, iris_options)\n",
    "#     iris_regions.append(r)\n",
    "#     iris_ellipses.append(r.MaximumVolumeInscribedEllipsoid())\n",
    "    \n"
   ]
  },
  {
   "cell_type": "code",
   "execution_count": null,
   "metadata": {},
   "outputs": [],
   "source": [
    "# iris_regions[0].b().shape[0]"
   ]
  },
  {
   "cell_type": "code",
   "execution_count": null,
   "metadata": {},
   "outputs": [],
   "source": [
    "certified_regions = vs.regions\n",
    "# binary_search_options_for_iris = CspaceFreePolytope.BinarySearchOptions()\n",
    "# binary_search_options_for_iris.scale_max = 1.0 # it is highly unlikely that the regions can grow\n",
    "# binary_search_options_for_iris.scale_min = 1e-3\n",
    "# # binary_search_options_for_iris.find_lagrangian_options = find_separation_certificate_given_polytope_options\n",
    "# binary_search_options_for_iris.max_iter = 5\n",
    "# binary_search_options_for_iris.find_lagrangian_options.verbose = False\n",
    "# # binary_search_region_certificates_for_iris = dict.fromkeys([tuple(s) for s in seed_points])\n",
    "# certified_regions = []\n",
    "# certificates = []\n",
    "# times_per_region = []\n",
    "\n",
    "# for i, initial_region in enumerate(regions):\n",
    "#     print(f\"starting seedpoint {i+1}/{len(regions)}\")\n",
    "#     time.sleep(0.2)    \n",
    "#     t_start = time.perf_counter()\n",
    "#     cert = cspace_free_polytope.BinarySearch(set(),\n",
    "#                                                     initial_region.A(),\n",
    "#                                                     initial_region.b(), \n",
    "#                                                     initial_region.MaximumVolumeInscribedEllipsoid().center(), \n",
    "#                                                     binary_search_options_for_iris)\n",
    "#     t_end = time.perf_counter()\n",
    "#     times_per_region.append(t_end - t_start)\n",
    "#     if cert is not None:\n",
    "#         certified_regions.append(cert.certified_polytope)\n",
    "#         certificates.append(cert)\n",
    "        "
   ]
  },
  {
   "cell_type": "code",
   "execution_count": null,
   "metadata": {},
   "outputs": [],
   "source": [
    "print(len(regions))\n",
    "print(len(certified_regions))"
   ]
  },
  {
   "cell_type": "code",
   "execution_count": null,
   "metadata": {},
   "outputs": [],
   "source": [
    "# for i, t in enumerate(times_per_region):\n",
    "#     print(f\"Time to certify region {i} ={times_per_region[i]}\")\n",
    "# print(f\"Total time = {sum(times_per_region)}\")"
   ]
  },
  {
   "cell_type": "code",
   "execution_count": null,
   "metadata": {
    "scrolled": true
   },
   "outputs": [],
   "source": [
    "vs2  = VPRMSeeding(seedpoints,\n",
    "                 alpha = 0.05,\n",
    "                 eps = 0.05,\n",
    "                 limits = [ur.plant.GetPositionLowerLimits(), \n",
    "                           ur.plant.GetPositionUpperLimits()],\n",
    "                 collision_handle = col_func_handle,\n",
    "                 is_in_line_of_sight = is_LOS, \n",
    "                 iris_handle=partial(SNOPT_IRIS_Handle1, regions = None),\n",
    "                 iris_handle_with_obstacles = SNOPT_IRIS_Handle1,\n",
    "                 point_to_region_conversion = partial(Ratfk.ComputeSValue, q_star_val = q_star),\n",
    "                 #ranking_samples_handle = sample_ranking_connected_components_weight\n",
    "                 )\n",
    "vs2.regions = certified_regions\n",
    "vs2.connectivity_graph = nx.Graph()\n",
    "for idx in range(len(vs2.regions)):\n",
    "    vs2.connectivity_graph.add_node(idx)\n",
    "for idx1 in range(len(vs2.regions)):\n",
    "    for idx2 in range(idx1 +1, len(vs2.regions)):\n",
    "        r1 = vs2.regions[idx1]\n",
    "        r2 = vs2.regions[idx2]\n",
    "        if r1.IntersectsWith(r2):\n",
    "            vs2.connectivity_graph.add_edge(idx1,idx2)\n",
    "vs2.draw_connectivity_graph()\n",
    "plt.show()"
   ]
  },
  {
   "cell_type": "code",
   "execution_count": null,
   "metadata": {},
   "outputs": [],
   "source": [
    "from pydrake.all import PiecewisePolynomial\n",
    "def generate_walk_around_polytope(h_polytope, num_verts):\n",
    "    v_polytope = VPolytope(h_polytope)\n",
    "    verts_to_visit_index = np.random.randint(0, v_polytope.vertices().shape[1], num_verts)\n",
    "    verts_to_visit = v_polytope.vertices()[:, verts_to_visit_index]\n",
    "#     for i in range(len(verts_to_visit)-1):\n",
    "#         cur_v = verts_to_visit[i]\n",
    "#         next_v = verts_to_visit[i+1]\n",
    "    t_knots = np.linspace(0, 1,  verts_to_visit.shape[1])\n",
    "    lin_traj = PiecewisePolynomial.FirstOrderHold(t_knots, verts_to_visit)\n",
    "    return lin_traj\n",
    "lin_traj = generate_walk_around_polytope(region, 15)"
   ]
  },
  {
   "cell_type": "code",
   "execution_count": null,
   "metadata": {},
   "outputs": [],
   "source": [
    "def animate_traj_s(traj, steps, runtime, idx_list = None, sleep_time = 0.1):\n",
    "    # loop\n",
    "    idx = 0\n",
    "    going_fwd = True\n",
    "    time_points = np.linspace(0, traj.end_time(), steps)\n",
    "    frame_count = 0\n",
    "    for _ in range(runtime):\n",
    "        # print(idx)\n",
    "        t0 = time.time()\n",
    "        s = traj.value(time_points[idx])\n",
    "        q = Ratfk.ComputeQValue(s, q_star)\n",
    "        ur.plant.SetPositions(plant_context, q)\n",
    "        diagram_context.SetTime(frame_count * 0.01)\n",
    "        ur.diagram.ForcedPublish(diagram_context)\n",
    "        frame_count += 1\n",
    "        if going_fwd:\n",
    "            if idx + 1 < steps:\n",
    "                idx += 1\n",
    "            else:\n",
    "                going_fwd = False\n",
    "                idx -= 1\n",
    "        else:\n",
    "            if idx - 1 >= 0:\n",
    "                idx -= 1\n",
    "            else:\n",
    "                going_fwd = True\n",
    "                idx += 1\n",
    "        t1 = time.time()\n",
    "        pause = sleep_time - (t1 - t0)\n",
    "        if pause > 0:\n",
    "            time.sleep(pause)"
   ]
  },
  {
   "cell_type": "code",
   "execution_count": null,
   "metadata": {},
   "outputs": [],
   "source": []
  },
  {
   "cell_type": "code",
   "execution_count": null,
   "metadata": {},
   "outputs": [],
   "source": [
    "from random import choice\n",
    "r = choice(certified_regions)\n",
    "lin_traj = generate_walk_around_polytope(r, 15)\n",
    "substeps = 100\n",
    "runtime = substeps\n",
    "animate_traj_s(lin_traj, substeps, runtime)"
   ]
  },
  {
   "cell_type": "code",
   "execution_count": null,
   "metadata": {},
   "outputs": [],
   "source": [
    "# from gcs.bezier import BezierGCS\n",
    "# from gcs.linear import LinearGCS\n",
    "# from pydrake.solvers.mosek import MosekSolver\n",
    "# from pydrake.all import PiecewisePolynomial\n",
    "# from visualization_utils import draw_traj\n",
    "\n",
    "# start = seed_points[0]\n",
    "# end = seed_points[-1]\n",
    "# regions = [r for (r,_) in iris_regions]\n",
    "\n",
    "# l_gcs = LinearGCS(regions)\n",
    "# l_gcs.addSourceTarget(start, end)\n",
    "# l_gcs.setSolver(MosekSolver())\n",
    "# waypoints = l_gcs.SolvePath(True)[0]\n",
    "# t_knots = np.linspace(0, 1,  waypoints.shape[1])\n",
    "# lin_traj = PiecewisePolynomial.FirstOrderHold(t_knots, waypoints)\n",
    "\n",
    "# draw_traj(visualizer.meshcat_cspace, lin_traj, 100)\n"
   ]
  },
  {
   "cell_type": "code",
   "execution_count": null,
   "metadata": {},
   "outputs": [],
   "source": [
    "# substeps = 100\n",
    "# runtime = 2*substeps\n",
    "# # visualizer.animate_traj_s(lin_traj, substeps, runtime)\n",
    "# visualizer.visualizer_task_space.StartRecording()\n",
    "# visualizer.animate_traj_s(lin_traj, substeps, runtime)\n",
    "# visualizer.visualizer_task_space.PublishRecording()\n"
   ]
  },
  {
   "cell_type": "code",
   "execution_count": null,
   "metadata": {},
   "outputs": [],
   "source": [
    "# visualizer.save_meshcats(\"pinball_iiwas\")"
   ]
  },
  {
   "cell_type": "markdown",
   "metadata": {},
   "source": [
    "# Now it is time to play with the visualization! If you open the task space visualizer, we can highlight specific geometries and their separating planes in different regions.\n",
    "## Notice that when regions overlap, we get multiple planes certifying non-collision"
   ]
  },
  {
   "cell_type": "code",
   "execution_count": null,
   "metadata": {},
   "outputs": [],
   "source": [
    "# This plane certifies that the two tips of the flippers don't intersect\n",
    "visualizer.add_plane_indices_of_interest(118)\n",
    "\n",
    "# re-display the sliders for convenience\n",
    "for slider in sliders:\n",
    "    display(slider)"
   ]
  },
  {
   "cell_type": "code",
   "execution_count": null,
   "metadata": {},
   "outputs": [],
   "source": [
    "# Uncomment this cell for an interface for choosing good planes of interest\n",
    "# plane_indices = np.arange(0, len(cspace_free_polytope.separating_planes()))\n",
    "# last_plane_index = 0\n",
    "# cur_plane_index = 0\n",
    "# plane_indices_to_geometries = {v: k for k,v in cspace_free_polytope.map_geometries_to_separating_planes().items()}\n",
    "\n",
    "# while True:\n",
    "#     visualizer.meshcat_task_space.Delete(f\"/plane_{last_plane_index}\")\n",
    "#     geom1, geom2 = plane_indices_to_geometries[cur_plane_index]\n",
    "#     color = Rgba(0,0,1,1)\n",
    "    \n",
    "#     prefix = f\"/plane_{cur_plane_index}\"\n",
    "#     visualizer.highlight_geometry_id(geom1, color, prefix+f\"/{geom1}\")\n",
    "#     visualizer.highlight_geometry_id(geom2, color, prefix+f\"/{geom2}\")\n",
    "#     print(f\"current plane index = {cur_plane_index}\")\n",
    "    \n",
    "#     last_plane_index = cur_plane_index\n",
    "#     valid_key_pressed = False\n",
    "#     while not valid_key_pressed:\n",
    "#         key_press = input(\"Enter d to increase plane_count, a to decrease, and e to exit...\")\n",
    "#         if key_press in [\"a\", \"d\", \"e\"]:\n",
    "#             valid_key_pressed = True\n",
    "#     if key_press == \"a\":\n",
    "#         cur_plane_index = max(cur_plane_index - 1, min(plane_indices))\n",
    "#     elif key_press == \"d\":\n",
    "#         cur_plane_index = min(cur_plane_index + 1, max(plane_indices))\n",
    "#     elif key_press == \"e\":\n",
    "#         break\n",
    "#     print()"
   ]
  },
  {
   "cell_type": "code",
   "execution_count": null,
   "metadata": {},
   "outputs": [],
   "source": [
    "# Uncomment this cell for seeing all the planes associated to a particular geometry id\n",
    "# interesting_geometry = 92\n",
    "# plane_indices = np.arange(0, len(cspace_free_polytope.separating_planes()))\n",
    "# plane_indices_to_geometries = {v: k for k,v in cspace_free_polytope.map_geometries_to_separating_planes().items()}\n",
    "\n",
    "# associated_plane_indices = []\n",
    "# for plane_index, (geom1, geom2) in plane_indices_to_geometries.items():\n",
    "#     if interesting_geometry in (geom1.get_value(), geom2. get_value()):\n",
    "#         associated_plane_indices.append(plane_index)\n",
    "\n",
    "        \n",
    "# last_associated_index_index = 0\n",
    "# cur_associated_index_index = 0\n",
    "\n",
    "# visualizer.clear_plane_indices_of_interest()\n",
    "# while True:\n",
    "#     last_plane_index = associated_plane_indices[last_associated_index_index]\n",
    "#     cur_plane_index = associated_plane_indices[cur_associated_index_index]\n",
    "    \n",
    "#     print(f\"current plane index = {cur_plane_index}\")\n",
    "    \n",
    "#     visualizer.remove_plane_indices_of_interest(last_plane_index)\n",
    "#     visualizer.add_plane_indices_of_interest(cur_plane_index)\n",
    "    \n",
    "#     cur_q = visualizer.plant.GetPositions(visualizer.plant_context)\n",
    "#     visualizer.show_res_q(cur_q)\n",
    "    \n",
    "#     last_associated_index_index = cur_associated_index_index\n",
    "#     valid_key_pressed = False\n",
    "#     while not valid_key_pressed:\n",
    "#         key_press = input(\"Enter d to increase plane_count, a to decrease, and e to exit...\")\n",
    "#         if key_press in [\"a\", \"d\", \"e\"]:\n",
    "#             valid_key_pressed = True\n",
    "#     if key_press == \"a\":\n",
    "#         cur_associated_index_index = max(cur_associated_index_index - 1, min(associated_plane_indices))\n",
    "#     elif key_press == \"d\":\n",
    "#         cur_associated_index_index = min(cur_associated_index_index + 1, max(associated_plane_indices))\n",
    "#     elif key_press == \"e\":\n",
    "#         break\n",
    "#     print()"
   ]
  }
 ],
 "metadata": {
  "interpreter": {
   "hash": "31f2aee4e71d21fbe5cf8b01ff0e069b9275f58929596ceb00d14d90e3e16cd6"
  },
  "kernelspec": {
   "display_name": "Python 3 (ipykernel)",
   "language": "python",
   "name": "python3"
  },
  "language_info": {
   "codemirror_mode": {
    "name": "ipython",
    "version": 3
   },
   "file_extension": ".py",
   "mimetype": "text/x-python",
   "name": "python",
   "nbconvert_exporter": "python",
   "pygments_lexer": "ipython3",
   "version": "3.10.6"
  }
 },
 "nbformat": 4,
 "nbformat_minor": 2
}
