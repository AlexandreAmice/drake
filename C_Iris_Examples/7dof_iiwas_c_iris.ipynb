{
 "cells": [
  {
   "cell_type": "code",
   "execution_count": 1,
   "metadata": {},
   "outputs": [],
   "source": [
    "%load_ext autoreload"
   ]
  },
  {
   "cell_type": "code",
   "execution_count": 2,
   "metadata": {},
   "outputs": [],
   "source": [
    "import numpy as np\n",
    "from functools import partial\n",
    "import visualizations_utils as viz_utils\n",
    "from iris_plant_visualizer import IrisPlantVisualizer\n",
    "import ipywidgets as widgets\n",
    "from IPython.display import display"
   ]
  },
  {
   "cell_type": "code",
   "execution_count": 12,
   "metadata": {},
   "outputs": [],
   "source": [
    "#pydrake imports\n",
    "from pydrake.common import FindResourceOrThrow\n",
    "from pydrake.multibody.parsing import Parser\n",
    "from pydrake.multibody.plant import AddMultibodyPlantSceneGraph\n",
    "from pydrake.systems.framework import DiagramBuilder\n",
    "from pydrake.geometry import Role, GeometrySet, CollisionFilterDeclaration\n",
    "from pydrake.solvers import mathematicalprogram as mp\n",
    "from pydrake.all import RigidTransform, RollPitchYaw, RevoluteJoint\n",
    "import time\n",
    "import pydrake.multibody.rational_forward_kinematics as rational_forward_kinematics\n",
    "from pydrake.all import RationalForwardKinematics\n",
    "from pydrake.geometry.optimization import IrisOptionsRationalSpace, IrisInRationalConfigurationSpace, HPolyhedron, Hyperellipsoid"
   ]
  },
  {
   "cell_type": "markdown",
   "metadata": {},
   "source": [
    "# Build and set up the visualization the plant and the visualization of the C-space obstacle\n",
    "\n",
    "Note that running this cell multiple times will establish multiple meshcat instances which can fill up your memory. It is a good idea to call \"pkill -f meshcat\" from the command line before re-running this cell\n"
   ]
  },
  {
   "cell_type": "code",
   "execution_count": 4,
   "metadata": {},
   "outputs": [
    {
     "name": "stderr",
     "output_type": "stream",
     "text": [
      "INFO:drake:Meshcat listening for connections at http://localhost:7002\n",
      "INFO:drake:Meshcat listening for connections at http://localhost:7003\n",
      "/home/amice/Documents/coding_projects/drake/C_Iris_Examples/iris_plant_visualizer.py:31: DrakeDeprecationWarning: MeshcatVisualizerCpp has been renamed to MeshcatVisualizer. The deprecated code will be removed from Drake on or after 2022-11-01.\n",
      "  self.vis = MeshcatVisualizerCpp.AddToBuilder(builder, scene_graph, self.meshcat1)\n"
     ]
    }
   ],
   "source": [
    "builder = DiagramBuilder()\n",
    "plant, scene_graph = AddMultibodyPlantSceneGraph(builder, time_step=0.001)\n",
    "model_file = FindResourceOrThrow(\"drake/manipulation/models/iiwa_description/iiwa7/iiwa7_with_box_collision.sdf\")\n",
    "box_file = FindResourceOrThrow(\"drake/C_Iris_Examples/assets/shelves.sdf\")\n",
    "\n",
    "\n",
    "parser = Parser(plant)\n",
    "\n",
    "\n",
    "models = []\n",
    "models.append(Parser(plant, scene_graph).AddModelFromFile(model_file))\n",
    "models.append(Parser(plant, scene_graph).AddModelFromFile(box_file))\n",
    "\n",
    "sp = 0.4\n",
    "x_fac = 1.2\n",
    "locs = [ [0,0,0], \n",
    "        [x_fac*sp, 1.4*sp,0.4], [x_fac*sp,-1.4*sp,0.4], [-x_fac*sp,-1.4*sp,0.4], [-x_fac*sp,1.4*sp,0.4], \n",
    "        [0.0 ,0 , 0.95], [0.0 ,0 , -0.05]] \n",
    "idx = 0\n",
    "for model in models:\n",
    "    plant.WeldFrames(plant.world_frame(), plant.get_body(plant.GetBodyIndices(model)[0]).body_frame(),\n",
    "                     RigidTransform(locs[idx]))\n",
    "    idx +=1\n",
    "\n",
    "\n",
    "plant.Finalize()\n",
    "\n",
    "\n",
    "        \n",
    "# construct the RationalForwardKinematics of this plant. This object handles the\n",
    "# computations for the forward kinematics in the tangent-configuration space\n",
    "Ratfk = RationalForwardKinematics(plant)\n",
    "\n",
    "# the point about which we will take the stereographic projections\n",
    "q_star = np.zeros_like(plant.GetPositionLowerLimits())\n",
    "\n",
    "#compute limits in t-space\n",
    "limits_t = []\n",
    "for q in [plant.GetPositionLowerLimits(), plant.GetPositionUpperLimits()]:\n",
    "    limits_t.append(Ratfk.ComputeTValue(np.array(q), q_star))\n",
    "\n",
    "do_viz = True\n",
    "\n",
    "# This line builds the visualization. Change the viz_role to Role.kIllustration if you\n",
    "# want to see the plant with its illustrated geometry or to Role.kProximity\n",
    "visualizer = IrisPlantVisualizer(plant, builder, scene_graph, viz_role=Role.kIllustration)\n",
    "diagram = visualizer.diagram\n",
    "\n",
    "# This line will run marching cubes to generate a mesh of the C-space obstacle\n",
    "# Increase N to increase the resolution of the C-space obstacle.\n"
   ]
  },
  {
   "cell_type": "markdown",
   "metadata": {},
   "source": [
    "## Set up the sliders so we can move the plant around manually"
   ]
  },
  {
   "cell_type": "code",
   "execution_count": 5,
   "metadata": {
    "scrolled": false
   },
   "outputs": [
    {
     "data": {
      "application/vnd.jupyter.widget-view+json": {
       "model_id": "8f529fd72ec44fd2a6ce0a540ffaed80",
       "version_major": 2,
       "version_minor": 0
      },
      "text/plain": [
       "FloatSlider(value=0.0, description='q0', max=2.96706, min=-2.96706)"
      ]
     },
     "metadata": {},
     "output_type": "display_data"
    },
    {
     "data": {
      "application/vnd.jupyter.widget-view+json": {
       "model_id": "d4f5200588024ded8d62341290bef7f1",
       "version_major": 2,
       "version_minor": 0
      },
      "text/plain": [
       "FloatSlider(value=0.0, description='q1', max=2.0944, min=-2.0944)"
      ]
     },
     "metadata": {},
     "output_type": "display_data"
    },
    {
     "data": {
      "application/vnd.jupyter.widget-view+json": {
       "model_id": "f31775d053b243f490f609681154786a",
       "version_major": 2,
       "version_minor": 0
      },
      "text/plain": [
       "FloatSlider(value=0.0, description='q2', max=2.96706, min=-2.96706)"
      ]
     },
     "metadata": {},
     "output_type": "display_data"
    },
    {
     "data": {
      "application/vnd.jupyter.widget-view+json": {
       "model_id": "9e9db1a3529b4019b9a064ccee2e8980",
       "version_major": 2,
       "version_minor": 0
      },
      "text/plain": [
       "FloatSlider(value=0.0, description='q3', max=2.0944, min=-2.0944)"
      ]
     },
     "metadata": {},
     "output_type": "display_data"
    },
    {
     "data": {
      "application/vnd.jupyter.widget-view+json": {
       "model_id": "6fdf4af451bf42ac8884fc104add6259",
       "version_major": 2,
       "version_minor": 0
      },
      "text/plain": [
       "FloatSlider(value=0.0, description='q4', max=2.96706, min=-2.96706)"
      ]
     },
     "metadata": {},
     "output_type": "display_data"
    },
    {
     "data": {
      "application/vnd.jupyter.widget-view+json": {
       "model_id": "6078db8156564485bc749bd17db8bc62",
       "version_major": 2,
       "version_minor": 0
      },
      "text/plain": [
       "FloatSlider(value=0.0, description='q5', max=2.0944, min=-2.0944)"
      ]
     },
     "metadata": {},
     "output_type": "display_data"
    },
    {
     "data": {
      "application/vnd.jupyter.widget-view+json": {
       "model_id": "737c246b80b345f6b8288fe775aac63e",
       "version_major": 2,
       "version_minor": 0
      },
      "text/plain": [
       "FloatSlider(value=0.0, description='q6', max=3.05433, min=-3.05433)"
      ]
     },
     "metadata": {},
     "output_type": "display_data"
    }
   ],
   "source": [
    "sliders = []\n",
    "for i in range(plant.num_positions()):\n",
    "    sliders.append(widgets.FloatSlider(min=plant.GetPositionLowerLimits()[i],\n",
    "                                       max=plant.GetPositionUpperLimits()[i], \n",
    "                                       value=0, description=f'q{i}'))\n",
    "# sliders.append(widgets.FloatSlider(min=q_low[2], max=q_high[2], value=0, description='q2'))\n",
    "\n",
    "q = np.zeros(plant.num_positions())\n",
    "def handle_slider_change(change, idx):\n",
    "    q[idx] = change['new']\n",
    "    visualizer.showres(q)\n",
    "    visualizer.visualize_planes()\n",
    "    \n",
    "idx = 0\n",
    "for slider in sliders:\n",
    "    slider.observe(partial(handle_slider_change, idx = idx), names='value')\n",
    "    idx+=1\n",
    "\n",
    "for slider in sliders:\n",
    "    display(slider)\n",
    "\n",
    "\n"
   ]
  },
  {
   "cell_type": "code",
   "execution_count": 6,
   "metadata": {
    "scrolled": true
   },
   "outputs": [],
   "source": [
    "# filter fused joints self collisions so they don't interfere with collision engine\n",
    "digaram = visualizer.diagram\n",
    "context = visualizer.diagram_context\n",
    "sg_context = scene_graph.GetMyContextFromRoot(context)\n",
    "inspector = scene_graph.model_inspector()\n",
    "\n",
    "pairs = scene_graph.get_query_output_port().Eval(sg_context).inspector().GetCollisionCandidates()\n",
    "\n",
    "# gids = [gid for gid in inspector.GetGeometryIds(GeometrySet(inspector.GetAllGeometryIds()), Role.kProximity)]\n",
    "# get_name_of_gid = lambda gid : inspector.GetName(gid)\n",
    "# gids.sort(key=get_name_of_gid)\n",
    "# iiwa_oneDOF_gids = [gid for gid in gids if \"iiwa7_oneDOF::\" in get_name_of_gid(gid)]\n",
    "# iiwa_twoDOF_gids = [gid for gid in gids if \"iiwa7_twoDOF::\" in get_name_of_gid(gid)]\n",
    "\n",
    "# oneDOF_fused_col_geom = iiwa_oneDOF_gids[2:]\n",
    "# iiwa_oneDOF_fused_set = GeometrySet(oneDOF_fused_col_geom)\n",
    "# twoDOF_fused_col_geom = iiwa_twoDOF_gids[4:]\n",
    "# iiwa_twoDOF_fused_set = GeometrySet(twoDOF_fused_col_geom)\n",
    "# scene_graph.collision_filter_manager()\\\n",
    "#             .Apply(CollisionFilterDeclaration().ExcludeWithin(iiwa_oneDOF_fused_set))\n",
    "# scene_graph.collision_filter_manager()\\\n",
    "#             .Apply(CollisionFilterDeclaration().ExcludeWithin(iiwa_twoDOF_fused_set))"
   ]
  },
  {
   "cell_type": "markdown",
   "metadata": {},
   "source": [
    "# Setup IRIS Options and Generate Regions"
   ]
  },
  {
   "cell_type": "code",
   "execution_count": 7,
   "metadata": {},
   "outputs": [],
   "source": [
    "# Some examples of some seed points which give large regions using the\n",
    "# non-linear programming approach to IRIS described in Algorithm 3\n",
    "seed_points_q = np.zeros(plant.num_positions())[:, np.newaxis]\n",
    "seed_points = np.array([Ratfk.ComputeTValue(seed_points_q[idx], q_star)\\\n",
    "                        for idx in range(seed_points_q.shape[0])])\n",
    "\n"
   ]
  },
  {
   "cell_type": "code",
   "execution_count": 8,
   "metadata": {},
   "outputs": [
    {
     "name": "stdout",
     "output_type": "stream",
     "text": [
      "(7,)\n",
      "(7,)\n",
      "(7,)\n",
      "(7,)\n",
      "(7,)\n",
      "(7,)\n",
      "(7,)\n",
      "(7,)\n",
      "(7,)\n",
      "(7,)\n",
      "(7,)\n",
      "(7,)\n",
      "(7,)\n",
      "(7,)\n"
     ]
    }
   ],
   "source": [
    "regions = []\n",
    "ellipses = []\n",
    "\n",
    "iris_options = IrisOptionsRationalSpace()\n",
    "iris_options.require_sample_point_is_contained = True\n",
    "iris_options.iteration_limit = 20\n",
    "iris_options.configuration_space_margin = 1e-5\n",
    "iris_options.max_faces_per_collision_pair = 60\n",
    "iris_options.termination_threshold = -1\n",
    "iris_options.q_star = q_star\n",
    "iris_options.relative_termination_threshold = 0.05\n",
    "iris_options.enable_ibex = False\n",
    "\n",
    "for i, s in enumerate(seed_points):\n",
    "    print(s.shape)\n",
    "    print(q_star.shape)\n",
    "    q = Ratfk.ComputeQValue(s, iris_options.q_star)\n",
    "    plant.SetPositions(plant.GetMyMutableContextFromRoot(context), q)\n",
    "    r = IrisInRationalConfigurationSpace(plant, plant.GetMyContextFromRoot(context), iris_options)\n",
    "    regions.append(r)\n",
    "    ellipses.append(r.MaximumVolumeInscribedEllipsoid())\n"
   ]
  },
  {
   "cell_type": "code",
   "execution_count": 9,
   "metadata": {},
   "outputs": [
    {
     "data": {
      "text/plain": [
       "(87, 7)"
      ]
     },
     "execution_count": 9,
     "metadata": {},
     "output_type": "execute_result"
    }
   ],
   "source": [
    "regions[0].A().shape"
   ]
  },
  {
   "cell_type": "markdown",
   "metadata": {},
   "source": [
    "# Certify one region"
   ]
  },
  {
   "cell_type": "code",
   "execution_count": 10,
   "metadata": {},
   "outputs": [],
   "source": [
    "cspace_free_region_certifier = rational_forward_kinematics.CspaceFreeRegion(diagram, plant, scene_graph,\n",
    "                                   rational_forward_kinematics.SeparatingPlaneOrder.kAffine,\n",
    "                                   rational_forward_kinematics.CspaceRegionType.kGenericPolytope)\n",
    "filtered_collision_pairs = set()\n",
    "solver_options = mp.SolverOptions()\n",
    "# make the solver verbose\n",
    "solver_options.SetOption(mp.CommonSolverOption.kPrintToConsole, 1)"
   ]
  },
  {
   "cell_type": "markdown",
   "metadata": {},
   "source": [
    "## first search for a minimal, uniform contraction of a proposed region which can be certified"
   ]
  },
  {
   "cell_type": "code",
   "execution_count": 13,
   "metadata": {},
   "outputs": [
    {
     "name": "stderr",
     "output_type": "stream",
     "text": [
      "WARNING:drake:Cannot find Lagrangian multiplier and separating planes for \n",
      "(iiwa7::iiwa_link_0_collision, iiwa7::iiwa_link_3_collision)\n",
      "(iiwa7::iiwa_link_0_collision, iiwa7::iiwa_link_4_collision)\n",
      "(iiwa7::iiwa_link_0_collision, iiwa7::iiwa_link_5_collision)\n",
      "(iiwa7::iiwa_link_0_collision, iiwa7::iiwa_link_6_collision)\n",
      "(iiwa7::iiwa_link_0_collision, iiwa7::iiwa_link_7_collision)\n",
      "(iiwa7::iiwa_link_1_collision, iiwa7::iiwa_link_3_collision)\n",
      "(iiwa7::iiwa_link_2_collision, iiwa7::iiwa_link_5_collision)\n",
      "(iiwa7::iiwa_link_2_collision, iiwa7::iiwa_link_7_collision)\n",
      "(iiwa7::iiwa_link_2_collision, shelves::shelf_lower)\n",
      "(iiwa7::iiwa_link_2_collision, shelves::shelf_upper)\n",
      "(iiwa7::iiwa_link_3_collision, iiwa7::iiwa_link_5_collision)\n",
      "(iiwa7::iiwa_link_3_collision, shelves::top)\n",
      "(iiwa7::iiwa_link_3_collision, shelves::shelf_lower)\n",
      "(iiwa7::iiwa_link_3_collision, shelves::shelf_upper)\n",
      "(iiwa7::iiwa_link_4_collision, shelves::top)\n",
      "(iiwa7::iiwa_link_4_collision, shelves::shelf_lower)\n",
      "(iiwa7::iiwa_link_4_collision, shelves::shelf_upper)\n",
      "(iiwa7::iiwa_link_5_collision, iiwa7::iiwa_link_7_collision)\n",
      "(iiwa7::iiwa_link_5_collision, shelves::top)\n",
      "(iiwa7::iiwa_link_5_collision, shelves::shelf_lower)\n",
      "(iiwa7::iiwa_link_5_collision, shelves::shelf_upper)\n",
      "(iiwa7::iiwa_link_6_collision, shelves::top)\n",
      "(iiwa7::iiwa_link_6_collision, shelves::shelf_lower)\n",
      "(iiwa7::iiwa_link_6_collision, shelves::shelf_upper)\n",
      "(iiwa7::iiwa_link_7_collision, shelves::top)\n",
      "(iiwa7::iiwa_link_7_collision, shelves::shelf_lower)\n",
      "(iiwa7::iiwa_link_7_collision, shelves::shelf_upper)\n",
      "\n",
      "WARNING:drake:Cannot find Lagrangian multiplier and separating planes for \n",
      "(iiwa7::iiwa_link_0_collision, iiwa7::iiwa_link_3_collision)\n",
      "(iiwa7::iiwa_link_0_collision, iiwa7::iiwa_link_4_collision)\n",
      "(iiwa7::iiwa_link_0_collision, iiwa7::iiwa_link_5_collision)\n",
      "(iiwa7::iiwa_link_0_collision, iiwa7::iiwa_link_6_collision)\n",
      "(iiwa7::iiwa_link_0_collision, iiwa7::iiwa_link_7_collision)\n",
      "(iiwa7::iiwa_link_1_collision, iiwa7::iiwa_link_3_collision)\n",
      "(iiwa7::iiwa_link_2_collision, iiwa7::iiwa_link_5_collision)\n",
      "(iiwa7::iiwa_link_2_collision, iiwa7::iiwa_link_7_collision)\n",
      "(iiwa7::iiwa_link_2_collision, shelves::shelf_lower)\n",
      "(iiwa7::iiwa_link_2_collision, shelves::shelf_upper)\n",
      "(iiwa7::iiwa_link_3_collision, shelves::top)\n",
      "(iiwa7::iiwa_link_3_collision, shelves::shelf_lower)\n",
      "(iiwa7::iiwa_link_3_collision, shelves::shelf_upper)\n",
      "(iiwa7::iiwa_link_4_collision, shelves::top)\n",
      "(iiwa7::iiwa_link_4_collision, shelves::shelf_lower)\n",
      "(iiwa7::iiwa_link_4_collision, shelves::shelf_upper)\n",
      "(iiwa7::iiwa_link_5_collision, iiwa7::iiwa_link_7_collision)\n",
      "(iiwa7::iiwa_link_5_collision, shelves::top)\n",
      "(iiwa7::iiwa_link_5_collision, shelves::shelf_lower)\n",
      "(iiwa7::iiwa_link_5_collision, shelves::shelf_upper)\n",
      "(iiwa7::iiwa_link_6_collision, shelves::top)\n",
      "(iiwa7::iiwa_link_6_collision, shelves::shelf_lower)\n",
      "(iiwa7::iiwa_link_6_collision, shelves::shelf_upper)\n",
      "(iiwa7::iiwa_link_7_collision, shelves::top)\n",
      "(iiwa7::iiwa_link_7_collision, shelves::shelf_lower)\n",
      "(iiwa7::iiwa_link_7_collision, shelves::shelf_upper)\n",
      "\n"
     ]
    },
    {
     "ename": "RuntimeError",
     "evalue": "binary search: the initial epsilon -0.034555243428750555 is infeasible",
     "output_type": "error",
     "traceback": [
      "\u001b[0;31m---------------------------------------------------------------------------\u001b[0m",
      "\u001b[0;31mRuntimeError\u001b[0m                              Traceback (most recent call last)",
      "Input \u001b[0;32mIn [13]\u001b[0m, in \u001b[0;36m<cell line: 20>\u001b[0;34m()\u001b[0m\n\u001b[1;32m     17\u001b[0m binary_search_options\u001b[38;5;241m.\u001b[39mnum_threads \u001b[38;5;241m=\u001b[39m \u001b[38;5;241m-\u001b[39m\u001b[38;5;241m1\u001b[39m\n\u001b[1;32m     19\u001b[0m t0 \u001b[38;5;241m=\u001b[39m time\u001b[38;5;241m.\u001b[39mtime()\n\u001b[0;32m---> 20\u001b[0m certified_region_contraction_solution \u001b[38;5;241m=\u001b[39m \u001b[43mcspace_free_region_certifier\u001b[49m\u001b[38;5;241;43m.\u001b[39;49m\u001b[43mCspacePolytopeBinarySearch\u001b[49m\u001b[43m(\u001b[49m\u001b[43mq_star\u001b[49m\u001b[43m,\u001b[49m\n\u001b[1;32m     21\u001b[0m \u001b[43m                                                                 \u001b[49m\u001b[43mfiltered_collision_pairs\u001b[49m\u001b[43m,\u001b[49m\n\u001b[1;32m     22\u001b[0m \u001b[43m                                                                 \u001b[49m\u001b[43mregion_to_certify\u001b[49m\u001b[38;5;241;43m.\u001b[39;49m\u001b[43mA\u001b[49m\u001b[43m(\u001b[49m\u001b[43m)\u001b[49m\u001b[43m,\u001b[49m\n\u001b[1;32m     23\u001b[0m \u001b[43m                                                                 \u001b[49m\u001b[43mregion_to_certify\u001b[49m\u001b[38;5;241;43m.\u001b[39;49m\u001b[43mb\u001b[49m\u001b[43m(\u001b[49m\u001b[43m)\u001b[49m\u001b[43m,\u001b[49m\n\u001b[1;32m     24\u001b[0m \u001b[43m                                                                 \u001b[49m\u001b[43mbinary_search_options\u001b[49m\u001b[43m,\u001b[49m\u001b[43m \u001b[49m\n\u001b[1;32m     25\u001b[0m \u001b[43m                                                                 \u001b[49m\u001b[43msolver_options\u001b[49m\u001b[43m,\u001b[49m\n\u001b[1;32m     26\u001b[0m \u001b[43m                                                                 \u001b[49m\u001b[43mseed_point\u001b[49m\u001b[43m)\u001b[49m\n\u001b[1;32m     27\u001b[0m t1 \u001b[38;5;241m=\u001b[39m time\u001b[38;5;241m.\u001b[39mtime()\n\u001b[1;32m     28\u001b[0m \u001b[38;5;28mprint\u001b[39m(\u001b[38;5;124mf\u001b[39m\u001b[38;5;124m\"\u001b[39m\u001b[38;5;124mTime to binary search = \u001b[39m\u001b[38;5;132;01m{\u001b[39;00mt1\u001b[38;5;241m-\u001b[39mt0\u001b[38;5;132;01m}\u001b[39;00m\u001b[38;5;124m\"\u001b[39m)\n",
      "\u001b[0;31mRuntimeError\u001b[0m: binary search: the initial epsilon -0.034555243428750555 is infeasible"
     ]
    }
   ],
   "source": [
    "i = 0\n",
    "region_to_certify = regions[i]\n",
    "seed_point = seed_points[i,:]\n",
    "if do_viz:\n",
    "    visualizer.plot_regions([region_to_certify], ellipses=None, region_suffix='_original_to_certify')\n",
    "\n",
    "binary_search_options = rational_forward_kinematics.BinarySearchOption()\n",
    "binary_search_options.epsilon_max = 0 # it is very unlikely that we can find a uniform expansion of the current region\n",
    "binary_search_options.max_iters = 4\n",
    "# speed up the bisection search by taking non-uniform steps when possible\n",
    "binary_search_options.search_d = True\n",
    "# find the smallest e such that At <= b + e1 still contains our seed point.\n",
    "binary_search_options.epsilon_min = rational_forward_kinematics.FindEpsilonLower(region_to_certify.A(), \n",
    "                                                                                 region_to_certify.b(),\n",
    "                                                                                 limits_t[0], limits_t[1],\n",
    "                                                                                 seed_point)\n",
    "#use as many threads as possible to speed up computation\n",
    "binary_search_options.num_threads = -1\n",
    "\n",
    "t0 = time.time()\n",
    "certified_region_contraction_solution = cspace_free_region_certifier.CspacePolytopeBinarySearch(q_star,\n",
    "                                                                 filtered_collision_pairs,\n",
    "                                                                 region_to_certify.A(),\n",
    "                                                                 region_to_certify.b(),\n",
    "                                                                 binary_search_options, \n",
    "                                                                 solver_options,\n",
    "                                                                 seed_point)\n",
    "t1 = time.time()\n",
    "print(f\"Time to binary search = {t1-t0}\")\n",
    "certified_region_contraction = HPolyhedron(certified_region_contraction_solution.C,\n",
    "                                           certified_region_contraction_solution.d)\n"
   ]
  },
  {
   "cell_type": "markdown",
   "metadata": {},
   "source": [
    "## Now that we have a certified region, we can grow it using bilinear alternations"
   ]
  },
  {
   "cell_type": "code",
   "execution_count": 16,
   "metadata": {},
   "outputs": [
    {
     "name": "stderr",
     "output_type": "stream",
     "text": [
      "INFO:drake:Found Lagrangian multiplier and separating planes\n",
      "INFO:drake:Lagrangian step time 9.143 s\n",
      "INFO:drake:max(power(det(P), 1/8))=0.002371372850701074, solver_time 0.05985307693481445\n",
      "INFO:drake:cost improvement inf\n",
      "INFO:drake:mosek info 5, InfeasibleConstraints\n",
      "WARNING:drake:Failed to find the polytope at iteration 0\n"
     ]
    }
   ],
   "source": [
    "bilinear_alternation_options = rational_forward_kinematics.BilinearAlternationOption()\n",
    "bilinear_alternation_options.max_iters = 20\n",
    "bilinear_alternation_options.lagrangian_backoff_scale = 0\n",
    "bilinear_alternation_options.polytope_backoff_scale = 0\n",
    "# number of threads used to solve this optimization.\n",
    "bilinear_alternation_options.num_threads = -1\n",
    "\n",
    "A = np.vstack([np.eye(plant.num_positions()),\n",
    "               - np.eye(plant.num_positions())])\n",
    "b = 1e-3*np.ones(A.shape[0])\n",
    "certified_region_final_solution, polytope_volumes, ellipsoid_determinants = cspace_free_region_certifier.CspacePolytopeBilinearAlternation(q_star,\n",
    "                                                                 filtered_collision_pairs,\n",
    "                                                                 A,\n",
    "                                                                 # it is helpful to pullback the solution of the previous step a little bit\n",
    "                                                                 b,\n",
    "                                                                 bilinear_alternation_options, \n",
    "                                                                 solver_options,\n",
    "                                                                 seed_point)\n",
    "final_certified_region = HPolyhedron(certified_region_final_solution.C, certified_region_final_solution.d)\n",
    "if do_viz:\n",
    "    visualizer.plot_regions([final_certified_region], ellipses=None,\n",
    "                            region_suffix='_certified_region_final')"
   ]
  },
  {
   "cell_type": "markdown",
   "metadata": {},
   "source": [
    "## Visualizing the separating planes\n",
    "Our certificate of non-collision for a given region contains one parametric, separating hyperplane per collision pair. In this scene, there are 137 pairs of objects which could collide. We plot two planes of interest. After running this cell, you can move the plant with the slider and see how the planes move as function of the configuration."
   ]
  },
  {
   "cell_type": "code",
   "execution_count": null,
   "metadata": {},
   "outputs": [],
   "source": [
    "oneDOF_iiwa_end_gid = iiwa_oneDOF_gids[-1]\n",
    "twoDOF_iiwa_end_gid = iiwa_twoDOF_gids[-1]\n",
    "twoDOF_iiwa_base_gid = iiwa_twoDOF_gids[0]\n",
    "id_pairs_of_interest = [(oneDOF_iiwa_end_gid, twoDOF_iiwa_end_gid),\n",
    "                        (oneDOF_iiwa_end_gid, twoDOF_iiwa_base_gid)]\n",
    "\n",
    "            \n",
    "visualizer.collision_pairs_of_interest = id_pairs_of_interest\n",
    "visualizer.certified_region_solution_list = [certified_region_final_solution]"
   ]
  }
 ],
 "metadata": {
  "interpreter": {
   "hash": "916dbcbb3f70747c44a77c7bcd40155683ae19c65e1c03b4aa3499c5328201f1"
  },
  "kernelspec": {
   "display_name": "Python 3",
   "language": "python",
   "name": "python3"
  },
  "language_info": {
   "codemirror_mode": {
    "name": "ipython",
    "version": 3
   },
   "file_extension": ".py",
   "mimetype": "text/x-python",
   "name": "python",
   "nbconvert_exporter": "python",
   "pygments_lexer": "ipython3",
   "version": "3.8.10"
  }
 },
 "nbformat": 4,
 "nbformat_minor": 2
}
