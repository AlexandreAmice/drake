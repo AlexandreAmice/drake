{
 "cells": [
  {
   "cell_type": "code",
   "execution_count": 1,
   "metadata": {},
   "outputs": [],
   "source": [
    "%load_ext autoreload"
   ]
  },
  {
   "cell_type": "code",
   "execution_count": 2,
   "metadata": {},
   "outputs": [],
   "source": [
    "import numpy as np\n",
    "from functools import partial\n",
    "import visualization_utils as viz_utils\n",
    "from iris_plant_visualizer import IrisPlantVisualizer\n",
    "import ipywidgets as widgets\n",
    "from IPython.display import display\n",
    "from scipy.linalg import block_diag\n",
    "import matplotlib.pyplot as plt\n",
    "from pathlib import Path\n",
    "import os"
   ]
  },
  {
   "cell_type": "code",
   "execution_count": 3,
   "metadata": {},
   "outputs": [],
   "source": [
    "#pydrake imports\n",
    "from pydrake.common import FindResourceOrThrow\n",
    "from pydrake.multibody.parsing import Parser\n",
    "from pydrake.multibody.plant import AddMultibodyPlantSceneGraph\n",
    "from pydrake.systems.framework import DiagramBuilder\n",
    "from pydrake.geometry import Role, GeometrySet, CollisionFilterDeclaration\n",
    "from pydrake.all import RigidTransform, RollPitchYaw, RevoluteJoint\n",
    "from pydrake.all import RotationMatrix,MeshcatVisualizer, StartMeshcat\n",
    "import pydrake.symbolic as sym\n",
    "from pydrake.solvers import MosekSolver, CommonSolverOption, SolverOptions, ScsSolver\n",
    "from pydrake.all import PointCloud, PassThrough, InverseKinematics, Solve, FixedOffsetFrame, Sphere, Rgba\n",
    "\n",
    "import time\n",
    "\n",
    "from pydrake.all import RationalForwardKinematics\n",
    "from pydrake.geometry.optimization import HPolyhedron, Hyperellipsoid\n",
    "from pydrake.geometry.optimization_dev import CspaceFreePath\n"
   ]
  },
  {
   "cell_type": "code",
   "execution_count": 4,
   "metadata": {},
   "outputs": [],
   "source": [
    "# import logging\n",
    "# drake_logger = logging.getLogger(\"drake\")\n",
    "# drake_logger.setLevel(logging.DEBUG)"
   ]
  },
  {
   "cell_type": "markdown",
   "metadata": {},
   "source": [
    "# Build and set up the visualization the plant and the visualization of the C-space obstacle\n",
    "\n",
    "Note that running this cell multiple times will establish multiple meshcat instances which can fill up your memory. It is a good idea to call \"pkill -f meshcat\" from the command line before re-running this cell\n"
   ]
  },
  {
   "cell_type": "code",
   "execution_count": 5,
   "metadata": {},
   "outputs": [
    {
     "name": "stderr",
     "output_type": "stream",
     "text": [
      "INFO:drake:Meshcat listening for connections at http://localhost:7000\n"
     ]
    }
   ],
   "source": [
    "builder = DiagramBuilder()\n",
    "plant, scene_graph = AddMultibodyPlantSceneGraph(builder, time_step=0.001)\n",
    "model_file = FindResourceOrThrow(\"drake/manipulation/models/iiwa_description/iiwa7/iiwa7_with_box_collision.sdf\")\n",
    "box_file = FindResourceOrThrow(\"drake/C_Iris_Examples/assets/shelves.sdf\")\n",
    "\n",
    "\n",
    "parser = Parser(plant)\n",
    "\n",
    "\n",
    "models = []\n",
    "models.append(Parser(plant, scene_graph).AddModelFromFile(model_file))\n",
    "models.append(Parser(plant, scene_graph).AddModelFromFile(box_file))\n",
    "\n",
    "sp = 0.0\n",
    "x_fac = 0.75\n",
    "locs = [ [0,0,0], \n",
    "        [x_fac, 1.4*sp,0.4], [x_fac,-1.4*sp,0.4], [-x_fac,-1.4*sp,0.4], [-x_fac,1.4,0.4], \n",
    "        [0.0 ,0 , 0.95], [0.0 ,0 , -0.05]] \n",
    "idx = 0\n",
    "for model in models:\n",
    "    plant.WeldFrames(plant.world_frame(), plant.get_body(plant.GetBodyIndices(model)[0]).body_frame(),\n",
    "                     RigidTransform(locs[idx]))\n",
    "    idx +=1\n",
    "\n",
    "end_effector_frame = plant.GetBodyByName(\"iiwa_link_7\").body_frame()\n",
    "desired_frame = plant.AddFrame(\n",
    "    FixedOffsetFrame(\"desired_pos_frame\", \n",
    "                     end_effector_frame, \n",
    "                     RigidTransform(p=np.array([0,0,0.1]))\n",
    "                    )\n",
    ")\n",
    "\n",
    "plant.Finalize()\n",
    "\n",
    "\n",
    "        \n",
    "# construct the RationalForwardKinematics of this plant. This object handles the\n",
    "# computations for the forward kinematics in the tangent-configuration space\n",
    "Ratfk = RationalForwardKinematics(plant)\n",
    "\n",
    "# the point about which we will take the stereographic projections\n",
    "q_star = np.zeros(plant.num_positions())\n",
    "\n",
    "do_viz = True\n",
    "\n",
    "meshcat = StartMeshcat()\n",
    "meshcat.Delete()\n",
    "visualizer = MeshcatVisualizer.AddToBuilder(\n",
    "    builder, scene_graph, meshcat)\n",
    "diagram = builder.Build()\n",
    "diagram_context = diagram.CreateDefaultContext()\n",
    "plant_context = diagram.GetMutableSubsystemContext(plant, diagram_context)\n",
    "diagram.ForcedPublish(diagram_context)"
   ]
  },
  {
   "cell_type": "code",
   "execution_count": 10,
   "metadata": {},
   "outputs": [],
   "source": [
    "ik = InverseKinematics(plant, plant_context, with_joint_limits = True)\n",
    "q0 = plant.GetPositions(plant_context)\n",
    "# collision_constraint = ik.AddMinimumDistanceConstraint(\n",
    "#             1e-5, 1e-5)\n",
    "\n",
    "cur_pos = desired_frame.CalcPoseInWorld(plant_context).translation()\n",
    "\n",
    "eps = 1e-8\n",
    "pos_constraint = ik.AddPositionConstraint(end_effector_frame, \n",
    "                                            np.zeros(3),\n",
    "                                            plant.world_frame(),\n",
    "                                            cur_pos - eps*np.ones(3),\n",
    "                                            cur_pos + eps*np.ones(3))"
   ]
  },
  {
   "cell_type": "code",
   "execution_count": 11,
   "metadata": {},
   "outputs": [],
   "source": [
    "from pydrake.all import Sphere, Rgba\n",
    "sphere = Sphere(0.03)\n",
    "meshcat.SetObject(\"desired_xyz\", sphere, Rgba(0,1,0,1))\n",
    "meshcat.SetTransform(\"desired_xyz\", RigidTransform(p=cur_pos))"
   ]
  },
  {
   "cell_type": "markdown",
   "metadata": {},
   "source": [
    "## Set up the sliders so we can move the plant around manually"
   ]
  },
  {
   "cell_type": "code",
   "execution_count": 24,
   "metadata": {
    "scrolled": false
   },
   "outputs": [
    {
     "data": {
      "application/vnd.jupyter.widget-view+json": {
       "model_id": "96920d977e5f41a983e3ed110498409b",
       "version_major": 2,
       "version_minor": 0
      },
      "text/plain": [
       "FloatSlider(value=0.6682208150872613, description='x', max=1.0, min=-1.0)"
      ]
     },
     "metadata": {},
     "output_type": "display_data"
    },
    {
     "data": {
      "application/vnd.jupyter.widget-view+json": {
       "model_id": "3af698c27ef44a50892a08db066f8f81",
       "version_major": 2,
       "version_minor": 0
      },
      "text/plain": [
       "FloatSlider(value=0.6988683108855629, description='y', max=1.0, min=-1.0)"
      ]
     },
     "metadata": {},
     "output_type": "display_data"
    },
    {
     "data": {
      "application/vnd.jupyter.widget-view+json": {
       "model_id": "5847a98082c74d0993cfbfaf2daf7238",
       "version_major": 2,
       "version_minor": 0
      },
      "text/plain": [
       "FloatSlider(value=0.1840254771050766, description='z', max=1.5)"
      ]
     },
     "metadata": {},
     "output_type": "display_data"
    },
    {
     "data": {
      "application/vnd.jupyter.widget-view+json": {
       "model_id": "98b1f6167dd14f82909a529d07fca5dd",
       "version_major": 2,
       "version_minor": 0
      },
      "text/plain": [
       "FloatSlider(value=2.22, description='q0', max=2.96706, min=-2.96706)"
      ]
     },
     "metadata": {},
     "output_type": "display_data"
    },
    {
     "data": {
      "application/vnd.jupyter.widget-view+json": {
       "model_id": "44672acbb5a24ce0b2480838ab76a7b3",
       "version_major": 2,
       "version_minor": 0
      },
      "text/plain": [
       "FloatSlider(value=-2.09, description='q1', max=2.0944, min=-2.0944)"
      ]
     },
     "metadata": {},
     "output_type": "display_data"
    },
    {
     "data": {
      "application/vnd.jupyter.widget-view+json": {
       "model_id": "a631222c0c074733a3fc49c0e59d5412",
       "version_major": 2,
       "version_minor": 0
      },
      "text/plain": [
       "FloatSlider(value=-1.61, description='q2', max=2.96706, min=-2.96706)"
      ]
     },
     "metadata": {},
     "output_type": "display_data"
    },
    {
     "data": {
      "application/vnd.jupyter.widget-view+json": {
       "model_id": "86c9e04a33a641d98a28e1eb351be810",
       "version_major": 2,
       "version_minor": 0
      },
      "text/plain": [
       "FloatSlider(value=-1.61, description='q3', max=2.0944, min=-2.0944)"
      ]
     },
     "metadata": {},
     "output_type": "display_data"
    },
    {
     "data": {
      "application/vnd.jupyter.widget-view+json": {
       "model_id": "2e10aeea6ead4a5f9fd5c56c70664f1c",
       "version_major": 2,
       "version_minor": 0
      },
      "text/plain": [
       "FloatSlider(value=-2.87, description='q4', max=2.96706, min=-2.96706)"
      ]
     },
     "metadata": {},
     "output_type": "display_data"
    },
    {
     "data": {
      "application/vnd.jupyter.widget-view+json": {
       "model_id": "b04a1c642a374bba91b80174e553d8c4",
       "version_major": 2,
       "version_minor": 0
      },
      "text/plain": [
       "FloatSlider(value=0.64, description='q5', max=2.0944, min=-2.0944)"
      ]
     },
     "metadata": {},
     "output_type": "display_data"
    },
    {
     "data": {
      "application/vnd.jupyter.widget-view+json": {
       "model_id": "3544946857374e31aeaece683f8f63d4",
       "version_major": 2,
       "version_minor": 0
      },
      "text/plain": [
       "FloatSlider(value=3.05, description='q6', max=3.05433, min=-3.05433)"
      ]
     },
     "metadata": {},
     "output_type": "display_data"
    }
   ],
   "source": [
    "pos_sliders = []\n",
    "pos_low = [-1, -1, 0]\n",
    "pos_high = [1, 1, 1.5]\n",
    "names = [\"x\", \"y\", \"z\"]\n",
    "for i in range(3):\n",
    "    pos_sliders.append(\n",
    "        widgets.FloatSlider(\n",
    "            min = pos_low[i], \n",
    "            max = pos_high[i], \n",
    "            value = cur_pos[i], \n",
    "            description = names[i]\n",
    "        )\n",
    "    )\n",
    "\n",
    "joint_sliders = []\n",
    "q0 = np.array([2.22, -2.09, -1.61, -1.61, -2.87,  0.64,  3.05])\n",
    "plant.SetPositions(plant_context, q0)\n",
    "for i in range(plant.num_positions()):\n",
    "    joint_sliders.append(widgets.FloatSlider(min=plant.GetPositionLowerLimits()[i],\n",
    "                                       max=plant.GetPositionUpperLimits()[i], \n",
    "                                       value=q0[i], description=f'q{i}'))\n",
    "\n",
    "xyz = desired_frame.CalcPoseInWorld(plant_context).translation().copy()\n",
    "q = plant.GetPositions(plant_context).copy()\n",
    "def handle_pos_slider_change(change, idx):\n",
    "    xyz[idx] = change[\"new\"]\n",
    "\n",
    "\n",
    "    ik.get_mutable_prog().SetInitialGuess(ik.q(),plant.GetPositions(plant_context))\n",
    "    pos_constraint.evaluator().UpdateLowerBound(xyz - eps*np.ones(3))\n",
    "    pos_constraint.evaluator().UpdateUpperBound(xyz + eps*np.ones(3))\n",
    "\n",
    "    result = Solve(ik.prog())\n",
    "    q = result.GetSolution(ik.q())\n",
    "\n",
    "    plant.SetPositions(plant_context, q)\n",
    "    diagram.ForcedPublish(diagram_context)\n",
    "    meshcat.SetTransform(\"desired_xyz\", RigidTransform(p=xyz))\n",
    "    \n",
    "def handle_joint_slider_change(change, idx):\n",
    "    q[idx] = change['new']\n",
    "    plant.SetPositions(plant_context, q)\n",
    "    meshcat.SetTransform(\"desired_xyz\", RigidTransform(p=desired_frame.CalcPoseInWorld(plant_context).translation()))\n",
    "    diagram.ForcedPublish(diagram_context)\n",
    "    \n",
    "    \n",
    "for idx,slider in enumerate(pos_sliders):\n",
    "    slider.observe(partial(handle_pos_slider_change, idx = idx), names='value')\n",
    "    \n",
    "for idx,slider in enumerate(joint_sliders):\n",
    "    slider.observe(partial(handle_joint_slider_change, idx = idx), names='value')\n",
    "\n",
    "for slider in pos_sliders+joint_sliders:\n",
    "    display(slider)\n",
    "\n",
    "\n",
    "# visualizer.jupyter_cell()"
   ]
  },
  {
   "cell_type": "code",
   "execution_count": 20,
   "metadata": {},
   "outputs": [],
   "source": [
    "plant.SetPositions(plant_context,\n",
    "                    np.array(\n",
    "            [2.22, -2.09, -1.61, -1.61, -2.87,  0.64,  3.05])\n",
    "                  )\n",
    "diagram.ForcedPublish(diagram_context)"
   ]
  },
  {
   "cell_type": "code",
   "execution_count": 18,
   "metadata": {},
   "outputs": [
    {
     "name": "stdout",
     "output_type": "stream",
     "text": [
      "array([ 0.33,  0.41, -0.17, -1.79,  1.13, -0.49,  3.05])\n"
     ]
    }
   ],
   "source": [
    "print(repr(np.round(plant.GetPositions(plant_context), 2)))"
   ]
  }
 ],
 "metadata": {
  "interpreter": {
   "hash": "31f2aee4e71d21fbe5cf8b01ff0e069b9275f58929596ceb00d14d90e3e16cd6"
  },
  "kernelspec": {
   "display_name": "Python 3 (ipykernel)",
   "language": "python",
   "name": "python3"
  },
  "language_info": {
   "codemirror_mode": {
    "name": "ipython",
    "version": 3
   },
   "file_extension": ".py",
   "mimetype": "text/x-python",
   "name": "python",
   "nbconvert_exporter": "python",
   "pygments_lexer": "ipython3",
   "version": "3.10.12"
  }
 },
 "nbformat": 4,
 "nbformat_minor": 2
}
