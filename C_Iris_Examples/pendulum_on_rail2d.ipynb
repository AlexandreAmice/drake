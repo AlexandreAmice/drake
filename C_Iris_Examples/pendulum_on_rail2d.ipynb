{
 "cells": [
  {
   "cell_type": "code",
   "execution_count": 1,
   "metadata": {},
   "outputs": [],
   "source": [
    "%load_ext autoreload"
   ]
  },
  {
   "cell_type": "code",
   "execution_count": 2,
   "metadata": {},
   "outputs": [],
   "source": [
    "import numpy as np\n",
    "from functools import partial\n",
    "from iris_plant_visualizer import IrisPlantVisualizer\n",
    "import ipywidgets as widgets\n",
    "from IPython.display import display\n",
    "from scipy.linalg import block_diag"
   ]
  },
  {
   "cell_type": "code",
   "execution_count": 3,
   "metadata": {},
   "outputs": [],
   "source": [
    "#pydrake imports\n",
    "from pydrake.common import FindResourceOrThrow\n",
    "from pydrake.multibody.parsing import LoadModelDirectives, Parser, ProcessModelDirectives\n",
    "from pydrake.multibody.plant import AddMultibodyPlantSceneGraph\n",
    "from pydrake.systems.framework import DiagramBuilder\n",
    "from pydrake.geometry import Role, GeometrySet, CollisionFilterDeclaration\n",
    "from pydrake.all import RigidTransform, RollPitchYaw, RevoluteJoint\n",
    "from pydrake.all import RotationMatrix, Rgba\n",
    "import time\n",
    "import pydrake.multibody.rational as rational_forward_kinematics\n",
    "from pydrake.all import RationalForwardKinematics\n",
    "from pydrake.all import GeometrySet, CollisionFilterDeclaration, CollisionFilterManager\n",
    "from pydrake.geometry.optimization import IrisOptions, IrisInRationalConfigurationSpace, HPolyhedron, Hyperellipsoid\n",
    "from pydrake.solvers import MosekSolver, CommonSolverOption, SolverOptions"
   ]
  },
  {
   "cell_type": "code",
   "execution_count": 4,
   "metadata": {},
   "outputs": [],
   "source": [
    "from pydrake.geometry.optimization_dev import (CspaceFreePolytope, \n",
    "                                               SeparatingPlaneOrder)"
   ]
  },
  {
   "cell_type": "markdown",
   "metadata": {},
   "source": [
    "# Build and set up the visualization the plant and the visualization of the C-space obstacle\n",
    "\n",
    "We first set up a simple 2-DOF system and visualize both the plant and the configuration constraint.Click on the two links at the bottom to view the plant and the configuration space.\n",
    "\n",
    "Note that running this cell multiple times will establish multiple meshcat instances which can fill up your memory. It is a good idea to call \"pkill -f meshcat\" from the command line before re-running this cell\n"
   ]
  },
  {
   "cell_type": "code",
   "execution_count": 5,
   "metadata": {},
   "outputs": [
    {
     "name": "stderr",
     "output_type": "stream",
     "text": [
      "WARNING:drake:/home/amice/.cache/bazel/_bazel_amice/32fdbbecfa8a7ce8feece95e48c42006/execroot/drake/bazel-out/k8-opt/bin/C_Iris_Examples/pendulum_on_rail2d.runfiles/drake/C_Iris_Examples/assets/2dof_iiwa_translating_base.sdf:454: warning: Ignoring unsupported SDFormat element in model: plugin\n",
      "WARNING:drake:/home/amice/.cache/bazel/_bazel_amice/32fdbbecfa8a7ce8feece95e48c42006/execroot/drake/bazel-out/k8-opt/bin/C_Iris_Examples/pendulum_on_rail2d.runfiles/drake/C_Iris_Examples/assets/2dof_iiwa_translating_base.sdf:39: warning: Ignoring unsupported SDFormat element in link: velocity_decay\n",
      "WARNING:drake:/home/amice/.cache/bazel/_bazel_amice/32fdbbecfa8a7ce8feece95e48c42006/execroot/drake/bazel-out/k8-opt/bin/C_Iris_Examples/pendulum_on_rail2d.runfiles/drake/C_Iris_Examples/assets/2dof_iiwa_translating_base.sdf:40: warning: Ignoring unsupported SDFormat element in link: self_collide\n",
      "WARNING:drake:/home/amice/.cache/bazel/_bazel_amice/32fdbbecfa8a7ce8feece95e48c42006/execroot/drake/bazel-out/k8-opt/bin/C_Iris_Examples/pendulum_on_rail2d.runfiles/drake/C_Iris_Examples/assets/2dof_iiwa_translating_base.sdf:95: warning: Ignoring unsupported SDFormat element in link: velocity_decay\n",
      "WARNING:drake:/home/amice/.cache/bazel/_bazel_amice/32fdbbecfa8a7ce8feece95e48c42006/execroot/drake/bazel-out/k8-opt/bin/C_Iris_Examples/pendulum_on_rail2d.runfiles/drake/C_Iris_Examples/assets/2dof_iiwa_translating_base.sdf:96: warning: Ignoring unsupported SDFormat element in link: self_collide\n",
      "WARNING:drake:/home/amice/.cache/bazel/_bazel_amice/32fdbbecfa8a7ce8feece95e48c42006/execroot/drake/bazel-out/k8-opt/bin/C_Iris_Examples/pendulum_on_rail2d.runfiles/drake/C_Iris_Examples/assets/2dof_iiwa_translating_base.sdf:151: warning: Ignoring unsupported SDFormat element in link: velocity_decay\n",
      "WARNING:drake:/home/amice/.cache/bazel/_bazel_amice/32fdbbecfa8a7ce8feece95e48c42006/execroot/drake/bazel-out/k8-opt/bin/C_Iris_Examples/pendulum_on_rail2d.runfiles/drake/C_Iris_Examples/assets/2dof_iiwa_translating_base.sdf:152: warning: Ignoring unsupported SDFormat element in link: self_collide\n",
      "WARNING:drake:/home/amice/.cache/bazel/_bazel_amice/32fdbbecfa8a7ce8feece95e48c42006/execroot/drake/bazel-out/k8-opt/bin/C_Iris_Examples/pendulum_on_rail2d.runfiles/drake/C_Iris_Examples/assets/2dof_iiwa_translating_base.sdf:207: warning: Ignoring unsupported SDFormat element in link: velocity_decay\n",
      "WARNING:drake:/home/amice/.cache/bazel/_bazel_amice/32fdbbecfa8a7ce8feece95e48c42006/execroot/drake/bazel-out/k8-opt/bin/C_Iris_Examples/pendulum_on_rail2d.runfiles/drake/C_Iris_Examples/assets/2dof_iiwa_translating_base.sdf:208: warning: Ignoring unsupported SDFormat element in link: self_collide\n",
      "WARNING:drake:/home/amice/.cache/bazel/_bazel_amice/32fdbbecfa8a7ce8feece95e48c42006/execroot/drake/bazel-out/k8-opt/bin/C_Iris_Examples/pendulum_on_rail2d.runfiles/drake/C_Iris_Examples/assets/2dof_iiwa_translating_base.sdf:263: warning: Ignoring unsupported SDFormat element in link: velocity_decay\n",
      "WARNING:drake:/home/amice/.cache/bazel/_bazel_amice/32fdbbecfa8a7ce8feece95e48c42006/execroot/drake/bazel-out/k8-opt/bin/C_Iris_Examples/pendulum_on_rail2d.runfiles/drake/C_Iris_Examples/assets/2dof_iiwa_translating_base.sdf:264: warning: Ignoring unsupported SDFormat element in link: self_collide\n",
      "WARNING:drake:/home/amice/.cache/bazel/_bazel_amice/32fdbbecfa8a7ce8feece95e48c42006/execroot/drake/bazel-out/k8-opt/bin/C_Iris_Examples/pendulum_on_rail2d.runfiles/drake/C_Iris_Examples/assets/2dof_iiwa_translating_base.sdf:319: warning: Ignoring unsupported SDFormat element in link: velocity_decay\n",
      "WARNING:drake:/home/amice/.cache/bazel/_bazel_amice/32fdbbecfa8a7ce8feece95e48c42006/execroot/drake/bazel-out/k8-opt/bin/C_Iris_Examples/pendulum_on_rail2d.runfiles/drake/C_Iris_Examples/assets/2dof_iiwa_translating_base.sdf:320: warning: Ignoring unsupported SDFormat element in link: self_collide\n",
      "WARNING:drake:/home/amice/.cache/bazel/_bazel_amice/32fdbbecfa8a7ce8feece95e48c42006/execroot/drake/bazel-out/k8-opt/bin/C_Iris_Examples/pendulum_on_rail2d.runfiles/drake/C_Iris_Examples/assets/2dof_iiwa_translating_base.sdf:375: warning: Ignoring unsupported SDFormat element in link: velocity_decay\n",
      "WARNING:drake:/home/amice/.cache/bazel/_bazel_amice/32fdbbecfa8a7ce8feece95e48c42006/execroot/drake/bazel-out/k8-opt/bin/C_Iris_Examples/pendulum_on_rail2d.runfiles/drake/C_Iris_Examples/assets/2dof_iiwa_translating_base.sdf:376: warning: Ignoring unsupported SDFormat element in link: self_collide\n",
      "WARNING:drake:/home/amice/.cache/bazel/_bazel_amice/32fdbbecfa8a7ce8feece95e48c42006/execroot/drake/bazel-out/k8-opt/bin/C_Iris_Examples/pendulum_on_rail2d.runfiles/drake/C_Iris_Examples/assets/2dof_iiwa_translating_base.sdf:431: warning: Ignoring unsupported SDFormat element in link: velocity_decay\n",
      "WARNING:drake:/home/amice/.cache/bazel/_bazel_amice/32fdbbecfa8a7ce8feece95e48c42006/execroot/drake/bazel-out/k8-opt/bin/C_Iris_Examples/pendulum_on_rail2d.runfiles/drake/C_Iris_Examples/assets/2dof_iiwa_translating_base.sdf:432: warning: Ignoring unsupported SDFormat element in link: self_collide\n",
      "INFO:drake:Meshcat listening for connections at http://localhost:7000\n",
      "INFO:drake:Meshcat listening for connections at http://localhost:7001\n"
     ]
    }
   ],
   "source": [
    "#construct our robot\n",
    "builder = DiagramBuilder()\n",
    "plant, scene_graph = AddMultibodyPlantSceneGraph(builder, time_step=1e-4)\n",
    "collision_filter_manager = scene_graph.collision_filter_manager()\n",
    "inspector = scene_graph.model_inspector()\n",
    "\n",
    "parser = Parser(plant)\n",
    "directives_file = FindResourceOrThrow(\"drake/C_Iris_Examples/directives/trans2dof_directives.yaml\") \n",
    "directives = LoadModelDirectives(directives_file)\n",
    "models = ProcessModelDirectives(directives, plant, parser)\n",
    "\n",
    "# Exclude the base of the iiwa from collision with the box\n",
    "iiwa_base_name = \"iiwa_twoDOF_link_0\"\n",
    "box_base_name = \"box1\"\n",
    "def GetCollisionGeometriesByName(name):\n",
    "    body = plant.GetBodyByName(name)\n",
    "    return plant.GetCollisionGeometriesForBody(body)\n",
    "iiwa_base_geom_set = GeometrySet()\n",
    "iiwa_base_geom_set.Add(GetCollisionGeometriesByName(iiwa_base_name))\n",
    "box_base_geom_set = GeometrySet()\n",
    "box_base_geom_set.Add(GetCollisionGeometriesByName(box_base_name))\n",
    "\n",
    "collision_filter_manager.Apply(\n",
    "    CollisionFilterDeclaration().ExcludeBetween(iiwa_base_geom_set, box_base_geom_set)\n",
    ")\n",
    "plant.Finalize()\n",
    "\n",
    "        \n",
    "# construct the RationalForwardKinematics of this plant. This object handles the\n",
    "# computations for the forward kinematics in the tangent-configuration space\n",
    "Ratfk = RationalForwardKinematics(plant)\n",
    "\n",
    "# the point about which we will take the stereographic projections\n",
    "q_star = np.zeros(plant.num_positions())\n",
    "\n",
    "do_viz = True\n",
    "\n",
    "# The object we will use to perform our certification.\n",
    "cspace_free_polytope = CspaceFreePolytope(plant, scene_graph, SeparatingPlaneOrder.kAffine, q_star)\n",
    "\n",
    "# This line builds the visualization. Change the viz_role to Role.kIllustration if you\n",
    "# want to see the plant with its illustrated geometry or to Role.kProximity if you want\n",
    "# to see the plant with the collision geometries.\n",
    "visualizer = IrisPlantVisualizer(plant, builder, scene_graph, cspace_free_polytope, viz_role=Role.kIllustration)\n",
    "visualizer.visualize_collision_constraint(factor = 1.5, num_points = 100)\n",
    "visualizer.meshcat_cspace.Set2dRenderMode(RigidTransform(RotationMatrix.MakeZRotation(0), np.array([0,0,1])))\n",
    "visualizer.meshcat_task_space.Set2dRenderMode(RigidTransform(RotationMatrix.MakeZRotation(0), np.array([1,0,0])))"
   ]
  },
  {
   "cell_type": "markdown",
   "metadata": {},
   "source": [
    "## Set up the sliders so we can move the plant around manually\n",
    "\n",
    "You can use the sliders below to move the two degrees of freedom of the plant around. A green dot will appear in the TC-space visualization describing the current TC-space configuration."
   ]
  },
  {
   "cell_type": "code",
   "execution_count": 6,
   "metadata": {
    "scrolled": false
   },
   "outputs": [
    {
     "data": {
      "application/vnd.jupyter.widget-view+json": {
       "model_id": "5b48622cdc17436c8d882feac4465b19",
       "version_major": 2,
       "version_minor": 0
      },
      "text/plain": [
       "FloatSlider(value=0.0, description='q0', max=0.96706, min=-0.96706)"
      ]
     },
     "metadata": {},
     "output_type": "display_data"
    },
    {
     "data": {
      "application/vnd.jupyter.widget-view+json": {
       "model_id": "c91b76de785b4e72a712e7110e330eb5",
       "version_major": 2,
       "version_minor": 0
      },
      "text/plain": [
       "FloatSlider(value=0.0, description='q1', max=2.0944, min=-2.0944)"
      ]
     },
     "metadata": {},
     "output_type": "display_data"
    }
   ],
   "source": [
    "sliders = []\n",
    "for i in range(plant.num_positions()):\n",
    "    q_low = plant.GetPositionLowerLimits()[i]\n",
    "    q_high = plant.GetPositionUpperLimits()[i]\n",
    "    sliders.append(widgets.FloatSlider(min=q_low, max=q_high, value=0, description=f\"q{i}\"))\n",
    "\n",
    "q = np.zeros(plant.num_positions())\n",
    "def handle_slider_change(change, idx):\n",
    "    q[idx] = change['new']\n",
    "    visualizer.show_res_q(q)\n",
    "    \n",
    "idx = 0\n",
    "for slider in sliders:\n",
    "    slider.observe(partial(handle_slider_change, idx = idx), names='value')\n",
    "    idx+=1\n",
    "\n",
    "for slider in sliders:\n",
    "    display(slider)\n"
   ]
  },
  {
   "cell_type": "markdown",
   "metadata": {},
   "source": [
    "# Generate and Certify Regions\n",
    "\n",
    "Around some nominal seed postures, we will grow certified regions by seeding our alternation algorithm using a small initial polytope."
   ]
  },
  {
   "cell_type": "code",
   "execution_count": 7,
   "metadata": {},
   "outputs": [],
   "source": [
    "# Some seedpoints\n",
    "seed_points_q = np.array([[-0.07, 1.81],\n",
    "                          [0.03, -1.79],\n",
    "#                           [0.43, -1.69]\n",
    "                         ])\n",
    "seed_points = np.array([Ratfk.ComputeSValue(seed_points_q[idx], np.zeros((2,)))\\\n",
    "                        for idx in range(seed_points_q.shape[0])])\n",
    "if do_viz:\n",
    "    visualizer.plot_cspace_points(seed_points, \"/iris_seed_points\")\n",
    "    \n",
    "\n",
    "\n",
    "default_scale = 1e-2\n",
    "L1_ball = HPolyhedron.MakeL1Ball(2)\n",
    "Linf_ball = HPolyhedron.MakeBox(-np.ones(2), np.ones(2))\n",
    "\n",
    "template_C = np.vstack([L1_ball.A(), Linf_ball.A()])\n",
    "template_d = np.hstack([default_scale*L1_ball.b(), default_scale/np.sqrt(2)*Linf_ball.b()])\n",
    "\n",
    "\n",
    "def make_default_polytope_at_point(seed_point):\n",
    "    return HPolyhedron(template_C, template_d + template_C @ seed_point)\n",
    "\n",
    "\n",
    "# colors to plot the region. Chosen for color-blind compatibility\n",
    "colors_dict = {\n",
    "    0: (144,144,144),\n",
    "    1:(30,136,229), # bluish\n",
    "    2: (255, 193, 7), # gold\n",
    "    3: (0, 140, 6), # green    \n",
    "}\n",
    "\n",
    "initial_regions = [make_default_polytope_at_point(s) for s in seed_points]\n",
    "visualizer.add_group_of_regions_to_visualization(initial_regions, \"initial_regions\",\n",
    "                            colors = list(colors_dict.values()),\n",
    "                            wireframe = False,\n",
    "                           opacity = 0.2)\n",
    "visualizer.show_res_q(q_star)"
   ]
  },
  {
   "cell_type": "markdown",
   "metadata": {},
   "source": [
    "## First we set up some options for our different certification modes"
   ]
  },
  {
   "cell_type": "code",
   "execution_count": 8,
   "metadata": {},
   "outputs": [],
   "source": [
    "# set up the certifier and the options for different search techniques\n",
    "solver_options = SolverOptions()\n",
    "# set this to 1 if you would like to see the solver output in terminal.\n",
    "solver_options.SetOption(CommonSolverOption.kPrintToConsole, 0)\n",
    "\n",
    "# The options for when we search for new planes and positivity certificates given the polytopes\n",
    "find_separation_certificate_given_polytope_options = CspaceFreePolytope.FindSeparationCertificateGivenPolytopeOptions()\n",
    "find_separation_certificate_given_polytope_options.num_threads = -1\n",
    "find_separation_certificate_given_polytope_options.verbose = False\n",
    "find_separation_certificate_given_polytope_options.solver_options = solver_options\n",
    "find_separation_certificate_given_polytope_options.ignore_redundant_C = True\n",
    "\n",
    "# The options for when we search for a new polytope given positivity certificates.\n",
    "find_polytope_given_lagrangian_option = CspaceFreePolytope.FindPolytopeGivenLagrangianOptions()\n",
    "find_polytope_given_lagrangian_option.solver_options = solver_options\n",
    "find_polytope_given_lagrangian_option.ellipsoid_margin_cost = CspaceFreePolytope.EllipsoidMarginCost.kGeometricMean\n",
    "find_polytope_given_lagrangian_option.search_s_bounds_lagrangians = True\n",
    "\n",
    "bilinear_alternation_options = CspaceFreePolytope.BilinearAlternationOptions()\n",
    "bilinear_alternation_options.max_iter = 100\n",
    "bilinear_alternation_options.convergence_tol = 1e-4\n",
    "bilinear_alternation_options.find_polytope_options = find_polytope_given_lagrangian_option\n",
    "bilinear_alternation_options.find_lagrangian_options = find_separation_certificate_given_polytope_options\n",
    "\n",
    "binary_search_options = CspaceFreePolytope.BinarySearchOptions()\n",
    "binary_search_options.find_lagrangian_options = find_separation_certificate_given_polytope_options\n",
    "binary_search_options.scale_min = 1\n",
    "binary_search_options.scale_max = 50\n",
    "binary_search_options.max_iter = 50"
   ]
  },
  {
   "cell_type": "markdown",
   "metadata": {},
   "source": [
    "# Growing regions with bilinear alternations search\n",
    "\n",
    "### As the initial regions are fairly small, they won't contain collisions and so can be directly fed into the bilinear alternation algorithm."
   ]
  },
  {
   "cell_type": "code",
   "execution_count": 9,
   "metadata": {},
   "outputs": [
    {
     "name": "stderr",
     "output_type": "stream",
     "text": [
      "INFO:drake:det(Q) at the beginning is 4.900500230442336e-05\n",
      "INFO:drake:Iteration 0: det(Q)=0.0003673562538292721\n"
     ]
    },
    {
     "name": "stdout",
     "output_type": "stream",
     "text": [
      "starting seedpoint 1/2\n"
     ]
    },
    {
     "name": "stderr",
     "output_type": "stream",
     "text": [
      "INFO:drake:Iteration 1: det(Q)=0.0009141133082717236\n",
      "INFO:drake:Iteration 2: det(Q)=0.0016603489476269496\n",
      "INFO:drake:Iteration 3: det(Q)=0.002830904988217848\n",
      "INFO:drake:Iteration 4: det(Q)=0.004589376311225299\n",
      "INFO:drake:Iteration 5: det(Q)=0.0067442147507104245\n",
      "INFO:drake:Iteration 6: det(Q)=0.009515562768865664\n",
      "INFO:drake:Iteration 7: det(Q)=0.013240939832651344\n",
      "INFO:drake:Iteration 8: det(Q)=0.01797856788521609\n",
      "INFO:drake:Iteration 9: det(Q)=0.025808610320481495\n",
      "INFO:drake:Iteration 10: det(Q)=0.03490028643506505\n",
      "INFO:drake:Iteration 11: det(Q)=0.045183211993915874\n",
      "INFO:drake:Iteration 12: det(Q)=0.05735564233205553\n",
      "INFO:drake:Iteration 13: det(Q)=0.06546047779565303\n",
      "INFO:drake:Iteration 14: det(Q)=0.07333381743029892\n",
      "INFO:drake:Iteration 15: det(Q)=0.08112096702385971\n",
      "INFO:drake:Iteration 16: det(Q)=0.0890071901745668\n",
      "INFO:drake:Iteration 17: det(Q)=0.0963963720734065\n",
      "INFO:drake:Iteration 18: det(Q)=0.10346687727206952\n",
      "INFO:drake:Iteration 19: det(Q)=0.11018122020776905\n",
      "INFO:drake:Iteration 20: det(Q)=0.11655327247990459\n",
      "INFO:drake:Iteration 21: det(Q)=0.12255205020615852\n",
      "INFO:drake:Iteration 22: det(Q)=0.1281449285202505\n",
      "INFO:drake:Iteration 23: det(Q)=0.13326610995694188\n",
      "INFO:drake:Iteration 24: det(Q)=0.13793990556451982\n",
      "INFO:drake:Iteration 25: det(Q)=0.14218754294224611\n",
      "INFO:drake:Iteration 26: det(Q)=0.1460094642293158\n",
      "INFO:drake:Iteration 27: det(Q)=0.14944497708919602\n",
      "INFO:drake:Iteration 28: det(Q)=0.15255743306025443\n",
      "INFO:drake:Iteration 29: det(Q)=0.1554124747161058\n",
      "INFO:drake:Iteration 30: det(Q)=0.15802970696505395\n",
      "INFO:drake:Iteration 31: det(Q)=0.16045241463172127\n",
      "INFO:drake:Iteration 32: det(Q)=0.16263193907901016\n",
      "INFO:drake:Iteration 33: det(Q)=0.16451004149272344\n",
      "INFO:drake:Iteration 34: det(Q)=0.1661686610056683\n",
      "INFO:drake:Iteration 35: det(Q)=0.16762364985168082\n",
      "INFO:drake:Iteration 36: det(Q)=0.16889538998431705\n",
      "INFO:drake:Iteration 37: det(Q)=0.17000444242464158\n",
      "INFO:drake:Iteration 38: det(Q)=0.17095652941360462\n",
      "INFO:drake:Iteration 39: det(Q)=0.1717935007248963\n",
      "INFO:drake:Iteration 40: det(Q)=0.1725289221936846\n",
      "INFO:drake:Iteration 41: det(Q)=0.17317403248053276\n",
      "INFO:drake:Iteration 42: det(Q)=0.1737248761735226\n",
      "INFO:drake:Iteration 43: det(Q)=0.17421544478457057\n",
      "INFO:drake:Iteration 44: det(Q)=0.1746673558971199\n",
      "INFO:drake:Iteration 45: det(Q)=0.17508429197632355\n",
      "INFO:drake:Iteration 46: det(Q)=0.17546535889345935\n",
      "INFO:drake:Iteration 47: det(Q)=0.17581523128714716\n",
      "INFO:drake:Iteration 48: det(Q)=0.17613623013327456\n",
      "INFO:drake:Iteration 49: det(Q)=0.1764291154915698\n",
      "INFO:drake:Iteration 50: det(Q)=0.17669870966625223\n",
      "INFO:drake:Iteration 51: det(Q)=0.1769489285360551\n",
      "INFO:drake:Iteration 52: det(Q)=0.1771757287910453\n",
      "INFO:drake:Iteration 53: det(Q)=0.17738484761868067\n",
      "INFO:drake:Iteration 54: det(Q)=0.17757572939705582\n",
      "INFO:drake:Iteration 55: det(Q)=0.17775139383699046\n",
      "INFO:drake:Iteration 56: det(Q)=0.1779122296971889\n",
      "INFO:drake:Iteration 57: det(Q)=0.17805931172940656\n",
      "ERROR:drake:Cannot find the separation certificate at iteration 58 given the polytope.\n",
      "INFO:drake:det(Q) at the beginning is 4.900500235301549e-05\n",
      "INFO:drake:Iteration 0: det(Q)=0.0002716658511820212\n"
     ]
    },
    {
     "name": "stdout",
     "output_type": "stream",
     "text": [
      "starting seedpoint 2/2\n"
     ]
    },
    {
     "name": "stderr",
     "output_type": "stream",
     "text": [
      "INFO:drake:Iteration 1: det(Q)=0.0006288207260410793\n",
      "INFO:drake:Iteration 2: det(Q)=0.0011221874341041777\n",
      "INFO:drake:Iteration 3: det(Q)=0.0017457689497692918\n",
      "INFO:drake:Iteration 4: det(Q)=0.0026263322595550475\n",
      "INFO:drake:Iteration 5: det(Q)=0.004162219671490634\n",
      "INFO:drake:Iteration 6: det(Q)=0.006397704382179459\n",
      "INFO:drake:Iteration 7: det(Q)=0.01029285983876222\n",
      "INFO:drake:Iteration 8: det(Q)=0.01501463325175991\n",
      "INFO:drake:Iteration 9: det(Q)=0.021961703942430317\n",
      "INFO:drake:Iteration 10: det(Q)=0.03162363759915458\n",
      "INFO:drake:Iteration 11: det(Q)=0.047455525896536455\n",
      "INFO:drake:Iteration 12: det(Q)=0.0654294101597572\n",
      "INFO:drake:Iteration 13: det(Q)=0.08137362008555266\n",
      "INFO:drake:Iteration 14: det(Q)=0.09546765183637862\n",
      "INFO:drake:Iteration 15: det(Q)=0.10649972327947124\n",
      "INFO:drake:Iteration 16: det(Q)=0.11610694902204742\n",
      "INFO:drake:Iteration 17: det(Q)=0.12470597881354659\n",
      "INFO:drake:Iteration 18: det(Q)=0.13244894839606264\n",
      "INFO:drake:Iteration 19: det(Q)=0.13899620451347486\n",
      "INFO:drake:Iteration 20: det(Q)=0.14451343547373088\n",
      "INFO:drake:Iteration 21: det(Q)=0.14912071952493933\n",
      "INFO:drake:Iteration 22: det(Q)=0.15283324664161385\n",
      "INFO:drake:Iteration 23: det(Q)=0.15582355359301683\n",
      "INFO:drake:Iteration 24: det(Q)=0.15826714256716368\n",
      "INFO:drake:Iteration 25: det(Q)=0.16027986736023198\n",
      "INFO:drake:Iteration 26: det(Q)=0.1619695196779901\n",
      "INFO:drake:Iteration 27: det(Q)=0.16340643343489225\n",
      "INFO:drake:Iteration 28: det(Q)=0.16467080395145364\n",
      "INFO:drake:Iteration 29: det(Q)=0.1657909019026373\n",
      "INFO:drake:Iteration 30: det(Q)=0.16675755793728025\n",
      "INFO:drake:Iteration 31: det(Q)=0.16756899229094643\n",
      "INFO:drake:Iteration 32: det(Q)=0.16825824395183608\n",
      "INFO:drake:Iteration 33: det(Q)=0.1688536263887147\n",
      "INFO:drake:Iteration 34: det(Q)=0.16938758330006481\n",
      "INFO:drake:Iteration 35: det(Q)=0.16986264918157715\n",
      "INFO:drake:Iteration 36: det(Q)=0.1702909917806026\n",
      "INFO:drake:Iteration 37: det(Q)=0.17061496616657387\n",
      "INFO:drake:Iteration 38: det(Q)=0.17086867031332006\n",
      "INFO:drake:Iteration 39: det(Q)=0.17108757148164241\n",
      "INFO:drake:Iteration 40: det(Q)=0.17127856646282646\n",
      "INFO:drake:Iteration 41: det(Q)=0.1714466801172626\n",
      "INFO:drake:Iteration 42: det(Q)=0.17159679321929225\n",
      "INFO:drake:Iteration 43: det(Q)=0.1717321829833314\n",
      "INFO:drake:Iteration 44: det(Q)=0.17185555107718725\n",
      "INFO:drake:Iteration 45: det(Q)=0.17196836152424166\n",
      "INFO:drake:Iteration 46: det(Q)=0.17207348701529526\n",
      "INFO:drake:Iteration 47: det(Q)=0.17217215934016802\n"
     ]
    }
   ],
   "source": [
    "# We grow certified regions around each seedpoint using bilinear alternation.\n",
    "bilinear_alternation_results_by_seed_point = dict.fromkeys([tuple(s) for s in seed_points])\n",
    "for i, (s, initial_region) in enumerate(zip(seed_points, initial_regions)):\n",
    "    print(f\"starting seedpoint {i+1}/{len(initial_regions)}\")\n",
    "    bilinear_alternation_options.find_polytope_options.s_inner_pts = s\n",
    "    result = cspace_free_polytope.SearchWithBilinearAlternation(set(), initial_region.A(),\n",
    "                                                                initial_region.b(),\n",
    "                                                                bilinear_alternation_options)\n",
    "    bilinear_alternation_results_by_seed_point[tuple(s)] = [(HPolyhedron(cert.C, cert.d), cert) for cert in result]\n",
    "    \n",
    "\n"
   ]
  },
  {
   "cell_type": "code",
   "execution_count": 10,
   "metadata": {},
   "outputs": [],
   "source": [
    "# visualize the regions and corresponding certificates\n",
    "for i, result in enumerate(bilinear_alternation_results_by_seed_point.values()):\n",
    "    group_name = f\"/bil_alt_seed_point_{i}\"\n",
    "    visualizer.add_group_of_regions_and_certs_to_visualization(result, group_name, \n",
    "                                                               wireframe = False, opacity = 0.2)"
   ]
  },
  {
   "cell_type": "markdown",
   "metadata": {},
   "source": [
    "# Growing regions with binary search\n",
    "\n",
    "### While the bilinear alternation scheme has the flexibility to search for fairly flexible polytopes, it can be relatively slow. We can search for larger regions faster by uniformly growing our polytopes using binary search"
   ]
  },
  {
   "cell_type": "code",
   "execution_count": 11,
   "metadata": {},
   "outputs": [
    {
     "name": "stdout",
     "output_type": "stream",
     "text": [
      "starting seedpoint 1/2\n"
     ]
    },
    {
     "name": "stderr",
     "output_type": "stream",
     "text": [
      "INFO:drake:CspaceFreePolytope::BinarySearch(): scale=25.5 is infeasible\n",
      "INFO:drake:CspaceFreePolytope::BinarySearch(): scale=13.25 is feasible\n",
      "INFO:drake:CspaceFreePolytope::BinarySearch(): scale=19.375 is infeasible\n",
      "INFO:drake:CspaceFreePolytope::BinarySearch(): scale=16.3125 is infeasible\n",
      "INFO:drake:CspaceFreePolytope::BinarySearch(): scale=14.78125 is feasible\n",
      "INFO:drake:CspaceFreePolytope::BinarySearch(): scale=15.546875 is infeasible\n",
      "INFO:drake:CspaceFreePolytope::BinarySearch(): scale=15.1640625 is infeasible\n",
      "INFO:drake:CspaceFreePolytope::BinarySearch(): scale=14.97265625 is infeasible\n",
      "INFO:drake:CspaceFreePolytope::BinarySearch(): scale=14.876953125 is infeasible\n",
      "INFO:drake:CspaceFreePolytope::BinarySearch(): scale=14.8291015625 is infeasible\n",
      "INFO:drake:CspaceFreePolytope::BinarySearch(): scale=14.80517578125 is feasible\n",
      "INFO:drake:CspaceFreePolytope::BinarySearch(): scale=14.817138671875 is feasible\n",
      "INFO:drake:CspaceFreePolytope::BinarySearch(): scale=14.8231201171875 is feasible\n",
      "INFO:drake:CspaceFreePolytope::BinarySearch(): scale=14.82611083984375 is infeasible\n",
      "INFO:drake:CspaceFreePolytope::BinarySearch(): scale=14.824615478515625 is feasible\n",
      "INFO:drake:CspaceFreePolytope::BinarySearch(): scale=14.825363159179688 is infeasible\n"
     ]
    },
    {
     "name": "stdout",
     "output_type": "stream",
     "text": [
      "starting seedpoint 2/2\n"
     ]
    },
    {
     "name": "stderr",
     "output_type": "stream",
     "text": [
      "INFO:drake:CspaceFreePolytope::BinarySearch(): scale=25.5 is infeasible\n",
      "INFO:drake:CspaceFreePolytope::BinarySearch(): scale=13.25 is infeasible\n",
      "INFO:drake:CspaceFreePolytope::BinarySearch(): scale=7.125 is feasible\n",
      "INFO:drake:CspaceFreePolytope::BinarySearch(): scale=10.1875 is infeasible\n",
      "INFO:drake:CspaceFreePolytope::BinarySearch(): scale=8.65625 is feasible\n",
      "INFO:drake:CspaceFreePolytope::BinarySearch(): scale=9.421875 is infeasible\n",
      "INFO:drake:CspaceFreePolytope::BinarySearch(): scale=9.0390625 is infeasible\n",
      "INFO:drake:CspaceFreePolytope::BinarySearch(): scale=8.84765625 is feasible\n",
      "INFO:drake:CspaceFreePolytope::BinarySearch(): scale=8.943359375 is feasible\n",
      "INFO:drake:CspaceFreePolytope::BinarySearch(): scale=8.9912109375 is feasible\n",
      "INFO:drake:CspaceFreePolytope::BinarySearch(): scale=9.01513671875 is feasible\n",
      "INFO:drake:CspaceFreePolytope::BinarySearch(): scale=9.027099609375 is feasible\n",
      "INFO:drake:CspaceFreePolytope::BinarySearch(): scale=9.0330810546875 is infeasible\n",
      "INFO:drake:CspaceFreePolytope::BinarySearch(): scale=9.03009033203125 is feasible\n",
      "INFO:drake:CspaceFreePolytope::BinarySearch(): scale=9.031585693359375 is feasible\n",
      "INFO:drake:CspaceFreePolytope::BinarySearch(): scale=9.032333374023438 is feasible\n"
     ]
    }
   ],
   "source": [
    "# We grow certified regions around each seedpoint using binary search.\n",
    "binary_search_results_by_seed_point = dict.fromkeys([tuple(s) for s in seed_points])\n",
    "for i, (s, initial_region) in enumerate(zip(seed_points, initial_regions)):\n",
    "    print(f\"starting seedpoint {i+1}/{len(initial_regions)}\")\n",
    "    time.sleep(0.2)\n",
    "    cert = cspace_free_polytope.BinarySearch(set(),initial_region.A(),\n",
    "                                               initial_region.b(),s,binary_search_options)\n",
    "    binary_search_results_by_seed_point[tuple(s)] = [(HPolyhedron(cert.C, cert.d), cert)]\n",
    "                                                     \n"
   ]
  },
  {
   "cell_type": "code",
   "execution_count": 12,
   "metadata": {},
   "outputs": [],
   "source": [
    "# visualize the regions and corresponding certificates\n",
    "for i, result in enumerate(binary_search_results_by_seed_point.values()):\n",
    "    group_name = f\"/bin_search_seed_point_{i}\"\n",
    "    visualizer.add_group_of_regions_and_certs_to_visualization(result, group_name, \n",
    "                                                               wireframe = False, opacity = 0.2)"
   ]
  },
  {
   "cell_type": "markdown",
   "metadata": {},
   "source": [
    "## Combining Binary Search and Bilinear Alternation\n",
    "### Of course, we can get the best of both worlds by combining the two methods"
   ]
  },
  {
   "cell_type": "code",
   "execution_count": 13,
   "metadata": {},
   "outputs": [],
   "source": [
    "# we use this to back off a bit from the binary search results for numerical reasons\n",
    "def scale_polytope_about_point(hpoly, s, scale):\n",
    "    if not hpoly.PointInSet(s):\n",
    "        raise ValueError(f\"The point s must be in the HPolyhedron\")\n",
    "    b_scaled = scale * hpoly.b() + (1 - scale) * hpoly.A() @ s\n",
    "    return HPolyhedron(hpoly.A(), b_scaled)\n",
    "    "
   ]
  },
  {
   "cell_type": "code",
   "execution_count": 14,
   "metadata": {},
   "outputs": [
    {
     "name": "stdout",
     "output_type": "stream",
     "text": [
      "starting seedpoint 1/2\n"
     ]
    },
    {
     "name": "stderr",
     "output_type": "stream",
     "text": [
      "INFO:drake:det(Q) at the beginning is 0.0087235307259276\n",
      "INFO:drake:Iteration 0: det(Q)=0.012316640523059696\n",
      "INFO:drake:Iteration 1: det(Q)=0.018888853313718056\n",
      "INFO:drake:Iteration 2: det(Q)=0.026986471565249713\n",
      "INFO:drake:Iteration 3: det(Q)=0.03794103902214165\n",
      "INFO:drake:Iteration 4: det(Q)=0.05094013902312175\n",
      "INFO:drake:Iteration 5: det(Q)=0.06727335361609212\n",
      "INFO:drake:Iteration 6: det(Q)=0.08666119192659401\n",
      "INFO:drake:Iteration 7: det(Q)=0.10863018848812481\n",
      "INFO:drake:Iteration 8: det(Q)=0.13141075355551834\n",
      "INFO:drake:Iteration 9: det(Q)=0.15231042604061687\n",
      "INFO:drake:Iteration 10: det(Q)=0.1735621133245124\n",
      "INFO:drake:Iteration 11: det(Q)=0.19629739778985908\n",
      "INFO:drake:Iteration 12: det(Q)=0.21826639397597322\n",
      "INFO:drake:Iteration 13: det(Q)=0.23344066592297988\n",
      "INFO:drake:Iteration 14: det(Q)=0.24988507076435762\n",
      "INFO:drake:Iteration 15: det(Q)=0.26718675016780824\n",
      "INFO:drake:Iteration 16: det(Q)=0.2832159497211415\n",
      "INFO:drake:Iteration 17: det(Q)=0.2954982366901911\n",
      "INFO:drake:Iteration 18: det(Q)=0.3062229308768397\n",
      "INFO:drake:Iteration 19: det(Q)=0.3157876461295242\n",
      "INFO:drake:Iteration 20: det(Q)=0.32429575912488473\n",
      "INFO:drake:Iteration 21: det(Q)=0.33189679366373515\n",
      "INFO:drake:Iteration 22: det(Q)=0.33874155988119875\n",
      "INFO:drake:Iteration 23: det(Q)=0.3446703049166962\n",
      "INFO:drake:Iteration 24: det(Q)=0.3497375944483891\n",
      "INFO:drake:Iteration 25: det(Q)=0.35404055637247694\n",
      "INFO:drake:Iteration 26: det(Q)=0.3576308633455349\n",
      "INFO:drake:Iteration 27: det(Q)=0.36040501249279827\n",
      "INFO:drake:Iteration 28: det(Q)=0.363349351919872\n",
      "INFO:drake:Iteration 29: det(Q)=0.36624683578879136\n",
      "INFO:drake:Iteration 30: det(Q)=0.36883292866107964\n",
      "INFO:drake:Iteration 31: det(Q)=0.3711508838472695\n",
      "INFO:drake:Iteration 32: det(Q)=0.3733820108703851\n",
      "INFO:drake:Iteration 33: det(Q)=0.37541849305588\n",
      "INFO:drake:Iteration 34: det(Q)=0.3771902404199299\n",
      "INFO:drake:Iteration 35: det(Q)=0.37885681796026627\n",
      "INFO:drake:Iteration 36: det(Q)=0.3803538605641906\n",
      "INFO:drake:Iteration 37: det(Q)=0.38174158971347133\n",
      "INFO:drake:Iteration 38: det(Q)=0.3830020363868149\n",
      "INFO:drake:Iteration 39: det(Q)=0.3841477784430941\n",
      "INFO:drake:Iteration 40: det(Q)=0.38518867710146526\n",
      "INFO:drake:Iteration 41: det(Q)=0.3861418846881139\n",
      "INFO:drake:Iteration 42: det(Q)=0.3870241550389386\n",
      "INFO:drake:Iteration 43: det(Q)=0.38784496098172677\n",
      "INFO:drake:Iteration 44: det(Q)=0.38861625744421163\n",
      "INFO:drake:Iteration 45: det(Q)=0.38933619788553925\n",
      "INFO:drake:Iteration 46: det(Q)=0.3898767300491449\n",
      "INFO:drake:Iteration 47: det(Q)=0.39039394421407436\n",
      "INFO:drake:Iteration 48: det(Q)=0.3908779677460657\n",
      "INFO:drake:Iteration 49: det(Q)=0.39133244887593344\n",
      "INFO:drake:Iteration 50: det(Q)=0.39178144046606905\n",
      "INFO:drake:Iteration 51: det(Q)=0.39221453207368284\n",
      "INFO:drake:Iteration 52: det(Q)=0.39263004180759026\n",
      "INFO:drake:Iteration 53: det(Q)=0.3930275548262165\n",
      "INFO:drake:Iteration 54: det(Q)=0.39341004336657037\n",
      "INFO:drake:Iteration 55: det(Q)=0.3937782175284696\n",
      "INFO:drake:Iteration 56: det(Q)=0.39413198970957686\n",
      "INFO:drake:Iteration 57: det(Q)=0.39447202614667276\n",
      "INFO:drake:Iteration 58: det(Q)=0.39479320992708267\n",
      "INFO:drake:Iteration 59: det(Q)=0.3951019528081994\n",
      "INFO:drake:Iteration 60: det(Q)=0.39539503354591155\n",
      "INFO:drake:Iteration 61: det(Q)=0.3956732571659802\n",
      "INFO:drake:Iteration 62: det(Q)=0.3959358229313234\n",
      "INFO:drake:Iteration 63: det(Q)=0.39618489754880093\n",
      "INFO:drake:Iteration 64: det(Q)=0.39644685519018263\n",
      "INFO:drake:Iteration 65: det(Q)=0.39666862451821217\n",
      "WARNING:drake:Failed before backoff.\n",
      "ERROR:drake:Cannot find the separation certificate at iteration 66 given the Lagrangians.\n"
     ]
    },
    {
     "name": "stdout",
     "output_type": "stream",
     "text": [
      "starting seedpoint 2/2\n"
     ]
    },
    {
     "name": "stderr",
     "output_type": "stream",
     "text": [
      "INFO:drake:det(Q) at the beginning is 0.0032383615488816436\n",
      "INFO:drake:Iteration 0: det(Q)=0.00498943591008525\n",
      "INFO:drake:Iteration 1: det(Q)=0.007745849077641783\n",
      "INFO:drake:Iteration 2: det(Q)=0.011305791747938531\n",
      "INFO:drake:Iteration 3: det(Q)=0.01562780424466441\n",
      "INFO:drake:Iteration 4: det(Q)=0.02106072670730462\n",
      "INFO:drake:Iteration 5: det(Q)=0.02763241417941027\n",
      "INFO:drake:Iteration 6: det(Q)=0.036992538694202076\n",
      "INFO:drake:Iteration 7: det(Q)=0.04760116078672586\n",
      "INFO:drake:Iteration 8: det(Q)=0.05958593912984027\n",
      "INFO:drake:Iteration 9: det(Q)=0.0738873639119212\n",
      "INFO:drake:Iteration 10: det(Q)=0.08979147530369101\n",
      "INFO:drake:Iteration 11: det(Q)=0.10632391286773649\n",
      "INFO:drake:Iteration 12: det(Q)=0.1254426904426646\n",
      "INFO:drake:Iteration 13: det(Q)=0.1425245067632466\n",
      "INFO:drake:Iteration 14: det(Q)=0.15761919630482074\n",
      "INFO:drake:Iteration 15: det(Q)=0.16981247896787405\n",
      "INFO:drake:Iteration 16: det(Q)=0.1808264707933957\n",
      "INFO:drake:Iteration 17: det(Q)=0.19102450756124795\n",
      "INFO:drake:Iteration 18: det(Q)=0.19996475995137558\n",
      "INFO:drake:Iteration 19: det(Q)=0.20747987005373167\n",
      "INFO:drake:Iteration 20: det(Q)=0.21398580102041348\n",
      "INFO:drake:Iteration 21: det(Q)=0.21958063140098943\n",
      "INFO:drake:Iteration 22: det(Q)=0.22434157285291717\n",
      "INFO:drake:Iteration 23: det(Q)=0.22835262915420723\n",
      "INFO:drake:Iteration 24: det(Q)=0.231691781094056\n",
      "INFO:drake:Iteration 25: det(Q)=0.23448317493791943\n",
      "INFO:drake:Iteration 26: det(Q)=0.23687780188260624\n",
      "INFO:drake:Iteration 27: det(Q)=0.2389824437506192\n",
      "INFO:drake:Iteration 28: det(Q)=0.24084904578329014\n",
      "INFO:drake:Iteration 29: det(Q)=0.24271191958222843\n",
      "INFO:drake:Iteration 30: det(Q)=0.24458728407496372\n",
      "INFO:drake:Iteration 31: det(Q)=0.24634928726327596\n",
      "INFO:drake:Iteration 32: det(Q)=0.24796255054665767\n",
      "INFO:drake:Iteration 33: det(Q)=0.24943066054097746\n",
      "INFO:drake:Iteration 34: det(Q)=0.25076666563019384\n",
      "INFO:drake:Iteration 35: det(Q)=0.25197649452064486\n",
      "INFO:drake:Iteration 36: det(Q)=0.25306566850109424\n",
      "INFO:drake:Iteration 37: det(Q)=0.2540349627861183\n",
      "INFO:drake:Iteration 38: det(Q)=0.25490389828343385\n",
      "INFO:drake:Iteration 39: det(Q)=0.2556666183244751\n",
      "INFO:drake:Iteration 40: det(Q)=0.256349099349404\n",
      "INFO:drake:Iteration 41: det(Q)=0.25695690913606006\n",
      "INFO:drake:Iteration 42: det(Q)=0.25749492573430066\n",
      "INFO:drake:Iteration 43: det(Q)=0.25796621287808436\n",
      "INFO:drake:Iteration 44: det(Q)=0.2583812225114699\n",
      "INFO:drake:Iteration 45: det(Q)=0.25873969709322775\n",
      "INFO:drake:Iteration 46: det(Q)=0.2590491493655629\n",
      "INFO:drake:Iteration 47: det(Q)=0.25931606341614666\n",
      "INFO:drake:Iteration 48: det(Q)=0.2595459547991443\n",
      "INFO:drake:Iteration 49: det(Q)=0.25974341963940556\n",
      "INFO:drake:Iteration 50: det(Q)=0.2599152038148222\n",
      "INFO:drake:Iteration 51: det(Q)=0.26006079800763154\n",
      "INFO:drake:Iteration 52: det(Q)=0.2601846326412292\n",
      "INFO:drake:Iteration 53: det(Q)=0.2602910263272549\n",
      "INFO:drake:Iteration 54: det(Q)=0.2603827503438021\n"
     ]
    }
   ],
   "source": [
    "# Now we grow certified regions around each seedpoint using bilinear alternation \n",
    "# starting from the binary certified regions.\n",
    "\n",
    "# There is currently a bug in Mosek that kills the kernel if you this cell.\n",
    "\n",
    "binary_and_bilinear_certified_regions = binary_search_results_by_seed_point.copy()\n",
    "for i, (s, region_start) in enumerate(binary_and_bilinear_certified_regions.items()):\n",
    "    print(f\"starting seedpoint {i+1}/{len(initial_regions)}\")\n",
    "    time.sleep(0.2)\n",
    "    cur_s = np.array(s)\n",
    "    bilinear_alternation_options.find_polytope_options.s_inner_pts = cur_s\n",
    "    \n",
    "    # We back off a little bit from the binary search solution so that we don't encounter numerical issues.\n",
    "    initial_region = scale_polytope_about_point(region_start[0][0], cur_s, 0.90)\n",
    "    certificates = cspace_free_polytope.SearchWithBilinearAlternation(set(),\n",
    "                                                                      initial_region.A(),\n",
    "                                                                      initial_region.b(), \n",
    "                                                                      bilinear_alternation_options)\n",
    "    binary_and_bilinear_certified_regions[s] += [(HPolyhedron(result.C, result.d), result) for result in certificates]"
   ]
  },
  {
   "cell_type": "code",
   "execution_count": 15,
   "metadata": {},
   "outputs": [],
   "source": [
    "# visualize the regions and corresponding certificates\n",
    "for i, result in enumerate(binary_and_bilinear_certified_regions.values()):\n",
    "    group_name = f\"/bin_then_bil_search_seed_point_{i}\"\n",
    "    visualizer.add_group_of_regions_and_certs_to_visualization(result, group_name, \n",
    "                                                               wireframe = False, opacity = 0.2)"
   ]
  },
  {
   "cell_type": "markdown",
   "metadata": {},
   "source": [
    "## Seeding and Certifying with a Stronger Heuristic\n",
    "We have also implemented another, strong heuristic for proposing good initial regions based on non-linear optimization. See Appendix TODO of our paper TODO for details"
   ]
  },
  {
   "cell_type": "code",
   "execution_count": 16,
   "metadata": {},
   "outputs": [],
   "source": [
    "iris_regions = []\n",
    "iris_ellipses = []\n",
    "\n",
    "iris_options = IrisOptions()\n",
    "iris_options.require_sample_point_is_contained = True\n",
    "iris_options.configuration_space_margin = 1e-3\n",
    "iris_options.relative_termination_threshold = 0.001\n",
    "\n",
    "context_for_iris = visualizer.task_space_diagram_context\n",
    "for i, s in enumerate(seed_points):\n",
    "    q = Ratfk.ComputeQValue(s, np.zeros((2,)))\n",
    "    plant.SetPositions(plant.GetMyMutableContextFromRoot(context_for_iris), q)\n",
    "    r = IrisInRationalConfigurationSpace(plant, \n",
    "                                         plant.GetMyContextFromRoot(context_for_iris),\n",
    "                                         q_star, iris_options)\n",
    "    iris_regions.append(r)\n",
    "    iris_ellipses.append(r.MaximumVolumeInscribedEllipsoid())\n",
    "    \n",
    "\n"
   ]
  },
  {
   "cell_type": "code",
   "execution_count": 17,
   "metadata": {},
   "outputs": [],
   "source": [
    "visualizer.add_group_of_regions_to_visualization(iris_regions, \"/uncertified-iris\", \n",
    "                                                            wireframe = False, opacity = 0.2)"
   ]
  },
  {
   "cell_type": "markdown",
   "metadata": {},
   "source": [
    "### These regions tend to be very large, but typically are not completely collision free. We can use the binary search method to find a uniform shrinking of these regions to prove their safety and then again improve them with bilinear alternations."
   ]
  },
  {
   "cell_type": "code",
   "execution_count": 18,
   "metadata": {},
   "outputs": [],
   "source": [
    "binary_search_options_for_iris = CspaceFreePolytope.BinarySearchOptions()\n",
    "binary_search_options_for_iris.scale_max = 1 # it is highly unlikely that the regions can grow, but we can try\n",
    "binary_search_options_for_iris.find_lagrangian_options = find_separation_certificate_given_polytope_options\n",
    "binary_search_options_for_iris.max_iter = 50"
   ]
  },
  {
   "cell_type": "code",
   "execution_count": 19,
   "metadata": {
    "scrolled": true
   },
   "outputs": [
    {
     "name": "stdout",
     "output_type": "stream",
     "text": [
      "starting seedpoint 1/2\n"
     ]
    },
    {
     "name": "stderr",
     "output_type": "stream",
     "text": [
      "INFO:drake:CspaceFreePolytope::BinarySearch(): scale_max=1.0 is feasible.\n"
     ]
    },
    {
     "name": "stdout",
     "output_type": "stream",
     "text": [
      "starting seedpoint 2/2\n"
     ]
    },
    {
     "name": "stderr",
     "output_type": "stream",
     "text": [
      "INFO:drake:CspaceFreePolytope::BinarySearch(): scale_max=1.0 is feasible.\n"
     ]
    }
   ],
   "source": [
    "binary_search_region_certificates_for_iris = dict.fromkeys([tuple(s) for s in seed_points])\n",
    "for i, (s, initial_region) in enumerate(zip(seed_points, iris_regions)):\n",
    "    print(f\"starting seedpoint {i+1}/{len(iris_regions)}\")\n",
    "    time.sleep(0.2)    \n",
    "    cert = cspace_free_polytope.BinarySearch(set(),\n",
    "                                                    initial_region.A(),\n",
    "                                                    initial_region.b(), \n",
    "                                                    initial_region.MaximumVolumeInscribedEllipsoid().center(), \n",
    "                                                    binary_search_options_for_iris)\n",
    "    binary_search_region_certificates_for_iris[tuple(s)] = [(HPolyhedron(cert.C, cert.d), cert)]"
   ]
  },
  {
   "cell_type": "code",
   "execution_count": 20,
   "metadata": {},
   "outputs": [],
   "source": [
    "for i, result in enumerate(binary_search_region_certificates_for_iris.values()):\n",
    "    group_name = f\"/certified-iris-bin_seed_point_{i}\"\n",
    "    visualizer.add_group_of_regions_and_certs_to_visualization(result, group_name, \n",
    "                                                            wireframe = False, opacity = 0.2)"
   ]
  },
  {
   "cell_type": "code",
   "execution_count": 21,
   "metadata": {},
   "outputs": [
    {
     "name": "stdout",
     "output_type": "stream",
     "text": [
      "starting seedpoint 1/2\n"
     ]
    },
    {
     "name": "stderr",
     "output_type": "stream",
     "text": [
      "INFO:drake:det(Q) at the beginning is 0.30316051215037887\n",
      "INFO:drake:Iteration 0: det(Q)=0.3199784045116769\n",
      "INFO:drake:Iteration 1: det(Q)=0.3332768874616944\n",
      "INFO:drake:Iteration 2: det(Q)=0.341609466817073\n",
      "INFO:drake:Iteration 3: det(Q)=0.34990160311242585\n",
      "INFO:drake:Iteration 4: det(Q)=0.35711480055004935\n",
      "INFO:drake:Iteration 5: det(Q)=0.3634654439449514\n",
      "INFO:drake:Iteration 6: det(Q)=0.3689944886960938\n",
      "INFO:drake:Iteration 7: det(Q)=0.373802080324532\n",
      "INFO:drake:Iteration 8: det(Q)=0.37787656929261615\n",
      "INFO:drake:Iteration 9: det(Q)=0.38132469569517624\n",
      "INFO:drake:Iteration 10: det(Q)=0.3842144544152936\n",
      "INFO:drake:Iteration 11: det(Q)=0.38660563062900405\n",
      "INFO:drake:Iteration 12: det(Q)=0.38857047147937857\n",
      "INFO:drake:Iteration 13: det(Q)=0.3901730522555996\n",
      "INFO:drake:Iteration 14: det(Q)=0.39145067403317796\n",
      "INFO:drake:Iteration 15: det(Q)=0.3924571667687004\n",
      "INFO:drake:Iteration 16: det(Q)=0.3932498532935734\n",
      "INFO:drake:Iteration 17: det(Q)=0.3938801372446443\n",
      "INFO:drake:Iteration 18: det(Q)=0.3943829792122438\n",
      "INFO:drake:Iteration 19: det(Q)=0.3947847933892511\n",
      "INFO:drake:Iteration 20: det(Q)=0.3951053100184184\n",
      "INFO:drake:Iteration 21: det(Q)=0.39536296957630185\n",
      "INFO:drake:Iteration 22: det(Q)=0.3955708094177623\n",
      "INFO:drake:Iteration 23: det(Q)=0.3957393184268916\n",
      "INFO:drake:Iteration 24: det(Q)=0.39587702545633724\n",
      "INFO:drake:Iteration 25: det(Q)=0.39598835028505674\n",
      "INFO:drake:Iteration 26: det(Q)=0.39607836581636047\n"
     ]
    },
    {
     "name": "stdout",
     "output_type": "stream",
     "text": [
      "starting seedpoint 2/2\n"
     ]
    },
    {
     "name": "stderr",
     "output_type": "stream",
     "text": [
      "INFO:drake:det(Q) at the beginning is 0.30705770639761487\n",
      "INFO:drake:Iteration 0: det(Q)=0.3200283405822358\n",
      "INFO:drake:Iteration 1: det(Q)=0.32842725600805156\n",
      "INFO:drake:Iteration 2: det(Q)=0.33588262317586837\n",
      "INFO:drake:Iteration 3: det(Q)=0.342174786707419\n",
      "INFO:drake:Iteration 4: det(Q)=0.3489482207213467\n",
      "INFO:drake:Iteration 5: det(Q)=0.3547242593670765\n",
      "INFO:drake:Iteration 6: det(Q)=0.3596712384878305\n",
      "INFO:drake:Iteration 7: det(Q)=0.3639068055858044\n",
      "INFO:drake:Iteration 8: det(Q)=0.36769186175076146\n",
      "INFO:drake:Iteration 9: det(Q)=0.3710578852914775\n",
      "INFO:drake:Iteration 10: det(Q)=0.37391151047133014\n",
      "INFO:drake:Iteration 11: det(Q)=0.37625041632352935\n",
      "INFO:drake:Iteration 12: det(Q)=0.37813297511164823\n",
      "INFO:drake:Iteration 13: det(Q)=0.3796309403094917\n",
      "INFO:drake:Iteration 14: det(Q)=0.38084105043681904\n",
      "INFO:drake:Iteration 15: det(Q)=0.38177929864855303\n",
      "INFO:drake:Iteration 16: det(Q)=0.38250633565943487\n",
      "INFO:drake:Iteration 17: det(Q)=0.3830723376090853\n",
      "INFO:drake:Iteration 18: det(Q)=0.38351032583247036\n",
      "INFO:drake:Iteration 19: det(Q)=0.38385334117266684\n",
      "INFO:drake:Iteration 20: det(Q)=0.38412233794332895\n",
      "INFO:drake:Iteration 21: det(Q)=0.38433686620022883\n",
      "INFO:drake:Iteration 22: det(Q)=0.38450839637730244\n",
      "INFO:drake:Iteration 23: det(Q)=0.38464593766259353\n",
      "INFO:drake:Iteration 24: det(Q)=0.3847560835872574\n",
      "INFO:drake:Iteration 25: det(Q)=0.3848452440817276\n"
     ]
    }
   ],
   "source": [
    "# Finally we grow the regions again using bilinear alternations.\n",
    "\n",
    "# There is a numerical bug in Mosek that kills the kernel of we try this\n",
    "bilinear_certified_regions_iris = binary_search_region_certificates_for_iris.copy()\n",
    "\n",
    "# There is a numerical bug in Mosek that kills the kernel of we try this.\n",
    "for i, (s, region_start) in enumerate(bilinear_certified_regions_iris.items()):\n",
    "    print(f\"starting seedpoint {i+1}/{len(initial_regions)}\")\n",
    "    time.sleep(0.2)\n",
    "    cur_s = np.array(s)\n",
    "    bilinear_alternation_options.find_polytope_options.s_inner_pts = cur_s\n",
    "    \n",
    "    # We back off a little bit from the binary search solution so that we don't encounter numerical issues.\n",
    "    initial_region = scale_polytope_about_point(region_start[0][0], cur_s, 0.90)\n",
    "    certificates = cspace_free_polytope.SearchWithBilinearAlternation(set(),\n",
    "                                                                      initial_region.A(),\n",
    "                                                                      initial_region.b(), \n",
    "                                                                      bilinear_alternation_options)\n",
    "    bilinear_certified_regions_iris[s] += [(HPolyhedron(result.C, result.d), result) for result in certificates]"
   ]
  },
  {
   "cell_type": "code",
   "execution_count": 22,
   "metadata": {},
   "outputs": [],
   "source": [
    "for i, result in enumerate(bilinear_certified_regions_iris.values()):\n",
    "    visualizer.add_group_of_regions_and_certs_to_visualization(result, \"/certified-iris-bin\", \n",
    "                                                            wireframe = False, opacity = 0.2)"
   ]
  },
  {
   "cell_type": "markdown",
   "metadata": {},
   "source": [
    "# Now it is time to play with the visualization! If you open the task space visualizer, we can highlight specific geometries and their separating planes in different regions.\n",
    "## Notice that when regions overlap, we get multiple planes certifying non-collision"
   ]
  },
  {
   "cell_type": "code",
   "execution_count": 26,
   "metadata": {},
   "outputs": [
    {
     "data": {
      "application/vnd.jupyter.widget-view+json": {
       "model_id": "5b48622cdc17436c8d882feac4465b19",
       "version_major": 2,
       "version_minor": 0
      },
      "text/plain": [
       "FloatSlider(value=-0.46706, description='q0', max=0.96706, min=-0.96706)"
      ]
     },
     "metadata": {},
     "output_type": "display_data"
    },
    {
     "data": {
      "application/vnd.jupyter.widget-view+json": {
       "model_id": "c91b76de785b4e72a712e7110e330eb5",
       "version_major": 2,
       "version_minor": 0
      },
      "text/plain": [
       "FloatSlider(value=-0.1944, description='q1', max=2.0944, min=-2.0944)"
      ]
     },
     "metadata": {},
     "output_type": "display_data"
    }
   ],
   "source": [
    "for slider in sliders:\n",
    "    display(slider)"
   ]
  },
  {
   "cell_type": "code",
   "execution_count": null,
   "metadata": {},
   "outputs": [],
   "source": [
    "visualizer."
   ]
  },
  {
   "cell_type": "code",
   "execution_count": 24,
   "metadata": {},
   "outputs": [],
   "source": [
    "# Uncomment this cell for an interface for choosing good planes of interest\n",
    "# plane_indices = np.arange(0, len(cspace_free_polytope.separating_planes()))\n",
    "# last_plane_index = 0\n",
    "# cur_plane_index = 0\n",
    "# plane_indices_to_geometries = {v: k for k,v in cspace_free_polytope.map_geometries_to_separating_planes().items()}\n",
    "\n",
    "# while True:\n",
    "#     visualizer.meshcat_task_space.Delete(f\"/plane_{last_plane_index}\")\n",
    "#     geom1, geom2 = plane_indices_to_geometries[cur_plane_index]\n",
    "#     color = Rgba(0,0,1,1)\n",
    "    \n",
    "#     prefix = f\"/plane_{cur_plane_index}\"\n",
    "#     visualizer.highlight_geometry_id(geom1, color, prefix+f\"/{geom1}\")\n",
    "#     visualizer.highlight_geometry_id(geom2, color, prefix+f\"/{geom2}\")\n",
    "#     print(f\"current plane index = {cur_plane_index}\")\n",
    "    \n",
    "#     last_plane_index = cur_plane_index\n",
    "#     valid_key_pressed = False\n",
    "#     while not valid_key_pressed:\n",
    "#         key_press = input(\"Enter d to increase plane_count, a to decrease, and e to exit...\")\n",
    "#         if key_press in [\"a\", \"d\", \"e\"]:\n",
    "#             valid_key_pressed = True\n",
    "#     if key_press == \"a\":\n",
    "#         cur_plane_index = max(cur_plane_index - 1, min(plane_indices))\n",
    "#     elif key_press == \"d\":\n",
    "#         cur_plane_index = min(cur_plane_index + 1, max(plane_indices))\n",
    "#     elif key_press == \"e\":\n",
    "#         break\n",
    "#     print()"
   ]
  },
  {
   "cell_type": "code",
   "execution_count": 25,
   "metadata": {},
   "outputs": [],
   "source": [
    "# Uncomment this cell for seeing all the planes associated to a particular geometry id\n",
    "# interesting_geometry = 65\n",
    "# plane_indices = np.arange(0, len(cspace_free_polytope.separating_planes()))\n",
    "# plane_indices_to_geometries = {v: k for k,v in cspace_free_polytope.map_geometries_to_separating_planes().items()}\n",
    "\n",
    "# associated_plane_indices = []\n",
    "# for plane_index, (geom1, geom2) in plane_indices_to_geometries.items():\n",
    "#     if interesting_geometry in (geom1.get_value(), geom2. get_value()):\n",
    "#         associated_plane_indices.append(plane_index)\n",
    "\n",
    "        \n",
    "# last_associated_index_index = 0\n",
    "# cur_associated_index_index = 0\n",
    "\n",
    "# visualizer.clear_plane_indices_of_interest()\n",
    "# while True:\n",
    "#     last_plane_index = associated_plane_indices[last_associated_index_index]\n",
    "#     cur_plane_index = associated_plane_indices[cur_associated_index_index]\n",
    "    \n",
    "#     print(f\"current plane index = {cur_plane_index}\")\n",
    "    \n",
    "#     visualizer.remove_plane_indices_of_interest(last_plane_index)\n",
    "#     visualizer.add_plane_indices_of_interest(cur_plane_index)\n",
    "    \n",
    "#     cur_q = visualizer.plant.GetPositions(visualizer.plant_context)\n",
    "#     visualizer.show_res_q(cur_q)\n",
    "    \n",
    "#     last_associated_index_index = cur_associated_index_index\n",
    "#     valid_key_pressed = False\n",
    "#     while not valid_key_pressed:\n",
    "#         key_press = input(\"Enter d to increase plane_count, a to decrease, and e to exit...\")\n",
    "#         if key_press in [\"a\", \"d\", \"e\"]:\n",
    "#             valid_key_pressed = True\n",
    "#     if key_press == \"a\":\n",
    "#         cur_associated_index_index = max(cur_associated_index_index - 1, min(associated_plane_indices))\n",
    "#     elif key_press == \"d\":\n",
    "#         cur_associated_index_index = min(cur_associated_index_index + 1, max(associated_plane_indices))\n",
    "#     elif key_press == \"e\":\n",
    "#         break\n",
    "#     print()"
   ]
  }
 ],
 "metadata": {
  "interpreter": {
   "hash": "31f2aee4e71d21fbe5cf8b01ff0e069b9275f58929596ceb00d14d90e3e16cd6"
  },
  "kernelspec": {
   "display_name": "Python 3",
   "language": "python",
   "name": "python3"
  },
  "language_info": {
   "codemirror_mode": {
    "name": "ipython",
    "version": 3
   },
   "file_extension": ".py",
   "mimetype": "text/x-python",
   "name": "python",
   "nbconvert_exporter": "python",
   "pygments_lexer": "ipython3",
   "version": "3.8.10"
  }
 },
 "nbformat": 4,
 "nbformat_minor": 2
}
