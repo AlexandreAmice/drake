{
 "cells": [
  {
   "cell_type": "code",
   "execution_count": 1,
   "metadata": {},
   "outputs": [],
   "source": [
    "%load_ext autoreload"
   ]
  },
  {
   "cell_type": "code",
   "execution_count": 2,
   "metadata": {},
   "outputs": [],
   "source": [
    "import numpy as np\n",
    "from functools import partial\n",
    "from iris_plant_visualizer import IrisPlantVisualizer\n",
    "import ipywidgets as widgets\n",
    "from IPython.display import display\n",
    "from scipy.linalg import block_diag\n",
    "from time import perf_counter"
   ]
  },
  {
   "cell_type": "code",
   "execution_count": 3,
   "metadata": {},
   "outputs": [],
   "source": [
    "#pydrake imports\n",
    "from pydrake.common import FindResourceOrThrow\n",
    "from pydrake.multibody.parsing import LoadModelDirectives, Parser, ProcessModelDirectives\n",
    "from pydrake.multibody.plant import AddMultibodyPlantSceneGraph\n",
    "from pydrake.systems.framework import DiagramBuilder\n",
    "from pydrake.geometry import Role, GeometrySet, CollisionFilterDeclaration\n",
    "from pydrake.all import RigidTransform, RollPitchYaw, RevoluteJoint\n",
    "from pydrake.all import RotationMatrix, Rgba\n",
    "import time\n",
    "import pydrake.multibody.rational as rational_forward_kinematics\n",
    "from pydrake.all import RationalForwardKinematics\n",
    "from pydrake.all import GeometrySet, CollisionFilterDeclaration, CollisionFilterManager\n",
    "from pydrake.geometry.optimization import IrisOptions, IrisInRationalConfigurationSpace, HPolyhedron, Hyperellipsoid\n",
    "from pydrake.solvers import MosekSolver, CommonSolverOption, SolverOptions"
   ]
  },
  {
   "cell_type": "code",
   "execution_count": 4,
   "metadata": {},
   "outputs": [],
   "source": [
    "from pydrake.geometry.optimization_dev import (CspaceFreePolytope, \n",
    "                                               SeparatingPlaneOrder)"
   ]
  },
  {
   "cell_type": "code",
   "execution_count": 5,
   "metadata": {},
   "outputs": [],
   "source": [
    "# import logging\n",
    "# drake_log = logging.getLogger(\"drake\")\n",
    "# drake_log.setLevel(\"DEBUG\")"
   ]
  },
  {
   "cell_type": "markdown",
   "metadata": {},
   "source": [
    "# Build and set up the visualization the plant and the visualization of the C-space obstacle\n",
    "\n",
    "We first set up a simple 2-DOF system and visualize both the plant and the configuration constraint.Click on the two links at the bottom to view the plant and the configuration space.\n",
    "\n",
    "Note that running this cell multiple times will establish multiple meshcat instances which can fill up your memory. It is a good idea to call \"pkill -f meshcat\" from the command line before re-running this cell\n"
   ]
  },
  {
   "cell_type": "code",
   "execution_count": 6,
   "metadata": {},
   "outputs": [
    {
     "name": "stderr",
     "output_type": "stream",
     "text": [
      "WARNING:drake:/home/amice/.cache/bazel/_bazel_amice/32fdbbecfa8a7ce8feece95e48c42006/execroot/drake/bazel-out/k8-opt/bin/C_Iris_Examples/pendulum_on_rail2d.runfiles/drake/C_Iris_Examples/assets/2dof_iiwa_translating_base.sdf:454: warning: Ignoring unsupported SDFormat element in model: plugin\n",
      "WARNING:drake:/home/amice/.cache/bazel/_bazel_amice/32fdbbecfa8a7ce8feece95e48c42006/execroot/drake/bazel-out/k8-opt/bin/C_Iris_Examples/pendulum_on_rail2d.runfiles/drake/C_Iris_Examples/assets/2dof_iiwa_translating_base.sdf:39: warning: Ignoring unsupported SDFormat element in link: velocity_decay\n",
      "WARNING:drake:/home/amice/.cache/bazel/_bazel_amice/32fdbbecfa8a7ce8feece95e48c42006/execroot/drake/bazel-out/k8-opt/bin/C_Iris_Examples/pendulum_on_rail2d.runfiles/drake/C_Iris_Examples/assets/2dof_iiwa_translating_base.sdf:40: warning: Ignoring unsupported SDFormat element in link: self_collide\n",
      "WARNING:drake:/home/amice/.cache/bazel/_bazel_amice/32fdbbecfa8a7ce8feece95e48c42006/execroot/drake/bazel-out/k8-opt/bin/C_Iris_Examples/pendulum_on_rail2d.runfiles/drake/C_Iris_Examples/assets/2dof_iiwa_translating_base.sdf:95: warning: Ignoring unsupported SDFormat element in link: velocity_decay\n",
      "WARNING:drake:/home/amice/.cache/bazel/_bazel_amice/32fdbbecfa8a7ce8feece95e48c42006/execroot/drake/bazel-out/k8-opt/bin/C_Iris_Examples/pendulum_on_rail2d.runfiles/drake/C_Iris_Examples/assets/2dof_iiwa_translating_base.sdf:96: warning: Ignoring unsupported SDFormat element in link: self_collide\n",
      "WARNING:drake:/home/amice/.cache/bazel/_bazel_amice/32fdbbecfa8a7ce8feece95e48c42006/execroot/drake/bazel-out/k8-opt/bin/C_Iris_Examples/pendulum_on_rail2d.runfiles/drake/C_Iris_Examples/assets/2dof_iiwa_translating_base.sdf:151: warning: Ignoring unsupported SDFormat element in link: velocity_decay\n",
      "WARNING:drake:/home/amice/.cache/bazel/_bazel_amice/32fdbbecfa8a7ce8feece95e48c42006/execroot/drake/bazel-out/k8-opt/bin/C_Iris_Examples/pendulum_on_rail2d.runfiles/drake/C_Iris_Examples/assets/2dof_iiwa_translating_base.sdf:152: warning: Ignoring unsupported SDFormat element in link: self_collide\n",
      "WARNING:drake:/home/amice/.cache/bazel/_bazel_amice/32fdbbecfa8a7ce8feece95e48c42006/execroot/drake/bazel-out/k8-opt/bin/C_Iris_Examples/pendulum_on_rail2d.runfiles/drake/C_Iris_Examples/assets/2dof_iiwa_translating_base.sdf:207: warning: Ignoring unsupported SDFormat element in link: velocity_decay\n",
      "WARNING:drake:/home/amice/.cache/bazel/_bazel_amice/32fdbbecfa8a7ce8feece95e48c42006/execroot/drake/bazel-out/k8-opt/bin/C_Iris_Examples/pendulum_on_rail2d.runfiles/drake/C_Iris_Examples/assets/2dof_iiwa_translating_base.sdf:208: warning: Ignoring unsupported SDFormat element in link: self_collide\n",
      "WARNING:drake:/home/amice/.cache/bazel/_bazel_amice/32fdbbecfa8a7ce8feece95e48c42006/execroot/drake/bazel-out/k8-opt/bin/C_Iris_Examples/pendulum_on_rail2d.runfiles/drake/C_Iris_Examples/assets/2dof_iiwa_translating_base.sdf:263: warning: Ignoring unsupported SDFormat element in link: velocity_decay\n",
      "WARNING:drake:/home/amice/.cache/bazel/_bazel_amice/32fdbbecfa8a7ce8feece95e48c42006/execroot/drake/bazel-out/k8-opt/bin/C_Iris_Examples/pendulum_on_rail2d.runfiles/drake/C_Iris_Examples/assets/2dof_iiwa_translating_base.sdf:264: warning: Ignoring unsupported SDFormat element in link: self_collide\n",
      "WARNING:drake:/home/amice/.cache/bazel/_bazel_amice/32fdbbecfa8a7ce8feece95e48c42006/execroot/drake/bazel-out/k8-opt/bin/C_Iris_Examples/pendulum_on_rail2d.runfiles/drake/C_Iris_Examples/assets/2dof_iiwa_translating_base.sdf:319: warning: Ignoring unsupported SDFormat element in link: velocity_decay\n",
      "WARNING:drake:/home/amice/.cache/bazel/_bazel_amice/32fdbbecfa8a7ce8feece95e48c42006/execroot/drake/bazel-out/k8-opt/bin/C_Iris_Examples/pendulum_on_rail2d.runfiles/drake/C_Iris_Examples/assets/2dof_iiwa_translating_base.sdf:320: warning: Ignoring unsupported SDFormat element in link: self_collide\n",
      "WARNING:drake:/home/amice/.cache/bazel/_bazel_amice/32fdbbecfa8a7ce8feece95e48c42006/execroot/drake/bazel-out/k8-opt/bin/C_Iris_Examples/pendulum_on_rail2d.runfiles/drake/C_Iris_Examples/assets/2dof_iiwa_translating_base.sdf:375: warning: Ignoring unsupported SDFormat element in link: velocity_decay\n",
      "WARNING:drake:/home/amice/.cache/bazel/_bazel_amice/32fdbbecfa8a7ce8feece95e48c42006/execroot/drake/bazel-out/k8-opt/bin/C_Iris_Examples/pendulum_on_rail2d.runfiles/drake/C_Iris_Examples/assets/2dof_iiwa_translating_base.sdf:376: warning: Ignoring unsupported SDFormat element in link: self_collide\n",
      "WARNING:drake:/home/amice/.cache/bazel/_bazel_amice/32fdbbecfa8a7ce8feece95e48c42006/execroot/drake/bazel-out/k8-opt/bin/C_Iris_Examples/pendulum_on_rail2d.runfiles/drake/C_Iris_Examples/assets/2dof_iiwa_translating_base.sdf:431: warning: Ignoring unsupported SDFormat element in link: velocity_decay\n",
      "WARNING:drake:/home/amice/.cache/bazel/_bazel_amice/32fdbbecfa8a7ce8feece95e48c42006/execroot/drake/bazel-out/k8-opt/bin/C_Iris_Examples/pendulum_on_rail2d.runfiles/drake/C_Iris_Examples/assets/2dof_iiwa_translating_base.sdf:432: warning: Ignoring unsupported SDFormat element in link: self_collide\n",
      "INFO:drake:Meshcat listening for connections at http://localhost:7000\n",
      "INFO:drake:Meshcat listening for connections at http://localhost:7001\n"
     ]
    }
   ],
   "source": [
    "#construct our robot\n",
    "builder = DiagramBuilder()\n",
    "plant, scene_graph = AddMultibodyPlantSceneGraph(builder, time_step=1e-4)\n",
    "collision_filter_manager = scene_graph.collision_filter_manager()\n",
    "inspector = scene_graph.model_inspector()\n",
    "\n",
    "parser = Parser(plant)\n",
    "directives_file = FindResourceOrThrow(\"drake/C_Iris_Examples/directives/trans2dof_directives.yaml\") \n",
    "directives = LoadModelDirectives(directives_file)\n",
    "models = ProcessModelDirectives(directives, plant, parser)\n",
    "\n",
    "# Exclude the base of the iiwa from collision with the box\n",
    "iiwa_base_name = \"iiwa_twoDOF_link_0\"\n",
    "box_base_name = \"box1\"\n",
    "def GetCollisionGeometriesByName(name):\n",
    "    body = plant.GetBodyByName(name)\n",
    "    return plant.GetCollisionGeometriesForBody(body)\n",
    "iiwa_base_geom_set = GeometrySet()\n",
    "iiwa_base_geom_set.Add(GetCollisionGeometriesByName(iiwa_base_name))\n",
    "box_base_geom_set = GeometrySet()\n",
    "box_base_geom_set.Add(GetCollisionGeometriesByName(box_base_name))\n",
    "\n",
    "collision_filter_manager.Apply(\n",
    "    CollisionFilterDeclaration().ExcludeBetween(iiwa_base_geom_set, box_base_geom_set)\n",
    ")\n",
    "plant.Finalize()\n",
    "\n",
    "        \n",
    "# construct the RationalForwardKinematics of this plant. This object handles the\n",
    "# computations for the forward kinematics in the tangent-configuration space\n",
    "Ratfk = RationalForwardKinematics(plant)\n",
    "\n",
    "# the point about which we will take the stereographic projections\n",
    "q_star = np.zeros(plant.num_positions())\n",
    "\n",
    "do_viz = True\n",
    "\n",
    "# The object we will use to perform our certification.\n",
    "cspace_free_polytope = CspaceFreePolytope(plant, scene_graph, SeparatingPlaneOrder.kAffine, q_star)\n",
    "\n",
    "# This line builds the visualization. Change the viz_role to Role.kIllustration if you\n",
    "# want to see the plant with its illustrated geometry or to Role.kProximity if you want\n",
    "# to see the plant with the collision geometries.\n",
    "visualizer = IrisPlantVisualizer(plant, builder, scene_graph, cspace_free_polytope, viz_role=Role.kIllustration)\n",
    "visualizer.visualize_collision_constraint(factor = 1.5, num_points = 100)\n",
    "visualizer.meshcat_cspace.Set2dRenderMode(RigidTransform(RotationMatrix.MakeZRotation(0), np.array([0,0,1])))\n",
    "visualizer.meshcat_task_space.Set2dRenderMode(RigidTransform(RotationMatrix.MakeZRotation(0), np.array([1,0,0])))"
   ]
  },
  {
   "cell_type": "markdown",
   "metadata": {},
   "source": [
    "## Set up the sliders so we can move the plant around manually\n",
    "\n",
    "You can use the sliders below to move the two degrees of freedom of the plant around. A green dot will appear in the TC-space visualization describing the current TC-space configuration."
   ]
  },
  {
   "cell_type": "code",
   "execution_count": 7,
   "metadata": {
    "scrolled": false
   },
   "outputs": [
    {
     "data": {
      "application/vnd.jupyter.widget-view+json": {
       "model_id": "b82e7242061343b6a74724c5b5198d88",
       "version_major": 2,
       "version_minor": 0
      },
      "text/plain": [
       "FloatSlider(value=0.0, description='q0', max=0.96706, min=-0.96706)"
      ]
     },
     "metadata": {},
     "output_type": "display_data"
    },
    {
     "data": {
      "application/vnd.jupyter.widget-view+json": {
       "model_id": "a9bda08e06f845a7b1721b7dcf09ef91",
       "version_major": 2,
       "version_minor": 0
      },
      "text/plain": [
       "FloatSlider(value=0.0, description='q1', max=2.0944, min=-2.0944)"
      ]
     },
     "metadata": {},
     "output_type": "display_data"
    }
   ],
   "source": [
    "sliders = []\n",
    "for i in range(plant.num_positions()):\n",
    "    q_low = plant.GetPositionLowerLimits()[i]\n",
    "    q_high = plant.GetPositionUpperLimits()[i]\n",
    "    sliders.append(widgets.FloatSlider(min=q_low, max=q_high, value=0, description=f\"q{i}\"))\n",
    "\n",
    "q = np.zeros(plant.num_positions())\n",
    "def handle_slider_change(change, idx):\n",
    "    q[idx] = change['new']\n",
    "    visualizer.show_res_q(q)\n",
    "    \n",
    "idx = 0\n",
    "for slider in sliders:\n",
    "    slider.observe(partial(handle_slider_change, idx = idx), names='value')\n",
    "    idx+=1\n",
    "\n",
    "for slider in sliders:\n",
    "    display(slider)\n"
   ]
  },
  {
   "cell_type": "markdown",
   "metadata": {},
   "source": [
    "# Generate and Certify Regions\n",
    "\n",
    "Around some nominal seed postures, we will grow certified regions by seeding our alternation algorithm using a small initial polytope."
   ]
  },
  {
   "cell_type": "code",
   "execution_count": 8,
   "metadata": {},
   "outputs": [],
   "source": [
    "# Some seedpoints\n",
    "seed_points_q = np.array([\n",
    "    [0,0]\n",
    "#     [-0.07, 1.81],\n",
    "#                           [0.03, -1.79],\n",
    "#                           [0.43, -1.69]\n",
    "                         ])\n",
    "seed_points = np.array([Ratfk.ComputeSValue(seed_points_q[idx], np.zeros((2,)))\\\n",
    "                        for idx in range(seed_points_q.shape[0])])\n",
    "if do_viz:\n",
    "    visualizer.plot_cspace_points(seed_points, \"/iris_seed_points\")\n",
    "    \n",
    "\n",
    "\n",
    "default_scale = 1e-2\n",
    "L1_ball = HPolyhedron.MakeL1Ball(2)\n",
    "Linf_ball = HPolyhedron.MakeBox(-np.ones(2), np.ones(2))\n",
    "\n",
    "template_C = np.vstack([L1_ball.A(), Linf_ball.A()])\n",
    "template_d = np.hstack([default_scale*L1_ball.b(), default_scale/np.sqrt(2)*Linf_ball.b()])\n",
    "\n",
    "\n",
    "def make_default_polytope_at_point(seed_point):\n",
    "    return HPolyhedron(template_C, template_d + template_C @ seed_point)\n",
    "\n",
    "\n",
    "# colors to plot the region. Chosen for color-blind compatibility\n",
    "default_alpha = 0.2\n",
    "colors_dict = {\n",
    "    3: Rgba(0.565, 0.565, 0.565, default_alpha),\n",
    "    1: Rgba(0.118, 0.533, 0.898, default_alpha), # bluish\n",
    "    2: Rgba(1,     0.757, 0.027, default_alpha), # gold\n",
    "    0: Rgba(0,     0.549, 0.024, default_alpha), # green    \n",
    "}\n",
    "\n",
    "iris_regions = []\n",
    "iris_ellipses = []\n",
    "\n",
    "iris_options = IrisOptions()\n",
    "iris_options.require_sample_point_is_contained = True\n",
    "iris_options.configuration_space_margin = 1e-3\n",
    "iris_options.relative_termination_threshold = 0.001\n",
    "\n",
    "context_for_iris = visualizer.task_space_diagram_context\n",
    "for i, s in enumerate(seed_points):\n",
    "    q = Ratfk.ComputeQValue(s, q_star)\n",
    "    plant.SetPositions(plant.GetMyMutableContextFromRoot(context_for_iris), q)\n",
    "    r = IrisInRationalConfigurationSpace(plant, \n",
    "                                         plant.GetMyContextFromRoot(context_for_iris),\n",
    "                                         q_star, iris_options)\n",
    "    iris_regions.append((r, colors_dict[i]))\n",
    "    iris_ellipses.append(r.MaximumVolumeInscribedEllipsoid())\n",
    "    \n",
    "\n",
    "\n",
    "\n",
    "def scale_polytope_about_point(hpoly, s, scale):\n",
    "    if not hpoly.PointInSet(s):\n",
    "        raise ValueError(f\"The point s must be in the HPolyhedron\")\n",
    "    b_scaled = scale * hpoly.b() + (1 - scale) * hpoly.A() @ s\n",
    "    return HPolyhedron(hpoly.A(), b_scaled)\n",
    "    \n",
    "r = iris_regions[0][0]\n",
    "r_scaled = scale_polytope_about_point(r, seed_points[0], 0.05)\n",
    "    \n",
    "# initial_regions = [(make_default_polytope_at_point(s), colors_dict[i]) for i, s in enumerate(seed_points)]\n",
    "initial_regions = [(r_scaled, colors_dict[0])]\n",
    "\n",
    "visualizer.add_group_of_regions_to_visualization(initial_regions, \"initial_regions\",\n",
    "                            wireframe = False,\n",
    "                           opacity = default_alpha)\n",
    "visualizer.show_res_q(q_star)"
   ]
  },
  {
   "cell_type": "markdown",
   "metadata": {},
   "source": [
    "## First we set up some options for our different certification modes"
   ]
  },
  {
   "cell_type": "code",
   "execution_count": 9,
   "metadata": {},
   "outputs": [],
   "source": [
    "# set up the certifier and the options for different search techniques\n",
    "solver_options = SolverOptions()\n",
    "# set this to 1 if you would like to see the solver output in terminal.\n",
    "solver_options.SetOption(CommonSolverOption.kPrintToConsole, 0)\n",
    "\n",
    "# The options for when we search for new planes and positivity certificates given the polytopes\n",
    "find_separation_certificate_given_polytope_options = CspaceFreePolytope.FindSeparationCertificateGivenPolytopeOptions()\n",
    "find_separation_certificate_given_polytope_options.num_threads = -1\n",
    "find_separation_certificate_given_polytope_options.verbose = False\n",
    "find_separation_certificate_given_polytope_options.solver_options = solver_options\n",
    "find_separation_certificate_given_polytope_options.ignore_redundant_C = True\n",
    "\n",
    "# The options for when we search for a new polytope given positivity certificates.\n",
    "find_polytope_given_lagrangian_option = CspaceFreePolytope.FindPolytopeGivenLagrangianOptions()\n",
    "find_polytope_given_lagrangian_option.solver_options = solver_options\n",
    "find_polytope_given_lagrangian_option.ellipsoid_margin_cost = CspaceFreePolytope.EllipsoidMarginCost.kGeometricMean\n",
    "find_polytope_given_lagrangian_option.search_s_bounds_lagrangians = True\n",
    "\n",
    "bilinear_alternation_options = CspaceFreePolytope.BilinearAlternationOptions()\n",
    "bilinear_alternation_options.max_iter = 250\n",
    "bilinear_alternation_options.convergence_tol = 1e-4\n",
    "bilinear_alternation_options.find_polytope_options = find_polytope_given_lagrangian_option\n",
    "bilinear_alternation_options.find_lagrangian_options = find_separation_certificate_given_polytope_options\n",
    "\n",
    "binary_search_options = CspaceFreePolytope.BinarySearchOptions()\n",
    "binary_search_options.find_lagrangian_options = find_separation_certificate_given_polytope_options\n",
    "binary_search_options.scale_min = 1\n",
    "binary_search_options.scale_max = 50\n",
    "binary_search_options.max_iter = 50"
   ]
  },
  {
   "cell_type": "code",
   "execution_count": 10,
   "metadata": {},
   "outputs": [],
   "source": [
    "region = initial_regions[0][0]\n",
    "progs = cspace_free_polytope.ConstructPlaneSearchProgramsForPairs(region.A(), region.b(), find_separation_certificate_given_polytope_options)"
   ]
  },
  {
   "cell_type": "code",
   "execution_count": 11,
   "metadata": {},
   "outputs": [
    {
     "data": {
      "text/plain": [
       "42"
      ]
     },
     "execution_count": 11,
     "metadata": {},
     "output_type": "execute_result"
    }
   ],
   "source": [
    "len(cspace_free_polytope.separating_planes())"
   ]
  },
  {
   "cell_type": "code",
   "execution_count": 12,
   "metadata": {},
   "outputs": [
    {
     "data": {
      "text/plain": [
       "42"
      ]
     },
     "execution_count": 12,
     "metadata": {},
     "output_type": "execute_result"
    }
   ],
   "source": [
    "len(progs)"
   ]
  },
  {
   "cell_type": "code",
   "execution_count": 13,
   "metadata": {},
   "outputs": [],
   "source": [
    "cert_prog = progs[0].prog()"
   ]
  },
  {
   "cell_type": "code",
   "execution_count": 14,
   "metadata": {},
   "outputs": [
    {
     "data": {
      "text/plain": [
       "236"
      ]
     },
     "execution_count": 14,
     "metadata": {},
     "output_type": "execute_result"
    }
   ],
   "source": [
    "cert_prog.num_vars()"
   ]
  },
  {
   "cell_type": "code",
   "execution_count": 15,
   "metadata": {},
   "outputs": [
    {
     "name": "stdout",
     "output_type": "stream",
     "text": [
      "192\n"
     ]
    }
   ],
   "source": [
    "print(len(cert_prog.GetAllConstraints()))"
   ]
  },
  {
   "cell_type": "markdown",
   "metadata": {},
   "source": [
    "# Growing regions with bilinear alternations search\n",
    "\n",
    "### As the initial regions are fairly small, they won't contain collisions and so can be directly fed into the bilinear alternation algorithm."
   ]
  },
  {
   "cell_type": "code",
   "execution_count": 16,
   "metadata": {},
   "outputs": [
    {
     "name": "stderr",
     "output_type": "stream",
     "text": [
      "INFO:drake:det(Q) at the beginning is 0.0015502304794460765\n"
     ]
    },
    {
     "name": "stdout",
     "output_type": "stream",
     "text": [
      "starting seedpoint 1/1\n"
     ]
    },
    {
     "name": "stderr",
     "output_type": "stream",
     "text": [
      "INFO:drake:Total Lagrangian step time 1.918 s\n",
      "INFO:drake:Iteration 0: det(Q)=0.006574658106270407\n",
      "INFO:drake:Total Lagrangian step time 1.729 s\n",
      "INFO:drake:Iteration 1: det(Q)=0.015544331432066962\n",
      "INFO:drake:Total Lagrangian step time 1.64 s\n",
      "INFO:drake:Iteration 2: det(Q)=0.02828002960812167\n",
      "INFO:drake:Total Lagrangian step time 1.701 s\n",
      "INFO:drake:Iteration 3: det(Q)=0.044000140454928054\n",
      "INFO:drake:Total Lagrangian step time 1.868 s\n",
      "INFO:drake:Iteration 4: det(Q)=0.06261139089802552\n",
      "INFO:drake:Total Lagrangian step time 1.961 s\n",
      "INFO:drake:Iteration 5: det(Q)=0.08310739554537176\n",
      "INFO:drake:Total Lagrangian step time 2.16 s\n",
      "INFO:drake:Iteration 6: det(Q)=0.10433449762778756\n",
      "INFO:drake:Total Lagrangian step time 2.157 s\n",
      "INFO:drake:Iteration 7: det(Q)=0.127383884581499\n",
      "INFO:drake:Total Lagrangian step time 1.896 s\n",
      "INFO:drake:Iteration 8: det(Q)=0.15102820968407776\n",
      "INFO:drake:Total Lagrangian step time 1.919 s\n",
      "INFO:drake:Iteration 9: det(Q)=0.17480986934013468\n",
      "INFO:drake:Total Lagrangian step time 1.797 s\n",
      "INFO:drake:Iteration 10: det(Q)=0.19816587048150658\n",
      "INFO:drake:Total Lagrangian step time 1.728 s\n",
      "INFO:drake:Iteration 11: det(Q)=0.22071503946328544\n",
      "INFO:drake:Total Lagrangian step time 1.702 s\n",
      "INFO:drake:Iteration 12: det(Q)=0.24219175623763825\n",
      "INFO:drake:Total Lagrangian step time 1.634 s\n",
      "INFO:drake:Iteration 13: det(Q)=0.2626030165727977\n",
      "INFO:drake:Total Lagrangian step time 1.834 s\n",
      "INFO:drake:Iteration 14: det(Q)=0.2821703154765489\n",
      "INFO:drake:Total Lagrangian step time 1.96 s\n",
      "INFO:drake:Iteration 15: det(Q)=0.3013858798128247\n",
      "INFO:drake:Total Lagrangian step time 1.755 s\n",
      "INFO:drake:Iteration 16: det(Q)=0.3208670228809974\n",
      "INFO:drake:Total Lagrangian step time 1.873 s\n",
      "INFO:drake:Iteration 17: det(Q)=0.34109060821187714\n",
      "INFO:drake:Total Lagrangian step time 1.8 s\n",
      "INFO:drake:Iteration 18: det(Q)=0.36180422403301327\n",
      "INFO:drake:Total Lagrangian step time 1.744 s\n",
      "INFO:drake:Iteration 19: det(Q)=0.3805911736690295\n",
      "INFO:drake:Total Lagrangian step time 1.838 s\n",
      "INFO:drake:Iteration 20: det(Q)=0.39718030553160233\n",
      "INFO:drake:Total Lagrangian step time 2.07 s\n",
      "INFO:drake:Iteration 21: det(Q)=0.4118803509561782\n",
      "INFO:drake:Total Lagrangian step time 1.805 s\n",
      "INFO:drake:Iteration 22: det(Q)=0.42469561991970417\n",
      "INFO:drake:Total Lagrangian step time 2.106 s\n",
      "INFO:drake:Iteration 23: det(Q)=0.4360751706592949\n",
      "INFO:drake:Total Lagrangian step time 1.594 s\n",
      "INFO:drake:Iteration 24: det(Q)=0.44652125071622967\n",
      "INFO:drake:Total Lagrangian step time 1.755 s\n",
      "INFO:drake:Iteration 25: det(Q)=0.4558583325012651\n",
      "INFO:drake:Total Lagrangian step time 1.852 s\n",
      "INFO:drake:Iteration 26: det(Q)=0.46449171920580934\n",
      "INFO:drake:Total Lagrangian step time 2.028 s\n",
      "INFO:drake:Iteration 27: det(Q)=0.47221620909332046\n",
      "INFO:drake:Total Lagrangian step time 1.766 s\n",
      "INFO:drake:Iteration 28: det(Q)=0.47897863175034744\n",
      "INFO:drake:Total Lagrangian step time 1.944 s\n",
      "INFO:drake:Iteration 29: det(Q)=0.4850413968929115\n",
      "INFO:drake:Total Lagrangian step time 2.032 s\n",
      "INFO:drake:Iteration 30: det(Q)=0.49036260377280305\n",
      "INFO:drake:Total Lagrangian step time 1.518 s\n",
      "INFO:drake:Iteration 31: det(Q)=0.4950257891022857\n",
      "INFO:drake:Total Lagrangian step time 1.932 s\n",
      "INFO:drake:Iteration 32: det(Q)=0.499319724098912\n",
      "INFO:drake:Total Lagrangian step time 1.834 s\n",
      "INFO:drake:Iteration 33: det(Q)=0.503056153075282\n",
      "INFO:drake:Total Lagrangian step time 1.78 s\n",
      "INFO:drake:Iteration 34: det(Q)=0.5063103775082431\n",
      "INFO:drake:Total Lagrangian step time 1.509 s\n",
      "INFO:drake:Iteration 35: det(Q)=0.5092285616914567\n",
      "INFO:drake:Total Lagrangian step time 2.09 s\n",
      "INFO:drake:Iteration 36: det(Q)=0.5117831659851905\n",
      "INFO:drake:Total Lagrangian step time 1.705 s\n",
      "INFO:drake:Iteration 37: det(Q)=0.5140363399997172\n",
      "INFO:drake:Total Lagrangian step time 1.673 s\n",
      "INFO:drake:Iteration 38: det(Q)=0.5160264330629605\n",
      "INFO:drake:Total Lagrangian step time 1.992 s\n",
      "INFO:drake:Iteration 39: det(Q)=0.517789059241371\n",
      "INFO:drake:Total Lagrangian step time 2.161 s\n",
      "INFO:drake:Iteration 40: det(Q)=0.5193563008501926\n",
      "INFO:drake:Total Lagrangian step time 1.982 s\n",
      "INFO:drake:Iteration 41: det(Q)=0.5207655016610769\n",
      "INFO:drake:Total Lagrangian step time 1.773 s\n",
      "INFO:drake:Iteration 42: det(Q)=0.5220424364765754\n",
      "INFO:drake:Total Lagrangian step time 1.872 s\n",
      "INFO:drake:Iteration 43: det(Q)=0.5232031913346348\n",
      "INFO:drake:Total Lagrangian step time 2.148 s\n",
      "INFO:drake:Iteration 44: det(Q)=0.5242666641800415\n",
      "INFO:drake:Total Lagrangian step time 1.823 s\n",
      "INFO:drake:Iteration 45: det(Q)=0.5252488338568622\n",
      "INFO:drake:Total Lagrangian step time 1.86 s\n",
      "INFO:drake:Iteration 46: det(Q)=0.5261609157741438\n",
      "INFO:drake:Total Lagrangian step time 1.656 s\n",
      "INFO:drake:Iteration 47: det(Q)=0.5270082187001206\n",
      "INFO:drake:Total Lagrangian step time 1.766 s\n",
      "INFO:drake:Iteration 48: det(Q)=0.527803870405281\n",
      "INFO:drake:Total Lagrangian step time 1.595 s\n",
      "INFO:drake:Iteration 49: det(Q)=0.5285592814895455\n",
      "INFO:drake:Total Lagrangian step time 1.546 s\n",
      "INFO:drake:Iteration 50: det(Q)=0.5292777351954948\n",
      "INFO:drake:Total Lagrangian step time 1.711 s\n",
      "INFO:drake:Iteration 51: det(Q)=0.5299634096017377\n",
      "INFO:drake:Total Lagrangian step time 1.884 s\n",
      "INFO:drake:Iteration 52: det(Q)=0.5306186216264789\n",
      "INFO:drake:Total Lagrangian step time 1.789 s\n",
      "INFO:drake:Iteration 53: det(Q)=0.5312466239760166\n",
      "INFO:drake:Total Lagrangian step time 1.471 s\n",
      "INFO:drake:Iteration 54: det(Q)=0.5318537998208692\n",
      "INFO:drake:Total Lagrangian step time 1.88 s\n",
      "INFO:drake:Iteration 55: det(Q)=0.5324444401703271\n",
      "INFO:drake:Total Lagrangian step time 1.835 s\n",
      "INFO:drake:Iteration 56: det(Q)=0.5330141256353906\n",
      "INFO:drake:Total Lagrangian step time 2.071 s\n",
      "INFO:drake:Iteration 57: det(Q)=0.5335656773646279\n",
      "INFO:drake:Total Lagrangian step time 1.717 s\n",
      "INFO:drake:Iteration 58: det(Q)=0.534100140143806\n",
      "INFO:drake:Total Lagrangian step time 1.406 s\n",
      "INFO:drake:Iteration 59: det(Q)=0.5346189192845103\n",
      "INFO:drake:Total Lagrangian step time 1.805 s\n",
      "INFO:drake:Iteration 60: det(Q)=0.5351312107898588\n",
      "INFO:drake:Total Lagrangian step time 1.603 s\n",
      "INFO:drake:Iteration 61: det(Q)=0.5356250607918879\n",
      "INFO:drake:Total Lagrangian step time 1.577 s\n",
      "INFO:drake:Iteration 62: det(Q)=0.5361061115899545\n",
      "INFO:drake:Total Lagrangian step time 1.873 s\n",
      "INFO:drake:Iteration 63: det(Q)=0.5365775361148509\n",
      "INFO:drake:Total Lagrangian step time 1.807 s\n",
      "INFO:drake:Iteration 64: det(Q)=0.5370337537003279\n",
      "INFO:drake:Total Lagrangian step time 1.665 s\n",
      "INFO:drake:Iteration 65: det(Q)=0.5374795303007079\n",
      "INFO:drake:Total Lagrangian step time 1.611 s\n",
      "INFO:drake:Iteration 66: det(Q)=0.5379136623011035\n",
      "INFO:drake:Total Lagrangian step time 1.647 s\n",
      "INFO:drake:Iteration 67: det(Q)=0.5383366236993569\n",
      "INFO:drake:Total Lagrangian step time 1.87 s\n",
      "INFO:drake:Iteration 68: det(Q)=0.5387493838705796\n",
      "INFO:drake:Total Lagrangian step time 1.647 s\n",
      "INFO:drake:Iteration 69: det(Q)=0.5391506498367772\n",
      "INFO:drake:Total Lagrangian step time 1.662 s\n",
      "INFO:drake:Iteration 70: det(Q)=0.5395415811805274\n",
      "INFO:drake:Total Lagrangian step time 1.881 s\n",
      "INFO:drake:Iteration 71: det(Q)=0.5399249271552796\n",
      "INFO:drake:Total Lagrangian step time 1.837 s\n",
      "INFO:drake:Iteration 72: det(Q)=0.5402959312261538\n",
      "INFO:drake:Total Lagrangian step time 1.771 s\n",
      "INFO:drake:Iteration 73: det(Q)=0.5406539962902263\n",
      "INFO:drake:Total Lagrangian step time 1.757 s\n",
      "INFO:drake:Iteration 74: det(Q)=0.5410085592002283\n",
      "INFO:drake:Total Lagrangian step time 1.917 s\n",
      "INFO:drake:Iteration 75: det(Q)=0.5413567155135607\n",
      "INFO:drake:Total Lagrangian step time 1.516 s\n",
      "INFO:drake:Iteration 76: det(Q)=0.5416964037862163\n",
      "INFO:drake:Total Lagrangian step time 1.606 s\n",
      "INFO:drake:Iteration 77: det(Q)=0.5420281575373463\n",
      "INFO:drake:Total Lagrangian step time 1.931 s\n",
      "INFO:drake:Iteration 78: det(Q)=0.5423519422726032\n",
      "INFO:drake:Total Lagrangian step time 1.785 s\n",
      "INFO:drake:Iteration 79: det(Q)=0.5426702173863595\n",
      "INFO:drake:Total Lagrangian step time 1.847 s\n",
      "INFO:drake:Iteration 80: det(Q)=0.5429852402859009\n",
      "INFO:drake:Total Lagrangian step time 1.812 s\n",
      "INFO:drake:Iteration 81: det(Q)=0.5432919892441386\n",
      "INFO:drake:Total Lagrangian step time 2.038 s\n",
      "INFO:drake:Iteration 82: det(Q)=0.5435957448387257\n",
      "INFO:drake:Total Lagrangian step time 1.643 s\n",
      "INFO:drake:Iteration 83: det(Q)=0.5438982022879872\n",
      "INFO:drake:Total Lagrangian step time 1.896 s\n",
      "INFO:drake:Iteration 84: det(Q)=0.5441943481250257\n"
     ]
    },
    {
     "name": "stderr",
     "output_type": "stream",
     "text": [
      "INFO:drake:Total Lagrangian step time 1.599 s\n",
      "INFO:drake:Iteration 85: det(Q)=0.5444848402802911\n",
      "INFO:drake:Total Lagrangian step time 1.939 s\n",
      "INFO:drake:Iteration 86: det(Q)=0.5447697838637201\n",
      "INFO:drake:Total Lagrangian step time 1.838 s\n",
      "WARNING:drake:Failed before backoff.\n",
      "ERROR:drake:Cannot find the separation certificate at iteration 87 given the Lagrangians.\n"
     ]
    }
   ],
   "source": [
    "# We grow certified regions around each seedpoint using bilinear alternation.\n",
    "bilinear_alternation_results_by_seed_point = dict.fromkeys([tuple(s) for s in seed_points])\n",
    "times_per_region = []\n",
    "for i, (s, (initial_region, color)) in enumerate(zip(seed_points, initial_regions)):\n",
    "    print(f\"starting seedpoint {i+1}/{len(initial_regions)}\")\n",
    "    time.sleep(0.1) # make the above print before the Drake log.\n",
    "    bilinear_alternation_options.find_polytope_options.s_inner_pts = s\n",
    "    t_start = time.perf_counter()\n",
    "    result = cspace_free_polytope.SearchWithBilinearAlternation(set(), initial_region.A(),\n",
    "                                                                initial_region.b(),\n",
    "                                                                bilinear_alternation_options)\n",
    "    t_end = time.perf_counter()\n",
    "    times_per_region.append(t_end - t_start)\n",
    "    bilinear_alternation_results_by_seed_point[tuple(s)] = [(cert.certified_polytope,\n",
    "                                                             cert, color) for cert in result]\n",
    "\n"
   ]
  },
  {
   "cell_type": "code",
   "execution_count": 17,
   "metadata": {},
   "outputs": [
    {
     "name": "stdout",
     "output_type": "stream",
     "text": [
      "Time to generate region 0 =314.1406491920352\n",
      "Total time = 314.1406491920352\n"
     ]
    }
   ],
   "source": [
    "for i in range(seed_points.shape[0]):\n",
    "    print(f\"Time to generate region {i} ={times_per_region[i]}\")\n",
    "print(f\"Total time = {sum(times_per_region)}\")"
   ]
  },
  {
   "cell_type": "code",
   "execution_count": null,
   "metadata": {},
   "outputs": [],
   "source": [
    "bil_alt_search_result = [cert for (_, cert, _) in bilinear_alternation_results_by_seed_point[tuple(seed_points[0])]]"
   ]
  },
  {
   "cell_type": "code",
   "execution_count": null,
   "metadata": {},
   "outputs": [],
   "source": [
    "bil_alt_search_result"
   ]
  },
  {
   "cell_type": "code",
   "execution_count": null,
   "metadata": {},
   "outputs": [],
   "source": [
    "import matplotlib.pyplot as plt\n",
    "data = [(c.num_iter, c.certified_polytope.MaximumVolumeInscribedEllipsoid().Volume()) \n",
    "        for c in bil_alt_search_result]\n"
   ]
  },
  {
   "cell_type": "code",
   "execution_count": null,
   "metadata": {},
   "outputs": [],
   "source": [
    "x, y = map(list, zip(*data))\n",
    "plt.plot(x, y, 'bo-')\n",
    "plt.xlabel(\"Iteration number\")\n",
    "plt.ylabel(\"Volume of Inscribed Ellipsoid\")\n",
    "plt.title(\"Volume of Inscribed Ellipsoid during Bilinear Alternation\")\n",
    "plt.savefig(\"pen_rail_vol.svg\")\n",
    "plt.show()"
   ]
  },
  {
   "cell_type": "code",
   "execution_count": null,
   "metadata": {},
   "outputs": [],
   "source": []
  },
  {
   "cell_type": "code",
   "execution_count": null,
   "metadata": {},
   "outputs": [],
   "source": [
    "# # visualize the regions and corresponding certificates\n",
    "# for i, result in enumerate(bilinear_alternation_results_by_seed_point.values()):\n",
    "#     group_name = f\"/bil_alt_seed_point_{i}\"\n",
    "#     visualizer.add_group_of_regions_and_certs_to_visualization(result, group_name, \n",
    "#                                                                wireframe = False, \n",
    "#                                                                random_color_opacity = 0.2)"
   ]
  },
  {
   "cell_type": "code",
   "execution_count": null,
   "metadata": {},
   "outputs": [],
   "source": [
    "all_r0 = list(bilinear_alternation_results_by_seed_point.values())[0]\n",
    "regions = [all_r0[0]]\n",
    "last_vol = regions[0][0].MaximumVolumeInscribedEllipsoid().Volume()\n",
    "for i, (region, cert, color) in enumerate(all_r0):\n",
    "    cur_vol = region.MaximumVolumeInscribedEllipsoid().Volume()\n",
    "    delta = (cur_vol - last_vol)/last_vol\n",
    "    if (cur_vol - last_vol)/last_vol > 0.2:\n",
    "        last_vol = cur_vol\n",
    "        regions.append((region, cert, None))\n",
    "        \n",
    "print(f\"Kept {len(regions)}/{len(all_r0)}\")\n",
    "\n",
    "visualizer.add_group_of_regions_and_certs_to_visualization(regions, \"partial_bil_alt\",\n",
    "                                                          wireframe = False, \n",
    "                                                           random_color_opacity = 0.0)"
   ]
  },
  {
   "cell_type": "markdown",
   "metadata": {},
   "source": [
    "# Growing regions with binary search\n",
    "\n",
    "### While the bilinear alternation scheme has the flexibility to search for fairly flexible polytopes, it can be relatively slow. We can search for larger regions faster by uniformly growing our polytopes using binary search"
   ]
  },
  {
   "cell_type": "code",
   "execution_count": null,
   "metadata": {},
   "outputs": [],
   "source": [
    "# We grow certified regions around each seedpoint using binary search.\n",
    "binary_search_results_by_seed_point = dict.fromkeys([tuple(s) for s in seed_points])\n",
    "for i, (s, (initial_region, color)) in enumerate(zip(seed_points, initial_regions)):\n",
    "    print(f\"starting seedpoint {i+1}/{len(initial_regions)}\")\n",
    "    time.sleep(0.2)\n",
    "    cert = cspace_free_polytope.BinarySearch(set(),initial_region.A(),\n",
    "                                               initial_region.b(),\n",
    "                                                 s,binary_search_options)\n",
    "    binary_search_results_by_seed_point[tuple(s)] = [(cert.certified_polytope, cert, color)]\n",
    "                                                     \n"
   ]
  },
  {
   "cell_type": "code",
   "execution_count": null,
   "metadata": {},
   "outputs": [],
   "source": [
    "# visualize the regions and corresponding certificates\n",
    "for i, result in enumerate(binary_search_results_by_seed_point.values()):\n",
    "    group_name = f\"/bin_search_seed_point_{i}\"\n",
    "    visualizer.add_group_of_regions_and_certs_to_visualization(result, group_name, \n",
    "                                                               wireframe = False, opacity = 0.2)"
   ]
  },
  {
   "cell_type": "markdown",
   "metadata": {},
   "source": [
    "## Combining Binary Search and Bilinear Alternation\n",
    "### Of course, we can get the best of both worlds by combining the two methods"
   ]
  },
  {
   "cell_type": "code",
   "execution_count": null,
   "metadata": {},
   "outputs": [],
   "source": [
    "# we use this to back off a bit from the binary search results for numerical reasons\n",
    "def scale_polytope_about_point(hpoly, s, scale):\n",
    "    if not hpoly.PointInSet(s):\n",
    "        raise ValueError(f\"The point s must be in the HPolyhedron\")\n",
    "    b_scaled = scale * hpoly.b() + (1 - scale) * hpoly.A() @ s\n",
    "    return HPolyhedron(hpoly.A(), b_scaled)\n",
    "    "
   ]
  },
  {
   "cell_type": "code",
   "execution_count": null,
   "metadata": {},
   "outputs": [],
   "source": [
    "# Now we grow certified regions around each seedpoint using bilinear alternation \n",
    "# starting from the binary certified regions.\n",
    "\n",
    "# There is currently a bug in Mosek that kills the kernel if you this cell.\n",
    "\n",
    "binary_and_bilinear_certified_regions = {k: [(r, cert, color)] for k,v in binary_search_results_by_seed_point.items() \n",
    "                                   for (r, cert, color) in v}\n",
    "\n",
    "for i, (s, region_list) in enumerate(binary_and_bilinear_certified_regions.items()):\n",
    "    bin_search_region, cert0, color = region_list[0]\n",
    "    print(f\"starting seedpoint {i+1}/{len(initial_regions)}\")\n",
    "    time.sleep(0.2)\n",
    "    cur_s = np.array(s)\n",
    "    bilinear_alternation_options.find_polytope_options.s_inner_pts = cur_s\n",
    "    \n",
    "    # We back off a little bit from the binary search solution so that we don't encounter numerical issues.\n",
    "    initial_region = scale_polytope_about_point(bin_search_region, cur_s, 0.98)\n",
    "    certificates = cspace_free_polytope.SearchWithBilinearAlternation(set(),\n",
    "                                                                      initial_region.A(),\n",
    "                                                                      initial_region.b(), \n",
    "                                                                      bilinear_alternation_options)\n",
    "    \n",
    "    binary_and_bilinear_certified_regions[s] += [(result.certified_polytope, result, color) for result in certificates]"
   ]
  },
  {
   "cell_type": "code",
   "execution_count": null,
   "metadata": {},
   "outputs": [],
   "source": [
    "# visualize the regions and corresponding certificates\n",
    "# for i, result in enumerate(binary_and_bilinear_certified_regions.values()):\n",
    "#     group_name = f\"/bin_then_bil_search_seed_point_{i}\"\n",
    "#     visualizer.add_group_of_regions_and_certs_to_visualization(result, group_name, \n",
    "#                                                                wireframe = False, opacity = 0.2)"
   ]
  },
  {
   "cell_type": "code",
   "execution_count": null,
   "metadata": {},
   "outputs": [],
   "source": [
    "all_r0 = list(binary_and_bilinear_certified_regions.values())[0]\n",
    "regions = [all_r0[0]]\n",
    "last_vol = regions[0][0].MaximumVolumeInscribedEllipsoid().Volume()\n",
    "for i, (region, cert, color) in enumerate(all_r0):\n",
    "    cur_vol = region.MaximumVolumeInscribedEllipsoid().Volume()\n",
    "    delta = (cur_vol - last_vol)/last_vol\n",
    "    if (cur_vol - last_vol)/last_vol > 0.0:\n",
    "        last_vol = cur_vol\n",
    "        regions.append((region, cert, None))\n",
    "        \n",
    "print(f\"Kept {len(regions)}/{len(all_r0)}\")\n",
    "\n",
    "visualizer.add_group_of_regions_and_certs_to_visualization(regions, \"partial_bin_and_bil\",\n",
    "                                                          wireframe = False, \n",
    "                                                           random_color_opacity = 0.0)"
   ]
  },
  {
   "cell_type": "markdown",
   "metadata": {},
   "source": [
    "## Seeding and Certifying with a Stronger Heuristic\n",
    "We have also implemented another, strong heuristic for proposing good initial regions based on non-linear optimization. See Appendix TODO of our paper TODO for details"
   ]
  },
  {
   "cell_type": "code",
   "execution_count": null,
   "metadata": {},
   "outputs": [],
   "source": [
    "iris_regions = []\n",
    "iris_ellipses = []\n",
    "\n",
    "iris_options = IrisOptions()\n",
    "iris_options.require_sample_point_is_contained = True\n",
    "iris_options.configuration_space_margin = 1e-3\n",
    "iris_options.relative_termination_threshold = 0.001\n",
    "\n",
    "context_for_iris = visualizer.task_space_diagram_context\n",
    "for i, s in enumerate(seed_points):\n",
    "    q = Ratfk.ComputeQValue(s, q_star)\n",
    "    plant.SetPositions(plant.GetMyMutableContextFromRoot(context_for_iris), q)\n",
    "    r = IrisInRationalConfigurationSpace(plant, \n",
    "                                         plant.GetMyContextFromRoot(context_for_iris),\n",
    "                                         q_star, iris_options)\n",
    "    iris_regions.append((r, colors_dict[i]))\n",
    "    iris_ellipses.append(r.MaximumVolumeInscribedEllipsoid())\n",
    "    \n",
    "\n"
   ]
  },
  {
   "cell_type": "code",
   "execution_count": null,
   "metadata": {},
   "outputs": [],
   "source": [
    "iris_regions[0][0].A().shape[0]"
   ]
  },
  {
   "cell_type": "code",
   "execution_count": null,
   "metadata": {},
   "outputs": [],
   "source": [
    "visualizer.add_group_of_regions_to_visualization(iris_regions, \"/uncertified-iris\", \n",
    "                                                            wireframe = False, opacity = 0.2)"
   ]
  },
  {
   "cell_type": "markdown",
   "metadata": {},
   "source": [
    "### These regions tend to be very large, but typically are not completely collision free. We can use the binary search method to find a uniform shrinking of these regions to prove their safety and then again improve them with bilinear alternations."
   ]
  },
  {
   "cell_type": "code",
   "execution_count": null,
   "metadata": {},
   "outputs": [],
   "source": [
    "binary_search_options_for_iris = CspaceFreePolytope.BinarySearchOptions()\n",
    "binary_search_options_for_iris.scale_max = 1 # it is highly unlikely that the regions can grow, but we can try\n",
    "binary_search_options_for_iris.find_lagrangian_options = find_separation_certificate_given_polytope_options\n",
    "binary_search_options_for_iris.max_iter = 50"
   ]
  },
  {
   "cell_type": "code",
   "execution_count": null,
   "metadata": {
    "scrolled": true
   },
   "outputs": [],
   "source": [
    "binary_search_region_certificates_for_iris = dict.fromkeys([tuple(s) for s in seed_points])\n",
    "for i, (s, (initial_region, color)) in enumerate(zip(seed_points, iris_regions)):\n",
    "    print(f\"starting seedpoint {i+1}/{len(iris_regions)}\")\n",
    "    time.sleep(0.2)    \n",
    "    cert = cspace_free_polytope.BinarySearch(set(),\n",
    "                                                    initial_region.A(),\n",
    "                                                    initial_region.b(), \n",
    "                                                    initial_region.MaximumVolumeInscribedEllipsoid().center(), \n",
    "                                                    binary_search_options_for_iris)\n",
    "    binary_search_region_certificates_for_iris[tuple(s)] = [(cert.certified_polytope,\n",
    "                                                             cert, color)]"
   ]
  },
  {
   "cell_type": "code",
   "execution_count": null,
   "metadata": {},
   "outputs": [],
   "source": [
    "for i, result in enumerate(binary_search_region_certificates_for_iris.values()):\n",
    "    group_name = f\"/certified-iris-bin_seed_point_{i}\"\n",
    "    visualizer.add_group_of_regions_and_certs_to_visualization(result, group_name, \n",
    "                                                            wireframe = False, opacity = 0.2)"
   ]
  },
  {
   "cell_type": "code",
   "execution_count": null,
   "metadata": {},
   "outputs": [],
   "source": [
    "# Finally we grow the regions again using bilinear alternations.\n",
    "\n",
    "# There is a numerical bug in Mosek that kills the kernel of we try this\n",
    "bilinear_certified_regions_iris = binary_search_region_certificates_for_iris.copy()\n",
    "\n",
    "# There is a numerical bug in Mosek that kills the kernel of we try this.\n",
    "for i, (s, region_start) in enumerate(bilinear_certified_regions_iris.items()):\n",
    "    print(f\"starting seedpoint {i+1}/{len(initial_regions)}\")\n",
    "    time.sleep(0.2)\n",
    "    cur_s = np.array(s)\n",
    "    bilinear_alternation_options.find_polytope_options.s_inner_pts = cur_s\n",
    "    \n",
    "    # We back off a little bit from the binary search solution so that we don't encounter numerical issues.\n",
    "    initial_region = scale_polytope_about_point(region_start[0][0], cur_s, 0.90)\n",
    "    certificates = cspace_free_polytope.SearchWithBilinearAlternation(set(),\n",
    "                                                                      initial_region.A(),\n",
    "                                                                      initial_region.b(), \n",
    "                                                                      bilinear_alternation_options)\n",
    "    bilinear_certified_regions_iris[s] += [(HPolyhedron(result.C, result.d), result) for result in certificates]"
   ]
  },
  {
   "cell_type": "code",
   "execution_count": null,
   "metadata": {},
   "outputs": [],
   "source": [
    "for i, result in enumerate(bilinear_certified_regions_iris.values()):\n",
    "    visualizer.add_group_of_regions_and_certs_to_visualization(result, \"/certified-iris-bin\", \n",
    "                                                            wireframe = False, opacity = 0.2)"
   ]
  },
  {
   "cell_type": "markdown",
   "metadata": {},
   "source": [
    "# Now it is time to play with the visualization! If you open the task space visualizer, we can highlight specific geometries and their separating planes in different regions.\n",
    "## Notice that when regions overlap, we get multiple planes certifying non-collision"
   ]
  },
  {
   "cell_type": "code",
   "execution_count": null,
   "metadata": {},
   "outputs": [],
   "source": [
    "for slider in sliders:\n",
    "    display(slider)"
   ]
  },
  {
   "cell_type": "code",
   "execution_count": null,
   "metadata": {},
   "outputs": [],
   "source": [
    "cur_q = np.array([-0.47, 1.01])\n",
    "cur_s = Ratfk.ComputeSValue(cur_q, q_star)\n"
   ]
  },
  {
   "cell_type": "code",
   "execution_count": null,
   "metadata": {},
   "outputs": [],
   "source": [
    "# Uncomment this cell for an interface for choosing good planes of interest\n",
    "# plane_indices = np.arange(0, len(cspace_free_polytope.separating_planes()))\n",
    "# last_plane_index = 0\n",
    "# cur_plane_index = 0\n",
    "# plane_indices_to_geometries = {v: k for k,v in cspace_free_polytope.map_geometries_to_separating_planes().items()}\n",
    "\n",
    "# while True:\n",
    "#     visualizer.meshcat_task_space.Delete(f\"/plane_{last_plane_index}\")\n",
    "#     geom1, geom2 = plane_indices_to_geometries[cur_plane_index]\n",
    "#     color = Rgba(0,0,1,1)\n",
    "    \n",
    "#     prefix = f\"/plane_{cur_plane_index}\"\n",
    "#     visualizer.highlight_geometry_id(geom1, color, prefix+f\"/{geom1}\")\n",
    "#     visualizer.highlight_geometry_id(geom2, color, prefix+f\"/{geom2}\")\n",
    "#     print(f\"current plane index = {cur_plane_index}\")\n",
    "    \n",
    "#     last_plane_index = cur_plane_index\n",
    "#     valid_key_pressed = False\n",
    "#     while not valid_key_pressed:\n",
    "#         key_press = input(\"Enter d to increase plane_count, a to decrease, and e to exit...\")\n",
    "#         if key_press in [\"a\", \"d\", \"e\"]:\n",
    "#             valid_key_pressed = True\n",
    "#     if key_press == \"a\":\n",
    "#         cur_plane_index = max(cur_plane_index - 1, min(plane_indices))\n",
    "#     elif key_press == \"d\":\n",
    "#         cur_plane_index = min(cur_plane_index + 1, max(plane_indices))\n",
    "#     elif key_press == \"e\":\n",
    "#         break\n",
    "#     print()"
   ]
  },
  {
   "cell_type": "code",
   "execution_count": null,
   "metadata": {},
   "outputs": [],
   "source": [
    "# Uncomment this cell for seeing all the planes associated to a particular geometry id\n",
    "interesting_geometry = 65\n",
    "plane_indices = np.arange(0, len(cspace_free_polytope.separating_planes()))\n",
    "plane_indices_to_geometries = {v: k for k,v in cspace_free_polytope.map_geometries_to_separating_planes().items()}\n",
    "\n",
    "associated_plane_indices = []\n",
    "for plane_index, (geom1, geom2) in plane_indices_to_geometries.items():\n",
    "    if interesting_geometry in (geom1.get_value(), geom2. get_value()):\n",
    "        associated_plane_indices.append(plane_index)\n",
    "\n",
    "        \n",
    "last_associated_index_index = 0\n",
    "cur_associated_index_index = 0\n",
    "\n",
    "visualizer.clear_plane_indices_of_interest()\n",
    "while True:\n",
    "    last_plane_index = associated_plane_indices[last_associated_index_index]\n",
    "    cur_plane_index = associated_plane_indices[cur_associated_index_index]\n",
    "    \n",
    "    print(f\"current plane index = {cur_plane_index}\")\n",
    "    \n",
    "    visualizer.remove_plane_indices_of_interest(last_plane_index)\n",
    "    visualizer.add_plane_indices_of_interest(cur_plane_index)\n",
    "    \n",
    "    cur_q = visualizer.plant.GetPositions(visualizer.plant_context)\n",
    "    visualizer.show_res_q(cur_q)\n",
    "    \n",
    "    last_associated_index_index = cur_associated_index_index\n",
    "    valid_key_pressed = False\n",
    "    while not valid_key_pressed:\n",
    "        key_press = input(\"Enter d to increase plane_count, a to decrease, and e to exit...\")\n",
    "        if key_press in [\"a\", \"d\", \"e\"]:\n",
    "            valid_key_pressed = True\n",
    "    if key_press == \"a\":\n",
    "        cur_associated_index_index = max(cur_associated_index_index - 1, min(associated_plane_indices))\n",
    "    elif key_press == \"d\":\n",
    "        cur_associated_index_index = min(cur_associated_index_index + 1, max(associated_plane_indices))\n",
    "    elif key_press == \"e\":\n",
    "        break\n",
    "    print()"
   ]
  },
  {
   "cell_type": "code",
   "execution_count": null,
   "metadata": {},
   "outputs": [],
   "source": [
    "interesting_geometry = 65\n",
    "plane_indices = np.arange(0, len(cspace_free_polytope.separating_planes()))\n",
    "plane_indices_to_geometries = {v: k for k,v in cspace_free_polytope.map_geometries_to_separating_planes().items()}\n",
    "\n",
    "associated_plane_indices = []\n",
    "for plane_index, (geom1, geom2) in plane_indices_to_geometries.items():\n",
    "    if interesting_geometry in (geom1.get_value(), geom2. get_value()):\n",
    "        associated_plane_indices.append(plane_index)\n",
    "visualizer.add_plane_indices_of_interest(*associated_plane_indices)"
   ]
  },
  {
   "cell_type": "code",
   "execution_count": null,
   "metadata": {},
   "outputs": [],
   "source": [
    "import visualization_utils as viz_utils\n",
    "colors_rgb = [np.array(c)/255 for c in viz_utils.n_colors(len(visualizer.plane_indices))]\n",
    "# colors_rgb = [np.random.rand(3) for c in range(len(visualizer.plane_indices))]\n",
    "\n",
    "alpha = 0.8\n",
    "colors = [Rgba(*c, alpha) for c in colors_rgb]\n",
    "cert = binary_search_region_certificates_for_iris[tuple(seed_points[0])][0][1]\n",
    "for plane_index, color in zip(associated_plane_indices, colors):\n",
    "#     visualizer.show_res_s(s)\n",
    "    visualizer.plot_plane_by_index_at_s(cur_s, plane_index, cert, color, \"/plane\")"
   ]
  },
  {
   "cell_type": "code",
   "execution_count": null,
   "metadata": {},
   "outputs": [],
   "source": [
    "visualizer.highlight_geometry_id(plane_indices_to_geometries[associated_plane_indices[0]][0],\n",
    "                                Rgba(0,0,0,1))"
   ]
  },
  {
   "cell_type": "code",
   "execution_count": null,
   "metadata": {},
   "outputs": [],
   "source": [
    "filename_prefix = \"pend_on_rail_\"\n",
    "with open(filename_prefix + \"cspace.html\", \"w\") as f:\n",
    "        f.write(visualizer.meshcat_cspace.StaticHtml())\n",
    "with open(filename_prefix + \"task_space.html\", \"w\") as f:\n",
    "        f.write(visualizer.meshcat_task_space.StaticHtml())\n",
    "    "
   ]
  }
 ],
 "metadata": {
  "interpreter": {
   "hash": "31f2aee4e71d21fbe5cf8b01ff0e069b9275f58929596ceb00d14d90e3e16cd6"
  },
  "kernelspec": {
   "display_name": "Python 3",
   "language": "python",
   "name": "python3"
  },
  "language_info": {
   "codemirror_mode": {
    "name": "ipython",
    "version": 3
   },
   "file_extension": ".py",
   "mimetype": "text/x-python",
   "name": "python",
   "nbconvert_exporter": "python",
   "pygments_lexer": "ipython3",
   "version": "3.8.10"
  }
 },
 "nbformat": 4,
 "nbformat_minor": 2
}
