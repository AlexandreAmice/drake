{
 "cells": [
  {
   "cell_type": "code",
   "execution_count": 1,
   "metadata": {},
   "outputs": [],
   "source": [
    "%load_ext autoreload"
   ]
  },
  {
   "cell_type": "code",
   "execution_count": 2,
   "metadata": {},
   "outputs": [],
   "source": [
    "import numpy as np\n",
    "from functools import partial\n",
    "from iris_plant_visualizer import IrisPlantVisualizer\n",
    "import ipywidgets as widgets\n",
    "from IPython.display import display\n",
    "from scipy.linalg import block_diag\n",
    "from time import perf_counter"
   ]
  },
  {
   "cell_type": "code",
   "execution_count": 3,
   "metadata": {},
   "outputs": [],
   "source": [
    "#pydrake imports\n",
    "from pydrake.common import FindResourceOrThrow\n",
    "from pydrake.multibody.parsing import LoadModelDirectives, Parser, ProcessModelDirectives\n",
    "from pydrake.multibody.plant import AddMultibodyPlantSceneGraph\n",
    "from pydrake.systems.framework import DiagramBuilder\n",
    "from pydrake.geometry import Role, GeometrySet, CollisionFilterDeclaration\n",
    "from pydrake.all import RigidTransform, RollPitchYaw, RevoluteJoint\n",
    "from pydrake.all import RotationMatrix, Rgba\n",
    "import time\n",
    "import pydrake.multibody.rational as rational_forward_kinematics\n",
    "from pydrake.all import RationalForwardKinematics\n",
    "from pydrake.all import GeometrySet, CollisionFilterDeclaration, CollisionFilterManager\n",
    "from pydrake.geometry.optimization import IrisOptions, IrisInRationalConfigurationSpace, HPolyhedron, Hyperellipsoid\n",
    "from pydrake.solvers import MosekSolver, CommonSolverOption, SolverOptions"
   ]
  },
  {
   "cell_type": "code",
   "execution_count": 4,
   "metadata": {},
   "outputs": [],
   "source": [
    "from pydrake.geometry.optimization_dev import (CspaceFreePolytope, \n",
    "                                               SeparatingPlaneOrder)"
   ]
  },
  {
   "cell_type": "code",
   "execution_count": 5,
   "metadata": {},
   "outputs": [],
   "source": [
    "# import logging\n",
    "# drake_log = logging.getLogger(\"drake\")\n",
    "# drake_log.setLevel(\"DEBUG\")"
   ]
  },
  {
   "cell_type": "markdown",
   "metadata": {},
   "source": [
    "# Build and set up the visualization the plant and the visualization of the C-space obstacle\n",
    "\n",
    "We first set up a simple 2-DOF system and visualize both the plant and the configuration constraint.Click on the two links at the bottom to view the plant and the configuration space.\n",
    "\n",
    "Note that running this cell multiple times will establish multiple meshcat instances which can fill up your memory. It is a good idea to call \"pkill -f meshcat\" from the command line before re-running this cell\n"
   ]
  },
  {
   "cell_type": "code",
   "execution_count": 6,
   "metadata": {},
   "outputs": [
    {
     "name": "stderr",
     "output_type": "stream",
     "text": [
      "WARNING:drake:/home/amice/.cache/bazel/_bazel_amice/32fdbbecfa8a7ce8feece95e48c42006/execroot/drake/bazel-out/k8-opt/bin/C_Iris_Examples/pendulum_on_rail2d.runfiles/drake/C_Iris_Examples/assets/2dof_iiwa_translating_base.sdf:454: warning: Ignoring unsupported SDFormat element in model: plugin\n",
      "WARNING:drake:/home/amice/.cache/bazel/_bazel_amice/32fdbbecfa8a7ce8feece95e48c42006/execroot/drake/bazel-out/k8-opt/bin/C_Iris_Examples/pendulum_on_rail2d.runfiles/drake/C_Iris_Examples/assets/2dof_iiwa_translating_base.sdf:39: warning: Ignoring unsupported SDFormat element in link: velocity_decay\n",
      "WARNING:drake:/home/amice/.cache/bazel/_bazel_amice/32fdbbecfa8a7ce8feece95e48c42006/execroot/drake/bazel-out/k8-opt/bin/C_Iris_Examples/pendulum_on_rail2d.runfiles/drake/C_Iris_Examples/assets/2dof_iiwa_translating_base.sdf:40: warning: Ignoring unsupported SDFormat element in link: self_collide\n",
      "WARNING:drake:/home/amice/.cache/bazel/_bazel_amice/32fdbbecfa8a7ce8feece95e48c42006/execroot/drake/bazel-out/k8-opt/bin/C_Iris_Examples/pendulum_on_rail2d.runfiles/drake/C_Iris_Examples/assets/2dof_iiwa_translating_base.sdf:95: warning: Ignoring unsupported SDFormat element in link: velocity_decay\n",
      "WARNING:drake:/home/amice/.cache/bazel/_bazel_amice/32fdbbecfa8a7ce8feece95e48c42006/execroot/drake/bazel-out/k8-opt/bin/C_Iris_Examples/pendulum_on_rail2d.runfiles/drake/C_Iris_Examples/assets/2dof_iiwa_translating_base.sdf:96: warning: Ignoring unsupported SDFormat element in link: self_collide\n",
      "WARNING:drake:/home/amice/.cache/bazel/_bazel_amice/32fdbbecfa8a7ce8feece95e48c42006/execroot/drake/bazel-out/k8-opt/bin/C_Iris_Examples/pendulum_on_rail2d.runfiles/drake/C_Iris_Examples/assets/2dof_iiwa_translating_base.sdf:151: warning: Ignoring unsupported SDFormat element in link: velocity_decay\n",
      "WARNING:drake:/home/amice/.cache/bazel/_bazel_amice/32fdbbecfa8a7ce8feece95e48c42006/execroot/drake/bazel-out/k8-opt/bin/C_Iris_Examples/pendulum_on_rail2d.runfiles/drake/C_Iris_Examples/assets/2dof_iiwa_translating_base.sdf:152: warning: Ignoring unsupported SDFormat element in link: self_collide\n",
      "WARNING:drake:/home/amice/.cache/bazel/_bazel_amice/32fdbbecfa8a7ce8feece95e48c42006/execroot/drake/bazel-out/k8-opt/bin/C_Iris_Examples/pendulum_on_rail2d.runfiles/drake/C_Iris_Examples/assets/2dof_iiwa_translating_base.sdf:207: warning: Ignoring unsupported SDFormat element in link: velocity_decay\n",
      "WARNING:drake:/home/amice/.cache/bazel/_bazel_amice/32fdbbecfa8a7ce8feece95e48c42006/execroot/drake/bazel-out/k8-opt/bin/C_Iris_Examples/pendulum_on_rail2d.runfiles/drake/C_Iris_Examples/assets/2dof_iiwa_translating_base.sdf:208: warning: Ignoring unsupported SDFormat element in link: self_collide\n",
      "WARNING:drake:/home/amice/.cache/bazel/_bazel_amice/32fdbbecfa8a7ce8feece95e48c42006/execroot/drake/bazel-out/k8-opt/bin/C_Iris_Examples/pendulum_on_rail2d.runfiles/drake/C_Iris_Examples/assets/2dof_iiwa_translating_base.sdf:263: warning: Ignoring unsupported SDFormat element in link: velocity_decay\n",
      "WARNING:drake:/home/amice/.cache/bazel/_bazel_amice/32fdbbecfa8a7ce8feece95e48c42006/execroot/drake/bazel-out/k8-opt/bin/C_Iris_Examples/pendulum_on_rail2d.runfiles/drake/C_Iris_Examples/assets/2dof_iiwa_translating_base.sdf:264: warning: Ignoring unsupported SDFormat element in link: self_collide\n",
      "WARNING:drake:/home/amice/.cache/bazel/_bazel_amice/32fdbbecfa8a7ce8feece95e48c42006/execroot/drake/bazel-out/k8-opt/bin/C_Iris_Examples/pendulum_on_rail2d.runfiles/drake/C_Iris_Examples/assets/2dof_iiwa_translating_base.sdf:319: warning: Ignoring unsupported SDFormat element in link: velocity_decay\n",
      "WARNING:drake:/home/amice/.cache/bazel/_bazel_amice/32fdbbecfa8a7ce8feece95e48c42006/execroot/drake/bazel-out/k8-opt/bin/C_Iris_Examples/pendulum_on_rail2d.runfiles/drake/C_Iris_Examples/assets/2dof_iiwa_translating_base.sdf:320: warning: Ignoring unsupported SDFormat element in link: self_collide\n",
      "WARNING:drake:/home/amice/.cache/bazel/_bazel_amice/32fdbbecfa8a7ce8feece95e48c42006/execroot/drake/bazel-out/k8-opt/bin/C_Iris_Examples/pendulum_on_rail2d.runfiles/drake/C_Iris_Examples/assets/2dof_iiwa_translating_base.sdf:375: warning: Ignoring unsupported SDFormat element in link: velocity_decay\n",
      "WARNING:drake:/home/amice/.cache/bazel/_bazel_amice/32fdbbecfa8a7ce8feece95e48c42006/execroot/drake/bazel-out/k8-opt/bin/C_Iris_Examples/pendulum_on_rail2d.runfiles/drake/C_Iris_Examples/assets/2dof_iiwa_translating_base.sdf:376: warning: Ignoring unsupported SDFormat element in link: self_collide\n",
      "WARNING:drake:/home/amice/.cache/bazel/_bazel_amice/32fdbbecfa8a7ce8feece95e48c42006/execroot/drake/bazel-out/k8-opt/bin/C_Iris_Examples/pendulum_on_rail2d.runfiles/drake/C_Iris_Examples/assets/2dof_iiwa_translating_base.sdf:431: warning: Ignoring unsupported SDFormat element in link: velocity_decay\n",
      "WARNING:drake:/home/amice/.cache/bazel/_bazel_amice/32fdbbecfa8a7ce8feece95e48c42006/execroot/drake/bazel-out/k8-opt/bin/C_Iris_Examples/pendulum_on_rail2d.runfiles/drake/C_Iris_Examples/assets/2dof_iiwa_translating_base.sdf:432: warning: Ignoring unsupported SDFormat element in link: self_collide\n",
      "INFO:drake:Meshcat listening for connections at http://localhost:7002\n",
      "INFO:drake:Meshcat listening for connections at http://localhost:7003\n"
     ]
    }
   ],
   "source": [
    "#construct our robot\n",
    "builder = DiagramBuilder()\n",
    "plant, scene_graph = AddMultibodyPlantSceneGraph(builder, time_step=1e-4)\n",
    "collision_filter_manager = scene_graph.collision_filter_manager()\n",
    "inspector = scene_graph.model_inspector()\n",
    "\n",
    "parser = Parser(plant)\n",
    "directives_file = FindResourceOrThrow(\"drake/C_Iris_Examples/directives/trans2dof_directives.yaml\") \n",
    "directives = LoadModelDirectives(directives_file)\n",
    "models = ProcessModelDirectives(directives, plant, parser)\n",
    "\n",
    "# Exclude the base of the iiwa from collision with the box\n",
    "iiwa_base_name = \"iiwa_twoDOF_link_0\"\n",
    "box_base_name = \"box1\"\n",
    "def GetCollisionGeometriesByName(name):\n",
    "    body = plant.GetBodyByName(name)\n",
    "    return plant.GetCollisionGeometriesForBody(body)\n",
    "iiwa_base_geom_set = GeometrySet()\n",
    "iiwa_base_geom_set.Add(GetCollisionGeometriesByName(iiwa_base_name))\n",
    "box_base_geom_set = GeometrySet()\n",
    "box_base_geom_set.Add(GetCollisionGeometriesByName(box_base_name))\n",
    "\n",
    "collision_filter_manager.Apply(\n",
    "    CollisionFilterDeclaration().ExcludeBetween(iiwa_base_geom_set, box_base_geom_set)\n",
    ")\n",
    "plant.Finalize()\n",
    "\n",
    "        \n",
    "# construct the RationalForwardKinematics of this plant. This object handles the\n",
    "# computations for the forward kinematics in the tangent-configuration space\n",
    "Ratfk = RationalForwardKinematics(plant)\n",
    "\n",
    "# the point about which we will take the stereographic projections\n",
    "q_star = np.zeros(plant.num_positions())\n",
    "\n",
    "do_viz = True\n",
    "\n",
    "# The object we will use to perform our certification.\n",
    "cspace_free_polytope = CspaceFreePolytope(plant, scene_graph, SeparatingPlaneOrder.kAffine, q_star)\n",
    "\n",
    "# This line builds the visualization. Change the viz_role to Role.kIllustration if you\n",
    "# want to see the plant with its illustrated geometry or to Role.kProximity if you want\n",
    "# to see the plant with the collision geometries.\n",
    "visualizer = IrisPlantVisualizer(plant, builder, scene_graph, cspace_free_polytope, viz_role=Role.kIllustration)\n",
    "visualizer.visualize_collision_constraint(factor = 1.5, num_points = 100)\n",
    "visualizer.meshcat_cspace.Set2dRenderMode(RigidTransform(RotationMatrix.MakeZRotation(0), np.array([0,0,1])))\n",
    "visualizer.meshcat_task_space.Set2dRenderMode(RigidTransform(RotationMatrix.MakeZRotation(0), np.array([1,0,0])))"
   ]
  },
  {
   "cell_type": "markdown",
   "metadata": {},
   "source": [
    "## Set up the sliders so we can move the plant around manually\n",
    "\n",
    "You can use the sliders below to move the two degrees of freedom of the plant around. A green dot will appear in the TC-space visualization describing the current TC-space configuration."
   ]
  },
  {
   "cell_type": "code",
   "execution_count": 7,
   "metadata": {
    "scrolled": false
   },
   "outputs": [
    {
     "data": {
      "application/vnd.jupyter.widget-view+json": {
       "model_id": "fd315aac288842e2ab0866b514ac03bd",
       "version_major": 2,
       "version_minor": 0
      },
      "text/plain": [
       "FloatSlider(value=0.0, description='q0', max=0.96706, min=-0.96706)"
      ]
     },
     "metadata": {},
     "output_type": "display_data"
    },
    {
     "data": {
      "application/vnd.jupyter.widget-view+json": {
       "model_id": "531740db3f914fdbb6592636f715f650",
       "version_major": 2,
       "version_minor": 0
      },
      "text/plain": [
       "FloatSlider(value=0.0, description='q1', max=2.0944, min=-2.0944)"
      ]
     },
     "metadata": {},
     "output_type": "display_data"
    }
   ],
   "source": [
    "sliders = []\n",
    "for i in range(plant.num_positions()):\n",
    "    q_low = plant.GetPositionLowerLimits()[i]\n",
    "    q_high = plant.GetPositionUpperLimits()[i]\n",
    "    sliders.append(widgets.FloatSlider(min=q_low, max=q_high, value=0, description=f\"q{i}\"))\n",
    "\n",
    "q = np.zeros(plant.num_positions())\n",
    "def handle_slider_change(change, idx):\n",
    "    q[idx] = change['new']\n",
    "    visualizer.show_res_q(q)\n",
    "    \n",
    "idx = 0\n",
    "for slider in sliders:\n",
    "    slider.observe(partial(handle_slider_change, idx = idx), names='value')\n",
    "    idx+=1\n",
    "\n",
    "for slider in sliders:\n",
    "    display(slider)\n"
   ]
  },
  {
   "cell_type": "markdown",
   "metadata": {},
   "source": [
    "# Generate and Certify Regions\n",
    "\n",
    "Around some nominal seed postures, we will grow certified regions by seeding our alternation algorithm using a small initial polytope."
   ]
  },
  {
   "cell_type": "code",
   "execution_count": 8,
   "metadata": {},
   "outputs": [],
   "source": [
    "# Some seedpoints\n",
    "seed_points_q = np.array([\n",
    "    [0,0]\n",
    "#     [-0.07, 1.81],\n",
    "#                           [0.03, -1.79],\n",
    "#                           [0.43, -1.69]\n",
    "                         ])\n",
    "seed_points = np.array([Ratfk.ComputeSValue(seed_points_q[idx], np.zeros((2,)))\\\n",
    "                        for idx in range(seed_points_q.shape[0])])\n",
    "if do_viz:\n",
    "    visualizer.plot_cspace_points(seed_points, \"/iris_seed_points\")\n",
    "    \n",
    "\n",
    "\n",
    "default_scale = 1e-2\n",
    "L1_ball = HPolyhedron.MakeL1Ball(2)\n",
    "Linf_ball = HPolyhedron.MakeBox(-np.ones(2), np.ones(2))\n",
    "\n",
    "template_C = np.vstack([L1_ball.A(), Linf_ball.A()])\n",
    "template_d = np.hstack([default_scale*L1_ball.b(), default_scale/np.sqrt(2)*Linf_ball.b()])\n",
    "\n",
    "\n",
    "def make_default_polytope_at_point(seed_point):\n",
    "    return HPolyhedron(template_C, template_d + template_C @ seed_point)\n",
    "\n",
    "\n",
    "# colors to plot the region. Chosen for color-blind compatibility\n",
    "default_alpha = 0.2\n",
    "colors_dict = {\n",
    "    3: Rgba(0.565, 0.565, 0.565, default_alpha),\n",
    "    1: Rgba(0.118, 0.533, 0.898, default_alpha), # bluish\n",
    "    2: Rgba(1,     0.757, 0.027, default_alpha), # gold\n",
    "    0: Rgba(0,     0.549, 0.024, default_alpha), # green    \n",
    "}\n",
    "\n",
    "iris_regions = []\n",
    "iris_ellipses = []\n",
    "\n",
    "iris_options = IrisOptions()\n",
    "iris_options.require_sample_point_is_contained = True\n",
    "iris_options.configuration_space_margin = 1e-3\n",
    "iris_options.relative_termination_threshold = 0.001\n",
    "\n",
    "context_for_iris = visualizer.task_space_diagram_context\n",
    "for i, s in enumerate(seed_points):\n",
    "    q = Ratfk.ComputeQValue(s, q_star)\n",
    "    plant.SetPositions(plant.GetMyMutableContextFromRoot(context_for_iris), q)\n",
    "    r = IrisInRationalConfigurationSpace(plant, \n",
    "                                         plant.GetMyContextFromRoot(context_for_iris),\n",
    "                                         q_star, iris_options)\n",
    "    iris_regions.append((r, colors_dict[i]))\n",
    "    iris_ellipses.append(r.MaximumVolumeInscribedEllipsoid())\n",
    "    \n",
    "\n",
    "\n",
    "\n",
    "def scale_polytope_about_point(hpoly, s, scale):\n",
    "    if not hpoly.PointInSet(s):\n",
    "        raise ValueError(f\"The point s must be in the HPolyhedron\")\n",
    "    b_scaled = scale * hpoly.b() + (1 - scale) * hpoly.A() @ s\n",
    "    return HPolyhedron(hpoly.A(), b_scaled)\n",
    "    \n",
    "r = iris_regions[0][0]\n",
    "r_scaled = scale_polytope_about_point(r, seed_points[0], 0.05)\n",
    "    \n",
    "# initial_regions = [(make_default_polytope_at_point(s), colors_dict[i]) for i, s in enumerate(seed_points)]\n",
    "initial_regions = [(r_scaled, colors_dict[0])]\n",
    "\n",
    "visualizer.add_group_of_regions_to_visualization(initial_regions, \"initial_regions\",\n",
    "                            wireframe = False,\n",
    "                           opacity = default_alpha)\n",
    "visualizer.show_res_q(q_star)"
   ]
  },
  {
   "cell_type": "markdown",
   "metadata": {},
   "source": [
    "## First we set up some options for our different certification modes"
   ]
  },
  {
   "cell_type": "code",
   "execution_count": 9,
   "metadata": {},
   "outputs": [],
   "source": [
    "# set up the certifier and the options for different search techniques\n",
    "solver_options = SolverOptions()\n",
    "# set this to 1 if you would like to see the solver output in terminal.\n",
    "solver_options.SetOption(CommonSolverOption.kPrintToConsole, 0)\n",
    "\n",
    "# The options for when we search for new planes and positivity certificates given the polytopes\n",
    "find_separation_certificate_given_polytope_options = CspaceFreePolytope.FindSeparationCertificateGivenPolytopeOptions()\n",
    "find_separation_certificate_given_polytope_options.num_threads = -1\n",
    "find_separation_certificate_given_polytope_options.verbose = False\n",
    "find_separation_certificate_given_polytope_options.solver_options = solver_options\n",
    "find_separation_certificate_given_polytope_options.ignore_redundant_C = True\n",
    "\n",
    "# The options for when we search for a new polytope given positivity certificates.\n",
    "find_polytope_given_lagrangian_option = CspaceFreePolytope.FindPolytopeGivenLagrangianOptions()\n",
    "find_polytope_given_lagrangian_option.solver_options = solver_options\n",
    "find_polytope_given_lagrangian_option.ellipsoid_margin_cost = CspaceFreePolytope.EllipsoidMarginCost.kGeometricMean\n",
    "find_polytope_given_lagrangian_option.search_s_bounds_lagrangians = True\n",
    "\n",
    "bilinear_alternation_options = CspaceFreePolytope.BilinearAlternationOptions()\n",
    "bilinear_alternation_options.max_iter = 250\n",
    "bilinear_alternation_options.convergence_tol = 1e-4\n",
    "bilinear_alternation_options.find_polytope_options = find_polytope_given_lagrangian_option\n",
    "bilinear_alternation_options.find_lagrangian_options = find_separation_certificate_given_polytope_options\n",
    "\n",
    "binary_search_options = CspaceFreePolytope.BinarySearchOptions()\n",
    "binary_search_options.find_lagrangian_options = find_separation_certificate_given_polytope_options\n",
    "binary_search_options.scale_min = 1\n",
    "binary_search_options.scale_max = 50\n",
    "binary_search_options.max_iter = 50"
   ]
  },
  {
   "cell_type": "code",
   "execution_count": 10,
   "metadata": {},
   "outputs": [],
   "source": [
    "region = initial_regions[0][0]\n",
    "progs = cspace_free_polytope.ConstructPlaneSearchProgramsForPairs(region.A(), region.b(), find_separation_certificate_given_polytope_options)"
   ]
  },
  {
   "cell_type": "code",
   "execution_count": 11,
   "metadata": {},
   "outputs": [
    {
     "data": {
      "text/plain": [
       "42"
      ]
     },
     "execution_count": 11,
     "metadata": {},
     "output_type": "execute_result"
    }
   ],
   "source": [
    "len(cspace_free_polytope.separating_planes())"
   ]
  },
  {
   "cell_type": "code",
   "execution_count": 12,
   "metadata": {},
   "outputs": [
    {
     "data": {
      "text/plain": [
       "42"
      ]
     },
     "execution_count": 12,
     "metadata": {},
     "output_type": "execute_result"
    }
   ],
   "source": [
    "len(progs)"
   ]
  },
  {
   "cell_type": "code",
   "execution_count": 13,
   "metadata": {},
   "outputs": [],
   "source": [
    "cert_prog = progs[0].prog()"
   ]
  },
  {
   "cell_type": "code",
   "execution_count": 14,
   "metadata": {},
   "outputs": [
    {
     "data": {
      "text/plain": [
       "236"
      ]
     },
     "execution_count": 14,
     "metadata": {},
     "output_type": "execute_result"
    }
   ],
   "source": [
    "cert_prog.num_vars()"
   ]
  },
  {
   "cell_type": "code",
   "execution_count": 25,
   "metadata": {},
   "outputs": [
    {
     "name": "stdout",
     "output_type": "stream",
     "text": [
      "192\n"
     ]
    }
   ],
   "source": [
    "print(len(cert_prog.GetAllConstraints()))"
   ]
  },
  {
   "cell_type": "code",
   "execution_count": 24,
   "metadata": {},
   "outputs": [
    {
     "name": "stdout",
     "output_type": "stream",
     "text": [
      "80\n"
     ]
    }
   ],
   "source": [
    "print(len(cert_prog.linear_equality_constraints()))"
   ]
  },
  {
   "cell_type": "code",
   "execution_count": 18,
   "metadata": {},
   "outputs": [
    {
     "name": "stdout",
     "output_type": "stream",
     "text": [
      "Decision variables: plane_var0  plane_var1  plane_var2  plane_var3  plane_var4  plane_var5  plane_var6  plane_var7  plane_var8  plane_var9 plane_var10 plane_var11     Gram(0)     Gram(1)     Gram(2)     Gram(3)     Gram(4)     Gram(5)     Gram(6)     Gram(7)     Gram(8)     Gram(9)    Gram(10)    Gram(11)    Gram(12)    Gram(13)    Gram(14)    Gram(15)    Gram(16)    Gram(17)    Gram(18)    Gram(19)    Gram(20)    Gram(21)    Gram(22)    Gram(23)    Gram(24)    Gram(25)    Gram(26)    Gram(27)    Gram(28)    Gram(29)    Gram(30)    Gram(31)    Gram(32)    Gram(33)    Gram(34)    Gram(35)    Gram(36)    Gram(37)    Gram(38)    Gram(39)    Gram(40)    Gram(41)    Gram(42)    Gram(43)    Gram(44)    Gram(45)    Gram(46)    Gram(47)    Gram(48)    Gram(49)    Gram(50)    Gram(51)    Gram(52)    Gram(53)    Gram(54)    Gram(55)    Gram(56)    Gram(57)    Gram(58)    Gram(59)    Gram(60)    Gram(61)    Gram(62)    Gram(63)    Gram(64)    Gram(65)    Gram(66)    Gram(67)    Gram(68)    Gram(69)    Gram(70)    Gram(71)    Gram(72)    Gram(73)    Gram(74)    Gram(75)    Gram(76)    Gram(77)    Gram(78)    Gram(79)    Gram(80)    Gram(81)    Gram(82)    Gram(83)    Gram(84)    Gram(85)    Gram(86)    Gram(87)    Gram(88)    Gram(89)    Gram(90)    Gram(91)    Gram(92)    Gram(93)    Gram(94)    Gram(95)    Gram(96)    Gram(97)    Gram(98)    Gram(99)   Gram(100)   Gram(101)   Gram(102)   Gram(103)   Gram(104)   Gram(105)   Gram(106)   Gram(107)   Gram(108)   Gram(109)   Gram(110)   Gram(111)   Gram(112)   Gram(113)   Gram(114)   Gram(115)   Gram(116)   Gram(117)   Gram(118)   Gram(119)   Gram(120)   Gram(121)   Gram(122)   Gram(123)   Gram(124)   Gram(125)   Gram(126)   Gram(127)   Gram(128)   Gram(129)   Gram(130)   Gram(131)   Gram(132)   Gram(133)   Gram(134)   Gram(135)   Gram(136)   Gram(137)   Gram(138)   Gram(139)   Gram(140)   Gram(141)   Gram(142)   Gram(143)   Gram(144)   Gram(145)   Gram(146)   Gram(147)   Gram(148)   Gram(149)   Gram(150)   Gram(151)   Gram(152)   Gram(153)   Gram(154)   Gram(155)   Gram(156)   Gram(157)   Gram(158)   Gram(159)   Gram(160)   Gram(161)   Gram(162)   Gram(163)   Gram(164)   Gram(165)   Gram(166)   Gram(167)   Gram(168)   Gram(169)   Gram(170)   Gram(171)   Gram(172)   Gram(173)   Gram(174)   Gram(175)   Gram(176)   Gram(177)   Gram(178)   Gram(179)   Gram(180)   Gram(181)   Gram(182)   Gram(183)   Gram(184)   Gram(185)   Gram(186)   Gram(187)   Gram(188)   Gram(189)   Gram(190)   Gram(191)   Gram(192)   Gram(193)   Gram(194)   Gram(195)   Gram(196)   Gram(197)   Gram(198)   Gram(199)   Gram(200)   Gram(201)   Gram(202)   Gram(203)   Gram(204)   Gram(205)   Gram(206)   Gram(207)   Gram(208)   Gram(209)   Gram(210)   Gram(211)   Gram(212)   Gram(213)   Gram(214)   Gram(215)   Gram(216)   Gram(217)   Gram(218)   Gram(219)   Gram(220)   Gram(221)   Gram(222)   Gram(223)\n",
      "\n",
      "Indeterminates:s[0] s[1]\n",
      "\n",
      "LinearEqualityConstraint\n",
      "( - 0.10387427580579665 * plane_var6 - 0.18299961821785907 * plane_var7 + 0.1039373965564806 * plane_var8 + plane_var11 - 0.041799999999999976 * Gram(0) - 0.042256300000000024 * Gram(3) - 0.021004366952578624 * Gram(6) - 0.021058019361865851 * Gram(9) - 0.069049371331003223 * Gram(12) - 0.069247407800928612 * Gram(15) - Gram(18)) == 1\n",
      "LinearEqualityConstraint\n",
      "( - 0.10387427580579665 * plane_var1 - 0.18299961821785907 * plane_var3 + 0.1039373965564806 * plane_var5 - 0.36599999999871147 * plane_var6 + 0.20774799999503105 * plane_var7 - 1.7343148781877148e-06 * plane_var8 + plane_var10 - 3.7284139627058494e-16 * Gram(0) - 0.083599999999999952 * Gram(1) - 3.7284139545164161e-16 * Gram(3) - 0.084512600000000049 * Gram(4) - 0.55065621473445781 * Gram(6) - 0.042008733905157247 * Gram(7) + 0.55291905378829997 * Gram(9) - 0.042116038723731701 * Gram(10) - 0.99999998547676383 * Gram(12) - 0.13809874266200645 * Gram(13) + 0.99999998620829689 * Gram(15) - 0.13849481560185722 * Gram(16) - 2 * Gram(19)) == 0\n",
      "LinearEqualityConstraint\n",
      "( - 0.36599999999871147 * plane_var1 + 0.20774799999503105 * plane_var3 - 1.7343148781877148e-06 * plane_var5 + 0.10387372419347195 * plane_var6 + 0.18300038178169684 * plane_var7 + 0.10393660344138514 * plane_var8 + plane_var11 - 7.4568279254116987e-16 * Gram(1) - 0.041799999999999976 * Gram(2) - 7.4568279090328322e-16 * Gram(4) - 0.042256300000000024 * Gram(5) - 1.1013124294689156 * Gram(7) - 0.021004366952578624 * Gram(8) + 1.1058381075765999 * Gram(10) - 0.021058019361865851 * Gram(11) - 1.9999999709535277 * Gram(13) - 0.069049371331003223 * Gram(14) + 1.9999999724165938 * Gram(16) - 0.069247407800928612 * Gram(17) - Gram(20)) == 1\n",
      "LinearEqualityConstraint\n",
      "(0.10387372419347195 * plane_var1 + 0.18300038178169684 * plane_var3 + 0.10393660344138514 * plane_var5 + plane_var10 - 3.7284139627058494e-16 * Gram(2) - 3.7284139545164161e-16 * Gram(5) - 0.55065621473445781 * Gram(8) + 0.55291905378829997 * Gram(11) - 0.99999998547676383 * Gram(14) + 0.99999998620829689 * Gram(17)) == 0\n",
      "LinearEqualityConstraint\n",
      "( - 0.10387427580579665 * plane_var0 - 0.18299961821785907 * plane_var2 + 0.1039373965564806 * plane_var4 + plane_var9 - Gram(0) + Gram(3) - 0.83473213258764556 * Gram(6) + 0.83323497283650483 * Gram(9) - 0.00017043025605989809 * Gram(12) - 0.00016608252729473358 * Gram(15)) == 0\n",
      "LinearEqualityConstraint\n",
      "( - 0.36599999999871147 * plane_var0 + 0.20774799999503105 * plane_var2 - 1.7343148781877148e-06 * plane_var4 - 2 * Gram(1) + 2 * Gram(4) - 1.6694642651752911 * Gram(7) + 1.6664699456730097 * Gram(10) - 0.00034086051211979618 * Gram(13) - 0.00033216505458946716 * Gram(16)) == 0\n",
      "LinearEqualityConstraint\n",
      "(0.10387372419347195 * plane_var0 + 0.18300038178169684 * plane_var2 + 0.10393660344138514 * plane_var4 + plane_var9 - Gram(2) + Gram(5) - 0.83473213258764556 * Gram(8) + 0.83323497283650483 * Gram(11) - 0.00017043025605989809 * Gram(14) - 0.00016608252729473358 * Gram(17)) == 0\n",
      "LinearEqualityConstraint\n",
      "( - 0.10387427580579665 * plane_var6 - 0.34049961821679653 * plane_var7 + 0.1039379750862844 * plane_var8 + plane_var11 - 0.041799999999999976 * Gram(21) - 0.042256300000000024 * Gram(24) - 0.021004366952578624 * Gram(27) - 0.021058019361865851 * Gram(30) - 0.069049371331003223 * Gram(33) - 0.069247407800928612 * Gram(36) - Gram(39)) == 1\n",
      "LinearEqualityConstraint\n",
      "( - 0.10387427580579665 * plane_var1 - 0.34049961821679653 * plane_var3 + 0.1039379750862844 * plane_var5 - 0.68099999999760241 * plane_var6 + 0.2077479999919607 * plane_var7 - 2.5701956630881855e-06 * plane_var8 + plane_var10 - 3.7284139627058494e-16 * Gram(21) - 0.083599999999999952 * Gram(22) - 3.7284139545164161e-16 * Gram(24) - 0.084512600000000049 * Gram(25) - 0.55065621473445781 * Gram(27) - 0.042008733905157247 * Gram(28) + 0.55291905378829997 * Gram(30) - 0.042116038723731701 * Gram(31) - 0.99999998547676383 * Gram(33) - 0.13809874266200645 * Gram(34) + 0.99999998620829689 * Gram(36) - 0.13849481560185722 * Gram(37) - 2 * Gram(40)) == 0\n",
      "LinearEqualityConstraint\n",
      "( - 0.68099999999760241 * plane_var1 + 0.2077479999919607 * plane_var3 - 2.5701956630881855e-06 * plane_var5 + 0.10387372419347195 * plane_var6 + 0.34050038178063435 * plane_var7 + 0.10393602491158134 * plane_var8 + plane_var11 - 7.4568279254116987e-16 * Gram(22) - 0.041799999999999976 * Gram(23) - 7.4568279090328322e-16 * Gram(25) - 0.042256300000000024 * Gram(26) - 1.1013124294689156 * Gram(28) - 0.021004366952578624 * Gram(29) + 1.1058381075765999 * Gram(31) - 0.021058019361865851 * Gram(32) - 1.9999999709535277 * Gram(34) - 0.069049371331003223 * Gram(35) + 1.9999999724165938 * Gram(37) - 0.069247407800928612 * Gram(38) - Gram(41)) == 1\n",
      "LinearEqualityConstraint\n",
      "(0.10387372419347195 * plane_var1 + 0.34050038178063435 * plane_var3 + 0.10393602491158134 * plane_var5 + plane_var10 - 3.7284139627058494e-16 * Gram(23) - 3.7284139545164161e-16 * Gram(26) - 0.55065621473445781 * Gram(29) + 0.55291905378829997 * Gram(32) - 0.99999998547676383 * Gram(35) + 0.99999998620829689 * Gram(38)) == 0\n",
      "LinearEqualityConstraint\n",
      "( - 0.10387427580579665 * plane_var0 - 0.34049961821679653 * plane_var2 + 0.1039379750862844 * plane_var4 + plane_var9 - Gram(21) + Gram(24) - 0.83473213258764556 * Gram(27) + 0.83323497283650483 * Gram(30) - 0.00017043025605989809 * Gram(33) - 0.00016608252729473358 * Gram(36)) == 0\n",
      "LinearEqualityConstraint\n",
      "( - 0.68099999999760241 * plane_var0 + 0.2077479999919607 * plane_var2 - 2.5701956630881855e-06 * plane_var4 - 2 * Gram(22) + 2 * Gram(25) - 1.6694642651752911 * Gram(28) + 1.6664699456730097 * Gram(31) - 0.00034086051211979618 * Gram(34) - 0.00033216505458946716 * Gram(37)) == 0\n",
      "LinearEqualityConstraint\n",
      "(0.10387372419347195 * plane_var0 + 0.34050038178063435 * plane_var2 + 0.10393602491158134 * plane_var4 + plane_var9 - Gram(23) + Gram(26) - 0.83473213258764556 * Gram(29) + 0.83323497283650483 * Gram(32) - 0.00017043025605989809 * Gram(35) - 0.00016608252729473358 * Gram(38)) == 0\n",
      "LinearEqualityConstraint\n",
      "( - 0.10387372419347195 * plane_var6 - 0.18300038178169672 * plane_var7 - 0.10393660344138519 * plane_var8 + plane_var11 - 0.041799999999999976 * Gram(42) - 0.042256300000000024 * Gram(45) - 0.021004366952578624 * Gram(48) - 0.021058019361865851 * Gram(51) - 0.069049371331003223 * Gram(54) - 0.069247407800928612 * Gram(57) - Gram(60)) == 1\n",
      "LinearEqualityConstraint\n",
      "( - 0.10387372419347195 * plane_var1 - 0.18300038178169672 * plane_var3 - 0.10393660344138519 * plane_var5 - 0.36599999999871147 * plane_var6 + 0.20774799999503105 * plane_var7 - 1.7343148781877148e-06 * plane_var8 + plane_var10 - 3.7284139627058494e-16 * Gram(42) - 0.083599999999999952 * Gram(43) - 3.7284139545164161e-16 * Gram(45) - 0.084512600000000049 * Gram(46) - 0.55065621473445781 * Gram(48) - 0.042008733905157247 * Gram(49) + 0.55291905378829997 * Gram(51) - 0.042116038723731701 * Gram(52) - 0.99999998547676383 * Gram(54) - 0.13809874266200645 * Gram(55) + 0.99999998620829689 * Gram(57) - 0.13849481560185722 * Gram(58) - 2 * Gram(61)) == 0\n",
      "LinearEqualityConstraint\n",
      "( - 0.36599999999871147 * plane_var1 + 0.20774799999503105 * plane_var3 - 1.7343148781877148e-06 * plane_var5 + 0.10387427580579665 * plane_var6 + 0.18299961821785918 * plane_var7 - 0.10393739655648065 * plane_var8 + plane_var11 - 7.4568279254116987e-16 * Gram(43) - 0.041799999999999976 * Gram(44) - 7.4568279090328322e-16 * Gram(46) - 0.042256300000000024 * Gram(47) - 1.1013124294689156 * Gram(49) - 0.021004366952578624 * Gram(50) + 1.1058381075765999 * Gram(52) - 0.021058019361865851 * Gram(53) - 1.9999999709535277 * Gram(55) - 0.069049371331003223 * Gram(56) + 1.9999999724165938 * Gram(58) - 0.069247407800928612 * Gram(59) - Gram(62)) == 1\n",
      "LinearEqualityConstraint\n",
      "(0.10387427580579665 * plane_var1 + 0.18299961821785918 * plane_var3 - 0.10393739655648065 * plane_var5 + plane_var10 - 3.7284139627058494e-16 * Gram(44) - 3.7284139545164161e-16 * Gram(47) - 0.55065621473445781 * Gram(50) + 0.55291905378829997 * Gram(53) - 0.99999998547676383 * Gram(56) + 0.99999998620829689 * Gram(59)) == 0\n",
      "LinearEqualityConstraint\n",
      "( - 0.10387372419347195 * plane_var0 - 0.18300038178169672 * plane_var2 - 0.10393660344138519 * plane_var4 + plane_var9 - Gram(42) + Gram(45) - 0.83473213258764556 * Gram(48) + 0.83323497283650483 * Gram(51) - 0.00017043025605989809 * Gram(54) - 0.00016608252729473358 * Gram(57)) == 0\n",
      "LinearEqualityConstraint\n",
      "( - 0.36599999999871147 * plane_var0 + 0.20774799999503105 * plane_var2 - 1.7343148781877148e-06 * plane_var4 - 2 * Gram(43) + 2 * Gram(46) - 1.6694642651752911 * Gram(49) + 1.6664699456730097 * Gram(52) - 0.00034086051211979618 * Gram(55) - 0.00033216505458946716 * Gram(58)) == 0\n",
      "LinearEqualityConstraint\n",
      "(0.10387427580579665 * plane_var0 + 0.18299961821785918 * plane_var2 - 0.10393739655648065 * plane_var4 + plane_var9 - Gram(44) + Gram(47) - 0.83473213258764556 * Gram(50) + 0.83323497283650483 * Gram(53) - 0.00017043025605989809 * Gram(56) - 0.00016608252729473358 * Gram(59)) == 0\n",
      "LinearEqualityConstraint\n",
      "( - 0.10387372419347195 * plane_var6 - 0.34050038178063424 * plane_var7 - 0.1039360249115814 * plane_var8 + plane_var11 - 0.041799999999999976 * Gram(63) - 0.042256300000000024 * Gram(66) - 0.021004366952578624 * Gram(69) - 0.021058019361865851 * Gram(72) - 0.069049371331003223 * Gram(75) - 0.069247407800928612 * Gram(78) - Gram(81)) == 1\n",
      "LinearEqualityConstraint\n",
      "( - 0.10387372419347195 * plane_var1 - 0.34050038178063424 * plane_var3 - 0.1039360249115814 * plane_var5 - 0.68099999999760241 * plane_var6 + 0.2077479999919607 * plane_var7 - 2.5701956630881855e-06 * plane_var8 + plane_var10 - 3.7284139627058494e-16 * Gram(63) - 0.083599999999999952 * Gram(64) - 3.7284139545164161e-16 * Gram(66) - 0.084512600000000049 * Gram(67) - 0.55065621473445781 * Gram(69) - 0.042008733905157247 * Gram(70) + 0.55291905378829997 * Gram(72) - 0.042116038723731701 * Gram(73) - 0.99999998547676383 * Gram(75) - 0.13809874266200645 * Gram(76) + 0.99999998620829689 * Gram(78) - 0.13849481560185722 * Gram(79) - 2 * Gram(82)) == 0\n",
      "LinearEqualityConstraint\n",
      "( - 0.68099999999760241 * plane_var1 + 0.2077479999919607 * plane_var3 - 2.5701956630881855e-06 * plane_var5 + 0.10387427580579665 * plane_var6 + 0.34049961821679664 * plane_var7 - 0.10393797508628445 * plane_var8 + plane_var11 - 7.4568279254116987e-16 * Gram(64) - 0.041799999999999976 * Gram(65) - 7.4568279090328322e-16 * Gram(67) - 0.042256300000000024 * Gram(68) - 1.1013124294689156 * Gram(70) - 0.021004366952578624 * Gram(71) + 1.1058381075765999 * Gram(73) - 0.021058019361865851 * Gram(74) - 1.9999999709535277 * Gram(76) - 0.069049371331003223 * Gram(77) + 1.9999999724165938 * Gram(79) - 0.069247407800928612 * Gram(80) - Gram(83)) == 1\n",
      "LinearEqualityConstraint\n",
      "(0.10387427580579665 * plane_var1 + 0.34049961821679664 * plane_var3 - 0.10393797508628445 * plane_var5 + plane_var10 - 3.7284139627058494e-16 * Gram(65) - 3.7284139545164161e-16 * Gram(68) - 0.55065621473445781 * Gram(71) + 0.55291905378829997 * Gram(74) - 0.99999998547676383 * Gram(77) + 0.99999998620829689 * Gram(80)) == 0\n",
      "LinearEqualityConstraint\n",
      "( - 0.10387372419347195 * plane_var0 - 0.34050038178063424 * plane_var2 - 0.1039360249115814 * plane_var4 + plane_var9 - Gram(63) + Gram(66) - 0.83473213258764556 * Gram(69) + 0.83323497283650483 * Gram(72) - 0.00017043025605989809 * Gram(75) - 0.00016608252729473358 * Gram(78)) == 0\n",
      "LinearEqualityConstraint\n",
      "( - 0.68099999999760241 * plane_var0 + 0.2077479999919607 * plane_var2 - 2.5701956630881855e-06 * plane_var4 - 2 * Gram(64) + 2 * Gram(67) - 1.6694642651752911 * Gram(70) + 1.6664699456730097 * Gram(73) - 0.00034086051211979618 * Gram(76) - 0.00033216505458946716 * Gram(79)) == 0\n",
      "LinearEqualityConstraint\n",
      "(0.10387427580579665 * plane_var0 + 0.34049961821679664 * plane_var2 - 0.10393797508628445 * plane_var4 + plane_var9 - Gram(65) + Gram(68) - 0.83473213258764556 * Gram(71) + 0.83323497283650483 * Gram(74) - 0.00017043025605989809 * Gram(77) - 0.00016608252729473358 * Gram(80)) == 0\n",
      "LinearEqualityConstraint\n",
      "(0.11299972419343983 * plane_var6 - 0.18299961821574517 * plane_var7 + 0.10393797205111345 * plane_var8 + plane_var11 - 0.041799999999999976 * Gram(84) - 0.042256300000000024 * Gram(87) - 0.021004366952578624 * Gram(90) - 0.021058019361865851 * Gram(93) - 0.069049371331003223 * Gram(96) - 0.069247407800928612 * Gram(99) - Gram(102)) == 1\n",
      "LinearEqualityConstraint\n",
      "(0.11299972419343983 * plane_var1 - 0.18299961821574517 * plane_var3 + 0.10393797205111345 * plane_var5 - 0.36599999999871147 * plane_var6 - 0.22600000000204287 * plane_var7 - 1.410695109855933e-07 * plane_var8 + plane_var10 - 3.7284139627058494e-16 * Gram(84) - 0.083599999999999952 * Gram(85) - 3.7284139545164161e-16 * Gram(87) - 0.084512600000000049 * Gram(88) - 0.55065621473445781 * Gram(90) - 0.042008733905157247 * Gram(91) + 0.55291905378829997 * Gram(93) - 0.042116038723731701 * Gram(94) - 0.99999998547676383 * Gram(96) - 0.13809874266200645 * Gram(97) + 0.99999998620829689 * Gram(99) - 0.13849481560185722 * Gram(100) - 2 * Gram(103)) == 0\n",
      "LinearEqualityConstraint\n",
      "( - 0.36599999999871147 * plane_var1 - 0.22600000000204287 * plane_var3 - 1.410695109855933e-07 * plane_var5 - 0.11300027580576451 * plane_var6 + 0.18300038177958294 * plane_var7 + 0.10393602794675229 * plane_var8 + plane_var11 - 7.4568279254116987e-16 * Gram(85) - 0.041799999999999976 * Gram(86) - 7.4568279090328322e-16 * Gram(88) - 0.042256300000000024 * Gram(89) - 1.1013124294689156 * Gram(91) - 0.021004366952578624 * Gram(92) + 1.1058381075765999 * Gram(94) - 0.021058019361865851 * Gram(95) - 1.9999999709535277 * Gram(97) - 0.069049371331003223 * Gram(98) + 1.9999999724165938 * Gram(100) - 0.069247407800928612 * Gram(101) - Gram(104)) == 1\n",
      "LinearEqualityConstraint\n",
      "( - 0.11300027580576451 * plane_var1 + 0.18300038177958294 * plane_var3 + 0.10393602794675229 * plane_var5 + plane_var10 - 3.7284139627058494e-16 * Gram(86) - 3.7284139545164161e-16 * Gram(89) - 0.55065621473445781 * Gram(92) + 0.55291905378829997 * Gram(95) - 0.99999998547676383 * Gram(98) + 0.99999998620829689 * Gram(101)) == 0\n",
      "LinearEqualityConstraint\n",
      "(0.11299972419343983 * plane_var0 - 0.18299961821574517 * plane_var2 + 0.10393797205111345 * plane_var4 + plane_var9 - Gram(84) + Gram(87) - 0.83473213258764556 * Gram(90) + 0.83323497283650483 * Gram(93) - 0.00017043025605989809 * Gram(96) - 0.00016608252729473358 * Gram(99)) == 0\n",
      "LinearEqualityConstraint\n",
      "( - 0.36599999999871147 * plane_var0 - 0.22600000000204287 * plane_var2 - 1.410695109855933e-07 * plane_var4 - 2 * Gram(85) + 2 * Gram(88) - 1.6694642651752911 * Gram(91) + 1.6664699456730097 * Gram(94) - 0.00034086051211979618 * Gram(97) - 0.00033216505458946716 * Gram(100)) == 0\n",
      "LinearEqualityConstraint\n",
      "( - 0.11300027580576451 * plane_var0 + 0.18300038177958294 * plane_var2 + 0.10393602794675229 * plane_var4 + plane_var9 - Gram(86) + Gram(89) - 0.83473213258764556 * Gram(92) + 0.83323497283650483 * Gram(95) - 0.00017043025605989809 * Gram(98) - 0.00016608252729473358 * Gram(101)) == 0\n",
      "LinearEqualityConstraint\n",
      "(0.11299972419343983 * plane_var6 - 0.34049961821468266 * plane_var7 + 0.10393855058091724 * plane_var8 + plane_var11 - 0.041799999999999976 * Gram(105) - 0.042256300000000024 * Gram(108) - 0.021004366952578624 * Gram(111) - 0.021058019361865851 * Gram(114) - 0.069049371331003223 * Gram(117) - 0.069247407800928612 * Gram(120) - Gram(123)) == 1\n",
      "LinearEqualityConstraint\n",
      "(0.11299972419343983 * plane_var1 - 0.34049961821468266 * plane_var3 + 0.10393855058091724 * plane_var5 - 0.68099999999760241 * plane_var6 - 0.22600000000511322 * plane_var7 - 9.7695029588606373e-07 * plane_var8 + plane_var10 - 3.7284139627058494e-16 * Gram(105) - 0.083599999999999952 * Gram(106) - 3.7284139545164161e-16 * Gram(108) - 0.084512600000000049 * Gram(109) - 0.55065621473445781 * Gram(111) - 0.042008733905157247 * Gram(112) + 0.55291905378829997 * Gram(114) - 0.042116038723731701 * Gram(115) - 0.99999998547676383 * Gram(117) - 0.13809874266200645 * Gram(118) + 0.99999998620829689 * Gram(120) - 0.13849481560185722 * Gram(121) - 2 * Gram(124)) == 0\n",
      "LinearEqualityConstraint\n",
      "( - 0.68099999999760241 * plane_var1 - 0.22600000000511322 * plane_var3 - 9.7695029588606373e-07 * plane_var5 - 0.11300027580576451 * plane_var6 + 0.34050038177852049 * plane_var7 + 0.1039354494169485 * plane_var8 + plane_var11 - 7.4568279254116987e-16 * Gram(106) - 0.041799999999999976 * Gram(107) - 7.4568279090328322e-16 * Gram(109) - 0.042256300000000024 * Gram(110) - 1.1013124294689156 * Gram(112) - 0.021004366952578624 * Gram(113) + 1.1058381075765999 * Gram(115) - 0.021058019361865851 * Gram(116) - 1.9999999709535277 * Gram(118) - 0.069049371331003223 * Gram(119) + 1.9999999724165938 * Gram(121) - 0.069247407800928612 * Gram(122) - Gram(125)) == 1\n",
      "LinearEqualityConstraint\n",
      "( - 0.11300027580576451 * plane_var1 + 0.34050038177852049 * plane_var3 + 0.1039354494169485 * plane_var5 + plane_var10 - 3.7284139627058494e-16 * Gram(107) - 3.7284139545164161e-16 * Gram(110) - 0.55065621473445781 * Gram(113) + 0.55291905378829997 * Gram(116) - 0.99999998547676383 * Gram(119) + 0.99999998620829689 * Gram(122)) == 0\n",
      "LinearEqualityConstraint\n",
      "(0.11299972419343983 * plane_var0 - 0.34049961821468266 * plane_var2 + 0.10393855058091724 * plane_var4 + plane_var9 - Gram(105) + Gram(108) - 0.83473213258764556 * Gram(111) + 0.83323497283650483 * Gram(114) - 0.00017043025605989809 * Gram(117) - 0.00016608252729473358 * Gram(120)) == 0\n",
      "LinearEqualityConstraint\n",
      "( - 0.68099999999760241 * plane_var0 - 0.22600000000511322 * plane_var2 - 9.7695029588606373e-07 * plane_var4 - 2 * Gram(106) + 2 * Gram(109) - 1.6694642651752911 * Gram(112) + 1.6664699456730097 * Gram(115) - 0.00034086051211979618 * Gram(118) - 0.00033216505458946716 * Gram(121)) == 0\n",
      "LinearEqualityConstraint\n",
      "( - 0.11300027580576451 * plane_var0 + 0.34050038177852049 * plane_var2 + 0.1039354494169485 * plane_var4 + plane_var9 - Gram(107) + Gram(110) - 0.83473213258764556 * Gram(113) + 0.83323497283650483 * Gram(116) - 0.00017043025605989809 * Gram(119) - 0.00016608252729473358 * Gram(122)) == 0\n",
      "LinearEqualityConstraint\n",
      "(0.11300027580576452 * plane_var6 - 0.18300038177958283 * plane_var7 - 0.10393602794675234 * plane_var8 + plane_var11 - 0.041799999999999976 * Gram(126) - 0.042256300000000024 * Gram(129) - 0.021004366952578624 * Gram(132) - 0.021058019361865851 * Gram(135) - 0.069049371331003223 * Gram(138) - 0.069247407800928612 * Gram(141) - Gram(144)) == 1\n",
      "LinearEqualityConstraint\n",
      "(0.11300027580576452 * plane_var1 - 0.18300038177958283 * plane_var3 - 0.10393602794675234 * plane_var5 - 0.36599999999871147 * plane_var6 - 0.22600000000204287 * plane_var7 - 1.4106951098559287e-07 * plane_var8 + plane_var10 - 3.7284139627058494e-16 * Gram(126) - 0.083599999999999952 * Gram(127) - 3.7284139545164161e-16 * Gram(129) - 0.084512600000000049 * Gram(130) - 0.55065621473445781 * Gram(132) - 0.042008733905157247 * Gram(133) + 0.55291905378829997 * Gram(135) - 0.042116038723731701 * Gram(136) - 0.99999998547676383 * Gram(138) - 0.13809874266200645 * Gram(139) + 0.99999998620829689 * Gram(141) - 0.13849481560185722 * Gram(142) - 2 * Gram(145)) == 0\n",
      "LinearEqualityConstraint\n",
      "( - 0.36599999999871147 * plane_var1 - 0.22600000000204287 * plane_var3 - 1.4106951098559287e-07 * plane_var5 - 0.11299972419343982 * plane_var6 + 0.18299961821574529 * plane_var7 - 0.10393797205111351 * plane_var8 + plane_var11 - 7.4568279254116987e-16 * Gram(127) - 0.041799999999999976 * Gram(128) - 7.4568279090328322e-16 * Gram(130) - 0.042256300000000024 * Gram(131) - 1.1013124294689156 * Gram(133) - 0.021004366952578624 * Gram(134) + 1.1058381075765999 * Gram(136) - 0.021058019361865851 * Gram(137) - 1.9999999709535277 * Gram(139) - 0.069049371331003223 * Gram(140) + 1.9999999724165938 * Gram(142) - 0.069247407800928612 * Gram(143) - Gram(146)) == 1\n",
      "LinearEqualityConstraint\n",
      "( - 0.11299972419343982 * plane_var1 + 0.18299961821574529 * plane_var3 - 0.10393797205111351 * plane_var5 + plane_var10 - 3.7284139627058494e-16 * Gram(128) - 3.7284139545164161e-16 * Gram(131) - 0.55065621473445781 * Gram(134) + 0.55291905378829997 * Gram(137) - 0.99999998547676383 * Gram(140) + 0.99999998620829689 * Gram(143)) == 0\n",
      "LinearEqualityConstraint\n",
      "(0.11300027580576452 * plane_var0 - 0.18300038177958283 * plane_var2 - 0.10393602794675234 * plane_var4 + plane_var9 - Gram(126) + Gram(129) - 0.83473213258764556 * Gram(132) + 0.83323497283650483 * Gram(135) - 0.00017043025605989809 * Gram(138) - 0.00016608252729473358 * Gram(141)) == 0\n",
      "LinearEqualityConstraint\n",
      "( - 0.36599999999871147 * plane_var0 - 0.22600000000204287 * plane_var2 - 1.4106951098559287e-07 * plane_var4 - 2 * Gram(127) + 2 * Gram(130) - 1.6694642651752911 * Gram(133) + 1.6664699456730097 * Gram(136) - 0.00034086051211979618 * Gram(139) - 0.00033216505458946716 * Gram(142)) == 0\n",
      "LinearEqualityConstraint\n",
      "( - 0.11299972419343982 * plane_var0 + 0.18299961821574529 * plane_var2 - 0.10393797205111351 * plane_var4 + plane_var9 - Gram(128) + Gram(131) - 0.83473213258764556 * Gram(134) + 0.83323497283650483 * Gram(137) - 0.00017043025605989809 * Gram(140) - 0.00016608252729473358 * Gram(143)) == 0\n",
      "LinearEqualityConstraint\n",
      "(0.11300027580576452 * plane_var6 - 0.34050038177852032 * plane_var7 - 0.10393544941694856 * plane_var8 + plane_var11 - 0.041799999999999976 * Gram(147) - 0.042256300000000024 * Gram(150) - 0.021004366952578624 * Gram(153) - 0.021058019361865851 * Gram(156) - 0.069049371331003223 * Gram(159) - 0.069247407800928612 * Gram(162) - Gram(165)) == 1\n",
      "LinearEqualityConstraint\n",
      "(0.11300027580576452 * plane_var1 - 0.34050038177852032 * plane_var3 - 0.10393544941694856 * plane_var5 - 0.68099999999760241 * plane_var6 - 0.22600000000511322 * plane_var7 - 9.7695029588606373e-07 * plane_var8 + plane_var10 - 3.7284139627058494e-16 * Gram(147) - 0.083599999999999952 * Gram(148) - 3.7284139545164161e-16 * Gram(150) - 0.084512600000000049 * Gram(151) - 0.55065621473445781 * Gram(153) - 0.042008733905157247 * Gram(154) + 0.55291905378829997 * Gram(156) - 0.042116038723731701 * Gram(157) - 0.99999998547676383 * Gram(159) - 0.13809874266200645 * Gram(160) + 0.99999998620829689 * Gram(162) - 0.13849481560185722 * Gram(163) - 2 * Gram(166)) == 0\n",
      "LinearEqualityConstraint\n",
      "( - 0.68099999999760241 * plane_var1 - 0.22600000000511322 * plane_var3 - 9.7695029588606373e-07 * plane_var5 - 0.11299972419343982 * plane_var6 + 0.34049961821468272 * plane_var7 - 0.10393855058091729 * plane_var8 + plane_var11 - 7.4568279254116987e-16 * Gram(148) - 0.041799999999999976 * Gram(149) - 7.4568279090328322e-16 * Gram(151) - 0.042256300000000024 * Gram(152) - 1.1013124294689156 * Gram(154) - 0.021004366952578624 * Gram(155) + 1.1058381075765999 * Gram(157) - 0.021058019361865851 * Gram(158) - 1.9999999709535277 * Gram(160) - 0.069049371331003223 * Gram(161) + 1.9999999724165938 * Gram(163) - 0.069247407800928612 * Gram(164) - Gram(167)) == 1\n",
      "LinearEqualityConstraint\n",
      "( - 0.11299972419343982 * plane_var1 + 0.34049961821468272 * plane_var3 - 0.10393855058091729 * plane_var5 + plane_var10 - 3.7284139627058494e-16 * Gram(149) - 3.7284139545164161e-16 * Gram(152) - 0.55065621473445781 * Gram(155) + 0.55291905378829997 * Gram(158) - 0.99999998547676383 * Gram(161) + 0.99999998620829689 * Gram(164)) == 0\n",
      "LinearEqualityConstraint\n",
      "(0.11300027580576452 * plane_var0 - 0.34050038177852032 * plane_var2 - 0.10393544941694856 * plane_var4 + plane_var9 - Gram(147) + Gram(150) - 0.83473213258764556 * Gram(153) + 0.83323497283650483 * Gram(156) - 0.00017043025605989809 * Gram(159) - 0.00016608252729473358 * Gram(162)) == 0\n",
      "LinearEqualityConstraint\n",
      "( - 0.68099999999760241 * plane_var0 - 0.22600000000511322 * plane_var2 - 9.7695029588606373e-07 * plane_var4 - 2 * Gram(148) + 2 * Gram(151) - 1.6694642651752911 * Gram(154) + 1.6664699456730097 * Gram(157) - 0.00034086051211979618 * Gram(160) - 0.00033216505458946716 * Gram(163)) == 0\n",
      "LinearEqualityConstraint\n",
      "( - 0.11299972419343982 * plane_var0 + 0.34049961821468272 * plane_var2 - 0.10393855058091729 * plane_var4 + plane_var9 - Gram(149) + Gram(152) - 0.83473213258764556 * Gram(155) + 0.83323497283650483 * Gram(158) - 0.00017043025605989809 * Gram(161) - 0.00016608252729473358 * Gram(164)) == 0\n",
      "LinearEqualityConstraint\n",
      "( - 0.067993999999999999 * plane_var6 - 0.18400000000000005 * plane_var7 - 0.10860599999999997 * plane_var8 - plane_var11 - 0.041799999999999976 * Gram(168) - 0.042256300000000024 * Gram(169) - 0.021004366952578624 * Gram(170) - 0.021058019361865851 * Gram(171) - 0.069049371331003223 * Gram(172) - 0.069247407800928612 * Gram(173) - Gram(174)) == 1\n",
      "LinearEqualityConstraint\n",
      "( - 0.067993999999999999 * plane_var1 - 0.18400000000000005 * plane_var3 - 0.10860599999999997 * plane_var5 - plane_var10 - 3.7284139627058494e-16 * Gram(168) - 3.7284139545164161e-16 * Gram(169) - 0.55065621473445781 * Gram(170) + 0.55291905378829997 * Gram(171) - 0.99999998547676383 * Gram(172) + 0.99999998620829689 * Gram(173)) == 0\n",
      "LinearEqualityConstraint\n",
      "( - 0.067993999999999999 * plane_var0 - 0.18400000000000005 * plane_var2 - 0.10860599999999997 * plane_var4 - plane_var9 - Gram(168) + Gram(169) - 0.83473213258764556 * Gram(170) + 0.83323497283650483 * Gram(171) - 0.00017043025605989809 * Gram(172) - 0.00016608252729473358 * Gram(173)) == 0\n",
      "LinearEqualityConstraint\n",
      "( - 0.067993999999999999 * plane_var6 - 0.18400000000000005 * plane_var7 + 0.073999000000000023 * plane_var8 - plane_var11 - 0.041799999999999976 * Gram(175) - 0.042256300000000024 * Gram(176) - 0.021004366952578624 * Gram(177) - 0.021058019361865851 * Gram(178) - 0.069049371331003223 * Gram(179) - 0.069247407800928612 * Gram(180) - Gram(181)) == 1\n",
      "LinearEqualityConstraint\n",
      "( - 0.067993999999999999 * plane_var1 - 0.18400000000000005 * plane_var3 + 0.073999000000000023 * plane_var5 - plane_var10 - 3.7284139627058494e-16 * Gram(175) - 3.7284139545164161e-16 * Gram(176) - 0.55065621473445781 * Gram(177) + 0.55291905378829997 * Gram(178) - 0.99999998547676383 * Gram(179) + 0.99999998620829689 * Gram(180)) == 0\n",
      "LinearEqualityConstraint\n",
      "( - 0.067993999999999999 * plane_var0 - 0.18400000000000005 * plane_var2 + 0.073999000000000023 * plane_var4 - plane_var9 - Gram(175) + Gram(176) - 0.83473213258764556 * Gram(177) + 0.83323497283650483 * Gram(178) - 0.00017043025605989809 * Gram(179) - 0.00016608252729473358 * Gram(180)) == 0\n",
      "LinearEqualityConstraint\n",
      "( - 0.067993999999999999 * plane_var6 + 0.067990999999999954 * plane_var7 - 0.10860599999999997 * plane_var8 - plane_var11 - 0.041799999999999976 * Gram(182) - 0.042256300000000024 * Gram(183) - 0.021004366952578624 * Gram(184) - 0.021058019361865851 * Gram(185) - 0.069049371331003223 * Gram(186) - 0.069247407800928612 * Gram(187) - Gram(188)) == 1\n",
      "LinearEqualityConstraint\n",
      "( - 0.067993999999999999 * plane_var1 + 0.067990999999999954 * plane_var3 - 0.10860599999999997 * plane_var5 - plane_var10 - 3.7284139627058494e-16 * Gram(182) - 3.7284139545164161e-16 * Gram(183) - 0.55065621473445781 * Gram(184) + 0.55291905378829997 * Gram(185) - 0.99999998547676383 * Gram(186) + 0.99999998620829689 * Gram(187)) == 0\n",
      "LinearEqualityConstraint\n",
      "( - 0.067993999999999999 * plane_var0 + 0.067990999999999954 * plane_var2 - 0.10860599999999997 * plane_var4 - plane_var9 - Gram(182) + Gram(183) - 0.83473213258764556 * Gram(184) + 0.83323497283650483 * Gram(185) - 0.00017043025605989809 * Gram(186) - 0.00016608252729473358 * Gram(187)) == 0\n",
      "LinearEqualityConstraint\n",
      "( - 0.067993999999999999 * plane_var6 + 0.067990999999999954 * plane_var7 + 0.073999000000000023 * plane_var8 - plane_var11 - 0.041799999999999976 * Gram(189) - 0.042256300000000024 * Gram(190) - 0.021004366952578624 * Gram(191) - 0.021058019361865851 * Gram(192) - 0.069049371331003223 * Gram(193) - 0.069247407800928612 * Gram(194) - Gram(195)) == 1\n",
      "LinearEqualityConstraint\n",
      "( - 0.067993999999999999 * plane_var1 + 0.067990999999999954 * plane_var3 + 0.073999000000000023 * plane_var5 - plane_var10 - 3.7284139627058494e-16 * Gram(189) - 3.7284139545164161e-16 * Gram(190) - 0.55065621473445781 * Gram(191) + 0.55291905378829997 * Gram(192) - 0.99999998547676383 * Gram(193) + 0.99999998620829689 * Gram(194)) == 0\n",
      "LinearEqualityConstraint\n",
      "( - 0.067993999999999999 * plane_var0 + 0.067990999999999954 * plane_var2 + 0.073999000000000023 * plane_var4 - plane_var9 - Gram(189) + Gram(190) - 0.83473213258764556 * Gram(191) + 0.83323497283650483 * Gram(192) - 0.00017043025605989809 * Gram(193) - 0.00016608252729473358 * Gram(194)) == 0\n",
      "LinearEqualityConstraint\n",
      "(0.067993999999999999 * plane_var6 - 0.18400000000000005 * plane_var7 - 0.10860599999999997 * plane_var8 - plane_var11 - 0.041799999999999976 * Gram(196) - 0.042256300000000024 * Gram(197) - 0.021004366952578624 * Gram(198) - 0.021058019361865851 * Gram(199) - 0.069049371331003223 * Gram(200) - 0.069247407800928612 * Gram(201) - Gram(202)) == 1\n",
      "LinearEqualityConstraint\n",
      "(0.067993999999999999 * plane_var1 - 0.18400000000000005 * plane_var3 - 0.10860599999999997 * plane_var5 - plane_var10 - 3.7284139627058494e-16 * Gram(196) - 3.7284139545164161e-16 * Gram(197) - 0.55065621473445781 * Gram(198) + 0.55291905378829997 * Gram(199) - 0.99999998547676383 * Gram(200) + 0.99999998620829689 * Gram(201)) == 0\n",
      "LinearEqualityConstraint\n",
      "(0.067993999999999999 * plane_var0 - 0.18400000000000005 * plane_var2 - 0.10860599999999997 * plane_var4 - plane_var9 - Gram(196) + Gram(197) - 0.83473213258764556 * Gram(198) + 0.83323497283650483 * Gram(199) - 0.00017043025605989809 * Gram(200) - 0.00016608252729473358 * Gram(201)) == 0\n",
      "LinearEqualityConstraint\n",
      "(0.067993999999999999 * plane_var6 - 0.18400000000000005 * plane_var7 + 0.073999000000000023 * plane_var8 - plane_var11 - 0.041799999999999976 * Gram(203) - 0.042256300000000024 * Gram(204) - 0.021004366952578624 * Gram(205) - 0.021058019361865851 * Gram(206) - 0.069049371331003223 * Gram(207) - 0.069247407800928612 * Gram(208) - Gram(209)) == 1\n",
      "LinearEqualityConstraint\n",
      "(0.067993999999999999 * plane_var1 - 0.18400000000000005 * plane_var3 + 0.073999000000000023 * plane_var5 - plane_var10 - 3.7284139627058494e-16 * Gram(203) - 3.7284139545164161e-16 * Gram(204) - 0.55065621473445781 * Gram(205) + 0.55291905378829997 * Gram(206) - 0.99999998547676383 * Gram(207) + 0.99999998620829689 * Gram(208)) == 0\n",
      "LinearEqualityConstraint\n",
      "(0.067993999999999999 * plane_var0 - 0.18400000000000005 * plane_var2 + 0.073999000000000023 * plane_var4 - plane_var9 - Gram(203) + Gram(204) - 0.83473213258764556 * Gram(205) + 0.83323497283650483 * Gram(206) - 0.00017043025605989809 * Gram(207) - 0.00016608252729473358 * Gram(208)) == 0\n",
      "LinearEqualityConstraint\n",
      "(0.067993999999999999 * plane_var6 + 0.067990999999999954 * plane_var7 - 0.10860599999999997 * plane_var8 - plane_var11 - 0.041799999999999976 * Gram(210) - 0.042256300000000024 * Gram(211) - 0.021004366952578624 * Gram(212) - 0.021058019361865851 * Gram(213) - 0.069049371331003223 * Gram(214) - 0.069247407800928612 * Gram(215) - Gram(216)) == 1\n",
      "LinearEqualityConstraint\n",
      "(0.067993999999999999 * plane_var1 + 0.067990999999999954 * plane_var3 - 0.10860599999999997 * plane_var5 - plane_var10 - 3.7284139627058494e-16 * Gram(210) - 3.7284139545164161e-16 * Gram(211) - 0.55065621473445781 * Gram(212) + 0.55291905378829997 * Gram(213) - 0.99999998547676383 * Gram(214) + 0.99999998620829689 * Gram(215)) == 0\n",
      "LinearEqualityConstraint\n",
      "(0.067993999999999999 * plane_var0 + 0.067990999999999954 * plane_var2 - 0.10860599999999997 * plane_var4 - plane_var9 - Gram(210) + Gram(211) - 0.83473213258764556 * Gram(212) + 0.83323497283650483 * Gram(213) - 0.00017043025605989809 * Gram(214) - 0.00016608252729473358 * Gram(215)) == 0\n",
      "LinearEqualityConstraint\n",
      "(0.067993999999999999 * plane_var6 + 0.067990999999999954 * plane_var7 + 0.073999000000000023 * plane_var8 - plane_var11 - 0.041799999999999976 * Gram(217) - 0.042256300000000024 * Gram(218) - 0.021004366952578624 * Gram(219) - 0.021058019361865851 * Gram(220) - 0.069049371331003223 * Gram(221) - 0.069247407800928612 * Gram(222) - Gram(223)) == 1\n",
      "LinearEqualityConstraint\n",
      "(0.067993999999999999 * plane_var1 + 0.067990999999999954 * plane_var3 + 0.073999000000000023 * plane_var5 - plane_var10 - 3.7284139627058494e-16 * Gram(217) - 3.7284139545164161e-16 * Gram(218) - 0.55065621473445781 * Gram(219) + 0.55291905378829997 * Gram(220) - 0.99999998547676383 * Gram(221) + 0.99999998620829689 * Gram(222)) == 0\n",
      "LinearEqualityConstraint\n",
      "(0.067993999999999999 * plane_var0 + 0.067990999999999954 * plane_var2 + 0.073999000000000023 * plane_var4 - plane_var9 - Gram(217) + Gram(218) - 0.83473213258764556 * Gram(219) + 0.83323497283650483 * Gram(220) - 0.00017043025605989809 * Gram(221) - 0.00016608252729473358 * Gram(222)) == 0\n",
      "BoundingBoxConstraint\n",
      "0 <= Gram(168) <= inf\n",
      "BoundingBoxConstraint\n",
      "0 <= Gram(169) <= inf\n",
      "BoundingBoxConstraint\n",
      "0 <= Gram(170) <= inf\n",
      "BoundingBoxConstraint\n",
      "0 <= Gram(171) <= inf\n",
      "BoundingBoxConstraint\n",
      "0 <= Gram(172) <= inf\n",
      "BoundingBoxConstraint\n",
      "0 <= Gram(173) <= inf\n",
      "BoundingBoxConstraint\n",
      "0 <= Gram(174) <= inf\n",
      "BoundingBoxConstraint\n",
      "0 <= Gram(175) <= inf\n",
      "BoundingBoxConstraint\n",
      "0 <= Gram(176) <= inf\n",
      "BoundingBoxConstraint\n",
      "0 <= Gram(177) <= inf\n",
      "BoundingBoxConstraint\n",
      "0 <= Gram(178) <= inf\n",
      "BoundingBoxConstraint\n",
      "0 <= Gram(179) <= inf\n",
      "BoundingBoxConstraint\n",
      "0 <= Gram(180) <= inf\n",
      "BoundingBoxConstraint\n",
      "0 <= Gram(181) <= inf\n",
      "BoundingBoxConstraint\n",
      "0 <= Gram(182) <= inf\n",
      "BoundingBoxConstraint\n",
      "0 <= Gram(183) <= inf\n",
      "BoundingBoxConstraint\n",
      "0 <= Gram(184) <= inf\n",
      "BoundingBoxConstraint\n",
      "0 <= Gram(185) <= inf\n",
      "BoundingBoxConstraint\n",
      "0 <= Gram(186) <= inf\n",
      "BoundingBoxConstraint\n",
      "0 <= Gram(187) <= inf\n",
      "BoundingBoxConstraint\n",
      "0 <= Gram(188) <= inf\n",
      "BoundingBoxConstraint\n",
      "0 <= Gram(189) <= inf\n",
      "BoundingBoxConstraint\n",
      "0 <= Gram(190) <= inf\n",
      "BoundingBoxConstraint\n",
      "0 <= Gram(191) <= inf\n",
      "BoundingBoxConstraint\n",
      "0 <= Gram(192) <= inf\n",
      "BoundingBoxConstraint\n",
      "0 <= Gram(193) <= inf\n",
      "BoundingBoxConstraint\n",
      "0 <= Gram(194) <= inf\n",
      "BoundingBoxConstraint\n",
      "0 <= Gram(195) <= inf\n",
      "BoundingBoxConstraint\n",
      "0 <= Gram(196) <= inf\n",
      "BoundingBoxConstraint\n",
      "0 <= Gram(197) <= inf\n",
      "BoundingBoxConstraint\n",
      "0 <= Gram(198) <= inf\n",
      "BoundingBoxConstraint\n",
      "0 <= Gram(199) <= inf\n",
      "BoundingBoxConstraint\n",
      "0 <= Gram(200) <= inf\n",
      "BoundingBoxConstraint\n",
      "0 <= Gram(201) <= inf\n",
      "BoundingBoxConstraint\n",
      "0 <= Gram(202) <= inf\n",
      "BoundingBoxConstraint\n",
      "0 <= Gram(203) <= inf\n",
      "BoundingBoxConstraint\n",
      "0 <= Gram(204) <= inf\n",
      "BoundingBoxConstraint\n",
      "0 <= Gram(205) <= inf\n",
      "BoundingBoxConstraint\n",
      "0 <= Gram(206) <= inf\n",
      "BoundingBoxConstraint\n",
      "0 <= Gram(207) <= inf\n",
      "BoundingBoxConstraint\n",
      "0 <= Gram(208) <= inf\n",
      "BoundingBoxConstraint\n",
      "0 <= Gram(209) <= inf\n",
      "BoundingBoxConstraint\n",
      "0 <= Gram(210) <= inf\n",
      "BoundingBoxConstraint\n",
      "0 <= Gram(211) <= inf\n",
      "BoundingBoxConstraint\n",
      "0 <= Gram(212) <= inf\n",
      "BoundingBoxConstraint\n",
      "0 <= Gram(213) <= inf\n",
      "BoundingBoxConstraint\n",
      "0 <= Gram(214) <= inf\n",
      "BoundingBoxConstraint\n",
      "0 <= Gram(215) <= inf\n",
      "BoundingBoxConstraint\n",
      "0 <= Gram(216) <= inf\n",
      "BoundingBoxConstraint\n",
      "0 <= Gram(217) <= inf\n",
      "BoundingBoxConstraint\n",
      "0 <= Gram(218) <= inf\n",
      "BoundingBoxConstraint\n",
      "0 <= Gram(219) <= inf\n",
      "BoundingBoxConstraint\n",
      "0 <= Gram(220) <= inf\n",
      "BoundingBoxConstraint\n",
      "0 <= Gram(221) <= inf\n",
      "BoundingBoxConstraint\n",
      "0 <= Gram(222) <= inf\n",
      "BoundingBoxConstraint\n",
      "0 <= Gram(223) <= inf\n",
      "RotatedLorentzConeConstraint\n",
      "0 <= Gram(0) <= inf\n",
      "0 <= Gram(2) <= inf\n",
      "0 <= ((Gram(0) * Gram(2)) - pow(Gram(1), 2)) <= inf\n",
      "RotatedLorentzConeConstraint\n",
      "0 <= Gram(3) <= inf\n",
      "0 <= Gram(5) <= inf\n",
      "0 <= ((Gram(3) * Gram(5)) - pow(Gram(4), 2)) <= inf\n",
      "RotatedLorentzConeConstraint\n",
      "0 <= Gram(6) <= inf\n",
      "0 <= Gram(8) <= inf\n",
      "0 <= ((Gram(6) * Gram(8)) - pow(Gram(7), 2)) <= inf\n",
      "RotatedLorentzConeConstraint\n",
      "0 <= Gram(9) <= inf\n",
      "0 <= Gram(11) <= inf\n",
      "0 <= ((Gram(9) * Gram(11)) - pow(Gram(10), 2)) <= inf\n",
      "RotatedLorentzConeConstraint\n",
      "0 <= Gram(12) <= inf\n",
      "0 <= Gram(14) <= inf\n",
      "0 <= ((Gram(12) * Gram(14)) - pow(Gram(13), 2)) <= inf\n",
      "RotatedLorentzConeConstraint\n",
      "0 <= Gram(15) <= inf\n",
      "0 <= Gram(17) <= inf\n",
      "0 <= ((Gram(15) * Gram(17)) - pow(Gram(16), 2)) <= inf\n",
      "RotatedLorentzConeConstraint\n",
      "0 <= Gram(18) <= inf\n",
      "0 <= Gram(20) <= inf\n",
      "0 <= ((Gram(18) * Gram(20)) - pow(Gram(19), 2)) <= inf\n",
      "RotatedLorentzConeConstraint\n",
      "0 <= Gram(21) <= inf\n",
      "0 <= Gram(23) <= inf\n",
      "0 <= ((Gram(21) * Gram(23)) - pow(Gram(22), 2)) <= inf\n",
      "RotatedLorentzConeConstraint\n",
      "0 <= Gram(24) <= inf\n",
      "0 <= Gram(26) <= inf\n",
      "0 <= ((Gram(24) * Gram(26)) - pow(Gram(25), 2)) <= inf\n",
      "RotatedLorentzConeConstraint\n",
      "0 <= Gram(27) <= inf\n",
      "0 <= Gram(29) <= inf\n",
      "0 <= ((Gram(27) * Gram(29)) - pow(Gram(28), 2)) <= inf\n",
      "RotatedLorentzConeConstraint\n",
      "0 <= Gram(30) <= inf\n",
      "0 <= Gram(32) <= inf\n",
      "0 <= ((Gram(30) * Gram(32)) - pow(Gram(31), 2)) <= inf\n",
      "RotatedLorentzConeConstraint\n",
      "0 <= Gram(33) <= inf\n",
      "0 <= Gram(35) <= inf\n",
      "0 <= ((Gram(33) * Gram(35)) - pow(Gram(34), 2)) <= inf\n",
      "RotatedLorentzConeConstraint\n",
      "0 <= Gram(36) <= inf\n",
      "0 <= Gram(38) <= inf\n",
      "0 <= ((Gram(36) * Gram(38)) - pow(Gram(37), 2)) <= inf\n",
      "RotatedLorentzConeConstraint\n",
      "0 <= Gram(39) <= inf\n",
      "0 <= Gram(41) <= inf\n",
      "0 <= ((Gram(39) * Gram(41)) - pow(Gram(40), 2)) <= inf\n",
      "RotatedLorentzConeConstraint\n",
      "0 <= Gram(42) <= inf\n",
      "0 <= Gram(44) <= inf\n",
      "0 <= ((Gram(42) * Gram(44)) - pow(Gram(43), 2)) <= inf\n",
      "RotatedLorentzConeConstraint\n",
      "0 <= Gram(45) <= inf\n",
      "0 <= Gram(47) <= inf\n",
      "0 <= ((Gram(45) * Gram(47)) - pow(Gram(46), 2)) <= inf\n",
      "RotatedLorentzConeConstraint\n",
      "0 <= Gram(48) <= inf\n",
      "0 <= Gram(50) <= inf\n",
      "0 <= ((Gram(48) * Gram(50)) - pow(Gram(49), 2)) <= inf\n",
      "RotatedLorentzConeConstraint\n",
      "0 <= Gram(51) <= inf\n",
      "0 <= Gram(53) <= inf\n",
      "0 <= ((Gram(51) * Gram(53)) - pow(Gram(52), 2)) <= inf\n",
      "RotatedLorentzConeConstraint\n",
      "0 <= Gram(54) <= inf\n",
      "0 <= Gram(56) <= inf\n",
      "0 <= ((Gram(54) * Gram(56)) - pow(Gram(55), 2)) <= inf\n",
      "RotatedLorentzConeConstraint\n",
      "0 <= Gram(57) <= inf\n",
      "0 <= Gram(59) <= inf\n",
      "0 <= ((Gram(57) * Gram(59)) - pow(Gram(58), 2)) <= inf\n",
      "RotatedLorentzConeConstraint\n",
      "0 <= Gram(60) <= inf\n",
      "0 <= Gram(62) <= inf\n",
      "0 <= ((Gram(60) * Gram(62)) - pow(Gram(61), 2)) <= inf\n",
      "RotatedLorentzConeConstraint\n",
      "0 <= Gram(63) <= inf\n",
      "0 <= Gram(65) <= inf\n",
      "0 <= ((Gram(63) * Gram(65)) - pow(Gram(64), 2)) <= inf\n",
      "RotatedLorentzConeConstraint\n",
      "0 <= Gram(66) <= inf\n",
      "0 <= Gram(68) <= inf\n",
      "0 <= ((Gram(66) * Gram(68)) - pow(Gram(67), 2)) <= inf\n",
      "RotatedLorentzConeConstraint\n",
      "0 <= Gram(69) <= inf\n",
      "0 <= Gram(71) <= inf\n",
      "0 <= ((Gram(69) * Gram(71)) - pow(Gram(70), 2)) <= inf\n",
      "RotatedLorentzConeConstraint\n",
      "0 <= Gram(72) <= inf\n",
      "0 <= Gram(74) <= inf\n",
      "0 <= ((Gram(72) * Gram(74)) - pow(Gram(73), 2)) <= inf\n",
      "RotatedLorentzConeConstraint\n",
      "0 <= Gram(75) <= inf\n",
      "0 <= Gram(77) <= inf\n",
      "0 <= ((Gram(75) * Gram(77)) - pow(Gram(76), 2)) <= inf\n",
      "RotatedLorentzConeConstraint\n",
      "0 <= Gram(78) <= inf\n",
      "0 <= Gram(80) <= inf\n",
      "0 <= ((Gram(78) * Gram(80)) - pow(Gram(79), 2)) <= inf\n",
      "RotatedLorentzConeConstraint\n",
      "0 <= Gram(81) <= inf\n",
      "0 <= Gram(83) <= inf\n",
      "0 <= ((Gram(81) * Gram(83)) - pow(Gram(82), 2)) <= inf\n",
      "RotatedLorentzConeConstraint\n",
      "0 <= Gram(84) <= inf\n",
      "0 <= Gram(86) <= inf\n",
      "0 <= ((Gram(84) * Gram(86)) - pow(Gram(85), 2)) <= inf\n",
      "RotatedLorentzConeConstraint\n",
      "0 <= Gram(87) <= inf\n",
      "0 <= Gram(89) <= inf\n",
      "0 <= ((Gram(87) * Gram(89)) - pow(Gram(88), 2)) <= inf\n",
      "RotatedLorentzConeConstraint\n",
      "0 <= Gram(90) <= inf\n",
      "0 <= Gram(92) <= inf\n",
      "0 <= ((Gram(90) * Gram(92)) - pow(Gram(91), 2)) <= inf\n",
      "RotatedLorentzConeConstraint\n",
      "0 <= Gram(93) <= inf\n",
      "0 <= Gram(95) <= inf\n",
      "0 <= ((Gram(93) * Gram(95)) - pow(Gram(94), 2)) <= inf\n",
      "RotatedLorentzConeConstraint\n",
      "0 <= Gram(96) <= inf\n",
      "0 <= Gram(98) <= inf\n",
      "0 <= ((Gram(96) * Gram(98)) - pow(Gram(97), 2)) <= inf\n",
      "RotatedLorentzConeConstraint\n",
      "0 <= Gram(99) <= inf\n",
      "0 <= Gram(101) <= inf\n",
      "0 <= ((Gram(99) * Gram(101)) - pow(Gram(100), 2)) <= inf\n",
      "RotatedLorentzConeConstraint\n",
      "0 <= Gram(102) <= inf\n",
      "0 <= Gram(104) <= inf\n",
      "0 <= ((Gram(102) * Gram(104)) - pow(Gram(103), 2)) <= inf\n",
      "RotatedLorentzConeConstraint\n",
      "0 <= Gram(105) <= inf\n",
      "0 <= Gram(107) <= inf\n",
      "0 <= ((Gram(105) * Gram(107)) - pow(Gram(106), 2)) <= inf\n",
      "RotatedLorentzConeConstraint\n",
      "0 <= Gram(108) <= inf\n",
      "0 <= Gram(110) <= inf\n",
      "0 <= ((Gram(108) * Gram(110)) - pow(Gram(109), 2)) <= inf\n",
      "RotatedLorentzConeConstraint\n",
      "0 <= Gram(111) <= inf\n",
      "0 <= Gram(113) <= inf\n",
      "0 <= ((Gram(111) * Gram(113)) - pow(Gram(112), 2)) <= inf\n",
      "RotatedLorentzConeConstraint\n",
      "0 <= Gram(114) <= inf\n",
      "0 <= Gram(116) <= inf\n",
      "0 <= ((Gram(114) * Gram(116)) - pow(Gram(115), 2)) <= inf\n",
      "RotatedLorentzConeConstraint\n",
      "0 <= Gram(117) <= inf\n",
      "0 <= Gram(119) <= inf\n",
      "0 <= ((Gram(117) * Gram(119)) - pow(Gram(118), 2)) <= inf\n",
      "RotatedLorentzConeConstraint\n",
      "0 <= Gram(120) <= inf\n",
      "0 <= Gram(122) <= inf\n",
      "0 <= ((Gram(120) * Gram(122)) - pow(Gram(121), 2)) <= inf\n",
      "RotatedLorentzConeConstraint\n",
      "0 <= Gram(123) <= inf\n",
      "0 <= Gram(125) <= inf\n",
      "0 <= ((Gram(123) * Gram(125)) - pow(Gram(124), 2)) <= inf\n",
      "RotatedLorentzConeConstraint\n",
      "0 <= Gram(126) <= inf\n",
      "0 <= Gram(128) <= inf\n",
      "0 <= ((Gram(126) * Gram(128)) - pow(Gram(127), 2)) <= inf\n",
      "RotatedLorentzConeConstraint\n",
      "0 <= Gram(129) <= inf\n",
      "0 <= Gram(131) <= inf\n",
      "0 <= ((Gram(129) * Gram(131)) - pow(Gram(130), 2)) <= inf\n",
      "RotatedLorentzConeConstraint\n",
      "0 <= Gram(132) <= inf\n",
      "0 <= Gram(134) <= inf\n",
      "0 <= ((Gram(132) * Gram(134)) - pow(Gram(133), 2)) <= inf\n",
      "RotatedLorentzConeConstraint\n",
      "0 <= Gram(135) <= inf\n",
      "0 <= Gram(137) <= inf\n",
      "0 <= ((Gram(135) * Gram(137)) - pow(Gram(136), 2)) <= inf\n",
      "RotatedLorentzConeConstraint\n",
      "0 <= Gram(138) <= inf\n",
      "0 <= Gram(140) <= inf\n",
      "0 <= ((Gram(138) * Gram(140)) - pow(Gram(139), 2)) <= inf\n",
      "RotatedLorentzConeConstraint\n",
      "0 <= Gram(141) <= inf\n",
      "0 <= Gram(143) <= inf\n",
      "0 <= ((Gram(141) * Gram(143)) - pow(Gram(142), 2)) <= inf\n",
      "RotatedLorentzConeConstraint\n",
      "0 <= Gram(144) <= inf\n",
      "0 <= Gram(146) <= inf\n",
      "0 <= ((Gram(144) * Gram(146)) - pow(Gram(145), 2)) <= inf\n",
      "RotatedLorentzConeConstraint\n",
      "0 <= Gram(147) <= inf\n",
      "0 <= Gram(149) <= inf\n",
      "0 <= ((Gram(147) * Gram(149)) - pow(Gram(148), 2)) <= inf\n",
      "RotatedLorentzConeConstraint\n",
      "0 <= Gram(150) <= inf\n",
      "0 <= Gram(152) <= inf\n",
      "0 <= ((Gram(150) * Gram(152)) - pow(Gram(151), 2)) <= inf\n",
      "RotatedLorentzConeConstraint\n",
      "0 <= Gram(153) <= inf\n",
      "0 <= Gram(155) <= inf\n",
      "0 <= ((Gram(153) * Gram(155)) - pow(Gram(154), 2)) <= inf\n",
      "RotatedLorentzConeConstraint\n",
      "0 <= Gram(156) <= inf\n",
      "0 <= Gram(158) <= inf\n",
      "0 <= ((Gram(156) * Gram(158)) - pow(Gram(157), 2)) <= inf\n",
      "RotatedLorentzConeConstraint\n",
      "0 <= Gram(159) <= inf\n",
      "0 <= Gram(161) <= inf\n",
      "0 <= ((Gram(159) * Gram(161)) - pow(Gram(160), 2)) <= inf\n",
      "RotatedLorentzConeConstraint\n",
      "0 <= Gram(162) <= inf\n",
      "0 <= Gram(164) <= inf\n",
      "0 <= ((Gram(162) * Gram(164)) - pow(Gram(163), 2)) <= inf\n",
      "RotatedLorentzConeConstraint\n",
      "0 <= Gram(165) <= inf\n",
      "0 <= Gram(167) <= inf\n",
      "0 <= ((Gram(165) * Gram(167)) - pow(Gram(166), 2)) <= inf\n",
      "\n"
     ]
    }
   ],
   "source": [
    "print(cert_prog)"
   ]
  },
  {
   "cell_type": "code",
   "execution_count": 21,
   "metadata": {},
   "outputs": [
    {
     "name": "stdout",
     "output_type": "stream",
     "text": [
      "112\n"
     ]
    }
   ],
   "source": [
    "print(len(cert_prog.positive_semidefinite_constraints()) + \n",
    "          len(cert_prog.rotated_lorentz_cone_constraints()) + \n",
    "              len(cert_prog.bounding_box_constraints()))"
   ]
  },
  {
   "cell_type": "markdown",
   "metadata": {},
   "source": [
    "# Growing regions with bilinear alternations search\n",
    "\n",
    "### As the initial regions are fairly small, they won't contain collisions and so can be directly fed into the bilinear alternation algorithm."
   ]
  },
  {
   "cell_type": "code",
   "execution_count": 16,
   "metadata": {},
   "outputs": [
    {
     "name": "stderr",
     "output_type": "stream",
     "text": [
      "INFO:drake:det(Q) at the beginning is 0.0015502304794460765\n"
     ]
    },
    {
     "name": "stdout",
     "output_type": "stream",
     "text": [
      "starting seedpoint 1/1\n"
     ]
    },
    {
     "name": "stderr",
     "output_type": "stream",
     "text": [
      "INFO:drake:Iteration 0: det(Q)=0.006574658106270407\n",
      "INFO:drake:Iteration 1: det(Q)=0.015544331432066962\n",
      "INFO:drake:Iteration 2: det(Q)=0.02828002960812167\n",
      "INFO:drake:Iteration 3: det(Q)=0.044000140454928054\n",
      "INFO:drake:Iteration 4: det(Q)=0.06261139089802552\n",
      "INFO:drake:Iteration 5: det(Q)=0.08310739554537176\n",
      "INFO:drake:Iteration 6: det(Q)=0.10433449762778756\n",
      "INFO:drake:Iteration 7: det(Q)=0.127383884581499\n",
      "INFO:drake:Iteration 8: det(Q)=0.15102820968407776\n",
      "INFO:drake:Iteration 9: det(Q)=0.17480986934013468\n",
      "INFO:drake:Iteration 10: det(Q)=0.19816587048150658\n",
      "INFO:drake:Iteration 11: det(Q)=0.22071503946328544\n",
      "INFO:drake:Iteration 12: det(Q)=0.24219175623763825\n",
      "INFO:drake:Iteration 13: det(Q)=0.2626030165727977\n",
      "INFO:drake:Iteration 14: det(Q)=0.2821703154765489\n",
      "INFO:drake:Iteration 15: det(Q)=0.3013858798128247\n",
      "INFO:drake:Iteration 16: det(Q)=0.3208670228809974\n",
      "INFO:drake:Iteration 17: det(Q)=0.34109060821187714\n",
      "INFO:drake:Iteration 18: det(Q)=0.36180422403301327\n",
      "INFO:drake:Iteration 19: det(Q)=0.3805911736690295\n",
      "INFO:drake:Iteration 20: det(Q)=0.39718030553160233\n",
      "INFO:drake:Iteration 21: det(Q)=0.4118803509561782\n",
      "INFO:drake:Iteration 22: det(Q)=0.42469561991970417\n",
      "INFO:drake:Iteration 23: det(Q)=0.4360751706592949\n",
      "INFO:drake:Iteration 24: det(Q)=0.44652125071622967\n",
      "INFO:drake:Iteration 25: det(Q)=0.4558583325012651\n",
      "INFO:drake:Iteration 26: det(Q)=0.46449171920580934\n",
      "INFO:drake:Iteration 27: det(Q)=0.47221620909332046\n",
      "INFO:drake:Iteration 28: det(Q)=0.47897863175034744\n",
      "INFO:drake:Iteration 29: det(Q)=0.4850413968929115\n",
      "INFO:drake:Iteration 30: det(Q)=0.49036260377280305\n",
      "INFO:drake:Iteration 31: det(Q)=0.4950257891022857\n",
      "INFO:drake:Iteration 32: det(Q)=0.499319724098912\n",
      "INFO:drake:Iteration 33: det(Q)=0.503056153075282\n",
      "INFO:drake:Iteration 34: det(Q)=0.5063103775082431\n",
      "INFO:drake:Iteration 35: det(Q)=0.5092285616914567\n",
      "INFO:drake:Iteration 36: det(Q)=0.5117831659851905\n",
      "INFO:drake:Iteration 37: det(Q)=0.5140363399997172\n",
      "INFO:drake:Iteration 38: det(Q)=0.5160264330629605\n",
      "INFO:drake:Iteration 39: det(Q)=0.517789059241371\n",
      "INFO:drake:Iteration 40: det(Q)=0.5193563008501926\n",
      "INFO:drake:Iteration 41: det(Q)=0.5207655016610769\n",
      "INFO:drake:Iteration 42: det(Q)=0.5220424364765754\n",
      "INFO:drake:Iteration 43: det(Q)=0.5232031913346348\n",
      "INFO:drake:Iteration 44: det(Q)=0.5242666641800415\n",
      "INFO:drake:Iteration 45: det(Q)=0.5252488338568622\n",
      "INFO:drake:Iteration 46: det(Q)=0.5261609157741438\n",
      "INFO:drake:Iteration 47: det(Q)=0.5270082187001206\n",
      "INFO:drake:Iteration 48: det(Q)=0.527803870405281\n",
      "INFO:drake:Iteration 49: det(Q)=0.5285592814895455\n",
      "INFO:drake:Iteration 50: det(Q)=0.5292777351954948\n",
      "INFO:drake:Iteration 51: det(Q)=0.5299634096017377\n",
      "INFO:drake:Iteration 52: det(Q)=0.5306186216264789\n",
      "INFO:drake:Iteration 53: det(Q)=0.5312466239760166\n",
      "INFO:drake:Iteration 54: det(Q)=0.5318537998208692\n",
      "INFO:drake:Iteration 55: det(Q)=0.5324444401703271\n",
      "INFO:drake:Iteration 56: det(Q)=0.5330141256353906\n",
      "INFO:drake:Iteration 57: det(Q)=0.5335656773646279\n",
      "INFO:drake:Iteration 58: det(Q)=0.534100140143806\n",
      "INFO:drake:Iteration 59: det(Q)=0.5346189192845103\n",
      "INFO:drake:Iteration 60: det(Q)=0.5351312107898588\n",
      "INFO:drake:Iteration 61: det(Q)=0.5356250607918879\n",
      "INFO:drake:Iteration 62: det(Q)=0.5361061115899545\n",
      "INFO:drake:Iteration 63: det(Q)=0.5365775361148509\n",
      "INFO:drake:Iteration 64: det(Q)=0.5370337537003279\n",
      "INFO:drake:Iteration 65: det(Q)=0.5374795303007079\n",
      "INFO:drake:Iteration 66: det(Q)=0.5379136623011035\n",
      "INFO:drake:Iteration 67: det(Q)=0.5383366236993569\n",
      "INFO:drake:Iteration 68: det(Q)=0.5387493838705796\n",
      "INFO:drake:Iteration 69: det(Q)=0.5391506498367772\n",
      "INFO:drake:Iteration 70: det(Q)=0.5395415811805274\n",
      "INFO:drake:Iteration 71: det(Q)=0.5399249271552796\n",
      "INFO:drake:Iteration 72: det(Q)=0.5402959312261538\n",
      "INFO:drake:Iteration 73: det(Q)=0.5406539962902263\n",
      "INFO:drake:Iteration 74: det(Q)=0.5410085592002283\n",
      "INFO:drake:Iteration 75: det(Q)=0.5413567155135607\n",
      "INFO:drake:Iteration 76: det(Q)=0.5416964037862163\n",
      "INFO:drake:Iteration 77: det(Q)=0.5420281575373463\n",
      "INFO:drake:Iteration 78: det(Q)=0.5423519422726032\n",
      "INFO:drake:Iteration 79: det(Q)=0.5426702173863595\n",
      "INFO:drake:Iteration 80: det(Q)=0.5429852402859009\n",
      "INFO:drake:Iteration 81: det(Q)=0.5432919892441386\n",
      "INFO:drake:Iteration 82: det(Q)=0.5435957448387257\n",
      "INFO:drake:Iteration 83: det(Q)=0.5438982022879872\n",
      "INFO:drake:Iteration 84: det(Q)=0.5441943481250257\n",
      "INFO:drake:Iteration 85: det(Q)=0.5444848402802911\n",
      "INFO:drake:Iteration 86: det(Q)=0.5447697838637201\n",
      "WARNING:drake:Failed before backoff.\n",
      "ERROR:drake:Cannot find the separation certificate at iteration 87 given the Lagrangians.\n"
     ]
    }
   ],
   "source": [
    "# We grow certified regions around each seedpoint using bilinear alternation.\n",
    "bilinear_alternation_results_by_seed_point = dict.fromkeys([tuple(s) for s in seed_points])\n",
    "times_per_region = []\n",
    "for i, (s, (initial_region, color)) in enumerate(zip(seed_points, initial_regions)):\n",
    "    print(f\"starting seedpoint {i+1}/{len(initial_regions)}\")\n",
    "    time.sleep(0.1) # make the above print before the Drake log.\n",
    "    bilinear_alternation_options.find_polytope_options.s_inner_pts = s\n",
    "    t_start = time.perf_counter()\n",
    "    result = cspace_free_polytope.SearchWithBilinearAlternation(set(), initial_region.A(),\n",
    "                                                                initial_region.b(),\n",
    "                                                                bilinear_alternation_options)\n",
    "    t_end = time.perf_counter()\n",
    "    times_per_region.append(t_end - t_start)\n",
    "    bilinear_alternation_results_by_seed_point[tuple(s)] = [(cert.certified_polytope,\n",
    "                                                             cert, color) for cert in result]\n",
    "\n"
   ]
  },
  {
   "cell_type": "code",
   "execution_count": 17,
   "metadata": {},
   "outputs": [
    {
     "name": "stdout",
     "output_type": "stream",
     "text": [
      "Time to generate region 0 =269.4633904310176\n",
      "Total time = 269.4633904310176\n"
     ]
    }
   ],
   "source": [
    "for i in range(seed_points.shape[0]):\n",
    "    print(f\"Time to generate region {i} ={times_per_region[i]}\")\n",
    "print(f\"Total time = {sum(times_per_region)}\")"
   ]
  },
  {
   "cell_type": "code",
   "execution_count": 18,
   "metadata": {},
   "outputs": [],
   "source": [
    "bil_alt_search_result = [cert for (_, cert, _) in bilinear_alternation_results_by_seed_point[tuple(seed_points[0])]]"
   ]
  },
  {
   "cell_type": "code",
   "execution_count": 19,
   "metadata": {},
   "outputs": [
    {
     "data": {
      "text/plain": [
       "[<pydrake.geometry.optimization_dev.CspaceFreePolytope.SearchResult at 0x7fa77cb94930>,\n",
       " <pydrake.geometry.optimization_dev.CspaceFreePolytope.SearchResult at 0x7fa77cb8d330>,\n",
       " <pydrake.geometry.optimization_dev.CspaceFreePolytope.SearchResult at 0x7fa77cb8d270>,\n",
       " <pydrake.geometry.optimization_dev.CspaceFreePolytope.SearchResult at 0x7fa77cb8d230>,\n",
       " <pydrake.geometry.optimization_dev.CspaceFreePolytope.SearchResult at 0x7fa77cb8d2b0>,\n",
       " <pydrake.geometry.optimization_dev.CspaceFreePolytope.SearchResult at 0x7fa77cb8d370>,\n",
       " <pydrake.geometry.optimization_dev.CspaceFreePolytope.SearchResult at 0x7fa77cb8d3b0>,\n",
       " <pydrake.geometry.optimization_dev.CspaceFreePolytope.SearchResult at 0x7fa77cb8d8f0>,\n",
       " <pydrake.geometry.optimization_dev.CspaceFreePolytope.SearchResult at 0x7fa77cb8dbb0>,\n",
       " <pydrake.geometry.optimization_dev.CspaceFreePolytope.SearchResult at 0x7fa77cb8d930>,\n",
       " <pydrake.geometry.optimization_dev.CspaceFreePolytope.SearchResult at 0x7fa77cb8d5f0>,\n",
       " <pydrake.geometry.optimization_dev.CspaceFreePolytope.SearchResult at 0x7fa77cb8dc70>,\n",
       " <pydrake.geometry.optimization_dev.CspaceFreePolytope.SearchResult at 0x7fa77cb8dcb0>,\n",
       " <pydrake.geometry.optimization_dev.CspaceFreePolytope.SearchResult at 0x7fa77cb8d430>,\n",
       " <pydrake.geometry.optimization_dev.CspaceFreePolytope.SearchResult at 0x7fa77cb8da70>,\n",
       " <pydrake.geometry.optimization_dev.CspaceFreePolytope.SearchResult at 0x7fa77cb8d0f0>,\n",
       " <pydrake.geometry.optimization_dev.CspaceFreePolytope.SearchResult at 0x7fa77cb8d4f0>,\n",
       " <pydrake.geometry.optimization_dev.CspaceFreePolytope.SearchResult at 0x7fa77cb8d530>,\n",
       " <pydrake.geometry.optimization_dev.CspaceFreePolytope.SearchResult at 0x7fa77cb8d570>,\n",
       " <pydrake.geometry.optimization_dev.CspaceFreePolytope.SearchResult at 0x7fa77cb8d5b0>,\n",
       " <pydrake.geometry.optimization_dev.CspaceFreePolytope.SearchResult at 0x7fa77cb8d130>,\n",
       " <pydrake.geometry.optimization_dev.CspaceFreePolytope.SearchResult at 0x7fa77cb8d670>,\n",
       " <pydrake.geometry.optimization_dev.CspaceFreePolytope.SearchResult at 0x7fa77cb8d6b0>,\n",
       " <pydrake.geometry.optimization_dev.CspaceFreePolytope.SearchResult at 0x7fa77cb8d6f0>,\n",
       " <pydrake.geometry.optimization_dev.CspaceFreePolytope.SearchResult at 0x7fa77cb8d730>,\n",
       " <pydrake.geometry.optimization_dev.CspaceFreePolytope.SearchResult at 0x7fa77cb8d770>,\n",
       " <pydrake.geometry.optimization_dev.CspaceFreePolytope.SearchResult at 0x7fa77cb8d7f0>,\n",
       " <pydrake.geometry.optimization_dev.CspaceFreePolytope.SearchResult at 0x7fa77cb8dcf0>,\n",
       " <pydrake.geometry.optimization_dev.CspaceFreePolytope.SearchResult at 0x7fa77cb8dd30>,\n",
       " <pydrake.geometry.optimization_dev.CspaceFreePolytope.SearchResult at 0x7fa77cb8dd70>,\n",
       " <pydrake.geometry.optimization_dev.CspaceFreePolytope.SearchResult at 0x7fa77cb8ddb0>,\n",
       " <pydrake.geometry.optimization_dev.CspaceFreePolytope.SearchResult at 0x7fa77cb8ddf0>,\n",
       " <pydrake.geometry.optimization_dev.CspaceFreePolytope.SearchResult at 0x7fa77cb8de30>,\n",
       " <pydrake.geometry.optimization_dev.CspaceFreePolytope.SearchResult at 0x7fa77cb8de70>,\n",
       " <pydrake.geometry.optimization_dev.CspaceFreePolytope.SearchResult at 0x7fa77cb8deb0>,\n",
       " <pydrake.geometry.optimization_dev.CspaceFreePolytope.SearchResult at 0x7fa77cb8def0>,\n",
       " <pydrake.geometry.optimization_dev.CspaceFreePolytope.SearchResult at 0x7fa77cb8df30>,\n",
       " <pydrake.geometry.optimization_dev.CspaceFreePolytope.SearchResult at 0x7fa77cb8df70>,\n",
       " <pydrake.geometry.optimization_dev.CspaceFreePolytope.SearchResult at 0x7fa77cb8dfb0>,\n",
       " <pydrake.geometry.optimization_dev.CspaceFreePolytope.SearchResult at 0x7fa77dbdbf30>,\n",
       " <pydrake.geometry.optimization_dev.CspaceFreePolytope.SearchResult at 0x7fa77dbdb930>,\n",
       " <pydrake.geometry.optimization_dev.CspaceFreePolytope.SearchResult at 0x7fa77dbdb1b0>,\n",
       " <pydrake.geometry.optimization_dev.CspaceFreePolytope.SearchResult at 0x7fa77dbdbbf0>,\n",
       " <pydrake.geometry.optimization_dev.CspaceFreePolytope.SearchResult at 0x7fa77dbdb0b0>,\n",
       " <pydrake.geometry.optimization_dev.CspaceFreePolytope.SearchResult at 0x7fa77dbdb370>,\n",
       " <pydrake.geometry.optimization_dev.CspaceFreePolytope.SearchResult at 0x7fa77dbdb830>,\n",
       " <pydrake.geometry.optimization_dev.CspaceFreePolytope.SearchResult at 0x7fa77dbdb2b0>,\n",
       " <pydrake.geometry.optimization_dev.CspaceFreePolytope.SearchResult at 0x7fa77dbdb470>,\n",
       " <pydrake.geometry.optimization_dev.CspaceFreePolytope.SearchResult at 0x7fa77dbdbd70>,\n",
       " <pydrake.geometry.optimization_dev.CspaceFreePolytope.SearchResult at 0x7fa77dbdbe70>,\n",
       " <pydrake.geometry.optimization_dev.CspaceFreePolytope.SearchResult at 0x7fa77dbdb730>,\n",
       " <pydrake.geometry.optimization_dev.CspaceFreePolytope.SearchResult at 0x7fa77dbdb430>,\n",
       " <pydrake.geometry.optimization_dev.CspaceFreePolytope.SearchResult at 0x7fa77dbdb230>,\n",
       " <pydrake.geometry.optimization_dev.CspaceFreePolytope.SearchResult at 0x7fa77dbdbbb0>,\n",
       " <pydrake.geometry.optimization_dev.CspaceFreePolytope.SearchResult at 0x7fa77dbdbcf0>,\n",
       " <pydrake.geometry.optimization_dev.CspaceFreePolytope.SearchResult at 0x7fa77dbdbc70>,\n",
       " <pydrake.geometry.optimization_dev.CspaceFreePolytope.SearchResult at 0x7fa77dbdb7b0>,\n",
       " <pydrake.geometry.optimization_dev.CspaceFreePolytope.SearchResult at 0x7fa77dbdbd30>,\n",
       " <pydrake.geometry.optimization_dev.CspaceFreePolytope.SearchResult at 0x7fa77dbdb1f0>,\n",
       " <pydrake.geometry.optimization_dev.CspaceFreePolytope.SearchResult at 0x7fa77cb84e70>,\n",
       " <pydrake.geometry.optimization_dev.CspaceFreePolytope.SearchResult at 0x7fa77cb84bb0>,\n",
       " <pydrake.geometry.optimization_dev.CspaceFreePolytope.SearchResult at 0x7fa77cb84df0>,\n",
       " <pydrake.geometry.optimization_dev.CspaceFreePolytope.SearchResult at 0x7fa77cb84d30>,\n",
       " <pydrake.geometry.optimization_dev.CspaceFreePolytope.SearchResult at 0x7fa77cb84cb0>,\n",
       " <pydrake.geometry.optimization_dev.CspaceFreePolytope.SearchResult at 0x7fa77cb84170>,\n",
       " <pydrake.geometry.optimization_dev.CspaceFreePolytope.SearchResult at 0x7fa77cb841b0>,\n",
       " <pydrake.geometry.optimization_dev.CspaceFreePolytope.SearchResult at 0x7fa77cb847b0>,\n",
       " <pydrake.geometry.optimization_dev.CspaceFreePolytope.SearchResult at 0x7fa77cb84ef0>,\n",
       " <pydrake.geometry.optimization_dev.CspaceFreePolytope.SearchResult at 0x7fa77cb84db0>,\n",
       " <pydrake.geometry.optimization_dev.CspaceFreePolytope.SearchResult at 0x7fa77cb84c70>,\n",
       " <pydrake.geometry.optimization_dev.CspaceFreePolytope.SearchResult at 0x7fa77cb84eb0>,\n",
       " <pydrake.geometry.optimization_dev.CspaceFreePolytope.SearchResult at 0x7fa77cb84cf0>,\n",
       " <pydrake.geometry.optimization_dev.CspaceFreePolytope.SearchResult at 0x7fa77cb84e30>,\n",
       " <pydrake.geometry.optimization_dev.CspaceFreePolytope.SearchResult at 0x7fa77cb84d70>,\n",
       " <pydrake.geometry.optimization_dev.CspaceFreePolytope.SearchResult at 0x7fa77cb7a030>,\n",
       " <pydrake.geometry.optimization_dev.CspaceFreePolytope.SearchResult at 0x7fa77cb7a070>,\n",
       " <pydrake.geometry.optimization_dev.CspaceFreePolytope.SearchResult at 0x7fa77cb7a0b0>,\n",
       " <pydrake.geometry.optimization_dev.CspaceFreePolytope.SearchResult at 0x7fa77cb7a0f0>,\n",
       " <pydrake.geometry.optimization_dev.CspaceFreePolytope.SearchResult at 0x7fa77cb7a130>,\n",
       " <pydrake.geometry.optimization_dev.CspaceFreePolytope.SearchResult at 0x7fa77cb7a170>,\n",
       " <pydrake.geometry.optimization_dev.CspaceFreePolytope.SearchResult at 0x7fa77cb7a1b0>,\n",
       " <pydrake.geometry.optimization_dev.CspaceFreePolytope.SearchResult at 0x7fa77cb7a1f0>,\n",
       " <pydrake.geometry.optimization_dev.CspaceFreePolytope.SearchResult at 0x7fa77cb7a230>,\n",
       " <pydrake.geometry.optimization_dev.CspaceFreePolytope.SearchResult at 0x7fa77cb7a270>,\n",
       " <pydrake.geometry.optimization_dev.CspaceFreePolytope.SearchResult at 0x7fa77cb7a2b0>,\n",
       " <pydrake.geometry.optimization_dev.CspaceFreePolytope.SearchResult at 0x7fa77cb7a2f0>,\n",
       " <pydrake.geometry.optimization_dev.CspaceFreePolytope.SearchResult at 0x7fa77cb7a330>,\n",
       " <pydrake.geometry.optimization_dev.CspaceFreePolytope.SearchResult at 0x7fa77cb7a370>]"
      ]
     },
     "execution_count": 19,
     "metadata": {},
     "output_type": "execute_result"
    }
   ],
   "source": [
    "bil_alt_search_result"
   ]
  },
  {
   "cell_type": "code",
   "execution_count": 20,
   "metadata": {},
   "outputs": [],
   "source": [
    "import matplotlib.pyplot as plt\n",
    "data = [(c.num_iter, c.certified_polytope.MaximumVolumeInscribedEllipsoid().Volume()) \n",
    "        for c in bil_alt_search_result]\n"
   ]
  },
  {
   "cell_type": "code",
   "execution_count": 21,
   "metadata": {},
   "outputs": [
    {
     "data": {
      "image/png": "[encoded data removed]",
      "text/plain": [
       "<Figure size 640x480 with 1 Axes>"
      ]
     },
     "metadata": {},
     "output_type": "display_data"
    }
   ],
   "source": [
    "x, y = map(list, zip(*data))\n",
    "plt.plot(x, y, 'bo-')\n",
    "plt.xlabel(\"Iteration number\")\n",
    "plt.ylabel(\"Volume of Inscribed Ellipsoid\")\n",
    "plt.title(\"Volume of Inscribed Ellipsoid during Bilinear Alternation\")\n",
    "plt.savefig(\"pen_rail_vol.svg\")\n",
    "plt.show()"
   ]
  },
  {
   "cell_type": "code",
   "execution_count": 22,
   "metadata": {},
   "outputs": [
    {
     "name": "stdout",
     "output_type": "stream",
     "text": [
      "[(0, 0.02107427569281062), (1, 0.04982548457498877), (2, 0.09064823309884389), (3, 0.1410371574432415), (4, 0.2006932819878337), (5, 0.2663907594167137), (6, 0.33443168172986343), (7, 0.4083137189949672), (8, 0.48410275893104543), (9, 0.5603320082582989), (10, 0.6351968604192709), (11, 0.7074755091466574), (12, 0.7763165413286138), (13, 0.8417423810586878), (14, 0.9044630039406597), (15, 0.966056183976805), (16, 1.028500644691531), (17, 1.0933249147708475), (18, 1.1597199186408227), (19, 1.2199392258134276), (20, 1.2731136924891662), (21, 1.3202329198264617), (22, 1.3613107229379708), (23, 1.3977865039854669), (24, 1.4312701570470698), (25, 1.4611990495497071), (26, 1.4888723321194406), (27, 1.5136322552735404), (28, 1.5353083876475688), (29, 1.5547418520209184), (30, 1.5717983405854514), (31, 1.586745620223682), (32, 1.6005093123371334), (33, 1.612485985965155), (34, 1.6229170109337532), (35, 1.6322708993041293), (36, 1.6404593760738704), (37, 1.6476816543427166), (38, 1.6540606582682806), (39, 1.6597105444565463), (40, 1.664734148909841), (41, 1.6692511725961052), (42, 1.6733442335444608), (43, 1.6770648936145534), (44, 1.6804737278951598), (45, 1.6836219546488358), (46, 1.6865455235201798), (47, 1.6892614511271729), (48, 1.691811816958973), (49, 1.694233196321044), (50, 1.6965361132525358), (51, 1.6987339600818463), (52, 1.7008341634115791), (53, 1.7028471494005033), (54, 1.7047933785338836), (55, 1.7066866051258338), (56, 1.7085126633565253), (57, 1.710280596078336), (58, 1.7119937522263644), (59, 1.7136566363578536), (60, 1.715298725154608), (61, 1.7168817019308047), (62, 1.718423652398317), (63, 1.7199347470051298), (64, 1.7213970975968789), (65, 1.722825980866847), (66, 1.7242175387722964), (67, 1.7255732906562928), (68, 1.7268963437341498), (69, 1.7281825535204396), (70, 1.7294356369176263), (71, 1.7306644063269365), (72, 1.7318536152479758), (73, 1.7330013497391472), (74, 1.7341378584967206), (75, 1.73525383167932), (76, 1.7363426615761526), (77, 1.73740605831868), (78, 1.73844391133942), (79, 1.739464103931194), (80, 1.7404738719415107), (81, 1.7414571188282528), (82, 1.7424307708478854), (83, 1.7434002618188305), (84, 1.7443495216760203), (85, 1.745280659336368), (86, 1.7461940117171342), (87, 1.7461940117171342)]\n"
     ]
    }
   ],
   "source": [
    "print(data)"
   ]
  },
  {
   "cell_type": "code",
   "execution_count": null,
   "metadata": {},
   "outputs": [],
   "source": [
    "# # visualize the regions and corresponding certificates\n",
    "# for i, result in enumerate(bilinear_alternation_results_by_seed_point.values()):\n",
    "#     group_name = f\"/bil_alt_seed_point_{i}\"\n",
    "#     visualizer.add_group_of_regions_and_certs_to_visualization(result, group_name, \n",
    "#                                                                wireframe = False, \n",
    "#                                                                random_color_opacity = 0.2)"
   ]
  },
  {
   "cell_type": "code",
   "execution_count": null,
   "metadata": {},
   "outputs": [],
   "source": [
    "all_r0 = list(bilinear_alternation_results_by_seed_point.values())[0]\n",
    "regions = [all_r0[0]]\n",
    "last_vol = regions[0][0].MaximumVolumeInscribedEllipsoid().Volume()\n",
    "for i, (region, cert, color) in enumerate(all_r0):\n",
    "    cur_vol = region.MaximumVolumeInscribedEllipsoid().Volume()\n",
    "    delta = (cur_vol - last_vol)/last_vol\n",
    "    if (cur_vol - last_vol)/last_vol > 0.2:\n",
    "        last_vol = cur_vol\n",
    "        regions.append((region, cert, None))\n",
    "        \n",
    "print(f\"Kept {len(regions)}/{len(all_r0)}\")\n",
    "\n",
    "visualizer.add_group_of_regions_and_certs_to_visualization(regions, \"partial_bil_alt\",\n",
    "                                                          wireframe = False, \n",
    "                                                           random_color_opacity = 0.0)"
   ]
  },
  {
   "cell_type": "markdown",
   "metadata": {},
   "source": [
    "# Growing regions with binary search\n",
    "\n",
    "### While the bilinear alternation scheme has the flexibility to search for fairly flexible polytopes, it can be relatively slow. We can search for larger regions faster by uniformly growing our polytopes using binary search"
   ]
  },
  {
   "cell_type": "code",
   "execution_count": null,
   "metadata": {},
   "outputs": [],
   "source": [
    "# We grow certified regions around each seedpoint using binary search.\n",
    "binary_search_results_by_seed_point = dict.fromkeys([tuple(s) for s in seed_points])\n",
    "for i, (s, (initial_region, color)) in enumerate(zip(seed_points, initial_regions)):\n",
    "    print(f\"starting seedpoint {i+1}/{len(initial_regions)}\")\n",
    "    time.sleep(0.2)\n",
    "    cert = cspace_free_polytope.BinarySearch(set(),initial_region.A(),\n",
    "                                               initial_region.b(),\n",
    "                                                 s,binary_search_options)\n",
    "    binary_search_results_by_seed_point[tuple(s)] = [(cert.certified_polytope, cert, color)]\n",
    "                                                     \n"
   ]
  },
  {
   "cell_type": "code",
   "execution_count": null,
   "metadata": {},
   "outputs": [],
   "source": [
    "# visualize the regions and corresponding certificates\n",
    "for i, result in enumerate(binary_search_results_by_seed_point.values()):\n",
    "    group_name = f\"/bin_search_seed_point_{i}\"\n",
    "    visualizer.add_group_of_regions_and_certs_to_visualization(result, group_name, \n",
    "                                                               wireframe = False, opacity = 0.2)"
   ]
  },
  {
   "cell_type": "markdown",
   "metadata": {},
   "source": [
    "## Combining Binary Search and Bilinear Alternation\n",
    "### Of course, we can get the best of both worlds by combining the two methods"
   ]
  },
  {
   "cell_type": "code",
   "execution_count": null,
   "metadata": {},
   "outputs": [],
   "source": [
    "# we use this to back off a bit from the binary search results for numerical reasons\n",
    "def scale_polytope_about_point(hpoly, s, scale):\n",
    "    if not hpoly.PointInSet(s):\n",
    "        raise ValueError(f\"The point s must be in the HPolyhedron\")\n",
    "    b_scaled = scale * hpoly.b() + (1 - scale) * hpoly.A() @ s\n",
    "    return HPolyhedron(hpoly.A(), b_scaled)\n",
    "    "
   ]
  },
  {
   "cell_type": "code",
   "execution_count": null,
   "metadata": {},
   "outputs": [],
   "source": [
    "# Now we grow certified regions around each seedpoint using bilinear alternation \n",
    "# starting from the binary certified regions.\n",
    "\n",
    "# There is currently a bug in Mosek that kills the kernel if you this cell.\n",
    "\n",
    "binary_and_bilinear_certified_regions = {k: [(r, cert, color)] for k,v in binary_search_results_by_seed_point.items() \n",
    "                                   for (r, cert, color) in v}\n",
    "\n",
    "for i, (s, region_list) in enumerate(binary_and_bilinear_certified_regions.items()):\n",
    "    bin_search_region, cert0, color = region_list[0]\n",
    "    print(f\"starting seedpoint {i+1}/{len(initial_regions)}\")\n",
    "    time.sleep(0.2)\n",
    "    cur_s = np.array(s)\n",
    "    bilinear_alternation_options.find_polytope_options.s_inner_pts = cur_s\n",
    "    \n",
    "    # We back off a little bit from the binary search solution so that we don't encounter numerical issues.\n",
    "    initial_region = scale_polytope_about_point(bin_search_region, cur_s, 0.98)\n",
    "    certificates = cspace_free_polytope.SearchWithBilinearAlternation(set(),\n",
    "                                                                      initial_region.A(),\n",
    "                                                                      initial_region.b(), \n",
    "                                                                      bilinear_alternation_options)\n",
    "    \n",
    "    binary_and_bilinear_certified_regions[s] += [(result.certified_polytope, result, color) for result in certificates]"
   ]
  },
  {
   "cell_type": "code",
   "execution_count": null,
   "metadata": {},
   "outputs": [],
   "source": [
    "# visualize the regions and corresponding certificates\n",
    "# for i, result in enumerate(binary_and_bilinear_certified_regions.values()):\n",
    "#     group_name = f\"/bin_then_bil_search_seed_point_{i}\"\n",
    "#     visualizer.add_group_of_regions_and_certs_to_visualization(result, group_name, \n",
    "#                                                                wireframe = False, opacity = 0.2)"
   ]
  },
  {
   "cell_type": "code",
   "execution_count": null,
   "metadata": {},
   "outputs": [],
   "source": [
    "all_r0 = list(binary_and_bilinear_certified_regions.values())[0]\n",
    "regions = [all_r0[0]]\n",
    "last_vol = regions[0][0].MaximumVolumeInscribedEllipsoid().Volume()\n",
    "for i, (region, cert, color) in enumerate(all_r0):\n",
    "    cur_vol = region.MaximumVolumeInscribedEllipsoid().Volume()\n",
    "    delta = (cur_vol - last_vol)/last_vol\n",
    "    if (cur_vol - last_vol)/last_vol > 0.0:\n",
    "        last_vol = cur_vol\n",
    "        regions.append((region, cert, None))\n",
    "        \n",
    "print(f\"Kept {len(regions)}/{len(all_r0)}\")\n",
    "\n",
    "visualizer.add_group_of_regions_and_certs_to_visualization(regions, \"partial_bin_and_bil\",\n",
    "                                                          wireframe = False, \n",
    "                                                           random_color_opacity = 0.0)"
   ]
  },
  {
   "cell_type": "markdown",
   "metadata": {},
   "source": [
    "## Seeding and Certifying with a Stronger Heuristic\n",
    "We have also implemented another, strong heuristic for proposing good initial regions based on non-linear optimization. See Appendix TODO of our paper TODO for details"
   ]
  },
  {
   "cell_type": "code",
   "execution_count": 16,
   "metadata": {},
   "outputs": [],
   "source": [
    "iris_regions = []\n",
    "iris_ellipses = []\n",
    "\n",
    "iris_options = IrisOptions()\n",
    "iris_options.require_sample_point_is_contained = True\n",
    "iris_options.configuration_space_margin = 1e-3\n",
    "iris_options.relative_termination_threshold = 0.001\n",
    "\n",
    "context_for_iris = visualizer.task_space_diagram_context\n",
    "for i, s in enumerate(seed_points):\n",
    "    q = Ratfk.ComputeQValue(s, q_star)\n",
    "    plant.SetPositions(plant.GetMyMutableContextFromRoot(context_for_iris), q)\n",
    "    r = IrisInRationalConfigurationSpace(plant, \n",
    "                                         plant.GetMyContextFromRoot(context_for_iris),\n",
    "                                         q_star, iris_options)\n",
    "    iris_regions.append((r, colors_dict[i]))\n",
    "    iris_ellipses.append(r.MaximumVolumeInscribedEllipsoid())\n",
    "    \n",
    "\n"
   ]
  },
  {
   "cell_type": "code",
   "execution_count": 17,
   "metadata": {},
   "outputs": [
    {
     "data": {
      "text/plain": [
       "16"
      ]
     },
     "execution_count": 17,
     "metadata": {},
     "output_type": "execute_result"
    }
   ],
   "source": [
    "iris_regions[0][0].A().shape[0]"
   ]
  },
  {
   "cell_type": "code",
   "execution_count": 18,
   "metadata": {},
   "outputs": [],
   "source": [
    "visualizer.add_group_of_regions_to_visualization(iris_regions, \"/uncertified-iris\", \n",
    "                                                            wireframe = False, opacity = 0.2)"
   ]
  },
  {
   "cell_type": "code",
   "execution_count": 26,
   "metadata": {},
   "outputs": [],
   "source": [
    "from pydrake.all import PiecewisePolynomial, VPolytope\n",
    "\n",
    "region = iris_regions[0][0]\n",
    "v_region = VPolytope(region)\n",
    "\n",
    "def generate_walk_around_polytope(h_polytope, num_verts):\n",
    "    v_polytope = VPolytope(h_polytope)\n",
    "    verts_to_visit_index = np.random.randint(0, v_polytope.vertices().shape[1], num_verts)\n",
    "    verts_to_visit = v_polytope.vertices()[:, verts_to_visit_index]\n",
    "#     for i in range(len(verts_to_visit)-1):\n",
    "#         cur_v = verts_to_visit[i]\n",
    "#         next_v = verts_to_visit[i+1]\n",
    "    t_knots = np.linspace(0, 1,  verts_to_visit.shape[1])\n",
    "    lin_traj = PiecewisePolynomial.FirstOrderHold(t_knots, verts_to_visit)\n",
    "    return lin_traj\n",
    "lin_traj = generate_walk_around_polytope(region, 15)"
   ]
  },
  {
   "cell_type": "code",
   "execution_count": 27,
   "metadata": {},
   "outputs": [
    {
     "data": {
      "text/plain": [
       "<pydrake.trajectories.PiecewisePolynomial_𝓣float𝓤 at 0x7fc74ad3ecb0>"
      ]
     },
     "execution_count": 27,
     "metadata": {},
     "output_type": "execute_result"
    }
   ],
   "source": [
    "lin_traj"
   ]
  },
  {
   "cell_type": "code",
   "execution_count": 33,
   "metadata": {},
   "outputs": [],
   "source": [
    "def animate_traj_s(traj, steps, runtime, idx_list = None, sleep_time = 0.1):\n",
    "    # loop\n",
    "    idx = 0\n",
    "    going_fwd = True\n",
    "    time_points = np.linspace(0, traj.end_time(), steps)\n",
    "    frame_count = 0\n",
    "    for _ in range(runtime):\n",
    "        # print(idx)\n",
    "        t0 = time.time()\n",
    "        s = traj.value(time_points[idx])\n",
    "        q = Ratfk.ComputeQValue(s, q_star)\n",
    "        visualizer.plant.SetPositions(visualizer.plant_context, q)\n",
    "        visualizer.task_space_diagram_context.SetTime(frame_count * 0.01)\n",
    "        visualizer.task_space_diagram.ForcedPublish(visualizer.task_space_diagram_context)\n",
    "        frame_count += 1\n",
    "        if going_fwd:\n",
    "            if idx + 1 < steps:\n",
    "                idx += 1\n",
    "            else:\n",
    "                going_fwd = False\n",
    "                idx -= 1\n",
    "        else:\n",
    "            if idx - 1 >= 0:\n",
    "                idx -= 1\n",
    "            else:\n",
    "                going_fwd = True\n",
    "                idx += 1\n",
    "        t1 = time.time()\n",
    "        pause = sleep_time - (t1 - t0)\n",
    "        if pause > 0:\n",
    "            time.sleep(pause)\n",
    "substeps = 100\n",
    "runtime = substeps\n",
    "animate_traj_s(lin_traj, substeps, runtime)"
   ]
  },
  {
   "cell_type": "markdown",
   "metadata": {},
   "source": [
    "### These regions tend to be very large, but typically are not completely collision free. We can use the binary search method to find a uniform shrinking of these regions to prove their safety and then again improve them with bilinear alternations."
   ]
  },
  {
   "cell_type": "code",
   "execution_count": null,
   "metadata": {},
   "outputs": [],
   "source": [
    "binary_search_options_for_iris = CspaceFreePolytope.BinarySearchOptions()\n",
    "binary_search_options_for_iris.scale_max = 1 # it is highly unlikely that the regions can grow, but we can try\n",
    "binary_search_options_for_iris.find_lagrangian_options = find_separation_certificate_given_polytope_options\n",
    "binary_search_options_for_iris.max_iter = 50"
   ]
  },
  {
   "cell_type": "code",
   "execution_count": null,
   "metadata": {
    "scrolled": true
   },
   "outputs": [],
   "source": [
    "binary_search_region_certificates_for_iris = dict.fromkeys([tuple(s) for s in seed_points])\n",
    "for i, (s, (initial_region, color)) in enumerate(zip(seed_points, iris_regions)):\n",
    "    print(f\"starting seedpoint {i+1}/{len(iris_regions)}\")\n",
    "    time.sleep(0.2)    \n",
    "    cert = cspace_free_polytope.BinarySearch(set(),\n",
    "                                                    initial_region.A(),\n",
    "                                                    initial_region.b(), \n",
    "                                                    initial_region.MaximumVolumeInscribedEllipsoid().center(), \n",
    "                                                    binary_search_options_for_iris)\n",
    "    binary_search_region_certificates_for_iris[tuple(s)] = [(cert.certified_polytope,\n",
    "                                                             cert, color)]"
   ]
  },
  {
   "cell_type": "code",
   "execution_count": null,
   "metadata": {},
   "outputs": [],
   "source": [
    "for i, result in enumerate(binary_search_region_certificates_for_iris.values()):\n",
    "    group_name = f\"/certified-iris-bin_seed_point_{i}\"\n",
    "    visualizer.add_group_of_regions_and_certs_to_visualization(result, group_name, \n",
    "                                                            wireframe = False, opacity = 0.2)"
   ]
  },
  {
   "cell_type": "code",
   "execution_count": null,
   "metadata": {},
   "outputs": [],
   "source": [
    "# Finally we grow the regions again using bilinear alternations.\n",
    "\n",
    "# There is a numerical bug in Mosek that kills the kernel of we try this\n",
    "bilinear_certified_regions_iris = binary_search_region_certificates_for_iris.copy()\n",
    "\n",
    "# There is a numerical bug in Mosek that kills the kernel of we try this.\n",
    "for i, (s, region_start) in enumerate(bilinear_certified_regions_iris.items()):\n",
    "    print(f\"starting seedpoint {i+1}/{len(initial_regions)}\")\n",
    "    time.sleep(0.2)\n",
    "    cur_s = np.array(s)\n",
    "    bilinear_alternation_options.find_polytope_options.s_inner_pts = cur_s\n",
    "    \n",
    "    # We back off a little bit from the binary search solution so that we don't encounter numerical issues.\n",
    "    initial_region = scale_polytope_about_point(region_start[0][0], cur_s, 0.90)\n",
    "    certificates = cspace_free_polytope.SearchWithBilinearAlternation(set(),\n",
    "                                                                      initial_region.A(),\n",
    "                                                                      initial_region.b(), \n",
    "                                                                      bilinear_alternation_options)\n",
    "    bilinear_certified_regions_iris[s] += [(HPolyhedron(result.C, result.d), result) for result in certificates]"
   ]
  },
  {
   "cell_type": "code",
   "execution_count": null,
   "metadata": {},
   "outputs": [],
   "source": [
    "for i, result in enumerate(bilinear_certified_regions_iris.values()):\n",
    "    visualizer.add_group_of_regions_and_certs_to_visualization(result, \"/certified-iris-bin\", \n",
    "                                                            wireframe = False, opacity = 0.2)"
   ]
  },
  {
   "cell_type": "markdown",
   "metadata": {},
   "source": [
    "# Now it is time to play with the visualization! If you open the task space visualizer, we can highlight specific geometries and their separating planes in different regions.\n",
    "## Notice that when regions overlap, we get multiple planes certifying non-collision"
   ]
  },
  {
   "cell_type": "code",
   "execution_count": null,
   "metadata": {},
   "outputs": [],
   "source": [
    "for slider in sliders:\n",
    "    display(slider)"
   ]
  },
  {
   "cell_type": "code",
   "execution_count": null,
   "metadata": {},
   "outputs": [],
   "source": [
    "cur_q = np.array([-0.47, 1.01])\n",
    "cur_s = Ratfk.ComputeSValue(cur_q, q_star)\n"
   ]
  },
  {
   "cell_type": "code",
   "execution_count": null,
   "metadata": {},
   "outputs": [],
   "source": [
    "# Uncomment this cell for an interface for choosing good planes of interest\n",
    "# plane_indices = np.arange(0, len(cspace_free_polytope.separating_planes()))\n",
    "# last_plane_index = 0\n",
    "# cur_plane_index = 0\n",
    "# plane_indices_to_geometries = {v: k for k,v in cspace_free_polytope.map_geometries_to_separating_planes().items()}\n",
    "\n",
    "# while True:\n",
    "#     visualizer.meshcat_task_space.Delete(f\"/plane_{last_plane_index}\")\n",
    "#     geom1, geom2 = plane_indices_to_geometries[cur_plane_index]\n",
    "#     color = Rgba(0,0,1,1)\n",
    "    \n",
    "#     prefix = f\"/plane_{cur_plane_index}\"\n",
    "#     visualizer.highlight_geometry_id(geom1, color, prefix+f\"/{geom1}\")\n",
    "#     visualizer.highlight_geometry_id(geom2, color, prefix+f\"/{geom2}\")\n",
    "#     print(f\"current plane index = {cur_plane_index}\")\n",
    "    \n",
    "#     last_plane_index = cur_plane_index\n",
    "#     valid_key_pressed = False\n",
    "#     while not valid_key_pressed:\n",
    "#         key_press = input(\"Enter d to increase plane_count, a to decrease, and e to exit...\")\n",
    "#         if key_press in [\"a\", \"d\", \"e\"]:\n",
    "#             valid_key_pressed = True\n",
    "#     if key_press == \"a\":\n",
    "#         cur_plane_index = max(cur_plane_index - 1, min(plane_indices))\n",
    "#     elif key_press == \"d\":\n",
    "#         cur_plane_index = min(cur_plane_index + 1, max(plane_indices))\n",
    "#     elif key_press == \"e\":\n",
    "#         break\n",
    "#     print()"
   ]
  },
  {
   "cell_type": "code",
   "execution_count": null,
   "metadata": {},
   "outputs": [],
   "source": [
    "# Uncomment this cell for seeing all the planes associated to a particular geometry id\n",
    "interesting_geometry = 65\n",
    "plane_indices = np.arange(0, len(cspace_free_polytope.separating_planes()))\n",
    "plane_indices_to_geometries = {v: k for k,v in cspace_free_polytope.map_geometries_to_separating_planes().items()}\n",
    "\n",
    "associated_plane_indices = []\n",
    "for plane_index, (geom1, geom2) in plane_indices_to_geometries.items():\n",
    "    if interesting_geometry in (geom1.get_value(), geom2. get_value()):\n",
    "        associated_plane_indices.append(plane_index)\n",
    "\n",
    "        \n",
    "last_associated_index_index = 0\n",
    "cur_associated_index_index = 0\n",
    "\n",
    "visualizer.clear_plane_indices_of_interest()\n",
    "while True:\n",
    "    last_plane_index = associated_plane_indices[last_associated_index_index]\n",
    "    cur_plane_index = associated_plane_indices[cur_associated_index_index]\n",
    "    \n",
    "    print(f\"current plane index = {cur_plane_index}\")\n",
    "    \n",
    "    visualizer.remove_plane_indices_of_interest(last_plane_index)\n",
    "    visualizer.add_plane_indices_of_interest(cur_plane_index)\n",
    "    \n",
    "    cur_q = visualizer.plant.GetPositions(visualizer.plant_context)\n",
    "    visualizer.show_res_q(cur_q)\n",
    "    \n",
    "    last_associated_index_index = cur_associated_index_index\n",
    "    valid_key_pressed = False\n",
    "    while not valid_key_pressed:\n",
    "        key_press = input(\"Enter d to increase plane_count, a to decrease, and e to exit...\")\n",
    "        if key_press in [\"a\", \"d\", \"e\"]:\n",
    "            valid_key_pressed = True\n",
    "    if key_press == \"a\":\n",
    "        cur_associated_index_index = max(cur_associated_index_index - 1, min(associated_plane_indices))\n",
    "    elif key_press == \"d\":\n",
    "        cur_associated_index_index = min(cur_associated_index_index + 1, max(associated_plane_indices))\n",
    "    elif key_press == \"e\":\n",
    "        break\n",
    "    print()"
   ]
  },
  {
   "cell_type": "code",
   "execution_count": null,
   "metadata": {},
   "outputs": [],
   "source": [
    "interesting_geometry = 65\n",
    "plane_indices = np.arange(0, len(cspace_free_polytope.separating_planes()))\n",
    "plane_indices_to_geometries = {v: k for k,v in cspace_free_polytope.map_geometries_to_separating_planes().items()}\n",
    "\n",
    "associated_plane_indices = []\n",
    "for plane_index, (geom1, geom2) in plane_indices_to_geometries.items():\n",
    "    if interesting_geometry in (geom1.get_value(), geom2. get_value()):\n",
    "        associated_plane_indices.append(plane_index)\n",
    "visualizer.add_plane_indices_of_interest(*associated_plane_indices)"
   ]
  },
  {
   "cell_type": "code",
   "execution_count": null,
   "metadata": {},
   "outputs": [],
   "source": [
    "import visualization_utils as viz_utils\n",
    "colors_rgb = [np.array(c)/255 for c in viz_utils.n_colors(len(visualizer.plane_indices))]\n",
    "# colors_rgb = [np.random.rand(3) for c in range(len(visualizer.plane_indices))]\n",
    "\n",
    "alpha = 0.8\n",
    "colors = [Rgba(*c, alpha) for c in colors_rgb]\n",
    "cert = binary_search_region_certificates_for_iris[tuple(seed_points[0])][0][1]\n",
    "for plane_index, color in zip(associated_plane_indices, colors):\n",
    "#     visualizer.show_res_s(s)\n",
    "    visualizer.plot_plane_by_index_at_s(cur_s, plane_index, cert, color, \"/plane\")"
   ]
  },
  {
   "cell_type": "code",
   "execution_count": null,
   "metadata": {},
   "outputs": [],
   "source": [
    "visualizer.highlight_geometry_id(plane_indices_to_geometries[associated_plane_indices[0]][0],\n",
    "                                Rgba(0,0,0,1))"
   ]
  },
  {
   "cell_type": "code",
   "execution_count": null,
   "metadata": {},
   "outputs": [],
   "source": [
    "filename_prefix = \"pend_on_rail_\"\n",
    "with open(filename_prefix + \"cspace.html\", \"w\") as f:\n",
    "        f.write(visualizer.meshcat_cspace.StaticHtml())\n",
    "with open(filename_prefix + \"task_space.html\", \"w\") as f:\n",
    "        f.write(visualizer.meshcat_task_space.StaticHtml())\n",
    "    "
   ]
  }
 ],
 "metadata": {
  "interpreter": {
   "hash": "31f2aee4e71d21fbe5cf8b01ff0e069b9275f58929596ceb00d14d90e3e16cd6"
  },
  "kernelspec": {
   "display_name": "Python 3",
   "language": "python",
   "name": "python3"
  },
  "language_info": {
   "codemirror_mode": {
    "name": "ipython",
    "version": 3
   },
   "file_extension": ".py",
   "mimetype": "text/x-python",
   "name": "python",
   "nbconvert_exporter": "python",
   "pygments_lexer": "ipython3",
   "version": "3.8.10"
  }
 },
 "nbformat": 4,
 "nbformat_minor": 2
}
