{
 "cells": [
  {
   "cell_type": "code",
   "execution_count": 1,
   "metadata": {},
   "outputs": [],
   "source": [
    "%load_ext autoreload"
   ]
  },
  {
   "cell_type": "code",
   "execution_count": 2,
   "metadata": {},
   "outputs": [],
   "source": [
    "import numpy as np\n",
    "from functools import partial\n",
    "from iris_plant_visualizer import IrisPlantVisualizer\n",
    "from iris_plant_animation_visualizer import IrisPlantVisualizer as viz2\n",
    "\n",
    "import ipywidgets as widgets\n",
    "from IPython.display import display\n",
    "from scipy.linalg import block_diag\n",
    "import visualization_utils as viz_utils\n"
   ]
  },
  {
   "cell_type": "code",
   "execution_count": 3,
   "metadata": {},
   "outputs": [],
   "source": [
    "#pydrake imports\n",
    "from pydrake.common import FindResourceOrThrow\n",
    "from pydrake.multibody.parsing import Parser\n",
    "from pydrake.multibody.plant import AddMultibodyPlantSceneGraph\n",
    "from pydrake.systems.framework import DiagramBuilder\n",
    "from pydrake.geometry import Role, GeometrySet, CollisionFilterDeclaration\n",
    "from pydrake.all import RigidTransform, RollPitchYaw, RevoluteJoint\n",
    "from pydrake.all import RotationMatrix, Rgba\n",
    "import time\n",
    "import pydrake.multibody.rational as rational_forward_kinematics\n",
    "from pydrake.all import RationalForwardKinematics\n",
    "from pydrake.geometry.optimization import IrisOptions, IrisInRationalConfigurationSpace, HPolyhedron, Hyperellipsoid\n",
    "from pydrake.solvers import MosekSolver, CommonSolverOption, SolverOptions"
   ]
  },
  {
   "cell_type": "code",
   "execution_count": 4,
   "metadata": {},
   "outputs": [],
   "source": [
    "from pydrake.geometry.optimization_dev import (CspaceFreePolytope, \n",
    "                                               SeparatingPlaneOrder)"
   ]
  },
  {
   "cell_type": "markdown",
   "metadata": {},
   "source": [
    "# Build and set up the visualization the plant and the visualization of the C-space obstacle\n",
    "\n",
    "We first set up a simple 2-DOF system and visualize both the plant and the configuration constraint.Click on the two links at the bottom to view the plant and the configuration space.\n",
    "\n",
    "Note that running this cell multiple times will establish multiple meshcat instances which can fill up your memory. It is a good idea to call \"pkill -f meshcat\" from the command line before re-running this cell\n"
   ]
  },
  {
   "cell_type": "code",
   "execution_count": 5,
   "metadata": {},
   "outputs": [
    {
     "name": "stderr",
     "output_type": "stream",
     "text": [
      "WARNING:drake:/home/amice/.cache/bazel/_bazel_amice/32fdbbecfa8a7ce8feece95e48c42006/execroot/drake/bazel-out/k8-opt/bin/C_Iris_Examples/pinball_iiwas_2d_trajectory.runfiles/drake/C_Iris_Examples/assets/oneDOF_iiwa7_with_box_collision.sdf:425: warning: Ignoring unsupported SDFormat element in model: plugin\n",
      "WARNING:drake:/home/amice/.cache/bazel/_bazel_amice/32fdbbecfa8a7ce8feece95e48c42006/execroot/drake/bazel-out/k8-opt/bin/C_Iris_Examples/pinball_iiwas_2d_trajectory.runfiles/drake/C_Iris_Examples/assets/oneDOF_iiwa7_with_box_collision.sdf:37: warning: Ignoring unsupported SDFormat element in link: self_collide\n",
      "WARNING:drake:/home/amice/.cache/bazel/_bazel_amice/32fdbbecfa8a7ce8feece95e48c42006/execroot/drake/bazel-out/k8-opt/bin/C_Iris_Examples/pinball_iiwas_2d_trajectory.runfiles/drake/C_Iris_Examples/assets/oneDOF_iiwa7_with_box_collision.sdf:73: warning: Ignoring unsupported SDFormat element in link: self_collide\n",
      "WARNING:drake:/home/amice/.cache/bazel/_bazel_amice/32fdbbecfa8a7ce8feece95e48c42006/execroot/drake/bazel-out/k8-opt/bin/C_Iris_Examples/pinball_iiwas_2d_trajectory.runfiles/drake/C_Iris_Examples/assets/oneDOF_iiwa7_with_box_collision.sdf:128: warning: Ignoring unsupported SDFormat element in link: self_collide\n",
      "WARNING:drake:/home/amice/.cache/bazel/_bazel_amice/32fdbbecfa8a7ce8feece95e48c42006/execroot/drake/bazel-out/k8-opt/bin/C_Iris_Examples/pinball_iiwas_2d_trajectory.runfiles/drake/C_Iris_Examples/assets/oneDOF_iiwa7_with_box_collision.sdf:183: warning: Ignoring unsupported SDFormat element in link: self_collide\n",
      "WARNING:drake:/home/amice/.cache/bazel/_bazel_amice/32fdbbecfa8a7ce8feece95e48c42006/execroot/drake/bazel-out/k8-opt/bin/C_Iris_Examples/pinball_iiwas_2d_trajectory.runfiles/drake/C_Iris_Examples/assets/oneDOF_iiwa7_with_box_collision.sdf:238: warning: Ignoring unsupported SDFormat element in link: self_collide\n",
      "WARNING:drake:/home/amice/.cache/bazel/_bazel_amice/32fdbbecfa8a7ce8feece95e48c42006/execroot/drake/bazel-out/k8-opt/bin/C_Iris_Examples/pinball_iiwas_2d_trajectory.runfiles/drake/C_Iris_Examples/assets/oneDOF_iiwa7_with_box_collision.sdf:293: warning: Ignoring unsupported SDFormat element in link: self_collide\n",
      "WARNING:drake:/home/amice/.cache/bazel/_bazel_amice/32fdbbecfa8a7ce8feece95e48c42006/execroot/drake/bazel-out/k8-opt/bin/C_Iris_Examples/pinball_iiwas_2d_trajectory.runfiles/drake/C_Iris_Examples/assets/oneDOF_iiwa7_with_box_collision.sdf:348: warning: Ignoring unsupported SDFormat element in link: self_collide\n",
      "WARNING:drake:/home/amice/.cache/bazel/_bazel_amice/32fdbbecfa8a7ce8feece95e48c42006/execroot/drake/bazel-out/k8-opt/bin/C_Iris_Examples/pinball_iiwas_2d_trajectory.runfiles/drake/C_Iris_Examples/assets/oneDOF_iiwa7_with_box_collision.sdf:403: warning: Ignoring unsupported SDFormat element in link: self_collide\n",
      "WARNING:drake:/home/amice/.cache/bazel/_bazel_amice/32fdbbecfa8a7ce8feece95e48c42006/execroot/drake/bazel-out/k8-opt/bin/C_Iris_Examples/pinball_iiwas_2d_trajectory.runfiles/drake/C_Iris_Examples/assets/oneDOF_iiwa7_with_box_collision.sdf:425: warning: Ignoring unsupported SDFormat element in model: plugin\n",
      "WARNING:drake:/home/amice/.cache/bazel/_bazel_amice/32fdbbecfa8a7ce8feece95e48c42006/execroot/drake/bazel-out/k8-opt/bin/C_Iris_Examples/pinball_iiwas_2d_trajectory.runfiles/drake/C_Iris_Examples/assets/oneDOF_iiwa7_with_box_collision.sdf:37: warning: Ignoring unsupported SDFormat element in link: self_collide\n",
      "WARNING:drake:/home/amice/.cache/bazel/_bazel_amice/32fdbbecfa8a7ce8feece95e48c42006/execroot/drake/bazel-out/k8-opt/bin/C_Iris_Examples/pinball_iiwas_2d_trajectory.runfiles/drake/C_Iris_Examples/assets/oneDOF_iiwa7_with_box_collision.sdf:73: warning: Ignoring unsupported SDFormat element in link: self_collide\n",
      "WARNING:drake:/home/amice/.cache/bazel/_bazel_amice/32fdbbecfa8a7ce8feece95e48c42006/execroot/drake/bazel-out/k8-opt/bin/C_Iris_Examples/pinball_iiwas_2d_trajectory.runfiles/drake/C_Iris_Examples/assets/oneDOF_iiwa7_with_box_collision.sdf:128: warning: Ignoring unsupported SDFormat element in link: self_collide\n",
      "WARNING:drake:/home/amice/.cache/bazel/_bazel_amice/32fdbbecfa8a7ce8feece95e48c42006/execroot/drake/bazel-out/k8-opt/bin/C_Iris_Examples/pinball_iiwas_2d_trajectory.runfiles/drake/C_Iris_Examples/assets/oneDOF_iiwa7_with_box_collision.sdf:183: warning: Ignoring unsupported SDFormat element in link: self_collide\n",
      "WARNING:drake:/home/amice/.cache/bazel/_bazel_amice/32fdbbecfa8a7ce8feece95e48c42006/execroot/drake/bazel-out/k8-opt/bin/C_Iris_Examples/pinball_iiwas_2d_trajectory.runfiles/drake/C_Iris_Examples/assets/oneDOF_iiwa7_with_box_collision.sdf:238: warning: Ignoring unsupported SDFormat element in link: self_collide\n",
      "WARNING:drake:/home/amice/.cache/bazel/_bazel_amice/32fdbbecfa8a7ce8feece95e48c42006/execroot/drake/bazel-out/k8-opt/bin/C_Iris_Examples/pinball_iiwas_2d_trajectory.runfiles/drake/C_Iris_Examples/assets/oneDOF_iiwa7_with_box_collision.sdf:293: warning: Ignoring unsupported SDFormat element in link: self_collide\n",
      "WARNING:drake:/home/amice/.cache/bazel/_bazel_amice/32fdbbecfa8a7ce8feece95e48c42006/execroot/drake/bazel-out/k8-opt/bin/C_Iris_Examples/pinball_iiwas_2d_trajectory.runfiles/drake/C_Iris_Examples/assets/oneDOF_iiwa7_with_box_collision.sdf:348: warning: Ignoring unsupported SDFormat element in link: self_collide\n",
      "WARNING:drake:/home/amice/.cache/bazel/_bazel_amice/32fdbbecfa8a7ce8feece95e48c42006/execroot/drake/bazel-out/k8-opt/bin/C_Iris_Examples/pinball_iiwas_2d_trajectory.runfiles/drake/C_Iris_Examples/assets/oneDOF_iiwa7_with_box_collision.sdf:403: warning: Ignoring unsupported SDFormat element in link: self_collide\n",
      "INFO:drake:Meshcat listening for connections at http://localhost:7000\n"
     ]
    }
   ],
   "source": [
    "#construct our robot\n",
    "builder = DiagramBuilder()\n",
    "plant, scene_graph = AddMultibodyPlantSceneGraph(builder, time_step=0.001)\n",
    "parser = Parser(plant)\n",
    "oneDOF_iiwa_asset = FindResourceOrThrow(\"drake/C_Iris_Examples/assets/oneDOF_iiwa7_with_box_collision.sdf\")\n",
    "\n",
    "box_asset = FindResourceOrThrow(\"drake/C_Iris_Examples/assets/box_small.urdf\")\n",
    "\n",
    "models = []\n",
    "models.append(parser.AddModelFromFile(box_asset))\n",
    "models.append(parser.AddModelFromFile(oneDOF_iiwa_asset, 'right_sweeper'))\n",
    "models.append(parser.AddModelFromFile(oneDOF_iiwa_asset, 'left_sweeper'))\n",
    "locs = [[0.,0.,0.],\n",
    "        [0,1,0.85],\n",
    "        [0,-1,0.55]]\n",
    "plant.WeldFrames(plant.world_frame(), \n",
    "                 plant.GetFrameByName(\"base\", models[0]),\n",
    "                 RigidTransform(locs[0]))\n",
    "\n",
    "t1 = RigidTransform(RollPitchYaw([np.pi/2, 0, 0]).ToRotationMatrix(), locs[1])@RigidTransform(RollPitchYaw([0, 0, np.pi/2]), np.zeros(3))\n",
    "t2 = RigidTransform(RollPitchYaw([-np.pi/2, 0, 0]).ToRotationMatrix(), locs[2])@RigidTransform(RollPitchYaw([0, 0, np.pi/2]), np.zeros(3))\n",
    "plant.WeldFrames(plant.world_frame(), \n",
    "                 plant.GetFrameByName(\"iiwa_oneDOF_link_0\", models[1]), \n",
    "                 t1)\n",
    "plant.WeldFrames(plant.world_frame(), \n",
    "                 plant.GetFrameByName(\"iiwa_oneDOF_link_0\", models[2]), \n",
    "                 t2)\n",
    "\n",
    "\n",
    "plant.Finalize()\n",
    "idx = 0\n",
    "q0 = [0.0, 0.0]\n",
    "val = 1.7\n",
    "q_low  = np.array([-val, -val])\n",
    "q_high = np.array([val, val])\n",
    "# set the joint limits of the plant\n",
    "for model in models:\n",
    "    for joint_index in plant.GetJointIndices(model):\n",
    "        joint = plant.get_mutable_joint(joint_index)\n",
    "        if isinstance(joint, RevoluteJoint):\n",
    "            joint.set_default_angle(q0[idx])\n",
    "            joint.set_position_limits(lower_limits= np.array([q_low[idx]]), upper_limits= np.array([q_high[idx]]))\n",
    "            idx += 1\n",
    "        \n",
    "# construct the RationalForwardKinematics of this plant. This object handles the\n",
    "# computations for the forward kinematics in the tangent-configuration space\n",
    "Ratfk = RationalForwardKinematics(plant)\n",
    "\n",
    "# the point about which we will take the stereographic projections\n",
    "q_star = np.zeros(plant.num_positions())\n",
    "\n",
    "do_viz = True\n",
    "\n",
    "# The object we will use to perform our certification.\n",
    "cspace_free_polytope = CspaceFreePolytope(plant, scene_graph, SeparatingPlaneOrder.kAffine, q_star)\n",
    "cspace_frame = RigidTransform(RotationMatrix.MakeYRotation(np.pi/2)@RotationMatrix.MakeZRotation(np.pi/2), np.array([0,3,1]))\n",
    "# This line builds the visualization. Change the viz_role to Role.kIllustration if you\n",
    "# want to see the plant with its illustrated geometry or to Role.kProximity if you want\n",
    "# to see the plant with the collision geometries.\n",
    "visualizer = viz2(plant, builder, scene_graph, cspace_free_polytope, cspace_frame, viz_role=Role.kIllustration)\n",
    "visualizer.visualize_collision_constraint(factor = 1.2, \n",
    "                                          num_points = 100)\n",
    "# visualizer.meshcat.Set2dRenderMode(RigidTransform(RotationMatrix.MakeZRotation(0), np.array([1,0,0])))"
   ]
  },
  {
   "cell_type": "code",
   "execution_count": 6,
   "metadata": {},
   "outputs": [],
   "source": [
    "visualizer.meshcat.Set2dRenderMode(RigidTransform(RotationMatrix.MakeZRotation(0), np.array([1,0,0])))"
   ]
  },
  {
   "cell_type": "code",
   "execution_count": null,
   "metadata": {},
   "outputs": [],
   "source": []
  },
  {
   "cell_type": "markdown",
   "metadata": {},
   "source": [
    "## Set up the sliders so we can move the plant around manually\n",
    "\n",
    "You can use the sliders below to move the two degrees of freedom of the plant around. A green dot will appear in the TC-space visualization describing the current TC-space configuration."
   ]
  },
  {
   "cell_type": "code",
   "execution_count": 7,
   "metadata": {
    "scrolled": false
   },
   "outputs": [
    {
     "data": {
      "application/vnd.jupyter.widget-view+json": {
       "model_id": "1473307c72cc4ba184e988665124618e",
       "version_major": 2,
       "version_minor": 0
      },
      "text/plain": [
       "FloatSlider(value=0.0, description='q0', max=1.7, min=-1.7, step=0.02)"
      ]
     },
     "metadata": {},
     "output_type": "display_data"
    },
    {
     "data": {
      "application/vnd.jupyter.widget-view+json": {
       "model_id": "b7176149eb9a4d7a8f8229cecda0ce40",
       "version_major": 2,
       "version_minor": 0
      },
      "text/plain": [
       "FloatSlider(value=0.0, description='q1', max=1.7, min=-1.7, step=0.02)"
      ]
     },
     "metadata": {},
     "output_type": "display_data"
    }
   ],
   "source": [
    "sliders = []\n",
    "sliders.append(widgets.FloatSlider(min=q_low[0], max=q_high[0], value=0, description='q0', step = 0.02))\n",
    "sliders.append(widgets.FloatSlider(min=q_low[1], max=q_high[1], value=0, description='q1', step = 0.02))\n",
    "\n",
    "q = np.array([1.70, 0])\n",
    "def handle_slider_change(change, idx):\n",
    "    q[idx] = change['new']\n",
    "    visualizer.show_res_q(q)\n",
    "    \n",
    "idx = 0\n",
    "for slider in sliders:\n",
    "    slider.observe(partial(handle_slider_change, idx = idx), names='value')\n",
    "    idx+=1\n",
    "\n",
    "for slider in sliders:\n",
    "    display(slider)\n"
   ]
  },
  {
   "cell_type": "markdown",
   "metadata": {},
   "source": [
    "# Generate and Certify Regions\n",
    "\n",
    "Around some nominal seed postures, we will grow certified regions by seeding our alternation algorithm using a small initial polytope."
   ]
  },
  {
   "cell_type": "code",
   "execution_count": 8,
   "metadata": {},
   "outputs": [],
   "source": [
    "# Some seedpoints\n",
    "seed_points_q = np.array([   \n",
    "                              [0.0, 0],\n",
    "                              [0.7, -0.9],\n",
    "                              [-0.5, -0.5],\n",
    "                              [0.5,-1.08],\n",
    "                              [-1.06, 0.48]\n",
    "                              ])\n",
    "\n",
    "seed_points = np.array([Ratfk.ComputeSValue(seed_points_q[idx], np.zeros((2,)))\\\n",
    "                        for idx in range(seed_points_q.shape[0])])\n",
    "start = seed_points[0]\n",
    "end = seed_points[-1]\n",
    "\n",
    "visualizer.plot_cspace_points(seed_points, \"/iris_seed_points\", radius = 0.02)\n",
    "    \n",
    "\n",
    "\n",
    "default_scale = 1e-2\n",
    "L1_ball = HPolyhedron.MakeL1Ball(2)\n",
    "Linf_ball = HPolyhedron.MakeBox(-np.ones(2), np.ones(2))\n",
    "\n",
    "template_C = np.vstack([L1_ball.A(), Linf_ball.A()])\n",
    "template_d = np.hstack([default_scale*L1_ball.b(), default_scale/np.sqrt(2)*Linf_ball.b()])\n",
    "\n",
    "\n",
    "def make_default_polytope_at_point(seed_point):\n",
    "    return HPolyhedron(template_C, template_d + template_C @ seed_point)\n",
    "\n",
    "\n",
    "# colors to plot the region. Chosen for color-blind compatibility\n",
    "default_alpha = 0.2\n",
    "colors_dict = {\n",
    "    0: Rgba(0.565, 0.565, 0.565, default_alpha), # gray\n",
    "    1: Rgba(0.118, 0.533, 0.898, default_alpha), # bluish\n",
    "    2: Rgba(1,     0.757, 0.027, default_alpha), # gold\n",
    "    3: Rgba(0,     0.549, 0.024, default_alpha), # green   \n",
    "    4: Rgba(0.055, 0.914, 0.929, default_alpha), # teal \n",
    "}\n",
    "\n",
    "initial_regions = [(make_default_polytope_at_point(s), colors_dict[i]) for i, s in enumerate(seed_points)]\n",
    "# visualizer.add_group_of_regions_to_visualization(initial_regions, \"initial_regions\",\n",
    "#                             wireframe = False,\n",
    "#                            opacity = default_alpha)\n",
    "visualizer.show_res_q(q_star)\n",
    "\n",
    "visualizer.add_plane_indices_of_interest(118)"
   ]
  },
  {
   "cell_type": "code",
   "execution_count": 9,
   "metadata": {},
   "outputs": [
    {
     "data": {
      "text/plain": [
       "[118]"
      ]
     },
     "execution_count": 9,
     "metadata": {},
     "output_type": "execute_result"
    }
   ],
   "source": [
    "visualizer._plane_indices_of_interest"
   ]
  },
  {
   "cell_type": "markdown",
   "metadata": {},
   "source": [
    "## First we set up some options for our different certification modes"
   ]
  },
  {
   "cell_type": "code",
   "execution_count": 10,
   "metadata": {},
   "outputs": [],
   "source": [
    "# set up the certifier and the options for different search techniques\n",
    "solver_options = SolverOptions()\n",
    "# set this to 1 if you would like to see the solver output in terminal.\n",
    "solver_options.SetOption(CommonSolverOption.kPrintToConsole, 0)\n",
    "\n",
    "# The options for when we search for new planes and positivity certificates given the polytopes\n",
    "find_separation_certificate_given_polytope_options = CspaceFreePolytope.FindSeparationCertificateGivenPolytopeOptions()\n",
    "find_separation_certificate_given_polytope_options.num_threads = -1\n",
    "find_separation_certificate_given_polytope_options.verbose = False\n",
    "find_separation_certificate_given_polytope_options.solver_options = solver_options\n",
    "find_separation_certificate_given_polytope_options.ignore_redundant_C = False\n",
    "\n",
    "# The options for when we search for a new polytope given positivity certificates.\n",
    "find_polytope_given_lagrangian_option = CspaceFreePolytope.FindPolytopeGivenLagrangianOptions()\n",
    "find_polytope_given_lagrangian_option.solver_options = solver_options\n",
    "find_polytope_given_lagrangian_option.ellipsoid_margin_cost = CspaceFreePolytope.EllipsoidMarginCost.kGeometricMean\n",
    "find_polytope_given_lagrangian_option.search_s_bounds_lagrangians = True\n",
    "find_polytope_given_lagrangian_option.ellipsoid_margin_epsilon = 1e-8\n",
    "\n",
    "\n",
    "bilinear_alternation_options = CspaceFreePolytope.BilinearAlternationOptions()\n",
    "bilinear_alternation_options.max_iter = 50\n",
    "bilinear_alternation_options.convergence_tol = 1e-5\n",
    "bilinear_alternation_options.find_polytope_options = find_polytope_given_lagrangian_option\n",
    "bilinear_alternation_options.find_lagrangian_options = find_separation_certificate_given_polytope_options\n",
    "\n",
    "binary_search_options = CspaceFreePolytope.BinarySearchOptions()\n",
    "binary_search_options.find_lagrangian_options = find_separation_certificate_given_polytope_options\n",
    "binary_search_options.scale_min = 1\n",
    "binary_search_options.scale_max = 50\n",
    "binary_search_options.max_iter = 100\n",
    "\n",
    "Clim = np.vstack([np.eye(q_star.shape[0]), -np.eye(q_star.shape[0])])\n",
    "dlim = np.concatenate([Ratfk.ComputeSValue(q_high, q_star), -Ratfk.ComputeSValue(q_low, q_star)])\n",
    "def polytope_with_joint_limits(C, d):\n",
    "    return HPolyhedron(np.vstack([C, Clim]), np.concatenate([d, dlim]))"
   ]
  },
  {
   "cell_type": "markdown",
   "metadata": {},
   "source": [
    "## Seeding and Certifying with a Stronger Heuristic\n",
    "We have also implemented another, strong heuristic for proposing good initial regions based on non-linear optimization. See Appendix TODO of our paper TODO for details"
   ]
  },
  {
   "cell_type": "code",
   "execution_count": 11,
   "metadata": {},
   "outputs": [],
   "source": [
    "iris_regions = []\n",
    "iris_ellipses = []\n",
    "\n",
    "iris_options = IrisOptions()\n",
    "iris_options.require_sample_point_is_contained = True\n",
    "iris_options.configuration_space_margin = 1e-3\n",
    "iris_options.relative_termination_threshold = 0.001\n",
    "\n",
    "context_for_iris = visualizer.diagram_context\n",
    "for i, s in enumerate(seed_points):\n",
    "    q = Ratfk.ComputeQValue(s, q_star)\n",
    "    plant.SetPositions(plant.GetMyMutableContextFromRoot(context_for_iris), q)\n",
    "    r = IrisInRationalConfigurationSpace(plant, \n",
    "                                         plant.GetMyContextFromRoot(context_for_iris),\n",
    "                                         q_star, iris_options)\n",
    "    iris_regions.append((r, colors_dict[i]))\n",
    "    iris_ellipses.append(r.MaximumVolumeInscribedEllipsoid())\n",
    "    \n",
    "\n",
    "# visualizer.add_group_of_regions_to_visualization(iris_regions, \"/uncertified_iris\", \n",
    "#                                                             wireframe = False, opacity = 0.2)"
   ]
  },
  {
   "cell_type": "code",
   "execution_count": 12,
   "metadata": {},
   "outputs": [],
   "source": [
    "# binary_search_options_for_iris = CspaceFreePolytope.BinarySearchOptions()\n",
    "# binary_search_options_for_iris.scale_max = 1.0 # it is highly unlikely that the regions can grow, but we can try\n",
    "# binary_search_options_for_iris.find_lagrangian_options = find_separation_certificate_given_polytope_options\n",
    "# binary_search_options_for_iris.max_iter = 50\n",
    "# binary_search_region_certificates_for_iris = dict.fromkeys([tuple(s) for s in seed_points])\n",
    "# for i, (s, (initial_region, color)) in enumerate(zip(seed_points, iris_regions)):\n",
    "#     print(f\"starting seedpoint {i+1}/{len(iris_regions)}\")\n",
    "#     time.sleep(0.2)    \n",
    "#     cert = cspace_free_polytope.BinarySearch(set(),\n",
    "#                                                     initial_region.A(),\n",
    "#                                                     initial_region.b(), \n",
    "#                                                     initial_region.MaximumVolumeInscribedEllipsoid().center(), \n",
    "#                                                     binary_search_options_for_iris)\n",
    "#     binary_search_region_certificates_for_iris[tuple(s)] = [(polytope_with_joint_limits(cert.C, cert.d),\n",
    "#                                                              cert, color)]\n",
    "# for i, result in enumerate(binary_search_region_certificates_for_iris.values()):\n",
    "#     group_name = f\"/certified-iris-bin_seed_point_{i}\"\n",
    "#     visualizer.add_group_of_regions_and_certs_to_visualization(result, group_name, \n",
    "#                                                         wireframe = False, opacity = 0.2)\n",
    "# #     tmp = [(r[0], r[2]) for r in result]\n",
    "# #     visualizer.add_group_of_regions_to_visualization(tmp, group_name, \n",
    "# #                                                             wireframe = False, opacity = 0.2)\n",
    "\n",
    "# visualizer.show_res_q(q)"
   ]
  },
  {
   "cell_type": "code",
   "execution_count": 13,
   "metadata": {},
   "outputs": [
    {
     "name": "stderr",
     "output_type": "stream",
     "text": [
      "INFO:drake:det(Q) at the beginning is 4.900500382473016e-05\n"
     ]
    },
    {
     "name": "stdout",
     "output_type": "stream",
     "text": [
      "starting seedpoint 1/5\n"
     ]
    },
    {
     "name": "stderr",
     "output_type": "stream",
     "text": [
      "INFO:drake:Iteration 0: det(Q)=0.00014576238925864208\n",
      "INFO:drake:Iteration 1: det(Q)=0.0002806159113297737\n",
      "INFO:drake:Iteration 2: det(Q)=0.0005344000732312085\n",
      "INFO:drake:Iteration 3: det(Q)=0.0009169467132802288\n",
      "INFO:drake:Iteration 4: det(Q)=0.0013848549945793937\n",
      "INFO:drake:Iteration 5: det(Q)=0.0019126336178197192\n",
      "INFO:drake:Iteration 6: det(Q)=0.00255550225428644\n",
      "INFO:drake:Iteration 7: det(Q)=0.003337093699566204\n",
      "INFO:drake:Iteration 8: det(Q)=0.00430669080783459\n",
      "INFO:drake:Iteration 9: det(Q)=0.005568220382883087\n",
      "INFO:drake:Iteration 10: det(Q)=0.007114884752347183\n",
      "INFO:drake:Iteration 11: det(Q)=0.008935629008910621\n",
      "INFO:drake:Iteration 12: det(Q)=0.011160505913197317\n",
      "INFO:drake:Iteration 13: det(Q)=0.013856731449179946\n",
      "INFO:drake:Iteration 14: det(Q)=0.016859548786580456\n",
      "INFO:drake:Iteration 15: det(Q)=0.020610878066453044\n",
      "INFO:drake:Iteration 16: det(Q)=0.02530337015678481\n",
      "INFO:drake:Iteration 17: det(Q)=0.02861864786435216\n",
      "INFO:drake:Iteration 18: det(Q)=0.031073885939933994\n",
      "INFO:drake:Iteration 19: det(Q)=0.03332418158185906\n",
      "INFO:drake:Iteration 20: det(Q)=0.035594576679972324\n",
      "INFO:drake:Iteration 21: det(Q)=0.03761056205367161\n",
      "INFO:drake:Iteration 22: det(Q)=0.039320304019302116\n",
      "INFO:drake:Iteration 23: det(Q)=0.040866381642067615\n",
      "INFO:drake:Iteration 24: det(Q)=0.042200868899621935\n",
      "INFO:drake:Iteration 25: det(Q)=0.043343949879955726\n",
      "INFO:drake:Iteration 26: det(Q)=0.044363575086265976\n",
      "INFO:drake:Iteration 27: det(Q)=0.04527690690782205\n",
      "INFO:drake:Iteration 28: det(Q)=0.04613221115396225\n",
      "INFO:drake:Iteration 29: det(Q)=0.046903742820271904\n",
      "INFO:drake:Iteration 30: det(Q)=0.04760121570086525\n",
      "INFO:drake:Iteration 31: det(Q)=0.048248428450184885\n",
      "INFO:drake:Iteration 32: det(Q)=0.04883921965470472\n",
      "INFO:drake:Iteration 33: det(Q)=0.049376335085734434\n",
      "INFO:drake:Iteration 34: det(Q)=0.049860146127798946\n",
      "INFO:drake:Iteration 35: det(Q)=0.050305937366277344\n",
      "INFO:drake:Iteration 36: det(Q)=0.05070604855929399\n",
      "INFO:drake:Iteration 37: det(Q)=0.051063894816302566\n",
      "INFO:drake:Iteration 38: det(Q)=0.051359577586823246\n",
      "INFO:drake:Iteration 39: det(Q)=0.051607220294541484\n",
      "INFO:drake:Iteration 40: det(Q)=0.051826347324888465\n",
      "INFO:drake:Iteration 41: det(Q)=0.05196813283589497\n",
      "INFO:drake:Iteration 42: det(Q)=0.05205702565168568\n",
      "INFO:drake:Iteration 43: det(Q)=0.0521772507786218\n",
      "INFO:drake:Iteration 44: det(Q)=0.05230664925756688\n",
      "INFO:drake:Iteration 45: det(Q)=0.052416355724193196\n",
      "INFO:drake:Iteration 46: det(Q)=0.05248352336218415\n",
      "INFO:drake:Iteration 47: det(Q)=0.052556615381775494\n",
      "INFO:drake:Iteration 48: det(Q)=0.052600799088521936\n",
      "INFO:drake:Iteration 49: det(Q)=0.05265472039036207\n",
      "INFO:drake:det(Q) at the beginning is 4.9005001094506195e-05\n",
      "INFO:drake:Iteration 0: det(Q)=0.00014131240847090125\n"
     ]
    },
    {
     "name": "stdout",
     "output_type": "stream",
     "text": [
      "starting seedpoint 2/5\n"
     ]
    },
    {
     "name": "stderr",
     "output_type": "stream",
     "text": [
      "INFO:drake:Iteration 1: det(Q)=0.00036805961026473594\n",
      "INFO:drake:Iteration 2: det(Q)=0.0007327701038891825\n",
      "INFO:drake:Iteration 3: det(Q)=0.001456733282687195\n",
      "INFO:drake:Iteration 4: det(Q)=0.002961332348494822\n",
      "INFO:drake:Iteration 5: det(Q)=0.005965834368885852\n",
      "INFO:drake:Iteration 6: det(Q)=0.009942655734023328\n",
      "INFO:drake:Iteration 7: det(Q)=0.01235925129642312\n",
      "INFO:drake:Iteration 8: det(Q)=0.013822141909334801\n",
      "INFO:drake:Iteration 9: det(Q)=0.015100253158656518\n",
      "INFO:drake:Iteration 10: det(Q)=0.01629489374179905\n",
      "INFO:drake:Iteration 11: det(Q)=0.01721702132606201\n",
      "INFO:drake:Iteration 12: det(Q)=0.018057449774436303\n",
      "INFO:drake:Iteration 13: det(Q)=0.018789068669064324\n",
      "INFO:drake:Iteration 14: det(Q)=0.019457449285388582\n",
      "INFO:drake:Iteration 15: det(Q)=0.019972553730983292\n",
      "INFO:drake:Iteration 16: det(Q)=0.020319434371489833\n",
      "INFO:drake:Iteration 17: det(Q)=0.0206264546237852\n",
      "INFO:drake:Iteration 18: det(Q)=0.020905526613063476\n",
      "INFO:drake:Iteration 19: det(Q)=0.021140206492264196\n",
      "INFO:drake:Iteration 20: det(Q)=0.02130729493158291\n",
      "INFO:drake:Iteration 21: det(Q)=0.021430967597130212\n",
      "INFO:drake:Iteration 22: det(Q)=0.02152672695158641\n",
      "INFO:drake:Iteration 23: det(Q)=0.021601316367825\n",
      "INFO:drake:Iteration 24: det(Q)=0.021654814955929143\n",
      "INFO:drake:Iteration 25: det(Q)=0.02170089186407266\n",
      "INFO:drake:Iteration 26: det(Q)=0.02173807258398767\n",
      "INFO:drake:Iteration 27: det(Q)=0.021767617671565858\n",
      "INFO:drake:Iteration 28: det(Q)=0.02179182437714258\n",
      "INFO:drake:Iteration 29: det(Q)=0.021812659336257423\n",
      "INFO:drake:Iteration 30: det(Q)=0.02183200020036274\n",
      "INFO:drake:Iteration 31: det(Q)=0.021847911745300503\n",
      "INFO:drake:Iteration 32: det(Q)=0.02186163563619842\n",
      "INFO:drake:Iteration 33: det(Q)=0.02187325337039177\n",
      "INFO:drake:Iteration 34: det(Q)=0.021885944197460525\n",
      "INFO:drake:Iteration 35: det(Q)=0.02189909466651032\n",
      "INFO:drake:Iteration 36: det(Q)=0.021909411123050986\n",
      "INFO:drake:Iteration 37: det(Q)=0.021918680784449092\n",
      "INFO:drake:Iteration 38: det(Q)=0.021926705968467224\n",
      "WARNING:drake:Failed before backoff.\n",
      "ERROR:drake:Cannot find the separation certificate at iteration 39 given the Lagrangians.\n",
      "INFO:drake:det(Q) at the beginning is 4.900500387407825e-05\n"
     ]
    },
    {
     "name": "stdout",
     "output_type": "stream",
     "text": [
      "starting seedpoint 3/5\n"
     ]
    },
    {
     "name": "stderr",
     "output_type": "stream",
     "text": [
      "INFO:drake:Iteration 0: det(Q)=0.0002893803632078695\n",
      "INFO:drake:Iteration 1: det(Q)=0.000629240698708994\n",
      "INFO:drake:Iteration 2: det(Q)=0.0010005786406084907\n",
      "INFO:drake:Iteration 3: det(Q)=0.0015026235141849568\n",
      "INFO:drake:Iteration 4: det(Q)=0.0022000574340110984\n",
      "INFO:drake:Iteration 5: det(Q)=0.0030720890177413714\n",
      "INFO:drake:Iteration 6: det(Q)=0.004162115304839216\n",
      "INFO:drake:Iteration 7: det(Q)=0.005547234537234709\n",
      "INFO:drake:Iteration 8: det(Q)=0.0074292604396001775\n",
      "INFO:drake:Iteration 9: det(Q)=0.010085315083395479\n",
      "INFO:drake:Iteration 10: det(Q)=0.013281577185173903\n",
      "INFO:drake:Iteration 11: det(Q)=0.01694537902529072\n",
      "INFO:drake:Iteration 12: det(Q)=0.02153020666681398\n",
      "INFO:drake:Iteration 13: det(Q)=0.027388154267308482\n",
      "INFO:drake:Iteration 14: det(Q)=0.035545598544039415\n",
      "INFO:drake:Iteration 15: det(Q)=0.04730253089744523\n",
      "INFO:drake:Iteration 16: det(Q)=0.06925458037467991\n",
      "INFO:drake:Iteration 17: det(Q)=0.0933919784520877\n",
      "INFO:drake:Iteration 18: det(Q)=0.10877284559474545\n",
      "INFO:drake:Iteration 19: det(Q)=0.11899094951617177\n",
      "INFO:drake:Iteration 20: det(Q)=0.12665969312881184\n",
      "INFO:drake:Iteration 21: det(Q)=0.13231856746619203\n",
      "INFO:drake:Iteration 22: det(Q)=0.13604450636369986\n",
      "INFO:drake:Iteration 23: det(Q)=0.1387949660271894\n",
      "INFO:drake:Iteration 24: det(Q)=0.1412038525088485\n",
      "INFO:drake:Iteration 25: det(Q)=0.14359131014254306\n",
      "INFO:drake:Iteration 26: det(Q)=0.145833905192806\n",
      "INFO:drake:Iteration 27: det(Q)=0.1479157855366009\n",
      "INFO:drake:Iteration 28: det(Q)=0.1498684778700725\n",
      "INFO:drake:Iteration 29: det(Q)=0.15172169768586855\n",
      "INFO:drake:Iteration 30: det(Q)=0.15336357011263313\n",
      "INFO:drake:Iteration 31: det(Q)=0.15480632491094112\n",
      "INFO:drake:Iteration 32: det(Q)=0.15601818933330208\n",
      "INFO:drake:Iteration 33: det(Q)=0.1569672681714396\n",
      "INFO:drake:Iteration 34: det(Q)=0.15774336904797348\n",
      "INFO:drake:Iteration 35: det(Q)=0.15838551218013283\n",
      "INFO:drake:Iteration 36: det(Q)=0.15906510544500893\n",
      "INFO:drake:Iteration 37: det(Q)=0.1596839558485698\n",
      "INFO:drake:Iteration 38: det(Q)=0.16026629627165126\n",
      "INFO:drake:Iteration 39: det(Q)=0.16079049098928783\n",
      "INFO:drake:Iteration 40: det(Q)=0.16123438496192638\n",
      "INFO:drake:Iteration 41: det(Q)=0.16164602232240188\n",
      "INFO:drake:Iteration 42: det(Q)=0.16202146735433942\n",
      "INFO:drake:Iteration 43: det(Q)=0.16236098604939708\n",
      "INFO:drake:Iteration 44: det(Q)=0.16262523888191757\n",
      "INFO:drake:Iteration 45: det(Q)=0.16283330344069907\n",
      "INFO:drake:Iteration 46: det(Q)=0.16300259702449324\n",
      "INFO:drake:Iteration 47: det(Q)=0.1626731367266254\n",
      "INFO:drake:det(Q) at the beginning is 4.900500345925399e-05\n",
      "INFO:drake:Iteration 0: det(Q)=0.00010339887932332229\n"
     ]
    },
    {
     "name": "stdout",
     "output_type": "stream",
     "text": [
      "starting seedpoint 4/5\n"
     ]
    },
    {
     "name": "stderr",
     "output_type": "stream",
     "text": [
      "INFO:drake:Iteration 1: det(Q)=0.00018579145628959672\n",
      "INFO:drake:Iteration 2: det(Q)=0.0002769318578043369\n",
      "INFO:drake:Iteration 3: det(Q)=0.0004675590586949072\n",
      "INFO:drake:Iteration 4: det(Q)=0.0007918939209971374\n",
      "INFO:drake:Iteration 5: det(Q)=0.0011657905502829118\n",
      "INFO:drake:Iteration 6: det(Q)=0.0017386046717462675\n",
      "INFO:drake:Iteration 7: det(Q)=0.002541565057009815\n",
      "INFO:drake:Iteration 8: det(Q)=0.0034983439448962165\n",
      "INFO:drake:Iteration 9: det(Q)=0.0046491207103816845\n",
      "INFO:drake:Iteration 10: det(Q)=0.006070204334967574\n",
      "INFO:drake:Iteration 11: det(Q)=0.007643903525013378\n",
      "INFO:drake:Iteration 12: det(Q)=0.009792904967279723\n",
      "INFO:drake:Iteration 13: det(Q)=0.01334431554136183\n",
      "INFO:drake:Iteration 14: det(Q)=0.018856065597072914\n",
      "INFO:drake:Iteration 15: det(Q)=0.02782325429042248\n",
      "INFO:drake:Iteration 16: det(Q)=0.044361018913048784\n",
      "INFO:drake:Iteration 17: det(Q)=0.057292038884133555\n",
      "INFO:drake:Iteration 18: det(Q)=0.06822090668193889\n",
      "INFO:drake:Iteration 19: det(Q)=0.08059512222326985\n",
      "INFO:drake:Iteration 20: det(Q)=0.089439077823081\n",
      "INFO:drake:Iteration 21: det(Q)=0.09805340923752792\n",
      "INFO:drake:Iteration 22: det(Q)=0.10628883598441019\n",
      "INFO:drake:Iteration 23: det(Q)=0.11318982550064809\n",
      "INFO:drake:Iteration 24: det(Q)=0.11813968355018101\n",
      "INFO:drake:Iteration 25: det(Q)=0.12301475963067458\n",
      "INFO:drake:Iteration 26: det(Q)=0.12658313093378382\n",
      "INFO:drake:Iteration 27: det(Q)=0.12902415902209968\n",
      "INFO:drake:Iteration 28: det(Q)=0.13144007326139603\n",
      "INFO:drake:Iteration 29: det(Q)=0.13363428470456393\n",
      "INFO:drake:Iteration 30: det(Q)=0.13547457766331938\n",
      "INFO:drake:Iteration 31: det(Q)=0.13677984070780166\n",
      "INFO:drake:Iteration 32: det(Q)=0.1379675047347977\n",
      "INFO:drake:Iteration 33: det(Q)=0.13904524216285055\n",
      "INFO:drake:Iteration 34: det(Q)=0.13999681402155398\n",
      "INFO:drake:Iteration 35: det(Q)=0.1409262895761304\n",
      "INFO:drake:Iteration 36: det(Q)=0.14177884814150357\n",
      "INFO:drake:Iteration 37: det(Q)=0.14255067714089253\n",
      "INFO:drake:Iteration 38: det(Q)=0.14316001201588338\n",
      "INFO:drake:Iteration 39: det(Q)=0.1437250245747277\n",
      "INFO:drake:Iteration 40: det(Q)=0.14418368517777339\n",
      "INFO:drake:Iteration 41: det(Q)=0.1446376235759739\n",
      "INFO:drake:Iteration 42: det(Q)=0.14501965643082226\n",
      "INFO:drake:Iteration 43: det(Q)=0.14537375535719615\n",
      "INFO:drake:Iteration 44: det(Q)=0.14570963726948075\n",
      "INFO:drake:Iteration 45: det(Q)=0.14600019906112457\n",
      "INFO:drake:Iteration 46: det(Q)=0.14636099210182565\n",
      "INFO:drake:Iteration 47: det(Q)=0.14674241360678406\n",
      "INFO:drake:Iteration 48: det(Q)=0.14714602987483175\n",
      "INFO:drake:Iteration 49: det(Q)=0.14752669010605884\n",
      "INFO:drake:det(Q) at the beginning is 4.900500321170408e-05\n",
      "INFO:drake:Iteration 0: det(Q)=9.187667490570257e-05\n"
     ]
    },
    {
     "name": "stdout",
     "output_type": "stream",
     "text": [
      "starting seedpoint 5/5\n"
     ]
    },
    {
     "name": "stderr",
     "output_type": "stream",
     "text": [
      "INFO:drake:Iteration 1: det(Q)=0.00015239078399186516\n",
      "INFO:drake:Iteration 2: det(Q)=0.00023425033830250453\n",
      "INFO:drake:Iteration 3: det(Q)=0.0003362913456625858\n",
      "INFO:drake:Iteration 4: det(Q)=0.00047180029306225185\n",
      "INFO:drake:Iteration 5: det(Q)=0.000631131513203011\n",
      "INFO:drake:Iteration 6: det(Q)=0.0008448350871849316\n",
      "INFO:drake:Iteration 7: det(Q)=0.0011059142547443187\n",
      "INFO:drake:Iteration 8: det(Q)=0.0014591068950592092\n",
      "INFO:drake:Iteration 9: det(Q)=0.001984403557036214\n",
      "INFO:drake:Iteration 10: det(Q)=0.0027109588797051883\n",
      "INFO:drake:Iteration 11: det(Q)=0.003299000202382135\n",
      "INFO:drake:Iteration 12: det(Q)=0.004479237882434005\n",
      "INFO:drake:Iteration 13: det(Q)=0.005494824570979182\n",
      "INFO:drake:Iteration 14: det(Q)=0.007830253356251222\n",
      "INFO:drake:Iteration 15: det(Q)=0.011396510162193785\n",
      "INFO:drake:Iteration 16: det(Q)=0.017585510310220712\n",
      "INFO:drake:Iteration 17: det(Q)=0.024454094550338586\n",
      "INFO:drake:Iteration 18: det(Q)=0.032943287186086134\n",
      "INFO:drake:Iteration 19: det(Q)=0.038100223641824256\n",
      "INFO:drake:Iteration 20: det(Q)=0.03894520554536643\n",
      "INFO:drake:Iteration 21: det(Q)=0.03963314388575794\n",
      "INFO:drake:Iteration 22: det(Q)=0.04011562205714973\n",
      "INFO:drake:Iteration 23: det(Q)=0.04057207639165793\n",
      "INFO:drake:Iteration 24: det(Q)=0.04099796370930413\n",
      "INFO:drake:Iteration 25: det(Q)=0.04138529671598173\n",
      "INFO:drake:Iteration 26: det(Q)=0.041693126506379914\n",
      "INFO:drake:Iteration 27: det(Q)=0.041929113853919196\n",
      "INFO:drake:Iteration 28: det(Q)=0.04212368330700759\n",
      "INFO:drake:Iteration 29: det(Q)=0.04227062285593248\n",
      "INFO:drake:Iteration 30: det(Q)=0.04237185188365323\n",
      "INFO:drake:Iteration 31: det(Q)=0.0424534557516556\n",
      "INFO:drake:Iteration 32: det(Q)=0.042531643118729826\n",
      "INFO:drake:Iteration 33: det(Q)=0.04259994575226914\n",
      "INFO:drake:Iteration 34: det(Q)=0.04264733071924641\n",
      "INFO:drake:Iteration 35: det(Q)=0.04268478138244031\n",
      "INFO:drake:Iteration 36: det(Q)=0.042717837533124296\n",
      "INFO:drake:Iteration 37: det(Q)=0.0427439641059113\n",
      "INFO:drake:Iteration 38: det(Q)=0.042761930319646965\n",
      "INFO:drake:Iteration 39: det(Q)=0.04274517373368412\n"
     ]
    }
   ],
   "source": [
    "from time import perf_counter\n",
    "bilinear_alternation_results_by_seed_point = dict.fromkeys([tuple(s) for s in seed_points])\n",
    "times_per_region = []\n",
    "for i, (s, (initial_region, color)) in enumerate(zip(seed_points, initial_regions)):\n",
    "    print(f\"starting seedpoint {i+1}/{len(initial_regions)}\")\n",
    "    time.sleep(0.1) # make the above print before the Drake log.\n",
    "    bilinear_alternation_options.find_polytope_options.s_inner_pts = s\n",
    "    t_start = time.perf_counter()\n",
    "    result = cspace_free_polytope.SearchWithBilinearAlternation(set(), initial_region.A(),\n",
    "                                                                initial_region.b(),\n",
    "                                                                bilinear_alternation_options)\n",
    "    t_end = time.perf_counter()\n",
    "    times_per_region.append(t_end - t_start)\n",
    "    bilinear_alternation_results_by_seed_point[tuple(s)] = [(polytope_with_joint_limits(cert.C, cert.d),\n",
    "                                                             cert, color) for cert in result]\n",
    "    "
   ]
  },
  {
   "cell_type": "code",
   "execution_count": 14,
   "metadata": {},
   "outputs": [],
   "source": [
    "bilinear_alternation_final_results = [rez[-1] for rez in bilinear_alternation_results_by_seed_point.values()]"
   ]
  },
  {
   "cell_type": "code",
   "execution_count": 15,
   "metadata": {},
   "outputs": [
    {
     "data": {
      "text/plain": [
       "[(<pydrake.geometry.optimization.HPolyhedron at 0x7f94147fcfb0>,\n",
       "  <pydrake.geometry.optimization_dev.CspaceFreePolytope.SearchResult at 0x7f94147fc330>,\n",
       "  Rgba(r=0.565, g=0.565, b=0.565, a=0.2)),\n",
       " (<pydrake.geometry.optimization.HPolyhedron at 0x7f94147f55b0>,\n",
       "  <pydrake.geometry.optimization_dev.CspaceFreePolytope.SearchResult at 0x7f94147fbb70>,\n",
       "  Rgba(r=0.118, g=0.533, b=0.898, a=0.2)),\n",
       " (<pydrake.geometry.optimization.HPolyhedron at 0x7f94147f6eb0>,\n",
       "  <pydrake.geometry.optimization_dev.CspaceFreePolytope.SearchResult at 0x7f94147f62b0>,\n",
       "  Rgba(r=1.0, g=0.757, b=0.027, a=0.2)),\n",
       " (<pydrake.geometry.optimization.HPolyhedron at 0x7f94147fa070>,\n",
       "  <pydrake.geometry.optimization_dev.CspaceFreePolytope.SearchResult at 0x7f94147f7df0>,\n",
       "  Rgba(r=0.0, g=0.549, b=0.024, a=0.2)),\n",
       " (<pydrake.geometry.optimization.HPolyhedron at 0x7f94147fef30>,\n",
       "  <pydrake.geometry.optimization_dev.CspaceFreePolytope.SearchResult at 0x7f94147fabb0>,\n",
       "  Rgba(r=0.055, g=0.914, b=0.929, a=0.2))]"
      ]
     },
     "execution_count": 15,
     "metadata": {},
     "output_type": "execute_result"
    }
   ],
   "source": [
    "bilinear_alternation_final_results"
   ]
  },
  {
   "cell_type": "code",
   "execution_count": 16,
   "metadata": {},
   "outputs": [],
   "source": [
    "for i, result in enumerate(bilinear_alternation_final_results):\n",
    "    group_name = f\"/certified-bil_alt_{i}\"\n",
    "    visualizer.add_group_of_regions_and_certs_to_visualization([result], group_name, \n",
    "                                                        wireframe = False, opacity = 0.2)\n",
    "#     tmp = [(r[0], r[2]) for r in result]\n",
    "#     visualizer.add_group_of_regions_to_visualization(tmp, group_name, \n",
    "#                                                             wireframe = False, opacity = 0.2)"
   ]
  },
  {
   "cell_type": "code",
   "execution_count": 17,
   "metadata": {},
   "outputs": [
    {
     "data": {
      "text/plain": [
       "[(<pydrake.geometry.optimization.HPolyhedron at 0x7f94147fc370>,\n",
       "  <pydrake.geometry.optimization_dev.CspaceFreePolytope.SearchResult at 0x7f9417c72130>,\n",
       "  Rgba(r=0.565, g=0.565, b=0.565, a=0.2)),\n",
       " (<pydrake.geometry.optimization.HPolyhedron at 0x7f9417d9ec70>,\n",
       "  <pydrake.geometry.optimization_dev.CspaceFreePolytope.SearchResult at 0x7f9417ca04b0>,\n",
       "  Rgba(r=0.565, g=0.565, b=0.565, a=0.2)),\n",
       " (<pydrake.geometry.optimization.HPolyhedron at 0x7f94147fc3f0>,\n",
       "  <pydrake.geometry.optimization_dev.CspaceFreePolytope.SearchResult at 0x7f9417ce1770>,\n",
       "  Rgba(r=0.565, g=0.565, b=0.565, a=0.2)),\n",
       " (<pydrake.geometry.optimization.HPolyhedron at 0x7f94147fc430>,\n",
       "  <pydrake.geometry.optimization_dev.CspaceFreePolytope.SearchResult at 0x7f9417d47270>,\n",
       "  Rgba(r=0.565, g=0.565, b=0.565, a=0.2)),\n",
       " (<pydrake.geometry.optimization.HPolyhedron at 0x7f94147fc470>,\n",
       "  <pydrake.geometry.optimization_dev.CspaceFreePolytope.SearchResult at 0x7f9417c84db0>,\n",
       "  Rgba(r=0.565, g=0.565, b=0.565, a=0.2)),\n",
       " (<pydrake.geometry.optimization.HPolyhedron at 0x7f9417cd02b0>,\n",
       "  <pydrake.geometry.optimization_dev.CspaceFreePolytope.SearchResult at 0x7f9417c84c30>,\n",
       "  Rgba(r=0.565, g=0.565, b=0.565, a=0.2)),\n",
       " (<pydrake.geometry.optimization.HPolyhedron at 0x7f94147fc4f0>,\n",
       "  <pydrake.geometry.optimization_dev.CspaceFreePolytope.SearchResult at 0x7f9417c7c570>,\n",
       "  Rgba(r=0.565, g=0.565, b=0.565, a=0.2)),\n",
       " (<pydrake.geometry.optimization.HPolyhedron at 0x7f94147fc570>,\n",
       "  <pydrake.geometry.optimization_dev.CspaceFreePolytope.SearchResult at 0x7f9417c7c9f0>,\n",
       "  Rgba(r=0.565, g=0.565, b=0.565, a=0.2)),\n",
       " (<pydrake.geometry.optimization.HPolyhedron at 0x7f94147fc5b0>,\n",
       "  <pydrake.geometry.optimization_dev.CspaceFreePolytope.SearchResult at 0x7f9417c7c5f0>,\n",
       "  Rgba(r=0.565, g=0.565, b=0.565, a=0.2)),\n",
       " (<pydrake.geometry.optimization.HPolyhedron at 0x7f94147fc4b0>,\n",
       "  <pydrake.geometry.optimization_dev.CspaceFreePolytope.SearchResult at 0x7f9417c7c870>,\n",
       "  Rgba(r=0.565, g=0.565, b=0.565, a=0.2)),\n",
       " (<pydrake.geometry.optimization.HPolyhedron at 0x7f94147fc630>,\n",
       "  <pydrake.geometry.optimization_dev.CspaceFreePolytope.SearchResult at 0x7f9417c81570>,\n",
       "  Rgba(r=0.565, g=0.565, b=0.565, a=0.2)),\n",
       " (<pydrake.geometry.optimization.HPolyhedron at 0x7f94147fc5f0>,\n",
       "  <pydrake.geometry.optimization_dev.CspaceFreePolytope.SearchResult at 0x7f9417c816b0>,\n",
       "  Rgba(r=0.565, g=0.565, b=0.565, a=0.2)),\n",
       " (<pydrake.geometry.optimization.HPolyhedron at 0x7f94147fc670>,\n",
       "  <pydrake.geometry.optimization_dev.CspaceFreePolytope.SearchResult at 0x7f9417c81970>,\n",
       "  Rgba(r=0.565, g=0.565, b=0.565, a=0.2)),\n",
       " (<pydrake.geometry.optimization.HPolyhedron at 0x7f94147fc6b0>,\n",
       "  <pydrake.geometry.optimization_dev.CspaceFreePolytope.SearchResult at 0x7f9417c819f0>,\n",
       "  Rgba(r=0.565, g=0.565, b=0.565, a=0.2)),\n",
       " (<pydrake.geometry.optimization.HPolyhedron at 0x7f94147fc6f0>,\n",
       "  <pydrake.geometry.optimization_dev.CspaceFreePolytope.SearchResult at 0x7f9417c81a30>,\n",
       "  Rgba(r=0.565, g=0.565, b=0.565, a=0.2)),\n",
       " (<pydrake.geometry.optimization.HPolyhedron at 0x7f94147fc730>,\n",
       "  <pydrake.geometry.optimization_dev.CspaceFreePolytope.SearchResult at 0x7f9417c81a70>,\n",
       "  Rgba(r=0.565, g=0.565, b=0.565, a=0.2)),\n",
       " (<pydrake.geometry.optimization.HPolyhedron at 0x7f94147fc770>,\n",
       "  <pydrake.geometry.optimization_dev.CspaceFreePolytope.SearchResult at 0x7f9417c81ab0>,\n",
       "  Rgba(r=0.565, g=0.565, b=0.565, a=0.2)),\n",
       " (<pydrake.geometry.optimization.HPolyhedron at 0x7f94147fc7b0>,\n",
       "  <pydrake.geometry.optimization_dev.CspaceFreePolytope.SearchResult at 0x7f9417c81af0>,\n",
       "  Rgba(r=0.565, g=0.565, b=0.565, a=0.2)),\n",
       " (<pydrake.geometry.optimization.HPolyhedron at 0x7f94147fc7f0>,\n",
       "  <pydrake.geometry.optimization_dev.CspaceFreePolytope.SearchResult at 0x7f9417c81b30>,\n",
       "  Rgba(r=0.565, g=0.565, b=0.565, a=0.2)),\n",
       " (<pydrake.geometry.optimization.HPolyhedron at 0x7f94147fc830>,\n",
       "  <pydrake.geometry.optimization_dev.CspaceFreePolytope.SearchResult at 0x7f9417c81b70>,\n",
       "  Rgba(r=0.565, g=0.565, b=0.565, a=0.2)),\n",
       " (<pydrake.geometry.optimization.HPolyhedron at 0x7f94147fc870>,\n",
       "  <pydrake.geometry.optimization_dev.CspaceFreePolytope.SearchResult at 0x7f9417c81bb0>,\n",
       "  Rgba(r=0.565, g=0.565, b=0.565, a=0.2)),\n",
       " (<pydrake.geometry.optimization.HPolyhedron at 0x7f94147fc8b0>,\n",
       "  <pydrake.geometry.optimization_dev.CspaceFreePolytope.SearchResult at 0x7f9417c81bf0>,\n",
       "  Rgba(r=0.565, g=0.565, b=0.565, a=0.2)),\n",
       " (<pydrake.geometry.optimization.HPolyhedron at 0x7f94147fc8f0>,\n",
       "  <pydrake.geometry.optimization_dev.CspaceFreePolytope.SearchResult at 0x7f9417c81c30>,\n",
       "  Rgba(r=0.565, g=0.565, b=0.565, a=0.2)),\n",
       " (<pydrake.geometry.optimization.HPolyhedron at 0x7f94147fc930>,\n",
       "  <pydrake.geometry.optimization_dev.CspaceFreePolytope.SearchResult at 0x7f9417c81c70>,\n",
       "  Rgba(r=0.565, g=0.565, b=0.565, a=0.2)),\n",
       " (<pydrake.geometry.optimization.HPolyhedron at 0x7f94147fc970>,\n",
       "  <pydrake.geometry.optimization_dev.CspaceFreePolytope.SearchResult at 0x7f9417c81cb0>,\n",
       "  Rgba(r=0.565, g=0.565, b=0.565, a=0.2)),\n",
       " (<pydrake.geometry.optimization.HPolyhedron at 0x7f94147fc9b0>,\n",
       "  <pydrake.geometry.optimization_dev.CspaceFreePolytope.SearchResult at 0x7f9417c81cf0>,\n",
       "  Rgba(r=0.565, g=0.565, b=0.565, a=0.2)),\n",
       " (<pydrake.geometry.optimization.HPolyhedron at 0x7f94147fc9f0>,\n",
       "  <pydrake.geometry.optimization_dev.CspaceFreePolytope.SearchResult at 0x7f9417c81d30>,\n",
       "  Rgba(r=0.565, g=0.565, b=0.565, a=0.2)),\n",
       " (<pydrake.geometry.optimization.HPolyhedron at 0x7f94147fca30>,\n",
       "  <pydrake.geometry.optimization_dev.CspaceFreePolytope.SearchResult at 0x7f9417c81d70>,\n",
       "  Rgba(r=0.565, g=0.565, b=0.565, a=0.2)),\n",
       " (<pydrake.geometry.optimization.HPolyhedron at 0x7f94147fca70>,\n",
       "  <pydrake.geometry.optimization_dev.CspaceFreePolytope.SearchResult at 0x7f9417c81db0>,\n",
       "  Rgba(r=0.565, g=0.565, b=0.565, a=0.2)),\n",
       " (<pydrake.geometry.optimization.HPolyhedron at 0x7f94147fcab0>,\n",
       "  <pydrake.geometry.optimization_dev.CspaceFreePolytope.SearchResult at 0x7f9417c81df0>,\n",
       "  Rgba(r=0.565, g=0.565, b=0.565, a=0.2)),\n",
       " (<pydrake.geometry.optimization.HPolyhedron at 0x7f94147fcaf0>,\n",
       "  <pydrake.geometry.optimization_dev.CspaceFreePolytope.SearchResult at 0x7f9417c81e30>,\n",
       "  Rgba(r=0.565, g=0.565, b=0.565, a=0.2)),\n",
       " (<pydrake.geometry.optimization.HPolyhedron at 0x7f94147fcb30>,\n",
       "  <pydrake.geometry.optimization_dev.CspaceFreePolytope.SearchResult at 0x7f9417c81e70>,\n",
       "  Rgba(r=0.565, g=0.565, b=0.565, a=0.2)),\n",
       " (<pydrake.geometry.optimization.HPolyhedron at 0x7f94147fcb70>,\n",
       "  <pydrake.geometry.optimization_dev.CspaceFreePolytope.SearchResult at 0x7f9417c81eb0>,\n",
       "  Rgba(r=0.565, g=0.565, b=0.565, a=0.2)),\n",
       " (<pydrake.geometry.optimization.HPolyhedron at 0x7f94147fcbb0>,\n",
       "  <pydrake.geometry.optimization_dev.CspaceFreePolytope.SearchResult at 0x7f9417c81ef0>,\n",
       "  Rgba(r=0.565, g=0.565, b=0.565, a=0.2)),\n",
       " (<pydrake.geometry.optimization.HPolyhedron at 0x7f94147fcbf0>,\n",
       "  <pydrake.geometry.optimization_dev.CspaceFreePolytope.SearchResult at 0x7f9417c81f30>,\n",
       "  Rgba(r=0.565, g=0.565, b=0.565, a=0.2)),\n",
       " (<pydrake.geometry.optimization.HPolyhedron at 0x7f94147fcc30>,\n",
       "  <pydrake.geometry.optimization_dev.CspaceFreePolytope.SearchResult at 0x7f9417c81f70>,\n",
       "  Rgba(r=0.565, g=0.565, b=0.565, a=0.2)),\n",
       " (<pydrake.geometry.optimization.HPolyhedron at 0x7f94147fcc70>,\n",
       "  <pydrake.geometry.optimization_dev.CspaceFreePolytope.SearchResult at 0x7f9417c81fb0>,\n",
       "  Rgba(r=0.565, g=0.565, b=0.565, a=0.2)),\n",
       " (<pydrake.geometry.optimization.HPolyhedron at 0x7f94147fccb0>,\n",
       "  <pydrake.geometry.optimization_dev.CspaceFreePolytope.SearchResult at 0x7f94147fc030>,\n",
       "  Rgba(r=0.565, g=0.565, b=0.565, a=0.2)),\n",
       " (<pydrake.geometry.optimization.HPolyhedron at 0x7f94147fccf0>,\n",
       "  <pydrake.geometry.optimization_dev.CspaceFreePolytope.SearchResult at 0x7f94147fc070>,\n",
       "  Rgba(r=0.565, g=0.565, b=0.565, a=0.2)),\n",
       " (<pydrake.geometry.optimization.HPolyhedron at 0x7f94147fcd30>,\n",
       "  <pydrake.geometry.optimization_dev.CspaceFreePolytope.SearchResult at 0x7f94147fc0b0>,\n",
       "  Rgba(r=0.565, g=0.565, b=0.565, a=0.2)),\n",
       " (<pydrake.geometry.optimization.HPolyhedron at 0x7f94147fcd70>,\n",
       "  <pydrake.geometry.optimization_dev.CspaceFreePolytope.SearchResult at 0x7f94147fc0f0>,\n",
       "  Rgba(r=0.565, g=0.565, b=0.565, a=0.2)),\n",
       " (<pydrake.geometry.optimization.HPolyhedron at 0x7f94147fcdb0>,\n",
       "  <pydrake.geometry.optimization_dev.CspaceFreePolytope.SearchResult at 0x7f94147fc130>,\n",
       "  Rgba(r=0.565, g=0.565, b=0.565, a=0.2)),\n",
       " (<pydrake.geometry.optimization.HPolyhedron at 0x7f94147fcdf0>,\n",
       "  <pydrake.geometry.optimization_dev.CspaceFreePolytope.SearchResult at 0x7f94147fc170>,\n",
       "  Rgba(r=0.565, g=0.565, b=0.565, a=0.2)),\n",
       " (<pydrake.geometry.optimization.HPolyhedron at 0x7f94147fce30>,\n",
       "  <pydrake.geometry.optimization_dev.CspaceFreePolytope.SearchResult at 0x7f94147fc1b0>,\n",
       "  Rgba(r=0.565, g=0.565, b=0.565, a=0.2)),\n",
       " (<pydrake.geometry.optimization.HPolyhedron at 0x7f94147fce70>,\n",
       "  <pydrake.geometry.optimization_dev.CspaceFreePolytope.SearchResult at 0x7f94147fc1f0>,\n",
       "  Rgba(r=0.565, g=0.565, b=0.565, a=0.2)),\n",
       " (<pydrake.geometry.optimization.HPolyhedron at 0x7f94147fceb0>,\n",
       "  <pydrake.geometry.optimization_dev.CspaceFreePolytope.SearchResult at 0x7f94147fc230>,\n",
       "  Rgba(r=0.565, g=0.565, b=0.565, a=0.2)),\n",
       " (<pydrake.geometry.optimization.HPolyhedron at 0x7f94147fcef0>,\n",
       "  <pydrake.geometry.optimization_dev.CspaceFreePolytope.SearchResult at 0x7f94147fc270>,\n",
       "  Rgba(r=0.565, g=0.565, b=0.565, a=0.2)),\n",
       " (<pydrake.geometry.optimization.HPolyhedron at 0x7f94147fcf30>,\n",
       "  <pydrake.geometry.optimization_dev.CspaceFreePolytope.SearchResult at 0x7f94147fc2b0>,\n",
       "  Rgba(r=0.565, g=0.565, b=0.565, a=0.2)),\n",
       " (<pydrake.geometry.optimization.HPolyhedron at 0x7f94147fcf70>,\n",
       "  <pydrake.geometry.optimization_dev.CspaceFreePolytope.SearchResult at 0x7f94147fc2f0>,\n",
       "  Rgba(r=0.565, g=0.565, b=0.565, a=0.2)),\n",
       " (<pydrake.geometry.optimization.HPolyhedron at 0x7f94147fcfb0>,\n",
       "  <pydrake.geometry.optimization_dev.CspaceFreePolytope.SearchResult at 0x7f94147fc330>,\n",
       "  Rgba(r=0.565, g=0.565, b=0.565, a=0.2))]"
      ]
     },
     "execution_count": 17,
     "metadata": {},
     "output_type": "execute_result"
    }
   ],
   "source": [
    "list(bilinear_alternation_results_by_seed_point.values())[0]"
   ]
  },
  {
   "cell_type": "code",
   "execution_count": 18,
   "metadata": {},
   "outputs": [],
   "source": [
    "final_regions_with_certs = [v[-1] for v in bilinear_alternation_results_by_seed_point.values()]\n",
    "final_regions = [r for (r,_, _) in final_regions_with_certs]"
   ]
  },
  {
   "cell_type": "code",
   "execution_count": 19,
   "metadata": {},
   "outputs": [],
   "source": [
    "from gcs.bezier import BezierGCS\n",
    "from gcs.linear import LinearGCS\n",
    "from pydrake.solvers.mosek import MosekSolver\n",
    "from pydrake.all import PiecewisePolynomial\n",
    "from visualization_utils import draw_traj\n",
    "\n",
    "start = seed_points[0]\n",
    "end = seed_points[-1]\n",
    "regions = final_regions#[r for (r,_) in iris_regions]\n",
    "\n",
    "l_gcs = LinearGCS(regions)\n",
    "l_gcs.addSourceTarget(start, end)\n",
    "l_gcs.setSolver(MosekSolver())\n",
    "waypoints_forward = l_gcs.SolvePath(True)[0]\n",
    "t_final = 5\n",
    "t_knots_forward = np.linspace(0, t_final,  waypoints_forward.shape[1])\n",
    "dt = t_knots_forward[1] - t_knots_forward[0]\n",
    "t_knots = np.concatenate([t_knots_forward, t_knots_forward+t_final+dt])\n",
    "waypoints = np.hstack([waypoints_forward, waypoints_forward[:, ::-1]])\n",
    "\n",
    "# t_knots = t_knots_forward\n",
    "# waypoints = waypoints_forward\n",
    "\n",
    "lin_traj = PiecewisePolynomial.FirstOrderHold(t_knots, waypoints)\n",
    "\n",
    "draw_traj(visualizer.meshcat, lin_traj, 100, transform = visualizer.cspace_frame)\n"
   ]
  },
  {
   "cell_type": "code",
   "execution_count": 20,
   "metadata": {},
   "outputs": [
    {
     "data": {
      "text/plain": [
       "array([ 0.,  1.,  2.,  3.,  4.,  5.,  6.,  7.,  8.,  9., 10., 11.])"
      ]
     },
     "execution_count": 20,
     "metadata": {},
     "output_type": "execute_result"
    }
   ],
   "source": [
    "t_knots"
   ]
  },
  {
   "cell_type": "code",
   "execution_count": 21,
   "metadata": {},
   "outputs": [],
   "source": [
    "# def record_animation(animation, num_frames, time_step):\n",
    "#     for i in range(num_frames):\n",
    "#         animation.SetProperty(0, f\"/frame_{i}\", \"visible\", False)\n",
    "#         animation.SetProperty(0, f\"/s\", \"visible\", False)\n",
    "#     for i in range(num_frames):\n",
    "#         frame = animation.frame(i*time_step)\n",
    "#         if i > 0:\n",
    "#             animation.SetProperty(i, f\"/frame_{i-1}\", \"visible\", False)\n",
    "# #             animation.SetProperty(i, f\"/frame_{i-1}/s\", \"visible\", False)\n",
    "#         animation.SetProperty(i, f\"/frame_{i}\", \"visible\", True)\n",
    "# #             animation.SetProperty(i, f\"/frame_{i}/s\", \"visible\", True)\n",
    "\n",
    "def record_animation(animation, num_frames, time_points):\n",
    "    for i in range(num_frames+1):\n",
    "        animation.SetProperty(0, f\"/frame_{i}\", \"visible\", False)\n",
    "        animation.SetProperty(0, f\"/s\", \"visible\", False)\n",
    "    for i in range(num_frames):\n",
    "        frame = animation.frame(time_points[i])\n",
    "        if i > 0:\n",
    "            animation.SetProperty(frame, f\"/frame_{i-1}\", \"visible\", False)\n",
    "        animation.SetProperty(frame, f\"/frame_{i}\", \"visible\", True)\n",
    "    for i in range(num_frames):\n",
    "        animation.SetProperty(num_frames-1, f\"/frame_{num_frames-1}\", \"visible\", False)\n",
    "        animation.SetProperty(num_frames-1, f\"/s\", \"visible\", False)\n"
   ]
  },
  {
   "cell_type": "code",
   "execution_count": 22,
   "metadata": {},
   "outputs": [],
   "source": [
    "def animate_traj_s(self, traj, steps, runtime):\n",
    "    # loop\n",
    "    idx = 0\n",
    "    going_fwd = True\n",
    "    time_points = np.linspace(0, traj.end_time(), steps)\n",
    "    frame_count = 0\n",
    "    for _ in range(runtime):\n",
    "        t = time_points[idx]\n",
    "        s = traj.value(t)\n",
    "        \n",
    "        self.diagram_context.SetTime(t)\n",
    "        self.diagram.ForcedPublish(self.diagram_context)\n",
    "        self.show_res_s(s, frame=frame_count)\n",
    "        frame_count += 1\n",
    "        if going_fwd:\n",
    "            if idx + 1 < steps:\n",
    "                idx += 1\n",
    "            else:\n",
    "                going_fwd = False\n",
    "                idx -= 1\n",
    "        else:\n",
    "            if idx - 1 >= 0:\n",
    "                idx -= 1\n",
    "            else:\n",
    "                going_fwd = True\n",
    "                idx += 1\n",
    "    return frame_count\n",
    "\n"
   ]
  },
  {
   "cell_type": "code",
   "execution_count": 23,
   "metadata": {},
   "outputs": [],
   "source": [
    "substeps = 100\n",
    "runtime = substeps\n",
    "# visualizer.animate_traj_s(lin_traj, substeps, runtime)\n",
    "visualizer.visualizer.StartRecording()\n",
    "time_step = 0.01\n",
    "# frame_count = visualizer.animate_traj_s(lin_traj, substeps, runtime, time_step = time_step)\n",
    "frame_count = animate_traj_s(visualizer, lin_traj, substeps, runtime)\n",
    "visualizer.visualizer.PublishRecording()\n"
   ]
  },
  {
   "cell_type": "code",
   "execution_count": 24,
   "metadata": {},
   "outputs": [],
   "source": [
    "from pydrake.all import MeshcatAnimation \n",
    "time_points = np.linspace(0, lin_traj.end_time(), substeps)\n",
    "animation = visualizer.visualizer.get_mutable_recording()\n",
    "record_animation(animation,frame_count,time_points)\n",
    "# animation.set_loop_mode(MeshcatAnimation.LoopMode.kLoopPingPong)\n",
    "# animation.set_repetitions(1)\n",
    "visualizer.visualizer.PublishRecording()"
   ]
  },
  {
   "cell_type": "code",
   "execution_count": 25,
   "metadata": {},
   "outputs": [],
   "source": [
    "with open(\"pinball_trajectory.html\", \"w\") as f:\n",
    "    f.write(visualizer.meshcat.StaticHtml())\n",
    "    "
   ]
  }
 ],
 "metadata": {
  "interpreter": {
   "hash": "31f2aee4e71d21fbe5cf8b01ff0e069b9275f58929596ceb00d14d90e3e16cd6"
  },
  "kernelspec": {
   "display_name": "Python 3",
   "language": "python",
   "name": "python3"
  },
  "language_info": {
   "codemirror_mode": {
    "name": "ipython",
    "version": 3
   },
   "file_extension": ".py",
   "mimetype": "text/x-python",
   "name": "python",
   "nbconvert_exporter": "python",
   "pygments_lexer": "ipython3",
   "version": "3.8.10"
  }
 },
 "nbformat": 4,
 "nbformat_minor": 2
}
