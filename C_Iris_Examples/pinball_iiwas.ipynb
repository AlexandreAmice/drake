{
 "cells": [
  {
   "cell_type": "code",
   "execution_count": 1,
   "metadata": {},
   "outputs": [],
   "source": [
    "%load_ext autoreload"
   ]
  },
  {
   "cell_type": "code",
   "execution_count": 2,
   "metadata": {},
   "outputs": [],
   "source": [
    "import numpy as np\n",
    "from functools import partial\n",
    "import visualizations_utils as viz_utils\n",
    "from iris_plant_visualizer import IrisPlantVisualizer\n",
    "import ipywidgets as widgets\n",
    "from IPython.display import display"
   ]
  },
  {
   "cell_type": "code",
   "execution_count": 3,
   "metadata": {},
   "outputs": [],
   "source": [
    "#pydrake imports\n",
    "from pydrake.common import FindResourceOrThrow\n",
    "from pydrake.multibody.parsing import Parser\n",
    "from pydrake.multibody.plant import AddMultibodyPlantSceneGraph\n",
    "from pydrake.systems.framework import DiagramBuilder\n",
    "from pydrake.geometry import Role, GeometrySet, CollisionFilterDeclaration\n",
    "from pydrake.solvers import mathematicalprogram as mp\n",
    "from pydrake.all import RigidTransform, RollPitchYaw, RevoluteJoint\n",
    "\n",
    "import pydrake.multibody.rational_forward_kinematics as rational_forward_kinematics\n",
    "from pydrake.all import RationalForwardKinematics\n",
    "from pydrake.geometry.optimization import IrisOptionsRationalSpace, IrisInRationalConfigurationSpace, HPolyhedron, Hyperellipsoid"
   ]
  },
  {
   "cell_type": "markdown",
   "metadata": {},
   "source": [
    "# Build and set up the visualization the plant and the visualization of the C-space obstacle\n",
    "\n",
    "Note that running this cell multiple times will establish multiple meshcat instances which can fill up your memory. It is a good idea to call \"pkill -f meshcat\" from the command line before re-running this cell\n"
   ]
  },
  {
   "cell_type": "code",
   "execution_count": 4,
   "metadata": {},
   "outputs": [
    {
     "name": "stdout",
     "output_type": "stream",
     "text": [
      "You can open the visualizer by visiting the following URL:\n",
      "http://127.0.0.1:7004/static/\n",
      "You can open the visualizer by visiting the following URL:\n",
      "http://127.0.0.1:7005/static/\n",
      "Connecting to meshcat-server at zmq_url=tcp://127.0.0.1:6004...\n",
      "You can open the visualizer by visiting the following URL:\n",
      "http://127.0.0.1:7004/static/\n",
      "Connected to meshcat-server.\n"
     ]
    }
   ],
   "source": [
    "builder = DiagramBuilder()\n",
    "plant, scene_graph = AddMultibodyPlantSceneGraph(builder, time_step=0.001)\n",
    "parser = Parser(plant)\n",
    "oneDOF_iiwa_asset = FindResourceOrThrow(\"drake/C_Iris_Examples/assets/oneDOF_iiwa7_with_box_collision.sdf\")\n",
    "twoDOF_iiwa_asset = FindResourceOrThrow(\"drake/C_Iris_Examples/assets/twoDOF_iiwa7_with_box_collision.sdf\")\n",
    "\n",
    "box_asset = FindResourceOrThrow(\"drake/C_Iris_Examples/assets/box_small.urdf\")\n",
    "\n",
    "models = []\n",
    "models.append(parser.AddModelFromFile(box_asset))\n",
    "models.append(parser.AddModelFromFile(twoDOF_iiwa_asset))\n",
    "models.append(parser.AddModelFromFile(oneDOF_iiwa_asset))\n",
    "\n",
    "\n",
    "\n",
    "locs = [[0.,0.,0.],\n",
    "        [0.,.55,0.],\n",
    "        [0.,-.55,0.]]\n",
    "plant.WeldFrames(plant.world_frame(), \n",
    "                 plant.GetFrameByName(\"base\", models[0]),\n",
    "                 RigidTransform(locs[0]))\n",
    "plant.WeldFrames(plant.world_frame(), \n",
    "                 plant.GetFrameByName(\"iiwa_twoDOF_link_0\", models[1]), \n",
    "                 RigidTransform(RollPitchYaw([0,0, -np.pi/2]).ToRotationMatrix(), locs[1]))\n",
    "plant.WeldFrames(plant.world_frame(), \n",
    "                 plant.GetFrameByName(\"iiwa_oneDOF_link_0\", models[2]), \n",
    "                 RigidTransform(RollPitchYaw([0,0, -np.pi/2]).ToRotationMatrix(), locs[2]))\n",
    "\n",
    "\n",
    "plant.Finalize()\n",
    "\n",
    "idx = 0\n",
    "q0 = [0.0, 0.0, 0.0]\n",
    "q_low  = [-1.7, -2., -1.7]\n",
    "q_high = [ 1.7,  2.,  1.7]\n",
    "# set the joint limits of the plant\n",
    "for model in models:\n",
    "    for joint_index in plant.GetJointIndices(model):\n",
    "        joint = plant.get_mutable_joint(joint_index)\n",
    "        if isinstance(joint, RevoluteJoint):\n",
    "            joint.set_default_angle(q0[idx])\n",
    "            joint.set_position_limits(lower_limits= np.array([q_low[idx]]), upper_limits= np.array([q_high[idx]]))\n",
    "            idx += 1\n",
    "        \n",
    "# construct the RationalForwardKinematics of this plant. This object handles the\n",
    "# computations for the forward kinematics in the tangent-configuration space\n",
    "Ratfk = RationalForwardKinematics(plant)\n",
    "\n",
    "# the point about which we will take the stereographic projections\n",
    "q_star = np.zeros(3)\n",
    "\n",
    "#compute limits in t-space\n",
    "limits_t = []\n",
    "for q in [q_low, q_high]:\n",
    "    limits_t.append(Ratfk.ComputeTValue(np.array(q), q_star))\n",
    "\n",
    "do_viz = True\n",
    "\n",
    "# This line builds the visualization. Change the viz_role to Role.kIllustration if you\n",
    "# want to see the plant with its illustrated geometry or to Role.kProximity\n",
    "visualizer = IrisPlantVisualizer(plant, builder, scene_graph, viz_role=Role.kIllustration)\n",
    "diagram = visualizer.diagram\n",
    "\n",
    "# This line will run marching cubes to generate a mesh of the C-space obstacle\n",
    "# Increase N to increase the resolution of the C-space obstacle.\n",
    "visualizer.visualize_collision_constraint(N = 30)"
   ]
  },
  {
   "cell_type": "markdown",
   "metadata": {},
   "source": [
    "## Set up the sliders so we can move the plant around manually"
   ]
  },
  {
   "cell_type": "code",
   "execution_count": 5,
   "metadata": {
    "scrolled": false
   },
   "outputs": [
    {
     "name": "stderr",
     "output_type": "stream",
     "text": [
      "Widget Javascript not detected.  It may not be installed or enabled properly.\n"
     ]
    },
    {
     "data": {
      "application/vnd.jupyter.widget-view+json": {
       "model_id": "34c59e6021d8440c80581a70d9c8a3b0"
      }
     },
     "metadata": {},
     "output_type": "display_data"
    },
    {
     "name": "stderr",
     "output_type": "stream",
     "text": [
      "Widget Javascript not detected.  It may not be installed or enabled properly.\n"
     ]
    },
    {
     "data": {
      "application/vnd.jupyter.widget-view+json": {
       "model_id": "c655d1a9c3e24428b479f4dbbdc5d177"
      }
     },
     "metadata": {},
     "output_type": "display_data"
    },
    {
     "name": "stderr",
     "output_type": "stream",
     "text": [
      "Widget Javascript not detected.  It may not be installed or enabled properly.\n"
     ]
    },
    {
     "data": {
      "application/vnd.jupyter.widget-view+json": {
       "model_id": "b4b082105b0248d3be9832691c943379"
      }
     },
     "metadata": {},
     "output_type": "display_data"
    },
    {
     "data": {
      "text/html": [
       "\n",
       "            <div style=\"height: 400px; width: 100%; overflow-x: auto; overflow-y: hidden; resize: both\">\n",
       "            <iframe src=\"http://127.0.0.1:7004/static/\" style=\"width: 100%; height: 100%; border: none\"></iframe>\n",
       "            </div>\n",
       "            "
      ],
      "text/plain": [
       "<IPython.core.display.HTML object>"
      ]
     },
     "metadata": {},
     "output_type": "display_data"
    },
    {
     "data": {
      "text/html": [
       "\n",
       "            <div style=\"height: 400px; width: 100%; overflow-x: auto; overflow-y: hidden; resize: both\">\n",
       "            <iframe src=\"http://127.0.0.1:7005/static/\" style=\"width: 100%; height: 100%; border: none\"></iframe>\n",
       "            </div>\n",
       "            "
      ],
      "text/plain": [
       "<IPython.core.display.HTML object>"
      ]
     },
     "metadata": {},
     "output_type": "display_data"
    }
   ],
   "source": [
    "sliders = []\n",
    "sliders.append(widgets.FloatSlider(min=q_low[0], max=q_high[0], value=0, description='q0'))\n",
    "sliders.append(widgets.FloatSlider(min=q_low[1], max=q_high[1], value=0, description='q1'))\n",
    "sliders.append(widgets.FloatSlider(min=q_low[2], max=q_high[2], value=0, description='q2'))\n",
    "\n",
    "q = q0.copy()\n",
    "def handle_slider_change(change, idx):\n",
    "    q[idx] = change['new']\n",
    "    #print(q, end=\"\\r\")\n",
    "    visualizer.showres(q)\n",
    "    \n",
    "idx = 0\n",
    "for slider in sliders:\n",
    "    slider.observe(partial(handle_slider_change, idx = idx), names='value')\n",
    "    idx+=1\n",
    "\n",
    "for slider in sliders:\n",
    "    display(slider)\n",
    "\n",
    "visualizer.jupyter_cell()"
   ]
  },
  {
   "cell_type": "code",
   "execution_count": 6,
   "metadata": {
    "scrolled": true
   },
   "outputs": [
    {
     "name": "stdout",
     "output_type": "stream",
     "text": [
      "150 -> 150\n"
     ]
    }
   ],
   "source": [
    "# ## What is this cell doing and do we actually need it?\n",
    "\n",
    "#filter fused joints self collisions \n",
    "digaram = visualizer.diagram\n",
    "context = visualizer.diagram_context\n",
    "plant_context = visualizer.plant_context\n",
    "sg_context = scene_graph.GetMyContextFromRoot(context)\n",
    "inspector = scene_graph.model_inspector()\n",
    "\n",
    "pairs = scene_graph.get_query_output_port().Eval(sg_context).inspector().GetCollisionCandidates()\n",
    "print(len(inspector.GetCollisionCandidates()), \"->\", len(pairs))\n",
    "\n",
    "gids = [gid for gid in inspector.GetGeometryIds(GeometrySet(inspector.GetAllGeometryIds()), Role.kProximity)]\n",
    "get_name_of_gid = lambda gid : inspector.GetName(gid)\n",
    "gids.sort(key=get_name_of_gid)\n",
    "iiwa_oneDOF_gids = [gid for gid in gids if \"iiwa7_oneDOF::\" in get_name_of_gid(gid)]\n",
    "iiwa_twoDOF_gids = [gid for gid in gids if \"iiwa7_twoDOF::\" in get_name_of_gid(gid)]\n",
    "\n",
    "oneDOF_fused_col_geom = iiwa_oneDOF_gids[2:]\n",
    "iiwa_oneDOF_fused_set = GeometrySet(oneDOF_fused_col_geom)\n",
    "twoDOF_fused_col_geom = iiwa_twoDOF_gids[4:]\n",
    "iiwa_twoDOF_fused_set = GeometrySet(twoDOF_fused_col_geom)\n",
    "# print([get_name_of_gid(gid) for gid in oneDOF_fused_col_geom])\n",
    "# print([get_name_of_gid(gid) for gid in twoDOF_fused_col_geom])\n",
    "scene_graph.collision_filter_manager()\\\n",
    "            .Apply(CollisionFilterDeclaration().ExcludeWithin(iiwa_oneDOF_fused_set))\n",
    "scene_graph.collision_filter_manager()\\\n",
    "            .Apply(CollisionFilterDeclaration().ExcludeWithin(iiwa_twoDOF_fused_set))\n",
    "pairs = scene_graph.get_query_output_port().Eval(sg_context).inspector().GetCollisionCandidates()"
   ]
  },
  {
   "cell_type": "code",
   "execution_count": 7,
   "metadata": {},
   "outputs": [
    {
     "name": "stdout",
     "output_type": "stream",
     "text": [
      "<GeometryId value=140>\n",
      "<GeometryId value=92>\n"
     ]
    }
   ],
   "source": [
    "print(iiwa_oneDOF_gids[-1])\n",
    "print(iiwa_twoDOF_gids[-1])"
   ]
  },
  {
   "cell_type": "markdown",
   "metadata": {},
   "source": [
    "# Setup IRIS Options and Generate Regions"
   ]
  },
  {
   "cell_type": "code",
   "execution_count": 8,
   "metadata": {},
   "outputs": [],
   "source": [
    "# Some examples of some seed points which give large regions using the\n",
    "# non-linear programming approach to IRIS described in Algorithm 3\n",
    "seed_points_q = np.array([   [0.0, 0, 0],\n",
    "                              ])\n",
    "seed_points = np.array([Ratfk.ComputeTValue(seed_points_q[idx], np.zeros((3,)))\\\n",
    "                        for idx in range(seed_points_q.shape[0])])\n",
    "if do_viz:\n",
    "    visualizer.plot_seedpoints(seed_points)\n"
   ]
  },
  {
   "cell_type": "code",
   "execution_count": 9,
   "metadata": {},
   "outputs": [],
   "source": [
    "regions = []\n",
    "ellipses = []\n",
    "\n",
    "iris_options = IrisOptionsRationalSpace()\n",
    "iris_options.require_sample_point_is_contained = True\n",
    "iris_options.iteration_limit = 20\n",
    "iris_options.configuration_space_margin = 1e-5\n",
    "iris_options.max_faces_per_collision_pair = 60\n",
    "iris_options.termination_threshold = -1\n",
    "iris_options.q_star = np.zeros(3)\n",
    "iris_options.relative_termination_threshold = 0.05\n",
    "iris_options.enable_ibex = False\n",
    "\n",
    "for i, s in enumerate(seed_points):\n",
    "    q = Ratfk.ComputeQValue(s, np.zeros((3,)))\n",
    "    plant.SetPositions(plant.GetMyMutableContextFromRoot(context), q)\n",
    "    if False:\n",
    "        #starting_hpolyhedron = regions[i-1]\n",
    "        r = IrisInRationalConfigurationSpace (plant, plant.GetMyContextFromRoot(context),\n",
    "                                              iris_options, starting_hpolyhedron)\n",
    "    else:\n",
    "        r = IrisInRationalConfigurationSpace(plant, plant.GetMyContextFromRoot(context), iris_options)\n",
    "    regions.append(r)\n",
    "    ellipses.append(r.MaximumVolumeInscribedEllipsoid())\n",
    "if do_viz:\n",
    "    visualizer.plot_regions(regions,\n",
    "                            ellipses=ellipses,\n",
    "                            region_suffix='_original',\n",
    "                            randomize_colors = True)"
   ]
  },
  {
   "cell_type": "markdown",
   "metadata": {},
   "source": [
    "# Certify one region"
   ]
  },
  {
   "cell_type": "code",
   "execution_count": 10,
   "metadata": {},
   "outputs": [],
   "source": [
    "cspace_free_region_certifier = rational_forward_kinematics.CspaceFreeRegion(diagram, plant, scene_graph,\n",
    "                                   rational_forward_kinematics.SeparatingPlaneOrder.kAffine,\n",
    "                                   rational_forward_kinematics.CspaceRegionType.kGenericPolytope)\n",
    "filtered_collision_pairs = set()\n",
    "solver_options = mp.SolverOptions()\n",
    "# make the solver verbose\n",
    "solver_options.SetOption(mp.CommonSolverOption.kPrintToConsole, 1)"
   ]
  },
  {
   "cell_type": "markdown",
   "metadata": {},
   "source": [
    "## first search for a minimal, uniform contraction of a proposed region which can be certified"
   ]
  },
  {
   "cell_type": "code",
   "execution_count": 11,
   "metadata": {},
   "outputs": [
    {
     "name": "stderr",
     "output_type": "stream",
     "text": [
      "[2022-04-28 17:07:57.690] [console] [warning] Find Lagrangian failed\n",
      "[2022-04-28 17:08:01.267] [console] [info] Lagrangian SOS takes 1.2716970443725586 seconds\n",
      "[2022-04-28 17:08:01.369] [console] [info] max(power(det(P), 1/4))=0.41433239291335655, solver_time 0.00975179672241211\n",
      "[2022-04-28 17:08:03.271] [console] [info] search d is successful = true\n",
      "[2022-04-28 17:08:03.314] [console] [info] max(power(det(P), 1/4))=0.4379633907435584, solver_time 0.013607978820800781\n",
      "[2022-04-28 17:08:07.209] [console] [info] Lagrangian SOS takes 1.4386570453643799 seconds\n",
      "[2022-04-28 17:08:07.347] [console] [info] max(power(det(P), 1/4))=0.5515794533637642, solver_time 0.02645587921142578\n",
      "[2022-04-28 17:08:09.427] [console] [info] search d is successful = true\n",
      "[2022-04-28 17:08:09.464] [console] [info] max(power(det(P), 1/4))=0.5610131766247545, solver_time 0.02535390853881836\n",
      "[2022-04-28 17:08:09.498] [console] [info] epsilon=-0.07879579318708356 is feasible\n",
      "[2022-04-28 17:08:09.500] [console] [info] reset eps_min=0.0, eps_max=0.07879576797821392\n",
      "[2022-04-28 17:08:13.756] [console] [warning] Find Lagrangian failed\n",
      "[2022-04-28 17:08:13.808] [console] [info] epsilon=0.03939788398910696 is infeasible\n",
      "[2022-04-28 17:08:17.821] [console] [warning] Find Lagrangian failed\n",
      "[2022-04-28 17:08:17.870] [console] [info] epsilon=0.01969894199455348 is infeasible\n",
      "[2022-04-28 17:08:22.381] [console] [warning] Find Lagrangian failed\n",
      "[2022-04-28 17:08:22.430] [console] [info] epsilon=0.00984947099727674 is infeasible\n",
      "[2022-04-28 17:08:26.650] [console] [info] Lagrangian SOS takes 1.5365099906921387 seconds\n",
      "[2022-04-28 17:08:26.771] [console] [info] max(power(det(P), 1/4))=0.5679910016163588, solver_time 0.015310049057006836\n",
      "[2022-04-28 17:08:28.377] [console] [info] search d is successful = false\n",
      "[2022-04-28 17:08:28.403] [console] [info] epsilon=0.00492473549863837 is feasible\n",
      "[2022-04-28 17:08:28.404] [console] [info] reset eps_min=0.0, eps_max=0.00492473549863838\n",
      "[2022-04-28 17:08:32.437] [console] [info] Lagrangian SOS takes 1.6463689804077148 seconds\n",
      "[2022-04-28 17:08:32.537] [console] [info] max(power(det(P), 1/4))=0.5714426686841854, solver_time 0.008893013000488281\n",
      "[2022-04-28 17:08:34.055] [console] [info] search d is successful = false\n",
      "[2022-04-28 17:08:34.068] [console] [info] epsilon=0.00246236774931919 is feasible\n",
      "[2022-04-28 17:08:34.070] [console] [info] reset eps_min=0.0, eps_max=0.002462367749319211\n",
      "[2022-04-28 17:08:38.194] [console] [warning] Find Lagrangian failed\n",
      "[2022-04-28 17:08:38.251] [console] [info] epsilon=0.0012311838746596054 is infeasible\n",
      "[2022-04-28 17:08:42.494] [console] [info] Lagrangian SOS takes 1.9385030269622803 seconds\n",
      "[2022-04-28 17:08:42.592] [console] [info] max(power(det(P), 1/4))=0.5723018161566321, solver_time 0.008281946182250977\n",
      "[2022-04-28 17:08:44.102] [console] [info] search d is successful = false\n",
      "[2022-04-28 17:08:44.115] [console] [info] epsilon=0.0006155919373298027 is feasible\n",
      "[2022-04-28 17:08:44.116] [console] [info] reset eps_min=0.0, eps_max=0.0006155919373298513\n",
      "[2022-04-28 17:08:48.209] [console] [info] Lagrangian SOS takes 1.777595043182373 seconds\n",
      "[2022-04-28 17:08:48.311] [console] [info] max(power(det(P), 1/4))=0.5727308310729261, solver_time 0.008607864379882812\n",
      "[2022-04-28 17:08:49.878] [console] [info] search d is successful = false\n",
      "[2022-04-28 17:08:49.892] [console] [info] epsilon=0.00030779596866492565 is feasible\n",
      "[2022-04-28 17:08:49.893] [console] [info] reset eps_min=0.0, eps_max=0.00030779596866503667\n",
      "[2022-04-28 17:08:54.172] [console] [info] Lagrangian SOS takes 1.9302489757537842 seconds\n",
      "[2022-04-28 17:08:54.283] [console] [info] max(power(det(P), 1/4))=0.5729451993446987, solver_time 0.012729167938232422\n",
      "[2022-04-28 17:08:55.809] [console] [info] search d is successful = false\n",
      "[2022-04-28 17:08:55.822] [console] [info] epsilon=0.00015389798433251833 is feasible\n",
      "[2022-04-28 17:08:55.823] [console] [info] reset eps_min=0.0, eps_max=0.00015389798433251833\n",
      "[2022-04-28 17:08:59.957] [console] [warning] Find Lagrangian failed\n",
      "[2022-04-28 17:09:00.002] [console] [info] epsilon=7.694899216625917e-05 is infeasible\n",
      "[2022-04-28 17:09:04.174] [console] [info] Lagrangian SOS takes 1.8932781219482422 seconds\n",
      "[2022-04-28 17:09:04.290] [console] [info] max(power(det(P), 1/4))=0.572998776937889, solver_time 0.024969100952148438\n",
      "[2022-04-28 17:09:05.867] [console] [info] search d is successful = false\n",
      "[2022-04-28 17:09:05.880] [console] [info] epsilon=3.8474496083129583e-05 is feasible\n",
      "[2022-04-28 17:09:05.881] [console] [info] reset eps_min=0.0, eps_max=3.847449608329612e-05\n",
      "[2022-04-28 17:09:10.147] [console] [warning] Find Lagrangian failed\n",
      "[2022-04-28 17:09:10.197] [console] [info] epsilon=1.923724804164806e-05 is infeasible\n",
      "[2022-04-28 17:09:14.521] [console] [info] Lagrangian SOS takes 2.057858943939209 seconds\n",
      "[2022-04-28 17:09:14.626] [console] [info] max(power(det(P), 1/4))=0.5730121704312077, solver_time 0.009865999221801758\n",
      "[2022-04-28 17:09:16.218] [console] [info] search d is successful = false\n",
      "[2022-04-28 17:09:16.231] [console] [info] epsilon=9.61862402082403e-06 is feasible\n",
      "[2022-04-28 17:09:16.233] [console] [info] reset eps_min=0.0, eps_max=9.61862402082403e-06\n",
      "[2022-04-28 17:09:22.874] [console] [info] Lagrangian SOS takes 4.370023965835571 seconds\n",
      "[2022-04-28 17:09:23.002] [console] [info] max(power(det(P), 1/4))=0.5730188670435681, solver_time 0.01724696159362793\n",
      "[2022-04-28 17:09:24.614] [console] [info] search d is successful = false\n",
      "[2022-04-28 17:09:24.628] [console] [info] epsilon=4.809312010412015e-06 is feasible\n",
      "[2022-04-28 17:09:24.629] [console] [info] reset eps_min=0.0, eps_max=4.809312010412015e-06\n",
      "[2022-04-28 17:09:24.655] [console] [info] max(power(det(P), 1/4))=0.5730188670435681, solver_time 0.017544984817504883\n"
     ]
    }
   ],
   "source": [
    "i = 0\n",
    "region_to_certify = regions[i]\n",
    "seed_point = seed_points[i,:]\n",
    "if do_viz:\n",
    "    visualizer.plot_regions([region_to_certify], ellipses=None, region_suffix='_original_to_certify')\n",
    "\n",
    "binary_search_options = rational_forward_kinematics.BinarySearchOption()\n",
    "binary_search_options.epsilon_max = 0 # it is very unlikely that we can find a uniform expansion of the current region\n",
    "binary_search_options.max_iters = 15\n",
    "# speed up the bisection search by taking non-uniform steps when possible\n",
    "binary_search_options.search_d = True\n",
    "# find the smallest e such that At <= b + e1 still contains our seed point.\n",
    "binary_search_options.epsilon_min = rational_forward_kinematics.FindEpsilonLower(region_to_certify.A(), region_to_certify.b(),\n",
    "                                                                                 limits_t[0], limits_t[1],\n",
    "                                                                                 seed_point)\n",
    "\n",
    "certified_region_contraction_solution = cspace_free_region_certifier.CspacePolytopeBinarySearch(q_star,\n",
    "                                                                 filtered_collision_pairs,\n",
    "                                                                 region_to_certify.A(),\n",
    "                                                                 region_to_certify.b(),\n",
    "                                                                 binary_search_options, \n",
    "                                                                 solver_options,\n",
    "                                                                 seed_point)\n",
    "certified_region_contraction = HPolyhedron(certified_region_contraction_solution.C,\n",
    "                                           certified_region_contraction_solution.d)\n",
    "if do_viz:\n",
    "    visualizer.plot_regions([certified_region_contraction], ellipses=None,\n",
    "                            region_suffix='_certified_region_contraction',\n",
    "                            randomize_colors = True)"
   ]
  },
  {
   "cell_type": "markdown",
   "metadata": {},
   "source": [
    "## Now that we have a certified region, we can grow it using bilinear alternations"
   ]
  },
  {
   "cell_type": "code",
   "execution_count": 12,
   "metadata": {},
   "outputs": [
    {
     "name": "stderr",
     "output_type": "stream",
     "text": [
      "[2022-04-28 17:09:33.992] [console] [info] Lagrangian SOS takes 3.331077814102173 seconds\n",
      "[2022-04-28 17:09:34.065] [console] [info] Lagrangian step time 7.86 s\n",
      "[2022-04-28 17:09:34.113] [console] [info] max(power(det(P), 1/4))=0.49747671473517957, solver_time 0.03892683982849121\n",
      "[2022-04-28 17:09:34.114] [console] [info] cost improvement inf\n",
      "[2022-04-28 17:09:39.271] [console] [info] Iter: 0, polytope step cost -0.2940187716411214, solver time 1.0388259887695312\n",
      "[2022-04-28 17:09:47.805] [console] [info] Lagrangian SOS takes 3.3643760681152344 seconds\n",
      "[2022-04-28 17:09:47.883] [console] [info] Lagrangian step time 8.566 s\n",
      "[2022-04-28 17:09:47.934] [console] [info] max(power(det(P), 1/4))=0.5187228718923039, solver_time 0.04186701774597168\n",
      "[2022-04-28 17:09:47.935] [console] [info] cost improvement 0.021246157157124357\n",
      "[2022-04-28 17:09:52.581] [console] [info] Iter: 1, polytope step cost -0.25143873323556637, solver time 0.9162800312042236\n",
      "[2022-04-28 17:10:00.672] [console] [info] Lagrangian SOS takes 3.1729800701141357 seconds\n",
      "[2022-04-28 17:10:00.748] [console] [info] Lagrangian step time 8.131 s\n",
      "[2022-04-28 17:10:00.780] [console] [info] max(power(det(P), 1/4))=0.5368990591587555, solver_time 0.023736000061035156\n",
      "[2022-04-28 17:10:00.782] [console] [info] cost improvement 0.018176187266451538\n",
      "[2022-04-28 17:10:05.298] [console] [info] Iter: 2, polytope step cost -0.2103586873889777, solver time 0.8664970397949219\n",
      "[2022-04-28 17:10:13.323] [console] [info] Lagrangian SOS takes 3.0974819660186768 seconds\n",
      "[2022-04-28 17:10:13.400] [console] [info] Lagrangian step time 8.064 s\n",
      "[2022-04-28 17:10:13.419] [console] [info] max(power(det(P), 1/4))=0.5502607267499234, solver_time 0.010549068450927734\n",
      "[2022-04-28 17:10:13.421] [console] [info] cost improvement 0.01336166759116797\n",
      "[2022-04-28 17:10:18.457] [console] [info] Iter: 3, polytope step cost -0.17951021937450343, solver time 1.392637014389038\n",
      "[2022-04-28 17:10:26.481] [console] [info] Lagrangian SOS takes 3.108680009841919 seconds\n",
      "[2022-04-28 17:10:26.555] [console] [info] Lagrangian step time 8.063 s\n",
      "[2022-04-28 17:10:26.576] [console] [info] max(power(det(P), 1/4))=0.5609498602556752, solver_time 0.0120849609375\n",
      "[2022-04-28 17:10:26.577] [console] [info] cost improvement 0.010689133505751736\n",
      "[2022-04-28 17:10:30.961] [console] [info] mosek info 0, UnknownError\n",
      "[2022-04-28 17:10:30.962] [console] [warning] Failed to find the polytope at iteration 4\n"
     ]
    }
   ],
   "source": [
    "bilinear_alternation_options = rational_forward_kinematics.BilinearAlternationOption()\n",
    "bilinear_alternation_options.max_iters = 20\n",
    "bilinear_alternation_options.lagrangian_backoff_scale = 0\n",
    "bilinear_alternation_options.polytope_backoff_scale = 0\n",
    "\n",
    "\n",
    "certified_region_final_solution, polytope_volumes, ellipsoid_determinants = cspace_free_region_certifier.CspacePolytopeBilinearAlternation(q_star,\n",
    "                                                                 filtered_collision_pairs,\n",
    "                                                                 certified_region_contraction.A(),\n",
    "                                                                 # it is helpful to pullback the solution of the previous step a little bit\n",
    "                                                                 certified_region_contraction.b()-5e-2,\n",
    "                                                                 bilinear_alternation_options, \n",
    "                                                                 solver_options,\n",
    "                                                                 seed_point)\n",
    "final_certified_region = HPolyhedron(certified_region_final_solution.C, certified_region_final_solution.d)\n",
    "if do_viz:\n",
    "    visualizer.plot_regions([final_certified_region], ellipses=None,\n",
    "                            region_suffix='_certified_region_final',\n",
    "                            randomize_colors = True)"
   ]
  },
  {
   "cell_type": "code",
   "execution_count": null,
   "metadata": {},
   "outputs": [],
   "source": []
  }
 ],
 "metadata": {
  "interpreter": {
   "hash": "916dbcbb3f70747c44a77c7bcd40155683ae19c65e1c03b4aa3499c5328201f1"
  },
  "kernelspec": {
   "display_name": "Python 3",
   "language": "python",
   "name": "python3"
  },
  "language_info": {
   "codemirror_mode": {
    "name": "ipython",
    "version": 3
   },
   "file_extension": ".py",
   "mimetype": "text/x-python",
   "name": "python",
   "nbconvert_exporter": "python",
   "pygments_lexer": "ipython3",
   "version": "3.8.10"
  }
 },
 "nbformat": 4,
 "nbformat_minor": 2
}
