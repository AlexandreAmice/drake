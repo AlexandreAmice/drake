{
 "cells": [
  {
   "cell_type": "code",
   "execution_count": 24,
   "metadata": {},
   "outputs": [
    {
     "name": "stderr",
     "output_type": "stream",
     "text": [
      "<ipython-input-24-a90786fd5239>:105: DeprecationWarning: Calling np.sum(generator) is deprecated, and in the future will give a different result. Use np.sum(np.fromiter(generator)) or the python sum builtin instead.\n",
      "  np.sum(len(g) for g in data['rb']), data['cov'] , data['ttotal'], tsample, tvis, tmhs, tregions])\n"
     ]
    },
    {
     "name": "stdout",
     "output_type": "stream",
     "text": [
      "Experiments with b = 1:\n",
      "  Experiments with N = 40:\n",
      "    Experiment data: [10, 0.9116, 169.58659625053406, 22.648, 6.881, 0.136, 139.923]\n",
      "    Experiment data: [6, 0.9184, 108.39339876174927, 7.45, 4.173, 0.068, 96.701]\n",
      "    Experiment data: [9, 0.902, 158.07084584236145, 15.286, 4.404, 0.106, 138.27499999999998]\n",
      "    Experiment data: [9, 0.9246, 162.03331542015076, 15.294, 5.59, 0.14800000000000002, 141.0]\n",
      "    Experiment data: [8, 0.9074, 133.5380561351776, 7.316, 3.106, 0.06, 123.05600000000001]\n",
      "  Experiments with N = 400:\n",
      "    Experiment data: [10, 0.9048, 565.1213231086731, 13.568999999999999, 390.717, 3.255, 157.581]\n",
      "    Experiment data: [6, 0.9168, 461.4970214366913, 14.895000000000001, 352.185, 2.9299999999999997, 91.486]\n",
      "    Experiment data: [5, 0.9074, 279.491051197052, 0.624, 199.009, 1.837, 78.021]\n",
      "    Experiment data: [6, 0.8914, 297.4653420448303, 0.634, 203.751, 1.955, 91.125]\n",
      "    Experiment data: [7, 0.8992, 448.60080790519714, 12.654, 324.11199999999997, 2.562, 109.273]\n",
      "  Experiments with N = 1:\n",
      "    Experiment data: [9, 0.9, 278.28550958633423, 150.97199999999998, 1.226, 0.459, 125.631]\n",
      "    Experiment data: [8, 0.9214, 196.99152779579163, 73.25999999999999, 0.49800000000000005, 0.20699999999999996, 123.02699999999999]\n",
      "    Experiment data: [7, 0.9172, 170.02109098434448, 66.208, 0.42999999999999994, 0.24, 103.14200000000001]\n",
      "    Experiment data: [7, 0.9162, 206.90768313407898, 92.162, 0.6880000000000002, 0.278, 113.77900000000002]\n",
      "    Experiment data: [8, 0.8686, 217.53227949142456, 106.764, 0.8320000000000001, 0.23099999999999998, 109.704]\n"
     ]
    }
   ],
   "source": [
    "import os\n",
    "import glob\n",
    "import pickle\n",
    "import numpy as np\n",
    "def parse_logfile(filename):\n",
    "    logfile = open(filename, 'r')\n",
    "    lines = logfile.readlines()\n",
    "    logfile.close()\n",
    "\n",
    "    iteration_data = []\n",
    "    current_iteration = {}\n",
    "\n",
    "    for line in lines:\n",
    "        if line.startswith('ITERATION:'):\n",
    "            if current_iteration:\n",
    "                iteration_data.append(current_iteration)\n",
    "                current_iteration = {}\n",
    "        elif line.startswith('summary'):\n",
    "            current_iteration['summary'] = line.strip()\n",
    "        elif line.startswith('number of regions step'):\n",
    "            current_iteration['number_of_regions_step'] = int(line.split()[-1])\n",
    "        elif line.startswith('number of regions total'):\n",
    "            current_iteration['number_of_regions_total'] = int(line.split()[-1])\n",
    "        elif line.startswith('tstep'):\n",
    "            a = line.replace(',', '')\n",
    "            current_iteration['tstep'] = float(a.split()[1])\n",
    "            current_iteration['t_total'] = float(a.split()[3])\n",
    "        elif line.startswith('tsample'):\n",
    "            a = line.replace(',', '')\n",
    "            current_iteration['tsample'] = float(a.split()[1])\n",
    "            current_iteration['t_visgraph'] = float(a.split()[3])\n",
    "        elif line.startswith('t_mhs'):\n",
    "            current_iteration['t_mhs'] = float(line.split()[1])\n",
    "        elif line.startswith('t_regions'):\n",
    "            current_iteration['t_regions'] = float(line.split()[1])\n",
    "        elif line.startswith('coverage'):\n",
    "            current_iteration['coverage'] = float(line.split()[1])\n",
    "        elif '[VisSeeder] Coverage met, terminated' in line:\n",
    "            current_iteration['termination'] = line.strip()\n",
    "\n",
    "    if current_iteration:\n",
    "        iteration_data.append(current_iteration)\n",
    "    return iteration_data\n",
    "\n",
    "\n",
    "logs_directory = 'logs'\n",
    "\n",
    "# Get a list of all subdirectories in the logs directory\n",
    "experiment_directories = [directory for directory in glob.glob(os.path.join(logs_directory, '*')) if os.path.isdir(directory)]\n",
    "\n",
    "# Define a dictionary to store the grouped experiments\n",
    "grouped_experiments = {}\n",
    "\n",
    "# Iterate over each experiment directory\n",
    "for experiment_directory in experiment_directories:\n",
    "    # Parse the experiment name\n",
    "    experiment_name = os.path.basename(experiment_directory)\n",
    "    name_parts = experiment_name.split('_')\n",
    "    \n",
    "    # Extract the relevant values from the experiment name\n",
    "    b = 1#int(name_parts[-5])\n",
    "    N = int(name_parts[-3])\n",
    "    \n",
    "    # Get the last pickle file in the 'data' subdirectory\n",
    "    data_directory = os.path.join(experiment_directory, 'data')\n",
    "    pickle_files = glob.glob(os.path.join(data_directory, '*.pkl'))\n",
    "    pkl_files = os.listdir(data_directory)\n",
    "    pkl_idx = np.argsort([int(s.replace('it_', '').replace('.pkl', '')) for s in pkl_files])\n",
    "    \n",
    "    #pickle_files.sort()\n",
    "    \n",
    "    last_pickle_file = data_directory+'/'+pkl_files[pkl_idx[-1]]#pickle_files[-1]#max(pickle_files, key=os.path.getctime)\n",
    "    \n",
    "    # Load the last pickle file\n",
    "    with open(last_pickle_file, 'rb') as file:\n",
    "        data = pickle.load(file)\n",
    "    \n",
    "    # Find the 'summar' subdirectory and get the path to the text file\n",
    "    summar_directory = os.path.join(experiment_directory, 'summary')\n",
    "    text_files = glob.glob(os.path.join(summar_directory, '*.txt'))\n",
    "    last_text_file = max(text_files, key=os.path.getctime)\n",
    "    \n",
    "\n",
    "    iteration_dictionaries = parse_logfile(last_text_file)\n",
    "    tsample = np.sum([i['tsample'] for i in iteration_dictionaries[1:]])\n",
    "    tvis = np.sum([i['t_visgraph'] for i in iteration_dictionaries[1:]])\n",
    "    tmhs = np.sum([i['t_mhs'] for i in iteration_dictionaries[1:]])\n",
    "    tregions = np.sum([i['t_regions'] for i in iteration_dictionaries[1:]])\n",
    "    # # Read the last line of the text file to extract coverage\n",
    "    # with open(last_text_file, 'r') as file:\n",
    "    #     lines = file.readlines()\n",
    "    #     last_line = lines[-1].strip()\n",
    "    #     coverage = float(last_line.split()[1])\n",
    "\n",
    "    # Group experiments by 'b' value\n",
    "    if b not in grouped_experiments:\n",
    "        grouped_experiments[b] = {}\n",
    "    \n",
    "    # Group experiments by 'N' value\n",
    "    if N not in grouped_experiments[b]:\n",
    "        grouped_experiments[b][N] = []\n",
    "    \n",
    "    # Add the experiment data to the grouped experiments dictionary\n",
    "    grouped_experiments[b][N].append([\n",
    "            np.sum(len(g) for g in data['rb']), data['cov'] , data['ttotal'], tsample, tvis, tmhs, tregions])\n",
    "\n",
    "# Print the grouped experiments\n",
    "for b, experiments in grouped_experiments.items():\n",
    "    print(f\"Experiments with b = {b}:\")\n",
    "    for N, experiment_data in experiments.items():\n",
    "        print(f\"  Experiments with N = {N}:\")\n",
    "        for dat in experiment_data:\n",
    "            print(f\"    Experiment data: {dat}\")"
   ]
  },
  {
   "cell_type": "code",
   "execution_count": 59,
   "metadata": {},
   "outputs": [
    {
     "data": {
      "text/plain": [
       "array([ 97.8732,   0.7348,   0.283 , 115.0566])"
      ]
     },
     "execution_count": 59,
     "metadata": {},
     "output_type": "execute_result"
    }
   ],
   "source": [
    "(np.array(grouped_experiments[1][1])[:, -4:]).mean(axis = 0)"
   ]
  },
  {
   "cell_type": "code",
   "execution_count": 70,
   "metadata": {},
   "outputs": [
    {
     "data": {
      "image/png": "[encoded data removed]",
      "text/plain": [
       "<Figure size 720x360 with 1 Axes>"
      ]
     },
     "metadata": {
      "needs_background": "light"
     },
     "output_type": "display_data"
    }
   ],
   "source": [
    "#timing plot \n",
    "\n",
    "import matplotlib.pyplot as plt\n",
    "import numpy as np\n",
    "\n",
    "# Sample data for three approaches and three phases\n",
    "approaches = ['N = 1', 'N = 40', 'N = 400']\n",
    "phases = ['Sampling', 'Constructing Visibility Graph', 'Solving Maximum Hidden Set', 'Iris']\n",
    "\n",
    "approach1_times = (np.array(grouped_experiments[1][1])[:, -4:]).mean(axis = 0)  # Time contributions for Approach 1\n",
    "approach2_times = (np.array(grouped_experiments[1][40])[:, -4:]).mean(axis = 0)   # Time contributions for Approach 2\n",
    "approach3_times = (np.array(grouped_experiments[1][400])[:, -4:]).mean(axis = 0) # Time contributions for Approach 3\n",
    "\n",
    "# Calculate the cumulative sum for each approach's time contributions\n",
    "approach1_cumulative = np.cumsum(approach1_times)\n",
    "approach2_cumulative = np.cumsum(approach2_times)\n",
    "approach3_cumulative = np.cumsum(approach3_times)\n",
    "\n",
    "time_data = np.array([approach1_times,approach2_times,approach3_times] )\n",
    "time_data_cumusum  = np.array([approach1_cumulative,approach2_cumulative,approach3_cumulative] )\n",
    "# Plotting the stacked bar plot\n",
    "fig, ax = plt.subplots(figsize = (10,5))\n",
    "\n",
    "ax.bar(approaches, time_data[:, 0], label=phases[0])\n",
    "ax.bar(approaches, time_data[:, 1], bottom=time_data_cumusum[:, 0], label=phases[1])\n",
    "ax.bar(approaches, time_data[:, 2], bottom=time_data_cumusum[:, 1], label=phases[2])\n",
    "ax.bar(approaches, time_data[:, 3], bottom=time_data_cumusum[:, 2], label=phases[3])\n",
    "#ax.bar(approaches, approach2_times, bottom=approach1_cumulative, label='Phase 2')\n",
    "#ax.bar(approaches, approach3_times, bottom=approach2_cumulative, label='Phase 3')\n",
    "\n",
    "# Adding labels, title, and legend\n",
    "#ax.set_xlabel('Approaches',)\n",
    "ax.set_ylabel('Time [s]', fontsize = 15)\n",
    "ax.set_title('Average Timing Breakdown', fontsize = 20)\n",
    "ax.legend(fontsize = 14)\n",
    "ax.tick_params(axis='both', which='major', labelsize=15)\n",
    "    \n",
    "plt.tight_layout()\n",
    "plt.savefig('timings_3dof.pdf')\n",
    "plt.show()\n"
   ]
  },
  {
   "cell_type": "code",
   "execution_count": 132,
   "metadata": {},
   "outputs": [
    {
     "data": {
      "image/png": "[encoded data removed]",
      "text/plain": [
       "<Figure size 1440x360 with 4 Axes>"
      ]
     },
     "metadata": {
      "needs_background": "light"
     },
     "output_type": "display_data"
    }
   ],
   "source": [
    "import matplotlib.pyplot as plt\n",
    "\n",
    "# Sample data for three approaches and three phases\n",
    "approaches = ['N = 1', 'N = 40', 'N = 400']\n",
    "# phases = ['Phase 1', 'Phase 2', 'Phase 3']\n",
    "\n",
    "# approach1_times = [10, 15, 5]  # Time contributions for Approach 1\n",
    "# approach2_times = [8, 12, 6]   # Time contributions for Approach 2\n",
    "# approach3_times = [12, 10, 8]  # Time contributions for Approach 3\n",
    "\n",
    "\n",
    "# Plotting the bar plot\n",
    "fig, axs = plt.subplots(ncols = 4, nrows =1, figsize = (20,5))\n",
    "index = range(len(approaches))\n",
    "bar_width = 0.4\n",
    "\n",
    "ax = axs[0]\n",
    "m = []\n",
    "min_max = []\n",
    "std = []\n",
    "for n in [1,40,400]:\n",
    "    exp_arr = np.array(grouped_experiments[1][n])\n",
    "    m.append((exp_arr[:, 0]).mean(axis = 0))\n",
    "    min_max.append([(exp_arr[:, 0]).min(), (exp_arr[:, 0]).max()]) \n",
    "    std.append((exp_arr[:, 0]).std(axis = 0))\n",
    "for i in range(3):\n",
    "    ax.bar(index[i],m[i],bar_width)\n",
    "    # Plot the error bars\n",
    "bounds = np.array(min_max)-np.array(m).reshape(-1,1)\n",
    "#ax.errorbar(index, m, yerr=[-bounds[:,0], bounds[:,1]], fmt='none', ecolor='k', capsize=3)\n",
    "ax.errorbar(index, m, yerr=std, fmt='none', ecolor='k', capsize=3)\n",
    "\n",
    "# Adding labels, titles, and legend\n",
    "ax.set_ylabel('Number Regions', fontsize = 15)\n",
    "ax.set_xticks([i for i in index])\n",
    "ax.set_xticklabels(approaches)\n",
    "ax.tick_params(axis='both', which='major', labelsize=15)\n",
    "\n",
    "ax = axs[1]\n",
    "m = []\n",
    "min_max = []\n",
    "std = []\n",
    "for n in [1,40,400]:\n",
    "    exp_arr = np.array(grouped_experiments[1][n])\n",
    "    m.append((exp_arr[:, 1]).mean(axis = 0))\n",
    "    min_max.append([(exp_arr[:, 1]).min(), (exp_arr[:, 1]).max()]) \n",
    "    std.append((exp_arr[:, 1]).std(axis = 0))\n",
    "for i in range(3):\n",
    "    ax.bar(index[i],m[i],bar_width)\n",
    "    # Plot the error bars\n",
    "bounds = np.array(min_max)-np.array(m).reshape(-1,1)\n",
    "#ax.errorbar(index, m, yerr=[-bounds[:,0], bounds[:,1]], fmt='none', ecolor='k', capsize=3)\n",
    "ax.errorbar(index, m, yerr=std, fmt='none', ecolor='k', capsize=3)\n",
    "\n",
    "# Adding labels, titles, and legend\n",
    "ax.set_ylabel('Coverage', fontsize = 15)\n",
    "ax.set_xticks([i for i in index])\n",
    "ax.set_xticklabels(approaches)\n",
    "ax.tick_params(axis='both', which='major', labelsize=15)\n",
    "ax = axs[2]\n",
    "m = []\n",
    "min_max = []\n",
    "std = []\n",
    "for n in [1,40,400]:\n",
    "    exp_arr = np.array(grouped_experiments[1][n])\n",
    "    m.append((exp_arr[:, 2]).mean(axis = 0))\n",
    "    min_max.append([(exp_arr[:, 2]).min(), (exp_arr[:, 2]).max()]) \n",
    "    std.append((exp_arr[:, 2]).std(axis = 0))\n",
    "for i in range(3):\n",
    "    ax.bar(index[i],m[i],bar_width)\n",
    "    # Plot the error bars\n",
    "bounds = np.array(min_max)-np.array(m).reshape(-1,1)\n",
    "#ax.errorbar(index, m, yerr=[-bounds[:,0], bounds[:,1]], fmt='none', ecolor='k', capsize=3)\n",
    "ax.errorbar(index, m, yerr=std, fmt='none', ecolor='k', capsize=3)\n",
    "\n",
    "# Adding labels, titles, and legend\n",
    "ax.set_ylabel('Time [s]', fontsize = 15)\n",
    "ax.set_xticks([i for i in index])\n",
    "ax.set_xticklabels(approaches)\n",
    "ax.tick_params(axis='both', which='major', labelsize=15)\n",
    "# # Adding total time values above each bar\n",
    "# for i, v in enumerate(total_times):\n",
    "#     ax.text(i, v + 0.5, str(v), ha='center')\n",
    "ax = axs[3]\n",
    "#approaches = ['N = 1', 'N = 40', 'N = 400']\n",
    "phases = ['Sampling', 'Constructing Visibility Graph', 'Solving Maximum Hidden Set', 'Iris']\n",
    "\n",
    "approach1_times = (np.array(grouped_experiments[1][1])[:, -4:]).mean(axis = 0)  # Time contributions for Approach 1\n",
    "approach2_times = (np.array(grouped_experiments[1][40])[:, -4:]).mean(axis = 0)   # Time contributions for Approach 2\n",
    "approach3_times = (np.array(grouped_experiments[1][400])[:, -4:]).mean(axis = 0) # Time contributions for Approach 3\n",
    "\n",
    "# Calculate the cumulative sum for each approach's time contributions\n",
    "approach1_cumulative = np.cumsum(approach1_times)\n",
    "approach2_cumulative = np.cumsum(approach2_times)\n",
    "approach3_cumulative = np.cumsum(approach3_times)\n",
    "\n",
    "time_data = np.array([approach1_times,approach2_times,approach3_times] )\n",
    "time_data_cumusum  = np.array([approach1_cumulative,approach2_cumulative,approach3_cumulative] )\n",
    "# Plotting the stacked bar plot\n",
    "\n",
    "ax.bar(approaches, time_data[:, 0],bar_width, label=phases[0])\n",
    "ax.bar(approaches, time_data[:, 1],bar_width, bottom=time_data_cumusum[:, 0], label=phases[1])\n",
    "ax.bar(approaches, time_data[:, 2],bar_width, bottom=time_data_cumusum[:, 1], label=phases[2])\n",
    "ax.bar(approaches, time_data[:, 3],bar_width, bottom=time_data_cumusum[:, 2], label=phases[3])\n",
    "#ax.bar(approaches, approach2_times, bottom=approach1_cumulative, label='Phase 2')\n",
    "#ax.bar(approaches, approach3_times, bottom=approach2_cumulative, label='Phase 3')\n",
    "\n",
    "# Adding labels, title, and legend\n",
    "#ax.set_xlabel('Approaches',)\n",
    "ax.set_ylabel('Time [s]', fontsize = 15)\n",
    "#ax.set_title('Average Timing Breakdown', fontsize = 20)\n",
    "ax.legend(fontsize = 12,loc='upper left' )\n",
    "ax.tick_params(axis='both', which='major', labelsize=15)\n",
    "\n",
    "\n",
    "\n",
    "plt.tight_layout()\n",
    "plt.savefig('3dof_comparison.pdf')\n",
    "plt.show()"
   ]
  },
  {
   "cell_type": "code",
   "execution_count": 110,
   "metadata": {},
   "outputs": [
    {
     "data": {
      "text/plain": [
       "[7.8, 8.4, 6.8]"
      ]
     },
     "execution_count": 110,
     "metadata": {},
     "output_type": "execute_result"
    }
   ],
   "source": [
    "m"
   ]
  },
  {
   "cell_type": "code",
   "execution_count": 109,
   "metadata": {},
   "outputs": [
    {
     "data": {
      "text/plain": [
       "[array([-0.8, -2.4, -1.8]), array([1.2, 1.6, 3.2])]"
      ]
     },
     "execution_count": 109,
     "metadata": {},
     "output_type": "execute_result"
    }
   ],
   "source": [
    "[bounds[:,0], bounds[:,1]]"
   ]
  },
  {
   "cell_type": "code",
   "execution_count": 91,
   "metadata": {},
   "outputs": [
    {
     "data": {
      "image/png": "[encoded data removed]",
      "text/plain": [
       "<Figure size 432x288 with 1 Axes>"
      ]
     },
     "metadata": {
      "needs_background": "light"
     },
     "output_type": "display_data"
    }
   ],
   "source": [
    "import numpy as np\n",
    "import matplotlib.pyplot as plt\n",
    "\n",
    "# Sample data\n",
    "x = np.arange(4)\n",
    "y = [5, 7, 3, 4]\n",
    "y_err_lower = [1, 0.5, 2, 1.5]  # Lower error values\n",
    "y_err_upper = [0.5, 1, 1.5, 0.5]  # Upper error values\n",
    "\n",
    "# Create the plot\n",
    "fig, ax = plt.subplots()\n",
    "\n",
    "# Plot the bars\n",
    "ax.bar(x, y, align='center', alpha=0.5)\n",
    "\n",
    "# Plot the error bars\n",
    "ax.errorbar(x, y, yerr=[y_err_lower, y_err_upper], fmt='none', ecolor='r', capsize=3)\n",
    "\n",
    "# Customize the plot\n",
    "ax.set_xticks(x)\n",
    "ax.set_xticklabels(['A', 'B', 'C', 'D'])\n",
    "ax.set_ylabel('Value')\n",
    "ax.set_title('Bar Plot with Asymmetric Error Bars')\n",
    "\n",
    "# Display the plot\n",
    "plt.show()"
   ]
  },
  {
   "cell_type": "code",
   "execution_count": 18,
   "metadata": {},
   "outputs": [],
   "source": [
    "filename = 'logs/3DOf_pinball_20230626230047_1_1_0.050_0.100/summary/summary_3DOf_pinball_20230626230047_1_1_0.050_0.100.txt'\n",
    "\n",
    "logfile = open(filename, 'r')\n",
    "lines = logfile.readlines()\n",
    "logfile.close()\n",
    "\n",
    "iteration_data = []\n",
    "current_iteration = {}\n",
    "\n",
    "for line in lines:\n",
    "    if line.startswith('ITERATION:'):\n",
    "        if current_iteration:\n",
    "            iteration_data.append(current_iteration)\n",
    "            current_iteration = {}\n",
    "    elif line.startswith('summary'):\n",
    "        current_iteration['summary'] = line.strip()\n",
    "    elif line.startswith('number of regions step'):\n",
    "        current_iteration['number_of_regions_step'] = int(line.split()[-1])\n",
    "    elif line.startswith('number of regions total'):\n",
    "        current_iteration['number_of_regions_total'] = int(line.split()[-1])\n",
    "    elif line.startswith('tstep'):\n",
    "        a = line.replace(',', '')\n",
    "        current_iteration['tstep'] = float(a.split()[1])\n",
    "        current_iteration['t_total'] = float(a.split()[3])\n",
    "    elif line.startswith('tsample'):\n",
    "        a = line.replace(',', '')\n",
    "        current_iteration['tsample'] = float(a.split()[1])\n",
    "        current_iteration['t_visgraph'] = float(a.split()[3])\n",
    "    elif line.startswith('t_mhs'):\n",
    "        current_iteration['t_mhs'] = float(line.split()[1])\n",
    "    elif line.startswith('t_regions'):\n",
    "        current_iteration['t_regions'] = float(line.split()[1])\n",
    "    elif line.startswith('coverage'):\n",
    "        current_iteration['coverage'] = float(line.split()[1])\n",
    "    elif '[VisSeeder] Coverage met, terminated' in line:\n",
    "        current_iteration['termination'] = line.strip()\n",
    "\n",
    "if current_iteration:\n",
    "    iteration_data.append(current_iteration)\n"
   ]
  },
  {
   "cell_type": "code",
   "execution_count": 23,
   "metadata": {},
   "outputs": [
    {
     "data": {
      "text/plain": [
       "{'number_of_regions_step': 1,\n",
       " 'number_of_regions_total': 7,\n",
       " 'tstep': 27.599,\n",
       " 't_total': 206.908,\n",
       " 'tsample': 7.218,\n",
       " 't_visgraph': 0.07,\n",
       " 't_mhs': 0.021,\n",
       " 't_regions': 20.29,\n",
       " 'coverage': 0.9162,\n",
       " 'termination': '[03:04:20] [VisSeeder] Coverage met, terminated on Iris step'}"
      ]
     },
     "execution_count": 23,
     "metadata": {},
     "output_type": "execute_result"
    }
   ],
   "source": [
    "\n",
    "iteration_data[-1]"
   ]
  },
  {
   "cell_type": "code",
   "execution_count": 10,
   "metadata": {},
   "outputs": [
    {
     "data": {
      "text/plain": [
       "dict_keys(['vg', 'vad', 'sp', 'ra', 'rb', 'cov', 'tstep', 'tsample', 'ttotal'])"
      ]
     },
     "execution_count": 10,
     "metadata": {},
     "output_type": "execute_result"
    }
   ],
   "source": [
    "data.keys()"
   ]
  },
  {
   "cell_type": "code",
   "execution_count": 3,
   "metadata": {},
   "outputs": [],
   "source": [
    "box_counts = [1]\n",
    "# minimum_covers = [(b+1)*2 for b in box_counts]\n",
    "labels = [\"N=1\", \"N=40\", \"N=400\"]\n",
    "fields = ['Number of Regions', 'Coverage', 'Time']\n",
    "N_vals = [1,40,400]\n",
    "\n",
    "data_1_mean = []\n",
    "data_40_mean = []\n",
    "data_400_mean = []\n",
    "dm = [data_1_mean, data_40_mean, data_400_mean]\n",
    "\n",
    "data_1_std = []\n",
    "data_40_std = []\n",
    "data_400_std = []\n",
    "ds = [data_1_std, data_40_std, data_400_std]\n",
    "\n",
    "\n",
    "for b in box_counts:\n",
    "    exps = grouped_experiments[b]\n",
    "    for N_exp in N_vals:\n",
    "        runs = exps[N_exp]\n",
    "        run_mean = np.mean(np.array(runs), axis = 0)\n",
    "        run_std = np.std(np.array(runs), axis = 0)\n",
    "        dm[N_vals.index(N_exp)].append(run_mean.tolist())\n",
    "        ds[N_vals.index(N_exp)].append(run_std.tolist())"
   ]
  },
  {
   "cell_type": "code",
   "execution_count": 4,
   "metadata": {},
   "outputs": [
    {
     "data": {
      "text/plain": [
       "[[[7.8, 0.9046799999999999, 213.94761819839476]],\n",
       " [[8.4, 0.9128000000000001, 146.32444248199462]],\n",
       " [[6.8, 0.9039200000000001, 410.43510913848877]]]"
      ]
     },
     "execution_count": 4,
     "metadata": {},
     "output_type": "execute_result"
    }
   ],
   "source": [
    "dm"
   ]
  },
  {
   "cell_type": "code",
   "execution_count": null,
   "metadata": {},
   "outputs": [],
   "source": [
    "import matplotlib as plt\n",
    "fig, ax= plt.subfigures\n",
    "\n"
   ]
  },
  {
   "cell_type": "code",
   "execution_count": null,
   "metadata": {},
   "outputs": [],
   "source": [
    "import matplotlib.pyplot as plt\n",
    "import numpy as np\n",
    "\n",
    "# Sample data\n",
    "categories = labels\n",
    "values1 = number_regions\n",
    "values2 = vs_number_regions\n",
    "\n",
    "# Set the position of the bars on the x-axis\n",
    "ind = np.arange(len(categories))\n",
    "\n",
    "# Set the width of the bars\n",
    "width = 0.35\n",
    "\n",
    "# Create the figure and axes\n",
    "fig, axs = plt.subplots(nrows =1, ncols = 3, figsize = (15, 5))\n",
    "\n",
    "ax = axs[0]\n",
    "# Create the first set of bars\n",
    "rects1 = ax.bar(ind - width/2, values1, width, label='CCV_CGSH')\n",
    "\n",
    "# Create the second set of bars\n",
    "rects2 = ax.bar(ind + width/2, values2, width, label='VisSeeding')\n",
    "\n",
    "# Set custom tick labels\n",
    "ax.set_xticks(ind)\n",
    "ax.set_xticklabels(categories, rotation = 80)\n",
    "ax.set_yscale('log')\n",
    "# Add labels, title, and legend\n",
    "ax.set_ylabel('Number of Regions')\n",
    "ax.set_title('')\n",
    "ax.legend()\n",
    "\n",
    "values1 = timing_values\n",
    "values2 = vs_timings\n",
    "ax = axs[1]\n",
    "# Create the first set of bars\n",
    "rects1 = ax.bar(ind - width/2, values1, width, label='CCV_CGSH')\n",
    "\n",
    "# Create the second set of bars\n",
    "rects2 = ax.bar(ind + width/2, values2, width, label='VisSeeding')\n",
    "\n",
    "# Set custom tick labels\n",
    "ax.set_xticks(ind)\n",
    "ax.set_xticklabels(categories, rotation = 80)\n",
    "ax.set_yscale('log')\n",
    "# Add labels, title, and legend\n",
    "ax.set_ylabel('Time [s]')\n",
    "ax.set_title('')\n",
    "ax.legend()\n",
    "\n",
    "values1 = [1]*16\n",
    "values2 = coverage\n",
    "ax = axs[2]\n",
    "# Create the first set of bars\n",
    "rects1 = ax.bar(ind - width/2, values1, width, label='CCV_CGSH')\n",
    "\n",
    "# Create the second set of bars\n",
    "rects2 = ax.bar(ind + width/2, values2, width, label='VisSeeding')\n",
    "\n",
    "# Set custom tick labels\n",
    "ax.set_xticks(ind)\n",
    "ax.set_xticklabels(categories, rotation = 80)\n",
    "ax.set_ylim([0,1.2])\n",
    "# Add labels, title, and legend\n",
    "ax.set_ylabel(' Coverage')\n",
    "ax.set_title('')\n",
    "ax.legend()\n",
    "# Display the plot\n",
    "plt.tight_layout()\n",
    "plt.savefig('comparison.pdf')"
   ]
  }
 ],
 "metadata": {
  "kernelspec": {
   "display_name": "Python 3",
   "language": "python",
   "name": "python3"
  },
  "language_info": {
   "codemirror_mode": {
    "name": "ipython",
    "version": 3
   },
   "file_extension": ".py",
   "mimetype": "text/x-python",
   "name": "python",
   "nbconvert_exporter": "python",
   "pygments_lexer": "ipython3",
   "version": "3.8.10"
  },
  "orig_nbformat": 4
 },
 "nbformat": 4,
 "nbformat_minor": 2
}
