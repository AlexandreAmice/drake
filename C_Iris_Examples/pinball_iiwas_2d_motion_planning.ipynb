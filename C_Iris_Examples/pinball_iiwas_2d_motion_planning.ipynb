{
 "cells": [
  {
   "cell_type": "code",
   "execution_count": 1,
   "metadata": {},
   "outputs": [],
   "source": [
    "%load_ext autoreload"
   ]
  },
  {
   "cell_type": "code",
   "execution_count": 2,
   "metadata": {},
   "outputs": [],
   "source": [
    "import numpy as np\n",
    "from functools import partial\n",
    "import visualizations_utils as viz_utils\n",
    "from iris_plant_visualizer2 import IrisPlantVisualizer\n",
    "import ipywidgets as widgets\n",
    "from IPython.display import display\n",
    "from scipy.linalg import block_diag\n",
    "import matplotlib.pyplot as plt\n",
    "import cdd"
   ]
  },
  {
   "cell_type": "code",
   "execution_count": 3,
   "metadata": {},
   "outputs": [],
   "source": [
    "#pydrake imports\n",
    "from pydrake.common import FindResourceOrThrow\n",
    "from pydrake.multibody.parsing import Parser\n",
    "from pydrake.multibody.plant import AddMultibodyPlantSceneGraph\n",
    "from pydrake.systems.framework import DiagramBuilder\n",
    "from pydrake.geometry import Role, GeometrySet, CollisionFilterDeclaration\n",
    "from pydrake.solvers import mathematicalprogram as mp\n",
    "from pydrake.all import RigidTransform, RollPitchYaw, RevoluteJoint\n",
    "from pydrake.all import RotationMatrix\n",
    "import time\n",
    "import pydrake.multibody.rational_forward_kinematics as rational_forward_kinematics\n",
    "from pydrake.all import RationalForwardKinematics\n",
    "from pydrake.geometry.optimization import IrisOptionsRationalSpace, IrisInRationalConfigurationSpace, HPolyhedron, Hyperellipsoid"
   ]
  },
  {
   "cell_type": "markdown",
   "metadata": {},
   "source": [
    "# Build and set up the visualization the plant and the visualization of the C-space obstacle\n",
    "\n",
    "Note that running this cell multiple times will establish multiple meshcat instances which can fill up your memory. It is a good idea to call \"pkill -f meshcat\" from the command line before re-running this cell\n"
   ]
  },
  {
   "cell_type": "code",
   "execution_count": 4,
   "metadata": {},
   "outputs": [
    {
     "name": "stderr",
     "output_type": "stream",
     "text": [
      "INFO:drake:Meshcat listening for connections at http://localhost:7018\n",
      "INFO:drake:Meshcat listening for connections at http://localhost:7019\n"
     ]
    }
   ],
   "source": [
    "builder = DiagramBuilder()\n",
    "plant, scene_graph = AddMultibodyPlantSceneGraph(builder, time_step=0.001)\n",
    "parser = Parser(plant)\n",
    "oneDOF_iiwa_asset = FindResourceOrThrow(\"drake/C_Iris_Examples/assets/oneDOF_iiwa7_with_box_collision.sdf\")\n",
    "\n",
    "box_asset = FindResourceOrThrow(\"drake/C_Iris_Examples/assets/box_small.urdf\")\n",
    "\n",
    "models = []\n",
    "models.append(parser.AddModelFromFile(box_asset))\n",
    "models.append(parser.AddModelFromFile(oneDOF_iiwa_asset, 'right_sweeper'))\n",
    "models.append(parser.AddModelFromFile(oneDOF_iiwa_asset, 'left_sweeper'))\n",
    "\n",
    "\n",
    "\n",
    "\n",
    "locs = [[0.,0.,0.],\n",
    "        [0,1,0.85],\n",
    "        [0,-1,0.55]]\n",
    "plant.WeldFrames(plant.world_frame(), \n",
    "                 plant.GetFrameByName(\"base\", models[0]),\n",
    "                 RigidTransform(locs[0]))\n",
    "\n",
    "t1 = RigidTransform(RollPitchYaw([np.pi/2, 0, 0]).ToRotationMatrix(), locs[1])@RigidTransform(RollPitchYaw([0, 0, np.pi/2]), np.zeros(3))\n",
    "t2 = RigidTransform(RollPitchYaw([-np.pi/2, 0, 0]).ToRotationMatrix(), locs[2])@RigidTransform(RollPitchYaw([0, 0, np.pi/2]), np.zeros(3))\n",
    "plant.WeldFrames(plant.world_frame(), \n",
    "                 plant.GetFrameByName(\"iiwa_oneDOF_link_0\", models[1]), \n",
    "                 t1)\n",
    "plant.WeldFrames(plant.world_frame(), \n",
    "                 plant.GetFrameByName(\"iiwa_oneDOF_link_0\", models[2]), \n",
    "                 t2)\n",
    "\n",
    "\n",
    "plant.Finalize()\n",
    "\n",
    "idx = 0\n",
    "q0 = [0.0, 0.0]\n",
    "# q_low  = [-1.7, -1.7, 0]\n",
    "# q_high = [1.7, 1.7,  0]\n",
    "eps = 0# 1e-3\n",
    "val = 1.7\n",
    "q_low  = [-val+eps, -val+eps, 0]\n",
    "q_high = [val-eps, val-eps,  0]\n",
    "# set the joint limits of the plant\n",
    "for model in models:\n",
    "    for joint_index in plant.GetJointIndices(model):\n",
    "        joint = plant.get_mutable_joint(joint_index)\n",
    "        if isinstance(joint, RevoluteJoint):\n",
    "            joint.set_default_angle(q0[idx])\n",
    "            joint.set_position_limits(lower_limits= np.array([q_low[idx]]), upper_limits= np.array([q_high[idx]]))\n",
    "            idx += 1\n",
    "        \n",
    "# construct the RationalForwardKinematics of this plant. This object handles the\n",
    "# computations for the forward kinematics in the tangent-configuration space\n",
    "Ratfk = RationalForwardKinematics(plant)\n",
    "\n",
    "# the point about which we will take the stereographic projections\n",
    "q_star = np.zeros(3)\n",
    "\n",
    "#compute limits in t-space\n",
    "limits_t = []\n",
    "for q in [q_low, q_high]:\n",
    "    limits_t.append(Ratfk.ComputeTValue(np.array(q), q_star)[:2])\n",
    "\n",
    "do_viz = True\n",
    "\n",
    "# This line builds the visualization. Change the viz_role to Role.kIllustration if you\n",
    "# want to see the plant with its illustrated geometry or to Role.kProximity\n",
    "visualizer = IrisPlantVisualizer(plant, builder, scene_graph, viz_role=Role.kIllustration)\n",
    "diagram = visualizer.diagram\n",
    "\n",
    "# This line will run marching cubes to generate a mesh of the C-space obstacle\n",
    "# Increase N to increase the resolution of the C-space obstacle.\n"
   ]
  },
  {
   "cell_type": "code",
   "execution_count": 5,
   "metadata": {},
   "outputs": [
    {
     "data": {
      "text/plain": [
       "array([[0., 0., 0., ..., 0., 0., 0.],\n",
       "       [0., 0., 0., ..., 0., 0., 0.],\n",
       "       [0., 0., 0., ..., 0., 0., 0.],\n",
       "       ...,\n",
       "       [0., 0., 0., ..., 0., 0., 0.],\n",
       "       [0., 0., 0., ..., 0., 0., 0.],\n",
       "       [0., 0., 0., ..., 0., 0., 0.]])"
      ]
     },
     "execution_count": 5,
     "metadata": {},
     "output_type": "execute_result"
    }
   ],
   "source": [
    "visualizer.visualize_collision_constraint2d(factor = 1.2, num_points = 100)"
   ]
  },
  {
   "cell_type": "code",
   "execution_count": 13,
   "metadata": {},
   "outputs": [],
   "source": [
    "visualizer.meshcat2.Set2dRenderMode(RigidTransform(RotationMatrix.MakeZRotation(0), np.array([0,0,1])))\n"
   ]
  },
  {
   "cell_type": "markdown",
   "metadata": {},
   "source": [
    "## Set up the sliders so we can move the plant around manually"
   ]
  },
  {
   "cell_type": "code",
   "execution_count": 14,
   "metadata": {
    "scrolled": false
   },
   "outputs": [
    {
     "data": {
      "application/vnd.jupyter.widget-view+json": {
       "model_id": "d456c39d7bf2433bbec86008b41d3fdb",
       "version_major": 2,
       "version_minor": 0
      },
      "text/plain": [
       "FloatSlider(value=0.0, description='q0', max=1.7, min=-1.7)"
      ]
     },
     "metadata": {},
     "output_type": "display_data"
    },
    {
     "data": {
      "application/vnd.jupyter.widget-view+json": {
       "model_id": "a291313fef564adda5a0f23cc72a48b5",
       "version_major": 2,
       "version_minor": 0
      },
      "text/plain": [
       "FloatSlider(value=0.0, description='q1', max=1.7, min=-1.7)"
      ]
     },
     "metadata": {},
     "output_type": "display_data"
    }
   ],
   "source": [
    "sliders = []\n",
    "sliders.append(widgets.FloatSlider(min=q_low[0], max=q_high[0], value=0, description='q0'))\n",
    "sliders.append(widgets.FloatSlider(min=q_low[1], max=q_high[1], value=0, description='q1'))\n",
    "# sliders.append(widgets.FloatSlider(min=q_low[2], max=q_high[2], value=0, description='q2'))\n",
    "\n",
    "q = q0.copy()\n",
    "def handle_slider_change(change, idx):\n",
    "    q[idx] = change['new']\n",
    "    visualizer.showres(q)\n",
    "    visualizer.visualize_planes()\n",
    "    \n",
    "idx = 0\n",
    "for slider in sliders:\n",
    "    slider.observe(partial(handle_slider_change, idx = idx), names='value')\n",
    "    idx+=1\n",
    "\n",
    "for slider in sliders:\n",
    "    display(slider)\n",
    "\n",
    "\n",
    "# visualizer.jupyter_cell()"
   ]
  },
  {
   "cell_type": "code",
   "execution_count": 15,
   "metadata": {
    "scrolled": true
   },
   "outputs": [],
   "source": [
    "# filter fused joints self collisions so they don't interfere with collision engine\n",
    "digaram = visualizer.diagram\n",
    "context = visualizer.diagram_context\n",
    "sg_context = scene_graph.GetMyContextFromRoot(context)\n",
    "inspector = scene_graph.model_inspector()\n",
    "\n",
    "pairs = scene_graph.get_query_output_port().Eval(sg_context).inspector().GetCollisionCandidates()\n",
    "\n",
    "gids = [gid for gid in inspector.GetGeometryIds(GeometrySet(inspector.GetAllGeometryIds()), Role.kProximity)]\n",
    "get_name_of_gid = lambda gid : inspector.GetName(gid)\n",
    "gids.sort(key=get_name_of_gid)\n",
    "right_sweeper_gids = [gid for gid in gids if \"right_sweeper::\" in get_name_of_gid(gid)]\n",
    "left_sweeper_gids = [gid for gid in gids if \"left_sweeper::\" in get_name_of_gid(gid)]\n",
    "\n",
    "right_sweeper_fused_col_geom = right_sweeper_gids[2:]\n",
    "right_sweeper_fused_set = GeometrySet(right_sweeper_fused_col_geom)\n",
    "left_sweeper_fused_col_geom = left_sweeper_gids[4:]\n",
    "left_sweeper_fused_set = GeometrySet(left_sweeper_fused_col_geom)\n",
    "scene_graph.collision_filter_manager()\\\n",
    "            .Apply(CollisionFilterDeclaration().ExcludeWithin(right_sweeper_fused_set))\n",
    "scene_graph.collision_filter_manager()\\\n",
    "            .Apply(CollisionFilterDeclaration().ExcludeWithin(left_sweeper_fused_set))\n",
    "\n",
    "right_sweeper_end_gid = right_sweeper_gids[-1]\n",
    "left_sweeper_end_gid = left_sweeper_gids[-1]\n",
    "id_pairs_of_interest = [(right_sweeper_end_gid, left_sweeper_end_gid),\n",
    "                       ]\n",
    "visualizer.collision_pairs_of_interest = id_pairs_of_interest\n"
   ]
  },
  {
   "cell_type": "markdown",
   "metadata": {},
   "source": [
    "# Setup IRIS Options and Generate Regions"
   ]
  },
  {
   "cell_type": "code",
   "execution_count": 16,
   "metadata": {},
   "outputs": [],
   "source": [
    "# Some examples of some seed points which give large regions using the\n",
    "# non-linear programming approach to IRIS described in Algorithm 3\n",
    "seed_points_q = np.array([   [0.0, 0],\n",
    "                              [0.7, -0.9],\n",
    "                              [-0.5, -0.5],\n",
    "                              [0.4,-1.3]\n",
    "                              ])\n",
    "seed_points = np.array([Ratfk.ComputeTValue(seed_points_q[idx], np.zeros((2,)))\\\n",
    "                        for idx in range(seed_points_q.shape[0])])\n",
    "if do_viz:\n",
    "    visualizer.plot_seedpoints(seed_points)\n"
   ]
  },
  {
   "cell_type": "code",
   "execution_count": 17,
   "metadata": {},
   "outputs": [
    {
     "name": "stderr",
     "output_type": "stream",
     "text": [
      "WARNING:drake:Ignoring Meshcat http request for /static/\n"
     ]
    }
   ],
   "source": [
    "regions = []\n",
    "ellipses = []\n",
    "\n",
    "iris_options = IrisOptionsRationalSpace()\n",
    "iris_options.require_sample_point_is_contained = True\n",
    "iris_options.iteration_limit = 20\n",
    "iris_options.configuration_space_margin = 1e-5\n",
    "iris_options.max_faces_per_collision_pair = 60\n",
    "iris_options.termination_threshold = -1\n",
    "iris_options.q_star = np.zeros(2)\n",
    "iris_options.relative_termination_threshold = 0.05\n",
    "iris_options.enable_ibex = False\n",
    "\n",
    "def promote_region_to_3d(region, width = 0.2):\n",
    "    A = block_diag(region.A(), np.array([-1,1])[:, np.newaxis])\n",
    "    b = np.append(region.b(), width*np.ones(2))\n",
    "\n",
    "    return HPolyhedron(A,b)\n",
    "    \n",
    "regions_3d = []\n",
    "\n",
    "for i, s in enumerate(seed_points):\n",
    "    q = Ratfk.ComputeQValue(s, np.zeros((2,)))\n",
    "    plant.SetPositions(plant.GetMyMutableContextFromRoot(context), q)\n",
    "    r = IrisInRationalConfigurationSpace(plant, plant.GetMyContextFromRoot(context), iris_options)\n",
    "    regions.append(r)\n",
    "    regions_3d.append(promote_region_to_3d(r))\n",
    "    ellipses.append(r.MaximumVolumeInscribedEllipsoid())\n",
    "    \n",
    "# chosen for colorblind compatability\n",
    "colors_dict = {\n",
    "    0: (144,144,144), #grayish\n",
    "    1:(30,136,229), # bluish\n",
    "    2: (255, 193, 7), # gold\n",
    "    3: (0, 140, 6), # green    \n",
    "}\n",
    "if do_viz:\n",
    "    visualizer.plot_regions(regions,\n",
    "                            ellipses=ellipses,\n",
    "                            region_suffix='_original',\n",
    "                            colors = list(colors_dict.values()),\n",
    "                            wireframe = False,\n",
    "                           opacity = 0.2)"
   ]
  },
  {
   "cell_type": "markdown",
   "metadata": {},
   "source": [
    "# Certify regions"
   ]
  },
  {
   "cell_type": "code",
   "execution_count": 19,
   "metadata": {},
   "outputs": [],
   "source": [
    "cspace_free_region_certifier = rational_forward_kinematics.CspaceFreeRegion(diagram, plant, scene_graph,\n",
    "                                   rational_forward_kinematics.SeparatingPlaneOrder.kAffine,\n",
    "                                   rational_forward_kinematics.CspaceRegionType.kGenericPolytope)\n",
    "filtered_collision_pairs = set()\n",
    "solver_options = mp.SolverOptions()\n",
    "# make the solver verbose\n",
    "solver_options.SetOption(mp.CommonSolverOption.kPrintToConsole, 0)"
   ]
  },
  {
   "cell_type": "markdown",
   "metadata": {},
   "source": [
    "## first search for a minimal, uniform contraction of a proposed region which can be certified"
   ]
  },
  {
   "cell_type": "code",
   "execution_count": 20,
   "metadata": {},
   "outputs": [
    {
     "name": "stderr",
     "output_type": "stream",
     "text": [
      "INFO:drake:Lagrangian SOS takes 2.164705991744995 seconds\n",
      "INFO:drake:max(power(det(P), 1/2))=0.23861992565308704, solver_time 0.00718998908996582\n"
     ]
    },
    {
     "name": "stdout",
     "output_type": "stream",
     "text": [
      "0\n",
      "-0.08152564461971568\n"
     ]
    },
    {
     "name": "stderr",
     "output_type": "stream",
     "text": [
      "INFO:drake:search d is successful = false\n",
      "WARNING:drake:Find Lagrangian failed\n",
      "INFO:drake:Lagrangian SOS takes 0.3724210262298584 seconds\n"
     ]
    },
    {
     "name": "stdout",
     "output_type": "stream",
     "text": [
      "1\n",
      "-0.012830217932840116\n"
     ]
    },
    {
     "name": "stderr",
     "output_type": "stream",
     "text": [
      "INFO:drake:max(power(det(P), 1/2))=0.12491096616627359, solver_time 0.02393198013305664\n",
      "INFO:drake:search d is successful = true\n",
      "INFO:drake:max(power(det(P), 1/2))=0.12836413422742318, solver_time 0.023308992385864258\n",
      "INFO:drake:Lagrangian SOS takes 0.37132906913757324 seconds\n",
      "INFO:drake:max(power(det(P), 1/2))=0.14259600908668854, solver_time 0.026459932327270508\n",
      "INFO:drake:search d is successful = true\n",
      "INFO:drake:max(power(det(P), 1/2))=0.1442693978171966, solver_time 0.011546134948730469\n",
      "INFO:drake:epsilon=-0.006415108966420058 is feasible\n",
      "INFO:drake:reset eps_min=0.0, eps_max=0.00641510849094501\n",
      "INFO:drake:Lagrangian SOS takes 0.3213918209075928 seconds\n",
      "INFO:drake:max(power(det(P), 1/2))=0.15222767460049189, solver_time 0.0081939697265625\n",
      "INFO:drake:search d is successful = false\n",
      "INFO:drake:epsilon=0.003207554245472505 is feasible\n",
      "INFO:drake:reset eps_min=0.0, eps_max=0.0032075542454725325\n",
      "INFO:drake:Lagrangian SOS takes 0.38194799423217773 seconds\n",
      "INFO:drake:max(power(det(P), 1/2))=0.1560652616803194, solver_time 0.013849020004272461\n",
      "INFO:drake:search d is successful = false\n",
      "INFO:drake:epsilon=0.0016037771227362663 is feasible\n",
      "INFO:drake:reset eps_min=0.0, eps_max=0.001603777122736405\n",
      "WARNING:drake:Find Lagrangian failed\n",
      "INFO:drake:epsilon=0.0008018885613682025 is infeasible\n",
      "WARNING:drake:Find Lagrangian failed\n",
      "INFO:drake:epsilon=0.00040094428068410126 is infeasible\n",
      "INFO:drake:Lagrangian SOS takes 0.40154290199279785 seconds\n",
      "INFO:drake:max(power(det(P), 1/2))=0.15653886125965405, solver_time 0.0053141117095947266\n",
      "INFO:drake:search d is successful = false\n",
      "INFO:drake:epsilon=0.00020047214034205063 is feasible\n",
      "INFO:drake:reset eps_min=0.0, eps_max=0.0002004721403420784\n",
      "INFO:drake:Lagrangian SOS takes 0.3930089473724365 seconds\n",
      "INFO:drake:max(power(det(P), 1/2))=0.15677516761658114, solver_time 0.004745006561279297\n",
      "INFO:drake:search d is successful = false\n",
      "INFO:drake:epsilon=0.0001002360701710392 is feasible\n",
      "INFO:drake:reset eps_min=0.0, eps_max=0.00010023607017117797\n",
      "INFO:drake:Lagrangian SOS takes 0.4425630569458008 seconds\n",
      "INFO:drake:max(power(det(P), 1/2))=0.1568931980933369, solver_time 0.006466865539550781\n",
      "INFO:drake:search d is successful = false\n",
      "INFO:drake:epsilon=5.0118035085588986e-05 is feasible\n",
      "INFO:drake:reset eps_min=0.0, eps_max=5.0118035085588986e-05\n",
      "INFO:drake:Lagrangian SOS takes 0.4528079032897949 seconds\n",
      "INFO:drake:max(power(det(P), 1/2))=0.15695218277755726, solver_time 0.006713151931762695\n",
      "INFO:drake:search d is successful = false\n",
      "INFO:drake:epsilon=2.5059017542794493e-05 is feasible\n",
      "INFO:drake:reset eps_min=0.0, eps_max=2.5059017542794493e-05\n",
      "INFO:drake:Lagrangian SOS takes 0.528939962387085 seconds\n",
      "INFO:drake:max(power(det(P), 1/2))=0.15698166771635785, solver_time 0.0051059722900390625\n",
      "INFO:drake:search d is successful = false\n",
      "INFO:drake:epsilon=1.2529508771397246e-05 is feasible\n",
      "INFO:drake:reset eps_min=0.0, eps_max=1.2529508771397246e-05\n",
      "INFO:drake:Lagrangian SOS takes 0.5384330749511719 seconds\n",
      "INFO:drake:max(power(det(P), 1/2))=0.15699640827150568, solver_time 0.00578618049621582\n",
      "INFO:drake:search d is successful = false\n",
      "INFO:drake:epsilon=6.264754385698623e-06 is feasible\n",
      "INFO:drake:reset eps_min=0.0, eps_max=6.264754385698623e-06\n",
      "INFO:drake:Lagrangian SOS takes 0.5032310485839844 seconds\n",
      "INFO:drake:max(power(det(P), 1/2))=0.15700377807006774, solver_time 0.01714801788330078\n",
      "INFO:drake:search d is successful = false\n",
      "INFO:drake:epsilon=3.1323771928493116e-06 is feasible\n",
      "INFO:drake:reset eps_min=0.0, eps_max=3.132377192960334e-06\n",
      "WARNING:drake:Find Lagrangian failed\n",
      "INFO:drake:epsilon=1.566188596480167e-06 is infeasible\n",
      "INFO:drake:Lagrangian SOS takes 0.5035979747772217 seconds\n",
      "INFO:drake:max(power(det(P), 1/2))=0.15700562047091002, solver_time 0.01890707015991211\n",
      "INFO:drake:search d is successful = false\n",
      "INFO:drake:epsilon=7.830942982400835e-07 is feasible\n",
      "INFO:drake:reset eps_min=0.0, eps_max=7.830942982955946e-07\n",
      "WARNING:drake:Find Lagrangian failed\n",
      "INFO:drake:epsilon=3.915471491477973e-07 is infeasible\n",
      "INFO:drake:max(power(det(P), 1/2))=0.15700562047091002, solver_time 0.036695003509521484\n",
      "INFO:drake:Lagrangian SOS takes 1.042504072189331 seconds\n",
      "INFO:drake:max(power(det(P), 1/2))=0.4097609256809514, solver_time 0.017096996307373047\n"
     ]
    },
    {
     "name": "stdout",
     "output_type": "stream",
     "text": [
      "2\n",
      "-0.11833262905034131\n"
     ]
    },
    {
     "name": "stderr",
     "output_type": "stream",
     "text": [
      "INFO:drake:search d is successful = true\n",
      "INFO:drake:max(power(det(P), 1/2))=0.40976210984997363, solver_time 0.03503108024597168\n",
      "INFO:drake:Lagrangian SOS takes 0.8010959625244141 seconds\n",
      "INFO:drake:max(power(det(P), 1/2))=0.4033051021240969, solver_time 0.02555084228515625\n",
      "INFO:drake:search d is successful = true\n",
      "INFO:drake:max(power(det(P), 1/2))=0.40330575898697996, solver_time 0.020200014114379883\n"
     ]
    },
    {
     "name": "stdout",
     "output_type": "stream",
     "text": [
      "3\n",
      "-0.15240062383882869\n"
     ]
    },
    {
     "ename": "TypeError",
     "evalue": "plot_regions() got an unexpected keyword argument 'randomize_colors'",
     "output_type": "error",
     "traceback": [
      "\u001b[0;31m---------------------------------------------------------------------------\u001b[0m",
      "\u001b[0;31mTypeError\u001b[0m                                 Traceback (most recent call last)",
      "Input \u001b[0;32mIn [20]\u001b[0m, in \u001b[0;36m<cell line: 37>\u001b[0;34m()\u001b[0m\n\u001b[1;32m     36\u001b[0m     bisect_regions\u001b[38;5;241m.\u001b[39mappend(promote_region_to_3d(certified_region_contraction))\n\u001b[1;32m     37\u001b[0m \u001b[38;5;28;01mif\u001b[39;00m do_viz:\n\u001b[0;32m---> 38\u001b[0m     \u001b[43mvisualizer\u001b[49m\u001b[38;5;241;43m.\u001b[39;49m\u001b[43mplot_regions\u001b[49m\u001b[43m(\u001b[49m\u001b[43mbisect_regions\u001b[49m\u001b[43m,\u001b[49m\u001b[43m \u001b[49m\u001b[43mellipses\u001b[49m\u001b[38;5;241;43m=\u001b[39;49m\u001b[38;5;28;43;01mNone\u001b[39;49;00m\u001b[43m,\u001b[49m\n\u001b[1;32m     39\u001b[0m \u001b[43m                            \u001b[49m\u001b[43mregion_suffix\u001b[49m\u001b[38;5;241;43m=\u001b[39;49m\u001b[38;5;124;43m'\u001b[39;49m\u001b[38;5;124;43m_certified_region_contraction\u001b[39;49m\u001b[38;5;124;43m'\u001b[39;49m\u001b[43m,\u001b[49m\n\u001b[1;32m     40\u001b[0m \u001b[43m                            \u001b[49m\u001b[43mrandomize_colors\u001b[49m\u001b[43m \u001b[49m\u001b[38;5;241;43m=\u001b[39;49m\u001b[43m \u001b[49m\u001b[38;5;28;43;01mTrue\u001b[39;49;00m\u001b[43m,\u001b[49m\n\u001b[1;32m     41\u001b[0m \u001b[43m                            \u001b[49m\u001b[43mwireframe\u001b[49m\u001b[43m \u001b[49m\u001b[38;5;241;43m=\u001b[39;49m\u001b[43m \u001b[49m\u001b[38;5;28;43;01mFalse\u001b[39;49;00m\u001b[43m)\u001b[49m\n",
      "\u001b[0;31mTypeError\u001b[0m: plot_regions() got an unexpected keyword argument 'randomize_colors'"
     ]
    }
   ],
   "source": [
    "i = 0\n",
    "bisect_regions = []\n",
    "bisect_solutions = []\n",
    "for i in range(len(regions)):\n",
    "    print(i)\n",
    "    region_to_certify = regions[i]\n",
    "    seed_point = seed_points[i,:]\n",
    "\n",
    "\n",
    "    binary_search_options = rational_forward_kinematics.BinarySearchOption()\n",
    "    binary_search_options.epsilon_max = 0 # it is very unlikely that we can find a uniform expansion of the current region\n",
    "    binary_search_options.max_iters = 15\n",
    "    binary_search_option.gap_tol = 1e-8\n",
    "    # speed up the bisection search by taking non-uniform steps when possible\n",
    "    binary_search_options.search_d = True\n",
    "    # find the smallest e such that At <= b + e1 still contains our seed point.\n",
    "    binary_search_options.epsilon_min = rational_forward_kinematics.FindEpsilonLower(region_to_certify.A(),\n",
    "                                                                                     region_to_certify.b(),\n",
    "                                                                                     limits_t[0], limits_t[1],\n",
    "                                                                                     seed_point)\n",
    "    #use as many threads as possible to speed up computation\n",
    "#     binary_search_options.num_threads = 1\n",
    "\n",
    "    certified_region_contraction_solution = cspace_free_region_certifier.CspacePolytopeBinarySearch(\n",
    "                                                                     q_star[:2],\n",
    "                                                                     filtered_collision_pairs,\n",
    "                                                                     region_to_certify.A(),\n",
    "                                                                     region_to_certify.b(),\n",
    "                                                                     binary_search_options, \n",
    "                                                                     solver_options,\n",
    "                                                                     seed_point)\n",
    "    bisect_solutions.append(certified_region_contraction_solution)\n",
    "    certified_region_contraction = HPolyhedron(certified_region_contraction_solution.C,\n",
    "                                               certified_region_contraction_solution.d)\n",
    "    \n",
    "    bisect_regions.append(certified_region_contraction)\n",
    "if do_viz:\n",
    "    visualizer.plot_regions(bisect_regions, ellipses=None,\n",
    "                            region_suffix='_certified_region_contraction',\n",
    "                            randomize_colors = True,\n",
    "                            wireframe = False)"
   ]
  },
  {
   "cell_type": "code",
   "execution_count": 13,
   "metadata": {},
   "outputs": [],
   "source": [
    "visualizer.certified_region_solution_list = bisect_solutions"
   ]
  },
  {
   "cell_type": "code",
   "execution_count": 1,
   "metadata": {},
   "outputs": [
    {
     "ename": "ImportError",
     "evalue": "cannot import name 'BsplineTrajectoryThroughUnionOfHPolyhedra' from 'pydrake.all' (/home/amice/.cache/bazel/_bazel_amice/32fdbbecfa8a7ce8feece95e48c42006/execroot/drake/bazel-out/k8-opt/bin/C_Iris_Examples/pinball_iiwas_2d_motion_planning.runfiles/drake/bindings/pydrake/all.py)",
     "output_type": "error",
     "traceback": [
      "\u001b[0;31m---------------------------------------------------------------------------\u001b[0m",
      "\u001b[0;31mImportError\u001b[0m                               Traceback (most recent call last)",
      "Input \u001b[0;32mIn [1]\u001b[0m, in \u001b[0;36m<cell line: 1>\u001b[0;34m()\u001b[0m\n\u001b[0;32m----> 1\u001b[0m \u001b[38;5;28;01mfrom\u001b[39;00m \u001b[38;5;21;01mpydrake\u001b[39;00m\u001b[38;5;21;01m.\u001b[39;00m\u001b[38;5;21;01mall\u001b[39;00m \u001b[38;5;28;01mimport\u001b[39;00m BsplineTrajectoryThroughUnionOfHPolyhedra\n\u001b[1;32m      3\u001b[0m start_point \u001b[38;5;241m=\u001b[39m np\u001b[38;5;241m.\u001b[39marray([\u001b[38;5;241m0\u001b[39m,\u001b[38;5;241m0.\u001b[39m])\n\u001b[1;32m      4\u001b[0m end_point \u001b[38;5;241m=\u001b[39m np\u001b[38;5;241m.\u001b[39marray([\u001b[38;5;241m1\u001b[39m,\u001b[38;5;241m1\u001b[39m])\n",
      "\u001b[0;31mImportError\u001b[0m: cannot import name 'BsplineTrajectoryThroughUnionOfHPolyhedra' from 'pydrake.all' (/home/amice/.cache/bazel/_bazel_amice/32fdbbecfa8a7ce8feece95e48c42006/execroot/drake/bazel-out/k8-opt/bin/C_Iris_Examples/pinball_iiwas_2d_motion_planning.runfiles/drake/bindings/pydrake/all.py)"
     ]
    }
   ],
   "source": [
    "from pydrake.all import BsplineTrajectoryThroughUnionOfHPolyhedra\n",
    "\n",
    "start_point = np.array([0,0.])\n",
    "end_point = np.array([1,1])"
   ]
  },
  {
   "cell_type": "code",
   "execution_count": null,
   "metadata": {},
   "outputs": [],
   "source": []
  }
 ],
 "metadata": {
  "interpreter": {
   "hash": "31f2aee4e71d21fbe5cf8b01ff0e069b9275f58929596ceb00d14d90e3e16cd6"
  },
  "kernelspec": {
   "display_name": "Python 3",
   "language": "python",
   "name": "python3"
  },
  "language_info": {
   "codemirror_mode": {
    "name": "ipython",
    "version": 3
   },
   "file_extension": ".py",
   "mimetype": "text/x-python",
   "name": "python",
   "nbconvert_exporter": "python",
   "pygments_lexer": "ipython3",
   "version": "3.8.10"
  }
 },
 "nbformat": 4,
 "nbformat_minor": 2
}
