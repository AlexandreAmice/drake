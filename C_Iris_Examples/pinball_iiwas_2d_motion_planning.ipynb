{
 "cells": [
  {
   "cell_type": "code",
   "execution_count": 56,
   "metadata": {},
   "outputs": [
    {
     "name": "stdout",
     "output_type": "stream",
     "text": [
      "The autoreload extension is already loaded. To reload it, use:\n",
      "  %reload_ext autoreload\n"
     ]
    }
   ],
   "source": [
    "%load_ext autoreload"
   ]
  },
  {
   "cell_type": "code",
   "execution_count": 57,
   "metadata": {},
   "outputs": [],
   "source": [
    "import numpy as np\n",
    "from functools import partial\n",
    "import visualizations_utils as viz_utils\n",
    "from iris_plant_visualizer2 import IrisPlantVisualizer\n",
    "import ipywidgets as widgets\n",
    "from IPython.display import display\n",
    "from scipy.linalg import block_diag\n",
    "import matplotlib.pyplot as plt\n",
    "import cdd\n",
    "from pathlib import Path\n",
    "import os"
   ]
  },
  {
   "cell_type": "code",
   "execution_count": 58,
   "metadata": {},
   "outputs": [],
   "source": [
    "#pydrake imports\n",
    "from pydrake.common import FindResourceOrThrow\n",
    "from pydrake.multibody.parsing import Parser\n",
    "from pydrake.multibody.plant import AddMultibodyPlantSceneGraph\n",
    "from pydrake.systems.framework import DiagramBuilder\n",
    "from pydrake.geometry import Role, GeometrySet, CollisionFilterDeclaration\n",
    "from pydrake.solvers import mathematicalprogram as mp\n",
    "from pydrake.all import RigidTransform, RollPitchYaw, RevoluteJoint\n",
    "from pydrake.all import RotationMatrix\n",
    "import pydrake.symbolic as sym\n",
    "import time\n",
    "from pydrake.all import CspaceFreeLine\n",
    "import pydrake.multibody.rational_forward_kinematics as rational_forward_kinematics\n",
    "from pydrake.all import VerificationOption\n",
    "\n",
    "from pydrake.all import RationalForwardKinematics\n",
    "from pydrake.geometry.optimization import IrisOptionsRationalSpace, IrisInRationalConfigurationSpace, HPolyhedron, Hyperellipsoid"
   ]
  },
  {
   "cell_type": "code",
   "execution_count": 59,
   "metadata": {},
   "outputs": [],
   "source": [
    "import logging\n",
    "drake_logger = logging.getLogger(\"drake\")\n",
    "drake_logger.setLevel(logging.DEBUG)"
   ]
  },
  {
   "cell_type": "markdown",
   "metadata": {},
   "source": [
    "# Build and set up the visualization the plant and the visualization of the C-space obstacle\n",
    "\n",
    "Note that running this cell multiple times will establish multiple meshcat instances which can fill up your memory. It is a good idea to call \"pkill -f meshcat\" from the command line before re-running this cell\n"
   ]
  },
  {
   "cell_type": "code",
   "execution_count": 60,
   "metadata": {},
   "outputs": [
    {
     "name": "stderr",
     "output_type": "stream",
     "text": [
      "INFO:drake:Meshcat listening for connections at http://localhost:7006\n",
      "INFO:drake:Meshcat listening for connections at http://localhost:7007\n"
     ]
    }
   ],
   "source": [
    "builder = DiagramBuilder()\n",
    "plant, scene_graph = AddMultibodyPlantSceneGraph(builder, time_step=0.001)\n",
    "parser = Parser(plant)\n",
    "oneDOF_iiwa_asset = FindResourceOrThrow(\"drake/C_Iris_Examples/assets/oneDOF_iiwa7_with_box_collision.sdf\")\n",
    "\n",
    "box_asset = FindResourceOrThrow(\"drake/C_Iris_Examples/assets/box_small.urdf\")\n",
    "\n",
    "models = []\n",
    "models.append(parser.AddModelFromFile(box_asset))\n",
    "models.append(parser.AddModelFromFile(oneDOF_iiwa_asset, 'right_sweeper'))\n",
    "models.append(parser.AddModelFromFile(oneDOF_iiwa_asset, 'left_sweeper'))\n",
    "\n",
    "\n",
    "\n",
    "\n",
    "locs = [[0.,0.,0.],\n",
    "        [0,1,0.85],\n",
    "        [0,-1,0.55]]\n",
    "locs += np.array([0,0,-0.70])\n",
    "plant.WeldFrames(plant.world_frame(), \n",
    "                 plant.GetFrameByName(\"base\", models[0]),\n",
    "                 RigidTransform(locs[0]))\n",
    "\n",
    "t1 = RigidTransform(RollPitchYaw([np.pi/2, 0, 0]).ToRotationMatrix(), locs[1])@RigidTransform(RollPitchYaw([0, 0, np.pi/2]), np.zeros(3))\n",
    "t2 = RigidTransform(RollPitchYaw([-np.pi/2, 0, 0]).ToRotationMatrix(), locs[2])@RigidTransform(RollPitchYaw([0, 0, np.pi/2]), np.zeros(3))\n",
    "plant.WeldFrames(plant.world_frame(), \n",
    "                 plant.GetFrameByName(\"iiwa_oneDOF_link_0\", models[1]), \n",
    "                 t1)\n",
    "plant.WeldFrames(plant.world_frame(), \n",
    "                 plant.GetFrameByName(\"iiwa_oneDOF_link_0\", models[2]), \n",
    "                 t2)\n",
    "\n",
    "\n",
    "plant.Finalize()\n",
    "\n",
    "idx = 0\n",
    "q0 = [0.0, 0.0]\n",
    "# q_low  = [-1.7, -1.7, 0]\n",
    "# q_high = [1.7, 1.7,  0]\n",
    "eps = 0# 1e-3\n",
    "val = 1.7\n",
    "q_low  = [-val+eps, -val+eps, 0]\n",
    "q_high = [val-eps, val-eps,  0]\n",
    "# set the joint limits of the plant\n",
    "for model in models:\n",
    "    for joint_index in plant.GetJointIndices(model):\n",
    "        joint = plant.get_mutable_joint(joint_index)\n",
    "        if isinstance(joint, RevoluteJoint):\n",
    "            joint.set_default_angle(q0[idx])\n",
    "            joint.set_position_limits(lower_limits= np.array([q_low[idx]]), upper_limits= np.array([q_high[idx]]))\n",
    "            idx += 1\n",
    "        \n",
    "# construct the RationalForwardKinematics of this plant. This object handles the\n",
    "# computations for the forward kinematics in the tangent-configuration space\n",
    "Ratfk = RationalForwardKinematics(plant)\n",
    "\n",
    "# the point about which we will take the stereographic projections\n",
    "q_star = np.zeros(3)\n",
    "\n",
    "#compute limits in t-space\n",
    "limits_t = []\n",
    "for q in [q_low, q_high]:\n",
    "    limits_t.append(Ratfk.ComputeTValue(np.array(q), q_star)[:2])\n",
    "\n",
    "do_viz = True\n",
    "\n",
    "# This line builds the visualization. Change the viz_role to Role.kIllustration if you\n",
    "# want to see the plant with its illustrated geometry or to Role.kProximity\n",
    "visualizer = IrisPlantVisualizer(plant, builder, scene_graph, viz_role=Role.kIllustration)\n",
    "diagram = visualizer.diagram\n",
    "\n",
    "# This line will run marching cubes to generate a mesh of the C-space obstacle\n",
    "# Increase N to increase the resolution of the C-space obstacle.\n"
   ]
  },
  {
   "cell_type": "code",
   "execution_count": 61,
   "metadata": {},
   "outputs": [
    {
     "data": {
      "text/plain": [
       "array([[0., 0., 0., ..., 0., 0., 0.],\n",
       "       [0., 0., 0., ..., 0., 0., 0.],\n",
       "       [0., 0., 0., ..., 0., 0., 0.],\n",
       "       ...,\n",
       "       [0., 0., 0., ..., 0., 0., 0.],\n",
       "       [0., 0., 0., ..., 0., 0., 0.],\n",
       "       [0., 0., 0., ..., 0., 0., 0.]])"
      ]
     },
     "execution_count": 61,
     "metadata": {},
     "output_type": "execute_result"
    }
   ],
   "source": [
    "visualizer.visualize_collision_constraint2d(factor = 1.2, num_points = 100)"
   ]
  },
  {
   "cell_type": "code",
   "execution_count": 62,
   "metadata": {},
   "outputs": [],
   "source": [
    "visualizer.meshcat2.Set2dRenderMode(RigidTransform(RotationMatrix.MakeZRotation(0), np.array([0,0,1])))\n",
    "visualizer.meshcat1.Set2dRenderMode(RigidTransform(RotationMatrix.MakeZRotation(0), np.array([1,0,0])))"
   ]
  },
  {
   "cell_type": "code",
   "execution_count": 63,
   "metadata": {},
   "outputs": [],
   "source": [
    "visualizer.meshcat2.Delete(\"/prm\")"
   ]
  },
  {
   "cell_type": "code",
   "execution_count": 64,
   "metadata": {},
   "outputs": [
    {
     "name": "stdout",
     "output_type": "stream",
     "text": [
      "[PRM] Samples 0\n",
      "[PRM] Nodes connected: 0\n"
     ]
    }
   ],
   "source": [
    "# draw prm\n",
    "import prm\n",
    "from pydrake.all import Rgba\n",
    "\n",
    "# limits = [np.array(t_low), np.array(q_high)]\n",
    "\n",
    "visualizer.meshcat2.Delete(\"/prm\")\n",
    "\n",
    "def plot_prm(nodes, adjacency_list, width, color = Rgba(0.0, 0.0, 1, 1), prefix = \"\"):\n",
    "    plt_idx = 0\n",
    "    for node_idx in range(nodes.shape[0]):\n",
    "        pos1 = np.append(nodes[node_idx, :],0)\n",
    "        for edge_idx in range(len(adjacency_list[node_idx])): \n",
    "            pos2 = np.append(nodes[adjacency_list[node_idx][edge_idx], :],0)\n",
    "            name = f\"/{prefix}prm/rm/line{plt_idx}\"\n",
    "            visualizer.meshcat2.SetLine(name,  np.hstack([pos1[:,np.newaxis], pos2[:, np.newaxis]]),\n",
    "                                 line_width = width, rgba = color)\n",
    "            plt_idx +=1\n",
    "            \n",
    "plotting_fn_handle = partial(plot_prm, width = 0.01)\n",
    "\n",
    "def collision(pos, col_func_handle):\n",
    "    return col_func_handle(pos[0], pos[1])\n",
    "\n",
    "prm_col_fn_handle = partial(collision, col_func_handle = visualizer.col_func_handle_rational)\n",
    "\n",
    "PRM = prm.PRM( \n",
    "            limits_t,\n",
    "            num_points = 20,\n",
    "            col_func_handle = prm_col_fn_handle,\n",
    "            num_neighbours = 5, \n",
    "            dist_thresh = .5,\n",
    "            num_col_checks = 10,\n",
    "            verbose = True,\n",
    "            plotcallback = plotting_fn_handle\n",
    "            )\n",
    "\n",
    "# PRM.add_start_end(start, target)\n",
    "PRM.plot()\n",
    "tot_num_edges = len(PRM.adjacency_list)* len(PRM.adjacency_list[0])\n",
    "# path, sp_length = PRM.find_shortest_path()\n",
    "\n",
    "# mat = meshcat.geometry.MeshLambertMaterial(color= 0xFFF812 , wireframe=True)\n",
    "# mat.wireframeLinewidth = 2.0\n",
    "# num_waypoints = len(path)\n",
    "# for idx in range(num_waypoints-1):\n",
    "#     vis2['prm']['path']['path' + str(idx)].set_object( meshcat_line(path[idx], path[idx+1],width = 0.01), mat)\n",
    "# traj= utils.PWLinTraj(path, 5.0)"
   ]
  },
  {
   "cell_type": "markdown",
   "metadata": {},
   "source": [
    "## Set up the sliders so we can move the plant around manually"
   ]
  },
  {
   "cell_type": "code",
   "execution_count": 65,
   "metadata": {
    "scrolled": false
   },
   "outputs": [
    {
     "data": {
      "application/vnd.jupyter.widget-view+json": {
       "model_id": "1571dde2a36b4bf694ecfe655733418a",
       "version_major": 2,
       "version_minor": 0
      },
      "text/plain": [
       "FloatSlider(value=0.0, description='q0', max=1.7, min=-1.7)"
      ]
     },
     "metadata": {},
     "output_type": "display_data"
    },
    {
     "data": {
      "application/vnd.jupyter.widget-view+json": {
       "model_id": "ea4f6c8182b04e06b067f5e46536fc5b",
       "version_major": 2,
       "version_minor": 0
      },
      "text/plain": [
       "FloatSlider(value=0.0, description='q1', max=1.7, min=-1.7)"
      ]
     },
     "metadata": {},
     "output_type": "display_data"
    }
   ],
   "source": [
    "sliders = []\n",
    "sliders.append(widgets.FloatSlider(min=q_low[0], max=q_high[0], value=0, description='q0'))\n",
    "sliders.append(widgets.FloatSlider(min=q_low[1], max=q_high[1], value=0, description='q1'))\n",
    "# sliders.append(widgets.FloatSlider(min=q_low[2], max=q_high[2], value=0, description='q2'))\n",
    "\n",
    "q = q0.copy()\n",
    "def handle_slider_change(change, idx):\n",
    "    q[idx] = change['new']\n",
    "    visualizer.showres(q)\n",
    "    visualizer.visualize_planes()\n",
    "    \n",
    "idx = 0\n",
    "for slider in sliders:\n",
    "    slider.observe(partial(handle_slider_change, idx = idx), names='value')\n",
    "    idx+=1\n",
    "\n",
    "for slider in sliders:\n",
    "    display(slider)\n",
    "\n",
    "\n",
    "# visualizer.jupyter_cell()"
   ]
  },
  {
   "cell_type": "code",
   "execution_count": 66,
   "metadata": {
    "scrolled": true
   },
   "outputs": [],
   "source": [
    "# filter fused joints self collisions so they don't interfere with collision engine\n",
    "digaram = visualizer.diagram\n",
    "context = visualizer.diagram_context\n",
    "sg_context = scene_graph.GetMyContextFromRoot(context)\n",
    "inspector = scene_graph.model_inspector()\n",
    "\n",
    "pairs = scene_graph.get_query_output_port().Eval(sg_context).inspector().GetCollisionCandidates()\n",
    "\n",
    "gids = [gid for gid in inspector.GetGeometryIds(GeometrySet(inspector.GetAllGeometryIds()), Role.kProximity)]\n",
    "get_name_of_gid = lambda gid : inspector.GetName(gid)\n",
    "gids.sort(key=get_name_of_gid)\n",
    "right_sweeper_gids = [gid for gid in gids if \"right_sweeper::\" in get_name_of_gid(gid)]\n",
    "left_sweeper_gids = [gid for gid in gids if \"left_sweeper::\" in get_name_of_gid(gid)]\n",
    "\n",
    "right_sweeper_fused_col_geom = right_sweeper_gids[2:]\n",
    "right_sweeper_fused_set = GeometrySet(right_sweeper_fused_col_geom)\n",
    "left_sweeper_fused_col_geom = left_sweeper_gids[4:]\n",
    "left_sweeper_fused_set = GeometrySet(left_sweeper_fused_col_geom)\n",
    "scene_graph.collision_filter_manager()\\\n",
    "            .Apply(CollisionFilterDeclaration().ExcludeWithin(right_sweeper_fused_set))\n",
    "scene_graph.collision_filter_manager()\\\n",
    "            .Apply(CollisionFilterDeclaration().ExcludeWithin(left_sweeper_fused_set))\n",
    "\n",
    "right_sweeper_end_gid = right_sweeper_gids[-1]\n",
    "left_sweeper_end_gid = left_sweeper_gids[-1]\n",
    "id_pairs_of_interest = [(right_sweeper_end_gid, left_sweeper_end_gid),\n",
    "                       ]\n",
    "visualizer.collision_pairs_of_interest = id_pairs_of_interest\n"
   ]
  },
  {
   "cell_type": "code",
   "execution_count": 67,
   "metadata": {},
   "outputs": [
    {
     "name": "stdout",
     "output_type": "stream",
     "text": [
      "Time to construct line certifier = 18.266661882400513s\n"
     ]
    }
   ],
   "source": [
    "t0 = time.time()\n",
    "line_certifier = CspaceFreeLine(diagram, plant, scene_graph,\n",
    "                                rational_forward_kinematics.SeparatingPlaneOrder.kAffine, np.zeros(2),\n",
    "                                set(), VerificationOption()\n",
    "                               )\n",
    "t1 = time.time()\n",
    "print(f\"Time to construct line certifier = {t1-t0}s\")"
   ]
  },
  {
   "cell_type": "code",
   "execution_count": null,
   "metadata": {},
   "outputs": [],
   "source": []
  },
  {
   "cell_type": "code",
   "execution_count": null,
   "metadata": {},
   "outputs": [],
   "source": []
  },
  {
   "cell_type": "code",
   "execution_count": 82,
   "metadata": {},
   "outputs": [
    {
     "name": "stderr",
     "output_type": "stream",
     "text": [
      "INFO:drake:Bindings updated in 0.795 s\n"
     ]
    },
    {
     "name": "stdout",
     "output_type": "stream",
     "text": [
      "[-0.30394811 -0.31353716]\n",
      "Doing 0/100\n"
     ]
    },
    {
     "name": "stderr",
     "output_type": "stream",
     "text": [
      "INFO:drake:Certification checked in  0.267 s\n",
      "INFO:drake:Bindings updated in 0.792 s\n",
      "INFO:drake:Certification checked in  0.225 s\n",
      "INFO:drake:Bindings updated in 0.768 s\n",
      "INFO:drake:Certification checked in  0.231 s\n",
      "INFO:drake:Bindings updated in 0.759 s\n",
      "INFO:drake:Certification checked in  0.316 s\n",
      "INFO:drake:Bindings updated in 0.77 s\n",
      "INFO:drake:Certification checked in  0.255 s\n",
      "INFO:drake:Bindings updated in 0.767 s\n",
      "INFO:drake:Certification checked in  0.218 s\n",
      "INFO:drake:Bindings updated in 0.751 s\n",
      "INFO:drake:Certification checked in  0.209 s\n",
      "INFO:drake:Bindings updated in 0.739 s\n",
      "INFO:drake:Certification checked in  0.362 s\n",
      "INFO:drake:Bindings updated in 0.767 s\n",
      "INFO:drake:Certification checked in  0.231 s\n",
      "INFO:drake:Bindings updated in 0.744 s\n",
      "INFO:drake:Certification checked in  0.212 s\n",
      "INFO:drake:Bindings updated in 0.736 s\n",
      "INFO:drake:Certification checked in  0.198 s\n",
      "INFO:drake:Bindings updated in 0.745 s\n",
      "INFO:drake:Certification checked in  0.24 s\n",
      "INFO:drake:Bindings updated in 0.791 s\n",
      "INFO:drake:Certification checked in  0.203 s\n",
      "INFO:drake:Bindings updated in 0.75 s\n",
      "INFO:drake:Certification checked in  0.205 s\n",
      "INFO:drake:Bindings updated in 0.76 s\n",
      "INFO:drake:Certification checked in  0.2 s\n",
      "INFO:drake:Bindings updated in 0.737 s\n",
      "INFO:drake:Certification checked in  0.195 s\n",
      "INFO:drake:Bindings updated in 0.733 s\n",
      "INFO:drake:Certification checked in  0.194 s\n",
      "INFO:drake:Bindings updated in 0.742 s\n",
      "INFO:drake:Certification checked in  0.211 s\n",
      "INFO:drake:Bindings updated in 0.76 s\n",
      "INFO:drake:Certification checked in  0.198 s\n",
      "INFO:drake:Bindings updated in 0.755 s\n",
      "INFO:drake:Certification checked in  0.21 s\n",
      "INFO:drake:Bindings updated in 0.755 s\n",
      "INFO:drake:Certification checked in  0.21 s\n",
      "INFO:drake:Bindings updated in 0.733 s\n",
      "INFO:drake:Certification checked in  0.211 s\n",
      "INFO:drake:Bindings updated in 0.736 s\n",
      "INFO:drake:Certification checked in  0.191 s\n",
      "INFO:drake:Bindings updated in 0.748 s\n",
      "INFO:drake:Certification checked in  0.195 s\n",
      "INFO:drake:Bindings updated in 0.735 s\n",
      "INFO:drake:Certification checked in  0.362 s\n",
      "INFO:drake:Bindings updated in 0.751 s\n",
      "INFO:drake:Certification checked in  0.398 s\n",
      "INFO:drake:Bindings updated in 0.873 s\n",
      "INFO:drake:Certification checked in  0.262 s\n",
      "INFO:drake:Bindings updated in 0.854 s\n",
      "INFO:drake:Certification checked in  0.451 s\n",
      "INFO:drake:Bindings updated in 0.795 s\n",
      "INFO:drake:Certification checked in  0.333 s\n",
      "INFO:drake:Bindings updated in 0.814 s\n",
      "INFO:drake:Certification checked in  0.456 s\n",
      "INFO:drake:Bindings updated in 0.783 s\n",
      "INFO:drake:Certification checked in  0.386 s\n",
      "INFO:drake:Bindings updated in 0.792 s\n",
      "INFO:drake:Certification checked in  0.41 s\n",
      "INFO:drake:Bindings updated in 0.76 s\n",
      "INFO:drake:Certification checked in  0.217 s\n",
      "INFO:drake:Bindings updated in 0.752 s\n",
      "INFO:drake:Certification checked in  0.247 s\n",
      "INFO:drake:Bindings updated in 0.744 s\n",
      "INFO:drake:Certification checked in  0.228 s\n",
      "INFO:drake:Bindings updated in 0.768 s\n",
      "INFO:drake:Certification checked in  0.348 s\n",
      "INFO:drake:Bindings updated in 0.786 s\n",
      "INFO:drake:Certification checked in  0.249 s\n",
      "INFO:drake:Bindings updated in 0.752 s\n",
      "INFO:drake:Certification checked in  0.202 s\n",
      "INFO:drake:Bindings updated in 0.746 s\n",
      "INFO:drake:Certification checked in  0.389 s\n",
      "INFO:drake:Bindings updated in 0.768 s\n",
      "INFO:drake:Certification checked in  0.224 s\n",
      "INFO:drake:Bindings updated in 0.735 s\n",
      "INFO:drake:Certification checked in  0.425 s\n",
      "INFO:drake:Bindings updated in 0.748 s\n",
      "INFO:drake:Certification checked in  0.199 s\n",
      "INFO:drake:Bindings updated in 0.766 s\n",
      "INFO:drake:Certification checked in  0.482 s\n",
      "INFO:drake:Bindings updated in 0.753 s\n",
      "INFO:drake:Certification checked in  0.198 s\n",
      "INFO:drake:Bindings updated in 0.739 s\n",
      "INFO:drake:Certification checked in  0.244 s\n",
      "INFO:drake:Bindings updated in 0.734 s\n",
      "INFO:drake:Certification checked in  0.321 s\n",
      "INFO:drake:Bindings updated in 0.742 s\n",
      "INFO:drake:Certification checked in  0.348 s\n",
      "INFO:drake:Bindings updated in 0.735 s\n",
      "INFO:drake:Certification checked in  0.194 s\n",
      "INFO:drake:Bindings updated in 0.739 s\n",
      "INFO:drake:Certification checked in  0.362 s\n",
      "INFO:drake:Bindings updated in 0.755 s\n",
      "INFO:drake:Certification checked in  0.204 s\n",
      "INFO:drake:Bindings updated in 0.733 s\n",
      "INFO:drake:Certification checked in  0.273 s\n",
      "INFO:drake:Bindings updated in 0.753 s\n",
      "INFO:drake:Certification checked in  0.468 s\n",
      "INFO:drake:Bindings updated in 0.738 s\n",
      "INFO:drake:Certification checked in  0.258 s\n",
      "INFO:drake:Bindings updated in 0.743 s\n",
      "INFO:drake:Certification checked in  0.402 s\n",
      "INFO:drake:Bindings updated in 0.748 s\n",
      "INFO:drake:Certification checked in  0.198 s\n",
      "INFO:drake:Bindings updated in 0.759 s\n",
      "INFO:drake:Certification checked in  0.422 s\n",
      "INFO:drake:Bindings updated in 0.754 s\n",
      "INFO:drake:Certification checked in  0.376 s\n",
      "INFO:drake:Bindings updated in 0.736 s\n",
      "INFO:drake:Certification checked in  0.235 s\n",
      "INFO:drake:Bindings updated in 0.74 s\n",
      "INFO:drake:Certification checked in  0.467 s\n",
      "INFO:drake:Bindings updated in 0.742 s\n",
      "INFO:drake:Certification checked in  0.33 s\n",
      "INFO:drake:Bindings updated in 0.767 s\n",
      "INFO:drake:Certification checked in  0.232 s\n",
      "INFO:drake:Bindings updated in 0.762 s\n",
      "INFO:drake:Certification checked in  0.208 s\n",
      "INFO:drake:Bindings updated in 0.745 s\n",
      "INFO:drake:Certification checked in  0.211 s\n",
      "INFO:drake:Bindings updated in 0.766 s\n",
      "INFO:drake:Certification checked in  0.319 s\n",
      "INFO:drake:Bindings updated in 0.74 s\n",
      "INFO:drake:Certification checked in  0.194 s\n",
      "INFO:drake:Bindings updated in 0.754 s\n",
      "INFO:drake:Certification checked in  0.4 s\n",
      "INFO:drake:Bindings updated in 0.742 s\n",
      "INFO:drake:Certification checked in  0.368 s\n",
      "INFO:drake:Bindings updated in 0.756 s\n",
      "INFO:drake:Certification checked in  0.338 s\n",
      "INFO:drake:Bindings updated in 0.757 s\n",
      "INFO:drake:Certification checked in  0.179 s\n",
      "INFO:drake:Bindings updated in 0.738 s\n",
      "INFO:drake:Certification checked in  0.219 s\n",
      "INFO:drake:Bindings updated in 0.735 s\n",
      "INFO:drake:Certification checked in  0.214 s\n",
      "INFO:drake:Bindings updated in 0.77 s\n",
      "INFO:drake:Certification checked in  0.189 s\n"
     ]
    },
    {
     "name": "stdout",
     "output_type": "stream",
     "text": [
      "Certification in 75.20382499694824s\n",
      "Certified 43/100 edges\n"
     ]
    }
   ],
   "source": [
    "s0 = PRM.nodes[PRM.adjacency_list[0][0]]\n",
    "uncertified_edges = []\n",
    "certified_edges = []\n",
    "print(s0)\n",
    "t0_tot = time.time()\n",
    "num_safe = 0\n",
    "ctr = 0\n",
    "for item_num, item in enumerate(PRM.adjacency_list):\n",
    "    s0 = PRM.nodes[item[0]]\n",
    "    uncertified_edges.append([item[0]])\n",
    "    certified_edges.append([item[0]])\n",
    "    for idx1 in item[1:]:\n",
    "        if (ctr % 100 == 0):\n",
    "            print(f\"Doing {ctr}/{tot_num_edges}\")\n",
    "        s1 = PRM.nodes[idx1]\n",
    "        t0 = time.time()\n",
    "        safe = line_certifier.CertifyTangentConfigurationSpaceLine(s0,s1)\n",
    "        t1 = time.time()\n",
    "        if not safe:\n",
    "            uncertified_edges[-1].append(idx1)\n",
    "        else:\n",
    "            certified_edges[-1].append(idx1)\n",
    "            num_safe += 1\n",
    "        ctr += 1\n",
    "t1_tot = time.time()\n",
    "print(f\"Certification in {t1_tot-t0_tot}s\")\n",
    "print(f\"Certified {num_safe}/{tot_num_edges} edges\")"
   ]
  },
  {
   "cell_type": "code",
   "execution_count": 81,
   "metadata": {},
   "outputs": [],
   "source": [
    "plot_prm(PRM.nodes, certified_edges, 0.2, color = Rgba(0.0, 1.0, 0.0, 1), prefix = \"affine_certified_\")\n",
    "plot_prm(PRM.nodes, uncertified_edges, 0.2, color = Rgba(1.0, 0.0, 0.0, 1), prefix = \"affine_uncertified_\")"
   ]
  },
  {
   "cell_type": "code",
   "execution_count": 76,
   "metadata": {},
   "outputs": [
    {
     "name": "stdout",
     "output_type": "stream",
     "text": [
      "[[0, 3], [1, 5], [2], [3], [4], [5], [6, 8, 16], [7, 17, 5, 9], [8, 6, 16], [9, 5], [10, 15], [11, 17, 5], [12, 10, 5], [13, 5, 3], [14, 4, 19, 0], [15, 5, 1, 3], [16, 6, 8], [17, 3], [18, 3, 19, 2], [19]]\n"
     ]
    }
   ],
   "source": [
    "print(uncertified_edges)"
   ]
  },
  {
   "cell_type": "code",
   "execution_count": 73,
   "metadata": {},
   "outputs": [
    {
     "data": {
      "text/plain": [
       "[[0, 2, 4, 19],\n",
       " [1, 10, 12, 15],\n",
       " [2, 0, 4, 3, 19],\n",
       " [3, 5, 13, 18, 2],\n",
       " [4, 19, 0, 2, 14],\n",
       " [5, 17, 3, 13, 7],\n",
       " [6],\n",
       " [7, 13],\n",
       " [8],\n",
       " [9, 11, 7, 17],\n",
       " [10, 1, 12],\n",
       " [11, 9, 7],\n",
       " [12, 15, 1],\n",
       " [13, 7, 18],\n",
       " [14],\n",
       " [15, 12],\n",
       " [16],\n",
       " [17, 5, 7, 13],\n",
       " [18, 13],\n",
       " [19, 4, 0, 2, 18]]"
      ]
     },
     "execution_count": 73,
     "metadata": {},
     "output_type": "execute_result"
    }
   ],
   "source": [
    "certified_edges"
   ]
  },
  {
   "cell_type": "code",
   "execution_count": 26,
   "metadata": {},
   "outputs": [
    {
     "name": "stderr",
     "output_type": "stream",
     "text": [
      "INFO:drake:Bindings updated in 0.325 s\n",
      "INFO:drake:Certification checked in  0.159 s\n"
     ]
    },
    {
     "name": "stdout",
     "output_type": "stream",
     "text": [
      "[-0.09325482 -1.12450218]\n",
      "Doing 0/20\n"
     ]
    },
    {
     "name": "stderr",
     "output_type": "stream",
     "text": [
      "INFO:drake:Bindings updated in 0.35 s\n",
      "INFO:drake:Certification checked in  0.149 s\n",
      "INFO:drake:Bindings updated in 0.344 s\n",
      "INFO:drake:Certification checked in  0.145 s\n",
      "INFO:drake:Bindings updated in 0.349 s\n",
      "INFO:drake:Certification checked in  0.149 s\n",
      "INFO:drake:Bindings updated in 0.359 s\n",
      "INFO:drake:Certification checked in  0.246 s\n",
      "INFO:drake:Bindings updated in 0.377 s\n",
      "INFO:drake:Certification checked in  0.11 s\n",
      "INFO:drake:Bindings updated in 0.359 s\n",
      "INFO:drake:Certification checked in  0.112 s\n",
      "INFO:drake:Bindings updated in 0.354 s\n",
      "INFO:drake:Certification checked in  0.127 s\n",
      "INFO:drake:Bindings updated in 0.345 s\n",
      "INFO:drake:Certification checked in  0.21 s\n",
      "INFO:drake:Bindings updated in 0.35 s\n",
      "INFO:drake:Certification checked in  0.131 s\n",
      "INFO:drake:Bindings updated in 0.352 s\n",
      "INFO:drake:Certification checked in  0.167 s\n",
      "INFO:drake:Bindings updated in 0.344 s\n",
      "INFO:drake:Certification checked in  0.15 s\n",
      "INFO:drake:Bindings updated in 0.341 s\n",
      "INFO:drake:Certification checked in  0.17 s\n",
      "INFO:drake:Bindings updated in 0.347 s\n",
      "INFO:drake:Certification checked in  0.139 s\n",
      "INFO:drake:Bindings updated in 0.36 s\n",
      "INFO:drake:Certification checked in  0.131 s\n",
      "INFO:drake:Bindings updated in 0.358 s\n",
      "INFO:drake:Certification checked in  0.123 s\n",
      "INFO:drake:Bindings updated in 0.379 s\n",
      "INFO:drake:Certification checked in  0.216 s\n",
      "INFO:drake:Bindings updated in 0.342 s\n",
      "INFO:drake:Certification checked in  0.161 s\n",
      "INFO:drake:Bindings updated in 0.343 s\n",
      "INFO:drake:Certification checked in  0.138 s\n",
      "INFO:drake:Bindings updated in 0.348 s\n",
      "INFO:drake:Certification checked in  0.195 s\n",
      "INFO:drake:Bindings updated in 0.34 s\n",
      "INFO:drake:Certification checked in  0.139 s\n",
      "INFO:drake:Bindings updated in 0.34 s\n",
      "INFO:drake:Certification checked in  0.239 s\n",
      "INFO:drake:Bindings updated in 0.35 s\n",
      "INFO:drake:Certification checked in  0.27 s\n",
      "INFO:drake:Bindings updated in 0.351 s\n",
      "INFO:drake:Certification checked in  0.154 s\n",
      "INFO:drake:Bindings updated in 0.343 s\n",
      "INFO:drake:Certification checked in  0.166 s\n",
      "INFO:drake:Bindings updated in 0.359 s\n",
      "INFO:drake:Certification checked in  0.225 s\n",
      "INFO:drake:Bindings updated in 0.365 s\n",
      "INFO:drake:Certification checked in  0.147 s\n",
      "INFO:drake:Bindings updated in 0.339 s\n",
      "INFO:drake:Certification checked in  0.181 s\n",
      "INFO:drake:Bindings updated in 0.363 s\n",
      "INFO:drake:Certification checked in  0.248 s\n",
      "INFO:drake:Bindings updated in 0.387 s\n",
      "INFO:drake:Certification checked in  0.142 s\n",
      "INFO:drake:Bindings updated in 0.352 s\n",
      "INFO:drake:Certification checked in  0.142 s\n",
      "INFO:drake:Bindings updated in 0.355 s\n",
      "INFO:drake:Certification checked in  0.138 s\n",
      "INFO:drake:Bindings updated in 0.344 s\n",
      "INFO:drake:Certification checked in  0.134 s\n",
      "INFO:drake:Bindings updated in 0.34 s\n",
      "INFO:drake:Certification checked in  0.152 s\n",
      "INFO:drake:Bindings updated in 0.339 s\n",
      "INFO:drake:Certification checked in  0.17 s\n",
      "INFO:drake:Bindings updated in 0.351 s\n",
      "INFO:drake:Certification checked in  0.145 s\n",
      "INFO:drake:Bindings updated in 0.349 s\n",
      "INFO:drake:Certification checked in  0.143 s\n",
      "INFO:drake:Bindings updated in 0.347 s\n",
      "INFO:drake:Certification checked in  0.134 s\n",
      "INFO:drake:Bindings updated in 0.339 s\n",
      "INFO:drake:Certification checked in  0.154 s\n",
      "INFO:drake:Bindings updated in 0.339 s\n",
      "INFO:drake:Certification checked in  0.125 s\n",
      "INFO:drake:Bindings updated in 0.339 s\n",
      "INFO:drake:Certification checked in  0.168 s\n",
      "INFO:drake:Bindings updated in 0.352 s\n",
      "INFO:drake:Certification checked in  0.17 s\n",
      "INFO:drake:Bindings updated in 0.353 s\n",
      "INFO:drake:Certification checked in  0.248 s\n",
      "INFO:drake:Bindings updated in 0.359 s\n",
      "INFO:drake:Certification checked in  0.227 s\n",
      "INFO:drake:Bindings updated in 0.339 s\n",
      "INFO:drake:Certification checked in  0.119 s\n",
      "INFO:drake:Bindings updated in 0.347 s\n",
      "INFO:drake:Certification checked in  0.165 s\n",
      "INFO:drake:Bindings updated in 0.361 s\n",
      "INFO:drake:Certification checked in  0.142 s\n",
      "INFO:drake:Bindings updated in 0.352 s\n",
      "INFO:drake:Certification checked in  0.127 s\n",
      "INFO:drake:Bindings updated in 0.341 s\n",
      "INFO:drake:Certification checked in  0.144 s\n",
      "INFO:drake:Bindings updated in 0.342 s\n",
      "INFO:drake:Certification checked in  0.152 s\n",
      "INFO:drake:Bindings updated in 0.343 s\n",
      "INFO:drake:Certification checked in  0.149 s\n",
      "INFO:drake:Bindings updated in 0.341 s\n",
      "INFO:drake:Certification checked in  0.137 s\n",
      "INFO:drake:Bindings updated in 0.34 s\n",
      "INFO:drake:Certification checked in  0.132 s\n",
      "INFO:drake:Bindings updated in 0.371 s\n",
      "INFO:drake:Certification checked in  0.255 s\n",
      "INFO:drake:Bindings updated in 0.346 s\n",
      "INFO:drake:Certification checked in  0.153 s\n",
      "INFO:drake:Bindings updated in 0.35 s\n",
      "INFO:drake:Certification checked in  0.145 s\n",
      "INFO:drake:Bindings updated in 0.341 s\n",
      "INFO:drake:Certification checked in  0.146 s\n",
      "INFO:drake:Bindings updated in 0.34 s\n",
      "INFO:drake:Certification checked in  0.256 s\n",
      "INFO:drake:Bindings updated in 0.361 s\n",
      "INFO:drake:Certification checked in  0.135 s\n",
      "INFO:drake:Bindings updated in 0.341 s\n",
      "INFO:drake:Certification checked in  0.112 s\n",
      "INFO:drake:Bindings updated in 0.34 s\n",
      "INFO:drake:Certification checked in  0.123 s\n",
      "INFO:drake:Bindings updated in 0.354 s\n",
      "INFO:drake:Certification checked in  0.117 s\n",
      "INFO:drake:Bindings updated in 0.341 s\n",
      "INFO:drake:Certification checked in  0.126 s\n",
      "INFO:drake:Bindings updated in 0.35 s\n",
      "INFO:drake:Certification checked in  0.133 s\n",
      "INFO:drake:Bindings updated in 0.345 s\n",
      "INFO:drake:Certification checked in  0.231 s\n",
      "INFO:drake:Bindings updated in 0.356 s\n",
      "INFO:drake:Certification checked in  0.143 s\n",
      "INFO:drake:Bindings updated in 0.34 s\n",
      "INFO:drake:Certification checked in  0.132 s\n",
      "INFO:drake:Bindings updated in 0.349 s\n",
      "INFO:drake:Certification checked in  0.178 s\n",
      "INFO:drake:Bindings updated in 0.371 s\n",
      "INFO:drake:Certification checked in  0.152 s\n",
      "INFO:drake:Bindings updated in 0.341 s\n",
      "INFO:drake:Certification checked in  0.159 s\n",
      "INFO:drake:Bindings updated in 0.366 s\n",
      "INFO:drake:Certification checked in  0.121 s\n"
     ]
    },
    {
     "name": "stdout",
     "output_type": "stream",
     "text": [
      "Certification in 36.5368013381958s\n"
     ]
    }
   ],
   "source": [
    "\n",
    "line_certifier = CspaceFreeLine(diagram, plant, scene_graph,\n",
    "                                rational_forward_kinematics.SeparatingPlaneOrder.kConstant, np.zeros(2),\n",
    "                                set(), VerificationOption()\n",
    "                               )\n",
    "s0 = PRM.nodes[PRM.adjacency_list[0][0]]\n",
    "uncertified_edges = []\n",
    "print(s0)\n",
    "t0_tot = time.time()\n",
    "for item_num, item in enumerate(PRM.adjacency_list):\n",
    "    s0 = PRM.nodes[item[0]]\n",
    "    if (item_num % 100 == 0):\n",
    "        print(f\"Doing {item_num}/{len(PRM.adjacency_list)}\")\n",
    "    for idx1 in item[1:]:\n",
    "        s1 = PRM.nodes[idx1]\n",
    "        t0 = time.time()\n",
    "        safe = line_certifier.CertifyTangentConfigurationSpaceLine(s0,s1)\n",
    "        t1 = time.time()\n",
    "#         print(f\"Edge ({item[0]}, {idx1}) is {safe}\")\n",
    "#         print(f\"Certified in {t1-t0}s\")\n",
    "#         print()\n",
    "        if not safe:\n",
    "            uncertified_edges.append([item[0], idx1])\n",
    "t1_tot = time.time()\n",
    "print(f\"Certification in {t1_tot-t0_tot}s\")\n",
    "print(f\"Certified {tot_num_edges-len(uncertified_edges)}/{tot_num_edges} edges\")"
   ]
  },
  {
   "cell_type": "code",
   "execution_count": 35,
   "metadata": {},
   "outputs": [
    {
     "name": "stdout",
     "output_type": "stream",
     "text": [
      "Certified 29/100 edges\n"
     ]
    }
   ],
   "source": [
    "print(f\"Certified {tot_num_edges-len(uncertified_edges)}/{tot_num_edges} edges\")"
   ]
  },
  {
   "cell_type": "code",
   "execution_count": 32,
   "metadata": {},
   "outputs": [],
   "source": []
  },
  {
   "cell_type": "code",
   "execution_count": null,
   "metadata": {},
   "outputs": [],
   "source": []
  }
 ],
 "metadata": {
  "interpreter": {
   "hash": "31f2aee4e71d21fbe5cf8b01ff0e069b9275f58929596ceb00d14d90e3e16cd6"
  },
  "kernelspec": {
   "display_name": "Python 3",
   "language": "python",
   "name": "python3"
  },
  "language_info": {
   "codemirror_mode": {
    "name": "ipython",
    "version": 3
   },
   "file_extension": ".py",
   "mimetype": "text/x-python",
   "name": "python",
   "nbconvert_exporter": "python",
   "pygments_lexer": "ipython3",
   "version": "3.8.10"
  }
 },
 "nbformat": 4,
 "nbformat_minor": 2
}
