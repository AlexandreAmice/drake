{
 "cells": [
  {
   "cell_type": "code",
   "execution_count": 1,
   "metadata": {},
   "outputs": [],
   "source": [
    "%load_ext autoreload"
   ]
  },
  {
   "cell_type": "code",
   "execution_count": 2,
   "metadata": {},
   "outputs": [],
   "source": [
    "import numpy as np\n",
    "from functools import partial\n",
    "import visualizations_utils as viz_utils\n",
    "from iris_plant_visualizer2 import IrisPlantVisualizer\n",
    "import ipywidgets as widgets\n",
    "from IPython.display import display\n",
    "from scipy.linalg import block_diag\n",
    "import matplotlib.pyplot as plt\n",
    "import cdd\n",
    "from pathlib import Path\n",
    "import os"
   ]
  },
  {
   "cell_type": "code",
   "execution_count": 3,
   "metadata": {},
   "outputs": [],
   "source": [
    "#pydrake imports\n",
    "from pydrake.common import FindResourceOrThrow\n",
    "from pydrake.multibody.parsing import Parser\n",
    "from pydrake.multibody.plant import AddMultibodyPlantSceneGraph\n",
    "from pydrake.systems.framework import DiagramBuilder\n",
    "from pydrake.geometry import Role, GeometrySet, CollisionFilterDeclaration\n",
    "from pydrake.solvers import mathematicalprogram as mp\n",
    "from pydrake.all import RigidTransform, RollPitchYaw, RevoluteJoint\n",
    "from pydrake.all import RotationMatrix\n",
    "import pydrake.symbolic as sym\n",
    "import time\n",
    "import pydrake.multibody.rational_forward_kinematics as rational_forward_kinematics\n",
    "from pydrake.all import RationalForwardKinematics\n",
    "from pydrake.geometry.optimization import IrisOptionsRationalSpace, IrisInRationalConfigurationSpace, HPolyhedron, Hyperellipsoid"
   ]
  },
  {
   "cell_type": "markdown",
   "metadata": {},
   "source": [
    "# Build and set up the visualization the plant and the visualization of the C-space obstacle\n",
    "\n",
    "Note that running this cell multiple times will establish multiple meshcat instances which can fill up your memory. It is a good idea to call \"pkill -f meshcat\" from the command line before re-running this cell\n"
   ]
  },
  {
   "cell_type": "code",
   "execution_count": 4,
   "metadata": {},
   "outputs": [
    {
     "name": "stderr",
     "output_type": "stream",
     "text": [
      "INFO:drake:Meshcat listening for connections at http://localhost:7000\n",
      "INFO:drake:Meshcat listening for connections at http://localhost:7001\n"
     ]
    }
   ],
   "source": [
    "builder = DiagramBuilder()\n",
    "plant, scene_graph = AddMultibodyPlantSceneGraph(builder, time_step=0.001)\n",
    "parser = Parser(plant)\n",
    "oneDOF_iiwa_asset = FindResourceOrThrow(\"drake/C_Iris_Examples/assets/oneDOF_iiwa7_with_box_collision.sdf\")\n",
    "\n",
    "box_asset = FindResourceOrThrow(\"drake/C_Iris_Examples/assets/box_small.urdf\")\n",
    "\n",
    "models = []\n",
    "models.append(parser.AddModelFromFile(box_asset))\n",
    "models.append(parser.AddModelFromFile(oneDOF_iiwa_asset, 'right_sweeper'))\n",
    "models.append(parser.AddModelFromFile(oneDOF_iiwa_asset, 'left_sweeper'))\n",
    "\n",
    "\n",
    "\n",
    "\n",
    "locs = [[0.,0.,0.],\n",
    "        [0,1,0.85],\n",
    "        [0,-1,0.55]]\n",
    "locs += np.array([0,0,-0.70])\n",
    "plant.WeldFrames(plant.world_frame(), \n",
    "                 plant.GetFrameByName(\"base\", models[0]),\n",
    "                 RigidTransform(locs[0]))\n",
    "\n",
    "t1 = RigidTransform(RollPitchYaw([np.pi/2, 0, 0]).ToRotationMatrix(), locs[1])@RigidTransform(RollPitchYaw([0, 0, np.pi/2]), np.zeros(3))\n",
    "t2 = RigidTransform(RollPitchYaw([-np.pi/2, 0, 0]).ToRotationMatrix(), locs[2])@RigidTransform(RollPitchYaw([0, 0, np.pi/2]), np.zeros(3))\n",
    "plant.WeldFrames(plant.world_frame(), \n",
    "                 plant.GetFrameByName(\"iiwa_oneDOF_link_0\", models[1]), \n",
    "                 t1)\n",
    "plant.WeldFrames(plant.world_frame(), \n",
    "                 plant.GetFrameByName(\"iiwa_oneDOF_link_0\", models[2]), \n",
    "                 t2)\n",
    "\n",
    "\n",
    "plant.Finalize()\n",
    "\n",
    "idx = 0\n",
    "q0 = [0.0, 0.0]\n",
    "# q_low  = [-1.7, -1.7, 0]\n",
    "# q_high = [1.7, 1.7,  0]\n",
    "eps = 0# 1e-3\n",
    "val = 1.7\n",
    "q_low  = [-val+eps, -val+eps, 0]\n",
    "q_high = [val-eps, val-eps,  0]\n",
    "# set the joint limits of the plant\n",
    "for model in models:\n",
    "    for joint_index in plant.GetJointIndices(model):\n",
    "        joint = plant.get_mutable_joint(joint_index)\n",
    "        if isinstance(joint, RevoluteJoint):\n",
    "            joint.set_default_angle(q0[idx])\n",
    "            joint.set_position_limits(lower_limits= np.array([q_low[idx]]), upper_limits= np.array([q_high[idx]]))\n",
    "            idx += 1\n",
    "        \n",
    "# construct the RationalForwardKinematics of this plant. This object handles the\n",
    "# computations for the forward kinematics in the tangent-configuration space\n",
    "Ratfk = RationalForwardKinematics(plant)\n",
    "\n",
    "# the point about which we will take the stereographic projections\n",
    "q_star = np.zeros(3)\n",
    "\n",
    "#compute limits in t-space\n",
    "limits_t = []\n",
    "for q in [q_low, q_high]:\n",
    "    limits_t.append(Ratfk.ComputeTValue(np.array(q), q_star)[:2])\n",
    "\n",
    "do_viz = True\n",
    "\n",
    "# This line builds the visualization. Change the viz_role to Role.kIllustration if you\n",
    "# want to see the plant with its illustrated geometry or to Role.kProximity\n",
    "visualizer = IrisPlantVisualizer(plant, builder, scene_graph, viz_role=Role.kIllustration)\n",
    "diagram = visualizer.diagram\n",
    "\n",
    "# This line will run marching cubes to generate a mesh of the C-space obstacle\n",
    "# Increase N to increase the resolution of the C-space obstacle.\n"
   ]
  },
  {
   "cell_type": "code",
   "execution_count": 5,
   "metadata": {},
   "outputs": [
    {
     "data": {
      "text/plain": [
       "array([[0., 0., 0., ..., 0., 0., 0.],\n",
       "       [0., 0., 0., ..., 0., 0., 0.],\n",
       "       [0., 0., 0., ..., 0., 0., 0.],\n",
       "       ...,\n",
       "       [0., 0., 0., ..., 0., 0., 0.],\n",
       "       [0., 0., 0., ..., 0., 0., 0.],\n",
       "       [0., 0., 0., ..., 0., 0., 0.]])"
      ]
     },
     "execution_count": 5,
     "metadata": {},
     "output_type": "execute_result"
    }
   ],
   "source": [
    "visualizer.visualize_collision_constraint2d(factor = 1.2, num_points = 100)"
   ]
  },
  {
   "cell_type": "code",
   "execution_count": 6,
   "metadata": {},
   "outputs": [],
   "source": [
    "visualizer.meshcat2.Set2dRenderMode(RigidTransform(RotationMatrix.MakeZRotation(0), np.array([0,0,1])))\n",
    "visualizer.meshcat1.Set2dRenderMode(RigidTransform(RotationMatrix.MakeZRotation(0), np.array([1,0,0])))"
   ]
  },
  {
   "cell_type": "markdown",
   "metadata": {},
   "source": [
    "## Set up the sliders so we can move the plant around manually"
   ]
  },
  {
   "cell_type": "code",
   "execution_count": 7,
   "metadata": {
    "scrolled": false
   },
   "outputs": [
    {
     "data": {
      "application/vnd.jupyter.widget-view+json": {
       "model_id": "99e7a80c88034757b10c5f263f3e229b",
       "version_major": 2,
       "version_minor": 0
      },
      "text/plain": [
       "FloatSlider(value=0.0, description='q0', max=1.7, min=-1.7)"
      ]
     },
     "metadata": {},
     "output_type": "display_data"
    },
    {
     "data": {
      "application/vnd.jupyter.widget-view+json": {
       "model_id": "37e44478302e4b618e28a731af746c41",
       "version_major": 2,
       "version_minor": 0
      },
      "text/plain": [
       "FloatSlider(value=0.0, description='q1', max=1.7, min=-1.7)"
      ]
     },
     "metadata": {},
     "output_type": "display_data"
    }
   ],
   "source": [
    "sliders = []\n",
    "sliders.append(widgets.FloatSlider(min=q_low[0], max=q_high[0], value=0, description='q0'))\n",
    "sliders.append(widgets.FloatSlider(min=q_low[1], max=q_high[1], value=0, description='q1'))\n",
    "# sliders.append(widgets.FloatSlider(min=q_low[2], max=q_high[2], value=0, description='q2'))\n",
    "\n",
    "q = q0.copy()\n",
    "def handle_slider_change(change, idx):\n",
    "    q[idx] = change['new']\n",
    "    visualizer.showres(q)\n",
    "    visualizer.visualize_planes()\n",
    "    \n",
    "idx = 0\n",
    "for slider in sliders:\n",
    "    slider.observe(partial(handle_slider_change, idx = idx), names='value')\n",
    "    idx+=1\n",
    "\n",
    "for slider in sliders:\n",
    "    display(slider)\n",
    "\n",
    "\n",
    "# visualizer.jupyter_cell()"
   ]
  },
  {
   "cell_type": "code",
   "execution_count": 8,
   "metadata": {
    "scrolled": true
   },
   "outputs": [],
   "source": [
    "# filter fused joints self collisions so they don't interfere with collision engine\n",
    "digaram = visualizer.diagram\n",
    "context = visualizer.diagram_context\n",
    "sg_context = scene_graph.GetMyContextFromRoot(context)\n",
    "inspector = scene_graph.model_inspector()\n",
    "\n",
    "pairs = scene_graph.get_query_output_port().Eval(sg_context).inspector().GetCollisionCandidates()\n",
    "\n",
    "gids = [gid for gid in inspector.GetGeometryIds(GeometrySet(inspector.GetAllGeometryIds()), Role.kProximity)]\n",
    "get_name_of_gid = lambda gid : inspector.GetName(gid)\n",
    "gids.sort(key=get_name_of_gid)\n",
    "right_sweeper_gids = [gid for gid in gids if \"right_sweeper::\" in get_name_of_gid(gid)]\n",
    "left_sweeper_gids = [gid for gid in gids if \"left_sweeper::\" in get_name_of_gid(gid)]\n",
    "\n",
    "right_sweeper_fused_col_geom = right_sweeper_gids[2:]\n",
    "right_sweeper_fused_set = GeometrySet(right_sweeper_fused_col_geom)\n",
    "left_sweeper_fused_col_geom = left_sweeper_gids[4:]\n",
    "left_sweeper_fused_set = GeometrySet(left_sweeper_fused_col_geom)\n",
    "scene_graph.collision_filter_manager()\\\n",
    "            .Apply(CollisionFilterDeclaration().ExcludeWithin(right_sweeper_fused_set))\n",
    "scene_graph.collision_filter_manager()\\\n",
    "            .Apply(CollisionFilterDeclaration().ExcludeWithin(left_sweeper_fused_set))\n",
    "\n",
    "right_sweeper_end_gid = right_sweeper_gids[-1]\n",
    "left_sweeper_end_gid = left_sweeper_gids[-1]\n",
    "id_pairs_of_interest = [(right_sweeper_end_gid, left_sweeper_end_gid),\n",
    "                       ]\n",
    "visualizer.collision_pairs_of_interest = id_pairs_of_interest\n"
   ]
  },
  {
   "cell_type": "markdown",
   "metadata": {},
   "source": [
    "# Setup IRIS Options and Generate Regions"
   ]
  },
  {
   "cell_type": "code",
   "execution_count": 9,
   "metadata": {},
   "outputs": [],
   "source": [
    "# Some examples of some seed points which give large regions using the\n",
    "# non-linear programming approach to IRIS described in Algorithm 3\n",
    "seed_points_q = np.array([   [0.0, 0],\n",
    "                              [0.7, -0.9],\n",
    "                              [-0.5, -0.5],\n",
    "                              [0.4,-1.3]\n",
    "                              ])\n",
    "seed_points = np.array([Ratfk.ComputeTValue(seed_points_q[idx], np.zeros((2,)))\\\n",
    "                        for idx in range(seed_points_q.shape[0])])\n",
    "if do_viz:\n",
    "    visualizer.plot_seedpoints(seed_points)\n"
   ]
  },
  {
   "cell_type": "code",
   "execution_count": 10,
   "metadata": {},
   "outputs": [],
   "source": [
    "regions = []\n",
    "ellipses = []\n",
    "\n",
    "\n",
    "\n",
    "iris_options = IrisOptionsRationalSpace()\n",
    "iris_options.require_sample_point_is_contained = True\n",
    "iris_options.iteration_limit = 20\n",
    "iris_options.configuration_space_margin = 1e-4\n",
    "iris_options.max_faces_per_collision_pair = 60\n",
    "iris_options.termination_threshold = -1\n",
    "iris_options.q_star = np.zeros(2)\n",
    "iris_options.relative_termination_threshold = 0.05\n",
    "iris_options.enable_ibex = False\n",
    "\n",
    "def promote_region_to_3d(region, width = 0.2):\n",
    "    A = block_diag(region.A(), np.array([-1,1])[:, np.newaxis])\n",
    "    b = np.append(region.b(), width*np.ones(2))\n",
    "\n",
    "    return HPolyhedron(A,b)\n",
    "    \n",
    "regions_3d = []\n",
    "\n",
    "for i, s in enumerate(seed_points):\n",
    "    q = Ratfk.ComputeQValue(s, np.zeros((2,)))\n",
    "    plant.SetPositions(plant.GetMyMutableContextFromRoot(context), q)\n",
    "    r = IrisInRationalConfigurationSpace(plant, plant.GetMyContextFromRoot(context), iris_options)\n",
    "    regions.append(r)\n",
    "    regions_3d.append(promote_region_to_3d(r))\n",
    "    ellipses.append(r.MaximumVolumeInscribedEllipsoid())\n",
    "    \n",
    "# chosen for colorblind compatability\n",
    "colors_dict = {\n",
    "    0: (144,144,144), #grayish\n",
    "    1:(30,136,229), # bluish\n",
    "    2: (255, 193, 7), # gold\n",
    "    3: (0, 140, 6), # green    \n",
    "}\n",
    "if do_viz:\n",
    "    visualizer.plot_regions(regions,\n",
    "                            ellipses=ellipses,\n",
    "                            region_suffix='_original',\n",
    "                            colors = list(colors_dict.values()),\n",
    "                            wireframe = False,\n",
    "                           opacity = 0.2)"
   ]
  },
  {
   "cell_type": "code",
   "execution_count": 11,
   "metadata": {},
   "outputs": [
    {
     "data": {
      "text/plain": [
       "True"
      ]
     },
     "execution_count": 11,
     "metadata": {},
     "output_type": "execute_result"
    }
   ],
   "source": [
    "r.IsBounded()"
   ]
  },
  {
   "cell_type": "markdown",
   "metadata": {},
   "source": [
    "# Certify regions"
   ]
  },
  {
   "cell_type": "code",
   "execution_count": 12,
   "metadata": {},
   "outputs": [],
   "source": [
    "cspace_free_region_certifier = rational_forward_kinematics.CspaceFreeRegion(diagram, plant, scene_graph,\n",
    "                                   rational_forward_kinematics.SeparatingPlaneOrder.kAffine,\n",
    "                                   rational_forward_kinematics.CspaceRegionType.kGenericPolytope)\n",
    "filtered_collision_pairs = set()\n",
    "solver_options = mp.SolverOptions()\n",
    "# make the solver verbose\n",
    "solver_options.SetOption(mp.CommonSolverOption.kPrintToConsole, 1)"
   ]
  },
  {
   "cell_type": "markdown",
   "metadata": {},
   "source": [
    "## first search for a minimal, uniform contraction of a proposed region which can be certified"
   ]
  },
  {
   "cell_type": "code",
   "execution_count": 13,
   "metadata": {},
   "outputs": [
    {
     "name": "stderr",
     "output_type": "stream",
     "text": [
      "INFO:drake:Lagrangian SOS takes 0.588623046875 seconds\n",
      "INFO:drake:max(power(det(P), 1/2))=0.2385154924627056, solver_time 0.005914926528930664\n"
     ]
    },
    {
     "name": "stdout",
     "output_type": "stream",
     "text": [
      "0\n"
     ]
    },
    {
     "name": "stderr",
     "output_type": "stream",
     "text": [
      "WARNING:drake:Find Lagrangian failed\n"
     ]
    },
    {
     "name": "stdout",
     "output_type": "stream",
     "text": [
      "1\n"
     ]
    },
    {
     "name": "stderr",
     "output_type": "stream",
     "text": [
      "INFO:drake:Lagrangian SOS takes 0.2898249626159668 seconds\n",
      "INFO:drake:max(power(det(P), 1/2))=0.12499845351885229, solver_time 0.00498199462890625\n",
      "INFO:drake:Lagrangian SOS takes 0.29891085624694824 seconds\n",
      "INFO:drake:max(power(det(P), 1/2))=0.14258707297241818, solver_time 0.008580923080444336\n",
      "INFO:drake:epsilon=-0.006375108966417737 is feasible\n",
      "INFO:drake:reset eps_min=0.0, eps_max=0.006365108966417732\n",
      "INFO:drake:Lagrangian SOS takes 0.3198280334472656 seconds\n",
      "INFO:drake:max(power(det(P), 1/2))=0.1506978962566649, solver_time 0.0061190128326416016\n",
      "INFO:drake:epsilon=0.003182554483208866 is feasible\n",
      "INFO:drake:reset eps_min=0.0, eps_max=0.0031825544832089214\n",
      "INFO:drake:Lagrangian SOS takes 0.3286418914794922 seconds\n",
      "INFO:drake:max(power(det(P), 1/2))=0.1546157881837404, solver_time 0.0062999725341796875\n",
      "INFO:drake:epsilon=0.0015912772416044607 is feasible\n",
      "INFO:drake:reset eps_min=0.0, eps_max=0.0015912772416044607\n",
      "INFO:drake:Lagrangian SOS takes 0.39713311195373535 seconds\n",
      "INFO:drake:max(power(det(P), 1/2))=0.15654347871489718, solver_time 0.009027957916259766\n",
      "INFO:drake:epsilon=0.0007956386208022304 is feasible\n",
      "INFO:drake:reset eps_min=0.0, eps_max=0.0007956386208022304\n",
      "WARNING:drake:Find Lagrangian failed\n",
      "INFO:drake:epsilon=0.0003978193104011152 is infeasible\n",
      "INFO:drake:Lagrangian SOS takes 0.3937211036682129 seconds\n",
      "INFO:drake:max(power(det(P), 1/2))=0.15702228437147012, solver_time 0.005278825759887695\n",
      "INFO:drake:epsilon=0.0001989096552005576 is feasible\n",
      "INFO:drake:reset eps_min=0.0, eps_max=0.00019890965520064086\n",
      "WARNING:drake:Find Lagrangian failed\n",
      "INFO:drake:epsilon=9.945482760032043e-05 is infeasible\n",
      "INFO:drake:max(power(det(P), 1/2))=0.15702228437147012, solver_time 0.012676000595092773\n",
      "INFO:drake:Lagrangian SOS takes 0.5184431076049805 seconds\n"
     ]
    },
    {
     "name": "stdout",
     "output_type": "stream",
     "text": [
      "2\n"
     ]
    },
    {
     "name": "stderr",
     "output_type": "stream",
     "text": [
      "INFO:drake:max(power(det(P), 1/2))=0.409674763277814, solver_time 0.012868881225585938\n",
      "INFO:drake:Lagrangian SOS takes 0.35423898696899414 seconds\n"
     ]
    },
    {
     "name": "stdout",
     "output_type": "stream",
     "text": [
      "3\n"
     ]
    },
    {
     "name": "stderr",
     "output_type": "stream",
     "text": [
      "INFO:drake:max(power(det(P), 1/2))=0.403230266799232, solver_time 0.004570960998535156\n"
     ]
    }
   ],
   "source": [
    "i = 0\n",
    "bisect_regions = []\n",
    "bisect_solutions = []\n",
    "directory = os.path.join(Path().absolute(), \n",
    "                                 f\"pinball_iiwa_2d_bisection\")\n",
    "if not os.path.exists(directory):\n",
    "        os.makedirs(directory)\n",
    "\n",
    "do_cert = True\n",
    "for i in range(len(regions)):\n",
    "# for i in [2]:\n",
    "    print(i)\n",
    "    region_to_certify = regions[i]\n",
    "    seed_point = seed_points[i,:]\n",
    "    file_name = os.path.join(directory, f\"seed_point{i}\")\n",
    "    if do_cert:\n",
    "\n",
    "        binary_search_options = rational_forward_kinematics.BinarySearchOption()\n",
    "        binary_search_options.epsilon_max = -1e-5 # it is very unlikely that we can find a uniform expansion of the current region\n",
    "        binary_search_options.max_iters = 15\n",
    "        binary_search_options.gap_tol = 1e-4\n",
    "        # speed up the bisection search by taking non-uniform steps when possible\n",
    "        binary_search_options.search_d = False\n",
    "        # find the smallest e such that At <= b + e1 still contains our seed point.\n",
    "\n",
    "        binary_search_options.epsilon_min = rational_forward_kinematics.FindEpsilonLower(region_to_certify.A(),\n",
    "                                                                                         region_to_certify.b(),\n",
    "                                                                                         limits_t[0], limits_t[1],\n",
    "                                                                                         seed_point)\n",
    "        #use as many threads as possible to speed up computation\n",
    "    #     binary_search_options.num_threads = 1\n",
    "\n",
    "        certified_region_contraction_solution = cspace_free_region_certifier.CspacePolytopeBinarySearch(\n",
    "                                                                         q_star[:2],\n",
    "                                                                         filtered_collision_pairs,\n",
    "                                                                         region_to_certify.A(),\n",
    "                                                                         region_to_certify.b(),\n",
    "                                                                         binary_search_options, \n",
    "                                                                         solver_options,\n",
    "                                                                         seed_point)\n",
    "\n",
    "        if not os.path.exists(directory):\n",
    "            os.makedirs(directory)\n",
    "\n",
    "        rational_forward_kinematics.WriteCspacePolytopeToFile(certified_region_contraction_solution, plant,\n",
    "                                                                      inspector,                            \n",
    "                                                                      file_name,\n",
    "                                                              9)\n",
    "    else:\n",
    "        certified_region_contraction_solution = rational_forward_kinematics.ReadCspacePolytopeFromFile(file_name, cspace_free_region_certifier)\n",
    "\n",
    "\n",
    "    bisect_solutions.append(certified_region_contraction_solution)\n",
    "    certified_region_contraction = HPolyhedron(certified_region_contraction_solution.C,\n",
    "                                               certified_region_contraction_solution.d)\n",
    "\n",
    "    bisect_regions.append(certified_region_contraction)\n",
    "    time.sleep(1)\n",
    "\n",
    "    \n",
    "if do_viz:\n",
    "    visualizer.plot_regions(bisect_regions, ellipses=None,\n",
    "                            region_suffix='_certified_region_contraction',\n",
    "                            wireframe = False,\n",
    "                           colors = list(colors_dict.values()),\n",
    "                           opacity = 0.2)\n",
    "visualizer.certified_region_solution_list = bisect_solutions\n",
    "visualizer.color_dict = {i: tuple(val/255 for val in c) for i, c in colors_dict.items()}"
   ]
  },
  {
   "cell_type": "code",
   "execution_count": 14,
   "metadata": {},
   "outputs": [
    {
     "data": {
      "application/vnd.jupyter.widget-view+json": {
       "model_id": "99e7a80c88034757b10c5f263f3e229b",
       "version_major": 2,
       "version_minor": 0
      },
      "text/plain": [
       "FloatSlider(value=0.0, description='q0', max=1.7, min=-1.7)"
      ]
     },
     "metadata": {},
     "output_type": "display_data"
    },
    {
     "data": {
      "application/vnd.jupyter.widget-view+json": {
       "model_id": "37e44478302e4b618e28a731af746c41",
       "version_major": 2,
       "version_minor": 0
      },
      "text/plain": [
       "FloatSlider(value=0.0, description='q1', max=1.7, min=-1.7)"
      ]
     },
     "metadata": {},
     "output_type": "display_data"
    }
   ],
   "source": [
    "for slider in sliders:\n",
    "    display(slider)\n"
   ]
  },
  {
   "cell_type": "code",
   "execution_count": 15,
   "metadata": {},
   "outputs": [],
   "source": [
    "from pydrake.all import BsplineTrajectoryThroughUnionOfHPolyhedra\n",
    "from pydrake.all import set_log_level\n",
    "from pydrake.all import logging\n",
    "log = logging.getLogger(\"drake\")\n",
    "log.setLevel(\"DEBUG\")\n",
    "\n",
    "start_point = Ratfk.ComputeTValue(np.array([0,0.1]), q_star)\n",
    "end_point = Ratfk.ComputeTValue(np.array([-1.0,0]), q_star)\n",
    "# end_point = Ratfk.ComputeTValue(np.array([0,0.5]), q_star)\n",
    "\n",
    "spp = BsplineTrajectoryThroughUnionOfHPolyhedra(start_point, end_point, regions)\n",
    "spp.set_max_velocity([.8, .8])\n",
    "spp.set_extra_control_points_per_region(10)"
   ]
  },
  {
   "cell_type": "code",
   "execution_count": 16,
   "metadata": {},
   "outputs": [],
   "source": [
    "\n",
    "traj = spp.Solve()\n",
    "visualizer.draw_traj_s_space(traj, 100)"
   ]
  },
  {
   "cell_type": "code",
   "execution_count": 20,
   "metadata": {},
   "outputs": [],
   "source": [
    "self = visualizer\n",
    "visualizer.certified_region_solution_list = []# bisect_solutions #  bisect_solutions\n",
    "\n",
    "# for i in range(len(seed_points)):\n",
    "#     self.meshcat2.SetProperty(f\"/iris/regions_certified_region_contraction/{i}\", \"visible\", True)\n",
    "#     time.sleep(1)\n",
    "\n",
    "substeps = 100\n",
    "runtime = 2*substeps\n",
    "\n",
    "tmp = visualizer.vis.StartRecording()\n",
    "# visualizer.vis2.StartRecording()\n",
    "visualizer.animate_s(traj, substeps, runtime)\n",
    "\n",
    "visualizer.vis.PublishRecording()\n",
    "# visualizer.vis2.PublishRecording()\n",
    "# visualizer.vis.StopRecording()\n",
    "# visualizer.vis2.StopRecording()\n"
   ]
  },
  {
   "cell_type": "code",
   "execution_count": 17,
   "metadata": {},
   "outputs": [
    {
     "data": {
      "application/vnd.jupyter.widget-view+json": {
       "model_id": "a7c6cfff44e54f5698803e8fa8e7c9c3",
       "version_major": 2,
       "version_minor": 0
      },
      "text/plain": [
       "FloatSlider(value=0.0, description='t', max=3.8432898411962904)"
      ]
     },
     "metadata": {},
     "output_type": "display_data"
    }
   ],
   "source": [
    "sliders = []\n",
    "sliders.append(widgets.FloatSlider(min=traj.start_time(), max=traj.end_time(), value=0, description='t'))\n",
    "# sliders.append(widgets.FloatSlider(min=q_low[2], max=q_high[2], value=0, description='q2'))\n",
    "\n",
    "q = q0.copy()\n",
    "def handle_slider_change_traj(change):\n",
    "    q = self.forward_kin.ComputeQValue(traj.value(change['new']), self.q_star)\n",
    "    visualizer.showres(q)\n",
    "    \n",
    "idx = 0\n",
    "for slider in sliders:\n",
    "    slider.observe(handle_slider_change_traj, names='value')\n",
    "    idx+=1\n",
    "\n",
    "for slider in sliders:\n",
    "    display(slider)\n",
    "\n",
    "\n",
    "# visualizer.jupyter_cell()"
   ]
  },
  {
   "cell_type": "code",
   "execution_count": 19,
   "metadata": {},
   "outputs": [],
   "source": [
    "for i in range(len(seed_points)):\n",
    "    visualizer.meshcat1.Delete(f\"/planes/region{i}\")"
   ]
  },
  {
   "cell_type": "code",
   "execution_count": 23,
   "metadata": {},
   "outputs": [],
   "source": [
    "from pydrake.all import BsplineBasis, BsplineTrajectory, VPolytope, HPolyhedron, Variable, PiecewisePolynomial\n",
    "\n",
    "visualizer.certified_region_solution_list = bisect_solutions\n",
    "\n",
    "\n",
    "verts_q = np.array([\n",
    "    [-1.1, 0],\n",
    "    [0.6, -1.7],\n",
    "    [-0.4,-0.4],\n",
    "    [-1.0,-1.6]\n",
    "]).T\n",
    "verts_q = np.concatenate([verts_q, verts_q[:,0][:,np.newaxis]], axis = 1)\n",
    "\n",
    "verts = np.array([Ratfk.ComputeTValue(v.copy(), q_star) for v in verts_q.T]).T\n",
    "\n",
    "\n",
    "times = np.linspace(0, 5, verts.shape[1])\n",
    "\n",
    "traj2 = PiecewisePolynomial.FirstOrderHold(times, verts)\n",
    "\n",
    "substeps = 300\n",
    "runtime = 2*substeps\n",
    "\n",
    "visualizer.animate_s(traj2, substeps, runtime, idx_list = [2])\n",
    "\n",
    "    \n"
   ]
  },
  {
   "cell_type": "code",
   "execution_count": 21,
   "metadata": {},
   "outputs": [
    {
     "ename": "NameError",
     "evalue": "name 'traj2' is not defined",
     "output_type": "error",
     "traceback": [
      "\u001b[0;31m---------------------------------------------------------------------------\u001b[0m",
      "\u001b[0;31mNameError\u001b[0m                                 Traceback (most recent call last)",
      "Input \u001b[0;32mIn [21]\u001b[0m, in \u001b[0;36m<cell line: 6>\u001b[0;34m()\u001b[0m\n\u001b[1;32m      4\u001b[0m idx \u001b[38;5;241m=\u001b[39m \u001b[38;5;241m0\u001b[39m\n\u001b[1;32m      5\u001b[0m going_fwd \u001b[38;5;241m=\u001b[39m \u001b[38;5;28;01mTrue\u001b[39;00m\n\u001b[0;32m----> 6\u001b[0m time_points \u001b[38;5;241m=\u001b[39m np\u001b[38;5;241m.\u001b[39mlinspace(\u001b[38;5;241m0\u001b[39m, \u001b[43mtraj2\u001b[49m\u001b[38;5;241m.\u001b[39mend_time(), steps)\n\u001b[1;32m      8\u001b[0m \u001b[38;5;28;01mfor\u001b[39;00m _ \u001b[38;5;129;01min\u001b[39;00m \u001b[38;5;28mrange\u001b[39m(runtime):\n\u001b[1;32m      9\u001b[0m     \u001b[38;5;66;03m# print(idx)\u001b[39;00m\n\u001b[1;32m     10\u001b[0m     s \u001b[38;5;241m=\u001b[39m traj2\u001b[38;5;241m.\u001b[39mvalue(time_points[idx])\n",
      "\u001b[0;31mNameError\u001b[0m: name 'traj2' is not defined"
     ]
    }
   ],
   "source": [
    "# loop\n",
    "steps = substeps\n",
    "\n",
    "idx = 0\n",
    "going_fwd = True\n",
    "time_points = np.linspace(0, traj2.end_time(), steps)\n",
    "\n",
    "for _ in range(runtime):\n",
    "    # print(idx)\n",
    "    s = traj2.value(time_points[idx])\n",
    "    print(s)\n",
    "    print()\n",
    "    q = self.forward_kin.ComputeQValue(s, self.q_star)\n",
    "    self.showres(q)\n",
    "    if going_fwd:\n",
    "        if idx + 1 < steps:\n",
    "            idx += 1\n",
    "        else:\n",
    "            going_fwd = False\n",
    "            idx -= 1\n",
    "    else:\n",
    "        if idx - 1 >= 0:\n",
    "            idx -= 1\n",
    "        else:\n",
    "            going_fwd = True\n",
    "            idx += 1"
   ]
  },
  {
   "cell_type": "code",
   "execution_count": 21,
   "metadata": {},
   "outputs": [
    {
     "name": "stdout",
     "output_type": "stream",
     "text": [
      "[0.10385  0.103885 0.045   ]\n"
     ]
    }
   ],
   "source": [
    "self = visualizer\n",
    "p = None\n",
    "q = self.plant.GetPositions(self.plant_context)\n",
    "s = self.forward_kin.ComputeTValue(np.array(q), self.q_star)\n",
    "for region_number, sol in enumerate(self.certified_region_solution_list):\n",
    "    if region_number in [i for i in range(len(self.certified_region_solution_list))]:\n",
    "        # point is in region so see plot interesting planes\n",
    "        if np.all(sol.C @ s <= sol.d):\n",
    "            for i, plane in enumerate(self._region_to_planes_of_interest_dict[sol]):\n",
    "                idA = plane.positive_side_polytope.get_id() if plane.positive_side_polytope is not None else None\n",
    "                idB = plane.negative_side_polytope.get_id() if plane.negative_side_polytope is not None else None\n",
    "                if self._is_collision_pair_of_interest(idA, idB):\n",
    "                    p = plane\n",
    "                    break\n",
    "                    \n",
    "vert_A = plane.positive_side_polytope.p_BV()[:, :]\n",
    "print(np.max(np.abs(vert_A[:,:-1] - vert_A[:,1:]), axis = 1))"
   ]
  },
  {
   "cell_type": "code",
   "execution_count": 16,
   "metadata": {},
   "outputs": [
    {
     "data": {
      "text/plain": [
       "[<pydrake.geometry.SurfaceTriangle at 0x7f9be55663f0>,\n",
       " <pydrake.geometry.SurfaceTriangle at 0x7f9be5566370>,\n",
       " <pydrake.geometry.SurfaceTriangle at 0x7f9be555cc30>,\n",
       " <pydrake.geometry.SurfaceTriangle at 0x7f9be5566430>,\n",
       " <pydrake.geometry.SurfaceTriangle at 0x7f9be555cef0>,\n",
       " <pydrake.geometry.SurfaceTriangle at 0x7f9be555ceb0>,\n",
       " <pydrake.geometry.SurfaceTriangle at 0x7f9be555c770>,\n",
       " <pydrake.geometry.SurfaceTriangle at 0x7f9be555cb30>,\n",
       " <pydrake.geometry.SurfaceTriangle at 0x7f9be555c970>,\n",
       " <pydrake.geometry.SurfaceTriangle at 0x7f9be555c7b0>,\n",
       " <pydrake.geometry.SurfaceTriangle at 0x7f9be555c930>,\n",
       " <pydrake.geometry.SurfaceTriangle at 0x7f9be555cbf0>]"
      ]
     },
     "execution_count": 16,
     "metadata": {},
     "output_type": "execute_result"
    }
   ],
   "source": [
    "visualizer.cube_tri_drake[::-1]"
   ]
  },
  {
   "cell_type": "code",
   "execution_count": null,
   "metadata": {},
   "outputs": [],
   "source": [
    "visualizer.showres_s(verts[:,0])"
   ]
  },
  {
   "cell_type": "code",
   "execution_count": null,
   "metadata": {},
   "outputs": [],
   "source": [
    "visualizer.showres(np.array([-1.1,0]))"
   ]
  },
  {
   "cell_type": "code",
   "execution_count": null,
   "metadata": {},
   "outputs": [],
   "source": [
    "verts_q[:,0]"
   ]
  }
 ],
 "metadata": {
  "interpreter": {
   "hash": "31f2aee4e71d21fbe5cf8b01ff0e069b9275f58929596ceb00d14d90e3e16cd6"
  },
  "kernelspec": {
   "display_name": "Python 3",
   "language": "python",
   "name": "python3"
  },
  "language_info": {
   "codemirror_mode": {
    "name": "ipython",
    "version": 3
   },
   "file_extension": ".py",
   "mimetype": "text/x-python",
   "name": "python",
   "nbconvert_exporter": "python",
   "pygments_lexer": "ipython3",
   "version": "3.8.10"
  }
 },
 "nbformat": 4,
 "nbformat_minor": 2
}
