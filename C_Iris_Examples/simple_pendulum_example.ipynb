{
 "cells": [
  {
   "cell_type": "code",
   "execution_count": 1,
   "metadata": {},
   "outputs": [],
   "source": [
    "%load_ext autoreload"
   ]
  },
  {
   "cell_type": "code",
   "execution_count": 2,
   "metadata": {},
   "outputs": [],
   "source": [
    "import numpy as np\n",
    "from functools import partial\n",
    "import visualizations_utils as viz_utils\n",
    "from iris_plant_visualizer2 import IrisPlantVisualizer\n",
    "import ipywidgets as widgets\n",
    "from IPython.display import display\n",
    "from scipy.linalg import block_diag\n",
    "import matplotlib.pyplot as plt\n",
    "import cdd\n",
    "from pathlib import Path\n",
    "import os\n",
    "import random"
   ]
  },
  {
   "cell_type": "code",
   "execution_count": 3,
   "metadata": {},
   "outputs": [],
   "source": [
    "#pydrake imports\n",
    "from pydrake.common import FindResourceOrThrow\n",
    "from pydrake.multibody.parsing import Parser\n",
    "from pydrake.multibody.plant import AddMultibodyPlantSceneGraph\n",
    "from pydrake.systems.framework import DiagramBuilder\n",
    "from pydrake.geometry import Role, GeometrySet, CollisionFilterDeclaration\n",
    "from pydrake.solvers import mathematicalprogram as mp\n",
    "from pydrake.all import RigidTransform, RollPitchYaw, RevoluteJoint\n",
    "from pydrake.all import RotationMatrix\n",
    "import pydrake.symbolic as sym\n",
    "import time\n",
    "from pydrake.all import CspaceFreeLine, Sphere, Rgba, CspaceFreeRegion\n",
    "import pydrake.multibody.rational_forward_kinematics as rational_forward_kinematics\n",
    "from pydrake.all import VerificationOption\n",
    "\n",
    "from pydrake.all import RationalForwardKinematics\n",
    "from pydrake.geometry.optimization import IrisOptionsRationalSpace, IrisInRationalConfigurationSpace, HPolyhedron, Hyperellipsoid"
   ]
  },
  {
   "cell_type": "code",
   "execution_count": 4,
   "metadata": {},
   "outputs": [],
   "source": [
    "import logging\n",
    "drake_logger = logging.getLogger(\"drake\")\n",
    "drake_logger.setLevel(logging.DEBUG)"
   ]
  },
  {
   "cell_type": "markdown",
   "metadata": {},
   "source": [
    "# Build and set up the visualization the plant and the visualization of the C-space obstacle\n",
    "\n",
    "Note that running this cell multiple times will establish multiple meshcat instances which can fill up your memory. It is a good idea to call \"pkill -f meshcat\" from the command line before re-running this cell\n"
   ]
  },
  {
   "cell_type": "code",
   "execution_count": 5,
   "metadata": {},
   "outputs": [
    {
     "name": "stderr",
     "output_type": "stream",
     "text": [
      "INFO:drake:Meshcat listening for connections at http://localhost:7006\n",
      "INFO:drake:Meshcat listening for connections at http://localhost:7007\n"
     ]
    }
   ],
   "source": [
    "builder = DiagramBuilder()\n",
    "plant, scene_graph = AddMultibodyPlantSceneGraph(builder, time_step=0.001)\n",
    "parser = Parser(plant)\n",
    "\n",
    "\n",
    "\n",
    "\n",
    "pendulum_world = FindResourceOrThrow(\"drake/C_Iris_Examples/assets/single_pendulum_world.urdf\")\n",
    "\n",
    "models = []\n",
    "models.append(parser.AddModelFromFile(pendulum_world))\n",
    "\n",
    "plant.Finalize()\n",
    "Ratfk = RationalForwardKinematics(plant)\n",
    "\n",
    "# the point about which we will take the stereographic projections\n",
    "q_star = np.zeros(1)\n",
    "\n",
    "# #compute limits in t-space\n",
    "limits_q = [plant.GetPositionLowerLimits().item(), plant.GetPositionUpperLimits().item()]\n",
    "limits_s = [Ratfk.ComputeTValue(np.array([q]), q_star) for q in limits_q]\n",
    "do_viz = True\n",
    "\n",
    "# This line builds the visualization. Change the viz_role to Role.kIllustration if you\n",
    "# want to see the plant with its illustrated geometry or to Role.kProximity\n",
    "visualizer = IrisPlantVisualizer(plant, builder, scene_graph, viz_role=Role.kIllustration)\n",
    "diagram = visualizer.diagram\n",
    "\n",
    "# This line will run marching cubes to generate a mesh of the C-space obstacle\n",
    "# Increase N to increase the resolution of the C-space obstacle.\n"
   ]
  },
  {
   "cell_type": "code",
   "execution_count": 6,
   "metadata": {},
   "outputs": [
    {
     "name": "stdout",
     "output_type": "stream",
     "text": [
      "[(<GeometryId value=38>, <GeometryId value=28>), (<GeometryId value=38>, <GeometryId value=25>), (<GeometryId value=28>, <GeometryId value=25>)]\n"
     ]
    }
   ],
   "source": [
    "# filter fused joints self collisions so they don't interfere with collision engine\n",
    "digaram = visualizer.diagram\n",
    "context = visualizer.diagram_context\n",
    "sg_context = scene_graph.GetMyContextFromRoot(context)\n",
    "inspector = scene_graph.model_inspector()\n",
    "\n",
    "pairs = scene_graph.get_query_output_port().Eval(sg_context).inspector().GetCollisionCandidates()\n",
    "\n",
    "gids = [gid for gid in inspector.GetGeometryIds(GeometrySet(inspector.GetAllGeometryIds()), Role.kProximity)]\n",
    "get_name_of_gid = lambda gid : inspector.GetName(gid)\n",
    "gids.sort(key=get_name_of_gid)\n",
    "\n",
    "id_pairs_of_interest = [(gid1, gid2) for i, gid1 in enumerate(gids) for gid2 in gids[i+1:] ]\n",
    "print(id_pairs_of_interest)\n",
    "# visualizer.collision_pairs_of_interest = id_pairs_of_interest\n"
   ]
  },
  {
   "cell_type": "code",
   "execution_count": null,
   "metadata": {},
   "outputs": [],
   "source": []
  },
  {
   "cell_type": "code",
   "execution_count": 7,
   "metadata": {},
   "outputs": [
    {
     "data": {
      "text/plain": [
       "array([[0., 0., 0., ..., 0., 0., 0.],\n",
       "       [0., 0., 0., ..., 0., 0., 0.],\n",
       "       [0., 0., 0., ..., 0., 0., 0.],\n",
       "       ...,\n",
       "       [0., 0., 0., ..., 0., 0., 0.],\n",
       "       [0., 0., 0., ..., 0., 0., 0.],\n",
       "       [0., 0., 0., ..., 0., 0., 0.]])"
      ]
     },
     "execution_count": 7,
     "metadata": {},
     "output_type": "execute_result"
    }
   ],
   "source": [
    "visualizer.visualize_collision_constraint2d(factor = 1.2, num_points = 100)"
   ]
  },
  {
   "cell_type": "code",
   "execution_count": 8,
   "metadata": {},
   "outputs": [],
   "source": [
    "visualizer.meshcat2.Set2dRenderMode(RigidTransform(RotationMatrix.MakeZRotation(0), np.array([0,0,1])))\n"
   ]
  },
  {
   "cell_type": "markdown",
   "metadata": {},
   "source": [
    "## Set up the sliders so we can move the plant around manually"
   ]
  },
  {
   "cell_type": "code",
   "execution_count": 9,
   "metadata": {
    "scrolled": false
   },
   "outputs": [
    {
     "data": {
      "application/vnd.jupyter.widget-view+json": {
       "model_id": "a3e27527bc114af4a27c22f0fab397d9",
       "version_major": 2,
       "version_minor": 0
      },
      "text/plain": [
       "FloatSlider(value=0.0, description='q0', max=1.57, min=-1.57)"
      ]
     },
     "metadata": {},
     "output_type": "display_data"
    }
   ],
   "source": [
    "sliders = []\n",
    "sliders.append(widgets.FloatSlider(min=plant.GetPositionLowerLimits().item(),\n",
    "                                   max=plant.GetPositionUpperLimits().item(), \n",
    "                                   value=0, description='q0'))\n",
    "# sliders.append(widgets.FloatSlider(min=q_low[2], max=q_high[2], value=0, description='q2'))\n",
    "\n",
    "q = np.array([0])\n",
    "def handle_slider_change(change, idx):\n",
    "    q[idx] = change['new']\n",
    "    visualizer.showres(q)\n",
    "    visualizer.visualize_planes()\n",
    "    \n",
    "idx = 0\n",
    "for slider in sliders:\n",
    "    slider.observe(partial(handle_slider_change, idx = idx), names='value')\n",
    "    idx+=1\n",
    "\n",
    "for slider in sliders:\n",
    "    display(slider)\n",
    "\n",
    "\n",
    "# visualizer.jupyter_cell()"
   ]
  },
  {
   "cell_type": "code",
   "execution_count": 10,
   "metadata": {},
   "outputs": [],
   "source": [
    "# import time\n",
    "# for q in np.linspace(plant.GetPositionLowerLimits().item(),\n",
    "#                     plant.GetPositionUpperLimits().item(), 100):\n",
    "#     visualizer.showres(np.array([q]))\n",
    "#     time.sleep(0.1)"
   ]
  },
  {
   "cell_type": "code",
   "execution_count": 11,
   "metadata": {
    "scrolled": true
   },
   "outputs": [
    {
     "name": "stdout",
     "output_type": "stream",
     "text": [
      "[[-0.          0.89920399]\n",
      " [ 0.          0.        ]\n",
      " [ 0.          0.        ]]\n"
     ]
    }
   ],
   "source": [
    "s0 = np.array([-0.0])\n",
    "s1 = np.array([limits_s[1] - 0.1])\n",
    "def plot_edge(s0, s1):\n",
    "    visualizer.meshcat2.SetObject(\"/s0\",\n",
    "                                 Sphere(0.05),\n",
    "                                 Rgba(0.0, 1.0, 0, 1))\n",
    "    s0_3d = np.array([s0.item(), 0, 0])\n",
    "    s1_3d = np.array([s1.item(), 0, 0])\n",
    "    visualizer.meshcat2.SetTransform(\"/s0\",\n",
    "                                  RigidTransform(RotationMatrix(),\n",
    "                                                 s0_3d))\n",
    "    \n",
    "    visualizer.meshcat2.SetObject(\"/s1\",\n",
    "                                 Sphere(0.05),\n",
    "                                 Rgba(1.0, 0.0, 0, 1))\n",
    "    visualizer.meshcat2.SetTransform(\"/s1\",\n",
    "                                   RigidTransform(RotationMatrix(),\n",
    "                                                 s1_3d))\n",
    "    print(np.hstack([s0_3d[:,np.newaxis], s1_3d[:, np.newaxis]]))\n",
    "    visualizer.meshcat2.SetLine(\"/edge\", \n",
    "                                np.hstack([s0_3d[:,np.newaxis], s1_3d[:, np.newaxis]]),\n",
    "                                line_width = 2, rgba = Rgba(0.0, 0.0, 0.0, 1))\n",
    "plot_edge(s0,s1)"
   ]
  },
  {
   "cell_type": "code",
   "execution_count": null,
   "metadata": {},
   "outputs": [],
   "source": []
  },
  {
   "cell_type": "code",
   "execution_count": 12,
   "metadata": {},
   "outputs": [
    {
     "name": "stdout",
     "output_type": "stream",
     "text": [
      "Time to construct line certifier = 0.17500019073486328s\n"
     ]
    }
   ],
   "source": [
    "t0 = time.time()\n",
    "line_certifier = CspaceFreeLine(diagram, plant, scene_graph,\n",
    "                                rational_forward_kinematics.SeparatingPlaneOrder.kAffine, \n",
    "                                np.zeros(1),\n",
    "                                set(), VerificationOption()\n",
    "                               )\n",
    "t1 = time.time()\n",
    "print(f\"Time to construct line certifier = {t1-t0}s\")"
   ]
  },
  {
   "cell_type": "code",
   "execution_count": 13,
   "metadata": {},
   "outputs": [
    {
     "name": "stderr",
     "output_type": "stream",
     "text": [
      "INFO:drake:Bindings updated in 0.012 s\n",
      "INFO:drake:Certification checked in  0.032 s\n"
     ]
    },
    {
     "name": "stdout",
     "output_type": "stream",
     "text": [
      "True\n"
     ]
    }
   ],
   "source": [
    "\n",
    "safe = line_certifier.CertifyTangentConfigurationSpaceLine(s0,s1)\n",
    "print(safe)\n"
   ]
  },
  {
   "cell_type": "code",
   "execution_count": null,
   "metadata": {},
   "outputs": [],
   "source": []
  },
  {
   "cell_type": "code",
   "execution_count": 14,
   "metadata": {},
   "outputs": [],
   "source": [
    "# tmp_map = line_certifier.get_polynomial_to_monomial_to_bindings_map()\n",
    "# random.seed(0)\n",
    "# p, (monom_to_bindings) = random.sample(tmp_map.items(), 1)[0]\n",
    "# env = {}\n",
    "# for i, s0_var in enumerate(line_certifier.get_s0()):\n",
    "#     env[s0_var] = s0[i]\n",
    "# for i, s1_var in enumerate(line_certifier.get_s1()):\n",
    "#     env[s1_var] = s1[i]\n",
    "# evaled_poly = p.EvaluatePartial(env)\n",
    "# print(evaled_poly)\n",
    "# for binding in monom_to_bindings.values():\n",
    "#     print(binding)\n"
   ]
  },
  {
   "cell_type": "code",
   "execution_count": 15,
   "metadata": {},
   "outputs": [
    {
     "ename": "NameError",
     "evalue": "name 'evaled_poly' is not defined",
     "output_type": "error",
     "traceback": [
      "\u001b[0;31m---------------------------------------------------------------------------\u001b[0m",
      "\u001b[0;31mNameError\u001b[0m                                 Traceback (most recent call last)",
      "Input \u001b[0;32mIn [15]\u001b[0m, in \u001b[0;36m<cell line: 1>\u001b[0;34m()\u001b[0m\n\u001b[0;32m----> 1\u001b[0m \u001b[38;5;28;01mfor\u001b[39;00m item \u001b[38;5;129;01min\u001b[39;00m \u001b[43mevaled_poly\u001b[49m\u001b[38;5;241m.\u001b[39mitems():\n\u001b[1;32m      2\u001b[0m     \u001b[38;5;28mprint\u001b[39m(item)\n",
      "\u001b[0;31mNameError\u001b[0m: name 'evaled_poly' is not defined"
     ]
    }
   ],
   "source": [
    "for item in evaled_poly.items():\n",
    "    print(item)"
   ]
  },
  {
   "cell_type": "code",
   "execution_count": null,
   "metadata": {},
   "outputs": [],
   "source": []
  },
  {
   "cell_type": "code",
   "execution_count": null,
   "metadata": {},
   "outputs": [],
   "source": []
  },
  {
   "cell_type": "code",
   "execution_count": null,
   "metadata": {},
   "outputs": [],
   "source": [
    "cspace_free_region_certifier = rational_forward_kinematics.CspaceFreeRegion(diagram, plant, scene_graph,\n",
    "                                   rational_forward_kinematics.SeparatingPlaneOrder.kAffine,\n",
    "                                   rational_forward_kinematics.CspaceRegionType.kGenericPolytope)\n",
    "filtered_collision_pairs = set()\n",
    "solver_options = mp.SolverOptions()\n",
    "# make the solver verbose\n",
    "solver_options.SetOption(mp.CommonSolverOption.kPrintToConsole, 1)\n",
    "\n",
    "line_A = np.array([[-1],[1]])\n",
    "line_b = np.array([s0.item(), s1.item()])\n",
    "binary_search_options = rational_forward_kinematics.BinarySearchOption()\n",
    "binary_search_options.epsilon_max = 0 \n",
    "binary_search_options.epsilon_min = -1e-2\n",
    "binary_search_options.max_iters = 15\n",
    "# speed up the bisection search by taking non-uniform steps when possible\n",
    "binary_search_options.search_d = True"
   ]
  },
  {
   "cell_type": "code",
   "execution_count": null,
   "metadata": {},
   "outputs": [],
   "source": [
    "# construct the Lagrangian program to certify the box\n",
    "alternation_tuples, d_minus_Ct, t_lower, \\\n",
    "t_upper, t_minus_t_lower, t_upper_minus_t, C, d, \\\n",
    "lagrangian_gram_vars, verified_gram_vars, separating_plane_vars, \\\n",
    "separating_plane_to_tuples, \\\n",
    "separating_plane_to_lorentz_cone_constraints = cspace_free_region_certifier.GenerateTuplesForBilinearAlternation(\n",
    "    q_star, filtered_collision_pairs, line_A.shape[0]\n",
    ")\n",
    "\n",
    "\n",
    "prog = cspace_free_region_certifier.ConstructLagrangianProgram(alternation_tuples,\n",
    "                                                               line_A,\n",
    "                                                               line_b[:,np.newaxis],\n",
    "                                                               lagrangian_gram_vars,\n",
    "                                                               verified_gram_vars,\n",
    "                                                               separating_plane_vars,\n",
    "                                                               [],\n",
    "                                                               np.array(t_lower)[:,np.newaxis],\n",
    "                                                               np.array(t_upper)[:,np.newaxis],\n",
    "                                                               VerificationOption(),\n",
    "                                                               None\n",
    ")\n",
    "\n",
    "# certified_region_contraction_solution = cspace_free_region_certifier.CspacePolytopeBinarySearch(\n",
    "#                                                                  q_star,\n",
    "#                                                                  filtered_collision_pairs,\n",
    "#                                                                  line_A,\n",
    "#                                                                  line_b,\n",
    "#                                                                  binary_search_options, \n",
    "#                                                                  solver_options)"
   ]
  },
  {
   "cell_type": "code",
   "execution_count": null,
   "metadata": {},
   "outputs": [],
   "source": [
    "print(prog)"
   ]
  },
  {
   "cell_type": "code",
   "execution_count": null,
   "metadata": {},
   "outputs": [],
   "source": [
    "rationals = cspace_free_region_certifier.GenerateRationalsForLinkOnOneSideOfPlane(q_star, filtered_collision_pairs)\n",
    "for r in rationals:\n",
    "    print(r.rational.numerator().decision_variables())\n",
    "    print(r.a_A)\n",
    "    print(r.b)\n",
    "#     print(r.rational.denominator())\n",
    "    print()"
   ]
  },
  {
   "cell_type": "code",
   "execution_count": null,
   "metadata": {},
   "outputs": [],
   "source": [
    "certified_region_contraction_solution.Const"
   ]
  },
  {
   "cell_type": "code",
   "execution_count": null,
   "metadata": {},
   "outputs": [],
   "source": []
  }
 ],
 "metadata": {
  "interpreter": {
   "hash": "31f2aee4e71d21fbe5cf8b01ff0e069b9275f58929596ceb00d14d90e3e16cd6"
  },
  "kernelspec": {
   "display_name": "Python 3",
   "language": "python",
   "name": "python3"
  },
  "language_info": {
   "codemirror_mode": {
    "name": "ipython",
    "version": 3
   },
   "file_extension": ".py",
   "mimetype": "text/x-python",
   "name": "python",
   "nbconvert_exporter": "python",
   "pygments_lexer": "ipython3",
   "version": "3.8.10"
  }
 },
 "nbformat": 4,
 "nbformat_minor": 2
}
