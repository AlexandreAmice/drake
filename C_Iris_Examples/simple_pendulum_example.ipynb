{
 "cells": [
  {
   "cell_type": "code",
   "execution_count": 1,
   "metadata": {},
   "outputs": [],
   "source": [
    "%load_ext autoreload"
   ]
  },
  {
   "cell_type": "code",
   "execution_count": 2,
   "metadata": {},
   "outputs": [],
   "source": [
    "import numpy as np\n",
    "from functools import partial\n",
    "import visualization_utils as viz_utils\n",
    "from iris_plant_visualizer import IrisPlantVisualizer\n",
    "import ipywidgets as widgets\n",
    "from IPython.display import display\n",
    "from scipy.linalg import block_diag\n",
    "import matplotlib.pyplot as plt\n",
    "from pathlib import Path\n",
    "import os"
   ]
  },
  {
   "cell_type": "code",
   "execution_count": 3,
   "metadata": {},
   "outputs": [],
   "source": [
    "#pydrake imports\n",
    "from pydrake.common import FindResourceOrThrow\n",
    "from pydrake.multibody.parsing import Parser\n",
    "from pydrake.multibody.plant import AddMultibodyPlantSceneGraph\n",
    "from pydrake.systems.framework import DiagramBuilder\n",
    "from pydrake.geometry import Role, GeometrySet, CollisionFilterDeclaration\n",
    "from pydrake.all import RigidTransform, RollPitchYaw, RevoluteJoint\n",
    "from pydrake.all import RotationMatrix\n",
    "import pydrake.symbolic as sym\n",
    "from pydrake.solvers import MosekSolver, CommonSolverOption, SolverOptions, ScsSolver\n",
    "\n",
    "import time\n",
    "\n",
    "from pydrake.all import RationalForwardKinematics\n",
    "from pydrake.geometry.optimization import HPolyhedron, Hyperellipsoid\n",
    "from pydrake.geometry.optimization_dev import CspaceFreePath\n"
   ]
  },
  {
   "cell_type": "code",
   "execution_count": 4,
   "metadata": {},
   "outputs": [],
   "source": [
    "import logging\n",
    "drake_logger = logging.getLogger(\"drake\")\n",
    "drake_logger.setLevel(logging.DEBUG)"
   ]
  },
  {
   "cell_type": "markdown",
   "metadata": {},
   "source": [
    "# Build and set up the visualization the plant and the visualization of the C-space obstacle\n",
    "\n",
    "Note that running this cell multiple times will establish multiple meshcat instances which can fill up your memory. It is a good idea to call \"pkill -f meshcat\" from the command line before re-running this cell\n"
   ]
  },
  {
   "cell_type": "code",
   "execution_count": 5,
   "metadata": {},
   "outputs": [
    {
     "name": "stderr",
     "output_type": "stream",
     "text": [
      "DEBUG:drake:FindResource ignoring DRAKE_RESOURCE_ROOT because it is not set.\n",
      "DEBUG:drake:FindRunfile mechanism = RUNFILES_{MANIFEST_FILE,DIR}\n",
      "DEBUG:drake:cwd = \"/home/amice/Documents/coding_projects/drake/C_Iris_Examples\"\n",
      "DEBUG:drake:FindRunfile found by-manifest '/home/amice/Documents/coding_projects/drake/.drake-find_resource-sentinel' (good) and by-directory '/home/amice/.cache/bazel/_bazel_amice/32fdbbecfa8a7ce8feece95e48c42006/execroot/drake/bazel-out/k8-opt/bin/C_Iris_Examples/simple_pendulum_example.runfiles/drake/.drake-find_resource-sentinel' (good)\n",
      "DEBUG:drake:FindRunfile found by-manifest '/home/amice/Documents/coding_projects/drake/package.xml' (good) and by-directory '/home/amice/.cache/bazel/_bazel_amice/32fdbbecfa8a7ce8feece95e48c42006/execroot/drake/bazel-out/k8-opt/bin/C_Iris_Examples/simple_pendulum_example.runfiles/drake/package.xml' (good)\n",
      "DEBUG:drake:FindResource ignoring DRAKE_RESOURCE_ROOT because it is not set.\n",
      "DEBUG:drake:FindRunfile found by-manifest '/home/amice/Documents/coding_projects/drake/.drake-find_resource-sentinel' (good) and by-directory '/home/amice/.cache/bazel/_bazel_amice/32fdbbecfa8a7ce8feece95e48c42006/execroot/drake/bazel-out/k8-opt/bin/C_Iris_Examples/simple_pendulum_example.runfiles/drake/.drake-find_resource-sentinel' (good)\n",
      "DEBUG:drake:FindRunfile found by-manifest '/home/amice/.cache/bazel/_bazel_amice/32fdbbecfa8a7ce8feece95e48c42006/execroot/drake/bazel-out/k8-opt/bin/multibody/parsing/drake_models.json' (good) and by-directory '/home/amice/.cache/bazel/_bazel_amice/32fdbbecfa8a7ce8feece95e48c42006/execroot/drake/bazel-out/k8-opt/bin/C_Iris_Examples/simple_pendulum_example.runfiles/drake/multibody/parsing/drake_models.json' (good)\n",
      "DEBUG:drake:FindRunfile found by-manifest '/home/amice/.cache/bazel/_bazel_amice/32fdbbecfa8a7ce8feece95e48c42006/external/drake_models/package.xml' (good) and by-directory '/home/amice/.cache/bazel/_bazel_amice/32fdbbecfa8a7ce8feece95e48c42006/execroot/drake/bazel-out/k8-opt/bin/C_Iris_Examples/simple_pendulum_example.runfiles/drake_models/package.xml' (good)\n",
      "DEBUG:drake:FindResource ignoring DRAKE_RESOURCE_ROOT because it is not set.\n",
      "DEBUG:drake:FindRunfile found by-manifest '/home/amice/Documents/coding_projects/drake/.drake-find_resource-sentinel' (good) and by-directory '/home/amice/.cache/bazel/_bazel_amice/32fdbbecfa8a7ce8feece95e48c42006/execroot/drake/bazel-out/k8-opt/bin/C_Iris_Examples/simple_pendulum_example.runfiles/drake/.drake-find_resource-sentinel' (good)\n",
      "DEBUG:drake:FindRunfile found by-manifest '/home/amice/Documents/coding_projects/drake/C_Iris_Examples/assets/single_pendulum_world.urdf' (good) and by-directory '/home/amice/.cache/bazel/_bazel_amice/32fdbbecfa8a7ce8feece95e48c42006/execroot/drake/bazel-out/k8-opt/bin/C_Iris_Examples/simple_pendulum_example.runfiles/drake/C_Iris_Examples/assets/single_pendulum_world.urdf' (good)\n",
      "DEBUG:drake:FindResource ignoring DRAKE_RESOURCE_ROOT because it is not set.\n",
      "DEBUG:drake:FindRunfile found by-manifest '/home/amice/Documents/coding_projects/drake/.drake-find_resource-sentinel' (good) and by-directory '/home/amice/.cache/bazel/_bazel_amice/32fdbbecfa8a7ce8feece95e48c42006/execroot/drake/bazel-out/k8-opt/bin/C_Iris_Examples/simple_pendulum_example.runfiles/drake/.drake-find_resource-sentinel' (good)\n",
      "DEBUG:drake:FindRunfile found by-manifest '/home/amice/.cache/bazel/_bazel_amice/32fdbbecfa8a7ce8feece95e48c42006/execroot/drake/bazel-out/k8-opt/bin/geometry/meshcat.js' (good) and by-directory '/home/amice/.cache/bazel/_bazel_amice/32fdbbecfa8a7ce8feece95e48c42006/execroot/drake/bazel-out/k8-opt/bin/C_Iris_Examples/simple_pendulum_example.runfiles/drake/geometry/meshcat.js' (good)\n",
      "DEBUG:drake:FindResource ignoring DRAKE_RESOURCE_ROOT because it is not set.\n",
      "DEBUG:drake:FindRunfile found by-manifest '/home/amice/Documents/coding_projects/drake/.drake-find_resource-sentinel' (good) and by-directory '/home/amice/.cache/bazel/_bazel_amice/32fdbbecfa8a7ce8feece95e48c42006/execroot/drake/bazel-out/k8-opt/bin/C_Iris_Examples/simple_pendulum_example.runfiles/drake/.drake-find_resource-sentinel' (good)\n",
      "DEBUG:drake:FindRunfile found by-manifest '/home/amice/.cache/bazel/_bazel_amice/32fdbbecfa8a7ce8feece95e48c42006/execroot/drake/bazel-out/k8-opt/bin/geometry/stats.min.js' (good) and by-directory '/home/amice/.cache/bazel/_bazel_amice/32fdbbecfa8a7ce8feece95e48c42006/execroot/drake/bazel-out/k8-opt/bin/C_Iris_Examples/simple_pendulum_example.runfiles/drake/geometry/stats.min.js' (good)\n",
      "DEBUG:drake:FindResource ignoring DRAKE_RESOURCE_ROOT because it is not set.\n",
      "DEBUG:drake:FindRunfile found by-manifest '/home/amice/Documents/coding_projects/drake/.drake-find_resource-sentinel' (good) and by-directory '/home/amice/.cache/bazel/_bazel_amice/32fdbbecfa8a7ce8feece95e48c42006/execroot/drake/bazel-out/k8-opt/bin/C_Iris_Examples/simple_pendulum_example.runfiles/drake/.drake-find_resource-sentinel' (good)\n",
      "DEBUG:drake:FindRunfile found by-manifest '/home/amice/.cache/bazel/_bazel_amice/32fdbbecfa8a7ce8feece95e48c42006/execroot/drake/bazel-out/k8-opt/bin/geometry/meshcat.ico' (good) and by-directory '/home/amice/.cache/bazel/_bazel_amice/32fdbbecfa8a7ce8feece95e48c42006/execroot/drake/bazel-out/k8-opt/bin/C_Iris_Examples/simple_pendulum_example.runfiles/drake/geometry/meshcat.ico' (good)\n",
      "DEBUG:drake:FindResource ignoring DRAKE_RESOURCE_ROOT because it is not set.\n",
      "DEBUG:drake:FindRunfile found by-manifest '/home/amice/Documents/coding_projects/drake/.drake-find_resource-sentinel' (good) and by-directory '/home/amice/.cache/bazel/_bazel_amice/32fdbbecfa8a7ce8feece95e48c42006/execroot/drake/bazel-out/k8-opt/bin/C_Iris_Examples/simple_pendulum_example.runfiles/drake/.drake-find_resource-sentinel' (good)\n",
      "DEBUG:drake:FindRunfile found by-manifest '/home/amice/Documents/coding_projects/drake/geometry/meshcat.html' (good) and by-directory '/home/amice/.cache/bazel/_bazel_amice/32fdbbecfa8a7ce8feece95e48c42006/execroot/drake/bazel-out/k8-opt/bin/C_Iris_Examples/simple_pendulum_example.runfiles/drake/geometry/meshcat.html' (good)\n",
      "INFO:drake:Meshcat listening for connections at http://localhost:7002\n",
      "INFO:drake:Meshcat listening for connections at http://localhost:7003\n"
     ]
    },
    {
     "name": "stdout",
     "output_type": "stream",
     "text": [
      "Time to construct line certifier = 0.002148866653442383s\n",
      "RATIONALS GENERATED\n",
      "(-1 + 1.5 * a_12 + 0.5 * a_22 + 5 * a_32 + b_2)*1 + (1.5 * a_11 + 0.5 * a_21 + 5 * a_31 + b_1)*mu + (2 * ( - 5 * a_12 + 1.5 * a_32))*s[0] + (2 * ( - 5 * a_11 + 1.5 * a_31))*s[0] * mu + (-1 - 1.5 * a_12 + 0.5 * a_22 - 5 * a_32 + b_2)*s[0]^2 + ( - 1.5 * a_11 + 0.5 * a_21 - 5 * a_31 + b_1)*s[0]^2 * mu\n",
      "\n",
      "(-1 + 1.5 * a_12 + 0.5 * a_22 + 5 * a_32 + b_2 - 10 * (s_0(mu_1)_coeff * a_12) + 3 * (s_0(mu_1)_coeff * a_32) - 1.5 * (pow(s_0(mu_1)_coeff, 2) * a_12) + 0.5 * (pow(s_0(mu_1)_coeff, 2) * a_22) - 5 * (pow(s_0(mu_1)_coeff, 2) * a_32) + (pow(s_0(mu_1)_coeff, 2) * b_2) - pow(s_0(mu_1)_coeff, 2))*1 + (1.5 * a_11 + 0.5 * a_21 + 5 * a_31 + b_1 - 2 * (s_0(mu_0)_coeff * s_0(mu_1)_coeff) - 3 * (s_0(mu_0)_coeff * s_0(mu_1)_coeff * a_12) + (s_0(mu_0)_coeff * s_0(mu_1)_coeff * a_22) - 10 * (s_0(mu_0)_coeff * s_0(mu_1)_coeff * a_32) + 2 * (s_0(mu_0)_coeff * s_0(mu_1)_coeff * b_2) - 10 * (s_0(mu_0)_coeff * a_12) + 3 * (s_0(mu_0)_coeff * a_32) - 10 * (s_0(mu_1)_coeff * a_11) + 3 * (s_0(mu_1)_coeff * a_31) - 1.5 * (pow(s_0(mu_1)_coeff, 2) * a_11) + 0.5 * (pow(s_0(mu_1)_coeff, 2) * a_21) - 5 * (pow(s_0(mu_1)_coeff, 2) * a_31) + (pow(s_0(mu_1)_coeff, 2) * b_1))*mu + ( - 3 * (s_0(mu_0)_coeff * s_0(mu_1)_coeff * a_11) + (s_0(mu_0)_coeff * s_0(mu_1)_coeff * a_21) - 10 * (s_0(mu_0)_coeff * s_0(mu_1)_coeff * a_31) + 2 * (s_0(mu_0)_coeff * s_0(mu_1)_coeff * b_1) - 10 * (s_0(mu_0)_coeff * a_11) + 3 * (s_0(mu_0)_coeff * a_31) - 1.5 * (pow(s_0(mu_0)_coeff, 2) * a_12) + 0.5 * (pow(s_0(mu_0)_coeff, 2) * a_22) - 5 * (pow(s_0(mu_0)_coeff, 2) * a_32) + (pow(s_0(mu_0)_coeff, 2) * b_2) - pow(s_0(mu_0)_coeff, 2))*mu^2 + ( - 1.5 * (pow(s_0(mu_0)_coeff, 2) * a_11) + 0.5 * (pow(s_0(mu_0)_coeff, 2) * a_21) - 5 * (pow(s_0(mu_0)_coeff, 2) * a_31) + (pow(s_0(mu_0)_coeff, 2) * b_1))*mu^3\n",
      "(-1 + 1.5 * a_12 + 0.5 * a_22 - 5 * a_32 + b_2)*1 + (1.5 * a_11 + 0.5 * a_21 - 5 * a_31 + b_1)*mu + (2 * (5 * a_12 + 1.5 * a_32))*s[0] + (2 * (5 * a_11 + 1.5 * a_31))*s[0] * mu + (-1 - 1.5 * a_12 + 0.5 * a_22 + 5 * a_32 + b_2)*s[0]^2 + ( - 1.5 * a_11 + 0.5 * a_21 + 5 * a_31 + b_1)*s[0]^2 * mu\n",
      "\n",
      "(-1 + 1.5 * a_12 + 0.5 * a_22 - 5 * a_32 + b_2 + 10 * (s_0(mu_1)_coeff * a_12) + 3 * (s_0(mu_1)_coeff * a_32) - 1.5 * (pow(s_0(mu_1)_coeff, 2) * a_12) + 0.5 * (pow(s_0(mu_1)_coeff, 2) * a_22) + 5 * (pow(s_0(mu_1)_coeff, 2) * a_32) + (pow(s_0(mu_1)_coeff, 2) * b_2) - pow(s_0(mu_1)_coeff, 2))*1 + (1.5 * a_11 + 0.5 * a_21 - 5 * a_31 + b_1 - 2 * (s_0(mu_0)_coeff * s_0(mu_1)_coeff) - 3 * (s_0(mu_0)_coeff * s_0(mu_1)_coeff * a_12) + (s_0(mu_0)_coeff * s_0(mu_1)_coeff * a_22) + 10 * (s_0(mu_0)_coeff * s_0(mu_1)_coeff * a_32) + 2 * (s_0(mu_0)_coeff * s_0(mu_1)_coeff * b_2) + 10 * (s_0(mu_0)_coeff * a_12) + 3 * (s_0(mu_0)_coeff * a_32) + 10 * (s_0(mu_1)_coeff * a_11) + 3 * (s_0(mu_1)_coeff * a_31) - 1.5 * (pow(s_0(mu_1)_coeff, 2) * a_11) + 0.5 * (pow(s_0(mu_1)_coeff, 2) * a_21) + 5 * (pow(s_0(mu_1)_coeff, 2) * a_31) + (pow(s_0(mu_1)_coeff, 2) * b_1))*mu + ( - 3 * (s_0(mu_0)_coeff * s_0(mu_1)_coeff * a_11) + (s_0(mu_0)_coeff * s_0(mu_1)_coeff * a_21) + 10 * (s_0(mu_0)_coeff * s_0(mu_1)_coeff * a_31) + 2 * (s_0(mu_0)_coeff * s_0(mu_1)_coeff * b_1) + 10 * (s_0(mu_0)_coeff * a_11) + 3 * (s_0(mu_0)_coeff * a_31) - 1.5 * (pow(s_0(mu_0)_coeff, 2) * a_12) + 0.5 * (pow(s_0(mu_0)_coeff, 2) * a_22) + 5 * (pow(s_0(mu_0)_coeff, 2) * a_32) + (pow(s_0(mu_0)_coeff, 2) * b_2) - pow(s_0(mu_0)_coeff, 2))*mu^2 + ( - 1.5 * (pow(s_0(mu_0)_coeff, 2) * a_11) + 0.5 * (pow(s_0(mu_0)_coeff, 2) * a_21) + 5 * (pow(s_0(mu_0)_coeff, 2) * a_31) + (pow(s_0(mu_0)_coeff, 2) * b_1))*mu^3\n",
      "(-1 + 1.5 * a_12 - 0.5 * a_22 + 5 * a_32 + b_2)*1 + (1.5 * a_11 - 0.5 * a_21 + 5 * a_31 + b_1)*mu + (2 * ( - 5 * a_12 + 1.5 * a_32))*s[0] + (2 * ( - 5 * a_11 + 1.5 * a_31))*s[0] * mu + (-1 - 1.5 * a_12 - 0.5 * a_22 - 5 * a_32 + b_2)*s[0]^2 + ( - 1.5 * a_11 - 0.5 * a_21 - 5 * a_31 + b_1)*s[0]^2 * mu\n",
      "\n",
      "(-1 + 1.5 * a_12 - 0.5 * a_22 + 5 * a_32 + b_2 - 10 * (s_0(mu_1)_coeff * a_12) + 3 * (s_0(mu_1)_coeff * a_32) - 1.5 * (pow(s_0(mu_1)_coeff, 2) * a_12) - 0.5 * (pow(s_0(mu_1)_coeff, 2) * a_22) - 5 * (pow(s_0(mu_1)_coeff, 2) * a_32) + (pow(s_0(mu_1)_coeff, 2) * b_2) - pow(s_0(mu_1)_coeff, 2))*1 + (1.5 * a_11 - 0.5 * a_21 + 5 * a_31 + b_1 - 2 * (s_0(mu_0)_coeff * s_0(mu_1)_coeff) - 3 * (s_0(mu_0)_coeff * s_0(mu_1)_coeff * a_12) - (s_0(mu_0)_coeff * s_0(mu_1)_coeff * a_22) - 10 * (s_0(mu_0)_coeff * s_0(mu_1)_coeff * a_32) + 2 * (s_0(mu_0)_coeff * s_0(mu_1)_coeff * b_2) - 10 * (s_0(mu_0)_coeff * a_12) + 3 * (s_0(mu_0)_coeff * a_32) - 10 * (s_0(mu_1)_coeff * a_11) + 3 * (s_0(mu_1)_coeff * a_31) - 1.5 * (pow(s_0(mu_1)_coeff, 2) * a_11) - 0.5 * (pow(s_0(mu_1)_coeff, 2) * a_21) - 5 * (pow(s_0(mu_1)_coeff, 2) * a_31) + (pow(s_0(mu_1)_coeff, 2) * b_1))*mu + ( - 3 * (s_0(mu_0)_coeff * s_0(mu_1)_coeff * a_11) - (s_0(mu_0)_coeff * s_0(mu_1)_coeff * a_21) - 10 * (s_0(mu_0)_coeff * s_0(mu_1)_coeff * a_31) + 2 * (s_0(mu_0)_coeff * s_0(mu_1)_coeff * b_1) - 10 * (s_0(mu_0)_coeff * a_11) + 3 * (s_0(mu_0)_coeff * a_31) - 1.5 * (pow(s_0(mu_0)_coeff, 2) * a_12) - 0.5 * (pow(s_0(mu_0)_coeff, 2) * a_22) - 5 * (pow(s_0(mu_0)_coeff, 2) * a_32) + (pow(s_0(mu_0)_coeff, 2) * b_2) - pow(s_0(mu_0)_coeff, 2))*mu^2 + ( - 1.5 * (pow(s_0(mu_0)_coeff, 2) * a_11) - 0.5 * (pow(s_0(mu_0)_coeff, 2) * a_21) - 5 * (pow(s_0(mu_0)_coeff, 2) * a_31) + (pow(s_0(mu_0)_coeff, 2) * b_1))*mu^3\n",
      "(-1 + 1.5 * a_12 - 0.5 * a_22 - 5 * a_32 + b_2)*1 + (1.5 * a_11 - 0.5 * a_21 - 5 * a_31 + b_1)*mu + (2 * (5 * a_12 + 1.5 * a_32))*s[0] + (2 * (5 * a_11 + 1.5 * a_31))*s[0] * mu + (-1 - 1.5 * a_12 - 0.5 * a_22 + 5 * a_32 + b_2)*s[0]^2 + ( - 1.5 * a_11 - 0.5 * a_21 + 5 * a_31 + b_1)*s[0]^2 * mu\n",
      "\n",
      "(-1 + 1.5 * a_12 - 0.5 * a_22 - 5 * a_32 + b_2 + 10 * (s_0(mu_1)_coeff * a_12) + 3 * (s_0(mu_1)_coeff * a_32) - 1.5 * (pow(s_0(mu_1)_coeff, 2) * a_12) - 0.5 * (pow(s_0(mu_1)_coeff, 2) * a_22) + 5 * (pow(s_0(mu_1)_coeff, 2) * a_32) + (pow(s_0(mu_1)_coeff, 2) * b_2) - pow(s_0(mu_1)_coeff, 2))*1 + (1.5 * a_11 - 0.5 * a_21 - 5 * a_31 + b_1 - 2 * (s_0(mu_0)_coeff * s_0(mu_1)_coeff) - 3 * (s_0(mu_0)_coeff * s_0(mu_1)_coeff * a_12) - (s_0(mu_0)_coeff * s_0(mu_1)_coeff * a_22) + 10 * (s_0(mu_0)_coeff * s_0(mu_1)_coeff * a_32) + 2 * (s_0(mu_0)_coeff * s_0(mu_1)_coeff * b_2) + 10 * (s_0(mu_0)_coeff * a_12) + 3 * (s_0(mu_0)_coeff * a_32) + 10 * (s_0(mu_1)_coeff * a_11) + 3 * (s_0(mu_1)_coeff * a_31) - 1.5 * (pow(s_0(mu_1)_coeff, 2) * a_11) - 0.5 * (pow(s_0(mu_1)_coeff, 2) * a_21) + 5 * (pow(s_0(mu_1)_coeff, 2) * a_31) + (pow(s_0(mu_1)_coeff, 2) * b_1))*mu + ( - 3 * (s_0(mu_0)_coeff * s_0(mu_1)_coeff * a_11) - (s_0(mu_0)_coeff * s_0(mu_1)_coeff * a_21) + 10 * (s_0(mu_0)_coeff * s_0(mu_1)_coeff * a_31) + 2 * (s_0(mu_0)_coeff * s_0(mu_1)_coeff * b_1) + 10 * (s_0(mu_0)_coeff * a_11) + 3 * (s_0(mu_0)_coeff * a_31) - 1.5 * (pow(s_0(mu_0)_coeff, 2) * a_12) - 0.5 * (pow(s_0(mu_0)_coeff, 2) * a_22) + 5 * (pow(s_0(mu_0)_coeff, 2) * a_32) + (pow(s_0(mu_0)_coeff, 2) * b_2) - pow(s_0(mu_0)_coeff, 2))*mu^2 + ( - 1.5 * (pow(s_0(mu_0)_coeff, 2) * a_11) - 0.5 * (pow(s_0(mu_0)_coeff, 2) * a_21) + 5 * (pow(s_0(mu_0)_coeff, 2) * a_31) + (pow(s_0(mu_0)_coeff, 2) * b_1))*mu^3\n",
      "(-1 + 0.5 * a_12 + 0.5 * a_22 + 5 * a_32 + b_2)*1 + (0.5 * a_11 + 0.5 * a_21 + 5 * a_31 + b_1)*mu + (2 * ( - 5 * a_12 + 0.5 * a_32))*s[0] + (2 * ( - 5 * a_11 + 0.5 * a_31))*s[0] * mu + (-1 - 0.5 * a_12 + 0.5 * a_22 - 5 * a_32 + b_2)*s[0]^2 + ( - 0.5 * a_11 + 0.5 * a_21 - 5 * a_31 + b_1)*s[0]^2 * mu\n",
      "\n",
      "(-1 + 0.5 * a_12 + 0.5 * a_22 + 5 * a_32 + b_2 - 10 * (s_0(mu_1)_coeff * a_12) + (s_0(mu_1)_coeff * a_32) - 0.5 * (pow(s_0(mu_1)_coeff, 2) * a_12) + 0.5 * (pow(s_0(mu_1)_coeff, 2) * a_22) - 5 * (pow(s_0(mu_1)_coeff, 2) * a_32) + (pow(s_0(mu_1)_coeff, 2) * b_2) - pow(s_0(mu_1)_coeff, 2))*1 + (0.5 * a_11 + 0.5 * a_21 + 5 * a_31 + b_1 - 2 * (s_0(mu_0)_coeff * s_0(mu_1)_coeff) - (s_0(mu_0)_coeff * s_0(mu_1)_coeff * a_12) + (s_0(mu_0)_coeff * s_0(mu_1)_coeff * a_22) - 10 * (s_0(mu_0)_coeff * s_0(mu_1)_coeff * a_32) + 2 * (s_0(mu_0)_coeff * s_0(mu_1)_coeff * b_2) - 10 * (s_0(mu_0)_coeff * a_12) + (s_0(mu_0)_coeff * a_32) - 10 * (s_0(mu_1)_coeff * a_11) + (s_0(mu_1)_coeff * a_31) - 0.5 * (pow(s_0(mu_1)_coeff, 2) * a_11) + 0.5 * (pow(s_0(mu_1)_coeff, 2) * a_21) - 5 * (pow(s_0(mu_1)_coeff, 2) * a_31) + (pow(s_0(mu_1)_coeff, 2) * b_1))*mu + ( - (s_0(mu_0)_coeff * s_0(mu_1)_coeff * a_11) + (s_0(mu_0)_coeff * s_0(mu_1)_coeff * a_21) - 10 * (s_0(mu_0)_coeff * s_0(mu_1)_coeff * a_31) + 2 * (s_0(mu_0)_coeff * s_0(mu_1)_coeff * b_1) - 10 * (s_0(mu_0)_coeff * a_11) + (s_0(mu_0)_coeff * a_31) - 0.5 * (pow(s_0(mu_0)_coeff, 2) * a_12) + 0.5 * (pow(s_0(mu_0)_coeff, 2) * a_22) - 5 * (pow(s_0(mu_0)_coeff, 2) * a_32) + (pow(s_0(mu_0)_coeff, 2) * b_2) - pow(s_0(mu_0)_coeff, 2))*mu^2 + ( - 0.5 * (pow(s_0(mu_0)_coeff, 2) * a_11) + 0.5 * (pow(s_0(mu_0)_coeff, 2) * a_21) - 5 * (pow(s_0(mu_0)_coeff, 2) * a_31) + (pow(s_0(mu_0)_coeff, 2) * b_1))*mu^3\n",
      "(-1 + 0.5 * a_12 + 0.5 * a_22 - 5 * a_32 + b_2)*1 + (0.5 * a_11 + 0.5 * a_21 - 5 * a_31 + b_1)*mu + (2 * (5 * a_12 + 0.5 * a_32))*s[0] + (2 * (5 * a_11 + 0.5 * a_31))*s[0] * mu + (-1 - 0.5 * a_12 + 0.5 * a_22 + 5 * a_32 + b_2)*s[0]^2 + ( - 0.5 * a_11 + 0.5 * a_21 + 5 * a_31 + b_1)*s[0]^2 * mu\n",
      "\n",
      "(-1 + 0.5 * a_12 + 0.5 * a_22 - 5 * a_32 + b_2 + 10 * (s_0(mu_1)_coeff * a_12) + (s_0(mu_1)_coeff * a_32) - 0.5 * (pow(s_0(mu_1)_coeff, 2) * a_12) + 0.5 * (pow(s_0(mu_1)_coeff, 2) * a_22) + 5 * (pow(s_0(mu_1)_coeff, 2) * a_32) + (pow(s_0(mu_1)_coeff, 2) * b_2) - pow(s_0(mu_1)_coeff, 2))*1 + (0.5 * a_11 + 0.5 * a_21 - 5 * a_31 + b_1 - 2 * (s_0(mu_0)_coeff * s_0(mu_1)_coeff) - (s_0(mu_0)_coeff * s_0(mu_1)_coeff * a_12) + (s_0(mu_0)_coeff * s_0(mu_1)_coeff * a_22) + 10 * (s_0(mu_0)_coeff * s_0(mu_1)_coeff * a_32) + 2 * (s_0(mu_0)_coeff * s_0(mu_1)_coeff * b_2) + 10 * (s_0(mu_0)_coeff * a_12) + (s_0(mu_0)_coeff * a_32) + 10 * (s_0(mu_1)_coeff * a_11) + (s_0(mu_1)_coeff * a_31) - 0.5 * (pow(s_0(mu_1)_coeff, 2) * a_11) + 0.5 * (pow(s_0(mu_1)_coeff, 2) * a_21) + 5 * (pow(s_0(mu_1)_coeff, 2) * a_31) + (pow(s_0(mu_1)_coeff, 2) * b_1))*mu + ( - (s_0(mu_0)_coeff * s_0(mu_1)_coeff * a_11) + (s_0(mu_0)_coeff * s_0(mu_1)_coeff * a_21) + 10 * (s_0(mu_0)_coeff * s_0(mu_1)_coeff * a_31) + 2 * (s_0(mu_0)_coeff * s_0(mu_1)_coeff * b_1) + 10 * (s_0(mu_0)_coeff * a_11) + (s_0(mu_0)_coeff * a_31) - 0.5 * (pow(s_0(mu_0)_coeff, 2) * a_12) + 0.5 * (pow(s_0(mu_0)_coeff, 2) * a_22) + 5 * (pow(s_0(mu_0)_coeff, 2) * a_32) + (pow(s_0(mu_0)_coeff, 2) * b_2) - pow(s_0(mu_0)_coeff, 2))*mu^2 + ( - 0.5 * (pow(s_0(mu_0)_coeff, 2) * a_11) + 0.5 * (pow(s_0(mu_0)_coeff, 2) * a_21) + 5 * (pow(s_0(mu_0)_coeff, 2) * a_31) + (pow(s_0(mu_0)_coeff, 2) * b_1))*mu^3\n",
      "(-1 + 0.5 * a_12 - 0.5 * a_22 + 5 * a_32 + b_2)*1 + (0.5 * a_11 - 0.5 * a_21 + 5 * a_31 + b_1)*mu + (2 * ( - 5 * a_12 + 0.5 * a_32))*s[0] + (2 * ( - 5 * a_11 + 0.5 * a_31))*s[0] * mu + (-1 - 0.5 * a_12 - 0.5 * a_22 - 5 * a_32 + b_2)*s[0]^2 + ( - 0.5 * a_11 - 0.5 * a_21 - 5 * a_31 + b_1)*s[0]^2 * mu\n",
      "\n",
      "(-1 + 0.5 * a_12 - 0.5 * a_22 + 5 * a_32 + b_2 - 10 * (s_0(mu_1)_coeff * a_12) + (s_0(mu_1)_coeff * a_32) - 0.5 * (pow(s_0(mu_1)_coeff, 2) * a_12) - 0.5 * (pow(s_0(mu_1)_coeff, 2) * a_22) - 5 * (pow(s_0(mu_1)_coeff, 2) * a_32) + (pow(s_0(mu_1)_coeff, 2) * b_2) - pow(s_0(mu_1)_coeff, 2))*1 + (0.5 * a_11 - 0.5 * a_21 + 5 * a_31 + b_1 - 2 * (s_0(mu_0)_coeff * s_0(mu_1)_coeff) - (s_0(mu_0)_coeff * s_0(mu_1)_coeff * a_12) - (s_0(mu_0)_coeff * s_0(mu_1)_coeff * a_22) - 10 * (s_0(mu_0)_coeff * s_0(mu_1)_coeff * a_32) + 2 * (s_0(mu_0)_coeff * s_0(mu_1)_coeff * b_2) - 10 * (s_0(mu_0)_coeff * a_12) + (s_0(mu_0)_coeff * a_32) - 10 * (s_0(mu_1)_coeff * a_11) + (s_0(mu_1)_coeff * a_31) - 0.5 * (pow(s_0(mu_1)_coeff, 2) * a_11) - 0.5 * (pow(s_0(mu_1)_coeff, 2) * a_21) - 5 * (pow(s_0(mu_1)_coeff, 2) * a_31) + (pow(s_0(mu_1)_coeff, 2) * b_1))*mu + ( - (s_0(mu_0)_coeff * s_0(mu_1)_coeff * a_11) - (s_0(mu_0)_coeff * s_0(mu_1)_coeff * a_21) - 10 * (s_0(mu_0)_coeff * s_0(mu_1)_coeff * a_31) + 2 * (s_0(mu_0)_coeff * s_0(mu_1)_coeff * b_1) - 10 * (s_0(mu_0)_coeff * a_11) + (s_0(mu_0)_coeff * a_31) - 0.5 * (pow(s_0(mu_0)_coeff, 2) * a_12) - 0.5 * (pow(s_0(mu_0)_coeff, 2) * a_22) - 5 * (pow(s_0(mu_0)_coeff, 2) * a_32) + (pow(s_0(mu_0)_coeff, 2) * b_2) - pow(s_0(mu_0)_coeff, 2))*mu^2 + ( - 0.5 * (pow(s_0(mu_0)_coeff, 2) * a_11) - 0.5 * (pow(s_0(mu_0)_coeff, 2) * a_21) - 5 * (pow(s_0(mu_0)_coeff, 2) * a_31) + (pow(s_0(mu_0)_coeff, 2) * b_1))*mu^3\n",
      "(-1 + 0.5 * a_12 - 0.5 * a_22 - 5 * a_32 + b_2)*1 + (0.5 * a_11 - 0.5 * a_21 - 5 * a_31 + b_1)*mu + (2 * (5 * a_12 + 0.5 * a_32))*s[0] + (2 * (5 * a_11 + 0.5 * a_31))*s[0] * mu + (-1 - 0.5 * a_12 - 0.5 * a_22 + 5 * a_32 + b_2)*s[0]^2 + ( - 0.5 * a_11 - 0.5 * a_21 + 5 * a_31 + b_1)*s[0]^2 * mu\n",
      "\n",
      "(-1 + 0.5 * a_12 - 0.5 * a_22 - 5 * a_32 + b_2 + 10 * (s_0(mu_1)_coeff * a_12) + (s_0(mu_1)_coeff * a_32) - 0.5 * (pow(s_0(mu_1)_coeff, 2) * a_12) - 0.5 * (pow(s_0(mu_1)_coeff, 2) * a_22) + 5 * (pow(s_0(mu_1)_coeff, 2) * a_32) + (pow(s_0(mu_1)_coeff, 2) * b_2) - pow(s_0(mu_1)_coeff, 2))*1 + (0.5 * a_11 - 0.5 * a_21 - 5 * a_31 + b_1 - 2 * (s_0(mu_0)_coeff * s_0(mu_1)_coeff) - (s_0(mu_0)_coeff * s_0(mu_1)_coeff * a_12) - (s_0(mu_0)_coeff * s_0(mu_1)_coeff * a_22) + 10 * (s_0(mu_0)_coeff * s_0(mu_1)_coeff * a_32) + 2 * (s_0(mu_0)_coeff * s_0(mu_1)_coeff * b_2) + 10 * (s_0(mu_0)_coeff * a_12) + (s_0(mu_0)_coeff * a_32) + 10 * (s_0(mu_1)_coeff * a_11) + (s_0(mu_1)_coeff * a_31) - 0.5 * (pow(s_0(mu_1)_coeff, 2) * a_11) - 0.5 * (pow(s_0(mu_1)_coeff, 2) * a_21) + 5 * (pow(s_0(mu_1)_coeff, 2) * a_31) + (pow(s_0(mu_1)_coeff, 2) * b_1))*mu + ( - (s_0(mu_0)_coeff * s_0(mu_1)_coeff * a_11) - (s_0(mu_0)_coeff * s_0(mu_1)_coeff * a_21) + 10 * (s_0(mu_0)_coeff * s_0(mu_1)_coeff * a_31) + 2 * (s_0(mu_0)_coeff * s_0(mu_1)_coeff * b_1) + 10 * (s_0(mu_0)_coeff * a_11) + (s_0(mu_0)_coeff * a_31) - 0.5 * (pow(s_0(mu_0)_coeff, 2) * a_12) - 0.5 * (pow(s_0(mu_0)_coeff, 2) * a_22) + 5 * (pow(s_0(mu_0)_coeff, 2) * a_32) + (pow(s_0(mu_0)_coeff, 2) * b_2) - pow(s_0(mu_0)_coeff, 2))*mu^2 + ( - 0.5 * (pow(s_0(mu_0)_coeff, 2) * a_11) - 0.5 * (pow(s_0(mu_0)_coeff, 2) * a_21) + 5 * (pow(s_0(mu_0)_coeff, 2) * a_31) + (pow(s_0(mu_0)_coeff, 2) * b_1))*mu^3\n",
      "(-1 - 0.29999999999999999 * a_12 - 0.29999999999999999 * a_22 + 0.69999999999999996 * a_32 - b_2)*1 + ( - 0.29999999999999999 * a_11 - 0.29999999999999999 * a_21 + 0.69999999999999996 * a_31 - b_1)*mu\n",
      "\n",
      "(-1 - 0.29999999999999999 * a_12 - 0.29999999999999999 * a_22 + 0.69999999999999996 * a_32 - b_2)*1 + ( - 0.29999999999999999 * a_11 - 0.29999999999999999 * a_21 + 0.69999999999999996 * a_31 - b_1)*mu\n",
      "(-1 - 0.29999999999999999 * a_12 - 0.29999999999999999 * a_22 + 1.3 * a_32 - b_2)*1 + ( - 0.29999999999999999 * a_11 - 0.29999999999999999 * a_21 + 1.3 * a_31 - b_1)*mu\n",
      "\n",
      "(-1 - 0.29999999999999999 * a_12 - 0.29999999999999999 * a_22 + 1.3 * a_32 - b_2)*1 + ( - 0.29999999999999999 * a_11 - 0.29999999999999999 * a_21 + 1.3 * a_31 - b_1)*mu\n",
      "(-1 - 0.29999999999999999 * a_12 + 0.29999999999999999 * a_22 + 0.69999999999999996 * a_32 - b_2)*1 + ( - 0.29999999999999999 * a_11 + 0.29999999999999999 * a_21 + 0.69999999999999996 * a_31 - b_1)*mu\n",
      "\n",
      "(-1 - 0.29999999999999999 * a_12 + 0.29999999999999999 * a_22 + 0.69999999999999996 * a_32 - b_2)*1 + ( - 0.29999999999999999 * a_11 + 0.29999999999999999 * a_21 + 0.69999999999999996 * a_31 - b_1)*mu\n",
      "(-1 - 0.29999999999999999 * a_12 + 0.29999999999999999 * a_22 + 1.3 * a_32 - b_2)*1 + ( - 0.29999999999999999 * a_11 + 0.29999999999999999 * a_21 + 1.3 * a_31 - b_1)*mu\n",
      "\n",
      "(-1 - 0.29999999999999999 * a_12 + 0.29999999999999999 * a_22 + 1.3 * a_32 - b_2)*1 + ( - 0.29999999999999999 * a_11 + 0.29999999999999999 * a_21 + 1.3 * a_31 - b_1)*mu\n",
      "(-1 + 0.29999999999999999 * a_12 - 0.29999999999999999 * a_22 + 0.69999999999999996 * a_32 - b_2)*1 + (0.29999999999999999 * a_11 - 0.29999999999999999 * a_21 + 0.69999999999999996 * a_31 - b_1)*mu\n",
      "\n",
      "(-1 + 0.29999999999999999 * a_12 - 0.29999999999999999 * a_22 + 0.69999999999999996 * a_32 - b_2)*1 + (0.29999999999999999 * a_11 - 0.29999999999999999 * a_21 + 0.69999999999999996 * a_31 - b_1)*mu\n",
      "(-1 + 0.29999999999999999 * a_12 - 0.29999999999999999 * a_22 + 1.3 * a_32 - b_2)*1 + (0.29999999999999999 * a_11 - 0.29999999999999999 * a_21 + 1.3 * a_31 - b_1)*mu\n",
      "\n",
      "(-1 + 0.29999999999999999 * a_12 - 0.29999999999999999 * a_22 + 1.3 * a_32 - b_2)*1 + (0.29999999999999999 * a_11 - 0.29999999999999999 * a_21 + 1.3 * a_31 - b_1)*mu\n",
      "(-1 + 0.29999999999999999 * a_12 + 0.29999999999999999 * a_22 + 0.69999999999999996 * a_32 - b_2)*1 + (0.29999999999999999 * a_11 + 0.29999999999999999 * a_21 + 0.69999999999999996 * a_31 - b_1)*mu\n",
      "\n",
      "(-1 + 0.29999999999999999 * a_12 + 0.29999999999999999 * a_22 + 0.69999999999999996 * a_32 - b_2)*1 + (0.29999999999999999 * a_11 + 0.29999999999999999 * a_21 + 0.69999999999999996 * a_31 - b_1)*mu\n",
      "(-1 + 0.29999999999999999 * a_12 + 0.29999999999999999 * a_22 + 1.3 * a_32 - b_2)*1 + (0.29999999999999999 * a_11 + 0.29999999999999999 * a_21 + 1.3 * a_31 - b_1)*mu\n",
      "\n",
      "(-1 + 0.29999999999999999 * a_12 + 0.29999999999999999 * a_22 + 1.3 * a_32 - b_2)*1 + (0.29999999999999999 * a_11 + 0.29999999999999999 * a_21 + 1.3 * a_31 - b_1)*mu\n"
     ]
    }
   ],
   "source": [
    "builder = DiagramBuilder()\n",
    "plant, scene_graph = AddMultibodyPlantSceneGraph(builder, time_step=0.001)\n",
    "parser = Parser(plant)\n",
    "\n",
    "\n",
    "\n",
    "\n",
    "pendulum_world = FindResourceOrThrow(\"drake/C_Iris_Examples/assets/single_pendulum_world.urdf\")\n",
    "\n",
    "models = []\n",
    "models.append(parser.AddModelFromFile(pendulum_world))\n",
    "\n",
    "plant.Finalize()\n",
    "Ratfk = RationalForwardKinematics(plant)\n",
    "\n",
    "# the point about which we will take the stereographic projections\n",
    "q_star = np.zeros(1)\n",
    "\n",
    "t0 = time.time()\n",
    "cspace_free_path = CspaceFreePath(plant, scene_graph, q_star, maximum_path_degree = 1, plane_order = 1)\n",
    "t1 = time.time()\n",
    "print(f\"Time to construct line certifier = {t1-t0}s\")\n",
    "\n",
    "# #compute limits in t-space\n",
    "limits_q = [plant.GetPositionLowerLimits().item(), plant.GetPositionUpperLimits().item()]\n",
    "limits_s = [Ratfk.ComputeSValue(np.array([q]), q_star) for q in limits_q]\n",
    "do_viz = True\n",
    "\n",
    "# This line builds the visualization. Change the viz_role to Role.kIllustration if you\n",
    "# want to see the plant with its illustrated geometry or to Role.kProximity\n",
    "visualizer = IrisPlantVisualizer(plant, builder, scene_graph, cspace_free_path, viz_role=Role.kIllustration)\n"
   ]
  },
  {
   "cell_type": "markdown",
   "metadata": {},
   "source": [
    "## Set up the sliders so we can move the plant around manually"
   ]
  },
  {
   "cell_type": "code",
   "execution_count": 6,
   "metadata": {
    "scrolled": false
   },
   "outputs": [
    {
     "name": "stderr",
     "output_type": "stream",
     "text": [
      "Widget Javascript not detected.  It may not be installed or enabled properly. Reconnecting the current kernel may help.\n"
     ]
    },
    {
     "data": {
      "application/vnd.jupyter.widget-view+json": {
       "model_id": "591083cffda74a448a015ce6599bcbe9"
      }
     },
     "metadata": {},
     "output_type": "display_data"
    }
   ],
   "source": [
    "sliders = []\n",
    "sliders.append(widgets.FloatSlider(min=plant.GetPositionLowerLimits().item(),\n",
    "                                   max=plant.GetPositionUpperLimits().item(), \n",
    "                                   value=0, description='q0'))\n",
    "# sliders.append(widgets.FloatSlider(min=q_low[2], max=q_high[2], value=0, description='q2'))\n",
    "\n",
    "q = np.array([0])\n",
    "def handle_slider_change(change, idx):\n",
    "    q[idx] = change['new']\n",
    "    visualizer.show_res_q(q)\n",
    "    \n",
    "idx = 0\n",
    "for slider in sliders:\n",
    "    slider.observe(partial(handle_slider_change, idx = idx), names='value')\n",
    "    idx+=1\n",
    "\n",
    "for slider in sliders:\n",
    "    display(slider)\n",
    "\n",
    "\n",
    "# visualizer.jupyter_cell()"
   ]
  },
  {
   "cell_type": "code",
   "execution_count": 7,
   "metadata": {},
   "outputs": [],
   "source": [
    "cert_options = CspaceFreePath.FindSeparationCertificateGivenPathOptions()\n",
    "cert_options.terminate_segment_certification_at_failure = False\n",
    "\n",
    "cert_options.num_threads = -1\n",
    "cert_options.verbose = False\n",
    "cert_options.solver_id = MosekSolver.id()\n",
    "cert_options.solver_options = SolverOptions()\n",
    "cert_options.terminate_path_certification_at_failure = False\n"
   ]
  },
  {
   "cell_type": "code",
   "execution_count": 8,
   "metadata": {},
   "outputs": [],
   "source": [
    "geoms= cspace_free_path.plane_geometries_on_path()"
   ]
  },
  {
   "cell_type": "code",
   "execution_count": 9,
   "metadata": {},
   "outputs": [
    {
     "data": {
      "text/plain": [
       "<Polynomial \"(-1 + 1.5 * a_12 + 0.5 * a_22 + 5 * a_32 + b_2 - 10 * (s_0(mu_1)_coeff * a_12) + 3 * (s_0(mu_1)_coeff * a_32) - 1.5 * (pow(s_0(mu_1)_coeff, 2) * a_12) + 0.5 * (pow(s_0(mu_1)_coeff, 2) * a_22) - 5 * (pow(s_0(mu_1)_coeff, 2) * a_32) + (pow(s_0(mu_1)_coeff, 2) * b_2) - pow(s_0(mu_1)_coeff, 2))*1 + (1.5 * a_11 + 0.5 * a_21 + 5 * a_31 + b_1 - 2 * (s_0(mu_0)_coeff * s_0(mu_1)_coeff) - 3 * (s_0(mu_0)_coeff * s_0(mu_1)_coeff * a_12) + (s_0(mu_0)_coeff * s_0(mu_1)_coeff * a_22) - 10 * (s_0(mu_0)_coeff * s_0(mu_1)_coeff * a_32) + 2 * (s_0(mu_0)_coeff * s_0(mu_1)_coeff * b_2) - 10 * (s_0(mu_0)_coeff * a_12) + 3 * (s_0(mu_0)_coeff * a_32) - 10 * (s_0(mu_1)_coeff * a_11) + 3 * (s_0(mu_1)_coeff * a_31) - 1.5 * (pow(s_0(mu_1)_coeff, 2) * a_11) + 0.5 * (pow(s_0(mu_1)_coeff, 2) * a_21) - 5 * (pow(s_0(mu_1)_coeff, 2) * a_31) + (pow(s_0(mu_1)_coeff, 2) * b_1))*mu + ( - 3 * (s_0(mu_0)_coeff * s_0(mu_1)_coeff * a_11) + (s_0(mu_0)_coeff * s_0(mu_1)_coeff * a_21) - 10 * (s_0(mu_0)_coeff * s_0(mu_1)_coeff * a_31) + 2 * (s_0(mu_0)_coeff * s_0(mu_1)_coeff * b_1) - 10 * (s_0(mu_0)_coeff * a_11) + 3 * (s_0(mu_0)_coeff * a_31) - 1.5 * (pow(s_0(mu_0)_coeff, 2) * a_12) + 0.5 * (pow(s_0(mu_0)_coeff, 2) * a_22) - 5 * (pow(s_0(mu_0)_coeff, 2) * a_32) + (pow(s_0(mu_0)_coeff, 2) * b_2) - pow(s_0(mu_0)_coeff, 2))*mu^2 + ( - 1.5 * (pow(s_0(mu_0)_coeff, 2) * a_11) + 0.5 * (pow(s_0(mu_0)_coeff, 2) * a_21) - 5 * (pow(s_0(mu_0)_coeff, 2) * a_31) + (pow(s_0(mu_0)_coeff, 2) * b_1))*mu^3\">"
      ]
     },
     "execution_count": 9,
     "metadata": {},
     "output_type": "execute_result"
    }
   ],
   "source": [
    "geoms[0].positive_side_conditions[0].get_poly()"
   ]
  },
  {
   "cell_type": "code",
   "execution_count": 10,
   "metadata": {},
   "outputs": [],
   "source": [
    "planes = cspace_free_path.separating_planes()\n",
    "plane = planes[0]"
   ]
  },
  {
   "cell_type": "code",
   "execution_count": 11,
   "metadata": {},
   "outputs": [],
   "source": [
    "link_geomtery = plane.negative_side_geometry\n",
    "expressed_body = plane.expressed_body"
   ]
  },
  {
   "cell_type": "code",
   "execution_count": 12,
   "metadata": {},
   "outputs": [],
   "source": [
    "pose = Ratfk.CalcBodyPoseAsMultilinearPolynomial(np.zeros(1), \n",
    "                                          link_geomtery.body_index(),\n",
    "                                         expressed_body)"
   ]
  },
  {
   "cell_type": "code",
   "execution_count": 13,
   "metadata": {},
   "outputs": [
    {
     "data": {
      "text/plain": [
       "array([[<Polynomial \"1*1\">, <Polynomial \"0\">, <Polynomial \"0\">],\n",
       "       [<Polynomial \"0\">, <Polynomial \"1*1\">, <Polynomial \"0\">],\n",
       "       [<Polynomial \"0\">, <Polynomial \"0\">, <Polynomial \"1*1\">]],\n",
       "      dtype=object)"
      ]
     },
     "execution_count": 13,
     "metadata": {},
     "output_type": "execute_result"
    },
    {
     "name": "stderr",
     "output_type": "stream",
     "text": [
      "DEBUG:drake:Meshcat connection opened from 0000:0000:0000:0000:0000:0000:0000:0001\n",
      "DEBUG:drake:Meshcat connection closed from 0000:0000:0000:0000:0000:0000:0000:0001\n",
      "DEBUG:drake:Meshcat connection opened from 0000:0000:0000:0000:0000:0000:0000:0001\n"
     ]
    }
   ],
   "source": [
    "pose.rotation()"
   ]
  },
  {
   "cell_type": "code",
   "execution_count": 14,
   "metadata": {},
   "outputs": [
    {
     "data": {
      "text/plain": [
       "{Variable('s[0]', Continuous): <Polynomial \"s_0(mu_1)_coeff*1 + s_0(mu_0)_coeff*mu\">}"
      ]
     },
     "execution_count": 14,
     "metadata": {},
     "output_type": "execute_result"
    }
   ],
   "source": [
    "cspace_free_path.path()"
   ]
  }
 ],
 "metadata": {
  "interpreter": {
   "hash": "31f2aee4e71d21fbe5cf8b01ff0e069b9275f58929596ceb00d14d90e3e16cd6"
  },
  "kernelspec": {
   "display_name": "Python 3 (ipykernel)",
   "language": "python",
   "name": "python3"
  },
  "language_info": {
   "codemirror_mode": {
    "name": "ipython",
    "version": 3
   },
   "file_extension": ".py",
   "mimetype": "text/x-python",
   "name": "python",
   "nbconvert_exporter": "python",
   "pygments_lexer": "ipython3",
   "version": "3.10.6"
  }
 },
 "nbformat": 4,
 "nbformat_minor": 2
}
