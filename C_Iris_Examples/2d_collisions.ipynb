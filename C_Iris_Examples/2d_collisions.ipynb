{
 "cells": [
  {
   "cell_type": "code",
   "execution_count": 1,
   "metadata": {},
   "outputs": [],
   "source": [
    "%load_ext autoreload"
   ]
  },
  {
   "cell_type": "code",
   "execution_count": 2,
   "metadata": {},
   "outputs": [],
   "source": [
    "import numpy as np\n",
    "from functools import partial\n",
    "import ipywidgets as widgets\n",
    "from IPython.display import display\n",
    "from scipy.linalg import block_diag\n",
    "import matplotlib.pyplot as plt\n",
    "from pathlib import Path\n",
    "import os\n",
    "from scipy.spatial import ConvexHull"
   ]
  },
  {
   "cell_type": "code",
   "execution_count": 3,
   "metadata": {},
   "outputs": [],
   "source": [
    "#pydrake imports\n",
    "from pydrake.common import FindResourceOrThrow\n",
    "from pydrake.multibody.parsing import Parser\n",
    "from pydrake.multibody.plant import AddMultibodyPlantSceneGraph\n",
    "from pydrake.systems.framework import DiagramBuilder\n",
    "from pydrake.geometry import Role, GeometrySet, CollisionFilterDeclaration\n",
    "from pydrake.solvers import MathematicalProgram, Solve\n",
    "from pydrake.all import RigidTransform, RollPitchYaw, RevoluteJoint\n",
    "from pydrake.all import RotationMatrix\n",
    "import pydrake.symbolic as sym\n",
    "import time\n",
    "from pydrake.all import CspaceFreeLine, CspaceFreeRegion\n",
    "import pydrake.multibody.rational_forward_kinematics as rational_forward_kinematics\n",
    "from pydrake.all import VerificationOption\n",
    "\n",
    "from pydrake.all import RationalForwardKinematics\n",
    "from pydrake.geometry.optimization import IrisOptionsRationalSpace, IrisInRationalConfigurationSpace, HPolyhedron, Hyperellipsoid"
   ]
  },
  {
   "cell_type": "code",
   "execution_count": 4,
   "metadata": {},
   "outputs": [],
   "source": [
    "import logging\n",
    "drake_logger = logging.getLogger(\"drake\")\n",
    "drake_logger.setLevel(\"DEBUG\")\n"
   ]
  },
  {
   "cell_type": "code",
   "execution_count": 5,
   "metadata": {},
   "outputs": [
    {
     "name": "stdout",
     "output_type": "stream",
     "text": [
      "<class 'numpy.ndarray'>\n"
     ]
    }
   ],
   "source": [
    "num_vars = 2\n",
    "var_list = sym.MakeVectorContinuousVariable(num_vars, \"x\")\n",
    "vars_obj = sym.Variables(var_list)\n",
    "\n",
    "deg = 1\n",
    "\n",
    "basis = sym.MonomialBasis(var_list, deg)\n",
    "print(type(basis))"
   ]
  },
  {
   "cell_type": "code",
   "execution_count": 6,
   "metadata": {},
   "outputs": [],
   "source": [
    "def build_polytope_intersection_program_strict_convex_hull(P_poly, Q_poly, env):\n",
    "    P = sym.Evaluate(P_poly, env)\n",
    "    Q = sym.Evaluate(Q_poly, env)\n",
    "    prog = MathematicalProgram()\n",
    "    lam = prog.NewContinuousVariables(P.shape[0], \"lam\")\n",
    "    nu = prog.NewContinuousVariables(Q.shape[0], \"nu\")\n",
    "    \n",
    "    prog.AddLinearConstraint(np.eye(lam.shape[0]), np.zeros_like(lam), np.inf*np.ones_like(lam), lam)\n",
    "    prog.AddLinearConstraint(np.eye(nu.shape[0]), np.zeros_like(nu), np.inf*np.ones_like(nu), nu)\n",
    "    \n",
    "    prog.AddLinearEqualityConstraint(np.ones((1,lam.shape[0])),np.array([1]), lam)\n",
    "    prog.AddLinearEqualityConstraint(np.ones((1,nu.shape[0])), np.array([1]), nu)\n",
    "    \n",
    "    prog.AddLinearEqualityConstraint(np.vstack([P, -Q]).T, np.zeros(P.shape[1]), np.concatenate([lam, nu]))\n",
    "    \n",
    "    return prog\n",
    "\n",
    "def build_polytope_intersection_program_nonstrict_convex_hull(P_poly, Q_poly, env):\n",
    "    P = sym.Evaluate(P_poly, env)\n",
    "    Q = sym.Evaluate(Q_poly, env)\n",
    "    prog = MathematicalProgram()\n",
    "    lam = prog.NewContinuousVariables(P.shape[0], \"lam\")\n",
    "    nu = prog.NewContinuousVariables(Q.shape[0], \"nu\")\n",
    "    \n",
    "    eps = 1e-3\n",
    "    \n",
    "    prog.AddLinearConstraint(np.eye(lam.shape[0]), eps*np.ones_like(lam), np.inf*np.ones_like(lam), lam)\n",
    "    prog.AddLinearConstraint(np.eye(nu.shape[0]), eps*np.ones_like(nu), np.inf*np.ones_like(nu), nu)\n",
    "    \n",
    "#     prog.AddLinearConstraint(np.eye(lam.shape[0]), np.zeros_like(lam), np.inf*np.ones_like(lam), lam)\n",
    "#     prog.AddLinearConstraint(np.eye(nu.shape[0]), np.zeros_like(nu), np.inf*np.ones_like(nu), nu)\n",
    "    \n",
    "    prog.AddLinearEqualityConstraint(np.hstack([np.ones((1,lam.shape[0])), -np.ones((1,nu.shape[0]))]),\n",
    "                                                np.array([0]), np.concatenate([lam,nu]))\n",
    "    \n",
    "    prog.AddLinearEqualityConstraint(np.vstack([P, -Q]).T, np.zeros(P.shape[1]), np.concatenate([lam, nu]))\n",
    "    \n",
    "    return prog\n",
    "\n",
    "def polytopes_intersect(P_poly, Q_poly, env, strict = True):\n",
    "    builder = build_polytope_intersection_program_strict_convex_hull if strict else build_polytope_intersection_program_nonstrict_convex_hull\n",
    "    prog = builder(P_poly, Q_poly, env)\n",
    "    result = Solve(prog)\n",
    "    return result.is_success(), result, prog"
   ]
  },
  {
   "cell_type": "code",
   "execution_count": 7,
   "metadata": {},
   "outputs": [
    {
     "data": {
      "image/png": "[encoded data removed]",
      "text/plain": [
       "<Figure size 640x480 with 1 Axes>"
      ]
     },
     "metadata": {},
     "output_type": "display_data"
    },
    {
     "name": "stderr",
     "output_type": "stream",
     "text": [
      "DEBUG:drake:solvers::Solve will use Mosek\n",
      "DEBUG:drake:solvers::Solve will use Mosek\n"
     ]
    },
    {
     "name": "stdout",
     "output_type": "stream",
     "text": [
      "False\n",
      "False\n"
     ]
    }
   ],
   "source": [
    "dim = 2\n",
    "# np.random.seed(1)\n",
    "\n",
    "num_verts_p = 4\n",
    "P_poly = np.random.randn(num_verts_p, dim, basis.shape[0]) @ basis\n",
    "\n",
    "num_verts_q = 3\n",
    "Q_poly = np.random.randn(num_verts_q, dim, basis.shape[0]) @ basis\n",
    "\n",
    "def plot_polytopes_at_val(P_poly, Q_poly, env):\n",
    "    P = sym.Evaluate(P_poly, env)\n",
    "    Q = sym.Evaluate(Q_poly, env)\n",
    "    P_hull = ConvexHull(P) #np.zeros((3, num_verts_p))\n",
    "    Q_hull = ConvexHull(Q) #np.zeros((3, num_verts_q))\n",
    "    plt.fill(P[P_hull.vertices, 0], P[P_hull.vertices, 1])\n",
    "    plt.fill(Q[Q_hull.vertices, 0], Q[Q_hull.vertices, 1])\n",
    "    plt.show()\n",
    "\n",
    "env = {k: np.random.randn(1).item() for k  in var_list}\n",
    "plot_polytopes_at_val(P_poly, Q_poly, env)\n",
    "\n",
    "does_intersect_strict, result_strict, prog_strict = polytopes_intersect(P_poly, Q_poly, env, strict = True)\n",
    "does_intersect_nonstrict, result_nonstrict, prog_nonstrict = polytopes_intersect(P_poly, Q_poly, env, strict = False)\n",
    "print(does_intersect_strict)\n",
    "print(does_intersect_nonstrict)"
   ]
  },
  {
   "cell_type": "code",
   "execution_count": 8,
   "metadata": {},
   "outputs": [
    {
     "name": "stdout",
     "output_type": "stream",
     "text": [
      "[0. 0. 0. 0. 0. 0. 0.]\n"
     ]
    }
   ],
   "source": [
    "print(result_strict.get_x_val())"
   ]
  },
  {
   "cell_type": "code",
   "execution_count": 9,
   "metadata": {},
   "outputs": [
    {
     "name": "stdout",
     "output_type": "stream",
     "text": [
      "[0. 0. 0. 0. 0. 0. 0.]\n"
     ]
    }
   ],
   "source": [
    "print(result_nonstrict.get_x_val())"
   ]
  },
  {
   "cell_type": "code",
   "execution_count": null,
   "metadata": {},
   "outputs": [],
   "source": []
  }
 ],
 "metadata": {
  "interpreter": {
   "hash": "31f2aee4e71d21fbe5cf8b01ff0e069b9275f58929596ceb00d14d90e3e16cd6"
  },
  "kernelspec": {
   "display_name": "Python 3",
   "language": "python",
   "name": "python3"
  },
  "language_info": {
   "codemirror_mode": {
    "name": "ipython",
    "version": 3
   },
   "file_extension": ".py",
   "mimetype": "text/x-python",
   "name": "python",
   "nbconvert_exporter": "python",
   "pygments_lexer": "ipython3",
   "version": "3.8.10"
  }
 },
 "nbformat": 4,
 "nbformat_minor": 2
}
