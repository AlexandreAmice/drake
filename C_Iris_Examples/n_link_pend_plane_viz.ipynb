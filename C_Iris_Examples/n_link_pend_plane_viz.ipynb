{
 "cells": [
  {
   "cell_type": "code",
   "execution_count": 1,
   "metadata": {},
   "outputs": [],
   "source": [
    "%load_ext autoreload"
   ]
  },
  {
   "cell_type": "code",
   "execution_count": 2,
   "metadata": {},
   "outputs": [],
   "source": [
    "import numpy as np\n",
    "from functools import partial\n",
    "import visualization_utils as vis_utils\n",
    "from iris_plant_visualizer import IrisPlantVisualizer\n",
    "import ipywidgets as widgets\n",
    "from IPython.display import display\n",
    "from scipy.linalg import block_diag\n",
    "import matplotlib.pyplot as plt\n",
    "from pathlib import Path\n",
    "import os"
   ]
  },
  {
   "cell_type": "code",
   "execution_count": 3,
   "metadata": {},
   "outputs": [],
   "source": [
    "#pydrake imports\n",
    "from pydrake.common import FindResourceOrThrow\n",
    "from pydrake.multibody.parsing import Parser\n",
    "from pydrake.multibody.plant import AddMultibodyPlantSceneGraph\n",
    "from pydrake.systems.framework import DiagramBuilder\n",
    "from pydrake.geometry import Role, GeometrySet, CollisionFilterDeclaration\n",
    "from pydrake.all import RigidTransform, RollPitchYaw, RevoluteJoint\n",
    "from pydrake.all import RotationMatrix,MeshcatVisualizer, StartMeshcat, Sphere\n",
    "import pydrake.symbolic as sym\n",
    "from pydrake.solvers import MosekSolver, CommonSolverOption, SolverOptions, ScsSolver\n",
    "from pydrake.all import PointCloud, MeshcatVisualizerParams, Role, HalfSpace, SceneGraph,CoulombFriction, Box, Rgba, WeldJoint, GeometrySet\n",
    "from pydrake.polynomial import Polynomial as PolynomialCommon\n",
    "import time\n",
    "from scipy.spatial.transform import Rotation as sp_rot\n",
    "from sampling_based_motion_planners import StraightLineCollisionChecker, PRM, BiRRT, PRMFixedEdges\n",
    "\n",
    "\n",
    "from pydrake.all import (RationalForwardKinematics, ModelInstanceIndex,\n",
    "                         SpatialInertia, RevoluteJoint, FixedOffsetFrame, MultibodyPlant)\n",
    "from pydrake.geometry.optimization import HPolyhedron, Hyperellipsoid\n",
    "from pydrake.geometry.optimization_dev import CspaceFreePath\n",
    "from dataclasses import dataclass\n"
   ]
  },
  {
   "cell_type": "code",
   "execution_count": 4,
   "metadata": {},
   "outputs": [],
   "source": [
    "import logging\n",
    "drake_logger = logging.getLogger(\"drake\")\n",
    "drake_logger.setLevel(logging.DEBUG)"
   ]
  },
  {
   "cell_type": "markdown",
   "metadata": {},
   "source": [
    "# Build and set up the visualization the plant and the visualization of the C-space obstacle\n",
    "\n",
    "Note that running this cell multiple times will establish multiple meshcat instances which can fill up your memory. It is a good idea to call \"pkill -f meshcat\" from the command line before re-running this cell\n"
   ]
  },
  {
   "cell_type": "code",
   "execution_count": 5,
   "metadata": {},
   "outputs": [
    {
     "name": "stderr",
     "output_type": "stream",
     "text": [
      "DEBUG:drake:FindResource ignoring DRAKE_RESOURCE_ROOT because it is not set.\n",
      "DEBUG:drake:FindRunfile mechanism = RUNFILES_{MANIFEST_FILE,DIR}\n",
      "DEBUG:drake:cwd = \"/home/amice/Documents/coding_projects/drake/C_Iris_Examples\"\n",
      "DEBUG:drake:FindRunfile found by-manifest '/home/amice/Documents/coding_projects/drake/.drake-find_resource-sentinel' (good) and by-directory '/home/amice/.cache/bazel/_bazel_amice/32fdbbecfa8a7ce8feece95e48c42006/execroot/drake/bazel-out/k8-opt/bin/C_Iris_Examples/n_link_pend_plane_viz.runfiles/drake/.drake-find_resource-sentinel' (good)\n",
      "DEBUG:drake:FindRunfile found by-manifest '/home/amice/.cache/bazel/_bazel_amice/32fdbbecfa8a7ce8feece95e48c42006/execroot/drake/bazel-out/k8-opt/bin/geometry/meshcat.js' (good) and by-directory '/home/amice/.cache/bazel/_bazel_amice/32fdbbecfa8a7ce8feece95e48c42006/execroot/drake/bazel-out/k8-opt/bin/C_Iris_Examples/n_link_pend_plane_viz.runfiles/drake/geometry/meshcat.js' (good)\n",
      "DEBUG:drake:FindResource ignoring DRAKE_RESOURCE_ROOT because it is not set.\n",
      "DEBUG:drake:FindRunfile found by-manifest '/home/amice/Documents/coding_projects/drake/.drake-find_resource-sentinel' (good) and by-directory '/home/amice/.cache/bazel/_bazel_amice/32fdbbecfa8a7ce8feece95e48c42006/execroot/drake/bazel-out/k8-opt/bin/C_Iris_Examples/n_link_pend_plane_viz.runfiles/drake/.drake-find_resource-sentinel' (good)\n",
      "DEBUG:drake:FindRunfile found by-manifest '/home/amice/.cache/bazel/_bazel_amice/32fdbbecfa8a7ce8feece95e48c42006/execroot/drake/bazel-out/k8-opt/bin/geometry/stats.min.js' (good) and by-directory '/home/amice/.cache/bazel/_bazel_amice/32fdbbecfa8a7ce8feece95e48c42006/execroot/drake/bazel-out/k8-opt/bin/C_Iris_Examples/n_link_pend_plane_viz.runfiles/drake/geometry/stats.min.js' (good)\n",
      "DEBUG:drake:FindResource ignoring DRAKE_RESOURCE_ROOT because it is not set.\n",
      "DEBUG:drake:FindRunfile found by-manifest '/home/amice/Documents/coding_projects/drake/.drake-find_resource-sentinel' (good) and by-directory '/home/amice/.cache/bazel/_bazel_amice/32fdbbecfa8a7ce8feece95e48c42006/execroot/drake/bazel-out/k8-opt/bin/C_Iris_Examples/n_link_pend_plane_viz.runfiles/drake/.drake-find_resource-sentinel' (good)\n",
      "DEBUG:drake:FindRunfile found by-manifest '/home/amice/.cache/bazel/_bazel_amice/32fdbbecfa8a7ce8feece95e48c42006/execroot/drake/bazel-out/k8-opt/bin/geometry/meshcat.ico' (good) and by-directory '/home/amice/.cache/bazel/_bazel_amice/32fdbbecfa8a7ce8feece95e48c42006/execroot/drake/bazel-out/k8-opt/bin/C_Iris_Examples/n_link_pend_plane_viz.runfiles/drake/geometry/meshcat.ico' (good)\n",
      "DEBUG:drake:FindResource ignoring DRAKE_RESOURCE_ROOT because it is not set.\n",
      "DEBUG:drake:FindRunfile found by-manifest '/home/amice/Documents/coding_projects/drake/.drake-find_resource-sentinel' (good) and by-directory '/home/amice/.cache/bazel/_bazel_amice/32fdbbecfa8a7ce8feece95e48c42006/execroot/drake/bazel-out/k8-opt/bin/C_Iris_Examples/n_link_pend_plane_viz.runfiles/drake/.drake-find_resource-sentinel' (good)\n",
      "DEBUG:drake:FindRunfile found by-manifest '/home/amice/Documents/coding_projects/drake/geometry/meshcat.html' (good) and by-directory '/home/amice/.cache/bazel/_bazel_amice/32fdbbecfa8a7ce8feece95e48c42006/execroot/drake/bazel-out/k8-opt/bin/C_Iris_Examples/n_link_pend_plane_viz.runfiles/drake/geometry/meshcat.html' (good)\n",
      "INFO:drake:Meshcat listening for connections at http://localhost:7000\n"
     ]
    }
   ],
   "source": [
    "meshcat = StartMeshcat()\n",
    "meshcat.Delete()"
   ]
  },
  {
   "cell_type": "code",
   "execution_count": 6,
   "metadata": {},
   "outputs": [],
   "source": [
    "\n",
    "def AddPendulumLink(\n",
    "    plant,\n",
    "    pendulum_model_instance,\n",
    "    link_dimensions,\n",
    "    parent_frame,\n",
    "    link_index: int,\n",
    "    pend_axis = (0,0,1),\n",
    "    color=np.array([1, 0, 0, 1]),\n",
    "):\n",
    "    pendulum_box = Box(*link_dimensions)\n",
    "    pendulum_inertia = SpatialInertia.SolidBoxWithDensity(1.0, *link_dimensions)\n",
    "\n",
    "    link_name = f\"link_{link_index}\"\n",
    "    pend_body = plant.AddRigidBody(link_name, pendulum_model_instance, pendulum_inertia)\n",
    "    parent_to_child_attach_frame = plant.AddFrame(\n",
    "        FixedOffsetFrame(\n",
    "            f\"{link_name}_joint_frame\",\n",
    "            pend_body.body_frame(),\n",
    "            RigidTransform(p=(0, link_dimensions[1] / 2, 0)),\n",
    "        )\n",
    "    )\n",
    "    next_frame = plant.AddFrame(\n",
    "        FixedOffsetFrame(\n",
    "            f\"{link_name}_joint_frame_next\",\n",
    "            pend_body.body_frame(),\n",
    "            RigidTransform(p=(0, -link_dimensions[1] / 2, 0)),\n",
    "        )\n",
    "    )\n",
    "    # add the revolute joint,\n",
    "    joint_lim = np.pi\n",
    "    plant.AddJoint(\n",
    "        RevoluteJoint(\n",
    "            f\"joint_{link_index}\",\n",
    "            parent_frame,\n",
    "            parent_to_child_attach_frame,\n",
    "            pend_axis,\n",
    "            -joint_lim,\n",
    "            joint_lim,\n",
    "        )\n",
    "    )\n",
    "\n",
    "    geom_id = plant.RegisterCollisionGeometry(\n",
    "        pend_body, RigidTransform(), pendulum_box, link_name, CoulombFriction()\n",
    "    )\n",
    "    plant.RegisterVisualGeometry(\n",
    "        pend_body, RigidTransform(), pendulum_box, link_name, color\n",
    "    )\n",
    "\n",
    "    return next_frame, geom_id\n",
    "\n",
    "\n",
    "def N_Link_Pendulum(\n",
    "    n: int,\n",
    "    plant: MultibodyPlant,\n",
    "    pendulum_model_instance: ModelInstanceIndex,\n",
    "    link_dimensions: np.ndarray,\n",
    "):\n",
    "    assert n > 0\n",
    "    parent_frame = plant.world_frame()\n",
    "    colors = np.array(vis_utils.n_colors(n)) / 255\n",
    "    colors = np.hstack([colors, np.ones((colors.shape[0], 1))])\n",
    "    geom_ids = []\n",
    "    for i in range(n):\n",
    "        parent_frame, geom_id = AddPendulumLink(\n",
    "            plant,\n",
    "            pendulum_model_instance,\n",
    "            link_dimensions,\n",
    "            parent_frame,\n",
    "            i + 1,\n",
    "            [0 if i %2 == 0 else 1, 0, 1 if i%2 ==0 else 0],\n",
    "            colors[i],\n",
    "        )\n",
    "        geom_ids.append(geom_id)\n",
    "    return geom_ids\n",
    "\n",
    "\n",
    "def AddRandomBox(\n",
    "    plant: MultibodyPlant,\n",
    "    obstacle_model_instance: ModelInstanceIndex,\n",
    "    index: int,\n",
    "    pos_limits,\n",
    "    size_limits,\n",
    "    color=[0, 0, 0, 1],\n",
    "):\n",
    "    link_name = f\"obstacle_{index}\"\n",
    "    \n",
    "    \n",
    "    def random_center():\n",
    "        dist = pos_limits[1] * np.sqrt(np.random.uniform(0,1))\n",
    "        ang = np.random.uniform(0,2*np.pi)\n",
    "        return dist*np.array([np.cos(ang), np.sin(ang), 0])\n",
    "    center = random_center()#np.append(np.random.uniform(pos_limits[0], pos_limits[1], 2), 0)\n",
    "\n",
    "    \n",
    "\n",
    "    dimensions = np.append(np.random.uniform(size_limits[0], size_limits[1], 2), 1)\n",
    "    box = Box(*dimensions)\n",
    "    inertia = SpatialInertia.SolidBoxWithDensity(1, *dimensions)\n",
    "\n",
    "    body = plant.AddRigidBody(link_name, obstacle_model_instance, inertia)\n",
    "    \n",
    "    random_rp = np.zeros(3)\n",
    "    lim = np.pi / 10\n",
    "    random_rp[2] = np.random.uniform(-lim, lim)\n",
    "    angle = RotationMatrix(RollPitchYaw(random_rp))\n",
    "    pose = RigidTransform(p=center) @ RigidTransform(R=angle)\n",
    "    origin_local = pose.inverse()@RigidTransform()\n",
    "    while np.all([-dimensions[i]/2 <= origin_local.translation()[i] < dimensions[i]/2 for i in range(3)]): \n",
    "        random_rp[2] = np.random.uniform(-lim, lim)\n",
    "        angle = RotationMatrix(RollPitchYaw(random_rp))\n",
    "        center = random_center()\n",
    "        pose = RigidTransform(p=center)@RigidTransform(R=angle)\n",
    "        origin_local = pose.inverse()@RigidTransform()\n",
    "        \n",
    "    plant.AddJoint(WeldJoint(link_name, plant.world_frame(), body.body_frame(), pose))\n",
    "    col_id = plant.RegisterCollisionGeometry(\n",
    "        body, RigidTransform(), box, link_name, CoulombFriction()\n",
    "    )\n",
    "    plant.RegisterVisualGeometry(body, RigidTransform(), box, link_name, color)\n",
    "    return col_id\n",
    "\n",
    "def AddNRandomBoxes(\n",
    "    n: int,\n",
    "    plant: MultibodyPlant,\n",
    "    obstacle_model_instance: ModelInstanceIndex,\n",
    "    pos_limits=(-10, 10),\n",
    "    size_limits=(0.1, 1),\n",
    "    color=[0, 0, 0, 1],\n",
    "):\n",
    "    assert n > 0\n",
    "    geom_ids = []\n",
    "    for i in range(n):\n",
    "        geom_ids.append(AddRandomBox(plant, obstacle_model_instance, i, pos_limits, size_limits, color))\n",
    "    return geom_ids\n",
    "\n",
    "\n",
    "def make_line_polys(plant: MultibodyPlant, prm):\n",
    "    polys = np.empty(shape=(plant.num_positions(), len(prm.prm.edges())), dtype=object)\n",
    "    for i, (s0, s1) in enumerate(prm.prm.edges()):\n",
    "        for j in range(plant.num_positions()):\n",
    "            polys[j, i] = PolynomialCommon(np.array([s0[j], s1[j] - s0[j]]))\n",
    "    return polys\n"
   ]
  },
  {
   "cell_type": "markdown",
   "metadata": {},
   "source": [
    "## The plant parameters"
   ]
  },
  {
   "cell_type": "code",
   "execution_count": 7,
   "metadata": {},
   "outputs": [],
   "source": [
    "meshcat.Delete()\n",
    "num_pend = 3\n",
    "plane_order = 1\n",
    "maximum_path_degree = 1\n",
    "num_obstacles = 10\n",
    "exclude_pend_self_collisions = True "
   ]
  },
  {
   "cell_type": "markdown",
   "metadata": {},
   "source": [
    "## Construct the main plant we will do certification with"
   ]
  },
  {
   "cell_type": "code",
   "execution_count": 8,
   "metadata": {},
   "outputs": [],
   "source": [
    "builder = DiagramBuilder()\n",
    "plant, scene_graph = AddMultibodyPlantSceneGraph(builder, time_step=0.001)\n",
    "\n",
    "link_dimensions = (0.1, 0.3, 0.1)\n",
    "pendulum_model_instance = plant.AddModelInstance(\"pendulum\")\n",
    "obstacle_model_instance = plant.AddModelInstance(\"obstacle\")\n",
    "\n",
    "np.random.seed(num_pend * num_obstacles)\n",
    "\n",
    "pend_geom_ids = N_Link_Pendulum(\n",
    "    num_pend, plant, pendulum_model_instance, np.array(link_dimensions)\n",
    ")\n",
    "pend_geom_set = GeometrySet(pend_geom_ids)\n",
    "\n",
    "if num_obstacles > 0:\n",
    "    obstacle_pos_limits = link_dimensions[1] * num_pend * np.array([-1.25, 1.25])\n",
    "    obstacle_size_limits = (0.01 / np.log(num_obstacles), 0.5 / np.log(num_obstacles))\n",
    "    obstacle_geom_ids=AddNRandomBoxes(\n",
    "        num_obstacles,\n",
    "        plant,\n",
    "        obstacle_model_instance,\n",
    "        obstacle_pos_limits,\n",
    "        obstacle_size_limits,\n",
    "    )\n",
    "    obstacle_geom_set = GeometrySet(obstacle_geom_ids)\n",
    "else:\n",
    "    obstacle_geom_ids = None\n",
    "    obstacle_geom_set = None\n",
    "\n",
    "if exclude_pend_self_collisions:\n",
    "    collision_filter_manager = scene_graph.collision_filter_manager()\n",
    "    decl = CollisionFilterDeclaration().ExcludeWithin(pend_geom_set)\n",
    "    collision_filter_manager.Apply(decl)\n",
    "\n",
    "if meshcat is not None:\n",
    "    visualizer = MeshcatVisualizer.AddToBuilder(builder, scene_graph, meshcat)\n",
    "    \n",
    "plant.Finalize()\n",
    "\n"
   ]
  },
  {
   "cell_type": "markdown",
   "metadata": {},
   "source": [
    "## Now add visualization geometries for the the \"important bodies\"\n",
    " \n",
    "This constructs one plant for each important body purely for plotting hyperplanes\n"
   ]
  },
  {
   "cell_type": "code",
   "execution_count": 9,
   "metadata": {},
   "outputs": [],
   "source": [
    "important_pend_col_geom_ids = [\n",
    "    pend_geom_ids[-1]\n",
    "]\n",
    "important_obstacles_geom_ids = obstacle_geom_ids\n",
    "important_collision_pairs = [(p1, p2) for p2 in important_obstacles_geom_ids \n",
    "                             for p1 in important_pend_col_geom_ids]\n",
    "\n",
    "hyperplane_plants = {} # map a geometry pair to the appropriate hyerplane plant\n",
    "plane_dimensions = (1,1,0.001)\n",
    "plane_color = (0,1,0,0.25)\n",
    "dummy_inertia = SpatialInertia.SolidBoxWithDensity(0.01, *plane_dimensions)\n",
    "dummy_box = Box(*plane_dimensions)\n",
    "\n",
    "for p1, p2 in important_collision_pairs:\n",
    "    hyperplane_plant = builder.AddSystem(MultibodyPlant(0.01))\n",
    "    hyperplane_plant.RegisterAsSourceForSceneGraph(scene_graph)\n",
    "    builder.Connect(hyperplane_plant.get_geometry_poses_output_port(), scene_graph.get_source_pose_port(\n",
    "              hyperplane_plant.get_source_id()))\n",
    "    builder.Connect(\n",
    "          scene_graph.get_query_output_port(),\n",
    "          hyperplane_plant.get_geometry_query_input_port())\n",
    "    hyperplane_model_instance = hyperplane_plant.AddModelInstance(\"hyperplane\")\n",
    "    body_name = f\"hyperplane_{p1, p2}\"\n",
    "    body = hyperplane_plant.AddRigidBody(body_name, hyperplane_model_instance, dummy_inertia)    \n",
    "    hyperplane_plant.RegisterVisualGeometry(body, RigidTransform(), dummy_box, body_name, plane_color)\n",
    "    hyperplane_plant.Finalize()\n",
    "    hyperplane_plants[p1, p2] = hyperplane_plant\n"
   ]
  },
  {
   "cell_type": "markdown",
   "metadata": {},
   "source": [
    "## Build our diagram and our line certifier"
   ]
  },
  {
   "cell_type": "code",
   "execution_count": 10,
   "metadata": {},
   "outputs": [
    {
     "name": "stderr",
     "output_type": "stream",
     "text": [
      "DEBUG:drake:Generating collision pairs\n",
      "DEBUG:drake:Collision pairs generated in 9.3442e-05 seconds\n",
      "DEBUG:drake:Generating separating planes\n",
      "DEBUG:drake:Separating planes generated in 0.000233225 seconds\n",
      "DEBUG:drake:Generating TC-space rationals\n",
      "DEBUG:drake:TC-space rationals generated in 0.030589509 seconds\n",
      "DEBUG:drake:Pre-allocating PSD\n",
      "DEBUG:drake:PSD allocated in 0.00105067 seconds\n",
      "DEBUG:drake:Expanding rationals and pre-allocating programs\n",
      "DEBUG:drake:Path rationals and programs allocated in 0.030730372 seconds\n"
     ]
    },
    {
     "name": "stdout",
     "output_type": "stream",
     "text": [
      "Time to construct line certifier for 3-links, 10-boxes = 0.06761813163757324s\n"
     ]
    }
   ],
   "source": [
    "diagram = builder.Build()\n",
    "\n",
    "q_star = np.zeros(plant.num_positions())\n",
    "\n",
    "if maximum_path_degree > 0:\n",
    "    t0 = time.time()\n",
    "    cspace_free_path = CspaceFreePath(\n",
    "        plant, scene_graph, q_star, \n",
    "        maximum_path_degree=maximum_path_degree, \n",
    "        plane_order=plane_order\n",
    "    )\n",
    "    t1 = time.time()\n",
    "    print(f\"Time to construct line certifier for {num_pend}-links, {num_obstacles}-boxes = {t1 - t0}s\")\n",
    "else:\n",
    "    print(\"Did not build cspace free path\")\n",
    "    self.cspace_free_path = None \n",
    "\n",
    "diagram_context = diagram.CreateDefaultContext()\n",
    "plant_context = diagram.GetMutableSubsystemContext(plant, diagram_context)\n",
    "hyperplane_plant_contexts = {k: diagram.GetMutableSubsystemContext(v, diagram_context) for k,v in hyperplane_plants.items()}\n",
    "diagram.ForcedPublish(diagram_context)"
   ]
  },
  {
   "cell_type": "markdown",
   "metadata": {},
   "source": [
    "### A helper method for plotting a hyperplane based on the collision pair. Make sure that the passed collision pair is actually \"important\""
   ]
  },
  {
   "cell_type": "code",
   "execution_count": 23,
   "metadata": {},
   "outputs": [],
   "source": [
    "def set_hyperplane_transform_by_col_pair(p1, p2, X):\n",
    "    key = (p1, p2) if (p1,p2) in hyperplane_plants.keys() else (p2, p1)\n",
    "    plant = hyperplane_plants[key]\n",
    "    plant_context = hyperplane_plant_contexts[key]\n",
    "    p = X.translation()\n",
    "    quat = X.rotation().ToQuaternion().wxyz()\n",
    "    plant.SetPositions(plant_context, np.append(quat, p))\n",
    "    \n",
    "X = RigidTransform(\n",
    "    R = RotationMatrix(RollPitchYaw(np.pi/4,0,0)),\n",
    "    p = np.array([0,0,0])\n",
    ")\n",
    "\n",
    "p1,p2 = important_collision_pairs[0]\n",
    "set_hyperplane_transform_by_col_pair(p1,p2,X)\n",
    "diagram.ForcedPublish(diagram_context)"
   ]
  },
  {
   "cell_type": "markdown",
   "metadata": {},
   "source": [
    "## Construct some helper methods and a PRM to test out certification"
   ]
  },
  {
   "cell_type": "code",
   "execution_count": 12,
   "metadata": {},
   "outputs": [
    {
     "name": "stdout",
     "output_type": "stream",
     "text": [
      "PRM has 10 nodes\n",
      "PRM has 13 edges\n",
      "PRM has 20 nodes\n",
      "PRM has 38 edges\n",
      "PRM has 30 nodes\n",
      "PRM has 67 edges\n",
      "PRM has 40 nodes\n",
      "PRM has 100 edges\n",
      "PRM has 40 nodes\n",
      "PRM has 100 edges\n"
     ]
    }
   ],
   "source": [
    "Ratfk = RationalForwardKinematics(plant)\n",
    "diagram_col_context = diagram.CreateDefaultContext()\n",
    "plant_col_context = diagram.GetMutableSubsystemContext(plant, diagram_col_context)\n",
    "scene_graph_col_context = diagram.GetMutableSubsystemContext(\n",
    "        scene_graph, diagram_col_context\n",
    "    )\n",
    "query_port = scene_graph.get_query_output_port()\n",
    "\n",
    "def check_collision_q_by_query(q):\n",
    "    if np.all(q >= plant.GetPositionLowerLimits()) and np.all(\n",
    "        q <= plant.GetPositionUpperLimits()\n",
    "    ):\n",
    "        plant.SetPositions(plant_col_context, q)\n",
    "        query_object = query_port.Eval(scene_graph_col_context)\n",
    "        return 1 if query_object.HasCollisions() else 0\n",
    "    else:\n",
    "        return 1\n",
    "\n",
    "def check_collision_s_by_query(s):\n",
    "    s = np.array(s)\n",
    "    q = Ratfk.ComputeQValue(s, q_star)\n",
    "    return check_collision_q_by_query(q)\n",
    "\n",
    "def sample_col_free_point():\n",
    "    q = np.random.uniform(\n",
    "        plant.GetPositionLowerLimits(), \n",
    "        plant.GetPositionUpperLimits()\n",
    "    )\n",
    "    s = Ratfk.ComputeSValue(q, q_star)\n",
    "    return s\n",
    "l = 100\n",
    "collision_checker = StraightLineCollisionChecker(\n",
    "                    check_collision_s_by_query, 100\n",
    "                )\n",
    "prm = PRMFixedEdges(\n",
    "                sample_col_free_point, l, collision_checker, dist_thresh=100\n",
    "            )\n",
    "diagram_prm_context = diagram.CreateDefaultContext()\n",
    "plant_prm_context = diagram.GetMutableSubsystemContext(plant, diagram_prm_context)\n",
    "vis_bundle = vis_utils.VisualizationBundle(\n",
    "    diagram, diagram_context, plant, plant_prm_context,\n",
    "    Ratfk, meshcat, q_star\n",
    ")\n",
    "end_effector = plant.GetBodyByName(f\"link_{num_pend}\")\n",
    "\n",
    "prm.draw_tree(vis_bundle, end_effector)"
   ]
  },
  {
   "cell_type": "markdown",
   "metadata": {},
   "source": [
    "## Now certify the PRM"
   ]
  },
  {
   "cell_type": "code",
   "execution_count": 13,
   "metadata": {},
   "outputs": [],
   "source": [
    "def make_line_polys(prm, max_num_edges = -1):\n",
    "    \n",
    "    polys = np.empty(shape=(plant.num_positions(), \n",
    "                            len(prm.prm.edges()) if max_num_edges < 0 else max_num_edges), dtype = object)\n",
    "    for i, (s0, s1) in enumerate(prm.prm.edges()):\n",
    "        for j in range(plant.num_positions()):\n",
    "            if max_num_edges > 0 and not i < max_num_edges:\n",
    "                break\n",
    "            polys[j,i] = PolynomialCommon(np.array([s0[j],s1[j]-s0[j]]))\n",
    "        \n",
    "    return polys\n",
    "\n",
    "path_safe = make_line_polys(prm)\n",
    "# path_unsafe = make_line_polys(PRM_bad)\n",
    "    "
   ]
  },
  {
   "cell_type": "code",
   "execution_count": 14,
   "metadata": {},
   "outputs": [],
   "source": [
    "## Construct a trajectory and navigate the PRM."
   ]
  },
  {
   "cell_type": "code",
   "execution_count": 46,
   "metadata": {},
   "outputs": [
    {
     "name": "stderr",
     "output_type": "stream",
     "text": [
      "100%|███████████████████████████████████████████████████████| 2/2 [00:02<00:00,  1.05s/it]\n"
     ]
    }
   ],
   "source": [
    "from pydrake.all import PiecewisePolynomial\n",
    "from tqdm import tqdm\n",
    "traj = PiecewisePolynomial(path_safe.T,\n",
    "                           np.arange(path_safe.shape[1]-1))\n",
    "\n",
    "\n",
    "num_edges_to_navigate = 2\n",
    "diagram_context.SetTime(0)\n",
    "diagram.ForcedPublish(diagram_context)\n",
    "animation = visualizer.StartRecording()\n",
    "for idx in tqdm(range(num_edges_to_navigate)):\n",
    "    has_col = False\n",
    "    for t in np.linspace(0,1,100):\n",
    "        cur_time = idx + t\n",
    "        s = traj.value(cur_time)\n",
    "        q = Ratfk.ComputeQValue(s, q_star)\n",
    "        plant.SetPositions(plant_context, q)\n",
    "        if check_collision_q_by_query(q):\n",
    "            print(f\"COL at idx {idx}\")\n",
    "            has_col = True\n",
    "        \n",
    "        X = RigidTransform(\n",
    "            R = RotationMatrix(RollPitchYaw(*np.random.uniform(0, 2*np.pi, 3))),\n",
    "            p = np.random.uniform(-1,1,3)\n",
    "        )\n",
    "        set_hyperplane_transform_by_col_pair(*important_collision_pairs[0], X)\n",
    "        diagram_context.SetTime(time.time())\n",
    "        diagram.ForcedPublish(diagram_context)\n",
    "        time.sleep(0.01)\n",
    "visualizer.StopRecording()\n",
    "visualizer.PublishRecording()"
   ]
  },
  {
   "cell_type": "code",
   "execution_count": 45,
   "metadata": {},
   "outputs": [
    {
     "data": {
      "text/plain": [
       "True"
      ]
     },
     "execution_count": 45,
     "metadata": {},
     "output_type": "execute_result"
    }
   ],
   "source": [
    "animation.autoplay()\n"
   ]
  },
  {
   "cell_type": "markdown",
   "metadata": {},
   "source": [
    "### Now certify"
   ]
  },
  {
   "cell_type": "code",
   "execution_count": 16,
   "metadata": {},
   "outputs": [],
   "source": [
    "cert_options = CspaceFreePath.FindSeparationCertificateGivenPathOptions()\n",
    "cert_options.terminate_segment_certification_at_failure = False\n",
    "\n",
    "cert_options.num_threads = -1\n",
    "cert_options.verbose = False\n",
    "cert_options.solver_id = MosekSolver.id()\n",
    "cert_options.solver_options = SolverOptions()\n",
    "cert_options.terminate_path_certification_at_failure = False\n",
    "\n"
   ]
  },
  {
   "cell_type": "code",
   "execution_count": 17,
   "metadata": {},
   "outputs": [
    {
     "name": "stdout",
     "output_type": "stream",
     "text": [
      "num pairs to certify 30\n",
      "Certification of safe PRM for 3 links in 2.7259695529937744s\n",
      "Frac edges safe = 94/100\n",
      "Unsafe inds = [51, 54, 55, 58, 64, 66]\n"
     ]
    }
   ],
   "source": [
    "t0 = time.time()\n",
    "statistics, cert_result = \\\n",
    "    cspace_free_path.FindSeparationCertificateGivenPath(path_safe, \n",
    "                                                        set(),\n",
    "                                                        cert_options)\n",
    "t1 = time.time()\n",
    "\n",
    "print(f\"num pairs to certify {len(statistics[0].total_time_to_certify_pair)}\")\n",
    "print(f\"Certification of safe PRM for {num_pend} links in {t1-t0}s\")\n",
    "print(f\"Frac edges safe = {sum([1 if s.certified_safe() else 0 for s in statistics])}/{len(statistics)}\")\n",
    "print(f\"Unsafe inds = {[idx for idx, s in enumerate(statistics) if not s.certified_safe()]}\")\n"
   ]
  },
  {
   "cell_type": "code",
   "execution_count": 20,
   "metadata": {},
   "outputs": [
    {
     "name": "stdout",
     "output_type": "stream",
     "text": [
      "[<Polynomial \"-1.2962070284903098*1 + 1.6513447557858365*mu\">\n",
      " <Polynomial \"-4.0257814963558811*1 + -2.1277392404648405*mu\">\n",
      " <Polynomial \"-0.00075917889830485054*1 + 0.21178809313777194*mu\">]\n",
      "1.7135451885758035*1 + 0.6383490565701222*mu\n"
     ]
    }
   ],
   "source": [
    "# cert result is indexed by the prm edge. \n",
    "first_edge_cert_result = cert_result[0]\n",
    "\n",
    "desired_result_tuple = important_collision_pairs[0]\n",
    "def get_associated_plane_result_tuple(p1, p2, cert_result_for_edge):\n",
    "    key = (p1, p2) if (p1,p2) in cert_result_for_edge.keys() else (p2,p1)\n",
    "    return cert_result_for_edge[key]\n",
    "sep_cert_result = get_associated_plane_result_tuple(*desired_result_tuple,\n",
    "                                                    first_edge_cert_result)\n",
    "\n",
    "# Here is the plane\n",
    "print(sep_cert_result.a)\n",
    "print(sep_cert_result.b)"
   ]
  },
  {
   "cell_type": "markdown",
   "metadata": {},
   "source": [
    "## Set up the sliders so we can move the plant around manually"
   ]
  },
  {
   "cell_type": "code",
   "execution_count": 31,
   "metadata": {
    "scrolled": false
   },
   "outputs": [
    {
     "data": {
      "application/vnd.jupyter.widget-view+json": {
       "model_id": "b930f452a9a24d42a852d52e4e676d9c",
       "version_major": 2,
       "version_minor": 0
      },
      "text/plain": [
       "FloatSlider(value=1.7885314878249217, description='q0', max=3.141592653589793, min=-3.141592653589793)"
      ]
     },
     "metadata": {},
     "output_type": "display_data"
    },
    {
     "data": {
      "application/vnd.jupyter.widget-view+json": {
       "model_id": "bdf1ed51227949f7a5741325f37275b9",
       "version_major": 2,
       "version_minor": 0
      },
      "text/plain": [
       "FloatSlider(value=-1.477444661627827, description='q1', max=3.141592653589793, min=-3.141592653589793)"
      ]
     },
     "metadata": {},
     "output_type": "display_data"
    },
    {
     "data": {
      "application/vnd.jupyter.widget-view+json": {
       "model_id": "ba93ad73c89e4692aa41158549b4bb92",
       "version_major": 2,
       "version_minor": 0
      },
      "text/plain": [
       "FloatSlider(value=-1.0092865513822509, description='q2', max=3.141592653589793, min=-3.141592653589793)"
      ]
     },
     "metadata": {},
     "output_type": "display_data"
    }
   ],
   "source": [
    "sliders = []\n",
    "for i in range(plant.num_positions()):\n",
    "    sliders.append(widgets.FloatSlider(min=plant.GetPositionLowerLimits()[i],\n",
    "                                       max=plant.GetPositionUpperLimits()[i], \n",
    "                                       value=plant.GetPositions(plant_context)[i],\n",
    "                                       description=f'q{i}'))\n",
    "# sliders.append(widgets.FloatSlider(min=q_low[2], max=q_high[2], value=0, description='q2'))\n",
    "\n",
    "q = np.zeros(plant.num_positions())\n",
    "def handle_slider_change(change, idx):\n",
    "    q[idx] = change['new']\n",
    "    plant.SetPositions(plant_context, q)\n",
    "    diagram.ForcedPublish(diagram_context)\n",
    "\n",
    "    \n",
    "idx = 0\n",
    "for slider in sliders:\n",
    "    slider.observe(partial(handle_slider_change, idx = idx), names='value')\n",
    "    idx+=1\n",
    "\n",
    "for slider in sliders:\n",
    "    display(slider)\n",
    "\n",
    "\n",
    "# visualizer.jupyter_cell()"
   ]
  }
 ],
 "metadata": {
  "interpreter": {
   "hash": "31f2aee4e71d21fbe5cf8b01ff0e069b9275f58929596ceb00d14d90e3e16cd6"
  },
  "kernelspec": {
   "display_name": "Python 3 (ipykernel)",
   "language": "python",
   "name": "python3"
  },
  "language_info": {
   "codemirror_mode": {
    "name": "ipython",
    "version": 3
   },
   "file_extension": ".py",
   "mimetype": "text/x-python",
   "name": "python",
   "nbconvert_exporter": "python",
   "pygments_lexer": "ipython3",
   "version": "3.10.12"
  }
 },
 "nbformat": 4,
 "nbformat_minor": 2
}
