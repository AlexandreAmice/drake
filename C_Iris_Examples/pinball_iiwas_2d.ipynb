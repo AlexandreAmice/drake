{
 "cells": [
  {
   "cell_type": "code",
   "execution_count": 1,
   "metadata": {},
   "outputs": [],
   "source": [
    "%load_ext autoreload"
   ]
  },
  {
   "cell_type": "code",
   "execution_count": 2,
   "metadata": {},
   "outputs": [],
   "source": [
    "import numpy as np\n",
    "from functools import partial\n",
    "from iris_plant_visualizer import IrisPlantVisualizer\n",
    "from iris_plant_animation_visualizer import IrisPlantVisualizer as viz2\n",
    "\n",
    "import ipywidgets as widgets\n",
    "from IPython.display import display\n",
    "from scipy.linalg import block_diag\n",
    "import visualization_utils as viz_utils\n"
   ]
  },
  {
   "cell_type": "code",
   "execution_count": 3,
   "metadata": {},
   "outputs": [],
   "source": [
    "#pydrake imports\n",
    "from pydrake.common import FindResourceOrThrow\n",
    "from pydrake.multibody.parsing import Parser\n",
    "from pydrake.multibody.plant import AddMultibodyPlantSceneGraph\n",
    "from pydrake.systems.framework import DiagramBuilder\n",
    "from pydrake.geometry import Role, GeometrySet, CollisionFilterDeclaration\n",
    "from pydrake.all import RigidTransform, RollPitchYaw, RevoluteJoint\n",
    "from pydrake.all import RotationMatrix, Rgba\n",
    "import time\n",
    "import pydrake.multibody.rational as rational_forward_kinematics\n",
    "from pydrake.all import RationalForwardKinematics\n",
    "from pydrake.geometry.optimization import IrisOptions, IrisInRationalConfigurationSpace, HPolyhedron, Hyperellipsoid\n",
    "from pydrake.solvers import MosekSolver, CommonSolverOption, SolverOptions"
   ]
  },
  {
   "cell_type": "code",
   "execution_count": 4,
   "metadata": {},
   "outputs": [],
   "source": [
    "from pydrake.geometry.optimization_dev import (CspaceFreePolytope, \n",
    "                                               SeparatingPlaneOrder)"
   ]
  },
  {
   "cell_type": "markdown",
   "metadata": {},
   "source": [
    "# Build and set up the visualization the plant and the visualization of the C-space obstacle\n",
    "\n",
    "We first set up a simple 2-DOF system and visualize both the plant and the configuration constraint.Click on the two links at the bottom to view the plant and the configuration space.\n",
    "\n",
    "Note that running this cell multiple times will establish multiple meshcat instances which can fill up your memory. It is a good idea to call \"pkill -f meshcat\" from the command line before re-running this cell\n"
   ]
  },
  {
   "cell_type": "code",
   "execution_count": 5,
   "metadata": {},
   "outputs": [
    {
     "name": "stderr",
     "output_type": "stream",
     "text": [
      "WARNING:drake:/home/amice/.cache/bazel/_bazel_amice/32fdbbecfa8a7ce8feece95e48c42006/execroot/drake/bazel-out/k8-opt/bin/C_Iris_Examples/pinball_iiwas_2d.runfiles/drake/C_Iris_Examples/assets/oneDOF_iiwa7_with_box_collision.sdf:425: warning: Ignoring unsupported SDFormat element in model: plugin\n",
      "WARNING:drake:/home/amice/.cache/bazel/_bazel_amice/32fdbbecfa8a7ce8feece95e48c42006/execroot/drake/bazel-out/k8-opt/bin/C_Iris_Examples/pinball_iiwas_2d.runfiles/drake/C_Iris_Examples/assets/oneDOF_iiwa7_with_box_collision.sdf:37: warning: Ignoring unsupported SDFormat element in link: self_collide\n",
      "WARNING:drake:/home/amice/.cache/bazel/_bazel_amice/32fdbbecfa8a7ce8feece95e48c42006/execroot/drake/bazel-out/k8-opt/bin/C_Iris_Examples/pinball_iiwas_2d.runfiles/drake/C_Iris_Examples/assets/oneDOF_iiwa7_with_box_collision.sdf:73: warning: Ignoring unsupported SDFormat element in link: self_collide\n",
      "WARNING:drake:/home/amice/.cache/bazel/_bazel_amice/32fdbbecfa8a7ce8feece95e48c42006/execroot/drake/bazel-out/k8-opt/bin/C_Iris_Examples/pinball_iiwas_2d.runfiles/drake/C_Iris_Examples/assets/oneDOF_iiwa7_with_box_collision.sdf:128: warning: Ignoring unsupported SDFormat element in link: self_collide\n",
      "WARNING:drake:/home/amice/.cache/bazel/_bazel_amice/32fdbbecfa8a7ce8feece95e48c42006/execroot/drake/bazel-out/k8-opt/bin/C_Iris_Examples/pinball_iiwas_2d.runfiles/drake/C_Iris_Examples/assets/oneDOF_iiwa7_with_box_collision.sdf:183: warning: Ignoring unsupported SDFormat element in link: self_collide\n",
      "WARNING:drake:/home/amice/.cache/bazel/_bazel_amice/32fdbbecfa8a7ce8feece95e48c42006/execroot/drake/bazel-out/k8-opt/bin/C_Iris_Examples/pinball_iiwas_2d.runfiles/drake/C_Iris_Examples/assets/oneDOF_iiwa7_with_box_collision.sdf:238: warning: Ignoring unsupported SDFormat element in link: self_collide\n",
      "WARNING:drake:/home/amice/.cache/bazel/_bazel_amice/32fdbbecfa8a7ce8feece95e48c42006/execroot/drake/bazel-out/k8-opt/bin/C_Iris_Examples/pinball_iiwas_2d.runfiles/drake/C_Iris_Examples/assets/oneDOF_iiwa7_with_box_collision.sdf:293: warning: Ignoring unsupported SDFormat element in link: self_collide\n",
      "WARNING:drake:/home/amice/.cache/bazel/_bazel_amice/32fdbbecfa8a7ce8feece95e48c42006/execroot/drake/bazel-out/k8-opt/bin/C_Iris_Examples/pinball_iiwas_2d.runfiles/drake/C_Iris_Examples/assets/oneDOF_iiwa7_with_box_collision.sdf:348: warning: Ignoring unsupported SDFormat element in link: self_collide\n",
      "WARNING:drake:/home/amice/.cache/bazel/_bazel_amice/32fdbbecfa8a7ce8feece95e48c42006/execroot/drake/bazel-out/k8-opt/bin/C_Iris_Examples/pinball_iiwas_2d.runfiles/drake/C_Iris_Examples/assets/oneDOF_iiwa7_with_box_collision.sdf:403: warning: Ignoring unsupported SDFormat element in link: self_collide\n",
      "WARNING:drake:/home/amice/.cache/bazel/_bazel_amice/32fdbbecfa8a7ce8feece95e48c42006/execroot/drake/bazel-out/k8-opt/bin/C_Iris_Examples/pinball_iiwas_2d.runfiles/drake/C_Iris_Examples/assets/oneDOF_iiwa7_with_box_collision.sdf:425: warning: Ignoring unsupported SDFormat element in model: plugin\n",
      "WARNING:drake:/home/amice/.cache/bazel/_bazel_amice/32fdbbecfa8a7ce8feece95e48c42006/execroot/drake/bazel-out/k8-opt/bin/C_Iris_Examples/pinball_iiwas_2d.runfiles/drake/C_Iris_Examples/assets/oneDOF_iiwa7_with_box_collision.sdf:37: warning: Ignoring unsupported SDFormat element in link: self_collide\n",
      "WARNING:drake:/home/amice/.cache/bazel/_bazel_amice/32fdbbecfa8a7ce8feece95e48c42006/execroot/drake/bazel-out/k8-opt/bin/C_Iris_Examples/pinball_iiwas_2d.runfiles/drake/C_Iris_Examples/assets/oneDOF_iiwa7_with_box_collision.sdf:73: warning: Ignoring unsupported SDFormat element in link: self_collide\n",
      "WARNING:drake:/home/amice/.cache/bazel/_bazel_amice/32fdbbecfa8a7ce8feece95e48c42006/execroot/drake/bazel-out/k8-opt/bin/C_Iris_Examples/pinball_iiwas_2d.runfiles/drake/C_Iris_Examples/assets/oneDOF_iiwa7_with_box_collision.sdf:128: warning: Ignoring unsupported SDFormat element in link: self_collide\n",
      "WARNING:drake:/home/amice/.cache/bazel/_bazel_amice/32fdbbecfa8a7ce8feece95e48c42006/execroot/drake/bazel-out/k8-opt/bin/C_Iris_Examples/pinball_iiwas_2d.runfiles/drake/C_Iris_Examples/assets/oneDOF_iiwa7_with_box_collision.sdf:183: warning: Ignoring unsupported SDFormat element in link: self_collide\n",
      "WARNING:drake:/home/amice/.cache/bazel/_bazel_amice/32fdbbecfa8a7ce8feece95e48c42006/execroot/drake/bazel-out/k8-opt/bin/C_Iris_Examples/pinball_iiwas_2d.runfiles/drake/C_Iris_Examples/assets/oneDOF_iiwa7_with_box_collision.sdf:238: warning: Ignoring unsupported SDFormat element in link: self_collide\n",
      "WARNING:drake:/home/amice/.cache/bazel/_bazel_amice/32fdbbecfa8a7ce8feece95e48c42006/execroot/drake/bazel-out/k8-opt/bin/C_Iris_Examples/pinball_iiwas_2d.runfiles/drake/C_Iris_Examples/assets/oneDOF_iiwa7_with_box_collision.sdf:293: warning: Ignoring unsupported SDFormat element in link: self_collide\n",
      "WARNING:drake:/home/amice/.cache/bazel/_bazel_amice/32fdbbecfa8a7ce8feece95e48c42006/execroot/drake/bazel-out/k8-opt/bin/C_Iris_Examples/pinball_iiwas_2d.runfiles/drake/C_Iris_Examples/assets/oneDOF_iiwa7_with_box_collision.sdf:348: warning: Ignoring unsupported SDFormat element in link: self_collide\n",
      "WARNING:drake:/home/amice/.cache/bazel/_bazel_amice/32fdbbecfa8a7ce8feece95e48c42006/execroot/drake/bazel-out/k8-opt/bin/C_Iris_Examples/pinball_iiwas_2d.runfiles/drake/C_Iris_Examples/assets/oneDOF_iiwa7_with_box_collision.sdf:403: warning: Ignoring unsupported SDFormat element in link: self_collide\n",
      "INFO:drake:Meshcat listening for connections at http://localhost:7000\n"
     ]
    }
   ],
   "source": [
    "#construct our robot\n",
    "builder = DiagramBuilder()\n",
    "plant, scene_graph = AddMultibodyPlantSceneGraph(builder, time_step=0.001)\n",
    "parser = Parser(plant)\n",
    "oneDOF_iiwa_asset = FindResourceOrThrow(\"drake/C_Iris_Examples/assets/oneDOF_iiwa7_with_box_collision.sdf\")\n",
    "\n",
    "box_asset = FindResourceOrThrow(\"drake/C_Iris_Examples/assets/box_small.urdf\")\n",
    "\n",
    "models = []\n",
    "models.append(parser.AddModelFromFile(box_asset))\n",
    "models.append(parser.AddModelFromFile(oneDOF_iiwa_asset, 'right_sweeper'))\n",
    "models.append(parser.AddModelFromFile(oneDOF_iiwa_asset, 'left_sweeper'))\n",
    "locs = [[0.,0.,0.],\n",
    "        [0,1,0.85],\n",
    "        [0,-1,0.55]]\n",
    "plant.WeldFrames(plant.world_frame(), \n",
    "                 plant.GetFrameByName(\"base\", models[0]),\n",
    "                 RigidTransform(locs[0]))\n",
    "\n",
    "t1 = RigidTransform(RollPitchYaw([np.pi/2, 0, 0]).ToRotationMatrix(), locs[1])@RigidTransform(RollPitchYaw([0, 0, np.pi/2]), np.zeros(3))\n",
    "t2 = RigidTransform(RollPitchYaw([-np.pi/2, 0, 0]).ToRotationMatrix(), locs[2])@RigidTransform(RollPitchYaw([0, 0, np.pi/2]), np.zeros(3))\n",
    "plant.WeldFrames(plant.world_frame(), \n",
    "                 plant.GetFrameByName(\"iiwa_oneDOF_link_0\", models[1]), \n",
    "                 t1)\n",
    "plant.WeldFrames(plant.world_frame(), \n",
    "                 plant.GetFrameByName(\"iiwa_oneDOF_link_0\", models[2]), \n",
    "                 t2)\n",
    "\n",
    "\n",
    "plant.Finalize()\n",
    "idx = 0\n",
    "q0 = [0.0, 0.0]\n",
    "val = 1.7\n",
    "q_low  = np.array([-val, -val])\n",
    "q_high = np.array([val, val])\n",
    "# set the joint limits of the plant\n",
    "for model in models:\n",
    "    for joint_index in plant.GetJointIndices(model):\n",
    "        joint = plant.get_mutable_joint(joint_index)\n",
    "        if isinstance(joint, RevoluteJoint):\n",
    "            joint.set_default_angle(q0[idx])\n",
    "            joint.set_position_limits(lower_limits= np.array([q_low[idx]]), upper_limits= np.array([q_high[idx]]))\n",
    "            idx += 1\n",
    "        \n",
    "# construct the RationalForwardKinematics of this plant. This object handles the\n",
    "# computations for the forward kinematics in the tangent-configuration space\n",
    "Ratfk = RationalForwardKinematics(plant)\n",
    "\n",
    "# the point about which we will take the stereographic projections\n",
    "q_star = np.zeros(plant.num_positions())\n",
    "\n",
    "do_viz = True\n",
    "\n",
    "# The object we will use to perform our certification.\n",
    "cspace_free_polytope = CspaceFreePolytope(plant, scene_graph, SeparatingPlaneOrder.kAffine, q_star)\n",
    "cspace_frame = RigidTransform(RotationMatrix.MakeYRotation(np.pi/2)@RotationMatrix.MakeZRotation(np.pi/2), np.array([0,3,1]))\n",
    "# This line builds the visualization. Change the viz_role to Role.kIllustration if you\n",
    "# want to see the plant with its illustrated geometry or to Role.kProximity if you want\n",
    "# to see the plant with the collision geometries.\n",
    "visualizer = viz2(plant, builder, scene_graph, cspace_free_polytope, cspace_frame, viz_role=Role.kIllustration)\n",
    "visualizer.visualize_collision_constraint(factor = 1.2, \n",
    "                                          num_points = 100)\n",
    "# visualizer.meshcat.Set2dRenderMode(RigidTransform(RotationMatrix.MakeZRotation(0), np.array([1,0,0])))"
   ]
  },
  {
   "cell_type": "code",
   "execution_count": 6,
   "metadata": {},
   "outputs": [],
   "source": [
    "# visualizer.meshcat.Set2dRenderMode(RigidTransform(RotationMatrix.MakeZRotation(0), np.array([0,0,1])))\n",
    "visualizer.meshcat.Set2dRenderMode(RigidTransform(RotationMatrix.MakeZRotation(0), np.array([1,0,0])))"
   ]
  },
  {
   "cell_type": "code",
   "execution_count": null,
   "metadata": {},
   "outputs": [],
   "source": []
  },
  {
   "cell_type": "markdown",
   "metadata": {},
   "source": [
    "## Set up the sliders so we can move the plant around manually\n",
    "\n",
    "You can use the sliders below to move the two degrees of freedom of the plant around. A green dot will appear in the TC-space visualization describing the current TC-space configuration."
   ]
  },
  {
   "cell_type": "code",
   "execution_count": 7,
   "metadata": {
    "scrolled": false
   },
   "outputs": [
    {
     "name": "stderr",
     "output_type": "stream",
     "text": [
      "Widget Javascript not detected.  It may not be installed or enabled properly. Reconnecting the current kernel may help.\n"
     ]
    },
    {
     "data": {
      "application/vnd.jupyter.widget-view+json": {
       "model_id": "52a2c1d6fa3143af9ed6eb783262f60a"
      }
     },
     "metadata": {},
     "output_type": "display_data"
    },
    {
     "name": "stderr",
     "output_type": "stream",
     "text": [
      "Widget Javascript not detected.  It may not be installed or enabled properly. Reconnecting the current kernel may help.\n"
     ]
    },
    {
     "data": {
      "application/vnd.jupyter.widget-view+json": {
       "model_id": "8f18c0de05894660b0f5c0e5573e5ff9"
      }
     },
     "metadata": {},
     "output_type": "display_data"
    }
   ],
   "source": [
    "sliders = []\n",
    "sliders.append(widgets.FloatSlider(min=q_low[0], max=q_high[0], value=0, description='q0', step = 0.02))\n",
    "sliders.append(widgets.FloatSlider(min=q_low[1], max=q_high[1], value=0, description='q1', step = 0.02))\n",
    "\n",
    "q = q0.copy()\n",
    "def handle_slider_change(change, idx):\n",
    "    q[idx] = change['new']\n",
    "    visualizer.show_res_q(q)\n",
    "    \n",
    "idx = 0\n",
    "for slider in sliders:\n",
    "    slider.observe(partial(handle_slider_change, idx = idx), names='value')\n",
    "    idx+=1\n",
    "\n",
    "for slider in sliders:\n",
    "    display(slider)\n"
   ]
  },
  {
   "cell_type": "markdown",
   "metadata": {},
   "source": [
    "# Generate and Certify Regions\n",
    "\n",
    "Around some nominal seed postures, we will grow certified regions by seeding our alternation algorithm using a small initial polytope."
   ]
  },
  {
   "cell_type": "code",
   "execution_count": 8,
   "metadata": {},
   "outputs": [],
   "source": [
    "# Some seedpoints\n",
    "seed_points_q = np.array([   \n",
    "                              [0.0, 0],\n",
    "                              [0.7, -0.9],\n",
    "                              [-0.5, -0.5],\n",
    "                              [0.5,-1.08],\n",
    "                              [-1.06, 0.48]\n",
    "                              ])\n",
    "\n",
    "seed_points = np.array([Ratfk.ComputeSValue(seed_points_q[idx], np.zeros((2,)))\\\n",
    "                        for idx in range(seed_points_q.shape[0])])\n",
    "start = seed_points[0]\n",
    "end = seed_points[-1]\n",
    "\n",
    "visualizer.plot_cspace_points(seed_points, \"/iris_seed_points\", radius = 0.02)\n",
    "    \n",
    "\n",
    "\n",
    "default_scale = 1e-1\n",
    "L1_ball = HPolyhedron.MakeL1Ball(2)\n",
    "Linf_ball = HPolyhedron.MakeBox(-np.ones(2), np.ones(2))\n",
    "\n",
    "template_C = np.vstack([L1_ball.A(), Linf_ball.A()])\n",
    "template_d = np.hstack([default_scale*L1_ball.b(), default_scale/np.sqrt(2)*Linf_ball.b()])\n",
    "\n",
    "\n",
    "def make_default_polytope_at_point(seed_point):\n",
    "    return HPolyhedron(template_C, template_d + template_C @ seed_point)\n",
    "\n",
    "\n",
    "# colors to plot the region. Chosen for color-blind compatibility\n",
    "default_alpha = 0.2\n",
    "colors_dict = {\n",
    "    0: Rgba(0.565, 0.565, 0.565, default_alpha), # gray\n",
    "    1: Rgba(0.118, 0.533, 0.898, default_alpha), # bluish\n",
    "    2: Rgba(1,     0.757, 0.027, default_alpha), # gold\n",
    "    3: Rgba(0,     0.549, 0.024, default_alpha), # green   \n",
    "    4: Rgba(0.055, 0.914, 0.929, default_alpha), # teal \n",
    "}\n",
    "\n",
    "initial_regions = [(make_default_polytope_at_point(s), colors_dict[i]) for i, s in enumerate(seed_points)]\n",
    "visualizer.add_group_of_regions_to_visualization(initial_regions, \"initial_regions\",\n",
    "                            wireframe = False,\n",
    "                           opacity = default_alpha)\n",
    "visualizer.show_res_q(q_star)\n",
    "\n",
    "# visualizer.add_plane_indices_of_interest(118)"
   ]
  },
  {
   "cell_type": "markdown",
   "metadata": {},
   "source": [
    "## First we set up some options for our different certification modes"
   ]
  },
  {
   "cell_type": "code",
   "execution_count": 9,
   "metadata": {},
   "outputs": [],
   "source": [
    "# set up the certifier and the options for different search techniques\n",
    "solver_options = SolverOptions()\n",
    "# set this to 1 if you would like to see the solver output in terminal.\n",
    "solver_options.SetOption(CommonSolverOption.kPrintToConsole, 0)\n",
    "\n",
    "# The options for when we search for new planes and positivity certificates given the polytopes\n",
    "find_separation_certificate_given_polytope_options = CspaceFreePolytope.FindSeparationCertificateGivenPolytopeOptions()\n",
    "find_separation_certificate_given_polytope_options.num_threads = -1\n",
    "find_separation_certificate_given_polytope_options.verbose = False\n",
    "find_separation_certificate_given_polytope_options.solver_options = solver_options\n",
    "find_separation_certificate_given_polytope_options.ignore_redundant_C = False\n",
    "\n",
    "# The options for when we search for a new polytope given positivity certificates.\n",
    "find_polytope_given_lagrangian_option = CspaceFreePolytope.FindPolytopeGivenLagrangianOptions()\n",
    "find_polytope_given_lagrangian_option.solver_options = solver_options\n",
    "find_polytope_given_lagrangian_option.ellipsoid_margin_cost = CspaceFreePolytope.EllipsoidMarginCost.kGeometricMean\n",
    "find_polytope_given_lagrangian_option.search_s_bounds_lagrangians = True\n",
    "find_polytope_given_lagrangian_option.ellipsoid_margin_epsilon = 1e-8\n",
    "\n",
    "\n",
    "bilinear_alternation_options = CspaceFreePolytope.BilinearAlternationOptions()\n",
    "bilinear_alternation_options.max_iter = 100\n",
    "bilinear_alternation_options.convergence_tol = 1e-5\n",
    "bilinear_alternation_options.find_polytope_options = find_polytope_given_lagrangian_option\n",
    "bilinear_alternation_options.find_lagrangian_options = find_separation_certificate_given_polytope_options\n",
    "\n",
    "binary_search_options = CspaceFreePolytope.BinarySearchOptions()\n",
    "binary_search_options.find_lagrangian_options = find_separation_certificate_given_polytope_options\n",
    "binary_search_options.scale_min = 1\n",
    "binary_search_options.scale_max = 50\n",
    "binary_search_options.max_iter = 100\n",
    "\n",
    "Clim = np.vstack([np.eye(q_star.shape[0]), -np.eye(q_star.shape[0])])\n",
    "dlim = np.concatenate([Ratfk.ComputeSValue(q_high, q_star), -Ratfk.ComputeSValue(q_low, q_star)])\n",
    "def polytope_with_joint_limits(C, d):\n",
    "    return HPolyhedron(np.vstack([C, Clim]), np.concatenate([d, dlim]))"
   ]
  },
  {
   "cell_type": "markdown",
   "metadata": {},
   "source": [
    "## Seeding and Certifying with a Stronger Heuristic\n",
    "We have also implemented another, strong heuristic for proposing good initial regions based on non-linear optimization. See Appendix TODO of our paper TODO for details"
   ]
  },
  {
   "cell_type": "code",
   "execution_count": 11,
   "metadata": {},
   "outputs": [],
   "source": [
    "iris_regions = []\n",
    "iris_ellipses = []\n",
    "\n",
    "iris_options = IrisOptions()\n",
    "iris_options.require_sample_point_is_contained = True\n",
    "iris_options.configuration_space_margin = 1e-3\n",
    "iris_options.relative_termination_threshold = 0.001\n",
    "\n",
    "context_for_iris = visualizer.diagram_context\n",
    "for i, s in enumerate(seed_points):\n",
    "    q = Ratfk.ComputeQValue(s, q_star)\n",
    "    plant.SetPositions(plant.GetMyMutableContextFromRoot(context_for_iris), q)\n",
    "    r = IrisInRationalConfigurationSpace(plant, \n",
    "                                         plant.GetMyContextFromRoot(context_for_iris),\n",
    "                                         q_star, iris_options)\n",
    "    iris_regions.append((r, colors_dict[i]))\n",
    "    iris_ellipses.append(r.MaximumVolumeInscribedEllipsoid())\n",
    "    \n",
    "\n",
    "visualizer.add_group_of_regions_to_visualization(iris_regions, \"/uncertified_iris\", \n",
    "                                                            wireframe = False, opacity = 0.2)"
   ]
  },
  {
   "cell_type": "code",
   "execution_count": 12,
   "metadata": {},
   "outputs": [
    {
     "name": "stdout",
     "output_type": "stream",
     "text": [
      "starting seedpoint 1/5\n"
     ]
    },
    {
     "name": "stderr",
     "output_type": "stream",
     "text": [
      "INFO:drake:CspaceFreePolytope::BinarySearch(): scale_max=1 is feasible.\n"
     ]
    },
    {
     "name": "stdout",
     "output_type": "stream",
     "text": [
      "starting seedpoint 2/5\n"
     ]
    },
    {
     "name": "stderr",
     "output_type": "stream",
     "text": [
      "INFO:drake:CspaceFreePolytope::BinarySearch(): scale_max=1 is feasible.\n"
     ]
    },
    {
     "name": "stdout",
     "output_type": "stream",
     "text": [
      "starting seedpoint 3/5\n"
     ]
    },
    {
     "name": "stderr",
     "output_type": "stream",
     "text": [
      "INFO:drake:CspaceFreePolytope::BinarySearch(): scale_max=1 is feasible.\n"
     ]
    },
    {
     "name": "stdout",
     "output_type": "stream",
     "text": [
      "starting seedpoint 4/5\n"
     ]
    },
    {
     "name": "stderr",
     "output_type": "stream",
     "text": [
      "INFO:drake:CspaceFreePolytope::BinarySearch(): scale_max=1 is feasible.\n"
     ]
    },
    {
     "name": "stdout",
     "output_type": "stream",
     "text": [
      "starting seedpoint 5/5\n"
     ]
    },
    {
     "name": "stderr",
     "output_type": "stream",
     "text": [
      "INFO:drake:CspaceFreePolytope::BinarySearch(): scale_max=1 is feasible.\n"
     ]
    },
    {
     "ename": "AttributeError",
     "evalue": "'IrisPlantVisualizer' object has no attribute 'add_group_of_regions_and_certs_to_visualization'",
     "output_type": "error",
     "traceback": [
      "\u001b[0;31m---------------------------------------------------------------------------\u001b[0m",
      "\u001b[0;31mAttributeError\u001b[0m                            Traceback (most recent call last)",
      "\u001b[0;32m/tmp/ipykernel_53499/1392396885.py\u001b[0m in \u001b[0;36m<module>\u001b[0;34m\u001b[0m\n\u001b[1;32m     16\u001b[0m \u001b[0;32mfor\u001b[0m \u001b[0mi\u001b[0m\u001b[0;34m,\u001b[0m \u001b[0mresult\u001b[0m \u001b[0;32min\u001b[0m \u001b[0menumerate\u001b[0m\u001b[0;34m(\u001b[0m\u001b[0mbinary_search_region_certificates_for_iris\u001b[0m\u001b[0;34m.\u001b[0m\u001b[0mvalues\u001b[0m\u001b[0;34m(\u001b[0m\u001b[0;34m)\u001b[0m\u001b[0;34m)\u001b[0m\u001b[0;34m:\u001b[0m\u001b[0;34m\u001b[0m\u001b[0;34m\u001b[0m\u001b[0m\n\u001b[1;32m     17\u001b[0m     \u001b[0mgroup_name\u001b[0m \u001b[0;34m=\u001b[0m \u001b[0;34mf\"/certified-iris-bin_seed_point_{i}\"\u001b[0m\u001b[0;34m\u001b[0m\u001b[0;34m\u001b[0m\u001b[0m\n\u001b[0;32m---> 18\u001b[0;31m     visualizer.add_group_of_regions_and_certs_to_visualization(result, group_name, \n\u001b[0m\u001b[1;32m     19\u001b[0m                                                             wireframe = False, opacity = 0.2)\n",
      "\u001b[0;31mAttributeError\u001b[0m: 'IrisPlantVisualizer' object has no attribute 'add_group_of_regions_and_certs_to_visualization'"
     ]
    }
   ],
   "source": [
    "binary_search_options_for_iris = CspaceFreePolytope.BinarySearchOptions()\n",
    "binary_search_options_for_iris.scale_max = 1.0 # it is highly unlikely that the regions can grow, but we can try\n",
    "binary_search_options_for_iris.find_lagrangian_options = find_separation_certificate_given_polytope_options\n",
    "binary_search_options_for_iris.max_iter = 50\n",
    "binary_search_region_certificates_for_iris = dict.fromkeys([tuple(s) for s in seed_points])\n",
    "for i, (s, (initial_region, color)) in enumerate(zip(seed_points, iris_regions)):\n",
    "    print(f\"starting seedpoint {i+1}/{len(iris_regions)}\")\n",
    "    time.sleep(0.2)    \n",
    "    cert = cspace_free_polytope.BinarySearch(set(),\n",
    "                                                    initial_region.A(),\n",
    "                                                    initial_region.b(), \n",
    "                                                    initial_region.MaximumVolumeInscribedEllipsoid().center(), \n",
    "                                                    binary_search_options_for_iris)\n",
    "    binary_search_region_certificates_for_iris[tuple(s)] = [(polytope_with_joint_limits(cert.C, cert.d),\n",
    "                                                             cert, color)]\n",
    "for i, result in enumerate(binary_search_region_certificates_for_iris.values()):\n",
    "    group_name = f\"/certified-iris-bin_seed_point_{i}\"\n",
    "#     visualizer.add_group_of_regions_and_certs_to_visualization(result, group_name, \n",
    "#                                                             wireframe = False, opacity = 0.2)\n",
    "    tmp = [(r[0], r[2]) for r in result]\n",
    "    visualizer.add_group_of_regions_to_visualization(tmp, group_name, \n",
    "                                                            wireframe = False, opacity = 0.2)"
   ]
  },
  {
   "cell_type": "code",
   "execution_count": 21,
   "metadata": {},
   "outputs": [],
   "source": []
  },
  {
   "cell_type": "code",
   "execution_count": 22,
   "metadata": {},
   "outputs": [],
   "source": [
    "from gcs.bezier import BezierGCS\n",
    "from gcs.linear import LinearGCS\n",
    "from pydrake.solvers.mosek import MosekSolver\n",
    "from pydrake.all import PiecewisePolynomial\n",
    "from visualization_utils import draw_traj\n",
    "\n",
    "start = seed_points[0]\n",
    "end = seed_points[-1]\n",
    "regions = [r for (r,_) in iris_regions]\n",
    "\n",
    "l_gcs = LinearGCS(regions)\n",
    "l_gcs.addSourceTarget(start, end)\n",
    "l_gcs.setSolver(MosekSolver())\n",
    "waypoints = l_gcs.SolvePath(True)[0]\n",
    "t_knots = np.linspace(0, 1,  waypoints.shape[1])\n",
    "lin_traj = PiecewisePolynomial.FirstOrderHold(t_knots, waypoints)\n",
    "\n",
    "draw_traj(visualizer.meshcat, lin_traj, 100)\n"
   ]
  },
  {
   "cell_type": "code",
   "execution_count": 30,
   "metadata": {},
   "outputs": [],
   "source": [
    "def animate_traj_s(self, traj, steps, runtime, sleep_time=0.1):\n",
    "    # loop\n",
    "    idx = 0\n",
    "    going_fwd = True\n",
    "    time_points = np.linspace(0, traj.end_time(), steps)\n",
    "    frame_count = 0\n",
    "    # self.task_space_animiation = self.visualizer_task_space.get_mutable_recording()\n",
    "    # self.cspace_animiation = self.visualizer_cspace.get_mutable_recording()\n",
    "    for _ in range(runtime):\n",
    "        # print(idx)\n",
    "        t0 = time.time()\n",
    "        s = traj.value(time_points[idx])\n",
    "        self.show_res_s(s)\n",
    "        self.diagram_context.SetTime(frame_count * 0.01)\n",
    "        self.diagram.ForcedPublish(self.diagram_context)\n",
    "        frame_count += 1\n",
    "        if going_fwd:\n",
    "            if idx + 1 < steps:\n",
    "                idx += 1\n",
    "            else:\n",
    "                going_fwd = False\n",
    "                idx -= 1\n",
    "        else:\n",
    "            if idx - 1 >= 0:\n",
    "                idx -= 1\n",
    "            else:\n",
    "                going_fwd = True\n",
    "                idx += 1\n",
    "        t1 = time.time()\n",
    "        pause = sleep_time - (t1 - t0)\n",
    "        if pause > 0:\n",
    "            time.sleep(pause)"
   ]
  },
  {
   "cell_type": "code",
   "execution_count": 31,
   "metadata": {},
   "outputs": [],
   "source": [
    "substeps = 100\n",
    "runtime = 2*substeps\n",
    "# visualizer.animate_traj_s(lin_traj, substeps, runtime)\n",
    "visualizer.visualizer.StartRecording()\n",
    "animate_traj_s(visualizer, lin_traj, substeps, runtime)\n",
    "visualizer.visualizer.PublishRecording()\n"
   ]
  },
  {
   "cell_type": "code",
   "execution_count": 33,
   "metadata": {},
   "outputs": [],
   "source": [
    "with open(\"animation.html\", \"w\") as f:\n",
    "    f.write(visualizer.meshcat.StaticHtml())\n"
   ]
  },
  {
   "cell_type": "markdown",
   "metadata": {},
   "source": [
    "# Now it is time to play with the visualization! If you open the task space visualizer, we can highlight specific geometries and their separating planes in different regions.\n",
    "## Notice that when regions overlap, we get multiple planes certifying non-collision"
   ]
  },
  {
   "cell_type": "code",
   "execution_count": null,
   "metadata": {},
   "outputs": [],
   "source": [
    "# This plane certifies that the two tips of the flippers don't intersect\n",
    "visualizer.add_plane_indices_of_interest(118)\n",
    "\n",
    "# re-display the sliders for convenience\n",
    "for slider in sliders:\n",
    "    display(slider)"
   ]
  },
  {
   "cell_type": "code",
   "execution_count": null,
   "metadata": {},
   "outputs": [],
   "source": [
    "# Uncomment this cell for an interface for choosing good planes of interest\n",
    "# plane_indices = np.arange(0, len(cspace_free_polytope.separating_planes()))\n",
    "# last_plane_index = 0\n",
    "# cur_plane_index = 0\n",
    "# plane_indices_to_geometries = {v: k for k,v in cspace_free_polytope.map_geometries_to_separating_planes().items()}\n",
    "\n",
    "# while True:\n",
    "#     visualizer.meshcat_task_space.Delete(f\"/plane_{last_plane_index}\")\n",
    "#     geom1, geom2 = plane_indices_to_geometries[cur_plane_index]\n",
    "#     color = Rgba(0,0,1,1)\n",
    "    \n",
    "#     prefix = f\"/plane_{cur_plane_index}\"\n",
    "#     visualizer.highlight_geometry_id(geom1, color, prefix+f\"/{geom1}\")\n",
    "#     visualizer.highlight_geometry_id(geom2, color, prefix+f\"/{geom2}\")\n",
    "#     print(f\"current plane index = {cur_plane_index}\")\n",
    "    \n",
    "#     last_plane_index = cur_plane_index\n",
    "#     valid_key_pressed = False\n",
    "#     while not valid_key_pressed:\n",
    "#         key_press = input(\"Enter d to increase plane_count, a to decrease, and e to exit...\")\n",
    "#         if key_press in [\"a\", \"d\", \"e\"]:\n",
    "#             valid_key_pressed = True\n",
    "#     if key_press == \"a\":\n",
    "#         cur_plane_index = max(cur_plane_index - 1, min(plane_indices))\n",
    "#     elif key_press == \"d\":\n",
    "#         cur_plane_index = min(cur_plane_index + 1, max(plane_indices))\n",
    "#     elif key_press == \"e\":\n",
    "#         break\n",
    "#     print()"
   ]
  },
  {
   "cell_type": "code",
   "execution_count": null,
   "metadata": {},
   "outputs": [],
   "source": [
    "# Uncomment this cell for seeing all the planes associated to a particular geometry id\n",
    "# interesting_geometry = 92\n",
    "# plane_indices = np.arange(0, len(cspace_free_polytope.separating_planes()))\n",
    "# plane_indices_to_geometries = {v: k for k,v in cspace_free_polytope.map_geometries_to_separating_planes().items()}\n",
    "\n",
    "# associated_plane_indices = []\n",
    "# for plane_index, (geom1, geom2) in plane_indices_to_geometries.items():\n",
    "#     if interesting_geometry in (geom1.get_value(), geom2. get_value()):\n",
    "#         associated_plane_indices.append(plane_index)\n",
    "\n",
    "        \n",
    "# last_associated_index_index = 0\n",
    "# cur_associated_index_index = 0\n",
    "\n",
    "# visualizer.clear_plane_indices_of_interest()\n",
    "# while True:\n",
    "#     last_plane_index = associated_plane_indices[last_associated_index_index]\n",
    "#     cur_plane_index = associated_plane_indices[cur_associated_index_index]\n",
    "    \n",
    "#     print(f\"current plane index = {cur_plane_index}\")\n",
    "    \n",
    "#     visualizer.remove_plane_indices_of_interest(last_plane_index)\n",
    "#     visualizer.add_plane_indices_of_interest(cur_plane_index)\n",
    "    \n",
    "#     cur_q = visualizer.plant.GetPositions(visualizer.plant_context)\n",
    "#     visualizer.show_res_q(cur_q)\n",
    "    \n",
    "#     last_associated_index_index = cur_associated_index_index\n",
    "#     valid_key_pressed = False\n",
    "#     while not valid_key_pressed:\n",
    "#         key_press = input(\"Enter d to increase plane_count, a to decrease, and e to exit...\")\n",
    "#         if key_press in [\"a\", \"d\", \"e\"]:\n",
    "#             valid_key_pressed = True\n",
    "#     if key_press == \"a\":\n",
    "#         cur_associated_index_index = max(cur_associated_index_index - 1, min(associated_plane_indices))\n",
    "#     elif key_press == \"d\":\n",
    "#         cur_associated_index_index = min(cur_associated_index_index + 1, max(associated_plane_indices))\n",
    "#     elif key_press == \"e\":\n",
    "#         break\n",
    "#     print()"
   ]
  }
 ],
 "metadata": {
  "interpreter": {
   "hash": "31f2aee4e71d21fbe5cf8b01ff0e069b9275f58929596ceb00d14d90e3e16cd6"
  },
  "kernelspec": {
   "display_name": "Python 3 (ipykernel)",
   "language": "python",
   "name": "python3"
  },
  "language_info": {
   "codemirror_mode": {
    "name": "ipython",
    "version": 3
   },
   "file_extension": ".py",
   "mimetype": "text/x-python",
   "name": "python",
   "nbconvert_exporter": "python",
   "pygments_lexer": "ipython3",
   "version": "3.10.6"
  }
 },
 "nbformat": 4,
 "nbformat_minor": 2
}
