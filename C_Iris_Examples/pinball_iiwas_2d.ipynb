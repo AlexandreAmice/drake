{
 "cells": [
  {
   "cell_type": "code",
   "execution_count": 1,
   "metadata": {},
   "outputs": [],
   "source": [
    "%load_ext autoreload"
   ]
  },
  {
   "cell_type": "code",
   "execution_count": 2,
   "metadata": {},
   "outputs": [],
   "source": [
    "import numpy as np\n",
    "from functools import partial\n",
    "from iris_plant_visualizer import IrisPlantVisualizer\n",
    "import ipywidgets as widgets\n",
    "from IPython.display import display\n",
    "from scipy.linalg import block_diag"
   ]
  },
  {
   "cell_type": "code",
   "execution_count": 3,
   "metadata": {},
   "outputs": [],
   "source": [
    "#pydrake imports\n",
    "from pydrake.common import FindResourceOrThrow\n",
    "from pydrake.multibody.parsing import Parser\n",
    "from pydrake.multibody.plant import AddMultibodyPlantSceneGraph\n",
    "from pydrake.systems.framework import DiagramBuilder\n",
    "from pydrake.geometry import Role, GeometrySet, CollisionFilterDeclaration\n",
    "from pydrake.all import RigidTransform, RollPitchYaw, RevoluteJoint\n",
    "from pydrake.all import RotationMatrix, Rgba\n",
    "import time\n",
    "import pydrake.multibody.rational as rational_forward_kinematics\n",
    "from pydrake.all import RationalForwardKinematics\n",
    "from pydrake.geometry.optimization import IrisOptions, IrisInRationalConfigurationSpace, HPolyhedron, Hyperellipsoid\n",
    "from pydrake.solvers import MosekSolver, CommonSolverOption, SolverOptions"
   ]
  },
  {
   "cell_type": "code",
   "execution_count": 4,
   "metadata": {},
   "outputs": [],
   "source": [
    "from pydrake.geometry.optimization_dev import (CspaceFreePolytope, \n",
    "                                               SeparatingPlaneOrder)"
   ]
  },
  {
   "cell_type": "markdown",
   "metadata": {},
   "source": [
    "# Build and set up the visualization the plant and the visualization of the C-space obstacle\n",
    "\n",
    "We first set up a simple 2-DOF system and visualize both the plant and the configuration constraint.Click on the two links at the bottom to view the plant and the configuration space.\n",
    "\n",
    "Note that running this cell multiple times will establish multiple meshcat instances which can fill up your memory. It is a good idea to call \"pkill -f meshcat\" from the command line before re-running this cell\n"
   ]
  },
  {
   "cell_type": "code",
   "execution_count": 5,
   "metadata": {},
   "outputs": [
    {
     "name": "stderr",
     "output_type": "stream",
     "text": [
      "WARNING:drake:/home/amice/.cache/bazel/_bazel_amice/32fdbbecfa8a7ce8feece95e48c42006/execroot/drake/bazel-out/k8-opt/bin/C_Iris_Examples/pinball_iiwas_2d.runfiles/drake/C_Iris_Examples/assets/oneDOF_iiwa7_with_box_collision.sdf:425: warning: Ignoring unsupported SDFormat element in model: plugin\n",
      "WARNING:drake:/home/amice/.cache/bazel/_bazel_amice/32fdbbecfa8a7ce8feece95e48c42006/execroot/drake/bazel-out/k8-opt/bin/C_Iris_Examples/pinball_iiwas_2d.runfiles/drake/C_Iris_Examples/assets/oneDOF_iiwa7_with_box_collision.sdf:37: warning: Ignoring unsupported SDFormat element in link: self_collide\n",
      "WARNING:drake:/home/amice/.cache/bazel/_bazel_amice/32fdbbecfa8a7ce8feece95e48c42006/execroot/drake/bazel-out/k8-opt/bin/C_Iris_Examples/pinball_iiwas_2d.runfiles/drake/C_Iris_Examples/assets/oneDOF_iiwa7_with_box_collision.sdf:73: warning: Ignoring unsupported SDFormat element in link: self_collide\n",
      "WARNING:drake:/home/amice/.cache/bazel/_bazel_amice/32fdbbecfa8a7ce8feece95e48c42006/execroot/drake/bazel-out/k8-opt/bin/C_Iris_Examples/pinball_iiwas_2d.runfiles/drake/C_Iris_Examples/assets/oneDOF_iiwa7_with_box_collision.sdf:128: warning: Ignoring unsupported SDFormat element in link: self_collide\n",
      "WARNING:drake:/home/amice/.cache/bazel/_bazel_amice/32fdbbecfa8a7ce8feece95e48c42006/execroot/drake/bazel-out/k8-opt/bin/C_Iris_Examples/pinball_iiwas_2d.runfiles/drake/C_Iris_Examples/assets/oneDOF_iiwa7_with_box_collision.sdf:183: warning: Ignoring unsupported SDFormat element in link: self_collide\n",
      "WARNING:drake:/home/amice/.cache/bazel/_bazel_amice/32fdbbecfa8a7ce8feece95e48c42006/execroot/drake/bazel-out/k8-opt/bin/C_Iris_Examples/pinball_iiwas_2d.runfiles/drake/C_Iris_Examples/assets/oneDOF_iiwa7_with_box_collision.sdf:238: warning: Ignoring unsupported SDFormat element in link: self_collide\n",
      "WARNING:drake:/home/amice/.cache/bazel/_bazel_amice/32fdbbecfa8a7ce8feece95e48c42006/execroot/drake/bazel-out/k8-opt/bin/C_Iris_Examples/pinball_iiwas_2d.runfiles/drake/C_Iris_Examples/assets/oneDOF_iiwa7_with_box_collision.sdf:293: warning: Ignoring unsupported SDFormat element in link: self_collide\n",
      "WARNING:drake:/home/amice/.cache/bazel/_bazel_amice/32fdbbecfa8a7ce8feece95e48c42006/execroot/drake/bazel-out/k8-opt/bin/C_Iris_Examples/pinball_iiwas_2d.runfiles/drake/C_Iris_Examples/assets/oneDOF_iiwa7_with_box_collision.sdf:348: warning: Ignoring unsupported SDFormat element in link: self_collide\n",
      "WARNING:drake:/home/amice/.cache/bazel/_bazel_amice/32fdbbecfa8a7ce8feece95e48c42006/execroot/drake/bazel-out/k8-opt/bin/C_Iris_Examples/pinball_iiwas_2d.runfiles/drake/C_Iris_Examples/assets/oneDOF_iiwa7_with_box_collision.sdf:403: warning: Ignoring unsupported SDFormat element in link: self_collide\n",
      "WARNING:drake:/home/amice/.cache/bazel/_bazel_amice/32fdbbecfa8a7ce8feece95e48c42006/execroot/drake/bazel-out/k8-opt/bin/C_Iris_Examples/pinball_iiwas_2d.runfiles/drake/C_Iris_Examples/assets/oneDOF_iiwa7_with_box_collision.sdf:425: warning: Ignoring unsupported SDFormat element in model: plugin\n",
      "WARNING:drake:/home/amice/.cache/bazel/_bazel_amice/32fdbbecfa8a7ce8feece95e48c42006/execroot/drake/bazel-out/k8-opt/bin/C_Iris_Examples/pinball_iiwas_2d.runfiles/drake/C_Iris_Examples/assets/oneDOF_iiwa7_with_box_collision.sdf:37: warning: Ignoring unsupported SDFormat element in link: self_collide\n",
      "WARNING:drake:/home/amice/.cache/bazel/_bazel_amice/32fdbbecfa8a7ce8feece95e48c42006/execroot/drake/bazel-out/k8-opt/bin/C_Iris_Examples/pinball_iiwas_2d.runfiles/drake/C_Iris_Examples/assets/oneDOF_iiwa7_with_box_collision.sdf:73: warning: Ignoring unsupported SDFormat element in link: self_collide\n",
      "WARNING:drake:/home/amice/.cache/bazel/_bazel_amice/32fdbbecfa8a7ce8feece95e48c42006/execroot/drake/bazel-out/k8-opt/bin/C_Iris_Examples/pinball_iiwas_2d.runfiles/drake/C_Iris_Examples/assets/oneDOF_iiwa7_with_box_collision.sdf:128: warning: Ignoring unsupported SDFormat element in link: self_collide\n",
      "WARNING:drake:/home/amice/.cache/bazel/_bazel_amice/32fdbbecfa8a7ce8feece95e48c42006/execroot/drake/bazel-out/k8-opt/bin/C_Iris_Examples/pinball_iiwas_2d.runfiles/drake/C_Iris_Examples/assets/oneDOF_iiwa7_with_box_collision.sdf:183: warning: Ignoring unsupported SDFormat element in link: self_collide\n",
      "WARNING:drake:/home/amice/.cache/bazel/_bazel_amice/32fdbbecfa8a7ce8feece95e48c42006/execroot/drake/bazel-out/k8-opt/bin/C_Iris_Examples/pinball_iiwas_2d.runfiles/drake/C_Iris_Examples/assets/oneDOF_iiwa7_with_box_collision.sdf:238: warning: Ignoring unsupported SDFormat element in link: self_collide\n",
      "WARNING:drake:/home/amice/.cache/bazel/_bazel_amice/32fdbbecfa8a7ce8feece95e48c42006/execroot/drake/bazel-out/k8-opt/bin/C_Iris_Examples/pinball_iiwas_2d.runfiles/drake/C_Iris_Examples/assets/oneDOF_iiwa7_with_box_collision.sdf:293: warning: Ignoring unsupported SDFormat element in link: self_collide\n",
      "WARNING:drake:/home/amice/.cache/bazel/_bazel_amice/32fdbbecfa8a7ce8feece95e48c42006/execroot/drake/bazel-out/k8-opt/bin/C_Iris_Examples/pinball_iiwas_2d.runfiles/drake/C_Iris_Examples/assets/oneDOF_iiwa7_with_box_collision.sdf:348: warning: Ignoring unsupported SDFormat element in link: self_collide\n",
      "WARNING:drake:/home/amice/.cache/bazel/_bazel_amice/32fdbbecfa8a7ce8feece95e48c42006/execroot/drake/bazel-out/k8-opt/bin/C_Iris_Examples/pinball_iiwas_2d.runfiles/drake/C_Iris_Examples/assets/oneDOF_iiwa7_with_box_collision.sdf:403: warning: Ignoring unsupported SDFormat element in link: self_collide\n",
      "INFO:drake:Meshcat listening for connections at http://localhost:7000\n",
      "INFO:drake:Meshcat listening for connections at http://localhost:7001\n"
     ]
    }
   ],
   "source": [
    "#construct our robot\n",
    "builder = DiagramBuilder()\n",
    "plant, scene_graph = AddMultibodyPlantSceneGraph(builder, time_step=0.001)\n",
    "parser = Parser(plant)\n",
    "oneDOF_iiwa_asset = FindResourceOrThrow(\"drake/C_Iris_Examples/assets/oneDOF_iiwa7_with_box_collision.sdf\")\n",
    "\n",
    "box_asset = FindResourceOrThrow(\"drake/C_Iris_Examples/assets/box_small.urdf\")\n",
    "\n",
    "models = []\n",
    "models.append(parser.AddModelFromFile(box_asset))\n",
    "models.append(parser.AddModelFromFile(oneDOF_iiwa_asset, 'right_sweeper'))\n",
    "models.append(parser.AddModelFromFile(oneDOF_iiwa_asset, 'left_sweeper'))\n",
    "locs = [[0.,0.,0.],\n",
    "        [0,1,0.85],\n",
    "        [0,-1,0.55]]\n",
    "plant.WeldFrames(plant.world_frame(), \n",
    "                 plant.GetFrameByName(\"base\", models[0]),\n",
    "                 RigidTransform(locs[0]))\n",
    "\n",
    "t1 = RigidTransform(RollPitchYaw([np.pi/2, 0, 0]).ToRotationMatrix(), locs[1])@RigidTransform(RollPitchYaw([0, 0, np.pi/2]), np.zeros(3))\n",
    "t2 = RigidTransform(RollPitchYaw([-np.pi/2, 0, 0]).ToRotationMatrix(), locs[2])@RigidTransform(RollPitchYaw([0, 0, np.pi/2]), np.zeros(3))\n",
    "plant.WeldFrames(plant.world_frame(), \n",
    "                 plant.GetFrameByName(\"iiwa_oneDOF_link_0\", models[1]), \n",
    "                 t1)\n",
    "plant.WeldFrames(plant.world_frame(), \n",
    "                 plant.GetFrameByName(\"iiwa_oneDOF_link_0\", models[2]), \n",
    "                 t2)\n",
    "\n",
    "\n",
    "plant.Finalize()\n",
    "idx = 0\n",
    "q0 = [0.0, 0.0]\n",
    "val = 1.7\n",
    "q_low  = np.array([-val, -val])\n",
    "q_high = np.array([val, val])\n",
    "# set the joint limits of the plant\n",
    "for model in models:\n",
    "    for joint_index in plant.GetJointIndices(model):\n",
    "        joint = plant.get_mutable_joint(joint_index)\n",
    "        if isinstance(joint, RevoluteJoint):\n",
    "            joint.set_default_angle(q0[idx])\n",
    "            joint.set_position_limits(lower_limits= np.array([q_low[idx]]), upper_limits= np.array([q_high[idx]]))\n",
    "            idx += 1\n",
    "        \n",
    "# construct the RationalForwardKinematics of this plant. This object handles the\n",
    "# computations for the forward kinematics in the tangent-configuration space\n",
    "Ratfk = RationalForwardKinematics(plant)\n",
    "\n",
    "# the point about which we will take the stereographic projections\n",
    "q_star = np.zeros(plant.num_positions())\n",
    "\n",
    "do_viz = True\n",
    "\n",
    "# The object we will use to perform our certification.\n",
    "cspace_free_polytope = CspaceFreePolytope(plant, scene_graph, SeparatingPlaneOrder.kAffine, q_star)\n",
    "\n",
    "# This line builds the visualization. Change the viz_role to Role.kIllustration if you\n",
    "# want to see the plant with its illustrated geometry or to Role.kProximity if you want\n",
    "# to see the plant with the collision geometries.\n",
    "visualizer = IrisPlantVisualizer(plant, builder, scene_graph, cspace_free_polytope, viz_role=Role.kIllustration)\n",
    "visualizer.visualize_collision_constraint(factor = 1.2, num_points = 100)\n",
    "visualizer.meshcat_cspace.Set2dRenderMode(RigidTransform(RotationMatrix.MakeZRotation(0), np.array([0,0,1])))\n",
    "visualizer.meshcat_task_space.Set2dRenderMode(RigidTransform(RotationMatrix.MakeZRotation(0), np.array([1,0,0])))"
   ]
  },
  {
   "cell_type": "markdown",
   "metadata": {},
   "source": [
    "## Set up the sliders so we can move the plant around manually\n",
    "\n",
    "You can use the sliders below to move the two degrees of freedom of the plant around. A green dot will appear in the TC-space visualization describing the current TC-space configuration."
   ]
  },
  {
   "cell_type": "code",
   "execution_count": 6,
   "metadata": {
    "scrolled": false
   },
   "outputs": [
    {
     "data": {
      "application/vnd.jupyter.widget-view+json": {
       "model_id": "f7fc6b1171a9496eb473bf6262608ced",
       "version_major": 2,
       "version_minor": 0
      },
      "text/plain": [
       "FloatSlider(value=0.0, description='q0', max=1.7, min=-1.7)"
      ]
     },
     "metadata": {},
     "output_type": "display_data"
    },
    {
     "data": {
      "application/vnd.jupyter.widget-view+json": {
       "model_id": "b16f941002824a618ba18ece3b6d5e0b",
       "version_major": 2,
       "version_minor": 0
      },
      "text/plain": [
       "FloatSlider(value=0.0, description='q1', max=1.7, min=-1.7)"
      ]
     },
     "metadata": {},
     "output_type": "display_data"
    }
   ],
   "source": [
    "sliders = []\n",
    "sliders.append(widgets.FloatSlider(min=q_low[0], max=q_high[0], value=0, description='q0'))\n",
    "sliders.append(widgets.FloatSlider(min=q_low[1], max=q_high[1], value=0, description='q1'))\n",
    "\n",
    "q = q0.copy()\n",
    "def handle_slider_change(change, idx):\n",
    "    q[idx] = change['new']\n",
    "    visualizer.show_res_q(q)\n",
    "    \n",
    "idx = 0\n",
    "for slider in sliders:\n",
    "    slider.observe(partial(handle_slider_change, idx = idx), names='value')\n",
    "    idx+=1\n",
    "\n",
    "for slider in sliders:\n",
    "    display(slider)\n"
   ]
  },
  {
   "cell_type": "markdown",
   "metadata": {},
   "source": [
    "# Generate and Certify Regions\n",
    "\n",
    "Around some nominal seed postures, we will grow certified regions by seeding our alternation algorithm using a small initial polytope."
   ]
  },
  {
   "cell_type": "code",
   "execution_count": 7,
   "metadata": {},
   "outputs": [],
   "source": [
    "# Some seedpoints\n",
    "seed_points_q = np.array([   [0.0, 0],\n",
    "                              [0.7, -0.9],\n",
    "                              [-0.5, -0.5],\n",
    "                              [0.4,-1.3]\n",
    "                              ])\n",
    "seed_points = np.array([Ratfk.ComputeSValue(seed_points_q[idx], np.zeros((2,)))\\\n",
    "                        for idx in range(seed_points_q.shape[0])])\n",
    "if do_viz:\n",
    "    visualizer.plot_cspace_points(seed_points, \"/iris_seed_points\")\n",
    "    \n",
    "\n",
    "\n",
    "default_scale = 1e-2\n",
    "L1_ball = HPolyhedron.MakeL1Ball(2)\n",
    "Linf_ball = HPolyhedron.MakeBox(-np.ones(2), np.ones(2))\n",
    "\n",
    "template_C = np.vstack([L1_ball.A(), Linf_ball.A()])\n",
    "template_d = np.hstack([default_scale*L1_ball.b(), default_scale/np.sqrt(2)*Linf_ball.b()])\n",
    "\n",
    "\n",
    "def make_default_polytope_at_point(seed_point):\n",
    "    return HPolyhedron(template_C, template_d + template_C @ seed_point)\n",
    "\n",
    "\n",
    "# colors to plot the region. Chosen for color-blind compatibility\n",
    "default_alpha = 0.2\n",
    "colors_dict = {\n",
    "    0: Rgba(0.565, 0.565, 0.565, default_alpha),\n",
    "    1: Rgba(0.118, 0.533, 0.898, default_alpha), # bluish\n",
    "    2: Rgba(1,     0.757, 0.027, default_alpha), # gold\n",
    "    3: Rgba(0,     0.549, 0.024, default_alpha), # green    \n",
    "}\n",
    "\n",
    "initial_regions = [(make_default_polytope_at_point(s), colors_dict[i]) for i, s in enumerate(seed_points)]\n",
    "visualizer.add_group_of_regions_to_visualization(initial_regions, \"initial_regions\",\n",
    "                            wireframe = False,\n",
    "                           opacity = default_alpha)\n",
    "visualizer.show_res_q(q_star)"
   ]
  },
  {
   "cell_type": "markdown",
   "metadata": {},
   "source": [
    "## First we set up some options for our different certification modes"
   ]
  },
  {
   "cell_type": "code",
   "execution_count": 8,
   "metadata": {},
   "outputs": [],
   "source": [
    "# set up the certifier and the options for different search techniques\n",
    "solver_options = SolverOptions()\n",
    "# set this to 1 if you would like to see the solver output in terminal.\n",
    "solver_options.SetOption(CommonSolverOption.kPrintToConsole, 0)\n",
    "\n",
    "# The options for when we search for new planes and positivity certificates given the polytopes\n",
    "find_separation_certificate_given_polytope_options = CspaceFreePolytope.FindSeparationCertificateGivenPolytopeOptions()\n",
    "find_separation_certificate_given_polytope_options.num_threads = -1\n",
    "find_separation_certificate_given_polytope_options.verbose = False\n",
    "find_separation_certificate_given_polytope_options.solver_options = solver_options\n",
    "find_separation_certificate_given_polytope_options.ignore_redundant_C = True\n",
    "\n",
    "# The options for when we search for a new polytope given positivity certificates.\n",
    "find_polytope_given_lagrangian_option = CspaceFreePolytope.FindPolytopeGivenLagrangianOptions()\n",
    "find_polytope_given_lagrangian_option.solver_options = solver_options\n",
    "find_polytope_given_lagrangian_option.ellipsoid_margin_cost = CspaceFreePolytope.EllipsoidMarginCost.kGeometricMean\n",
    "find_polytope_given_lagrangian_option.search_s_bounds_lagrangians = True\n",
    "find_polytope_given_lagrangian_option.ellipsoid_margin_epsilon = 1e-4\n",
    "\n",
    "\n",
    "bilinear_alternation_options = CspaceFreePolytope.BilinearAlternationOptions()\n",
    "bilinear_alternation_options.max_iter = 100\n",
    "bilinear_alternation_options.convergence_tol = 1e-5\n",
    "bilinear_alternation_options.find_polytope_options = find_polytope_given_lagrangian_option\n",
    "bilinear_alternation_options.find_lagrangian_options = find_separation_certificate_given_polytope_options\n",
    "\n",
    "binary_search_options = CspaceFreePolytope.BinarySearchOptions()\n",
    "binary_search_options.find_lagrangian_options = find_separation_certificate_given_polytope_options\n",
    "binary_search_options.scale_min = 1\n",
    "binary_search_options.scale_max = 50\n",
    "binary_search_options.max_iter = 100\n",
    "\n",
    "Clim = np.vstack([np.eye(q_star.shape[0]), -np.eye(q_star.shape[0])])\n",
    "dlim = np.concatenate([Ratfk.ComputeSValue(q_high, q_star), -Ratfk.ComputeSValue(q_low, q_star)])\n",
    "def polytope_with_joint_limits(C, d):\n",
    "    return HPolyhedron(np.vstack([C, Clim]), np.concatenate([d, dlim]))"
   ]
  },
  {
   "cell_type": "markdown",
   "metadata": {},
   "source": [
    "# Growing regions with bilinear alternations search\n",
    "\n",
    "### As the initial regions are fairly small, they won't contain collisions and so can be directly fed into the bilinear alternation algorithm."
   ]
  },
  {
   "cell_type": "code",
   "execution_count": 9,
   "metadata": {},
   "outputs": [
    {
     "name": "stderr",
     "output_type": "stream",
     "text": [
      "INFO:drake:det(Q) at the beginning is 4.900500382473016e-05\n",
      "INFO:drake:Iteration 0: det(Q)=0.00014582215175495952\n"
     ]
    },
    {
     "name": "stdout",
     "output_type": "stream",
     "text": [
      "starting seedpoint 1/4\n"
     ]
    },
    {
     "name": "stderr",
     "output_type": "stream",
     "text": [
      "INFO:drake:Iteration 1: det(Q)=0.000281122695520573\n",
      "INFO:drake:Iteration 2: det(Q)=0.0005362012079052822\n",
      "INFO:drake:Iteration 3: det(Q)=0.0008776937535496598\n",
      "INFO:drake:Iteration 4: det(Q)=0.0013225246404088365\n",
      "INFO:drake:Iteration 5: det(Q)=0.0018370949858311856\n",
      "INFO:drake:Iteration 6: det(Q)=0.0024806722452337874\n",
      "INFO:drake:Iteration 7: det(Q)=0.0032226205062629762\n",
      "INFO:drake:Iteration 8: det(Q)=0.004100828462231878\n",
      "INFO:drake:Iteration 9: det(Q)=0.005241176174167933\n",
      "INFO:drake:Iteration 10: det(Q)=0.006461108001274314\n",
      "INFO:drake:Iteration 11: det(Q)=0.007752289604392224\n",
      "INFO:drake:Iteration 12: det(Q)=0.009362648431824515\n",
      "INFO:drake:Iteration 13: det(Q)=0.010971309328127435\n",
      "INFO:drake:Iteration 14: det(Q)=0.01252606207007714\n",
      "INFO:drake:Iteration 15: det(Q)=0.014403662941308236\n",
      "INFO:drake:Iteration 16: det(Q)=0.015737637301296254\n",
      "INFO:drake:Iteration 17: det(Q)=0.01671531194255531\n",
      "INFO:drake:Iteration 18: det(Q)=0.017566952556194795\n",
      "INFO:drake:Iteration 19: det(Q)=0.01842829690693456\n",
      "INFO:drake:Iteration 20: det(Q)=0.019314785090451998\n",
      "INFO:drake:Iteration 21: det(Q)=0.020189173109670368\n",
      "INFO:drake:Iteration 22: det(Q)=0.02106858401980331\n",
      "INFO:drake:Iteration 23: det(Q)=0.021988750567999836\n",
      "INFO:drake:Iteration 24: det(Q)=0.022952396828339595\n",
      "INFO:drake:Iteration 25: det(Q)=0.02404504371989699\n",
      "INFO:drake:Iteration 26: det(Q)=0.025205042512015944\n",
      "INFO:drake:Iteration 27: det(Q)=0.02644281296969277\n",
      "INFO:drake:Iteration 28: det(Q)=0.02776619454446746\n",
      "INFO:drake:Iteration 29: det(Q)=0.02912926549569607\n",
      "INFO:drake:Iteration 30: det(Q)=0.03055797072074657\n",
      "INFO:drake:Iteration 31: det(Q)=0.03212213540272836\n",
      "INFO:drake:Iteration 32: det(Q)=0.033755790870251066\n",
      "INFO:drake:Iteration 33: det(Q)=0.03547362386713584\n",
      "INFO:drake:Iteration 34: det(Q)=0.037189396701067856\n",
      "INFO:drake:Iteration 35: det(Q)=0.03896435632395825\n",
      "INFO:drake:Iteration 36: det(Q)=0.04088043828544442\n",
      "INFO:drake:Iteration 37: det(Q)=0.04309119312696006\n",
      "INFO:drake:Iteration 38: det(Q)=0.04574001294166917\n",
      "INFO:drake:Iteration 39: det(Q)=0.04875250401864391\n",
      "INFO:drake:Iteration 40: det(Q)=0.05129868231050441\n",
      "INFO:drake:Iteration 41: det(Q)=0.05275015812035881\n",
      "INFO:drake:Iteration 42: det(Q)=0.053449387429149134\n",
      "INFO:drake:Iteration 43: det(Q)=0.05393010062481741\n",
      "INFO:drake:Iteration 44: det(Q)=0.054274468612875014\n",
      "INFO:drake:Iteration 45: det(Q)=0.0545231739851603\n",
      "INFO:drake:Iteration 46: det(Q)=0.05458210408345271\n",
      "INFO:drake:Iteration 47: det(Q)=0.05471654837480485\n",
      "INFO:drake:Iteration 48: det(Q)=0.05481651701201926\n",
      "INFO:drake:Iteration 49: det(Q)=0.054893220278148074\n",
      "INFO:drake:Iteration 50: det(Q)=0.0549536341889024\n",
      "INFO:drake:Iteration 51: det(Q)=0.05500071301196803\n",
      "INFO:drake:Iteration 52: det(Q)=0.0550381250618813\n",
      "INFO:drake:Iteration 53: det(Q)=0.05506794628285952\n",
      "INFO:drake:Iteration 54: det(Q)=0.055092146001969315\n",
      "INFO:drake:Iteration 55: det(Q)=0.05511217030875365\n",
      "INFO:drake:Iteration 56: det(Q)=0.05512859242678296\n",
      "INFO:drake:Iteration 57: det(Q)=0.05514235495765924\n",
      "INFO:drake:Iteration 58: det(Q)=0.05515387337860728\n",
      "INFO:drake:Iteration 59: det(Q)=0.055163470660364845\n",
      "INFO:drake:Iteration 60: det(Q)=0.05517127407784107\n",
      "INFO:drake:Iteration 61: det(Q)=0.05517809219534901\n",
      "INFO:drake:Iteration 62: det(Q)=0.05518359843331821\n",
      "INFO:drake:Iteration 63: det(Q)=0.05518770149846661\n",
      "INFO:drake:Iteration 64: det(Q)=0.05519261340426235\n",
      "INFO:drake:Iteration 65: det(Q)=0.05519709087134093\n",
      "INFO:drake:Iteration 66: det(Q)=0.05520038048040119\n",
      "INFO:drake:Iteration 67: det(Q)=0.05520288978286696\n",
      "INFO:drake:Iteration 68: det(Q)=0.055205005496613564\n",
      "INFO:drake:Iteration 69: det(Q)=0.055206712133483486\n",
      "INFO:drake:Iteration 70: det(Q)=0.055208066628757255\n",
      "INFO:drake:Iteration 71: det(Q)=0.05520913976304834\n",
      "INFO:drake:Iteration 72: det(Q)=0.055210078640244346\n",
      "INFO:drake:Iteration 73: det(Q)=0.055207318450562246\n",
      "INFO:drake:det(Q) at the beginning is 4.9005001094506195e-05\n",
      "INFO:drake:Iteration 0: det(Q)=0.00014313067026505463\n"
     ]
    },
    {
     "name": "stdout",
     "output_type": "stream",
     "text": [
      "starting seedpoint 2/4\n"
     ]
    },
    {
     "name": "stderr",
     "output_type": "stream",
     "text": [
      "INFO:drake:Iteration 1: det(Q)=0.0003652612949886124\n",
      "INFO:drake:Iteration 2: det(Q)=0.0008038328145163745\n",
      "INFO:drake:Iteration 3: det(Q)=0.0016166172031427005\n",
      "INFO:drake:Iteration 4: det(Q)=0.003213561325188495\n",
      "INFO:drake:Iteration 5: det(Q)=0.003983822187595501\n",
      "INFO:drake:Iteration 6: det(Q)=0.00482835013467508\n",
      "INFO:drake:Iteration 7: det(Q)=0.00879960100602125\n",
      "INFO:drake:Iteration 8: det(Q)=0.010459722190637505\n",
      "INFO:drake:Iteration 9: det(Q)=0.010959046489312469\n",
      "INFO:drake:Iteration 10: det(Q)=0.011249837858838275\n",
      "INFO:drake:Iteration 11: det(Q)=0.011365997735388761\n",
      "INFO:drake:Iteration 12: det(Q)=0.011453281756605406\n",
      "INFO:drake:Iteration 13: det(Q)=0.01156710013575055\n",
      "INFO:drake:Iteration 14: det(Q)=0.01166139810495047\n",
      "INFO:drake:Iteration 15: det(Q)=0.011748878499601469\n",
      "INFO:drake:Iteration 16: det(Q)=0.01181876495106124\n",
      "INFO:drake:Iteration 17: det(Q)=0.011935959245669382\n",
      "INFO:drake:Iteration 18: det(Q)=0.012039770064430015\n",
      "INFO:drake:Iteration 19: det(Q)=0.012136550449136948\n",
      "INFO:drake:Iteration 20: det(Q)=0.012229816983505169\n",
      "INFO:drake:Iteration 21: det(Q)=0.012321477320169081\n",
      "INFO:drake:Iteration 22: det(Q)=0.012412592960542349\n",
      "INFO:drake:Iteration 23: det(Q)=0.012503729908747317\n",
      "INFO:drake:Iteration 24: det(Q)=0.012595214991782202\n",
      "ERROR:drake:Cannot find the separation certificate at iteration 25 given the polytope.\n",
      "INFO:drake:det(Q) at the beginning is 4.900500387407825e-05\n",
      "INFO:drake:Iteration 0: det(Q)=0.0002894677580147512\n"
     ]
    },
    {
     "name": "stdout",
     "output_type": "stream",
     "text": [
      "starting seedpoint 3/4\n"
     ]
    },
    {
     "name": "stderr",
     "output_type": "stream",
     "text": [
      "INFO:drake:Iteration 1: det(Q)=0.0006299878458603887\n",
      "INFO:drake:Iteration 2: det(Q)=0.0010029705447438\n",
      "INFO:drake:Iteration 3: det(Q)=0.0015075674592377726\n",
      "INFO:drake:Iteration 4: det(Q)=0.0021879886780210027\n",
      "INFO:drake:Iteration 5: det(Q)=0.0030870765582344034\n",
      "INFO:drake:Iteration 6: det(Q)=0.0041408277950878885\n",
      "INFO:drake:Iteration 7: det(Q)=0.005435981488688596\n",
      "INFO:drake:Iteration 8: det(Q)=0.0073064289597876385\n",
      "INFO:drake:Iteration 9: det(Q)=0.01009273568487651\n",
      "INFO:drake:Iteration 10: det(Q)=0.014504793681350908\n",
      "INFO:drake:Iteration 11: det(Q)=0.019739804100480922\n",
      "INFO:drake:Iteration 12: det(Q)=0.02732349054850286\n",
      "INFO:drake:Iteration 13: det(Q)=0.039914778416575473\n",
      "INFO:drake:Iteration 14: det(Q)=0.05699397210831437\n",
      "INFO:drake:Iteration 15: det(Q)=0.07688923788581475\n",
      "INFO:drake:Iteration 16: det(Q)=0.09308884574127806\n",
      "INFO:drake:Iteration 17: det(Q)=0.10594843301950936\n",
      "INFO:drake:Iteration 18: det(Q)=0.1153174289850515\n",
      "INFO:drake:Iteration 19: det(Q)=0.12174442482289556\n",
      "INFO:drake:Iteration 20: det(Q)=0.1263416272570296\n",
      "INFO:drake:Iteration 21: det(Q)=0.13051205064098165\n",
      "INFO:drake:Iteration 22: det(Q)=0.13379620515362223\n",
      "INFO:drake:Iteration 23: det(Q)=0.13643806604183928\n",
      "INFO:drake:Iteration 24: det(Q)=0.13856010567509486\n",
      "INFO:drake:Iteration 25: det(Q)=0.14039014834332084\n",
      "INFO:drake:Iteration 26: det(Q)=0.1418783149487312\n",
      "INFO:drake:Iteration 27: det(Q)=0.14308900934364385\n",
      "INFO:drake:Iteration 28: det(Q)=0.14420686708244315\n",
      "INFO:drake:Iteration 29: det(Q)=0.1452563812880924\n",
      "INFO:drake:Iteration 30: det(Q)=0.14620790599301486\n",
      "INFO:drake:Iteration 31: det(Q)=0.14706376559249879\n",
      "INFO:drake:Iteration 32: det(Q)=0.1478432200325361\n",
      "INFO:drake:Iteration 33: det(Q)=0.1486211428325481\n",
      "INFO:drake:Iteration 34: det(Q)=0.14936241392430105\n",
      "INFO:drake:Iteration 35: det(Q)=0.1500308871406099\n",
      "INFO:drake:Iteration 36: det(Q)=0.15062196798936728\n",
      "INFO:drake:Iteration 37: det(Q)=0.15114484020500882\n",
      "INFO:drake:Iteration 38: det(Q)=0.15160930953834054\n",
      "INFO:drake:Iteration 39: det(Q)=0.15203457009572943\n",
      "INFO:drake:Iteration 40: det(Q)=0.1524290149868782\n",
      "WARNING:drake:Failed before backoff.\n",
      "ERROR:drake:Cannot find the separation certificate at iteration 41 given the Lagrangians.\n",
      "INFO:drake:det(Q) at the beginning is 4.900500574033146e-05\n",
      "INFO:drake:Iteration 0: det(Q)=0.0005080152570851203\n"
     ]
    },
    {
     "name": "stdout",
     "output_type": "stream",
     "text": [
      "starting seedpoint 4/4\n"
     ]
    },
    {
     "name": "stderr",
     "output_type": "stream",
     "text": [
      "INFO:drake:Iteration 1: det(Q)=0.0012483252142710805\n",
      "INFO:drake:Iteration 2: det(Q)=0.002346267926015194\n",
      "INFO:drake:Iteration 3: det(Q)=0.003732868662230119\n",
      "INFO:drake:Iteration 4: det(Q)=0.005831528528484703\n",
      "INFO:drake:Iteration 5: det(Q)=0.012841599012277875\n",
      "INFO:drake:Iteration 6: det(Q)=0.020316678494413827\n",
      "INFO:drake:Iteration 7: det(Q)=0.02675666225046862\n",
      "INFO:drake:Iteration 8: det(Q)=0.03646169409386767\n",
      "INFO:drake:Iteration 9: det(Q)=0.0466204390263178\n",
      "INFO:drake:Iteration 10: det(Q)=0.05479383280657284\n",
      "INFO:drake:Iteration 11: det(Q)=0.06292696708232985\n",
      "INFO:drake:Iteration 12: det(Q)=0.0716170497821083\n",
      "INFO:drake:Iteration 13: det(Q)=0.08170502097021042\n",
      "INFO:drake:Iteration 14: det(Q)=0.09387490298134704\n",
      "INFO:drake:Iteration 15: det(Q)=0.1093420042544963\n",
      "INFO:drake:Iteration 16: det(Q)=0.12352854177685985\n",
      "INFO:drake:Iteration 17: det(Q)=0.1305356151617865\n",
      "INFO:drake:Iteration 18: det(Q)=0.13550574846039504\n",
      "INFO:drake:Iteration 19: det(Q)=0.13935717242394638\n",
      "INFO:drake:Iteration 20: det(Q)=0.14223262965342467\n",
      "INFO:drake:Iteration 21: det(Q)=0.14479814856920253\n",
      "INFO:drake:Iteration 22: det(Q)=0.14702129420116605\n",
      "INFO:drake:Iteration 23: det(Q)=0.14898049793954846\n",
      "INFO:drake:Iteration 24: det(Q)=0.15072353067511024\n",
      "INFO:drake:Iteration 25: det(Q)=0.1522184558171012\n",
      "INFO:drake:Iteration 26: det(Q)=0.15354342883868885\n",
      "INFO:drake:Iteration 27: det(Q)=0.15475360834470792\n",
      "INFO:drake:Iteration 28: det(Q)=0.15577717169124042\n",
      "INFO:drake:Iteration 29: det(Q)=0.1566156267551941\n",
      "INFO:drake:Iteration 30: det(Q)=0.1572906668914986\n",
      "INFO:drake:Iteration 31: det(Q)=0.15779809061396832\n",
      "INFO:drake:Iteration 32: det(Q)=0.15823286554332877\n",
      "INFO:drake:Iteration 33: det(Q)=0.15859701566987486\n",
      "INFO:drake:Iteration 34: det(Q)=0.15891376909639068\n",
      "ERROR:drake:Cannot find the separation certificate at iteration 35 given the polytope.\n"
     ]
    }
   ],
   "source": [
    "# We grow certified regions around each seedpoint using bilinear alternation.\n",
    "bilinear_alternation_results_by_seed_point = dict.fromkeys([tuple(s) for s in seed_points])\n",
    "for i, (s, (initial_region, color)) in enumerate(zip(seed_points, initial_regions)):\n",
    "    print(f\"starting seedpoint {i+1}/{len(initial_regions)}\")\n",
    "    time.sleep(0.1) # make the above print before the Drake log.\n",
    "    bilinear_alternation_options.find_polytope_options.s_inner_pts = s\n",
    "    result = cspace_free_polytope.SearchWithBilinearAlternation(set(), initial_region.A(),\n",
    "                                                                initial_region.b(),\n",
    "                                                                bilinear_alternation_options)\n",
    "    bilinear_alternation_results_by_seed_point[tuple(s)] = [(polytope_with_joint_limits(cert.C, cert.d),\n",
    "                                                             cert, color) for cert in result]\n",
    "    \n",
    "\n"
   ]
  },
  {
   "cell_type": "code",
   "execution_count": 10,
   "metadata": {},
   "outputs": [],
   "source": [
    "# visualize the regions and corresponding certificates\n",
    "for i, result in enumerate(bilinear_alternation_results_by_seed_point.values()):\n",
    "    group_name = f\"/bil_alt_seed_point_{i}\"\n",
    "    visualizer.add_group_of_regions_and_certs_to_visualization(result, group_name, \n",
    "                                                               wireframe = False, opacity = 0.2)"
   ]
  },
  {
   "cell_type": "code",
   "execution_count": 57,
   "metadata": {},
   "outputs": [
    {
     "data": {
      "image/png": "[encoded data removed]",
      "text/plain": [
       "<Figure size 640x480 with 1 Axes>"
      ]
     },
     "metadata": {},
     "output_type": "display_data"
    }
   ],
   "source": [
    "import matplotlib.pyplot as plt\n",
    "plt.clf()\n",
    "for i, result in enumerate(bilinear_alternation_results_by_seed_point.values()):\n",
    "    color = (colors_dict[i].r(), colors_dict[i].g(), colors_dict[i].b())\n",
    "    data = [(c.num_iter, c.certified_polytope.MaximumVolumeInscribedEllipsoid().Volume()) \n",
    "        for (_, c, _) in result]\n",
    "    x, y = map(list, zip(*data))\n",
    "    plt.plot(x, y, color = color, marker = 'o', label = f\"region {i}\")\n",
    "plt.xlabel(\"Iteration number\")\n",
    "plt.ylabel(\"Volume of Inscribed Ellipsoid\")\n",
    "plt.title(\"Volume of Inscribed Ellipsoid during Bilinear Alternation\")\n",
    "plt.legend()\n",
    "plt.savefig(\"pinball_vol.svg\")\n",
    "plt.show()"
   ]
  },
  {
   "cell_type": "code",
   "execution_count": 49,
   "metadata": {},
   "outputs": [
    {
     "data": {
      "text/plain": [
       "[(<pydrake.geometry.optimization.HPolyhedron at 0x7fdd0b25f6b0>,\n",
       "  <pydrake.geometry.optimization_dev.CspaceFreePolytope.SearchResult at 0x7fdd0b1fe670>,\n",
       "  Rgba(r=0.565, g=0.565, b=0.565, a=0.2)),\n",
       " (<pydrake.geometry.optimization.HPolyhedron at 0x7fdd0b1a02b0>,\n",
       "  <pydrake.geometry.optimization_dev.CspaceFreePolytope.SearchResult at 0x7fdd0b1fe8f0>,\n",
       "  Rgba(r=0.565, g=0.565, b=0.565, a=0.2)),\n",
       " (<pydrake.geometry.optimization.HPolyhedron at 0x7fdd0b199b70>,\n",
       "  <pydrake.geometry.optimization_dev.CspaceFreePolytope.SearchResult at 0x7fdd0b1fcbb0>,\n",
       "  Rgba(r=0.565, g=0.565, b=0.565, a=0.2)),\n",
       " (<pydrake.geometry.optimization.HPolyhedron at 0x7fdd0b1a09f0>,\n",
       "  <pydrake.geometry.optimization_dev.CspaceFreePolytope.SearchResult at 0x7fdd0b1fe230>,\n",
       "  Rgba(r=0.565, g=0.565, b=0.565, a=0.2)),\n",
       " (<pydrake.geometry.optimization.HPolyhedron at 0x7fdd0b1a0370>,\n",
       "  <pydrake.geometry.optimization_dev.CspaceFreePolytope.SearchResult at 0x7fdd0b1fc530>,\n",
       "  Rgba(r=0.565, g=0.565, b=0.565, a=0.2)),\n",
       " (<pydrake.geometry.optimization.HPolyhedron at 0x7fdd0b1a07f0>,\n",
       "  <pydrake.geometry.optimization_dev.CspaceFreePolytope.SearchResult at 0x7fdd0b1fc070>,\n",
       "  Rgba(r=0.565, g=0.565, b=0.565, a=0.2)),\n",
       " (<pydrake.geometry.optimization.HPolyhedron at 0x7fdd0b1a0ab0>,\n",
       "  <pydrake.geometry.optimization_dev.CspaceFreePolytope.SearchResult at 0x7fdd0b1fc6b0>,\n",
       "  Rgba(r=0.565, g=0.565, b=0.565, a=0.2)),\n",
       " (<pydrake.geometry.optimization.HPolyhedron at 0x7fdd0b1a07b0>,\n",
       "  <pydrake.geometry.optimization_dev.CspaceFreePolytope.SearchResult at 0x7fdd0b1fca70>,\n",
       "  Rgba(r=0.565, g=0.565, b=0.565, a=0.2)),\n",
       " (<pydrake.geometry.optimization.HPolyhedron at 0x7fdd0b1a0af0>,\n",
       "  <pydrake.geometry.optimization_dev.CspaceFreePolytope.SearchResult at 0x7fdd0b1fc2b0>,\n",
       "  Rgba(r=0.565, g=0.565, b=0.565, a=0.2)),\n",
       " (<pydrake.geometry.optimization.HPolyhedron at 0x7fdd0b1a0730>,\n",
       "  <pydrake.geometry.optimization_dev.CspaceFreePolytope.SearchResult at 0x7fdd0b1fc3f0>,\n",
       "  Rgba(r=0.565, g=0.565, b=0.565, a=0.2)),\n",
       " (<pydrake.geometry.optimization.HPolyhedron at 0x7fdd0b1a0570>,\n",
       "  <pydrake.geometry.optimization_dev.CspaceFreePolytope.SearchResult at 0x7fdd0b1fc930>,\n",
       "  Rgba(r=0.565, g=0.565, b=0.565, a=0.2)),\n",
       " (<pydrake.geometry.optimization.HPolyhedron at 0x7fdd0b1a0a30>,\n",
       "  <pydrake.geometry.optimization_dev.CspaceFreePolytope.SearchResult at 0x7fdd0b205830>,\n",
       "  Rgba(r=0.565, g=0.565, b=0.565, a=0.2)),\n",
       " (<pydrake.geometry.optimization.HPolyhedron at 0x7fdd0b1a01f0>,\n",
       "  <pydrake.geometry.optimization_dev.CspaceFreePolytope.SearchResult at 0x7fdd0b20e5f0>,\n",
       "  Rgba(r=0.565, g=0.565, b=0.565, a=0.2)),\n",
       " (<pydrake.geometry.optimization.HPolyhedron at 0x7fdd0b1a03f0>,\n",
       "  <pydrake.geometry.optimization_dev.CspaceFreePolytope.SearchResult at 0x7fdd0b20edb0>,\n",
       "  Rgba(r=0.565, g=0.565, b=0.565, a=0.2)),\n",
       " (<pydrake.geometry.optimization.HPolyhedron at 0x7fdd0b1a0770>,\n",
       "  <pydrake.geometry.optimization_dev.CspaceFreePolytope.SearchResult at 0x7fdd0b20efb0>,\n",
       "  Rgba(r=0.565, g=0.565, b=0.565, a=0.2)),\n",
       " (<pydrake.geometry.optimization.HPolyhedron at 0x7fdd0b1a06b0>,\n",
       "  <pydrake.geometry.optimization_dev.CspaceFreePolytope.SearchResult at 0x7fdd0b20eaf0>,\n",
       "  Rgba(r=0.565, g=0.565, b=0.565, a=0.2)),\n",
       " (<pydrake.geometry.optimization.HPolyhedron at 0x7fdd0b1a0930>,\n",
       "  <pydrake.geometry.optimization_dev.CspaceFreePolytope.SearchResult at 0x7fdd0b20e1b0>,\n",
       "  Rgba(r=0.565, g=0.565, b=0.565, a=0.2)),\n",
       " (<pydrake.geometry.optimization.HPolyhedron at 0x7fdd0b1a0b30>,\n",
       "  <pydrake.geometry.optimization_dev.CspaceFreePolytope.SearchResult at 0x7fdd0b20ea30>,\n",
       "  Rgba(r=0.565, g=0.565, b=0.565, a=0.2)),\n",
       " (<pydrake.geometry.optimization.HPolyhedron at 0x7fdd0b1a01b0>,\n",
       "  <pydrake.geometry.optimization_dev.CspaceFreePolytope.SearchResult at 0x7fdd0b20e3b0>,\n",
       "  Rgba(r=0.565, g=0.565, b=0.565, a=0.2)),\n",
       " (<pydrake.geometry.optimization.HPolyhedron at 0x7fdd0b1a0a70>,\n",
       "  <pydrake.geometry.optimization_dev.CspaceFreePolytope.SearchResult at 0x7fdd0b198830>,\n",
       "  Rgba(r=0.565, g=0.565, b=0.565, a=0.2)),\n",
       " (<pydrake.geometry.optimization.HPolyhedron at 0x7fdd0b1a0b70>,\n",
       "  <pydrake.geometry.optimization_dev.CspaceFreePolytope.SearchResult at 0x7fdd0b198530>,\n",
       "  Rgba(r=0.565, g=0.565, b=0.565, a=0.2)),\n",
       " (<pydrake.geometry.optimization.HPolyhedron at 0x7fdd0b1a08b0>,\n",
       "  <pydrake.geometry.optimization_dev.CspaceFreePolytope.SearchResult at 0x7fdd0b1988f0>,\n",
       "  Rgba(r=0.565, g=0.565, b=0.565, a=0.2)),\n",
       " (<pydrake.geometry.optimization.HPolyhedron at 0x7fdd0b1a00b0>,\n",
       "  <pydrake.geometry.optimization_dev.CspaceFreePolytope.SearchResult at 0x7fdd0b1984f0>,\n",
       "  Rgba(r=0.565, g=0.565, b=0.565, a=0.2)),\n",
       " (<pydrake.geometry.optimization.HPolyhedron at 0x7fdd0b1a04b0>,\n",
       "  <pydrake.geometry.optimization_dev.CspaceFreePolytope.SearchResult at 0x7fdd0b198030>,\n",
       "  Rgba(r=0.565, g=0.565, b=0.565, a=0.2)),\n",
       " (<pydrake.geometry.optimization.HPolyhedron at 0x7fdd0b1a0bb0>,\n",
       "  <pydrake.geometry.optimization_dev.CspaceFreePolytope.SearchResult at 0x7fdd0b1981f0>,\n",
       "  Rgba(r=0.565, g=0.565, b=0.565, a=0.2)),\n",
       " (<pydrake.geometry.optimization.HPolyhedron at 0x7fdd0b1a0bf0>,\n",
       "  <pydrake.geometry.optimization_dev.CspaceFreePolytope.SearchResult at 0x7fdd0b198cf0>,\n",
       "  Rgba(r=0.565, g=0.565, b=0.565, a=0.2)),\n",
       " (<pydrake.geometry.optimization.HPolyhedron at 0x7fdd0b1a0c30>,\n",
       "  <pydrake.geometry.optimization_dev.CspaceFreePolytope.SearchResult at 0x7fdd0b198870>,\n",
       "  Rgba(r=0.565, g=0.565, b=0.565, a=0.2)),\n",
       " (<pydrake.geometry.optimization.HPolyhedron at 0x7fdd0b1a0c70>,\n",
       "  <pydrake.geometry.optimization_dev.CspaceFreePolytope.SearchResult at 0x7fdd0b198430>,\n",
       "  Rgba(r=0.565, g=0.565, b=0.565, a=0.2)),\n",
       " (<pydrake.geometry.optimization.HPolyhedron at 0x7fdd0b1a0cb0>,\n",
       "  <pydrake.geometry.optimization_dev.CspaceFreePolytope.SearchResult at 0x7fdd0b198d70>,\n",
       "  Rgba(r=0.565, g=0.565, b=0.565, a=0.2)),\n",
       " (<pydrake.geometry.optimization.HPolyhedron at 0x7fdd0b1a0cf0>,\n",
       "  <pydrake.geometry.optimization_dev.CspaceFreePolytope.SearchResult at 0x7fdd0b1981b0>,\n",
       "  Rgba(r=0.565, g=0.565, b=0.565, a=0.2)),\n",
       " (<pydrake.geometry.optimization.HPolyhedron at 0x7fdd0b1a0d30>,\n",
       "  <pydrake.geometry.optimization_dev.CspaceFreePolytope.SearchResult at 0x7fdd0b198db0>,\n",
       "  Rgba(r=0.565, g=0.565, b=0.565, a=0.2)),\n",
       " (<pydrake.geometry.optimization.HPolyhedron at 0x7fdd0b1a0d70>,\n",
       "  <pydrake.geometry.optimization_dev.CspaceFreePolytope.SearchResult at 0x7fdd0b1989f0>,\n",
       "  Rgba(r=0.565, g=0.565, b=0.565, a=0.2)),\n",
       " (<pydrake.geometry.optimization.HPolyhedron at 0x7fdd0b1a0db0>,\n",
       "  <pydrake.geometry.optimization_dev.CspaceFreePolytope.SearchResult at 0x7fdd0b198c30>,\n",
       "  Rgba(r=0.565, g=0.565, b=0.565, a=0.2)),\n",
       " (<pydrake.geometry.optimization.HPolyhedron at 0x7fdd0b1a0df0>,\n",
       "  <pydrake.geometry.optimization_dev.CspaceFreePolytope.SearchResult at 0x7fdd0b198330>,\n",
       "  Rgba(r=0.565, g=0.565, b=0.565, a=0.2)),\n",
       " (<pydrake.geometry.optimization.HPolyhedron at 0x7fdd0b1a0e30>,\n",
       "  <pydrake.geometry.optimization_dev.CspaceFreePolytope.SearchResult at 0x7fdd0b198070>,\n",
       "  Rgba(r=0.565, g=0.565, b=0.565, a=0.2)),\n",
       " (<pydrake.geometry.optimization.HPolyhedron at 0x7fdd0b1a0e70>,\n",
       "  <pydrake.geometry.optimization_dev.CspaceFreePolytope.SearchResult at 0x7fdd0b198eb0>,\n",
       "  Rgba(r=0.565, g=0.565, b=0.565, a=0.2)),\n",
       " (<pydrake.geometry.optimization.HPolyhedron at 0x7fdd0b1a0eb0>,\n",
       "  <pydrake.geometry.optimization_dev.CspaceFreePolytope.SearchResult at 0x7fdd0b1b2230>,\n",
       "  Rgba(r=0.565, g=0.565, b=0.565, a=0.2)),\n",
       " (<pydrake.geometry.optimization.HPolyhedron at 0x7fdd0b1a0ef0>,\n",
       "  <pydrake.geometry.optimization_dev.CspaceFreePolytope.SearchResult at 0x7fdd0b1b23f0>,\n",
       "  Rgba(r=0.565, g=0.565, b=0.565, a=0.2)),\n",
       " (<pydrake.geometry.optimization.HPolyhedron at 0x7fdd0b1a0f30>,\n",
       "  <pydrake.geometry.optimization_dev.CspaceFreePolytope.SearchResult at 0x7fdd0b1b23b0>,\n",
       "  Rgba(r=0.565, g=0.565, b=0.565, a=0.2)),\n",
       " (<pydrake.geometry.optimization.HPolyhedron at 0x7fdd0b1a0f70>,\n",
       "  <pydrake.geometry.optimization_dev.CspaceFreePolytope.SearchResult at 0x7fdd0b1b2d30>,\n",
       "  Rgba(r=0.565, g=0.565, b=0.565, a=0.2)),\n",
       " (<pydrake.geometry.optimization.HPolyhedron at 0x7fdd0b1a0fb0>,\n",
       "  <pydrake.geometry.optimization_dev.CspaceFreePolytope.SearchResult at 0x7fdd0b1b2470>,\n",
       "  Rgba(r=0.565, g=0.565, b=0.565, a=0.2)),\n",
       " (<pydrake.geometry.optimization.HPolyhedron at 0x7fdd0b1a4030>,\n",
       "  <pydrake.geometry.optimization_dev.CspaceFreePolytope.SearchResult at 0x7fdd0b1b22f0>,\n",
       "  Rgba(r=0.565, g=0.565, b=0.565, a=0.2)),\n",
       " (<pydrake.geometry.optimization.HPolyhedron at 0x7fdd0b1a4070>,\n",
       "  <pydrake.geometry.optimization_dev.CspaceFreePolytope.SearchResult at 0x7fdd0b1b2730>,\n",
       "  Rgba(r=0.565, g=0.565, b=0.565, a=0.2)),\n",
       " (<pydrake.geometry.optimization.HPolyhedron at 0x7fdd0b1a40b0>,\n",
       "  <pydrake.geometry.optimization_dev.CspaceFreePolytope.SearchResult at 0x7fdd0b1b2330>,\n",
       "  Rgba(r=0.565, g=0.565, b=0.565, a=0.2)),\n",
       " (<pydrake.geometry.optimization.HPolyhedron at 0x7fdd0b1a40f0>,\n",
       "  <pydrake.geometry.optimization_dev.CspaceFreePolytope.SearchResult at 0x7fdd0b1b2430>,\n",
       "  Rgba(r=0.565, g=0.565, b=0.565, a=0.2)),\n",
       " (<pydrake.geometry.optimization.HPolyhedron at 0x7fdd0b1a4130>,\n",
       "  <pydrake.geometry.optimization_dev.CspaceFreePolytope.SearchResult at 0x7fdd0b1b2b30>,\n",
       "  Rgba(r=0.565, g=0.565, b=0.565, a=0.2)),\n",
       " (<pydrake.geometry.optimization.HPolyhedron at 0x7fdd0b1a4170>,\n",
       "  <pydrake.geometry.optimization_dev.CspaceFreePolytope.SearchResult at 0x7fdd0b1b2370>,\n",
       "  Rgba(r=0.565, g=0.565, b=0.565, a=0.2)),\n",
       " (<pydrake.geometry.optimization.HPolyhedron at 0x7fdd0b1a41b0>,\n",
       "  <pydrake.geometry.optimization_dev.CspaceFreePolytope.SearchResult at 0x7fdd0b1b2630>,\n",
       "  Rgba(r=0.565, g=0.565, b=0.565, a=0.2)),\n",
       " (<pydrake.geometry.optimization.HPolyhedron at 0x7fdd0b1a41f0>,\n",
       "  <pydrake.geometry.optimization_dev.CspaceFreePolytope.SearchResult at 0x7fdd0b1b2fb0>,\n",
       "  Rgba(r=0.565, g=0.565, b=0.565, a=0.2)),\n",
       " (<pydrake.geometry.optimization.HPolyhedron at 0x7fdd0b1a4230>,\n",
       "  <pydrake.geometry.optimization_dev.CspaceFreePolytope.SearchResult at 0x7fdd0b1b2bf0>,\n",
       "  Rgba(r=0.565, g=0.565, b=0.565, a=0.2)),\n",
       " (<pydrake.geometry.optimization.HPolyhedron at 0x7fdd0b1a4270>,\n",
       "  <pydrake.geometry.optimization_dev.CspaceFreePolytope.SearchResult at 0x7fdd0b1b2e30>,\n",
       "  Rgba(r=0.565, g=0.565, b=0.565, a=0.2)),\n",
       " (<pydrake.geometry.optimization.HPolyhedron at 0x7fdd0b1a42b0>,\n",
       "  <pydrake.geometry.optimization_dev.CspaceFreePolytope.SearchResult at 0x7fdd0b1b2c70>,\n",
       "  Rgba(r=0.565, g=0.565, b=0.565, a=0.2)),\n",
       " (<pydrake.geometry.optimization.HPolyhedron at 0x7fdd0b1a42f0>,\n",
       "  <pydrake.geometry.optimization_dev.CspaceFreePolytope.SearchResult at 0x7fdd0b1b2a70>,\n",
       "  Rgba(r=0.565, g=0.565, b=0.565, a=0.2)),\n",
       " (<pydrake.geometry.optimization.HPolyhedron at 0x7fdd0b1a4330>,\n",
       "  <pydrake.geometry.optimization_dev.CspaceFreePolytope.SearchResult at 0x7fdd0b1b24f0>,\n",
       "  Rgba(r=0.565, g=0.565, b=0.565, a=0.2)),\n",
       " (<pydrake.geometry.optimization.HPolyhedron at 0x7fdd0b1a4370>,\n",
       "  <pydrake.geometry.optimization_dev.CspaceFreePolytope.SearchResult at 0x7fdd0b1b2d70>,\n",
       "  Rgba(r=0.565, g=0.565, b=0.565, a=0.2)),\n",
       " (<pydrake.geometry.optimization.HPolyhedron at 0x7fdd0b1a43b0>,\n",
       "  <pydrake.geometry.optimization_dev.CspaceFreePolytope.SearchResult at 0x7fdd0b1b25b0>,\n",
       "  Rgba(r=0.565, g=0.565, b=0.565, a=0.2)),\n",
       " (<pydrake.geometry.optimization.HPolyhedron at 0x7fdd0b1a43f0>,\n",
       "  <pydrake.geometry.optimization_dev.CspaceFreePolytope.SearchResult at 0x7fdd0b1b2970>,\n",
       "  Rgba(r=0.565, g=0.565, b=0.565, a=0.2)),\n",
       " (<pydrake.geometry.optimization.HPolyhedron at 0x7fdd0b1a4430>,\n",
       "  <pydrake.geometry.optimization_dev.CspaceFreePolytope.SearchResult at 0x7fdd0b1b24b0>,\n",
       "  Rgba(r=0.565, g=0.565, b=0.565, a=0.2)),\n",
       " (<pydrake.geometry.optimization.HPolyhedron at 0x7fdd0b1a4470>,\n",
       "  <pydrake.geometry.optimization_dev.CspaceFreePolytope.SearchResult at 0x7fdd0b1b2f70>,\n",
       "  Rgba(r=0.565, g=0.565, b=0.565, a=0.2)),\n",
       " (<pydrake.geometry.optimization.HPolyhedron at 0x7fdd0b1a44b0>,\n",
       "  <pydrake.geometry.optimization_dev.CspaceFreePolytope.SearchResult at 0x7fdd0b1b2130>,\n",
       "  Rgba(r=0.565, g=0.565, b=0.565, a=0.2)),\n",
       " (<pydrake.geometry.optimization.HPolyhedron at 0x7fdd0b1a44f0>,\n",
       "  <pydrake.geometry.optimization_dev.CspaceFreePolytope.SearchResult at 0x7fdd0b1b2570>,\n",
       "  Rgba(r=0.565, g=0.565, b=0.565, a=0.2)),\n",
       " (<pydrake.geometry.optimization.HPolyhedron at 0x7fdd0b1a4530>,\n",
       "  <pydrake.geometry.optimization_dev.CspaceFreePolytope.SearchResult at 0x7fdd0b1b2db0>,\n",
       "  Rgba(r=0.565, g=0.565, b=0.565, a=0.2)),\n",
       " (<pydrake.geometry.optimization.HPolyhedron at 0x7fdd0b1a4570>,\n",
       "  <pydrake.geometry.optimization_dev.CspaceFreePolytope.SearchResult at 0x7fdd0b1b27f0>,\n",
       "  Rgba(r=0.565, g=0.565, b=0.565, a=0.2)),\n",
       " (<pydrake.geometry.optimization.HPolyhedron at 0x7fdd0b1a45b0>,\n",
       "  <pydrake.geometry.optimization_dev.CspaceFreePolytope.SearchResult at 0x7fdd0b1b2870>,\n",
       "  Rgba(r=0.565, g=0.565, b=0.565, a=0.2)),\n",
       " (<pydrake.geometry.optimization.HPolyhedron at 0x7fdd0b1a45f0>,\n",
       "  <pydrake.geometry.optimization_dev.CspaceFreePolytope.SearchResult at 0x7fdd0b1b29f0>,\n",
       "  Rgba(r=0.565, g=0.565, b=0.565, a=0.2)),\n",
       " (<pydrake.geometry.optimization.HPolyhedron at 0x7fdd0b1a4630>,\n",
       "  <pydrake.geometry.optimization_dev.CspaceFreePolytope.SearchResult at 0x7fdd0b1b2eb0>,\n",
       "  Rgba(r=0.565, g=0.565, b=0.565, a=0.2)),\n",
       " (<pydrake.geometry.optimization.HPolyhedron at 0x7fdd0b1a4670>,\n",
       "  <pydrake.geometry.optimization_dev.CspaceFreePolytope.SearchResult at 0x7fdd0b1b2170>,\n",
       "  Rgba(r=0.565, g=0.565, b=0.565, a=0.2)),\n",
       " (<pydrake.geometry.optimization.HPolyhedron at 0x7fdd0b1a46b0>,\n",
       "  <pydrake.geometry.optimization_dev.CspaceFreePolytope.SearchResult at 0x7fdd0b1b25f0>,\n",
       "  Rgba(r=0.565, g=0.565, b=0.565, a=0.2)),\n",
       " (<pydrake.geometry.optimization.HPolyhedron at 0x7fdd0b1a4730>,\n",
       "  <pydrake.geometry.optimization_dev.CspaceFreePolytope.SearchResult at 0x7fdd0b1b21f0>,\n",
       "  Rgba(r=0.565, g=0.565, b=0.565, a=0.2)),\n",
       " (<pydrake.geometry.optimization.HPolyhedron at 0x7fdd0b1a4770>,\n",
       "  <pydrake.geometry.optimization_dev.CspaceFreePolytope.SearchResult at 0x7fdd0b1b2e70>,\n",
       "  Rgba(r=0.565, g=0.565, b=0.565, a=0.2)),\n",
       " (<pydrake.geometry.optimization.HPolyhedron at 0x7fdd0b1a47b0>,\n",
       "  <pydrake.geometry.optimization_dev.CspaceFreePolytope.SearchResult at 0x7fdd0b1b2530>,\n",
       "  Rgba(r=0.565, g=0.565, b=0.565, a=0.2)),\n",
       " (<pydrake.geometry.optimization.HPolyhedron at 0x7fdd0b1a47f0>,\n",
       "  <pydrake.geometry.optimization_dev.CspaceFreePolytope.SearchResult at 0x7fdd0b1b20f0>,\n",
       "  Rgba(r=0.565, g=0.565, b=0.565, a=0.2)),\n",
       " (<pydrake.geometry.optimization.HPolyhedron at 0x7fdd0b1a4830>,\n",
       "  <pydrake.geometry.optimization_dev.CspaceFreePolytope.SearchResult at 0x7fdd0b25f530>,\n",
       "  Rgba(r=0.565, g=0.565, b=0.565, a=0.2)),\n",
       " (<pydrake.geometry.optimization.HPolyhedron at 0x7fdd0b1a4870>,\n",
       "  <pydrake.geometry.optimization_dev.CspaceFreePolytope.SearchResult at 0x7fdd0b25f7b0>,\n",
       "  Rgba(r=0.565, g=0.565, b=0.565, a=0.2))]"
      ]
     },
     "execution_count": 49,
     "metadata": {},
     "output_type": "execute_result"
    }
   ],
   "source": [
    "list(bilinear_alternation_results_by_seed_point.values())[0]"
   ]
  },
  {
   "cell_type": "markdown",
   "metadata": {},
   "source": [
    "# Growing regions with binary search\n",
    "\n",
    "### While the bilinear alternation scheme has the flexibility to search for fairly flexible polytopes, it can be relatively slow. We can search for larger regions faster by uniformly growing our polytopes using binary search"
   ]
  },
  {
   "cell_type": "code",
   "execution_count": 11,
   "metadata": {},
   "outputs": [
    {
     "name": "stdout",
     "output_type": "stream",
     "text": [
      "starting seedpoint 1/4\n"
     ]
    },
    {
     "name": "stderr",
     "output_type": "stream",
     "text": [
      "INFO:drake:CspaceFreePolytope::BinarySearch(): scale=25.5 is infeasible\n",
      "INFO:drake:CspaceFreePolytope::BinarySearch(): scale=13.25 is infeasible\n",
      "INFO:drake:CspaceFreePolytope::BinarySearch(): scale=7.125 is feasible\n",
      "INFO:drake:CspaceFreePolytope::BinarySearch(): scale=10.1875 is feasible\n",
      "INFO:drake:CspaceFreePolytope::BinarySearch(): scale=11.71875 is infeasible\n",
      "INFO:drake:CspaceFreePolytope::BinarySearch(): scale=10.953125 is feasible\n",
      "INFO:drake:CspaceFreePolytope::BinarySearch(): scale=11.3359375 is infeasible\n",
      "INFO:drake:CspaceFreePolytope::BinarySearch(): scale=11.14453125 is infeasible\n",
      "INFO:drake:CspaceFreePolytope::BinarySearch(): scale=11.048828125 is infeasible\n",
      "INFO:drake:CspaceFreePolytope::BinarySearch(): scale=11.0009765625 is feasible\n",
      "INFO:drake:CspaceFreePolytope::BinarySearch(): scale=11.02490234375 is infeasible\n",
      "INFO:drake:CspaceFreePolytope::BinarySearch(): scale=11.012939453125 is infeasible\n",
      "INFO:drake:CspaceFreePolytope::BinarySearch(): scale=11.0069580078125 is infeasible\n",
      "INFO:drake:CspaceFreePolytope::BinarySearch(): scale=11.00396728515625 is feasible\n",
      "INFO:drake:CspaceFreePolytope::BinarySearch(): scale=11.005462646484375 is infeasible\n",
      "INFO:drake:CspaceFreePolytope::BinarySearch(): scale=11.004714965820312 is infeasible\n"
     ]
    },
    {
     "name": "stdout",
     "output_type": "stream",
     "text": [
      "starting seedpoint 2/4\n"
     ]
    },
    {
     "name": "stderr",
     "output_type": "stream",
     "text": [
      "INFO:drake:CspaceFreePolytope::BinarySearch(): scale=25.5 is infeasible\n",
      "INFO:drake:CspaceFreePolytope::BinarySearch(): scale=13.25 is infeasible\n",
      "INFO:drake:CspaceFreePolytope::BinarySearch(): scale=7.125 is infeasible\n",
      "INFO:drake:CspaceFreePolytope::BinarySearch(): scale=4.0625 is infeasible\n",
      "INFO:drake:CspaceFreePolytope::BinarySearch(): scale=2.53125 is infeasible\n",
      "INFO:drake:CspaceFreePolytope::BinarySearch(): scale=1.765625 is feasible\n",
      "INFO:drake:CspaceFreePolytope::BinarySearch(): scale=2.1484375 is infeasible\n",
      "INFO:drake:CspaceFreePolytope::BinarySearch(): scale=1.95703125 is infeasible\n",
      "INFO:drake:CspaceFreePolytope::BinarySearch(): scale=1.861328125 is infeasible\n",
      "INFO:drake:CspaceFreePolytope::BinarySearch(): scale=1.8134765625 is feasible\n",
      "INFO:drake:CspaceFreePolytope::BinarySearch(): scale=1.83740234375 is infeasible\n",
      "INFO:drake:CspaceFreePolytope::BinarySearch(): scale=1.825439453125 is infeasible\n",
      "INFO:drake:CspaceFreePolytope::BinarySearch(): scale=1.8194580078125 is infeasible\n",
      "INFO:drake:CspaceFreePolytope::BinarySearch(): scale=1.81646728515625 is infeasible\n",
      "INFO:drake:CspaceFreePolytope::BinarySearch(): scale=1.814971923828125 is feasible\n",
      "INFO:drake:CspaceFreePolytope::BinarySearch(): scale=1.8157196044921875 is feasible\n"
     ]
    },
    {
     "name": "stdout",
     "output_type": "stream",
     "text": [
      "starting seedpoint 3/4\n"
     ]
    },
    {
     "name": "stderr",
     "output_type": "stream",
     "text": [
      "INFO:drake:CspaceFreePolytope::BinarySearch(): scale=25.5 is infeasible\n",
      "INFO:drake:CspaceFreePolytope::BinarySearch(): scale=13.25 is feasible\n",
      "INFO:drake:CspaceFreePolytope::BinarySearch(): scale=19.375 is infeasible\n",
      "INFO:drake:CspaceFreePolytope::BinarySearch(): scale=16.3125 is feasible\n",
      "INFO:drake:CspaceFreePolytope::BinarySearch(): scale=17.84375 is infeasible\n",
      "INFO:drake:CspaceFreePolytope::BinarySearch(): scale=17.078125 is infeasible\n",
      "INFO:drake:CspaceFreePolytope::BinarySearch(): scale=16.6953125 is infeasible\n",
      "INFO:drake:CspaceFreePolytope::BinarySearch(): scale=16.50390625 is infeasible\n",
      "INFO:drake:CspaceFreePolytope::BinarySearch(): scale=16.408203125 is infeasible\n",
      "INFO:drake:CspaceFreePolytope::BinarySearch(): scale=16.3603515625 is infeasible\n",
      "INFO:drake:CspaceFreePolytope::BinarySearch(): scale=16.33642578125 is infeasible\n",
      "INFO:drake:CspaceFreePolytope::BinarySearch(): scale=16.324462890625 is infeasible\n",
      "INFO:drake:CspaceFreePolytope::BinarySearch(): scale=16.3184814453125 is infeasible\n",
      "INFO:drake:CspaceFreePolytope::BinarySearch(): scale=16.31549072265625 is feasible\n",
      "INFO:drake:CspaceFreePolytope::BinarySearch(): scale=16.316986083984375 is infeasible\n",
      "INFO:drake:CspaceFreePolytope::BinarySearch(): scale=16.316238403320312 is infeasible\n"
     ]
    },
    {
     "name": "stdout",
     "output_type": "stream",
     "text": [
      "starting seedpoint 4/4\n"
     ]
    },
    {
     "name": "stderr",
     "output_type": "stream",
     "text": [
      "INFO:drake:CspaceFreePolytope::BinarySearch(): scale=25.5 is infeasible\n",
      "INFO:drake:CspaceFreePolytope::BinarySearch(): scale=13.25 is feasible\n",
      "INFO:drake:CspaceFreePolytope::BinarySearch(): scale=19.375 is feasible\n",
      "INFO:drake:CspaceFreePolytope::BinarySearch(): scale=22.4375 is feasible\n",
      "INFO:drake:CspaceFreePolytope::BinarySearch(): scale=23.96875 is feasible\n",
      "INFO:drake:CspaceFreePolytope::BinarySearch(): scale=24.734375 is feasible\n",
      "INFO:drake:CspaceFreePolytope::BinarySearch(): scale=25.1171875 is infeasible\n",
      "INFO:drake:CspaceFreePolytope::BinarySearch(): scale=24.92578125 is infeasible\n",
      "INFO:drake:CspaceFreePolytope::BinarySearch(): scale=24.830078125 is infeasible\n",
      "INFO:drake:CspaceFreePolytope::BinarySearch(): scale=24.7822265625 is infeasible\n",
      "INFO:drake:CspaceFreePolytope::BinarySearch(): scale=24.75830078125 is feasible\n",
      "INFO:drake:CspaceFreePolytope::BinarySearch(): scale=24.770263671875 is feasible\n",
      "INFO:drake:CspaceFreePolytope::BinarySearch(): scale=24.7762451171875 is infeasible\n",
      "INFO:drake:CspaceFreePolytope::BinarySearch(): scale=24.77325439453125 is infeasible\n",
      "INFO:drake:CspaceFreePolytope::BinarySearch(): scale=24.771759033203125 is infeasible\n",
      "INFO:drake:CspaceFreePolytope::BinarySearch(): scale=24.771011352539062 is feasible\n"
     ]
    }
   ],
   "source": [
    "# We grow certified regions around each seedpoint using binary search.\n",
    "binary_search_results_by_seed_point = dict.fromkeys([tuple(s) for s in seed_points])\n",
    "for i, (s, (initial_region, color)) in enumerate(zip(seed_points, initial_regions)):\n",
    "    print(f\"starting seedpoint {i+1}/{len(initial_regions)}\")\n",
    "    time.sleep(0.2)\n",
    "    cert = cspace_free_polytope.BinarySearch(set(),initial_region.A(),\n",
    "                                               initial_region.b(),s,binary_search_options)\n",
    "    binary_search_results_by_seed_point[tuple(s)] = [(polytope_with_joint_limits(cert.C, cert.d), cert, color)]\n",
    "                                                     \n"
   ]
  },
  {
   "cell_type": "code",
   "execution_count": 12,
   "metadata": {},
   "outputs": [],
   "source": [
    "# visualize the regions and corresponding certificates\n",
    "for i, result in enumerate(binary_search_results_by_seed_point.values()):\n",
    "    group_name = f\"/bin_search_seed_point_{i}\"\n",
    "    visualizer.add_group_of_regions_and_certs_to_visualization(result, group_name, \n",
    "                                                               wireframe = False, opacity = 0.2)"
   ]
  },
  {
   "cell_type": "markdown",
   "metadata": {},
   "source": [
    "## Combining Binary Search and Bilinear Alternation\n",
    "### Of course, we can get the best of both worlds by combining the two methods"
   ]
  },
  {
   "cell_type": "code",
   "execution_count": 13,
   "metadata": {},
   "outputs": [],
   "source": [
    "# we use this to back off a bit from the binary search results for numerical reasons\n",
    "def scale_polytope_about_point(hpoly, s, scale):\n",
    "    if not hpoly.PointInSet(s):\n",
    "        raise ValueError(f\"The point s must be in the HPolyhedron\")\n",
    "    b_scaled = scale * hpoly.b() + (1 - scale) * hpoly.A() @ s\n",
    "    return HPolyhedron(hpoly.A(), b_scaled)\n",
    "    "
   ]
  },
  {
   "cell_type": "code",
   "execution_count": 14,
   "metadata": {},
   "outputs": [
    {
     "name": "stdout",
     "output_type": "stream",
     "text": [
      "starting seedpoint 1/4\n"
     ]
    },
    {
     "name": "stderr",
     "output_type": "stream",
     "text": [
      "INFO:drake:det(Q) at the beginning is 0.00569890128581006\n",
      "INFO:drake:Iteration 0: det(Q)=0.00754256198451188\n",
      "INFO:drake:Iteration 1: det(Q)=0.009965538370257942\n",
      "INFO:drake:Iteration 2: det(Q)=0.012493189547045157\n",
      "INFO:drake:Iteration 3: det(Q)=0.01546305843358848\n",
      "INFO:drake:Iteration 4: det(Q)=0.019070818018186556\n",
      "INFO:drake:Iteration 5: det(Q)=0.023739846202219948\n",
      "INFO:drake:Iteration 6: det(Q)=0.028385992625492275\n",
      "INFO:drake:Iteration 7: det(Q)=0.0328233704698433\n",
      "INFO:drake:Iteration 8: det(Q)=0.03680946757326833\n",
      "INFO:drake:Iteration 9: det(Q)=0.039600703317339676\n",
      "INFO:drake:Iteration 10: det(Q)=0.04192563151268203\n",
      "INFO:drake:Iteration 11: det(Q)=0.0439217889952243\n",
      "INFO:drake:Iteration 12: det(Q)=0.0455924441255354\n",
      "INFO:drake:Iteration 13: det(Q)=0.04700079719296696\n",
      "INFO:drake:Iteration 14: det(Q)=0.04817445271796419\n",
      "INFO:drake:Iteration 15: det(Q)=0.049141941198555736\n",
      "INFO:drake:Iteration 16: det(Q)=0.04992692549124149\n",
      "INFO:drake:Iteration 17: det(Q)=0.05055552733295339\n",
      "INFO:drake:Iteration 18: det(Q)=0.05106124779275622\n",
      "INFO:drake:Iteration 19: det(Q)=0.05147422890708427\n",
      "INFO:drake:Iteration 20: det(Q)=0.0518116527541608\n",
      "INFO:drake:Iteration 21: det(Q)=0.052084568248559907\n",
      "INFO:drake:Iteration 22: det(Q)=0.05230003101896317\n",
      "INFO:drake:Iteration 23: det(Q)=0.052472783646878275\n",
      "INFO:drake:Iteration 24: det(Q)=0.0526191803723554\n",
      "INFO:drake:Iteration 25: det(Q)=0.05274575388253742\n",
      "INFO:drake:Iteration 26: det(Q)=0.05285845738843926\n",
      "INFO:drake:Iteration 27: det(Q)=0.05296100822765848\n",
      "INFO:drake:Iteration 28: det(Q)=0.053055889831068244\n",
      "INFO:drake:Iteration 29: det(Q)=0.0531441464152378\n",
      "INFO:drake:Iteration 30: det(Q)=0.05322567333729228\n",
      "INFO:drake:Iteration 31: det(Q)=0.05329983753522258\n",
      "INFO:drake:Iteration 32: det(Q)=0.05336008311237963\n",
      "INFO:drake:Iteration 33: det(Q)=0.053398075176608696\n",
      "INFO:drake:Iteration 34: det(Q)=0.05341208066812347\n",
      "INFO:drake:Iteration 35: det(Q)=0.053461276565153856\n",
      "INFO:drake:Iteration 36: det(Q)=0.053521611979934\n",
      "INFO:drake:Iteration 37: det(Q)=0.053581291221725454\n",
      "INFO:drake:Iteration 38: det(Q)=0.05363889410668926\n",
      "INFO:drake:Iteration 39: det(Q)=0.05369495435820808\n",
      "INFO:drake:Iteration 40: det(Q)=0.053750665604624\n",
      "INFO:drake:Iteration 41: det(Q)=0.05380651902874854\n",
      "INFO:drake:Iteration 42: det(Q)=0.053872616411894884\n",
      "INFO:drake:Iteration 43: det(Q)=0.05394024053733421\n",
      "INFO:drake:Iteration 44: det(Q)=0.05400900427353913\n",
      "INFO:drake:Iteration 45: det(Q)=0.05408275259739665\n",
      "INFO:drake:Iteration 46: det(Q)=0.05415561032757382\n",
      "INFO:drake:Iteration 47: det(Q)=0.05422528490016436\n",
      "INFO:drake:Iteration 48: det(Q)=0.05429507045442971\n",
      "INFO:drake:Iteration 49: det(Q)=0.054361722769967806\n",
      "INFO:drake:Iteration 50: det(Q)=0.05442386405783017\n",
      "INFO:drake:Iteration 51: det(Q)=0.05447588273390835\n",
      "INFO:drake:Iteration 52: det(Q)=0.05452046667133204\n",
      "INFO:drake:Iteration 53: det(Q)=0.05455801092598964\n",
      "INFO:drake:Iteration 54: det(Q)=0.054589022313920814\n",
      "INFO:drake:Iteration 55: det(Q)=0.05461490591325583\n",
      "INFO:drake:Iteration 56: det(Q)=0.05463603949472338\n",
      "INFO:drake:Iteration 57: det(Q)=0.05465346474456581\n",
      "INFO:drake:Iteration 58: det(Q)=0.054665299203825346\n",
      "INFO:drake:Iteration 59: det(Q)=0.05470430008525028\n",
      "INFO:drake:Iteration 60: det(Q)=0.054738834902815774\n",
      "INFO:drake:Iteration 61: det(Q)=0.05477172086908779\n",
      "INFO:drake:Iteration 62: det(Q)=0.054802455199356434\n",
      "INFO:drake:Iteration 63: det(Q)=0.05483068030276404\n",
      "INFO:drake:Iteration 64: det(Q)=0.05485741733282903\n",
      "INFO:drake:Iteration 65: det(Q)=0.05488199389517038\n",
      "INFO:drake:Iteration 66: det(Q)=0.0549053412810143\n",
      "INFO:drake:Iteration 67: det(Q)=0.054927346706784\n",
      "INFO:drake:Iteration 68: det(Q)=0.054948395088078916\n",
      "INFO:drake:Iteration 69: det(Q)=0.05496814252699043\n",
      "INFO:drake:Iteration 70: det(Q)=0.05498675180217713\n",
      "INFO:drake:Iteration 71: det(Q)=0.055004032229682545\n",
      "INFO:drake:Iteration 72: det(Q)=0.055020435772000095\n",
      "INFO:drake:Iteration 73: det(Q)=0.05503601114072144\n",
      "INFO:drake:Iteration 74: det(Q)=0.05505090935378313\n",
      "INFO:drake:Iteration 75: det(Q)=0.05506477247881443\n",
      "INFO:drake:Iteration 76: det(Q)=0.055077991433955545\n",
      "INFO:drake:Iteration 77: det(Q)=0.0550884122090036\n",
      "INFO:drake:Iteration 78: det(Q)=0.055094939498568675\n",
      "INFO:drake:Iteration 79: det(Q)=0.0550988698942405\n",
      "ERROR:drake:Cannot find the separation certificate at iteration 80 given the polytope.\n"
     ]
    },
    {
     "name": "stdout",
     "output_type": "stream",
     "text": [
      "starting seedpoint 2/4\n"
     ]
    },
    {
     "name": "stderr",
     "output_type": "stream",
     "text": [
      "INFO:drake:det(Q) at the beginning is 0.00015516369726714313\n",
      "INFO:drake:Iteration 0: det(Q)=0.00038694282163595235\n",
      "INFO:drake:Iteration 1: det(Q)=0.0007190150467633258\n",
      "INFO:drake:Iteration 2: det(Q)=0.0013787497655209366\n",
      "INFO:drake:Iteration 3: det(Q)=0.003042999074126276\n",
      "INFO:drake:Iteration 4: det(Q)=0.009267637442854377\n",
      "INFO:drake:Iteration 5: det(Q)=0.012129201033342595\n",
      "INFO:drake:Iteration 6: det(Q)=0.014587245079641672\n",
      "INFO:drake:Iteration 7: det(Q)=0.0181730003489196\n",
      "INFO:drake:Iteration 8: det(Q)=0.020890027893586332\n",
      "INFO:drake:Iteration 9: det(Q)=0.02253873331839624\n",
      "INFO:drake:Iteration 10: det(Q)=0.023365308429131797\n",
      "INFO:drake:Iteration 11: det(Q)=0.023769097308052392\n",
      "INFO:drake:Iteration 12: det(Q)=0.024064947989822068\n",
      "INFO:drake:Iteration 13: det(Q)=0.024200296301386714\n",
      "INFO:drake:Iteration 14: det(Q)=0.024259355118227598\n",
      "INFO:drake:Iteration 15: det(Q)=0.02427083220987526\n",
      "INFO:drake:Iteration 16: det(Q)=0.02425897803585759\n"
     ]
    },
    {
     "name": "stdout",
     "output_type": "stream",
     "text": [
      "starting seedpoint 3/4\n"
     ]
    },
    {
     "name": "stderr",
     "output_type": "stream",
     "text": [
      "INFO:drake:det(Q) at the beginning is 0.012528319755106522\n",
      "INFO:drake:Iteration 0: det(Q)=0.016857169144092552\n",
      "INFO:drake:Iteration 1: det(Q)=0.023401862493767328\n",
      "INFO:drake:Iteration 2: det(Q)=0.031147194459443455\n",
      "INFO:drake:Iteration 3: det(Q)=0.03945798756168899\n",
      "INFO:drake:Iteration 4: det(Q)=0.0506246054561291\n",
      "INFO:drake:Iteration 5: det(Q)=0.06416193493323818\n",
      "INFO:drake:Iteration 6: det(Q)=0.08422486717974194\n",
      "INFO:drake:Iteration 7: det(Q)=0.10479760829573571\n",
      "INFO:drake:Iteration 8: det(Q)=0.12383926675078712\n",
      "INFO:drake:Iteration 9: det(Q)=0.13141776226394886\n",
      "INFO:drake:Iteration 10: det(Q)=0.13764628273184054\n",
      "INFO:drake:Iteration 11: det(Q)=0.1424717412410019\n",
      "INFO:drake:Iteration 12: det(Q)=0.14615469160895928\n",
      "INFO:drake:Iteration 13: det(Q)=0.1489776969205038\n",
      "INFO:drake:Iteration 14: det(Q)=0.15116338422343809\n",
      "INFO:drake:Iteration 15: det(Q)=0.15284390824238997\n",
      "INFO:drake:Iteration 16: det(Q)=0.15409118781971035\n",
      "INFO:drake:Iteration 17: det(Q)=0.15495961300154695\n",
      "INFO:drake:Iteration 18: det(Q)=0.15568731192523746\n",
      "INFO:drake:Iteration 19: det(Q)=0.1563390809075061\n",
      "INFO:drake:Iteration 20: det(Q)=0.15693323747459387\n",
      "INFO:drake:Iteration 21: det(Q)=0.15744725351028935\n",
      "INFO:drake:Iteration 22: det(Q)=0.1579073087283044\n",
      "INFO:drake:Iteration 23: det(Q)=0.15833386237190353\n",
      "INFO:drake:Iteration 24: det(Q)=0.15872542823409425\n",
      "INFO:drake:Iteration 25: det(Q)=0.15905186692883802\n",
      "INFO:drake:Iteration 26: det(Q)=0.15928284799517065\n",
      "INFO:drake:Iteration 27: det(Q)=0.15949446662999633\n",
      "INFO:drake:Iteration 28: det(Q)=0.1596620742545352\n",
      "INFO:drake:Iteration 29: det(Q)=0.1598308497802063\n",
      "INFO:drake:Iteration 30: det(Q)=0.15998269908700163\n",
      "INFO:drake:Iteration 31: det(Q)=0.16010443283415846\n",
      "INFO:drake:Iteration 32: det(Q)=0.16026385682166747\n",
      "INFO:drake:Iteration 33: det(Q)=0.16041120179510085\n",
      "INFO:drake:Iteration 34: det(Q)=0.16053854882143032\n",
      "INFO:drake:Iteration 35: det(Q)=0.16065408661199726\n",
      "INFO:drake:Iteration 36: det(Q)=0.16076051994249774\n",
      "INFO:drake:Iteration 37: det(Q)=0.1608597339942258\n",
      "ERROR:drake:Cannot find the separation certificate at iteration 38 given the polytope.\n"
     ]
    },
    {
     "name": "stdout",
     "output_type": "stream",
     "text": [
      "starting seedpoint 4/4\n"
     ]
    },
    {
     "name": "stderr",
     "output_type": "stream",
     "text": [
      "INFO:drake:det(Q) at the beginning is 0.028878858410501265\n",
      "INFO:drake:Iteration 0: det(Q)=0.03750961347247706\n",
      "INFO:drake:Iteration 1: det(Q)=0.05214383533403912\n",
      "INFO:drake:Iteration 2: det(Q)=0.06267935341553389\n",
      "INFO:drake:Iteration 3: det(Q)=0.07455068012303114\n",
      "INFO:drake:Iteration 4: det(Q)=0.08757563305060503\n",
      "INFO:drake:Iteration 5: det(Q)=0.10505287302774778\n",
      "INFO:drake:Iteration 6: det(Q)=0.11928414761366087\n",
      "INFO:drake:Iteration 7: det(Q)=0.127533590126375\n",
      "INFO:drake:Iteration 8: det(Q)=0.13334776259182507\n",
      "INFO:drake:Iteration 9: det(Q)=0.1376009169783101\n",
      "INFO:drake:Iteration 10: det(Q)=0.14082701934787661\n",
      "INFO:drake:Iteration 11: det(Q)=0.14346636661185244\n",
      "INFO:drake:Iteration 12: det(Q)=0.14583155160670536\n",
      "INFO:drake:Iteration 13: det(Q)=0.1479625534641944\n",
      "INFO:drake:Iteration 14: det(Q)=0.14983409708303794\n",
      "INFO:drake:Iteration 15: det(Q)=0.15148812070617299\n",
      "INFO:drake:Iteration 16: det(Q)=0.1529569923707007\n",
      "INFO:drake:Iteration 17: det(Q)=0.1542303677743081\n",
      "INFO:drake:Iteration 18: det(Q)=0.1552482709627753\n",
      "INFO:drake:Iteration 19: det(Q)=0.1560588348765142\n",
      "INFO:drake:Iteration 20: det(Q)=0.15668062202041438\n",
      "INFO:drake:Iteration 21: det(Q)=0.15727422623535547\n",
      "INFO:drake:Iteration 22: det(Q)=0.15784199707610755\n",
      "INFO:drake:Iteration 23: det(Q)=0.15829009094021043\n",
      "INFO:drake:Iteration 24: det(Q)=0.15864739411955953\n",
      "INFO:drake:Iteration 25: det(Q)=0.15894648746598372\n",
      "INFO:drake:Iteration 26: det(Q)=0.15920174229972706\n",
      "INFO:drake:Iteration 27: det(Q)=0.1594198907759473\n",
      "ERROR:drake:Cannot find the separation certificate at iteration 28 given the polytope.\n"
     ]
    }
   ],
   "source": [
    "# Now we grow certified regions around each seedpoint using bilinear alternation \n",
    "# starting from the binary certified regions.\n",
    "\n",
    "binary_and_bilinear_certified_regions = {k: [(r, cert, color)] for k,v in binary_search_results_by_seed_point.items() \n",
    "                                   for (r, cert, color) in v}\n",
    "\n",
    "for i, (s, region_list) in enumerate(binary_and_bilinear_certified_regions.items()):\n",
    "    bin_search_region, cert0, color = region_list[0]\n",
    "    print(f\"starting seedpoint {i+1}/{len(initial_regions)}\")\n",
    "    time.sleep(0.2)\n",
    "    cur_s = np.array(s)\n",
    "    bilinear_alternation_options.find_polytope_options.s_inner_pts = cur_s\n",
    "    \n",
    "    # We back off a little bit from the binary search solution so that we don't encounter numerical issues.\n",
    "    initial_region = scale_polytope_about_point(bin_search_region, cur_s, 0.98)\n",
    "    certificates = cspace_free_polytope.SearchWithBilinearAlternation(set(),\n",
    "                                                                      initial_region.A(),\n",
    "                                                                      initial_region.b(), \n",
    "                                                                      bilinear_alternation_options)\n",
    "    \n",
    "    binary_and_bilinear_certified_regions[s] += [(polytope_with_joint_limits(result.C, result.d), result, color) for result in certificates]"
   ]
  },
  {
   "cell_type": "code",
   "execution_count": 15,
   "metadata": {},
   "outputs": [],
   "source": [
    "# visualize the regions and corresponding certificates\n",
    "for i, result in enumerate(binary_and_bilinear_certified_regions.values()):\n",
    "    group_name = f\"/bin_then_bil_search_seed_point_{i}\"\n",
    "    visualizer.add_group_of_regions_and_certs_to_visualization(result, group_name, \n",
    "                                                               wireframe = False, opacity = 0.2)"
   ]
  },
  {
   "cell_type": "markdown",
   "metadata": {},
   "source": [
    "## Seeding and Certifying with a Stronger Heuristic\n",
    "We have also implemented another, strong heuristic for proposing good initial regions based on non-linear optimization. See Appendix TODO of our paper TODO for details"
   ]
  },
  {
   "cell_type": "code",
   "execution_count": 16,
   "metadata": {},
   "outputs": [],
   "source": [
    "iris_regions = []\n",
    "iris_ellipses = []\n",
    "\n",
    "iris_options = IrisOptions()\n",
    "iris_options.require_sample_point_is_contained = True\n",
    "iris_options.configuration_space_margin = 1e-3\n",
    "iris_options.relative_termination_threshold = 0.001\n",
    "\n",
    "context_for_iris = visualizer.task_space_diagram_context\n",
    "for i, s in enumerate(seed_points):\n",
    "    q = Ratfk.ComputeQValue(s, q_star)\n",
    "    plant.SetPositions(plant.GetMyMutableContextFromRoot(context_for_iris), q)\n",
    "    r = IrisInRationalConfigurationSpace(plant, \n",
    "                                         plant.GetMyContextFromRoot(context_for_iris),\n",
    "                                         q_star, iris_options)\n",
    "    iris_regions.append((r, colors_dict[i]))\n",
    "    iris_ellipses.append(r.MaximumVolumeInscribedEllipsoid())\n",
    "    \n",
    "\n"
   ]
  },
  {
   "cell_type": "code",
   "execution_count": 17,
   "metadata": {},
   "outputs": [],
   "source": [
    "visualizer.add_group_of_regions_to_visualization(iris_regions, \"/uncertified-iris\", \n",
    "                                                            wireframe = False, opacity = 0.2)"
   ]
  },
  {
   "cell_type": "markdown",
   "metadata": {},
   "source": [
    "### These regions tend to be very large, but typically are not completely collision free. We can use the binary search method to find a uniform shrinking of these regions to prove their safety and then again improve them with bilinear alternations."
   ]
  },
  {
   "cell_type": "code",
   "execution_count": 18,
   "metadata": {},
   "outputs": [],
   "source": [
    "binary_search_options_for_iris = CspaceFreePolytope.BinarySearchOptions()\n",
    "binary_search_options_for_iris.scale_max = 1.1 # it is highly unlikely that the regions can grow, but we can try\n",
    "binary_search_options_for_iris.find_lagrangian_options = find_separation_certificate_given_polytope_options\n",
    "binary_search_options_for_iris.max_iter = 50"
   ]
  },
  {
   "cell_type": "code",
   "execution_count": 19,
   "metadata": {
    "scrolled": true
   },
   "outputs": [
    {
     "name": "stdout",
     "output_type": "stream",
     "text": [
      "starting seedpoint 1/4\n"
     ]
    },
    {
     "name": "stderr",
     "output_type": "stream",
     "text": [
      "INFO:drake:CspaceFreePolytope::BinarySearch(): scale=0.555 is feasible\n",
      "INFO:drake:CspaceFreePolytope::BinarySearch(): scale=0.8275000000000001 is feasible\n",
      "INFO:drake:CspaceFreePolytope::BinarySearch(): scale=0.9637500000000001 is feasible\n",
      "INFO:drake:CspaceFreePolytope::BinarySearch(): scale=1.031875 is infeasible\n",
      "INFO:drake:CspaceFreePolytope::BinarySearch(): scale=0.9978125000000001 is feasible\n",
      "INFO:drake:CspaceFreePolytope::BinarySearch(): scale=1.01484375 is infeasible\n",
      "INFO:drake:CspaceFreePolytope::BinarySearch(): scale=1.006328125 is infeasible\n",
      "INFO:drake:CspaceFreePolytope::BinarySearch(): scale=1.0020703125000001 is infeasible\n",
      "INFO:drake:CspaceFreePolytope::BinarySearch(): scale=0.99994140625 is feasible\n",
      "INFO:drake:CspaceFreePolytope::BinarySearch(): scale=1.0010058593750002 is infeasible\n",
      "INFO:drake:CspaceFreePolytope::BinarySearch(): scale=1.0004736328125001 is feasible\n"
     ]
    },
    {
     "name": "stdout",
     "output_type": "stream",
     "text": [
      "starting seedpoint 2/4\n"
     ]
    },
    {
     "name": "stderr",
     "output_type": "stream",
     "text": [
      "INFO:drake:CspaceFreePolytope::BinarySearch(): scale=0.555 is feasible\n",
      "INFO:drake:CspaceFreePolytope::BinarySearch(): scale=0.8275000000000001 is feasible\n",
      "INFO:drake:CspaceFreePolytope::BinarySearch(): scale=0.9637500000000001 is feasible\n",
      "INFO:drake:CspaceFreePolytope::BinarySearch(): scale=1.031875 is infeasible\n",
      "INFO:drake:CspaceFreePolytope::BinarySearch(): scale=0.9978125000000001 is feasible\n",
      "INFO:drake:CspaceFreePolytope::BinarySearch(): scale=1.01484375 is infeasible\n",
      "INFO:drake:CspaceFreePolytope::BinarySearch(): scale=1.006328125 is infeasible\n",
      "INFO:drake:CspaceFreePolytope::BinarySearch(): scale=1.0020703125000001 is infeasible\n",
      "INFO:drake:CspaceFreePolytope::BinarySearch(): scale=0.99994140625 is feasible\n",
      "INFO:drake:CspaceFreePolytope::BinarySearch(): scale=1.0010058593750002 is feasible\n",
      "INFO:drake:CspaceFreePolytope::BinarySearch(): scale=1.0015380859375003 is infeasible\n"
     ]
    },
    {
     "name": "stdout",
     "output_type": "stream",
     "text": [
      "starting seedpoint 3/4\n"
     ]
    },
    {
     "name": "stderr",
     "output_type": "stream",
     "text": [
      "INFO:drake:CspaceFreePolytope::BinarySearch(): scale=0.555 is feasible\n",
      "INFO:drake:CspaceFreePolytope::BinarySearch(): scale=0.8275000000000001 is feasible\n",
      "INFO:drake:CspaceFreePolytope::BinarySearch(): scale=0.9637500000000001 is feasible\n",
      "INFO:drake:CspaceFreePolytope::BinarySearch(): scale=1.031875 is infeasible\n",
      "INFO:drake:CspaceFreePolytope::BinarySearch(): scale=0.9978125000000001 is feasible\n",
      "INFO:drake:CspaceFreePolytope::BinarySearch(): scale=1.01484375 is infeasible\n",
      "INFO:drake:CspaceFreePolytope::BinarySearch(): scale=1.006328125 is infeasible\n",
      "INFO:drake:CspaceFreePolytope::BinarySearch(): scale=1.0020703125000001 is feasible\n",
      "INFO:drake:CspaceFreePolytope::BinarySearch(): scale=1.0041992187500002 is infeasible\n",
      "INFO:drake:CspaceFreePolytope::BinarySearch(): scale=1.003134765625 is infeasible\n",
      "INFO:drake:CspaceFreePolytope::BinarySearch(): scale=1.0026025390625 is infeasible\n"
     ]
    },
    {
     "name": "stdout",
     "output_type": "stream",
     "text": [
      "starting seedpoint 4/4\n"
     ]
    },
    {
     "name": "stderr",
     "output_type": "stream",
     "text": [
      "INFO:drake:CspaceFreePolytope::BinarySearch(): scale=0.555 is feasible\n",
      "INFO:drake:CspaceFreePolytope::BinarySearch(): scale=0.8275000000000001 is feasible\n",
      "INFO:drake:CspaceFreePolytope::BinarySearch(): scale=0.9637500000000001 is feasible\n",
      "INFO:drake:CspaceFreePolytope::BinarySearch(): scale=1.031875 is infeasible\n",
      "INFO:drake:CspaceFreePolytope::BinarySearch(): scale=0.9978125000000001 is feasible\n",
      "INFO:drake:CspaceFreePolytope::BinarySearch(): scale=1.01484375 is infeasible\n",
      "INFO:drake:CspaceFreePolytope::BinarySearch(): scale=1.006328125 is infeasible\n",
      "INFO:drake:CspaceFreePolytope::BinarySearch(): scale=1.0020703125000001 is infeasible\n",
      "INFO:drake:CspaceFreePolytope::BinarySearch(): scale=0.99994140625 is feasible\n",
      "INFO:drake:CspaceFreePolytope::BinarySearch(): scale=1.0010058593750002 is feasible\n",
      "INFO:drake:CspaceFreePolytope::BinarySearch(): scale=1.0015380859375003 is infeasible\n"
     ]
    }
   ],
   "source": [
    "binary_search_region_certificates_for_iris = dict.fromkeys([tuple(s) for s in seed_points])\n",
    "for i, (s, (initial_region, color)) in enumerate(zip(seed_points, iris_regions)):\n",
    "    print(f\"starting seedpoint {i+1}/{len(iris_regions)}\")\n",
    "    time.sleep(0.2)    \n",
    "    cert = cspace_free_polytope.BinarySearch(set(),\n",
    "                                                    initial_region.A(),\n",
    "                                                    initial_region.b(), \n",
    "                                                    initial_region.MaximumVolumeInscribedEllipsoid().center(), \n",
    "                                                    binary_search_options_for_iris)\n",
    "    binary_search_region_certificates_for_iris[tuple(s)] = [(polytope_with_joint_limits(cert.C, cert.d),\n",
    "                                                             cert, color)]"
   ]
  },
  {
   "cell_type": "code",
   "execution_count": 31,
   "metadata": {},
   "outputs": [],
   "source": [
    "for i, result in enumerate(binary_search_region_certificates_for_iris.values()):\n",
    "    group_name = f\"/certified-iris-bin_seed_point_{i}\"\n",
    "    visualizer.add_group_of_regions_and_certs_to_visualization(result, group_name, \n",
    "                                                            wireframe = False, opacity = 0.2)"
   ]
  },
  {
   "cell_type": "code",
   "execution_count": 21,
   "metadata": {},
   "outputs": [
    {
     "name": "stdout",
     "output_type": "stream",
     "text": [
      "starting seedpoint 1/4\n"
     ]
    },
    {
     "name": "stderr",
     "output_type": "stream",
     "text": [
      "INFO:drake:det(Q) at the beginning is 0.04485477206328302\n",
      "INFO:drake:Iteration 0: det(Q)=0.0468526495872986\n",
      "INFO:drake:Iteration 1: det(Q)=0.04845533444437721\n",
      "INFO:drake:Iteration 2: det(Q)=0.049733199025223745\n",
      "INFO:drake:Iteration 3: det(Q)=0.050731345971946534\n",
      "INFO:drake:Iteration 4: det(Q)=0.051578095523934574\n",
      "INFO:drake:Iteration 5: det(Q)=0.052250183901524\n",
      "INFO:drake:Iteration 6: det(Q)=0.05305475984843805\n",
      "INFO:drake:Iteration 7: det(Q)=0.053643727121673646\n",
      "INFO:drake:Iteration 8: det(Q)=0.05408900787513691\n",
      "INFO:drake:Iteration 9: det(Q)=0.05443042268388365\n",
      "INFO:drake:Iteration 10: det(Q)=0.05469635731977336\n",
      "INFO:drake:Iteration 11: det(Q)=0.05490655428139217\n",
      "INFO:drake:Iteration 12: det(Q)=0.05507469212032591\n",
      "INFO:drake:Iteration 13: det(Q)=0.05521049290002021\n",
      "INFO:drake:Iteration 14: det(Q)=0.055318833265388855\n",
      "INFO:drake:Iteration 15: det(Q)=0.055404819506447586\n",
      "INFO:drake:Iteration 16: det(Q)=0.055472791003409294\n",
      "INFO:drake:Iteration 17: det(Q)=0.05552704271512549\n",
      "INFO:drake:Iteration 18: det(Q)=0.055570561029964424\n",
      "INFO:drake:Iteration 19: det(Q)=0.05560520250948663\n",
      "INFO:drake:Iteration 20: det(Q)=0.05563334804210042\n",
      "INFO:drake:Iteration 21: det(Q)=0.05565616088979821\n",
      "INFO:drake:Iteration 22: det(Q)=0.05567469357803406\n",
      "INFO:drake:Iteration 23: det(Q)=0.05568985486903768\n",
      "INFO:drake:Iteration 24: det(Q)=0.05570233132337309\n",
      "INFO:drake:Iteration 25: det(Q)=0.055712609507005594\n",
      "INFO:drake:Iteration 26: det(Q)=0.055721049276527705\n",
      "INFO:drake:Iteration 27: det(Q)=0.05572801059254547\n",
      "INFO:drake:Iteration 28: det(Q)=0.055733756054336926\n",
      "INFO:drake:Iteration 29: det(Q)=0.05573850555648065\n",
      "INFO:drake:Iteration 30: det(Q)=0.05574224799861387\n",
      "INFO:drake:Iteration 31: det(Q)=0.05574545662650552\n",
      "INFO:drake:Iteration 32: det(Q)=0.05574803802379305\n",
      "INFO:drake:Iteration 33: det(Q)=0.0557500905100673\n",
      "INFO:drake:Iteration 34: det(Q)=0.05575180712621316\n",
      "INFO:drake:Iteration 35: det(Q)=0.055753212206094555\n",
      "INFO:drake:Iteration 36: det(Q)=0.055754366361555605\n",
      "INFO:drake:Iteration 37: det(Q)=0.055755323981795585\n",
      "INFO:drake:Iteration 38: det(Q)=0.055756086120366755\n",
      "ERROR:drake:Cannot find the separation certificate at iteration 39 given the polytope.\n"
     ]
    },
    {
     "name": "stdout",
     "output_type": "stream",
     "text": [
      "starting seedpoint 2/4\n"
     ]
    },
    {
     "name": "stderr",
     "output_type": "stream",
     "text": [
      "INFO:drake:det(Q) at the beginning is 0.01894783957781191\n",
      "INFO:drake:Iteration 0: det(Q)=0.021285520592976278\n",
      "INFO:drake:Iteration 1: det(Q)=0.022371398734085873\n",
      "INFO:drake:Iteration 2: det(Q)=0.023036615659689286\n",
      "INFO:drake:Iteration 3: det(Q)=0.023453853265268818\n",
      "INFO:drake:Iteration 4: det(Q)=0.023731386223466742\n",
      "INFO:drake:Iteration 5: det(Q)=0.023923094779487404\n",
      "INFO:drake:Iteration 6: det(Q)=0.024058104832479558\n",
      "INFO:drake:Iteration 7: det(Q)=0.024150691126551584\n",
      "INFO:drake:Iteration 8: det(Q)=0.02421273837842561\n",
      "INFO:drake:Iteration 9: det(Q)=0.024259308036682015\n",
      "INFO:drake:Iteration 10: det(Q)=0.024285870613633454\n",
      "INFO:drake:Iteration 11: det(Q)=0.024306279552964966\n",
      "INFO:drake:Iteration 12: det(Q)=0.024316377376873487\n",
      "INFO:drake:Iteration 13: det(Q)=0.024313842535549197\n"
     ]
    },
    {
     "name": "stdout",
     "output_type": "stream",
     "text": [
      "starting seedpoint 3/4\n"
     ]
    },
    {
     "name": "stderr",
     "output_type": "stream",
     "text": [
      "INFO:drake:det(Q) at the beginning is 0.13312985139860692\n",
      "INFO:drake:Iteration 0: det(Q)=0.1550569667281601\n",
      "INFO:drake:Iteration 1: det(Q)=0.15690507686590005\n",
      "INFO:drake:Iteration 2: det(Q)=0.15807635249841132\n",
      "INFO:drake:Iteration 3: det(Q)=0.158949498101628\n",
      "INFO:drake:Iteration 4: det(Q)=0.15953341651188202\n",
      "INFO:drake:Iteration 5: det(Q)=0.16005308604310461\n",
      "INFO:drake:Iteration 6: det(Q)=0.16052412418989523\n",
      "INFO:drake:Iteration 7: det(Q)=0.1609052139415095\n",
      "INFO:drake:Iteration 8: det(Q)=0.16119150283560812\n",
      "INFO:drake:Iteration 9: det(Q)=0.16140424035262246\n",
      "INFO:drake:Iteration 10: det(Q)=0.1616234967917872\n",
      "INFO:drake:Iteration 11: det(Q)=0.1617791225941173\n",
      "INFO:drake:Iteration 12: det(Q)=0.1618950310657837\n",
      "INFO:drake:Iteration 13: det(Q)=0.1619865005483999\n",
      "INFO:drake:Iteration 14: det(Q)=0.16206031189008754\n",
      "INFO:drake:Iteration 15: det(Q)=0.1621215594980243\n",
      "INFO:drake:Iteration 16: det(Q)=0.16217248578263463\n",
      "INFO:drake:Iteration 17: det(Q)=0.1622139557100185\n",
      "WARNING:drake:Failed before backoff.\n",
      "ERROR:drake:Cannot find the separation certificate at iteration 18 given the Lagrangians.\n"
     ]
    },
    {
     "name": "stdout",
     "output_type": "stream",
     "text": [
      "starting seedpoint 4/4\n"
     ]
    },
    {
     "name": "stderr",
     "output_type": "stream",
     "text": [
      "INFO:drake:det(Q) at the beginning is 0.12885670304239377\n",
      "INFO:drake:Iteration 0: det(Q)=0.14372658105064762\n",
      "INFO:drake:Iteration 1: det(Q)=0.1476455122058243\n",
      "INFO:drake:Iteration 2: det(Q)=0.15022078286347815\n",
      "INFO:drake:Iteration 3: det(Q)=0.15209591914042586\n",
      "INFO:drake:Iteration 4: det(Q)=0.1535829714892516\n",
      "INFO:drake:Iteration 5: det(Q)=0.15480641933944922\n",
      "INFO:drake:Iteration 6: det(Q)=0.15582195273983215\n",
      "INFO:drake:Iteration 7: det(Q)=0.15665483945910486\n",
      "INFO:drake:Iteration 8: det(Q)=0.15733424670964957\n",
      "INFO:drake:Iteration 9: det(Q)=0.15787150132638123\n",
      "INFO:drake:Iteration 10: det(Q)=0.1583207435215288\n",
      "INFO:drake:Iteration 11: det(Q)=0.15868629123963762\n",
      "INFO:drake:Iteration 12: det(Q)=0.15899100819898287\n",
      "INFO:drake:Iteration 13: det(Q)=0.15924535237002319\n",
      "INFO:drake:Iteration 14: det(Q)=0.1594577261487279\n",
      "INFO:drake:Iteration 15: det(Q)=0.15962991707646818\n",
      "INFO:drake:Iteration 16: det(Q)=0.15977024242918705\n",
      "INFO:drake:Iteration 17: det(Q)=0.15988825583593733\n",
      "INFO:drake:Iteration 18: det(Q)=0.15998553804892518\n",
      "INFO:drake:Iteration 19: det(Q)=0.16006589590826104\n",
      "INFO:drake:Iteration 20: det(Q)=0.16013100058829516\n",
      "INFO:drake:Iteration 21: det(Q)=0.1601822617806218\n",
      "INFO:drake:Iteration 22: det(Q)=0.1602206589825932\n",
      "INFO:drake:Iteration 23: det(Q)=0.1602500122480369\n",
      "ERROR:drake:Cannot find the separation certificate at iteration 24 given the polytope.\n"
     ]
    }
   ],
   "source": [
    "# Finally we grow the regions again using bilinear alternations.\n",
    "\n",
    "# Manual copying of binary_search_region_certificates_for_iris to avoid reference semantics\n",
    "bilinear_certified_regions_iris = {k: [(r, cert, color)] for k,v in binary_search_region_certificates_for_iris.items() \n",
    "                                   for (r, cert, color) in v}\n",
    "\n",
    "for i, (s, region_list) in enumerate(bilinear_certified_regions_iris.items()):\n",
    "    bin_search_region, cert0, color = region_list[0]\n",
    "    print(f\"starting seedpoint {i+1}/{len(initial_regions)}\")\n",
    "    time.sleep(0.2)\n",
    "    cur_s = np.array(s)\n",
    "    bilinear_alternation_options.find_polytope_options.s_inner_pts = cur_s\n",
    "    \n",
    "    # We back off a little bit from the binary search solution so that we don't encounter numerical issues.\n",
    "    initial_region = scale_polytope_about_point(bin_search_region, cur_s, 0.90)\n",
    "    certificates = cspace_free_polytope.SearchWithBilinearAlternation(set(),\n",
    "                                                                      initial_region.A(),\n",
    "                                                                      initial_region.b(), \n",
    "                                                                      bilinear_alternation_options)\n",
    "    bilinear_certified_regions_iris[s] += [(polytope_with_joint_limits(result.C, result.d), result, color) for result in certificates]"
   ]
  },
  {
   "cell_type": "code",
   "execution_count": 22,
   "metadata": {},
   "outputs": [],
   "source": [
    "for i, result in enumerate(bilinear_certified_regions_iris.values()):\n",
    "    visualizer.add_group_of_regions_and_certs_to_visualization(result, \"/certified-iris-bil\", \n",
    "                                                            wireframe = False, opacity = 0.2)"
   ]
  },
  {
   "cell_type": "markdown",
   "metadata": {},
   "source": [
    "# Now it is time to play with the visualization! If you open the task space visualizer, we can highlight specific geometries and their separating planes in different regions.\n",
    "## Notice that when regions overlap, we get multiple planes certifying non-collision"
   ]
  },
  {
   "cell_type": "code",
   "execution_count": 23,
   "metadata": {},
   "outputs": [
    {
     "data": {
      "application/vnd.jupyter.widget-view+json": {
       "model_id": "f7fc6b1171a9496eb473bf6262608ced",
       "version_major": 2,
       "version_minor": 0
      },
      "text/plain": [
       "FloatSlider(value=0.0, description='q0', max=1.7, min=-1.7)"
      ]
     },
     "metadata": {},
     "output_type": "display_data"
    },
    {
     "data": {
      "application/vnd.jupyter.widget-view+json": {
       "model_id": "b16f941002824a618ba18ece3b6d5e0b",
       "version_major": 2,
       "version_minor": 0
      },
      "text/plain": [
       "FloatSlider(value=0.0, description='q1', max=1.7, min=-1.7)"
      ]
     },
     "metadata": {},
     "output_type": "display_data"
    }
   ],
   "source": [
    "# This plane certifies that the two tips of the flippers don't intersect\n",
    "visualizer.add_plane_indices_of_interest(118)\n",
    "\n",
    "# re-display the sliders for convenience\n",
    "for slider in sliders:\n",
    "    display(slider)"
   ]
  },
  {
   "cell_type": "code",
   "execution_count": 24,
   "metadata": {},
   "outputs": [],
   "source": [
    "# Uncomment this cell for an interface for choosing good planes of interest\n",
    "# plane_indices = np.arange(0, len(cspace_free_polytope.separating_planes()))\n",
    "# last_plane_index = 0\n",
    "# cur_plane_index = 0\n",
    "# plane_indices_to_geometries = {v: k for k,v in cspace_free_polytope.map_geometries_to_separating_planes().items()}\n",
    "\n",
    "# while True:\n",
    "#     visualizer.meshcat_task_space.Delete(f\"/plane_{last_plane_index}\")\n",
    "#     geom1, geom2 = plane_indices_to_geometries[cur_plane_index]\n",
    "#     color = Rgba(0,0,1,1)\n",
    "    \n",
    "#     prefix = f\"/plane_{cur_plane_index}\"\n",
    "#     visualizer.highlight_geometry_id(geom1, color, prefix+f\"/{geom1}\")\n",
    "#     visualizer.highlight_geometry_id(geom2, color, prefix+f\"/{geom2}\")\n",
    "#     print(f\"current plane index = {cur_plane_index}\")\n",
    "    \n",
    "#     last_plane_index = cur_plane_index\n",
    "#     valid_key_pressed = False\n",
    "#     while not valid_key_pressed:\n",
    "#         key_press = input(\"Enter d to increase plane_count, a to decrease, and e to exit...\")\n",
    "#         if key_press in [\"a\", \"d\", \"e\"]:\n",
    "#             valid_key_pressed = True\n",
    "#     if key_press == \"a\":\n",
    "#         cur_plane_index = max(cur_plane_index - 1, min(plane_indices))\n",
    "#     elif key_press == \"d\":\n",
    "#         cur_plane_index = min(cur_plane_index + 1, max(plane_indices))\n",
    "#     elif key_press == \"e\":\n",
    "#         break\n",
    "#     print()"
   ]
  },
  {
   "cell_type": "code",
   "execution_count": 25,
   "metadata": {},
   "outputs": [],
   "source": [
    "# Uncomment this cell for seeing all the planes associated to a particular geometry id\n",
    "# interesting_geometry = 92\n",
    "# plane_indices = np.arange(0, len(cspace_free_polytope.separating_planes()))\n",
    "# plane_indices_to_geometries = {v: k for k,v in cspace_free_polytope.map_geometries_to_separating_planes().items()}\n",
    "\n",
    "# associated_plane_indices = []\n",
    "# for plane_index, (geom1, geom2) in plane_indices_to_geometries.items():\n",
    "#     if interesting_geometry in (geom1.get_value(), geom2. get_value()):\n",
    "#         associated_plane_indices.append(plane_index)\n",
    "\n",
    "        \n",
    "# last_associated_index_index = 0\n",
    "# cur_associated_index_index = 0\n",
    "\n",
    "# visualizer.clear_plane_indices_of_interest()\n",
    "# while True:\n",
    "#     last_plane_index = associated_plane_indices[last_associated_index_index]\n",
    "#     cur_plane_index = associated_plane_indices[cur_associated_index_index]\n",
    "    \n",
    "#     print(f\"current plane index = {cur_plane_index}\")\n",
    "    \n",
    "#     visualizer.remove_plane_indices_of_interest(last_plane_index)\n",
    "#     visualizer.add_plane_indices_of_interest(cur_plane_index)\n",
    "    \n",
    "#     cur_q = visualizer.plant.GetPositions(visualizer.plant_context)\n",
    "#     visualizer.show_res_q(cur_q)\n",
    "    \n",
    "#     last_associated_index_index = cur_associated_index_index\n",
    "#     valid_key_pressed = False\n",
    "#     while not valid_key_pressed:\n",
    "#         key_press = input(\"Enter d to increase plane_count, a to decrease, and e to exit...\")\n",
    "#         if key_press in [\"a\", \"d\", \"e\"]:\n",
    "#             valid_key_pressed = True\n",
    "#     if key_press == \"a\":\n",
    "#         cur_associated_index_index = max(cur_associated_index_index - 1, min(associated_plane_indices))\n",
    "#     elif key_press == \"d\":\n",
    "#         cur_associated_index_index = min(cur_associated_index_index + 1, max(associated_plane_indices))\n",
    "#     elif key_press == \"e\":\n",
    "#         break\n",
    "#     print()"
   ]
  },
  {
   "cell_type": "code",
   "execution_count": 29,
   "metadata": {},
   "outputs": [],
   "source": [
    "visualizer.meshcat_task_space.Delete(\"/certified-iris-bil\")\n",
    "for i in range(seed_points.shape[0]):\n",
    "    visualizer.meshcat_task_space.Delete(f\"/bil_alt_seed_point_{i}\")\n",
    "    visualizer.meshcat_task_space.Delete(f\"/bin_search_seed_point_{i}\")\n",
    "    visualizer.meshcat_task_space.Delete(f\"/bin_then_bil_search_seed_point_{i}\")"
   ]
  },
  {
   "cell_type": "code",
   "execution_count": 38,
   "metadata": {},
   "outputs": [
    {
     "data": {
      "application/vnd.jupyter.widget-view+json": {
       "model_id": "f7fc6b1171a9496eb473bf6262608ced",
       "version_major": 2,
       "version_minor": 0
      },
      "text/plain": [
       "FloatSlider(value=0.7, description='q0', max=1.7, min=-1.7)"
      ]
     },
     "metadata": {},
     "output_type": "display_data"
    },
    {
     "data": {
      "application/vnd.jupyter.widget-view+json": {
       "model_id": "b16f941002824a618ba18ece3b6d5e0b",
       "version_major": 2,
       "version_minor": 0
      },
      "text/plain": [
       "FloatSlider(value=-1.2, description='q1', max=1.7, min=-1.7)"
      ]
     },
     "metadata": {},
     "output_type": "display_data"
    }
   ],
   "source": [
    "# This plane certifies that the two tips of the flippers don't intersect\n",
    "visualizer.add_plane_indices_of_interest(118)\n",
    "\n",
    "# re-display the sliders for convenience\n",
    "for slider in sliders:\n",
    "    display(slider)"
   ]
  },
  {
   "cell_type": "code",
   "execution_count": 39,
   "metadata": {},
   "outputs": [],
   "source": [
    "cur_q = visualizer.plant.GetPositions(visualizer.plant_context)\n",
    "cur_s = Ratfk.ComputeSValue(cur_q, q_star)\n",
    "visualizer.plot_cspace_points(cur_s, name='/s', color=Rgba(0.24, 1, 0, 1), radius=0.03)"
   ]
  }
 ],
 "metadata": {
  "interpreter": {
   "hash": "31f2aee4e71d21fbe5cf8b01ff0e069b9275f58929596ceb00d14d90e3e16cd6"
  },
  "kernelspec": {
   "display_name": "Python 3",
   "language": "python",
   "name": "python3"
  },
  "language_info": {
   "codemirror_mode": {
    "name": "ipython",
    "version": 3
   },
   "file_extension": ".py",
   "mimetype": "text/x-python",
   "name": "python",
   "nbconvert_exporter": "python",
   "pygments_lexer": "ipython3",
   "version": "3.8.10"
  }
 },
 "nbformat": 4,
 "nbformat_minor": 2
}
