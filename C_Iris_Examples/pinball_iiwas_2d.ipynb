{
 "cells": [
  {
   "cell_type": "code",
   "execution_count": 1,
   "metadata": {},
   "outputs": [],
   "source": [
    "%load_ext autoreload"
   ]
  },
  {
   "cell_type": "code",
   "execution_count": 2,
   "metadata": {},
   "outputs": [],
   "source": [
    "import numpy as np\n",
    "from functools import partial\n",
    "import visualizations_utils as viz_utils\n",
    "from iris_plant_visualizer2 import IrisPlantVisualizer\n",
    "import ipywidgets as widgets\n",
    "from IPython.display import display\n",
    "from scipy.linalg import block_diag\n",
    "import matplotlib.pyplot as plt\n",
    "import cdd"
   ]
  },
  {
   "cell_type": "code",
   "execution_count": 3,
   "metadata": {},
   "outputs": [],
   "source": [
    "#pydrake imports\n",
    "from pydrake.common import FindResourceOrThrow\n",
    "from pydrake.multibody.parsing import Parser\n",
    "from pydrake.multibody.plant import AddMultibodyPlantSceneGraph\n",
    "from pydrake.systems.framework import DiagramBuilder\n",
    "from pydrake.geometry import Role, GeometrySet, CollisionFilterDeclaration\n",
    "from pydrake.solvers import mathematicalprogram as mp\n",
    "from pydrake.all import RigidTransform, RollPitchYaw, RevoluteJoint\n",
    "from pydrake.all import RotationMatrix\n",
    "import time\n",
    "import pydrake.multibody.rational_forward_kinematics as rational_forward_kinematics\n",
    "from pydrake.all import RationalForwardKinematics\n",
    "from pydrake.geometry.optimization import IrisOptionsRationalSpace, IrisInRationalConfigurationSpace, HPolyhedron, Hyperellipsoid"
   ]
  },
  {
   "cell_type": "markdown",
   "metadata": {},
   "source": [
    "# Build and set up the visualization the plant and the visualization of the C-space obstacle\n",
    "\n",
    "Note that running this cell multiple times will establish multiple meshcat instances which can fill up your memory. It is a good idea to call \"pkill -f meshcat\" from the command line before re-running this cell\n"
   ]
  },
  {
   "cell_type": "code",
   "execution_count": 4,
   "metadata": {},
   "outputs": [
    {
     "name": "stderr",
     "output_type": "stream",
     "text": [
      "INFO:drake:Meshcat listening for connections at http://localhost:7000\n",
      "INFO:drake:Meshcat listening for connections at http://localhost:7001\n"
     ]
    }
   ],
   "source": [
    "builder = DiagramBuilder()\n",
    "plant, scene_graph = AddMultibodyPlantSceneGraph(builder, time_step=0.001)\n",
    "parser = Parser(plant)\n",
    "oneDOF_iiwa_asset = FindResourceOrThrow(\"drake/C_Iris_Examples/assets/oneDOF_iiwa7_with_box_collision.sdf\")\n",
    "\n",
    "box_asset = FindResourceOrThrow(\"drake/C_Iris_Examples/assets/box_small.urdf\")\n",
    "\n",
    "models = []\n",
    "models.append(parser.AddModelFromFile(box_asset))\n",
    "models.append(parser.AddModelFromFile(oneDOF_iiwa_asset, 'right_sweeper'))\n",
    "models.append(parser.AddModelFromFile(oneDOF_iiwa_asset, 'left_sweeper'))\n",
    "\n",
    "\n",
    "\n",
    "\n",
    "locs = [[0.,0.,0.],\n",
    "        [0,1,0.85],\n",
    "        [0,-1,0.55]]\n",
    "plant.WeldFrames(plant.world_frame(), \n",
    "                 plant.GetFrameByName(\"base\", models[0]),\n",
    "                 RigidTransform(locs[0]))\n",
    "\n",
    "t1 = RigidTransform(RollPitchYaw([np.pi/2, 0, 0]).ToRotationMatrix(), locs[1])@RigidTransform(RollPitchYaw([0, 0, np.pi/2]), np.zeros(3))\n",
    "t2 = RigidTransform(RollPitchYaw([-np.pi/2, 0, 0]).ToRotationMatrix(), locs[2])@RigidTransform(RollPitchYaw([0, 0, np.pi/2]), np.zeros(3))\n",
    "plant.WeldFrames(plant.world_frame(), \n",
    "                 plant.GetFrameByName(\"iiwa_oneDOF_link_0\", models[1]), \n",
    "                 t1)\n",
    "plant.WeldFrames(plant.world_frame(), \n",
    "                 plant.GetFrameByName(\"iiwa_oneDOF_link_0\", models[2]), \n",
    "                 t2)\n",
    "\n",
    "\n",
    "plant.Finalize()\n",
    "\n",
    "idx = 0\n",
    "q0 = [0.0, 0.0]\n",
    "# q_low  = [-1.7, -1.7, 0]\n",
    "# q_high = [1.7, 1.7,  0]\n",
    "eps = 0# 1e-3\n",
    "val = 1.7\n",
    "q_low  = [-val+eps, -val+eps, 0]\n",
    "q_high = [val-eps, val-eps,  0]\n",
    "# set the joint limits of the plant\n",
    "for model in models:\n",
    "    for joint_index in plant.GetJointIndices(model):\n",
    "        joint = plant.get_mutable_joint(joint_index)\n",
    "        if isinstance(joint, RevoluteJoint):\n",
    "            joint.set_default_angle(q0[idx])\n",
    "            joint.set_position_limits(lower_limits= np.array([q_low[idx]]), upper_limits= np.array([q_high[idx]]))\n",
    "            idx += 1\n",
    "        \n",
    "# construct the RationalForwardKinematics of this plant. This object handles the\n",
    "# computations for the forward kinematics in the tangent-configuration space\n",
    "Ratfk = RationalForwardKinematics(plant)\n",
    "\n",
    "# the point about which we will take the stereographic projections\n",
    "q_star = np.zeros(3)\n",
    "\n",
    "#compute limits in t-space\n",
    "limits_t = []\n",
    "for q in [q_low, q_high]:\n",
    "    limits_t.append(Ratfk.ComputeTValue(np.array(q), q_star)[:2])\n",
    "\n",
    "do_viz = True\n",
    "\n",
    "# This line builds the visualization. Change the viz_role to Role.kIllustration if you\n",
    "# want to see the plant with its illustrated geometry or to Role.kProximity\n",
    "visualizer = IrisPlantVisualizer(plant, builder, scene_graph, viz_role=Role.kIllustration)\n",
    "diagram = visualizer.diagram\n",
    "\n",
    "# This line will run marching cubes to generate a mesh of the C-space obstacle\n",
    "# Increase N to increase the resolution of the C-space obstacle.\n"
   ]
  },
  {
   "cell_type": "code",
   "execution_count": 5,
   "metadata": {},
   "outputs": [
    {
     "data": {
      "text/plain": [
       "array([[0., 0., 0., ..., 0., 0., 0.],\n",
       "       [0., 0., 0., ..., 0., 0., 0.],\n",
       "       [0., 0., 0., ..., 0., 0., 0.],\n",
       "       ...,\n",
       "       [0., 0., 0., ..., 0., 0., 0.],\n",
       "       [0., 0., 0., ..., 0., 0., 0.],\n",
       "       [0., 0., 0., ..., 0., 0., 0.]])"
      ]
     },
     "execution_count": 5,
     "metadata": {},
     "output_type": "execute_result"
    }
   ],
   "source": [
    "visualizer.visualize_collision_constraint2d(factor = 1.2, num_points = 100)"
   ]
  },
  {
   "cell_type": "code",
   "execution_count": 6,
   "metadata": {},
   "outputs": [],
   "source": [
    "visualizer.meshcat2.Set2dRenderMode(RigidTransform(RotationMatrix.MakeZRotation(0), np.array([0,0,1])))\n"
   ]
  },
  {
   "cell_type": "markdown",
   "metadata": {},
   "source": [
    "## Set up the sliders so we can move the plant around manually"
   ]
  },
  {
   "cell_type": "code",
   "execution_count": 7,
   "metadata": {
    "scrolled": false
   },
   "outputs": [
    {
     "name": "stderr",
     "output_type": "stream",
     "text": [
      "Widget Javascript not detected.  It may not be installed or enabled properly.\n"
     ]
    },
    {
     "data": {
      "application/vnd.jupyter.widget-view+json": {
       "model_id": "de24555dd5614f58990bc95805e353c8"
      }
     },
     "metadata": {},
     "output_type": "display_data"
    },
    {
     "name": "stderr",
     "output_type": "stream",
     "text": [
      "Widget Javascript not detected.  It may not be installed or enabled properly.\n"
     ]
    },
    {
     "data": {
      "application/vnd.jupyter.widget-view+json": {
       "model_id": "d94807cc88c6449289517f76c2105958"
      }
     },
     "metadata": {},
     "output_type": "display_data"
    }
   ],
   "source": [
    "sliders = []\n",
    "sliders.append(widgets.FloatSlider(min=q_low[0], max=q_high[0], value=0, description='q0'))\n",
    "sliders.append(widgets.FloatSlider(min=q_low[1], max=q_high[1], value=0, description='q1'))\n",
    "# sliders.append(widgets.FloatSlider(min=q_low[2], max=q_high[2], value=0, description='q2'))\n",
    "\n",
    "q = q0.copy()\n",
    "def handle_slider_change(change, idx):\n",
    "    q[idx] = change['new']\n",
    "    #print(q, end=\"\\r\")\n",
    "    visualizer.showres(q)\n",
    "    visualizer.visualize_planes()\n",
    "    \n",
    "idx = 0\n",
    "for slider in sliders:\n",
    "    slider.observe(partial(handle_slider_change, idx = idx), names='value')\n",
    "    idx+=1\n",
    "\n",
    "for slider in sliders:\n",
    "    display(slider)\n",
    "\n",
    "\n",
    "# visualizer.jupyter_cell()"
   ]
  },
  {
   "cell_type": "code",
   "execution_count": 8,
   "metadata": {
    "scrolled": true
   },
   "outputs": [],
   "source": [
    "# filter fused joints self collisions so they don't interfere with collision engine\n",
    "digaram = visualizer.diagram\n",
    "context = visualizer.diagram_context\n",
    "sg_context = scene_graph.GetMyContextFromRoot(context)\n",
    "inspector = scene_graph.model_inspector()\n",
    "\n",
    "pairs = scene_graph.get_query_output_port().Eval(sg_context).inspector().GetCollisionCandidates()\n",
    "\n",
    "gids = [gid for gid in inspector.GetGeometryIds(GeometrySet(inspector.GetAllGeometryIds()), Role.kProximity)]\n",
    "get_name_of_gid = lambda gid : inspector.GetName(gid)\n",
    "gids.sort(key=get_name_of_gid)\n",
    "right_sweeper_gids = [gid for gid in gids if \"right_sweeper::\" in get_name_of_gid(gid)]\n",
    "left_sweeper_gids = [gid for gid in gids if \"left_sweeper::\" in get_name_of_gid(gid)]\n",
    "\n",
    "right_sweeper_fused_col_geom = right_sweeper_gids[2:]\n",
    "right_sweeper_fused_set = GeometrySet(right_sweeper_fused_col_geom)\n",
    "left_sweeper_fused_col_geom = left_sweeper_gids[4:]\n",
    "left_sweeper_fused_set = GeometrySet(left_sweeper_fused_col_geom)\n",
    "scene_graph.collision_filter_manager()\\\n",
    "            .Apply(CollisionFilterDeclaration().ExcludeWithin(right_sweeper_fused_set))\n",
    "scene_graph.collision_filter_manager()\\\n",
    "            .Apply(CollisionFilterDeclaration().ExcludeWithin(left_sweeper_fused_set))\n",
    "\n",
    "right_sweeper_end_gid = right_sweeper_gids[-1]\n",
    "left_sweeper_end_gid = left_sweeper_gids[-1]\n",
    "id_pairs_of_interest = [(right_sweeper_end_gid, left_sweeper_end_gid),\n",
    "                       ]\n",
    "visualizer.collision_pairs_of_interest = id_pairs_of_interest\n"
   ]
  },
  {
   "cell_type": "markdown",
   "metadata": {},
   "source": [
    "# Setup IRIS Options and Generate Regions"
   ]
  },
  {
   "cell_type": "code",
   "execution_count": 9,
   "metadata": {},
   "outputs": [],
   "source": [
    "# Some examples of some seed points which give large regions using the\n",
    "# non-linear programming approach to IRIS described in Algorithm 3\n",
    "seed_points_q = np.array([   [0.0, 0],\n",
    "                              [0.7, -0.9],\n",
    "                              [-0.5, -0.5],\n",
    "                              [0.4,-1.3]\n",
    "                              ])\n",
    "seed_points = np.array([Ratfk.ComputeTValue(seed_points_q[idx], np.zeros((2,)))\\\n",
    "                        for idx in range(seed_points_q.shape[0])])\n",
    "if do_viz:\n",
    "    visualizer.plot_seedpoints(seed_points)\n"
   ]
  },
  {
   "cell_type": "code",
   "execution_count": 10,
   "metadata": {},
   "outputs": [],
   "source": [
    "regions = []\n",
    "ellipses = []\n",
    "\n",
    "iris_options = IrisOptionsRationalSpace()\n",
    "iris_options.require_sample_point_is_contained = True\n",
    "iris_options.iteration_limit = 20\n",
    "iris_options.configuration_space_margin = 1e-5\n",
    "iris_options.max_faces_per_collision_pair = 60\n",
    "iris_options.termination_threshold = -1\n",
    "iris_options.q_star = np.zeros(2)\n",
    "iris_options.relative_termination_threshold = 0.05\n",
    "iris_options.enable_ibex = False\n",
    "\n",
    "def promote_region_to_3d(region, width = 0.2):\n",
    "    A = block_diag(region.A(), np.array([-1,1])[:, np.newaxis])\n",
    "    b = np.append(region.b(), width*np.ones(2))\n",
    "\n",
    "    return HPolyhedron(A,b)\n",
    "    \n",
    "regions_3d = []\n",
    "\n",
    "for i, s in enumerate(seed_points):\n",
    "    q = Ratfk.ComputeQValue(s, np.zeros((2,)))\n",
    "    plant.SetPositions(plant.GetMyMutableContextFromRoot(context), q)\n",
    "    r = IrisInRationalConfigurationSpace(plant, plant.GetMyContextFromRoot(context), iris_options)\n",
    "    regions.append(r)\n",
    "    regions_3d.append(promote_region_to_3d(r))\n",
    "    ellipses.append(r.MaximumVolumeInscribedEllipsoid())\n",
    "    \n",
    "# chosen for colorblind compatability\n",
    "colors_dict = {\n",
    "    0: (144,144,144),\n",
    "    1:(30,136,229), # bluish\n",
    "    2: (255, 193, 7), # gold\n",
    "    3: (0, 140, 6), # green\n",
    "    \n",
    "    \n",
    "}\n",
    "if do_viz:\n",
    "    visualizer.plot_regions(regions,\n",
    "                            ellipses=ellipses,\n",
    "                            region_suffix='_original',\n",
    "                            colors = list(colors_dict.values()),\n",
    "                            wireframe = False,\n",
    "                           opacity = 0.2)"
   ]
  },
  {
   "cell_type": "markdown",
   "metadata": {},
   "source": [
    "# Certify regions"
   ]
  },
  {
   "cell_type": "code",
   "execution_count": 11,
   "metadata": {},
   "outputs": [],
   "source": [
    "cspace_free_region_certifier = rational_forward_kinematics.CspaceFreeRegion(diagram, plant, scene_graph,\n",
    "                                   rational_forward_kinematics.SeparatingPlaneOrder.kAffine,\n",
    "                                   rational_forward_kinematics.CspaceRegionType.kGenericPolytope)\n",
    "filtered_collision_pairs = set()\n",
    "solver_options = mp.SolverOptions()\n",
    "# make the solver verbose\n",
    "solver_options.SetOption(mp.CommonSolverOption.kPrintToConsole, 0)"
   ]
  },
  {
   "cell_type": "markdown",
   "metadata": {},
   "source": [
    "## first search for a minimal, uniform contraction of a proposed region which can be certified"
   ]
  },
  {
   "cell_type": "code",
   "execution_count": 12,
   "metadata": {},
   "outputs": [],
   "source": [
    "# i = 0\n",
    "# bisect_regions = []\n",
    "# bisect_solutions = []\n",
    "# for i in range(len(regions)):\n",
    "#     print(i)\n",
    "#     region_to_certify = regions[i]\n",
    "#     seed_point = seed_points[i,:]\n",
    "\n",
    "\n",
    "#     binary_search_options = rational_forward_kinematics.BinarySearchOption()\n",
    "#     binary_search_options.epsilon_max = 0 # it is very unlikely that we can find a uniform expansion of the current region\n",
    "#     binary_search_options.max_iters = 15\n",
    "#     # speed up the bisection search by taking non-uniform steps when possible\n",
    "#     binary_search_options.search_d = True\n",
    "#     # find the smallest e such that At <= b + e1 still contains our seed point.\n",
    "#     binary_search_options.epsilon_min = rational_forward_kinematics.FindEpsilonLower(region_to_certify.A(),\n",
    "#                                                                                      region_to_certify.b(),\n",
    "#                                                                                      limits_t[0], limits_t[1],\n",
    "#                                                                                      seed_point)\n",
    "#     #use as many threads as possible to speed up computation\n",
    "# #     binary_search_options.num_threads = 1\n",
    "\n",
    "#     certified_region_contraction_solution = cspace_free_region_certifier.CspacePolytopeBinarySearch(\n",
    "#                                                                      q_star[:2],\n",
    "#                                                                      filtered_collision_pairs,\n",
    "#                                                                      region_to_certify.A(),\n",
    "#                                                                      region_to_certify.b(),\n",
    "#                                                                      binary_search_options, \n",
    "#                                                                      solver_options,\n",
    "#                                                                      seed_point)\n",
    "#     bisect_solutions.append(certified_region_contraction_solution)\n",
    "#     certified_region_contraction = HPolyhedron(certified_region_contraction_solution.C,\n",
    "#                                                certified_region_contraction_solution.d)\n",
    "    \n",
    "#     bisect_regions.append(promote_region_to_3d(certified_region_contraction))\n",
    "# if do_viz:\n",
    "#     visualizer.plot_regions(bisect_regions, ellipses=None,\n",
    "#                             region_suffix='_certified_region_contraction',\n",
    "#                             randomize_colors = True,\n",
    "#                             wireframe = False)"
   ]
  },
  {
   "cell_type": "code",
   "execution_count": 13,
   "metadata": {},
   "outputs": [],
   "source": [
    "\n",
    "\n",
    "            \n",
    "# visualizer.certified_region_solution_list = bisect_solutions"
   ]
  },
  {
   "cell_type": "code",
   "execution_count": 14,
   "metadata": {},
   "outputs": [],
   "source": [
    "import cdd\n",
    "def regular_n_gon(n, center = np.zeros(2)):\n",
    "    assert n > 2, \"need n to be more than 2\"\n",
    "    verts = np.zeros((n,2))\n",
    "    for i in range(n):\n",
    "        verts[i] = np.array([np.cos(i*2*np.pi/n), np.sin(i* 2*np.pi/n)])\n",
    "    return verts + center\n",
    "\n",
    "def regular_n_gon_drake(n, center = np.zeros(2)):\n",
    "    verts = regular_n_gon(n, center)\n",
    "    verts_cdd = np.hstack([np.ones((verts.shape[0],1)), verts])\n",
    "    cdd_mat = cdd.Matrix(verts_cdd, number_type = 'float')\n",
    "    cdd_mat.rep_type = cdd.RepType.GENERATOR\n",
    "    p = cdd.Polyhedron(cdd_mat)\n",
    "    hrep = p.get_inequalities()\n",
    "    A = np.zeros((hrep.row_size, 2))\n",
    "    b = np.zeros(hrep.row_size)\n",
    "    for i in range(hrep.row_size):\n",
    "        A[i] = -np.array(hrep[i][1:])\n",
    "        norm = np.linalg.norm(A[i])\n",
    "        A[i] = A[i]/norm\n",
    "        b[i] = hrep[i][0]/norm\n",
    "    return HPolyhedron(A,b)\n",
    "\n",
    "def perturbed_regular_n_gon_drake(n, center = np.zeros(2)):\n",
    "    n_gon = regular_n_gon_drake(n, center)\n",
    "    A = n_gon.A() + 1e-3*np.random.randn(*(n_gon.A().shape))\n",
    "    norms = np.linalg.norm(A, ord=2, axis=1, keepdims=True)\n",
    "    A = A/norms\n",
    "    b = n_gon.b()/norms.flatten()\n",
    "    return HPolyhedron(A,b)\n",
    "    \n",
    "\n",
    "tri = regular_n_gon_drake(5)\n",
    "# verts = regular_n_gon(5)\n",
    "# print(verts.shape)\n",
    "# verts_cdd = np.hstack([np.ones((verts.shape[0],1)), verts])"
   ]
  },
  {
   "cell_type": "code",
   "execution_count": null,
   "metadata": {},
   "outputs": [
    {
     "name": "stderr",
     "output_type": "stream",
     "text": [
      "INFO:drake:Found Lagrangian multiplier and separating planes\n",
      "INFO:drake:Lagrangian step time 8.282 s\n",
      "INFO:drake:max(power(det(P), 1/2))=1.671814506217565e-08, solver_time 0.009887933731079102\n",
      "INFO:drake:cost improvement inf\n",
      "INFO:drake:Iter: 0, polytope step cost -0.042948902897260985, solver time 0.17345499992370605\n",
      "INFO:drake:Found Lagrangian multiplier and separating planes\n",
      "INFO:drake:Lagrangian step time 8.295 s\n",
      "INFO:drake:max(power(det(P), 1/2))=0.008274764463528896, solver_time 0.009496212005615234\n",
      "INFO:drake:cost improvement 0.008274747745383833\n",
      "INFO:drake:Iter: 1, polytope step cost -0.04413942697056204, solver time 0.12990784645080566\n",
      "INFO:drake:max(power(det(P), 1/2))=0.01733207991743, solver_time 0.002897977828979492\n",
      "INFO:drake:Found Lagrangian multiplier and separating planes\n",
      "INFO:drake:Lagrangian step time 8.027 s\n",
      "INFO:drake:max(power(det(P), 1/2))=0.017332079917327537, solver_time 0.007016897201538086\n",
      "INFO:drake:cost improvement inf\n",
      "INFO:drake:Iter: 0, polytope step cost -0.04545475787060255, solver time 0.15103983879089355\n",
      "INFO:drake:Found Lagrangian multiplier and separating planes\n",
      "INFO:drake:Lagrangian step time 8.326 s\n",
      "INFO:drake:max(power(det(P), 1/2))=0.026687670214973896, solver_time 0.023569822311401367\n",
      "INFO:drake:cost improvement 0.00935559029764636\n",
      "INFO:drake:Iter: 1, polytope step cost -0.04602802295035588, solver time 0.14497613906860352\n",
      "INFO:drake:max(power(det(P), 1/2))=0.03603337604277153, solver_time 0.0029180049896240234\n",
      "INFO:drake:Found Lagrangian multiplier and separating planes\n",
      "INFO:drake:Lagrangian step time 8.155 s\n",
      "INFO:drake:max(power(det(P), 1/2))=0.036033376042425166, solver_time 0.002741098403930664\n",
      "INFO:drake:cost improvement inf\n",
      "INFO:drake:Iter: 0, polytope step cost -0.04635491240356522, solver time 0.18260407447814941\n",
      "INFO:drake:Found Lagrangian multiplier and separating planes\n",
      "INFO:drake:Lagrangian step time 7.885 s\n",
      "INFO:drake:max(power(det(P), 1/2))=0.045418289666924405, solver_time 0.01029205322265625\n",
      "INFO:drake:cost improvement 0.009384913624499239\n",
      "INFO:drake:Iter: 1, polytope step cost -0.046498286770383396, solver time 0.18471097946166992\n"
     ]
    }
   ],
   "source": [
    "i = 0\n",
    "bilinear_regions = {i: [] for i in range(len(seed_points))}\n",
    "bilinear_ellipses = {i: [] for i in range(len(seed_points))}\n",
    "bilinear_solutions =[]\n",
    "\n",
    "num_faces = 5\n",
    "\n",
    "max_iters = 50\n",
    "bilinear_alternation_options = rational_forward_kinematics.BilinearAlternationOption()\n",
    "\n",
    "bilinear_alternation_options.max_iters = 2\n",
    "bilinear_alternation_options.lagrangian_backoff_scale = 0\n",
    "bilinear_alternation_options.polytope_backoff_scale = 0\n",
    "# number of threads used to solve this optimization.\n",
    "bilinear_alternation_options.num_threads = 1\n",
    "\n",
    "for i in range(len(seed_points)):\n",
    "    seed_point = seed_points[i,:]\n",
    "    \n",
    "    region_to_certify = perturbed_regular_n_gon_drake(num_faces, seed_point[:2])\n",
    "    eps = rational_forward_kinematics.FindEpsilonLowerVector(region_to_certify.A(),\n",
    "                                                 region_to_certify.b(),\n",
    "                                                 limits_t[0], limits_t[1],\n",
    "                                                 seed_point)\n",
    "    \n",
    "    \n",
    "    region_to_certify = HPolyhedron(region_to_certify.A(), region_to_certify.b()+ eps)\n",
    "    for j in range(max_iters):\n",
    "        sol, _, _, no_problems = cspace_free_region_certifier.CspacePolytopeBilinearAlternation(q_star[:2],\n",
    "                                                                             filtered_collision_pairs,\n",
    "                                                                             region_to_certify.A(),\n",
    "                                                                             region_to_certify.b(),\n",
    "                                                                             bilinear_alternation_options, \n",
    "                                                                             solver_options,\n",
    "                                                                             seed_point)\n",
    "        if no_problems:\n",
    "\n",
    "            region_to_certify = HPolyhedron(sol.C, sol.d)\n",
    "            bilinear_regions[i].append(region_to_certify)\n",
    "            bilinear_ellipses[i].append(region_to_certify.MaximumVolumeInscribedEllipsoid())\n",
    "        else:\n",
    "            break\n"
   ]
  },
  {
   "cell_type": "code",
   "execution_count": null,
   "metadata": {},
   "outputs": [],
   "source": [
    "for j, (i,r) in enumerate(bilinear_regions.items()):\n",
    "    if do_viz and r:\n",
    "        visualizer.plot_regions(r, ellipses=bilinear_ellipses[i],\n",
    "                            region_suffix=f'_regions_seedpoint_{i}')#,\n",
    "                            #colors = [colors_dict[i]])"
   ]
  },
  {
   "cell_type": "code",
   "execution_count": null,
   "metadata": {},
   "outputs": [],
   "source": [
    "import time\n",
    "def visualize_alternation_growth(regions, ellipses, color):\n",
    "    visualizer.plot_regions(regions, ellipses,\n",
    "                            region_suffix=f'_alternations',\n",
    "                           colors = len(regions)*[color],\n",
    "                           fill = False)\n",
    "    \n",
    "def record_growth(start_ind, end_ind, len_inds, sleep = 2):\n",
    "    prefix = f\"/iris/regions_alternations/\"\n",
    "    # turn off everything\n",
    "    for i in range(len_inds):\n",
    "            path = prefix+f\"{i}\"\n",
    "            visualizer.meshcat2.SetProperty(path+\"/hpoly\", \"visible\", False)\n",
    "            visualizer.meshcat2.SetProperty(path+\"/ellipse\", \"visible\", False)\n",
    "                   \n",
    "#     visualizer.meshcat2.SetProperty(prefix, \"visible\", False)\n",
    "\n",
    "        \n",
    "    for i in range(start_ind, end_ind):\n",
    "        if i > start_ind:\n",
    "            path = prefix+f\"{i-1}\"\n",
    "            visualizer.meshcat2.SetProperty(path+\"/hpoly\", \"visible\", False)\n",
    "        path = prefix+f\"{i}\"\n",
    "        visualizer.meshcat2.SetProperty(path+\"/hpoly\", \"visible\", True)\n",
    "        time.sleep(sleep)\n",
    "        \n",
    "        if i > start_ind:\n",
    "            path = prefix+f\"{i-1}\"\n",
    "            visualizer.meshcat2.SetProperty(path+\"/ellipse\", \"visible\", False)\n",
    "        path = prefix+f\"{i}\"\n",
    "        visualizer.meshcat2.SetProperty(path+\"/ellipse\", \"visible\", True)\n",
    "        time.sleep(sleep)\n",
    "        print(path)\n",
    "    \n",
    "    \n",
    "visualize_alternation_growth(bilinear_regions[2], bilinear_ellipses[2], (0,255,0))\n",
    "record_growth(0, 20, len(bilinear_regions[2]), sleep =0.25)"
   ]
  },
  {
   "cell_type": "code",
   "execution_count": null,
   "metadata": {},
   "outputs": [],
   "source": [
    "bilinear_regions"
   ]
  },
  {
   "cell_type": "code",
   "execution_count": null,
   "metadata": {},
   "outputs": [],
   "source": []
  }
 ],
 "metadata": {
  "interpreter": {
   "hash": "31f2aee4e71d21fbe5cf8b01ff0e069b9275f58929596ceb00d14d90e3e16cd6"
  },
  "kernelspec": {
   "display_name": "Python 3",
   "language": "python",
   "name": "python3"
  },
  "language_info": {
   "codemirror_mode": {
    "name": "ipython",
    "version": 3
   },
   "file_extension": ".py",
   "mimetype": "text/x-python",
   "name": "python",
   "nbconvert_exporter": "python",
   "pygments_lexer": "ipython3",
   "version": "3.8.10"
  }
 },
 "nbformat": 4,
 "nbformat_minor": 2
}
