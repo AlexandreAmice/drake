{
 "cells": [
  {
   "cell_type": "code",
   "execution_count": 1,
   "metadata": {},
   "outputs": [],
   "source": [
    "%load_ext autoreload"
   ]
  },
  {
   "cell_type": "code",
   "execution_count": 2,
   "metadata": {},
   "outputs": [],
   "source": [
    "import numpy as np\n",
    "from functools import partial\n",
    "from iris_plant_visualizer import IrisPlantVisualizer\n",
    "import ipywidgets as widgets\n",
    "from IPython.display import display\n",
    "from scipy.linalg import block_diag"
   ]
  },
  {
   "cell_type": "code",
   "execution_count": 3,
   "metadata": {},
   "outputs": [],
   "source": [
    "#pydrake imports\n",
    "from pydrake.common import FindResourceOrThrow\n",
    "from pydrake.multibody.parsing import Parser\n",
    "from pydrake.multibody.plant import AddMultibodyPlantSceneGraph\n",
    "from pydrake.systems.framework import DiagramBuilder\n",
    "from pydrake.geometry import Role, GeometrySet, CollisionFilterDeclaration\n",
    "from pydrake.all import RigidTransform, RollPitchYaw, RevoluteJoint\n",
    "from pydrake.all import RotationMatrix, Rgba\n",
    "import time\n",
    "import pydrake.multibody.rational as rational_forward_kinematics\n",
    "from pydrake.all import RationalForwardKinematics\n",
    "from pydrake.geometry.optimization import IrisOptions, IrisInRationalConfigurationSpace, HPolyhedron, Hyperellipsoid\n",
    "from pydrake.solvers import MosekSolver, CommonSolverOption, SolverOptions"
   ]
  },
  {
   "cell_type": "code",
   "execution_count": 4,
   "metadata": {},
   "outputs": [],
   "source": [
    "from pydrake.geometry.optimization_dev import (CspaceFreePolytope, \n",
    "                                               SeparatingPlaneOrder)"
   ]
  },
  {
   "cell_type": "markdown",
   "metadata": {},
   "source": [
    "# Build and set up the visualization the plant and the visualization of the C-space obstacle\n",
    "\n",
    "We first set up a simple 2-DOF system and visualize both the plant and the configuration constraint.Click on the two links at the bottom to view the plant and the configuration space.\n",
    "\n",
    "Note that running this cell multiple times will establish multiple meshcat instances which can fill up your memory. It is a good idea to call \"pkill -f meshcat\" from the command line before re-running this cell\n"
   ]
  },
  {
   "cell_type": "code",
   "execution_count": 5,
   "metadata": {},
   "outputs": [
    {
     "name": "stderr",
     "output_type": "stream",
     "text": [
      "WARNING:drake:/home/amice/.cache/bazel/_bazel_amice/32fdbbecfa8a7ce8feece95e48c42006/execroot/drake/bazel-out/k8-opt/bin/C_Iris_Examples/pinball_iiwas_2d.runfiles/drake/C_Iris_Examples/assets/oneDOF_iiwa7_with_box_collision.sdf:425: warning: Ignoring unsupported SDFormat element in model: plugin\n",
      "WARNING:drake:/home/amice/.cache/bazel/_bazel_amice/32fdbbecfa8a7ce8feece95e48c42006/execroot/drake/bazel-out/k8-opt/bin/C_Iris_Examples/pinball_iiwas_2d.runfiles/drake/C_Iris_Examples/assets/oneDOF_iiwa7_with_box_collision.sdf:37: warning: Ignoring unsupported SDFormat element in link: self_collide\n",
      "WARNING:drake:/home/amice/.cache/bazel/_bazel_amice/32fdbbecfa8a7ce8feece95e48c42006/execroot/drake/bazel-out/k8-opt/bin/C_Iris_Examples/pinball_iiwas_2d.runfiles/drake/C_Iris_Examples/assets/oneDOF_iiwa7_with_box_collision.sdf:73: warning: Ignoring unsupported SDFormat element in link: self_collide\n",
      "WARNING:drake:/home/amice/.cache/bazel/_bazel_amice/32fdbbecfa8a7ce8feece95e48c42006/execroot/drake/bazel-out/k8-opt/bin/C_Iris_Examples/pinball_iiwas_2d.runfiles/drake/C_Iris_Examples/assets/oneDOF_iiwa7_with_box_collision.sdf:128: warning: Ignoring unsupported SDFormat element in link: self_collide\n",
      "WARNING:drake:/home/amice/.cache/bazel/_bazel_amice/32fdbbecfa8a7ce8feece95e48c42006/execroot/drake/bazel-out/k8-opt/bin/C_Iris_Examples/pinball_iiwas_2d.runfiles/drake/C_Iris_Examples/assets/oneDOF_iiwa7_with_box_collision.sdf:183: warning: Ignoring unsupported SDFormat element in link: self_collide\n",
      "WARNING:drake:/home/amice/.cache/bazel/_bazel_amice/32fdbbecfa8a7ce8feece95e48c42006/execroot/drake/bazel-out/k8-opt/bin/C_Iris_Examples/pinball_iiwas_2d.runfiles/drake/C_Iris_Examples/assets/oneDOF_iiwa7_with_box_collision.sdf:238: warning: Ignoring unsupported SDFormat element in link: self_collide\n",
      "WARNING:drake:/home/amice/.cache/bazel/_bazel_amice/32fdbbecfa8a7ce8feece95e48c42006/execroot/drake/bazel-out/k8-opt/bin/C_Iris_Examples/pinball_iiwas_2d.runfiles/drake/C_Iris_Examples/assets/oneDOF_iiwa7_with_box_collision.sdf:293: warning: Ignoring unsupported SDFormat element in link: self_collide\n",
      "WARNING:drake:/home/amice/.cache/bazel/_bazel_amice/32fdbbecfa8a7ce8feece95e48c42006/execroot/drake/bazel-out/k8-opt/bin/C_Iris_Examples/pinball_iiwas_2d.runfiles/drake/C_Iris_Examples/assets/oneDOF_iiwa7_with_box_collision.sdf:348: warning: Ignoring unsupported SDFormat element in link: self_collide\n",
      "WARNING:drake:/home/amice/.cache/bazel/_bazel_amice/32fdbbecfa8a7ce8feece95e48c42006/execroot/drake/bazel-out/k8-opt/bin/C_Iris_Examples/pinball_iiwas_2d.runfiles/drake/C_Iris_Examples/assets/oneDOF_iiwa7_with_box_collision.sdf:403: warning: Ignoring unsupported SDFormat element in link: self_collide\n",
      "WARNING:drake:/home/amice/.cache/bazel/_bazel_amice/32fdbbecfa8a7ce8feece95e48c42006/execroot/drake/bazel-out/k8-opt/bin/C_Iris_Examples/pinball_iiwas_2d.runfiles/drake/C_Iris_Examples/assets/oneDOF_iiwa7_with_box_collision.sdf:425: warning: Ignoring unsupported SDFormat element in model: plugin\n",
      "WARNING:drake:/home/amice/.cache/bazel/_bazel_amice/32fdbbecfa8a7ce8feece95e48c42006/execroot/drake/bazel-out/k8-opt/bin/C_Iris_Examples/pinball_iiwas_2d.runfiles/drake/C_Iris_Examples/assets/oneDOF_iiwa7_with_box_collision.sdf:37: warning: Ignoring unsupported SDFormat element in link: self_collide\n",
      "WARNING:drake:/home/amice/.cache/bazel/_bazel_amice/32fdbbecfa8a7ce8feece95e48c42006/execroot/drake/bazel-out/k8-opt/bin/C_Iris_Examples/pinball_iiwas_2d.runfiles/drake/C_Iris_Examples/assets/oneDOF_iiwa7_with_box_collision.sdf:73: warning: Ignoring unsupported SDFormat element in link: self_collide\n",
      "WARNING:drake:/home/amice/.cache/bazel/_bazel_amice/32fdbbecfa8a7ce8feece95e48c42006/execroot/drake/bazel-out/k8-opt/bin/C_Iris_Examples/pinball_iiwas_2d.runfiles/drake/C_Iris_Examples/assets/oneDOF_iiwa7_with_box_collision.sdf:128: warning: Ignoring unsupported SDFormat element in link: self_collide\n",
      "WARNING:drake:/home/amice/.cache/bazel/_bazel_amice/32fdbbecfa8a7ce8feece95e48c42006/execroot/drake/bazel-out/k8-opt/bin/C_Iris_Examples/pinball_iiwas_2d.runfiles/drake/C_Iris_Examples/assets/oneDOF_iiwa7_with_box_collision.sdf:183: warning: Ignoring unsupported SDFormat element in link: self_collide\n",
      "WARNING:drake:/home/amice/.cache/bazel/_bazel_amice/32fdbbecfa8a7ce8feece95e48c42006/execroot/drake/bazel-out/k8-opt/bin/C_Iris_Examples/pinball_iiwas_2d.runfiles/drake/C_Iris_Examples/assets/oneDOF_iiwa7_with_box_collision.sdf:238: warning: Ignoring unsupported SDFormat element in link: self_collide\n",
      "WARNING:drake:/home/amice/.cache/bazel/_bazel_amice/32fdbbecfa8a7ce8feece95e48c42006/execroot/drake/bazel-out/k8-opt/bin/C_Iris_Examples/pinball_iiwas_2d.runfiles/drake/C_Iris_Examples/assets/oneDOF_iiwa7_with_box_collision.sdf:293: warning: Ignoring unsupported SDFormat element in link: self_collide\n",
      "WARNING:drake:/home/amice/.cache/bazel/_bazel_amice/32fdbbecfa8a7ce8feece95e48c42006/execroot/drake/bazel-out/k8-opt/bin/C_Iris_Examples/pinball_iiwas_2d.runfiles/drake/C_Iris_Examples/assets/oneDOF_iiwa7_with_box_collision.sdf:348: warning: Ignoring unsupported SDFormat element in link: self_collide\n",
      "WARNING:drake:/home/amice/.cache/bazel/_bazel_amice/32fdbbecfa8a7ce8feece95e48c42006/execroot/drake/bazel-out/k8-opt/bin/C_Iris_Examples/pinball_iiwas_2d.runfiles/drake/C_Iris_Examples/assets/oneDOF_iiwa7_with_box_collision.sdf:403: warning: Ignoring unsupported SDFormat element in link: self_collide\n",
      "INFO:drake:Meshcat listening for connections at http://localhost:7000\n",
      "INFO:drake:Meshcat listening for connections at http://localhost:7001\n"
     ]
    }
   ],
   "source": [
    "#construct our robot\n",
    "builder = DiagramBuilder()\n",
    "plant, scene_graph = AddMultibodyPlantSceneGraph(builder, time_step=0.001)\n",
    "parser = Parser(plant)\n",
    "oneDOF_iiwa_asset = FindResourceOrThrow(\"drake/C_Iris_Examples/assets/oneDOF_iiwa7_with_box_collision.sdf\")\n",
    "\n",
    "box_asset = FindResourceOrThrow(\"drake/C_Iris_Examples/assets/box_small.urdf\")\n",
    "\n",
    "models = []\n",
    "models.append(parser.AddModelFromFile(box_asset))\n",
    "models.append(parser.AddModelFromFile(oneDOF_iiwa_asset, 'right_sweeper'))\n",
    "models.append(parser.AddModelFromFile(oneDOF_iiwa_asset, 'left_sweeper'))\n",
    "locs = [[0.,0.,0.],\n",
    "        [0,1,0.85],\n",
    "        [0,-1,0.55]]\n",
    "plant.WeldFrames(plant.world_frame(), \n",
    "                 plant.GetFrameByName(\"base\", models[0]),\n",
    "                 RigidTransform(locs[0]))\n",
    "\n",
    "t1 = RigidTransform(RollPitchYaw([np.pi/2, 0, 0]).ToRotationMatrix(), locs[1])@RigidTransform(RollPitchYaw([0, 0, np.pi/2]), np.zeros(3))\n",
    "t2 = RigidTransform(RollPitchYaw([-np.pi/2, 0, 0]).ToRotationMatrix(), locs[2])@RigidTransform(RollPitchYaw([0, 0, np.pi/2]), np.zeros(3))\n",
    "plant.WeldFrames(plant.world_frame(), \n",
    "                 plant.GetFrameByName(\"iiwa_oneDOF_link_0\", models[1]), \n",
    "                 t1)\n",
    "plant.WeldFrames(plant.world_frame(), \n",
    "                 plant.GetFrameByName(\"iiwa_oneDOF_link_0\", models[2]), \n",
    "                 t2)\n",
    "\n",
    "\n",
    "plant.Finalize()\n",
    "idx = 0\n",
    "q0 = [0.0, 0.0]\n",
    "val = 1.7\n",
    "q_low  = np.array([-val, -val])\n",
    "q_high = np.array([val, val])\n",
    "# set the joint limits of the plant\n",
    "for model in models:\n",
    "    for joint_index in plant.GetJointIndices(model):\n",
    "        joint = plant.get_mutable_joint(joint_index)\n",
    "        if isinstance(joint, RevoluteJoint):\n",
    "            joint.set_default_angle(q0[idx])\n",
    "            joint.set_position_limits(lower_limits= np.array([q_low[idx]]), upper_limits= np.array([q_high[idx]]))\n",
    "            idx += 1\n",
    "        \n",
    "# construct the RationalForwardKinematics of this plant. This object handles the\n",
    "# computations for the forward kinematics in the tangent-configuration space\n",
    "Ratfk = RationalForwardKinematics(plant)\n",
    "\n",
    "# the point about which we will take the stereographic projections\n",
    "q_star = np.zeros(plant.num_positions())\n",
    "\n",
    "do_viz = True\n",
    "\n",
    "# The object we will use to perform our certification.\n",
    "cspace_free_polytope = CspaceFreePolytope(plant, scene_graph, SeparatingPlaneOrder.kAffine, q_star)\n",
    "\n",
    "# This line builds the visualization. Change the viz_role to Role.kIllustration if you\n",
    "# want to see the plant with its illustrated geometry or to Role.kProximity if you want\n",
    "# to see the plant with the collision geometries.\n",
    "visualizer = IrisPlantVisualizer(plant, builder, scene_graph, cspace_free_polytope, viz_role=Role.kIllustration)\n",
    "visualizer.visualize_collision_constraint(factor = 1.2, num_points = 100)\n",
    "visualizer.meshcat_cspace.Set2dRenderMode(RigidTransform(RotationMatrix.MakeZRotation(0), np.array([0,0,1])))\n",
    "visualizer.meshcat_task_space.Set2dRenderMode(RigidTransform(RotationMatrix.MakeZRotation(0), np.array([1,0,0])))"
   ]
  },
  {
   "cell_type": "markdown",
   "metadata": {},
   "source": [
    "## Set up the sliders so we can move the plant around manually\n",
    "\n",
    "You can use the sliders below to move the two degrees of freedom of the plant around. A green dot will appear in the TC-space visualization describing the current TC-space configuration."
   ]
  },
  {
   "cell_type": "code",
   "execution_count": 6,
   "metadata": {
    "scrolled": false
   },
   "outputs": [
    {
     "name": "stderr",
     "output_type": "stream",
     "text": [
      "Widget Javascript not detected.  It may not be installed or enabled properly. Reconnecting the current kernel may help.\n"
     ]
    },
    {
     "data": {
      "application/vnd.jupyter.widget-view+json": {
       "model_id": "1d011889ffc64f50a048f82da13676b2"
      }
     },
     "metadata": {},
     "output_type": "display_data"
    },
    {
     "name": "stderr",
     "output_type": "stream",
     "text": [
      "Widget Javascript not detected.  It may not be installed or enabled properly. Reconnecting the current kernel may help.\n"
     ]
    },
    {
     "data": {
      "application/vnd.jupyter.widget-view+json": {
       "model_id": "618f358b36cf414e87cac3972cedd98a"
      }
     },
     "metadata": {},
     "output_type": "display_data"
    }
   ],
   "source": [
    "sliders = []\n",
    "sliders.append(widgets.FloatSlider(min=q_low[0], max=q_high[0], value=0, description='q0'))\n",
    "sliders.append(widgets.FloatSlider(min=q_low[1], max=q_high[1], value=0, description='q1'))\n",
    "\n",
    "q = q0.copy()\n",
    "def handle_slider_change(change, idx):\n",
    "    q[idx] = change['new']\n",
    "    visualizer.show_res_q(q)\n",
    "    \n",
    "idx = 0\n",
    "for slider in sliders:\n",
    "    slider.observe(partial(handle_slider_change, idx = idx), names='value')\n",
    "    idx+=1\n",
    "\n",
    "for slider in sliders:\n",
    "    display(slider)\n"
   ]
  },
  {
   "cell_type": "markdown",
   "metadata": {},
   "source": [
    "# Generate and Certify Regions\n",
    "\n",
    "Around some nominal seed postures, we will grow certified regions by seeding our alternation algorithm using a small initial polytope."
   ]
  },
  {
   "cell_type": "code",
   "execution_count": 7,
   "metadata": {},
   "outputs": [],
   "source": [
    "# Some seedpoints\n",
    "seed_points_q = np.array([   [0.0, 0],\n",
    "                              [0.7, -0.9],\n",
    "                              [-0.5, -0.5],\n",
    "                              [0.4,-1.3]\n",
    "                              ])\n",
    "seed_points = np.array([Ratfk.ComputeSValue(seed_points_q[idx], np.zeros((2,)))\\\n",
    "                        for idx in range(seed_points_q.shape[0])])\n",
    "if do_viz:\n",
    "    visualizer.plot_cspace_points(seed_points, \"/iris_seed_points\")\n",
    "    \n",
    "\n",
    "\n",
    "default_scale = 1e-2\n",
    "L1_ball = HPolyhedron.MakeL1Ball(2)\n",
    "Linf_ball = HPolyhedron.MakeBox(-np.ones(2), np.ones(2))\n",
    "\n",
    "template_C = np.vstack([L1_ball.A(), Linf_ball.A()])\n",
    "template_d = np.hstack([default_scale*L1_ball.b(), default_scale/np.sqrt(2)*Linf_ball.b()])\n",
    "\n",
    "\n",
    "def make_default_polytope_at_point(seed_point):\n",
    "    return HPolyhedron(template_C, template_d + template_C @ seed_point)\n",
    "\n",
    "\n",
    "# colors to plot the region. Chosen for color-blind compatibility\n",
    "colors_dict = {\n",
    "    0: (144,144,144),\n",
    "    1:(30,136,229), # bluish\n",
    "    2: (255, 193, 7), # gold\n",
    "    3: (0, 140, 6), # green    \n",
    "}\n",
    "\n",
    "initial_regions = [make_default_polytope_at_point(s) for s in seed_points]\n",
    "visualizer.add_group_of_regions_to_visualization(initial_regions, \"initial_regions\",\n",
    "                            colors = list(colors_dict.values()),\n",
    "                            wireframe = False,\n",
    "                           opacity = 0.2)\n",
    "visualizer.show_res_q(q_star)"
   ]
  },
  {
   "cell_type": "markdown",
   "metadata": {},
   "source": [
    "## First we set up some options for our different certification modes"
   ]
  },
  {
   "cell_type": "code",
   "execution_count": 17,
   "metadata": {},
   "outputs": [],
   "source": [
    "# set up the certifier and the options for different search techniques\n",
    "solver_options = SolverOptions()\n",
    "# set this to 1 if you would like to see the solver output in terminal.\n",
    "solver_options.SetOption(CommonSolverOption.kPrintToConsole, 0)\n",
    "\n",
    "# The options for when we search for new planes and positivity certificates given the polytopes\n",
    "find_separation_certificate_given_polytope_options = CspaceFreePolytope.FindSeparationCertificateGivenPolytopeOptions()\n",
    "find_separation_certificate_given_polytope_options.num_threads = -1\n",
    "find_separation_certificate_given_polytope_options.verbose = False\n",
    "find_separation_certificate_given_polytope_options.solver_options = solver_options\n",
    "find_separation_certificate_given_polytope_options.ignore_redundant_C = True\n",
    "\n",
    "# The options for when we search for a new polytope given positivity certificates.\n",
    "find_polytope_given_lagrangian_option = CspaceFreePolytope.FindPolytopeGivenLagrangianOptions()\n",
    "find_polytope_given_lagrangian_option.solver_options = solver_options\n",
    "find_polytope_given_lagrangian_option.ellipsoid_margin_cost = CspaceFreePolytope.EllipsoidMarginCost.kGeometricMean\n",
    "find_polytope_given_lagrangian_option.search_s_bounds_lagrangians = True\n",
    "# find_polytope_given_lagrangian_option.backoff_scale = 1e-4\n",
    "find_polytope_given_lagrangian_option.ellipsoid_margin_epsilon = 1e-8\n",
    "\n",
    "\n",
    "bilinear_alternation_options = CspaceFreePolytope.BilinearAlternationOptions()\n",
    "bilinear_alternation_options.max_iter = 100\n",
    "bilinear_alternation_options.convergence_tol = 1e-5\n",
    "bilinear_alternation_options.find_polytope_options = find_polytope_given_lagrangian_option\n",
    "bilinear_alternation_options.find_lagrangian_options = find_separation_certificate_given_polytope_options\n",
    "\n",
    "binary_search_options = CspaceFreePolytope.BinarySearchOptions()\n",
    "binary_search_options.find_lagrangian_options = find_separation_certificate_given_polytope_options\n",
    "binary_search_options.scale_min = 1\n",
    "binary_search_options.scale_max = 50\n",
    "binary_search_options.max_iter = 50\n",
    "\n",
    "Clim = np.vstack([np.eye(q_star.shape[0]), -np.eye(q_star.shape[0])])\n",
    "dlim = np.concatenate([Ratfk.ComputeSValue(q_high, q_star), -Ratfk.ComputeSValue(q_low, q_star)])"
   ]
  },
  {
   "cell_type": "markdown",
   "metadata": {},
   "source": [
    "# Growing regions with bilinear alternations search\n",
    "\n",
    "### As the initial regions are fairly small, they won't contain collisions and so can be directly fed into the bilinear alternation algorithm."
   ]
  },
  {
   "cell_type": "code",
   "execution_count": 18,
   "metadata": {
    "scrolled": true
   },
   "outputs": [
    {
     "name": "stdout",
     "output_type": "stream",
     "text": [
      "starting seedpoint 1/4\n"
     ]
    },
    {
     "name": "stderr",
     "output_type": "stream",
     "text": [
      "INFO:drake:det(Q) at the beginning is 4.900500382473016e-05\n",
      "INFO:drake:Iteration 0: det(Q)=0.00014576238925864208\n",
      "INFO:drake:Iteration 1: det(Q)=0.0002806159113297737\n",
      "INFO:drake:Iteration 2: det(Q)=0.0005344000732312085\n",
      "INFO:drake:Iteration 3: det(Q)=0.0008740376091705029\n",
      "INFO:drake:Iteration 4: det(Q)=0.0013160775201296712\n",
      "INFO:drake:Iteration 5: det(Q)=0.0018270475049045126\n",
      "INFO:drake:Iteration 6: det(Q)=0.002469267808866777\n",
      "INFO:drake:Iteration 7: det(Q)=0.0032095693243418036\n",
      "INFO:drake:Iteration 8: det(Q)=0.004083899930157401\n",
      "INFO:drake:Iteration 9: det(Q)=0.005217228509891534\n",
      "INFO:drake:Iteration 10: det(Q)=0.0064397033376159055\n",
      "INFO:drake:Iteration 11: det(Q)=0.007728253756353002\n",
      "INFO:drake:Iteration 12: det(Q)=0.00933857241785992\n",
      "INFO:drake:Iteration 13: det(Q)=0.010946345214851256\n",
      "INFO:drake:Iteration 14: det(Q)=0.01250164908824377\n",
      "INFO:drake:Iteration 15: det(Q)=0.014376165087566494\n",
      "INFO:drake:Iteration 16: det(Q)=0.01571596427972976\n",
      "INFO:drake:Iteration 17: det(Q)=0.016698100296490232\n",
      "INFO:drake:Iteration 18: det(Q)=0.017554675696780195\n",
      "INFO:drake:Iteration 19: det(Q)=0.018418528510320963\n",
      "INFO:drake:Iteration 20: det(Q)=0.01930147854033449\n",
      "INFO:drake:Iteration 21: det(Q)=0.020177592866410694\n",
      "INFO:drake:Iteration 22: det(Q)=0.021056681848188756\n",
      "INFO:drake:Iteration 23: det(Q)=0.021974291021478146\n",
      "INFO:drake:Iteration 24: det(Q)=0.022936777693499492\n",
      "INFO:drake:Iteration 25: det(Q)=0.02401609553078662\n",
      "INFO:drake:Iteration 26: det(Q)=0.025170163202644452\n",
      "INFO:drake:Iteration 27: det(Q)=0.02639886558579227\n",
      "INFO:drake:Iteration 28: det(Q)=0.027656961547285055\n",
      "INFO:drake:Iteration 29: det(Q)=0.029022423218583036\n",
      "INFO:drake:Iteration 30: det(Q)=0.030456579925119857\n",
      "INFO:drake:Iteration 31: det(Q)=0.03201270250511625\n",
      "INFO:drake:Iteration 32: det(Q)=0.03364394711650702\n",
      "INFO:drake:Iteration 33: det(Q)=0.035375818599973845\n",
      "INFO:drake:Iteration 34: det(Q)=0.03710988253923142\n",
      "INFO:drake:Iteration 35: det(Q)=0.038893291775216214\n",
      "INFO:drake:Iteration 36: det(Q)=0.040816881571571234\n",
      "INFO:drake:Iteration 37: det(Q)=0.043015060975083085\n",
      "INFO:drake:Iteration 38: det(Q)=0.04566458693449769\n",
      "INFO:drake:Iteration 39: det(Q)=0.048671765330295505\n",
      "INFO:drake:Iteration 40: det(Q)=0.05121272014328546\n",
      "INFO:drake:Iteration 41: det(Q)=0.052632247918212964\n",
      "INFO:drake:Iteration 42: det(Q)=0.05336029072591475\n",
      "INFO:drake:Iteration 43: det(Q)=0.05389306537405737\n",
      "INFO:drake:Iteration 44: det(Q)=0.054201309637389235\n",
      "INFO:drake:Iteration 45: det(Q)=0.054383316794430855\n",
      "INFO:drake:Iteration 46: det(Q)=0.05451291113131717\n",
      "INFO:drake:Iteration 47: det(Q)=0.05461069939782597\n",
      "INFO:drake:Iteration 48: det(Q)=0.05468558402083635\n",
      "INFO:drake:Iteration 49: det(Q)=0.05474592633065845\n",
      "INFO:drake:Iteration 50: det(Q)=0.054794174678028384\n",
      "INFO:drake:Iteration 51: det(Q)=0.05483402557074544\n",
      "INFO:drake:Iteration 52: det(Q)=0.05486683495242181\n",
      "INFO:drake:Iteration 53: det(Q)=0.05489381169784336\n",
      "INFO:drake:Iteration 54: det(Q)=0.05491650029534663\n",
      "INFO:drake:Iteration 55: det(Q)=0.054935732127263395\n",
      "INFO:drake:Iteration 56: det(Q)=0.05495162791811922\n",
      "INFO:drake:Iteration 57: det(Q)=0.054964705470092495\n",
      "INFO:drake:Iteration 58: det(Q)=0.054975680018645015\n",
      "INFO:drake:Iteration 59: det(Q)=0.054984850051590595\n",
      "INFO:drake:Iteration 60: det(Q)=0.05499252653053346\n",
      "INFO:drake:Iteration 61: det(Q)=0.05499868371250914\n",
      "INFO:drake:Iteration 62: det(Q)=0.05500351895458245\n",
      "INFO:drake:Iteration 63: det(Q)=0.055008279920687256\n",
      "INFO:drake:Iteration 64: det(Q)=0.055013074924606435\n",
      "INFO:drake:Iteration 65: det(Q)=0.05501750092482853\n",
      "INFO:drake:Iteration 66: det(Q)=0.05502061654490249\n",
      "INFO:drake:Iteration 67: det(Q)=0.05502309753367996\n",
      "ERROR:drake:Cannot find the separation certificate at iteration 68 given the polytope.\n"
     ]
    },
    {
     "name": "stdout",
     "output_type": "stream",
     "text": [
      "starting seedpoint 2/4\n"
     ]
    },
    {
     "name": "stderr",
     "output_type": "stream",
     "text": [
      "INFO:drake:det(Q) at the beginning is 4.9005001094506195e-05\n",
      "INFO:drake:Iteration 0: det(Q)=0.00014131240847090125\n",
      "INFO:drake:Iteration 1: det(Q)=0.0003605858193593601\n",
      "INFO:drake:Iteration 2: det(Q)=0.0008065910247130536\n",
      "INFO:drake:Iteration 3: det(Q)=0.0016252957600218611\n",
      "INFO:drake:Iteration 4: det(Q)=0.003251861538794909\n",
      "INFO:drake:Iteration 5: det(Q)=0.007590559752036183\n",
      "INFO:drake:Iteration 6: det(Q)=0.011937531954618595\n",
      "INFO:drake:Iteration 7: det(Q)=0.012780818683823126\n",
      "INFO:drake:Iteration 8: det(Q)=0.013219692213514283\n",
      "INFO:drake:Iteration 9: det(Q)=0.013435386356414988\n",
      "INFO:drake:Iteration 10: det(Q)=0.013613683193898702\n",
      "INFO:drake:Iteration 11: det(Q)=0.013794848914524642\n",
      "INFO:drake:Iteration 12: det(Q)=0.013937560990180167\n",
      "INFO:drake:Iteration 13: det(Q)=0.014057542582848507\n",
      "INFO:drake:Iteration 14: det(Q)=0.014145085328447307\n",
      "INFO:drake:Iteration 15: det(Q)=0.014242816579076289\n",
      "INFO:drake:Iteration 16: det(Q)=0.014351239088473829\n",
      "INFO:drake:Iteration 17: det(Q)=0.014468901317708345\n",
      "INFO:drake:Iteration 18: det(Q)=0.014578096553349235\n",
      "INFO:drake:Iteration 19: det(Q)=0.014682847649389057\n",
      "INFO:drake:Iteration 20: det(Q)=0.014785500710564397\n",
      "INFO:drake:Iteration 21: det(Q)=0.01488748885576321\n",
      "INFO:drake:Iteration 22: det(Q)=0.014989584966362905\n",
      "INFO:drake:Iteration 23: det(Q)=0.015092155068105685\n",
      "ERROR:drake:Cannot find the separation certificate at iteration 24 given the polytope.\n"
     ]
    },
    {
     "name": "stdout",
     "output_type": "stream",
     "text": [
      "starting seedpoint 3/4\n"
     ]
    },
    {
     "name": "stderr",
     "output_type": "stream",
     "text": [
      "INFO:drake:det(Q) at the beginning is 4.900500387407825e-05\n",
      "INFO:drake:Iteration 0: det(Q)=0.0002893803632078695\n",
      "INFO:drake:Iteration 1: det(Q)=0.000629240698708994\n",
      "INFO:drake:Iteration 2: det(Q)=0.0010005786406084907\n",
      "INFO:drake:Iteration 3: det(Q)=0.0015026235141849568\n",
      "INFO:drake:Iteration 4: det(Q)=0.002181175468059709\n",
      "INFO:drake:Iteration 5: det(Q)=0.0030781105752166905\n",
      "INFO:drake:Iteration 6: det(Q)=0.004126844281648953\n",
      "INFO:drake:Iteration 7: det(Q)=0.005415459622881643\n",
      "INFO:drake:Iteration 8: det(Q)=0.0072723018378658836\n",
      "INFO:drake:Iteration 9: det(Q)=0.010067857816518153\n",
      "INFO:drake:Iteration 10: det(Q)=0.014442694106815628\n",
      "INFO:drake:Iteration 11: det(Q)=0.019635337439708356\n",
      "INFO:drake:Iteration 12: det(Q)=0.02716768240314491\n",
      "INFO:drake:Iteration 13: det(Q)=0.03960485960130935\n",
      "INFO:drake:Iteration 14: det(Q)=0.05654903596923884\n",
      "INFO:drake:Iteration 15: det(Q)=0.07645946700011316\n",
      "INFO:drake:Iteration 16: det(Q)=0.09267143022313312\n",
      "INFO:drake:Iteration 17: det(Q)=0.1056323082298536\n",
      "INFO:drake:Iteration 18: det(Q)=0.1151451355906069\n",
      "INFO:drake:Iteration 19: det(Q)=0.12168802423577949\n",
      "INFO:drake:Iteration 20: det(Q)=0.1262826570367396\n",
      "INFO:drake:Iteration 21: det(Q)=0.1303855980911082\n",
      "INFO:drake:Iteration 22: det(Q)=0.1336462729935551\n",
      "INFO:drake:Iteration 23: det(Q)=0.1362779485985334\n",
      "INFO:drake:Iteration 24: det(Q)=0.13837520818823715\n",
      "INFO:drake:Iteration 25: det(Q)=0.14022420821991188\n",
      "INFO:drake:Iteration 26: det(Q)=0.14174876178412502\n",
      "INFO:drake:Iteration 27: det(Q)=0.1429436801132419\n",
      "INFO:drake:Iteration 28: det(Q)=0.14403131303130257\n",
      "INFO:drake:Iteration 29: det(Q)=0.14508800047691858\n",
      "INFO:drake:Iteration 30: det(Q)=0.14602386578199608\n",
      "INFO:drake:Iteration 31: det(Q)=0.1468921422383011\n",
      "INFO:drake:Iteration 32: det(Q)=0.14769287508995135\n",
      "INFO:drake:Iteration 33: det(Q)=0.14847060137040477\n",
      "INFO:drake:Iteration 34: det(Q)=0.14920397330029242\n",
      "INFO:drake:Iteration 35: det(Q)=0.14986615290633615\n",
      "INFO:drake:Iteration 36: det(Q)=0.1504661898026117\n",
      "INFO:drake:Iteration 37: det(Q)=0.15099863031177704\n",
      "INFO:drake:Iteration 38: det(Q)=0.1514764737770365\n",
      "INFO:drake:Iteration 39: det(Q)=0.15190077944703845\n",
      "INFO:drake:Iteration 40: det(Q)=0.15229149699149663\n",
      "INFO:drake:Iteration 41: det(Q)=0.1526563654877043\n",
      "INFO:drake:Iteration 42: det(Q)=0.15299822019366704\n",
      "WARNING:drake:Failed before backoff.\n",
      "ERROR:drake:Cannot find the separation certificate at iteration 43 given the Lagrangians.\n"
     ]
    },
    {
     "name": "stdout",
     "output_type": "stream",
     "text": [
      "starting seedpoint 4/4\n"
     ]
    },
    {
     "name": "stderr",
     "output_type": "stream",
     "text": [
      "INFO:drake:det(Q) at the beginning is 4.900500574033146e-05\n",
      "INFO:drake:Iteration 0: det(Q)=0.000507799868097352\n",
      "INFO:drake:Iteration 1: det(Q)=0.0012460655964163859\n",
      "INFO:drake:Iteration 2: det(Q)=0.0023452873223409796\n",
      "INFO:drake:Iteration 3: det(Q)=0.0037317488356948293\n",
      "INFO:drake:Iteration 4: det(Q)=0.005826506861177007\n",
      "INFO:drake:Iteration 5: det(Q)=0.012880988574832962\n",
      "INFO:drake:Iteration 6: det(Q)=0.02039181614958077\n",
      "INFO:drake:Iteration 7: det(Q)=0.026868254672847088\n",
      "INFO:drake:Iteration 8: det(Q)=0.03666449217864105\n",
      "INFO:drake:Iteration 9: det(Q)=0.0468299540714332\n",
      "INFO:drake:Iteration 10: det(Q)=0.05497347165454071\n",
      "INFO:drake:Iteration 11: det(Q)=0.06315373408136292\n",
      "INFO:drake:Iteration 12: det(Q)=0.07181726675898764\n",
      "INFO:drake:Iteration 13: det(Q)=0.08200086623326285\n",
      "INFO:drake:Iteration 14: det(Q)=0.09418756353297716\n",
      "INFO:drake:Iteration 15: det(Q)=0.1095465694699965\n",
      "INFO:drake:Iteration 16: det(Q)=0.12355858400499432\n",
      "INFO:drake:Iteration 17: det(Q)=0.13059442591603795\n",
      "INFO:drake:Iteration 18: det(Q)=0.1355961602922186\n",
      "INFO:drake:Iteration 19: det(Q)=0.13947160834094482\n",
      "INFO:drake:Iteration 20: det(Q)=0.14236157492222928\n",
      "INFO:drake:Iteration 21: det(Q)=0.14492903458967193\n",
      "INFO:drake:Iteration 22: det(Q)=0.1471548106289926\n",
      "INFO:drake:Iteration 23: det(Q)=0.149102937454943\n",
      "INFO:drake:Iteration 24: det(Q)=0.15083247307247513\n",
      "INFO:drake:Iteration 25: det(Q)=0.15234447898851122\n",
      "INFO:drake:Iteration 26: det(Q)=0.15365296535949222\n",
      "INFO:drake:Iteration 27: det(Q)=0.15483772749254096\n",
      "INFO:drake:Iteration 28: det(Q)=0.1558341961120009\n",
      "INFO:drake:Iteration 29: det(Q)=0.15665418296618314\n",
      "INFO:drake:Iteration 30: det(Q)=0.15730582568902154\n",
      "INFO:drake:Iteration 31: det(Q)=0.15780277754389666\n",
      "INFO:drake:Iteration 32: det(Q)=0.15822132340766157\n",
      "INFO:drake:Iteration 33: det(Q)=0.15856433528688746\n",
      "INFO:drake:Iteration 34: det(Q)=0.15885346555535856\n",
      "INFO:drake:Iteration 35: det(Q)=0.15909997794595798\n",
      "INFO:drake:Iteration 36: det(Q)=0.15931459247870683\n",
      "WARNING:drake:Failed before backoff.\n",
      "ERROR:drake:Cannot find the separation certificate at iteration 37 given the Lagrangians.\n"
     ]
    }
   ],
   "source": [
    "# We grow certified regions around each seedpoint using bilinear alternation.\n",
    "bilinear_alternation_results_by_seed_point = dict.fromkeys([tuple(s) for s in seed_points])\n",
    "for i, (s, initial_region) in enumerate(zip(seed_points, initial_regions)):\n",
    "    print(f\"starting seedpoint {i+1}/{len(initial_regions)}\")\n",
    "    time.sleep(0.2)\n",
    "    bilinear_alternation_options.find_polytope_options.s_inner_pts = s\n",
    "    result = cspace_free_polytope.SearchWithBilinearAlternation(set(), initial_region.A(),\n",
    "                                                                initial_region.b(),\n",
    "                                                                bilinear_alternation_options)\n",
    "    bilinear_alternation_results_by_seed_point[tuple(s)] = [(HPolyhedron(np.vstack([cert.C, Clim]),\n",
    "                                                                         np.concatenate([cert.d, dlim])), cert) for cert in result]\n",
    "    \n",
    "\n",
    "# visualize the regions and corresponding certificates\n",
    "for i, result in enumerate(bilinear_alternation_results_by_seed_point.values()):\n",
    "    group_name = f\"/bil_alt_seed_point_{i}\"\n",
    "    visualizer.add_group_of_regions_and_certs_to_visualization(result, group_name, \n",
    "                                                               wireframe = False, opacity = 0.2)"
   ]
  },
  {
   "cell_type": "code",
   "execution_count": 28,
   "metadata": {},
   "outputs": [],
   "source": [
    "group = [item for i, item in enumerate(bilinear_alternation_results_by_seed_point.values()) if i % 4 == 0][0]\n",
    "visualizer.add_group_of_regions_and_certs_to_visualization(group, \"/final_bil_alt\", \n",
    "                                                               wireframe = False, opacity = 0.2)"
   ]
  },
  {
   "cell_type": "code",
   "execution_count": 26,
   "metadata": {},
   "outputs": [],
   "source": [
    "visualizer.meshcat_cspace.Delete(\"/final_bil_alt\")"
   ]
  },
  {
   "cell_type": "code",
   "execution_count": 27,
   "metadata": {},
   "outputs": [
    {
     "data": {
      "text/plain": [
       "[[(<pydrake.geometry.optimization.HPolyhedron at 0x7fbb9474fb70>,\n",
       "   <pydrake.geometry.optimization_dev.CspaceFreePolytope.SearchResult at 0x7fbb9475bbf0>),\n",
       "  (<pydrake.geometry.optimization.HPolyhedron at 0x7fbb9474f7f0>,\n",
       "   <pydrake.geometry.optimization_dev.CspaceFreePolytope.SearchResult at 0x7fbb9476a930>),\n",
       "  (<pydrake.geometry.optimization.HPolyhedron at 0x7fbc32b84c30>,\n",
       "   <pydrake.geometry.optimization_dev.CspaceFreePolytope.SearchResult at 0x7fbb94716df0>),\n",
       "  (<pydrake.geometry.optimization.HPolyhedron at 0x7fbb91265bb0>,\n",
       "   <pydrake.geometry.optimization_dev.CspaceFreePolytope.SearchResult at 0x7fbb94719f30>),\n",
       "  (<pydrake.geometry.optimization.HPolyhedron at 0x7fbb94767930>,\n",
       "   <pydrake.geometry.optimization_dev.CspaceFreePolytope.SearchResult at 0x7fbb947169f0>),\n",
       "  (<pydrake.geometry.optimization.HPolyhedron at 0x7fbb9126c530>,\n",
       "   <pydrake.geometry.optimization_dev.CspaceFreePolytope.SearchResult at 0x7fbb9474c9f0>),\n",
       "  (<pydrake.geometry.optimization.HPolyhedron at 0x7fbb9126c2f0>,\n",
       "   <pydrake.geometry.optimization_dev.CspaceFreePolytope.SearchResult at 0x7fbb94715670>),\n",
       "  (<pydrake.geometry.optimization.HPolyhedron at 0x7fbb9126c330>,\n",
       "   <pydrake.geometry.optimization_dev.CspaceFreePolytope.SearchResult at 0x7fbb9474eff0>),\n",
       "  (<pydrake.geometry.optimization.HPolyhedron at 0x7fbb9474fbb0>,\n",
       "   <pydrake.geometry.optimization_dev.CspaceFreePolytope.SearchResult at 0x7fbb94715a70>),\n",
       "  (<pydrake.geometry.optimization.HPolyhedron at 0x7fbb9474b130>,\n",
       "   <pydrake.geometry.optimization_dev.CspaceFreePolytope.SearchResult at 0x7fbb9474daf0>),\n",
       "  (<pydrake.geometry.optimization.HPolyhedron at 0x7fbb94706970>,\n",
       "   <pydrake.geometry.optimization_dev.CspaceFreePolytope.SearchResult at 0x7fbb94715ff0>),\n",
       "  (<pydrake.geometry.optimization.HPolyhedron at 0x7fbb94706a30>,\n",
       "   <pydrake.geometry.optimization_dev.CspaceFreePolytope.SearchResult at 0x7fbb912394f0>),\n",
       "  (<pydrake.geometry.optimization.HPolyhedron at 0x7fbb9126c5f0>,\n",
       "   <pydrake.geometry.optimization_dev.CspaceFreePolytope.SearchResult at 0x7fbb947165f0>),\n",
       "  (<pydrake.geometry.optimization.HPolyhedron at 0x7fbb9126def0>,\n",
       "   <pydrake.geometry.optimization_dev.CspaceFreePolytope.SearchResult at 0x7fbb9470cfb0>),\n",
       "  (<pydrake.geometry.optimization.HPolyhedron at 0x7fbb9126e8f0>,\n",
       "   <pydrake.geometry.optimization_dev.CspaceFreePolytope.SearchResult at 0x7fbb94716a70>),\n",
       "  (<pydrake.geometry.optimization.HPolyhedron at 0x7fbb9126c370>,\n",
       "   <pydrake.geometry.optimization_dev.CspaceFreePolytope.SearchResult at 0x7fbb94716070>),\n",
       "  (<pydrake.geometry.optimization.HPolyhedron at 0x7fbb9126c770>,\n",
       "   <pydrake.geometry.optimization_dev.CspaceFreePolytope.SearchResult at 0x7fbb94714130>),\n",
       "  (<pydrake.geometry.optimization.HPolyhedron at 0x7fbb9126ca30>,\n",
       "   <pydrake.geometry.optimization_dev.CspaceFreePolytope.SearchResult at 0x7fbb947151b0>),\n",
       "  (<pydrake.geometry.optimization.HPolyhedron at 0x7fbb947042f0>,\n",
       "   <pydrake.geometry.optimization_dev.CspaceFreePolytope.SearchResult at 0x7fbb947152b0>),\n",
       "  (<pydrake.geometry.optimization.HPolyhedron at 0x7fbb9126cd70>,\n",
       "   <pydrake.geometry.optimization_dev.CspaceFreePolytope.SearchResult at 0x7fbb94715470>),\n",
       "  (<pydrake.geometry.optimization.HPolyhedron at 0x7fbb9126d030>,\n",
       "   <pydrake.geometry.optimization_dev.CspaceFreePolytope.SearchResult at 0x7fbb94715930>),\n",
       "  (<pydrake.geometry.optimization.HPolyhedron at 0x7fbb9126d0f0>,\n",
       "   <pydrake.geometry.optimization_dev.CspaceFreePolytope.SearchResult at 0x7fbb94715b70>),\n",
       "  (<pydrake.geometry.optimization.HPolyhedron at 0x7fbb9126d730>,\n",
       "   <pydrake.geometry.optimization_dev.CspaceFreePolytope.SearchResult at 0x7fbb94715cb0>),\n",
       "  (<pydrake.geometry.optimization.HPolyhedron at 0x7fbb9126d8b0>,\n",
       "   <pydrake.geometry.optimization_dev.CspaceFreePolytope.SearchResult at 0x7fbb94716330>),\n",
       "  (<pydrake.geometry.optimization.HPolyhedron at 0x7fbb9126edb0>,\n",
       "   <pydrake.geometry.optimization_dev.CspaceFreePolytope.SearchResult at 0x7fbb94716570>),\n",
       "  (<pydrake.geometry.optimization.HPolyhedron at 0x7fbb9126ee70>,\n",
       "   <pydrake.geometry.optimization_dev.CspaceFreePolytope.SearchResult at 0x7fbb947176b0>),\n",
       "  (<pydrake.geometry.optimization.HPolyhedron at 0x7fbb9126ea30>,\n",
       "   <pydrake.geometry.optimization_dev.CspaceFreePolytope.SearchResult at 0x7fbb94715270>),\n",
       "  (<pydrake.geometry.optimization.HPolyhedron at 0x7fbb9126cdf0>,\n",
       "   <pydrake.geometry.optimization_dev.CspaceFreePolytope.SearchResult at 0x7fbb94715ab0>),\n",
       "  (<pydrake.geometry.optimization.HPolyhedron at 0x7fbb9475a530>,\n",
       "   <pydrake.geometry.optimization_dev.CspaceFreePolytope.SearchResult at 0x7fbb94715630>),\n",
       "  (<pydrake.geometry.optimization.HPolyhedron at 0x7fbb94707230>,\n",
       "   <pydrake.geometry.optimization_dev.CspaceFreePolytope.SearchResult at 0x7fbb94715fb0>),\n",
       "  (<pydrake.geometry.optimization.HPolyhedron at 0x7fbb9126e230>,\n",
       "   <pydrake.geometry.optimization_dev.CspaceFreePolytope.SearchResult at 0x7fbb94716cb0>),\n",
       "  (<pydrake.geometry.optimization.HPolyhedron at 0x7fbb9126f830>,\n",
       "   <pydrake.geometry.optimization_dev.CspaceFreePolytope.SearchResult at 0x7fbb947148f0>),\n",
       "  (<pydrake.geometry.optimization.HPolyhedron at 0x7fbb9126fbb0>,\n",
       "   <pydrake.geometry.optimization_dev.CspaceFreePolytope.SearchResult at 0x7fbb947167b0>),\n",
       "  (<pydrake.geometry.optimization.HPolyhedron at 0x7fbb9126fe30>,\n",
       "   <pydrake.geometry.optimization_dev.CspaceFreePolytope.SearchResult at 0x7fbb947140b0>),\n",
       "  (<pydrake.geometry.optimization.HPolyhedron at 0x7fbb9126d530>,\n",
       "   <pydrake.geometry.optimization_dev.CspaceFreePolytope.SearchResult at 0x7fbb9474c0f0>),\n",
       "  (<pydrake.geometry.optimization.HPolyhedron at 0x7fbb9126db30>,\n",
       "   <pydrake.geometry.optimization_dev.CspaceFreePolytope.SearchResult at 0x7fbb94714970>),\n",
       "  (<pydrake.geometry.optimization.HPolyhedron at 0x7fbb9126de30>,\n",
       "   <pydrake.geometry.optimization_dev.CspaceFreePolytope.SearchResult at 0x7fbb94714f30>),\n",
       "  (<pydrake.geometry.optimization.HPolyhedron at 0x7fbb9126c0f0>,\n",
       "   <pydrake.geometry.optimization_dev.CspaceFreePolytope.SearchResult at 0x7fbb947175b0>),\n",
       "  (<pydrake.geometry.optimization.HPolyhedron at 0x7fbb9126f430>,\n",
       "   <pydrake.geometry.optimization_dev.CspaceFreePolytope.SearchResult at 0x7fbb94717eb0>),\n",
       "  (<pydrake.geometry.optimization.HPolyhedron at 0x7fbb947067f0>,\n",
       "   <pydrake.geometry.optimization_dev.CspaceFreePolytope.SearchResult at 0x7fbb947154b0>),\n",
       "  (<pydrake.geometry.optimization.HPolyhedron at 0x7fbb9126c570>,\n",
       "   <pydrake.geometry.optimization_dev.CspaceFreePolytope.SearchResult at 0x7fbb947162b0>),\n",
       "  (<pydrake.geometry.optimization.HPolyhedron at 0x7fbb9126c630>,\n",
       "   <pydrake.geometry.optimization_dev.CspaceFreePolytope.SearchResult at 0x7fbb947164f0>),\n",
       "  (<pydrake.geometry.optimization.HPolyhedron at 0x7fbb9126fd30>,\n",
       "   <pydrake.geometry.optimization_dev.CspaceFreePolytope.SearchResult at 0x7fbb94716530>),\n",
       "  (<pydrake.geometry.optimization.HPolyhedron at 0x7fbb9126c6f0>,\n",
       "   <pydrake.geometry.optimization_dev.CspaceFreePolytope.SearchResult at 0x7fbb947166f0>),\n",
       "  (<pydrake.geometry.optimization.HPolyhedron at 0x7fbb9126c730>,\n",
       "   <pydrake.geometry.optimization_dev.CspaceFreePolytope.SearchResult at 0x7fbb947156b0>),\n",
       "  (<pydrake.geometry.optimization.HPolyhedron at 0x7fbb9126dd30>,\n",
       "   <pydrake.geometry.optimization_dev.CspaceFreePolytope.SearchResult at 0x7fbb94717af0>),\n",
       "  (<pydrake.geometry.optimization.HPolyhedron at 0x7fbb9126c830>,\n",
       "   <pydrake.geometry.optimization_dev.CspaceFreePolytope.SearchResult at 0x7fbb94715b30>),\n",
       "  (<pydrake.geometry.optimization.HPolyhedron at 0x7fbb9126cb30>,\n",
       "   <pydrake.geometry.optimization_dev.CspaceFreePolytope.SearchResult at 0x7fbb94715df0>),\n",
       "  (<pydrake.geometry.optimization.HPolyhedron at 0x7fbb9126c8f0>,\n",
       "   <pydrake.geometry.optimization_dev.CspaceFreePolytope.SearchResult at 0x7fbb947163b0>),\n",
       "  (<pydrake.geometry.optimization.HPolyhedron at 0x7fbb9126e2b0>,\n",
       "   <pydrake.geometry.optimization_dev.CspaceFreePolytope.SearchResult at 0x7fbb94717e70>),\n",
       "  (<pydrake.geometry.optimization.HPolyhedron at 0x7fbb9126e970>,\n",
       "   <pydrake.geometry.optimization_dev.CspaceFreePolytope.SearchResult at 0x7fbb94717df0>),\n",
       "  (<pydrake.geometry.optimization.HPolyhedron at 0x7fbb9126ebb0>,\n",
       "   <pydrake.geometry.optimization_dev.CspaceFreePolytope.SearchResult at 0x7fbb947154f0>),\n",
       "  (<pydrake.geometry.optimization.HPolyhedron at 0x7fbb9126f9b0>,\n",
       "   <pydrake.geometry.optimization_dev.CspaceFreePolytope.SearchResult at 0x7fbb947162f0>),\n",
       "  (<pydrake.geometry.optimization.HPolyhedron at 0x7fbb9126ed70>,\n",
       "   <pydrake.geometry.optimization_dev.CspaceFreePolytope.SearchResult at 0x7fbb94715370>),\n",
       "  (<pydrake.geometry.optimization.HPolyhedron at 0x7fbb9126ec30>,\n",
       "   <pydrake.geometry.optimization_dev.CspaceFreePolytope.SearchResult at 0x7fbc32536c30>),\n",
       "  (<pydrake.geometry.optimization.HPolyhedron at 0x7fbb9126ffb0>,\n",
       "   <pydrake.geometry.optimization_dev.CspaceFreePolytope.SearchResult at 0x7fbb947160b0>),\n",
       "  (<pydrake.geometry.optimization.HPolyhedron at 0x7fbb9126eef0>,\n",
       "   <pydrake.geometry.optimization_dev.CspaceFreePolytope.SearchResult at 0x7fbb94715ef0>),\n",
       "  (<pydrake.geometry.optimization.HPolyhedron at 0x7fbb9126ccf0>,\n",
       "   <pydrake.geometry.optimization_dev.CspaceFreePolytope.SearchResult at 0x7fbc55acd470>),\n",
       "  (<pydrake.geometry.optimization.HPolyhedron at 0x7fbb9126e5b0>,\n",
       "   <pydrake.geometry.optimization_dev.CspaceFreePolytope.SearchResult at 0x7fbb94715c70>),\n",
       "  (<pydrake.geometry.optimization.HPolyhedron at 0x7fbb9126ca70>,\n",
       "   <pydrake.geometry.optimization_dev.CspaceFreePolytope.SearchResult at 0x7fbb947158b0>),\n",
       "  (<pydrake.geometry.optimization.HPolyhedron at 0x7fbb9126cd30>,\n",
       "   <pydrake.geometry.optimization_dev.CspaceFreePolytope.SearchResult at 0x7fbc3252e0b0>),\n",
       "  (<pydrake.geometry.optimization.HPolyhedron at 0x7fbb9126ef70>,\n",
       "   <pydrake.geometry.optimization_dev.CspaceFreePolytope.SearchResult at 0x7fbb94715130>),\n",
       "  (<pydrake.geometry.optimization.HPolyhedron at 0x7fbb9126dab0>,\n",
       "   <pydrake.geometry.optimization_dev.CspaceFreePolytope.SearchResult at 0x7fbb94716730>),\n",
       "  (<pydrake.geometry.optimization.HPolyhedron at 0x7fbb9126eff0>,\n",
       "   <pydrake.geometry.optimization_dev.CspaceFreePolytope.SearchResult at 0x7fbb9126e3b0>),\n",
       "  (<pydrake.geometry.optimization.HPolyhedron at 0x7fbb9126ecb0>,\n",
       "   <pydrake.geometry.optimization_dev.CspaceFreePolytope.SearchResult at 0x7fbb9126c470>),\n",
       "  (<pydrake.geometry.optimization.HPolyhedron at 0x7fbb9126ce70>,\n",
       "   <pydrake.geometry.optimization_dev.CspaceFreePolytope.SearchResult at 0x7fbb947164b0>),\n",
       "  (<pydrake.geometry.optimization.HPolyhedron at 0x7fbb9126cef0>,\n",
       "   <pydrake.geometry.optimization_dev.CspaceFreePolytope.SearchResult at 0x7fbc32537fb0>),\n",
       "  (<pydrake.geometry.optimization.HPolyhedron at 0x7fbb9126d170>,\n",
       "   <pydrake.geometry.optimization_dev.CspaceFreePolytope.SearchResult at 0x7fbb94716830>)]]"
      ]
     },
     "execution_count": 27,
     "metadata": {},
     "output_type": "execute_result"
    }
   ],
   "source": [
    "group"
   ]
  },
  {
   "cell_type": "markdown",
   "metadata": {},
   "source": [
    "# Growing regions with binary search\n",
    "\n",
    "### While the bilinear alternation scheme has the flexibility to search for fairly flexible polytopes, it can be relatively slow. We can search for larger regions faster by uniformly growing our polytopes using binary search"
   ]
  },
  {
   "cell_type": "code",
   "execution_count": null,
   "metadata": {},
   "outputs": [],
   "source": [
    "# We grow certified regions around each seedpoint using binary search.\n",
    "binary_search_results_by_seed_point = dict.fromkeys([tuple(s) for s in seed_points])\n",
    "for i, (s, initial_region) in enumerate(zip(seed_points, initial_regions)):\n",
    "    print(f\"starting seedpoint {i+1}/{len(initial_regions)}\")\n",
    "    time.sleep(0.2)\n",
    "    cert = cspace_free_polytope.BinarySearch(set(),initial_region.A(),\n",
    "                                               initial_region.b(),s,binary_search_options)\n",
    "    binary_search_results_by_seed_point[tuple(s)] = [(HPolyhedron(cert.C, cert.d), cert)]\n",
    "                                                     \n"
   ]
  },
  {
   "cell_type": "code",
   "execution_count": null,
   "metadata": {},
   "outputs": [],
   "source": [
    "# visualize the regions and corresponding certificates\n",
    "for i, result in enumerate(binary_search_results_by_seed_point.values()):\n",
    "    group_name = f\"/bin_search_seed_point_{i}\"\n",
    "    visualizer.add_group_of_regions_and_certs_to_visualization(result, group_name, \n",
    "                                                               wireframe = False, opacity = 0.2)"
   ]
  },
  {
   "cell_type": "markdown",
   "metadata": {},
   "source": [
    "## Combining Binary Search and Bilinear Alternation\n",
    "### Of course, we can get the best of both worlds by combining the two methods"
   ]
  },
  {
   "cell_type": "code",
   "execution_count": null,
   "metadata": {},
   "outputs": [],
   "source": [
    "# we use this to back off a bit from the binary search results for numerical reasons\n",
    "def scale_polytope_about_point(hpoly, s, scale):\n",
    "    if not hpoly.PointInSet(s):\n",
    "        raise ValueError(f\"The point s must be in the HPolyhedron\")\n",
    "    b_scaled = scale * hpoly.b() + (1 - scale) * hpoly.A() @ s\n",
    "    return HPolyhedron(hpoly.A(), b_scaled)\n",
    "    "
   ]
  },
  {
   "cell_type": "code",
   "execution_count": null,
   "metadata": {},
   "outputs": [],
   "source": [
    "# Now we grow certified regions around each seedpoint using bilinear alternation \n",
    "# starting from the binary certified regions.\n",
    "\n",
    "# There is currently a bug in Mosek that kills the kernel if you this cell.\n",
    "\n",
    "binary_and_bilinear_certified_regions = binary_search_results_by_seed_point.copy()\n",
    "# for i, (s, region_start) in enumerate(binary_and_bilinear_certified_regions.items()):\n",
    "#     if i > 2:\n",
    "#         break\n",
    "#     print(f\"starting seedpoint {i+1}/{len(initial_regions)}\")\n",
    "#     time.sleep(0.2)\n",
    "#     cur_s = np.array(s)\n",
    "#     bilinear_alternation_options.find_polytope_options.s_inner_pts = cur_s\n",
    "    \n",
    "#     # We back off a little bit from the binary search solution so that we don't encounter numerical issues.\n",
    "#     initial_region = scale_polytope_about_point(region_start[0][0], cur_s, 0.90)\n",
    "#     certificates = cspace_free_polytope.SearchWithBilinearAlternation(set(),\n",
    "#                                                                       initial_region.A(),\n",
    "#                                                                       initial_region.b(), \n",
    "#                                                                       bilinear_alternation_options)\n",
    "#     binary_and_bilinear_certified_regions[s] += [(HPolyhedron(result.C, result.d), result) for result in certificates]"
   ]
  },
  {
   "cell_type": "code",
   "execution_count": null,
   "metadata": {},
   "outputs": [],
   "source": [
    "# visualize the regions and corresponding certificates\n",
    "for i, result in enumerate(binary_and_bilinear_certified_regions.values()):\n",
    "    group_name = f\"/bin_then_bil_search_seed_point_{i}\"\n",
    "    visualizer.add_group_of_regions_and_certs_to_visualization(result, group_name, \n",
    "                                                               wireframe = False, opacity = 0.2)"
   ]
  },
  {
   "cell_type": "markdown",
   "metadata": {},
   "source": [
    "## Seeding and Certifying with a Stronger Heuristic\n",
    "We have also implemented another, strong heuristic for proposing good initial regions based on non-linear optimization. See Appendix TODO of our paper TODO for details"
   ]
  },
  {
   "cell_type": "code",
   "execution_count": null,
   "metadata": {},
   "outputs": [],
   "source": [
    "iris_regions = []\n",
    "iris_ellipses = []\n",
    "\n",
    "iris_options = IrisOptions()\n",
    "iris_options.require_sample_point_is_contained = True\n",
    "iris_options.configuration_space_margin = 1e-3\n",
    "iris_options.relative_termination_threshold = 0.001\n",
    "\n",
    "context_for_iris = visualizer.task_space_diagram_context\n",
    "for i, s in enumerate(seed_points):\n",
    "    q = Ratfk.ComputeQValue(s, np.zeros((2,)))\n",
    "    plant.SetPositions(plant.GetMyMutableContextFromRoot(context_for_iris), q)\n",
    "    r = IrisInRationalConfigurationSpace(plant, \n",
    "                                         plant.GetMyContextFromRoot(context_for_iris),\n",
    "                                         q_star, iris_options)\n",
    "    iris_regions.append(r)\n",
    "    iris_ellipses.append(r.MaximumVolumeInscribedEllipsoid())\n",
    "    \n",
    "\n"
   ]
  },
  {
   "cell_type": "code",
   "execution_count": null,
   "metadata": {},
   "outputs": [],
   "source": [
    "visualizer.add_group_of_regions_to_visualization(iris_regions, \"/uncertified-iris\", \n",
    "                                                            wireframe = False, opacity = 0.2)"
   ]
  },
  {
   "cell_type": "markdown",
   "metadata": {},
   "source": [
    "### These regions tend to be very large, but typically are not completely collision free. We can use the binary search method to find a uniform shrinking of these regions to prove their safety and then again improve them with bilinear alternations."
   ]
  },
  {
   "cell_type": "code",
   "execution_count": null,
   "metadata": {},
   "outputs": [],
   "source": [
    "binary_search_options_for_iris = CspaceFreePolytope.BinarySearchOptions()\n",
    "binary_search_options_for_iris.scale_max = 1 # it is highly unlikely that the regions can grow, but we can try\n",
    "binary_search_options_for_iris.find_lagrangian_options = find_separation_certificate_given_polytope_options\n",
    "binary_search_options_for_iris.max_iter = 50"
   ]
  },
  {
   "cell_type": "code",
   "execution_count": null,
   "metadata": {
    "scrolled": true
   },
   "outputs": [],
   "source": [
    "binary_search_region_certificates_for_iris = dict.fromkeys([tuple(s) for s in seed_points])\n",
    "for i, (s, initial_region) in enumerate(zip(seed_points, iris_regions)):\n",
    "    print(f\"starting seedpoint {i+1}/{len(iris_regions)}\")\n",
    "    time.sleep(0.2)    \n",
    "    cert = cspace_free_polytope.BinarySearch(set(),\n",
    "                                                    initial_region.A(),\n",
    "                                                    initial_region.b(), \n",
    "                                                    initial_region.MaximumVolumeInscribedEllipsoid().center(), \n",
    "                                                    binary_search_options_for_iris)\n",
    "    binary_search_region_certificates_for_iris[tuple(s)] = [(HPolyhedron(cert.C, cert.d), cert)]"
   ]
  },
  {
   "cell_type": "code",
   "execution_count": null,
   "metadata": {},
   "outputs": [],
   "source": [
    "for i, result in enumerate(binary_search_region_certificates_for_iris.values()):\n",
    "    group_name = f\"/certified-iris-bin_seed_point_{i}\"\n",
    "    visualizer.add_group_of_regions_and_certs_to_visualization(result, group_name, \n",
    "                                                            wireframe = False, opacity = 0.2)"
   ]
  },
  {
   "cell_type": "code",
   "execution_count": null,
   "metadata": {},
   "outputs": [],
   "source": [
    "# Finally we grow the regions again using bilinear alternations.\n",
    "\n",
    "# There is a numerical bug in Mosek that kills the kernel of we try this\n",
    "bilinear_certified_regions_iris = binary_search_region_certificates_for_iris.copy()\n",
    "\n",
    "# There is a numerical bug in Mosek that kills the kernel of we try this.\n",
    "# for i, (s, region_start) in enumerate(bilinear_certified_regions_iris.items()):\n",
    "#     print(f\"starting seedpoint {i+1}/{len(initial_regions)}\")\n",
    "#     time.sleep(0.2)\n",
    "#     cur_s = np.array(s)\n",
    "#     bilinear_alternation_options.find_polytope_options.s_inner_pts = cur_s\n",
    "    \n",
    "#     # We back off a little bit from the binary search solution so that we don't encounter numerical issues.\n",
    "#     initial_region = scale_polytope_about_point(region_start[0][0], cur_s, 0.90)\n",
    "#     certificates = cspace_free_polytope.SearchWithBilinearAlternation(set(),\n",
    "#                                                                       initial_region.A(),\n",
    "#                                                                       initial_region.b(), \n",
    "#                                                                       bilinear_alternation_options)\n",
    "#     bilinear_certified_regions_iris[s] += [(HPolyhedron(result.C, result.d), result) for result in certificates]"
   ]
  },
  {
   "cell_type": "code",
   "execution_count": null,
   "metadata": {},
   "outputs": [],
   "source": [
    "for i, result in enumerate(bilinear_certified_regions_iris.values()):\n",
    "    visualizer.add_group_of_regions_and_certs_to_visualization(result, \"/certified-iris-bin\", \n",
    "                                                            wireframe = False, opacity = 0.2)"
   ]
  },
  {
   "cell_type": "markdown",
   "metadata": {},
   "source": [
    "# Now it is time to play with the visualization! If you open the task space visualizer, we can highlight specific geometries and their separating planes in different regions.\n",
    "## Notice that when regions overlap, we get multiple planes certifying non-collision"
   ]
  },
  {
   "cell_type": "code",
   "execution_count": null,
   "metadata": {},
   "outputs": [],
   "source": [
    "# This plane certifies that the two tips of the flippers don't intersect\n",
    "visualizer.add_plane_indices_of_interest(118)\n",
    "\n",
    "# re-display the sliders for convenience\n",
    "for slider in sliders:\n",
    "    display(slider)"
   ]
  },
  {
   "cell_type": "code",
   "execution_count": null,
   "metadata": {},
   "outputs": [],
   "source": [
    "# Uncomment this cell for an interface for choosing good planes of interest\n",
    "# plane_indices = np.arange(0, len(cspace_free_polytope.separating_planes()))\n",
    "# last_plane_index = 0\n",
    "# cur_plane_index = 0\n",
    "# plane_indices_to_geometries = {v: k for k,v in cspace_free_polytope.map_geometries_to_separating_planes().items()}\n",
    "\n",
    "# while True:\n",
    "#     visualizer.meshcat_task_space.Delete(f\"/plane_{last_plane_index}\")\n",
    "#     geom1, geom2 = plane_indices_to_geometries[cur_plane_index]\n",
    "#     color = Rgba(0,0,1,1)\n",
    "    \n",
    "#     prefix = f\"/plane_{cur_plane_index}\"\n",
    "#     visualizer.highlight_geometry_id(geom1, color, prefix+f\"/{geom1}\")\n",
    "#     visualizer.highlight_geometry_id(geom2, color, prefix+f\"/{geom2}\")\n",
    "#     print(f\"current plane index = {cur_plane_index}\")\n",
    "    \n",
    "#     last_plane_index = cur_plane_index\n",
    "#     valid_key_pressed = False\n",
    "#     while not valid_key_pressed:\n",
    "#         key_press = input(\"Enter d to increase plane_count, a to decrease, and e to exit...\")\n",
    "#         if key_press in [\"a\", \"d\", \"e\"]:\n",
    "#             valid_key_pressed = True\n",
    "#     if key_press == \"a\":\n",
    "#         cur_plane_index = max(cur_plane_index - 1, min(plane_indices))\n",
    "#     elif key_press == \"d\":\n",
    "#         cur_plane_index = min(cur_plane_index + 1, max(plane_indices))\n",
    "#     elif key_press == \"e\":\n",
    "#         break\n",
    "#     print()"
   ]
  },
  {
   "cell_type": "code",
   "execution_count": null,
   "metadata": {},
   "outputs": [],
   "source": [
    "# Uncomment this cell for seeing all the planes associated to a particular geometry id\n",
    "# interesting_geometry = 92\n",
    "# plane_indices = np.arange(0, len(cspace_free_polytope.separating_planes()))\n",
    "# plane_indices_to_geometries = {v: k for k,v in cspace_free_polytope.map_geometries_to_separating_planes().items()}\n",
    "\n",
    "# associated_plane_indices = []\n",
    "# for plane_index, (geom1, geom2) in plane_indices_to_geometries.items():\n",
    "#     if interesting_geometry in (geom1.get_value(), geom2. get_value()):\n",
    "#         associated_plane_indices.append(plane_index)\n",
    "\n",
    "        \n",
    "# last_associated_index_index = 0\n",
    "# cur_associated_index_index = 0\n",
    "\n",
    "# visualizer.clear_plane_indices_of_interest()\n",
    "# while True:\n",
    "#     last_plane_index = associated_plane_indices[last_associated_index_index]\n",
    "#     cur_plane_index = associated_plane_indices[cur_associated_index_index]\n",
    "    \n",
    "#     print(f\"current plane index = {cur_plane_index}\")\n",
    "    \n",
    "#     visualizer.remove_plane_indices_of_interest(last_plane_index)\n",
    "#     visualizer.add_plane_indices_of_interest(cur_plane_index)\n",
    "    \n",
    "#     cur_q = visualizer.plant.GetPositions(visualizer.plant_context)\n",
    "#     visualizer.show_res_q(cur_q)\n",
    "    \n",
    "#     last_associated_index_index = cur_associated_index_index\n",
    "#     valid_key_pressed = False\n",
    "#     while not valid_key_pressed:\n",
    "#         key_press = input(\"Enter d to increase plane_count, a to decrease, and e to exit...\")\n",
    "#         if key_press in [\"a\", \"d\", \"e\"]:\n",
    "#             valid_key_pressed = True\n",
    "#     if key_press == \"a\":\n",
    "#         cur_associated_index_index = max(cur_associated_index_index - 1, min(associated_plane_indices))\n",
    "#     elif key_press == \"d\":\n",
    "#         cur_associated_index_index = min(cur_associated_index_index + 1, max(associated_plane_indices))\n",
    "#     elif key_press == \"e\":\n",
    "#         break\n",
    "#     print()"
   ]
  }
 ],
 "metadata": {
  "interpreter": {
   "hash": "31f2aee4e71d21fbe5cf8b01ff0e069b9275f58929596ceb00d14d90e3e16cd6"
  },
  "kernelspec": {
   "display_name": "Python 3 (ipykernel)",
   "language": "python",
   "name": "python3"
  },
  "language_info": {
   "codemirror_mode": {
    "name": "ipython",
    "version": 3
   },
   "file_extension": ".py",
   "mimetype": "text/x-python",
   "name": "python",
   "nbconvert_exporter": "python",
   "pygments_lexer": "ipython3",
   "version": "3.10.6"
  }
 },
 "nbformat": 4,
 "nbformat_minor": 2
}
