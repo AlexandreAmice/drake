{
 "cells": [
  {
   "cell_type": "code",
   "execution_count": 1,
   "metadata": {},
   "outputs": [],
   "source": [
    "%load_ext autoreload"
   ]
  },
  {
   "cell_type": "code",
   "execution_count": 2,
   "metadata": {},
   "outputs": [],
   "source": [
    "import numpy as np\n",
    "from functools import partial\n",
    "from iris_plant_visualizer import IrisPlantVisualizer\n",
    "import ipywidgets as widgets\n",
    "from IPython.display import display\n",
    "from scipy.linalg import block_diag"
   ]
  },
  {
   "cell_type": "code",
   "execution_count": 3,
   "metadata": {},
   "outputs": [],
   "source": [
    "#pydrake imports\n",
    "from pydrake.common import FindResourceOrThrow\n",
    "from pydrake.multibody.parsing import Parser\n",
    "from pydrake.multibody.plant import AddMultibodyPlantSceneGraph\n",
    "from pydrake.systems.framework import DiagramBuilder\n",
    "from pydrake.geometry import Role, GeometrySet, CollisionFilterDeclaration\n",
    "from pydrake.all import RigidTransform, RollPitchYaw, RevoluteJoint\n",
    "from pydrake.all import RotationMatrix, Rgba\n",
    "import time\n",
    "import pydrake.multibody.rational as rational_forward_kinematics\n",
    "from pydrake.all import RationalForwardKinematics\n",
    "from pydrake.geometry.optimization import IrisOptions, IrisInRationalConfigurationSpace, HPolyhedron, Hyperellipsoid\n",
    "from pydrake.solvers import MosekSolver, CommonSolverOption, SolverOptions"
   ]
  },
  {
   "cell_type": "code",
   "execution_count": 4,
   "metadata": {},
   "outputs": [],
   "source": [
    "from pydrake.geometry.optimization_dev import (CspaceFreePolytope, \n",
    "                                               SeparatingPlaneOrder)"
   ]
  },
  {
   "cell_type": "markdown",
   "metadata": {},
   "source": [
    "# Build and set up the visualization the plant and the visualization of the C-space obstacle\n",
    "\n",
    "We first set up a simple 2-DOF system and visualize both the plant and the configuration constraint.Click on the two links at the bottom to view the plant and the configuration space.\n",
    "\n",
    "Note that running this cell multiple times will establish multiple meshcat instances which can fill up your memory. It is a good idea to call \"pkill -f meshcat\" from the command line before re-running this cell\n"
   ]
  },
  {
   "cell_type": "code",
   "execution_count": 5,
   "metadata": {},
   "outputs": [
    {
     "name": "stderr",
     "output_type": "stream",
     "text": [
      "WARNING:drake:/home/amice/.cache/bazel/_bazel_amice/32fdbbecfa8a7ce8feece95e48c42006/execroot/drake/bazel-out/k8-opt/bin/C_Iris_Examples/pinball_iiwas_2d.runfiles/drake/C_Iris_Examples/assets/oneDOF_iiwa7_with_box_collision.sdf:425: warning: Ignoring unsupported SDFormat element in model: plugin\n",
      "WARNING:drake:/home/amice/.cache/bazel/_bazel_amice/32fdbbecfa8a7ce8feece95e48c42006/execroot/drake/bazel-out/k8-opt/bin/C_Iris_Examples/pinball_iiwas_2d.runfiles/drake/C_Iris_Examples/assets/oneDOF_iiwa7_with_box_collision.sdf:37: warning: Ignoring unsupported SDFormat element in link: self_collide\n",
      "WARNING:drake:/home/amice/.cache/bazel/_bazel_amice/32fdbbecfa8a7ce8feece95e48c42006/execroot/drake/bazel-out/k8-opt/bin/C_Iris_Examples/pinball_iiwas_2d.runfiles/drake/C_Iris_Examples/assets/oneDOF_iiwa7_with_box_collision.sdf:73: warning: Ignoring unsupported SDFormat element in link: self_collide\n",
      "WARNING:drake:/home/amice/.cache/bazel/_bazel_amice/32fdbbecfa8a7ce8feece95e48c42006/execroot/drake/bazel-out/k8-opt/bin/C_Iris_Examples/pinball_iiwas_2d.runfiles/drake/C_Iris_Examples/assets/oneDOF_iiwa7_with_box_collision.sdf:128: warning: Ignoring unsupported SDFormat element in link: self_collide\n",
      "WARNING:drake:/home/amice/.cache/bazel/_bazel_amice/32fdbbecfa8a7ce8feece95e48c42006/execroot/drake/bazel-out/k8-opt/bin/C_Iris_Examples/pinball_iiwas_2d.runfiles/drake/C_Iris_Examples/assets/oneDOF_iiwa7_with_box_collision.sdf:183: warning: Ignoring unsupported SDFormat element in link: self_collide\n",
      "WARNING:drake:/home/amice/.cache/bazel/_bazel_amice/32fdbbecfa8a7ce8feece95e48c42006/execroot/drake/bazel-out/k8-opt/bin/C_Iris_Examples/pinball_iiwas_2d.runfiles/drake/C_Iris_Examples/assets/oneDOF_iiwa7_with_box_collision.sdf:238: warning: Ignoring unsupported SDFormat element in link: self_collide\n",
      "WARNING:drake:/home/amice/.cache/bazel/_bazel_amice/32fdbbecfa8a7ce8feece95e48c42006/execroot/drake/bazel-out/k8-opt/bin/C_Iris_Examples/pinball_iiwas_2d.runfiles/drake/C_Iris_Examples/assets/oneDOF_iiwa7_with_box_collision.sdf:293: warning: Ignoring unsupported SDFormat element in link: self_collide\n",
      "WARNING:drake:/home/amice/.cache/bazel/_bazel_amice/32fdbbecfa8a7ce8feece95e48c42006/execroot/drake/bazel-out/k8-opt/bin/C_Iris_Examples/pinball_iiwas_2d.runfiles/drake/C_Iris_Examples/assets/oneDOF_iiwa7_with_box_collision.sdf:348: warning: Ignoring unsupported SDFormat element in link: self_collide\n",
      "WARNING:drake:/home/amice/.cache/bazel/_bazel_amice/32fdbbecfa8a7ce8feece95e48c42006/execroot/drake/bazel-out/k8-opt/bin/C_Iris_Examples/pinball_iiwas_2d.runfiles/drake/C_Iris_Examples/assets/oneDOF_iiwa7_with_box_collision.sdf:403: warning: Ignoring unsupported SDFormat element in link: self_collide\n",
      "WARNING:drake:/home/amice/.cache/bazel/_bazel_amice/32fdbbecfa8a7ce8feece95e48c42006/execroot/drake/bazel-out/k8-opt/bin/C_Iris_Examples/pinball_iiwas_2d.runfiles/drake/C_Iris_Examples/assets/oneDOF_iiwa7_with_box_collision.sdf:425: warning: Ignoring unsupported SDFormat element in model: plugin\n",
      "WARNING:drake:/home/amice/.cache/bazel/_bazel_amice/32fdbbecfa8a7ce8feece95e48c42006/execroot/drake/bazel-out/k8-opt/bin/C_Iris_Examples/pinball_iiwas_2d.runfiles/drake/C_Iris_Examples/assets/oneDOF_iiwa7_with_box_collision.sdf:37: warning: Ignoring unsupported SDFormat element in link: self_collide\n",
      "WARNING:drake:/home/amice/.cache/bazel/_bazel_amice/32fdbbecfa8a7ce8feece95e48c42006/execroot/drake/bazel-out/k8-opt/bin/C_Iris_Examples/pinball_iiwas_2d.runfiles/drake/C_Iris_Examples/assets/oneDOF_iiwa7_with_box_collision.sdf:73: warning: Ignoring unsupported SDFormat element in link: self_collide\n",
      "WARNING:drake:/home/amice/.cache/bazel/_bazel_amice/32fdbbecfa8a7ce8feece95e48c42006/execroot/drake/bazel-out/k8-opt/bin/C_Iris_Examples/pinball_iiwas_2d.runfiles/drake/C_Iris_Examples/assets/oneDOF_iiwa7_with_box_collision.sdf:128: warning: Ignoring unsupported SDFormat element in link: self_collide\n",
      "WARNING:drake:/home/amice/.cache/bazel/_bazel_amice/32fdbbecfa8a7ce8feece95e48c42006/execroot/drake/bazel-out/k8-opt/bin/C_Iris_Examples/pinball_iiwas_2d.runfiles/drake/C_Iris_Examples/assets/oneDOF_iiwa7_with_box_collision.sdf:183: warning: Ignoring unsupported SDFormat element in link: self_collide\n",
      "WARNING:drake:/home/amice/.cache/bazel/_bazel_amice/32fdbbecfa8a7ce8feece95e48c42006/execroot/drake/bazel-out/k8-opt/bin/C_Iris_Examples/pinball_iiwas_2d.runfiles/drake/C_Iris_Examples/assets/oneDOF_iiwa7_with_box_collision.sdf:238: warning: Ignoring unsupported SDFormat element in link: self_collide\n",
      "WARNING:drake:/home/amice/.cache/bazel/_bazel_amice/32fdbbecfa8a7ce8feece95e48c42006/execroot/drake/bazel-out/k8-opt/bin/C_Iris_Examples/pinball_iiwas_2d.runfiles/drake/C_Iris_Examples/assets/oneDOF_iiwa7_with_box_collision.sdf:293: warning: Ignoring unsupported SDFormat element in link: self_collide\n",
      "WARNING:drake:/home/amice/.cache/bazel/_bazel_amice/32fdbbecfa8a7ce8feece95e48c42006/execroot/drake/bazel-out/k8-opt/bin/C_Iris_Examples/pinball_iiwas_2d.runfiles/drake/C_Iris_Examples/assets/oneDOF_iiwa7_with_box_collision.sdf:348: warning: Ignoring unsupported SDFormat element in link: self_collide\n",
      "WARNING:drake:/home/amice/.cache/bazel/_bazel_amice/32fdbbecfa8a7ce8feece95e48c42006/execroot/drake/bazel-out/k8-opt/bin/C_Iris_Examples/pinball_iiwas_2d.runfiles/drake/C_Iris_Examples/assets/oneDOF_iiwa7_with_box_collision.sdf:403: warning: Ignoring unsupported SDFormat element in link: self_collide\n",
      "INFO:drake:Meshcat listening for connections at http://localhost:7002\n",
      "INFO:drake:Meshcat listening for connections at http://localhost:7003\n"
     ]
    }
   ],
   "source": [
    "#construct our robot\n",
    "builder = DiagramBuilder()\n",
    "plant, scene_graph = AddMultibodyPlantSceneGraph(builder, time_step=0.001)\n",
    "parser = Parser(plant)\n",
    "oneDOF_iiwa_asset = FindResourceOrThrow(\"drake/C_Iris_Examples/assets/oneDOF_iiwa7_with_box_collision.sdf\")\n",
    "\n",
    "box_asset = FindResourceOrThrow(\"drake/C_Iris_Examples/assets/box_small.urdf\")\n",
    "\n",
    "models = []\n",
    "models.append(parser.AddModelFromFile(box_asset))\n",
    "models.append(parser.AddModelFromFile(oneDOF_iiwa_asset, 'right_sweeper'))\n",
    "models.append(parser.AddModelFromFile(oneDOF_iiwa_asset, 'left_sweeper'))\n",
    "locs = [[0.,0.,0.],\n",
    "        [0,1,0.85],\n",
    "        [0,-1,0.55]]\n",
    "plant.WeldFrames(plant.world_frame(), \n",
    "                 plant.GetFrameByName(\"base\", models[0]),\n",
    "                 RigidTransform(locs[0]))\n",
    "\n",
    "t1 = RigidTransform(RollPitchYaw([np.pi/2, 0, 0]).ToRotationMatrix(), locs[1])@RigidTransform(RollPitchYaw([0, 0, np.pi/2]), np.zeros(3))\n",
    "t2 = RigidTransform(RollPitchYaw([-np.pi/2, 0, 0]).ToRotationMatrix(), locs[2])@RigidTransform(RollPitchYaw([0, 0, np.pi/2]), np.zeros(3))\n",
    "plant.WeldFrames(plant.world_frame(), \n",
    "                 plant.GetFrameByName(\"iiwa_oneDOF_link_0\", models[1]), \n",
    "                 t1)\n",
    "plant.WeldFrames(plant.world_frame(), \n",
    "                 plant.GetFrameByName(\"iiwa_oneDOF_link_0\", models[2]), \n",
    "                 t2)\n",
    "\n",
    "\n",
    "plant.Finalize()\n",
    "idx = 0\n",
    "q0 = [0.0, 0.0]\n",
    "val = 1.7\n",
    "q_low  = np.array([-val, -val])\n",
    "q_high = np.array([val, val])\n",
    "# set the joint limits of the plant\n",
    "for model in models:\n",
    "    for joint_index in plant.GetJointIndices(model):\n",
    "        joint = plant.get_mutable_joint(joint_index)\n",
    "        if isinstance(joint, RevoluteJoint):\n",
    "            joint.set_default_angle(q0[idx])\n",
    "            joint.set_position_limits(lower_limits= np.array([q_low[idx]]), upper_limits= np.array([q_high[idx]]))\n",
    "            idx += 1\n",
    "        \n",
    "# construct the RationalForwardKinematics of this plant. This object handles the\n",
    "# computations for the forward kinematics in the tangent-configuration space\n",
    "Ratfk = RationalForwardKinematics(plant)\n",
    "\n",
    "# the point about which we will take the stereographic projections\n",
    "q_star = np.zeros(plant.num_positions())\n",
    "\n",
    "do_viz = True\n",
    "\n",
    "# The object we will use to perform our certification.\n",
    "cspace_free_polytope = CspaceFreePolytope(plant, scene_graph, SeparatingPlaneOrder.kAffine, q_star)\n",
    "\n",
    "# This line builds the visualization. Change the viz_role to Role.kIllustration if you\n",
    "# want to see the plant with its illustrated geometry or to Role.kProximity if you want\n",
    "# to see the plant with the collision geometries.\n",
    "visualizer = IrisPlantVisualizer(plant, builder, scene_graph, cspace_free_polytope, viz_role=Role.kIllustration)\n",
    "visualizer.visualize_collision_constraint(factor = 1.2, num_points = 100)\n",
    "visualizer.meshcat_cspace.Set2dRenderMode(RigidTransform(RotationMatrix.MakeZRotation(0), np.array([0,0,1])))\n",
    "visualizer.meshcat_task_space.Set2dRenderMode(RigidTransform(RotationMatrix.MakeZRotation(0), np.array([1,0,0])))"
   ]
  },
  {
   "cell_type": "markdown",
   "metadata": {},
   "source": [
    "## Set up the sliders so we can move the plant around manually\n",
    "\n",
    "You can use the sliders below to move the two degrees of freedom of the plant around. A green dot will appear in the TC-space visualization describing the current TC-space configuration."
   ]
  },
  {
   "cell_type": "code",
   "execution_count": 6,
   "metadata": {
    "scrolled": false
   },
   "outputs": [
    {
     "name": "stderr",
     "output_type": "stream",
     "text": [
      "Widget Javascript not detected.  It may not be installed or enabled properly. Reconnecting the current kernel may help.\n"
     ]
    },
    {
     "data": {
      "application/vnd.jupyter.widget-view+json": {
       "model_id": "410a9474c71e4721919b4b1f383a9b26"
      }
     },
     "metadata": {},
     "output_type": "display_data"
    },
    {
     "name": "stderr",
     "output_type": "stream",
     "text": [
      "Widget Javascript not detected.  It may not be installed or enabled properly. Reconnecting the current kernel may help.\n"
     ]
    },
    {
     "data": {
      "application/vnd.jupyter.widget-view+json": {
       "model_id": "a95bca2e6eec48c9936f32e3ce86e0f5"
      }
     },
     "metadata": {},
     "output_type": "display_data"
    }
   ],
   "source": [
    "sliders = []\n",
    "sliders.append(widgets.FloatSlider(min=q_low[0], max=q_high[0], value=0, description='q0'))\n",
    "sliders.append(widgets.FloatSlider(min=q_low[1], max=q_high[1], value=0, description='q1'))\n",
    "\n",
    "q = q0.copy()\n",
    "def handle_slider_change(change, idx):\n",
    "    q[idx] = change['new']\n",
    "    visualizer.show_res_q(q)\n",
    "    \n",
    "idx = 0\n",
    "for slider in sliders:\n",
    "    slider.observe(partial(handle_slider_change, idx = idx), names='value')\n",
    "    idx+=1\n",
    "\n",
    "for slider in sliders:\n",
    "    display(slider)\n"
   ]
  },
  {
   "cell_type": "markdown",
   "metadata": {},
   "source": [
    "# Generate and Certify Regions\n",
    "\n",
    "Around some nominal seed postures, we will grow certified regions by seeding our alternation algorithm using a small initial polytope."
   ]
  },
  {
   "cell_type": "code",
   "execution_count": 7,
   "metadata": {},
   "outputs": [],
   "source": [
    "# Some seedpoints\n",
    "seed_points_q = np.array([   [0.0, 0],\n",
    "                              [0.7, -0.9],\n",
    "                              [-0.5, -0.5],\n",
    "                              [0.4,-1.3]\n",
    "                              ])\n",
    "seed_points = np.array([Ratfk.ComputeSValue(seed_points_q[idx], np.zeros((2,)))\\\n",
    "                        for idx in range(seed_points_q.shape[0])])\n",
    "if do_viz:\n",
    "    visualizer.plot_cspace_points(seed_points, \"/iris_seed_points\")\n",
    "    \n",
    "\n",
    "\n",
    "default_scale = 1e-2\n",
    "L1_ball = HPolyhedron.MakeL1Ball(2)\n",
    "Linf_ball = HPolyhedron.MakeBox(-np.ones(2), np.ones(2))\n",
    "\n",
    "template_C = np.vstack([L1_ball.A(), Linf_ball.A()])\n",
    "template_d = np.hstack([default_scale*L1_ball.b(), default_scale/np.sqrt(2)*Linf_ball.b()])\n",
    "\n",
    "\n",
    "def make_default_polytope_at_point(seed_point):\n",
    "    return HPolyhedron(template_C, template_d + template_C @ seed_point)\n",
    "\n",
    "\n",
    "# colors to plot the region. Chosen for color-blind compatibility\n",
    "colors_dict = {\n",
    "    0: (144,144,144),\n",
    "    1:(30,136,229), # bluish\n",
    "    2: (255, 193, 7), # gold\n",
    "    3: (0, 140, 6), # green    \n",
    "}\n",
    "\n",
    "initial_regions = [make_default_polytope_at_point(s) for s in seed_points]\n",
    "visualizer.add_group_of_regions_to_visualization(initial_regions, \"initial_regions\",\n",
    "                            colors = list(colors_dict.values()),\n",
    "                            wireframe = False,\n",
    "                           opacity = 0.2)\n",
    "visualizer.show_res_q(q_star)"
   ]
  },
  {
   "cell_type": "markdown",
   "metadata": {},
   "source": [
    "## First we set up some options for our different certification modes"
   ]
  },
  {
   "cell_type": "code",
   "execution_count": 8,
   "metadata": {},
   "outputs": [],
   "source": [
    "# set up the certifier and the options for different search techniques\n",
    "solver_options = SolverOptions()\n",
    "# set this to 1 if you would like to see the solver output in terminal.\n",
    "solver_options.SetOption(CommonSolverOption.kPrintToConsole, 0)\n",
    "\n",
    "# The options for when we search for new planes and positivity certificates given the polytopes\n",
    "find_separation_certificate_given_polytope_options = CspaceFreePolytope.FindSeparationCertificateGivenPolytopeOptions()\n",
    "find_separation_certificate_given_polytope_options.num_threads = -1\n",
    "find_separation_certificate_given_polytope_options.verbose = False\n",
    "find_separation_certificate_given_polytope_options.solver_options = solver_options\n",
    "find_separation_certificate_given_polytope_options.ignore_redundant_C = True\n",
    "\n",
    "# The options for when we search for a new polytope given positivity certificates.\n",
    "find_polytope_given_lagrangian_option = CspaceFreePolytope.FindPolytopeGivenLagrangianOptions()\n",
    "find_polytope_given_lagrangian_option.solver_options = solver_options\n",
    "find_polytope_given_lagrangian_option.ellipsoid_margin_cost = CspaceFreePolytope.EllipsoidMarginCost.kGeometricMean\n",
    "find_polytope_given_lagrangian_option.search_s_bounds_lagrangians = False\n",
    "\n",
    "bilinear_alternation_options = CspaceFreePolytope.BilinearAlternationOptions()\n",
    "bilinear_alternation_options.max_iter = 20\n",
    "bilinear_alternation_options.convergence_tol = 1e-5\n",
    "bilinear_alternation_options.find_polytope_options = find_polytope_given_lagrangian_option\n",
    "bilinear_alternation_options.find_lagrangian_options = find_separation_certificate_given_polytope_options\n",
    "\n",
    "binary_search_options = CspaceFreePolytope.BinarySearchOptions()\n",
    "binary_search_options.find_lagrangian_options = find_separation_certificate_given_polytope_options\n",
    "binary_search_options.scale_min = 1\n",
    "binary_search_options.scale_max = 50\n",
    "binary_search_options.max_iter = 50"
   ]
  },
  {
   "cell_type": "markdown",
   "metadata": {},
   "source": [
    "# Growing regions with bilinear alternations search\n",
    "\n",
    "### As the initial regions are fairly small, they won't contain collisions and so can be directly fed into the bilinear alternation algorithm."
   ]
  },
  {
   "cell_type": "code",
   "execution_count": 9,
   "metadata": {},
   "outputs": [
    {
     "name": "stderr",
     "output_type": "stream",
     "text": [
      "INFO:drake:det(Q) at the beginning is 4.900500382473016e-05\n",
      "INFO:drake:Iteration 0: det(Q)=0.00011278230573621608\n"
     ]
    },
    {
     "name": "stdout",
     "output_type": "stream",
     "text": [
      "starting seedpoint 1/4\n"
     ]
    },
    {
     "name": "stderr",
     "output_type": "stream",
     "text": [
      "INFO:drake:Iteration 1: det(Q)=0.00017864813149874473\n",
      "INFO:drake:Iteration 2: det(Q)=0.0002825445766729053\n",
      "INFO:drake:Iteration 3: det(Q)=0.00046220513733908177\n",
      "INFO:drake:Iteration 4: det(Q)=0.0006753481306711874\n",
      "INFO:drake:Iteration 5: det(Q)=0.0008952907317779904\n",
      "INFO:drake:Iteration 6: det(Q)=0.0011232365608172252\n",
      "INFO:drake:Iteration 7: det(Q)=0.0013754637144859977\n",
      "INFO:drake:Iteration 8: det(Q)=0.0016715446499240042\n",
      "INFO:drake:Iteration 9: det(Q)=0.0020349554029612704\n",
      "INFO:drake:Iteration 10: det(Q)=0.002610160226800777\n",
      "INFO:drake:Iteration 11: det(Q)=0.003349695801760583\n",
      "INFO:drake:Iteration 12: det(Q)=0.004429241281244841\n",
      "INFO:drake:Iteration 13: det(Q)=0.005904518764648443\n",
      "INFO:drake:Iteration 14: det(Q)=0.007429447599027228\n",
      "INFO:drake:Iteration 15: det(Q)=0.009039930445571973\n",
      "INFO:drake:Iteration 16: det(Q)=0.010666387730095782\n",
      "INFO:drake:Iteration 17: det(Q)=0.012499250112713701\n",
      "INFO:drake:Iteration 18: det(Q)=0.014620798237017604\n",
      "INFO:drake:Iteration 19: det(Q)=0.016664569730164586\n",
      "INFO:drake:det(Q) at the beginning is 4.9005001094506195e-05\n",
      "INFO:drake:Iteration 0: det(Q)=5.9133747214194386e-05\n"
     ]
    },
    {
     "name": "stdout",
     "output_type": "stream",
     "text": [
      "starting seedpoint 2/4\n"
     ]
    },
    {
     "name": "stderr",
     "output_type": "stream",
     "text": [
      "INFO:drake:Iteration 1: det(Q)=7.245940822629495e-05\n",
      "WARNING:drake:Failed before backoff.\n",
      "ERROR:drake:Cannot find the separation certificate at iteration 2 given the Lagrangians.\n",
      "INFO:drake:det(Q) at the beginning is 4.900500387407825e-05\n",
      "INFO:drake:Iteration 0: det(Q)=0.0002146638324078905\n"
     ]
    },
    {
     "name": "stdout",
     "output_type": "stream",
     "text": [
      "starting seedpoint 3/4\n"
     ]
    },
    {
     "name": "stderr",
     "output_type": "stream",
     "text": [
      "INFO:drake:Iteration 1: det(Q)=0.00039713936969609375\n",
      "INFO:drake:Iteration 2: det(Q)=0.0005720886988428987\n",
      "INFO:drake:Iteration 3: det(Q)=0.0007404401356620183\n",
      "INFO:drake:Iteration 4: det(Q)=0.0009134063313506422\n",
      "INFO:drake:Iteration 5: det(Q)=0.00130686645094528\n",
      "INFO:drake:Iteration 6: det(Q)=0.0017716344385888731\n",
      "INFO:drake:Iteration 7: det(Q)=0.002320192711355273\n",
      "INFO:drake:Iteration 8: det(Q)=0.002993565575865176\n",
      "INFO:drake:Iteration 9: det(Q)=0.003840830193029563\n",
      "INFO:drake:Iteration 10: det(Q)=0.004931381171997316\n",
      "INFO:drake:Iteration 11: det(Q)=0.00644840001677123\n",
      "INFO:drake:Iteration 12: det(Q)=0.008334588005261937\n",
      "INFO:drake:Iteration 13: det(Q)=0.010636246658188147\n",
      "INFO:drake:Iteration 14: det(Q)=0.013000543416882998\n",
      "INFO:drake:Iteration 15: det(Q)=0.015582285298355801\n",
      "INFO:drake:Iteration 16: det(Q)=0.018308815732766427\n",
      "INFO:drake:Iteration 17: det(Q)=0.021520905136322883\n",
      "INFO:drake:Iteration 18: det(Q)=0.0245469295636249\n",
      "INFO:drake:Iteration 19: det(Q)=0.027830879486055227\n",
      "INFO:drake:det(Q) at the beginning is 4.900500574033146e-05\n",
      "INFO:drake:Iteration 0: det(Q)=0.00021839200467079633\n"
     ]
    },
    {
     "name": "stdout",
     "output_type": "stream",
     "text": [
      "starting seedpoint 4/4\n"
     ]
    },
    {
     "name": "stderr",
     "output_type": "stream",
     "text": [
      "INFO:drake:Iteration 1: det(Q)=0.0004988614950840203\n",
      "INFO:drake:Iteration 2: det(Q)=0.0008230893065319209\n",
      "INFO:drake:Iteration 3: det(Q)=0.00120126340625012\n",
      "INFO:drake:Iteration 4: det(Q)=0.0016940963772960633\n",
      "INFO:drake:Iteration 5: det(Q)=0.002324623477071726\n",
      "INFO:drake:Iteration 6: det(Q)=0.0030921194646203578\n",
      "WARNING:drake:Failed before backoff.\n",
      "ERROR:drake:Cannot find the separation certificate at iteration 7 given the Lagrangians.\n"
     ]
    }
   ],
   "source": [
    "# We grow certified regions around each seedpoint using bilinear alternation.\n",
    "bilinear_alternation_results_by_seed_point = dict.fromkeys([tuple(s) for s in seed_points])\n",
    "for i, (s, initial_region) in enumerate(zip(seed_points, initial_regions)):\n",
    "    print(f\"starting seedpoint {i+1}/{len(initial_regions)}\")\n",
    "    bilinear_alternation_options.find_polytope_options.s_inner_pts = s\n",
    "    result = cspace_free_polytope.SearchWithBilinearAlternation(set(), initial_region.A(),\n",
    "                                                                initial_region.b(),\n",
    "                                                                bilinear_alternation_options)\n",
    "    bilinear_alternation_results_by_seed_point[tuple(s)] = [(HPolyhedron(cert.C, cert.d), cert) for cert in result]\n",
    "    \n",
    "\n"
   ]
  },
  {
   "cell_type": "code",
   "execution_count": 10,
   "metadata": {},
   "outputs": [],
   "source": [
    "# visualize the regions and corresponding certificates\n",
    "for i, result in enumerate(bilinear_alternation_results_by_seed_point.values()):\n",
    "    group_name = f\"/bil_alt_seed_point_{i}\"\n",
    "    visualizer.add_group_of_regions_and_certs_to_visualization(result, group_name, \n",
    "                                                               wireframe = False, opacity = 0.2)"
   ]
  },
  {
   "cell_type": "markdown",
   "metadata": {},
   "source": [
    "# Growing regions with binary search\n",
    "\n",
    "### While the bilinear alternation scheme has the flexibility to search for fairly flexible polytopes, it can be relatively slow. We can search for larger regions faster by uniformly growing our polytopes using binary search"
   ]
  },
  {
   "cell_type": "code",
   "execution_count": 11,
   "metadata": {},
   "outputs": [
    {
     "name": "stdout",
     "output_type": "stream",
     "text": [
      "starting seedpoint 1/4\n"
     ]
    },
    {
     "name": "stderr",
     "output_type": "stream",
     "text": [
      "INFO:drake:CspaceFreePolytope::BinarySearch(): scale=25.5 is infeasible\n",
      "INFO:drake:CspaceFreePolytope::BinarySearch(): scale=13.25 is infeasible\n",
      "INFO:drake:CspaceFreePolytope::BinarySearch(): scale=7.125 is feasible\n",
      "INFO:drake:CspaceFreePolytope::BinarySearch(): scale=10.1875 is feasible\n",
      "INFO:drake:CspaceFreePolytope::BinarySearch(): scale=11.71875 is infeasible\n",
      "INFO:drake:CspaceFreePolytope::BinarySearch(): scale=10.953125 is feasible\n",
      "INFO:drake:CspaceFreePolytope::BinarySearch(): scale=11.3359375 is infeasible\n",
      "INFO:drake:CspaceFreePolytope::BinarySearch(): scale=11.14453125 is infeasible\n",
      "INFO:drake:CspaceFreePolytope::BinarySearch(): scale=11.048828125 is infeasible\n",
      "INFO:drake:CspaceFreePolytope::BinarySearch(): scale=11.0009765625 is feasible\n",
      "INFO:drake:CspaceFreePolytope::BinarySearch(): scale=11.02490234375 is infeasible\n",
      "INFO:drake:CspaceFreePolytope::BinarySearch(): scale=11.012939453125 is infeasible\n",
      "INFO:drake:CspaceFreePolytope::BinarySearch(): scale=11.0069580078125 is infeasible\n",
      "INFO:drake:CspaceFreePolytope::BinarySearch(): scale=11.00396728515625 is feasible\n",
      "INFO:drake:CspaceFreePolytope::BinarySearch(): scale=11.005462646484375 is infeasible\n",
      "INFO:drake:CspaceFreePolytope::BinarySearch(): scale=11.004714965820312 is infeasible\n"
     ]
    },
    {
     "name": "stdout",
     "output_type": "stream",
     "text": [
      "starting seedpoint 2/4\n"
     ]
    },
    {
     "name": "stderr",
     "output_type": "stream",
     "text": [
      "INFO:drake:CspaceFreePolytope::BinarySearch(): scale=25.5 is infeasible\n",
      "INFO:drake:CspaceFreePolytope::BinarySearch(): scale=13.25 is infeasible\n",
      "INFO:drake:CspaceFreePolytope::BinarySearch(): scale=7.125 is infeasible\n",
      "INFO:drake:CspaceFreePolytope::BinarySearch(): scale=4.0625 is infeasible\n",
      "INFO:drake:CspaceFreePolytope::BinarySearch(): scale=2.53125 is infeasible\n",
      "INFO:drake:CspaceFreePolytope::BinarySearch(): scale=1.765625 is feasible\n",
      "INFO:drake:CspaceFreePolytope::BinarySearch(): scale=2.1484375 is infeasible\n",
      "INFO:drake:CspaceFreePolytope::BinarySearch(): scale=1.95703125 is infeasible\n",
      "INFO:drake:CspaceFreePolytope::BinarySearch(): scale=1.861328125 is infeasible\n",
      "INFO:drake:CspaceFreePolytope::BinarySearch(): scale=1.8134765625 is feasible\n",
      "INFO:drake:CspaceFreePolytope::BinarySearch(): scale=1.83740234375 is infeasible\n",
      "INFO:drake:CspaceFreePolytope::BinarySearch(): scale=1.825439453125 is infeasible\n",
      "INFO:drake:CspaceFreePolytope::BinarySearch(): scale=1.8194580078125 is infeasible\n",
      "INFO:drake:CspaceFreePolytope::BinarySearch(): scale=1.81646728515625 is infeasible\n",
      "INFO:drake:CspaceFreePolytope::BinarySearch(): scale=1.814971923828125 is feasible\n",
      "INFO:drake:CspaceFreePolytope::BinarySearch(): scale=1.8157196044921875 is feasible\n"
     ]
    },
    {
     "name": "stdout",
     "output_type": "stream",
     "text": [
      "starting seedpoint 3/4\n"
     ]
    },
    {
     "name": "stderr",
     "output_type": "stream",
     "text": [
      "INFO:drake:CspaceFreePolytope::BinarySearch(): scale=25.5 is infeasible\n",
      "INFO:drake:CspaceFreePolytope::BinarySearch(): scale=13.25 is feasible\n",
      "INFO:drake:CspaceFreePolytope::BinarySearch(): scale=19.375 is infeasible\n",
      "INFO:drake:CspaceFreePolytope::BinarySearch(): scale=16.3125 is feasible\n",
      "INFO:drake:CspaceFreePolytope::BinarySearch(): scale=17.84375 is infeasible\n",
      "INFO:drake:CspaceFreePolytope::BinarySearch(): scale=17.078125 is infeasible\n",
      "INFO:drake:CspaceFreePolytope::BinarySearch(): scale=16.6953125 is infeasible\n",
      "INFO:drake:CspaceFreePolytope::BinarySearch(): scale=16.50390625 is infeasible\n",
      "INFO:drake:CspaceFreePolytope::BinarySearch(): scale=16.408203125 is infeasible\n",
      "INFO:drake:CspaceFreePolytope::BinarySearch(): scale=16.3603515625 is infeasible\n",
      "INFO:drake:CspaceFreePolytope::BinarySearch(): scale=16.33642578125 is infeasible\n",
      "INFO:drake:CspaceFreePolytope::BinarySearch(): scale=16.324462890625 is infeasible\n",
      "INFO:drake:CspaceFreePolytope::BinarySearch(): scale=16.3184814453125 is infeasible\n",
      "INFO:drake:CspaceFreePolytope::BinarySearch(): scale=16.31549072265625 is feasible\n",
      "INFO:drake:CspaceFreePolytope::BinarySearch(): scale=16.316986083984375 is infeasible\n",
      "INFO:drake:CspaceFreePolytope::BinarySearch(): scale=16.316238403320312 is infeasible\n"
     ]
    },
    {
     "name": "stdout",
     "output_type": "stream",
     "text": [
      "starting seedpoint 4/4\n"
     ]
    },
    {
     "name": "stderr",
     "output_type": "stream",
     "text": [
      "INFO:drake:CspaceFreePolytope::BinarySearch(): scale=25.5 is infeasible\n",
      "INFO:drake:CspaceFreePolytope::BinarySearch(): scale=13.25 is feasible\n",
      "INFO:drake:CspaceFreePolytope::BinarySearch(): scale=19.375 is feasible\n",
      "INFO:drake:CspaceFreePolytope::BinarySearch(): scale=22.4375 is feasible\n",
      "INFO:drake:CspaceFreePolytope::BinarySearch(): scale=23.96875 is feasible\n",
      "INFO:drake:CspaceFreePolytope::BinarySearch(): scale=24.734375 is feasible\n",
      "INFO:drake:CspaceFreePolytope::BinarySearch(): scale=25.1171875 is infeasible\n",
      "INFO:drake:CspaceFreePolytope::BinarySearch(): scale=24.92578125 is infeasible\n",
      "INFO:drake:CspaceFreePolytope::BinarySearch(): scale=24.830078125 is infeasible\n",
      "INFO:drake:CspaceFreePolytope::BinarySearch(): scale=24.7822265625 is infeasible\n",
      "INFO:drake:CspaceFreePolytope::BinarySearch(): scale=24.75830078125 is feasible\n",
      "INFO:drake:CspaceFreePolytope::BinarySearch(): scale=24.770263671875 is feasible\n",
      "INFO:drake:CspaceFreePolytope::BinarySearch(): scale=24.7762451171875 is infeasible\n",
      "INFO:drake:CspaceFreePolytope::BinarySearch(): scale=24.77325439453125 is infeasible\n",
      "INFO:drake:CspaceFreePolytope::BinarySearch(): scale=24.771759033203125 is infeasible\n",
      "INFO:drake:CspaceFreePolytope::BinarySearch(): scale=24.771011352539062 is feasible\n"
     ]
    }
   ],
   "source": [
    "# We grow certified regions around each seedpoint using binary search.\n",
    "binary_search_results_by_seed_point = dict.fromkeys([tuple(s) for s in seed_points])\n",
    "for i, (s, initial_region) in enumerate(zip(seed_points, initial_regions)):\n",
    "    print(f\"starting seedpoint {i+1}/{len(initial_regions)}\")\n",
    "    time.sleep(0.2)\n",
    "    cert = cspace_free_polytope.BinarySearch(set(),initial_region.A(),\n",
    "                                               initial_region.b(),s,binary_search_options)\n",
    "    binary_search_results_by_seed_point[tuple(s)] = [(HPolyhedron(cert.C, cert.d), cert)]\n",
    "                                                     \n"
   ]
  },
  {
   "cell_type": "code",
   "execution_count": 12,
   "metadata": {},
   "outputs": [],
   "source": [
    "# visualize the regions and corresponding certificates\n",
    "for i, result in enumerate(binary_search_results_by_seed_point.values()):\n",
    "    group_name = f\"/bin_search_seed_point_{i}\"\n",
    "    visualizer.add_group_of_regions_and_certs_to_visualization(result, group_name, \n",
    "                                                               wireframe = False, opacity = 0.2)"
   ]
  },
  {
   "cell_type": "markdown",
   "metadata": {},
   "source": [
    "## Combining Binary Search and Bilinear Alternation\n",
    "### Of course, we can get the best of both worlds by combining the two methods"
   ]
  },
  {
   "cell_type": "code",
   "execution_count": 13,
   "metadata": {},
   "outputs": [],
   "source": [
    "# we use this to back off a bit from the binary search results for numerical reasons\n",
    "def scale_polytope_about_point(hpoly, s, scale):\n",
    "    if not hpoly.PointInSet(s):\n",
    "        raise ValueError(f\"The point s must be in the HPolyhedron\")\n",
    "    b_scaled = scale * hpoly.b() + (1 - scale) * hpoly.A() @ s\n",
    "    return HPolyhedron(hpoly.A(), b_scaled)\n",
    "    "
   ]
  },
  {
   "cell_type": "code",
   "execution_count": 14,
   "metadata": {},
   "outputs": [],
   "source": [
    "# Now we grow certified regions around each seedpoint using bilinear alternation \n",
    "# starting from the binary certified regions.\n",
    "\n",
    "# There is currently a bug in Mosek that kills the kernel if you this cell.\n",
    "\n",
    "binary_and_bilinear_certified_regions = binary_search_results_by_seed_point.copy()\n",
    "# for i, (s, region_start) in enumerate(binary_and_bilinear_certified_regions.items()):\n",
    "#     if i > 2:\n",
    "#         break\n",
    "#     print(f\"starting seedpoint {i+1}/{len(initial_regions)}\")\n",
    "#     time.sleep(0.2)\n",
    "#     cur_s = np.array(s)\n",
    "#     bilinear_alternation_options.find_polytope_options.s_inner_pts = cur_s\n",
    "    \n",
    "#     # We back off a little bit from the binary search solution so that we don't encounter numerical issues.\n",
    "#     initial_region = scale_polytope_about_point(region_start[0][0], cur_s, 0.90)\n",
    "#     certificates = cspace_free_polytope.SearchWithBilinearAlternation(set(),\n",
    "#                                                                       initial_region.A(),\n",
    "#                                                                       initial_region.b(), \n",
    "#                                                                       bilinear_alternation_options)\n",
    "#     binary_and_bilinear_certified_regions[s] += [(HPolyhedron(result.C, result.d), result) for result in certificates]"
   ]
  },
  {
   "cell_type": "code",
   "execution_count": 15,
   "metadata": {},
   "outputs": [],
   "source": [
    "# visualize the regions and corresponding certificates\n",
    "for i, result in enumerate(binary_and_bilinear_certified_regions.values()):\n",
    "    group_name = f\"/bin_then_bil_search_seed_point_{i}\"\n",
    "    visualizer.add_group_of_regions_and_certs_to_visualization(result, group_name, \n",
    "                                                               wireframe = False, opacity = 0.2)"
   ]
  },
  {
   "cell_type": "markdown",
   "metadata": {},
   "source": [
    "## Seeding and Certifying with a Stronger Heuristic\n",
    "We have also implemented another, strong heuristic for proposing good initial regions based on non-linear optimization. See Appendix TODO of our paper TODO for details"
   ]
  },
  {
   "cell_type": "code",
   "execution_count": 16,
   "metadata": {},
   "outputs": [],
   "source": [
    "iris_regions = []\n",
    "iris_ellipses = []\n",
    "\n",
    "iris_options = IrisOptions()\n",
    "iris_options.require_sample_point_is_contained = True\n",
    "iris_options.configuration_space_margin = 1e-3\n",
    "iris_options.relative_termination_threshold = 0.001\n",
    "\n",
    "context_for_iris = visualizer.task_space_diagram_context\n",
    "for i, s in enumerate(seed_points):\n",
    "    q = Ratfk.ComputeQValue(s, np.zeros((2,)))\n",
    "    plant.SetPositions(plant.GetMyMutableContextFromRoot(context_for_iris), q)\n",
    "    r = IrisInRationalConfigurationSpace(plant, \n",
    "                                         plant.GetMyContextFromRoot(context_for_iris),\n",
    "                                         q_star, iris_options)\n",
    "    iris_regions.append(r)\n",
    "    iris_ellipses.append(r.MaximumVolumeInscribedEllipsoid())\n",
    "    \n",
    "\n"
   ]
  },
  {
   "cell_type": "code",
   "execution_count": 17,
   "metadata": {},
   "outputs": [],
   "source": [
    "visualizer.add_group_of_regions_to_visualization(iris_regions, \"/uncertified-iris\", \n",
    "                                                            wireframe = False, opacity = 0.2)"
   ]
  },
  {
   "cell_type": "markdown",
   "metadata": {},
   "source": [
    "### These regions tend to be very large, but typically are not completely collision free. We can use the binary search method to find a uniform shrinking of these regions to prove their safety and then again improve them with bilinear alternations."
   ]
  },
  {
   "cell_type": "code",
   "execution_count": 18,
   "metadata": {},
   "outputs": [],
   "source": [
    "binary_search_options_for_iris = CspaceFreePolytope.BinarySearchOptions()\n",
    "binary_search_options_for_iris.scale_max = 1 # it is highly unlikely that the regions can grow, but we can try\n",
    "binary_search_options_for_iris.find_lagrangian_options = find_separation_certificate_given_polytope_options\n",
    "binary_search_options_for_iris.max_iter = 50"
   ]
  },
  {
   "cell_type": "code",
   "execution_count": 19,
   "metadata": {
    "scrolled": true
   },
   "outputs": [
    {
     "name": "stdout",
     "output_type": "stream",
     "text": [
      "starting seedpoint 1/4\n"
     ]
    },
    {
     "name": "stderr",
     "output_type": "stream",
     "text": [
      "INFO:drake:CspaceFreePolytope::BinarySearch(): scale_max=1 is feasible.\n"
     ]
    },
    {
     "name": "stdout",
     "output_type": "stream",
     "text": [
      "starting seedpoint 2/4\n"
     ]
    },
    {
     "name": "stderr",
     "output_type": "stream",
     "text": [
      "INFO:drake:CspaceFreePolytope::BinarySearch(): scale_max=1 is feasible.\n"
     ]
    },
    {
     "name": "stdout",
     "output_type": "stream",
     "text": [
      "starting seedpoint 3/4\n"
     ]
    },
    {
     "name": "stderr",
     "output_type": "stream",
     "text": [
      "INFO:drake:CspaceFreePolytope::BinarySearch(): scale_max=1 is feasible.\n"
     ]
    },
    {
     "name": "stdout",
     "output_type": "stream",
     "text": [
      "starting seedpoint 4/4\n"
     ]
    },
    {
     "name": "stderr",
     "output_type": "stream",
     "text": [
      "INFO:drake:CspaceFreePolytope::BinarySearch(): scale_max=1 is feasible.\n"
     ]
    }
   ],
   "source": [
    "binary_search_region_certificates_for_iris = dict.fromkeys([tuple(s) for s in seed_points])\n",
    "for i, (s, initial_region) in enumerate(zip(seed_points, iris_regions)):\n",
    "    print(f\"starting seedpoint {i+1}/{len(iris_regions)}\")\n",
    "    time.sleep(0.2)    \n",
    "    cert = cspace_free_polytope.BinarySearch(set(),\n",
    "                                                    initial_region.A(),\n",
    "                                                    initial_region.b(), \n",
    "                                                    initial_region.MaximumVolumeInscribedEllipsoid().center(), \n",
    "                                                    binary_search_options_for_iris)\n",
    "    binary_search_region_certificates_for_iris[tuple(s)] = [(HPolyhedron(cert.C, cert.d), cert)]"
   ]
  },
  {
   "cell_type": "code",
   "execution_count": 20,
   "metadata": {},
   "outputs": [],
   "source": [
    "for i, result in enumerate(binary_search_region_certificates_for_iris.values()):\n",
    "    group_name = f\"/certified-iris-bin_seed_point_{i}\"\n",
    "    visualizer.add_group_of_regions_and_certs_to_visualization(result, group_name, \n",
    "                                                            wireframe = False, opacity = 0.2)"
   ]
  },
  {
   "cell_type": "code",
   "execution_count": 21,
   "metadata": {},
   "outputs": [],
   "source": [
    "# Finally we grow the regions again using bilinear alternations.\n",
    "\n",
    "# There is a numerical bug in Mosek that kills the kernel of we try this\n",
    "bilinear_certified_regions_iris = binary_search_region_certificates_for_iris.copy()\n",
    "\n",
    "# There is a numerical bug in Mosek that kills the kernel of we try this.\n",
    "# for i, (s, region_start) in enumerate(bilinear_certified_regions_iris.items()):\n",
    "#     print(f\"starting seedpoint {i+1}/{len(initial_regions)}\")\n",
    "#     time.sleep(0.2)\n",
    "#     cur_s = np.array(s)\n",
    "#     bilinear_alternation_options.find_polytope_options.s_inner_pts = cur_s\n",
    "    \n",
    "#     # We back off a little bit from the binary search solution so that we don't encounter numerical issues.\n",
    "#     initial_region = scale_polytope_about_point(region_start[0][0], cur_s, 0.90)\n",
    "#     certificates = cspace_free_polytope.SearchWithBilinearAlternation(set(),\n",
    "#                                                                       initial_region.A(),\n",
    "#                                                                       initial_region.b(), \n",
    "#                                                                       bilinear_alternation_options)\n",
    "#     bilinear_certified_regions_iris[s] += [(HPolyhedron(result.C, result.d), result) for result in certificates]"
   ]
  },
  {
   "cell_type": "code",
   "execution_count": 22,
   "metadata": {},
   "outputs": [],
   "source": [
    "for i, result in enumerate(bilinear_certified_regions_iris.values()):\n",
    "    visualizer.add_group_of_regions_and_certs_to_visualization(result, \"/certified-iris-bin\", \n",
    "                                                            wireframe = False, opacity = 0.2)"
   ]
  },
  {
   "cell_type": "markdown",
   "metadata": {},
   "source": [
    "# Now it is time to play with the visualization! If you open the task space visualizer, we can highlight specific geometries and their separating planes in different regions.\n",
    "## Notice that when regions overlap, we get multiple planes certifying non-collision"
   ]
  },
  {
   "cell_type": "code",
   "execution_count": 23,
   "metadata": {},
   "outputs": [
    {
     "name": "stderr",
     "output_type": "stream",
     "text": [
      "Widget Javascript not detected.  It may not be installed or enabled properly. Reconnecting the current kernel may help.\n"
     ]
    },
    {
     "data": {
      "application/vnd.jupyter.widget-view+json": {
       "model_id": "410a9474c71e4721919b4b1f383a9b26"
      }
     },
     "metadata": {},
     "output_type": "display_data"
    },
    {
     "name": "stderr",
     "output_type": "stream",
     "text": [
      "Widget Javascript not detected.  It may not be installed or enabled properly. Reconnecting the current kernel may help.\n"
     ]
    },
    {
     "data": {
      "application/vnd.jupyter.widget-view+json": {
       "model_id": "a95bca2e6eec48c9936f32e3ce86e0f5"
      }
     },
     "metadata": {},
     "output_type": "display_data"
    }
   ],
   "source": [
    "# This plane certifies that the two tips of the flippers don't intersect\n",
    "visualizer.add_plane_indices_of_interest(118)\n",
    "\n",
    "# re-display the sliders for convenience\n",
    "for slider in sliders:\n",
    "    display(slider)"
   ]
  },
  {
   "cell_type": "code",
   "execution_count": 24,
   "metadata": {},
   "outputs": [],
   "source": [
    "# Uncomment this cell for an interface for choosing good planes of interest\n",
    "# plane_indices = np.arange(0, len(cspace_free_polytope.separating_planes()))\n",
    "# last_plane_index = 0\n",
    "# cur_plane_index = 0\n",
    "# plane_indices_to_geometries = {v: k for k,v in cspace_free_polytope.map_geometries_to_separating_planes().items()}\n",
    "\n",
    "# while True:\n",
    "#     visualizer.meshcat_task_space.Delete(f\"/plane_{last_plane_index}\")\n",
    "#     geom1, geom2 = plane_indices_to_geometries[cur_plane_index]\n",
    "#     color = Rgba(0,0,1,1)\n",
    "    \n",
    "#     prefix = f\"/plane_{cur_plane_index}\"\n",
    "#     visualizer.highlight_geometry_id(geom1, color, prefix+f\"/{geom1}\")\n",
    "#     visualizer.highlight_geometry_id(geom2, color, prefix+f\"/{geom2}\")\n",
    "#     print(f\"current plane index = {cur_plane_index}\")\n",
    "    \n",
    "#     last_plane_index = cur_plane_index\n",
    "#     valid_key_pressed = False\n",
    "#     while not valid_key_pressed:\n",
    "#         key_press = input(\"Enter d to increase plane_count, a to decrease, and e to exit...\")\n",
    "#         if key_press in [\"a\", \"d\", \"e\"]:\n",
    "#             valid_key_pressed = True\n",
    "#     if key_press == \"a\":\n",
    "#         cur_plane_index = max(cur_plane_index - 1, min(plane_indices))\n",
    "#     elif key_press == \"d\":\n",
    "#         cur_plane_index = min(cur_plane_index + 1, max(plane_indices))\n",
    "#     elif key_press == \"e\":\n",
    "#         break\n",
    "#     print()"
   ]
  },
  {
   "cell_type": "code",
   "execution_count": 25,
   "metadata": {},
   "outputs": [],
   "source": [
    "# Uncomment this cell for seeing all the planes associated to a particular geometry id\n",
    "# interesting_geometry = 92\n",
    "# plane_indices = np.arange(0, len(cspace_free_polytope.separating_planes()))\n",
    "# plane_indices_to_geometries = {v: k for k,v in cspace_free_polytope.map_geometries_to_separating_planes().items()}\n",
    "\n",
    "# associated_plane_indices = []\n",
    "# for plane_index, (geom1, geom2) in plane_indices_to_geometries.items():\n",
    "#     if interesting_geometry in (geom1.get_value(), geom2. get_value()):\n",
    "#         associated_plane_indices.append(plane_index)\n",
    "\n",
    "        \n",
    "# last_associated_index_index = 0\n",
    "# cur_associated_index_index = 0\n",
    "\n",
    "# visualizer.clear_plane_indices_of_interest()\n",
    "# while True:\n",
    "#     last_plane_index = associated_plane_indices[last_associated_index_index]\n",
    "#     cur_plane_index = associated_plane_indices[cur_associated_index_index]\n",
    "    \n",
    "#     print(f\"current plane index = {cur_plane_index}\")\n",
    "    \n",
    "#     visualizer.remove_plane_indices_of_interest(last_plane_index)\n",
    "#     visualizer.add_plane_indices_of_interest(cur_plane_index)\n",
    "    \n",
    "#     cur_q = visualizer.plant.GetPositions(visualizer.plant_context)\n",
    "#     visualizer.show_res_q(cur_q)\n",
    "    \n",
    "#     last_associated_index_index = cur_associated_index_index\n",
    "#     valid_key_pressed = False\n",
    "#     while not valid_key_pressed:\n",
    "#         key_press = input(\"Enter d to increase plane_count, a to decrease, and e to exit...\")\n",
    "#         if key_press in [\"a\", \"d\", \"e\"]:\n",
    "#             valid_key_pressed = True\n",
    "#     if key_press == \"a\":\n",
    "#         cur_associated_index_index = max(cur_associated_index_index - 1, min(associated_plane_indices))\n",
    "#     elif key_press == \"d\":\n",
    "#         cur_associated_index_index = min(cur_associated_index_index + 1, max(associated_plane_indices))\n",
    "#     elif key_press == \"e\":\n",
    "#         break\n",
    "#     print()"
   ]
  }
 ],
 "metadata": {
  "interpreter": {
   "hash": "31f2aee4e71d21fbe5cf8b01ff0e069b9275f58929596ceb00d14d90e3e16cd6"
  },
  "kernelspec": {
   "display_name": "Python 3 (ipykernel)",
   "language": "python",
   "name": "python3"
  },
  "language_info": {
   "codemirror_mode": {
    "name": "ipython",
    "version": 3
   },
   "file_extension": ".py",
   "mimetype": "text/x-python",
   "name": "python",
   "nbconvert_exporter": "python",
   "pygments_lexer": "ipython3",
   "version": "3.10.6"
  }
 },
 "nbformat": 4,
 "nbformat_minor": 2
}
